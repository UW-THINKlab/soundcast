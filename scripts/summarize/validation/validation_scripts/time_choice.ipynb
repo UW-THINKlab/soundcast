{
 "cells": [
  {
   "cell_type": "raw",
   "metadata": {},
   "source": [
    "---\n",
    "title: \"Time Choice\"\n",
    "date: today\n",
    "---"
   ]
  },
  {
   "cell_type": "code",
   "execution_count": 1,
   "metadata": {
    "ExecuteTime": {
     "end_time": "2024-07-15T04:25:53.491736Z",
     "start_time": "2024-07-15T04:25:52.116355Z"
    },
    "execution": {
     "iopub.execute_input": "2025-01-21T07:15:01.773370Z",
     "iopub.status.busy": "2025-01-21T07:15:01.771449Z",
     "iopub.status.idle": "2025-01-21T07:15:04.683882Z",
     "shell.execute_reply": "2025-01-21T07:15:04.682232Z"
    }
   },
   "outputs": [],
   "source": [
    "import os\n",
    "import pandas as pd\n",
    "import numpy as np\n",
    "# import validation_data_input\n",
    "import plotly.express as px\n",
    "import toml\n",
    "import polars as pl\n",
    "from pathlib import Path\n",
    "import util\n",
    "import math\n",
    "import psrc_theme\n",
    "\n",
    "# to show plotly figures in quarto HTML file\n",
    "import plotly.io as pio\n",
    "pio.renderers.default = \"plotly_mimetype+notebook_connected\"\n",
    "pio.templates.default = \"simple_white+psrc_color\" # set plotly template"
   ]
  },
  {
   "cell_type": "code",
   "execution_count": 2,
   "metadata": {
    "ExecuteTime": {
     "end_time": "2024-07-15T04:26:18.475538Z",
     "start_time": "2024-07-15T04:25:57.037934Z"
    },
    "execution": {
     "iopub.execute_input": "2025-01-21T07:15:04.693991Z",
     "iopub.status.busy": "2025-01-21T07:15:04.693469Z",
     "iopub.status.idle": "2025-01-21T07:15:20.222468Z",
     "shell.execute_reply": "2025-01-21T07:15:20.219893Z"
    }
   },
   "outputs": [],
   "source": [
    "# %store -r validation_data\n",
    "\n",
    "# config = validation_data.config.copy()\n",
    "# tour = validation_data.tour.copy()\n",
    "# trip = validation_data.trip.copy()\n",
    "\n",
    "config = toml.load(Path(Path.cwd(), '..\\..\\..\\..\\configuration', 'validation_configuration.toml'))\n",
    "input_config = toml.load(Path(Path.cwd(), '..\\..\\..\\..\\configuration', 'input_configuration.toml'))\n",
    "\n",
    "data = util.ValidationData(config,input_config,['trip', 'tour'])\n",
    "\n",
    "tour = data.tour.to_pandas()\n",
    "trip = data.trip.to_pandas()"
   ]
  },
  {
   "cell_type": "code",
   "execution_count": 3,
   "metadata": {
    "ExecuteTime": {
     "end_time": "2024-07-15T04:36:01.318077Z",
     "start_time": "2024-07-15T04:35:58.005548Z"
    },
    "collapsed": false,
    "execution": {
     "iopub.execute_input": "2025-01-21T07:15:20.235367Z",
     "iopub.status.busy": "2025-01-21T07:15:20.233373Z",
     "iopub.status.idle": "2025-01-21T07:15:32.449402Z",
     "shell.execute_reply": "2025-01-21T07:15:32.447410Z"
    }
   },
   "outputs": [],
   "source": [
    "# df_person = person.copy()\n",
    "df_tour = tour.copy()\n",
    "df_trip = trip.copy()\n",
    "\n",
    "# ptype_cat = {1: \"1: full time worker\",\n",
    "#              2: \"2: part time worker\",\n",
    "#              3: \"3: non-worker age 65+\",\n",
    "#              4: \"4: other non-working adult\",\n",
    "#              5: \"5: university student\",\n",
    "#              6: \"6: grade school student/child age 16+\",\n",
    "#              7: \"7: child age 5-15\",\n",
    "#              8: \"8: child age 0-4\"}\n",
    "pdpurp_cat = {1: \"Work\",\n",
    "              2: \"School\",\n",
    "              3: \"Escort\",\n",
    "              4: \"Personal Business\",\n",
    "              5: \"Shop\",\n",
    "              6: \"Meal\",\n",
    "              7: \"Social\",\n",
    "              8: \"Social\",\n",
    "              9: \"Personal Business\"}\n",
    "# df_person['pptyp_label'] = df_person['pptyp'].map(ptype_cat)\n",
    "# df_person['pptyp_label'] = df_person['pptyp_label'].astype(pd.CategoricalDtype([\"1: full time worker\",\"2: part time worker\",\"3: non-worker age 65+\",\"4: other non-working adult\",\"5: university student\",\"6: grade school student/child age 16+\",\"7: child age 5-15\",\"8: child age 0-4\"]))\n",
    "\n",
    "df_tour['pdpurp_label'] = df_tour['pdpurp'].map(pdpurp_cat)\n",
    "df_tour['pdpurp_label'] = df_tour['pdpurp_label'].astype(pd.CategoricalDtype([\"Work\",\"School\",\"Shop\",\"Meal\",\"Escort\",\"Personal Business\"]))\n",
    "\n",
    "df_tour['tlvorg_hr'] = df_tour['tlvorig'].apply(lambda row: int(math.floor(row/60)))\n",
    "\n",
    "\n",
    "df_trip['dpurp_label'] = df_trip['dpurp'].map(pdpurp_cat)\n",
    "df_trip['dpurp_label'] = df_trip['dpurp_label'].astype(pd.CategoricalDtype([\"Work\",\"School\",\"Shop\",\"Meal\",\"Escort\",\"Personal Business\"]))\n",
    "\n",
    "df_trip['dept_hr'] = df_trip['deptm'].apply(lambda row: int(math.floor(row/60)))\n",
    "\n",
    "# df_tour = df_tour.merge(df_person, how='left', on=['pno','hhno','source'])"
   ]
  },
  {
   "cell_type": "markdown",
   "metadata": {},
   "source": [
    "## departure hour"
   ]
  },
  {
   "cell_type": "raw",
   "metadata": {
    "vscode": {
     "languageId": "raw"
    }
   },
   "source": [
    ":::{.panel-tabset}\n",
    "### tour"
   ]
  },
  {
   "cell_type": "code",
   "execution_count": 4,
   "metadata": {
    "ExecuteTime": {
     "end_time": "2024-07-15T04:37:09.021826Z",
     "start_time": "2024-07-15T04:37:08.286683Z"
    },
    "collapsed": false,
    "execution": {
     "iopub.execute_input": "2025-01-21T07:15:32.462368Z",
     "iopub.status.busy": "2025-01-21T07:15:32.460374Z",
     "iopub.status.idle": "2025-01-21T07:15:33.316015Z",
     "shell.execute_reply": "2025-01-21T07:15:33.315014Z"
    }
   },
   "outputs": [
    {
     "data": {
      "text/html": [
       "        <script type=\"text/javascript\">\n",
       "        window.PlotlyConfig = {MathJaxConfig: 'local'};\n",
       "        if (window.MathJax && window.MathJax.Hub && window.MathJax.Hub.Config) {window.MathJax.Hub.Config({SVG: {font: \"STIX-Web\"}});}\n",
       "        if (typeof require !== 'undefined') {\n",
       "        require.undef(\"plotly\");\n",
       "        requirejs.config({\n",
       "            paths: {\n",
       "                'plotly': ['https://cdn.plot.ly/plotly-2.27.0.min']\n",
       "            }\n",
       "        });\n",
       "        require(['plotly'], function(Plotly) {\n",
       "            window._Plotly = Plotly;\n",
       "        });\n",
       "        }\n",
       "        </script>\n",
       "        "
      ]
     },
     "metadata": {},
     "output_type": "display_data"
    },
    {
     "data": {
      "application/vnd.plotly.v1+json": {
       "config": {
        "plotlyServerURL": "https://plot.ly"
       },
       "data": [
        {
         "alignmentgroup": "True",
         "customdata": [
          [
           3559.0,
           3559.0
          ],
          [
           2366.0,
           2366.0
          ],
          [
           906.0,
           906.0
          ],
          [
           68700.0,
           68700.0
          ],
          [
           59962.0,
           59962.0
          ],
          [
           134354.0,
           134354.0
          ],
          [
           389890.0,
           389890.0
          ],
          [
           623958.0,
           623958.0
          ],
          [
           671801.0,
           671801.0
          ],
          [
           529578.0,
           529578.0
          ],
          [
           429803.0,
           429803.0
          ],
          [
           346207.0,
           346207.0
          ],
          [
           316684.0,
           316684.0
          ],
          [
           311943.0,
           311943.0
          ],
          [
           278137.0,
           278137.0
          ],
          [
           262237.0,
           262237.0
          ],
          [
           290831.0,
           290831.0
          ],
          [
           278779.0,
           278779.0
          ],
          [
           259408.0,
           259408.0
          ],
          [
           161390.0,
           161390.0
          ],
          [
           117247.0,
           117247.0
          ],
          [
           69579.0,
           69579.0
          ],
          [
           18263.0,
           18263.0
          ],
          [
           8847.0,
           8847.0
          ]
         ],
         "hovertemplate": "source=model<br>tlvorg_hr=%{x}<br>percentage=%{y}<br>toexpfac=%{customdata[0]}<br>sample_count=%{customdata[1]}<extra></extra>",
         "legendgroup": "model",
         "marker": {
          "color": "#91268F",
          "pattern": {
           "shape": ""
          }
         },
         "name": "model",
         "offsetgroup": "model",
         "orientation": "v",
         "showlegend": true,
         "textposition": "auto",
         "type": "bar",
         "x": [
          0,
          1,
          2,
          3,
          4,
          5,
          6,
          7,
          8,
          9,
          10,
          11,
          12,
          13,
          14,
          15,
          16,
          17,
          18,
          19,
          20,
          21,
          22,
          23
         ],
         "xaxis": "x",
         "y": [
          0.0006316522934267163,
          0.00041991832712773557,
          0.0001607971278012377,
          0.012192894790226304,
          0.010642072160284564,
          0.023845184667337187,
          0.06919778383932072,
          0.11074023649956366,
          0.11923142522516479,
          0.09398964828556718,
          0.07628155399597723,
          0.061444913051526606,
          0.0562051629366525,
          0.055363728959935424,
          0.04936383083361242,
          0.046541894484782756,
          0.05161676542556486,
          0.04947777316920667,
          0.04603980279101928,
          0.028643541341988692,
          0.02080902962837938,
          0.012348899950642736,
          0.00324132223513687,
          0.0015701679797544702
         ],
         "yaxis": "y"
        },
        {
         "alignmentgroup": "True",
         "customdata": [
          [
           813.007669491988,
           3.0
          ],
          [
           343.465611943163,
           2.0
          ],
          [
           617.9592545767886,
           3.0
          ],
          [
           14927.739086908197,
           25.0
          ],
          [
           73101.8144105899,
           78.0
          ],
          [
           163636.25248424144,
           191.0
          ],
          [
           335652.1346855101,
           553.0
          ],
          [
           730811.1492257945,
           1232.0
          ],
          [
           697157.1239973342,
           1310.0
          ],
          [
           433940.27310888824,
           873.0
          ],
          [
           255033.2858527314,
           740.0
          ],
          [
           267196.5649325102,
           625.0
          ],
          [
           235334.41681136494,
           650.0
          ],
          [
           203713.7733090544,
           564.0
          ],
          [
           298164.4385508458,
           602.0
          ],
          [
           329066.499373072,
           629.0
          ],
          [
           254572.78014360953,
           576.0
          ],
          [
           328088.48412682384,
           738.0
          ],
          [
           218232.93433914697,
           539.0
          ],
          [
           137976.2078379954,
           361.0
          ],
          [
           40884.94150500458,
           149.0
          ],
          [
           8589.542691990913,
           72.0
          ],
          [
           18856.86935525195,
           32.0
          ],
          [
           4010.387836515724,
           10.0
          ]
         ],
         "hovertemplate": "source=survey<br>tlvorg_hr=%{x}<br>percentage=%{y}<br>toexpfac=%{customdata[0]}<br>sample_count=%{customdata[1]}<extra></extra>",
         "legendgroup": "survey",
         "marker": {
          "color": "#8CC63E",
          "pattern": {
           "shape": ""
          }
         },
         "name": "survey",
         "offsetgroup": "survey",
         "orientation": "v",
         "showlegend": true,
         "textposition": "auto",
         "type": "bar",
         "x": [
          0,
          1,
          2,
          3,
          4,
          5,
          6,
          7,
          8,
          9,
          10,
          11,
          12,
          13,
          14,
          15,
          16,
          17,
          18,
          19,
          20,
          21,
          22,
          23
         ],
         "xaxis": "x",
         "y": [
          0.0001609686025196093,
          6.800326939422338e-05,
          0.00012235067559133943,
          0.0029555653529054946,
          0.014473537395622876,
          0.03239858598184339,
          0.06645626736437901,
          0.1446943907308184,
          0.13803118002141646,
          0.08591648266118072,
          0.05049442109857339,
          0.05290264688659258,
          0.0465942126014175,
          0.0403335941763562,
          0.05903402242756647,
          0.06515236759476263,
          0.05040324488556673,
          0.06495872889572082,
          0.04320826454967695,
          0.02731811542505523,
          0.00809487062067797,
          0.00170065638406124,
          0.0037334997219723833,
          0.0007940226763284391
         ],
         "yaxis": "y"
        },
        {
         "alignmentgroup": "True",
         "customdata": [
          [
           818.5256193266233,
           8.0
          ],
          [
           72.74800084760997,
           4.0
          ],
          [
           13907.131040594093,
           47.0
          ],
          [
           60835.642021048836,
           193.0
          ],
          [
           210793.99623853824,
           614.0
          ],
          [
           463781.35173573333,
           1742.0
          ],
          [
           728580.9263172238,
           3462.0
          ],
          [
           686425.8292300178,
           3437.0
          ],
          [
           515595.7618101818,
           2078.0
          ],
          [
           378753.0073236862,
           1390.0
          ],
          [
           378741.1542697421,
           1253.0
          ],
          [
           278401.2763422066,
           1252.0
          ],
          [
           194406.7394197493,
           1004.0
          ],
          [
           230822.26930435168,
           927.0
          ],
          [
           277120.1887803302,
           1021.0
          ],
          [
           235919.8171498615,
           1105.0
          ],
          [
           410021.96131048887,
           1314.0
          ],
          [
           247964.64092777378,
           1373.0
          ],
          [
           148297.12773754023,
           880.0
          ],
          [
           58633.34622816313,
           418.0
          ],
          [
           32946.76056178034,
           185.0
          ],
          [
           9024.613185245682,
           61.0
          ],
          [
           3629.930451363426,
           18.0
          ]
         ],
         "hovertemplate": "source=survey (2017/2019)<br>tlvorg_hr=%{x}<br>percentage=%{y}<br>toexpfac=%{customdata[0]}<br>sample_count=%{customdata[1]}<extra></extra>",
         "legendgroup": "survey (2017/2019)",
         "marker": {
          "color": "#00A7A0",
          "pattern": {
           "shape": ""
          }
         },
         "name": "survey (2017/2019)",
         "offsetgroup": "survey (2017/2019)",
         "orientation": "v",
         "showlegend": true,
         "textposition": "auto",
         "type": "bar",
         "x": [
          0,
          2,
          3,
          4,
          5,
          6,
          7,
          8,
          9,
          10,
          11,
          12,
          13,
          14,
          15,
          16,
          17,
          18,
          19,
          20,
          21,
          22,
          23
         ],
         "xaxis": "x",
         "y": [
          0.00014707149262177072,
          1.3071254970259475e-05,
          0.0024988130755264266,
          0.010930859664478132,
          0.03787515861508891,
          0.08333155864569063,
          0.1309103610188505,
          0.12333599449464636,
          0.09264149647663444,
          0.068053789407233,
          0.06805165966774222,
          0.050022736359967,
          0.034930720147422746,
          0.04147380958565821,
          0.04979255241036827,
          0.042389729567450324,
          0.07367214957455899,
          0.04455392598300183,
          0.02664581219317742,
          0.010535154359956563,
          0.005919826012116025,
          0.001621529369575622,
          0.0006522206232645805
         ],
         "yaxis": "y"
        }
       ],
       "layout": {
        "barmode": "group",
        "font": {
         "size": 11
        },
        "height": 400,
        "legend": {
         "title": {
          "text": "source"
         },
         "tracegroupgap": 0
        },
        "template": {
         "data": {
          "bar": [
           {
            "error_x": {
             "color": "rgb(36,36,36)"
            },
            "error_y": {
             "color": "rgb(36,36,36)"
            },
            "marker": {
             "line": {
              "color": "white",
              "width": 0.5
             },
             "pattern": {
              "fillmode": "overlay",
              "size": 10,
              "solidity": 0.2
             }
            },
            "type": "bar"
           }
          ],
          "barpolar": [
           {
            "marker": {
             "line": {
              "color": "white",
              "width": 0.5
             },
             "pattern": {
              "fillmode": "overlay",
              "size": 10,
              "solidity": 0.2
             }
            },
            "type": "barpolar"
           }
          ],
          "carpet": [
           {
            "aaxis": {
             "endlinecolor": "rgb(36,36,36)",
             "gridcolor": "white",
             "linecolor": "white",
             "minorgridcolor": "white",
             "startlinecolor": "rgb(36,36,36)"
            },
            "baxis": {
             "endlinecolor": "rgb(36,36,36)",
             "gridcolor": "white",
             "linecolor": "white",
             "minorgridcolor": "white",
             "startlinecolor": "rgb(36,36,36)"
            },
            "type": "carpet"
           }
          ],
          "choropleth": [
           {
            "colorbar": {
             "outlinewidth": 1,
             "tickcolor": "rgb(36,36,36)",
             "ticks": "outside"
            },
            "type": "choropleth"
           }
          ],
          "contour": [
           {
            "colorbar": {
             "outlinewidth": 1,
             "tickcolor": "rgb(36,36,36)",
             "ticks": "outside"
            },
            "colorscale": [
             [
              0.0,
              "#440154"
             ],
             [
              0.1111111111111111,
              "#482878"
             ],
             [
              0.2222222222222222,
              "#3e4989"
             ],
             [
              0.3333333333333333,
              "#31688e"
             ],
             [
              0.4444444444444444,
              "#26828e"
             ],
             [
              0.5555555555555556,
              "#1f9e89"
             ],
             [
              0.6666666666666666,
              "#35b779"
             ],
             [
              0.7777777777777778,
              "#6ece58"
             ],
             [
              0.8888888888888888,
              "#b5de2b"
             ],
             [
              1.0,
              "#fde725"
             ]
            ],
            "type": "contour"
           }
          ],
          "contourcarpet": [
           {
            "colorbar": {
             "outlinewidth": 1,
             "tickcolor": "rgb(36,36,36)",
             "ticks": "outside"
            },
            "type": "contourcarpet"
           }
          ],
          "heatmap": [
           {
            "colorbar": {
             "outlinewidth": 1,
             "tickcolor": "rgb(36,36,36)",
             "ticks": "outside"
            },
            "colorscale": [
             [
              0.0,
              "#440154"
             ],
             [
              0.1111111111111111,
              "#482878"
             ],
             [
              0.2222222222222222,
              "#3e4989"
             ],
             [
              0.3333333333333333,
              "#31688e"
             ],
             [
              0.4444444444444444,
              "#26828e"
             ],
             [
              0.5555555555555556,
              "#1f9e89"
             ],
             [
              0.6666666666666666,
              "#35b779"
             ],
             [
              0.7777777777777778,
              "#6ece58"
             ],
             [
              0.8888888888888888,
              "#b5de2b"
             ],
             [
              1.0,
              "#fde725"
             ]
            ],
            "type": "heatmap"
           }
          ],
          "heatmapgl": [
           {
            "colorbar": {
             "outlinewidth": 1,
             "tickcolor": "rgb(36,36,36)",
             "ticks": "outside"
            },
            "colorscale": [
             [
              0.0,
              "#440154"
             ],
             [
              0.1111111111111111,
              "#482878"
             ],
             [
              0.2222222222222222,
              "#3e4989"
             ],
             [
              0.3333333333333333,
              "#31688e"
             ],
             [
              0.4444444444444444,
              "#26828e"
             ],
             [
              0.5555555555555556,
              "#1f9e89"
             ],
             [
              0.6666666666666666,
              "#35b779"
             ],
             [
              0.7777777777777778,
              "#6ece58"
             ],
             [
              0.8888888888888888,
              "#b5de2b"
             ],
             [
              1.0,
              "#fde725"
             ]
            ],
            "type": "heatmapgl"
           }
          ],
          "histogram": [
           {
            "marker": {
             "line": {
              "color": "white",
              "width": 0.6
             }
            },
            "type": "histogram"
           }
          ],
          "histogram2d": [
           {
            "colorbar": {
             "outlinewidth": 1,
             "tickcolor": "rgb(36,36,36)",
             "ticks": "outside"
            },
            "colorscale": [
             [
              0.0,
              "#440154"
             ],
             [
              0.1111111111111111,
              "#482878"
             ],
             [
              0.2222222222222222,
              "#3e4989"
             ],
             [
              0.3333333333333333,
              "#31688e"
             ],
             [
              0.4444444444444444,
              "#26828e"
             ],
             [
              0.5555555555555556,
              "#1f9e89"
             ],
             [
              0.6666666666666666,
              "#35b779"
             ],
             [
              0.7777777777777778,
              "#6ece58"
             ],
             [
              0.8888888888888888,
              "#b5de2b"
             ],
             [
              1.0,
              "#fde725"
             ]
            ],
            "type": "histogram2d"
           }
          ],
          "histogram2dcontour": [
           {
            "colorbar": {
             "outlinewidth": 1,
             "tickcolor": "rgb(36,36,36)",
             "ticks": "outside"
            },
            "colorscale": [
             [
              0.0,
              "#440154"
             ],
             [
              0.1111111111111111,
              "#482878"
             ],
             [
              0.2222222222222222,
              "#3e4989"
             ],
             [
              0.3333333333333333,
              "#31688e"
             ],
             [
              0.4444444444444444,
              "#26828e"
             ],
             [
              0.5555555555555556,
              "#1f9e89"
             ],
             [
              0.6666666666666666,
              "#35b779"
             ],
             [
              0.7777777777777778,
              "#6ece58"
             ],
             [
              0.8888888888888888,
              "#b5de2b"
             ],
             [
              1.0,
              "#fde725"
             ]
            ],
            "type": "histogram2dcontour"
           }
          ],
          "mesh3d": [
           {
            "colorbar": {
             "outlinewidth": 1,
             "tickcolor": "rgb(36,36,36)",
             "ticks": "outside"
            },
            "type": "mesh3d"
           }
          ],
          "parcoords": [
           {
            "line": {
             "colorbar": {
              "outlinewidth": 1,
              "tickcolor": "rgb(36,36,36)",
              "ticks": "outside"
             }
            },
            "type": "parcoords"
           }
          ],
          "pie": [
           {
            "automargin": true,
            "type": "pie"
           }
          ],
          "scatter": [
           {
            "fillpattern": {
             "fillmode": "overlay",
             "size": 10,
             "solidity": 0.2
            },
            "type": "scatter"
           }
          ],
          "scatter3d": [
           {
            "line": {
             "colorbar": {
              "outlinewidth": 1,
              "tickcolor": "rgb(36,36,36)",
              "ticks": "outside"
             }
            },
            "marker": {
             "colorbar": {
              "outlinewidth": 1,
              "tickcolor": "rgb(36,36,36)",
              "ticks": "outside"
             }
            },
            "type": "scatter3d"
           }
          ],
          "scattercarpet": [
           {
            "marker": {
             "colorbar": {
              "outlinewidth": 1,
              "tickcolor": "rgb(36,36,36)",
              "ticks": "outside"
             }
            },
            "type": "scattercarpet"
           }
          ],
          "scattergeo": [
           {
            "marker": {
             "colorbar": {
              "outlinewidth": 1,
              "tickcolor": "rgb(36,36,36)",
              "ticks": "outside"
             }
            },
            "type": "scattergeo"
           }
          ],
          "scattergl": [
           {
            "marker": {
             "colorbar": {
              "outlinewidth": 1,
              "tickcolor": "rgb(36,36,36)",
              "ticks": "outside"
             }
            },
            "type": "scattergl"
           }
          ],
          "scattermapbox": [
           {
            "marker": {
             "colorbar": {
              "outlinewidth": 1,
              "tickcolor": "rgb(36,36,36)",
              "ticks": "outside"
             }
            },
            "type": "scattermapbox"
           }
          ],
          "scatterpolar": [
           {
            "marker": {
             "colorbar": {
              "outlinewidth": 1,
              "tickcolor": "rgb(36,36,36)",
              "ticks": "outside"
             }
            },
            "type": "scatterpolar"
           }
          ],
          "scatterpolargl": [
           {
            "marker": {
             "colorbar": {
              "outlinewidth": 1,
              "tickcolor": "rgb(36,36,36)",
              "ticks": "outside"
             }
            },
            "type": "scatterpolargl"
           }
          ],
          "scatterternary": [
           {
            "marker": {
             "colorbar": {
              "outlinewidth": 1,
              "tickcolor": "rgb(36,36,36)",
              "ticks": "outside"
             }
            },
            "type": "scatterternary"
           }
          ],
          "surface": [
           {
            "colorbar": {
             "outlinewidth": 1,
             "tickcolor": "rgb(36,36,36)",
             "ticks": "outside"
            },
            "colorscale": [
             [
              0.0,
              "#440154"
             ],
             [
              0.1111111111111111,
              "#482878"
             ],
             [
              0.2222222222222222,
              "#3e4989"
             ],
             [
              0.3333333333333333,
              "#31688e"
             ],
             [
              0.4444444444444444,
              "#26828e"
             ],
             [
              0.5555555555555556,
              "#1f9e89"
             ],
             [
              0.6666666666666666,
              "#35b779"
             ],
             [
              0.7777777777777778,
              "#6ece58"
             ],
             [
              0.8888888888888888,
              "#b5de2b"
             ],
             [
              1.0,
              "#fde725"
             ]
            ],
            "type": "surface"
           }
          ],
          "table": [
           {
            "cells": {
             "fill": {
              "color": "rgb(237,237,237)"
             },
             "line": {
              "color": "white"
             }
            },
            "header": {
             "fill": {
              "color": "rgb(217,217,217)"
             },
             "line": {
              "color": "white"
             }
            },
            "type": "table"
           }
          ]
         },
         "layout": {
          "annotationdefaults": {
           "arrowhead": 0,
           "arrowwidth": 1
          },
          "autotypenumbers": "strict",
          "coloraxis": {
           "colorbar": {
            "outlinewidth": 1,
            "tickcolor": "rgb(36,36,36)",
            "ticks": "outside"
           }
          },
          "colorscale": {
           "diverging": [
            [
             0.0,
             "rgb(103,0,31)"
            ],
            [
             0.1,
             "rgb(178,24,43)"
            ],
            [
             0.2,
             "rgb(214,96,77)"
            ],
            [
             0.3,
             "rgb(244,165,130)"
            ],
            [
             0.4,
             "rgb(253,219,199)"
            ],
            [
             0.5,
             "rgb(247,247,247)"
            ],
            [
             0.6,
             "rgb(209,229,240)"
            ],
            [
             0.7,
             "rgb(146,197,222)"
            ],
            [
             0.8,
             "rgb(67,147,195)"
            ],
            [
             0.9,
             "rgb(33,102,172)"
            ],
            [
             1.0,
             "rgb(5,48,97)"
            ]
           ],
           "sequential": [
            [
             0.0,
             "#440154"
            ],
            [
             0.1111111111111111,
             "#482878"
            ],
            [
             0.2222222222222222,
             "#3e4989"
            ],
            [
             0.3333333333333333,
             "#31688e"
            ],
            [
             0.4444444444444444,
             "#26828e"
            ],
            [
             0.5555555555555556,
             "#1f9e89"
            ],
            [
             0.6666666666666666,
             "#35b779"
            ],
            [
             0.7777777777777778,
             "#6ece58"
            ],
            [
             0.8888888888888888,
             "#b5de2b"
            ],
            [
             1.0,
             "#fde725"
            ]
           ],
           "sequentialminus": [
            [
             0.0,
             "#440154"
            ],
            [
             0.1111111111111111,
             "#482878"
            ],
            [
             0.2222222222222222,
             "#3e4989"
            ],
            [
             0.3333333333333333,
             "#31688e"
            ],
            [
             0.4444444444444444,
             "#26828e"
            ],
            [
             0.5555555555555556,
             "#1f9e89"
            ],
            [
             0.6666666666666666,
             "#35b779"
            ],
            [
             0.7777777777777778,
             "#6ece58"
            ],
            [
             0.8888888888888888,
             "#b5de2b"
            ],
            [
             1.0,
             "#fde725"
            ]
           ]
          },
          "colorway": [
           "#91268F",
           "#8CC63E",
           "#00A7A0",
           "#F05A28",
           "#4C4C4C",
           "#630460",
           "#9f3913",
           "#588527",
           "#00716c",
           "#3e4040"
          ],
          "font": {
           "color": "rgb(36,36,36)",
           "family": "Poppins",
           "size": 11
          },
          "geo": {
           "bgcolor": "white",
           "lakecolor": "white",
           "landcolor": "white",
           "showlakes": true,
           "showland": true,
           "subunitcolor": "white"
          },
          "hoverlabel": {
           "align": "left"
          },
          "hovermode": "closest",
          "mapbox": {
           "style": "light"
          },
          "paper_bgcolor": "white",
          "plot_bgcolor": "white",
          "polar": {
           "angularaxis": {
            "gridcolor": "rgb(232,232,232)",
            "linecolor": "rgb(36,36,36)",
            "showgrid": false,
            "showline": true,
            "ticks": "outside"
           },
           "bgcolor": "white",
           "radialaxis": {
            "gridcolor": "rgb(232,232,232)",
            "linecolor": "rgb(36,36,36)",
            "showgrid": false,
            "showline": true,
            "ticks": "outside"
           }
          },
          "scene": {
           "xaxis": {
            "backgroundcolor": "white",
            "gridcolor": "rgb(232,232,232)",
            "gridwidth": 2,
            "linecolor": "rgb(36,36,36)",
            "showbackground": true,
            "showgrid": false,
            "showline": true,
            "ticks": "outside",
            "zeroline": false,
            "zerolinecolor": "rgb(36,36,36)"
           },
           "yaxis": {
            "backgroundcolor": "white",
            "gridcolor": "rgb(232,232,232)",
            "gridwidth": 2,
            "linecolor": "rgb(36,36,36)",
            "showbackground": true,
            "showgrid": false,
            "showline": true,
            "ticks": "outside",
            "zeroline": false,
            "zerolinecolor": "rgb(36,36,36)"
           },
           "zaxis": {
            "backgroundcolor": "white",
            "gridcolor": "rgb(232,232,232)",
            "gridwidth": 2,
            "linecolor": "rgb(36,36,36)",
            "showbackground": true,
            "showgrid": false,
            "showline": true,
            "ticks": "outside",
            "zeroline": false,
            "zerolinecolor": "rgb(36,36,36)"
           }
          },
          "shapedefaults": {
           "fillcolor": "black",
           "line": {
            "width": 0
           },
           "opacity": 0.3
          },
          "ternary": {
           "aaxis": {
            "gridcolor": "rgb(232,232,232)",
            "linecolor": "rgb(36,36,36)",
            "showgrid": false,
            "showline": true,
            "ticks": "outside"
           },
           "baxis": {
            "gridcolor": "rgb(232,232,232)",
            "linecolor": "rgb(36,36,36)",
            "showgrid": false,
            "showline": true,
            "ticks": "outside"
           },
           "bgcolor": "white",
           "caxis": {
            "gridcolor": "rgb(232,232,232)",
            "linecolor": "rgb(36,36,36)",
            "showgrid": false,
            "showline": true,
            "ticks": "outside"
           }
          },
          "title": {
           "x": 0.05
          },
          "xaxis": {
           "automargin": true,
           "gridcolor": "rgb(232,232,232)",
           "linecolor": "rgb(36,36,36)",
           "showgrid": false,
           "showline": true,
           "ticks": "outside",
           "title": {
            "standoff": 15
           },
           "zeroline": false,
           "zerolinecolor": "rgb(36,36,36)"
          },
          "yaxis": {
           "automargin": true,
           "gridcolor": "rgb(232,232,232)",
           "linecolor": "rgb(36,36,36)",
           "showgrid": false,
           "showline": true,
           "ticks": "outside",
           "title": {
            "standoff": 15
           },
           "zeroline": false,
           "zerolinecolor": "rgb(36,36,36)"
          }
         }
        },
        "title": {
         "text": "tour origin departure hour"
        },
        "width": 700,
        "xaxis": {
         "anchor": "y",
         "categoryorder": "category ascending",
         "domain": [
          0.0,
          1.0
         ],
         "dtick": 1,
         "title": {
          "text": "tlvorg_hr"
         }
        },
        "yaxis": {
         "anchor": "x",
         "domain": [
          0.0,
          1.0
         ],
         "tickformat": ".0%",
         "title": {
          "text": "percentage"
         }
        }
       }
      },
      "text/html": [
       "<div>                            <div id=\"53788e47-290b-43ab-afc7-0ec4b0e368de\" class=\"plotly-graph-div\" style=\"height:400px; width:700px;\"></div>            <script type=\"text/javascript\">                require([\"plotly\"], function(Plotly) {                    window.PLOTLYENV=window.PLOTLYENV || {};                                    if (document.getElementById(\"53788e47-290b-43ab-afc7-0ec4b0e368de\")) {                    Plotly.newPlot(                        \"53788e47-290b-43ab-afc7-0ec4b0e368de\",                        [{\"alignmentgroup\":\"True\",\"customdata\":[[3559.0,3559.0],[2366.0,2366.0],[906.0,906.0],[68700.0,68700.0],[59962.0,59962.0],[134354.0,134354.0],[389890.0,389890.0],[623958.0,623958.0],[671801.0,671801.0],[529578.0,529578.0],[429803.0,429803.0],[346207.0,346207.0],[316684.0,316684.0],[311943.0,311943.0],[278137.0,278137.0],[262237.0,262237.0],[290831.0,290831.0],[278779.0,278779.0],[259408.0,259408.0],[161390.0,161390.0],[117247.0,117247.0],[69579.0,69579.0],[18263.0,18263.0],[8847.0,8847.0]],\"hovertemplate\":\"source=model\\u003cbr\\u003etlvorg_hr=%{x}\\u003cbr\\u003epercentage=%{y}\\u003cbr\\u003etoexpfac=%{customdata[0]}\\u003cbr\\u003esample_count=%{customdata[1]}\\u003cextra\\u003e\\u003c\\u002fextra\\u003e\",\"legendgroup\":\"model\",\"marker\":{\"color\":\"#91268F\",\"pattern\":{\"shape\":\"\"}},\"name\":\"model\",\"offsetgroup\":\"model\",\"orientation\":\"v\",\"showlegend\":true,\"textposition\":\"auto\",\"x\":[0,1,2,3,4,5,6,7,8,9,10,11,12,13,14,15,16,17,18,19,20,21,22,23],\"xaxis\":\"x\",\"y\":[0.0006316522934267163,0.00041991832712773557,0.0001607971278012377,0.012192894790226304,0.010642072160284564,0.023845184667337187,0.06919778383932072,0.11074023649956366,0.11923142522516479,0.09398964828556718,0.07628155399597723,0.061444913051526606,0.0562051629366525,0.055363728959935424,0.04936383083361242,0.046541894484782756,0.05161676542556486,0.04947777316920667,0.04603980279101928,0.028643541341988692,0.02080902962837938,0.012348899950642736,0.00324132223513687,0.0015701679797544702],\"yaxis\":\"y\",\"type\":\"bar\"},{\"alignmentgroup\":\"True\",\"customdata\":[[813.007669491988,3.0],[343.465611943163,2.0],[617.9592545767886,3.0],[14927.739086908197,25.0],[73101.8144105899,78.0],[163636.25248424144,191.0],[335652.1346855101,553.0],[730811.1492257945,1232.0],[697157.1239973342,1310.0],[433940.27310888824,873.0],[255033.2858527314,740.0],[267196.5649325102,625.0],[235334.41681136494,650.0],[203713.7733090544,564.0],[298164.4385508458,602.0],[329066.499373072,629.0],[254572.78014360953,576.0],[328088.48412682384,738.0],[218232.93433914697,539.0],[137976.2078379954,361.0],[40884.94150500458,149.0],[8589.542691990913,72.0],[18856.86935525195,32.0],[4010.387836515724,10.0]],\"hovertemplate\":\"source=survey\\u003cbr\\u003etlvorg_hr=%{x}\\u003cbr\\u003epercentage=%{y}\\u003cbr\\u003etoexpfac=%{customdata[0]}\\u003cbr\\u003esample_count=%{customdata[1]}\\u003cextra\\u003e\\u003c\\u002fextra\\u003e\",\"legendgroup\":\"survey\",\"marker\":{\"color\":\"#8CC63E\",\"pattern\":{\"shape\":\"\"}},\"name\":\"survey\",\"offsetgroup\":\"survey\",\"orientation\":\"v\",\"showlegend\":true,\"textposition\":\"auto\",\"x\":[0,1,2,3,4,5,6,7,8,9,10,11,12,13,14,15,16,17,18,19,20,21,22,23],\"xaxis\":\"x\",\"y\":[0.0001609686025196093,6.800326939422338e-05,0.00012235067559133943,0.0029555653529054946,0.014473537395622876,0.03239858598184339,0.06645626736437901,0.1446943907308184,0.13803118002141646,0.08591648266118072,0.05049442109857339,0.05290264688659258,0.0465942126014175,0.0403335941763562,0.05903402242756647,0.06515236759476263,0.05040324488556673,0.06495872889572082,0.04320826454967695,0.02731811542505523,0.00809487062067797,0.00170065638406124,0.0037334997219723833,0.0007940226763284391],\"yaxis\":\"y\",\"type\":\"bar\"},{\"alignmentgroup\":\"True\",\"customdata\":[[818.5256193266233,8.0],[72.74800084760997,4.0],[13907.131040594093,47.0],[60835.642021048836,193.0],[210793.99623853824,614.0],[463781.35173573333,1742.0],[728580.9263172238,3462.0],[686425.8292300178,3437.0],[515595.7618101818,2078.0],[378753.0073236862,1390.0],[378741.1542697421,1253.0],[278401.2763422066,1252.0],[194406.7394197493,1004.0],[230822.26930435168,927.0],[277120.1887803302,1021.0],[235919.8171498615,1105.0],[410021.96131048887,1314.0],[247964.64092777378,1373.0],[148297.12773754023,880.0],[58633.34622816313,418.0],[32946.76056178034,185.0],[9024.613185245682,61.0],[3629.930451363426,18.0]],\"hovertemplate\":\"source=survey (2017\\u002f2019)\\u003cbr\\u003etlvorg_hr=%{x}\\u003cbr\\u003epercentage=%{y}\\u003cbr\\u003etoexpfac=%{customdata[0]}\\u003cbr\\u003esample_count=%{customdata[1]}\\u003cextra\\u003e\\u003c\\u002fextra\\u003e\",\"legendgroup\":\"survey (2017\\u002f2019)\",\"marker\":{\"color\":\"#00A7A0\",\"pattern\":{\"shape\":\"\"}},\"name\":\"survey (2017\\u002f2019)\",\"offsetgroup\":\"survey (2017\\u002f2019)\",\"orientation\":\"v\",\"showlegend\":true,\"textposition\":\"auto\",\"x\":[0,2,3,4,5,6,7,8,9,10,11,12,13,14,15,16,17,18,19,20,21,22,23],\"xaxis\":\"x\",\"y\":[0.00014707149262177072,1.3071254970259475e-05,0.0024988130755264266,0.010930859664478132,0.03787515861508891,0.08333155864569063,0.1309103610188505,0.12333599449464636,0.09264149647663444,0.068053789407233,0.06805165966774222,0.050022736359967,0.034930720147422746,0.04147380958565821,0.04979255241036827,0.042389729567450324,0.07367214957455899,0.04455392598300183,0.02664581219317742,0.010535154359956563,0.005919826012116025,0.001621529369575622,0.0006522206232645805],\"yaxis\":\"y\",\"type\":\"bar\"}],                        {\"template\":{\"data\":{\"barpolar\":[{\"marker\":{\"line\":{\"color\":\"white\",\"width\":0.5},\"pattern\":{\"fillmode\":\"overlay\",\"size\":10,\"solidity\":0.2}},\"type\":\"barpolar\"}],\"bar\":[{\"error_x\":{\"color\":\"rgb(36,36,36)\"},\"error_y\":{\"color\":\"rgb(36,36,36)\"},\"marker\":{\"line\":{\"color\":\"white\",\"width\":0.5},\"pattern\":{\"fillmode\":\"overlay\",\"size\":10,\"solidity\":0.2}},\"type\":\"bar\"}],\"carpet\":[{\"aaxis\":{\"endlinecolor\":\"rgb(36,36,36)\",\"gridcolor\":\"white\",\"linecolor\":\"white\",\"minorgridcolor\":\"white\",\"startlinecolor\":\"rgb(36,36,36)\"},\"baxis\":{\"endlinecolor\":\"rgb(36,36,36)\",\"gridcolor\":\"white\",\"linecolor\":\"white\",\"minorgridcolor\":\"white\",\"startlinecolor\":\"rgb(36,36,36)\"},\"type\":\"carpet\"}],\"choropleth\":[{\"colorbar\":{\"outlinewidth\":1,\"tickcolor\":\"rgb(36,36,36)\",\"ticks\":\"outside\"},\"type\":\"choropleth\"}],\"contourcarpet\":[{\"colorbar\":{\"outlinewidth\":1,\"tickcolor\":\"rgb(36,36,36)\",\"ticks\":\"outside\"},\"type\":\"contourcarpet\"}],\"contour\":[{\"colorbar\":{\"outlinewidth\":1,\"tickcolor\":\"rgb(36,36,36)\",\"ticks\":\"outside\"},\"colorscale\":[[0.0,\"#440154\"],[0.1111111111111111,\"#482878\"],[0.2222222222222222,\"#3e4989\"],[0.3333333333333333,\"#31688e\"],[0.4444444444444444,\"#26828e\"],[0.5555555555555556,\"#1f9e89\"],[0.6666666666666666,\"#35b779\"],[0.7777777777777778,\"#6ece58\"],[0.8888888888888888,\"#b5de2b\"],[1.0,\"#fde725\"]],\"type\":\"contour\"}],\"heatmapgl\":[{\"colorbar\":{\"outlinewidth\":1,\"tickcolor\":\"rgb(36,36,36)\",\"ticks\":\"outside\"},\"colorscale\":[[0.0,\"#440154\"],[0.1111111111111111,\"#482878\"],[0.2222222222222222,\"#3e4989\"],[0.3333333333333333,\"#31688e\"],[0.4444444444444444,\"#26828e\"],[0.5555555555555556,\"#1f9e89\"],[0.6666666666666666,\"#35b779\"],[0.7777777777777778,\"#6ece58\"],[0.8888888888888888,\"#b5de2b\"],[1.0,\"#fde725\"]],\"type\":\"heatmapgl\"}],\"heatmap\":[{\"colorbar\":{\"outlinewidth\":1,\"tickcolor\":\"rgb(36,36,36)\",\"ticks\":\"outside\"},\"colorscale\":[[0.0,\"#440154\"],[0.1111111111111111,\"#482878\"],[0.2222222222222222,\"#3e4989\"],[0.3333333333333333,\"#31688e\"],[0.4444444444444444,\"#26828e\"],[0.5555555555555556,\"#1f9e89\"],[0.6666666666666666,\"#35b779\"],[0.7777777777777778,\"#6ece58\"],[0.8888888888888888,\"#b5de2b\"],[1.0,\"#fde725\"]],\"type\":\"heatmap\"}],\"histogram2dcontour\":[{\"colorbar\":{\"outlinewidth\":1,\"tickcolor\":\"rgb(36,36,36)\",\"ticks\":\"outside\"},\"colorscale\":[[0.0,\"#440154\"],[0.1111111111111111,\"#482878\"],[0.2222222222222222,\"#3e4989\"],[0.3333333333333333,\"#31688e\"],[0.4444444444444444,\"#26828e\"],[0.5555555555555556,\"#1f9e89\"],[0.6666666666666666,\"#35b779\"],[0.7777777777777778,\"#6ece58\"],[0.8888888888888888,\"#b5de2b\"],[1.0,\"#fde725\"]],\"type\":\"histogram2dcontour\"}],\"histogram2d\":[{\"colorbar\":{\"outlinewidth\":1,\"tickcolor\":\"rgb(36,36,36)\",\"ticks\":\"outside\"},\"colorscale\":[[0.0,\"#440154\"],[0.1111111111111111,\"#482878\"],[0.2222222222222222,\"#3e4989\"],[0.3333333333333333,\"#31688e\"],[0.4444444444444444,\"#26828e\"],[0.5555555555555556,\"#1f9e89\"],[0.6666666666666666,\"#35b779\"],[0.7777777777777778,\"#6ece58\"],[0.8888888888888888,\"#b5de2b\"],[1.0,\"#fde725\"]],\"type\":\"histogram2d\"}],\"histogram\":[{\"marker\":{\"line\":{\"color\":\"white\",\"width\":0.6}},\"type\":\"histogram\"}],\"mesh3d\":[{\"colorbar\":{\"outlinewidth\":1,\"tickcolor\":\"rgb(36,36,36)\",\"ticks\":\"outside\"},\"type\":\"mesh3d\"}],\"parcoords\":[{\"line\":{\"colorbar\":{\"outlinewidth\":1,\"tickcolor\":\"rgb(36,36,36)\",\"ticks\":\"outside\"}},\"type\":\"parcoords\"}],\"pie\":[{\"automargin\":true,\"type\":\"pie\"}],\"scatter3d\":[{\"line\":{\"colorbar\":{\"outlinewidth\":1,\"tickcolor\":\"rgb(36,36,36)\",\"ticks\":\"outside\"}},\"marker\":{\"colorbar\":{\"outlinewidth\":1,\"tickcolor\":\"rgb(36,36,36)\",\"ticks\":\"outside\"}},\"type\":\"scatter3d\"}],\"scattercarpet\":[{\"marker\":{\"colorbar\":{\"outlinewidth\":1,\"tickcolor\":\"rgb(36,36,36)\",\"ticks\":\"outside\"}},\"type\":\"scattercarpet\"}],\"scattergeo\":[{\"marker\":{\"colorbar\":{\"outlinewidth\":1,\"tickcolor\":\"rgb(36,36,36)\",\"ticks\":\"outside\"}},\"type\":\"scattergeo\"}],\"scattergl\":[{\"marker\":{\"colorbar\":{\"outlinewidth\":1,\"tickcolor\":\"rgb(36,36,36)\",\"ticks\":\"outside\"}},\"type\":\"scattergl\"}],\"scattermapbox\":[{\"marker\":{\"colorbar\":{\"outlinewidth\":1,\"tickcolor\":\"rgb(36,36,36)\",\"ticks\":\"outside\"}},\"type\":\"scattermapbox\"}],\"scatterpolargl\":[{\"marker\":{\"colorbar\":{\"outlinewidth\":1,\"tickcolor\":\"rgb(36,36,36)\",\"ticks\":\"outside\"}},\"type\":\"scatterpolargl\"}],\"scatterpolar\":[{\"marker\":{\"colorbar\":{\"outlinewidth\":1,\"tickcolor\":\"rgb(36,36,36)\",\"ticks\":\"outside\"}},\"type\":\"scatterpolar\"}],\"scatter\":[{\"fillpattern\":{\"fillmode\":\"overlay\",\"size\":10,\"solidity\":0.2},\"type\":\"scatter\"}],\"scatterternary\":[{\"marker\":{\"colorbar\":{\"outlinewidth\":1,\"tickcolor\":\"rgb(36,36,36)\",\"ticks\":\"outside\"}},\"type\":\"scatterternary\"}],\"surface\":[{\"colorbar\":{\"outlinewidth\":1,\"tickcolor\":\"rgb(36,36,36)\",\"ticks\":\"outside\"},\"colorscale\":[[0.0,\"#440154\"],[0.1111111111111111,\"#482878\"],[0.2222222222222222,\"#3e4989\"],[0.3333333333333333,\"#31688e\"],[0.4444444444444444,\"#26828e\"],[0.5555555555555556,\"#1f9e89\"],[0.6666666666666666,\"#35b779\"],[0.7777777777777778,\"#6ece58\"],[0.8888888888888888,\"#b5de2b\"],[1.0,\"#fde725\"]],\"type\":\"surface\"}],\"table\":[{\"cells\":{\"fill\":{\"color\":\"rgb(237,237,237)\"},\"line\":{\"color\":\"white\"}},\"header\":{\"fill\":{\"color\":\"rgb(217,217,217)\"},\"line\":{\"color\":\"white\"}},\"type\":\"table\"}]},\"layout\":{\"annotationdefaults\":{\"arrowhead\":0,\"arrowwidth\":1},\"autotypenumbers\":\"strict\",\"coloraxis\":{\"colorbar\":{\"outlinewidth\":1,\"tickcolor\":\"rgb(36,36,36)\",\"ticks\":\"outside\"}},\"colorscale\":{\"diverging\":[[0.0,\"rgb(103,0,31)\"],[0.1,\"rgb(178,24,43)\"],[0.2,\"rgb(214,96,77)\"],[0.3,\"rgb(244,165,130)\"],[0.4,\"rgb(253,219,199)\"],[0.5,\"rgb(247,247,247)\"],[0.6,\"rgb(209,229,240)\"],[0.7,\"rgb(146,197,222)\"],[0.8,\"rgb(67,147,195)\"],[0.9,\"rgb(33,102,172)\"],[1.0,\"rgb(5,48,97)\"]],\"sequential\":[[0.0,\"#440154\"],[0.1111111111111111,\"#482878\"],[0.2222222222222222,\"#3e4989\"],[0.3333333333333333,\"#31688e\"],[0.4444444444444444,\"#26828e\"],[0.5555555555555556,\"#1f9e89\"],[0.6666666666666666,\"#35b779\"],[0.7777777777777778,\"#6ece58\"],[0.8888888888888888,\"#b5de2b\"],[1.0,\"#fde725\"]],\"sequentialminus\":[[0.0,\"#440154\"],[0.1111111111111111,\"#482878\"],[0.2222222222222222,\"#3e4989\"],[0.3333333333333333,\"#31688e\"],[0.4444444444444444,\"#26828e\"],[0.5555555555555556,\"#1f9e89\"],[0.6666666666666666,\"#35b779\"],[0.7777777777777778,\"#6ece58\"],[0.8888888888888888,\"#b5de2b\"],[1.0,\"#fde725\"]]},\"colorway\":[\"#91268F\",\"#8CC63E\",\"#00A7A0\",\"#F05A28\",\"#4C4C4C\",\"#630460\",\"#9f3913\",\"#588527\",\"#00716c\",\"#3e4040\"],\"font\":{\"color\":\"rgb(36,36,36)\",\"family\":\"Poppins\",\"size\":11},\"geo\":{\"bgcolor\":\"white\",\"lakecolor\":\"white\",\"landcolor\":\"white\",\"showlakes\":true,\"showland\":true,\"subunitcolor\":\"white\"},\"hoverlabel\":{\"align\":\"left\"},\"hovermode\":\"closest\",\"mapbox\":{\"style\":\"light\"},\"paper_bgcolor\":\"white\",\"plot_bgcolor\":\"white\",\"polar\":{\"angularaxis\":{\"gridcolor\":\"rgb(232,232,232)\",\"linecolor\":\"rgb(36,36,36)\",\"showgrid\":false,\"showline\":true,\"ticks\":\"outside\"},\"bgcolor\":\"white\",\"radialaxis\":{\"gridcolor\":\"rgb(232,232,232)\",\"linecolor\":\"rgb(36,36,36)\",\"showgrid\":false,\"showline\":true,\"ticks\":\"outside\"}},\"scene\":{\"xaxis\":{\"backgroundcolor\":\"white\",\"gridcolor\":\"rgb(232,232,232)\",\"gridwidth\":2,\"linecolor\":\"rgb(36,36,36)\",\"showbackground\":true,\"showgrid\":false,\"showline\":true,\"ticks\":\"outside\",\"zeroline\":false,\"zerolinecolor\":\"rgb(36,36,36)\"},\"yaxis\":{\"backgroundcolor\":\"white\",\"gridcolor\":\"rgb(232,232,232)\",\"gridwidth\":2,\"linecolor\":\"rgb(36,36,36)\",\"showbackground\":true,\"showgrid\":false,\"showline\":true,\"ticks\":\"outside\",\"zeroline\":false,\"zerolinecolor\":\"rgb(36,36,36)\"},\"zaxis\":{\"backgroundcolor\":\"white\",\"gridcolor\":\"rgb(232,232,232)\",\"gridwidth\":2,\"linecolor\":\"rgb(36,36,36)\",\"showbackground\":true,\"showgrid\":false,\"showline\":true,\"ticks\":\"outside\",\"zeroline\":false,\"zerolinecolor\":\"rgb(36,36,36)\"}},\"shapedefaults\":{\"fillcolor\":\"black\",\"line\":{\"width\":0},\"opacity\":0.3},\"ternary\":{\"aaxis\":{\"gridcolor\":\"rgb(232,232,232)\",\"linecolor\":\"rgb(36,36,36)\",\"showgrid\":false,\"showline\":true,\"ticks\":\"outside\"},\"baxis\":{\"gridcolor\":\"rgb(232,232,232)\",\"linecolor\":\"rgb(36,36,36)\",\"showgrid\":false,\"showline\":true,\"ticks\":\"outside\"},\"bgcolor\":\"white\",\"caxis\":{\"gridcolor\":\"rgb(232,232,232)\",\"linecolor\":\"rgb(36,36,36)\",\"showgrid\":false,\"showline\":true,\"ticks\":\"outside\"}},\"title\":{\"x\":0.05},\"xaxis\":{\"automargin\":true,\"gridcolor\":\"rgb(232,232,232)\",\"linecolor\":\"rgb(36,36,36)\",\"showgrid\":false,\"showline\":true,\"ticks\":\"outside\",\"title\":{\"standoff\":15},\"zeroline\":false,\"zerolinecolor\":\"rgb(36,36,36)\"},\"yaxis\":{\"automargin\":true,\"gridcolor\":\"rgb(232,232,232)\",\"linecolor\":\"rgb(36,36,36)\",\"showgrid\":false,\"showline\":true,\"ticks\":\"outside\",\"title\":{\"standoff\":15},\"zeroline\":false,\"zerolinecolor\":\"rgb(36,36,36)\"}}},\"xaxis\":{\"anchor\":\"y\",\"domain\":[0.0,1.0],\"title\":{\"text\":\"tlvorg_hr\"},\"dtick\":1,\"categoryorder\":\"category ascending\"},\"yaxis\":{\"anchor\":\"x\",\"domain\":[0.0,1.0],\"title\":{\"text\":\"percentage\"},\"tickformat\":\".0%\"},\"legend\":{\"title\":{\"text\":\"source\"},\"tracegroupgap\":0},\"title\":{\"text\":\"tour origin departure hour\"},\"barmode\":\"group\",\"font\":{\"size\":11},\"height\":400,\"width\":700},                        {\"responsive\": true}                    ).then(function(){\n",
       "                            \n",
       "var gd = document.getElementById('53788e47-290b-43ab-afc7-0ec4b0e368de');\n",
       "var x = new MutationObserver(function (mutations, observer) {{\n",
       "        var display = window.getComputedStyle(gd).display;\n",
       "        if (!display || display === 'none') {{\n",
       "            console.log([gd, 'removed!']);\n",
       "            Plotly.purge(gd);\n",
       "            observer.disconnect();\n",
       "        }}\n",
       "}});\n",
       "\n",
       "// Listen for the removal of the full notebook cells\n",
       "var notebookContainer = gd.closest('#notebook-container');\n",
       "if (notebookContainer) {{\n",
       "    x.observe(notebookContainer, {childList: true});\n",
       "}}\n",
       "\n",
       "// Listen for the clearing of the current output cell\n",
       "var outputEl = gd.closest('.output');\n",
       "if (outputEl) {{\n",
       "    x.observe(outputEl, {childList: true});\n",
       "}}\n",
       "\n",
       "                        })                };                });            </script>        </div>"
      ]
     },
     "metadata": {},
     "output_type": "display_data"
    }
   ],
   "source": [
    "df_plot = df_tour.groupby(['tlvorg_hr','source'])['toexpfac'].agg(sample_count='size', toexpfac='sum').reset_index()\n",
    "df_plot['percentage'] = df_plot.groupby(['source'], group_keys=False)['toexpfac']. \\\n",
    "    apply(lambda x: x / float(x.sum()))\n",
    "\n",
    "fig = px.bar(df_plot, x=\"tlvorg_hr\", y=\"percentage\", color=\"source\",\n",
    "             barmode=\"group\",title=\"tour origin departure hour\",\n",
    "             hover_data=['toexpfac','sample_count'])\n",
    "fig.update_layout(height=400, width=700, font=dict(size=11),\n",
    "                  xaxis = dict(dtick = 1, categoryorder='category ascending'),\n",
    "                  yaxis=dict(tickformat=\".0%\"))\n",
    "fig.show()"
   ]
  },
  {
   "cell_type": "raw",
   "metadata": {
    "vscode": {
     "languageId": "raw"
    }
   },
   "source": [
    "### trip"
   ]
  },
  {
   "cell_type": "code",
   "execution_count": 5,
   "metadata": {
    "execution": {
     "iopub.execute_input": "2025-01-21T07:15:33.327977Z",
     "iopub.status.busy": "2025-01-21T07:15:33.326002Z",
     "iopub.status.idle": "2025-01-21T07:15:34.307464Z",
     "shell.execute_reply": "2025-01-21T07:15:34.305955Z"
    }
   },
   "outputs": [
    {
     "data": {
      "application/vnd.plotly.v1+json": {
       "config": {
        "plotlyServerURL": "https://plot.ly"
       },
       "data": [
        {
         "alignmentgroup": "True",
         "customdata": [
          [
           29316.0,
           29316.0
          ],
          [
           21007.0,
           21007.0
          ],
          [
           14849.0,
           14849.0
          ],
          [
           80003.0,
           80003.0
          ],
          [
           87748.0,
           87748.0
          ],
          [
           185683.0,
           185683.0
          ],
          [
           534726.0,
           534726.0
          ],
          [
           909576.0,
           909576.0
          ],
          [
           1068546.0,
           1068546.0
          ],
          [
           1002222.0,
           1002222.0
          ],
          [
           1057719.0,
           1057719.0
          ],
          [
           1017117.0,
           1017117.0
          ],
          [
           980427.0,
           980427.0
          ],
          [
           1046307.0,
           1046307.0
          ],
          [
           979902.0,
           979902.0
          ],
          [
           1183034.0,
           1183034.0
          ],
          [
           1298122.0,
           1298122.0
          ],
          [
           1247387.0,
           1247387.0
          ],
          [
           1017724.0,
           1017724.0
          ],
          [
           769192.0,
           769192.0
          ],
          [
           604073.0,
           604073.0
          ],
          [
           331779.0,
           331779.0
          ],
          [
           197494.0,
           197494.0
          ],
          [
           140551.0,
           140551.0
          ]
         ],
         "hovertemplate": "source=model<br>dept_hr=%{x}<br>percentage=%{y}<br>trexpfac=%{customdata[0]}<br>sample_count=%{customdata[1]}<extra></extra>",
         "legendgroup": "model",
         "marker": {
          "color": "#91268F",
          "pattern": {
           "shape": ""
          }
         },
         "name": "model",
         "offsetgroup": "model",
         "orientation": "v",
         "showlegend": true,
         "textposition": "auto",
         "type": "bar",
         "x": [
          0,
          1,
          2,
          3,
          4,
          5,
          6,
          7,
          8,
          9,
          10,
          11,
          12,
          13,
          14,
          15,
          16,
          17,
          18,
          19,
          20,
          21,
          22,
          23
         ],
         "xaxis": "x",
         "y": [
          0.0018549142700080938,
          0.0013291780621524092,
          0.0009395422975627707,
          0.005062038011442814,
          0.005552088189543942,
          0.011748739473253953,
          0.03383377295484882,
          0.05755169539012423,
          0.0676102204789217,
          0.06341369523523167,
          0.06692516259921855,
          0.06435614809550493,
          0.06203465796838673,
          0.06620308995461041,
          0.06200143958962585,
          0.07485423142668697,
          0.08213620623589327,
          0.07892604538554326,
          0.06439455486866276,
          0.048669164182564666,
          0.03822157278709917,
          0.020992686641732,
          0.012496058085720374,
          0.00889309781566065
         ],
         "yaxis": "y"
        },
        {
         "alignmentgroup": "True",
         "customdata": [
          [
           14160.308952681406,
           37.0
          ],
          [
           1900.7579340717862,
           10.0
          ],
          [
           2283.9930541930844,
           18.0
          ],
          [
           13390.245551472604,
           31.0
          ],
          [
           68943.67110386655,
           82.0
          ],
          [
           178211.93488032298,
           214.0
          ],
          [
           359682.5096202704,
           676.0
          ],
          [
           1031793.9306389304,
           1625.0
          ],
          [
           1071889.1577198128,
           1961.0
          ],
          [
           774188.8897778249,
           1565.0
          ],
          [
           575816.5334236631,
           1583.0
          ],
          [
           756903.2090077064,
           1781.0
          ],
          [
           743510.2988058317,
           1915.0
          ],
          [
           761845.4420829916,
           1816.0
          ],
          [
           1279128.2945142651,
           2135.0
          ],
          [
           1490503.309735995,
           2486.0
          ],
          [
           1270243.4395395915,
           2478.0
          ],
          [
           1183379.1799539612,
           2609.0
          ],
          [
           876197.2944875775,
           2047.0
          ],
          [
           597812.5405320821,
           1460.0
          ],
          [
           452184.8604427244,
           1035.0
          ],
          [
           200138.7390782372,
           623.0
          ],
          [
           135189.54646263077,
           276.0
          ],
          [
           63204.655036956145,
           133.0
          ]
         ],
         "hovertemplate": "source=survey<br>dept_hr=%{x}<br>percentage=%{y}<br>trexpfac=%{customdata[0]}<br>sample_count=%{customdata[1]}<extra></extra>",
         "legendgroup": "survey",
         "marker": {
          "color": "#8CC63E",
          "pattern": {
           "shape": ""
          }
         },
         "name": "survey",
         "offsetgroup": "survey",
         "orientation": "v",
         "showlegend": true,
         "textposition": "auto",
         "type": "bar",
         "x": [
          0,
          1,
          2,
          3,
          4,
          5,
          6,
          7,
          8,
          9,
          10,
          11,
          12,
          13,
          14,
          15,
          16,
          17,
          18,
          19,
          20,
          21,
          22,
          23
         ],
         "xaxis": "x",
         "y": [
          0.0010185438704902133,
          0.0001367205581109765,
          0.0001642864667264247,
          0.0009631535990059498,
          0.004959083438545965,
          0.012818694459783089,
          0.025871781238706013,
          0.07421641626415804,
          0.07710044569569192,
          0.05568701579321879,
          0.04141819239999959,
          0.05444366550654861,
          0.053480320240585175,
          0.05479915783529561,
          0.09200705212730524,
          0.10721115020513003,
          0.09136796899678254,
          0.08511986668056429,
          0.06302442881879611,
          0.043000354080963255,
          0.03252542860974764,
          0.01439587841034905,
          0.009724115791823184,
          0.004546278911672309
         ],
         "yaxis": "y"
        },
        {
         "alignmentgroup": "True",
         "customdata": [
          [
           3622.9075134384707,
           37.0
          ],
          [
           1555.6194818136062,
           10.0
          ],
          [
           2729.181802725246,
           15.0
          ],
          [
           15172.326305472327,
           54.0
          ],
          [
           63514.05846425556,
           218.0
          ],
          [
           228743.11536819066,
           708.0
          ],
          [
           530146.261161519,
           2086.0
          ],
          [
           929236.5348367323,
           4369.0
          ],
          [
           1063421.5157905335,
           4773.0
          ],
          [
           878655.2324934275,
           3513.0
          ],
          [
           898833.3210771332,
           3020.0
          ],
          [
           1016029.7115812751,
           3534.0
          ],
          [
           1186575.3305741167,
           4303.0
          ],
          [
           875857.9905717679,
           3789.0
          ],
          [
           1078894.9190846665,
           3845.0
          ],
          [
           1337135.359682371,
           4753.0
          ],
          [
           1212361.4272437603,
           5744.0
          ],
          [
           1378473.9303939755,
           6566.0
          ],
          [
           954347.8853662496,
           5132.0
          ],
          [
           740726.2469078234,
           3761.0
          ],
          [
           516690.9472765765,
           2662.0
          ],
          [
           328350.60868380195,
           1622.0
          ],
          [
           105269.29586408581,
           682.0
          ],
          [
           42391.343991062575,
           268.0
          ]
         ],
         "hovertemplate": "source=survey (2017/2019)<br>dept_hr=%{x}<br>percentage=%{y}<br>trexpfac=%{customdata[0]}<br>sample_count=%{customdata[1]}<extra></extra>",
         "legendgroup": "survey (2017/2019)",
         "marker": {
          "color": "#00A7A0",
          "pattern": {
           "shape": ""
          }
         },
         "name": "survey (2017/2019)",
         "offsetgroup": "survey (2017/2019)",
         "orientation": "v",
         "showlegend": true,
         "textposition": "auto",
         "type": "bar",
         "x": [
          0,
          1,
          2,
          3,
          4,
          5,
          6,
          7,
          8,
          9,
          10,
          11,
          12,
          13,
          14,
          15,
          16,
          17,
          18,
          19,
          20,
          21,
          22,
          23
         ],
         "xaxis": "x",
         "y": [
          0.00023542594609638585,
          0.00010108819695602688,
          0.00017734932663677648,
          0.0009859371959398404,
          0.0041273085909325075,
          0.014864322135974288,
          0.034450281891120094,
          0.06038420510316467,
          0.06910389390995725,
          0.05709730061697811,
          0.05840852525564602,
          0.0660242513019708,
          0.07710674886920145,
          0.05691552856692593,
          0.07010939587111407,
          0.08689053086353364,
          0.07878239644840836,
          0.08957681862659474,
          0.062016005924532776,
          0.04813431665860854,
          0.033575920624751475,
          0.021337075929752713,
          0.006840672438303927,
          0.002754699706899582
         ],
         "yaxis": "y"
        }
       ],
       "layout": {
        "barmode": "group",
        "font": {
         "size": 11
        },
        "height": 400,
        "legend": {
         "title": {
          "text": "source"
         },
         "tracegroupgap": 0
        },
        "template": {
         "data": {
          "bar": [
           {
            "error_x": {
             "color": "rgb(36,36,36)"
            },
            "error_y": {
             "color": "rgb(36,36,36)"
            },
            "marker": {
             "line": {
              "color": "white",
              "width": 0.5
             },
             "pattern": {
              "fillmode": "overlay",
              "size": 10,
              "solidity": 0.2
             }
            },
            "type": "bar"
           }
          ],
          "barpolar": [
           {
            "marker": {
             "line": {
              "color": "white",
              "width": 0.5
             },
             "pattern": {
              "fillmode": "overlay",
              "size": 10,
              "solidity": 0.2
             }
            },
            "type": "barpolar"
           }
          ],
          "carpet": [
           {
            "aaxis": {
             "endlinecolor": "rgb(36,36,36)",
             "gridcolor": "white",
             "linecolor": "white",
             "minorgridcolor": "white",
             "startlinecolor": "rgb(36,36,36)"
            },
            "baxis": {
             "endlinecolor": "rgb(36,36,36)",
             "gridcolor": "white",
             "linecolor": "white",
             "minorgridcolor": "white",
             "startlinecolor": "rgb(36,36,36)"
            },
            "type": "carpet"
           }
          ],
          "choropleth": [
           {
            "colorbar": {
             "outlinewidth": 1,
             "tickcolor": "rgb(36,36,36)",
             "ticks": "outside"
            },
            "type": "choropleth"
           }
          ],
          "contour": [
           {
            "colorbar": {
             "outlinewidth": 1,
             "tickcolor": "rgb(36,36,36)",
             "ticks": "outside"
            },
            "colorscale": [
             [
              0.0,
              "#440154"
             ],
             [
              0.1111111111111111,
              "#482878"
             ],
             [
              0.2222222222222222,
              "#3e4989"
             ],
             [
              0.3333333333333333,
              "#31688e"
             ],
             [
              0.4444444444444444,
              "#26828e"
             ],
             [
              0.5555555555555556,
              "#1f9e89"
             ],
             [
              0.6666666666666666,
              "#35b779"
             ],
             [
              0.7777777777777778,
              "#6ece58"
             ],
             [
              0.8888888888888888,
              "#b5de2b"
             ],
             [
              1.0,
              "#fde725"
             ]
            ],
            "type": "contour"
           }
          ],
          "contourcarpet": [
           {
            "colorbar": {
             "outlinewidth": 1,
             "tickcolor": "rgb(36,36,36)",
             "ticks": "outside"
            },
            "type": "contourcarpet"
           }
          ],
          "heatmap": [
           {
            "colorbar": {
             "outlinewidth": 1,
             "tickcolor": "rgb(36,36,36)",
             "ticks": "outside"
            },
            "colorscale": [
             [
              0.0,
              "#440154"
             ],
             [
              0.1111111111111111,
              "#482878"
             ],
             [
              0.2222222222222222,
              "#3e4989"
             ],
             [
              0.3333333333333333,
              "#31688e"
             ],
             [
              0.4444444444444444,
              "#26828e"
             ],
             [
              0.5555555555555556,
              "#1f9e89"
             ],
             [
              0.6666666666666666,
              "#35b779"
             ],
             [
              0.7777777777777778,
              "#6ece58"
             ],
             [
              0.8888888888888888,
              "#b5de2b"
             ],
             [
              1.0,
              "#fde725"
             ]
            ],
            "type": "heatmap"
           }
          ],
          "heatmapgl": [
           {
            "colorbar": {
             "outlinewidth": 1,
             "tickcolor": "rgb(36,36,36)",
             "ticks": "outside"
            },
            "colorscale": [
             [
              0.0,
              "#440154"
             ],
             [
              0.1111111111111111,
              "#482878"
             ],
             [
              0.2222222222222222,
              "#3e4989"
             ],
             [
              0.3333333333333333,
              "#31688e"
             ],
             [
              0.4444444444444444,
              "#26828e"
             ],
             [
              0.5555555555555556,
              "#1f9e89"
             ],
             [
              0.6666666666666666,
              "#35b779"
             ],
             [
              0.7777777777777778,
              "#6ece58"
             ],
             [
              0.8888888888888888,
              "#b5de2b"
             ],
             [
              1.0,
              "#fde725"
             ]
            ],
            "type": "heatmapgl"
           }
          ],
          "histogram": [
           {
            "marker": {
             "line": {
              "color": "white",
              "width": 0.6
             }
            },
            "type": "histogram"
           }
          ],
          "histogram2d": [
           {
            "colorbar": {
             "outlinewidth": 1,
             "tickcolor": "rgb(36,36,36)",
             "ticks": "outside"
            },
            "colorscale": [
             [
              0.0,
              "#440154"
             ],
             [
              0.1111111111111111,
              "#482878"
             ],
             [
              0.2222222222222222,
              "#3e4989"
             ],
             [
              0.3333333333333333,
              "#31688e"
             ],
             [
              0.4444444444444444,
              "#26828e"
             ],
             [
              0.5555555555555556,
              "#1f9e89"
             ],
             [
              0.6666666666666666,
              "#35b779"
             ],
             [
              0.7777777777777778,
              "#6ece58"
             ],
             [
              0.8888888888888888,
              "#b5de2b"
             ],
             [
              1.0,
              "#fde725"
             ]
            ],
            "type": "histogram2d"
           }
          ],
          "histogram2dcontour": [
           {
            "colorbar": {
             "outlinewidth": 1,
             "tickcolor": "rgb(36,36,36)",
             "ticks": "outside"
            },
            "colorscale": [
             [
              0.0,
              "#440154"
             ],
             [
              0.1111111111111111,
              "#482878"
             ],
             [
              0.2222222222222222,
              "#3e4989"
             ],
             [
              0.3333333333333333,
              "#31688e"
             ],
             [
              0.4444444444444444,
              "#26828e"
             ],
             [
              0.5555555555555556,
              "#1f9e89"
             ],
             [
              0.6666666666666666,
              "#35b779"
             ],
             [
              0.7777777777777778,
              "#6ece58"
             ],
             [
              0.8888888888888888,
              "#b5de2b"
             ],
             [
              1.0,
              "#fde725"
             ]
            ],
            "type": "histogram2dcontour"
           }
          ],
          "mesh3d": [
           {
            "colorbar": {
             "outlinewidth": 1,
             "tickcolor": "rgb(36,36,36)",
             "ticks": "outside"
            },
            "type": "mesh3d"
           }
          ],
          "parcoords": [
           {
            "line": {
             "colorbar": {
              "outlinewidth": 1,
              "tickcolor": "rgb(36,36,36)",
              "ticks": "outside"
             }
            },
            "type": "parcoords"
           }
          ],
          "pie": [
           {
            "automargin": true,
            "type": "pie"
           }
          ],
          "scatter": [
           {
            "fillpattern": {
             "fillmode": "overlay",
             "size": 10,
             "solidity": 0.2
            },
            "type": "scatter"
           }
          ],
          "scatter3d": [
           {
            "line": {
             "colorbar": {
              "outlinewidth": 1,
              "tickcolor": "rgb(36,36,36)",
              "ticks": "outside"
             }
            },
            "marker": {
             "colorbar": {
              "outlinewidth": 1,
              "tickcolor": "rgb(36,36,36)",
              "ticks": "outside"
             }
            },
            "type": "scatter3d"
           }
          ],
          "scattercarpet": [
           {
            "marker": {
             "colorbar": {
              "outlinewidth": 1,
              "tickcolor": "rgb(36,36,36)",
              "ticks": "outside"
             }
            },
            "type": "scattercarpet"
           }
          ],
          "scattergeo": [
           {
            "marker": {
             "colorbar": {
              "outlinewidth": 1,
              "tickcolor": "rgb(36,36,36)",
              "ticks": "outside"
             }
            },
            "type": "scattergeo"
           }
          ],
          "scattergl": [
           {
            "marker": {
             "colorbar": {
              "outlinewidth": 1,
              "tickcolor": "rgb(36,36,36)",
              "ticks": "outside"
             }
            },
            "type": "scattergl"
           }
          ],
          "scattermapbox": [
           {
            "marker": {
             "colorbar": {
              "outlinewidth": 1,
              "tickcolor": "rgb(36,36,36)",
              "ticks": "outside"
             }
            },
            "type": "scattermapbox"
           }
          ],
          "scatterpolar": [
           {
            "marker": {
             "colorbar": {
              "outlinewidth": 1,
              "tickcolor": "rgb(36,36,36)",
              "ticks": "outside"
             }
            },
            "type": "scatterpolar"
           }
          ],
          "scatterpolargl": [
           {
            "marker": {
             "colorbar": {
              "outlinewidth": 1,
              "tickcolor": "rgb(36,36,36)",
              "ticks": "outside"
             }
            },
            "type": "scatterpolargl"
           }
          ],
          "scatterternary": [
           {
            "marker": {
             "colorbar": {
              "outlinewidth": 1,
              "tickcolor": "rgb(36,36,36)",
              "ticks": "outside"
             }
            },
            "type": "scatterternary"
           }
          ],
          "surface": [
           {
            "colorbar": {
             "outlinewidth": 1,
             "tickcolor": "rgb(36,36,36)",
             "ticks": "outside"
            },
            "colorscale": [
             [
              0.0,
              "#440154"
             ],
             [
              0.1111111111111111,
              "#482878"
             ],
             [
              0.2222222222222222,
              "#3e4989"
             ],
             [
              0.3333333333333333,
              "#31688e"
             ],
             [
              0.4444444444444444,
              "#26828e"
             ],
             [
              0.5555555555555556,
              "#1f9e89"
             ],
             [
              0.6666666666666666,
              "#35b779"
             ],
             [
              0.7777777777777778,
              "#6ece58"
             ],
             [
              0.8888888888888888,
              "#b5de2b"
             ],
             [
              1.0,
              "#fde725"
             ]
            ],
            "type": "surface"
           }
          ],
          "table": [
           {
            "cells": {
             "fill": {
              "color": "rgb(237,237,237)"
             },
             "line": {
              "color": "white"
             }
            },
            "header": {
             "fill": {
              "color": "rgb(217,217,217)"
             },
             "line": {
              "color": "white"
             }
            },
            "type": "table"
           }
          ]
         },
         "layout": {
          "annotationdefaults": {
           "arrowhead": 0,
           "arrowwidth": 1
          },
          "autotypenumbers": "strict",
          "coloraxis": {
           "colorbar": {
            "outlinewidth": 1,
            "tickcolor": "rgb(36,36,36)",
            "ticks": "outside"
           }
          },
          "colorscale": {
           "diverging": [
            [
             0.0,
             "rgb(103,0,31)"
            ],
            [
             0.1,
             "rgb(178,24,43)"
            ],
            [
             0.2,
             "rgb(214,96,77)"
            ],
            [
             0.3,
             "rgb(244,165,130)"
            ],
            [
             0.4,
             "rgb(253,219,199)"
            ],
            [
             0.5,
             "rgb(247,247,247)"
            ],
            [
             0.6,
             "rgb(209,229,240)"
            ],
            [
             0.7,
             "rgb(146,197,222)"
            ],
            [
             0.8,
             "rgb(67,147,195)"
            ],
            [
             0.9,
             "rgb(33,102,172)"
            ],
            [
             1.0,
             "rgb(5,48,97)"
            ]
           ],
           "sequential": [
            [
             0.0,
             "#440154"
            ],
            [
             0.1111111111111111,
             "#482878"
            ],
            [
             0.2222222222222222,
             "#3e4989"
            ],
            [
             0.3333333333333333,
             "#31688e"
            ],
            [
             0.4444444444444444,
             "#26828e"
            ],
            [
             0.5555555555555556,
             "#1f9e89"
            ],
            [
             0.6666666666666666,
             "#35b779"
            ],
            [
             0.7777777777777778,
             "#6ece58"
            ],
            [
             0.8888888888888888,
             "#b5de2b"
            ],
            [
             1.0,
             "#fde725"
            ]
           ],
           "sequentialminus": [
            [
             0.0,
             "#440154"
            ],
            [
             0.1111111111111111,
             "#482878"
            ],
            [
             0.2222222222222222,
             "#3e4989"
            ],
            [
             0.3333333333333333,
             "#31688e"
            ],
            [
             0.4444444444444444,
             "#26828e"
            ],
            [
             0.5555555555555556,
             "#1f9e89"
            ],
            [
             0.6666666666666666,
             "#35b779"
            ],
            [
             0.7777777777777778,
             "#6ece58"
            ],
            [
             0.8888888888888888,
             "#b5de2b"
            ],
            [
             1.0,
             "#fde725"
            ]
           ]
          },
          "colorway": [
           "#91268F",
           "#8CC63E",
           "#00A7A0",
           "#F05A28",
           "#4C4C4C",
           "#630460",
           "#9f3913",
           "#588527",
           "#00716c",
           "#3e4040"
          ],
          "font": {
           "color": "rgb(36,36,36)",
           "family": "Poppins",
           "size": 11
          },
          "geo": {
           "bgcolor": "white",
           "lakecolor": "white",
           "landcolor": "white",
           "showlakes": true,
           "showland": true,
           "subunitcolor": "white"
          },
          "hoverlabel": {
           "align": "left"
          },
          "hovermode": "closest",
          "mapbox": {
           "style": "light"
          },
          "paper_bgcolor": "white",
          "plot_bgcolor": "white",
          "polar": {
           "angularaxis": {
            "gridcolor": "rgb(232,232,232)",
            "linecolor": "rgb(36,36,36)",
            "showgrid": false,
            "showline": true,
            "ticks": "outside"
           },
           "bgcolor": "white",
           "radialaxis": {
            "gridcolor": "rgb(232,232,232)",
            "linecolor": "rgb(36,36,36)",
            "showgrid": false,
            "showline": true,
            "ticks": "outside"
           }
          },
          "scene": {
           "xaxis": {
            "backgroundcolor": "white",
            "gridcolor": "rgb(232,232,232)",
            "gridwidth": 2,
            "linecolor": "rgb(36,36,36)",
            "showbackground": true,
            "showgrid": false,
            "showline": true,
            "ticks": "outside",
            "zeroline": false,
            "zerolinecolor": "rgb(36,36,36)"
           },
           "yaxis": {
            "backgroundcolor": "white",
            "gridcolor": "rgb(232,232,232)",
            "gridwidth": 2,
            "linecolor": "rgb(36,36,36)",
            "showbackground": true,
            "showgrid": false,
            "showline": true,
            "ticks": "outside",
            "zeroline": false,
            "zerolinecolor": "rgb(36,36,36)"
           },
           "zaxis": {
            "backgroundcolor": "white",
            "gridcolor": "rgb(232,232,232)",
            "gridwidth": 2,
            "linecolor": "rgb(36,36,36)",
            "showbackground": true,
            "showgrid": false,
            "showline": true,
            "ticks": "outside",
            "zeroline": false,
            "zerolinecolor": "rgb(36,36,36)"
           }
          },
          "shapedefaults": {
           "fillcolor": "black",
           "line": {
            "width": 0
           },
           "opacity": 0.3
          },
          "ternary": {
           "aaxis": {
            "gridcolor": "rgb(232,232,232)",
            "linecolor": "rgb(36,36,36)",
            "showgrid": false,
            "showline": true,
            "ticks": "outside"
           },
           "baxis": {
            "gridcolor": "rgb(232,232,232)",
            "linecolor": "rgb(36,36,36)",
            "showgrid": false,
            "showline": true,
            "ticks": "outside"
           },
           "bgcolor": "white",
           "caxis": {
            "gridcolor": "rgb(232,232,232)",
            "linecolor": "rgb(36,36,36)",
            "showgrid": false,
            "showline": true,
            "ticks": "outside"
           }
          },
          "title": {
           "x": 0.05
          },
          "xaxis": {
           "automargin": true,
           "gridcolor": "rgb(232,232,232)",
           "linecolor": "rgb(36,36,36)",
           "showgrid": false,
           "showline": true,
           "ticks": "outside",
           "title": {
            "standoff": 15
           },
           "zeroline": false,
           "zerolinecolor": "rgb(36,36,36)"
          },
          "yaxis": {
           "automargin": true,
           "gridcolor": "rgb(232,232,232)",
           "linecolor": "rgb(36,36,36)",
           "showgrid": false,
           "showline": true,
           "ticks": "outside",
           "title": {
            "standoff": 15
           },
           "zeroline": false,
           "zerolinecolor": "rgb(36,36,36)"
          }
         }
        },
        "title": {
         "text": "trip origin departure hour"
        },
        "width": 700,
        "xaxis": {
         "anchor": "y",
         "categoryorder": "category ascending",
         "domain": [
          0.0,
          1.0
         ],
         "dtick": 1,
         "title": {
          "text": "dept_hr"
         }
        },
        "yaxis": {
         "anchor": "x",
         "domain": [
          0.0,
          1.0
         ],
         "tickformat": ".0%",
         "title": {
          "text": "percentage"
         }
        }
       }
      },
      "text/html": [
       "<div>                            <div id=\"754ce2df-ed62-49ff-b6dc-2dbc3807da5a\" class=\"plotly-graph-div\" style=\"height:400px; width:700px;\"></div>            <script type=\"text/javascript\">                require([\"plotly\"], function(Plotly) {                    window.PLOTLYENV=window.PLOTLYENV || {};                                    if (document.getElementById(\"754ce2df-ed62-49ff-b6dc-2dbc3807da5a\")) {                    Plotly.newPlot(                        \"754ce2df-ed62-49ff-b6dc-2dbc3807da5a\",                        [{\"alignmentgroup\":\"True\",\"customdata\":[[29316.0,29316.0],[21007.0,21007.0],[14849.0,14849.0],[80003.0,80003.0],[87748.0,87748.0],[185683.0,185683.0],[534726.0,534726.0],[909576.0,909576.0],[1068546.0,1068546.0],[1002222.0,1002222.0],[1057719.0,1057719.0],[1017117.0,1017117.0],[980427.0,980427.0],[1046307.0,1046307.0],[979902.0,979902.0],[1183034.0,1183034.0],[1298122.0,1298122.0],[1247387.0,1247387.0],[1017724.0,1017724.0],[769192.0,769192.0],[604073.0,604073.0],[331779.0,331779.0],[197494.0,197494.0],[140551.0,140551.0]],\"hovertemplate\":\"source=model\\u003cbr\\u003edept_hr=%{x}\\u003cbr\\u003epercentage=%{y}\\u003cbr\\u003etrexpfac=%{customdata[0]}\\u003cbr\\u003esample_count=%{customdata[1]}\\u003cextra\\u003e\\u003c\\u002fextra\\u003e\",\"legendgroup\":\"model\",\"marker\":{\"color\":\"#91268F\",\"pattern\":{\"shape\":\"\"}},\"name\":\"model\",\"offsetgroup\":\"model\",\"orientation\":\"v\",\"showlegend\":true,\"textposition\":\"auto\",\"x\":[0,1,2,3,4,5,6,7,8,9,10,11,12,13,14,15,16,17,18,19,20,21,22,23],\"xaxis\":\"x\",\"y\":[0.0018549142700080938,0.0013291780621524092,0.0009395422975627707,0.005062038011442814,0.005552088189543942,0.011748739473253953,0.03383377295484882,0.05755169539012423,0.0676102204789217,0.06341369523523167,0.06692516259921855,0.06435614809550493,0.06203465796838673,0.06620308995461041,0.06200143958962585,0.07485423142668697,0.08213620623589327,0.07892604538554326,0.06439455486866276,0.048669164182564666,0.03822157278709917,0.020992686641732,0.012496058085720374,0.00889309781566065],\"yaxis\":\"y\",\"type\":\"bar\"},{\"alignmentgroup\":\"True\",\"customdata\":[[14160.308952681406,37.0],[1900.7579340717862,10.0],[2283.9930541930844,18.0],[13390.245551472604,31.0],[68943.67110386655,82.0],[178211.93488032298,214.0],[359682.5096202704,676.0],[1031793.9306389304,1625.0],[1071889.1577198128,1961.0],[774188.8897778249,1565.0],[575816.5334236631,1583.0],[756903.2090077064,1781.0],[743510.2988058317,1915.0],[761845.4420829916,1816.0],[1279128.2945142651,2135.0],[1490503.309735995,2486.0],[1270243.4395395915,2478.0],[1183379.1799539612,2609.0],[876197.2944875775,2047.0],[597812.5405320821,1460.0],[452184.8604427244,1035.0],[200138.7390782372,623.0],[135189.54646263077,276.0],[63204.655036956145,133.0]],\"hovertemplate\":\"source=survey\\u003cbr\\u003edept_hr=%{x}\\u003cbr\\u003epercentage=%{y}\\u003cbr\\u003etrexpfac=%{customdata[0]}\\u003cbr\\u003esample_count=%{customdata[1]}\\u003cextra\\u003e\\u003c\\u002fextra\\u003e\",\"legendgroup\":\"survey\",\"marker\":{\"color\":\"#8CC63E\",\"pattern\":{\"shape\":\"\"}},\"name\":\"survey\",\"offsetgroup\":\"survey\",\"orientation\":\"v\",\"showlegend\":true,\"textposition\":\"auto\",\"x\":[0,1,2,3,4,5,6,7,8,9,10,11,12,13,14,15,16,17,18,19,20,21,22,23],\"xaxis\":\"x\",\"y\":[0.0010185438704902133,0.0001367205581109765,0.0001642864667264247,0.0009631535990059498,0.004959083438545965,0.012818694459783089,0.025871781238706013,0.07421641626415804,0.07710044569569192,0.05568701579321879,0.04141819239999959,0.05444366550654861,0.053480320240585175,0.05479915783529561,0.09200705212730524,0.10721115020513003,0.09136796899678254,0.08511986668056429,0.06302442881879611,0.043000354080963255,0.03252542860974764,0.01439587841034905,0.009724115791823184,0.004546278911672309],\"yaxis\":\"y\",\"type\":\"bar\"},{\"alignmentgroup\":\"True\",\"customdata\":[[3622.9075134384707,37.0],[1555.6194818136062,10.0],[2729.181802725246,15.0],[15172.326305472327,54.0],[63514.05846425556,218.0],[228743.11536819066,708.0],[530146.261161519,2086.0],[929236.5348367323,4369.0],[1063421.5157905335,4773.0],[878655.2324934275,3513.0],[898833.3210771332,3020.0],[1016029.7115812751,3534.0],[1186575.3305741167,4303.0],[875857.9905717679,3789.0],[1078894.9190846665,3845.0],[1337135.359682371,4753.0],[1212361.4272437603,5744.0],[1378473.9303939755,6566.0],[954347.8853662496,5132.0],[740726.2469078234,3761.0],[516690.9472765765,2662.0],[328350.60868380195,1622.0],[105269.29586408581,682.0],[42391.343991062575,268.0]],\"hovertemplate\":\"source=survey (2017\\u002f2019)\\u003cbr\\u003edept_hr=%{x}\\u003cbr\\u003epercentage=%{y}\\u003cbr\\u003etrexpfac=%{customdata[0]}\\u003cbr\\u003esample_count=%{customdata[1]}\\u003cextra\\u003e\\u003c\\u002fextra\\u003e\",\"legendgroup\":\"survey (2017\\u002f2019)\",\"marker\":{\"color\":\"#00A7A0\",\"pattern\":{\"shape\":\"\"}},\"name\":\"survey (2017\\u002f2019)\",\"offsetgroup\":\"survey (2017\\u002f2019)\",\"orientation\":\"v\",\"showlegend\":true,\"textposition\":\"auto\",\"x\":[0,1,2,3,4,5,6,7,8,9,10,11,12,13,14,15,16,17,18,19,20,21,22,23],\"xaxis\":\"x\",\"y\":[0.00023542594609638585,0.00010108819695602688,0.00017734932663677648,0.0009859371959398404,0.0041273085909325075,0.014864322135974288,0.034450281891120094,0.06038420510316467,0.06910389390995725,0.05709730061697811,0.05840852525564602,0.0660242513019708,0.07710674886920145,0.05691552856692593,0.07010939587111407,0.08689053086353364,0.07878239644840836,0.08957681862659474,0.062016005924532776,0.04813431665860854,0.033575920624751475,0.021337075929752713,0.006840672438303927,0.002754699706899582],\"yaxis\":\"y\",\"type\":\"bar\"}],                        {\"template\":{\"data\":{\"barpolar\":[{\"marker\":{\"line\":{\"color\":\"white\",\"width\":0.5},\"pattern\":{\"fillmode\":\"overlay\",\"size\":10,\"solidity\":0.2}},\"type\":\"barpolar\"}],\"bar\":[{\"error_x\":{\"color\":\"rgb(36,36,36)\"},\"error_y\":{\"color\":\"rgb(36,36,36)\"},\"marker\":{\"line\":{\"color\":\"white\",\"width\":0.5},\"pattern\":{\"fillmode\":\"overlay\",\"size\":10,\"solidity\":0.2}},\"type\":\"bar\"}],\"carpet\":[{\"aaxis\":{\"endlinecolor\":\"rgb(36,36,36)\",\"gridcolor\":\"white\",\"linecolor\":\"white\",\"minorgridcolor\":\"white\",\"startlinecolor\":\"rgb(36,36,36)\"},\"baxis\":{\"endlinecolor\":\"rgb(36,36,36)\",\"gridcolor\":\"white\",\"linecolor\":\"white\",\"minorgridcolor\":\"white\",\"startlinecolor\":\"rgb(36,36,36)\"},\"type\":\"carpet\"}],\"choropleth\":[{\"colorbar\":{\"outlinewidth\":1,\"tickcolor\":\"rgb(36,36,36)\",\"ticks\":\"outside\"},\"type\":\"choropleth\"}],\"contourcarpet\":[{\"colorbar\":{\"outlinewidth\":1,\"tickcolor\":\"rgb(36,36,36)\",\"ticks\":\"outside\"},\"type\":\"contourcarpet\"}],\"contour\":[{\"colorbar\":{\"outlinewidth\":1,\"tickcolor\":\"rgb(36,36,36)\",\"ticks\":\"outside\"},\"colorscale\":[[0.0,\"#440154\"],[0.1111111111111111,\"#482878\"],[0.2222222222222222,\"#3e4989\"],[0.3333333333333333,\"#31688e\"],[0.4444444444444444,\"#26828e\"],[0.5555555555555556,\"#1f9e89\"],[0.6666666666666666,\"#35b779\"],[0.7777777777777778,\"#6ece58\"],[0.8888888888888888,\"#b5de2b\"],[1.0,\"#fde725\"]],\"type\":\"contour\"}],\"heatmapgl\":[{\"colorbar\":{\"outlinewidth\":1,\"tickcolor\":\"rgb(36,36,36)\",\"ticks\":\"outside\"},\"colorscale\":[[0.0,\"#440154\"],[0.1111111111111111,\"#482878\"],[0.2222222222222222,\"#3e4989\"],[0.3333333333333333,\"#31688e\"],[0.4444444444444444,\"#26828e\"],[0.5555555555555556,\"#1f9e89\"],[0.6666666666666666,\"#35b779\"],[0.7777777777777778,\"#6ece58\"],[0.8888888888888888,\"#b5de2b\"],[1.0,\"#fde725\"]],\"type\":\"heatmapgl\"}],\"heatmap\":[{\"colorbar\":{\"outlinewidth\":1,\"tickcolor\":\"rgb(36,36,36)\",\"ticks\":\"outside\"},\"colorscale\":[[0.0,\"#440154\"],[0.1111111111111111,\"#482878\"],[0.2222222222222222,\"#3e4989\"],[0.3333333333333333,\"#31688e\"],[0.4444444444444444,\"#26828e\"],[0.5555555555555556,\"#1f9e89\"],[0.6666666666666666,\"#35b779\"],[0.7777777777777778,\"#6ece58\"],[0.8888888888888888,\"#b5de2b\"],[1.0,\"#fde725\"]],\"type\":\"heatmap\"}],\"histogram2dcontour\":[{\"colorbar\":{\"outlinewidth\":1,\"tickcolor\":\"rgb(36,36,36)\",\"ticks\":\"outside\"},\"colorscale\":[[0.0,\"#440154\"],[0.1111111111111111,\"#482878\"],[0.2222222222222222,\"#3e4989\"],[0.3333333333333333,\"#31688e\"],[0.4444444444444444,\"#26828e\"],[0.5555555555555556,\"#1f9e89\"],[0.6666666666666666,\"#35b779\"],[0.7777777777777778,\"#6ece58\"],[0.8888888888888888,\"#b5de2b\"],[1.0,\"#fde725\"]],\"type\":\"histogram2dcontour\"}],\"histogram2d\":[{\"colorbar\":{\"outlinewidth\":1,\"tickcolor\":\"rgb(36,36,36)\",\"ticks\":\"outside\"},\"colorscale\":[[0.0,\"#440154\"],[0.1111111111111111,\"#482878\"],[0.2222222222222222,\"#3e4989\"],[0.3333333333333333,\"#31688e\"],[0.4444444444444444,\"#26828e\"],[0.5555555555555556,\"#1f9e89\"],[0.6666666666666666,\"#35b779\"],[0.7777777777777778,\"#6ece58\"],[0.8888888888888888,\"#b5de2b\"],[1.0,\"#fde725\"]],\"type\":\"histogram2d\"}],\"histogram\":[{\"marker\":{\"line\":{\"color\":\"white\",\"width\":0.6}},\"type\":\"histogram\"}],\"mesh3d\":[{\"colorbar\":{\"outlinewidth\":1,\"tickcolor\":\"rgb(36,36,36)\",\"ticks\":\"outside\"},\"type\":\"mesh3d\"}],\"parcoords\":[{\"line\":{\"colorbar\":{\"outlinewidth\":1,\"tickcolor\":\"rgb(36,36,36)\",\"ticks\":\"outside\"}},\"type\":\"parcoords\"}],\"pie\":[{\"automargin\":true,\"type\":\"pie\"}],\"scatter3d\":[{\"line\":{\"colorbar\":{\"outlinewidth\":1,\"tickcolor\":\"rgb(36,36,36)\",\"ticks\":\"outside\"}},\"marker\":{\"colorbar\":{\"outlinewidth\":1,\"tickcolor\":\"rgb(36,36,36)\",\"ticks\":\"outside\"}},\"type\":\"scatter3d\"}],\"scattercarpet\":[{\"marker\":{\"colorbar\":{\"outlinewidth\":1,\"tickcolor\":\"rgb(36,36,36)\",\"ticks\":\"outside\"}},\"type\":\"scattercarpet\"}],\"scattergeo\":[{\"marker\":{\"colorbar\":{\"outlinewidth\":1,\"tickcolor\":\"rgb(36,36,36)\",\"ticks\":\"outside\"}},\"type\":\"scattergeo\"}],\"scattergl\":[{\"marker\":{\"colorbar\":{\"outlinewidth\":1,\"tickcolor\":\"rgb(36,36,36)\",\"ticks\":\"outside\"}},\"type\":\"scattergl\"}],\"scattermapbox\":[{\"marker\":{\"colorbar\":{\"outlinewidth\":1,\"tickcolor\":\"rgb(36,36,36)\",\"ticks\":\"outside\"}},\"type\":\"scattermapbox\"}],\"scatterpolargl\":[{\"marker\":{\"colorbar\":{\"outlinewidth\":1,\"tickcolor\":\"rgb(36,36,36)\",\"ticks\":\"outside\"}},\"type\":\"scatterpolargl\"}],\"scatterpolar\":[{\"marker\":{\"colorbar\":{\"outlinewidth\":1,\"tickcolor\":\"rgb(36,36,36)\",\"ticks\":\"outside\"}},\"type\":\"scatterpolar\"}],\"scatter\":[{\"fillpattern\":{\"fillmode\":\"overlay\",\"size\":10,\"solidity\":0.2},\"type\":\"scatter\"}],\"scatterternary\":[{\"marker\":{\"colorbar\":{\"outlinewidth\":1,\"tickcolor\":\"rgb(36,36,36)\",\"ticks\":\"outside\"}},\"type\":\"scatterternary\"}],\"surface\":[{\"colorbar\":{\"outlinewidth\":1,\"tickcolor\":\"rgb(36,36,36)\",\"ticks\":\"outside\"},\"colorscale\":[[0.0,\"#440154\"],[0.1111111111111111,\"#482878\"],[0.2222222222222222,\"#3e4989\"],[0.3333333333333333,\"#31688e\"],[0.4444444444444444,\"#26828e\"],[0.5555555555555556,\"#1f9e89\"],[0.6666666666666666,\"#35b779\"],[0.7777777777777778,\"#6ece58\"],[0.8888888888888888,\"#b5de2b\"],[1.0,\"#fde725\"]],\"type\":\"surface\"}],\"table\":[{\"cells\":{\"fill\":{\"color\":\"rgb(237,237,237)\"},\"line\":{\"color\":\"white\"}},\"header\":{\"fill\":{\"color\":\"rgb(217,217,217)\"},\"line\":{\"color\":\"white\"}},\"type\":\"table\"}]},\"layout\":{\"annotationdefaults\":{\"arrowhead\":0,\"arrowwidth\":1},\"autotypenumbers\":\"strict\",\"coloraxis\":{\"colorbar\":{\"outlinewidth\":1,\"tickcolor\":\"rgb(36,36,36)\",\"ticks\":\"outside\"}},\"colorscale\":{\"diverging\":[[0.0,\"rgb(103,0,31)\"],[0.1,\"rgb(178,24,43)\"],[0.2,\"rgb(214,96,77)\"],[0.3,\"rgb(244,165,130)\"],[0.4,\"rgb(253,219,199)\"],[0.5,\"rgb(247,247,247)\"],[0.6,\"rgb(209,229,240)\"],[0.7,\"rgb(146,197,222)\"],[0.8,\"rgb(67,147,195)\"],[0.9,\"rgb(33,102,172)\"],[1.0,\"rgb(5,48,97)\"]],\"sequential\":[[0.0,\"#440154\"],[0.1111111111111111,\"#482878\"],[0.2222222222222222,\"#3e4989\"],[0.3333333333333333,\"#31688e\"],[0.4444444444444444,\"#26828e\"],[0.5555555555555556,\"#1f9e89\"],[0.6666666666666666,\"#35b779\"],[0.7777777777777778,\"#6ece58\"],[0.8888888888888888,\"#b5de2b\"],[1.0,\"#fde725\"]],\"sequentialminus\":[[0.0,\"#440154\"],[0.1111111111111111,\"#482878\"],[0.2222222222222222,\"#3e4989\"],[0.3333333333333333,\"#31688e\"],[0.4444444444444444,\"#26828e\"],[0.5555555555555556,\"#1f9e89\"],[0.6666666666666666,\"#35b779\"],[0.7777777777777778,\"#6ece58\"],[0.8888888888888888,\"#b5de2b\"],[1.0,\"#fde725\"]]},\"colorway\":[\"#91268F\",\"#8CC63E\",\"#00A7A0\",\"#F05A28\",\"#4C4C4C\",\"#630460\",\"#9f3913\",\"#588527\",\"#00716c\",\"#3e4040\"],\"font\":{\"color\":\"rgb(36,36,36)\",\"family\":\"Poppins\",\"size\":11},\"geo\":{\"bgcolor\":\"white\",\"lakecolor\":\"white\",\"landcolor\":\"white\",\"showlakes\":true,\"showland\":true,\"subunitcolor\":\"white\"},\"hoverlabel\":{\"align\":\"left\"},\"hovermode\":\"closest\",\"mapbox\":{\"style\":\"light\"},\"paper_bgcolor\":\"white\",\"plot_bgcolor\":\"white\",\"polar\":{\"angularaxis\":{\"gridcolor\":\"rgb(232,232,232)\",\"linecolor\":\"rgb(36,36,36)\",\"showgrid\":false,\"showline\":true,\"ticks\":\"outside\"},\"bgcolor\":\"white\",\"radialaxis\":{\"gridcolor\":\"rgb(232,232,232)\",\"linecolor\":\"rgb(36,36,36)\",\"showgrid\":false,\"showline\":true,\"ticks\":\"outside\"}},\"scene\":{\"xaxis\":{\"backgroundcolor\":\"white\",\"gridcolor\":\"rgb(232,232,232)\",\"gridwidth\":2,\"linecolor\":\"rgb(36,36,36)\",\"showbackground\":true,\"showgrid\":false,\"showline\":true,\"ticks\":\"outside\",\"zeroline\":false,\"zerolinecolor\":\"rgb(36,36,36)\"},\"yaxis\":{\"backgroundcolor\":\"white\",\"gridcolor\":\"rgb(232,232,232)\",\"gridwidth\":2,\"linecolor\":\"rgb(36,36,36)\",\"showbackground\":true,\"showgrid\":false,\"showline\":true,\"ticks\":\"outside\",\"zeroline\":false,\"zerolinecolor\":\"rgb(36,36,36)\"},\"zaxis\":{\"backgroundcolor\":\"white\",\"gridcolor\":\"rgb(232,232,232)\",\"gridwidth\":2,\"linecolor\":\"rgb(36,36,36)\",\"showbackground\":true,\"showgrid\":false,\"showline\":true,\"ticks\":\"outside\",\"zeroline\":false,\"zerolinecolor\":\"rgb(36,36,36)\"}},\"shapedefaults\":{\"fillcolor\":\"black\",\"line\":{\"width\":0},\"opacity\":0.3},\"ternary\":{\"aaxis\":{\"gridcolor\":\"rgb(232,232,232)\",\"linecolor\":\"rgb(36,36,36)\",\"showgrid\":false,\"showline\":true,\"ticks\":\"outside\"},\"baxis\":{\"gridcolor\":\"rgb(232,232,232)\",\"linecolor\":\"rgb(36,36,36)\",\"showgrid\":false,\"showline\":true,\"ticks\":\"outside\"},\"bgcolor\":\"white\",\"caxis\":{\"gridcolor\":\"rgb(232,232,232)\",\"linecolor\":\"rgb(36,36,36)\",\"showgrid\":false,\"showline\":true,\"ticks\":\"outside\"}},\"title\":{\"x\":0.05},\"xaxis\":{\"automargin\":true,\"gridcolor\":\"rgb(232,232,232)\",\"linecolor\":\"rgb(36,36,36)\",\"showgrid\":false,\"showline\":true,\"ticks\":\"outside\",\"title\":{\"standoff\":15},\"zeroline\":false,\"zerolinecolor\":\"rgb(36,36,36)\"},\"yaxis\":{\"automargin\":true,\"gridcolor\":\"rgb(232,232,232)\",\"linecolor\":\"rgb(36,36,36)\",\"showgrid\":false,\"showline\":true,\"ticks\":\"outside\",\"title\":{\"standoff\":15},\"zeroline\":false,\"zerolinecolor\":\"rgb(36,36,36)\"}}},\"xaxis\":{\"anchor\":\"y\",\"domain\":[0.0,1.0],\"title\":{\"text\":\"dept_hr\"},\"dtick\":1,\"categoryorder\":\"category ascending\"},\"yaxis\":{\"anchor\":\"x\",\"domain\":[0.0,1.0],\"title\":{\"text\":\"percentage\"},\"tickformat\":\".0%\"},\"legend\":{\"title\":{\"text\":\"source\"},\"tracegroupgap\":0},\"title\":{\"text\":\"trip origin departure hour\"},\"barmode\":\"group\",\"font\":{\"size\":11},\"height\":400,\"width\":700},                        {\"responsive\": true}                    ).then(function(){\n",
       "                            \n",
       "var gd = document.getElementById('754ce2df-ed62-49ff-b6dc-2dbc3807da5a');\n",
       "var x = new MutationObserver(function (mutations, observer) {{\n",
       "        var display = window.getComputedStyle(gd).display;\n",
       "        if (!display || display === 'none') {{\n",
       "            console.log([gd, 'removed!']);\n",
       "            Plotly.purge(gd);\n",
       "            observer.disconnect();\n",
       "        }}\n",
       "}});\n",
       "\n",
       "// Listen for the removal of the full notebook cells\n",
       "var notebookContainer = gd.closest('#notebook-container');\n",
       "if (notebookContainer) {{\n",
       "    x.observe(notebookContainer, {childList: true});\n",
       "}}\n",
       "\n",
       "// Listen for the clearing of the current output cell\n",
       "var outputEl = gd.closest('.output');\n",
       "if (outputEl) {{\n",
       "    x.observe(outputEl, {childList: true});\n",
       "}}\n",
       "\n",
       "                        })                };                });            </script>        </div>"
      ]
     },
     "metadata": {},
     "output_type": "display_data"
    }
   ],
   "source": [
    "df_plot = df_trip.groupby(['dept_hr','source'])['trexpfac'].agg(sample_count='size', trexpfac='sum').reset_index()\n",
    "df_plot['percentage'] = df_plot.groupby(['source'], group_keys=False)['trexpfac']. \\\n",
    "    apply(lambda x: x / float(x.sum()))\n",
    "\n",
    "fig = px.bar(df_plot, x=\"dept_hr\", y=\"percentage\", color=\"source\",\n",
    "             barmode=\"group\",title=\"trip origin departure hour\",\n",
    "             hover_data=['trexpfac','sample_count'])\n",
    "fig.update_layout(height=400, width=700, font=dict(size=11),\n",
    "                  xaxis = dict(dtick = 1, categoryorder='category ascending'),\n",
    "                  yaxis=dict(tickformat=\".0%\"))\n",
    "fig.show()"
   ]
  },
  {
   "cell_type": "raw",
   "metadata": {
    "vscode": {
     "languageId": "raw"
    }
   },
   "source": [
    ":::"
   ]
  },
  {
   "cell_type": "markdown",
   "metadata": {
    "collapsed": false
   },
   "source": [
    "## time choice by purpose"
   ]
  },
  {
   "cell_type": "raw",
   "metadata": {
    "vscode": {
     "languageId": "raw"
    }
   },
   "source": [
    ":::{.panel-tabset}\n",
    "### tour"
   ]
  },
  {
   "cell_type": "code",
   "execution_count": 6,
   "metadata": {
    "ExecuteTime": {
     "end_time": "2024-07-15T04:43:21.363175Z",
     "start_time": "2024-07-15T04:43:20.456962Z"
    },
    "collapsed": false,
    "execution": {
     "iopub.execute_input": "2025-01-21T07:15:34.321587Z",
     "iopub.status.busy": "2025-01-21T07:15:34.318951Z",
     "iopub.status.idle": "2025-01-21T07:15:35.221079Z",
     "shell.execute_reply": "2025-01-21T07:15:35.218349Z"
    }
   },
   "outputs": [
    {
     "data": {
      "application/vnd.plotly.v1+json": {
       "config": {
        "plotlyServerURL": "https://plot.ly"
       },
       "data": [
        {
         "alignmentgroup": "True",
         "customdata": [
          [
           1370.0,
           1370.0
          ],
          [
           865.0,
           865.0
          ],
          [
           332.0,
           332.0
          ],
          [
           43863.0,
           43863.0
          ],
          [
           43757.0,
           43757.0
          ],
          [
           97805.0,
           97805.0
          ],
          [
           244431.0,
           244431.0
          ],
          [
           307538.0,
           307538.0
          ],
          [
           246407.0,
           246407.0
          ],
          [
           128674.0,
           128674.0
          ],
          [
           77439.0,
           77439.0
          ],
          [
           61083.0,
           61083.0
          ],
          [
           48984.0,
           48984.0
          ],
          [
           39542.0,
           39542.0
          ],
          [
           34128.0,
           34128.0
          ],
          [
           30199.0,
           30199.0
          ],
          [
           28872.0,
           28872.0
          ],
          [
           27322.0,
           27322.0
          ],
          [
           22447.0,
           22447.0
          ],
          [
           11975.0,
           11975.0
          ],
          [
           9554.0,
           9554.0
          ],
          [
           6514.0,
           6514.0
          ],
          [
           2992.0,
           2992.0
          ],
          [
           2100.0,
           2100.0
          ]
         ],
         "hovertemplate": "source=model<br>pdpurp_label=Work<br>tlvorg_hr=%{x}<br>percentage=%{y}<br>toexpfac=%{customdata[0]}<br>sample_count=%{customdata[1]}<extra></extra>",
         "legendgroup": "model",
         "marker": {
          "color": "#91268F",
          "pattern": {
           "shape": ""
          }
         },
         "name": "model",
         "offsetgroup": "model",
         "orientation": "v",
         "showlegend": true,
         "textposition": "auto",
         "type": "bar",
         "x": [
          0,
          1,
          2,
          3,
          4,
          5,
          6,
          7,
          8,
          9,
          10,
          11,
          12,
          13,
          14,
          15,
          16,
          17,
          18,
          19,
          20,
          21,
          22,
          23
         ],
         "xaxis": "x6",
         "y": [
          0.0009023885632459115,
          0.0005697562826333674,
          0.0002186810240858705,
          0.028891583612887163,
          0.0288217637678477,
          0.06442198060457399,
          0.1610012692720886,
          0.20256844814855554,
          0.16230281657206955,
          0.08475470510007621,
          0.051007348868029295,
          0.040234015042883216,
          0.03226467254163338,
          0.02604543691085389,
          0.02247935539157406,
          0.01989141038063013,
          0.01901734496207004,
          0.01799639439781372,
          0.014785340203781732,
          0.007887666456109336,
          0.0062930075425192975,
          0.004290627081010122,
          0.0019707639279063992,
          0.00138322334512147
         ],
         "yaxis": "y6"
        },
        {
         "alignmentgroup": "True",
         "customdata": [
          [
           0.0,
           0.0
          ],
          [
           0.0,
           0.0
          ],
          [
           1.0,
           1.0
          ],
          [
           3203.0,
           3203.0
          ],
          [
           3281.0,
           3281.0
          ],
          [
           10676.0,
           10676.0
          ],
          [
           61227.0,
           61227.0
          ],
          [
           143985.0,
           143985.0
          ],
          [
           147371.0,
           147371.0
          ],
          [
           69306.0,
           69306.0
          ],
          [
           30497.0,
           30497.0
          ],
          [
           17994.0,
           17994.0
          ],
          [
           11022.0,
           11022.0
          ],
          [
           7017.0,
           7017.0
          ],
          [
           4652.0,
           4652.0
          ],
          [
           3169.0,
           3169.0
          ],
          [
           2449.0,
           2449.0
          ],
          [
           2216.0,
           2216.0
          ],
          [
           1617.0,
           1617.0
          ],
          [
           499.0,
           499.0
          ],
          [
           447.0,
           447.0
          ],
          [
           219.0,
           219.0
          ],
          [
           0.0,
           0.0
          ],
          [
           0.0,
           0.0
          ]
         ],
         "hovertemplate": "source=model<br>pdpurp_label=School<br>tlvorg_hr=%{x}<br>percentage=%{y}<br>toexpfac=%{customdata[0]}<br>sample_count=%{customdata[1]}<extra></extra>",
         "legendgroup": "model",
         "marker": {
          "color": "#91268F",
          "pattern": {
           "shape": ""
          }
         },
         "name": "model",
         "offsetgroup": "model",
         "orientation": "v",
         "showlegend": false,
         "textposition": "auto",
         "type": "bar",
         "x": [
          0,
          1,
          2,
          3,
          4,
          5,
          6,
          7,
          8,
          9,
          10,
          11,
          12,
          13,
          14,
          15,
          16,
          17,
          18,
          19,
          20,
          21,
          22,
          23
         ],
         "xaxis": "x5",
         "y": [
          0.0,
          0.0,
          1.9199459343224896e-06,
          0.006149586827634934,
          0.006299342610512088,
          0.020497342794826897,
          0.11755252972076306,
          0.27644341535342365,
          0.2829443522870396,
          0.13306377292415444,
          0.05855259115903296,
          0.034547507142198876,
          0.02116164408810248,
          0.01347226062114091,
          0.00893158848646822,
          0.006084308665867969,
          0.004701947593155777,
          0.004254600190458637,
          0.0031045525757994654,
          0.0009580530212269223,
          0.0008582158326421528,
          0.0004204681596166252,
          0.0,
          0.0
         ],
         "yaxis": "y5"
        },
        {
         "alignmentgroup": "True",
         "customdata": [
          [
           315.0,
           315.0
          ],
          [
           267.0,
           267.0
          ],
          [
           114.0,
           114.0
          ],
          [
           1210.0,
           1210.0
          ],
          [
           909.0,
           909.0
          ],
          [
           2103.0,
           2103.0
          ],
          [
           10778.0,
           10778.0
          ],
          [
           31396.0,
           31396.0
          ],
          [
           54286.0,
           54286.0
          ],
          [
           66851.0,
           66851.0
          ],
          [
           67211.0,
           67211.0
          ],
          [
           55256.0,
           55256.0
          ],
          [
           53659.0,
           53659.0
          ],
          [
           58643.0,
           58643.0
          ],
          [
           54125.0,
           54125.0
          ],
          [
           50618.0,
           50618.0
          ],
          [
           56163.0,
           56163.0
          ],
          [
           50888.0,
           50888.0
          ],
          [
           48054.0,
           48054.0
          ],
          [
           30380.0,
           30380.0
          ],
          [
           18230.0,
           18230.0
          ],
          [
           8727.0,
           8727.0
          ],
          [
           2374.0,
           2374.0
          ],
          [
           1166.0,
           1166.0
          ]
         ],
         "hovertemplate": "source=model<br>pdpurp_label=Shop<br>tlvorg_hr=%{x}<br>percentage=%{y}<br>toexpfac=%{customdata[0]}<br>sample_count=%{customdata[1]}<extra></extra>",
         "legendgroup": "model",
         "marker": {
          "color": "#91268F",
          "pattern": {
           "shape": ""
          }
         },
         "name": "model",
         "offsetgroup": "model",
         "orientation": "v",
         "showlegend": false,
         "textposition": "auto",
         "type": "bar",
         "x": [
          0,
          1,
          2,
          3,
          4,
          5,
          6,
          7,
          8,
          9,
          10,
          11,
          12,
          13,
          14,
          15,
          16,
          17,
          18,
          19,
          20,
          21,
          22,
          23
         ],
         "xaxis": "x4",
         "y": [
          0.00043524939790499955,
          0.00036892568012899965,
          0.00015751882971799984,
          0.0016719103856033316,
          0.0012560054053829988,
          0.002905807885060997,
          0.014892438128952652,
          0.04338123840198529,
          0.07500936131641525,
          0.09237097618840358,
          0.09286840407172357,
          0.07634965311313859,
          0.07414300775296626,
          0.08102962044870758,
          0.0747869005130416,
          0.0699411238830326,
          0.07760289503028092,
          0.0703141947955226,
          0.06639833195849794,
          0.04197738637572662,
          0.02518919531367664,
          0.012058480938148987,
          0.00328026054167133,
          0.001611113644308665
         ],
         "yaxis": "y4"
        },
        {
         "alignmentgroup": "True",
         "customdata": [
          [
           376.0,
           376.0
          ],
          [
           282.0,
           282.0
          ],
          [
           88.0,
           88.0
          ],
          [
           1259.0,
           1259.0
          ],
          [
           894.0,
           894.0
          ],
          [
           1924.0,
           1924.0
          ],
          [
           5986.0,
           5986.0
          ],
          [
           10545.0,
           10545.0
          ],
          [
           20166.0,
           20166.0
          ],
          [
           26796.0,
           26796.0
          ],
          [
           32268.0,
           32268.0
          ],
          [
           31357.0,
           31357.0
          ],
          [
           32031.0,
           32031.0
          ],
          [
           29637.0,
           29637.0
          ],
          [
           27369.0,
           27369.0
          ],
          [
           25551.0,
           25551.0
          ],
          [
           31109.0,
           31109.0
          ],
          [
           31737.0,
           31737.0
          ],
          [
           32042.0,
           32042.0
          ],
          [
           20390.0,
           20390.0
          ],
          [
           14682.0,
           14682.0
          ],
          [
           9943.0,
           9943.0
          ],
          [
           2357.0,
           2357.0
          ],
          [
           1013.0,
           1013.0
          ]
         ],
         "hovertemplate": "source=model<br>pdpurp_label=Meal<br>tlvorg_hr=%{x}<br>percentage=%{y}<br>toexpfac=%{customdata[0]}<br>sample_count=%{customdata[1]}<extra></extra>",
         "legendgroup": "model",
         "marker": {
          "color": "#91268F",
          "pattern": {
           "shape": ""
          }
         },
         "name": "model",
         "offsetgroup": "model",
         "orientation": "v",
         "showlegend": false,
         "textposition": "auto",
         "type": "bar",
         "x": [
          0,
          1,
          2,
          3,
          4,
          5,
          6,
          7,
          8,
          9,
          10,
          11,
          12,
          13,
          14,
          15,
          16,
          17,
          18,
          19,
          20,
          21,
          22,
          23
         ],
         "xaxis": "x3",
         "y": [
          0.0009645922801832725,
          0.0007234442101374544,
          0.00022575564004289356,
          0.0032298448956136704,
          0.0022934720704357596,
          0.00493583922093781,
          0.015356514332917738,
          0.02705219573013992,
          0.05173395723982945,
          0.06874259239306109,
          0.0827804885557283,
          0.08044340460028425,
          0.08217248757061277,
          0.07603090799944587,
          0.07021256945834038,
          0.06554866316745425,
          0.07980718416016337,
          0.08141825850046946,
          0.08220070702561813,
          0.052308607959938636,
          0.0376652762171564,
          0.025507821919846487,
          0.006046659586148865,
          0.0025987552654937636
         ],
         "yaxis": "y3"
        },
        {
         "alignmentgroup": "True",
         "customdata": [
          [
           240.0,
           240.0
          ],
          [
           220.0,
           220.0
          ],
          [
           113.0,
           113.0
          ],
          [
           6105.0,
           6105.0
          ],
          [
           3479.0,
           3479.0
          ],
          [
           6103.0,
           6103.0
          ],
          [
           20509.0,
           20509.0
          ],
          [
           41420.0,
           41420.0
          ],
          [
           64484.0,
           64484.0
          ],
          [
           75882.0,
           75882.0
          ],
          [
           67306.0,
           67306.0
          ],
          [
           50061.0,
           50061.0
          ],
          [
           44969.0,
           44969.0
          ],
          [
           46707.0,
           46707.0
          ],
          [
           42028.0,
           42028.0
          ],
          [
           40092.0,
           40092.0
          ],
          [
           39303.0,
           39303.0
          ],
          [
           31936.0,
           31936.0
          ],
          [
           27169.0,
           27169.0
          ],
          [
           18056.0,
           18056.0
          ],
          [
           12923.0,
           12923.0
          ],
          [
           7211.0,
           7211.0
          ],
          [
           2136.0,
           2136.0
          ],
          [
           1101.0,
           1101.0
          ]
         ],
         "hovertemplate": "source=model<br>pdpurp_label=Escort<br>tlvorg_hr=%{x}<br>percentage=%{y}<br>toexpfac=%{customdata[0]}<br>sample_count=%{customdata[1]}<extra></extra>",
         "legendgroup": "model",
         "marker": {
          "color": "#91268F",
          "pattern": {
           "shape": ""
          }
         },
         "name": "model",
         "offsetgroup": "model",
         "orientation": "v",
         "showlegend": false,
         "textposition": "auto",
         "type": "bar",
         "x": [
          0,
          1,
          2,
          3,
          4,
          5,
          6,
          7,
          8,
          9,
          10,
          11,
          12,
          13,
          14,
          15,
          16,
          17,
          18,
          19,
          20,
          21,
          22,
          23
         ],
         "xaxis": "x2",
         "y": [
          0.00036948486112757544,
          0.0003386944560336108,
          0.0001739657887809001,
          0.0093987711549327,
          0.005355990966095145,
          0.009395692114423303,
          0.03157402090360602,
          0.06376692894960073,
          0.09927442410396073,
          0.11682187596701116,
          0.10361895026271913,
          0.07706992347044814,
          0.06923068633352475,
          0.07190637253619027,
          0.06470295726445725,
          0.06172244605136148,
          0.06050776457040457,
          0.049166118854042706,
          0.041827225799896235,
          0.02779757771883126,
          0.01989522025146524,
          0.011101480556628943,
          0.0032884152640354214,
          0.0016950118004227523
         ],
         "yaxis": "y2"
        },
        {
         "alignmentgroup": "True",
         "customdata": [
          [
           167.0,
           167.0
          ],
          [
           114.0,
           114.0
          ],
          [
           57.0,
           57.0
          ],
          [
           2543.0,
           2543.0
          ],
          [
           1479.0,
           1479.0
          ],
          [
           3178.0,
           3178.0
          ],
          [
           10440.0,
           10440.0
          ],
          [
           21117.0,
           21117.0
          ],
          [
           35406.0,
           35406.0
          ],
          [
           43169.0,
           43169.0
          ],
          [
           41135.0,
           41135.0
          ],
          [
           33044.0,
           33044.0
          ],
          [
           30625.0,
           30625.0
          ],
          [
           31368.0,
           31368.0
          ],
          [
           26571.0,
           26571.0
          ],
          [
           24424.0,
           24424.0
          ],
          [
           27287.0,
           27287.0
          ],
          [
           25096.0,
           25096.0
          ],
          [
           22381.0,
           22381.0
          ],
          [
           13250.0,
           13250.0
          ],
          [
           9381.0,
           9381.0
          ],
          [
           5486.0,
           5486.0
          ],
          [
           1262.0,
           1262.0
          ],
          [
           545.0,
           545.0
          ]
         ],
         "hovertemplate": "source=model<br>pdpurp_label=Personal Business<br>tlvorg_hr=%{x}<br>percentage=%{y}<br>toexpfac=%{customdata[0]}<br>sample_count=%{customdata[1]}<extra></extra>",
         "legendgroup": "model",
         "marker": {
          "color": "#91268F",
          "pattern": {
           "shape": ""
          }
         },
         "name": "model",
         "offsetgroup": "model",
         "orientation": "v",
         "showlegend": false,
         "textposition": "auto",
         "type": "bar",
         "x": [
          0,
          1,
          2,
          3,
          4,
          5,
          6,
          7,
          8,
          9,
          10,
          11,
          12,
          13,
          14,
          15,
          16,
          17,
          18,
          19,
          20,
          21,
          22,
          23
         ],
         "xaxis": "x",
         "y": [
          0.00040778951223979,
          0.00027837128380440757,
          0.00013918564190220378,
          0.006209633111531653,
          0.003611501129357182,
          0.007760209999389537,
          0.025492949148403637,
          0.05156461754471644,
          0.08645626030156889,
          0.10541236798730236,
          0.10044563823942372,
          0.0806886026494109,
          0.07478175935535071,
          0.07659605640681277,
          0.0648824858067273,
          0.05963982662841096,
          0.06663085281728832,
          0.06128075209083694,
          0.054651120200231974,
          0.03235455710884561,
          0.022907026433062694,
          0.013396007569745436,
          0.0030816189487821257,
          0.0013308100848544045
         ],
         "yaxis": "y"
        },
        {
         "alignmentgroup": "True",
         "customdata": [
          [
           0.0,
           0.0
          ],
          [
           290.035564242689,
           1.0
          ],
          [
           0.0,
           0.0
          ],
          [
           14788.625070075419,
           21.0
          ],
          [
           62334.98080849343,
           65.0
          ],
          [
           110560.94845318867,
           135.0
          ],
          [
           231832.64991962654,
           369.0
          ],
          [
           345802.4190378415,
           614.0
          ],
          [
           258891.1706490516,
           504.0
          ],
          [
           138775.75284678483,
           292.0
          ],
          [
           41934.64180856643,
           170.0
          ],
          [
           37958.57044734342,
           99.0
          ],
          [
           31180.959769409063,
           106.0
          ],
          [
           24948.05578014202,
           69.0
          ],
          [
           27287.01473768373,
           62.0
          ],
          [
           27505.41111581074,
           50.0
          ],
          [
           19075.53144467118,
           33.0
          ],
          [
           12319.997987789659,
           34.0
          ],
          [
           1955.1087945262727,
           10.0
          ],
          [
           745.7762566027517,
           7.0
          ],
          [
           270.8142398817476,
           7.0
          ],
          [
           113.8011265835064,
           3.0
          ],
          [
           387.3586482889782,
           6.0
          ],
          [
           235.31298890314352,
           1.0
          ]
         ],
         "hovertemplate": "source=survey<br>pdpurp_label=Work<br>tlvorg_hr=%{x}<br>percentage=%{y}<br>toexpfac=%{customdata[0]}<br>sample_count=%{customdata[1]}<extra></extra>",
         "legendgroup": "survey",
         "marker": {
          "color": "#8CC63E",
          "pattern": {
           "shape": ""
          }
         },
         "name": "survey",
         "offsetgroup": "survey",
         "orientation": "v",
         "showlegend": true,
         "textposition": "auto",
         "type": "bar",
         "x": [
          0,
          1,
          2,
          3,
          4,
          5,
          6,
          7,
          8,
          9,
          10,
          11,
          12,
          13,
          14,
          15,
          16,
          17,
          18,
          19,
          20,
          21,
          22,
          23
         ],
         "xaxis": "x6",
         "y": [
          0.0,
          0.00020877960062651538,
          0.0,
          0.010645464269209695,
          0.04487129856726463,
          0.07958634563736036,
          0.16688273449771068,
          0.24892289030455803,
          0.18636057738289077,
          0.09989652935028323,
          0.030186290402243892,
          0.02732414970916649,
          0.022445345090029815,
          0.01795864288500742,
          0.0196423223272594,
          0.019799533077336524,
          0.013731356867065227,
          0.008868444345183558,
          0.0014073682114412367,
          0.0005368406092432679,
          0.00019494329598550197,
          8.191875993204477e-05,
          0.00027883678368949635,
          0.00016938802651222915
         ],
         "yaxis": "y6"
        },
        {
         "alignmentgroup": "True",
         "customdata": [
          [
           0.0,
           0.0
          ],
          [
           0.0,
           0.0
          ],
          [
           0.0,
           0.0
          ],
          [
           0.0,
           0.0
          ],
          [
           86.688593033636,
           1.0
          ],
          [
           454.392198263691,
           4.0
          ],
          [
           35841.941662739446,
           28.0
          ],
          [
           184810.3781366287,
           229.0
          ],
          [
           178463.91097304694,
           262.0
          ],
          [
           54742.69479601805,
           55.0
          ],
          [
           11578.782726445686,
           19.0
          ],
          [
           4313.592683769604,
           14.0
          ],
          [
           5558.5039639001925,
           9.0
          ],
          [
           3238.946058029637,
           11.0
          ],
          [
           2722.2703378752167,
           6.0
          ],
          [
           1054.0446466650703,
           4.0
          ],
          [
           3913.0500727283707,
           7.0
          ],
          [
           869.3783619234035,
           5.0
          ],
          [
           1513.89214241086,
           1.0
          ],
          [
           0.0,
           0.0
          ],
          [
           0.0,
           0.0
          ],
          [
           0.0,
           0.0
          ],
          [
           0.0,
           0.0
          ],
          [
           0.0,
           0.0
          ]
         ],
         "hovertemplate": "source=survey<br>pdpurp_label=School<br>tlvorg_hr=%{x}<br>percentage=%{y}<br>toexpfac=%{customdata[0]}<br>sample_count=%{customdata[1]}<extra></extra>",
         "legendgroup": "survey",
         "marker": {
          "color": "#8CC63E",
          "pattern": {
           "shape": ""
          }
         },
         "name": "survey",
         "offsetgroup": "survey",
         "orientation": "v",
         "showlegend": false,
         "textposition": "auto",
         "type": "bar",
         "x": [
          0,
          1,
          2,
          3,
          4,
          5,
          6,
          7,
          8,
          9,
          10,
          11,
          12,
          13,
          14,
          15,
          16,
          17,
          18,
          19,
          20,
          21,
          22,
          23
         ],
         "xaxis": "x5",
         "y": [
          0.0,
          0.0,
          0.0,
          0.0,
          0.0001772184066014883,
          0.0009289187715527205,
          0.0732720600103592,
          0.37780980854175195,
          0.36483565866897427,
          0.11191106932670673,
          0.023670627857224028,
          0.008818323096429466,
          0.011363308378857096,
          0.0066214116458144165,
          0.005565166012436621,
          0.002154794607132842,
          0.007999489604955164,
          0.0017772793702407537,
          0.003094865700963299,
          0.0,
          0.0,
          0.0,
          0.0,
          0.0
         ],
         "yaxis": "y5"
        },
        {
         "alignmentgroup": "True",
         "customdata": [
          [
           143.521368637738,
           1.0
          ],
          [
           0.0,
           0.0
          ],
          [
           570.896774611867,
           1.0
          ],
          [
           0.0,
           0.0
          ],
          [
           0.0,
           0.0
          ],
          [
           776.7637534339301,
           5.0
          ],
          [
           4769.603818802844,
           8.0
          ],
          [
           12107.898756094188,
           36.0
          ],
          [
           18154.74250641554,
           53.0
          ],
          [
           53830.420476548774,
           115.0
          ],
          [
           62551.662332100495,
           163.0
          ],
          [
           71298.68910586351,
           122.0
          ],
          [
           59180.63170434406,
           124.0
          ],
          [
           59428.21451426868,
           135.0
          ],
          [
           62755.07549026256,
           154.0
          ],
          [
           68685.48809386698,
           111.0
          ],
          [
           55073.59917634843,
           110.0
          ],
          [
           28436.431609835225,
           119.0
          ],
          [
           62362.95808194446,
           102.0
          ],
          [
           20444.191353382026,
           89.0
          ],
          [
           7282.428149155888,
           32.0
          ],
          [
           2019.503056430456,
           14.0
          ],
          [
           2349.3900106379,
           7.0
          ],
          [
           628.325555652825,
           3.0
          ]
         ],
         "hovertemplate": "source=survey<br>pdpurp_label=Shop<br>tlvorg_hr=%{x}<br>percentage=%{y}<br>toexpfac=%{customdata[0]}<br>sample_count=%{customdata[1]}<extra></extra>",
         "legendgroup": "survey",
         "marker": {
          "color": "#8CC63E",
          "pattern": {
           "shape": ""
          }
         },
         "name": "survey",
         "offsetgroup": "survey",
         "orientation": "v",
         "showlegend": false,
         "textposition": "auto",
         "type": "bar",
         "x": [
          0,
          1,
          2,
          3,
          4,
          5,
          6,
          7,
          8,
          9,
          10,
          11,
          12,
          13,
          14,
          15,
          16,
          17,
          18,
          19,
          20,
          21,
          22,
          23
         ],
         "xaxis": "x4",
         "y": [
          0.00021983805293221423,
          0.0,
          0.0008744679384485282,
          0.0,
          0.0,
          0.0011898035307498658,
          0.007305813947679732,
          0.018546206135747707,
          0.027808425198132234,
          0.08245444520499934,
          0.09581315859293237,
          0.10921136788498328,
          0.0906496013009768,
          0.09102883488403088,
          0.09612473555917503,
          0.10520861186439479,
          0.08435867721870448,
          0.04355734492210297,
          0.09552411191418275,
          0.031315275652404405,
          0.011154818548101682,
          0.0030933625008616986,
          0.003598664996156005,
          0.0009624341523032851
         ],
         "yaxis": "y4"
        },
        {
         "alignmentgroup": "True",
         "customdata": [
          [
           632.62215829592,
           1.0
          ],
          [
           0.0,
           0.0
          ],
          [
           0.0,
           0.0
          ],
          [
           0.0,
           0.0
          ],
          [
           23.312448148228,
           1.0
          ],
          [
           46.07273363740228,
           2.0
          ],
          [
           2925.777734452038,
           8.0
          ],
          [
           23356.464399636094,
           20.0
          ],
          [
           14130.041614476764,
           44.0
          ],
          [
           15870.60030067402,
           49.0
          ],
          [
           22019.720159185876,
           57.0
          ],
          [
           34250.98114834558,
           106.0
          ],
          [
           38166.71534632753,
           116.0
          ],
          [
           13881.241923716083,
           61.0
          ],
          [
           13340.12024199408,
           38.0
          ],
          [
           31104.0607038911,
           56.0
          ],
          [
           18198.037158506493,
           57.0
          ],
          [
           29709.86656119252,
           96.0
          ],
          [
           40049.227019636426,
           104.0
          ],
          [
           34982.764543347,
           55.0
          ],
          [
           13824.595015197257,
           32.0
          ],
          [
           3917.0406076992076,
           11.0
          ],
          [
           64.4328417659313,
           2.0
          ],
          [
           592.2696401845194,
           2.0
          ]
         ],
         "hovertemplate": "source=survey<br>pdpurp_label=Meal<br>tlvorg_hr=%{x}<br>percentage=%{y}<br>toexpfac=%{customdata[0]}<br>sample_count=%{customdata[1]}<extra></extra>",
         "legendgroup": "survey",
         "marker": {
          "color": "#8CC63E",
          "pattern": {
           "shape": ""
          }
         },
         "name": "survey",
         "offsetgroup": "survey",
         "orientation": "v",
         "showlegend": false,
         "textposition": "auto",
         "type": "bar",
         "x": [
          0,
          1,
          2,
          3,
          4,
          5,
          6,
          7,
          8,
          9,
          10,
          11,
          12,
          13,
          14,
          15,
          16,
          17,
          18,
          19,
          20,
          21,
          22,
          23
         ],
         "xaxis": "x3",
         "y": [
          0.0018019010231773063,
          0.0,
          0.0,
          0.0,
          6.64009687618475e-05,
          0.00013122920971569464,
          0.008333508120391282,
          0.0665263404824055,
          0.04024667190167215,
          0.045204314368713146,
          0.06271888482659695,
          0.09755724987925792,
          0.10871045620519504,
          0.039538014432962114,
          0.03799673469880806,
          0.08859385981401828,
          0.051833565020959795,
          0.08462276929925756,
          0.11407242411257239,
          0.09964159237486242,
          0.03937666674527623,
          0.01115692737961085,
          0.0001835244023336036,
          0.001686964733451739
         ],
         "yaxis": "y3"
        },
        {
         "alignmentgroup": "True",
         "customdata": [
          [
           0.0,
           0.0
          ],
          [
           0.0,
           0.0
          ],
          [
           0.0,
           0.0
          ],
          [
           0.0,
           0.0
          ],
          [
           4054.1074151579,
           1.0
          ],
          [
           3621.6853178441725,
           8.0
          ],
          [
           14008.043944164965,
           15.0
          ],
          [
           79706.7588885024,
           112.0
          ],
          [
           107385.84328893691,
           150.0
          ],
          [
           32796.21169392768,
           46.0
          ],
          [
           5778.952525156871,
           27.0
          ],
          [
           9936.136797937106,
           23.0
          ],
          [
           13460.375487800953,
           38.0
          ],
          [
           40000.633169023255,
           47.0
          ],
          [
           56443.05266800754,
           72.0
          ],
          [
           67075.08161255954,
           81.0
          ],
          [
           38015.74994991363,
           55.0
          ],
          [
           50697.1829269029,
           53.0
          ],
          [
           3506.97842117303,
           17.0
          ],
          [
           9894.69890599117,
           16.0
          ],
          [
           2107.8410739376236,
           8.0
          ],
          [
           330.2706023061876,
           5.0
          ],
          [
           6096.135066820443,
           5.0
          ],
          [
           0.0,
           0.0
          ]
         ],
         "hovertemplate": "source=survey<br>pdpurp_label=Escort<br>tlvorg_hr=%{x}<br>percentage=%{y}<br>toexpfac=%{customdata[0]}<br>sample_count=%{customdata[1]}<extra></extra>",
         "legendgroup": "survey",
         "marker": {
          "color": "#8CC63E",
          "pattern": {
           "shape": ""
          }
         },
         "name": "survey",
         "offsetgroup": "survey",
         "orientation": "v",
         "showlegend": false,
         "textposition": "auto",
         "type": "bar",
         "x": [
          0,
          1,
          2,
          3,
          4,
          5,
          6,
          7,
          8,
          9,
          10,
          11,
          12,
          13,
          14,
          15,
          16,
          17,
          18,
          19,
          20,
          21,
          22,
          23
         ],
         "xaxis": "x2",
         "y": [
          0.0,
          0.0,
          0.0,
          0.0,
          0.007439879451771301,
          0.006646321722080276,
          0.02570680735050115,
          0.14627354850161559,
          0.19706871256280653,
          0.060185840307364145,
          0.01060522224545003,
          0.018234262791500744,
          0.024701755713326605,
          0.07340700635098162,
          0.10358124853078149,
          0.12309257508800577,
          0.0697644556329602,
          0.09303673802778735,
          0.006435817806883236,
          0.01815821820529649,
          0.0038681963469824067,
          0.0006060948110143337,
          0.011187298552890811,
          0.0
         ],
         "yaxis": "y2"
        },
        {
         "alignmentgroup": "True",
         "customdata": [
          [
           0.0,
           0.0
          ],
          [
           0.0,
           0.0
          ],
          [
           0.0,
           0.0
          ],
          [
           0.0,
           0.0
          ],
          [
           0.0,
           0.0
          ],
          [
           2325.255872414626,
           5.0
          ],
          [
           6446.83996860513,
           21.0
          ],
          [
           37494.19187984278,
           62.0
          ],
          [
           21983.974469176632,
           68.0
          ],
          [
           48225.42231837042,
           89.0
          ],
          [
           27457.449132175087,
           93.0
          ],
          [
           27892.063700452854,
           73.0
          ],
          [
           28210.82733993562,
           84.0
          ],
          [
           22478.414619897263,
           86.0
          ],
          [
           35846.57944133157,
           81.0
          ],
          [
           31185.913641812193,
           68.0
          ],
          [
           9833.272916917174,
           53.0
          ],
          [
           30678.220711815997,
           36.0
          ],
          [
           2633.6235605644374,
           22.0
          ],
          [
           13166.944073262279,
           15.0
          ],
          [
           6.85398522000551,
           1.0
          ],
          [
           29.4730659624188,
           1.0
          ],
          [
           197.424677262663,
           1.0
          ],
          [
           0.0,
           0.0
          ]
         ],
         "hovertemplate": "source=survey<br>pdpurp_label=Personal Business<br>tlvorg_hr=%{x}<br>percentage=%{y}<br>toexpfac=%{customdata[0]}<br>sample_count=%{customdata[1]}<extra></extra>",
         "legendgroup": "survey",
         "marker": {
          "color": "#8CC63E",
          "pattern": {
           "shape": ""
          }
         },
         "name": "survey",
         "offsetgroup": "survey",
         "orientation": "v",
         "showlegend": false,
         "textposition": "auto",
         "type": "bar",
         "x": [
          0,
          1,
          2,
          3,
          4,
          5,
          6,
          7,
          8,
          9,
          10,
          11,
          12,
          13,
          14,
          15,
          16,
          17,
          18,
          19,
          20,
          21,
          22,
          23
         ],
         "xaxis": "x",
         "y": [
          0.0,
          0.0,
          0.0,
          0.0,
          0.0,
          0.006718591774857995,
          0.01862749235503178,
          0.1083356770140178,
          0.06352047178959282,
          0.1393424825074398,
          0.07933552349507571,
          0.08059129835336357,
          0.08151233366468555,
          0.06494910662036589,
          0.10357506743601035,
          0.09010854477177718,
          0.028412248012485895,
          0.0886416173750585,
          0.007609589035767554,
          0.038044553805930956,
          1.9803897399174516e-05,
          8.515944456010593e-05,
          0.0005704386465793658,
          0.0
         ],
         "yaxis": "y"
        },
        {
         "alignmentgroup": "True",
         "customdata": [
          [
           663.365825915265,
           1.0
          ],
          [
           0.0,
           0.0
          ],
          [
           66.61248155133971,
           2.0
          ],
          [
           11536.937249213654,
           35.0
          ],
          [
           47069.110645288965,
           144.0
          ],
          [
           176781.1604996762,
           464.0
          ],
          [
           333470.07784518343,
           1342.0
          ],
          [
           393071.5312644367,
           2287.0
          ],
          [
           269789.2629268081,
           1877.0
          ],
          [
           165885.50163496353,
           1035.0
          ],
          [
           74340.17758940026,
           457.0
          ],
          [
           26843.559387681584,
           262.0
          ],
          [
           38841.596463089474,
           243.0
          ],
          [
           29706.812597293476,
           196.0
          ],
          [
           18524.446823193204,
           130.0
          ],
          [
           19186.686366792266,
           73.0
          ],
          [
           10080.046467017171,
           76.0
          ],
          [
           9235.10731416993,
           64.0
          ],
          [
           4129.18919406304,
           39.0
          ],
          [
           2189.811752997617,
           13.0
          ],
          [
           1627.1968036848764,
           10.0
          ],
          [
           2.034207699983375,
           1.0
          ],
          [
           988.686151042609,
           2.0
          ],
          [
           988.686151042609,
           2.0
          ]
         ],
         "hovertemplate": "source=survey (2017/2019)<br>pdpurp_label=Work<br>tlvorg_hr=%{x}<br>percentage=%{y}<br>toexpfac=%{customdata[0]}<br>sample_count=%{customdata[1]}<extra></extra>",
         "legendgroup": "survey (2017/2019)",
         "marker": {
          "color": "#00A7A0",
          "pattern": {
           "shape": ""
          }
         },
         "name": "survey (2017/2019)",
         "offsetgroup": "survey (2017/2019)",
         "orientation": "v",
         "showlegend": true,
         "textposition": "auto",
         "type": "bar",
         "x": [
          0,
          1,
          2,
          3,
          4,
          5,
          6,
          7,
          8,
          9,
          10,
          11,
          12,
          13,
          14,
          15,
          16,
          17,
          18,
          19,
          20,
          21,
          22,
          23
         ],
         "xaxis": "x6",
         "y": [
          0.00040572396705202367,
          0.0,
          4.074114043016966e-05,
          0.007056154787477896,
          0.02878813702871791,
          0.10812187021999357,
          0.20395503897087564,
          0.24040813495296307,
          0.1650069475190118,
          0.10145793040648646,
          0.045467509155010515,
          0.016417902428935094,
          0.023756072423380285,
          0.018169108785209716,
          0.011329814951170301,
          0.011734850067950726,
          0.006165099679387678,
          0.00564832288501819,
          0.0025254707961660976,
          0.0013393199902896817,
          0.0009952166912646037,
          1.2441503399821667e-06,
          0.0006046945014343298,
          0.0006046945014343298
         ],
         "yaxis": "y6"
        },
        {
         "alignmentgroup": "True",
         "customdata": [
          [
           0.0,
           0.0
          ],
          [
           0.0,
           0.0
          ],
          [
           0.0,
           0.0
          ],
          [
           0.0,
           0.0
          ],
          [
           0.0,
           0.0
          ],
          [
           10420.73913625376,
           19.0
          ],
          [
           67142.9621295134,
           117.0
          ],
          [
           184966.19363985508,
           500.0
          ],
          [
           158860.1815105916,
           567.0
          ],
          [
           36237.68696938745,
           140.0
          ],
          [
           13587.301864651043,
           57.0
          ],
          [
           5464.016981777702,
           29.0
          ],
          [
           9372.079396235318,
           46.0
          ],
          [
           3740.5243791076186,
           32.0
          ],
          [
           2899.564229654071,
           33.0
          ],
          [
           17571.07859392331,
           29.0
          ],
          [
           5634.82123136347,
           27.0
          ],
          [
           8698.72148985911,
           38.0
          ],
          [
           675.1015338263429,
           11.0
          ],
          [
           75.14674575208934,
           3.0
          ],
          [
           0.0,
           0.0
          ],
          [
           0.0,
           0.0
          ],
          [
           0.0,
           0.0
          ],
          [
           0.0,
           0.0
          ]
         ],
         "hovertemplate": "source=survey (2017/2019)<br>pdpurp_label=School<br>tlvorg_hr=%{x}<br>percentage=%{y}<br>toexpfac=%{customdata[0]}<br>sample_count=%{customdata[1]}<extra></extra>",
         "legendgroup": "survey (2017/2019)",
         "marker": {
          "color": "#00A7A0",
          "pattern": {
           "shape": ""
          }
         },
         "name": "survey (2017/2019)",
         "offsetgroup": "survey (2017/2019)",
         "orientation": "v",
         "showlegend": false,
         "textposition": "auto",
         "type": "bar",
         "x": [
          0,
          1,
          2,
          3,
          4,
          5,
          6,
          7,
          8,
          9,
          10,
          11,
          12,
          13,
          14,
          15,
          16,
          17,
          18,
          19,
          20,
          21,
          22,
          23
         ],
         "xaxis": "x5",
         "y": [
          0.0,
          0.0,
          0.0,
          0.0,
          0.0,
          0.019835949563291974,
          0.127807096302561,
          0.3520844385394772,
          0.3023914625303953,
          0.06897868967033205,
          0.025863523783144236,
          0.010400794401084797,
          0.01783981844052992,
          0.0071201142216593665,
          0.005519340716902397,
          0.03344667054845797,
          0.010725921480429116,
          0.016558076973415135,
          0.0012850604741166693,
          0.00014304235420289395,
          0.0,
          0.0,
          0.0,
          0.0
         ],
         "yaxis": "y5"
        },
        {
         "alignmentgroup": "True",
         "customdata": [
          [
           83.24521252225395,
           2.0
          ],
          [
           0.0,
           0.0
          ],
          [
           0.54525469613021,
           1.0
          ],
          [
           11.087229656279533,
           1.0
          ],
          [
           608.1118660539306,
           3.0
          ],
          [
           313.64492561617914,
           3.0
          ],
          [
           6154.285694475871,
           16.0
          ],
          [
           13477.069989906293,
           54.0
          ],
          [
           22829.07546272082,
           87.0
          ],
          [
           134178.9118874883,
           211.0
          ],
          [
           102892.51383715212,
           225.0
          ],
          [
           91115.22510114146,
           230.0
          ],
          [
           89633.42932089814,
           201.0
          ],
          [
           28021.09586572641,
           219.0
          ],
          [
           51437.90924882699,
           190.0
          ],
          [
           64356.26229586239,
           200.0
          ],
          [
           35570.71695496433,
           203.0
          ],
          [
           44948.325094358785,
           206.0
          ],
          [
           25821.85826057283,
           201.0
          ],
          [
           37186.01221540865,
           173.0
          ],
          [
           16066.913929221464,
           97.0
          ],
          [
           18875.025830543796,
           49.0
          ],
          [
           557.4277959529772,
           17.0
          ],
          [
           2123.97370652186,
           7.0
          ]
         ],
         "hovertemplate": "source=survey (2017/2019)<br>pdpurp_label=Shop<br>tlvorg_hr=%{x}<br>percentage=%{y}<br>toexpfac=%{customdata[0]}<br>sample_count=%{customdata[1]}<extra></extra>",
         "legendgroup": "survey (2017/2019)",
         "marker": {
          "color": "#00A7A0",
          "pattern": {
           "shape": ""
          }
         },
         "name": "survey (2017/2019)",
         "offsetgroup": "survey (2017/2019)",
         "orientation": "v",
         "showlegend": false,
         "textposition": "auto",
         "type": "bar",
         "x": [
          0,
          1,
          2,
          3,
          4,
          5,
          6,
          7,
          8,
          9,
          10,
          11,
          12,
          13,
          14,
          15,
          16,
          17,
          18,
          19,
          20,
          21,
          22,
          23
         ],
         "xaxis": "x4",
         "y": [
          0.00010587455823378287,
          0.0,
          6.934765174904071e-07,
          1.410117778942885e-05,
          0.0007734207556737221,
          0.00039890603838633267,
          0.007827264288296878,
          0.017140671375974366,
          0.029034922324873844,
          0.17065405432870717,
          0.13086277418247516,
          0.11588395192547753,
          0.11399934536526235,
          0.03563833950471529,
          0.06542077019423911,
          0.08185084323414253,
          0.04524024661068652,
          0.05716706004494252,
          0.032841262017111884,
          0.04729464309710245,
          0.020434537469428478,
          0.02400600540152188,
          0.0007089587479637414,
          0.0027013538804775894
         ],
         "yaxis": "y4"
        },
        {
         "alignmentgroup": "True",
         "customdata": [
          [
           0.0,
           0.0
          ],
          [
           0.0,
           0.0
          ],
          [
           0.0,
           0.0
          ],
          [
           0.0,
           0.0
          ],
          [
           104.37588060467607,
           2.0
          ],
          [
           1004.4129807216316,
           5.0
          ],
          [
           11355.197307710754,
           17.0
          ],
          [
           4466.581191293693,
           65.0
          ],
          [
           9391.502890534057,
           82.0
          ],
          [
           10422.979978670437,
           76.0
          ],
          [
           23115.5301076332,
           88.0
          ],
          [
           79799.76079279724,
           284.0
          ],
          [
           62591.62622065111,
           315.0
          ],
          [
           24590.122393228026,
           131.0
          ],
          [
           6320.630172016206,
           78.0
          ],
          [
           9277.003714894172,
           76.0
          ],
          [
           23708.46135221934,
           119.0
          ],
          [
           33989.642419100965,
           196.0
          ],
          [
           47203.97984922029,
           242.0
          ],
          [
           10816.375339993583,
           164.0
          ],
          [
           5593.375487917708,
           82.0
          ],
          [
           496.1524996618177,
           23.0
          ],
          [
           5109.103377173227,
           8.0
          ],
          [
           0.0,
           0.0
          ]
         ],
         "hovertemplate": "source=survey (2017/2019)<br>pdpurp_label=Meal<br>tlvorg_hr=%{x}<br>percentage=%{y}<br>toexpfac=%{customdata[0]}<br>sample_count=%{customdata[1]}<extra></extra>",
         "legendgroup": "survey (2017/2019)",
         "marker": {
          "color": "#00A7A0",
          "pattern": {
           "shape": ""
          }
         },
         "name": "survey (2017/2019)",
         "offsetgroup": "survey (2017/2019)",
         "orientation": "v",
         "showlegend": false,
         "textposition": "auto",
         "type": "bar",
         "x": [
          0,
          1,
          2,
          3,
          4,
          5,
          6,
          7,
          8,
          9,
          10,
          11,
          12,
          13,
          14,
          15,
          16,
          17,
          18,
          19,
          20,
          21,
          22,
          23
         ],
         "xaxis": "x3",
         "y": [
          0.0,
          0.0,
          0.0,
          0.0,
          0.00028258820918110377,
          0.002719356846199049,
          0.030743164546199915,
          0.012092862572247738,
          0.02542664040753762,
          0.028219270864489575,
          0.06258319661156765,
          0.2160505987099357,
          0.1694611385404149,
          0.06657552118736475,
          0.017112531658258337,
          0.025116644297235695,
          0.0641885040600359,
          0.09202386726009104,
          0.1278004846956421,
          0.02928435304643076,
          0.015143555707038845,
          0.0013432877935774749,
          0.013832432986551782,
          0.0
         ],
         "yaxis": "y3"
        },
        {
         "alignmentgroup": "True",
         "customdata": [
          [
           0.0,
           0.0
          ],
          [
           0.0,
           0.0
          ],
          [
           0.0,
           0.0
          ],
          [
           68.99716112623685,
           2.0
          ],
          [
           1608.8011555079397,
           8.0
          ],
          [
           3465.3706566656133,
           13.0
          ],
          [
           5061.683382412337,
           43.0
          ],
          [
           57099.76069383569,
           219.0
          ],
          [
           72887.47341573531,
           233.0
          ],
          [
           14689.853983763354,
           60.0
          ],
          [
           9347.769180612215,
           31.0
          ],
          [
           14275.894103075521,
           49.0
          ],
          [
           11401.469748573027,
           45.0
          ],
          [
           21614.712298822113,
           57.0
          ],
          [
           41300.91505807776,
           101.0
          ],
          [
           38700.83596111881,
           135.0
          ],
          [
           21628.90027714401,
           129.0
          ],
          [
           53721.588782949155,
           109.0
          ],
          [
           30992.119239703625,
           74.0
          ],
          [
           17977.90415949376,
           42.0
          ],
          [
           11720.50858389246,
           24.0
          ],
          [
           6335.466793934932,
           24.0
          ],
          [
           636.9309530825855,
           9.0
          ],
          [
           330.4532993800188,
           3.0
          ]
         ],
         "hovertemplate": "source=survey (2017/2019)<br>pdpurp_label=Escort<br>tlvorg_hr=%{x}<br>percentage=%{y}<br>toexpfac=%{customdata[0]}<br>sample_count=%{customdata[1]}<extra></extra>",
         "legendgroup": "survey (2017/2019)",
         "marker": {
          "color": "#00A7A0",
          "pattern": {
           "shape": ""
          }
         },
         "name": "survey (2017/2019)",
         "offsetgroup": "survey (2017/2019)",
         "orientation": "v",
         "showlegend": false,
         "textposition": "auto",
         "type": "bar",
         "x": [
          0,
          1,
          2,
          3,
          4,
          5,
          6,
          7,
          8,
          9,
          10,
          11,
          12,
          13,
          14,
          15,
          16,
          17,
          18,
          19,
          20,
          21,
          22,
          23
         ],
         "xaxis": "x2",
         "y": [
          0.0,
          0.0,
          0.0,
          0.00015866252498094937,
          0.0036995211014282576,
          0.007968798272373857,
          0.011639601586481321,
          0.1313038400364988,
          0.1676084984201599,
          0.033780075681680025,
          0.021495676589091656,
          0.032828153619400155,
          0.0262182667993078,
          0.04970414396895841,
          0.09497358094413717,
          0.08899456517102558,
          0.049736769955711815,
          0.12353555977029577,
          0.07126797411396961,
          0.04134111637712195,
          0.026951913029855598,
          0.014568732134059336,
          0.0014646555250253284,
          0.0007598943784367113
         ],
         "yaxis": "y2"
        },
        {
         "alignmentgroup": "True",
         "customdata": [
          [
           0.0,
           0.0
          ],
          [
           0.0,
           0.0
          ],
          [
           0.0,
           0.0
          ],
          [
           415.12771485007175,
           5.0
          ],
          [
           693.650708366326,
           7.0
          ],
          [
           4797.110596523592,
           19.0
          ],
          [
           18699.959783412443,
           69.0
          ],
          [
           47346.51151895759,
           148.0
          ],
          [
           71276.96887912306,
           291.0
          ],
          [
           87578.65479472805,
           260.0
          ],
          [
           82767.19373577408,
           271.0
          ],
          [
           107315.80528704856,
           182.0
          ],
          [
           36318.721934705594,
           209.0
          ],
          [
           32255.442975107242,
           195.0
          ],
          [
           80591.80973502374,
           192.0
          ],
          [
           51540.587086667394,
           196.0
          ],
          [
           55075.73985185104,
           193.0
          ],
          [
           83275.02395238554,
           171.0
          ],
          [
           36066.865380506766,
           180.0
          ],
          [
           11826.822830027124,
           92.0
          ],
          [
           4337.791814374123,
           39.0
          ],
          [
           2041.160644579677,
           18.0
          ],
          [
           700.3758568446026,
           9.0
          ],
          [
           68.08898090709165,
           2.0
          ]
         ],
         "hovertemplate": "source=survey (2017/2019)<br>pdpurp_label=Personal Business<br>tlvorg_hr=%{x}<br>percentage=%{y}<br>toexpfac=%{customdata[0]}<br>sample_count=%{customdata[1]}<extra></extra>",
         "legendgroup": "survey (2017/2019)",
         "marker": {
          "color": "#00A7A0",
          "pattern": {
           "shape": ""
          }
         },
         "name": "survey (2017/2019)",
         "offsetgroup": "survey (2017/2019)",
         "orientation": "v",
         "showlegend": false,
         "textposition": "auto",
         "type": "bar",
         "x": [
          0,
          1,
          2,
          3,
          4,
          5,
          6,
          7,
          8,
          9,
          10,
          11,
          12,
          13,
          14,
          15,
          16,
          17,
          18,
          19,
          20,
          21,
          22,
          23
         ],
         "xaxis": "x",
         "y": [
          0.0,
          0.0,
          0.0,
          0.000509365775416822,
          0.0008511162186871764,
          0.0058861017256845545,
          0.022945033960889302,
          0.05809463374866541,
          0.0874575395082633,
          0.10745986792423652,
          0.10155615804047927,
          0.13167754505203383,
          0.04456342782871188,
          0.03957774471493046,
          0.09888694054732361,
          0.06324080558273534,
          0.0675784726790048,
          0.10217927069427502,
          0.04425439736788219,
          0.014511627545055243,
          0.005322513077507758,
          0.00250452411940775,
          0.0008593680417933929,
          8.354584701627983e-05
         ],
         "yaxis": "y"
        }
       ],
       "layout": {
        "annotations": [
         {
          "font": {},
          "showarrow": false,
          "text": "Personal Business",
          "textangle": 90,
          "x": 0.98,
          "xanchor": "left",
          "xref": "paper",
          "y": 0.07083333333333333,
          "yanchor": "middle",
          "yref": "paper"
         },
         {
          "font": {},
          "showarrow": false,
          "text": "Escort",
          "textangle": 90,
          "x": 0.98,
          "xanchor": "left",
          "xref": "paper",
          "y": 0.2425,
          "yanchor": "middle",
          "yref": "paper"
         },
         {
          "font": {},
          "showarrow": false,
          "text": "Meal",
          "textangle": 90,
          "x": 0.98,
          "xanchor": "left",
          "xref": "paper",
          "y": 0.4141666666666667,
          "yanchor": "middle",
          "yref": "paper"
         },
         {
          "font": {},
          "showarrow": false,
          "text": "Shop",
          "textangle": 90,
          "x": 0.98,
          "xanchor": "left",
          "xref": "paper",
          "y": 0.5858333333333334,
          "yanchor": "middle",
          "yref": "paper"
         },
         {
          "font": {},
          "showarrow": false,
          "text": "School",
          "textangle": 90,
          "x": 0.98,
          "xanchor": "left",
          "xref": "paper",
          "y": 0.7575000000000001,
          "yanchor": "middle",
          "yref": "paper"
         },
         {
          "font": {},
          "showarrow": false,
          "text": "Work",
          "textangle": 90,
          "x": 0.98,
          "xanchor": "left",
          "xref": "paper",
          "y": 0.9291666666666667,
          "yanchor": "middle",
          "yref": "paper"
         }
        ],
        "barmode": "group",
        "height": 1500,
        "legend": {
         "title": {
          "text": "source"
         },
         "tracegroupgap": 0
        },
        "template": {
         "data": {
          "bar": [
           {
            "error_x": {
             "color": "rgb(36,36,36)"
            },
            "error_y": {
             "color": "rgb(36,36,36)"
            },
            "marker": {
             "line": {
              "color": "white",
              "width": 0.5
             },
             "pattern": {
              "fillmode": "overlay",
              "size": 10,
              "solidity": 0.2
             }
            },
            "type": "bar"
           }
          ],
          "barpolar": [
           {
            "marker": {
             "line": {
              "color": "white",
              "width": 0.5
             },
             "pattern": {
              "fillmode": "overlay",
              "size": 10,
              "solidity": 0.2
             }
            },
            "type": "barpolar"
           }
          ],
          "carpet": [
           {
            "aaxis": {
             "endlinecolor": "rgb(36,36,36)",
             "gridcolor": "white",
             "linecolor": "white",
             "minorgridcolor": "white",
             "startlinecolor": "rgb(36,36,36)"
            },
            "baxis": {
             "endlinecolor": "rgb(36,36,36)",
             "gridcolor": "white",
             "linecolor": "white",
             "minorgridcolor": "white",
             "startlinecolor": "rgb(36,36,36)"
            },
            "type": "carpet"
           }
          ],
          "choropleth": [
           {
            "colorbar": {
             "outlinewidth": 1,
             "tickcolor": "rgb(36,36,36)",
             "ticks": "outside"
            },
            "type": "choropleth"
           }
          ],
          "contour": [
           {
            "colorbar": {
             "outlinewidth": 1,
             "tickcolor": "rgb(36,36,36)",
             "ticks": "outside"
            },
            "colorscale": [
             [
              0.0,
              "#440154"
             ],
             [
              0.1111111111111111,
              "#482878"
             ],
             [
              0.2222222222222222,
              "#3e4989"
             ],
             [
              0.3333333333333333,
              "#31688e"
             ],
             [
              0.4444444444444444,
              "#26828e"
             ],
             [
              0.5555555555555556,
              "#1f9e89"
             ],
             [
              0.6666666666666666,
              "#35b779"
             ],
             [
              0.7777777777777778,
              "#6ece58"
             ],
             [
              0.8888888888888888,
              "#b5de2b"
             ],
             [
              1.0,
              "#fde725"
             ]
            ],
            "type": "contour"
           }
          ],
          "contourcarpet": [
           {
            "colorbar": {
             "outlinewidth": 1,
             "tickcolor": "rgb(36,36,36)",
             "ticks": "outside"
            },
            "type": "contourcarpet"
           }
          ],
          "heatmap": [
           {
            "colorbar": {
             "outlinewidth": 1,
             "tickcolor": "rgb(36,36,36)",
             "ticks": "outside"
            },
            "colorscale": [
             [
              0.0,
              "#440154"
             ],
             [
              0.1111111111111111,
              "#482878"
             ],
             [
              0.2222222222222222,
              "#3e4989"
             ],
             [
              0.3333333333333333,
              "#31688e"
             ],
             [
              0.4444444444444444,
              "#26828e"
             ],
             [
              0.5555555555555556,
              "#1f9e89"
             ],
             [
              0.6666666666666666,
              "#35b779"
             ],
             [
              0.7777777777777778,
              "#6ece58"
             ],
             [
              0.8888888888888888,
              "#b5de2b"
             ],
             [
              1.0,
              "#fde725"
             ]
            ],
            "type": "heatmap"
           }
          ],
          "heatmapgl": [
           {
            "colorbar": {
             "outlinewidth": 1,
             "tickcolor": "rgb(36,36,36)",
             "ticks": "outside"
            },
            "colorscale": [
             [
              0.0,
              "#440154"
             ],
             [
              0.1111111111111111,
              "#482878"
             ],
             [
              0.2222222222222222,
              "#3e4989"
             ],
             [
              0.3333333333333333,
              "#31688e"
             ],
             [
              0.4444444444444444,
              "#26828e"
             ],
             [
              0.5555555555555556,
              "#1f9e89"
             ],
             [
              0.6666666666666666,
              "#35b779"
             ],
             [
              0.7777777777777778,
              "#6ece58"
             ],
             [
              0.8888888888888888,
              "#b5de2b"
             ],
             [
              1.0,
              "#fde725"
             ]
            ],
            "type": "heatmapgl"
           }
          ],
          "histogram": [
           {
            "marker": {
             "line": {
              "color": "white",
              "width": 0.6
             }
            },
            "type": "histogram"
           }
          ],
          "histogram2d": [
           {
            "colorbar": {
             "outlinewidth": 1,
             "tickcolor": "rgb(36,36,36)",
             "ticks": "outside"
            },
            "colorscale": [
             [
              0.0,
              "#440154"
             ],
             [
              0.1111111111111111,
              "#482878"
             ],
             [
              0.2222222222222222,
              "#3e4989"
             ],
             [
              0.3333333333333333,
              "#31688e"
             ],
             [
              0.4444444444444444,
              "#26828e"
             ],
             [
              0.5555555555555556,
              "#1f9e89"
             ],
             [
              0.6666666666666666,
              "#35b779"
             ],
             [
              0.7777777777777778,
              "#6ece58"
             ],
             [
              0.8888888888888888,
              "#b5de2b"
             ],
             [
              1.0,
              "#fde725"
             ]
            ],
            "type": "histogram2d"
           }
          ],
          "histogram2dcontour": [
           {
            "colorbar": {
             "outlinewidth": 1,
             "tickcolor": "rgb(36,36,36)",
             "ticks": "outside"
            },
            "colorscale": [
             [
              0.0,
              "#440154"
             ],
             [
              0.1111111111111111,
              "#482878"
             ],
             [
              0.2222222222222222,
              "#3e4989"
             ],
             [
              0.3333333333333333,
              "#31688e"
             ],
             [
              0.4444444444444444,
              "#26828e"
             ],
             [
              0.5555555555555556,
              "#1f9e89"
             ],
             [
              0.6666666666666666,
              "#35b779"
             ],
             [
              0.7777777777777778,
              "#6ece58"
             ],
             [
              0.8888888888888888,
              "#b5de2b"
             ],
             [
              1.0,
              "#fde725"
             ]
            ],
            "type": "histogram2dcontour"
           }
          ],
          "mesh3d": [
           {
            "colorbar": {
             "outlinewidth": 1,
             "tickcolor": "rgb(36,36,36)",
             "ticks": "outside"
            },
            "type": "mesh3d"
           }
          ],
          "parcoords": [
           {
            "line": {
             "colorbar": {
              "outlinewidth": 1,
              "tickcolor": "rgb(36,36,36)",
              "ticks": "outside"
             }
            },
            "type": "parcoords"
           }
          ],
          "pie": [
           {
            "automargin": true,
            "type": "pie"
           }
          ],
          "scatter": [
           {
            "fillpattern": {
             "fillmode": "overlay",
             "size": 10,
             "solidity": 0.2
            },
            "type": "scatter"
           }
          ],
          "scatter3d": [
           {
            "line": {
             "colorbar": {
              "outlinewidth": 1,
              "tickcolor": "rgb(36,36,36)",
              "ticks": "outside"
             }
            },
            "marker": {
             "colorbar": {
              "outlinewidth": 1,
              "tickcolor": "rgb(36,36,36)",
              "ticks": "outside"
             }
            },
            "type": "scatter3d"
           }
          ],
          "scattercarpet": [
           {
            "marker": {
             "colorbar": {
              "outlinewidth": 1,
              "tickcolor": "rgb(36,36,36)",
              "ticks": "outside"
             }
            },
            "type": "scattercarpet"
           }
          ],
          "scattergeo": [
           {
            "marker": {
             "colorbar": {
              "outlinewidth": 1,
              "tickcolor": "rgb(36,36,36)",
              "ticks": "outside"
             }
            },
            "type": "scattergeo"
           }
          ],
          "scattergl": [
           {
            "marker": {
             "colorbar": {
              "outlinewidth": 1,
              "tickcolor": "rgb(36,36,36)",
              "ticks": "outside"
             }
            },
            "type": "scattergl"
           }
          ],
          "scattermapbox": [
           {
            "marker": {
             "colorbar": {
              "outlinewidth": 1,
              "tickcolor": "rgb(36,36,36)",
              "ticks": "outside"
             }
            },
            "type": "scattermapbox"
           }
          ],
          "scatterpolar": [
           {
            "marker": {
             "colorbar": {
              "outlinewidth": 1,
              "tickcolor": "rgb(36,36,36)",
              "ticks": "outside"
             }
            },
            "type": "scatterpolar"
           }
          ],
          "scatterpolargl": [
           {
            "marker": {
             "colorbar": {
              "outlinewidth": 1,
              "tickcolor": "rgb(36,36,36)",
              "ticks": "outside"
             }
            },
            "type": "scatterpolargl"
           }
          ],
          "scatterternary": [
           {
            "marker": {
             "colorbar": {
              "outlinewidth": 1,
              "tickcolor": "rgb(36,36,36)",
              "ticks": "outside"
             }
            },
            "type": "scatterternary"
           }
          ],
          "surface": [
           {
            "colorbar": {
             "outlinewidth": 1,
             "tickcolor": "rgb(36,36,36)",
             "ticks": "outside"
            },
            "colorscale": [
             [
              0.0,
              "#440154"
             ],
             [
              0.1111111111111111,
              "#482878"
             ],
             [
              0.2222222222222222,
              "#3e4989"
             ],
             [
              0.3333333333333333,
              "#31688e"
             ],
             [
              0.4444444444444444,
              "#26828e"
             ],
             [
              0.5555555555555556,
              "#1f9e89"
             ],
             [
              0.6666666666666666,
              "#35b779"
             ],
             [
              0.7777777777777778,
              "#6ece58"
             ],
             [
              0.8888888888888888,
              "#b5de2b"
             ],
             [
              1.0,
              "#fde725"
             ]
            ],
            "type": "surface"
           }
          ],
          "table": [
           {
            "cells": {
             "fill": {
              "color": "rgb(237,237,237)"
             },
             "line": {
              "color": "white"
             }
            },
            "header": {
             "fill": {
              "color": "rgb(217,217,217)"
             },
             "line": {
              "color": "white"
             }
            },
            "type": "table"
           }
          ]
         },
         "layout": {
          "annotationdefaults": {
           "arrowhead": 0,
           "arrowwidth": 1
          },
          "autotypenumbers": "strict",
          "coloraxis": {
           "colorbar": {
            "outlinewidth": 1,
            "tickcolor": "rgb(36,36,36)",
            "ticks": "outside"
           }
          },
          "colorscale": {
           "diverging": [
            [
             0.0,
             "rgb(103,0,31)"
            ],
            [
             0.1,
             "rgb(178,24,43)"
            ],
            [
             0.2,
             "rgb(214,96,77)"
            ],
            [
             0.3,
             "rgb(244,165,130)"
            ],
            [
             0.4,
             "rgb(253,219,199)"
            ],
            [
             0.5,
             "rgb(247,247,247)"
            ],
            [
             0.6,
             "rgb(209,229,240)"
            ],
            [
             0.7,
             "rgb(146,197,222)"
            ],
            [
             0.8,
             "rgb(67,147,195)"
            ],
            [
             0.9,
             "rgb(33,102,172)"
            ],
            [
             1.0,
             "rgb(5,48,97)"
            ]
           ],
           "sequential": [
            [
             0.0,
             "#440154"
            ],
            [
             0.1111111111111111,
             "#482878"
            ],
            [
             0.2222222222222222,
             "#3e4989"
            ],
            [
             0.3333333333333333,
             "#31688e"
            ],
            [
             0.4444444444444444,
             "#26828e"
            ],
            [
             0.5555555555555556,
             "#1f9e89"
            ],
            [
             0.6666666666666666,
             "#35b779"
            ],
            [
             0.7777777777777778,
             "#6ece58"
            ],
            [
             0.8888888888888888,
             "#b5de2b"
            ],
            [
             1.0,
             "#fde725"
            ]
           ],
           "sequentialminus": [
            [
             0.0,
             "#440154"
            ],
            [
             0.1111111111111111,
             "#482878"
            ],
            [
             0.2222222222222222,
             "#3e4989"
            ],
            [
             0.3333333333333333,
             "#31688e"
            ],
            [
             0.4444444444444444,
             "#26828e"
            ],
            [
             0.5555555555555556,
             "#1f9e89"
            ],
            [
             0.6666666666666666,
             "#35b779"
            ],
            [
             0.7777777777777778,
             "#6ece58"
            ],
            [
             0.8888888888888888,
             "#b5de2b"
            ],
            [
             1.0,
             "#fde725"
            ]
           ]
          },
          "colorway": [
           "#91268F",
           "#8CC63E",
           "#00A7A0",
           "#F05A28",
           "#4C4C4C",
           "#630460",
           "#9f3913",
           "#588527",
           "#00716c",
           "#3e4040"
          ],
          "font": {
           "color": "rgb(36,36,36)",
           "family": "Poppins",
           "size": 11
          },
          "geo": {
           "bgcolor": "white",
           "lakecolor": "white",
           "landcolor": "white",
           "showlakes": true,
           "showland": true,
           "subunitcolor": "white"
          },
          "hoverlabel": {
           "align": "left"
          },
          "hovermode": "closest",
          "mapbox": {
           "style": "light"
          },
          "paper_bgcolor": "white",
          "plot_bgcolor": "white",
          "polar": {
           "angularaxis": {
            "gridcolor": "rgb(232,232,232)",
            "linecolor": "rgb(36,36,36)",
            "showgrid": false,
            "showline": true,
            "ticks": "outside"
           },
           "bgcolor": "white",
           "radialaxis": {
            "gridcolor": "rgb(232,232,232)",
            "linecolor": "rgb(36,36,36)",
            "showgrid": false,
            "showline": true,
            "ticks": "outside"
           }
          },
          "scene": {
           "xaxis": {
            "backgroundcolor": "white",
            "gridcolor": "rgb(232,232,232)",
            "gridwidth": 2,
            "linecolor": "rgb(36,36,36)",
            "showbackground": true,
            "showgrid": false,
            "showline": true,
            "ticks": "outside",
            "zeroline": false,
            "zerolinecolor": "rgb(36,36,36)"
           },
           "yaxis": {
            "backgroundcolor": "white",
            "gridcolor": "rgb(232,232,232)",
            "gridwidth": 2,
            "linecolor": "rgb(36,36,36)",
            "showbackground": true,
            "showgrid": false,
            "showline": true,
            "ticks": "outside",
            "zeroline": false,
            "zerolinecolor": "rgb(36,36,36)"
           },
           "zaxis": {
            "backgroundcolor": "white",
            "gridcolor": "rgb(232,232,232)",
            "gridwidth": 2,
            "linecolor": "rgb(36,36,36)",
            "showbackground": true,
            "showgrid": false,
            "showline": true,
            "ticks": "outside",
            "zeroline": false,
            "zerolinecolor": "rgb(36,36,36)"
           }
          },
          "shapedefaults": {
           "fillcolor": "black",
           "line": {
            "width": 0
           },
           "opacity": 0.3
          },
          "ternary": {
           "aaxis": {
            "gridcolor": "rgb(232,232,232)",
            "linecolor": "rgb(36,36,36)",
            "showgrid": false,
            "showline": true,
            "ticks": "outside"
           },
           "baxis": {
            "gridcolor": "rgb(232,232,232)",
            "linecolor": "rgb(36,36,36)",
            "showgrid": false,
            "showline": true,
            "ticks": "outside"
           },
           "bgcolor": "white",
           "caxis": {
            "gridcolor": "rgb(232,232,232)",
            "linecolor": "rgb(36,36,36)",
            "showgrid": false,
            "showline": true,
            "ticks": "outside"
           }
          },
          "title": {
           "x": 0.05
          },
          "xaxis": {
           "automargin": true,
           "gridcolor": "rgb(232,232,232)",
           "linecolor": "rgb(36,36,36)",
           "showgrid": false,
           "showline": true,
           "ticks": "outside",
           "title": {
            "standoff": 15
           },
           "zeroline": false,
           "zerolinecolor": "rgb(36,36,36)"
          },
          "yaxis": {
           "automargin": true,
           "gridcolor": "rgb(232,232,232)",
           "linecolor": "rgb(36,36,36)",
           "showgrid": false,
           "showline": true,
           "ticks": "outside",
           "title": {
            "standoff": 15
           },
           "zeroline": false,
           "zerolinecolor": "rgb(36,36,36)"
          }
         }
        },
        "title": {
         "text": "tour origin departure hour by purpose"
        },
        "width": 850,
        "xaxis": {
         "anchor": "y",
         "categoryorder": "category ascending",
         "domain": [
          0.0,
          0.98
         ],
         "dtick": 1,
         "title": {
          "text": "tlvorg_hr"
         }
        },
        "xaxis2": {
         "anchor": "y2",
         "categoryorder": "category ascending",
         "domain": [
          0.0,
          0.98
         ],
         "dtick": 1,
         "matches": "x",
         "showticklabels": false
        },
        "xaxis3": {
         "anchor": "y3",
         "categoryorder": "category ascending",
         "domain": [
          0.0,
          0.98
         ],
         "dtick": 1,
         "matches": "x",
         "showticklabels": false
        },
        "xaxis4": {
         "anchor": "y4",
         "categoryorder": "category ascending",
         "domain": [
          0.0,
          0.98
         ],
         "dtick": 1,
         "matches": "x",
         "showticklabels": false
        },
        "xaxis5": {
         "anchor": "y5",
         "categoryorder": "category ascending",
         "domain": [
          0.0,
          0.98
         ],
         "dtick": 1,
         "matches": "x",
         "showticklabels": false
        },
        "xaxis6": {
         "anchor": "y6",
         "categoryorder": "category ascending",
         "domain": [
          0.0,
          0.98
         ],
         "dtick": 1,
         "matches": "x",
         "showticklabels": false
        },
        "yaxis": {
         "anchor": "x",
         "domain": [
          0.0,
          0.14166666666666666
         ],
         "tickformat": ".0%",
         "title": {
          "text": "percentage"
         }
        },
        "yaxis2": {
         "anchor": "x2",
         "domain": [
          0.17166666666666666,
          0.31333333333333335
         ],
         "matches": "y",
         "tickformat": ".0%",
         "title": {
          "text": "percentage"
         }
        },
        "yaxis3": {
         "anchor": "x3",
         "domain": [
          0.3433333333333333,
          0.485
         ],
         "matches": "y",
         "tickformat": ".0%",
         "title": {
          "text": "percentage"
         }
        },
        "yaxis4": {
         "anchor": "x4",
         "domain": [
          0.515,
          0.6566666666666667
         ],
         "matches": "y",
         "tickformat": ".0%",
         "title": {
          "text": "percentage"
         }
        },
        "yaxis5": {
         "anchor": "x5",
         "domain": [
          0.6866666666666666,
          0.8283333333333334
         ],
         "matches": "y",
         "tickformat": ".0%",
         "title": {
          "text": "percentage"
         }
        },
        "yaxis6": {
         "anchor": "x6",
         "domain": [
          0.8583333333333333,
          1.0
         ],
         "matches": "y",
         "tickformat": ".0%",
         "title": {
          "text": "percentage"
         }
        }
       }
      },
      "text/html": [
       "<div>                            <div id=\"5645c458-1bc7-4312-85f7-46e73e361c78\" class=\"plotly-graph-div\" style=\"height:1500px; width:850px;\"></div>            <script type=\"text/javascript\">                require([\"plotly\"], function(Plotly) {                    window.PLOTLYENV=window.PLOTLYENV || {};                                    if (document.getElementById(\"5645c458-1bc7-4312-85f7-46e73e361c78\")) {                    Plotly.newPlot(                        \"5645c458-1bc7-4312-85f7-46e73e361c78\",                        [{\"alignmentgroup\":\"True\",\"customdata\":[[1370.0,1370.0],[865.0,865.0],[332.0,332.0],[43863.0,43863.0],[43757.0,43757.0],[97805.0,97805.0],[244431.0,244431.0],[307538.0,307538.0],[246407.0,246407.0],[128674.0,128674.0],[77439.0,77439.0],[61083.0,61083.0],[48984.0,48984.0],[39542.0,39542.0],[34128.0,34128.0],[30199.0,30199.0],[28872.0,28872.0],[27322.0,27322.0],[22447.0,22447.0],[11975.0,11975.0],[9554.0,9554.0],[6514.0,6514.0],[2992.0,2992.0],[2100.0,2100.0]],\"hovertemplate\":\"source=model\\u003cbr\\u003epdpurp_label=Work\\u003cbr\\u003etlvorg_hr=%{x}\\u003cbr\\u003epercentage=%{y}\\u003cbr\\u003etoexpfac=%{customdata[0]}\\u003cbr\\u003esample_count=%{customdata[1]}\\u003cextra\\u003e\\u003c\\u002fextra\\u003e\",\"legendgroup\":\"model\",\"marker\":{\"color\":\"#91268F\",\"pattern\":{\"shape\":\"\"}},\"name\":\"model\",\"offsetgroup\":\"model\",\"orientation\":\"v\",\"showlegend\":true,\"textposition\":\"auto\",\"x\":[0,1,2,3,4,5,6,7,8,9,10,11,12,13,14,15,16,17,18,19,20,21,22,23],\"xaxis\":\"x6\",\"y\":[0.0009023885632459115,0.0005697562826333674,0.0002186810240858705,0.028891583612887163,0.0288217637678477,0.06442198060457399,0.1610012692720886,0.20256844814855554,0.16230281657206955,0.08475470510007621,0.051007348868029295,0.040234015042883216,0.03226467254163338,0.02604543691085389,0.02247935539157406,0.01989141038063013,0.01901734496207004,0.01799639439781372,0.014785340203781732,0.007887666456109336,0.0062930075425192975,0.004290627081010122,0.0019707639279063992,0.00138322334512147],\"yaxis\":\"y6\",\"type\":\"bar\"},{\"alignmentgroup\":\"True\",\"customdata\":[[0.0,0.0],[0.0,0.0],[1.0,1.0],[3203.0,3203.0],[3281.0,3281.0],[10676.0,10676.0],[61227.0,61227.0],[143985.0,143985.0],[147371.0,147371.0],[69306.0,69306.0],[30497.0,30497.0],[17994.0,17994.0],[11022.0,11022.0],[7017.0,7017.0],[4652.0,4652.0],[3169.0,3169.0],[2449.0,2449.0],[2216.0,2216.0],[1617.0,1617.0],[499.0,499.0],[447.0,447.0],[219.0,219.0],[0.0,0.0],[0.0,0.0]],\"hovertemplate\":\"source=model\\u003cbr\\u003epdpurp_label=School\\u003cbr\\u003etlvorg_hr=%{x}\\u003cbr\\u003epercentage=%{y}\\u003cbr\\u003etoexpfac=%{customdata[0]}\\u003cbr\\u003esample_count=%{customdata[1]}\\u003cextra\\u003e\\u003c\\u002fextra\\u003e\",\"legendgroup\":\"model\",\"marker\":{\"color\":\"#91268F\",\"pattern\":{\"shape\":\"\"}},\"name\":\"model\",\"offsetgroup\":\"model\",\"orientation\":\"v\",\"showlegend\":false,\"textposition\":\"auto\",\"x\":[0,1,2,3,4,5,6,7,8,9,10,11,12,13,14,15,16,17,18,19,20,21,22,23],\"xaxis\":\"x5\",\"y\":[0.0,0.0,1.9199459343224896e-06,0.006149586827634934,0.006299342610512088,0.020497342794826897,0.11755252972076306,0.27644341535342365,0.2829443522870396,0.13306377292415444,0.05855259115903296,0.034547507142198876,0.02116164408810248,0.01347226062114091,0.00893158848646822,0.006084308665867969,0.004701947593155777,0.004254600190458637,0.0031045525757994654,0.0009580530212269223,0.0008582158326421528,0.0004204681596166252,0.0,0.0],\"yaxis\":\"y5\",\"type\":\"bar\"},{\"alignmentgroup\":\"True\",\"customdata\":[[315.0,315.0],[267.0,267.0],[114.0,114.0],[1210.0,1210.0],[909.0,909.0],[2103.0,2103.0],[10778.0,10778.0],[31396.0,31396.0],[54286.0,54286.0],[66851.0,66851.0],[67211.0,67211.0],[55256.0,55256.0],[53659.0,53659.0],[58643.0,58643.0],[54125.0,54125.0],[50618.0,50618.0],[56163.0,56163.0],[50888.0,50888.0],[48054.0,48054.0],[30380.0,30380.0],[18230.0,18230.0],[8727.0,8727.0],[2374.0,2374.0],[1166.0,1166.0]],\"hovertemplate\":\"source=model\\u003cbr\\u003epdpurp_label=Shop\\u003cbr\\u003etlvorg_hr=%{x}\\u003cbr\\u003epercentage=%{y}\\u003cbr\\u003etoexpfac=%{customdata[0]}\\u003cbr\\u003esample_count=%{customdata[1]}\\u003cextra\\u003e\\u003c\\u002fextra\\u003e\",\"legendgroup\":\"model\",\"marker\":{\"color\":\"#91268F\",\"pattern\":{\"shape\":\"\"}},\"name\":\"model\",\"offsetgroup\":\"model\",\"orientation\":\"v\",\"showlegend\":false,\"textposition\":\"auto\",\"x\":[0,1,2,3,4,5,6,7,8,9,10,11,12,13,14,15,16,17,18,19,20,21,22,23],\"xaxis\":\"x4\",\"y\":[0.00043524939790499955,0.00036892568012899965,0.00015751882971799984,0.0016719103856033316,0.0012560054053829988,0.002905807885060997,0.014892438128952652,0.04338123840198529,0.07500936131641525,0.09237097618840358,0.09286840407172357,0.07634965311313859,0.07414300775296626,0.08102962044870758,0.0747869005130416,0.0699411238830326,0.07760289503028092,0.0703141947955226,0.06639833195849794,0.04197738637572662,0.02518919531367664,0.012058480938148987,0.00328026054167133,0.001611113644308665],\"yaxis\":\"y4\",\"type\":\"bar\"},{\"alignmentgroup\":\"True\",\"customdata\":[[376.0,376.0],[282.0,282.0],[88.0,88.0],[1259.0,1259.0],[894.0,894.0],[1924.0,1924.0],[5986.0,5986.0],[10545.0,10545.0],[20166.0,20166.0],[26796.0,26796.0],[32268.0,32268.0],[31357.0,31357.0],[32031.0,32031.0],[29637.0,29637.0],[27369.0,27369.0],[25551.0,25551.0],[31109.0,31109.0],[31737.0,31737.0],[32042.0,32042.0],[20390.0,20390.0],[14682.0,14682.0],[9943.0,9943.0],[2357.0,2357.0],[1013.0,1013.0]],\"hovertemplate\":\"source=model\\u003cbr\\u003epdpurp_label=Meal\\u003cbr\\u003etlvorg_hr=%{x}\\u003cbr\\u003epercentage=%{y}\\u003cbr\\u003etoexpfac=%{customdata[0]}\\u003cbr\\u003esample_count=%{customdata[1]}\\u003cextra\\u003e\\u003c\\u002fextra\\u003e\",\"legendgroup\":\"model\",\"marker\":{\"color\":\"#91268F\",\"pattern\":{\"shape\":\"\"}},\"name\":\"model\",\"offsetgroup\":\"model\",\"orientation\":\"v\",\"showlegend\":false,\"textposition\":\"auto\",\"x\":[0,1,2,3,4,5,6,7,8,9,10,11,12,13,14,15,16,17,18,19,20,21,22,23],\"xaxis\":\"x3\",\"y\":[0.0009645922801832725,0.0007234442101374544,0.00022575564004289356,0.0032298448956136704,0.0022934720704357596,0.00493583922093781,0.015356514332917738,0.02705219573013992,0.05173395723982945,0.06874259239306109,0.0827804885557283,0.08044340460028425,0.08217248757061277,0.07603090799944587,0.07021256945834038,0.06554866316745425,0.07980718416016337,0.08141825850046946,0.08220070702561813,0.052308607959938636,0.0376652762171564,0.025507821919846487,0.006046659586148865,0.0025987552654937636],\"yaxis\":\"y3\",\"type\":\"bar\"},{\"alignmentgroup\":\"True\",\"customdata\":[[240.0,240.0],[220.0,220.0],[113.0,113.0],[6105.0,6105.0],[3479.0,3479.0],[6103.0,6103.0],[20509.0,20509.0],[41420.0,41420.0],[64484.0,64484.0],[75882.0,75882.0],[67306.0,67306.0],[50061.0,50061.0],[44969.0,44969.0],[46707.0,46707.0],[42028.0,42028.0],[40092.0,40092.0],[39303.0,39303.0],[31936.0,31936.0],[27169.0,27169.0],[18056.0,18056.0],[12923.0,12923.0],[7211.0,7211.0],[2136.0,2136.0],[1101.0,1101.0]],\"hovertemplate\":\"source=model\\u003cbr\\u003epdpurp_label=Escort\\u003cbr\\u003etlvorg_hr=%{x}\\u003cbr\\u003epercentage=%{y}\\u003cbr\\u003etoexpfac=%{customdata[0]}\\u003cbr\\u003esample_count=%{customdata[1]}\\u003cextra\\u003e\\u003c\\u002fextra\\u003e\",\"legendgroup\":\"model\",\"marker\":{\"color\":\"#91268F\",\"pattern\":{\"shape\":\"\"}},\"name\":\"model\",\"offsetgroup\":\"model\",\"orientation\":\"v\",\"showlegend\":false,\"textposition\":\"auto\",\"x\":[0,1,2,3,4,5,6,7,8,9,10,11,12,13,14,15,16,17,18,19,20,21,22,23],\"xaxis\":\"x2\",\"y\":[0.00036948486112757544,0.0003386944560336108,0.0001739657887809001,0.0093987711549327,0.005355990966095145,0.009395692114423303,0.03157402090360602,0.06376692894960073,0.09927442410396073,0.11682187596701116,0.10361895026271913,0.07706992347044814,0.06923068633352475,0.07190637253619027,0.06470295726445725,0.06172244605136148,0.06050776457040457,0.049166118854042706,0.041827225799896235,0.02779757771883126,0.01989522025146524,0.011101480556628943,0.0032884152640354214,0.0016950118004227523],\"yaxis\":\"y2\",\"type\":\"bar\"},{\"alignmentgroup\":\"True\",\"customdata\":[[167.0,167.0],[114.0,114.0],[57.0,57.0],[2543.0,2543.0],[1479.0,1479.0],[3178.0,3178.0],[10440.0,10440.0],[21117.0,21117.0],[35406.0,35406.0],[43169.0,43169.0],[41135.0,41135.0],[33044.0,33044.0],[30625.0,30625.0],[31368.0,31368.0],[26571.0,26571.0],[24424.0,24424.0],[27287.0,27287.0],[25096.0,25096.0],[22381.0,22381.0],[13250.0,13250.0],[9381.0,9381.0],[5486.0,5486.0],[1262.0,1262.0],[545.0,545.0]],\"hovertemplate\":\"source=model\\u003cbr\\u003epdpurp_label=Personal Business\\u003cbr\\u003etlvorg_hr=%{x}\\u003cbr\\u003epercentage=%{y}\\u003cbr\\u003etoexpfac=%{customdata[0]}\\u003cbr\\u003esample_count=%{customdata[1]}\\u003cextra\\u003e\\u003c\\u002fextra\\u003e\",\"legendgroup\":\"model\",\"marker\":{\"color\":\"#91268F\",\"pattern\":{\"shape\":\"\"}},\"name\":\"model\",\"offsetgroup\":\"model\",\"orientation\":\"v\",\"showlegend\":false,\"textposition\":\"auto\",\"x\":[0,1,2,3,4,5,6,7,8,9,10,11,12,13,14,15,16,17,18,19,20,21,22,23],\"xaxis\":\"x\",\"y\":[0.00040778951223979,0.00027837128380440757,0.00013918564190220378,0.006209633111531653,0.003611501129357182,0.007760209999389537,0.025492949148403637,0.05156461754471644,0.08645626030156889,0.10541236798730236,0.10044563823942372,0.0806886026494109,0.07478175935535071,0.07659605640681277,0.0648824858067273,0.05963982662841096,0.06663085281728832,0.06128075209083694,0.054651120200231974,0.03235455710884561,0.022907026433062694,0.013396007569745436,0.0030816189487821257,0.0013308100848544045],\"yaxis\":\"y\",\"type\":\"bar\"},{\"alignmentgroup\":\"True\",\"customdata\":[[0.0,0.0],[290.035564242689,1.0],[0.0,0.0],[14788.625070075419,21.0],[62334.98080849343,65.0],[110560.94845318867,135.0],[231832.64991962654,369.0],[345802.4190378415,614.0],[258891.1706490516,504.0],[138775.75284678483,292.0],[41934.64180856643,170.0],[37958.57044734342,99.0],[31180.959769409063,106.0],[24948.05578014202,69.0],[27287.01473768373,62.0],[27505.41111581074,50.0],[19075.53144467118,33.0],[12319.997987789659,34.0],[1955.1087945262727,10.0],[745.7762566027517,7.0],[270.8142398817476,7.0],[113.8011265835064,3.0],[387.3586482889782,6.0],[235.31298890314352,1.0]],\"hovertemplate\":\"source=survey\\u003cbr\\u003epdpurp_label=Work\\u003cbr\\u003etlvorg_hr=%{x}\\u003cbr\\u003epercentage=%{y}\\u003cbr\\u003etoexpfac=%{customdata[0]}\\u003cbr\\u003esample_count=%{customdata[1]}\\u003cextra\\u003e\\u003c\\u002fextra\\u003e\",\"legendgroup\":\"survey\",\"marker\":{\"color\":\"#8CC63E\",\"pattern\":{\"shape\":\"\"}},\"name\":\"survey\",\"offsetgroup\":\"survey\",\"orientation\":\"v\",\"showlegend\":true,\"textposition\":\"auto\",\"x\":[0,1,2,3,4,5,6,7,8,9,10,11,12,13,14,15,16,17,18,19,20,21,22,23],\"xaxis\":\"x6\",\"y\":[0.0,0.00020877960062651538,0.0,0.010645464269209695,0.04487129856726463,0.07958634563736036,0.16688273449771068,0.24892289030455803,0.18636057738289077,0.09989652935028323,0.030186290402243892,0.02732414970916649,0.022445345090029815,0.01795864288500742,0.0196423223272594,0.019799533077336524,0.013731356867065227,0.008868444345183558,0.0014073682114412367,0.0005368406092432679,0.00019494329598550197,8.191875993204477e-05,0.00027883678368949635,0.00016938802651222915],\"yaxis\":\"y6\",\"type\":\"bar\"},{\"alignmentgroup\":\"True\",\"customdata\":[[0.0,0.0],[0.0,0.0],[0.0,0.0],[0.0,0.0],[86.688593033636,1.0],[454.392198263691,4.0],[35841.941662739446,28.0],[184810.3781366287,229.0],[178463.91097304694,262.0],[54742.69479601805,55.0],[11578.782726445686,19.0],[4313.592683769604,14.0],[5558.5039639001925,9.0],[3238.946058029637,11.0],[2722.2703378752167,6.0],[1054.0446466650703,4.0],[3913.0500727283707,7.0],[869.3783619234035,5.0],[1513.89214241086,1.0],[0.0,0.0],[0.0,0.0],[0.0,0.0],[0.0,0.0],[0.0,0.0]],\"hovertemplate\":\"source=survey\\u003cbr\\u003epdpurp_label=School\\u003cbr\\u003etlvorg_hr=%{x}\\u003cbr\\u003epercentage=%{y}\\u003cbr\\u003etoexpfac=%{customdata[0]}\\u003cbr\\u003esample_count=%{customdata[1]}\\u003cextra\\u003e\\u003c\\u002fextra\\u003e\",\"legendgroup\":\"survey\",\"marker\":{\"color\":\"#8CC63E\",\"pattern\":{\"shape\":\"\"}},\"name\":\"survey\",\"offsetgroup\":\"survey\",\"orientation\":\"v\",\"showlegend\":false,\"textposition\":\"auto\",\"x\":[0,1,2,3,4,5,6,7,8,9,10,11,12,13,14,15,16,17,18,19,20,21,22,23],\"xaxis\":\"x5\",\"y\":[0.0,0.0,0.0,0.0,0.0001772184066014883,0.0009289187715527205,0.0732720600103592,0.37780980854175195,0.36483565866897427,0.11191106932670673,0.023670627857224028,0.008818323096429466,0.011363308378857096,0.0066214116458144165,0.005565166012436621,0.002154794607132842,0.007999489604955164,0.0017772793702407537,0.003094865700963299,0.0,0.0,0.0,0.0,0.0],\"yaxis\":\"y5\",\"type\":\"bar\"},{\"alignmentgroup\":\"True\",\"customdata\":[[143.521368637738,1.0],[0.0,0.0],[570.896774611867,1.0],[0.0,0.0],[0.0,0.0],[776.7637534339301,5.0],[4769.603818802844,8.0],[12107.898756094188,36.0],[18154.74250641554,53.0],[53830.420476548774,115.0],[62551.662332100495,163.0],[71298.68910586351,122.0],[59180.63170434406,124.0],[59428.21451426868,135.0],[62755.07549026256,154.0],[68685.48809386698,111.0],[55073.59917634843,110.0],[28436.431609835225,119.0],[62362.95808194446,102.0],[20444.191353382026,89.0],[7282.428149155888,32.0],[2019.503056430456,14.0],[2349.3900106379,7.0],[628.325555652825,3.0]],\"hovertemplate\":\"source=survey\\u003cbr\\u003epdpurp_label=Shop\\u003cbr\\u003etlvorg_hr=%{x}\\u003cbr\\u003epercentage=%{y}\\u003cbr\\u003etoexpfac=%{customdata[0]}\\u003cbr\\u003esample_count=%{customdata[1]}\\u003cextra\\u003e\\u003c\\u002fextra\\u003e\",\"legendgroup\":\"survey\",\"marker\":{\"color\":\"#8CC63E\",\"pattern\":{\"shape\":\"\"}},\"name\":\"survey\",\"offsetgroup\":\"survey\",\"orientation\":\"v\",\"showlegend\":false,\"textposition\":\"auto\",\"x\":[0,1,2,3,4,5,6,7,8,9,10,11,12,13,14,15,16,17,18,19,20,21,22,23],\"xaxis\":\"x4\",\"y\":[0.00021983805293221423,0.0,0.0008744679384485282,0.0,0.0,0.0011898035307498658,0.007305813947679732,0.018546206135747707,0.027808425198132234,0.08245444520499934,0.09581315859293237,0.10921136788498328,0.0906496013009768,0.09102883488403088,0.09612473555917503,0.10520861186439479,0.08435867721870448,0.04355734492210297,0.09552411191418275,0.031315275652404405,0.011154818548101682,0.0030933625008616986,0.003598664996156005,0.0009624341523032851],\"yaxis\":\"y4\",\"type\":\"bar\"},{\"alignmentgroup\":\"True\",\"customdata\":[[632.62215829592,1.0],[0.0,0.0],[0.0,0.0],[0.0,0.0],[23.312448148228,1.0],[46.07273363740228,2.0],[2925.777734452038,8.0],[23356.464399636094,20.0],[14130.041614476764,44.0],[15870.60030067402,49.0],[22019.720159185876,57.0],[34250.98114834558,106.0],[38166.71534632753,116.0],[13881.241923716083,61.0],[13340.12024199408,38.0],[31104.0607038911,56.0],[18198.037158506493,57.0],[29709.86656119252,96.0],[40049.227019636426,104.0],[34982.764543347,55.0],[13824.595015197257,32.0],[3917.0406076992076,11.0],[64.4328417659313,2.0],[592.2696401845194,2.0]],\"hovertemplate\":\"source=survey\\u003cbr\\u003epdpurp_label=Meal\\u003cbr\\u003etlvorg_hr=%{x}\\u003cbr\\u003epercentage=%{y}\\u003cbr\\u003etoexpfac=%{customdata[0]}\\u003cbr\\u003esample_count=%{customdata[1]}\\u003cextra\\u003e\\u003c\\u002fextra\\u003e\",\"legendgroup\":\"survey\",\"marker\":{\"color\":\"#8CC63E\",\"pattern\":{\"shape\":\"\"}},\"name\":\"survey\",\"offsetgroup\":\"survey\",\"orientation\":\"v\",\"showlegend\":false,\"textposition\":\"auto\",\"x\":[0,1,2,3,4,5,6,7,8,9,10,11,12,13,14,15,16,17,18,19,20,21,22,23],\"xaxis\":\"x3\",\"y\":[0.0018019010231773063,0.0,0.0,0.0,6.64009687618475e-05,0.00013122920971569464,0.008333508120391282,0.0665263404824055,0.04024667190167215,0.045204314368713146,0.06271888482659695,0.09755724987925792,0.10871045620519504,0.039538014432962114,0.03799673469880806,0.08859385981401828,0.051833565020959795,0.08462276929925756,0.11407242411257239,0.09964159237486242,0.03937666674527623,0.01115692737961085,0.0001835244023336036,0.001686964733451739],\"yaxis\":\"y3\",\"type\":\"bar\"},{\"alignmentgroup\":\"True\",\"customdata\":[[0.0,0.0],[0.0,0.0],[0.0,0.0],[0.0,0.0],[4054.1074151579,1.0],[3621.6853178441725,8.0],[14008.043944164965,15.0],[79706.7588885024,112.0],[107385.84328893691,150.0],[32796.21169392768,46.0],[5778.952525156871,27.0],[9936.136797937106,23.0],[13460.375487800953,38.0],[40000.633169023255,47.0],[56443.05266800754,72.0],[67075.08161255954,81.0],[38015.74994991363,55.0],[50697.1829269029,53.0],[3506.97842117303,17.0],[9894.69890599117,16.0],[2107.8410739376236,8.0],[330.2706023061876,5.0],[6096.135066820443,5.0],[0.0,0.0]],\"hovertemplate\":\"source=survey\\u003cbr\\u003epdpurp_label=Escort\\u003cbr\\u003etlvorg_hr=%{x}\\u003cbr\\u003epercentage=%{y}\\u003cbr\\u003etoexpfac=%{customdata[0]}\\u003cbr\\u003esample_count=%{customdata[1]}\\u003cextra\\u003e\\u003c\\u002fextra\\u003e\",\"legendgroup\":\"survey\",\"marker\":{\"color\":\"#8CC63E\",\"pattern\":{\"shape\":\"\"}},\"name\":\"survey\",\"offsetgroup\":\"survey\",\"orientation\":\"v\",\"showlegend\":false,\"textposition\":\"auto\",\"x\":[0,1,2,3,4,5,6,7,8,9,10,11,12,13,14,15,16,17,18,19,20,21,22,23],\"xaxis\":\"x2\",\"y\":[0.0,0.0,0.0,0.0,0.007439879451771301,0.006646321722080276,0.02570680735050115,0.14627354850161559,0.19706871256280653,0.060185840307364145,0.01060522224545003,0.018234262791500744,0.024701755713326605,0.07340700635098162,0.10358124853078149,0.12309257508800577,0.0697644556329602,0.09303673802778735,0.006435817806883236,0.01815821820529649,0.0038681963469824067,0.0006060948110143337,0.011187298552890811,0.0],\"yaxis\":\"y2\",\"type\":\"bar\"},{\"alignmentgroup\":\"True\",\"customdata\":[[0.0,0.0],[0.0,0.0],[0.0,0.0],[0.0,0.0],[0.0,0.0],[2325.255872414626,5.0],[6446.83996860513,21.0],[37494.19187984278,62.0],[21983.974469176632,68.0],[48225.42231837042,89.0],[27457.449132175087,93.0],[27892.063700452854,73.0],[28210.82733993562,84.0],[22478.414619897263,86.0],[35846.57944133157,81.0],[31185.913641812193,68.0],[9833.272916917174,53.0],[30678.220711815997,36.0],[2633.6235605644374,22.0],[13166.944073262279,15.0],[6.85398522000551,1.0],[29.4730659624188,1.0],[197.424677262663,1.0],[0.0,0.0]],\"hovertemplate\":\"source=survey\\u003cbr\\u003epdpurp_label=Personal Business\\u003cbr\\u003etlvorg_hr=%{x}\\u003cbr\\u003epercentage=%{y}\\u003cbr\\u003etoexpfac=%{customdata[0]}\\u003cbr\\u003esample_count=%{customdata[1]}\\u003cextra\\u003e\\u003c\\u002fextra\\u003e\",\"legendgroup\":\"survey\",\"marker\":{\"color\":\"#8CC63E\",\"pattern\":{\"shape\":\"\"}},\"name\":\"survey\",\"offsetgroup\":\"survey\",\"orientation\":\"v\",\"showlegend\":false,\"textposition\":\"auto\",\"x\":[0,1,2,3,4,5,6,7,8,9,10,11,12,13,14,15,16,17,18,19,20,21,22,23],\"xaxis\":\"x\",\"y\":[0.0,0.0,0.0,0.0,0.0,0.006718591774857995,0.01862749235503178,0.1083356770140178,0.06352047178959282,0.1393424825074398,0.07933552349507571,0.08059129835336357,0.08151233366468555,0.06494910662036589,0.10357506743601035,0.09010854477177718,0.028412248012485895,0.0886416173750585,0.007609589035767554,0.038044553805930956,1.9803897399174516e-05,8.515944456010593e-05,0.0005704386465793658,0.0],\"yaxis\":\"y\",\"type\":\"bar\"},{\"alignmentgroup\":\"True\",\"customdata\":[[663.365825915265,1.0],[0.0,0.0],[66.61248155133971,2.0],[11536.937249213654,35.0],[47069.110645288965,144.0],[176781.1604996762,464.0],[333470.07784518343,1342.0],[393071.5312644367,2287.0],[269789.2629268081,1877.0],[165885.50163496353,1035.0],[74340.17758940026,457.0],[26843.559387681584,262.0],[38841.596463089474,243.0],[29706.812597293476,196.0],[18524.446823193204,130.0],[19186.686366792266,73.0],[10080.046467017171,76.0],[9235.10731416993,64.0],[4129.18919406304,39.0],[2189.811752997617,13.0],[1627.1968036848764,10.0],[2.034207699983375,1.0],[988.686151042609,2.0],[988.686151042609,2.0]],\"hovertemplate\":\"source=survey (2017\\u002f2019)\\u003cbr\\u003epdpurp_label=Work\\u003cbr\\u003etlvorg_hr=%{x}\\u003cbr\\u003epercentage=%{y}\\u003cbr\\u003etoexpfac=%{customdata[0]}\\u003cbr\\u003esample_count=%{customdata[1]}\\u003cextra\\u003e\\u003c\\u002fextra\\u003e\",\"legendgroup\":\"survey (2017\\u002f2019)\",\"marker\":{\"color\":\"#00A7A0\",\"pattern\":{\"shape\":\"\"}},\"name\":\"survey (2017\\u002f2019)\",\"offsetgroup\":\"survey (2017\\u002f2019)\",\"orientation\":\"v\",\"showlegend\":true,\"textposition\":\"auto\",\"x\":[0,1,2,3,4,5,6,7,8,9,10,11,12,13,14,15,16,17,18,19,20,21,22,23],\"xaxis\":\"x6\",\"y\":[0.00040572396705202367,0.0,4.074114043016966e-05,0.007056154787477896,0.02878813702871791,0.10812187021999357,0.20395503897087564,0.24040813495296307,0.1650069475190118,0.10145793040648646,0.045467509155010515,0.016417902428935094,0.023756072423380285,0.018169108785209716,0.011329814951170301,0.011734850067950726,0.006165099679387678,0.00564832288501819,0.0025254707961660976,0.0013393199902896817,0.0009952166912646037,1.2441503399821667e-06,0.0006046945014343298,0.0006046945014343298],\"yaxis\":\"y6\",\"type\":\"bar\"},{\"alignmentgroup\":\"True\",\"customdata\":[[0.0,0.0],[0.0,0.0],[0.0,0.0],[0.0,0.0],[0.0,0.0],[10420.73913625376,19.0],[67142.9621295134,117.0],[184966.19363985508,500.0],[158860.1815105916,567.0],[36237.68696938745,140.0],[13587.301864651043,57.0],[5464.016981777702,29.0],[9372.079396235318,46.0],[3740.5243791076186,32.0],[2899.564229654071,33.0],[17571.07859392331,29.0],[5634.82123136347,27.0],[8698.72148985911,38.0],[675.1015338263429,11.0],[75.14674575208934,3.0],[0.0,0.0],[0.0,0.0],[0.0,0.0],[0.0,0.0]],\"hovertemplate\":\"source=survey (2017\\u002f2019)\\u003cbr\\u003epdpurp_label=School\\u003cbr\\u003etlvorg_hr=%{x}\\u003cbr\\u003epercentage=%{y}\\u003cbr\\u003etoexpfac=%{customdata[0]}\\u003cbr\\u003esample_count=%{customdata[1]}\\u003cextra\\u003e\\u003c\\u002fextra\\u003e\",\"legendgroup\":\"survey (2017\\u002f2019)\",\"marker\":{\"color\":\"#00A7A0\",\"pattern\":{\"shape\":\"\"}},\"name\":\"survey (2017\\u002f2019)\",\"offsetgroup\":\"survey (2017\\u002f2019)\",\"orientation\":\"v\",\"showlegend\":false,\"textposition\":\"auto\",\"x\":[0,1,2,3,4,5,6,7,8,9,10,11,12,13,14,15,16,17,18,19,20,21,22,23],\"xaxis\":\"x5\",\"y\":[0.0,0.0,0.0,0.0,0.0,0.019835949563291974,0.127807096302561,0.3520844385394772,0.3023914625303953,0.06897868967033205,0.025863523783144236,0.010400794401084797,0.01783981844052992,0.0071201142216593665,0.005519340716902397,0.03344667054845797,0.010725921480429116,0.016558076973415135,0.0012850604741166693,0.00014304235420289395,0.0,0.0,0.0,0.0],\"yaxis\":\"y5\",\"type\":\"bar\"},{\"alignmentgroup\":\"True\",\"customdata\":[[83.24521252225395,2.0],[0.0,0.0],[0.54525469613021,1.0],[11.087229656279533,1.0],[608.1118660539306,3.0],[313.64492561617914,3.0],[6154.285694475871,16.0],[13477.069989906293,54.0],[22829.07546272082,87.0],[134178.9118874883,211.0],[102892.51383715212,225.0],[91115.22510114146,230.0],[89633.42932089814,201.0],[28021.09586572641,219.0],[51437.90924882699,190.0],[64356.26229586239,200.0],[35570.71695496433,203.0],[44948.325094358785,206.0],[25821.85826057283,201.0],[37186.01221540865,173.0],[16066.913929221464,97.0],[18875.025830543796,49.0],[557.4277959529772,17.0],[2123.97370652186,7.0]],\"hovertemplate\":\"source=survey (2017\\u002f2019)\\u003cbr\\u003epdpurp_label=Shop\\u003cbr\\u003etlvorg_hr=%{x}\\u003cbr\\u003epercentage=%{y}\\u003cbr\\u003etoexpfac=%{customdata[0]}\\u003cbr\\u003esample_count=%{customdata[1]}\\u003cextra\\u003e\\u003c\\u002fextra\\u003e\",\"legendgroup\":\"survey (2017\\u002f2019)\",\"marker\":{\"color\":\"#00A7A0\",\"pattern\":{\"shape\":\"\"}},\"name\":\"survey (2017\\u002f2019)\",\"offsetgroup\":\"survey (2017\\u002f2019)\",\"orientation\":\"v\",\"showlegend\":false,\"textposition\":\"auto\",\"x\":[0,1,2,3,4,5,6,7,8,9,10,11,12,13,14,15,16,17,18,19,20,21,22,23],\"xaxis\":\"x4\",\"y\":[0.00010587455823378287,0.0,6.934765174904071e-07,1.410117778942885e-05,0.0007734207556737221,0.00039890603838633267,0.007827264288296878,0.017140671375974366,0.029034922324873844,0.17065405432870717,0.13086277418247516,0.11588395192547753,0.11399934536526235,0.03563833950471529,0.06542077019423911,0.08185084323414253,0.04524024661068652,0.05716706004494252,0.032841262017111884,0.04729464309710245,0.020434537469428478,0.02400600540152188,0.0007089587479637414,0.0027013538804775894],\"yaxis\":\"y4\",\"type\":\"bar\"},{\"alignmentgroup\":\"True\",\"customdata\":[[0.0,0.0],[0.0,0.0],[0.0,0.0],[0.0,0.0],[104.37588060467607,2.0],[1004.4129807216316,5.0],[11355.197307710754,17.0],[4466.581191293693,65.0],[9391.502890534057,82.0],[10422.979978670437,76.0],[23115.5301076332,88.0],[79799.76079279724,284.0],[62591.62622065111,315.0],[24590.122393228026,131.0],[6320.630172016206,78.0],[9277.003714894172,76.0],[23708.46135221934,119.0],[33989.642419100965,196.0],[47203.97984922029,242.0],[10816.375339993583,164.0],[5593.375487917708,82.0],[496.1524996618177,23.0],[5109.103377173227,8.0],[0.0,0.0]],\"hovertemplate\":\"source=survey (2017\\u002f2019)\\u003cbr\\u003epdpurp_label=Meal\\u003cbr\\u003etlvorg_hr=%{x}\\u003cbr\\u003epercentage=%{y}\\u003cbr\\u003etoexpfac=%{customdata[0]}\\u003cbr\\u003esample_count=%{customdata[1]}\\u003cextra\\u003e\\u003c\\u002fextra\\u003e\",\"legendgroup\":\"survey (2017\\u002f2019)\",\"marker\":{\"color\":\"#00A7A0\",\"pattern\":{\"shape\":\"\"}},\"name\":\"survey (2017\\u002f2019)\",\"offsetgroup\":\"survey (2017\\u002f2019)\",\"orientation\":\"v\",\"showlegend\":false,\"textposition\":\"auto\",\"x\":[0,1,2,3,4,5,6,7,8,9,10,11,12,13,14,15,16,17,18,19,20,21,22,23],\"xaxis\":\"x3\",\"y\":[0.0,0.0,0.0,0.0,0.00028258820918110377,0.002719356846199049,0.030743164546199915,0.012092862572247738,0.02542664040753762,0.028219270864489575,0.06258319661156765,0.2160505987099357,0.1694611385404149,0.06657552118736475,0.017112531658258337,0.025116644297235695,0.0641885040600359,0.09202386726009104,0.1278004846956421,0.02928435304643076,0.015143555707038845,0.0013432877935774749,0.013832432986551782,0.0],\"yaxis\":\"y3\",\"type\":\"bar\"},{\"alignmentgroup\":\"True\",\"customdata\":[[0.0,0.0],[0.0,0.0],[0.0,0.0],[68.99716112623685,2.0],[1608.8011555079397,8.0],[3465.3706566656133,13.0],[5061.683382412337,43.0],[57099.76069383569,219.0],[72887.47341573531,233.0],[14689.853983763354,60.0],[9347.769180612215,31.0],[14275.894103075521,49.0],[11401.469748573027,45.0],[21614.712298822113,57.0],[41300.91505807776,101.0],[38700.83596111881,135.0],[21628.90027714401,129.0],[53721.588782949155,109.0],[30992.119239703625,74.0],[17977.90415949376,42.0],[11720.50858389246,24.0],[6335.466793934932,24.0],[636.9309530825855,9.0],[330.4532993800188,3.0]],\"hovertemplate\":\"source=survey (2017\\u002f2019)\\u003cbr\\u003epdpurp_label=Escort\\u003cbr\\u003etlvorg_hr=%{x}\\u003cbr\\u003epercentage=%{y}\\u003cbr\\u003etoexpfac=%{customdata[0]}\\u003cbr\\u003esample_count=%{customdata[1]}\\u003cextra\\u003e\\u003c\\u002fextra\\u003e\",\"legendgroup\":\"survey (2017\\u002f2019)\",\"marker\":{\"color\":\"#00A7A0\",\"pattern\":{\"shape\":\"\"}},\"name\":\"survey (2017\\u002f2019)\",\"offsetgroup\":\"survey (2017\\u002f2019)\",\"orientation\":\"v\",\"showlegend\":false,\"textposition\":\"auto\",\"x\":[0,1,2,3,4,5,6,7,8,9,10,11,12,13,14,15,16,17,18,19,20,21,22,23],\"xaxis\":\"x2\",\"y\":[0.0,0.0,0.0,0.00015866252498094937,0.0036995211014282576,0.007968798272373857,0.011639601586481321,0.1313038400364988,0.1676084984201599,0.033780075681680025,0.021495676589091656,0.032828153619400155,0.0262182667993078,0.04970414396895841,0.09497358094413717,0.08899456517102558,0.049736769955711815,0.12353555977029577,0.07126797411396961,0.04134111637712195,0.026951913029855598,0.014568732134059336,0.0014646555250253284,0.0007598943784367113],\"yaxis\":\"y2\",\"type\":\"bar\"},{\"alignmentgroup\":\"True\",\"customdata\":[[0.0,0.0],[0.0,0.0],[0.0,0.0],[415.12771485007175,5.0],[693.650708366326,7.0],[4797.110596523592,19.0],[18699.959783412443,69.0],[47346.51151895759,148.0],[71276.96887912306,291.0],[87578.65479472805,260.0],[82767.19373577408,271.0],[107315.80528704856,182.0],[36318.721934705594,209.0],[32255.442975107242,195.0],[80591.80973502374,192.0],[51540.587086667394,196.0],[55075.73985185104,193.0],[83275.02395238554,171.0],[36066.865380506766,180.0],[11826.822830027124,92.0],[4337.791814374123,39.0],[2041.160644579677,18.0],[700.3758568446026,9.0],[68.08898090709165,2.0]],\"hovertemplate\":\"source=survey (2017\\u002f2019)\\u003cbr\\u003epdpurp_label=Personal Business\\u003cbr\\u003etlvorg_hr=%{x}\\u003cbr\\u003epercentage=%{y}\\u003cbr\\u003etoexpfac=%{customdata[0]}\\u003cbr\\u003esample_count=%{customdata[1]}\\u003cextra\\u003e\\u003c\\u002fextra\\u003e\",\"legendgroup\":\"survey (2017\\u002f2019)\",\"marker\":{\"color\":\"#00A7A0\",\"pattern\":{\"shape\":\"\"}},\"name\":\"survey (2017\\u002f2019)\",\"offsetgroup\":\"survey (2017\\u002f2019)\",\"orientation\":\"v\",\"showlegend\":false,\"textposition\":\"auto\",\"x\":[0,1,2,3,4,5,6,7,8,9,10,11,12,13,14,15,16,17,18,19,20,21,22,23],\"xaxis\":\"x\",\"y\":[0.0,0.0,0.0,0.000509365775416822,0.0008511162186871764,0.0058861017256845545,0.022945033960889302,0.05809463374866541,0.0874575395082633,0.10745986792423652,0.10155615804047927,0.13167754505203383,0.04456342782871188,0.03957774471493046,0.09888694054732361,0.06324080558273534,0.0675784726790048,0.10217927069427502,0.04425439736788219,0.014511627545055243,0.005322513077507758,0.00250452411940775,0.0008593680417933929,8.354584701627983e-05],\"yaxis\":\"y\",\"type\":\"bar\"}],                        {\"template\":{\"data\":{\"barpolar\":[{\"marker\":{\"line\":{\"color\":\"white\",\"width\":0.5},\"pattern\":{\"fillmode\":\"overlay\",\"size\":10,\"solidity\":0.2}},\"type\":\"barpolar\"}],\"bar\":[{\"error_x\":{\"color\":\"rgb(36,36,36)\"},\"error_y\":{\"color\":\"rgb(36,36,36)\"},\"marker\":{\"line\":{\"color\":\"white\",\"width\":0.5},\"pattern\":{\"fillmode\":\"overlay\",\"size\":10,\"solidity\":0.2}},\"type\":\"bar\"}],\"carpet\":[{\"aaxis\":{\"endlinecolor\":\"rgb(36,36,36)\",\"gridcolor\":\"white\",\"linecolor\":\"white\",\"minorgridcolor\":\"white\",\"startlinecolor\":\"rgb(36,36,36)\"},\"baxis\":{\"endlinecolor\":\"rgb(36,36,36)\",\"gridcolor\":\"white\",\"linecolor\":\"white\",\"minorgridcolor\":\"white\",\"startlinecolor\":\"rgb(36,36,36)\"},\"type\":\"carpet\"}],\"choropleth\":[{\"colorbar\":{\"outlinewidth\":1,\"tickcolor\":\"rgb(36,36,36)\",\"ticks\":\"outside\"},\"type\":\"choropleth\"}],\"contourcarpet\":[{\"colorbar\":{\"outlinewidth\":1,\"tickcolor\":\"rgb(36,36,36)\",\"ticks\":\"outside\"},\"type\":\"contourcarpet\"}],\"contour\":[{\"colorbar\":{\"outlinewidth\":1,\"tickcolor\":\"rgb(36,36,36)\",\"ticks\":\"outside\"},\"colorscale\":[[0.0,\"#440154\"],[0.1111111111111111,\"#482878\"],[0.2222222222222222,\"#3e4989\"],[0.3333333333333333,\"#31688e\"],[0.4444444444444444,\"#26828e\"],[0.5555555555555556,\"#1f9e89\"],[0.6666666666666666,\"#35b779\"],[0.7777777777777778,\"#6ece58\"],[0.8888888888888888,\"#b5de2b\"],[1.0,\"#fde725\"]],\"type\":\"contour\"}],\"heatmapgl\":[{\"colorbar\":{\"outlinewidth\":1,\"tickcolor\":\"rgb(36,36,36)\",\"ticks\":\"outside\"},\"colorscale\":[[0.0,\"#440154\"],[0.1111111111111111,\"#482878\"],[0.2222222222222222,\"#3e4989\"],[0.3333333333333333,\"#31688e\"],[0.4444444444444444,\"#26828e\"],[0.5555555555555556,\"#1f9e89\"],[0.6666666666666666,\"#35b779\"],[0.7777777777777778,\"#6ece58\"],[0.8888888888888888,\"#b5de2b\"],[1.0,\"#fde725\"]],\"type\":\"heatmapgl\"}],\"heatmap\":[{\"colorbar\":{\"outlinewidth\":1,\"tickcolor\":\"rgb(36,36,36)\",\"ticks\":\"outside\"},\"colorscale\":[[0.0,\"#440154\"],[0.1111111111111111,\"#482878\"],[0.2222222222222222,\"#3e4989\"],[0.3333333333333333,\"#31688e\"],[0.4444444444444444,\"#26828e\"],[0.5555555555555556,\"#1f9e89\"],[0.6666666666666666,\"#35b779\"],[0.7777777777777778,\"#6ece58\"],[0.8888888888888888,\"#b5de2b\"],[1.0,\"#fde725\"]],\"type\":\"heatmap\"}],\"histogram2dcontour\":[{\"colorbar\":{\"outlinewidth\":1,\"tickcolor\":\"rgb(36,36,36)\",\"ticks\":\"outside\"},\"colorscale\":[[0.0,\"#440154\"],[0.1111111111111111,\"#482878\"],[0.2222222222222222,\"#3e4989\"],[0.3333333333333333,\"#31688e\"],[0.4444444444444444,\"#26828e\"],[0.5555555555555556,\"#1f9e89\"],[0.6666666666666666,\"#35b779\"],[0.7777777777777778,\"#6ece58\"],[0.8888888888888888,\"#b5de2b\"],[1.0,\"#fde725\"]],\"type\":\"histogram2dcontour\"}],\"histogram2d\":[{\"colorbar\":{\"outlinewidth\":1,\"tickcolor\":\"rgb(36,36,36)\",\"ticks\":\"outside\"},\"colorscale\":[[0.0,\"#440154\"],[0.1111111111111111,\"#482878\"],[0.2222222222222222,\"#3e4989\"],[0.3333333333333333,\"#31688e\"],[0.4444444444444444,\"#26828e\"],[0.5555555555555556,\"#1f9e89\"],[0.6666666666666666,\"#35b779\"],[0.7777777777777778,\"#6ece58\"],[0.8888888888888888,\"#b5de2b\"],[1.0,\"#fde725\"]],\"type\":\"histogram2d\"}],\"histogram\":[{\"marker\":{\"line\":{\"color\":\"white\",\"width\":0.6}},\"type\":\"histogram\"}],\"mesh3d\":[{\"colorbar\":{\"outlinewidth\":1,\"tickcolor\":\"rgb(36,36,36)\",\"ticks\":\"outside\"},\"type\":\"mesh3d\"}],\"parcoords\":[{\"line\":{\"colorbar\":{\"outlinewidth\":1,\"tickcolor\":\"rgb(36,36,36)\",\"ticks\":\"outside\"}},\"type\":\"parcoords\"}],\"pie\":[{\"automargin\":true,\"type\":\"pie\"}],\"scatter3d\":[{\"line\":{\"colorbar\":{\"outlinewidth\":1,\"tickcolor\":\"rgb(36,36,36)\",\"ticks\":\"outside\"}},\"marker\":{\"colorbar\":{\"outlinewidth\":1,\"tickcolor\":\"rgb(36,36,36)\",\"ticks\":\"outside\"}},\"type\":\"scatter3d\"}],\"scattercarpet\":[{\"marker\":{\"colorbar\":{\"outlinewidth\":1,\"tickcolor\":\"rgb(36,36,36)\",\"ticks\":\"outside\"}},\"type\":\"scattercarpet\"}],\"scattergeo\":[{\"marker\":{\"colorbar\":{\"outlinewidth\":1,\"tickcolor\":\"rgb(36,36,36)\",\"ticks\":\"outside\"}},\"type\":\"scattergeo\"}],\"scattergl\":[{\"marker\":{\"colorbar\":{\"outlinewidth\":1,\"tickcolor\":\"rgb(36,36,36)\",\"ticks\":\"outside\"}},\"type\":\"scattergl\"}],\"scattermapbox\":[{\"marker\":{\"colorbar\":{\"outlinewidth\":1,\"tickcolor\":\"rgb(36,36,36)\",\"ticks\":\"outside\"}},\"type\":\"scattermapbox\"}],\"scatterpolargl\":[{\"marker\":{\"colorbar\":{\"outlinewidth\":1,\"tickcolor\":\"rgb(36,36,36)\",\"ticks\":\"outside\"}},\"type\":\"scatterpolargl\"}],\"scatterpolar\":[{\"marker\":{\"colorbar\":{\"outlinewidth\":1,\"tickcolor\":\"rgb(36,36,36)\",\"ticks\":\"outside\"}},\"type\":\"scatterpolar\"}],\"scatter\":[{\"fillpattern\":{\"fillmode\":\"overlay\",\"size\":10,\"solidity\":0.2},\"type\":\"scatter\"}],\"scatterternary\":[{\"marker\":{\"colorbar\":{\"outlinewidth\":1,\"tickcolor\":\"rgb(36,36,36)\",\"ticks\":\"outside\"}},\"type\":\"scatterternary\"}],\"surface\":[{\"colorbar\":{\"outlinewidth\":1,\"tickcolor\":\"rgb(36,36,36)\",\"ticks\":\"outside\"},\"colorscale\":[[0.0,\"#440154\"],[0.1111111111111111,\"#482878\"],[0.2222222222222222,\"#3e4989\"],[0.3333333333333333,\"#31688e\"],[0.4444444444444444,\"#26828e\"],[0.5555555555555556,\"#1f9e89\"],[0.6666666666666666,\"#35b779\"],[0.7777777777777778,\"#6ece58\"],[0.8888888888888888,\"#b5de2b\"],[1.0,\"#fde725\"]],\"type\":\"surface\"}],\"table\":[{\"cells\":{\"fill\":{\"color\":\"rgb(237,237,237)\"},\"line\":{\"color\":\"white\"}},\"header\":{\"fill\":{\"color\":\"rgb(217,217,217)\"},\"line\":{\"color\":\"white\"}},\"type\":\"table\"}]},\"layout\":{\"annotationdefaults\":{\"arrowhead\":0,\"arrowwidth\":1},\"autotypenumbers\":\"strict\",\"coloraxis\":{\"colorbar\":{\"outlinewidth\":1,\"tickcolor\":\"rgb(36,36,36)\",\"ticks\":\"outside\"}},\"colorscale\":{\"diverging\":[[0.0,\"rgb(103,0,31)\"],[0.1,\"rgb(178,24,43)\"],[0.2,\"rgb(214,96,77)\"],[0.3,\"rgb(244,165,130)\"],[0.4,\"rgb(253,219,199)\"],[0.5,\"rgb(247,247,247)\"],[0.6,\"rgb(209,229,240)\"],[0.7,\"rgb(146,197,222)\"],[0.8,\"rgb(67,147,195)\"],[0.9,\"rgb(33,102,172)\"],[1.0,\"rgb(5,48,97)\"]],\"sequential\":[[0.0,\"#440154\"],[0.1111111111111111,\"#482878\"],[0.2222222222222222,\"#3e4989\"],[0.3333333333333333,\"#31688e\"],[0.4444444444444444,\"#26828e\"],[0.5555555555555556,\"#1f9e89\"],[0.6666666666666666,\"#35b779\"],[0.7777777777777778,\"#6ece58\"],[0.8888888888888888,\"#b5de2b\"],[1.0,\"#fde725\"]],\"sequentialminus\":[[0.0,\"#440154\"],[0.1111111111111111,\"#482878\"],[0.2222222222222222,\"#3e4989\"],[0.3333333333333333,\"#31688e\"],[0.4444444444444444,\"#26828e\"],[0.5555555555555556,\"#1f9e89\"],[0.6666666666666666,\"#35b779\"],[0.7777777777777778,\"#6ece58\"],[0.8888888888888888,\"#b5de2b\"],[1.0,\"#fde725\"]]},\"colorway\":[\"#91268F\",\"#8CC63E\",\"#00A7A0\",\"#F05A28\",\"#4C4C4C\",\"#630460\",\"#9f3913\",\"#588527\",\"#00716c\",\"#3e4040\"],\"font\":{\"color\":\"rgb(36,36,36)\",\"family\":\"Poppins\",\"size\":11},\"geo\":{\"bgcolor\":\"white\",\"lakecolor\":\"white\",\"landcolor\":\"white\",\"showlakes\":true,\"showland\":true,\"subunitcolor\":\"white\"},\"hoverlabel\":{\"align\":\"left\"},\"hovermode\":\"closest\",\"mapbox\":{\"style\":\"light\"},\"paper_bgcolor\":\"white\",\"plot_bgcolor\":\"white\",\"polar\":{\"angularaxis\":{\"gridcolor\":\"rgb(232,232,232)\",\"linecolor\":\"rgb(36,36,36)\",\"showgrid\":false,\"showline\":true,\"ticks\":\"outside\"},\"bgcolor\":\"white\",\"radialaxis\":{\"gridcolor\":\"rgb(232,232,232)\",\"linecolor\":\"rgb(36,36,36)\",\"showgrid\":false,\"showline\":true,\"ticks\":\"outside\"}},\"scene\":{\"xaxis\":{\"backgroundcolor\":\"white\",\"gridcolor\":\"rgb(232,232,232)\",\"gridwidth\":2,\"linecolor\":\"rgb(36,36,36)\",\"showbackground\":true,\"showgrid\":false,\"showline\":true,\"ticks\":\"outside\",\"zeroline\":false,\"zerolinecolor\":\"rgb(36,36,36)\"},\"yaxis\":{\"backgroundcolor\":\"white\",\"gridcolor\":\"rgb(232,232,232)\",\"gridwidth\":2,\"linecolor\":\"rgb(36,36,36)\",\"showbackground\":true,\"showgrid\":false,\"showline\":true,\"ticks\":\"outside\",\"zeroline\":false,\"zerolinecolor\":\"rgb(36,36,36)\"},\"zaxis\":{\"backgroundcolor\":\"white\",\"gridcolor\":\"rgb(232,232,232)\",\"gridwidth\":2,\"linecolor\":\"rgb(36,36,36)\",\"showbackground\":true,\"showgrid\":false,\"showline\":true,\"ticks\":\"outside\",\"zeroline\":false,\"zerolinecolor\":\"rgb(36,36,36)\"}},\"shapedefaults\":{\"fillcolor\":\"black\",\"line\":{\"width\":0},\"opacity\":0.3},\"ternary\":{\"aaxis\":{\"gridcolor\":\"rgb(232,232,232)\",\"linecolor\":\"rgb(36,36,36)\",\"showgrid\":false,\"showline\":true,\"ticks\":\"outside\"},\"baxis\":{\"gridcolor\":\"rgb(232,232,232)\",\"linecolor\":\"rgb(36,36,36)\",\"showgrid\":false,\"showline\":true,\"ticks\":\"outside\"},\"bgcolor\":\"white\",\"caxis\":{\"gridcolor\":\"rgb(232,232,232)\",\"linecolor\":\"rgb(36,36,36)\",\"showgrid\":false,\"showline\":true,\"ticks\":\"outside\"}},\"title\":{\"x\":0.05},\"xaxis\":{\"automargin\":true,\"gridcolor\":\"rgb(232,232,232)\",\"linecolor\":\"rgb(36,36,36)\",\"showgrid\":false,\"showline\":true,\"ticks\":\"outside\",\"title\":{\"standoff\":15},\"zeroline\":false,\"zerolinecolor\":\"rgb(36,36,36)\"},\"yaxis\":{\"automargin\":true,\"gridcolor\":\"rgb(232,232,232)\",\"linecolor\":\"rgb(36,36,36)\",\"showgrid\":false,\"showline\":true,\"ticks\":\"outside\",\"title\":{\"standoff\":15},\"zeroline\":false,\"zerolinecolor\":\"rgb(36,36,36)\"}}},\"xaxis\":{\"anchor\":\"y\",\"domain\":[0.0,0.98],\"title\":{\"text\":\"tlvorg_hr\"},\"dtick\":1,\"categoryorder\":\"category ascending\"},\"yaxis\":{\"anchor\":\"x\",\"domain\":[0.0,0.14166666666666666],\"title\":{\"text\":\"percentage\"},\"tickformat\":\".0%\"},\"xaxis2\":{\"anchor\":\"y2\",\"domain\":[0.0,0.98],\"matches\":\"x\",\"showticklabels\":false,\"dtick\":1,\"categoryorder\":\"category ascending\"},\"yaxis2\":{\"anchor\":\"x2\",\"domain\":[0.17166666666666666,0.31333333333333335],\"matches\":\"y\",\"title\":{\"text\":\"percentage\"},\"tickformat\":\".0%\"},\"xaxis3\":{\"anchor\":\"y3\",\"domain\":[0.0,0.98],\"matches\":\"x\",\"showticklabels\":false,\"dtick\":1,\"categoryorder\":\"category ascending\"},\"yaxis3\":{\"anchor\":\"x3\",\"domain\":[0.3433333333333333,0.485],\"matches\":\"y\",\"title\":{\"text\":\"percentage\"},\"tickformat\":\".0%\"},\"xaxis4\":{\"anchor\":\"y4\",\"domain\":[0.0,0.98],\"matches\":\"x\",\"showticklabels\":false,\"dtick\":1,\"categoryorder\":\"category ascending\"},\"yaxis4\":{\"anchor\":\"x4\",\"domain\":[0.515,0.6566666666666667],\"matches\":\"y\",\"title\":{\"text\":\"percentage\"},\"tickformat\":\".0%\"},\"xaxis5\":{\"anchor\":\"y5\",\"domain\":[0.0,0.98],\"matches\":\"x\",\"showticklabels\":false,\"dtick\":1,\"categoryorder\":\"category ascending\"},\"yaxis5\":{\"anchor\":\"x5\",\"domain\":[0.6866666666666666,0.8283333333333334],\"matches\":\"y\",\"title\":{\"text\":\"percentage\"},\"tickformat\":\".0%\"},\"xaxis6\":{\"anchor\":\"y6\",\"domain\":[0.0,0.98],\"matches\":\"x\",\"showticklabels\":false,\"dtick\":1,\"categoryorder\":\"category ascending\"},\"yaxis6\":{\"anchor\":\"x6\",\"domain\":[0.8583333333333333,1.0],\"matches\":\"y\",\"title\":{\"text\":\"percentage\"},\"tickformat\":\".0%\"},\"annotations\":[{\"font\":{},\"showarrow\":false,\"text\":\"Personal Business\",\"textangle\":90,\"x\":0.98,\"xanchor\":\"left\",\"xref\":\"paper\",\"y\":0.07083333333333333,\"yanchor\":\"middle\",\"yref\":\"paper\"},{\"font\":{},\"showarrow\":false,\"text\":\"Escort\",\"textangle\":90,\"x\":0.98,\"xanchor\":\"left\",\"xref\":\"paper\",\"y\":0.2425,\"yanchor\":\"middle\",\"yref\":\"paper\"},{\"font\":{},\"showarrow\":false,\"text\":\"Meal\",\"textangle\":90,\"x\":0.98,\"xanchor\":\"left\",\"xref\":\"paper\",\"y\":0.4141666666666667,\"yanchor\":\"middle\",\"yref\":\"paper\"},{\"font\":{},\"showarrow\":false,\"text\":\"Shop\",\"textangle\":90,\"x\":0.98,\"xanchor\":\"left\",\"xref\":\"paper\",\"y\":0.5858333333333334,\"yanchor\":\"middle\",\"yref\":\"paper\"},{\"font\":{},\"showarrow\":false,\"text\":\"School\",\"textangle\":90,\"x\":0.98,\"xanchor\":\"left\",\"xref\":\"paper\",\"y\":0.7575000000000001,\"yanchor\":\"middle\",\"yref\":\"paper\"},{\"font\":{},\"showarrow\":false,\"text\":\"Work\",\"textangle\":90,\"x\":0.98,\"xanchor\":\"left\",\"xref\":\"paper\",\"y\":0.9291666666666667,\"yanchor\":\"middle\",\"yref\":\"paper\"}],\"legend\":{\"title\":{\"text\":\"source\"},\"tracegroupgap\":0},\"title\":{\"text\":\"tour origin departure hour by purpose\"},\"barmode\":\"group\",\"height\":1500,\"width\":850},                        {\"responsive\": true}                    ).then(function(){\n",
       "                            \n",
       "var gd = document.getElementById('5645c458-1bc7-4312-85f7-46e73e361c78');\n",
       "var x = new MutationObserver(function (mutations, observer) {{\n",
       "        var display = window.getComputedStyle(gd).display;\n",
       "        if (!display || display === 'none') {{\n",
       "            console.log([gd, 'removed!']);\n",
       "            Plotly.purge(gd);\n",
       "            observer.disconnect();\n",
       "        }}\n",
       "}});\n",
       "\n",
       "// Listen for the removal of the full notebook cells\n",
       "var notebookContainer = gd.closest('#notebook-container');\n",
       "if (notebookContainer) {{\n",
       "    x.observe(notebookContainer, {childList: true});\n",
       "}}\n",
       "\n",
       "// Listen for the clearing of the current output cell\n",
       "var outputEl = gd.closest('.output');\n",
       "if (outputEl) {{\n",
       "    x.observe(outputEl, {childList: true});\n",
       "}}\n",
       "\n",
       "                        })                };                });            </script>        </div>"
      ]
     },
     "metadata": {},
     "output_type": "display_data"
    }
   ],
   "source": [
    "df_plot = df_tour.groupby(['tlvorg_hr','pdpurp_label','source'])['toexpfac'].agg(sample_count='size', toexpfac='sum').reset_index()\n",
    "df_plot['percentage'] = df_plot.groupby(['pdpurp_label','source'], group_keys=False)['toexpfac']. \\\n",
    "    apply(lambda x: x / float(x.sum()))\n",
    "\n",
    "fig = px.bar(df_plot.sort_values(['source','pdpurp_label']),\n",
    "             x=\"tlvorg_hr\", y=\"percentage\", color=\"source\",barmode=\"group\",\n",
    "             facet_row='pdpurp_label',\n",
    "             hover_data=['toexpfac','sample_count'],\n",
    "             title=\"tour origin departure hour by purpose\")\n",
    "fig.update_layout(height=1500, width=850)\n",
    "fig.for_each_annotation(lambda a: a.update(text = a.text.split(\"=\")[-1]))\n",
    "fig.for_each_xaxis(lambda a: a.update(dict(dtick = 1, categoryorder='category ascending')))\n",
    "fig.for_each_yaxis(lambda a: a.update(dict(tickformat=\".0%\")))\n",
    "fig.show()"
   ]
  },
  {
   "cell_type": "raw",
   "metadata": {
    "vscode": {
     "languageId": "raw"
    }
   },
   "source": [
    "### trip"
   ]
  },
  {
   "cell_type": "code",
   "execution_count": 7,
   "metadata": {
    "execution": {
     "iopub.execute_input": "2025-01-21T07:15:35.232422Z",
     "iopub.status.busy": "2025-01-21T07:15:35.230847Z",
     "iopub.status.idle": "2025-01-21T07:15:36.914521Z",
     "shell.execute_reply": "2025-01-21T07:15:36.913009Z"
    }
   },
   "outputs": [
    {
     "data": {
      "application/vnd.plotly.v1+json": {
       "config": {
        "plotlyServerURL": "https://plot.ly"
       },
       "data": [
        {
         "alignmentgroup": "True",
         "customdata": [
          [
           3325.0,
           3325.0
          ],
          [
           2287.0,
           2287.0
          ],
          [
           785.0,
           785.0
          ],
          [
           20058.0,
           20058.0
          ],
          [
           28017.0,
           28017.0
          ],
          [
           80655.0,
           80655.0
          ],
          [
           223275.0,
           223275.0
          ],
          [
           324685.0,
           324685.0
          ],
          [
           294856.0,
           294856.0
          ],
          [
           174182.0,
           174182.0
          ],
          [
           119415.0,
           119415.0
          ],
          [
           118101.0,
           118101.0
          ],
          [
           113905.0,
           113905.0
          ],
          [
           94044.0,
           94044.0
          ],
          [
           83771.0,
           83771.0
          ],
          [
           76585.0,
           76585.0
          ],
          [
           79496.0,
           79496.0
          ],
          [
           66988.0,
           66988.0
          ],
          [
           49966.0,
           49966.0
          ],
          [
           27873.0,
           27873.0
          ],
          [
           21315.0,
           21315.0
          ],
          [
           15806.0,
           15806.0
          ],
          [
           9007.0,
           9007.0
          ],
          [
           7140.0,
           7140.0
          ]
         ],
         "hovertemplate": "source=model<br>dpurp_label=Work<br>dept_hr=%{x}<br>percentage=%{y}<br>trexpfac=%{customdata[0]}<br>sample_count=%{customdata[1]}<extra></extra>",
         "legendgroup": "model",
         "marker": {
          "color": "#91268F",
          "pattern": {
           "shape": ""
          }
         },
         "name": "model",
         "offsetgroup": "model",
         "orientation": "v",
         "showlegend": true,
         "textposition": "auto",
         "type": "bar",
         "x": [
          0,
          1,
          2,
          3,
          4,
          5,
          6,
          7,
          8,
          9,
          10,
          11,
          12,
          13,
          14,
          15,
          16,
          17,
          18,
          19,
          20,
          21,
          22,
          23
         ],
         "xaxis": "x6",
         "y": [
          0.0016334755889969084,
          0.0011235364427175727,
          0.00038564762025942046,
          0.009853910786195486,
          0.01376393551185756,
          0.03962345071595358,
          0.10968849988970969,
          0.15950827717698082,
          0.14485415887797667,
          0.08557053986245398,
          0.05866510901054611,
          0.058019579108608686,
          0.05595820660592266,
          0.046201076177932406,
          0.04115425069649925,
          0.03762397834085059,
          0.03905406779636037,
          0.032909251956608994,
          0.02454683948265249,
          0.013693192508905513,
          0.010471438249464391,
          0.007765027115694777,
          0.004424876580479745,
          0.0035076738963723086
         ],
         "yaxis": "y6"
        },
        {
         "alignmentgroup": "True",
         "customdata": [
          [
           7.0,
           7.0
          ],
          [
           2.0,
           2.0
          ],
          [
           2.0,
           2.0
          ],
          [
           508.0,
           508.0
          ],
          [
           597.0,
           597.0
          ],
          [
           5009.0,
           5009.0
          ],
          [
           46122.0,
           46122.0
          ],
          [
           143396.0,
           143396.0
          ],
          [
           164867.0,
           164867.0
          ],
          [
           83776.0,
           83776.0
          ],
          [
           39227.0,
           39227.0
          ],
          [
           26224.0,
           26224.0
          ],
          [
           17567.0,
           17567.0
          ],
          [
           12342.0,
           12342.0
          ],
          [
           9532.0,
           9532.0
          ],
          [
           9702.0,
           9702.0
          ],
          [
           6320.0,
           6320.0
          ],
          [
           5275.0,
           5275.0
          ],
          [
           3204.0,
           3204.0
          ],
          [
           1041.0,
           1041.0
          ],
          [
           719.0,
           719.0
          ],
          [
           369.0,
           369.0
          ],
          [
           71.0,
           71.0
          ],
          [
           29.0,
           29.0
          ]
         ],
         "hovertemplate": "source=model<br>dpurp_label=School<br>dept_hr=%{x}<br>percentage=%{y}<br>trexpfac=%{customdata[0]}<br>sample_count=%{customdata[1]}<extra></extra>",
         "legendgroup": "model",
         "marker": {
          "color": "#91268F",
          "pattern": {
           "shape": ""
          }
         },
         "name": "model",
         "offsetgroup": "model",
         "orientation": "v",
         "showlegend": false,
         "textposition": "auto",
         "type": "bar",
         "x": [
          0,
          1,
          2,
          3,
          4,
          5,
          6,
          7,
          8,
          9,
          10,
          11,
          12,
          13,
          14,
          15,
          16,
          17,
          18,
          19,
          20,
          21,
          22,
          23
         ],
         "xaxis": "x5",
         "y": [
          1.2154719156531945e-05,
          3.4727769018662703e-06,
          3.4727769018662703e-06,
          0.0008820853330740327,
          0.0010366239052070818,
          0.008697569750724074,
          0.08008570813393806,
          0.24899115831000784,
          0.2862731547399932,
          0.14546767886537432,
          0.06811330976475409,
          0.04553505073727054,
          0.030503135917542386,
          0.021430506261416755,
          0.016551254714294646,
          0.016846440750953276,
          0.010973975009897415,
          0.009159449078672287,
          0.005563388596789765,
          0.0018075803774213937,
          0.001248463296220924,
          0.0006407273383943269,
          0.0001232835800162526,
          5.035526507706092e-05
         ],
         "yaxis": "y5"
        },
        {
         "alignmentgroup": "True",
         "customdata": [
          [
           1076.0,
           1076.0
          ],
          [
           780.0,
           780.0
          ],
          [
           316.0,
           316.0
          ],
          [
           7841.0,
           7841.0
          ],
          [
           7829.0,
           7829.0
          ],
          [
           11965.0,
           11965.0
          ],
          [
           32050.0,
           32050.0
          ],
          [
           67841.0,
           67841.0
          ],
          [
           110766.0,
           110766.0
          ],
          [
           153534.0,
           153534.0
          ],
          [
           180336.0,
           180336.0
          ],
          [
           168744.0,
           168744.0
          ],
          [
           158353.0,
           158353.0
          ],
          [
           175497.0,
           175497.0
          ],
          [
           157961.0,
           157961.0
          ],
          [
           177525.0,
           177525.0
          ],
          [
           189560.0,
           189560.0
          ],
          [
           159745.0,
           159745.0
          ],
          [
           125196.0,
           125196.0
          ],
          [
           86459.0,
           86459.0
          ],
          [
           58300.0,
           58300.0
          ],
          [
           20856.0,
           20856.0
          ],
          [
           9273.0,
           9273.0
          ],
          [
           5749.0,
           5749.0
          ]
         ],
         "hovertemplate": "source=model<br>dpurp_label=Shop<br>dept_hr=%{x}<br>percentage=%{y}<br>trexpfac=%{customdata[0]}<br>sample_count=%{customdata[1]}<extra></extra>",
         "legendgroup": "model",
         "marker": {
          "color": "#91268F",
          "pattern": {
           "shape": ""
          }
         },
         "name": "model",
         "offsetgroup": "model",
         "orientation": "v",
         "showlegend": false,
         "textposition": "auto",
         "type": "bar",
         "x": [
          0,
          1,
          2,
          3,
          4,
          5,
          6,
          7,
          8,
          9,
          10,
          11,
          12,
          13,
          14,
          15,
          16,
          17,
          18,
          19,
          20,
          21,
          22,
          23
         ],
         "xaxis": "x4",
         "y": [
          0.0005204222191267741,
          0.00037725774248966896,
          0.00015283775208555818,
          0.003792407639566018,
          0.0037866036742969463,
          0.005787037037037037,
          0.015501423906146013,
          0.032812233984925165,
          0.05357350141616753,
          0.07425883363513952,
          0.08722199006361146,
          0.08161535961368807,
          0.0765896093544443,
          0.08488154106885824,
          0.0764000131556546,
          0.08586241119933138,
          0.091683304700438,
          0.07726286932565662,
          0.060552769652226404,
          0.04181708609989011,
          0.02819759793224064,
          0.01008729163764684,
          0.004485014161675256,
          0.0027805830276578293
         ],
         "yaxis": "y4"
        },
        {
         "alignmentgroup": "True",
         "customdata": [
          [
           885.0,
           885.0
          ],
          [
           661.0,
           661.0
          ],
          [
           232.0,
           232.0
          ],
          [
           4175.0,
           4175.0
          ],
          [
           4660.0,
           4660.0
          ],
          [
           8763.0,
           8763.0
          ],
          [
           23297.0,
           23297.0
          ],
          [
           36137.0,
           36137.0
          ],
          [
           51721.0,
           51721.0
          ],
          [
           63199.0,
           63199.0
          ],
          [
           81360.0,
           81360.0
          ],
          [
           86786.0,
           86786.0
          ],
          [
           84150.0,
           84150.0
          ],
          [
           87678.0,
           87678.0
          ],
          [
           77261.0,
           77261.0
          ],
          [
           72547.0,
           72547.0
          ],
          [
           82298.0,
           82298.0
          ],
          [
           80227.0,
           80227.0
          ],
          [
           66686.0,
           66686.0
          ],
          [
           45001.0,
           45001.0
          ],
          [
           33006.0,
           33006.0
          ],
          [
           19167.0,
           19167.0
          ],
          [
           7767.0,
           7767.0
          ],
          [
           4006.0,
           4006.0
          ]
         ],
         "hovertemplate": "source=model<br>dpurp_label=Meal<br>dept_hr=%{x}<br>percentage=%{y}<br>trexpfac=%{customdata[0]}<br>sample_count=%{customdata[1]}<extra></extra>",
         "legendgroup": "model",
         "marker": {
          "color": "#91268F",
          "pattern": {
           "shape": ""
          }
         },
         "name": "model",
         "offsetgroup": "model",
         "orientation": "v",
         "showlegend": false,
         "textposition": "auto",
         "type": "bar",
         "x": [
          0,
          1,
          2,
          3,
          4,
          5,
          6,
          7,
          8,
          9,
          10,
          11,
          12,
          13,
          14,
          15,
          16,
          17,
          18,
          19,
          20,
          21,
          22,
          23
         ],
         "xaxis": "x3",
         "y": [
          0.0008662288214394081,
          0.000646979944600507,
          0.00022707919386886176,
          0.004086446700010767,
          0.0045611596699521376,
          0.008577133516693257,
          0.022802861980874452,
          0.035370520813961456,
          0.050623978388325,
          0.06185852574706118,
          0.07963432419470083,
          0.08494523672027171,
          0.08236514725889965,
          0.08581831706911233,
          0.07562226550647469,
          0.07100825119657032,
          0.08055242886646373,
          0.07852535554533265,
          0.06527156518249533,
          0.04404651208315797,
          0.032305930486360566,
          0.018760460814157214,
          0.007602259046463143,
          0.003921031252752846
         ],
         "yaxis": "y3"
        },
        {
         "alignmentgroup": "True",
         "customdata": [
          [
           2149.0,
           2149.0
          ],
          [
           1472.0,
           1472.0
          ],
          [
           554.0,
           554.0
          ],
          [
           25025.0,
           25025.0
          ],
          [
           23698.0,
           23698.0
          ],
          [
           42205.0,
           42205.0
          ],
          [
           115700.0,
           115700.0
          ],
          [
           140157.0,
           140157.0
          ],
          [
           124711.0,
           124711.0
          ],
          [
           109907.0,
           109907.0
          ],
          [
           104312.0,
           104312.0
          ],
          [
           86270.0,
           86270.0
          ],
          [
           81687.0,
           81687.0
          ],
          [
           90699.0,
           90699.0
          ],
          [
           91479.0,
           91479.0
          ],
          [
           121602.0,
           121602.0
          ],
          [
           139660.0,
           139660.0
          ],
          [
           124847.0,
           124847.0
          ],
          [
           86075.0,
           86075.0
          ],
          [
           52199.0,
           52199.0
          ],
          [
           38098.0,
           38098.0
          ],
          [
           20358.0,
           20358.0
          ],
          [
           11084.0,
           11084.0
          ],
          [
           8700.0,
           8700.0
          ]
         ],
         "hovertemplate": "source=model<br>dpurp_label=Escort<br>dept_hr=%{x}<br>percentage=%{y}<br>trexpfac=%{customdata[0]}<br>sample_count=%{customdata[1]}<extra></extra>",
         "legendgroup": "model",
         "marker": {
          "color": "#91268F",
          "pattern": {
           "shape": ""
          }
         },
         "name": "model",
         "offsetgroup": "model",
         "orientation": "v",
         "showlegend": false,
         "textposition": "auto",
         "type": "bar",
         "x": [
          0,
          1,
          2,
          3,
          4,
          5,
          6,
          7,
          8,
          9,
          10,
          11,
          12,
          13,
          14,
          15,
          16,
          17,
          18,
          19,
          20,
          21,
          22,
          23
         ],
         "xaxis": "x2",
         "y": [
          0.0013082535028807146,
          0.0008961140792184326,
          0.00033726032601019815,
          0.015234548119864999,
          0.014426706147634794,
          0.025693270865091,
          0.07043505364509012,
          0.08532381861482193,
          0.07592070851454481,
          0.06690843077762247,
          0.06350234499418013,
          0.0525188597922379,
          0.049728852438258225,
          0.05521511608086455,
          0.05568995913914606,
          0.07402803278608686,
          0.08502125835845538,
          0.07600350166316824,
          0.05240014902766752,
          0.03177734974261071,
          0.023193039531293376,
          0.012393403821147318,
          0.006747641612810535,
          0.005296326419293726
         ],
         "yaxis": "y2"
        },
        {
         "alignmentgroup": "True",
         "customdata": [
          [
           500.0,
           500.0
          ],
          [
           343.0,
           343.0
          ],
          [
           132.0,
           132.0
          ],
          [
           4894.0,
           4894.0
          ],
          [
           4438.0,
           4438.0
          ],
          [
           8218.0,
           8218.0
          ],
          [
           23454.0,
           23454.0
          ],
          [
           41359.0,
           41359.0
          ],
          [
           65423.0,
           65423.0
          ],
          [
           80261.0,
           80261.0
          ],
          [
           83772.0,
           83772.0
          ],
          [
           71109.0,
           71109.0
          ],
          [
           66429.0,
           66429.0
          ],
          [
           70878.0,
           70878.0
          ],
          [
           61487.0,
           61487.0
          ],
          [
           63497.0,
           63497.0
          ],
          [
           68971.0,
           68971.0
          ],
          [
           55879.0,
           55879.0
          ],
          [
           43408.0,
           43408.0
          ],
          [
           25391.0,
           25391.0
          ],
          [
           18063.0,
           18063.0
          ],
          [
           9851.0,
           9851.0
          ],
          [
           3668.0,
           3668.0
          ],
          [
           2297.0,
           2297.0
          ]
         ],
         "hovertemplate": "source=model<br>dpurp_label=Personal Business<br>dept_hr=%{x}<br>percentage=%{y}<br>trexpfac=%{customdata[0]}<br>sample_count=%{customdata[1]}<extra></extra>",
         "legendgroup": "model",
         "marker": {
          "color": "#91268F",
          "pattern": {
           "shape": ""
          }
         },
         "name": "model",
         "offsetgroup": "model",
         "orientation": "v",
         "showlegend": false,
         "textposition": "auto",
         "type": "bar",
         "x": [
          0,
          1,
          2,
          3,
          4,
          5,
          6,
          7,
          8,
          9,
          10,
          11,
          12,
          13,
          14,
          15,
          16,
          17,
          18,
          19,
          20,
          21,
          22,
          23
         ],
         "xaxis": "x",
         "y": [
          0.0005722644044673248,
          0.00039257338146458487,
          0.00015107780277937377,
          0.005601323990926175,
          0.0050794188540519754,
          0.00940573775182495,
          0.026843778684753274,
          0.047336567008728174,
          0.07487850826693158,
          0.09186102673390392,
          0.09587946738207348,
          0.081386299074534,
          0.07602990424871985,
          0.0811219129196701,
          0.07037364287496481,
          0.07267414578092345,
          0.07893929648103172,
          0.0639551253144593,
          0.049681706538235275,
          0.02906073098765969,
          0.020673623875786577,
          0.011274753296815234,
          0.004198131671172295,
          0.0026289826741228905
         ],
         "yaxis": "y"
        },
        {
         "alignmentgroup": "True",
         "customdata": [
          [
           804.680284745979,
           3.0
          ],
          [
           562.3747441545361,
           2.0
          ],
          [
           0.0,
           0.0
          ],
          [
           12541.120743195179,
           22.0
          ],
          [
           53412.45675627711,
           63.0
          ],
          [
           106403.91744037515,
           137.0
          ],
          [
           210508.0172962619,
           375.0
          ],
          [
           363308.59917240904,
           635.0
          ],
          [
           286435.997377787,
           621.0
          ],
          [
           183302.98131302337,
           405.0
          ],
          [
           106180.05312067756,
           268.0
          ],
          [
           82219.09587484083,
           235.0
          ],
          [
           87388.77158814191,
           322.0
          ],
          [
           76203.60059923676,
           238.0
          ],
          [
           96806.63584919396,
           196.0
          ],
          [
           72354.08766082792,
           146.0
          ],
          [
           36458.00032092915,
           110.0
          ],
          [
           26134.5870278864,
           112.0
          ],
          [
           9622.42790991357,
           59.0
          ],
          [
           13280.302417338813,
           45.0
          ],
          [
           3794.3513886581586,
           34.0
          ],
          [
           646.117373288423,
           22.0
          ],
          [
           10795.506686474104,
           16.0
          ],
          [
           1337.3601564685962,
           10.0
          ]
         ],
         "hovertemplate": "source=survey<br>dpurp_label=Work<br>dept_hr=%{x}<br>percentage=%{y}<br>trexpfac=%{customdata[0]}<br>sample_count=%{customdata[1]}<extra></extra>",
         "legendgroup": "survey",
         "marker": {
          "color": "#8CC63E",
          "pattern": {
           "shape": ""
          }
         },
         "name": "survey",
         "offsetgroup": "survey",
         "orientation": "v",
         "showlegend": true,
         "textposition": "auto",
         "type": "bar",
         "x": [
          0,
          1,
          2,
          3,
          4,
          5,
          6,
          7,
          8,
          9,
          10,
          11,
          12,
          13,
          14,
          15,
          16,
          17,
          18,
          19,
          20,
          21,
          22,
          23
         ],
         "xaxis": "x6",
         "y": [
          0.00043720718755459984,
          0.0003055552433736584,
          0.0,
          0.006813971005448343,
          0.029020606620386438,
          0.05781247331489405,
          0.11437538603154355,
          0.19739657335921093,
          0.15562935889186366,
          0.09959406543126542,
          0.05769084104495506,
          0.04467212674667284,
          0.04748096824810864,
          0.04140372584130571,
          0.05259797934481443,
          0.03931216878794995,
          0.0198087365707114,
          0.014199713238867493,
          0.005228156727200369,
          0.007215590812681794,
          0.0020615861114986933,
          0.0003510551519163569,
          0.005865525981054932,
          0.0007266283067215863
         ],
         "yaxis": "y6"
        },
        {
         "alignmentgroup": "True",
         "customdata": [
          [
           0.0,
           0.0
          ],
          [
           0.0,
           0.0
          ],
          [
           0.0,
           0.0
          ],
          [
           0.0,
           0.0
          ],
          [
           86.688593033636,
           1.0
          ],
          [
           454.39219826369094,
           4.0
          ],
          [
           25738.818694978792,
           26.0
          ],
          [
           202083.50156386622,
           237.0
          ],
          [
           186704.40572451914,
           266.0
          ],
          [
           56855.249368937446,
           63.0
          ],
          [
           9549.543311810197,
           22.0
          ],
          [
           6417.963156613865,
           16.0
          ],
          [
           6418.499390814672,
           13.0
          ],
          [
           16271.837201016171,
           19.0
          ],
          [
           5075.98314184551,
           13.0
          ],
          [
           3816.1068847656506,
           15.0
          ],
          [
           4405.086266508944,
           9.0
          ],
          [
           1012.1140325171593,
           8.0
          ],
          [
           11446.021215011839,
           3.0
          ],
          [
           117.770432262396,
           1.0
          ],
          [
           0.0,
           0.0
          ],
          [
           0.0,
           0.0
          ],
          [
           0.0,
           0.0
          ],
          [
           0.0,
           0.0
          ]
         ],
         "hovertemplate": "source=survey<br>dpurp_label=School<br>dept_hr=%{x}<br>percentage=%{y}<br>trexpfac=%{customdata[0]}<br>sample_count=%{customdata[1]}<extra></extra>",
         "legendgroup": "survey",
         "marker": {
          "color": "#8CC63E",
          "pattern": {
           "shape": ""
          }
         },
         "name": "survey",
         "offsetgroup": "survey",
         "orientation": "v",
         "showlegend": false,
         "textposition": "auto",
         "type": "bar",
         "x": [
          0,
          1,
          2,
          3,
          4,
          5,
          6,
          7,
          8,
          9,
          10,
          11,
          12,
          13,
          14,
          15,
          16,
          17,
          18,
          19,
          20,
          21,
          22,
          23
         ],
         "xaxis": "x5",
         "y": [
          0.0,
          0.0,
          0.0,
          0.0,
          0.0001615955814951283,
          0.0008470292219044332,
          0.047979546425432666,
          0.37670239881634565,
          0.34803433710187853,
          0.10598346058355236,
          0.017801234862424402,
          0.011963678864933434,
          0.01196467845524243,
          0.030332214452621405,
          0.009462103591273262,
          0.0071135773405850014,
          0.008211489561221912,
          0.0018866744735438188,
          0.021336445653556062,
          0.0002195350139895594,
          0.0,
          0.0,
          0.0,
          0.0
         ],
         "yaxis": "y5"
        },
        {
         "alignmentgroup": "True",
         "customdata": [
          [
           358.7736350081784,
           3.0
          ],
          [
           143.521368637738,
           1.0
          ],
          [
           570.896774611867,
           1.0
          ],
          [
           0.0,
           0.0
          ],
          [
           2395.07790418324,
           2.0
          ],
          [
           1099.1269493912553,
           8.0
          ],
          [
           9682.191616724744,
           16.0
          ],
          [
           30867.07210367277,
           55.0
          ],
          [
           52251.959717635866,
           96.0
          ],
          [
           74744.52813632283,
           194.0
          ],
          [
           140914.81237725343,
           291.0
          ],
          [
           165531.30596257249,
           335.0
          ],
          [
           158567.48853577266,
           324.0
          ],
          [
           148506.46920882657,
           304.0
          ],
          [
           218739.25280935795,
           345.0
          ],
          [
           239020.2878086382,
           296.0
          ],
          [
           200033.08064701868,
           332.0
          ],
          [
           128142.27916296133,
           305.0
          ],
          [
           151266.4657271988,
           246.0
          ],
          [
           69608.41782593237,
           214.0
          ],
          [
           33729.00173269235,
           85.0
          ],
          [
           16880.520789716313,
           29.0
          ],
          [
           16289.14360404536,
           19.0
          ],
          [
           4775.237711364983,
           7.0
          ]
         ],
         "hovertemplate": "source=survey<br>dpurp_label=Shop<br>dept_hr=%{x}<br>percentage=%{y}<br>trexpfac=%{customdata[0]}<br>sample_count=%{customdata[1]}<extra></extra>",
         "legendgroup": "survey",
         "marker": {
          "color": "#8CC63E",
          "pattern": {
           "shape": ""
          }
         },
         "name": "survey",
         "offsetgroup": "survey",
         "orientation": "v",
         "showlegend": false,
         "textposition": "auto",
         "type": "bar",
         "x": [
          0,
          1,
          2,
          3,
          4,
          5,
          6,
          7,
          8,
          9,
          10,
          11,
          12,
          13,
          14,
          15,
          16,
          17,
          18,
          19,
          20,
          21,
          22,
          23
         ],
         "xaxis": "x4",
         "y": [
          0.00019246305458500988,
          7.699161340439807e-05,
          0.00030625588497333465,
          0.0,
          0.001284832452634548,
          0.0005896233987531508,
          0.005193983034984554,
          0.016558549468199315,
          0.028030409132710783,
          0.04009648088635047,
          0.0755933340134693,
          0.08879877913625489,
          0.0850630598894834,
          0.07966585585062273,
          0.11734202473482216,
          0.12822172593142206,
          0.10730715404574596,
          0.06874154637540857,
          0.08114644781373564,
          0.037341229712443066,
          0.01809382314681256,
          0.009055505413881667,
          0.008738262873014572,
          0.00256166213628793
         ],
         "yaxis": "y4"
        },
        {
         "alignmentgroup": "True",
         "customdata": [
          [
           632.62215829592,
           1.0
          ],
          [
           0.0,
           0.0
          ],
          [
           0.0,
           0.0
          ],
          [
           0.0,
           0.0
          ],
          [
           23.312448148228,
           1.0
          ],
          [
           4014.9909061810304,
           5.0
          ],
          [
           19388.229589911243,
           28.0
          ],
          [
           17193.660954560186,
           49.0
          ],
          [
           40281.55067203224,
           70.0
          ],
          [
           32319.33442456047,
           90.0
          ],
          [
           22494.99710279026,
           86.0
          ],
          [
           79180.18027602996,
           200.0
          ],
          [
           114995.59534596713,
           241.0
          ],
          [
           36169.077116900284,
           153.0
          ],
          [
           78095.67868397434,
           120.0
          ],
          [
           85847.74714025237,
           121.0
          ],
          [
           70614.77254108735,
           161.0
          ],
          [
           84957.92642486228,
           207.0
          ],
          [
           83071.03998130134,
           202.0
          ],
          [
           60305.82273592014,
           119.0
          ],
          [
           68578.57197356773,
           83.0
          ],
          [
           13629.970082285341,
           29.0
          ],
          [
           4952.542971132462,
           15.0
          ],
          [
           1494.7720542075886,
           4.0
          ]
         ],
         "hovertemplate": "source=survey<br>dpurp_label=Meal<br>dept_hr=%{x}<br>percentage=%{y}<br>trexpfac=%{customdata[0]}<br>sample_count=%{customdata[1]}<extra></extra>",
         "legendgroup": "survey",
         "marker": {
          "color": "#8CC63E",
          "pattern": {
           "shape": ""
          }
         },
         "name": "survey",
         "offsetgroup": "survey",
         "orientation": "v",
         "showlegend": false,
         "textposition": "auto",
         "type": "bar",
         "x": [
          0,
          1,
          2,
          3,
          4,
          5,
          6,
          7,
          8,
          9,
          10,
          11,
          12,
          13,
          14,
          15,
          16,
          17,
          18,
          19,
          20,
          21,
          22,
          23
         ],
         "xaxis": "x3",
         "y": [
          0.0006889489761508952,
          0.0,
          0.0,
          0.0,
          2.5388120021840368e-05,
          0.004372473897404449,
          0.0211145005753966,
          0.01872453399804706,
          0.043868101566378534,
          0.035196952983211564,
          0.024497885537602827,
          0.08623015083688694,
          0.12523446521202522,
          0.039389465451437906,
          0.08504908841015602,
          0.09349137826037361,
          0.07690210436883498,
          0.09252233052344769,
          0.09046744125604357,
          0.06567527596846352,
          0.07468460648667209,
          0.014843542563308883,
          0.005393502842986061,
          0.0016278621651497254
         ],
         "yaxis": "y3"
        },
        {
         "alignmentgroup": "True",
         "customdata": [
          [
           9.16501889224752,
           1.0
          ],
          [
           0.0,
           0.0
          ],
          [
           0.0,
           0.0
          ],
          [
           0.0,
           0.0
          ],
          [
           4054.1074151579,
           1.0
          ],
          [
           3125.344562952493,
           10.0
          ],
          [
           33587.474177644646,
           37.0
          ],
          [
           234730.64420605893,
           227.0
          ],
          [
           187868.1403029039,
           234.0
          ],
          [
           83194.89099350593,
           95.0
          ],
          [
           19655.609745442118,
           78.0
          ],
          [
           28470.57453152318,
           63.0
          ],
          [
           24735.782631357033,
           76.0
          ],
          [
           93383.3054702929,
           87.0
          ],
          [
           153778.12436165885,
           175.0
          ],
          [
           205282.61662488474,
           228.0
          ],
          [
           91440.77992572649,
           153.0
          ],
          [
           103597.81032057249,
           140.0
          ],
          [
           25422.955729679896,
           68.0
          ],
          [
           39576.823921154675,
           58.0
          ],
          [
           21548.815213539914,
           29.0
          ],
          [
           8339.18214681177,
           23.0
          ],
          [
           11516.748013204216,
           13.0
          ],
          [
           607.5843848720184,
           3.0
          ]
         ],
         "hovertemplate": "source=survey<br>dpurp_label=Escort<br>dept_hr=%{x}<br>percentage=%{y}<br>trexpfac=%{customdata[0]}<br>sample_count=%{customdata[1]}<extra></extra>",
         "legendgroup": "survey",
         "marker": {
          "color": "#8CC63E",
          "pattern": {
           "shape": ""
          }
         },
         "name": "survey",
         "offsetgroup": "survey",
         "orientation": "v",
         "showlegend": false,
         "textposition": "auto",
         "type": "bar",
         "x": [
          0,
          1,
          2,
          3,
          4,
          5,
          6,
          7,
          8,
          9,
          10,
          11,
          12,
          13,
          14,
          15,
          16,
          17,
          18,
          19,
          20,
          21,
          22,
          23
         ],
         "xaxis": "x2",
         "y": [
          6.67067636272878e-06,
          0.0,
          0.0,
          0.0,
          0.00295074552755509,
          0.0022747538599298565,
          0.024446340232871445,
          0.17084658289552915,
          0.13673813197356904,
          0.06055265126835808,
          0.014306158324981784,
          0.020722050962861296,
          0.01800371635372884,
          0.06796819687966886,
          0.11192602124931665,
          0.1494131015438555,
          0.06655434717717704,
          0.07540273213407785,
          0.018503869097326875,
          0.028805634439667174,
          0.015684110854519002,
          0.006069598533864623,
          0.008382361198640746,
          0.0004422248161383735
         ],
         "yaxis": "y2"
        },
        {
         "alignmentgroup": "True",
         "customdata": [
          [
           0.0,
           0.0
          ],
          [
           0.0,
           0.0
          ],
          [
           0.0,
           0.0
          ],
          [
           0.0,
           0.0
          ],
          [
           0.0,
           0.0
          ],
          [
           2941.709816663014,
           5.0
          ],
          [
           6787.840124287101,
           24.0
          ],
          [
           44644.19766696868,
           76.0
          ],
          [
           31765.464901663872,
           110.0
          ],
          [
           74424.1342379433,
           155.0
          ],
          [
           66592.7673521372,
           183.0
          ],
          [
           55823.58774670971,
           148.0
          ],
          [
           71755.10161401259,
           147.0
          ],
          [
           75768.19484864995,
           170.0
          ],
          [
           130627.28838497953,
           161.0
          ],
          [
           63498.44906164758,
           136.0
          ],
          [
           40413.19147329936,
           122.0
          ],
          [
           68848.96749056579,
           83.0
          ],
          [
           9367.286388232722,
           51.0
          ],
          [
           13896.771678979154,
           22.0
          ],
          [
           1354.5155151784093,
           8.0
          ],
          [
           5413.758002958482,
           5.0
          ],
          [
           197.424677262663,
           1.0
          ],
          [
           0.0,
           0.0
          ]
         ],
         "hovertemplate": "source=survey<br>dpurp_label=Personal Business<br>dept_hr=%{x}<br>percentage=%{y}<br>trexpfac=%{customdata[0]}<br>sample_count=%{customdata[1]}<extra></extra>",
         "legendgroup": "survey",
         "marker": {
          "color": "#8CC63E",
          "pattern": {
           "shape": ""
          }
         },
         "name": "survey",
         "offsetgroup": "survey",
         "orientation": "v",
         "showlegend": false,
         "textposition": "auto",
         "type": "bar",
         "x": [
          0,
          1,
          2,
          3,
          4,
          5,
          6,
          7,
          8,
          9,
          10,
          11,
          12,
          13,
          14,
          15,
          16,
          17,
          18,
          19,
          20,
          21,
          22,
          23
         ],
         "xaxis": "x",
         "y": [
          0.0,
          0.0,
          0.0,
          0.0,
          0.0,
          0.0038497975586472854,
          0.008883204655655567,
          0.058425587123691294,
          0.04157126870061043,
          0.09739840710008886,
          0.08714954538467744,
          0.0730559862175673,
          0.09390546050781949,
          0.09915737096133131,
          0.17095112953311983,
          0.083100030054196,
          0.05288849531988894,
          0.09010222064025213,
          0.01225891012916974,
          0.018186619692999218,
          0.0017726461304735373,
          0.007084951827960773,
          0.0002583684618507682,
          0.0
         ],
         "yaxis": "y"
        },
        {
         "alignmentgroup": "True",
         "customdata": [
          [
           1157.7089014365695,
           2.0
          ],
          [
           0.0,
           0.0
          ],
          [
           66.0672268552095,
           1.0
          ],
          [
           10508.932231210776,
           34.0
          ],
          [
           42855.42507830014,
           134.0
          ],
          [
           154617.96712958475,
           446.0
          ],
          [
           310857.7151247602,
           1322.0
          ],
          [
           383371.8587197158,
           2371.0
          ],
          [
           314649.8031415191,
           2127.0
          ],
          [
           249412.15683964425,
           1327.0
          ],
          [
           167477.85431534835,
           740.0
          ],
          [
           113673.71249841407,
           590.0
          ],
          [
           198346.27570010137,
           934.0
          ],
          [
           155398.99684972555,
           841.0
          ],
          [
           98432.43833252405,
           500.0
          ],
          [
           54043.69165559775,
           342.0
          ],
          [
           53533.23811600846,
           283.0
          ],
          [
           57189.75423746317,
           206.0
          ],
          [
           19353.045961580014,
           116.0
          ],
          [
           18660.712974326598,
           56.0
          ],
          [
           6227.628956539731,
           34.0
          ],
          [
           2096.1982044600077,
           11.0
          ],
          [
           3409.6893385393123,
           8.0
          ],
          [
           2471.7153776065225,
           5.0
          ]
         ],
         "hovertemplate": "source=survey (2017/2019)<br>dpurp_label=Work<br>dept_hr=%{x}<br>percentage=%{y}<br>trexpfac=%{customdata[0]}<br>sample_count=%{customdata[1]}<extra></extra>",
         "legendgroup": "survey (2017/2019)",
         "marker": {
          "color": "#00A7A0",
          "pattern": {
           "shape": ""
          }
         },
         "name": "survey (2017/2019)",
         "offsetgroup": "survey (2017/2019)",
         "orientation": "v",
         "showlegend": true,
         "textposition": "auto",
         "type": "bar",
         "x": [
          0,
          1,
          2,
          3,
          4,
          5,
          6,
          7,
          8,
          9,
          10,
          11,
          12,
          13,
          14,
          15,
          16,
          17,
          18,
          19,
          20,
          21,
          22,
          23
         ],
         "xaxis": "x6",
         "y": [
          0.00047882491294146763,
          0.0,
          2.732520593732615e-05,
          0.00434646270273407,
          0.017724874669896414,
          0.06394952527197656,
          0.12856981422281316,
          0.15856144549626597,
          0.13013821039929402,
          0.10315611647893128,
          0.06926833585943902,
          0.04701510493980488,
          0.08203542192386687,
          0.06427255681063629,
          0.040711359873542054,
          0.02235230801103496,
          0.02214118596528476,
          0.023653510014406316,
          0.008004361490359926,
          0.007718014653139649,
          0.0025757285698042804,
          0.00086698126058558,
          0.0014102372355068126,
          0.001022294031798437
         ],
         "yaxis": "y6"
        },
        {
         "alignmentgroup": "True",
         "customdata": [
          [
           0.0,
           0.0
          ],
          [
           0.0,
           0.0
          ],
          [
           0.0,
           0.0
          ],
          [
           0.0,
           0.0
          ],
          [
           0.0,
           0.0
          ],
          [
           10000.491126518085,
           13.0
          ],
          [
           57849.45797028802,
           105.0
          ],
          [
           189331.2819966019,
           515.0
          ],
          [
           183672.66268294936,
           619.0
          ],
          [
           37344.49808280266,
           163.0
          ],
          [
           11952.119643414004,
           75.0
          ],
          [
           16749.29791643655,
           58.0
          ],
          [
           20548.81031449404,
           109.0
          ],
          [
           7863.50422531356,
           76.0
          ],
          [
           15767.646214644848,
           82.0
          ],
          [
           22347.410251794394,
           67.0
          ],
          [
           14851.787717522677,
           61.0
          ],
          [
           9460.656281219735,
           59.0
          ],
          [
           846.6255037070423,
           16.0
          ],
          [
           1322.8739986711764,
           8.0
          ],
          [
           312.3021497864155,
           1.0
          ],
          [
           89.61400609072103,
           3.0
          ],
          [
           0.0,
           0.0
          ],
          [
           0.0,
           0.0
          ]
         ],
         "hovertemplate": "source=survey (2017/2019)<br>dpurp_label=School<br>dept_hr=%{x}<br>percentage=%{y}<br>trexpfac=%{customdata[0]}<br>sample_count=%{customdata[1]}<extra></extra>",
         "legendgroup": "survey (2017/2019)",
         "marker": {
          "color": "#00A7A0",
          "pattern": {
           "shape": ""
          }
         },
         "name": "survey (2017/2019)",
         "offsetgroup": "survey (2017/2019)",
         "orientation": "v",
         "showlegend": false,
         "textposition": "auto",
         "type": "bar",
         "x": [
          0,
          1,
          2,
          3,
          4,
          5,
          6,
          7,
          8,
          9,
          10,
          11,
          12,
          13,
          14,
          15,
          16,
          17,
          18,
          19,
          20,
          21,
          22,
          23
         ],
         "xaxis": "x5",
         "y": [
          0.0,
          0.0,
          0.0,
          0.0,
          0.0,
          0.016658849261122717,
          0.09636580723613118,
          0.31538863914723203,
          0.30596249347302085,
          0.06220858120098155,
          0.019909878122142004,
          0.027901032628254756,
          0.03423027221301548,
          0.013099049826296874,
          0.0262657941664447,
          0.03722638558959757,
          0.024740154229860027,
          0.0157595906947229,
          0.0014103114005550139,
          0.0022036476265535863,
          0.0005202338936555682,
          0.00014927929041325317,
          0.0,
          0.0
         ],
         "yaxis": "y5"
        },
        {
         "alignmentgroup": "True",
         "customdata": [
          [
           88.00102612483639,
           3.0
          ],
          [
           0.0,
           0.0
          ],
          [
           0.54525469613021,
           1.0
          ],
          [
           23.5581858798963,
           2.0
          ],
          [
           2802.6843880997167,
           5.0
          ],
          [
           1121.6653775904763,
           8.0
          ],
          [
           7809.612816362787,
           29.0
          ],
          [
           33966.92660566137,
           82.0
          ],
          [
           59284.61151124875,
           149.0
          ],
          [
           161859.65014367262,
           311.0
          ],
          [
           246968.17909785153,
           468.0
          ],
          [
           227991.46852515658,
           563.0
          ],
          [
           246963.90317585078,
           548.0
          ],
          [
           159734.69603642393,
           506.0
          ],
          [
           232366.1604966313,
           572.0
          ],
          [
           166747.11769128882,
           560.0
          ],
          [
           158925.46239316318,
           651.0
          ],
          [
           107544.54743676416,
           679.0
          ],
          [
           81224.20610343876,
           538.0
          ],
          [
           103668.04157456578,
           429.0
          ],
          [
           64391.27309270363,
           252.0
          ],
          [
           50067.36214807061,
           125.0
          ],
          [
           1685.2232189452338,
           35.0
          ],
          [
           2124.5189612179906,
           8.0
          ]
         ],
         "hovertemplate": "source=survey (2017/2019)<br>dpurp_label=Shop<br>dept_hr=%{x}<br>percentage=%{y}<br>trexpfac=%{customdata[0]}<br>sample_count=%{customdata[1]}<extra></extra>",
         "legendgroup": "survey (2017/2019)",
         "marker": {
          "color": "#00A7A0",
          "pattern": {
           "shape": ""
          }
         },
         "name": "survey (2017/2019)",
         "offsetgroup": "survey (2017/2019)",
         "orientation": "v",
         "showlegend": false,
         "textposition": "auto",
         "type": "bar",
         "x": [
          0,
          1,
          2,
          3,
          4,
          5,
          6,
          7,
          8,
          9,
          10,
          11,
          12,
          13,
          14,
          15,
          16,
          17,
          18,
          19,
          20,
          21,
          22,
          23
         ],
         "xaxis": "x4",
         "y": [
          4.156168550816007e-05,
          0.0,
          2.575163631644904e-07,
          1.1126210179573034e-05,
          0.001323669646210583,
          0.0005297472736587782,
          0.0036883737168442008,
          0.016042116591465795,
          0.027999314185366813,
          0.07644410721062651,
          0.11663970571919215,
          0.10767726389853786,
          0.11663768625949629,
          0.07544052034108865,
          0.1097433713056899,
          0.07875239153514342,
          0.0750583303182574,
          0.05079182431740655,
          0.03836108575520742,
          0.048961003421219784,
          0.03041112086525654,
          0.023646132908375073,
          0.0007959079629082132,
          0.0010033813559969919
         ],
         "yaxis": "y4"
        },
        {
         "alignmentgroup": "True",
         "customdata": [
          [
           0.0,
           0.0
          ],
          [
           0.0,
           0.0
          ],
          [
           0.0,
           0.0
          ],
          [
           42.29917858051295,
           1.0
          ],
          [
           218.51478703463414,
           7.0
          ],
          [
           14040.540516193796,
           19.0
          ],
          [
           17302.36516005337,
           71.0
          ],
          [
           32912.2659432944,
           113.0
          ],
          [
           32337.516123921014,
           148.0
          ],
          [
           21924.67797279626,
           132.0
          ],
          [
           30918.81011936177,
           176.0
          ],
          [
           107399.40268627688,
           532.0
          ],
          [
           170963.48585399266,
           671.0
          ],
          [
           49218.65037364089,
           301.0
          ],
          [
           30461.52140820206,
           208.0
          ],
          [
           32694.50230532186,
           206.0
          ],
          [
           51866.72388408024,
           303.0
          ],
          [
           77108.99883669768,
           502.0
          ],
          [
           105260.9074932591,
           528.0
          ],
          [
           60055.67261256101,
           335.0
          ],
          [
           41083.36947794189,
           178.0
          ],
          [
           8666.039098896175,
           63.0
          ],
          [
           5858.891906161041,
           26.0
          ],
          [
           5.963816542174035,
           2.0
          ]
         ],
         "hovertemplate": "source=survey (2017/2019)<br>dpurp_label=Meal<br>dept_hr=%{x}<br>percentage=%{y}<br>trexpfac=%{customdata[0]}<br>sample_count=%{customdata[1]}<extra></extra>",
         "legendgroup": "survey (2017/2019)",
         "marker": {
          "color": "#00A7A0",
          "pattern": {
           "shape": ""
          }
         },
         "name": "survey (2017/2019)",
         "offsetgroup": "survey (2017/2019)",
         "orientation": "v",
         "showlegend": false,
         "textposition": "auto",
         "type": "bar",
         "x": [
          0,
          1,
          2,
          3,
          4,
          5,
          6,
          7,
          8,
          9,
          10,
          11,
          12,
          13,
          14,
          15,
          16,
          17,
          18,
          19,
          20,
          21,
          22,
          23
         ],
         "xaxis": "x3",
         "y": [
          0.0,
          0.0,
          0.0,
          4.75089576921523e-05,
          0.0002454281648183299,
          0.015769843948367095,
          0.01943341128477245,
          0.036965905786482456,
          0.03632036689498346,
          0.02462503134052608,
          0.034726925939152255,
          0.12062725210308044,
          0.19202020674893489,
          0.05528066635656604,
          0.03421331525543098,
          0.03672132128601434,
          0.058254889889860155,
          0.08660613010354269,
          0.11822536911009111,
          0.06745243063983183,
          0.04614340343899257,
          0.009733391964676853,
          0.006580502436066998,
          6.698350116813741e-06
         ],
         "yaxis": "y3"
        },
        {
         "alignmentgroup": "True",
         "customdata": [
          [
           0.0,
           0.0
          ],
          [
           0.0,
           0.0
          ],
          [
           0.0,
           0.0
          ],
          [
           43.386560706051,
           1.0
          ],
          [
           1790.848267443167,
           12.0
          ],
          [
           18465.3446532733,
           31.0
          ],
          [
           57549.342829518595,
           132.0
          ],
          [
           126646.1453197122,
           480.0
          ],
          [
           172943.20962340274,
           535.0
          ],
          [
           36944.90811363062,
           172.0
          ],
          [
           20658.185061761993,
           83.0
          ],
          [
           49370.51581484815,
           137.0
          ],
          [
           35656.39697159833,
           134.0
          ],
          [
           38424.3553957142,
           151.0
          ],
          [
           111565.45609818319,
           247.0
          ],
          [
           122817.59441221227,
           398.0
          ],
          [
           93252.53032125116,
           447.0
          ],
          [
           102649.93969422167,
           351.0
          ],
          [
           59265.66469635057,
           192.0
          ],
          [
           39265.30959249568,
           126.0
          ],
          [
           28526.143523589566,
           106.0
          ],
          [
           9561.36718398478,
           53.0
          ],
          [
           969.0806851933424,
           33.0
          ],
          [
           843.074138705862,
           13.0
          ]
         ],
         "hovertemplate": "source=survey (2017/2019)<br>dpurp_label=Escort<br>dept_hr=%{x}<br>percentage=%{y}<br>trexpfac=%{customdata[0]}<br>sample_count=%{customdata[1]}<extra></extra>",
         "legendgroup": "survey (2017/2019)",
         "marker": {
          "color": "#00A7A0",
          "pattern": {
           "shape": ""
          }
         },
         "name": "survey (2017/2019)",
         "offsetgroup": "survey (2017/2019)",
         "orientation": "v",
         "showlegend": false,
         "textposition": "auto",
         "type": "bar",
         "x": [
          0,
          1,
          2,
          3,
          4,
          5,
          6,
          7,
          8,
          9,
          10,
          11,
          12,
          13,
          14,
          15,
          16,
          17,
          18,
          19,
          20,
          21,
          22,
          23
         ],
         "xaxis": "x2",
         "y": [
          0.0,
          0.0,
          0.0,
          3.849026085155266e-05,
          0.0015887458198507339,
          0.01638147667969423,
          0.051054731725593314,
          0.11235375862644753,
          0.1534260642600588,
          0.03277556753264293,
          0.01832684865560159,
          0.043798909182128,
          0.03163246862920674,
          0.03408805487611599,
          0.09897496914620889,
          0.10895727084970222,
          0.08272871042833523,
          0.09106559475860236,
          0.0525773616663983,
          0.0348341049402736,
          0.025306885068644307,
          0.008482339024344997,
          0.0008597171048428133,
          0.0007479307644558464
         ],
         "yaxis": "y2"
        },
        {
         "alignmentgroup": "True",
         "customdata": [
          [
           0.0,
           0.0
          ],
          [
           0.0,
           0.0
          ],
          [
           0.0,
           0.0
          ],
          [
           1137.7956546825676,
           7.0
          ],
          [
           813.0149796079874,
           9.0
          ],
          [
           8938.937590118545,
           30.0
          ],
          [
           27863.712614929656,
           114.0
          ],
          [
           61741.217794226875,
           258.0
          ],
          [
           93492.30428550643,
           413.0
          ],
          [
           150539.36337666478,
           496.0
          ],
          [
           166693.8426317474,
           518.0
          ],
          [
           143346.31332363558,
           468.0
          ],
          [
           137807.8451032574,
           530.0
          ],
          [
           96333.08016947872,
           503.0
          ],
          [
           155935.4990797051,
           515.0
          ],
          [
           130304.9326487006,
           511.0
          ],
          [
           142836.56975142227,
           588.0
          ],
          [
           137308.13237152714,
           492.0
          ],
          [
           87073.08351106454,
           381.0
          ],
          [
           52328.51462292798,
           225.0
          ],
          [
           29190.425788894147,
           119.0
          ],
          [
           8119.004695210372,
           46.0
          ],
          [
           3490.573840894347,
           23.0
          ],
          [
           113.92038390728736,
           5.0
          ]
         ],
         "hovertemplate": "source=survey (2017/2019)<br>dpurp_label=Personal Business<br>dept_hr=%{x}<br>percentage=%{y}<br>trexpfac=%{customdata[0]}<br>sample_count=%{customdata[1]}<extra></extra>",
         "legendgroup": "survey (2017/2019)",
         "marker": {
          "color": "#00A7A0",
          "pattern": {
           "shape": ""
          }
         },
         "name": "survey (2017/2019)",
         "offsetgroup": "survey (2017/2019)",
         "orientation": "v",
         "showlegend": false,
         "textposition": "auto",
         "type": "bar",
         "x": [
          0,
          1,
          2,
          3,
          4,
          5,
          6,
          7,
          8,
          9,
          10,
          11,
          12,
          13,
          14,
          15,
          16,
          17,
          18,
          19,
          20,
          21,
          22,
          23
         ],
         "xaxis": "x",
         "y": [
          0.0,
          0.0,
          0.0,
          0.0006957258348313405,
          0.0004971327875003691,
          0.005465875873049912,
          0.017037773558671948,
          0.03775278989387252,
          0.05716756887025246,
          0.09205003009914667,
          0.101927980080546,
          0.0876517088957461,
          0.08426511182934715,
          0.05890461292145053,
          0.0953495953606332,
          0.07967731962814623,
          0.08734001692287865,
          0.08395955339622423,
          0.05324241964518249,
          0.03199722144454624,
          0.017849016444632607,
          0.004964513000491909,
          0.002134374823372109,
          6.965868947734401e-05
         ],
         "yaxis": "y"
        }
       ],
       "layout": {
        "annotations": [
         {
          "font": {},
          "showarrow": false,
          "text": "Personal Business",
          "textangle": 90,
          "x": 0.98,
          "xanchor": "left",
          "xref": "paper",
          "y": 0.07083333333333333,
          "yanchor": "middle",
          "yref": "paper"
         },
         {
          "font": {},
          "showarrow": false,
          "text": "Escort",
          "textangle": 90,
          "x": 0.98,
          "xanchor": "left",
          "xref": "paper",
          "y": 0.2425,
          "yanchor": "middle",
          "yref": "paper"
         },
         {
          "font": {},
          "showarrow": false,
          "text": "Meal",
          "textangle": 90,
          "x": 0.98,
          "xanchor": "left",
          "xref": "paper",
          "y": 0.4141666666666667,
          "yanchor": "middle",
          "yref": "paper"
         },
         {
          "font": {},
          "showarrow": false,
          "text": "Shop",
          "textangle": 90,
          "x": 0.98,
          "xanchor": "left",
          "xref": "paper",
          "y": 0.5858333333333334,
          "yanchor": "middle",
          "yref": "paper"
         },
         {
          "font": {},
          "showarrow": false,
          "text": "School",
          "textangle": 90,
          "x": 0.98,
          "xanchor": "left",
          "xref": "paper",
          "y": 0.7575000000000001,
          "yanchor": "middle",
          "yref": "paper"
         },
         {
          "font": {},
          "showarrow": false,
          "text": "Work",
          "textangle": 90,
          "x": 0.98,
          "xanchor": "left",
          "xref": "paper",
          "y": 0.9291666666666667,
          "yanchor": "middle",
          "yref": "paper"
         }
        ],
        "barmode": "group",
        "height": 1500,
        "legend": {
         "title": {
          "text": "source"
         },
         "tracegroupgap": 0
        },
        "template": {
         "data": {
          "bar": [
           {
            "error_x": {
             "color": "rgb(36,36,36)"
            },
            "error_y": {
             "color": "rgb(36,36,36)"
            },
            "marker": {
             "line": {
              "color": "white",
              "width": 0.5
             },
             "pattern": {
              "fillmode": "overlay",
              "size": 10,
              "solidity": 0.2
             }
            },
            "type": "bar"
           }
          ],
          "barpolar": [
           {
            "marker": {
             "line": {
              "color": "white",
              "width": 0.5
             },
             "pattern": {
              "fillmode": "overlay",
              "size": 10,
              "solidity": 0.2
             }
            },
            "type": "barpolar"
           }
          ],
          "carpet": [
           {
            "aaxis": {
             "endlinecolor": "rgb(36,36,36)",
             "gridcolor": "white",
             "linecolor": "white",
             "minorgridcolor": "white",
             "startlinecolor": "rgb(36,36,36)"
            },
            "baxis": {
             "endlinecolor": "rgb(36,36,36)",
             "gridcolor": "white",
             "linecolor": "white",
             "minorgridcolor": "white",
             "startlinecolor": "rgb(36,36,36)"
            },
            "type": "carpet"
           }
          ],
          "choropleth": [
           {
            "colorbar": {
             "outlinewidth": 1,
             "tickcolor": "rgb(36,36,36)",
             "ticks": "outside"
            },
            "type": "choropleth"
           }
          ],
          "contour": [
           {
            "colorbar": {
             "outlinewidth": 1,
             "tickcolor": "rgb(36,36,36)",
             "ticks": "outside"
            },
            "colorscale": [
             [
              0.0,
              "#440154"
             ],
             [
              0.1111111111111111,
              "#482878"
             ],
             [
              0.2222222222222222,
              "#3e4989"
             ],
             [
              0.3333333333333333,
              "#31688e"
             ],
             [
              0.4444444444444444,
              "#26828e"
             ],
             [
              0.5555555555555556,
              "#1f9e89"
             ],
             [
              0.6666666666666666,
              "#35b779"
             ],
             [
              0.7777777777777778,
              "#6ece58"
             ],
             [
              0.8888888888888888,
              "#b5de2b"
             ],
             [
              1.0,
              "#fde725"
             ]
            ],
            "type": "contour"
           }
          ],
          "contourcarpet": [
           {
            "colorbar": {
             "outlinewidth": 1,
             "tickcolor": "rgb(36,36,36)",
             "ticks": "outside"
            },
            "type": "contourcarpet"
           }
          ],
          "heatmap": [
           {
            "colorbar": {
             "outlinewidth": 1,
             "tickcolor": "rgb(36,36,36)",
             "ticks": "outside"
            },
            "colorscale": [
             [
              0.0,
              "#440154"
             ],
             [
              0.1111111111111111,
              "#482878"
             ],
             [
              0.2222222222222222,
              "#3e4989"
             ],
             [
              0.3333333333333333,
              "#31688e"
             ],
             [
              0.4444444444444444,
              "#26828e"
             ],
             [
              0.5555555555555556,
              "#1f9e89"
             ],
             [
              0.6666666666666666,
              "#35b779"
             ],
             [
              0.7777777777777778,
              "#6ece58"
             ],
             [
              0.8888888888888888,
              "#b5de2b"
             ],
             [
              1.0,
              "#fde725"
             ]
            ],
            "type": "heatmap"
           }
          ],
          "heatmapgl": [
           {
            "colorbar": {
             "outlinewidth": 1,
             "tickcolor": "rgb(36,36,36)",
             "ticks": "outside"
            },
            "colorscale": [
             [
              0.0,
              "#440154"
             ],
             [
              0.1111111111111111,
              "#482878"
             ],
             [
              0.2222222222222222,
              "#3e4989"
             ],
             [
              0.3333333333333333,
              "#31688e"
             ],
             [
              0.4444444444444444,
              "#26828e"
             ],
             [
              0.5555555555555556,
              "#1f9e89"
             ],
             [
              0.6666666666666666,
              "#35b779"
             ],
             [
              0.7777777777777778,
              "#6ece58"
             ],
             [
              0.8888888888888888,
              "#b5de2b"
             ],
             [
              1.0,
              "#fde725"
             ]
            ],
            "type": "heatmapgl"
           }
          ],
          "histogram": [
           {
            "marker": {
             "line": {
              "color": "white",
              "width": 0.6
             }
            },
            "type": "histogram"
           }
          ],
          "histogram2d": [
           {
            "colorbar": {
             "outlinewidth": 1,
             "tickcolor": "rgb(36,36,36)",
             "ticks": "outside"
            },
            "colorscale": [
             [
              0.0,
              "#440154"
             ],
             [
              0.1111111111111111,
              "#482878"
             ],
             [
              0.2222222222222222,
              "#3e4989"
             ],
             [
              0.3333333333333333,
              "#31688e"
             ],
             [
              0.4444444444444444,
              "#26828e"
             ],
             [
              0.5555555555555556,
              "#1f9e89"
             ],
             [
              0.6666666666666666,
              "#35b779"
             ],
             [
              0.7777777777777778,
              "#6ece58"
             ],
             [
              0.8888888888888888,
              "#b5de2b"
             ],
             [
              1.0,
              "#fde725"
             ]
            ],
            "type": "histogram2d"
           }
          ],
          "histogram2dcontour": [
           {
            "colorbar": {
             "outlinewidth": 1,
             "tickcolor": "rgb(36,36,36)",
             "ticks": "outside"
            },
            "colorscale": [
             [
              0.0,
              "#440154"
             ],
             [
              0.1111111111111111,
              "#482878"
             ],
             [
              0.2222222222222222,
              "#3e4989"
             ],
             [
              0.3333333333333333,
              "#31688e"
             ],
             [
              0.4444444444444444,
              "#26828e"
             ],
             [
              0.5555555555555556,
              "#1f9e89"
             ],
             [
              0.6666666666666666,
              "#35b779"
             ],
             [
              0.7777777777777778,
              "#6ece58"
             ],
             [
              0.8888888888888888,
              "#b5de2b"
             ],
             [
              1.0,
              "#fde725"
             ]
            ],
            "type": "histogram2dcontour"
           }
          ],
          "mesh3d": [
           {
            "colorbar": {
             "outlinewidth": 1,
             "tickcolor": "rgb(36,36,36)",
             "ticks": "outside"
            },
            "type": "mesh3d"
           }
          ],
          "parcoords": [
           {
            "line": {
             "colorbar": {
              "outlinewidth": 1,
              "tickcolor": "rgb(36,36,36)",
              "ticks": "outside"
             }
            },
            "type": "parcoords"
           }
          ],
          "pie": [
           {
            "automargin": true,
            "type": "pie"
           }
          ],
          "scatter": [
           {
            "fillpattern": {
             "fillmode": "overlay",
             "size": 10,
             "solidity": 0.2
            },
            "type": "scatter"
           }
          ],
          "scatter3d": [
           {
            "line": {
             "colorbar": {
              "outlinewidth": 1,
              "tickcolor": "rgb(36,36,36)",
              "ticks": "outside"
             }
            },
            "marker": {
             "colorbar": {
              "outlinewidth": 1,
              "tickcolor": "rgb(36,36,36)",
              "ticks": "outside"
             }
            },
            "type": "scatter3d"
           }
          ],
          "scattercarpet": [
           {
            "marker": {
             "colorbar": {
              "outlinewidth": 1,
              "tickcolor": "rgb(36,36,36)",
              "ticks": "outside"
             }
            },
            "type": "scattercarpet"
           }
          ],
          "scattergeo": [
           {
            "marker": {
             "colorbar": {
              "outlinewidth": 1,
              "tickcolor": "rgb(36,36,36)",
              "ticks": "outside"
             }
            },
            "type": "scattergeo"
           }
          ],
          "scattergl": [
           {
            "marker": {
             "colorbar": {
              "outlinewidth": 1,
              "tickcolor": "rgb(36,36,36)",
              "ticks": "outside"
             }
            },
            "type": "scattergl"
           }
          ],
          "scattermapbox": [
           {
            "marker": {
             "colorbar": {
              "outlinewidth": 1,
              "tickcolor": "rgb(36,36,36)",
              "ticks": "outside"
             }
            },
            "type": "scattermapbox"
           }
          ],
          "scatterpolar": [
           {
            "marker": {
             "colorbar": {
              "outlinewidth": 1,
              "tickcolor": "rgb(36,36,36)",
              "ticks": "outside"
             }
            },
            "type": "scatterpolar"
           }
          ],
          "scatterpolargl": [
           {
            "marker": {
             "colorbar": {
              "outlinewidth": 1,
              "tickcolor": "rgb(36,36,36)",
              "ticks": "outside"
             }
            },
            "type": "scatterpolargl"
           }
          ],
          "scatterternary": [
           {
            "marker": {
             "colorbar": {
              "outlinewidth": 1,
              "tickcolor": "rgb(36,36,36)",
              "ticks": "outside"
             }
            },
            "type": "scatterternary"
           }
          ],
          "surface": [
           {
            "colorbar": {
             "outlinewidth": 1,
             "tickcolor": "rgb(36,36,36)",
             "ticks": "outside"
            },
            "colorscale": [
             [
              0.0,
              "#440154"
             ],
             [
              0.1111111111111111,
              "#482878"
             ],
             [
              0.2222222222222222,
              "#3e4989"
             ],
             [
              0.3333333333333333,
              "#31688e"
             ],
             [
              0.4444444444444444,
              "#26828e"
             ],
             [
              0.5555555555555556,
              "#1f9e89"
             ],
             [
              0.6666666666666666,
              "#35b779"
             ],
             [
              0.7777777777777778,
              "#6ece58"
             ],
             [
              0.8888888888888888,
              "#b5de2b"
             ],
             [
              1.0,
              "#fde725"
             ]
            ],
            "type": "surface"
           }
          ],
          "table": [
           {
            "cells": {
             "fill": {
              "color": "rgb(237,237,237)"
             },
             "line": {
              "color": "white"
             }
            },
            "header": {
             "fill": {
              "color": "rgb(217,217,217)"
             },
             "line": {
              "color": "white"
             }
            },
            "type": "table"
           }
          ]
         },
         "layout": {
          "annotationdefaults": {
           "arrowhead": 0,
           "arrowwidth": 1
          },
          "autotypenumbers": "strict",
          "coloraxis": {
           "colorbar": {
            "outlinewidth": 1,
            "tickcolor": "rgb(36,36,36)",
            "ticks": "outside"
           }
          },
          "colorscale": {
           "diverging": [
            [
             0.0,
             "rgb(103,0,31)"
            ],
            [
             0.1,
             "rgb(178,24,43)"
            ],
            [
             0.2,
             "rgb(214,96,77)"
            ],
            [
             0.3,
             "rgb(244,165,130)"
            ],
            [
             0.4,
             "rgb(253,219,199)"
            ],
            [
             0.5,
             "rgb(247,247,247)"
            ],
            [
             0.6,
             "rgb(209,229,240)"
            ],
            [
             0.7,
             "rgb(146,197,222)"
            ],
            [
             0.8,
             "rgb(67,147,195)"
            ],
            [
             0.9,
             "rgb(33,102,172)"
            ],
            [
             1.0,
             "rgb(5,48,97)"
            ]
           ],
           "sequential": [
            [
             0.0,
             "#440154"
            ],
            [
             0.1111111111111111,
             "#482878"
            ],
            [
             0.2222222222222222,
             "#3e4989"
            ],
            [
             0.3333333333333333,
             "#31688e"
            ],
            [
             0.4444444444444444,
             "#26828e"
            ],
            [
             0.5555555555555556,
             "#1f9e89"
            ],
            [
             0.6666666666666666,
             "#35b779"
            ],
            [
             0.7777777777777778,
             "#6ece58"
            ],
            [
             0.8888888888888888,
             "#b5de2b"
            ],
            [
             1.0,
             "#fde725"
            ]
           ],
           "sequentialminus": [
            [
             0.0,
             "#440154"
            ],
            [
             0.1111111111111111,
             "#482878"
            ],
            [
             0.2222222222222222,
             "#3e4989"
            ],
            [
             0.3333333333333333,
             "#31688e"
            ],
            [
             0.4444444444444444,
             "#26828e"
            ],
            [
             0.5555555555555556,
             "#1f9e89"
            ],
            [
             0.6666666666666666,
             "#35b779"
            ],
            [
             0.7777777777777778,
             "#6ece58"
            ],
            [
             0.8888888888888888,
             "#b5de2b"
            ],
            [
             1.0,
             "#fde725"
            ]
           ]
          },
          "colorway": [
           "#91268F",
           "#8CC63E",
           "#00A7A0",
           "#F05A28",
           "#4C4C4C",
           "#630460",
           "#9f3913",
           "#588527",
           "#00716c",
           "#3e4040"
          ],
          "font": {
           "color": "rgb(36,36,36)",
           "family": "Poppins",
           "size": 11
          },
          "geo": {
           "bgcolor": "white",
           "lakecolor": "white",
           "landcolor": "white",
           "showlakes": true,
           "showland": true,
           "subunitcolor": "white"
          },
          "hoverlabel": {
           "align": "left"
          },
          "hovermode": "closest",
          "mapbox": {
           "style": "light"
          },
          "paper_bgcolor": "white",
          "plot_bgcolor": "white",
          "polar": {
           "angularaxis": {
            "gridcolor": "rgb(232,232,232)",
            "linecolor": "rgb(36,36,36)",
            "showgrid": false,
            "showline": true,
            "ticks": "outside"
           },
           "bgcolor": "white",
           "radialaxis": {
            "gridcolor": "rgb(232,232,232)",
            "linecolor": "rgb(36,36,36)",
            "showgrid": false,
            "showline": true,
            "ticks": "outside"
           }
          },
          "scene": {
           "xaxis": {
            "backgroundcolor": "white",
            "gridcolor": "rgb(232,232,232)",
            "gridwidth": 2,
            "linecolor": "rgb(36,36,36)",
            "showbackground": true,
            "showgrid": false,
            "showline": true,
            "ticks": "outside",
            "zeroline": false,
            "zerolinecolor": "rgb(36,36,36)"
           },
           "yaxis": {
            "backgroundcolor": "white",
            "gridcolor": "rgb(232,232,232)",
            "gridwidth": 2,
            "linecolor": "rgb(36,36,36)",
            "showbackground": true,
            "showgrid": false,
            "showline": true,
            "ticks": "outside",
            "zeroline": false,
            "zerolinecolor": "rgb(36,36,36)"
           },
           "zaxis": {
            "backgroundcolor": "white",
            "gridcolor": "rgb(232,232,232)",
            "gridwidth": 2,
            "linecolor": "rgb(36,36,36)",
            "showbackground": true,
            "showgrid": false,
            "showline": true,
            "ticks": "outside",
            "zeroline": false,
            "zerolinecolor": "rgb(36,36,36)"
           }
          },
          "shapedefaults": {
           "fillcolor": "black",
           "line": {
            "width": 0
           },
           "opacity": 0.3
          },
          "ternary": {
           "aaxis": {
            "gridcolor": "rgb(232,232,232)",
            "linecolor": "rgb(36,36,36)",
            "showgrid": false,
            "showline": true,
            "ticks": "outside"
           },
           "baxis": {
            "gridcolor": "rgb(232,232,232)",
            "linecolor": "rgb(36,36,36)",
            "showgrid": false,
            "showline": true,
            "ticks": "outside"
           },
           "bgcolor": "white",
           "caxis": {
            "gridcolor": "rgb(232,232,232)",
            "linecolor": "rgb(36,36,36)",
            "showgrid": false,
            "showline": true,
            "ticks": "outside"
           }
          },
          "title": {
           "x": 0.05
          },
          "xaxis": {
           "automargin": true,
           "gridcolor": "rgb(232,232,232)",
           "linecolor": "rgb(36,36,36)",
           "showgrid": false,
           "showline": true,
           "ticks": "outside",
           "title": {
            "standoff": 15
           },
           "zeroline": false,
           "zerolinecolor": "rgb(36,36,36)"
          },
          "yaxis": {
           "automargin": true,
           "gridcolor": "rgb(232,232,232)",
           "linecolor": "rgb(36,36,36)",
           "showgrid": false,
           "showline": true,
           "ticks": "outside",
           "title": {
            "standoff": 15
           },
           "zeroline": false,
           "zerolinecolor": "rgb(36,36,36)"
          }
         }
        },
        "title": {
         "text": "trip origin departure hour by purpose"
        },
        "width": 850,
        "xaxis": {
         "anchor": "y",
         "categoryorder": "category ascending",
         "domain": [
          0.0,
          0.98
         ],
         "dtick": 1,
         "title": {
          "text": "dept_hr"
         }
        },
        "xaxis2": {
         "anchor": "y2",
         "categoryorder": "category ascending",
         "domain": [
          0.0,
          0.98
         ],
         "dtick": 1,
         "matches": "x",
         "showticklabels": false
        },
        "xaxis3": {
         "anchor": "y3",
         "categoryorder": "category ascending",
         "domain": [
          0.0,
          0.98
         ],
         "dtick": 1,
         "matches": "x",
         "showticklabels": false
        },
        "xaxis4": {
         "anchor": "y4",
         "categoryorder": "category ascending",
         "domain": [
          0.0,
          0.98
         ],
         "dtick": 1,
         "matches": "x",
         "showticklabels": false
        },
        "xaxis5": {
         "anchor": "y5",
         "categoryorder": "category ascending",
         "domain": [
          0.0,
          0.98
         ],
         "dtick": 1,
         "matches": "x",
         "showticklabels": false
        },
        "xaxis6": {
         "anchor": "y6",
         "categoryorder": "category ascending",
         "domain": [
          0.0,
          0.98
         ],
         "dtick": 1,
         "matches": "x",
         "showticklabels": false
        },
        "yaxis": {
         "anchor": "x",
         "domain": [
          0.0,
          0.14166666666666666
         ],
         "tickformat": ".0%",
         "title": {
          "text": "percentage"
         }
        },
        "yaxis2": {
         "anchor": "x2",
         "domain": [
          0.17166666666666666,
          0.31333333333333335
         ],
         "matches": "y",
         "tickformat": ".0%",
         "title": {
          "text": "percentage"
         }
        },
        "yaxis3": {
         "anchor": "x3",
         "domain": [
          0.3433333333333333,
          0.485
         ],
         "matches": "y",
         "tickformat": ".0%",
         "title": {
          "text": "percentage"
         }
        },
        "yaxis4": {
         "anchor": "x4",
         "domain": [
          0.515,
          0.6566666666666667
         ],
         "matches": "y",
         "tickformat": ".0%",
         "title": {
          "text": "percentage"
         }
        },
        "yaxis5": {
         "anchor": "x5",
         "domain": [
          0.6866666666666666,
          0.8283333333333334
         ],
         "matches": "y",
         "tickformat": ".0%",
         "title": {
          "text": "percentage"
         }
        },
        "yaxis6": {
         "anchor": "x6",
         "domain": [
          0.8583333333333333,
          1.0
         ],
         "matches": "y",
         "tickformat": ".0%",
         "title": {
          "text": "percentage"
         }
        }
       }
      },
      "text/html": [
       "<div>                            <div id=\"a7270c94-b0cb-47a1-b47f-63c48e9cefc8\" class=\"plotly-graph-div\" style=\"height:1500px; width:850px;\"></div>            <script type=\"text/javascript\">                require([\"plotly\"], function(Plotly) {                    window.PLOTLYENV=window.PLOTLYENV || {};                                    if (document.getElementById(\"a7270c94-b0cb-47a1-b47f-63c48e9cefc8\")) {                    Plotly.newPlot(                        \"a7270c94-b0cb-47a1-b47f-63c48e9cefc8\",                        [{\"alignmentgroup\":\"True\",\"customdata\":[[3325.0,3325.0],[2287.0,2287.0],[785.0,785.0],[20058.0,20058.0],[28017.0,28017.0],[80655.0,80655.0],[223275.0,223275.0],[324685.0,324685.0],[294856.0,294856.0],[174182.0,174182.0],[119415.0,119415.0],[118101.0,118101.0],[113905.0,113905.0],[94044.0,94044.0],[83771.0,83771.0],[76585.0,76585.0],[79496.0,79496.0],[66988.0,66988.0],[49966.0,49966.0],[27873.0,27873.0],[21315.0,21315.0],[15806.0,15806.0],[9007.0,9007.0],[7140.0,7140.0]],\"hovertemplate\":\"source=model\\u003cbr\\u003edpurp_label=Work\\u003cbr\\u003edept_hr=%{x}\\u003cbr\\u003epercentage=%{y}\\u003cbr\\u003etrexpfac=%{customdata[0]}\\u003cbr\\u003esample_count=%{customdata[1]}\\u003cextra\\u003e\\u003c\\u002fextra\\u003e\",\"legendgroup\":\"model\",\"marker\":{\"color\":\"#91268F\",\"pattern\":{\"shape\":\"\"}},\"name\":\"model\",\"offsetgroup\":\"model\",\"orientation\":\"v\",\"showlegend\":true,\"textposition\":\"auto\",\"x\":[0,1,2,3,4,5,6,7,8,9,10,11,12,13,14,15,16,17,18,19,20,21,22,23],\"xaxis\":\"x6\",\"y\":[0.0016334755889969084,0.0011235364427175727,0.00038564762025942046,0.009853910786195486,0.01376393551185756,0.03962345071595358,0.10968849988970969,0.15950827717698082,0.14485415887797667,0.08557053986245398,0.05866510901054611,0.058019579108608686,0.05595820660592266,0.046201076177932406,0.04115425069649925,0.03762397834085059,0.03905406779636037,0.032909251956608994,0.02454683948265249,0.013693192508905513,0.010471438249464391,0.007765027115694777,0.004424876580479745,0.0035076738963723086],\"yaxis\":\"y6\",\"type\":\"bar\"},{\"alignmentgroup\":\"True\",\"customdata\":[[7.0,7.0],[2.0,2.0],[2.0,2.0],[508.0,508.0],[597.0,597.0],[5009.0,5009.0],[46122.0,46122.0],[143396.0,143396.0],[164867.0,164867.0],[83776.0,83776.0],[39227.0,39227.0],[26224.0,26224.0],[17567.0,17567.0],[12342.0,12342.0],[9532.0,9532.0],[9702.0,9702.0],[6320.0,6320.0],[5275.0,5275.0],[3204.0,3204.0],[1041.0,1041.0],[719.0,719.0],[369.0,369.0],[71.0,71.0],[29.0,29.0]],\"hovertemplate\":\"source=model\\u003cbr\\u003edpurp_label=School\\u003cbr\\u003edept_hr=%{x}\\u003cbr\\u003epercentage=%{y}\\u003cbr\\u003etrexpfac=%{customdata[0]}\\u003cbr\\u003esample_count=%{customdata[1]}\\u003cextra\\u003e\\u003c\\u002fextra\\u003e\",\"legendgroup\":\"model\",\"marker\":{\"color\":\"#91268F\",\"pattern\":{\"shape\":\"\"}},\"name\":\"model\",\"offsetgroup\":\"model\",\"orientation\":\"v\",\"showlegend\":false,\"textposition\":\"auto\",\"x\":[0,1,2,3,4,5,6,7,8,9,10,11,12,13,14,15,16,17,18,19,20,21,22,23],\"xaxis\":\"x5\",\"y\":[1.2154719156531945e-05,3.4727769018662703e-06,3.4727769018662703e-06,0.0008820853330740327,0.0010366239052070818,0.008697569750724074,0.08008570813393806,0.24899115831000784,0.2862731547399932,0.14546767886537432,0.06811330976475409,0.04553505073727054,0.030503135917542386,0.021430506261416755,0.016551254714294646,0.016846440750953276,0.010973975009897415,0.009159449078672287,0.005563388596789765,0.0018075803774213937,0.001248463296220924,0.0006407273383943269,0.0001232835800162526,5.035526507706092e-05],\"yaxis\":\"y5\",\"type\":\"bar\"},{\"alignmentgroup\":\"True\",\"customdata\":[[1076.0,1076.0],[780.0,780.0],[316.0,316.0],[7841.0,7841.0],[7829.0,7829.0],[11965.0,11965.0],[32050.0,32050.0],[67841.0,67841.0],[110766.0,110766.0],[153534.0,153534.0],[180336.0,180336.0],[168744.0,168744.0],[158353.0,158353.0],[175497.0,175497.0],[157961.0,157961.0],[177525.0,177525.0],[189560.0,189560.0],[159745.0,159745.0],[125196.0,125196.0],[86459.0,86459.0],[58300.0,58300.0],[20856.0,20856.0],[9273.0,9273.0],[5749.0,5749.0]],\"hovertemplate\":\"source=model\\u003cbr\\u003edpurp_label=Shop\\u003cbr\\u003edept_hr=%{x}\\u003cbr\\u003epercentage=%{y}\\u003cbr\\u003etrexpfac=%{customdata[0]}\\u003cbr\\u003esample_count=%{customdata[1]}\\u003cextra\\u003e\\u003c\\u002fextra\\u003e\",\"legendgroup\":\"model\",\"marker\":{\"color\":\"#91268F\",\"pattern\":{\"shape\":\"\"}},\"name\":\"model\",\"offsetgroup\":\"model\",\"orientation\":\"v\",\"showlegend\":false,\"textposition\":\"auto\",\"x\":[0,1,2,3,4,5,6,7,8,9,10,11,12,13,14,15,16,17,18,19,20,21,22,23],\"xaxis\":\"x4\",\"y\":[0.0005204222191267741,0.00037725774248966896,0.00015283775208555818,0.003792407639566018,0.0037866036742969463,0.005787037037037037,0.015501423906146013,0.032812233984925165,0.05357350141616753,0.07425883363513952,0.08722199006361146,0.08161535961368807,0.0765896093544443,0.08488154106885824,0.0764000131556546,0.08586241119933138,0.091683304700438,0.07726286932565662,0.060552769652226404,0.04181708609989011,0.02819759793224064,0.01008729163764684,0.004485014161675256,0.0027805830276578293],\"yaxis\":\"y4\",\"type\":\"bar\"},{\"alignmentgroup\":\"True\",\"customdata\":[[885.0,885.0],[661.0,661.0],[232.0,232.0],[4175.0,4175.0],[4660.0,4660.0],[8763.0,8763.0],[23297.0,23297.0],[36137.0,36137.0],[51721.0,51721.0],[63199.0,63199.0],[81360.0,81360.0],[86786.0,86786.0],[84150.0,84150.0],[87678.0,87678.0],[77261.0,77261.0],[72547.0,72547.0],[82298.0,82298.0],[80227.0,80227.0],[66686.0,66686.0],[45001.0,45001.0],[33006.0,33006.0],[19167.0,19167.0],[7767.0,7767.0],[4006.0,4006.0]],\"hovertemplate\":\"source=model\\u003cbr\\u003edpurp_label=Meal\\u003cbr\\u003edept_hr=%{x}\\u003cbr\\u003epercentage=%{y}\\u003cbr\\u003etrexpfac=%{customdata[0]}\\u003cbr\\u003esample_count=%{customdata[1]}\\u003cextra\\u003e\\u003c\\u002fextra\\u003e\",\"legendgroup\":\"model\",\"marker\":{\"color\":\"#91268F\",\"pattern\":{\"shape\":\"\"}},\"name\":\"model\",\"offsetgroup\":\"model\",\"orientation\":\"v\",\"showlegend\":false,\"textposition\":\"auto\",\"x\":[0,1,2,3,4,5,6,7,8,9,10,11,12,13,14,15,16,17,18,19,20,21,22,23],\"xaxis\":\"x3\",\"y\":[0.0008662288214394081,0.000646979944600507,0.00022707919386886176,0.004086446700010767,0.0045611596699521376,0.008577133516693257,0.022802861980874452,0.035370520813961456,0.050623978388325,0.06185852574706118,0.07963432419470083,0.08494523672027171,0.08236514725889965,0.08581831706911233,0.07562226550647469,0.07100825119657032,0.08055242886646373,0.07852535554533265,0.06527156518249533,0.04404651208315797,0.032305930486360566,0.018760460814157214,0.007602259046463143,0.003921031252752846],\"yaxis\":\"y3\",\"type\":\"bar\"},{\"alignmentgroup\":\"True\",\"customdata\":[[2149.0,2149.0],[1472.0,1472.0],[554.0,554.0],[25025.0,25025.0],[23698.0,23698.0],[42205.0,42205.0],[115700.0,115700.0],[140157.0,140157.0],[124711.0,124711.0],[109907.0,109907.0],[104312.0,104312.0],[86270.0,86270.0],[81687.0,81687.0],[90699.0,90699.0],[91479.0,91479.0],[121602.0,121602.0],[139660.0,139660.0],[124847.0,124847.0],[86075.0,86075.0],[52199.0,52199.0],[38098.0,38098.0],[20358.0,20358.0],[11084.0,11084.0],[8700.0,8700.0]],\"hovertemplate\":\"source=model\\u003cbr\\u003edpurp_label=Escort\\u003cbr\\u003edept_hr=%{x}\\u003cbr\\u003epercentage=%{y}\\u003cbr\\u003etrexpfac=%{customdata[0]}\\u003cbr\\u003esample_count=%{customdata[1]}\\u003cextra\\u003e\\u003c\\u002fextra\\u003e\",\"legendgroup\":\"model\",\"marker\":{\"color\":\"#91268F\",\"pattern\":{\"shape\":\"\"}},\"name\":\"model\",\"offsetgroup\":\"model\",\"orientation\":\"v\",\"showlegend\":false,\"textposition\":\"auto\",\"x\":[0,1,2,3,4,5,6,7,8,9,10,11,12,13,14,15,16,17,18,19,20,21,22,23],\"xaxis\":\"x2\",\"y\":[0.0013082535028807146,0.0008961140792184326,0.00033726032601019815,0.015234548119864999,0.014426706147634794,0.025693270865091,0.07043505364509012,0.08532381861482193,0.07592070851454481,0.06690843077762247,0.06350234499418013,0.0525188597922379,0.049728852438258225,0.05521511608086455,0.05568995913914606,0.07402803278608686,0.08502125835845538,0.07600350166316824,0.05240014902766752,0.03177734974261071,0.023193039531293376,0.012393403821147318,0.006747641612810535,0.005296326419293726],\"yaxis\":\"y2\",\"type\":\"bar\"},{\"alignmentgroup\":\"True\",\"customdata\":[[500.0,500.0],[343.0,343.0],[132.0,132.0],[4894.0,4894.0],[4438.0,4438.0],[8218.0,8218.0],[23454.0,23454.0],[41359.0,41359.0],[65423.0,65423.0],[80261.0,80261.0],[83772.0,83772.0],[71109.0,71109.0],[66429.0,66429.0],[70878.0,70878.0],[61487.0,61487.0],[63497.0,63497.0],[68971.0,68971.0],[55879.0,55879.0],[43408.0,43408.0],[25391.0,25391.0],[18063.0,18063.0],[9851.0,9851.0],[3668.0,3668.0],[2297.0,2297.0]],\"hovertemplate\":\"source=model\\u003cbr\\u003edpurp_label=Personal Business\\u003cbr\\u003edept_hr=%{x}\\u003cbr\\u003epercentage=%{y}\\u003cbr\\u003etrexpfac=%{customdata[0]}\\u003cbr\\u003esample_count=%{customdata[1]}\\u003cextra\\u003e\\u003c\\u002fextra\\u003e\",\"legendgroup\":\"model\",\"marker\":{\"color\":\"#91268F\",\"pattern\":{\"shape\":\"\"}},\"name\":\"model\",\"offsetgroup\":\"model\",\"orientation\":\"v\",\"showlegend\":false,\"textposition\":\"auto\",\"x\":[0,1,2,3,4,5,6,7,8,9,10,11,12,13,14,15,16,17,18,19,20,21,22,23],\"xaxis\":\"x\",\"y\":[0.0005722644044673248,0.00039257338146458487,0.00015107780277937377,0.005601323990926175,0.0050794188540519754,0.00940573775182495,0.026843778684753274,0.047336567008728174,0.07487850826693158,0.09186102673390392,0.09587946738207348,0.081386299074534,0.07602990424871985,0.0811219129196701,0.07037364287496481,0.07267414578092345,0.07893929648103172,0.0639551253144593,0.049681706538235275,0.02906073098765969,0.020673623875786577,0.011274753296815234,0.004198131671172295,0.0026289826741228905],\"yaxis\":\"y\",\"type\":\"bar\"},{\"alignmentgroup\":\"True\",\"customdata\":[[804.680284745979,3.0],[562.3747441545361,2.0],[0.0,0.0],[12541.120743195179,22.0],[53412.45675627711,63.0],[106403.91744037515,137.0],[210508.0172962619,375.0],[363308.59917240904,635.0],[286435.997377787,621.0],[183302.98131302337,405.0],[106180.05312067756,268.0],[82219.09587484083,235.0],[87388.77158814191,322.0],[76203.60059923676,238.0],[96806.63584919396,196.0],[72354.08766082792,146.0],[36458.00032092915,110.0],[26134.5870278864,112.0],[9622.42790991357,59.0],[13280.302417338813,45.0],[3794.3513886581586,34.0],[646.117373288423,22.0],[10795.506686474104,16.0],[1337.3601564685962,10.0]],\"hovertemplate\":\"source=survey\\u003cbr\\u003edpurp_label=Work\\u003cbr\\u003edept_hr=%{x}\\u003cbr\\u003epercentage=%{y}\\u003cbr\\u003etrexpfac=%{customdata[0]}\\u003cbr\\u003esample_count=%{customdata[1]}\\u003cextra\\u003e\\u003c\\u002fextra\\u003e\",\"legendgroup\":\"survey\",\"marker\":{\"color\":\"#8CC63E\",\"pattern\":{\"shape\":\"\"}},\"name\":\"survey\",\"offsetgroup\":\"survey\",\"orientation\":\"v\",\"showlegend\":true,\"textposition\":\"auto\",\"x\":[0,1,2,3,4,5,6,7,8,9,10,11,12,13,14,15,16,17,18,19,20,21,22,23],\"xaxis\":\"x6\",\"y\":[0.00043720718755459984,0.0003055552433736584,0.0,0.006813971005448343,0.029020606620386438,0.05781247331489405,0.11437538603154355,0.19739657335921093,0.15562935889186366,0.09959406543126542,0.05769084104495506,0.04467212674667284,0.04748096824810864,0.04140372584130571,0.05259797934481443,0.03931216878794995,0.0198087365707114,0.014199713238867493,0.005228156727200369,0.007215590812681794,0.0020615861114986933,0.0003510551519163569,0.005865525981054932,0.0007266283067215863],\"yaxis\":\"y6\",\"type\":\"bar\"},{\"alignmentgroup\":\"True\",\"customdata\":[[0.0,0.0],[0.0,0.0],[0.0,0.0],[0.0,0.0],[86.688593033636,1.0],[454.39219826369094,4.0],[25738.818694978792,26.0],[202083.50156386622,237.0],[186704.40572451914,266.0],[56855.249368937446,63.0],[9549.543311810197,22.0],[6417.963156613865,16.0],[6418.499390814672,13.0],[16271.837201016171,19.0],[5075.98314184551,13.0],[3816.1068847656506,15.0],[4405.086266508944,9.0],[1012.1140325171593,8.0],[11446.021215011839,3.0],[117.770432262396,1.0],[0.0,0.0],[0.0,0.0],[0.0,0.0],[0.0,0.0]],\"hovertemplate\":\"source=survey\\u003cbr\\u003edpurp_label=School\\u003cbr\\u003edept_hr=%{x}\\u003cbr\\u003epercentage=%{y}\\u003cbr\\u003etrexpfac=%{customdata[0]}\\u003cbr\\u003esample_count=%{customdata[1]}\\u003cextra\\u003e\\u003c\\u002fextra\\u003e\",\"legendgroup\":\"survey\",\"marker\":{\"color\":\"#8CC63E\",\"pattern\":{\"shape\":\"\"}},\"name\":\"survey\",\"offsetgroup\":\"survey\",\"orientation\":\"v\",\"showlegend\":false,\"textposition\":\"auto\",\"x\":[0,1,2,3,4,5,6,7,8,9,10,11,12,13,14,15,16,17,18,19,20,21,22,23],\"xaxis\":\"x5\",\"y\":[0.0,0.0,0.0,0.0,0.0001615955814951283,0.0008470292219044332,0.047979546425432666,0.37670239881634565,0.34803433710187853,0.10598346058355236,0.017801234862424402,0.011963678864933434,0.01196467845524243,0.030332214452621405,0.009462103591273262,0.0071135773405850014,0.008211489561221912,0.0018866744735438188,0.021336445653556062,0.0002195350139895594,0.0,0.0,0.0,0.0],\"yaxis\":\"y5\",\"type\":\"bar\"},{\"alignmentgroup\":\"True\",\"customdata\":[[358.7736350081784,3.0],[143.521368637738,1.0],[570.896774611867,1.0],[0.0,0.0],[2395.07790418324,2.0],[1099.1269493912553,8.0],[9682.191616724744,16.0],[30867.07210367277,55.0],[52251.959717635866,96.0],[74744.52813632283,194.0],[140914.81237725343,291.0],[165531.30596257249,335.0],[158567.48853577266,324.0],[148506.46920882657,304.0],[218739.25280935795,345.0],[239020.2878086382,296.0],[200033.08064701868,332.0],[128142.27916296133,305.0],[151266.4657271988,246.0],[69608.41782593237,214.0],[33729.00173269235,85.0],[16880.520789716313,29.0],[16289.14360404536,19.0],[4775.237711364983,7.0]],\"hovertemplate\":\"source=survey\\u003cbr\\u003edpurp_label=Shop\\u003cbr\\u003edept_hr=%{x}\\u003cbr\\u003epercentage=%{y}\\u003cbr\\u003etrexpfac=%{customdata[0]}\\u003cbr\\u003esample_count=%{customdata[1]}\\u003cextra\\u003e\\u003c\\u002fextra\\u003e\",\"legendgroup\":\"survey\",\"marker\":{\"color\":\"#8CC63E\",\"pattern\":{\"shape\":\"\"}},\"name\":\"survey\",\"offsetgroup\":\"survey\",\"orientation\":\"v\",\"showlegend\":false,\"textposition\":\"auto\",\"x\":[0,1,2,3,4,5,6,7,8,9,10,11,12,13,14,15,16,17,18,19,20,21,22,23],\"xaxis\":\"x4\",\"y\":[0.00019246305458500988,7.699161340439807e-05,0.00030625588497333465,0.0,0.001284832452634548,0.0005896233987531508,0.005193983034984554,0.016558549468199315,0.028030409132710783,0.04009648088635047,0.0755933340134693,0.08879877913625489,0.0850630598894834,0.07966585585062273,0.11734202473482216,0.12822172593142206,0.10730715404574596,0.06874154637540857,0.08114644781373564,0.037341229712443066,0.01809382314681256,0.009055505413881667,0.008738262873014572,0.00256166213628793],\"yaxis\":\"y4\",\"type\":\"bar\"},{\"alignmentgroup\":\"True\",\"customdata\":[[632.62215829592,1.0],[0.0,0.0],[0.0,0.0],[0.0,0.0],[23.312448148228,1.0],[4014.9909061810304,5.0],[19388.229589911243,28.0],[17193.660954560186,49.0],[40281.55067203224,70.0],[32319.33442456047,90.0],[22494.99710279026,86.0],[79180.18027602996,200.0],[114995.59534596713,241.0],[36169.077116900284,153.0],[78095.67868397434,120.0],[85847.74714025237,121.0],[70614.77254108735,161.0],[84957.92642486228,207.0],[83071.03998130134,202.0],[60305.82273592014,119.0],[68578.57197356773,83.0],[13629.970082285341,29.0],[4952.542971132462,15.0],[1494.7720542075886,4.0]],\"hovertemplate\":\"source=survey\\u003cbr\\u003edpurp_label=Meal\\u003cbr\\u003edept_hr=%{x}\\u003cbr\\u003epercentage=%{y}\\u003cbr\\u003etrexpfac=%{customdata[0]}\\u003cbr\\u003esample_count=%{customdata[1]}\\u003cextra\\u003e\\u003c\\u002fextra\\u003e\",\"legendgroup\":\"survey\",\"marker\":{\"color\":\"#8CC63E\",\"pattern\":{\"shape\":\"\"}},\"name\":\"survey\",\"offsetgroup\":\"survey\",\"orientation\":\"v\",\"showlegend\":false,\"textposition\":\"auto\",\"x\":[0,1,2,3,4,5,6,7,8,9,10,11,12,13,14,15,16,17,18,19,20,21,22,23],\"xaxis\":\"x3\",\"y\":[0.0006889489761508952,0.0,0.0,0.0,2.5388120021840368e-05,0.004372473897404449,0.0211145005753966,0.01872453399804706,0.043868101566378534,0.035196952983211564,0.024497885537602827,0.08623015083688694,0.12523446521202522,0.039389465451437906,0.08504908841015602,0.09349137826037361,0.07690210436883498,0.09252233052344769,0.09046744125604357,0.06567527596846352,0.07468460648667209,0.014843542563308883,0.005393502842986061,0.0016278621651497254],\"yaxis\":\"y3\",\"type\":\"bar\"},{\"alignmentgroup\":\"True\",\"customdata\":[[9.16501889224752,1.0],[0.0,0.0],[0.0,0.0],[0.0,0.0],[4054.1074151579,1.0],[3125.344562952493,10.0],[33587.474177644646,37.0],[234730.64420605893,227.0],[187868.1403029039,234.0],[83194.89099350593,95.0],[19655.609745442118,78.0],[28470.57453152318,63.0],[24735.782631357033,76.0],[93383.3054702929,87.0],[153778.12436165885,175.0],[205282.61662488474,228.0],[91440.77992572649,153.0],[103597.81032057249,140.0],[25422.955729679896,68.0],[39576.823921154675,58.0],[21548.815213539914,29.0],[8339.18214681177,23.0],[11516.748013204216,13.0],[607.5843848720184,3.0]],\"hovertemplate\":\"source=survey\\u003cbr\\u003edpurp_label=Escort\\u003cbr\\u003edept_hr=%{x}\\u003cbr\\u003epercentage=%{y}\\u003cbr\\u003etrexpfac=%{customdata[0]}\\u003cbr\\u003esample_count=%{customdata[1]}\\u003cextra\\u003e\\u003c\\u002fextra\\u003e\",\"legendgroup\":\"survey\",\"marker\":{\"color\":\"#8CC63E\",\"pattern\":{\"shape\":\"\"}},\"name\":\"survey\",\"offsetgroup\":\"survey\",\"orientation\":\"v\",\"showlegend\":false,\"textposition\":\"auto\",\"x\":[0,1,2,3,4,5,6,7,8,9,10,11,12,13,14,15,16,17,18,19,20,21,22,23],\"xaxis\":\"x2\",\"y\":[6.67067636272878e-06,0.0,0.0,0.0,0.00295074552755509,0.0022747538599298565,0.024446340232871445,0.17084658289552915,0.13673813197356904,0.06055265126835808,0.014306158324981784,0.020722050962861296,0.01800371635372884,0.06796819687966886,0.11192602124931665,0.1494131015438555,0.06655434717717704,0.07540273213407785,0.018503869097326875,0.028805634439667174,0.015684110854519002,0.006069598533864623,0.008382361198640746,0.0004422248161383735],\"yaxis\":\"y2\",\"type\":\"bar\"},{\"alignmentgroup\":\"True\",\"customdata\":[[0.0,0.0],[0.0,0.0],[0.0,0.0],[0.0,0.0],[0.0,0.0],[2941.709816663014,5.0],[6787.840124287101,24.0],[44644.19766696868,76.0],[31765.464901663872,110.0],[74424.1342379433,155.0],[66592.7673521372,183.0],[55823.58774670971,148.0],[71755.10161401259,147.0],[75768.19484864995,170.0],[130627.28838497953,161.0],[63498.44906164758,136.0],[40413.19147329936,122.0],[68848.96749056579,83.0],[9367.286388232722,51.0],[13896.771678979154,22.0],[1354.5155151784093,8.0],[5413.758002958482,5.0],[197.424677262663,1.0],[0.0,0.0]],\"hovertemplate\":\"source=survey\\u003cbr\\u003edpurp_label=Personal Business\\u003cbr\\u003edept_hr=%{x}\\u003cbr\\u003epercentage=%{y}\\u003cbr\\u003etrexpfac=%{customdata[0]}\\u003cbr\\u003esample_count=%{customdata[1]}\\u003cextra\\u003e\\u003c\\u002fextra\\u003e\",\"legendgroup\":\"survey\",\"marker\":{\"color\":\"#8CC63E\",\"pattern\":{\"shape\":\"\"}},\"name\":\"survey\",\"offsetgroup\":\"survey\",\"orientation\":\"v\",\"showlegend\":false,\"textposition\":\"auto\",\"x\":[0,1,2,3,4,5,6,7,8,9,10,11,12,13,14,15,16,17,18,19,20,21,22,23],\"xaxis\":\"x\",\"y\":[0.0,0.0,0.0,0.0,0.0,0.0038497975586472854,0.008883204655655567,0.058425587123691294,0.04157126870061043,0.09739840710008886,0.08714954538467744,0.0730559862175673,0.09390546050781949,0.09915737096133131,0.17095112953311983,0.083100030054196,0.05288849531988894,0.09010222064025213,0.01225891012916974,0.018186619692999218,0.0017726461304735373,0.007084951827960773,0.0002583684618507682,0.0],\"yaxis\":\"y\",\"type\":\"bar\"},{\"alignmentgroup\":\"True\",\"customdata\":[[1157.7089014365695,2.0],[0.0,0.0],[66.0672268552095,1.0],[10508.932231210776,34.0],[42855.42507830014,134.0],[154617.96712958475,446.0],[310857.7151247602,1322.0],[383371.8587197158,2371.0],[314649.8031415191,2127.0],[249412.15683964425,1327.0],[167477.85431534835,740.0],[113673.71249841407,590.0],[198346.27570010137,934.0],[155398.99684972555,841.0],[98432.43833252405,500.0],[54043.69165559775,342.0],[53533.23811600846,283.0],[57189.75423746317,206.0],[19353.045961580014,116.0],[18660.712974326598,56.0],[6227.628956539731,34.0],[2096.1982044600077,11.0],[3409.6893385393123,8.0],[2471.7153776065225,5.0]],\"hovertemplate\":\"source=survey (2017\\u002f2019)\\u003cbr\\u003edpurp_label=Work\\u003cbr\\u003edept_hr=%{x}\\u003cbr\\u003epercentage=%{y}\\u003cbr\\u003etrexpfac=%{customdata[0]}\\u003cbr\\u003esample_count=%{customdata[1]}\\u003cextra\\u003e\\u003c\\u002fextra\\u003e\",\"legendgroup\":\"survey (2017\\u002f2019)\",\"marker\":{\"color\":\"#00A7A0\",\"pattern\":{\"shape\":\"\"}},\"name\":\"survey (2017\\u002f2019)\",\"offsetgroup\":\"survey (2017\\u002f2019)\",\"orientation\":\"v\",\"showlegend\":true,\"textposition\":\"auto\",\"x\":[0,1,2,3,4,5,6,7,8,9,10,11,12,13,14,15,16,17,18,19,20,21,22,23],\"xaxis\":\"x6\",\"y\":[0.00047882491294146763,0.0,2.732520593732615e-05,0.00434646270273407,0.017724874669896414,0.06394952527197656,0.12856981422281316,0.15856144549626597,0.13013821039929402,0.10315611647893128,0.06926833585943902,0.04701510493980488,0.08203542192386687,0.06427255681063629,0.040711359873542054,0.02235230801103496,0.02214118596528476,0.023653510014406316,0.008004361490359926,0.007718014653139649,0.0025757285698042804,0.00086698126058558,0.0014102372355068126,0.001022294031798437],\"yaxis\":\"y6\",\"type\":\"bar\"},{\"alignmentgroup\":\"True\",\"customdata\":[[0.0,0.0],[0.0,0.0],[0.0,0.0],[0.0,0.0],[0.0,0.0],[10000.491126518085,13.0],[57849.45797028802,105.0],[189331.2819966019,515.0],[183672.66268294936,619.0],[37344.49808280266,163.0],[11952.119643414004,75.0],[16749.29791643655,58.0],[20548.81031449404,109.0],[7863.50422531356,76.0],[15767.646214644848,82.0],[22347.410251794394,67.0],[14851.787717522677,61.0],[9460.656281219735,59.0],[846.6255037070423,16.0],[1322.8739986711764,8.0],[312.3021497864155,1.0],[89.61400609072103,3.0],[0.0,0.0],[0.0,0.0]],\"hovertemplate\":\"source=survey (2017\\u002f2019)\\u003cbr\\u003edpurp_label=School\\u003cbr\\u003edept_hr=%{x}\\u003cbr\\u003epercentage=%{y}\\u003cbr\\u003etrexpfac=%{customdata[0]}\\u003cbr\\u003esample_count=%{customdata[1]}\\u003cextra\\u003e\\u003c\\u002fextra\\u003e\",\"legendgroup\":\"survey (2017\\u002f2019)\",\"marker\":{\"color\":\"#00A7A0\",\"pattern\":{\"shape\":\"\"}},\"name\":\"survey (2017\\u002f2019)\",\"offsetgroup\":\"survey (2017\\u002f2019)\",\"orientation\":\"v\",\"showlegend\":false,\"textposition\":\"auto\",\"x\":[0,1,2,3,4,5,6,7,8,9,10,11,12,13,14,15,16,17,18,19,20,21,22,23],\"xaxis\":\"x5\",\"y\":[0.0,0.0,0.0,0.0,0.0,0.016658849261122717,0.09636580723613118,0.31538863914723203,0.30596249347302085,0.06220858120098155,0.019909878122142004,0.027901032628254756,0.03423027221301548,0.013099049826296874,0.0262657941664447,0.03722638558959757,0.024740154229860027,0.0157595906947229,0.0014103114005550139,0.0022036476265535863,0.0005202338936555682,0.00014927929041325317,0.0,0.0],\"yaxis\":\"y5\",\"type\":\"bar\"},{\"alignmentgroup\":\"True\",\"customdata\":[[88.00102612483639,3.0],[0.0,0.0],[0.54525469613021,1.0],[23.5581858798963,2.0],[2802.6843880997167,5.0],[1121.6653775904763,8.0],[7809.612816362787,29.0],[33966.92660566137,82.0],[59284.61151124875,149.0],[161859.65014367262,311.0],[246968.17909785153,468.0],[227991.46852515658,563.0],[246963.90317585078,548.0],[159734.69603642393,506.0],[232366.1604966313,572.0],[166747.11769128882,560.0],[158925.46239316318,651.0],[107544.54743676416,679.0],[81224.20610343876,538.0],[103668.04157456578,429.0],[64391.27309270363,252.0],[50067.36214807061,125.0],[1685.2232189452338,35.0],[2124.5189612179906,8.0]],\"hovertemplate\":\"source=survey (2017\\u002f2019)\\u003cbr\\u003edpurp_label=Shop\\u003cbr\\u003edept_hr=%{x}\\u003cbr\\u003epercentage=%{y}\\u003cbr\\u003etrexpfac=%{customdata[0]}\\u003cbr\\u003esample_count=%{customdata[1]}\\u003cextra\\u003e\\u003c\\u002fextra\\u003e\",\"legendgroup\":\"survey (2017\\u002f2019)\",\"marker\":{\"color\":\"#00A7A0\",\"pattern\":{\"shape\":\"\"}},\"name\":\"survey (2017\\u002f2019)\",\"offsetgroup\":\"survey (2017\\u002f2019)\",\"orientation\":\"v\",\"showlegend\":false,\"textposition\":\"auto\",\"x\":[0,1,2,3,4,5,6,7,8,9,10,11,12,13,14,15,16,17,18,19,20,21,22,23],\"xaxis\":\"x4\",\"y\":[4.156168550816007e-05,0.0,2.575163631644904e-07,1.1126210179573034e-05,0.001323669646210583,0.0005297472736587782,0.0036883737168442008,0.016042116591465795,0.027999314185366813,0.07644410721062651,0.11663970571919215,0.10767726389853786,0.11663768625949629,0.07544052034108865,0.1097433713056899,0.07875239153514342,0.0750583303182574,0.05079182431740655,0.03836108575520742,0.048961003421219784,0.03041112086525654,0.023646132908375073,0.0007959079629082132,0.0010033813559969919],\"yaxis\":\"y4\",\"type\":\"bar\"},{\"alignmentgroup\":\"True\",\"customdata\":[[0.0,0.0],[0.0,0.0],[0.0,0.0],[42.29917858051295,1.0],[218.51478703463414,7.0],[14040.540516193796,19.0],[17302.36516005337,71.0],[32912.2659432944,113.0],[32337.516123921014,148.0],[21924.67797279626,132.0],[30918.81011936177,176.0],[107399.40268627688,532.0],[170963.48585399266,671.0],[49218.65037364089,301.0],[30461.52140820206,208.0],[32694.50230532186,206.0],[51866.72388408024,303.0],[77108.99883669768,502.0],[105260.9074932591,528.0],[60055.67261256101,335.0],[41083.36947794189,178.0],[8666.039098896175,63.0],[5858.891906161041,26.0],[5.963816542174035,2.0]],\"hovertemplate\":\"source=survey (2017\\u002f2019)\\u003cbr\\u003edpurp_label=Meal\\u003cbr\\u003edept_hr=%{x}\\u003cbr\\u003epercentage=%{y}\\u003cbr\\u003etrexpfac=%{customdata[0]}\\u003cbr\\u003esample_count=%{customdata[1]}\\u003cextra\\u003e\\u003c\\u002fextra\\u003e\",\"legendgroup\":\"survey (2017\\u002f2019)\",\"marker\":{\"color\":\"#00A7A0\",\"pattern\":{\"shape\":\"\"}},\"name\":\"survey (2017\\u002f2019)\",\"offsetgroup\":\"survey (2017\\u002f2019)\",\"orientation\":\"v\",\"showlegend\":false,\"textposition\":\"auto\",\"x\":[0,1,2,3,4,5,6,7,8,9,10,11,12,13,14,15,16,17,18,19,20,21,22,23],\"xaxis\":\"x3\",\"y\":[0.0,0.0,0.0,4.75089576921523e-05,0.0002454281648183299,0.015769843948367095,0.01943341128477245,0.036965905786482456,0.03632036689498346,0.02462503134052608,0.034726925939152255,0.12062725210308044,0.19202020674893489,0.05528066635656604,0.03421331525543098,0.03672132128601434,0.058254889889860155,0.08660613010354269,0.11822536911009111,0.06745243063983183,0.04614340343899257,0.009733391964676853,0.006580502436066998,6.698350116813741e-06],\"yaxis\":\"y3\",\"type\":\"bar\"},{\"alignmentgroup\":\"True\",\"customdata\":[[0.0,0.0],[0.0,0.0],[0.0,0.0],[43.386560706051,1.0],[1790.848267443167,12.0],[18465.3446532733,31.0],[57549.342829518595,132.0],[126646.1453197122,480.0],[172943.20962340274,535.0],[36944.90811363062,172.0],[20658.185061761993,83.0],[49370.51581484815,137.0],[35656.39697159833,134.0],[38424.3553957142,151.0],[111565.45609818319,247.0],[122817.59441221227,398.0],[93252.53032125116,447.0],[102649.93969422167,351.0],[59265.66469635057,192.0],[39265.30959249568,126.0],[28526.143523589566,106.0],[9561.36718398478,53.0],[969.0806851933424,33.0],[843.074138705862,13.0]],\"hovertemplate\":\"source=survey (2017\\u002f2019)\\u003cbr\\u003edpurp_label=Escort\\u003cbr\\u003edept_hr=%{x}\\u003cbr\\u003epercentage=%{y}\\u003cbr\\u003etrexpfac=%{customdata[0]}\\u003cbr\\u003esample_count=%{customdata[1]}\\u003cextra\\u003e\\u003c\\u002fextra\\u003e\",\"legendgroup\":\"survey (2017\\u002f2019)\",\"marker\":{\"color\":\"#00A7A0\",\"pattern\":{\"shape\":\"\"}},\"name\":\"survey (2017\\u002f2019)\",\"offsetgroup\":\"survey (2017\\u002f2019)\",\"orientation\":\"v\",\"showlegend\":false,\"textposition\":\"auto\",\"x\":[0,1,2,3,4,5,6,7,8,9,10,11,12,13,14,15,16,17,18,19,20,21,22,23],\"xaxis\":\"x2\",\"y\":[0.0,0.0,0.0,3.849026085155266e-05,0.0015887458198507339,0.01638147667969423,0.051054731725593314,0.11235375862644753,0.1534260642600588,0.03277556753264293,0.01832684865560159,0.043798909182128,0.03163246862920674,0.03408805487611599,0.09897496914620889,0.10895727084970222,0.08272871042833523,0.09106559475860236,0.0525773616663983,0.0348341049402736,0.025306885068644307,0.008482339024344997,0.0008597171048428133,0.0007479307644558464],\"yaxis\":\"y2\",\"type\":\"bar\"},{\"alignmentgroup\":\"True\",\"customdata\":[[0.0,0.0],[0.0,0.0],[0.0,0.0],[1137.7956546825676,7.0],[813.0149796079874,9.0],[8938.937590118545,30.0],[27863.712614929656,114.0],[61741.217794226875,258.0],[93492.30428550643,413.0],[150539.36337666478,496.0],[166693.8426317474,518.0],[143346.31332363558,468.0],[137807.8451032574,530.0],[96333.08016947872,503.0],[155935.4990797051,515.0],[130304.9326487006,511.0],[142836.56975142227,588.0],[137308.13237152714,492.0],[87073.08351106454,381.0],[52328.51462292798,225.0],[29190.425788894147,119.0],[8119.004695210372,46.0],[3490.573840894347,23.0],[113.92038390728736,5.0]],\"hovertemplate\":\"source=survey (2017\\u002f2019)\\u003cbr\\u003edpurp_label=Personal Business\\u003cbr\\u003edept_hr=%{x}\\u003cbr\\u003epercentage=%{y}\\u003cbr\\u003etrexpfac=%{customdata[0]}\\u003cbr\\u003esample_count=%{customdata[1]}\\u003cextra\\u003e\\u003c\\u002fextra\\u003e\",\"legendgroup\":\"survey (2017\\u002f2019)\",\"marker\":{\"color\":\"#00A7A0\",\"pattern\":{\"shape\":\"\"}},\"name\":\"survey (2017\\u002f2019)\",\"offsetgroup\":\"survey (2017\\u002f2019)\",\"orientation\":\"v\",\"showlegend\":false,\"textposition\":\"auto\",\"x\":[0,1,2,3,4,5,6,7,8,9,10,11,12,13,14,15,16,17,18,19,20,21,22,23],\"xaxis\":\"x\",\"y\":[0.0,0.0,0.0,0.0006957258348313405,0.0004971327875003691,0.005465875873049912,0.017037773558671948,0.03775278989387252,0.05716756887025246,0.09205003009914667,0.101927980080546,0.0876517088957461,0.08426511182934715,0.05890461292145053,0.0953495953606332,0.07967731962814623,0.08734001692287865,0.08395955339622423,0.05324241964518249,0.03199722144454624,0.017849016444632607,0.004964513000491909,0.002134374823372109,6.965868947734401e-05],\"yaxis\":\"y\",\"type\":\"bar\"}],                        {\"template\":{\"data\":{\"barpolar\":[{\"marker\":{\"line\":{\"color\":\"white\",\"width\":0.5},\"pattern\":{\"fillmode\":\"overlay\",\"size\":10,\"solidity\":0.2}},\"type\":\"barpolar\"}],\"bar\":[{\"error_x\":{\"color\":\"rgb(36,36,36)\"},\"error_y\":{\"color\":\"rgb(36,36,36)\"},\"marker\":{\"line\":{\"color\":\"white\",\"width\":0.5},\"pattern\":{\"fillmode\":\"overlay\",\"size\":10,\"solidity\":0.2}},\"type\":\"bar\"}],\"carpet\":[{\"aaxis\":{\"endlinecolor\":\"rgb(36,36,36)\",\"gridcolor\":\"white\",\"linecolor\":\"white\",\"minorgridcolor\":\"white\",\"startlinecolor\":\"rgb(36,36,36)\"},\"baxis\":{\"endlinecolor\":\"rgb(36,36,36)\",\"gridcolor\":\"white\",\"linecolor\":\"white\",\"minorgridcolor\":\"white\",\"startlinecolor\":\"rgb(36,36,36)\"},\"type\":\"carpet\"}],\"choropleth\":[{\"colorbar\":{\"outlinewidth\":1,\"tickcolor\":\"rgb(36,36,36)\",\"ticks\":\"outside\"},\"type\":\"choropleth\"}],\"contourcarpet\":[{\"colorbar\":{\"outlinewidth\":1,\"tickcolor\":\"rgb(36,36,36)\",\"ticks\":\"outside\"},\"type\":\"contourcarpet\"}],\"contour\":[{\"colorbar\":{\"outlinewidth\":1,\"tickcolor\":\"rgb(36,36,36)\",\"ticks\":\"outside\"},\"colorscale\":[[0.0,\"#440154\"],[0.1111111111111111,\"#482878\"],[0.2222222222222222,\"#3e4989\"],[0.3333333333333333,\"#31688e\"],[0.4444444444444444,\"#26828e\"],[0.5555555555555556,\"#1f9e89\"],[0.6666666666666666,\"#35b779\"],[0.7777777777777778,\"#6ece58\"],[0.8888888888888888,\"#b5de2b\"],[1.0,\"#fde725\"]],\"type\":\"contour\"}],\"heatmapgl\":[{\"colorbar\":{\"outlinewidth\":1,\"tickcolor\":\"rgb(36,36,36)\",\"ticks\":\"outside\"},\"colorscale\":[[0.0,\"#440154\"],[0.1111111111111111,\"#482878\"],[0.2222222222222222,\"#3e4989\"],[0.3333333333333333,\"#31688e\"],[0.4444444444444444,\"#26828e\"],[0.5555555555555556,\"#1f9e89\"],[0.6666666666666666,\"#35b779\"],[0.7777777777777778,\"#6ece58\"],[0.8888888888888888,\"#b5de2b\"],[1.0,\"#fde725\"]],\"type\":\"heatmapgl\"}],\"heatmap\":[{\"colorbar\":{\"outlinewidth\":1,\"tickcolor\":\"rgb(36,36,36)\",\"ticks\":\"outside\"},\"colorscale\":[[0.0,\"#440154\"],[0.1111111111111111,\"#482878\"],[0.2222222222222222,\"#3e4989\"],[0.3333333333333333,\"#31688e\"],[0.4444444444444444,\"#26828e\"],[0.5555555555555556,\"#1f9e89\"],[0.6666666666666666,\"#35b779\"],[0.7777777777777778,\"#6ece58\"],[0.8888888888888888,\"#b5de2b\"],[1.0,\"#fde725\"]],\"type\":\"heatmap\"}],\"histogram2dcontour\":[{\"colorbar\":{\"outlinewidth\":1,\"tickcolor\":\"rgb(36,36,36)\",\"ticks\":\"outside\"},\"colorscale\":[[0.0,\"#440154\"],[0.1111111111111111,\"#482878\"],[0.2222222222222222,\"#3e4989\"],[0.3333333333333333,\"#31688e\"],[0.4444444444444444,\"#26828e\"],[0.5555555555555556,\"#1f9e89\"],[0.6666666666666666,\"#35b779\"],[0.7777777777777778,\"#6ece58\"],[0.8888888888888888,\"#b5de2b\"],[1.0,\"#fde725\"]],\"type\":\"histogram2dcontour\"}],\"histogram2d\":[{\"colorbar\":{\"outlinewidth\":1,\"tickcolor\":\"rgb(36,36,36)\",\"ticks\":\"outside\"},\"colorscale\":[[0.0,\"#440154\"],[0.1111111111111111,\"#482878\"],[0.2222222222222222,\"#3e4989\"],[0.3333333333333333,\"#31688e\"],[0.4444444444444444,\"#26828e\"],[0.5555555555555556,\"#1f9e89\"],[0.6666666666666666,\"#35b779\"],[0.7777777777777778,\"#6ece58\"],[0.8888888888888888,\"#b5de2b\"],[1.0,\"#fde725\"]],\"type\":\"histogram2d\"}],\"histogram\":[{\"marker\":{\"line\":{\"color\":\"white\",\"width\":0.6}},\"type\":\"histogram\"}],\"mesh3d\":[{\"colorbar\":{\"outlinewidth\":1,\"tickcolor\":\"rgb(36,36,36)\",\"ticks\":\"outside\"},\"type\":\"mesh3d\"}],\"parcoords\":[{\"line\":{\"colorbar\":{\"outlinewidth\":1,\"tickcolor\":\"rgb(36,36,36)\",\"ticks\":\"outside\"}},\"type\":\"parcoords\"}],\"pie\":[{\"automargin\":true,\"type\":\"pie\"}],\"scatter3d\":[{\"line\":{\"colorbar\":{\"outlinewidth\":1,\"tickcolor\":\"rgb(36,36,36)\",\"ticks\":\"outside\"}},\"marker\":{\"colorbar\":{\"outlinewidth\":1,\"tickcolor\":\"rgb(36,36,36)\",\"ticks\":\"outside\"}},\"type\":\"scatter3d\"}],\"scattercarpet\":[{\"marker\":{\"colorbar\":{\"outlinewidth\":1,\"tickcolor\":\"rgb(36,36,36)\",\"ticks\":\"outside\"}},\"type\":\"scattercarpet\"}],\"scattergeo\":[{\"marker\":{\"colorbar\":{\"outlinewidth\":1,\"tickcolor\":\"rgb(36,36,36)\",\"ticks\":\"outside\"}},\"type\":\"scattergeo\"}],\"scattergl\":[{\"marker\":{\"colorbar\":{\"outlinewidth\":1,\"tickcolor\":\"rgb(36,36,36)\",\"ticks\":\"outside\"}},\"type\":\"scattergl\"}],\"scattermapbox\":[{\"marker\":{\"colorbar\":{\"outlinewidth\":1,\"tickcolor\":\"rgb(36,36,36)\",\"ticks\":\"outside\"}},\"type\":\"scattermapbox\"}],\"scatterpolargl\":[{\"marker\":{\"colorbar\":{\"outlinewidth\":1,\"tickcolor\":\"rgb(36,36,36)\",\"ticks\":\"outside\"}},\"type\":\"scatterpolargl\"}],\"scatterpolar\":[{\"marker\":{\"colorbar\":{\"outlinewidth\":1,\"tickcolor\":\"rgb(36,36,36)\",\"ticks\":\"outside\"}},\"type\":\"scatterpolar\"}],\"scatter\":[{\"fillpattern\":{\"fillmode\":\"overlay\",\"size\":10,\"solidity\":0.2},\"type\":\"scatter\"}],\"scatterternary\":[{\"marker\":{\"colorbar\":{\"outlinewidth\":1,\"tickcolor\":\"rgb(36,36,36)\",\"ticks\":\"outside\"}},\"type\":\"scatterternary\"}],\"surface\":[{\"colorbar\":{\"outlinewidth\":1,\"tickcolor\":\"rgb(36,36,36)\",\"ticks\":\"outside\"},\"colorscale\":[[0.0,\"#440154\"],[0.1111111111111111,\"#482878\"],[0.2222222222222222,\"#3e4989\"],[0.3333333333333333,\"#31688e\"],[0.4444444444444444,\"#26828e\"],[0.5555555555555556,\"#1f9e89\"],[0.6666666666666666,\"#35b779\"],[0.7777777777777778,\"#6ece58\"],[0.8888888888888888,\"#b5de2b\"],[1.0,\"#fde725\"]],\"type\":\"surface\"}],\"table\":[{\"cells\":{\"fill\":{\"color\":\"rgb(237,237,237)\"},\"line\":{\"color\":\"white\"}},\"header\":{\"fill\":{\"color\":\"rgb(217,217,217)\"},\"line\":{\"color\":\"white\"}},\"type\":\"table\"}]},\"layout\":{\"annotationdefaults\":{\"arrowhead\":0,\"arrowwidth\":1},\"autotypenumbers\":\"strict\",\"coloraxis\":{\"colorbar\":{\"outlinewidth\":1,\"tickcolor\":\"rgb(36,36,36)\",\"ticks\":\"outside\"}},\"colorscale\":{\"diverging\":[[0.0,\"rgb(103,0,31)\"],[0.1,\"rgb(178,24,43)\"],[0.2,\"rgb(214,96,77)\"],[0.3,\"rgb(244,165,130)\"],[0.4,\"rgb(253,219,199)\"],[0.5,\"rgb(247,247,247)\"],[0.6,\"rgb(209,229,240)\"],[0.7,\"rgb(146,197,222)\"],[0.8,\"rgb(67,147,195)\"],[0.9,\"rgb(33,102,172)\"],[1.0,\"rgb(5,48,97)\"]],\"sequential\":[[0.0,\"#440154\"],[0.1111111111111111,\"#482878\"],[0.2222222222222222,\"#3e4989\"],[0.3333333333333333,\"#31688e\"],[0.4444444444444444,\"#26828e\"],[0.5555555555555556,\"#1f9e89\"],[0.6666666666666666,\"#35b779\"],[0.7777777777777778,\"#6ece58\"],[0.8888888888888888,\"#b5de2b\"],[1.0,\"#fde725\"]],\"sequentialminus\":[[0.0,\"#440154\"],[0.1111111111111111,\"#482878\"],[0.2222222222222222,\"#3e4989\"],[0.3333333333333333,\"#31688e\"],[0.4444444444444444,\"#26828e\"],[0.5555555555555556,\"#1f9e89\"],[0.6666666666666666,\"#35b779\"],[0.7777777777777778,\"#6ece58\"],[0.8888888888888888,\"#b5de2b\"],[1.0,\"#fde725\"]]},\"colorway\":[\"#91268F\",\"#8CC63E\",\"#00A7A0\",\"#F05A28\",\"#4C4C4C\",\"#630460\",\"#9f3913\",\"#588527\",\"#00716c\",\"#3e4040\"],\"font\":{\"color\":\"rgb(36,36,36)\",\"family\":\"Poppins\",\"size\":11},\"geo\":{\"bgcolor\":\"white\",\"lakecolor\":\"white\",\"landcolor\":\"white\",\"showlakes\":true,\"showland\":true,\"subunitcolor\":\"white\"},\"hoverlabel\":{\"align\":\"left\"},\"hovermode\":\"closest\",\"mapbox\":{\"style\":\"light\"},\"paper_bgcolor\":\"white\",\"plot_bgcolor\":\"white\",\"polar\":{\"angularaxis\":{\"gridcolor\":\"rgb(232,232,232)\",\"linecolor\":\"rgb(36,36,36)\",\"showgrid\":false,\"showline\":true,\"ticks\":\"outside\"},\"bgcolor\":\"white\",\"radialaxis\":{\"gridcolor\":\"rgb(232,232,232)\",\"linecolor\":\"rgb(36,36,36)\",\"showgrid\":false,\"showline\":true,\"ticks\":\"outside\"}},\"scene\":{\"xaxis\":{\"backgroundcolor\":\"white\",\"gridcolor\":\"rgb(232,232,232)\",\"gridwidth\":2,\"linecolor\":\"rgb(36,36,36)\",\"showbackground\":true,\"showgrid\":false,\"showline\":true,\"ticks\":\"outside\",\"zeroline\":false,\"zerolinecolor\":\"rgb(36,36,36)\"},\"yaxis\":{\"backgroundcolor\":\"white\",\"gridcolor\":\"rgb(232,232,232)\",\"gridwidth\":2,\"linecolor\":\"rgb(36,36,36)\",\"showbackground\":true,\"showgrid\":false,\"showline\":true,\"ticks\":\"outside\",\"zeroline\":false,\"zerolinecolor\":\"rgb(36,36,36)\"},\"zaxis\":{\"backgroundcolor\":\"white\",\"gridcolor\":\"rgb(232,232,232)\",\"gridwidth\":2,\"linecolor\":\"rgb(36,36,36)\",\"showbackground\":true,\"showgrid\":false,\"showline\":true,\"ticks\":\"outside\",\"zeroline\":false,\"zerolinecolor\":\"rgb(36,36,36)\"}},\"shapedefaults\":{\"fillcolor\":\"black\",\"line\":{\"width\":0},\"opacity\":0.3},\"ternary\":{\"aaxis\":{\"gridcolor\":\"rgb(232,232,232)\",\"linecolor\":\"rgb(36,36,36)\",\"showgrid\":false,\"showline\":true,\"ticks\":\"outside\"},\"baxis\":{\"gridcolor\":\"rgb(232,232,232)\",\"linecolor\":\"rgb(36,36,36)\",\"showgrid\":false,\"showline\":true,\"ticks\":\"outside\"},\"bgcolor\":\"white\",\"caxis\":{\"gridcolor\":\"rgb(232,232,232)\",\"linecolor\":\"rgb(36,36,36)\",\"showgrid\":false,\"showline\":true,\"ticks\":\"outside\"}},\"title\":{\"x\":0.05},\"xaxis\":{\"automargin\":true,\"gridcolor\":\"rgb(232,232,232)\",\"linecolor\":\"rgb(36,36,36)\",\"showgrid\":false,\"showline\":true,\"ticks\":\"outside\",\"title\":{\"standoff\":15},\"zeroline\":false,\"zerolinecolor\":\"rgb(36,36,36)\"},\"yaxis\":{\"automargin\":true,\"gridcolor\":\"rgb(232,232,232)\",\"linecolor\":\"rgb(36,36,36)\",\"showgrid\":false,\"showline\":true,\"ticks\":\"outside\",\"title\":{\"standoff\":15},\"zeroline\":false,\"zerolinecolor\":\"rgb(36,36,36)\"}}},\"xaxis\":{\"anchor\":\"y\",\"domain\":[0.0,0.98],\"title\":{\"text\":\"dept_hr\"},\"dtick\":1,\"categoryorder\":\"category ascending\"},\"yaxis\":{\"anchor\":\"x\",\"domain\":[0.0,0.14166666666666666],\"title\":{\"text\":\"percentage\"},\"tickformat\":\".0%\"},\"xaxis2\":{\"anchor\":\"y2\",\"domain\":[0.0,0.98],\"matches\":\"x\",\"showticklabels\":false,\"dtick\":1,\"categoryorder\":\"category ascending\"},\"yaxis2\":{\"anchor\":\"x2\",\"domain\":[0.17166666666666666,0.31333333333333335],\"matches\":\"y\",\"title\":{\"text\":\"percentage\"},\"tickformat\":\".0%\"},\"xaxis3\":{\"anchor\":\"y3\",\"domain\":[0.0,0.98],\"matches\":\"x\",\"showticklabels\":false,\"dtick\":1,\"categoryorder\":\"category ascending\"},\"yaxis3\":{\"anchor\":\"x3\",\"domain\":[0.3433333333333333,0.485],\"matches\":\"y\",\"title\":{\"text\":\"percentage\"},\"tickformat\":\".0%\"},\"xaxis4\":{\"anchor\":\"y4\",\"domain\":[0.0,0.98],\"matches\":\"x\",\"showticklabels\":false,\"dtick\":1,\"categoryorder\":\"category ascending\"},\"yaxis4\":{\"anchor\":\"x4\",\"domain\":[0.515,0.6566666666666667],\"matches\":\"y\",\"title\":{\"text\":\"percentage\"},\"tickformat\":\".0%\"},\"xaxis5\":{\"anchor\":\"y5\",\"domain\":[0.0,0.98],\"matches\":\"x\",\"showticklabels\":false,\"dtick\":1,\"categoryorder\":\"category ascending\"},\"yaxis5\":{\"anchor\":\"x5\",\"domain\":[0.6866666666666666,0.8283333333333334],\"matches\":\"y\",\"title\":{\"text\":\"percentage\"},\"tickformat\":\".0%\"},\"xaxis6\":{\"anchor\":\"y6\",\"domain\":[0.0,0.98],\"matches\":\"x\",\"showticklabels\":false,\"dtick\":1,\"categoryorder\":\"category ascending\"},\"yaxis6\":{\"anchor\":\"x6\",\"domain\":[0.8583333333333333,1.0],\"matches\":\"y\",\"title\":{\"text\":\"percentage\"},\"tickformat\":\".0%\"},\"annotations\":[{\"font\":{},\"showarrow\":false,\"text\":\"Personal Business\",\"textangle\":90,\"x\":0.98,\"xanchor\":\"left\",\"xref\":\"paper\",\"y\":0.07083333333333333,\"yanchor\":\"middle\",\"yref\":\"paper\"},{\"font\":{},\"showarrow\":false,\"text\":\"Escort\",\"textangle\":90,\"x\":0.98,\"xanchor\":\"left\",\"xref\":\"paper\",\"y\":0.2425,\"yanchor\":\"middle\",\"yref\":\"paper\"},{\"font\":{},\"showarrow\":false,\"text\":\"Meal\",\"textangle\":90,\"x\":0.98,\"xanchor\":\"left\",\"xref\":\"paper\",\"y\":0.4141666666666667,\"yanchor\":\"middle\",\"yref\":\"paper\"},{\"font\":{},\"showarrow\":false,\"text\":\"Shop\",\"textangle\":90,\"x\":0.98,\"xanchor\":\"left\",\"xref\":\"paper\",\"y\":0.5858333333333334,\"yanchor\":\"middle\",\"yref\":\"paper\"},{\"font\":{},\"showarrow\":false,\"text\":\"School\",\"textangle\":90,\"x\":0.98,\"xanchor\":\"left\",\"xref\":\"paper\",\"y\":0.7575000000000001,\"yanchor\":\"middle\",\"yref\":\"paper\"},{\"font\":{},\"showarrow\":false,\"text\":\"Work\",\"textangle\":90,\"x\":0.98,\"xanchor\":\"left\",\"xref\":\"paper\",\"y\":0.9291666666666667,\"yanchor\":\"middle\",\"yref\":\"paper\"}],\"legend\":{\"title\":{\"text\":\"source\"},\"tracegroupgap\":0},\"title\":{\"text\":\"trip origin departure hour by purpose\"},\"barmode\":\"group\",\"height\":1500,\"width\":850},                        {\"responsive\": true}                    ).then(function(){\n",
       "                            \n",
       "var gd = document.getElementById('a7270c94-b0cb-47a1-b47f-63c48e9cefc8');\n",
       "var x = new MutationObserver(function (mutations, observer) {{\n",
       "        var display = window.getComputedStyle(gd).display;\n",
       "        if (!display || display === 'none') {{\n",
       "            console.log([gd, 'removed!']);\n",
       "            Plotly.purge(gd);\n",
       "            observer.disconnect();\n",
       "        }}\n",
       "}});\n",
       "\n",
       "// Listen for the removal of the full notebook cells\n",
       "var notebookContainer = gd.closest('#notebook-container');\n",
       "if (notebookContainer) {{\n",
       "    x.observe(notebookContainer, {childList: true});\n",
       "}}\n",
       "\n",
       "// Listen for the clearing of the current output cell\n",
       "var outputEl = gd.closest('.output');\n",
       "if (outputEl) {{\n",
       "    x.observe(outputEl, {childList: true});\n",
       "}}\n",
       "\n",
       "                        })                };                });            </script>        </div>"
      ]
     },
     "metadata": {},
     "output_type": "display_data"
    }
   ],
   "source": [
    "df_plot = df_trip.groupby(['dept_hr','dpurp_label','source'])['trexpfac'].agg(sample_count='size', trexpfac='sum').reset_index()\n",
    "df_plot['percentage'] = df_plot.groupby(['dpurp_label','source'], group_keys=False)['trexpfac']. \\\n",
    "    apply(lambda x: x / float(x.sum()))\n",
    "\n",
    "fig = px.bar(df_plot.sort_values(['source','dpurp_label']),\n",
    "             x=\"dept_hr\", y=\"percentage\", color=\"source\",barmode=\"group\",\n",
    "             facet_row='dpurp_label',\n",
    "             hover_data=['trexpfac','sample_count'],\n",
    "             title=\"trip origin departure hour by purpose\")\n",
    "fig.update_layout(height=1500, width=850)\n",
    "fig.for_each_annotation(lambda a: a.update(text = a.text.split(\"=\")[-1]))\n",
    "fig.for_each_xaxis(lambda a: a.update(dict(dtick = 1, categoryorder='category ascending')))\n",
    "fig.for_each_yaxis(lambda a: a.update(dict(tickformat=\".0%\")))\n",
    "fig.show()"
   ]
  },
  {
   "cell_type": "raw",
   "metadata": {
    "vscode": {
     "languageId": "raw"
    }
   },
   "source": [
    ":::"
   ]
  }
 ],
 "metadata": {
  "kernelspec": {
   "display_name": "summary",
   "language": "python",
   "name": "python3"
  },
  "language_info": {
   "codemirror_mode": {
    "name": "ipython",
    "version": 3
   },
   "file_extension": ".py",
   "mimetype": "text/x-python",
   "name": "python",
   "nbconvert_exporter": "python",
   "pygments_lexer": "ipython3",
   "version": "3.7.10"
  }
 },
 "nbformat": 4,
 "nbformat_minor": 2
}
