{
 "cells": [
  {
   "cell_type": "raw",
   "metadata": {},
   "source": [
    "---\n",
    "title: \"Time Choice\"\n",
    "date: today\n",
    "---"
   ]
  },
  {
   "cell_type": "code",
   "execution_count": 1,
   "metadata": {
    "ExecuteTime": {
     "end_time": "2024-07-15T04:25:53.491736Z",
     "start_time": "2024-07-15T04:25:52.116355Z"
    },
    "execution": {
     "iopub.execute_input": "2025-01-21T07:15:01.773370Z",
     "iopub.status.busy": "2025-01-21T07:15:01.771449Z",
     "iopub.status.idle": "2025-01-21T07:15:04.683882Z",
     "shell.execute_reply": "2025-01-21T07:15:04.682232Z"
    }
   },
   "outputs": [],
   "source": [
    "import os\n",
    "import pandas as pd\n",
    "import numpy as np\n",
    "# import validation_data_input\n",
    "import plotly.express as px\n",
    "import toml\n",
    "import math\n",
    "import psrc_theme\n",
    "\n",
    "# to show plotly figures in quarto HTML file\n",
    "import plotly.io as pio\n",
    "pio.renderers.default = \"plotly_mimetype+notebook_connected\"\n",
    "pio.templates.default = \"simple_white+psrc_color\" # set plotly template"
   ]
  },
  {
   "cell_type": "code",
   "execution_count": 2,
   "metadata": {
    "ExecuteTime": {
     "end_time": "2024-07-15T04:26:18.475538Z",
     "start_time": "2024-07-15T04:25:57.037934Z"
    },
    "execution": {
     "iopub.execute_input": "2025-01-21T07:15:04.693991Z",
     "iopub.status.busy": "2025-01-21T07:15:04.693469Z",
     "iopub.status.idle": "2025-01-21T07:15:20.222468Z",
     "shell.execute_reply": "2025-01-21T07:15:20.219893Z"
    }
   },
   "outputs": [],
   "source": [
    "%store -r validation_data\n",
    "\n",
    "config = validation_data.config.copy()\n",
    "tour = validation_data.tour.copy()\n",
    "trip = validation_data.trip.copy()"
   ]
  },
  {
   "cell_type": "code",
   "execution_count": 3,
   "metadata": {
    "ExecuteTime": {
     "end_time": "2024-07-15T04:36:01.318077Z",
     "start_time": "2024-07-15T04:35:58.005548Z"
    },
    "collapsed": false,
    "execution": {
     "iopub.execute_input": "2025-01-21T07:15:20.235367Z",
     "iopub.status.busy": "2025-01-21T07:15:20.233373Z",
     "iopub.status.idle": "2025-01-21T07:15:32.449402Z",
     "shell.execute_reply": "2025-01-21T07:15:32.447410Z"
    }
   },
   "outputs": [],
   "source": [
    "# df_person = person.copy()\n",
    "df_tour = tour.copy()\n",
    "df_trip = trip.copy()\n",
    "\n",
    "# ptype_cat = {1: \"1: full time worker\",\n",
    "#              2: \"2: part time worker\",\n",
    "#              3: \"3: non-worker age 65+\",\n",
    "#              4: \"4: other non-working adult\",\n",
    "#              5: \"5: university student\",\n",
    "#              6: \"6: grade school student/child age 16+\",\n",
    "#              7: \"7: child age 5-15\",\n",
    "#              8: \"8: child age 0-4\"}\n",
    "pdpurp_cat = {1: \"Work\",\n",
    "              2: \"School\",\n",
    "              3: \"Escort\",\n",
    "              4: \"Personal Business\",\n",
    "              5: \"Shop\",\n",
    "              6: \"Meal\",\n",
    "              7: \"Social\",\n",
    "              8: \"Social\",\n",
    "              9: \"Personal Business\"}\n",
    "# df_person['pptyp_label'] = df_person['pptyp'].map(ptype_cat)\n",
    "# df_person['pptyp_label'] = df_person['pptyp_label'].astype(pd.CategoricalDtype([\"1: full time worker\",\"2: part time worker\",\"3: non-worker age 65+\",\"4: other non-working adult\",\"5: university student\",\"6: grade school student/child age 16+\",\"7: child age 5-15\",\"8: child age 0-4\"]))\n",
    "\n",
    "df_tour['pdpurp_label'] = df_tour['pdpurp'].map(pdpurp_cat)\n",
    "df_tour['pdpurp_label'] = df_tour['pdpurp_label'].astype(pd.CategoricalDtype([\"Work\",\"School\",\"Shop\",\"Meal\",\"Escort\",\"Personal Business\"]))\n",
    "\n",
    "df_tour['tlvorg_hr'] = df_tour['tlvorig'].apply(lambda row: int(math.floor(row/60)))\n",
    "\n",
    "\n",
    "df_trip['dpurp_label'] = df_trip['dpurp'].map(pdpurp_cat)\n",
    "df_trip['dpurp_label'] = df_trip['dpurp_label'].astype(pd.CategoricalDtype([\"Work\",\"School\",\"Shop\",\"Meal\",\"Escort\",\"Personal Business\"]))\n",
    "\n",
    "df_trip['dept_hr'] = df_trip['deptm'].apply(lambda row: int(math.floor(row/60)))\n",
    "\n",
    "# df_tour = df_tour.merge(df_person, how='left', on=['pno','hhno','source'])"
   ]
  },
  {
   "cell_type": "markdown",
   "metadata": {},
   "source": [
    "## departure hour"
   ]
  },
  {
   "cell_type": "raw",
   "metadata": {
    "vscode": {
     "languageId": "raw"
    }
   },
   "source": [
    ":::{.panel-tabset}\n",
    "### tour"
   ]
  },
  {
   "cell_type": "code",
   "execution_count": 4,
   "metadata": {
    "ExecuteTime": {
     "end_time": "2024-07-15T04:37:09.021826Z",
     "start_time": "2024-07-15T04:37:08.286683Z"
    },
    "collapsed": false,
    "execution": {
     "iopub.execute_input": "2025-01-21T07:15:32.462368Z",
     "iopub.status.busy": "2025-01-21T07:15:32.460374Z",
     "iopub.status.idle": "2025-01-21T07:15:33.316015Z",
     "shell.execute_reply": "2025-01-21T07:15:33.315014Z"
    }
   },
   "outputs": [
    {
     "data": {
      "text/html": [
       "        <script type=\"text/javascript\">\n",
       "        window.PlotlyConfig = {MathJaxConfig: 'local'};\n",
       "        if (window.MathJax && window.MathJax.Hub && window.MathJax.Hub.Config) {window.MathJax.Hub.Config({SVG: {font: \"STIX-Web\"}});}\n",
       "        if (typeof require !== 'undefined') {\n",
       "        require.undef(\"plotly\");\n",
       "        requirejs.config({\n",
       "            paths: {\n",
       "                'plotly': ['https://cdn.plot.ly/plotly-2.35.2.min']\n",
       "            }\n",
       "        });\n",
       "        require(['plotly'], function(Plotly) {\n",
       "            window._Plotly = Plotly;\n",
       "        });\n",
       "        }\n",
       "        </script>\n",
       "        "
      ]
     },
     "metadata": {},
     "output_type": "display_data"
    },
    {
     "data": {
      "application/vnd.plotly.v1+json": {
       "config": {
        "plotlyServerURL": "https://plot.ly"
       },
       "data": [
        {
         "alignmentgroup": "True",
         "customdata": [
          [
           2037.0,
           2037.0
          ],
          [
           1355.0,
           1355.0
          ],
          [
           523.0,
           523.0
          ],
          [
           36392.0,
           36392.0
          ],
          [
           31748.0,
           31748.0
          ],
          [
           70823.0,
           70823.0
          ],
          [
           200849.0,
           200849.0
          ],
          [
           326457.0,
           326457.0
          ],
          [
           361427.0,
           361427.0
          ],
          [
           293696.0,
           293696.0
          ],
          [
           253300.0,
           253300.0
          ],
          [
           214778.0,
           214778.0
          ],
          [
           202830.0,
           202830.0
          ],
          [
           182874.0,
           182874.0
          ],
          [
           164207.0,
           164207.0
          ],
          [
           149738.0,
           149738.0
          ],
          [
           160705.0,
           160705.0
          ],
          [
           155822.0,
           155822.0
          ],
          [
           144766.0,
           144767.0
          ],
          [
           86918.0,
           86918.0
          ],
          [
           67101.0,
           67101.0
          ],
          [
           42406.0,
           42406.0
          ],
          [
           10144.0,
           10144.0
          ],
          [
           4934.0,
           4934.0
          ]
         ],
         "hovertemplate": "source=model<br>tlvorg_hr=%{x}<br>percentage=%{y}<br>toexpfac=%{customdata[0]}<br>sample_count=%{customdata[1]}<extra></extra>",
         "legendgroup": "model",
         "marker": {
          "color": "#91268F",
          "pattern": {
           "shape": ""
          }
         },
         "name": "model",
         "offsetgroup": "model",
         "orientation": "v",
         "showlegend": true,
         "textposition": "auto",
         "type": "bar",
         "x": [
          0,
          1,
          2,
          3,
          4,
          5,
          6,
          7,
          8,
          9,
          10,
          11,
          12,
          13,
          14,
          15,
          16,
          17,
          18,
          19,
          20,
          21,
          22,
          23
         ],
         "xaxis": "x",
         "y": [
          0.0006434331597085125,
          0.00042800782101376256,
          0.00016520154272339324,
          0.011495247691758559,
          0.01002833380187818,
          0.022371068566537054,
          0.06344276224560384,
          0.1031189293171143,
          0.1141650057015064,
          0.09277061623650038,
          0.08001061333046942,
          0.06784255629645307,
          0.06406850652119665,
          0.05776494631739544,
          0.05186854632118591,
          0.04729818088779246,
          0.05076235931809352,
          0.04921995179779078,
          0.04572766067666299,
          0.027455043385147024,
          0.021195389518704415,
          0.013394907496612263,
          0.0032042150083864264,
          0.0015585170397652433
         ],
         "yaxis": "y"
        },
        {
         "alignmentgroup": "True",
         "customdata": [
          [
           943.0980027856076,
           3.0
          ],
          [
           398.42395687550857,
           2.0
          ],
          [
           716.8396568244124,
           3.0
          ],
          [
           17316.34454046993,
           25.0
          ],
          [
           84798.92350057453,
           78.0
          ],
          [
           189819.885706171,
           191.0
          ],
          [
           389360.2357409862,
           553.0
          ],
          [
           847749.1186263587,
           1232.0
          ],
          [
           808710.0724160195,
           1310.0
          ],
          [
           503375.5771983736,
           873.0
          ],
          [
           295841.46811536636,
           740.0
          ],
          [
           309951.0080839509,
           625.0
          ],
          [
           272990.55938819953,
           650.0
          ],
          [
           236310.25875529269,
           564.0
          ],
          [
           345874.08834003104,
           602.0
          ],
          [
           381720.82501548145,
           629.0
          ],
          [
           295307.2763348435,
           576.0
          ],
          [
           380586.3163754746,
           738.0
          ],
          [
           253152.64817353673,
           539.0
          ],
          [
           160053.9465085915,
           361.0
          ],
          [
           47426.99008174137,
           149.0
          ],
          [
           9963.965730753995,
           72.0
          ],
          [
           21874.17966037096,
           32.0
          ],
          [
           4652.094809114153,
           10.0
          ]
         ],
         "hovertemplate": "source=survey<br>tlvorg_hr=%{x}<br>percentage=%{y}<br>toexpfac=%{customdata[0]}<br>sample_count=%{customdata[1]}<extra></extra>",
         "legendgroup": "survey",
         "marker": {
          "color": "#8CC63E",
          "pattern": {
           "shape": ""
          }
         },
         "name": "survey",
         "offsetgroup": "survey",
         "orientation": "v",
         "showlegend": true,
         "textposition": "auto",
         "type": "bar",
         "x": [
          0,
          1,
          2,
          3,
          4,
          5,
          6,
          7,
          8,
          9,
          10,
          11,
          12,
          13,
          14,
          15,
          16,
          17,
          18,
          19,
          20,
          21,
          22,
          23
         ],
         "xaxis": "x",
         "y": [
          0.0001609686025196092,
          6.800326939422334e-05,
          0.00012235067559133932,
          0.0029555653529054924,
          0.014473537395622866,
          0.03239858598184339,
          0.06645626736437896,
          0.1446943907308186,
          0.13803118002141657,
          0.08591648266118077,
          0.05049442109857343,
          0.05290264688659255,
          0.04659421260141753,
          0.040333594176356166,
          0.059034022427566425,
          0.06515236759476259,
          0.050403244885566675,
          0.06495872889572078,
          0.04320826454967695,
          0.0273181154250552,
          0.00809487062067796,
          0.0017006563840612386,
          0.0037334997219723807,
          0.0007940226763284386
         ],
         "yaxis": "y"
        },
        {
         "alignmentgroup": "True",
         "customdata": [
          [
           520.3702253200515,
           2.0
          ],
          [
           587.7833791151987,
           2.0
          ],
          [
           322.70012578798855,
           3.0
          ],
          [
           12143.289638479979,
           24.0
          ],
          [
           82941.44408576244,
           75.0
          ],
          [
           144711.84150243405,
           180.0
          ],
          [
           343063.2400804206,
           528.0
          ],
          [
           717987.758652446,
           1195.0
          ],
          [
           709289.0116873997,
           1266.0
          ],
          [
           392695.23819306894,
           832.0
          ],
          [
           333119.44529938773,
           715.0
          ],
          [
           248148.3519912732,
           591.0
          ],
          [
           267584.47124603036,
           621.0
          ],
          [
           235545.0578396302,
           534.0
          ],
          [
           370969.1493775048,
           579.0
          ],
          [
           258846.5502010793,
           604.0
          ],
          [
           217582.5479308705,
           551.0
          ],
          [
           337519.56819881743,
           708.0
          ],
          [
           213751.3091424961,
           516.0
          ],
          [
           135516.39295514335,
           342.0
          ],
          [
           31678.915869293014,
           144.0
          ],
          [
           20304.20091600431,
           69.0
          ],
          [
           18292.573717580864,
           30.0
          ],
          [
           2205.7586376022605,
           7.0
          ]
         ],
         "hovertemplate": "source=survey (2017/2019)<br>tlvorg_hr=%{x}<br>percentage=%{y}<br>toexpfac=%{customdata[0]}<br>sample_count=%{customdata[1]}<extra></extra>",
         "legendgroup": "survey (2017/2019)",
         "marker": {
          "color": "#00A7A0",
          "pattern": {
           "shape": ""
          }
         },
         "name": "survey (2017/2019)",
         "offsetgroup": "survey (2017/2019)",
         "orientation": "v",
         "showlegend": true,
         "textposition": "auto",
         "type": "bar",
         "x": [
          0,
          1,
          2,
          3,
          4,
          5,
          6,
          7,
          8,
          9,
          10,
          11,
          12,
          13,
          14,
          15,
          16,
          17,
          18,
          19,
          20,
          21,
          22,
          23
         ],
         "xaxis": "x",
         "y": [
          0.00010212695442170168,
          0.00011535734261469593,
          6.333256484449629e-05,
          0.002383220882162913,
          0.016277943409631093,
          0.02840089406020464,
          0.06732899420197548,
          0.14091102744808143,
          0.13920382651382582,
          0.07706968373891218,
          0.06537744235106643,
          0.04870116351881252,
          0.05251566244415842,
          0.046227662951795076,
          0.07280575937455352,
          0.05080077327318541,
          0.042702372031041505,
          0.06624100281039817,
          0.041950459776879924,
          0.026596211338208643,
          0.006217248873381197,
          0.003984867120793629,
          0.0035900686692094887,
          0.0004328983498414635
         ],
         "yaxis": "y"
        },
        {
         "alignmentgroup": "True",
         "customdata": [
          [
           818.5256193266234,
           8.0
          ],
          [
           72.74800084760997,
           4.0
          ],
          [
           13907.131040594093,
           47.0
          ],
          [
           60835.64202104887,
           193.0
          ],
          [
           210793.99623853827,
           614.0
          ],
          [
           463781.3517357327,
           1742.0
          ],
          [
           728580.9263172249,
           3462.0
          ],
          [
           686425.8292300161,
           3437.0
          ],
          [
           515595.76181018155,
           2078.0
          ],
          [
           378753.0073236868,
           1390.0
          ],
          [
           378741.1542697413,
           1253.0
          ],
          [
           278401.2763422068,
           1252.0
          ],
          [
           194406.73941974936,
           1004.0
          ],
          [
           230822.26930435197,
           927.0
          ],
          [
           277120.1887803305,
           1021.0
          ],
          [
           235919.8171498617,
           1105.0
          ],
          [
           410021.9613104888,
           1314.0
          ],
          [
           247964.640927774,
           1373.0
          ],
          [
           148297.12773754026,
           880.0
          ],
          [
           58633.34622816313,
           418.0
          ],
          [
           32946.760561780335,
           185.0
          ],
          [
           9024.61318524568,
           61.0
          ],
          [
           3629.930451363425,
           18.0
          ]
         ],
         "hovertemplate": "source=survey (old weights)<br>tlvorg_hr=%{x}<br>percentage=%{y}<br>toexpfac=%{customdata[0]}<br>sample_count=%{customdata[1]}<extra></extra>",
         "legendgroup": "survey (old weights)",
         "marker": {
          "color": "#F05A28",
          "pattern": {
           "shape": ""
          }
         },
         "name": "survey (old weights)",
         "offsetgroup": "survey (old weights)",
         "orientation": "v",
         "showlegend": true,
         "textposition": "auto",
         "type": "bar",
         "x": [
          0,
          2,
          3,
          4,
          5,
          6,
          7,
          8,
          9,
          10,
          11,
          12,
          13,
          14,
          15,
          16,
          17,
          18,
          19,
          20,
          21,
          22,
          23
         ],
         "xaxis": "x",
         "y": [
          0.00014707149262177074,
          1.3071254970259475e-05,
          0.0024988130755264266,
          0.010930859664478139,
          0.037875158615088916,
          0.08333155864569051,
          0.1309103610188507,
          0.12333599449464605,
          0.0926414964766344,
          0.0680537894072331,
          0.06805165966774208,
          0.05002273635996704,
          0.03493072014742275,
          0.04147380958565826,
          0.04979255241036833,
          0.04238972956745036,
          0.07367214957455898,
          0.04455392598300187,
          0.026645812193177423,
          0.010535154359956563,
          0.005919826012116024,
          0.0016215293695756217,
          0.0006522206232645803
         ],
         "yaxis": "y"
        }
       ],
       "layout": {
        "barmode": "group",
        "font": {
         "size": 11
        },
        "height": 400,
        "legend": {
         "title": {
          "text": "source"
         },
         "tracegroupgap": 0
        },
        "template": {
         "data": {
          "bar": [
           {
            "error_x": {
             "color": "rgb(36,36,36)"
            },
            "error_y": {
             "color": "rgb(36,36,36)"
            },
            "marker": {
             "line": {
              "color": "white",
              "width": 0.5
             },
             "pattern": {
              "fillmode": "overlay",
              "size": 10,
              "solidity": 0.2
             }
            },
            "type": "bar"
           }
          ],
          "barpolar": [
           {
            "marker": {
             "line": {
              "color": "white",
              "width": 0.5
             },
             "pattern": {
              "fillmode": "overlay",
              "size": 10,
              "solidity": 0.2
             }
            },
            "type": "barpolar"
           }
          ],
          "carpet": [
           {
            "aaxis": {
             "endlinecolor": "rgb(36,36,36)",
             "gridcolor": "white",
             "linecolor": "white",
             "minorgridcolor": "white",
             "startlinecolor": "rgb(36,36,36)"
            },
            "baxis": {
             "endlinecolor": "rgb(36,36,36)",
             "gridcolor": "white",
             "linecolor": "white",
             "minorgridcolor": "white",
             "startlinecolor": "rgb(36,36,36)"
            },
            "type": "carpet"
           }
          ],
          "choropleth": [
           {
            "colorbar": {
             "outlinewidth": 1,
             "tickcolor": "rgb(36,36,36)",
             "ticks": "outside"
            },
            "type": "choropleth"
           }
          ],
          "contour": [
           {
            "colorbar": {
             "outlinewidth": 1,
             "tickcolor": "rgb(36,36,36)",
             "ticks": "outside"
            },
            "colorscale": [
             [
              0.0,
              "#440154"
             ],
             [
              0.1111111111111111,
              "#482878"
             ],
             [
              0.2222222222222222,
              "#3e4989"
             ],
             [
              0.3333333333333333,
              "#31688e"
             ],
             [
              0.4444444444444444,
              "#26828e"
             ],
             [
              0.5555555555555556,
              "#1f9e89"
             ],
             [
              0.6666666666666666,
              "#35b779"
             ],
             [
              0.7777777777777778,
              "#6ece58"
             ],
             [
              0.8888888888888888,
              "#b5de2b"
             ],
             [
              1.0,
              "#fde725"
             ]
            ],
            "type": "contour"
           }
          ],
          "contourcarpet": [
           {
            "colorbar": {
             "outlinewidth": 1,
             "tickcolor": "rgb(36,36,36)",
             "ticks": "outside"
            },
            "type": "contourcarpet"
           }
          ],
          "heatmap": [
           {
            "colorbar": {
             "outlinewidth": 1,
             "tickcolor": "rgb(36,36,36)",
             "ticks": "outside"
            },
            "colorscale": [
             [
              0.0,
              "#440154"
             ],
             [
              0.1111111111111111,
              "#482878"
             ],
             [
              0.2222222222222222,
              "#3e4989"
             ],
             [
              0.3333333333333333,
              "#31688e"
             ],
             [
              0.4444444444444444,
              "#26828e"
             ],
             [
              0.5555555555555556,
              "#1f9e89"
             ],
             [
              0.6666666666666666,
              "#35b779"
             ],
             [
              0.7777777777777778,
              "#6ece58"
             ],
             [
              0.8888888888888888,
              "#b5de2b"
             ],
             [
              1.0,
              "#fde725"
             ]
            ],
            "type": "heatmap"
           }
          ],
          "heatmapgl": [
           {
            "colorbar": {
             "outlinewidth": 1,
             "tickcolor": "rgb(36,36,36)",
             "ticks": "outside"
            },
            "colorscale": [
             [
              0.0,
              "#440154"
             ],
             [
              0.1111111111111111,
              "#482878"
             ],
             [
              0.2222222222222222,
              "#3e4989"
             ],
             [
              0.3333333333333333,
              "#31688e"
             ],
             [
              0.4444444444444444,
              "#26828e"
             ],
             [
              0.5555555555555556,
              "#1f9e89"
             ],
             [
              0.6666666666666666,
              "#35b779"
             ],
             [
              0.7777777777777778,
              "#6ece58"
             ],
             [
              0.8888888888888888,
              "#b5de2b"
             ],
             [
              1.0,
              "#fde725"
             ]
            ],
            "type": "heatmapgl"
           }
          ],
          "histogram": [
           {
            "marker": {
             "line": {
              "color": "white",
              "width": 0.6
             }
            },
            "type": "histogram"
           }
          ],
          "histogram2d": [
           {
            "colorbar": {
             "outlinewidth": 1,
             "tickcolor": "rgb(36,36,36)",
             "ticks": "outside"
            },
            "colorscale": [
             [
              0.0,
              "#440154"
             ],
             [
              0.1111111111111111,
              "#482878"
             ],
             [
              0.2222222222222222,
              "#3e4989"
             ],
             [
              0.3333333333333333,
              "#31688e"
             ],
             [
              0.4444444444444444,
              "#26828e"
             ],
             [
              0.5555555555555556,
              "#1f9e89"
             ],
             [
              0.6666666666666666,
              "#35b779"
             ],
             [
              0.7777777777777778,
              "#6ece58"
             ],
             [
              0.8888888888888888,
              "#b5de2b"
             ],
             [
              1.0,
              "#fde725"
             ]
            ],
            "type": "histogram2d"
           }
          ],
          "histogram2dcontour": [
           {
            "colorbar": {
             "outlinewidth": 1,
             "tickcolor": "rgb(36,36,36)",
             "ticks": "outside"
            },
            "colorscale": [
             [
              0.0,
              "#440154"
             ],
             [
              0.1111111111111111,
              "#482878"
             ],
             [
              0.2222222222222222,
              "#3e4989"
             ],
             [
              0.3333333333333333,
              "#31688e"
             ],
             [
              0.4444444444444444,
              "#26828e"
             ],
             [
              0.5555555555555556,
              "#1f9e89"
             ],
             [
              0.6666666666666666,
              "#35b779"
             ],
             [
              0.7777777777777778,
              "#6ece58"
             ],
             [
              0.8888888888888888,
              "#b5de2b"
             ],
             [
              1.0,
              "#fde725"
             ]
            ],
            "type": "histogram2dcontour"
           }
          ],
          "mesh3d": [
           {
            "colorbar": {
             "outlinewidth": 1,
             "tickcolor": "rgb(36,36,36)",
             "ticks": "outside"
            },
            "type": "mesh3d"
           }
          ],
          "parcoords": [
           {
            "line": {
             "colorbar": {
              "outlinewidth": 1,
              "tickcolor": "rgb(36,36,36)",
              "ticks": "outside"
             }
            },
            "type": "parcoords"
           }
          ],
          "pie": [
           {
            "automargin": true,
            "type": "pie"
           }
          ],
          "scatter": [
           {
            "fillpattern": {
             "fillmode": "overlay",
             "size": 10,
             "solidity": 0.2
            },
            "type": "scatter"
           }
          ],
          "scatter3d": [
           {
            "line": {
             "colorbar": {
              "outlinewidth": 1,
              "tickcolor": "rgb(36,36,36)",
              "ticks": "outside"
             }
            },
            "marker": {
             "colorbar": {
              "outlinewidth": 1,
              "tickcolor": "rgb(36,36,36)",
              "ticks": "outside"
             }
            },
            "type": "scatter3d"
           }
          ],
          "scattercarpet": [
           {
            "marker": {
             "colorbar": {
              "outlinewidth": 1,
              "tickcolor": "rgb(36,36,36)",
              "ticks": "outside"
             }
            },
            "type": "scattercarpet"
           }
          ],
          "scattergeo": [
           {
            "marker": {
             "colorbar": {
              "outlinewidth": 1,
              "tickcolor": "rgb(36,36,36)",
              "ticks": "outside"
             }
            },
            "type": "scattergeo"
           }
          ],
          "scattergl": [
           {
            "marker": {
             "colorbar": {
              "outlinewidth": 1,
              "tickcolor": "rgb(36,36,36)",
              "ticks": "outside"
             }
            },
            "type": "scattergl"
           }
          ],
          "scattermapbox": [
           {
            "marker": {
             "colorbar": {
              "outlinewidth": 1,
              "tickcolor": "rgb(36,36,36)",
              "ticks": "outside"
             }
            },
            "type": "scattermapbox"
           }
          ],
          "scatterpolar": [
           {
            "marker": {
             "colorbar": {
              "outlinewidth": 1,
              "tickcolor": "rgb(36,36,36)",
              "ticks": "outside"
             }
            },
            "type": "scatterpolar"
           }
          ],
          "scatterpolargl": [
           {
            "marker": {
             "colorbar": {
              "outlinewidth": 1,
              "tickcolor": "rgb(36,36,36)",
              "ticks": "outside"
             }
            },
            "type": "scatterpolargl"
           }
          ],
          "scatterternary": [
           {
            "marker": {
             "colorbar": {
              "outlinewidth": 1,
              "tickcolor": "rgb(36,36,36)",
              "ticks": "outside"
             }
            },
            "type": "scatterternary"
           }
          ],
          "surface": [
           {
            "colorbar": {
             "outlinewidth": 1,
             "tickcolor": "rgb(36,36,36)",
             "ticks": "outside"
            },
            "colorscale": [
             [
              0.0,
              "#440154"
             ],
             [
              0.1111111111111111,
              "#482878"
             ],
             [
              0.2222222222222222,
              "#3e4989"
             ],
             [
              0.3333333333333333,
              "#31688e"
             ],
             [
              0.4444444444444444,
              "#26828e"
             ],
             [
              0.5555555555555556,
              "#1f9e89"
             ],
             [
              0.6666666666666666,
              "#35b779"
             ],
             [
              0.7777777777777778,
              "#6ece58"
             ],
             [
              0.8888888888888888,
              "#b5de2b"
             ],
             [
              1.0,
              "#fde725"
             ]
            ],
            "type": "surface"
           }
          ],
          "table": [
           {
            "cells": {
             "fill": {
              "color": "rgb(237,237,237)"
             },
             "line": {
              "color": "white"
             }
            },
            "header": {
             "fill": {
              "color": "rgb(217,217,217)"
             },
             "line": {
              "color": "white"
             }
            },
            "type": "table"
           }
          ]
         },
         "layout": {
          "annotationdefaults": {
           "arrowhead": 0,
           "arrowwidth": 1
          },
          "autotypenumbers": "strict",
          "coloraxis": {
           "colorbar": {
            "outlinewidth": 1,
            "tickcolor": "rgb(36,36,36)",
            "ticks": "outside"
           }
          },
          "colorscale": {
           "diverging": [
            [
             0.0,
             "rgb(103,0,31)"
            ],
            [
             0.1,
             "rgb(178,24,43)"
            ],
            [
             0.2,
             "rgb(214,96,77)"
            ],
            [
             0.3,
             "rgb(244,165,130)"
            ],
            [
             0.4,
             "rgb(253,219,199)"
            ],
            [
             0.5,
             "rgb(247,247,247)"
            ],
            [
             0.6,
             "rgb(209,229,240)"
            ],
            [
             0.7,
             "rgb(146,197,222)"
            ],
            [
             0.8,
             "rgb(67,147,195)"
            ],
            [
             0.9,
             "rgb(33,102,172)"
            ],
            [
             1.0,
             "rgb(5,48,97)"
            ]
           ],
           "sequential": [
            [
             0.0,
             "#440154"
            ],
            [
             0.1111111111111111,
             "#482878"
            ],
            [
             0.2222222222222222,
             "#3e4989"
            ],
            [
             0.3333333333333333,
             "#31688e"
            ],
            [
             0.4444444444444444,
             "#26828e"
            ],
            [
             0.5555555555555556,
             "#1f9e89"
            ],
            [
             0.6666666666666666,
             "#35b779"
            ],
            [
             0.7777777777777778,
             "#6ece58"
            ],
            [
             0.8888888888888888,
             "#b5de2b"
            ],
            [
             1.0,
             "#fde725"
            ]
           ],
           "sequentialminus": [
            [
             0.0,
             "#440154"
            ],
            [
             0.1111111111111111,
             "#482878"
            ],
            [
             0.2222222222222222,
             "#3e4989"
            ],
            [
             0.3333333333333333,
             "#31688e"
            ],
            [
             0.4444444444444444,
             "#26828e"
            ],
            [
             0.5555555555555556,
             "#1f9e89"
            ],
            [
             0.6666666666666666,
             "#35b779"
            ],
            [
             0.7777777777777778,
             "#6ece58"
            ],
            [
             0.8888888888888888,
             "#b5de2b"
            ],
            [
             1.0,
             "#fde725"
            ]
           ]
          },
          "colorway": [
           "#91268F",
           "#8CC63E",
           "#00A7A0",
           "#F05A28",
           "#4C4C4C",
           "#630460",
           "#9f3913",
           "#588527",
           "#00716c",
           "#3e4040"
          ],
          "font": {
           "color": "rgb(36,36,36)",
           "family": "Poppins",
           "size": 11
          },
          "geo": {
           "bgcolor": "white",
           "lakecolor": "white",
           "landcolor": "white",
           "showlakes": true,
           "showland": true,
           "subunitcolor": "white"
          },
          "hoverlabel": {
           "align": "left"
          },
          "hovermode": "closest",
          "mapbox": {
           "style": "light"
          },
          "paper_bgcolor": "white",
          "plot_bgcolor": "white",
          "polar": {
           "angularaxis": {
            "gridcolor": "rgb(232,232,232)",
            "linecolor": "rgb(36,36,36)",
            "showgrid": false,
            "showline": true,
            "ticks": "outside"
           },
           "bgcolor": "white",
           "radialaxis": {
            "gridcolor": "rgb(232,232,232)",
            "linecolor": "rgb(36,36,36)",
            "showgrid": false,
            "showline": true,
            "ticks": "outside"
           }
          },
          "scene": {
           "xaxis": {
            "backgroundcolor": "white",
            "gridcolor": "rgb(232,232,232)",
            "gridwidth": 2,
            "linecolor": "rgb(36,36,36)",
            "showbackground": true,
            "showgrid": false,
            "showline": true,
            "ticks": "outside",
            "zeroline": false,
            "zerolinecolor": "rgb(36,36,36)"
           },
           "yaxis": {
            "backgroundcolor": "white",
            "gridcolor": "rgb(232,232,232)",
            "gridwidth": 2,
            "linecolor": "rgb(36,36,36)",
            "showbackground": true,
            "showgrid": false,
            "showline": true,
            "ticks": "outside",
            "zeroline": false,
            "zerolinecolor": "rgb(36,36,36)"
           },
           "zaxis": {
            "backgroundcolor": "white",
            "gridcolor": "rgb(232,232,232)",
            "gridwidth": 2,
            "linecolor": "rgb(36,36,36)",
            "showbackground": true,
            "showgrid": false,
            "showline": true,
            "ticks": "outside",
            "zeroline": false,
            "zerolinecolor": "rgb(36,36,36)"
           }
          },
          "shapedefaults": {
           "fillcolor": "black",
           "line": {
            "width": 0
           },
           "opacity": 0.3
          },
          "ternary": {
           "aaxis": {
            "gridcolor": "rgb(232,232,232)",
            "linecolor": "rgb(36,36,36)",
            "showgrid": false,
            "showline": true,
            "ticks": "outside"
           },
           "baxis": {
            "gridcolor": "rgb(232,232,232)",
            "linecolor": "rgb(36,36,36)",
            "showgrid": false,
            "showline": true,
            "ticks": "outside"
           },
           "bgcolor": "white",
           "caxis": {
            "gridcolor": "rgb(232,232,232)",
            "linecolor": "rgb(36,36,36)",
            "showgrid": false,
            "showline": true,
            "ticks": "outside"
           }
          },
          "title": {
           "x": 0.05
          },
          "xaxis": {
           "automargin": true,
           "gridcolor": "rgb(232,232,232)",
           "linecolor": "rgb(36,36,36)",
           "showgrid": false,
           "showline": true,
           "ticks": "outside",
           "title": {
            "standoff": 15
           },
           "zeroline": false,
           "zerolinecolor": "rgb(36,36,36)"
          },
          "yaxis": {
           "automargin": true,
           "gridcolor": "rgb(232,232,232)",
           "linecolor": "rgb(36,36,36)",
           "showgrid": false,
           "showline": true,
           "ticks": "outside",
           "title": {
            "standoff": 15
           },
           "zeroline": false,
           "zerolinecolor": "rgb(36,36,36)"
          }
         }
        },
        "title": {
         "text": "tour origin departure hour"
        },
        "width": 700,
        "xaxis": {
         "anchor": "y",
         "categoryorder": "category ascending",
         "domain": [
          0.0,
          1.0
         ],
         "dtick": 1,
         "title": {
          "text": "tlvorg_hr"
         }
        },
        "yaxis": {
         "anchor": "x",
         "domain": [
          0.0,
          1.0
         ],
         "tickformat": ".0%",
         "title": {
          "text": "percentage"
         }
        }
       }
      },
      "text/html": [
       "<div>                            <div id=\"d886bf44-e719-4625-ba20-c310f029d07a\" class=\"plotly-graph-div\" style=\"height:400px; width:700px;\"></div>            <script type=\"text/javascript\">                require([\"plotly\"], function(Plotly) {                    window.PLOTLYENV=window.PLOTLYENV || {};                                    if (document.getElementById(\"d886bf44-e719-4625-ba20-c310f029d07a\")) {                    Plotly.newPlot(                        \"d886bf44-e719-4625-ba20-c310f029d07a\",                        [{\"alignmentgroup\":\"True\",\"customdata\":[[2037.0,2037.0],[1355.0,1355.0],[523.0,523.0],[36392.0,36392.0],[31748.0,31748.0],[70823.0,70823.0],[200849.0,200849.0],[326457.0,326457.0],[361427.0,361427.0],[293696.0,293696.0],[253300.0,253300.0],[214778.0,214778.0],[202830.0,202830.0],[182874.0,182874.0],[164207.0,164207.0],[149738.0,149738.0],[160705.0,160705.0],[155822.0,155822.0],[144766.0,144767.0],[86918.0,86918.0],[67101.0,67101.0],[42406.0,42406.0],[10144.0,10144.0],[4934.0,4934.0]],\"hovertemplate\":\"source=model\\u003cbr\\u003etlvorg_hr=%{x}\\u003cbr\\u003epercentage=%{y}\\u003cbr\\u003etoexpfac=%{customdata[0]}\\u003cbr\\u003esample_count=%{customdata[1]}\\u003cextra\\u003e\\u003c\\u002fextra\\u003e\",\"legendgroup\":\"model\",\"marker\":{\"color\":\"#91268F\",\"pattern\":{\"shape\":\"\"}},\"name\":\"model\",\"offsetgroup\":\"model\",\"orientation\":\"v\",\"showlegend\":true,\"textposition\":\"auto\",\"x\":[0,1,2,3,4,5,6,7,8,9,10,11,12,13,14,15,16,17,18,19,20,21,22,23],\"xaxis\":\"x\",\"y\":[0.0006434331597085125,0.00042800782101376256,0.00016520154272339324,0.011495247691758559,0.01002833380187818,0.022371068566537054,0.06344276224560384,0.1031189293171143,0.1141650057015064,0.09277061623650038,0.08001061333046942,0.06784255629645307,0.06406850652119665,0.05776494631739544,0.05186854632118591,0.04729818088779246,0.05076235931809352,0.04921995179779078,0.04572766067666299,0.027455043385147024,0.021195389518704415,0.013394907496612263,0.0032042150083864264,0.0015585170397652433],\"yaxis\":\"y\",\"type\":\"bar\"},{\"alignmentgroup\":\"True\",\"customdata\":[[943.0980027856076,3.0],[398.42395687550857,2.0],[716.8396568244124,3.0],[17316.34454046993,25.0],[84798.92350057453,78.0],[189819.885706171,191.0],[389360.2357409862,553.0],[847749.1186263587,1232.0],[808710.0724160195,1310.0],[503375.5771983736,873.0],[295841.46811536636,740.0],[309951.0080839509,625.0],[272990.55938819953,650.0],[236310.25875529269,564.0],[345874.08834003104,602.0],[381720.82501548145,629.0],[295307.2763348435,576.0],[380586.3163754746,738.0],[253152.64817353673,539.0],[160053.9465085915,361.0],[47426.99008174137,149.0],[9963.965730753995,72.0],[21874.17966037096,32.0],[4652.094809114153,10.0]],\"hovertemplate\":\"source=survey\\u003cbr\\u003etlvorg_hr=%{x}\\u003cbr\\u003epercentage=%{y}\\u003cbr\\u003etoexpfac=%{customdata[0]}\\u003cbr\\u003esample_count=%{customdata[1]}\\u003cextra\\u003e\\u003c\\u002fextra\\u003e\",\"legendgroup\":\"survey\",\"marker\":{\"color\":\"#8CC63E\",\"pattern\":{\"shape\":\"\"}},\"name\":\"survey\",\"offsetgroup\":\"survey\",\"orientation\":\"v\",\"showlegend\":true,\"textposition\":\"auto\",\"x\":[0,1,2,3,4,5,6,7,8,9,10,11,12,13,14,15,16,17,18,19,20,21,22,23],\"xaxis\":\"x\",\"y\":[0.0001609686025196092,6.800326939422334e-05,0.00012235067559133932,0.0029555653529054924,0.014473537395622866,0.03239858598184339,0.06645626736437896,0.1446943907308186,0.13803118002141657,0.08591648266118077,0.05049442109857343,0.05290264688659255,0.04659421260141753,0.040333594176356166,0.059034022427566425,0.06515236759476259,0.050403244885566675,0.06495872889572078,0.04320826454967695,0.0273181154250552,0.00809487062067796,0.0017006563840612386,0.0037334997219723807,0.0007940226763284386],\"yaxis\":\"y\",\"type\":\"bar\"},{\"alignmentgroup\":\"True\",\"customdata\":[[520.3702253200515,2.0],[587.7833791151987,2.0],[322.70012578798855,3.0],[12143.289638479979,24.0],[82941.44408576244,75.0],[144711.84150243405,180.0],[343063.2400804206,528.0],[717987.758652446,1195.0],[709289.0116873997,1266.0],[392695.23819306894,832.0],[333119.44529938773,715.0],[248148.3519912732,591.0],[267584.47124603036,621.0],[235545.0578396302,534.0],[370969.1493775048,579.0],[258846.5502010793,604.0],[217582.5479308705,551.0],[337519.56819881743,708.0],[213751.3091424961,516.0],[135516.39295514335,342.0],[31678.915869293014,144.0],[20304.20091600431,69.0],[18292.573717580864,30.0],[2205.7586376022605,7.0]],\"hovertemplate\":\"source=survey (2017\\u002f2019)\\u003cbr\\u003etlvorg_hr=%{x}\\u003cbr\\u003epercentage=%{y}\\u003cbr\\u003etoexpfac=%{customdata[0]}\\u003cbr\\u003esample_count=%{customdata[1]}\\u003cextra\\u003e\\u003c\\u002fextra\\u003e\",\"legendgroup\":\"survey (2017\\u002f2019)\",\"marker\":{\"color\":\"#00A7A0\",\"pattern\":{\"shape\":\"\"}},\"name\":\"survey (2017\\u002f2019)\",\"offsetgroup\":\"survey (2017\\u002f2019)\",\"orientation\":\"v\",\"showlegend\":true,\"textposition\":\"auto\",\"x\":[0,1,2,3,4,5,6,7,8,9,10,11,12,13,14,15,16,17,18,19,20,21,22,23],\"xaxis\":\"x\",\"y\":[0.00010212695442170168,0.00011535734261469593,6.333256484449629e-05,0.002383220882162913,0.016277943409631093,0.02840089406020464,0.06732899420197548,0.14091102744808143,0.13920382651382582,0.07706968373891218,0.06537744235106643,0.04870116351881252,0.05251566244415842,0.046227662951795076,0.07280575937455352,0.05080077327318541,0.042702372031041505,0.06624100281039817,0.041950459776879924,0.026596211338208643,0.006217248873381197,0.003984867120793629,0.0035900686692094887,0.0004328983498414635],\"yaxis\":\"y\",\"type\":\"bar\"},{\"alignmentgroup\":\"True\",\"customdata\":[[818.5256193266234,8.0],[72.74800084760997,4.0],[13907.131040594093,47.0],[60835.64202104887,193.0],[210793.99623853827,614.0],[463781.3517357327,1742.0],[728580.9263172249,3462.0],[686425.8292300161,3437.0],[515595.76181018155,2078.0],[378753.0073236868,1390.0],[378741.1542697413,1253.0],[278401.2763422068,1252.0],[194406.73941974936,1004.0],[230822.26930435197,927.0],[277120.1887803305,1021.0],[235919.8171498617,1105.0],[410021.9613104888,1314.0],[247964.640927774,1373.0],[148297.12773754026,880.0],[58633.34622816313,418.0],[32946.760561780335,185.0],[9024.61318524568,61.0],[3629.930451363425,18.0]],\"hovertemplate\":\"source=survey (old weights)\\u003cbr\\u003etlvorg_hr=%{x}\\u003cbr\\u003epercentage=%{y}\\u003cbr\\u003etoexpfac=%{customdata[0]}\\u003cbr\\u003esample_count=%{customdata[1]}\\u003cextra\\u003e\\u003c\\u002fextra\\u003e\",\"legendgroup\":\"survey (old weights)\",\"marker\":{\"color\":\"#F05A28\",\"pattern\":{\"shape\":\"\"}},\"name\":\"survey (old weights)\",\"offsetgroup\":\"survey (old weights)\",\"orientation\":\"v\",\"showlegend\":true,\"textposition\":\"auto\",\"x\":[0,2,3,4,5,6,7,8,9,10,11,12,13,14,15,16,17,18,19,20,21,22,23],\"xaxis\":\"x\",\"y\":[0.00014707149262177074,1.3071254970259475e-05,0.0024988130755264266,0.010930859664478139,0.037875158615088916,0.08333155864569051,0.1309103610188507,0.12333599449464605,0.0926414964766344,0.0680537894072331,0.06805165966774208,0.05002273635996704,0.03493072014742275,0.04147380958565826,0.04979255241036833,0.04238972956745036,0.07367214957455898,0.04455392598300187,0.026645812193177423,0.010535154359956563,0.005919826012116024,0.0016215293695756217,0.0006522206232645803],\"yaxis\":\"y\",\"type\":\"bar\"}],                        {\"template\":{\"data\":{\"barpolar\":[{\"marker\":{\"line\":{\"color\":\"white\",\"width\":0.5},\"pattern\":{\"fillmode\":\"overlay\",\"size\":10,\"solidity\":0.2}},\"type\":\"barpolar\"}],\"bar\":[{\"error_x\":{\"color\":\"rgb(36,36,36)\"},\"error_y\":{\"color\":\"rgb(36,36,36)\"},\"marker\":{\"line\":{\"color\":\"white\",\"width\":0.5},\"pattern\":{\"fillmode\":\"overlay\",\"size\":10,\"solidity\":0.2}},\"type\":\"bar\"}],\"carpet\":[{\"aaxis\":{\"endlinecolor\":\"rgb(36,36,36)\",\"gridcolor\":\"white\",\"linecolor\":\"white\",\"minorgridcolor\":\"white\",\"startlinecolor\":\"rgb(36,36,36)\"},\"baxis\":{\"endlinecolor\":\"rgb(36,36,36)\",\"gridcolor\":\"white\",\"linecolor\":\"white\",\"minorgridcolor\":\"white\",\"startlinecolor\":\"rgb(36,36,36)\"},\"type\":\"carpet\"}],\"choropleth\":[{\"colorbar\":{\"outlinewidth\":1,\"tickcolor\":\"rgb(36,36,36)\",\"ticks\":\"outside\"},\"type\":\"choropleth\"}],\"contourcarpet\":[{\"colorbar\":{\"outlinewidth\":1,\"tickcolor\":\"rgb(36,36,36)\",\"ticks\":\"outside\"},\"type\":\"contourcarpet\"}],\"contour\":[{\"colorbar\":{\"outlinewidth\":1,\"tickcolor\":\"rgb(36,36,36)\",\"ticks\":\"outside\"},\"colorscale\":[[0.0,\"#440154\"],[0.1111111111111111,\"#482878\"],[0.2222222222222222,\"#3e4989\"],[0.3333333333333333,\"#31688e\"],[0.4444444444444444,\"#26828e\"],[0.5555555555555556,\"#1f9e89\"],[0.6666666666666666,\"#35b779\"],[0.7777777777777778,\"#6ece58\"],[0.8888888888888888,\"#b5de2b\"],[1.0,\"#fde725\"]],\"type\":\"contour\"}],\"heatmapgl\":[{\"colorbar\":{\"outlinewidth\":1,\"tickcolor\":\"rgb(36,36,36)\",\"ticks\":\"outside\"},\"colorscale\":[[0.0,\"#440154\"],[0.1111111111111111,\"#482878\"],[0.2222222222222222,\"#3e4989\"],[0.3333333333333333,\"#31688e\"],[0.4444444444444444,\"#26828e\"],[0.5555555555555556,\"#1f9e89\"],[0.6666666666666666,\"#35b779\"],[0.7777777777777778,\"#6ece58\"],[0.8888888888888888,\"#b5de2b\"],[1.0,\"#fde725\"]],\"type\":\"heatmapgl\"}],\"heatmap\":[{\"colorbar\":{\"outlinewidth\":1,\"tickcolor\":\"rgb(36,36,36)\",\"ticks\":\"outside\"},\"colorscale\":[[0.0,\"#440154\"],[0.1111111111111111,\"#482878\"],[0.2222222222222222,\"#3e4989\"],[0.3333333333333333,\"#31688e\"],[0.4444444444444444,\"#26828e\"],[0.5555555555555556,\"#1f9e89\"],[0.6666666666666666,\"#35b779\"],[0.7777777777777778,\"#6ece58\"],[0.8888888888888888,\"#b5de2b\"],[1.0,\"#fde725\"]],\"type\":\"heatmap\"}],\"histogram2dcontour\":[{\"colorbar\":{\"outlinewidth\":1,\"tickcolor\":\"rgb(36,36,36)\",\"ticks\":\"outside\"},\"colorscale\":[[0.0,\"#440154\"],[0.1111111111111111,\"#482878\"],[0.2222222222222222,\"#3e4989\"],[0.3333333333333333,\"#31688e\"],[0.4444444444444444,\"#26828e\"],[0.5555555555555556,\"#1f9e89\"],[0.6666666666666666,\"#35b779\"],[0.7777777777777778,\"#6ece58\"],[0.8888888888888888,\"#b5de2b\"],[1.0,\"#fde725\"]],\"type\":\"histogram2dcontour\"}],\"histogram2d\":[{\"colorbar\":{\"outlinewidth\":1,\"tickcolor\":\"rgb(36,36,36)\",\"ticks\":\"outside\"},\"colorscale\":[[0.0,\"#440154\"],[0.1111111111111111,\"#482878\"],[0.2222222222222222,\"#3e4989\"],[0.3333333333333333,\"#31688e\"],[0.4444444444444444,\"#26828e\"],[0.5555555555555556,\"#1f9e89\"],[0.6666666666666666,\"#35b779\"],[0.7777777777777778,\"#6ece58\"],[0.8888888888888888,\"#b5de2b\"],[1.0,\"#fde725\"]],\"type\":\"histogram2d\"}],\"histogram\":[{\"marker\":{\"line\":{\"color\":\"white\",\"width\":0.6}},\"type\":\"histogram\"}],\"mesh3d\":[{\"colorbar\":{\"outlinewidth\":1,\"tickcolor\":\"rgb(36,36,36)\",\"ticks\":\"outside\"},\"type\":\"mesh3d\"}],\"parcoords\":[{\"line\":{\"colorbar\":{\"outlinewidth\":1,\"tickcolor\":\"rgb(36,36,36)\",\"ticks\":\"outside\"}},\"type\":\"parcoords\"}],\"pie\":[{\"automargin\":true,\"type\":\"pie\"}],\"scatter3d\":[{\"line\":{\"colorbar\":{\"outlinewidth\":1,\"tickcolor\":\"rgb(36,36,36)\",\"ticks\":\"outside\"}},\"marker\":{\"colorbar\":{\"outlinewidth\":1,\"tickcolor\":\"rgb(36,36,36)\",\"ticks\":\"outside\"}},\"type\":\"scatter3d\"}],\"scattercarpet\":[{\"marker\":{\"colorbar\":{\"outlinewidth\":1,\"tickcolor\":\"rgb(36,36,36)\",\"ticks\":\"outside\"}},\"type\":\"scattercarpet\"}],\"scattergeo\":[{\"marker\":{\"colorbar\":{\"outlinewidth\":1,\"tickcolor\":\"rgb(36,36,36)\",\"ticks\":\"outside\"}},\"type\":\"scattergeo\"}],\"scattergl\":[{\"marker\":{\"colorbar\":{\"outlinewidth\":1,\"tickcolor\":\"rgb(36,36,36)\",\"ticks\":\"outside\"}},\"type\":\"scattergl\"}],\"scattermapbox\":[{\"marker\":{\"colorbar\":{\"outlinewidth\":1,\"tickcolor\":\"rgb(36,36,36)\",\"ticks\":\"outside\"}},\"type\":\"scattermapbox\"}],\"scatterpolargl\":[{\"marker\":{\"colorbar\":{\"outlinewidth\":1,\"tickcolor\":\"rgb(36,36,36)\",\"ticks\":\"outside\"}},\"type\":\"scatterpolargl\"}],\"scatterpolar\":[{\"marker\":{\"colorbar\":{\"outlinewidth\":1,\"tickcolor\":\"rgb(36,36,36)\",\"ticks\":\"outside\"}},\"type\":\"scatterpolar\"}],\"scatter\":[{\"fillpattern\":{\"fillmode\":\"overlay\",\"size\":10,\"solidity\":0.2},\"type\":\"scatter\"}],\"scatterternary\":[{\"marker\":{\"colorbar\":{\"outlinewidth\":1,\"tickcolor\":\"rgb(36,36,36)\",\"ticks\":\"outside\"}},\"type\":\"scatterternary\"}],\"surface\":[{\"colorbar\":{\"outlinewidth\":1,\"tickcolor\":\"rgb(36,36,36)\",\"ticks\":\"outside\"},\"colorscale\":[[0.0,\"#440154\"],[0.1111111111111111,\"#482878\"],[0.2222222222222222,\"#3e4989\"],[0.3333333333333333,\"#31688e\"],[0.4444444444444444,\"#26828e\"],[0.5555555555555556,\"#1f9e89\"],[0.6666666666666666,\"#35b779\"],[0.7777777777777778,\"#6ece58\"],[0.8888888888888888,\"#b5de2b\"],[1.0,\"#fde725\"]],\"type\":\"surface\"}],\"table\":[{\"cells\":{\"fill\":{\"color\":\"rgb(237,237,237)\"},\"line\":{\"color\":\"white\"}},\"header\":{\"fill\":{\"color\":\"rgb(217,217,217)\"},\"line\":{\"color\":\"white\"}},\"type\":\"table\"}]},\"layout\":{\"annotationdefaults\":{\"arrowhead\":0,\"arrowwidth\":1},\"autotypenumbers\":\"strict\",\"coloraxis\":{\"colorbar\":{\"outlinewidth\":1,\"tickcolor\":\"rgb(36,36,36)\",\"ticks\":\"outside\"}},\"colorscale\":{\"diverging\":[[0.0,\"rgb(103,0,31)\"],[0.1,\"rgb(178,24,43)\"],[0.2,\"rgb(214,96,77)\"],[0.3,\"rgb(244,165,130)\"],[0.4,\"rgb(253,219,199)\"],[0.5,\"rgb(247,247,247)\"],[0.6,\"rgb(209,229,240)\"],[0.7,\"rgb(146,197,222)\"],[0.8,\"rgb(67,147,195)\"],[0.9,\"rgb(33,102,172)\"],[1.0,\"rgb(5,48,97)\"]],\"sequential\":[[0.0,\"#440154\"],[0.1111111111111111,\"#482878\"],[0.2222222222222222,\"#3e4989\"],[0.3333333333333333,\"#31688e\"],[0.4444444444444444,\"#26828e\"],[0.5555555555555556,\"#1f9e89\"],[0.6666666666666666,\"#35b779\"],[0.7777777777777778,\"#6ece58\"],[0.8888888888888888,\"#b5de2b\"],[1.0,\"#fde725\"]],\"sequentialminus\":[[0.0,\"#440154\"],[0.1111111111111111,\"#482878\"],[0.2222222222222222,\"#3e4989\"],[0.3333333333333333,\"#31688e\"],[0.4444444444444444,\"#26828e\"],[0.5555555555555556,\"#1f9e89\"],[0.6666666666666666,\"#35b779\"],[0.7777777777777778,\"#6ece58\"],[0.8888888888888888,\"#b5de2b\"],[1.0,\"#fde725\"]]},\"colorway\":[\"#91268F\",\"#8CC63E\",\"#00A7A0\",\"#F05A28\",\"#4C4C4C\",\"#630460\",\"#9f3913\",\"#588527\",\"#00716c\",\"#3e4040\"],\"font\":{\"color\":\"rgb(36,36,36)\",\"family\":\"Poppins\",\"size\":11},\"geo\":{\"bgcolor\":\"white\",\"lakecolor\":\"white\",\"landcolor\":\"white\",\"showlakes\":true,\"showland\":true,\"subunitcolor\":\"white\"},\"hoverlabel\":{\"align\":\"left\"},\"hovermode\":\"closest\",\"mapbox\":{\"style\":\"light\"},\"paper_bgcolor\":\"white\",\"plot_bgcolor\":\"white\",\"polar\":{\"angularaxis\":{\"gridcolor\":\"rgb(232,232,232)\",\"linecolor\":\"rgb(36,36,36)\",\"showgrid\":false,\"showline\":true,\"ticks\":\"outside\"},\"bgcolor\":\"white\",\"radialaxis\":{\"gridcolor\":\"rgb(232,232,232)\",\"linecolor\":\"rgb(36,36,36)\",\"showgrid\":false,\"showline\":true,\"ticks\":\"outside\"}},\"scene\":{\"xaxis\":{\"backgroundcolor\":\"white\",\"gridcolor\":\"rgb(232,232,232)\",\"gridwidth\":2,\"linecolor\":\"rgb(36,36,36)\",\"showbackground\":true,\"showgrid\":false,\"showline\":true,\"ticks\":\"outside\",\"zeroline\":false,\"zerolinecolor\":\"rgb(36,36,36)\"},\"yaxis\":{\"backgroundcolor\":\"white\",\"gridcolor\":\"rgb(232,232,232)\",\"gridwidth\":2,\"linecolor\":\"rgb(36,36,36)\",\"showbackground\":true,\"showgrid\":false,\"showline\":true,\"ticks\":\"outside\",\"zeroline\":false,\"zerolinecolor\":\"rgb(36,36,36)\"},\"zaxis\":{\"backgroundcolor\":\"white\",\"gridcolor\":\"rgb(232,232,232)\",\"gridwidth\":2,\"linecolor\":\"rgb(36,36,36)\",\"showbackground\":true,\"showgrid\":false,\"showline\":true,\"ticks\":\"outside\",\"zeroline\":false,\"zerolinecolor\":\"rgb(36,36,36)\"}},\"shapedefaults\":{\"fillcolor\":\"black\",\"line\":{\"width\":0},\"opacity\":0.3},\"ternary\":{\"aaxis\":{\"gridcolor\":\"rgb(232,232,232)\",\"linecolor\":\"rgb(36,36,36)\",\"showgrid\":false,\"showline\":true,\"ticks\":\"outside\"},\"baxis\":{\"gridcolor\":\"rgb(232,232,232)\",\"linecolor\":\"rgb(36,36,36)\",\"showgrid\":false,\"showline\":true,\"ticks\":\"outside\"},\"bgcolor\":\"white\",\"caxis\":{\"gridcolor\":\"rgb(232,232,232)\",\"linecolor\":\"rgb(36,36,36)\",\"showgrid\":false,\"showline\":true,\"ticks\":\"outside\"}},\"title\":{\"x\":0.05},\"xaxis\":{\"automargin\":true,\"gridcolor\":\"rgb(232,232,232)\",\"linecolor\":\"rgb(36,36,36)\",\"showgrid\":false,\"showline\":true,\"ticks\":\"outside\",\"title\":{\"standoff\":15},\"zeroline\":false,\"zerolinecolor\":\"rgb(36,36,36)\"},\"yaxis\":{\"automargin\":true,\"gridcolor\":\"rgb(232,232,232)\",\"linecolor\":\"rgb(36,36,36)\",\"showgrid\":false,\"showline\":true,\"ticks\":\"outside\",\"title\":{\"standoff\":15},\"zeroline\":false,\"zerolinecolor\":\"rgb(36,36,36)\"}}},\"xaxis\":{\"anchor\":\"y\",\"domain\":[0.0,1.0],\"title\":{\"text\":\"tlvorg_hr\"},\"dtick\":1,\"categoryorder\":\"category ascending\"},\"yaxis\":{\"anchor\":\"x\",\"domain\":[0.0,1.0],\"title\":{\"text\":\"percentage\"},\"tickformat\":\".0%\"},\"legend\":{\"title\":{\"text\":\"source\"},\"tracegroupgap\":0},\"title\":{\"text\":\"tour origin departure hour\"},\"barmode\":\"group\",\"font\":{\"size\":11},\"height\":400,\"width\":700},                        {\"responsive\": true}                    ).then(function(){\n",
       "                            \n",
       "var gd = document.getElementById('d886bf44-e719-4625-ba20-c310f029d07a');\n",
       "var x = new MutationObserver(function (mutations, observer) {{\n",
       "        var display = window.getComputedStyle(gd).display;\n",
       "        if (!display || display === 'none') {{\n",
       "            console.log([gd, 'removed!']);\n",
       "            Plotly.purge(gd);\n",
       "            observer.disconnect();\n",
       "        }}\n",
       "}});\n",
       "\n",
       "// Listen for the removal of the full notebook cells\n",
       "var notebookContainer = gd.closest('#notebook-container');\n",
       "if (notebookContainer) {{\n",
       "    x.observe(notebookContainer, {childList: true});\n",
       "}}\n",
       "\n",
       "// Listen for the clearing of the current output cell\n",
       "var outputEl = gd.closest('.output');\n",
       "if (outputEl) {{\n",
       "    x.observe(outputEl, {childList: true});\n",
       "}}\n",
       "\n",
       "                        })                };                });            </script>        </div>"
      ]
     },
     "metadata": {},
     "output_type": "display_data"
    }
   ],
   "source": [
    "df_plot = df_tour.groupby(['tlvorg_hr','source'])['toexpfac'].agg(sample_count='size', toexpfac='sum').reset_index()\n",
    "df_plot['percentage'] = df_plot.groupby(['source'], group_keys=False)['toexpfac']. \\\n",
    "    apply(lambda x: x / float(x.sum()))\n",
    "\n",
    "fig = px.bar(df_plot, x=\"tlvorg_hr\", y=\"percentage\", color=\"source\",\n",
    "             barmode=\"group\",title=\"tour origin departure hour\",\n",
    "             hover_data=['toexpfac','sample_count'])\n",
    "fig.update_layout(height=400, width=700, font=dict(size=11),\n",
    "                  xaxis = dict(dtick = 1, categoryorder='category ascending'),\n",
    "                  yaxis=dict(tickformat=\".0%\"))\n",
    "fig.show()"
   ]
  },
  {
   "cell_type": "raw",
   "metadata": {
    "vscode": {
     "languageId": "raw"
    }
   },
   "source": [
    "### trip"
   ]
  },
  {
   "cell_type": "code",
   "execution_count": 5,
   "metadata": {
    "execution": {
     "iopub.execute_input": "2025-01-21T07:15:33.327977Z",
     "iopub.status.busy": "2025-01-21T07:15:33.326002Z",
     "iopub.status.idle": "2025-01-21T07:15:34.307464Z",
     "shell.execute_reply": "2025-01-21T07:15:34.305955Z"
    }
   },
   "outputs": [
    {
     "data": {
      "application/vnd.plotly.v1+json": {
       "config": {
        "plotlyServerURL": "https://plot.ly"
       },
       "data": [
        {
         "alignmentgroup": "True",
         "customdata": [
          [
           19301.0,
           19301.0
          ],
          [
           14891.0,
           14891.0
          ],
          [
           11802.0,
           11802.0
          ],
          [
           45648.0,
           45648.0
          ],
          [
           50164.0,
           50164.0
          ],
          [
           105727.0,
           105727.0
          ],
          [
           298972.0,
           298972.0
          ],
          [
           511492.0,
           511492.0
          ],
          [
           619580.0,
           619580.0
          ],
          [
           596019.0,
           596019.0
          ],
          [
           652256.0,
           652256.0
          ],
          [
           641290.0,
           641291.0
          ],
          [
           630995.0,
           630995.0
          ],
          [
           639632.0,
           639632.0
          ],
          [
           595884.0,
           595884.0
          ],
          [
           687583.0,
           687583.0
          ],
          [
           750856.0,
           750856.0
          ],
          [
           729058.0,
           729058.0
          ],
          [
           596048.0,
           596048.0
          ],
          [
           447180.0,
           447180.0
          ],
          [
           361590.0,
           361590.0
          ],
          [
           208187.0,
           208187.0
          ],
          [
           120384.0,
           120384.0
          ],
          [
           87810.0,
           87810.0
          ]
         ],
         "hovertemplate": "source=model<br>dept_hr=%{x}<br>percentage=%{y}<br>trexpfac=%{customdata[0]}<br>sample_count=%{customdata[1]}<extra></extra>",
         "legendgroup": "model",
         "marker": {
          "color": "#91268F",
          "pattern": {
           "shape": ""
          }
         },
         "name": "model",
         "offsetgroup": "model",
         "orientation": "v",
         "showlegend": true,
         "textposition": "auto",
         "type": "bar",
         "x": [
          0,
          1,
          2,
          3,
          4,
          5,
          6,
          7,
          8,
          9,
          10,
          11,
          12,
          13,
          14,
          15,
          16,
          17,
          18,
          19,
          20,
          21,
          22,
          23
         ],
         "xaxis": "x",
         "y": [
          0.0020484276266990323,
          0.001580391471383622,
          0.0012525539013679074,
          0.004844651795428083,
          0.005323937799374657,
          0.011220874964406434,
          0.03173009193355075,
          0.054284977132560044,
          0.06575642655562854,
          0.06325588237073367,
          0.06922435159215605,
          0.06806052291206789,
          0.06696790789642795,
          0.06788455829857289,
          0.06324155473332606,
          0.07297362897511013,
          0.07968883343208791,
          0.07737539757867173,
          0.06325896015951012,
          0.047459502932867374,
          0.03837578081643972,
          0.022095021103548596,
          0.012776431864283525,
          0.009319332153797318
         ],
         "yaxis": "y"
        },
        {
         "alignmentgroup": "True",
         "customdata": [
          [
           16426.116989087757,
           37.0
          ],
          [
           2204.90049315539,
           10.0
          ],
          [
           2649.457524959947,
           18.0
          ],
          [
           15532.834818512281,
           31.0
          ],
          [
           79975.43069106937,
           82.0
          ],
          [
           206727.8405420352,
           214.0
          ],
          [
           417235.7398199602,
           676.0
          ],
          [
           1196892.51625378,
           1625.0
          ],
          [
           1243403.4287582592,
           1961.0
          ],
          [
           898067.7835234987,
           1565.0
          ],
          [
           667953.6282629626,
           1583.0
          ],
          [
           878016.2002201409,
           1781.0
          ],
          [
           862480.2743773138,
           1915.0
          ],
          [
           883749.2459434525,
           1816.0
          ],
          [
           1483803.1486428103,
           2135.0
          ],
          [
           1729000.5338273265,
           2486.0
          ],
          [
           1473496.6173564675,
           2478.0
          ],
          [
           1372733.1033051775,
           2609.0
          ],
          [
           1016398.675542301,
           2047.0
          ],
          [
           693469.242877239,
           1460.0
          ],
          [
           524539.5028559745,
           1035.0
          ],
          [
           232163.17900501107,
           623.0
          ],
          [
           156821.3881008849,
           276.0
          ],
          [
           73318.10777302149,
           133.0
          ]
         ],
         "hovertemplate": "source=survey<br>dept_hr=%{x}<br>percentage=%{y}<br>trexpfac=%{customdata[0]}<br>sample_count=%{customdata[1]}<extra></extra>",
         "legendgroup": "survey",
         "marker": {
          "color": "#8CC63E",
          "pattern": {
           "shape": ""
          }
         },
         "name": "survey",
         "offsetgroup": "survey",
         "orientation": "v",
         "showlegend": true,
         "textposition": "auto",
         "type": "bar",
         "x": [
          0,
          1,
          2,
          3,
          4,
          5,
          6,
          7,
          8,
          9,
          10,
          11,
          12,
          13,
          14,
          15,
          16,
          17,
          18,
          19,
          20,
          21,
          22,
          23
         ],
         "xaxis": "x",
         "y": [
          0.001018543870490213,
          0.00013672055811097644,
          0.00016428646672642463,
          0.0009631535990059493,
          0.004959083438545962,
          0.012818694459783087,
          0.02587178123870595,
          0.07421641626415804,
          0.07710044569569167,
          0.055687015793218886,
          0.041418192399999595,
          0.05444366550654878,
          0.053480320240585175,
          0.05479915783529563,
          0.09200705212730531,
          0.10721115020513025,
          0.09136796899678251,
          0.08511986668056397,
          0.06302442881879626,
          0.04300035408096331,
          0.032525428609747616,
          0.014395878410349046,
          0.009724115791823171,
          0.004546278911672306
         ],
         "yaxis": "y"
        },
        {
         "alignmentgroup": "True",
         "customdata": [
          [
           19181.470996776607,
           34.0
          ],
          [
           2759.038883064306,
           11.0
          ],
          [
           6762.456078694911,
           16.0
          ],
          [
           12035.055594780066,
           30.0
          ],
          [
           78620.55611401159,
           79.0
          ],
          [
           151598.79638180358,
           200.0
          ],
          [
           368783.8374504142,
           644.0
          ],
          [
           1028886.5660521676,
           1594.0
          ],
          [
           1100165.195051661,
           1918.0
          ],
          [
           777473.1236238483,
           1510.0
          ],
          [
           728317.2128644135,
           1538.0
          ],
          [
           837006.3654409132,
           1713.0
          ],
          [
           874931.3290426786,
           1859.0
          ],
          [
           833792.9544792247,
           1738.0
          ],
          [
           1389787.3616315196,
           2084.0
          ],
          [
           1436515.2222431023,
           2379.0
          ],
          [
           1197039.8259130092,
           2386.0
          ],
          [
           1090162.334203585,
           2502.0
          ],
          [
           818318.7684519498,
           1959.0
          ],
          [
           611257.7641078372,
           1373.0
          ],
          [
           459742.03735234437,
           978.0
          ],
          [
           251735.89122060384,
           582.0
          ],
          [
           101433.34084075961,
           245.0
          ],
          [
           55423.98214181331,
           116.0
          ]
         ],
         "hovertemplate": "source=survey (2017/2019)<br>dept_hr=%{x}<br>percentage=%{y}<br>trexpfac=%{customdata[0]}<br>sample_count=%{customdata[1]}<extra></extra>",
         "legendgroup": "survey (2017/2019)",
         "marker": {
          "color": "#00A7A0",
          "pattern": {
           "shape": ""
          }
         },
         "name": "survey (2017/2019)",
         "offsetgroup": "survey (2017/2019)",
         "orientation": "v",
         "showlegend": true,
         "textposition": "auto",
         "type": "bar",
         "x": [
          0,
          1,
          2,
          3,
          4,
          5,
          6,
          7,
          8,
          9,
          10,
          11,
          12,
          13,
          14,
          15,
          16,
          17,
          18,
          19,
          20,
          21,
          22,
          23
         ],
         "xaxis": "x",
         "y": [
          0.0013477961106296095,
          0.00019386531284773924,
          0.00047516751987896103,
          0.000845649487705169,
          0.005524314572318715,
          0.010652168865143925,
          0.025912789580228624,
          0.07229525369755022,
          0.07730368391401653,
          0.054629556425331974,
          0.051175590598250414,
          0.0588126908568725,
          0.0614775082969332,
          0.05858689885183044,
          0.09765413721001515,
          0.10093749482116589,
          0.08411063061354472,
          0.07660082765505331,
          0.05749959706219058,
          0.04295034709252175,
          0.032304015158198814,
          0.017688354305570458,
          0.0071272668449837515,
          0.0038943951472175456
         ],
         "yaxis": "y"
        },
        {
         "alignmentgroup": "True",
         "customdata": [
          [
           3622.9075134384693,
           37.0
          ],
          [
           1555.6194818136062,
           10.0
          ],
          [
           2729.181802725247,
           15.0
          ],
          [
           15172.326305472327,
           54.0
          ],
          [
           63514.05846425561,
           218.0
          ],
          [
           228743.11536819104,
           708.0
          ],
          [
           530146.2611615189,
           2086.0
          ],
          [
           929236.5348367358,
           4369.0
          ],
          [
           1063421.5157905354,
           4773.0
          ],
          [
           878655.2324934305,
           3513.0
          ],
          [
           898833.3210771343,
           3020.0
          ],
          [
           1016029.7115812739,
           3534.0
          ],
          [
           1186575.3305741234,
           4303.0
          ],
          [
           875857.9905717697,
           3789.0
          ],
          [
           1078894.9190846658,
           3845.0
          ],
          [
           1337135.3596823828,
           4753.0
          ],
          [
           1212361.4272437727,
           5744.0
          ],
          [
           1378473.9303939922,
           6566.0
          ],
          [
           954347.8853662497,
           5132.0
          ],
          [
           740726.2469078229,
           3761.0
          ],
          [
           516690.94727657596,
           2662.0
          ],
          [
           328350.6086838012,
           1622.0
          ],
          [
           105269.29586408581,
           682.0
          ],
          [
           42391.34399106255,
           268.0
          ]
         ],
         "hovertemplate": "source=survey (old weights)<br>dept_hr=%{x}<br>percentage=%{y}<br>trexpfac=%{customdata[0]}<br>sample_count=%{customdata[1]}<extra></extra>",
         "legendgroup": "survey (old weights)",
         "marker": {
          "color": "#F05A28",
          "pattern": {
           "shape": ""
          }
         },
         "name": "survey (old weights)",
         "offsetgroup": "survey (old weights)",
         "orientation": "v",
         "showlegend": true,
         "textposition": "auto",
         "type": "bar",
         "x": [
          0,
          1,
          2,
          3,
          4,
          5,
          6,
          7,
          8,
          9,
          10,
          11,
          12,
          13,
          14,
          15,
          16,
          17,
          18,
          19,
          20,
          21,
          22,
          23
         ],
         "xaxis": "x",
         "y": [
          0.0002354259460963849,
          0.00010108819695602651,
          0.00017734932663677588,
          0.0009859371959398367,
          0.004127308590932496,
          0.014864322135974259,
          0.03445028189111996,
          0.060384205103164675,
          0.06910389390995711,
          0.057097300616978104,
          0.05840852525564588,
          0.06602425130197048,
          0.0771067488692016,
          0.05691552856692583,
          0.07010939587111377,
          0.0868905308635341,
          0.07878239644840887,
          0.0895768186265955,
          0.06201600592453256,
          0.04813431665860834,
          0.03357592062475132,
          0.021337075929752584,
          0.006840672438303903,
          0.0027546997068995703
         ],
         "yaxis": "y"
        }
       ],
       "layout": {
        "barmode": "group",
        "font": {
         "size": 11
        },
        "height": 400,
        "legend": {
         "title": {
          "text": "source"
         },
         "tracegroupgap": 0
        },
        "template": {
         "data": {
          "bar": [
           {
            "error_x": {
             "color": "rgb(36,36,36)"
            },
            "error_y": {
             "color": "rgb(36,36,36)"
            },
            "marker": {
             "line": {
              "color": "white",
              "width": 0.5
             },
             "pattern": {
              "fillmode": "overlay",
              "size": 10,
              "solidity": 0.2
             }
            },
            "type": "bar"
           }
          ],
          "barpolar": [
           {
            "marker": {
             "line": {
              "color": "white",
              "width": 0.5
             },
             "pattern": {
              "fillmode": "overlay",
              "size": 10,
              "solidity": 0.2
             }
            },
            "type": "barpolar"
           }
          ],
          "carpet": [
           {
            "aaxis": {
             "endlinecolor": "rgb(36,36,36)",
             "gridcolor": "white",
             "linecolor": "white",
             "minorgridcolor": "white",
             "startlinecolor": "rgb(36,36,36)"
            },
            "baxis": {
             "endlinecolor": "rgb(36,36,36)",
             "gridcolor": "white",
             "linecolor": "white",
             "minorgridcolor": "white",
             "startlinecolor": "rgb(36,36,36)"
            },
            "type": "carpet"
           }
          ],
          "choropleth": [
           {
            "colorbar": {
             "outlinewidth": 1,
             "tickcolor": "rgb(36,36,36)",
             "ticks": "outside"
            },
            "type": "choropleth"
           }
          ],
          "contour": [
           {
            "colorbar": {
             "outlinewidth": 1,
             "tickcolor": "rgb(36,36,36)",
             "ticks": "outside"
            },
            "colorscale": [
             [
              0.0,
              "#440154"
             ],
             [
              0.1111111111111111,
              "#482878"
             ],
             [
              0.2222222222222222,
              "#3e4989"
             ],
             [
              0.3333333333333333,
              "#31688e"
             ],
             [
              0.4444444444444444,
              "#26828e"
             ],
             [
              0.5555555555555556,
              "#1f9e89"
             ],
             [
              0.6666666666666666,
              "#35b779"
             ],
             [
              0.7777777777777778,
              "#6ece58"
             ],
             [
              0.8888888888888888,
              "#b5de2b"
             ],
             [
              1.0,
              "#fde725"
             ]
            ],
            "type": "contour"
           }
          ],
          "contourcarpet": [
           {
            "colorbar": {
             "outlinewidth": 1,
             "tickcolor": "rgb(36,36,36)",
             "ticks": "outside"
            },
            "type": "contourcarpet"
           }
          ],
          "heatmap": [
           {
            "colorbar": {
             "outlinewidth": 1,
             "tickcolor": "rgb(36,36,36)",
             "ticks": "outside"
            },
            "colorscale": [
             [
              0.0,
              "#440154"
             ],
             [
              0.1111111111111111,
              "#482878"
             ],
             [
              0.2222222222222222,
              "#3e4989"
             ],
             [
              0.3333333333333333,
              "#31688e"
             ],
             [
              0.4444444444444444,
              "#26828e"
             ],
             [
              0.5555555555555556,
              "#1f9e89"
             ],
             [
              0.6666666666666666,
              "#35b779"
             ],
             [
              0.7777777777777778,
              "#6ece58"
             ],
             [
              0.8888888888888888,
              "#b5de2b"
             ],
             [
              1.0,
              "#fde725"
             ]
            ],
            "type": "heatmap"
           }
          ],
          "heatmapgl": [
           {
            "colorbar": {
             "outlinewidth": 1,
             "tickcolor": "rgb(36,36,36)",
             "ticks": "outside"
            },
            "colorscale": [
             [
              0.0,
              "#440154"
             ],
             [
              0.1111111111111111,
              "#482878"
             ],
             [
              0.2222222222222222,
              "#3e4989"
             ],
             [
              0.3333333333333333,
              "#31688e"
             ],
             [
              0.4444444444444444,
              "#26828e"
             ],
             [
              0.5555555555555556,
              "#1f9e89"
             ],
             [
              0.6666666666666666,
              "#35b779"
             ],
             [
              0.7777777777777778,
              "#6ece58"
             ],
             [
              0.8888888888888888,
              "#b5de2b"
             ],
             [
              1.0,
              "#fde725"
             ]
            ],
            "type": "heatmapgl"
           }
          ],
          "histogram": [
           {
            "marker": {
             "line": {
              "color": "white",
              "width": 0.6
             }
            },
            "type": "histogram"
           }
          ],
          "histogram2d": [
           {
            "colorbar": {
             "outlinewidth": 1,
             "tickcolor": "rgb(36,36,36)",
             "ticks": "outside"
            },
            "colorscale": [
             [
              0.0,
              "#440154"
             ],
             [
              0.1111111111111111,
              "#482878"
             ],
             [
              0.2222222222222222,
              "#3e4989"
             ],
             [
              0.3333333333333333,
              "#31688e"
             ],
             [
              0.4444444444444444,
              "#26828e"
             ],
             [
              0.5555555555555556,
              "#1f9e89"
             ],
             [
              0.6666666666666666,
              "#35b779"
             ],
             [
              0.7777777777777778,
              "#6ece58"
             ],
             [
              0.8888888888888888,
              "#b5de2b"
             ],
             [
              1.0,
              "#fde725"
             ]
            ],
            "type": "histogram2d"
           }
          ],
          "histogram2dcontour": [
           {
            "colorbar": {
             "outlinewidth": 1,
             "tickcolor": "rgb(36,36,36)",
             "ticks": "outside"
            },
            "colorscale": [
             [
              0.0,
              "#440154"
             ],
             [
              0.1111111111111111,
              "#482878"
             ],
             [
              0.2222222222222222,
              "#3e4989"
             ],
             [
              0.3333333333333333,
              "#31688e"
             ],
             [
              0.4444444444444444,
              "#26828e"
             ],
             [
              0.5555555555555556,
              "#1f9e89"
             ],
             [
              0.6666666666666666,
              "#35b779"
             ],
             [
              0.7777777777777778,
              "#6ece58"
             ],
             [
              0.8888888888888888,
              "#b5de2b"
             ],
             [
              1.0,
              "#fde725"
             ]
            ],
            "type": "histogram2dcontour"
           }
          ],
          "mesh3d": [
           {
            "colorbar": {
             "outlinewidth": 1,
             "tickcolor": "rgb(36,36,36)",
             "ticks": "outside"
            },
            "type": "mesh3d"
           }
          ],
          "parcoords": [
           {
            "line": {
             "colorbar": {
              "outlinewidth": 1,
              "tickcolor": "rgb(36,36,36)",
              "ticks": "outside"
             }
            },
            "type": "parcoords"
           }
          ],
          "pie": [
           {
            "automargin": true,
            "type": "pie"
           }
          ],
          "scatter": [
           {
            "fillpattern": {
             "fillmode": "overlay",
             "size": 10,
             "solidity": 0.2
            },
            "type": "scatter"
           }
          ],
          "scatter3d": [
           {
            "line": {
             "colorbar": {
              "outlinewidth": 1,
              "tickcolor": "rgb(36,36,36)",
              "ticks": "outside"
             }
            },
            "marker": {
             "colorbar": {
              "outlinewidth": 1,
              "tickcolor": "rgb(36,36,36)",
              "ticks": "outside"
             }
            },
            "type": "scatter3d"
           }
          ],
          "scattercarpet": [
           {
            "marker": {
             "colorbar": {
              "outlinewidth": 1,
              "tickcolor": "rgb(36,36,36)",
              "ticks": "outside"
             }
            },
            "type": "scattercarpet"
           }
          ],
          "scattergeo": [
           {
            "marker": {
             "colorbar": {
              "outlinewidth": 1,
              "tickcolor": "rgb(36,36,36)",
              "ticks": "outside"
             }
            },
            "type": "scattergeo"
           }
          ],
          "scattergl": [
           {
            "marker": {
             "colorbar": {
              "outlinewidth": 1,
              "tickcolor": "rgb(36,36,36)",
              "ticks": "outside"
             }
            },
            "type": "scattergl"
           }
          ],
          "scattermapbox": [
           {
            "marker": {
             "colorbar": {
              "outlinewidth": 1,
              "tickcolor": "rgb(36,36,36)",
              "ticks": "outside"
             }
            },
            "type": "scattermapbox"
           }
          ],
          "scatterpolar": [
           {
            "marker": {
             "colorbar": {
              "outlinewidth": 1,
              "tickcolor": "rgb(36,36,36)",
              "ticks": "outside"
             }
            },
            "type": "scatterpolar"
           }
          ],
          "scatterpolargl": [
           {
            "marker": {
             "colorbar": {
              "outlinewidth": 1,
              "tickcolor": "rgb(36,36,36)",
              "ticks": "outside"
             }
            },
            "type": "scatterpolargl"
           }
          ],
          "scatterternary": [
           {
            "marker": {
             "colorbar": {
              "outlinewidth": 1,
              "tickcolor": "rgb(36,36,36)",
              "ticks": "outside"
             }
            },
            "type": "scatterternary"
           }
          ],
          "surface": [
           {
            "colorbar": {
             "outlinewidth": 1,
             "tickcolor": "rgb(36,36,36)",
             "ticks": "outside"
            },
            "colorscale": [
             [
              0.0,
              "#440154"
             ],
             [
              0.1111111111111111,
              "#482878"
             ],
             [
              0.2222222222222222,
              "#3e4989"
             ],
             [
              0.3333333333333333,
              "#31688e"
             ],
             [
              0.4444444444444444,
              "#26828e"
             ],
             [
              0.5555555555555556,
              "#1f9e89"
             ],
             [
              0.6666666666666666,
              "#35b779"
             ],
             [
              0.7777777777777778,
              "#6ece58"
             ],
             [
              0.8888888888888888,
              "#b5de2b"
             ],
             [
              1.0,
              "#fde725"
             ]
            ],
            "type": "surface"
           }
          ],
          "table": [
           {
            "cells": {
             "fill": {
              "color": "rgb(237,237,237)"
             },
             "line": {
              "color": "white"
             }
            },
            "header": {
             "fill": {
              "color": "rgb(217,217,217)"
             },
             "line": {
              "color": "white"
             }
            },
            "type": "table"
           }
          ]
         },
         "layout": {
          "annotationdefaults": {
           "arrowhead": 0,
           "arrowwidth": 1
          },
          "autotypenumbers": "strict",
          "coloraxis": {
           "colorbar": {
            "outlinewidth": 1,
            "tickcolor": "rgb(36,36,36)",
            "ticks": "outside"
           }
          },
          "colorscale": {
           "diverging": [
            [
             0.0,
             "rgb(103,0,31)"
            ],
            [
             0.1,
             "rgb(178,24,43)"
            ],
            [
             0.2,
             "rgb(214,96,77)"
            ],
            [
             0.3,
             "rgb(244,165,130)"
            ],
            [
             0.4,
             "rgb(253,219,199)"
            ],
            [
             0.5,
             "rgb(247,247,247)"
            ],
            [
             0.6,
             "rgb(209,229,240)"
            ],
            [
             0.7,
             "rgb(146,197,222)"
            ],
            [
             0.8,
             "rgb(67,147,195)"
            ],
            [
             0.9,
             "rgb(33,102,172)"
            ],
            [
             1.0,
             "rgb(5,48,97)"
            ]
           ],
           "sequential": [
            [
             0.0,
             "#440154"
            ],
            [
             0.1111111111111111,
             "#482878"
            ],
            [
             0.2222222222222222,
             "#3e4989"
            ],
            [
             0.3333333333333333,
             "#31688e"
            ],
            [
             0.4444444444444444,
             "#26828e"
            ],
            [
             0.5555555555555556,
             "#1f9e89"
            ],
            [
             0.6666666666666666,
             "#35b779"
            ],
            [
             0.7777777777777778,
             "#6ece58"
            ],
            [
             0.8888888888888888,
             "#b5de2b"
            ],
            [
             1.0,
             "#fde725"
            ]
           ],
           "sequentialminus": [
            [
             0.0,
             "#440154"
            ],
            [
             0.1111111111111111,
             "#482878"
            ],
            [
             0.2222222222222222,
             "#3e4989"
            ],
            [
             0.3333333333333333,
             "#31688e"
            ],
            [
             0.4444444444444444,
             "#26828e"
            ],
            [
             0.5555555555555556,
             "#1f9e89"
            ],
            [
             0.6666666666666666,
             "#35b779"
            ],
            [
             0.7777777777777778,
             "#6ece58"
            ],
            [
             0.8888888888888888,
             "#b5de2b"
            ],
            [
             1.0,
             "#fde725"
            ]
           ]
          },
          "colorway": [
           "#91268F",
           "#8CC63E",
           "#00A7A0",
           "#F05A28",
           "#4C4C4C",
           "#630460",
           "#9f3913",
           "#588527",
           "#00716c",
           "#3e4040"
          ],
          "font": {
           "color": "rgb(36,36,36)",
           "family": "Poppins",
           "size": 11
          },
          "geo": {
           "bgcolor": "white",
           "lakecolor": "white",
           "landcolor": "white",
           "showlakes": true,
           "showland": true,
           "subunitcolor": "white"
          },
          "hoverlabel": {
           "align": "left"
          },
          "hovermode": "closest",
          "mapbox": {
           "style": "light"
          },
          "paper_bgcolor": "white",
          "plot_bgcolor": "white",
          "polar": {
           "angularaxis": {
            "gridcolor": "rgb(232,232,232)",
            "linecolor": "rgb(36,36,36)",
            "showgrid": false,
            "showline": true,
            "ticks": "outside"
           },
           "bgcolor": "white",
           "radialaxis": {
            "gridcolor": "rgb(232,232,232)",
            "linecolor": "rgb(36,36,36)",
            "showgrid": false,
            "showline": true,
            "ticks": "outside"
           }
          },
          "scene": {
           "xaxis": {
            "backgroundcolor": "white",
            "gridcolor": "rgb(232,232,232)",
            "gridwidth": 2,
            "linecolor": "rgb(36,36,36)",
            "showbackground": true,
            "showgrid": false,
            "showline": true,
            "ticks": "outside",
            "zeroline": false,
            "zerolinecolor": "rgb(36,36,36)"
           },
           "yaxis": {
            "backgroundcolor": "white",
            "gridcolor": "rgb(232,232,232)",
            "gridwidth": 2,
            "linecolor": "rgb(36,36,36)",
            "showbackground": true,
            "showgrid": false,
            "showline": true,
            "ticks": "outside",
            "zeroline": false,
            "zerolinecolor": "rgb(36,36,36)"
           },
           "zaxis": {
            "backgroundcolor": "white",
            "gridcolor": "rgb(232,232,232)",
            "gridwidth": 2,
            "linecolor": "rgb(36,36,36)",
            "showbackground": true,
            "showgrid": false,
            "showline": true,
            "ticks": "outside",
            "zeroline": false,
            "zerolinecolor": "rgb(36,36,36)"
           }
          },
          "shapedefaults": {
           "fillcolor": "black",
           "line": {
            "width": 0
           },
           "opacity": 0.3
          },
          "ternary": {
           "aaxis": {
            "gridcolor": "rgb(232,232,232)",
            "linecolor": "rgb(36,36,36)",
            "showgrid": false,
            "showline": true,
            "ticks": "outside"
           },
           "baxis": {
            "gridcolor": "rgb(232,232,232)",
            "linecolor": "rgb(36,36,36)",
            "showgrid": false,
            "showline": true,
            "ticks": "outside"
           },
           "bgcolor": "white",
           "caxis": {
            "gridcolor": "rgb(232,232,232)",
            "linecolor": "rgb(36,36,36)",
            "showgrid": false,
            "showline": true,
            "ticks": "outside"
           }
          },
          "title": {
           "x": 0.05
          },
          "xaxis": {
           "automargin": true,
           "gridcolor": "rgb(232,232,232)",
           "linecolor": "rgb(36,36,36)",
           "showgrid": false,
           "showline": true,
           "ticks": "outside",
           "title": {
            "standoff": 15
           },
           "zeroline": false,
           "zerolinecolor": "rgb(36,36,36)"
          },
          "yaxis": {
           "automargin": true,
           "gridcolor": "rgb(232,232,232)",
           "linecolor": "rgb(36,36,36)",
           "showgrid": false,
           "showline": true,
           "ticks": "outside",
           "title": {
            "standoff": 15
           },
           "zeroline": false,
           "zerolinecolor": "rgb(36,36,36)"
          }
         }
        },
        "title": {
         "text": "trip origin departure hour"
        },
        "width": 700,
        "xaxis": {
         "anchor": "y",
         "categoryorder": "category ascending",
         "domain": [
          0.0,
          1.0
         ],
         "dtick": 1,
         "title": {
          "text": "dept_hr"
         }
        },
        "yaxis": {
         "anchor": "x",
         "domain": [
          0.0,
          1.0
         ],
         "tickformat": ".0%",
         "title": {
          "text": "percentage"
         }
        }
       }
      },
      "text/html": [
       "<div>                            <div id=\"29121be9-1126-4b8d-a60f-9c1cdd86d132\" class=\"plotly-graph-div\" style=\"height:400px; width:700px;\"></div>            <script type=\"text/javascript\">                require([\"plotly\"], function(Plotly) {                    window.PLOTLYENV=window.PLOTLYENV || {};                                    if (document.getElementById(\"29121be9-1126-4b8d-a60f-9c1cdd86d132\")) {                    Plotly.newPlot(                        \"29121be9-1126-4b8d-a60f-9c1cdd86d132\",                        [{\"alignmentgroup\":\"True\",\"customdata\":[[19301.0,19301.0],[14891.0,14891.0],[11802.0,11802.0],[45648.0,45648.0],[50164.0,50164.0],[105727.0,105727.0],[298972.0,298972.0],[511492.0,511492.0],[619580.0,619580.0],[596019.0,596019.0],[652256.0,652256.0],[641290.0,641291.0],[630995.0,630995.0],[639632.0,639632.0],[595884.0,595884.0],[687583.0,687583.0],[750856.0,750856.0],[729058.0,729058.0],[596048.0,596048.0],[447180.0,447180.0],[361590.0,361590.0],[208187.0,208187.0],[120384.0,120384.0],[87810.0,87810.0]],\"hovertemplate\":\"source=model\\u003cbr\\u003edept_hr=%{x}\\u003cbr\\u003epercentage=%{y}\\u003cbr\\u003etrexpfac=%{customdata[0]}\\u003cbr\\u003esample_count=%{customdata[1]}\\u003cextra\\u003e\\u003c\\u002fextra\\u003e\",\"legendgroup\":\"model\",\"marker\":{\"color\":\"#91268F\",\"pattern\":{\"shape\":\"\"}},\"name\":\"model\",\"offsetgroup\":\"model\",\"orientation\":\"v\",\"showlegend\":true,\"textposition\":\"auto\",\"x\":[0,1,2,3,4,5,6,7,8,9,10,11,12,13,14,15,16,17,18,19,20,21,22,23],\"xaxis\":\"x\",\"y\":[0.0020484276266990323,0.001580391471383622,0.0012525539013679074,0.004844651795428083,0.005323937799374657,0.011220874964406434,0.03173009193355075,0.054284977132560044,0.06575642655562854,0.06325588237073367,0.06922435159215605,0.06806052291206789,0.06696790789642795,0.06788455829857289,0.06324155473332606,0.07297362897511013,0.07968883343208791,0.07737539757867173,0.06325896015951012,0.047459502932867374,0.03837578081643972,0.022095021103548596,0.012776431864283525,0.009319332153797318],\"yaxis\":\"y\",\"type\":\"bar\"},{\"alignmentgroup\":\"True\",\"customdata\":[[16426.116989087757,37.0],[2204.90049315539,10.0],[2649.457524959947,18.0],[15532.834818512281,31.0],[79975.43069106937,82.0],[206727.8405420352,214.0],[417235.7398199602,676.0],[1196892.51625378,1625.0],[1243403.4287582592,1961.0],[898067.7835234987,1565.0],[667953.6282629626,1583.0],[878016.2002201409,1781.0],[862480.2743773138,1915.0],[883749.2459434525,1816.0],[1483803.1486428103,2135.0],[1729000.5338273265,2486.0],[1473496.6173564675,2478.0],[1372733.1033051775,2609.0],[1016398.675542301,2047.0],[693469.242877239,1460.0],[524539.5028559745,1035.0],[232163.17900501107,623.0],[156821.3881008849,276.0],[73318.10777302149,133.0]],\"hovertemplate\":\"source=survey\\u003cbr\\u003edept_hr=%{x}\\u003cbr\\u003epercentage=%{y}\\u003cbr\\u003etrexpfac=%{customdata[0]}\\u003cbr\\u003esample_count=%{customdata[1]}\\u003cextra\\u003e\\u003c\\u002fextra\\u003e\",\"legendgroup\":\"survey\",\"marker\":{\"color\":\"#8CC63E\",\"pattern\":{\"shape\":\"\"}},\"name\":\"survey\",\"offsetgroup\":\"survey\",\"orientation\":\"v\",\"showlegend\":true,\"textposition\":\"auto\",\"x\":[0,1,2,3,4,5,6,7,8,9,10,11,12,13,14,15,16,17,18,19,20,21,22,23],\"xaxis\":\"x\",\"y\":[0.001018543870490213,0.00013672055811097644,0.00016428646672642463,0.0009631535990059493,0.004959083438545962,0.012818694459783087,0.02587178123870595,0.07421641626415804,0.07710044569569167,0.055687015793218886,0.041418192399999595,0.05444366550654878,0.053480320240585175,0.05479915783529563,0.09200705212730531,0.10721115020513025,0.09136796899678251,0.08511986668056397,0.06302442881879626,0.04300035408096331,0.032525428609747616,0.014395878410349046,0.009724115791823171,0.004546278911672306],\"yaxis\":\"y\",\"type\":\"bar\"},{\"alignmentgroup\":\"True\",\"customdata\":[[19181.470996776607,34.0],[2759.038883064306,11.0],[6762.456078694911,16.0],[12035.055594780066,30.0],[78620.55611401159,79.0],[151598.79638180358,200.0],[368783.8374504142,644.0],[1028886.5660521676,1594.0],[1100165.195051661,1918.0],[777473.1236238483,1510.0],[728317.2128644135,1538.0],[837006.3654409132,1713.0],[874931.3290426786,1859.0],[833792.9544792247,1738.0],[1389787.3616315196,2084.0],[1436515.2222431023,2379.0],[1197039.8259130092,2386.0],[1090162.334203585,2502.0],[818318.7684519498,1959.0],[611257.7641078372,1373.0],[459742.03735234437,978.0],[251735.89122060384,582.0],[101433.34084075961,245.0],[55423.98214181331,116.0]],\"hovertemplate\":\"source=survey (2017\\u002f2019)\\u003cbr\\u003edept_hr=%{x}\\u003cbr\\u003epercentage=%{y}\\u003cbr\\u003etrexpfac=%{customdata[0]}\\u003cbr\\u003esample_count=%{customdata[1]}\\u003cextra\\u003e\\u003c\\u002fextra\\u003e\",\"legendgroup\":\"survey (2017\\u002f2019)\",\"marker\":{\"color\":\"#00A7A0\",\"pattern\":{\"shape\":\"\"}},\"name\":\"survey (2017\\u002f2019)\",\"offsetgroup\":\"survey (2017\\u002f2019)\",\"orientation\":\"v\",\"showlegend\":true,\"textposition\":\"auto\",\"x\":[0,1,2,3,4,5,6,7,8,9,10,11,12,13,14,15,16,17,18,19,20,21,22,23],\"xaxis\":\"x\",\"y\":[0.0013477961106296095,0.00019386531284773924,0.00047516751987896103,0.000845649487705169,0.005524314572318715,0.010652168865143925,0.025912789580228624,0.07229525369755022,0.07730368391401653,0.054629556425331974,0.051175590598250414,0.0588126908568725,0.0614775082969332,0.05858689885183044,0.09765413721001515,0.10093749482116589,0.08411063061354472,0.07660082765505331,0.05749959706219058,0.04295034709252175,0.032304015158198814,0.017688354305570458,0.0071272668449837515,0.0038943951472175456],\"yaxis\":\"y\",\"type\":\"bar\"},{\"alignmentgroup\":\"True\",\"customdata\":[[3622.9075134384693,37.0],[1555.6194818136062,10.0],[2729.181802725247,15.0],[15172.326305472327,54.0],[63514.05846425561,218.0],[228743.11536819104,708.0],[530146.2611615189,2086.0],[929236.5348367358,4369.0],[1063421.5157905354,4773.0],[878655.2324934305,3513.0],[898833.3210771343,3020.0],[1016029.7115812739,3534.0],[1186575.3305741234,4303.0],[875857.9905717697,3789.0],[1078894.9190846658,3845.0],[1337135.3596823828,4753.0],[1212361.4272437727,5744.0],[1378473.9303939922,6566.0],[954347.8853662497,5132.0],[740726.2469078229,3761.0],[516690.94727657596,2662.0],[328350.6086838012,1622.0],[105269.29586408581,682.0],[42391.34399106255,268.0]],\"hovertemplate\":\"source=survey (old weights)\\u003cbr\\u003edept_hr=%{x}\\u003cbr\\u003epercentage=%{y}\\u003cbr\\u003etrexpfac=%{customdata[0]}\\u003cbr\\u003esample_count=%{customdata[1]}\\u003cextra\\u003e\\u003c\\u002fextra\\u003e\",\"legendgroup\":\"survey (old weights)\",\"marker\":{\"color\":\"#F05A28\",\"pattern\":{\"shape\":\"\"}},\"name\":\"survey (old weights)\",\"offsetgroup\":\"survey (old weights)\",\"orientation\":\"v\",\"showlegend\":true,\"textposition\":\"auto\",\"x\":[0,1,2,3,4,5,6,7,8,9,10,11,12,13,14,15,16,17,18,19,20,21,22,23],\"xaxis\":\"x\",\"y\":[0.0002354259460963849,0.00010108819695602651,0.00017734932663677588,0.0009859371959398367,0.004127308590932496,0.014864322135974259,0.03445028189111996,0.060384205103164675,0.06910389390995711,0.057097300616978104,0.05840852525564588,0.06602425130197048,0.0771067488692016,0.05691552856692583,0.07010939587111377,0.0868905308635341,0.07878239644840887,0.0895768186265955,0.06201600592453256,0.04813431665860834,0.03357592062475132,0.021337075929752584,0.006840672438303903,0.0027546997068995703],\"yaxis\":\"y\",\"type\":\"bar\"}],                        {\"template\":{\"data\":{\"barpolar\":[{\"marker\":{\"line\":{\"color\":\"white\",\"width\":0.5},\"pattern\":{\"fillmode\":\"overlay\",\"size\":10,\"solidity\":0.2}},\"type\":\"barpolar\"}],\"bar\":[{\"error_x\":{\"color\":\"rgb(36,36,36)\"},\"error_y\":{\"color\":\"rgb(36,36,36)\"},\"marker\":{\"line\":{\"color\":\"white\",\"width\":0.5},\"pattern\":{\"fillmode\":\"overlay\",\"size\":10,\"solidity\":0.2}},\"type\":\"bar\"}],\"carpet\":[{\"aaxis\":{\"endlinecolor\":\"rgb(36,36,36)\",\"gridcolor\":\"white\",\"linecolor\":\"white\",\"minorgridcolor\":\"white\",\"startlinecolor\":\"rgb(36,36,36)\"},\"baxis\":{\"endlinecolor\":\"rgb(36,36,36)\",\"gridcolor\":\"white\",\"linecolor\":\"white\",\"minorgridcolor\":\"white\",\"startlinecolor\":\"rgb(36,36,36)\"},\"type\":\"carpet\"}],\"choropleth\":[{\"colorbar\":{\"outlinewidth\":1,\"tickcolor\":\"rgb(36,36,36)\",\"ticks\":\"outside\"},\"type\":\"choropleth\"}],\"contourcarpet\":[{\"colorbar\":{\"outlinewidth\":1,\"tickcolor\":\"rgb(36,36,36)\",\"ticks\":\"outside\"},\"type\":\"contourcarpet\"}],\"contour\":[{\"colorbar\":{\"outlinewidth\":1,\"tickcolor\":\"rgb(36,36,36)\",\"ticks\":\"outside\"},\"colorscale\":[[0.0,\"#440154\"],[0.1111111111111111,\"#482878\"],[0.2222222222222222,\"#3e4989\"],[0.3333333333333333,\"#31688e\"],[0.4444444444444444,\"#26828e\"],[0.5555555555555556,\"#1f9e89\"],[0.6666666666666666,\"#35b779\"],[0.7777777777777778,\"#6ece58\"],[0.8888888888888888,\"#b5de2b\"],[1.0,\"#fde725\"]],\"type\":\"contour\"}],\"heatmapgl\":[{\"colorbar\":{\"outlinewidth\":1,\"tickcolor\":\"rgb(36,36,36)\",\"ticks\":\"outside\"},\"colorscale\":[[0.0,\"#440154\"],[0.1111111111111111,\"#482878\"],[0.2222222222222222,\"#3e4989\"],[0.3333333333333333,\"#31688e\"],[0.4444444444444444,\"#26828e\"],[0.5555555555555556,\"#1f9e89\"],[0.6666666666666666,\"#35b779\"],[0.7777777777777778,\"#6ece58\"],[0.8888888888888888,\"#b5de2b\"],[1.0,\"#fde725\"]],\"type\":\"heatmapgl\"}],\"heatmap\":[{\"colorbar\":{\"outlinewidth\":1,\"tickcolor\":\"rgb(36,36,36)\",\"ticks\":\"outside\"},\"colorscale\":[[0.0,\"#440154\"],[0.1111111111111111,\"#482878\"],[0.2222222222222222,\"#3e4989\"],[0.3333333333333333,\"#31688e\"],[0.4444444444444444,\"#26828e\"],[0.5555555555555556,\"#1f9e89\"],[0.6666666666666666,\"#35b779\"],[0.7777777777777778,\"#6ece58\"],[0.8888888888888888,\"#b5de2b\"],[1.0,\"#fde725\"]],\"type\":\"heatmap\"}],\"histogram2dcontour\":[{\"colorbar\":{\"outlinewidth\":1,\"tickcolor\":\"rgb(36,36,36)\",\"ticks\":\"outside\"},\"colorscale\":[[0.0,\"#440154\"],[0.1111111111111111,\"#482878\"],[0.2222222222222222,\"#3e4989\"],[0.3333333333333333,\"#31688e\"],[0.4444444444444444,\"#26828e\"],[0.5555555555555556,\"#1f9e89\"],[0.6666666666666666,\"#35b779\"],[0.7777777777777778,\"#6ece58\"],[0.8888888888888888,\"#b5de2b\"],[1.0,\"#fde725\"]],\"type\":\"histogram2dcontour\"}],\"histogram2d\":[{\"colorbar\":{\"outlinewidth\":1,\"tickcolor\":\"rgb(36,36,36)\",\"ticks\":\"outside\"},\"colorscale\":[[0.0,\"#440154\"],[0.1111111111111111,\"#482878\"],[0.2222222222222222,\"#3e4989\"],[0.3333333333333333,\"#31688e\"],[0.4444444444444444,\"#26828e\"],[0.5555555555555556,\"#1f9e89\"],[0.6666666666666666,\"#35b779\"],[0.7777777777777778,\"#6ece58\"],[0.8888888888888888,\"#b5de2b\"],[1.0,\"#fde725\"]],\"type\":\"histogram2d\"}],\"histogram\":[{\"marker\":{\"line\":{\"color\":\"white\",\"width\":0.6}},\"type\":\"histogram\"}],\"mesh3d\":[{\"colorbar\":{\"outlinewidth\":1,\"tickcolor\":\"rgb(36,36,36)\",\"ticks\":\"outside\"},\"type\":\"mesh3d\"}],\"parcoords\":[{\"line\":{\"colorbar\":{\"outlinewidth\":1,\"tickcolor\":\"rgb(36,36,36)\",\"ticks\":\"outside\"}},\"type\":\"parcoords\"}],\"pie\":[{\"automargin\":true,\"type\":\"pie\"}],\"scatter3d\":[{\"line\":{\"colorbar\":{\"outlinewidth\":1,\"tickcolor\":\"rgb(36,36,36)\",\"ticks\":\"outside\"}},\"marker\":{\"colorbar\":{\"outlinewidth\":1,\"tickcolor\":\"rgb(36,36,36)\",\"ticks\":\"outside\"}},\"type\":\"scatter3d\"}],\"scattercarpet\":[{\"marker\":{\"colorbar\":{\"outlinewidth\":1,\"tickcolor\":\"rgb(36,36,36)\",\"ticks\":\"outside\"}},\"type\":\"scattercarpet\"}],\"scattergeo\":[{\"marker\":{\"colorbar\":{\"outlinewidth\":1,\"tickcolor\":\"rgb(36,36,36)\",\"ticks\":\"outside\"}},\"type\":\"scattergeo\"}],\"scattergl\":[{\"marker\":{\"colorbar\":{\"outlinewidth\":1,\"tickcolor\":\"rgb(36,36,36)\",\"ticks\":\"outside\"}},\"type\":\"scattergl\"}],\"scattermapbox\":[{\"marker\":{\"colorbar\":{\"outlinewidth\":1,\"tickcolor\":\"rgb(36,36,36)\",\"ticks\":\"outside\"}},\"type\":\"scattermapbox\"}],\"scatterpolargl\":[{\"marker\":{\"colorbar\":{\"outlinewidth\":1,\"tickcolor\":\"rgb(36,36,36)\",\"ticks\":\"outside\"}},\"type\":\"scatterpolargl\"}],\"scatterpolar\":[{\"marker\":{\"colorbar\":{\"outlinewidth\":1,\"tickcolor\":\"rgb(36,36,36)\",\"ticks\":\"outside\"}},\"type\":\"scatterpolar\"}],\"scatter\":[{\"fillpattern\":{\"fillmode\":\"overlay\",\"size\":10,\"solidity\":0.2},\"type\":\"scatter\"}],\"scatterternary\":[{\"marker\":{\"colorbar\":{\"outlinewidth\":1,\"tickcolor\":\"rgb(36,36,36)\",\"ticks\":\"outside\"}},\"type\":\"scatterternary\"}],\"surface\":[{\"colorbar\":{\"outlinewidth\":1,\"tickcolor\":\"rgb(36,36,36)\",\"ticks\":\"outside\"},\"colorscale\":[[0.0,\"#440154\"],[0.1111111111111111,\"#482878\"],[0.2222222222222222,\"#3e4989\"],[0.3333333333333333,\"#31688e\"],[0.4444444444444444,\"#26828e\"],[0.5555555555555556,\"#1f9e89\"],[0.6666666666666666,\"#35b779\"],[0.7777777777777778,\"#6ece58\"],[0.8888888888888888,\"#b5de2b\"],[1.0,\"#fde725\"]],\"type\":\"surface\"}],\"table\":[{\"cells\":{\"fill\":{\"color\":\"rgb(237,237,237)\"},\"line\":{\"color\":\"white\"}},\"header\":{\"fill\":{\"color\":\"rgb(217,217,217)\"},\"line\":{\"color\":\"white\"}},\"type\":\"table\"}]},\"layout\":{\"annotationdefaults\":{\"arrowhead\":0,\"arrowwidth\":1},\"autotypenumbers\":\"strict\",\"coloraxis\":{\"colorbar\":{\"outlinewidth\":1,\"tickcolor\":\"rgb(36,36,36)\",\"ticks\":\"outside\"}},\"colorscale\":{\"diverging\":[[0.0,\"rgb(103,0,31)\"],[0.1,\"rgb(178,24,43)\"],[0.2,\"rgb(214,96,77)\"],[0.3,\"rgb(244,165,130)\"],[0.4,\"rgb(253,219,199)\"],[0.5,\"rgb(247,247,247)\"],[0.6,\"rgb(209,229,240)\"],[0.7,\"rgb(146,197,222)\"],[0.8,\"rgb(67,147,195)\"],[0.9,\"rgb(33,102,172)\"],[1.0,\"rgb(5,48,97)\"]],\"sequential\":[[0.0,\"#440154\"],[0.1111111111111111,\"#482878\"],[0.2222222222222222,\"#3e4989\"],[0.3333333333333333,\"#31688e\"],[0.4444444444444444,\"#26828e\"],[0.5555555555555556,\"#1f9e89\"],[0.6666666666666666,\"#35b779\"],[0.7777777777777778,\"#6ece58\"],[0.8888888888888888,\"#b5de2b\"],[1.0,\"#fde725\"]],\"sequentialminus\":[[0.0,\"#440154\"],[0.1111111111111111,\"#482878\"],[0.2222222222222222,\"#3e4989\"],[0.3333333333333333,\"#31688e\"],[0.4444444444444444,\"#26828e\"],[0.5555555555555556,\"#1f9e89\"],[0.6666666666666666,\"#35b779\"],[0.7777777777777778,\"#6ece58\"],[0.8888888888888888,\"#b5de2b\"],[1.0,\"#fde725\"]]},\"colorway\":[\"#91268F\",\"#8CC63E\",\"#00A7A0\",\"#F05A28\",\"#4C4C4C\",\"#630460\",\"#9f3913\",\"#588527\",\"#00716c\",\"#3e4040\"],\"font\":{\"color\":\"rgb(36,36,36)\",\"family\":\"Poppins\",\"size\":11},\"geo\":{\"bgcolor\":\"white\",\"lakecolor\":\"white\",\"landcolor\":\"white\",\"showlakes\":true,\"showland\":true,\"subunitcolor\":\"white\"},\"hoverlabel\":{\"align\":\"left\"},\"hovermode\":\"closest\",\"mapbox\":{\"style\":\"light\"},\"paper_bgcolor\":\"white\",\"plot_bgcolor\":\"white\",\"polar\":{\"angularaxis\":{\"gridcolor\":\"rgb(232,232,232)\",\"linecolor\":\"rgb(36,36,36)\",\"showgrid\":false,\"showline\":true,\"ticks\":\"outside\"},\"bgcolor\":\"white\",\"radialaxis\":{\"gridcolor\":\"rgb(232,232,232)\",\"linecolor\":\"rgb(36,36,36)\",\"showgrid\":false,\"showline\":true,\"ticks\":\"outside\"}},\"scene\":{\"xaxis\":{\"backgroundcolor\":\"white\",\"gridcolor\":\"rgb(232,232,232)\",\"gridwidth\":2,\"linecolor\":\"rgb(36,36,36)\",\"showbackground\":true,\"showgrid\":false,\"showline\":true,\"ticks\":\"outside\",\"zeroline\":false,\"zerolinecolor\":\"rgb(36,36,36)\"},\"yaxis\":{\"backgroundcolor\":\"white\",\"gridcolor\":\"rgb(232,232,232)\",\"gridwidth\":2,\"linecolor\":\"rgb(36,36,36)\",\"showbackground\":true,\"showgrid\":false,\"showline\":true,\"ticks\":\"outside\",\"zeroline\":false,\"zerolinecolor\":\"rgb(36,36,36)\"},\"zaxis\":{\"backgroundcolor\":\"white\",\"gridcolor\":\"rgb(232,232,232)\",\"gridwidth\":2,\"linecolor\":\"rgb(36,36,36)\",\"showbackground\":true,\"showgrid\":false,\"showline\":true,\"ticks\":\"outside\",\"zeroline\":false,\"zerolinecolor\":\"rgb(36,36,36)\"}},\"shapedefaults\":{\"fillcolor\":\"black\",\"line\":{\"width\":0},\"opacity\":0.3},\"ternary\":{\"aaxis\":{\"gridcolor\":\"rgb(232,232,232)\",\"linecolor\":\"rgb(36,36,36)\",\"showgrid\":false,\"showline\":true,\"ticks\":\"outside\"},\"baxis\":{\"gridcolor\":\"rgb(232,232,232)\",\"linecolor\":\"rgb(36,36,36)\",\"showgrid\":false,\"showline\":true,\"ticks\":\"outside\"},\"bgcolor\":\"white\",\"caxis\":{\"gridcolor\":\"rgb(232,232,232)\",\"linecolor\":\"rgb(36,36,36)\",\"showgrid\":false,\"showline\":true,\"ticks\":\"outside\"}},\"title\":{\"x\":0.05},\"xaxis\":{\"automargin\":true,\"gridcolor\":\"rgb(232,232,232)\",\"linecolor\":\"rgb(36,36,36)\",\"showgrid\":false,\"showline\":true,\"ticks\":\"outside\",\"title\":{\"standoff\":15},\"zeroline\":false,\"zerolinecolor\":\"rgb(36,36,36)\"},\"yaxis\":{\"automargin\":true,\"gridcolor\":\"rgb(232,232,232)\",\"linecolor\":\"rgb(36,36,36)\",\"showgrid\":false,\"showline\":true,\"ticks\":\"outside\",\"title\":{\"standoff\":15},\"zeroline\":false,\"zerolinecolor\":\"rgb(36,36,36)\"}}},\"xaxis\":{\"anchor\":\"y\",\"domain\":[0.0,1.0],\"title\":{\"text\":\"dept_hr\"},\"dtick\":1,\"categoryorder\":\"category ascending\"},\"yaxis\":{\"anchor\":\"x\",\"domain\":[0.0,1.0],\"title\":{\"text\":\"percentage\"},\"tickformat\":\".0%\"},\"legend\":{\"title\":{\"text\":\"source\"},\"tracegroupgap\":0},\"title\":{\"text\":\"trip origin departure hour\"},\"barmode\":\"group\",\"font\":{\"size\":11},\"height\":400,\"width\":700},                        {\"responsive\": true}                    ).then(function(){\n",
       "                            \n",
       "var gd = document.getElementById('29121be9-1126-4b8d-a60f-9c1cdd86d132');\n",
       "var x = new MutationObserver(function (mutations, observer) {{\n",
       "        var display = window.getComputedStyle(gd).display;\n",
       "        if (!display || display === 'none') {{\n",
       "            console.log([gd, 'removed!']);\n",
       "            Plotly.purge(gd);\n",
       "            observer.disconnect();\n",
       "        }}\n",
       "}});\n",
       "\n",
       "// Listen for the removal of the full notebook cells\n",
       "var notebookContainer = gd.closest('#notebook-container');\n",
       "if (notebookContainer) {{\n",
       "    x.observe(notebookContainer, {childList: true});\n",
       "}}\n",
       "\n",
       "// Listen for the clearing of the current output cell\n",
       "var outputEl = gd.closest('.output');\n",
       "if (outputEl) {{\n",
       "    x.observe(outputEl, {childList: true});\n",
       "}}\n",
       "\n",
       "                        })                };                });            </script>        </div>"
      ]
     },
     "metadata": {},
     "output_type": "display_data"
    }
   ],
   "source": [
    "df_plot = df_trip.groupby(['dept_hr','source'])['trexpfac'].agg(sample_count='size', trexpfac='sum').reset_index()\n",
    "df_plot['percentage'] = df_plot.groupby(['source'], group_keys=False)['trexpfac']. \\\n",
    "    apply(lambda x: x / float(x.sum()))\n",
    "\n",
    "fig = px.bar(df_plot, x=\"dept_hr\", y=\"percentage\", color=\"source\",\n",
    "             barmode=\"group\",title=\"trip origin departure hour\",\n",
    "             hover_data=['trexpfac','sample_count'])\n",
    "fig.update_layout(height=400, width=700, font=dict(size=11),\n",
    "                  xaxis = dict(dtick = 1, categoryorder='category ascending'),\n",
    "                  yaxis=dict(tickformat=\".0%\"))\n",
    "fig.show()"
   ]
  },
  {
   "cell_type": "raw",
   "metadata": {
    "vscode": {
     "languageId": "raw"
    }
   },
   "source": [
    ":::"
   ]
  },
  {
   "cell_type": "markdown",
   "metadata": {
    "collapsed": false
   },
   "source": [
    "## time choice by purpose"
   ]
  },
  {
   "cell_type": "raw",
   "metadata": {
    "vscode": {
     "languageId": "raw"
    }
   },
   "source": [
    ":::{.panel-tabset}\n",
    "### tour"
   ]
  },
  {
   "cell_type": "code",
   "execution_count": 6,
   "metadata": {
    "ExecuteTime": {
     "end_time": "2024-07-15T04:43:21.363175Z",
     "start_time": "2024-07-15T04:43:20.456962Z"
    },
    "collapsed": false,
    "execution": {
     "iopub.execute_input": "2025-01-21T07:15:34.321587Z",
     "iopub.status.busy": "2025-01-21T07:15:34.318951Z",
     "iopub.status.idle": "2025-01-21T07:15:35.221079Z",
     "shell.execute_reply": "2025-01-21T07:15:35.218349Z"
    }
   },
   "outputs": [
    {
     "data": {
      "application/vnd.plotly.v1+json": {
       "config": {
        "plotlyServerURL": "https://plot.ly"
       },
       "data": [
        {
         "alignmentgroup": "True",
         "customdata": [
          [
           764.0,
           764.0
          ],
          [
           471.0,
           471.0
          ],
          [
           183.0,
           183.0
          ],
          [
           22818.0,
           22818.0
          ],
          [
           22827.0,
           22827.0
          ],
          [
           51108.0,
           51108.0
          ],
          [
           127032.0,
           127032.0
          ],
          [
           164007.0,
           164007.0
          ],
          [
           131632.0,
           131632.0
          ],
          [
           66431.0,
           66431.0
          ],
          [
           38333.0,
           38333.0
          ],
          [
           30356.0,
           30356.0
          ],
          [
           24461.0,
           24461.0
          ],
          [
           19495.0,
           19495.0
          ],
          [
           17313.0,
           17313.0
          ],
          [
           15640.0,
           15640.0
          ],
          [
           15300.0,
           15300.0
          ],
          [
           15205.0,
           15205.0
          ],
          [
           12531.0,
           12531.0
          ],
          [
           6754.0,
           6754.0
          ],
          [
           5371.0,
           5371.0
          ],
          [
           3661.0,
           3661.0
          ],
          [
           1676.0,
           1676.0
          ],
          [
           1141.0,
           1141.0
          ]
         ],
         "hovertemplate": "source=model<br>pdpurp_label=Work<br>tlvorg_hr=%{x}<br>percentage=%{y}<br>toexpfac=%{customdata[0]}<br>sample_count=%{customdata[1]}<extra></extra>",
         "legendgroup": "model",
         "marker": {
          "color": "#91268F",
          "pattern": {
           "shape": ""
          }
         },
         "name": "model",
         "offsetgroup": "model",
         "orientation": "v",
         "showlegend": true,
         "textposition": "auto",
         "type": "bar",
         "x": [
          0,
          1,
          2,
          3,
          4,
          5,
          6,
          7,
          8,
          9,
          10,
          11,
          12,
          13,
          14,
          15,
          16,
          17,
          18,
          19,
          20,
          21,
          22,
          23
         ],
         "xaxis": "x6",
         "y": [
          0.0009615989729518823,
          0.0005928182150004406,
          0.00023033064404475714,
          0.028719588173842996,
          0.028730915910435362,
          0.06432644019584398,
          0.15988722608903602,
          0.2064253439226693,
          0.16567695812513372,
          0.08361254106304515,
          0.04824734742168129,
          0.03820719688864835,
          0.030787529420649204,
          0.02453713609646197,
          0.02179078929151301,
          0.01968508892273225,
          0.019257152207020678,
          0.01913758165410127,
          0.01577198524876968,
          0.008500836993870435,
          0.006760141470843664,
          0.004607871518294295,
          0.002109476280978213,
          0.001436105272432065
         ],
         "yaxis": "y6"
        },
        {
         "alignmentgroup": "True",
         "customdata": [
          [
           0.0,
           0.0
          ],
          [
           0.0,
           0.0
          ],
          [
           0.0,
           0.0
          ],
          [
           1355.0,
           1355.0
          ],
          [
           1440.0,
           1440.0
          ],
          [
           4217.0,
           4217.0
          ],
          [
           25236.0,
           25236.0
          ],
          [
           64117.0,
           64117.0
          ],
          [
           70237.0,
           70237.0
          ],
          [
           34910.0,
           34910.0
          ],
          [
           15947.0,
           15947.0
          ],
          [
           9810.0,
           9810.0
          ],
          [
           6342.0,
           6342.0
          ],
          [
           4357.0,
           4357.0
          ],
          [
           3260.0,
           3260.0
          ],
          [
           2521.0,
           2521.0
          ],
          [
           2177.0,
           2177.0
          ],
          [
           2118.0,
           2118.0
          ],
          [
           1574.0,
           1574.0
          ],
          [
           490.0,
           490.0
          ],
          [
           480.0,
           480.0
          ],
          [
           265.0,
           265.0
          ],
          [
           1.0,
           1.0
          ],
          [
           0.0,
           0.0
          ]
         ],
         "hovertemplate": "source=model<br>pdpurp_label=School<br>tlvorg_hr=%{x}<br>percentage=%{y}<br>toexpfac=%{customdata[0]}<br>sample_count=%{customdata[1]}<extra></extra>",
         "legendgroup": "model",
         "marker": {
          "color": "#91268F",
          "pattern": {
           "shape": ""
          }
         },
         "name": "model",
         "offsetgroup": "model",
         "orientation": "v",
         "showlegend": false,
         "textposition": "auto",
         "type": "bar",
         "x": [
          0,
          1,
          2,
          3,
          4,
          5,
          6,
          7,
          8,
          9,
          10,
          11,
          12,
          13,
          14,
          15,
          16,
          17,
          18,
          19,
          20,
          21,
          22,
          23
         ],
         "xaxis": "x5",
         "y": [
          0.0,
          0.0,
          0.0,
          0.005401548310969727,
          0.005740390824941998,
          0.01681057507554195,
          0.10060034920710852,
          0.2555948878630598,
          0.2799915488690633,
          0.13916461367967026,
          0.06357084200371531,
          0.039106412494917364,
          0.025281637924848718,
          0.017368668627966866,
          0.012995607006465912,
          0.010049670326165817,
          0.008678354740207452,
          0.008443158171685523,
          0.0062745660822629895,
          0.001953327433487208,
          0.0019134636083139994,
          0.0010563913670900205,
          3.986382517320832e-06,
          0.0
         ],
         "yaxis": "y5"
        },
        {
         "alignmentgroup": "True",
         "customdata": [
          [
           168.0,
           168.0
          ],
          [
           133.0,
           133.0
          ],
          [
           63.0,
           63.0
          ],
          [
           662.0,
           662.0
          ],
          [
           484.0,
           484.0
          ],
          [
           1208.0,
           1208.0
          ],
          [
           6059.0,
           6059.0
          ],
          [
           17417.0,
           17417.0
          ],
          [
           30017.0,
           30017.0
          ],
          [
           37189.0,
           37189.0
          ],
          [
           37746.0,
           37746.0
          ],
          [
           31668.0,
           31668.0
          ],
          [
           30640.0,
           30640.0
          ],
          [
           32279.0,
           32279.0
          ],
          [
           29819.0,
           29819.0
          ],
          [
           27615.0,
           27615.0
          ],
          [
           29825.0,
           29825.0
          ],
          [
           27381.0,
           27381.0
          ],
          [
           25634.0,
           25634.0
          ],
          [
           16126.0,
           16126.0
          ],
          [
           9965.0,
           9965.0
          ],
          [
           4850.0,
           4850.0
          ],
          [
           1247.0,
           1247.0
          ],
          [
           635.0,
           635.0
          ]
         ],
         "hovertemplate": "source=model<br>pdpurp_label=Shop<br>tlvorg_hr=%{x}<br>percentage=%{y}<br>toexpfac=%{customdata[0]}<br>sample_count=%{customdata[1]}<extra></extra>",
         "legendgroup": "model",
         "marker": {
          "color": "#91268F",
          "pattern": {
           "shape": ""
          }
         },
         "name": "model",
         "offsetgroup": "model",
         "orientation": "v",
         "showlegend": false,
         "textposition": "auto",
         "type": "bar",
         "x": [
          0,
          1,
          2,
          3,
          4,
          5,
          6,
          7,
          8,
          9,
          10,
          11,
          12,
          13,
          14,
          15,
          16,
          17,
          18,
          19,
          20,
          21,
          22,
          23
         ],
         "xaxis": "x4",
         "y": [
          0.00042123210390391895,
          0.00033347541559060253,
          0.0001579620389639696,
          0.0016598550760975855,
          0.001213549632675576,
          0.003028859413785322,
          0.015191936414010981,
          0.04367023543865808,
          0.075262643231452,
          0.09324524233382644,
          0.09464182734498408,
          0.07940225158588872,
          0.07682471228342903,
          0.08093423263044405,
          0.07476619110899381,
          0.06924002707920668,
          0.07478123511270467,
          0.06865331093448336,
          0.06427299852067297,
          0.040433267306872606,
          0.024985582829777097,
          0.012160569666273852,
          0.0031266454379058747,
          0.0015921570593987412
         ],
         "yaxis": "y4"
        },
        {
         "alignmentgroup": "True",
         "customdata": [
          [
           288.0,
           288.0
          ],
          [
           210.0,
           210.0
          ],
          [
           74.0,
           74.0
          ],
          [
           837.0,
           837.0
          ],
          [
           778.0,
           778.0
          ],
          [
           1826.0,
           1826.0
          ],
          [
           4732.0,
           4732.0
          ],
          [
           8387.0,
           8387.0
          ],
          [
           17883.0,
           17883.0
          ],
          [
           25773.0,
           25773.0
          ],
          [
           41341.0,
           41341.0
          ],
          [
           44998.0,
           44998.0
          ],
          [
           49024.0,
           49024.0
          ],
          [
           31896.0,
           31896.0
          ],
          [
           29593.0,
           29593.0
          ],
          [
           23293.0,
           23293.0
          ],
          [
           22225.0,
           22225.0
          ],
          [
           22304.0,
           22304.0
          ],
          [
           22284.0,
           22284.0
          ],
          [
           11855.0,
           11855.0
          ],
          [
           10667.0,
           10667.0
          ],
          [
           9356.0,
           9356.0
          ],
          [
           1484.0,
           1484.0
          ],
          [
           743.0,
           743.0
          ]
         ],
         "hovertemplate": "source=model<br>pdpurp_label=Meal<br>tlvorg_hr=%{x}<br>percentage=%{y}<br>toexpfac=%{customdata[0]}<br>sample_count=%{customdata[1]}<extra></extra>",
         "legendgroup": "model",
         "marker": {
          "color": "#91268F",
          "pattern": {
           "shape": ""
          }
         },
         "name": "model",
         "offsetgroup": "model",
         "orientation": "v",
         "showlegend": false,
         "textposition": "auto",
         "type": "bar",
         "x": [
          0,
          1,
          2,
          3,
          4,
          5,
          6,
          7,
          8,
          9,
          10,
          11,
          12,
          13,
          14,
          15,
          16,
          17,
          18,
          19,
          20,
          21,
          22,
          23
         ],
         "xaxis": "x3",
         "y": [
          0.000754220887204695,
          0.0005499527302534234,
          0.00019379286685120635,
          0.002191954453438645,
          0.002037443924462683,
          0.004781969930679768,
          0.012392268188377142,
          0.021964064517311727,
          0.04683240321486653,
          0.06749491293724516,
          0.10826474200669894,
          0.11784177598068357,
          0.1283851554663992,
          0.08352996325791998,
          0.07749881498280743,
          0.061000233075204725,
          0.058203330618487314,
          0.0584102175979636,
          0.05835784114746328,
          0.03104614103406826,
          0.027934979874348894,
          0.02450170354405252,
          0.0038863326271241926,
          0.0019457851360871125
         ],
         "yaxis": "y3"
        },
        {
         "alignmentgroup": "True",
         "customdata": [
          [
           115.0,
           115.0
          ],
          [
           122.0,
           122.0
          ],
          [
           59.0,
           59.0
          ],
          [
           3386.0,
           3386.0
          ],
          [
           2046.0,
           2046.0
          ],
          [
           3626.0,
           3626.0
          ],
          [
           11540.0,
           11540.0
          ],
          [
           21921.0,
           21921.0
          ],
          [
           32950.0,
           32950.0
          ],
          [
           37720.0,
           37720.0
          ],
          [
           33379.0,
           33379.0
          ],
          [
           25416.0,
           25416.0
          ],
          [
           23121.0,
           23121.0
          ],
          [
           23285.0,
           23285.0
          ],
          [
           21161.0,
           21161.0
          ],
          [
           19646.0,
           19646.0
          ],
          [
           19809.0,
           19809.0
          ],
          [
           16316.0,
           16316.0
          ],
          [
           14078.0,
           14078.0
          ],
          [
           9440.0,
           9440.0
          ],
          [
           6874.0,
           6874.0
          ],
          [
           3848.0,
           3848.0
          ],
          [
           1117.0,
           1117.0
          ],
          [
           559.0,
           559.0
          ]
         ],
         "hovertemplate": "source=model<br>pdpurp_label=Escort<br>tlvorg_hr=%{x}<br>percentage=%{y}<br>toexpfac=%{customdata[0]}<br>sample_count=%{customdata[1]}<extra></extra>",
         "legendgroup": "model",
         "marker": {
          "color": "#91268F",
          "pattern": {
           "shape": ""
          }
         },
         "name": "model",
         "offsetgroup": "model",
         "orientation": "v",
         "showlegend": false,
         "textposition": "auto",
         "type": "bar",
         "x": [
          0,
          1,
          2,
          3,
          4,
          5,
          6,
          7,
          8,
          9,
          10,
          11,
          12,
          13,
          14,
          15,
          16,
          17,
          18,
          19,
          20,
          21,
          22,
          23
         ],
         "xaxis": "x2",
         "y": [
          0.000346872417308632,
          0.00036798639053611397,
          0.00017796063148877643,
          0.010213130478321982,
          0.006171312746204009,
          0.01093703813183565,
          0.03480789300644881,
          0.06611991530280453,
          0.09938648826364717,
          0.11377415287723129,
          0.10068047319430284,
          0.07666182050709731,
          0.06973945357037287,
          0.07023412380027388,
          0.06382754106667793,
          0.059257874003872904,
          0.05974952795188427,
          0.04921365531137078,
          0.04246321644235584,
          0.028473701038204225,
          0.020733921709387274,
          0.011606652711335791,
          0.0033691868707281906,
          0.0016861015763089155
         ],
         "yaxis": "y2"
        },
        {
         "alignmentgroup": "True",
         "customdata": [
          [
           90.0,
           90.0
          ],
          [
           56.0,
           56.0
          ],
          [
           28.0,
           28.0
          ],
          [
           1346.0,
           1346.0
          ],
          [
           798.0,
           798.0
          ],
          [
           1780.0,
           1780.0
          ],
          [
           5716.0,
           5716.0
          ],
          [
           11868.0,
           11868.0
          ],
          [
           19651.0,
           19651.0
          ],
          [
           24078.0,
           24078.0
          ],
          [
           22516.0,
           22516.0
          ],
          [
           18352.0,
           18352.0
          ],
          [
           16937.0,
           16937.0
          ],
          [
           16956.0,
           16956.0
          ],
          [
           14251.0,
           14251.0
          ],
          [
           12903.0,
           12903.0
          ],
          [
           14242.0,
           14242.0
          ],
          [
           13250.0,
           13250.0
          ],
          [
           11603.0,
           11603.0
          ],
          [
           6680.0,
           6680.0
          ],
          [
           4878.0,
           4878.0
          ],
          [
           2888.0,
           2888.0
          ],
          [
           617.0,
           617.0
          ],
          [
           285.0,
           285.0
          ]
         ],
         "hovertemplate": "source=model<br>pdpurp_label=Personal Business<br>tlvorg_hr=%{x}<br>percentage=%{y}<br>toexpfac=%{customdata[0]}<br>sample_count=%{customdata[1]}<extra></extra>",
         "legendgroup": "model",
         "marker": {
          "color": "#91268F",
          "pattern": {
           "shape": ""
          }
         },
         "name": "model",
         "offsetgroup": "model",
         "orientation": "v",
         "showlegend": false,
         "textposition": "auto",
         "type": "bar",
         "x": [
          0,
          1,
          2,
          3,
          4,
          5,
          6,
          7,
          8,
          9,
          10,
          11,
          12,
          13,
          14,
          15,
          16,
          17,
          18,
          19,
          20,
          21,
          22,
          23
         ],
         "xaxis": "x",
         "y": [
          0.0004058276855647092,
          0.00025251500435137465,
          0.00012625750217568733,
          0.00606937849744554,
          0.0035983388120070883,
          0.008026369781168694,
          0.02577456722986531,
          0.053515144136466325,
          0.08861022054480112,
          0.10857243347807854,
          0.1015290685352777,
          0.08275277428315049,
          0.076372261226772,
          0.07645793596039122,
          0.06426055941091857,
          0.058182162520460476,
          0.06421997664236209,
          0.059746853708137745,
          0.052320207062303566,
          0.030121432661913975,
          0.02199586055760724,
          0.013022559510120891,
          0.0027821742443713956,
          0.001285121004288246
         ],
         "yaxis": "y"
        },
        {
         "alignmentgroup": "True",
         "customdata": [
          [
           0.0,
           0.0
          ],
          [
           336.44450309428765,
           1.0
          ],
          [
           0.0,
           0.0
          ],
          [
           17154.970722783244,
           21.0
          ],
          [
           72309.2759271303,
           65.0
          ],
          [
           128251.938554821,
           135.0
          ],
          [
           268928.47057188733,
           369.0
          ],
          [
           401134.6792789807,
           614.0
          ],
          [
           300316.65768972796,
           504.0
          ],
          [
           160981.42767417213,
           292.0
          ],
          [
           48644.65419114789,
           170.0
          ],
          [
           44032.36687773849,
           99.0
          ],
          [
           36170.26257801846,
           106.0
          ],
          [
           28940.024138195087,
           69.0
          ],
          [
           31653.242726690605,
           62.0
          ],
          [
           31906.584971488748,
           50.0
          ],
          [
           22127.830133244188,
           33.0
          ],
          [
           14291.335657223624,
           34.0
          ],
          [
           2267.9481000449223,
           10.0
          ],
          [
           865.1088108018309,
           7.0
          ],
          [
           314.1475515452016,
           7.0
          ],
          [
           132.01058147793358,
           3.0
          ],
          [
           449.34037066506176,
           6.0
          ],
          [
           272.9657027746568,
           1.0
          ]
         ],
         "hovertemplate": "source=survey<br>pdpurp_label=Work<br>tlvorg_hr=%{x}<br>percentage=%{y}<br>toexpfac=%{customdata[0]}<br>sample_count=%{customdata[1]}<extra></extra>",
         "legendgroup": "survey",
         "marker": {
          "color": "#8CC63E",
          "pattern": {
           "shape": ""
          }
         },
         "name": "survey",
         "offsetgroup": "survey",
         "orientation": "v",
         "showlegend": true,
         "textposition": "auto",
         "type": "bar",
         "x": [
          0,
          1,
          2,
          3,
          4,
          5,
          6,
          7,
          8,
          9,
          10,
          11,
          12,
          13,
          14,
          15,
          16,
          17,
          18,
          19,
          20,
          21,
          22,
          23
         ],
         "xaxis": "x6",
         "y": [
          0.0,
          0.00020877960062651535,
          0.0,
          0.010645464269209691,
          0.04487129856726461,
          0.07958634563736029,
          0.1668827344977107,
          0.24892289030455805,
          0.18636057738289105,
          0.0998965293502831,
          0.030186290402243868,
          0.02732414970916649,
          0.022445345090029805,
          0.017958642885007415,
          0.019642322327259387,
          0.01979953307733652,
          0.013731356867065222,
          0.008868444345183555,
          0.0014073682114412365,
          0.0005368406092432678,
          0.00019494329598550192,
          8.191875993204475e-05,
          0.0002788367836894963,
          0.00016938802651222907
         ],
         "yaxis": "y6"
        },
        {
         "alignmentgroup": "True",
         "customdata": [
          [
           0.0,
           0.0
          ],
          [
           0.0,
           0.0
          ],
          [
           0.0,
           0.0
          ],
          [
           0.0,
           0.0
          ],
          [
           100.55973888340068,
           1.0
          ],
          [
           527.1000394518072,
           4.0
          ],
          [
           41577.05378008238,
           28.0
          ],
          [
           214382.1086258829,
           229.0
          ],
          [
           207020.1356318789,
           262.0
          ],
          [
           63502.139114488964,
           55.0
          ],
          [
           13431.517652007868,
           19.0
          ],
          [
           5003.815828005313,
           14.0
          ],
          [
           6447.926856711914,
           9.0
          ],
          [
           3757.2137054583704,
           11.0
          ],
          [
           3157.864083000411,
           6.0
          ],
          [
           1222.7035960655046,
           4.0
          ],
          [
           4539.181912879321,
           7.0
          ],
          [
           1008.4886373917101,
           5.0
          ],
          [
           1756.1318416991594,
           1.0
          ],
          [
           0.0,
           0.0
          ],
          [
           0.0,
           0.0
          ],
          [
           0.0,
           0.0
          ],
          [
           0.0,
           0.0
          ],
          [
           0.0,
           0.0
          ]
         ],
         "hovertemplate": "source=survey<br>pdpurp_label=School<br>tlvorg_hr=%{x}<br>percentage=%{y}<br>toexpfac=%{customdata[0]}<br>sample_count=%{customdata[1]}<extra></extra>",
         "legendgroup": "survey",
         "marker": {
          "color": "#8CC63E",
          "pattern": {
           "shape": ""
          }
         },
         "name": "survey",
         "offsetgroup": "survey",
         "orientation": "v",
         "showlegend": false,
         "textposition": "auto",
         "type": "bar",
         "x": [
          0,
          1,
          2,
          3,
          4,
          5,
          6,
          7,
          8,
          9,
          10,
          11,
          12,
          13,
          14,
          15,
          16,
          17,
          18,
          19,
          20,
          21,
          22,
          23
         ],
         "xaxis": "x5",
         "y": [
          0.0,
          0.0,
          0.0,
          0.0,
          0.00017721840660148833,
          0.0009289187715527206,
          0.07327206001035921,
          0.37780980854175167,
          0.36483565866897455,
          0.11191106932670675,
          0.023670627857224024,
          0.008818323096429468,
          0.011363308378857096,
          0.006621411645814417,
          0.005565166012436623,
          0.002154794607132842,
          0.007999489604955163,
          0.001777279370240754,
          0.003094865700963299,
          0.0,
          0.0,
          0.0,
          0.0,
          0.0
         ],
         "yaxis": "y5"
        },
        {
         "alignmentgroup": "True",
         "customdata": [
          [
           166.4863951454292,
           1.0
          ],
          [
           0.0,
           0.0
          ],
          [
           662.2466529370209,
           1.0
          ],
          [
           0.0,
           0.0
          ],
          [
           0.0,
           0.0
          ],
          [
           901.0546542046006,
           5.0
          ],
          [
           5532.793852242862,
           8.0
          ],
          [
           14045.298172817911,
           36.0
          ],
          [
           21059.7046514777,
           53.0
          ],
          [
           62443.89068588348,
           115.0
          ],
          [
           72560.62892147792,
           163.0
          ],
          [
           82707.277951004,
           122.0
          ],
          [
           68650.19563570981,
           124.0
          ],
          [
           68937.39446829875,
           135.0
          ],
          [
           72796.59046329561,
           154.0
          ],
          [
           79675.93550766488,
           111.0
          ],
          [
           63885.99190200033,
           110.0
          ],
          [
           32986.57917254667,
           119.0
          ],
          [
           72341.72987769578,
           102.0
          ],
          [
           23715.49095716295,
           89.0
          ],
          [
           8447.69822059629,
           32.0
          ],
          [
           2342.646165108239,
           14.0
          ],
          [
           2725.31872692118,
           7.0
          ],
          [
           728.8646821814217,
           3.0
          ]
         ],
         "hovertemplate": "source=survey<br>pdpurp_label=Shop<br>tlvorg_hr=%{x}<br>percentage=%{y}<br>toexpfac=%{customdata[0]}<br>sample_count=%{customdata[1]}<extra></extra>",
         "legendgroup": "survey",
         "marker": {
          "color": "#8CC63E",
          "pattern": {
           "shape": ""
          }
         },
         "name": "survey",
         "offsetgroup": "survey",
         "orientation": "v",
         "showlegend": false,
         "textposition": "auto",
         "type": "bar",
         "x": [
          0,
          1,
          2,
          3,
          4,
          5,
          6,
          7,
          8,
          9,
          10,
          11,
          12,
          13,
          14,
          15,
          16,
          17,
          18,
          19,
          20,
          21,
          22,
          23
         ],
         "xaxis": "x4",
         "y": [
          0.00021983805293221423,
          0.0,
          0.0008744679384485281,
          0.0,
          0.0,
          0.0011898035307498656,
          0.00730581394767973,
          0.0185462061357477,
          0.027808425198132227,
          0.08245444520499928,
          0.09581315859293238,
          0.10921136788498331,
          0.09064960130097678,
          0.09102883488403085,
          0.096124735559175,
          0.10520861186439476,
          0.08435867721870452,
          0.04355734492210297,
          0.09552411191418272,
          0.03131527565240439,
          0.011154818548101679,
          0.0030933625008616977,
          0.003598664996156004,
          0.0009624341523032848
         ],
         "yaxis": "y4"
        },
        {
         "alignmentgroup": "True",
         "customdata": [
          [
           733.848789371946,
           1.0
          ],
          [
           0.0,
           0.0
          ],
          [
           0.0,
           0.0
          ],
          [
           0.0,
           0.0
          ],
          [
           27.04270096538557,
           1.0
          ],
          [
           53.44488706171494,
           2.0
          ],
          [
           3393.934942434769,
           8.0
          ],
          [
           27093.76031002745,
           20.0
          ],
          [
           16391.006537757985,
           44.0
          ],
          [
           18410.07410905099,
           49.0
          ],
          [
           25543.122018765695,
           57.0
          ],
          [
           39731.521763670826,
           106.0
          ],
          [
           44273.817291908104,
           116.0
          ],
          [
           16102.396109769408,
           61.0
          ],
          [
           15474.688898083583,
           38.0
          ],
          [
           36081.05880070184,
           56.0
          ],
          [
           21109.92693282935,
           57.0
          ],
          [
           34463.77797935851,
           96.0
          ],
          [
           46457.55191820943,
           104.0
          ],
          [
           40580.398698286626,
           55.0
          ],
          [
           16036.68506140813,
           32.0
          ],
          [
           4543.810978141886,
           11.0
          ],
          [
           74.74281813506278,
           2.0
          ],
          [
           687.0394163902474,
           2.0
          ]
         ],
         "hovertemplate": "source=survey<br>pdpurp_label=Meal<br>tlvorg_hr=%{x}<br>percentage=%{y}<br>toexpfac=%{customdata[0]}<br>sample_count=%{customdata[1]}<extra></extra>",
         "legendgroup": "survey",
         "marker": {
          "color": "#8CC63E",
          "pattern": {
           "shape": ""
          }
         },
         "name": "survey",
         "offsetgroup": "survey",
         "orientation": "v",
         "showlegend": false,
         "textposition": "auto",
         "type": "bar",
         "x": [
          0,
          1,
          2,
          3,
          4,
          5,
          6,
          7,
          8,
          9,
          10,
          11,
          12,
          13,
          14,
          15,
          16,
          17,
          18,
          19,
          20,
          21,
          22,
          23
         ],
         "xaxis": "x3",
         "y": [
          0.001801901023177307,
          0.0,
          0.0,
          0.0,
          6.640096876184752e-05,
          0.00013122920971569467,
          0.008333508120391282,
          0.06652634048240552,
          0.04024667190167217,
          0.045204314368713173,
          0.06271888482659697,
          0.09755724987925798,
          0.10871045620519507,
          0.03953801443296212,
          0.03799673469880808,
          0.08859385981401828,
          0.051833565020959795,
          0.08462276929925755,
          0.11407242411257239,
          0.09964159237486243,
          0.039376666745276255,
          0.011156927379610855,
          0.00018352440233360365,
          0.0016869647334517394
         ],
         "yaxis": "y3"
        },
        {
         "alignmentgroup": "True",
         "customdata": [
          [
           0.0,
           0.0
          ],
          [
           0.0,
           0.0
          ],
          [
           0.0,
           0.0
          ],
          [
           0.0,
           0.0
          ],
          [
           4702.810010024654,
           1.0
          ],
          [
           4201.195533753149,
           8.0
          ],
          [
           16249.48787374901,
           15.0
          ],
          [
           92460.73307430389,
           112.0
          ],
          [
           124568.78100120142,
           150.0
          ],
          [
           38043.97290225316,
           46.0
          ],
          [
           6703.6496569261435,
           27.0
          ],
          [
           11526.029976315505,
           23.0
          ],
          [
           15614.186330150638,
           38.0
          ],
          [
           46401.18250721781,
           47.0
          ],
          [
           65474.57329102764,
           72.0
          ],
          [
           77807.84595182707,
           81.0
          ],
          [
           44098.695741164745,
           55.0
          ],
          [
           58809.30003414918,
           53.0
          ],
          [
           4068.134248828388,
           17.0
          ],
          [
           11477.961557528906,
           16.0
          ],
          [
           2445.1192548554827,
           8.0
          ],
          [
           383.1175979045727,
           5.0
          ],
          [
           7071.584957891129,
           5.0
          ],
          [
           0.0,
           0.0
          ]
         ],
         "hovertemplate": "source=survey<br>pdpurp_label=Escort<br>tlvorg_hr=%{x}<br>percentage=%{y}<br>toexpfac=%{customdata[0]}<br>sample_count=%{customdata[1]}<extra></extra>",
         "legendgroup": "survey",
         "marker": {
          "color": "#8CC63E",
          "pattern": {
           "shape": ""
          }
         },
         "name": "survey",
         "offsetgroup": "survey",
         "orientation": "v",
         "showlegend": false,
         "textposition": "auto",
         "type": "bar",
         "x": [
          0,
          1,
          2,
          3,
          4,
          5,
          6,
          7,
          8,
          9,
          10,
          11,
          12,
          13,
          14,
          15,
          16,
          17,
          18,
          19,
          20,
          21,
          22,
          23
         ],
         "xaxis": "x2",
         "y": [
          0.0,
          0.0,
          0.0,
          0.0,
          0.007439879451771299,
          0.006646321722080274,
          0.02570680735050115,
          0.14627354850161559,
          0.19706871256280648,
          0.06018584030736415,
          0.01060522224545003,
          0.01823426279150074,
          0.024701755713326605,
          0.07340700635098162,
          0.10358124853078146,
          0.12309257508800578,
          0.0697644556329602,
          0.09303673802778734,
          0.0064358178068832355,
          0.018158218205296485,
          0.003868196346982406,
          0.0006060948110143337,
          0.01118729855289081,
          0.0
         ],
         "yaxis": "y2"
        },
        {
         "alignmentgroup": "True",
         "customdata": [
          [
           0.0,
           0.0
          ],
          [
           0.0,
           0.0
          ],
          [
           0.0,
           0.0
          ],
          [
           0.0,
           0.0
          ],
          [
           0.0,
           0.0
          ],
          [
           2697.322856265318,
           5.0
          ],
          [
           7478.406572067204,
           21.0
          ],
          [
           43493.68253811846,
           62.0
          ],
          [
           25501.656617981727,
           68.0
          ],
          [
           55942.030043046034,
           89.0
          ],
          [
           31850.94853326832,
           93.0
          ],
          [
           32355.10630041511,
           73.0
          ],
          [
           32724.87569255958,
           84.0
          ],
          [
           26075.212730844738,
           86.0
          ],
          [
           41582.43365519517,
           81.0
          ],
          [
           36176.00912549245,
           68.0
          ],
          [
           11406.706722195046,
           53.0
          ],
          [
           35587.07964023067,
           36.0
          ],
          [
           3055.0328284226825,
           22.0
          ],
          [
           15273.80260267744,
           15.0
          ],
          [
           7.950699623963349,
           1.0
          ],
          [
           34.18908663247187,
           1.0
          ],
          [
           229.01483689982024,
           1.0
          ],
          [
           0.0,
           0.0
          ]
         ],
         "hovertemplate": "source=survey<br>pdpurp_label=Personal Business<br>tlvorg_hr=%{x}<br>percentage=%{y}<br>toexpfac=%{customdata[0]}<br>sample_count=%{customdata[1]}<extra></extra>",
         "legendgroup": "survey",
         "marker": {
          "color": "#8CC63E",
          "pattern": {
           "shape": ""
          }
         },
         "name": "survey",
         "offsetgroup": "survey",
         "orientation": "v",
         "showlegend": false,
         "textposition": "auto",
         "type": "bar",
         "x": [
          0,
          1,
          2,
          3,
          4,
          5,
          6,
          7,
          8,
          9,
          10,
          11,
          12,
          13,
          14,
          15,
          16,
          17,
          18,
          19,
          20,
          21,
          22,
          23
         ],
         "xaxis": "x",
         "y": [
          0.0,
          0.0,
          0.0,
          0.0,
          0.0,
          0.006718591774857995,
          0.018627492355031777,
          0.1083356770140178,
          0.06352047178959279,
          0.1393424825074399,
          0.07933552349507571,
          0.08059129835336357,
          0.0815123336646855,
          0.06494910662036586,
          0.10357506743601042,
          0.09010854477177718,
          0.028412248012485885,
          0.08864161737505849,
          0.0076095890357675555,
          0.03804455380593096,
          1.9803897399174516e-05,
          8.515944456010593e-05,
          0.0005704386465793658,
          0.0
         ],
         "yaxis": "y"
        },
        {
         "alignmentgroup": "True",
         "customdata": [
          [
           0.0,
           0.0
          ],
          [
           551.958469674964,
           1.0
          ],
          [
           0.0,
           0.0
          ],
          [
           12103.963456859357,
           20.0
          ],
          [
           74931.36061469572,
           63.0
          ],
          [
           99400.45954333004,
           126.0
          ],
          [
           248864.77578781146,
           354.0
          ],
          [
           311397.3539980395,
           588.0
          ],
          [
           206346.47840445887,
           495.0
          ],
          [
           127703.56018230686,
           269.0
          ],
          [
           59092.504106178,
           166.0
          ],
          [
           37766.292036595085,
           93.0
          ],
          [
           26888.870887293404,
           95.0
          ],
          [
           30687.932298089298,
           67.0
          ],
          [
           32953.44141765535,
           59.0
          ],
          [
           26993.205859767655,
           52.0
          ],
          [
           15880.497234966046,
           27.0
          ],
          [
           9067.667081552125,
           38.0
          ],
          [
           3106.2604648083056,
           10.0
          ],
          [
           1354.8011261771373,
           8.0
          ],
          [
           2491.513138185322,
           8.0
          ],
          [
           1284.2515745934531,
           3.0
          ],
          [
           7463.727136272969,
           6.0
          ],
          [
           255.98038726538,
           1.0
          ]
         ],
         "hovertemplate": "source=survey (2017/2019)<br>pdpurp_label=Work<br>tlvorg_hr=%{x}<br>percentage=%{y}<br>toexpfac=%{customdata[0]}<br>sample_count=%{customdata[1]}<extra></extra>",
         "legendgroup": "survey (2017/2019)",
         "marker": {
          "color": "#00A7A0",
          "pattern": {
           "shape": ""
          }
         },
         "name": "survey (2017/2019)",
         "offsetgroup": "survey (2017/2019)",
         "orientation": "v",
         "showlegend": true,
         "textposition": "auto",
         "type": "bar",
         "x": [
          0,
          1,
          2,
          3,
          4,
          5,
          6,
          7,
          8,
          9,
          10,
          11,
          12,
          13,
          14,
          15,
          16,
          17,
          18,
          19,
          20,
          21,
          22,
          23
         ],
         "xaxis": "x6",
         "y": [
          0.0,
          0.00041296116861006844,
          0.0,
          0.009055874977154873,
          0.05606172193210347,
          0.07436887408859577,
          0.18619424156266162,
          0.2329795125434714,
          0.15438314210606763,
          0.09554452797799634,
          0.0442114957782111,
          0.028255770950820935,
          0.020117563465890585,
          0.02295992376293894,
          0.02465491957315578,
          0.020195624215977884,
          0.011881380677286129,
          0.006784195913815621,
          0.0023240244004406416,
          0.0010136274503221461,
          0.0018640862196720065,
          0.0009608440855083568,
          0.005584169189752665,
          0.00019151795954615829
         ],
         "yaxis": "y6"
        },
        {
         "alignmentgroup": "True",
         "customdata": [
          [
           0.0,
           0.0
          ],
          [
           0.0,
           0.0
          ],
          [
           0.0,
           0.0
          ],
          [
           0.0,
           0.0
          ],
          [
           75.6029420675361,
           1.0
          ],
          [
           944.6388505184881,
           3.0
          ],
          [
           26697.98862443798,
           28.0
          ],
          [
           177732.16684628103,
           225.0
          ],
          [
           224775.58031354484,
           254.0
          ],
          [
           48085.78968965203,
           55.0
          ],
          [
           16161.271083577121,
           16.0
          ],
          [
           3333.250470946136,
           11.0
          ],
          [
           5015.600869289834,
           10.0
          ],
          [
           7404.664188706871,
           9.0
          ],
          [
           2229.590294654095,
           10.0
          ],
          [
           387.7845844848059,
           5.0
          ],
          [
           4969.783185943033,
           6.0
          ],
          [
           1663.3036370758678,
           16.0
          ],
          [
           278.949359175002,
           2.0
          ],
          [
           156.064494787723,
           1.0
          ],
          [
           0.0,
           0.0
          ],
          [
           0.0,
           0.0
          ],
          [
           0.0,
           0.0
          ],
          [
           0.0,
           0.0
          ]
         ],
         "hovertemplate": "source=survey (2017/2019)<br>pdpurp_label=School<br>tlvorg_hr=%{x}<br>percentage=%{y}<br>toexpfac=%{customdata[0]}<br>sample_count=%{customdata[1]}<extra></extra>",
         "legendgroup": "survey (2017/2019)",
         "marker": {
          "color": "#00A7A0",
          "pattern": {
           "shape": ""
          }
         },
         "name": "survey (2017/2019)",
         "offsetgroup": "survey (2017/2019)",
         "orientation": "v",
         "showlegend": false,
         "textposition": "auto",
         "type": "bar",
         "x": [
          0,
          1,
          2,
          3,
          4,
          5,
          6,
          7,
          8,
          9,
          10,
          11,
          12,
          13,
          14,
          15,
          16,
          17,
          18,
          19,
          20,
          21,
          22,
          23
         ],
         "xaxis": "x5",
         "y": [
          0.0,
          0.0,
          0.0,
          0.0,
          0.00014541487364636436,
          0.0018169205500876552,
          0.051350973074125575,
          0.34185046081618436,
          0.4323338710930615,
          0.09248831911409082,
          0.031084626184040228,
          0.006411181665805157,
          0.009647018313346252,
          0.014242148227944748,
          0.004288399129899783,
          0.0007458657667646464,
          0.009558892475218251,
          0.003199202062862368,
          0.0005365318426620481,
          0.00030017481026026465,
          0.0,
          0.0,
          0.0,
          0.0
         ],
         "yaxis": "y5"
        },
        {
         "alignmentgroup": "True",
         "customdata": [
          [
           484.372679805163,
           1.0
          ],
          [
           0.0,
           0.0
          ],
          [
           306.34798152004703,
           1.0
          ],
          [
           0.0,
           0.0
          ],
          [
           0.0,
           0.0
          ],
          [
           666.5076935107627,
           5.0
          ],
          [
           313.25665406101865,
           3.0
          ],
          [
           14566.76265231447,
           36.0
          ],
          [
           13516.049841091384,
           51.0
          ],
          [
           50812.554897267575,
           115.0
          ],
          [
           82880.44853573837,
           157.0
          ],
          [
           55309.722403559426,
           114.0
          ],
          [
           45890.27107482399,
           117.0
          ],
          [
           50827.820885111934,
           126.0
          ],
          [
           75501.3702501398,
           148.0
          ],
          [
           32651.12387925838,
           103.0
          ],
          [
           53869.43630344453,
           99.0
          ],
          [
           42465.29577867404,
           112.0
          ],
          [
           59091.90904342833,
           92.0
          ],
          [
           17193.175848295632,
           83.0
          ],
          [
           2933.980540218817,
           23.0
          ],
          [
           766.8642961489354,
           9.0
          ],
          [
           1307.606066716253,
           7.0
          ],
          [
           8.1104247487979,
           1.0
          ]
         ],
         "hovertemplate": "source=survey (2017/2019)<br>pdpurp_label=Shop<br>tlvorg_hr=%{x}<br>percentage=%{y}<br>toexpfac=%{customdata[0]}<br>sample_count=%{customdata[1]}<extra></extra>",
         "legendgroup": "survey (2017/2019)",
         "marker": {
          "color": "#00A7A0",
          "pattern": {
           "shape": ""
          }
         },
         "name": "survey (2017/2019)",
         "offsetgroup": "survey (2017/2019)",
         "orientation": "v",
         "showlegend": false,
         "textposition": "auto",
         "type": "bar",
         "x": [
          0,
          1,
          2,
          3,
          4,
          5,
          6,
          7,
          8,
          9,
          10,
          11,
          12,
          13,
          14,
          15,
          16,
          17,
          18,
          19,
          20,
          21,
          22,
          23
         ],
         "xaxis": "x4",
         "y": [
          0.0008054580838665369,
          0.0,
          0.000509422740958001,
          0.0,
          0.0,
          0.0011083284257762582,
          0.0005209110977108029,
          0.024222911867761338,
          0.022475692912385506,
          0.08449564727799931,
          0.13782100033892822,
          0.09197393842336642,
          0.07631043481418438,
          0.08452103292386685,
          0.1255504109675166,
          0.0542952003124022,
          0.08957890226466977,
          0.07061508048404992,
          0.09826329562864856,
          0.028590345929334984,
          0.0048788844675900014,
          0.0012752103335188932,
          0.0021744039679801644,
          1.3486737485149266e-05
         ],
         "yaxis": "y4"
        },
        {
         "alignmentgroup": "True",
         "customdata": [
          [
           0.0,
           0.0
          ],
          [
           0.0,
           0.0
          ],
          [
           0.0,
           0.0
          ],
          [
           0.0,
           0.0
          ],
          [
           10.6381727331061,
           1.0
          ],
          [
           45.94185906792442,
           2.0
          ],
          [
           1619.3993794124167,
           7.0
          ],
          [
           24185.691730630075,
           21.0
          ],
          [
           16592.386288810565,
           43.0
          ],
          [
           14795.148137337193,
           46.0
          ],
          [
           16320.043882478165,
           53.0
          ],
          [
           51142.26052510319,
           105.0
          ],
          [
           37661.62049466346,
           109.0
          ],
          [
           34280.917362739485,
           57.0
          ],
          [
           11239.722298735183,
           37.0
          ],
          [
           18416.89838924778,
           53.0
          ],
          [
           18899.62355502986,
           57.0
          ],
          [
           52022.95421104775,
           88.0
          ],
          [
           36491.24558242314,
           99.0
          ],
          [
           41737.41209779713,
           51.0
          ],
          [
           7901.458825086891,
           30.0
          ],
          [
           13430.676065534126,
           12.0
          ],
          [
           71.5547812881571,
           2.0
          ],
          [
           1328.6639472156842,
           2.0
          ]
         ],
         "hovertemplate": "source=survey (2017/2019)<br>pdpurp_label=Meal<br>tlvorg_hr=%{x}<br>percentage=%{y}<br>toexpfac=%{customdata[0]}<br>sample_count=%{customdata[1]}<extra></extra>",
         "legendgroup": "survey (2017/2019)",
         "marker": {
          "color": "#00A7A0",
          "pattern": {
           "shape": ""
          }
         },
         "name": "survey (2017/2019)",
         "offsetgroup": "survey (2017/2019)",
         "orientation": "v",
         "showlegend": false,
         "textposition": "auto",
         "type": "bar",
         "x": [
          0,
          1,
          2,
          3,
          4,
          5,
          6,
          7,
          8,
          9,
          10,
          11,
          12,
          13,
          14,
          15,
          16,
          17,
          18,
          19,
          20,
          21,
          22,
          23
         ],
         "xaxis": "x3",
         "y": [
          0.0,
          0.0,
          0.0,
          0.0,
          2.671603753803088e-05,
          0.00011537549372609457,
          0.004066857692092951,
          0.06073842419835352,
          0.041669074761107365,
          0.037155603968316006,
          0.04098513118044606,
          0.12843545468258988,
          0.09458102365148606,
          0.08609093855479028,
          0.02822673126142941,
          0.04625103963296748,
          0.04746332523625084,
          0.13064717338311257,
          0.09164181774898399,
          0.10481671019261982,
          0.0198432264517848,
          0.03372895467388948,
          0.00017969817475992742,
          0.0033367230237554436
         ],
         "yaxis": "y3"
        },
        {
         "alignmentgroup": "True",
         "customdata": [
          [
           0.0,
           0.0
          ],
          [
           0.0,
           0.0
          ],
          [
           0.0,
           0.0
          ],
          [
           0.0,
           0.0
          ],
          [
           3756.89486105699,
           1.0
          ],
          [
           15977.13796108429,
           13.0
          ],
          [
           24639.469470863194,
           18.0
          ],
          [
           123296.63420487581,
           121.0
          ],
          [
           116124.15215709507,
           163.0
          ],
          [
           44784.66324259696,
           57.0
          ],
          [
           15896.147247396682,
           30.0
          ],
          [
           19721.257583932624,
           29.0
          ],
          [
           17818.68002140592,
           43.0
          ],
          [
           37185.892487532255,
           52.0
          ],
          [
           72148.76360733972,
           80.0
          ],
          [
           72334.71357971721,
           86.0
          ],
          [
           25184.81205221003,
           63.0
          ],
          [
           52928.80856852309,
           69.0
          ],
          [
           5787.712909927875,
           25.0
          ],
          [
           5242.84440129033,
           17.0
          ],
          [
           2041.5346810067565,
           8.0
          ],
          [
           898.543349349546,
           5.0
          ],
          [
           4675.392899869981,
           5.0
          ],
          [
           0.0,
           0.0
          ]
         ],
         "hovertemplate": "source=survey (2017/2019)<br>pdpurp_label=Escort<br>tlvorg_hr=%{x}<br>percentage=%{y}<br>toexpfac=%{customdata[0]}<br>sample_count=%{customdata[1]}<extra></extra>",
         "legendgroup": "survey (2017/2019)",
         "marker": {
          "color": "#00A7A0",
          "pattern": {
           "shape": ""
          }
         },
         "name": "survey (2017/2019)",
         "offsetgroup": "survey (2017/2019)",
         "orientation": "v",
         "showlegend": false,
         "textposition": "auto",
         "type": "bar",
         "x": [
          0,
          1,
          2,
          3,
          4,
          5,
          6,
          7,
          8,
          9,
          10,
          11,
          12,
          13,
          14,
          15,
          16,
          17,
          18,
          19,
          20,
          21,
          22,
          23
         ],
         "xaxis": "x2",
         "y": [
          0.0,
          0.0,
          0.0,
          0.0,
          0.005688437697306528,
          0.024191508475520353,
          0.037307428651399084,
          0.18668747673303326,
          0.17582738647957025,
          0.06780992709992745,
          0.024068877780249118,
          0.02986060276575646,
          0.026979847693020264,
          0.05630437913680473,
          0.10924280872810478,
          0.10952436167856122,
          0.03813314973554116,
          0.08014124458356522,
          0.008763365895408262,
          0.00793836262030011,
          0.0030911546022158766,
          0.001360513948390341,
          0.007079165695325601,
          0.0
         ],
         "yaxis": "y2"
        },
        {
         "alignmentgroup": "True",
         "customdata": [
          [
           0.0,
           0.0
          ],
          [
           0.0,
           0.0
          ],
          [
           0.0,
           0.0
          ],
          [
           0.0,
           0.0
          ],
          [
           0.0,
           0.0
          ],
          [
           10663.035371550308,
           5.0
          ],
          [
           5380.734653984139,
           21.0
          ],
          [
           29389.618600087004,
           57.0
          ],
          [
           23567.08931472589,
           54.0
          ],
          [
           21265.68791425479,
           80.0
          ],
          [
           31020.636880102895,
           82.0
          ],
          [
           29667.33682676109,
           61.0
          ],
          [
           20348.92199668735,
           73.0
          ],
          [
           28689.578870672518,
           79.0
          ],
          [
           40365.683206848276,
           73.0
          ],
          [
           28112.636222380563,
           55.0
          ],
          [
           8036.796422910787,
           44.0
          ],
          [
           15870.549173199572,
           29.0
          ],
          [
           5254.77023384645,
           16.0
          ],
          [
           7876.896164187973,
           12.0
          ],
          [
           817.8571988340665,
           8.0
          ],
          [
           208.4084893501812,
           3.0
          ],
          [
           46.9407483680735,
           1.0
          ],
          [
           0.0,
           0.0
          ]
         ],
         "hovertemplate": "source=survey (2017/2019)<br>pdpurp_label=Personal Business<br>tlvorg_hr=%{x}<br>percentage=%{y}<br>toexpfac=%{customdata[0]}<br>sample_count=%{customdata[1]}<extra></extra>",
         "legendgroup": "survey (2017/2019)",
         "marker": {
          "color": "#00A7A0",
          "pattern": {
           "shape": ""
          }
         },
         "name": "survey (2017/2019)",
         "offsetgroup": "survey (2017/2019)",
         "orientation": "v",
         "showlegend": false,
         "textposition": "auto",
         "type": "bar",
         "x": [
          0,
          1,
          2,
          3,
          4,
          5,
          6,
          7,
          8,
          9,
          10,
          11,
          12,
          13,
          14,
          15,
          16,
          17,
          18,
          19,
          20,
          21,
          22,
          23
         ],
         "xaxis": "x",
         "y": [
          0.0,
          0.0,
          0.0,
          0.0,
          0.0,
          0.03478023625127745,
          0.017550651943846557,
          0.09586181069728072,
          0.07687013177392757,
          0.06936351835398465,
          0.10118179690500324,
          0.0967676602230904,
          0.06637325019026956,
          0.0935784508165401,
          0.1316630724234658,
          0.09169660377094464,
          0.026214081502349815,
          0.051765883770218055,
          0.017139786543987432,
          0.025692525624381148,
          0.002667651902492109,
          0.0006797779660105618,
          0.0001531093409301892,
          0.0
         ],
         "yaxis": "y"
        },
        {
         "alignmentgroup": "True",
         "customdata": [
          [
           663.365825915265,
           1.0
          ],
          [
           0.0,
           0.0
          ],
          [
           66.61248155133971,
           2.0
          ],
          [
           11536.937249213654,
           35.0
          ],
          [
           47069.11064528897,
           144.0
          ],
          [
           176781.16049967616,
           464.0
          ],
          [
           333470.07784518355,
           1342.0
          ],
          [
           393071.5312644363,
           2287.0
          ],
          [
           269789.2629268085,
           1877.0
          ],
          [
           165885.5016349633,
           1035.0
          ],
          [
           74340.1775894003,
           457.0
          ],
          [
           26843.559387681602,
           262.0
          ],
          [
           38841.596463089445,
           243.0
          ],
          [
           29706.812597293483,
           196.0
          ],
          [
           18524.446823193204,
           130.0
          ],
          [
           19186.686366792266,
           73.0
          ],
          [
           10080.046467017171,
           76.0
          ],
          [
           9235.107314169933,
           64.0
          ],
          [
           4129.18919406304,
           39.0
          ],
          [
           2189.811752997616,
           13.0
          ],
          [
           1627.1968036848762,
           10.0
          ],
          [
           2.034207699983375,
           1.0
          ],
          [
           988.686151042609,
           2.0
          ],
          [
           988.686151042609,
           2.0
          ]
         ],
         "hovertemplate": "source=survey (old weights)<br>pdpurp_label=Work<br>tlvorg_hr=%{x}<br>percentage=%{y}<br>toexpfac=%{customdata[0]}<br>sample_count=%{customdata[1]}<extra></extra>",
         "legendgroup": "survey (old weights)",
         "marker": {
          "color": "#F05A28",
          "pattern": {
           "shape": ""
          }
         },
         "name": "survey (old weights)",
         "offsetgroup": "survey (old weights)",
         "orientation": "v",
         "showlegend": true,
         "textposition": "auto",
         "type": "bar",
         "x": [
          0,
          1,
          2,
          3,
          4,
          5,
          6,
          7,
          8,
          9,
          10,
          11,
          12,
          13,
          14,
          15,
          16,
          17,
          18,
          19,
          20,
          21,
          22,
          23
         ],
         "xaxis": "x6",
         "y": [
          0.00040572396705202367,
          0.0,
          4.074114043016966e-05,
          0.007056154787477896,
          0.028788137028717912,
          0.10812187021999356,
          0.20395503897087572,
          0.24040813495296282,
          0.16500694751901204,
          0.10145793040648632,
          0.045467509155010535,
          0.016417902428935104,
          0.023756072423380268,
          0.01816910878520972,
          0.011329814951170301,
          0.011734850067950726,
          0.006165099679387678,
          0.0056483228850181914,
          0.0025254707961660976,
          0.0013393199902896813,
          0.0009952166912646034,
          1.2441503399821667e-06,
          0.0006046945014343298,
          0.0006046945014343298
         ],
         "yaxis": "y6"
        },
        {
         "alignmentgroup": "True",
         "customdata": [
          [
           0.0,
           0.0
          ],
          [
           0.0,
           0.0
          ],
          [
           0.0,
           0.0
          ],
          [
           0.0,
           0.0
          ],
          [
           0.0,
           0.0
          ],
          [
           10420.739136253758,
           19.0
          ],
          [
           67142.96212951338,
           117.0
          ],
          [
           184966.19363985493,
           500.0
          ],
          [
           158860.18151059185,
           567.0
          ],
          [
           36237.686969387454,
           140.0
          ],
          [
           13587.301864651045,
           57.0
          ],
          [
           5464.016981777703,
           29.0
          ],
          [
           9372.079396235318,
           46.0
          ],
          [
           3740.5243791076186,
           32.0
          ],
          [
           2899.564229654071,
           33.0
          ],
          [
           17571.078593923314,
           29.0
          ],
          [
           5634.82123136347,
           27.0
          ],
          [
           8698.721489859108,
           38.0
          ],
          [
           675.101533826343,
           11.0
          ],
          [
           75.14674575208934,
           3.0
          ],
          [
           0.0,
           0.0
          ],
          [
           0.0,
           0.0
          ],
          [
           0.0,
           0.0
          ],
          [
           0.0,
           0.0
          ]
         ],
         "hovertemplate": "source=survey (old weights)<br>pdpurp_label=School<br>tlvorg_hr=%{x}<br>percentage=%{y}<br>toexpfac=%{customdata[0]}<br>sample_count=%{customdata[1]}<extra></extra>",
         "legendgroup": "survey (old weights)",
         "marker": {
          "color": "#F05A28",
          "pattern": {
           "shape": ""
          }
         },
         "name": "survey (old weights)",
         "offsetgroup": "survey (old weights)",
         "orientation": "v",
         "showlegend": false,
         "textposition": "auto",
         "type": "bar",
         "x": [
          0,
          1,
          2,
          3,
          4,
          5,
          6,
          7,
          8,
          9,
          10,
          11,
          12,
          13,
          14,
          15,
          16,
          17,
          18,
          19,
          20,
          21,
          22,
          23
         ],
         "xaxis": "x5",
         "y": [
          0.0,
          0.0,
          0.0,
          0.0,
          0.0,
          0.019835949563291964,
          0.12780709630256096,
          0.35208443853947685,
          0.3023914625303957,
          0.06897868967033205,
          0.025863523783144233,
          0.010400794401084797,
          0.017839818440529915,
          0.007120114221659366,
          0.005519340716902395,
          0.03344667054845797,
          0.010725921480429114,
          0.016558076973415128,
          0.0012850604741166693,
          0.00014304235420289392,
          0.0,
          0.0,
          0.0,
          0.0
         ],
         "yaxis": "y5"
        },
        {
         "alignmentgroup": "True",
         "customdata": [
          [
           83.24521252225395,
           2.0
          ],
          [
           0.0,
           0.0
          ],
          [
           0.54525469613021,
           1.0
          ],
          [
           11.087229656279533,
           1.0
          ],
          [
           608.1118660539306,
           3.0
          ],
          [
           313.64492561617914,
           3.0
          ],
          [
           6154.285694475873,
           16.0
          ],
          [
           13477.069989906293,
           54.0
          ],
          [
           22829.075462720826,
           87.0
          ],
          [
           134178.91188748827,
           211.0
          ],
          [
           102892.5138371521,
           225.0
          ],
          [
           91115.22510114146,
           230.0
          ],
          [
           89633.42932089815,
           201.0
          ],
          [
           28021.09586572641,
           219.0
          ],
          [
           51437.909248826996,
           190.0
          ],
          [
           64356.26229586238,
           200.0
          ],
          [
           35570.71695496434,
           203.0
          ],
          [
           44948.3250943588,
           206.0
          ],
          [
           25821.858260572855,
           201.0
          ],
          [
           37186.01221540861,
           173.0
          ],
          [
           16066.913929221468,
           97.0
          ],
          [
           18875.0258305438,
           49.0
          ],
          [
           557.4277959529774,
           17.0
          ],
          [
           2123.97370652186,
           7.0
          ]
         ],
         "hovertemplate": "source=survey (old weights)<br>pdpurp_label=Shop<br>tlvorg_hr=%{x}<br>percentage=%{y}<br>toexpfac=%{customdata[0]}<br>sample_count=%{customdata[1]}<extra></extra>",
         "legendgroup": "survey (old weights)",
         "marker": {
          "color": "#F05A28",
          "pattern": {
           "shape": ""
          }
         },
         "name": "survey (old weights)",
         "offsetgroup": "survey (old weights)",
         "orientation": "v",
         "showlegend": false,
         "textposition": "auto",
         "type": "bar",
         "x": [
          0,
          1,
          2,
          3,
          4,
          5,
          6,
          7,
          8,
          9,
          10,
          11,
          12,
          13,
          14,
          15,
          16,
          17,
          18,
          19,
          20,
          21,
          22,
          23
         ],
         "xaxis": "x4",
         "y": [
          0.00010587455823378287,
          0.0,
          6.934765174904071e-07,
          1.410117778942885e-05,
          0.0007734207556737221,
          0.00039890603838633267,
          0.007827264288296882,
          0.017140671375974366,
          0.02903492232487385,
          0.17065405432870714,
          0.13086277418247513,
          0.11588395192547753,
          0.11399934536526238,
          0.03563833950471529,
          0.06542077019423911,
          0.08185084323414253,
          0.045240246610686534,
          0.05716706004494254,
          0.03284126201711192,
          0.0472946430971024,
          0.02043453746942848,
          0.024006005401521882,
          0.0007089587479637415,
          0.0027013538804775894
         ],
         "yaxis": "y4"
        },
        {
         "alignmentgroup": "True",
         "customdata": [
          [
           0.0,
           0.0
          ],
          [
           0.0,
           0.0
          ],
          [
           0.0,
           0.0
          ],
          [
           0.0,
           0.0
          ],
          [
           104.37588060467607,
           2.0
          ],
          [
           1004.4129807216316,
           5.0
          ],
          [
           11355.197307710752,
           17.0
          ],
          [
           4466.581191293693,
           65.0
          ],
          [
           9391.502890534057,
           82.0
          ],
          [
           10422.979978670439,
           76.0
          ],
          [
           23115.5301076332,
           88.0
          ],
          [
           79799.76079279731,
           284.0
          ],
          [
           62591.6262206511,
           315.0
          ],
          [
           24590.122393228034,
           131.0
          ],
          [
           6320.630172016207,
           78.0
          ],
          [
           9277.003714894172,
           76.0
          ],
          [
           23708.461352219336,
           119.0
          ],
          [
           33989.64241910098,
           196.0
          ],
          [
           47203.97984922029,
           242.0
          ],
          [
           10816.375339993585,
           164.0
          ],
          [
           5593.375487917707,
           82.0
          ],
          [
           496.1524996618177,
           23.0
          ],
          [
           5109.103377173227,
           8.0
          ],
          [
           0.0,
           0.0
          ]
         ],
         "hovertemplate": "source=survey (old weights)<br>pdpurp_label=Meal<br>tlvorg_hr=%{x}<br>percentage=%{y}<br>toexpfac=%{customdata[0]}<br>sample_count=%{customdata[1]}<extra></extra>",
         "legendgroup": "survey (old weights)",
         "marker": {
          "color": "#F05A28",
          "pattern": {
           "shape": ""
          }
         },
         "name": "survey (old weights)",
         "offsetgroup": "survey (old weights)",
         "orientation": "v",
         "showlegend": false,
         "textposition": "auto",
         "type": "bar",
         "x": [
          0,
          1,
          2,
          3,
          4,
          5,
          6,
          7,
          8,
          9,
          10,
          11,
          12,
          13,
          14,
          15,
          16,
          17,
          18,
          19,
          20,
          21,
          22,
          23
         ],
         "xaxis": "x3",
         "y": [
          0.0,
          0.0,
          0.0,
          0.0,
          0.0002825882091811037,
          0.0027193568461990484,
          0.030743164546199908,
          0.012092862572247736,
          0.025426640407537615,
          0.028219270864489575,
          0.06258319661156764,
          0.21605059870993584,
          0.16946113854041484,
          0.06657552118736476,
          0.017112531658258337,
          0.02511664429723569,
          0.06418850406003589,
          0.09202386726009106,
          0.12780048469564206,
          0.02928435304643076,
          0.015143555707038842,
          0.0013432877935774747,
          0.01383243298655178,
          0.0
         ],
         "yaxis": "y3"
        },
        {
         "alignmentgroup": "True",
         "customdata": [
          [
           0.0,
           0.0
          ],
          [
           0.0,
           0.0
          ],
          [
           0.0,
           0.0
          ],
          [
           68.99716112623685,
           2.0
          ],
          [
           1608.8011555079395,
           8.0
          ],
          [
           3465.3706566656138,
           13.0
          ],
          [
           5061.683382412336,
           43.0
          ],
          [
           57099.760693835706,
           219.0
          ],
          [
           72887.47341573531,
           233.0
          ],
          [
           14689.853983763353,
           60.0
          ],
          [
           9347.769180612217,
           31.0
          ],
          [
           14275.894103075514,
           49.0
          ],
          [
           11401.469748573028,
           45.0
          ],
          [
           21614.71229882211,
           57.0
          ],
          [
           41300.91505807778,
           101.0
          ],
          [
           38700.8359611188,
           135.0
          ],
          [
           21628.900277144017,
           129.0
          ],
          [
           53721.58878294915,
           109.0
          ],
          [
           30992.11923970363,
           74.0
          ],
          [
           17977.90415949376,
           42.0
          ],
          [
           11720.508583892459,
           24.0
          ],
          [
           6335.466793934933,
           24.0
          ],
          [
           636.9309530825855,
           9.0
          ],
          [
           330.4532993800188,
           3.0
          ]
         ],
         "hovertemplate": "source=survey (old weights)<br>pdpurp_label=Escort<br>tlvorg_hr=%{x}<br>percentage=%{y}<br>toexpfac=%{customdata[0]}<br>sample_count=%{customdata[1]}<extra></extra>",
         "legendgroup": "survey (old weights)",
         "marker": {
          "color": "#F05A28",
          "pattern": {
           "shape": ""
          }
         },
         "name": "survey (old weights)",
         "offsetgroup": "survey (old weights)",
         "orientation": "v",
         "showlegend": false,
         "textposition": "auto",
         "type": "bar",
         "x": [
          0,
          1,
          2,
          3,
          4,
          5,
          6,
          7,
          8,
          9,
          10,
          11,
          12,
          13,
          14,
          15,
          16,
          17,
          18,
          19,
          20,
          21,
          22,
          23
         ],
         "xaxis": "x2",
         "y": [
          0.0,
          0.0,
          0.0,
          0.00015866252498094934,
          0.0036995211014282567,
          0.007968798272373857,
          0.011639601586481316,
          0.1313038400364988,
          0.16760849842015987,
          0.03378007568168002,
          0.021495676589091656,
          0.032828153619400134,
          0.0262182667993078,
          0.0497041439689584,
          0.09497358094413721,
          0.08899456517102552,
          0.04973676995571183,
          0.12353555977029573,
          0.07126797411396961,
          0.04134111637712194,
          0.02695191302985559,
          0.014568732134059336,
          0.0014646555250253282,
          0.0007598943784367112
         ],
         "yaxis": "y2"
        },
        {
         "alignmentgroup": "True",
         "customdata": [
          [
           0.0,
           0.0
          ],
          [
           0.0,
           0.0
          ],
          [
           0.0,
           0.0
          ],
          [
           415.12771485007175,
           5.0
          ],
          [
           693.6507083663261,
           7.0
          ],
          [
           4797.110596523593,
           19.0
          ],
          [
           18699.95978341244,
           69.0
          ],
          [
           47346.51151895759,
           148.0
          ],
          [
           71276.96887912303,
           291.0
          ],
          [
           87578.65479472806,
           260.0
          ],
          [
           82767.1937357741,
           271.0
          ],
          [
           107315.8052870485,
           182.0
          ],
          [
           36318.72193470561,
           209.0
          ],
          [
           32255.442975107242,
           195.0
          ],
          [
           80591.80973502366,
           192.0
          ],
          [
           51540.58708666739,
           196.0
          ],
          [
           55075.73985185104,
           193.0
          ],
          [
           83275.02395238561,
           171.0
          ],
          [
           36066.86538050676,
           180.0
          ],
          [
           11826.822830027118,
           92.0
          ],
          [
           4337.791814374124,
           39.0
          ],
          [
           2041.160644579677,
           18.0
          ],
          [
           700.3758568446026,
           9.0
          ],
          [
           68.08898090709165,
           2.0
          ]
         ],
         "hovertemplate": "source=survey (old weights)<br>pdpurp_label=Personal Business<br>tlvorg_hr=%{x}<br>percentage=%{y}<br>toexpfac=%{customdata[0]}<br>sample_count=%{customdata[1]}<extra></extra>",
         "legendgroup": "survey (old weights)",
         "marker": {
          "color": "#F05A28",
          "pattern": {
           "shape": ""
          }
         },
         "name": "survey (old weights)",
         "offsetgroup": "survey (old weights)",
         "orientation": "v",
         "showlegend": false,
         "textposition": "auto",
         "type": "bar",
         "x": [
          0,
          1,
          2,
          3,
          4,
          5,
          6,
          7,
          8,
          9,
          10,
          11,
          12,
          13,
          14,
          15,
          16,
          17,
          18,
          19,
          20,
          21,
          22,
          23
         ],
         "xaxis": "x",
         "y": [
          0.0,
          0.0,
          0.0,
          0.0005093657754168221,
          0.0008511162186871767,
          0.005886101725684557,
          0.022945033960889302,
          0.058094633748665414,
          0.08745753950826327,
          0.10745986792423656,
          0.10155615804047931,
          0.13167754505203377,
          0.04456342782871191,
          0.03957774471493046,
          0.09888694054732353,
          0.06324080558273534,
          0.06757847267900481,
          0.10217927069427511,
          0.044254397367882184,
          0.014511627545055238,
          0.005322513077507761,
          0.0025045241194077503,
          0.000859368041793393,
          8.354584701627984e-05
         ],
         "yaxis": "y"
        }
       ],
       "layout": {
        "annotations": [
         {
          "font": {},
          "showarrow": false,
          "text": "Personal Business",
          "textangle": 90,
          "x": 0.98,
          "xanchor": "left",
          "xref": "paper",
          "y": 0.07083333333333333,
          "yanchor": "middle",
          "yref": "paper"
         },
         {
          "font": {},
          "showarrow": false,
          "text": "Escort",
          "textangle": 90,
          "x": 0.98,
          "xanchor": "left",
          "xref": "paper",
          "y": 0.2425,
          "yanchor": "middle",
          "yref": "paper"
         },
         {
          "font": {},
          "showarrow": false,
          "text": "Meal",
          "textangle": 90,
          "x": 0.98,
          "xanchor": "left",
          "xref": "paper",
          "y": 0.4141666666666667,
          "yanchor": "middle",
          "yref": "paper"
         },
         {
          "font": {},
          "showarrow": false,
          "text": "Shop",
          "textangle": 90,
          "x": 0.98,
          "xanchor": "left",
          "xref": "paper",
          "y": 0.5858333333333334,
          "yanchor": "middle",
          "yref": "paper"
         },
         {
          "font": {},
          "showarrow": false,
          "text": "School",
          "textangle": 90,
          "x": 0.98,
          "xanchor": "left",
          "xref": "paper",
          "y": 0.7575000000000001,
          "yanchor": "middle",
          "yref": "paper"
         },
         {
          "font": {},
          "showarrow": false,
          "text": "Work",
          "textangle": 90,
          "x": 0.98,
          "xanchor": "left",
          "xref": "paper",
          "y": 0.9291666666666667,
          "yanchor": "middle",
          "yref": "paper"
         }
        ],
        "barmode": "group",
        "height": 1500,
        "legend": {
         "title": {
          "text": "source"
         },
         "tracegroupgap": 0
        },
        "template": {
         "data": {
          "bar": [
           {
            "error_x": {
             "color": "rgb(36,36,36)"
            },
            "error_y": {
             "color": "rgb(36,36,36)"
            },
            "marker": {
             "line": {
              "color": "white",
              "width": 0.5
             },
             "pattern": {
              "fillmode": "overlay",
              "size": 10,
              "solidity": 0.2
             }
            },
            "type": "bar"
           }
          ],
          "barpolar": [
           {
            "marker": {
             "line": {
              "color": "white",
              "width": 0.5
             },
             "pattern": {
              "fillmode": "overlay",
              "size": 10,
              "solidity": 0.2
             }
            },
            "type": "barpolar"
           }
          ],
          "carpet": [
           {
            "aaxis": {
             "endlinecolor": "rgb(36,36,36)",
             "gridcolor": "white",
             "linecolor": "white",
             "minorgridcolor": "white",
             "startlinecolor": "rgb(36,36,36)"
            },
            "baxis": {
             "endlinecolor": "rgb(36,36,36)",
             "gridcolor": "white",
             "linecolor": "white",
             "minorgridcolor": "white",
             "startlinecolor": "rgb(36,36,36)"
            },
            "type": "carpet"
           }
          ],
          "choropleth": [
           {
            "colorbar": {
             "outlinewidth": 1,
             "tickcolor": "rgb(36,36,36)",
             "ticks": "outside"
            },
            "type": "choropleth"
           }
          ],
          "contour": [
           {
            "colorbar": {
             "outlinewidth": 1,
             "tickcolor": "rgb(36,36,36)",
             "ticks": "outside"
            },
            "colorscale": [
             [
              0.0,
              "#440154"
             ],
             [
              0.1111111111111111,
              "#482878"
             ],
             [
              0.2222222222222222,
              "#3e4989"
             ],
             [
              0.3333333333333333,
              "#31688e"
             ],
             [
              0.4444444444444444,
              "#26828e"
             ],
             [
              0.5555555555555556,
              "#1f9e89"
             ],
             [
              0.6666666666666666,
              "#35b779"
             ],
             [
              0.7777777777777778,
              "#6ece58"
             ],
             [
              0.8888888888888888,
              "#b5de2b"
             ],
             [
              1.0,
              "#fde725"
             ]
            ],
            "type": "contour"
           }
          ],
          "contourcarpet": [
           {
            "colorbar": {
             "outlinewidth": 1,
             "tickcolor": "rgb(36,36,36)",
             "ticks": "outside"
            },
            "type": "contourcarpet"
           }
          ],
          "heatmap": [
           {
            "colorbar": {
             "outlinewidth": 1,
             "tickcolor": "rgb(36,36,36)",
             "ticks": "outside"
            },
            "colorscale": [
             [
              0.0,
              "#440154"
             ],
             [
              0.1111111111111111,
              "#482878"
             ],
             [
              0.2222222222222222,
              "#3e4989"
             ],
             [
              0.3333333333333333,
              "#31688e"
             ],
             [
              0.4444444444444444,
              "#26828e"
             ],
             [
              0.5555555555555556,
              "#1f9e89"
             ],
             [
              0.6666666666666666,
              "#35b779"
             ],
             [
              0.7777777777777778,
              "#6ece58"
             ],
             [
              0.8888888888888888,
              "#b5de2b"
             ],
             [
              1.0,
              "#fde725"
             ]
            ],
            "type": "heatmap"
           }
          ],
          "heatmapgl": [
           {
            "colorbar": {
             "outlinewidth": 1,
             "tickcolor": "rgb(36,36,36)",
             "ticks": "outside"
            },
            "colorscale": [
             [
              0.0,
              "#440154"
             ],
             [
              0.1111111111111111,
              "#482878"
             ],
             [
              0.2222222222222222,
              "#3e4989"
             ],
             [
              0.3333333333333333,
              "#31688e"
             ],
             [
              0.4444444444444444,
              "#26828e"
             ],
             [
              0.5555555555555556,
              "#1f9e89"
             ],
             [
              0.6666666666666666,
              "#35b779"
             ],
             [
              0.7777777777777778,
              "#6ece58"
             ],
             [
              0.8888888888888888,
              "#b5de2b"
             ],
             [
              1.0,
              "#fde725"
             ]
            ],
            "type": "heatmapgl"
           }
          ],
          "histogram": [
           {
            "marker": {
             "line": {
              "color": "white",
              "width": 0.6
             }
            },
            "type": "histogram"
           }
          ],
          "histogram2d": [
           {
            "colorbar": {
             "outlinewidth": 1,
             "tickcolor": "rgb(36,36,36)",
             "ticks": "outside"
            },
            "colorscale": [
             [
              0.0,
              "#440154"
             ],
             [
              0.1111111111111111,
              "#482878"
             ],
             [
              0.2222222222222222,
              "#3e4989"
             ],
             [
              0.3333333333333333,
              "#31688e"
             ],
             [
              0.4444444444444444,
              "#26828e"
             ],
             [
              0.5555555555555556,
              "#1f9e89"
             ],
             [
              0.6666666666666666,
              "#35b779"
             ],
             [
              0.7777777777777778,
              "#6ece58"
             ],
             [
              0.8888888888888888,
              "#b5de2b"
             ],
             [
              1.0,
              "#fde725"
             ]
            ],
            "type": "histogram2d"
           }
          ],
          "histogram2dcontour": [
           {
            "colorbar": {
             "outlinewidth": 1,
             "tickcolor": "rgb(36,36,36)",
             "ticks": "outside"
            },
            "colorscale": [
             [
              0.0,
              "#440154"
             ],
             [
              0.1111111111111111,
              "#482878"
             ],
             [
              0.2222222222222222,
              "#3e4989"
             ],
             [
              0.3333333333333333,
              "#31688e"
             ],
             [
              0.4444444444444444,
              "#26828e"
             ],
             [
              0.5555555555555556,
              "#1f9e89"
             ],
             [
              0.6666666666666666,
              "#35b779"
             ],
             [
              0.7777777777777778,
              "#6ece58"
             ],
             [
              0.8888888888888888,
              "#b5de2b"
             ],
             [
              1.0,
              "#fde725"
             ]
            ],
            "type": "histogram2dcontour"
           }
          ],
          "mesh3d": [
           {
            "colorbar": {
             "outlinewidth": 1,
             "tickcolor": "rgb(36,36,36)",
             "ticks": "outside"
            },
            "type": "mesh3d"
           }
          ],
          "parcoords": [
           {
            "line": {
             "colorbar": {
              "outlinewidth": 1,
              "tickcolor": "rgb(36,36,36)",
              "ticks": "outside"
             }
            },
            "type": "parcoords"
           }
          ],
          "pie": [
           {
            "automargin": true,
            "type": "pie"
           }
          ],
          "scatter": [
           {
            "fillpattern": {
             "fillmode": "overlay",
             "size": 10,
             "solidity": 0.2
            },
            "type": "scatter"
           }
          ],
          "scatter3d": [
           {
            "line": {
             "colorbar": {
              "outlinewidth": 1,
              "tickcolor": "rgb(36,36,36)",
              "ticks": "outside"
             }
            },
            "marker": {
             "colorbar": {
              "outlinewidth": 1,
              "tickcolor": "rgb(36,36,36)",
              "ticks": "outside"
             }
            },
            "type": "scatter3d"
           }
          ],
          "scattercarpet": [
           {
            "marker": {
             "colorbar": {
              "outlinewidth": 1,
              "tickcolor": "rgb(36,36,36)",
              "ticks": "outside"
             }
            },
            "type": "scattercarpet"
           }
          ],
          "scattergeo": [
           {
            "marker": {
             "colorbar": {
              "outlinewidth": 1,
              "tickcolor": "rgb(36,36,36)",
              "ticks": "outside"
             }
            },
            "type": "scattergeo"
           }
          ],
          "scattergl": [
           {
            "marker": {
             "colorbar": {
              "outlinewidth": 1,
              "tickcolor": "rgb(36,36,36)",
              "ticks": "outside"
             }
            },
            "type": "scattergl"
           }
          ],
          "scattermapbox": [
           {
            "marker": {
             "colorbar": {
              "outlinewidth": 1,
              "tickcolor": "rgb(36,36,36)",
              "ticks": "outside"
             }
            },
            "type": "scattermapbox"
           }
          ],
          "scatterpolar": [
           {
            "marker": {
             "colorbar": {
              "outlinewidth": 1,
              "tickcolor": "rgb(36,36,36)",
              "ticks": "outside"
             }
            },
            "type": "scatterpolar"
           }
          ],
          "scatterpolargl": [
           {
            "marker": {
             "colorbar": {
              "outlinewidth": 1,
              "tickcolor": "rgb(36,36,36)",
              "ticks": "outside"
             }
            },
            "type": "scatterpolargl"
           }
          ],
          "scatterternary": [
           {
            "marker": {
             "colorbar": {
              "outlinewidth": 1,
              "tickcolor": "rgb(36,36,36)",
              "ticks": "outside"
             }
            },
            "type": "scatterternary"
           }
          ],
          "surface": [
           {
            "colorbar": {
             "outlinewidth": 1,
             "tickcolor": "rgb(36,36,36)",
             "ticks": "outside"
            },
            "colorscale": [
             [
              0.0,
              "#440154"
             ],
             [
              0.1111111111111111,
              "#482878"
             ],
             [
              0.2222222222222222,
              "#3e4989"
             ],
             [
              0.3333333333333333,
              "#31688e"
             ],
             [
              0.4444444444444444,
              "#26828e"
             ],
             [
              0.5555555555555556,
              "#1f9e89"
             ],
             [
              0.6666666666666666,
              "#35b779"
             ],
             [
              0.7777777777777778,
              "#6ece58"
             ],
             [
              0.8888888888888888,
              "#b5de2b"
             ],
             [
              1.0,
              "#fde725"
             ]
            ],
            "type": "surface"
           }
          ],
          "table": [
           {
            "cells": {
             "fill": {
              "color": "rgb(237,237,237)"
             },
             "line": {
              "color": "white"
             }
            },
            "header": {
             "fill": {
              "color": "rgb(217,217,217)"
             },
             "line": {
              "color": "white"
             }
            },
            "type": "table"
           }
          ]
         },
         "layout": {
          "annotationdefaults": {
           "arrowhead": 0,
           "arrowwidth": 1
          },
          "autotypenumbers": "strict",
          "coloraxis": {
           "colorbar": {
            "outlinewidth": 1,
            "tickcolor": "rgb(36,36,36)",
            "ticks": "outside"
           }
          },
          "colorscale": {
           "diverging": [
            [
             0.0,
             "rgb(103,0,31)"
            ],
            [
             0.1,
             "rgb(178,24,43)"
            ],
            [
             0.2,
             "rgb(214,96,77)"
            ],
            [
             0.3,
             "rgb(244,165,130)"
            ],
            [
             0.4,
             "rgb(253,219,199)"
            ],
            [
             0.5,
             "rgb(247,247,247)"
            ],
            [
             0.6,
             "rgb(209,229,240)"
            ],
            [
             0.7,
             "rgb(146,197,222)"
            ],
            [
             0.8,
             "rgb(67,147,195)"
            ],
            [
             0.9,
             "rgb(33,102,172)"
            ],
            [
             1.0,
             "rgb(5,48,97)"
            ]
           ],
           "sequential": [
            [
             0.0,
             "#440154"
            ],
            [
             0.1111111111111111,
             "#482878"
            ],
            [
             0.2222222222222222,
             "#3e4989"
            ],
            [
             0.3333333333333333,
             "#31688e"
            ],
            [
             0.4444444444444444,
             "#26828e"
            ],
            [
             0.5555555555555556,
             "#1f9e89"
            ],
            [
             0.6666666666666666,
             "#35b779"
            ],
            [
             0.7777777777777778,
             "#6ece58"
            ],
            [
             0.8888888888888888,
             "#b5de2b"
            ],
            [
             1.0,
             "#fde725"
            ]
           ],
           "sequentialminus": [
            [
             0.0,
             "#440154"
            ],
            [
             0.1111111111111111,
             "#482878"
            ],
            [
             0.2222222222222222,
             "#3e4989"
            ],
            [
             0.3333333333333333,
             "#31688e"
            ],
            [
             0.4444444444444444,
             "#26828e"
            ],
            [
             0.5555555555555556,
             "#1f9e89"
            ],
            [
             0.6666666666666666,
             "#35b779"
            ],
            [
             0.7777777777777778,
             "#6ece58"
            ],
            [
             0.8888888888888888,
             "#b5de2b"
            ],
            [
             1.0,
             "#fde725"
            ]
           ]
          },
          "colorway": [
           "#91268F",
           "#8CC63E",
           "#00A7A0",
           "#F05A28",
           "#4C4C4C",
           "#630460",
           "#9f3913",
           "#588527",
           "#00716c",
           "#3e4040"
          ],
          "font": {
           "color": "rgb(36,36,36)",
           "family": "Poppins",
           "size": 11
          },
          "geo": {
           "bgcolor": "white",
           "lakecolor": "white",
           "landcolor": "white",
           "showlakes": true,
           "showland": true,
           "subunitcolor": "white"
          },
          "hoverlabel": {
           "align": "left"
          },
          "hovermode": "closest",
          "mapbox": {
           "style": "light"
          },
          "paper_bgcolor": "white",
          "plot_bgcolor": "white",
          "polar": {
           "angularaxis": {
            "gridcolor": "rgb(232,232,232)",
            "linecolor": "rgb(36,36,36)",
            "showgrid": false,
            "showline": true,
            "ticks": "outside"
           },
           "bgcolor": "white",
           "radialaxis": {
            "gridcolor": "rgb(232,232,232)",
            "linecolor": "rgb(36,36,36)",
            "showgrid": false,
            "showline": true,
            "ticks": "outside"
           }
          },
          "scene": {
           "xaxis": {
            "backgroundcolor": "white",
            "gridcolor": "rgb(232,232,232)",
            "gridwidth": 2,
            "linecolor": "rgb(36,36,36)",
            "showbackground": true,
            "showgrid": false,
            "showline": true,
            "ticks": "outside",
            "zeroline": false,
            "zerolinecolor": "rgb(36,36,36)"
           },
           "yaxis": {
            "backgroundcolor": "white",
            "gridcolor": "rgb(232,232,232)",
            "gridwidth": 2,
            "linecolor": "rgb(36,36,36)",
            "showbackground": true,
            "showgrid": false,
            "showline": true,
            "ticks": "outside",
            "zeroline": false,
            "zerolinecolor": "rgb(36,36,36)"
           },
           "zaxis": {
            "backgroundcolor": "white",
            "gridcolor": "rgb(232,232,232)",
            "gridwidth": 2,
            "linecolor": "rgb(36,36,36)",
            "showbackground": true,
            "showgrid": false,
            "showline": true,
            "ticks": "outside",
            "zeroline": false,
            "zerolinecolor": "rgb(36,36,36)"
           }
          },
          "shapedefaults": {
           "fillcolor": "black",
           "line": {
            "width": 0
           },
           "opacity": 0.3
          },
          "ternary": {
           "aaxis": {
            "gridcolor": "rgb(232,232,232)",
            "linecolor": "rgb(36,36,36)",
            "showgrid": false,
            "showline": true,
            "ticks": "outside"
           },
           "baxis": {
            "gridcolor": "rgb(232,232,232)",
            "linecolor": "rgb(36,36,36)",
            "showgrid": false,
            "showline": true,
            "ticks": "outside"
           },
           "bgcolor": "white",
           "caxis": {
            "gridcolor": "rgb(232,232,232)",
            "linecolor": "rgb(36,36,36)",
            "showgrid": false,
            "showline": true,
            "ticks": "outside"
           }
          },
          "title": {
           "x": 0.05
          },
          "xaxis": {
           "automargin": true,
           "gridcolor": "rgb(232,232,232)",
           "linecolor": "rgb(36,36,36)",
           "showgrid": false,
           "showline": true,
           "ticks": "outside",
           "title": {
            "standoff": 15
           },
           "zeroline": false,
           "zerolinecolor": "rgb(36,36,36)"
          },
          "yaxis": {
           "automargin": true,
           "gridcolor": "rgb(232,232,232)",
           "linecolor": "rgb(36,36,36)",
           "showgrid": false,
           "showline": true,
           "ticks": "outside",
           "title": {
            "standoff": 15
           },
           "zeroline": false,
           "zerolinecolor": "rgb(36,36,36)"
          }
         }
        },
        "title": {
         "text": "tour origin departure hour by purpose"
        },
        "width": 850,
        "xaxis": {
         "anchor": "y",
         "categoryorder": "category ascending",
         "domain": [
          0.0,
          0.98
         ],
         "dtick": 1,
         "title": {
          "text": "tlvorg_hr"
         }
        },
        "xaxis2": {
         "anchor": "y2",
         "categoryorder": "category ascending",
         "domain": [
          0.0,
          0.98
         ],
         "dtick": 1,
         "matches": "x",
         "showticklabels": false
        },
        "xaxis3": {
         "anchor": "y3",
         "categoryorder": "category ascending",
         "domain": [
          0.0,
          0.98
         ],
         "dtick": 1,
         "matches": "x",
         "showticklabels": false
        },
        "xaxis4": {
         "anchor": "y4",
         "categoryorder": "category ascending",
         "domain": [
          0.0,
          0.98
         ],
         "dtick": 1,
         "matches": "x",
         "showticklabels": false
        },
        "xaxis5": {
         "anchor": "y5",
         "categoryorder": "category ascending",
         "domain": [
          0.0,
          0.98
         ],
         "dtick": 1,
         "matches": "x",
         "showticklabels": false
        },
        "xaxis6": {
         "anchor": "y6",
         "categoryorder": "category ascending",
         "domain": [
          0.0,
          0.98
         ],
         "dtick": 1,
         "matches": "x",
         "showticklabels": false
        },
        "yaxis": {
         "anchor": "x",
         "domain": [
          0.0,
          0.14166666666666666
         ],
         "tickformat": ".0%",
         "title": {
          "text": "percentage"
         }
        },
        "yaxis2": {
         "anchor": "x2",
         "domain": [
          0.17166666666666666,
          0.31333333333333335
         ],
         "matches": "y",
         "tickformat": ".0%",
         "title": {
          "text": "percentage"
         }
        },
        "yaxis3": {
         "anchor": "x3",
         "domain": [
          0.3433333333333333,
          0.485
         ],
         "matches": "y",
         "tickformat": ".0%",
         "title": {
          "text": "percentage"
         }
        },
        "yaxis4": {
         "anchor": "x4",
         "domain": [
          0.515,
          0.6566666666666667
         ],
         "matches": "y",
         "tickformat": ".0%",
         "title": {
          "text": "percentage"
         }
        },
        "yaxis5": {
         "anchor": "x5",
         "domain": [
          0.6866666666666666,
          0.8283333333333334
         ],
         "matches": "y",
         "tickformat": ".0%",
         "title": {
          "text": "percentage"
         }
        },
        "yaxis6": {
         "anchor": "x6",
         "domain": [
          0.8583333333333333,
          1.0
         ],
         "matches": "y",
         "tickformat": ".0%",
         "title": {
          "text": "percentage"
         }
        }
       }
      },
      "text/html": [
       "<div>                            <div id=\"0c5fddbd-3aa5-4f7a-a6f6-3f1c50ca021b\" class=\"plotly-graph-div\" style=\"height:1500px; width:850px;\"></div>            <script type=\"text/javascript\">                require([\"plotly\"], function(Plotly) {                    window.PLOTLYENV=window.PLOTLYENV || {};                                    if (document.getElementById(\"0c5fddbd-3aa5-4f7a-a6f6-3f1c50ca021b\")) {                    Plotly.newPlot(                        \"0c5fddbd-3aa5-4f7a-a6f6-3f1c50ca021b\",                        [{\"alignmentgroup\":\"True\",\"customdata\":[[764.0,764.0],[471.0,471.0],[183.0,183.0],[22818.0,22818.0],[22827.0,22827.0],[51108.0,51108.0],[127032.0,127032.0],[164007.0,164007.0],[131632.0,131632.0],[66431.0,66431.0],[38333.0,38333.0],[30356.0,30356.0],[24461.0,24461.0],[19495.0,19495.0],[17313.0,17313.0],[15640.0,15640.0],[15300.0,15300.0],[15205.0,15205.0],[12531.0,12531.0],[6754.0,6754.0],[5371.0,5371.0],[3661.0,3661.0],[1676.0,1676.0],[1141.0,1141.0]],\"hovertemplate\":\"source=model\\u003cbr\\u003epdpurp_label=Work\\u003cbr\\u003etlvorg_hr=%{x}\\u003cbr\\u003epercentage=%{y}\\u003cbr\\u003etoexpfac=%{customdata[0]}\\u003cbr\\u003esample_count=%{customdata[1]}\\u003cextra\\u003e\\u003c\\u002fextra\\u003e\",\"legendgroup\":\"model\",\"marker\":{\"color\":\"#91268F\",\"pattern\":{\"shape\":\"\"}},\"name\":\"model\",\"offsetgroup\":\"model\",\"orientation\":\"v\",\"showlegend\":true,\"textposition\":\"auto\",\"x\":[0,1,2,3,4,5,6,7,8,9,10,11,12,13,14,15,16,17,18,19,20,21,22,23],\"xaxis\":\"x6\",\"y\":[0.0009615989729518823,0.0005928182150004406,0.00023033064404475714,0.028719588173842996,0.028730915910435362,0.06432644019584398,0.15988722608903602,0.2064253439226693,0.16567695812513372,0.08361254106304515,0.04824734742168129,0.03820719688864835,0.030787529420649204,0.02453713609646197,0.02179078929151301,0.01968508892273225,0.019257152207020678,0.01913758165410127,0.01577198524876968,0.008500836993870435,0.006760141470843664,0.004607871518294295,0.002109476280978213,0.001436105272432065],\"yaxis\":\"y6\",\"type\":\"bar\"},{\"alignmentgroup\":\"True\",\"customdata\":[[0.0,0.0],[0.0,0.0],[0.0,0.0],[1355.0,1355.0],[1440.0,1440.0],[4217.0,4217.0],[25236.0,25236.0],[64117.0,64117.0],[70237.0,70237.0],[34910.0,34910.0],[15947.0,15947.0],[9810.0,9810.0],[6342.0,6342.0],[4357.0,4357.0],[3260.0,3260.0],[2521.0,2521.0],[2177.0,2177.0],[2118.0,2118.0],[1574.0,1574.0],[490.0,490.0],[480.0,480.0],[265.0,265.0],[1.0,1.0],[0.0,0.0]],\"hovertemplate\":\"source=model\\u003cbr\\u003epdpurp_label=School\\u003cbr\\u003etlvorg_hr=%{x}\\u003cbr\\u003epercentage=%{y}\\u003cbr\\u003etoexpfac=%{customdata[0]}\\u003cbr\\u003esample_count=%{customdata[1]}\\u003cextra\\u003e\\u003c\\u002fextra\\u003e\",\"legendgroup\":\"model\",\"marker\":{\"color\":\"#91268F\",\"pattern\":{\"shape\":\"\"}},\"name\":\"model\",\"offsetgroup\":\"model\",\"orientation\":\"v\",\"showlegend\":false,\"textposition\":\"auto\",\"x\":[0,1,2,3,4,5,6,7,8,9,10,11,12,13,14,15,16,17,18,19,20,21,22,23],\"xaxis\":\"x5\",\"y\":[0.0,0.0,0.0,0.005401548310969727,0.005740390824941998,0.01681057507554195,0.10060034920710852,0.2555948878630598,0.2799915488690633,0.13916461367967026,0.06357084200371531,0.039106412494917364,0.025281637924848718,0.017368668627966866,0.012995607006465912,0.010049670326165817,0.008678354740207452,0.008443158171685523,0.0062745660822629895,0.001953327433487208,0.0019134636083139994,0.0010563913670900205,3.986382517320832e-06,0.0],\"yaxis\":\"y5\",\"type\":\"bar\"},{\"alignmentgroup\":\"True\",\"customdata\":[[168.0,168.0],[133.0,133.0],[63.0,63.0],[662.0,662.0],[484.0,484.0],[1208.0,1208.0],[6059.0,6059.0],[17417.0,17417.0],[30017.0,30017.0],[37189.0,37189.0],[37746.0,37746.0],[31668.0,31668.0],[30640.0,30640.0],[32279.0,32279.0],[29819.0,29819.0],[27615.0,27615.0],[29825.0,29825.0],[27381.0,27381.0],[25634.0,25634.0],[16126.0,16126.0],[9965.0,9965.0],[4850.0,4850.0],[1247.0,1247.0],[635.0,635.0]],\"hovertemplate\":\"source=model\\u003cbr\\u003epdpurp_label=Shop\\u003cbr\\u003etlvorg_hr=%{x}\\u003cbr\\u003epercentage=%{y}\\u003cbr\\u003etoexpfac=%{customdata[0]}\\u003cbr\\u003esample_count=%{customdata[1]}\\u003cextra\\u003e\\u003c\\u002fextra\\u003e\",\"legendgroup\":\"model\",\"marker\":{\"color\":\"#91268F\",\"pattern\":{\"shape\":\"\"}},\"name\":\"model\",\"offsetgroup\":\"model\",\"orientation\":\"v\",\"showlegend\":false,\"textposition\":\"auto\",\"x\":[0,1,2,3,4,5,6,7,8,9,10,11,12,13,14,15,16,17,18,19,20,21,22,23],\"xaxis\":\"x4\",\"y\":[0.00042123210390391895,0.00033347541559060253,0.0001579620389639696,0.0016598550760975855,0.001213549632675576,0.003028859413785322,0.015191936414010981,0.04367023543865808,0.075262643231452,0.09324524233382644,0.09464182734498408,0.07940225158588872,0.07682471228342903,0.08093423263044405,0.07476619110899381,0.06924002707920668,0.07478123511270467,0.06865331093448336,0.06427299852067297,0.040433267306872606,0.024985582829777097,0.012160569666273852,0.0031266454379058747,0.0015921570593987412],\"yaxis\":\"y4\",\"type\":\"bar\"},{\"alignmentgroup\":\"True\",\"customdata\":[[288.0,288.0],[210.0,210.0],[74.0,74.0],[837.0,837.0],[778.0,778.0],[1826.0,1826.0],[4732.0,4732.0],[8387.0,8387.0],[17883.0,17883.0],[25773.0,25773.0],[41341.0,41341.0],[44998.0,44998.0],[49024.0,49024.0],[31896.0,31896.0],[29593.0,29593.0],[23293.0,23293.0],[22225.0,22225.0],[22304.0,22304.0],[22284.0,22284.0],[11855.0,11855.0],[10667.0,10667.0],[9356.0,9356.0],[1484.0,1484.0],[743.0,743.0]],\"hovertemplate\":\"source=model\\u003cbr\\u003epdpurp_label=Meal\\u003cbr\\u003etlvorg_hr=%{x}\\u003cbr\\u003epercentage=%{y}\\u003cbr\\u003etoexpfac=%{customdata[0]}\\u003cbr\\u003esample_count=%{customdata[1]}\\u003cextra\\u003e\\u003c\\u002fextra\\u003e\",\"legendgroup\":\"model\",\"marker\":{\"color\":\"#91268F\",\"pattern\":{\"shape\":\"\"}},\"name\":\"model\",\"offsetgroup\":\"model\",\"orientation\":\"v\",\"showlegend\":false,\"textposition\":\"auto\",\"x\":[0,1,2,3,4,5,6,7,8,9,10,11,12,13,14,15,16,17,18,19,20,21,22,23],\"xaxis\":\"x3\",\"y\":[0.000754220887204695,0.0005499527302534234,0.00019379286685120635,0.002191954453438645,0.002037443924462683,0.004781969930679768,0.012392268188377142,0.021964064517311727,0.04683240321486653,0.06749491293724516,0.10826474200669894,0.11784177598068357,0.1283851554663992,0.08352996325791998,0.07749881498280743,0.061000233075204725,0.058203330618487314,0.0584102175979636,0.05835784114746328,0.03104614103406826,0.027934979874348894,0.02450170354405252,0.0038863326271241926,0.0019457851360871125],\"yaxis\":\"y3\",\"type\":\"bar\"},{\"alignmentgroup\":\"True\",\"customdata\":[[115.0,115.0],[122.0,122.0],[59.0,59.0],[3386.0,3386.0],[2046.0,2046.0],[3626.0,3626.0],[11540.0,11540.0],[21921.0,21921.0],[32950.0,32950.0],[37720.0,37720.0],[33379.0,33379.0],[25416.0,25416.0],[23121.0,23121.0],[23285.0,23285.0],[21161.0,21161.0],[19646.0,19646.0],[19809.0,19809.0],[16316.0,16316.0],[14078.0,14078.0],[9440.0,9440.0],[6874.0,6874.0],[3848.0,3848.0],[1117.0,1117.0],[559.0,559.0]],\"hovertemplate\":\"source=model\\u003cbr\\u003epdpurp_label=Escort\\u003cbr\\u003etlvorg_hr=%{x}\\u003cbr\\u003epercentage=%{y}\\u003cbr\\u003etoexpfac=%{customdata[0]}\\u003cbr\\u003esample_count=%{customdata[1]}\\u003cextra\\u003e\\u003c\\u002fextra\\u003e\",\"legendgroup\":\"model\",\"marker\":{\"color\":\"#91268F\",\"pattern\":{\"shape\":\"\"}},\"name\":\"model\",\"offsetgroup\":\"model\",\"orientation\":\"v\",\"showlegend\":false,\"textposition\":\"auto\",\"x\":[0,1,2,3,4,5,6,7,8,9,10,11,12,13,14,15,16,17,18,19,20,21,22,23],\"xaxis\":\"x2\",\"y\":[0.000346872417308632,0.00036798639053611397,0.00017796063148877643,0.010213130478321982,0.006171312746204009,0.01093703813183565,0.03480789300644881,0.06611991530280453,0.09938648826364717,0.11377415287723129,0.10068047319430284,0.07666182050709731,0.06973945357037287,0.07023412380027388,0.06382754106667793,0.059257874003872904,0.05974952795188427,0.04921365531137078,0.04246321644235584,0.028473701038204225,0.020733921709387274,0.011606652711335791,0.0033691868707281906,0.0016861015763089155],\"yaxis\":\"y2\",\"type\":\"bar\"},{\"alignmentgroup\":\"True\",\"customdata\":[[90.0,90.0],[56.0,56.0],[28.0,28.0],[1346.0,1346.0],[798.0,798.0],[1780.0,1780.0],[5716.0,5716.0],[11868.0,11868.0],[19651.0,19651.0],[24078.0,24078.0],[22516.0,22516.0],[18352.0,18352.0],[16937.0,16937.0],[16956.0,16956.0],[14251.0,14251.0],[12903.0,12903.0],[14242.0,14242.0],[13250.0,13250.0],[11603.0,11603.0],[6680.0,6680.0],[4878.0,4878.0],[2888.0,2888.0],[617.0,617.0],[285.0,285.0]],\"hovertemplate\":\"source=model\\u003cbr\\u003epdpurp_label=Personal Business\\u003cbr\\u003etlvorg_hr=%{x}\\u003cbr\\u003epercentage=%{y}\\u003cbr\\u003etoexpfac=%{customdata[0]}\\u003cbr\\u003esample_count=%{customdata[1]}\\u003cextra\\u003e\\u003c\\u002fextra\\u003e\",\"legendgroup\":\"model\",\"marker\":{\"color\":\"#91268F\",\"pattern\":{\"shape\":\"\"}},\"name\":\"model\",\"offsetgroup\":\"model\",\"orientation\":\"v\",\"showlegend\":false,\"textposition\":\"auto\",\"x\":[0,1,2,3,4,5,6,7,8,9,10,11,12,13,14,15,16,17,18,19,20,21,22,23],\"xaxis\":\"x\",\"y\":[0.0004058276855647092,0.00025251500435137465,0.00012625750217568733,0.00606937849744554,0.0035983388120070883,0.008026369781168694,0.02577456722986531,0.053515144136466325,0.08861022054480112,0.10857243347807854,0.1015290685352777,0.08275277428315049,0.076372261226772,0.07645793596039122,0.06426055941091857,0.058182162520460476,0.06421997664236209,0.059746853708137745,0.052320207062303566,0.030121432661913975,0.02199586055760724,0.013022559510120891,0.0027821742443713956,0.001285121004288246],\"yaxis\":\"y\",\"type\":\"bar\"},{\"alignmentgroup\":\"True\",\"customdata\":[[0.0,0.0],[336.44450309428765,1.0],[0.0,0.0],[17154.970722783244,21.0],[72309.2759271303,65.0],[128251.938554821,135.0],[268928.47057188733,369.0],[401134.6792789807,614.0],[300316.65768972796,504.0],[160981.42767417213,292.0],[48644.65419114789,170.0],[44032.36687773849,99.0],[36170.26257801846,106.0],[28940.024138195087,69.0],[31653.242726690605,62.0],[31906.584971488748,50.0],[22127.830133244188,33.0],[14291.335657223624,34.0],[2267.9481000449223,10.0],[865.1088108018309,7.0],[314.1475515452016,7.0],[132.01058147793358,3.0],[449.34037066506176,6.0],[272.9657027746568,1.0]],\"hovertemplate\":\"source=survey\\u003cbr\\u003epdpurp_label=Work\\u003cbr\\u003etlvorg_hr=%{x}\\u003cbr\\u003epercentage=%{y}\\u003cbr\\u003etoexpfac=%{customdata[0]}\\u003cbr\\u003esample_count=%{customdata[1]}\\u003cextra\\u003e\\u003c\\u002fextra\\u003e\",\"legendgroup\":\"survey\",\"marker\":{\"color\":\"#8CC63E\",\"pattern\":{\"shape\":\"\"}},\"name\":\"survey\",\"offsetgroup\":\"survey\",\"orientation\":\"v\",\"showlegend\":true,\"textposition\":\"auto\",\"x\":[0,1,2,3,4,5,6,7,8,9,10,11,12,13,14,15,16,17,18,19,20,21,22,23],\"xaxis\":\"x6\",\"y\":[0.0,0.00020877960062651535,0.0,0.010645464269209691,0.04487129856726461,0.07958634563736029,0.1668827344977107,0.24892289030455805,0.18636057738289105,0.0998965293502831,0.030186290402243868,0.02732414970916649,0.022445345090029805,0.017958642885007415,0.019642322327259387,0.01979953307733652,0.013731356867065222,0.008868444345183555,0.0014073682114412365,0.0005368406092432678,0.00019494329598550192,8.191875993204475e-05,0.0002788367836894963,0.00016938802651222907],\"yaxis\":\"y6\",\"type\":\"bar\"},{\"alignmentgroup\":\"True\",\"customdata\":[[0.0,0.0],[0.0,0.0],[0.0,0.0],[0.0,0.0],[100.55973888340068,1.0],[527.1000394518072,4.0],[41577.05378008238,28.0],[214382.1086258829,229.0],[207020.1356318789,262.0],[63502.139114488964,55.0],[13431.517652007868,19.0],[5003.815828005313,14.0],[6447.926856711914,9.0],[3757.2137054583704,11.0],[3157.864083000411,6.0],[1222.7035960655046,4.0],[4539.181912879321,7.0],[1008.4886373917101,5.0],[1756.1318416991594,1.0],[0.0,0.0],[0.0,0.0],[0.0,0.0],[0.0,0.0],[0.0,0.0]],\"hovertemplate\":\"source=survey\\u003cbr\\u003epdpurp_label=School\\u003cbr\\u003etlvorg_hr=%{x}\\u003cbr\\u003epercentage=%{y}\\u003cbr\\u003etoexpfac=%{customdata[0]}\\u003cbr\\u003esample_count=%{customdata[1]}\\u003cextra\\u003e\\u003c\\u002fextra\\u003e\",\"legendgroup\":\"survey\",\"marker\":{\"color\":\"#8CC63E\",\"pattern\":{\"shape\":\"\"}},\"name\":\"survey\",\"offsetgroup\":\"survey\",\"orientation\":\"v\",\"showlegend\":false,\"textposition\":\"auto\",\"x\":[0,1,2,3,4,5,6,7,8,9,10,11,12,13,14,15,16,17,18,19,20,21,22,23],\"xaxis\":\"x5\",\"y\":[0.0,0.0,0.0,0.0,0.00017721840660148833,0.0009289187715527206,0.07327206001035921,0.37780980854175167,0.36483565866897455,0.11191106932670675,0.023670627857224024,0.008818323096429468,0.011363308378857096,0.006621411645814417,0.005565166012436623,0.002154794607132842,0.007999489604955163,0.001777279370240754,0.003094865700963299,0.0,0.0,0.0,0.0,0.0],\"yaxis\":\"y5\",\"type\":\"bar\"},{\"alignmentgroup\":\"True\",\"customdata\":[[166.4863951454292,1.0],[0.0,0.0],[662.2466529370209,1.0],[0.0,0.0],[0.0,0.0],[901.0546542046006,5.0],[5532.793852242862,8.0],[14045.298172817911,36.0],[21059.7046514777,53.0],[62443.89068588348,115.0],[72560.62892147792,163.0],[82707.277951004,122.0],[68650.19563570981,124.0],[68937.39446829875,135.0],[72796.59046329561,154.0],[79675.93550766488,111.0],[63885.99190200033,110.0],[32986.57917254667,119.0],[72341.72987769578,102.0],[23715.49095716295,89.0],[8447.69822059629,32.0],[2342.646165108239,14.0],[2725.31872692118,7.0],[728.8646821814217,3.0]],\"hovertemplate\":\"source=survey\\u003cbr\\u003epdpurp_label=Shop\\u003cbr\\u003etlvorg_hr=%{x}\\u003cbr\\u003epercentage=%{y}\\u003cbr\\u003etoexpfac=%{customdata[0]}\\u003cbr\\u003esample_count=%{customdata[1]}\\u003cextra\\u003e\\u003c\\u002fextra\\u003e\",\"legendgroup\":\"survey\",\"marker\":{\"color\":\"#8CC63E\",\"pattern\":{\"shape\":\"\"}},\"name\":\"survey\",\"offsetgroup\":\"survey\",\"orientation\":\"v\",\"showlegend\":false,\"textposition\":\"auto\",\"x\":[0,1,2,3,4,5,6,7,8,9,10,11,12,13,14,15,16,17,18,19,20,21,22,23],\"xaxis\":\"x4\",\"y\":[0.00021983805293221423,0.0,0.0008744679384485281,0.0,0.0,0.0011898035307498656,0.00730581394767973,0.0185462061357477,0.027808425198132227,0.08245444520499928,0.09581315859293238,0.10921136788498331,0.09064960130097678,0.09102883488403085,0.096124735559175,0.10520861186439476,0.08435867721870452,0.04355734492210297,0.09552411191418272,0.03131527565240439,0.011154818548101679,0.0030933625008616977,0.003598664996156004,0.0009624341523032848],\"yaxis\":\"y4\",\"type\":\"bar\"},{\"alignmentgroup\":\"True\",\"customdata\":[[733.848789371946,1.0],[0.0,0.0],[0.0,0.0],[0.0,0.0],[27.04270096538557,1.0],[53.44488706171494,2.0],[3393.934942434769,8.0],[27093.76031002745,20.0],[16391.006537757985,44.0],[18410.07410905099,49.0],[25543.122018765695,57.0],[39731.521763670826,106.0],[44273.817291908104,116.0],[16102.396109769408,61.0],[15474.688898083583,38.0],[36081.05880070184,56.0],[21109.92693282935,57.0],[34463.77797935851,96.0],[46457.55191820943,104.0],[40580.398698286626,55.0],[16036.68506140813,32.0],[4543.810978141886,11.0],[74.74281813506278,2.0],[687.0394163902474,2.0]],\"hovertemplate\":\"source=survey\\u003cbr\\u003epdpurp_label=Meal\\u003cbr\\u003etlvorg_hr=%{x}\\u003cbr\\u003epercentage=%{y}\\u003cbr\\u003etoexpfac=%{customdata[0]}\\u003cbr\\u003esample_count=%{customdata[1]}\\u003cextra\\u003e\\u003c\\u002fextra\\u003e\",\"legendgroup\":\"survey\",\"marker\":{\"color\":\"#8CC63E\",\"pattern\":{\"shape\":\"\"}},\"name\":\"survey\",\"offsetgroup\":\"survey\",\"orientation\":\"v\",\"showlegend\":false,\"textposition\":\"auto\",\"x\":[0,1,2,3,4,5,6,7,8,9,10,11,12,13,14,15,16,17,18,19,20,21,22,23],\"xaxis\":\"x3\",\"y\":[0.001801901023177307,0.0,0.0,0.0,6.640096876184752e-05,0.00013122920971569467,0.008333508120391282,0.06652634048240552,0.04024667190167217,0.045204314368713173,0.06271888482659697,0.09755724987925798,0.10871045620519507,0.03953801443296212,0.03799673469880808,0.08859385981401828,0.051833565020959795,0.08462276929925755,0.11407242411257239,0.09964159237486243,0.039376666745276255,0.011156927379610855,0.00018352440233360365,0.0016869647334517394],\"yaxis\":\"y3\",\"type\":\"bar\"},{\"alignmentgroup\":\"True\",\"customdata\":[[0.0,0.0],[0.0,0.0],[0.0,0.0],[0.0,0.0],[4702.810010024654,1.0],[4201.195533753149,8.0],[16249.48787374901,15.0],[92460.73307430389,112.0],[124568.78100120142,150.0],[38043.97290225316,46.0],[6703.6496569261435,27.0],[11526.029976315505,23.0],[15614.186330150638,38.0],[46401.18250721781,47.0],[65474.57329102764,72.0],[77807.84595182707,81.0],[44098.695741164745,55.0],[58809.30003414918,53.0],[4068.134248828388,17.0],[11477.961557528906,16.0],[2445.1192548554827,8.0],[383.1175979045727,5.0],[7071.584957891129,5.0],[0.0,0.0]],\"hovertemplate\":\"source=survey\\u003cbr\\u003epdpurp_label=Escort\\u003cbr\\u003etlvorg_hr=%{x}\\u003cbr\\u003epercentage=%{y}\\u003cbr\\u003etoexpfac=%{customdata[0]}\\u003cbr\\u003esample_count=%{customdata[1]}\\u003cextra\\u003e\\u003c\\u002fextra\\u003e\",\"legendgroup\":\"survey\",\"marker\":{\"color\":\"#8CC63E\",\"pattern\":{\"shape\":\"\"}},\"name\":\"survey\",\"offsetgroup\":\"survey\",\"orientation\":\"v\",\"showlegend\":false,\"textposition\":\"auto\",\"x\":[0,1,2,3,4,5,6,7,8,9,10,11,12,13,14,15,16,17,18,19,20,21,22,23],\"xaxis\":\"x2\",\"y\":[0.0,0.0,0.0,0.0,0.007439879451771299,0.006646321722080274,0.02570680735050115,0.14627354850161559,0.19706871256280648,0.06018584030736415,0.01060522224545003,0.01823426279150074,0.024701755713326605,0.07340700635098162,0.10358124853078146,0.12309257508800578,0.0697644556329602,0.09303673802778734,0.0064358178068832355,0.018158218205296485,0.003868196346982406,0.0006060948110143337,0.01118729855289081,0.0],\"yaxis\":\"y2\",\"type\":\"bar\"},{\"alignmentgroup\":\"True\",\"customdata\":[[0.0,0.0],[0.0,0.0],[0.0,0.0],[0.0,0.0],[0.0,0.0],[2697.322856265318,5.0],[7478.406572067204,21.0],[43493.68253811846,62.0],[25501.656617981727,68.0],[55942.030043046034,89.0],[31850.94853326832,93.0],[32355.10630041511,73.0],[32724.87569255958,84.0],[26075.212730844738,86.0],[41582.43365519517,81.0],[36176.00912549245,68.0],[11406.706722195046,53.0],[35587.07964023067,36.0],[3055.0328284226825,22.0],[15273.80260267744,15.0],[7.950699623963349,1.0],[34.18908663247187,1.0],[229.01483689982024,1.0],[0.0,0.0]],\"hovertemplate\":\"source=survey\\u003cbr\\u003epdpurp_label=Personal Business\\u003cbr\\u003etlvorg_hr=%{x}\\u003cbr\\u003epercentage=%{y}\\u003cbr\\u003etoexpfac=%{customdata[0]}\\u003cbr\\u003esample_count=%{customdata[1]}\\u003cextra\\u003e\\u003c\\u002fextra\\u003e\",\"legendgroup\":\"survey\",\"marker\":{\"color\":\"#8CC63E\",\"pattern\":{\"shape\":\"\"}},\"name\":\"survey\",\"offsetgroup\":\"survey\",\"orientation\":\"v\",\"showlegend\":false,\"textposition\":\"auto\",\"x\":[0,1,2,3,4,5,6,7,8,9,10,11,12,13,14,15,16,17,18,19,20,21,22,23],\"xaxis\":\"x\",\"y\":[0.0,0.0,0.0,0.0,0.0,0.006718591774857995,0.018627492355031777,0.1083356770140178,0.06352047178959279,0.1393424825074399,0.07933552349507571,0.08059129835336357,0.0815123336646855,0.06494910662036586,0.10357506743601042,0.09010854477177718,0.028412248012485885,0.08864161737505849,0.0076095890357675555,0.03804455380593096,1.9803897399174516e-05,8.515944456010593e-05,0.0005704386465793658,0.0],\"yaxis\":\"y\",\"type\":\"bar\"},{\"alignmentgroup\":\"True\",\"customdata\":[[0.0,0.0],[551.958469674964,1.0],[0.0,0.0],[12103.963456859357,20.0],[74931.36061469572,63.0],[99400.45954333004,126.0],[248864.77578781146,354.0],[311397.3539980395,588.0],[206346.47840445887,495.0],[127703.56018230686,269.0],[59092.504106178,166.0],[37766.292036595085,93.0],[26888.870887293404,95.0],[30687.932298089298,67.0],[32953.44141765535,59.0],[26993.205859767655,52.0],[15880.497234966046,27.0],[9067.667081552125,38.0],[3106.2604648083056,10.0],[1354.8011261771373,8.0],[2491.513138185322,8.0],[1284.2515745934531,3.0],[7463.727136272969,6.0],[255.98038726538,1.0]],\"hovertemplate\":\"source=survey (2017\\u002f2019)\\u003cbr\\u003epdpurp_label=Work\\u003cbr\\u003etlvorg_hr=%{x}\\u003cbr\\u003epercentage=%{y}\\u003cbr\\u003etoexpfac=%{customdata[0]}\\u003cbr\\u003esample_count=%{customdata[1]}\\u003cextra\\u003e\\u003c\\u002fextra\\u003e\",\"legendgroup\":\"survey (2017\\u002f2019)\",\"marker\":{\"color\":\"#00A7A0\",\"pattern\":{\"shape\":\"\"}},\"name\":\"survey (2017\\u002f2019)\",\"offsetgroup\":\"survey (2017\\u002f2019)\",\"orientation\":\"v\",\"showlegend\":true,\"textposition\":\"auto\",\"x\":[0,1,2,3,4,5,6,7,8,9,10,11,12,13,14,15,16,17,18,19,20,21,22,23],\"xaxis\":\"x6\",\"y\":[0.0,0.00041296116861006844,0.0,0.009055874977154873,0.05606172193210347,0.07436887408859577,0.18619424156266162,0.2329795125434714,0.15438314210606763,0.09554452797799634,0.0442114957782111,0.028255770950820935,0.020117563465890585,0.02295992376293894,0.02465491957315578,0.020195624215977884,0.011881380677286129,0.006784195913815621,0.0023240244004406416,0.0010136274503221461,0.0018640862196720065,0.0009608440855083568,0.005584169189752665,0.00019151795954615829],\"yaxis\":\"y6\",\"type\":\"bar\"},{\"alignmentgroup\":\"True\",\"customdata\":[[0.0,0.0],[0.0,0.0],[0.0,0.0],[0.0,0.0],[75.6029420675361,1.0],[944.6388505184881,3.0],[26697.98862443798,28.0],[177732.16684628103,225.0],[224775.58031354484,254.0],[48085.78968965203,55.0],[16161.271083577121,16.0],[3333.250470946136,11.0],[5015.600869289834,10.0],[7404.664188706871,9.0],[2229.590294654095,10.0],[387.7845844848059,5.0],[4969.783185943033,6.0],[1663.3036370758678,16.0],[278.949359175002,2.0],[156.064494787723,1.0],[0.0,0.0],[0.0,0.0],[0.0,0.0],[0.0,0.0]],\"hovertemplate\":\"source=survey (2017\\u002f2019)\\u003cbr\\u003epdpurp_label=School\\u003cbr\\u003etlvorg_hr=%{x}\\u003cbr\\u003epercentage=%{y}\\u003cbr\\u003etoexpfac=%{customdata[0]}\\u003cbr\\u003esample_count=%{customdata[1]}\\u003cextra\\u003e\\u003c\\u002fextra\\u003e\",\"legendgroup\":\"survey (2017\\u002f2019)\",\"marker\":{\"color\":\"#00A7A0\",\"pattern\":{\"shape\":\"\"}},\"name\":\"survey (2017\\u002f2019)\",\"offsetgroup\":\"survey (2017\\u002f2019)\",\"orientation\":\"v\",\"showlegend\":false,\"textposition\":\"auto\",\"x\":[0,1,2,3,4,5,6,7,8,9,10,11,12,13,14,15,16,17,18,19,20,21,22,23],\"xaxis\":\"x5\",\"y\":[0.0,0.0,0.0,0.0,0.00014541487364636436,0.0018169205500876552,0.051350973074125575,0.34185046081618436,0.4323338710930615,0.09248831911409082,0.031084626184040228,0.006411181665805157,0.009647018313346252,0.014242148227944748,0.004288399129899783,0.0007458657667646464,0.009558892475218251,0.003199202062862368,0.0005365318426620481,0.00030017481026026465,0.0,0.0,0.0,0.0],\"yaxis\":\"y5\",\"type\":\"bar\"},{\"alignmentgroup\":\"True\",\"customdata\":[[484.372679805163,1.0],[0.0,0.0],[306.34798152004703,1.0],[0.0,0.0],[0.0,0.0],[666.5076935107627,5.0],[313.25665406101865,3.0],[14566.76265231447,36.0],[13516.049841091384,51.0],[50812.554897267575,115.0],[82880.44853573837,157.0],[55309.722403559426,114.0],[45890.27107482399,117.0],[50827.820885111934,126.0],[75501.3702501398,148.0],[32651.12387925838,103.0],[53869.43630344453,99.0],[42465.29577867404,112.0],[59091.90904342833,92.0],[17193.175848295632,83.0],[2933.980540218817,23.0],[766.8642961489354,9.0],[1307.606066716253,7.0],[8.1104247487979,1.0]],\"hovertemplate\":\"source=survey (2017\\u002f2019)\\u003cbr\\u003epdpurp_label=Shop\\u003cbr\\u003etlvorg_hr=%{x}\\u003cbr\\u003epercentage=%{y}\\u003cbr\\u003etoexpfac=%{customdata[0]}\\u003cbr\\u003esample_count=%{customdata[1]}\\u003cextra\\u003e\\u003c\\u002fextra\\u003e\",\"legendgroup\":\"survey (2017\\u002f2019)\",\"marker\":{\"color\":\"#00A7A0\",\"pattern\":{\"shape\":\"\"}},\"name\":\"survey (2017\\u002f2019)\",\"offsetgroup\":\"survey (2017\\u002f2019)\",\"orientation\":\"v\",\"showlegend\":false,\"textposition\":\"auto\",\"x\":[0,1,2,3,4,5,6,7,8,9,10,11,12,13,14,15,16,17,18,19,20,21,22,23],\"xaxis\":\"x4\",\"y\":[0.0008054580838665369,0.0,0.000509422740958001,0.0,0.0,0.0011083284257762582,0.0005209110977108029,0.024222911867761338,0.022475692912385506,0.08449564727799931,0.13782100033892822,0.09197393842336642,0.07631043481418438,0.08452103292386685,0.1255504109675166,0.0542952003124022,0.08957890226466977,0.07061508048404992,0.09826329562864856,0.028590345929334984,0.0048788844675900014,0.0012752103335188932,0.0021744039679801644,1.3486737485149266e-05],\"yaxis\":\"y4\",\"type\":\"bar\"},{\"alignmentgroup\":\"True\",\"customdata\":[[0.0,0.0],[0.0,0.0],[0.0,0.0],[0.0,0.0],[10.6381727331061,1.0],[45.94185906792442,2.0],[1619.3993794124167,7.0],[24185.691730630075,21.0],[16592.386288810565,43.0],[14795.148137337193,46.0],[16320.043882478165,53.0],[51142.26052510319,105.0],[37661.62049466346,109.0],[34280.917362739485,57.0],[11239.722298735183,37.0],[18416.89838924778,53.0],[18899.62355502986,57.0],[52022.95421104775,88.0],[36491.24558242314,99.0],[41737.41209779713,51.0],[7901.458825086891,30.0],[13430.676065534126,12.0],[71.5547812881571,2.0],[1328.6639472156842,2.0]],\"hovertemplate\":\"source=survey (2017\\u002f2019)\\u003cbr\\u003epdpurp_label=Meal\\u003cbr\\u003etlvorg_hr=%{x}\\u003cbr\\u003epercentage=%{y}\\u003cbr\\u003etoexpfac=%{customdata[0]}\\u003cbr\\u003esample_count=%{customdata[1]}\\u003cextra\\u003e\\u003c\\u002fextra\\u003e\",\"legendgroup\":\"survey (2017\\u002f2019)\",\"marker\":{\"color\":\"#00A7A0\",\"pattern\":{\"shape\":\"\"}},\"name\":\"survey (2017\\u002f2019)\",\"offsetgroup\":\"survey (2017\\u002f2019)\",\"orientation\":\"v\",\"showlegend\":false,\"textposition\":\"auto\",\"x\":[0,1,2,3,4,5,6,7,8,9,10,11,12,13,14,15,16,17,18,19,20,21,22,23],\"xaxis\":\"x3\",\"y\":[0.0,0.0,0.0,0.0,2.671603753803088e-05,0.00011537549372609457,0.004066857692092951,0.06073842419835352,0.041669074761107365,0.037155603968316006,0.04098513118044606,0.12843545468258988,0.09458102365148606,0.08609093855479028,0.02822673126142941,0.04625103963296748,0.04746332523625084,0.13064717338311257,0.09164181774898399,0.10481671019261982,0.0198432264517848,0.03372895467388948,0.00017969817475992742,0.0033367230237554436],\"yaxis\":\"y3\",\"type\":\"bar\"},{\"alignmentgroup\":\"True\",\"customdata\":[[0.0,0.0],[0.0,0.0],[0.0,0.0],[0.0,0.0],[3756.89486105699,1.0],[15977.13796108429,13.0],[24639.469470863194,18.0],[123296.63420487581,121.0],[116124.15215709507,163.0],[44784.66324259696,57.0],[15896.147247396682,30.0],[19721.257583932624,29.0],[17818.68002140592,43.0],[37185.892487532255,52.0],[72148.76360733972,80.0],[72334.71357971721,86.0],[25184.81205221003,63.0],[52928.80856852309,69.0],[5787.712909927875,25.0],[5242.84440129033,17.0],[2041.5346810067565,8.0],[898.543349349546,5.0],[4675.392899869981,5.0],[0.0,0.0]],\"hovertemplate\":\"source=survey (2017\\u002f2019)\\u003cbr\\u003epdpurp_label=Escort\\u003cbr\\u003etlvorg_hr=%{x}\\u003cbr\\u003epercentage=%{y}\\u003cbr\\u003etoexpfac=%{customdata[0]}\\u003cbr\\u003esample_count=%{customdata[1]}\\u003cextra\\u003e\\u003c\\u002fextra\\u003e\",\"legendgroup\":\"survey (2017\\u002f2019)\",\"marker\":{\"color\":\"#00A7A0\",\"pattern\":{\"shape\":\"\"}},\"name\":\"survey (2017\\u002f2019)\",\"offsetgroup\":\"survey (2017\\u002f2019)\",\"orientation\":\"v\",\"showlegend\":false,\"textposition\":\"auto\",\"x\":[0,1,2,3,4,5,6,7,8,9,10,11,12,13,14,15,16,17,18,19,20,21,22,23],\"xaxis\":\"x2\",\"y\":[0.0,0.0,0.0,0.0,0.005688437697306528,0.024191508475520353,0.037307428651399084,0.18668747673303326,0.17582738647957025,0.06780992709992745,0.024068877780249118,0.02986060276575646,0.026979847693020264,0.05630437913680473,0.10924280872810478,0.10952436167856122,0.03813314973554116,0.08014124458356522,0.008763365895408262,0.00793836262030011,0.0030911546022158766,0.001360513948390341,0.007079165695325601,0.0],\"yaxis\":\"y2\",\"type\":\"bar\"},{\"alignmentgroup\":\"True\",\"customdata\":[[0.0,0.0],[0.0,0.0],[0.0,0.0],[0.0,0.0],[0.0,0.0],[10663.035371550308,5.0],[5380.734653984139,21.0],[29389.618600087004,57.0],[23567.08931472589,54.0],[21265.68791425479,80.0],[31020.636880102895,82.0],[29667.33682676109,61.0],[20348.92199668735,73.0],[28689.578870672518,79.0],[40365.683206848276,73.0],[28112.636222380563,55.0],[8036.796422910787,44.0],[15870.549173199572,29.0],[5254.77023384645,16.0],[7876.896164187973,12.0],[817.8571988340665,8.0],[208.4084893501812,3.0],[46.9407483680735,1.0],[0.0,0.0]],\"hovertemplate\":\"source=survey (2017\\u002f2019)\\u003cbr\\u003epdpurp_label=Personal Business\\u003cbr\\u003etlvorg_hr=%{x}\\u003cbr\\u003epercentage=%{y}\\u003cbr\\u003etoexpfac=%{customdata[0]}\\u003cbr\\u003esample_count=%{customdata[1]}\\u003cextra\\u003e\\u003c\\u002fextra\\u003e\",\"legendgroup\":\"survey (2017\\u002f2019)\",\"marker\":{\"color\":\"#00A7A0\",\"pattern\":{\"shape\":\"\"}},\"name\":\"survey (2017\\u002f2019)\",\"offsetgroup\":\"survey (2017\\u002f2019)\",\"orientation\":\"v\",\"showlegend\":false,\"textposition\":\"auto\",\"x\":[0,1,2,3,4,5,6,7,8,9,10,11,12,13,14,15,16,17,18,19,20,21,22,23],\"xaxis\":\"x\",\"y\":[0.0,0.0,0.0,0.0,0.0,0.03478023625127745,0.017550651943846557,0.09586181069728072,0.07687013177392757,0.06936351835398465,0.10118179690500324,0.0967676602230904,0.06637325019026956,0.0935784508165401,0.1316630724234658,0.09169660377094464,0.026214081502349815,0.051765883770218055,0.017139786543987432,0.025692525624381148,0.002667651902492109,0.0006797779660105618,0.0001531093409301892,0.0],\"yaxis\":\"y\",\"type\":\"bar\"},{\"alignmentgroup\":\"True\",\"customdata\":[[663.365825915265,1.0],[0.0,0.0],[66.61248155133971,2.0],[11536.937249213654,35.0],[47069.11064528897,144.0],[176781.16049967616,464.0],[333470.07784518355,1342.0],[393071.5312644363,2287.0],[269789.2629268085,1877.0],[165885.5016349633,1035.0],[74340.1775894003,457.0],[26843.559387681602,262.0],[38841.596463089445,243.0],[29706.812597293483,196.0],[18524.446823193204,130.0],[19186.686366792266,73.0],[10080.046467017171,76.0],[9235.107314169933,64.0],[4129.18919406304,39.0],[2189.811752997616,13.0],[1627.1968036848762,10.0],[2.034207699983375,1.0],[988.686151042609,2.0],[988.686151042609,2.0]],\"hovertemplate\":\"source=survey (old weights)\\u003cbr\\u003epdpurp_label=Work\\u003cbr\\u003etlvorg_hr=%{x}\\u003cbr\\u003epercentage=%{y}\\u003cbr\\u003etoexpfac=%{customdata[0]}\\u003cbr\\u003esample_count=%{customdata[1]}\\u003cextra\\u003e\\u003c\\u002fextra\\u003e\",\"legendgroup\":\"survey (old weights)\",\"marker\":{\"color\":\"#F05A28\",\"pattern\":{\"shape\":\"\"}},\"name\":\"survey (old weights)\",\"offsetgroup\":\"survey (old weights)\",\"orientation\":\"v\",\"showlegend\":true,\"textposition\":\"auto\",\"x\":[0,1,2,3,4,5,6,7,8,9,10,11,12,13,14,15,16,17,18,19,20,21,22,23],\"xaxis\":\"x6\",\"y\":[0.00040572396705202367,0.0,4.074114043016966e-05,0.007056154787477896,0.028788137028717912,0.10812187021999356,0.20395503897087572,0.24040813495296282,0.16500694751901204,0.10145793040648632,0.045467509155010535,0.016417902428935104,0.023756072423380268,0.01816910878520972,0.011329814951170301,0.011734850067950726,0.006165099679387678,0.0056483228850181914,0.0025254707961660976,0.0013393199902896813,0.0009952166912646034,1.2441503399821667e-06,0.0006046945014343298,0.0006046945014343298],\"yaxis\":\"y6\",\"type\":\"bar\"},{\"alignmentgroup\":\"True\",\"customdata\":[[0.0,0.0],[0.0,0.0],[0.0,0.0],[0.0,0.0],[0.0,0.0],[10420.739136253758,19.0],[67142.96212951338,117.0],[184966.19363985493,500.0],[158860.18151059185,567.0],[36237.686969387454,140.0],[13587.301864651045,57.0],[5464.016981777703,29.0],[9372.079396235318,46.0],[3740.5243791076186,32.0],[2899.564229654071,33.0],[17571.078593923314,29.0],[5634.82123136347,27.0],[8698.721489859108,38.0],[675.101533826343,11.0],[75.14674575208934,3.0],[0.0,0.0],[0.0,0.0],[0.0,0.0],[0.0,0.0]],\"hovertemplate\":\"source=survey (old weights)\\u003cbr\\u003epdpurp_label=School\\u003cbr\\u003etlvorg_hr=%{x}\\u003cbr\\u003epercentage=%{y}\\u003cbr\\u003etoexpfac=%{customdata[0]}\\u003cbr\\u003esample_count=%{customdata[1]}\\u003cextra\\u003e\\u003c\\u002fextra\\u003e\",\"legendgroup\":\"survey (old weights)\",\"marker\":{\"color\":\"#F05A28\",\"pattern\":{\"shape\":\"\"}},\"name\":\"survey (old weights)\",\"offsetgroup\":\"survey (old weights)\",\"orientation\":\"v\",\"showlegend\":false,\"textposition\":\"auto\",\"x\":[0,1,2,3,4,5,6,7,8,9,10,11,12,13,14,15,16,17,18,19,20,21,22,23],\"xaxis\":\"x5\",\"y\":[0.0,0.0,0.0,0.0,0.0,0.019835949563291964,0.12780709630256096,0.35208443853947685,0.3023914625303957,0.06897868967033205,0.025863523783144233,0.010400794401084797,0.017839818440529915,0.007120114221659366,0.005519340716902395,0.03344667054845797,0.010725921480429114,0.016558076973415128,0.0012850604741166693,0.00014304235420289392,0.0,0.0,0.0,0.0],\"yaxis\":\"y5\",\"type\":\"bar\"},{\"alignmentgroup\":\"True\",\"customdata\":[[83.24521252225395,2.0],[0.0,0.0],[0.54525469613021,1.0],[11.087229656279533,1.0],[608.1118660539306,3.0],[313.64492561617914,3.0],[6154.285694475873,16.0],[13477.069989906293,54.0],[22829.075462720826,87.0],[134178.91188748827,211.0],[102892.5138371521,225.0],[91115.22510114146,230.0],[89633.42932089815,201.0],[28021.09586572641,219.0],[51437.909248826996,190.0],[64356.26229586238,200.0],[35570.71695496434,203.0],[44948.3250943588,206.0],[25821.858260572855,201.0],[37186.01221540861,173.0],[16066.913929221468,97.0],[18875.0258305438,49.0],[557.4277959529774,17.0],[2123.97370652186,7.0]],\"hovertemplate\":\"source=survey (old weights)\\u003cbr\\u003epdpurp_label=Shop\\u003cbr\\u003etlvorg_hr=%{x}\\u003cbr\\u003epercentage=%{y}\\u003cbr\\u003etoexpfac=%{customdata[0]}\\u003cbr\\u003esample_count=%{customdata[1]}\\u003cextra\\u003e\\u003c\\u002fextra\\u003e\",\"legendgroup\":\"survey (old weights)\",\"marker\":{\"color\":\"#F05A28\",\"pattern\":{\"shape\":\"\"}},\"name\":\"survey (old weights)\",\"offsetgroup\":\"survey (old weights)\",\"orientation\":\"v\",\"showlegend\":false,\"textposition\":\"auto\",\"x\":[0,1,2,3,4,5,6,7,8,9,10,11,12,13,14,15,16,17,18,19,20,21,22,23],\"xaxis\":\"x4\",\"y\":[0.00010587455823378287,0.0,6.934765174904071e-07,1.410117778942885e-05,0.0007734207556737221,0.00039890603838633267,0.007827264288296882,0.017140671375974366,0.02903492232487385,0.17065405432870714,0.13086277418247513,0.11588395192547753,0.11399934536526238,0.03563833950471529,0.06542077019423911,0.08185084323414253,0.045240246610686534,0.05716706004494254,0.03284126201711192,0.0472946430971024,0.02043453746942848,0.024006005401521882,0.0007089587479637415,0.0027013538804775894],\"yaxis\":\"y4\",\"type\":\"bar\"},{\"alignmentgroup\":\"True\",\"customdata\":[[0.0,0.0],[0.0,0.0],[0.0,0.0],[0.0,0.0],[104.37588060467607,2.0],[1004.4129807216316,5.0],[11355.197307710752,17.0],[4466.581191293693,65.0],[9391.502890534057,82.0],[10422.979978670439,76.0],[23115.5301076332,88.0],[79799.76079279731,284.0],[62591.6262206511,315.0],[24590.122393228034,131.0],[6320.630172016207,78.0],[9277.003714894172,76.0],[23708.461352219336,119.0],[33989.64241910098,196.0],[47203.97984922029,242.0],[10816.375339993585,164.0],[5593.375487917707,82.0],[496.1524996618177,23.0],[5109.103377173227,8.0],[0.0,0.0]],\"hovertemplate\":\"source=survey (old weights)\\u003cbr\\u003epdpurp_label=Meal\\u003cbr\\u003etlvorg_hr=%{x}\\u003cbr\\u003epercentage=%{y}\\u003cbr\\u003etoexpfac=%{customdata[0]}\\u003cbr\\u003esample_count=%{customdata[1]}\\u003cextra\\u003e\\u003c\\u002fextra\\u003e\",\"legendgroup\":\"survey (old weights)\",\"marker\":{\"color\":\"#F05A28\",\"pattern\":{\"shape\":\"\"}},\"name\":\"survey (old weights)\",\"offsetgroup\":\"survey (old weights)\",\"orientation\":\"v\",\"showlegend\":false,\"textposition\":\"auto\",\"x\":[0,1,2,3,4,5,6,7,8,9,10,11,12,13,14,15,16,17,18,19,20,21,22,23],\"xaxis\":\"x3\",\"y\":[0.0,0.0,0.0,0.0,0.0002825882091811037,0.0027193568461990484,0.030743164546199908,0.012092862572247736,0.025426640407537615,0.028219270864489575,0.06258319661156764,0.21605059870993584,0.16946113854041484,0.06657552118736476,0.017112531658258337,0.02511664429723569,0.06418850406003589,0.09202386726009106,0.12780048469564206,0.02928435304643076,0.015143555707038842,0.0013432877935774747,0.01383243298655178,0.0],\"yaxis\":\"y3\",\"type\":\"bar\"},{\"alignmentgroup\":\"True\",\"customdata\":[[0.0,0.0],[0.0,0.0],[0.0,0.0],[68.99716112623685,2.0],[1608.8011555079395,8.0],[3465.3706566656138,13.0],[5061.683382412336,43.0],[57099.760693835706,219.0],[72887.47341573531,233.0],[14689.853983763353,60.0],[9347.769180612217,31.0],[14275.894103075514,49.0],[11401.469748573028,45.0],[21614.71229882211,57.0],[41300.91505807778,101.0],[38700.8359611188,135.0],[21628.900277144017,129.0],[53721.58878294915,109.0],[30992.11923970363,74.0],[17977.90415949376,42.0],[11720.508583892459,24.0],[6335.466793934933,24.0],[636.9309530825855,9.0],[330.4532993800188,3.0]],\"hovertemplate\":\"source=survey (old weights)\\u003cbr\\u003epdpurp_label=Escort\\u003cbr\\u003etlvorg_hr=%{x}\\u003cbr\\u003epercentage=%{y}\\u003cbr\\u003etoexpfac=%{customdata[0]}\\u003cbr\\u003esample_count=%{customdata[1]}\\u003cextra\\u003e\\u003c\\u002fextra\\u003e\",\"legendgroup\":\"survey (old weights)\",\"marker\":{\"color\":\"#F05A28\",\"pattern\":{\"shape\":\"\"}},\"name\":\"survey (old weights)\",\"offsetgroup\":\"survey (old weights)\",\"orientation\":\"v\",\"showlegend\":false,\"textposition\":\"auto\",\"x\":[0,1,2,3,4,5,6,7,8,9,10,11,12,13,14,15,16,17,18,19,20,21,22,23],\"xaxis\":\"x2\",\"y\":[0.0,0.0,0.0,0.00015866252498094934,0.0036995211014282567,0.007968798272373857,0.011639601586481316,0.1313038400364988,0.16760849842015987,0.03378007568168002,0.021495676589091656,0.032828153619400134,0.0262182667993078,0.0497041439689584,0.09497358094413721,0.08899456517102552,0.04973676995571183,0.12353555977029573,0.07126797411396961,0.04134111637712194,0.02695191302985559,0.014568732134059336,0.0014646555250253282,0.0007598943784367112],\"yaxis\":\"y2\",\"type\":\"bar\"},{\"alignmentgroup\":\"True\",\"customdata\":[[0.0,0.0],[0.0,0.0],[0.0,0.0],[415.12771485007175,5.0],[693.6507083663261,7.0],[4797.110596523593,19.0],[18699.95978341244,69.0],[47346.51151895759,148.0],[71276.96887912303,291.0],[87578.65479472806,260.0],[82767.1937357741,271.0],[107315.8052870485,182.0],[36318.72193470561,209.0],[32255.442975107242,195.0],[80591.80973502366,192.0],[51540.58708666739,196.0],[55075.73985185104,193.0],[83275.02395238561,171.0],[36066.86538050676,180.0],[11826.822830027118,92.0],[4337.791814374124,39.0],[2041.160644579677,18.0],[700.3758568446026,9.0],[68.08898090709165,2.0]],\"hovertemplate\":\"source=survey (old weights)\\u003cbr\\u003epdpurp_label=Personal Business\\u003cbr\\u003etlvorg_hr=%{x}\\u003cbr\\u003epercentage=%{y}\\u003cbr\\u003etoexpfac=%{customdata[0]}\\u003cbr\\u003esample_count=%{customdata[1]}\\u003cextra\\u003e\\u003c\\u002fextra\\u003e\",\"legendgroup\":\"survey (old weights)\",\"marker\":{\"color\":\"#F05A28\",\"pattern\":{\"shape\":\"\"}},\"name\":\"survey (old weights)\",\"offsetgroup\":\"survey (old weights)\",\"orientation\":\"v\",\"showlegend\":false,\"textposition\":\"auto\",\"x\":[0,1,2,3,4,5,6,7,8,9,10,11,12,13,14,15,16,17,18,19,20,21,22,23],\"xaxis\":\"x\",\"y\":[0.0,0.0,0.0,0.0005093657754168221,0.0008511162186871767,0.005886101725684557,0.022945033960889302,0.058094633748665414,0.08745753950826327,0.10745986792423656,0.10155615804047931,0.13167754505203377,0.04456342782871191,0.03957774471493046,0.09888694054732353,0.06324080558273534,0.06757847267900481,0.10217927069427511,0.044254397367882184,0.014511627545055238,0.005322513077507761,0.0025045241194077503,0.000859368041793393,8.354584701627984e-05],\"yaxis\":\"y\",\"type\":\"bar\"}],                        {\"template\":{\"data\":{\"barpolar\":[{\"marker\":{\"line\":{\"color\":\"white\",\"width\":0.5},\"pattern\":{\"fillmode\":\"overlay\",\"size\":10,\"solidity\":0.2}},\"type\":\"barpolar\"}],\"bar\":[{\"error_x\":{\"color\":\"rgb(36,36,36)\"},\"error_y\":{\"color\":\"rgb(36,36,36)\"},\"marker\":{\"line\":{\"color\":\"white\",\"width\":0.5},\"pattern\":{\"fillmode\":\"overlay\",\"size\":10,\"solidity\":0.2}},\"type\":\"bar\"}],\"carpet\":[{\"aaxis\":{\"endlinecolor\":\"rgb(36,36,36)\",\"gridcolor\":\"white\",\"linecolor\":\"white\",\"minorgridcolor\":\"white\",\"startlinecolor\":\"rgb(36,36,36)\"},\"baxis\":{\"endlinecolor\":\"rgb(36,36,36)\",\"gridcolor\":\"white\",\"linecolor\":\"white\",\"minorgridcolor\":\"white\",\"startlinecolor\":\"rgb(36,36,36)\"},\"type\":\"carpet\"}],\"choropleth\":[{\"colorbar\":{\"outlinewidth\":1,\"tickcolor\":\"rgb(36,36,36)\",\"ticks\":\"outside\"},\"type\":\"choropleth\"}],\"contourcarpet\":[{\"colorbar\":{\"outlinewidth\":1,\"tickcolor\":\"rgb(36,36,36)\",\"ticks\":\"outside\"},\"type\":\"contourcarpet\"}],\"contour\":[{\"colorbar\":{\"outlinewidth\":1,\"tickcolor\":\"rgb(36,36,36)\",\"ticks\":\"outside\"},\"colorscale\":[[0.0,\"#440154\"],[0.1111111111111111,\"#482878\"],[0.2222222222222222,\"#3e4989\"],[0.3333333333333333,\"#31688e\"],[0.4444444444444444,\"#26828e\"],[0.5555555555555556,\"#1f9e89\"],[0.6666666666666666,\"#35b779\"],[0.7777777777777778,\"#6ece58\"],[0.8888888888888888,\"#b5de2b\"],[1.0,\"#fde725\"]],\"type\":\"contour\"}],\"heatmapgl\":[{\"colorbar\":{\"outlinewidth\":1,\"tickcolor\":\"rgb(36,36,36)\",\"ticks\":\"outside\"},\"colorscale\":[[0.0,\"#440154\"],[0.1111111111111111,\"#482878\"],[0.2222222222222222,\"#3e4989\"],[0.3333333333333333,\"#31688e\"],[0.4444444444444444,\"#26828e\"],[0.5555555555555556,\"#1f9e89\"],[0.6666666666666666,\"#35b779\"],[0.7777777777777778,\"#6ece58\"],[0.8888888888888888,\"#b5de2b\"],[1.0,\"#fde725\"]],\"type\":\"heatmapgl\"}],\"heatmap\":[{\"colorbar\":{\"outlinewidth\":1,\"tickcolor\":\"rgb(36,36,36)\",\"ticks\":\"outside\"},\"colorscale\":[[0.0,\"#440154\"],[0.1111111111111111,\"#482878\"],[0.2222222222222222,\"#3e4989\"],[0.3333333333333333,\"#31688e\"],[0.4444444444444444,\"#26828e\"],[0.5555555555555556,\"#1f9e89\"],[0.6666666666666666,\"#35b779\"],[0.7777777777777778,\"#6ece58\"],[0.8888888888888888,\"#b5de2b\"],[1.0,\"#fde725\"]],\"type\":\"heatmap\"}],\"histogram2dcontour\":[{\"colorbar\":{\"outlinewidth\":1,\"tickcolor\":\"rgb(36,36,36)\",\"ticks\":\"outside\"},\"colorscale\":[[0.0,\"#440154\"],[0.1111111111111111,\"#482878\"],[0.2222222222222222,\"#3e4989\"],[0.3333333333333333,\"#31688e\"],[0.4444444444444444,\"#26828e\"],[0.5555555555555556,\"#1f9e89\"],[0.6666666666666666,\"#35b779\"],[0.7777777777777778,\"#6ece58\"],[0.8888888888888888,\"#b5de2b\"],[1.0,\"#fde725\"]],\"type\":\"histogram2dcontour\"}],\"histogram2d\":[{\"colorbar\":{\"outlinewidth\":1,\"tickcolor\":\"rgb(36,36,36)\",\"ticks\":\"outside\"},\"colorscale\":[[0.0,\"#440154\"],[0.1111111111111111,\"#482878\"],[0.2222222222222222,\"#3e4989\"],[0.3333333333333333,\"#31688e\"],[0.4444444444444444,\"#26828e\"],[0.5555555555555556,\"#1f9e89\"],[0.6666666666666666,\"#35b779\"],[0.7777777777777778,\"#6ece58\"],[0.8888888888888888,\"#b5de2b\"],[1.0,\"#fde725\"]],\"type\":\"histogram2d\"}],\"histogram\":[{\"marker\":{\"line\":{\"color\":\"white\",\"width\":0.6}},\"type\":\"histogram\"}],\"mesh3d\":[{\"colorbar\":{\"outlinewidth\":1,\"tickcolor\":\"rgb(36,36,36)\",\"ticks\":\"outside\"},\"type\":\"mesh3d\"}],\"parcoords\":[{\"line\":{\"colorbar\":{\"outlinewidth\":1,\"tickcolor\":\"rgb(36,36,36)\",\"ticks\":\"outside\"}},\"type\":\"parcoords\"}],\"pie\":[{\"automargin\":true,\"type\":\"pie\"}],\"scatter3d\":[{\"line\":{\"colorbar\":{\"outlinewidth\":1,\"tickcolor\":\"rgb(36,36,36)\",\"ticks\":\"outside\"}},\"marker\":{\"colorbar\":{\"outlinewidth\":1,\"tickcolor\":\"rgb(36,36,36)\",\"ticks\":\"outside\"}},\"type\":\"scatter3d\"}],\"scattercarpet\":[{\"marker\":{\"colorbar\":{\"outlinewidth\":1,\"tickcolor\":\"rgb(36,36,36)\",\"ticks\":\"outside\"}},\"type\":\"scattercarpet\"}],\"scattergeo\":[{\"marker\":{\"colorbar\":{\"outlinewidth\":1,\"tickcolor\":\"rgb(36,36,36)\",\"ticks\":\"outside\"}},\"type\":\"scattergeo\"}],\"scattergl\":[{\"marker\":{\"colorbar\":{\"outlinewidth\":1,\"tickcolor\":\"rgb(36,36,36)\",\"ticks\":\"outside\"}},\"type\":\"scattergl\"}],\"scattermapbox\":[{\"marker\":{\"colorbar\":{\"outlinewidth\":1,\"tickcolor\":\"rgb(36,36,36)\",\"ticks\":\"outside\"}},\"type\":\"scattermapbox\"}],\"scatterpolargl\":[{\"marker\":{\"colorbar\":{\"outlinewidth\":1,\"tickcolor\":\"rgb(36,36,36)\",\"ticks\":\"outside\"}},\"type\":\"scatterpolargl\"}],\"scatterpolar\":[{\"marker\":{\"colorbar\":{\"outlinewidth\":1,\"tickcolor\":\"rgb(36,36,36)\",\"ticks\":\"outside\"}},\"type\":\"scatterpolar\"}],\"scatter\":[{\"fillpattern\":{\"fillmode\":\"overlay\",\"size\":10,\"solidity\":0.2},\"type\":\"scatter\"}],\"scatterternary\":[{\"marker\":{\"colorbar\":{\"outlinewidth\":1,\"tickcolor\":\"rgb(36,36,36)\",\"ticks\":\"outside\"}},\"type\":\"scatterternary\"}],\"surface\":[{\"colorbar\":{\"outlinewidth\":1,\"tickcolor\":\"rgb(36,36,36)\",\"ticks\":\"outside\"},\"colorscale\":[[0.0,\"#440154\"],[0.1111111111111111,\"#482878\"],[0.2222222222222222,\"#3e4989\"],[0.3333333333333333,\"#31688e\"],[0.4444444444444444,\"#26828e\"],[0.5555555555555556,\"#1f9e89\"],[0.6666666666666666,\"#35b779\"],[0.7777777777777778,\"#6ece58\"],[0.8888888888888888,\"#b5de2b\"],[1.0,\"#fde725\"]],\"type\":\"surface\"}],\"table\":[{\"cells\":{\"fill\":{\"color\":\"rgb(237,237,237)\"},\"line\":{\"color\":\"white\"}},\"header\":{\"fill\":{\"color\":\"rgb(217,217,217)\"},\"line\":{\"color\":\"white\"}},\"type\":\"table\"}]},\"layout\":{\"annotationdefaults\":{\"arrowhead\":0,\"arrowwidth\":1},\"autotypenumbers\":\"strict\",\"coloraxis\":{\"colorbar\":{\"outlinewidth\":1,\"tickcolor\":\"rgb(36,36,36)\",\"ticks\":\"outside\"}},\"colorscale\":{\"diverging\":[[0.0,\"rgb(103,0,31)\"],[0.1,\"rgb(178,24,43)\"],[0.2,\"rgb(214,96,77)\"],[0.3,\"rgb(244,165,130)\"],[0.4,\"rgb(253,219,199)\"],[0.5,\"rgb(247,247,247)\"],[0.6,\"rgb(209,229,240)\"],[0.7,\"rgb(146,197,222)\"],[0.8,\"rgb(67,147,195)\"],[0.9,\"rgb(33,102,172)\"],[1.0,\"rgb(5,48,97)\"]],\"sequential\":[[0.0,\"#440154\"],[0.1111111111111111,\"#482878\"],[0.2222222222222222,\"#3e4989\"],[0.3333333333333333,\"#31688e\"],[0.4444444444444444,\"#26828e\"],[0.5555555555555556,\"#1f9e89\"],[0.6666666666666666,\"#35b779\"],[0.7777777777777778,\"#6ece58\"],[0.8888888888888888,\"#b5de2b\"],[1.0,\"#fde725\"]],\"sequentialminus\":[[0.0,\"#440154\"],[0.1111111111111111,\"#482878\"],[0.2222222222222222,\"#3e4989\"],[0.3333333333333333,\"#31688e\"],[0.4444444444444444,\"#26828e\"],[0.5555555555555556,\"#1f9e89\"],[0.6666666666666666,\"#35b779\"],[0.7777777777777778,\"#6ece58\"],[0.8888888888888888,\"#b5de2b\"],[1.0,\"#fde725\"]]},\"colorway\":[\"#91268F\",\"#8CC63E\",\"#00A7A0\",\"#F05A28\",\"#4C4C4C\",\"#630460\",\"#9f3913\",\"#588527\",\"#00716c\",\"#3e4040\"],\"font\":{\"color\":\"rgb(36,36,36)\",\"family\":\"Poppins\",\"size\":11},\"geo\":{\"bgcolor\":\"white\",\"lakecolor\":\"white\",\"landcolor\":\"white\",\"showlakes\":true,\"showland\":true,\"subunitcolor\":\"white\"},\"hoverlabel\":{\"align\":\"left\"},\"hovermode\":\"closest\",\"mapbox\":{\"style\":\"light\"},\"paper_bgcolor\":\"white\",\"plot_bgcolor\":\"white\",\"polar\":{\"angularaxis\":{\"gridcolor\":\"rgb(232,232,232)\",\"linecolor\":\"rgb(36,36,36)\",\"showgrid\":false,\"showline\":true,\"ticks\":\"outside\"},\"bgcolor\":\"white\",\"radialaxis\":{\"gridcolor\":\"rgb(232,232,232)\",\"linecolor\":\"rgb(36,36,36)\",\"showgrid\":false,\"showline\":true,\"ticks\":\"outside\"}},\"scene\":{\"xaxis\":{\"backgroundcolor\":\"white\",\"gridcolor\":\"rgb(232,232,232)\",\"gridwidth\":2,\"linecolor\":\"rgb(36,36,36)\",\"showbackground\":true,\"showgrid\":false,\"showline\":true,\"ticks\":\"outside\",\"zeroline\":false,\"zerolinecolor\":\"rgb(36,36,36)\"},\"yaxis\":{\"backgroundcolor\":\"white\",\"gridcolor\":\"rgb(232,232,232)\",\"gridwidth\":2,\"linecolor\":\"rgb(36,36,36)\",\"showbackground\":true,\"showgrid\":false,\"showline\":true,\"ticks\":\"outside\",\"zeroline\":false,\"zerolinecolor\":\"rgb(36,36,36)\"},\"zaxis\":{\"backgroundcolor\":\"white\",\"gridcolor\":\"rgb(232,232,232)\",\"gridwidth\":2,\"linecolor\":\"rgb(36,36,36)\",\"showbackground\":true,\"showgrid\":false,\"showline\":true,\"ticks\":\"outside\",\"zeroline\":false,\"zerolinecolor\":\"rgb(36,36,36)\"}},\"shapedefaults\":{\"fillcolor\":\"black\",\"line\":{\"width\":0},\"opacity\":0.3},\"ternary\":{\"aaxis\":{\"gridcolor\":\"rgb(232,232,232)\",\"linecolor\":\"rgb(36,36,36)\",\"showgrid\":false,\"showline\":true,\"ticks\":\"outside\"},\"baxis\":{\"gridcolor\":\"rgb(232,232,232)\",\"linecolor\":\"rgb(36,36,36)\",\"showgrid\":false,\"showline\":true,\"ticks\":\"outside\"},\"bgcolor\":\"white\",\"caxis\":{\"gridcolor\":\"rgb(232,232,232)\",\"linecolor\":\"rgb(36,36,36)\",\"showgrid\":false,\"showline\":true,\"ticks\":\"outside\"}},\"title\":{\"x\":0.05},\"xaxis\":{\"automargin\":true,\"gridcolor\":\"rgb(232,232,232)\",\"linecolor\":\"rgb(36,36,36)\",\"showgrid\":false,\"showline\":true,\"ticks\":\"outside\",\"title\":{\"standoff\":15},\"zeroline\":false,\"zerolinecolor\":\"rgb(36,36,36)\"},\"yaxis\":{\"automargin\":true,\"gridcolor\":\"rgb(232,232,232)\",\"linecolor\":\"rgb(36,36,36)\",\"showgrid\":false,\"showline\":true,\"ticks\":\"outside\",\"title\":{\"standoff\":15},\"zeroline\":false,\"zerolinecolor\":\"rgb(36,36,36)\"}}},\"xaxis\":{\"anchor\":\"y\",\"domain\":[0.0,0.98],\"title\":{\"text\":\"tlvorg_hr\"},\"dtick\":1,\"categoryorder\":\"category ascending\"},\"yaxis\":{\"anchor\":\"x\",\"domain\":[0.0,0.14166666666666666],\"title\":{\"text\":\"percentage\"},\"tickformat\":\".0%\"},\"xaxis2\":{\"anchor\":\"y2\",\"domain\":[0.0,0.98],\"matches\":\"x\",\"showticklabels\":false,\"dtick\":1,\"categoryorder\":\"category ascending\"},\"yaxis2\":{\"anchor\":\"x2\",\"domain\":[0.17166666666666666,0.31333333333333335],\"matches\":\"y\",\"title\":{\"text\":\"percentage\"},\"tickformat\":\".0%\"},\"xaxis3\":{\"anchor\":\"y3\",\"domain\":[0.0,0.98],\"matches\":\"x\",\"showticklabels\":false,\"dtick\":1,\"categoryorder\":\"category ascending\"},\"yaxis3\":{\"anchor\":\"x3\",\"domain\":[0.3433333333333333,0.485],\"matches\":\"y\",\"title\":{\"text\":\"percentage\"},\"tickformat\":\".0%\"},\"xaxis4\":{\"anchor\":\"y4\",\"domain\":[0.0,0.98],\"matches\":\"x\",\"showticklabels\":false,\"dtick\":1,\"categoryorder\":\"category ascending\"},\"yaxis4\":{\"anchor\":\"x4\",\"domain\":[0.515,0.6566666666666667],\"matches\":\"y\",\"title\":{\"text\":\"percentage\"},\"tickformat\":\".0%\"},\"xaxis5\":{\"anchor\":\"y5\",\"domain\":[0.0,0.98],\"matches\":\"x\",\"showticklabels\":false,\"dtick\":1,\"categoryorder\":\"category ascending\"},\"yaxis5\":{\"anchor\":\"x5\",\"domain\":[0.6866666666666666,0.8283333333333334],\"matches\":\"y\",\"title\":{\"text\":\"percentage\"},\"tickformat\":\".0%\"},\"xaxis6\":{\"anchor\":\"y6\",\"domain\":[0.0,0.98],\"matches\":\"x\",\"showticklabels\":false,\"dtick\":1,\"categoryorder\":\"category ascending\"},\"yaxis6\":{\"anchor\":\"x6\",\"domain\":[0.8583333333333333,1.0],\"matches\":\"y\",\"title\":{\"text\":\"percentage\"},\"tickformat\":\".0%\"},\"annotations\":[{\"font\":{},\"showarrow\":false,\"text\":\"Personal Business\",\"textangle\":90,\"x\":0.98,\"xanchor\":\"left\",\"xref\":\"paper\",\"y\":0.07083333333333333,\"yanchor\":\"middle\",\"yref\":\"paper\"},{\"font\":{},\"showarrow\":false,\"text\":\"Escort\",\"textangle\":90,\"x\":0.98,\"xanchor\":\"left\",\"xref\":\"paper\",\"y\":0.2425,\"yanchor\":\"middle\",\"yref\":\"paper\"},{\"font\":{},\"showarrow\":false,\"text\":\"Meal\",\"textangle\":90,\"x\":0.98,\"xanchor\":\"left\",\"xref\":\"paper\",\"y\":0.4141666666666667,\"yanchor\":\"middle\",\"yref\":\"paper\"},{\"font\":{},\"showarrow\":false,\"text\":\"Shop\",\"textangle\":90,\"x\":0.98,\"xanchor\":\"left\",\"xref\":\"paper\",\"y\":0.5858333333333334,\"yanchor\":\"middle\",\"yref\":\"paper\"},{\"font\":{},\"showarrow\":false,\"text\":\"School\",\"textangle\":90,\"x\":0.98,\"xanchor\":\"left\",\"xref\":\"paper\",\"y\":0.7575000000000001,\"yanchor\":\"middle\",\"yref\":\"paper\"},{\"font\":{},\"showarrow\":false,\"text\":\"Work\",\"textangle\":90,\"x\":0.98,\"xanchor\":\"left\",\"xref\":\"paper\",\"y\":0.9291666666666667,\"yanchor\":\"middle\",\"yref\":\"paper\"}],\"legend\":{\"title\":{\"text\":\"source\"},\"tracegroupgap\":0},\"title\":{\"text\":\"tour origin departure hour by purpose\"},\"barmode\":\"group\",\"height\":1500,\"width\":850},                        {\"responsive\": true}                    ).then(function(){\n",
       "                            \n",
       "var gd = document.getElementById('0c5fddbd-3aa5-4f7a-a6f6-3f1c50ca021b');\n",
       "var x = new MutationObserver(function (mutations, observer) {{\n",
       "        var display = window.getComputedStyle(gd).display;\n",
       "        if (!display || display === 'none') {{\n",
       "            console.log([gd, 'removed!']);\n",
       "            Plotly.purge(gd);\n",
       "            observer.disconnect();\n",
       "        }}\n",
       "}});\n",
       "\n",
       "// Listen for the removal of the full notebook cells\n",
       "var notebookContainer = gd.closest('#notebook-container');\n",
       "if (notebookContainer) {{\n",
       "    x.observe(notebookContainer, {childList: true});\n",
       "}}\n",
       "\n",
       "// Listen for the clearing of the current output cell\n",
       "var outputEl = gd.closest('.output');\n",
       "if (outputEl) {{\n",
       "    x.observe(outputEl, {childList: true});\n",
       "}}\n",
       "\n",
       "                        })                };                });            </script>        </div>"
      ]
     },
     "metadata": {},
     "output_type": "display_data"
    }
   ],
   "source": [
    "df_plot = df_tour.groupby(['tlvorg_hr','pdpurp_label','source'])['toexpfac'].agg(sample_count='size', toexpfac='sum').reset_index()\n",
    "df_plot['percentage'] = df_plot.groupby(['pdpurp_label','source'], group_keys=False)['toexpfac']. \\\n",
    "    apply(lambda x: x / float(x.sum()))\n",
    "\n",
    "fig = px.bar(df_plot.sort_values(['source','pdpurp_label']),\n",
    "             x=\"tlvorg_hr\", y=\"percentage\", color=\"source\",barmode=\"group\",\n",
    "             facet_row='pdpurp_label',\n",
    "             hover_data=['toexpfac','sample_count'],\n",
    "             title=\"tour origin departure hour by purpose\")\n",
    "fig.update_layout(height=1500, width=850)\n",
    "fig.for_each_annotation(lambda a: a.update(text = a.text.split(\"=\")[-1]))\n",
    "fig.for_each_xaxis(lambda a: a.update(dict(dtick = 1, categoryorder='category ascending')))\n",
    "fig.for_each_yaxis(lambda a: a.update(dict(tickformat=\".0%\")))\n",
    "fig.show()"
   ]
  },
  {
   "cell_type": "raw",
   "metadata": {
    "vscode": {
     "languageId": "raw"
    }
   },
   "source": [
    "### trip"
   ]
  },
  {
   "cell_type": "code",
   "execution_count": 7,
   "metadata": {
    "execution": {
     "iopub.execute_input": "2025-01-21T07:15:35.232422Z",
     "iopub.status.busy": "2025-01-21T07:15:35.230847Z",
     "iopub.status.idle": "2025-01-21T07:15:36.914521Z",
     "shell.execute_reply": "2025-01-21T07:15:36.913009Z"
    }
   },
   "outputs": [
    {
     "data": {
      "application/vnd.plotly.v1+json": {
       "config": {
        "plotlyServerURL": "https://plot.ly"
       },
       "data": [
        {
         "alignmentgroup": "True",
         "customdata": [
          [
           1904.0,
           1904.0
          ],
          [
           1419.0,
           1419.0
          ],
          [
           493.0,
           493.0
          ],
          [
           12560.0,
           12560.0
          ],
          [
           16839.0,
           16839.0
          ],
          [
           46667.0,
           46667.0
          ],
          [
           129400.0,
           129400.0
          ],
          [
           188607.0,
           188607.0
          ],
          [
           174824.0,
           174824.0
          ],
          [
           104091.0,
           104091.0
          ],
          [
           85804.0,
           85804.0
          ],
          [
           92408.0,
           92408.0
          ],
          [
           97260.0,
           97260.0
          ],
          [
           79118.0,
           79118.0
          ],
          [
           70635.0,
           70635.0
          ],
          [
           56328.0,
           56328.0
          ],
          [
           56053.0,
           56053.0
          ],
          [
           46610.0,
           46610.0
          ],
          [
           36872.0,
           36872.0
          ],
          [
           19276.0,
           19276.0
          ],
          [
           13989.0,
           13989.0
          ],
          [
           15018.0,
           15018.0
          ],
          [
           7637.0,
           7637.0
          ],
          [
           4879.0,
           4879.0
          ]
         ],
         "hovertemplate": "source=model<br>dpurp_label=Work<br>dept_hr=%{x}<br>percentage=%{y}<br>trexpfac=%{customdata[0]}<br>sample_count=%{customdata[1]}<extra></extra>",
         "legendgroup": "model",
         "marker": {
          "color": "#91268F",
          "pattern": {
           "shape": ""
          }
         },
         "name": "model",
         "offsetgroup": "model",
         "orientation": "v",
         "showlegend": true,
         "textposition": "auto",
         "type": "bar",
         "x": [
          0,
          1,
          2,
          3,
          4,
          5,
          6,
          7,
          8,
          9,
          10,
          11,
          12,
          13,
          14,
          15,
          16,
          17,
          18,
          19,
          20,
          21,
          22,
          23
         ],
         "xaxis": "x6",
         "y": [
          0.001401348798218285,
          0.0010443875759830602,
          0.00036284924239580595,
          0.009244191652112217,
          0.012393546435502995,
          0.03434702960422936,
          0.09523872609739815,
          0.13881522730333828,
          0.12867090456917724,
          0.07661123831687999,
          0.06315196023231183,
          0.06801252087487147,
          0.07158360510226387,
          0.05823104738310624,
          0.05198753800533013,
          0.04145754995065103,
          0.04125514925763106,
          0.034305077460585226,
          0.027137884920117965,
          0.014187184576919991,
          0.010295939253296003,
          0.011053285846450739,
          0.0056208512457946655,
          0.0035909562954343555
         ],
         "yaxis": "y6"
        },
        {
         "alignmentgroup": "True",
         "customdata": [
          [
           0.0,
           0.0
          ],
          [
           1.0,
           1.0
          ],
          [
           0.0,
           0.0
          ],
          [
           179.0,
           179.0
          ],
          [
           237.0,
           237.0
          ],
          [
           1862.0,
           1862.0
          ],
          [
           19666.0,
           19666.0
          ],
          [
           68110.0,
           68110.0
          ],
          [
           84635.0,
           84635.0
          ],
          [
           45547.0,
           45547.0
          ],
          [
           22348.0,
           22348.0
          ],
          [
           15229.0,
           15229.0
          ],
          [
           10744.0,
           10744.0
          ],
          [
           7832.0,
           7832.0
          ],
          [
           6542.0,
           6542.0
          ],
          [
           6590.0,
           6590.0
          ],
          [
           4474.0,
           4474.0
          ],
          [
           3991.0,
           3991.0
          ],
          [
           2676.0,
           2676.0
          ],
          [
           765.0,
           765.0
          ],
          [
           672.0,
           672.0
          ],
          [
           370.0,
           370.0
          ],
          [
           29.0,
           29.0
          ],
          [
           14.0,
           14.0
          ]
         ],
         "hovertemplate": "source=model<br>dpurp_label=School<br>dept_hr=%{x}<br>percentage=%{y}<br>trexpfac=%{customdata[0]}<br>sample_count=%{customdata[1]}<extra></extra>",
         "legendgroup": "model",
         "marker": {
          "color": "#91268F",
          "pattern": {
           "shape": ""
          }
         },
         "name": "model",
         "offsetgroup": "model",
         "orientation": "v",
         "showlegend": false,
         "textposition": "auto",
         "type": "bar",
         "x": [
          0,
          1,
          2,
          3,
          4,
          5,
          6,
          7,
          8,
          9,
          10,
          11,
          12,
          13,
          14,
          15,
          16,
          17,
          18,
          19,
          20,
          21,
          22,
          23
         ],
         "xaxis": "x5",
         "y": [
          0.0,
          3.305643063273314e-06,
          0.0,
          0.0005917101083259232,
          0.0007834374059957754,
          0.00615510738381491,
          0.065008776482333,
          0.22514734903954542,
          0.27977310066013694,
          0.15056212460290963,
          0.07387451117803202,
          0.0503416382105893,
          0.03551582907180848,
          0.025889796471556595,
          0.02162551691993402,
          0.021784187786971138,
          0.014789447065084806,
          0.013192821465523795,
          0.008845900837319388,
          0.002528816943404085,
          0.002221392138519667,
          0.001223087933411126,
          9.586364883492611e-05,
          4.627900288582639e-05
         ],
         "yaxis": "y5"
        },
        {
         "alignmentgroup": "True",
         "customdata": [
          [
           701.0,
           701.0
          ],
          [
           538.0,
           538.0
          ],
          [
           235.0,
           235.0
          ],
          [
           4341.0,
           4341.0
          ],
          [
           4432.0,
           4432.0
          ],
          [
           7076.0,
           7076.0
          ],
          [
           18557.0,
           18557.0
          ],
          [
           39375.0,
           39375.0
          ],
          [
           65388.0,
           65388.0
          ],
          [
           90575.0,
           90575.0
          ],
          [
           105530.0,
           105530.0
          ],
          [
           99674.0,
           99674.0
          ],
          [
           93804.0,
           93804.0
          ],
          [
           101459.0,
           101459.0
          ],
          [
           91943.0,
           91943.0
          ],
          [
           102211.0,
           102211.0
          ],
          [
           109102.0,
           109102.0
          ],
          [
           93102.0,
           93102.0
          ],
          [
           72615.0,
           72615.0
          ],
          [
           50002.0,
           50002.0
          ],
          [
           34602.0,
           34602.0
          ],
          [
           12624.0,
           12624.0
          ],
          [
           5591.0,
           5591.0
          ],
          [
           3571.0,
           3571.0
          ]
         ],
         "hovertemplate": "source=model<br>dpurp_label=Shop<br>dept_hr=%{x}<br>percentage=%{y}<br>trexpfac=%{customdata[0]}<br>sample_count=%{customdata[1]}<extra></extra>",
         "legendgroup": "model",
         "marker": {
          "color": "#91268F",
          "pattern": {
           "shape": ""
          }
         },
         "name": "model",
         "offsetgroup": "model",
         "orientation": "v",
         "showlegend": false,
         "textposition": "auto",
         "type": "bar",
         "x": [
          0,
          1,
          2,
          3,
          4,
          5,
          6,
          7,
          8,
          9,
          10,
          11,
          12,
          13,
          14,
          15,
          16,
          17,
          18,
          19,
          20,
          21,
          22,
          23
         ],
         "xaxis": "x4",
         "y": [
          0.0005807556948853733,
          0.00044571549764383853,
          0.00019468985491877705,
          0.0035963772774570686,
          0.0036717678170213614,
          0.005862235801724538,
          0.015373870798841472,
          0.0326209065422419,
          0.05417183078054891,
          0.07503844089050311,
          0.08742817187054698,
          0.0825766663794646,
          0.07771356234383388,
          0.08405548080937958,
          0.07617178438637072,
          0.08467848834511967,
          0.09038745766531239,
          0.07713197818148076,
          0.06015916516990211,
          0.04142503032190932,
          0.028666631318721377,
          0.010458573312743155,
          0.0046319616121314145,
          0.002958457327297672
         ],
         "yaxis": "y4"
        },
        {
         "alignmentgroup": "True",
         "customdata": [
          [
           872.0,
           872.0
          ],
          [
           716.0,
           716.0
          ],
          [
           356.0,
           356.0
          ],
          [
           2533.0,
           2533.0
          ],
          [
           2933.0,
           2933.0
          ],
          [
           5679.0,
           5679.0
          ],
          [
           14763.0,
           14763.0
          ],
          [
           22958.0,
           22958.0
          ],
          [
           36476.0,
           36476.0
          ],
          [
           48419.0,
           48419.0
          ],
          [
           71524.0,
           71524.0
          ],
          [
           79423.0,
           79423.0
          ],
          [
           81986.0,
           81986.0
          ],
          [
           65978.0,
           65978.0
          ],
          [
           59213.0,
           59213.0
          ],
          [
           49854.0,
           49854.0
          ],
          [
           52099.0,
           52099.0
          ],
          [
           51706.0,
           51706.0
          ],
          [
           44195.0,
           44195.0
          ],
          [
           27203.0,
           27203.0
          ],
          [
           22503.0,
           22503.0
          ],
          [
           15719.0,
           15719.0
          ],
          [
           4828.0,
           4828.0
          ],
          [
           2957.0,
           2957.0
          ]
         ],
         "hovertemplate": "source=model<br>dpurp_label=Meal<br>dept_hr=%{x}<br>percentage=%{y}<br>trexpfac=%{customdata[0]}<br>sample_count=%{customdata[1]}<extra></extra>",
         "legendgroup": "model",
         "marker": {
          "color": "#91268F",
          "pattern": {
           "shape": ""
          }
         },
         "name": "model",
         "offsetgroup": "model",
         "orientation": "v",
         "showlegend": false,
         "textposition": "auto",
         "type": "bar",
         "x": [
          0,
          1,
          2,
          3,
          4,
          5,
          6,
          7,
          8,
          9,
          10,
          11,
          12,
          13,
          14,
          15,
          16,
          17,
          18,
          19,
          20,
          21,
          22,
          23
         ],
         "xaxis": "x3",
         "y": [
          0.0011400287360454338,
          0.0009360786410648286,
          0.00046542457572497066,
          0.0033115742986273896,
          0.0038345232601161208,
          0.00742456788073626,
          0.019300738796145342,
          0.030014655644645723,
          0.047687715798157386,
          0.06330166441580717,
          0.0935085038038,
          0.10383543842079873,
          0.10718623389153777,
          0.08625781645275875,
          0.0774134421415806,
          0.065177743815148,
          0.0681127948615035,
          0.06759899750684083,
          0.057779323382486175,
          0.03556445149844488,
          0.02941980120095229,
          0.02055058681410341,
          0.006311993965168985,
          0.0038659001978054446
         ],
         "yaxis": "y3"
        },
        {
         "alignmentgroup": "True",
         "customdata": [
          [
           1377.0,
           1377.0
          ],
          [
           1011.0,
           1011.0
          ],
          [
           452.0,
           452.0
          ],
          [
           12753.0,
           12753.0
          ],
          [
           12117.0,
           12117.0
          ],
          [
           21954.0,
           21954.0
          ],
          [
           60650.0,
           60650.0
          ],
          [
           75721.0,
           75721.0
          ],
          [
           70013.0,
           70013.0
          ],
          [
           62903.0,
           62903.0
          ],
          [
           59582.0,
           59582.0
          ],
          [
           49011.0,
           49011.0
          ],
          [
           46536.0,
           46536.0
          ],
          [
           50432.0,
           50432.0
          ],
          [
           50404.0,
           50404.0
          ],
          [
           65163.0,
           65163.0
          ],
          [
           74595.0,
           74595.0
          ],
          [
           66789.0,
           66789.0
          ],
          [
           47443.0,
           47443.0
          ],
          [
           29649.0,
           29649.0
          ],
          [
           22219.0,
           22219.0
          ],
          [
           11791.0,
           11791.0
          ],
          [
           6494.0,
           6494.0
          ],
          [
           5390.0,
           5390.0
          ]
         ],
         "hovertemplate": "source=model<br>dpurp_label=Escort<br>dept_hr=%{x}<br>percentage=%{y}<br>trexpfac=%{customdata[0]}<br>sample_count=%{customdata[1]}<extra></extra>",
         "legendgroup": "model",
         "marker": {
          "color": "#91268F",
          "pattern": {
           "shape": ""
          }
         },
         "name": "model",
         "offsetgroup": "model",
         "orientation": "v",
         "showlegend": false,
         "textposition": "auto",
         "type": "bar",
         "x": [
          0,
          1,
          2,
          3,
          4,
          5,
          6,
          7,
          8,
          9,
          10,
          11,
          12,
          13,
          14,
          15,
          16,
          17,
          18,
          19,
          20,
          21,
          22,
          23
         ],
         "xaxis": "x2",
         "y": [
          0.0015224739040012206,
          0.0011178076375782382,
          0.0004997517825770165,
          0.014100297529213919,
          0.013397106967888737,
          0.024273342112158893,
          0.06705740179932755,
          0.0837205856825537,
          0.07740956095921384,
          0.0695484211934559,
          0.06587657236615885,
          0.05418879339796937,
          0.051452320694699204,
          0.055759915705584286,
          0.05572895763055739,
          0.072047180106341,
          0.08247562880825784,
          0.07384495974897423,
          0.05245514119646326,
          0.032781284516871595,
          0.02456633817937772,
          0.013036666522932746,
          0.007180062115166251,
          0.005959429442677255
         ],
         "yaxis": "y2"
        },
        {
         "alignmentgroup": "True",
         "customdata": [
          [
           306.0,
           306.0
          ],
          [
           229.0,
           229.0
          ],
          [
           87.0,
           87.0
          ],
          [
           2704.0,
           2704.0
          ],
          [
           2559.0,
           2559.0
          ],
          [
           4890.0,
           4890.0
          ],
          [
           13148.0,
           13148.0
          ],
          [
           24295.0,
           24295.0
          ],
          [
           38115.0,
           38115.0
          ],
          [
           47673.0,
           47673.0
          ],
          [
           49141.0,
           49141.0
          ],
          [
           42172.0,
           42173.0
          ],
          [
           39151.0,
           39151.0
          ],
          [
           41343.0,
           41343.0
          ],
          [
           35313.0,
           35313.0
          ],
          [
           36146.0,
           36146.0
          ],
          [
           38896.0,
           38896.0
          ],
          [
           31898.0,
           31898.0
          ],
          [
           24666.0,
           24666.0
          ],
          [
           14431.0,
           14431.0
          ],
          [
           10351.0,
           10351.0
          ],
          [
           5643.0,
           5643.0
          ],
          [
           2149.0,
           2149.0
          ],
          [
           1376.0,
           1376.0
          ]
         ],
         "hovertemplate": "source=model<br>dpurp_label=Personal Business<br>dept_hr=%{x}<br>percentage=%{y}<br>trexpfac=%{customdata[0]}<br>sample_count=%{customdata[1]}<extra></extra>",
         "legendgroup": "model",
         "marker": {
          "color": "#91268F",
          "pattern": {
           "shape": ""
          }
         },
         "name": "model",
         "offsetgroup": "model",
         "orientation": "v",
         "showlegend": false,
         "textposition": "auto",
         "type": "bar",
         "x": [
          0,
          1,
          2,
          3,
          4,
          5,
          6,
          7,
          8,
          9,
          10,
          11,
          12,
          13,
          14,
          15,
          16,
          17,
          18,
          19,
          20,
          21,
          22,
          23
         ],
         "xaxis": "x",
         "y": [
          0.0006039290916195957,
          0.0004519600064734883,
          0.00017170532997027723,
          0.0053366806004555125,
          0.005050505050505051,
          0.00965102371901903,
          0.025949214694818448,
          0.04794920680032052,
          0.07522469714732317,
          0.09408859995026467,
          0.09698588069045279,
          0.08323169167248885,
          0.07726937211110717,
          0.08159555697656519,
          0.0696946013475908,
          0.07133863054144414,
          0.07676609786809084,
          0.06295467374013682,
          0.04868142148329722,
          0.02848137490575943,
          0.020428987017498155,
          0.011137162954279016,
          0.004241319012714089,
          0.002715707287805764
         ],
         "yaxis": "y"
        },
        {
         "alignmentgroup": "True",
         "customdata": [
          [
           933.4381432085191,
           3.0
          ],
          [
           652.3610021546501,
           2.0
          ],
          [
           0.0,
           0.0
          ],
          [
           14547.840530201887,
           22.0
          ],
          [
           61959.04808892333,
           63.0
          ],
          [
           123429.73601870971,
           137.0
          ],
          [
           244191.6578800728,
           375.0
          ],
          [
           421442.0443148261,
           635.0
          ],
          [
           332268.96521368716,
           621.0
          ],
          [
           212633.51142674987,
           405.0
          ],
          [
           123170.05090044552,
           268.0
          ],
          [
           95375.07211814178,
           235.0
          ],
          [
           101371.95384904846,
           322.0
          ],
          [
           88397.03022127587,
           238.0
          ],
          [
           112296.78187761318,
           196.0
          ],
          [
           83931.55209586128,
           146.0
          ],
          [
           42291.688723809944,
           110.0
          ],
          [
           30316.413675442225,
           112.0
          ],
          [
           11162.124152479972,
           59.0
          ],
          [
           15405.299551487862,
           45.0
          ],
          [
           4401.490109861218,
           34.0
          ],
          [
           749.5033899177744,
           22.0
          ],
          [
           12522.908672478066,
           16.0
          ],
          [
           1551.352760741711,
           10.0
          ]
         ],
         "hovertemplate": "source=survey<br>dpurp_label=Work<br>dept_hr=%{x}<br>percentage=%{y}<br>trexpfac=%{customdata[0]}<br>sample_count=%{customdata[1]}<extra></extra>",
         "legendgroup": "survey",
         "marker": {
          "color": "#8CC63E",
          "pattern": {
           "shape": ""
          }
         },
         "name": "survey",
         "offsetgroup": "survey",
         "orientation": "v",
         "showlegend": true,
         "textposition": "auto",
         "type": "bar",
         "x": [
          0,
          1,
          2,
          3,
          4,
          5,
          6,
          7,
          8,
          9,
          10,
          11,
          12,
          13,
          14,
          15,
          16,
          17,
          18,
          19,
          20,
          21,
          22,
          23
         ],
         "xaxis": "x6",
         "y": [
          0.0004372071875545999,
          0.0003055552433736584,
          0.0,
          0.006813971005448342,
          0.02902060662038644,
          0.05781247331489406,
          0.11437538603154362,
          0.19739657335921101,
          0.15562935889186355,
          0.09959406543126545,
          0.05769084104495509,
          0.04467212674667282,
          0.04748096824810863,
          0.04140372584130572,
          0.05259797934481442,
          0.03931216878794994,
          0.019808736570711392,
          0.0141997132388675,
          0.005228156727200369,
          0.007215590812681798,
          0.002061586111498692,
          0.0003510551519163569,
          0.0058655259810549325,
          0.0007266283067215861
         ],
         "yaxis": "y6"
        },
        {
         "alignmentgroup": "True",
         "customdata": [
          [
           0.0,
           0.0
          ],
          [
           0.0,
           0.0
          ],
          [
           0.0,
           0.0
          ],
          [
           0.0,
           0.0
          ],
          [
           100.55973888340068,
           1.0
          ],
          [
           527.1000394518072,
           4.0
          ],
          [
           29857.317976426013,
           26.0
          ],
          [
           234419.12527085032,
           237.0
          ],
          [
           216579.2018420841,
           266.0
          ],
          [
           65952.72608095732,
           63.0
          ],
          [
           11077.577202328726,
           22.0
          ],
          [
           7444.909146719675,
           16.0
          ],
          [
           7445.531184398756,
           13.0
          ],
          [
           18875.513407542494,
           19.0
          ],
          [
           5888.197298605054,
           13.0
          ],
          [
           4426.726729020553,
           15.0
          ],
          [
           5109.949408766104,
           9.0
          ],
          [
           1174.063614005829,
           8.0
          ],
          [
           13277.512811735827,
           3.0
          ],
          [
           136.61502052405655,
           1.0
          ],
          [
           0.0,
           0.0
          ],
          [
           0.0,
           0.0
          ],
          [
           0.0,
           0.0
          ],
          [
           0.0,
           0.0
          ]
         ],
         "hovertemplate": "source=survey<br>dpurp_label=School<br>dept_hr=%{x}<br>percentage=%{y}<br>trexpfac=%{customdata[0]}<br>sample_count=%{customdata[1]}<extra></extra>",
         "legendgroup": "survey",
         "marker": {
          "color": "#8CC63E",
          "pattern": {
           "shape": ""
          }
         },
         "name": "survey",
         "offsetgroup": "survey",
         "orientation": "v",
         "showlegend": false,
         "textposition": "auto",
         "type": "bar",
         "x": [
          0,
          1,
          2,
          3,
          4,
          5,
          6,
          7,
          8,
          9,
          10,
          11,
          12,
          13,
          14,
          15,
          16,
          17,
          18,
          19,
          20,
          21,
          22,
          23
         ],
         "xaxis": "x5",
         "y": [
          0.0,
          0.0,
          0.0,
          0.0,
          0.0001615955814951283,
          0.0008470292219044332,
          0.04797954642543266,
          0.37670239881634565,
          0.34803433710187837,
          0.10598346058355235,
          0.017801234862424402,
          0.011963678864933432,
          0.011964678455242427,
          0.030332214452621395,
          0.009462103591273264,
          0.007113577340585001,
          0.00821148956122191,
          0.0018866744735438182,
          0.021336445653556062,
          0.00021953501398955935,
          0.0,
          0.0,
          0.0,
          0.0
         ],
         "yaxis": "y5"
        },
        {
         "alignmentgroup": "True",
         "customdata": [
          [
           416.1814350899921,
           3.0
          ],
          [
           166.4863951454292,
           1.0
          ],
          [
           662.2466529370209,
           1.0
          ],
          [
           0.0,
           0.0
          ],
          [
           2778.3171951656627,
           2.0
          ],
          [
           1274.9995721767857,
           8.0
          ],
          [
           11231.450721770396,
           16.0
          ],
          [
           35806.14937003373,
           55.0
          ],
          [
           60612.85852583463,
           96.0
          ],
          [
           86704.48982180646,
           194.0
          ],
          [
           163462.76068826922,
           291.0
          ],
          [
           192018.16896677352,
           335.0
          ],
          [
           183940.06275274206,
           324.0
          ],
          [
           172269.1676440168,
           304.0
          ],
          [
           253739.9832700529,
           345.0
          ],
          [
           277266.2110290083,
           296.0
          ],
          [
           232040.61404135966,
           332.0
          ],
          [
           148646.47909963594,
           305.0
          ],
          [
           175470.79451894964,
           246.0
          ],
          [
           80746.54433422882,
           214.0
          ],
          [
           39126.01979502964,
           85.0
          ],
          [
           19581.593188056962,
           29.0
          ],
          [
           18895.589028898474,
           19.0
          ],
          [
           5539.329230717929,
           7.0
          ]
         ],
         "hovertemplate": "source=survey<br>dpurp_label=Shop<br>dept_hr=%{x}<br>percentage=%{y}<br>trexpfac=%{customdata[0]}<br>sample_count=%{customdata[1]}<extra></extra>",
         "legendgroup": "survey",
         "marker": {
          "color": "#8CC63E",
          "pattern": {
           "shape": ""
          }
         },
         "name": "survey",
         "offsetgroup": "survey",
         "orientation": "v",
         "showlegend": false,
         "textposition": "auto",
         "type": "bar",
         "x": [
          0,
          1,
          2,
          3,
          4,
          5,
          6,
          7,
          8,
          9,
          10,
          11,
          12,
          13,
          14,
          15,
          16,
          17,
          18,
          19,
          20,
          21,
          22,
          23
         ],
         "xaxis": "x4",
         "y": [
          0.00019246305458500986,
          7.699161340439808e-05,
          0.00030625588497333465,
          0.0,
          0.001284832452634548,
          0.0005896233987531508,
          0.0051939830349845536,
          0.016558549468199322,
          0.028030409132710776,
          0.040096480886350455,
          0.0755933340134693,
          0.08879877913625482,
          0.08506305988948337,
          0.07966585585062275,
          0.11734202473482228,
          0.1282217259314221,
          0.10730715404574598,
          0.06874154637540851,
          0.08114644781373564,
          0.037341229712443046,
          0.018093823146812557,
          0.009055505413881665,
          0.008738262873014569,
          0.00256166213628793
         ],
         "yaxis": "y4"
        },
        {
         "alignmentgroup": "True",
         "customdata": [
          [
           733.8487893719459,
           1.0
          ],
          [
           0.0,
           0.0
          ],
          [
           0.0,
           0.0
          ],
          [
           0.0,
           0.0
          ],
          [
           27.04270096538557,
           1.0
          ],
          [
           4657.434421483057,
           5.0
          ],
          [
           22490.563484129965,
           28.0
          ],
          [
           19944.839286634036,
           49.0
          ],
          [
           46727.049957153235,
           70.0
          ],
          [
           37490.78992847492,
           90.0
          ],
          [
           26094.448596734408,
           86.0
          ],
          [
           91849.8959858387,
           200.0
          ],
          [
           133396.1786211566,
           241.0
          ],
          [
           41956.53457102279,
           153.0
          ],
          [
           90591.86199198403,
           120.0
          ],
          [
           99584.34822909579,
           121.0
          ],
          [
           81913.92707558669,
           161.0
          ],
          [
           98552.14623271614,
           207.0
          ],
          [
           96363.33682392232,
           202.0
          ],
          [
           69955.42983515437,
           119.0
          ],
          [
           79551.91161059293,
           83.0
          ],
          [
           15810.917959313985,
           29.0
          ],
          [
           5745.005317973759,
           15.0
          ],
          [
           1733.9523252268762,
           4.0
          ]
         ],
         "hovertemplate": "source=survey<br>dpurp_label=Meal<br>dept_hr=%{x}<br>percentage=%{y}<br>trexpfac=%{customdata[0]}<br>sample_count=%{customdata[1]}<extra></extra>",
         "legendgroup": "survey",
         "marker": {
          "color": "#8CC63E",
          "pattern": {
           "shape": ""
          }
         },
         "name": "survey",
         "offsetgroup": "survey",
         "orientation": "v",
         "showlegend": false,
         "textposition": "auto",
         "type": "bar",
         "x": [
          0,
          1,
          2,
          3,
          4,
          5,
          6,
          7,
          8,
          9,
          10,
          11,
          12,
          13,
          14,
          15,
          16,
          17,
          18,
          19,
          20,
          21,
          22,
          23
         ],
         "xaxis": "x3",
         "y": [
          0.0006889489761508956,
          0.0,
          0.0,
          0.0,
          2.538812002184038e-05,
          0.004372473897404451,
          0.021114500575396607,
          0.01872453399804706,
          0.043868101566378555,
          0.03519695298321156,
          0.024497885537602834,
          0.086230150836887,
          0.12523446521202528,
          0.03938946545143791,
          0.08504908841015606,
          0.09349137826037354,
          0.07690210436883496,
          0.09252233052344767,
          0.09046744125604352,
          0.06567527596846352,
          0.07468460648667215,
          0.014843542563308885,
          0.0053935028429860634,
          0.0016278621651497256
         ],
         "yaxis": "y3"
        },
        {
         "alignmentgroup": "True",
         "customdata": [
          [
           10.631524568731235,
           1.0
          ],
          [
           0.0,
           0.0
          ],
          [
           0.0,
           0.0
          ],
          [
           0.0,
           0.0
          ],
          [
           4702.810010024654,
           1.0
          ],
          [
           3625.4346987638105,
           10.0
          ],
          [
           38961.84624598058,
           37.0
          ],
          [
           272290.17640342796,
           227.0
          ],
          [
           217929.14698753785,
           234.0
          ],
          [
           96507.00538528556,
           95.0
          ],
          [
           22800.727459364327,
           78.0
          ],
          [
           33026.185344125945,
           63.0
          ],
          [
           28693.784908017537,
           76.0
          ],
          [
           108325.68029472863,
           87.0
          ],
          [
           178384.34666701066,
           175.0
          ],
          [
           238130.1345736447,
           228.0
          ],
          [
           106072.32890557716,
           153.0
          ],
          [
           120174.62032965106,
           140.0
          ],
          [
           29490.9133988241,
           68.0
          ],
          [
           45909.55903277178,
           58.0
          ],
          [
           24996.867007397752,
           29.0
          ],
          [
           9673.544694157501,
           23.0
          ],
          [
           13359.556689821664,
           13.0
          ],
          [
           704.8046917620982,
           3.0
          ]
         ],
         "hovertemplate": "source=survey<br>dpurp_label=Escort<br>dept_hr=%{x}<br>percentage=%{y}<br>trexpfac=%{customdata[0]}<br>sample_count=%{customdata[1]}<extra></extra>",
         "legendgroup": "survey",
         "marker": {
          "color": "#8CC63E",
          "pattern": {
           "shape": ""
          }
         },
         "name": "survey",
         "offsetgroup": "survey",
         "orientation": "v",
         "showlegend": false,
         "textposition": "auto",
         "type": "bar",
         "x": [
          0,
          1,
          2,
          3,
          4,
          5,
          6,
          7,
          8,
          9,
          10,
          11,
          12,
          13,
          14,
          15,
          16,
          17,
          18,
          19,
          20,
          21,
          22,
          23
         ],
         "xaxis": "x2",
         "y": [
          6.670676362728778e-06,
          0.0,
          0.0,
          0.0,
          0.0029507455275550897,
          0.0022747538599298565,
          0.024446340232871445,
          0.17084658289552918,
          0.13673813197356913,
          0.06055265126835806,
          0.014306158324981772,
          0.02072205096286129,
          0.018003716353728823,
          0.06796819687966883,
          0.11192602124931664,
          0.1494131015438555,
          0.06655434717717705,
          0.07540273213407783,
          0.018503869097326875,
          0.028805634439667174,
          0.015684110854519002,
          0.006069598533864623,
          0.008382361198640746,
          0.0004422248161383735
         ],
         "yaxis": "y2"
        },
        {
         "alignmentgroup": "True",
         "customdata": [
          [
           0.0,
           0.0
          ],
          [
           0.0,
           0.0
          ],
          [
           0.0,
           0.0
          ],
          [
           0.0,
           0.0
          ],
          [
           0.0,
           0.0
          ],
          [
           3412.4163362484046,
           5.0
          ],
          [
           7873.97057206514,
           24.0
          ],
          [
           51787.76933554985,
           76.0
          ],
          [
           36848.29507824311,
           110.0
          ],
          [
           86332.82931108194,
           155.0
          ],
          [
           77248.3560075273,
           183.0
          ],
          [
           64755.98704394247,
           148.0
          ],
          [
           83236.72157255147,
           147.0
          ],
          [
           87891.95467378886,
           170.0
          ],
          [
           151529.11763077503,
           161.0
          ],
          [
           73658.91213233332,
           136.0
          ],
          [
           46879.754761079275,
           122.0
          ],
          [
           79865.5734389031,
           83.0
          ],
          [
           10866.157129591684,
           51.0
          ],
          [
           16120.410799817173,
           22.0
          ],
          [
           1571.2531689954305,
           8.0
          ],
          [
           6280.019920777706,
           5.0
          ],
          [
           229.01483689982024,
           1.0
          ],
          [
           0.0,
           0.0
          ]
         ],
         "hovertemplate": "source=survey<br>dpurp_label=Personal Business<br>dept_hr=%{x}<br>percentage=%{y}<br>trexpfac=%{customdata[0]}<br>sample_count=%{customdata[1]}<extra></extra>",
         "legendgroup": "survey",
         "marker": {
          "color": "#8CC63E",
          "pattern": {
           "shape": ""
          }
         },
         "name": "survey",
         "offsetgroup": "survey",
         "orientation": "v",
         "showlegend": false,
         "textposition": "auto",
         "type": "bar",
         "x": [
          0,
          1,
          2,
          3,
          4,
          5,
          6,
          7,
          8,
          9,
          10,
          11,
          12,
          13,
          14,
          15,
          16,
          17,
          18,
          19,
          20,
          21,
          22,
          23
         ],
         "xaxis": "x",
         "y": [
          0.0,
          0.0,
          0.0,
          0.0,
          0.0,
          0.003849797558647286,
          0.008883204655655568,
          0.05842558712369128,
          0.04157126870061045,
          0.09739840710008893,
          0.08714954538467742,
          0.07305598621756731,
          0.09390546050781945,
          0.09915737096133134,
          0.1709511295331198,
          0.08310003005419599,
          0.052888495319888984,
          0.09010222064025217,
          0.01225891012916974,
          0.01818661969299922,
          0.0017726461304735373,
          0.007084951827960772,
          0.00025836846185076827,
          0.0
         ],
         "yaxis": "y"
        },
        {
         "alignmentgroup": "True",
         "customdata": [
          [
           877.647042052731,
           3.0
          ],
          [
           596.9418007071902,
           2.0
          ],
          [
           0.0,
           0.0
          ],
          [
           11650.055250018777,
           21.0
          ],
          [
           66295.18887513214,
           61.0
          ],
          [
           97949.82613985866,
           128.0
          ],
          [
           226622.16954902207,
           361.0
          ],
          [
           341130.43554388883,
           612.0
          ],
          [
           267785.380318121,
           610.0
          ],
          [
           171021.9207828352,
           381.0
          ],
          [
           125524.87883650606,
           263.0
          ],
          [
           86582.1122037897,
           233.0
          ],
          [
           121082.12585893358,
           313.0
          ],
          [
           110304.9240695201,
           229.0
          ],
          [
           105293.49075643212,
           194.0
          ],
          [
           94347.81685040558,
           136.0
          ],
          [
           56777.453411633134,
           106.0
          ],
          [
           40681.768903020195,
           122.0
          ],
          [
           25441.05684026079,
           64.0
          ],
          [
           34690.585260702246,
           43.0
          ],
          [
           21415.938529226954,
           34.0
          ],
          [
           9441.90766218975,
           22.0
          ],
          [
           19246.487220641277,
           16.0
          ],
          [
           4896.445540763096,
           10.0
          ]
         ],
         "hovertemplate": "source=survey (2017/2019)<br>dpurp_label=Work<br>dept_hr=%{x}<br>percentage=%{y}<br>trexpfac=%{customdata[0]}<br>sample_count=%{customdata[1]}<extra></extra>",
         "legendgroup": "survey (2017/2019)",
         "marker": {
          "color": "#00A7A0",
          "pattern": {
           "shape": ""
          }
         },
         "name": "survey (2017/2019)",
         "offsetgroup": "survey (2017/2019)",
         "orientation": "v",
         "showlegend": true,
         "textposition": "auto",
         "type": "bar",
         "x": [
          0,
          1,
          2,
          3,
          4,
          5,
          6,
          7,
          8,
          9,
          10,
          11,
          12,
          13,
          14,
          15,
          16,
          17,
          18,
          19,
          20,
          21,
          22,
          23
         ],
         "xaxis": "x6",
         "y": [
          0.0004302915796951129,
          0.00029266780163877027,
          0.0,
          0.005711772998563511,
          0.032503113644120916,
          0.048022705485343806,
          0.11110800430786798,
          0.16724895881713986,
          0.1312894464349119,
          0.08384839113001558,
          0.061542164238676554,
          0.04244935839625354,
          0.05936397744453708,
          0.054080145835176854,
          0.05162314723152204,
          0.04625671734549872,
          0.027836771445632513,
          0.019945401473842533,
          0.012473206212038084,
          0.01700805223186603,
          0.01049977676543099,
          0.004629165448785182,
          0.009436141173998238,
          0.0024006225574442906
         ],
         "yaxis": "y6"
        },
        {
         "alignmentgroup": "True",
         "customdata": [
          [
           0.0,
           0.0
          ],
          [
           0.0,
           0.0
          ],
          [
           0.0,
           0.0
          ],
          [
           0.0,
           0.0
          ],
          [
           75.6029420675361,
           1.0
          ],
          [
           944.6388505184881,
           3.0
          ],
          [
           20217.931620365427,
           26.0
          ],
          [
           190219.19108530923,
           229.0
          ],
          [
           219886.15335901993,
           260.0
          ],
          [
           59190.70754528113,
           63.0
          ],
          [
           17733.54553657545,
           19.0
          ],
          [
           6115.9062908794995,
           13.0
          ],
          [
           6219.259173600052,
           13.0
          ],
          [
           23368.641487335408,
           16.0
          ],
          [
           4985.581534453788,
           18.0
          ],
          [
           14562.920624023891,
           16.0
          ],
          [
           11931.184860898193,
           10.0
          ],
          [
           3824.381295473854,
           21.0
          ],
          [
           5734.429891505202,
           4.0
          ],
          [
           826.970102120082,
           3.0
          ],
          [
           0.0,
           0.0
          ],
          [
           0.0,
           0.0
          ],
          [
           365.922772130815,
           1.0
          ],
          [
           0.0,
           0.0
          ]
         ],
         "hovertemplate": "source=survey (2017/2019)<br>dpurp_label=School<br>dept_hr=%{x}<br>percentage=%{y}<br>trexpfac=%{customdata[0]}<br>sample_count=%{customdata[1]}<extra></extra>",
         "legendgroup": "survey (2017/2019)",
         "marker": {
          "color": "#00A7A0",
          "pattern": {
           "shape": ""
          }
         },
         "name": "survey (2017/2019)",
         "offsetgroup": "survey (2017/2019)",
         "orientation": "v",
         "showlegend": false,
         "textposition": "auto",
         "type": "bar",
         "x": [
          0,
          1,
          2,
          3,
          4,
          5,
          6,
          7,
          8,
          9,
          10,
          11,
          12,
          13,
          14,
          15,
          16,
          17,
          18,
          19,
          20,
          21,
          22,
          23
         ],
         "xaxis": "x5",
         "y": [
          0.0,
          0.0,
          0.0,
          0.0,
          0.00012897058880505995,
          0.0016114535417242508,
          0.03448964384441114,
          0.32449373536785775,
          0.3751024218536304,
          0.10097305997805858,
          0.03025154507096307,
          0.010433086515425408,
          0.010609395555452749,
          0.03986442021665918,
          0.008504872541332496,
          0.024842795746280965,
          0.020353334071013692,
          0.0065239882735213675,
          0.0097823282975959,
          0.0014107231554472148,
          0.0,
          0.0,
          0.0006242253818208984,
          0.0
         ],
         "yaxis": "y5"
        },
        {
         "alignmentgroup": "True",
         "customdata": [
          [
           1043.5875068631988,
           3.0
          ],
          [
           484.372679805163,
           1.0
          ],
          [
           306.34798152004703,
           1.0
          ],
          [
           0.0,
           0.0
          ],
          [
           2450.77235887258,
           2.0
          ],
          [
           822.0588324063526,
           8.0
          ],
          [
           3093.0872852287266,
           8.0
          ],
          [
           31348.818601798346,
           49.0
          ],
          [
           47029.94572929551,
           83.0
          ],
          [
           67349.16890488588,
           177.0
          ],
          [
           123957.93980756427,
           266.0
          ],
          [
           183166.24619836523,
           305.0
          ],
          [
           131061.46508166657,
           281.0
          ],
          [
           130195.96741348183,
           263.0
          ],
          [
           211258.51400685747,
           315.0
          ],
          [
           130113.75447500877,
           258.0
          ],
          [
           158026.45305806032,
           299.0
          ],
          [
           120961.5917953065,
           265.0
          ],
          [
           118615.272038351,
           214.0
          ],
          [
           77174.95771085698,
           189.0
          ],
          [
           30796.943803743532,
           66.0
          ],
          [
           5372.311962232592,
           19.0
          ],
          [
           4191.009265770166,
           15.0
          ],
          [
           1005.4244650200757,
           4.0
          ]
         ],
         "hovertemplate": "source=survey (2017/2019)<br>dpurp_label=Shop<br>dept_hr=%{x}<br>percentage=%{y}<br>trexpfac=%{customdata[0]}<br>sample_count=%{customdata[1]}<extra></extra>",
         "legendgroup": "survey (2017/2019)",
         "marker": {
          "color": "#00A7A0",
          "pattern": {
           "shape": ""
          }
         },
         "name": "survey (2017/2019)",
         "offsetgroup": "survey (2017/2019)",
         "orientation": "v",
         "showlegend": false,
         "textposition": "auto",
         "type": "bar",
         "x": [
          0,
          1,
          2,
          3,
          4,
          5,
          6,
          7,
          8,
          9,
          10,
          11,
          12,
          13,
          14,
          15,
          16,
          17,
          18,
          19,
          20,
          21,
          22,
          23
         ],
         "xaxis": "x4",
         "y": [
          0.0006605711639265228,
          0.00030659874976353906,
          0.00019391248111766236,
          0.0,
          0.0015512925739073922,
          0.0005203477007605907,
          0.0019578657800066084,
          0.019843209558684318,
          0.0297690665952696,
          0.0426307507519984,
          0.0784630326044622,
          0.11594077127943905,
          0.08295942981833795,
          0.08241158615569488,
          0.13372264574760848,
          0.08235954691979007,
          0.1000277574628218,
          0.0765664009554926,
          0.07508122490403277,
          0.04885028932003471,
          0.01949388324412489,
          0.0034005719142185626,
          0.0026528296386357096,
          0.000636414679871762
         ],
         "yaxis": "y4"
        },
        {
         "alignmentgroup": "True",
         "customdata": [
          [
           0.0,
           0.0
          ],
          [
           0.0,
           0.0
          ],
          [
           0.0,
           0.0
          ],
          [
           0.0,
           0.0
          ],
          [
           10.6381727331061,
           1.0
          ],
          [
           1147.831085856249,
           6.0
          ],
          [
           14626.873553095289,
           29.0
          ],
          [
           17414.860510843453,
           47.0
          ],
          [
           59032.64490192203,
           72.0
          ],
          [
           36750.04231852758,
           88.0
          ],
          [
           15955.689864202985,
           83.0
          ],
          [
           98607.73367527753,
           193.0
          ],
          [
           127055.64466029961,
           236.0
          ],
          [
           84794.28310803465,
           146.0
          ],
          [
           67735.17373241174,
           112.0
          ],
          [
           32261.44116445362,
           109.0
          ],
          [
           44943.75446043937,
           158.0
          ],
          [
           102003.74447276245,
           192.0
          ],
          [
           65452.0382090979,
           185.0
          ],
          [
           51193.9845724077,
           111.0
          ],
          [
           50164.822780754264,
           78.0
          ],
          [
           15219.319627671688,
           24.0
          ],
          [
           1255.7041264046907,
           14.0
          ],
          [
           4820.569683374715,
           5.0
          ]
         ],
         "hovertemplate": "source=survey (2017/2019)<br>dpurp_label=Meal<br>dept_hr=%{x}<br>percentage=%{y}<br>trexpfac=%{customdata[0]}<br>sample_count=%{customdata[1]}<extra></extra>",
         "legendgroup": "survey (2017/2019)",
         "marker": {
          "color": "#00A7A0",
          "pattern": {
           "shape": ""
          }
         },
         "name": "survey (2017/2019)",
         "offsetgroup": "survey (2017/2019)",
         "orientation": "v",
         "showlegend": false,
         "textposition": "auto",
         "type": "bar",
         "x": [
          0,
          1,
          2,
          3,
          4,
          5,
          6,
          7,
          8,
          9,
          10,
          11,
          12,
          13,
          14,
          15,
          16,
          17,
          18,
          19,
          20,
          21,
          22,
          23
         ],
         "xaxis": "x3",
         "y": [
          0.0,
          0.0,
          0.0,
          0.0,
          1.1947005477090098e-05,
          0.0012890507245500386,
          0.016426443040139613,
          0.01955744084304405,
          0.06629553304540645,
          0.04127146342495499,
          0.017918745914433615,
          0.1107396132642052,
          0.14268751981512628,
          0.09522667004315832,
          0.0760687490112313,
          0.03623062192730644,
          0.050473262107212154,
          0.11455344112879218,
          0.07350471538569292,
          0.05749246881254986,
          0.05633668747019282,
          0.017091778777339868,
          0.0014101955713762195,
          0.005413652687810499
         ],
         "yaxis": "y3"
        },
        {
         "alignmentgroup": "True",
         "customdata": [
          [
           9.53758922636237,
           1.0
          ],
          [
           0.0,
           0.0
          ],
          [
           0.0,
           0.0
          ],
          [
           0.0,
           0.0
          ],
          [
           3756.89486105699,
           1.0
          ],
          [
           18161.175205143918,
           15.0
          ],
          [
           44362.01890662709,
           39.0
          ],
          [
           284562.35779404663,
           244.0
          ],
          [
           226109.40532154823,
           262.0
          ],
          [
           121828.70793020912,
           110.0
          ],
          [
           106265.74241342014,
           84.0
          ],
          [
           55260.374604351666,
           74.0
          ],
          [
           33568.989604439295,
           86.0
          ],
          [
           93937.94055531808,
           92.0
          ],
          [
           211545.50632815852,
           196.0
          ],
          [
           216064.17300579994,
           242.0
          ],
          [
           92780.56601212399,
           167.0
          ],
          [
           112819.98273444665,
           162.0
          ],
          [
           33009.04943786905,
           82.0
          ],
          [
           29286.28289693179,
           57.0
          ],
          [
           13649.511615784408,
           29.0
          ],
          [
           8470.163829684483,
           20.0
          ],
          [
           7940.52526841632,
           12.0
          ],
          [
           74.8421472528727,
           1.0
          ]
         ],
         "hovertemplate": "source=survey (2017/2019)<br>dpurp_label=Escort<br>dept_hr=%{x}<br>percentage=%{y}<br>trexpfac=%{customdata[0]}<br>sample_count=%{customdata[1]}<extra></extra>",
         "legendgroup": "survey (2017/2019)",
         "marker": {
          "color": "#00A7A0",
          "pattern": {
           "shape": ""
          }
         },
         "name": "survey (2017/2019)",
         "offsetgroup": "survey (2017/2019)",
         "orientation": "v",
         "showlegend": false,
         "textposition": "auto",
         "type": "bar",
         "x": [
          0,
          1,
          2,
          3,
          4,
          5,
          6,
          7,
          8,
          9,
          10,
          11,
          12,
          13,
          14,
          15,
          16,
          17,
          18,
          19,
          20,
          21,
          22,
          23
         ],
         "xaxis": "x2",
         "y": [
          5.566262628637805e-06,
          0.0,
          0.0,
          0.0,
          0.002192573297979904,
          0.010599100929731665,
          0.025890258230911598,
          0.16607433808618519,
          0.13196042552829412,
          0.07110083774343799,
          0.062018086191563813,
          0.0322506820858382,
          0.01959130424697346,
          0.05482341873971585,
          0.12346074235153401,
          0.126097895709901,
          0.054147959720227845,
          0.06584322712520783,
          0.019264515794516494,
          0.017091860233435507,
          0.007966034665877078,
          0.0049432991151784275,
          0.0046341950784766,
          4.367886238476224e-05
         ],
         "yaxis": "y2"
        },
        {
         "alignmentgroup": "True",
         "customdata": [
          [
           0.0,
           0.0
          ],
          [
           0.0,
           0.0
          ],
          [
           0.0,
           0.0
          ],
          [
           0.0,
           0.0
          ],
          [
           0.0,
           0.0
          ],
          [
           9297.557542987084,
           5.0
          ],
          [
           8901.958329173101,
           25.0
          ],
          [
           37212.77149656984,
           73.0
          ],
          [
           30372.879373188665,
           96.0
          ],
          [
           70279.21160930606,
           145.0
          ],
          [
           75836.11562483701,
           173.0
          ],
          [
           62784.2279384003,
           140.0
          ],
          [
           87099.31826782957,
           151.0
          ],
          [
           73942.42762992914,
           171.0
          ],
          [
           113061.26862008445,
           145.0
          ],
          [
           63163.19034429718,
           123.0
          ],
          [
           24966.613679897902,
           111.0
          ],
          [
           28974.36171898583,
           88.0
          ],
          [
           23910.72272894777,
           58.0
          ],
          [
           10748.937055733639,
           26.0
          ],
          [
           5646.842906127324,
           21.0
          ],
          [
           1894.4602115019472,
           7.0
          ],
          [
           140.9681993126719,
           2.0
          ],
          [
           218.151276463587,
           1.0
          ]
         ],
         "hovertemplate": "source=survey (2017/2019)<br>dpurp_label=Personal Business<br>dept_hr=%{x}<br>percentage=%{y}<br>trexpfac=%{customdata[0]}<br>sample_count=%{customdata[1]}<extra></extra>",
         "legendgroup": "survey (2017/2019)",
         "marker": {
          "color": "#00A7A0",
          "pattern": {
           "shape": ""
          }
         },
         "name": "survey (2017/2019)",
         "offsetgroup": "survey (2017/2019)",
         "orientation": "v",
         "showlegend": false,
         "textposition": "auto",
         "type": "bar",
         "x": [
          0,
          1,
          2,
          3,
          4,
          5,
          6,
          7,
          8,
          9,
          10,
          11,
          12,
          13,
          14,
          15,
          16,
          17,
          18,
          19,
          20,
          21,
          22,
          23
         ],
         "xaxis": "x",
         "y": [
          0.0,
          0.0,
          0.0,
          0.0,
          0.0,
          0.012763445965055652,
          0.012220377619849038,
          0.051084728006301525,
          0.04169510141674263,
          0.09647747977840462,
          0.10410585355370082,
          0.08618856049500255,
          0.1195676861546445,
          0.1015062477662742,
          0.15520757856040887,
          0.08670879026159331,
          0.03427352002506867,
          0.03977525263623597,
          0.032824020300529895,
          0.014755862134579883,
          0.0077518395527303744,
          0.0026006658663480127,
          0.00019351748955569574,
          0.00029947241697375507
         ],
         "yaxis": "y"
        },
        {
         "alignmentgroup": "True",
         "customdata": [
          [
           1157.7089014365695,
           2.0
          ],
          [
           0.0,
           0.0
          ],
          [
           66.0672268552095,
           1.0
          ],
          [
           10508.932231210778,
           34.0
          ],
          [
           42855.42507830016,
           134.0
          ],
          [
           154617.967129585,
           446.0
          ],
          [
           310857.7151247599,
           1322.0
          ],
          [
           383371.8587197152,
           2371.0
          ],
          [
           314649.8031415182,
           2127.0
          ],
          [
           249412.15683964413,
           1327.0
          ],
          [
           167477.85431534835,
           740.0
          ],
          [
           113673.71249841417,
           590.0
          ],
          [
           198346.27570010128,
           934.0
          ],
          [
           155398.9968497258,
           841.0
          ],
          [
           98432.43833252414,
           500.0
          ],
          [
           54043.691655597715,
           342.0
          ],
          [
           53533.23811600846,
           283.0
          ],
          [
           57189.754237463145,
           206.0
          ],
          [
           19353.04596158001,
           116.0
          ],
          [
           18660.712974326594,
           56.0
          ],
          [
           6227.628956539731,
           34.0
          ],
          [
           2096.1982044600077,
           11.0
          ],
          [
           3409.689338539313,
           8.0
          ],
          [
           2471.7153776065225,
           5.0
          ]
         ],
         "hovertemplate": "source=survey (old weights)<br>dpurp_label=Work<br>dept_hr=%{x}<br>percentage=%{y}<br>trexpfac=%{customdata[0]}<br>sample_count=%{customdata[1]}<extra></extra>",
         "legendgroup": "survey (old weights)",
         "marker": {
          "color": "#F05A28",
          "pattern": {
           "shape": ""
          }
         },
         "name": "survey (old weights)",
         "offsetgroup": "survey (old weights)",
         "orientation": "v",
         "showlegend": true,
         "textposition": "auto",
         "type": "bar",
         "x": [
          0,
          1,
          2,
          3,
          4,
          5,
          6,
          7,
          8,
          9,
          10,
          11,
          12,
          13,
          14,
          15,
          16,
          17,
          18,
          19,
          20,
          21,
          22,
          23
         ],
         "xaxis": "x6",
         "y": [
          0.0004788249129414679,
          0.0,
          2.7325205937326162e-05,
          0.004346462702734074,
          0.01772487466989643,
          0.06394952527197671,
          0.1285698142228131,
          0.1585614454962658,
          0.1301382103992937,
          0.10315611647893129,
          0.06926833585943905,
          0.04701510493980495,
          0.08203542192386688,
          0.06427255681063643,
          0.040711359873542116,
          0.02235230801103496,
          0.022141185965284773,
          0.023653510014406322,
          0.00800436149035993,
          0.007718014653139652,
          0.0025757285698042817,
          0.0008669812605855805,
          0.0014102372355068137,
          0.0010222940317984376
         ],
         "yaxis": "y6"
        },
        {
         "alignmentgroup": "True",
         "customdata": [
          [
           0.0,
           0.0
          ],
          [
           0.0,
           0.0
          ],
          [
           0.0,
           0.0
          ],
          [
           0.0,
           0.0
          ],
          [
           0.0,
           0.0
          ],
          [
           10000.491126518085,
           13.0
          ],
          [
           57849.45797028801,
           105.0
          ],
          [
           189331.28199660193,
           515.0
          ],
          [
           183672.6626829494,
           619.0
          ],
          [
           37344.49808280265,
           163.0
          ],
          [
           11952.119643414007,
           75.0
          ],
          [
           16749.29791643655,
           58.0
          ],
          [
           20548.81031449402,
           109.0
          ],
          [
           7863.504225313564,
           76.0
          ],
          [
           15767.64621464485,
           82.0
          ],
          [
           22347.41025179439,
           67.0
          ],
          [
           14851.787717522677,
           61.0
          ],
          [
           9460.656281219735,
           59.0
          ],
          [
           846.6255037070423,
           16.0
          ],
          [
           1322.8739986711764,
           8.0
          ],
          [
           312.3021497864155,
           1.0
          ],
          [
           89.61400609072103,
           3.0
          ],
          [
           0.0,
           0.0
          ],
          [
           0.0,
           0.0
          ]
         ],
         "hovertemplate": "source=survey (old weights)<br>dpurp_label=School<br>dept_hr=%{x}<br>percentage=%{y}<br>trexpfac=%{customdata[0]}<br>sample_count=%{customdata[1]}<extra></extra>",
         "legendgroup": "survey (old weights)",
         "marker": {
          "color": "#F05A28",
          "pattern": {
           "shape": ""
          }
         },
         "name": "survey (old weights)",
         "offsetgroup": "survey (old weights)",
         "orientation": "v",
         "showlegend": false,
         "textposition": "auto",
         "type": "bar",
         "x": [
          0,
          1,
          2,
          3,
          4,
          5,
          6,
          7,
          8,
          9,
          10,
          11,
          12,
          13,
          14,
          15,
          16,
          17,
          18,
          19,
          20,
          21,
          22,
          23
         ],
         "xaxis": "x5",
         "y": [
          0.0,
          0.0,
          0.0,
          0.0,
          0.0,
          0.016658849261122717,
          0.09636580723613117,
          0.3153886391472321,
          0.3059624934730209,
          0.062208581200981536,
          0.01990987812214201,
          0.027901032628254756,
          0.03423027221301545,
          0.013099049826296881,
          0.026265794166444704,
          0.037226385589597566,
          0.024740154229860027,
          0.0157595906947229,
          0.0014103114005550139,
          0.0022036476265535863,
          0.0005202338936555682,
          0.00014927929041325317,
          0.0,
          0.0
         ],
         "yaxis": "y5"
        },
        {
         "alignmentgroup": "True",
         "customdata": [
          [
           88.00102612483639,
           3.0
          ],
          [
           0.0,
           0.0
          ],
          [
           0.54525469613021,
           1.0
          ],
          [
           23.5581858798963,
           2.0
          ],
          [
           2802.6843880997167,
           5.0
          ],
          [
           1121.6653775904763,
           8.0
          ],
          [
           7809.612816362787,
           29.0
          ],
          [
           33966.92660566138,
           82.0
          ],
          [
           59284.611511248746,
           149.0
          ],
          [
           161859.65014367257,
           311.0
          ],
          [
           246968.17909785142,
           468.0
          ],
          [
           227991.4685251565,
           563.0
          ],
          [
           246963.90317585086,
           548.0
          ],
          [
           159734.69603642396,
           506.0
          ],
          [
           232366.1604966313,
           572.0
          ],
          [
           166747.11769128861,
           560.0
          ],
          [
           158925.46239316338,
           651.0
          ],
          [
           107544.54743676432,
           679.0
          ],
          [
           81224.20610343866,
           538.0
          ],
          [
           103668.04157456594,
           429.0
          ],
          [
           64391.27309270366,
           252.0
          ],
          [
           50067.3621480706,
           125.0
          ],
          [
           1685.2232189452338,
           35.0
          ],
          [
           2124.5189612179906,
           8.0
          ]
         ],
         "hovertemplate": "source=survey (old weights)<br>dpurp_label=Shop<br>dept_hr=%{x}<br>percentage=%{y}<br>trexpfac=%{customdata[0]}<br>sample_count=%{customdata[1]}<extra></extra>",
         "legendgroup": "survey (old weights)",
         "marker": {
          "color": "#F05A28",
          "pattern": {
           "shape": ""
          }
         },
         "name": "survey (old weights)",
         "offsetgroup": "survey (old weights)",
         "orientation": "v",
         "showlegend": false,
         "textposition": "auto",
         "type": "bar",
         "x": [
          0,
          1,
          2,
          3,
          4,
          5,
          6,
          7,
          8,
          9,
          10,
          11,
          12,
          13,
          14,
          15,
          16,
          17,
          18,
          19,
          20,
          21,
          22,
          23
         ],
         "xaxis": "x4",
         "y": [
          4.1561685508160074e-05,
          0.0,
          2.5751636316449044e-07,
          1.1126210179573037e-05,
          0.0013236696462105833,
          0.0005297472736587783,
          0.0036883737168442016,
          0.016042116591465802,
          0.027999314185366813,
          0.0764441072106265,
          0.11663970571919212,
          0.10767726389853785,
          0.11663768625949636,
          0.0754405203410887,
          0.10974337130568992,
          0.07875239153514334,
          0.07505833031825751,
          0.050791824317406635,
          0.03836108575520738,
          0.048961003421219874,
          0.03041112086525656,
          0.023646132908375073,
          0.0007959079629082134,
          0.001003381355996992
         ],
         "yaxis": "y4"
        },
        {
         "alignmentgroup": "True",
         "customdata": [
          [
           0.0,
           0.0
          ],
          [
           0.0,
           0.0
          ],
          [
           0.0,
           0.0
          ],
          [
           42.29917858051295,
           1.0
          ],
          [
           218.51478703463414,
           7.0
          ],
          [
           14040.540516193796,
           19.0
          ],
          [
           17302.365160053367,
           71.0
          ],
          [
           32912.26594329437,
           113.0
          ],
          [
           32337.516123921025,
           148.0
          ],
          [
           21924.677972796257,
           132.0
          ],
          [
           30918.81011936177,
           176.0
          ],
          [
           107399.40268627691,
           532.0
          ],
          [
           170963.485853993,
           671.0
          ],
          [
           49218.65037364088,
           301.0
          ],
          [
           30461.521408202083,
           208.0
          ],
          [
           32694.502305321854,
           206.0
          ],
          [
           51866.72388408027,
           303.0
          ],
          [
           77108.99883669768,
           502.0
          ],
          [
           105260.90749325918,
           528.0
          ],
          [
           60055.67261256104,
           335.0
          ],
          [
           41083.36947794194,
           178.0
          ],
          [
           8666.039098896179,
           63.0
          ],
          [
           5858.891906161041,
           26.0
          ],
          [
           5.963816542174035,
           2.0
          ]
         ],
         "hovertemplate": "source=survey (old weights)<br>dpurp_label=Meal<br>dept_hr=%{x}<br>percentage=%{y}<br>trexpfac=%{customdata[0]}<br>sample_count=%{customdata[1]}<extra></extra>",
         "legendgroup": "survey (old weights)",
         "marker": {
          "color": "#F05A28",
          "pattern": {
           "shape": ""
          }
         },
         "name": "survey (old weights)",
         "offsetgroup": "survey (old weights)",
         "orientation": "v",
         "showlegend": false,
         "textposition": "auto",
         "type": "bar",
         "x": [
          0,
          1,
          2,
          3,
          4,
          5,
          6,
          7,
          8,
          9,
          10,
          11,
          12,
          13,
          14,
          15,
          16,
          17,
          18,
          19,
          20,
          21,
          22,
          23
         ],
         "xaxis": "x3",
         "y": [
          0.0,
          0.0,
          0.0,
          4.7508957692152266e-05,
          0.00024542816481832973,
          0.015769843948367085,
          0.019433411284772432,
          0.0369659057864824,
          0.036320366894983455,
          0.02462503134052606,
          0.034726925939152234,
          0.1206272521030804,
          0.19202020674893516,
          0.055280666356565984,
          0.03421331525543098,
          0.03672132128601431,
          0.05825488988986015,
          0.08660613010354262,
          0.11822536911009111,
          0.06745243063983182,
          0.0461434034389926,
          0.009733391964676852,
          0.0065805024360669935,
          6.698350116813737e-06
         ],
         "yaxis": "y3"
        },
        {
         "alignmentgroup": "True",
         "customdata": [
          [
           0.0,
           0.0
          ],
          [
           0.0,
           0.0
          ],
          [
           0.0,
           0.0
          ],
          [
           43.386560706051,
           1.0
          ],
          [
           1790.848267443167,
           12.0
          ],
          [
           18465.3446532733,
           31.0
          ],
          [
           57549.3428295186,
           132.0
          ],
          [
           126646.14531971225,
           480.0
          ],
          [
           172943.20962340268,
           535.0
          ],
          [
           36944.90811363064,
           172.0
          ],
          [
           20658.185061762004,
           83.0
          ],
          [
           49370.51581484816,
           137.0
          ],
          [
           35656.39697159831,
           134.0
          ],
          [
           38424.3553957142,
           151.0
          ],
          [
           111565.45609818315,
           247.0
          ],
          [
           122817.5944122123,
           398.0
          ],
          [
           93252.53032125118,
           447.0
          ],
          [
           102649.93969422167,
           351.0
          ],
          [
           59265.66469635055,
           192.0
          ],
          [
           39265.309592495694,
           126.0
          ],
          [
           28526.143523589562,
           106.0
          ],
          [
           9561.367183984781,
           53.0
          ],
          [
           969.0806851933426,
           33.0
          ],
          [
           843.0741387058619,
           13.0
          ]
         ],
         "hovertemplate": "source=survey (old weights)<br>dpurp_label=Escort<br>dept_hr=%{x}<br>percentage=%{y}<br>trexpfac=%{customdata[0]}<br>sample_count=%{customdata[1]}<extra></extra>",
         "legendgroup": "survey (old weights)",
         "marker": {
          "color": "#F05A28",
          "pattern": {
           "shape": ""
          }
         },
         "name": "survey (old weights)",
         "offsetgroup": "survey (old weights)",
         "orientation": "v",
         "showlegend": false,
         "textposition": "auto",
         "type": "bar",
         "x": [
          0,
          1,
          2,
          3,
          4,
          5,
          6,
          7,
          8,
          9,
          10,
          11,
          12,
          13,
          14,
          15,
          16,
          17,
          18,
          19,
          20,
          21,
          22,
          23
         ],
         "xaxis": "x2",
         "y": [
          0.0,
          0.0,
          0.0,
          3.8490260851552665e-05,
          0.0015887458198507343,
          0.016381476679694234,
          0.05105473172559333,
          0.1123537586264476,
          0.15342606426005878,
          0.032775567532642956,
          0.018326848655601604,
          0.04379890918212802,
          0.031632468629206725,
          0.034088054876116,
          0.09897496914620887,
          0.10895727084970226,
          0.08272871042833525,
          0.09106559475860239,
          0.052577361666398294,
          0.034834104940273614,
          0.025306885068644307,
          0.008482339024345,
          0.0008597171048428137,
          0.0007479307644558464
         ],
         "yaxis": "y2"
        },
        {
         "alignmentgroup": "True",
         "customdata": [
          [
           0.0,
           0.0
          ],
          [
           0.0,
           0.0
          ],
          [
           0.0,
           0.0
          ],
          [
           1137.7956546825676,
           7.0
          ],
          [
           813.0149796079876,
           9.0
          ],
          [
           8938.937590118545,
           30.0
          ],
          [
           27863.712614929653,
           114.0
          ],
          [
           61741.21779422683,
           258.0
          ],
          [
           93492.30428550647,
           413.0
          ],
          [
           150539.36337666478,
           496.0
          ],
          [
           166693.8426317474,
           518.0
          ],
          [
           143346.31332363564,
           468.0
          ],
          [
           137807.84510325742,
           530.0
          ],
          [
           96333.08016947884,
           503.0
          ],
          [
           155935.49907970516,
           515.0
          ],
          [
           130304.93264870063,
           511.0
          ],
          [
           142836.5697514224,
           588.0
          ],
          [
           137308.1323715273,
           492.0
          ],
          [
           87073.08351106464,
           381.0
          ],
          [
           52328.51462292796,
           225.0
          ],
          [
           29190.425788894154,
           119.0
          ],
          [
           8119.004695210372,
           46.0
          ],
          [
           3490.5738408943475,
           23.0
          ],
          [
           113.92038390728736,
           5.0
          ]
         ],
         "hovertemplate": "source=survey (old weights)<br>dpurp_label=Personal Business<br>dept_hr=%{x}<br>percentage=%{y}<br>trexpfac=%{customdata[0]}<br>sample_count=%{customdata[1]}<extra></extra>",
         "legendgroup": "survey (old weights)",
         "marker": {
          "color": "#F05A28",
          "pattern": {
           "shape": ""
          }
         },
         "name": "survey (old weights)",
         "offsetgroup": "survey (old weights)",
         "orientation": "v",
         "showlegend": false,
         "textposition": "auto",
         "type": "bar",
         "x": [
          0,
          1,
          2,
          3,
          4,
          5,
          6,
          7,
          8,
          9,
          10,
          11,
          12,
          13,
          14,
          15,
          16,
          17,
          18,
          19,
          20,
          21,
          22,
          23
         ],
         "xaxis": "x",
         "y": [
          0.0,
          0.0,
          0.0,
          0.0006957258348313402,
          0.0004971327875003691,
          0.0054658758730499095,
          0.017037773558671938,
          0.03775278989387248,
          0.05716756887025246,
          0.09205003009914663,
          0.10192798008054596,
          0.0876517088957461,
          0.08426511182934714,
          0.05890461292145058,
          0.09534959536063319,
          0.07967731962814621,
          0.0873400169228787,
          0.08395955339622428,
          0.053242419645182525,
          0.03199722144454621,
          0.017849016444632604,
          0.004964513000491906,
          0.0021343748233721084,
          6.965868947734398e-05
         ],
         "yaxis": "y"
        }
       ],
       "layout": {
        "annotations": [
         {
          "font": {},
          "showarrow": false,
          "text": "Personal Business",
          "textangle": 90,
          "x": 0.98,
          "xanchor": "left",
          "xref": "paper",
          "y": 0.07083333333333333,
          "yanchor": "middle",
          "yref": "paper"
         },
         {
          "font": {},
          "showarrow": false,
          "text": "Escort",
          "textangle": 90,
          "x": 0.98,
          "xanchor": "left",
          "xref": "paper",
          "y": 0.2425,
          "yanchor": "middle",
          "yref": "paper"
         },
         {
          "font": {},
          "showarrow": false,
          "text": "Meal",
          "textangle": 90,
          "x": 0.98,
          "xanchor": "left",
          "xref": "paper",
          "y": 0.4141666666666667,
          "yanchor": "middle",
          "yref": "paper"
         },
         {
          "font": {},
          "showarrow": false,
          "text": "Shop",
          "textangle": 90,
          "x": 0.98,
          "xanchor": "left",
          "xref": "paper",
          "y": 0.5858333333333334,
          "yanchor": "middle",
          "yref": "paper"
         },
         {
          "font": {},
          "showarrow": false,
          "text": "School",
          "textangle": 90,
          "x": 0.98,
          "xanchor": "left",
          "xref": "paper",
          "y": 0.7575000000000001,
          "yanchor": "middle",
          "yref": "paper"
         },
         {
          "font": {},
          "showarrow": false,
          "text": "Work",
          "textangle": 90,
          "x": 0.98,
          "xanchor": "left",
          "xref": "paper",
          "y": 0.9291666666666667,
          "yanchor": "middle",
          "yref": "paper"
         }
        ],
        "barmode": "group",
        "height": 1500,
        "legend": {
         "title": {
          "text": "source"
         },
         "tracegroupgap": 0
        },
        "template": {
         "data": {
          "bar": [
           {
            "error_x": {
             "color": "rgb(36,36,36)"
            },
            "error_y": {
             "color": "rgb(36,36,36)"
            },
            "marker": {
             "line": {
              "color": "white",
              "width": 0.5
             },
             "pattern": {
              "fillmode": "overlay",
              "size": 10,
              "solidity": 0.2
             }
            },
            "type": "bar"
           }
          ],
          "barpolar": [
           {
            "marker": {
             "line": {
              "color": "white",
              "width": 0.5
             },
             "pattern": {
              "fillmode": "overlay",
              "size": 10,
              "solidity": 0.2
             }
            },
            "type": "barpolar"
           }
          ],
          "carpet": [
           {
            "aaxis": {
             "endlinecolor": "rgb(36,36,36)",
             "gridcolor": "white",
             "linecolor": "white",
             "minorgridcolor": "white",
             "startlinecolor": "rgb(36,36,36)"
            },
            "baxis": {
             "endlinecolor": "rgb(36,36,36)",
             "gridcolor": "white",
             "linecolor": "white",
             "minorgridcolor": "white",
             "startlinecolor": "rgb(36,36,36)"
            },
            "type": "carpet"
           }
          ],
          "choropleth": [
           {
            "colorbar": {
             "outlinewidth": 1,
             "tickcolor": "rgb(36,36,36)",
             "ticks": "outside"
            },
            "type": "choropleth"
           }
          ],
          "contour": [
           {
            "colorbar": {
             "outlinewidth": 1,
             "tickcolor": "rgb(36,36,36)",
             "ticks": "outside"
            },
            "colorscale": [
             [
              0.0,
              "#440154"
             ],
             [
              0.1111111111111111,
              "#482878"
             ],
             [
              0.2222222222222222,
              "#3e4989"
             ],
             [
              0.3333333333333333,
              "#31688e"
             ],
             [
              0.4444444444444444,
              "#26828e"
             ],
             [
              0.5555555555555556,
              "#1f9e89"
             ],
             [
              0.6666666666666666,
              "#35b779"
             ],
             [
              0.7777777777777778,
              "#6ece58"
             ],
             [
              0.8888888888888888,
              "#b5de2b"
             ],
             [
              1.0,
              "#fde725"
             ]
            ],
            "type": "contour"
           }
          ],
          "contourcarpet": [
           {
            "colorbar": {
             "outlinewidth": 1,
             "tickcolor": "rgb(36,36,36)",
             "ticks": "outside"
            },
            "type": "contourcarpet"
           }
          ],
          "heatmap": [
           {
            "colorbar": {
             "outlinewidth": 1,
             "tickcolor": "rgb(36,36,36)",
             "ticks": "outside"
            },
            "colorscale": [
             [
              0.0,
              "#440154"
             ],
             [
              0.1111111111111111,
              "#482878"
             ],
             [
              0.2222222222222222,
              "#3e4989"
             ],
             [
              0.3333333333333333,
              "#31688e"
             ],
             [
              0.4444444444444444,
              "#26828e"
             ],
             [
              0.5555555555555556,
              "#1f9e89"
             ],
             [
              0.6666666666666666,
              "#35b779"
             ],
             [
              0.7777777777777778,
              "#6ece58"
             ],
             [
              0.8888888888888888,
              "#b5de2b"
             ],
             [
              1.0,
              "#fde725"
             ]
            ],
            "type": "heatmap"
           }
          ],
          "heatmapgl": [
           {
            "colorbar": {
             "outlinewidth": 1,
             "tickcolor": "rgb(36,36,36)",
             "ticks": "outside"
            },
            "colorscale": [
             [
              0.0,
              "#440154"
             ],
             [
              0.1111111111111111,
              "#482878"
             ],
             [
              0.2222222222222222,
              "#3e4989"
             ],
             [
              0.3333333333333333,
              "#31688e"
             ],
             [
              0.4444444444444444,
              "#26828e"
             ],
             [
              0.5555555555555556,
              "#1f9e89"
             ],
             [
              0.6666666666666666,
              "#35b779"
             ],
             [
              0.7777777777777778,
              "#6ece58"
             ],
             [
              0.8888888888888888,
              "#b5de2b"
             ],
             [
              1.0,
              "#fde725"
             ]
            ],
            "type": "heatmapgl"
           }
          ],
          "histogram": [
           {
            "marker": {
             "line": {
              "color": "white",
              "width": 0.6
             }
            },
            "type": "histogram"
           }
          ],
          "histogram2d": [
           {
            "colorbar": {
             "outlinewidth": 1,
             "tickcolor": "rgb(36,36,36)",
             "ticks": "outside"
            },
            "colorscale": [
             [
              0.0,
              "#440154"
             ],
             [
              0.1111111111111111,
              "#482878"
             ],
             [
              0.2222222222222222,
              "#3e4989"
             ],
             [
              0.3333333333333333,
              "#31688e"
             ],
             [
              0.4444444444444444,
              "#26828e"
             ],
             [
              0.5555555555555556,
              "#1f9e89"
             ],
             [
              0.6666666666666666,
              "#35b779"
             ],
             [
              0.7777777777777778,
              "#6ece58"
             ],
             [
              0.8888888888888888,
              "#b5de2b"
             ],
             [
              1.0,
              "#fde725"
             ]
            ],
            "type": "histogram2d"
           }
          ],
          "histogram2dcontour": [
           {
            "colorbar": {
             "outlinewidth": 1,
             "tickcolor": "rgb(36,36,36)",
             "ticks": "outside"
            },
            "colorscale": [
             [
              0.0,
              "#440154"
             ],
             [
              0.1111111111111111,
              "#482878"
             ],
             [
              0.2222222222222222,
              "#3e4989"
             ],
             [
              0.3333333333333333,
              "#31688e"
             ],
             [
              0.4444444444444444,
              "#26828e"
             ],
             [
              0.5555555555555556,
              "#1f9e89"
             ],
             [
              0.6666666666666666,
              "#35b779"
             ],
             [
              0.7777777777777778,
              "#6ece58"
             ],
             [
              0.8888888888888888,
              "#b5de2b"
             ],
             [
              1.0,
              "#fde725"
             ]
            ],
            "type": "histogram2dcontour"
           }
          ],
          "mesh3d": [
           {
            "colorbar": {
             "outlinewidth": 1,
             "tickcolor": "rgb(36,36,36)",
             "ticks": "outside"
            },
            "type": "mesh3d"
           }
          ],
          "parcoords": [
           {
            "line": {
             "colorbar": {
              "outlinewidth": 1,
              "tickcolor": "rgb(36,36,36)",
              "ticks": "outside"
             }
            },
            "type": "parcoords"
           }
          ],
          "pie": [
           {
            "automargin": true,
            "type": "pie"
           }
          ],
          "scatter": [
           {
            "fillpattern": {
             "fillmode": "overlay",
             "size": 10,
             "solidity": 0.2
            },
            "type": "scatter"
           }
          ],
          "scatter3d": [
           {
            "line": {
             "colorbar": {
              "outlinewidth": 1,
              "tickcolor": "rgb(36,36,36)",
              "ticks": "outside"
             }
            },
            "marker": {
             "colorbar": {
              "outlinewidth": 1,
              "tickcolor": "rgb(36,36,36)",
              "ticks": "outside"
             }
            },
            "type": "scatter3d"
           }
          ],
          "scattercarpet": [
           {
            "marker": {
             "colorbar": {
              "outlinewidth": 1,
              "tickcolor": "rgb(36,36,36)",
              "ticks": "outside"
             }
            },
            "type": "scattercarpet"
           }
          ],
          "scattergeo": [
           {
            "marker": {
             "colorbar": {
              "outlinewidth": 1,
              "tickcolor": "rgb(36,36,36)",
              "ticks": "outside"
             }
            },
            "type": "scattergeo"
           }
          ],
          "scattergl": [
           {
            "marker": {
             "colorbar": {
              "outlinewidth": 1,
              "tickcolor": "rgb(36,36,36)",
              "ticks": "outside"
             }
            },
            "type": "scattergl"
           }
          ],
          "scattermapbox": [
           {
            "marker": {
             "colorbar": {
              "outlinewidth": 1,
              "tickcolor": "rgb(36,36,36)",
              "ticks": "outside"
             }
            },
            "type": "scattermapbox"
           }
          ],
          "scatterpolar": [
           {
            "marker": {
             "colorbar": {
              "outlinewidth": 1,
              "tickcolor": "rgb(36,36,36)",
              "ticks": "outside"
             }
            },
            "type": "scatterpolar"
           }
          ],
          "scatterpolargl": [
           {
            "marker": {
             "colorbar": {
              "outlinewidth": 1,
              "tickcolor": "rgb(36,36,36)",
              "ticks": "outside"
             }
            },
            "type": "scatterpolargl"
           }
          ],
          "scatterternary": [
           {
            "marker": {
             "colorbar": {
              "outlinewidth": 1,
              "tickcolor": "rgb(36,36,36)",
              "ticks": "outside"
             }
            },
            "type": "scatterternary"
           }
          ],
          "surface": [
           {
            "colorbar": {
             "outlinewidth": 1,
             "tickcolor": "rgb(36,36,36)",
             "ticks": "outside"
            },
            "colorscale": [
             [
              0.0,
              "#440154"
             ],
             [
              0.1111111111111111,
              "#482878"
             ],
             [
              0.2222222222222222,
              "#3e4989"
             ],
             [
              0.3333333333333333,
              "#31688e"
             ],
             [
              0.4444444444444444,
              "#26828e"
             ],
             [
              0.5555555555555556,
              "#1f9e89"
             ],
             [
              0.6666666666666666,
              "#35b779"
             ],
             [
              0.7777777777777778,
              "#6ece58"
             ],
             [
              0.8888888888888888,
              "#b5de2b"
             ],
             [
              1.0,
              "#fde725"
             ]
            ],
            "type": "surface"
           }
          ],
          "table": [
           {
            "cells": {
             "fill": {
              "color": "rgb(237,237,237)"
             },
             "line": {
              "color": "white"
             }
            },
            "header": {
             "fill": {
              "color": "rgb(217,217,217)"
             },
             "line": {
              "color": "white"
             }
            },
            "type": "table"
           }
          ]
         },
         "layout": {
          "annotationdefaults": {
           "arrowhead": 0,
           "arrowwidth": 1
          },
          "autotypenumbers": "strict",
          "coloraxis": {
           "colorbar": {
            "outlinewidth": 1,
            "tickcolor": "rgb(36,36,36)",
            "ticks": "outside"
           }
          },
          "colorscale": {
           "diverging": [
            [
             0.0,
             "rgb(103,0,31)"
            ],
            [
             0.1,
             "rgb(178,24,43)"
            ],
            [
             0.2,
             "rgb(214,96,77)"
            ],
            [
             0.3,
             "rgb(244,165,130)"
            ],
            [
             0.4,
             "rgb(253,219,199)"
            ],
            [
             0.5,
             "rgb(247,247,247)"
            ],
            [
             0.6,
             "rgb(209,229,240)"
            ],
            [
             0.7,
             "rgb(146,197,222)"
            ],
            [
             0.8,
             "rgb(67,147,195)"
            ],
            [
             0.9,
             "rgb(33,102,172)"
            ],
            [
             1.0,
             "rgb(5,48,97)"
            ]
           ],
           "sequential": [
            [
             0.0,
             "#440154"
            ],
            [
             0.1111111111111111,
             "#482878"
            ],
            [
             0.2222222222222222,
             "#3e4989"
            ],
            [
             0.3333333333333333,
             "#31688e"
            ],
            [
             0.4444444444444444,
             "#26828e"
            ],
            [
             0.5555555555555556,
             "#1f9e89"
            ],
            [
             0.6666666666666666,
             "#35b779"
            ],
            [
             0.7777777777777778,
             "#6ece58"
            ],
            [
             0.8888888888888888,
             "#b5de2b"
            ],
            [
             1.0,
             "#fde725"
            ]
           ],
           "sequentialminus": [
            [
             0.0,
             "#440154"
            ],
            [
             0.1111111111111111,
             "#482878"
            ],
            [
             0.2222222222222222,
             "#3e4989"
            ],
            [
             0.3333333333333333,
             "#31688e"
            ],
            [
             0.4444444444444444,
             "#26828e"
            ],
            [
             0.5555555555555556,
             "#1f9e89"
            ],
            [
             0.6666666666666666,
             "#35b779"
            ],
            [
             0.7777777777777778,
             "#6ece58"
            ],
            [
             0.8888888888888888,
             "#b5de2b"
            ],
            [
             1.0,
             "#fde725"
            ]
           ]
          },
          "colorway": [
           "#91268F",
           "#8CC63E",
           "#00A7A0",
           "#F05A28",
           "#4C4C4C",
           "#630460",
           "#9f3913",
           "#588527",
           "#00716c",
           "#3e4040"
          ],
          "font": {
           "color": "rgb(36,36,36)",
           "family": "Poppins",
           "size": 11
          },
          "geo": {
           "bgcolor": "white",
           "lakecolor": "white",
           "landcolor": "white",
           "showlakes": true,
           "showland": true,
           "subunitcolor": "white"
          },
          "hoverlabel": {
           "align": "left"
          },
          "hovermode": "closest",
          "mapbox": {
           "style": "light"
          },
          "paper_bgcolor": "white",
          "plot_bgcolor": "white",
          "polar": {
           "angularaxis": {
            "gridcolor": "rgb(232,232,232)",
            "linecolor": "rgb(36,36,36)",
            "showgrid": false,
            "showline": true,
            "ticks": "outside"
           },
           "bgcolor": "white",
           "radialaxis": {
            "gridcolor": "rgb(232,232,232)",
            "linecolor": "rgb(36,36,36)",
            "showgrid": false,
            "showline": true,
            "ticks": "outside"
           }
          },
          "scene": {
           "xaxis": {
            "backgroundcolor": "white",
            "gridcolor": "rgb(232,232,232)",
            "gridwidth": 2,
            "linecolor": "rgb(36,36,36)",
            "showbackground": true,
            "showgrid": false,
            "showline": true,
            "ticks": "outside",
            "zeroline": false,
            "zerolinecolor": "rgb(36,36,36)"
           },
           "yaxis": {
            "backgroundcolor": "white",
            "gridcolor": "rgb(232,232,232)",
            "gridwidth": 2,
            "linecolor": "rgb(36,36,36)",
            "showbackground": true,
            "showgrid": false,
            "showline": true,
            "ticks": "outside",
            "zeroline": false,
            "zerolinecolor": "rgb(36,36,36)"
           },
           "zaxis": {
            "backgroundcolor": "white",
            "gridcolor": "rgb(232,232,232)",
            "gridwidth": 2,
            "linecolor": "rgb(36,36,36)",
            "showbackground": true,
            "showgrid": false,
            "showline": true,
            "ticks": "outside",
            "zeroline": false,
            "zerolinecolor": "rgb(36,36,36)"
           }
          },
          "shapedefaults": {
           "fillcolor": "black",
           "line": {
            "width": 0
           },
           "opacity": 0.3
          },
          "ternary": {
           "aaxis": {
            "gridcolor": "rgb(232,232,232)",
            "linecolor": "rgb(36,36,36)",
            "showgrid": false,
            "showline": true,
            "ticks": "outside"
           },
           "baxis": {
            "gridcolor": "rgb(232,232,232)",
            "linecolor": "rgb(36,36,36)",
            "showgrid": false,
            "showline": true,
            "ticks": "outside"
           },
           "bgcolor": "white",
           "caxis": {
            "gridcolor": "rgb(232,232,232)",
            "linecolor": "rgb(36,36,36)",
            "showgrid": false,
            "showline": true,
            "ticks": "outside"
           }
          },
          "title": {
           "x": 0.05
          },
          "xaxis": {
           "automargin": true,
           "gridcolor": "rgb(232,232,232)",
           "linecolor": "rgb(36,36,36)",
           "showgrid": false,
           "showline": true,
           "ticks": "outside",
           "title": {
            "standoff": 15
           },
           "zeroline": false,
           "zerolinecolor": "rgb(36,36,36)"
          },
          "yaxis": {
           "automargin": true,
           "gridcolor": "rgb(232,232,232)",
           "linecolor": "rgb(36,36,36)",
           "showgrid": false,
           "showline": true,
           "ticks": "outside",
           "title": {
            "standoff": 15
           },
           "zeroline": false,
           "zerolinecolor": "rgb(36,36,36)"
          }
         }
        },
        "title": {
         "text": "trip origin departure hour by purpose"
        },
        "width": 850,
        "xaxis": {
         "anchor": "y",
         "categoryorder": "category ascending",
         "domain": [
          0.0,
          0.98
         ],
         "dtick": 1,
         "title": {
          "text": "dept_hr"
         }
        },
        "xaxis2": {
         "anchor": "y2",
         "categoryorder": "category ascending",
         "domain": [
          0.0,
          0.98
         ],
         "dtick": 1,
         "matches": "x",
         "showticklabels": false
        },
        "xaxis3": {
         "anchor": "y3",
         "categoryorder": "category ascending",
         "domain": [
          0.0,
          0.98
         ],
         "dtick": 1,
         "matches": "x",
         "showticklabels": false
        },
        "xaxis4": {
         "anchor": "y4",
         "categoryorder": "category ascending",
         "domain": [
          0.0,
          0.98
         ],
         "dtick": 1,
         "matches": "x",
         "showticklabels": false
        },
        "xaxis5": {
         "anchor": "y5",
         "categoryorder": "category ascending",
         "domain": [
          0.0,
          0.98
         ],
         "dtick": 1,
         "matches": "x",
         "showticklabels": false
        },
        "xaxis6": {
         "anchor": "y6",
         "categoryorder": "category ascending",
         "domain": [
          0.0,
          0.98
         ],
         "dtick": 1,
         "matches": "x",
         "showticklabels": false
        },
        "yaxis": {
         "anchor": "x",
         "domain": [
          0.0,
          0.14166666666666666
         ],
         "tickformat": ".0%",
         "title": {
          "text": "percentage"
         }
        },
        "yaxis2": {
         "anchor": "x2",
         "domain": [
          0.17166666666666666,
          0.31333333333333335
         ],
         "matches": "y",
         "tickformat": ".0%",
         "title": {
          "text": "percentage"
         }
        },
        "yaxis3": {
         "anchor": "x3",
         "domain": [
          0.3433333333333333,
          0.485
         ],
         "matches": "y",
         "tickformat": ".0%",
         "title": {
          "text": "percentage"
         }
        },
        "yaxis4": {
         "anchor": "x4",
         "domain": [
          0.515,
          0.6566666666666667
         ],
         "matches": "y",
         "tickformat": ".0%",
         "title": {
          "text": "percentage"
         }
        },
        "yaxis5": {
         "anchor": "x5",
         "domain": [
          0.6866666666666666,
          0.8283333333333334
         ],
         "matches": "y",
         "tickformat": ".0%",
         "title": {
          "text": "percentage"
         }
        },
        "yaxis6": {
         "anchor": "x6",
         "domain": [
          0.8583333333333333,
          1.0
         ],
         "matches": "y",
         "tickformat": ".0%",
         "title": {
          "text": "percentage"
         }
        }
       }
      },
      "text/html": [
       "<div>                            <div id=\"a7bf83bf-2cc5-45cc-aaba-464a487c0db4\" class=\"plotly-graph-div\" style=\"height:1500px; width:850px;\"></div>            <script type=\"text/javascript\">                require([\"plotly\"], function(Plotly) {                    window.PLOTLYENV=window.PLOTLYENV || {};                                    if (document.getElementById(\"a7bf83bf-2cc5-45cc-aaba-464a487c0db4\")) {                    Plotly.newPlot(                        \"a7bf83bf-2cc5-45cc-aaba-464a487c0db4\",                        [{\"alignmentgroup\":\"True\",\"customdata\":[[1904.0,1904.0],[1419.0,1419.0],[493.0,493.0],[12560.0,12560.0],[16839.0,16839.0],[46667.0,46667.0],[129400.0,129400.0],[188607.0,188607.0],[174824.0,174824.0],[104091.0,104091.0],[85804.0,85804.0],[92408.0,92408.0],[97260.0,97260.0],[79118.0,79118.0],[70635.0,70635.0],[56328.0,56328.0],[56053.0,56053.0],[46610.0,46610.0],[36872.0,36872.0],[19276.0,19276.0],[13989.0,13989.0],[15018.0,15018.0],[7637.0,7637.0],[4879.0,4879.0]],\"hovertemplate\":\"source=model\\u003cbr\\u003edpurp_label=Work\\u003cbr\\u003edept_hr=%{x}\\u003cbr\\u003epercentage=%{y}\\u003cbr\\u003etrexpfac=%{customdata[0]}\\u003cbr\\u003esample_count=%{customdata[1]}\\u003cextra\\u003e\\u003c\\u002fextra\\u003e\",\"legendgroup\":\"model\",\"marker\":{\"color\":\"#91268F\",\"pattern\":{\"shape\":\"\"}},\"name\":\"model\",\"offsetgroup\":\"model\",\"orientation\":\"v\",\"showlegend\":true,\"textposition\":\"auto\",\"x\":[0,1,2,3,4,5,6,7,8,9,10,11,12,13,14,15,16,17,18,19,20,21,22,23],\"xaxis\":\"x6\",\"y\":[0.001401348798218285,0.0010443875759830602,0.00036284924239580595,0.009244191652112217,0.012393546435502995,0.03434702960422936,0.09523872609739815,0.13881522730333828,0.12867090456917724,0.07661123831687999,0.06315196023231183,0.06801252087487147,0.07158360510226387,0.05823104738310624,0.05198753800533013,0.04145754995065103,0.04125514925763106,0.034305077460585226,0.027137884920117965,0.014187184576919991,0.010295939253296003,0.011053285846450739,0.0056208512457946655,0.0035909562954343555],\"yaxis\":\"y6\",\"type\":\"bar\"},{\"alignmentgroup\":\"True\",\"customdata\":[[0.0,0.0],[1.0,1.0],[0.0,0.0],[179.0,179.0],[237.0,237.0],[1862.0,1862.0],[19666.0,19666.0],[68110.0,68110.0],[84635.0,84635.0],[45547.0,45547.0],[22348.0,22348.0],[15229.0,15229.0],[10744.0,10744.0],[7832.0,7832.0],[6542.0,6542.0],[6590.0,6590.0],[4474.0,4474.0],[3991.0,3991.0],[2676.0,2676.0],[765.0,765.0],[672.0,672.0],[370.0,370.0],[29.0,29.0],[14.0,14.0]],\"hovertemplate\":\"source=model\\u003cbr\\u003edpurp_label=School\\u003cbr\\u003edept_hr=%{x}\\u003cbr\\u003epercentage=%{y}\\u003cbr\\u003etrexpfac=%{customdata[0]}\\u003cbr\\u003esample_count=%{customdata[1]}\\u003cextra\\u003e\\u003c\\u002fextra\\u003e\",\"legendgroup\":\"model\",\"marker\":{\"color\":\"#91268F\",\"pattern\":{\"shape\":\"\"}},\"name\":\"model\",\"offsetgroup\":\"model\",\"orientation\":\"v\",\"showlegend\":false,\"textposition\":\"auto\",\"x\":[0,1,2,3,4,5,6,7,8,9,10,11,12,13,14,15,16,17,18,19,20,21,22,23],\"xaxis\":\"x5\",\"y\":[0.0,3.305643063273314e-06,0.0,0.0005917101083259232,0.0007834374059957754,0.00615510738381491,0.065008776482333,0.22514734903954542,0.27977310066013694,0.15056212460290963,0.07387451117803202,0.0503416382105893,0.03551582907180848,0.025889796471556595,0.02162551691993402,0.021784187786971138,0.014789447065084806,0.013192821465523795,0.008845900837319388,0.002528816943404085,0.002221392138519667,0.001223087933411126,9.586364883492611e-05,4.627900288582639e-05],\"yaxis\":\"y5\",\"type\":\"bar\"},{\"alignmentgroup\":\"True\",\"customdata\":[[701.0,701.0],[538.0,538.0],[235.0,235.0],[4341.0,4341.0],[4432.0,4432.0],[7076.0,7076.0],[18557.0,18557.0],[39375.0,39375.0],[65388.0,65388.0],[90575.0,90575.0],[105530.0,105530.0],[99674.0,99674.0],[93804.0,93804.0],[101459.0,101459.0],[91943.0,91943.0],[102211.0,102211.0],[109102.0,109102.0],[93102.0,93102.0],[72615.0,72615.0],[50002.0,50002.0],[34602.0,34602.0],[12624.0,12624.0],[5591.0,5591.0],[3571.0,3571.0]],\"hovertemplate\":\"source=model\\u003cbr\\u003edpurp_label=Shop\\u003cbr\\u003edept_hr=%{x}\\u003cbr\\u003epercentage=%{y}\\u003cbr\\u003etrexpfac=%{customdata[0]}\\u003cbr\\u003esample_count=%{customdata[1]}\\u003cextra\\u003e\\u003c\\u002fextra\\u003e\",\"legendgroup\":\"model\",\"marker\":{\"color\":\"#91268F\",\"pattern\":{\"shape\":\"\"}},\"name\":\"model\",\"offsetgroup\":\"model\",\"orientation\":\"v\",\"showlegend\":false,\"textposition\":\"auto\",\"x\":[0,1,2,3,4,5,6,7,8,9,10,11,12,13,14,15,16,17,18,19,20,21,22,23],\"xaxis\":\"x4\",\"y\":[0.0005807556948853733,0.00044571549764383853,0.00019468985491877705,0.0035963772774570686,0.0036717678170213614,0.005862235801724538,0.015373870798841472,0.0326209065422419,0.05417183078054891,0.07503844089050311,0.08742817187054698,0.0825766663794646,0.07771356234383388,0.08405548080937958,0.07617178438637072,0.08467848834511967,0.09038745766531239,0.07713197818148076,0.06015916516990211,0.04142503032190932,0.028666631318721377,0.010458573312743155,0.0046319616121314145,0.002958457327297672],\"yaxis\":\"y4\",\"type\":\"bar\"},{\"alignmentgroup\":\"True\",\"customdata\":[[872.0,872.0],[716.0,716.0],[356.0,356.0],[2533.0,2533.0],[2933.0,2933.0],[5679.0,5679.0],[14763.0,14763.0],[22958.0,22958.0],[36476.0,36476.0],[48419.0,48419.0],[71524.0,71524.0],[79423.0,79423.0],[81986.0,81986.0],[65978.0,65978.0],[59213.0,59213.0],[49854.0,49854.0],[52099.0,52099.0],[51706.0,51706.0],[44195.0,44195.0],[27203.0,27203.0],[22503.0,22503.0],[15719.0,15719.0],[4828.0,4828.0],[2957.0,2957.0]],\"hovertemplate\":\"source=model\\u003cbr\\u003edpurp_label=Meal\\u003cbr\\u003edept_hr=%{x}\\u003cbr\\u003epercentage=%{y}\\u003cbr\\u003etrexpfac=%{customdata[0]}\\u003cbr\\u003esample_count=%{customdata[1]}\\u003cextra\\u003e\\u003c\\u002fextra\\u003e\",\"legendgroup\":\"model\",\"marker\":{\"color\":\"#91268F\",\"pattern\":{\"shape\":\"\"}},\"name\":\"model\",\"offsetgroup\":\"model\",\"orientation\":\"v\",\"showlegend\":false,\"textposition\":\"auto\",\"x\":[0,1,2,3,4,5,6,7,8,9,10,11,12,13,14,15,16,17,18,19,20,21,22,23],\"xaxis\":\"x3\",\"y\":[0.0011400287360454338,0.0009360786410648286,0.00046542457572497066,0.0033115742986273896,0.0038345232601161208,0.00742456788073626,0.019300738796145342,0.030014655644645723,0.047687715798157386,0.06330166441580717,0.0935085038038,0.10383543842079873,0.10718623389153777,0.08625781645275875,0.0774134421415806,0.065177743815148,0.0681127948615035,0.06759899750684083,0.057779323382486175,0.03556445149844488,0.02941980120095229,0.02055058681410341,0.006311993965168985,0.0038659001978054446],\"yaxis\":\"y3\",\"type\":\"bar\"},{\"alignmentgroup\":\"True\",\"customdata\":[[1377.0,1377.0],[1011.0,1011.0],[452.0,452.0],[12753.0,12753.0],[12117.0,12117.0],[21954.0,21954.0],[60650.0,60650.0],[75721.0,75721.0],[70013.0,70013.0],[62903.0,62903.0],[59582.0,59582.0],[49011.0,49011.0],[46536.0,46536.0],[50432.0,50432.0],[50404.0,50404.0],[65163.0,65163.0],[74595.0,74595.0],[66789.0,66789.0],[47443.0,47443.0],[29649.0,29649.0],[22219.0,22219.0],[11791.0,11791.0],[6494.0,6494.0],[5390.0,5390.0]],\"hovertemplate\":\"source=model\\u003cbr\\u003edpurp_label=Escort\\u003cbr\\u003edept_hr=%{x}\\u003cbr\\u003epercentage=%{y}\\u003cbr\\u003etrexpfac=%{customdata[0]}\\u003cbr\\u003esample_count=%{customdata[1]}\\u003cextra\\u003e\\u003c\\u002fextra\\u003e\",\"legendgroup\":\"model\",\"marker\":{\"color\":\"#91268F\",\"pattern\":{\"shape\":\"\"}},\"name\":\"model\",\"offsetgroup\":\"model\",\"orientation\":\"v\",\"showlegend\":false,\"textposition\":\"auto\",\"x\":[0,1,2,3,4,5,6,7,8,9,10,11,12,13,14,15,16,17,18,19,20,21,22,23],\"xaxis\":\"x2\",\"y\":[0.0015224739040012206,0.0011178076375782382,0.0004997517825770165,0.014100297529213919,0.013397106967888737,0.024273342112158893,0.06705740179932755,0.0837205856825537,0.07740956095921384,0.0695484211934559,0.06587657236615885,0.05418879339796937,0.051452320694699204,0.055759915705584286,0.05572895763055739,0.072047180106341,0.08247562880825784,0.07384495974897423,0.05245514119646326,0.032781284516871595,0.02456633817937772,0.013036666522932746,0.007180062115166251,0.005959429442677255],\"yaxis\":\"y2\",\"type\":\"bar\"},{\"alignmentgroup\":\"True\",\"customdata\":[[306.0,306.0],[229.0,229.0],[87.0,87.0],[2704.0,2704.0],[2559.0,2559.0],[4890.0,4890.0],[13148.0,13148.0],[24295.0,24295.0],[38115.0,38115.0],[47673.0,47673.0],[49141.0,49141.0],[42172.0,42173.0],[39151.0,39151.0],[41343.0,41343.0],[35313.0,35313.0],[36146.0,36146.0],[38896.0,38896.0],[31898.0,31898.0],[24666.0,24666.0],[14431.0,14431.0],[10351.0,10351.0],[5643.0,5643.0],[2149.0,2149.0],[1376.0,1376.0]],\"hovertemplate\":\"source=model\\u003cbr\\u003edpurp_label=Personal Business\\u003cbr\\u003edept_hr=%{x}\\u003cbr\\u003epercentage=%{y}\\u003cbr\\u003etrexpfac=%{customdata[0]}\\u003cbr\\u003esample_count=%{customdata[1]}\\u003cextra\\u003e\\u003c\\u002fextra\\u003e\",\"legendgroup\":\"model\",\"marker\":{\"color\":\"#91268F\",\"pattern\":{\"shape\":\"\"}},\"name\":\"model\",\"offsetgroup\":\"model\",\"orientation\":\"v\",\"showlegend\":false,\"textposition\":\"auto\",\"x\":[0,1,2,3,4,5,6,7,8,9,10,11,12,13,14,15,16,17,18,19,20,21,22,23],\"xaxis\":\"x\",\"y\":[0.0006039290916195957,0.0004519600064734883,0.00017170532997027723,0.0053366806004555125,0.005050505050505051,0.00965102371901903,0.025949214694818448,0.04794920680032052,0.07522469714732317,0.09408859995026467,0.09698588069045279,0.08323169167248885,0.07726937211110717,0.08159555697656519,0.0696946013475908,0.07133863054144414,0.07676609786809084,0.06295467374013682,0.04868142148329722,0.02848137490575943,0.020428987017498155,0.011137162954279016,0.004241319012714089,0.002715707287805764],\"yaxis\":\"y\",\"type\":\"bar\"},{\"alignmentgroup\":\"True\",\"customdata\":[[933.4381432085191,3.0],[652.3610021546501,2.0],[0.0,0.0],[14547.840530201887,22.0],[61959.04808892333,63.0],[123429.73601870971,137.0],[244191.6578800728,375.0],[421442.0443148261,635.0],[332268.96521368716,621.0],[212633.51142674987,405.0],[123170.05090044552,268.0],[95375.07211814178,235.0],[101371.95384904846,322.0],[88397.03022127587,238.0],[112296.78187761318,196.0],[83931.55209586128,146.0],[42291.688723809944,110.0],[30316.413675442225,112.0],[11162.124152479972,59.0],[15405.299551487862,45.0],[4401.490109861218,34.0],[749.5033899177744,22.0],[12522.908672478066,16.0],[1551.352760741711,10.0]],\"hovertemplate\":\"source=survey\\u003cbr\\u003edpurp_label=Work\\u003cbr\\u003edept_hr=%{x}\\u003cbr\\u003epercentage=%{y}\\u003cbr\\u003etrexpfac=%{customdata[0]}\\u003cbr\\u003esample_count=%{customdata[1]}\\u003cextra\\u003e\\u003c\\u002fextra\\u003e\",\"legendgroup\":\"survey\",\"marker\":{\"color\":\"#8CC63E\",\"pattern\":{\"shape\":\"\"}},\"name\":\"survey\",\"offsetgroup\":\"survey\",\"orientation\":\"v\",\"showlegend\":true,\"textposition\":\"auto\",\"x\":[0,1,2,3,4,5,6,7,8,9,10,11,12,13,14,15,16,17,18,19,20,21,22,23],\"xaxis\":\"x6\",\"y\":[0.0004372071875545999,0.0003055552433736584,0.0,0.006813971005448342,0.02902060662038644,0.05781247331489406,0.11437538603154362,0.19739657335921101,0.15562935889186355,0.09959406543126545,0.05769084104495509,0.04467212674667282,0.04748096824810863,0.04140372584130572,0.05259797934481442,0.03931216878794994,0.019808736570711392,0.0141997132388675,0.005228156727200369,0.007215590812681798,0.002061586111498692,0.0003510551519163569,0.0058655259810549325,0.0007266283067215861],\"yaxis\":\"y6\",\"type\":\"bar\"},{\"alignmentgroup\":\"True\",\"customdata\":[[0.0,0.0],[0.0,0.0],[0.0,0.0],[0.0,0.0],[100.55973888340068,1.0],[527.1000394518072,4.0],[29857.317976426013,26.0],[234419.12527085032,237.0],[216579.2018420841,266.0],[65952.72608095732,63.0],[11077.577202328726,22.0],[7444.909146719675,16.0],[7445.531184398756,13.0],[18875.513407542494,19.0],[5888.197298605054,13.0],[4426.726729020553,15.0],[5109.949408766104,9.0],[1174.063614005829,8.0],[13277.512811735827,3.0],[136.61502052405655,1.0],[0.0,0.0],[0.0,0.0],[0.0,0.0],[0.0,0.0]],\"hovertemplate\":\"source=survey\\u003cbr\\u003edpurp_label=School\\u003cbr\\u003edept_hr=%{x}\\u003cbr\\u003epercentage=%{y}\\u003cbr\\u003etrexpfac=%{customdata[0]}\\u003cbr\\u003esample_count=%{customdata[1]}\\u003cextra\\u003e\\u003c\\u002fextra\\u003e\",\"legendgroup\":\"survey\",\"marker\":{\"color\":\"#8CC63E\",\"pattern\":{\"shape\":\"\"}},\"name\":\"survey\",\"offsetgroup\":\"survey\",\"orientation\":\"v\",\"showlegend\":false,\"textposition\":\"auto\",\"x\":[0,1,2,3,4,5,6,7,8,9,10,11,12,13,14,15,16,17,18,19,20,21,22,23],\"xaxis\":\"x5\",\"y\":[0.0,0.0,0.0,0.0,0.0001615955814951283,0.0008470292219044332,0.04797954642543266,0.37670239881634565,0.34803433710187837,0.10598346058355235,0.017801234862424402,0.011963678864933432,0.011964678455242427,0.030332214452621395,0.009462103591273264,0.007113577340585001,0.00821148956122191,0.0018866744735438182,0.021336445653556062,0.00021953501398955935,0.0,0.0,0.0,0.0],\"yaxis\":\"y5\",\"type\":\"bar\"},{\"alignmentgroup\":\"True\",\"customdata\":[[416.1814350899921,3.0],[166.4863951454292,1.0],[662.2466529370209,1.0],[0.0,0.0],[2778.3171951656627,2.0],[1274.9995721767857,8.0],[11231.450721770396,16.0],[35806.14937003373,55.0],[60612.85852583463,96.0],[86704.48982180646,194.0],[163462.76068826922,291.0],[192018.16896677352,335.0],[183940.06275274206,324.0],[172269.1676440168,304.0],[253739.9832700529,345.0],[277266.2110290083,296.0],[232040.61404135966,332.0],[148646.47909963594,305.0],[175470.79451894964,246.0],[80746.54433422882,214.0],[39126.01979502964,85.0],[19581.593188056962,29.0],[18895.589028898474,19.0],[5539.329230717929,7.0]],\"hovertemplate\":\"source=survey\\u003cbr\\u003edpurp_label=Shop\\u003cbr\\u003edept_hr=%{x}\\u003cbr\\u003epercentage=%{y}\\u003cbr\\u003etrexpfac=%{customdata[0]}\\u003cbr\\u003esample_count=%{customdata[1]}\\u003cextra\\u003e\\u003c\\u002fextra\\u003e\",\"legendgroup\":\"survey\",\"marker\":{\"color\":\"#8CC63E\",\"pattern\":{\"shape\":\"\"}},\"name\":\"survey\",\"offsetgroup\":\"survey\",\"orientation\":\"v\",\"showlegend\":false,\"textposition\":\"auto\",\"x\":[0,1,2,3,4,5,6,7,8,9,10,11,12,13,14,15,16,17,18,19,20,21,22,23],\"xaxis\":\"x4\",\"y\":[0.00019246305458500986,7.699161340439808e-05,0.00030625588497333465,0.0,0.001284832452634548,0.0005896233987531508,0.0051939830349845536,0.016558549468199322,0.028030409132710776,0.040096480886350455,0.0755933340134693,0.08879877913625482,0.08506305988948337,0.07966585585062275,0.11734202473482228,0.1282217259314221,0.10730715404574598,0.06874154637540851,0.08114644781373564,0.037341229712443046,0.018093823146812557,0.009055505413881665,0.008738262873014569,0.00256166213628793],\"yaxis\":\"y4\",\"type\":\"bar\"},{\"alignmentgroup\":\"True\",\"customdata\":[[733.8487893719459,1.0],[0.0,0.0],[0.0,0.0],[0.0,0.0],[27.04270096538557,1.0],[4657.434421483057,5.0],[22490.563484129965,28.0],[19944.839286634036,49.0],[46727.049957153235,70.0],[37490.78992847492,90.0],[26094.448596734408,86.0],[91849.8959858387,200.0],[133396.1786211566,241.0],[41956.53457102279,153.0],[90591.86199198403,120.0],[99584.34822909579,121.0],[81913.92707558669,161.0],[98552.14623271614,207.0],[96363.33682392232,202.0],[69955.42983515437,119.0],[79551.91161059293,83.0],[15810.917959313985,29.0],[5745.005317973759,15.0],[1733.9523252268762,4.0]],\"hovertemplate\":\"source=survey\\u003cbr\\u003edpurp_label=Meal\\u003cbr\\u003edept_hr=%{x}\\u003cbr\\u003epercentage=%{y}\\u003cbr\\u003etrexpfac=%{customdata[0]}\\u003cbr\\u003esample_count=%{customdata[1]}\\u003cextra\\u003e\\u003c\\u002fextra\\u003e\",\"legendgroup\":\"survey\",\"marker\":{\"color\":\"#8CC63E\",\"pattern\":{\"shape\":\"\"}},\"name\":\"survey\",\"offsetgroup\":\"survey\",\"orientation\":\"v\",\"showlegend\":false,\"textposition\":\"auto\",\"x\":[0,1,2,3,4,5,6,7,8,9,10,11,12,13,14,15,16,17,18,19,20,21,22,23],\"xaxis\":\"x3\",\"y\":[0.0006889489761508956,0.0,0.0,0.0,2.538812002184038e-05,0.004372473897404451,0.021114500575396607,0.01872453399804706,0.043868101566378555,0.03519695298321156,0.024497885537602834,0.086230150836887,0.12523446521202528,0.03938946545143791,0.08504908841015606,0.09349137826037354,0.07690210436883496,0.09252233052344767,0.09046744125604352,0.06567527596846352,0.07468460648667215,0.014843542563308885,0.0053935028429860634,0.0016278621651497256],\"yaxis\":\"y3\",\"type\":\"bar\"},{\"alignmentgroup\":\"True\",\"customdata\":[[10.631524568731235,1.0],[0.0,0.0],[0.0,0.0],[0.0,0.0],[4702.810010024654,1.0],[3625.4346987638105,10.0],[38961.84624598058,37.0],[272290.17640342796,227.0],[217929.14698753785,234.0],[96507.00538528556,95.0],[22800.727459364327,78.0],[33026.185344125945,63.0],[28693.784908017537,76.0],[108325.68029472863,87.0],[178384.34666701066,175.0],[238130.1345736447,228.0],[106072.32890557716,153.0],[120174.62032965106,140.0],[29490.9133988241,68.0],[45909.55903277178,58.0],[24996.867007397752,29.0],[9673.544694157501,23.0],[13359.556689821664,13.0],[704.8046917620982,3.0]],\"hovertemplate\":\"source=survey\\u003cbr\\u003edpurp_label=Escort\\u003cbr\\u003edept_hr=%{x}\\u003cbr\\u003epercentage=%{y}\\u003cbr\\u003etrexpfac=%{customdata[0]}\\u003cbr\\u003esample_count=%{customdata[1]}\\u003cextra\\u003e\\u003c\\u002fextra\\u003e\",\"legendgroup\":\"survey\",\"marker\":{\"color\":\"#8CC63E\",\"pattern\":{\"shape\":\"\"}},\"name\":\"survey\",\"offsetgroup\":\"survey\",\"orientation\":\"v\",\"showlegend\":false,\"textposition\":\"auto\",\"x\":[0,1,2,3,4,5,6,7,8,9,10,11,12,13,14,15,16,17,18,19,20,21,22,23],\"xaxis\":\"x2\",\"y\":[6.670676362728778e-06,0.0,0.0,0.0,0.0029507455275550897,0.0022747538599298565,0.024446340232871445,0.17084658289552918,0.13673813197356913,0.06055265126835806,0.014306158324981772,0.02072205096286129,0.018003716353728823,0.06796819687966883,0.11192602124931664,0.1494131015438555,0.06655434717717705,0.07540273213407783,0.018503869097326875,0.028805634439667174,0.015684110854519002,0.006069598533864623,0.008382361198640746,0.0004422248161383735],\"yaxis\":\"y2\",\"type\":\"bar\"},{\"alignmentgroup\":\"True\",\"customdata\":[[0.0,0.0],[0.0,0.0],[0.0,0.0],[0.0,0.0],[0.0,0.0],[3412.4163362484046,5.0],[7873.97057206514,24.0],[51787.76933554985,76.0],[36848.29507824311,110.0],[86332.82931108194,155.0],[77248.3560075273,183.0],[64755.98704394247,148.0],[83236.72157255147,147.0],[87891.95467378886,170.0],[151529.11763077503,161.0],[73658.91213233332,136.0],[46879.754761079275,122.0],[79865.5734389031,83.0],[10866.157129591684,51.0],[16120.410799817173,22.0],[1571.2531689954305,8.0],[6280.019920777706,5.0],[229.01483689982024,1.0],[0.0,0.0]],\"hovertemplate\":\"source=survey\\u003cbr\\u003edpurp_label=Personal Business\\u003cbr\\u003edept_hr=%{x}\\u003cbr\\u003epercentage=%{y}\\u003cbr\\u003etrexpfac=%{customdata[0]}\\u003cbr\\u003esample_count=%{customdata[1]}\\u003cextra\\u003e\\u003c\\u002fextra\\u003e\",\"legendgroup\":\"survey\",\"marker\":{\"color\":\"#8CC63E\",\"pattern\":{\"shape\":\"\"}},\"name\":\"survey\",\"offsetgroup\":\"survey\",\"orientation\":\"v\",\"showlegend\":false,\"textposition\":\"auto\",\"x\":[0,1,2,3,4,5,6,7,8,9,10,11,12,13,14,15,16,17,18,19,20,21,22,23],\"xaxis\":\"x\",\"y\":[0.0,0.0,0.0,0.0,0.0,0.003849797558647286,0.008883204655655568,0.05842558712369128,0.04157126870061045,0.09739840710008893,0.08714954538467742,0.07305598621756731,0.09390546050781945,0.09915737096133134,0.1709511295331198,0.08310003005419599,0.052888495319888984,0.09010222064025217,0.01225891012916974,0.01818661969299922,0.0017726461304735373,0.007084951827960772,0.00025836846185076827,0.0],\"yaxis\":\"y\",\"type\":\"bar\"},{\"alignmentgroup\":\"True\",\"customdata\":[[877.647042052731,3.0],[596.9418007071902,2.0],[0.0,0.0],[11650.055250018777,21.0],[66295.18887513214,61.0],[97949.82613985866,128.0],[226622.16954902207,361.0],[341130.43554388883,612.0],[267785.380318121,610.0],[171021.9207828352,381.0],[125524.87883650606,263.0],[86582.1122037897,233.0],[121082.12585893358,313.0],[110304.9240695201,229.0],[105293.49075643212,194.0],[94347.81685040558,136.0],[56777.453411633134,106.0],[40681.768903020195,122.0],[25441.05684026079,64.0],[34690.585260702246,43.0],[21415.938529226954,34.0],[9441.90766218975,22.0],[19246.487220641277,16.0],[4896.445540763096,10.0]],\"hovertemplate\":\"source=survey (2017\\u002f2019)\\u003cbr\\u003edpurp_label=Work\\u003cbr\\u003edept_hr=%{x}\\u003cbr\\u003epercentage=%{y}\\u003cbr\\u003etrexpfac=%{customdata[0]}\\u003cbr\\u003esample_count=%{customdata[1]}\\u003cextra\\u003e\\u003c\\u002fextra\\u003e\",\"legendgroup\":\"survey (2017\\u002f2019)\",\"marker\":{\"color\":\"#00A7A0\",\"pattern\":{\"shape\":\"\"}},\"name\":\"survey (2017\\u002f2019)\",\"offsetgroup\":\"survey (2017\\u002f2019)\",\"orientation\":\"v\",\"showlegend\":true,\"textposition\":\"auto\",\"x\":[0,1,2,3,4,5,6,7,8,9,10,11,12,13,14,15,16,17,18,19,20,21,22,23],\"xaxis\":\"x6\",\"y\":[0.0004302915796951129,0.00029266780163877027,0.0,0.005711772998563511,0.032503113644120916,0.048022705485343806,0.11110800430786798,0.16724895881713986,0.1312894464349119,0.08384839113001558,0.061542164238676554,0.04244935839625354,0.05936397744453708,0.054080145835176854,0.05162314723152204,0.04625671734549872,0.027836771445632513,0.019945401473842533,0.012473206212038084,0.01700805223186603,0.01049977676543099,0.004629165448785182,0.009436141173998238,0.0024006225574442906],\"yaxis\":\"y6\",\"type\":\"bar\"},{\"alignmentgroup\":\"True\",\"customdata\":[[0.0,0.0],[0.0,0.0],[0.0,0.0],[0.0,0.0],[75.6029420675361,1.0],[944.6388505184881,3.0],[20217.931620365427,26.0],[190219.19108530923,229.0],[219886.15335901993,260.0],[59190.70754528113,63.0],[17733.54553657545,19.0],[6115.9062908794995,13.0],[6219.259173600052,13.0],[23368.641487335408,16.0],[4985.581534453788,18.0],[14562.920624023891,16.0],[11931.184860898193,10.0],[3824.381295473854,21.0],[5734.429891505202,4.0],[826.970102120082,3.0],[0.0,0.0],[0.0,0.0],[365.922772130815,1.0],[0.0,0.0]],\"hovertemplate\":\"source=survey (2017\\u002f2019)\\u003cbr\\u003edpurp_label=School\\u003cbr\\u003edept_hr=%{x}\\u003cbr\\u003epercentage=%{y}\\u003cbr\\u003etrexpfac=%{customdata[0]}\\u003cbr\\u003esample_count=%{customdata[1]}\\u003cextra\\u003e\\u003c\\u002fextra\\u003e\",\"legendgroup\":\"survey (2017\\u002f2019)\",\"marker\":{\"color\":\"#00A7A0\",\"pattern\":{\"shape\":\"\"}},\"name\":\"survey (2017\\u002f2019)\",\"offsetgroup\":\"survey (2017\\u002f2019)\",\"orientation\":\"v\",\"showlegend\":false,\"textposition\":\"auto\",\"x\":[0,1,2,3,4,5,6,7,8,9,10,11,12,13,14,15,16,17,18,19,20,21,22,23],\"xaxis\":\"x5\",\"y\":[0.0,0.0,0.0,0.0,0.00012897058880505995,0.0016114535417242508,0.03448964384441114,0.32449373536785775,0.3751024218536304,0.10097305997805858,0.03025154507096307,0.010433086515425408,0.010609395555452749,0.03986442021665918,0.008504872541332496,0.024842795746280965,0.020353334071013692,0.0065239882735213675,0.0097823282975959,0.0014107231554472148,0.0,0.0,0.0006242253818208984,0.0],\"yaxis\":\"y5\",\"type\":\"bar\"},{\"alignmentgroup\":\"True\",\"customdata\":[[1043.5875068631988,3.0],[484.372679805163,1.0],[306.34798152004703,1.0],[0.0,0.0],[2450.77235887258,2.0],[822.0588324063526,8.0],[3093.0872852287266,8.0],[31348.818601798346,49.0],[47029.94572929551,83.0],[67349.16890488588,177.0],[123957.93980756427,266.0],[183166.24619836523,305.0],[131061.46508166657,281.0],[130195.96741348183,263.0],[211258.51400685747,315.0],[130113.75447500877,258.0],[158026.45305806032,299.0],[120961.5917953065,265.0],[118615.272038351,214.0],[77174.95771085698,189.0],[30796.943803743532,66.0],[5372.311962232592,19.0],[4191.009265770166,15.0],[1005.4244650200757,4.0]],\"hovertemplate\":\"source=survey (2017\\u002f2019)\\u003cbr\\u003edpurp_label=Shop\\u003cbr\\u003edept_hr=%{x}\\u003cbr\\u003epercentage=%{y}\\u003cbr\\u003etrexpfac=%{customdata[0]}\\u003cbr\\u003esample_count=%{customdata[1]}\\u003cextra\\u003e\\u003c\\u002fextra\\u003e\",\"legendgroup\":\"survey (2017\\u002f2019)\",\"marker\":{\"color\":\"#00A7A0\",\"pattern\":{\"shape\":\"\"}},\"name\":\"survey (2017\\u002f2019)\",\"offsetgroup\":\"survey (2017\\u002f2019)\",\"orientation\":\"v\",\"showlegend\":false,\"textposition\":\"auto\",\"x\":[0,1,2,3,4,5,6,7,8,9,10,11,12,13,14,15,16,17,18,19,20,21,22,23],\"xaxis\":\"x4\",\"y\":[0.0006605711639265228,0.00030659874976353906,0.00019391248111766236,0.0,0.0015512925739073922,0.0005203477007605907,0.0019578657800066084,0.019843209558684318,0.0297690665952696,0.0426307507519984,0.0784630326044622,0.11594077127943905,0.08295942981833795,0.08241158615569488,0.13372264574760848,0.08235954691979007,0.1000277574628218,0.0765664009554926,0.07508122490403277,0.04885028932003471,0.01949388324412489,0.0034005719142185626,0.0026528296386357096,0.000636414679871762],\"yaxis\":\"y4\",\"type\":\"bar\"},{\"alignmentgroup\":\"True\",\"customdata\":[[0.0,0.0],[0.0,0.0],[0.0,0.0],[0.0,0.0],[10.6381727331061,1.0],[1147.831085856249,6.0],[14626.873553095289,29.0],[17414.860510843453,47.0],[59032.64490192203,72.0],[36750.04231852758,88.0],[15955.689864202985,83.0],[98607.73367527753,193.0],[127055.64466029961,236.0],[84794.28310803465,146.0],[67735.17373241174,112.0],[32261.44116445362,109.0],[44943.75446043937,158.0],[102003.74447276245,192.0],[65452.0382090979,185.0],[51193.9845724077,111.0],[50164.822780754264,78.0],[15219.319627671688,24.0],[1255.7041264046907,14.0],[4820.569683374715,5.0]],\"hovertemplate\":\"source=survey (2017\\u002f2019)\\u003cbr\\u003edpurp_label=Meal\\u003cbr\\u003edept_hr=%{x}\\u003cbr\\u003epercentage=%{y}\\u003cbr\\u003etrexpfac=%{customdata[0]}\\u003cbr\\u003esample_count=%{customdata[1]}\\u003cextra\\u003e\\u003c\\u002fextra\\u003e\",\"legendgroup\":\"survey (2017\\u002f2019)\",\"marker\":{\"color\":\"#00A7A0\",\"pattern\":{\"shape\":\"\"}},\"name\":\"survey (2017\\u002f2019)\",\"offsetgroup\":\"survey (2017\\u002f2019)\",\"orientation\":\"v\",\"showlegend\":false,\"textposition\":\"auto\",\"x\":[0,1,2,3,4,5,6,7,8,9,10,11,12,13,14,15,16,17,18,19,20,21,22,23],\"xaxis\":\"x3\",\"y\":[0.0,0.0,0.0,0.0,1.1947005477090098e-05,0.0012890507245500386,0.016426443040139613,0.01955744084304405,0.06629553304540645,0.04127146342495499,0.017918745914433615,0.1107396132642052,0.14268751981512628,0.09522667004315832,0.0760687490112313,0.03623062192730644,0.050473262107212154,0.11455344112879218,0.07350471538569292,0.05749246881254986,0.05633668747019282,0.017091778777339868,0.0014101955713762195,0.005413652687810499],\"yaxis\":\"y3\",\"type\":\"bar\"},{\"alignmentgroup\":\"True\",\"customdata\":[[9.53758922636237,1.0],[0.0,0.0],[0.0,0.0],[0.0,0.0],[3756.89486105699,1.0],[18161.175205143918,15.0],[44362.01890662709,39.0],[284562.35779404663,244.0],[226109.40532154823,262.0],[121828.70793020912,110.0],[106265.74241342014,84.0],[55260.374604351666,74.0],[33568.989604439295,86.0],[93937.94055531808,92.0],[211545.50632815852,196.0],[216064.17300579994,242.0],[92780.56601212399,167.0],[112819.98273444665,162.0],[33009.04943786905,82.0],[29286.28289693179,57.0],[13649.511615784408,29.0],[8470.163829684483,20.0],[7940.52526841632,12.0],[74.8421472528727,1.0]],\"hovertemplate\":\"source=survey (2017\\u002f2019)\\u003cbr\\u003edpurp_label=Escort\\u003cbr\\u003edept_hr=%{x}\\u003cbr\\u003epercentage=%{y}\\u003cbr\\u003etrexpfac=%{customdata[0]}\\u003cbr\\u003esample_count=%{customdata[1]}\\u003cextra\\u003e\\u003c\\u002fextra\\u003e\",\"legendgroup\":\"survey (2017\\u002f2019)\",\"marker\":{\"color\":\"#00A7A0\",\"pattern\":{\"shape\":\"\"}},\"name\":\"survey (2017\\u002f2019)\",\"offsetgroup\":\"survey (2017\\u002f2019)\",\"orientation\":\"v\",\"showlegend\":false,\"textposition\":\"auto\",\"x\":[0,1,2,3,4,5,6,7,8,9,10,11,12,13,14,15,16,17,18,19,20,21,22,23],\"xaxis\":\"x2\",\"y\":[5.566262628637805e-06,0.0,0.0,0.0,0.002192573297979904,0.010599100929731665,0.025890258230911598,0.16607433808618519,0.13196042552829412,0.07110083774343799,0.062018086191563813,0.0322506820858382,0.01959130424697346,0.05482341873971585,0.12346074235153401,0.126097895709901,0.054147959720227845,0.06584322712520783,0.019264515794516494,0.017091860233435507,0.007966034665877078,0.0049432991151784275,0.0046341950784766,4.367886238476224e-05],\"yaxis\":\"y2\",\"type\":\"bar\"},{\"alignmentgroup\":\"True\",\"customdata\":[[0.0,0.0],[0.0,0.0],[0.0,0.0],[0.0,0.0],[0.0,0.0],[9297.557542987084,5.0],[8901.958329173101,25.0],[37212.77149656984,73.0],[30372.879373188665,96.0],[70279.21160930606,145.0],[75836.11562483701,173.0],[62784.2279384003,140.0],[87099.31826782957,151.0],[73942.42762992914,171.0],[113061.26862008445,145.0],[63163.19034429718,123.0],[24966.613679897902,111.0],[28974.36171898583,88.0],[23910.72272894777,58.0],[10748.937055733639,26.0],[5646.842906127324,21.0],[1894.4602115019472,7.0],[140.9681993126719,2.0],[218.151276463587,1.0]],\"hovertemplate\":\"source=survey (2017\\u002f2019)\\u003cbr\\u003edpurp_label=Personal Business\\u003cbr\\u003edept_hr=%{x}\\u003cbr\\u003epercentage=%{y}\\u003cbr\\u003etrexpfac=%{customdata[0]}\\u003cbr\\u003esample_count=%{customdata[1]}\\u003cextra\\u003e\\u003c\\u002fextra\\u003e\",\"legendgroup\":\"survey (2017\\u002f2019)\",\"marker\":{\"color\":\"#00A7A0\",\"pattern\":{\"shape\":\"\"}},\"name\":\"survey (2017\\u002f2019)\",\"offsetgroup\":\"survey (2017\\u002f2019)\",\"orientation\":\"v\",\"showlegend\":false,\"textposition\":\"auto\",\"x\":[0,1,2,3,4,5,6,7,8,9,10,11,12,13,14,15,16,17,18,19,20,21,22,23],\"xaxis\":\"x\",\"y\":[0.0,0.0,0.0,0.0,0.0,0.012763445965055652,0.012220377619849038,0.051084728006301525,0.04169510141674263,0.09647747977840462,0.10410585355370082,0.08618856049500255,0.1195676861546445,0.1015062477662742,0.15520757856040887,0.08670879026159331,0.03427352002506867,0.03977525263623597,0.032824020300529895,0.014755862134579883,0.0077518395527303744,0.0026006658663480127,0.00019351748955569574,0.00029947241697375507],\"yaxis\":\"y\",\"type\":\"bar\"},{\"alignmentgroup\":\"True\",\"customdata\":[[1157.7089014365695,2.0],[0.0,0.0],[66.0672268552095,1.0],[10508.932231210778,34.0],[42855.42507830016,134.0],[154617.967129585,446.0],[310857.7151247599,1322.0],[383371.8587197152,2371.0],[314649.8031415182,2127.0],[249412.15683964413,1327.0],[167477.85431534835,740.0],[113673.71249841417,590.0],[198346.27570010128,934.0],[155398.9968497258,841.0],[98432.43833252414,500.0],[54043.691655597715,342.0],[53533.23811600846,283.0],[57189.754237463145,206.0],[19353.04596158001,116.0],[18660.712974326594,56.0],[6227.628956539731,34.0],[2096.1982044600077,11.0],[3409.689338539313,8.0],[2471.7153776065225,5.0]],\"hovertemplate\":\"source=survey (old weights)\\u003cbr\\u003edpurp_label=Work\\u003cbr\\u003edept_hr=%{x}\\u003cbr\\u003epercentage=%{y}\\u003cbr\\u003etrexpfac=%{customdata[0]}\\u003cbr\\u003esample_count=%{customdata[1]}\\u003cextra\\u003e\\u003c\\u002fextra\\u003e\",\"legendgroup\":\"survey (old weights)\",\"marker\":{\"color\":\"#F05A28\",\"pattern\":{\"shape\":\"\"}},\"name\":\"survey (old weights)\",\"offsetgroup\":\"survey (old weights)\",\"orientation\":\"v\",\"showlegend\":true,\"textposition\":\"auto\",\"x\":[0,1,2,3,4,5,6,7,8,9,10,11,12,13,14,15,16,17,18,19,20,21,22,23],\"xaxis\":\"x6\",\"y\":[0.0004788249129414679,0.0,2.7325205937326162e-05,0.004346462702734074,0.01772487466989643,0.06394952527197671,0.1285698142228131,0.1585614454962658,0.1301382103992937,0.10315611647893129,0.06926833585943905,0.04701510493980495,0.08203542192386688,0.06427255681063643,0.040711359873542116,0.02235230801103496,0.022141185965284773,0.023653510014406322,0.00800436149035993,0.007718014653139652,0.0025757285698042817,0.0008669812605855805,0.0014102372355068137,0.0010222940317984376],\"yaxis\":\"y6\",\"type\":\"bar\"},{\"alignmentgroup\":\"True\",\"customdata\":[[0.0,0.0],[0.0,0.0],[0.0,0.0],[0.0,0.0],[0.0,0.0],[10000.491126518085,13.0],[57849.45797028801,105.0],[189331.28199660193,515.0],[183672.6626829494,619.0],[37344.49808280265,163.0],[11952.119643414007,75.0],[16749.29791643655,58.0],[20548.81031449402,109.0],[7863.504225313564,76.0],[15767.64621464485,82.0],[22347.41025179439,67.0],[14851.787717522677,61.0],[9460.656281219735,59.0],[846.6255037070423,16.0],[1322.8739986711764,8.0],[312.3021497864155,1.0],[89.61400609072103,3.0],[0.0,0.0],[0.0,0.0]],\"hovertemplate\":\"source=survey (old weights)\\u003cbr\\u003edpurp_label=School\\u003cbr\\u003edept_hr=%{x}\\u003cbr\\u003epercentage=%{y}\\u003cbr\\u003etrexpfac=%{customdata[0]}\\u003cbr\\u003esample_count=%{customdata[1]}\\u003cextra\\u003e\\u003c\\u002fextra\\u003e\",\"legendgroup\":\"survey (old weights)\",\"marker\":{\"color\":\"#F05A28\",\"pattern\":{\"shape\":\"\"}},\"name\":\"survey (old weights)\",\"offsetgroup\":\"survey (old weights)\",\"orientation\":\"v\",\"showlegend\":false,\"textposition\":\"auto\",\"x\":[0,1,2,3,4,5,6,7,8,9,10,11,12,13,14,15,16,17,18,19,20,21,22,23],\"xaxis\":\"x5\",\"y\":[0.0,0.0,0.0,0.0,0.0,0.016658849261122717,0.09636580723613117,0.3153886391472321,0.3059624934730209,0.062208581200981536,0.01990987812214201,0.027901032628254756,0.03423027221301545,0.013099049826296881,0.026265794166444704,0.037226385589597566,0.024740154229860027,0.0157595906947229,0.0014103114005550139,0.0022036476265535863,0.0005202338936555682,0.00014927929041325317,0.0,0.0],\"yaxis\":\"y5\",\"type\":\"bar\"},{\"alignmentgroup\":\"True\",\"customdata\":[[88.00102612483639,3.0],[0.0,0.0],[0.54525469613021,1.0],[23.5581858798963,2.0],[2802.6843880997167,5.0],[1121.6653775904763,8.0],[7809.612816362787,29.0],[33966.92660566138,82.0],[59284.611511248746,149.0],[161859.65014367257,311.0],[246968.17909785142,468.0],[227991.4685251565,563.0],[246963.90317585086,548.0],[159734.69603642396,506.0],[232366.1604966313,572.0],[166747.11769128861,560.0],[158925.46239316338,651.0],[107544.54743676432,679.0],[81224.20610343866,538.0],[103668.04157456594,429.0],[64391.27309270366,252.0],[50067.3621480706,125.0],[1685.2232189452338,35.0],[2124.5189612179906,8.0]],\"hovertemplate\":\"source=survey (old weights)\\u003cbr\\u003edpurp_label=Shop\\u003cbr\\u003edept_hr=%{x}\\u003cbr\\u003epercentage=%{y}\\u003cbr\\u003etrexpfac=%{customdata[0]}\\u003cbr\\u003esample_count=%{customdata[1]}\\u003cextra\\u003e\\u003c\\u002fextra\\u003e\",\"legendgroup\":\"survey (old weights)\",\"marker\":{\"color\":\"#F05A28\",\"pattern\":{\"shape\":\"\"}},\"name\":\"survey (old weights)\",\"offsetgroup\":\"survey (old weights)\",\"orientation\":\"v\",\"showlegend\":false,\"textposition\":\"auto\",\"x\":[0,1,2,3,4,5,6,7,8,9,10,11,12,13,14,15,16,17,18,19,20,21,22,23],\"xaxis\":\"x4\",\"y\":[4.1561685508160074e-05,0.0,2.5751636316449044e-07,1.1126210179573037e-05,0.0013236696462105833,0.0005297472736587783,0.0036883737168442016,0.016042116591465802,0.027999314185366813,0.0764441072106265,0.11663970571919212,0.10767726389853785,0.11663768625949636,0.0754405203410887,0.10974337130568992,0.07875239153514334,0.07505833031825751,0.050791824317406635,0.03836108575520738,0.048961003421219874,0.03041112086525656,0.023646132908375073,0.0007959079629082134,0.001003381355996992],\"yaxis\":\"y4\",\"type\":\"bar\"},{\"alignmentgroup\":\"True\",\"customdata\":[[0.0,0.0],[0.0,0.0],[0.0,0.0],[42.29917858051295,1.0],[218.51478703463414,7.0],[14040.540516193796,19.0],[17302.365160053367,71.0],[32912.26594329437,113.0],[32337.516123921025,148.0],[21924.677972796257,132.0],[30918.81011936177,176.0],[107399.40268627691,532.0],[170963.485853993,671.0],[49218.65037364088,301.0],[30461.521408202083,208.0],[32694.502305321854,206.0],[51866.72388408027,303.0],[77108.99883669768,502.0],[105260.90749325918,528.0],[60055.67261256104,335.0],[41083.36947794194,178.0],[8666.039098896179,63.0],[5858.891906161041,26.0],[5.963816542174035,2.0]],\"hovertemplate\":\"source=survey (old weights)\\u003cbr\\u003edpurp_label=Meal\\u003cbr\\u003edept_hr=%{x}\\u003cbr\\u003epercentage=%{y}\\u003cbr\\u003etrexpfac=%{customdata[0]}\\u003cbr\\u003esample_count=%{customdata[1]}\\u003cextra\\u003e\\u003c\\u002fextra\\u003e\",\"legendgroup\":\"survey (old weights)\",\"marker\":{\"color\":\"#F05A28\",\"pattern\":{\"shape\":\"\"}},\"name\":\"survey (old weights)\",\"offsetgroup\":\"survey (old weights)\",\"orientation\":\"v\",\"showlegend\":false,\"textposition\":\"auto\",\"x\":[0,1,2,3,4,5,6,7,8,9,10,11,12,13,14,15,16,17,18,19,20,21,22,23],\"xaxis\":\"x3\",\"y\":[0.0,0.0,0.0,4.7508957692152266e-05,0.00024542816481832973,0.015769843948367085,0.019433411284772432,0.0369659057864824,0.036320366894983455,0.02462503134052606,0.034726925939152234,0.1206272521030804,0.19202020674893516,0.055280666356565984,0.03421331525543098,0.03672132128601431,0.05825488988986015,0.08660613010354262,0.11822536911009111,0.06745243063983182,0.0461434034389926,0.009733391964676852,0.0065805024360669935,6.698350116813737e-06],\"yaxis\":\"y3\",\"type\":\"bar\"},{\"alignmentgroup\":\"True\",\"customdata\":[[0.0,0.0],[0.0,0.0],[0.0,0.0],[43.386560706051,1.0],[1790.848267443167,12.0],[18465.3446532733,31.0],[57549.3428295186,132.0],[126646.14531971225,480.0],[172943.20962340268,535.0],[36944.90811363064,172.0],[20658.185061762004,83.0],[49370.51581484816,137.0],[35656.39697159831,134.0],[38424.3553957142,151.0],[111565.45609818315,247.0],[122817.5944122123,398.0],[93252.53032125118,447.0],[102649.93969422167,351.0],[59265.66469635055,192.0],[39265.309592495694,126.0],[28526.143523589562,106.0],[9561.367183984781,53.0],[969.0806851933426,33.0],[843.0741387058619,13.0]],\"hovertemplate\":\"source=survey (old weights)\\u003cbr\\u003edpurp_label=Escort\\u003cbr\\u003edept_hr=%{x}\\u003cbr\\u003epercentage=%{y}\\u003cbr\\u003etrexpfac=%{customdata[0]}\\u003cbr\\u003esample_count=%{customdata[1]}\\u003cextra\\u003e\\u003c\\u002fextra\\u003e\",\"legendgroup\":\"survey (old weights)\",\"marker\":{\"color\":\"#F05A28\",\"pattern\":{\"shape\":\"\"}},\"name\":\"survey (old weights)\",\"offsetgroup\":\"survey (old weights)\",\"orientation\":\"v\",\"showlegend\":false,\"textposition\":\"auto\",\"x\":[0,1,2,3,4,5,6,7,8,9,10,11,12,13,14,15,16,17,18,19,20,21,22,23],\"xaxis\":\"x2\",\"y\":[0.0,0.0,0.0,3.8490260851552665e-05,0.0015887458198507343,0.016381476679694234,0.05105473172559333,0.1123537586264476,0.15342606426005878,0.032775567532642956,0.018326848655601604,0.04379890918212802,0.031632468629206725,0.034088054876116,0.09897496914620887,0.10895727084970226,0.08272871042833525,0.09106559475860239,0.052577361666398294,0.034834104940273614,0.025306885068644307,0.008482339024345,0.0008597171048428137,0.0007479307644558464],\"yaxis\":\"y2\",\"type\":\"bar\"},{\"alignmentgroup\":\"True\",\"customdata\":[[0.0,0.0],[0.0,0.0],[0.0,0.0],[1137.7956546825676,7.0],[813.0149796079876,9.0],[8938.937590118545,30.0],[27863.712614929653,114.0],[61741.21779422683,258.0],[93492.30428550647,413.0],[150539.36337666478,496.0],[166693.8426317474,518.0],[143346.31332363564,468.0],[137807.84510325742,530.0],[96333.08016947884,503.0],[155935.49907970516,515.0],[130304.93264870063,511.0],[142836.5697514224,588.0],[137308.1323715273,492.0],[87073.08351106464,381.0],[52328.51462292796,225.0],[29190.425788894154,119.0],[8119.004695210372,46.0],[3490.5738408943475,23.0],[113.92038390728736,5.0]],\"hovertemplate\":\"source=survey (old weights)\\u003cbr\\u003edpurp_label=Personal Business\\u003cbr\\u003edept_hr=%{x}\\u003cbr\\u003epercentage=%{y}\\u003cbr\\u003etrexpfac=%{customdata[0]}\\u003cbr\\u003esample_count=%{customdata[1]}\\u003cextra\\u003e\\u003c\\u002fextra\\u003e\",\"legendgroup\":\"survey (old weights)\",\"marker\":{\"color\":\"#F05A28\",\"pattern\":{\"shape\":\"\"}},\"name\":\"survey (old weights)\",\"offsetgroup\":\"survey (old weights)\",\"orientation\":\"v\",\"showlegend\":false,\"textposition\":\"auto\",\"x\":[0,1,2,3,4,5,6,7,8,9,10,11,12,13,14,15,16,17,18,19,20,21,22,23],\"xaxis\":\"x\",\"y\":[0.0,0.0,0.0,0.0006957258348313402,0.0004971327875003691,0.0054658758730499095,0.017037773558671938,0.03775278989387248,0.05716756887025246,0.09205003009914663,0.10192798008054596,0.0876517088957461,0.08426511182934714,0.05890461292145058,0.09534959536063319,0.07967731962814621,0.0873400169228787,0.08395955339622428,0.053242419645182525,0.03199722144454621,0.017849016444632604,0.004964513000491906,0.0021343748233721084,6.965868947734398e-05],\"yaxis\":\"y\",\"type\":\"bar\"}],                        {\"template\":{\"data\":{\"barpolar\":[{\"marker\":{\"line\":{\"color\":\"white\",\"width\":0.5},\"pattern\":{\"fillmode\":\"overlay\",\"size\":10,\"solidity\":0.2}},\"type\":\"barpolar\"}],\"bar\":[{\"error_x\":{\"color\":\"rgb(36,36,36)\"},\"error_y\":{\"color\":\"rgb(36,36,36)\"},\"marker\":{\"line\":{\"color\":\"white\",\"width\":0.5},\"pattern\":{\"fillmode\":\"overlay\",\"size\":10,\"solidity\":0.2}},\"type\":\"bar\"}],\"carpet\":[{\"aaxis\":{\"endlinecolor\":\"rgb(36,36,36)\",\"gridcolor\":\"white\",\"linecolor\":\"white\",\"minorgridcolor\":\"white\",\"startlinecolor\":\"rgb(36,36,36)\"},\"baxis\":{\"endlinecolor\":\"rgb(36,36,36)\",\"gridcolor\":\"white\",\"linecolor\":\"white\",\"minorgridcolor\":\"white\",\"startlinecolor\":\"rgb(36,36,36)\"},\"type\":\"carpet\"}],\"choropleth\":[{\"colorbar\":{\"outlinewidth\":1,\"tickcolor\":\"rgb(36,36,36)\",\"ticks\":\"outside\"},\"type\":\"choropleth\"}],\"contourcarpet\":[{\"colorbar\":{\"outlinewidth\":1,\"tickcolor\":\"rgb(36,36,36)\",\"ticks\":\"outside\"},\"type\":\"contourcarpet\"}],\"contour\":[{\"colorbar\":{\"outlinewidth\":1,\"tickcolor\":\"rgb(36,36,36)\",\"ticks\":\"outside\"},\"colorscale\":[[0.0,\"#440154\"],[0.1111111111111111,\"#482878\"],[0.2222222222222222,\"#3e4989\"],[0.3333333333333333,\"#31688e\"],[0.4444444444444444,\"#26828e\"],[0.5555555555555556,\"#1f9e89\"],[0.6666666666666666,\"#35b779\"],[0.7777777777777778,\"#6ece58\"],[0.8888888888888888,\"#b5de2b\"],[1.0,\"#fde725\"]],\"type\":\"contour\"}],\"heatmapgl\":[{\"colorbar\":{\"outlinewidth\":1,\"tickcolor\":\"rgb(36,36,36)\",\"ticks\":\"outside\"},\"colorscale\":[[0.0,\"#440154\"],[0.1111111111111111,\"#482878\"],[0.2222222222222222,\"#3e4989\"],[0.3333333333333333,\"#31688e\"],[0.4444444444444444,\"#26828e\"],[0.5555555555555556,\"#1f9e89\"],[0.6666666666666666,\"#35b779\"],[0.7777777777777778,\"#6ece58\"],[0.8888888888888888,\"#b5de2b\"],[1.0,\"#fde725\"]],\"type\":\"heatmapgl\"}],\"heatmap\":[{\"colorbar\":{\"outlinewidth\":1,\"tickcolor\":\"rgb(36,36,36)\",\"ticks\":\"outside\"},\"colorscale\":[[0.0,\"#440154\"],[0.1111111111111111,\"#482878\"],[0.2222222222222222,\"#3e4989\"],[0.3333333333333333,\"#31688e\"],[0.4444444444444444,\"#26828e\"],[0.5555555555555556,\"#1f9e89\"],[0.6666666666666666,\"#35b779\"],[0.7777777777777778,\"#6ece58\"],[0.8888888888888888,\"#b5de2b\"],[1.0,\"#fde725\"]],\"type\":\"heatmap\"}],\"histogram2dcontour\":[{\"colorbar\":{\"outlinewidth\":1,\"tickcolor\":\"rgb(36,36,36)\",\"ticks\":\"outside\"},\"colorscale\":[[0.0,\"#440154\"],[0.1111111111111111,\"#482878\"],[0.2222222222222222,\"#3e4989\"],[0.3333333333333333,\"#31688e\"],[0.4444444444444444,\"#26828e\"],[0.5555555555555556,\"#1f9e89\"],[0.6666666666666666,\"#35b779\"],[0.7777777777777778,\"#6ece58\"],[0.8888888888888888,\"#b5de2b\"],[1.0,\"#fde725\"]],\"type\":\"histogram2dcontour\"}],\"histogram2d\":[{\"colorbar\":{\"outlinewidth\":1,\"tickcolor\":\"rgb(36,36,36)\",\"ticks\":\"outside\"},\"colorscale\":[[0.0,\"#440154\"],[0.1111111111111111,\"#482878\"],[0.2222222222222222,\"#3e4989\"],[0.3333333333333333,\"#31688e\"],[0.4444444444444444,\"#26828e\"],[0.5555555555555556,\"#1f9e89\"],[0.6666666666666666,\"#35b779\"],[0.7777777777777778,\"#6ece58\"],[0.8888888888888888,\"#b5de2b\"],[1.0,\"#fde725\"]],\"type\":\"histogram2d\"}],\"histogram\":[{\"marker\":{\"line\":{\"color\":\"white\",\"width\":0.6}},\"type\":\"histogram\"}],\"mesh3d\":[{\"colorbar\":{\"outlinewidth\":1,\"tickcolor\":\"rgb(36,36,36)\",\"ticks\":\"outside\"},\"type\":\"mesh3d\"}],\"parcoords\":[{\"line\":{\"colorbar\":{\"outlinewidth\":1,\"tickcolor\":\"rgb(36,36,36)\",\"ticks\":\"outside\"}},\"type\":\"parcoords\"}],\"pie\":[{\"automargin\":true,\"type\":\"pie\"}],\"scatter3d\":[{\"line\":{\"colorbar\":{\"outlinewidth\":1,\"tickcolor\":\"rgb(36,36,36)\",\"ticks\":\"outside\"}},\"marker\":{\"colorbar\":{\"outlinewidth\":1,\"tickcolor\":\"rgb(36,36,36)\",\"ticks\":\"outside\"}},\"type\":\"scatter3d\"}],\"scattercarpet\":[{\"marker\":{\"colorbar\":{\"outlinewidth\":1,\"tickcolor\":\"rgb(36,36,36)\",\"ticks\":\"outside\"}},\"type\":\"scattercarpet\"}],\"scattergeo\":[{\"marker\":{\"colorbar\":{\"outlinewidth\":1,\"tickcolor\":\"rgb(36,36,36)\",\"ticks\":\"outside\"}},\"type\":\"scattergeo\"}],\"scattergl\":[{\"marker\":{\"colorbar\":{\"outlinewidth\":1,\"tickcolor\":\"rgb(36,36,36)\",\"ticks\":\"outside\"}},\"type\":\"scattergl\"}],\"scattermapbox\":[{\"marker\":{\"colorbar\":{\"outlinewidth\":1,\"tickcolor\":\"rgb(36,36,36)\",\"ticks\":\"outside\"}},\"type\":\"scattermapbox\"}],\"scatterpolargl\":[{\"marker\":{\"colorbar\":{\"outlinewidth\":1,\"tickcolor\":\"rgb(36,36,36)\",\"ticks\":\"outside\"}},\"type\":\"scatterpolargl\"}],\"scatterpolar\":[{\"marker\":{\"colorbar\":{\"outlinewidth\":1,\"tickcolor\":\"rgb(36,36,36)\",\"ticks\":\"outside\"}},\"type\":\"scatterpolar\"}],\"scatter\":[{\"fillpattern\":{\"fillmode\":\"overlay\",\"size\":10,\"solidity\":0.2},\"type\":\"scatter\"}],\"scatterternary\":[{\"marker\":{\"colorbar\":{\"outlinewidth\":1,\"tickcolor\":\"rgb(36,36,36)\",\"ticks\":\"outside\"}},\"type\":\"scatterternary\"}],\"surface\":[{\"colorbar\":{\"outlinewidth\":1,\"tickcolor\":\"rgb(36,36,36)\",\"ticks\":\"outside\"},\"colorscale\":[[0.0,\"#440154\"],[0.1111111111111111,\"#482878\"],[0.2222222222222222,\"#3e4989\"],[0.3333333333333333,\"#31688e\"],[0.4444444444444444,\"#26828e\"],[0.5555555555555556,\"#1f9e89\"],[0.6666666666666666,\"#35b779\"],[0.7777777777777778,\"#6ece58\"],[0.8888888888888888,\"#b5de2b\"],[1.0,\"#fde725\"]],\"type\":\"surface\"}],\"table\":[{\"cells\":{\"fill\":{\"color\":\"rgb(237,237,237)\"},\"line\":{\"color\":\"white\"}},\"header\":{\"fill\":{\"color\":\"rgb(217,217,217)\"},\"line\":{\"color\":\"white\"}},\"type\":\"table\"}]},\"layout\":{\"annotationdefaults\":{\"arrowhead\":0,\"arrowwidth\":1},\"autotypenumbers\":\"strict\",\"coloraxis\":{\"colorbar\":{\"outlinewidth\":1,\"tickcolor\":\"rgb(36,36,36)\",\"ticks\":\"outside\"}},\"colorscale\":{\"diverging\":[[0.0,\"rgb(103,0,31)\"],[0.1,\"rgb(178,24,43)\"],[0.2,\"rgb(214,96,77)\"],[0.3,\"rgb(244,165,130)\"],[0.4,\"rgb(253,219,199)\"],[0.5,\"rgb(247,247,247)\"],[0.6,\"rgb(209,229,240)\"],[0.7,\"rgb(146,197,222)\"],[0.8,\"rgb(67,147,195)\"],[0.9,\"rgb(33,102,172)\"],[1.0,\"rgb(5,48,97)\"]],\"sequential\":[[0.0,\"#440154\"],[0.1111111111111111,\"#482878\"],[0.2222222222222222,\"#3e4989\"],[0.3333333333333333,\"#31688e\"],[0.4444444444444444,\"#26828e\"],[0.5555555555555556,\"#1f9e89\"],[0.6666666666666666,\"#35b779\"],[0.7777777777777778,\"#6ece58\"],[0.8888888888888888,\"#b5de2b\"],[1.0,\"#fde725\"]],\"sequentialminus\":[[0.0,\"#440154\"],[0.1111111111111111,\"#482878\"],[0.2222222222222222,\"#3e4989\"],[0.3333333333333333,\"#31688e\"],[0.4444444444444444,\"#26828e\"],[0.5555555555555556,\"#1f9e89\"],[0.6666666666666666,\"#35b779\"],[0.7777777777777778,\"#6ece58\"],[0.8888888888888888,\"#b5de2b\"],[1.0,\"#fde725\"]]},\"colorway\":[\"#91268F\",\"#8CC63E\",\"#00A7A0\",\"#F05A28\",\"#4C4C4C\",\"#630460\",\"#9f3913\",\"#588527\",\"#00716c\",\"#3e4040\"],\"font\":{\"color\":\"rgb(36,36,36)\",\"family\":\"Poppins\",\"size\":11},\"geo\":{\"bgcolor\":\"white\",\"lakecolor\":\"white\",\"landcolor\":\"white\",\"showlakes\":true,\"showland\":true,\"subunitcolor\":\"white\"},\"hoverlabel\":{\"align\":\"left\"},\"hovermode\":\"closest\",\"mapbox\":{\"style\":\"light\"},\"paper_bgcolor\":\"white\",\"plot_bgcolor\":\"white\",\"polar\":{\"angularaxis\":{\"gridcolor\":\"rgb(232,232,232)\",\"linecolor\":\"rgb(36,36,36)\",\"showgrid\":false,\"showline\":true,\"ticks\":\"outside\"},\"bgcolor\":\"white\",\"radialaxis\":{\"gridcolor\":\"rgb(232,232,232)\",\"linecolor\":\"rgb(36,36,36)\",\"showgrid\":false,\"showline\":true,\"ticks\":\"outside\"}},\"scene\":{\"xaxis\":{\"backgroundcolor\":\"white\",\"gridcolor\":\"rgb(232,232,232)\",\"gridwidth\":2,\"linecolor\":\"rgb(36,36,36)\",\"showbackground\":true,\"showgrid\":false,\"showline\":true,\"ticks\":\"outside\",\"zeroline\":false,\"zerolinecolor\":\"rgb(36,36,36)\"},\"yaxis\":{\"backgroundcolor\":\"white\",\"gridcolor\":\"rgb(232,232,232)\",\"gridwidth\":2,\"linecolor\":\"rgb(36,36,36)\",\"showbackground\":true,\"showgrid\":false,\"showline\":true,\"ticks\":\"outside\",\"zeroline\":false,\"zerolinecolor\":\"rgb(36,36,36)\"},\"zaxis\":{\"backgroundcolor\":\"white\",\"gridcolor\":\"rgb(232,232,232)\",\"gridwidth\":2,\"linecolor\":\"rgb(36,36,36)\",\"showbackground\":true,\"showgrid\":false,\"showline\":true,\"ticks\":\"outside\",\"zeroline\":false,\"zerolinecolor\":\"rgb(36,36,36)\"}},\"shapedefaults\":{\"fillcolor\":\"black\",\"line\":{\"width\":0},\"opacity\":0.3},\"ternary\":{\"aaxis\":{\"gridcolor\":\"rgb(232,232,232)\",\"linecolor\":\"rgb(36,36,36)\",\"showgrid\":false,\"showline\":true,\"ticks\":\"outside\"},\"baxis\":{\"gridcolor\":\"rgb(232,232,232)\",\"linecolor\":\"rgb(36,36,36)\",\"showgrid\":false,\"showline\":true,\"ticks\":\"outside\"},\"bgcolor\":\"white\",\"caxis\":{\"gridcolor\":\"rgb(232,232,232)\",\"linecolor\":\"rgb(36,36,36)\",\"showgrid\":false,\"showline\":true,\"ticks\":\"outside\"}},\"title\":{\"x\":0.05},\"xaxis\":{\"automargin\":true,\"gridcolor\":\"rgb(232,232,232)\",\"linecolor\":\"rgb(36,36,36)\",\"showgrid\":false,\"showline\":true,\"ticks\":\"outside\",\"title\":{\"standoff\":15},\"zeroline\":false,\"zerolinecolor\":\"rgb(36,36,36)\"},\"yaxis\":{\"automargin\":true,\"gridcolor\":\"rgb(232,232,232)\",\"linecolor\":\"rgb(36,36,36)\",\"showgrid\":false,\"showline\":true,\"ticks\":\"outside\",\"title\":{\"standoff\":15},\"zeroline\":false,\"zerolinecolor\":\"rgb(36,36,36)\"}}},\"xaxis\":{\"anchor\":\"y\",\"domain\":[0.0,0.98],\"title\":{\"text\":\"dept_hr\"},\"dtick\":1,\"categoryorder\":\"category ascending\"},\"yaxis\":{\"anchor\":\"x\",\"domain\":[0.0,0.14166666666666666],\"title\":{\"text\":\"percentage\"},\"tickformat\":\".0%\"},\"xaxis2\":{\"anchor\":\"y2\",\"domain\":[0.0,0.98],\"matches\":\"x\",\"showticklabels\":false,\"dtick\":1,\"categoryorder\":\"category ascending\"},\"yaxis2\":{\"anchor\":\"x2\",\"domain\":[0.17166666666666666,0.31333333333333335],\"matches\":\"y\",\"title\":{\"text\":\"percentage\"},\"tickformat\":\".0%\"},\"xaxis3\":{\"anchor\":\"y3\",\"domain\":[0.0,0.98],\"matches\":\"x\",\"showticklabels\":false,\"dtick\":1,\"categoryorder\":\"category ascending\"},\"yaxis3\":{\"anchor\":\"x3\",\"domain\":[0.3433333333333333,0.485],\"matches\":\"y\",\"title\":{\"text\":\"percentage\"},\"tickformat\":\".0%\"},\"xaxis4\":{\"anchor\":\"y4\",\"domain\":[0.0,0.98],\"matches\":\"x\",\"showticklabels\":false,\"dtick\":1,\"categoryorder\":\"category ascending\"},\"yaxis4\":{\"anchor\":\"x4\",\"domain\":[0.515,0.6566666666666667],\"matches\":\"y\",\"title\":{\"text\":\"percentage\"},\"tickformat\":\".0%\"},\"xaxis5\":{\"anchor\":\"y5\",\"domain\":[0.0,0.98],\"matches\":\"x\",\"showticklabels\":false,\"dtick\":1,\"categoryorder\":\"category ascending\"},\"yaxis5\":{\"anchor\":\"x5\",\"domain\":[0.6866666666666666,0.8283333333333334],\"matches\":\"y\",\"title\":{\"text\":\"percentage\"},\"tickformat\":\".0%\"},\"xaxis6\":{\"anchor\":\"y6\",\"domain\":[0.0,0.98],\"matches\":\"x\",\"showticklabels\":false,\"dtick\":1,\"categoryorder\":\"category ascending\"},\"yaxis6\":{\"anchor\":\"x6\",\"domain\":[0.8583333333333333,1.0],\"matches\":\"y\",\"title\":{\"text\":\"percentage\"},\"tickformat\":\".0%\"},\"annotations\":[{\"font\":{},\"showarrow\":false,\"text\":\"Personal Business\",\"textangle\":90,\"x\":0.98,\"xanchor\":\"left\",\"xref\":\"paper\",\"y\":0.07083333333333333,\"yanchor\":\"middle\",\"yref\":\"paper\"},{\"font\":{},\"showarrow\":false,\"text\":\"Escort\",\"textangle\":90,\"x\":0.98,\"xanchor\":\"left\",\"xref\":\"paper\",\"y\":0.2425,\"yanchor\":\"middle\",\"yref\":\"paper\"},{\"font\":{},\"showarrow\":false,\"text\":\"Meal\",\"textangle\":90,\"x\":0.98,\"xanchor\":\"left\",\"xref\":\"paper\",\"y\":0.4141666666666667,\"yanchor\":\"middle\",\"yref\":\"paper\"},{\"font\":{},\"showarrow\":false,\"text\":\"Shop\",\"textangle\":90,\"x\":0.98,\"xanchor\":\"left\",\"xref\":\"paper\",\"y\":0.5858333333333334,\"yanchor\":\"middle\",\"yref\":\"paper\"},{\"font\":{},\"showarrow\":false,\"text\":\"School\",\"textangle\":90,\"x\":0.98,\"xanchor\":\"left\",\"xref\":\"paper\",\"y\":0.7575000000000001,\"yanchor\":\"middle\",\"yref\":\"paper\"},{\"font\":{},\"showarrow\":false,\"text\":\"Work\",\"textangle\":90,\"x\":0.98,\"xanchor\":\"left\",\"xref\":\"paper\",\"y\":0.9291666666666667,\"yanchor\":\"middle\",\"yref\":\"paper\"}],\"legend\":{\"title\":{\"text\":\"source\"},\"tracegroupgap\":0},\"title\":{\"text\":\"trip origin departure hour by purpose\"},\"barmode\":\"group\",\"height\":1500,\"width\":850},                        {\"responsive\": true}                    ).then(function(){\n",
       "                            \n",
       "var gd = document.getElementById('a7bf83bf-2cc5-45cc-aaba-464a487c0db4');\n",
       "var x = new MutationObserver(function (mutations, observer) {{\n",
       "        var display = window.getComputedStyle(gd).display;\n",
       "        if (!display || display === 'none') {{\n",
       "            console.log([gd, 'removed!']);\n",
       "            Plotly.purge(gd);\n",
       "            observer.disconnect();\n",
       "        }}\n",
       "}});\n",
       "\n",
       "// Listen for the removal of the full notebook cells\n",
       "var notebookContainer = gd.closest('#notebook-container');\n",
       "if (notebookContainer) {{\n",
       "    x.observe(notebookContainer, {childList: true});\n",
       "}}\n",
       "\n",
       "// Listen for the clearing of the current output cell\n",
       "var outputEl = gd.closest('.output');\n",
       "if (outputEl) {{\n",
       "    x.observe(outputEl, {childList: true});\n",
       "}}\n",
       "\n",
       "                        })                };                });            </script>        </div>"
      ]
     },
     "metadata": {},
     "output_type": "display_data"
    }
   ],
   "source": [
    "df_plot = df_trip.groupby(['dept_hr','dpurp_label','source'])['trexpfac'].agg(sample_count='size', trexpfac='sum').reset_index()\n",
    "df_plot['percentage'] = df_plot.groupby(['dpurp_label','source'], group_keys=False)['trexpfac']. \\\n",
    "    apply(lambda x: x / float(x.sum()))\n",
    "\n",
    "fig = px.bar(df_plot.sort_values(['source','dpurp_label']),\n",
    "             x=\"dept_hr\", y=\"percentage\", color=\"source\",barmode=\"group\",\n",
    "             facet_row='dpurp_label',\n",
    "             hover_data=['trexpfac','sample_count'],\n",
    "             title=\"trip origin departure hour by purpose\")\n",
    "fig.update_layout(height=1500, width=850)\n",
    "fig.for_each_annotation(lambda a: a.update(text = a.text.split(\"=\")[-1]))\n",
    "fig.for_each_xaxis(lambda a: a.update(dict(dtick = 1, categoryorder='category ascending')))\n",
    "fig.for_each_yaxis(lambda a: a.update(dict(tickformat=\".0%\")))\n",
    "fig.show()"
   ]
  },
  {
   "cell_type": "raw",
   "metadata": {
    "vscode": {
     "languageId": "raw"
    }
   },
   "source": [
    ":::"
   ]
  }
 ],
 "metadata": {
  "kernelspec": {
   "display_name": "build_notebook",
   "language": "python",
   "name": "python3"
  },
  "language_info": {
   "codemirror_mode": {
    "name": "ipython",
    "version": 3
   },
   "file_extension": ".py",
   "mimetype": "text/x-python",
   "name": "python",
   "nbconvert_exporter": "python",
   "pygments_lexer": "ipython3",
   "version": "3.10.15"
  }
 },
 "nbformat": 4,
 "nbformat_minor": 2
}
