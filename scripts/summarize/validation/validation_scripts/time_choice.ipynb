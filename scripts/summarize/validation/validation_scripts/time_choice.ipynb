{
 "cells": [
  {
   "cell_type": "raw",
   "metadata": {},
   "source": [
    "---\n",
    "title: \"Time Choice\"\n",
    "date: today\n",
    "---"
   ]
  },
  {
   "cell_type": "code",
   "execution_count": 1,
   "metadata": {
    "ExecuteTime": {
     "end_time": "2024-07-15T04:25:53.491736Z",
     "start_time": "2024-07-15T04:25:52.116355Z"
    },
    "execution": {
     "iopub.execute_input": "2025-01-21T07:15:01.773370Z",
     "iopub.status.busy": "2025-01-21T07:15:01.771449Z",
     "iopub.status.idle": "2025-01-21T07:15:04.683882Z",
     "shell.execute_reply": "2025-01-21T07:15:04.682232Z"
    }
   },
   "outputs": [],
   "source": [
    "import os\n",
    "import pandas as pd\n",
    "import numpy as np\n",
    "# import validation_data_input\n",
    "import plotly.express as px\n",
    "import toml\n",
    "import polars as pl\n",
    "from pathlib import Path\n",
    "import util\n",
    "import math\n",
    "import psrc_theme\n",
    "\n",
    "# to show plotly figures in quarto HTML file\n",
    "import plotly.io as pio\n",
    "pio.renderers.default = \"plotly_mimetype+notebook_connected\"\n",
    "pio.templates.default = \"simple_white+psrc_color\" # set plotly template"
   ]
  },
  {
   "cell_type": "code",
   "execution_count": 2,
   "metadata": {
    "ExecuteTime": {
     "end_time": "2024-07-15T04:26:18.475538Z",
     "start_time": "2024-07-15T04:25:57.037934Z"
    },
    "execution": {
     "iopub.execute_input": "2025-01-21T07:15:04.693991Z",
     "iopub.status.busy": "2025-01-21T07:15:04.693469Z",
     "iopub.status.idle": "2025-01-21T07:15:20.222468Z",
     "shell.execute_reply": "2025-01-21T07:15:20.219893Z"
    }
   },
   "outputs": [],
   "source": [
    "# %store -r validation_data\n",
    "\n",
    "# config = validation_data.config.copy()\n",
    "# tour = validation_data.tour.copy()\n",
    "# trip = validation_data.trip.copy()\n",
    "\n",
    "config = toml.load(Path(Path.cwd(), '..\\..\\..\\..\\configuration', 'validation_configuration.toml'))\n",
    "input_config = toml.load(Path(Path.cwd(), '..\\..\\..\\..\\configuration', 'input_configuration.toml'))\n",
    "\n",
    "data = util.ValidationData(config,input_config,['trip', 'tour'])\n",
    "\n",
    "tour = data.tour.to_pandas()\n",
    "trip = data.trip.to_pandas()"
   ]
  },
  {
   "cell_type": "code",
   "execution_count": 3,
   "metadata": {
    "ExecuteTime": {
     "end_time": "2024-07-15T04:36:01.318077Z",
     "start_time": "2024-07-15T04:35:58.005548Z"
    },
    "collapsed": false,
    "execution": {
     "iopub.execute_input": "2025-01-21T07:15:20.235367Z",
     "iopub.status.busy": "2025-01-21T07:15:20.233373Z",
     "iopub.status.idle": "2025-01-21T07:15:32.449402Z",
     "shell.execute_reply": "2025-01-21T07:15:32.447410Z"
    }
   },
   "outputs": [],
   "source": [
    "# df_person = person.copy()\n",
    "df_tour = tour.copy()\n",
    "df_trip = trip.copy()\n",
    "\n",
    "# ptype_cat = {1: \"1: full time worker\",\n",
    "#              2: \"2: part time worker\",\n",
    "#              3: \"3: non-worker age 65+\",\n",
    "#              4: \"4: other non-working adult\",\n",
    "#              5: \"5: university student\",\n",
    "#              6: \"6: grade school student/child age 16+\",\n",
    "#              7: \"7: child age 5-15\",\n",
    "#              8: \"8: child age 0-4\"}\n",
    "pdpurp_cat = {1: \"Work\",\n",
    "              2: \"School\",\n",
    "              3: \"Escort\",\n",
    "              4: \"Personal Business\",\n",
    "              5: \"Shop\",\n",
    "              6: \"Meal\",\n",
    "              7: \"Social\",\n",
    "              8: \"Social\",\n",
    "              9: \"Personal Business\"}\n",
    "# df_person['pptyp_label'] = df_person['pptyp'].map(ptype_cat)\n",
    "# df_person['pptyp_label'] = df_person['pptyp_label'].astype(pd.CategoricalDtype([\"1: full time worker\",\"2: part time worker\",\"3: non-worker age 65+\",\"4: other non-working adult\",\"5: university student\",\"6: grade school student/child age 16+\",\"7: child age 5-15\",\"8: child age 0-4\"]))\n",
    "\n",
    "df_tour['pdpurp_label'] = df_tour['pdpurp'].map(pdpurp_cat)\n",
    "df_tour['pdpurp_label'] = df_tour['pdpurp_label'].astype(pd.CategoricalDtype([\"Work\",\"School\",\"Shop\",\"Meal\",\"Escort\",\"Personal Business\"]))\n",
    "\n",
    "df_tour['tlvorg_hr'] = df_tour['tlvorig'].apply(lambda row: int(math.floor(row/60)))\n",
    "\n",
    "\n",
    "df_trip['dpurp_label'] = df_trip['dpurp'].map(pdpurp_cat)\n",
    "df_trip['dpurp_label'] = df_trip['dpurp_label'].astype(pd.CategoricalDtype([\"Work\",\"School\",\"Shop\",\"Meal\",\"Escort\",\"Personal Business\"]))\n",
    "\n",
    "df_trip['dept_hr'] = df_trip['deptm'].apply(lambda row: int(math.floor(row/60)))\n",
    "\n",
    "# df_tour = df_tour.merge(df_person, how='left', on=['pno','hhno','source'])"
   ]
  },
  {
   "cell_type": "markdown",
   "metadata": {},
   "source": [
    "## departure hour"
   ]
  },
  {
   "cell_type": "raw",
   "metadata": {
    "vscode": {
     "languageId": "raw"
    }
   },
   "source": [
    ":::{.panel-tabset}\n",
    "### tour"
   ]
  },
  {
   "cell_type": "code",
   "execution_count": 4,
   "metadata": {
    "ExecuteTime": {
     "end_time": "2024-07-15T04:37:09.021826Z",
     "start_time": "2024-07-15T04:37:08.286683Z"
    },
    "collapsed": false,
    "execution": {
     "iopub.execute_input": "2025-01-21T07:15:32.462368Z",
     "iopub.status.busy": "2025-01-21T07:15:32.460374Z",
     "iopub.status.idle": "2025-01-21T07:15:33.316015Z",
     "shell.execute_reply": "2025-01-21T07:15:33.315014Z"
    }
   },
   "outputs": [
    {
     "data": {
      "text/html": [
       "        <script type=\"text/javascript\">\n",
       "        window.PlotlyConfig = {MathJaxConfig: 'local'};\n",
       "        if (window.MathJax && window.MathJax.Hub && window.MathJax.Hub.Config) {window.MathJax.Hub.Config({SVG: {font: \"STIX-Web\"}});}\n",
       "        if (typeof require !== 'undefined') {\n",
       "        require.undef(\"plotly\");\n",
       "        requirejs.config({\n",
       "            paths: {\n",
       "                'plotly': ['https://cdn.plot.ly/plotly-2.27.0.min']\n",
       "            }\n",
       "        });\n",
       "        require(['plotly'], function(Plotly) {\n",
       "            window._Plotly = Plotly;\n",
       "        });\n",
       "        }\n",
       "        </script>\n",
       "        "
      ]
     },
     "metadata": {},
     "output_type": "display_data"
    },
    {
     "data": {
      "application/vnd.plotly.v1+json": {
       "config": {
        "plotlyServerURL": "https://plot.ly"
       },
       "data": [
        {
         "alignmentgroup": "True",
         "customdata": [
          [
           3559,
           3559
          ],
          [
           2366,
           2366
          ],
          [
           906,
           906
          ],
          [
           68700,
           68700
          ],
          [
           59962,
           59962
          ],
          [
           134354,
           134354
          ],
          [
           389890,
           389890
          ],
          [
           623958,
           623958
          ],
          [
           671801,
           671801
          ],
          [
           529578,
           529578
          ],
          [
           429803,
           429803
          ],
          [
           346207,
           346207
          ],
          [
           316684,
           316684
          ],
          [
           311943,
           311943
          ],
          [
           278137,
           278137
          ],
          [
           262237,
           262237
          ],
          [
           290831,
           290831
          ],
          [
           278779,
           278779
          ],
          [
           259408,
           259408
          ],
          [
           161390,
           161390
          ],
          [
           117247,
           117247
          ],
          [
           69579,
           69579
          ],
          [
           18263,
           18263
          ],
          [
           8847,
           8847
          ]
         ],
         "hovertemplate": "source=model<br>tlvorg_hr=%{x}<br>percentage=%{y}<br>toexpfac=%{customdata[0]}<br>sample_count=%{customdata[1]}<extra></extra>",
         "legendgroup": "model",
         "marker": {
          "color": "#91268F",
          "pattern": {
           "shape": ""
          }
         },
         "name": "model",
         "offsetgroup": "model",
         "orientation": "v",
         "showlegend": true,
         "textposition": "auto",
         "type": "bar",
         "x": [
          0,
          1,
          2,
          3,
          4,
          5,
          6,
          7,
          8,
          9,
          10,
          11,
          12,
          13,
          14,
          15,
          16,
          17,
          18,
          19,
          20,
          21,
          22,
          23
         ],
         "xaxis": "x",
         "y": [
          0.0006316522934267163,
          0.00041991832712773557,
          0.0001607971278012377,
          0.012192894790226304,
          0.010642072160284564,
          0.023845184667337187,
          0.06919778383932072,
          0.11074023649956366,
          0.11923142522516479,
          0.09398964828556718,
          0.07628155399597723,
          0.061444913051526606,
          0.0562051629366525,
          0.055363728959935424,
          0.04936383083361242,
          0.046541894484782756,
          0.05161676542556486,
          0.04947777316920667,
          0.04603980279101928,
          0.028643541341988692,
          0.02080902962837938,
          0.012348899950642736,
          0.00324132223513687,
          0.0015701679797544702
         ],
         "yaxis": "y"
        },
        {
         "alignmentgroup": "True",
         "customdata": [
          [
           813.007669491988,
           3
          ],
          [
           343.465611943163,
           2
          ],
          [
           617.9592545767886,
           3
          ],
          [
           14927.7390869082,
           25
          ],
          [
           73101.81441058991,
           78
          ],
          [
           163636.25248424156,
           191
          ],
          [
           335652.1346855101,
           553
          ],
          [
           730811.1492257961,
           1232
          ],
          [
           697157.1239973352,
           1310
          ],
          [
           433940.27310888877,
           873
          ],
          [
           255033.28585273182,
           740
          ],
          [
           267196.56493251026,
           625
          ],
          [
           235334.41681136526,
           650
          ],
          [
           203713.77330905438,
           564
          ],
          [
           298164.4385508458,
           602
          ],
          [
           329066.499373072,
           629
          ],
          [
           254572.78014360945,
           576
          ],
          [
           328088.4841268239,
           738
          ],
          [
           218232.93433914715,
           539
          ],
          [
           137976.20783799535,
           361
          ],
          [
           40884.94150500456,
           149
          ],
          [
           8589.542691990911,
           72
          ],
          [
           18856.86935525195,
           32
          ],
          [
           4010.3878365157243,
           10
          ]
         ],
         "hovertemplate": "source=survey<br>tlvorg_hr=%{x}<br>percentage=%{y}<br>toexpfac=%{customdata[0]}<br>sample_count=%{customdata[1]}<extra></extra>",
         "legendgroup": "survey",
         "marker": {
          "color": "#8CC63E",
          "pattern": {
           "shape": ""
          }
         },
         "name": "survey",
         "offsetgroup": "survey",
         "orientation": "v",
         "showlegend": true,
         "textposition": "auto",
         "type": "bar",
         "x": [
          0,
          1,
          2,
          3,
          4,
          5,
          6,
          7,
          8,
          9,
          10,
          11,
          12,
          13,
          14,
          15,
          16,
          17,
          18,
          19,
          20,
          21,
          22,
          23
         ],
         "xaxis": "x",
         "y": [
          0.00016096860251960915,
          0.00006800326939422331,
          0.00012235067559133932,
          0.002955565352905492,
          0.014473537395622866,
          0.032398585981843385,
          0.06645626736437894,
          0.1446943907308186,
          0.13803118002141654,
          0.08591648266118075,
          0.050494421098573425,
          0.05290264688659255,
          0.04659421260141752,
          0.04033359417635616,
          0.05903402242756641,
          0.06515236759476258,
          0.05040324488556666,
          0.06495872889572078,
          0.04320826454967695,
          0.027318115425055196,
          0.008094870620677957,
          0.0017006563840612382,
          0.00373349972197238,
          0.0007940226763284385
         ],
         "yaxis": "y"
        },
        {
         "alignmentgroup": "True",
         "customdata": [
          [
           818.5256193266234,
           8
          ],
          [
           72.74800084760997,
           4
          ],
          [
           13907.131040594093,
           47
          ],
          [
           60835.64202104887,
           193
          ],
          [
           210793.99623853827,
           614
          ],
          [
           463781.3517357327,
           1742
          ],
          [
           728580.9263172249,
           3462
          ],
          [
           686425.8292300161,
           3437
          ],
          [
           515595.76181018155,
           2078
          ],
          [
           378753.0073236868,
           1390
          ],
          [
           378741.1542697413,
           1253
          ],
          [
           278401.2763422068,
           1252
          ],
          [
           194406.73941974936,
           1004
          ],
          [
           230822.26930435197,
           927
          ],
          [
           277120.1887803305,
           1021
          ],
          [
           235919.8171498617,
           1105
          ],
          [
           410021.9613104888,
           1314
          ],
          [
           247964.640927774,
           1373
          ],
          [
           148297.12773754026,
           880
          ],
          [
           58633.34622816313,
           418
          ],
          [
           32946.760561780335,
           185
          ],
          [
           9024.61318524568,
           61
          ],
          [
           3629.930451363425,
           18
          ]
         ],
         "hovertemplate": "source=survey (2017/2019)<br>tlvorg_hr=%{x}<br>percentage=%{y}<br>toexpfac=%{customdata[0]}<br>sample_count=%{customdata[1]}<extra></extra>",
         "legendgroup": "survey (2017/2019)",
         "marker": {
          "color": "#00A7A0",
          "pattern": {
           "shape": ""
          }
         },
         "name": "survey (2017/2019)",
         "offsetgroup": "survey (2017/2019)",
         "orientation": "v",
         "showlegend": true,
         "textposition": "auto",
         "type": "bar",
         "x": [
          0,
          2,
          3,
          4,
          5,
          6,
          7,
          8,
          9,
          10,
          11,
          12,
          13,
          14,
          15,
          16,
          17,
          18,
          19,
          20,
          21,
          22,
          23
         ],
         "xaxis": "x",
         "y": [
          0.00014707149262177074,
          0.000013071254970259475,
          0.0024988130755264266,
          0.010930859664478139,
          0.037875158615088916,
          0.08333155864569051,
          0.1309103610188507,
          0.12333599449464605,
          0.0926414964766344,
          0.0680537894072331,
          0.06805165966774208,
          0.05002273635996704,
          0.03493072014742275,
          0.04147380958565826,
          0.04979255241036833,
          0.04238972956745036,
          0.07367214957455898,
          0.04455392598300187,
          0.026645812193177423,
          0.010535154359956563,
          0.005919826012116024,
          0.0016215293695756217,
          0.0006522206232645803
         ],
         "yaxis": "y"
        }
       ],
       "layout": {
        "barmode": "group",
        "font": {
         "size": 11
        },
        "height": 400,
        "legend": {
         "title": {
          "text": "source"
         },
         "tracegroupgap": 0
        },
        "template": {
         "data": {
          "bar": [
           {
            "error_x": {
             "color": "rgb(36,36,36)"
            },
            "error_y": {
             "color": "rgb(36,36,36)"
            },
            "marker": {
             "line": {
              "color": "white",
              "width": 0.5
             },
             "pattern": {
              "fillmode": "overlay",
              "size": 10,
              "solidity": 0.2
             }
            },
            "type": "bar"
           }
          ],
          "barpolar": [
           {
            "marker": {
             "line": {
              "color": "white",
              "width": 0.5
             },
             "pattern": {
              "fillmode": "overlay",
              "size": 10,
              "solidity": 0.2
             }
            },
            "type": "barpolar"
           }
          ],
          "carpet": [
           {
            "aaxis": {
             "endlinecolor": "rgb(36,36,36)",
             "gridcolor": "white",
             "linecolor": "white",
             "minorgridcolor": "white",
             "startlinecolor": "rgb(36,36,36)"
            },
            "baxis": {
             "endlinecolor": "rgb(36,36,36)",
             "gridcolor": "white",
             "linecolor": "white",
             "minorgridcolor": "white",
             "startlinecolor": "rgb(36,36,36)"
            },
            "type": "carpet"
           }
          ],
          "choropleth": [
           {
            "colorbar": {
             "outlinewidth": 1,
             "tickcolor": "rgb(36,36,36)",
             "ticks": "outside"
            },
            "type": "choropleth"
           }
          ],
          "contour": [
           {
            "colorbar": {
             "outlinewidth": 1,
             "tickcolor": "rgb(36,36,36)",
             "ticks": "outside"
            },
            "colorscale": [
             [
              0,
              "#440154"
             ],
             [
              0.1111111111111111,
              "#482878"
             ],
             [
              0.2222222222222222,
              "#3e4989"
             ],
             [
              0.3333333333333333,
              "#31688e"
             ],
             [
              0.4444444444444444,
              "#26828e"
             ],
             [
              0.5555555555555556,
              "#1f9e89"
             ],
             [
              0.6666666666666666,
              "#35b779"
             ],
             [
              0.7777777777777778,
              "#6ece58"
             ],
             [
              0.8888888888888888,
              "#b5de2b"
             ],
             [
              1,
              "#fde725"
             ]
            ],
            "type": "contour"
           }
          ],
          "contourcarpet": [
           {
            "colorbar": {
             "outlinewidth": 1,
             "tickcolor": "rgb(36,36,36)",
             "ticks": "outside"
            },
            "type": "contourcarpet"
           }
          ],
          "heatmap": [
           {
            "colorbar": {
             "outlinewidth": 1,
             "tickcolor": "rgb(36,36,36)",
             "ticks": "outside"
            },
            "colorscale": [
             [
              0,
              "#440154"
             ],
             [
              0.1111111111111111,
              "#482878"
             ],
             [
              0.2222222222222222,
              "#3e4989"
             ],
             [
              0.3333333333333333,
              "#31688e"
             ],
             [
              0.4444444444444444,
              "#26828e"
             ],
             [
              0.5555555555555556,
              "#1f9e89"
             ],
             [
              0.6666666666666666,
              "#35b779"
             ],
             [
              0.7777777777777778,
              "#6ece58"
             ],
             [
              0.8888888888888888,
              "#b5de2b"
             ],
             [
              1,
              "#fde725"
             ]
            ],
            "type": "heatmap"
           }
          ],
          "heatmapgl": [
           {
            "colorbar": {
             "outlinewidth": 1,
             "tickcolor": "rgb(36,36,36)",
             "ticks": "outside"
            },
            "colorscale": [
             [
              0,
              "#440154"
             ],
             [
              0.1111111111111111,
              "#482878"
             ],
             [
              0.2222222222222222,
              "#3e4989"
             ],
             [
              0.3333333333333333,
              "#31688e"
             ],
             [
              0.4444444444444444,
              "#26828e"
             ],
             [
              0.5555555555555556,
              "#1f9e89"
             ],
             [
              0.6666666666666666,
              "#35b779"
             ],
             [
              0.7777777777777778,
              "#6ece58"
             ],
             [
              0.8888888888888888,
              "#b5de2b"
             ],
             [
              1,
              "#fde725"
             ]
            ],
            "type": "heatmapgl"
           }
          ],
          "histogram": [
           {
            "marker": {
             "line": {
              "color": "white",
              "width": 0.6
             }
            },
            "type": "histogram"
           }
          ],
          "histogram2d": [
           {
            "colorbar": {
             "outlinewidth": 1,
             "tickcolor": "rgb(36,36,36)",
             "ticks": "outside"
            },
            "colorscale": [
             [
              0,
              "#440154"
             ],
             [
              0.1111111111111111,
              "#482878"
             ],
             [
              0.2222222222222222,
              "#3e4989"
             ],
             [
              0.3333333333333333,
              "#31688e"
             ],
             [
              0.4444444444444444,
              "#26828e"
             ],
             [
              0.5555555555555556,
              "#1f9e89"
             ],
             [
              0.6666666666666666,
              "#35b779"
             ],
             [
              0.7777777777777778,
              "#6ece58"
             ],
             [
              0.8888888888888888,
              "#b5de2b"
             ],
             [
              1,
              "#fde725"
             ]
            ],
            "type": "histogram2d"
           }
          ],
          "histogram2dcontour": [
           {
            "colorbar": {
             "outlinewidth": 1,
             "tickcolor": "rgb(36,36,36)",
             "ticks": "outside"
            },
            "colorscale": [
             [
              0,
              "#440154"
             ],
             [
              0.1111111111111111,
              "#482878"
             ],
             [
              0.2222222222222222,
              "#3e4989"
             ],
             [
              0.3333333333333333,
              "#31688e"
             ],
             [
              0.4444444444444444,
              "#26828e"
             ],
             [
              0.5555555555555556,
              "#1f9e89"
             ],
             [
              0.6666666666666666,
              "#35b779"
             ],
             [
              0.7777777777777778,
              "#6ece58"
             ],
             [
              0.8888888888888888,
              "#b5de2b"
             ],
             [
              1,
              "#fde725"
             ]
            ],
            "type": "histogram2dcontour"
           }
          ],
          "mesh3d": [
           {
            "colorbar": {
             "outlinewidth": 1,
             "tickcolor": "rgb(36,36,36)",
             "ticks": "outside"
            },
            "type": "mesh3d"
           }
          ],
          "parcoords": [
           {
            "line": {
             "colorbar": {
              "outlinewidth": 1,
              "tickcolor": "rgb(36,36,36)",
              "ticks": "outside"
             }
            },
            "type": "parcoords"
           }
          ],
          "pie": [
           {
            "automargin": true,
            "type": "pie"
           }
          ],
          "scatter": [
           {
            "fillpattern": {
             "fillmode": "overlay",
             "size": 10,
             "solidity": 0.2
            },
            "type": "scatter"
           }
          ],
          "scatter3d": [
           {
            "line": {
             "colorbar": {
              "outlinewidth": 1,
              "tickcolor": "rgb(36,36,36)",
              "ticks": "outside"
             }
            },
            "marker": {
             "colorbar": {
              "outlinewidth": 1,
              "tickcolor": "rgb(36,36,36)",
              "ticks": "outside"
             }
            },
            "type": "scatter3d"
           }
          ],
          "scattercarpet": [
           {
            "marker": {
             "colorbar": {
              "outlinewidth": 1,
              "tickcolor": "rgb(36,36,36)",
              "ticks": "outside"
             }
            },
            "type": "scattercarpet"
           }
          ],
          "scattergeo": [
           {
            "marker": {
             "colorbar": {
              "outlinewidth": 1,
              "tickcolor": "rgb(36,36,36)",
              "ticks": "outside"
             }
            },
            "type": "scattergeo"
           }
          ],
          "scattergl": [
           {
            "marker": {
             "colorbar": {
              "outlinewidth": 1,
              "tickcolor": "rgb(36,36,36)",
              "ticks": "outside"
             }
            },
            "type": "scattergl"
           }
          ],
          "scattermapbox": [
           {
            "marker": {
             "colorbar": {
              "outlinewidth": 1,
              "tickcolor": "rgb(36,36,36)",
              "ticks": "outside"
             }
            },
            "type": "scattermapbox"
           }
          ],
          "scatterpolar": [
           {
            "marker": {
             "colorbar": {
              "outlinewidth": 1,
              "tickcolor": "rgb(36,36,36)",
              "ticks": "outside"
             }
            },
            "type": "scatterpolar"
           }
          ],
          "scatterpolargl": [
           {
            "marker": {
             "colorbar": {
              "outlinewidth": 1,
              "tickcolor": "rgb(36,36,36)",
              "ticks": "outside"
             }
            },
            "type": "scatterpolargl"
           }
          ],
          "scatterternary": [
           {
            "marker": {
             "colorbar": {
              "outlinewidth": 1,
              "tickcolor": "rgb(36,36,36)",
              "ticks": "outside"
             }
            },
            "type": "scatterternary"
           }
          ],
          "surface": [
           {
            "colorbar": {
             "outlinewidth": 1,
             "tickcolor": "rgb(36,36,36)",
             "ticks": "outside"
            },
            "colorscale": [
             [
              0,
              "#440154"
             ],
             [
              0.1111111111111111,
              "#482878"
             ],
             [
              0.2222222222222222,
              "#3e4989"
             ],
             [
              0.3333333333333333,
              "#31688e"
             ],
             [
              0.4444444444444444,
              "#26828e"
             ],
             [
              0.5555555555555556,
              "#1f9e89"
             ],
             [
              0.6666666666666666,
              "#35b779"
             ],
             [
              0.7777777777777778,
              "#6ece58"
             ],
             [
              0.8888888888888888,
              "#b5de2b"
             ],
             [
              1,
              "#fde725"
             ]
            ],
            "type": "surface"
           }
          ],
          "table": [
           {
            "cells": {
             "fill": {
              "color": "rgb(237,237,237)"
             },
             "line": {
              "color": "white"
             }
            },
            "header": {
             "fill": {
              "color": "rgb(217,217,217)"
             },
             "line": {
              "color": "white"
             }
            },
            "type": "table"
           }
          ]
         },
         "layout": {
          "annotationdefaults": {
           "arrowhead": 0,
           "arrowwidth": 1
          },
          "autotypenumbers": "strict",
          "coloraxis": {
           "colorbar": {
            "outlinewidth": 1,
            "tickcolor": "rgb(36,36,36)",
            "ticks": "outside"
           }
          },
          "colorscale": {
           "diverging": [
            [
             0,
             "rgb(103,0,31)"
            ],
            [
             0.1,
             "rgb(178,24,43)"
            ],
            [
             0.2,
             "rgb(214,96,77)"
            ],
            [
             0.3,
             "rgb(244,165,130)"
            ],
            [
             0.4,
             "rgb(253,219,199)"
            ],
            [
             0.5,
             "rgb(247,247,247)"
            ],
            [
             0.6,
             "rgb(209,229,240)"
            ],
            [
             0.7,
             "rgb(146,197,222)"
            ],
            [
             0.8,
             "rgb(67,147,195)"
            ],
            [
             0.9,
             "rgb(33,102,172)"
            ],
            [
             1,
             "rgb(5,48,97)"
            ]
           ],
           "sequential": [
            [
             0,
             "#440154"
            ],
            [
             0.1111111111111111,
             "#482878"
            ],
            [
             0.2222222222222222,
             "#3e4989"
            ],
            [
             0.3333333333333333,
             "#31688e"
            ],
            [
             0.4444444444444444,
             "#26828e"
            ],
            [
             0.5555555555555556,
             "#1f9e89"
            ],
            [
             0.6666666666666666,
             "#35b779"
            ],
            [
             0.7777777777777778,
             "#6ece58"
            ],
            [
             0.8888888888888888,
             "#b5de2b"
            ],
            [
             1,
             "#fde725"
            ]
           ],
           "sequentialminus": [
            [
             0,
             "#440154"
            ],
            [
             0.1111111111111111,
             "#482878"
            ],
            [
             0.2222222222222222,
             "#3e4989"
            ],
            [
             0.3333333333333333,
             "#31688e"
            ],
            [
             0.4444444444444444,
             "#26828e"
            ],
            [
             0.5555555555555556,
             "#1f9e89"
            ],
            [
             0.6666666666666666,
             "#35b779"
            ],
            [
             0.7777777777777778,
             "#6ece58"
            ],
            [
             0.8888888888888888,
             "#b5de2b"
            ],
            [
             1,
             "#fde725"
            ]
           ]
          },
          "colorway": [
           "#91268F",
           "#8CC63E",
           "#00A7A0",
           "#F05A28",
           "#4C4C4C",
           "#630460",
           "#9f3913",
           "#588527",
           "#00716c",
           "#3e4040"
          ],
          "font": {
           "color": "rgb(36,36,36)",
           "family": "Poppins",
           "size": 11
          },
          "geo": {
           "bgcolor": "white",
           "lakecolor": "white",
           "landcolor": "white",
           "showlakes": true,
           "showland": true,
           "subunitcolor": "white"
          },
          "hoverlabel": {
           "align": "left"
          },
          "hovermode": "closest",
          "mapbox": {
           "style": "light"
          },
          "paper_bgcolor": "white",
          "plot_bgcolor": "white",
          "polar": {
           "angularaxis": {
            "gridcolor": "rgb(232,232,232)",
            "linecolor": "rgb(36,36,36)",
            "showgrid": false,
            "showline": true,
            "ticks": "outside"
           },
           "bgcolor": "white",
           "radialaxis": {
            "gridcolor": "rgb(232,232,232)",
            "linecolor": "rgb(36,36,36)",
            "showgrid": false,
            "showline": true,
            "ticks": "outside"
           }
          },
          "scene": {
           "xaxis": {
            "backgroundcolor": "white",
            "gridcolor": "rgb(232,232,232)",
            "gridwidth": 2,
            "linecolor": "rgb(36,36,36)",
            "showbackground": true,
            "showgrid": false,
            "showline": true,
            "ticks": "outside",
            "zeroline": false,
            "zerolinecolor": "rgb(36,36,36)"
           },
           "yaxis": {
            "backgroundcolor": "white",
            "gridcolor": "rgb(232,232,232)",
            "gridwidth": 2,
            "linecolor": "rgb(36,36,36)",
            "showbackground": true,
            "showgrid": false,
            "showline": true,
            "ticks": "outside",
            "zeroline": false,
            "zerolinecolor": "rgb(36,36,36)"
           },
           "zaxis": {
            "backgroundcolor": "white",
            "gridcolor": "rgb(232,232,232)",
            "gridwidth": 2,
            "linecolor": "rgb(36,36,36)",
            "showbackground": true,
            "showgrid": false,
            "showline": true,
            "ticks": "outside",
            "zeroline": false,
            "zerolinecolor": "rgb(36,36,36)"
           }
          },
          "shapedefaults": {
           "fillcolor": "black",
           "line": {
            "width": 0
           },
           "opacity": 0.3
          },
          "ternary": {
           "aaxis": {
            "gridcolor": "rgb(232,232,232)",
            "linecolor": "rgb(36,36,36)",
            "showgrid": false,
            "showline": true,
            "ticks": "outside"
           },
           "baxis": {
            "gridcolor": "rgb(232,232,232)",
            "linecolor": "rgb(36,36,36)",
            "showgrid": false,
            "showline": true,
            "ticks": "outside"
           },
           "bgcolor": "white",
           "caxis": {
            "gridcolor": "rgb(232,232,232)",
            "linecolor": "rgb(36,36,36)",
            "showgrid": false,
            "showline": true,
            "ticks": "outside"
           }
          },
          "title": {
           "x": 0.05
          },
          "xaxis": {
           "automargin": true,
           "gridcolor": "rgb(232,232,232)",
           "linecolor": "rgb(36,36,36)",
           "showgrid": false,
           "showline": true,
           "ticks": "outside",
           "title": {
            "standoff": 15
           },
           "zeroline": false,
           "zerolinecolor": "rgb(36,36,36)"
          },
          "yaxis": {
           "automargin": true,
           "gridcolor": "rgb(232,232,232)",
           "linecolor": "rgb(36,36,36)",
           "showgrid": false,
           "showline": true,
           "ticks": "outside",
           "title": {
            "standoff": 15
           },
           "zeroline": false,
           "zerolinecolor": "rgb(36,36,36)"
          }
         }
        },
        "title": {
         "text": "tour origin departure hour"
        },
        "width": 700,
        "xaxis": {
         "anchor": "y",
         "categoryorder": "category ascending",
         "domain": [
          0,
          1
         ],
         "dtick": 1,
         "title": {
          "text": "tlvorg_hr"
         }
        },
        "yaxis": {
         "anchor": "x",
         "domain": [
          0,
          1
         ],
         "tickformat": ".0%",
         "title": {
          "text": "percentage"
         }
        }
       }
      },
      "text/html": [
       "<div>                            <div id=\"124f300d-f878-4450-80dc-57f2e2ea7482\" class=\"plotly-graph-div\" style=\"height:400px; width:700px;\"></div>            <script type=\"text/javascript\">                require([\"plotly\"], function(Plotly) {                    window.PLOTLYENV=window.PLOTLYENV || {};                                    if (document.getElementById(\"124f300d-f878-4450-80dc-57f2e2ea7482\")) {                    Plotly.newPlot(                        \"124f300d-f878-4450-80dc-57f2e2ea7482\",                        [{\"alignmentgroup\":\"True\",\"customdata\":[[3559.0,3559.0],[2366.0,2366.0],[906.0,906.0],[68700.0,68700.0],[59962.0,59962.0],[134354.0,134354.0],[389890.0,389890.0],[623958.0,623958.0],[671801.0,671801.0],[529578.0,529578.0],[429803.0,429803.0],[346207.0,346207.0],[316684.0,316684.0],[311943.0,311943.0],[278137.0,278137.0],[262237.0,262237.0],[290831.0,290831.0],[278779.0,278779.0],[259408.0,259408.0],[161390.0,161390.0],[117247.0,117247.0],[69579.0,69579.0],[18263.0,18263.0],[8847.0,8847.0]],\"hovertemplate\":\"source=model\\u003cbr\\u003etlvorg_hr=%{x}\\u003cbr\\u003epercentage=%{y}\\u003cbr\\u003etoexpfac=%{customdata[0]}\\u003cbr\\u003esample_count=%{customdata[1]}\\u003cextra\\u003e\\u003c\\u002fextra\\u003e\",\"legendgroup\":\"model\",\"marker\":{\"color\":\"#91268F\",\"pattern\":{\"shape\":\"\"}},\"name\":\"model\",\"offsetgroup\":\"model\",\"orientation\":\"v\",\"showlegend\":true,\"textposition\":\"auto\",\"x\":[0,1,2,3,4,5,6,7,8,9,10,11,12,13,14,15,16,17,18,19,20,21,22,23],\"xaxis\":\"x\",\"y\":[0.0006316522934267163,0.00041991832712773557,0.0001607971278012377,0.012192894790226304,0.010642072160284564,0.023845184667337187,0.06919778383932072,0.11074023649956366,0.11923142522516479,0.09398964828556718,0.07628155399597723,0.061444913051526606,0.0562051629366525,0.055363728959935424,0.04936383083361242,0.046541894484782756,0.05161676542556486,0.04947777316920667,0.04603980279101928,0.028643541341988692,0.02080902962837938,0.012348899950642736,0.00324132223513687,0.0015701679797544702],\"yaxis\":\"y\",\"type\":\"bar\"},{\"alignmentgroup\":\"True\",\"customdata\":[[813.007669491988,3.0],[343.465611943163,2.0],[617.9592545767886,3.0],[14927.7390869082,25.0],[73101.81441058991,78.0],[163636.25248424156,191.0],[335652.1346855101,553.0],[730811.1492257961,1232.0],[697157.1239973352,1310.0],[433940.27310888877,873.0],[255033.28585273182,740.0],[267196.56493251026,625.0],[235334.41681136526,650.0],[203713.77330905438,564.0],[298164.4385508458,602.0],[329066.499373072,629.0],[254572.78014360945,576.0],[328088.4841268239,738.0],[218232.93433914715,539.0],[137976.20783799535,361.0],[40884.94150500456,149.0],[8589.542691990911,72.0],[18856.86935525195,32.0],[4010.3878365157243,10.0]],\"hovertemplate\":\"source=survey\\u003cbr\\u003etlvorg_hr=%{x}\\u003cbr\\u003epercentage=%{y}\\u003cbr\\u003etoexpfac=%{customdata[0]}\\u003cbr\\u003esample_count=%{customdata[1]}\\u003cextra\\u003e\\u003c\\u002fextra\\u003e\",\"legendgroup\":\"survey\",\"marker\":{\"color\":\"#8CC63E\",\"pattern\":{\"shape\":\"\"}},\"name\":\"survey\",\"offsetgroup\":\"survey\",\"orientation\":\"v\",\"showlegend\":true,\"textposition\":\"auto\",\"x\":[0,1,2,3,4,5,6,7,8,9,10,11,12,13,14,15,16,17,18,19,20,21,22,23],\"xaxis\":\"x\",\"y\":[0.00016096860251960915,6.800326939422331e-05,0.00012235067559133932,0.002955565352905492,0.014473537395622866,0.032398585981843385,0.06645626736437894,0.1446943907308186,0.13803118002141654,0.08591648266118075,0.050494421098573425,0.05290264688659255,0.04659421260141752,0.04033359417635616,0.05903402242756641,0.06515236759476258,0.05040324488556666,0.06495872889572078,0.04320826454967695,0.027318115425055196,0.008094870620677957,0.0017006563840612382,0.00373349972197238,0.0007940226763284385],\"yaxis\":\"y\",\"type\":\"bar\"},{\"alignmentgroup\":\"True\",\"customdata\":[[818.5256193266234,8.0],[72.74800084760997,4.0],[13907.131040594093,47.0],[60835.64202104887,193.0],[210793.99623853827,614.0],[463781.3517357327,1742.0],[728580.9263172249,3462.0],[686425.8292300161,3437.0],[515595.76181018155,2078.0],[378753.0073236868,1390.0],[378741.1542697413,1253.0],[278401.2763422068,1252.0],[194406.73941974936,1004.0],[230822.26930435197,927.0],[277120.1887803305,1021.0],[235919.8171498617,1105.0],[410021.9613104888,1314.0],[247964.640927774,1373.0],[148297.12773754026,880.0],[58633.34622816313,418.0],[32946.760561780335,185.0],[9024.61318524568,61.0],[3629.930451363425,18.0]],\"hovertemplate\":\"source=survey (2017\\u002f2019)\\u003cbr\\u003etlvorg_hr=%{x}\\u003cbr\\u003epercentage=%{y}\\u003cbr\\u003etoexpfac=%{customdata[0]}\\u003cbr\\u003esample_count=%{customdata[1]}\\u003cextra\\u003e\\u003c\\u002fextra\\u003e\",\"legendgroup\":\"survey (2017\\u002f2019)\",\"marker\":{\"color\":\"#00A7A0\",\"pattern\":{\"shape\":\"\"}},\"name\":\"survey (2017\\u002f2019)\",\"offsetgroup\":\"survey (2017\\u002f2019)\",\"orientation\":\"v\",\"showlegend\":true,\"textposition\":\"auto\",\"x\":[0,2,3,4,5,6,7,8,9,10,11,12,13,14,15,16,17,18,19,20,21,22,23],\"xaxis\":\"x\",\"y\":[0.00014707149262177074,1.3071254970259475e-05,0.0024988130755264266,0.010930859664478139,0.037875158615088916,0.08333155864569051,0.1309103610188507,0.12333599449464605,0.0926414964766344,0.0680537894072331,0.06805165966774208,0.05002273635996704,0.03493072014742275,0.04147380958565826,0.04979255241036833,0.04238972956745036,0.07367214957455898,0.04455392598300187,0.026645812193177423,0.010535154359956563,0.005919826012116024,0.0016215293695756217,0.0006522206232645803],\"yaxis\":\"y\",\"type\":\"bar\"}],                        {\"template\":{\"data\":{\"barpolar\":[{\"marker\":{\"line\":{\"color\":\"white\",\"width\":0.5},\"pattern\":{\"fillmode\":\"overlay\",\"size\":10,\"solidity\":0.2}},\"type\":\"barpolar\"}],\"bar\":[{\"error_x\":{\"color\":\"rgb(36,36,36)\"},\"error_y\":{\"color\":\"rgb(36,36,36)\"},\"marker\":{\"line\":{\"color\":\"white\",\"width\":0.5},\"pattern\":{\"fillmode\":\"overlay\",\"size\":10,\"solidity\":0.2}},\"type\":\"bar\"}],\"carpet\":[{\"aaxis\":{\"endlinecolor\":\"rgb(36,36,36)\",\"gridcolor\":\"white\",\"linecolor\":\"white\",\"minorgridcolor\":\"white\",\"startlinecolor\":\"rgb(36,36,36)\"},\"baxis\":{\"endlinecolor\":\"rgb(36,36,36)\",\"gridcolor\":\"white\",\"linecolor\":\"white\",\"minorgridcolor\":\"white\",\"startlinecolor\":\"rgb(36,36,36)\"},\"type\":\"carpet\"}],\"choropleth\":[{\"colorbar\":{\"outlinewidth\":1,\"tickcolor\":\"rgb(36,36,36)\",\"ticks\":\"outside\"},\"type\":\"choropleth\"}],\"contourcarpet\":[{\"colorbar\":{\"outlinewidth\":1,\"tickcolor\":\"rgb(36,36,36)\",\"ticks\":\"outside\"},\"type\":\"contourcarpet\"}],\"contour\":[{\"colorbar\":{\"outlinewidth\":1,\"tickcolor\":\"rgb(36,36,36)\",\"ticks\":\"outside\"},\"colorscale\":[[0.0,\"#440154\"],[0.1111111111111111,\"#482878\"],[0.2222222222222222,\"#3e4989\"],[0.3333333333333333,\"#31688e\"],[0.4444444444444444,\"#26828e\"],[0.5555555555555556,\"#1f9e89\"],[0.6666666666666666,\"#35b779\"],[0.7777777777777778,\"#6ece58\"],[0.8888888888888888,\"#b5de2b\"],[1.0,\"#fde725\"]],\"type\":\"contour\"}],\"heatmapgl\":[{\"colorbar\":{\"outlinewidth\":1,\"tickcolor\":\"rgb(36,36,36)\",\"ticks\":\"outside\"},\"colorscale\":[[0.0,\"#440154\"],[0.1111111111111111,\"#482878\"],[0.2222222222222222,\"#3e4989\"],[0.3333333333333333,\"#31688e\"],[0.4444444444444444,\"#26828e\"],[0.5555555555555556,\"#1f9e89\"],[0.6666666666666666,\"#35b779\"],[0.7777777777777778,\"#6ece58\"],[0.8888888888888888,\"#b5de2b\"],[1.0,\"#fde725\"]],\"type\":\"heatmapgl\"}],\"heatmap\":[{\"colorbar\":{\"outlinewidth\":1,\"tickcolor\":\"rgb(36,36,36)\",\"ticks\":\"outside\"},\"colorscale\":[[0.0,\"#440154\"],[0.1111111111111111,\"#482878\"],[0.2222222222222222,\"#3e4989\"],[0.3333333333333333,\"#31688e\"],[0.4444444444444444,\"#26828e\"],[0.5555555555555556,\"#1f9e89\"],[0.6666666666666666,\"#35b779\"],[0.7777777777777778,\"#6ece58\"],[0.8888888888888888,\"#b5de2b\"],[1.0,\"#fde725\"]],\"type\":\"heatmap\"}],\"histogram2dcontour\":[{\"colorbar\":{\"outlinewidth\":1,\"tickcolor\":\"rgb(36,36,36)\",\"ticks\":\"outside\"},\"colorscale\":[[0.0,\"#440154\"],[0.1111111111111111,\"#482878\"],[0.2222222222222222,\"#3e4989\"],[0.3333333333333333,\"#31688e\"],[0.4444444444444444,\"#26828e\"],[0.5555555555555556,\"#1f9e89\"],[0.6666666666666666,\"#35b779\"],[0.7777777777777778,\"#6ece58\"],[0.8888888888888888,\"#b5de2b\"],[1.0,\"#fde725\"]],\"type\":\"histogram2dcontour\"}],\"histogram2d\":[{\"colorbar\":{\"outlinewidth\":1,\"tickcolor\":\"rgb(36,36,36)\",\"ticks\":\"outside\"},\"colorscale\":[[0.0,\"#440154\"],[0.1111111111111111,\"#482878\"],[0.2222222222222222,\"#3e4989\"],[0.3333333333333333,\"#31688e\"],[0.4444444444444444,\"#26828e\"],[0.5555555555555556,\"#1f9e89\"],[0.6666666666666666,\"#35b779\"],[0.7777777777777778,\"#6ece58\"],[0.8888888888888888,\"#b5de2b\"],[1.0,\"#fde725\"]],\"type\":\"histogram2d\"}],\"histogram\":[{\"marker\":{\"line\":{\"color\":\"white\",\"width\":0.6}},\"type\":\"histogram\"}],\"mesh3d\":[{\"colorbar\":{\"outlinewidth\":1,\"tickcolor\":\"rgb(36,36,36)\",\"ticks\":\"outside\"},\"type\":\"mesh3d\"}],\"parcoords\":[{\"line\":{\"colorbar\":{\"outlinewidth\":1,\"tickcolor\":\"rgb(36,36,36)\",\"ticks\":\"outside\"}},\"type\":\"parcoords\"}],\"pie\":[{\"automargin\":true,\"type\":\"pie\"}],\"scatter3d\":[{\"line\":{\"colorbar\":{\"outlinewidth\":1,\"tickcolor\":\"rgb(36,36,36)\",\"ticks\":\"outside\"}},\"marker\":{\"colorbar\":{\"outlinewidth\":1,\"tickcolor\":\"rgb(36,36,36)\",\"ticks\":\"outside\"}},\"type\":\"scatter3d\"}],\"scattercarpet\":[{\"marker\":{\"colorbar\":{\"outlinewidth\":1,\"tickcolor\":\"rgb(36,36,36)\",\"ticks\":\"outside\"}},\"type\":\"scattercarpet\"}],\"scattergeo\":[{\"marker\":{\"colorbar\":{\"outlinewidth\":1,\"tickcolor\":\"rgb(36,36,36)\",\"ticks\":\"outside\"}},\"type\":\"scattergeo\"}],\"scattergl\":[{\"marker\":{\"colorbar\":{\"outlinewidth\":1,\"tickcolor\":\"rgb(36,36,36)\",\"ticks\":\"outside\"}},\"type\":\"scattergl\"}],\"scattermapbox\":[{\"marker\":{\"colorbar\":{\"outlinewidth\":1,\"tickcolor\":\"rgb(36,36,36)\",\"ticks\":\"outside\"}},\"type\":\"scattermapbox\"}],\"scatterpolargl\":[{\"marker\":{\"colorbar\":{\"outlinewidth\":1,\"tickcolor\":\"rgb(36,36,36)\",\"ticks\":\"outside\"}},\"type\":\"scatterpolargl\"}],\"scatterpolar\":[{\"marker\":{\"colorbar\":{\"outlinewidth\":1,\"tickcolor\":\"rgb(36,36,36)\",\"ticks\":\"outside\"}},\"type\":\"scatterpolar\"}],\"scatter\":[{\"fillpattern\":{\"fillmode\":\"overlay\",\"size\":10,\"solidity\":0.2},\"type\":\"scatter\"}],\"scatterternary\":[{\"marker\":{\"colorbar\":{\"outlinewidth\":1,\"tickcolor\":\"rgb(36,36,36)\",\"ticks\":\"outside\"}},\"type\":\"scatterternary\"}],\"surface\":[{\"colorbar\":{\"outlinewidth\":1,\"tickcolor\":\"rgb(36,36,36)\",\"ticks\":\"outside\"},\"colorscale\":[[0.0,\"#440154\"],[0.1111111111111111,\"#482878\"],[0.2222222222222222,\"#3e4989\"],[0.3333333333333333,\"#31688e\"],[0.4444444444444444,\"#26828e\"],[0.5555555555555556,\"#1f9e89\"],[0.6666666666666666,\"#35b779\"],[0.7777777777777778,\"#6ece58\"],[0.8888888888888888,\"#b5de2b\"],[1.0,\"#fde725\"]],\"type\":\"surface\"}],\"table\":[{\"cells\":{\"fill\":{\"color\":\"rgb(237,237,237)\"},\"line\":{\"color\":\"white\"}},\"header\":{\"fill\":{\"color\":\"rgb(217,217,217)\"},\"line\":{\"color\":\"white\"}},\"type\":\"table\"}]},\"layout\":{\"annotationdefaults\":{\"arrowhead\":0,\"arrowwidth\":1},\"autotypenumbers\":\"strict\",\"coloraxis\":{\"colorbar\":{\"outlinewidth\":1,\"tickcolor\":\"rgb(36,36,36)\",\"ticks\":\"outside\"}},\"colorscale\":{\"diverging\":[[0.0,\"rgb(103,0,31)\"],[0.1,\"rgb(178,24,43)\"],[0.2,\"rgb(214,96,77)\"],[0.3,\"rgb(244,165,130)\"],[0.4,\"rgb(253,219,199)\"],[0.5,\"rgb(247,247,247)\"],[0.6,\"rgb(209,229,240)\"],[0.7,\"rgb(146,197,222)\"],[0.8,\"rgb(67,147,195)\"],[0.9,\"rgb(33,102,172)\"],[1.0,\"rgb(5,48,97)\"]],\"sequential\":[[0.0,\"#440154\"],[0.1111111111111111,\"#482878\"],[0.2222222222222222,\"#3e4989\"],[0.3333333333333333,\"#31688e\"],[0.4444444444444444,\"#26828e\"],[0.5555555555555556,\"#1f9e89\"],[0.6666666666666666,\"#35b779\"],[0.7777777777777778,\"#6ece58\"],[0.8888888888888888,\"#b5de2b\"],[1.0,\"#fde725\"]],\"sequentialminus\":[[0.0,\"#440154\"],[0.1111111111111111,\"#482878\"],[0.2222222222222222,\"#3e4989\"],[0.3333333333333333,\"#31688e\"],[0.4444444444444444,\"#26828e\"],[0.5555555555555556,\"#1f9e89\"],[0.6666666666666666,\"#35b779\"],[0.7777777777777778,\"#6ece58\"],[0.8888888888888888,\"#b5de2b\"],[1.0,\"#fde725\"]]},\"colorway\":[\"#91268F\",\"#8CC63E\",\"#00A7A0\",\"#F05A28\",\"#4C4C4C\",\"#630460\",\"#9f3913\",\"#588527\",\"#00716c\",\"#3e4040\"],\"font\":{\"color\":\"rgb(36,36,36)\",\"family\":\"Poppins\",\"size\":11},\"geo\":{\"bgcolor\":\"white\",\"lakecolor\":\"white\",\"landcolor\":\"white\",\"showlakes\":true,\"showland\":true,\"subunitcolor\":\"white\"},\"hoverlabel\":{\"align\":\"left\"},\"hovermode\":\"closest\",\"mapbox\":{\"style\":\"light\"},\"paper_bgcolor\":\"white\",\"plot_bgcolor\":\"white\",\"polar\":{\"angularaxis\":{\"gridcolor\":\"rgb(232,232,232)\",\"linecolor\":\"rgb(36,36,36)\",\"showgrid\":false,\"showline\":true,\"ticks\":\"outside\"},\"bgcolor\":\"white\",\"radialaxis\":{\"gridcolor\":\"rgb(232,232,232)\",\"linecolor\":\"rgb(36,36,36)\",\"showgrid\":false,\"showline\":true,\"ticks\":\"outside\"}},\"scene\":{\"xaxis\":{\"backgroundcolor\":\"white\",\"gridcolor\":\"rgb(232,232,232)\",\"gridwidth\":2,\"linecolor\":\"rgb(36,36,36)\",\"showbackground\":true,\"showgrid\":false,\"showline\":true,\"ticks\":\"outside\",\"zeroline\":false,\"zerolinecolor\":\"rgb(36,36,36)\"},\"yaxis\":{\"backgroundcolor\":\"white\",\"gridcolor\":\"rgb(232,232,232)\",\"gridwidth\":2,\"linecolor\":\"rgb(36,36,36)\",\"showbackground\":true,\"showgrid\":false,\"showline\":true,\"ticks\":\"outside\",\"zeroline\":false,\"zerolinecolor\":\"rgb(36,36,36)\"},\"zaxis\":{\"backgroundcolor\":\"white\",\"gridcolor\":\"rgb(232,232,232)\",\"gridwidth\":2,\"linecolor\":\"rgb(36,36,36)\",\"showbackground\":true,\"showgrid\":false,\"showline\":true,\"ticks\":\"outside\",\"zeroline\":false,\"zerolinecolor\":\"rgb(36,36,36)\"}},\"shapedefaults\":{\"fillcolor\":\"black\",\"line\":{\"width\":0},\"opacity\":0.3},\"ternary\":{\"aaxis\":{\"gridcolor\":\"rgb(232,232,232)\",\"linecolor\":\"rgb(36,36,36)\",\"showgrid\":false,\"showline\":true,\"ticks\":\"outside\"},\"baxis\":{\"gridcolor\":\"rgb(232,232,232)\",\"linecolor\":\"rgb(36,36,36)\",\"showgrid\":false,\"showline\":true,\"ticks\":\"outside\"},\"bgcolor\":\"white\",\"caxis\":{\"gridcolor\":\"rgb(232,232,232)\",\"linecolor\":\"rgb(36,36,36)\",\"showgrid\":false,\"showline\":true,\"ticks\":\"outside\"}},\"title\":{\"x\":0.05},\"xaxis\":{\"automargin\":true,\"gridcolor\":\"rgb(232,232,232)\",\"linecolor\":\"rgb(36,36,36)\",\"showgrid\":false,\"showline\":true,\"ticks\":\"outside\",\"title\":{\"standoff\":15},\"zeroline\":false,\"zerolinecolor\":\"rgb(36,36,36)\"},\"yaxis\":{\"automargin\":true,\"gridcolor\":\"rgb(232,232,232)\",\"linecolor\":\"rgb(36,36,36)\",\"showgrid\":false,\"showline\":true,\"ticks\":\"outside\",\"title\":{\"standoff\":15},\"zeroline\":false,\"zerolinecolor\":\"rgb(36,36,36)\"}}},\"xaxis\":{\"anchor\":\"y\",\"domain\":[0.0,1.0],\"title\":{\"text\":\"tlvorg_hr\"},\"dtick\":1,\"categoryorder\":\"category ascending\"},\"yaxis\":{\"anchor\":\"x\",\"domain\":[0.0,1.0],\"title\":{\"text\":\"percentage\"},\"tickformat\":\".0%\"},\"legend\":{\"title\":{\"text\":\"source\"},\"tracegroupgap\":0},\"title\":{\"text\":\"tour origin departure hour\"},\"barmode\":\"group\",\"font\":{\"size\":11},\"height\":400,\"width\":700},                        {\"responsive\": true}                    ).then(function(){\n",
       "                            \n",
       "var gd = document.getElementById('124f300d-f878-4450-80dc-57f2e2ea7482');\n",
       "var x = new MutationObserver(function (mutations, observer) {{\n",
       "        var display = window.getComputedStyle(gd).display;\n",
       "        if (!display || display === 'none') {{\n",
       "            console.log([gd, 'removed!']);\n",
       "            Plotly.purge(gd);\n",
       "            observer.disconnect();\n",
       "        }}\n",
       "}});\n",
       "\n",
       "// Listen for the removal of the full notebook cells\n",
       "var notebookContainer = gd.closest('#notebook-container');\n",
       "if (notebookContainer) {{\n",
       "    x.observe(notebookContainer, {childList: true});\n",
       "}}\n",
       "\n",
       "// Listen for the clearing of the current output cell\n",
       "var outputEl = gd.closest('.output');\n",
       "if (outputEl) {{\n",
       "    x.observe(outputEl, {childList: true});\n",
       "}}\n",
       "\n",
       "                        })                };                });            </script>        </div>"
      ]
     },
     "metadata": {},
     "output_type": "display_data"
    }
   ],
   "source": [
    "df_plot = df_tour.groupby(['tlvorg_hr','source'])['toexpfac'].agg(sample_count='size', toexpfac='sum').reset_index()\n",
    "df_plot['percentage'] = df_plot.groupby(['source'], group_keys=False)['toexpfac']. \\\n",
    "    apply(lambda x: x / float(x.sum()))\n",
    "\n",
    "fig = px.bar(df_plot, x=\"tlvorg_hr\", y=\"percentage\", color=\"source\",\n",
    "             barmode=\"group\",title=\"tour origin departure hour\",\n",
    "             hover_data=['toexpfac','sample_count'])\n",
    "fig.update_layout(height=400, width=700, font=dict(size=11),\n",
    "                  xaxis = dict(dtick = 1, categoryorder='category ascending'),\n",
    "                  yaxis=dict(tickformat=\".0%\"))\n",
    "fig.show()"
   ]
  },
  {
   "cell_type": "raw",
   "metadata": {
    "vscode": {
     "languageId": "raw"
    }
   },
   "source": [
    "### trip"
   ]
  },
  {
   "cell_type": "code",
   "execution_count": 5,
   "metadata": {
    "execution": {
     "iopub.execute_input": "2025-01-21T07:15:33.327977Z",
     "iopub.status.busy": "2025-01-21T07:15:33.326002Z",
     "iopub.status.idle": "2025-01-21T07:15:34.307464Z",
     "shell.execute_reply": "2025-01-21T07:15:34.305955Z"
    }
   },
   "outputs": [
    {
     "data": {
      "application/vnd.plotly.v1+json": {
       "config": {
        "plotlyServerURL": "https://plot.ly"
       },
       "data": [
        {
         "alignmentgroup": "True",
         "customdata": [
          [
           29316,
           29316
          ],
          [
           21007,
           21007
          ],
          [
           14849,
           14849
          ],
          [
           80003,
           80003
          ],
          [
           87748,
           87748
          ],
          [
           185683,
           185683
          ],
          [
           534726,
           534726
          ],
          [
           909576,
           909576
          ],
          [
           1068546,
           1068546
          ],
          [
           1002222,
           1002222
          ],
          [
           1057719,
           1057719
          ],
          [
           1017117,
           1017117
          ],
          [
           980427,
           980427
          ],
          [
           1046307,
           1046307
          ],
          [
           979902,
           979902
          ],
          [
           1183034,
           1183034
          ],
          [
           1298122,
           1298122
          ],
          [
           1247387,
           1247387
          ],
          [
           1017724,
           1017724
          ],
          [
           769192,
           769192
          ],
          [
           604073,
           604073
          ],
          [
           331779,
           331779
          ],
          [
           197494,
           197494
          ],
          [
           140551,
           140551
          ]
         ],
         "hovertemplate": "source=model<br>dept_hr=%{x}<br>percentage=%{y}<br>trexpfac=%{customdata[0]}<br>sample_count=%{customdata[1]}<extra></extra>",
         "legendgroup": "model",
         "marker": {
          "color": "#91268F",
          "pattern": {
           "shape": ""
          }
         },
         "name": "model",
         "offsetgroup": "model",
         "orientation": "v",
         "showlegend": true,
         "textposition": "auto",
         "type": "bar",
         "x": [
          0,
          1,
          2,
          3,
          4,
          5,
          6,
          7,
          8,
          9,
          10,
          11,
          12,
          13,
          14,
          15,
          16,
          17,
          18,
          19,
          20,
          21,
          22,
          23
         ],
         "xaxis": "x",
         "y": [
          0.0018549142700080938,
          0.0013291780621524092,
          0.0009395422975627707,
          0.005062038011442814,
          0.005552088189543942,
          0.011748739473253953,
          0.03383377295484882,
          0.05755169539012423,
          0.0676102204789217,
          0.06341369523523167,
          0.06692516259921855,
          0.06435614809550493,
          0.06203465796838673,
          0.06620308995461041,
          0.06200143958962585,
          0.07485423142668697,
          0.08213620623589327,
          0.07892604538554326,
          0.06439455486866276,
          0.048669164182564666,
          0.03822157278709917,
          0.020992686641732,
          0.012496058085720374,
          0.00889309781566065
         ],
         "yaxis": "y"
        },
        {
         "alignmentgroup": "True",
         "customdata": [
          [
           14160.308952681404,
           37
          ],
          [
           1900.757934071786,
           10
          ],
          [
           2283.9930541930844,
           18
          ],
          [
           13390.245551472604,
           31
          ],
          [
           68943.67110386654,
           82
          ],
          [
           178211.934880323,
           214
          ],
          [
           359682.50962026964,
           676
          ],
          [
           1031793.9306389309,
           1625
          ],
          [
           1071889.1577198096,
           1961
          ],
          [
           774188.8897778265,
           1565
          ],
          [
           575816.5334236635,
           1583
          ],
          [
           756903.2090077089,
           1781
          ],
          [
           743510.2988058319,
           1915
          ],
          [
           761845.4420829922,
           1816
          ],
          [
           1279128.2945142668,
           2135
          ],
          [
           1490503.3097359987,
           2486
          ],
          [
           1270243.4395395918,
           2478
          ],
          [
           1183379.1799539572,
           2609
          ],
          [
           876197.2944875801,
           2047
          ],
          [
           597812.540532083,
           1460
          ],
          [
           452184.8604427242,
           1035
          ],
          [
           200138.7390782372,
           623
          ],
          [
           135189.54646263065,
           276
          ],
          [
           63204.65503695613,
           133
          ]
         ],
         "hovertemplate": "source=survey<br>dept_hr=%{x}<br>percentage=%{y}<br>trexpfac=%{customdata[0]}<br>sample_count=%{customdata[1]}<extra></extra>",
         "legendgroup": "survey",
         "marker": {
          "color": "#8CC63E",
          "pattern": {
           "shape": ""
          }
         },
         "name": "survey",
         "offsetgroup": "survey",
         "orientation": "v",
         "showlegend": true,
         "textposition": "auto",
         "type": "bar",
         "x": [
          0,
          1,
          2,
          3,
          4,
          5,
          6,
          7,
          8,
          9,
          10,
          11,
          12,
          13,
          14,
          15,
          16,
          17,
          18,
          19,
          20,
          21,
          22,
          23
         ],
         "xaxis": "x",
         "y": [
          0.0010185438704902127,
          0.0001367205581109764,
          0.00016428646672642463,
          0.0009631535990059493,
          0.004959083438545962,
          0.012818694459783087,
          0.025871781238705947,
          0.07421641626415804,
          0.07710044569569166,
          0.055687015793218886,
          0.041418192399999595,
          0.05444366550654877,
          0.05348032024058517,
          0.05479915783529563,
          0.09200705212730531,
          0.10721115020513025,
          0.09136796899678251,
          0.08511986668056397,
          0.06302442881879626,
          0.0430003540809633,
          0.032525428609747616,
          0.014395878410349046,
          0.009724115791823171,
          0.004546278911672305
         ],
         "yaxis": "y"
        },
        {
         "alignmentgroup": "True",
         "customdata": [
          [
           3622.9075134384693,
           37
          ],
          [
           1555.6194818136062,
           10
          ],
          [
           2729.181802725247,
           15
          ],
          [
           15172.326305472327,
           54
          ],
          [
           63514.05846425561,
           218
          ],
          [
           228743.11536819104,
           708
          ],
          [
           530146.2611615189,
           2086
          ],
          [
           929236.5348367358,
           4369
          ],
          [
           1063421.5157905354,
           4773
          ],
          [
           878655.2324934305,
           3513
          ],
          [
           898833.3210771343,
           3020
          ],
          [
           1016029.7115812739,
           3534
          ],
          [
           1186575.3305741234,
           4303
          ],
          [
           875857.9905717697,
           3789
          ],
          [
           1078894.9190846658,
           3845
          ],
          [
           1337135.3596823828,
           4753
          ],
          [
           1212361.4272437727,
           5744
          ],
          [
           1378473.9303939922,
           6566
          ],
          [
           954347.8853662497,
           5132
          ],
          [
           740726.2469078229,
           3761
          ],
          [
           516690.94727657596,
           2662
          ],
          [
           328350.6086838012,
           1622
          ],
          [
           105269.29586408581,
           682
          ],
          [
           42391.34399106255,
           268
          ]
         ],
         "hovertemplate": "source=survey (2017/2019)<br>dept_hr=%{x}<br>percentage=%{y}<br>trexpfac=%{customdata[0]}<br>sample_count=%{customdata[1]}<extra></extra>",
         "legendgroup": "survey (2017/2019)",
         "marker": {
          "color": "#00A7A0",
          "pattern": {
           "shape": ""
          }
         },
         "name": "survey (2017/2019)",
         "offsetgroup": "survey (2017/2019)",
         "orientation": "v",
         "showlegend": true,
         "textposition": "auto",
         "type": "bar",
         "x": [
          0,
          1,
          2,
          3,
          4,
          5,
          6,
          7,
          8,
          9,
          10,
          11,
          12,
          13,
          14,
          15,
          16,
          17,
          18,
          19,
          20,
          21,
          22,
          23
         ],
         "xaxis": "x",
         "y": [
          0.0002354259460963849,
          0.00010108819695602651,
          0.00017734932663677588,
          0.0009859371959398367,
          0.004127308590932496,
          0.014864322135974259,
          0.03445028189111996,
          0.060384205103164675,
          0.06910389390995711,
          0.057097300616978104,
          0.05840852525564588,
          0.06602425130197048,
          0.0771067488692016,
          0.05691552856692583,
          0.07010939587111377,
          0.0868905308635341,
          0.07878239644840887,
          0.0895768186265955,
          0.06201600592453256,
          0.04813431665860834,
          0.03357592062475132,
          0.021337075929752584,
          0.006840672438303903,
          0.0027546997068995703
         ],
         "yaxis": "y"
        }
       ],
       "layout": {
        "barmode": "group",
        "font": {
         "size": 11
        },
        "height": 400,
        "legend": {
         "title": {
          "text": "source"
         },
         "tracegroupgap": 0
        },
        "template": {
         "data": {
          "bar": [
           {
            "error_x": {
             "color": "rgb(36,36,36)"
            },
            "error_y": {
             "color": "rgb(36,36,36)"
            },
            "marker": {
             "line": {
              "color": "white",
              "width": 0.5
             },
             "pattern": {
              "fillmode": "overlay",
              "size": 10,
              "solidity": 0.2
             }
            },
            "type": "bar"
           }
          ],
          "barpolar": [
           {
            "marker": {
             "line": {
              "color": "white",
              "width": 0.5
             },
             "pattern": {
              "fillmode": "overlay",
              "size": 10,
              "solidity": 0.2
             }
            },
            "type": "barpolar"
           }
          ],
          "carpet": [
           {
            "aaxis": {
             "endlinecolor": "rgb(36,36,36)",
             "gridcolor": "white",
             "linecolor": "white",
             "minorgridcolor": "white",
             "startlinecolor": "rgb(36,36,36)"
            },
            "baxis": {
             "endlinecolor": "rgb(36,36,36)",
             "gridcolor": "white",
             "linecolor": "white",
             "minorgridcolor": "white",
             "startlinecolor": "rgb(36,36,36)"
            },
            "type": "carpet"
           }
          ],
          "choropleth": [
           {
            "colorbar": {
             "outlinewidth": 1,
             "tickcolor": "rgb(36,36,36)",
             "ticks": "outside"
            },
            "type": "choropleth"
           }
          ],
          "contour": [
           {
            "colorbar": {
             "outlinewidth": 1,
             "tickcolor": "rgb(36,36,36)",
             "ticks": "outside"
            },
            "colorscale": [
             [
              0,
              "#440154"
             ],
             [
              0.1111111111111111,
              "#482878"
             ],
             [
              0.2222222222222222,
              "#3e4989"
             ],
             [
              0.3333333333333333,
              "#31688e"
             ],
             [
              0.4444444444444444,
              "#26828e"
             ],
             [
              0.5555555555555556,
              "#1f9e89"
             ],
             [
              0.6666666666666666,
              "#35b779"
             ],
             [
              0.7777777777777778,
              "#6ece58"
             ],
             [
              0.8888888888888888,
              "#b5de2b"
             ],
             [
              1,
              "#fde725"
             ]
            ],
            "type": "contour"
           }
          ],
          "contourcarpet": [
           {
            "colorbar": {
             "outlinewidth": 1,
             "tickcolor": "rgb(36,36,36)",
             "ticks": "outside"
            },
            "type": "contourcarpet"
           }
          ],
          "heatmap": [
           {
            "colorbar": {
             "outlinewidth": 1,
             "tickcolor": "rgb(36,36,36)",
             "ticks": "outside"
            },
            "colorscale": [
             [
              0,
              "#440154"
             ],
             [
              0.1111111111111111,
              "#482878"
             ],
             [
              0.2222222222222222,
              "#3e4989"
             ],
             [
              0.3333333333333333,
              "#31688e"
             ],
             [
              0.4444444444444444,
              "#26828e"
             ],
             [
              0.5555555555555556,
              "#1f9e89"
             ],
             [
              0.6666666666666666,
              "#35b779"
             ],
             [
              0.7777777777777778,
              "#6ece58"
             ],
             [
              0.8888888888888888,
              "#b5de2b"
             ],
             [
              1,
              "#fde725"
             ]
            ],
            "type": "heatmap"
           }
          ],
          "heatmapgl": [
           {
            "colorbar": {
             "outlinewidth": 1,
             "tickcolor": "rgb(36,36,36)",
             "ticks": "outside"
            },
            "colorscale": [
             [
              0,
              "#440154"
             ],
             [
              0.1111111111111111,
              "#482878"
             ],
             [
              0.2222222222222222,
              "#3e4989"
             ],
             [
              0.3333333333333333,
              "#31688e"
             ],
             [
              0.4444444444444444,
              "#26828e"
             ],
             [
              0.5555555555555556,
              "#1f9e89"
             ],
             [
              0.6666666666666666,
              "#35b779"
             ],
             [
              0.7777777777777778,
              "#6ece58"
             ],
             [
              0.8888888888888888,
              "#b5de2b"
             ],
             [
              1,
              "#fde725"
             ]
            ],
            "type": "heatmapgl"
           }
          ],
          "histogram": [
           {
            "marker": {
             "line": {
              "color": "white",
              "width": 0.6
             }
            },
            "type": "histogram"
           }
          ],
          "histogram2d": [
           {
            "colorbar": {
             "outlinewidth": 1,
             "tickcolor": "rgb(36,36,36)",
             "ticks": "outside"
            },
            "colorscale": [
             [
              0,
              "#440154"
             ],
             [
              0.1111111111111111,
              "#482878"
             ],
             [
              0.2222222222222222,
              "#3e4989"
             ],
             [
              0.3333333333333333,
              "#31688e"
             ],
             [
              0.4444444444444444,
              "#26828e"
             ],
             [
              0.5555555555555556,
              "#1f9e89"
             ],
             [
              0.6666666666666666,
              "#35b779"
             ],
             [
              0.7777777777777778,
              "#6ece58"
             ],
             [
              0.8888888888888888,
              "#b5de2b"
             ],
             [
              1,
              "#fde725"
             ]
            ],
            "type": "histogram2d"
           }
          ],
          "histogram2dcontour": [
           {
            "colorbar": {
             "outlinewidth": 1,
             "tickcolor": "rgb(36,36,36)",
             "ticks": "outside"
            },
            "colorscale": [
             [
              0,
              "#440154"
             ],
             [
              0.1111111111111111,
              "#482878"
             ],
             [
              0.2222222222222222,
              "#3e4989"
             ],
             [
              0.3333333333333333,
              "#31688e"
             ],
             [
              0.4444444444444444,
              "#26828e"
             ],
             [
              0.5555555555555556,
              "#1f9e89"
             ],
             [
              0.6666666666666666,
              "#35b779"
             ],
             [
              0.7777777777777778,
              "#6ece58"
             ],
             [
              0.8888888888888888,
              "#b5de2b"
             ],
             [
              1,
              "#fde725"
             ]
            ],
            "type": "histogram2dcontour"
           }
          ],
          "mesh3d": [
           {
            "colorbar": {
             "outlinewidth": 1,
             "tickcolor": "rgb(36,36,36)",
             "ticks": "outside"
            },
            "type": "mesh3d"
           }
          ],
          "parcoords": [
           {
            "line": {
             "colorbar": {
              "outlinewidth": 1,
              "tickcolor": "rgb(36,36,36)",
              "ticks": "outside"
             }
            },
            "type": "parcoords"
           }
          ],
          "pie": [
           {
            "automargin": true,
            "type": "pie"
           }
          ],
          "scatter": [
           {
            "fillpattern": {
             "fillmode": "overlay",
             "size": 10,
             "solidity": 0.2
            },
            "type": "scatter"
           }
          ],
          "scatter3d": [
           {
            "line": {
             "colorbar": {
              "outlinewidth": 1,
              "tickcolor": "rgb(36,36,36)",
              "ticks": "outside"
             }
            },
            "marker": {
             "colorbar": {
              "outlinewidth": 1,
              "tickcolor": "rgb(36,36,36)",
              "ticks": "outside"
             }
            },
            "type": "scatter3d"
           }
          ],
          "scattercarpet": [
           {
            "marker": {
             "colorbar": {
              "outlinewidth": 1,
              "tickcolor": "rgb(36,36,36)",
              "ticks": "outside"
             }
            },
            "type": "scattercarpet"
           }
          ],
          "scattergeo": [
           {
            "marker": {
             "colorbar": {
              "outlinewidth": 1,
              "tickcolor": "rgb(36,36,36)",
              "ticks": "outside"
             }
            },
            "type": "scattergeo"
           }
          ],
          "scattergl": [
           {
            "marker": {
             "colorbar": {
              "outlinewidth": 1,
              "tickcolor": "rgb(36,36,36)",
              "ticks": "outside"
             }
            },
            "type": "scattergl"
           }
          ],
          "scattermapbox": [
           {
            "marker": {
             "colorbar": {
              "outlinewidth": 1,
              "tickcolor": "rgb(36,36,36)",
              "ticks": "outside"
             }
            },
            "type": "scattermapbox"
           }
          ],
          "scatterpolar": [
           {
            "marker": {
             "colorbar": {
              "outlinewidth": 1,
              "tickcolor": "rgb(36,36,36)",
              "ticks": "outside"
             }
            },
            "type": "scatterpolar"
           }
          ],
          "scatterpolargl": [
           {
            "marker": {
             "colorbar": {
              "outlinewidth": 1,
              "tickcolor": "rgb(36,36,36)",
              "ticks": "outside"
             }
            },
            "type": "scatterpolargl"
           }
          ],
          "scatterternary": [
           {
            "marker": {
             "colorbar": {
              "outlinewidth": 1,
              "tickcolor": "rgb(36,36,36)",
              "ticks": "outside"
             }
            },
            "type": "scatterternary"
           }
          ],
          "surface": [
           {
            "colorbar": {
             "outlinewidth": 1,
             "tickcolor": "rgb(36,36,36)",
             "ticks": "outside"
            },
            "colorscale": [
             [
              0,
              "#440154"
             ],
             [
              0.1111111111111111,
              "#482878"
             ],
             [
              0.2222222222222222,
              "#3e4989"
             ],
             [
              0.3333333333333333,
              "#31688e"
             ],
             [
              0.4444444444444444,
              "#26828e"
             ],
             [
              0.5555555555555556,
              "#1f9e89"
             ],
             [
              0.6666666666666666,
              "#35b779"
             ],
             [
              0.7777777777777778,
              "#6ece58"
             ],
             [
              0.8888888888888888,
              "#b5de2b"
             ],
             [
              1,
              "#fde725"
             ]
            ],
            "type": "surface"
           }
          ],
          "table": [
           {
            "cells": {
             "fill": {
              "color": "rgb(237,237,237)"
             },
             "line": {
              "color": "white"
             }
            },
            "header": {
             "fill": {
              "color": "rgb(217,217,217)"
             },
             "line": {
              "color": "white"
             }
            },
            "type": "table"
           }
          ]
         },
         "layout": {
          "annotationdefaults": {
           "arrowhead": 0,
           "arrowwidth": 1
          },
          "autotypenumbers": "strict",
          "coloraxis": {
           "colorbar": {
            "outlinewidth": 1,
            "tickcolor": "rgb(36,36,36)",
            "ticks": "outside"
           }
          },
          "colorscale": {
           "diverging": [
            [
             0,
             "rgb(103,0,31)"
            ],
            [
             0.1,
             "rgb(178,24,43)"
            ],
            [
             0.2,
             "rgb(214,96,77)"
            ],
            [
             0.3,
             "rgb(244,165,130)"
            ],
            [
             0.4,
             "rgb(253,219,199)"
            ],
            [
             0.5,
             "rgb(247,247,247)"
            ],
            [
             0.6,
             "rgb(209,229,240)"
            ],
            [
             0.7,
             "rgb(146,197,222)"
            ],
            [
             0.8,
             "rgb(67,147,195)"
            ],
            [
             0.9,
             "rgb(33,102,172)"
            ],
            [
             1,
             "rgb(5,48,97)"
            ]
           ],
           "sequential": [
            [
             0,
             "#440154"
            ],
            [
             0.1111111111111111,
             "#482878"
            ],
            [
             0.2222222222222222,
             "#3e4989"
            ],
            [
             0.3333333333333333,
             "#31688e"
            ],
            [
             0.4444444444444444,
             "#26828e"
            ],
            [
             0.5555555555555556,
             "#1f9e89"
            ],
            [
             0.6666666666666666,
             "#35b779"
            ],
            [
             0.7777777777777778,
             "#6ece58"
            ],
            [
             0.8888888888888888,
             "#b5de2b"
            ],
            [
             1,
             "#fde725"
            ]
           ],
           "sequentialminus": [
            [
             0,
             "#440154"
            ],
            [
             0.1111111111111111,
             "#482878"
            ],
            [
             0.2222222222222222,
             "#3e4989"
            ],
            [
             0.3333333333333333,
             "#31688e"
            ],
            [
             0.4444444444444444,
             "#26828e"
            ],
            [
             0.5555555555555556,
             "#1f9e89"
            ],
            [
             0.6666666666666666,
             "#35b779"
            ],
            [
             0.7777777777777778,
             "#6ece58"
            ],
            [
             0.8888888888888888,
             "#b5de2b"
            ],
            [
             1,
             "#fde725"
            ]
           ]
          },
          "colorway": [
           "#91268F",
           "#8CC63E",
           "#00A7A0",
           "#F05A28",
           "#4C4C4C",
           "#630460",
           "#9f3913",
           "#588527",
           "#00716c",
           "#3e4040"
          ],
          "font": {
           "color": "rgb(36,36,36)",
           "family": "Poppins",
           "size": 11
          },
          "geo": {
           "bgcolor": "white",
           "lakecolor": "white",
           "landcolor": "white",
           "showlakes": true,
           "showland": true,
           "subunitcolor": "white"
          },
          "hoverlabel": {
           "align": "left"
          },
          "hovermode": "closest",
          "mapbox": {
           "style": "light"
          },
          "paper_bgcolor": "white",
          "plot_bgcolor": "white",
          "polar": {
           "angularaxis": {
            "gridcolor": "rgb(232,232,232)",
            "linecolor": "rgb(36,36,36)",
            "showgrid": false,
            "showline": true,
            "ticks": "outside"
           },
           "bgcolor": "white",
           "radialaxis": {
            "gridcolor": "rgb(232,232,232)",
            "linecolor": "rgb(36,36,36)",
            "showgrid": false,
            "showline": true,
            "ticks": "outside"
           }
          },
          "scene": {
           "xaxis": {
            "backgroundcolor": "white",
            "gridcolor": "rgb(232,232,232)",
            "gridwidth": 2,
            "linecolor": "rgb(36,36,36)",
            "showbackground": true,
            "showgrid": false,
            "showline": true,
            "ticks": "outside",
            "zeroline": false,
            "zerolinecolor": "rgb(36,36,36)"
           },
           "yaxis": {
            "backgroundcolor": "white",
            "gridcolor": "rgb(232,232,232)",
            "gridwidth": 2,
            "linecolor": "rgb(36,36,36)",
            "showbackground": true,
            "showgrid": false,
            "showline": true,
            "ticks": "outside",
            "zeroline": false,
            "zerolinecolor": "rgb(36,36,36)"
           },
           "zaxis": {
            "backgroundcolor": "white",
            "gridcolor": "rgb(232,232,232)",
            "gridwidth": 2,
            "linecolor": "rgb(36,36,36)",
            "showbackground": true,
            "showgrid": false,
            "showline": true,
            "ticks": "outside",
            "zeroline": false,
            "zerolinecolor": "rgb(36,36,36)"
           }
          },
          "shapedefaults": {
           "fillcolor": "black",
           "line": {
            "width": 0
           },
           "opacity": 0.3
          },
          "ternary": {
           "aaxis": {
            "gridcolor": "rgb(232,232,232)",
            "linecolor": "rgb(36,36,36)",
            "showgrid": false,
            "showline": true,
            "ticks": "outside"
           },
           "baxis": {
            "gridcolor": "rgb(232,232,232)",
            "linecolor": "rgb(36,36,36)",
            "showgrid": false,
            "showline": true,
            "ticks": "outside"
           },
           "bgcolor": "white",
           "caxis": {
            "gridcolor": "rgb(232,232,232)",
            "linecolor": "rgb(36,36,36)",
            "showgrid": false,
            "showline": true,
            "ticks": "outside"
           }
          },
          "title": {
           "x": 0.05
          },
          "xaxis": {
           "automargin": true,
           "gridcolor": "rgb(232,232,232)",
           "linecolor": "rgb(36,36,36)",
           "showgrid": false,
           "showline": true,
           "ticks": "outside",
           "title": {
            "standoff": 15
           },
           "zeroline": false,
           "zerolinecolor": "rgb(36,36,36)"
          },
          "yaxis": {
           "automargin": true,
           "gridcolor": "rgb(232,232,232)",
           "linecolor": "rgb(36,36,36)",
           "showgrid": false,
           "showline": true,
           "ticks": "outside",
           "title": {
            "standoff": 15
           },
           "zeroline": false,
           "zerolinecolor": "rgb(36,36,36)"
          }
         }
        },
        "title": {
         "text": "trip origin departure hour"
        },
        "width": 700,
        "xaxis": {
         "anchor": "y",
         "categoryorder": "category ascending",
         "domain": [
          0,
          1
         ],
         "dtick": 1,
         "title": {
          "text": "dept_hr"
         }
        },
        "yaxis": {
         "anchor": "x",
         "domain": [
          0,
          1
         ],
         "tickformat": ".0%",
         "title": {
          "text": "percentage"
         }
        }
       }
      },
      "text/html": [
       "<div>                            <div id=\"b884ebab-c2a8-4929-8f95-6b75abf3d793\" class=\"plotly-graph-div\" style=\"height:400px; width:700px;\"></div>            <script type=\"text/javascript\">                require([\"plotly\"], function(Plotly) {                    window.PLOTLYENV=window.PLOTLYENV || {};                                    if (document.getElementById(\"b884ebab-c2a8-4929-8f95-6b75abf3d793\")) {                    Plotly.newPlot(                        \"b884ebab-c2a8-4929-8f95-6b75abf3d793\",                        [{\"alignmentgroup\":\"True\",\"customdata\":[[29316.0,29316.0],[21007.0,21007.0],[14849.0,14849.0],[80003.0,80003.0],[87748.0,87748.0],[185683.0,185683.0],[534726.0,534726.0],[909576.0,909576.0],[1068546.0,1068546.0],[1002222.0,1002222.0],[1057719.0,1057719.0],[1017117.0,1017117.0],[980427.0,980427.0],[1046307.0,1046307.0],[979902.0,979902.0],[1183034.0,1183034.0],[1298122.0,1298122.0],[1247387.0,1247387.0],[1017724.0,1017724.0],[769192.0,769192.0],[604073.0,604073.0],[331779.0,331779.0],[197494.0,197494.0],[140551.0,140551.0]],\"hovertemplate\":\"source=model\\u003cbr\\u003edept_hr=%{x}\\u003cbr\\u003epercentage=%{y}\\u003cbr\\u003etrexpfac=%{customdata[0]}\\u003cbr\\u003esample_count=%{customdata[1]}\\u003cextra\\u003e\\u003c\\u002fextra\\u003e\",\"legendgroup\":\"model\",\"marker\":{\"color\":\"#91268F\",\"pattern\":{\"shape\":\"\"}},\"name\":\"model\",\"offsetgroup\":\"model\",\"orientation\":\"v\",\"showlegend\":true,\"textposition\":\"auto\",\"x\":[0,1,2,3,4,5,6,7,8,9,10,11,12,13,14,15,16,17,18,19,20,21,22,23],\"xaxis\":\"x\",\"y\":[0.0018549142700080938,0.0013291780621524092,0.0009395422975627707,0.005062038011442814,0.005552088189543942,0.011748739473253953,0.03383377295484882,0.05755169539012423,0.0676102204789217,0.06341369523523167,0.06692516259921855,0.06435614809550493,0.06203465796838673,0.06620308995461041,0.06200143958962585,0.07485423142668697,0.08213620623589327,0.07892604538554326,0.06439455486866276,0.048669164182564666,0.03822157278709917,0.020992686641732,0.012496058085720374,0.00889309781566065],\"yaxis\":\"y\",\"type\":\"bar\"},{\"alignmentgroup\":\"True\",\"customdata\":[[14160.308952681404,37.0],[1900.757934071786,10.0],[2283.9930541930844,18.0],[13390.245551472604,31.0],[68943.67110386654,82.0],[178211.934880323,214.0],[359682.50962026964,676.0],[1031793.9306389309,1625.0],[1071889.1577198096,1961.0],[774188.8897778265,1565.0],[575816.5334236635,1583.0],[756903.2090077089,1781.0],[743510.2988058319,1915.0],[761845.4420829922,1816.0],[1279128.2945142668,2135.0],[1490503.3097359987,2486.0],[1270243.4395395918,2478.0],[1183379.1799539572,2609.0],[876197.2944875801,2047.0],[597812.540532083,1460.0],[452184.8604427242,1035.0],[200138.7390782372,623.0],[135189.54646263065,276.0],[63204.65503695613,133.0]],\"hovertemplate\":\"source=survey\\u003cbr\\u003edept_hr=%{x}\\u003cbr\\u003epercentage=%{y}\\u003cbr\\u003etrexpfac=%{customdata[0]}\\u003cbr\\u003esample_count=%{customdata[1]}\\u003cextra\\u003e\\u003c\\u002fextra\\u003e\",\"legendgroup\":\"survey\",\"marker\":{\"color\":\"#8CC63E\",\"pattern\":{\"shape\":\"\"}},\"name\":\"survey\",\"offsetgroup\":\"survey\",\"orientation\":\"v\",\"showlegend\":true,\"textposition\":\"auto\",\"x\":[0,1,2,3,4,5,6,7,8,9,10,11,12,13,14,15,16,17,18,19,20,21,22,23],\"xaxis\":\"x\",\"y\":[0.0010185438704902127,0.0001367205581109764,0.00016428646672642463,0.0009631535990059493,0.004959083438545962,0.012818694459783087,0.025871781238705947,0.07421641626415804,0.07710044569569166,0.055687015793218886,0.041418192399999595,0.05444366550654877,0.05348032024058517,0.05479915783529563,0.09200705212730531,0.10721115020513025,0.09136796899678251,0.08511986668056397,0.06302442881879626,0.0430003540809633,0.032525428609747616,0.014395878410349046,0.009724115791823171,0.004546278911672305],\"yaxis\":\"y\",\"type\":\"bar\"},{\"alignmentgroup\":\"True\",\"customdata\":[[3622.9075134384693,37.0],[1555.6194818136062,10.0],[2729.181802725247,15.0],[15172.326305472327,54.0],[63514.05846425561,218.0],[228743.11536819104,708.0],[530146.2611615189,2086.0],[929236.5348367358,4369.0],[1063421.5157905354,4773.0],[878655.2324934305,3513.0],[898833.3210771343,3020.0],[1016029.7115812739,3534.0],[1186575.3305741234,4303.0],[875857.9905717697,3789.0],[1078894.9190846658,3845.0],[1337135.3596823828,4753.0],[1212361.4272437727,5744.0],[1378473.9303939922,6566.0],[954347.8853662497,5132.0],[740726.2469078229,3761.0],[516690.94727657596,2662.0],[328350.6086838012,1622.0],[105269.29586408581,682.0],[42391.34399106255,268.0]],\"hovertemplate\":\"source=survey (2017\\u002f2019)\\u003cbr\\u003edept_hr=%{x}\\u003cbr\\u003epercentage=%{y}\\u003cbr\\u003etrexpfac=%{customdata[0]}\\u003cbr\\u003esample_count=%{customdata[1]}\\u003cextra\\u003e\\u003c\\u002fextra\\u003e\",\"legendgroup\":\"survey (2017\\u002f2019)\",\"marker\":{\"color\":\"#00A7A0\",\"pattern\":{\"shape\":\"\"}},\"name\":\"survey (2017\\u002f2019)\",\"offsetgroup\":\"survey (2017\\u002f2019)\",\"orientation\":\"v\",\"showlegend\":true,\"textposition\":\"auto\",\"x\":[0,1,2,3,4,5,6,7,8,9,10,11,12,13,14,15,16,17,18,19,20,21,22,23],\"xaxis\":\"x\",\"y\":[0.0002354259460963849,0.00010108819695602651,0.00017734932663677588,0.0009859371959398367,0.004127308590932496,0.014864322135974259,0.03445028189111996,0.060384205103164675,0.06910389390995711,0.057097300616978104,0.05840852525564588,0.06602425130197048,0.0771067488692016,0.05691552856692583,0.07010939587111377,0.0868905308635341,0.07878239644840887,0.0895768186265955,0.06201600592453256,0.04813431665860834,0.03357592062475132,0.021337075929752584,0.006840672438303903,0.0027546997068995703],\"yaxis\":\"y\",\"type\":\"bar\"}],                        {\"template\":{\"data\":{\"barpolar\":[{\"marker\":{\"line\":{\"color\":\"white\",\"width\":0.5},\"pattern\":{\"fillmode\":\"overlay\",\"size\":10,\"solidity\":0.2}},\"type\":\"barpolar\"}],\"bar\":[{\"error_x\":{\"color\":\"rgb(36,36,36)\"},\"error_y\":{\"color\":\"rgb(36,36,36)\"},\"marker\":{\"line\":{\"color\":\"white\",\"width\":0.5},\"pattern\":{\"fillmode\":\"overlay\",\"size\":10,\"solidity\":0.2}},\"type\":\"bar\"}],\"carpet\":[{\"aaxis\":{\"endlinecolor\":\"rgb(36,36,36)\",\"gridcolor\":\"white\",\"linecolor\":\"white\",\"minorgridcolor\":\"white\",\"startlinecolor\":\"rgb(36,36,36)\"},\"baxis\":{\"endlinecolor\":\"rgb(36,36,36)\",\"gridcolor\":\"white\",\"linecolor\":\"white\",\"minorgridcolor\":\"white\",\"startlinecolor\":\"rgb(36,36,36)\"},\"type\":\"carpet\"}],\"choropleth\":[{\"colorbar\":{\"outlinewidth\":1,\"tickcolor\":\"rgb(36,36,36)\",\"ticks\":\"outside\"},\"type\":\"choropleth\"}],\"contourcarpet\":[{\"colorbar\":{\"outlinewidth\":1,\"tickcolor\":\"rgb(36,36,36)\",\"ticks\":\"outside\"},\"type\":\"contourcarpet\"}],\"contour\":[{\"colorbar\":{\"outlinewidth\":1,\"tickcolor\":\"rgb(36,36,36)\",\"ticks\":\"outside\"},\"colorscale\":[[0.0,\"#440154\"],[0.1111111111111111,\"#482878\"],[0.2222222222222222,\"#3e4989\"],[0.3333333333333333,\"#31688e\"],[0.4444444444444444,\"#26828e\"],[0.5555555555555556,\"#1f9e89\"],[0.6666666666666666,\"#35b779\"],[0.7777777777777778,\"#6ece58\"],[0.8888888888888888,\"#b5de2b\"],[1.0,\"#fde725\"]],\"type\":\"contour\"}],\"heatmapgl\":[{\"colorbar\":{\"outlinewidth\":1,\"tickcolor\":\"rgb(36,36,36)\",\"ticks\":\"outside\"},\"colorscale\":[[0.0,\"#440154\"],[0.1111111111111111,\"#482878\"],[0.2222222222222222,\"#3e4989\"],[0.3333333333333333,\"#31688e\"],[0.4444444444444444,\"#26828e\"],[0.5555555555555556,\"#1f9e89\"],[0.6666666666666666,\"#35b779\"],[0.7777777777777778,\"#6ece58\"],[0.8888888888888888,\"#b5de2b\"],[1.0,\"#fde725\"]],\"type\":\"heatmapgl\"}],\"heatmap\":[{\"colorbar\":{\"outlinewidth\":1,\"tickcolor\":\"rgb(36,36,36)\",\"ticks\":\"outside\"},\"colorscale\":[[0.0,\"#440154\"],[0.1111111111111111,\"#482878\"],[0.2222222222222222,\"#3e4989\"],[0.3333333333333333,\"#31688e\"],[0.4444444444444444,\"#26828e\"],[0.5555555555555556,\"#1f9e89\"],[0.6666666666666666,\"#35b779\"],[0.7777777777777778,\"#6ece58\"],[0.8888888888888888,\"#b5de2b\"],[1.0,\"#fde725\"]],\"type\":\"heatmap\"}],\"histogram2dcontour\":[{\"colorbar\":{\"outlinewidth\":1,\"tickcolor\":\"rgb(36,36,36)\",\"ticks\":\"outside\"},\"colorscale\":[[0.0,\"#440154\"],[0.1111111111111111,\"#482878\"],[0.2222222222222222,\"#3e4989\"],[0.3333333333333333,\"#31688e\"],[0.4444444444444444,\"#26828e\"],[0.5555555555555556,\"#1f9e89\"],[0.6666666666666666,\"#35b779\"],[0.7777777777777778,\"#6ece58\"],[0.8888888888888888,\"#b5de2b\"],[1.0,\"#fde725\"]],\"type\":\"histogram2dcontour\"}],\"histogram2d\":[{\"colorbar\":{\"outlinewidth\":1,\"tickcolor\":\"rgb(36,36,36)\",\"ticks\":\"outside\"},\"colorscale\":[[0.0,\"#440154\"],[0.1111111111111111,\"#482878\"],[0.2222222222222222,\"#3e4989\"],[0.3333333333333333,\"#31688e\"],[0.4444444444444444,\"#26828e\"],[0.5555555555555556,\"#1f9e89\"],[0.6666666666666666,\"#35b779\"],[0.7777777777777778,\"#6ece58\"],[0.8888888888888888,\"#b5de2b\"],[1.0,\"#fde725\"]],\"type\":\"histogram2d\"}],\"histogram\":[{\"marker\":{\"line\":{\"color\":\"white\",\"width\":0.6}},\"type\":\"histogram\"}],\"mesh3d\":[{\"colorbar\":{\"outlinewidth\":1,\"tickcolor\":\"rgb(36,36,36)\",\"ticks\":\"outside\"},\"type\":\"mesh3d\"}],\"parcoords\":[{\"line\":{\"colorbar\":{\"outlinewidth\":1,\"tickcolor\":\"rgb(36,36,36)\",\"ticks\":\"outside\"}},\"type\":\"parcoords\"}],\"pie\":[{\"automargin\":true,\"type\":\"pie\"}],\"scatter3d\":[{\"line\":{\"colorbar\":{\"outlinewidth\":1,\"tickcolor\":\"rgb(36,36,36)\",\"ticks\":\"outside\"}},\"marker\":{\"colorbar\":{\"outlinewidth\":1,\"tickcolor\":\"rgb(36,36,36)\",\"ticks\":\"outside\"}},\"type\":\"scatter3d\"}],\"scattercarpet\":[{\"marker\":{\"colorbar\":{\"outlinewidth\":1,\"tickcolor\":\"rgb(36,36,36)\",\"ticks\":\"outside\"}},\"type\":\"scattercarpet\"}],\"scattergeo\":[{\"marker\":{\"colorbar\":{\"outlinewidth\":1,\"tickcolor\":\"rgb(36,36,36)\",\"ticks\":\"outside\"}},\"type\":\"scattergeo\"}],\"scattergl\":[{\"marker\":{\"colorbar\":{\"outlinewidth\":1,\"tickcolor\":\"rgb(36,36,36)\",\"ticks\":\"outside\"}},\"type\":\"scattergl\"}],\"scattermapbox\":[{\"marker\":{\"colorbar\":{\"outlinewidth\":1,\"tickcolor\":\"rgb(36,36,36)\",\"ticks\":\"outside\"}},\"type\":\"scattermapbox\"}],\"scatterpolargl\":[{\"marker\":{\"colorbar\":{\"outlinewidth\":1,\"tickcolor\":\"rgb(36,36,36)\",\"ticks\":\"outside\"}},\"type\":\"scatterpolargl\"}],\"scatterpolar\":[{\"marker\":{\"colorbar\":{\"outlinewidth\":1,\"tickcolor\":\"rgb(36,36,36)\",\"ticks\":\"outside\"}},\"type\":\"scatterpolar\"}],\"scatter\":[{\"fillpattern\":{\"fillmode\":\"overlay\",\"size\":10,\"solidity\":0.2},\"type\":\"scatter\"}],\"scatterternary\":[{\"marker\":{\"colorbar\":{\"outlinewidth\":1,\"tickcolor\":\"rgb(36,36,36)\",\"ticks\":\"outside\"}},\"type\":\"scatterternary\"}],\"surface\":[{\"colorbar\":{\"outlinewidth\":1,\"tickcolor\":\"rgb(36,36,36)\",\"ticks\":\"outside\"},\"colorscale\":[[0.0,\"#440154\"],[0.1111111111111111,\"#482878\"],[0.2222222222222222,\"#3e4989\"],[0.3333333333333333,\"#31688e\"],[0.4444444444444444,\"#26828e\"],[0.5555555555555556,\"#1f9e89\"],[0.6666666666666666,\"#35b779\"],[0.7777777777777778,\"#6ece58\"],[0.8888888888888888,\"#b5de2b\"],[1.0,\"#fde725\"]],\"type\":\"surface\"}],\"table\":[{\"cells\":{\"fill\":{\"color\":\"rgb(237,237,237)\"},\"line\":{\"color\":\"white\"}},\"header\":{\"fill\":{\"color\":\"rgb(217,217,217)\"},\"line\":{\"color\":\"white\"}},\"type\":\"table\"}]},\"layout\":{\"annotationdefaults\":{\"arrowhead\":0,\"arrowwidth\":1},\"autotypenumbers\":\"strict\",\"coloraxis\":{\"colorbar\":{\"outlinewidth\":1,\"tickcolor\":\"rgb(36,36,36)\",\"ticks\":\"outside\"}},\"colorscale\":{\"diverging\":[[0.0,\"rgb(103,0,31)\"],[0.1,\"rgb(178,24,43)\"],[0.2,\"rgb(214,96,77)\"],[0.3,\"rgb(244,165,130)\"],[0.4,\"rgb(253,219,199)\"],[0.5,\"rgb(247,247,247)\"],[0.6,\"rgb(209,229,240)\"],[0.7,\"rgb(146,197,222)\"],[0.8,\"rgb(67,147,195)\"],[0.9,\"rgb(33,102,172)\"],[1.0,\"rgb(5,48,97)\"]],\"sequential\":[[0.0,\"#440154\"],[0.1111111111111111,\"#482878\"],[0.2222222222222222,\"#3e4989\"],[0.3333333333333333,\"#31688e\"],[0.4444444444444444,\"#26828e\"],[0.5555555555555556,\"#1f9e89\"],[0.6666666666666666,\"#35b779\"],[0.7777777777777778,\"#6ece58\"],[0.8888888888888888,\"#b5de2b\"],[1.0,\"#fde725\"]],\"sequentialminus\":[[0.0,\"#440154\"],[0.1111111111111111,\"#482878\"],[0.2222222222222222,\"#3e4989\"],[0.3333333333333333,\"#31688e\"],[0.4444444444444444,\"#26828e\"],[0.5555555555555556,\"#1f9e89\"],[0.6666666666666666,\"#35b779\"],[0.7777777777777778,\"#6ece58\"],[0.8888888888888888,\"#b5de2b\"],[1.0,\"#fde725\"]]},\"colorway\":[\"#91268F\",\"#8CC63E\",\"#00A7A0\",\"#F05A28\",\"#4C4C4C\",\"#630460\",\"#9f3913\",\"#588527\",\"#00716c\",\"#3e4040\"],\"font\":{\"color\":\"rgb(36,36,36)\",\"family\":\"Poppins\",\"size\":11},\"geo\":{\"bgcolor\":\"white\",\"lakecolor\":\"white\",\"landcolor\":\"white\",\"showlakes\":true,\"showland\":true,\"subunitcolor\":\"white\"},\"hoverlabel\":{\"align\":\"left\"},\"hovermode\":\"closest\",\"mapbox\":{\"style\":\"light\"},\"paper_bgcolor\":\"white\",\"plot_bgcolor\":\"white\",\"polar\":{\"angularaxis\":{\"gridcolor\":\"rgb(232,232,232)\",\"linecolor\":\"rgb(36,36,36)\",\"showgrid\":false,\"showline\":true,\"ticks\":\"outside\"},\"bgcolor\":\"white\",\"radialaxis\":{\"gridcolor\":\"rgb(232,232,232)\",\"linecolor\":\"rgb(36,36,36)\",\"showgrid\":false,\"showline\":true,\"ticks\":\"outside\"}},\"scene\":{\"xaxis\":{\"backgroundcolor\":\"white\",\"gridcolor\":\"rgb(232,232,232)\",\"gridwidth\":2,\"linecolor\":\"rgb(36,36,36)\",\"showbackground\":true,\"showgrid\":false,\"showline\":true,\"ticks\":\"outside\",\"zeroline\":false,\"zerolinecolor\":\"rgb(36,36,36)\"},\"yaxis\":{\"backgroundcolor\":\"white\",\"gridcolor\":\"rgb(232,232,232)\",\"gridwidth\":2,\"linecolor\":\"rgb(36,36,36)\",\"showbackground\":true,\"showgrid\":false,\"showline\":true,\"ticks\":\"outside\",\"zeroline\":false,\"zerolinecolor\":\"rgb(36,36,36)\"},\"zaxis\":{\"backgroundcolor\":\"white\",\"gridcolor\":\"rgb(232,232,232)\",\"gridwidth\":2,\"linecolor\":\"rgb(36,36,36)\",\"showbackground\":true,\"showgrid\":false,\"showline\":true,\"ticks\":\"outside\",\"zeroline\":false,\"zerolinecolor\":\"rgb(36,36,36)\"}},\"shapedefaults\":{\"fillcolor\":\"black\",\"line\":{\"width\":0},\"opacity\":0.3},\"ternary\":{\"aaxis\":{\"gridcolor\":\"rgb(232,232,232)\",\"linecolor\":\"rgb(36,36,36)\",\"showgrid\":false,\"showline\":true,\"ticks\":\"outside\"},\"baxis\":{\"gridcolor\":\"rgb(232,232,232)\",\"linecolor\":\"rgb(36,36,36)\",\"showgrid\":false,\"showline\":true,\"ticks\":\"outside\"},\"bgcolor\":\"white\",\"caxis\":{\"gridcolor\":\"rgb(232,232,232)\",\"linecolor\":\"rgb(36,36,36)\",\"showgrid\":false,\"showline\":true,\"ticks\":\"outside\"}},\"title\":{\"x\":0.05},\"xaxis\":{\"automargin\":true,\"gridcolor\":\"rgb(232,232,232)\",\"linecolor\":\"rgb(36,36,36)\",\"showgrid\":false,\"showline\":true,\"ticks\":\"outside\",\"title\":{\"standoff\":15},\"zeroline\":false,\"zerolinecolor\":\"rgb(36,36,36)\"},\"yaxis\":{\"automargin\":true,\"gridcolor\":\"rgb(232,232,232)\",\"linecolor\":\"rgb(36,36,36)\",\"showgrid\":false,\"showline\":true,\"ticks\":\"outside\",\"title\":{\"standoff\":15},\"zeroline\":false,\"zerolinecolor\":\"rgb(36,36,36)\"}}},\"xaxis\":{\"anchor\":\"y\",\"domain\":[0.0,1.0],\"title\":{\"text\":\"dept_hr\"},\"dtick\":1,\"categoryorder\":\"category ascending\"},\"yaxis\":{\"anchor\":\"x\",\"domain\":[0.0,1.0],\"title\":{\"text\":\"percentage\"},\"tickformat\":\".0%\"},\"legend\":{\"title\":{\"text\":\"source\"},\"tracegroupgap\":0},\"title\":{\"text\":\"trip origin departure hour\"},\"barmode\":\"group\",\"font\":{\"size\":11},\"height\":400,\"width\":700},                        {\"responsive\": true}                    ).then(function(){\n",
       "                            \n",
       "var gd = document.getElementById('b884ebab-c2a8-4929-8f95-6b75abf3d793');\n",
       "var x = new MutationObserver(function (mutations, observer) {{\n",
       "        var display = window.getComputedStyle(gd).display;\n",
       "        if (!display || display === 'none') {{\n",
       "            console.log([gd, 'removed!']);\n",
       "            Plotly.purge(gd);\n",
       "            observer.disconnect();\n",
       "        }}\n",
       "}});\n",
       "\n",
       "// Listen for the removal of the full notebook cells\n",
       "var notebookContainer = gd.closest('#notebook-container');\n",
       "if (notebookContainer) {{\n",
       "    x.observe(notebookContainer, {childList: true});\n",
       "}}\n",
       "\n",
       "// Listen for the clearing of the current output cell\n",
       "var outputEl = gd.closest('.output');\n",
       "if (outputEl) {{\n",
       "    x.observe(outputEl, {childList: true});\n",
       "}}\n",
       "\n",
       "                        })                };                });            </script>        </div>"
      ]
     },
     "metadata": {},
     "output_type": "display_data"
    }
   ],
   "source": [
    "df_plot = df_trip.groupby(['dept_hr','source'])['trexpfac'].agg(sample_count='size', trexpfac='sum').reset_index()\n",
    "df_plot['percentage'] = df_plot.groupby(['source'], group_keys=False)['trexpfac']. \\\n",
    "    apply(lambda x: x / float(x.sum()))\n",
    "\n",
    "fig = px.bar(df_plot, x=\"dept_hr\", y=\"percentage\", color=\"source\",\n",
    "             barmode=\"group\",title=\"trip origin departure hour\",\n",
    "             hover_data=['trexpfac','sample_count'])\n",
    "fig.update_layout(height=400, width=700, font=dict(size=11),\n",
    "                  xaxis = dict(dtick = 1, categoryorder='category ascending'),\n",
    "                  yaxis=dict(tickformat=\".0%\"))\n",
    "fig.show()"
   ]
  },
  {
   "cell_type": "raw",
   "metadata": {
    "vscode": {
     "languageId": "raw"
    }
   },
   "source": [
    ":::"
   ]
  },
  {
   "cell_type": "markdown",
   "metadata": {
    "collapsed": false
   },
   "source": [
    "## time choice by purpose"
   ]
  },
  {
   "cell_type": "raw",
   "metadata": {
    "vscode": {
     "languageId": "raw"
    }
   },
   "source": [
    ":::{.panel-tabset}\n",
    "### tour"
   ]
  },
  {
   "cell_type": "code",
   "execution_count": 6,
   "metadata": {
    "ExecuteTime": {
     "end_time": "2024-07-15T04:43:21.363175Z",
     "start_time": "2024-07-15T04:43:20.456962Z"
    },
    "collapsed": false,
    "execution": {
     "iopub.execute_input": "2025-01-21T07:15:34.321587Z",
     "iopub.status.busy": "2025-01-21T07:15:34.318951Z",
     "iopub.status.idle": "2025-01-21T07:15:35.221079Z",
     "shell.execute_reply": "2025-01-21T07:15:35.218349Z"
    }
   },
   "outputs": [
    {
     "data": {
      "application/vnd.plotly.v1+json": {
       "config": {
        "plotlyServerURL": "https://plot.ly"
       },
       "data": [
        {
         "alignmentgroup": "True",
         "customdata": [
          [
           1370,
           1370
          ],
          [
           865,
           865
          ],
          [
           332,
           332
          ],
          [
           43863,
           43863
          ],
          [
           43757,
           43757
          ],
          [
           97805,
           97805
          ],
          [
           244431,
           244431
          ],
          [
           307538,
           307538
          ],
          [
           246407,
           246407
          ],
          [
           128674,
           128674
          ],
          [
           77439,
           77439
          ],
          [
           61083,
           61083
          ],
          [
           48984,
           48984
          ],
          [
           39542,
           39542
          ],
          [
           34128,
           34128
          ],
          [
           30199,
           30199
          ],
          [
           28872,
           28872
          ],
          [
           27322,
           27322
          ],
          [
           22447,
           22447
          ],
          [
           11975,
           11975
          ],
          [
           9554,
           9554
          ],
          [
           6514,
           6514
          ],
          [
           2992,
           2992
          ],
          [
           2100,
           2100
          ]
         ],
         "hovertemplate": "source=model<br>pdpurp_label=Work<br>tlvorg_hr=%{x}<br>percentage=%{y}<br>toexpfac=%{customdata[0]}<br>sample_count=%{customdata[1]}<extra></extra>",
         "legendgroup": "model",
         "marker": {
          "color": "#91268F",
          "pattern": {
           "shape": ""
          }
         },
         "name": "model",
         "offsetgroup": "model",
         "orientation": "v",
         "showlegend": true,
         "textposition": "auto",
         "type": "bar",
         "x": [
          0,
          1,
          2,
          3,
          4,
          5,
          6,
          7,
          8,
          9,
          10,
          11,
          12,
          13,
          14,
          15,
          16,
          17,
          18,
          19,
          20,
          21,
          22,
          23
         ],
         "xaxis": "x6",
         "y": [
          0.0009023885632459115,
          0.0005697562826333674,
          0.0002186810240858705,
          0.028891583612887163,
          0.0288217637678477,
          0.06442198060457399,
          0.1610012692720886,
          0.20256844814855554,
          0.16230281657206955,
          0.08475470510007621,
          0.051007348868029295,
          0.040234015042883216,
          0.03226467254163338,
          0.02604543691085389,
          0.02247935539157406,
          0.01989141038063013,
          0.01901734496207004,
          0.01799639439781372,
          0.014785340203781732,
          0.007887666456109336,
          0.0062930075425192975,
          0.004290627081010122,
          0.0019707639279063992,
          0.00138322334512147
         ],
         "yaxis": "y6"
        },
        {
         "alignmentgroup": "True",
         "customdata": [
          [
           0,
           0
          ],
          [
           0,
           0
          ],
          [
           1,
           1
          ],
          [
           3203,
           3203
          ],
          [
           3281,
           3281
          ],
          [
           10676,
           10676
          ],
          [
           61227,
           61227
          ],
          [
           143985,
           143985
          ],
          [
           147371,
           147371
          ],
          [
           69306,
           69306
          ],
          [
           30497,
           30497
          ],
          [
           17994,
           17994
          ],
          [
           11022,
           11022
          ],
          [
           7017,
           7017
          ],
          [
           4652,
           4652
          ],
          [
           3169,
           3169
          ],
          [
           2449,
           2449
          ],
          [
           2216,
           2216
          ],
          [
           1617,
           1617
          ],
          [
           499,
           499
          ],
          [
           447,
           447
          ],
          [
           219,
           219
          ],
          [
           0,
           0
          ],
          [
           0,
           0
          ]
         ],
         "hovertemplate": "source=model<br>pdpurp_label=School<br>tlvorg_hr=%{x}<br>percentage=%{y}<br>toexpfac=%{customdata[0]}<br>sample_count=%{customdata[1]}<extra></extra>",
         "legendgroup": "model",
         "marker": {
          "color": "#91268F",
          "pattern": {
           "shape": ""
          }
         },
         "name": "model",
         "offsetgroup": "model",
         "orientation": "v",
         "showlegend": false,
         "textposition": "auto",
         "type": "bar",
         "x": [
          0,
          1,
          2,
          3,
          4,
          5,
          6,
          7,
          8,
          9,
          10,
          11,
          12,
          13,
          14,
          15,
          16,
          17,
          18,
          19,
          20,
          21,
          22,
          23
         ],
         "xaxis": "x5",
         "y": [
          0,
          0,
          0.0000019199459343224896,
          0.006149586827634934,
          0.006299342610512088,
          0.020497342794826897,
          0.11755252972076306,
          0.27644341535342365,
          0.2829443522870396,
          0.13306377292415444,
          0.05855259115903296,
          0.034547507142198876,
          0.02116164408810248,
          0.01347226062114091,
          0.00893158848646822,
          0.006084308665867969,
          0.004701947593155777,
          0.004254600190458637,
          0.0031045525757994654,
          0.0009580530212269223,
          0.0008582158326421528,
          0.0004204681596166252,
          0,
          0
         ],
         "yaxis": "y5"
        },
        {
         "alignmentgroup": "True",
         "customdata": [
          [
           315,
           315
          ],
          [
           267,
           267
          ],
          [
           114,
           114
          ],
          [
           1210,
           1210
          ],
          [
           909,
           909
          ],
          [
           2103,
           2103
          ],
          [
           10778,
           10778
          ],
          [
           31396,
           31396
          ],
          [
           54286,
           54286
          ],
          [
           66851,
           66851
          ],
          [
           67211,
           67211
          ],
          [
           55256,
           55256
          ],
          [
           53659,
           53659
          ],
          [
           58643,
           58643
          ],
          [
           54125,
           54125
          ],
          [
           50618,
           50618
          ],
          [
           56163,
           56163
          ],
          [
           50888,
           50888
          ],
          [
           48054,
           48054
          ],
          [
           30380,
           30380
          ],
          [
           18230,
           18230
          ],
          [
           8727,
           8727
          ],
          [
           2374,
           2374
          ],
          [
           1166,
           1166
          ]
         ],
         "hovertemplate": "source=model<br>pdpurp_label=Shop<br>tlvorg_hr=%{x}<br>percentage=%{y}<br>toexpfac=%{customdata[0]}<br>sample_count=%{customdata[1]}<extra></extra>",
         "legendgroup": "model",
         "marker": {
          "color": "#91268F",
          "pattern": {
           "shape": ""
          }
         },
         "name": "model",
         "offsetgroup": "model",
         "orientation": "v",
         "showlegend": false,
         "textposition": "auto",
         "type": "bar",
         "x": [
          0,
          1,
          2,
          3,
          4,
          5,
          6,
          7,
          8,
          9,
          10,
          11,
          12,
          13,
          14,
          15,
          16,
          17,
          18,
          19,
          20,
          21,
          22,
          23
         ],
         "xaxis": "x4",
         "y": [
          0.00043524939790499955,
          0.00036892568012899965,
          0.00015751882971799984,
          0.0016719103856033316,
          0.0012560054053829988,
          0.002905807885060997,
          0.014892438128952652,
          0.04338123840198529,
          0.07500936131641525,
          0.09237097618840358,
          0.09286840407172357,
          0.07634965311313859,
          0.07414300775296626,
          0.08102962044870758,
          0.0747869005130416,
          0.0699411238830326,
          0.07760289503028092,
          0.0703141947955226,
          0.06639833195849794,
          0.04197738637572662,
          0.02518919531367664,
          0.012058480938148987,
          0.00328026054167133,
          0.001611113644308665
         ],
         "yaxis": "y4"
        },
        {
         "alignmentgroup": "True",
         "customdata": [
          [
           376,
           376
          ],
          [
           282,
           282
          ],
          [
           88,
           88
          ],
          [
           1259,
           1259
          ],
          [
           894,
           894
          ],
          [
           1924,
           1924
          ],
          [
           5986,
           5986
          ],
          [
           10545,
           10545
          ],
          [
           20166,
           20166
          ],
          [
           26796,
           26796
          ],
          [
           32268,
           32268
          ],
          [
           31357,
           31357
          ],
          [
           32031,
           32031
          ],
          [
           29637,
           29637
          ],
          [
           27369,
           27369
          ],
          [
           25551,
           25551
          ],
          [
           31109,
           31109
          ],
          [
           31737,
           31737
          ],
          [
           32042,
           32042
          ],
          [
           20390,
           20390
          ],
          [
           14682,
           14682
          ],
          [
           9943,
           9943
          ],
          [
           2357,
           2357
          ],
          [
           1013,
           1013
          ]
         ],
         "hovertemplate": "source=model<br>pdpurp_label=Meal<br>tlvorg_hr=%{x}<br>percentage=%{y}<br>toexpfac=%{customdata[0]}<br>sample_count=%{customdata[1]}<extra></extra>",
         "legendgroup": "model",
         "marker": {
          "color": "#91268F",
          "pattern": {
           "shape": ""
          }
         },
         "name": "model",
         "offsetgroup": "model",
         "orientation": "v",
         "showlegend": false,
         "textposition": "auto",
         "type": "bar",
         "x": [
          0,
          1,
          2,
          3,
          4,
          5,
          6,
          7,
          8,
          9,
          10,
          11,
          12,
          13,
          14,
          15,
          16,
          17,
          18,
          19,
          20,
          21,
          22,
          23
         ],
         "xaxis": "x3",
         "y": [
          0.0009645922801832725,
          0.0007234442101374544,
          0.00022575564004289356,
          0.0032298448956136704,
          0.0022934720704357596,
          0.00493583922093781,
          0.015356514332917738,
          0.02705219573013992,
          0.05173395723982945,
          0.06874259239306109,
          0.0827804885557283,
          0.08044340460028425,
          0.08217248757061277,
          0.07603090799944587,
          0.07021256945834038,
          0.06554866316745425,
          0.07980718416016337,
          0.08141825850046946,
          0.08220070702561813,
          0.052308607959938636,
          0.0376652762171564,
          0.025507821919846487,
          0.006046659586148865,
          0.0025987552654937636
         ],
         "yaxis": "y3"
        },
        {
         "alignmentgroup": "True",
         "customdata": [
          [
           240,
           240
          ],
          [
           220,
           220
          ],
          [
           113,
           113
          ],
          [
           6105,
           6105
          ],
          [
           3479,
           3479
          ],
          [
           6103,
           6103
          ],
          [
           20509,
           20509
          ],
          [
           41420,
           41420
          ],
          [
           64484,
           64484
          ],
          [
           75882,
           75882
          ],
          [
           67306,
           67306
          ],
          [
           50061,
           50061
          ],
          [
           44969,
           44969
          ],
          [
           46707,
           46707
          ],
          [
           42028,
           42028
          ],
          [
           40092,
           40092
          ],
          [
           39303,
           39303
          ],
          [
           31936,
           31936
          ],
          [
           27169,
           27169
          ],
          [
           18056,
           18056
          ],
          [
           12923,
           12923
          ],
          [
           7211,
           7211
          ],
          [
           2136,
           2136
          ],
          [
           1101,
           1101
          ]
         ],
         "hovertemplate": "source=model<br>pdpurp_label=Escort<br>tlvorg_hr=%{x}<br>percentage=%{y}<br>toexpfac=%{customdata[0]}<br>sample_count=%{customdata[1]}<extra></extra>",
         "legendgroup": "model",
         "marker": {
          "color": "#91268F",
          "pattern": {
           "shape": ""
          }
         },
         "name": "model",
         "offsetgroup": "model",
         "orientation": "v",
         "showlegend": false,
         "textposition": "auto",
         "type": "bar",
         "x": [
          0,
          1,
          2,
          3,
          4,
          5,
          6,
          7,
          8,
          9,
          10,
          11,
          12,
          13,
          14,
          15,
          16,
          17,
          18,
          19,
          20,
          21,
          22,
          23
         ],
         "xaxis": "x2",
         "y": [
          0.00036948486112757544,
          0.0003386944560336108,
          0.0001739657887809001,
          0.0093987711549327,
          0.005355990966095145,
          0.009395692114423303,
          0.03157402090360602,
          0.06376692894960073,
          0.09927442410396073,
          0.11682187596701116,
          0.10361895026271913,
          0.07706992347044814,
          0.06923068633352475,
          0.07190637253619027,
          0.06470295726445725,
          0.06172244605136148,
          0.06050776457040457,
          0.049166118854042706,
          0.041827225799896235,
          0.02779757771883126,
          0.01989522025146524,
          0.011101480556628943,
          0.0032884152640354214,
          0.0016950118004227523
         ],
         "yaxis": "y2"
        },
        {
         "alignmentgroup": "True",
         "customdata": [
          [
           167,
           167
          ],
          [
           114,
           114
          ],
          [
           57,
           57
          ],
          [
           2543,
           2543
          ],
          [
           1479,
           1479
          ],
          [
           3178,
           3178
          ],
          [
           10440,
           10440
          ],
          [
           21117,
           21117
          ],
          [
           35406,
           35406
          ],
          [
           43169,
           43169
          ],
          [
           41135,
           41135
          ],
          [
           33044,
           33044
          ],
          [
           30625,
           30625
          ],
          [
           31368,
           31368
          ],
          [
           26571,
           26571
          ],
          [
           24424,
           24424
          ],
          [
           27287,
           27287
          ],
          [
           25096,
           25096
          ],
          [
           22381,
           22381
          ],
          [
           13250,
           13250
          ],
          [
           9381,
           9381
          ],
          [
           5486,
           5486
          ],
          [
           1262,
           1262
          ],
          [
           545,
           545
          ]
         ],
         "hovertemplate": "source=model<br>pdpurp_label=Personal Business<br>tlvorg_hr=%{x}<br>percentage=%{y}<br>toexpfac=%{customdata[0]}<br>sample_count=%{customdata[1]}<extra></extra>",
         "legendgroup": "model",
         "marker": {
          "color": "#91268F",
          "pattern": {
           "shape": ""
          }
         },
         "name": "model",
         "offsetgroup": "model",
         "orientation": "v",
         "showlegend": false,
         "textposition": "auto",
         "type": "bar",
         "x": [
          0,
          1,
          2,
          3,
          4,
          5,
          6,
          7,
          8,
          9,
          10,
          11,
          12,
          13,
          14,
          15,
          16,
          17,
          18,
          19,
          20,
          21,
          22,
          23
         ],
         "xaxis": "x",
         "y": [
          0.00040778951223979,
          0.00027837128380440757,
          0.00013918564190220378,
          0.006209633111531653,
          0.003611501129357182,
          0.007760209999389537,
          0.025492949148403637,
          0.05156461754471644,
          0.08645626030156889,
          0.10541236798730236,
          0.10044563823942372,
          0.0806886026494109,
          0.07478175935535071,
          0.07659605640681277,
          0.0648824858067273,
          0.05963982662841096,
          0.06663085281728832,
          0.06128075209083694,
          0.054651120200231974,
          0.03235455710884561,
          0.022907026433062694,
          0.013396007569745436,
          0.0030816189487821257,
          0.0013308100848544045
         ],
         "yaxis": "y"
        },
        {
         "alignmentgroup": "True",
         "customdata": [
          [
           0,
           0
          ],
          [
           290.035564242689,
           1
          ],
          [
           0,
           0
          ],
          [
           14788.62507007542,
           21
          ],
          [
           62334.98080849342,
           65
          ],
          [
           110560.94845318861,
           135
          ],
          [
           231832.64991962665,
           369
          ],
          [
           345802.4190378416,
           614
          ],
          [
           258891.17064905204,
           504
          ],
          [
           138775.7528467847,
           292
          ],
          [
           41934.64180856641,
           170
          ],
          [
           37958.57044734343,
           99
          ],
          [
           31180.959769409055,
           106
          ],
          [
           24948.05578014202,
           69
          ],
          [
           27287.01473768372,
           62
          ],
          [
           27505.411115810744,
           50
          ],
          [
           19075.53144467118,
           33
          ],
          [
           12319.997987789659,
           34
          ],
          [
           1955.1087945262727,
           10
          ],
          [
           745.7762566027517,
           7
          ],
          [
           270.8142398817476,
           7
          ],
          [
           113.8011265835064,
           3
          ],
          [
           387.3586482889782,
           6
          ],
          [
           235.31298890314352,
           1
          ]
         ],
         "hovertemplate": "source=survey<br>pdpurp_label=Work<br>tlvorg_hr=%{x}<br>percentage=%{y}<br>toexpfac=%{customdata[0]}<br>sample_count=%{customdata[1]}<extra></extra>",
         "legendgroup": "survey",
         "marker": {
          "color": "#8CC63E",
          "pattern": {
           "shape": ""
          }
         },
         "name": "survey",
         "offsetgroup": "survey",
         "orientation": "v",
         "showlegend": true,
         "textposition": "auto",
         "type": "bar",
         "x": [
          0,
          1,
          2,
          3,
          4,
          5,
          6,
          7,
          8,
          9,
          10,
          11,
          12,
          13,
          14,
          15,
          16,
          17,
          18,
          19,
          20,
          21,
          22,
          23
         ],
         "xaxis": "x6",
         "y": [
          0,
          0.00020877960062651532,
          0,
          0.010645464269209693,
          0.04487129856726461,
          0.07958634563736029,
          0.1668827344977107,
          0.24892289030455803,
          0.18636057738289102,
          0.09989652935028309,
          0.030186290402243864,
          0.027324149709166485,
          0.022445345090029805,
          0.01795864288500741,
          0.019642322327259387,
          0.01979953307733652,
          0.013731356867065222,
          0.008868444345183555,
          0.0014073682114412363,
          0.0005368406092432677,
          0.00019494329598550192,
          0.00008191875993204474,
          0.0002788367836894963,
          0.0001693880265122291
         ],
         "yaxis": "y6"
        },
        {
         "alignmentgroup": "True",
         "customdata": [
          [
           0,
           0
          ],
          [
           0,
           0
          ],
          [
           0,
           0
          ],
          [
           0,
           0
          ],
          [
           86.688593033636,
           1
          ],
          [
           454.392198263691,
           4
          ],
          [
           35841.94166273945,
           28
          ],
          [
           184810.37813662854,
           229
          ],
          [
           178463.91097304705,
           262
          ],
          [
           54742.69479601805,
           55
          ],
          [
           11578.782726445685,
           19
          ],
          [
           4313.592683769604,
           14
          ],
          [
           5558.5039639001925,
           9
          ],
          [
           3238.9460580296372,
           11
          ],
          [
           2722.270337875217,
           6
          ],
          [
           1054.0446466650703,
           4
          ],
          [
           3913.0500727283707,
           7
          ],
          [
           869.3783619234035,
           5
          ],
          [
           1513.89214241086,
           1
          ],
          [
           0,
           0
          ],
          [
           0,
           0
          ],
          [
           0,
           0
          ],
          [
           0,
           0
          ],
          [
           0,
           0
          ]
         ],
         "hovertemplate": "source=survey<br>pdpurp_label=School<br>tlvorg_hr=%{x}<br>percentage=%{y}<br>toexpfac=%{customdata[0]}<br>sample_count=%{customdata[1]}<extra></extra>",
         "legendgroup": "survey",
         "marker": {
          "color": "#8CC63E",
          "pattern": {
           "shape": ""
          }
         },
         "name": "survey",
         "offsetgroup": "survey",
         "orientation": "v",
         "showlegend": false,
         "textposition": "auto",
         "type": "bar",
         "x": [
          0,
          1,
          2,
          3,
          4,
          5,
          6,
          7,
          8,
          9,
          10,
          11,
          12,
          13,
          14,
          15,
          16,
          17,
          18,
          19,
          20,
          21,
          22,
          23
         ],
         "xaxis": "x5",
         "y": [
          0,
          0,
          0,
          0,
          0.00017721840660148833,
          0.0009289187715527206,
          0.07327206001035921,
          0.37780980854175167,
          0.36483565866897455,
          0.11191106932670675,
          0.023670627857224028,
          0.008818323096429468,
          0.011363308378857098,
          0.006621411645814418,
          0.005565166012436623,
          0.0021547946071328425,
          0.007999489604955164,
          0.001777279370240754,
          0.0030948657009632996,
          0,
          0,
          0,
          0,
          0
         ],
         "yaxis": "y5"
        },
        {
         "alignmentgroup": "True",
         "customdata": [
          [
           143.521368637738,
           1
          ],
          [
           0,
           0
          ],
          [
           570.896774611867,
           1
          ],
          [
           0,
           0
          ],
          [
           0,
           0
          ],
          [
           776.7637534339301,
           5
          ],
          [
           4769.603818802844,
           8
          ],
          [
           12107.898756094186,
           36
          ],
          [
           18154.742506415536,
           53
          ],
          [
           53830.420476548745,
           115
          ],
          [
           62551.662332100525,
           163
          ],
          [
           71298.68910586355,
           122
          ],
          [
           59180.63170434406,
           124
          ],
          [
           59428.21451426868,
           135
          ],
          [
           62755.07549026256,
           154
          ],
          [
           68685.48809386698,
           111
          ],
          [
           55073.599176348456,
           110
          ],
          [
           28436.43160983523,
           119
          ],
          [
           62362.95808194445,
           102
          ],
          [
           20444.191353382022,
           89
          ],
          [
           7282.428149155887,
           32
          ],
          [
           2019.503056430456,
           14
          ],
          [
           2349.3900106378996,
           7
          ],
          [
           628.325555652825,
           3
          ]
         ],
         "hovertemplate": "source=survey<br>pdpurp_label=Shop<br>tlvorg_hr=%{x}<br>percentage=%{y}<br>toexpfac=%{customdata[0]}<br>sample_count=%{customdata[1]}<extra></extra>",
         "legendgroup": "survey",
         "marker": {
          "color": "#8CC63E",
          "pattern": {
           "shape": ""
          }
         },
         "name": "survey",
         "offsetgroup": "survey",
         "orientation": "v",
         "showlegend": false,
         "textposition": "auto",
         "type": "bar",
         "x": [
          0,
          1,
          2,
          3,
          4,
          5,
          6,
          7,
          8,
          9,
          10,
          11,
          12,
          13,
          14,
          15,
          16,
          17,
          18,
          19,
          20,
          21,
          22,
          23
         ],
         "xaxis": "x4",
         "y": [
          0.00021983805293221417,
          0,
          0.0008744679384485281,
          0,
          0,
          0.0011898035307498656,
          0.007305813947679731,
          0.0185462061357477,
          0.027808425198132224,
          0.08245444520499927,
          0.0958131585929324,
          0.10921136788498334,
          0.09064960130097678,
          0.09102883488403085,
          0.096124735559175,
          0.10520861186439476,
          0.0843586772187045,
          0.04355734492210297,
          0.09552411191418272,
          0.0313152756524044,
          0.011154818548101679,
          0.003093362500861698,
          0.0035986649961560037,
          0.0009624341523032849
         ],
         "yaxis": "y4"
        },
        {
         "alignmentgroup": "True",
         "customdata": [
          [
           632.62215829592,
           1
          ],
          [
           0,
           0
          ],
          [
           0,
           0
          ],
          [
           0,
           0
          ],
          [
           23.312448148228,
           1
          ],
          [
           46.07273363740228,
           2
          ],
          [
           2925.777734452038,
           8
          ],
          [
           23356.46439963609,
           20
          ],
          [
           14130.041614476766,
           44
          ],
          [
           15870.600300674025,
           49
          ],
          [
           22019.720159185883,
           57
          ],
          [
           34250.98114834559,
           106
          ],
          [
           38166.71534632753,
           116
          ],
          [
           13881.241923716083,
           61
          ],
          [
           13340.120241994084,
           38
          ],
          [
           31104.060703891093,
           56
          ],
          [
           18198.03715850649,
           57
          ],
          [
           29709.86656119251,
           96
          ],
          [
           40049.22701963642,
           104
          ],
          [
           34982.764543346995,
           55
          ],
          [
           13824.595015197263,
           32
          ],
          [
           3917.0406076992085,
           11
          ],
          [
           64.4328417659313,
           2
          ],
          [
           592.2696401845194,
           2
          ]
         ],
         "hovertemplate": "source=survey<br>pdpurp_label=Meal<br>tlvorg_hr=%{x}<br>percentage=%{y}<br>toexpfac=%{customdata[0]}<br>sample_count=%{customdata[1]}<extra></extra>",
         "legendgroup": "survey",
         "marker": {
          "color": "#8CC63E",
          "pattern": {
           "shape": ""
          }
         },
         "name": "survey",
         "offsetgroup": "survey",
         "orientation": "v",
         "showlegend": false,
         "textposition": "auto",
         "type": "bar",
         "x": [
          0,
          1,
          2,
          3,
          4,
          5,
          6,
          7,
          8,
          9,
          10,
          11,
          12,
          13,
          14,
          15,
          16,
          17,
          18,
          19,
          20,
          21,
          22,
          23
         ],
         "xaxis": "x3",
         "y": [
          0.001801901023177307,
          0,
          0,
          0,
          0.00006640096876184753,
          0.0001312292097156947,
          0.008333508120391285,
          0.06652634048240551,
          0.04024667190167217,
          0.045204314368713173,
          0.06271888482659699,
          0.09755724987925798,
          0.10871045620519507,
          0.03953801443296213,
          0.03799673469880808,
          0.08859385981401828,
          0.0518335650209598,
          0.08462276929925756,
          0.1140724241125724,
          0.09964159237486243,
          0.039376666745276255,
          0.011156927379610857,
          0.00018352440233360365,
          0.0016869647334517394
         ],
         "yaxis": "y3"
        },
        {
         "alignmentgroup": "True",
         "customdata": [
          [
           0,
           0
          ],
          [
           0,
           0
          ],
          [
           0,
           0
          ],
          [
           0,
           0
          ],
          [
           4054.1074151579,
           1
          ],
          [
           3621.6853178441725,
           8
          ],
          [
           14008.043944164967,
           15
          ],
          [
           79706.75888850242,
           112
          ],
          [
           107385.8432889369,
           150
          ],
          [
           32796.21169392769,
           46
          ],
          [
           5778.952525156872,
           27
          ],
          [
           9936.136797937104,
           23
          ],
          [
           13460.375487800955,
           38
          ],
          [
           40000.633169023255,
           47
          ],
          [
           56443.05266800753,
           72
          ],
          [
           67075.08161255956,
           81
          ],
          [
           38015.74994991364,
           55
          ],
          [
           50697.182926902904,
           53
          ],
          [
           3506.97842117303,
           17
          ],
          [
           9894.698905991168,
           16
          ],
          [
           2107.841073937623,
           8
          ],
          [
           330.2706023061876,
           5
          ],
          [
           6096.135066820443,
           5
          ],
          [
           0,
           0
          ]
         ],
         "hovertemplate": "source=survey<br>pdpurp_label=Escort<br>tlvorg_hr=%{x}<br>percentage=%{y}<br>toexpfac=%{customdata[0]}<br>sample_count=%{customdata[1]}<extra></extra>",
         "legendgroup": "survey",
         "marker": {
          "color": "#8CC63E",
          "pattern": {
           "shape": ""
          }
         },
         "name": "survey",
         "offsetgroup": "survey",
         "orientation": "v",
         "showlegend": false,
         "textposition": "auto",
         "type": "bar",
         "x": [
          0,
          1,
          2,
          3,
          4,
          5,
          6,
          7,
          8,
          9,
          10,
          11,
          12,
          13,
          14,
          15,
          16,
          17,
          18,
          19,
          20,
          21,
          22,
          23
         ],
         "xaxis": "x2",
         "y": [
          0,
          0,
          0,
          0,
          0.007439879451771301,
          0.006646321722080276,
          0.025706807350501154,
          0.1462735485016156,
          0.1970687125628065,
          0.06018584030736416,
          0.010605222245450031,
          0.01823426279150074,
          0.02470175571332661,
          0.07340700635098162,
          0.10358124853078146,
          0.12309257508800579,
          0.06976445563296022,
          0.09303673802778736,
          0.006435817806883236,
          0.018158218205296485,
          0.003868196346982406,
          0.0006060948110143337,
          0.011187298552890811,
          0
         ],
         "yaxis": "y2"
        },
        {
         "alignmentgroup": "True",
         "customdata": [
          [
           0,
           0
          ],
          [
           0,
           0
          ],
          [
           0,
           0
          ],
          [
           0,
           0
          ],
          [
           0,
           0
          ],
          [
           2325.255872414626,
           5
          ],
          [
           6446.839968605129,
           21
          ],
          [
           37494.19187984278,
           62
          ],
          [
           21983.974469176625,
           68
          ],
          [
           48225.42231837046,
           89
          ],
          [
           27457.449132175087,
           93
          ],
          [
           27892.063700452858,
           73
          ],
          [
           28210.8273399356,
           84
          ],
          [
           22478.414619897256,
           86
          ],
          [
           35846.57944133159,
           81
          ],
          [
           31185.913641812193,
           68
          ],
          [
           9833.272916917173,
           53
          ],
          [
           30678.220711815993,
           36
          ],
          [
           2633.623560564438,
           22
          ],
          [
           13166.944073262279,
           15
          ],
          [
           6.85398522000551,
           1
          ],
          [
           29.4730659624188,
           1
          ],
          [
           197.424677262663,
           1
          ],
          [
           0,
           0
          ]
         ],
         "hovertemplate": "source=survey<br>pdpurp_label=Personal Business<br>tlvorg_hr=%{x}<br>percentage=%{y}<br>toexpfac=%{customdata[0]}<br>sample_count=%{customdata[1]}<extra></extra>",
         "legendgroup": "survey",
         "marker": {
          "color": "#8CC63E",
          "pattern": {
           "shape": ""
          }
         },
         "name": "survey",
         "offsetgroup": "survey",
         "orientation": "v",
         "showlegend": false,
         "textposition": "auto",
         "type": "bar",
         "x": [
          0,
          1,
          2,
          3,
          4,
          5,
          6,
          7,
          8,
          9,
          10,
          11,
          12,
          13,
          14,
          15,
          16,
          17,
          18,
          19,
          20,
          21,
          22,
          23
         ],
         "xaxis": "x",
         "y": [
          0,
          0,
          0,
          0,
          0,
          0.006718591774857995,
          0.018627492355031777,
          0.1083356770140178,
          0.06352047178959279,
          0.1393424825074399,
          0.07933552349507571,
          0.08059129835336357,
          0.0815123336646855,
          0.06494910662036588,
          0.10357506743601042,
          0.09010854477177718,
          0.02841224801248589,
          0.08864161737505849,
          0.007609589035767555,
          0.038044553805930956,
          0.000019803897399174516,
          0.00008515944456010593,
          0.0005704386465793658,
          0
         ],
         "yaxis": "y"
        },
        {
         "alignmentgroup": "True",
         "customdata": [
          [
           663.365825915265,
           1
          ],
          [
           0,
           0
          ],
          [
           66.61248155133971,
           2
          ],
          [
           11536.937249213654,
           35
          ],
          [
           47069.11064528897,
           144
          ],
          [
           176781.16049967616,
           464
          ],
          [
           333470.07784518355,
           1342
          ],
          [
           393071.5312644363,
           2287
          ],
          [
           269789.2629268085,
           1877
          ],
          [
           165885.5016349633,
           1035
          ],
          [
           74340.1775894003,
           457
          ],
          [
           26843.559387681602,
           262
          ],
          [
           38841.596463089445,
           243
          ],
          [
           29706.812597293483,
           196
          ],
          [
           18524.446823193204,
           130
          ],
          [
           19186.686366792266,
           73
          ],
          [
           10080.046467017171,
           76
          ],
          [
           9235.107314169933,
           64
          ],
          [
           4129.18919406304,
           39
          ],
          [
           2189.811752997616,
           13
          ],
          [
           1627.1968036848762,
           10
          ],
          [
           2.034207699983375,
           1
          ],
          [
           988.686151042609,
           2
          ],
          [
           988.686151042609,
           2
          ]
         ],
         "hovertemplate": "source=survey (2017/2019)<br>pdpurp_label=Work<br>tlvorg_hr=%{x}<br>percentage=%{y}<br>toexpfac=%{customdata[0]}<br>sample_count=%{customdata[1]}<extra></extra>",
         "legendgroup": "survey (2017/2019)",
         "marker": {
          "color": "#00A7A0",
          "pattern": {
           "shape": ""
          }
         },
         "name": "survey (2017/2019)",
         "offsetgroup": "survey (2017/2019)",
         "orientation": "v",
         "showlegend": true,
         "textposition": "auto",
         "type": "bar",
         "x": [
          0,
          1,
          2,
          3,
          4,
          5,
          6,
          7,
          8,
          9,
          10,
          11,
          12,
          13,
          14,
          15,
          16,
          17,
          18,
          19,
          20,
          21,
          22,
          23
         ],
         "xaxis": "x6",
         "y": [
          0.00040572396705202367,
          0,
          0.00004074114043016966,
          0.007056154787477896,
          0.028788137028717912,
          0.10812187021999356,
          0.20395503897087572,
          0.24040813495296282,
          0.16500694751901204,
          0.10145793040648632,
          0.045467509155010535,
          0.016417902428935104,
          0.023756072423380268,
          0.01816910878520972,
          0.011329814951170301,
          0.011734850067950726,
          0.006165099679387678,
          0.0056483228850181914,
          0.0025254707961660976,
          0.0013393199902896813,
          0.0009952166912646034,
          0.0000012441503399821667,
          0.0006046945014343298,
          0.0006046945014343298
         ],
         "yaxis": "y6"
        },
        {
         "alignmentgroup": "True",
         "customdata": [
          [
           0,
           0
          ],
          [
           0,
           0
          ],
          [
           0,
           0
          ],
          [
           0,
           0
          ],
          [
           0,
           0
          ],
          [
           10420.739136253758,
           19
          ],
          [
           67142.96212951338,
           117
          ],
          [
           184966.19363985493,
           500
          ],
          [
           158860.18151059185,
           567
          ],
          [
           36237.686969387454,
           140
          ],
          [
           13587.301864651045,
           57
          ],
          [
           5464.016981777703,
           29
          ],
          [
           9372.079396235318,
           46
          ],
          [
           3740.5243791076186,
           32
          ],
          [
           2899.564229654071,
           33
          ],
          [
           17571.078593923314,
           29
          ],
          [
           5634.82123136347,
           27
          ],
          [
           8698.721489859108,
           38
          ],
          [
           675.101533826343,
           11
          ],
          [
           75.14674575208934,
           3
          ],
          [
           0,
           0
          ],
          [
           0,
           0
          ],
          [
           0,
           0
          ],
          [
           0,
           0
          ]
         ],
         "hovertemplate": "source=survey (2017/2019)<br>pdpurp_label=School<br>tlvorg_hr=%{x}<br>percentage=%{y}<br>toexpfac=%{customdata[0]}<br>sample_count=%{customdata[1]}<extra></extra>",
         "legendgroup": "survey (2017/2019)",
         "marker": {
          "color": "#00A7A0",
          "pattern": {
           "shape": ""
          }
         },
         "name": "survey (2017/2019)",
         "offsetgroup": "survey (2017/2019)",
         "orientation": "v",
         "showlegend": false,
         "textposition": "auto",
         "type": "bar",
         "x": [
          0,
          1,
          2,
          3,
          4,
          5,
          6,
          7,
          8,
          9,
          10,
          11,
          12,
          13,
          14,
          15,
          16,
          17,
          18,
          19,
          20,
          21,
          22,
          23
         ],
         "xaxis": "x5",
         "y": [
          0,
          0,
          0,
          0,
          0,
          0.019835949563291964,
          0.12780709630256096,
          0.35208443853947685,
          0.3023914625303957,
          0.06897868967033205,
          0.025863523783144233,
          0.010400794401084797,
          0.017839818440529915,
          0.007120114221659366,
          0.005519340716902395,
          0.03344667054845797,
          0.010725921480429114,
          0.016558076973415128,
          0.0012850604741166693,
          0.00014304235420289392,
          0,
          0,
          0,
          0
         ],
         "yaxis": "y5"
        },
        {
         "alignmentgroup": "True",
         "customdata": [
          [
           83.24521252225395,
           2
          ],
          [
           0,
           0
          ],
          [
           0.54525469613021,
           1
          ],
          [
           11.087229656279533,
           1
          ],
          [
           608.1118660539306,
           3
          ],
          [
           313.64492561617914,
           3
          ],
          [
           6154.285694475873,
           16
          ],
          [
           13477.069989906293,
           54
          ],
          [
           22829.075462720826,
           87
          ],
          [
           134178.91188748827,
           211
          ],
          [
           102892.5138371521,
           225
          ],
          [
           91115.22510114146,
           230
          ],
          [
           89633.42932089815,
           201
          ],
          [
           28021.09586572641,
           219
          ],
          [
           51437.909248826996,
           190
          ],
          [
           64356.26229586238,
           200
          ],
          [
           35570.71695496434,
           203
          ],
          [
           44948.3250943588,
           206
          ],
          [
           25821.858260572855,
           201
          ],
          [
           37186.01221540861,
           173
          ],
          [
           16066.913929221468,
           97
          ],
          [
           18875.0258305438,
           49
          ],
          [
           557.4277959529774,
           17
          ],
          [
           2123.97370652186,
           7
          ]
         ],
         "hovertemplate": "source=survey (2017/2019)<br>pdpurp_label=Shop<br>tlvorg_hr=%{x}<br>percentage=%{y}<br>toexpfac=%{customdata[0]}<br>sample_count=%{customdata[1]}<extra></extra>",
         "legendgroup": "survey (2017/2019)",
         "marker": {
          "color": "#00A7A0",
          "pattern": {
           "shape": ""
          }
         },
         "name": "survey (2017/2019)",
         "offsetgroup": "survey (2017/2019)",
         "orientation": "v",
         "showlegend": false,
         "textposition": "auto",
         "type": "bar",
         "x": [
          0,
          1,
          2,
          3,
          4,
          5,
          6,
          7,
          8,
          9,
          10,
          11,
          12,
          13,
          14,
          15,
          16,
          17,
          18,
          19,
          20,
          21,
          22,
          23
         ],
         "xaxis": "x4",
         "y": [
          0.00010587455823378287,
          0,
          6.934765174904071e-7,
          0.00001410117778942885,
          0.0007734207556737221,
          0.00039890603838633267,
          0.007827264288296882,
          0.017140671375974366,
          0.02903492232487385,
          0.17065405432870714,
          0.13086277418247513,
          0.11588395192547753,
          0.11399934536526238,
          0.03563833950471529,
          0.06542077019423911,
          0.08185084323414253,
          0.045240246610686534,
          0.05716706004494254,
          0.03284126201711192,
          0.0472946430971024,
          0.02043453746942848,
          0.024006005401521882,
          0.0007089587479637415,
          0.0027013538804775894
         ],
         "yaxis": "y4"
        },
        {
         "alignmentgroup": "True",
         "customdata": [
          [
           0,
           0
          ],
          [
           0,
           0
          ],
          [
           0,
           0
          ],
          [
           0,
           0
          ],
          [
           104.37588060467607,
           2
          ],
          [
           1004.4129807216316,
           5
          ],
          [
           11355.197307710752,
           17
          ],
          [
           4466.581191293693,
           65
          ],
          [
           9391.502890534057,
           82
          ],
          [
           10422.979978670439,
           76
          ],
          [
           23115.5301076332,
           88
          ],
          [
           79799.76079279731,
           284
          ],
          [
           62591.6262206511,
           315
          ],
          [
           24590.122393228034,
           131
          ],
          [
           6320.630172016207,
           78
          ],
          [
           9277.003714894172,
           76
          ],
          [
           23708.461352219336,
           119
          ],
          [
           33989.64241910098,
           196
          ],
          [
           47203.97984922029,
           242
          ],
          [
           10816.375339993585,
           164
          ],
          [
           5593.375487917707,
           82
          ],
          [
           496.1524996618177,
           23
          ],
          [
           5109.103377173227,
           8
          ],
          [
           0,
           0
          ]
         ],
         "hovertemplate": "source=survey (2017/2019)<br>pdpurp_label=Meal<br>tlvorg_hr=%{x}<br>percentage=%{y}<br>toexpfac=%{customdata[0]}<br>sample_count=%{customdata[1]}<extra></extra>",
         "legendgroup": "survey (2017/2019)",
         "marker": {
          "color": "#00A7A0",
          "pattern": {
           "shape": ""
          }
         },
         "name": "survey (2017/2019)",
         "offsetgroup": "survey (2017/2019)",
         "orientation": "v",
         "showlegend": false,
         "textposition": "auto",
         "type": "bar",
         "x": [
          0,
          1,
          2,
          3,
          4,
          5,
          6,
          7,
          8,
          9,
          10,
          11,
          12,
          13,
          14,
          15,
          16,
          17,
          18,
          19,
          20,
          21,
          22,
          23
         ],
         "xaxis": "x3",
         "y": [
          0,
          0,
          0,
          0,
          0.0002825882091811037,
          0.0027193568461990484,
          0.030743164546199908,
          0.012092862572247736,
          0.025426640407537615,
          0.028219270864489575,
          0.06258319661156764,
          0.21605059870993584,
          0.16946113854041484,
          0.06657552118736476,
          0.017112531658258337,
          0.02511664429723569,
          0.06418850406003589,
          0.09202386726009106,
          0.12780048469564206,
          0.02928435304643076,
          0.015143555707038842,
          0.0013432877935774747,
          0.01383243298655178,
          0
         ],
         "yaxis": "y3"
        },
        {
         "alignmentgroup": "True",
         "customdata": [
          [
           0,
           0
          ],
          [
           0,
           0
          ],
          [
           0,
           0
          ],
          [
           68.99716112623685,
           2
          ],
          [
           1608.8011555079395,
           8
          ],
          [
           3465.3706566656138,
           13
          ],
          [
           5061.683382412336,
           43
          ],
          [
           57099.760693835706,
           219
          ],
          [
           72887.47341573531,
           233
          ],
          [
           14689.853983763353,
           60
          ],
          [
           9347.769180612217,
           31
          ],
          [
           14275.894103075514,
           49
          ],
          [
           11401.469748573028,
           45
          ],
          [
           21614.71229882211,
           57
          ],
          [
           41300.91505807778,
           101
          ],
          [
           38700.8359611188,
           135
          ],
          [
           21628.900277144017,
           129
          ],
          [
           53721.58878294915,
           109
          ],
          [
           30992.11923970363,
           74
          ],
          [
           17977.90415949376,
           42
          ],
          [
           11720.508583892459,
           24
          ],
          [
           6335.466793934933,
           24
          ],
          [
           636.9309530825855,
           9
          ],
          [
           330.4532993800188,
           3
          ]
         ],
         "hovertemplate": "source=survey (2017/2019)<br>pdpurp_label=Escort<br>tlvorg_hr=%{x}<br>percentage=%{y}<br>toexpfac=%{customdata[0]}<br>sample_count=%{customdata[1]}<extra></extra>",
         "legendgroup": "survey (2017/2019)",
         "marker": {
          "color": "#00A7A0",
          "pattern": {
           "shape": ""
          }
         },
         "name": "survey (2017/2019)",
         "offsetgroup": "survey (2017/2019)",
         "orientation": "v",
         "showlegend": false,
         "textposition": "auto",
         "type": "bar",
         "x": [
          0,
          1,
          2,
          3,
          4,
          5,
          6,
          7,
          8,
          9,
          10,
          11,
          12,
          13,
          14,
          15,
          16,
          17,
          18,
          19,
          20,
          21,
          22,
          23
         ],
         "xaxis": "x2",
         "y": [
          0,
          0,
          0,
          0.00015866252498094934,
          0.0036995211014282567,
          0.007968798272373857,
          0.011639601586481316,
          0.1313038400364988,
          0.16760849842015987,
          0.03378007568168002,
          0.021495676589091656,
          0.032828153619400134,
          0.0262182667993078,
          0.0497041439689584,
          0.09497358094413721,
          0.08899456517102552,
          0.04973676995571183,
          0.12353555977029573,
          0.07126797411396961,
          0.04134111637712194,
          0.02695191302985559,
          0.014568732134059336,
          0.0014646555250253282,
          0.0007598943784367112
         ],
         "yaxis": "y2"
        },
        {
         "alignmentgroup": "True",
         "customdata": [
          [
           0,
           0
          ],
          [
           0,
           0
          ],
          [
           0,
           0
          ],
          [
           415.12771485007175,
           5
          ],
          [
           693.6507083663261,
           7
          ],
          [
           4797.110596523593,
           19
          ],
          [
           18699.95978341244,
           69
          ],
          [
           47346.51151895759,
           148
          ],
          [
           71276.96887912303,
           291
          ],
          [
           87578.65479472806,
           260
          ],
          [
           82767.1937357741,
           271
          ],
          [
           107315.8052870485,
           182
          ],
          [
           36318.72193470561,
           209
          ],
          [
           32255.442975107242,
           195
          ],
          [
           80591.80973502366,
           192
          ],
          [
           51540.58708666739,
           196
          ],
          [
           55075.73985185104,
           193
          ],
          [
           83275.02395238561,
           171
          ],
          [
           36066.86538050676,
           180
          ],
          [
           11826.822830027118,
           92
          ],
          [
           4337.791814374124,
           39
          ],
          [
           2041.160644579677,
           18
          ],
          [
           700.3758568446026,
           9
          ],
          [
           68.08898090709165,
           2
          ]
         ],
         "hovertemplate": "source=survey (2017/2019)<br>pdpurp_label=Personal Business<br>tlvorg_hr=%{x}<br>percentage=%{y}<br>toexpfac=%{customdata[0]}<br>sample_count=%{customdata[1]}<extra></extra>",
         "legendgroup": "survey (2017/2019)",
         "marker": {
          "color": "#00A7A0",
          "pattern": {
           "shape": ""
          }
         },
         "name": "survey (2017/2019)",
         "offsetgroup": "survey (2017/2019)",
         "orientation": "v",
         "showlegend": false,
         "textposition": "auto",
         "type": "bar",
         "x": [
          0,
          1,
          2,
          3,
          4,
          5,
          6,
          7,
          8,
          9,
          10,
          11,
          12,
          13,
          14,
          15,
          16,
          17,
          18,
          19,
          20,
          21,
          22,
          23
         ],
         "xaxis": "x",
         "y": [
          0,
          0,
          0,
          0.0005093657754168221,
          0.0008511162186871767,
          0.005886101725684557,
          0.022945033960889302,
          0.058094633748665414,
          0.08745753950826327,
          0.10745986792423656,
          0.10155615804047931,
          0.13167754505203377,
          0.04456342782871191,
          0.03957774471493046,
          0.09888694054732353,
          0.06324080558273534,
          0.06757847267900481,
          0.10217927069427511,
          0.044254397367882184,
          0.014511627545055238,
          0.005322513077507761,
          0.0025045241194077503,
          0.000859368041793393,
          0.00008354584701627984
         ],
         "yaxis": "y"
        }
       ],
       "layout": {
        "annotations": [
         {
          "font": {},
          "showarrow": false,
          "text": "Personal Business",
          "textangle": 90,
          "x": 0.98,
          "xanchor": "left",
          "xref": "paper",
          "y": 0.07083333333333333,
          "yanchor": "middle",
          "yref": "paper"
         },
         {
          "font": {},
          "showarrow": false,
          "text": "Escort",
          "textangle": 90,
          "x": 0.98,
          "xanchor": "left",
          "xref": "paper",
          "y": 0.2425,
          "yanchor": "middle",
          "yref": "paper"
         },
         {
          "font": {},
          "showarrow": false,
          "text": "Meal",
          "textangle": 90,
          "x": 0.98,
          "xanchor": "left",
          "xref": "paper",
          "y": 0.4141666666666667,
          "yanchor": "middle",
          "yref": "paper"
         },
         {
          "font": {},
          "showarrow": false,
          "text": "Shop",
          "textangle": 90,
          "x": 0.98,
          "xanchor": "left",
          "xref": "paper",
          "y": 0.5858333333333334,
          "yanchor": "middle",
          "yref": "paper"
         },
         {
          "font": {},
          "showarrow": false,
          "text": "School",
          "textangle": 90,
          "x": 0.98,
          "xanchor": "left",
          "xref": "paper",
          "y": 0.7575000000000001,
          "yanchor": "middle",
          "yref": "paper"
         },
         {
          "font": {},
          "showarrow": false,
          "text": "Work",
          "textangle": 90,
          "x": 0.98,
          "xanchor": "left",
          "xref": "paper",
          "y": 0.9291666666666667,
          "yanchor": "middle",
          "yref": "paper"
         }
        ],
        "barmode": "group",
        "height": 1500,
        "legend": {
         "title": {
          "text": "source"
         },
         "tracegroupgap": 0
        },
        "template": {
         "data": {
          "bar": [
           {
            "error_x": {
             "color": "rgb(36,36,36)"
            },
            "error_y": {
             "color": "rgb(36,36,36)"
            },
            "marker": {
             "line": {
              "color": "white",
              "width": 0.5
             },
             "pattern": {
              "fillmode": "overlay",
              "size": 10,
              "solidity": 0.2
             }
            },
            "type": "bar"
           }
          ],
          "barpolar": [
           {
            "marker": {
             "line": {
              "color": "white",
              "width": 0.5
             },
             "pattern": {
              "fillmode": "overlay",
              "size": 10,
              "solidity": 0.2
             }
            },
            "type": "barpolar"
           }
          ],
          "carpet": [
           {
            "aaxis": {
             "endlinecolor": "rgb(36,36,36)",
             "gridcolor": "white",
             "linecolor": "white",
             "minorgridcolor": "white",
             "startlinecolor": "rgb(36,36,36)"
            },
            "baxis": {
             "endlinecolor": "rgb(36,36,36)",
             "gridcolor": "white",
             "linecolor": "white",
             "minorgridcolor": "white",
             "startlinecolor": "rgb(36,36,36)"
            },
            "type": "carpet"
           }
          ],
          "choropleth": [
           {
            "colorbar": {
             "outlinewidth": 1,
             "tickcolor": "rgb(36,36,36)",
             "ticks": "outside"
            },
            "type": "choropleth"
           }
          ],
          "contour": [
           {
            "colorbar": {
             "outlinewidth": 1,
             "tickcolor": "rgb(36,36,36)",
             "ticks": "outside"
            },
            "colorscale": [
             [
              0,
              "#440154"
             ],
             [
              0.1111111111111111,
              "#482878"
             ],
             [
              0.2222222222222222,
              "#3e4989"
             ],
             [
              0.3333333333333333,
              "#31688e"
             ],
             [
              0.4444444444444444,
              "#26828e"
             ],
             [
              0.5555555555555556,
              "#1f9e89"
             ],
             [
              0.6666666666666666,
              "#35b779"
             ],
             [
              0.7777777777777778,
              "#6ece58"
             ],
             [
              0.8888888888888888,
              "#b5de2b"
             ],
             [
              1,
              "#fde725"
             ]
            ],
            "type": "contour"
           }
          ],
          "contourcarpet": [
           {
            "colorbar": {
             "outlinewidth": 1,
             "tickcolor": "rgb(36,36,36)",
             "ticks": "outside"
            },
            "type": "contourcarpet"
           }
          ],
          "heatmap": [
           {
            "colorbar": {
             "outlinewidth": 1,
             "tickcolor": "rgb(36,36,36)",
             "ticks": "outside"
            },
            "colorscale": [
             [
              0,
              "#440154"
             ],
             [
              0.1111111111111111,
              "#482878"
             ],
             [
              0.2222222222222222,
              "#3e4989"
             ],
             [
              0.3333333333333333,
              "#31688e"
             ],
             [
              0.4444444444444444,
              "#26828e"
             ],
             [
              0.5555555555555556,
              "#1f9e89"
             ],
             [
              0.6666666666666666,
              "#35b779"
             ],
             [
              0.7777777777777778,
              "#6ece58"
             ],
             [
              0.8888888888888888,
              "#b5de2b"
             ],
             [
              1,
              "#fde725"
             ]
            ],
            "type": "heatmap"
           }
          ],
          "heatmapgl": [
           {
            "colorbar": {
             "outlinewidth": 1,
             "tickcolor": "rgb(36,36,36)",
             "ticks": "outside"
            },
            "colorscale": [
             [
              0,
              "#440154"
             ],
             [
              0.1111111111111111,
              "#482878"
             ],
             [
              0.2222222222222222,
              "#3e4989"
             ],
             [
              0.3333333333333333,
              "#31688e"
             ],
             [
              0.4444444444444444,
              "#26828e"
             ],
             [
              0.5555555555555556,
              "#1f9e89"
             ],
             [
              0.6666666666666666,
              "#35b779"
             ],
             [
              0.7777777777777778,
              "#6ece58"
             ],
             [
              0.8888888888888888,
              "#b5de2b"
             ],
             [
              1,
              "#fde725"
             ]
            ],
            "type": "heatmapgl"
           }
          ],
          "histogram": [
           {
            "marker": {
             "line": {
              "color": "white",
              "width": 0.6
             }
            },
            "type": "histogram"
           }
          ],
          "histogram2d": [
           {
            "colorbar": {
             "outlinewidth": 1,
             "tickcolor": "rgb(36,36,36)",
             "ticks": "outside"
            },
            "colorscale": [
             [
              0,
              "#440154"
             ],
             [
              0.1111111111111111,
              "#482878"
             ],
             [
              0.2222222222222222,
              "#3e4989"
             ],
             [
              0.3333333333333333,
              "#31688e"
             ],
             [
              0.4444444444444444,
              "#26828e"
             ],
             [
              0.5555555555555556,
              "#1f9e89"
             ],
             [
              0.6666666666666666,
              "#35b779"
             ],
             [
              0.7777777777777778,
              "#6ece58"
             ],
             [
              0.8888888888888888,
              "#b5de2b"
             ],
             [
              1,
              "#fde725"
             ]
            ],
            "type": "histogram2d"
           }
          ],
          "histogram2dcontour": [
           {
            "colorbar": {
             "outlinewidth": 1,
             "tickcolor": "rgb(36,36,36)",
             "ticks": "outside"
            },
            "colorscale": [
             [
              0,
              "#440154"
             ],
             [
              0.1111111111111111,
              "#482878"
             ],
             [
              0.2222222222222222,
              "#3e4989"
             ],
             [
              0.3333333333333333,
              "#31688e"
             ],
             [
              0.4444444444444444,
              "#26828e"
             ],
             [
              0.5555555555555556,
              "#1f9e89"
             ],
             [
              0.6666666666666666,
              "#35b779"
             ],
             [
              0.7777777777777778,
              "#6ece58"
             ],
             [
              0.8888888888888888,
              "#b5de2b"
             ],
             [
              1,
              "#fde725"
             ]
            ],
            "type": "histogram2dcontour"
           }
          ],
          "mesh3d": [
           {
            "colorbar": {
             "outlinewidth": 1,
             "tickcolor": "rgb(36,36,36)",
             "ticks": "outside"
            },
            "type": "mesh3d"
           }
          ],
          "parcoords": [
           {
            "line": {
             "colorbar": {
              "outlinewidth": 1,
              "tickcolor": "rgb(36,36,36)",
              "ticks": "outside"
             }
            },
            "type": "parcoords"
           }
          ],
          "pie": [
           {
            "automargin": true,
            "type": "pie"
           }
          ],
          "scatter": [
           {
            "fillpattern": {
             "fillmode": "overlay",
             "size": 10,
             "solidity": 0.2
            },
            "type": "scatter"
           }
          ],
          "scatter3d": [
           {
            "line": {
             "colorbar": {
              "outlinewidth": 1,
              "tickcolor": "rgb(36,36,36)",
              "ticks": "outside"
             }
            },
            "marker": {
             "colorbar": {
              "outlinewidth": 1,
              "tickcolor": "rgb(36,36,36)",
              "ticks": "outside"
             }
            },
            "type": "scatter3d"
           }
          ],
          "scattercarpet": [
           {
            "marker": {
             "colorbar": {
              "outlinewidth": 1,
              "tickcolor": "rgb(36,36,36)",
              "ticks": "outside"
             }
            },
            "type": "scattercarpet"
           }
          ],
          "scattergeo": [
           {
            "marker": {
             "colorbar": {
              "outlinewidth": 1,
              "tickcolor": "rgb(36,36,36)",
              "ticks": "outside"
             }
            },
            "type": "scattergeo"
           }
          ],
          "scattergl": [
           {
            "marker": {
             "colorbar": {
              "outlinewidth": 1,
              "tickcolor": "rgb(36,36,36)",
              "ticks": "outside"
             }
            },
            "type": "scattergl"
           }
          ],
          "scattermapbox": [
           {
            "marker": {
             "colorbar": {
              "outlinewidth": 1,
              "tickcolor": "rgb(36,36,36)",
              "ticks": "outside"
             }
            },
            "type": "scattermapbox"
           }
          ],
          "scatterpolar": [
           {
            "marker": {
             "colorbar": {
              "outlinewidth": 1,
              "tickcolor": "rgb(36,36,36)",
              "ticks": "outside"
             }
            },
            "type": "scatterpolar"
           }
          ],
          "scatterpolargl": [
           {
            "marker": {
             "colorbar": {
              "outlinewidth": 1,
              "tickcolor": "rgb(36,36,36)",
              "ticks": "outside"
             }
            },
            "type": "scatterpolargl"
           }
          ],
          "scatterternary": [
           {
            "marker": {
             "colorbar": {
              "outlinewidth": 1,
              "tickcolor": "rgb(36,36,36)",
              "ticks": "outside"
             }
            },
            "type": "scatterternary"
           }
          ],
          "surface": [
           {
            "colorbar": {
             "outlinewidth": 1,
             "tickcolor": "rgb(36,36,36)",
             "ticks": "outside"
            },
            "colorscale": [
             [
              0,
              "#440154"
             ],
             [
              0.1111111111111111,
              "#482878"
             ],
             [
              0.2222222222222222,
              "#3e4989"
             ],
             [
              0.3333333333333333,
              "#31688e"
             ],
             [
              0.4444444444444444,
              "#26828e"
             ],
             [
              0.5555555555555556,
              "#1f9e89"
             ],
             [
              0.6666666666666666,
              "#35b779"
             ],
             [
              0.7777777777777778,
              "#6ece58"
             ],
             [
              0.8888888888888888,
              "#b5de2b"
             ],
             [
              1,
              "#fde725"
             ]
            ],
            "type": "surface"
           }
          ],
          "table": [
           {
            "cells": {
             "fill": {
              "color": "rgb(237,237,237)"
             },
             "line": {
              "color": "white"
             }
            },
            "header": {
             "fill": {
              "color": "rgb(217,217,217)"
             },
             "line": {
              "color": "white"
             }
            },
            "type": "table"
           }
          ]
         },
         "layout": {
          "annotationdefaults": {
           "arrowhead": 0,
           "arrowwidth": 1
          },
          "autotypenumbers": "strict",
          "coloraxis": {
           "colorbar": {
            "outlinewidth": 1,
            "tickcolor": "rgb(36,36,36)",
            "ticks": "outside"
           }
          },
          "colorscale": {
           "diverging": [
            [
             0,
             "rgb(103,0,31)"
            ],
            [
             0.1,
             "rgb(178,24,43)"
            ],
            [
             0.2,
             "rgb(214,96,77)"
            ],
            [
             0.3,
             "rgb(244,165,130)"
            ],
            [
             0.4,
             "rgb(253,219,199)"
            ],
            [
             0.5,
             "rgb(247,247,247)"
            ],
            [
             0.6,
             "rgb(209,229,240)"
            ],
            [
             0.7,
             "rgb(146,197,222)"
            ],
            [
             0.8,
             "rgb(67,147,195)"
            ],
            [
             0.9,
             "rgb(33,102,172)"
            ],
            [
             1,
             "rgb(5,48,97)"
            ]
           ],
           "sequential": [
            [
             0,
             "#440154"
            ],
            [
             0.1111111111111111,
             "#482878"
            ],
            [
             0.2222222222222222,
             "#3e4989"
            ],
            [
             0.3333333333333333,
             "#31688e"
            ],
            [
             0.4444444444444444,
             "#26828e"
            ],
            [
             0.5555555555555556,
             "#1f9e89"
            ],
            [
             0.6666666666666666,
             "#35b779"
            ],
            [
             0.7777777777777778,
             "#6ece58"
            ],
            [
             0.8888888888888888,
             "#b5de2b"
            ],
            [
             1,
             "#fde725"
            ]
           ],
           "sequentialminus": [
            [
             0,
             "#440154"
            ],
            [
             0.1111111111111111,
             "#482878"
            ],
            [
             0.2222222222222222,
             "#3e4989"
            ],
            [
             0.3333333333333333,
             "#31688e"
            ],
            [
             0.4444444444444444,
             "#26828e"
            ],
            [
             0.5555555555555556,
             "#1f9e89"
            ],
            [
             0.6666666666666666,
             "#35b779"
            ],
            [
             0.7777777777777778,
             "#6ece58"
            ],
            [
             0.8888888888888888,
             "#b5de2b"
            ],
            [
             1,
             "#fde725"
            ]
           ]
          },
          "colorway": [
           "#91268F",
           "#8CC63E",
           "#00A7A0",
           "#F05A28",
           "#4C4C4C",
           "#630460",
           "#9f3913",
           "#588527",
           "#00716c",
           "#3e4040"
          ],
          "font": {
           "color": "rgb(36,36,36)",
           "family": "Poppins",
           "size": 11
          },
          "geo": {
           "bgcolor": "white",
           "lakecolor": "white",
           "landcolor": "white",
           "showlakes": true,
           "showland": true,
           "subunitcolor": "white"
          },
          "hoverlabel": {
           "align": "left"
          },
          "hovermode": "closest",
          "mapbox": {
           "style": "light"
          },
          "paper_bgcolor": "white",
          "plot_bgcolor": "white",
          "polar": {
           "angularaxis": {
            "gridcolor": "rgb(232,232,232)",
            "linecolor": "rgb(36,36,36)",
            "showgrid": false,
            "showline": true,
            "ticks": "outside"
           },
           "bgcolor": "white",
           "radialaxis": {
            "gridcolor": "rgb(232,232,232)",
            "linecolor": "rgb(36,36,36)",
            "showgrid": false,
            "showline": true,
            "ticks": "outside"
           }
          },
          "scene": {
           "xaxis": {
            "backgroundcolor": "white",
            "gridcolor": "rgb(232,232,232)",
            "gridwidth": 2,
            "linecolor": "rgb(36,36,36)",
            "showbackground": true,
            "showgrid": false,
            "showline": true,
            "ticks": "outside",
            "zeroline": false,
            "zerolinecolor": "rgb(36,36,36)"
           },
           "yaxis": {
            "backgroundcolor": "white",
            "gridcolor": "rgb(232,232,232)",
            "gridwidth": 2,
            "linecolor": "rgb(36,36,36)",
            "showbackground": true,
            "showgrid": false,
            "showline": true,
            "ticks": "outside",
            "zeroline": false,
            "zerolinecolor": "rgb(36,36,36)"
           },
           "zaxis": {
            "backgroundcolor": "white",
            "gridcolor": "rgb(232,232,232)",
            "gridwidth": 2,
            "linecolor": "rgb(36,36,36)",
            "showbackground": true,
            "showgrid": false,
            "showline": true,
            "ticks": "outside",
            "zeroline": false,
            "zerolinecolor": "rgb(36,36,36)"
           }
          },
          "shapedefaults": {
           "fillcolor": "black",
           "line": {
            "width": 0
           },
           "opacity": 0.3
          },
          "ternary": {
           "aaxis": {
            "gridcolor": "rgb(232,232,232)",
            "linecolor": "rgb(36,36,36)",
            "showgrid": false,
            "showline": true,
            "ticks": "outside"
           },
           "baxis": {
            "gridcolor": "rgb(232,232,232)",
            "linecolor": "rgb(36,36,36)",
            "showgrid": false,
            "showline": true,
            "ticks": "outside"
           },
           "bgcolor": "white",
           "caxis": {
            "gridcolor": "rgb(232,232,232)",
            "linecolor": "rgb(36,36,36)",
            "showgrid": false,
            "showline": true,
            "ticks": "outside"
           }
          },
          "title": {
           "x": 0.05
          },
          "xaxis": {
           "automargin": true,
           "gridcolor": "rgb(232,232,232)",
           "linecolor": "rgb(36,36,36)",
           "showgrid": false,
           "showline": true,
           "ticks": "outside",
           "title": {
            "standoff": 15
           },
           "zeroline": false,
           "zerolinecolor": "rgb(36,36,36)"
          },
          "yaxis": {
           "automargin": true,
           "gridcolor": "rgb(232,232,232)",
           "linecolor": "rgb(36,36,36)",
           "showgrid": false,
           "showline": true,
           "ticks": "outside",
           "title": {
            "standoff": 15
           },
           "zeroline": false,
           "zerolinecolor": "rgb(36,36,36)"
          }
         }
        },
        "title": {
         "text": "tour origin departure hour by purpose"
        },
        "width": 850,
        "xaxis": {
         "anchor": "y",
         "categoryorder": "category ascending",
         "domain": [
          0,
          0.98
         ],
         "dtick": 1,
         "title": {
          "text": "tlvorg_hr"
         }
        },
        "xaxis2": {
         "anchor": "y2",
         "categoryorder": "category ascending",
         "domain": [
          0,
          0.98
         ],
         "dtick": 1,
         "matches": "x",
         "showticklabels": false
        },
        "xaxis3": {
         "anchor": "y3",
         "categoryorder": "category ascending",
         "domain": [
          0,
          0.98
         ],
         "dtick": 1,
         "matches": "x",
         "showticklabels": false
        },
        "xaxis4": {
         "anchor": "y4",
         "categoryorder": "category ascending",
         "domain": [
          0,
          0.98
         ],
         "dtick": 1,
         "matches": "x",
         "showticklabels": false
        },
        "xaxis5": {
         "anchor": "y5",
         "categoryorder": "category ascending",
         "domain": [
          0,
          0.98
         ],
         "dtick": 1,
         "matches": "x",
         "showticklabels": false
        },
        "xaxis6": {
         "anchor": "y6",
         "categoryorder": "category ascending",
         "domain": [
          0,
          0.98
         ],
         "dtick": 1,
         "matches": "x",
         "showticklabels": false
        },
        "yaxis": {
         "anchor": "x",
         "domain": [
          0,
          0.14166666666666666
         ],
         "tickformat": ".0%",
         "title": {
          "text": "percentage"
         }
        },
        "yaxis2": {
         "anchor": "x2",
         "domain": [
          0.17166666666666666,
          0.31333333333333335
         ],
         "matches": "y",
         "tickformat": ".0%",
         "title": {
          "text": "percentage"
         }
        },
        "yaxis3": {
         "anchor": "x3",
         "domain": [
          0.3433333333333333,
          0.485
         ],
         "matches": "y",
         "tickformat": ".0%",
         "title": {
          "text": "percentage"
         }
        },
        "yaxis4": {
         "anchor": "x4",
         "domain": [
          0.515,
          0.6566666666666667
         ],
         "matches": "y",
         "tickformat": ".0%",
         "title": {
          "text": "percentage"
         }
        },
        "yaxis5": {
         "anchor": "x5",
         "domain": [
          0.6866666666666666,
          0.8283333333333334
         ],
         "matches": "y",
         "tickformat": ".0%",
         "title": {
          "text": "percentage"
         }
        },
        "yaxis6": {
         "anchor": "x6",
         "domain": [
          0.8583333333333333,
          1
         ],
         "matches": "y",
         "tickformat": ".0%",
         "title": {
          "text": "percentage"
         }
        }
       }
      },
      "text/html": [
       "<div>                            <div id=\"dffb5302-0cf2-424c-bf5a-e441f7b6cf39\" class=\"plotly-graph-div\" style=\"height:1500px; width:850px;\"></div>            <script type=\"text/javascript\">                require([\"plotly\"], function(Plotly) {                    window.PLOTLYENV=window.PLOTLYENV || {};                                    if (document.getElementById(\"dffb5302-0cf2-424c-bf5a-e441f7b6cf39\")) {                    Plotly.newPlot(                        \"dffb5302-0cf2-424c-bf5a-e441f7b6cf39\",                        [{\"alignmentgroup\":\"True\",\"customdata\":[[1370.0,1370.0],[865.0,865.0],[332.0,332.0],[43863.0,43863.0],[43757.0,43757.0],[97805.0,97805.0],[244431.0,244431.0],[307538.0,307538.0],[246407.0,246407.0],[128674.0,128674.0],[77439.0,77439.0],[61083.0,61083.0],[48984.0,48984.0],[39542.0,39542.0],[34128.0,34128.0],[30199.0,30199.0],[28872.0,28872.0],[27322.0,27322.0],[22447.0,22447.0],[11975.0,11975.0],[9554.0,9554.0],[6514.0,6514.0],[2992.0,2992.0],[2100.0,2100.0]],\"hovertemplate\":\"source=model\\u003cbr\\u003epdpurp_label=Work\\u003cbr\\u003etlvorg_hr=%{x}\\u003cbr\\u003epercentage=%{y}\\u003cbr\\u003etoexpfac=%{customdata[0]}\\u003cbr\\u003esample_count=%{customdata[1]}\\u003cextra\\u003e\\u003c\\u002fextra\\u003e\",\"legendgroup\":\"model\",\"marker\":{\"color\":\"#91268F\",\"pattern\":{\"shape\":\"\"}},\"name\":\"model\",\"offsetgroup\":\"model\",\"orientation\":\"v\",\"showlegend\":true,\"textposition\":\"auto\",\"x\":[0,1,2,3,4,5,6,7,8,9,10,11,12,13,14,15,16,17,18,19,20,21,22,23],\"xaxis\":\"x6\",\"y\":[0.0009023885632459115,0.0005697562826333674,0.0002186810240858705,0.028891583612887163,0.0288217637678477,0.06442198060457399,0.1610012692720886,0.20256844814855554,0.16230281657206955,0.08475470510007621,0.051007348868029295,0.040234015042883216,0.03226467254163338,0.02604543691085389,0.02247935539157406,0.01989141038063013,0.01901734496207004,0.01799639439781372,0.014785340203781732,0.007887666456109336,0.0062930075425192975,0.004290627081010122,0.0019707639279063992,0.00138322334512147],\"yaxis\":\"y6\",\"type\":\"bar\"},{\"alignmentgroup\":\"True\",\"customdata\":[[0.0,0.0],[0.0,0.0],[1.0,1.0],[3203.0,3203.0],[3281.0,3281.0],[10676.0,10676.0],[61227.0,61227.0],[143985.0,143985.0],[147371.0,147371.0],[69306.0,69306.0],[30497.0,30497.0],[17994.0,17994.0],[11022.0,11022.0],[7017.0,7017.0],[4652.0,4652.0],[3169.0,3169.0],[2449.0,2449.0],[2216.0,2216.0],[1617.0,1617.0],[499.0,499.0],[447.0,447.0],[219.0,219.0],[0.0,0.0],[0.0,0.0]],\"hovertemplate\":\"source=model\\u003cbr\\u003epdpurp_label=School\\u003cbr\\u003etlvorg_hr=%{x}\\u003cbr\\u003epercentage=%{y}\\u003cbr\\u003etoexpfac=%{customdata[0]}\\u003cbr\\u003esample_count=%{customdata[1]}\\u003cextra\\u003e\\u003c\\u002fextra\\u003e\",\"legendgroup\":\"model\",\"marker\":{\"color\":\"#91268F\",\"pattern\":{\"shape\":\"\"}},\"name\":\"model\",\"offsetgroup\":\"model\",\"orientation\":\"v\",\"showlegend\":false,\"textposition\":\"auto\",\"x\":[0,1,2,3,4,5,6,7,8,9,10,11,12,13,14,15,16,17,18,19,20,21,22,23],\"xaxis\":\"x5\",\"y\":[0.0,0.0,1.9199459343224896e-06,0.006149586827634934,0.006299342610512088,0.020497342794826897,0.11755252972076306,0.27644341535342365,0.2829443522870396,0.13306377292415444,0.05855259115903296,0.034547507142198876,0.02116164408810248,0.01347226062114091,0.00893158848646822,0.006084308665867969,0.004701947593155777,0.004254600190458637,0.0031045525757994654,0.0009580530212269223,0.0008582158326421528,0.0004204681596166252,0.0,0.0],\"yaxis\":\"y5\",\"type\":\"bar\"},{\"alignmentgroup\":\"True\",\"customdata\":[[315.0,315.0],[267.0,267.0],[114.0,114.0],[1210.0,1210.0],[909.0,909.0],[2103.0,2103.0],[10778.0,10778.0],[31396.0,31396.0],[54286.0,54286.0],[66851.0,66851.0],[67211.0,67211.0],[55256.0,55256.0],[53659.0,53659.0],[58643.0,58643.0],[54125.0,54125.0],[50618.0,50618.0],[56163.0,56163.0],[50888.0,50888.0],[48054.0,48054.0],[30380.0,30380.0],[18230.0,18230.0],[8727.0,8727.0],[2374.0,2374.0],[1166.0,1166.0]],\"hovertemplate\":\"source=model\\u003cbr\\u003epdpurp_label=Shop\\u003cbr\\u003etlvorg_hr=%{x}\\u003cbr\\u003epercentage=%{y}\\u003cbr\\u003etoexpfac=%{customdata[0]}\\u003cbr\\u003esample_count=%{customdata[1]}\\u003cextra\\u003e\\u003c\\u002fextra\\u003e\",\"legendgroup\":\"model\",\"marker\":{\"color\":\"#91268F\",\"pattern\":{\"shape\":\"\"}},\"name\":\"model\",\"offsetgroup\":\"model\",\"orientation\":\"v\",\"showlegend\":false,\"textposition\":\"auto\",\"x\":[0,1,2,3,4,5,6,7,8,9,10,11,12,13,14,15,16,17,18,19,20,21,22,23],\"xaxis\":\"x4\",\"y\":[0.00043524939790499955,0.00036892568012899965,0.00015751882971799984,0.0016719103856033316,0.0012560054053829988,0.002905807885060997,0.014892438128952652,0.04338123840198529,0.07500936131641525,0.09237097618840358,0.09286840407172357,0.07634965311313859,0.07414300775296626,0.08102962044870758,0.0747869005130416,0.0699411238830326,0.07760289503028092,0.0703141947955226,0.06639833195849794,0.04197738637572662,0.02518919531367664,0.012058480938148987,0.00328026054167133,0.001611113644308665],\"yaxis\":\"y4\",\"type\":\"bar\"},{\"alignmentgroup\":\"True\",\"customdata\":[[376.0,376.0],[282.0,282.0],[88.0,88.0],[1259.0,1259.0],[894.0,894.0],[1924.0,1924.0],[5986.0,5986.0],[10545.0,10545.0],[20166.0,20166.0],[26796.0,26796.0],[32268.0,32268.0],[31357.0,31357.0],[32031.0,32031.0],[29637.0,29637.0],[27369.0,27369.0],[25551.0,25551.0],[31109.0,31109.0],[31737.0,31737.0],[32042.0,32042.0],[20390.0,20390.0],[14682.0,14682.0],[9943.0,9943.0],[2357.0,2357.0],[1013.0,1013.0]],\"hovertemplate\":\"source=model\\u003cbr\\u003epdpurp_label=Meal\\u003cbr\\u003etlvorg_hr=%{x}\\u003cbr\\u003epercentage=%{y}\\u003cbr\\u003etoexpfac=%{customdata[0]}\\u003cbr\\u003esample_count=%{customdata[1]}\\u003cextra\\u003e\\u003c\\u002fextra\\u003e\",\"legendgroup\":\"model\",\"marker\":{\"color\":\"#91268F\",\"pattern\":{\"shape\":\"\"}},\"name\":\"model\",\"offsetgroup\":\"model\",\"orientation\":\"v\",\"showlegend\":false,\"textposition\":\"auto\",\"x\":[0,1,2,3,4,5,6,7,8,9,10,11,12,13,14,15,16,17,18,19,20,21,22,23],\"xaxis\":\"x3\",\"y\":[0.0009645922801832725,0.0007234442101374544,0.00022575564004289356,0.0032298448956136704,0.0022934720704357596,0.00493583922093781,0.015356514332917738,0.02705219573013992,0.05173395723982945,0.06874259239306109,0.0827804885557283,0.08044340460028425,0.08217248757061277,0.07603090799944587,0.07021256945834038,0.06554866316745425,0.07980718416016337,0.08141825850046946,0.08220070702561813,0.052308607959938636,0.0376652762171564,0.025507821919846487,0.006046659586148865,0.0025987552654937636],\"yaxis\":\"y3\",\"type\":\"bar\"},{\"alignmentgroup\":\"True\",\"customdata\":[[240.0,240.0],[220.0,220.0],[113.0,113.0],[6105.0,6105.0],[3479.0,3479.0],[6103.0,6103.0],[20509.0,20509.0],[41420.0,41420.0],[64484.0,64484.0],[75882.0,75882.0],[67306.0,67306.0],[50061.0,50061.0],[44969.0,44969.0],[46707.0,46707.0],[42028.0,42028.0],[40092.0,40092.0],[39303.0,39303.0],[31936.0,31936.0],[27169.0,27169.0],[18056.0,18056.0],[12923.0,12923.0],[7211.0,7211.0],[2136.0,2136.0],[1101.0,1101.0]],\"hovertemplate\":\"source=model\\u003cbr\\u003epdpurp_label=Escort\\u003cbr\\u003etlvorg_hr=%{x}\\u003cbr\\u003epercentage=%{y}\\u003cbr\\u003etoexpfac=%{customdata[0]}\\u003cbr\\u003esample_count=%{customdata[1]}\\u003cextra\\u003e\\u003c\\u002fextra\\u003e\",\"legendgroup\":\"model\",\"marker\":{\"color\":\"#91268F\",\"pattern\":{\"shape\":\"\"}},\"name\":\"model\",\"offsetgroup\":\"model\",\"orientation\":\"v\",\"showlegend\":false,\"textposition\":\"auto\",\"x\":[0,1,2,3,4,5,6,7,8,9,10,11,12,13,14,15,16,17,18,19,20,21,22,23],\"xaxis\":\"x2\",\"y\":[0.00036948486112757544,0.0003386944560336108,0.0001739657887809001,0.0093987711549327,0.005355990966095145,0.009395692114423303,0.03157402090360602,0.06376692894960073,0.09927442410396073,0.11682187596701116,0.10361895026271913,0.07706992347044814,0.06923068633352475,0.07190637253619027,0.06470295726445725,0.06172244605136148,0.06050776457040457,0.049166118854042706,0.041827225799896235,0.02779757771883126,0.01989522025146524,0.011101480556628943,0.0032884152640354214,0.0016950118004227523],\"yaxis\":\"y2\",\"type\":\"bar\"},{\"alignmentgroup\":\"True\",\"customdata\":[[167.0,167.0],[114.0,114.0],[57.0,57.0],[2543.0,2543.0],[1479.0,1479.0],[3178.0,3178.0],[10440.0,10440.0],[21117.0,21117.0],[35406.0,35406.0],[43169.0,43169.0],[41135.0,41135.0],[33044.0,33044.0],[30625.0,30625.0],[31368.0,31368.0],[26571.0,26571.0],[24424.0,24424.0],[27287.0,27287.0],[25096.0,25096.0],[22381.0,22381.0],[13250.0,13250.0],[9381.0,9381.0],[5486.0,5486.0],[1262.0,1262.0],[545.0,545.0]],\"hovertemplate\":\"source=model\\u003cbr\\u003epdpurp_label=Personal Business\\u003cbr\\u003etlvorg_hr=%{x}\\u003cbr\\u003epercentage=%{y}\\u003cbr\\u003etoexpfac=%{customdata[0]}\\u003cbr\\u003esample_count=%{customdata[1]}\\u003cextra\\u003e\\u003c\\u002fextra\\u003e\",\"legendgroup\":\"model\",\"marker\":{\"color\":\"#91268F\",\"pattern\":{\"shape\":\"\"}},\"name\":\"model\",\"offsetgroup\":\"model\",\"orientation\":\"v\",\"showlegend\":false,\"textposition\":\"auto\",\"x\":[0,1,2,3,4,5,6,7,8,9,10,11,12,13,14,15,16,17,18,19,20,21,22,23],\"xaxis\":\"x\",\"y\":[0.00040778951223979,0.00027837128380440757,0.00013918564190220378,0.006209633111531653,0.003611501129357182,0.007760209999389537,0.025492949148403637,0.05156461754471644,0.08645626030156889,0.10541236798730236,0.10044563823942372,0.0806886026494109,0.07478175935535071,0.07659605640681277,0.0648824858067273,0.05963982662841096,0.06663085281728832,0.06128075209083694,0.054651120200231974,0.03235455710884561,0.022907026433062694,0.013396007569745436,0.0030816189487821257,0.0013308100848544045],\"yaxis\":\"y\",\"type\":\"bar\"},{\"alignmentgroup\":\"True\",\"customdata\":[[0.0,0.0],[290.035564242689,1.0],[0.0,0.0],[14788.62507007542,21.0],[62334.98080849342,65.0],[110560.94845318861,135.0],[231832.64991962665,369.0],[345802.4190378416,614.0],[258891.17064905204,504.0],[138775.7528467847,292.0],[41934.64180856641,170.0],[37958.57044734343,99.0],[31180.959769409055,106.0],[24948.05578014202,69.0],[27287.01473768372,62.0],[27505.411115810744,50.0],[19075.53144467118,33.0],[12319.997987789659,34.0],[1955.1087945262727,10.0],[745.7762566027517,7.0],[270.8142398817476,7.0],[113.8011265835064,3.0],[387.3586482889782,6.0],[235.31298890314352,1.0]],\"hovertemplate\":\"source=survey\\u003cbr\\u003epdpurp_label=Work\\u003cbr\\u003etlvorg_hr=%{x}\\u003cbr\\u003epercentage=%{y}\\u003cbr\\u003etoexpfac=%{customdata[0]}\\u003cbr\\u003esample_count=%{customdata[1]}\\u003cextra\\u003e\\u003c\\u002fextra\\u003e\",\"legendgroup\":\"survey\",\"marker\":{\"color\":\"#8CC63E\",\"pattern\":{\"shape\":\"\"}},\"name\":\"survey\",\"offsetgroup\":\"survey\",\"orientation\":\"v\",\"showlegend\":true,\"textposition\":\"auto\",\"x\":[0,1,2,3,4,5,6,7,8,9,10,11,12,13,14,15,16,17,18,19,20,21,22,23],\"xaxis\":\"x6\",\"y\":[0.0,0.00020877960062651532,0.0,0.010645464269209693,0.04487129856726461,0.07958634563736029,0.1668827344977107,0.24892289030455803,0.18636057738289102,0.09989652935028309,0.030186290402243864,0.027324149709166485,0.022445345090029805,0.01795864288500741,0.019642322327259387,0.01979953307733652,0.013731356867065222,0.008868444345183555,0.0014073682114412363,0.0005368406092432677,0.00019494329598550192,8.191875993204474e-05,0.0002788367836894963,0.0001693880265122291],\"yaxis\":\"y6\",\"type\":\"bar\"},{\"alignmentgroup\":\"True\",\"customdata\":[[0.0,0.0],[0.0,0.0],[0.0,0.0],[0.0,0.0],[86.688593033636,1.0],[454.392198263691,4.0],[35841.94166273945,28.0],[184810.37813662854,229.0],[178463.91097304705,262.0],[54742.69479601805,55.0],[11578.782726445685,19.0],[4313.592683769604,14.0],[5558.5039639001925,9.0],[3238.9460580296372,11.0],[2722.270337875217,6.0],[1054.0446466650703,4.0],[3913.0500727283707,7.0],[869.3783619234035,5.0],[1513.89214241086,1.0],[0.0,0.0],[0.0,0.0],[0.0,0.0],[0.0,0.0],[0.0,0.0]],\"hovertemplate\":\"source=survey\\u003cbr\\u003epdpurp_label=School\\u003cbr\\u003etlvorg_hr=%{x}\\u003cbr\\u003epercentage=%{y}\\u003cbr\\u003etoexpfac=%{customdata[0]}\\u003cbr\\u003esample_count=%{customdata[1]}\\u003cextra\\u003e\\u003c\\u002fextra\\u003e\",\"legendgroup\":\"survey\",\"marker\":{\"color\":\"#8CC63E\",\"pattern\":{\"shape\":\"\"}},\"name\":\"survey\",\"offsetgroup\":\"survey\",\"orientation\":\"v\",\"showlegend\":false,\"textposition\":\"auto\",\"x\":[0,1,2,3,4,5,6,7,8,9,10,11,12,13,14,15,16,17,18,19,20,21,22,23],\"xaxis\":\"x5\",\"y\":[0.0,0.0,0.0,0.0,0.00017721840660148833,0.0009289187715527206,0.07327206001035921,0.37780980854175167,0.36483565866897455,0.11191106932670675,0.023670627857224028,0.008818323096429468,0.011363308378857098,0.006621411645814418,0.005565166012436623,0.0021547946071328425,0.007999489604955164,0.001777279370240754,0.0030948657009632996,0.0,0.0,0.0,0.0,0.0],\"yaxis\":\"y5\",\"type\":\"bar\"},{\"alignmentgroup\":\"True\",\"customdata\":[[143.521368637738,1.0],[0.0,0.0],[570.896774611867,1.0],[0.0,0.0],[0.0,0.0],[776.7637534339301,5.0],[4769.603818802844,8.0],[12107.898756094186,36.0],[18154.742506415536,53.0],[53830.420476548745,115.0],[62551.662332100525,163.0],[71298.68910586355,122.0],[59180.63170434406,124.0],[59428.21451426868,135.0],[62755.07549026256,154.0],[68685.48809386698,111.0],[55073.599176348456,110.0],[28436.43160983523,119.0],[62362.95808194445,102.0],[20444.191353382022,89.0],[7282.428149155887,32.0],[2019.503056430456,14.0],[2349.3900106378996,7.0],[628.325555652825,3.0]],\"hovertemplate\":\"source=survey\\u003cbr\\u003epdpurp_label=Shop\\u003cbr\\u003etlvorg_hr=%{x}\\u003cbr\\u003epercentage=%{y}\\u003cbr\\u003etoexpfac=%{customdata[0]}\\u003cbr\\u003esample_count=%{customdata[1]}\\u003cextra\\u003e\\u003c\\u002fextra\\u003e\",\"legendgroup\":\"survey\",\"marker\":{\"color\":\"#8CC63E\",\"pattern\":{\"shape\":\"\"}},\"name\":\"survey\",\"offsetgroup\":\"survey\",\"orientation\":\"v\",\"showlegend\":false,\"textposition\":\"auto\",\"x\":[0,1,2,3,4,5,6,7,8,9,10,11,12,13,14,15,16,17,18,19,20,21,22,23],\"xaxis\":\"x4\",\"y\":[0.00021983805293221417,0.0,0.0008744679384485281,0.0,0.0,0.0011898035307498656,0.007305813947679731,0.0185462061357477,0.027808425198132224,0.08245444520499927,0.0958131585929324,0.10921136788498334,0.09064960130097678,0.09102883488403085,0.096124735559175,0.10520861186439476,0.0843586772187045,0.04355734492210297,0.09552411191418272,0.0313152756524044,0.011154818548101679,0.003093362500861698,0.0035986649961560037,0.0009624341523032849],\"yaxis\":\"y4\",\"type\":\"bar\"},{\"alignmentgroup\":\"True\",\"customdata\":[[632.62215829592,1.0],[0.0,0.0],[0.0,0.0],[0.0,0.0],[23.312448148228,1.0],[46.07273363740228,2.0],[2925.777734452038,8.0],[23356.46439963609,20.0],[14130.041614476766,44.0],[15870.600300674025,49.0],[22019.720159185883,57.0],[34250.98114834559,106.0],[38166.71534632753,116.0],[13881.241923716083,61.0],[13340.120241994084,38.0],[31104.060703891093,56.0],[18198.03715850649,57.0],[29709.86656119251,96.0],[40049.22701963642,104.0],[34982.764543346995,55.0],[13824.595015197263,32.0],[3917.0406076992085,11.0],[64.4328417659313,2.0],[592.2696401845194,2.0]],\"hovertemplate\":\"source=survey\\u003cbr\\u003epdpurp_label=Meal\\u003cbr\\u003etlvorg_hr=%{x}\\u003cbr\\u003epercentage=%{y}\\u003cbr\\u003etoexpfac=%{customdata[0]}\\u003cbr\\u003esample_count=%{customdata[1]}\\u003cextra\\u003e\\u003c\\u002fextra\\u003e\",\"legendgroup\":\"survey\",\"marker\":{\"color\":\"#8CC63E\",\"pattern\":{\"shape\":\"\"}},\"name\":\"survey\",\"offsetgroup\":\"survey\",\"orientation\":\"v\",\"showlegend\":false,\"textposition\":\"auto\",\"x\":[0,1,2,3,4,5,6,7,8,9,10,11,12,13,14,15,16,17,18,19,20,21,22,23],\"xaxis\":\"x3\",\"y\":[0.001801901023177307,0.0,0.0,0.0,6.640096876184753e-05,0.0001312292097156947,0.008333508120391285,0.06652634048240551,0.04024667190167217,0.045204314368713173,0.06271888482659699,0.09755724987925798,0.10871045620519507,0.03953801443296213,0.03799673469880808,0.08859385981401828,0.0518335650209598,0.08462276929925756,0.1140724241125724,0.09964159237486243,0.039376666745276255,0.011156927379610857,0.00018352440233360365,0.0016869647334517394],\"yaxis\":\"y3\",\"type\":\"bar\"},{\"alignmentgroup\":\"True\",\"customdata\":[[0.0,0.0],[0.0,0.0],[0.0,0.0],[0.0,0.0],[4054.1074151579,1.0],[3621.6853178441725,8.0],[14008.043944164967,15.0],[79706.75888850242,112.0],[107385.8432889369,150.0],[32796.21169392769,46.0],[5778.952525156872,27.0],[9936.136797937104,23.0],[13460.375487800955,38.0],[40000.633169023255,47.0],[56443.05266800753,72.0],[67075.08161255956,81.0],[38015.74994991364,55.0],[50697.182926902904,53.0],[3506.97842117303,17.0],[9894.698905991168,16.0],[2107.841073937623,8.0],[330.2706023061876,5.0],[6096.135066820443,5.0],[0.0,0.0]],\"hovertemplate\":\"source=survey\\u003cbr\\u003epdpurp_label=Escort\\u003cbr\\u003etlvorg_hr=%{x}\\u003cbr\\u003epercentage=%{y}\\u003cbr\\u003etoexpfac=%{customdata[0]}\\u003cbr\\u003esample_count=%{customdata[1]}\\u003cextra\\u003e\\u003c\\u002fextra\\u003e\",\"legendgroup\":\"survey\",\"marker\":{\"color\":\"#8CC63E\",\"pattern\":{\"shape\":\"\"}},\"name\":\"survey\",\"offsetgroup\":\"survey\",\"orientation\":\"v\",\"showlegend\":false,\"textposition\":\"auto\",\"x\":[0,1,2,3,4,5,6,7,8,9,10,11,12,13,14,15,16,17,18,19,20,21,22,23],\"xaxis\":\"x2\",\"y\":[0.0,0.0,0.0,0.0,0.007439879451771301,0.006646321722080276,0.025706807350501154,0.1462735485016156,0.1970687125628065,0.06018584030736416,0.010605222245450031,0.01823426279150074,0.02470175571332661,0.07340700635098162,0.10358124853078146,0.12309257508800579,0.06976445563296022,0.09303673802778736,0.006435817806883236,0.018158218205296485,0.003868196346982406,0.0006060948110143337,0.011187298552890811,0.0],\"yaxis\":\"y2\",\"type\":\"bar\"},{\"alignmentgroup\":\"True\",\"customdata\":[[0.0,0.0],[0.0,0.0],[0.0,0.0],[0.0,0.0],[0.0,0.0],[2325.255872414626,5.0],[6446.839968605129,21.0],[37494.19187984278,62.0],[21983.974469176625,68.0],[48225.42231837046,89.0],[27457.449132175087,93.0],[27892.063700452858,73.0],[28210.8273399356,84.0],[22478.414619897256,86.0],[35846.57944133159,81.0],[31185.913641812193,68.0],[9833.272916917173,53.0],[30678.220711815993,36.0],[2633.623560564438,22.0],[13166.944073262279,15.0],[6.85398522000551,1.0],[29.4730659624188,1.0],[197.424677262663,1.0],[0.0,0.0]],\"hovertemplate\":\"source=survey\\u003cbr\\u003epdpurp_label=Personal Business\\u003cbr\\u003etlvorg_hr=%{x}\\u003cbr\\u003epercentage=%{y}\\u003cbr\\u003etoexpfac=%{customdata[0]}\\u003cbr\\u003esample_count=%{customdata[1]}\\u003cextra\\u003e\\u003c\\u002fextra\\u003e\",\"legendgroup\":\"survey\",\"marker\":{\"color\":\"#8CC63E\",\"pattern\":{\"shape\":\"\"}},\"name\":\"survey\",\"offsetgroup\":\"survey\",\"orientation\":\"v\",\"showlegend\":false,\"textposition\":\"auto\",\"x\":[0,1,2,3,4,5,6,7,8,9,10,11,12,13,14,15,16,17,18,19,20,21,22,23],\"xaxis\":\"x\",\"y\":[0.0,0.0,0.0,0.0,0.0,0.006718591774857995,0.018627492355031777,0.1083356770140178,0.06352047178959279,0.1393424825074399,0.07933552349507571,0.08059129835336357,0.0815123336646855,0.06494910662036588,0.10357506743601042,0.09010854477177718,0.02841224801248589,0.08864161737505849,0.007609589035767555,0.038044553805930956,1.9803897399174516e-05,8.515944456010593e-05,0.0005704386465793658,0.0],\"yaxis\":\"y\",\"type\":\"bar\"},{\"alignmentgroup\":\"True\",\"customdata\":[[663.365825915265,1.0],[0.0,0.0],[66.61248155133971,2.0],[11536.937249213654,35.0],[47069.11064528897,144.0],[176781.16049967616,464.0],[333470.07784518355,1342.0],[393071.5312644363,2287.0],[269789.2629268085,1877.0],[165885.5016349633,1035.0],[74340.1775894003,457.0],[26843.559387681602,262.0],[38841.596463089445,243.0],[29706.812597293483,196.0],[18524.446823193204,130.0],[19186.686366792266,73.0],[10080.046467017171,76.0],[9235.107314169933,64.0],[4129.18919406304,39.0],[2189.811752997616,13.0],[1627.1968036848762,10.0],[2.034207699983375,1.0],[988.686151042609,2.0],[988.686151042609,2.0]],\"hovertemplate\":\"source=survey (2017\\u002f2019)\\u003cbr\\u003epdpurp_label=Work\\u003cbr\\u003etlvorg_hr=%{x}\\u003cbr\\u003epercentage=%{y}\\u003cbr\\u003etoexpfac=%{customdata[0]}\\u003cbr\\u003esample_count=%{customdata[1]}\\u003cextra\\u003e\\u003c\\u002fextra\\u003e\",\"legendgroup\":\"survey (2017\\u002f2019)\",\"marker\":{\"color\":\"#00A7A0\",\"pattern\":{\"shape\":\"\"}},\"name\":\"survey (2017\\u002f2019)\",\"offsetgroup\":\"survey (2017\\u002f2019)\",\"orientation\":\"v\",\"showlegend\":true,\"textposition\":\"auto\",\"x\":[0,1,2,3,4,5,6,7,8,9,10,11,12,13,14,15,16,17,18,19,20,21,22,23],\"xaxis\":\"x6\",\"y\":[0.00040572396705202367,0.0,4.074114043016966e-05,0.007056154787477896,0.028788137028717912,0.10812187021999356,0.20395503897087572,0.24040813495296282,0.16500694751901204,0.10145793040648632,0.045467509155010535,0.016417902428935104,0.023756072423380268,0.01816910878520972,0.011329814951170301,0.011734850067950726,0.006165099679387678,0.0056483228850181914,0.0025254707961660976,0.0013393199902896813,0.0009952166912646034,1.2441503399821667e-06,0.0006046945014343298,0.0006046945014343298],\"yaxis\":\"y6\",\"type\":\"bar\"},{\"alignmentgroup\":\"True\",\"customdata\":[[0.0,0.0],[0.0,0.0],[0.0,0.0],[0.0,0.0],[0.0,0.0],[10420.739136253758,19.0],[67142.96212951338,117.0],[184966.19363985493,500.0],[158860.18151059185,567.0],[36237.686969387454,140.0],[13587.301864651045,57.0],[5464.016981777703,29.0],[9372.079396235318,46.0],[3740.5243791076186,32.0],[2899.564229654071,33.0],[17571.078593923314,29.0],[5634.82123136347,27.0],[8698.721489859108,38.0],[675.101533826343,11.0],[75.14674575208934,3.0],[0.0,0.0],[0.0,0.0],[0.0,0.0],[0.0,0.0]],\"hovertemplate\":\"source=survey (2017\\u002f2019)\\u003cbr\\u003epdpurp_label=School\\u003cbr\\u003etlvorg_hr=%{x}\\u003cbr\\u003epercentage=%{y}\\u003cbr\\u003etoexpfac=%{customdata[0]}\\u003cbr\\u003esample_count=%{customdata[1]}\\u003cextra\\u003e\\u003c\\u002fextra\\u003e\",\"legendgroup\":\"survey (2017\\u002f2019)\",\"marker\":{\"color\":\"#00A7A0\",\"pattern\":{\"shape\":\"\"}},\"name\":\"survey (2017\\u002f2019)\",\"offsetgroup\":\"survey (2017\\u002f2019)\",\"orientation\":\"v\",\"showlegend\":false,\"textposition\":\"auto\",\"x\":[0,1,2,3,4,5,6,7,8,9,10,11,12,13,14,15,16,17,18,19,20,21,22,23],\"xaxis\":\"x5\",\"y\":[0.0,0.0,0.0,0.0,0.0,0.019835949563291964,0.12780709630256096,0.35208443853947685,0.3023914625303957,0.06897868967033205,0.025863523783144233,0.010400794401084797,0.017839818440529915,0.007120114221659366,0.005519340716902395,0.03344667054845797,0.010725921480429114,0.016558076973415128,0.0012850604741166693,0.00014304235420289392,0.0,0.0,0.0,0.0],\"yaxis\":\"y5\",\"type\":\"bar\"},{\"alignmentgroup\":\"True\",\"customdata\":[[83.24521252225395,2.0],[0.0,0.0],[0.54525469613021,1.0],[11.087229656279533,1.0],[608.1118660539306,3.0],[313.64492561617914,3.0],[6154.285694475873,16.0],[13477.069989906293,54.0],[22829.075462720826,87.0],[134178.91188748827,211.0],[102892.5138371521,225.0],[91115.22510114146,230.0],[89633.42932089815,201.0],[28021.09586572641,219.0],[51437.909248826996,190.0],[64356.26229586238,200.0],[35570.71695496434,203.0],[44948.3250943588,206.0],[25821.858260572855,201.0],[37186.01221540861,173.0],[16066.913929221468,97.0],[18875.0258305438,49.0],[557.4277959529774,17.0],[2123.97370652186,7.0]],\"hovertemplate\":\"source=survey (2017\\u002f2019)\\u003cbr\\u003epdpurp_label=Shop\\u003cbr\\u003etlvorg_hr=%{x}\\u003cbr\\u003epercentage=%{y}\\u003cbr\\u003etoexpfac=%{customdata[0]}\\u003cbr\\u003esample_count=%{customdata[1]}\\u003cextra\\u003e\\u003c\\u002fextra\\u003e\",\"legendgroup\":\"survey (2017\\u002f2019)\",\"marker\":{\"color\":\"#00A7A0\",\"pattern\":{\"shape\":\"\"}},\"name\":\"survey (2017\\u002f2019)\",\"offsetgroup\":\"survey (2017\\u002f2019)\",\"orientation\":\"v\",\"showlegend\":false,\"textposition\":\"auto\",\"x\":[0,1,2,3,4,5,6,7,8,9,10,11,12,13,14,15,16,17,18,19,20,21,22,23],\"xaxis\":\"x4\",\"y\":[0.00010587455823378287,0.0,6.934765174904071e-07,1.410117778942885e-05,0.0007734207556737221,0.00039890603838633267,0.007827264288296882,0.017140671375974366,0.02903492232487385,0.17065405432870714,0.13086277418247513,0.11588395192547753,0.11399934536526238,0.03563833950471529,0.06542077019423911,0.08185084323414253,0.045240246610686534,0.05716706004494254,0.03284126201711192,0.0472946430971024,0.02043453746942848,0.024006005401521882,0.0007089587479637415,0.0027013538804775894],\"yaxis\":\"y4\",\"type\":\"bar\"},{\"alignmentgroup\":\"True\",\"customdata\":[[0.0,0.0],[0.0,0.0],[0.0,0.0],[0.0,0.0],[104.37588060467607,2.0],[1004.4129807216316,5.0],[11355.197307710752,17.0],[4466.581191293693,65.0],[9391.502890534057,82.0],[10422.979978670439,76.0],[23115.5301076332,88.0],[79799.76079279731,284.0],[62591.6262206511,315.0],[24590.122393228034,131.0],[6320.630172016207,78.0],[9277.003714894172,76.0],[23708.461352219336,119.0],[33989.64241910098,196.0],[47203.97984922029,242.0],[10816.375339993585,164.0],[5593.375487917707,82.0],[496.1524996618177,23.0],[5109.103377173227,8.0],[0.0,0.0]],\"hovertemplate\":\"source=survey (2017\\u002f2019)\\u003cbr\\u003epdpurp_label=Meal\\u003cbr\\u003etlvorg_hr=%{x}\\u003cbr\\u003epercentage=%{y}\\u003cbr\\u003etoexpfac=%{customdata[0]}\\u003cbr\\u003esample_count=%{customdata[1]}\\u003cextra\\u003e\\u003c\\u002fextra\\u003e\",\"legendgroup\":\"survey (2017\\u002f2019)\",\"marker\":{\"color\":\"#00A7A0\",\"pattern\":{\"shape\":\"\"}},\"name\":\"survey (2017\\u002f2019)\",\"offsetgroup\":\"survey (2017\\u002f2019)\",\"orientation\":\"v\",\"showlegend\":false,\"textposition\":\"auto\",\"x\":[0,1,2,3,4,5,6,7,8,9,10,11,12,13,14,15,16,17,18,19,20,21,22,23],\"xaxis\":\"x3\",\"y\":[0.0,0.0,0.0,0.0,0.0002825882091811037,0.0027193568461990484,0.030743164546199908,0.012092862572247736,0.025426640407537615,0.028219270864489575,0.06258319661156764,0.21605059870993584,0.16946113854041484,0.06657552118736476,0.017112531658258337,0.02511664429723569,0.06418850406003589,0.09202386726009106,0.12780048469564206,0.02928435304643076,0.015143555707038842,0.0013432877935774747,0.01383243298655178,0.0],\"yaxis\":\"y3\",\"type\":\"bar\"},{\"alignmentgroup\":\"True\",\"customdata\":[[0.0,0.0],[0.0,0.0],[0.0,0.0],[68.99716112623685,2.0],[1608.8011555079395,8.0],[3465.3706566656138,13.0],[5061.683382412336,43.0],[57099.760693835706,219.0],[72887.47341573531,233.0],[14689.853983763353,60.0],[9347.769180612217,31.0],[14275.894103075514,49.0],[11401.469748573028,45.0],[21614.71229882211,57.0],[41300.91505807778,101.0],[38700.8359611188,135.0],[21628.900277144017,129.0],[53721.58878294915,109.0],[30992.11923970363,74.0],[17977.90415949376,42.0],[11720.508583892459,24.0],[6335.466793934933,24.0],[636.9309530825855,9.0],[330.4532993800188,3.0]],\"hovertemplate\":\"source=survey (2017\\u002f2019)\\u003cbr\\u003epdpurp_label=Escort\\u003cbr\\u003etlvorg_hr=%{x}\\u003cbr\\u003epercentage=%{y}\\u003cbr\\u003etoexpfac=%{customdata[0]}\\u003cbr\\u003esample_count=%{customdata[1]}\\u003cextra\\u003e\\u003c\\u002fextra\\u003e\",\"legendgroup\":\"survey (2017\\u002f2019)\",\"marker\":{\"color\":\"#00A7A0\",\"pattern\":{\"shape\":\"\"}},\"name\":\"survey (2017\\u002f2019)\",\"offsetgroup\":\"survey (2017\\u002f2019)\",\"orientation\":\"v\",\"showlegend\":false,\"textposition\":\"auto\",\"x\":[0,1,2,3,4,5,6,7,8,9,10,11,12,13,14,15,16,17,18,19,20,21,22,23],\"xaxis\":\"x2\",\"y\":[0.0,0.0,0.0,0.00015866252498094934,0.0036995211014282567,0.007968798272373857,0.011639601586481316,0.1313038400364988,0.16760849842015987,0.03378007568168002,0.021495676589091656,0.032828153619400134,0.0262182667993078,0.0497041439689584,0.09497358094413721,0.08899456517102552,0.04973676995571183,0.12353555977029573,0.07126797411396961,0.04134111637712194,0.02695191302985559,0.014568732134059336,0.0014646555250253282,0.0007598943784367112],\"yaxis\":\"y2\",\"type\":\"bar\"},{\"alignmentgroup\":\"True\",\"customdata\":[[0.0,0.0],[0.0,0.0],[0.0,0.0],[415.12771485007175,5.0],[693.6507083663261,7.0],[4797.110596523593,19.0],[18699.95978341244,69.0],[47346.51151895759,148.0],[71276.96887912303,291.0],[87578.65479472806,260.0],[82767.1937357741,271.0],[107315.8052870485,182.0],[36318.72193470561,209.0],[32255.442975107242,195.0],[80591.80973502366,192.0],[51540.58708666739,196.0],[55075.73985185104,193.0],[83275.02395238561,171.0],[36066.86538050676,180.0],[11826.822830027118,92.0],[4337.791814374124,39.0],[2041.160644579677,18.0],[700.3758568446026,9.0],[68.08898090709165,2.0]],\"hovertemplate\":\"source=survey (2017\\u002f2019)\\u003cbr\\u003epdpurp_label=Personal Business\\u003cbr\\u003etlvorg_hr=%{x}\\u003cbr\\u003epercentage=%{y}\\u003cbr\\u003etoexpfac=%{customdata[0]}\\u003cbr\\u003esample_count=%{customdata[1]}\\u003cextra\\u003e\\u003c\\u002fextra\\u003e\",\"legendgroup\":\"survey (2017\\u002f2019)\",\"marker\":{\"color\":\"#00A7A0\",\"pattern\":{\"shape\":\"\"}},\"name\":\"survey (2017\\u002f2019)\",\"offsetgroup\":\"survey (2017\\u002f2019)\",\"orientation\":\"v\",\"showlegend\":false,\"textposition\":\"auto\",\"x\":[0,1,2,3,4,5,6,7,8,9,10,11,12,13,14,15,16,17,18,19,20,21,22,23],\"xaxis\":\"x\",\"y\":[0.0,0.0,0.0,0.0005093657754168221,0.0008511162186871767,0.005886101725684557,0.022945033960889302,0.058094633748665414,0.08745753950826327,0.10745986792423656,0.10155615804047931,0.13167754505203377,0.04456342782871191,0.03957774471493046,0.09888694054732353,0.06324080558273534,0.06757847267900481,0.10217927069427511,0.044254397367882184,0.014511627545055238,0.005322513077507761,0.0025045241194077503,0.000859368041793393,8.354584701627984e-05],\"yaxis\":\"y\",\"type\":\"bar\"}],                        {\"template\":{\"data\":{\"barpolar\":[{\"marker\":{\"line\":{\"color\":\"white\",\"width\":0.5},\"pattern\":{\"fillmode\":\"overlay\",\"size\":10,\"solidity\":0.2}},\"type\":\"barpolar\"}],\"bar\":[{\"error_x\":{\"color\":\"rgb(36,36,36)\"},\"error_y\":{\"color\":\"rgb(36,36,36)\"},\"marker\":{\"line\":{\"color\":\"white\",\"width\":0.5},\"pattern\":{\"fillmode\":\"overlay\",\"size\":10,\"solidity\":0.2}},\"type\":\"bar\"}],\"carpet\":[{\"aaxis\":{\"endlinecolor\":\"rgb(36,36,36)\",\"gridcolor\":\"white\",\"linecolor\":\"white\",\"minorgridcolor\":\"white\",\"startlinecolor\":\"rgb(36,36,36)\"},\"baxis\":{\"endlinecolor\":\"rgb(36,36,36)\",\"gridcolor\":\"white\",\"linecolor\":\"white\",\"minorgridcolor\":\"white\",\"startlinecolor\":\"rgb(36,36,36)\"},\"type\":\"carpet\"}],\"choropleth\":[{\"colorbar\":{\"outlinewidth\":1,\"tickcolor\":\"rgb(36,36,36)\",\"ticks\":\"outside\"},\"type\":\"choropleth\"}],\"contourcarpet\":[{\"colorbar\":{\"outlinewidth\":1,\"tickcolor\":\"rgb(36,36,36)\",\"ticks\":\"outside\"},\"type\":\"contourcarpet\"}],\"contour\":[{\"colorbar\":{\"outlinewidth\":1,\"tickcolor\":\"rgb(36,36,36)\",\"ticks\":\"outside\"},\"colorscale\":[[0.0,\"#440154\"],[0.1111111111111111,\"#482878\"],[0.2222222222222222,\"#3e4989\"],[0.3333333333333333,\"#31688e\"],[0.4444444444444444,\"#26828e\"],[0.5555555555555556,\"#1f9e89\"],[0.6666666666666666,\"#35b779\"],[0.7777777777777778,\"#6ece58\"],[0.8888888888888888,\"#b5de2b\"],[1.0,\"#fde725\"]],\"type\":\"contour\"}],\"heatmapgl\":[{\"colorbar\":{\"outlinewidth\":1,\"tickcolor\":\"rgb(36,36,36)\",\"ticks\":\"outside\"},\"colorscale\":[[0.0,\"#440154\"],[0.1111111111111111,\"#482878\"],[0.2222222222222222,\"#3e4989\"],[0.3333333333333333,\"#31688e\"],[0.4444444444444444,\"#26828e\"],[0.5555555555555556,\"#1f9e89\"],[0.6666666666666666,\"#35b779\"],[0.7777777777777778,\"#6ece58\"],[0.8888888888888888,\"#b5de2b\"],[1.0,\"#fde725\"]],\"type\":\"heatmapgl\"}],\"heatmap\":[{\"colorbar\":{\"outlinewidth\":1,\"tickcolor\":\"rgb(36,36,36)\",\"ticks\":\"outside\"},\"colorscale\":[[0.0,\"#440154\"],[0.1111111111111111,\"#482878\"],[0.2222222222222222,\"#3e4989\"],[0.3333333333333333,\"#31688e\"],[0.4444444444444444,\"#26828e\"],[0.5555555555555556,\"#1f9e89\"],[0.6666666666666666,\"#35b779\"],[0.7777777777777778,\"#6ece58\"],[0.8888888888888888,\"#b5de2b\"],[1.0,\"#fde725\"]],\"type\":\"heatmap\"}],\"histogram2dcontour\":[{\"colorbar\":{\"outlinewidth\":1,\"tickcolor\":\"rgb(36,36,36)\",\"ticks\":\"outside\"},\"colorscale\":[[0.0,\"#440154\"],[0.1111111111111111,\"#482878\"],[0.2222222222222222,\"#3e4989\"],[0.3333333333333333,\"#31688e\"],[0.4444444444444444,\"#26828e\"],[0.5555555555555556,\"#1f9e89\"],[0.6666666666666666,\"#35b779\"],[0.7777777777777778,\"#6ece58\"],[0.8888888888888888,\"#b5de2b\"],[1.0,\"#fde725\"]],\"type\":\"histogram2dcontour\"}],\"histogram2d\":[{\"colorbar\":{\"outlinewidth\":1,\"tickcolor\":\"rgb(36,36,36)\",\"ticks\":\"outside\"},\"colorscale\":[[0.0,\"#440154\"],[0.1111111111111111,\"#482878\"],[0.2222222222222222,\"#3e4989\"],[0.3333333333333333,\"#31688e\"],[0.4444444444444444,\"#26828e\"],[0.5555555555555556,\"#1f9e89\"],[0.6666666666666666,\"#35b779\"],[0.7777777777777778,\"#6ece58\"],[0.8888888888888888,\"#b5de2b\"],[1.0,\"#fde725\"]],\"type\":\"histogram2d\"}],\"histogram\":[{\"marker\":{\"line\":{\"color\":\"white\",\"width\":0.6}},\"type\":\"histogram\"}],\"mesh3d\":[{\"colorbar\":{\"outlinewidth\":1,\"tickcolor\":\"rgb(36,36,36)\",\"ticks\":\"outside\"},\"type\":\"mesh3d\"}],\"parcoords\":[{\"line\":{\"colorbar\":{\"outlinewidth\":1,\"tickcolor\":\"rgb(36,36,36)\",\"ticks\":\"outside\"}},\"type\":\"parcoords\"}],\"pie\":[{\"automargin\":true,\"type\":\"pie\"}],\"scatter3d\":[{\"line\":{\"colorbar\":{\"outlinewidth\":1,\"tickcolor\":\"rgb(36,36,36)\",\"ticks\":\"outside\"}},\"marker\":{\"colorbar\":{\"outlinewidth\":1,\"tickcolor\":\"rgb(36,36,36)\",\"ticks\":\"outside\"}},\"type\":\"scatter3d\"}],\"scattercarpet\":[{\"marker\":{\"colorbar\":{\"outlinewidth\":1,\"tickcolor\":\"rgb(36,36,36)\",\"ticks\":\"outside\"}},\"type\":\"scattercarpet\"}],\"scattergeo\":[{\"marker\":{\"colorbar\":{\"outlinewidth\":1,\"tickcolor\":\"rgb(36,36,36)\",\"ticks\":\"outside\"}},\"type\":\"scattergeo\"}],\"scattergl\":[{\"marker\":{\"colorbar\":{\"outlinewidth\":1,\"tickcolor\":\"rgb(36,36,36)\",\"ticks\":\"outside\"}},\"type\":\"scattergl\"}],\"scattermapbox\":[{\"marker\":{\"colorbar\":{\"outlinewidth\":1,\"tickcolor\":\"rgb(36,36,36)\",\"ticks\":\"outside\"}},\"type\":\"scattermapbox\"}],\"scatterpolargl\":[{\"marker\":{\"colorbar\":{\"outlinewidth\":1,\"tickcolor\":\"rgb(36,36,36)\",\"ticks\":\"outside\"}},\"type\":\"scatterpolargl\"}],\"scatterpolar\":[{\"marker\":{\"colorbar\":{\"outlinewidth\":1,\"tickcolor\":\"rgb(36,36,36)\",\"ticks\":\"outside\"}},\"type\":\"scatterpolar\"}],\"scatter\":[{\"fillpattern\":{\"fillmode\":\"overlay\",\"size\":10,\"solidity\":0.2},\"type\":\"scatter\"}],\"scatterternary\":[{\"marker\":{\"colorbar\":{\"outlinewidth\":1,\"tickcolor\":\"rgb(36,36,36)\",\"ticks\":\"outside\"}},\"type\":\"scatterternary\"}],\"surface\":[{\"colorbar\":{\"outlinewidth\":1,\"tickcolor\":\"rgb(36,36,36)\",\"ticks\":\"outside\"},\"colorscale\":[[0.0,\"#440154\"],[0.1111111111111111,\"#482878\"],[0.2222222222222222,\"#3e4989\"],[0.3333333333333333,\"#31688e\"],[0.4444444444444444,\"#26828e\"],[0.5555555555555556,\"#1f9e89\"],[0.6666666666666666,\"#35b779\"],[0.7777777777777778,\"#6ece58\"],[0.8888888888888888,\"#b5de2b\"],[1.0,\"#fde725\"]],\"type\":\"surface\"}],\"table\":[{\"cells\":{\"fill\":{\"color\":\"rgb(237,237,237)\"},\"line\":{\"color\":\"white\"}},\"header\":{\"fill\":{\"color\":\"rgb(217,217,217)\"},\"line\":{\"color\":\"white\"}},\"type\":\"table\"}]},\"layout\":{\"annotationdefaults\":{\"arrowhead\":0,\"arrowwidth\":1},\"autotypenumbers\":\"strict\",\"coloraxis\":{\"colorbar\":{\"outlinewidth\":1,\"tickcolor\":\"rgb(36,36,36)\",\"ticks\":\"outside\"}},\"colorscale\":{\"diverging\":[[0.0,\"rgb(103,0,31)\"],[0.1,\"rgb(178,24,43)\"],[0.2,\"rgb(214,96,77)\"],[0.3,\"rgb(244,165,130)\"],[0.4,\"rgb(253,219,199)\"],[0.5,\"rgb(247,247,247)\"],[0.6,\"rgb(209,229,240)\"],[0.7,\"rgb(146,197,222)\"],[0.8,\"rgb(67,147,195)\"],[0.9,\"rgb(33,102,172)\"],[1.0,\"rgb(5,48,97)\"]],\"sequential\":[[0.0,\"#440154\"],[0.1111111111111111,\"#482878\"],[0.2222222222222222,\"#3e4989\"],[0.3333333333333333,\"#31688e\"],[0.4444444444444444,\"#26828e\"],[0.5555555555555556,\"#1f9e89\"],[0.6666666666666666,\"#35b779\"],[0.7777777777777778,\"#6ece58\"],[0.8888888888888888,\"#b5de2b\"],[1.0,\"#fde725\"]],\"sequentialminus\":[[0.0,\"#440154\"],[0.1111111111111111,\"#482878\"],[0.2222222222222222,\"#3e4989\"],[0.3333333333333333,\"#31688e\"],[0.4444444444444444,\"#26828e\"],[0.5555555555555556,\"#1f9e89\"],[0.6666666666666666,\"#35b779\"],[0.7777777777777778,\"#6ece58\"],[0.8888888888888888,\"#b5de2b\"],[1.0,\"#fde725\"]]},\"colorway\":[\"#91268F\",\"#8CC63E\",\"#00A7A0\",\"#F05A28\",\"#4C4C4C\",\"#630460\",\"#9f3913\",\"#588527\",\"#00716c\",\"#3e4040\"],\"font\":{\"color\":\"rgb(36,36,36)\",\"family\":\"Poppins\",\"size\":11},\"geo\":{\"bgcolor\":\"white\",\"lakecolor\":\"white\",\"landcolor\":\"white\",\"showlakes\":true,\"showland\":true,\"subunitcolor\":\"white\"},\"hoverlabel\":{\"align\":\"left\"},\"hovermode\":\"closest\",\"mapbox\":{\"style\":\"light\"},\"paper_bgcolor\":\"white\",\"plot_bgcolor\":\"white\",\"polar\":{\"angularaxis\":{\"gridcolor\":\"rgb(232,232,232)\",\"linecolor\":\"rgb(36,36,36)\",\"showgrid\":false,\"showline\":true,\"ticks\":\"outside\"},\"bgcolor\":\"white\",\"radialaxis\":{\"gridcolor\":\"rgb(232,232,232)\",\"linecolor\":\"rgb(36,36,36)\",\"showgrid\":false,\"showline\":true,\"ticks\":\"outside\"}},\"scene\":{\"xaxis\":{\"backgroundcolor\":\"white\",\"gridcolor\":\"rgb(232,232,232)\",\"gridwidth\":2,\"linecolor\":\"rgb(36,36,36)\",\"showbackground\":true,\"showgrid\":false,\"showline\":true,\"ticks\":\"outside\",\"zeroline\":false,\"zerolinecolor\":\"rgb(36,36,36)\"},\"yaxis\":{\"backgroundcolor\":\"white\",\"gridcolor\":\"rgb(232,232,232)\",\"gridwidth\":2,\"linecolor\":\"rgb(36,36,36)\",\"showbackground\":true,\"showgrid\":false,\"showline\":true,\"ticks\":\"outside\",\"zeroline\":false,\"zerolinecolor\":\"rgb(36,36,36)\"},\"zaxis\":{\"backgroundcolor\":\"white\",\"gridcolor\":\"rgb(232,232,232)\",\"gridwidth\":2,\"linecolor\":\"rgb(36,36,36)\",\"showbackground\":true,\"showgrid\":false,\"showline\":true,\"ticks\":\"outside\",\"zeroline\":false,\"zerolinecolor\":\"rgb(36,36,36)\"}},\"shapedefaults\":{\"fillcolor\":\"black\",\"line\":{\"width\":0},\"opacity\":0.3},\"ternary\":{\"aaxis\":{\"gridcolor\":\"rgb(232,232,232)\",\"linecolor\":\"rgb(36,36,36)\",\"showgrid\":false,\"showline\":true,\"ticks\":\"outside\"},\"baxis\":{\"gridcolor\":\"rgb(232,232,232)\",\"linecolor\":\"rgb(36,36,36)\",\"showgrid\":false,\"showline\":true,\"ticks\":\"outside\"},\"bgcolor\":\"white\",\"caxis\":{\"gridcolor\":\"rgb(232,232,232)\",\"linecolor\":\"rgb(36,36,36)\",\"showgrid\":false,\"showline\":true,\"ticks\":\"outside\"}},\"title\":{\"x\":0.05},\"xaxis\":{\"automargin\":true,\"gridcolor\":\"rgb(232,232,232)\",\"linecolor\":\"rgb(36,36,36)\",\"showgrid\":false,\"showline\":true,\"ticks\":\"outside\",\"title\":{\"standoff\":15},\"zeroline\":false,\"zerolinecolor\":\"rgb(36,36,36)\"},\"yaxis\":{\"automargin\":true,\"gridcolor\":\"rgb(232,232,232)\",\"linecolor\":\"rgb(36,36,36)\",\"showgrid\":false,\"showline\":true,\"ticks\":\"outside\",\"title\":{\"standoff\":15},\"zeroline\":false,\"zerolinecolor\":\"rgb(36,36,36)\"}}},\"xaxis\":{\"anchor\":\"y\",\"domain\":[0.0,0.98],\"title\":{\"text\":\"tlvorg_hr\"},\"dtick\":1,\"categoryorder\":\"category ascending\"},\"yaxis\":{\"anchor\":\"x\",\"domain\":[0.0,0.14166666666666666],\"title\":{\"text\":\"percentage\"},\"tickformat\":\".0%\"},\"xaxis2\":{\"anchor\":\"y2\",\"domain\":[0.0,0.98],\"matches\":\"x\",\"showticklabels\":false,\"dtick\":1,\"categoryorder\":\"category ascending\"},\"yaxis2\":{\"anchor\":\"x2\",\"domain\":[0.17166666666666666,0.31333333333333335],\"matches\":\"y\",\"title\":{\"text\":\"percentage\"},\"tickformat\":\".0%\"},\"xaxis3\":{\"anchor\":\"y3\",\"domain\":[0.0,0.98],\"matches\":\"x\",\"showticklabels\":false,\"dtick\":1,\"categoryorder\":\"category ascending\"},\"yaxis3\":{\"anchor\":\"x3\",\"domain\":[0.3433333333333333,0.485],\"matches\":\"y\",\"title\":{\"text\":\"percentage\"},\"tickformat\":\".0%\"},\"xaxis4\":{\"anchor\":\"y4\",\"domain\":[0.0,0.98],\"matches\":\"x\",\"showticklabels\":false,\"dtick\":1,\"categoryorder\":\"category ascending\"},\"yaxis4\":{\"anchor\":\"x4\",\"domain\":[0.515,0.6566666666666667],\"matches\":\"y\",\"title\":{\"text\":\"percentage\"},\"tickformat\":\".0%\"},\"xaxis5\":{\"anchor\":\"y5\",\"domain\":[0.0,0.98],\"matches\":\"x\",\"showticklabels\":false,\"dtick\":1,\"categoryorder\":\"category ascending\"},\"yaxis5\":{\"anchor\":\"x5\",\"domain\":[0.6866666666666666,0.8283333333333334],\"matches\":\"y\",\"title\":{\"text\":\"percentage\"},\"tickformat\":\".0%\"},\"xaxis6\":{\"anchor\":\"y6\",\"domain\":[0.0,0.98],\"matches\":\"x\",\"showticklabels\":false,\"dtick\":1,\"categoryorder\":\"category ascending\"},\"yaxis6\":{\"anchor\":\"x6\",\"domain\":[0.8583333333333333,1.0],\"matches\":\"y\",\"title\":{\"text\":\"percentage\"},\"tickformat\":\".0%\"},\"annotations\":[{\"font\":{},\"showarrow\":false,\"text\":\"Personal Business\",\"textangle\":90,\"x\":0.98,\"xanchor\":\"left\",\"xref\":\"paper\",\"y\":0.07083333333333333,\"yanchor\":\"middle\",\"yref\":\"paper\"},{\"font\":{},\"showarrow\":false,\"text\":\"Escort\",\"textangle\":90,\"x\":0.98,\"xanchor\":\"left\",\"xref\":\"paper\",\"y\":0.2425,\"yanchor\":\"middle\",\"yref\":\"paper\"},{\"font\":{},\"showarrow\":false,\"text\":\"Meal\",\"textangle\":90,\"x\":0.98,\"xanchor\":\"left\",\"xref\":\"paper\",\"y\":0.4141666666666667,\"yanchor\":\"middle\",\"yref\":\"paper\"},{\"font\":{},\"showarrow\":false,\"text\":\"Shop\",\"textangle\":90,\"x\":0.98,\"xanchor\":\"left\",\"xref\":\"paper\",\"y\":0.5858333333333334,\"yanchor\":\"middle\",\"yref\":\"paper\"},{\"font\":{},\"showarrow\":false,\"text\":\"School\",\"textangle\":90,\"x\":0.98,\"xanchor\":\"left\",\"xref\":\"paper\",\"y\":0.7575000000000001,\"yanchor\":\"middle\",\"yref\":\"paper\"},{\"font\":{},\"showarrow\":false,\"text\":\"Work\",\"textangle\":90,\"x\":0.98,\"xanchor\":\"left\",\"xref\":\"paper\",\"y\":0.9291666666666667,\"yanchor\":\"middle\",\"yref\":\"paper\"}],\"legend\":{\"title\":{\"text\":\"source\"},\"tracegroupgap\":0},\"title\":{\"text\":\"tour origin departure hour by purpose\"},\"barmode\":\"group\",\"height\":1500,\"width\":850},                        {\"responsive\": true}                    ).then(function(){\n",
       "                            \n",
       "var gd = document.getElementById('dffb5302-0cf2-424c-bf5a-e441f7b6cf39');\n",
       "var x = new MutationObserver(function (mutations, observer) {{\n",
       "        var display = window.getComputedStyle(gd).display;\n",
       "        if (!display || display === 'none') {{\n",
       "            console.log([gd, 'removed!']);\n",
       "            Plotly.purge(gd);\n",
       "            observer.disconnect();\n",
       "        }}\n",
       "}});\n",
       "\n",
       "// Listen for the removal of the full notebook cells\n",
       "var notebookContainer = gd.closest('#notebook-container');\n",
       "if (notebookContainer) {{\n",
       "    x.observe(notebookContainer, {childList: true});\n",
       "}}\n",
       "\n",
       "// Listen for the clearing of the current output cell\n",
       "var outputEl = gd.closest('.output');\n",
       "if (outputEl) {{\n",
       "    x.observe(outputEl, {childList: true});\n",
       "}}\n",
       "\n",
       "                        })                };                });            </script>        </div>"
      ]
     },
     "metadata": {},
     "output_type": "display_data"
    }
   ],
   "source": [
    "df_plot = df_tour.groupby(['tlvorg_hr','pdpurp_label','source'])['toexpfac'].agg(sample_count='size', toexpfac='sum').reset_index()\n",
    "df_plot['percentage'] = df_plot.groupby(['pdpurp_label','source'], group_keys=False)['toexpfac']. \\\n",
    "    apply(lambda x: x / float(x.sum()))\n",
    "\n",
    "fig = px.bar(df_plot.sort_values(['source','pdpurp_label']),\n",
    "             x=\"tlvorg_hr\", y=\"percentage\", color=\"source\",barmode=\"group\",\n",
    "             facet_row='pdpurp_label',\n",
    "             hover_data=['toexpfac','sample_count'],\n",
    "             title=\"tour origin departure hour by purpose\")\n",
    "fig.update_layout(height=1500, width=850)\n",
    "fig.for_each_annotation(lambda a: a.update(text = a.text.split(\"=\")[-1]))\n",
    "fig.for_each_xaxis(lambda a: a.update(dict(dtick = 1, categoryorder='category ascending')))\n",
    "fig.for_each_yaxis(lambda a: a.update(dict(tickformat=\".0%\")))\n",
    "fig.show()"
   ]
  },
  {
   "cell_type": "raw",
   "metadata": {
    "vscode": {
     "languageId": "raw"
    }
   },
   "source": [
    "### trip"
   ]
  },
  {
   "cell_type": "code",
   "execution_count": 7,
   "metadata": {
    "execution": {
     "iopub.execute_input": "2025-01-21T07:15:35.232422Z",
     "iopub.status.busy": "2025-01-21T07:15:35.230847Z",
     "iopub.status.idle": "2025-01-21T07:15:36.914521Z",
     "shell.execute_reply": "2025-01-21T07:15:36.913009Z"
    }
   },
   "outputs": [
    {
     "data": {
      "application/vnd.plotly.v1+json": {
       "config": {
        "plotlyServerURL": "https://plot.ly"
       },
       "data": [
        {
         "alignmentgroup": "True",
         "customdata": [
          [
           3325,
           3325
          ],
          [
           2287,
           2287
          ],
          [
           785,
           785
          ],
          [
           20058,
           20058
          ],
          [
           28017,
           28017
          ],
          [
           80655,
           80655
          ],
          [
           223275,
           223275
          ],
          [
           324685,
           324685
          ],
          [
           294856,
           294856
          ],
          [
           174182,
           174182
          ],
          [
           119415,
           119415
          ],
          [
           118101,
           118101
          ],
          [
           113905,
           113905
          ],
          [
           94044,
           94044
          ],
          [
           83771,
           83771
          ],
          [
           76585,
           76585
          ],
          [
           79496,
           79496
          ],
          [
           66988,
           66988
          ],
          [
           49966,
           49966
          ],
          [
           27873,
           27873
          ],
          [
           21315,
           21315
          ],
          [
           15806,
           15806
          ],
          [
           9007,
           9007
          ],
          [
           7140,
           7140
          ]
         ],
         "hovertemplate": "source=model<br>dpurp_label=Work<br>dept_hr=%{x}<br>percentage=%{y}<br>trexpfac=%{customdata[0]}<br>sample_count=%{customdata[1]}<extra></extra>",
         "legendgroup": "model",
         "marker": {
          "color": "#91268F",
          "pattern": {
           "shape": ""
          }
         },
         "name": "model",
         "offsetgroup": "model",
         "orientation": "v",
         "showlegend": true,
         "textposition": "auto",
         "type": "bar",
         "x": [
          0,
          1,
          2,
          3,
          4,
          5,
          6,
          7,
          8,
          9,
          10,
          11,
          12,
          13,
          14,
          15,
          16,
          17,
          18,
          19,
          20,
          21,
          22,
          23
         ],
         "xaxis": "x6",
         "y": [
          0.0016334755889969084,
          0.0011235364427175727,
          0.00038564762025942046,
          0.009853910786195486,
          0.01376393551185756,
          0.03962345071595358,
          0.10968849988970969,
          0.15950827717698082,
          0.14485415887797667,
          0.08557053986245398,
          0.05866510901054611,
          0.058019579108608686,
          0.05595820660592266,
          0.046201076177932406,
          0.04115425069649925,
          0.03762397834085059,
          0.03905406779636037,
          0.032909251956608994,
          0.02454683948265249,
          0.013693192508905513,
          0.010471438249464391,
          0.007765027115694777,
          0.004424876580479745,
          0.0035076738963723086
         ],
         "yaxis": "y6"
        },
        {
         "alignmentgroup": "True",
         "customdata": [
          [
           7,
           7
          ],
          [
           2,
           2
          ],
          [
           2,
           2
          ],
          [
           508,
           508
          ],
          [
           597,
           597
          ],
          [
           5009,
           5009
          ],
          [
           46122,
           46122
          ],
          [
           143396,
           143396
          ],
          [
           164867,
           164867
          ],
          [
           83776,
           83776
          ],
          [
           39227,
           39227
          ],
          [
           26224,
           26224
          ],
          [
           17567,
           17567
          ],
          [
           12342,
           12342
          ],
          [
           9532,
           9532
          ],
          [
           9702,
           9702
          ],
          [
           6320,
           6320
          ],
          [
           5275,
           5275
          ],
          [
           3204,
           3204
          ],
          [
           1041,
           1041
          ],
          [
           719,
           719
          ],
          [
           369,
           369
          ],
          [
           71,
           71
          ],
          [
           29,
           29
          ]
         ],
         "hovertemplate": "source=model<br>dpurp_label=School<br>dept_hr=%{x}<br>percentage=%{y}<br>trexpfac=%{customdata[0]}<br>sample_count=%{customdata[1]}<extra></extra>",
         "legendgroup": "model",
         "marker": {
          "color": "#91268F",
          "pattern": {
           "shape": ""
          }
         },
         "name": "model",
         "offsetgroup": "model",
         "orientation": "v",
         "showlegend": false,
         "textposition": "auto",
         "type": "bar",
         "x": [
          0,
          1,
          2,
          3,
          4,
          5,
          6,
          7,
          8,
          9,
          10,
          11,
          12,
          13,
          14,
          15,
          16,
          17,
          18,
          19,
          20,
          21,
          22,
          23
         ],
         "xaxis": "x5",
         "y": [
          0.000012154719156531945,
          0.0000034727769018662703,
          0.0000034727769018662703,
          0.0008820853330740327,
          0.0010366239052070818,
          0.008697569750724074,
          0.08008570813393806,
          0.24899115831000784,
          0.2862731547399932,
          0.14546767886537432,
          0.06811330976475409,
          0.04553505073727054,
          0.030503135917542386,
          0.021430506261416755,
          0.016551254714294646,
          0.016846440750953276,
          0.010973975009897415,
          0.009159449078672287,
          0.005563388596789765,
          0.0018075803774213937,
          0.001248463296220924,
          0.0006407273383943269,
          0.0001232835800162526,
          0.00005035526507706092
         ],
         "yaxis": "y5"
        },
        {
         "alignmentgroup": "True",
         "customdata": [
          [
           1076,
           1076
          ],
          [
           780,
           780
          ],
          [
           316,
           316
          ],
          [
           7841,
           7841
          ],
          [
           7829,
           7829
          ],
          [
           11965,
           11965
          ],
          [
           32050,
           32050
          ],
          [
           67841,
           67841
          ],
          [
           110766,
           110766
          ],
          [
           153534,
           153534
          ],
          [
           180336,
           180336
          ],
          [
           168744,
           168744
          ],
          [
           158353,
           158353
          ],
          [
           175497,
           175497
          ],
          [
           157961,
           157961
          ],
          [
           177525,
           177525
          ],
          [
           189560,
           189560
          ],
          [
           159745,
           159745
          ],
          [
           125196,
           125196
          ],
          [
           86459,
           86459
          ],
          [
           58300,
           58300
          ],
          [
           20856,
           20856
          ],
          [
           9273,
           9273
          ],
          [
           5749,
           5749
          ]
         ],
         "hovertemplate": "source=model<br>dpurp_label=Shop<br>dept_hr=%{x}<br>percentage=%{y}<br>trexpfac=%{customdata[0]}<br>sample_count=%{customdata[1]}<extra></extra>",
         "legendgroup": "model",
         "marker": {
          "color": "#91268F",
          "pattern": {
           "shape": ""
          }
         },
         "name": "model",
         "offsetgroup": "model",
         "orientation": "v",
         "showlegend": false,
         "textposition": "auto",
         "type": "bar",
         "x": [
          0,
          1,
          2,
          3,
          4,
          5,
          6,
          7,
          8,
          9,
          10,
          11,
          12,
          13,
          14,
          15,
          16,
          17,
          18,
          19,
          20,
          21,
          22,
          23
         ],
         "xaxis": "x4",
         "y": [
          0.0005204222191267741,
          0.00037725774248966896,
          0.00015283775208555818,
          0.003792407639566018,
          0.0037866036742969463,
          0.005787037037037037,
          0.015501423906146013,
          0.032812233984925165,
          0.05357350141616753,
          0.07425883363513952,
          0.08722199006361146,
          0.08161535961368807,
          0.0765896093544443,
          0.08488154106885824,
          0.0764000131556546,
          0.08586241119933138,
          0.091683304700438,
          0.07726286932565662,
          0.060552769652226404,
          0.04181708609989011,
          0.02819759793224064,
          0.01008729163764684,
          0.004485014161675256,
          0.0027805830276578293
         ],
         "yaxis": "y4"
        },
        {
         "alignmentgroup": "True",
         "customdata": [
          [
           885,
           885
          ],
          [
           661,
           661
          ],
          [
           232,
           232
          ],
          [
           4175,
           4175
          ],
          [
           4660,
           4660
          ],
          [
           8763,
           8763
          ],
          [
           23297,
           23297
          ],
          [
           36137,
           36137
          ],
          [
           51721,
           51721
          ],
          [
           63199,
           63199
          ],
          [
           81360,
           81360
          ],
          [
           86786,
           86786
          ],
          [
           84150,
           84150
          ],
          [
           87678,
           87678
          ],
          [
           77261,
           77261
          ],
          [
           72547,
           72547
          ],
          [
           82298,
           82298
          ],
          [
           80227,
           80227
          ],
          [
           66686,
           66686
          ],
          [
           45001,
           45001
          ],
          [
           33006,
           33006
          ],
          [
           19167,
           19167
          ],
          [
           7767,
           7767
          ],
          [
           4006,
           4006
          ]
         ],
         "hovertemplate": "source=model<br>dpurp_label=Meal<br>dept_hr=%{x}<br>percentage=%{y}<br>trexpfac=%{customdata[0]}<br>sample_count=%{customdata[1]}<extra></extra>",
         "legendgroup": "model",
         "marker": {
          "color": "#91268F",
          "pattern": {
           "shape": ""
          }
         },
         "name": "model",
         "offsetgroup": "model",
         "orientation": "v",
         "showlegend": false,
         "textposition": "auto",
         "type": "bar",
         "x": [
          0,
          1,
          2,
          3,
          4,
          5,
          6,
          7,
          8,
          9,
          10,
          11,
          12,
          13,
          14,
          15,
          16,
          17,
          18,
          19,
          20,
          21,
          22,
          23
         ],
         "xaxis": "x3",
         "y": [
          0.0008662288214394081,
          0.000646979944600507,
          0.00022707919386886176,
          0.004086446700010767,
          0.0045611596699521376,
          0.008577133516693257,
          0.022802861980874452,
          0.035370520813961456,
          0.050623978388325,
          0.06185852574706118,
          0.07963432419470083,
          0.08494523672027171,
          0.08236514725889965,
          0.08581831706911233,
          0.07562226550647469,
          0.07100825119657032,
          0.08055242886646373,
          0.07852535554533265,
          0.06527156518249533,
          0.04404651208315797,
          0.032305930486360566,
          0.018760460814157214,
          0.007602259046463143,
          0.003921031252752846
         ],
         "yaxis": "y3"
        },
        {
         "alignmentgroup": "True",
         "customdata": [
          [
           2149,
           2149
          ],
          [
           1472,
           1472
          ],
          [
           554,
           554
          ],
          [
           25025,
           25025
          ],
          [
           23698,
           23698
          ],
          [
           42205,
           42205
          ],
          [
           115700,
           115700
          ],
          [
           140157,
           140157
          ],
          [
           124711,
           124711
          ],
          [
           109907,
           109907
          ],
          [
           104312,
           104312
          ],
          [
           86270,
           86270
          ],
          [
           81687,
           81687
          ],
          [
           90699,
           90699
          ],
          [
           91479,
           91479
          ],
          [
           121602,
           121602
          ],
          [
           139660,
           139660
          ],
          [
           124847,
           124847
          ],
          [
           86075,
           86075
          ],
          [
           52199,
           52199
          ],
          [
           38098,
           38098
          ],
          [
           20358,
           20358
          ],
          [
           11084,
           11084
          ],
          [
           8700,
           8700
          ]
         ],
         "hovertemplate": "source=model<br>dpurp_label=Escort<br>dept_hr=%{x}<br>percentage=%{y}<br>trexpfac=%{customdata[0]}<br>sample_count=%{customdata[1]}<extra></extra>",
         "legendgroup": "model",
         "marker": {
          "color": "#91268F",
          "pattern": {
           "shape": ""
          }
         },
         "name": "model",
         "offsetgroup": "model",
         "orientation": "v",
         "showlegend": false,
         "textposition": "auto",
         "type": "bar",
         "x": [
          0,
          1,
          2,
          3,
          4,
          5,
          6,
          7,
          8,
          9,
          10,
          11,
          12,
          13,
          14,
          15,
          16,
          17,
          18,
          19,
          20,
          21,
          22,
          23
         ],
         "xaxis": "x2",
         "y": [
          0.0013082535028807146,
          0.0008961140792184326,
          0.00033726032601019815,
          0.015234548119864999,
          0.014426706147634794,
          0.025693270865091,
          0.07043505364509012,
          0.08532381861482193,
          0.07592070851454481,
          0.06690843077762247,
          0.06350234499418013,
          0.0525188597922379,
          0.049728852438258225,
          0.05521511608086455,
          0.05568995913914606,
          0.07402803278608686,
          0.08502125835845538,
          0.07600350166316824,
          0.05240014902766752,
          0.03177734974261071,
          0.023193039531293376,
          0.012393403821147318,
          0.006747641612810535,
          0.005296326419293726
         ],
         "yaxis": "y2"
        },
        {
         "alignmentgroup": "True",
         "customdata": [
          [
           500,
           500
          ],
          [
           343,
           343
          ],
          [
           132,
           132
          ],
          [
           4894,
           4894
          ],
          [
           4438,
           4438
          ],
          [
           8218,
           8218
          ],
          [
           23454,
           23454
          ],
          [
           41359,
           41359
          ],
          [
           65423,
           65423
          ],
          [
           80261,
           80261
          ],
          [
           83772,
           83772
          ],
          [
           71109,
           71109
          ],
          [
           66429,
           66429
          ],
          [
           70878,
           70878
          ],
          [
           61487,
           61487
          ],
          [
           63497,
           63497
          ],
          [
           68971,
           68971
          ],
          [
           55879,
           55879
          ],
          [
           43408,
           43408
          ],
          [
           25391,
           25391
          ],
          [
           18063,
           18063
          ],
          [
           9851,
           9851
          ],
          [
           3668,
           3668
          ],
          [
           2297,
           2297
          ]
         ],
         "hovertemplate": "source=model<br>dpurp_label=Personal Business<br>dept_hr=%{x}<br>percentage=%{y}<br>trexpfac=%{customdata[0]}<br>sample_count=%{customdata[1]}<extra></extra>",
         "legendgroup": "model",
         "marker": {
          "color": "#91268F",
          "pattern": {
           "shape": ""
          }
         },
         "name": "model",
         "offsetgroup": "model",
         "orientation": "v",
         "showlegend": false,
         "textposition": "auto",
         "type": "bar",
         "x": [
          0,
          1,
          2,
          3,
          4,
          5,
          6,
          7,
          8,
          9,
          10,
          11,
          12,
          13,
          14,
          15,
          16,
          17,
          18,
          19,
          20,
          21,
          22,
          23
         ],
         "xaxis": "x",
         "y": [
          0.0005722644044673248,
          0.00039257338146458487,
          0.00015107780277937377,
          0.005601323990926175,
          0.0050794188540519754,
          0.00940573775182495,
          0.026843778684753274,
          0.047336567008728174,
          0.07487850826693158,
          0.09186102673390392,
          0.09587946738207348,
          0.081386299074534,
          0.07602990424871985,
          0.0811219129196701,
          0.07037364287496481,
          0.07267414578092345,
          0.07893929648103172,
          0.0639551253144593,
          0.049681706538235275,
          0.02906073098765969,
          0.020673623875786577,
          0.011274753296815234,
          0.004198131671172295,
          0.0026289826741228905
         ],
         "yaxis": "y"
        },
        {
         "alignmentgroup": "True",
         "customdata": [
          [
           804.680284745979,
           3
          ],
          [
           562.3747441545361,
           2
          ],
          [
           0,
           0
          ],
          [
           12541.120743195177,
           22
          ],
          [
           53412.45675627712,
           63
          ],
          [
           106403.91744037515,
           137
          ],
          [
           210508.01729626206,
           375
          ],
          [
           363308.5991724092,
           635
          ],
          [
           286435.99737778684,
           621
          ],
          [
           183302.98131302345,
           405
          ],
          [
           106180.05312067762,
           268
          ],
          [
           82219.0958748408,
           235
          ],
          [
           87388.77158814188,
           322
          ],
          [
           76203.60059923679,
           238
          ],
          [
           96806.63584919396,
           196
          ],
          [
           72354.0876608279,
           146
          ],
          [
           36458.000320929146,
           110
          ],
          [
           26134.587027886413,
           112
          ],
          [
           9622.42790991357,
           59
          ],
          [
           13280.302417338822,
           45
          ],
          [
           3794.351388658157,
           34
          ],
          [
           646.1173732884231,
           22
          ],
          [
           10795.506686474104,
           16
          ],
          [
           1337.360156468596,
           10
          ]
         ],
         "hovertemplate": "source=survey<br>dpurp_label=Work<br>dept_hr=%{x}<br>percentage=%{y}<br>trexpfac=%{customdata[0]}<br>sample_count=%{customdata[1]}<extra></extra>",
         "legendgroup": "survey",
         "marker": {
          "color": "#8CC63E",
          "pattern": {
           "shape": ""
          }
         },
         "name": "survey",
         "offsetgroup": "survey",
         "orientation": "v",
         "showlegend": true,
         "textposition": "auto",
         "type": "bar",
         "x": [
          0,
          1,
          2,
          3,
          4,
          5,
          6,
          7,
          8,
          9,
          10,
          11,
          12,
          13,
          14,
          15,
          16,
          17,
          18,
          19,
          20,
          21,
          22,
          23
         ],
         "xaxis": "x6",
         "y": [
          0.0004372071875545998,
          0.0003055552433736584,
          0,
          0.006813971005448342,
          0.029020606620386438,
          0.057812473314894045,
          0.11437538603154362,
          0.19739657335921101,
          0.15562935889186355,
          0.09959406543126546,
          0.05769084104495509,
          0.04467212674667281,
          0.04748096824810862,
          0.041403725841305715,
          0.05259797934481442,
          0.039312168787949936,
          0.019808736570711392,
          0.014199713238867498,
          0.005228156727200368,
          0.007215590812681799,
          0.002061586111498692,
          0.0003510551519163569,
          0.005865525981054932,
          0.0007266283067215861
         ],
         "yaxis": "y6"
        },
        {
         "alignmentgroup": "True",
         "customdata": [
          [
           0,
           0
          ],
          [
           0,
           0
          ],
          [
           0,
           0
          ],
          [
           0,
           0
          ],
          [
           86.688593033636,
           1
          ],
          [
           454.39219826369094,
           4
          ],
          [
           25738.818694978792,
           26
          ],
          [
           202083.50156386622,
           237
          ],
          [
           186704.40572451908,
           266
          ],
          [
           56855.249368937446,
           63
          ],
          [
           9549.5433118102,
           22
          ],
          [
           6417.963156613865,
           16
          ],
          [
           6418.499390814671,
           13
          ],
          [
           16271.837201016171,
           19
          ],
          [
           5075.9831418455105,
           13
          ],
          [
           3816.10688476565,
           15
          ],
          [
           4405.086266508944,
           9
          ],
          [
           1012.1140325171591,
           8
          ],
          [
           11446.021215011839,
           3
          ],
          [
           117.770432262396,
           1
          ],
          [
           0,
           0
          ],
          [
           0,
           0
          ],
          [
           0,
           0
          ],
          [
           0,
           0
          ]
         ],
         "hovertemplate": "source=survey<br>dpurp_label=School<br>dept_hr=%{x}<br>percentage=%{y}<br>trexpfac=%{customdata[0]}<br>sample_count=%{customdata[1]}<extra></extra>",
         "legendgroup": "survey",
         "marker": {
          "color": "#8CC63E",
          "pattern": {
           "shape": ""
          }
         },
         "name": "survey",
         "offsetgroup": "survey",
         "orientation": "v",
         "showlegend": false,
         "textposition": "auto",
         "type": "bar",
         "x": [
          0,
          1,
          2,
          3,
          4,
          5,
          6,
          7,
          8,
          9,
          10,
          11,
          12,
          13,
          14,
          15,
          16,
          17,
          18,
          19,
          20,
          21,
          22,
          23
         ],
         "xaxis": "x5",
         "y": [
          0,
          0,
          0,
          0,
          0.0001615955814951283,
          0.0008470292219044332,
          0.047979546425432666,
          0.37670239881634565,
          0.3480343371018784,
          0.10598346058355236,
          0.017801234862424405,
          0.011963678864933434,
          0.011964678455242428,
          0.030332214452621405,
          0.009462103591273264,
          0.007113577340585001,
          0.008211489561221912,
          0.0018866744735438184,
          0.021336445653556062,
          0.0002195350139895594,
          0,
          0,
          0,
          0
         ],
         "yaxis": "y5"
        },
        {
         "alignmentgroup": "True",
         "customdata": [
          [
           358.7736350081784,
           3
          ],
          [
           143.521368637738,
           1
          ],
          [
           570.896774611867,
           1
          ],
          [
           0,
           0
          ],
          [
           2395.07790418324,
           2
          ],
          [
           1099.1269493912555,
           8
          ],
          [
           9682.191616724744,
           16
          ],
          [
           30867.07210367278,
           55
          ],
          [
           52251.95971763586,
           96
          ],
          [
           74744.5281363228,
           194
          ],
          [
           140914.81237725346,
           291
          ],
          [
           165531.30596257237,
           335
          ],
          [
           158567.4885357726,
           324
          ],
          [
           148506.4692088266,
           304
          ],
          [
           218739.25280935815,
           345
          ],
          [
           239020.28780863824,
           296
          ],
          [
           200033.0806470187,
           332
          ],
          [
           128142.27916296125,
           305
          ],
          [
           151266.46572719884,
           246
          ],
          [
           69608.41782593235,
           214
          ],
          [
           33729.00173269234,
           85
          ],
          [
           16880.520789716313,
           29
          ],
          [
           16289.143604045355,
           19
          ],
          [
           4775.237711364982,
           7
          ]
         ],
         "hovertemplate": "source=survey<br>dpurp_label=Shop<br>dept_hr=%{x}<br>percentage=%{y}<br>trexpfac=%{customdata[0]}<br>sample_count=%{customdata[1]}<extra></extra>",
         "legendgroup": "survey",
         "marker": {
          "color": "#8CC63E",
          "pattern": {
           "shape": ""
          }
         },
         "name": "survey",
         "offsetgroup": "survey",
         "orientation": "v",
         "showlegend": false,
         "textposition": "auto",
         "type": "bar",
         "x": [
          0,
          1,
          2,
          3,
          4,
          5,
          6,
          7,
          8,
          9,
          10,
          11,
          12,
          13,
          14,
          15,
          16,
          17,
          18,
          19,
          20,
          21,
          22,
          23
         ],
         "xaxis": "x4",
         "y": [
          0.00019246305458500988,
          0.00007699161340439807,
          0.00030625588497333465,
          0,
          0.001284832452634548,
          0.0005896233987531509,
          0.005193983034984554,
          0.016558549468199322,
          0.028030409132710776,
          0.040096480886350455,
          0.07559333401346931,
          0.08879877913625482,
          0.08506305988948337,
          0.07966585585062275,
          0.11734202473482228,
          0.1282217259314221,
          0.10730715404574598,
          0.06874154637540851,
          0.08114644781373566,
          0.03734122971244306,
          0.018093823146812557,
          0.009055505413881667,
          0.008738262873014569,
          0.002561662136287929
         ],
         "yaxis": "y4"
        },
        {
         "alignmentgroup": "True",
         "customdata": [
          [
           632.62215829592,
           1
          ],
          [
           0,
           0
          ],
          [
           0,
           0
          ],
          [
           0,
           0
          ],
          [
           23.312448148228,
           1
          ],
          [
           4014.9909061810304,
           5
          ],
          [
           19388.229589911243,
           28
          ],
          [
           17193.66095456018,
           49
          ],
          [
           40281.550672032245,
           70
          ],
          [
           32319.334424560453,
           90
          ],
          [
           22494.997102790257,
           86
          ],
          [
           79180.18027602999,
           200
          ],
          [
           114995.59534596713,
           241
          ],
          [
           36169.07711690028,
           153
          ],
          [
           78095.67868397436,
           120
          ],
          [
           85847.74714025226,
           121
          ],
          [
           70614.77254108731,
           161
          ],
          [
           84957.92642486223,
           207
          ],
          [
           83071.03998130125,
           202
          ],
          [
           60305.82273592012,
           119
          ],
          [
           68578.57197356776,
           83
          ],
          [
           13629.97008228534,
           29
          ],
          [
           4952.542971132462,
           15
          ],
          [
           1494.7720542075883,
           4
          ]
         ],
         "hovertemplate": "source=survey<br>dpurp_label=Meal<br>dept_hr=%{x}<br>percentage=%{y}<br>trexpfac=%{customdata[0]}<br>sample_count=%{customdata[1]}<extra></extra>",
         "legendgroup": "survey",
         "marker": {
          "color": "#8CC63E",
          "pattern": {
           "shape": ""
          }
         },
         "name": "survey",
         "offsetgroup": "survey",
         "orientation": "v",
         "showlegend": false,
         "textposition": "auto",
         "type": "bar",
         "x": [
          0,
          1,
          2,
          3,
          4,
          5,
          6,
          7,
          8,
          9,
          10,
          11,
          12,
          13,
          14,
          15,
          16,
          17,
          18,
          19,
          20,
          21,
          22,
          23
         ],
         "xaxis": "x3",
         "y": [
          0.0006889489761508955,
          0,
          0,
          0,
          0.000025388120021840375,
          0.00437247389740445,
          0.021114500575396607,
          0.01872453399804706,
          0.04386810156637855,
          0.03519695298321155,
          0.024497885537602827,
          0.086230150836887,
          0.12523446521202525,
          0.039389465451437906,
          0.08504908841015606,
          0.09349137826037353,
          0.07690210436883495,
          0.09252233052344766,
          0.09046744125604349,
          0.06567527596846351,
          0.07468460648667213,
          0.014843542563308885,
          0.005393502842986063,
          0.0016278621651497254
         ],
         "yaxis": "y3"
        },
        {
         "alignmentgroup": "True",
         "customdata": [
          [
           9.16501889224752,
           1
          ],
          [
           0,
           0
          ],
          [
           0,
           0
          ],
          [
           0,
           0
          ],
          [
           4054.1074151579,
           1
          ],
          [
           3125.3445629524927,
           10
          ],
          [
           33587.47417764466,
           37
          ],
          [
           234730.64420605902,
           227
          ],
          [
           187868.140302904,
           234
          ],
          [
           83194.89099350592,
           95
          ],
          [
           19655.609745442103,
           78
          ],
          [
           28470.574531523176,
           63
          ],
          [
           24735.78263135701,
           76
          ],
          [
           93383.30547029288,
           87
          ],
          [
           153778.12436165885,
           175
          ],
          [
           205282.61662488477,
           228
          ],
          [
           91440.7799257265,
           153
          ],
          [
           103597.81032057249,
           140
          ],
          [
           25422.955729679896,
           68
          ],
          [
           39576.82392115468,
           58
          ],
          [
           21548.81521353992,
           29
          ],
          [
           8339.18214681177,
           23
          ],
          [
           11516.748013204216,
           13
          ],
          [
           607.5843848720184,
           3
          ]
         ],
         "hovertemplate": "source=survey<br>dpurp_label=Escort<br>dept_hr=%{x}<br>percentage=%{y}<br>trexpfac=%{customdata[0]}<br>sample_count=%{customdata[1]}<extra></extra>",
         "legendgroup": "survey",
         "marker": {
          "color": "#8CC63E",
          "pattern": {
           "shape": ""
          }
         },
         "name": "survey",
         "offsetgroup": "survey",
         "orientation": "v",
         "showlegend": false,
         "textposition": "auto",
         "type": "bar",
         "x": [
          0,
          1,
          2,
          3,
          4,
          5,
          6,
          7,
          8,
          9,
          10,
          11,
          12,
          13,
          14,
          15,
          16,
          17,
          18,
          19,
          20,
          21,
          22,
          23
         ],
         "xaxis": "x2",
         "y": [
          0.0000066706763627287795,
          0,
          0,
          0,
          0.0029507455275550897,
          0.002274753859929856,
          0.024446340232871448,
          0.17084658289552918,
          0.13673813197356913,
          0.06055265126835806,
          0.014306158324981772,
          0.02072205096286129,
          0.018003716353728823,
          0.06796819687966883,
          0.11192602124931662,
          0.1494131015438555,
          0.06655434717717704,
          0.07540273213407783,
          0.018503869097326875,
          0.028805634439667174,
          0.015684110854519002,
          0.0060695985338646225,
          0.008382361198640746,
          0.0004422248161383734
         ],
         "yaxis": "y2"
        },
        {
         "alignmentgroup": "True",
         "customdata": [
          [
           0,
           0
          ],
          [
           0,
           0
          ],
          [
           0,
           0
          ],
          [
           0,
           0
          ],
          [
           0,
           0
          ],
          [
           2941.709816663014,
           5
          ],
          [
           6787.840124287102,
           24
          ],
          [
           44644.19766696867,
           76
          ],
          [
           31765.464901663883,
           110
          ],
          [
           74424.13423794335,
           155
          ],
          [
           66592.76735213719,
           183
          ],
          [
           55823.587746709716,
           148
          ],
          [
           71755.10161401254,
           147
          ],
          [
           75768.19484864996,
           170
          ],
          [
           130627.28838497949,
           161
          ],
          [
           63498.44906164756,
           136
          ],
          [
           40413.19147329938,
           122
          ],
          [
           68848.9674905658,
           83
          ],
          [
           9367.28638823272,
           51
          ],
          [
           13896.771678979156,
           22
          ],
          [
           1354.5155151784093,
           8
          ],
          [
           5413.7580029584815,
           5
          ],
          [
           197.424677262663,
           1
          ],
          [
           0,
           0
          ]
         ],
         "hovertemplate": "source=survey<br>dpurp_label=Personal Business<br>dept_hr=%{x}<br>percentage=%{y}<br>trexpfac=%{customdata[0]}<br>sample_count=%{customdata[1]}<extra></extra>",
         "legendgroup": "survey",
         "marker": {
          "color": "#8CC63E",
          "pattern": {
           "shape": ""
          }
         },
         "name": "survey",
         "offsetgroup": "survey",
         "orientation": "v",
         "showlegend": false,
         "textposition": "auto",
         "type": "bar",
         "x": [
          0,
          1,
          2,
          3,
          4,
          5,
          6,
          7,
          8,
          9,
          10,
          11,
          12,
          13,
          14,
          15,
          16,
          17,
          18,
          19,
          20,
          21,
          22,
          23
         ],
         "xaxis": "x",
         "y": [
          0,
          0,
          0,
          0,
          0,
          0.0038497975586472854,
          0.008883204655655568,
          0.05842558712369128,
          0.041571268700610446,
          0.09739840710008892,
          0.08714954538467742,
          0.0730559862175673,
          0.09390546050781944,
          0.09915737096133133,
          0.17095112953311978,
          0.08310003005419597,
          0.05288849531988897,
          0.09010222064025214,
          0.012258910129169739,
          0.018186619692999218,
          0.0017726461304735373,
          0.007084951827960771,
          0.0002583684618507682,
          0
         ],
         "yaxis": "y"
        },
        {
         "alignmentgroup": "True",
         "customdata": [
          [
           1157.7089014365695,
           2
          ],
          [
           0,
           0
          ],
          [
           66.0672268552095,
           1
          ],
          [
           10508.932231210778,
           34
          ],
          [
           42855.42507830016,
           134
          ],
          [
           154617.967129585,
           446
          ],
          [
           310857.7151247599,
           1322
          ],
          [
           383371.8587197152,
           2371
          ],
          [
           314649.8031415182,
           2127
          ],
          [
           249412.15683964413,
           1327
          ],
          [
           167477.85431534835,
           740
          ],
          [
           113673.71249841417,
           590
          ],
          [
           198346.27570010128,
           934
          ],
          [
           155398.9968497258,
           841
          ],
          [
           98432.43833252414,
           500
          ],
          [
           54043.691655597715,
           342
          ],
          [
           53533.23811600846,
           283
          ],
          [
           57189.754237463145,
           206
          ],
          [
           19353.04596158001,
           116
          ],
          [
           18660.712974326594,
           56
          ],
          [
           6227.628956539731,
           34
          ],
          [
           2096.1982044600077,
           11
          ],
          [
           3409.689338539313,
           8
          ],
          [
           2471.7153776065225,
           5
          ]
         ],
         "hovertemplate": "source=survey (2017/2019)<br>dpurp_label=Work<br>dept_hr=%{x}<br>percentage=%{y}<br>trexpfac=%{customdata[0]}<br>sample_count=%{customdata[1]}<extra></extra>",
         "legendgroup": "survey (2017/2019)",
         "marker": {
          "color": "#00A7A0",
          "pattern": {
           "shape": ""
          }
         },
         "name": "survey (2017/2019)",
         "offsetgroup": "survey (2017/2019)",
         "orientation": "v",
         "showlegend": true,
         "textposition": "auto",
         "type": "bar",
         "x": [
          0,
          1,
          2,
          3,
          4,
          5,
          6,
          7,
          8,
          9,
          10,
          11,
          12,
          13,
          14,
          15,
          16,
          17,
          18,
          19,
          20,
          21,
          22,
          23
         ],
         "xaxis": "x6",
         "y": [
          0.0004788249129414679,
          0,
          0.000027325205937326162,
          0.004346462702734074,
          0.01772487466989643,
          0.06394952527197671,
          0.1285698142228131,
          0.1585614454962658,
          0.1301382103992937,
          0.10315611647893129,
          0.06926833585943905,
          0.04701510493980495,
          0.08203542192386688,
          0.06427255681063643,
          0.040711359873542116,
          0.02235230801103496,
          0.022141185965284773,
          0.023653510014406322,
          0.00800436149035993,
          0.007718014653139652,
          0.0025757285698042817,
          0.0008669812605855805,
          0.0014102372355068137,
          0.0010222940317984376
         ],
         "yaxis": "y6"
        },
        {
         "alignmentgroup": "True",
         "customdata": [
          [
           0,
           0
          ],
          [
           0,
           0
          ],
          [
           0,
           0
          ],
          [
           0,
           0
          ],
          [
           0,
           0
          ],
          [
           10000.491126518085,
           13
          ],
          [
           57849.45797028801,
           105
          ],
          [
           189331.28199660193,
           515
          ],
          [
           183672.6626829494,
           619
          ],
          [
           37344.49808280265,
           163
          ],
          [
           11952.119643414007,
           75
          ],
          [
           16749.29791643655,
           58
          ],
          [
           20548.81031449402,
           109
          ],
          [
           7863.504225313564,
           76
          ],
          [
           15767.64621464485,
           82
          ],
          [
           22347.41025179439,
           67
          ],
          [
           14851.787717522677,
           61
          ],
          [
           9460.656281219735,
           59
          ],
          [
           846.6255037070423,
           16
          ],
          [
           1322.8739986711764,
           8
          ],
          [
           312.3021497864155,
           1
          ],
          [
           89.61400609072103,
           3
          ],
          [
           0,
           0
          ],
          [
           0,
           0
          ]
         ],
         "hovertemplate": "source=survey (2017/2019)<br>dpurp_label=School<br>dept_hr=%{x}<br>percentage=%{y}<br>trexpfac=%{customdata[0]}<br>sample_count=%{customdata[1]}<extra></extra>",
         "legendgroup": "survey (2017/2019)",
         "marker": {
          "color": "#00A7A0",
          "pattern": {
           "shape": ""
          }
         },
         "name": "survey (2017/2019)",
         "offsetgroup": "survey (2017/2019)",
         "orientation": "v",
         "showlegend": false,
         "textposition": "auto",
         "type": "bar",
         "x": [
          0,
          1,
          2,
          3,
          4,
          5,
          6,
          7,
          8,
          9,
          10,
          11,
          12,
          13,
          14,
          15,
          16,
          17,
          18,
          19,
          20,
          21,
          22,
          23
         ],
         "xaxis": "x5",
         "y": [
          0,
          0,
          0,
          0,
          0,
          0.016658849261122717,
          0.09636580723613117,
          0.3153886391472321,
          0.3059624934730209,
          0.062208581200981536,
          0.01990987812214201,
          0.027901032628254756,
          0.03423027221301545,
          0.013099049826296881,
          0.026265794166444704,
          0.037226385589597566,
          0.024740154229860027,
          0.0157595906947229,
          0.0014103114005550139,
          0.0022036476265535863,
          0.0005202338936555682,
          0.00014927929041325317,
          0,
          0
         ],
         "yaxis": "y5"
        },
        {
         "alignmentgroup": "True",
         "customdata": [
          [
           88.00102612483639,
           3
          ],
          [
           0,
           0
          ],
          [
           0.54525469613021,
           1
          ],
          [
           23.5581858798963,
           2
          ],
          [
           2802.6843880997167,
           5
          ],
          [
           1121.6653775904763,
           8
          ],
          [
           7809.612816362787,
           29
          ],
          [
           33966.92660566138,
           82
          ],
          [
           59284.611511248746,
           149
          ],
          [
           161859.65014367257,
           311
          ],
          [
           246968.17909785142,
           468
          ],
          [
           227991.4685251565,
           563
          ],
          [
           246963.90317585086,
           548
          ],
          [
           159734.69603642396,
           506
          ],
          [
           232366.1604966313,
           572
          ],
          [
           166747.11769128861,
           560
          ],
          [
           158925.46239316338,
           651
          ],
          [
           107544.54743676432,
           679
          ],
          [
           81224.20610343866,
           538
          ],
          [
           103668.04157456594,
           429
          ],
          [
           64391.27309270366,
           252
          ],
          [
           50067.3621480706,
           125
          ],
          [
           1685.2232189452338,
           35
          ],
          [
           2124.5189612179906,
           8
          ]
         ],
         "hovertemplate": "source=survey (2017/2019)<br>dpurp_label=Shop<br>dept_hr=%{x}<br>percentage=%{y}<br>trexpfac=%{customdata[0]}<br>sample_count=%{customdata[1]}<extra></extra>",
         "legendgroup": "survey (2017/2019)",
         "marker": {
          "color": "#00A7A0",
          "pattern": {
           "shape": ""
          }
         },
         "name": "survey (2017/2019)",
         "offsetgroup": "survey (2017/2019)",
         "orientation": "v",
         "showlegend": false,
         "textposition": "auto",
         "type": "bar",
         "x": [
          0,
          1,
          2,
          3,
          4,
          5,
          6,
          7,
          8,
          9,
          10,
          11,
          12,
          13,
          14,
          15,
          16,
          17,
          18,
          19,
          20,
          21,
          22,
          23
         ],
         "xaxis": "x4",
         "y": [
          0.000041561685508160074,
          0,
          2.5751636316449044e-7,
          0.000011126210179573037,
          0.0013236696462105833,
          0.0005297472736587783,
          0.0036883737168442016,
          0.016042116591465802,
          0.027999314185366813,
          0.0764441072106265,
          0.11663970571919212,
          0.10767726389853785,
          0.11663768625949636,
          0.0754405203410887,
          0.10974337130568992,
          0.07875239153514334,
          0.07505833031825751,
          0.050791824317406635,
          0.03836108575520738,
          0.048961003421219874,
          0.03041112086525656,
          0.023646132908375073,
          0.0007959079629082134,
          0.001003381355996992
         ],
         "yaxis": "y4"
        },
        {
         "alignmentgroup": "True",
         "customdata": [
          [
           0,
           0
          ],
          [
           0,
           0
          ],
          [
           0,
           0
          ],
          [
           42.29917858051295,
           1
          ],
          [
           218.51478703463414,
           7
          ],
          [
           14040.540516193796,
           19
          ],
          [
           17302.365160053367,
           71
          ],
          [
           32912.26594329437,
           113
          ],
          [
           32337.516123921025,
           148
          ],
          [
           21924.677972796257,
           132
          ],
          [
           30918.81011936177,
           176
          ],
          [
           107399.40268627691,
           532
          ],
          [
           170963.485853993,
           671
          ],
          [
           49218.65037364088,
           301
          ],
          [
           30461.521408202083,
           208
          ],
          [
           32694.502305321854,
           206
          ],
          [
           51866.72388408027,
           303
          ],
          [
           77108.99883669768,
           502
          ],
          [
           105260.90749325918,
           528
          ],
          [
           60055.67261256104,
           335
          ],
          [
           41083.36947794194,
           178
          ],
          [
           8666.039098896179,
           63
          ],
          [
           5858.891906161041,
           26
          ],
          [
           5.963816542174035,
           2
          ]
         ],
         "hovertemplate": "source=survey (2017/2019)<br>dpurp_label=Meal<br>dept_hr=%{x}<br>percentage=%{y}<br>trexpfac=%{customdata[0]}<br>sample_count=%{customdata[1]}<extra></extra>",
         "legendgroup": "survey (2017/2019)",
         "marker": {
          "color": "#00A7A0",
          "pattern": {
           "shape": ""
          }
         },
         "name": "survey (2017/2019)",
         "offsetgroup": "survey (2017/2019)",
         "orientation": "v",
         "showlegend": false,
         "textposition": "auto",
         "type": "bar",
         "x": [
          0,
          1,
          2,
          3,
          4,
          5,
          6,
          7,
          8,
          9,
          10,
          11,
          12,
          13,
          14,
          15,
          16,
          17,
          18,
          19,
          20,
          21,
          22,
          23
         ],
         "xaxis": "x3",
         "y": [
          0,
          0,
          0,
          0.000047508957692152266,
          0.00024542816481832973,
          0.015769843948367085,
          0.019433411284772432,
          0.0369659057864824,
          0.036320366894983455,
          0.02462503134052606,
          0.034726925939152234,
          0.1206272521030804,
          0.19202020674893516,
          0.055280666356565984,
          0.03421331525543098,
          0.03672132128601431,
          0.05825488988986015,
          0.08660613010354262,
          0.11822536911009111,
          0.06745243063983182,
          0.0461434034389926,
          0.009733391964676852,
          0.0065805024360669935,
          0.000006698350116813737
         ],
         "yaxis": "y3"
        },
        {
         "alignmentgroup": "True",
         "customdata": [
          [
           0,
           0
          ],
          [
           0,
           0
          ],
          [
           0,
           0
          ],
          [
           43.386560706051,
           1
          ],
          [
           1790.848267443167,
           12
          ],
          [
           18465.3446532733,
           31
          ],
          [
           57549.3428295186,
           132
          ],
          [
           126646.14531971225,
           480
          ],
          [
           172943.20962340268,
           535
          ],
          [
           36944.90811363064,
           172
          ],
          [
           20658.185061762004,
           83
          ],
          [
           49370.51581484816,
           137
          ],
          [
           35656.39697159831,
           134
          ],
          [
           38424.3553957142,
           151
          ],
          [
           111565.45609818315,
           247
          ],
          [
           122817.5944122123,
           398
          ],
          [
           93252.53032125118,
           447
          ],
          [
           102649.93969422167,
           351
          ],
          [
           59265.66469635055,
           192
          ],
          [
           39265.309592495694,
           126
          ],
          [
           28526.143523589562,
           106
          ],
          [
           9561.367183984781,
           53
          ],
          [
           969.0806851933426,
           33
          ],
          [
           843.0741387058619,
           13
          ]
         ],
         "hovertemplate": "source=survey (2017/2019)<br>dpurp_label=Escort<br>dept_hr=%{x}<br>percentage=%{y}<br>trexpfac=%{customdata[0]}<br>sample_count=%{customdata[1]}<extra></extra>",
         "legendgroup": "survey (2017/2019)",
         "marker": {
          "color": "#00A7A0",
          "pattern": {
           "shape": ""
          }
         },
         "name": "survey (2017/2019)",
         "offsetgroup": "survey (2017/2019)",
         "orientation": "v",
         "showlegend": false,
         "textposition": "auto",
         "type": "bar",
         "x": [
          0,
          1,
          2,
          3,
          4,
          5,
          6,
          7,
          8,
          9,
          10,
          11,
          12,
          13,
          14,
          15,
          16,
          17,
          18,
          19,
          20,
          21,
          22,
          23
         ],
         "xaxis": "x2",
         "y": [
          0,
          0,
          0,
          0.000038490260851552665,
          0.0015887458198507343,
          0.016381476679694234,
          0.05105473172559333,
          0.1123537586264476,
          0.15342606426005878,
          0.032775567532642956,
          0.018326848655601604,
          0.04379890918212802,
          0.031632468629206725,
          0.034088054876116,
          0.09897496914620887,
          0.10895727084970226,
          0.08272871042833525,
          0.09106559475860239,
          0.052577361666398294,
          0.034834104940273614,
          0.025306885068644307,
          0.008482339024345,
          0.0008597171048428137,
          0.0007479307644558464
         ],
         "yaxis": "y2"
        },
        {
         "alignmentgroup": "True",
         "customdata": [
          [
           0,
           0
          ],
          [
           0,
           0
          ],
          [
           0,
           0
          ],
          [
           1137.7956546825676,
           7
          ],
          [
           813.0149796079876,
           9
          ],
          [
           8938.937590118545,
           30
          ],
          [
           27863.712614929653,
           114
          ],
          [
           61741.21779422683,
           258
          ],
          [
           93492.30428550647,
           413
          ],
          [
           150539.36337666478,
           496
          ],
          [
           166693.8426317474,
           518
          ],
          [
           143346.31332363564,
           468
          ],
          [
           137807.84510325742,
           530
          ],
          [
           96333.08016947884,
           503
          ],
          [
           155935.49907970516,
           515
          ],
          [
           130304.93264870063,
           511
          ],
          [
           142836.5697514224,
           588
          ],
          [
           137308.1323715273,
           492
          ],
          [
           87073.08351106464,
           381
          ],
          [
           52328.51462292796,
           225
          ],
          [
           29190.425788894154,
           119
          ],
          [
           8119.004695210372,
           46
          ],
          [
           3490.5738408943475,
           23
          ],
          [
           113.92038390728736,
           5
          ]
         ],
         "hovertemplate": "source=survey (2017/2019)<br>dpurp_label=Personal Business<br>dept_hr=%{x}<br>percentage=%{y}<br>trexpfac=%{customdata[0]}<br>sample_count=%{customdata[1]}<extra></extra>",
         "legendgroup": "survey (2017/2019)",
         "marker": {
          "color": "#00A7A0",
          "pattern": {
           "shape": ""
          }
         },
         "name": "survey (2017/2019)",
         "offsetgroup": "survey (2017/2019)",
         "orientation": "v",
         "showlegend": false,
         "textposition": "auto",
         "type": "bar",
         "x": [
          0,
          1,
          2,
          3,
          4,
          5,
          6,
          7,
          8,
          9,
          10,
          11,
          12,
          13,
          14,
          15,
          16,
          17,
          18,
          19,
          20,
          21,
          22,
          23
         ],
         "xaxis": "x",
         "y": [
          0,
          0,
          0,
          0.0006957258348313402,
          0.0004971327875003691,
          0.0054658758730499095,
          0.017037773558671938,
          0.03775278989387248,
          0.05716756887025246,
          0.09205003009914663,
          0.10192798008054596,
          0.0876517088957461,
          0.08426511182934714,
          0.05890461292145058,
          0.09534959536063319,
          0.07967731962814621,
          0.0873400169228787,
          0.08395955339622428,
          0.053242419645182525,
          0.03199722144454621,
          0.017849016444632604,
          0.004964513000491906,
          0.0021343748233721084,
          0.00006965868947734398
         ],
         "yaxis": "y"
        }
       ],
       "layout": {
        "annotations": [
         {
          "font": {},
          "showarrow": false,
          "text": "Personal Business",
          "textangle": 90,
          "x": 0.98,
          "xanchor": "left",
          "xref": "paper",
          "y": 0.07083333333333333,
          "yanchor": "middle",
          "yref": "paper"
         },
         {
          "font": {},
          "showarrow": false,
          "text": "Escort",
          "textangle": 90,
          "x": 0.98,
          "xanchor": "left",
          "xref": "paper",
          "y": 0.2425,
          "yanchor": "middle",
          "yref": "paper"
         },
         {
          "font": {},
          "showarrow": false,
          "text": "Meal",
          "textangle": 90,
          "x": 0.98,
          "xanchor": "left",
          "xref": "paper",
          "y": 0.4141666666666667,
          "yanchor": "middle",
          "yref": "paper"
         },
         {
          "font": {},
          "showarrow": false,
          "text": "Shop",
          "textangle": 90,
          "x": 0.98,
          "xanchor": "left",
          "xref": "paper",
          "y": 0.5858333333333334,
          "yanchor": "middle",
          "yref": "paper"
         },
         {
          "font": {},
          "showarrow": false,
          "text": "School",
          "textangle": 90,
          "x": 0.98,
          "xanchor": "left",
          "xref": "paper",
          "y": 0.7575000000000001,
          "yanchor": "middle",
          "yref": "paper"
         },
         {
          "font": {},
          "showarrow": false,
          "text": "Work",
          "textangle": 90,
          "x": 0.98,
          "xanchor": "left",
          "xref": "paper",
          "y": 0.9291666666666667,
          "yanchor": "middle",
          "yref": "paper"
         }
        ],
        "barmode": "group",
        "height": 1500,
        "legend": {
         "title": {
          "text": "source"
         },
         "tracegroupgap": 0
        },
        "template": {
         "data": {
          "bar": [
           {
            "error_x": {
             "color": "rgb(36,36,36)"
            },
            "error_y": {
             "color": "rgb(36,36,36)"
            },
            "marker": {
             "line": {
              "color": "white",
              "width": 0.5
             },
             "pattern": {
              "fillmode": "overlay",
              "size": 10,
              "solidity": 0.2
             }
            },
            "type": "bar"
           }
          ],
          "barpolar": [
           {
            "marker": {
             "line": {
              "color": "white",
              "width": 0.5
             },
             "pattern": {
              "fillmode": "overlay",
              "size": 10,
              "solidity": 0.2
             }
            },
            "type": "barpolar"
           }
          ],
          "carpet": [
           {
            "aaxis": {
             "endlinecolor": "rgb(36,36,36)",
             "gridcolor": "white",
             "linecolor": "white",
             "minorgridcolor": "white",
             "startlinecolor": "rgb(36,36,36)"
            },
            "baxis": {
             "endlinecolor": "rgb(36,36,36)",
             "gridcolor": "white",
             "linecolor": "white",
             "minorgridcolor": "white",
             "startlinecolor": "rgb(36,36,36)"
            },
            "type": "carpet"
           }
          ],
          "choropleth": [
           {
            "colorbar": {
             "outlinewidth": 1,
             "tickcolor": "rgb(36,36,36)",
             "ticks": "outside"
            },
            "type": "choropleth"
           }
          ],
          "contour": [
           {
            "colorbar": {
             "outlinewidth": 1,
             "tickcolor": "rgb(36,36,36)",
             "ticks": "outside"
            },
            "colorscale": [
             [
              0,
              "#440154"
             ],
             [
              0.1111111111111111,
              "#482878"
             ],
             [
              0.2222222222222222,
              "#3e4989"
             ],
             [
              0.3333333333333333,
              "#31688e"
             ],
             [
              0.4444444444444444,
              "#26828e"
             ],
             [
              0.5555555555555556,
              "#1f9e89"
             ],
             [
              0.6666666666666666,
              "#35b779"
             ],
             [
              0.7777777777777778,
              "#6ece58"
             ],
             [
              0.8888888888888888,
              "#b5de2b"
             ],
             [
              1,
              "#fde725"
             ]
            ],
            "type": "contour"
           }
          ],
          "contourcarpet": [
           {
            "colorbar": {
             "outlinewidth": 1,
             "tickcolor": "rgb(36,36,36)",
             "ticks": "outside"
            },
            "type": "contourcarpet"
           }
          ],
          "heatmap": [
           {
            "colorbar": {
             "outlinewidth": 1,
             "tickcolor": "rgb(36,36,36)",
             "ticks": "outside"
            },
            "colorscale": [
             [
              0,
              "#440154"
             ],
             [
              0.1111111111111111,
              "#482878"
             ],
             [
              0.2222222222222222,
              "#3e4989"
             ],
             [
              0.3333333333333333,
              "#31688e"
             ],
             [
              0.4444444444444444,
              "#26828e"
             ],
             [
              0.5555555555555556,
              "#1f9e89"
             ],
             [
              0.6666666666666666,
              "#35b779"
             ],
             [
              0.7777777777777778,
              "#6ece58"
             ],
             [
              0.8888888888888888,
              "#b5de2b"
             ],
             [
              1,
              "#fde725"
             ]
            ],
            "type": "heatmap"
           }
          ],
          "heatmapgl": [
           {
            "colorbar": {
             "outlinewidth": 1,
             "tickcolor": "rgb(36,36,36)",
             "ticks": "outside"
            },
            "colorscale": [
             [
              0,
              "#440154"
             ],
             [
              0.1111111111111111,
              "#482878"
             ],
             [
              0.2222222222222222,
              "#3e4989"
             ],
             [
              0.3333333333333333,
              "#31688e"
             ],
             [
              0.4444444444444444,
              "#26828e"
             ],
             [
              0.5555555555555556,
              "#1f9e89"
             ],
             [
              0.6666666666666666,
              "#35b779"
             ],
             [
              0.7777777777777778,
              "#6ece58"
             ],
             [
              0.8888888888888888,
              "#b5de2b"
             ],
             [
              1,
              "#fde725"
             ]
            ],
            "type": "heatmapgl"
           }
          ],
          "histogram": [
           {
            "marker": {
             "line": {
              "color": "white",
              "width": 0.6
             }
            },
            "type": "histogram"
           }
          ],
          "histogram2d": [
           {
            "colorbar": {
             "outlinewidth": 1,
             "tickcolor": "rgb(36,36,36)",
             "ticks": "outside"
            },
            "colorscale": [
             [
              0,
              "#440154"
             ],
             [
              0.1111111111111111,
              "#482878"
             ],
             [
              0.2222222222222222,
              "#3e4989"
             ],
             [
              0.3333333333333333,
              "#31688e"
             ],
             [
              0.4444444444444444,
              "#26828e"
             ],
             [
              0.5555555555555556,
              "#1f9e89"
             ],
             [
              0.6666666666666666,
              "#35b779"
             ],
             [
              0.7777777777777778,
              "#6ece58"
             ],
             [
              0.8888888888888888,
              "#b5de2b"
             ],
             [
              1,
              "#fde725"
             ]
            ],
            "type": "histogram2d"
           }
          ],
          "histogram2dcontour": [
           {
            "colorbar": {
             "outlinewidth": 1,
             "tickcolor": "rgb(36,36,36)",
             "ticks": "outside"
            },
            "colorscale": [
             [
              0,
              "#440154"
             ],
             [
              0.1111111111111111,
              "#482878"
             ],
             [
              0.2222222222222222,
              "#3e4989"
             ],
             [
              0.3333333333333333,
              "#31688e"
             ],
             [
              0.4444444444444444,
              "#26828e"
             ],
             [
              0.5555555555555556,
              "#1f9e89"
             ],
             [
              0.6666666666666666,
              "#35b779"
             ],
             [
              0.7777777777777778,
              "#6ece58"
             ],
             [
              0.8888888888888888,
              "#b5de2b"
             ],
             [
              1,
              "#fde725"
             ]
            ],
            "type": "histogram2dcontour"
           }
          ],
          "mesh3d": [
           {
            "colorbar": {
             "outlinewidth": 1,
             "tickcolor": "rgb(36,36,36)",
             "ticks": "outside"
            },
            "type": "mesh3d"
           }
          ],
          "parcoords": [
           {
            "line": {
             "colorbar": {
              "outlinewidth": 1,
              "tickcolor": "rgb(36,36,36)",
              "ticks": "outside"
             }
            },
            "type": "parcoords"
           }
          ],
          "pie": [
           {
            "automargin": true,
            "type": "pie"
           }
          ],
          "scatter": [
           {
            "fillpattern": {
             "fillmode": "overlay",
             "size": 10,
             "solidity": 0.2
            },
            "type": "scatter"
           }
          ],
          "scatter3d": [
           {
            "line": {
             "colorbar": {
              "outlinewidth": 1,
              "tickcolor": "rgb(36,36,36)",
              "ticks": "outside"
             }
            },
            "marker": {
             "colorbar": {
              "outlinewidth": 1,
              "tickcolor": "rgb(36,36,36)",
              "ticks": "outside"
             }
            },
            "type": "scatter3d"
           }
          ],
          "scattercarpet": [
           {
            "marker": {
             "colorbar": {
              "outlinewidth": 1,
              "tickcolor": "rgb(36,36,36)",
              "ticks": "outside"
             }
            },
            "type": "scattercarpet"
           }
          ],
          "scattergeo": [
           {
            "marker": {
             "colorbar": {
              "outlinewidth": 1,
              "tickcolor": "rgb(36,36,36)",
              "ticks": "outside"
             }
            },
            "type": "scattergeo"
           }
          ],
          "scattergl": [
           {
            "marker": {
             "colorbar": {
              "outlinewidth": 1,
              "tickcolor": "rgb(36,36,36)",
              "ticks": "outside"
             }
            },
            "type": "scattergl"
           }
          ],
          "scattermapbox": [
           {
            "marker": {
             "colorbar": {
              "outlinewidth": 1,
              "tickcolor": "rgb(36,36,36)",
              "ticks": "outside"
             }
            },
            "type": "scattermapbox"
           }
          ],
          "scatterpolar": [
           {
            "marker": {
             "colorbar": {
              "outlinewidth": 1,
              "tickcolor": "rgb(36,36,36)",
              "ticks": "outside"
             }
            },
            "type": "scatterpolar"
           }
          ],
          "scatterpolargl": [
           {
            "marker": {
             "colorbar": {
              "outlinewidth": 1,
              "tickcolor": "rgb(36,36,36)",
              "ticks": "outside"
             }
            },
            "type": "scatterpolargl"
           }
          ],
          "scatterternary": [
           {
            "marker": {
             "colorbar": {
              "outlinewidth": 1,
              "tickcolor": "rgb(36,36,36)",
              "ticks": "outside"
             }
            },
            "type": "scatterternary"
           }
          ],
          "surface": [
           {
            "colorbar": {
             "outlinewidth": 1,
             "tickcolor": "rgb(36,36,36)",
             "ticks": "outside"
            },
            "colorscale": [
             [
              0,
              "#440154"
             ],
             [
              0.1111111111111111,
              "#482878"
             ],
             [
              0.2222222222222222,
              "#3e4989"
             ],
             [
              0.3333333333333333,
              "#31688e"
             ],
             [
              0.4444444444444444,
              "#26828e"
             ],
             [
              0.5555555555555556,
              "#1f9e89"
             ],
             [
              0.6666666666666666,
              "#35b779"
             ],
             [
              0.7777777777777778,
              "#6ece58"
             ],
             [
              0.8888888888888888,
              "#b5de2b"
             ],
             [
              1,
              "#fde725"
             ]
            ],
            "type": "surface"
           }
          ],
          "table": [
           {
            "cells": {
             "fill": {
              "color": "rgb(237,237,237)"
             },
             "line": {
              "color": "white"
             }
            },
            "header": {
             "fill": {
              "color": "rgb(217,217,217)"
             },
             "line": {
              "color": "white"
             }
            },
            "type": "table"
           }
          ]
         },
         "layout": {
          "annotationdefaults": {
           "arrowhead": 0,
           "arrowwidth": 1
          },
          "autotypenumbers": "strict",
          "coloraxis": {
           "colorbar": {
            "outlinewidth": 1,
            "tickcolor": "rgb(36,36,36)",
            "ticks": "outside"
           }
          },
          "colorscale": {
           "diverging": [
            [
             0,
             "rgb(103,0,31)"
            ],
            [
             0.1,
             "rgb(178,24,43)"
            ],
            [
             0.2,
             "rgb(214,96,77)"
            ],
            [
             0.3,
             "rgb(244,165,130)"
            ],
            [
             0.4,
             "rgb(253,219,199)"
            ],
            [
             0.5,
             "rgb(247,247,247)"
            ],
            [
             0.6,
             "rgb(209,229,240)"
            ],
            [
             0.7,
             "rgb(146,197,222)"
            ],
            [
             0.8,
             "rgb(67,147,195)"
            ],
            [
             0.9,
             "rgb(33,102,172)"
            ],
            [
             1,
             "rgb(5,48,97)"
            ]
           ],
           "sequential": [
            [
             0,
             "#440154"
            ],
            [
             0.1111111111111111,
             "#482878"
            ],
            [
             0.2222222222222222,
             "#3e4989"
            ],
            [
             0.3333333333333333,
             "#31688e"
            ],
            [
             0.4444444444444444,
             "#26828e"
            ],
            [
             0.5555555555555556,
             "#1f9e89"
            ],
            [
             0.6666666666666666,
             "#35b779"
            ],
            [
             0.7777777777777778,
             "#6ece58"
            ],
            [
             0.8888888888888888,
             "#b5de2b"
            ],
            [
             1,
             "#fde725"
            ]
           ],
           "sequentialminus": [
            [
             0,
             "#440154"
            ],
            [
             0.1111111111111111,
             "#482878"
            ],
            [
             0.2222222222222222,
             "#3e4989"
            ],
            [
             0.3333333333333333,
             "#31688e"
            ],
            [
             0.4444444444444444,
             "#26828e"
            ],
            [
             0.5555555555555556,
             "#1f9e89"
            ],
            [
             0.6666666666666666,
             "#35b779"
            ],
            [
             0.7777777777777778,
             "#6ece58"
            ],
            [
             0.8888888888888888,
             "#b5de2b"
            ],
            [
             1,
             "#fde725"
            ]
           ]
          },
          "colorway": [
           "#91268F",
           "#8CC63E",
           "#00A7A0",
           "#F05A28",
           "#4C4C4C",
           "#630460",
           "#9f3913",
           "#588527",
           "#00716c",
           "#3e4040"
          ],
          "font": {
           "color": "rgb(36,36,36)",
           "family": "Poppins",
           "size": 11
          },
          "geo": {
           "bgcolor": "white",
           "lakecolor": "white",
           "landcolor": "white",
           "showlakes": true,
           "showland": true,
           "subunitcolor": "white"
          },
          "hoverlabel": {
           "align": "left"
          },
          "hovermode": "closest",
          "mapbox": {
           "style": "light"
          },
          "paper_bgcolor": "white",
          "plot_bgcolor": "white",
          "polar": {
           "angularaxis": {
            "gridcolor": "rgb(232,232,232)",
            "linecolor": "rgb(36,36,36)",
            "showgrid": false,
            "showline": true,
            "ticks": "outside"
           },
           "bgcolor": "white",
           "radialaxis": {
            "gridcolor": "rgb(232,232,232)",
            "linecolor": "rgb(36,36,36)",
            "showgrid": false,
            "showline": true,
            "ticks": "outside"
           }
          },
          "scene": {
           "xaxis": {
            "backgroundcolor": "white",
            "gridcolor": "rgb(232,232,232)",
            "gridwidth": 2,
            "linecolor": "rgb(36,36,36)",
            "showbackground": true,
            "showgrid": false,
            "showline": true,
            "ticks": "outside",
            "zeroline": false,
            "zerolinecolor": "rgb(36,36,36)"
           },
           "yaxis": {
            "backgroundcolor": "white",
            "gridcolor": "rgb(232,232,232)",
            "gridwidth": 2,
            "linecolor": "rgb(36,36,36)",
            "showbackground": true,
            "showgrid": false,
            "showline": true,
            "ticks": "outside",
            "zeroline": false,
            "zerolinecolor": "rgb(36,36,36)"
           },
           "zaxis": {
            "backgroundcolor": "white",
            "gridcolor": "rgb(232,232,232)",
            "gridwidth": 2,
            "linecolor": "rgb(36,36,36)",
            "showbackground": true,
            "showgrid": false,
            "showline": true,
            "ticks": "outside",
            "zeroline": false,
            "zerolinecolor": "rgb(36,36,36)"
           }
          },
          "shapedefaults": {
           "fillcolor": "black",
           "line": {
            "width": 0
           },
           "opacity": 0.3
          },
          "ternary": {
           "aaxis": {
            "gridcolor": "rgb(232,232,232)",
            "linecolor": "rgb(36,36,36)",
            "showgrid": false,
            "showline": true,
            "ticks": "outside"
           },
           "baxis": {
            "gridcolor": "rgb(232,232,232)",
            "linecolor": "rgb(36,36,36)",
            "showgrid": false,
            "showline": true,
            "ticks": "outside"
           },
           "bgcolor": "white",
           "caxis": {
            "gridcolor": "rgb(232,232,232)",
            "linecolor": "rgb(36,36,36)",
            "showgrid": false,
            "showline": true,
            "ticks": "outside"
           }
          },
          "title": {
           "x": 0.05
          },
          "xaxis": {
           "automargin": true,
           "gridcolor": "rgb(232,232,232)",
           "linecolor": "rgb(36,36,36)",
           "showgrid": false,
           "showline": true,
           "ticks": "outside",
           "title": {
            "standoff": 15
           },
           "zeroline": false,
           "zerolinecolor": "rgb(36,36,36)"
          },
          "yaxis": {
           "automargin": true,
           "gridcolor": "rgb(232,232,232)",
           "linecolor": "rgb(36,36,36)",
           "showgrid": false,
           "showline": true,
           "ticks": "outside",
           "title": {
            "standoff": 15
           },
           "zeroline": false,
           "zerolinecolor": "rgb(36,36,36)"
          }
         }
        },
        "title": {
         "text": "trip origin departure hour by purpose"
        },
        "width": 850,
        "xaxis": {
         "anchor": "y",
         "categoryorder": "category ascending",
         "domain": [
          0,
          0.98
         ],
         "dtick": 1,
         "title": {
          "text": "dept_hr"
         }
        },
        "xaxis2": {
         "anchor": "y2",
         "categoryorder": "category ascending",
         "domain": [
          0,
          0.98
         ],
         "dtick": 1,
         "matches": "x",
         "showticklabels": false
        },
        "xaxis3": {
         "anchor": "y3",
         "categoryorder": "category ascending",
         "domain": [
          0,
          0.98
         ],
         "dtick": 1,
         "matches": "x",
         "showticklabels": false
        },
        "xaxis4": {
         "anchor": "y4",
         "categoryorder": "category ascending",
         "domain": [
          0,
          0.98
         ],
         "dtick": 1,
         "matches": "x",
         "showticklabels": false
        },
        "xaxis5": {
         "anchor": "y5",
         "categoryorder": "category ascending",
         "domain": [
          0,
          0.98
         ],
         "dtick": 1,
         "matches": "x",
         "showticklabels": false
        },
        "xaxis6": {
         "anchor": "y6",
         "categoryorder": "category ascending",
         "domain": [
          0,
          0.98
         ],
         "dtick": 1,
         "matches": "x",
         "showticklabels": false
        },
        "yaxis": {
         "anchor": "x",
         "domain": [
          0,
          0.14166666666666666
         ],
         "tickformat": ".0%",
         "title": {
          "text": "percentage"
         }
        },
        "yaxis2": {
         "anchor": "x2",
         "domain": [
          0.17166666666666666,
          0.31333333333333335
         ],
         "matches": "y",
         "tickformat": ".0%",
         "title": {
          "text": "percentage"
         }
        },
        "yaxis3": {
         "anchor": "x3",
         "domain": [
          0.3433333333333333,
          0.485
         ],
         "matches": "y",
         "tickformat": ".0%",
         "title": {
          "text": "percentage"
         }
        },
        "yaxis4": {
         "anchor": "x4",
         "domain": [
          0.515,
          0.6566666666666667
         ],
         "matches": "y",
         "tickformat": ".0%",
         "title": {
          "text": "percentage"
         }
        },
        "yaxis5": {
         "anchor": "x5",
         "domain": [
          0.6866666666666666,
          0.8283333333333334
         ],
         "matches": "y",
         "tickformat": ".0%",
         "title": {
          "text": "percentage"
         }
        },
        "yaxis6": {
         "anchor": "x6",
         "domain": [
          0.8583333333333333,
          1
         ],
         "matches": "y",
         "tickformat": ".0%",
         "title": {
          "text": "percentage"
         }
        }
       }
      },
      "text/html": [
       "<div>                            <div id=\"52c13da3-b2c6-4b0e-b797-c4c64a4a9529\" class=\"plotly-graph-div\" style=\"height:1500px; width:850px;\"></div>            <script type=\"text/javascript\">                require([\"plotly\"], function(Plotly) {                    window.PLOTLYENV=window.PLOTLYENV || {};                                    if (document.getElementById(\"52c13da3-b2c6-4b0e-b797-c4c64a4a9529\")) {                    Plotly.newPlot(                        \"52c13da3-b2c6-4b0e-b797-c4c64a4a9529\",                        [{\"alignmentgroup\":\"True\",\"customdata\":[[3325.0,3325.0],[2287.0,2287.0],[785.0,785.0],[20058.0,20058.0],[28017.0,28017.0],[80655.0,80655.0],[223275.0,223275.0],[324685.0,324685.0],[294856.0,294856.0],[174182.0,174182.0],[119415.0,119415.0],[118101.0,118101.0],[113905.0,113905.0],[94044.0,94044.0],[83771.0,83771.0],[76585.0,76585.0],[79496.0,79496.0],[66988.0,66988.0],[49966.0,49966.0],[27873.0,27873.0],[21315.0,21315.0],[15806.0,15806.0],[9007.0,9007.0],[7140.0,7140.0]],\"hovertemplate\":\"source=model\\u003cbr\\u003edpurp_label=Work\\u003cbr\\u003edept_hr=%{x}\\u003cbr\\u003epercentage=%{y}\\u003cbr\\u003etrexpfac=%{customdata[0]}\\u003cbr\\u003esample_count=%{customdata[1]}\\u003cextra\\u003e\\u003c\\u002fextra\\u003e\",\"legendgroup\":\"model\",\"marker\":{\"color\":\"#91268F\",\"pattern\":{\"shape\":\"\"}},\"name\":\"model\",\"offsetgroup\":\"model\",\"orientation\":\"v\",\"showlegend\":true,\"textposition\":\"auto\",\"x\":[0,1,2,3,4,5,6,7,8,9,10,11,12,13,14,15,16,17,18,19,20,21,22,23],\"xaxis\":\"x6\",\"y\":[0.0016334755889969084,0.0011235364427175727,0.00038564762025942046,0.009853910786195486,0.01376393551185756,0.03962345071595358,0.10968849988970969,0.15950827717698082,0.14485415887797667,0.08557053986245398,0.05866510901054611,0.058019579108608686,0.05595820660592266,0.046201076177932406,0.04115425069649925,0.03762397834085059,0.03905406779636037,0.032909251956608994,0.02454683948265249,0.013693192508905513,0.010471438249464391,0.007765027115694777,0.004424876580479745,0.0035076738963723086],\"yaxis\":\"y6\",\"type\":\"bar\"},{\"alignmentgroup\":\"True\",\"customdata\":[[7.0,7.0],[2.0,2.0],[2.0,2.0],[508.0,508.0],[597.0,597.0],[5009.0,5009.0],[46122.0,46122.0],[143396.0,143396.0],[164867.0,164867.0],[83776.0,83776.0],[39227.0,39227.0],[26224.0,26224.0],[17567.0,17567.0],[12342.0,12342.0],[9532.0,9532.0],[9702.0,9702.0],[6320.0,6320.0],[5275.0,5275.0],[3204.0,3204.0],[1041.0,1041.0],[719.0,719.0],[369.0,369.0],[71.0,71.0],[29.0,29.0]],\"hovertemplate\":\"source=model\\u003cbr\\u003edpurp_label=School\\u003cbr\\u003edept_hr=%{x}\\u003cbr\\u003epercentage=%{y}\\u003cbr\\u003etrexpfac=%{customdata[0]}\\u003cbr\\u003esample_count=%{customdata[1]}\\u003cextra\\u003e\\u003c\\u002fextra\\u003e\",\"legendgroup\":\"model\",\"marker\":{\"color\":\"#91268F\",\"pattern\":{\"shape\":\"\"}},\"name\":\"model\",\"offsetgroup\":\"model\",\"orientation\":\"v\",\"showlegend\":false,\"textposition\":\"auto\",\"x\":[0,1,2,3,4,5,6,7,8,9,10,11,12,13,14,15,16,17,18,19,20,21,22,23],\"xaxis\":\"x5\",\"y\":[1.2154719156531945e-05,3.4727769018662703e-06,3.4727769018662703e-06,0.0008820853330740327,0.0010366239052070818,0.008697569750724074,0.08008570813393806,0.24899115831000784,0.2862731547399932,0.14546767886537432,0.06811330976475409,0.04553505073727054,0.030503135917542386,0.021430506261416755,0.016551254714294646,0.016846440750953276,0.010973975009897415,0.009159449078672287,0.005563388596789765,0.0018075803774213937,0.001248463296220924,0.0006407273383943269,0.0001232835800162526,5.035526507706092e-05],\"yaxis\":\"y5\",\"type\":\"bar\"},{\"alignmentgroup\":\"True\",\"customdata\":[[1076.0,1076.0],[780.0,780.0],[316.0,316.0],[7841.0,7841.0],[7829.0,7829.0],[11965.0,11965.0],[32050.0,32050.0],[67841.0,67841.0],[110766.0,110766.0],[153534.0,153534.0],[180336.0,180336.0],[168744.0,168744.0],[158353.0,158353.0],[175497.0,175497.0],[157961.0,157961.0],[177525.0,177525.0],[189560.0,189560.0],[159745.0,159745.0],[125196.0,125196.0],[86459.0,86459.0],[58300.0,58300.0],[20856.0,20856.0],[9273.0,9273.0],[5749.0,5749.0]],\"hovertemplate\":\"source=model\\u003cbr\\u003edpurp_label=Shop\\u003cbr\\u003edept_hr=%{x}\\u003cbr\\u003epercentage=%{y}\\u003cbr\\u003etrexpfac=%{customdata[0]}\\u003cbr\\u003esample_count=%{customdata[1]}\\u003cextra\\u003e\\u003c\\u002fextra\\u003e\",\"legendgroup\":\"model\",\"marker\":{\"color\":\"#91268F\",\"pattern\":{\"shape\":\"\"}},\"name\":\"model\",\"offsetgroup\":\"model\",\"orientation\":\"v\",\"showlegend\":false,\"textposition\":\"auto\",\"x\":[0,1,2,3,4,5,6,7,8,9,10,11,12,13,14,15,16,17,18,19,20,21,22,23],\"xaxis\":\"x4\",\"y\":[0.0005204222191267741,0.00037725774248966896,0.00015283775208555818,0.003792407639566018,0.0037866036742969463,0.005787037037037037,0.015501423906146013,0.032812233984925165,0.05357350141616753,0.07425883363513952,0.08722199006361146,0.08161535961368807,0.0765896093544443,0.08488154106885824,0.0764000131556546,0.08586241119933138,0.091683304700438,0.07726286932565662,0.060552769652226404,0.04181708609989011,0.02819759793224064,0.01008729163764684,0.004485014161675256,0.0027805830276578293],\"yaxis\":\"y4\",\"type\":\"bar\"},{\"alignmentgroup\":\"True\",\"customdata\":[[885.0,885.0],[661.0,661.0],[232.0,232.0],[4175.0,4175.0],[4660.0,4660.0],[8763.0,8763.0],[23297.0,23297.0],[36137.0,36137.0],[51721.0,51721.0],[63199.0,63199.0],[81360.0,81360.0],[86786.0,86786.0],[84150.0,84150.0],[87678.0,87678.0],[77261.0,77261.0],[72547.0,72547.0],[82298.0,82298.0],[80227.0,80227.0],[66686.0,66686.0],[45001.0,45001.0],[33006.0,33006.0],[19167.0,19167.0],[7767.0,7767.0],[4006.0,4006.0]],\"hovertemplate\":\"source=model\\u003cbr\\u003edpurp_label=Meal\\u003cbr\\u003edept_hr=%{x}\\u003cbr\\u003epercentage=%{y}\\u003cbr\\u003etrexpfac=%{customdata[0]}\\u003cbr\\u003esample_count=%{customdata[1]}\\u003cextra\\u003e\\u003c\\u002fextra\\u003e\",\"legendgroup\":\"model\",\"marker\":{\"color\":\"#91268F\",\"pattern\":{\"shape\":\"\"}},\"name\":\"model\",\"offsetgroup\":\"model\",\"orientation\":\"v\",\"showlegend\":false,\"textposition\":\"auto\",\"x\":[0,1,2,3,4,5,6,7,8,9,10,11,12,13,14,15,16,17,18,19,20,21,22,23],\"xaxis\":\"x3\",\"y\":[0.0008662288214394081,0.000646979944600507,0.00022707919386886176,0.004086446700010767,0.0045611596699521376,0.008577133516693257,0.022802861980874452,0.035370520813961456,0.050623978388325,0.06185852574706118,0.07963432419470083,0.08494523672027171,0.08236514725889965,0.08581831706911233,0.07562226550647469,0.07100825119657032,0.08055242886646373,0.07852535554533265,0.06527156518249533,0.04404651208315797,0.032305930486360566,0.018760460814157214,0.007602259046463143,0.003921031252752846],\"yaxis\":\"y3\",\"type\":\"bar\"},{\"alignmentgroup\":\"True\",\"customdata\":[[2149.0,2149.0],[1472.0,1472.0],[554.0,554.0],[25025.0,25025.0],[23698.0,23698.0],[42205.0,42205.0],[115700.0,115700.0],[140157.0,140157.0],[124711.0,124711.0],[109907.0,109907.0],[104312.0,104312.0],[86270.0,86270.0],[81687.0,81687.0],[90699.0,90699.0],[91479.0,91479.0],[121602.0,121602.0],[139660.0,139660.0],[124847.0,124847.0],[86075.0,86075.0],[52199.0,52199.0],[38098.0,38098.0],[20358.0,20358.0],[11084.0,11084.0],[8700.0,8700.0]],\"hovertemplate\":\"source=model\\u003cbr\\u003edpurp_label=Escort\\u003cbr\\u003edept_hr=%{x}\\u003cbr\\u003epercentage=%{y}\\u003cbr\\u003etrexpfac=%{customdata[0]}\\u003cbr\\u003esample_count=%{customdata[1]}\\u003cextra\\u003e\\u003c\\u002fextra\\u003e\",\"legendgroup\":\"model\",\"marker\":{\"color\":\"#91268F\",\"pattern\":{\"shape\":\"\"}},\"name\":\"model\",\"offsetgroup\":\"model\",\"orientation\":\"v\",\"showlegend\":false,\"textposition\":\"auto\",\"x\":[0,1,2,3,4,5,6,7,8,9,10,11,12,13,14,15,16,17,18,19,20,21,22,23],\"xaxis\":\"x2\",\"y\":[0.0013082535028807146,0.0008961140792184326,0.00033726032601019815,0.015234548119864999,0.014426706147634794,0.025693270865091,0.07043505364509012,0.08532381861482193,0.07592070851454481,0.06690843077762247,0.06350234499418013,0.0525188597922379,0.049728852438258225,0.05521511608086455,0.05568995913914606,0.07402803278608686,0.08502125835845538,0.07600350166316824,0.05240014902766752,0.03177734974261071,0.023193039531293376,0.012393403821147318,0.006747641612810535,0.005296326419293726],\"yaxis\":\"y2\",\"type\":\"bar\"},{\"alignmentgroup\":\"True\",\"customdata\":[[500.0,500.0],[343.0,343.0],[132.0,132.0],[4894.0,4894.0],[4438.0,4438.0],[8218.0,8218.0],[23454.0,23454.0],[41359.0,41359.0],[65423.0,65423.0],[80261.0,80261.0],[83772.0,83772.0],[71109.0,71109.0],[66429.0,66429.0],[70878.0,70878.0],[61487.0,61487.0],[63497.0,63497.0],[68971.0,68971.0],[55879.0,55879.0],[43408.0,43408.0],[25391.0,25391.0],[18063.0,18063.0],[9851.0,9851.0],[3668.0,3668.0],[2297.0,2297.0]],\"hovertemplate\":\"source=model\\u003cbr\\u003edpurp_label=Personal Business\\u003cbr\\u003edept_hr=%{x}\\u003cbr\\u003epercentage=%{y}\\u003cbr\\u003etrexpfac=%{customdata[0]}\\u003cbr\\u003esample_count=%{customdata[1]}\\u003cextra\\u003e\\u003c\\u002fextra\\u003e\",\"legendgroup\":\"model\",\"marker\":{\"color\":\"#91268F\",\"pattern\":{\"shape\":\"\"}},\"name\":\"model\",\"offsetgroup\":\"model\",\"orientation\":\"v\",\"showlegend\":false,\"textposition\":\"auto\",\"x\":[0,1,2,3,4,5,6,7,8,9,10,11,12,13,14,15,16,17,18,19,20,21,22,23],\"xaxis\":\"x\",\"y\":[0.0005722644044673248,0.00039257338146458487,0.00015107780277937377,0.005601323990926175,0.0050794188540519754,0.00940573775182495,0.026843778684753274,0.047336567008728174,0.07487850826693158,0.09186102673390392,0.09587946738207348,0.081386299074534,0.07602990424871985,0.0811219129196701,0.07037364287496481,0.07267414578092345,0.07893929648103172,0.0639551253144593,0.049681706538235275,0.02906073098765969,0.020673623875786577,0.011274753296815234,0.004198131671172295,0.0026289826741228905],\"yaxis\":\"y\",\"type\":\"bar\"},{\"alignmentgroup\":\"True\",\"customdata\":[[804.680284745979,3.0],[562.3747441545361,2.0],[0.0,0.0],[12541.120743195177,22.0],[53412.45675627712,63.0],[106403.91744037515,137.0],[210508.01729626206,375.0],[363308.5991724092,635.0],[286435.99737778684,621.0],[183302.98131302345,405.0],[106180.05312067762,268.0],[82219.0958748408,235.0],[87388.77158814188,322.0],[76203.60059923679,238.0],[96806.63584919396,196.0],[72354.0876608279,146.0],[36458.000320929146,110.0],[26134.587027886413,112.0],[9622.42790991357,59.0],[13280.302417338822,45.0],[3794.351388658157,34.0],[646.1173732884231,22.0],[10795.506686474104,16.0],[1337.360156468596,10.0]],\"hovertemplate\":\"source=survey\\u003cbr\\u003edpurp_label=Work\\u003cbr\\u003edept_hr=%{x}\\u003cbr\\u003epercentage=%{y}\\u003cbr\\u003etrexpfac=%{customdata[0]}\\u003cbr\\u003esample_count=%{customdata[1]}\\u003cextra\\u003e\\u003c\\u002fextra\\u003e\",\"legendgroup\":\"survey\",\"marker\":{\"color\":\"#8CC63E\",\"pattern\":{\"shape\":\"\"}},\"name\":\"survey\",\"offsetgroup\":\"survey\",\"orientation\":\"v\",\"showlegend\":true,\"textposition\":\"auto\",\"x\":[0,1,2,3,4,5,6,7,8,9,10,11,12,13,14,15,16,17,18,19,20,21,22,23],\"xaxis\":\"x6\",\"y\":[0.0004372071875545998,0.0003055552433736584,0.0,0.006813971005448342,0.029020606620386438,0.057812473314894045,0.11437538603154362,0.19739657335921101,0.15562935889186355,0.09959406543126546,0.05769084104495509,0.04467212674667281,0.04748096824810862,0.041403725841305715,0.05259797934481442,0.039312168787949936,0.019808736570711392,0.014199713238867498,0.005228156727200368,0.007215590812681799,0.002061586111498692,0.0003510551519163569,0.005865525981054932,0.0007266283067215861],\"yaxis\":\"y6\",\"type\":\"bar\"},{\"alignmentgroup\":\"True\",\"customdata\":[[0.0,0.0],[0.0,0.0],[0.0,0.0],[0.0,0.0],[86.688593033636,1.0],[454.39219826369094,4.0],[25738.818694978792,26.0],[202083.50156386622,237.0],[186704.40572451908,266.0],[56855.249368937446,63.0],[9549.5433118102,22.0],[6417.963156613865,16.0],[6418.499390814671,13.0],[16271.837201016171,19.0],[5075.9831418455105,13.0],[3816.10688476565,15.0],[4405.086266508944,9.0],[1012.1140325171591,8.0],[11446.021215011839,3.0],[117.770432262396,1.0],[0.0,0.0],[0.0,0.0],[0.0,0.0],[0.0,0.0]],\"hovertemplate\":\"source=survey\\u003cbr\\u003edpurp_label=School\\u003cbr\\u003edept_hr=%{x}\\u003cbr\\u003epercentage=%{y}\\u003cbr\\u003etrexpfac=%{customdata[0]}\\u003cbr\\u003esample_count=%{customdata[1]}\\u003cextra\\u003e\\u003c\\u002fextra\\u003e\",\"legendgroup\":\"survey\",\"marker\":{\"color\":\"#8CC63E\",\"pattern\":{\"shape\":\"\"}},\"name\":\"survey\",\"offsetgroup\":\"survey\",\"orientation\":\"v\",\"showlegend\":false,\"textposition\":\"auto\",\"x\":[0,1,2,3,4,5,6,7,8,9,10,11,12,13,14,15,16,17,18,19,20,21,22,23],\"xaxis\":\"x5\",\"y\":[0.0,0.0,0.0,0.0,0.0001615955814951283,0.0008470292219044332,0.047979546425432666,0.37670239881634565,0.3480343371018784,0.10598346058355236,0.017801234862424405,0.011963678864933434,0.011964678455242428,0.030332214452621405,0.009462103591273264,0.007113577340585001,0.008211489561221912,0.0018866744735438184,0.021336445653556062,0.0002195350139895594,0.0,0.0,0.0,0.0],\"yaxis\":\"y5\",\"type\":\"bar\"},{\"alignmentgroup\":\"True\",\"customdata\":[[358.7736350081784,3.0],[143.521368637738,1.0],[570.896774611867,1.0],[0.0,0.0],[2395.07790418324,2.0],[1099.1269493912555,8.0],[9682.191616724744,16.0],[30867.07210367278,55.0],[52251.95971763586,96.0],[74744.5281363228,194.0],[140914.81237725346,291.0],[165531.30596257237,335.0],[158567.4885357726,324.0],[148506.4692088266,304.0],[218739.25280935815,345.0],[239020.28780863824,296.0],[200033.0806470187,332.0],[128142.27916296125,305.0],[151266.46572719884,246.0],[69608.41782593235,214.0],[33729.00173269234,85.0],[16880.520789716313,29.0],[16289.143604045355,19.0],[4775.237711364982,7.0]],\"hovertemplate\":\"source=survey\\u003cbr\\u003edpurp_label=Shop\\u003cbr\\u003edept_hr=%{x}\\u003cbr\\u003epercentage=%{y}\\u003cbr\\u003etrexpfac=%{customdata[0]}\\u003cbr\\u003esample_count=%{customdata[1]}\\u003cextra\\u003e\\u003c\\u002fextra\\u003e\",\"legendgroup\":\"survey\",\"marker\":{\"color\":\"#8CC63E\",\"pattern\":{\"shape\":\"\"}},\"name\":\"survey\",\"offsetgroup\":\"survey\",\"orientation\":\"v\",\"showlegend\":false,\"textposition\":\"auto\",\"x\":[0,1,2,3,4,5,6,7,8,9,10,11,12,13,14,15,16,17,18,19,20,21,22,23],\"xaxis\":\"x4\",\"y\":[0.00019246305458500988,7.699161340439807e-05,0.00030625588497333465,0.0,0.001284832452634548,0.0005896233987531509,0.005193983034984554,0.016558549468199322,0.028030409132710776,0.040096480886350455,0.07559333401346931,0.08879877913625482,0.08506305988948337,0.07966585585062275,0.11734202473482228,0.1282217259314221,0.10730715404574598,0.06874154637540851,0.08114644781373566,0.03734122971244306,0.018093823146812557,0.009055505413881667,0.008738262873014569,0.002561662136287929],\"yaxis\":\"y4\",\"type\":\"bar\"},{\"alignmentgroup\":\"True\",\"customdata\":[[632.62215829592,1.0],[0.0,0.0],[0.0,0.0],[0.0,0.0],[23.312448148228,1.0],[4014.9909061810304,5.0],[19388.229589911243,28.0],[17193.66095456018,49.0],[40281.550672032245,70.0],[32319.334424560453,90.0],[22494.997102790257,86.0],[79180.18027602999,200.0],[114995.59534596713,241.0],[36169.07711690028,153.0],[78095.67868397436,120.0],[85847.74714025226,121.0],[70614.77254108731,161.0],[84957.92642486223,207.0],[83071.03998130125,202.0],[60305.82273592012,119.0],[68578.57197356776,83.0],[13629.97008228534,29.0],[4952.542971132462,15.0],[1494.7720542075883,4.0]],\"hovertemplate\":\"source=survey\\u003cbr\\u003edpurp_label=Meal\\u003cbr\\u003edept_hr=%{x}\\u003cbr\\u003epercentage=%{y}\\u003cbr\\u003etrexpfac=%{customdata[0]}\\u003cbr\\u003esample_count=%{customdata[1]}\\u003cextra\\u003e\\u003c\\u002fextra\\u003e\",\"legendgroup\":\"survey\",\"marker\":{\"color\":\"#8CC63E\",\"pattern\":{\"shape\":\"\"}},\"name\":\"survey\",\"offsetgroup\":\"survey\",\"orientation\":\"v\",\"showlegend\":false,\"textposition\":\"auto\",\"x\":[0,1,2,3,4,5,6,7,8,9,10,11,12,13,14,15,16,17,18,19,20,21,22,23],\"xaxis\":\"x3\",\"y\":[0.0006889489761508955,0.0,0.0,0.0,2.5388120021840375e-05,0.00437247389740445,0.021114500575396607,0.01872453399804706,0.04386810156637855,0.03519695298321155,0.024497885537602827,0.086230150836887,0.12523446521202525,0.039389465451437906,0.08504908841015606,0.09349137826037353,0.07690210436883495,0.09252233052344766,0.09046744125604349,0.06567527596846351,0.07468460648667213,0.014843542563308885,0.005393502842986063,0.0016278621651497254],\"yaxis\":\"y3\",\"type\":\"bar\"},{\"alignmentgroup\":\"True\",\"customdata\":[[9.16501889224752,1.0],[0.0,0.0],[0.0,0.0],[0.0,0.0],[4054.1074151579,1.0],[3125.3445629524927,10.0],[33587.47417764466,37.0],[234730.64420605902,227.0],[187868.140302904,234.0],[83194.89099350592,95.0],[19655.609745442103,78.0],[28470.574531523176,63.0],[24735.78263135701,76.0],[93383.30547029288,87.0],[153778.12436165885,175.0],[205282.61662488477,228.0],[91440.7799257265,153.0],[103597.81032057249,140.0],[25422.955729679896,68.0],[39576.82392115468,58.0],[21548.81521353992,29.0],[8339.18214681177,23.0],[11516.748013204216,13.0],[607.5843848720184,3.0]],\"hovertemplate\":\"source=survey\\u003cbr\\u003edpurp_label=Escort\\u003cbr\\u003edept_hr=%{x}\\u003cbr\\u003epercentage=%{y}\\u003cbr\\u003etrexpfac=%{customdata[0]}\\u003cbr\\u003esample_count=%{customdata[1]}\\u003cextra\\u003e\\u003c\\u002fextra\\u003e\",\"legendgroup\":\"survey\",\"marker\":{\"color\":\"#8CC63E\",\"pattern\":{\"shape\":\"\"}},\"name\":\"survey\",\"offsetgroup\":\"survey\",\"orientation\":\"v\",\"showlegend\":false,\"textposition\":\"auto\",\"x\":[0,1,2,3,4,5,6,7,8,9,10,11,12,13,14,15,16,17,18,19,20,21,22,23],\"xaxis\":\"x2\",\"y\":[6.6706763627287795e-06,0.0,0.0,0.0,0.0029507455275550897,0.002274753859929856,0.024446340232871448,0.17084658289552918,0.13673813197356913,0.06055265126835806,0.014306158324981772,0.02072205096286129,0.018003716353728823,0.06796819687966883,0.11192602124931662,0.1494131015438555,0.06655434717717704,0.07540273213407783,0.018503869097326875,0.028805634439667174,0.015684110854519002,0.0060695985338646225,0.008382361198640746,0.0004422248161383734],\"yaxis\":\"y2\",\"type\":\"bar\"},{\"alignmentgroup\":\"True\",\"customdata\":[[0.0,0.0],[0.0,0.0],[0.0,0.0],[0.0,0.0],[0.0,0.0],[2941.709816663014,5.0],[6787.840124287102,24.0],[44644.19766696867,76.0],[31765.464901663883,110.0],[74424.13423794335,155.0],[66592.76735213719,183.0],[55823.587746709716,148.0],[71755.10161401254,147.0],[75768.19484864996,170.0],[130627.28838497949,161.0],[63498.44906164756,136.0],[40413.19147329938,122.0],[68848.9674905658,83.0],[9367.28638823272,51.0],[13896.771678979156,22.0],[1354.5155151784093,8.0],[5413.7580029584815,5.0],[197.424677262663,1.0],[0.0,0.0]],\"hovertemplate\":\"source=survey\\u003cbr\\u003edpurp_label=Personal Business\\u003cbr\\u003edept_hr=%{x}\\u003cbr\\u003epercentage=%{y}\\u003cbr\\u003etrexpfac=%{customdata[0]}\\u003cbr\\u003esample_count=%{customdata[1]}\\u003cextra\\u003e\\u003c\\u002fextra\\u003e\",\"legendgroup\":\"survey\",\"marker\":{\"color\":\"#8CC63E\",\"pattern\":{\"shape\":\"\"}},\"name\":\"survey\",\"offsetgroup\":\"survey\",\"orientation\":\"v\",\"showlegend\":false,\"textposition\":\"auto\",\"x\":[0,1,2,3,4,5,6,7,8,9,10,11,12,13,14,15,16,17,18,19,20,21,22,23],\"xaxis\":\"x\",\"y\":[0.0,0.0,0.0,0.0,0.0,0.0038497975586472854,0.008883204655655568,0.05842558712369128,0.041571268700610446,0.09739840710008892,0.08714954538467742,0.0730559862175673,0.09390546050781944,0.09915737096133133,0.17095112953311978,0.08310003005419597,0.05288849531988897,0.09010222064025214,0.012258910129169739,0.018186619692999218,0.0017726461304735373,0.007084951827960771,0.0002583684618507682,0.0],\"yaxis\":\"y\",\"type\":\"bar\"},{\"alignmentgroup\":\"True\",\"customdata\":[[1157.7089014365695,2.0],[0.0,0.0],[66.0672268552095,1.0],[10508.932231210778,34.0],[42855.42507830016,134.0],[154617.967129585,446.0],[310857.7151247599,1322.0],[383371.8587197152,2371.0],[314649.8031415182,2127.0],[249412.15683964413,1327.0],[167477.85431534835,740.0],[113673.71249841417,590.0],[198346.27570010128,934.0],[155398.9968497258,841.0],[98432.43833252414,500.0],[54043.691655597715,342.0],[53533.23811600846,283.0],[57189.754237463145,206.0],[19353.04596158001,116.0],[18660.712974326594,56.0],[6227.628956539731,34.0],[2096.1982044600077,11.0],[3409.689338539313,8.0],[2471.7153776065225,5.0]],\"hovertemplate\":\"source=survey (2017\\u002f2019)\\u003cbr\\u003edpurp_label=Work\\u003cbr\\u003edept_hr=%{x}\\u003cbr\\u003epercentage=%{y}\\u003cbr\\u003etrexpfac=%{customdata[0]}\\u003cbr\\u003esample_count=%{customdata[1]}\\u003cextra\\u003e\\u003c\\u002fextra\\u003e\",\"legendgroup\":\"survey (2017\\u002f2019)\",\"marker\":{\"color\":\"#00A7A0\",\"pattern\":{\"shape\":\"\"}},\"name\":\"survey (2017\\u002f2019)\",\"offsetgroup\":\"survey (2017\\u002f2019)\",\"orientation\":\"v\",\"showlegend\":true,\"textposition\":\"auto\",\"x\":[0,1,2,3,4,5,6,7,8,9,10,11,12,13,14,15,16,17,18,19,20,21,22,23],\"xaxis\":\"x6\",\"y\":[0.0004788249129414679,0.0,2.7325205937326162e-05,0.004346462702734074,0.01772487466989643,0.06394952527197671,0.1285698142228131,0.1585614454962658,0.1301382103992937,0.10315611647893129,0.06926833585943905,0.04701510493980495,0.08203542192386688,0.06427255681063643,0.040711359873542116,0.02235230801103496,0.022141185965284773,0.023653510014406322,0.00800436149035993,0.007718014653139652,0.0025757285698042817,0.0008669812605855805,0.0014102372355068137,0.0010222940317984376],\"yaxis\":\"y6\",\"type\":\"bar\"},{\"alignmentgroup\":\"True\",\"customdata\":[[0.0,0.0],[0.0,0.0],[0.0,0.0],[0.0,0.0],[0.0,0.0],[10000.491126518085,13.0],[57849.45797028801,105.0],[189331.28199660193,515.0],[183672.6626829494,619.0],[37344.49808280265,163.0],[11952.119643414007,75.0],[16749.29791643655,58.0],[20548.81031449402,109.0],[7863.504225313564,76.0],[15767.64621464485,82.0],[22347.41025179439,67.0],[14851.787717522677,61.0],[9460.656281219735,59.0],[846.6255037070423,16.0],[1322.8739986711764,8.0],[312.3021497864155,1.0],[89.61400609072103,3.0],[0.0,0.0],[0.0,0.0]],\"hovertemplate\":\"source=survey (2017\\u002f2019)\\u003cbr\\u003edpurp_label=School\\u003cbr\\u003edept_hr=%{x}\\u003cbr\\u003epercentage=%{y}\\u003cbr\\u003etrexpfac=%{customdata[0]}\\u003cbr\\u003esample_count=%{customdata[1]}\\u003cextra\\u003e\\u003c\\u002fextra\\u003e\",\"legendgroup\":\"survey (2017\\u002f2019)\",\"marker\":{\"color\":\"#00A7A0\",\"pattern\":{\"shape\":\"\"}},\"name\":\"survey (2017\\u002f2019)\",\"offsetgroup\":\"survey (2017\\u002f2019)\",\"orientation\":\"v\",\"showlegend\":false,\"textposition\":\"auto\",\"x\":[0,1,2,3,4,5,6,7,8,9,10,11,12,13,14,15,16,17,18,19,20,21,22,23],\"xaxis\":\"x5\",\"y\":[0.0,0.0,0.0,0.0,0.0,0.016658849261122717,0.09636580723613117,0.3153886391472321,0.3059624934730209,0.062208581200981536,0.01990987812214201,0.027901032628254756,0.03423027221301545,0.013099049826296881,0.026265794166444704,0.037226385589597566,0.024740154229860027,0.0157595906947229,0.0014103114005550139,0.0022036476265535863,0.0005202338936555682,0.00014927929041325317,0.0,0.0],\"yaxis\":\"y5\",\"type\":\"bar\"},{\"alignmentgroup\":\"True\",\"customdata\":[[88.00102612483639,3.0],[0.0,0.0],[0.54525469613021,1.0],[23.5581858798963,2.0],[2802.6843880997167,5.0],[1121.6653775904763,8.0],[7809.612816362787,29.0],[33966.92660566138,82.0],[59284.611511248746,149.0],[161859.65014367257,311.0],[246968.17909785142,468.0],[227991.4685251565,563.0],[246963.90317585086,548.0],[159734.69603642396,506.0],[232366.1604966313,572.0],[166747.11769128861,560.0],[158925.46239316338,651.0],[107544.54743676432,679.0],[81224.20610343866,538.0],[103668.04157456594,429.0],[64391.27309270366,252.0],[50067.3621480706,125.0],[1685.2232189452338,35.0],[2124.5189612179906,8.0]],\"hovertemplate\":\"source=survey (2017\\u002f2019)\\u003cbr\\u003edpurp_label=Shop\\u003cbr\\u003edept_hr=%{x}\\u003cbr\\u003epercentage=%{y}\\u003cbr\\u003etrexpfac=%{customdata[0]}\\u003cbr\\u003esample_count=%{customdata[1]}\\u003cextra\\u003e\\u003c\\u002fextra\\u003e\",\"legendgroup\":\"survey (2017\\u002f2019)\",\"marker\":{\"color\":\"#00A7A0\",\"pattern\":{\"shape\":\"\"}},\"name\":\"survey (2017\\u002f2019)\",\"offsetgroup\":\"survey (2017\\u002f2019)\",\"orientation\":\"v\",\"showlegend\":false,\"textposition\":\"auto\",\"x\":[0,1,2,3,4,5,6,7,8,9,10,11,12,13,14,15,16,17,18,19,20,21,22,23],\"xaxis\":\"x4\",\"y\":[4.1561685508160074e-05,0.0,2.5751636316449044e-07,1.1126210179573037e-05,0.0013236696462105833,0.0005297472736587783,0.0036883737168442016,0.016042116591465802,0.027999314185366813,0.0764441072106265,0.11663970571919212,0.10767726389853785,0.11663768625949636,0.0754405203410887,0.10974337130568992,0.07875239153514334,0.07505833031825751,0.050791824317406635,0.03836108575520738,0.048961003421219874,0.03041112086525656,0.023646132908375073,0.0007959079629082134,0.001003381355996992],\"yaxis\":\"y4\",\"type\":\"bar\"},{\"alignmentgroup\":\"True\",\"customdata\":[[0.0,0.0],[0.0,0.0],[0.0,0.0],[42.29917858051295,1.0],[218.51478703463414,7.0],[14040.540516193796,19.0],[17302.365160053367,71.0],[32912.26594329437,113.0],[32337.516123921025,148.0],[21924.677972796257,132.0],[30918.81011936177,176.0],[107399.40268627691,532.0],[170963.485853993,671.0],[49218.65037364088,301.0],[30461.521408202083,208.0],[32694.502305321854,206.0],[51866.72388408027,303.0],[77108.99883669768,502.0],[105260.90749325918,528.0],[60055.67261256104,335.0],[41083.36947794194,178.0],[8666.039098896179,63.0],[5858.891906161041,26.0],[5.963816542174035,2.0]],\"hovertemplate\":\"source=survey (2017\\u002f2019)\\u003cbr\\u003edpurp_label=Meal\\u003cbr\\u003edept_hr=%{x}\\u003cbr\\u003epercentage=%{y}\\u003cbr\\u003etrexpfac=%{customdata[0]}\\u003cbr\\u003esample_count=%{customdata[1]}\\u003cextra\\u003e\\u003c\\u002fextra\\u003e\",\"legendgroup\":\"survey (2017\\u002f2019)\",\"marker\":{\"color\":\"#00A7A0\",\"pattern\":{\"shape\":\"\"}},\"name\":\"survey (2017\\u002f2019)\",\"offsetgroup\":\"survey (2017\\u002f2019)\",\"orientation\":\"v\",\"showlegend\":false,\"textposition\":\"auto\",\"x\":[0,1,2,3,4,5,6,7,8,9,10,11,12,13,14,15,16,17,18,19,20,21,22,23],\"xaxis\":\"x3\",\"y\":[0.0,0.0,0.0,4.7508957692152266e-05,0.00024542816481832973,0.015769843948367085,0.019433411284772432,0.0369659057864824,0.036320366894983455,0.02462503134052606,0.034726925939152234,0.1206272521030804,0.19202020674893516,0.055280666356565984,0.03421331525543098,0.03672132128601431,0.05825488988986015,0.08660613010354262,0.11822536911009111,0.06745243063983182,0.0461434034389926,0.009733391964676852,0.0065805024360669935,6.698350116813737e-06],\"yaxis\":\"y3\",\"type\":\"bar\"},{\"alignmentgroup\":\"True\",\"customdata\":[[0.0,0.0],[0.0,0.0],[0.0,0.0],[43.386560706051,1.0],[1790.848267443167,12.0],[18465.3446532733,31.0],[57549.3428295186,132.0],[126646.14531971225,480.0],[172943.20962340268,535.0],[36944.90811363064,172.0],[20658.185061762004,83.0],[49370.51581484816,137.0],[35656.39697159831,134.0],[38424.3553957142,151.0],[111565.45609818315,247.0],[122817.5944122123,398.0],[93252.53032125118,447.0],[102649.93969422167,351.0],[59265.66469635055,192.0],[39265.309592495694,126.0],[28526.143523589562,106.0],[9561.367183984781,53.0],[969.0806851933426,33.0],[843.0741387058619,13.0]],\"hovertemplate\":\"source=survey (2017\\u002f2019)\\u003cbr\\u003edpurp_label=Escort\\u003cbr\\u003edept_hr=%{x}\\u003cbr\\u003epercentage=%{y}\\u003cbr\\u003etrexpfac=%{customdata[0]}\\u003cbr\\u003esample_count=%{customdata[1]}\\u003cextra\\u003e\\u003c\\u002fextra\\u003e\",\"legendgroup\":\"survey (2017\\u002f2019)\",\"marker\":{\"color\":\"#00A7A0\",\"pattern\":{\"shape\":\"\"}},\"name\":\"survey (2017\\u002f2019)\",\"offsetgroup\":\"survey (2017\\u002f2019)\",\"orientation\":\"v\",\"showlegend\":false,\"textposition\":\"auto\",\"x\":[0,1,2,3,4,5,6,7,8,9,10,11,12,13,14,15,16,17,18,19,20,21,22,23],\"xaxis\":\"x2\",\"y\":[0.0,0.0,0.0,3.8490260851552665e-05,0.0015887458198507343,0.016381476679694234,0.05105473172559333,0.1123537586264476,0.15342606426005878,0.032775567532642956,0.018326848655601604,0.04379890918212802,0.031632468629206725,0.034088054876116,0.09897496914620887,0.10895727084970226,0.08272871042833525,0.09106559475860239,0.052577361666398294,0.034834104940273614,0.025306885068644307,0.008482339024345,0.0008597171048428137,0.0007479307644558464],\"yaxis\":\"y2\",\"type\":\"bar\"},{\"alignmentgroup\":\"True\",\"customdata\":[[0.0,0.0],[0.0,0.0],[0.0,0.0],[1137.7956546825676,7.0],[813.0149796079876,9.0],[8938.937590118545,30.0],[27863.712614929653,114.0],[61741.21779422683,258.0],[93492.30428550647,413.0],[150539.36337666478,496.0],[166693.8426317474,518.0],[143346.31332363564,468.0],[137807.84510325742,530.0],[96333.08016947884,503.0],[155935.49907970516,515.0],[130304.93264870063,511.0],[142836.5697514224,588.0],[137308.1323715273,492.0],[87073.08351106464,381.0],[52328.51462292796,225.0],[29190.425788894154,119.0],[8119.004695210372,46.0],[3490.5738408943475,23.0],[113.92038390728736,5.0]],\"hovertemplate\":\"source=survey (2017\\u002f2019)\\u003cbr\\u003edpurp_label=Personal Business\\u003cbr\\u003edept_hr=%{x}\\u003cbr\\u003epercentage=%{y}\\u003cbr\\u003etrexpfac=%{customdata[0]}\\u003cbr\\u003esample_count=%{customdata[1]}\\u003cextra\\u003e\\u003c\\u002fextra\\u003e\",\"legendgroup\":\"survey (2017\\u002f2019)\",\"marker\":{\"color\":\"#00A7A0\",\"pattern\":{\"shape\":\"\"}},\"name\":\"survey (2017\\u002f2019)\",\"offsetgroup\":\"survey (2017\\u002f2019)\",\"orientation\":\"v\",\"showlegend\":false,\"textposition\":\"auto\",\"x\":[0,1,2,3,4,5,6,7,8,9,10,11,12,13,14,15,16,17,18,19,20,21,22,23],\"xaxis\":\"x\",\"y\":[0.0,0.0,0.0,0.0006957258348313402,0.0004971327875003691,0.0054658758730499095,0.017037773558671938,0.03775278989387248,0.05716756887025246,0.09205003009914663,0.10192798008054596,0.0876517088957461,0.08426511182934714,0.05890461292145058,0.09534959536063319,0.07967731962814621,0.0873400169228787,0.08395955339622428,0.053242419645182525,0.03199722144454621,0.017849016444632604,0.004964513000491906,0.0021343748233721084,6.965868947734398e-05],\"yaxis\":\"y\",\"type\":\"bar\"}],                        {\"template\":{\"data\":{\"barpolar\":[{\"marker\":{\"line\":{\"color\":\"white\",\"width\":0.5},\"pattern\":{\"fillmode\":\"overlay\",\"size\":10,\"solidity\":0.2}},\"type\":\"barpolar\"}],\"bar\":[{\"error_x\":{\"color\":\"rgb(36,36,36)\"},\"error_y\":{\"color\":\"rgb(36,36,36)\"},\"marker\":{\"line\":{\"color\":\"white\",\"width\":0.5},\"pattern\":{\"fillmode\":\"overlay\",\"size\":10,\"solidity\":0.2}},\"type\":\"bar\"}],\"carpet\":[{\"aaxis\":{\"endlinecolor\":\"rgb(36,36,36)\",\"gridcolor\":\"white\",\"linecolor\":\"white\",\"minorgridcolor\":\"white\",\"startlinecolor\":\"rgb(36,36,36)\"},\"baxis\":{\"endlinecolor\":\"rgb(36,36,36)\",\"gridcolor\":\"white\",\"linecolor\":\"white\",\"minorgridcolor\":\"white\",\"startlinecolor\":\"rgb(36,36,36)\"},\"type\":\"carpet\"}],\"choropleth\":[{\"colorbar\":{\"outlinewidth\":1,\"tickcolor\":\"rgb(36,36,36)\",\"ticks\":\"outside\"},\"type\":\"choropleth\"}],\"contourcarpet\":[{\"colorbar\":{\"outlinewidth\":1,\"tickcolor\":\"rgb(36,36,36)\",\"ticks\":\"outside\"},\"type\":\"contourcarpet\"}],\"contour\":[{\"colorbar\":{\"outlinewidth\":1,\"tickcolor\":\"rgb(36,36,36)\",\"ticks\":\"outside\"},\"colorscale\":[[0.0,\"#440154\"],[0.1111111111111111,\"#482878\"],[0.2222222222222222,\"#3e4989\"],[0.3333333333333333,\"#31688e\"],[0.4444444444444444,\"#26828e\"],[0.5555555555555556,\"#1f9e89\"],[0.6666666666666666,\"#35b779\"],[0.7777777777777778,\"#6ece58\"],[0.8888888888888888,\"#b5de2b\"],[1.0,\"#fde725\"]],\"type\":\"contour\"}],\"heatmapgl\":[{\"colorbar\":{\"outlinewidth\":1,\"tickcolor\":\"rgb(36,36,36)\",\"ticks\":\"outside\"},\"colorscale\":[[0.0,\"#440154\"],[0.1111111111111111,\"#482878\"],[0.2222222222222222,\"#3e4989\"],[0.3333333333333333,\"#31688e\"],[0.4444444444444444,\"#26828e\"],[0.5555555555555556,\"#1f9e89\"],[0.6666666666666666,\"#35b779\"],[0.7777777777777778,\"#6ece58\"],[0.8888888888888888,\"#b5de2b\"],[1.0,\"#fde725\"]],\"type\":\"heatmapgl\"}],\"heatmap\":[{\"colorbar\":{\"outlinewidth\":1,\"tickcolor\":\"rgb(36,36,36)\",\"ticks\":\"outside\"},\"colorscale\":[[0.0,\"#440154\"],[0.1111111111111111,\"#482878\"],[0.2222222222222222,\"#3e4989\"],[0.3333333333333333,\"#31688e\"],[0.4444444444444444,\"#26828e\"],[0.5555555555555556,\"#1f9e89\"],[0.6666666666666666,\"#35b779\"],[0.7777777777777778,\"#6ece58\"],[0.8888888888888888,\"#b5de2b\"],[1.0,\"#fde725\"]],\"type\":\"heatmap\"}],\"histogram2dcontour\":[{\"colorbar\":{\"outlinewidth\":1,\"tickcolor\":\"rgb(36,36,36)\",\"ticks\":\"outside\"},\"colorscale\":[[0.0,\"#440154\"],[0.1111111111111111,\"#482878\"],[0.2222222222222222,\"#3e4989\"],[0.3333333333333333,\"#31688e\"],[0.4444444444444444,\"#26828e\"],[0.5555555555555556,\"#1f9e89\"],[0.6666666666666666,\"#35b779\"],[0.7777777777777778,\"#6ece58\"],[0.8888888888888888,\"#b5de2b\"],[1.0,\"#fde725\"]],\"type\":\"histogram2dcontour\"}],\"histogram2d\":[{\"colorbar\":{\"outlinewidth\":1,\"tickcolor\":\"rgb(36,36,36)\",\"ticks\":\"outside\"},\"colorscale\":[[0.0,\"#440154\"],[0.1111111111111111,\"#482878\"],[0.2222222222222222,\"#3e4989\"],[0.3333333333333333,\"#31688e\"],[0.4444444444444444,\"#26828e\"],[0.5555555555555556,\"#1f9e89\"],[0.6666666666666666,\"#35b779\"],[0.7777777777777778,\"#6ece58\"],[0.8888888888888888,\"#b5de2b\"],[1.0,\"#fde725\"]],\"type\":\"histogram2d\"}],\"histogram\":[{\"marker\":{\"line\":{\"color\":\"white\",\"width\":0.6}},\"type\":\"histogram\"}],\"mesh3d\":[{\"colorbar\":{\"outlinewidth\":1,\"tickcolor\":\"rgb(36,36,36)\",\"ticks\":\"outside\"},\"type\":\"mesh3d\"}],\"parcoords\":[{\"line\":{\"colorbar\":{\"outlinewidth\":1,\"tickcolor\":\"rgb(36,36,36)\",\"ticks\":\"outside\"}},\"type\":\"parcoords\"}],\"pie\":[{\"automargin\":true,\"type\":\"pie\"}],\"scatter3d\":[{\"line\":{\"colorbar\":{\"outlinewidth\":1,\"tickcolor\":\"rgb(36,36,36)\",\"ticks\":\"outside\"}},\"marker\":{\"colorbar\":{\"outlinewidth\":1,\"tickcolor\":\"rgb(36,36,36)\",\"ticks\":\"outside\"}},\"type\":\"scatter3d\"}],\"scattercarpet\":[{\"marker\":{\"colorbar\":{\"outlinewidth\":1,\"tickcolor\":\"rgb(36,36,36)\",\"ticks\":\"outside\"}},\"type\":\"scattercarpet\"}],\"scattergeo\":[{\"marker\":{\"colorbar\":{\"outlinewidth\":1,\"tickcolor\":\"rgb(36,36,36)\",\"ticks\":\"outside\"}},\"type\":\"scattergeo\"}],\"scattergl\":[{\"marker\":{\"colorbar\":{\"outlinewidth\":1,\"tickcolor\":\"rgb(36,36,36)\",\"ticks\":\"outside\"}},\"type\":\"scattergl\"}],\"scattermapbox\":[{\"marker\":{\"colorbar\":{\"outlinewidth\":1,\"tickcolor\":\"rgb(36,36,36)\",\"ticks\":\"outside\"}},\"type\":\"scattermapbox\"}],\"scatterpolargl\":[{\"marker\":{\"colorbar\":{\"outlinewidth\":1,\"tickcolor\":\"rgb(36,36,36)\",\"ticks\":\"outside\"}},\"type\":\"scatterpolargl\"}],\"scatterpolar\":[{\"marker\":{\"colorbar\":{\"outlinewidth\":1,\"tickcolor\":\"rgb(36,36,36)\",\"ticks\":\"outside\"}},\"type\":\"scatterpolar\"}],\"scatter\":[{\"fillpattern\":{\"fillmode\":\"overlay\",\"size\":10,\"solidity\":0.2},\"type\":\"scatter\"}],\"scatterternary\":[{\"marker\":{\"colorbar\":{\"outlinewidth\":1,\"tickcolor\":\"rgb(36,36,36)\",\"ticks\":\"outside\"}},\"type\":\"scatterternary\"}],\"surface\":[{\"colorbar\":{\"outlinewidth\":1,\"tickcolor\":\"rgb(36,36,36)\",\"ticks\":\"outside\"},\"colorscale\":[[0.0,\"#440154\"],[0.1111111111111111,\"#482878\"],[0.2222222222222222,\"#3e4989\"],[0.3333333333333333,\"#31688e\"],[0.4444444444444444,\"#26828e\"],[0.5555555555555556,\"#1f9e89\"],[0.6666666666666666,\"#35b779\"],[0.7777777777777778,\"#6ece58\"],[0.8888888888888888,\"#b5de2b\"],[1.0,\"#fde725\"]],\"type\":\"surface\"}],\"table\":[{\"cells\":{\"fill\":{\"color\":\"rgb(237,237,237)\"},\"line\":{\"color\":\"white\"}},\"header\":{\"fill\":{\"color\":\"rgb(217,217,217)\"},\"line\":{\"color\":\"white\"}},\"type\":\"table\"}]},\"layout\":{\"annotationdefaults\":{\"arrowhead\":0,\"arrowwidth\":1},\"autotypenumbers\":\"strict\",\"coloraxis\":{\"colorbar\":{\"outlinewidth\":1,\"tickcolor\":\"rgb(36,36,36)\",\"ticks\":\"outside\"}},\"colorscale\":{\"diverging\":[[0.0,\"rgb(103,0,31)\"],[0.1,\"rgb(178,24,43)\"],[0.2,\"rgb(214,96,77)\"],[0.3,\"rgb(244,165,130)\"],[0.4,\"rgb(253,219,199)\"],[0.5,\"rgb(247,247,247)\"],[0.6,\"rgb(209,229,240)\"],[0.7,\"rgb(146,197,222)\"],[0.8,\"rgb(67,147,195)\"],[0.9,\"rgb(33,102,172)\"],[1.0,\"rgb(5,48,97)\"]],\"sequential\":[[0.0,\"#440154\"],[0.1111111111111111,\"#482878\"],[0.2222222222222222,\"#3e4989\"],[0.3333333333333333,\"#31688e\"],[0.4444444444444444,\"#26828e\"],[0.5555555555555556,\"#1f9e89\"],[0.6666666666666666,\"#35b779\"],[0.7777777777777778,\"#6ece58\"],[0.8888888888888888,\"#b5de2b\"],[1.0,\"#fde725\"]],\"sequentialminus\":[[0.0,\"#440154\"],[0.1111111111111111,\"#482878\"],[0.2222222222222222,\"#3e4989\"],[0.3333333333333333,\"#31688e\"],[0.4444444444444444,\"#26828e\"],[0.5555555555555556,\"#1f9e89\"],[0.6666666666666666,\"#35b779\"],[0.7777777777777778,\"#6ece58\"],[0.8888888888888888,\"#b5de2b\"],[1.0,\"#fde725\"]]},\"colorway\":[\"#91268F\",\"#8CC63E\",\"#00A7A0\",\"#F05A28\",\"#4C4C4C\",\"#630460\",\"#9f3913\",\"#588527\",\"#00716c\",\"#3e4040\"],\"font\":{\"color\":\"rgb(36,36,36)\",\"family\":\"Poppins\",\"size\":11},\"geo\":{\"bgcolor\":\"white\",\"lakecolor\":\"white\",\"landcolor\":\"white\",\"showlakes\":true,\"showland\":true,\"subunitcolor\":\"white\"},\"hoverlabel\":{\"align\":\"left\"},\"hovermode\":\"closest\",\"mapbox\":{\"style\":\"light\"},\"paper_bgcolor\":\"white\",\"plot_bgcolor\":\"white\",\"polar\":{\"angularaxis\":{\"gridcolor\":\"rgb(232,232,232)\",\"linecolor\":\"rgb(36,36,36)\",\"showgrid\":false,\"showline\":true,\"ticks\":\"outside\"},\"bgcolor\":\"white\",\"radialaxis\":{\"gridcolor\":\"rgb(232,232,232)\",\"linecolor\":\"rgb(36,36,36)\",\"showgrid\":false,\"showline\":true,\"ticks\":\"outside\"}},\"scene\":{\"xaxis\":{\"backgroundcolor\":\"white\",\"gridcolor\":\"rgb(232,232,232)\",\"gridwidth\":2,\"linecolor\":\"rgb(36,36,36)\",\"showbackground\":true,\"showgrid\":false,\"showline\":true,\"ticks\":\"outside\",\"zeroline\":false,\"zerolinecolor\":\"rgb(36,36,36)\"},\"yaxis\":{\"backgroundcolor\":\"white\",\"gridcolor\":\"rgb(232,232,232)\",\"gridwidth\":2,\"linecolor\":\"rgb(36,36,36)\",\"showbackground\":true,\"showgrid\":false,\"showline\":true,\"ticks\":\"outside\",\"zeroline\":false,\"zerolinecolor\":\"rgb(36,36,36)\"},\"zaxis\":{\"backgroundcolor\":\"white\",\"gridcolor\":\"rgb(232,232,232)\",\"gridwidth\":2,\"linecolor\":\"rgb(36,36,36)\",\"showbackground\":true,\"showgrid\":false,\"showline\":true,\"ticks\":\"outside\",\"zeroline\":false,\"zerolinecolor\":\"rgb(36,36,36)\"}},\"shapedefaults\":{\"fillcolor\":\"black\",\"line\":{\"width\":0},\"opacity\":0.3},\"ternary\":{\"aaxis\":{\"gridcolor\":\"rgb(232,232,232)\",\"linecolor\":\"rgb(36,36,36)\",\"showgrid\":false,\"showline\":true,\"ticks\":\"outside\"},\"baxis\":{\"gridcolor\":\"rgb(232,232,232)\",\"linecolor\":\"rgb(36,36,36)\",\"showgrid\":false,\"showline\":true,\"ticks\":\"outside\"},\"bgcolor\":\"white\",\"caxis\":{\"gridcolor\":\"rgb(232,232,232)\",\"linecolor\":\"rgb(36,36,36)\",\"showgrid\":false,\"showline\":true,\"ticks\":\"outside\"}},\"title\":{\"x\":0.05},\"xaxis\":{\"automargin\":true,\"gridcolor\":\"rgb(232,232,232)\",\"linecolor\":\"rgb(36,36,36)\",\"showgrid\":false,\"showline\":true,\"ticks\":\"outside\",\"title\":{\"standoff\":15},\"zeroline\":false,\"zerolinecolor\":\"rgb(36,36,36)\"},\"yaxis\":{\"automargin\":true,\"gridcolor\":\"rgb(232,232,232)\",\"linecolor\":\"rgb(36,36,36)\",\"showgrid\":false,\"showline\":true,\"ticks\":\"outside\",\"title\":{\"standoff\":15},\"zeroline\":false,\"zerolinecolor\":\"rgb(36,36,36)\"}}},\"xaxis\":{\"anchor\":\"y\",\"domain\":[0.0,0.98],\"title\":{\"text\":\"dept_hr\"},\"dtick\":1,\"categoryorder\":\"category ascending\"},\"yaxis\":{\"anchor\":\"x\",\"domain\":[0.0,0.14166666666666666],\"title\":{\"text\":\"percentage\"},\"tickformat\":\".0%\"},\"xaxis2\":{\"anchor\":\"y2\",\"domain\":[0.0,0.98],\"matches\":\"x\",\"showticklabels\":false,\"dtick\":1,\"categoryorder\":\"category ascending\"},\"yaxis2\":{\"anchor\":\"x2\",\"domain\":[0.17166666666666666,0.31333333333333335],\"matches\":\"y\",\"title\":{\"text\":\"percentage\"},\"tickformat\":\".0%\"},\"xaxis3\":{\"anchor\":\"y3\",\"domain\":[0.0,0.98],\"matches\":\"x\",\"showticklabels\":false,\"dtick\":1,\"categoryorder\":\"category ascending\"},\"yaxis3\":{\"anchor\":\"x3\",\"domain\":[0.3433333333333333,0.485],\"matches\":\"y\",\"title\":{\"text\":\"percentage\"},\"tickformat\":\".0%\"},\"xaxis4\":{\"anchor\":\"y4\",\"domain\":[0.0,0.98],\"matches\":\"x\",\"showticklabels\":false,\"dtick\":1,\"categoryorder\":\"category ascending\"},\"yaxis4\":{\"anchor\":\"x4\",\"domain\":[0.515,0.6566666666666667],\"matches\":\"y\",\"title\":{\"text\":\"percentage\"},\"tickformat\":\".0%\"},\"xaxis5\":{\"anchor\":\"y5\",\"domain\":[0.0,0.98],\"matches\":\"x\",\"showticklabels\":false,\"dtick\":1,\"categoryorder\":\"category ascending\"},\"yaxis5\":{\"anchor\":\"x5\",\"domain\":[0.6866666666666666,0.8283333333333334],\"matches\":\"y\",\"title\":{\"text\":\"percentage\"},\"tickformat\":\".0%\"},\"xaxis6\":{\"anchor\":\"y6\",\"domain\":[0.0,0.98],\"matches\":\"x\",\"showticklabels\":false,\"dtick\":1,\"categoryorder\":\"category ascending\"},\"yaxis6\":{\"anchor\":\"x6\",\"domain\":[0.8583333333333333,1.0],\"matches\":\"y\",\"title\":{\"text\":\"percentage\"},\"tickformat\":\".0%\"},\"annotations\":[{\"font\":{},\"showarrow\":false,\"text\":\"Personal Business\",\"textangle\":90,\"x\":0.98,\"xanchor\":\"left\",\"xref\":\"paper\",\"y\":0.07083333333333333,\"yanchor\":\"middle\",\"yref\":\"paper\"},{\"font\":{},\"showarrow\":false,\"text\":\"Escort\",\"textangle\":90,\"x\":0.98,\"xanchor\":\"left\",\"xref\":\"paper\",\"y\":0.2425,\"yanchor\":\"middle\",\"yref\":\"paper\"},{\"font\":{},\"showarrow\":false,\"text\":\"Meal\",\"textangle\":90,\"x\":0.98,\"xanchor\":\"left\",\"xref\":\"paper\",\"y\":0.4141666666666667,\"yanchor\":\"middle\",\"yref\":\"paper\"},{\"font\":{},\"showarrow\":false,\"text\":\"Shop\",\"textangle\":90,\"x\":0.98,\"xanchor\":\"left\",\"xref\":\"paper\",\"y\":0.5858333333333334,\"yanchor\":\"middle\",\"yref\":\"paper\"},{\"font\":{},\"showarrow\":false,\"text\":\"School\",\"textangle\":90,\"x\":0.98,\"xanchor\":\"left\",\"xref\":\"paper\",\"y\":0.7575000000000001,\"yanchor\":\"middle\",\"yref\":\"paper\"},{\"font\":{},\"showarrow\":false,\"text\":\"Work\",\"textangle\":90,\"x\":0.98,\"xanchor\":\"left\",\"xref\":\"paper\",\"y\":0.9291666666666667,\"yanchor\":\"middle\",\"yref\":\"paper\"}],\"legend\":{\"title\":{\"text\":\"source\"},\"tracegroupgap\":0},\"title\":{\"text\":\"trip origin departure hour by purpose\"},\"barmode\":\"group\",\"height\":1500,\"width\":850},                        {\"responsive\": true}                    ).then(function(){\n",
       "                            \n",
       "var gd = document.getElementById('52c13da3-b2c6-4b0e-b797-c4c64a4a9529');\n",
       "var x = new MutationObserver(function (mutations, observer) {{\n",
       "        var display = window.getComputedStyle(gd).display;\n",
       "        if (!display || display === 'none') {{\n",
       "            console.log([gd, 'removed!']);\n",
       "            Plotly.purge(gd);\n",
       "            observer.disconnect();\n",
       "        }}\n",
       "}});\n",
       "\n",
       "// Listen for the removal of the full notebook cells\n",
       "var notebookContainer = gd.closest('#notebook-container');\n",
       "if (notebookContainer) {{\n",
       "    x.observe(notebookContainer, {childList: true});\n",
       "}}\n",
       "\n",
       "// Listen for the clearing of the current output cell\n",
       "var outputEl = gd.closest('.output');\n",
       "if (outputEl) {{\n",
       "    x.observe(outputEl, {childList: true});\n",
       "}}\n",
       "\n",
       "                        })                };                });            </script>        </div>"
      ]
     },
     "metadata": {},
     "output_type": "display_data"
    }
   ],
   "source": [
    "df_plot = df_trip.groupby(['dept_hr','dpurp_label','source'])['trexpfac'].agg(sample_count='size', trexpfac='sum').reset_index()\n",
    "df_plot['percentage'] = df_plot.groupby(['dpurp_label','source'], group_keys=False)['trexpfac']. \\\n",
    "    apply(lambda x: x / float(x.sum()))\n",
    "\n",
    "fig = px.bar(df_plot.sort_values(['source','dpurp_label']),\n",
    "             x=\"dept_hr\", y=\"percentage\", color=\"source\",barmode=\"group\",\n",
    "             facet_row='dpurp_label',\n",
    "             hover_data=['trexpfac','sample_count'],\n",
    "             title=\"trip origin departure hour by purpose\")\n",
    "fig.update_layout(height=1500, width=850)\n",
    "fig.for_each_annotation(lambda a: a.update(text = a.text.split(\"=\")[-1]))\n",
    "fig.for_each_xaxis(lambda a: a.update(dict(dtick = 1, categoryorder='category ascending')))\n",
    "fig.for_each_yaxis(lambda a: a.update(dict(tickformat=\".0%\")))\n",
    "fig.show()"
   ]
  },
  {
   "cell_type": "raw",
   "metadata": {
    "vscode": {
     "languageId": "raw"
    }
   },
   "source": [
    ":::"
   ]
  }
 ],
 "metadata": {
  "kernelspec": {
   "display_name": "summary",
   "language": "python",
   "name": "python3"
  },
  "language_info": {
   "codemirror_mode": {
    "name": "ipython",
    "version": 3
   },
   "file_extension": ".py",
   "mimetype": "text/x-python",
   "name": "python",
   "nbconvert_exporter": "python",
   "pygments_lexer": "ipython3",
   "version": "3.7.10"
  }
 },
 "nbformat": 4,
 "nbformat_minor": 2
}
