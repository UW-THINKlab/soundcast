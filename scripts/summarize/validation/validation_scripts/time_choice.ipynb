{
 "cells": [
  {
   "cell_type": "raw",
   "metadata": {},
   "source": [
    "---\n",
    "title: \"Time Choice\"\n",
    "date: today\n",
    "---"
   ]
  },
  {
   "cell_type": "code",
   "execution_count": 1,
   "metadata": {
    "ExecuteTime": {
     "end_time": "2024-07-15T04:25:53.491736Z",
     "start_time": "2024-07-15T04:25:52.116355Z"
    },
    "execution": {
     "iopub.execute_input": "2025-01-21T07:15:01.773370Z",
     "iopub.status.busy": "2025-01-21T07:15:01.771449Z",
     "iopub.status.idle": "2025-01-21T07:15:04.683882Z",
     "shell.execute_reply": "2025-01-21T07:15:04.682232Z"
    }
   },
   "outputs": [],
   "source": [
    "import os\n",
    "import pandas as pd\n",
    "import numpy as np\n",
    "# import validation_data_input\n",
    "import plotly.express as px\n",
    "import toml\n",
    "import polars as pl\n",
    "from pathlib import Path\n",
    "import util\n",
    "import math\n",
    "import psrc_theme\n",
    "\n",
    "# to show plotly figures in quarto HTML file\n",
    "import plotly.io as pio\n",
    "pio.renderers.default = \"plotly_mimetype+notebook_connected\"\n",
    "pio.templates.default = \"simple_white+psrc_color\" # set plotly template"
   ]
  },
  {
   "cell_type": "code",
   "execution_count": 2,
   "metadata": {
    "ExecuteTime": {
     "end_time": "2024-07-15T04:26:18.475538Z",
     "start_time": "2024-07-15T04:25:57.037934Z"
    },
    "execution": {
     "iopub.execute_input": "2025-01-21T07:15:04.693991Z",
     "iopub.status.busy": "2025-01-21T07:15:04.693469Z",
     "iopub.status.idle": "2025-01-21T07:15:20.222468Z",
     "shell.execute_reply": "2025-01-21T07:15:20.219893Z"
    }
   },
   "outputs": [],
   "source": [
    "# %store -r validation_data\n",
    "\n",
    "# config = validation_data.config.copy()\n",
    "# tour = validation_data.tour.copy()\n",
    "# trip = validation_data.trip.copy()\n",
    "\n",
    "config = toml.load(Path(Path.cwd(), '..\\..\\..\\..\\configuration', 'validation_configuration.toml'))\n",
    "input_config = toml.load(Path(Path.cwd(), '..\\..\\..\\..\\configuration', 'input_configuration.toml'))\n",
    "\n",
    "data = util.ValidationData(config,input_config,['trip', 'tour'])\n",
    "\n",
    "tour = data.tour.to_pandas()\n",
    "trip = data.trip.to_pandas()"
   ]
  },
  {
   "cell_type": "code",
   "execution_count": 3,
   "metadata": {
    "ExecuteTime": {
     "end_time": "2024-07-15T04:36:01.318077Z",
     "start_time": "2024-07-15T04:35:58.005548Z"
    },
    "collapsed": false,
    "execution": {
     "iopub.execute_input": "2025-01-21T07:15:20.235367Z",
     "iopub.status.busy": "2025-01-21T07:15:20.233373Z",
     "iopub.status.idle": "2025-01-21T07:15:32.449402Z",
     "shell.execute_reply": "2025-01-21T07:15:32.447410Z"
    }
   },
   "outputs": [],
   "source": [
    "# df_person = person.copy()\n",
    "df_tour = tour.copy()\n",
    "df_trip = trip.copy()\n",
    "\n",
    "# ptype_cat = {1: \"1: full time worker\",\n",
    "#              2: \"2: part time worker\",\n",
    "#              3: \"3: non-worker age 65+\",\n",
    "#              4: \"4: other non-working adult\",\n",
    "#              5: \"5: university student\",\n",
    "#              6: \"6: grade school student/child age 16+\",\n",
    "#              7: \"7: child age 5-15\",\n",
    "#              8: \"8: child age 0-4\"}\n",
    "pdpurp_cat = {1: \"Work\",\n",
    "              2: \"School\",\n",
    "              3: \"Escort\",\n",
    "              4: \"Personal Business\",\n",
    "              5: \"Shop\",\n",
    "              6: \"Meal\",\n",
    "              7: \"Social\",\n",
    "              8: \"Social\",\n",
    "              9: \"Personal Business\"}\n",
    "# df_person['pptyp_label'] = df_person['pptyp'].map(ptype_cat)\n",
    "# df_person['pptyp_label'] = df_person['pptyp_label'].astype(pd.CategoricalDtype([\"1: full time worker\",\"2: part time worker\",\"3: non-worker age 65+\",\"4: other non-working adult\",\"5: university student\",\"6: grade school student/child age 16+\",\"7: child age 5-15\",\"8: child age 0-4\"]))\n",
    "\n",
    "df_tour['pdpurp_label'] = df_tour['pdpurp'].map(pdpurp_cat)\n",
    "df_tour['pdpurp_label'] = df_tour['pdpurp_label'].astype(pd.CategoricalDtype([\"Work\",\"School\",\"Shop\",\"Meal\",\"Escort\",\"Personal Business\"]))\n",
    "\n",
    "df_tour['tlvorg_hr'] = df_tour['tlvorig'].apply(lambda row: int(math.floor(row/60)))\n",
    "\n",
    "\n",
    "df_trip['dpurp_label'] = df_trip['dpurp'].map(pdpurp_cat)\n",
    "df_trip['dpurp_label'] = df_trip['dpurp_label'].astype(pd.CategoricalDtype([\"Work\",\"School\",\"Shop\",\"Meal\",\"Escort\",\"Personal Business\"]))\n",
    "\n",
    "df_trip['dept_hr'] = df_trip['deptm'].apply(lambda row: int(math.floor(row/60)))\n",
    "\n",
    "# df_tour = df_tour.merge(df_person, how='left', on=['pno','hhno','source'])"
   ]
  },
  {
   "cell_type": "markdown",
   "metadata": {},
   "source": [
    "## departure hour"
   ]
  },
  {
   "cell_type": "raw",
   "metadata": {
    "vscode": {
     "languageId": "raw"
    }
   },
   "source": [
    ":::{.panel-tabset}\n",
    "### tour"
   ]
  },
  {
   "cell_type": "code",
   "execution_count": 4,
   "metadata": {
    "ExecuteTime": {
     "end_time": "2024-07-15T04:37:09.021826Z",
     "start_time": "2024-07-15T04:37:08.286683Z"
    },
    "collapsed": false,
    "execution": {
     "iopub.execute_input": "2025-01-21T07:15:32.462368Z",
     "iopub.status.busy": "2025-01-21T07:15:32.460374Z",
     "iopub.status.idle": "2025-01-21T07:15:33.316015Z",
     "shell.execute_reply": "2025-01-21T07:15:33.315014Z"
    }
   },
   "outputs": [
    {
     "data": {
      "text/html": [
       "        <script type=\"text/javascript\">\n",
       "        window.PlotlyConfig = {MathJaxConfig: 'local'};\n",
       "        if (window.MathJax && window.MathJax.Hub && window.MathJax.Hub.Config) {window.MathJax.Hub.Config({SVG: {font: \"STIX-Web\"}});}\n",
       "        if (typeof require !== 'undefined') {\n",
       "        require.undef(\"plotly\");\n",
       "        requirejs.config({\n",
       "            paths: {\n",
       "                'plotly': ['https://cdn.plot.ly/plotly-2.27.0.min']\n",
       "            }\n",
       "        });\n",
       "        require(['plotly'], function(Plotly) {\n",
       "            window._Plotly = Plotly;\n",
       "        });\n",
       "        }\n",
       "        </script>\n",
       "        "
      ]
     },
     "metadata": {},
     "output_type": "display_data"
    },
    {
     "data": {
      "application/vnd.plotly.v1+json": {
       "config": {
        "plotlyServerURL": "https://plot.ly"
       },
       "data": [
        {
         "alignmentgroup": "True",
         "customdata": [
          [
           3913.0,
           3913.0
          ],
          [
           2551.0,
           2551.0
          ],
          [
           994.0,
           994.0
          ],
          [
           70658.0,
           70658.0
          ],
          [
           62403.0,
           62403.0
          ],
          [
           140345.0,
           140345.0
          ],
          [
           405432.0,
           405432.0
          ],
          [
           651624.0,
           651624.0
          ],
          [
           700492.0,
           700492.0
          ],
          [
           544563.0,
           544563.0
          ],
          [
           437842.0,
           437842.0
          ],
          [
           353084.0,
           353084.0
          ],
          [
           323528.0,
           323528.0
          ],
          [
           316924.0,
           316924.0
          ],
          [
           283807.0,
           283807.0
          ],
          [
           267800.0,
           267800.0
          ],
          [
           299216.0,
           299216.0
          ],
          [
           287528.0,
           287528.0
          ],
          [
           271704.0,
           271704.0
          ],
          [
           169179.0,
           169179.0
          ],
          [
           122911.0,
           122911.0
          ],
          [
           73821.0,
           73821.0
          ],
          [
           18965.0,
           18965.0
          ],
          [
           9276.0,
           9276.0
          ]
         ],
         "hovertemplate": "source=model<br>tlvorg_hr=%{x}<br>percentage=%{y}<br>toexpfac=%{customdata[0]}<br>sample_count=%{customdata[1]}<extra></extra>",
         "legendgroup": "model",
         "marker": {
          "color": "#91268F",
          "pattern": {
           "shape": ""
          }
         },
         "name": "model",
         "offsetgroup": "model",
         "orientation": "v",
         "showlegend": true,
         "textposition": "auto",
         "type": "bar",
         "x": [
          0,
          1,
          2,
          3,
          4,
          5,
          6,
          7,
          8,
          9,
          10,
          11,
          12,
          13,
          14,
          15,
          16,
          17,
          18,
          19,
          20,
          21,
          22,
          23
         ],
         "xaxis": "x",
         "y": [
          0.0006725031622944508,
          0.00043842462739921903,
          0.00017083264587801792,
          0.012143554418962768,
          0.010724818511796734,
          0.024120229060111093,
          0.06967909585876918,
          0.11199059561128527,
          0.12038923719958203,
          0.093590682230655,
          0.07524920255183414,
          0.0606823681460705,
          0.055602760820546666,
          0.054467772094813835,
          0.048776157674751144,
          0.04602513336633119,
          0.05142440741351812,
          0.049415662981906174,
          0.046696089754165976,
          0.029075750701204422,
          0.021123955067920586,
          0.012687159709618874,
          0.0032593975141615794,
          0.0015942088764230324
         ],
         "yaxis": "y"
        },
        {
         "alignmentgroup": "True",
         "customdata": [
          [
           813.007669491988,
           3.0
          ],
          [
           343.465611943163,
           2.0
          ],
          [
           617.9592545767886,
           3.0
          ],
          [
           14927.7390869082,
           25.0
          ],
          [
           73101.81441058991,
           78.0
          ],
          [
           163636.2524842414,
           191.0
          ],
          [
           335652.13468551013,
           553.0
          ],
          [
           730811.149225795,
           1232.0
          ],
          [
           697157.1239973343,
           1310.0
          ],
          [
           433940.2731088881,
           873.0
          ],
          [
           255033.28585273135,
           740.0
          ],
          [
           267196.5649325103,
           625.0
          ],
          [
           235334.4168113649,
           650.0
          ],
          [
           203713.77330905452,
           564.0
          ],
          [
           298164.4385508458,
           602.0
          ],
          [
           329066.4993730719,
           629.0
          ],
          [
           254572.78014360956,
           576.0
          ],
          [
           328088.4841268239,
           738.0
          ],
          [
           218232.93433914718,
           539.0
          ],
          [
           137976.20783799537,
           361.0
          ],
          [
           40884.94150500457,
           149.0
          ],
          [
           8589.542691990913,
           72.0
          ],
          [
           18856.86935525195,
           32.0
          ],
          [
           4010.387836515724,
           10.0
          ]
         ],
         "hovertemplate": "source=survey<br>tlvorg_hr=%{x}<br>percentage=%{y}<br>toexpfac=%{customdata[0]}<br>sample_count=%{customdata[1]}<extra></extra>",
         "legendgroup": "survey",
         "marker": {
          "color": "#8CC63E",
          "pattern": {
           "shape": ""
          }
         },
         "name": "survey",
         "offsetgroup": "survey",
         "orientation": "v",
         "showlegend": true,
         "textposition": "auto",
         "type": "bar",
         "x": [
          0,
          1,
          2,
          3,
          4,
          5,
          6,
          7,
          8,
          9,
          10,
          11,
          12,
          13,
          14,
          15,
          16,
          17,
          18,
          19,
          20,
          21,
          22,
          23
         ],
         "xaxis": "x",
         "y": [
          0.00016096860251960926,
          6.800326939422335e-05,
          0.00012235067559133937,
          0.0029555653529054937,
          0.014473537395622875,
          0.03239858598184338,
          0.066456267364379,
          0.14469439073081844,
          0.13803118002141643,
          0.08591648266118067,
          0.05049442109857336,
          0.05290264688659259,
          0.04659421260141748,
          0.04033359417635621,
          0.059034022427566446,
          0.06515236759476259,
          0.05040324488556672,
          0.06495872889572081,
          0.04320826454967698,
          0.027318115425055217,
          0.008094870620677966,
          0.0017006563840612395,
          0.003733499721972382,
          0.0007940226763284389
         ],
         "yaxis": "y"
        }
       ],
       "layout": {
        "barmode": "group",
        "font": {
         "size": 11
        },
        "height": 400,
        "legend": {
         "title": {
          "text": "source"
         },
         "tracegroupgap": 0
        },
        "template": {
         "data": {
          "bar": [
           {
            "error_x": {
             "color": "rgb(36,36,36)"
            },
            "error_y": {
             "color": "rgb(36,36,36)"
            },
            "marker": {
             "line": {
              "color": "white",
              "width": 0.5
             },
             "pattern": {
              "fillmode": "overlay",
              "size": 10,
              "solidity": 0.2
             }
            },
            "type": "bar"
           }
          ],
          "barpolar": [
           {
            "marker": {
             "line": {
              "color": "white",
              "width": 0.5
             },
             "pattern": {
              "fillmode": "overlay",
              "size": 10,
              "solidity": 0.2
             }
            },
            "type": "barpolar"
           }
          ],
          "carpet": [
           {
            "aaxis": {
             "endlinecolor": "rgb(36,36,36)",
             "gridcolor": "white",
             "linecolor": "white",
             "minorgridcolor": "white",
             "startlinecolor": "rgb(36,36,36)"
            },
            "baxis": {
             "endlinecolor": "rgb(36,36,36)",
             "gridcolor": "white",
             "linecolor": "white",
             "minorgridcolor": "white",
             "startlinecolor": "rgb(36,36,36)"
            },
            "type": "carpet"
           }
          ],
          "choropleth": [
           {
            "colorbar": {
             "outlinewidth": 1,
             "tickcolor": "rgb(36,36,36)",
             "ticks": "outside"
            },
            "type": "choropleth"
           }
          ],
          "contour": [
           {
            "colorbar": {
             "outlinewidth": 1,
             "tickcolor": "rgb(36,36,36)",
             "ticks": "outside"
            },
            "colorscale": [
             [
              0.0,
              "#440154"
             ],
             [
              0.1111111111111111,
              "#482878"
             ],
             [
              0.2222222222222222,
              "#3e4989"
             ],
             [
              0.3333333333333333,
              "#31688e"
             ],
             [
              0.4444444444444444,
              "#26828e"
             ],
             [
              0.5555555555555556,
              "#1f9e89"
             ],
             [
              0.6666666666666666,
              "#35b779"
             ],
             [
              0.7777777777777778,
              "#6ece58"
             ],
             [
              0.8888888888888888,
              "#b5de2b"
             ],
             [
              1.0,
              "#fde725"
             ]
            ],
            "type": "contour"
           }
          ],
          "contourcarpet": [
           {
            "colorbar": {
             "outlinewidth": 1,
             "tickcolor": "rgb(36,36,36)",
             "ticks": "outside"
            },
            "type": "contourcarpet"
           }
          ],
          "heatmap": [
           {
            "colorbar": {
             "outlinewidth": 1,
             "tickcolor": "rgb(36,36,36)",
             "ticks": "outside"
            },
            "colorscale": [
             [
              0.0,
              "#440154"
             ],
             [
              0.1111111111111111,
              "#482878"
             ],
             [
              0.2222222222222222,
              "#3e4989"
             ],
             [
              0.3333333333333333,
              "#31688e"
             ],
             [
              0.4444444444444444,
              "#26828e"
             ],
             [
              0.5555555555555556,
              "#1f9e89"
             ],
             [
              0.6666666666666666,
              "#35b779"
             ],
             [
              0.7777777777777778,
              "#6ece58"
             ],
             [
              0.8888888888888888,
              "#b5de2b"
             ],
             [
              1.0,
              "#fde725"
             ]
            ],
            "type": "heatmap"
           }
          ],
          "heatmapgl": [
           {
            "colorbar": {
             "outlinewidth": 1,
             "tickcolor": "rgb(36,36,36)",
             "ticks": "outside"
            },
            "colorscale": [
             [
              0.0,
              "#440154"
             ],
             [
              0.1111111111111111,
              "#482878"
             ],
             [
              0.2222222222222222,
              "#3e4989"
             ],
             [
              0.3333333333333333,
              "#31688e"
             ],
             [
              0.4444444444444444,
              "#26828e"
             ],
             [
              0.5555555555555556,
              "#1f9e89"
             ],
             [
              0.6666666666666666,
              "#35b779"
             ],
             [
              0.7777777777777778,
              "#6ece58"
             ],
             [
              0.8888888888888888,
              "#b5de2b"
             ],
             [
              1.0,
              "#fde725"
             ]
            ],
            "type": "heatmapgl"
           }
          ],
          "histogram": [
           {
            "marker": {
             "line": {
              "color": "white",
              "width": 0.6
             }
            },
            "type": "histogram"
           }
          ],
          "histogram2d": [
           {
            "colorbar": {
             "outlinewidth": 1,
             "tickcolor": "rgb(36,36,36)",
             "ticks": "outside"
            },
            "colorscale": [
             [
              0.0,
              "#440154"
             ],
             [
              0.1111111111111111,
              "#482878"
             ],
             [
              0.2222222222222222,
              "#3e4989"
             ],
             [
              0.3333333333333333,
              "#31688e"
             ],
             [
              0.4444444444444444,
              "#26828e"
             ],
             [
              0.5555555555555556,
              "#1f9e89"
             ],
             [
              0.6666666666666666,
              "#35b779"
             ],
             [
              0.7777777777777778,
              "#6ece58"
             ],
             [
              0.8888888888888888,
              "#b5de2b"
             ],
             [
              1.0,
              "#fde725"
             ]
            ],
            "type": "histogram2d"
           }
          ],
          "histogram2dcontour": [
           {
            "colorbar": {
             "outlinewidth": 1,
             "tickcolor": "rgb(36,36,36)",
             "ticks": "outside"
            },
            "colorscale": [
             [
              0.0,
              "#440154"
             ],
             [
              0.1111111111111111,
              "#482878"
             ],
             [
              0.2222222222222222,
              "#3e4989"
             ],
             [
              0.3333333333333333,
              "#31688e"
             ],
             [
              0.4444444444444444,
              "#26828e"
             ],
             [
              0.5555555555555556,
              "#1f9e89"
             ],
             [
              0.6666666666666666,
              "#35b779"
             ],
             [
              0.7777777777777778,
              "#6ece58"
             ],
             [
              0.8888888888888888,
              "#b5de2b"
             ],
             [
              1.0,
              "#fde725"
             ]
            ],
            "type": "histogram2dcontour"
           }
          ],
          "mesh3d": [
           {
            "colorbar": {
             "outlinewidth": 1,
             "tickcolor": "rgb(36,36,36)",
             "ticks": "outside"
            },
            "type": "mesh3d"
           }
          ],
          "parcoords": [
           {
            "line": {
             "colorbar": {
              "outlinewidth": 1,
              "tickcolor": "rgb(36,36,36)",
              "ticks": "outside"
             }
            },
            "type": "parcoords"
           }
          ],
          "pie": [
           {
            "automargin": true,
            "type": "pie"
           }
          ],
          "scatter": [
           {
            "fillpattern": {
             "fillmode": "overlay",
             "size": 10,
             "solidity": 0.2
            },
            "type": "scatter"
           }
          ],
          "scatter3d": [
           {
            "line": {
             "colorbar": {
              "outlinewidth": 1,
              "tickcolor": "rgb(36,36,36)",
              "ticks": "outside"
             }
            },
            "marker": {
             "colorbar": {
              "outlinewidth": 1,
              "tickcolor": "rgb(36,36,36)",
              "ticks": "outside"
             }
            },
            "type": "scatter3d"
           }
          ],
          "scattercarpet": [
           {
            "marker": {
             "colorbar": {
              "outlinewidth": 1,
              "tickcolor": "rgb(36,36,36)",
              "ticks": "outside"
             }
            },
            "type": "scattercarpet"
           }
          ],
          "scattergeo": [
           {
            "marker": {
             "colorbar": {
              "outlinewidth": 1,
              "tickcolor": "rgb(36,36,36)",
              "ticks": "outside"
             }
            },
            "type": "scattergeo"
           }
          ],
          "scattergl": [
           {
            "marker": {
             "colorbar": {
              "outlinewidth": 1,
              "tickcolor": "rgb(36,36,36)",
              "ticks": "outside"
             }
            },
            "type": "scattergl"
           }
          ],
          "scattermapbox": [
           {
            "marker": {
             "colorbar": {
              "outlinewidth": 1,
              "tickcolor": "rgb(36,36,36)",
              "ticks": "outside"
             }
            },
            "type": "scattermapbox"
           }
          ],
          "scatterpolar": [
           {
            "marker": {
             "colorbar": {
              "outlinewidth": 1,
              "tickcolor": "rgb(36,36,36)",
              "ticks": "outside"
             }
            },
            "type": "scatterpolar"
           }
          ],
          "scatterpolargl": [
           {
            "marker": {
             "colorbar": {
              "outlinewidth": 1,
              "tickcolor": "rgb(36,36,36)",
              "ticks": "outside"
             }
            },
            "type": "scatterpolargl"
           }
          ],
          "scatterternary": [
           {
            "marker": {
             "colorbar": {
              "outlinewidth": 1,
              "tickcolor": "rgb(36,36,36)",
              "ticks": "outside"
             }
            },
            "type": "scatterternary"
           }
          ],
          "surface": [
           {
            "colorbar": {
             "outlinewidth": 1,
             "tickcolor": "rgb(36,36,36)",
             "ticks": "outside"
            },
            "colorscale": [
             [
              0.0,
              "#440154"
             ],
             [
              0.1111111111111111,
              "#482878"
             ],
             [
              0.2222222222222222,
              "#3e4989"
             ],
             [
              0.3333333333333333,
              "#31688e"
             ],
             [
              0.4444444444444444,
              "#26828e"
             ],
             [
              0.5555555555555556,
              "#1f9e89"
             ],
             [
              0.6666666666666666,
              "#35b779"
             ],
             [
              0.7777777777777778,
              "#6ece58"
             ],
             [
              0.8888888888888888,
              "#b5de2b"
             ],
             [
              1.0,
              "#fde725"
             ]
            ],
            "type": "surface"
           }
          ],
          "table": [
           {
            "cells": {
             "fill": {
              "color": "rgb(237,237,237)"
             },
             "line": {
              "color": "white"
             }
            },
            "header": {
             "fill": {
              "color": "rgb(217,217,217)"
             },
             "line": {
              "color": "white"
             }
            },
            "type": "table"
           }
          ]
         },
         "layout": {
          "annotationdefaults": {
           "arrowhead": 0,
           "arrowwidth": 1
          },
          "autotypenumbers": "strict",
          "coloraxis": {
           "colorbar": {
            "outlinewidth": 1,
            "tickcolor": "rgb(36,36,36)",
            "ticks": "outside"
           }
          },
          "colorscale": {
           "diverging": [
            [
             0.0,
             "rgb(103,0,31)"
            ],
            [
             0.1,
             "rgb(178,24,43)"
            ],
            [
             0.2,
             "rgb(214,96,77)"
            ],
            [
             0.3,
             "rgb(244,165,130)"
            ],
            [
             0.4,
             "rgb(253,219,199)"
            ],
            [
             0.5,
             "rgb(247,247,247)"
            ],
            [
             0.6,
             "rgb(209,229,240)"
            ],
            [
             0.7,
             "rgb(146,197,222)"
            ],
            [
             0.8,
             "rgb(67,147,195)"
            ],
            [
             0.9,
             "rgb(33,102,172)"
            ],
            [
             1.0,
             "rgb(5,48,97)"
            ]
           ],
           "sequential": [
            [
             0.0,
             "#440154"
            ],
            [
             0.1111111111111111,
             "#482878"
            ],
            [
             0.2222222222222222,
             "#3e4989"
            ],
            [
             0.3333333333333333,
             "#31688e"
            ],
            [
             0.4444444444444444,
             "#26828e"
            ],
            [
             0.5555555555555556,
             "#1f9e89"
            ],
            [
             0.6666666666666666,
             "#35b779"
            ],
            [
             0.7777777777777778,
             "#6ece58"
            ],
            [
             0.8888888888888888,
             "#b5de2b"
            ],
            [
             1.0,
             "#fde725"
            ]
           ],
           "sequentialminus": [
            [
             0.0,
             "#440154"
            ],
            [
             0.1111111111111111,
             "#482878"
            ],
            [
             0.2222222222222222,
             "#3e4989"
            ],
            [
             0.3333333333333333,
             "#31688e"
            ],
            [
             0.4444444444444444,
             "#26828e"
            ],
            [
             0.5555555555555556,
             "#1f9e89"
            ],
            [
             0.6666666666666666,
             "#35b779"
            ],
            [
             0.7777777777777778,
             "#6ece58"
            ],
            [
             0.8888888888888888,
             "#b5de2b"
            ],
            [
             1.0,
             "#fde725"
            ]
           ]
          },
          "colorway": [
           "#91268F",
           "#8CC63E",
           "#00A7A0",
           "#F05A28",
           "#4C4C4C",
           "#630460",
           "#9f3913",
           "#588527",
           "#00716c",
           "#3e4040"
          ],
          "font": {
           "color": "rgb(36,36,36)",
           "family": "Poppins",
           "size": 11
          },
          "geo": {
           "bgcolor": "white",
           "lakecolor": "white",
           "landcolor": "white",
           "showlakes": true,
           "showland": true,
           "subunitcolor": "white"
          },
          "hoverlabel": {
           "align": "left"
          },
          "hovermode": "closest",
          "mapbox": {
           "style": "light"
          },
          "paper_bgcolor": "white",
          "plot_bgcolor": "white",
          "polar": {
           "angularaxis": {
            "gridcolor": "rgb(232,232,232)",
            "linecolor": "rgb(36,36,36)",
            "showgrid": false,
            "showline": true,
            "ticks": "outside"
           },
           "bgcolor": "white",
           "radialaxis": {
            "gridcolor": "rgb(232,232,232)",
            "linecolor": "rgb(36,36,36)",
            "showgrid": false,
            "showline": true,
            "ticks": "outside"
           }
          },
          "scene": {
           "xaxis": {
            "backgroundcolor": "white",
            "gridcolor": "rgb(232,232,232)",
            "gridwidth": 2,
            "linecolor": "rgb(36,36,36)",
            "showbackground": true,
            "showgrid": false,
            "showline": true,
            "ticks": "outside",
            "zeroline": false,
            "zerolinecolor": "rgb(36,36,36)"
           },
           "yaxis": {
            "backgroundcolor": "white",
            "gridcolor": "rgb(232,232,232)",
            "gridwidth": 2,
            "linecolor": "rgb(36,36,36)",
            "showbackground": true,
            "showgrid": false,
            "showline": true,
            "ticks": "outside",
            "zeroline": false,
            "zerolinecolor": "rgb(36,36,36)"
           },
           "zaxis": {
            "backgroundcolor": "white",
            "gridcolor": "rgb(232,232,232)",
            "gridwidth": 2,
            "linecolor": "rgb(36,36,36)",
            "showbackground": true,
            "showgrid": false,
            "showline": true,
            "ticks": "outside",
            "zeroline": false,
            "zerolinecolor": "rgb(36,36,36)"
           }
          },
          "shapedefaults": {
           "fillcolor": "black",
           "line": {
            "width": 0
           },
           "opacity": 0.3
          },
          "ternary": {
           "aaxis": {
            "gridcolor": "rgb(232,232,232)",
            "linecolor": "rgb(36,36,36)",
            "showgrid": false,
            "showline": true,
            "ticks": "outside"
           },
           "baxis": {
            "gridcolor": "rgb(232,232,232)",
            "linecolor": "rgb(36,36,36)",
            "showgrid": false,
            "showline": true,
            "ticks": "outside"
           },
           "bgcolor": "white",
           "caxis": {
            "gridcolor": "rgb(232,232,232)",
            "linecolor": "rgb(36,36,36)",
            "showgrid": false,
            "showline": true,
            "ticks": "outside"
           }
          },
          "title": {
           "x": 0.05
          },
          "xaxis": {
           "automargin": true,
           "gridcolor": "rgb(232,232,232)",
           "linecolor": "rgb(36,36,36)",
           "showgrid": false,
           "showline": true,
           "ticks": "outside",
           "title": {
            "standoff": 15
           },
           "zeroline": false,
           "zerolinecolor": "rgb(36,36,36)"
          },
          "yaxis": {
           "automargin": true,
           "gridcolor": "rgb(232,232,232)",
           "linecolor": "rgb(36,36,36)",
           "showgrid": false,
           "showline": true,
           "ticks": "outside",
           "title": {
            "standoff": 15
           },
           "zeroline": false,
           "zerolinecolor": "rgb(36,36,36)"
          }
         }
        },
        "title": {
         "text": "tour origin departure hour"
        },
        "width": 700,
        "xaxis": {
         "anchor": "y",
         "categoryorder": "category ascending",
         "domain": [
          0.0,
          1.0
         ],
         "dtick": 1,
         "title": {
          "text": "tlvorg_hr"
         }
        },
        "yaxis": {
         "anchor": "x",
         "domain": [
          0.0,
          1.0
         ],
         "tickformat": ".0%",
         "title": {
          "text": "percentage"
         }
        }
       }
      },
      "text/html": [
       "<div>                            <div id=\"c820deba-2001-4c4d-bd5f-8fbe6939bc51\" class=\"plotly-graph-div\" style=\"height:400px; width:700px;\"></div>            <script type=\"text/javascript\">                require([\"plotly\"], function(Plotly) {                    window.PLOTLYENV=window.PLOTLYENV || {};                                    if (document.getElementById(\"c820deba-2001-4c4d-bd5f-8fbe6939bc51\")) {                    Plotly.newPlot(                        \"c820deba-2001-4c4d-bd5f-8fbe6939bc51\",                        [{\"alignmentgroup\":\"True\",\"customdata\":[[3913.0,3913.0],[2551.0,2551.0],[994.0,994.0],[70658.0,70658.0],[62403.0,62403.0],[140345.0,140345.0],[405432.0,405432.0],[651624.0,651624.0],[700492.0,700492.0],[544563.0,544563.0],[437842.0,437842.0],[353084.0,353084.0],[323528.0,323528.0],[316924.0,316924.0],[283807.0,283807.0],[267800.0,267800.0],[299216.0,299216.0],[287528.0,287528.0],[271704.0,271704.0],[169179.0,169179.0],[122911.0,122911.0],[73821.0,73821.0],[18965.0,18965.0],[9276.0,9276.0]],\"hovertemplate\":\"source=model\\u003cbr\\u003etlvorg_hr=%{x}\\u003cbr\\u003epercentage=%{y}\\u003cbr\\u003etoexpfac=%{customdata[0]}\\u003cbr\\u003esample_count=%{customdata[1]}\\u003cextra\\u003e\\u003c\\u002fextra\\u003e\",\"legendgroup\":\"model\",\"marker\":{\"color\":\"#91268F\",\"pattern\":{\"shape\":\"\"}},\"name\":\"model\",\"offsetgroup\":\"model\",\"orientation\":\"v\",\"showlegend\":true,\"textposition\":\"auto\",\"x\":[0,1,2,3,4,5,6,7,8,9,10,11,12,13,14,15,16,17,18,19,20,21,22,23],\"xaxis\":\"x\",\"y\":[0.0006725031622944508,0.00043842462739921903,0.00017083264587801792,0.012143554418962768,0.010724818511796734,0.024120229060111093,0.06967909585876918,0.11199059561128527,0.12038923719958203,0.093590682230655,0.07524920255183414,0.0606823681460705,0.055602760820546666,0.054467772094813835,0.048776157674751144,0.04602513336633119,0.05142440741351812,0.049415662981906174,0.046696089754165976,0.029075750701204422,0.021123955067920586,0.012687159709618874,0.0032593975141615794,0.0015942088764230324],\"yaxis\":\"y\",\"type\":\"bar\"},{\"alignmentgroup\":\"True\",\"customdata\":[[813.007669491988,3.0],[343.465611943163,2.0],[617.9592545767886,3.0],[14927.7390869082,25.0],[73101.81441058991,78.0],[163636.2524842414,191.0],[335652.13468551013,553.0],[730811.149225795,1232.0],[697157.1239973343,1310.0],[433940.2731088881,873.0],[255033.28585273135,740.0],[267196.5649325103,625.0],[235334.4168113649,650.0],[203713.77330905452,564.0],[298164.4385508458,602.0],[329066.4993730719,629.0],[254572.78014360956,576.0],[328088.4841268239,738.0],[218232.93433914718,539.0],[137976.20783799537,361.0],[40884.94150500457,149.0],[8589.542691990913,72.0],[18856.86935525195,32.0],[4010.387836515724,10.0]],\"hovertemplate\":\"source=survey\\u003cbr\\u003etlvorg_hr=%{x}\\u003cbr\\u003epercentage=%{y}\\u003cbr\\u003etoexpfac=%{customdata[0]}\\u003cbr\\u003esample_count=%{customdata[1]}\\u003cextra\\u003e\\u003c\\u002fextra\\u003e\",\"legendgroup\":\"survey\",\"marker\":{\"color\":\"#8CC63E\",\"pattern\":{\"shape\":\"\"}},\"name\":\"survey\",\"offsetgroup\":\"survey\",\"orientation\":\"v\",\"showlegend\":true,\"textposition\":\"auto\",\"x\":[0,1,2,3,4,5,6,7,8,9,10,11,12,13,14,15,16,17,18,19,20,21,22,23],\"xaxis\":\"x\",\"y\":[0.00016096860251960926,6.800326939422335e-05,0.00012235067559133937,0.0029555653529054937,0.014473537395622875,0.03239858598184338,0.066456267364379,0.14469439073081844,0.13803118002141643,0.08591648266118067,0.05049442109857336,0.05290264688659259,0.04659421260141748,0.04033359417635621,0.059034022427566446,0.06515236759476259,0.05040324488556672,0.06495872889572081,0.04320826454967698,0.027318115425055217,0.008094870620677966,0.0017006563840612395,0.003733499721972382,0.0007940226763284389],\"yaxis\":\"y\",\"type\":\"bar\"}],                        {\"template\":{\"data\":{\"barpolar\":[{\"marker\":{\"line\":{\"color\":\"white\",\"width\":0.5},\"pattern\":{\"fillmode\":\"overlay\",\"size\":10,\"solidity\":0.2}},\"type\":\"barpolar\"}],\"bar\":[{\"error_x\":{\"color\":\"rgb(36,36,36)\"},\"error_y\":{\"color\":\"rgb(36,36,36)\"},\"marker\":{\"line\":{\"color\":\"white\",\"width\":0.5},\"pattern\":{\"fillmode\":\"overlay\",\"size\":10,\"solidity\":0.2}},\"type\":\"bar\"}],\"carpet\":[{\"aaxis\":{\"endlinecolor\":\"rgb(36,36,36)\",\"gridcolor\":\"white\",\"linecolor\":\"white\",\"minorgridcolor\":\"white\",\"startlinecolor\":\"rgb(36,36,36)\"},\"baxis\":{\"endlinecolor\":\"rgb(36,36,36)\",\"gridcolor\":\"white\",\"linecolor\":\"white\",\"minorgridcolor\":\"white\",\"startlinecolor\":\"rgb(36,36,36)\"},\"type\":\"carpet\"}],\"choropleth\":[{\"colorbar\":{\"outlinewidth\":1,\"tickcolor\":\"rgb(36,36,36)\",\"ticks\":\"outside\"},\"type\":\"choropleth\"}],\"contourcarpet\":[{\"colorbar\":{\"outlinewidth\":1,\"tickcolor\":\"rgb(36,36,36)\",\"ticks\":\"outside\"},\"type\":\"contourcarpet\"}],\"contour\":[{\"colorbar\":{\"outlinewidth\":1,\"tickcolor\":\"rgb(36,36,36)\",\"ticks\":\"outside\"},\"colorscale\":[[0.0,\"#440154\"],[0.1111111111111111,\"#482878\"],[0.2222222222222222,\"#3e4989\"],[0.3333333333333333,\"#31688e\"],[0.4444444444444444,\"#26828e\"],[0.5555555555555556,\"#1f9e89\"],[0.6666666666666666,\"#35b779\"],[0.7777777777777778,\"#6ece58\"],[0.8888888888888888,\"#b5de2b\"],[1.0,\"#fde725\"]],\"type\":\"contour\"}],\"heatmapgl\":[{\"colorbar\":{\"outlinewidth\":1,\"tickcolor\":\"rgb(36,36,36)\",\"ticks\":\"outside\"},\"colorscale\":[[0.0,\"#440154\"],[0.1111111111111111,\"#482878\"],[0.2222222222222222,\"#3e4989\"],[0.3333333333333333,\"#31688e\"],[0.4444444444444444,\"#26828e\"],[0.5555555555555556,\"#1f9e89\"],[0.6666666666666666,\"#35b779\"],[0.7777777777777778,\"#6ece58\"],[0.8888888888888888,\"#b5de2b\"],[1.0,\"#fde725\"]],\"type\":\"heatmapgl\"}],\"heatmap\":[{\"colorbar\":{\"outlinewidth\":1,\"tickcolor\":\"rgb(36,36,36)\",\"ticks\":\"outside\"},\"colorscale\":[[0.0,\"#440154\"],[0.1111111111111111,\"#482878\"],[0.2222222222222222,\"#3e4989\"],[0.3333333333333333,\"#31688e\"],[0.4444444444444444,\"#26828e\"],[0.5555555555555556,\"#1f9e89\"],[0.6666666666666666,\"#35b779\"],[0.7777777777777778,\"#6ece58\"],[0.8888888888888888,\"#b5de2b\"],[1.0,\"#fde725\"]],\"type\":\"heatmap\"}],\"histogram2dcontour\":[{\"colorbar\":{\"outlinewidth\":1,\"tickcolor\":\"rgb(36,36,36)\",\"ticks\":\"outside\"},\"colorscale\":[[0.0,\"#440154\"],[0.1111111111111111,\"#482878\"],[0.2222222222222222,\"#3e4989\"],[0.3333333333333333,\"#31688e\"],[0.4444444444444444,\"#26828e\"],[0.5555555555555556,\"#1f9e89\"],[0.6666666666666666,\"#35b779\"],[0.7777777777777778,\"#6ece58\"],[0.8888888888888888,\"#b5de2b\"],[1.0,\"#fde725\"]],\"type\":\"histogram2dcontour\"}],\"histogram2d\":[{\"colorbar\":{\"outlinewidth\":1,\"tickcolor\":\"rgb(36,36,36)\",\"ticks\":\"outside\"},\"colorscale\":[[0.0,\"#440154\"],[0.1111111111111111,\"#482878\"],[0.2222222222222222,\"#3e4989\"],[0.3333333333333333,\"#31688e\"],[0.4444444444444444,\"#26828e\"],[0.5555555555555556,\"#1f9e89\"],[0.6666666666666666,\"#35b779\"],[0.7777777777777778,\"#6ece58\"],[0.8888888888888888,\"#b5de2b\"],[1.0,\"#fde725\"]],\"type\":\"histogram2d\"}],\"histogram\":[{\"marker\":{\"line\":{\"color\":\"white\",\"width\":0.6}},\"type\":\"histogram\"}],\"mesh3d\":[{\"colorbar\":{\"outlinewidth\":1,\"tickcolor\":\"rgb(36,36,36)\",\"ticks\":\"outside\"},\"type\":\"mesh3d\"}],\"parcoords\":[{\"line\":{\"colorbar\":{\"outlinewidth\":1,\"tickcolor\":\"rgb(36,36,36)\",\"ticks\":\"outside\"}},\"type\":\"parcoords\"}],\"pie\":[{\"automargin\":true,\"type\":\"pie\"}],\"scatter3d\":[{\"line\":{\"colorbar\":{\"outlinewidth\":1,\"tickcolor\":\"rgb(36,36,36)\",\"ticks\":\"outside\"}},\"marker\":{\"colorbar\":{\"outlinewidth\":1,\"tickcolor\":\"rgb(36,36,36)\",\"ticks\":\"outside\"}},\"type\":\"scatter3d\"}],\"scattercarpet\":[{\"marker\":{\"colorbar\":{\"outlinewidth\":1,\"tickcolor\":\"rgb(36,36,36)\",\"ticks\":\"outside\"}},\"type\":\"scattercarpet\"}],\"scattergeo\":[{\"marker\":{\"colorbar\":{\"outlinewidth\":1,\"tickcolor\":\"rgb(36,36,36)\",\"ticks\":\"outside\"}},\"type\":\"scattergeo\"}],\"scattergl\":[{\"marker\":{\"colorbar\":{\"outlinewidth\":1,\"tickcolor\":\"rgb(36,36,36)\",\"ticks\":\"outside\"}},\"type\":\"scattergl\"}],\"scattermapbox\":[{\"marker\":{\"colorbar\":{\"outlinewidth\":1,\"tickcolor\":\"rgb(36,36,36)\",\"ticks\":\"outside\"}},\"type\":\"scattermapbox\"}],\"scatterpolargl\":[{\"marker\":{\"colorbar\":{\"outlinewidth\":1,\"tickcolor\":\"rgb(36,36,36)\",\"ticks\":\"outside\"}},\"type\":\"scatterpolargl\"}],\"scatterpolar\":[{\"marker\":{\"colorbar\":{\"outlinewidth\":1,\"tickcolor\":\"rgb(36,36,36)\",\"ticks\":\"outside\"}},\"type\":\"scatterpolar\"}],\"scatter\":[{\"fillpattern\":{\"fillmode\":\"overlay\",\"size\":10,\"solidity\":0.2},\"type\":\"scatter\"}],\"scatterternary\":[{\"marker\":{\"colorbar\":{\"outlinewidth\":1,\"tickcolor\":\"rgb(36,36,36)\",\"ticks\":\"outside\"}},\"type\":\"scatterternary\"}],\"surface\":[{\"colorbar\":{\"outlinewidth\":1,\"tickcolor\":\"rgb(36,36,36)\",\"ticks\":\"outside\"},\"colorscale\":[[0.0,\"#440154\"],[0.1111111111111111,\"#482878\"],[0.2222222222222222,\"#3e4989\"],[0.3333333333333333,\"#31688e\"],[0.4444444444444444,\"#26828e\"],[0.5555555555555556,\"#1f9e89\"],[0.6666666666666666,\"#35b779\"],[0.7777777777777778,\"#6ece58\"],[0.8888888888888888,\"#b5de2b\"],[1.0,\"#fde725\"]],\"type\":\"surface\"}],\"table\":[{\"cells\":{\"fill\":{\"color\":\"rgb(237,237,237)\"},\"line\":{\"color\":\"white\"}},\"header\":{\"fill\":{\"color\":\"rgb(217,217,217)\"},\"line\":{\"color\":\"white\"}},\"type\":\"table\"}]},\"layout\":{\"annotationdefaults\":{\"arrowhead\":0,\"arrowwidth\":1},\"autotypenumbers\":\"strict\",\"coloraxis\":{\"colorbar\":{\"outlinewidth\":1,\"tickcolor\":\"rgb(36,36,36)\",\"ticks\":\"outside\"}},\"colorscale\":{\"diverging\":[[0.0,\"rgb(103,0,31)\"],[0.1,\"rgb(178,24,43)\"],[0.2,\"rgb(214,96,77)\"],[0.3,\"rgb(244,165,130)\"],[0.4,\"rgb(253,219,199)\"],[0.5,\"rgb(247,247,247)\"],[0.6,\"rgb(209,229,240)\"],[0.7,\"rgb(146,197,222)\"],[0.8,\"rgb(67,147,195)\"],[0.9,\"rgb(33,102,172)\"],[1.0,\"rgb(5,48,97)\"]],\"sequential\":[[0.0,\"#440154\"],[0.1111111111111111,\"#482878\"],[0.2222222222222222,\"#3e4989\"],[0.3333333333333333,\"#31688e\"],[0.4444444444444444,\"#26828e\"],[0.5555555555555556,\"#1f9e89\"],[0.6666666666666666,\"#35b779\"],[0.7777777777777778,\"#6ece58\"],[0.8888888888888888,\"#b5de2b\"],[1.0,\"#fde725\"]],\"sequentialminus\":[[0.0,\"#440154\"],[0.1111111111111111,\"#482878\"],[0.2222222222222222,\"#3e4989\"],[0.3333333333333333,\"#31688e\"],[0.4444444444444444,\"#26828e\"],[0.5555555555555556,\"#1f9e89\"],[0.6666666666666666,\"#35b779\"],[0.7777777777777778,\"#6ece58\"],[0.8888888888888888,\"#b5de2b\"],[1.0,\"#fde725\"]]},\"colorway\":[\"#91268F\",\"#8CC63E\",\"#00A7A0\",\"#F05A28\",\"#4C4C4C\",\"#630460\",\"#9f3913\",\"#588527\",\"#00716c\",\"#3e4040\"],\"font\":{\"color\":\"rgb(36,36,36)\",\"family\":\"Poppins\",\"size\":11},\"geo\":{\"bgcolor\":\"white\",\"lakecolor\":\"white\",\"landcolor\":\"white\",\"showlakes\":true,\"showland\":true,\"subunitcolor\":\"white\"},\"hoverlabel\":{\"align\":\"left\"},\"hovermode\":\"closest\",\"mapbox\":{\"style\":\"light\"},\"paper_bgcolor\":\"white\",\"plot_bgcolor\":\"white\",\"polar\":{\"angularaxis\":{\"gridcolor\":\"rgb(232,232,232)\",\"linecolor\":\"rgb(36,36,36)\",\"showgrid\":false,\"showline\":true,\"ticks\":\"outside\"},\"bgcolor\":\"white\",\"radialaxis\":{\"gridcolor\":\"rgb(232,232,232)\",\"linecolor\":\"rgb(36,36,36)\",\"showgrid\":false,\"showline\":true,\"ticks\":\"outside\"}},\"scene\":{\"xaxis\":{\"backgroundcolor\":\"white\",\"gridcolor\":\"rgb(232,232,232)\",\"gridwidth\":2,\"linecolor\":\"rgb(36,36,36)\",\"showbackground\":true,\"showgrid\":false,\"showline\":true,\"ticks\":\"outside\",\"zeroline\":false,\"zerolinecolor\":\"rgb(36,36,36)\"},\"yaxis\":{\"backgroundcolor\":\"white\",\"gridcolor\":\"rgb(232,232,232)\",\"gridwidth\":2,\"linecolor\":\"rgb(36,36,36)\",\"showbackground\":true,\"showgrid\":false,\"showline\":true,\"ticks\":\"outside\",\"zeroline\":false,\"zerolinecolor\":\"rgb(36,36,36)\"},\"zaxis\":{\"backgroundcolor\":\"white\",\"gridcolor\":\"rgb(232,232,232)\",\"gridwidth\":2,\"linecolor\":\"rgb(36,36,36)\",\"showbackground\":true,\"showgrid\":false,\"showline\":true,\"ticks\":\"outside\",\"zeroline\":false,\"zerolinecolor\":\"rgb(36,36,36)\"}},\"shapedefaults\":{\"fillcolor\":\"black\",\"line\":{\"width\":0},\"opacity\":0.3},\"ternary\":{\"aaxis\":{\"gridcolor\":\"rgb(232,232,232)\",\"linecolor\":\"rgb(36,36,36)\",\"showgrid\":false,\"showline\":true,\"ticks\":\"outside\"},\"baxis\":{\"gridcolor\":\"rgb(232,232,232)\",\"linecolor\":\"rgb(36,36,36)\",\"showgrid\":false,\"showline\":true,\"ticks\":\"outside\"},\"bgcolor\":\"white\",\"caxis\":{\"gridcolor\":\"rgb(232,232,232)\",\"linecolor\":\"rgb(36,36,36)\",\"showgrid\":false,\"showline\":true,\"ticks\":\"outside\"}},\"title\":{\"x\":0.05},\"xaxis\":{\"automargin\":true,\"gridcolor\":\"rgb(232,232,232)\",\"linecolor\":\"rgb(36,36,36)\",\"showgrid\":false,\"showline\":true,\"ticks\":\"outside\",\"title\":{\"standoff\":15},\"zeroline\":false,\"zerolinecolor\":\"rgb(36,36,36)\"},\"yaxis\":{\"automargin\":true,\"gridcolor\":\"rgb(232,232,232)\",\"linecolor\":\"rgb(36,36,36)\",\"showgrid\":false,\"showline\":true,\"ticks\":\"outside\",\"title\":{\"standoff\":15},\"zeroline\":false,\"zerolinecolor\":\"rgb(36,36,36)\"}}},\"xaxis\":{\"anchor\":\"y\",\"domain\":[0.0,1.0],\"title\":{\"text\":\"tlvorg_hr\"},\"dtick\":1,\"categoryorder\":\"category ascending\"},\"yaxis\":{\"anchor\":\"x\",\"domain\":[0.0,1.0],\"title\":{\"text\":\"percentage\"},\"tickformat\":\".0%\"},\"legend\":{\"title\":{\"text\":\"source\"},\"tracegroupgap\":0},\"title\":{\"text\":\"tour origin departure hour\"},\"barmode\":\"group\",\"font\":{\"size\":11},\"height\":400,\"width\":700},                        {\"responsive\": true}                    ).then(function(){\n",
       "                            \n",
       "var gd = document.getElementById('c820deba-2001-4c4d-bd5f-8fbe6939bc51');\n",
       "var x = new MutationObserver(function (mutations, observer) {{\n",
       "        var display = window.getComputedStyle(gd).display;\n",
       "        if (!display || display === 'none') {{\n",
       "            console.log([gd, 'removed!']);\n",
       "            Plotly.purge(gd);\n",
       "            observer.disconnect();\n",
       "        }}\n",
       "}});\n",
       "\n",
       "// Listen for the removal of the full notebook cells\n",
       "var notebookContainer = gd.closest('#notebook-container');\n",
       "if (notebookContainer) {{\n",
       "    x.observe(notebookContainer, {childList: true});\n",
       "}}\n",
       "\n",
       "// Listen for the clearing of the current output cell\n",
       "var outputEl = gd.closest('.output');\n",
       "if (outputEl) {{\n",
       "    x.observe(outputEl, {childList: true});\n",
       "}}\n",
       "\n",
       "                        })                };                });            </script>        </div>"
      ]
     },
     "metadata": {},
     "output_type": "display_data"
    }
   ],
   "source": [
    "df_plot = df_tour.groupby(['tlvorg_hr','source'])['toexpfac'].agg(sample_count='size', toexpfac='sum').reset_index()\n",
    "df_plot['percentage'] = df_plot.groupby(['source'], group_keys=False)['toexpfac']. \\\n",
    "    apply(lambda x: x / float(x.sum()))\n",
    "\n",
    "fig = px.bar(df_plot, x=\"tlvorg_hr\", y=\"percentage\", color=\"source\",\n",
    "             barmode=\"group\",title=\"tour origin departure hour\",\n",
    "             hover_data=['toexpfac','sample_count'])\n",
    "fig.update_layout(height=400, width=700, font=dict(size=11),\n",
    "                  xaxis = dict(dtick = 1, categoryorder='category ascending'),\n",
    "                  yaxis=dict(tickformat=\".0%\"))\n",
    "fig.show()"
   ]
  },
  {
   "cell_type": "raw",
   "metadata": {
    "vscode": {
     "languageId": "raw"
    }
   },
   "source": [
    "### trip"
   ]
  },
  {
   "cell_type": "code",
   "execution_count": 5,
   "metadata": {
    "execution": {
     "iopub.execute_input": "2025-01-21T07:15:33.327977Z",
     "iopub.status.busy": "2025-01-21T07:15:33.326002Z",
     "iopub.status.idle": "2025-01-21T07:15:34.307464Z",
     "shell.execute_reply": "2025-01-21T07:15:34.305955Z"
    }
   },
   "outputs": [
    {
     "data": {
      "application/vnd.plotly.v1+json": {
       "config": {
        "plotlyServerURL": "https://plot.ly"
       },
       "data": [
        {
         "alignmentgroup": "True",
         "customdata": [
          [
           31128.0,
           31128.0
          ],
          [
           22209.0,
           22209.0
          ],
          [
           16133.0,
           16133.0
          ],
          [
           81994.0,
           81994.0
          ],
          [
           90870.0,
           90870.0
          ],
          [
           193231.0,
           193231.0
          ],
          [
           554186.0,
           554186.0
          ],
          [
           944272.0,
           944272.0
          ],
          [
           1107387.0,
           1107387.0
          ],
          [
           1023685.0,
           1023685.0
          ],
          [
           1075221.0,
           1075221.0
          ],
          [
           1038303.0,
           1038303.0
          ],
          [
           1001337.0,
           1001337.0
          ],
          [
           1069469.0,
           1069469.0
          ],
          [
           1004874.0,
           1004874.0
          ],
          [
           1220775.0,
           1220775.0
          ],
          [
           1340127.0,
           1340127.0
          ],
          [
           1292484.0,
           1292484.0
          ],
          [
           1058196.0,
           1058196.0
          ],
          [
           795845.0,
           795845.0
          ],
          [
           628194.0,
           628194.0
          ],
          [
           346543.0,
           346543.0
          ],
          [
           205908.0,
           205908.0
          ],
          [
           147287.0,
           147287.0
          ]
         ],
         "hovertemplate": "source=model<br>dept_hr=%{x}<br>percentage=%{y}<br>trexpfac=%{customdata[0]}<br>sample_count=%{customdata[1]}<extra></extra>",
         "legendgroup": "model",
         "marker": {
          "color": "#91268F",
          "pattern": {
           "shape": ""
          }
         },
         "name": "model",
         "offsetgroup": "model",
         "orientation": "v",
         "showlegend": true,
         "textposition": "auto",
         "type": "bar",
         "x": [
          0,
          1,
          2,
          3,
          4,
          5,
          6,
          7,
          8,
          9,
          10,
          11,
          12,
          13,
          14,
          15,
          16,
          17,
          18,
          19,
          20,
          21,
          22,
          23
         ],
         "xaxis": "x",
         "y": [
          0.0019109056801560843,
          0.0013633803729949396,
          0.0009903829779606178,
          0.005033500396386468,
          0.005578385991897436,
          0.011862188880822421,
          0.03402072652476804,
          0.05796757672874409,
          0.06798098523615413,
          0.0628426330374769,
          0.06600635814453563,
          0.06374001222125106,
          0.06147071964310116,
          0.06565325066984218,
          0.06168785127348898,
          0.07494172069174196,
          0.08226857801434505,
          0.0793438388945919,
          0.0649612164969946,
          0.04885584461012012,
          0.03856397721793791,
          0.02127380452063512,
          0.012640412708480436,
          0.00904174906557277
         ],
         "yaxis": "y"
        },
        {
         "alignmentgroup": "True",
         "customdata": [
          [
           14160.308952681406,
           37.0
          ],
          [
           1900.7579340717862,
           10.0
          ],
          [
           2283.9930541930844,
           18.0
          ],
          [
           13390.245551472604,
           31.0
          ],
          [
           68943.67110386655,
           82.0
          ],
          [
           178211.93488032298,
           214.0
          ],
          [
           359682.5096202704,
           676.0
          ],
          [
           1031793.9306389304,
           1625.0
          ],
          [
           1071889.1577198128,
           1961.0
          ],
          [
           774188.8897778249,
           1565.0
          ],
          [
           575816.5334236631,
           1583.0
          ],
          [
           756903.2090077064,
           1781.0
          ],
          [
           743510.2988058317,
           1915.0
          ],
          [
           761845.4420829916,
           1816.0
          ],
          [
           1279128.2945142651,
           2135.0
          ],
          [
           1490503.309735995,
           2486.0
          ],
          [
           1270243.4395395915,
           2478.0
          ],
          [
           1183379.1799539612,
           2609.0
          ],
          [
           876197.2944875775,
           2047.0
          ],
          [
           597812.5405320821,
           1460.0
          ],
          [
           452184.8604427244,
           1035.0
          ],
          [
           200138.7390782372,
           623.0
          ],
          [
           135189.54646263077,
           276.0
          ],
          [
           63204.655036956145,
           133.0
          ]
         ],
         "hovertemplate": "source=survey<br>dept_hr=%{x}<br>percentage=%{y}<br>trexpfac=%{customdata[0]}<br>sample_count=%{customdata[1]}<extra></extra>",
         "legendgroup": "survey",
         "marker": {
          "color": "#8CC63E",
          "pattern": {
           "shape": ""
          }
         },
         "name": "survey",
         "offsetgroup": "survey",
         "orientation": "v",
         "showlegend": true,
         "textposition": "auto",
         "type": "bar",
         "x": [
          0,
          1,
          2,
          3,
          4,
          5,
          6,
          7,
          8,
          9,
          10,
          11,
          12,
          13,
          14,
          15,
          16,
          17,
          18,
          19,
          20,
          21,
          22,
          23
         ],
         "xaxis": "x",
         "y": [
          0.0010185438704902133,
          0.0001367205581109765,
          0.0001642864667264247,
          0.0009631535990059498,
          0.004959083438545965,
          0.012818694459783089,
          0.025871781238706013,
          0.07421641626415804,
          0.07710044569569192,
          0.05568701579321879,
          0.04141819239999959,
          0.05444366550654861,
          0.053480320240585175,
          0.05479915783529561,
          0.09200705212730524,
          0.10721115020513003,
          0.09136796899678254,
          0.08511986668056429,
          0.06302442881879611,
          0.043000354080963255,
          0.03252542860974764,
          0.01439587841034905,
          0.009724115791823184,
          0.004546278911672309
         ],
         "yaxis": "y"
        }
       ],
       "layout": {
        "barmode": "group",
        "font": {
         "size": 11
        },
        "height": 400,
        "legend": {
         "title": {
          "text": "source"
         },
         "tracegroupgap": 0
        },
        "template": {
         "data": {
          "bar": [
           {
            "error_x": {
             "color": "rgb(36,36,36)"
            },
            "error_y": {
             "color": "rgb(36,36,36)"
            },
            "marker": {
             "line": {
              "color": "white",
              "width": 0.5
             },
             "pattern": {
              "fillmode": "overlay",
              "size": 10,
              "solidity": 0.2
             }
            },
            "type": "bar"
           }
          ],
          "barpolar": [
           {
            "marker": {
             "line": {
              "color": "white",
              "width": 0.5
             },
             "pattern": {
              "fillmode": "overlay",
              "size": 10,
              "solidity": 0.2
             }
            },
            "type": "barpolar"
           }
          ],
          "carpet": [
           {
            "aaxis": {
             "endlinecolor": "rgb(36,36,36)",
             "gridcolor": "white",
             "linecolor": "white",
             "minorgridcolor": "white",
             "startlinecolor": "rgb(36,36,36)"
            },
            "baxis": {
             "endlinecolor": "rgb(36,36,36)",
             "gridcolor": "white",
             "linecolor": "white",
             "minorgridcolor": "white",
             "startlinecolor": "rgb(36,36,36)"
            },
            "type": "carpet"
           }
          ],
          "choropleth": [
           {
            "colorbar": {
             "outlinewidth": 1,
             "tickcolor": "rgb(36,36,36)",
             "ticks": "outside"
            },
            "type": "choropleth"
           }
          ],
          "contour": [
           {
            "colorbar": {
             "outlinewidth": 1,
             "tickcolor": "rgb(36,36,36)",
             "ticks": "outside"
            },
            "colorscale": [
             [
              0.0,
              "#440154"
             ],
             [
              0.1111111111111111,
              "#482878"
             ],
             [
              0.2222222222222222,
              "#3e4989"
             ],
             [
              0.3333333333333333,
              "#31688e"
             ],
             [
              0.4444444444444444,
              "#26828e"
             ],
             [
              0.5555555555555556,
              "#1f9e89"
             ],
             [
              0.6666666666666666,
              "#35b779"
             ],
             [
              0.7777777777777778,
              "#6ece58"
             ],
             [
              0.8888888888888888,
              "#b5de2b"
             ],
             [
              1.0,
              "#fde725"
             ]
            ],
            "type": "contour"
           }
          ],
          "contourcarpet": [
           {
            "colorbar": {
             "outlinewidth": 1,
             "tickcolor": "rgb(36,36,36)",
             "ticks": "outside"
            },
            "type": "contourcarpet"
           }
          ],
          "heatmap": [
           {
            "colorbar": {
             "outlinewidth": 1,
             "tickcolor": "rgb(36,36,36)",
             "ticks": "outside"
            },
            "colorscale": [
             [
              0.0,
              "#440154"
             ],
             [
              0.1111111111111111,
              "#482878"
             ],
             [
              0.2222222222222222,
              "#3e4989"
             ],
             [
              0.3333333333333333,
              "#31688e"
             ],
             [
              0.4444444444444444,
              "#26828e"
             ],
             [
              0.5555555555555556,
              "#1f9e89"
             ],
             [
              0.6666666666666666,
              "#35b779"
             ],
             [
              0.7777777777777778,
              "#6ece58"
             ],
             [
              0.8888888888888888,
              "#b5de2b"
             ],
             [
              1.0,
              "#fde725"
             ]
            ],
            "type": "heatmap"
           }
          ],
          "heatmapgl": [
           {
            "colorbar": {
             "outlinewidth": 1,
             "tickcolor": "rgb(36,36,36)",
             "ticks": "outside"
            },
            "colorscale": [
             [
              0.0,
              "#440154"
             ],
             [
              0.1111111111111111,
              "#482878"
             ],
             [
              0.2222222222222222,
              "#3e4989"
             ],
             [
              0.3333333333333333,
              "#31688e"
             ],
             [
              0.4444444444444444,
              "#26828e"
             ],
             [
              0.5555555555555556,
              "#1f9e89"
             ],
             [
              0.6666666666666666,
              "#35b779"
             ],
             [
              0.7777777777777778,
              "#6ece58"
             ],
             [
              0.8888888888888888,
              "#b5de2b"
             ],
             [
              1.0,
              "#fde725"
             ]
            ],
            "type": "heatmapgl"
           }
          ],
          "histogram": [
           {
            "marker": {
             "line": {
              "color": "white",
              "width": 0.6
             }
            },
            "type": "histogram"
           }
          ],
          "histogram2d": [
           {
            "colorbar": {
             "outlinewidth": 1,
             "tickcolor": "rgb(36,36,36)",
             "ticks": "outside"
            },
            "colorscale": [
             [
              0.0,
              "#440154"
             ],
             [
              0.1111111111111111,
              "#482878"
             ],
             [
              0.2222222222222222,
              "#3e4989"
             ],
             [
              0.3333333333333333,
              "#31688e"
             ],
             [
              0.4444444444444444,
              "#26828e"
             ],
             [
              0.5555555555555556,
              "#1f9e89"
             ],
             [
              0.6666666666666666,
              "#35b779"
             ],
             [
              0.7777777777777778,
              "#6ece58"
             ],
             [
              0.8888888888888888,
              "#b5de2b"
             ],
             [
              1.0,
              "#fde725"
             ]
            ],
            "type": "histogram2d"
           }
          ],
          "histogram2dcontour": [
           {
            "colorbar": {
             "outlinewidth": 1,
             "tickcolor": "rgb(36,36,36)",
             "ticks": "outside"
            },
            "colorscale": [
             [
              0.0,
              "#440154"
             ],
             [
              0.1111111111111111,
              "#482878"
             ],
             [
              0.2222222222222222,
              "#3e4989"
             ],
             [
              0.3333333333333333,
              "#31688e"
             ],
             [
              0.4444444444444444,
              "#26828e"
             ],
             [
              0.5555555555555556,
              "#1f9e89"
             ],
             [
              0.6666666666666666,
              "#35b779"
             ],
             [
              0.7777777777777778,
              "#6ece58"
             ],
             [
              0.8888888888888888,
              "#b5de2b"
             ],
             [
              1.0,
              "#fde725"
             ]
            ],
            "type": "histogram2dcontour"
           }
          ],
          "mesh3d": [
           {
            "colorbar": {
             "outlinewidth": 1,
             "tickcolor": "rgb(36,36,36)",
             "ticks": "outside"
            },
            "type": "mesh3d"
           }
          ],
          "parcoords": [
           {
            "line": {
             "colorbar": {
              "outlinewidth": 1,
              "tickcolor": "rgb(36,36,36)",
              "ticks": "outside"
             }
            },
            "type": "parcoords"
           }
          ],
          "pie": [
           {
            "automargin": true,
            "type": "pie"
           }
          ],
          "scatter": [
           {
            "fillpattern": {
             "fillmode": "overlay",
             "size": 10,
             "solidity": 0.2
            },
            "type": "scatter"
           }
          ],
          "scatter3d": [
           {
            "line": {
             "colorbar": {
              "outlinewidth": 1,
              "tickcolor": "rgb(36,36,36)",
              "ticks": "outside"
             }
            },
            "marker": {
             "colorbar": {
              "outlinewidth": 1,
              "tickcolor": "rgb(36,36,36)",
              "ticks": "outside"
             }
            },
            "type": "scatter3d"
           }
          ],
          "scattercarpet": [
           {
            "marker": {
             "colorbar": {
              "outlinewidth": 1,
              "tickcolor": "rgb(36,36,36)",
              "ticks": "outside"
             }
            },
            "type": "scattercarpet"
           }
          ],
          "scattergeo": [
           {
            "marker": {
             "colorbar": {
              "outlinewidth": 1,
              "tickcolor": "rgb(36,36,36)",
              "ticks": "outside"
             }
            },
            "type": "scattergeo"
           }
          ],
          "scattergl": [
           {
            "marker": {
             "colorbar": {
              "outlinewidth": 1,
              "tickcolor": "rgb(36,36,36)",
              "ticks": "outside"
             }
            },
            "type": "scattergl"
           }
          ],
          "scattermapbox": [
           {
            "marker": {
             "colorbar": {
              "outlinewidth": 1,
              "tickcolor": "rgb(36,36,36)",
              "ticks": "outside"
             }
            },
            "type": "scattermapbox"
           }
          ],
          "scatterpolar": [
           {
            "marker": {
             "colorbar": {
              "outlinewidth": 1,
              "tickcolor": "rgb(36,36,36)",
              "ticks": "outside"
             }
            },
            "type": "scatterpolar"
           }
          ],
          "scatterpolargl": [
           {
            "marker": {
             "colorbar": {
              "outlinewidth": 1,
              "tickcolor": "rgb(36,36,36)",
              "ticks": "outside"
             }
            },
            "type": "scatterpolargl"
           }
          ],
          "scatterternary": [
           {
            "marker": {
             "colorbar": {
              "outlinewidth": 1,
              "tickcolor": "rgb(36,36,36)",
              "ticks": "outside"
             }
            },
            "type": "scatterternary"
           }
          ],
          "surface": [
           {
            "colorbar": {
             "outlinewidth": 1,
             "tickcolor": "rgb(36,36,36)",
             "ticks": "outside"
            },
            "colorscale": [
             [
              0.0,
              "#440154"
             ],
             [
              0.1111111111111111,
              "#482878"
             ],
             [
              0.2222222222222222,
              "#3e4989"
             ],
             [
              0.3333333333333333,
              "#31688e"
             ],
             [
              0.4444444444444444,
              "#26828e"
             ],
             [
              0.5555555555555556,
              "#1f9e89"
             ],
             [
              0.6666666666666666,
              "#35b779"
             ],
             [
              0.7777777777777778,
              "#6ece58"
             ],
             [
              0.8888888888888888,
              "#b5de2b"
             ],
             [
              1.0,
              "#fde725"
             ]
            ],
            "type": "surface"
           }
          ],
          "table": [
           {
            "cells": {
             "fill": {
              "color": "rgb(237,237,237)"
             },
             "line": {
              "color": "white"
             }
            },
            "header": {
             "fill": {
              "color": "rgb(217,217,217)"
             },
             "line": {
              "color": "white"
             }
            },
            "type": "table"
           }
          ]
         },
         "layout": {
          "annotationdefaults": {
           "arrowhead": 0,
           "arrowwidth": 1
          },
          "autotypenumbers": "strict",
          "coloraxis": {
           "colorbar": {
            "outlinewidth": 1,
            "tickcolor": "rgb(36,36,36)",
            "ticks": "outside"
           }
          },
          "colorscale": {
           "diverging": [
            [
             0.0,
             "rgb(103,0,31)"
            ],
            [
             0.1,
             "rgb(178,24,43)"
            ],
            [
             0.2,
             "rgb(214,96,77)"
            ],
            [
             0.3,
             "rgb(244,165,130)"
            ],
            [
             0.4,
             "rgb(253,219,199)"
            ],
            [
             0.5,
             "rgb(247,247,247)"
            ],
            [
             0.6,
             "rgb(209,229,240)"
            ],
            [
             0.7,
             "rgb(146,197,222)"
            ],
            [
             0.8,
             "rgb(67,147,195)"
            ],
            [
             0.9,
             "rgb(33,102,172)"
            ],
            [
             1.0,
             "rgb(5,48,97)"
            ]
           ],
           "sequential": [
            [
             0.0,
             "#440154"
            ],
            [
             0.1111111111111111,
             "#482878"
            ],
            [
             0.2222222222222222,
             "#3e4989"
            ],
            [
             0.3333333333333333,
             "#31688e"
            ],
            [
             0.4444444444444444,
             "#26828e"
            ],
            [
             0.5555555555555556,
             "#1f9e89"
            ],
            [
             0.6666666666666666,
             "#35b779"
            ],
            [
             0.7777777777777778,
             "#6ece58"
            ],
            [
             0.8888888888888888,
             "#b5de2b"
            ],
            [
             1.0,
             "#fde725"
            ]
           ],
           "sequentialminus": [
            [
             0.0,
             "#440154"
            ],
            [
             0.1111111111111111,
             "#482878"
            ],
            [
             0.2222222222222222,
             "#3e4989"
            ],
            [
             0.3333333333333333,
             "#31688e"
            ],
            [
             0.4444444444444444,
             "#26828e"
            ],
            [
             0.5555555555555556,
             "#1f9e89"
            ],
            [
             0.6666666666666666,
             "#35b779"
            ],
            [
             0.7777777777777778,
             "#6ece58"
            ],
            [
             0.8888888888888888,
             "#b5de2b"
            ],
            [
             1.0,
             "#fde725"
            ]
           ]
          },
          "colorway": [
           "#91268F",
           "#8CC63E",
           "#00A7A0",
           "#F05A28",
           "#4C4C4C",
           "#630460",
           "#9f3913",
           "#588527",
           "#00716c",
           "#3e4040"
          ],
          "font": {
           "color": "rgb(36,36,36)",
           "family": "Poppins",
           "size": 11
          },
          "geo": {
           "bgcolor": "white",
           "lakecolor": "white",
           "landcolor": "white",
           "showlakes": true,
           "showland": true,
           "subunitcolor": "white"
          },
          "hoverlabel": {
           "align": "left"
          },
          "hovermode": "closest",
          "mapbox": {
           "style": "light"
          },
          "paper_bgcolor": "white",
          "plot_bgcolor": "white",
          "polar": {
           "angularaxis": {
            "gridcolor": "rgb(232,232,232)",
            "linecolor": "rgb(36,36,36)",
            "showgrid": false,
            "showline": true,
            "ticks": "outside"
           },
           "bgcolor": "white",
           "radialaxis": {
            "gridcolor": "rgb(232,232,232)",
            "linecolor": "rgb(36,36,36)",
            "showgrid": false,
            "showline": true,
            "ticks": "outside"
           }
          },
          "scene": {
           "xaxis": {
            "backgroundcolor": "white",
            "gridcolor": "rgb(232,232,232)",
            "gridwidth": 2,
            "linecolor": "rgb(36,36,36)",
            "showbackground": true,
            "showgrid": false,
            "showline": true,
            "ticks": "outside",
            "zeroline": false,
            "zerolinecolor": "rgb(36,36,36)"
           },
           "yaxis": {
            "backgroundcolor": "white",
            "gridcolor": "rgb(232,232,232)",
            "gridwidth": 2,
            "linecolor": "rgb(36,36,36)",
            "showbackground": true,
            "showgrid": false,
            "showline": true,
            "ticks": "outside",
            "zeroline": false,
            "zerolinecolor": "rgb(36,36,36)"
           },
           "zaxis": {
            "backgroundcolor": "white",
            "gridcolor": "rgb(232,232,232)",
            "gridwidth": 2,
            "linecolor": "rgb(36,36,36)",
            "showbackground": true,
            "showgrid": false,
            "showline": true,
            "ticks": "outside",
            "zeroline": false,
            "zerolinecolor": "rgb(36,36,36)"
           }
          },
          "shapedefaults": {
           "fillcolor": "black",
           "line": {
            "width": 0
           },
           "opacity": 0.3
          },
          "ternary": {
           "aaxis": {
            "gridcolor": "rgb(232,232,232)",
            "linecolor": "rgb(36,36,36)",
            "showgrid": false,
            "showline": true,
            "ticks": "outside"
           },
           "baxis": {
            "gridcolor": "rgb(232,232,232)",
            "linecolor": "rgb(36,36,36)",
            "showgrid": false,
            "showline": true,
            "ticks": "outside"
           },
           "bgcolor": "white",
           "caxis": {
            "gridcolor": "rgb(232,232,232)",
            "linecolor": "rgb(36,36,36)",
            "showgrid": false,
            "showline": true,
            "ticks": "outside"
           }
          },
          "title": {
           "x": 0.05
          },
          "xaxis": {
           "automargin": true,
           "gridcolor": "rgb(232,232,232)",
           "linecolor": "rgb(36,36,36)",
           "showgrid": false,
           "showline": true,
           "ticks": "outside",
           "title": {
            "standoff": 15
           },
           "zeroline": false,
           "zerolinecolor": "rgb(36,36,36)"
          },
          "yaxis": {
           "automargin": true,
           "gridcolor": "rgb(232,232,232)",
           "linecolor": "rgb(36,36,36)",
           "showgrid": false,
           "showline": true,
           "ticks": "outside",
           "title": {
            "standoff": 15
           },
           "zeroline": false,
           "zerolinecolor": "rgb(36,36,36)"
          }
         }
        },
        "title": {
         "text": "trip origin departure hour"
        },
        "width": 700,
        "xaxis": {
         "anchor": "y",
         "categoryorder": "category ascending",
         "domain": [
          0.0,
          1.0
         ],
         "dtick": 1,
         "title": {
          "text": "dept_hr"
         }
        },
        "yaxis": {
         "anchor": "x",
         "domain": [
          0.0,
          1.0
         ],
         "tickformat": ".0%",
         "title": {
          "text": "percentage"
         }
        }
       }
      },
      "text/html": [
       "<div>                            <div id=\"8337c896-dd27-4151-9930-80c44fee940e\" class=\"plotly-graph-div\" style=\"height:400px; width:700px;\"></div>            <script type=\"text/javascript\">                require([\"plotly\"], function(Plotly) {                    window.PLOTLYENV=window.PLOTLYENV || {};                                    if (document.getElementById(\"8337c896-dd27-4151-9930-80c44fee940e\")) {                    Plotly.newPlot(                        \"8337c896-dd27-4151-9930-80c44fee940e\",                        [{\"alignmentgroup\":\"True\",\"customdata\":[[31128.0,31128.0],[22209.0,22209.0],[16133.0,16133.0],[81994.0,81994.0],[90870.0,90870.0],[193231.0,193231.0],[554186.0,554186.0],[944272.0,944272.0],[1107387.0,1107387.0],[1023685.0,1023685.0],[1075221.0,1075221.0],[1038303.0,1038303.0],[1001337.0,1001337.0],[1069469.0,1069469.0],[1004874.0,1004874.0],[1220775.0,1220775.0],[1340127.0,1340127.0],[1292484.0,1292484.0],[1058196.0,1058196.0],[795845.0,795845.0],[628194.0,628194.0],[346543.0,346543.0],[205908.0,205908.0],[147287.0,147287.0]],\"hovertemplate\":\"source=model\\u003cbr\\u003edept_hr=%{x}\\u003cbr\\u003epercentage=%{y}\\u003cbr\\u003etrexpfac=%{customdata[0]}\\u003cbr\\u003esample_count=%{customdata[1]}\\u003cextra\\u003e\\u003c\\u002fextra\\u003e\",\"legendgroup\":\"model\",\"marker\":{\"color\":\"#91268F\",\"pattern\":{\"shape\":\"\"}},\"name\":\"model\",\"offsetgroup\":\"model\",\"orientation\":\"v\",\"showlegend\":true,\"textposition\":\"auto\",\"x\":[0,1,2,3,4,5,6,7,8,9,10,11,12,13,14,15,16,17,18,19,20,21,22,23],\"xaxis\":\"x\",\"y\":[0.0019109056801560843,0.0013633803729949396,0.0009903829779606178,0.005033500396386468,0.005578385991897436,0.011862188880822421,0.03402072652476804,0.05796757672874409,0.06798098523615413,0.0628426330374769,0.06600635814453563,0.06374001222125106,0.06147071964310116,0.06565325066984218,0.06168785127348898,0.07494172069174196,0.08226857801434505,0.0793438388945919,0.0649612164969946,0.04885584461012012,0.03856397721793791,0.02127380452063512,0.012640412708480436,0.00904174906557277],\"yaxis\":\"y\",\"type\":\"bar\"},{\"alignmentgroup\":\"True\",\"customdata\":[[14160.308952681406,37.0],[1900.7579340717862,10.0],[2283.9930541930844,18.0],[13390.245551472604,31.0],[68943.67110386655,82.0],[178211.93488032298,214.0],[359682.5096202704,676.0],[1031793.9306389304,1625.0],[1071889.1577198128,1961.0],[774188.8897778249,1565.0],[575816.5334236631,1583.0],[756903.2090077064,1781.0],[743510.2988058317,1915.0],[761845.4420829916,1816.0],[1279128.2945142651,2135.0],[1490503.309735995,2486.0],[1270243.4395395915,2478.0],[1183379.1799539612,2609.0],[876197.2944875775,2047.0],[597812.5405320821,1460.0],[452184.8604427244,1035.0],[200138.7390782372,623.0],[135189.54646263077,276.0],[63204.655036956145,133.0]],\"hovertemplate\":\"source=survey\\u003cbr\\u003edept_hr=%{x}\\u003cbr\\u003epercentage=%{y}\\u003cbr\\u003etrexpfac=%{customdata[0]}\\u003cbr\\u003esample_count=%{customdata[1]}\\u003cextra\\u003e\\u003c\\u002fextra\\u003e\",\"legendgroup\":\"survey\",\"marker\":{\"color\":\"#8CC63E\",\"pattern\":{\"shape\":\"\"}},\"name\":\"survey\",\"offsetgroup\":\"survey\",\"orientation\":\"v\",\"showlegend\":true,\"textposition\":\"auto\",\"x\":[0,1,2,3,4,5,6,7,8,9,10,11,12,13,14,15,16,17,18,19,20,21,22,23],\"xaxis\":\"x\",\"y\":[0.0010185438704902133,0.0001367205581109765,0.0001642864667264247,0.0009631535990059498,0.004959083438545965,0.012818694459783089,0.025871781238706013,0.07421641626415804,0.07710044569569192,0.05568701579321879,0.04141819239999959,0.05444366550654861,0.053480320240585175,0.05479915783529561,0.09200705212730524,0.10721115020513003,0.09136796899678254,0.08511986668056429,0.06302442881879611,0.043000354080963255,0.03252542860974764,0.01439587841034905,0.009724115791823184,0.004546278911672309],\"yaxis\":\"y\",\"type\":\"bar\"}],                        {\"template\":{\"data\":{\"barpolar\":[{\"marker\":{\"line\":{\"color\":\"white\",\"width\":0.5},\"pattern\":{\"fillmode\":\"overlay\",\"size\":10,\"solidity\":0.2}},\"type\":\"barpolar\"}],\"bar\":[{\"error_x\":{\"color\":\"rgb(36,36,36)\"},\"error_y\":{\"color\":\"rgb(36,36,36)\"},\"marker\":{\"line\":{\"color\":\"white\",\"width\":0.5},\"pattern\":{\"fillmode\":\"overlay\",\"size\":10,\"solidity\":0.2}},\"type\":\"bar\"}],\"carpet\":[{\"aaxis\":{\"endlinecolor\":\"rgb(36,36,36)\",\"gridcolor\":\"white\",\"linecolor\":\"white\",\"minorgridcolor\":\"white\",\"startlinecolor\":\"rgb(36,36,36)\"},\"baxis\":{\"endlinecolor\":\"rgb(36,36,36)\",\"gridcolor\":\"white\",\"linecolor\":\"white\",\"minorgridcolor\":\"white\",\"startlinecolor\":\"rgb(36,36,36)\"},\"type\":\"carpet\"}],\"choropleth\":[{\"colorbar\":{\"outlinewidth\":1,\"tickcolor\":\"rgb(36,36,36)\",\"ticks\":\"outside\"},\"type\":\"choropleth\"}],\"contourcarpet\":[{\"colorbar\":{\"outlinewidth\":1,\"tickcolor\":\"rgb(36,36,36)\",\"ticks\":\"outside\"},\"type\":\"contourcarpet\"}],\"contour\":[{\"colorbar\":{\"outlinewidth\":1,\"tickcolor\":\"rgb(36,36,36)\",\"ticks\":\"outside\"},\"colorscale\":[[0.0,\"#440154\"],[0.1111111111111111,\"#482878\"],[0.2222222222222222,\"#3e4989\"],[0.3333333333333333,\"#31688e\"],[0.4444444444444444,\"#26828e\"],[0.5555555555555556,\"#1f9e89\"],[0.6666666666666666,\"#35b779\"],[0.7777777777777778,\"#6ece58\"],[0.8888888888888888,\"#b5de2b\"],[1.0,\"#fde725\"]],\"type\":\"contour\"}],\"heatmapgl\":[{\"colorbar\":{\"outlinewidth\":1,\"tickcolor\":\"rgb(36,36,36)\",\"ticks\":\"outside\"},\"colorscale\":[[0.0,\"#440154\"],[0.1111111111111111,\"#482878\"],[0.2222222222222222,\"#3e4989\"],[0.3333333333333333,\"#31688e\"],[0.4444444444444444,\"#26828e\"],[0.5555555555555556,\"#1f9e89\"],[0.6666666666666666,\"#35b779\"],[0.7777777777777778,\"#6ece58\"],[0.8888888888888888,\"#b5de2b\"],[1.0,\"#fde725\"]],\"type\":\"heatmapgl\"}],\"heatmap\":[{\"colorbar\":{\"outlinewidth\":1,\"tickcolor\":\"rgb(36,36,36)\",\"ticks\":\"outside\"},\"colorscale\":[[0.0,\"#440154\"],[0.1111111111111111,\"#482878\"],[0.2222222222222222,\"#3e4989\"],[0.3333333333333333,\"#31688e\"],[0.4444444444444444,\"#26828e\"],[0.5555555555555556,\"#1f9e89\"],[0.6666666666666666,\"#35b779\"],[0.7777777777777778,\"#6ece58\"],[0.8888888888888888,\"#b5de2b\"],[1.0,\"#fde725\"]],\"type\":\"heatmap\"}],\"histogram2dcontour\":[{\"colorbar\":{\"outlinewidth\":1,\"tickcolor\":\"rgb(36,36,36)\",\"ticks\":\"outside\"},\"colorscale\":[[0.0,\"#440154\"],[0.1111111111111111,\"#482878\"],[0.2222222222222222,\"#3e4989\"],[0.3333333333333333,\"#31688e\"],[0.4444444444444444,\"#26828e\"],[0.5555555555555556,\"#1f9e89\"],[0.6666666666666666,\"#35b779\"],[0.7777777777777778,\"#6ece58\"],[0.8888888888888888,\"#b5de2b\"],[1.0,\"#fde725\"]],\"type\":\"histogram2dcontour\"}],\"histogram2d\":[{\"colorbar\":{\"outlinewidth\":1,\"tickcolor\":\"rgb(36,36,36)\",\"ticks\":\"outside\"},\"colorscale\":[[0.0,\"#440154\"],[0.1111111111111111,\"#482878\"],[0.2222222222222222,\"#3e4989\"],[0.3333333333333333,\"#31688e\"],[0.4444444444444444,\"#26828e\"],[0.5555555555555556,\"#1f9e89\"],[0.6666666666666666,\"#35b779\"],[0.7777777777777778,\"#6ece58\"],[0.8888888888888888,\"#b5de2b\"],[1.0,\"#fde725\"]],\"type\":\"histogram2d\"}],\"histogram\":[{\"marker\":{\"line\":{\"color\":\"white\",\"width\":0.6}},\"type\":\"histogram\"}],\"mesh3d\":[{\"colorbar\":{\"outlinewidth\":1,\"tickcolor\":\"rgb(36,36,36)\",\"ticks\":\"outside\"},\"type\":\"mesh3d\"}],\"parcoords\":[{\"line\":{\"colorbar\":{\"outlinewidth\":1,\"tickcolor\":\"rgb(36,36,36)\",\"ticks\":\"outside\"}},\"type\":\"parcoords\"}],\"pie\":[{\"automargin\":true,\"type\":\"pie\"}],\"scatter3d\":[{\"line\":{\"colorbar\":{\"outlinewidth\":1,\"tickcolor\":\"rgb(36,36,36)\",\"ticks\":\"outside\"}},\"marker\":{\"colorbar\":{\"outlinewidth\":1,\"tickcolor\":\"rgb(36,36,36)\",\"ticks\":\"outside\"}},\"type\":\"scatter3d\"}],\"scattercarpet\":[{\"marker\":{\"colorbar\":{\"outlinewidth\":1,\"tickcolor\":\"rgb(36,36,36)\",\"ticks\":\"outside\"}},\"type\":\"scattercarpet\"}],\"scattergeo\":[{\"marker\":{\"colorbar\":{\"outlinewidth\":1,\"tickcolor\":\"rgb(36,36,36)\",\"ticks\":\"outside\"}},\"type\":\"scattergeo\"}],\"scattergl\":[{\"marker\":{\"colorbar\":{\"outlinewidth\":1,\"tickcolor\":\"rgb(36,36,36)\",\"ticks\":\"outside\"}},\"type\":\"scattergl\"}],\"scattermapbox\":[{\"marker\":{\"colorbar\":{\"outlinewidth\":1,\"tickcolor\":\"rgb(36,36,36)\",\"ticks\":\"outside\"}},\"type\":\"scattermapbox\"}],\"scatterpolargl\":[{\"marker\":{\"colorbar\":{\"outlinewidth\":1,\"tickcolor\":\"rgb(36,36,36)\",\"ticks\":\"outside\"}},\"type\":\"scatterpolargl\"}],\"scatterpolar\":[{\"marker\":{\"colorbar\":{\"outlinewidth\":1,\"tickcolor\":\"rgb(36,36,36)\",\"ticks\":\"outside\"}},\"type\":\"scatterpolar\"}],\"scatter\":[{\"fillpattern\":{\"fillmode\":\"overlay\",\"size\":10,\"solidity\":0.2},\"type\":\"scatter\"}],\"scatterternary\":[{\"marker\":{\"colorbar\":{\"outlinewidth\":1,\"tickcolor\":\"rgb(36,36,36)\",\"ticks\":\"outside\"}},\"type\":\"scatterternary\"}],\"surface\":[{\"colorbar\":{\"outlinewidth\":1,\"tickcolor\":\"rgb(36,36,36)\",\"ticks\":\"outside\"},\"colorscale\":[[0.0,\"#440154\"],[0.1111111111111111,\"#482878\"],[0.2222222222222222,\"#3e4989\"],[0.3333333333333333,\"#31688e\"],[0.4444444444444444,\"#26828e\"],[0.5555555555555556,\"#1f9e89\"],[0.6666666666666666,\"#35b779\"],[0.7777777777777778,\"#6ece58\"],[0.8888888888888888,\"#b5de2b\"],[1.0,\"#fde725\"]],\"type\":\"surface\"}],\"table\":[{\"cells\":{\"fill\":{\"color\":\"rgb(237,237,237)\"},\"line\":{\"color\":\"white\"}},\"header\":{\"fill\":{\"color\":\"rgb(217,217,217)\"},\"line\":{\"color\":\"white\"}},\"type\":\"table\"}]},\"layout\":{\"annotationdefaults\":{\"arrowhead\":0,\"arrowwidth\":1},\"autotypenumbers\":\"strict\",\"coloraxis\":{\"colorbar\":{\"outlinewidth\":1,\"tickcolor\":\"rgb(36,36,36)\",\"ticks\":\"outside\"}},\"colorscale\":{\"diverging\":[[0.0,\"rgb(103,0,31)\"],[0.1,\"rgb(178,24,43)\"],[0.2,\"rgb(214,96,77)\"],[0.3,\"rgb(244,165,130)\"],[0.4,\"rgb(253,219,199)\"],[0.5,\"rgb(247,247,247)\"],[0.6,\"rgb(209,229,240)\"],[0.7,\"rgb(146,197,222)\"],[0.8,\"rgb(67,147,195)\"],[0.9,\"rgb(33,102,172)\"],[1.0,\"rgb(5,48,97)\"]],\"sequential\":[[0.0,\"#440154\"],[0.1111111111111111,\"#482878\"],[0.2222222222222222,\"#3e4989\"],[0.3333333333333333,\"#31688e\"],[0.4444444444444444,\"#26828e\"],[0.5555555555555556,\"#1f9e89\"],[0.6666666666666666,\"#35b779\"],[0.7777777777777778,\"#6ece58\"],[0.8888888888888888,\"#b5de2b\"],[1.0,\"#fde725\"]],\"sequentialminus\":[[0.0,\"#440154\"],[0.1111111111111111,\"#482878\"],[0.2222222222222222,\"#3e4989\"],[0.3333333333333333,\"#31688e\"],[0.4444444444444444,\"#26828e\"],[0.5555555555555556,\"#1f9e89\"],[0.6666666666666666,\"#35b779\"],[0.7777777777777778,\"#6ece58\"],[0.8888888888888888,\"#b5de2b\"],[1.0,\"#fde725\"]]},\"colorway\":[\"#91268F\",\"#8CC63E\",\"#00A7A0\",\"#F05A28\",\"#4C4C4C\",\"#630460\",\"#9f3913\",\"#588527\",\"#00716c\",\"#3e4040\"],\"font\":{\"color\":\"rgb(36,36,36)\",\"family\":\"Poppins\",\"size\":11},\"geo\":{\"bgcolor\":\"white\",\"lakecolor\":\"white\",\"landcolor\":\"white\",\"showlakes\":true,\"showland\":true,\"subunitcolor\":\"white\"},\"hoverlabel\":{\"align\":\"left\"},\"hovermode\":\"closest\",\"mapbox\":{\"style\":\"light\"},\"paper_bgcolor\":\"white\",\"plot_bgcolor\":\"white\",\"polar\":{\"angularaxis\":{\"gridcolor\":\"rgb(232,232,232)\",\"linecolor\":\"rgb(36,36,36)\",\"showgrid\":false,\"showline\":true,\"ticks\":\"outside\"},\"bgcolor\":\"white\",\"radialaxis\":{\"gridcolor\":\"rgb(232,232,232)\",\"linecolor\":\"rgb(36,36,36)\",\"showgrid\":false,\"showline\":true,\"ticks\":\"outside\"}},\"scene\":{\"xaxis\":{\"backgroundcolor\":\"white\",\"gridcolor\":\"rgb(232,232,232)\",\"gridwidth\":2,\"linecolor\":\"rgb(36,36,36)\",\"showbackground\":true,\"showgrid\":false,\"showline\":true,\"ticks\":\"outside\",\"zeroline\":false,\"zerolinecolor\":\"rgb(36,36,36)\"},\"yaxis\":{\"backgroundcolor\":\"white\",\"gridcolor\":\"rgb(232,232,232)\",\"gridwidth\":2,\"linecolor\":\"rgb(36,36,36)\",\"showbackground\":true,\"showgrid\":false,\"showline\":true,\"ticks\":\"outside\",\"zeroline\":false,\"zerolinecolor\":\"rgb(36,36,36)\"},\"zaxis\":{\"backgroundcolor\":\"white\",\"gridcolor\":\"rgb(232,232,232)\",\"gridwidth\":2,\"linecolor\":\"rgb(36,36,36)\",\"showbackground\":true,\"showgrid\":false,\"showline\":true,\"ticks\":\"outside\",\"zeroline\":false,\"zerolinecolor\":\"rgb(36,36,36)\"}},\"shapedefaults\":{\"fillcolor\":\"black\",\"line\":{\"width\":0},\"opacity\":0.3},\"ternary\":{\"aaxis\":{\"gridcolor\":\"rgb(232,232,232)\",\"linecolor\":\"rgb(36,36,36)\",\"showgrid\":false,\"showline\":true,\"ticks\":\"outside\"},\"baxis\":{\"gridcolor\":\"rgb(232,232,232)\",\"linecolor\":\"rgb(36,36,36)\",\"showgrid\":false,\"showline\":true,\"ticks\":\"outside\"},\"bgcolor\":\"white\",\"caxis\":{\"gridcolor\":\"rgb(232,232,232)\",\"linecolor\":\"rgb(36,36,36)\",\"showgrid\":false,\"showline\":true,\"ticks\":\"outside\"}},\"title\":{\"x\":0.05},\"xaxis\":{\"automargin\":true,\"gridcolor\":\"rgb(232,232,232)\",\"linecolor\":\"rgb(36,36,36)\",\"showgrid\":false,\"showline\":true,\"ticks\":\"outside\",\"title\":{\"standoff\":15},\"zeroline\":false,\"zerolinecolor\":\"rgb(36,36,36)\"},\"yaxis\":{\"automargin\":true,\"gridcolor\":\"rgb(232,232,232)\",\"linecolor\":\"rgb(36,36,36)\",\"showgrid\":false,\"showline\":true,\"ticks\":\"outside\",\"title\":{\"standoff\":15},\"zeroline\":false,\"zerolinecolor\":\"rgb(36,36,36)\"}}},\"xaxis\":{\"anchor\":\"y\",\"domain\":[0.0,1.0],\"title\":{\"text\":\"dept_hr\"},\"dtick\":1,\"categoryorder\":\"category ascending\"},\"yaxis\":{\"anchor\":\"x\",\"domain\":[0.0,1.0],\"title\":{\"text\":\"percentage\"},\"tickformat\":\".0%\"},\"legend\":{\"title\":{\"text\":\"source\"},\"tracegroupgap\":0},\"title\":{\"text\":\"trip origin departure hour\"},\"barmode\":\"group\",\"font\":{\"size\":11},\"height\":400,\"width\":700},                        {\"responsive\": true}                    ).then(function(){\n",
       "                            \n",
       "var gd = document.getElementById('8337c896-dd27-4151-9930-80c44fee940e');\n",
       "var x = new MutationObserver(function (mutations, observer) {{\n",
       "        var display = window.getComputedStyle(gd).display;\n",
       "        if (!display || display === 'none') {{\n",
       "            console.log([gd, 'removed!']);\n",
       "            Plotly.purge(gd);\n",
       "            observer.disconnect();\n",
       "        }}\n",
       "}});\n",
       "\n",
       "// Listen for the removal of the full notebook cells\n",
       "var notebookContainer = gd.closest('#notebook-container');\n",
       "if (notebookContainer) {{\n",
       "    x.observe(notebookContainer, {childList: true});\n",
       "}}\n",
       "\n",
       "// Listen for the clearing of the current output cell\n",
       "var outputEl = gd.closest('.output');\n",
       "if (outputEl) {{\n",
       "    x.observe(outputEl, {childList: true});\n",
       "}}\n",
       "\n",
       "                        })                };                });            </script>        </div>"
      ]
     },
     "metadata": {},
     "output_type": "display_data"
    }
   ],
   "source": [
    "df_plot = df_trip.groupby(['dept_hr','source'])['trexpfac'].agg(sample_count='size', trexpfac='sum').reset_index()\n",
    "df_plot['percentage'] = df_plot.groupby(['source'], group_keys=False)['trexpfac']. \\\n",
    "    apply(lambda x: x / float(x.sum()))\n",
    "\n",
    "fig = px.bar(df_plot, x=\"dept_hr\", y=\"percentage\", color=\"source\",\n",
    "             barmode=\"group\",title=\"trip origin departure hour\",\n",
    "             hover_data=['trexpfac','sample_count'])\n",
    "fig.update_layout(height=400, width=700, font=dict(size=11),\n",
    "                  xaxis = dict(dtick = 1, categoryorder='category ascending'),\n",
    "                  yaxis=dict(tickformat=\".0%\"))\n",
    "fig.show()"
   ]
  },
  {
   "cell_type": "raw",
   "metadata": {
    "vscode": {
     "languageId": "raw"
    }
   },
   "source": [
    ":::"
   ]
  },
  {
   "cell_type": "markdown",
   "metadata": {
    "collapsed": false
   },
   "source": [
    "## time choice by purpose"
   ]
  },
  {
   "cell_type": "raw",
   "metadata": {
    "vscode": {
     "languageId": "raw"
    }
   },
   "source": [
    ":::{.panel-tabset}\n",
    "### tour"
   ]
  },
  {
   "cell_type": "code",
   "execution_count": 6,
   "metadata": {
    "ExecuteTime": {
     "end_time": "2024-07-15T04:43:21.363175Z",
     "start_time": "2024-07-15T04:43:20.456962Z"
    },
    "collapsed": false,
    "execution": {
     "iopub.execute_input": "2025-01-21T07:15:34.321587Z",
     "iopub.status.busy": "2025-01-21T07:15:34.318951Z",
     "iopub.status.idle": "2025-01-21T07:15:35.221079Z",
     "shell.execute_reply": "2025-01-21T07:15:35.218349Z"
    }
   },
   "outputs": [
    {
     "data": {
      "application/vnd.plotly.v1+json": {
       "config": {
        "plotlyServerURL": "https://plot.ly"
       },
       "data": [
        {
         "alignmentgroup": "True",
         "customdata": [
          [
           1640.0,
           1640.0
          ],
          [
           985.0,
           985.0
          ],
          [
           391.0,
           391.0
          ],
          [
           45584.0,
           45584.0
          ],
          [
           45967.0,
           45967.0
          ],
          [
           103407.0,
           103407.0
          ],
          [
           254848.0,
           254848.0
          ],
          [
           321653.0,
           321653.0
          ],
          [
           260335.0,
           260335.0
          ],
          [
           136732.0,
           136732.0
          ],
          [
           82654.0,
           82654.0
          ],
          [
           65891.0,
           65891.0
          ],
          [
           53183.0,
           53183.0
          ],
          [
           42742.0,
           42742.0
          ],
          [
           37209.0,
           37209.0
          ],
          [
           33179.0,
           33179.0
          ],
          [
           31503.0,
           31503.0
          ],
          [
           29326.0,
           29326.0
          ],
          [
           24450.0,
           24450.0
          ],
          [
           13136.0,
           13136.0
          ],
          [
           10431.0,
           10431.0
          ],
          [
           7128.0,
           7128.0
          ],
          [
           3327.0,
           3327.0
          ],
          [
           2417.0,
           2417.0
          ]
         ],
         "hovertemplate": "source=model<br>pdpurp_label=Work<br>tlvorg_hr=%{x}<br>percentage=%{y}<br>toexpfac=%{customdata[0]}<br>sample_count=%{customdata[1]}<extra></extra>",
         "legendgroup": "model",
         "marker": {
          "color": "#91268F",
          "pattern": {
           "shape": ""
          }
         },
         "name": "model",
         "offsetgroup": "model",
         "orientation": "v",
         "showlegend": true,
         "textposition": "auto",
         "type": "bar",
         "x": [
          0,
          1,
          2,
          3,
          4,
          5,
          6,
          7,
          8,
          9,
          10,
          11,
          12,
          13,
          14,
          15,
          16,
          17,
          18,
          19,
          20,
          21,
          22,
          23
         ],
         "xaxis": "x6",
         "y": [
          0.0010198256595598085,
          0.0006125172406502508,
          0.0002431413615170031,
          0.028346178576447747,
          0.028584345178649825,
          0.06430311705981775,
          0.1584759327362793,
          0.20001828224048235,
          0.1618879957814041,
          0.08502609883105593,
          0.05139796955198561,
          0.04097398325247276,
          0.03307157808071298,
          0.026578895329820326,
          0.0231382274186347,
          0.020632192413740782,
          0.019589980337263807,
          0.0182362239586896,
          0.015204108156242267,
          0.00816855479510832,
          0.006486464301749001,
          0.004432510549598972,
          0.0020688780300948065,
          0.001502999158021986
         ],
         "yaxis": "y6"
        },
        {
         "alignmentgroup": "True",
         "customdata": [
          [
           0.0,
           0.0
          ],
          [
           0.0,
           0.0
          ],
          [
           0.0,
           0.0
          ],
          [
           3439.0,
           3439.0
          ],
          [
           3562.0,
           3562.0
          ],
          [
           11587.0,
           11587.0
          ],
          [
           67321.0,
           67321.0
          ],
          [
           159603.0,
           159603.0
          ],
          [
           165337.0,
           165337.0
          ],
          [
           80177.0,
           80177.0
          ],
          [
           36576.0,
           36576.0
          ],
          [
           22634.0,
           22634.0
          ],
          [
           14785.0,
           14785.0
          ],
          [
           10021.0,
           10021.0
          ],
          [
           7523.0,
           7523.0
          ],
          [
           5603.0,
           5603.0
          ],
          [
           4951.0,
           4951.0
          ],
          [
           4509.0,
           4509.0
          ],
          [
           3589.0,
           3589.0
          ],
          [
           1238.0,
           1238.0
          ],
          [
           1141.0,
           1141.0
          ],
          [
           679.0,
           679.0
          ],
          [
           6.0,
           6.0
          ],
          [
           1.0,
           1.0
          ]
         ],
         "hovertemplate": "source=model<br>pdpurp_label=School<br>tlvorg_hr=%{x}<br>percentage=%{y}<br>toexpfac=%{customdata[0]}<br>sample_count=%{customdata[1]}<extra></extra>",
         "legendgroup": "model",
         "marker": {
          "color": "#91268F",
          "pattern": {
           "shape": ""
          }
         },
         "name": "model",
         "offsetgroup": "model",
         "orientation": "v",
         "showlegend": false,
         "textposition": "auto",
         "type": "bar",
         "x": [
          0,
          1,
          2,
          3,
          4,
          5,
          6,
          7,
          8,
          9,
          10,
          11,
          12,
          13,
          14,
          15,
          16,
          17,
          18,
          19,
          20,
          21,
          22,
          23
         ],
         "xaxis": "x5",
         "y": [
          0.0,
          0.0,
          0.0,
          0.005691051528921927,
          0.005894598879331173,
          0.01917482235115393,
          0.11140659493415327,
          0.26412006314932435,
          0.27360901036271146,
          0.13268143019318795,
          0.06052803161437872,
          0.03745602218831605,
          0.024467053461794327,
          0.01658331706057768,
          0.012449485505111851,
          0.009272161010918743,
          0.008193194568099001,
          0.0074617479918316285,
          0.005939280005030764,
          0.002048712356151598,
          0.0018881912749345504,
          0.0011236475685193338,
          9.929139044353464e-06,
          1.654856507392244e-06
         ],
         "yaxis": "y5"
        },
        {
         "alignmentgroup": "True",
         "customdata": [
          [
           305.0,
           305.0
          ],
          [
           280.0,
           280.0
          ],
          [
           104.0,
           104.0
          ],
          [
           1190.0,
           1190.0
          ],
          [
           912.0,
           912.0
          ],
          [
           2098.0,
           2098.0
          ],
          [
           10778.0,
           10778.0
          ],
          [
           31450.0,
           31450.0
          ],
          [
           54914.0,
           54914.0
          ],
          [
           67151.0,
           67151.0
          ],
          [
           67263.0,
           67263.0
          ],
          [
           55932.0,
           55932.0
          ],
          [
           53769.0,
           53769.0
          ],
          [
           59021.0,
           59021.0
          ],
          [
           54088.0,
           54088.0
          ],
          [
           51201.0,
           51201.0
          ],
          [
           56892.0,
           56892.0
          ],
          [
           51310.0,
           51310.0
          ],
          [
           49374.0,
           49374.0
          ],
          [
           31798.0,
           31798.0
          ],
          [
           18758.0,
           18758.0
          ],
          [
           8976.0,
           8976.0
          ],
          [
           2411.0,
           2411.0
          ],
          [
           1158.0,
           1158.0
          ]
         ],
         "hovertemplate": "source=model<br>pdpurp_label=Shop<br>tlvorg_hr=%{x}<br>percentage=%{y}<br>toexpfac=%{customdata[0]}<br>sample_count=%{customdata[1]}<extra></extra>",
         "legendgroup": "model",
         "marker": {
          "color": "#91268F",
          "pattern": {
           "shape": ""
          }
         },
         "name": "model",
         "offsetgroup": "model",
         "orientation": "v",
         "showlegend": false,
         "textposition": "auto",
         "type": "bar",
         "x": [
          0,
          1,
          2,
          3,
          4,
          5,
          6,
          7,
          8,
          9,
          10,
          11,
          12,
          13,
          14,
          15,
          16,
          17,
          18,
          19,
          20,
          21,
          22,
          23
         ],
         "xaxis": "x4",
         "y": [
          0.00041716076281606766,
          0.0003829672576672097,
          0.0001422449814192493,
          0.001627610845085641,
          0.00124737906783034,
          0.002869518952092164,
          0.014741503939775663,
          0.04301542947726337,
          0.07510808566977555,
          0.09184512257003856,
          0.09199830947310544,
          0.07650044519943704,
          0.07354202313395784,
          0.08072539469562993,
          0.07397833225965728,
          0.07002966628506715,
          0.07781347579715318,
          0.07017874996751618,
          0.0675308049287886,
          0.04349140306893547,
          0.02565607078329114,
          0.012276836088645979,
          0.003297621636555866,
          0.0015838431584951028
         ],
         "yaxis": "y4"
        },
        {
         "alignmentgroup": "True",
         "customdata": [
          [
           384.0,
           384.0
          ],
          [
           292.0,
           292.0
          ],
          [
           108.0,
           108.0
          ],
          [
           1155.0,
           1155.0
          ],
          [
           812.0,
           812.0
          ],
          [
           1897.0,
           1897.0
          ],
          [
           5806.0,
           5806.0
          ],
          [
           10105.0,
           10105.0
          ],
          [
           19453.0,
           19453.0
          ],
          [
           25996.0,
           25996.0
          ],
          [
           31694.0,
           31694.0
          ],
          [
           30395.0,
           30395.0
          ],
          [
           31848.0,
           31848.0
          ],
          [
           29003.0,
           29003.0
          ],
          [
           26919.0,
           26919.0
          ],
          [
           24739.0,
           24739.0
          ],
          [
           30740.0,
           30740.0
          ],
          [
           31149.0,
           31149.0
          ],
          [
           32173.0,
           32173.0
          ],
          [
           20478.0,
           20478.0
          ],
          [
           14875.0,
           14875.0
          ],
          [
           9908.0,
           9908.0
          ],
          [
           2348.0,
           2348.0
          ],
          [
           991.0,
           991.0
          ]
         ],
         "hovertemplate": "source=model<br>pdpurp_label=Meal<br>tlvorg_hr=%{x}<br>percentage=%{y}<br>toexpfac=%{customdata[0]}<br>sample_count=%{customdata[1]}<extra></extra>",
         "legendgroup": "model",
         "marker": {
          "color": "#91268F",
          "pattern": {
           "shape": ""
          }
         },
         "name": "model",
         "offsetgroup": "model",
         "orientation": "v",
         "showlegend": false,
         "textposition": "auto",
         "type": "bar",
         "x": [
          0,
          1,
          2,
          3,
          4,
          5,
          6,
          7,
          8,
          9,
          10,
          11,
          12,
          13,
          14,
          15,
          16,
          17,
          18,
          19,
          20,
          21,
          22,
          23
         ],
         "xaxis": "x3",
         "y": [
          0.0010019098907292025,
          0.0007618689794086645,
          0.0002817871567675882,
          0.0030135570932089293,
          0.002118621956437793,
          0.004949539225815878,
          0.015148668816598307,
          0.026365363140152583,
          0.050755607042591605,
          0.06782721229009465,
          0.08269409394992538,
          0.079304820647693,
          0.08309590156235323,
          0.07567289729379964,
          0.07023544882432137,
          0.06454752288216078,
          0.08020497406514501,
          0.08127211246438523,
          0.08394387217299644,
          0.053429975891543253,
          0.0388109625640544,
          0.02585136249308578,
          0.006126261519354603,
          0.002585658077376666
         ],
         "yaxis": "y3"
        },
        {
         "alignmentgroup": "True",
         "customdata": [
          [
           242.0,
           242.0
          ],
          [
           202.0,
           202.0
          ],
          [
           109.0,
           109.0
          ],
          [
           5951.0,
           5951.0
          ],
          [
           3352.0,
           3352.0
          ],
          [
           5890.0,
           5890.0
          ],
          [
           19730.0,
           19730.0
          ],
          [
           39955.0,
           39955.0
          ],
          [
           62139.0,
           62139.0
          ],
          [
           72797.0,
           72797.0
          ],
          [
           64972.0,
           64972.0
          ],
          [
           48325.0,
           48325.0
          ],
          [
           43489.0,
           43489.0
          ],
          [
           45010.0,
           45010.0
          ],
          [
           40610.0,
           40610.0
          ],
          [
           39054.0,
           39054.0
          ],
          [
           38338.0,
           38338.0
          ],
          [
           30916.0,
           30916.0
          ],
          [
           26451.0,
           26451.0
          ],
          [
           17592.0,
           17592.0
          ],
          [
           12694.0,
           12694.0
          ],
          [
           7064.0,
           7064.0
          ],
          [
           2076.0,
           2076.0
          ],
          [
           1039.0,
           1039.0
          ]
         ],
         "hovertemplate": "source=model<br>pdpurp_label=Escort<br>tlvorg_hr=%{x}<br>percentage=%{y}<br>toexpfac=%{customdata[0]}<br>sample_count=%{customdata[1]}<extra></extra>",
         "legendgroup": "model",
         "marker": {
          "color": "#91268F",
          "pattern": {
           "shape": ""
          }
         },
         "name": "model",
         "offsetgroup": "model",
         "orientation": "v",
         "showlegend": false,
         "textposition": "auto",
         "type": "bar",
         "x": [
          0,
          1,
          2,
          3,
          4,
          5,
          6,
          7,
          8,
          9,
          10,
          11,
          12,
          13,
          14,
          15,
          16,
          17,
          18,
          19,
          20,
          21,
          22,
          23
         ],
         "xaxis": "x2",
         "y": [
          0.00038535215932560186,
          0.0003216575875362462,
          0.00017356770812599424,
          0.009476159917961392,
          0.005337605115948006,
          0.009379025695982625,
          0.03141734753509969,
          0.06362291539609266,
          0.09894792491046932,
          0.11591934356374314,
          0.10345909295745043,
          0.07695100454301533,
          0.06925033081368223,
          0.07167231690597248,
          0.06466591400914336,
          0.06218819516653742,
          0.06104806233150795,
          0.049229534535993005,
          0.04211962796000618,
          0.028012872672958627,
          0.020213472357352026,
          0.011248461378000214,
          0.00330574827586756,
          0.0016544665022285138
         ],
         "yaxis": "y2"
        },
        {
         "alignmentgroup": "True",
         "customdata": [
          [
           176.0,
           176.0
          ],
          [
           104.0,
           104.0
          ],
          [
           48.0,
           48.0
          ],
          [
           2471.0,
           2471.0
          ],
          [
           1445.0,
           1445.0
          ],
          [
           3152.0,
           3152.0
          ],
          [
           10032.0,
           10032.0
          ],
          [
           20558.0,
           20558.0
          ],
          [
           33989.0,
           33989.0
          ],
          [
           41486.0,
           41486.0
          ],
          [
           39443.0,
           39443.0
          ],
          [
           31518.0,
           31518.0
          ],
          [
           29302.0,
           29302.0
          ],
          [
           30264.0,
           30264.0
          ],
          [
           25726.0,
           25726.0
          ],
          [
           23751.0,
           23751.0
          ],
          [
           26504.0,
           26504.0
          ],
          [
           24335.0,
           24335.0
          ],
          [
           21687.0,
           21687.0
          ],
          [
           13116.0,
           13116.0
          ],
          [
           9342.0,
           9342.0
          ],
          [
           5417.0,
           5417.0
          ],
          [
           1208.0,
           1208.0
          ],
          [
           565.0,
           565.0
          ]
         ],
         "hovertemplate": "source=model<br>pdpurp_label=Personal Business<br>tlvorg_hr=%{x}<br>percentage=%{y}<br>toexpfac=%{customdata[0]}<br>sample_count=%{customdata[1]}<extra></extra>",
         "legendgroup": "model",
         "marker": {
          "color": "#91268F",
          "pattern": {
           "shape": ""
          }
         },
         "name": "model",
         "offsetgroup": "model",
         "orientation": "v",
         "showlegend": false,
         "textposition": "auto",
         "type": "bar",
         "x": [
          0,
          1,
          2,
          3,
          4,
          5,
          6,
          7,
          8,
          9,
          10,
          11,
          12,
          13,
          14,
          15,
          16,
          17,
          18,
          19,
          20,
          21,
          22,
          23
         ],
         "xaxis": "x",
         "y": [
          0.0004448499768728563,
          0.00026286589542486965,
          0.00012132272096532444,
          0.006245592573027431,
          0.0036523194123936216,
          0.007966858676722973,
          0.02535644868175281,
          0.05196151036677375,
          0.0859091242268836,
          0.10485821670765522,
          0.09969441839656859,
          0.07966353165385617,
          0.07406246603595702,
          0.07649397556863706,
          0.06502392332404035,
          0.060031998867654604,
          0.06699036242635331,
          0.06150809197273272,
          0.05481512186614565,
          0.033151433503774905,
          0.023612434567876272,
          0.01369177457227422,
          0.003053288477627332,
          0.0014280695280293398
         ],
         "yaxis": "y"
        },
        {
         "alignmentgroup": "True",
         "customdata": [
          [
           0.0,
           0.0
          ],
          [
           290.035564242689,
           1.0
          ],
          [
           0.0,
           0.0
          ],
          [
           14788.625070075419,
           21.0
          ],
          [
           62334.98080849343,
           65.0
          ],
          [
           110560.94845318867,
           135.0
          ],
          [
           231832.64991962648,
           369.0
          ],
          [
           345802.41903784144,
           614.0
          ],
          [
           258891.1706490516,
           504.0
          ],
          [
           138775.75284678483,
           292.0
          ],
          [
           41934.64180856641,
           170.0
          ],
          [
           37958.570447343416,
           99.0
          ],
          [
           31180.959769409063,
           106.0
          ],
          [
           24948.05578014202,
           69.0
          ],
          [
           27287.01473768373,
           62.0
          ],
          [
           27505.41111581074,
           50.0
          ],
          [
           19075.531444671185,
           33.0
          ],
          [
           12319.99798778966,
           34.0
          ],
          [
           1955.108794526273,
           10.0
          ],
          [
           745.7762566027517,
           7.0
          ],
          [
           270.8142398817476,
           7.0
          ],
          [
           113.8011265835064,
           3.0
          ],
          [
           387.3586482889782,
           6.0
          ],
          [
           235.31298890314352,
           1.0
          ]
         ],
         "hovertemplate": "source=survey<br>pdpurp_label=Work<br>tlvorg_hr=%{x}<br>percentage=%{y}<br>toexpfac=%{customdata[0]}<br>sample_count=%{customdata[1]}<extra></extra>",
         "legendgroup": "survey",
         "marker": {
          "color": "#8CC63E",
          "pattern": {
           "shape": ""
          }
         },
         "name": "survey",
         "offsetgroup": "survey",
         "orientation": "v",
         "showlegend": true,
         "textposition": "auto",
         "type": "bar",
         "x": [
          0,
          1,
          2,
          3,
          4,
          5,
          6,
          7,
          8,
          9,
          10,
          11,
          12,
          13,
          14,
          15,
          16,
          17,
          18,
          19,
          20,
          21,
          22,
          23
         ],
         "xaxis": "x6",
         "y": [
          0.0,
          0.00020877960062651538,
          0.0,
          0.010645464269209695,
          0.04487129856726463,
          0.07958634563736036,
          0.16688273449771066,
          0.24892289030455797,
          0.18636057738289077,
          0.09989652935028323,
          0.030186290402243875,
          0.02732414970916648,
          0.022445345090029815,
          0.01795864288500742,
          0.0196423223272594,
          0.019799533077336524,
          0.013731356867065229,
          0.00886844434518356,
          0.001407368211441237,
          0.0005368406092432679,
          0.00019494329598550197,
          8.191875993204477e-05,
          0.00027883678368949635,
          0.00016938802651222915
         ],
         "yaxis": "y6"
        },
        {
         "alignmentgroup": "True",
         "customdata": [
          [
           0.0,
           0.0
          ],
          [
           0.0,
           0.0
          ],
          [
           0.0,
           0.0
          ],
          [
           0.0,
           0.0
          ],
          [
           86.688593033636,
           1.0
          ],
          [
           454.392198263691,
           4.0
          ],
          [
           35841.941662739446,
           28.0
          ],
          [
           184810.37813662863,
           229.0
          ],
          [
           178463.91097304702,
           262.0
          ],
          [
           54742.69479601804,
           55.0
          ],
          [
           11578.782726445686,
           19.0
          ],
          [
           4313.592683769604,
           14.0
          ],
          [
           5558.5039639001925,
           9.0
          ],
          [
           3238.946058029637,
           11.0
          ],
          [
           2722.2703378752167,
           6.0
          ],
          [
           1054.0446466650703,
           4.0
          ],
          [
           3913.0500727283707,
           7.0
          ],
          [
           869.3783619234035,
           5.0
          ],
          [
           1513.89214241086,
           1.0
          ],
          [
           0.0,
           0.0
          ],
          [
           0.0,
           0.0
          ],
          [
           0.0,
           0.0
          ],
          [
           0.0,
           0.0
          ],
          [
           0.0,
           0.0
          ]
         ],
         "hovertemplate": "source=survey<br>pdpurp_label=School<br>tlvorg_hr=%{x}<br>percentage=%{y}<br>toexpfac=%{customdata[0]}<br>sample_count=%{customdata[1]}<extra></extra>",
         "legendgroup": "survey",
         "marker": {
          "color": "#8CC63E",
          "pattern": {
           "shape": ""
          }
         },
         "name": "survey",
         "offsetgroup": "survey",
         "orientation": "v",
         "showlegend": false,
         "textposition": "auto",
         "type": "bar",
         "x": [
          0,
          1,
          2,
          3,
          4,
          5,
          6,
          7,
          8,
          9,
          10,
          11,
          12,
          13,
          14,
          15,
          16,
          17,
          18,
          19,
          20,
          21,
          22,
          23
         ],
         "xaxis": "x5",
         "y": [
          0.0,
          0.0,
          0.0,
          0.0,
          0.00017721840660148827,
          0.0009289187715527204,
          0.07327206001035919,
          0.3778098085417518,
          0.3648356586689744,
          0.1119110693267067,
          0.023670627857224024,
          0.008818323096429466,
          0.011363308378857094,
          0.006621411645814416,
          0.00556516601243662,
          0.0021547946071328416,
          0.007999489604955163,
          0.0017772793702407535,
          0.0030948657009632987,
          0.0,
          0.0,
          0.0,
          0.0,
          0.0
         ],
         "yaxis": "y5"
        },
        {
         "alignmentgroup": "True",
         "customdata": [
          [
           143.521368637738,
           1.0
          ],
          [
           0.0,
           0.0
          ],
          [
           570.896774611867,
           1.0
          ],
          [
           0.0,
           0.0
          ],
          [
           0.0,
           0.0
          ],
          [
           776.7637534339301,
           5.0
          ],
          [
           4769.603818802843,
           8.0
          ],
          [
           12107.898756094188,
           36.0
          ],
          [
           18154.74250641554,
           53.0
          ],
          [
           53830.42047654876,
           115.0
          ],
          [
           62551.662332100495,
           163.0
          ],
          [
           71298.68910586352,
           122.0
          ],
          [
           59180.63170434407,
           124.0
          ],
          [
           59428.21451426868,
           135.0
          ],
          [
           62755.07549026258,
           154.0
          ],
          [
           68685.48809386697,
           111.0
          ],
          [
           55073.59917634842,
           110.0
          ],
          [
           28436.43160983523,
           119.0
          ],
          [
           62362.95808194445,
           102.0
          ],
          [
           20444.191353382026,
           89.0
          ],
          [
           7282.428149155887,
           32.0
          ],
          [
           2019.503056430456,
           14.0
          ],
          [
           2349.3900106379,
           7.0
          ],
          [
           628.325555652825,
           3.0
          ]
         ],
         "hovertemplate": "source=survey<br>pdpurp_label=Shop<br>tlvorg_hr=%{x}<br>percentage=%{y}<br>toexpfac=%{customdata[0]}<br>sample_count=%{customdata[1]}<extra></extra>",
         "legendgroup": "survey",
         "marker": {
          "color": "#8CC63E",
          "pattern": {
           "shape": ""
          }
         },
         "name": "survey",
         "offsetgroup": "survey",
         "orientation": "v",
         "showlegend": false,
         "textposition": "auto",
         "type": "bar",
         "x": [
          0,
          1,
          2,
          3,
          4,
          5,
          6,
          7,
          8,
          9,
          10,
          11,
          12,
          13,
          14,
          15,
          16,
          17,
          18,
          19,
          20,
          21,
          22,
          23
         ],
         "xaxis": "x4",
         "y": [
          0.00021983805293221423,
          0.0,
          0.0008744679384485282,
          0.0,
          0.0,
          0.0011898035307498658,
          0.007305813947679731,
          0.018546206135747707,
          0.027808425198132234,
          0.08245444520499931,
          0.09581315859293237,
          0.10921136788498331,
          0.09064960130097681,
          0.09102883488403088,
          0.09612473555917504,
          0.10520861186439476,
          0.08435867721870446,
          0.043557344922102975,
          0.09552411191418274,
          0.031315275652404405,
          0.01115481854810168,
          0.0030933625008616986,
          0.003598664996156005,
          0.0009624341523032851
         ],
         "yaxis": "y4"
        },
        {
         "alignmentgroup": "True",
         "customdata": [
          [
           632.62215829592,
           1.0
          ],
          [
           0.0,
           0.0
          ],
          [
           0.0,
           0.0
          ],
          [
           0.0,
           0.0
          ],
          [
           23.312448148228,
           1.0
          ],
          [
           46.07273363740228,
           2.0
          ],
          [
           2925.777734452038,
           8.0
          ],
          [
           23356.464399636094,
           20.0
          ],
          [
           14130.041614476766,
           44.0
          ],
          [
           15870.600300674021,
           49.0
          ],
          [
           22019.72015918588,
           57.0
          ],
          [
           34250.98114834558,
           106.0
          ],
          [
           38166.71534632754,
           116.0
          ],
          [
           13881.241923716083,
           61.0
          ],
          [
           13340.120241994082,
           38.0
          ],
          [
           31104.060703891097,
           56.0
          ],
          [
           18198.037158506493,
           57.0
          ],
          [
           29709.86656119252,
           96.0
          ],
          [
           40049.22701963642,
           104.0
          ],
          [
           34982.764543347,
           55.0
          ],
          [
           13824.595015197257,
           32.0
          ],
          [
           3917.0406076992076,
           11.0
          ],
          [
           64.4328417659313,
           2.0
          ],
          [
           592.2696401845194,
           2.0
          ]
         ],
         "hovertemplate": "source=survey<br>pdpurp_label=Meal<br>tlvorg_hr=%{x}<br>percentage=%{y}<br>toexpfac=%{customdata[0]}<br>sample_count=%{customdata[1]}<extra></extra>",
         "legendgroup": "survey",
         "marker": {
          "color": "#8CC63E",
          "pattern": {
           "shape": ""
          }
         },
         "name": "survey",
         "offsetgroup": "survey",
         "orientation": "v",
         "showlegend": false,
         "textposition": "auto",
         "type": "bar",
         "x": [
          0,
          1,
          2,
          3,
          4,
          5,
          6,
          7,
          8,
          9,
          10,
          11,
          12,
          13,
          14,
          15,
          16,
          17,
          18,
          19,
          20,
          21,
          22,
          23
         ],
         "xaxis": "x3",
         "y": [
          0.0018019010231773063,
          0.0,
          0.0,
          0.0,
          6.64009687618475e-05,
          0.00013122920971569464,
          0.008333508120391282,
          0.0665263404824055,
          0.04024667190167216,
          0.04520431436871315,
          0.06271888482659695,
          0.09755724987925792,
          0.10871045620519505,
          0.039538014432962114,
          0.037996734698808064,
          0.08859385981401827,
          0.051833565020959795,
          0.08462276929925756,
          0.11407242411257237,
          0.09964159237486242,
          0.03937666674527623,
          0.01115692737961085,
          0.0001835244023336036,
          0.001686964733451739
         ],
         "yaxis": "y3"
        },
        {
         "alignmentgroup": "True",
         "customdata": [
          [
           0.0,
           0.0
          ],
          [
           0.0,
           0.0
          ],
          [
           0.0,
           0.0
          ],
          [
           0.0,
           0.0
          ],
          [
           4054.1074151579,
           1.0
          ],
          [
           3621.6853178441725,
           8.0
          ],
          [
           14008.043944164965,
           15.0
          ],
          [
           79706.7588885024,
           112.0
          ],
          [
           107385.84328893693,
           150.0
          ],
          [
           32796.21169392769,
           46.0
          ],
          [
           5778.952525156871,
           27.0
          ],
          [
           9936.136797937104,
           23.0
          ],
          [
           13460.375487800951,
           38.0
          ],
          [
           40000.633169023255,
           47.0
          ],
          [
           56443.052668007535,
           72.0
          ],
          [
           67075.08161255954,
           81.0
          ],
          [
           38015.74994991364,
           55.0
          ],
          [
           50697.1829269029,
           53.0
          ],
          [
           3506.97842117303,
           17.0
          ],
          [
           9894.69890599117,
           16.0
          ],
          [
           2107.841073937623,
           8.0
          ],
          [
           330.2706023061876,
           5.0
          ],
          [
           6096.135066820443,
           5.0
          ],
          [
           0.0,
           0.0
          ]
         ],
         "hovertemplate": "source=survey<br>pdpurp_label=Escort<br>tlvorg_hr=%{x}<br>percentage=%{y}<br>toexpfac=%{customdata[0]}<br>sample_count=%{customdata[1]}<extra></extra>",
         "legendgroup": "survey",
         "marker": {
          "color": "#8CC63E",
          "pattern": {
           "shape": ""
          }
         },
         "name": "survey",
         "offsetgroup": "survey",
         "orientation": "v",
         "showlegend": false,
         "textposition": "auto",
         "type": "bar",
         "x": [
          0,
          1,
          2,
          3,
          4,
          5,
          6,
          7,
          8,
          9,
          10,
          11,
          12,
          13,
          14,
          15,
          16,
          17,
          18,
          19,
          20,
          21,
          22,
          23
         ],
         "xaxis": "x2",
         "y": [
          0.0,
          0.0,
          0.0,
          0.0,
          0.007439879451771301,
          0.006646321722080276,
          0.02570680735050115,
          0.14627354850161559,
          0.19706871256280656,
          0.06018584030736416,
          0.01060522224545003,
          0.01823426279150074,
          0.0247017557133266,
          0.07340700635098162,
          0.10358124853078148,
          0.12309257508800577,
          0.06976445563296022,
          0.09303673802778735,
          0.006435817806883236,
          0.01815821820529649,
          0.003868196346982406,
          0.0006060948110143337,
          0.011187298552890811,
          0.0
         ],
         "yaxis": "y2"
        },
        {
         "alignmentgroup": "True",
         "customdata": [
          [
           0.0,
           0.0
          ],
          [
           0.0,
           0.0
          ],
          [
           0.0,
           0.0
          ],
          [
           0.0,
           0.0
          ],
          [
           0.0,
           0.0
          ],
          [
           2325.255872414626,
           5.0
          ],
          [
           6446.83996860513,
           21.0
          ],
          [
           37494.19187984278,
           62.0
          ],
          [
           21983.97446917663,
           68.0
          ],
          [
           48225.42231837043,
           89.0
          ],
          [
           27457.449132175087,
           93.0
          ],
          [
           27892.063700452854,
           73.0
          ],
          [
           28210.82733993562,
           84.0
          ],
          [
           22478.414619897256,
           86.0
          ],
          [
           35846.579441331574,
           81.0
          ],
          [
           31185.913641812193,
           68.0
          ],
          [
           9833.272916917174,
           53.0
          ],
          [
           30678.220711815993,
           36.0
          ],
          [
           2633.6235605644374,
           22.0
          ],
          [
           13166.944073262279,
           15.0
          ],
          [
           6.85398522000551,
           1.0
          ],
          [
           29.4730659624188,
           1.0
          ],
          [
           197.424677262663,
           1.0
          ],
          [
           0.0,
           0.0
          ]
         ],
         "hovertemplate": "source=survey<br>pdpurp_label=Personal Business<br>tlvorg_hr=%{x}<br>percentage=%{y}<br>toexpfac=%{customdata[0]}<br>sample_count=%{customdata[1]}<extra></extra>",
         "legendgroup": "survey",
         "marker": {
          "color": "#8CC63E",
          "pattern": {
           "shape": ""
          }
         },
         "name": "survey",
         "offsetgroup": "survey",
         "orientation": "v",
         "showlegend": false,
         "textposition": "auto",
         "type": "bar",
         "x": [
          0,
          1,
          2,
          3,
          4,
          5,
          6,
          7,
          8,
          9,
          10,
          11,
          12,
          13,
          14,
          15,
          16,
          17,
          18,
          19,
          20,
          21,
          22,
          23
         ],
         "xaxis": "x",
         "y": [
          0.0,
          0.0,
          0.0,
          0.0,
          0.0,
          0.006718591774857995,
          0.01862749235503178,
          0.1083356770140178,
          0.0635204717895928,
          0.13934248250743983,
          0.07933552349507571,
          0.08059129835336357,
          0.08151233366468555,
          0.06494910662036588,
          0.10357506743601037,
          0.09010854477177718,
          0.028412248012485895,
          0.08864161737505849,
          0.007609589035767554,
          0.038044553805930956,
          1.9803897399174516e-05,
          8.515944456010593e-05,
          0.0005704386465793658,
          0.0
         ],
         "yaxis": "y"
        }
       ],
       "layout": {
        "annotations": [
         {
          "font": {},
          "showarrow": false,
          "text": "Personal Business",
          "textangle": 90,
          "x": 0.98,
          "xanchor": "left",
          "xref": "paper",
          "y": 0.07083333333333333,
          "yanchor": "middle",
          "yref": "paper"
         },
         {
          "font": {},
          "showarrow": false,
          "text": "Escort",
          "textangle": 90,
          "x": 0.98,
          "xanchor": "left",
          "xref": "paper",
          "y": 0.2425,
          "yanchor": "middle",
          "yref": "paper"
         },
         {
          "font": {},
          "showarrow": false,
          "text": "Meal",
          "textangle": 90,
          "x": 0.98,
          "xanchor": "left",
          "xref": "paper",
          "y": 0.4141666666666667,
          "yanchor": "middle",
          "yref": "paper"
         },
         {
          "font": {},
          "showarrow": false,
          "text": "Shop",
          "textangle": 90,
          "x": 0.98,
          "xanchor": "left",
          "xref": "paper",
          "y": 0.5858333333333334,
          "yanchor": "middle",
          "yref": "paper"
         },
         {
          "font": {},
          "showarrow": false,
          "text": "School",
          "textangle": 90,
          "x": 0.98,
          "xanchor": "left",
          "xref": "paper",
          "y": 0.7575000000000001,
          "yanchor": "middle",
          "yref": "paper"
         },
         {
          "font": {},
          "showarrow": false,
          "text": "Work",
          "textangle": 90,
          "x": 0.98,
          "xanchor": "left",
          "xref": "paper",
          "y": 0.9291666666666667,
          "yanchor": "middle",
          "yref": "paper"
         }
        ],
        "barmode": "group",
        "height": 1500,
        "legend": {
         "title": {
          "text": "source"
         },
         "tracegroupgap": 0
        },
        "template": {
         "data": {
          "bar": [
           {
            "error_x": {
             "color": "rgb(36,36,36)"
            },
            "error_y": {
             "color": "rgb(36,36,36)"
            },
            "marker": {
             "line": {
              "color": "white",
              "width": 0.5
             },
             "pattern": {
              "fillmode": "overlay",
              "size": 10,
              "solidity": 0.2
             }
            },
            "type": "bar"
           }
          ],
          "barpolar": [
           {
            "marker": {
             "line": {
              "color": "white",
              "width": 0.5
             },
             "pattern": {
              "fillmode": "overlay",
              "size": 10,
              "solidity": 0.2
             }
            },
            "type": "barpolar"
           }
          ],
          "carpet": [
           {
            "aaxis": {
             "endlinecolor": "rgb(36,36,36)",
             "gridcolor": "white",
             "linecolor": "white",
             "minorgridcolor": "white",
             "startlinecolor": "rgb(36,36,36)"
            },
            "baxis": {
             "endlinecolor": "rgb(36,36,36)",
             "gridcolor": "white",
             "linecolor": "white",
             "minorgridcolor": "white",
             "startlinecolor": "rgb(36,36,36)"
            },
            "type": "carpet"
           }
          ],
          "choropleth": [
           {
            "colorbar": {
             "outlinewidth": 1,
             "tickcolor": "rgb(36,36,36)",
             "ticks": "outside"
            },
            "type": "choropleth"
           }
          ],
          "contour": [
           {
            "colorbar": {
             "outlinewidth": 1,
             "tickcolor": "rgb(36,36,36)",
             "ticks": "outside"
            },
            "colorscale": [
             [
              0.0,
              "#440154"
             ],
             [
              0.1111111111111111,
              "#482878"
             ],
             [
              0.2222222222222222,
              "#3e4989"
             ],
             [
              0.3333333333333333,
              "#31688e"
             ],
             [
              0.4444444444444444,
              "#26828e"
             ],
             [
              0.5555555555555556,
              "#1f9e89"
             ],
             [
              0.6666666666666666,
              "#35b779"
             ],
             [
              0.7777777777777778,
              "#6ece58"
             ],
             [
              0.8888888888888888,
              "#b5de2b"
             ],
             [
              1.0,
              "#fde725"
             ]
            ],
            "type": "contour"
           }
          ],
          "contourcarpet": [
           {
            "colorbar": {
             "outlinewidth": 1,
             "tickcolor": "rgb(36,36,36)",
             "ticks": "outside"
            },
            "type": "contourcarpet"
           }
          ],
          "heatmap": [
           {
            "colorbar": {
             "outlinewidth": 1,
             "tickcolor": "rgb(36,36,36)",
             "ticks": "outside"
            },
            "colorscale": [
             [
              0.0,
              "#440154"
             ],
             [
              0.1111111111111111,
              "#482878"
             ],
             [
              0.2222222222222222,
              "#3e4989"
             ],
             [
              0.3333333333333333,
              "#31688e"
             ],
             [
              0.4444444444444444,
              "#26828e"
             ],
             [
              0.5555555555555556,
              "#1f9e89"
             ],
             [
              0.6666666666666666,
              "#35b779"
             ],
             [
              0.7777777777777778,
              "#6ece58"
             ],
             [
              0.8888888888888888,
              "#b5de2b"
             ],
             [
              1.0,
              "#fde725"
             ]
            ],
            "type": "heatmap"
           }
          ],
          "heatmapgl": [
           {
            "colorbar": {
             "outlinewidth": 1,
             "tickcolor": "rgb(36,36,36)",
             "ticks": "outside"
            },
            "colorscale": [
             [
              0.0,
              "#440154"
             ],
             [
              0.1111111111111111,
              "#482878"
             ],
             [
              0.2222222222222222,
              "#3e4989"
             ],
             [
              0.3333333333333333,
              "#31688e"
             ],
             [
              0.4444444444444444,
              "#26828e"
             ],
             [
              0.5555555555555556,
              "#1f9e89"
             ],
             [
              0.6666666666666666,
              "#35b779"
             ],
             [
              0.7777777777777778,
              "#6ece58"
             ],
             [
              0.8888888888888888,
              "#b5de2b"
             ],
             [
              1.0,
              "#fde725"
             ]
            ],
            "type": "heatmapgl"
           }
          ],
          "histogram": [
           {
            "marker": {
             "line": {
              "color": "white",
              "width": 0.6
             }
            },
            "type": "histogram"
           }
          ],
          "histogram2d": [
           {
            "colorbar": {
             "outlinewidth": 1,
             "tickcolor": "rgb(36,36,36)",
             "ticks": "outside"
            },
            "colorscale": [
             [
              0.0,
              "#440154"
             ],
             [
              0.1111111111111111,
              "#482878"
             ],
             [
              0.2222222222222222,
              "#3e4989"
             ],
             [
              0.3333333333333333,
              "#31688e"
             ],
             [
              0.4444444444444444,
              "#26828e"
             ],
             [
              0.5555555555555556,
              "#1f9e89"
             ],
             [
              0.6666666666666666,
              "#35b779"
             ],
             [
              0.7777777777777778,
              "#6ece58"
             ],
             [
              0.8888888888888888,
              "#b5de2b"
             ],
             [
              1.0,
              "#fde725"
             ]
            ],
            "type": "histogram2d"
           }
          ],
          "histogram2dcontour": [
           {
            "colorbar": {
             "outlinewidth": 1,
             "tickcolor": "rgb(36,36,36)",
             "ticks": "outside"
            },
            "colorscale": [
             [
              0.0,
              "#440154"
             ],
             [
              0.1111111111111111,
              "#482878"
             ],
             [
              0.2222222222222222,
              "#3e4989"
             ],
             [
              0.3333333333333333,
              "#31688e"
             ],
             [
              0.4444444444444444,
              "#26828e"
             ],
             [
              0.5555555555555556,
              "#1f9e89"
             ],
             [
              0.6666666666666666,
              "#35b779"
             ],
             [
              0.7777777777777778,
              "#6ece58"
             ],
             [
              0.8888888888888888,
              "#b5de2b"
             ],
             [
              1.0,
              "#fde725"
             ]
            ],
            "type": "histogram2dcontour"
           }
          ],
          "mesh3d": [
           {
            "colorbar": {
             "outlinewidth": 1,
             "tickcolor": "rgb(36,36,36)",
             "ticks": "outside"
            },
            "type": "mesh3d"
           }
          ],
          "parcoords": [
           {
            "line": {
             "colorbar": {
              "outlinewidth": 1,
              "tickcolor": "rgb(36,36,36)",
              "ticks": "outside"
             }
            },
            "type": "parcoords"
           }
          ],
          "pie": [
           {
            "automargin": true,
            "type": "pie"
           }
          ],
          "scatter": [
           {
            "fillpattern": {
             "fillmode": "overlay",
             "size": 10,
             "solidity": 0.2
            },
            "type": "scatter"
           }
          ],
          "scatter3d": [
           {
            "line": {
             "colorbar": {
              "outlinewidth": 1,
              "tickcolor": "rgb(36,36,36)",
              "ticks": "outside"
             }
            },
            "marker": {
             "colorbar": {
              "outlinewidth": 1,
              "tickcolor": "rgb(36,36,36)",
              "ticks": "outside"
             }
            },
            "type": "scatter3d"
           }
          ],
          "scattercarpet": [
           {
            "marker": {
             "colorbar": {
              "outlinewidth": 1,
              "tickcolor": "rgb(36,36,36)",
              "ticks": "outside"
             }
            },
            "type": "scattercarpet"
           }
          ],
          "scattergeo": [
           {
            "marker": {
             "colorbar": {
              "outlinewidth": 1,
              "tickcolor": "rgb(36,36,36)",
              "ticks": "outside"
             }
            },
            "type": "scattergeo"
           }
          ],
          "scattergl": [
           {
            "marker": {
             "colorbar": {
              "outlinewidth": 1,
              "tickcolor": "rgb(36,36,36)",
              "ticks": "outside"
             }
            },
            "type": "scattergl"
           }
          ],
          "scattermapbox": [
           {
            "marker": {
             "colorbar": {
              "outlinewidth": 1,
              "tickcolor": "rgb(36,36,36)",
              "ticks": "outside"
             }
            },
            "type": "scattermapbox"
           }
          ],
          "scatterpolar": [
           {
            "marker": {
             "colorbar": {
              "outlinewidth": 1,
              "tickcolor": "rgb(36,36,36)",
              "ticks": "outside"
             }
            },
            "type": "scatterpolar"
           }
          ],
          "scatterpolargl": [
           {
            "marker": {
             "colorbar": {
              "outlinewidth": 1,
              "tickcolor": "rgb(36,36,36)",
              "ticks": "outside"
             }
            },
            "type": "scatterpolargl"
           }
          ],
          "scatterternary": [
           {
            "marker": {
             "colorbar": {
              "outlinewidth": 1,
              "tickcolor": "rgb(36,36,36)",
              "ticks": "outside"
             }
            },
            "type": "scatterternary"
           }
          ],
          "surface": [
           {
            "colorbar": {
             "outlinewidth": 1,
             "tickcolor": "rgb(36,36,36)",
             "ticks": "outside"
            },
            "colorscale": [
             [
              0.0,
              "#440154"
             ],
             [
              0.1111111111111111,
              "#482878"
             ],
             [
              0.2222222222222222,
              "#3e4989"
             ],
             [
              0.3333333333333333,
              "#31688e"
             ],
             [
              0.4444444444444444,
              "#26828e"
             ],
             [
              0.5555555555555556,
              "#1f9e89"
             ],
             [
              0.6666666666666666,
              "#35b779"
             ],
             [
              0.7777777777777778,
              "#6ece58"
             ],
             [
              0.8888888888888888,
              "#b5de2b"
             ],
             [
              1.0,
              "#fde725"
             ]
            ],
            "type": "surface"
           }
          ],
          "table": [
           {
            "cells": {
             "fill": {
              "color": "rgb(237,237,237)"
             },
             "line": {
              "color": "white"
             }
            },
            "header": {
             "fill": {
              "color": "rgb(217,217,217)"
             },
             "line": {
              "color": "white"
             }
            },
            "type": "table"
           }
          ]
         },
         "layout": {
          "annotationdefaults": {
           "arrowhead": 0,
           "arrowwidth": 1
          },
          "autotypenumbers": "strict",
          "coloraxis": {
           "colorbar": {
            "outlinewidth": 1,
            "tickcolor": "rgb(36,36,36)",
            "ticks": "outside"
           }
          },
          "colorscale": {
           "diverging": [
            [
             0.0,
             "rgb(103,0,31)"
            ],
            [
             0.1,
             "rgb(178,24,43)"
            ],
            [
             0.2,
             "rgb(214,96,77)"
            ],
            [
             0.3,
             "rgb(244,165,130)"
            ],
            [
             0.4,
             "rgb(253,219,199)"
            ],
            [
             0.5,
             "rgb(247,247,247)"
            ],
            [
             0.6,
             "rgb(209,229,240)"
            ],
            [
             0.7,
             "rgb(146,197,222)"
            ],
            [
             0.8,
             "rgb(67,147,195)"
            ],
            [
             0.9,
             "rgb(33,102,172)"
            ],
            [
             1.0,
             "rgb(5,48,97)"
            ]
           ],
           "sequential": [
            [
             0.0,
             "#440154"
            ],
            [
             0.1111111111111111,
             "#482878"
            ],
            [
             0.2222222222222222,
             "#3e4989"
            ],
            [
             0.3333333333333333,
             "#31688e"
            ],
            [
             0.4444444444444444,
             "#26828e"
            ],
            [
             0.5555555555555556,
             "#1f9e89"
            ],
            [
             0.6666666666666666,
             "#35b779"
            ],
            [
             0.7777777777777778,
             "#6ece58"
            ],
            [
             0.8888888888888888,
             "#b5de2b"
            ],
            [
             1.0,
             "#fde725"
            ]
           ],
           "sequentialminus": [
            [
             0.0,
             "#440154"
            ],
            [
             0.1111111111111111,
             "#482878"
            ],
            [
             0.2222222222222222,
             "#3e4989"
            ],
            [
             0.3333333333333333,
             "#31688e"
            ],
            [
             0.4444444444444444,
             "#26828e"
            ],
            [
             0.5555555555555556,
             "#1f9e89"
            ],
            [
             0.6666666666666666,
             "#35b779"
            ],
            [
             0.7777777777777778,
             "#6ece58"
            ],
            [
             0.8888888888888888,
             "#b5de2b"
            ],
            [
             1.0,
             "#fde725"
            ]
           ]
          },
          "colorway": [
           "#91268F",
           "#8CC63E",
           "#00A7A0",
           "#F05A28",
           "#4C4C4C",
           "#630460",
           "#9f3913",
           "#588527",
           "#00716c",
           "#3e4040"
          ],
          "font": {
           "color": "rgb(36,36,36)",
           "family": "Poppins",
           "size": 11
          },
          "geo": {
           "bgcolor": "white",
           "lakecolor": "white",
           "landcolor": "white",
           "showlakes": true,
           "showland": true,
           "subunitcolor": "white"
          },
          "hoverlabel": {
           "align": "left"
          },
          "hovermode": "closest",
          "mapbox": {
           "style": "light"
          },
          "paper_bgcolor": "white",
          "plot_bgcolor": "white",
          "polar": {
           "angularaxis": {
            "gridcolor": "rgb(232,232,232)",
            "linecolor": "rgb(36,36,36)",
            "showgrid": false,
            "showline": true,
            "ticks": "outside"
           },
           "bgcolor": "white",
           "radialaxis": {
            "gridcolor": "rgb(232,232,232)",
            "linecolor": "rgb(36,36,36)",
            "showgrid": false,
            "showline": true,
            "ticks": "outside"
           }
          },
          "scene": {
           "xaxis": {
            "backgroundcolor": "white",
            "gridcolor": "rgb(232,232,232)",
            "gridwidth": 2,
            "linecolor": "rgb(36,36,36)",
            "showbackground": true,
            "showgrid": false,
            "showline": true,
            "ticks": "outside",
            "zeroline": false,
            "zerolinecolor": "rgb(36,36,36)"
           },
           "yaxis": {
            "backgroundcolor": "white",
            "gridcolor": "rgb(232,232,232)",
            "gridwidth": 2,
            "linecolor": "rgb(36,36,36)",
            "showbackground": true,
            "showgrid": false,
            "showline": true,
            "ticks": "outside",
            "zeroline": false,
            "zerolinecolor": "rgb(36,36,36)"
           },
           "zaxis": {
            "backgroundcolor": "white",
            "gridcolor": "rgb(232,232,232)",
            "gridwidth": 2,
            "linecolor": "rgb(36,36,36)",
            "showbackground": true,
            "showgrid": false,
            "showline": true,
            "ticks": "outside",
            "zeroline": false,
            "zerolinecolor": "rgb(36,36,36)"
           }
          },
          "shapedefaults": {
           "fillcolor": "black",
           "line": {
            "width": 0
           },
           "opacity": 0.3
          },
          "ternary": {
           "aaxis": {
            "gridcolor": "rgb(232,232,232)",
            "linecolor": "rgb(36,36,36)",
            "showgrid": false,
            "showline": true,
            "ticks": "outside"
           },
           "baxis": {
            "gridcolor": "rgb(232,232,232)",
            "linecolor": "rgb(36,36,36)",
            "showgrid": false,
            "showline": true,
            "ticks": "outside"
           },
           "bgcolor": "white",
           "caxis": {
            "gridcolor": "rgb(232,232,232)",
            "linecolor": "rgb(36,36,36)",
            "showgrid": false,
            "showline": true,
            "ticks": "outside"
           }
          },
          "title": {
           "x": 0.05
          },
          "xaxis": {
           "automargin": true,
           "gridcolor": "rgb(232,232,232)",
           "linecolor": "rgb(36,36,36)",
           "showgrid": false,
           "showline": true,
           "ticks": "outside",
           "title": {
            "standoff": 15
           },
           "zeroline": false,
           "zerolinecolor": "rgb(36,36,36)"
          },
          "yaxis": {
           "automargin": true,
           "gridcolor": "rgb(232,232,232)",
           "linecolor": "rgb(36,36,36)",
           "showgrid": false,
           "showline": true,
           "ticks": "outside",
           "title": {
            "standoff": 15
           },
           "zeroline": false,
           "zerolinecolor": "rgb(36,36,36)"
          }
         }
        },
        "title": {
         "text": "tour origin departure hour by purpose"
        },
        "width": 850,
        "xaxis": {
         "anchor": "y",
         "categoryorder": "category ascending",
         "domain": [
          0.0,
          0.98
         ],
         "dtick": 1,
         "title": {
          "text": "tlvorg_hr"
         }
        },
        "xaxis2": {
         "anchor": "y2",
         "categoryorder": "category ascending",
         "domain": [
          0.0,
          0.98
         ],
         "dtick": 1,
         "matches": "x",
         "showticklabels": false
        },
        "xaxis3": {
         "anchor": "y3",
         "categoryorder": "category ascending",
         "domain": [
          0.0,
          0.98
         ],
         "dtick": 1,
         "matches": "x",
         "showticklabels": false
        },
        "xaxis4": {
         "anchor": "y4",
         "categoryorder": "category ascending",
         "domain": [
          0.0,
          0.98
         ],
         "dtick": 1,
         "matches": "x",
         "showticklabels": false
        },
        "xaxis5": {
         "anchor": "y5",
         "categoryorder": "category ascending",
         "domain": [
          0.0,
          0.98
         ],
         "dtick": 1,
         "matches": "x",
         "showticklabels": false
        },
        "xaxis6": {
         "anchor": "y6",
         "categoryorder": "category ascending",
         "domain": [
          0.0,
          0.98
         ],
         "dtick": 1,
         "matches": "x",
         "showticklabels": false
        },
        "yaxis": {
         "anchor": "x",
         "domain": [
          0.0,
          0.14166666666666666
         ],
         "tickformat": ".0%",
         "title": {
          "text": "percentage"
         }
        },
        "yaxis2": {
         "anchor": "x2",
         "domain": [
          0.17166666666666666,
          0.31333333333333335
         ],
         "matches": "y",
         "tickformat": ".0%",
         "title": {
          "text": "percentage"
         }
        },
        "yaxis3": {
         "anchor": "x3",
         "domain": [
          0.3433333333333333,
          0.485
         ],
         "matches": "y",
         "tickformat": ".0%",
         "title": {
          "text": "percentage"
         }
        },
        "yaxis4": {
         "anchor": "x4",
         "domain": [
          0.515,
          0.6566666666666667
         ],
         "matches": "y",
         "tickformat": ".0%",
         "title": {
          "text": "percentage"
         }
        },
        "yaxis5": {
         "anchor": "x5",
         "domain": [
          0.6866666666666666,
          0.8283333333333334
         ],
         "matches": "y",
         "tickformat": ".0%",
         "title": {
          "text": "percentage"
         }
        },
        "yaxis6": {
         "anchor": "x6",
         "domain": [
          0.8583333333333333,
          1.0
         ],
         "matches": "y",
         "tickformat": ".0%",
         "title": {
          "text": "percentage"
         }
        }
       }
      },
      "text/html": [
       "<div>                            <div id=\"8e636aed-0310-4c0c-ba7a-8a18f170828f\" class=\"plotly-graph-div\" style=\"height:1500px; width:850px;\"></div>            <script type=\"text/javascript\">                require([\"plotly\"], function(Plotly) {                    window.PLOTLYENV=window.PLOTLYENV || {};                                    if (document.getElementById(\"8e636aed-0310-4c0c-ba7a-8a18f170828f\")) {                    Plotly.newPlot(                        \"8e636aed-0310-4c0c-ba7a-8a18f170828f\",                        [{\"alignmentgroup\":\"True\",\"customdata\":[[1640.0,1640.0],[985.0,985.0],[391.0,391.0],[45584.0,45584.0],[45967.0,45967.0],[103407.0,103407.0],[254848.0,254848.0],[321653.0,321653.0],[260335.0,260335.0],[136732.0,136732.0],[82654.0,82654.0],[65891.0,65891.0],[53183.0,53183.0],[42742.0,42742.0],[37209.0,37209.0],[33179.0,33179.0],[31503.0,31503.0],[29326.0,29326.0],[24450.0,24450.0],[13136.0,13136.0],[10431.0,10431.0],[7128.0,7128.0],[3327.0,3327.0],[2417.0,2417.0]],\"hovertemplate\":\"source=model\\u003cbr\\u003epdpurp_label=Work\\u003cbr\\u003etlvorg_hr=%{x}\\u003cbr\\u003epercentage=%{y}\\u003cbr\\u003etoexpfac=%{customdata[0]}\\u003cbr\\u003esample_count=%{customdata[1]}\\u003cextra\\u003e\\u003c\\u002fextra\\u003e\",\"legendgroup\":\"model\",\"marker\":{\"color\":\"#91268F\",\"pattern\":{\"shape\":\"\"}},\"name\":\"model\",\"offsetgroup\":\"model\",\"orientation\":\"v\",\"showlegend\":true,\"textposition\":\"auto\",\"x\":[0,1,2,3,4,5,6,7,8,9,10,11,12,13,14,15,16,17,18,19,20,21,22,23],\"xaxis\":\"x6\",\"y\":[0.0010198256595598085,0.0006125172406502508,0.0002431413615170031,0.028346178576447747,0.028584345178649825,0.06430311705981775,0.1584759327362793,0.20001828224048235,0.1618879957814041,0.08502609883105593,0.05139796955198561,0.04097398325247276,0.03307157808071298,0.026578895329820326,0.0231382274186347,0.020632192413740782,0.019589980337263807,0.0182362239586896,0.015204108156242267,0.00816855479510832,0.006486464301749001,0.004432510549598972,0.0020688780300948065,0.001502999158021986],\"yaxis\":\"y6\",\"type\":\"bar\"},{\"alignmentgroup\":\"True\",\"customdata\":[[0.0,0.0],[0.0,0.0],[0.0,0.0],[3439.0,3439.0],[3562.0,3562.0],[11587.0,11587.0],[67321.0,67321.0],[159603.0,159603.0],[165337.0,165337.0],[80177.0,80177.0],[36576.0,36576.0],[22634.0,22634.0],[14785.0,14785.0],[10021.0,10021.0],[7523.0,7523.0],[5603.0,5603.0],[4951.0,4951.0],[4509.0,4509.0],[3589.0,3589.0],[1238.0,1238.0],[1141.0,1141.0],[679.0,679.0],[6.0,6.0],[1.0,1.0]],\"hovertemplate\":\"source=model\\u003cbr\\u003epdpurp_label=School\\u003cbr\\u003etlvorg_hr=%{x}\\u003cbr\\u003epercentage=%{y}\\u003cbr\\u003etoexpfac=%{customdata[0]}\\u003cbr\\u003esample_count=%{customdata[1]}\\u003cextra\\u003e\\u003c\\u002fextra\\u003e\",\"legendgroup\":\"model\",\"marker\":{\"color\":\"#91268F\",\"pattern\":{\"shape\":\"\"}},\"name\":\"model\",\"offsetgroup\":\"model\",\"orientation\":\"v\",\"showlegend\":false,\"textposition\":\"auto\",\"x\":[0,1,2,3,4,5,6,7,8,9,10,11,12,13,14,15,16,17,18,19,20,21,22,23],\"xaxis\":\"x5\",\"y\":[0.0,0.0,0.0,0.005691051528921927,0.005894598879331173,0.01917482235115393,0.11140659493415327,0.26412006314932435,0.27360901036271146,0.13268143019318795,0.06052803161437872,0.03745602218831605,0.024467053461794327,0.01658331706057768,0.012449485505111851,0.009272161010918743,0.008193194568099001,0.0074617479918316285,0.005939280005030764,0.002048712356151598,0.0018881912749345504,0.0011236475685193338,9.929139044353464e-06,1.654856507392244e-06],\"yaxis\":\"y5\",\"type\":\"bar\"},{\"alignmentgroup\":\"True\",\"customdata\":[[305.0,305.0],[280.0,280.0],[104.0,104.0],[1190.0,1190.0],[912.0,912.0],[2098.0,2098.0],[10778.0,10778.0],[31450.0,31450.0],[54914.0,54914.0],[67151.0,67151.0],[67263.0,67263.0],[55932.0,55932.0],[53769.0,53769.0],[59021.0,59021.0],[54088.0,54088.0],[51201.0,51201.0],[56892.0,56892.0],[51310.0,51310.0],[49374.0,49374.0],[31798.0,31798.0],[18758.0,18758.0],[8976.0,8976.0],[2411.0,2411.0],[1158.0,1158.0]],\"hovertemplate\":\"source=model\\u003cbr\\u003epdpurp_label=Shop\\u003cbr\\u003etlvorg_hr=%{x}\\u003cbr\\u003epercentage=%{y}\\u003cbr\\u003etoexpfac=%{customdata[0]}\\u003cbr\\u003esample_count=%{customdata[1]}\\u003cextra\\u003e\\u003c\\u002fextra\\u003e\",\"legendgroup\":\"model\",\"marker\":{\"color\":\"#91268F\",\"pattern\":{\"shape\":\"\"}},\"name\":\"model\",\"offsetgroup\":\"model\",\"orientation\":\"v\",\"showlegend\":false,\"textposition\":\"auto\",\"x\":[0,1,2,3,4,5,6,7,8,9,10,11,12,13,14,15,16,17,18,19,20,21,22,23],\"xaxis\":\"x4\",\"y\":[0.00041716076281606766,0.0003829672576672097,0.0001422449814192493,0.001627610845085641,0.00124737906783034,0.002869518952092164,0.014741503939775663,0.04301542947726337,0.07510808566977555,0.09184512257003856,0.09199830947310544,0.07650044519943704,0.07354202313395784,0.08072539469562993,0.07397833225965728,0.07002966628506715,0.07781347579715318,0.07017874996751618,0.0675308049287886,0.04349140306893547,0.02565607078329114,0.012276836088645979,0.003297621636555866,0.0015838431584951028],\"yaxis\":\"y4\",\"type\":\"bar\"},{\"alignmentgroup\":\"True\",\"customdata\":[[384.0,384.0],[292.0,292.0],[108.0,108.0],[1155.0,1155.0],[812.0,812.0],[1897.0,1897.0],[5806.0,5806.0],[10105.0,10105.0],[19453.0,19453.0],[25996.0,25996.0],[31694.0,31694.0],[30395.0,30395.0],[31848.0,31848.0],[29003.0,29003.0],[26919.0,26919.0],[24739.0,24739.0],[30740.0,30740.0],[31149.0,31149.0],[32173.0,32173.0],[20478.0,20478.0],[14875.0,14875.0],[9908.0,9908.0],[2348.0,2348.0],[991.0,991.0]],\"hovertemplate\":\"source=model\\u003cbr\\u003epdpurp_label=Meal\\u003cbr\\u003etlvorg_hr=%{x}\\u003cbr\\u003epercentage=%{y}\\u003cbr\\u003etoexpfac=%{customdata[0]}\\u003cbr\\u003esample_count=%{customdata[1]}\\u003cextra\\u003e\\u003c\\u002fextra\\u003e\",\"legendgroup\":\"model\",\"marker\":{\"color\":\"#91268F\",\"pattern\":{\"shape\":\"\"}},\"name\":\"model\",\"offsetgroup\":\"model\",\"orientation\":\"v\",\"showlegend\":false,\"textposition\":\"auto\",\"x\":[0,1,2,3,4,5,6,7,8,9,10,11,12,13,14,15,16,17,18,19,20,21,22,23],\"xaxis\":\"x3\",\"y\":[0.0010019098907292025,0.0007618689794086645,0.0002817871567675882,0.0030135570932089293,0.002118621956437793,0.004949539225815878,0.015148668816598307,0.026365363140152583,0.050755607042591605,0.06782721229009465,0.08269409394992538,0.079304820647693,0.08309590156235323,0.07567289729379964,0.07023544882432137,0.06454752288216078,0.08020497406514501,0.08127211246438523,0.08394387217299644,0.053429975891543253,0.0388109625640544,0.02585136249308578,0.006126261519354603,0.002585658077376666],\"yaxis\":\"y3\",\"type\":\"bar\"},{\"alignmentgroup\":\"True\",\"customdata\":[[242.0,242.0],[202.0,202.0],[109.0,109.0],[5951.0,5951.0],[3352.0,3352.0],[5890.0,5890.0],[19730.0,19730.0],[39955.0,39955.0],[62139.0,62139.0],[72797.0,72797.0],[64972.0,64972.0],[48325.0,48325.0],[43489.0,43489.0],[45010.0,45010.0],[40610.0,40610.0],[39054.0,39054.0],[38338.0,38338.0],[30916.0,30916.0],[26451.0,26451.0],[17592.0,17592.0],[12694.0,12694.0],[7064.0,7064.0],[2076.0,2076.0],[1039.0,1039.0]],\"hovertemplate\":\"source=model\\u003cbr\\u003epdpurp_label=Escort\\u003cbr\\u003etlvorg_hr=%{x}\\u003cbr\\u003epercentage=%{y}\\u003cbr\\u003etoexpfac=%{customdata[0]}\\u003cbr\\u003esample_count=%{customdata[1]}\\u003cextra\\u003e\\u003c\\u002fextra\\u003e\",\"legendgroup\":\"model\",\"marker\":{\"color\":\"#91268F\",\"pattern\":{\"shape\":\"\"}},\"name\":\"model\",\"offsetgroup\":\"model\",\"orientation\":\"v\",\"showlegend\":false,\"textposition\":\"auto\",\"x\":[0,1,2,3,4,5,6,7,8,9,10,11,12,13,14,15,16,17,18,19,20,21,22,23],\"xaxis\":\"x2\",\"y\":[0.00038535215932560186,0.0003216575875362462,0.00017356770812599424,0.009476159917961392,0.005337605115948006,0.009379025695982625,0.03141734753509969,0.06362291539609266,0.09894792491046932,0.11591934356374314,0.10345909295745043,0.07695100454301533,0.06925033081368223,0.07167231690597248,0.06466591400914336,0.06218819516653742,0.06104806233150795,0.049229534535993005,0.04211962796000618,0.028012872672958627,0.020213472357352026,0.011248461378000214,0.00330574827586756,0.0016544665022285138],\"yaxis\":\"y2\",\"type\":\"bar\"},{\"alignmentgroup\":\"True\",\"customdata\":[[176.0,176.0],[104.0,104.0],[48.0,48.0],[2471.0,2471.0],[1445.0,1445.0],[3152.0,3152.0],[10032.0,10032.0],[20558.0,20558.0],[33989.0,33989.0],[41486.0,41486.0],[39443.0,39443.0],[31518.0,31518.0],[29302.0,29302.0],[30264.0,30264.0],[25726.0,25726.0],[23751.0,23751.0],[26504.0,26504.0],[24335.0,24335.0],[21687.0,21687.0],[13116.0,13116.0],[9342.0,9342.0],[5417.0,5417.0],[1208.0,1208.0],[565.0,565.0]],\"hovertemplate\":\"source=model\\u003cbr\\u003epdpurp_label=Personal Business\\u003cbr\\u003etlvorg_hr=%{x}\\u003cbr\\u003epercentage=%{y}\\u003cbr\\u003etoexpfac=%{customdata[0]}\\u003cbr\\u003esample_count=%{customdata[1]}\\u003cextra\\u003e\\u003c\\u002fextra\\u003e\",\"legendgroup\":\"model\",\"marker\":{\"color\":\"#91268F\",\"pattern\":{\"shape\":\"\"}},\"name\":\"model\",\"offsetgroup\":\"model\",\"orientation\":\"v\",\"showlegend\":false,\"textposition\":\"auto\",\"x\":[0,1,2,3,4,5,6,7,8,9,10,11,12,13,14,15,16,17,18,19,20,21,22,23],\"xaxis\":\"x\",\"y\":[0.0004448499768728563,0.00026286589542486965,0.00012132272096532444,0.006245592573027431,0.0036523194123936216,0.007966858676722973,0.02535644868175281,0.05196151036677375,0.0859091242268836,0.10485821670765522,0.09969441839656859,0.07966353165385617,0.07406246603595702,0.07649397556863706,0.06502392332404035,0.060031998867654604,0.06699036242635331,0.06150809197273272,0.05481512186614565,0.033151433503774905,0.023612434567876272,0.01369177457227422,0.003053288477627332,0.0014280695280293398],\"yaxis\":\"y\",\"type\":\"bar\"},{\"alignmentgroup\":\"True\",\"customdata\":[[0.0,0.0],[290.035564242689,1.0],[0.0,0.0],[14788.625070075419,21.0],[62334.98080849343,65.0],[110560.94845318867,135.0],[231832.64991962648,369.0],[345802.41903784144,614.0],[258891.1706490516,504.0],[138775.75284678483,292.0],[41934.64180856641,170.0],[37958.570447343416,99.0],[31180.959769409063,106.0],[24948.05578014202,69.0],[27287.01473768373,62.0],[27505.41111581074,50.0],[19075.531444671185,33.0],[12319.99798778966,34.0],[1955.108794526273,10.0],[745.7762566027517,7.0],[270.8142398817476,7.0],[113.8011265835064,3.0],[387.3586482889782,6.0],[235.31298890314352,1.0]],\"hovertemplate\":\"source=survey\\u003cbr\\u003epdpurp_label=Work\\u003cbr\\u003etlvorg_hr=%{x}\\u003cbr\\u003epercentage=%{y}\\u003cbr\\u003etoexpfac=%{customdata[0]}\\u003cbr\\u003esample_count=%{customdata[1]}\\u003cextra\\u003e\\u003c\\u002fextra\\u003e\",\"legendgroup\":\"survey\",\"marker\":{\"color\":\"#8CC63E\",\"pattern\":{\"shape\":\"\"}},\"name\":\"survey\",\"offsetgroup\":\"survey\",\"orientation\":\"v\",\"showlegend\":true,\"textposition\":\"auto\",\"x\":[0,1,2,3,4,5,6,7,8,9,10,11,12,13,14,15,16,17,18,19,20,21,22,23],\"xaxis\":\"x6\",\"y\":[0.0,0.00020877960062651538,0.0,0.010645464269209695,0.04487129856726463,0.07958634563736036,0.16688273449771066,0.24892289030455797,0.18636057738289077,0.09989652935028323,0.030186290402243875,0.02732414970916648,0.022445345090029815,0.01795864288500742,0.0196423223272594,0.019799533077336524,0.013731356867065229,0.00886844434518356,0.001407368211441237,0.0005368406092432679,0.00019494329598550197,8.191875993204477e-05,0.00027883678368949635,0.00016938802651222915],\"yaxis\":\"y6\",\"type\":\"bar\"},{\"alignmentgroup\":\"True\",\"customdata\":[[0.0,0.0],[0.0,0.0],[0.0,0.0],[0.0,0.0],[86.688593033636,1.0],[454.392198263691,4.0],[35841.941662739446,28.0],[184810.37813662863,229.0],[178463.91097304702,262.0],[54742.69479601804,55.0],[11578.782726445686,19.0],[4313.592683769604,14.0],[5558.5039639001925,9.0],[3238.946058029637,11.0],[2722.2703378752167,6.0],[1054.0446466650703,4.0],[3913.0500727283707,7.0],[869.3783619234035,5.0],[1513.89214241086,1.0],[0.0,0.0],[0.0,0.0],[0.0,0.0],[0.0,0.0],[0.0,0.0]],\"hovertemplate\":\"source=survey\\u003cbr\\u003epdpurp_label=School\\u003cbr\\u003etlvorg_hr=%{x}\\u003cbr\\u003epercentage=%{y}\\u003cbr\\u003etoexpfac=%{customdata[0]}\\u003cbr\\u003esample_count=%{customdata[1]}\\u003cextra\\u003e\\u003c\\u002fextra\\u003e\",\"legendgroup\":\"survey\",\"marker\":{\"color\":\"#8CC63E\",\"pattern\":{\"shape\":\"\"}},\"name\":\"survey\",\"offsetgroup\":\"survey\",\"orientation\":\"v\",\"showlegend\":false,\"textposition\":\"auto\",\"x\":[0,1,2,3,4,5,6,7,8,9,10,11,12,13,14,15,16,17,18,19,20,21,22,23],\"xaxis\":\"x5\",\"y\":[0.0,0.0,0.0,0.0,0.00017721840660148827,0.0009289187715527204,0.07327206001035919,0.3778098085417518,0.3648356586689744,0.1119110693267067,0.023670627857224024,0.008818323096429466,0.011363308378857094,0.006621411645814416,0.00556516601243662,0.0021547946071328416,0.007999489604955163,0.0017772793702407535,0.0030948657009632987,0.0,0.0,0.0,0.0,0.0],\"yaxis\":\"y5\",\"type\":\"bar\"},{\"alignmentgroup\":\"True\",\"customdata\":[[143.521368637738,1.0],[0.0,0.0],[570.896774611867,1.0],[0.0,0.0],[0.0,0.0],[776.7637534339301,5.0],[4769.603818802843,8.0],[12107.898756094188,36.0],[18154.74250641554,53.0],[53830.42047654876,115.0],[62551.662332100495,163.0],[71298.68910586352,122.0],[59180.63170434407,124.0],[59428.21451426868,135.0],[62755.07549026258,154.0],[68685.48809386697,111.0],[55073.59917634842,110.0],[28436.43160983523,119.0],[62362.95808194445,102.0],[20444.191353382026,89.0],[7282.428149155887,32.0],[2019.503056430456,14.0],[2349.3900106379,7.0],[628.325555652825,3.0]],\"hovertemplate\":\"source=survey\\u003cbr\\u003epdpurp_label=Shop\\u003cbr\\u003etlvorg_hr=%{x}\\u003cbr\\u003epercentage=%{y}\\u003cbr\\u003etoexpfac=%{customdata[0]}\\u003cbr\\u003esample_count=%{customdata[1]}\\u003cextra\\u003e\\u003c\\u002fextra\\u003e\",\"legendgroup\":\"survey\",\"marker\":{\"color\":\"#8CC63E\",\"pattern\":{\"shape\":\"\"}},\"name\":\"survey\",\"offsetgroup\":\"survey\",\"orientation\":\"v\",\"showlegend\":false,\"textposition\":\"auto\",\"x\":[0,1,2,3,4,5,6,7,8,9,10,11,12,13,14,15,16,17,18,19,20,21,22,23],\"xaxis\":\"x4\",\"y\":[0.00021983805293221423,0.0,0.0008744679384485282,0.0,0.0,0.0011898035307498658,0.007305813947679731,0.018546206135747707,0.027808425198132234,0.08245444520499931,0.09581315859293237,0.10921136788498331,0.09064960130097681,0.09102883488403088,0.09612473555917504,0.10520861186439476,0.08435867721870446,0.043557344922102975,0.09552411191418274,0.031315275652404405,0.01115481854810168,0.0030933625008616986,0.003598664996156005,0.0009624341523032851],\"yaxis\":\"y4\",\"type\":\"bar\"},{\"alignmentgroup\":\"True\",\"customdata\":[[632.62215829592,1.0],[0.0,0.0],[0.0,0.0],[0.0,0.0],[23.312448148228,1.0],[46.07273363740228,2.0],[2925.777734452038,8.0],[23356.464399636094,20.0],[14130.041614476766,44.0],[15870.600300674021,49.0],[22019.72015918588,57.0],[34250.98114834558,106.0],[38166.71534632754,116.0],[13881.241923716083,61.0],[13340.120241994082,38.0],[31104.060703891097,56.0],[18198.037158506493,57.0],[29709.86656119252,96.0],[40049.22701963642,104.0],[34982.764543347,55.0],[13824.595015197257,32.0],[3917.0406076992076,11.0],[64.4328417659313,2.0],[592.2696401845194,2.0]],\"hovertemplate\":\"source=survey\\u003cbr\\u003epdpurp_label=Meal\\u003cbr\\u003etlvorg_hr=%{x}\\u003cbr\\u003epercentage=%{y}\\u003cbr\\u003etoexpfac=%{customdata[0]}\\u003cbr\\u003esample_count=%{customdata[1]}\\u003cextra\\u003e\\u003c\\u002fextra\\u003e\",\"legendgroup\":\"survey\",\"marker\":{\"color\":\"#8CC63E\",\"pattern\":{\"shape\":\"\"}},\"name\":\"survey\",\"offsetgroup\":\"survey\",\"orientation\":\"v\",\"showlegend\":false,\"textposition\":\"auto\",\"x\":[0,1,2,3,4,5,6,7,8,9,10,11,12,13,14,15,16,17,18,19,20,21,22,23],\"xaxis\":\"x3\",\"y\":[0.0018019010231773063,0.0,0.0,0.0,6.64009687618475e-05,0.00013122920971569464,0.008333508120391282,0.0665263404824055,0.04024667190167216,0.04520431436871315,0.06271888482659695,0.09755724987925792,0.10871045620519505,0.039538014432962114,0.037996734698808064,0.08859385981401827,0.051833565020959795,0.08462276929925756,0.11407242411257237,0.09964159237486242,0.03937666674527623,0.01115692737961085,0.0001835244023336036,0.001686964733451739],\"yaxis\":\"y3\",\"type\":\"bar\"},{\"alignmentgroup\":\"True\",\"customdata\":[[0.0,0.0],[0.0,0.0],[0.0,0.0],[0.0,0.0],[4054.1074151579,1.0],[3621.6853178441725,8.0],[14008.043944164965,15.0],[79706.7588885024,112.0],[107385.84328893693,150.0],[32796.21169392769,46.0],[5778.952525156871,27.0],[9936.136797937104,23.0],[13460.375487800951,38.0],[40000.633169023255,47.0],[56443.052668007535,72.0],[67075.08161255954,81.0],[38015.74994991364,55.0],[50697.1829269029,53.0],[3506.97842117303,17.0],[9894.69890599117,16.0],[2107.841073937623,8.0],[330.2706023061876,5.0],[6096.135066820443,5.0],[0.0,0.0]],\"hovertemplate\":\"source=survey\\u003cbr\\u003epdpurp_label=Escort\\u003cbr\\u003etlvorg_hr=%{x}\\u003cbr\\u003epercentage=%{y}\\u003cbr\\u003etoexpfac=%{customdata[0]}\\u003cbr\\u003esample_count=%{customdata[1]}\\u003cextra\\u003e\\u003c\\u002fextra\\u003e\",\"legendgroup\":\"survey\",\"marker\":{\"color\":\"#8CC63E\",\"pattern\":{\"shape\":\"\"}},\"name\":\"survey\",\"offsetgroup\":\"survey\",\"orientation\":\"v\",\"showlegend\":false,\"textposition\":\"auto\",\"x\":[0,1,2,3,4,5,6,7,8,9,10,11,12,13,14,15,16,17,18,19,20,21,22,23],\"xaxis\":\"x2\",\"y\":[0.0,0.0,0.0,0.0,0.007439879451771301,0.006646321722080276,0.02570680735050115,0.14627354850161559,0.19706871256280656,0.06018584030736416,0.01060522224545003,0.01823426279150074,0.0247017557133266,0.07340700635098162,0.10358124853078148,0.12309257508800577,0.06976445563296022,0.09303673802778735,0.006435817806883236,0.01815821820529649,0.003868196346982406,0.0006060948110143337,0.011187298552890811,0.0],\"yaxis\":\"y2\",\"type\":\"bar\"},{\"alignmentgroup\":\"True\",\"customdata\":[[0.0,0.0],[0.0,0.0],[0.0,0.0],[0.0,0.0],[0.0,0.0],[2325.255872414626,5.0],[6446.83996860513,21.0],[37494.19187984278,62.0],[21983.97446917663,68.0],[48225.42231837043,89.0],[27457.449132175087,93.0],[27892.063700452854,73.0],[28210.82733993562,84.0],[22478.414619897256,86.0],[35846.579441331574,81.0],[31185.913641812193,68.0],[9833.272916917174,53.0],[30678.220711815993,36.0],[2633.6235605644374,22.0],[13166.944073262279,15.0],[6.85398522000551,1.0],[29.4730659624188,1.0],[197.424677262663,1.0],[0.0,0.0]],\"hovertemplate\":\"source=survey\\u003cbr\\u003epdpurp_label=Personal Business\\u003cbr\\u003etlvorg_hr=%{x}\\u003cbr\\u003epercentage=%{y}\\u003cbr\\u003etoexpfac=%{customdata[0]}\\u003cbr\\u003esample_count=%{customdata[1]}\\u003cextra\\u003e\\u003c\\u002fextra\\u003e\",\"legendgroup\":\"survey\",\"marker\":{\"color\":\"#8CC63E\",\"pattern\":{\"shape\":\"\"}},\"name\":\"survey\",\"offsetgroup\":\"survey\",\"orientation\":\"v\",\"showlegend\":false,\"textposition\":\"auto\",\"x\":[0,1,2,3,4,5,6,7,8,9,10,11,12,13,14,15,16,17,18,19,20,21,22,23],\"xaxis\":\"x\",\"y\":[0.0,0.0,0.0,0.0,0.0,0.006718591774857995,0.01862749235503178,0.1083356770140178,0.0635204717895928,0.13934248250743983,0.07933552349507571,0.08059129835336357,0.08151233366468555,0.06494910662036588,0.10357506743601037,0.09010854477177718,0.028412248012485895,0.08864161737505849,0.007609589035767554,0.038044553805930956,1.9803897399174516e-05,8.515944456010593e-05,0.0005704386465793658,0.0],\"yaxis\":\"y\",\"type\":\"bar\"}],                        {\"template\":{\"data\":{\"barpolar\":[{\"marker\":{\"line\":{\"color\":\"white\",\"width\":0.5},\"pattern\":{\"fillmode\":\"overlay\",\"size\":10,\"solidity\":0.2}},\"type\":\"barpolar\"}],\"bar\":[{\"error_x\":{\"color\":\"rgb(36,36,36)\"},\"error_y\":{\"color\":\"rgb(36,36,36)\"},\"marker\":{\"line\":{\"color\":\"white\",\"width\":0.5},\"pattern\":{\"fillmode\":\"overlay\",\"size\":10,\"solidity\":0.2}},\"type\":\"bar\"}],\"carpet\":[{\"aaxis\":{\"endlinecolor\":\"rgb(36,36,36)\",\"gridcolor\":\"white\",\"linecolor\":\"white\",\"minorgridcolor\":\"white\",\"startlinecolor\":\"rgb(36,36,36)\"},\"baxis\":{\"endlinecolor\":\"rgb(36,36,36)\",\"gridcolor\":\"white\",\"linecolor\":\"white\",\"minorgridcolor\":\"white\",\"startlinecolor\":\"rgb(36,36,36)\"},\"type\":\"carpet\"}],\"choropleth\":[{\"colorbar\":{\"outlinewidth\":1,\"tickcolor\":\"rgb(36,36,36)\",\"ticks\":\"outside\"},\"type\":\"choropleth\"}],\"contourcarpet\":[{\"colorbar\":{\"outlinewidth\":1,\"tickcolor\":\"rgb(36,36,36)\",\"ticks\":\"outside\"},\"type\":\"contourcarpet\"}],\"contour\":[{\"colorbar\":{\"outlinewidth\":1,\"tickcolor\":\"rgb(36,36,36)\",\"ticks\":\"outside\"},\"colorscale\":[[0.0,\"#440154\"],[0.1111111111111111,\"#482878\"],[0.2222222222222222,\"#3e4989\"],[0.3333333333333333,\"#31688e\"],[0.4444444444444444,\"#26828e\"],[0.5555555555555556,\"#1f9e89\"],[0.6666666666666666,\"#35b779\"],[0.7777777777777778,\"#6ece58\"],[0.8888888888888888,\"#b5de2b\"],[1.0,\"#fde725\"]],\"type\":\"contour\"}],\"heatmapgl\":[{\"colorbar\":{\"outlinewidth\":1,\"tickcolor\":\"rgb(36,36,36)\",\"ticks\":\"outside\"},\"colorscale\":[[0.0,\"#440154\"],[0.1111111111111111,\"#482878\"],[0.2222222222222222,\"#3e4989\"],[0.3333333333333333,\"#31688e\"],[0.4444444444444444,\"#26828e\"],[0.5555555555555556,\"#1f9e89\"],[0.6666666666666666,\"#35b779\"],[0.7777777777777778,\"#6ece58\"],[0.8888888888888888,\"#b5de2b\"],[1.0,\"#fde725\"]],\"type\":\"heatmapgl\"}],\"heatmap\":[{\"colorbar\":{\"outlinewidth\":1,\"tickcolor\":\"rgb(36,36,36)\",\"ticks\":\"outside\"},\"colorscale\":[[0.0,\"#440154\"],[0.1111111111111111,\"#482878\"],[0.2222222222222222,\"#3e4989\"],[0.3333333333333333,\"#31688e\"],[0.4444444444444444,\"#26828e\"],[0.5555555555555556,\"#1f9e89\"],[0.6666666666666666,\"#35b779\"],[0.7777777777777778,\"#6ece58\"],[0.8888888888888888,\"#b5de2b\"],[1.0,\"#fde725\"]],\"type\":\"heatmap\"}],\"histogram2dcontour\":[{\"colorbar\":{\"outlinewidth\":1,\"tickcolor\":\"rgb(36,36,36)\",\"ticks\":\"outside\"},\"colorscale\":[[0.0,\"#440154\"],[0.1111111111111111,\"#482878\"],[0.2222222222222222,\"#3e4989\"],[0.3333333333333333,\"#31688e\"],[0.4444444444444444,\"#26828e\"],[0.5555555555555556,\"#1f9e89\"],[0.6666666666666666,\"#35b779\"],[0.7777777777777778,\"#6ece58\"],[0.8888888888888888,\"#b5de2b\"],[1.0,\"#fde725\"]],\"type\":\"histogram2dcontour\"}],\"histogram2d\":[{\"colorbar\":{\"outlinewidth\":1,\"tickcolor\":\"rgb(36,36,36)\",\"ticks\":\"outside\"},\"colorscale\":[[0.0,\"#440154\"],[0.1111111111111111,\"#482878\"],[0.2222222222222222,\"#3e4989\"],[0.3333333333333333,\"#31688e\"],[0.4444444444444444,\"#26828e\"],[0.5555555555555556,\"#1f9e89\"],[0.6666666666666666,\"#35b779\"],[0.7777777777777778,\"#6ece58\"],[0.8888888888888888,\"#b5de2b\"],[1.0,\"#fde725\"]],\"type\":\"histogram2d\"}],\"histogram\":[{\"marker\":{\"line\":{\"color\":\"white\",\"width\":0.6}},\"type\":\"histogram\"}],\"mesh3d\":[{\"colorbar\":{\"outlinewidth\":1,\"tickcolor\":\"rgb(36,36,36)\",\"ticks\":\"outside\"},\"type\":\"mesh3d\"}],\"parcoords\":[{\"line\":{\"colorbar\":{\"outlinewidth\":1,\"tickcolor\":\"rgb(36,36,36)\",\"ticks\":\"outside\"}},\"type\":\"parcoords\"}],\"pie\":[{\"automargin\":true,\"type\":\"pie\"}],\"scatter3d\":[{\"line\":{\"colorbar\":{\"outlinewidth\":1,\"tickcolor\":\"rgb(36,36,36)\",\"ticks\":\"outside\"}},\"marker\":{\"colorbar\":{\"outlinewidth\":1,\"tickcolor\":\"rgb(36,36,36)\",\"ticks\":\"outside\"}},\"type\":\"scatter3d\"}],\"scattercarpet\":[{\"marker\":{\"colorbar\":{\"outlinewidth\":1,\"tickcolor\":\"rgb(36,36,36)\",\"ticks\":\"outside\"}},\"type\":\"scattercarpet\"}],\"scattergeo\":[{\"marker\":{\"colorbar\":{\"outlinewidth\":1,\"tickcolor\":\"rgb(36,36,36)\",\"ticks\":\"outside\"}},\"type\":\"scattergeo\"}],\"scattergl\":[{\"marker\":{\"colorbar\":{\"outlinewidth\":1,\"tickcolor\":\"rgb(36,36,36)\",\"ticks\":\"outside\"}},\"type\":\"scattergl\"}],\"scattermapbox\":[{\"marker\":{\"colorbar\":{\"outlinewidth\":1,\"tickcolor\":\"rgb(36,36,36)\",\"ticks\":\"outside\"}},\"type\":\"scattermapbox\"}],\"scatterpolargl\":[{\"marker\":{\"colorbar\":{\"outlinewidth\":1,\"tickcolor\":\"rgb(36,36,36)\",\"ticks\":\"outside\"}},\"type\":\"scatterpolargl\"}],\"scatterpolar\":[{\"marker\":{\"colorbar\":{\"outlinewidth\":1,\"tickcolor\":\"rgb(36,36,36)\",\"ticks\":\"outside\"}},\"type\":\"scatterpolar\"}],\"scatter\":[{\"fillpattern\":{\"fillmode\":\"overlay\",\"size\":10,\"solidity\":0.2},\"type\":\"scatter\"}],\"scatterternary\":[{\"marker\":{\"colorbar\":{\"outlinewidth\":1,\"tickcolor\":\"rgb(36,36,36)\",\"ticks\":\"outside\"}},\"type\":\"scatterternary\"}],\"surface\":[{\"colorbar\":{\"outlinewidth\":1,\"tickcolor\":\"rgb(36,36,36)\",\"ticks\":\"outside\"},\"colorscale\":[[0.0,\"#440154\"],[0.1111111111111111,\"#482878\"],[0.2222222222222222,\"#3e4989\"],[0.3333333333333333,\"#31688e\"],[0.4444444444444444,\"#26828e\"],[0.5555555555555556,\"#1f9e89\"],[0.6666666666666666,\"#35b779\"],[0.7777777777777778,\"#6ece58\"],[0.8888888888888888,\"#b5de2b\"],[1.0,\"#fde725\"]],\"type\":\"surface\"}],\"table\":[{\"cells\":{\"fill\":{\"color\":\"rgb(237,237,237)\"},\"line\":{\"color\":\"white\"}},\"header\":{\"fill\":{\"color\":\"rgb(217,217,217)\"},\"line\":{\"color\":\"white\"}},\"type\":\"table\"}]},\"layout\":{\"annotationdefaults\":{\"arrowhead\":0,\"arrowwidth\":1},\"autotypenumbers\":\"strict\",\"coloraxis\":{\"colorbar\":{\"outlinewidth\":1,\"tickcolor\":\"rgb(36,36,36)\",\"ticks\":\"outside\"}},\"colorscale\":{\"diverging\":[[0.0,\"rgb(103,0,31)\"],[0.1,\"rgb(178,24,43)\"],[0.2,\"rgb(214,96,77)\"],[0.3,\"rgb(244,165,130)\"],[0.4,\"rgb(253,219,199)\"],[0.5,\"rgb(247,247,247)\"],[0.6,\"rgb(209,229,240)\"],[0.7,\"rgb(146,197,222)\"],[0.8,\"rgb(67,147,195)\"],[0.9,\"rgb(33,102,172)\"],[1.0,\"rgb(5,48,97)\"]],\"sequential\":[[0.0,\"#440154\"],[0.1111111111111111,\"#482878\"],[0.2222222222222222,\"#3e4989\"],[0.3333333333333333,\"#31688e\"],[0.4444444444444444,\"#26828e\"],[0.5555555555555556,\"#1f9e89\"],[0.6666666666666666,\"#35b779\"],[0.7777777777777778,\"#6ece58\"],[0.8888888888888888,\"#b5de2b\"],[1.0,\"#fde725\"]],\"sequentialminus\":[[0.0,\"#440154\"],[0.1111111111111111,\"#482878\"],[0.2222222222222222,\"#3e4989\"],[0.3333333333333333,\"#31688e\"],[0.4444444444444444,\"#26828e\"],[0.5555555555555556,\"#1f9e89\"],[0.6666666666666666,\"#35b779\"],[0.7777777777777778,\"#6ece58\"],[0.8888888888888888,\"#b5de2b\"],[1.0,\"#fde725\"]]},\"colorway\":[\"#91268F\",\"#8CC63E\",\"#00A7A0\",\"#F05A28\",\"#4C4C4C\",\"#630460\",\"#9f3913\",\"#588527\",\"#00716c\",\"#3e4040\"],\"font\":{\"color\":\"rgb(36,36,36)\",\"family\":\"Poppins\",\"size\":11},\"geo\":{\"bgcolor\":\"white\",\"lakecolor\":\"white\",\"landcolor\":\"white\",\"showlakes\":true,\"showland\":true,\"subunitcolor\":\"white\"},\"hoverlabel\":{\"align\":\"left\"},\"hovermode\":\"closest\",\"mapbox\":{\"style\":\"light\"},\"paper_bgcolor\":\"white\",\"plot_bgcolor\":\"white\",\"polar\":{\"angularaxis\":{\"gridcolor\":\"rgb(232,232,232)\",\"linecolor\":\"rgb(36,36,36)\",\"showgrid\":false,\"showline\":true,\"ticks\":\"outside\"},\"bgcolor\":\"white\",\"radialaxis\":{\"gridcolor\":\"rgb(232,232,232)\",\"linecolor\":\"rgb(36,36,36)\",\"showgrid\":false,\"showline\":true,\"ticks\":\"outside\"}},\"scene\":{\"xaxis\":{\"backgroundcolor\":\"white\",\"gridcolor\":\"rgb(232,232,232)\",\"gridwidth\":2,\"linecolor\":\"rgb(36,36,36)\",\"showbackground\":true,\"showgrid\":false,\"showline\":true,\"ticks\":\"outside\",\"zeroline\":false,\"zerolinecolor\":\"rgb(36,36,36)\"},\"yaxis\":{\"backgroundcolor\":\"white\",\"gridcolor\":\"rgb(232,232,232)\",\"gridwidth\":2,\"linecolor\":\"rgb(36,36,36)\",\"showbackground\":true,\"showgrid\":false,\"showline\":true,\"ticks\":\"outside\",\"zeroline\":false,\"zerolinecolor\":\"rgb(36,36,36)\"},\"zaxis\":{\"backgroundcolor\":\"white\",\"gridcolor\":\"rgb(232,232,232)\",\"gridwidth\":2,\"linecolor\":\"rgb(36,36,36)\",\"showbackground\":true,\"showgrid\":false,\"showline\":true,\"ticks\":\"outside\",\"zeroline\":false,\"zerolinecolor\":\"rgb(36,36,36)\"}},\"shapedefaults\":{\"fillcolor\":\"black\",\"line\":{\"width\":0},\"opacity\":0.3},\"ternary\":{\"aaxis\":{\"gridcolor\":\"rgb(232,232,232)\",\"linecolor\":\"rgb(36,36,36)\",\"showgrid\":false,\"showline\":true,\"ticks\":\"outside\"},\"baxis\":{\"gridcolor\":\"rgb(232,232,232)\",\"linecolor\":\"rgb(36,36,36)\",\"showgrid\":false,\"showline\":true,\"ticks\":\"outside\"},\"bgcolor\":\"white\",\"caxis\":{\"gridcolor\":\"rgb(232,232,232)\",\"linecolor\":\"rgb(36,36,36)\",\"showgrid\":false,\"showline\":true,\"ticks\":\"outside\"}},\"title\":{\"x\":0.05},\"xaxis\":{\"automargin\":true,\"gridcolor\":\"rgb(232,232,232)\",\"linecolor\":\"rgb(36,36,36)\",\"showgrid\":false,\"showline\":true,\"ticks\":\"outside\",\"title\":{\"standoff\":15},\"zeroline\":false,\"zerolinecolor\":\"rgb(36,36,36)\"},\"yaxis\":{\"automargin\":true,\"gridcolor\":\"rgb(232,232,232)\",\"linecolor\":\"rgb(36,36,36)\",\"showgrid\":false,\"showline\":true,\"ticks\":\"outside\",\"title\":{\"standoff\":15},\"zeroline\":false,\"zerolinecolor\":\"rgb(36,36,36)\"}}},\"xaxis\":{\"anchor\":\"y\",\"domain\":[0.0,0.98],\"title\":{\"text\":\"tlvorg_hr\"},\"dtick\":1,\"categoryorder\":\"category ascending\"},\"yaxis\":{\"anchor\":\"x\",\"domain\":[0.0,0.14166666666666666],\"title\":{\"text\":\"percentage\"},\"tickformat\":\".0%\"},\"xaxis2\":{\"anchor\":\"y2\",\"domain\":[0.0,0.98],\"matches\":\"x\",\"showticklabels\":false,\"dtick\":1,\"categoryorder\":\"category ascending\"},\"yaxis2\":{\"anchor\":\"x2\",\"domain\":[0.17166666666666666,0.31333333333333335],\"matches\":\"y\",\"title\":{\"text\":\"percentage\"},\"tickformat\":\".0%\"},\"xaxis3\":{\"anchor\":\"y3\",\"domain\":[0.0,0.98],\"matches\":\"x\",\"showticklabels\":false,\"dtick\":1,\"categoryorder\":\"category ascending\"},\"yaxis3\":{\"anchor\":\"x3\",\"domain\":[0.3433333333333333,0.485],\"matches\":\"y\",\"title\":{\"text\":\"percentage\"},\"tickformat\":\".0%\"},\"xaxis4\":{\"anchor\":\"y4\",\"domain\":[0.0,0.98],\"matches\":\"x\",\"showticklabels\":false,\"dtick\":1,\"categoryorder\":\"category ascending\"},\"yaxis4\":{\"anchor\":\"x4\",\"domain\":[0.515,0.6566666666666667],\"matches\":\"y\",\"title\":{\"text\":\"percentage\"},\"tickformat\":\".0%\"},\"xaxis5\":{\"anchor\":\"y5\",\"domain\":[0.0,0.98],\"matches\":\"x\",\"showticklabels\":false,\"dtick\":1,\"categoryorder\":\"category ascending\"},\"yaxis5\":{\"anchor\":\"x5\",\"domain\":[0.6866666666666666,0.8283333333333334],\"matches\":\"y\",\"title\":{\"text\":\"percentage\"},\"tickformat\":\".0%\"},\"xaxis6\":{\"anchor\":\"y6\",\"domain\":[0.0,0.98],\"matches\":\"x\",\"showticklabels\":false,\"dtick\":1,\"categoryorder\":\"category ascending\"},\"yaxis6\":{\"anchor\":\"x6\",\"domain\":[0.8583333333333333,1.0],\"matches\":\"y\",\"title\":{\"text\":\"percentage\"},\"tickformat\":\".0%\"},\"annotations\":[{\"font\":{},\"showarrow\":false,\"text\":\"Personal Business\",\"textangle\":90,\"x\":0.98,\"xanchor\":\"left\",\"xref\":\"paper\",\"y\":0.07083333333333333,\"yanchor\":\"middle\",\"yref\":\"paper\"},{\"font\":{},\"showarrow\":false,\"text\":\"Escort\",\"textangle\":90,\"x\":0.98,\"xanchor\":\"left\",\"xref\":\"paper\",\"y\":0.2425,\"yanchor\":\"middle\",\"yref\":\"paper\"},{\"font\":{},\"showarrow\":false,\"text\":\"Meal\",\"textangle\":90,\"x\":0.98,\"xanchor\":\"left\",\"xref\":\"paper\",\"y\":0.4141666666666667,\"yanchor\":\"middle\",\"yref\":\"paper\"},{\"font\":{},\"showarrow\":false,\"text\":\"Shop\",\"textangle\":90,\"x\":0.98,\"xanchor\":\"left\",\"xref\":\"paper\",\"y\":0.5858333333333334,\"yanchor\":\"middle\",\"yref\":\"paper\"},{\"font\":{},\"showarrow\":false,\"text\":\"School\",\"textangle\":90,\"x\":0.98,\"xanchor\":\"left\",\"xref\":\"paper\",\"y\":0.7575000000000001,\"yanchor\":\"middle\",\"yref\":\"paper\"},{\"font\":{},\"showarrow\":false,\"text\":\"Work\",\"textangle\":90,\"x\":0.98,\"xanchor\":\"left\",\"xref\":\"paper\",\"y\":0.9291666666666667,\"yanchor\":\"middle\",\"yref\":\"paper\"}],\"legend\":{\"title\":{\"text\":\"source\"},\"tracegroupgap\":0},\"title\":{\"text\":\"tour origin departure hour by purpose\"},\"barmode\":\"group\",\"height\":1500,\"width\":850},                        {\"responsive\": true}                    ).then(function(){\n",
       "                            \n",
       "var gd = document.getElementById('8e636aed-0310-4c0c-ba7a-8a18f170828f');\n",
       "var x = new MutationObserver(function (mutations, observer) {{\n",
       "        var display = window.getComputedStyle(gd).display;\n",
       "        if (!display || display === 'none') {{\n",
       "            console.log([gd, 'removed!']);\n",
       "            Plotly.purge(gd);\n",
       "            observer.disconnect();\n",
       "        }}\n",
       "}});\n",
       "\n",
       "// Listen for the removal of the full notebook cells\n",
       "var notebookContainer = gd.closest('#notebook-container');\n",
       "if (notebookContainer) {{\n",
       "    x.observe(notebookContainer, {childList: true});\n",
       "}}\n",
       "\n",
       "// Listen for the clearing of the current output cell\n",
       "var outputEl = gd.closest('.output');\n",
       "if (outputEl) {{\n",
       "    x.observe(outputEl, {childList: true});\n",
       "}}\n",
       "\n",
       "                        })                };                });            </script>        </div>"
      ]
     },
     "metadata": {},
     "output_type": "display_data"
    }
   ],
   "source": [
    "df_plot = df_tour.groupby(['tlvorg_hr','pdpurp_label','source'])['toexpfac'].agg(sample_count='size', toexpfac='sum').reset_index()\n",
    "df_plot['percentage'] = df_plot.groupby(['pdpurp_label','source'], group_keys=False)['toexpfac']. \\\n",
    "    apply(lambda x: x / float(x.sum()))\n",
    "\n",
    "fig = px.bar(df_plot.sort_values(['source','pdpurp_label']),\n",
    "             x=\"tlvorg_hr\", y=\"percentage\", color=\"source\",barmode=\"group\",\n",
    "             facet_row='pdpurp_label',\n",
    "             hover_data=['toexpfac','sample_count'],\n",
    "             title=\"tour origin departure hour by purpose\")\n",
    "fig.update_layout(height=1500, width=850)\n",
    "fig.for_each_annotation(lambda a: a.update(text = a.text.split(\"=\")[-1]))\n",
    "fig.for_each_xaxis(lambda a: a.update(dict(dtick = 1, categoryorder='category ascending')))\n",
    "fig.for_each_yaxis(lambda a: a.update(dict(tickformat=\".0%\")))\n",
    "fig.show()"
   ]
  },
  {
   "cell_type": "raw",
   "metadata": {
    "vscode": {
     "languageId": "raw"
    }
   },
   "source": [
    "### trip"
   ]
  },
  {
   "cell_type": "code",
   "execution_count": 7,
   "metadata": {
    "execution": {
     "iopub.execute_input": "2025-01-21T07:15:35.232422Z",
     "iopub.status.busy": "2025-01-21T07:15:35.230847Z",
     "iopub.status.idle": "2025-01-21T07:15:36.914521Z",
     "shell.execute_reply": "2025-01-21T07:15:36.913009Z"
    }
   },
   "outputs": [
    {
     "data": {
      "application/vnd.plotly.v1+json": {
       "config": {
        "plotlyServerURL": "https://plot.ly"
       },
       "data": [
        {
         "alignmentgroup": "True",
         "customdata": [
          [
           3705.0,
           3705.0
          ],
          [
           2463.0,
           2463.0
          ],
          [
           914.0,
           914.0
          ],
          [
           21318.0,
           21318.0
          ],
          [
           29943.0,
           29943.0
          ],
          [
           85605.0,
           85605.0
          ],
          [
           233938.0,
           233938.0
          ],
          [
           338674.0,
           338674.0
          ],
          [
           310378.0,
           310378.0
          ],
          [
           184317.0,
           184317.0
          ],
          [
           125900.0,
           125900.0
          ],
          [
           125548.0,
           125548.0
          ],
          [
           120677.0,
           120677.0
          ],
          [
           99948.0,
           99948.0
          ],
          [
           89781.0,
           89781.0
          ],
          [
           82525.0,
           82525.0
          ],
          [
           84458.0,
           84458.0
          ],
          [
           71256.0,
           71256.0
          ],
          [
           54002.0,
           54002.0
          ],
          [
           29835.0,
           29835.0
          ],
          [
           22942.0,
           22942.0
          ],
          [
           16865.0,
           16865.0
          ],
          [
           9621.0,
           9621.0
          ],
          [
           7471.0,
           7471.0
          ]
         ],
         "hovertemplate": "source=model<br>dpurp_label=Work<br>dept_hr=%{x}<br>percentage=%{y}<br>trexpfac=%{customdata[0]}<br>sample_count=%{customdata[1]}<extra></extra>",
         "legendgroup": "model",
         "marker": {
          "color": "#91268F",
          "pattern": {
           "shape": ""
          }
         },
         "name": "model",
         "offsetgroup": "model",
         "orientation": "v",
         "showlegend": true,
         "textposition": "auto",
         "type": "bar",
         "x": [
          0,
          1,
          2,
          3,
          4,
          5,
          6,
          7,
          8,
          9,
          10,
          11,
          12,
          13,
          14,
          15,
          16,
          17,
          18,
          19,
          20,
          21,
          22,
          23
         ],
         "xaxis": "x6",
         "y": [
          0.001721587075597421,
          0.0011444720559234676,
          0.00042470461190176594,
          0.009905747173437469,
          0.013913490365617698,
          0.03977772243090883,
          0.10870300601649378,
          0.1573702513470664,
          0.1442220656814511,
          0.08564582051629956,
          0.058501433958897515,
          0.058337871570068825,
          0.056074484081476375,
          0.046442425109800546,
          0.041718167134740095,
          0.038346551528657805,
          0.03924475066958353,
          0.03311023175675299,
          0.02509288670888311,
          0.013863306450863443,
          0.010660364558260737,
          0.007836590021579083,
          0.004470550406025044,
          0.00347151876971345
         ],
         "yaxis": "y6"
        },
        {
         "alignmentgroup": "True",
         "customdata": [
          [
           14.0,
           14.0
          ],
          [
           3.0,
           3.0
          ],
          [
           1.0,
           1.0
          ],
          [
           561.0,
           561.0
          ],
          [
           699.0,
           699.0
          ],
          [
           5621.0,
           5621.0
          ],
          [
           51466.0,
           51466.0
          ],
          [
           158671.0,
           158671.0
          ],
          [
           183846.0,
           183846.0
          ],
          [
           96400.0,
           96400.0
          ],
          [
           46977.0,
           46977.0
          ],
          [
           32183.0,
           32183.0
          ],
          [
           22784.0,
           22784.0
          ],
          [
           16592.0,
           16592.0
          ],
          [
           13579.0,
           13579.0
          ],
          [
           13552.0,
           13552.0
          ],
          [
           9559.0,
           9559.0
          ],
          [
           8197.0,
           8197.0
          ],
          [
           5604.0,
           5604.0
          ],
          [
           1838.0,
           1838.0
          ],
          [
           1504.0,
           1504.0
          ],
          [
           861.0,
           861.0
          ],
          [
           99.0,
           99.0
          ],
          [
           50.0,
           50.0
          ]
         ],
         "hovertemplate": "source=model<br>dpurp_label=School<br>dept_hr=%{x}<br>percentage=%{y}<br>trexpfac=%{customdata[0]}<br>sample_count=%{customdata[1]}<extra></extra>",
         "legendgroup": "model",
         "marker": {
          "color": "#91268F",
          "pattern": {
           "shape": ""
          }
         },
         "name": "model",
         "offsetgroup": "model",
         "orientation": "v",
         "showlegend": false,
         "textposition": "auto",
         "type": "bar",
         "x": [
          0,
          1,
          2,
          3,
          4,
          5,
          6,
          7,
          8,
          9,
          10,
          11,
          12,
          13,
          14,
          15,
          16,
          17,
          18,
          19,
          20,
          21,
          22,
          23
         ],
         "xaxis": "x5",
         "y": [
          2.087492786966888e-05,
          4.47319882921476e-06,
          1.49106627640492e-06,
          0.00083648818106316,
          0.001042255327207039,
          0.008381283539672055,
          0.07673921698145561,
          0.23658897714344504,
          0.2741265706519389,
          0.14373878904543427,
          0.07004582046667392,
          0.04798698597353954,
          0.033972454041609694,
          0.02473977165811043,
          0.020247188967302408,
          0.020206930177839474,
          0.01425310253615463,
          0.012222270267691128,
          0.008355935412973171,
          0.002740579816032243,
          0.0022425636797129994,
          0.001283808063984636,
          0.00014761556136408708,
          7.4553313820246e-05
         ],
         "yaxis": "y5"
        },
        {
         "alignmentgroup": "True",
         "customdata": [
          [
           1138.0,
           1138.0
          ],
          [
           842.0,
           842.0
          ],
          [
           296.0,
           296.0
          ],
          [
           7807.0,
           7807.0
          ],
          [
           7962.0,
           7962.0
          ],
          [
           12268.0,
           12268.0
          ],
          [
           32309.0,
           32309.0
          ],
          [
           68112.0,
           68112.0
          ],
          [
           111612.0,
           111612.0
          ],
          [
           153322.0,
           153322.0
          ],
          [
           179859.0,
           179859.0
          ],
          [
           169057.0,
           169057.0
          ],
          [
           158763.0,
           158763.0
          ],
          [
           176525.0,
           176525.0
          ],
          [
           158381.0,
           158381.0
          ],
          [
           180114.0,
           180114.0
          ],
          [
           192602.0,
           192602.0
          ],
          [
           161984.0,
           161984.0
          ],
          [
           127954.0,
           127954.0
          ],
          [
           88432.0,
           88432.0
          ],
          [
           59672.0,
           59672.0
          ],
          [
           21392.0,
           21392.0
          ],
          [
           9451.0,
           9451.0
          ],
          [
           5797.0,
           5797.0
          ]
         ],
         "hovertemplate": "source=model<br>dpurp_label=Shop<br>dept_hr=%{x}<br>percentage=%{y}<br>trexpfac=%{customdata[0]}<br>sample_count=%{customdata[1]}<extra></extra>",
         "legendgroup": "model",
         "marker": {
          "color": "#91268F",
          "pattern": {
           "shape": ""
          }
         },
         "name": "model",
         "offsetgroup": "model",
         "orientation": "v",
         "showlegend": false,
         "textposition": "auto",
         "type": "bar",
         "x": [
          0,
          1,
          2,
          3,
          4,
          5,
          6,
          7,
          8,
          9,
          10,
          11,
          12,
          13,
          14,
          15,
          16,
          17,
          18,
          19,
          20,
          21,
          22,
          23
         ],
         "xaxis": "x4",
         "y": [
          0.0005456329942066051,
          0.0004037108797205285,
          0.00014192211448607652,
          0.0037431957695702686,
          0.003817513093034261,
          0.00588209628552428,
          0.01549108647611705,
          0.032657429263093396,
          0.053514226493310724,
          0.07351277850416968,
          0.08623638374780823,
          0.08105718550227244,
          0.07612155629105732,
          0.08463784209342791,
          0.0759384000487138,
          0.08635864773157158,
          0.09234622666975444,
          0.0776659182192994,
          0.061349669719430525,
          0.04240019063592135,
          0.028610731133828237,
          0.01025674957123699,
          0.004531438864891585,
          0.0027794678975533297
         ],
         "yaxis": "y4"
        },
        {
         "alignmentgroup": "True",
         "customdata": [
          [
           928.0,
           928.0
          ],
          [
           662.0,
           662.0
          ],
          [
           261.0,
           261.0
          ],
          [
           4121.0,
           4121.0
          ],
          [
           4545.0,
           4545.0
          ],
          [
           8912.0,
           8912.0
          ],
          [
           23717.0,
           23717.0
          ],
          [
           36593.0,
           36593.0
          ],
          [
           51552.0,
           51552.0
          ],
          [
           62546.0,
           62546.0
          ],
          [
           81144.0,
           81144.0
          ],
          [
           86922.0,
           86922.0
          ],
          [
           84680.0,
           84680.0
          ],
          [
           88457.0,
           88457.0
          ],
          [
           77753.0,
           77753.0
          ],
          [
           72901.0,
           72901.0
          ],
          [
           82910.0,
           82910.0
          ],
          [
           80884.0,
           80884.0
          ],
          [
           67570.0,
           67570.0
          ],
          [
           45685.0,
           45685.0
          ],
          [
           33569.0,
           33569.0
          ],
          [
           19086.0,
           19086.0
          ],
          [
           7841.0,
           7841.0
          ],
          [
           4121.0,
           4121.0
          ]
         ],
         "hovertemplate": "source=model<br>dpurp_label=Meal<br>dept_hr=%{x}<br>percentage=%{y}<br>trexpfac=%{customdata[0]}<br>sample_count=%{customdata[1]}<extra></extra>",
         "legendgroup": "model",
         "marker": {
          "color": "#91268F",
          "pattern": {
           "shape": ""
          }
         },
         "name": "model",
         "offsetgroup": "model",
         "orientation": "v",
         "showlegend": false,
         "textposition": "auto",
         "type": "bar",
         "x": [
          0,
          1,
          2,
          3,
          4,
          5,
          6,
          7,
          8,
          9,
          10,
          11,
          12,
          13,
          14,
          15,
          16,
          17,
          18,
          19,
          20,
          21,
          22,
          23
         ],
         "xaxis": "x3",
         "y": [
          0.000903286092508955,
          0.0006443700358199657,
          0.0002540492135181436,
          0.004011252141410995,
          0.004423960442298707,
          0.008674661267715308,
          0.023085383896589318,
          0.03561847843015107,
          0.050179099828687124,
          0.06088031459274256,
          0.0789830244510201,
          0.08460714841924934,
          0.08242485594144214,
          0.08610126927269895,
          0.07568233141255257,
          0.07095954679956393,
          0.08070199345896278,
          0.07872994860613612,
          0.06577051861080828,
          0.04446834605201682,
          0.03267501168042361,
          0.018577713751752063,
          0.007632183460520168,
          0.004011252141410995
         ],
         "yaxis": "y3"
        },
        {
         "alignmentgroup": "True",
         "customdata": [
          [
           2280.0,
           2280.0
          ],
          [
           1538.0,
           1538.0
          ],
          [
           600.0,
           600.0
          ],
          [
           25692.0,
           25692.0
          ],
          [
           24315.0,
           24315.0
          ],
          [
           43838.0,
           43838.0
          ],
          [
           118038.0,
           118038.0
          ],
          [
           143359.0,
           143359.0
          ],
          [
           126240.0,
           126240.0
          ],
          [
           108925.0,
           108925.0
          ],
          [
           103762.0,
           103762.0
          ],
          [
           86432.0,
           86432.0
          ],
          [
           82052.0,
           82052.0
          ],
          [
           91473.0,
           91473.0
          ],
          [
           92412.0,
           92412.0
          ],
          [
           124486.0,
           124486.0
          ],
          [
           142899.0,
           142899.0
          ],
          [
           127251.0,
           127251.0
          ],
          [
           87709.0,
           87709.0
          ],
          [
           52948.0,
           52948.0
          ],
          [
           38899.0,
           38899.0
          ],
          [
           20736.0,
           20736.0
          ],
          [
           11418.0,
           11418.0
          ],
          [
           9132.0,
           9132.0
          ]
         ],
         "hovertemplate": "source=model<br>dpurp_label=Escort<br>dept_hr=%{x}<br>percentage=%{y}<br>trexpfac=%{customdata[0]}<br>sample_count=%{customdata[1]}<extra></extra>",
         "legendgroup": "model",
         "marker": {
          "color": "#91268F",
          "pattern": {
           "shape": ""
          }
         },
         "name": "model",
         "offsetgroup": "model",
         "orientation": "v",
         "showlegend": false,
         "textposition": "auto",
         "type": "bar",
         "x": [
          0,
          1,
          2,
          3,
          4,
          5,
          6,
          7,
          8,
          9,
          10,
          11,
          12,
          13,
          14,
          15,
          16,
          17,
          18,
          19,
          20,
          21,
          22,
          23
         ],
         "xaxis": "x2",
         "y": [
          0.0013681909994635252,
          0.0009229288408661849,
          0.0003600502630167171,
          0.015417352262375828,
          0.014591036908752462,
          0.026306472383544742,
          0.07083268824327876,
          0.08602740942635592,
          0.07575457533871728,
          0.06536412483182652,
          0.062265892318567675,
          0.05186644055510149,
          0.049238073635079455,
          0.05489146284821361,
          0.05545494150983477,
          0.07470202840316509,
          0.08575137089137644,
          0.07636126003190045,
          0.052632747531555404,
          0.031773235543681895,
          0.023342658635145466,
          0.012443337089857745,
          0.006851756505208127,
          0.005479965003114435
         ],
         "yaxis": "y2"
        },
        {
         "alignmentgroup": "True",
         "customdata": [
          [
           522.0,
           522.0
          ],
          [
           316.0,
           316.0
          ],
          [
           141.0,
           141.0
          ],
          [
           4788.0,
           4788.0
          ],
          [
           4512.0,
           4512.0
          ],
          [
           8401.0,
           8401.0
          ],
          [
           22990.0,
           22990.0
          ],
          [
           41442.0,
           41442.0
          ],
          [
           63584.0,
           63584.0
          ],
          [
           78668.0,
           78668.0
          ],
          [
           81643.0,
           81643.0
          ],
          [
           70237.0,
           70237.0
          ],
          [
           65504.0,
           65504.0
          ],
          [
           70341.0,
           70341.0
          ],
          [
           60415.0,
           60415.0
          ],
          [
           62902.0,
           62902.0
          ],
          [
           68986.0,
           68986.0
          ],
          [
           55397.0,
           55397.0
          ],
          [
           43195.0,
           43195.0
          ],
          [
           25395.0,
           25395.0
          ],
          [
           18174.0,
           18174.0
          ],
          [
           9790.0,
           9790.0
          ],
          [
           3777.0,
           3777.0
          ],
          [
           2320.0,
           2320.0
          ]
         ],
         "hovertemplate": "source=model<br>dpurp_label=Personal Business<br>dept_hr=%{x}<br>percentage=%{y}<br>trexpfac=%{customdata[0]}<br>sample_count=%{customdata[1]}<extra></extra>",
         "legendgroup": "model",
         "marker": {
          "color": "#91268F",
          "pattern": {
           "shape": ""
          }
         },
         "name": "model",
         "offsetgroup": "model",
         "orientation": "v",
         "showlegend": false,
         "textposition": "auto",
         "type": "bar",
         "x": [
          0,
          1,
          2,
          3,
          4,
          5,
          6,
          7,
          8,
          9,
          10,
          11,
          12,
          13,
          14,
          15,
          16,
          17,
          18,
          19,
          20,
          21,
          22,
          23
         ],
         "xaxis": "x",
         "y": [
          0.0006045585101454647,
          0.00036597794867043455,
          0.00016330028722320023,
          0.005545260817196331,
          0.0052256091911424074,
          0.00972968590753266,
          0.026626053923839526,
          0.04799638654683591,
          0.07364032243120541,
          0.0911099786898916,
          0.09455549893449458,
          0.08134554804039655,
          0.07586398591679792,
          0.08146599647919948,
          0.06997011952191234,
          0.0728504586305939,
          0.07989669230056518,
          0.06415848234967109,
          0.050026637635504495,
          0.02941142407115723,
          0.021048364680811636,
          0.011338367460390995,
          0.004374363013064023,
          0.002686926711757621
         ],
         "yaxis": "y"
        },
        {
         "alignmentgroup": "True",
         "customdata": [
          [
           804.680284745979,
           3.0
          ],
          [
           562.3747441545361,
           2.0
          ],
          [
           0.0,
           0.0
          ],
          [
           12541.120743195179,
           22.0
          ],
          [
           53412.45675627711,
           63.0
          ],
          [
           106403.91744037515,
           137.0
          ],
          [
           210508.0172962619,
           375.0
          ],
          [
           363308.59917240904,
           635.0
          ],
          [
           286435.997377787,
           621.0
          ],
          [
           183302.98131302337,
           405.0
          ],
          [
           106180.05312067756,
           268.0
          ],
          [
           82219.09587484083,
           235.0
          ],
          [
           87388.77158814191,
           322.0
          ],
          [
           76203.60059923676,
           238.0
          ],
          [
           96806.63584919396,
           196.0
          ],
          [
           72354.08766082792,
           146.0
          ],
          [
           36458.00032092915,
           110.0
          ],
          [
           26134.5870278864,
           112.0
          ],
          [
           9622.42790991357,
           59.0
          ],
          [
           13280.302417338813,
           45.0
          ],
          [
           3794.3513886581586,
           34.0
          ],
          [
           646.117373288423,
           22.0
          ],
          [
           10795.506686474104,
           16.0
          ],
          [
           1337.3601564685962,
           10.0
          ]
         ],
         "hovertemplate": "source=survey<br>dpurp_label=Work<br>dept_hr=%{x}<br>percentage=%{y}<br>trexpfac=%{customdata[0]}<br>sample_count=%{customdata[1]}<extra></extra>",
         "legendgroup": "survey",
         "marker": {
          "color": "#8CC63E",
          "pattern": {
           "shape": ""
          }
         },
         "name": "survey",
         "offsetgroup": "survey",
         "orientation": "v",
         "showlegend": true,
         "textposition": "auto",
         "type": "bar",
         "x": [
          0,
          1,
          2,
          3,
          4,
          5,
          6,
          7,
          8,
          9,
          10,
          11,
          12,
          13,
          14,
          15,
          16,
          17,
          18,
          19,
          20,
          21,
          22,
          23
         ],
         "xaxis": "x6",
         "y": [
          0.00043720718755459984,
          0.0003055552433736584,
          0.0,
          0.006813971005448343,
          0.029020606620386438,
          0.05781247331489405,
          0.11437538603154355,
          0.19739657335921093,
          0.15562935889186366,
          0.09959406543126542,
          0.05769084104495506,
          0.04467212674667284,
          0.04748096824810864,
          0.04140372584130571,
          0.05259797934481443,
          0.03931216878794995,
          0.0198087365707114,
          0.014199713238867493,
          0.005228156727200369,
          0.007215590812681794,
          0.0020615861114986933,
          0.0003510551519163569,
          0.005865525981054932,
          0.0007266283067215863
         ],
         "yaxis": "y6"
        },
        {
         "alignmentgroup": "True",
         "customdata": [
          [
           0.0,
           0.0
          ],
          [
           0.0,
           0.0
          ],
          [
           0.0,
           0.0
          ],
          [
           0.0,
           0.0
          ],
          [
           86.688593033636,
           1.0
          ],
          [
           454.39219826369094,
           4.0
          ],
          [
           25738.818694978792,
           26.0
          ],
          [
           202083.50156386622,
           237.0
          ],
          [
           186704.40572451914,
           266.0
          ],
          [
           56855.249368937446,
           63.0
          ],
          [
           9549.543311810197,
           22.0
          ],
          [
           6417.963156613865,
           16.0
          ],
          [
           6418.499390814672,
           13.0
          ],
          [
           16271.837201016171,
           19.0
          ],
          [
           5075.98314184551,
           13.0
          ],
          [
           3816.1068847656506,
           15.0
          ],
          [
           4405.086266508944,
           9.0
          ],
          [
           1012.1140325171593,
           8.0
          ],
          [
           11446.021215011839,
           3.0
          ],
          [
           117.770432262396,
           1.0
          ],
          [
           0.0,
           0.0
          ],
          [
           0.0,
           0.0
          ],
          [
           0.0,
           0.0
          ],
          [
           0.0,
           0.0
          ]
         ],
         "hovertemplate": "source=survey<br>dpurp_label=School<br>dept_hr=%{x}<br>percentage=%{y}<br>trexpfac=%{customdata[0]}<br>sample_count=%{customdata[1]}<extra></extra>",
         "legendgroup": "survey",
         "marker": {
          "color": "#8CC63E",
          "pattern": {
           "shape": ""
          }
         },
         "name": "survey",
         "offsetgroup": "survey",
         "orientation": "v",
         "showlegend": false,
         "textposition": "auto",
         "type": "bar",
         "x": [
          0,
          1,
          2,
          3,
          4,
          5,
          6,
          7,
          8,
          9,
          10,
          11,
          12,
          13,
          14,
          15,
          16,
          17,
          18,
          19,
          20,
          21,
          22,
          23
         ],
         "xaxis": "x5",
         "y": [
          0.0,
          0.0,
          0.0,
          0.0,
          0.0001615955814951283,
          0.0008470292219044332,
          0.047979546425432666,
          0.37670239881634565,
          0.34803433710187853,
          0.10598346058355236,
          0.017801234862424402,
          0.011963678864933434,
          0.01196467845524243,
          0.030332214452621405,
          0.009462103591273262,
          0.0071135773405850014,
          0.008211489561221912,
          0.0018866744735438188,
          0.021336445653556062,
          0.0002195350139895594,
          0.0,
          0.0,
          0.0,
          0.0
         ],
         "yaxis": "y5"
        },
        {
         "alignmentgroup": "True",
         "customdata": [
          [
           358.7736350081784,
           3.0
          ],
          [
           143.521368637738,
           1.0
          ],
          [
           570.896774611867,
           1.0
          ],
          [
           0.0,
           0.0
          ],
          [
           2395.07790418324,
           2.0
          ],
          [
           1099.1269493912553,
           8.0
          ],
          [
           9682.191616724744,
           16.0
          ],
          [
           30867.07210367277,
           55.0
          ],
          [
           52251.959717635866,
           96.0
          ],
          [
           74744.52813632283,
           194.0
          ],
          [
           140914.81237725343,
           291.0
          ],
          [
           165531.30596257249,
           335.0
          ],
          [
           158567.48853577266,
           324.0
          ],
          [
           148506.46920882657,
           304.0
          ],
          [
           218739.25280935795,
           345.0
          ],
          [
           239020.2878086382,
           296.0
          ],
          [
           200033.08064701868,
           332.0
          ],
          [
           128142.27916296133,
           305.0
          ],
          [
           151266.4657271988,
           246.0
          ],
          [
           69608.41782593237,
           214.0
          ],
          [
           33729.00173269235,
           85.0
          ],
          [
           16880.520789716313,
           29.0
          ],
          [
           16289.14360404536,
           19.0
          ],
          [
           4775.237711364983,
           7.0
          ]
         ],
         "hovertemplate": "source=survey<br>dpurp_label=Shop<br>dept_hr=%{x}<br>percentage=%{y}<br>trexpfac=%{customdata[0]}<br>sample_count=%{customdata[1]}<extra></extra>",
         "legendgroup": "survey",
         "marker": {
          "color": "#8CC63E",
          "pattern": {
           "shape": ""
          }
         },
         "name": "survey",
         "offsetgroup": "survey",
         "orientation": "v",
         "showlegend": false,
         "textposition": "auto",
         "type": "bar",
         "x": [
          0,
          1,
          2,
          3,
          4,
          5,
          6,
          7,
          8,
          9,
          10,
          11,
          12,
          13,
          14,
          15,
          16,
          17,
          18,
          19,
          20,
          21,
          22,
          23
         ],
         "xaxis": "x4",
         "y": [
          0.00019246305458500988,
          7.699161340439807e-05,
          0.00030625588497333465,
          0.0,
          0.001284832452634548,
          0.0005896233987531508,
          0.005193983034984554,
          0.016558549468199315,
          0.028030409132710783,
          0.04009648088635047,
          0.0755933340134693,
          0.08879877913625489,
          0.0850630598894834,
          0.07966585585062273,
          0.11734202473482216,
          0.12822172593142206,
          0.10730715404574596,
          0.06874154637540857,
          0.08114644781373564,
          0.037341229712443066,
          0.01809382314681256,
          0.009055505413881667,
          0.008738262873014572,
          0.00256166213628793
         ],
         "yaxis": "y4"
        },
        {
         "alignmentgroup": "True",
         "customdata": [
          [
           632.62215829592,
           1.0
          ],
          [
           0.0,
           0.0
          ],
          [
           0.0,
           0.0
          ],
          [
           0.0,
           0.0
          ],
          [
           23.312448148228,
           1.0
          ],
          [
           4014.9909061810304,
           5.0
          ],
          [
           19388.229589911243,
           28.0
          ],
          [
           17193.660954560186,
           49.0
          ],
          [
           40281.55067203224,
           70.0
          ],
          [
           32319.33442456047,
           90.0
          ],
          [
           22494.99710279026,
           86.0
          ],
          [
           79180.18027602996,
           200.0
          ],
          [
           114995.59534596713,
           241.0
          ],
          [
           36169.077116900284,
           153.0
          ],
          [
           78095.67868397434,
           120.0
          ],
          [
           85847.74714025237,
           121.0
          ],
          [
           70614.77254108735,
           161.0
          ],
          [
           84957.92642486228,
           207.0
          ],
          [
           83071.03998130134,
           202.0
          ],
          [
           60305.82273592014,
           119.0
          ],
          [
           68578.57197356773,
           83.0
          ],
          [
           13629.970082285341,
           29.0
          ],
          [
           4952.542971132462,
           15.0
          ],
          [
           1494.7720542075886,
           4.0
          ]
         ],
         "hovertemplate": "source=survey<br>dpurp_label=Meal<br>dept_hr=%{x}<br>percentage=%{y}<br>trexpfac=%{customdata[0]}<br>sample_count=%{customdata[1]}<extra></extra>",
         "legendgroup": "survey",
         "marker": {
          "color": "#8CC63E",
          "pattern": {
           "shape": ""
          }
         },
         "name": "survey",
         "offsetgroup": "survey",
         "orientation": "v",
         "showlegend": false,
         "textposition": "auto",
         "type": "bar",
         "x": [
          0,
          1,
          2,
          3,
          4,
          5,
          6,
          7,
          8,
          9,
          10,
          11,
          12,
          13,
          14,
          15,
          16,
          17,
          18,
          19,
          20,
          21,
          22,
          23
         ],
         "xaxis": "x3",
         "y": [
          0.0006889489761508952,
          0.0,
          0.0,
          0.0,
          2.5388120021840368e-05,
          0.004372473897404449,
          0.0211145005753966,
          0.01872453399804706,
          0.043868101566378534,
          0.035196952983211564,
          0.024497885537602827,
          0.08623015083688694,
          0.12523446521202522,
          0.039389465451437906,
          0.08504908841015602,
          0.09349137826037361,
          0.07690210436883498,
          0.09252233052344769,
          0.09046744125604357,
          0.06567527596846352,
          0.07468460648667209,
          0.014843542563308883,
          0.005393502842986061,
          0.0016278621651497254
         ],
         "yaxis": "y3"
        },
        {
         "alignmentgroup": "True",
         "customdata": [
          [
           9.16501889224752,
           1.0
          ],
          [
           0.0,
           0.0
          ],
          [
           0.0,
           0.0
          ],
          [
           0.0,
           0.0
          ],
          [
           4054.1074151579,
           1.0
          ],
          [
           3125.344562952493,
           10.0
          ],
          [
           33587.474177644646,
           37.0
          ],
          [
           234730.64420605893,
           227.0
          ],
          [
           187868.1403029039,
           234.0
          ],
          [
           83194.89099350593,
           95.0
          ],
          [
           19655.609745442118,
           78.0
          ],
          [
           28470.57453152318,
           63.0
          ],
          [
           24735.782631357033,
           76.0
          ],
          [
           93383.3054702929,
           87.0
          ],
          [
           153778.12436165885,
           175.0
          ],
          [
           205282.61662488474,
           228.0
          ],
          [
           91440.77992572649,
           153.0
          ],
          [
           103597.81032057249,
           140.0
          ],
          [
           25422.955729679896,
           68.0
          ],
          [
           39576.823921154675,
           58.0
          ],
          [
           21548.815213539914,
           29.0
          ],
          [
           8339.18214681177,
           23.0
          ],
          [
           11516.748013204216,
           13.0
          ],
          [
           607.5843848720184,
           3.0
          ]
         ],
         "hovertemplate": "source=survey<br>dpurp_label=Escort<br>dept_hr=%{x}<br>percentage=%{y}<br>trexpfac=%{customdata[0]}<br>sample_count=%{customdata[1]}<extra></extra>",
         "legendgroup": "survey",
         "marker": {
          "color": "#8CC63E",
          "pattern": {
           "shape": ""
          }
         },
         "name": "survey",
         "offsetgroup": "survey",
         "orientation": "v",
         "showlegend": false,
         "textposition": "auto",
         "type": "bar",
         "x": [
          0,
          1,
          2,
          3,
          4,
          5,
          6,
          7,
          8,
          9,
          10,
          11,
          12,
          13,
          14,
          15,
          16,
          17,
          18,
          19,
          20,
          21,
          22,
          23
         ],
         "xaxis": "x2",
         "y": [
          6.67067636272878e-06,
          0.0,
          0.0,
          0.0,
          0.00295074552755509,
          0.0022747538599298565,
          0.024446340232871445,
          0.17084658289552915,
          0.13673813197356904,
          0.06055265126835808,
          0.014306158324981784,
          0.020722050962861296,
          0.01800371635372884,
          0.06796819687966886,
          0.11192602124931665,
          0.1494131015438555,
          0.06655434717717704,
          0.07540273213407785,
          0.018503869097326875,
          0.028805634439667174,
          0.015684110854519002,
          0.006069598533864623,
          0.008382361198640746,
          0.0004422248161383735
         ],
         "yaxis": "y2"
        },
        {
         "alignmentgroup": "True",
         "customdata": [
          [
           0.0,
           0.0
          ],
          [
           0.0,
           0.0
          ],
          [
           0.0,
           0.0
          ],
          [
           0.0,
           0.0
          ],
          [
           0.0,
           0.0
          ],
          [
           2941.709816663014,
           5.0
          ],
          [
           6787.840124287101,
           24.0
          ],
          [
           44644.19766696868,
           76.0
          ],
          [
           31765.464901663872,
           110.0
          ],
          [
           74424.1342379433,
           155.0
          ],
          [
           66592.7673521372,
           183.0
          ],
          [
           55823.58774670971,
           148.0
          ],
          [
           71755.10161401259,
           147.0
          ],
          [
           75768.19484864995,
           170.0
          ],
          [
           130627.28838497953,
           161.0
          ],
          [
           63498.44906164758,
           136.0
          ],
          [
           40413.19147329936,
           122.0
          ],
          [
           68848.96749056579,
           83.0
          ],
          [
           9367.286388232722,
           51.0
          ],
          [
           13896.771678979154,
           22.0
          ],
          [
           1354.5155151784093,
           8.0
          ],
          [
           5413.758002958482,
           5.0
          ],
          [
           197.424677262663,
           1.0
          ],
          [
           0.0,
           0.0
          ]
         ],
         "hovertemplate": "source=survey<br>dpurp_label=Personal Business<br>dept_hr=%{x}<br>percentage=%{y}<br>trexpfac=%{customdata[0]}<br>sample_count=%{customdata[1]}<extra></extra>",
         "legendgroup": "survey",
         "marker": {
          "color": "#8CC63E",
          "pattern": {
           "shape": ""
          }
         },
         "name": "survey",
         "offsetgroup": "survey",
         "orientation": "v",
         "showlegend": false,
         "textposition": "auto",
         "type": "bar",
         "x": [
          0,
          1,
          2,
          3,
          4,
          5,
          6,
          7,
          8,
          9,
          10,
          11,
          12,
          13,
          14,
          15,
          16,
          17,
          18,
          19,
          20,
          21,
          22,
          23
         ],
         "xaxis": "x",
         "y": [
          0.0,
          0.0,
          0.0,
          0.0,
          0.0,
          0.0038497975586472854,
          0.008883204655655567,
          0.058425587123691294,
          0.04157126870061043,
          0.09739840710008886,
          0.08714954538467744,
          0.0730559862175673,
          0.09390546050781949,
          0.09915737096133131,
          0.17095112953311983,
          0.083100030054196,
          0.05288849531988894,
          0.09010222064025213,
          0.01225891012916974,
          0.018186619692999218,
          0.0017726461304735373,
          0.007084951827960773,
          0.0002583684618507682,
          0.0
         ],
         "yaxis": "y"
        }
       ],
       "layout": {
        "annotations": [
         {
          "font": {},
          "showarrow": false,
          "text": "Personal Business",
          "textangle": 90,
          "x": 0.98,
          "xanchor": "left",
          "xref": "paper",
          "y": 0.07083333333333333,
          "yanchor": "middle",
          "yref": "paper"
         },
         {
          "font": {},
          "showarrow": false,
          "text": "Escort",
          "textangle": 90,
          "x": 0.98,
          "xanchor": "left",
          "xref": "paper",
          "y": 0.2425,
          "yanchor": "middle",
          "yref": "paper"
         },
         {
          "font": {},
          "showarrow": false,
          "text": "Meal",
          "textangle": 90,
          "x": 0.98,
          "xanchor": "left",
          "xref": "paper",
          "y": 0.4141666666666667,
          "yanchor": "middle",
          "yref": "paper"
         },
         {
          "font": {},
          "showarrow": false,
          "text": "Shop",
          "textangle": 90,
          "x": 0.98,
          "xanchor": "left",
          "xref": "paper",
          "y": 0.5858333333333334,
          "yanchor": "middle",
          "yref": "paper"
         },
         {
          "font": {},
          "showarrow": false,
          "text": "School",
          "textangle": 90,
          "x": 0.98,
          "xanchor": "left",
          "xref": "paper",
          "y": 0.7575000000000001,
          "yanchor": "middle",
          "yref": "paper"
         },
         {
          "font": {},
          "showarrow": false,
          "text": "Work",
          "textangle": 90,
          "x": 0.98,
          "xanchor": "left",
          "xref": "paper",
          "y": 0.9291666666666667,
          "yanchor": "middle",
          "yref": "paper"
         }
        ],
        "barmode": "group",
        "height": 1500,
        "legend": {
         "title": {
          "text": "source"
         },
         "tracegroupgap": 0
        },
        "template": {
         "data": {
          "bar": [
           {
            "error_x": {
             "color": "rgb(36,36,36)"
            },
            "error_y": {
             "color": "rgb(36,36,36)"
            },
            "marker": {
             "line": {
              "color": "white",
              "width": 0.5
             },
             "pattern": {
              "fillmode": "overlay",
              "size": 10,
              "solidity": 0.2
             }
            },
            "type": "bar"
           }
          ],
          "barpolar": [
           {
            "marker": {
             "line": {
              "color": "white",
              "width": 0.5
             },
             "pattern": {
              "fillmode": "overlay",
              "size": 10,
              "solidity": 0.2
             }
            },
            "type": "barpolar"
           }
          ],
          "carpet": [
           {
            "aaxis": {
             "endlinecolor": "rgb(36,36,36)",
             "gridcolor": "white",
             "linecolor": "white",
             "minorgridcolor": "white",
             "startlinecolor": "rgb(36,36,36)"
            },
            "baxis": {
             "endlinecolor": "rgb(36,36,36)",
             "gridcolor": "white",
             "linecolor": "white",
             "minorgridcolor": "white",
             "startlinecolor": "rgb(36,36,36)"
            },
            "type": "carpet"
           }
          ],
          "choropleth": [
           {
            "colorbar": {
             "outlinewidth": 1,
             "tickcolor": "rgb(36,36,36)",
             "ticks": "outside"
            },
            "type": "choropleth"
           }
          ],
          "contour": [
           {
            "colorbar": {
             "outlinewidth": 1,
             "tickcolor": "rgb(36,36,36)",
             "ticks": "outside"
            },
            "colorscale": [
             [
              0.0,
              "#440154"
             ],
             [
              0.1111111111111111,
              "#482878"
             ],
             [
              0.2222222222222222,
              "#3e4989"
             ],
             [
              0.3333333333333333,
              "#31688e"
             ],
             [
              0.4444444444444444,
              "#26828e"
             ],
             [
              0.5555555555555556,
              "#1f9e89"
             ],
             [
              0.6666666666666666,
              "#35b779"
             ],
             [
              0.7777777777777778,
              "#6ece58"
             ],
             [
              0.8888888888888888,
              "#b5de2b"
             ],
             [
              1.0,
              "#fde725"
             ]
            ],
            "type": "contour"
           }
          ],
          "contourcarpet": [
           {
            "colorbar": {
             "outlinewidth": 1,
             "tickcolor": "rgb(36,36,36)",
             "ticks": "outside"
            },
            "type": "contourcarpet"
           }
          ],
          "heatmap": [
           {
            "colorbar": {
             "outlinewidth": 1,
             "tickcolor": "rgb(36,36,36)",
             "ticks": "outside"
            },
            "colorscale": [
             [
              0.0,
              "#440154"
             ],
             [
              0.1111111111111111,
              "#482878"
             ],
             [
              0.2222222222222222,
              "#3e4989"
             ],
             [
              0.3333333333333333,
              "#31688e"
             ],
             [
              0.4444444444444444,
              "#26828e"
             ],
             [
              0.5555555555555556,
              "#1f9e89"
             ],
             [
              0.6666666666666666,
              "#35b779"
             ],
             [
              0.7777777777777778,
              "#6ece58"
             ],
             [
              0.8888888888888888,
              "#b5de2b"
             ],
             [
              1.0,
              "#fde725"
             ]
            ],
            "type": "heatmap"
           }
          ],
          "heatmapgl": [
           {
            "colorbar": {
             "outlinewidth": 1,
             "tickcolor": "rgb(36,36,36)",
             "ticks": "outside"
            },
            "colorscale": [
             [
              0.0,
              "#440154"
             ],
             [
              0.1111111111111111,
              "#482878"
             ],
             [
              0.2222222222222222,
              "#3e4989"
             ],
             [
              0.3333333333333333,
              "#31688e"
             ],
             [
              0.4444444444444444,
              "#26828e"
             ],
             [
              0.5555555555555556,
              "#1f9e89"
             ],
             [
              0.6666666666666666,
              "#35b779"
             ],
             [
              0.7777777777777778,
              "#6ece58"
             ],
             [
              0.8888888888888888,
              "#b5de2b"
             ],
             [
              1.0,
              "#fde725"
             ]
            ],
            "type": "heatmapgl"
           }
          ],
          "histogram": [
           {
            "marker": {
             "line": {
              "color": "white",
              "width": 0.6
             }
            },
            "type": "histogram"
           }
          ],
          "histogram2d": [
           {
            "colorbar": {
             "outlinewidth": 1,
             "tickcolor": "rgb(36,36,36)",
             "ticks": "outside"
            },
            "colorscale": [
             [
              0.0,
              "#440154"
             ],
             [
              0.1111111111111111,
              "#482878"
             ],
             [
              0.2222222222222222,
              "#3e4989"
             ],
             [
              0.3333333333333333,
              "#31688e"
             ],
             [
              0.4444444444444444,
              "#26828e"
             ],
             [
              0.5555555555555556,
              "#1f9e89"
             ],
             [
              0.6666666666666666,
              "#35b779"
             ],
             [
              0.7777777777777778,
              "#6ece58"
             ],
             [
              0.8888888888888888,
              "#b5de2b"
             ],
             [
              1.0,
              "#fde725"
             ]
            ],
            "type": "histogram2d"
           }
          ],
          "histogram2dcontour": [
           {
            "colorbar": {
             "outlinewidth": 1,
             "tickcolor": "rgb(36,36,36)",
             "ticks": "outside"
            },
            "colorscale": [
             [
              0.0,
              "#440154"
             ],
             [
              0.1111111111111111,
              "#482878"
             ],
             [
              0.2222222222222222,
              "#3e4989"
             ],
             [
              0.3333333333333333,
              "#31688e"
             ],
             [
              0.4444444444444444,
              "#26828e"
             ],
             [
              0.5555555555555556,
              "#1f9e89"
             ],
             [
              0.6666666666666666,
              "#35b779"
             ],
             [
              0.7777777777777778,
              "#6ece58"
             ],
             [
              0.8888888888888888,
              "#b5de2b"
             ],
             [
              1.0,
              "#fde725"
             ]
            ],
            "type": "histogram2dcontour"
           }
          ],
          "mesh3d": [
           {
            "colorbar": {
             "outlinewidth": 1,
             "tickcolor": "rgb(36,36,36)",
             "ticks": "outside"
            },
            "type": "mesh3d"
           }
          ],
          "parcoords": [
           {
            "line": {
             "colorbar": {
              "outlinewidth": 1,
              "tickcolor": "rgb(36,36,36)",
              "ticks": "outside"
             }
            },
            "type": "parcoords"
           }
          ],
          "pie": [
           {
            "automargin": true,
            "type": "pie"
           }
          ],
          "scatter": [
           {
            "fillpattern": {
             "fillmode": "overlay",
             "size": 10,
             "solidity": 0.2
            },
            "type": "scatter"
           }
          ],
          "scatter3d": [
           {
            "line": {
             "colorbar": {
              "outlinewidth": 1,
              "tickcolor": "rgb(36,36,36)",
              "ticks": "outside"
             }
            },
            "marker": {
             "colorbar": {
              "outlinewidth": 1,
              "tickcolor": "rgb(36,36,36)",
              "ticks": "outside"
             }
            },
            "type": "scatter3d"
           }
          ],
          "scattercarpet": [
           {
            "marker": {
             "colorbar": {
              "outlinewidth": 1,
              "tickcolor": "rgb(36,36,36)",
              "ticks": "outside"
             }
            },
            "type": "scattercarpet"
           }
          ],
          "scattergeo": [
           {
            "marker": {
             "colorbar": {
              "outlinewidth": 1,
              "tickcolor": "rgb(36,36,36)",
              "ticks": "outside"
             }
            },
            "type": "scattergeo"
           }
          ],
          "scattergl": [
           {
            "marker": {
             "colorbar": {
              "outlinewidth": 1,
              "tickcolor": "rgb(36,36,36)",
              "ticks": "outside"
             }
            },
            "type": "scattergl"
           }
          ],
          "scattermapbox": [
           {
            "marker": {
             "colorbar": {
              "outlinewidth": 1,
              "tickcolor": "rgb(36,36,36)",
              "ticks": "outside"
             }
            },
            "type": "scattermapbox"
           }
          ],
          "scatterpolar": [
           {
            "marker": {
             "colorbar": {
              "outlinewidth": 1,
              "tickcolor": "rgb(36,36,36)",
              "ticks": "outside"
             }
            },
            "type": "scatterpolar"
           }
          ],
          "scatterpolargl": [
           {
            "marker": {
             "colorbar": {
              "outlinewidth": 1,
              "tickcolor": "rgb(36,36,36)",
              "ticks": "outside"
             }
            },
            "type": "scatterpolargl"
           }
          ],
          "scatterternary": [
           {
            "marker": {
             "colorbar": {
              "outlinewidth": 1,
              "tickcolor": "rgb(36,36,36)",
              "ticks": "outside"
             }
            },
            "type": "scatterternary"
           }
          ],
          "surface": [
           {
            "colorbar": {
             "outlinewidth": 1,
             "tickcolor": "rgb(36,36,36)",
             "ticks": "outside"
            },
            "colorscale": [
             [
              0.0,
              "#440154"
             ],
             [
              0.1111111111111111,
              "#482878"
             ],
             [
              0.2222222222222222,
              "#3e4989"
             ],
             [
              0.3333333333333333,
              "#31688e"
             ],
             [
              0.4444444444444444,
              "#26828e"
             ],
             [
              0.5555555555555556,
              "#1f9e89"
             ],
             [
              0.6666666666666666,
              "#35b779"
             ],
             [
              0.7777777777777778,
              "#6ece58"
             ],
             [
              0.8888888888888888,
              "#b5de2b"
             ],
             [
              1.0,
              "#fde725"
             ]
            ],
            "type": "surface"
           }
          ],
          "table": [
           {
            "cells": {
             "fill": {
              "color": "rgb(237,237,237)"
             },
             "line": {
              "color": "white"
             }
            },
            "header": {
             "fill": {
              "color": "rgb(217,217,217)"
             },
             "line": {
              "color": "white"
             }
            },
            "type": "table"
           }
          ]
         },
         "layout": {
          "annotationdefaults": {
           "arrowhead": 0,
           "arrowwidth": 1
          },
          "autotypenumbers": "strict",
          "coloraxis": {
           "colorbar": {
            "outlinewidth": 1,
            "tickcolor": "rgb(36,36,36)",
            "ticks": "outside"
           }
          },
          "colorscale": {
           "diverging": [
            [
             0.0,
             "rgb(103,0,31)"
            ],
            [
             0.1,
             "rgb(178,24,43)"
            ],
            [
             0.2,
             "rgb(214,96,77)"
            ],
            [
             0.3,
             "rgb(244,165,130)"
            ],
            [
             0.4,
             "rgb(253,219,199)"
            ],
            [
             0.5,
             "rgb(247,247,247)"
            ],
            [
             0.6,
             "rgb(209,229,240)"
            ],
            [
             0.7,
             "rgb(146,197,222)"
            ],
            [
             0.8,
             "rgb(67,147,195)"
            ],
            [
             0.9,
             "rgb(33,102,172)"
            ],
            [
             1.0,
             "rgb(5,48,97)"
            ]
           ],
           "sequential": [
            [
             0.0,
             "#440154"
            ],
            [
             0.1111111111111111,
             "#482878"
            ],
            [
             0.2222222222222222,
             "#3e4989"
            ],
            [
             0.3333333333333333,
             "#31688e"
            ],
            [
             0.4444444444444444,
             "#26828e"
            ],
            [
             0.5555555555555556,
             "#1f9e89"
            ],
            [
             0.6666666666666666,
             "#35b779"
            ],
            [
             0.7777777777777778,
             "#6ece58"
            ],
            [
             0.8888888888888888,
             "#b5de2b"
            ],
            [
             1.0,
             "#fde725"
            ]
           ],
           "sequentialminus": [
            [
             0.0,
             "#440154"
            ],
            [
             0.1111111111111111,
             "#482878"
            ],
            [
             0.2222222222222222,
             "#3e4989"
            ],
            [
             0.3333333333333333,
             "#31688e"
            ],
            [
             0.4444444444444444,
             "#26828e"
            ],
            [
             0.5555555555555556,
             "#1f9e89"
            ],
            [
             0.6666666666666666,
             "#35b779"
            ],
            [
             0.7777777777777778,
             "#6ece58"
            ],
            [
             0.8888888888888888,
             "#b5de2b"
            ],
            [
             1.0,
             "#fde725"
            ]
           ]
          },
          "colorway": [
           "#91268F",
           "#8CC63E",
           "#00A7A0",
           "#F05A28",
           "#4C4C4C",
           "#630460",
           "#9f3913",
           "#588527",
           "#00716c",
           "#3e4040"
          ],
          "font": {
           "color": "rgb(36,36,36)",
           "family": "Poppins",
           "size": 11
          },
          "geo": {
           "bgcolor": "white",
           "lakecolor": "white",
           "landcolor": "white",
           "showlakes": true,
           "showland": true,
           "subunitcolor": "white"
          },
          "hoverlabel": {
           "align": "left"
          },
          "hovermode": "closest",
          "mapbox": {
           "style": "light"
          },
          "paper_bgcolor": "white",
          "plot_bgcolor": "white",
          "polar": {
           "angularaxis": {
            "gridcolor": "rgb(232,232,232)",
            "linecolor": "rgb(36,36,36)",
            "showgrid": false,
            "showline": true,
            "ticks": "outside"
           },
           "bgcolor": "white",
           "radialaxis": {
            "gridcolor": "rgb(232,232,232)",
            "linecolor": "rgb(36,36,36)",
            "showgrid": false,
            "showline": true,
            "ticks": "outside"
           }
          },
          "scene": {
           "xaxis": {
            "backgroundcolor": "white",
            "gridcolor": "rgb(232,232,232)",
            "gridwidth": 2,
            "linecolor": "rgb(36,36,36)",
            "showbackground": true,
            "showgrid": false,
            "showline": true,
            "ticks": "outside",
            "zeroline": false,
            "zerolinecolor": "rgb(36,36,36)"
           },
           "yaxis": {
            "backgroundcolor": "white",
            "gridcolor": "rgb(232,232,232)",
            "gridwidth": 2,
            "linecolor": "rgb(36,36,36)",
            "showbackground": true,
            "showgrid": false,
            "showline": true,
            "ticks": "outside",
            "zeroline": false,
            "zerolinecolor": "rgb(36,36,36)"
           },
           "zaxis": {
            "backgroundcolor": "white",
            "gridcolor": "rgb(232,232,232)",
            "gridwidth": 2,
            "linecolor": "rgb(36,36,36)",
            "showbackground": true,
            "showgrid": false,
            "showline": true,
            "ticks": "outside",
            "zeroline": false,
            "zerolinecolor": "rgb(36,36,36)"
           }
          },
          "shapedefaults": {
           "fillcolor": "black",
           "line": {
            "width": 0
           },
           "opacity": 0.3
          },
          "ternary": {
           "aaxis": {
            "gridcolor": "rgb(232,232,232)",
            "linecolor": "rgb(36,36,36)",
            "showgrid": false,
            "showline": true,
            "ticks": "outside"
           },
           "baxis": {
            "gridcolor": "rgb(232,232,232)",
            "linecolor": "rgb(36,36,36)",
            "showgrid": false,
            "showline": true,
            "ticks": "outside"
           },
           "bgcolor": "white",
           "caxis": {
            "gridcolor": "rgb(232,232,232)",
            "linecolor": "rgb(36,36,36)",
            "showgrid": false,
            "showline": true,
            "ticks": "outside"
           }
          },
          "title": {
           "x": 0.05
          },
          "xaxis": {
           "automargin": true,
           "gridcolor": "rgb(232,232,232)",
           "linecolor": "rgb(36,36,36)",
           "showgrid": false,
           "showline": true,
           "ticks": "outside",
           "title": {
            "standoff": 15
           },
           "zeroline": false,
           "zerolinecolor": "rgb(36,36,36)"
          },
          "yaxis": {
           "automargin": true,
           "gridcolor": "rgb(232,232,232)",
           "linecolor": "rgb(36,36,36)",
           "showgrid": false,
           "showline": true,
           "ticks": "outside",
           "title": {
            "standoff": 15
           },
           "zeroline": false,
           "zerolinecolor": "rgb(36,36,36)"
          }
         }
        },
        "title": {
         "text": "trip origin departure hour by purpose"
        },
        "width": 850,
        "xaxis": {
         "anchor": "y",
         "categoryorder": "category ascending",
         "domain": [
          0.0,
          0.98
         ],
         "dtick": 1,
         "title": {
          "text": "dept_hr"
         }
        },
        "xaxis2": {
         "anchor": "y2",
         "categoryorder": "category ascending",
         "domain": [
          0.0,
          0.98
         ],
         "dtick": 1,
         "matches": "x",
         "showticklabels": false
        },
        "xaxis3": {
         "anchor": "y3",
         "categoryorder": "category ascending",
         "domain": [
          0.0,
          0.98
         ],
         "dtick": 1,
         "matches": "x",
         "showticklabels": false
        },
        "xaxis4": {
         "anchor": "y4",
         "categoryorder": "category ascending",
         "domain": [
          0.0,
          0.98
         ],
         "dtick": 1,
         "matches": "x",
         "showticklabels": false
        },
        "xaxis5": {
         "anchor": "y5",
         "categoryorder": "category ascending",
         "domain": [
          0.0,
          0.98
         ],
         "dtick": 1,
         "matches": "x",
         "showticklabels": false
        },
        "xaxis6": {
         "anchor": "y6",
         "categoryorder": "category ascending",
         "domain": [
          0.0,
          0.98
         ],
         "dtick": 1,
         "matches": "x",
         "showticklabels": false
        },
        "yaxis": {
         "anchor": "x",
         "domain": [
          0.0,
          0.14166666666666666
         ],
         "tickformat": ".0%",
         "title": {
          "text": "percentage"
         }
        },
        "yaxis2": {
         "anchor": "x2",
         "domain": [
          0.17166666666666666,
          0.31333333333333335
         ],
         "matches": "y",
         "tickformat": ".0%",
         "title": {
          "text": "percentage"
         }
        },
        "yaxis3": {
         "anchor": "x3",
         "domain": [
          0.3433333333333333,
          0.485
         ],
         "matches": "y",
         "tickformat": ".0%",
         "title": {
          "text": "percentage"
         }
        },
        "yaxis4": {
         "anchor": "x4",
         "domain": [
          0.515,
          0.6566666666666667
         ],
         "matches": "y",
         "tickformat": ".0%",
         "title": {
          "text": "percentage"
         }
        },
        "yaxis5": {
         "anchor": "x5",
         "domain": [
          0.6866666666666666,
          0.8283333333333334
         ],
         "matches": "y",
         "tickformat": ".0%",
         "title": {
          "text": "percentage"
         }
        },
        "yaxis6": {
         "anchor": "x6",
         "domain": [
          0.8583333333333333,
          1.0
         ],
         "matches": "y",
         "tickformat": ".0%",
         "title": {
          "text": "percentage"
         }
        }
       }
      },
      "text/html": [
       "<div>                            <div id=\"0d384c37-c435-4e00-ab12-d8e8313cf19f\" class=\"plotly-graph-div\" style=\"height:1500px; width:850px;\"></div>            <script type=\"text/javascript\">                require([\"plotly\"], function(Plotly) {                    window.PLOTLYENV=window.PLOTLYENV || {};                                    if (document.getElementById(\"0d384c37-c435-4e00-ab12-d8e8313cf19f\")) {                    Plotly.newPlot(                        \"0d384c37-c435-4e00-ab12-d8e8313cf19f\",                        [{\"alignmentgroup\":\"True\",\"customdata\":[[3705.0,3705.0],[2463.0,2463.0],[914.0,914.0],[21318.0,21318.0],[29943.0,29943.0],[85605.0,85605.0],[233938.0,233938.0],[338674.0,338674.0],[310378.0,310378.0],[184317.0,184317.0],[125900.0,125900.0],[125548.0,125548.0],[120677.0,120677.0],[99948.0,99948.0],[89781.0,89781.0],[82525.0,82525.0],[84458.0,84458.0],[71256.0,71256.0],[54002.0,54002.0],[29835.0,29835.0],[22942.0,22942.0],[16865.0,16865.0],[9621.0,9621.0],[7471.0,7471.0]],\"hovertemplate\":\"source=model\\u003cbr\\u003edpurp_label=Work\\u003cbr\\u003edept_hr=%{x}\\u003cbr\\u003epercentage=%{y}\\u003cbr\\u003etrexpfac=%{customdata[0]}\\u003cbr\\u003esample_count=%{customdata[1]}\\u003cextra\\u003e\\u003c\\u002fextra\\u003e\",\"legendgroup\":\"model\",\"marker\":{\"color\":\"#91268F\",\"pattern\":{\"shape\":\"\"}},\"name\":\"model\",\"offsetgroup\":\"model\",\"orientation\":\"v\",\"showlegend\":true,\"textposition\":\"auto\",\"x\":[0,1,2,3,4,5,6,7,8,9,10,11,12,13,14,15,16,17,18,19,20,21,22,23],\"xaxis\":\"x6\",\"y\":[0.001721587075597421,0.0011444720559234676,0.00042470461190176594,0.009905747173437469,0.013913490365617698,0.03977772243090883,0.10870300601649378,0.1573702513470664,0.1442220656814511,0.08564582051629956,0.058501433958897515,0.058337871570068825,0.056074484081476375,0.046442425109800546,0.041718167134740095,0.038346551528657805,0.03924475066958353,0.03311023175675299,0.02509288670888311,0.013863306450863443,0.010660364558260737,0.007836590021579083,0.004470550406025044,0.00347151876971345],\"yaxis\":\"y6\",\"type\":\"bar\"},{\"alignmentgroup\":\"True\",\"customdata\":[[14.0,14.0],[3.0,3.0],[1.0,1.0],[561.0,561.0],[699.0,699.0],[5621.0,5621.0],[51466.0,51466.0],[158671.0,158671.0],[183846.0,183846.0],[96400.0,96400.0],[46977.0,46977.0],[32183.0,32183.0],[22784.0,22784.0],[16592.0,16592.0],[13579.0,13579.0],[13552.0,13552.0],[9559.0,9559.0],[8197.0,8197.0],[5604.0,5604.0],[1838.0,1838.0],[1504.0,1504.0],[861.0,861.0],[99.0,99.0],[50.0,50.0]],\"hovertemplate\":\"source=model\\u003cbr\\u003edpurp_label=School\\u003cbr\\u003edept_hr=%{x}\\u003cbr\\u003epercentage=%{y}\\u003cbr\\u003etrexpfac=%{customdata[0]}\\u003cbr\\u003esample_count=%{customdata[1]}\\u003cextra\\u003e\\u003c\\u002fextra\\u003e\",\"legendgroup\":\"model\",\"marker\":{\"color\":\"#91268F\",\"pattern\":{\"shape\":\"\"}},\"name\":\"model\",\"offsetgroup\":\"model\",\"orientation\":\"v\",\"showlegend\":false,\"textposition\":\"auto\",\"x\":[0,1,2,3,4,5,6,7,8,9,10,11,12,13,14,15,16,17,18,19,20,21,22,23],\"xaxis\":\"x5\",\"y\":[2.087492786966888e-05,4.47319882921476e-06,1.49106627640492e-06,0.00083648818106316,0.001042255327207039,0.008381283539672055,0.07673921698145561,0.23658897714344504,0.2741265706519389,0.14373878904543427,0.07004582046667392,0.04798698597353954,0.033972454041609694,0.02473977165811043,0.020247188967302408,0.020206930177839474,0.01425310253615463,0.012222270267691128,0.008355935412973171,0.002740579816032243,0.0022425636797129994,0.001283808063984636,0.00014761556136408708,7.4553313820246e-05],\"yaxis\":\"y5\",\"type\":\"bar\"},{\"alignmentgroup\":\"True\",\"customdata\":[[1138.0,1138.0],[842.0,842.0],[296.0,296.0],[7807.0,7807.0],[7962.0,7962.0],[12268.0,12268.0],[32309.0,32309.0],[68112.0,68112.0],[111612.0,111612.0],[153322.0,153322.0],[179859.0,179859.0],[169057.0,169057.0],[158763.0,158763.0],[176525.0,176525.0],[158381.0,158381.0],[180114.0,180114.0],[192602.0,192602.0],[161984.0,161984.0],[127954.0,127954.0],[88432.0,88432.0],[59672.0,59672.0],[21392.0,21392.0],[9451.0,9451.0],[5797.0,5797.0]],\"hovertemplate\":\"source=model\\u003cbr\\u003edpurp_label=Shop\\u003cbr\\u003edept_hr=%{x}\\u003cbr\\u003epercentage=%{y}\\u003cbr\\u003etrexpfac=%{customdata[0]}\\u003cbr\\u003esample_count=%{customdata[1]}\\u003cextra\\u003e\\u003c\\u002fextra\\u003e\",\"legendgroup\":\"model\",\"marker\":{\"color\":\"#91268F\",\"pattern\":{\"shape\":\"\"}},\"name\":\"model\",\"offsetgroup\":\"model\",\"orientation\":\"v\",\"showlegend\":false,\"textposition\":\"auto\",\"x\":[0,1,2,3,4,5,6,7,8,9,10,11,12,13,14,15,16,17,18,19,20,21,22,23],\"xaxis\":\"x4\",\"y\":[0.0005456329942066051,0.0004037108797205285,0.00014192211448607652,0.0037431957695702686,0.003817513093034261,0.00588209628552428,0.01549108647611705,0.032657429263093396,0.053514226493310724,0.07351277850416968,0.08623638374780823,0.08105718550227244,0.07612155629105732,0.08463784209342791,0.0759384000487138,0.08635864773157158,0.09234622666975444,0.0776659182192994,0.061349669719430525,0.04240019063592135,0.028610731133828237,0.01025674957123699,0.004531438864891585,0.0027794678975533297],\"yaxis\":\"y4\",\"type\":\"bar\"},{\"alignmentgroup\":\"True\",\"customdata\":[[928.0,928.0],[662.0,662.0],[261.0,261.0],[4121.0,4121.0],[4545.0,4545.0],[8912.0,8912.0],[23717.0,23717.0],[36593.0,36593.0],[51552.0,51552.0],[62546.0,62546.0],[81144.0,81144.0],[86922.0,86922.0],[84680.0,84680.0],[88457.0,88457.0],[77753.0,77753.0],[72901.0,72901.0],[82910.0,82910.0],[80884.0,80884.0],[67570.0,67570.0],[45685.0,45685.0],[33569.0,33569.0],[19086.0,19086.0],[7841.0,7841.0],[4121.0,4121.0]],\"hovertemplate\":\"source=model\\u003cbr\\u003edpurp_label=Meal\\u003cbr\\u003edept_hr=%{x}\\u003cbr\\u003epercentage=%{y}\\u003cbr\\u003etrexpfac=%{customdata[0]}\\u003cbr\\u003esample_count=%{customdata[1]}\\u003cextra\\u003e\\u003c\\u002fextra\\u003e\",\"legendgroup\":\"model\",\"marker\":{\"color\":\"#91268F\",\"pattern\":{\"shape\":\"\"}},\"name\":\"model\",\"offsetgroup\":\"model\",\"orientation\":\"v\",\"showlegend\":false,\"textposition\":\"auto\",\"x\":[0,1,2,3,4,5,6,7,8,9,10,11,12,13,14,15,16,17,18,19,20,21,22,23],\"xaxis\":\"x3\",\"y\":[0.000903286092508955,0.0006443700358199657,0.0002540492135181436,0.004011252141410995,0.004423960442298707,0.008674661267715308,0.023085383896589318,0.03561847843015107,0.050179099828687124,0.06088031459274256,0.0789830244510201,0.08460714841924934,0.08242485594144214,0.08610126927269895,0.07568233141255257,0.07095954679956393,0.08070199345896278,0.07872994860613612,0.06577051861080828,0.04446834605201682,0.03267501168042361,0.018577713751752063,0.007632183460520168,0.004011252141410995],\"yaxis\":\"y3\",\"type\":\"bar\"},{\"alignmentgroup\":\"True\",\"customdata\":[[2280.0,2280.0],[1538.0,1538.0],[600.0,600.0],[25692.0,25692.0],[24315.0,24315.0],[43838.0,43838.0],[118038.0,118038.0],[143359.0,143359.0],[126240.0,126240.0],[108925.0,108925.0],[103762.0,103762.0],[86432.0,86432.0],[82052.0,82052.0],[91473.0,91473.0],[92412.0,92412.0],[124486.0,124486.0],[142899.0,142899.0],[127251.0,127251.0],[87709.0,87709.0],[52948.0,52948.0],[38899.0,38899.0],[20736.0,20736.0],[11418.0,11418.0],[9132.0,9132.0]],\"hovertemplate\":\"source=model\\u003cbr\\u003edpurp_label=Escort\\u003cbr\\u003edept_hr=%{x}\\u003cbr\\u003epercentage=%{y}\\u003cbr\\u003etrexpfac=%{customdata[0]}\\u003cbr\\u003esample_count=%{customdata[1]}\\u003cextra\\u003e\\u003c\\u002fextra\\u003e\",\"legendgroup\":\"model\",\"marker\":{\"color\":\"#91268F\",\"pattern\":{\"shape\":\"\"}},\"name\":\"model\",\"offsetgroup\":\"model\",\"orientation\":\"v\",\"showlegend\":false,\"textposition\":\"auto\",\"x\":[0,1,2,3,4,5,6,7,8,9,10,11,12,13,14,15,16,17,18,19,20,21,22,23],\"xaxis\":\"x2\",\"y\":[0.0013681909994635252,0.0009229288408661849,0.0003600502630167171,0.015417352262375828,0.014591036908752462,0.026306472383544742,0.07083268824327876,0.08602740942635592,0.07575457533871728,0.06536412483182652,0.062265892318567675,0.05186644055510149,0.049238073635079455,0.05489146284821361,0.05545494150983477,0.07470202840316509,0.08575137089137644,0.07636126003190045,0.052632747531555404,0.031773235543681895,0.023342658635145466,0.012443337089857745,0.006851756505208127,0.005479965003114435],\"yaxis\":\"y2\",\"type\":\"bar\"},{\"alignmentgroup\":\"True\",\"customdata\":[[522.0,522.0],[316.0,316.0],[141.0,141.0],[4788.0,4788.0],[4512.0,4512.0],[8401.0,8401.0],[22990.0,22990.0],[41442.0,41442.0],[63584.0,63584.0],[78668.0,78668.0],[81643.0,81643.0],[70237.0,70237.0],[65504.0,65504.0],[70341.0,70341.0],[60415.0,60415.0],[62902.0,62902.0],[68986.0,68986.0],[55397.0,55397.0],[43195.0,43195.0],[25395.0,25395.0],[18174.0,18174.0],[9790.0,9790.0],[3777.0,3777.0],[2320.0,2320.0]],\"hovertemplate\":\"source=model\\u003cbr\\u003edpurp_label=Personal Business\\u003cbr\\u003edept_hr=%{x}\\u003cbr\\u003epercentage=%{y}\\u003cbr\\u003etrexpfac=%{customdata[0]}\\u003cbr\\u003esample_count=%{customdata[1]}\\u003cextra\\u003e\\u003c\\u002fextra\\u003e\",\"legendgroup\":\"model\",\"marker\":{\"color\":\"#91268F\",\"pattern\":{\"shape\":\"\"}},\"name\":\"model\",\"offsetgroup\":\"model\",\"orientation\":\"v\",\"showlegend\":false,\"textposition\":\"auto\",\"x\":[0,1,2,3,4,5,6,7,8,9,10,11,12,13,14,15,16,17,18,19,20,21,22,23],\"xaxis\":\"x\",\"y\":[0.0006045585101454647,0.00036597794867043455,0.00016330028722320023,0.005545260817196331,0.0052256091911424074,0.00972968590753266,0.026626053923839526,0.04799638654683591,0.07364032243120541,0.0911099786898916,0.09455549893449458,0.08134554804039655,0.07586398591679792,0.08146599647919948,0.06997011952191234,0.0728504586305939,0.07989669230056518,0.06415848234967109,0.050026637635504495,0.02941142407115723,0.021048364680811636,0.011338367460390995,0.004374363013064023,0.002686926711757621],\"yaxis\":\"y\",\"type\":\"bar\"},{\"alignmentgroup\":\"True\",\"customdata\":[[804.680284745979,3.0],[562.3747441545361,2.0],[0.0,0.0],[12541.120743195179,22.0],[53412.45675627711,63.0],[106403.91744037515,137.0],[210508.0172962619,375.0],[363308.59917240904,635.0],[286435.997377787,621.0],[183302.98131302337,405.0],[106180.05312067756,268.0],[82219.09587484083,235.0],[87388.77158814191,322.0],[76203.60059923676,238.0],[96806.63584919396,196.0],[72354.08766082792,146.0],[36458.00032092915,110.0],[26134.5870278864,112.0],[9622.42790991357,59.0],[13280.302417338813,45.0],[3794.3513886581586,34.0],[646.117373288423,22.0],[10795.506686474104,16.0],[1337.3601564685962,10.0]],\"hovertemplate\":\"source=survey\\u003cbr\\u003edpurp_label=Work\\u003cbr\\u003edept_hr=%{x}\\u003cbr\\u003epercentage=%{y}\\u003cbr\\u003etrexpfac=%{customdata[0]}\\u003cbr\\u003esample_count=%{customdata[1]}\\u003cextra\\u003e\\u003c\\u002fextra\\u003e\",\"legendgroup\":\"survey\",\"marker\":{\"color\":\"#8CC63E\",\"pattern\":{\"shape\":\"\"}},\"name\":\"survey\",\"offsetgroup\":\"survey\",\"orientation\":\"v\",\"showlegend\":true,\"textposition\":\"auto\",\"x\":[0,1,2,3,4,5,6,7,8,9,10,11,12,13,14,15,16,17,18,19,20,21,22,23],\"xaxis\":\"x6\",\"y\":[0.00043720718755459984,0.0003055552433736584,0.0,0.006813971005448343,0.029020606620386438,0.05781247331489405,0.11437538603154355,0.19739657335921093,0.15562935889186366,0.09959406543126542,0.05769084104495506,0.04467212674667284,0.04748096824810864,0.04140372584130571,0.05259797934481443,0.03931216878794995,0.0198087365707114,0.014199713238867493,0.005228156727200369,0.007215590812681794,0.0020615861114986933,0.0003510551519163569,0.005865525981054932,0.0007266283067215863],\"yaxis\":\"y6\",\"type\":\"bar\"},{\"alignmentgroup\":\"True\",\"customdata\":[[0.0,0.0],[0.0,0.0],[0.0,0.0],[0.0,0.0],[86.688593033636,1.0],[454.39219826369094,4.0],[25738.818694978792,26.0],[202083.50156386622,237.0],[186704.40572451914,266.0],[56855.249368937446,63.0],[9549.543311810197,22.0],[6417.963156613865,16.0],[6418.499390814672,13.0],[16271.837201016171,19.0],[5075.98314184551,13.0],[3816.1068847656506,15.0],[4405.086266508944,9.0],[1012.1140325171593,8.0],[11446.021215011839,3.0],[117.770432262396,1.0],[0.0,0.0],[0.0,0.0],[0.0,0.0],[0.0,0.0]],\"hovertemplate\":\"source=survey\\u003cbr\\u003edpurp_label=School\\u003cbr\\u003edept_hr=%{x}\\u003cbr\\u003epercentage=%{y}\\u003cbr\\u003etrexpfac=%{customdata[0]}\\u003cbr\\u003esample_count=%{customdata[1]}\\u003cextra\\u003e\\u003c\\u002fextra\\u003e\",\"legendgroup\":\"survey\",\"marker\":{\"color\":\"#8CC63E\",\"pattern\":{\"shape\":\"\"}},\"name\":\"survey\",\"offsetgroup\":\"survey\",\"orientation\":\"v\",\"showlegend\":false,\"textposition\":\"auto\",\"x\":[0,1,2,3,4,5,6,7,8,9,10,11,12,13,14,15,16,17,18,19,20,21,22,23],\"xaxis\":\"x5\",\"y\":[0.0,0.0,0.0,0.0,0.0001615955814951283,0.0008470292219044332,0.047979546425432666,0.37670239881634565,0.34803433710187853,0.10598346058355236,0.017801234862424402,0.011963678864933434,0.01196467845524243,0.030332214452621405,0.009462103591273262,0.0071135773405850014,0.008211489561221912,0.0018866744735438188,0.021336445653556062,0.0002195350139895594,0.0,0.0,0.0,0.0],\"yaxis\":\"y5\",\"type\":\"bar\"},{\"alignmentgroup\":\"True\",\"customdata\":[[358.7736350081784,3.0],[143.521368637738,1.0],[570.896774611867,1.0],[0.0,0.0],[2395.07790418324,2.0],[1099.1269493912553,8.0],[9682.191616724744,16.0],[30867.07210367277,55.0],[52251.959717635866,96.0],[74744.52813632283,194.0],[140914.81237725343,291.0],[165531.30596257249,335.0],[158567.48853577266,324.0],[148506.46920882657,304.0],[218739.25280935795,345.0],[239020.2878086382,296.0],[200033.08064701868,332.0],[128142.27916296133,305.0],[151266.4657271988,246.0],[69608.41782593237,214.0],[33729.00173269235,85.0],[16880.520789716313,29.0],[16289.14360404536,19.0],[4775.237711364983,7.0]],\"hovertemplate\":\"source=survey\\u003cbr\\u003edpurp_label=Shop\\u003cbr\\u003edept_hr=%{x}\\u003cbr\\u003epercentage=%{y}\\u003cbr\\u003etrexpfac=%{customdata[0]}\\u003cbr\\u003esample_count=%{customdata[1]}\\u003cextra\\u003e\\u003c\\u002fextra\\u003e\",\"legendgroup\":\"survey\",\"marker\":{\"color\":\"#8CC63E\",\"pattern\":{\"shape\":\"\"}},\"name\":\"survey\",\"offsetgroup\":\"survey\",\"orientation\":\"v\",\"showlegend\":false,\"textposition\":\"auto\",\"x\":[0,1,2,3,4,5,6,7,8,9,10,11,12,13,14,15,16,17,18,19,20,21,22,23],\"xaxis\":\"x4\",\"y\":[0.00019246305458500988,7.699161340439807e-05,0.00030625588497333465,0.0,0.001284832452634548,0.0005896233987531508,0.005193983034984554,0.016558549468199315,0.028030409132710783,0.04009648088635047,0.0755933340134693,0.08879877913625489,0.0850630598894834,0.07966585585062273,0.11734202473482216,0.12822172593142206,0.10730715404574596,0.06874154637540857,0.08114644781373564,0.037341229712443066,0.01809382314681256,0.009055505413881667,0.008738262873014572,0.00256166213628793],\"yaxis\":\"y4\",\"type\":\"bar\"},{\"alignmentgroup\":\"True\",\"customdata\":[[632.62215829592,1.0],[0.0,0.0],[0.0,0.0],[0.0,0.0],[23.312448148228,1.0],[4014.9909061810304,5.0],[19388.229589911243,28.0],[17193.660954560186,49.0],[40281.55067203224,70.0],[32319.33442456047,90.0],[22494.99710279026,86.0],[79180.18027602996,200.0],[114995.59534596713,241.0],[36169.077116900284,153.0],[78095.67868397434,120.0],[85847.74714025237,121.0],[70614.77254108735,161.0],[84957.92642486228,207.0],[83071.03998130134,202.0],[60305.82273592014,119.0],[68578.57197356773,83.0],[13629.970082285341,29.0],[4952.542971132462,15.0],[1494.7720542075886,4.0]],\"hovertemplate\":\"source=survey\\u003cbr\\u003edpurp_label=Meal\\u003cbr\\u003edept_hr=%{x}\\u003cbr\\u003epercentage=%{y}\\u003cbr\\u003etrexpfac=%{customdata[0]}\\u003cbr\\u003esample_count=%{customdata[1]}\\u003cextra\\u003e\\u003c\\u002fextra\\u003e\",\"legendgroup\":\"survey\",\"marker\":{\"color\":\"#8CC63E\",\"pattern\":{\"shape\":\"\"}},\"name\":\"survey\",\"offsetgroup\":\"survey\",\"orientation\":\"v\",\"showlegend\":false,\"textposition\":\"auto\",\"x\":[0,1,2,3,4,5,6,7,8,9,10,11,12,13,14,15,16,17,18,19,20,21,22,23],\"xaxis\":\"x3\",\"y\":[0.0006889489761508952,0.0,0.0,0.0,2.5388120021840368e-05,0.004372473897404449,0.0211145005753966,0.01872453399804706,0.043868101566378534,0.035196952983211564,0.024497885537602827,0.08623015083688694,0.12523446521202522,0.039389465451437906,0.08504908841015602,0.09349137826037361,0.07690210436883498,0.09252233052344769,0.09046744125604357,0.06567527596846352,0.07468460648667209,0.014843542563308883,0.005393502842986061,0.0016278621651497254],\"yaxis\":\"y3\",\"type\":\"bar\"},{\"alignmentgroup\":\"True\",\"customdata\":[[9.16501889224752,1.0],[0.0,0.0],[0.0,0.0],[0.0,0.0],[4054.1074151579,1.0],[3125.344562952493,10.0],[33587.474177644646,37.0],[234730.64420605893,227.0],[187868.1403029039,234.0],[83194.89099350593,95.0],[19655.609745442118,78.0],[28470.57453152318,63.0],[24735.782631357033,76.0],[93383.3054702929,87.0],[153778.12436165885,175.0],[205282.61662488474,228.0],[91440.77992572649,153.0],[103597.81032057249,140.0],[25422.955729679896,68.0],[39576.823921154675,58.0],[21548.815213539914,29.0],[8339.18214681177,23.0],[11516.748013204216,13.0],[607.5843848720184,3.0]],\"hovertemplate\":\"source=survey\\u003cbr\\u003edpurp_label=Escort\\u003cbr\\u003edept_hr=%{x}\\u003cbr\\u003epercentage=%{y}\\u003cbr\\u003etrexpfac=%{customdata[0]}\\u003cbr\\u003esample_count=%{customdata[1]}\\u003cextra\\u003e\\u003c\\u002fextra\\u003e\",\"legendgroup\":\"survey\",\"marker\":{\"color\":\"#8CC63E\",\"pattern\":{\"shape\":\"\"}},\"name\":\"survey\",\"offsetgroup\":\"survey\",\"orientation\":\"v\",\"showlegend\":false,\"textposition\":\"auto\",\"x\":[0,1,2,3,4,5,6,7,8,9,10,11,12,13,14,15,16,17,18,19,20,21,22,23],\"xaxis\":\"x2\",\"y\":[6.67067636272878e-06,0.0,0.0,0.0,0.00295074552755509,0.0022747538599298565,0.024446340232871445,0.17084658289552915,0.13673813197356904,0.06055265126835808,0.014306158324981784,0.020722050962861296,0.01800371635372884,0.06796819687966886,0.11192602124931665,0.1494131015438555,0.06655434717717704,0.07540273213407785,0.018503869097326875,0.028805634439667174,0.015684110854519002,0.006069598533864623,0.008382361198640746,0.0004422248161383735],\"yaxis\":\"y2\",\"type\":\"bar\"},{\"alignmentgroup\":\"True\",\"customdata\":[[0.0,0.0],[0.0,0.0],[0.0,0.0],[0.0,0.0],[0.0,0.0],[2941.709816663014,5.0],[6787.840124287101,24.0],[44644.19766696868,76.0],[31765.464901663872,110.0],[74424.1342379433,155.0],[66592.7673521372,183.0],[55823.58774670971,148.0],[71755.10161401259,147.0],[75768.19484864995,170.0],[130627.28838497953,161.0],[63498.44906164758,136.0],[40413.19147329936,122.0],[68848.96749056579,83.0],[9367.286388232722,51.0],[13896.771678979154,22.0],[1354.5155151784093,8.0],[5413.758002958482,5.0],[197.424677262663,1.0],[0.0,0.0]],\"hovertemplate\":\"source=survey\\u003cbr\\u003edpurp_label=Personal Business\\u003cbr\\u003edept_hr=%{x}\\u003cbr\\u003epercentage=%{y}\\u003cbr\\u003etrexpfac=%{customdata[0]}\\u003cbr\\u003esample_count=%{customdata[1]}\\u003cextra\\u003e\\u003c\\u002fextra\\u003e\",\"legendgroup\":\"survey\",\"marker\":{\"color\":\"#8CC63E\",\"pattern\":{\"shape\":\"\"}},\"name\":\"survey\",\"offsetgroup\":\"survey\",\"orientation\":\"v\",\"showlegend\":false,\"textposition\":\"auto\",\"x\":[0,1,2,3,4,5,6,7,8,9,10,11,12,13,14,15,16,17,18,19,20,21,22,23],\"xaxis\":\"x\",\"y\":[0.0,0.0,0.0,0.0,0.0,0.0038497975586472854,0.008883204655655567,0.058425587123691294,0.04157126870061043,0.09739840710008886,0.08714954538467744,0.0730559862175673,0.09390546050781949,0.09915737096133131,0.17095112953311983,0.083100030054196,0.05288849531988894,0.09010222064025213,0.01225891012916974,0.018186619692999218,0.0017726461304735373,0.007084951827960773,0.0002583684618507682,0.0],\"yaxis\":\"y\",\"type\":\"bar\"}],                        {\"template\":{\"data\":{\"barpolar\":[{\"marker\":{\"line\":{\"color\":\"white\",\"width\":0.5},\"pattern\":{\"fillmode\":\"overlay\",\"size\":10,\"solidity\":0.2}},\"type\":\"barpolar\"}],\"bar\":[{\"error_x\":{\"color\":\"rgb(36,36,36)\"},\"error_y\":{\"color\":\"rgb(36,36,36)\"},\"marker\":{\"line\":{\"color\":\"white\",\"width\":0.5},\"pattern\":{\"fillmode\":\"overlay\",\"size\":10,\"solidity\":0.2}},\"type\":\"bar\"}],\"carpet\":[{\"aaxis\":{\"endlinecolor\":\"rgb(36,36,36)\",\"gridcolor\":\"white\",\"linecolor\":\"white\",\"minorgridcolor\":\"white\",\"startlinecolor\":\"rgb(36,36,36)\"},\"baxis\":{\"endlinecolor\":\"rgb(36,36,36)\",\"gridcolor\":\"white\",\"linecolor\":\"white\",\"minorgridcolor\":\"white\",\"startlinecolor\":\"rgb(36,36,36)\"},\"type\":\"carpet\"}],\"choropleth\":[{\"colorbar\":{\"outlinewidth\":1,\"tickcolor\":\"rgb(36,36,36)\",\"ticks\":\"outside\"},\"type\":\"choropleth\"}],\"contourcarpet\":[{\"colorbar\":{\"outlinewidth\":1,\"tickcolor\":\"rgb(36,36,36)\",\"ticks\":\"outside\"},\"type\":\"contourcarpet\"}],\"contour\":[{\"colorbar\":{\"outlinewidth\":1,\"tickcolor\":\"rgb(36,36,36)\",\"ticks\":\"outside\"},\"colorscale\":[[0.0,\"#440154\"],[0.1111111111111111,\"#482878\"],[0.2222222222222222,\"#3e4989\"],[0.3333333333333333,\"#31688e\"],[0.4444444444444444,\"#26828e\"],[0.5555555555555556,\"#1f9e89\"],[0.6666666666666666,\"#35b779\"],[0.7777777777777778,\"#6ece58\"],[0.8888888888888888,\"#b5de2b\"],[1.0,\"#fde725\"]],\"type\":\"contour\"}],\"heatmapgl\":[{\"colorbar\":{\"outlinewidth\":1,\"tickcolor\":\"rgb(36,36,36)\",\"ticks\":\"outside\"},\"colorscale\":[[0.0,\"#440154\"],[0.1111111111111111,\"#482878\"],[0.2222222222222222,\"#3e4989\"],[0.3333333333333333,\"#31688e\"],[0.4444444444444444,\"#26828e\"],[0.5555555555555556,\"#1f9e89\"],[0.6666666666666666,\"#35b779\"],[0.7777777777777778,\"#6ece58\"],[0.8888888888888888,\"#b5de2b\"],[1.0,\"#fde725\"]],\"type\":\"heatmapgl\"}],\"heatmap\":[{\"colorbar\":{\"outlinewidth\":1,\"tickcolor\":\"rgb(36,36,36)\",\"ticks\":\"outside\"},\"colorscale\":[[0.0,\"#440154\"],[0.1111111111111111,\"#482878\"],[0.2222222222222222,\"#3e4989\"],[0.3333333333333333,\"#31688e\"],[0.4444444444444444,\"#26828e\"],[0.5555555555555556,\"#1f9e89\"],[0.6666666666666666,\"#35b779\"],[0.7777777777777778,\"#6ece58\"],[0.8888888888888888,\"#b5de2b\"],[1.0,\"#fde725\"]],\"type\":\"heatmap\"}],\"histogram2dcontour\":[{\"colorbar\":{\"outlinewidth\":1,\"tickcolor\":\"rgb(36,36,36)\",\"ticks\":\"outside\"},\"colorscale\":[[0.0,\"#440154\"],[0.1111111111111111,\"#482878\"],[0.2222222222222222,\"#3e4989\"],[0.3333333333333333,\"#31688e\"],[0.4444444444444444,\"#26828e\"],[0.5555555555555556,\"#1f9e89\"],[0.6666666666666666,\"#35b779\"],[0.7777777777777778,\"#6ece58\"],[0.8888888888888888,\"#b5de2b\"],[1.0,\"#fde725\"]],\"type\":\"histogram2dcontour\"}],\"histogram2d\":[{\"colorbar\":{\"outlinewidth\":1,\"tickcolor\":\"rgb(36,36,36)\",\"ticks\":\"outside\"},\"colorscale\":[[0.0,\"#440154\"],[0.1111111111111111,\"#482878\"],[0.2222222222222222,\"#3e4989\"],[0.3333333333333333,\"#31688e\"],[0.4444444444444444,\"#26828e\"],[0.5555555555555556,\"#1f9e89\"],[0.6666666666666666,\"#35b779\"],[0.7777777777777778,\"#6ece58\"],[0.8888888888888888,\"#b5de2b\"],[1.0,\"#fde725\"]],\"type\":\"histogram2d\"}],\"histogram\":[{\"marker\":{\"line\":{\"color\":\"white\",\"width\":0.6}},\"type\":\"histogram\"}],\"mesh3d\":[{\"colorbar\":{\"outlinewidth\":1,\"tickcolor\":\"rgb(36,36,36)\",\"ticks\":\"outside\"},\"type\":\"mesh3d\"}],\"parcoords\":[{\"line\":{\"colorbar\":{\"outlinewidth\":1,\"tickcolor\":\"rgb(36,36,36)\",\"ticks\":\"outside\"}},\"type\":\"parcoords\"}],\"pie\":[{\"automargin\":true,\"type\":\"pie\"}],\"scatter3d\":[{\"line\":{\"colorbar\":{\"outlinewidth\":1,\"tickcolor\":\"rgb(36,36,36)\",\"ticks\":\"outside\"}},\"marker\":{\"colorbar\":{\"outlinewidth\":1,\"tickcolor\":\"rgb(36,36,36)\",\"ticks\":\"outside\"}},\"type\":\"scatter3d\"}],\"scattercarpet\":[{\"marker\":{\"colorbar\":{\"outlinewidth\":1,\"tickcolor\":\"rgb(36,36,36)\",\"ticks\":\"outside\"}},\"type\":\"scattercarpet\"}],\"scattergeo\":[{\"marker\":{\"colorbar\":{\"outlinewidth\":1,\"tickcolor\":\"rgb(36,36,36)\",\"ticks\":\"outside\"}},\"type\":\"scattergeo\"}],\"scattergl\":[{\"marker\":{\"colorbar\":{\"outlinewidth\":1,\"tickcolor\":\"rgb(36,36,36)\",\"ticks\":\"outside\"}},\"type\":\"scattergl\"}],\"scattermapbox\":[{\"marker\":{\"colorbar\":{\"outlinewidth\":1,\"tickcolor\":\"rgb(36,36,36)\",\"ticks\":\"outside\"}},\"type\":\"scattermapbox\"}],\"scatterpolargl\":[{\"marker\":{\"colorbar\":{\"outlinewidth\":1,\"tickcolor\":\"rgb(36,36,36)\",\"ticks\":\"outside\"}},\"type\":\"scatterpolargl\"}],\"scatterpolar\":[{\"marker\":{\"colorbar\":{\"outlinewidth\":1,\"tickcolor\":\"rgb(36,36,36)\",\"ticks\":\"outside\"}},\"type\":\"scatterpolar\"}],\"scatter\":[{\"fillpattern\":{\"fillmode\":\"overlay\",\"size\":10,\"solidity\":0.2},\"type\":\"scatter\"}],\"scatterternary\":[{\"marker\":{\"colorbar\":{\"outlinewidth\":1,\"tickcolor\":\"rgb(36,36,36)\",\"ticks\":\"outside\"}},\"type\":\"scatterternary\"}],\"surface\":[{\"colorbar\":{\"outlinewidth\":1,\"tickcolor\":\"rgb(36,36,36)\",\"ticks\":\"outside\"},\"colorscale\":[[0.0,\"#440154\"],[0.1111111111111111,\"#482878\"],[0.2222222222222222,\"#3e4989\"],[0.3333333333333333,\"#31688e\"],[0.4444444444444444,\"#26828e\"],[0.5555555555555556,\"#1f9e89\"],[0.6666666666666666,\"#35b779\"],[0.7777777777777778,\"#6ece58\"],[0.8888888888888888,\"#b5de2b\"],[1.0,\"#fde725\"]],\"type\":\"surface\"}],\"table\":[{\"cells\":{\"fill\":{\"color\":\"rgb(237,237,237)\"},\"line\":{\"color\":\"white\"}},\"header\":{\"fill\":{\"color\":\"rgb(217,217,217)\"},\"line\":{\"color\":\"white\"}},\"type\":\"table\"}]},\"layout\":{\"annotationdefaults\":{\"arrowhead\":0,\"arrowwidth\":1},\"autotypenumbers\":\"strict\",\"coloraxis\":{\"colorbar\":{\"outlinewidth\":1,\"tickcolor\":\"rgb(36,36,36)\",\"ticks\":\"outside\"}},\"colorscale\":{\"diverging\":[[0.0,\"rgb(103,0,31)\"],[0.1,\"rgb(178,24,43)\"],[0.2,\"rgb(214,96,77)\"],[0.3,\"rgb(244,165,130)\"],[0.4,\"rgb(253,219,199)\"],[0.5,\"rgb(247,247,247)\"],[0.6,\"rgb(209,229,240)\"],[0.7,\"rgb(146,197,222)\"],[0.8,\"rgb(67,147,195)\"],[0.9,\"rgb(33,102,172)\"],[1.0,\"rgb(5,48,97)\"]],\"sequential\":[[0.0,\"#440154\"],[0.1111111111111111,\"#482878\"],[0.2222222222222222,\"#3e4989\"],[0.3333333333333333,\"#31688e\"],[0.4444444444444444,\"#26828e\"],[0.5555555555555556,\"#1f9e89\"],[0.6666666666666666,\"#35b779\"],[0.7777777777777778,\"#6ece58\"],[0.8888888888888888,\"#b5de2b\"],[1.0,\"#fde725\"]],\"sequentialminus\":[[0.0,\"#440154\"],[0.1111111111111111,\"#482878\"],[0.2222222222222222,\"#3e4989\"],[0.3333333333333333,\"#31688e\"],[0.4444444444444444,\"#26828e\"],[0.5555555555555556,\"#1f9e89\"],[0.6666666666666666,\"#35b779\"],[0.7777777777777778,\"#6ece58\"],[0.8888888888888888,\"#b5de2b\"],[1.0,\"#fde725\"]]},\"colorway\":[\"#91268F\",\"#8CC63E\",\"#00A7A0\",\"#F05A28\",\"#4C4C4C\",\"#630460\",\"#9f3913\",\"#588527\",\"#00716c\",\"#3e4040\"],\"font\":{\"color\":\"rgb(36,36,36)\",\"family\":\"Poppins\",\"size\":11},\"geo\":{\"bgcolor\":\"white\",\"lakecolor\":\"white\",\"landcolor\":\"white\",\"showlakes\":true,\"showland\":true,\"subunitcolor\":\"white\"},\"hoverlabel\":{\"align\":\"left\"},\"hovermode\":\"closest\",\"mapbox\":{\"style\":\"light\"},\"paper_bgcolor\":\"white\",\"plot_bgcolor\":\"white\",\"polar\":{\"angularaxis\":{\"gridcolor\":\"rgb(232,232,232)\",\"linecolor\":\"rgb(36,36,36)\",\"showgrid\":false,\"showline\":true,\"ticks\":\"outside\"},\"bgcolor\":\"white\",\"radialaxis\":{\"gridcolor\":\"rgb(232,232,232)\",\"linecolor\":\"rgb(36,36,36)\",\"showgrid\":false,\"showline\":true,\"ticks\":\"outside\"}},\"scene\":{\"xaxis\":{\"backgroundcolor\":\"white\",\"gridcolor\":\"rgb(232,232,232)\",\"gridwidth\":2,\"linecolor\":\"rgb(36,36,36)\",\"showbackground\":true,\"showgrid\":false,\"showline\":true,\"ticks\":\"outside\",\"zeroline\":false,\"zerolinecolor\":\"rgb(36,36,36)\"},\"yaxis\":{\"backgroundcolor\":\"white\",\"gridcolor\":\"rgb(232,232,232)\",\"gridwidth\":2,\"linecolor\":\"rgb(36,36,36)\",\"showbackground\":true,\"showgrid\":false,\"showline\":true,\"ticks\":\"outside\",\"zeroline\":false,\"zerolinecolor\":\"rgb(36,36,36)\"},\"zaxis\":{\"backgroundcolor\":\"white\",\"gridcolor\":\"rgb(232,232,232)\",\"gridwidth\":2,\"linecolor\":\"rgb(36,36,36)\",\"showbackground\":true,\"showgrid\":false,\"showline\":true,\"ticks\":\"outside\",\"zeroline\":false,\"zerolinecolor\":\"rgb(36,36,36)\"}},\"shapedefaults\":{\"fillcolor\":\"black\",\"line\":{\"width\":0},\"opacity\":0.3},\"ternary\":{\"aaxis\":{\"gridcolor\":\"rgb(232,232,232)\",\"linecolor\":\"rgb(36,36,36)\",\"showgrid\":false,\"showline\":true,\"ticks\":\"outside\"},\"baxis\":{\"gridcolor\":\"rgb(232,232,232)\",\"linecolor\":\"rgb(36,36,36)\",\"showgrid\":false,\"showline\":true,\"ticks\":\"outside\"},\"bgcolor\":\"white\",\"caxis\":{\"gridcolor\":\"rgb(232,232,232)\",\"linecolor\":\"rgb(36,36,36)\",\"showgrid\":false,\"showline\":true,\"ticks\":\"outside\"}},\"title\":{\"x\":0.05},\"xaxis\":{\"automargin\":true,\"gridcolor\":\"rgb(232,232,232)\",\"linecolor\":\"rgb(36,36,36)\",\"showgrid\":false,\"showline\":true,\"ticks\":\"outside\",\"title\":{\"standoff\":15},\"zeroline\":false,\"zerolinecolor\":\"rgb(36,36,36)\"},\"yaxis\":{\"automargin\":true,\"gridcolor\":\"rgb(232,232,232)\",\"linecolor\":\"rgb(36,36,36)\",\"showgrid\":false,\"showline\":true,\"ticks\":\"outside\",\"title\":{\"standoff\":15},\"zeroline\":false,\"zerolinecolor\":\"rgb(36,36,36)\"}}},\"xaxis\":{\"anchor\":\"y\",\"domain\":[0.0,0.98],\"title\":{\"text\":\"dept_hr\"},\"dtick\":1,\"categoryorder\":\"category ascending\"},\"yaxis\":{\"anchor\":\"x\",\"domain\":[0.0,0.14166666666666666],\"title\":{\"text\":\"percentage\"},\"tickformat\":\".0%\"},\"xaxis2\":{\"anchor\":\"y2\",\"domain\":[0.0,0.98],\"matches\":\"x\",\"showticklabels\":false,\"dtick\":1,\"categoryorder\":\"category ascending\"},\"yaxis2\":{\"anchor\":\"x2\",\"domain\":[0.17166666666666666,0.31333333333333335],\"matches\":\"y\",\"title\":{\"text\":\"percentage\"},\"tickformat\":\".0%\"},\"xaxis3\":{\"anchor\":\"y3\",\"domain\":[0.0,0.98],\"matches\":\"x\",\"showticklabels\":false,\"dtick\":1,\"categoryorder\":\"category ascending\"},\"yaxis3\":{\"anchor\":\"x3\",\"domain\":[0.3433333333333333,0.485],\"matches\":\"y\",\"title\":{\"text\":\"percentage\"},\"tickformat\":\".0%\"},\"xaxis4\":{\"anchor\":\"y4\",\"domain\":[0.0,0.98],\"matches\":\"x\",\"showticklabels\":false,\"dtick\":1,\"categoryorder\":\"category ascending\"},\"yaxis4\":{\"anchor\":\"x4\",\"domain\":[0.515,0.6566666666666667],\"matches\":\"y\",\"title\":{\"text\":\"percentage\"},\"tickformat\":\".0%\"},\"xaxis5\":{\"anchor\":\"y5\",\"domain\":[0.0,0.98],\"matches\":\"x\",\"showticklabels\":false,\"dtick\":1,\"categoryorder\":\"category ascending\"},\"yaxis5\":{\"anchor\":\"x5\",\"domain\":[0.6866666666666666,0.8283333333333334],\"matches\":\"y\",\"title\":{\"text\":\"percentage\"},\"tickformat\":\".0%\"},\"xaxis6\":{\"anchor\":\"y6\",\"domain\":[0.0,0.98],\"matches\":\"x\",\"showticklabels\":false,\"dtick\":1,\"categoryorder\":\"category ascending\"},\"yaxis6\":{\"anchor\":\"x6\",\"domain\":[0.8583333333333333,1.0],\"matches\":\"y\",\"title\":{\"text\":\"percentage\"},\"tickformat\":\".0%\"},\"annotations\":[{\"font\":{},\"showarrow\":false,\"text\":\"Personal Business\",\"textangle\":90,\"x\":0.98,\"xanchor\":\"left\",\"xref\":\"paper\",\"y\":0.07083333333333333,\"yanchor\":\"middle\",\"yref\":\"paper\"},{\"font\":{},\"showarrow\":false,\"text\":\"Escort\",\"textangle\":90,\"x\":0.98,\"xanchor\":\"left\",\"xref\":\"paper\",\"y\":0.2425,\"yanchor\":\"middle\",\"yref\":\"paper\"},{\"font\":{},\"showarrow\":false,\"text\":\"Meal\",\"textangle\":90,\"x\":0.98,\"xanchor\":\"left\",\"xref\":\"paper\",\"y\":0.4141666666666667,\"yanchor\":\"middle\",\"yref\":\"paper\"},{\"font\":{},\"showarrow\":false,\"text\":\"Shop\",\"textangle\":90,\"x\":0.98,\"xanchor\":\"left\",\"xref\":\"paper\",\"y\":0.5858333333333334,\"yanchor\":\"middle\",\"yref\":\"paper\"},{\"font\":{},\"showarrow\":false,\"text\":\"School\",\"textangle\":90,\"x\":0.98,\"xanchor\":\"left\",\"xref\":\"paper\",\"y\":0.7575000000000001,\"yanchor\":\"middle\",\"yref\":\"paper\"},{\"font\":{},\"showarrow\":false,\"text\":\"Work\",\"textangle\":90,\"x\":0.98,\"xanchor\":\"left\",\"xref\":\"paper\",\"y\":0.9291666666666667,\"yanchor\":\"middle\",\"yref\":\"paper\"}],\"legend\":{\"title\":{\"text\":\"source\"},\"tracegroupgap\":0},\"title\":{\"text\":\"trip origin departure hour by purpose\"},\"barmode\":\"group\",\"height\":1500,\"width\":850},                        {\"responsive\": true}                    ).then(function(){\n",
       "                            \n",
       "var gd = document.getElementById('0d384c37-c435-4e00-ab12-d8e8313cf19f');\n",
       "var x = new MutationObserver(function (mutations, observer) {{\n",
       "        var display = window.getComputedStyle(gd).display;\n",
       "        if (!display || display === 'none') {{\n",
       "            console.log([gd, 'removed!']);\n",
       "            Plotly.purge(gd);\n",
       "            observer.disconnect();\n",
       "        }}\n",
       "}});\n",
       "\n",
       "// Listen for the removal of the full notebook cells\n",
       "var notebookContainer = gd.closest('#notebook-container');\n",
       "if (notebookContainer) {{\n",
       "    x.observe(notebookContainer, {childList: true});\n",
       "}}\n",
       "\n",
       "// Listen for the clearing of the current output cell\n",
       "var outputEl = gd.closest('.output');\n",
       "if (outputEl) {{\n",
       "    x.observe(outputEl, {childList: true});\n",
       "}}\n",
       "\n",
       "                        })                };                });            </script>        </div>"
      ]
     },
     "metadata": {},
     "output_type": "display_data"
    }
   ],
   "source": [
    "df_plot = df_trip.groupby(['dept_hr','dpurp_label','source'])['trexpfac'].agg(sample_count='size', trexpfac='sum').reset_index()\n",
    "df_plot['percentage'] = df_plot.groupby(['dpurp_label','source'], group_keys=False)['trexpfac']. \\\n",
    "    apply(lambda x: x / float(x.sum()))\n",
    "\n",
    "fig = px.bar(df_plot.sort_values(['source','dpurp_label']),\n",
    "             x=\"dept_hr\", y=\"percentage\", color=\"source\",barmode=\"group\",\n",
    "             facet_row='dpurp_label',\n",
    "             hover_data=['trexpfac','sample_count'],\n",
    "             title=\"trip origin departure hour by purpose\")\n",
    "fig.update_layout(height=1500, width=850)\n",
    "fig.for_each_annotation(lambda a: a.update(text = a.text.split(\"=\")[-1]))\n",
    "fig.for_each_xaxis(lambda a: a.update(dict(dtick = 1, categoryorder='category ascending')))\n",
    "fig.for_each_yaxis(lambda a: a.update(dict(tickformat=\".0%\")))\n",
    "fig.show()"
   ]
  },
  {
   "cell_type": "raw",
   "metadata": {
    "vscode": {
     "languageId": "raw"
    }
   },
   "source": [
    ":::"
   ]
  }
 ],
 "metadata": {
  "kernelspec": {
   "display_name": "summary",
   "language": "python",
   "name": "python3"
  },
  "language_info": {
   "codemirror_mode": {
    "name": "ipython",
    "version": 3
   },
   "file_extension": ".py",
   "mimetype": "text/x-python",
   "name": "python",
   "nbconvert_exporter": "python",
   "pygments_lexer": "ipython3",
   "version": "3.7.10"
  }
 },
 "nbformat": 4,
 "nbformat_minor": 2
}
