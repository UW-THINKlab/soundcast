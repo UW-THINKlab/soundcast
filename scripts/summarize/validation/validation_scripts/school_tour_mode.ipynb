{
 "cells": [
  {
   "cell_type": "raw",
   "metadata": {},
   "source": [
    "---\n",
    "title: \"School Tour Mode\"\n",
    "date: today\n",
    "---"
   ]
  },
  {
   "cell_type": "code",
   "execution_count": 1,
   "metadata": {
    "ExecuteTime": {
     "end_time": "2024-08-30T20:52:54.129317Z",
     "start_time": "2024-08-30T20:52:53.410669Z"
    },
    "execution": {
     "iopub.execute_input": "2024-08-30T21:30:17.916149Z",
     "iopub.status.busy": "2024-08-30T21:30:17.916149Z",
     "iopub.status.idle": "2024-08-30T21:30:19.539286Z",
     "shell.execute_reply": "2024-08-30T21:30:19.539286Z"
    }
   },
   "outputs": [],
   "source": [
    "import os\n",
    "import pandas as pd\n",
    "import numpy as np\n",
    "import validation_data_input\n",
    "import plotly.express as px\n",
    "import toml\n",
    "import psrc_theme\n",
    "\n",
    "# to show plotly figures in quarto HTML file\n",
    "import plotly.io as pio\n",
    "pio.renderers.default = \"plotly_mimetype+notebook_connected\"\n",
    "pio.templates.default = \"simple_white+psrc_color\" # set plotly template\n",
    "\n",
    "config = toml.load(os.path.join(os.getcwd(), '..\\\\..\\\\..\\\\..\\\\configuration', 'validation_configuration.toml'))\n",
    "# model_dir = os.path.join(os.getcwd(), '..\\\\..\\\\..\\\\..\\\\')"
   ]
  },
  {
   "cell_type": "code",
   "execution_count": 2,
   "metadata": {
    "ExecuteTime": {
     "end_time": "2024-08-30T20:53:30.660590Z",
     "start_time": "2024-08-30T20:52:54.129317Z"
    },
    "execution": {
     "iopub.execute_input": "2024-08-30T21:30:19.539286Z",
     "iopub.status.busy": "2024-08-30T21:30:19.539286Z",
     "iopub.status.idle": "2024-08-30T21:30:54.509128Z",
     "shell.execute_reply": "2024-08-30T21:30:54.508621Z"
    }
   },
   "outputs": [],
   "source": [
    "tour = validation_data_input.get_data('tour')\n",
    "hh = validation_data_input.get_data('household')\n",
    "person = validation_data_input.get_data('person')"
   ]
  },
  {
   "cell_type": "code",
   "execution_count": 3,
   "metadata": {
    "ExecuteTime": {
     "end_time": "2024-08-30T20:54:20.473196Z",
     "start_time": "2024-08-30T20:53:30.660590Z"
    },
    "execution": {
     "iopub.execute_input": "2024-08-30T21:30:54.509128Z",
     "iopub.status.busy": "2024-08-30T21:30:54.509128Z",
     "iopub.status.idle": "2024-08-30T21:31:39.773726Z",
     "shell.execute_reply": "2024-08-30T21:31:39.773726Z"
    }
   },
   "outputs": [],
   "source": [
    "# parcel land use data\n",
    "df_parcel = pd.read_csv(os.path.join(config['model_dir'],r'outputs\\landuse\\buffered_parcels.txt'),\n",
    "                        delim_whitespace=True,\n",
    "                        usecols=['parcelid','emptot_1','hh_1'])"
   ]
  },
  {
   "cell_type": "code",
   "execution_count": 4,
   "metadata": {
    "ExecuteTime": {
     "end_time": "2024-08-30T20:59:17.285388Z",
     "start_time": "2024-08-30T20:58:47.817189Z"
    },
    "execution": {
     "iopub.execute_input": "2024-08-30T21:31:39.773726Z",
     "iopub.status.busy": "2024-08-30T21:31:39.773726Z",
     "iopub.status.idle": "2024-08-30T21:32:07.102030Z",
     "shell.execute_reply": "2024-08-30T21:32:07.101522Z"
    }
   },
   "outputs": [],
   "source": [
    "df_tour = tour.copy()\n",
    "df_hh = hh.copy()\n",
    "df_person = person.copy()\n",
    "\n",
    "# auto_ownership with 4+\n",
    "df_hh['auto_ownership_4+'] = df_hh['hhvehs'].apply(lambda x: \"4+\" if x>=4.0 else str(x))\n",
    "# hhsize with 4+\n",
    "df_hh['hhsize_4+'] = df_hh['hhsize'].apply(lambda x: \"4+\" if x>=4.0 else str(x))\n",
    "# Add column for (potential) drivers adults (all hh members 16 and above)\n",
    "df_hh['drivers'] = df_hh['hhsize']-df_hh['hh515']-df_hh['hhcu5']#-df_hh['hhhsc']\n",
    "# auto availability\n",
    "df_hh['auto_count_driver'] = df_hh['hhvehs']-df_hh['drivers']\n",
    "df_hh['auto_available_driver'] = np.where(df_hh['drivers']<=0, \"no driver\",\n",
    "                                          np.where(df_hh['hhvehs']<=0, \"no car\",\n",
    "                                                   np.where(df_hh['auto_count_driver']<0, \"cars fewer than drivers\", \"enough cars\")))\n",
    "\n",
    "# add person type labels\n",
    "ptype_cat = {1: \"full time worker\",\n",
    "             2: \"part time worker\",\n",
    "             3: \"non-worker age 65+\",\n",
    "             4: \"other non-working adult\",\n",
    "             5: \"university student\",\n",
    "             6: \"grade school student/child age 16+\",\n",
    "             7: \"child age 5-15\",\n",
    "             8: \"child age 0-4\"}\n",
    "df_person['pptyp_label'] = df_person['pptyp'].map(ptype_cat)\n",
    "\n",
    "mode_cat = {1: \"1: walk\",\n",
    "            2: \"2: bike\",\n",
    "            3: \"3: sov\",\n",
    "            4: \"4: hov 2\",\n",
    "            5: \"5: hov 3+\",\n",
    "            6: \"6: walk to transit\",\n",
    "            7: \"7: park-and-ride\",\n",
    "            8: \"8: school bus\",\n",
    "            9: \"9: tnc\"}\n",
    "df_tour['tmodetp_label'] = df_tour['tmodetp'].map(mode_cat)\n",
    "\n",
    "df_hh = df_hh.merge(df_parcel,how=\"left\",left_on='hhno',right_on='parcelid')\n",
    "df_person = df_person.merge(df_hh,\n",
    "                          how='left', on=['hhno','source']) # get auto ownership from hh data\n",
    "\n",
    "df_tour = df_tour.merge(df_person, how='left', on=['pno','hhno','source'])"
   ]
  },
  {
   "cell_type": "code",
   "execution_count": 5,
   "metadata": {
    "ExecuteTime": {
     "end_time": "2024-08-30T20:59:21.457265Z",
     "start_time": "2024-08-30T20:59:17.285388Z"
    },
    "execution": {
     "iopub.execute_input": "2024-08-30T21:32:07.102030Z",
     "iopub.status.busy": "2024-08-30T21:32:07.102030Z",
     "iopub.status.idle": "2024-08-30T21:32:10.884251Z",
     "shell.execute_reply": "2024-08-30T21:32:10.883743Z"
    }
   },
   "outputs": [],
   "source": [
    "sc_tour = df_tour.loc[(df_tour['parent']==0) & (df_tour['pdpurp']==2)].copy()"
   ]
  },
  {
   "cell_type": "code",
   "execution_count": 6,
   "metadata": {
    "execution": {
     "iopub.execute_input": "2024-08-30T21:32:10.891231Z",
     "iopub.status.busy": "2024-08-30T21:32:10.890233Z",
     "iopub.status.idle": "2024-08-30T21:32:11.523773Z",
     "shell.execute_reply": "2024-08-30T21:32:11.523773Z"
    }
   },
   "outputs": [
    {
     "data": {
      "text/html": [
       "        <script type=\"text/javascript\">\n",
       "        window.PlotlyConfig = {MathJaxConfig: 'local'};\n",
       "        if (window.MathJax && window.MathJax.Hub && window.MathJax.Hub.Config) {window.MathJax.Hub.Config({SVG: {font: \"STIX-Web\"}});}\n",
       "        if (typeof require !== 'undefined') {\n",
       "        require.undef(\"plotly\");\n",
       "        requirejs.config({\n",
       "            paths: {\n",
       "                'plotly': ['https://cdn.plot.ly/plotly-2.27.0.min']\n",
       "            }\n",
       "        });\n",
       "        require(['plotly'], function(Plotly) {\n",
       "            window._Plotly = Plotly;\n",
       "        });\n",
       "        }\n",
       "        </script>\n",
       "        "
      ]
     },
     "metadata": {},
     "output_type": "display_data"
    },
    {
     "data": {
      "application/vnd.plotly.v1+json": {
       "config": {
        "plotlyServerURL": "https://plot.ly"
       },
       "data": [
        {
         "alignmentgroup": "True",
         "customdata": [
          [
           37689
          ],
          [
           7072
          ],
          [
           50868
          ],
          [
           76608
          ],
          [
           194639
          ],
          [
           20913
          ],
          [
           187212
          ],
          [
           8
          ]
         ],
         "hovertemplate": "source=model<br>tmodetp_label=%{x}<br>percentage=%{y}<br>sample count=%{customdata[0]}<extra></extra>",
         "legendgroup": "model",
         "marker": {
          "color": "#91268F",
          "pattern": {
           "shape": ""
          }
         },
         "name": "model",
         "offsetgroup": "model",
         "orientation": "v",
         "showlegend": true,
         "textposition": "auto",
         "type": "bar",
         "x": [
          "1: walk",
          "2: bike",
          "3: sov",
          "4: hov 2",
          "5: hov 3+",
          "6: walk to transit",
          "8: school bus",
          "9: tnc"
         ],
         "xaxis": "x",
         "y": [
          0.06554506103382729,
          0.012298937929667188,
          0.0884647022916163,
          0.13322921902091966,
          0.3384973104768795,
          0.03636986551514846,
          0.3255809909062293,
          1.3912825712293199e-05
         ],
         "yaxis": "y"
        },
        {
         "alignmentgroup": "True",
         "customdata": [
          [
           156
          ],
          [
           55
          ],
          [
           201
          ],
          [
           96
          ],
          [
           46
          ],
          [
           26
          ],
          [
           71
          ]
         ],
         "hovertemplate": "source=survey<br>tmodetp_label=%{x}<br>percentage=%{y}<br>sample count=%{customdata[0]}<extra></extra>",
         "legendgroup": "survey",
         "marker": {
          "color": "#8CC63E",
          "pattern": {
           "shape": ""
          }
         },
         "name": "survey",
         "offsetgroup": "survey",
         "orientation": "v",
         "showlegend": true,
         "textposition": "auto",
         "type": "bar",
         "x": [
          "8: school bus",
          "6: walk to transit",
          "5: hov 3+",
          "4: hov 2",
          "3: sov",
          "2: bike",
          "1: walk"
         ],
         "xaxis": "x",
         "y": [
          0.3002049218745824,
          0.04316802149189018,
          0.3422041140587529,
          0.13930154579158444,
          0.09039719252818969,
          0.01490051419051603,
          0.06982369006448444
         ],
         "yaxis": "y"
        },
        {
         "alignmentgroup": "True",
         "customdata": [
          [
           190
          ],
          [
           37
          ],
          [
           114
          ],
          [
           284
          ],
          [
           449
          ],
          [
           288
          ],
          [
           3
          ],
          [
           250
          ],
          [
           12
          ]
         ],
         "hovertemplate": "source=survey (2017/2019)<br>tmodetp_label=%{x}<br>percentage=%{y}<br>sample count=%{customdata[0]}<extra></extra>",
         "legendgroup": "survey (2017/2019)",
         "marker": {
          "color": "#00A7A0",
          "pattern": {
           "shape": ""
          }
         },
         "name": "survey (2017/2019)",
         "offsetgroup": "survey (2017/2019)",
         "orientation": "v",
         "showlegend": true,
         "textposition": "auto",
         "type": "bar",
         "x": [
          "1: walk",
          "2: bike",
          "3: sov",
          "4: hov 2",
          "5: hov 3+",
          "6: walk to transit",
          "7: park-and-ride",
          "8: school bus",
          "9: tnc"
         ],
         "xaxis": "x",
         "y": [
          0.0707963008618182,
          0.005046621455493914,
          0.08779303513133227,
          0.15093761041874235,
          0.37383076789424013,
          0.09229034351118368,
          0.008287678370231926,
          0.2075705691004964,
          0.0034470732564611585
         ],
         "yaxis": "y"
        }
       ],
       "layout": {
        "barmode": "group",
        "font": {
         "size": 11
        },
        "height": 400,
        "legend": {
         "title": {
          "text": "source"
         },
         "tracegroupgap": 0
        },
        "template": {
         "data": {
          "bar": [
           {
            "error_x": {
             "color": "rgb(36,36,36)"
            },
            "error_y": {
             "color": "rgb(36,36,36)"
            },
            "marker": {
             "line": {
              "color": "white",
              "width": 0.5
             },
             "pattern": {
              "fillmode": "overlay",
              "size": 10,
              "solidity": 0.2
             }
            },
            "type": "bar"
           }
          ],
          "barpolar": [
           {
            "marker": {
             "line": {
              "color": "white",
              "width": 0.5
             },
             "pattern": {
              "fillmode": "overlay",
              "size": 10,
              "solidity": 0.2
             }
            },
            "type": "barpolar"
           }
          ],
          "carpet": [
           {
            "aaxis": {
             "endlinecolor": "rgb(36,36,36)",
             "gridcolor": "white",
             "linecolor": "white",
             "minorgridcolor": "white",
             "startlinecolor": "rgb(36,36,36)"
            },
            "baxis": {
             "endlinecolor": "rgb(36,36,36)",
             "gridcolor": "white",
             "linecolor": "white",
             "minorgridcolor": "white",
             "startlinecolor": "rgb(36,36,36)"
            },
            "type": "carpet"
           }
          ],
          "choropleth": [
           {
            "colorbar": {
             "outlinewidth": 1,
             "tickcolor": "rgb(36,36,36)",
             "ticks": "outside"
            },
            "type": "choropleth"
           }
          ],
          "contour": [
           {
            "colorbar": {
             "outlinewidth": 1,
             "tickcolor": "rgb(36,36,36)",
             "ticks": "outside"
            },
            "colorscale": [
             [
              0.0,
              "#440154"
             ],
             [
              0.1111111111111111,
              "#482878"
             ],
             [
              0.2222222222222222,
              "#3e4989"
             ],
             [
              0.3333333333333333,
              "#31688e"
             ],
             [
              0.4444444444444444,
              "#26828e"
             ],
             [
              0.5555555555555556,
              "#1f9e89"
             ],
             [
              0.6666666666666666,
              "#35b779"
             ],
             [
              0.7777777777777778,
              "#6ece58"
             ],
             [
              0.8888888888888888,
              "#b5de2b"
             ],
             [
              1.0,
              "#fde725"
             ]
            ],
            "type": "contour"
           }
          ],
          "contourcarpet": [
           {
            "colorbar": {
             "outlinewidth": 1,
             "tickcolor": "rgb(36,36,36)",
             "ticks": "outside"
            },
            "type": "contourcarpet"
           }
          ],
          "heatmap": [
           {
            "colorbar": {
             "outlinewidth": 1,
             "tickcolor": "rgb(36,36,36)",
             "ticks": "outside"
            },
            "colorscale": [
             [
              0.0,
              "#440154"
             ],
             [
              0.1111111111111111,
              "#482878"
             ],
             [
              0.2222222222222222,
              "#3e4989"
             ],
             [
              0.3333333333333333,
              "#31688e"
             ],
             [
              0.4444444444444444,
              "#26828e"
             ],
             [
              0.5555555555555556,
              "#1f9e89"
             ],
             [
              0.6666666666666666,
              "#35b779"
             ],
             [
              0.7777777777777778,
              "#6ece58"
             ],
             [
              0.8888888888888888,
              "#b5de2b"
             ],
             [
              1.0,
              "#fde725"
             ]
            ],
            "type": "heatmap"
           }
          ],
          "heatmapgl": [
           {
            "colorbar": {
             "outlinewidth": 1,
             "tickcolor": "rgb(36,36,36)",
             "ticks": "outside"
            },
            "colorscale": [
             [
              0.0,
              "#440154"
             ],
             [
              0.1111111111111111,
              "#482878"
             ],
             [
              0.2222222222222222,
              "#3e4989"
             ],
             [
              0.3333333333333333,
              "#31688e"
             ],
             [
              0.4444444444444444,
              "#26828e"
             ],
             [
              0.5555555555555556,
              "#1f9e89"
             ],
             [
              0.6666666666666666,
              "#35b779"
             ],
             [
              0.7777777777777778,
              "#6ece58"
             ],
             [
              0.8888888888888888,
              "#b5de2b"
             ],
             [
              1.0,
              "#fde725"
             ]
            ],
            "type": "heatmapgl"
           }
          ],
          "histogram": [
           {
            "marker": {
             "line": {
              "color": "white",
              "width": 0.6
             }
            },
            "type": "histogram"
           }
          ],
          "histogram2d": [
           {
            "colorbar": {
             "outlinewidth": 1,
             "tickcolor": "rgb(36,36,36)",
             "ticks": "outside"
            },
            "colorscale": [
             [
              0.0,
              "#440154"
             ],
             [
              0.1111111111111111,
              "#482878"
             ],
             [
              0.2222222222222222,
              "#3e4989"
             ],
             [
              0.3333333333333333,
              "#31688e"
             ],
             [
              0.4444444444444444,
              "#26828e"
             ],
             [
              0.5555555555555556,
              "#1f9e89"
             ],
             [
              0.6666666666666666,
              "#35b779"
             ],
             [
              0.7777777777777778,
              "#6ece58"
             ],
             [
              0.8888888888888888,
              "#b5de2b"
             ],
             [
              1.0,
              "#fde725"
             ]
            ],
            "type": "histogram2d"
           }
          ],
          "histogram2dcontour": [
           {
            "colorbar": {
             "outlinewidth": 1,
             "tickcolor": "rgb(36,36,36)",
             "ticks": "outside"
            },
            "colorscale": [
             [
              0.0,
              "#440154"
             ],
             [
              0.1111111111111111,
              "#482878"
             ],
             [
              0.2222222222222222,
              "#3e4989"
             ],
             [
              0.3333333333333333,
              "#31688e"
             ],
             [
              0.4444444444444444,
              "#26828e"
             ],
             [
              0.5555555555555556,
              "#1f9e89"
             ],
             [
              0.6666666666666666,
              "#35b779"
             ],
             [
              0.7777777777777778,
              "#6ece58"
             ],
             [
              0.8888888888888888,
              "#b5de2b"
             ],
             [
              1.0,
              "#fde725"
             ]
            ],
            "type": "histogram2dcontour"
           }
          ],
          "mesh3d": [
           {
            "colorbar": {
             "outlinewidth": 1,
             "tickcolor": "rgb(36,36,36)",
             "ticks": "outside"
            },
            "type": "mesh3d"
           }
          ],
          "parcoords": [
           {
            "line": {
             "colorbar": {
              "outlinewidth": 1,
              "tickcolor": "rgb(36,36,36)",
              "ticks": "outside"
             }
            },
            "type": "parcoords"
           }
          ],
          "pie": [
           {
            "automargin": true,
            "type": "pie"
           }
          ],
          "scatter": [
           {
            "fillpattern": {
             "fillmode": "overlay",
             "size": 10,
             "solidity": 0.2
            },
            "type": "scatter"
           }
          ],
          "scatter3d": [
           {
            "line": {
             "colorbar": {
              "outlinewidth": 1,
              "tickcolor": "rgb(36,36,36)",
              "ticks": "outside"
             }
            },
            "marker": {
             "colorbar": {
              "outlinewidth": 1,
              "tickcolor": "rgb(36,36,36)",
              "ticks": "outside"
             }
            },
            "type": "scatter3d"
           }
          ],
          "scattercarpet": [
           {
            "marker": {
             "colorbar": {
              "outlinewidth": 1,
              "tickcolor": "rgb(36,36,36)",
              "ticks": "outside"
             }
            },
            "type": "scattercarpet"
           }
          ],
          "scattergeo": [
           {
            "marker": {
             "colorbar": {
              "outlinewidth": 1,
              "tickcolor": "rgb(36,36,36)",
              "ticks": "outside"
             }
            },
            "type": "scattergeo"
           }
          ],
          "scattergl": [
           {
            "marker": {
             "colorbar": {
              "outlinewidth": 1,
              "tickcolor": "rgb(36,36,36)",
              "ticks": "outside"
             }
            },
            "type": "scattergl"
           }
          ],
          "scattermapbox": [
           {
            "marker": {
             "colorbar": {
              "outlinewidth": 1,
              "tickcolor": "rgb(36,36,36)",
              "ticks": "outside"
             }
            },
            "type": "scattermapbox"
           }
          ],
          "scatterpolar": [
           {
            "marker": {
             "colorbar": {
              "outlinewidth": 1,
              "tickcolor": "rgb(36,36,36)",
              "ticks": "outside"
             }
            },
            "type": "scatterpolar"
           }
          ],
          "scatterpolargl": [
           {
            "marker": {
             "colorbar": {
              "outlinewidth": 1,
              "tickcolor": "rgb(36,36,36)",
              "ticks": "outside"
             }
            },
            "type": "scatterpolargl"
           }
          ],
          "scatterternary": [
           {
            "marker": {
             "colorbar": {
              "outlinewidth": 1,
              "tickcolor": "rgb(36,36,36)",
              "ticks": "outside"
             }
            },
            "type": "scatterternary"
           }
          ],
          "surface": [
           {
            "colorbar": {
             "outlinewidth": 1,
             "tickcolor": "rgb(36,36,36)",
             "ticks": "outside"
            },
            "colorscale": [
             [
              0.0,
              "#440154"
             ],
             [
              0.1111111111111111,
              "#482878"
             ],
             [
              0.2222222222222222,
              "#3e4989"
             ],
             [
              0.3333333333333333,
              "#31688e"
             ],
             [
              0.4444444444444444,
              "#26828e"
             ],
             [
              0.5555555555555556,
              "#1f9e89"
             ],
             [
              0.6666666666666666,
              "#35b779"
             ],
             [
              0.7777777777777778,
              "#6ece58"
             ],
             [
              0.8888888888888888,
              "#b5de2b"
             ],
             [
              1.0,
              "#fde725"
             ]
            ],
            "type": "surface"
           }
          ],
          "table": [
           {
            "cells": {
             "fill": {
              "color": "rgb(237,237,237)"
             },
             "line": {
              "color": "white"
             }
            },
            "header": {
             "fill": {
              "color": "rgb(217,217,217)"
             },
             "line": {
              "color": "white"
             }
            },
            "type": "table"
           }
          ]
         },
         "layout": {
          "annotationdefaults": {
           "arrowhead": 0,
           "arrowwidth": 1
          },
          "autotypenumbers": "strict",
          "coloraxis": {
           "colorbar": {
            "outlinewidth": 1,
            "tickcolor": "rgb(36,36,36)",
            "ticks": "outside"
           }
          },
          "colorscale": {
           "diverging": [
            [
             0.0,
             "rgb(103,0,31)"
            ],
            [
             0.1,
             "rgb(178,24,43)"
            ],
            [
             0.2,
             "rgb(214,96,77)"
            ],
            [
             0.3,
             "rgb(244,165,130)"
            ],
            [
             0.4,
             "rgb(253,219,199)"
            ],
            [
             0.5,
             "rgb(247,247,247)"
            ],
            [
             0.6,
             "rgb(209,229,240)"
            ],
            [
             0.7,
             "rgb(146,197,222)"
            ],
            [
             0.8,
             "rgb(67,147,195)"
            ],
            [
             0.9,
             "rgb(33,102,172)"
            ],
            [
             1.0,
             "rgb(5,48,97)"
            ]
           ],
           "sequential": [
            [
             0.0,
             "#440154"
            ],
            [
             0.1111111111111111,
             "#482878"
            ],
            [
             0.2222222222222222,
             "#3e4989"
            ],
            [
             0.3333333333333333,
             "#31688e"
            ],
            [
             0.4444444444444444,
             "#26828e"
            ],
            [
             0.5555555555555556,
             "#1f9e89"
            ],
            [
             0.6666666666666666,
             "#35b779"
            ],
            [
             0.7777777777777778,
             "#6ece58"
            ],
            [
             0.8888888888888888,
             "#b5de2b"
            ],
            [
             1.0,
             "#fde725"
            ]
           ],
           "sequentialminus": [
            [
             0.0,
             "#440154"
            ],
            [
             0.1111111111111111,
             "#482878"
            ],
            [
             0.2222222222222222,
             "#3e4989"
            ],
            [
             0.3333333333333333,
             "#31688e"
            ],
            [
             0.4444444444444444,
             "#26828e"
            ],
            [
             0.5555555555555556,
             "#1f9e89"
            ],
            [
             0.6666666666666666,
             "#35b779"
            ],
            [
             0.7777777777777778,
             "#6ece58"
            ],
            [
             0.8888888888888888,
             "#b5de2b"
            ],
            [
             1.0,
             "#fde725"
            ]
           ]
          },
          "colorway": [
           "#91268F",
           "#8CC63E",
           "#00A7A0",
           "#F05A28",
           "#4C4C4C",
           "#630460",
           "#9f3913",
           "#588527",
           "#00716c",
           "#3e4040"
          ],
          "font": {
           "color": "rgb(36,36,36)",
           "family": "Poppins",
           "size": 11
          },
          "geo": {
           "bgcolor": "white",
           "lakecolor": "white",
           "landcolor": "white",
           "showlakes": true,
           "showland": true,
           "subunitcolor": "white"
          },
          "hoverlabel": {
           "align": "left"
          },
          "hovermode": "closest",
          "mapbox": {
           "style": "light"
          },
          "paper_bgcolor": "white",
          "plot_bgcolor": "white",
          "polar": {
           "angularaxis": {
            "gridcolor": "rgb(232,232,232)",
            "linecolor": "rgb(36,36,36)",
            "showgrid": false,
            "showline": true,
            "ticks": "outside"
           },
           "bgcolor": "white",
           "radialaxis": {
            "gridcolor": "rgb(232,232,232)",
            "linecolor": "rgb(36,36,36)",
            "showgrid": false,
            "showline": true,
            "ticks": "outside"
           }
          },
          "scene": {
           "xaxis": {
            "backgroundcolor": "white",
            "gridcolor": "rgb(232,232,232)",
            "gridwidth": 2,
            "linecolor": "rgb(36,36,36)",
            "showbackground": true,
            "showgrid": false,
            "showline": true,
            "ticks": "outside",
            "zeroline": false,
            "zerolinecolor": "rgb(36,36,36)"
           },
           "yaxis": {
            "backgroundcolor": "white",
            "gridcolor": "rgb(232,232,232)",
            "gridwidth": 2,
            "linecolor": "rgb(36,36,36)",
            "showbackground": true,
            "showgrid": false,
            "showline": true,
            "ticks": "outside",
            "zeroline": false,
            "zerolinecolor": "rgb(36,36,36)"
           },
           "zaxis": {
            "backgroundcolor": "white",
            "gridcolor": "rgb(232,232,232)",
            "gridwidth": 2,
            "linecolor": "rgb(36,36,36)",
            "showbackground": true,
            "showgrid": false,
            "showline": true,
            "ticks": "outside",
            "zeroline": false,
            "zerolinecolor": "rgb(36,36,36)"
           }
          },
          "shapedefaults": {
           "fillcolor": "black",
           "line": {
            "width": 0
           },
           "opacity": 0.3
          },
          "ternary": {
           "aaxis": {
            "gridcolor": "rgb(232,232,232)",
            "linecolor": "rgb(36,36,36)",
            "showgrid": false,
            "showline": true,
            "ticks": "outside"
           },
           "baxis": {
            "gridcolor": "rgb(232,232,232)",
            "linecolor": "rgb(36,36,36)",
            "showgrid": false,
            "showline": true,
            "ticks": "outside"
           },
           "bgcolor": "white",
           "caxis": {
            "gridcolor": "rgb(232,232,232)",
            "linecolor": "rgb(36,36,36)",
            "showgrid": false,
            "showline": true,
            "ticks": "outside"
           }
          },
          "title": {
           "x": 0.05
          },
          "xaxis": {
           "automargin": true,
           "gridcolor": "rgb(232,232,232)",
           "linecolor": "rgb(36,36,36)",
           "showgrid": false,
           "showline": true,
           "ticks": "outside",
           "title": {
            "standoff": 15
           },
           "zeroline": false,
           "zerolinecolor": "rgb(36,36,36)"
          },
          "yaxis": {
           "automargin": true,
           "gridcolor": "rgb(232,232,232)",
           "linecolor": "rgb(36,36,36)",
           "showgrid": false,
           "showline": true,
           "ticks": "outside",
           "title": {
            "standoff": 15
           },
           "zeroline": false,
           "zerolinecolor": "rgb(36,36,36)"
          }
         }
        },
        "title": {
         "text": "school tour mode"
        },
        "width": 700,
        "xaxis": {
         "anchor": "y",
         "categoryorder": "category ascending",
         "domain": [
          0.0,
          1.0
         ],
         "dtick": 1,
         "title": {
          "text": "tmodetp_label"
         }
        },
        "yaxis": {
         "anchor": "x",
         "domain": [
          0.0,
          1.0
         ],
         "tickformat": ".2%",
         "title": {
          "text": "percentage"
         }
        }
       }
      },
      "text/html": [
       "<div>                            <div id=\"229cc85f-4f2f-498b-8ee7-272b174288e1\" class=\"plotly-graph-div\" style=\"height:400px; width:700px;\"></div>            <script type=\"text/javascript\">                require([\"plotly\"], function(Plotly) {                    window.PLOTLYENV=window.PLOTLYENV || {};                                    if (document.getElementById(\"229cc85f-4f2f-498b-8ee7-272b174288e1\")) {                    Plotly.newPlot(                        \"229cc85f-4f2f-498b-8ee7-272b174288e1\",                        [{\"alignmentgroup\":\"True\",\"customdata\":[[37689],[7072],[50868],[76608],[194639],[20913],[187212],[8]],\"hovertemplate\":\"source=model\\u003cbr\\u003etmodetp_label=%{x}\\u003cbr\\u003epercentage=%{y}\\u003cbr\\u003esample count=%{customdata[0]}\\u003cextra\\u003e\\u003c\\u002fextra\\u003e\",\"legendgroup\":\"model\",\"marker\":{\"color\":\"#91268F\",\"pattern\":{\"shape\":\"\"}},\"name\":\"model\",\"offsetgroup\":\"model\",\"orientation\":\"v\",\"showlegend\":true,\"textposition\":\"auto\",\"x\":[\"1: walk\",\"2: bike\",\"3: sov\",\"4: hov 2\",\"5: hov 3+\",\"6: walk to transit\",\"8: school bus\",\"9: tnc\"],\"xaxis\":\"x\",\"y\":[0.06554506103382729,0.012298937929667188,0.0884647022916163,0.13322921902091966,0.3384973104768795,0.03636986551514846,0.3255809909062293,1.3912825712293199e-05],\"yaxis\":\"y\",\"type\":\"bar\"},{\"alignmentgroup\":\"True\",\"customdata\":[[156],[55],[201],[96],[46],[26],[71]],\"hovertemplate\":\"source=survey\\u003cbr\\u003etmodetp_label=%{x}\\u003cbr\\u003epercentage=%{y}\\u003cbr\\u003esample count=%{customdata[0]}\\u003cextra\\u003e\\u003c\\u002fextra\\u003e\",\"legendgroup\":\"survey\",\"marker\":{\"color\":\"#8CC63E\",\"pattern\":{\"shape\":\"\"}},\"name\":\"survey\",\"offsetgroup\":\"survey\",\"orientation\":\"v\",\"showlegend\":true,\"textposition\":\"auto\",\"x\":[\"8: school bus\",\"6: walk to transit\",\"5: hov 3+\",\"4: hov 2\",\"3: sov\",\"2: bike\",\"1: walk\"],\"xaxis\":\"x\",\"y\":[0.3002049218745824,0.04316802149189018,0.3422041140587529,0.13930154579158444,0.09039719252818969,0.01490051419051603,0.06982369006448444],\"yaxis\":\"y\",\"type\":\"bar\"},{\"alignmentgroup\":\"True\",\"customdata\":[[190],[37],[114],[284],[449],[288],[3],[250],[12]],\"hovertemplate\":\"source=survey (2017\\u002f2019)\\u003cbr\\u003etmodetp_label=%{x}\\u003cbr\\u003epercentage=%{y}\\u003cbr\\u003esample count=%{customdata[0]}\\u003cextra\\u003e\\u003c\\u002fextra\\u003e\",\"legendgroup\":\"survey (2017\\u002f2019)\",\"marker\":{\"color\":\"#00A7A0\",\"pattern\":{\"shape\":\"\"}},\"name\":\"survey (2017\\u002f2019)\",\"offsetgroup\":\"survey (2017\\u002f2019)\",\"orientation\":\"v\",\"showlegend\":true,\"textposition\":\"auto\",\"x\":[\"1: walk\",\"2: bike\",\"3: sov\",\"4: hov 2\",\"5: hov 3+\",\"6: walk to transit\",\"7: park-and-ride\",\"8: school bus\",\"9: tnc\"],\"xaxis\":\"x\",\"y\":[0.0707963008618182,0.005046621455493914,0.08779303513133227,0.15093761041874235,0.37383076789424013,0.09229034351118368,0.008287678370231926,0.2075705691004964,0.0034470732564611585],\"yaxis\":\"y\",\"type\":\"bar\"}],                        {\"template\":{\"data\":{\"barpolar\":[{\"marker\":{\"line\":{\"color\":\"white\",\"width\":0.5},\"pattern\":{\"fillmode\":\"overlay\",\"size\":10,\"solidity\":0.2}},\"type\":\"barpolar\"}],\"bar\":[{\"error_x\":{\"color\":\"rgb(36,36,36)\"},\"error_y\":{\"color\":\"rgb(36,36,36)\"},\"marker\":{\"line\":{\"color\":\"white\",\"width\":0.5},\"pattern\":{\"fillmode\":\"overlay\",\"size\":10,\"solidity\":0.2}},\"type\":\"bar\"}],\"carpet\":[{\"aaxis\":{\"endlinecolor\":\"rgb(36,36,36)\",\"gridcolor\":\"white\",\"linecolor\":\"white\",\"minorgridcolor\":\"white\",\"startlinecolor\":\"rgb(36,36,36)\"},\"baxis\":{\"endlinecolor\":\"rgb(36,36,36)\",\"gridcolor\":\"white\",\"linecolor\":\"white\",\"minorgridcolor\":\"white\",\"startlinecolor\":\"rgb(36,36,36)\"},\"type\":\"carpet\"}],\"choropleth\":[{\"colorbar\":{\"outlinewidth\":1,\"tickcolor\":\"rgb(36,36,36)\",\"ticks\":\"outside\"},\"type\":\"choropleth\"}],\"contourcarpet\":[{\"colorbar\":{\"outlinewidth\":1,\"tickcolor\":\"rgb(36,36,36)\",\"ticks\":\"outside\"},\"type\":\"contourcarpet\"}],\"contour\":[{\"colorbar\":{\"outlinewidth\":1,\"tickcolor\":\"rgb(36,36,36)\",\"ticks\":\"outside\"},\"colorscale\":[[0.0,\"#440154\"],[0.1111111111111111,\"#482878\"],[0.2222222222222222,\"#3e4989\"],[0.3333333333333333,\"#31688e\"],[0.4444444444444444,\"#26828e\"],[0.5555555555555556,\"#1f9e89\"],[0.6666666666666666,\"#35b779\"],[0.7777777777777778,\"#6ece58\"],[0.8888888888888888,\"#b5de2b\"],[1.0,\"#fde725\"]],\"type\":\"contour\"}],\"heatmapgl\":[{\"colorbar\":{\"outlinewidth\":1,\"tickcolor\":\"rgb(36,36,36)\",\"ticks\":\"outside\"},\"colorscale\":[[0.0,\"#440154\"],[0.1111111111111111,\"#482878\"],[0.2222222222222222,\"#3e4989\"],[0.3333333333333333,\"#31688e\"],[0.4444444444444444,\"#26828e\"],[0.5555555555555556,\"#1f9e89\"],[0.6666666666666666,\"#35b779\"],[0.7777777777777778,\"#6ece58\"],[0.8888888888888888,\"#b5de2b\"],[1.0,\"#fde725\"]],\"type\":\"heatmapgl\"}],\"heatmap\":[{\"colorbar\":{\"outlinewidth\":1,\"tickcolor\":\"rgb(36,36,36)\",\"ticks\":\"outside\"},\"colorscale\":[[0.0,\"#440154\"],[0.1111111111111111,\"#482878\"],[0.2222222222222222,\"#3e4989\"],[0.3333333333333333,\"#31688e\"],[0.4444444444444444,\"#26828e\"],[0.5555555555555556,\"#1f9e89\"],[0.6666666666666666,\"#35b779\"],[0.7777777777777778,\"#6ece58\"],[0.8888888888888888,\"#b5de2b\"],[1.0,\"#fde725\"]],\"type\":\"heatmap\"}],\"histogram2dcontour\":[{\"colorbar\":{\"outlinewidth\":1,\"tickcolor\":\"rgb(36,36,36)\",\"ticks\":\"outside\"},\"colorscale\":[[0.0,\"#440154\"],[0.1111111111111111,\"#482878\"],[0.2222222222222222,\"#3e4989\"],[0.3333333333333333,\"#31688e\"],[0.4444444444444444,\"#26828e\"],[0.5555555555555556,\"#1f9e89\"],[0.6666666666666666,\"#35b779\"],[0.7777777777777778,\"#6ece58\"],[0.8888888888888888,\"#b5de2b\"],[1.0,\"#fde725\"]],\"type\":\"histogram2dcontour\"}],\"histogram2d\":[{\"colorbar\":{\"outlinewidth\":1,\"tickcolor\":\"rgb(36,36,36)\",\"ticks\":\"outside\"},\"colorscale\":[[0.0,\"#440154\"],[0.1111111111111111,\"#482878\"],[0.2222222222222222,\"#3e4989\"],[0.3333333333333333,\"#31688e\"],[0.4444444444444444,\"#26828e\"],[0.5555555555555556,\"#1f9e89\"],[0.6666666666666666,\"#35b779\"],[0.7777777777777778,\"#6ece58\"],[0.8888888888888888,\"#b5de2b\"],[1.0,\"#fde725\"]],\"type\":\"histogram2d\"}],\"histogram\":[{\"marker\":{\"line\":{\"color\":\"white\",\"width\":0.6}},\"type\":\"histogram\"}],\"mesh3d\":[{\"colorbar\":{\"outlinewidth\":1,\"tickcolor\":\"rgb(36,36,36)\",\"ticks\":\"outside\"},\"type\":\"mesh3d\"}],\"parcoords\":[{\"line\":{\"colorbar\":{\"outlinewidth\":1,\"tickcolor\":\"rgb(36,36,36)\",\"ticks\":\"outside\"}},\"type\":\"parcoords\"}],\"pie\":[{\"automargin\":true,\"type\":\"pie\"}],\"scatter3d\":[{\"line\":{\"colorbar\":{\"outlinewidth\":1,\"tickcolor\":\"rgb(36,36,36)\",\"ticks\":\"outside\"}},\"marker\":{\"colorbar\":{\"outlinewidth\":1,\"tickcolor\":\"rgb(36,36,36)\",\"ticks\":\"outside\"}},\"type\":\"scatter3d\"}],\"scattercarpet\":[{\"marker\":{\"colorbar\":{\"outlinewidth\":1,\"tickcolor\":\"rgb(36,36,36)\",\"ticks\":\"outside\"}},\"type\":\"scattercarpet\"}],\"scattergeo\":[{\"marker\":{\"colorbar\":{\"outlinewidth\":1,\"tickcolor\":\"rgb(36,36,36)\",\"ticks\":\"outside\"}},\"type\":\"scattergeo\"}],\"scattergl\":[{\"marker\":{\"colorbar\":{\"outlinewidth\":1,\"tickcolor\":\"rgb(36,36,36)\",\"ticks\":\"outside\"}},\"type\":\"scattergl\"}],\"scattermapbox\":[{\"marker\":{\"colorbar\":{\"outlinewidth\":1,\"tickcolor\":\"rgb(36,36,36)\",\"ticks\":\"outside\"}},\"type\":\"scattermapbox\"}],\"scatterpolargl\":[{\"marker\":{\"colorbar\":{\"outlinewidth\":1,\"tickcolor\":\"rgb(36,36,36)\",\"ticks\":\"outside\"}},\"type\":\"scatterpolargl\"}],\"scatterpolar\":[{\"marker\":{\"colorbar\":{\"outlinewidth\":1,\"tickcolor\":\"rgb(36,36,36)\",\"ticks\":\"outside\"}},\"type\":\"scatterpolar\"}],\"scatter\":[{\"fillpattern\":{\"fillmode\":\"overlay\",\"size\":10,\"solidity\":0.2},\"type\":\"scatter\"}],\"scatterternary\":[{\"marker\":{\"colorbar\":{\"outlinewidth\":1,\"tickcolor\":\"rgb(36,36,36)\",\"ticks\":\"outside\"}},\"type\":\"scatterternary\"}],\"surface\":[{\"colorbar\":{\"outlinewidth\":1,\"tickcolor\":\"rgb(36,36,36)\",\"ticks\":\"outside\"},\"colorscale\":[[0.0,\"#440154\"],[0.1111111111111111,\"#482878\"],[0.2222222222222222,\"#3e4989\"],[0.3333333333333333,\"#31688e\"],[0.4444444444444444,\"#26828e\"],[0.5555555555555556,\"#1f9e89\"],[0.6666666666666666,\"#35b779\"],[0.7777777777777778,\"#6ece58\"],[0.8888888888888888,\"#b5de2b\"],[1.0,\"#fde725\"]],\"type\":\"surface\"}],\"table\":[{\"cells\":{\"fill\":{\"color\":\"rgb(237,237,237)\"},\"line\":{\"color\":\"white\"}},\"header\":{\"fill\":{\"color\":\"rgb(217,217,217)\"},\"line\":{\"color\":\"white\"}},\"type\":\"table\"}]},\"layout\":{\"annotationdefaults\":{\"arrowhead\":0,\"arrowwidth\":1},\"autotypenumbers\":\"strict\",\"coloraxis\":{\"colorbar\":{\"outlinewidth\":1,\"tickcolor\":\"rgb(36,36,36)\",\"ticks\":\"outside\"}},\"colorscale\":{\"diverging\":[[0.0,\"rgb(103,0,31)\"],[0.1,\"rgb(178,24,43)\"],[0.2,\"rgb(214,96,77)\"],[0.3,\"rgb(244,165,130)\"],[0.4,\"rgb(253,219,199)\"],[0.5,\"rgb(247,247,247)\"],[0.6,\"rgb(209,229,240)\"],[0.7,\"rgb(146,197,222)\"],[0.8,\"rgb(67,147,195)\"],[0.9,\"rgb(33,102,172)\"],[1.0,\"rgb(5,48,97)\"]],\"sequential\":[[0.0,\"#440154\"],[0.1111111111111111,\"#482878\"],[0.2222222222222222,\"#3e4989\"],[0.3333333333333333,\"#31688e\"],[0.4444444444444444,\"#26828e\"],[0.5555555555555556,\"#1f9e89\"],[0.6666666666666666,\"#35b779\"],[0.7777777777777778,\"#6ece58\"],[0.8888888888888888,\"#b5de2b\"],[1.0,\"#fde725\"]],\"sequentialminus\":[[0.0,\"#440154\"],[0.1111111111111111,\"#482878\"],[0.2222222222222222,\"#3e4989\"],[0.3333333333333333,\"#31688e\"],[0.4444444444444444,\"#26828e\"],[0.5555555555555556,\"#1f9e89\"],[0.6666666666666666,\"#35b779\"],[0.7777777777777778,\"#6ece58\"],[0.8888888888888888,\"#b5de2b\"],[1.0,\"#fde725\"]]},\"colorway\":[\"#91268F\",\"#8CC63E\",\"#00A7A0\",\"#F05A28\",\"#4C4C4C\",\"#630460\",\"#9f3913\",\"#588527\",\"#00716c\",\"#3e4040\"],\"font\":{\"color\":\"rgb(36,36,36)\",\"family\":\"Poppins\",\"size\":11},\"geo\":{\"bgcolor\":\"white\",\"lakecolor\":\"white\",\"landcolor\":\"white\",\"showlakes\":true,\"showland\":true,\"subunitcolor\":\"white\"},\"hoverlabel\":{\"align\":\"left\"},\"hovermode\":\"closest\",\"mapbox\":{\"style\":\"light\"},\"paper_bgcolor\":\"white\",\"plot_bgcolor\":\"white\",\"polar\":{\"angularaxis\":{\"gridcolor\":\"rgb(232,232,232)\",\"linecolor\":\"rgb(36,36,36)\",\"showgrid\":false,\"showline\":true,\"ticks\":\"outside\"},\"bgcolor\":\"white\",\"radialaxis\":{\"gridcolor\":\"rgb(232,232,232)\",\"linecolor\":\"rgb(36,36,36)\",\"showgrid\":false,\"showline\":true,\"ticks\":\"outside\"}},\"scene\":{\"xaxis\":{\"backgroundcolor\":\"white\",\"gridcolor\":\"rgb(232,232,232)\",\"gridwidth\":2,\"linecolor\":\"rgb(36,36,36)\",\"showbackground\":true,\"showgrid\":false,\"showline\":true,\"ticks\":\"outside\",\"zeroline\":false,\"zerolinecolor\":\"rgb(36,36,36)\"},\"yaxis\":{\"backgroundcolor\":\"white\",\"gridcolor\":\"rgb(232,232,232)\",\"gridwidth\":2,\"linecolor\":\"rgb(36,36,36)\",\"showbackground\":true,\"showgrid\":false,\"showline\":true,\"ticks\":\"outside\",\"zeroline\":false,\"zerolinecolor\":\"rgb(36,36,36)\"},\"zaxis\":{\"backgroundcolor\":\"white\",\"gridcolor\":\"rgb(232,232,232)\",\"gridwidth\":2,\"linecolor\":\"rgb(36,36,36)\",\"showbackground\":true,\"showgrid\":false,\"showline\":true,\"ticks\":\"outside\",\"zeroline\":false,\"zerolinecolor\":\"rgb(36,36,36)\"}},\"shapedefaults\":{\"fillcolor\":\"black\",\"line\":{\"width\":0},\"opacity\":0.3},\"ternary\":{\"aaxis\":{\"gridcolor\":\"rgb(232,232,232)\",\"linecolor\":\"rgb(36,36,36)\",\"showgrid\":false,\"showline\":true,\"ticks\":\"outside\"},\"baxis\":{\"gridcolor\":\"rgb(232,232,232)\",\"linecolor\":\"rgb(36,36,36)\",\"showgrid\":false,\"showline\":true,\"ticks\":\"outside\"},\"bgcolor\":\"white\",\"caxis\":{\"gridcolor\":\"rgb(232,232,232)\",\"linecolor\":\"rgb(36,36,36)\",\"showgrid\":false,\"showline\":true,\"ticks\":\"outside\"}},\"title\":{\"x\":0.05},\"xaxis\":{\"automargin\":true,\"gridcolor\":\"rgb(232,232,232)\",\"linecolor\":\"rgb(36,36,36)\",\"showgrid\":false,\"showline\":true,\"ticks\":\"outside\",\"title\":{\"standoff\":15},\"zeroline\":false,\"zerolinecolor\":\"rgb(36,36,36)\"},\"yaxis\":{\"automargin\":true,\"gridcolor\":\"rgb(232,232,232)\",\"linecolor\":\"rgb(36,36,36)\",\"showgrid\":false,\"showline\":true,\"ticks\":\"outside\",\"title\":{\"standoff\":15},\"zeroline\":false,\"zerolinecolor\":\"rgb(36,36,36)\"}}},\"xaxis\":{\"anchor\":\"y\",\"domain\":[0.0,1.0],\"title\":{\"text\":\"tmodetp_label\"},\"dtick\":1,\"categoryorder\":\"category ascending\"},\"yaxis\":{\"anchor\":\"x\",\"domain\":[0.0,1.0],\"title\":{\"text\":\"percentage\"},\"tickformat\":\".2%\"},\"legend\":{\"title\":{\"text\":\"source\"},\"tracegroupgap\":0},\"title\":{\"text\":\"school tour mode\"},\"barmode\":\"group\",\"font\":{\"size\":11},\"height\":400,\"width\":700},                        {\"responsive\": true}                    ).then(function(){\n",
       "                            \n",
       "var gd = document.getElementById('229cc85f-4f2f-498b-8ee7-272b174288e1');\n",
       "var x = new MutationObserver(function (mutations, observer) {{\n",
       "        var display = window.getComputedStyle(gd).display;\n",
       "        if (!display || display === 'none') {{\n",
       "            console.log([gd, 'removed!']);\n",
       "            Plotly.purge(gd);\n",
       "            observer.disconnect();\n",
       "        }}\n",
       "}});\n",
       "\n",
       "// Listen for the removal of the full notebook cells\n",
       "var notebookContainer = gd.closest('#notebook-container');\n",
       "if (notebookContainer) {{\n",
       "    x.observe(notebookContainer, {childList: true});\n",
       "}}\n",
       "\n",
       "// Listen for the clearing of the current output cell\n",
       "var outputEl = gd.closest('.output');\n",
       "if (outputEl) {{\n",
       "    x.observe(outputEl, {childList: true});\n",
       "}}\n",
       "\n",
       "                        })                };                });            </script>        </div>"
      ]
     },
     "metadata": {},
     "output_type": "display_data"
    }
   ],
   "source": [
    "df_plot = sc_tour.groupby(['source','tmodetp_label'])['toexpfac'].sum().reset_index()\n",
    "df_plot['percentage'] = df_plot.groupby(['source'], group_keys=False)['toexpfac']. \\\n",
    "    apply(lambda x: x / float(x.sum()))\n",
    "\n",
    "df_plot_ct = sc_tour.groupby(['source','tmodetp_label'])['toexpfac'].count().reset_index(). \\\n",
    "    rename(columns={'toexpfac':'sample count'})\n",
    "df_plot = df_plot.merge(df_plot_ct, on=['source','tmodetp_label'])\n",
    "\n",
    "fig = px.bar(df_plot.sort_values(by=['source']), x=\"tmodetp_label\", y=\"percentage\", color=\"source\",\n",
    "             barmode=\"group\",hover_data=['sample count'],title=\"school tour mode\")\n",
    "fig.update_layout(height=400, width=700, font=dict(size=11),\n",
    "                  xaxis = dict(dtick = 1, categoryorder='category ascending'),\n",
    "                  yaxis=dict(tickformat=\".2%\"))\n",
    "fig.show()"
   ]
  },
  {
   "cell_type": "markdown",
   "metadata": {},
   "source": [
    "### mode choice by segment"
   ]
  },
  {
   "cell_type": "raw",
   "metadata": {},
   "source": [
    ":::{.panel-tabset}\n",
    "\n",
    "### person type"
   ]
  },
  {
   "cell_type": "code",
   "execution_count": 7,
   "metadata": {
    "ExecuteTime": {
     "end_time": "2024-08-30T21:00:39.192148Z",
     "start_time": "2024-08-30T21:00:39.176447Z"
    },
    "execution": {
     "iopub.execute_input": "2024-08-30T21:32:11.523773Z",
     "iopub.status.busy": "2024-08-30T21:32:11.523773Z",
     "iopub.status.idle": "2024-08-30T21:32:11.570594Z",
     "shell.execute_reply": "2024-08-30T21:32:11.570594Z"
    }
   },
   "outputs": [],
   "source": [
    "def plot_mode_choice(df: pd.DataFrame, grp_var: str, order_list: dict, title_name: str, n_nol: int, height=400, width=800):\n",
    "    df_plot = df.groupby(['source',grp_var,'tmodetp_label'])['toexpfac'].sum().reset_index()\n",
    "    df_plot['percentage'] = df_plot.groupby(['source',grp_var], group_keys=False)['toexpfac']. \\\n",
    "        apply(lambda x: x / float(x.sum()))\n",
    "\n",
    "    df_plot_ct = df.groupby(['source',grp_var,'tmodetp_label'])['toexpfac'].count().reset_index(). \\\n",
    "        rename(columns={'toexpfac':'sample count'})\n",
    "    df_plot = df_plot.merge(df_plot_ct, on=['source',grp_var,'tmodetp_label'])\n",
    "\n",
    "    fig = px.bar(df_plot.sort_values(['tmodetp_label']),\n",
    "                 x=\"percentage\", y=\"tmodetp_label\", color=\"source\",barmode=\"group\",\n",
    "                 facet_col=grp_var, facet_col_wrap=n_nol, orientation='h',\n",
    "                 hover_data=['sample count'],\n",
    "                 category_orders=order_list,\n",
    "                 title=\"school tour mode choice by \" + title_name)\n",
    "    fig.update_layout(height=height, width=width)\n",
    "    fig.for_each_annotation(lambda a: a.update(text = a.text.split(\"=\")[-1]))\n",
    "    fig.for_each_xaxis(lambda a: a.update(tickformat = \".1%\"))\n",
    "    fig.show()"
   ]
  },
  {
   "cell_type": "code",
   "execution_count": 8,
   "metadata": {
    "execution": {
     "iopub.execute_input": "2024-08-30T21:32:11.570594Z",
     "iopub.status.busy": "2024-08-30T21:32:11.570594Z",
     "iopub.status.idle": "2024-08-30T21:32:12.538947Z",
     "shell.execute_reply": "2024-08-30T21:32:12.538947Z"
    }
   },
   "outputs": [
    {
     "data": {
      "application/vnd.plotly.v1+json": {
       "config": {
        "plotlyServerURL": "https://plot.ly"
       },
       "data": [
        {
         "alignmentgroup": "True",
         "customdata": [
          [
           48
          ],
          [
           27
          ],
          [
           1171
          ],
          [
           17
          ],
          [
           32
          ],
          [
           250
          ],
          [
           4
          ]
         ],
         "hovertemplate": "source=model<br>pptyp_label=full time worker<br>percentage=%{x}<br>tmodetp_label=%{y}<br>sample count=%{customdata[0]}<extra></extra>",
         "legendgroup": "model",
         "marker": {
          "color": "#91268F",
          "pattern": {
           "shape": ""
          }
         },
         "name": "model",
         "offsetgroup": "model",
         "orientation": "h",
         "showlegend": true,
         "textposition": "auto",
         "type": "bar",
         "x": [
          0.030987734021949646,
          0.017430600387346677,
          0.7559715945771466,
          0.010974822466107165,
          0.02065848934796643,
          0.16139444803098774,
          0.0025823111684958036
         ],
         "xaxis": "x7",
         "y": [
          "1: walk",
          "2: bike",
          "3: sov",
          "4: hov 2",
          "5: hov 3+",
          "6: walk to transit",
          "8: school bus"
         ],
         "yaxis": "y7"
        },
        {
         "alignmentgroup": "True",
         "customdata": [
          [
           1995
          ],
          [
           702
          ],
          [
           24257
          ],
          [
           238
          ],
          [
           539
          ],
          [
           6938
          ],
          [
           54
          ]
         ],
         "hovertemplate": "source=model<br>pptyp_label=university student<br>percentage=%{x}<br>tmodetp_label=%{y}<br>sample count=%{customdata[0]}<extra></extra>",
         "legendgroup": "model",
         "marker": {
          "color": "#91268F",
          "pattern": {
           "shape": ""
          }
         },
         "name": "model",
         "offsetgroup": "model",
         "orientation": "h",
         "showlegend": false,
         "textposition": "auto",
         "type": "bar",
         "x": [
          0.05745471301442848,
          0.020217147135904157,
          0.6985859516746825,
          0.006854246464879187,
          0.015522852288108747,
          0.19980992425769661,
          0.0015551651643003197
         ],
         "xaxis": "x3",
         "y": [
          "1: walk",
          "2: bike",
          "3: sov",
          "4: hov 2",
          "5: hov 3+",
          "6: walk to transit",
          "8: school bus"
         ],
         "yaxis": "y3"
        },
        {
         "alignmentgroup": "True",
         "customdata": [
          [
           2915
          ],
          [
           414
          ],
          [
           25440
          ],
          [
           11631
          ],
          [
           19061
          ],
          [
           8034
          ],
          [
           17827
          ]
         ],
         "hovertemplate": "source=model<br>pptyp_label=grade school student/child age 16+<br>percentage=%{x}<br>tmodetp_label=%{y}<br>sample count=%{customdata[0]}<extra></extra>",
         "legendgroup": "model",
         "marker": {
          "color": "#91268F",
          "pattern": {
           "shape": ""
          }
         },
         "name": "model",
         "offsetgroup": "model",
         "orientation": "h",
         "showlegend": false,
         "textposition": "auto",
         "type": "bar",
         "x": [
          0.03416469374838846,
          0.004852206933733386,
          0.29816459998593564,
          0.13631888610206044,
          0.22340076416399052,
          0.09416094325027542,
          0.20893790581561614
         ],
         "xaxis": "x4",
         "y": [
          "1: walk",
          "2: bike",
          "3: sov",
          "4: hov 2",
          "5: hov 3+",
          "6: walk to transit",
          "8: school bus"
         ],
         "yaxis": "y4"
        },
        {
         "alignmentgroup": "True",
         "customdata": [
          [
           30748
          ],
          [
           5602
          ],
          [
           52277
          ],
          [
           141694
          ],
          [
           5641
          ],
          [
           168674
          ],
          [
           7
          ]
         ],
         "hovertemplate": "source=model<br>pptyp_label=child age 5-15<br>percentage=%{x}<br>tmodetp_label=%{y}<br>sample count=%{customdata[0]}<extra></extra>",
         "legendgroup": "model",
         "marker": {
          "color": "#91268F",
          "pattern": {
           "shape": ""
          }
         },
         "name": "model",
         "offsetgroup": "model",
         "orientation": "h",
         "showlegend": false,
         "textposition": "auto",
         "type": "bar",
         "x": [
          0.07598796964237611,
          0.013844302261499642,
          0.12919289348882843,
          0.35017039711548203,
          0.01394068351608702,
          0.4168464547761854,
          1.7299199541324082e-05
         ],
         "xaxis": "x",
         "y": [
          "1: walk",
          "2: bike",
          "4: hov 2",
          "5: hov 3+",
          "6: walk to transit",
          "8: school bus",
          "9: tnc"
         ],
         "yaxis": "y"
        },
        {
         "alignmentgroup": "True",
         "customdata": [
          [
           1983
          ],
          [
           327
          ],
          [
           12445
          ],
          [
           33313
          ],
          [
           50
          ],
          [
           653
          ],
          [
           1
          ]
         ],
         "hovertemplate": "source=model<br>pptyp_label=child age 0-4<br>percentage=%{x}<br>tmodetp_label=%{y}<br>sample count=%{customdata[0]}<extra></extra>",
         "legendgroup": "model",
         "marker": {
          "color": "#91268F",
          "pattern": {
           "shape": ""
          }
         },
         "name": "model",
         "offsetgroup": "model",
         "orientation": "h",
         "showlegend": false,
         "textposition": "auto",
         "type": "bar",
         "x": [
          0.040658574591979,
          0.006704666611990487,
          0.25516689904043305,
          0.6830353481505782,
          0.0010251783810383006,
          0.013388829656360207,
          2.0503567620766013e-05
         ],
         "xaxis": "x2",
         "y": [
          "1: walk",
          "2: bike",
          "4: hov 2",
          "5: hov 3+",
          "6: walk to transit",
          "8: school bus",
          "9: tnc"
         ],
         "yaxis": "y2"
        },
        {
         "alignmentgroup": "True",
         "customdata": [
          [
           1
          ],
          [
           2
          ],
          [
           3
          ]
         ],
         "hovertemplate": "source=survey<br>pptyp_label=full time worker<br>percentage=%{x}<br>tmodetp_label=%{y}<br>sample count=%{customdata[0]}<extra></extra>",
         "legendgroup": "survey",
         "marker": {
          "color": "#8CC63E",
          "pattern": {
           "shape": ""
          }
         },
         "name": "survey",
         "offsetgroup": "survey",
         "orientation": "h",
         "showlegend": true,
         "textposition": "auto",
         "type": "bar",
         "x": [
          0.0243796723156726,
          0.7190096983140983,
          0.25661062937022905
         ],
         "xaxis": "x7",
         "y": [
          "2: bike",
          "3: sov",
          "5: hov 3+"
         ],
         "yaxis": "y7"
        },
        {
         "alignmentgroup": "True",
         "customdata": [
          [
           1
          ]
         ],
         "hovertemplate": "source=survey<br>pptyp_label=part time worker<br>percentage=%{x}<br>tmodetp_label=%{y}<br>sample count=%{customdata[0]}<extra></extra>",
         "legendgroup": "survey",
         "marker": {
          "color": "#8CC63E",
          "pattern": {
           "shape": ""
          }
         },
         "name": "survey",
         "offsetgroup": "survey",
         "orientation": "h",
         "showlegend": false,
         "textposition": "auto",
         "type": "bar",
         "x": [
          1.0
         ],
         "xaxis": "x8",
         "y": [
          "6: walk to transit"
         ],
         "yaxis": "y8"
        },
        {
         "alignmentgroup": "True",
         "customdata": [
          [
           1
          ],
          [
           2
          ],
          [
           1
          ]
         ],
         "hovertemplate": "source=survey<br>pptyp_label=non-worker age 65+<br>percentage=%{x}<br>tmodetp_label=%{y}<br>sample count=%{customdata[0]}<extra></extra>",
         "legendgroup": "survey",
         "marker": {
          "color": "#8CC63E",
          "pattern": {
           "shape": ""
          }
         },
         "name": "survey",
         "offsetgroup": "survey",
         "orientation": "h",
         "showlegend": false,
         "textposition": "auto",
         "type": "bar",
         "x": [
          0.0256448721451254,
          0.9400040606200741,
          0.03435106723480046
         ],
         "xaxis": "x5",
         "y": [
          "3: sov",
          "4: hov 2",
          "5: hov 3+"
         ],
         "yaxis": "y5"
        },
        {
         "alignmentgroup": "True",
         "customdata": [
          [
           1
          ],
          [
           3
          ],
          [
           2
          ],
          [
           1
          ]
         ],
         "hovertemplate": "source=survey<br>pptyp_label=other non-working adult<br>percentage=%{x}<br>tmodetp_label=%{y}<br>sample count=%{customdata[0]}<extra></extra>",
         "legendgroup": "survey",
         "marker": {
          "color": "#8CC63E",
          "pattern": {
           "shape": ""
          }
         },
         "name": "survey",
         "offsetgroup": "survey",
         "orientation": "h",
         "showlegend": false,
         "textposition": "auto",
         "type": "bar",
         "x": [
          0.0509344934704013,
          0.24131868099362314,
          0.20010532745892723,
          0.5076414980770483
         ],
         "xaxis": "x6",
         "y": [
          "2: bike",
          "3: sov",
          "5: hov 3+",
          "6: walk to transit"
         ],
         "yaxis": "y6"
        },
        {
         "alignmentgroup": "True",
         "customdata": [
          [
           11
          ],
          [
           10
          ],
          [
           1
          ],
          [
           19
          ],
          [
           1
          ]
         ],
         "hovertemplate": "source=survey<br>pptyp_label=university student<br>percentage=%{x}<br>tmodetp_label=%{y}<br>sample count=%{customdata[0]}<extra></extra>",
         "legendgroup": "survey",
         "marker": {
          "color": "#8CC63E",
          "pattern": {
           "shape": ""
          }
         },
         "name": "survey",
         "offsetgroup": "survey",
         "orientation": "h",
         "showlegend": false,
         "textposition": "auto",
         "type": "bar",
         "x": [
          0.22745381521949196,
          0.3897295523363974,
          0.04238330101185007,
          0.33792329129202936,
          0.002510040140231319
         ],
         "xaxis": "x3",
         "y": [
          "1: walk",
          "3: sov",
          "4: hov 2",
          "6: walk to transit",
          "8: school bus"
         ],
         "yaxis": "y3"
        },
        {
         "alignmentgroup": "True",
         "customdata": [
          [
           4
          ],
          [
           3
          ],
          [
           22
          ],
          [
           8
          ],
          [
           13
          ],
          [
           11
          ],
          [
           11
          ]
         ],
         "hovertemplate": "source=survey<br>pptyp_label=grade school student/child age 16+<br>percentage=%{x}<br>tmodetp_label=%{y}<br>sample count=%{customdata[0]}<extra></extra>",
         "legendgroup": "survey",
         "marker": {
          "color": "#8CC63E",
          "pattern": {
           "shape": ""
          }
         },
         "name": "survey",
         "offsetgroup": "survey",
         "orientation": "h",
         "showlegend": false,
         "textposition": "auto",
         "type": "bar",
         "x": [
          0.04904706652613657,
          0.025029391952436104,
          0.2892969763879522,
          0.22612598847876664,
          0.21779203947271814,
          0.07904462489946525,
          0.11366391228252502
         ],
         "xaxis": "x4",
         "y": [
          "1: walk",
          "2: bike",
          "3: sov",
          "4: hov 2",
          "5: hov 3+",
          "6: walk to transit",
          "8: school bus"
         ],
         "yaxis": "y4"
        },
        {
         "alignmentgroup": "True",
         "customdata": [
          [
           39
          ],
          [
           14
          ],
          [
           4
          ],
          [
           53
          ],
          [
           136
          ],
          [
           14
          ],
          [
           137
          ]
         ],
         "hovertemplate": "source=survey<br>pptyp_label=child age 5-15<br>percentage=%{x}<br>tmodetp_label=%{y}<br>sample count=%{customdata[0]}<extra></extra>",
         "legendgroup": "survey",
         "marker": {
          "color": "#8CC63E",
          "pattern": {
           "shape": ""
          }
         },
         "name": "survey",
         "offsetgroup": "survey",
         "orientation": "h",
         "showlegend": false,
         "textposition": "auto",
         "type": "bar",
         "x": [
          0.06235831716315482,
          0.014382165873836433,
          0.015691354171256458,
          0.12348090932754467,
          0.3919106729036342,
          0.004593327804406883,
          0.3875832527561665
         ],
         "xaxis": "x",
         "y": [
          "1: walk",
          "2: bike",
          "3: sov",
          "4: hov 2",
          "5: hov 3+",
          "6: walk to transit",
          "8: school bus"
         ],
         "yaxis": "y"
        },
        {
         "alignmentgroup": "True",
         "customdata": [
          [
           8
          ],
          [
           5
          ],
          [
           30
          ],
          [
           38
          ],
          [
           2
          ]
         ],
         "hovertemplate": "source=survey<br>pptyp_label=child age 0-4<br>percentage=%{x}<br>tmodetp_label=%{y}<br>sample count=%{customdata[0]}<extra></extra>",
         "legendgroup": "survey",
         "marker": {
          "color": "#8CC63E",
          "pattern": {
           "shape": ""
          }
         },
         "name": "survey",
         "offsetgroup": "survey",
         "orientation": "h",
         "showlegend": false,
         "textposition": "auto",
         "type": "bar",
         "x": [
          0.12367362341375279,
          0.007252677762808268,
          0.17526534316462367,
          0.5681541811296064,
          0.12565417452920896
         ],
         "xaxis": "x2",
         "y": [
          "1: walk",
          "2: bike",
          "4: hov 2",
          "5: hov 3+",
          "8: school bus"
         ],
         "yaxis": "y2"
        },
        {
         "alignmentgroup": "True",
         "customdata": [
          [
           2
          ],
          [
           2
          ],
          [
           12
          ],
          [
           2
          ],
          [
           1
          ],
          [
           5
          ],
          [
           1
          ],
          [
           1
          ]
         ],
         "hovertemplate": "source=survey (2017/2019)<br>pptyp_label=full time worker<br>percentage=%{x}<br>tmodetp_label=%{y}<br>sample count=%{customdata[0]}<extra></extra>",
         "legendgroup": "survey (2017/2019)",
         "marker": {
          "color": "#00A7A0",
          "pattern": {
           "shape": ""
          }
         },
         "name": "survey (2017/2019)",
         "offsetgroup": "survey (2017/2019)",
         "orientation": "h",
         "showlegend": true,
         "textposition": "auto",
         "type": "bar",
         "x": [
          0.00563768722743075,
          0.00689818462136414,
          0.13090831329708547,
          0.003544217004029821,
          0.0025420095308956977,
          0.02077367437439125,
          0.820602049196452,
          0.009093864748350902
         ],
         "xaxis": "x7",
         "y": [
          "1: walk",
          "2: bike",
          "3: sov",
          "4: hov 2",
          "5: hov 3+",
          "6: walk to transit",
          "7: park-and-ride",
          "9: tnc"
         ],
         "yaxis": "y7"
        },
        {
         "alignmentgroup": "True",
         "customdata": [
          [
           7
          ],
          [
           2
          ],
          [
           28
          ],
          [
           11
          ],
          [
           3
          ],
          [
           42
          ],
          [
           1
          ],
          [
           4
          ]
         ],
         "hovertemplate": "source=survey (2017/2019)<br>pptyp_label=part time worker<br>percentage=%{x}<br>tmodetp_label=%{y}<br>sample count=%{customdata[0]}<extra></extra>",
         "legendgroup": "survey (2017/2019)",
         "marker": {
          "color": "#00A7A0",
          "pattern": {
           "shape": ""
          }
         },
         "name": "survey (2017/2019)",
         "offsetgroup": "survey (2017/2019)",
         "orientation": "h",
         "showlegend": false,
         "textposition": "auto",
         "type": "bar",
         "x": [
          0.011397366074117746,
          0.0009162203870792232,
          0.37974216935121263,
          0.31155524736802237,
          0.004734507129392391,
          0.2698777840902176,
          0.00043277846087212793,
          0.021343927139086016
         ],
         "xaxis": "x8",
         "y": [
          "1: walk",
          "2: bike",
          "3: sov",
          "4: hov 2",
          "5: hov 3+",
          "6: walk to transit",
          "7: park-and-ride",
          "9: tnc"
         ],
         "yaxis": "y8"
        },
        {
         "alignmentgroup": "True",
         "customdata": [
          [
           2
          ],
          [
           7
          ]
         ],
         "hovertemplate": "source=survey (2017/2019)<br>pptyp_label=non-worker age 65+<br>percentage=%{x}<br>tmodetp_label=%{y}<br>sample count=%{customdata[0]}<extra></extra>",
         "legendgroup": "survey (2017/2019)",
         "marker": {
          "color": "#00A7A0",
          "pattern": {
           "shape": ""
          }
         },
         "name": "survey (2017/2019)",
         "offsetgroup": "survey (2017/2019)",
         "orientation": "h",
         "showlegend": false,
         "textposition": "auto",
         "type": "bar",
         "x": [
          0.16969972662233862,
          0.8303002733776613
         ],
         "xaxis": "x5",
         "y": [
          "3: sov",
          "6: walk to transit"
         ],
         "yaxis": "y5"
        },
        {
         "alignmentgroup": "True",
         "customdata": [
          [
           23
          ],
          [
           12
          ],
          [
           16
          ],
          [
           9
          ],
          [
           5
          ],
          [
           65
          ],
          [
           1
          ]
         ],
         "hovertemplate": "source=survey (2017/2019)<br>pptyp_label=other non-working adult<br>percentage=%{x}<br>tmodetp_label=%{y}<br>sample count=%{customdata[0]}<extra></extra>",
         "legendgroup": "survey (2017/2019)",
         "marker": {
          "color": "#00A7A0",
          "pattern": {
           "shape": ""
          }
         },
         "name": "survey (2017/2019)",
         "offsetgroup": "survey (2017/2019)",
         "orientation": "h",
         "showlegend": false,
         "textposition": "auto",
         "type": "bar",
         "x": [
          0.049543699586692885,
          0.02315432451458612,
          0.43593238392066896,
          0.025783636725669835,
          0.01201955492273211,
          0.4514833938934672,
          0.002083006436182946
         ],
         "xaxis": "x6",
         "y": [
          "1: walk",
          "2: bike",
          "3: sov",
          "4: hov 2",
          "5: hov 3+",
          "6: walk to transit",
          "9: tnc"
         ],
         "yaxis": "y6"
        },
        {
         "alignmentgroup": "True",
         "customdata": [
          [
           9
          ],
          [
           1
          ],
          [
           21
          ],
          [
           24
          ],
          [
           20
          ],
          [
           20
          ],
          [
           17
          ],
          [
           1
          ]
         ],
         "hovertemplate": "source=survey (2017/2019)<br>pptyp_label=grade school student/child age 16+<br>percentage=%{x}<br>tmodetp_label=%{y}<br>sample count=%{customdata[0]}<extra></extra>",
         "legendgroup": "survey (2017/2019)",
         "marker": {
          "color": "#00A7A0",
          "pattern": {
           "shape": ""
          }
         },
         "name": "survey (2017/2019)",
         "offsetgroup": "survey (2017/2019)",
         "orientation": "h",
         "showlegend": false,
         "textposition": "auto",
         "type": "bar",
         "x": [
          0.016416409977852126,
          0.0025283376121530126,
          0.17649170366360578,
          0.2908382983765309,
          0.35166278723283134,
          0.04266780126511947,
          0.10880374676241159,
          0.010590915109495733
         ],
         "xaxis": "x4",
         "y": [
          "1: walk",
          "2: bike",
          "3: sov",
          "4: hov 2",
          "5: hov 3+",
          "6: walk to transit",
          "8: school bus",
          "9: tnc"
         ],
         "yaxis": "y4"
        },
        {
         "alignmentgroup": "True",
         "customdata": [
          [
           54
          ],
          [
           12
          ],
          [
           1
          ],
          [
           94
          ],
          [
           193
          ],
          [
           47
          ],
          [
           172
          ],
          [
           1
          ]
         ],
         "hovertemplate": "source=survey (2017/2019)<br>pptyp_label=child age 5-15<br>percentage=%{x}<br>tmodetp_label=%{y}<br>sample count=%{customdata[0]}<extra></extra>",
         "legendgroup": "survey (2017/2019)",
         "marker": {
          "color": "#00A7A0",
          "pattern": {
           "shape": ""
          }
         },
         "name": "survey (2017/2019)",
         "offsetgroup": "survey (2017/2019)",
         "orientation": "h",
         "showlegend": false,
         "textposition": "auto",
         "type": "bar",
         "x": [
          0.09615478773786516,
          0.005824167165141712,
          0.0005198772830998646,
          0.08767576806333158,
          0.44271332862770063,
          0.05988169046044898,
          0.3072240634927352,
          6.317169676890627e-06
         ],
         "xaxis": "x",
         "y": [
          "1: walk",
          "2: bike",
          "3: sov",
          "4: hov 2",
          "5: hov 3+",
          "6: walk to transit",
          "8: school bus",
          "9: tnc"
         ],
         "yaxis": "y"
        },
        {
         "alignmentgroup": "True",
         "customdata": [
          [
           14
          ],
          [
           2
          ],
          [
           58
          ],
          [
           88
          ],
          [
           8
          ],
          [
           1
          ]
         ],
         "hovertemplate": "source=survey (2017/2019)<br>pptyp_label=child age 0-4<br>percentage=%{x}<br>tmodetp_label=%{y}<br>sample count=%{customdata[0]}<extra></extra>",
         "legendgroup": "survey (2017/2019)",
         "marker": {
          "color": "#00A7A0",
          "pattern": {
           "shape": ""
          }
         },
         "name": "survey (2017/2019)",
         "offsetgroup": "survey (2017/2019)",
         "orientation": "h",
         "showlegend": false,
         "textposition": "auto",
         "type": "bar",
         "x": [
          0.08230899400639519,
          0.0010996684169632671,
          0.4232386682875826,
          0.4783212509780013,
          0.013704383978974456,
          0.0013270343320830938
         ],
         "xaxis": "x2",
         "y": [
          "1: walk",
          "2: bike",
          "4: hov 2",
          "5: hov 3+",
          "6: walk to transit",
          "8: school bus"
         ],
         "yaxis": "y2"
        }
       ],
       "layout": {
        "annotations": [
         {
          "font": {},
          "showarrow": false,
          "text": "child age 5-15",
          "x": 0.245,
          "xanchor": "center",
          "xref": "paper",
          "y": 0.1975,
          "yanchor": "bottom",
          "yref": "paper"
         },
         {
          "font": {},
          "showarrow": false,
          "text": "child age 0-4",
          "x": 0.755,
          "xanchor": "center",
          "xref": "paper",
          "y": 0.1975,
          "yanchor": "bottom",
          "yref": "paper"
         },
         {
          "font": {},
          "showarrow": false,
          "text": "university student",
          "x": 0.245,
          "xanchor": "center",
          "xref": "paper",
          "y": 0.465,
          "yanchor": "bottom",
          "yref": "paper"
         },
         {
          "font": {},
          "showarrow": false,
          "text": "grade school student/child age 16+",
          "x": 0.755,
          "xanchor": "center",
          "xref": "paper",
          "y": 0.465,
          "yanchor": "bottom",
          "yref": "paper"
         },
         {
          "font": {},
          "showarrow": false,
          "text": "non-worker age 65+",
          "x": 0.245,
          "xanchor": "center",
          "xref": "paper",
          "y": 0.7325,
          "yanchor": "bottom",
          "yref": "paper"
         },
         {
          "font": {},
          "showarrow": false,
          "text": "other non-working adult",
          "x": 0.755,
          "xanchor": "center",
          "xref": "paper",
          "y": 0.7325,
          "yanchor": "bottom",
          "yref": "paper"
         },
         {
          "font": {},
          "showarrow": false,
          "text": "full time worker",
          "x": 0.245,
          "xanchor": "center",
          "xref": "paper",
          "y": 1.0,
          "yanchor": "bottom",
          "yref": "paper"
         },
         {
          "font": {},
          "showarrow": false,
          "text": "part time worker",
          "x": 0.755,
          "xanchor": "center",
          "xref": "paper",
          "y": 1.0,
          "yanchor": "bottom",
          "yref": "paper"
         }
        ],
        "barmode": "group",
        "height": 1000,
        "legend": {
         "title": {
          "text": "source"
         },
         "tracegroupgap": 0
        },
        "template": {
         "data": {
          "bar": [
           {
            "error_x": {
             "color": "rgb(36,36,36)"
            },
            "error_y": {
             "color": "rgb(36,36,36)"
            },
            "marker": {
             "line": {
              "color": "white",
              "width": 0.5
             },
             "pattern": {
              "fillmode": "overlay",
              "size": 10,
              "solidity": 0.2
             }
            },
            "type": "bar"
           }
          ],
          "barpolar": [
           {
            "marker": {
             "line": {
              "color": "white",
              "width": 0.5
             },
             "pattern": {
              "fillmode": "overlay",
              "size": 10,
              "solidity": 0.2
             }
            },
            "type": "barpolar"
           }
          ],
          "carpet": [
           {
            "aaxis": {
             "endlinecolor": "rgb(36,36,36)",
             "gridcolor": "white",
             "linecolor": "white",
             "minorgridcolor": "white",
             "startlinecolor": "rgb(36,36,36)"
            },
            "baxis": {
             "endlinecolor": "rgb(36,36,36)",
             "gridcolor": "white",
             "linecolor": "white",
             "minorgridcolor": "white",
             "startlinecolor": "rgb(36,36,36)"
            },
            "type": "carpet"
           }
          ],
          "choropleth": [
           {
            "colorbar": {
             "outlinewidth": 1,
             "tickcolor": "rgb(36,36,36)",
             "ticks": "outside"
            },
            "type": "choropleth"
           }
          ],
          "contour": [
           {
            "colorbar": {
             "outlinewidth": 1,
             "tickcolor": "rgb(36,36,36)",
             "ticks": "outside"
            },
            "colorscale": [
             [
              0.0,
              "#440154"
             ],
             [
              0.1111111111111111,
              "#482878"
             ],
             [
              0.2222222222222222,
              "#3e4989"
             ],
             [
              0.3333333333333333,
              "#31688e"
             ],
             [
              0.4444444444444444,
              "#26828e"
             ],
             [
              0.5555555555555556,
              "#1f9e89"
             ],
             [
              0.6666666666666666,
              "#35b779"
             ],
             [
              0.7777777777777778,
              "#6ece58"
             ],
             [
              0.8888888888888888,
              "#b5de2b"
             ],
             [
              1.0,
              "#fde725"
             ]
            ],
            "type": "contour"
           }
          ],
          "contourcarpet": [
           {
            "colorbar": {
             "outlinewidth": 1,
             "tickcolor": "rgb(36,36,36)",
             "ticks": "outside"
            },
            "type": "contourcarpet"
           }
          ],
          "heatmap": [
           {
            "colorbar": {
             "outlinewidth": 1,
             "tickcolor": "rgb(36,36,36)",
             "ticks": "outside"
            },
            "colorscale": [
             [
              0.0,
              "#440154"
             ],
             [
              0.1111111111111111,
              "#482878"
             ],
             [
              0.2222222222222222,
              "#3e4989"
             ],
             [
              0.3333333333333333,
              "#31688e"
             ],
             [
              0.4444444444444444,
              "#26828e"
             ],
             [
              0.5555555555555556,
              "#1f9e89"
             ],
             [
              0.6666666666666666,
              "#35b779"
             ],
             [
              0.7777777777777778,
              "#6ece58"
             ],
             [
              0.8888888888888888,
              "#b5de2b"
             ],
             [
              1.0,
              "#fde725"
             ]
            ],
            "type": "heatmap"
           }
          ],
          "heatmapgl": [
           {
            "colorbar": {
             "outlinewidth": 1,
             "tickcolor": "rgb(36,36,36)",
             "ticks": "outside"
            },
            "colorscale": [
             [
              0.0,
              "#440154"
             ],
             [
              0.1111111111111111,
              "#482878"
             ],
             [
              0.2222222222222222,
              "#3e4989"
             ],
             [
              0.3333333333333333,
              "#31688e"
             ],
             [
              0.4444444444444444,
              "#26828e"
             ],
             [
              0.5555555555555556,
              "#1f9e89"
             ],
             [
              0.6666666666666666,
              "#35b779"
             ],
             [
              0.7777777777777778,
              "#6ece58"
             ],
             [
              0.8888888888888888,
              "#b5de2b"
             ],
             [
              1.0,
              "#fde725"
             ]
            ],
            "type": "heatmapgl"
           }
          ],
          "histogram": [
           {
            "marker": {
             "line": {
              "color": "white",
              "width": 0.6
             }
            },
            "type": "histogram"
           }
          ],
          "histogram2d": [
           {
            "colorbar": {
             "outlinewidth": 1,
             "tickcolor": "rgb(36,36,36)",
             "ticks": "outside"
            },
            "colorscale": [
             [
              0.0,
              "#440154"
             ],
             [
              0.1111111111111111,
              "#482878"
             ],
             [
              0.2222222222222222,
              "#3e4989"
             ],
             [
              0.3333333333333333,
              "#31688e"
             ],
             [
              0.4444444444444444,
              "#26828e"
             ],
             [
              0.5555555555555556,
              "#1f9e89"
             ],
             [
              0.6666666666666666,
              "#35b779"
             ],
             [
              0.7777777777777778,
              "#6ece58"
             ],
             [
              0.8888888888888888,
              "#b5de2b"
             ],
             [
              1.0,
              "#fde725"
             ]
            ],
            "type": "histogram2d"
           }
          ],
          "histogram2dcontour": [
           {
            "colorbar": {
             "outlinewidth": 1,
             "tickcolor": "rgb(36,36,36)",
             "ticks": "outside"
            },
            "colorscale": [
             [
              0.0,
              "#440154"
             ],
             [
              0.1111111111111111,
              "#482878"
             ],
             [
              0.2222222222222222,
              "#3e4989"
             ],
             [
              0.3333333333333333,
              "#31688e"
             ],
             [
              0.4444444444444444,
              "#26828e"
             ],
             [
              0.5555555555555556,
              "#1f9e89"
             ],
             [
              0.6666666666666666,
              "#35b779"
             ],
             [
              0.7777777777777778,
              "#6ece58"
             ],
             [
              0.8888888888888888,
              "#b5de2b"
             ],
             [
              1.0,
              "#fde725"
             ]
            ],
            "type": "histogram2dcontour"
           }
          ],
          "mesh3d": [
           {
            "colorbar": {
             "outlinewidth": 1,
             "tickcolor": "rgb(36,36,36)",
             "ticks": "outside"
            },
            "type": "mesh3d"
           }
          ],
          "parcoords": [
           {
            "line": {
             "colorbar": {
              "outlinewidth": 1,
              "tickcolor": "rgb(36,36,36)",
              "ticks": "outside"
             }
            },
            "type": "parcoords"
           }
          ],
          "pie": [
           {
            "automargin": true,
            "type": "pie"
           }
          ],
          "scatter": [
           {
            "fillpattern": {
             "fillmode": "overlay",
             "size": 10,
             "solidity": 0.2
            },
            "type": "scatter"
           }
          ],
          "scatter3d": [
           {
            "line": {
             "colorbar": {
              "outlinewidth": 1,
              "tickcolor": "rgb(36,36,36)",
              "ticks": "outside"
             }
            },
            "marker": {
             "colorbar": {
              "outlinewidth": 1,
              "tickcolor": "rgb(36,36,36)",
              "ticks": "outside"
             }
            },
            "type": "scatter3d"
           }
          ],
          "scattercarpet": [
           {
            "marker": {
             "colorbar": {
              "outlinewidth": 1,
              "tickcolor": "rgb(36,36,36)",
              "ticks": "outside"
             }
            },
            "type": "scattercarpet"
           }
          ],
          "scattergeo": [
           {
            "marker": {
             "colorbar": {
              "outlinewidth": 1,
              "tickcolor": "rgb(36,36,36)",
              "ticks": "outside"
             }
            },
            "type": "scattergeo"
           }
          ],
          "scattergl": [
           {
            "marker": {
             "colorbar": {
              "outlinewidth": 1,
              "tickcolor": "rgb(36,36,36)",
              "ticks": "outside"
             }
            },
            "type": "scattergl"
           }
          ],
          "scattermapbox": [
           {
            "marker": {
             "colorbar": {
              "outlinewidth": 1,
              "tickcolor": "rgb(36,36,36)",
              "ticks": "outside"
             }
            },
            "type": "scattermapbox"
           }
          ],
          "scatterpolar": [
           {
            "marker": {
             "colorbar": {
              "outlinewidth": 1,
              "tickcolor": "rgb(36,36,36)",
              "ticks": "outside"
             }
            },
            "type": "scatterpolar"
           }
          ],
          "scatterpolargl": [
           {
            "marker": {
             "colorbar": {
              "outlinewidth": 1,
              "tickcolor": "rgb(36,36,36)",
              "ticks": "outside"
             }
            },
            "type": "scatterpolargl"
           }
          ],
          "scatterternary": [
           {
            "marker": {
             "colorbar": {
              "outlinewidth": 1,
              "tickcolor": "rgb(36,36,36)",
              "ticks": "outside"
             }
            },
            "type": "scatterternary"
           }
          ],
          "surface": [
           {
            "colorbar": {
             "outlinewidth": 1,
             "tickcolor": "rgb(36,36,36)",
             "ticks": "outside"
            },
            "colorscale": [
             [
              0.0,
              "#440154"
             ],
             [
              0.1111111111111111,
              "#482878"
             ],
             [
              0.2222222222222222,
              "#3e4989"
             ],
             [
              0.3333333333333333,
              "#31688e"
             ],
             [
              0.4444444444444444,
              "#26828e"
             ],
             [
              0.5555555555555556,
              "#1f9e89"
             ],
             [
              0.6666666666666666,
              "#35b779"
             ],
             [
              0.7777777777777778,
              "#6ece58"
             ],
             [
              0.8888888888888888,
              "#b5de2b"
             ],
             [
              1.0,
              "#fde725"
             ]
            ],
            "type": "surface"
           }
          ],
          "table": [
           {
            "cells": {
             "fill": {
              "color": "rgb(237,237,237)"
             },
             "line": {
              "color": "white"
             }
            },
            "header": {
             "fill": {
              "color": "rgb(217,217,217)"
             },
             "line": {
              "color": "white"
             }
            },
            "type": "table"
           }
          ]
         },
         "layout": {
          "annotationdefaults": {
           "arrowhead": 0,
           "arrowwidth": 1
          },
          "autotypenumbers": "strict",
          "coloraxis": {
           "colorbar": {
            "outlinewidth": 1,
            "tickcolor": "rgb(36,36,36)",
            "ticks": "outside"
           }
          },
          "colorscale": {
           "diverging": [
            [
             0.0,
             "rgb(103,0,31)"
            ],
            [
             0.1,
             "rgb(178,24,43)"
            ],
            [
             0.2,
             "rgb(214,96,77)"
            ],
            [
             0.3,
             "rgb(244,165,130)"
            ],
            [
             0.4,
             "rgb(253,219,199)"
            ],
            [
             0.5,
             "rgb(247,247,247)"
            ],
            [
             0.6,
             "rgb(209,229,240)"
            ],
            [
             0.7,
             "rgb(146,197,222)"
            ],
            [
             0.8,
             "rgb(67,147,195)"
            ],
            [
             0.9,
             "rgb(33,102,172)"
            ],
            [
             1.0,
             "rgb(5,48,97)"
            ]
           ],
           "sequential": [
            [
             0.0,
             "#440154"
            ],
            [
             0.1111111111111111,
             "#482878"
            ],
            [
             0.2222222222222222,
             "#3e4989"
            ],
            [
             0.3333333333333333,
             "#31688e"
            ],
            [
             0.4444444444444444,
             "#26828e"
            ],
            [
             0.5555555555555556,
             "#1f9e89"
            ],
            [
             0.6666666666666666,
             "#35b779"
            ],
            [
             0.7777777777777778,
             "#6ece58"
            ],
            [
             0.8888888888888888,
             "#b5de2b"
            ],
            [
             1.0,
             "#fde725"
            ]
           ],
           "sequentialminus": [
            [
             0.0,
             "#440154"
            ],
            [
             0.1111111111111111,
             "#482878"
            ],
            [
             0.2222222222222222,
             "#3e4989"
            ],
            [
             0.3333333333333333,
             "#31688e"
            ],
            [
             0.4444444444444444,
             "#26828e"
            ],
            [
             0.5555555555555556,
             "#1f9e89"
            ],
            [
             0.6666666666666666,
             "#35b779"
            ],
            [
             0.7777777777777778,
             "#6ece58"
            ],
            [
             0.8888888888888888,
             "#b5de2b"
            ],
            [
             1.0,
             "#fde725"
            ]
           ]
          },
          "colorway": [
           "#91268F",
           "#8CC63E",
           "#00A7A0",
           "#F05A28",
           "#4C4C4C",
           "#630460",
           "#9f3913",
           "#588527",
           "#00716c",
           "#3e4040"
          ],
          "font": {
           "color": "rgb(36,36,36)",
           "family": "Poppins",
           "size": 11
          },
          "geo": {
           "bgcolor": "white",
           "lakecolor": "white",
           "landcolor": "white",
           "showlakes": true,
           "showland": true,
           "subunitcolor": "white"
          },
          "hoverlabel": {
           "align": "left"
          },
          "hovermode": "closest",
          "mapbox": {
           "style": "light"
          },
          "paper_bgcolor": "white",
          "plot_bgcolor": "white",
          "polar": {
           "angularaxis": {
            "gridcolor": "rgb(232,232,232)",
            "linecolor": "rgb(36,36,36)",
            "showgrid": false,
            "showline": true,
            "ticks": "outside"
           },
           "bgcolor": "white",
           "radialaxis": {
            "gridcolor": "rgb(232,232,232)",
            "linecolor": "rgb(36,36,36)",
            "showgrid": false,
            "showline": true,
            "ticks": "outside"
           }
          },
          "scene": {
           "xaxis": {
            "backgroundcolor": "white",
            "gridcolor": "rgb(232,232,232)",
            "gridwidth": 2,
            "linecolor": "rgb(36,36,36)",
            "showbackground": true,
            "showgrid": false,
            "showline": true,
            "ticks": "outside",
            "zeroline": false,
            "zerolinecolor": "rgb(36,36,36)"
           },
           "yaxis": {
            "backgroundcolor": "white",
            "gridcolor": "rgb(232,232,232)",
            "gridwidth": 2,
            "linecolor": "rgb(36,36,36)",
            "showbackground": true,
            "showgrid": false,
            "showline": true,
            "ticks": "outside",
            "zeroline": false,
            "zerolinecolor": "rgb(36,36,36)"
           },
           "zaxis": {
            "backgroundcolor": "white",
            "gridcolor": "rgb(232,232,232)",
            "gridwidth": 2,
            "linecolor": "rgb(36,36,36)",
            "showbackground": true,
            "showgrid": false,
            "showline": true,
            "ticks": "outside",
            "zeroline": false,
            "zerolinecolor": "rgb(36,36,36)"
           }
          },
          "shapedefaults": {
           "fillcolor": "black",
           "line": {
            "width": 0
           },
           "opacity": 0.3
          },
          "ternary": {
           "aaxis": {
            "gridcolor": "rgb(232,232,232)",
            "linecolor": "rgb(36,36,36)",
            "showgrid": false,
            "showline": true,
            "ticks": "outside"
           },
           "baxis": {
            "gridcolor": "rgb(232,232,232)",
            "linecolor": "rgb(36,36,36)",
            "showgrid": false,
            "showline": true,
            "ticks": "outside"
           },
           "bgcolor": "white",
           "caxis": {
            "gridcolor": "rgb(232,232,232)",
            "linecolor": "rgb(36,36,36)",
            "showgrid": false,
            "showline": true,
            "ticks": "outside"
           }
          },
          "title": {
           "x": 0.05
          },
          "xaxis": {
           "automargin": true,
           "gridcolor": "rgb(232,232,232)",
           "linecolor": "rgb(36,36,36)",
           "showgrid": false,
           "showline": true,
           "ticks": "outside",
           "title": {
            "standoff": 15
           },
           "zeroline": false,
           "zerolinecolor": "rgb(36,36,36)"
          },
          "yaxis": {
           "automargin": true,
           "gridcolor": "rgb(232,232,232)",
           "linecolor": "rgb(36,36,36)",
           "showgrid": false,
           "showline": true,
           "ticks": "outside",
           "title": {
            "standoff": 15
           },
           "zeroline": false,
           "zerolinecolor": "rgb(36,36,36)"
          }
         }
        },
        "title": {
         "text": "school tour mode choice by person type"
        },
        "width": 800,
        "xaxis": {
         "anchor": "y",
         "domain": [
          0.0,
          0.49
         ],
         "tickformat": ".1%",
         "title": {
          "text": "percentage"
         }
        },
        "xaxis2": {
         "anchor": "y2",
         "domain": [
          0.51,
          1.0
         ],
         "matches": "x",
         "tickformat": ".1%",
         "title": {
          "text": "percentage"
         }
        },
        "xaxis3": {
         "anchor": "y3",
         "domain": [
          0.0,
          0.49
         ],
         "matches": "x",
         "showticklabels": false,
         "tickformat": ".1%"
        },
        "xaxis4": {
         "anchor": "y4",
         "domain": [
          0.51,
          1.0
         ],
         "matches": "x",
         "showticklabels": false,
         "tickformat": ".1%"
        },
        "xaxis5": {
         "anchor": "y5",
         "domain": [
          0.0,
          0.49
         ],
         "matches": "x",
         "showticklabels": false,
         "tickformat": ".1%"
        },
        "xaxis6": {
         "anchor": "y6",
         "domain": [
          0.51,
          1.0
         ],
         "matches": "x",
         "showticklabels": false,
         "tickformat": ".1%"
        },
        "xaxis7": {
         "anchor": "y7",
         "domain": [
          0.0,
          0.49
         ],
         "matches": "x",
         "showticklabels": false,
         "tickformat": ".1%"
        },
        "xaxis8": {
         "anchor": "y8",
         "domain": [
          0.51,
          1.0
         ],
         "matches": "x",
         "showticklabels": false,
         "tickformat": ".1%"
        },
        "yaxis": {
         "anchor": "x",
         "categoryarray": [
          "9: other–survey only",
          "8: school bus",
          "7: park-and-ride",
          "6: walk to transit",
          "5: hov 3+",
          "4: hov 2",
          "3: sov",
          "2: bike",
          "1: walk"
         ],
         "categoryorder": "array",
         "domain": [
          0.0,
          0.1975
         ],
         "title": {
          "text": "tmodetp_label"
         }
        },
        "yaxis2": {
         "anchor": "x2",
         "domain": [
          0.0,
          0.1975
         ],
         "matches": "y",
         "showticklabels": false
        },
        "yaxis3": {
         "anchor": "x3",
         "categoryarray": [
          "9: other–survey only",
          "8: school bus",
          "7: park-and-ride",
          "6: walk to transit",
          "5: hov 3+",
          "4: hov 2",
          "3: sov",
          "2: bike",
          "1: walk"
         ],
         "categoryorder": "array",
         "domain": [
          0.2675,
          0.465
         ],
         "matches": "y",
         "title": {
          "text": "tmodetp_label"
         }
        },
        "yaxis4": {
         "anchor": "x4",
         "domain": [
          0.2675,
          0.465
         ],
         "matches": "y",
         "showticklabels": false
        },
        "yaxis5": {
         "anchor": "x5",
         "categoryarray": [
          "9: other–survey only",
          "8: school bus",
          "7: park-and-ride",
          "6: walk to transit",
          "5: hov 3+",
          "4: hov 2",
          "3: sov",
          "2: bike",
          "1: walk"
         ],
         "categoryorder": "array",
         "domain": [
          0.535,
          0.7325
         ],
         "matches": "y",
         "title": {
          "text": "tmodetp_label"
         }
        },
        "yaxis6": {
         "anchor": "x6",
         "domain": [
          0.535,
          0.7325
         ],
         "matches": "y",
         "showticklabels": false
        },
        "yaxis7": {
         "anchor": "x7",
         "categoryarray": [
          "9: other–survey only",
          "8: school bus",
          "7: park-and-ride",
          "6: walk to transit",
          "5: hov 3+",
          "4: hov 2",
          "3: sov",
          "2: bike",
          "1: walk"
         ],
         "categoryorder": "array",
         "domain": [
          0.8025,
          1.0
         ],
         "matches": "y",
         "title": {
          "text": "tmodetp_label"
         }
        },
        "yaxis8": {
         "anchor": "x8",
         "domain": [
          0.8025,
          1.0
         ],
         "matches": "y",
         "showticklabels": false
        }
       }
      },
      "text/html": [
       "<div>                            <div id=\"80e841aa-7507-4dd4-a500-f46d48e121db\" class=\"plotly-graph-div\" style=\"height:1000px; width:800px;\"></div>            <script type=\"text/javascript\">                require([\"plotly\"], function(Plotly) {                    window.PLOTLYENV=window.PLOTLYENV || {};                                    if (document.getElementById(\"80e841aa-7507-4dd4-a500-f46d48e121db\")) {                    Plotly.newPlot(                        \"80e841aa-7507-4dd4-a500-f46d48e121db\",                        [{\"alignmentgroup\":\"True\",\"customdata\":[[48],[27],[1171],[17],[32],[250],[4]],\"hovertemplate\":\"source=model\\u003cbr\\u003epptyp_label=full time worker\\u003cbr\\u003epercentage=%{x}\\u003cbr\\u003etmodetp_label=%{y}\\u003cbr\\u003esample count=%{customdata[0]}\\u003cextra\\u003e\\u003c\\u002fextra\\u003e\",\"legendgroup\":\"model\",\"marker\":{\"color\":\"#91268F\",\"pattern\":{\"shape\":\"\"}},\"name\":\"model\",\"offsetgroup\":\"model\",\"orientation\":\"h\",\"showlegend\":true,\"textposition\":\"auto\",\"x\":[0.030987734021949646,0.017430600387346677,0.7559715945771466,0.010974822466107165,0.02065848934796643,0.16139444803098774,0.0025823111684958036],\"xaxis\":\"x7\",\"y\":[\"1: walk\",\"2: bike\",\"3: sov\",\"4: hov 2\",\"5: hov 3+\",\"6: walk to transit\",\"8: school bus\"],\"yaxis\":\"y7\",\"type\":\"bar\"},{\"alignmentgroup\":\"True\",\"customdata\":[[1995],[702],[24257],[238],[539],[6938],[54]],\"hovertemplate\":\"source=model\\u003cbr\\u003epptyp_label=university student\\u003cbr\\u003epercentage=%{x}\\u003cbr\\u003etmodetp_label=%{y}\\u003cbr\\u003esample count=%{customdata[0]}\\u003cextra\\u003e\\u003c\\u002fextra\\u003e\",\"legendgroup\":\"model\",\"marker\":{\"color\":\"#91268F\",\"pattern\":{\"shape\":\"\"}},\"name\":\"model\",\"offsetgroup\":\"model\",\"orientation\":\"h\",\"showlegend\":false,\"textposition\":\"auto\",\"x\":[0.05745471301442848,0.020217147135904157,0.6985859516746825,0.006854246464879187,0.015522852288108747,0.19980992425769661,0.0015551651643003197],\"xaxis\":\"x3\",\"y\":[\"1: walk\",\"2: bike\",\"3: sov\",\"4: hov 2\",\"5: hov 3+\",\"6: walk to transit\",\"8: school bus\"],\"yaxis\":\"y3\",\"type\":\"bar\"},{\"alignmentgroup\":\"True\",\"customdata\":[[2915],[414],[25440],[11631],[19061],[8034],[17827]],\"hovertemplate\":\"source=model\\u003cbr\\u003epptyp_label=grade school student\\u002fchild age 16+\\u003cbr\\u003epercentage=%{x}\\u003cbr\\u003etmodetp_label=%{y}\\u003cbr\\u003esample count=%{customdata[0]}\\u003cextra\\u003e\\u003c\\u002fextra\\u003e\",\"legendgroup\":\"model\",\"marker\":{\"color\":\"#91268F\",\"pattern\":{\"shape\":\"\"}},\"name\":\"model\",\"offsetgroup\":\"model\",\"orientation\":\"h\",\"showlegend\":false,\"textposition\":\"auto\",\"x\":[0.03416469374838846,0.004852206933733386,0.29816459998593564,0.13631888610206044,0.22340076416399052,0.09416094325027542,0.20893790581561614],\"xaxis\":\"x4\",\"y\":[\"1: walk\",\"2: bike\",\"3: sov\",\"4: hov 2\",\"5: hov 3+\",\"6: walk to transit\",\"8: school bus\"],\"yaxis\":\"y4\",\"type\":\"bar\"},{\"alignmentgroup\":\"True\",\"customdata\":[[30748],[5602],[52277],[141694],[5641],[168674],[7]],\"hovertemplate\":\"source=model\\u003cbr\\u003epptyp_label=child age 5-15\\u003cbr\\u003epercentage=%{x}\\u003cbr\\u003etmodetp_label=%{y}\\u003cbr\\u003esample count=%{customdata[0]}\\u003cextra\\u003e\\u003c\\u002fextra\\u003e\",\"legendgroup\":\"model\",\"marker\":{\"color\":\"#91268F\",\"pattern\":{\"shape\":\"\"}},\"name\":\"model\",\"offsetgroup\":\"model\",\"orientation\":\"h\",\"showlegend\":false,\"textposition\":\"auto\",\"x\":[0.07598796964237611,0.013844302261499642,0.12919289348882843,0.35017039711548203,0.01394068351608702,0.4168464547761854,1.7299199541324082e-05],\"xaxis\":\"x\",\"y\":[\"1: walk\",\"2: bike\",\"4: hov 2\",\"5: hov 3+\",\"6: walk to transit\",\"8: school bus\",\"9: tnc\"],\"yaxis\":\"y\",\"type\":\"bar\"},{\"alignmentgroup\":\"True\",\"customdata\":[[1983],[327],[12445],[33313],[50],[653],[1]],\"hovertemplate\":\"source=model\\u003cbr\\u003epptyp_label=child age 0-4\\u003cbr\\u003epercentage=%{x}\\u003cbr\\u003etmodetp_label=%{y}\\u003cbr\\u003esample count=%{customdata[0]}\\u003cextra\\u003e\\u003c\\u002fextra\\u003e\",\"legendgroup\":\"model\",\"marker\":{\"color\":\"#91268F\",\"pattern\":{\"shape\":\"\"}},\"name\":\"model\",\"offsetgroup\":\"model\",\"orientation\":\"h\",\"showlegend\":false,\"textposition\":\"auto\",\"x\":[0.040658574591979,0.006704666611990487,0.25516689904043305,0.6830353481505782,0.0010251783810383006,0.013388829656360207,2.0503567620766013e-05],\"xaxis\":\"x2\",\"y\":[\"1: walk\",\"2: bike\",\"4: hov 2\",\"5: hov 3+\",\"6: walk to transit\",\"8: school bus\",\"9: tnc\"],\"yaxis\":\"y2\",\"type\":\"bar\"},{\"alignmentgroup\":\"True\",\"customdata\":[[1],[2],[3]],\"hovertemplate\":\"source=survey\\u003cbr\\u003epptyp_label=full time worker\\u003cbr\\u003epercentage=%{x}\\u003cbr\\u003etmodetp_label=%{y}\\u003cbr\\u003esample count=%{customdata[0]}\\u003cextra\\u003e\\u003c\\u002fextra\\u003e\",\"legendgroup\":\"survey\",\"marker\":{\"color\":\"#8CC63E\",\"pattern\":{\"shape\":\"\"}},\"name\":\"survey\",\"offsetgroup\":\"survey\",\"orientation\":\"h\",\"showlegend\":true,\"textposition\":\"auto\",\"x\":[0.0243796723156726,0.7190096983140983,0.25661062937022905],\"xaxis\":\"x7\",\"y\":[\"2: bike\",\"3: sov\",\"5: hov 3+\"],\"yaxis\":\"y7\",\"type\":\"bar\"},{\"alignmentgroup\":\"True\",\"customdata\":[[1]],\"hovertemplate\":\"source=survey\\u003cbr\\u003epptyp_label=part time worker\\u003cbr\\u003epercentage=%{x}\\u003cbr\\u003etmodetp_label=%{y}\\u003cbr\\u003esample count=%{customdata[0]}\\u003cextra\\u003e\\u003c\\u002fextra\\u003e\",\"legendgroup\":\"survey\",\"marker\":{\"color\":\"#8CC63E\",\"pattern\":{\"shape\":\"\"}},\"name\":\"survey\",\"offsetgroup\":\"survey\",\"orientation\":\"h\",\"showlegend\":false,\"textposition\":\"auto\",\"x\":[1.0],\"xaxis\":\"x8\",\"y\":[\"6: walk to transit\"],\"yaxis\":\"y8\",\"type\":\"bar\"},{\"alignmentgroup\":\"True\",\"customdata\":[[1],[2],[1]],\"hovertemplate\":\"source=survey\\u003cbr\\u003epptyp_label=non-worker age 65+\\u003cbr\\u003epercentage=%{x}\\u003cbr\\u003etmodetp_label=%{y}\\u003cbr\\u003esample count=%{customdata[0]}\\u003cextra\\u003e\\u003c\\u002fextra\\u003e\",\"legendgroup\":\"survey\",\"marker\":{\"color\":\"#8CC63E\",\"pattern\":{\"shape\":\"\"}},\"name\":\"survey\",\"offsetgroup\":\"survey\",\"orientation\":\"h\",\"showlegend\":false,\"textposition\":\"auto\",\"x\":[0.0256448721451254,0.9400040606200741,0.03435106723480046],\"xaxis\":\"x5\",\"y\":[\"3: sov\",\"4: hov 2\",\"5: hov 3+\"],\"yaxis\":\"y5\",\"type\":\"bar\"},{\"alignmentgroup\":\"True\",\"customdata\":[[1],[3],[2],[1]],\"hovertemplate\":\"source=survey\\u003cbr\\u003epptyp_label=other non-working adult\\u003cbr\\u003epercentage=%{x}\\u003cbr\\u003etmodetp_label=%{y}\\u003cbr\\u003esample count=%{customdata[0]}\\u003cextra\\u003e\\u003c\\u002fextra\\u003e\",\"legendgroup\":\"survey\",\"marker\":{\"color\":\"#8CC63E\",\"pattern\":{\"shape\":\"\"}},\"name\":\"survey\",\"offsetgroup\":\"survey\",\"orientation\":\"h\",\"showlegend\":false,\"textposition\":\"auto\",\"x\":[0.0509344934704013,0.24131868099362314,0.20010532745892723,0.5076414980770483],\"xaxis\":\"x6\",\"y\":[\"2: bike\",\"3: sov\",\"5: hov 3+\",\"6: walk to transit\"],\"yaxis\":\"y6\",\"type\":\"bar\"},{\"alignmentgroup\":\"True\",\"customdata\":[[11],[10],[1],[19],[1]],\"hovertemplate\":\"source=survey\\u003cbr\\u003epptyp_label=university student\\u003cbr\\u003epercentage=%{x}\\u003cbr\\u003etmodetp_label=%{y}\\u003cbr\\u003esample count=%{customdata[0]}\\u003cextra\\u003e\\u003c\\u002fextra\\u003e\",\"legendgroup\":\"survey\",\"marker\":{\"color\":\"#8CC63E\",\"pattern\":{\"shape\":\"\"}},\"name\":\"survey\",\"offsetgroup\":\"survey\",\"orientation\":\"h\",\"showlegend\":false,\"textposition\":\"auto\",\"x\":[0.22745381521949196,0.3897295523363974,0.04238330101185007,0.33792329129202936,0.002510040140231319],\"xaxis\":\"x3\",\"y\":[\"1: walk\",\"3: sov\",\"4: hov 2\",\"6: walk to transit\",\"8: school bus\"],\"yaxis\":\"y3\",\"type\":\"bar\"},{\"alignmentgroup\":\"True\",\"customdata\":[[4],[3],[22],[8],[13],[11],[11]],\"hovertemplate\":\"source=survey\\u003cbr\\u003epptyp_label=grade school student\\u002fchild age 16+\\u003cbr\\u003epercentage=%{x}\\u003cbr\\u003etmodetp_label=%{y}\\u003cbr\\u003esample count=%{customdata[0]}\\u003cextra\\u003e\\u003c\\u002fextra\\u003e\",\"legendgroup\":\"survey\",\"marker\":{\"color\":\"#8CC63E\",\"pattern\":{\"shape\":\"\"}},\"name\":\"survey\",\"offsetgroup\":\"survey\",\"orientation\":\"h\",\"showlegend\":false,\"textposition\":\"auto\",\"x\":[0.04904706652613657,0.025029391952436104,0.2892969763879522,0.22612598847876664,0.21779203947271814,0.07904462489946525,0.11366391228252502],\"xaxis\":\"x4\",\"y\":[\"1: walk\",\"2: bike\",\"3: sov\",\"4: hov 2\",\"5: hov 3+\",\"6: walk to transit\",\"8: school bus\"],\"yaxis\":\"y4\",\"type\":\"bar\"},{\"alignmentgroup\":\"True\",\"customdata\":[[39],[14],[4],[53],[136],[14],[137]],\"hovertemplate\":\"source=survey\\u003cbr\\u003epptyp_label=child age 5-15\\u003cbr\\u003epercentage=%{x}\\u003cbr\\u003etmodetp_label=%{y}\\u003cbr\\u003esample count=%{customdata[0]}\\u003cextra\\u003e\\u003c\\u002fextra\\u003e\",\"legendgroup\":\"survey\",\"marker\":{\"color\":\"#8CC63E\",\"pattern\":{\"shape\":\"\"}},\"name\":\"survey\",\"offsetgroup\":\"survey\",\"orientation\":\"h\",\"showlegend\":false,\"textposition\":\"auto\",\"x\":[0.06235831716315482,0.014382165873836433,0.015691354171256458,0.12348090932754467,0.3919106729036342,0.004593327804406883,0.3875832527561665],\"xaxis\":\"x\",\"y\":[\"1: walk\",\"2: bike\",\"3: sov\",\"4: hov 2\",\"5: hov 3+\",\"6: walk to transit\",\"8: school bus\"],\"yaxis\":\"y\",\"type\":\"bar\"},{\"alignmentgroup\":\"True\",\"customdata\":[[8],[5],[30],[38],[2]],\"hovertemplate\":\"source=survey\\u003cbr\\u003epptyp_label=child age 0-4\\u003cbr\\u003epercentage=%{x}\\u003cbr\\u003etmodetp_label=%{y}\\u003cbr\\u003esample count=%{customdata[0]}\\u003cextra\\u003e\\u003c\\u002fextra\\u003e\",\"legendgroup\":\"survey\",\"marker\":{\"color\":\"#8CC63E\",\"pattern\":{\"shape\":\"\"}},\"name\":\"survey\",\"offsetgroup\":\"survey\",\"orientation\":\"h\",\"showlegend\":false,\"textposition\":\"auto\",\"x\":[0.12367362341375279,0.007252677762808268,0.17526534316462367,0.5681541811296064,0.12565417452920896],\"xaxis\":\"x2\",\"y\":[\"1: walk\",\"2: bike\",\"4: hov 2\",\"5: hov 3+\",\"8: school bus\"],\"yaxis\":\"y2\",\"type\":\"bar\"},{\"alignmentgroup\":\"True\",\"customdata\":[[2],[2],[12],[2],[1],[5],[1],[1]],\"hovertemplate\":\"source=survey (2017\\u002f2019)\\u003cbr\\u003epptyp_label=full time worker\\u003cbr\\u003epercentage=%{x}\\u003cbr\\u003etmodetp_label=%{y}\\u003cbr\\u003esample count=%{customdata[0]}\\u003cextra\\u003e\\u003c\\u002fextra\\u003e\",\"legendgroup\":\"survey (2017\\u002f2019)\",\"marker\":{\"color\":\"#00A7A0\",\"pattern\":{\"shape\":\"\"}},\"name\":\"survey (2017\\u002f2019)\",\"offsetgroup\":\"survey (2017\\u002f2019)\",\"orientation\":\"h\",\"showlegend\":true,\"textposition\":\"auto\",\"x\":[0.00563768722743075,0.00689818462136414,0.13090831329708547,0.003544217004029821,0.0025420095308956977,0.02077367437439125,0.820602049196452,0.009093864748350902],\"xaxis\":\"x7\",\"y\":[\"1: walk\",\"2: bike\",\"3: sov\",\"4: hov 2\",\"5: hov 3+\",\"6: walk to transit\",\"7: park-and-ride\",\"9: tnc\"],\"yaxis\":\"y7\",\"type\":\"bar\"},{\"alignmentgroup\":\"True\",\"customdata\":[[7],[2],[28],[11],[3],[42],[1],[4]],\"hovertemplate\":\"source=survey (2017\\u002f2019)\\u003cbr\\u003epptyp_label=part time worker\\u003cbr\\u003epercentage=%{x}\\u003cbr\\u003etmodetp_label=%{y}\\u003cbr\\u003esample count=%{customdata[0]}\\u003cextra\\u003e\\u003c\\u002fextra\\u003e\",\"legendgroup\":\"survey (2017\\u002f2019)\",\"marker\":{\"color\":\"#00A7A0\",\"pattern\":{\"shape\":\"\"}},\"name\":\"survey (2017\\u002f2019)\",\"offsetgroup\":\"survey (2017\\u002f2019)\",\"orientation\":\"h\",\"showlegend\":false,\"textposition\":\"auto\",\"x\":[0.011397366074117746,0.0009162203870792232,0.37974216935121263,0.31155524736802237,0.004734507129392391,0.2698777840902176,0.00043277846087212793,0.021343927139086016],\"xaxis\":\"x8\",\"y\":[\"1: walk\",\"2: bike\",\"3: sov\",\"4: hov 2\",\"5: hov 3+\",\"6: walk to transit\",\"7: park-and-ride\",\"9: tnc\"],\"yaxis\":\"y8\",\"type\":\"bar\"},{\"alignmentgroup\":\"True\",\"customdata\":[[2],[7]],\"hovertemplate\":\"source=survey (2017\\u002f2019)\\u003cbr\\u003epptyp_label=non-worker age 65+\\u003cbr\\u003epercentage=%{x}\\u003cbr\\u003etmodetp_label=%{y}\\u003cbr\\u003esample count=%{customdata[0]}\\u003cextra\\u003e\\u003c\\u002fextra\\u003e\",\"legendgroup\":\"survey (2017\\u002f2019)\",\"marker\":{\"color\":\"#00A7A0\",\"pattern\":{\"shape\":\"\"}},\"name\":\"survey (2017\\u002f2019)\",\"offsetgroup\":\"survey (2017\\u002f2019)\",\"orientation\":\"h\",\"showlegend\":false,\"textposition\":\"auto\",\"x\":[0.16969972662233862,0.8303002733776613],\"xaxis\":\"x5\",\"y\":[\"3: sov\",\"6: walk to transit\"],\"yaxis\":\"y5\",\"type\":\"bar\"},{\"alignmentgroup\":\"True\",\"customdata\":[[23],[12],[16],[9],[5],[65],[1]],\"hovertemplate\":\"source=survey (2017\\u002f2019)\\u003cbr\\u003epptyp_label=other non-working adult\\u003cbr\\u003epercentage=%{x}\\u003cbr\\u003etmodetp_label=%{y}\\u003cbr\\u003esample count=%{customdata[0]}\\u003cextra\\u003e\\u003c\\u002fextra\\u003e\",\"legendgroup\":\"survey (2017\\u002f2019)\",\"marker\":{\"color\":\"#00A7A0\",\"pattern\":{\"shape\":\"\"}},\"name\":\"survey (2017\\u002f2019)\",\"offsetgroup\":\"survey (2017\\u002f2019)\",\"orientation\":\"h\",\"showlegend\":false,\"textposition\":\"auto\",\"x\":[0.049543699586692885,0.02315432451458612,0.43593238392066896,0.025783636725669835,0.01201955492273211,0.4514833938934672,0.002083006436182946],\"xaxis\":\"x6\",\"y\":[\"1: walk\",\"2: bike\",\"3: sov\",\"4: hov 2\",\"5: hov 3+\",\"6: walk to transit\",\"9: tnc\"],\"yaxis\":\"y6\",\"type\":\"bar\"},{\"alignmentgroup\":\"True\",\"customdata\":[[9],[1],[21],[24],[20],[20],[17],[1]],\"hovertemplate\":\"source=survey (2017\\u002f2019)\\u003cbr\\u003epptyp_label=grade school student\\u002fchild age 16+\\u003cbr\\u003epercentage=%{x}\\u003cbr\\u003etmodetp_label=%{y}\\u003cbr\\u003esample count=%{customdata[0]}\\u003cextra\\u003e\\u003c\\u002fextra\\u003e\",\"legendgroup\":\"survey (2017\\u002f2019)\",\"marker\":{\"color\":\"#00A7A0\",\"pattern\":{\"shape\":\"\"}},\"name\":\"survey (2017\\u002f2019)\",\"offsetgroup\":\"survey (2017\\u002f2019)\",\"orientation\":\"h\",\"showlegend\":false,\"textposition\":\"auto\",\"x\":[0.016416409977852126,0.0025283376121530126,0.17649170366360578,0.2908382983765309,0.35166278723283134,0.04266780126511947,0.10880374676241159,0.010590915109495733],\"xaxis\":\"x4\",\"y\":[\"1: walk\",\"2: bike\",\"3: sov\",\"4: hov 2\",\"5: hov 3+\",\"6: walk to transit\",\"8: school bus\",\"9: tnc\"],\"yaxis\":\"y4\",\"type\":\"bar\"},{\"alignmentgroup\":\"True\",\"customdata\":[[54],[12],[1],[94],[193],[47],[172],[1]],\"hovertemplate\":\"source=survey (2017\\u002f2019)\\u003cbr\\u003epptyp_label=child age 5-15\\u003cbr\\u003epercentage=%{x}\\u003cbr\\u003etmodetp_label=%{y}\\u003cbr\\u003esample count=%{customdata[0]}\\u003cextra\\u003e\\u003c\\u002fextra\\u003e\",\"legendgroup\":\"survey (2017\\u002f2019)\",\"marker\":{\"color\":\"#00A7A0\",\"pattern\":{\"shape\":\"\"}},\"name\":\"survey (2017\\u002f2019)\",\"offsetgroup\":\"survey (2017\\u002f2019)\",\"orientation\":\"h\",\"showlegend\":false,\"textposition\":\"auto\",\"x\":[0.09615478773786516,0.005824167165141712,0.0005198772830998646,0.08767576806333158,0.44271332862770063,0.05988169046044898,0.3072240634927352,6.317169676890627e-06],\"xaxis\":\"x\",\"y\":[\"1: walk\",\"2: bike\",\"3: sov\",\"4: hov 2\",\"5: hov 3+\",\"6: walk to transit\",\"8: school bus\",\"9: tnc\"],\"yaxis\":\"y\",\"type\":\"bar\"},{\"alignmentgroup\":\"True\",\"customdata\":[[14],[2],[58],[88],[8],[1]],\"hovertemplate\":\"source=survey (2017\\u002f2019)\\u003cbr\\u003epptyp_label=child age 0-4\\u003cbr\\u003epercentage=%{x}\\u003cbr\\u003etmodetp_label=%{y}\\u003cbr\\u003esample count=%{customdata[0]}\\u003cextra\\u003e\\u003c\\u002fextra\\u003e\",\"legendgroup\":\"survey (2017\\u002f2019)\",\"marker\":{\"color\":\"#00A7A0\",\"pattern\":{\"shape\":\"\"}},\"name\":\"survey (2017\\u002f2019)\",\"offsetgroup\":\"survey (2017\\u002f2019)\",\"orientation\":\"h\",\"showlegend\":false,\"textposition\":\"auto\",\"x\":[0.08230899400639519,0.0010996684169632671,0.4232386682875826,0.4783212509780013,0.013704383978974456,0.0013270343320830938],\"xaxis\":\"x2\",\"y\":[\"1: walk\",\"2: bike\",\"4: hov 2\",\"5: hov 3+\",\"6: walk to transit\",\"8: school bus\"],\"yaxis\":\"y2\",\"type\":\"bar\"}],                        {\"template\":{\"data\":{\"barpolar\":[{\"marker\":{\"line\":{\"color\":\"white\",\"width\":0.5},\"pattern\":{\"fillmode\":\"overlay\",\"size\":10,\"solidity\":0.2}},\"type\":\"barpolar\"}],\"bar\":[{\"error_x\":{\"color\":\"rgb(36,36,36)\"},\"error_y\":{\"color\":\"rgb(36,36,36)\"},\"marker\":{\"line\":{\"color\":\"white\",\"width\":0.5},\"pattern\":{\"fillmode\":\"overlay\",\"size\":10,\"solidity\":0.2}},\"type\":\"bar\"}],\"carpet\":[{\"aaxis\":{\"endlinecolor\":\"rgb(36,36,36)\",\"gridcolor\":\"white\",\"linecolor\":\"white\",\"minorgridcolor\":\"white\",\"startlinecolor\":\"rgb(36,36,36)\"},\"baxis\":{\"endlinecolor\":\"rgb(36,36,36)\",\"gridcolor\":\"white\",\"linecolor\":\"white\",\"minorgridcolor\":\"white\",\"startlinecolor\":\"rgb(36,36,36)\"},\"type\":\"carpet\"}],\"choropleth\":[{\"colorbar\":{\"outlinewidth\":1,\"tickcolor\":\"rgb(36,36,36)\",\"ticks\":\"outside\"},\"type\":\"choropleth\"}],\"contourcarpet\":[{\"colorbar\":{\"outlinewidth\":1,\"tickcolor\":\"rgb(36,36,36)\",\"ticks\":\"outside\"},\"type\":\"contourcarpet\"}],\"contour\":[{\"colorbar\":{\"outlinewidth\":1,\"tickcolor\":\"rgb(36,36,36)\",\"ticks\":\"outside\"},\"colorscale\":[[0.0,\"#440154\"],[0.1111111111111111,\"#482878\"],[0.2222222222222222,\"#3e4989\"],[0.3333333333333333,\"#31688e\"],[0.4444444444444444,\"#26828e\"],[0.5555555555555556,\"#1f9e89\"],[0.6666666666666666,\"#35b779\"],[0.7777777777777778,\"#6ece58\"],[0.8888888888888888,\"#b5de2b\"],[1.0,\"#fde725\"]],\"type\":\"contour\"}],\"heatmapgl\":[{\"colorbar\":{\"outlinewidth\":1,\"tickcolor\":\"rgb(36,36,36)\",\"ticks\":\"outside\"},\"colorscale\":[[0.0,\"#440154\"],[0.1111111111111111,\"#482878\"],[0.2222222222222222,\"#3e4989\"],[0.3333333333333333,\"#31688e\"],[0.4444444444444444,\"#26828e\"],[0.5555555555555556,\"#1f9e89\"],[0.6666666666666666,\"#35b779\"],[0.7777777777777778,\"#6ece58\"],[0.8888888888888888,\"#b5de2b\"],[1.0,\"#fde725\"]],\"type\":\"heatmapgl\"}],\"heatmap\":[{\"colorbar\":{\"outlinewidth\":1,\"tickcolor\":\"rgb(36,36,36)\",\"ticks\":\"outside\"},\"colorscale\":[[0.0,\"#440154\"],[0.1111111111111111,\"#482878\"],[0.2222222222222222,\"#3e4989\"],[0.3333333333333333,\"#31688e\"],[0.4444444444444444,\"#26828e\"],[0.5555555555555556,\"#1f9e89\"],[0.6666666666666666,\"#35b779\"],[0.7777777777777778,\"#6ece58\"],[0.8888888888888888,\"#b5de2b\"],[1.0,\"#fde725\"]],\"type\":\"heatmap\"}],\"histogram2dcontour\":[{\"colorbar\":{\"outlinewidth\":1,\"tickcolor\":\"rgb(36,36,36)\",\"ticks\":\"outside\"},\"colorscale\":[[0.0,\"#440154\"],[0.1111111111111111,\"#482878\"],[0.2222222222222222,\"#3e4989\"],[0.3333333333333333,\"#31688e\"],[0.4444444444444444,\"#26828e\"],[0.5555555555555556,\"#1f9e89\"],[0.6666666666666666,\"#35b779\"],[0.7777777777777778,\"#6ece58\"],[0.8888888888888888,\"#b5de2b\"],[1.0,\"#fde725\"]],\"type\":\"histogram2dcontour\"}],\"histogram2d\":[{\"colorbar\":{\"outlinewidth\":1,\"tickcolor\":\"rgb(36,36,36)\",\"ticks\":\"outside\"},\"colorscale\":[[0.0,\"#440154\"],[0.1111111111111111,\"#482878\"],[0.2222222222222222,\"#3e4989\"],[0.3333333333333333,\"#31688e\"],[0.4444444444444444,\"#26828e\"],[0.5555555555555556,\"#1f9e89\"],[0.6666666666666666,\"#35b779\"],[0.7777777777777778,\"#6ece58\"],[0.8888888888888888,\"#b5de2b\"],[1.0,\"#fde725\"]],\"type\":\"histogram2d\"}],\"histogram\":[{\"marker\":{\"line\":{\"color\":\"white\",\"width\":0.6}},\"type\":\"histogram\"}],\"mesh3d\":[{\"colorbar\":{\"outlinewidth\":1,\"tickcolor\":\"rgb(36,36,36)\",\"ticks\":\"outside\"},\"type\":\"mesh3d\"}],\"parcoords\":[{\"line\":{\"colorbar\":{\"outlinewidth\":1,\"tickcolor\":\"rgb(36,36,36)\",\"ticks\":\"outside\"}},\"type\":\"parcoords\"}],\"pie\":[{\"automargin\":true,\"type\":\"pie\"}],\"scatter3d\":[{\"line\":{\"colorbar\":{\"outlinewidth\":1,\"tickcolor\":\"rgb(36,36,36)\",\"ticks\":\"outside\"}},\"marker\":{\"colorbar\":{\"outlinewidth\":1,\"tickcolor\":\"rgb(36,36,36)\",\"ticks\":\"outside\"}},\"type\":\"scatter3d\"}],\"scattercarpet\":[{\"marker\":{\"colorbar\":{\"outlinewidth\":1,\"tickcolor\":\"rgb(36,36,36)\",\"ticks\":\"outside\"}},\"type\":\"scattercarpet\"}],\"scattergeo\":[{\"marker\":{\"colorbar\":{\"outlinewidth\":1,\"tickcolor\":\"rgb(36,36,36)\",\"ticks\":\"outside\"}},\"type\":\"scattergeo\"}],\"scattergl\":[{\"marker\":{\"colorbar\":{\"outlinewidth\":1,\"tickcolor\":\"rgb(36,36,36)\",\"ticks\":\"outside\"}},\"type\":\"scattergl\"}],\"scattermapbox\":[{\"marker\":{\"colorbar\":{\"outlinewidth\":1,\"tickcolor\":\"rgb(36,36,36)\",\"ticks\":\"outside\"}},\"type\":\"scattermapbox\"}],\"scatterpolargl\":[{\"marker\":{\"colorbar\":{\"outlinewidth\":1,\"tickcolor\":\"rgb(36,36,36)\",\"ticks\":\"outside\"}},\"type\":\"scatterpolargl\"}],\"scatterpolar\":[{\"marker\":{\"colorbar\":{\"outlinewidth\":1,\"tickcolor\":\"rgb(36,36,36)\",\"ticks\":\"outside\"}},\"type\":\"scatterpolar\"}],\"scatter\":[{\"fillpattern\":{\"fillmode\":\"overlay\",\"size\":10,\"solidity\":0.2},\"type\":\"scatter\"}],\"scatterternary\":[{\"marker\":{\"colorbar\":{\"outlinewidth\":1,\"tickcolor\":\"rgb(36,36,36)\",\"ticks\":\"outside\"}},\"type\":\"scatterternary\"}],\"surface\":[{\"colorbar\":{\"outlinewidth\":1,\"tickcolor\":\"rgb(36,36,36)\",\"ticks\":\"outside\"},\"colorscale\":[[0.0,\"#440154\"],[0.1111111111111111,\"#482878\"],[0.2222222222222222,\"#3e4989\"],[0.3333333333333333,\"#31688e\"],[0.4444444444444444,\"#26828e\"],[0.5555555555555556,\"#1f9e89\"],[0.6666666666666666,\"#35b779\"],[0.7777777777777778,\"#6ece58\"],[0.8888888888888888,\"#b5de2b\"],[1.0,\"#fde725\"]],\"type\":\"surface\"}],\"table\":[{\"cells\":{\"fill\":{\"color\":\"rgb(237,237,237)\"},\"line\":{\"color\":\"white\"}},\"header\":{\"fill\":{\"color\":\"rgb(217,217,217)\"},\"line\":{\"color\":\"white\"}},\"type\":\"table\"}]},\"layout\":{\"annotationdefaults\":{\"arrowhead\":0,\"arrowwidth\":1},\"autotypenumbers\":\"strict\",\"coloraxis\":{\"colorbar\":{\"outlinewidth\":1,\"tickcolor\":\"rgb(36,36,36)\",\"ticks\":\"outside\"}},\"colorscale\":{\"diverging\":[[0.0,\"rgb(103,0,31)\"],[0.1,\"rgb(178,24,43)\"],[0.2,\"rgb(214,96,77)\"],[0.3,\"rgb(244,165,130)\"],[0.4,\"rgb(253,219,199)\"],[0.5,\"rgb(247,247,247)\"],[0.6,\"rgb(209,229,240)\"],[0.7,\"rgb(146,197,222)\"],[0.8,\"rgb(67,147,195)\"],[0.9,\"rgb(33,102,172)\"],[1.0,\"rgb(5,48,97)\"]],\"sequential\":[[0.0,\"#440154\"],[0.1111111111111111,\"#482878\"],[0.2222222222222222,\"#3e4989\"],[0.3333333333333333,\"#31688e\"],[0.4444444444444444,\"#26828e\"],[0.5555555555555556,\"#1f9e89\"],[0.6666666666666666,\"#35b779\"],[0.7777777777777778,\"#6ece58\"],[0.8888888888888888,\"#b5de2b\"],[1.0,\"#fde725\"]],\"sequentialminus\":[[0.0,\"#440154\"],[0.1111111111111111,\"#482878\"],[0.2222222222222222,\"#3e4989\"],[0.3333333333333333,\"#31688e\"],[0.4444444444444444,\"#26828e\"],[0.5555555555555556,\"#1f9e89\"],[0.6666666666666666,\"#35b779\"],[0.7777777777777778,\"#6ece58\"],[0.8888888888888888,\"#b5de2b\"],[1.0,\"#fde725\"]]},\"colorway\":[\"#91268F\",\"#8CC63E\",\"#00A7A0\",\"#F05A28\",\"#4C4C4C\",\"#630460\",\"#9f3913\",\"#588527\",\"#00716c\",\"#3e4040\"],\"font\":{\"color\":\"rgb(36,36,36)\",\"family\":\"Poppins\",\"size\":11},\"geo\":{\"bgcolor\":\"white\",\"lakecolor\":\"white\",\"landcolor\":\"white\",\"showlakes\":true,\"showland\":true,\"subunitcolor\":\"white\"},\"hoverlabel\":{\"align\":\"left\"},\"hovermode\":\"closest\",\"mapbox\":{\"style\":\"light\"},\"paper_bgcolor\":\"white\",\"plot_bgcolor\":\"white\",\"polar\":{\"angularaxis\":{\"gridcolor\":\"rgb(232,232,232)\",\"linecolor\":\"rgb(36,36,36)\",\"showgrid\":false,\"showline\":true,\"ticks\":\"outside\"},\"bgcolor\":\"white\",\"radialaxis\":{\"gridcolor\":\"rgb(232,232,232)\",\"linecolor\":\"rgb(36,36,36)\",\"showgrid\":false,\"showline\":true,\"ticks\":\"outside\"}},\"scene\":{\"xaxis\":{\"backgroundcolor\":\"white\",\"gridcolor\":\"rgb(232,232,232)\",\"gridwidth\":2,\"linecolor\":\"rgb(36,36,36)\",\"showbackground\":true,\"showgrid\":false,\"showline\":true,\"ticks\":\"outside\",\"zeroline\":false,\"zerolinecolor\":\"rgb(36,36,36)\"},\"yaxis\":{\"backgroundcolor\":\"white\",\"gridcolor\":\"rgb(232,232,232)\",\"gridwidth\":2,\"linecolor\":\"rgb(36,36,36)\",\"showbackground\":true,\"showgrid\":false,\"showline\":true,\"ticks\":\"outside\",\"zeroline\":false,\"zerolinecolor\":\"rgb(36,36,36)\"},\"zaxis\":{\"backgroundcolor\":\"white\",\"gridcolor\":\"rgb(232,232,232)\",\"gridwidth\":2,\"linecolor\":\"rgb(36,36,36)\",\"showbackground\":true,\"showgrid\":false,\"showline\":true,\"ticks\":\"outside\",\"zeroline\":false,\"zerolinecolor\":\"rgb(36,36,36)\"}},\"shapedefaults\":{\"fillcolor\":\"black\",\"line\":{\"width\":0},\"opacity\":0.3},\"ternary\":{\"aaxis\":{\"gridcolor\":\"rgb(232,232,232)\",\"linecolor\":\"rgb(36,36,36)\",\"showgrid\":false,\"showline\":true,\"ticks\":\"outside\"},\"baxis\":{\"gridcolor\":\"rgb(232,232,232)\",\"linecolor\":\"rgb(36,36,36)\",\"showgrid\":false,\"showline\":true,\"ticks\":\"outside\"},\"bgcolor\":\"white\",\"caxis\":{\"gridcolor\":\"rgb(232,232,232)\",\"linecolor\":\"rgb(36,36,36)\",\"showgrid\":false,\"showline\":true,\"ticks\":\"outside\"}},\"title\":{\"x\":0.05},\"xaxis\":{\"automargin\":true,\"gridcolor\":\"rgb(232,232,232)\",\"linecolor\":\"rgb(36,36,36)\",\"showgrid\":false,\"showline\":true,\"ticks\":\"outside\",\"title\":{\"standoff\":15},\"zeroline\":false,\"zerolinecolor\":\"rgb(36,36,36)\"},\"yaxis\":{\"automargin\":true,\"gridcolor\":\"rgb(232,232,232)\",\"linecolor\":\"rgb(36,36,36)\",\"showgrid\":false,\"showline\":true,\"ticks\":\"outside\",\"title\":{\"standoff\":15},\"zeroline\":false,\"zerolinecolor\":\"rgb(36,36,36)\"}}},\"xaxis\":{\"anchor\":\"y\",\"domain\":[0.0,0.49],\"title\":{\"text\":\"percentage\"},\"tickformat\":\".1%\"},\"yaxis\":{\"anchor\":\"x\",\"domain\":[0.0,0.1975],\"title\":{\"text\":\"tmodetp_label\"},\"categoryorder\":\"array\",\"categoryarray\":[\"9: other\\u00e2\\u20ac\\u201csurvey only\",\"8: school bus\",\"7: park-and-ride\",\"6: walk to transit\",\"5: hov 3+\",\"4: hov 2\",\"3: sov\",\"2: bike\",\"1: walk\"]},\"xaxis2\":{\"anchor\":\"y2\",\"domain\":[0.51,1.0],\"matches\":\"x\",\"title\":{\"text\":\"percentage\"},\"tickformat\":\".1%\"},\"yaxis2\":{\"anchor\":\"x2\",\"domain\":[0.0,0.1975],\"matches\":\"y\",\"showticklabels\":false},\"xaxis3\":{\"anchor\":\"y3\",\"domain\":[0.0,0.49],\"matches\":\"x\",\"showticklabels\":false,\"tickformat\":\".1%\"},\"yaxis3\":{\"anchor\":\"x3\",\"domain\":[0.2675,0.465],\"matches\":\"y\",\"title\":{\"text\":\"tmodetp_label\"},\"categoryorder\":\"array\",\"categoryarray\":[\"9: other\\u00e2\\u20ac\\u201csurvey only\",\"8: school bus\",\"7: park-and-ride\",\"6: walk to transit\",\"5: hov 3+\",\"4: hov 2\",\"3: sov\",\"2: bike\",\"1: walk\"]},\"xaxis4\":{\"anchor\":\"y4\",\"domain\":[0.51,1.0],\"matches\":\"x\",\"showticklabels\":false,\"tickformat\":\".1%\"},\"yaxis4\":{\"anchor\":\"x4\",\"domain\":[0.2675,0.465],\"matches\":\"y\",\"showticklabels\":false},\"xaxis5\":{\"anchor\":\"y5\",\"domain\":[0.0,0.49],\"matches\":\"x\",\"showticklabels\":false,\"tickformat\":\".1%\"},\"yaxis5\":{\"anchor\":\"x5\",\"domain\":[0.535,0.7325],\"matches\":\"y\",\"title\":{\"text\":\"tmodetp_label\"},\"categoryorder\":\"array\",\"categoryarray\":[\"9: other\\u00e2\\u20ac\\u201csurvey only\",\"8: school bus\",\"7: park-and-ride\",\"6: walk to transit\",\"5: hov 3+\",\"4: hov 2\",\"3: sov\",\"2: bike\",\"1: walk\"]},\"xaxis6\":{\"anchor\":\"y6\",\"domain\":[0.51,1.0],\"matches\":\"x\",\"showticklabels\":false,\"tickformat\":\".1%\"},\"yaxis6\":{\"anchor\":\"x6\",\"domain\":[0.535,0.7325],\"matches\":\"y\",\"showticklabels\":false},\"xaxis7\":{\"anchor\":\"y7\",\"domain\":[0.0,0.49],\"matches\":\"x\",\"showticklabels\":false,\"tickformat\":\".1%\"},\"yaxis7\":{\"anchor\":\"x7\",\"domain\":[0.8025,1.0],\"matches\":\"y\",\"title\":{\"text\":\"tmodetp_label\"},\"categoryorder\":\"array\",\"categoryarray\":[\"9: other\\u00e2\\u20ac\\u201csurvey only\",\"8: school bus\",\"7: park-and-ride\",\"6: walk to transit\",\"5: hov 3+\",\"4: hov 2\",\"3: sov\",\"2: bike\",\"1: walk\"]},\"xaxis8\":{\"anchor\":\"y8\",\"domain\":[0.51,1.0],\"matches\":\"x\",\"showticklabels\":false,\"tickformat\":\".1%\"},\"yaxis8\":{\"anchor\":\"x8\",\"domain\":[0.8025,1.0],\"matches\":\"y\",\"showticklabels\":false},\"annotations\":[{\"font\":{},\"showarrow\":false,\"text\":\"child age 5-15\",\"x\":0.245,\"xanchor\":\"center\",\"xref\":\"paper\",\"y\":0.1975,\"yanchor\":\"bottom\",\"yref\":\"paper\"},{\"font\":{},\"showarrow\":false,\"text\":\"child age 0-4\",\"x\":0.755,\"xanchor\":\"center\",\"xref\":\"paper\",\"y\":0.1975,\"yanchor\":\"bottom\",\"yref\":\"paper\"},{\"font\":{},\"showarrow\":false,\"text\":\"university student\",\"x\":0.245,\"xanchor\":\"center\",\"xref\":\"paper\",\"y\":0.465,\"yanchor\":\"bottom\",\"yref\":\"paper\"},{\"font\":{},\"showarrow\":false,\"text\":\"grade school student\\u002fchild age 16+\",\"x\":0.755,\"xanchor\":\"center\",\"xref\":\"paper\",\"y\":0.465,\"yanchor\":\"bottom\",\"yref\":\"paper\"},{\"font\":{},\"showarrow\":false,\"text\":\"non-worker age 65+\",\"x\":0.245,\"xanchor\":\"center\",\"xref\":\"paper\",\"y\":0.7325,\"yanchor\":\"bottom\",\"yref\":\"paper\"},{\"font\":{},\"showarrow\":false,\"text\":\"other non-working adult\",\"x\":0.755,\"xanchor\":\"center\",\"xref\":\"paper\",\"y\":0.7325,\"yanchor\":\"bottom\",\"yref\":\"paper\"},{\"font\":{},\"showarrow\":false,\"text\":\"full time worker\",\"x\":0.245,\"xanchor\":\"center\",\"xref\":\"paper\",\"y\":1.0,\"yanchor\":\"bottom\",\"yref\":\"paper\"},{\"font\":{},\"showarrow\":false,\"text\":\"part time worker\",\"x\":0.755,\"xanchor\":\"center\",\"xref\":\"paper\",\"y\":1.0,\"yanchor\":\"bottom\",\"yref\":\"paper\"}],\"legend\":{\"title\":{\"text\":\"source\"},\"tracegroupgap\":0},\"title\":{\"text\":\"school tour mode choice by person type\"},\"barmode\":\"group\",\"height\":1000,\"width\":800},                        {\"responsive\": true}                    ).then(function(){\n",
       "                            \n",
       "var gd = document.getElementById('80e841aa-7507-4dd4-a500-f46d48e121db');\n",
       "var x = new MutationObserver(function (mutations, observer) {{\n",
       "        var display = window.getComputedStyle(gd).display;\n",
       "        if (!display || display === 'none') {{\n",
       "            console.log([gd, 'removed!']);\n",
       "            Plotly.purge(gd);\n",
       "            observer.disconnect();\n",
       "        }}\n",
       "}});\n",
       "\n",
       "// Listen for the removal of the full notebook cells\n",
       "var notebookContainer = gd.closest('#notebook-container');\n",
       "if (notebookContainer) {{\n",
       "    x.observe(notebookContainer, {childList: true});\n",
       "}}\n",
       "\n",
       "// Listen for the clearing of the current output cell\n",
       "var outputEl = gd.closest('.output');\n",
       "if (outputEl) {{\n",
       "    x.observe(outputEl, {childList: true});\n",
       "}}\n",
       "\n",
       "                        })                };                });            </script>        </div>"
      ]
     },
     "metadata": {},
     "output_type": "display_data"
    }
   ],
   "source": [
    "plot_mode_choice(sc_tour,\"pptyp_label\",\n",
    "                 {\"pptyp_label\":[\"full time worker\",\"part time worker\",\"non-worker age 65+\",\"other non-working adult\",\n",
    "                                 \"university student\",\"grade school student/child age 16+\",\"child age 5-15\",\"child age 0-4\"],\n",
    "                  \"tmodetp_label\":[\"1: walk\",\"2: bike\",\"3: sov\",\"4: hov 2\",\"5: hov 3+\",\"6: walk to transit\",\n",
    "                                   \"7: park-and-ride\",\"8: school bus\",\"9: other–survey only\"]},\n",
    "                 \"person type\",2,1000)"
   ]
  },
  {
   "cell_type": "raw",
   "metadata": {},
   "source": [
    "### household size"
   ]
  },
  {
   "cell_type": "code",
   "execution_count": 9,
   "metadata": {
    "execution": {
     "iopub.execute_input": "2024-08-30T21:32:12.538947Z",
     "iopub.status.busy": "2024-08-30T21:32:12.538947Z",
     "iopub.status.idle": "2024-08-30T21:32:13.305566Z",
     "shell.execute_reply": "2024-08-30T21:32:13.305566Z"
    }
   },
   "outputs": [
    {
     "data": {
      "application/vnd.plotly.v1+json": {
       "config": {
        "plotlyServerURL": "https://plot.ly"
       },
       "data": [
        {
         "alignmentgroup": "True",
         "customdata": [
          [
           308
          ],
          [
           149
          ],
          [
           1262
          ],
          [
           5
          ],
          [
           34
          ],
          [
           1263
          ],
          [
           16
          ]
         ],
         "hovertemplate": "source=model<br>hhsize_4+=1<br>percentage=%{x}<br>tmodetp_label=%{y}<br>sample count=%{customdata[0]}<extra></extra>",
         "legendgroup": "model",
         "marker": {
          "color": "#91268F",
          "pattern": {
           "shape": ""
          }
         },
         "name": "model",
         "offsetgroup": "model",
         "orientation": "h",
         "showlegend": true,
         "textposition": "auto",
         "type": "bar",
         "x": [
          0.10141587092525518,
          0.04906157392163319,
          0.41554165294698714,
          0.0016463615409944023,
          0.011195258478761936,
          0.41587092525518604,
          0.005268356931182087
         ],
         "xaxis": "x3",
         "y": [
          "1: walk",
          "2: bike",
          "3: sov",
          "4: hov 2",
          "5: hov 3+",
          "6: walk to transit",
          "8: school bus"
         ],
         "yaxis": "y3"
        },
        {
         "alignmentgroup": "True",
         "customdata": [
          [
           2365
          ],
          [
           740
          ],
          [
           7199
          ],
          [
           4564
          ],
          [
           1932
          ],
          [
           3376
          ],
          [
           6935
          ]
         ],
         "hovertemplate": "source=model<br>hhsize_4+=2<br>percentage=%{x}<br>tmodetp_label=%{y}<br>sample count=%{customdata[0]}<extra></extra>",
         "legendgroup": "model",
         "marker": {
          "color": "#91268F",
          "pattern": {
           "shape": ""
          }
         },
         "name": "model",
         "offsetgroup": "model",
         "orientation": "h",
         "showlegend": false,
         "textposition": "auto",
         "type": "bar",
         "x": [
          0.08723396407362326,
          0.02729519383276161,
          0.2655379735162849,
          0.16834495223341078,
          0.07126258714175059,
          0.12452510051270702,
          0.25580022868946184
         ],
         "xaxis": "x4",
         "y": [
          "1: walk",
          "2: bike",
          "3: sov",
          "4: hov 2",
          "5: hov 3+",
          "6: walk to transit",
          "8: school bus"
         ],
         "yaxis": "y4"
        },
        {
         "alignmentgroup": "True",
         "customdata": [
          [
           6331
          ],
          [
           1330
          ],
          [
           12401
          ],
          [
           12152
          ],
          [
           37058
          ],
          [
           4578
          ],
          [
           28921
          ],
          [
           2
          ]
         ],
         "hovertemplate": "source=model<br>hhsize_4+=3<br>percentage=%{x}<br>tmodetp_label=%{y}<br>sample count=%{customdata[0]}<extra></extra>",
         "legendgroup": "model",
         "marker": {
          "color": "#91268F",
          "pattern": {
           "shape": ""
          }
         },
         "name": "model",
         "offsetgroup": "model",
         "orientation": "h",
         "showlegend": false,
         "textposition": "auto",
         "type": "bar",
         "x": [
          0.06160178256935187,
          0.012941142128769229,
          0.12066398762320843,
          0.1182411722923336,
          0.3605810864721279,
          0.044544773432710925,
          0.28140659511739463,
          1.9460364103412375e-05
         ],
         "xaxis": "x",
         "y": [
          "1: walk",
          "2: bike",
          "3: sov",
          "4: hov 2",
          "5: hov 3+",
          "6: walk to transit",
          "8: school bus",
          "9: tnc"
         ],
         "yaxis": "y"
        },
        {
         "alignmentgroup": "True",
         "customdata": [
          [
           28685
          ],
          [
           4853
          ],
          [
           30006
          ],
          [
           59887
          ],
          [
           155615
          ],
          [
           11696
          ],
          [
           151340
          ],
          [
           6
          ]
         ],
         "hovertemplate": "source=model<br>hhsize_4+=4+<br>percentage=%{x}<br>tmodetp_label=%{y}<br>sample count=%{customdata[0]}<extra></extra>",
         "legendgroup": "model",
         "marker": {
          "color": "#91268F",
          "pattern": {
           "shape": ""
          }
         },
         "name": "model",
         "offsetgroup": "model",
         "orientation": "h",
         "showlegend": false,
         "textposition": "auto",
         "type": "bar",
         "x": [
          0.06488527171060965,
          0.010977452452905304,
          0.06787336457899784,
          0.13546398002207705,
          0.3520000542878341,
          0.026456271149635367,
          0.34233003383941657,
          1.357195852409475e-05
         ],
         "xaxis": "x2",
         "y": [
          "1: walk",
          "2: bike",
          "3: sov",
          "4: hov 2",
          "5: hov 3+",
          "6: walk to transit",
          "8: school bus",
          "9: tnc"
         ],
         "yaxis": "y2"
        },
        {
         "alignmentgroup": "True",
         "customdata": [
          [
           7
          ],
          [
           1
          ],
          [
           3
          ],
          [
           9
          ],
          [
           1
          ]
         ],
         "hovertemplate": "source=survey<br>hhsize_4+=1<br>percentage=%{x}<br>tmodetp_label=%{y}<br>sample count=%{customdata[0]}<extra></extra>",
         "legendgroup": "survey",
         "marker": {
          "color": "#8CC63E",
          "pattern": {
           "shape": ""
          }
         },
         "name": "survey",
         "offsetgroup": "survey",
         "orientation": "h",
         "showlegend": true,
         "textposition": "auto",
         "type": "bar",
         "x": [
          0.3317340856259701,
          0.011970272734258427,
          0.044822694673352155,
          0.6021422205031027,
          0.009330726463316655
         ],
         "xaxis": "x3",
         "y": [
          "1: walk",
          "2: bike",
          "3: sov",
          "6: walk to transit",
          "8: school bus"
         ],
         "yaxis": "y3"
        },
        {
         "alignmentgroup": "True",
         "customdata": [
          [
           4
          ],
          [
           2
          ],
          [
           8
          ],
          [
           6
          ],
          [
           2
          ],
          [
           6
          ],
          [
           5
          ]
         ],
         "hovertemplate": "source=survey<br>hhsize_4+=2<br>percentage=%{x}<br>tmodetp_label=%{y}<br>sample count=%{customdata[0]}<extra></extra>",
         "legendgroup": "survey",
         "marker": {
          "color": "#8CC63E",
          "pattern": {
           "shape": ""
          }
         },
         "name": "survey",
         "offsetgroup": "survey",
         "orientation": "h",
         "showlegend": false,
         "textposition": "auto",
         "type": "bar",
         "x": [
          0.02839454920031056,
          0.004995394331086267,
          0.07174924912891861,
          0.24609676726666324,
          0.021361785719896807,
          0.5546510284487509,
          0.07275122590437354
         ],
         "xaxis": "x4",
         "y": [
          "1: walk",
          "2: bike",
          "3: sov",
          "4: hov 2",
          "5: hov 3+",
          "6: walk to transit",
          "8: school bus"
         ],
         "yaxis": "y4"
        },
        {
         "alignmentgroup": "True",
         "customdata": [
          [
           17
          ],
          [
           10
          ],
          [
           10
          ],
          [
           40
          ],
          [
           34
          ],
          [
           13
          ],
          [
           29
          ]
         ],
         "hovertemplate": "source=survey<br>hhsize_4+=3<br>percentage=%{x}<br>tmodetp_label=%{y}<br>sample count=%{customdata[0]}<extra></extra>",
         "legendgroup": "survey",
         "marker": {
          "color": "#8CC63E",
          "pattern": {
           "shape": ""
          }
         },
         "name": "survey",
         "offsetgroup": "survey",
         "orientation": "h",
         "showlegend": false,
         "textposition": "auto",
         "type": "bar",
         "x": [
          0.03555639229447732,
          0.0419783339501239,
          0.11174792175743511,
          0.43572929431439444,
          0.16296671490659512,
          0.05806245098931917,
          0.1539588917876551
         ],
         "xaxis": "x",
         "y": [
          "1: walk",
          "2: bike",
          "3: sov",
          "4: hov 2",
          "5: hov 3+",
          "6: walk to transit",
          "8: school bus"
         ],
         "yaxis": "y"
        },
        {
         "alignmentgroup": "True",
         "customdata": [
          [
           34
          ],
          [
           11
          ],
          [
           21
          ],
          [
           48
          ],
          [
           157
          ],
          [
           18
          ],
          [
           116
          ]
         ],
         "hovertemplate": "source=survey<br>hhsize_4+=4+<br>percentage=%{x}<br>tmodetp_label=%{y}<br>sample count=%{customdata[0]}<extra></extra>",
         "legendgroup": "survey",
         "marker": {
          "color": "#8CC63E",
          "pattern": {
           "shape": ""
          }
         },
         "name": "survey",
         "offsetgroup": "survey",
         "orientation": "h",
         "showlegend": false,
         "textposition": "auto",
         "type": "bar",
         "x": [
          0.07235322826670401,
          0.013171954167539553,
          0.0927976177169821,
          0.1190020541810188,
          0.37561758984181287,
          0.021467607209061768,
          0.3055899486168808
         ],
         "xaxis": "x2",
         "y": [
          "1: walk",
          "2: bike",
          "3: sov",
          "4: hov 2",
          "5: hov 3+",
          "6: walk to transit",
          "8: school bus"
         ],
         "yaxis": "y2"
        },
        {
         "alignmentgroup": "True",
         "customdata": [
          [
           18
          ],
          [
           3
          ],
          [
           12
          ],
          [
           4
          ],
          [
           2
          ],
          [
           33
          ],
          [
           1
          ]
         ],
         "hovertemplate": "source=survey (2017/2019)<br>hhsize_4+=1<br>percentage=%{x}<br>tmodetp_label=%{y}<br>sample count=%{customdata[0]}<extra></extra>",
         "legendgroup": "survey (2017/2019)",
         "marker": {
          "color": "#00A7A0",
          "pattern": {
           "shape": ""
          }
         },
         "name": "survey (2017/2019)",
         "offsetgroup": "survey (2017/2019)",
         "orientation": "h",
         "showlegend": true,
         "textposition": "auto",
         "type": "bar",
         "x": [
          0.2626579824374741,
          0.010611620998791491,
          0.11126466056871238,
          0.0263043519921123,
          0.026695865247418363,
          0.5617553747026418,
          0.0007101440528494942
         ],
         "xaxis": "x3",
         "y": [
          "1: walk",
          "2: bike",
          "3: sov",
          "4: hov 2",
          "5: hov 3+",
          "6: walk to transit",
          "9: tnc"
         ],
         "yaxis": "y3"
        },
        {
         "alignmentgroup": "True",
         "customdata": [
          [
           15
          ],
          [
           5
          ],
          [
           33
          ],
          [
           33
          ],
          [
           5
          ],
          [
           62
          ],
          [
           1
          ],
          [
           8
          ],
          [
           2
          ]
         ],
         "hovertemplate": "source=survey (2017/2019)<br>hhsize_4+=2<br>percentage=%{x}<br>tmodetp_label=%{y}<br>sample count=%{customdata[0]}<extra></extra>",
         "legendgroup": "survey (2017/2019)",
         "marker": {
          "color": "#00A7A0",
          "pattern": {
           "shape": ""
          }
         },
         "name": "survey (2017/2019)",
         "offsetgroup": "survey (2017/2019)",
         "orientation": "h",
         "showlegend": false,
         "textposition": "auto",
         "type": "bar",
         "x": [
          0.03901128727761605,
          0.0043524538653354865,
          0.31516694704883275,
          0.3705239285996342,
          0.02094741001176323,
          0.18353809213457273,
          0.000535154382130044,
          0.06153974069428249,
          0.004384985985833202
         ],
         "xaxis": "x4",
         "y": [
          "1: walk",
          "2: bike",
          "3: sov",
          "4: hov 2",
          "5: hov 3+",
          "6: walk to transit",
          "7: park-and-ride",
          "8: school bus",
          "9: tnc"
         ],
         "yaxis": "y4"
        },
        {
         "alignmentgroup": "True",
         "customdata": [
          [
           24
          ],
          [
           7
          ],
          [
           13
          ],
          [
           86
          ],
          [
           40
          ],
          [
           48
          ],
          [
           43
          ],
          [
           3
          ]
         ],
         "hovertemplate": "source=survey (2017/2019)<br>hhsize_4+=3<br>percentage=%{x}<br>tmodetp_label=%{y}<br>sample count=%{customdata[0]}<extra></extra>",
         "legendgroup": "survey (2017/2019)",
         "marker": {
          "color": "#00A7A0",
          "pattern": {
           "shape": ""
          }
         },
         "name": "survey (2017/2019)",
         "offsetgroup": "survey (2017/2019)",
         "orientation": "h",
         "showlegend": false,
         "textposition": "auto",
         "type": "bar",
         "x": [
          0.1898980080509121,
          0.0024480188757795736,
          0.10997754845221247,
          0.1463835774739968,
          0.21739873159165563,
          0.14295796599931135,
          0.18697431621190924,
          0.00396183334422279
         ],
         "xaxis": "x",
         "y": [
          "1: walk",
          "2: bike",
          "3: sov",
          "4: hov 2",
          "5: hov 3+",
          "6: walk to transit",
          "8: school bus",
          "9: tnc"
         ],
         "yaxis": "y"
        },
        {
         "alignmentgroup": "True",
         "customdata": [
          [
           52
          ],
          [
           16
          ],
          [
           22
          ],
          [
           75
          ],
          [
           263
          ],
          [
           51
          ],
          [
           1
          ],
          [
           139
          ],
          [
           2
          ]
         ],
         "hovertemplate": "source=survey (2017/2019)<br>hhsize_4+=4+<br>percentage=%{x}<br>tmodetp_label=%{y}<br>sample count=%{customdata[0]}<extra></extra>",
         "legendgroup": "survey (2017/2019)",
         "marker": {
          "color": "#00A7A0",
          "pattern": {
           "shape": ""
          }
         },
         "name": "survey (2017/2019)",
         "offsetgroup": "survey (2017/2019)",
         "orientation": "h",
         "showlegend": false,
         "textposition": "auto",
         "type": "bar",
         "x": [
          0.04671511872562917,
          0.0061923839991391665,
          0.057522598147530565,
          0.1458451277569076,
          0.43456620222566295,
          0.06364493984794191,
          0.011726069203277113,
          0.2305155683978809,
          0.0032719916960306807
         ],
         "xaxis": "x2",
         "y": [
          "1: walk",
          "2: bike",
          "3: sov",
          "4: hov 2",
          "5: hov 3+",
          "6: walk to transit",
          "7: park-and-ride",
          "8: school bus",
          "9: tnc"
         ],
         "yaxis": "y2"
        }
       ],
       "layout": {
        "annotations": [
         {
          "font": {},
          "showarrow": false,
          "text": "3",
          "x": 0.245,
          "xanchor": "center",
          "xref": "paper",
          "y": 0.46499999999999997,
          "yanchor": "bottom",
          "yref": "paper"
         },
         {
          "font": {},
          "showarrow": false,
          "text": "4+",
          "x": 0.755,
          "xanchor": "center",
          "xref": "paper",
          "y": 0.46499999999999997,
          "yanchor": "bottom",
          "yref": "paper"
         },
         {
          "font": {},
          "showarrow": false,
          "text": "1",
          "x": 0.245,
          "xanchor": "center",
          "xref": "paper",
          "y": 0.9999999999999999,
          "yanchor": "bottom",
          "yref": "paper"
         },
         {
          "font": {},
          "showarrow": false,
          "text": "2",
          "x": 0.755,
          "xanchor": "center",
          "xref": "paper",
          "y": 0.9999999999999999,
          "yanchor": "bottom",
          "yref": "paper"
         }
        ],
        "barmode": "group",
        "height": 600,
        "legend": {
         "title": {
          "text": "source"
         },
         "tracegroupgap": 0
        },
        "template": {
         "data": {
          "bar": [
           {
            "error_x": {
             "color": "rgb(36,36,36)"
            },
            "error_y": {
             "color": "rgb(36,36,36)"
            },
            "marker": {
             "line": {
              "color": "white",
              "width": 0.5
             },
             "pattern": {
              "fillmode": "overlay",
              "size": 10,
              "solidity": 0.2
             }
            },
            "type": "bar"
           }
          ],
          "barpolar": [
           {
            "marker": {
             "line": {
              "color": "white",
              "width": 0.5
             },
             "pattern": {
              "fillmode": "overlay",
              "size": 10,
              "solidity": 0.2
             }
            },
            "type": "barpolar"
           }
          ],
          "carpet": [
           {
            "aaxis": {
             "endlinecolor": "rgb(36,36,36)",
             "gridcolor": "white",
             "linecolor": "white",
             "minorgridcolor": "white",
             "startlinecolor": "rgb(36,36,36)"
            },
            "baxis": {
             "endlinecolor": "rgb(36,36,36)",
             "gridcolor": "white",
             "linecolor": "white",
             "minorgridcolor": "white",
             "startlinecolor": "rgb(36,36,36)"
            },
            "type": "carpet"
           }
          ],
          "choropleth": [
           {
            "colorbar": {
             "outlinewidth": 1,
             "tickcolor": "rgb(36,36,36)",
             "ticks": "outside"
            },
            "type": "choropleth"
           }
          ],
          "contour": [
           {
            "colorbar": {
             "outlinewidth": 1,
             "tickcolor": "rgb(36,36,36)",
             "ticks": "outside"
            },
            "colorscale": [
             [
              0.0,
              "#440154"
             ],
             [
              0.1111111111111111,
              "#482878"
             ],
             [
              0.2222222222222222,
              "#3e4989"
             ],
             [
              0.3333333333333333,
              "#31688e"
             ],
             [
              0.4444444444444444,
              "#26828e"
             ],
             [
              0.5555555555555556,
              "#1f9e89"
             ],
             [
              0.6666666666666666,
              "#35b779"
             ],
             [
              0.7777777777777778,
              "#6ece58"
             ],
             [
              0.8888888888888888,
              "#b5de2b"
             ],
             [
              1.0,
              "#fde725"
             ]
            ],
            "type": "contour"
           }
          ],
          "contourcarpet": [
           {
            "colorbar": {
             "outlinewidth": 1,
             "tickcolor": "rgb(36,36,36)",
             "ticks": "outside"
            },
            "type": "contourcarpet"
           }
          ],
          "heatmap": [
           {
            "colorbar": {
             "outlinewidth": 1,
             "tickcolor": "rgb(36,36,36)",
             "ticks": "outside"
            },
            "colorscale": [
             [
              0.0,
              "#440154"
             ],
             [
              0.1111111111111111,
              "#482878"
             ],
             [
              0.2222222222222222,
              "#3e4989"
             ],
             [
              0.3333333333333333,
              "#31688e"
             ],
             [
              0.4444444444444444,
              "#26828e"
             ],
             [
              0.5555555555555556,
              "#1f9e89"
             ],
             [
              0.6666666666666666,
              "#35b779"
             ],
             [
              0.7777777777777778,
              "#6ece58"
             ],
             [
              0.8888888888888888,
              "#b5de2b"
             ],
             [
              1.0,
              "#fde725"
             ]
            ],
            "type": "heatmap"
           }
          ],
          "heatmapgl": [
           {
            "colorbar": {
             "outlinewidth": 1,
             "tickcolor": "rgb(36,36,36)",
             "ticks": "outside"
            },
            "colorscale": [
             [
              0.0,
              "#440154"
             ],
             [
              0.1111111111111111,
              "#482878"
             ],
             [
              0.2222222222222222,
              "#3e4989"
             ],
             [
              0.3333333333333333,
              "#31688e"
             ],
             [
              0.4444444444444444,
              "#26828e"
             ],
             [
              0.5555555555555556,
              "#1f9e89"
             ],
             [
              0.6666666666666666,
              "#35b779"
             ],
             [
              0.7777777777777778,
              "#6ece58"
             ],
             [
              0.8888888888888888,
              "#b5de2b"
             ],
             [
              1.0,
              "#fde725"
             ]
            ],
            "type": "heatmapgl"
           }
          ],
          "histogram": [
           {
            "marker": {
             "line": {
              "color": "white",
              "width": 0.6
             }
            },
            "type": "histogram"
           }
          ],
          "histogram2d": [
           {
            "colorbar": {
             "outlinewidth": 1,
             "tickcolor": "rgb(36,36,36)",
             "ticks": "outside"
            },
            "colorscale": [
             [
              0.0,
              "#440154"
             ],
             [
              0.1111111111111111,
              "#482878"
             ],
             [
              0.2222222222222222,
              "#3e4989"
             ],
             [
              0.3333333333333333,
              "#31688e"
             ],
             [
              0.4444444444444444,
              "#26828e"
             ],
             [
              0.5555555555555556,
              "#1f9e89"
             ],
             [
              0.6666666666666666,
              "#35b779"
             ],
             [
              0.7777777777777778,
              "#6ece58"
             ],
             [
              0.8888888888888888,
              "#b5de2b"
             ],
             [
              1.0,
              "#fde725"
             ]
            ],
            "type": "histogram2d"
           }
          ],
          "histogram2dcontour": [
           {
            "colorbar": {
             "outlinewidth": 1,
             "tickcolor": "rgb(36,36,36)",
             "ticks": "outside"
            },
            "colorscale": [
             [
              0.0,
              "#440154"
             ],
             [
              0.1111111111111111,
              "#482878"
             ],
             [
              0.2222222222222222,
              "#3e4989"
             ],
             [
              0.3333333333333333,
              "#31688e"
             ],
             [
              0.4444444444444444,
              "#26828e"
             ],
             [
              0.5555555555555556,
              "#1f9e89"
             ],
             [
              0.6666666666666666,
              "#35b779"
             ],
             [
              0.7777777777777778,
              "#6ece58"
             ],
             [
              0.8888888888888888,
              "#b5de2b"
             ],
             [
              1.0,
              "#fde725"
             ]
            ],
            "type": "histogram2dcontour"
           }
          ],
          "mesh3d": [
           {
            "colorbar": {
             "outlinewidth": 1,
             "tickcolor": "rgb(36,36,36)",
             "ticks": "outside"
            },
            "type": "mesh3d"
           }
          ],
          "parcoords": [
           {
            "line": {
             "colorbar": {
              "outlinewidth": 1,
              "tickcolor": "rgb(36,36,36)",
              "ticks": "outside"
             }
            },
            "type": "parcoords"
           }
          ],
          "pie": [
           {
            "automargin": true,
            "type": "pie"
           }
          ],
          "scatter": [
           {
            "fillpattern": {
             "fillmode": "overlay",
             "size": 10,
             "solidity": 0.2
            },
            "type": "scatter"
           }
          ],
          "scatter3d": [
           {
            "line": {
             "colorbar": {
              "outlinewidth": 1,
              "tickcolor": "rgb(36,36,36)",
              "ticks": "outside"
             }
            },
            "marker": {
             "colorbar": {
              "outlinewidth": 1,
              "tickcolor": "rgb(36,36,36)",
              "ticks": "outside"
             }
            },
            "type": "scatter3d"
           }
          ],
          "scattercarpet": [
           {
            "marker": {
             "colorbar": {
              "outlinewidth": 1,
              "tickcolor": "rgb(36,36,36)",
              "ticks": "outside"
             }
            },
            "type": "scattercarpet"
           }
          ],
          "scattergeo": [
           {
            "marker": {
             "colorbar": {
              "outlinewidth": 1,
              "tickcolor": "rgb(36,36,36)",
              "ticks": "outside"
             }
            },
            "type": "scattergeo"
           }
          ],
          "scattergl": [
           {
            "marker": {
             "colorbar": {
              "outlinewidth": 1,
              "tickcolor": "rgb(36,36,36)",
              "ticks": "outside"
             }
            },
            "type": "scattergl"
           }
          ],
          "scattermapbox": [
           {
            "marker": {
             "colorbar": {
              "outlinewidth": 1,
              "tickcolor": "rgb(36,36,36)",
              "ticks": "outside"
             }
            },
            "type": "scattermapbox"
           }
          ],
          "scatterpolar": [
           {
            "marker": {
             "colorbar": {
              "outlinewidth": 1,
              "tickcolor": "rgb(36,36,36)",
              "ticks": "outside"
             }
            },
            "type": "scatterpolar"
           }
          ],
          "scatterpolargl": [
           {
            "marker": {
             "colorbar": {
              "outlinewidth": 1,
              "tickcolor": "rgb(36,36,36)",
              "ticks": "outside"
             }
            },
            "type": "scatterpolargl"
           }
          ],
          "scatterternary": [
           {
            "marker": {
             "colorbar": {
              "outlinewidth": 1,
              "tickcolor": "rgb(36,36,36)",
              "ticks": "outside"
             }
            },
            "type": "scatterternary"
           }
          ],
          "surface": [
           {
            "colorbar": {
             "outlinewidth": 1,
             "tickcolor": "rgb(36,36,36)",
             "ticks": "outside"
            },
            "colorscale": [
             [
              0.0,
              "#440154"
             ],
             [
              0.1111111111111111,
              "#482878"
             ],
             [
              0.2222222222222222,
              "#3e4989"
             ],
             [
              0.3333333333333333,
              "#31688e"
             ],
             [
              0.4444444444444444,
              "#26828e"
             ],
             [
              0.5555555555555556,
              "#1f9e89"
             ],
             [
              0.6666666666666666,
              "#35b779"
             ],
             [
              0.7777777777777778,
              "#6ece58"
             ],
             [
              0.8888888888888888,
              "#b5de2b"
             ],
             [
              1.0,
              "#fde725"
             ]
            ],
            "type": "surface"
           }
          ],
          "table": [
           {
            "cells": {
             "fill": {
              "color": "rgb(237,237,237)"
             },
             "line": {
              "color": "white"
             }
            },
            "header": {
             "fill": {
              "color": "rgb(217,217,217)"
             },
             "line": {
              "color": "white"
             }
            },
            "type": "table"
           }
          ]
         },
         "layout": {
          "annotationdefaults": {
           "arrowhead": 0,
           "arrowwidth": 1
          },
          "autotypenumbers": "strict",
          "coloraxis": {
           "colorbar": {
            "outlinewidth": 1,
            "tickcolor": "rgb(36,36,36)",
            "ticks": "outside"
           }
          },
          "colorscale": {
           "diverging": [
            [
             0.0,
             "rgb(103,0,31)"
            ],
            [
             0.1,
             "rgb(178,24,43)"
            ],
            [
             0.2,
             "rgb(214,96,77)"
            ],
            [
             0.3,
             "rgb(244,165,130)"
            ],
            [
             0.4,
             "rgb(253,219,199)"
            ],
            [
             0.5,
             "rgb(247,247,247)"
            ],
            [
             0.6,
             "rgb(209,229,240)"
            ],
            [
             0.7,
             "rgb(146,197,222)"
            ],
            [
             0.8,
             "rgb(67,147,195)"
            ],
            [
             0.9,
             "rgb(33,102,172)"
            ],
            [
             1.0,
             "rgb(5,48,97)"
            ]
           ],
           "sequential": [
            [
             0.0,
             "#440154"
            ],
            [
             0.1111111111111111,
             "#482878"
            ],
            [
             0.2222222222222222,
             "#3e4989"
            ],
            [
             0.3333333333333333,
             "#31688e"
            ],
            [
             0.4444444444444444,
             "#26828e"
            ],
            [
             0.5555555555555556,
             "#1f9e89"
            ],
            [
             0.6666666666666666,
             "#35b779"
            ],
            [
             0.7777777777777778,
             "#6ece58"
            ],
            [
             0.8888888888888888,
             "#b5de2b"
            ],
            [
             1.0,
             "#fde725"
            ]
           ],
           "sequentialminus": [
            [
             0.0,
             "#440154"
            ],
            [
             0.1111111111111111,
             "#482878"
            ],
            [
             0.2222222222222222,
             "#3e4989"
            ],
            [
             0.3333333333333333,
             "#31688e"
            ],
            [
             0.4444444444444444,
             "#26828e"
            ],
            [
             0.5555555555555556,
             "#1f9e89"
            ],
            [
             0.6666666666666666,
             "#35b779"
            ],
            [
             0.7777777777777778,
             "#6ece58"
            ],
            [
             0.8888888888888888,
             "#b5de2b"
            ],
            [
             1.0,
             "#fde725"
            ]
           ]
          },
          "colorway": [
           "#91268F",
           "#8CC63E",
           "#00A7A0",
           "#F05A28",
           "#4C4C4C",
           "#630460",
           "#9f3913",
           "#588527",
           "#00716c",
           "#3e4040"
          ],
          "font": {
           "color": "rgb(36,36,36)",
           "family": "Poppins",
           "size": 11
          },
          "geo": {
           "bgcolor": "white",
           "lakecolor": "white",
           "landcolor": "white",
           "showlakes": true,
           "showland": true,
           "subunitcolor": "white"
          },
          "hoverlabel": {
           "align": "left"
          },
          "hovermode": "closest",
          "mapbox": {
           "style": "light"
          },
          "paper_bgcolor": "white",
          "plot_bgcolor": "white",
          "polar": {
           "angularaxis": {
            "gridcolor": "rgb(232,232,232)",
            "linecolor": "rgb(36,36,36)",
            "showgrid": false,
            "showline": true,
            "ticks": "outside"
           },
           "bgcolor": "white",
           "radialaxis": {
            "gridcolor": "rgb(232,232,232)",
            "linecolor": "rgb(36,36,36)",
            "showgrid": false,
            "showline": true,
            "ticks": "outside"
           }
          },
          "scene": {
           "xaxis": {
            "backgroundcolor": "white",
            "gridcolor": "rgb(232,232,232)",
            "gridwidth": 2,
            "linecolor": "rgb(36,36,36)",
            "showbackground": true,
            "showgrid": false,
            "showline": true,
            "ticks": "outside",
            "zeroline": false,
            "zerolinecolor": "rgb(36,36,36)"
           },
           "yaxis": {
            "backgroundcolor": "white",
            "gridcolor": "rgb(232,232,232)",
            "gridwidth": 2,
            "linecolor": "rgb(36,36,36)",
            "showbackground": true,
            "showgrid": false,
            "showline": true,
            "ticks": "outside",
            "zeroline": false,
            "zerolinecolor": "rgb(36,36,36)"
           },
           "zaxis": {
            "backgroundcolor": "white",
            "gridcolor": "rgb(232,232,232)",
            "gridwidth": 2,
            "linecolor": "rgb(36,36,36)",
            "showbackground": true,
            "showgrid": false,
            "showline": true,
            "ticks": "outside",
            "zeroline": false,
            "zerolinecolor": "rgb(36,36,36)"
           }
          },
          "shapedefaults": {
           "fillcolor": "black",
           "line": {
            "width": 0
           },
           "opacity": 0.3
          },
          "ternary": {
           "aaxis": {
            "gridcolor": "rgb(232,232,232)",
            "linecolor": "rgb(36,36,36)",
            "showgrid": false,
            "showline": true,
            "ticks": "outside"
           },
           "baxis": {
            "gridcolor": "rgb(232,232,232)",
            "linecolor": "rgb(36,36,36)",
            "showgrid": false,
            "showline": true,
            "ticks": "outside"
           },
           "bgcolor": "white",
           "caxis": {
            "gridcolor": "rgb(232,232,232)",
            "linecolor": "rgb(36,36,36)",
            "showgrid": false,
            "showline": true,
            "ticks": "outside"
           }
          },
          "title": {
           "x": 0.05
          },
          "xaxis": {
           "automargin": true,
           "gridcolor": "rgb(232,232,232)",
           "linecolor": "rgb(36,36,36)",
           "showgrid": false,
           "showline": true,
           "ticks": "outside",
           "title": {
            "standoff": 15
           },
           "zeroline": false,
           "zerolinecolor": "rgb(36,36,36)"
          },
          "yaxis": {
           "automargin": true,
           "gridcolor": "rgb(232,232,232)",
           "linecolor": "rgb(36,36,36)",
           "showgrid": false,
           "showline": true,
           "ticks": "outside",
           "title": {
            "standoff": 15
           },
           "zeroline": false,
           "zerolinecolor": "rgb(36,36,36)"
          }
         }
        },
        "title": {
         "text": "school tour mode choice by household size"
        },
        "width": 800,
        "xaxis": {
         "anchor": "y",
         "domain": [
          0.0,
          0.49
         ],
         "tickformat": ".1%",
         "title": {
          "text": "percentage"
         }
        },
        "xaxis2": {
         "anchor": "y2",
         "domain": [
          0.51,
          1.0
         ],
         "matches": "x",
         "tickformat": ".1%",
         "title": {
          "text": "percentage"
         }
        },
        "xaxis3": {
         "anchor": "y3",
         "domain": [
          0.0,
          0.49
         ],
         "matches": "x",
         "showticklabels": false,
         "tickformat": ".1%"
        },
        "xaxis4": {
         "anchor": "y4",
         "domain": [
          0.51,
          1.0
         ],
         "matches": "x",
         "showticklabels": false,
         "tickformat": ".1%"
        },
        "yaxis": {
         "anchor": "x",
         "categoryarray": [
          "9: other–survey only",
          "8: school bus",
          "7: park-and-ride",
          "6: walk to transit",
          "5: hov 3+",
          "4: hov 2",
          "3: sov",
          "2: bike",
          "1: walk"
         ],
         "categoryorder": "array",
         "domain": [
          0.0,
          0.46499999999999997
         ],
         "title": {
          "text": "tmodetp_label"
         }
        },
        "yaxis2": {
         "anchor": "x2",
         "domain": [
          0.0,
          0.46499999999999997
         ],
         "matches": "y",
         "showticklabels": false
        },
        "yaxis3": {
         "anchor": "x3",
         "categoryarray": [
          "9: other–survey only",
          "8: school bus",
          "7: park-and-ride",
          "6: walk to transit",
          "5: hov 3+",
          "4: hov 2",
          "3: sov",
          "2: bike",
          "1: walk"
         ],
         "categoryorder": "array",
         "domain": [
          0.5349999999999999,
          0.9999999999999999
         ],
         "matches": "y",
         "title": {
          "text": "tmodetp_label"
         }
        },
        "yaxis4": {
         "anchor": "x4",
         "domain": [
          0.5349999999999999,
          0.9999999999999999
         ],
         "matches": "y",
         "showticklabels": false
        }
       }
      },
      "text/html": [
       "<div>                            <div id=\"650d56ca-3c8b-4770-b6cf-64bee1e20092\" class=\"plotly-graph-div\" style=\"height:600px; width:800px;\"></div>            <script type=\"text/javascript\">                require([\"plotly\"], function(Plotly) {                    window.PLOTLYENV=window.PLOTLYENV || {};                                    if (document.getElementById(\"650d56ca-3c8b-4770-b6cf-64bee1e20092\")) {                    Plotly.newPlot(                        \"650d56ca-3c8b-4770-b6cf-64bee1e20092\",                        [{\"alignmentgroup\":\"True\",\"customdata\":[[308],[149],[1262],[5],[34],[1263],[16]],\"hovertemplate\":\"source=model\\u003cbr\\u003ehhsize_4+=1\\u003cbr\\u003epercentage=%{x}\\u003cbr\\u003etmodetp_label=%{y}\\u003cbr\\u003esample count=%{customdata[0]}\\u003cextra\\u003e\\u003c\\u002fextra\\u003e\",\"legendgroup\":\"model\",\"marker\":{\"color\":\"#91268F\",\"pattern\":{\"shape\":\"\"}},\"name\":\"model\",\"offsetgroup\":\"model\",\"orientation\":\"h\",\"showlegend\":true,\"textposition\":\"auto\",\"x\":[0.10141587092525518,0.04906157392163319,0.41554165294698714,0.0016463615409944023,0.011195258478761936,0.41587092525518604,0.005268356931182087],\"xaxis\":\"x3\",\"y\":[\"1: walk\",\"2: bike\",\"3: sov\",\"4: hov 2\",\"5: hov 3+\",\"6: walk to transit\",\"8: school bus\"],\"yaxis\":\"y3\",\"type\":\"bar\"},{\"alignmentgroup\":\"True\",\"customdata\":[[2365],[740],[7199],[4564],[1932],[3376],[6935]],\"hovertemplate\":\"source=model\\u003cbr\\u003ehhsize_4+=2\\u003cbr\\u003epercentage=%{x}\\u003cbr\\u003etmodetp_label=%{y}\\u003cbr\\u003esample count=%{customdata[0]}\\u003cextra\\u003e\\u003c\\u002fextra\\u003e\",\"legendgroup\":\"model\",\"marker\":{\"color\":\"#91268F\",\"pattern\":{\"shape\":\"\"}},\"name\":\"model\",\"offsetgroup\":\"model\",\"orientation\":\"h\",\"showlegend\":false,\"textposition\":\"auto\",\"x\":[0.08723396407362326,0.02729519383276161,0.2655379735162849,0.16834495223341078,0.07126258714175059,0.12452510051270702,0.25580022868946184],\"xaxis\":\"x4\",\"y\":[\"1: walk\",\"2: bike\",\"3: sov\",\"4: hov 2\",\"5: hov 3+\",\"6: walk to transit\",\"8: school bus\"],\"yaxis\":\"y4\",\"type\":\"bar\"},{\"alignmentgroup\":\"True\",\"customdata\":[[6331],[1330],[12401],[12152],[37058],[4578],[28921],[2]],\"hovertemplate\":\"source=model\\u003cbr\\u003ehhsize_4+=3\\u003cbr\\u003epercentage=%{x}\\u003cbr\\u003etmodetp_label=%{y}\\u003cbr\\u003esample count=%{customdata[0]}\\u003cextra\\u003e\\u003c\\u002fextra\\u003e\",\"legendgroup\":\"model\",\"marker\":{\"color\":\"#91268F\",\"pattern\":{\"shape\":\"\"}},\"name\":\"model\",\"offsetgroup\":\"model\",\"orientation\":\"h\",\"showlegend\":false,\"textposition\":\"auto\",\"x\":[0.06160178256935187,0.012941142128769229,0.12066398762320843,0.1182411722923336,0.3605810864721279,0.044544773432710925,0.28140659511739463,1.9460364103412375e-05],\"xaxis\":\"x\",\"y\":[\"1: walk\",\"2: bike\",\"3: sov\",\"4: hov 2\",\"5: hov 3+\",\"6: walk to transit\",\"8: school bus\",\"9: tnc\"],\"yaxis\":\"y\",\"type\":\"bar\"},{\"alignmentgroup\":\"True\",\"customdata\":[[28685],[4853],[30006],[59887],[155615],[11696],[151340],[6]],\"hovertemplate\":\"source=model\\u003cbr\\u003ehhsize_4+=4+\\u003cbr\\u003epercentage=%{x}\\u003cbr\\u003etmodetp_label=%{y}\\u003cbr\\u003esample count=%{customdata[0]}\\u003cextra\\u003e\\u003c\\u002fextra\\u003e\",\"legendgroup\":\"model\",\"marker\":{\"color\":\"#91268F\",\"pattern\":{\"shape\":\"\"}},\"name\":\"model\",\"offsetgroup\":\"model\",\"orientation\":\"h\",\"showlegend\":false,\"textposition\":\"auto\",\"x\":[0.06488527171060965,0.010977452452905304,0.06787336457899784,0.13546398002207705,0.3520000542878341,0.026456271149635367,0.34233003383941657,1.357195852409475e-05],\"xaxis\":\"x2\",\"y\":[\"1: walk\",\"2: bike\",\"3: sov\",\"4: hov 2\",\"5: hov 3+\",\"6: walk to transit\",\"8: school bus\",\"9: tnc\"],\"yaxis\":\"y2\",\"type\":\"bar\"},{\"alignmentgroup\":\"True\",\"customdata\":[[7],[1],[3],[9],[1]],\"hovertemplate\":\"source=survey\\u003cbr\\u003ehhsize_4+=1\\u003cbr\\u003epercentage=%{x}\\u003cbr\\u003etmodetp_label=%{y}\\u003cbr\\u003esample count=%{customdata[0]}\\u003cextra\\u003e\\u003c\\u002fextra\\u003e\",\"legendgroup\":\"survey\",\"marker\":{\"color\":\"#8CC63E\",\"pattern\":{\"shape\":\"\"}},\"name\":\"survey\",\"offsetgroup\":\"survey\",\"orientation\":\"h\",\"showlegend\":true,\"textposition\":\"auto\",\"x\":[0.3317340856259701,0.011970272734258427,0.044822694673352155,0.6021422205031027,0.009330726463316655],\"xaxis\":\"x3\",\"y\":[\"1: walk\",\"2: bike\",\"3: sov\",\"6: walk to transit\",\"8: school bus\"],\"yaxis\":\"y3\",\"type\":\"bar\"},{\"alignmentgroup\":\"True\",\"customdata\":[[4],[2],[8],[6],[2],[6],[5]],\"hovertemplate\":\"source=survey\\u003cbr\\u003ehhsize_4+=2\\u003cbr\\u003epercentage=%{x}\\u003cbr\\u003etmodetp_label=%{y}\\u003cbr\\u003esample count=%{customdata[0]}\\u003cextra\\u003e\\u003c\\u002fextra\\u003e\",\"legendgroup\":\"survey\",\"marker\":{\"color\":\"#8CC63E\",\"pattern\":{\"shape\":\"\"}},\"name\":\"survey\",\"offsetgroup\":\"survey\",\"orientation\":\"h\",\"showlegend\":false,\"textposition\":\"auto\",\"x\":[0.02839454920031056,0.004995394331086267,0.07174924912891861,0.24609676726666324,0.021361785719896807,0.5546510284487509,0.07275122590437354],\"xaxis\":\"x4\",\"y\":[\"1: walk\",\"2: bike\",\"3: sov\",\"4: hov 2\",\"5: hov 3+\",\"6: walk to transit\",\"8: school bus\"],\"yaxis\":\"y4\",\"type\":\"bar\"},{\"alignmentgroup\":\"True\",\"customdata\":[[17],[10],[10],[40],[34],[13],[29]],\"hovertemplate\":\"source=survey\\u003cbr\\u003ehhsize_4+=3\\u003cbr\\u003epercentage=%{x}\\u003cbr\\u003etmodetp_label=%{y}\\u003cbr\\u003esample count=%{customdata[0]}\\u003cextra\\u003e\\u003c\\u002fextra\\u003e\",\"legendgroup\":\"survey\",\"marker\":{\"color\":\"#8CC63E\",\"pattern\":{\"shape\":\"\"}},\"name\":\"survey\",\"offsetgroup\":\"survey\",\"orientation\":\"h\",\"showlegend\":false,\"textposition\":\"auto\",\"x\":[0.03555639229447732,0.0419783339501239,0.11174792175743511,0.43572929431439444,0.16296671490659512,0.05806245098931917,0.1539588917876551],\"xaxis\":\"x\",\"y\":[\"1: walk\",\"2: bike\",\"3: sov\",\"4: hov 2\",\"5: hov 3+\",\"6: walk to transit\",\"8: school bus\"],\"yaxis\":\"y\",\"type\":\"bar\"},{\"alignmentgroup\":\"True\",\"customdata\":[[34],[11],[21],[48],[157],[18],[116]],\"hovertemplate\":\"source=survey\\u003cbr\\u003ehhsize_4+=4+\\u003cbr\\u003epercentage=%{x}\\u003cbr\\u003etmodetp_label=%{y}\\u003cbr\\u003esample count=%{customdata[0]}\\u003cextra\\u003e\\u003c\\u002fextra\\u003e\",\"legendgroup\":\"survey\",\"marker\":{\"color\":\"#8CC63E\",\"pattern\":{\"shape\":\"\"}},\"name\":\"survey\",\"offsetgroup\":\"survey\",\"orientation\":\"h\",\"showlegend\":false,\"textposition\":\"auto\",\"x\":[0.07235322826670401,0.013171954167539553,0.0927976177169821,0.1190020541810188,0.37561758984181287,0.021467607209061768,0.3055899486168808],\"xaxis\":\"x2\",\"y\":[\"1: walk\",\"2: bike\",\"3: sov\",\"4: hov 2\",\"5: hov 3+\",\"6: walk to transit\",\"8: school bus\"],\"yaxis\":\"y2\",\"type\":\"bar\"},{\"alignmentgroup\":\"True\",\"customdata\":[[18],[3],[12],[4],[2],[33],[1]],\"hovertemplate\":\"source=survey (2017\\u002f2019)\\u003cbr\\u003ehhsize_4+=1\\u003cbr\\u003epercentage=%{x}\\u003cbr\\u003etmodetp_label=%{y}\\u003cbr\\u003esample count=%{customdata[0]}\\u003cextra\\u003e\\u003c\\u002fextra\\u003e\",\"legendgroup\":\"survey (2017\\u002f2019)\",\"marker\":{\"color\":\"#00A7A0\",\"pattern\":{\"shape\":\"\"}},\"name\":\"survey (2017\\u002f2019)\",\"offsetgroup\":\"survey (2017\\u002f2019)\",\"orientation\":\"h\",\"showlegend\":true,\"textposition\":\"auto\",\"x\":[0.2626579824374741,0.010611620998791491,0.11126466056871238,0.0263043519921123,0.026695865247418363,0.5617553747026418,0.0007101440528494942],\"xaxis\":\"x3\",\"y\":[\"1: walk\",\"2: bike\",\"3: sov\",\"4: hov 2\",\"5: hov 3+\",\"6: walk to transit\",\"9: tnc\"],\"yaxis\":\"y3\",\"type\":\"bar\"},{\"alignmentgroup\":\"True\",\"customdata\":[[15],[5],[33],[33],[5],[62],[1],[8],[2]],\"hovertemplate\":\"source=survey (2017\\u002f2019)\\u003cbr\\u003ehhsize_4+=2\\u003cbr\\u003epercentage=%{x}\\u003cbr\\u003etmodetp_label=%{y}\\u003cbr\\u003esample count=%{customdata[0]}\\u003cextra\\u003e\\u003c\\u002fextra\\u003e\",\"legendgroup\":\"survey (2017\\u002f2019)\",\"marker\":{\"color\":\"#00A7A0\",\"pattern\":{\"shape\":\"\"}},\"name\":\"survey (2017\\u002f2019)\",\"offsetgroup\":\"survey (2017\\u002f2019)\",\"orientation\":\"h\",\"showlegend\":false,\"textposition\":\"auto\",\"x\":[0.03901128727761605,0.0043524538653354865,0.31516694704883275,0.3705239285996342,0.02094741001176323,0.18353809213457273,0.000535154382130044,0.06153974069428249,0.004384985985833202],\"xaxis\":\"x4\",\"y\":[\"1: walk\",\"2: bike\",\"3: sov\",\"4: hov 2\",\"5: hov 3+\",\"6: walk to transit\",\"7: park-and-ride\",\"8: school bus\",\"9: tnc\"],\"yaxis\":\"y4\",\"type\":\"bar\"},{\"alignmentgroup\":\"True\",\"customdata\":[[24],[7],[13],[86],[40],[48],[43],[3]],\"hovertemplate\":\"source=survey (2017\\u002f2019)\\u003cbr\\u003ehhsize_4+=3\\u003cbr\\u003epercentage=%{x}\\u003cbr\\u003etmodetp_label=%{y}\\u003cbr\\u003esample count=%{customdata[0]}\\u003cextra\\u003e\\u003c\\u002fextra\\u003e\",\"legendgroup\":\"survey (2017\\u002f2019)\",\"marker\":{\"color\":\"#00A7A0\",\"pattern\":{\"shape\":\"\"}},\"name\":\"survey (2017\\u002f2019)\",\"offsetgroup\":\"survey (2017\\u002f2019)\",\"orientation\":\"h\",\"showlegend\":false,\"textposition\":\"auto\",\"x\":[0.1898980080509121,0.0024480188757795736,0.10997754845221247,0.1463835774739968,0.21739873159165563,0.14295796599931135,0.18697431621190924,0.00396183334422279],\"xaxis\":\"x\",\"y\":[\"1: walk\",\"2: bike\",\"3: sov\",\"4: hov 2\",\"5: hov 3+\",\"6: walk to transit\",\"8: school bus\",\"9: tnc\"],\"yaxis\":\"y\",\"type\":\"bar\"},{\"alignmentgroup\":\"True\",\"customdata\":[[52],[16],[22],[75],[263],[51],[1],[139],[2]],\"hovertemplate\":\"source=survey (2017\\u002f2019)\\u003cbr\\u003ehhsize_4+=4+\\u003cbr\\u003epercentage=%{x}\\u003cbr\\u003etmodetp_label=%{y}\\u003cbr\\u003esample count=%{customdata[0]}\\u003cextra\\u003e\\u003c\\u002fextra\\u003e\",\"legendgroup\":\"survey (2017\\u002f2019)\",\"marker\":{\"color\":\"#00A7A0\",\"pattern\":{\"shape\":\"\"}},\"name\":\"survey (2017\\u002f2019)\",\"offsetgroup\":\"survey (2017\\u002f2019)\",\"orientation\":\"h\",\"showlegend\":false,\"textposition\":\"auto\",\"x\":[0.04671511872562917,0.0061923839991391665,0.057522598147530565,0.1458451277569076,0.43456620222566295,0.06364493984794191,0.011726069203277113,0.2305155683978809,0.0032719916960306807],\"xaxis\":\"x2\",\"y\":[\"1: walk\",\"2: bike\",\"3: sov\",\"4: hov 2\",\"5: hov 3+\",\"6: walk to transit\",\"7: park-and-ride\",\"8: school bus\",\"9: tnc\"],\"yaxis\":\"y2\",\"type\":\"bar\"}],                        {\"template\":{\"data\":{\"barpolar\":[{\"marker\":{\"line\":{\"color\":\"white\",\"width\":0.5},\"pattern\":{\"fillmode\":\"overlay\",\"size\":10,\"solidity\":0.2}},\"type\":\"barpolar\"}],\"bar\":[{\"error_x\":{\"color\":\"rgb(36,36,36)\"},\"error_y\":{\"color\":\"rgb(36,36,36)\"},\"marker\":{\"line\":{\"color\":\"white\",\"width\":0.5},\"pattern\":{\"fillmode\":\"overlay\",\"size\":10,\"solidity\":0.2}},\"type\":\"bar\"}],\"carpet\":[{\"aaxis\":{\"endlinecolor\":\"rgb(36,36,36)\",\"gridcolor\":\"white\",\"linecolor\":\"white\",\"minorgridcolor\":\"white\",\"startlinecolor\":\"rgb(36,36,36)\"},\"baxis\":{\"endlinecolor\":\"rgb(36,36,36)\",\"gridcolor\":\"white\",\"linecolor\":\"white\",\"minorgridcolor\":\"white\",\"startlinecolor\":\"rgb(36,36,36)\"},\"type\":\"carpet\"}],\"choropleth\":[{\"colorbar\":{\"outlinewidth\":1,\"tickcolor\":\"rgb(36,36,36)\",\"ticks\":\"outside\"},\"type\":\"choropleth\"}],\"contourcarpet\":[{\"colorbar\":{\"outlinewidth\":1,\"tickcolor\":\"rgb(36,36,36)\",\"ticks\":\"outside\"},\"type\":\"contourcarpet\"}],\"contour\":[{\"colorbar\":{\"outlinewidth\":1,\"tickcolor\":\"rgb(36,36,36)\",\"ticks\":\"outside\"},\"colorscale\":[[0.0,\"#440154\"],[0.1111111111111111,\"#482878\"],[0.2222222222222222,\"#3e4989\"],[0.3333333333333333,\"#31688e\"],[0.4444444444444444,\"#26828e\"],[0.5555555555555556,\"#1f9e89\"],[0.6666666666666666,\"#35b779\"],[0.7777777777777778,\"#6ece58\"],[0.8888888888888888,\"#b5de2b\"],[1.0,\"#fde725\"]],\"type\":\"contour\"}],\"heatmapgl\":[{\"colorbar\":{\"outlinewidth\":1,\"tickcolor\":\"rgb(36,36,36)\",\"ticks\":\"outside\"},\"colorscale\":[[0.0,\"#440154\"],[0.1111111111111111,\"#482878\"],[0.2222222222222222,\"#3e4989\"],[0.3333333333333333,\"#31688e\"],[0.4444444444444444,\"#26828e\"],[0.5555555555555556,\"#1f9e89\"],[0.6666666666666666,\"#35b779\"],[0.7777777777777778,\"#6ece58\"],[0.8888888888888888,\"#b5de2b\"],[1.0,\"#fde725\"]],\"type\":\"heatmapgl\"}],\"heatmap\":[{\"colorbar\":{\"outlinewidth\":1,\"tickcolor\":\"rgb(36,36,36)\",\"ticks\":\"outside\"},\"colorscale\":[[0.0,\"#440154\"],[0.1111111111111111,\"#482878\"],[0.2222222222222222,\"#3e4989\"],[0.3333333333333333,\"#31688e\"],[0.4444444444444444,\"#26828e\"],[0.5555555555555556,\"#1f9e89\"],[0.6666666666666666,\"#35b779\"],[0.7777777777777778,\"#6ece58\"],[0.8888888888888888,\"#b5de2b\"],[1.0,\"#fde725\"]],\"type\":\"heatmap\"}],\"histogram2dcontour\":[{\"colorbar\":{\"outlinewidth\":1,\"tickcolor\":\"rgb(36,36,36)\",\"ticks\":\"outside\"},\"colorscale\":[[0.0,\"#440154\"],[0.1111111111111111,\"#482878\"],[0.2222222222222222,\"#3e4989\"],[0.3333333333333333,\"#31688e\"],[0.4444444444444444,\"#26828e\"],[0.5555555555555556,\"#1f9e89\"],[0.6666666666666666,\"#35b779\"],[0.7777777777777778,\"#6ece58\"],[0.8888888888888888,\"#b5de2b\"],[1.0,\"#fde725\"]],\"type\":\"histogram2dcontour\"}],\"histogram2d\":[{\"colorbar\":{\"outlinewidth\":1,\"tickcolor\":\"rgb(36,36,36)\",\"ticks\":\"outside\"},\"colorscale\":[[0.0,\"#440154\"],[0.1111111111111111,\"#482878\"],[0.2222222222222222,\"#3e4989\"],[0.3333333333333333,\"#31688e\"],[0.4444444444444444,\"#26828e\"],[0.5555555555555556,\"#1f9e89\"],[0.6666666666666666,\"#35b779\"],[0.7777777777777778,\"#6ece58\"],[0.8888888888888888,\"#b5de2b\"],[1.0,\"#fde725\"]],\"type\":\"histogram2d\"}],\"histogram\":[{\"marker\":{\"line\":{\"color\":\"white\",\"width\":0.6}},\"type\":\"histogram\"}],\"mesh3d\":[{\"colorbar\":{\"outlinewidth\":1,\"tickcolor\":\"rgb(36,36,36)\",\"ticks\":\"outside\"},\"type\":\"mesh3d\"}],\"parcoords\":[{\"line\":{\"colorbar\":{\"outlinewidth\":1,\"tickcolor\":\"rgb(36,36,36)\",\"ticks\":\"outside\"}},\"type\":\"parcoords\"}],\"pie\":[{\"automargin\":true,\"type\":\"pie\"}],\"scatter3d\":[{\"line\":{\"colorbar\":{\"outlinewidth\":1,\"tickcolor\":\"rgb(36,36,36)\",\"ticks\":\"outside\"}},\"marker\":{\"colorbar\":{\"outlinewidth\":1,\"tickcolor\":\"rgb(36,36,36)\",\"ticks\":\"outside\"}},\"type\":\"scatter3d\"}],\"scattercarpet\":[{\"marker\":{\"colorbar\":{\"outlinewidth\":1,\"tickcolor\":\"rgb(36,36,36)\",\"ticks\":\"outside\"}},\"type\":\"scattercarpet\"}],\"scattergeo\":[{\"marker\":{\"colorbar\":{\"outlinewidth\":1,\"tickcolor\":\"rgb(36,36,36)\",\"ticks\":\"outside\"}},\"type\":\"scattergeo\"}],\"scattergl\":[{\"marker\":{\"colorbar\":{\"outlinewidth\":1,\"tickcolor\":\"rgb(36,36,36)\",\"ticks\":\"outside\"}},\"type\":\"scattergl\"}],\"scattermapbox\":[{\"marker\":{\"colorbar\":{\"outlinewidth\":1,\"tickcolor\":\"rgb(36,36,36)\",\"ticks\":\"outside\"}},\"type\":\"scattermapbox\"}],\"scatterpolargl\":[{\"marker\":{\"colorbar\":{\"outlinewidth\":1,\"tickcolor\":\"rgb(36,36,36)\",\"ticks\":\"outside\"}},\"type\":\"scatterpolargl\"}],\"scatterpolar\":[{\"marker\":{\"colorbar\":{\"outlinewidth\":1,\"tickcolor\":\"rgb(36,36,36)\",\"ticks\":\"outside\"}},\"type\":\"scatterpolar\"}],\"scatter\":[{\"fillpattern\":{\"fillmode\":\"overlay\",\"size\":10,\"solidity\":0.2},\"type\":\"scatter\"}],\"scatterternary\":[{\"marker\":{\"colorbar\":{\"outlinewidth\":1,\"tickcolor\":\"rgb(36,36,36)\",\"ticks\":\"outside\"}},\"type\":\"scatterternary\"}],\"surface\":[{\"colorbar\":{\"outlinewidth\":1,\"tickcolor\":\"rgb(36,36,36)\",\"ticks\":\"outside\"},\"colorscale\":[[0.0,\"#440154\"],[0.1111111111111111,\"#482878\"],[0.2222222222222222,\"#3e4989\"],[0.3333333333333333,\"#31688e\"],[0.4444444444444444,\"#26828e\"],[0.5555555555555556,\"#1f9e89\"],[0.6666666666666666,\"#35b779\"],[0.7777777777777778,\"#6ece58\"],[0.8888888888888888,\"#b5de2b\"],[1.0,\"#fde725\"]],\"type\":\"surface\"}],\"table\":[{\"cells\":{\"fill\":{\"color\":\"rgb(237,237,237)\"},\"line\":{\"color\":\"white\"}},\"header\":{\"fill\":{\"color\":\"rgb(217,217,217)\"},\"line\":{\"color\":\"white\"}},\"type\":\"table\"}]},\"layout\":{\"annotationdefaults\":{\"arrowhead\":0,\"arrowwidth\":1},\"autotypenumbers\":\"strict\",\"coloraxis\":{\"colorbar\":{\"outlinewidth\":1,\"tickcolor\":\"rgb(36,36,36)\",\"ticks\":\"outside\"}},\"colorscale\":{\"diverging\":[[0.0,\"rgb(103,0,31)\"],[0.1,\"rgb(178,24,43)\"],[0.2,\"rgb(214,96,77)\"],[0.3,\"rgb(244,165,130)\"],[0.4,\"rgb(253,219,199)\"],[0.5,\"rgb(247,247,247)\"],[0.6,\"rgb(209,229,240)\"],[0.7,\"rgb(146,197,222)\"],[0.8,\"rgb(67,147,195)\"],[0.9,\"rgb(33,102,172)\"],[1.0,\"rgb(5,48,97)\"]],\"sequential\":[[0.0,\"#440154\"],[0.1111111111111111,\"#482878\"],[0.2222222222222222,\"#3e4989\"],[0.3333333333333333,\"#31688e\"],[0.4444444444444444,\"#26828e\"],[0.5555555555555556,\"#1f9e89\"],[0.6666666666666666,\"#35b779\"],[0.7777777777777778,\"#6ece58\"],[0.8888888888888888,\"#b5de2b\"],[1.0,\"#fde725\"]],\"sequentialminus\":[[0.0,\"#440154\"],[0.1111111111111111,\"#482878\"],[0.2222222222222222,\"#3e4989\"],[0.3333333333333333,\"#31688e\"],[0.4444444444444444,\"#26828e\"],[0.5555555555555556,\"#1f9e89\"],[0.6666666666666666,\"#35b779\"],[0.7777777777777778,\"#6ece58\"],[0.8888888888888888,\"#b5de2b\"],[1.0,\"#fde725\"]]},\"colorway\":[\"#91268F\",\"#8CC63E\",\"#00A7A0\",\"#F05A28\",\"#4C4C4C\",\"#630460\",\"#9f3913\",\"#588527\",\"#00716c\",\"#3e4040\"],\"font\":{\"color\":\"rgb(36,36,36)\",\"family\":\"Poppins\",\"size\":11},\"geo\":{\"bgcolor\":\"white\",\"lakecolor\":\"white\",\"landcolor\":\"white\",\"showlakes\":true,\"showland\":true,\"subunitcolor\":\"white\"},\"hoverlabel\":{\"align\":\"left\"},\"hovermode\":\"closest\",\"mapbox\":{\"style\":\"light\"},\"paper_bgcolor\":\"white\",\"plot_bgcolor\":\"white\",\"polar\":{\"angularaxis\":{\"gridcolor\":\"rgb(232,232,232)\",\"linecolor\":\"rgb(36,36,36)\",\"showgrid\":false,\"showline\":true,\"ticks\":\"outside\"},\"bgcolor\":\"white\",\"radialaxis\":{\"gridcolor\":\"rgb(232,232,232)\",\"linecolor\":\"rgb(36,36,36)\",\"showgrid\":false,\"showline\":true,\"ticks\":\"outside\"}},\"scene\":{\"xaxis\":{\"backgroundcolor\":\"white\",\"gridcolor\":\"rgb(232,232,232)\",\"gridwidth\":2,\"linecolor\":\"rgb(36,36,36)\",\"showbackground\":true,\"showgrid\":false,\"showline\":true,\"ticks\":\"outside\",\"zeroline\":false,\"zerolinecolor\":\"rgb(36,36,36)\"},\"yaxis\":{\"backgroundcolor\":\"white\",\"gridcolor\":\"rgb(232,232,232)\",\"gridwidth\":2,\"linecolor\":\"rgb(36,36,36)\",\"showbackground\":true,\"showgrid\":false,\"showline\":true,\"ticks\":\"outside\",\"zeroline\":false,\"zerolinecolor\":\"rgb(36,36,36)\"},\"zaxis\":{\"backgroundcolor\":\"white\",\"gridcolor\":\"rgb(232,232,232)\",\"gridwidth\":2,\"linecolor\":\"rgb(36,36,36)\",\"showbackground\":true,\"showgrid\":false,\"showline\":true,\"ticks\":\"outside\",\"zeroline\":false,\"zerolinecolor\":\"rgb(36,36,36)\"}},\"shapedefaults\":{\"fillcolor\":\"black\",\"line\":{\"width\":0},\"opacity\":0.3},\"ternary\":{\"aaxis\":{\"gridcolor\":\"rgb(232,232,232)\",\"linecolor\":\"rgb(36,36,36)\",\"showgrid\":false,\"showline\":true,\"ticks\":\"outside\"},\"baxis\":{\"gridcolor\":\"rgb(232,232,232)\",\"linecolor\":\"rgb(36,36,36)\",\"showgrid\":false,\"showline\":true,\"ticks\":\"outside\"},\"bgcolor\":\"white\",\"caxis\":{\"gridcolor\":\"rgb(232,232,232)\",\"linecolor\":\"rgb(36,36,36)\",\"showgrid\":false,\"showline\":true,\"ticks\":\"outside\"}},\"title\":{\"x\":0.05},\"xaxis\":{\"automargin\":true,\"gridcolor\":\"rgb(232,232,232)\",\"linecolor\":\"rgb(36,36,36)\",\"showgrid\":false,\"showline\":true,\"ticks\":\"outside\",\"title\":{\"standoff\":15},\"zeroline\":false,\"zerolinecolor\":\"rgb(36,36,36)\"},\"yaxis\":{\"automargin\":true,\"gridcolor\":\"rgb(232,232,232)\",\"linecolor\":\"rgb(36,36,36)\",\"showgrid\":false,\"showline\":true,\"ticks\":\"outside\",\"title\":{\"standoff\":15},\"zeroline\":false,\"zerolinecolor\":\"rgb(36,36,36)\"}}},\"xaxis\":{\"anchor\":\"y\",\"domain\":[0.0,0.49],\"title\":{\"text\":\"percentage\"},\"tickformat\":\".1%\"},\"yaxis\":{\"anchor\":\"x\",\"domain\":[0.0,0.46499999999999997],\"title\":{\"text\":\"tmodetp_label\"},\"categoryorder\":\"array\",\"categoryarray\":[\"9: other\\u00e2\\u20ac\\u201csurvey only\",\"8: school bus\",\"7: park-and-ride\",\"6: walk to transit\",\"5: hov 3+\",\"4: hov 2\",\"3: sov\",\"2: bike\",\"1: walk\"]},\"xaxis2\":{\"anchor\":\"y2\",\"domain\":[0.51,1.0],\"matches\":\"x\",\"title\":{\"text\":\"percentage\"},\"tickformat\":\".1%\"},\"yaxis2\":{\"anchor\":\"x2\",\"domain\":[0.0,0.46499999999999997],\"matches\":\"y\",\"showticklabels\":false},\"xaxis3\":{\"anchor\":\"y3\",\"domain\":[0.0,0.49],\"matches\":\"x\",\"showticklabels\":false,\"tickformat\":\".1%\"},\"yaxis3\":{\"anchor\":\"x3\",\"domain\":[0.5349999999999999,0.9999999999999999],\"matches\":\"y\",\"title\":{\"text\":\"tmodetp_label\"},\"categoryorder\":\"array\",\"categoryarray\":[\"9: other\\u00e2\\u20ac\\u201csurvey only\",\"8: school bus\",\"7: park-and-ride\",\"6: walk to transit\",\"5: hov 3+\",\"4: hov 2\",\"3: sov\",\"2: bike\",\"1: walk\"]},\"xaxis4\":{\"anchor\":\"y4\",\"domain\":[0.51,1.0],\"matches\":\"x\",\"showticklabels\":false,\"tickformat\":\".1%\"},\"yaxis4\":{\"anchor\":\"x4\",\"domain\":[0.5349999999999999,0.9999999999999999],\"matches\":\"y\",\"showticklabels\":false},\"annotations\":[{\"font\":{},\"showarrow\":false,\"text\":\"3\",\"x\":0.245,\"xanchor\":\"center\",\"xref\":\"paper\",\"y\":0.46499999999999997,\"yanchor\":\"bottom\",\"yref\":\"paper\"},{\"font\":{},\"showarrow\":false,\"text\":\"4+\",\"x\":0.755,\"xanchor\":\"center\",\"xref\":\"paper\",\"y\":0.46499999999999997,\"yanchor\":\"bottom\",\"yref\":\"paper\"},{\"font\":{},\"showarrow\":false,\"text\":\"1\",\"x\":0.245,\"xanchor\":\"center\",\"xref\":\"paper\",\"y\":0.9999999999999999,\"yanchor\":\"bottom\",\"yref\":\"paper\"},{\"font\":{},\"showarrow\":false,\"text\":\"2\",\"x\":0.755,\"xanchor\":\"center\",\"xref\":\"paper\",\"y\":0.9999999999999999,\"yanchor\":\"bottom\",\"yref\":\"paper\"}],\"legend\":{\"title\":{\"text\":\"source\"},\"tracegroupgap\":0},\"title\":{\"text\":\"school tour mode choice by household size\"},\"barmode\":\"group\",\"height\":600,\"width\":800},                        {\"responsive\": true}                    ).then(function(){\n",
       "                            \n",
       "var gd = document.getElementById('650d56ca-3c8b-4770-b6cf-64bee1e20092');\n",
       "var x = new MutationObserver(function (mutations, observer) {{\n",
       "        var display = window.getComputedStyle(gd).display;\n",
       "        if (!display || display === 'none') {{\n",
       "            console.log([gd, 'removed!']);\n",
       "            Plotly.purge(gd);\n",
       "            observer.disconnect();\n",
       "        }}\n",
       "}});\n",
       "\n",
       "// Listen for the removal of the full notebook cells\n",
       "var notebookContainer = gd.closest('#notebook-container');\n",
       "if (notebookContainer) {{\n",
       "    x.observe(notebookContainer, {childList: true});\n",
       "}}\n",
       "\n",
       "// Listen for the clearing of the current output cell\n",
       "var outputEl = gd.closest('.output');\n",
       "if (outputEl) {{\n",
       "    x.observe(outputEl, {childList: true});\n",
       "}}\n",
       "\n",
       "                        })                };                });            </script>        </div>"
      ]
     },
     "metadata": {},
     "output_type": "display_data"
    }
   ],
   "source": [
    "plot_mode_choice(sc_tour,\"hhsize_4+\",\n",
    "                 {\"hhsize_4+\":[\"1\",\"2\",\"3\",\"4+\"],\n",
    "                  \"tmodetp_label\":[\"1: walk\",\"2: bike\",\"3: sov\",\"4: hov 2\",\"5: hov 3+\",\"6: walk to transit\",\n",
    "                                   \"7: park-and-ride\",\"8: school bus\",\"9: other–survey only\"]},\n",
    "                 \"household size\",2,600)"
   ]
  },
  {
   "cell_type": "raw",
   "metadata": {},
   "source": [
    "### auto ownership"
   ]
  },
  {
   "cell_type": "code",
   "execution_count": 10,
   "metadata": {
    "execution": {
     "iopub.execute_input": "2024-08-30T21:32:13.305566Z",
     "iopub.status.busy": "2024-08-30T21:32:13.305566Z",
     "iopub.status.idle": "2024-08-30T21:32:14.429572Z",
     "shell.execute_reply": "2024-08-30T21:32:14.429572Z"
    }
   },
   "outputs": [
    {
     "data": {
      "application/vnd.plotly.v1+json": {
       "config": {
        "plotlyServerURL": "https://plot.ly"
       },
       "data": [
        {
         "alignmentgroup": "True",
         "customdata": [
          [
           5066
          ],
          [
           1645
          ],
          [
           1
          ],
          [
           5357
          ],
          [
           4848
          ],
          [
           76
          ]
         ],
         "hovertemplate": "source=model<br>auto_ownership_4+=0<br>percentage=%{x}<br>tmodetp_label=%{y}<br>sample count=%{customdata[0]}<extra></extra>",
         "legendgroup": "model",
         "marker": {
          "color": "#91268F",
          "pattern": {
           "shape": ""
          }
         },
         "name": "model",
         "offsetgroup": "model",
         "orientation": "h",
         "showlegend": true,
         "textposition": "auto",
         "type": "bar",
         "x": [
          0.2981227564291179,
          0.0968045665862414,
          5.884776084269993e-05,
          0.3152474548343436,
          0.2852939445654093,
          0.004472429824045195
         ],
         "xaxis": "x5",
         "y": [
          "1: walk",
          "2: bike",
          "4: hov 2",
          "5: hov 3+",
          "6: walk to transit",
          "8: school bus"
         ],
         "yaxis": "y5"
        },
        {
         "alignmentgroup": "True",
         "customdata": [
          [
           11544
          ],
          [
           1237
          ],
          [
           5662
          ],
          [
           17805
          ],
          [
           22923
          ],
          [
           3882
          ],
          [
           41831
          ]
         ],
         "hovertemplate": "source=model<br>auto_ownership_4+=1<br>percentage=%{x}<br>tmodetp_label=%{y}<br>sample count=%{customdata[0]}<extra></extra>",
         "legendgroup": "model",
         "marker": {
          "color": "#91268F",
          "pattern": {
           "shape": ""
          }
         },
         "name": "model",
         "offsetgroup": "model",
         "orientation": "h",
         "showlegend": false,
         "textposition": "auto",
         "type": "bar",
         "x": [
          0.11006445215666832,
          0.011793981922886236,
          0.05398344838106861,
          0.16975897181648297,
          0.2185557377674383,
          0.03701231837077152,
          0.39883108958468405
         ],
         "xaxis": "x6",
         "y": [
          "1: walk",
          "2: bike",
          "3: sov",
          "4: hov 2",
          "5: hov 3+",
          "6: walk to transit",
          "8: school bus"
         ],
         "yaxis": "y6"
        },
        {
         "alignmentgroup": "True",
         "customdata": [
          [
           13133
          ],
          [
           2544
          ],
          [
           13846
          ],
          [
           34570
          ],
          [
           97775
          ],
          [
           6222
          ],
          [
           85400
          ],
          [
           5
          ]
         ],
         "hovertemplate": "source=model<br>auto_ownership_4+=2<br>percentage=%{x}<br>tmodetp_label=%{y}<br>sample count=%{customdata[0]}<extra></extra>",
         "legendgroup": "model",
         "marker": {
          "color": "#91268F",
          "pattern": {
           "shape": ""
          }
         },
         "name": "model",
         "offsetgroup": "model",
         "orientation": "h",
         "showlegend": false,
         "textposition": "auto",
         "type": "bar",
         "x": [
          0.05180772796307619,
          0.01003570090139845,
          0.05462040671413637,
          0.1363734984910945,
          0.38570780488767037,
          0.02454486281780706,
          0.3368902739699008,
          1.972425491627054e-05
         ],
         "xaxis": "x3",
         "y": [
          "1: walk",
          "2: bike",
          "3: sov",
          "4: hov 2",
          "5: hov 3+",
          "6: walk to transit",
          "8: school bus",
          "9: tnc"
         ],
         "yaxis": "y3"
        },
        {
         "alignmentgroup": "True",
         "customdata": [
          [
           5485
          ],
          [
           1112
          ],
          [
           17250
          ],
          [
           16713
          ],
          [
           46664
          ],
          [
           3788
          ],
          [
           40269
          ],
          [
           2
          ]
         ],
         "hovertemplate": "source=model<br>auto_ownership_4+=3<br>percentage=%{x}<br>tmodetp_label=%{y}<br>sample count=%{customdata[0]}<extra></extra>",
         "legendgroup": "model",
         "marker": {
          "color": "#91268F",
          "pattern": {
           "shape": ""
          }
         },
         "name": "model",
         "offsetgroup": "model",
         "orientation": "h",
         "showlegend": false,
         "textposition": "auto",
         "type": "bar",
         "x": [
          0.04177997151192462,
          0.008470251289199668,
          0.1313955348369553,
          0.12730513470898747,
          0.3554458688482134,
          0.028853697736949947,
          0.306734306802861,
          1.5234264908632496e-05
         ],
         "xaxis": "x4",
         "y": [
          "1: walk",
          "2: bike",
          "3: sov",
          "4: hov 2",
          "5: hov 3+",
          "6: walk to transit",
          "8: school bus",
          "9: tnc"
         ],
         "yaxis": "y4"
        },
        {
         "alignmentgroup": "True",
         "customdata": [
          [
           2461
          ],
          [
           534
          ],
          [
           14110
          ],
          [
           7519
          ],
          [
           21920
          ],
          [
           2173
          ],
          [
           19636
          ],
          [
           1
          ]
         ],
         "hovertemplate": "source=model<br>auto_ownership_4+=4+<br>percentage=%{x}<br>tmodetp_label=%{y}<br>sample count=%{customdata[0]}<extra></extra>",
         "legendgroup": "model",
         "marker": {
          "color": "#91268F",
          "pattern": {
           "shape": ""
          }
         },
         "name": "model",
         "offsetgroup": "model",
         "orientation": "h",
         "showlegend": false,
         "textposition": "auto",
         "type": "bar",
         "x": [
          0.036003745208766126,
          0.00781227141059777,
          0.20642537378939052,
          0.11000087778330456,
          0.3206835005998186,
          0.0317903853468707,
          0.287269216139509,
          1.4629721742692455e-05
         ],
         "xaxis": "x",
         "y": [
          "1: walk",
          "2: bike",
          "3: sov",
          "4: hov 2",
          "5: hov 3+",
          "6: walk to transit",
          "8: school bus",
          "9: tnc"
         ],
         "yaxis": "y"
        },
        {
         "alignmentgroup": "True",
         "customdata": [
          [
           8
          ],
          [
           2
          ],
          [
           1
          ],
          [
           6
          ],
          [
           2
          ]
         ],
         "hovertemplate": "source=survey<br>auto_ownership_4+=0<br>percentage=%{x}<br>tmodetp_label=%{y}<br>sample count=%{customdata[0]}<extra></extra>",
         "legendgroup": "survey",
         "marker": {
          "color": "#8CC63E",
          "pattern": {
           "shape": ""
          }
         },
         "name": "survey",
         "offsetgroup": "survey",
         "orientation": "h",
         "showlegend": true,
         "textposition": "auto",
         "type": "bar",
         "x": [
          0.41139757135287486,
          0.1299604277623922,
          0.20466396794113725,
          0.24773321706074286,
          0.006244815882852712
         ],
         "xaxis": "x5",
         "y": [
          "1: walk",
          "2: bike",
          "4: hov 2",
          "6: walk to transit",
          "8: school bus"
         ],
         "yaxis": "y5"
        },
        {
         "alignmentgroup": "True",
         "customdata": [
          [
           21
          ],
          [
           11
          ],
          [
           6
          ],
          [
           19
          ],
          [
           47
          ],
          [
           17
          ],
          [
           36
          ]
         ],
         "hovertemplate": "source=survey<br>auto_ownership_4+=1<br>percentage=%{x}<br>tmodetp_label=%{y}<br>sample count=%{customdata[0]}<extra></extra>",
         "legendgroup": "survey",
         "marker": {
          "color": "#8CC63E",
          "pattern": {
           "shape": ""
          }
         },
         "name": "survey",
         "offsetgroup": "survey",
         "orientation": "h",
         "showlegend": false,
         "textposition": "auto",
         "type": "bar",
         "x": [
          0.13912474757046217,
          0.03480464993194335,
          0.007872546932726435,
          0.18033071839490827,
          0.2913083997261793,
          0.04025875322297495,
          0.3063001842208056
         ],
         "xaxis": "x6",
         "y": [
          "1: walk",
          "2: bike",
          "3: sov",
          "4: hov 2",
          "5: hov 3+",
          "6: walk to transit",
          "8: school bus"
         ],
         "yaxis": "y6"
        },
        {
         "alignmentgroup": "True",
         "customdata": [
          [
           28
          ],
          [
           8
          ],
          [
           14
          ],
          [
           59
          ],
          [
           115
          ],
          [
           20
          ],
          [
           82
          ]
         ],
         "hovertemplate": "source=survey<br>auto_ownership_4+=2<br>percentage=%{x}<br>tmodetp_label=%{y}<br>sample count=%{customdata[0]}<extra></extra>",
         "legendgroup": "survey",
         "marker": {
          "color": "#8CC63E",
          "pattern": {
           "shape": ""
          }
         },
         "name": "survey",
         "offsetgroup": "survey",
         "orientation": "h",
         "showlegend": false,
         "textposition": "auto",
         "type": "bar",
         "x": [
          0.04325749979546238,
          0.01200379191434527,
          0.037871421886209344,
          0.17164400042195146,
          0.3263825477177347,
          0.05485301518339616,
          0.35398772308090076
         ],
         "xaxis": "x3",
         "y": [
          "1: walk",
          "2: bike",
          "3: sov",
          "4: hov 2",
          "5: hov 3+",
          "6: walk to transit",
          "8: school bus"
         ],
         "yaxis": "y3"
        },
        {
         "alignmentgroup": "True",
         "customdata": [
          [
           4
          ],
          [
           2
          ],
          [
           12
          ],
          [
           11
          ],
          [
           29
          ],
          [
           1
          ],
          [
           26
          ]
         ],
         "hovertemplate": "source=survey<br>auto_ownership_4+=3<br>percentage=%{x}<br>tmodetp_label=%{y}<br>sample count=%{customdata[0]}<extra></extra>",
         "legendgroup": "survey",
         "marker": {
          "color": "#8CC63E",
          "pattern": {
           "shape": ""
          }
         },
         "name": "survey",
         "offsetgroup": "survey",
         "orientation": "h",
         "showlegend": false,
         "textposition": "auto",
         "type": "bar",
         "x": [
          0.0867437395601286,
          0.010355781009068615,
          0.09796754086826263,
          0.055396738946801395,
          0.48188541282249375,
          0.013998450567566793,
          0.25365233622567823
         ],
         "xaxis": "x4",
         "y": [
          "1: walk",
          "2: bike",
          "3: sov",
          "4: hov 2",
          "5: hov 3+",
          "6: walk to transit",
          "8: school bus"
         ],
         "yaxis": "y4"
        },
        {
         "alignmentgroup": "True",
         "customdata": [
          [
           1
          ],
          [
           1
          ],
          [
           10
          ],
          [
           4
          ],
          [
           2
          ],
          [
           2
          ],
          [
           5
          ]
         ],
         "hovertemplate": "source=survey<br>auto_ownership_4+=4+<br>percentage=%{x}<br>tmodetp_label=%{y}<br>sample count=%{customdata[0]}<extra></extra>",
         "legendgroup": "survey",
         "marker": {
          "color": "#8CC63E",
          "pattern": {
           "shape": ""
          }
         },
         "name": "survey",
         "offsetgroup": "survey",
         "orientation": "h",
         "showlegend": false,
         "textposition": "auto",
         "type": "bar",
         "x": [
          0.04114829910172345,
          0.0032123524955210265,
          0.5172447338952704,
          0.2259650069441146,
          0.18387524809372977,
          0.010016668517170979,
          0.01853769095246984
         ],
         "xaxis": "x",
         "y": [
          "1: walk",
          "2: bike",
          "3: sov",
          "4: hov 2",
          "5: hov 3+",
          "6: walk to transit",
          "8: school bus"
         ],
         "yaxis": "y"
        },
        {
         "alignmentgroup": "True",
         "customdata": [
          [
           20
          ],
          [
           8
          ],
          [
           4
          ],
          [
           45
          ],
          [
           2
          ],
          [
           4
          ]
         ],
         "hovertemplate": "source=survey (2017/2019)<br>auto_ownership_4+=0<br>percentage=%{x}<br>tmodetp_label=%{y}<br>sample count=%{customdata[0]}<extra></extra>",
         "legendgroup": "survey (2017/2019)",
         "marker": {
          "color": "#00A7A0",
          "pattern": {
           "shape": ""
          }
         },
         "name": "survey (2017/2019)",
         "offsetgroup": "survey (2017/2019)",
         "orientation": "h",
         "showlegend": true,
         "textposition": "auto",
         "type": "bar",
         "x": [
          0.13058034877455424,
          0.060121612242636464,
          0.3062945194096224,
          0.4612202021003567,
          0.022919793302780947,
          0.018863524170049252
         ],
         "xaxis": "x5",
         "y": [
          "1: walk",
          "2: bike",
          "4: hov 2",
          "6: walk to transit",
          "8: school bus",
          "9: tnc"
         ],
         "yaxis": "y5"
        },
        {
         "alignmentgroup": "True",
         "customdata": [
          [
           43
          ],
          [
           16
          ],
          [
           30
          ],
          [
           60
          ],
          [
           58
          ],
          [
           83
          ],
          [
           42
          ],
          [
           1
          ]
         ],
         "hovertemplate": "source=survey (2017/2019)<br>auto_ownership_4+=1<br>percentage=%{x}<br>tmodetp_label=%{y}<br>sample count=%{customdata[0]}<extra></extra>",
         "legendgroup": "survey (2017/2019)",
         "marker": {
          "color": "#00A7A0",
          "pattern": {
           "shape": ""
          }
         },
         "name": "survey (2017/2019)",
         "offsetgroup": "survey (2017/2019)",
         "orientation": "h",
         "showlegend": false,
         "textposition": "auto",
         "type": "bar",
         "x": [
          0.24983542386986718,
          0.012308812526712978,
          0.10113431621061052,
          0.15688725111456592,
          0.1512330383666348,
          0.14242843394546467,
          0.18049711402949117,
          0.00567560993665269
         ],
         "xaxis": "x6",
         "y": [
          "1: walk",
          "2: bike",
          "3: sov",
          "4: hov 2",
          "5: hov 3+",
          "6: walk to transit",
          "8: school bus",
          "9: tnc"
         ],
         "yaxis": "y6"
        },
        {
         "alignmentgroup": "True",
         "customdata": [
          [
           38
          ],
          [
           6
          ],
          [
           28
          ],
          [
           98
          ],
          [
           189
          ],
          [
           55
          ],
          [
           1
          ],
          [
           110
          ],
          [
           2
          ]
         ],
         "hovertemplate": "source=survey (2017/2019)<br>auto_ownership_4+=2<br>percentage=%{x}<br>tmodetp_label=%{y}<br>sample count=%{customdata[0]}<extra></extra>",
         "legendgroup": "survey (2017/2019)",
         "marker": {
          "color": "#00A7A0",
          "pattern": {
           "shape": ""
          }
         },
         "name": "survey (2017/2019)",
         "offsetgroup": "survey (2017/2019)",
         "orientation": "h",
         "showlegend": false,
         "textposition": "auto",
         "type": "bar",
         "x": [
          0.07393160579026403,
          0.006163432983609144,
          0.03898412853159825,
          0.10733510883496576,
          0.4326347278040166,
          0.09376214261083465,
          5.074242144391685e-05,
          0.24592344745850914,
          0.001214663564758493
         ],
         "xaxis": "x3",
         "y": [
          "1: walk",
          "2: bike",
          "3: sov",
          "4: hov 2",
          "5: hov 3+",
          "6: walk to transit",
          "7: park-and-ride",
          "8: school bus",
          "9: tnc"
         ],
         "yaxis": "y3"
        },
        {
         "alignmentgroup": "True",
         "customdata": [
          [
           7
          ],
          [
           1
          ],
          [
           12
          ],
          [
           27
          ],
          [
           54
          ],
          [
           8
          ],
          [
           26
          ],
          [
           1
          ]
         ],
         "hovertemplate": "source=survey (2017/2019)<br>auto_ownership_4+=3<br>percentage=%{x}<br>tmodetp_label=%{y}<br>sample count=%{customdata[0]}<extra></extra>",
         "legendgroup": "survey (2017/2019)",
         "marker": {
          "color": "#00A7A0",
          "pattern": {
           "shape": ""
          }
         },
         "name": "survey (2017/2019)",
         "offsetgroup": "survey (2017/2019)",
         "orientation": "h",
         "showlegend": false,
         "textposition": "auto",
         "type": "bar",
         "x": [
          0.007985384832702688,
          0.000353348077129193,
          0.10418649953046306,
          0.19366124444293145,
          0.4341093079431265,
          0.05781324251905241,
          0.19501130325530922,
          0.006879669399285464
         ],
         "xaxis": "x4",
         "y": [
          "1: walk",
          "2: bike",
          "3: sov",
          "4: hov 2",
          "5: hov 3+",
          "6: walk to transit",
          "8: school bus",
          "9: tnc"
         ],
         "yaxis": "y4"
        },
        {
         "alignmentgroup": "True",
         "customdata": [
          [
           1
          ],
          [
           10
          ],
          [
           9
          ],
          [
           9
          ],
          [
           3
          ],
          [
           1
          ],
          [
           10
          ]
         ],
         "hovertemplate": "source=survey (2017/2019)<br>auto_ownership_4+=4+<br>percentage=%{x}<br>tmodetp_label=%{y}<br>sample count=%{customdata[0]}<extra></extra>",
         "legendgroup": "survey (2017/2019)",
         "marker": {
          "color": "#00A7A0",
          "pattern": {
           "shape": ""
          }
         },
         "name": "survey (2017/2019)",
         "offsetgroup": "survey (2017/2019)",
         "orientation": "h",
         "showlegend": false,
         "textposition": "auto",
         "type": "bar",
         "x": [
          0.05577421438724082,
          0.2264476973334553,
          0.2884571246788322,
          0.16901433613596123,
          0.009710585080346543,
          0.10107654614553405,
          0.14951949623862987
         ],
         "xaxis": "x",
         "y": [
          "1: walk",
          "3: sov",
          "4: hov 2",
          "5: hov 3+",
          "6: walk to transit",
          "7: park-and-ride",
          "8: school bus"
         ],
         "yaxis": "y"
        }
       ],
       "layout": {
        "annotations": [
         {
          "font": {},
          "showarrow": false,
          "text": "4+",
          "x": 0.245,
          "xanchor": "center",
          "xref": "paper",
          "y": 0.2866666666666666,
          "yanchor": "bottom",
          "yref": "paper"
         },
         {
          "font": {},
          "showarrow": false,
          "text": "2",
          "x": 0.245,
          "xanchor": "center",
          "xref": "paper",
          "y": 0.6433333333333333,
          "yanchor": "bottom",
          "yref": "paper"
         },
         {
          "font": {},
          "showarrow": false,
          "text": "3",
          "x": 0.755,
          "xanchor": "center",
          "xref": "paper",
          "y": 0.6433333333333333,
          "yanchor": "bottom",
          "yref": "paper"
         },
         {
          "font": {},
          "showarrow": false,
          "text": "0",
          "x": 0.245,
          "xanchor": "center",
          "xref": "paper",
          "y": 0.9999999999999999,
          "yanchor": "bottom",
          "yref": "paper"
         },
         {
          "font": {},
          "showarrow": false,
          "text": "1",
          "x": 0.755,
          "xanchor": "center",
          "xref": "paper",
          "y": 0.9999999999999999,
          "yanchor": "bottom",
          "yref": "paper"
         }
        ],
        "barmode": "group",
        "height": 800,
        "legend": {
         "title": {
          "text": "source"
         },
         "tracegroupgap": 0
        },
        "template": {
         "data": {
          "bar": [
           {
            "error_x": {
             "color": "rgb(36,36,36)"
            },
            "error_y": {
             "color": "rgb(36,36,36)"
            },
            "marker": {
             "line": {
              "color": "white",
              "width": 0.5
             },
             "pattern": {
              "fillmode": "overlay",
              "size": 10,
              "solidity": 0.2
             }
            },
            "type": "bar"
           }
          ],
          "barpolar": [
           {
            "marker": {
             "line": {
              "color": "white",
              "width": 0.5
             },
             "pattern": {
              "fillmode": "overlay",
              "size": 10,
              "solidity": 0.2
             }
            },
            "type": "barpolar"
           }
          ],
          "carpet": [
           {
            "aaxis": {
             "endlinecolor": "rgb(36,36,36)",
             "gridcolor": "white",
             "linecolor": "white",
             "minorgridcolor": "white",
             "startlinecolor": "rgb(36,36,36)"
            },
            "baxis": {
             "endlinecolor": "rgb(36,36,36)",
             "gridcolor": "white",
             "linecolor": "white",
             "minorgridcolor": "white",
             "startlinecolor": "rgb(36,36,36)"
            },
            "type": "carpet"
           }
          ],
          "choropleth": [
           {
            "colorbar": {
             "outlinewidth": 1,
             "tickcolor": "rgb(36,36,36)",
             "ticks": "outside"
            },
            "type": "choropleth"
           }
          ],
          "contour": [
           {
            "colorbar": {
             "outlinewidth": 1,
             "tickcolor": "rgb(36,36,36)",
             "ticks": "outside"
            },
            "colorscale": [
             [
              0.0,
              "#440154"
             ],
             [
              0.1111111111111111,
              "#482878"
             ],
             [
              0.2222222222222222,
              "#3e4989"
             ],
             [
              0.3333333333333333,
              "#31688e"
             ],
             [
              0.4444444444444444,
              "#26828e"
             ],
             [
              0.5555555555555556,
              "#1f9e89"
             ],
             [
              0.6666666666666666,
              "#35b779"
             ],
             [
              0.7777777777777778,
              "#6ece58"
             ],
             [
              0.8888888888888888,
              "#b5de2b"
             ],
             [
              1.0,
              "#fde725"
             ]
            ],
            "type": "contour"
           }
          ],
          "contourcarpet": [
           {
            "colorbar": {
             "outlinewidth": 1,
             "tickcolor": "rgb(36,36,36)",
             "ticks": "outside"
            },
            "type": "contourcarpet"
           }
          ],
          "heatmap": [
           {
            "colorbar": {
             "outlinewidth": 1,
             "tickcolor": "rgb(36,36,36)",
             "ticks": "outside"
            },
            "colorscale": [
             [
              0.0,
              "#440154"
             ],
             [
              0.1111111111111111,
              "#482878"
             ],
             [
              0.2222222222222222,
              "#3e4989"
             ],
             [
              0.3333333333333333,
              "#31688e"
             ],
             [
              0.4444444444444444,
              "#26828e"
             ],
             [
              0.5555555555555556,
              "#1f9e89"
             ],
             [
              0.6666666666666666,
              "#35b779"
             ],
             [
              0.7777777777777778,
              "#6ece58"
             ],
             [
              0.8888888888888888,
              "#b5de2b"
             ],
             [
              1.0,
              "#fde725"
             ]
            ],
            "type": "heatmap"
           }
          ],
          "heatmapgl": [
           {
            "colorbar": {
             "outlinewidth": 1,
             "tickcolor": "rgb(36,36,36)",
             "ticks": "outside"
            },
            "colorscale": [
             [
              0.0,
              "#440154"
             ],
             [
              0.1111111111111111,
              "#482878"
             ],
             [
              0.2222222222222222,
              "#3e4989"
             ],
             [
              0.3333333333333333,
              "#31688e"
             ],
             [
              0.4444444444444444,
              "#26828e"
             ],
             [
              0.5555555555555556,
              "#1f9e89"
             ],
             [
              0.6666666666666666,
              "#35b779"
             ],
             [
              0.7777777777777778,
              "#6ece58"
             ],
             [
              0.8888888888888888,
              "#b5de2b"
             ],
             [
              1.0,
              "#fde725"
             ]
            ],
            "type": "heatmapgl"
           }
          ],
          "histogram": [
           {
            "marker": {
             "line": {
              "color": "white",
              "width": 0.6
             }
            },
            "type": "histogram"
           }
          ],
          "histogram2d": [
           {
            "colorbar": {
             "outlinewidth": 1,
             "tickcolor": "rgb(36,36,36)",
             "ticks": "outside"
            },
            "colorscale": [
             [
              0.0,
              "#440154"
             ],
             [
              0.1111111111111111,
              "#482878"
             ],
             [
              0.2222222222222222,
              "#3e4989"
             ],
             [
              0.3333333333333333,
              "#31688e"
             ],
             [
              0.4444444444444444,
              "#26828e"
             ],
             [
              0.5555555555555556,
              "#1f9e89"
             ],
             [
              0.6666666666666666,
              "#35b779"
             ],
             [
              0.7777777777777778,
              "#6ece58"
             ],
             [
              0.8888888888888888,
              "#b5de2b"
             ],
             [
              1.0,
              "#fde725"
             ]
            ],
            "type": "histogram2d"
           }
          ],
          "histogram2dcontour": [
           {
            "colorbar": {
             "outlinewidth": 1,
             "tickcolor": "rgb(36,36,36)",
             "ticks": "outside"
            },
            "colorscale": [
             [
              0.0,
              "#440154"
             ],
             [
              0.1111111111111111,
              "#482878"
             ],
             [
              0.2222222222222222,
              "#3e4989"
             ],
             [
              0.3333333333333333,
              "#31688e"
             ],
             [
              0.4444444444444444,
              "#26828e"
             ],
             [
              0.5555555555555556,
              "#1f9e89"
             ],
             [
              0.6666666666666666,
              "#35b779"
             ],
             [
              0.7777777777777778,
              "#6ece58"
             ],
             [
              0.8888888888888888,
              "#b5de2b"
             ],
             [
              1.0,
              "#fde725"
             ]
            ],
            "type": "histogram2dcontour"
           }
          ],
          "mesh3d": [
           {
            "colorbar": {
             "outlinewidth": 1,
             "tickcolor": "rgb(36,36,36)",
             "ticks": "outside"
            },
            "type": "mesh3d"
           }
          ],
          "parcoords": [
           {
            "line": {
             "colorbar": {
              "outlinewidth": 1,
              "tickcolor": "rgb(36,36,36)",
              "ticks": "outside"
             }
            },
            "type": "parcoords"
           }
          ],
          "pie": [
           {
            "automargin": true,
            "type": "pie"
           }
          ],
          "scatter": [
           {
            "fillpattern": {
             "fillmode": "overlay",
             "size": 10,
             "solidity": 0.2
            },
            "type": "scatter"
           }
          ],
          "scatter3d": [
           {
            "line": {
             "colorbar": {
              "outlinewidth": 1,
              "tickcolor": "rgb(36,36,36)",
              "ticks": "outside"
             }
            },
            "marker": {
             "colorbar": {
              "outlinewidth": 1,
              "tickcolor": "rgb(36,36,36)",
              "ticks": "outside"
             }
            },
            "type": "scatter3d"
           }
          ],
          "scattercarpet": [
           {
            "marker": {
             "colorbar": {
              "outlinewidth": 1,
              "tickcolor": "rgb(36,36,36)",
              "ticks": "outside"
             }
            },
            "type": "scattercarpet"
           }
          ],
          "scattergeo": [
           {
            "marker": {
             "colorbar": {
              "outlinewidth": 1,
              "tickcolor": "rgb(36,36,36)",
              "ticks": "outside"
             }
            },
            "type": "scattergeo"
           }
          ],
          "scattergl": [
           {
            "marker": {
             "colorbar": {
              "outlinewidth": 1,
              "tickcolor": "rgb(36,36,36)",
              "ticks": "outside"
             }
            },
            "type": "scattergl"
           }
          ],
          "scattermapbox": [
           {
            "marker": {
             "colorbar": {
              "outlinewidth": 1,
              "tickcolor": "rgb(36,36,36)",
              "ticks": "outside"
             }
            },
            "type": "scattermapbox"
           }
          ],
          "scatterpolar": [
           {
            "marker": {
             "colorbar": {
              "outlinewidth": 1,
              "tickcolor": "rgb(36,36,36)",
              "ticks": "outside"
             }
            },
            "type": "scatterpolar"
           }
          ],
          "scatterpolargl": [
           {
            "marker": {
             "colorbar": {
              "outlinewidth": 1,
              "tickcolor": "rgb(36,36,36)",
              "ticks": "outside"
             }
            },
            "type": "scatterpolargl"
           }
          ],
          "scatterternary": [
           {
            "marker": {
             "colorbar": {
              "outlinewidth": 1,
              "tickcolor": "rgb(36,36,36)",
              "ticks": "outside"
             }
            },
            "type": "scatterternary"
           }
          ],
          "surface": [
           {
            "colorbar": {
             "outlinewidth": 1,
             "tickcolor": "rgb(36,36,36)",
             "ticks": "outside"
            },
            "colorscale": [
             [
              0.0,
              "#440154"
             ],
             [
              0.1111111111111111,
              "#482878"
             ],
             [
              0.2222222222222222,
              "#3e4989"
             ],
             [
              0.3333333333333333,
              "#31688e"
             ],
             [
              0.4444444444444444,
              "#26828e"
             ],
             [
              0.5555555555555556,
              "#1f9e89"
             ],
             [
              0.6666666666666666,
              "#35b779"
             ],
             [
              0.7777777777777778,
              "#6ece58"
             ],
             [
              0.8888888888888888,
              "#b5de2b"
             ],
             [
              1.0,
              "#fde725"
             ]
            ],
            "type": "surface"
           }
          ],
          "table": [
           {
            "cells": {
             "fill": {
              "color": "rgb(237,237,237)"
             },
             "line": {
              "color": "white"
             }
            },
            "header": {
             "fill": {
              "color": "rgb(217,217,217)"
             },
             "line": {
              "color": "white"
             }
            },
            "type": "table"
           }
          ]
         },
         "layout": {
          "annotationdefaults": {
           "arrowhead": 0,
           "arrowwidth": 1
          },
          "autotypenumbers": "strict",
          "coloraxis": {
           "colorbar": {
            "outlinewidth": 1,
            "tickcolor": "rgb(36,36,36)",
            "ticks": "outside"
           }
          },
          "colorscale": {
           "diverging": [
            [
             0.0,
             "rgb(103,0,31)"
            ],
            [
             0.1,
             "rgb(178,24,43)"
            ],
            [
             0.2,
             "rgb(214,96,77)"
            ],
            [
             0.3,
             "rgb(244,165,130)"
            ],
            [
             0.4,
             "rgb(253,219,199)"
            ],
            [
             0.5,
             "rgb(247,247,247)"
            ],
            [
             0.6,
             "rgb(209,229,240)"
            ],
            [
             0.7,
             "rgb(146,197,222)"
            ],
            [
             0.8,
             "rgb(67,147,195)"
            ],
            [
             0.9,
             "rgb(33,102,172)"
            ],
            [
             1.0,
             "rgb(5,48,97)"
            ]
           ],
           "sequential": [
            [
             0.0,
             "#440154"
            ],
            [
             0.1111111111111111,
             "#482878"
            ],
            [
             0.2222222222222222,
             "#3e4989"
            ],
            [
             0.3333333333333333,
             "#31688e"
            ],
            [
             0.4444444444444444,
             "#26828e"
            ],
            [
             0.5555555555555556,
             "#1f9e89"
            ],
            [
             0.6666666666666666,
             "#35b779"
            ],
            [
             0.7777777777777778,
             "#6ece58"
            ],
            [
             0.8888888888888888,
             "#b5de2b"
            ],
            [
             1.0,
             "#fde725"
            ]
           ],
           "sequentialminus": [
            [
             0.0,
             "#440154"
            ],
            [
             0.1111111111111111,
             "#482878"
            ],
            [
             0.2222222222222222,
             "#3e4989"
            ],
            [
             0.3333333333333333,
             "#31688e"
            ],
            [
             0.4444444444444444,
             "#26828e"
            ],
            [
             0.5555555555555556,
             "#1f9e89"
            ],
            [
             0.6666666666666666,
             "#35b779"
            ],
            [
             0.7777777777777778,
             "#6ece58"
            ],
            [
             0.8888888888888888,
             "#b5de2b"
            ],
            [
             1.0,
             "#fde725"
            ]
           ]
          },
          "colorway": [
           "#91268F",
           "#8CC63E",
           "#00A7A0",
           "#F05A28",
           "#4C4C4C",
           "#630460",
           "#9f3913",
           "#588527",
           "#00716c",
           "#3e4040"
          ],
          "font": {
           "color": "rgb(36,36,36)",
           "family": "Poppins",
           "size": 11
          },
          "geo": {
           "bgcolor": "white",
           "lakecolor": "white",
           "landcolor": "white",
           "showlakes": true,
           "showland": true,
           "subunitcolor": "white"
          },
          "hoverlabel": {
           "align": "left"
          },
          "hovermode": "closest",
          "mapbox": {
           "style": "light"
          },
          "paper_bgcolor": "white",
          "plot_bgcolor": "white",
          "polar": {
           "angularaxis": {
            "gridcolor": "rgb(232,232,232)",
            "linecolor": "rgb(36,36,36)",
            "showgrid": false,
            "showline": true,
            "ticks": "outside"
           },
           "bgcolor": "white",
           "radialaxis": {
            "gridcolor": "rgb(232,232,232)",
            "linecolor": "rgb(36,36,36)",
            "showgrid": false,
            "showline": true,
            "ticks": "outside"
           }
          },
          "scene": {
           "xaxis": {
            "backgroundcolor": "white",
            "gridcolor": "rgb(232,232,232)",
            "gridwidth": 2,
            "linecolor": "rgb(36,36,36)",
            "showbackground": true,
            "showgrid": false,
            "showline": true,
            "ticks": "outside",
            "zeroline": false,
            "zerolinecolor": "rgb(36,36,36)"
           },
           "yaxis": {
            "backgroundcolor": "white",
            "gridcolor": "rgb(232,232,232)",
            "gridwidth": 2,
            "linecolor": "rgb(36,36,36)",
            "showbackground": true,
            "showgrid": false,
            "showline": true,
            "ticks": "outside",
            "zeroline": false,
            "zerolinecolor": "rgb(36,36,36)"
           },
           "zaxis": {
            "backgroundcolor": "white",
            "gridcolor": "rgb(232,232,232)",
            "gridwidth": 2,
            "linecolor": "rgb(36,36,36)",
            "showbackground": true,
            "showgrid": false,
            "showline": true,
            "ticks": "outside",
            "zeroline": false,
            "zerolinecolor": "rgb(36,36,36)"
           }
          },
          "shapedefaults": {
           "fillcolor": "black",
           "line": {
            "width": 0
           },
           "opacity": 0.3
          },
          "ternary": {
           "aaxis": {
            "gridcolor": "rgb(232,232,232)",
            "linecolor": "rgb(36,36,36)",
            "showgrid": false,
            "showline": true,
            "ticks": "outside"
           },
           "baxis": {
            "gridcolor": "rgb(232,232,232)",
            "linecolor": "rgb(36,36,36)",
            "showgrid": false,
            "showline": true,
            "ticks": "outside"
           },
           "bgcolor": "white",
           "caxis": {
            "gridcolor": "rgb(232,232,232)",
            "linecolor": "rgb(36,36,36)",
            "showgrid": false,
            "showline": true,
            "ticks": "outside"
           }
          },
          "title": {
           "x": 0.05
          },
          "xaxis": {
           "automargin": true,
           "gridcolor": "rgb(232,232,232)",
           "linecolor": "rgb(36,36,36)",
           "showgrid": false,
           "showline": true,
           "ticks": "outside",
           "title": {
            "standoff": 15
           },
           "zeroline": false,
           "zerolinecolor": "rgb(36,36,36)"
          },
          "yaxis": {
           "automargin": true,
           "gridcolor": "rgb(232,232,232)",
           "linecolor": "rgb(36,36,36)",
           "showgrid": false,
           "showline": true,
           "ticks": "outside",
           "title": {
            "standoff": 15
           },
           "zeroline": false,
           "zerolinecolor": "rgb(36,36,36)"
          }
         }
        },
        "title": {
         "text": "school tour mode choice by auto ownership"
        },
        "width": 800,
        "xaxis": {
         "anchor": "y",
         "domain": [
          0.0,
          0.49
         ],
         "tickformat": ".1%",
         "title": {
          "text": "percentage"
         }
        },
        "xaxis2": {
         "anchor": "y2",
         "domain": [
          0.51,
          1.0
         ],
         "matches": "x",
         "tickformat": ".1%",
         "title": {
          "text": "percentage"
         }
        },
        "xaxis3": {
         "anchor": "y3",
         "domain": [
          0.0,
          0.49
         ],
         "matches": "x",
         "showticklabels": false,
         "tickformat": ".1%"
        },
        "xaxis4": {
         "anchor": "y4",
         "domain": [
          0.51,
          1.0
         ],
         "matches": "x",
         "showticklabels": false,
         "tickformat": ".1%"
        },
        "xaxis5": {
         "anchor": "y5",
         "domain": [
          0.0,
          0.49
         ],
         "matches": "x",
         "showticklabels": false,
         "tickformat": ".1%"
        },
        "xaxis6": {
         "anchor": "y6",
         "domain": [
          0.51,
          1.0
         ],
         "matches": "x",
         "showticklabels": false,
         "tickformat": ".1%"
        },
        "yaxis": {
         "anchor": "x",
         "categoryarray": [
          "9: other–survey only",
          "8: school bus",
          "7: park-and-ride",
          "6: walk to transit",
          "5: hov 3+",
          "4: hov 2",
          "3: sov",
          "2: bike",
          "1: walk"
         ],
         "categoryorder": "array",
         "domain": [
          0.0,
          0.2866666666666666
         ],
         "title": {
          "text": "tmodetp_label"
         }
        },
        "yaxis2": {
         "anchor": "x2",
         "domain": [
          0.0,
          0.2866666666666666
         ],
         "matches": "y",
         "showticklabels": false
        },
        "yaxis3": {
         "anchor": "x3",
         "categoryarray": [
          "9: other–survey only",
          "8: school bus",
          "7: park-and-ride",
          "6: walk to transit",
          "5: hov 3+",
          "4: hov 2",
          "3: sov",
          "2: bike",
          "1: walk"
         ],
         "categoryorder": "array",
         "domain": [
          0.35666666666666663,
          0.6433333333333333
         ],
         "matches": "y",
         "title": {
          "text": "tmodetp_label"
         }
        },
        "yaxis4": {
         "anchor": "x4",
         "domain": [
          0.35666666666666663,
          0.6433333333333333
         ],
         "matches": "y",
         "showticklabels": false
        },
        "yaxis5": {
         "anchor": "x5",
         "categoryarray": [
          "9: other–survey only",
          "8: school bus",
          "7: park-and-ride",
          "6: walk to transit",
          "5: hov 3+",
          "4: hov 2",
          "3: sov",
          "2: bike",
          "1: walk"
         ],
         "categoryorder": "array",
         "domain": [
          0.7133333333333333,
          0.9999999999999999
         ],
         "matches": "y",
         "title": {
          "text": "tmodetp_label"
         }
        },
        "yaxis6": {
         "anchor": "x6",
         "domain": [
          0.7133333333333333,
          0.9999999999999999
         ],
         "matches": "y",
         "showticklabels": false
        }
       }
      },
      "text/html": [
       "<div>                            <div id=\"8f77e375-de51-46ac-a35a-22cf2bd9e998\" class=\"plotly-graph-div\" style=\"height:800px; width:800px;\"></div>            <script type=\"text/javascript\">                require([\"plotly\"], function(Plotly) {                    window.PLOTLYENV=window.PLOTLYENV || {};                                    if (document.getElementById(\"8f77e375-de51-46ac-a35a-22cf2bd9e998\")) {                    Plotly.newPlot(                        \"8f77e375-de51-46ac-a35a-22cf2bd9e998\",                        [{\"alignmentgroup\":\"True\",\"customdata\":[[5066],[1645],[1],[5357],[4848],[76]],\"hovertemplate\":\"source=model\\u003cbr\\u003eauto_ownership_4+=0\\u003cbr\\u003epercentage=%{x}\\u003cbr\\u003etmodetp_label=%{y}\\u003cbr\\u003esample count=%{customdata[0]}\\u003cextra\\u003e\\u003c\\u002fextra\\u003e\",\"legendgroup\":\"model\",\"marker\":{\"color\":\"#91268F\",\"pattern\":{\"shape\":\"\"}},\"name\":\"model\",\"offsetgroup\":\"model\",\"orientation\":\"h\",\"showlegend\":true,\"textposition\":\"auto\",\"x\":[0.2981227564291179,0.0968045665862414,5.884776084269993e-05,0.3152474548343436,0.2852939445654093,0.004472429824045195],\"xaxis\":\"x5\",\"y\":[\"1: walk\",\"2: bike\",\"4: hov 2\",\"5: hov 3+\",\"6: walk to transit\",\"8: school bus\"],\"yaxis\":\"y5\",\"type\":\"bar\"},{\"alignmentgroup\":\"True\",\"customdata\":[[11544],[1237],[5662],[17805],[22923],[3882],[41831]],\"hovertemplate\":\"source=model\\u003cbr\\u003eauto_ownership_4+=1\\u003cbr\\u003epercentage=%{x}\\u003cbr\\u003etmodetp_label=%{y}\\u003cbr\\u003esample count=%{customdata[0]}\\u003cextra\\u003e\\u003c\\u002fextra\\u003e\",\"legendgroup\":\"model\",\"marker\":{\"color\":\"#91268F\",\"pattern\":{\"shape\":\"\"}},\"name\":\"model\",\"offsetgroup\":\"model\",\"orientation\":\"h\",\"showlegend\":false,\"textposition\":\"auto\",\"x\":[0.11006445215666832,0.011793981922886236,0.05398344838106861,0.16975897181648297,0.2185557377674383,0.03701231837077152,0.39883108958468405],\"xaxis\":\"x6\",\"y\":[\"1: walk\",\"2: bike\",\"3: sov\",\"4: hov 2\",\"5: hov 3+\",\"6: walk to transit\",\"8: school bus\"],\"yaxis\":\"y6\",\"type\":\"bar\"},{\"alignmentgroup\":\"True\",\"customdata\":[[13133],[2544],[13846],[34570],[97775],[6222],[85400],[5]],\"hovertemplate\":\"source=model\\u003cbr\\u003eauto_ownership_4+=2\\u003cbr\\u003epercentage=%{x}\\u003cbr\\u003etmodetp_label=%{y}\\u003cbr\\u003esample count=%{customdata[0]}\\u003cextra\\u003e\\u003c\\u002fextra\\u003e\",\"legendgroup\":\"model\",\"marker\":{\"color\":\"#91268F\",\"pattern\":{\"shape\":\"\"}},\"name\":\"model\",\"offsetgroup\":\"model\",\"orientation\":\"h\",\"showlegend\":false,\"textposition\":\"auto\",\"x\":[0.05180772796307619,0.01003570090139845,0.05462040671413637,0.1363734984910945,0.38570780488767037,0.02454486281780706,0.3368902739699008,1.972425491627054e-05],\"xaxis\":\"x3\",\"y\":[\"1: walk\",\"2: bike\",\"3: sov\",\"4: hov 2\",\"5: hov 3+\",\"6: walk to transit\",\"8: school bus\",\"9: tnc\"],\"yaxis\":\"y3\",\"type\":\"bar\"},{\"alignmentgroup\":\"True\",\"customdata\":[[5485],[1112],[17250],[16713],[46664],[3788],[40269],[2]],\"hovertemplate\":\"source=model\\u003cbr\\u003eauto_ownership_4+=3\\u003cbr\\u003epercentage=%{x}\\u003cbr\\u003etmodetp_label=%{y}\\u003cbr\\u003esample count=%{customdata[0]}\\u003cextra\\u003e\\u003c\\u002fextra\\u003e\",\"legendgroup\":\"model\",\"marker\":{\"color\":\"#91268F\",\"pattern\":{\"shape\":\"\"}},\"name\":\"model\",\"offsetgroup\":\"model\",\"orientation\":\"h\",\"showlegend\":false,\"textposition\":\"auto\",\"x\":[0.04177997151192462,0.008470251289199668,0.1313955348369553,0.12730513470898747,0.3554458688482134,0.028853697736949947,0.306734306802861,1.5234264908632496e-05],\"xaxis\":\"x4\",\"y\":[\"1: walk\",\"2: bike\",\"3: sov\",\"4: hov 2\",\"5: hov 3+\",\"6: walk to transit\",\"8: school bus\",\"9: tnc\"],\"yaxis\":\"y4\",\"type\":\"bar\"},{\"alignmentgroup\":\"True\",\"customdata\":[[2461],[534],[14110],[7519],[21920],[2173],[19636],[1]],\"hovertemplate\":\"source=model\\u003cbr\\u003eauto_ownership_4+=4+\\u003cbr\\u003epercentage=%{x}\\u003cbr\\u003etmodetp_label=%{y}\\u003cbr\\u003esample count=%{customdata[0]}\\u003cextra\\u003e\\u003c\\u002fextra\\u003e\",\"legendgroup\":\"model\",\"marker\":{\"color\":\"#91268F\",\"pattern\":{\"shape\":\"\"}},\"name\":\"model\",\"offsetgroup\":\"model\",\"orientation\":\"h\",\"showlegend\":false,\"textposition\":\"auto\",\"x\":[0.036003745208766126,0.00781227141059777,0.20642537378939052,0.11000087778330456,0.3206835005998186,0.0317903853468707,0.287269216139509,1.4629721742692455e-05],\"xaxis\":\"x\",\"y\":[\"1: walk\",\"2: bike\",\"3: sov\",\"4: hov 2\",\"5: hov 3+\",\"6: walk to transit\",\"8: school bus\",\"9: tnc\"],\"yaxis\":\"y\",\"type\":\"bar\"},{\"alignmentgroup\":\"True\",\"customdata\":[[8],[2],[1],[6],[2]],\"hovertemplate\":\"source=survey\\u003cbr\\u003eauto_ownership_4+=0\\u003cbr\\u003epercentage=%{x}\\u003cbr\\u003etmodetp_label=%{y}\\u003cbr\\u003esample count=%{customdata[0]}\\u003cextra\\u003e\\u003c\\u002fextra\\u003e\",\"legendgroup\":\"survey\",\"marker\":{\"color\":\"#8CC63E\",\"pattern\":{\"shape\":\"\"}},\"name\":\"survey\",\"offsetgroup\":\"survey\",\"orientation\":\"h\",\"showlegend\":true,\"textposition\":\"auto\",\"x\":[0.41139757135287486,0.1299604277623922,0.20466396794113725,0.24773321706074286,0.006244815882852712],\"xaxis\":\"x5\",\"y\":[\"1: walk\",\"2: bike\",\"4: hov 2\",\"6: walk to transit\",\"8: school bus\"],\"yaxis\":\"y5\",\"type\":\"bar\"},{\"alignmentgroup\":\"True\",\"customdata\":[[21],[11],[6],[19],[47],[17],[36]],\"hovertemplate\":\"source=survey\\u003cbr\\u003eauto_ownership_4+=1\\u003cbr\\u003epercentage=%{x}\\u003cbr\\u003etmodetp_label=%{y}\\u003cbr\\u003esample count=%{customdata[0]}\\u003cextra\\u003e\\u003c\\u002fextra\\u003e\",\"legendgroup\":\"survey\",\"marker\":{\"color\":\"#8CC63E\",\"pattern\":{\"shape\":\"\"}},\"name\":\"survey\",\"offsetgroup\":\"survey\",\"orientation\":\"h\",\"showlegend\":false,\"textposition\":\"auto\",\"x\":[0.13912474757046217,0.03480464993194335,0.007872546932726435,0.18033071839490827,0.2913083997261793,0.04025875322297495,0.3063001842208056],\"xaxis\":\"x6\",\"y\":[\"1: walk\",\"2: bike\",\"3: sov\",\"4: hov 2\",\"5: hov 3+\",\"6: walk to transit\",\"8: school bus\"],\"yaxis\":\"y6\",\"type\":\"bar\"},{\"alignmentgroup\":\"True\",\"customdata\":[[28],[8],[14],[59],[115],[20],[82]],\"hovertemplate\":\"source=survey\\u003cbr\\u003eauto_ownership_4+=2\\u003cbr\\u003epercentage=%{x}\\u003cbr\\u003etmodetp_label=%{y}\\u003cbr\\u003esample count=%{customdata[0]}\\u003cextra\\u003e\\u003c\\u002fextra\\u003e\",\"legendgroup\":\"survey\",\"marker\":{\"color\":\"#8CC63E\",\"pattern\":{\"shape\":\"\"}},\"name\":\"survey\",\"offsetgroup\":\"survey\",\"orientation\":\"h\",\"showlegend\":false,\"textposition\":\"auto\",\"x\":[0.04325749979546238,0.01200379191434527,0.037871421886209344,0.17164400042195146,0.3263825477177347,0.05485301518339616,0.35398772308090076],\"xaxis\":\"x3\",\"y\":[\"1: walk\",\"2: bike\",\"3: sov\",\"4: hov 2\",\"5: hov 3+\",\"6: walk to transit\",\"8: school bus\"],\"yaxis\":\"y3\",\"type\":\"bar\"},{\"alignmentgroup\":\"True\",\"customdata\":[[4],[2],[12],[11],[29],[1],[26]],\"hovertemplate\":\"source=survey\\u003cbr\\u003eauto_ownership_4+=3\\u003cbr\\u003epercentage=%{x}\\u003cbr\\u003etmodetp_label=%{y}\\u003cbr\\u003esample count=%{customdata[0]}\\u003cextra\\u003e\\u003c\\u002fextra\\u003e\",\"legendgroup\":\"survey\",\"marker\":{\"color\":\"#8CC63E\",\"pattern\":{\"shape\":\"\"}},\"name\":\"survey\",\"offsetgroup\":\"survey\",\"orientation\":\"h\",\"showlegend\":false,\"textposition\":\"auto\",\"x\":[0.0867437395601286,0.010355781009068615,0.09796754086826263,0.055396738946801395,0.48188541282249375,0.013998450567566793,0.25365233622567823],\"xaxis\":\"x4\",\"y\":[\"1: walk\",\"2: bike\",\"3: sov\",\"4: hov 2\",\"5: hov 3+\",\"6: walk to transit\",\"8: school bus\"],\"yaxis\":\"y4\",\"type\":\"bar\"},{\"alignmentgroup\":\"True\",\"customdata\":[[1],[1],[10],[4],[2],[2],[5]],\"hovertemplate\":\"source=survey\\u003cbr\\u003eauto_ownership_4+=4+\\u003cbr\\u003epercentage=%{x}\\u003cbr\\u003etmodetp_label=%{y}\\u003cbr\\u003esample count=%{customdata[0]}\\u003cextra\\u003e\\u003c\\u002fextra\\u003e\",\"legendgroup\":\"survey\",\"marker\":{\"color\":\"#8CC63E\",\"pattern\":{\"shape\":\"\"}},\"name\":\"survey\",\"offsetgroup\":\"survey\",\"orientation\":\"h\",\"showlegend\":false,\"textposition\":\"auto\",\"x\":[0.04114829910172345,0.0032123524955210265,0.5172447338952704,0.2259650069441146,0.18387524809372977,0.010016668517170979,0.01853769095246984],\"xaxis\":\"x\",\"y\":[\"1: walk\",\"2: bike\",\"3: sov\",\"4: hov 2\",\"5: hov 3+\",\"6: walk to transit\",\"8: school bus\"],\"yaxis\":\"y\",\"type\":\"bar\"},{\"alignmentgroup\":\"True\",\"customdata\":[[20],[8],[4],[45],[2],[4]],\"hovertemplate\":\"source=survey (2017\\u002f2019)\\u003cbr\\u003eauto_ownership_4+=0\\u003cbr\\u003epercentage=%{x}\\u003cbr\\u003etmodetp_label=%{y}\\u003cbr\\u003esample count=%{customdata[0]}\\u003cextra\\u003e\\u003c\\u002fextra\\u003e\",\"legendgroup\":\"survey (2017\\u002f2019)\",\"marker\":{\"color\":\"#00A7A0\",\"pattern\":{\"shape\":\"\"}},\"name\":\"survey (2017\\u002f2019)\",\"offsetgroup\":\"survey (2017\\u002f2019)\",\"orientation\":\"h\",\"showlegend\":true,\"textposition\":\"auto\",\"x\":[0.13058034877455424,0.060121612242636464,0.3062945194096224,0.4612202021003567,0.022919793302780947,0.018863524170049252],\"xaxis\":\"x5\",\"y\":[\"1: walk\",\"2: bike\",\"4: hov 2\",\"6: walk to transit\",\"8: school bus\",\"9: tnc\"],\"yaxis\":\"y5\",\"type\":\"bar\"},{\"alignmentgroup\":\"True\",\"customdata\":[[43],[16],[30],[60],[58],[83],[42],[1]],\"hovertemplate\":\"source=survey (2017\\u002f2019)\\u003cbr\\u003eauto_ownership_4+=1\\u003cbr\\u003epercentage=%{x}\\u003cbr\\u003etmodetp_label=%{y}\\u003cbr\\u003esample count=%{customdata[0]}\\u003cextra\\u003e\\u003c\\u002fextra\\u003e\",\"legendgroup\":\"survey (2017\\u002f2019)\",\"marker\":{\"color\":\"#00A7A0\",\"pattern\":{\"shape\":\"\"}},\"name\":\"survey (2017\\u002f2019)\",\"offsetgroup\":\"survey (2017\\u002f2019)\",\"orientation\":\"h\",\"showlegend\":false,\"textposition\":\"auto\",\"x\":[0.24983542386986718,0.012308812526712978,0.10113431621061052,0.15688725111456592,0.1512330383666348,0.14242843394546467,0.18049711402949117,0.00567560993665269],\"xaxis\":\"x6\",\"y\":[\"1: walk\",\"2: bike\",\"3: sov\",\"4: hov 2\",\"5: hov 3+\",\"6: walk to transit\",\"8: school bus\",\"9: tnc\"],\"yaxis\":\"y6\",\"type\":\"bar\"},{\"alignmentgroup\":\"True\",\"customdata\":[[38],[6],[28],[98],[189],[55],[1],[110],[2]],\"hovertemplate\":\"source=survey (2017\\u002f2019)\\u003cbr\\u003eauto_ownership_4+=2\\u003cbr\\u003epercentage=%{x}\\u003cbr\\u003etmodetp_label=%{y}\\u003cbr\\u003esample count=%{customdata[0]}\\u003cextra\\u003e\\u003c\\u002fextra\\u003e\",\"legendgroup\":\"survey (2017\\u002f2019)\",\"marker\":{\"color\":\"#00A7A0\",\"pattern\":{\"shape\":\"\"}},\"name\":\"survey (2017\\u002f2019)\",\"offsetgroup\":\"survey (2017\\u002f2019)\",\"orientation\":\"h\",\"showlegend\":false,\"textposition\":\"auto\",\"x\":[0.07393160579026403,0.006163432983609144,0.03898412853159825,0.10733510883496576,0.4326347278040166,0.09376214261083465,5.074242144391685e-05,0.24592344745850914,0.001214663564758493],\"xaxis\":\"x3\",\"y\":[\"1: walk\",\"2: bike\",\"3: sov\",\"4: hov 2\",\"5: hov 3+\",\"6: walk to transit\",\"7: park-and-ride\",\"8: school bus\",\"9: tnc\"],\"yaxis\":\"y3\",\"type\":\"bar\"},{\"alignmentgroup\":\"True\",\"customdata\":[[7],[1],[12],[27],[54],[8],[26],[1]],\"hovertemplate\":\"source=survey (2017\\u002f2019)\\u003cbr\\u003eauto_ownership_4+=3\\u003cbr\\u003epercentage=%{x}\\u003cbr\\u003etmodetp_label=%{y}\\u003cbr\\u003esample count=%{customdata[0]}\\u003cextra\\u003e\\u003c\\u002fextra\\u003e\",\"legendgroup\":\"survey (2017\\u002f2019)\",\"marker\":{\"color\":\"#00A7A0\",\"pattern\":{\"shape\":\"\"}},\"name\":\"survey (2017\\u002f2019)\",\"offsetgroup\":\"survey (2017\\u002f2019)\",\"orientation\":\"h\",\"showlegend\":false,\"textposition\":\"auto\",\"x\":[0.007985384832702688,0.000353348077129193,0.10418649953046306,0.19366124444293145,0.4341093079431265,0.05781324251905241,0.19501130325530922,0.006879669399285464],\"xaxis\":\"x4\",\"y\":[\"1: walk\",\"2: bike\",\"3: sov\",\"4: hov 2\",\"5: hov 3+\",\"6: walk to transit\",\"8: school bus\",\"9: tnc\"],\"yaxis\":\"y4\",\"type\":\"bar\"},{\"alignmentgroup\":\"True\",\"customdata\":[[1],[10],[9],[9],[3],[1],[10]],\"hovertemplate\":\"source=survey (2017\\u002f2019)\\u003cbr\\u003eauto_ownership_4+=4+\\u003cbr\\u003epercentage=%{x}\\u003cbr\\u003etmodetp_label=%{y}\\u003cbr\\u003esample count=%{customdata[0]}\\u003cextra\\u003e\\u003c\\u002fextra\\u003e\",\"legendgroup\":\"survey (2017\\u002f2019)\",\"marker\":{\"color\":\"#00A7A0\",\"pattern\":{\"shape\":\"\"}},\"name\":\"survey (2017\\u002f2019)\",\"offsetgroup\":\"survey (2017\\u002f2019)\",\"orientation\":\"h\",\"showlegend\":false,\"textposition\":\"auto\",\"x\":[0.05577421438724082,0.2264476973334553,0.2884571246788322,0.16901433613596123,0.009710585080346543,0.10107654614553405,0.14951949623862987],\"xaxis\":\"x\",\"y\":[\"1: walk\",\"3: sov\",\"4: hov 2\",\"5: hov 3+\",\"6: walk to transit\",\"7: park-and-ride\",\"8: school bus\"],\"yaxis\":\"y\",\"type\":\"bar\"}],                        {\"template\":{\"data\":{\"barpolar\":[{\"marker\":{\"line\":{\"color\":\"white\",\"width\":0.5},\"pattern\":{\"fillmode\":\"overlay\",\"size\":10,\"solidity\":0.2}},\"type\":\"barpolar\"}],\"bar\":[{\"error_x\":{\"color\":\"rgb(36,36,36)\"},\"error_y\":{\"color\":\"rgb(36,36,36)\"},\"marker\":{\"line\":{\"color\":\"white\",\"width\":0.5},\"pattern\":{\"fillmode\":\"overlay\",\"size\":10,\"solidity\":0.2}},\"type\":\"bar\"}],\"carpet\":[{\"aaxis\":{\"endlinecolor\":\"rgb(36,36,36)\",\"gridcolor\":\"white\",\"linecolor\":\"white\",\"minorgridcolor\":\"white\",\"startlinecolor\":\"rgb(36,36,36)\"},\"baxis\":{\"endlinecolor\":\"rgb(36,36,36)\",\"gridcolor\":\"white\",\"linecolor\":\"white\",\"minorgridcolor\":\"white\",\"startlinecolor\":\"rgb(36,36,36)\"},\"type\":\"carpet\"}],\"choropleth\":[{\"colorbar\":{\"outlinewidth\":1,\"tickcolor\":\"rgb(36,36,36)\",\"ticks\":\"outside\"},\"type\":\"choropleth\"}],\"contourcarpet\":[{\"colorbar\":{\"outlinewidth\":1,\"tickcolor\":\"rgb(36,36,36)\",\"ticks\":\"outside\"},\"type\":\"contourcarpet\"}],\"contour\":[{\"colorbar\":{\"outlinewidth\":1,\"tickcolor\":\"rgb(36,36,36)\",\"ticks\":\"outside\"},\"colorscale\":[[0.0,\"#440154\"],[0.1111111111111111,\"#482878\"],[0.2222222222222222,\"#3e4989\"],[0.3333333333333333,\"#31688e\"],[0.4444444444444444,\"#26828e\"],[0.5555555555555556,\"#1f9e89\"],[0.6666666666666666,\"#35b779\"],[0.7777777777777778,\"#6ece58\"],[0.8888888888888888,\"#b5de2b\"],[1.0,\"#fde725\"]],\"type\":\"contour\"}],\"heatmapgl\":[{\"colorbar\":{\"outlinewidth\":1,\"tickcolor\":\"rgb(36,36,36)\",\"ticks\":\"outside\"},\"colorscale\":[[0.0,\"#440154\"],[0.1111111111111111,\"#482878\"],[0.2222222222222222,\"#3e4989\"],[0.3333333333333333,\"#31688e\"],[0.4444444444444444,\"#26828e\"],[0.5555555555555556,\"#1f9e89\"],[0.6666666666666666,\"#35b779\"],[0.7777777777777778,\"#6ece58\"],[0.8888888888888888,\"#b5de2b\"],[1.0,\"#fde725\"]],\"type\":\"heatmapgl\"}],\"heatmap\":[{\"colorbar\":{\"outlinewidth\":1,\"tickcolor\":\"rgb(36,36,36)\",\"ticks\":\"outside\"},\"colorscale\":[[0.0,\"#440154\"],[0.1111111111111111,\"#482878\"],[0.2222222222222222,\"#3e4989\"],[0.3333333333333333,\"#31688e\"],[0.4444444444444444,\"#26828e\"],[0.5555555555555556,\"#1f9e89\"],[0.6666666666666666,\"#35b779\"],[0.7777777777777778,\"#6ece58\"],[0.8888888888888888,\"#b5de2b\"],[1.0,\"#fde725\"]],\"type\":\"heatmap\"}],\"histogram2dcontour\":[{\"colorbar\":{\"outlinewidth\":1,\"tickcolor\":\"rgb(36,36,36)\",\"ticks\":\"outside\"},\"colorscale\":[[0.0,\"#440154\"],[0.1111111111111111,\"#482878\"],[0.2222222222222222,\"#3e4989\"],[0.3333333333333333,\"#31688e\"],[0.4444444444444444,\"#26828e\"],[0.5555555555555556,\"#1f9e89\"],[0.6666666666666666,\"#35b779\"],[0.7777777777777778,\"#6ece58\"],[0.8888888888888888,\"#b5de2b\"],[1.0,\"#fde725\"]],\"type\":\"histogram2dcontour\"}],\"histogram2d\":[{\"colorbar\":{\"outlinewidth\":1,\"tickcolor\":\"rgb(36,36,36)\",\"ticks\":\"outside\"},\"colorscale\":[[0.0,\"#440154\"],[0.1111111111111111,\"#482878\"],[0.2222222222222222,\"#3e4989\"],[0.3333333333333333,\"#31688e\"],[0.4444444444444444,\"#26828e\"],[0.5555555555555556,\"#1f9e89\"],[0.6666666666666666,\"#35b779\"],[0.7777777777777778,\"#6ece58\"],[0.8888888888888888,\"#b5de2b\"],[1.0,\"#fde725\"]],\"type\":\"histogram2d\"}],\"histogram\":[{\"marker\":{\"line\":{\"color\":\"white\",\"width\":0.6}},\"type\":\"histogram\"}],\"mesh3d\":[{\"colorbar\":{\"outlinewidth\":1,\"tickcolor\":\"rgb(36,36,36)\",\"ticks\":\"outside\"},\"type\":\"mesh3d\"}],\"parcoords\":[{\"line\":{\"colorbar\":{\"outlinewidth\":1,\"tickcolor\":\"rgb(36,36,36)\",\"ticks\":\"outside\"}},\"type\":\"parcoords\"}],\"pie\":[{\"automargin\":true,\"type\":\"pie\"}],\"scatter3d\":[{\"line\":{\"colorbar\":{\"outlinewidth\":1,\"tickcolor\":\"rgb(36,36,36)\",\"ticks\":\"outside\"}},\"marker\":{\"colorbar\":{\"outlinewidth\":1,\"tickcolor\":\"rgb(36,36,36)\",\"ticks\":\"outside\"}},\"type\":\"scatter3d\"}],\"scattercarpet\":[{\"marker\":{\"colorbar\":{\"outlinewidth\":1,\"tickcolor\":\"rgb(36,36,36)\",\"ticks\":\"outside\"}},\"type\":\"scattercarpet\"}],\"scattergeo\":[{\"marker\":{\"colorbar\":{\"outlinewidth\":1,\"tickcolor\":\"rgb(36,36,36)\",\"ticks\":\"outside\"}},\"type\":\"scattergeo\"}],\"scattergl\":[{\"marker\":{\"colorbar\":{\"outlinewidth\":1,\"tickcolor\":\"rgb(36,36,36)\",\"ticks\":\"outside\"}},\"type\":\"scattergl\"}],\"scattermapbox\":[{\"marker\":{\"colorbar\":{\"outlinewidth\":1,\"tickcolor\":\"rgb(36,36,36)\",\"ticks\":\"outside\"}},\"type\":\"scattermapbox\"}],\"scatterpolargl\":[{\"marker\":{\"colorbar\":{\"outlinewidth\":1,\"tickcolor\":\"rgb(36,36,36)\",\"ticks\":\"outside\"}},\"type\":\"scatterpolargl\"}],\"scatterpolar\":[{\"marker\":{\"colorbar\":{\"outlinewidth\":1,\"tickcolor\":\"rgb(36,36,36)\",\"ticks\":\"outside\"}},\"type\":\"scatterpolar\"}],\"scatter\":[{\"fillpattern\":{\"fillmode\":\"overlay\",\"size\":10,\"solidity\":0.2},\"type\":\"scatter\"}],\"scatterternary\":[{\"marker\":{\"colorbar\":{\"outlinewidth\":1,\"tickcolor\":\"rgb(36,36,36)\",\"ticks\":\"outside\"}},\"type\":\"scatterternary\"}],\"surface\":[{\"colorbar\":{\"outlinewidth\":1,\"tickcolor\":\"rgb(36,36,36)\",\"ticks\":\"outside\"},\"colorscale\":[[0.0,\"#440154\"],[0.1111111111111111,\"#482878\"],[0.2222222222222222,\"#3e4989\"],[0.3333333333333333,\"#31688e\"],[0.4444444444444444,\"#26828e\"],[0.5555555555555556,\"#1f9e89\"],[0.6666666666666666,\"#35b779\"],[0.7777777777777778,\"#6ece58\"],[0.8888888888888888,\"#b5de2b\"],[1.0,\"#fde725\"]],\"type\":\"surface\"}],\"table\":[{\"cells\":{\"fill\":{\"color\":\"rgb(237,237,237)\"},\"line\":{\"color\":\"white\"}},\"header\":{\"fill\":{\"color\":\"rgb(217,217,217)\"},\"line\":{\"color\":\"white\"}},\"type\":\"table\"}]},\"layout\":{\"annotationdefaults\":{\"arrowhead\":0,\"arrowwidth\":1},\"autotypenumbers\":\"strict\",\"coloraxis\":{\"colorbar\":{\"outlinewidth\":1,\"tickcolor\":\"rgb(36,36,36)\",\"ticks\":\"outside\"}},\"colorscale\":{\"diverging\":[[0.0,\"rgb(103,0,31)\"],[0.1,\"rgb(178,24,43)\"],[0.2,\"rgb(214,96,77)\"],[0.3,\"rgb(244,165,130)\"],[0.4,\"rgb(253,219,199)\"],[0.5,\"rgb(247,247,247)\"],[0.6,\"rgb(209,229,240)\"],[0.7,\"rgb(146,197,222)\"],[0.8,\"rgb(67,147,195)\"],[0.9,\"rgb(33,102,172)\"],[1.0,\"rgb(5,48,97)\"]],\"sequential\":[[0.0,\"#440154\"],[0.1111111111111111,\"#482878\"],[0.2222222222222222,\"#3e4989\"],[0.3333333333333333,\"#31688e\"],[0.4444444444444444,\"#26828e\"],[0.5555555555555556,\"#1f9e89\"],[0.6666666666666666,\"#35b779\"],[0.7777777777777778,\"#6ece58\"],[0.8888888888888888,\"#b5de2b\"],[1.0,\"#fde725\"]],\"sequentialminus\":[[0.0,\"#440154\"],[0.1111111111111111,\"#482878\"],[0.2222222222222222,\"#3e4989\"],[0.3333333333333333,\"#31688e\"],[0.4444444444444444,\"#26828e\"],[0.5555555555555556,\"#1f9e89\"],[0.6666666666666666,\"#35b779\"],[0.7777777777777778,\"#6ece58\"],[0.8888888888888888,\"#b5de2b\"],[1.0,\"#fde725\"]]},\"colorway\":[\"#91268F\",\"#8CC63E\",\"#00A7A0\",\"#F05A28\",\"#4C4C4C\",\"#630460\",\"#9f3913\",\"#588527\",\"#00716c\",\"#3e4040\"],\"font\":{\"color\":\"rgb(36,36,36)\",\"family\":\"Poppins\",\"size\":11},\"geo\":{\"bgcolor\":\"white\",\"lakecolor\":\"white\",\"landcolor\":\"white\",\"showlakes\":true,\"showland\":true,\"subunitcolor\":\"white\"},\"hoverlabel\":{\"align\":\"left\"},\"hovermode\":\"closest\",\"mapbox\":{\"style\":\"light\"},\"paper_bgcolor\":\"white\",\"plot_bgcolor\":\"white\",\"polar\":{\"angularaxis\":{\"gridcolor\":\"rgb(232,232,232)\",\"linecolor\":\"rgb(36,36,36)\",\"showgrid\":false,\"showline\":true,\"ticks\":\"outside\"},\"bgcolor\":\"white\",\"radialaxis\":{\"gridcolor\":\"rgb(232,232,232)\",\"linecolor\":\"rgb(36,36,36)\",\"showgrid\":false,\"showline\":true,\"ticks\":\"outside\"}},\"scene\":{\"xaxis\":{\"backgroundcolor\":\"white\",\"gridcolor\":\"rgb(232,232,232)\",\"gridwidth\":2,\"linecolor\":\"rgb(36,36,36)\",\"showbackground\":true,\"showgrid\":false,\"showline\":true,\"ticks\":\"outside\",\"zeroline\":false,\"zerolinecolor\":\"rgb(36,36,36)\"},\"yaxis\":{\"backgroundcolor\":\"white\",\"gridcolor\":\"rgb(232,232,232)\",\"gridwidth\":2,\"linecolor\":\"rgb(36,36,36)\",\"showbackground\":true,\"showgrid\":false,\"showline\":true,\"ticks\":\"outside\",\"zeroline\":false,\"zerolinecolor\":\"rgb(36,36,36)\"},\"zaxis\":{\"backgroundcolor\":\"white\",\"gridcolor\":\"rgb(232,232,232)\",\"gridwidth\":2,\"linecolor\":\"rgb(36,36,36)\",\"showbackground\":true,\"showgrid\":false,\"showline\":true,\"ticks\":\"outside\",\"zeroline\":false,\"zerolinecolor\":\"rgb(36,36,36)\"}},\"shapedefaults\":{\"fillcolor\":\"black\",\"line\":{\"width\":0},\"opacity\":0.3},\"ternary\":{\"aaxis\":{\"gridcolor\":\"rgb(232,232,232)\",\"linecolor\":\"rgb(36,36,36)\",\"showgrid\":false,\"showline\":true,\"ticks\":\"outside\"},\"baxis\":{\"gridcolor\":\"rgb(232,232,232)\",\"linecolor\":\"rgb(36,36,36)\",\"showgrid\":false,\"showline\":true,\"ticks\":\"outside\"},\"bgcolor\":\"white\",\"caxis\":{\"gridcolor\":\"rgb(232,232,232)\",\"linecolor\":\"rgb(36,36,36)\",\"showgrid\":false,\"showline\":true,\"ticks\":\"outside\"}},\"title\":{\"x\":0.05},\"xaxis\":{\"automargin\":true,\"gridcolor\":\"rgb(232,232,232)\",\"linecolor\":\"rgb(36,36,36)\",\"showgrid\":false,\"showline\":true,\"ticks\":\"outside\",\"title\":{\"standoff\":15},\"zeroline\":false,\"zerolinecolor\":\"rgb(36,36,36)\"},\"yaxis\":{\"automargin\":true,\"gridcolor\":\"rgb(232,232,232)\",\"linecolor\":\"rgb(36,36,36)\",\"showgrid\":false,\"showline\":true,\"ticks\":\"outside\",\"title\":{\"standoff\":15},\"zeroline\":false,\"zerolinecolor\":\"rgb(36,36,36)\"}}},\"xaxis\":{\"anchor\":\"y\",\"domain\":[0.0,0.49],\"title\":{\"text\":\"percentage\"},\"tickformat\":\".1%\"},\"yaxis\":{\"anchor\":\"x\",\"domain\":[0.0,0.2866666666666666],\"title\":{\"text\":\"tmodetp_label\"},\"categoryorder\":\"array\",\"categoryarray\":[\"9: other\\u00e2\\u20ac\\u201csurvey only\",\"8: school bus\",\"7: park-and-ride\",\"6: walk to transit\",\"5: hov 3+\",\"4: hov 2\",\"3: sov\",\"2: bike\",\"1: walk\"]},\"xaxis2\":{\"anchor\":\"y2\",\"domain\":[0.51,1.0],\"matches\":\"x\",\"title\":{\"text\":\"percentage\"},\"tickformat\":\".1%\"},\"yaxis2\":{\"anchor\":\"x2\",\"domain\":[0.0,0.2866666666666666],\"matches\":\"y\",\"showticklabels\":false},\"xaxis3\":{\"anchor\":\"y3\",\"domain\":[0.0,0.49],\"matches\":\"x\",\"showticklabels\":false,\"tickformat\":\".1%\"},\"yaxis3\":{\"anchor\":\"x3\",\"domain\":[0.35666666666666663,0.6433333333333333],\"matches\":\"y\",\"title\":{\"text\":\"tmodetp_label\"},\"categoryorder\":\"array\",\"categoryarray\":[\"9: other\\u00e2\\u20ac\\u201csurvey only\",\"8: school bus\",\"7: park-and-ride\",\"6: walk to transit\",\"5: hov 3+\",\"4: hov 2\",\"3: sov\",\"2: bike\",\"1: walk\"]},\"xaxis4\":{\"anchor\":\"y4\",\"domain\":[0.51,1.0],\"matches\":\"x\",\"showticklabels\":false,\"tickformat\":\".1%\"},\"yaxis4\":{\"anchor\":\"x4\",\"domain\":[0.35666666666666663,0.6433333333333333],\"matches\":\"y\",\"showticklabels\":false},\"xaxis5\":{\"anchor\":\"y5\",\"domain\":[0.0,0.49],\"matches\":\"x\",\"showticklabels\":false,\"tickformat\":\".1%\"},\"yaxis5\":{\"anchor\":\"x5\",\"domain\":[0.7133333333333333,0.9999999999999999],\"matches\":\"y\",\"title\":{\"text\":\"tmodetp_label\"},\"categoryorder\":\"array\",\"categoryarray\":[\"9: other\\u00e2\\u20ac\\u201csurvey only\",\"8: school bus\",\"7: park-and-ride\",\"6: walk to transit\",\"5: hov 3+\",\"4: hov 2\",\"3: sov\",\"2: bike\",\"1: walk\"]},\"xaxis6\":{\"anchor\":\"y6\",\"domain\":[0.51,1.0],\"matches\":\"x\",\"showticklabels\":false,\"tickformat\":\".1%\"},\"yaxis6\":{\"anchor\":\"x6\",\"domain\":[0.7133333333333333,0.9999999999999999],\"matches\":\"y\",\"showticklabels\":false},\"annotations\":[{\"font\":{},\"showarrow\":false,\"text\":\"4+\",\"x\":0.245,\"xanchor\":\"center\",\"xref\":\"paper\",\"y\":0.2866666666666666,\"yanchor\":\"bottom\",\"yref\":\"paper\"},{\"font\":{},\"showarrow\":false,\"text\":\"2\",\"x\":0.245,\"xanchor\":\"center\",\"xref\":\"paper\",\"y\":0.6433333333333333,\"yanchor\":\"bottom\",\"yref\":\"paper\"},{\"font\":{},\"showarrow\":false,\"text\":\"3\",\"x\":0.755,\"xanchor\":\"center\",\"xref\":\"paper\",\"y\":0.6433333333333333,\"yanchor\":\"bottom\",\"yref\":\"paper\"},{\"font\":{},\"showarrow\":false,\"text\":\"0\",\"x\":0.245,\"xanchor\":\"center\",\"xref\":\"paper\",\"y\":0.9999999999999999,\"yanchor\":\"bottom\",\"yref\":\"paper\"},{\"font\":{},\"showarrow\":false,\"text\":\"1\",\"x\":0.755,\"xanchor\":\"center\",\"xref\":\"paper\",\"y\":0.9999999999999999,\"yanchor\":\"bottom\",\"yref\":\"paper\"}],\"legend\":{\"title\":{\"text\":\"source\"},\"tracegroupgap\":0},\"title\":{\"text\":\"school tour mode choice by auto ownership\"},\"barmode\":\"group\",\"height\":800,\"width\":800},                        {\"responsive\": true}                    ).then(function(){\n",
       "                            \n",
       "var gd = document.getElementById('8f77e375-de51-46ac-a35a-22cf2bd9e998');\n",
       "var x = new MutationObserver(function (mutations, observer) {{\n",
       "        var display = window.getComputedStyle(gd).display;\n",
       "        if (!display || display === 'none') {{\n",
       "            console.log([gd, 'removed!']);\n",
       "            Plotly.purge(gd);\n",
       "            observer.disconnect();\n",
       "        }}\n",
       "}});\n",
       "\n",
       "// Listen for the removal of the full notebook cells\n",
       "var notebookContainer = gd.closest('#notebook-container');\n",
       "if (notebookContainer) {{\n",
       "    x.observe(notebookContainer, {childList: true});\n",
       "}}\n",
       "\n",
       "// Listen for the clearing of the current output cell\n",
       "var outputEl = gd.closest('.output');\n",
       "if (outputEl) {{\n",
       "    x.observe(outputEl, {childList: true});\n",
       "}}\n",
       "\n",
       "                        })                };                });            </script>        </div>"
      ]
     },
     "metadata": {},
     "output_type": "display_data"
    }
   ],
   "source": [
    "plot_mode_choice(sc_tour.loc[sc_tour['auto_ownership_4+']!=\"-1\"],\"auto_ownership_4+\",\n",
    "                 {\"auto_ownership_4+\":[\"0\",\"1\",\"2\",\"3\",\"4+\"],\n",
    "                  \"tmodetp_label\":[\"1: walk\",\"2: bike\",\"3: sov\",\"4: hov 2\",\"5: hov 3+\",\"6: walk to transit\",\n",
    "                                   \"7: park-and-ride\",\"8: school bus\",\"9: other–survey only\"]},\n",
    "                 \"auto ownership\",2,800)"
   ]
  },
  {
   "cell_type": "raw",
   "metadata": {},
   "source": [
    "### auto availability"
   ]
  },
  {
   "cell_type": "code",
   "execution_count": 11,
   "metadata": {
    "ExecuteTime": {
     "end_time": "2024-08-30T21:00:46.788743Z",
     "start_time": "2024-08-30T21:00:45.881771Z"
    },
    "execution": {
     "iopub.execute_input": "2024-08-30T21:32:14.429572Z",
     "iopub.status.busy": "2024-08-30T21:32:14.429572Z",
     "iopub.status.idle": "2024-08-30T21:32:15.414348Z",
     "shell.execute_reply": "2024-08-30T21:32:15.414348Z"
    }
   },
   "outputs": [
    {
     "data": {
      "application/vnd.plotly.v1+json": {
       "config": {
        "plotlyServerURL": "https://plot.ly"
       },
       "data": [
        {
         "alignmentgroup": "True",
         "customdata": [
          [
           5066
          ],
          [
           1645
          ],
          [
           1
          ],
          [
           5357
          ],
          [
           4848
          ],
          [
           76
          ]
         ],
         "hovertemplate": "source=model<br>auto_available_driver=no car<br>percentage=%{x}<br>tmodetp_label=%{y}<br>sample count=%{customdata[0]}<extra></extra>",
         "legendgroup": "model",
         "marker": {
          "color": "#91268F",
          "pattern": {
           "shape": ""
          }
         },
         "name": "model",
         "offsetgroup": "model",
         "orientation": "h",
         "showlegend": true,
         "textposition": "auto",
         "type": "bar",
         "x": [
          0.2981227564291179,
          0.0968045665862414,
          5.884776084269993e-05,
          0.3152474548343436,
          0.2852939445654093,
          0.004472429824045195
         ],
         "xaxis": "x",
         "y": [
          "1: walk",
          "2: bike",
          "4: hov 2",
          "5: hov 3+",
          "6: walk to transit",
          "8: school bus"
         ],
         "yaxis": "y"
        },
        {
         "alignmentgroup": "True",
         "customdata": [
          [
           18510
          ],
          [
           1486
          ],
          [
           16865
          ],
          [
           28838
          ],
          [
           30549
          ],
          [
           7756
          ],
          [
           65497
          ]
         ],
         "hovertemplate": "source=model<br>auto_available_driver=cars fewer than drivers<br>percentage=%{x}<br>tmodetp_label=%{y}<br>sample count=%{customdata[0]}<extra></extra>",
         "legendgroup": "model",
         "marker": {
          "color": "#91268F",
          "pattern": {
           "shape": ""
          }
         },
         "name": "model",
         "offsetgroup": "model",
         "orientation": "h",
         "showlegend": false,
         "textposition": "auto",
         "type": "bar",
         "x": [
          0.1092028955581383,
          0.008766909929734928,
          0.09949793806526215,
          0.17013468947085858,
          0.18022902519749145,
          0.045757842136624566,
          0.38641069964189
         ],
         "xaxis": "x2",
         "y": [
          "1: walk",
          "2: bike",
          "3: sov",
          "4: hov 2",
          "5: hov 3+",
          "6: walk to transit",
          "8: school bus"
         ],
         "yaxis": "y2"
        },
        {
         "alignmentgroup": "True",
         "customdata": [
          [
           14113
          ],
          [
           3941
          ],
          [
           34003
          ],
          [
           47769
          ],
          [
           158733
          ],
          [
           8309
          ],
          [
           121639
          ],
          [
           8
          ]
         ],
         "hovertemplate": "source=model<br>auto_available_driver=enough cars<br>percentage=%{x}<br>tmodetp_label=%{y}<br>sample count=%{customdata[0]}<extra></extra>",
         "legendgroup": "model",
         "marker": {
          "color": "#91268F",
          "pattern": {
           "shape": ""
          }
         },
         "name": "model",
         "offsetgroup": "model",
         "orientation": "h",
         "showlegend": false,
         "textposition": "auto",
         "type": "bar",
         "x": [
          0.036325495798103034,
          0.010143752493468721,
          0.08752043035661429,
          0.12295278174587854,
          0.4085633759314312,
          0.02138656165141629,
          0.3130870107975239,
          2.059122556400654e-05
         ],
         "xaxis": "x3",
         "y": [
          "1: walk",
          "2: bike",
          "3: sov",
          "4: hov 2",
          "5: hov 3+",
          "6: walk to transit",
          "8: school bus",
          "9: tnc"
         ],
         "yaxis": "y3"
        },
        {
         "alignmentgroup": "True",
         "customdata": [
          [
           8
          ],
          [
           2
          ],
          [
           1
          ],
          [
           6
          ],
          [
           2
          ]
         ],
         "hovertemplate": "source=survey<br>auto_available_driver=no car<br>percentage=%{x}<br>tmodetp_label=%{y}<br>sample count=%{customdata[0]}<extra></extra>",
         "legendgroup": "survey",
         "marker": {
          "color": "#8CC63E",
          "pattern": {
           "shape": ""
          }
         },
         "name": "survey",
         "offsetgroup": "survey",
         "orientation": "h",
         "showlegend": true,
         "textposition": "auto",
         "type": "bar",
         "x": [
          0.41139757135287486,
          0.1299604277623922,
          0.20466396794113725,
          0.24773321706074286,
          0.006244815882852712
         ],
         "xaxis": "x",
         "y": [
          "1: walk",
          "2: bike",
          "4: hov 2",
          "6: walk to transit",
          "8: school bus"
         ],
         "yaxis": "y"
        },
        {
         "alignmentgroup": "True",
         "customdata": [
          [
           25
          ],
          [
           10
          ],
          [
           12
          ],
          [
           26
          ],
          [
           49
          ],
          [
           22
          ],
          [
           47
          ]
         ],
         "hovertemplate": "source=survey<br>auto_available_driver=cars fewer than drivers<br>percentage=%{x}<br>tmodetp_label=%{y}<br>sample count=%{customdata[0]}<extra></extra>",
         "legendgroup": "survey",
         "marker": {
          "color": "#8CC63E",
          "pattern": {
           "shape": ""
          }
         },
         "name": "survey",
         "offsetgroup": "survey",
         "orientation": "h",
         "showlegend": false,
         "textposition": "auto",
         "type": "bar",
         "x": [
          0.11302345575355523,
          0.008600434852809057,
          0.08886228839906533,
          0.1915737106703561,
          0.2211510321050868,
          0.042758835567015034,
          0.3340302426521125
         ],
         "xaxis": "x2",
         "y": [
          "1: walk",
          "2: bike",
          "3: sov",
          "4: hov 2",
          "5: hov 3+",
          "6: walk to transit",
          "8: school bus"
         ],
         "yaxis": "y2"
        },
        {
         "alignmentgroup": "True",
         "customdata": [
          [
           29
          ],
          [
           12
          ],
          [
           30
          ],
          [
           67
          ],
          [
           144
          ],
          [
           18
          ],
          [
           102
          ]
         ],
         "hovertemplate": "source=survey<br>auto_available_driver=enough cars<br>percentage=%{x}<br>tmodetp_label=%{y}<br>sample count=%{customdata[0]}<extra></extra>",
         "legendgroup": "survey",
         "marker": {
          "color": "#8CC63E",
          "pattern": {
           "shape": ""
          }
         },
         "name": "survey",
         "offsetgroup": "survey",
         "orientation": "h",
         "showlegend": false,
         "textposition": "auto",
         "type": "bar",
         "x": [
          0.033977922993149154,
          0.015982431181323812,
          0.09937546759244063,
          0.11447212861766691,
          0.4394425173920212,
          0.034598997476235765,
          0.2621505347471623
         ],
         "xaxis": "x3",
         "y": [
          "1: walk",
          "2: bike",
          "3: sov",
          "4: hov 2",
          "5: hov 3+",
          "6: walk to transit",
          "8: school bus"
         ],
         "yaxis": "y3"
        },
        {
         "alignmentgroup": "True",
         "customdata": [
          [
           20
          ],
          [
           8
          ],
          [
           4
          ],
          [
           45
          ],
          [
           2
          ],
          [
           4
          ]
         ],
         "hovertemplate": "source=survey (2017/2019)<br>auto_available_driver=no car<br>percentage=%{x}<br>tmodetp_label=%{y}<br>sample count=%{customdata[0]}<extra></extra>",
         "legendgroup": "survey (2017/2019)",
         "marker": {
          "color": "#00A7A0",
          "pattern": {
           "shape": ""
          }
         },
         "name": "survey (2017/2019)",
         "offsetgroup": "survey (2017/2019)",
         "orientation": "h",
         "showlegend": true,
         "textposition": "auto",
         "type": "bar",
         "x": [
          0.13058034877455424,
          0.060121612242636464,
          0.3062945194096224,
          0.4612202021003567,
          0.022919793302780947,
          0.018863524170049252
         ],
         "xaxis": "x",
         "y": [
          "1: walk",
          "2: bike",
          "4: hov 2",
          "6: walk to transit",
          "8: school bus",
          "9: tnc"
         ],
         "yaxis": "y"
        },
        {
         "alignmentgroup": "True",
         "customdata": [
          [
           44
          ],
          [
           17
          ],
          [
           29
          ],
          [
           49
          ],
          [
           86
          ],
          [
           87
          ],
          [
           51
          ],
          [
           2
          ]
         ],
         "hovertemplate": "source=survey (2017/2019)<br>auto_available_driver=cars fewer than drivers<br>percentage=%{x}<br>tmodetp_label=%{y}<br>sample count=%{customdata[0]}<extra></extra>",
         "legendgroup": "survey (2017/2019)",
         "marker": {
          "color": "#00A7A0",
          "pattern": {
           "shape": ""
          }
         },
         "name": "survey (2017/2019)",
         "offsetgroup": "survey (2017/2019)",
         "orientation": "h",
         "showlegend": false,
         "textposition": "auto",
         "type": "bar",
         "x": [
          0.10992090755094852,
          0.01790413585550476,
          0.11951752077041825,
          0.13722833552255964,
          0.37387281071392575,
          0.10794912899549133,
          0.1285562131280814,
          0.005050947463070341
         ],
         "xaxis": "x2",
         "y": [
          "1: walk",
          "2: bike",
          "3: sov",
          "4: hov 2",
          "5: hov 3+",
          "6: walk to transit",
          "8: school bus",
          "9: tnc"
         ],
         "yaxis": "y2"
        },
        {
         "alignmentgroup": "True",
         "customdata": [
          [
           45
          ],
          [
           6
          ],
          [
           51
          ],
          [
           145
          ],
          [
           224
          ],
          [
           62
          ],
          [
           2
          ],
          [
           137
          ],
          [
           2
          ]
         ],
         "hovertemplate": "source=survey (2017/2019)<br>auto_available_driver=enough cars<br>percentage=%{x}<br>tmodetp_label=%{y}<br>sample count=%{customdata[0]}<extra></extra>",
         "legendgroup": "survey (2017/2019)",
         "marker": {
          "color": "#00A7A0",
          "pattern": {
           "shape": ""
          }
         },
         "name": "survey (2017/2019)",
         "offsetgroup": "survey (2017/2019)",
         "orientation": "h",
         "showlegend": false,
         "textposition": "auto",
         "type": "bar",
         "x": [
          0.05906458444924414,
          0.00041091965568921103,
          0.0686845719621671,
          0.15825378919218394,
          0.3830749761400659,
          0.07227770432784332,
          0.012166107375485876,
          0.24350997694230206,
          0.002557369955018457
         ],
         "xaxis": "x3",
         "y": [
          "1: walk",
          "2: bike",
          "3: sov",
          "4: hov 2",
          "5: hov 3+",
          "6: walk to transit",
          "7: park-and-ride",
          "8: school bus",
          "9: tnc"
         ],
         "yaxis": "y3"
        }
       ],
       "layout": {
        "annotations": [
         {
          "font": {},
          "showarrow": false,
          "text": "no car",
          "x": 0.15999999999999998,
          "xanchor": "center",
          "xref": "paper",
          "y": 1.0,
          "yanchor": "bottom",
          "yref": "paper"
         },
         {
          "font": {},
          "showarrow": false,
          "text": "cars fewer than drivers",
          "x": 0.49999999999999994,
          "xanchor": "center",
          "xref": "paper",
          "y": 1.0,
          "yanchor": "bottom",
          "yref": "paper"
         },
         {
          "font": {},
          "showarrow": false,
          "text": "enough cars",
          "x": 0.8399999999999999,
          "xanchor": "center",
          "xref": "paper",
          "y": 1.0,
          "yanchor": "bottom",
          "yref": "paper"
         }
        ],
        "barmode": "group",
        "height": 500,
        "legend": {
         "title": {
          "text": "source"
         },
         "tracegroupgap": 0
        },
        "template": {
         "data": {
          "bar": [
           {
            "error_x": {
             "color": "rgb(36,36,36)"
            },
            "error_y": {
             "color": "rgb(36,36,36)"
            },
            "marker": {
             "line": {
              "color": "white",
              "width": 0.5
             },
             "pattern": {
              "fillmode": "overlay",
              "size": 10,
              "solidity": 0.2
             }
            },
            "type": "bar"
           }
          ],
          "barpolar": [
           {
            "marker": {
             "line": {
              "color": "white",
              "width": 0.5
             },
             "pattern": {
              "fillmode": "overlay",
              "size": 10,
              "solidity": 0.2
             }
            },
            "type": "barpolar"
           }
          ],
          "carpet": [
           {
            "aaxis": {
             "endlinecolor": "rgb(36,36,36)",
             "gridcolor": "white",
             "linecolor": "white",
             "minorgridcolor": "white",
             "startlinecolor": "rgb(36,36,36)"
            },
            "baxis": {
             "endlinecolor": "rgb(36,36,36)",
             "gridcolor": "white",
             "linecolor": "white",
             "minorgridcolor": "white",
             "startlinecolor": "rgb(36,36,36)"
            },
            "type": "carpet"
           }
          ],
          "choropleth": [
           {
            "colorbar": {
             "outlinewidth": 1,
             "tickcolor": "rgb(36,36,36)",
             "ticks": "outside"
            },
            "type": "choropleth"
           }
          ],
          "contour": [
           {
            "colorbar": {
             "outlinewidth": 1,
             "tickcolor": "rgb(36,36,36)",
             "ticks": "outside"
            },
            "colorscale": [
             [
              0.0,
              "#440154"
             ],
             [
              0.1111111111111111,
              "#482878"
             ],
             [
              0.2222222222222222,
              "#3e4989"
             ],
             [
              0.3333333333333333,
              "#31688e"
             ],
             [
              0.4444444444444444,
              "#26828e"
             ],
             [
              0.5555555555555556,
              "#1f9e89"
             ],
             [
              0.6666666666666666,
              "#35b779"
             ],
             [
              0.7777777777777778,
              "#6ece58"
             ],
             [
              0.8888888888888888,
              "#b5de2b"
             ],
             [
              1.0,
              "#fde725"
             ]
            ],
            "type": "contour"
           }
          ],
          "contourcarpet": [
           {
            "colorbar": {
             "outlinewidth": 1,
             "tickcolor": "rgb(36,36,36)",
             "ticks": "outside"
            },
            "type": "contourcarpet"
           }
          ],
          "heatmap": [
           {
            "colorbar": {
             "outlinewidth": 1,
             "tickcolor": "rgb(36,36,36)",
             "ticks": "outside"
            },
            "colorscale": [
             [
              0.0,
              "#440154"
             ],
             [
              0.1111111111111111,
              "#482878"
             ],
             [
              0.2222222222222222,
              "#3e4989"
             ],
             [
              0.3333333333333333,
              "#31688e"
             ],
             [
              0.4444444444444444,
              "#26828e"
             ],
             [
              0.5555555555555556,
              "#1f9e89"
             ],
             [
              0.6666666666666666,
              "#35b779"
             ],
             [
              0.7777777777777778,
              "#6ece58"
             ],
             [
              0.8888888888888888,
              "#b5de2b"
             ],
             [
              1.0,
              "#fde725"
             ]
            ],
            "type": "heatmap"
           }
          ],
          "heatmapgl": [
           {
            "colorbar": {
             "outlinewidth": 1,
             "tickcolor": "rgb(36,36,36)",
             "ticks": "outside"
            },
            "colorscale": [
             [
              0.0,
              "#440154"
             ],
             [
              0.1111111111111111,
              "#482878"
             ],
             [
              0.2222222222222222,
              "#3e4989"
             ],
             [
              0.3333333333333333,
              "#31688e"
             ],
             [
              0.4444444444444444,
              "#26828e"
             ],
             [
              0.5555555555555556,
              "#1f9e89"
             ],
             [
              0.6666666666666666,
              "#35b779"
             ],
             [
              0.7777777777777778,
              "#6ece58"
             ],
             [
              0.8888888888888888,
              "#b5de2b"
             ],
             [
              1.0,
              "#fde725"
             ]
            ],
            "type": "heatmapgl"
           }
          ],
          "histogram": [
           {
            "marker": {
             "line": {
              "color": "white",
              "width": 0.6
             }
            },
            "type": "histogram"
           }
          ],
          "histogram2d": [
           {
            "colorbar": {
             "outlinewidth": 1,
             "tickcolor": "rgb(36,36,36)",
             "ticks": "outside"
            },
            "colorscale": [
             [
              0.0,
              "#440154"
             ],
             [
              0.1111111111111111,
              "#482878"
             ],
             [
              0.2222222222222222,
              "#3e4989"
             ],
             [
              0.3333333333333333,
              "#31688e"
             ],
             [
              0.4444444444444444,
              "#26828e"
             ],
             [
              0.5555555555555556,
              "#1f9e89"
             ],
             [
              0.6666666666666666,
              "#35b779"
             ],
             [
              0.7777777777777778,
              "#6ece58"
             ],
             [
              0.8888888888888888,
              "#b5de2b"
             ],
             [
              1.0,
              "#fde725"
             ]
            ],
            "type": "histogram2d"
           }
          ],
          "histogram2dcontour": [
           {
            "colorbar": {
             "outlinewidth": 1,
             "tickcolor": "rgb(36,36,36)",
             "ticks": "outside"
            },
            "colorscale": [
             [
              0.0,
              "#440154"
             ],
             [
              0.1111111111111111,
              "#482878"
             ],
             [
              0.2222222222222222,
              "#3e4989"
             ],
             [
              0.3333333333333333,
              "#31688e"
             ],
             [
              0.4444444444444444,
              "#26828e"
             ],
             [
              0.5555555555555556,
              "#1f9e89"
             ],
             [
              0.6666666666666666,
              "#35b779"
             ],
             [
              0.7777777777777778,
              "#6ece58"
             ],
             [
              0.8888888888888888,
              "#b5de2b"
             ],
             [
              1.0,
              "#fde725"
             ]
            ],
            "type": "histogram2dcontour"
           }
          ],
          "mesh3d": [
           {
            "colorbar": {
             "outlinewidth": 1,
             "tickcolor": "rgb(36,36,36)",
             "ticks": "outside"
            },
            "type": "mesh3d"
           }
          ],
          "parcoords": [
           {
            "line": {
             "colorbar": {
              "outlinewidth": 1,
              "tickcolor": "rgb(36,36,36)",
              "ticks": "outside"
             }
            },
            "type": "parcoords"
           }
          ],
          "pie": [
           {
            "automargin": true,
            "type": "pie"
           }
          ],
          "scatter": [
           {
            "fillpattern": {
             "fillmode": "overlay",
             "size": 10,
             "solidity": 0.2
            },
            "type": "scatter"
           }
          ],
          "scatter3d": [
           {
            "line": {
             "colorbar": {
              "outlinewidth": 1,
              "tickcolor": "rgb(36,36,36)",
              "ticks": "outside"
             }
            },
            "marker": {
             "colorbar": {
              "outlinewidth": 1,
              "tickcolor": "rgb(36,36,36)",
              "ticks": "outside"
             }
            },
            "type": "scatter3d"
           }
          ],
          "scattercarpet": [
           {
            "marker": {
             "colorbar": {
              "outlinewidth": 1,
              "tickcolor": "rgb(36,36,36)",
              "ticks": "outside"
             }
            },
            "type": "scattercarpet"
           }
          ],
          "scattergeo": [
           {
            "marker": {
             "colorbar": {
              "outlinewidth": 1,
              "tickcolor": "rgb(36,36,36)",
              "ticks": "outside"
             }
            },
            "type": "scattergeo"
           }
          ],
          "scattergl": [
           {
            "marker": {
             "colorbar": {
              "outlinewidth": 1,
              "tickcolor": "rgb(36,36,36)",
              "ticks": "outside"
             }
            },
            "type": "scattergl"
           }
          ],
          "scattermapbox": [
           {
            "marker": {
             "colorbar": {
              "outlinewidth": 1,
              "tickcolor": "rgb(36,36,36)",
              "ticks": "outside"
             }
            },
            "type": "scattermapbox"
           }
          ],
          "scatterpolar": [
           {
            "marker": {
             "colorbar": {
              "outlinewidth": 1,
              "tickcolor": "rgb(36,36,36)",
              "ticks": "outside"
             }
            },
            "type": "scatterpolar"
           }
          ],
          "scatterpolargl": [
           {
            "marker": {
             "colorbar": {
              "outlinewidth": 1,
              "tickcolor": "rgb(36,36,36)",
              "ticks": "outside"
             }
            },
            "type": "scatterpolargl"
           }
          ],
          "scatterternary": [
           {
            "marker": {
             "colorbar": {
              "outlinewidth": 1,
              "tickcolor": "rgb(36,36,36)",
              "ticks": "outside"
             }
            },
            "type": "scatterternary"
           }
          ],
          "surface": [
           {
            "colorbar": {
             "outlinewidth": 1,
             "tickcolor": "rgb(36,36,36)",
             "ticks": "outside"
            },
            "colorscale": [
             [
              0.0,
              "#440154"
             ],
             [
              0.1111111111111111,
              "#482878"
             ],
             [
              0.2222222222222222,
              "#3e4989"
             ],
             [
              0.3333333333333333,
              "#31688e"
             ],
             [
              0.4444444444444444,
              "#26828e"
             ],
             [
              0.5555555555555556,
              "#1f9e89"
             ],
             [
              0.6666666666666666,
              "#35b779"
             ],
             [
              0.7777777777777778,
              "#6ece58"
             ],
             [
              0.8888888888888888,
              "#b5de2b"
             ],
             [
              1.0,
              "#fde725"
             ]
            ],
            "type": "surface"
           }
          ],
          "table": [
           {
            "cells": {
             "fill": {
              "color": "rgb(237,237,237)"
             },
             "line": {
              "color": "white"
             }
            },
            "header": {
             "fill": {
              "color": "rgb(217,217,217)"
             },
             "line": {
              "color": "white"
             }
            },
            "type": "table"
           }
          ]
         },
         "layout": {
          "annotationdefaults": {
           "arrowhead": 0,
           "arrowwidth": 1
          },
          "autotypenumbers": "strict",
          "coloraxis": {
           "colorbar": {
            "outlinewidth": 1,
            "tickcolor": "rgb(36,36,36)",
            "ticks": "outside"
           }
          },
          "colorscale": {
           "diverging": [
            [
             0.0,
             "rgb(103,0,31)"
            ],
            [
             0.1,
             "rgb(178,24,43)"
            ],
            [
             0.2,
             "rgb(214,96,77)"
            ],
            [
             0.3,
             "rgb(244,165,130)"
            ],
            [
             0.4,
             "rgb(253,219,199)"
            ],
            [
             0.5,
             "rgb(247,247,247)"
            ],
            [
             0.6,
             "rgb(209,229,240)"
            ],
            [
             0.7,
             "rgb(146,197,222)"
            ],
            [
             0.8,
             "rgb(67,147,195)"
            ],
            [
             0.9,
             "rgb(33,102,172)"
            ],
            [
             1.0,
             "rgb(5,48,97)"
            ]
           ],
           "sequential": [
            [
             0.0,
             "#440154"
            ],
            [
             0.1111111111111111,
             "#482878"
            ],
            [
             0.2222222222222222,
             "#3e4989"
            ],
            [
             0.3333333333333333,
             "#31688e"
            ],
            [
             0.4444444444444444,
             "#26828e"
            ],
            [
             0.5555555555555556,
             "#1f9e89"
            ],
            [
             0.6666666666666666,
             "#35b779"
            ],
            [
             0.7777777777777778,
             "#6ece58"
            ],
            [
             0.8888888888888888,
             "#b5de2b"
            ],
            [
             1.0,
             "#fde725"
            ]
           ],
           "sequentialminus": [
            [
             0.0,
             "#440154"
            ],
            [
             0.1111111111111111,
             "#482878"
            ],
            [
             0.2222222222222222,
             "#3e4989"
            ],
            [
             0.3333333333333333,
             "#31688e"
            ],
            [
             0.4444444444444444,
             "#26828e"
            ],
            [
             0.5555555555555556,
             "#1f9e89"
            ],
            [
             0.6666666666666666,
             "#35b779"
            ],
            [
             0.7777777777777778,
             "#6ece58"
            ],
            [
             0.8888888888888888,
             "#b5de2b"
            ],
            [
             1.0,
             "#fde725"
            ]
           ]
          },
          "colorway": [
           "#91268F",
           "#8CC63E",
           "#00A7A0",
           "#F05A28",
           "#4C4C4C",
           "#630460",
           "#9f3913",
           "#588527",
           "#00716c",
           "#3e4040"
          ],
          "font": {
           "color": "rgb(36,36,36)",
           "family": "Poppins",
           "size": 11
          },
          "geo": {
           "bgcolor": "white",
           "lakecolor": "white",
           "landcolor": "white",
           "showlakes": true,
           "showland": true,
           "subunitcolor": "white"
          },
          "hoverlabel": {
           "align": "left"
          },
          "hovermode": "closest",
          "mapbox": {
           "style": "light"
          },
          "paper_bgcolor": "white",
          "plot_bgcolor": "white",
          "polar": {
           "angularaxis": {
            "gridcolor": "rgb(232,232,232)",
            "linecolor": "rgb(36,36,36)",
            "showgrid": false,
            "showline": true,
            "ticks": "outside"
           },
           "bgcolor": "white",
           "radialaxis": {
            "gridcolor": "rgb(232,232,232)",
            "linecolor": "rgb(36,36,36)",
            "showgrid": false,
            "showline": true,
            "ticks": "outside"
           }
          },
          "scene": {
           "xaxis": {
            "backgroundcolor": "white",
            "gridcolor": "rgb(232,232,232)",
            "gridwidth": 2,
            "linecolor": "rgb(36,36,36)",
            "showbackground": true,
            "showgrid": false,
            "showline": true,
            "ticks": "outside",
            "zeroline": false,
            "zerolinecolor": "rgb(36,36,36)"
           },
           "yaxis": {
            "backgroundcolor": "white",
            "gridcolor": "rgb(232,232,232)",
            "gridwidth": 2,
            "linecolor": "rgb(36,36,36)",
            "showbackground": true,
            "showgrid": false,
            "showline": true,
            "ticks": "outside",
            "zeroline": false,
            "zerolinecolor": "rgb(36,36,36)"
           },
           "zaxis": {
            "backgroundcolor": "white",
            "gridcolor": "rgb(232,232,232)",
            "gridwidth": 2,
            "linecolor": "rgb(36,36,36)",
            "showbackground": true,
            "showgrid": false,
            "showline": true,
            "ticks": "outside",
            "zeroline": false,
            "zerolinecolor": "rgb(36,36,36)"
           }
          },
          "shapedefaults": {
           "fillcolor": "black",
           "line": {
            "width": 0
           },
           "opacity": 0.3
          },
          "ternary": {
           "aaxis": {
            "gridcolor": "rgb(232,232,232)",
            "linecolor": "rgb(36,36,36)",
            "showgrid": false,
            "showline": true,
            "ticks": "outside"
           },
           "baxis": {
            "gridcolor": "rgb(232,232,232)",
            "linecolor": "rgb(36,36,36)",
            "showgrid": false,
            "showline": true,
            "ticks": "outside"
           },
           "bgcolor": "white",
           "caxis": {
            "gridcolor": "rgb(232,232,232)",
            "linecolor": "rgb(36,36,36)",
            "showgrid": false,
            "showline": true,
            "ticks": "outside"
           }
          },
          "title": {
           "x": 0.05
          },
          "xaxis": {
           "automargin": true,
           "gridcolor": "rgb(232,232,232)",
           "linecolor": "rgb(36,36,36)",
           "showgrid": false,
           "showline": true,
           "ticks": "outside",
           "title": {
            "standoff": 15
           },
           "zeroline": false,
           "zerolinecolor": "rgb(36,36,36)"
          },
          "yaxis": {
           "automargin": true,
           "gridcolor": "rgb(232,232,232)",
           "linecolor": "rgb(36,36,36)",
           "showgrid": false,
           "showline": true,
           "ticks": "outside",
           "title": {
            "standoff": 15
           },
           "zeroline": false,
           "zerolinecolor": "rgb(36,36,36)"
          }
         }
        },
        "title": {
         "text": "school tour mode choice by auto availability (driver, showing only households with at least one driver)"
        },
        "width": 1000,
        "xaxis": {
         "anchor": "y",
         "domain": [
          0.0,
          0.31999999999999995
         ],
         "tickformat": ".1%",
         "title": {
          "text": "percentage"
         }
        },
        "xaxis2": {
         "anchor": "y2",
         "domain": [
          0.33999999999999997,
          0.6599999999999999
         ],
         "matches": "x",
         "tickformat": ".1%",
         "title": {
          "text": "percentage"
         }
        },
        "xaxis3": {
         "anchor": "y3",
         "domain": [
          0.6799999999999999,
          0.9999999999999999
         ],
         "matches": "x",
         "tickformat": ".1%",
         "title": {
          "text": "percentage"
         }
        },
        "yaxis": {
         "anchor": "x",
         "categoryarray": [
          "9: other–survey only",
          "8: school bus",
          "7: park-and-ride",
          "6: walk to transit",
          "5: hov 3+",
          "4: hov 2",
          "3: sov",
          "2: bike",
          "1: walk"
         ],
         "categoryorder": "array",
         "domain": [
          0.0,
          1.0
         ],
         "title": {
          "text": "tmodetp_label"
         }
        },
        "yaxis2": {
         "anchor": "x2",
         "domain": [
          0.0,
          1.0
         ],
         "matches": "y",
         "showticklabels": false
        },
        "yaxis3": {
         "anchor": "x3",
         "domain": [
          0.0,
          1.0
         ],
         "matches": "y",
         "showticklabels": false
        }
       }
      },
      "text/html": [
       "<div>                            <div id=\"ef84d577-8db6-4370-85c8-0ab429befa66\" class=\"plotly-graph-div\" style=\"height:500px; width:1000px;\"></div>            <script type=\"text/javascript\">                require([\"plotly\"], function(Plotly) {                    window.PLOTLYENV=window.PLOTLYENV || {};                                    if (document.getElementById(\"ef84d577-8db6-4370-85c8-0ab429befa66\")) {                    Plotly.newPlot(                        \"ef84d577-8db6-4370-85c8-0ab429befa66\",                        [{\"alignmentgroup\":\"True\",\"customdata\":[[5066],[1645],[1],[5357],[4848],[76]],\"hovertemplate\":\"source=model\\u003cbr\\u003eauto_available_driver=no car\\u003cbr\\u003epercentage=%{x}\\u003cbr\\u003etmodetp_label=%{y}\\u003cbr\\u003esample count=%{customdata[0]}\\u003cextra\\u003e\\u003c\\u002fextra\\u003e\",\"legendgroup\":\"model\",\"marker\":{\"color\":\"#91268F\",\"pattern\":{\"shape\":\"\"}},\"name\":\"model\",\"offsetgroup\":\"model\",\"orientation\":\"h\",\"showlegend\":true,\"textposition\":\"auto\",\"x\":[0.2981227564291179,0.0968045665862414,5.884776084269993e-05,0.3152474548343436,0.2852939445654093,0.004472429824045195],\"xaxis\":\"x\",\"y\":[\"1: walk\",\"2: bike\",\"4: hov 2\",\"5: hov 3+\",\"6: walk to transit\",\"8: school bus\"],\"yaxis\":\"y\",\"type\":\"bar\"},{\"alignmentgroup\":\"True\",\"customdata\":[[18510],[1486],[16865],[28838],[30549],[7756],[65497]],\"hovertemplate\":\"source=model\\u003cbr\\u003eauto_available_driver=cars fewer than drivers\\u003cbr\\u003epercentage=%{x}\\u003cbr\\u003etmodetp_label=%{y}\\u003cbr\\u003esample count=%{customdata[0]}\\u003cextra\\u003e\\u003c\\u002fextra\\u003e\",\"legendgroup\":\"model\",\"marker\":{\"color\":\"#91268F\",\"pattern\":{\"shape\":\"\"}},\"name\":\"model\",\"offsetgroup\":\"model\",\"orientation\":\"h\",\"showlegend\":false,\"textposition\":\"auto\",\"x\":[0.1092028955581383,0.008766909929734928,0.09949793806526215,0.17013468947085858,0.18022902519749145,0.045757842136624566,0.38641069964189],\"xaxis\":\"x2\",\"y\":[\"1: walk\",\"2: bike\",\"3: sov\",\"4: hov 2\",\"5: hov 3+\",\"6: walk to transit\",\"8: school bus\"],\"yaxis\":\"y2\",\"type\":\"bar\"},{\"alignmentgroup\":\"True\",\"customdata\":[[14113],[3941],[34003],[47769],[158733],[8309],[121639],[8]],\"hovertemplate\":\"source=model\\u003cbr\\u003eauto_available_driver=enough cars\\u003cbr\\u003epercentage=%{x}\\u003cbr\\u003etmodetp_label=%{y}\\u003cbr\\u003esample count=%{customdata[0]}\\u003cextra\\u003e\\u003c\\u002fextra\\u003e\",\"legendgroup\":\"model\",\"marker\":{\"color\":\"#91268F\",\"pattern\":{\"shape\":\"\"}},\"name\":\"model\",\"offsetgroup\":\"model\",\"orientation\":\"h\",\"showlegend\":false,\"textposition\":\"auto\",\"x\":[0.036325495798103034,0.010143752493468721,0.08752043035661429,0.12295278174587854,0.4085633759314312,0.02138656165141629,0.3130870107975239,2.059122556400654e-05],\"xaxis\":\"x3\",\"y\":[\"1: walk\",\"2: bike\",\"3: sov\",\"4: hov 2\",\"5: hov 3+\",\"6: walk to transit\",\"8: school bus\",\"9: tnc\"],\"yaxis\":\"y3\",\"type\":\"bar\"},{\"alignmentgroup\":\"True\",\"customdata\":[[8],[2],[1],[6],[2]],\"hovertemplate\":\"source=survey\\u003cbr\\u003eauto_available_driver=no car\\u003cbr\\u003epercentage=%{x}\\u003cbr\\u003etmodetp_label=%{y}\\u003cbr\\u003esample count=%{customdata[0]}\\u003cextra\\u003e\\u003c\\u002fextra\\u003e\",\"legendgroup\":\"survey\",\"marker\":{\"color\":\"#8CC63E\",\"pattern\":{\"shape\":\"\"}},\"name\":\"survey\",\"offsetgroup\":\"survey\",\"orientation\":\"h\",\"showlegend\":true,\"textposition\":\"auto\",\"x\":[0.41139757135287486,0.1299604277623922,0.20466396794113725,0.24773321706074286,0.006244815882852712],\"xaxis\":\"x\",\"y\":[\"1: walk\",\"2: bike\",\"4: hov 2\",\"6: walk to transit\",\"8: school bus\"],\"yaxis\":\"y\",\"type\":\"bar\"},{\"alignmentgroup\":\"True\",\"customdata\":[[25],[10],[12],[26],[49],[22],[47]],\"hovertemplate\":\"source=survey\\u003cbr\\u003eauto_available_driver=cars fewer than drivers\\u003cbr\\u003epercentage=%{x}\\u003cbr\\u003etmodetp_label=%{y}\\u003cbr\\u003esample count=%{customdata[0]}\\u003cextra\\u003e\\u003c\\u002fextra\\u003e\",\"legendgroup\":\"survey\",\"marker\":{\"color\":\"#8CC63E\",\"pattern\":{\"shape\":\"\"}},\"name\":\"survey\",\"offsetgroup\":\"survey\",\"orientation\":\"h\",\"showlegend\":false,\"textposition\":\"auto\",\"x\":[0.11302345575355523,0.008600434852809057,0.08886228839906533,0.1915737106703561,0.2211510321050868,0.042758835567015034,0.3340302426521125],\"xaxis\":\"x2\",\"y\":[\"1: walk\",\"2: bike\",\"3: sov\",\"4: hov 2\",\"5: hov 3+\",\"6: walk to transit\",\"8: school bus\"],\"yaxis\":\"y2\",\"type\":\"bar\"},{\"alignmentgroup\":\"True\",\"customdata\":[[29],[12],[30],[67],[144],[18],[102]],\"hovertemplate\":\"source=survey\\u003cbr\\u003eauto_available_driver=enough cars\\u003cbr\\u003epercentage=%{x}\\u003cbr\\u003etmodetp_label=%{y}\\u003cbr\\u003esample count=%{customdata[0]}\\u003cextra\\u003e\\u003c\\u002fextra\\u003e\",\"legendgroup\":\"survey\",\"marker\":{\"color\":\"#8CC63E\",\"pattern\":{\"shape\":\"\"}},\"name\":\"survey\",\"offsetgroup\":\"survey\",\"orientation\":\"h\",\"showlegend\":false,\"textposition\":\"auto\",\"x\":[0.033977922993149154,0.015982431181323812,0.09937546759244063,0.11447212861766691,0.4394425173920212,0.034598997476235765,0.2621505347471623],\"xaxis\":\"x3\",\"y\":[\"1: walk\",\"2: bike\",\"3: sov\",\"4: hov 2\",\"5: hov 3+\",\"6: walk to transit\",\"8: school bus\"],\"yaxis\":\"y3\",\"type\":\"bar\"},{\"alignmentgroup\":\"True\",\"customdata\":[[20],[8],[4],[45],[2],[4]],\"hovertemplate\":\"source=survey (2017\\u002f2019)\\u003cbr\\u003eauto_available_driver=no car\\u003cbr\\u003epercentage=%{x}\\u003cbr\\u003etmodetp_label=%{y}\\u003cbr\\u003esample count=%{customdata[0]}\\u003cextra\\u003e\\u003c\\u002fextra\\u003e\",\"legendgroup\":\"survey (2017\\u002f2019)\",\"marker\":{\"color\":\"#00A7A0\",\"pattern\":{\"shape\":\"\"}},\"name\":\"survey (2017\\u002f2019)\",\"offsetgroup\":\"survey (2017\\u002f2019)\",\"orientation\":\"h\",\"showlegend\":true,\"textposition\":\"auto\",\"x\":[0.13058034877455424,0.060121612242636464,0.3062945194096224,0.4612202021003567,0.022919793302780947,0.018863524170049252],\"xaxis\":\"x\",\"y\":[\"1: walk\",\"2: bike\",\"4: hov 2\",\"6: walk to transit\",\"8: school bus\",\"9: tnc\"],\"yaxis\":\"y\",\"type\":\"bar\"},{\"alignmentgroup\":\"True\",\"customdata\":[[44],[17],[29],[49],[86],[87],[51],[2]],\"hovertemplate\":\"source=survey (2017\\u002f2019)\\u003cbr\\u003eauto_available_driver=cars fewer than drivers\\u003cbr\\u003epercentage=%{x}\\u003cbr\\u003etmodetp_label=%{y}\\u003cbr\\u003esample count=%{customdata[0]}\\u003cextra\\u003e\\u003c\\u002fextra\\u003e\",\"legendgroup\":\"survey (2017\\u002f2019)\",\"marker\":{\"color\":\"#00A7A0\",\"pattern\":{\"shape\":\"\"}},\"name\":\"survey (2017\\u002f2019)\",\"offsetgroup\":\"survey (2017\\u002f2019)\",\"orientation\":\"h\",\"showlegend\":false,\"textposition\":\"auto\",\"x\":[0.10992090755094852,0.01790413585550476,0.11951752077041825,0.13722833552255964,0.37387281071392575,0.10794912899549133,0.1285562131280814,0.005050947463070341],\"xaxis\":\"x2\",\"y\":[\"1: walk\",\"2: bike\",\"3: sov\",\"4: hov 2\",\"5: hov 3+\",\"6: walk to transit\",\"8: school bus\",\"9: tnc\"],\"yaxis\":\"y2\",\"type\":\"bar\"},{\"alignmentgroup\":\"True\",\"customdata\":[[45],[6],[51],[145],[224],[62],[2],[137],[2]],\"hovertemplate\":\"source=survey (2017\\u002f2019)\\u003cbr\\u003eauto_available_driver=enough cars\\u003cbr\\u003epercentage=%{x}\\u003cbr\\u003etmodetp_label=%{y}\\u003cbr\\u003esample count=%{customdata[0]}\\u003cextra\\u003e\\u003c\\u002fextra\\u003e\",\"legendgroup\":\"survey (2017\\u002f2019)\",\"marker\":{\"color\":\"#00A7A0\",\"pattern\":{\"shape\":\"\"}},\"name\":\"survey (2017\\u002f2019)\",\"offsetgroup\":\"survey (2017\\u002f2019)\",\"orientation\":\"h\",\"showlegend\":false,\"textposition\":\"auto\",\"x\":[0.05906458444924414,0.00041091965568921103,0.0686845719621671,0.15825378919218394,0.3830749761400659,0.07227770432784332,0.012166107375485876,0.24350997694230206,0.002557369955018457],\"xaxis\":\"x3\",\"y\":[\"1: walk\",\"2: bike\",\"3: sov\",\"4: hov 2\",\"5: hov 3+\",\"6: walk to transit\",\"7: park-and-ride\",\"8: school bus\",\"9: tnc\"],\"yaxis\":\"y3\",\"type\":\"bar\"}],                        {\"template\":{\"data\":{\"barpolar\":[{\"marker\":{\"line\":{\"color\":\"white\",\"width\":0.5},\"pattern\":{\"fillmode\":\"overlay\",\"size\":10,\"solidity\":0.2}},\"type\":\"barpolar\"}],\"bar\":[{\"error_x\":{\"color\":\"rgb(36,36,36)\"},\"error_y\":{\"color\":\"rgb(36,36,36)\"},\"marker\":{\"line\":{\"color\":\"white\",\"width\":0.5},\"pattern\":{\"fillmode\":\"overlay\",\"size\":10,\"solidity\":0.2}},\"type\":\"bar\"}],\"carpet\":[{\"aaxis\":{\"endlinecolor\":\"rgb(36,36,36)\",\"gridcolor\":\"white\",\"linecolor\":\"white\",\"minorgridcolor\":\"white\",\"startlinecolor\":\"rgb(36,36,36)\"},\"baxis\":{\"endlinecolor\":\"rgb(36,36,36)\",\"gridcolor\":\"white\",\"linecolor\":\"white\",\"minorgridcolor\":\"white\",\"startlinecolor\":\"rgb(36,36,36)\"},\"type\":\"carpet\"}],\"choropleth\":[{\"colorbar\":{\"outlinewidth\":1,\"tickcolor\":\"rgb(36,36,36)\",\"ticks\":\"outside\"},\"type\":\"choropleth\"}],\"contourcarpet\":[{\"colorbar\":{\"outlinewidth\":1,\"tickcolor\":\"rgb(36,36,36)\",\"ticks\":\"outside\"},\"type\":\"contourcarpet\"}],\"contour\":[{\"colorbar\":{\"outlinewidth\":1,\"tickcolor\":\"rgb(36,36,36)\",\"ticks\":\"outside\"},\"colorscale\":[[0.0,\"#440154\"],[0.1111111111111111,\"#482878\"],[0.2222222222222222,\"#3e4989\"],[0.3333333333333333,\"#31688e\"],[0.4444444444444444,\"#26828e\"],[0.5555555555555556,\"#1f9e89\"],[0.6666666666666666,\"#35b779\"],[0.7777777777777778,\"#6ece58\"],[0.8888888888888888,\"#b5de2b\"],[1.0,\"#fde725\"]],\"type\":\"contour\"}],\"heatmapgl\":[{\"colorbar\":{\"outlinewidth\":1,\"tickcolor\":\"rgb(36,36,36)\",\"ticks\":\"outside\"},\"colorscale\":[[0.0,\"#440154\"],[0.1111111111111111,\"#482878\"],[0.2222222222222222,\"#3e4989\"],[0.3333333333333333,\"#31688e\"],[0.4444444444444444,\"#26828e\"],[0.5555555555555556,\"#1f9e89\"],[0.6666666666666666,\"#35b779\"],[0.7777777777777778,\"#6ece58\"],[0.8888888888888888,\"#b5de2b\"],[1.0,\"#fde725\"]],\"type\":\"heatmapgl\"}],\"heatmap\":[{\"colorbar\":{\"outlinewidth\":1,\"tickcolor\":\"rgb(36,36,36)\",\"ticks\":\"outside\"},\"colorscale\":[[0.0,\"#440154\"],[0.1111111111111111,\"#482878\"],[0.2222222222222222,\"#3e4989\"],[0.3333333333333333,\"#31688e\"],[0.4444444444444444,\"#26828e\"],[0.5555555555555556,\"#1f9e89\"],[0.6666666666666666,\"#35b779\"],[0.7777777777777778,\"#6ece58\"],[0.8888888888888888,\"#b5de2b\"],[1.0,\"#fde725\"]],\"type\":\"heatmap\"}],\"histogram2dcontour\":[{\"colorbar\":{\"outlinewidth\":1,\"tickcolor\":\"rgb(36,36,36)\",\"ticks\":\"outside\"},\"colorscale\":[[0.0,\"#440154\"],[0.1111111111111111,\"#482878\"],[0.2222222222222222,\"#3e4989\"],[0.3333333333333333,\"#31688e\"],[0.4444444444444444,\"#26828e\"],[0.5555555555555556,\"#1f9e89\"],[0.6666666666666666,\"#35b779\"],[0.7777777777777778,\"#6ece58\"],[0.8888888888888888,\"#b5de2b\"],[1.0,\"#fde725\"]],\"type\":\"histogram2dcontour\"}],\"histogram2d\":[{\"colorbar\":{\"outlinewidth\":1,\"tickcolor\":\"rgb(36,36,36)\",\"ticks\":\"outside\"},\"colorscale\":[[0.0,\"#440154\"],[0.1111111111111111,\"#482878\"],[0.2222222222222222,\"#3e4989\"],[0.3333333333333333,\"#31688e\"],[0.4444444444444444,\"#26828e\"],[0.5555555555555556,\"#1f9e89\"],[0.6666666666666666,\"#35b779\"],[0.7777777777777778,\"#6ece58\"],[0.8888888888888888,\"#b5de2b\"],[1.0,\"#fde725\"]],\"type\":\"histogram2d\"}],\"histogram\":[{\"marker\":{\"line\":{\"color\":\"white\",\"width\":0.6}},\"type\":\"histogram\"}],\"mesh3d\":[{\"colorbar\":{\"outlinewidth\":1,\"tickcolor\":\"rgb(36,36,36)\",\"ticks\":\"outside\"},\"type\":\"mesh3d\"}],\"parcoords\":[{\"line\":{\"colorbar\":{\"outlinewidth\":1,\"tickcolor\":\"rgb(36,36,36)\",\"ticks\":\"outside\"}},\"type\":\"parcoords\"}],\"pie\":[{\"automargin\":true,\"type\":\"pie\"}],\"scatter3d\":[{\"line\":{\"colorbar\":{\"outlinewidth\":1,\"tickcolor\":\"rgb(36,36,36)\",\"ticks\":\"outside\"}},\"marker\":{\"colorbar\":{\"outlinewidth\":1,\"tickcolor\":\"rgb(36,36,36)\",\"ticks\":\"outside\"}},\"type\":\"scatter3d\"}],\"scattercarpet\":[{\"marker\":{\"colorbar\":{\"outlinewidth\":1,\"tickcolor\":\"rgb(36,36,36)\",\"ticks\":\"outside\"}},\"type\":\"scattercarpet\"}],\"scattergeo\":[{\"marker\":{\"colorbar\":{\"outlinewidth\":1,\"tickcolor\":\"rgb(36,36,36)\",\"ticks\":\"outside\"}},\"type\":\"scattergeo\"}],\"scattergl\":[{\"marker\":{\"colorbar\":{\"outlinewidth\":1,\"tickcolor\":\"rgb(36,36,36)\",\"ticks\":\"outside\"}},\"type\":\"scattergl\"}],\"scattermapbox\":[{\"marker\":{\"colorbar\":{\"outlinewidth\":1,\"tickcolor\":\"rgb(36,36,36)\",\"ticks\":\"outside\"}},\"type\":\"scattermapbox\"}],\"scatterpolargl\":[{\"marker\":{\"colorbar\":{\"outlinewidth\":1,\"tickcolor\":\"rgb(36,36,36)\",\"ticks\":\"outside\"}},\"type\":\"scatterpolargl\"}],\"scatterpolar\":[{\"marker\":{\"colorbar\":{\"outlinewidth\":1,\"tickcolor\":\"rgb(36,36,36)\",\"ticks\":\"outside\"}},\"type\":\"scatterpolar\"}],\"scatter\":[{\"fillpattern\":{\"fillmode\":\"overlay\",\"size\":10,\"solidity\":0.2},\"type\":\"scatter\"}],\"scatterternary\":[{\"marker\":{\"colorbar\":{\"outlinewidth\":1,\"tickcolor\":\"rgb(36,36,36)\",\"ticks\":\"outside\"}},\"type\":\"scatterternary\"}],\"surface\":[{\"colorbar\":{\"outlinewidth\":1,\"tickcolor\":\"rgb(36,36,36)\",\"ticks\":\"outside\"},\"colorscale\":[[0.0,\"#440154\"],[0.1111111111111111,\"#482878\"],[0.2222222222222222,\"#3e4989\"],[0.3333333333333333,\"#31688e\"],[0.4444444444444444,\"#26828e\"],[0.5555555555555556,\"#1f9e89\"],[0.6666666666666666,\"#35b779\"],[0.7777777777777778,\"#6ece58\"],[0.8888888888888888,\"#b5de2b\"],[1.0,\"#fde725\"]],\"type\":\"surface\"}],\"table\":[{\"cells\":{\"fill\":{\"color\":\"rgb(237,237,237)\"},\"line\":{\"color\":\"white\"}},\"header\":{\"fill\":{\"color\":\"rgb(217,217,217)\"},\"line\":{\"color\":\"white\"}},\"type\":\"table\"}]},\"layout\":{\"annotationdefaults\":{\"arrowhead\":0,\"arrowwidth\":1},\"autotypenumbers\":\"strict\",\"coloraxis\":{\"colorbar\":{\"outlinewidth\":1,\"tickcolor\":\"rgb(36,36,36)\",\"ticks\":\"outside\"}},\"colorscale\":{\"diverging\":[[0.0,\"rgb(103,0,31)\"],[0.1,\"rgb(178,24,43)\"],[0.2,\"rgb(214,96,77)\"],[0.3,\"rgb(244,165,130)\"],[0.4,\"rgb(253,219,199)\"],[0.5,\"rgb(247,247,247)\"],[0.6,\"rgb(209,229,240)\"],[0.7,\"rgb(146,197,222)\"],[0.8,\"rgb(67,147,195)\"],[0.9,\"rgb(33,102,172)\"],[1.0,\"rgb(5,48,97)\"]],\"sequential\":[[0.0,\"#440154\"],[0.1111111111111111,\"#482878\"],[0.2222222222222222,\"#3e4989\"],[0.3333333333333333,\"#31688e\"],[0.4444444444444444,\"#26828e\"],[0.5555555555555556,\"#1f9e89\"],[0.6666666666666666,\"#35b779\"],[0.7777777777777778,\"#6ece58\"],[0.8888888888888888,\"#b5de2b\"],[1.0,\"#fde725\"]],\"sequentialminus\":[[0.0,\"#440154\"],[0.1111111111111111,\"#482878\"],[0.2222222222222222,\"#3e4989\"],[0.3333333333333333,\"#31688e\"],[0.4444444444444444,\"#26828e\"],[0.5555555555555556,\"#1f9e89\"],[0.6666666666666666,\"#35b779\"],[0.7777777777777778,\"#6ece58\"],[0.8888888888888888,\"#b5de2b\"],[1.0,\"#fde725\"]]},\"colorway\":[\"#91268F\",\"#8CC63E\",\"#00A7A0\",\"#F05A28\",\"#4C4C4C\",\"#630460\",\"#9f3913\",\"#588527\",\"#00716c\",\"#3e4040\"],\"font\":{\"color\":\"rgb(36,36,36)\",\"family\":\"Poppins\",\"size\":11},\"geo\":{\"bgcolor\":\"white\",\"lakecolor\":\"white\",\"landcolor\":\"white\",\"showlakes\":true,\"showland\":true,\"subunitcolor\":\"white\"},\"hoverlabel\":{\"align\":\"left\"},\"hovermode\":\"closest\",\"mapbox\":{\"style\":\"light\"},\"paper_bgcolor\":\"white\",\"plot_bgcolor\":\"white\",\"polar\":{\"angularaxis\":{\"gridcolor\":\"rgb(232,232,232)\",\"linecolor\":\"rgb(36,36,36)\",\"showgrid\":false,\"showline\":true,\"ticks\":\"outside\"},\"bgcolor\":\"white\",\"radialaxis\":{\"gridcolor\":\"rgb(232,232,232)\",\"linecolor\":\"rgb(36,36,36)\",\"showgrid\":false,\"showline\":true,\"ticks\":\"outside\"}},\"scene\":{\"xaxis\":{\"backgroundcolor\":\"white\",\"gridcolor\":\"rgb(232,232,232)\",\"gridwidth\":2,\"linecolor\":\"rgb(36,36,36)\",\"showbackground\":true,\"showgrid\":false,\"showline\":true,\"ticks\":\"outside\",\"zeroline\":false,\"zerolinecolor\":\"rgb(36,36,36)\"},\"yaxis\":{\"backgroundcolor\":\"white\",\"gridcolor\":\"rgb(232,232,232)\",\"gridwidth\":2,\"linecolor\":\"rgb(36,36,36)\",\"showbackground\":true,\"showgrid\":false,\"showline\":true,\"ticks\":\"outside\",\"zeroline\":false,\"zerolinecolor\":\"rgb(36,36,36)\"},\"zaxis\":{\"backgroundcolor\":\"white\",\"gridcolor\":\"rgb(232,232,232)\",\"gridwidth\":2,\"linecolor\":\"rgb(36,36,36)\",\"showbackground\":true,\"showgrid\":false,\"showline\":true,\"ticks\":\"outside\",\"zeroline\":false,\"zerolinecolor\":\"rgb(36,36,36)\"}},\"shapedefaults\":{\"fillcolor\":\"black\",\"line\":{\"width\":0},\"opacity\":0.3},\"ternary\":{\"aaxis\":{\"gridcolor\":\"rgb(232,232,232)\",\"linecolor\":\"rgb(36,36,36)\",\"showgrid\":false,\"showline\":true,\"ticks\":\"outside\"},\"baxis\":{\"gridcolor\":\"rgb(232,232,232)\",\"linecolor\":\"rgb(36,36,36)\",\"showgrid\":false,\"showline\":true,\"ticks\":\"outside\"},\"bgcolor\":\"white\",\"caxis\":{\"gridcolor\":\"rgb(232,232,232)\",\"linecolor\":\"rgb(36,36,36)\",\"showgrid\":false,\"showline\":true,\"ticks\":\"outside\"}},\"title\":{\"x\":0.05},\"xaxis\":{\"automargin\":true,\"gridcolor\":\"rgb(232,232,232)\",\"linecolor\":\"rgb(36,36,36)\",\"showgrid\":false,\"showline\":true,\"ticks\":\"outside\",\"title\":{\"standoff\":15},\"zeroline\":false,\"zerolinecolor\":\"rgb(36,36,36)\"},\"yaxis\":{\"automargin\":true,\"gridcolor\":\"rgb(232,232,232)\",\"linecolor\":\"rgb(36,36,36)\",\"showgrid\":false,\"showline\":true,\"ticks\":\"outside\",\"title\":{\"standoff\":15},\"zeroline\":false,\"zerolinecolor\":\"rgb(36,36,36)\"}}},\"xaxis\":{\"anchor\":\"y\",\"domain\":[0.0,0.31999999999999995],\"title\":{\"text\":\"percentage\"},\"tickformat\":\".1%\"},\"yaxis\":{\"anchor\":\"x\",\"domain\":[0.0,1.0],\"title\":{\"text\":\"tmodetp_label\"},\"categoryorder\":\"array\",\"categoryarray\":[\"9: other\\u00e2\\u20ac\\u201csurvey only\",\"8: school bus\",\"7: park-and-ride\",\"6: walk to transit\",\"5: hov 3+\",\"4: hov 2\",\"3: sov\",\"2: bike\",\"1: walk\"]},\"xaxis2\":{\"anchor\":\"y2\",\"domain\":[0.33999999999999997,0.6599999999999999],\"matches\":\"x\",\"title\":{\"text\":\"percentage\"},\"tickformat\":\".1%\"},\"yaxis2\":{\"anchor\":\"x2\",\"domain\":[0.0,1.0],\"matches\":\"y\",\"showticklabels\":false},\"xaxis3\":{\"anchor\":\"y3\",\"domain\":[0.6799999999999999,0.9999999999999999],\"matches\":\"x\",\"title\":{\"text\":\"percentage\"},\"tickformat\":\".1%\"},\"yaxis3\":{\"anchor\":\"x3\",\"domain\":[0.0,1.0],\"matches\":\"y\",\"showticklabels\":false},\"annotations\":[{\"font\":{},\"showarrow\":false,\"text\":\"no car\",\"x\":0.15999999999999998,\"xanchor\":\"center\",\"xref\":\"paper\",\"y\":1.0,\"yanchor\":\"bottom\",\"yref\":\"paper\"},{\"font\":{},\"showarrow\":false,\"text\":\"cars fewer than drivers\",\"x\":0.49999999999999994,\"xanchor\":\"center\",\"xref\":\"paper\",\"y\":1.0,\"yanchor\":\"bottom\",\"yref\":\"paper\"},{\"font\":{},\"showarrow\":false,\"text\":\"enough cars\",\"x\":0.8399999999999999,\"xanchor\":\"center\",\"xref\":\"paper\",\"y\":1.0,\"yanchor\":\"bottom\",\"yref\":\"paper\"}],\"legend\":{\"title\":{\"text\":\"source\"},\"tracegroupgap\":0},\"title\":{\"text\":\"school tour mode choice by auto availability (driver, showing only households with at least one driver)\"},\"barmode\":\"group\",\"height\":500,\"width\":1000},                        {\"responsive\": true}                    ).then(function(){\n",
       "                            \n",
       "var gd = document.getElementById('ef84d577-8db6-4370-85c8-0ab429befa66');\n",
       "var x = new MutationObserver(function (mutations, observer) {{\n",
       "        var display = window.getComputedStyle(gd).display;\n",
       "        if (!display || display === 'none') {{\n",
       "            console.log([gd, 'removed!']);\n",
       "            Plotly.purge(gd);\n",
       "            observer.disconnect();\n",
       "        }}\n",
       "}});\n",
       "\n",
       "// Listen for the removal of the full notebook cells\n",
       "var notebookContainer = gd.closest('#notebook-container');\n",
       "if (notebookContainer) {{\n",
       "    x.observe(notebookContainer, {childList: true});\n",
       "}}\n",
       "\n",
       "// Listen for the clearing of the current output cell\n",
       "var outputEl = gd.closest('.output');\n",
       "if (outputEl) {{\n",
       "    x.observe(outputEl, {childList: true});\n",
       "}}\n",
       "\n",
       "                        })                };                });            </script>        </div>"
      ]
     },
     "metadata": {},
     "output_type": "display_data"
    }
   ],
   "source": [
    "plot_mode_choice(sc_tour.loc[sc_tour['auto_available_driver']!=\"no dirver\"],\"auto_available_driver\",\n",
    "                 {\"auto_available_driver\":[\"no car\", \"cars fewer than drivers\",\"enough cars\"],\n",
    "                  \"tmodetp_label\":[\"1: walk\",\"2: bike\",\"3: sov\",\"4: hov 2\",\"5: hov 3+\",\"6: walk to transit\",\n",
    "                                   \"7: park-and-ride\",\"8: school bus\",\"9: other–survey only\"]},\n",
    "                 \"auto availability (driver, showing only households with at least one driver)\",3,500,1000)"
   ]
  },
  {
   "cell_type": "raw",
   "metadata": {},
   "source": [
    ":::"
   ]
  }
 ],
 "metadata": {
  "kernelspec": {
   "display_name": "Python 3",
   "language": "python",
   "name": "python3"
  },
  "language_info": {
   "codemirror_mode": {
    "name": "ipython",
    "version": 3
   },
   "file_extension": ".py",
   "mimetype": "text/x-python",
   "name": "python",
   "nbconvert_exporter": "python",
   "pygments_lexer": "ipython3",
   "version": "3.7.10"
  }
 },
 "nbformat": 4,
 "nbformat_minor": 2
}
