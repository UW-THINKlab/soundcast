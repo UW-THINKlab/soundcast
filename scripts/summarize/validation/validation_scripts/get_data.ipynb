{
 "cells": [
  {
   "cell_type": "code",
   "execution_count": null,
   "metadata": {
    "ExecuteTime": {
     "end_time": "2024-10-14T22:28:31.377548Z",
     "start_time": "2024-10-14T22:26:33.246343Z"
    },
    "execution": {
     "iopub.execute_input": "2025-01-21T07:03:55.860146Z",
     "iopub.status.busy": "2025-01-21T07:03:55.857426Z",
     "iopub.status.idle": "2025-01-21T07:10:21.383606Z",
     "shell.execute_reply": "2025-01-21T07:10:21.381106Z"
    }
   },
   "outputs": [],
   "source": [
    "import util\n",
    "import toml\n",
    "from pathlib import Path\n",
    "\n",
    "%store -z\n",
    "\n",
    "config = toml.load(Path(Path.cwd(), '..\\\\..\\\\..\\\\..\\\\configuration', 'validation_configuration.toml'))\n",
    "input_config = toml.load(Path(Path.cwd(), '..\\\\..\\\\..\\\\..\\\\configuration', 'input_configuration.toml'))\n",
    "\n",
    "validation_data = util.ValidationData(config,input_config)\n",
    "\n",
    "%store validation_data\n",
    "\n",
    "# del validation_data"
   ]
  }
 ],
 "metadata": {
  "kernelspec": {
   "display_name": "build_notebook",
   "language": "python",
   "name": "python3"
  },
  "language_info": {
   "codemirror_mode": {
    "name": "ipython",
    "version": 3
   },
   "file_extension": ".py",
   "mimetype": "text/x-python",
   "name": "python",
   "nbconvert_exporter": "python",
   "pygments_lexer": "ipython3",
   "version": "3.10.15"
  }
 },
 "nbformat": 4,
 "nbformat_minor": 2
}
