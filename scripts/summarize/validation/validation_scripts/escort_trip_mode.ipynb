{
 "cells": [
  {
   "cell_type": "raw",
   "metadata": {},
   "source": [
    "---\n",
    "title: \"Escort Trip Mode\"\n",
    "date: today\n",
    "---"
   ]
  },
  {
   "cell_type": "code",
   "execution_count": 1,
   "metadata": {
    "ExecuteTime": {
     "end_time": "2024-08-30T21:04:24.348252Z",
     "start_time": "2024-08-30T21:04:20.959491Z"
    },
    "execution": {
     "iopub.execute_input": "2025-01-21T06:21:13.957367Z",
     "iopub.status.busy": "2025-01-21T06:21:13.955302Z",
     "iopub.status.idle": "2025-01-21T06:21:16.857834Z",
     "shell.execute_reply": "2025-01-21T06:21:16.856837Z"
    }
   },
   "outputs": [],
   "source": [
    "import os\n",
    "import pandas as pd\n",
    "import numpy as np\n",
    "# import validation_data_input\n",
    "import plotly.express as px\n",
    "import toml\n",
    "import psrc_theme\n",
    "\n",
    "# to show plotly figures in quarto HTML file\n",
    "import plotly.io as pio\n",
    "\n",
    "pio.renderers.default = \"plotly_mimetype+notebook_connected\"\n",
    "pio.templates.default = \"simple_white+psrc_color\" # set plotly template"
   ]
  },
  {
   "cell_type": "code",
   "execution_count": 2,
   "metadata": {
    "ExecuteTime": {
     "end_time": "2024-08-30T21:05:12.297298Z",
     "start_time": "2024-08-30T21:04:24.348774Z"
    },
    "execution": {
     "iopub.execute_input": "2025-01-21T06:21:16.867808Z",
     "iopub.status.busy": "2025-01-21T06:21:16.866810Z",
     "iopub.status.idle": "2025-01-21T06:21:32.717499Z",
     "shell.execute_reply": "2025-01-21T06:21:32.715499Z"
    }
   },
   "outputs": [],
   "source": [
    "%store -r validation_data\n",
    "\n",
    "config = validation_data.config.copy()\n",
    "hh = validation_data.hh.copy()\n",
    "person = validation_data.person.copy()\n",
    "trip = validation_data.trip.copy()\n",
    "df_parcel = validation_data.land_use.copy()"
   ]
  },
  {
   "cell_type": "code",
   "execution_count": 3,
   "metadata": {
    "ExecuteTime": {
     "end_time": "2024-08-30T21:06:43.391162Z",
     "start_time": "2024-08-30T21:06:13.899424Z"
    },
    "execution": {
     "iopub.execute_input": "2025-01-21T06:21:32.731539Z",
     "iopub.status.busy": "2025-01-21T06:21:32.728470Z",
     "iopub.status.idle": "2025-01-21T06:21:51.916951Z",
     "shell.execute_reply": "2025-01-21T06:21:51.914693Z"
    }
   },
   "outputs": [],
   "source": [
    "df_trip = trip.copy()\n",
    "df_hh = hh.copy()\n",
    "df_person = person.copy()\n",
    "\n",
    "# Add column for (potential) drivers adults (all hh members 16 and above)\n",
    "df_hh['drivers'] = df_hh['hhsize']-df_hh['hh515']-df_hh['hhcu5']#-df_hh['hhhsc']\n",
    "# auto_ownership with 4+\n",
    "df_hh['auto_ownership_4+'] = df_hh['hhvehs'].apply(lambda x: \"4+\" if x>=4.0 else str(x))\n",
    "# hhsize with 4+\n",
    "df_hh['hhsize_4+'] = df_hh['hhsize'].apply(lambda x: \"4+\" if x>=4.0 else str(x))\n",
    "# auto availability\n",
    "df_hh['auto_count_driver'] = df_hh['hhvehs']-df_hh['drivers']\n",
    "df_hh['auto_count_worker'] = df_hh['hhvehs']-df_hh['hhwkrs']\n",
    "df_hh['auto_available_driver'] = np.where(df_hh['drivers']<=0, \"no driver\",\n",
    "                                          np.where(df_hh['hhvehs']<=0, \"no car\",\n",
    "                                                   np.where(df_hh['auto_count_driver']<0, \"cars fewer than drivers\", \"enough cars\")))\n",
    "\n",
    "df_hh['auto_available_worker'] = np.where(df_hh['hhwkrs']<=0, \"no worker\",\n",
    "                                          np.where(df_hh['hhvehs']<=0, \"no car\",\n",
    "                                                   np.where(df_hh['auto_count_worker']<0, \"cars fewer than workers\", \"enough cars\")))\n",
    "\n",
    "\n",
    "# add person type labels\n",
    "ptype_cat = {1: \"full time worker\",\n",
    "             2: \"part time worker\",\n",
    "             3: \"non-worker age 65+\",\n",
    "             4: \"other non-working adult\",\n",
    "             5: \"university student\",\n",
    "             6: \"grade school student/child age 16+\",\n",
    "             7: \"child age 5-15\",\n",
    "             8: \"child age 0-4\"}\n",
    "df_person['pptyp_label'] = df_person['pptyp'].map(ptype_cat)\n",
    "\n",
    "mode_cat = {1: \"1: walk\",\n",
    "            2: \"2: bike\",\n",
    "            3: \"3: sov\",\n",
    "            4: \"4: hov 2\",\n",
    "            5: \"5: hov 3+\",\n",
    "            6: \"6: transit\",\n",
    "            8: \"8: school bus\",\n",
    "            9: \"9: tnc\"}\n",
    "df_trip['mode_label'] = df_trip['mode'].map(mode_cat)\n",
    "\n",
    "df_hh = df_hh.merge(df_parcel,how=\"left\",left_on='hhno',right_on='parcelid')\n",
    "df_person = df_person.merge(df_hh,\n",
    "                          how='left', on=['hhno','source']) # get auto ownership from hh data\n",
    "\n",
    "df_trip = df_trip.merge(df_person, how='left', on=['pno','hhno','source'])"
   ]
  },
  {
   "cell_type": "code",
   "execution_count": 4,
   "metadata": {
    "ExecuteTime": {
     "end_time": "2024-08-30T21:06:47.540566Z",
     "start_time": "2024-08-30T21:06:43.391162Z"
    },
    "execution": {
     "iopub.execute_input": "2025-01-21T06:21:51.928926Z",
     "iopub.status.busy": "2025-01-21T06:21:51.927929Z",
     "iopub.status.idle": "2025-01-21T06:21:59.714028Z",
     "shell.execute_reply": "2025-01-21T06:21:59.713030Z"
    }
   },
   "outputs": [],
   "source": [
    "es_trip = df_trip.loc[(df_trip['dpurp']==3)].copy()"
   ]
  },
  {
   "cell_type": "code",
   "execution_count": 5,
   "metadata": {
    "execution": {
     "iopub.execute_input": "2025-01-21T06:21:59.725995Z",
     "iopub.status.busy": "2025-01-21T06:21:59.724998Z",
     "iopub.status.idle": "2025-01-21T06:22:00.532309Z",
     "shell.execute_reply": "2025-01-21T06:22:00.530314Z"
    }
   },
   "outputs": [
    {
     "data": {
      "text/html": [
       "        <script type=\"text/javascript\">\n",
       "        window.PlotlyConfig = {MathJaxConfig: 'local'};\n",
       "        if (window.MathJax && window.MathJax.Hub && window.MathJax.Hub.Config) {window.MathJax.Hub.Config({SVG: {font: \"STIX-Web\"}});}\n",
       "        if (typeof require !== 'undefined') {\n",
       "        require.undef(\"plotly\");\n",
       "        requirejs.config({\n",
       "            paths: {\n",
       "                'plotly': ['https://cdn.plot.ly/plotly-2.27.0.min']\n",
       "            }\n",
       "        });\n",
       "        require(['plotly'], function(Plotly) {\n",
       "            window._Plotly = Plotly;\n",
       "        });\n",
       "        }\n",
       "        </script>\n",
       "        "
      ]
     },
     "metadata": {},
     "output_type": "display_data"
    },
    {
     "data": {
      "application/vnd.plotly.v1+json": {
       "config": {
        "plotlyServerURL": "https://plot.ly"
       },
       "data": [
        {
         "alignmentgroup": "True",
         "customdata": [
          [
           168922
          ],
          [
           22063
          ],
          [
           557105
          ],
          [
           480756
          ],
          [
           399109
          ],
          [
           9194
          ],
          [
           17564
          ],
          [
           1976
          ]
         ],
         "hovertemplate": "source=model<br>mode_label=%{x}<br>percentage=%{y}<br>sample count=%{customdata[0]}<extra></extra>",
         "legendgroup": "model",
         "marker": {
          "color": "#91268F",
          "pattern": {
           "shape": ""
          }
         },
         "name": "model",
         "offsetgroup": "model",
         "orientation": "v",
         "showlegend": true,
         "textposition": "auto",
         "type": "bar",
         "x": [
          "1: walk",
          "2: bike",
          "3: sov",
          "4: hov 2",
          "5: hov 3+",
          "6: transit",
          "8: school bus",
          "9: tnc"
         ],
         "xaxis": "x",
         "y": [
          0.10196361537983291,
          0.013317526705374394,
          0.33627615080440565,
          0.2901908565820139,
          0.24090761754318402,
          0.005549623375298562,
          0.010601869149852507,
          0.001192740460038064
         ],
         "yaxis": "y"
        },
        {
         "alignmentgroup": "True",
         "customdata": [
          [
           173
          ],
          [
           28
          ],
          [
           471
          ],
          [
           633
          ],
          [
           472
          ],
          [
           8
          ],
          [
           3
          ],
          [
           1
          ]
         ],
         "hovertemplate": "source=survey<br>mode_label=%{x}<br>percentage=%{y}<br>sample count=%{customdata[0]}<extra></extra>",
         "legendgroup": "survey",
         "marker": {
          "color": "#8CC63E",
          "pattern": {
           "shape": ""
          }
         },
         "name": "survey",
         "offsetgroup": "survey",
         "orientation": "v",
         "showlegend": true,
         "textposition": "auto",
         "type": "bar",
         "x": [
          "1: walk",
          "2: bike",
          "3: sov",
          "4: hov 2",
          "5: hov 3+",
          "6: transit",
          "8: school bus",
          "9: tnc"
         ],
         "xaxis": "x",
         "y": [
          0.06075525335667177,
          0.0017789991203712018,
          0.25378233470021266,
          0.3445320957163697,
          0.33846108182579887,
          0.0005522958490732914,
          0.00013116951978584763,
          6.769911716769359e-06
         ],
         "yaxis": "y"
        }
       ],
       "layout": {
        "barmode": "group",
        "font": {
         "size": 11
        },
        "height": 400,
        "legend": {
         "title": {
          "text": "source"
         },
         "tracegroupgap": 0
        },
        "template": {
         "data": {
          "bar": [
           {
            "error_x": {
             "color": "rgb(36,36,36)"
            },
            "error_y": {
             "color": "rgb(36,36,36)"
            },
            "marker": {
             "line": {
              "color": "white",
              "width": 0.5
             },
             "pattern": {
              "fillmode": "overlay",
              "size": 10,
              "solidity": 0.2
             }
            },
            "type": "bar"
           }
          ],
          "barpolar": [
           {
            "marker": {
             "line": {
              "color": "white",
              "width": 0.5
             },
             "pattern": {
              "fillmode": "overlay",
              "size": 10,
              "solidity": 0.2
             }
            },
            "type": "barpolar"
           }
          ],
          "carpet": [
           {
            "aaxis": {
             "endlinecolor": "rgb(36,36,36)",
             "gridcolor": "white",
             "linecolor": "white",
             "minorgridcolor": "white",
             "startlinecolor": "rgb(36,36,36)"
            },
            "baxis": {
             "endlinecolor": "rgb(36,36,36)",
             "gridcolor": "white",
             "linecolor": "white",
             "minorgridcolor": "white",
             "startlinecolor": "rgb(36,36,36)"
            },
            "type": "carpet"
           }
          ],
          "choropleth": [
           {
            "colorbar": {
             "outlinewidth": 1,
             "tickcolor": "rgb(36,36,36)",
             "ticks": "outside"
            },
            "type": "choropleth"
           }
          ],
          "contour": [
           {
            "colorbar": {
             "outlinewidth": 1,
             "tickcolor": "rgb(36,36,36)",
             "ticks": "outside"
            },
            "colorscale": [
             [
              0.0,
              "#440154"
             ],
             [
              0.1111111111111111,
              "#482878"
             ],
             [
              0.2222222222222222,
              "#3e4989"
             ],
             [
              0.3333333333333333,
              "#31688e"
             ],
             [
              0.4444444444444444,
              "#26828e"
             ],
             [
              0.5555555555555556,
              "#1f9e89"
             ],
             [
              0.6666666666666666,
              "#35b779"
             ],
             [
              0.7777777777777778,
              "#6ece58"
             ],
             [
              0.8888888888888888,
              "#b5de2b"
             ],
             [
              1.0,
              "#fde725"
             ]
            ],
            "type": "contour"
           }
          ],
          "contourcarpet": [
           {
            "colorbar": {
             "outlinewidth": 1,
             "tickcolor": "rgb(36,36,36)",
             "ticks": "outside"
            },
            "type": "contourcarpet"
           }
          ],
          "heatmap": [
           {
            "colorbar": {
             "outlinewidth": 1,
             "tickcolor": "rgb(36,36,36)",
             "ticks": "outside"
            },
            "colorscale": [
             [
              0.0,
              "#440154"
             ],
             [
              0.1111111111111111,
              "#482878"
             ],
             [
              0.2222222222222222,
              "#3e4989"
             ],
             [
              0.3333333333333333,
              "#31688e"
             ],
             [
              0.4444444444444444,
              "#26828e"
             ],
             [
              0.5555555555555556,
              "#1f9e89"
             ],
             [
              0.6666666666666666,
              "#35b779"
             ],
             [
              0.7777777777777778,
              "#6ece58"
             ],
             [
              0.8888888888888888,
              "#b5de2b"
             ],
             [
              1.0,
              "#fde725"
             ]
            ],
            "type": "heatmap"
           }
          ],
          "heatmapgl": [
           {
            "colorbar": {
             "outlinewidth": 1,
             "tickcolor": "rgb(36,36,36)",
             "ticks": "outside"
            },
            "colorscale": [
             [
              0.0,
              "#440154"
             ],
             [
              0.1111111111111111,
              "#482878"
             ],
             [
              0.2222222222222222,
              "#3e4989"
             ],
             [
              0.3333333333333333,
              "#31688e"
             ],
             [
              0.4444444444444444,
              "#26828e"
             ],
             [
              0.5555555555555556,
              "#1f9e89"
             ],
             [
              0.6666666666666666,
              "#35b779"
             ],
             [
              0.7777777777777778,
              "#6ece58"
             ],
             [
              0.8888888888888888,
              "#b5de2b"
             ],
             [
              1.0,
              "#fde725"
             ]
            ],
            "type": "heatmapgl"
           }
          ],
          "histogram": [
           {
            "marker": {
             "line": {
              "color": "white",
              "width": 0.6
             }
            },
            "type": "histogram"
           }
          ],
          "histogram2d": [
           {
            "colorbar": {
             "outlinewidth": 1,
             "tickcolor": "rgb(36,36,36)",
             "ticks": "outside"
            },
            "colorscale": [
             [
              0.0,
              "#440154"
             ],
             [
              0.1111111111111111,
              "#482878"
             ],
             [
              0.2222222222222222,
              "#3e4989"
             ],
             [
              0.3333333333333333,
              "#31688e"
             ],
             [
              0.4444444444444444,
              "#26828e"
             ],
             [
              0.5555555555555556,
              "#1f9e89"
             ],
             [
              0.6666666666666666,
              "#35b779"
             ],
             [
              0.7777777777777778,
              "#6ece58"
             ],
             [
              0.8888888888888888,
              "#b5de2b"
             ],
             [
              1.0,
              "#fde725"
             ]
            ],
            "type": "histogram2d"
           }
          ],
          "histogram2dcontour": [
           {
            "colorbar": {
             "outlinewidth": 1,
             "tickcolor": "rgb(36,36,36)",
             "ticks": "outside"
            },
            "colorscale": [
             [
              0.0,
              "#440154"
             ],
             [
              0.1111111111111111,
              "#482878"
             ],
             [
              0.2222222222222222,
              "#3e4989"
             ],
             [
              0.3333333333333333,
              "#31688e"
             ],
             [
              0.4444444444444444,
              "#26828e"
             ],
             [
              0.5555555555555556,
              "#1f9e89"
             ],
             [
              0.6666666666666666,
              "#35b779"
             ],
             [
              0.7777777777777778,
              "#6ece58"
             ],
             [
              0.8888888888888888,
              "#b5de2b"
             ],
             [
              1.0,
              "#fde725"
             ]
            ],
            "type": "histogram2dcontour"
           }
          ],
          "mesh3d": [
           {
            "colorbar": {
             "outlinewidth": 1,
             "tickcolor": "rgb(36,36,36)",
             "ticks": "outside"
            },
            "type": "mesh3d"
           }
          ],
          "parcoords": [
           {
            "line": {
             "colorbar": {
              "outlinewidth": 1,
              "tickcolor": "rgb(36,36,36)",
              "ticks": "outside"
             }
            },
            "type": "parcoords"
           }
          ],
          "pie": [
           {
            "automargin": true,
            "type": "pie"
           }
          ],
          "scatter": [
           {
            "fillpattern": {
             "fillmode": "overlay",
             "size": 10,
             "solidity": 0.2
            },
            "type": "scatter"
           }
          ],
          "scatter3d": [
           {
            "line": {
             "colorbar": {
              "outlinewidth": 1,
              "tickcolor": "rgb(36,36,36)",
              "ticks": "outside"
             }
            },
            "marker": {
             "colorbar": {
              "outlinewidth": 1,
              "tickcolor": "rgb(36,36,36)",
              "ticks": "outside"
             }
            },
            "type": "scatter3d"
           }
          ],
          "scattercarpet": [
           {
            "marker": {
             "colorbar": {
              "outlinewidth": 1,
              "tickcolor": "rgb(36,36,36)",
              "ticks": "outside"
             }
            },
            "type": "scattercarpet"
           }
          ],
          "scattergeo": [
           {
            "marker": {
             "colorbar": {
              "outlinewidth": 1,
              "tickcolor": "rgb(36,36,36)",
              "ticks": "outside"
             }
            },
            "type": "scattergeo"
           }
          ],
          "scattergl": [
           {
            "marker": {
             "colorbar": {
              "outlinewidth": 1,
              "tickcolor": "rgb(36,36,36)",
              "ticks": "outside"
             }
            },
            "type": "scattergl"
           }
          ],
          "scattermapbox": [
           {
            "marker": {
             "colorbar": {
              "outlinewidth": 1,
              "tickcolor": "rgb(36,36,36)",
              "ticks": "outside"
             }
            },
            "type": "scattermapbox"
           }
          ],
          "scatterpolar": [
           {
            "marker": {
             "colorbar": {
              "outlinewidth": 1,
              "tickcolor": "rgb(36,36,36)",
              "ticks": "outside"
             }
            },
            "type": "scatterpolar"
           }
          ],
          "scatterpolargl": [
           {
            "marker": {
             "colorbar": {
              "outlinewidth": 1,
              "tickcolor": "rgb(36,36,36)",
              "ticks": "outside"
             }
            },
            "type": "scatterpolargl"
           }
          ],
          "scatterternary": [
           {
            "marker": {
             "colorbar": {
              "outlinewidth": 1,
              "tickcolor": "rgb(36,36,36)",
              "ticks": "outside"
             }
            },
            "type": "scatterternary"
           }
          ],
          "surface": [
           {
            "colorbar": {
             "outlinewidth": 1,
             "tickcolor": "rgb(36,36,36)",
             "ticks": "outside"
            },
            "colorscale": [
             [
              0.0,
              "#440154"
             ],
             [
              0.1111111111111111,
              "#482878"
             ],
             [
              0.2222222222222222,
              "#3e4989"
             ],
             [
              0.3333333333333333,
              "#31688e"
             ],
             [
              0.4444444444444444,
              "#26828e"
             ],
             [
              0.5555555555555556,
              "#1f9e89"
             ],
             [
              0.6666666666666666,
              "#35b779"
             ],
             [
              0.7777777777777778,
              "#6ece58"
             ],
             [
              0.8888888888888888,
              "#b5de2b"
             ],
             [
              1.0,
              "#fde725"
             ]
            ],
            "type": "surface"
           }
          ],
          "table": [
           {
            "cells": {
             "fill": {
              "color": "rgb(237,237,237)"
             },
             "line": {
              "color": "white"
             }
            },
            "header": {
             "fill": {
              "color": "rgb(217,217,217)"
             },
             "line": {
              "color": "white"
             }
            },
            "type": "table"
           }
          ]
         },
         "layout": {
          "annotationdefaults": {
           "arrowhead": 0,
           "arrowwidth": 1
          },
          "autotypenumbers": "strict",
          "coloraxis": {
           "colorbar": {
            "outlinewidth": 1,
            "tickcolor": "rgb(36,36,36)",
            "ticks": "outside"
           }
          },
          "colorscale": {
           "diverging": [
            [
             0.0,
             "rgb(103,0,31)"
            ],
            [
             0.1,
             "rgb(178,24,43)"
            ],
            [
             0.2,
             "rgb(214,96,77)"
            ],
            [
             0.3,
             "rgb(244,165,130)"
            ],
            [
             0.4,
             "rgb(253,219,199)"
            ],
            [
             0.5,
             "rgb(247,247,247)"
            ],
            [
             0.6,
             "rgb(209,229,240)"
            ],
            [
             0.7,
             "rgb(146,197,222)"
            ],
            [
             0.8,
             "rgb(67,147,195)"
            ],
            [
             0.9,
             "rgb(33,102,172)"
            ],
            [
             1.0,
             "rgb(5,48,97)"
            ]
           ],
           "sequential": [
            [
             0.0,
             "#440154"
            ],
            [
             0.1111111111111111,
             "#482878"
            ],
            [
             0.2222222222222222,
             "#3e4989"
            ],
            [
             0.3333333333333333,
             "#31688e"
            ],
            [
             0.4444444444444444,
             "#26828e"
            ],
            [
             0.5555555555555556,
             "#1f9e89"
            ],
            [
             0.6666666666666666,
             "#35b779"
            ],
            [
             0.7777777777777778,
             "#6ece58"
            ],
            [
             0.8888888888888888,
             "#b5de2b"
            ],
            [
             1.0,
             "#fde725"
            ]
           ],
           "sequentialminus": [
            [
             0.0,
             "#440154"
            ],
            [
             0.1111111111111111,
             "#482878"
            ],
            [
             0.2222222222222222,
             "#3e4989"
            ],
            [
             0.3333333333333333,
             "#31688e"
            ],
            [
             0.4444444444444444,
             "#26828e"
            ],
            [
             0.5555555555555556,
             "#1f9e89"
            ],
            [
             0.6666666666666666,
             "#35b779"
            ],
            [
             0.7777777777777778,
             "#6ece58"
            ],
            [
             0.8888888888888888,
             "#b5de2b"
            ],
            [
             1.0,
             "#fde725"
            ]
           ]
          },
          "colorway": [
           "#91268F",
           "#8CC63E",
           "#00A7A0",
           "#F05A28",
           "#4C4C4C",
           "#630460",
           "#9f3913",
           "#588527",
           "#00716c",
           "#3e4040"
          ],
          "font": {
           "color": "rgb(36,36,36)",
           "family": "Poppins",
           "size": 11
          },
          "geo": {
           "bgcolor": "white",
           "lakecolor": "white",
           "landcolor": "white",
           "showlakes": true,
           "showland": true,
           "subunitcolor": "white"
          },
          "hoverlabel": {
           "align": "left"
          },
          "hovermode": "closest",
          "mapbox": {
           "style": "light"
          },
          "paper_bgcolor": "white",
          "plot_bgcolor": "white",
          "polar": {
           "angularaxis": {
            "gridcolor": "rgb(232,232,232)",
            "linecolor": "rgb(36,36,36)",
            "showgrid": false,
            "showline": true,
            "ticks": "outside"
           },
           "bgcolor": "white",
           "radialaxis": {
            "gridcolor": "rgb(232,232,232)",
            "linecolor": "rgb(36,36,36)",
            "showgrid": false,
            "showline": true,
            "ticks": "outside"
           }
          },
          "scene": {
           "xaxis": {
            "backgroundcolor": "white",
            "gridcolor": "rgb(232,232,232)",
            "gridwidth": 2,
            "linecolor": "rgb(36,36,36)",
            "showbackground": true,
            "showgrid": false,
            "showline": true,
            "ticks": "outside",
            "zeroline": false,
            "zerolinecolor": "rgb(36,36,36)"
           },
           "yaxis": {
            "backgroundcolor": "white",
            "gridcolor": "rgb(232,232,232)",
            "gridwidth": 2,
            "linecolor": "rgb(36,36,36)",
            "showbackground": true,
            "showgrid": false,
            "showline": true,
            "ticks": "outside",
            "zeroline": false,
            "zerolinecolor": "rgb(36,36,36)"
           },
           "zaxis": {
            "backgroundcolor": "white",
            "gridcolor": "rgb(232,232,232)",
            "gridwidth": 2,
            "linecolor": "rgb(36,36,36)",
            "showbackground": true,
            "showgrid": false,
            "showline": true,
            "ticks": "outside",
            "zeroline": false,
            "zerolinecolor": "rgb(36,36,36)"
           }
          },
          "shapedefaults": {
           "fillcolor": "black",
           "line": {
            "width": 0
           },
           "opacity": 0.3
          },
          "ternary": {
           "aaxis": {
            "gridcolor": "rgb(232,232,232)",
            "linecolor": "rgb(36,36,36)",
            "showgrid": false,
            "showline": true,
            "ticks": "outside"
           },
           "baxis": {
            "gridcolor": "rgb(232,232,232)",
            "linecolor": "rgb(36,36,36)",
            "showgrid": false,
            "showline": true,
            "ticks": "outside"
           },
           "bgcolor": "white",
           "caxis": {
            "gridcolor": "rgb(232,232,232)",
            "linecolor": "rgb(36,36,36)",
            "showgrid": false,
            "showline": true,
            "ticks": "outside"
           }
          },
          "title": {
           "x": 0.05
          },
          "xaxis": {
           "automargin": true,
           "gridcolor": "rgb(232,232,232)",
           "linecolor": "rgb(36,36,36)",
           "showgrid": false,
           "showline": true,
           "ticks": "outside",
           "title": {
            "standoff": 15
           },
           "zeroline": false,
           "zerolinecolor": "rgb(36,36,36)"
          },
          "yaxis": {
           "automargin": true,
           "gridcolor": "rgb(232,232,232)",
           "linecolor": "rgb(36,36,36)",
           "showgrid": false,
           "showline": true,
           "ticks": "outside",
           "title": {
            "standoff": 15
           },
           "zeroline": false,
           "zerolinecolor": "rgb(36,36,36)"
          }
         }
        },
        "title": {
         "text": "escort trip mode"
        },
        "width": 700,
        "xaxis": {
         "anchor": "y",
         "categoryorder": "category ascending",
         "domain": [
          0.0,
          1.0
         ],
         "dtick": 1,
         "title": {
          "text": "mode_label"
         }
        },
        "yaxis": {
         "anchor": "x",
         "domain": [
          0.0,
          1.0
         ],
         "tickformat": ".2%",
         "title": {
          "text": "percentage"
         }
        }
       }
      },
      "text/html": [
       "<div>                            <div id=\"df84e740-899d-4220-812d-f284c487f7b6\" class=\"plotly-graph-div\" style=\"height:400px; width:700px;\"></div>            <script type=\"text/javascript\">                require([\"plotly\"], function(Plotly) {                    window.PLOTLYENV=window.PLOTLYENV || {};                                    if (document.getElementById(\"df84e740-899d-4220-812d-f284c487f7b6\")) {                    Plotly.newPlot(                        \"df84e740-899d-4220-812d-f284c487f7b6\",                        [{\"alignmentgroup\":\"True\",\"customdata\":[[168922],[22063],[557105],[480756],[399109],[9194],[17564],[1976]],\"hovertemplate\":\"source=model\\u003cbr\\u003emode_label=%{x}\\u003cbr\\u003epercentage=%{y}\\u003cbr\\u003esample count=%{customdata[0]}\\u003cextra\\u003e\\u003c\\u002fextra\\u003e\",\"legendgroup\":\"model\",\"marker\":{\"color\":\"#91268F\",\"pattern\":{\"shape\":\"\"}},\"name\":\"model\",\"offsetgroup\":\"model\",\"orientation\":\"v\",\"showlegend\":true,\"textposition\":\"auto\",\"x\":[\"1: walk\",\"2: bike\",\"3: sov\",\"4: hov 2\",\"5: hov 3+\",\"6: transit\",\"8: school bus\",\"9: tnc\"],\"xaxis\":\"x\",\"y\":[0.10196361537983291,0.013317526705374394,0.33627615080440565,0.2901908565820139,0.24090761754318402,0.005549623375298562,0.010601869149852507,0.001192740460038064],\"yaxis\":\"y\",\"type\":\"bar\"},{\"alignmentgroup\":\"True\",\"customdata\":[[173],[28],[471],[633],[472],[8],[3],[1]],\"hovertemplate\":\"source=survey\\u003cbr\\u003emode_label=%{x}\\u003cbr\\u003epercentage=%{y}\\u003cbr\\u003esample count=%{customdata[0]}\\u003cextra\\u003e\\u003c\\u002fextra\\u003e\",\"legendgroup\":\"survey\",\"marker\":{\"color\":\"#8CC63E\",\"pattern\":{\"shape\":\"\"}},\"name\":\"survey\",\"offsetgroup\":\"survey\",\"orientation\":\"v\",\"showlegend\":true,\"textposition\":\"auto\",\"x\":[\"1: walk\",\"2: bike\",\"3: sov\",\"4: hov 2\",\"5: hov 3+\",\"6: transit\",\"8: school bus\",\"9: tnc\"],\"xaxis\":\"x\",\"y\":[0.06075525335667177,0.0017789991203712018,0.25378233470021266,0.3445320957163697,0.33846108182579887,0.0005522958490732914,0.00013116951978584763,6.769911716769359e-06],\"yaxis\":\"y\",\"type\":\"bar\"}],                        {\"template\":{\"data\":{\"barpolar\":[{\"marker\":{\"line\":{\"color\":\"white\",\"width\":0.5},\"pattern\":{\"fillmode\":\"overlay\",\"size\":10,\"solidity\":0.2}},\"type\":\"barpolar\"}],\"bar\":[{\"error_x\":{\"color\":\"rgb(36,36,36)\"},\"error_y\":{\"color\":\"rgb(36,36,36)\"},\"marker\":{\"line\":{\"color\":\"white\",\"width\":0.5},\"pattern\":{\"fillmode\":\"overlay\",\"size\":10,\"solidity\":0.2}},\"type\":\"bar\"}],\"carpet\":[{\"aaxis\":{\"endlinecolor\":\"rgb(36,36,36)\",\"gridcolor\":\"white\",\"linecolor\":\"white\",\"minorgridcolor\":\"white\",\"startlinecolor\":\"rgb(36,36,36)\"},\"baxis\":{\"endlinecolor\":\"rgb(36,36,36)\",\"gridcolor\":\"white\",\"linecolor\":\"white\",\"minorgridcolor\":\"white\",\"startlinecolor\":\"rgb(36,36,36)\"},\"type\":\"carpet\"}],\"choropleth\":[{\"colorbar\":{\"outlinewidth\":1,\"tickcolor\":\"rgb(36,36,36)\",\"ticks\":\"outside\"},\"type\":\"choropleth\"}],\"contourcarpet\":[{\"colorbar\":{\"outlinewidth\":1,\"tickcolor\":\"rgb(36,36,36)\",\"ticks\":\"outside\"},\"type\":\"contourcarpet\"}],\"contour\":[{\"colorbar\":{\"outlinewidth\":1,\"tickcolor\":\"rgb(36,36,36)\",\"ticks\":\"outside\"},\"colorscale\":[[0.0,\"#440154\"],[0.1111111111111111,\"#482878\"],[0.2222222222222222,\"#3e4989\"],[0.3333333333333333,\"#31688e\"],[0.4444444444444444,\"#26828e\"],[0.5555555555555556,\"#1f9e89\"],[0.6666666666666666,\"#35b779\"],[0.7777777777777778,\"#6ece58\"],[0.8888888888888888,\"#b5de2b\"],[1.0,\"#fde725\"]],\"type\":\"contour\"}],\"heatmapgl\":[{\"colorbar\":{\"outlinewidth\":1,\"tickcolor\":\"rgb(36,36,36)\",\"ticks\":\"outside\"},\"colorscale\":[[0.0,\"#440154\"],[0.1111111111111111,\"#482878\"],[0.2222222222222222,\"#3e4989\"],[0.3333333333333333,\"#31688e\"],[0.4444444444444444,\"#26828e\"],[0.5555555555555556,\"#1f9e89\"],[0.6666666666666666,\"#35b779\"],[0.7777777777777778,\"#6ece58\"],[0.8888888888888888,\"#b5de2b\"],[1.0,\"#fde725\"]],\"type\":\"heatmapgl\"}],\"heatmap\":[{\"colorbar\":{\"outlinewidth\":1,\"tickcolor\":\"rgb(36,36,36)\",\"ticks\":\"outside\"},\"colorscale\":[[0.0,\"#440154\"],[0.1111111111111111,\"#482878\"],[0.2222222222222222,\"#3e4989\"],[0.3333333333333333,\"#31688e\"],[0.4444444444444444,\"#26828e\"],[0.5555555555555556,\"#1f9e89\"],[0.6666666666666666,\"#35b779\"],[0.7777777777777778,\"#6ece58\"],[0.8888888888888888,\"#b5de2b\"],[1.0,\"#fde725\"]],\"type\":\"heatmap\"}],\"histogram2dcontour\":[{\"colorbar\":{\"outlinewidth\":1,\"tickcolor\":\"rgb(36,36,36)\",\"ticks\":\"outside\"},\"colorscale\":[[0.0,\"#440154\"],[0.1111111111111111,\"#482878\"],[0.2222222222222222,\"#3e4989\"],[0.3333333333333333,\"#31688e\"],[0.4444444444444444,\"#26828e\"],[0.5555555555555556,\"#1f9e89\"],[0.6666666666666666,\"#35b779\"],[0.7777777777777778,\"#6ece58\"],[0.8888888888888888,\"#b5de2b\"],[1.0,\"#fde725\"]],\"type\":\"histogram2dcontour\"}],\"histogram2d\":[{\"colorbar\":{\"outlinewidth\":1,\"tickcolor\":\"rgb(36,36,36)\",\"ticks\":\"outside\"},\"colorscale\":[[0.0,\"#440154\"],[0.1111111111111111,\"#482878\"],[0.2222222222222222,\"#3e4989\"],[0.3333333333333333,\"#31688e\"],[0.4444444444444444,\"#26828e\"],[0.5555555555555556,\"#1f9e89\"],[0.6666666666666666,\"#35b779\"],[0.7777777777777778,\"#6ece58\"],[0.8888888888888888,\"#b5de2b\"],[1.0,\"#fde725\"]],\"type\":\"histogram2d\"}],\"histogram\":[{\"marker\":{\"line\":{\"color\":\"white\",\"width\":0.6}},\"type\":\"histogram\"}],\"mesh3d\":[{\"colorbar\":{\"outlinewidth\":1,\"tickcolor\":\"rgb(36,36,36)\",\"ticks\":\"outside\"},\"type\":\"mesh3d\"}],\"parcoords\":[{\"line\":{\"colorbar\":{\"outlinewidth\":1,\"tickcolor\":\"rgb(36,36,36)\",\"ticks\":\"outside\"}},\"type\":\"parcoords\"}],\"pie\":[{\"automargin\":true,\"type\":\"pie\"}],\"scatter3d\":[{\"line\":{\"colorbar\":{\"outlinewidth\":1,\"tickcolor\":\"rgb(36,36,36)\",\"ticks\":\"outside\"}},\"marker\":{\"colorbar\":{\"outlinewidth\":1,\"tickcolor\":\"rgb(36,36,36)\",\"ticks\":\"outside\"}},\"type\":\"scatter3d\"}],\"scattercarpet\":[{\"marker\":{\"colorbar\":{\"outlinewidth\":1,\"tickcolor\":\"rgb(36,36,36)\",\"ticks\":\"outside\"}},\"type\":\"scattercarpet\"}],\"scattergeo\":[{\"marker\":{\"colorbar\":{\"outlinewidth\":1,\"tickcolor\":\"rgb(36,36,36)\",\"ticks\":\"outside\"}},\"type\":\"scattergeo\"}],\"scattergl\":[{\"marker\":{\"colorbar\":{\"outlinewidth\":1,\"tickcolor\":\"rgb(36,36,36)\",\"ticks\":\"outside\"}},\"type\":\"scattergl\"}],\"scattermapbox\":[{\"marker\":{\"colorbar\":{\"outlinewidth\":1,\"tickcolor\":\"rgb(36,36,36)\",\"ticks\":\"outside\"}},\"type\":\"scattermapbox\"}],\"scatterpolargl\":[{\"marker\":{\"colorbar\":{\"outlinewidth\":1,\"tickcolor\":\"rgb(36,36,36)\",\"ticks\":\"outside\"}},\"type\":\"scatterpolargl\"}],\"scatterpolar\":[{\"marker\":{\"colorbar\":{\"outlinewidth\":1,\"tickcolor\":\"rgb(36,36,36)\",\"ticks\":\"outside\"}},\"type\":\"scatterpolar\"}],\"scatter\":[{\"fillpattern\":{\"fillmode\":\"overlay\",\"size\":10,\"solidity\":0.2},\"type\":\"scatter\"}],\"scatterternary\":[{\"marker\":{\"colorbar\":{\"outlinewidth\":1,\"tickcolor\":\"rgb(36,36,36)\",\"ticks\":\"outside\"}},\"type\":\"scatterternary\"}],\"surface\":[{\"colorbar\":{\"outlinewidth\":1,\"tickcolor\":\"rgb(36,36,36)\",\"ticks\":\"outside\"},\"colorscale\":[[0.0,\"#440154\"],[0.1111111111111111,\"#482878\"],[0.2222222222222222,\"#3e4989\"],[0.3333333333333333,\"#31688e\"],[0.4444444444444444,\"#26828e\"],[0.5555555555555556,\"#1f9e89\"],[0.6666666666666666,\"#35b779\"],[0.7777777777777778,\"#6ece58\"],[0.8888888888888888,\"#b5de2b\"],[1.0,\"#fde725\"]],\"type\":\"surface\"}],\"table\":[{\"cells\":{\"fill\":{\"color\":\"rgb(237,237,237)\"},\"line\":{\"color\":\"white\"}},\"header\":{\"fill\":{\"color\":\"rgb(217,217,217)\"},\"line\":{\"color\":\"white\"}},\"type\":\"table\"}]},\"layout\":{\"annotationdefaults\":{\"arrowhead\":0,\"arrowwidth\":1},\"autotypenumbers\":\"strict\",\"coloraxis\":{\"colorbar\":{\"outlinewidth\":1,\"tickcolor\":\"rgb(36,36,36)\",\"ticks\":\"outside\"}},\"colorscale\":{\"diverging\":[[0.0,\"rgb(103,0,31)\"],[0.1,\"rgb(178,24,43)\"],[0.2,\"rgb(214,96,77)\"],[0.3,\"rgb(244,165,130)\"],[0.4,\"rgb(253,219,199)\"],[0.5,\"rgb(247,247,247)\"],[0.6,\"rgb(209,229,240)\"],[0.7,\"rgb(146,197,222)\"],[0.8,\"rgb(67,147,195)\"],[0.9,\"rgb(33,102,172)\"],[1.0,\"rgb(5,48,97)\"]],\"sequential\":[[0.0,\"#440154\"],[0.1111111111111111,\"#482878\"],[0.2222222222222222,\"#3e4989\"],[0.3333333333333333,\"#31688e\"],[0.4444444444444444,\"#26828e\"],[0.5555555555555556,\"#1f9e89\"],[0.6666666666666666,\"#35b779\"],[0.7777777777777778,\"#6ece58\"],[0.8888888888888888,\"#b5de2b\"],[1.0,\"#fde725\"]],\"sequentialminus\":[[0.0,\"#440154\"],[0.1111111111111111,\"#482878\"],[0.2222222222222222,\"#3e4989\"],[0.3333333333333333,\"#31688e\"],[0.4444444444444444,\"#26828e\"],[0.5555555555555556,\"#1f9e89\"],[0.6666666666666666,\"#35b779\"],[0.7777777777777778,\"#6ece58\"],[0.8888888888888888,\"#b5de2b\"],[1.0,\"#fde725\"]]},\"colorway\":[\"#91268F\",\"#8CC63E\",\"#00A7A0\",\"#F05A28\",\"#4C4C4C\",\"#630460\",\"#9f3913\",\"#588527\",\"#00716c\",\"#3e4040\"],\"font\":{\"color\":\"rgb(36,36,36)\",\"family\":\"Poppins\",\"size\":11},\"geo\":{\"bgcolor\":\"white\",\"lakecolor\":\"white\",\"landcolor\":\"white\",\"showlakes\":true,\"showland\":true,\"subunitcolor\":\"white\"},\"hoverlabel\":{\"align\":\"left\"},\"hovermode\":\"closest\",\"mapbox\":{\"style\":\"light\"},\"paper_bgcolor\":\"white\",\"plot_bgcolor\":\"white\",\"polar\":{\"angularaxis\":{\"gridcolor\":\"rgb(232,232,232)\",\"linecolor\":\"rgb(36,36,36)\",\"showgrid\":false,\"showline\":true,\"ticks\":\"outside\"},\"bgcolor\":\"white\",\"radialaxis\":{\"gridcolor\":\"rgb(232,232,232)\",\"linecolor\":\"rgb(36,36,36)\",\"showgrid\":false,\"showline\":true,\"ticks\":\"outside\"}},\"scene\":{\"xaxis\":{\"backgroundcolor\":\"white\",\"gridcolor\":\"rgb(232,232,232)\",\"gridwidth\":2,\"linecolor\":\"rgb(36,36,36)\",\"showbackground\":true,\"showgrid\":false,\"showline\":true,\"ticks\":\"outside\",\"zeroline\":false,\"zerolinecolor\":\"rgb(36,36,36)\"},\"yaxis\":{\"backgroundcolor\":\"white\",\"gridcolor\":\"rgb(232,232,232)\",\"gridwidth\":2,\"linecolor\":\"rgb(36,36,36)\",\"showbackground\":true,\"showgrid\":false,\"showline\":true,\"ticks\":\"outside\",\"zeroline\":false,\"zerolinecolor\":\"rgb(36,36,36)\"},\"zaxis\":{\"backgroundcolor\":\"white\",\"gridcolor\":\"rgb(232,232,232)\",\"gridwidth\":2,\"linecolor\":\"rgb(36,36,36)\",\"showbackground\":true,\"showgrid\":false,\"showline\":true,\"ticks\":\"outside\",\"zeroline\":false,\"zerolinecolor\":\"rgb(36,36,36)\"}},\"shapedefaults\":{\"fillcolor\":\"black\",\"line\":{\"width\":0},\"opacity\":0.3},\"ternary\":{\"aaxis\":{\"gridcolor\":\"rgb(232,232,232)\",\"linecolor\":\"rgb(36,36,36)\",\"showgrid\":false,\"showline\":true,\"ticks\":\"outside\"},\"baxis\":{\"gridcolor\":\"rgb(232,232,232)\",\"linecolor\":\"rgb(36,36,36)\",\"showgrid\":false,\"showline\":true,\"ticks\":\"outside\"},\"bgcolor\":\"white\",\"caxis\":{\"gridcolor\":\"rgb(232,232,232)\",\"linecolor\":\"rgb(36,36,36)\",\"showgrid\":false,\"showline\":true,\"ticks\":\"outside\"}},\"title\":{\"x\":0.05},\"xaxis\":{\"automargin\":true,\"gridcolor\":\"rgb(232,232,232)\",\"linecolor\":\"rgb(36,36,36)\",\"showgrid\":false,\"showline\":true,\"ticks\":\"outside\",\"title\":{\"standoff\":15},\"zeroline\":false,\"zerolinecolor\":\"rgb(36,36,36)\"},\"yaxis\":{\"automargin\":true,\"gridcolor\":\"rgb(232,232,232)\",\"linecolor\":\"rgb(36,36,36)\",\"showgrid\":false,\"showline\":true,\"ticks\":\"outside\",\"title\":{\"standoff\":15},\"zeroline\":false,\"zerolinecolor\":\"rgb(36,36,36)\"}}},\"xaxis\":{\"anchor\":\"y\",\"domain\":[0.0,1.0],\"title\":{\"text\":\"mode_label\"},\"dtick\":1,\"categoryorder\":\"category ascending\"},\"yaxis\":{\"anchor\":\"x\",\"domain\":[0.0,1.0],\"title\":{\"text\":\"percentage\"},\"tickformat\":\".2%\"},\"legend\":{\"title\":{\"text\":\"source\"},\"tracegroupgap\":0},\"title\":{\"text\":\"escort trip mode\"},\"barmode\":\"group\",\"font\":{\"size\":11},\"height\":400,\"width\":700},                        {\"responsive\": true}                    ).then(function(){\n",
       "                            \n",
       "var gd = document.getElementById('df84e740-899d-4220-812d-f284c487f7b6');\n",
       "var x = new MutationObserver(function (mutations, observer) {{\n",
       "        var display = window.getComputedStyle(gd).display;\n",
       "        if (!display || display === 'none') {{\n",
       "            console.log([gd, 'removed!']);\n",
       "            Plotly.purge(gd);\n",
       "            observer.disconnect();\n",
       "        }}\n",
       "}});\n",
       "\n",
       "// Listen for the removal of the full notebook cells\n",
       "var notebookContainer = gd.closest('#notebook-container');\n",
       "if (notebookContainer) {{\n",
       "    x.observe(notebookContainer, {childList: true});\n",
       "}}\n",
       "\n",
       "// Listen for the clearing of the current output cell\n",
       "var outputEl = gd.closest('.output');\n",
       "if (outputEl) {{\n",
       "    x.observe(outputEl, {childList: true});\n",
       "}}\n",
       "\n",
       "                        })                };                });            </script>        </div>"
      ]
     },
     "metadata": {},
     "output_type": "display_data"
    }
   ],
   "source": [
    "df_plot = es_trip.groupby(['source','mode_label'])['trexpfac'].sum().reset_index()\n",
    "df_plot['percentage'] = df_plot.groupby(['source'], group_keys=False)['trexpfac']. \\\n",
    "    apply(lambda x: x / float(x.sum()))\n",
    "\n",
    "df_plot_ct = es_trip.groupby(['source','mode_label'])['trexpfac'].count().reset_index(). \\\n",
    "    rename(columns={'trexpfac':'sample count'})\n",
    "df_plot = df_plot.merge(df_plot_ct, on=['source','mode_label'])\n",
    "\n",
    "fig = px.bar(df_plot.sort_values(by=['source']), x=\"mode_label\", y=\"percentage\", color=\"source\",\n",
    "             barmode=\"group\",hover_data=['sample count'],title=\"escort trip mode\")\n",
    "fig.update_layout(height=400, width=700, font=dict(size=11),\n",
    "                  xaxis = dict(dtick = 1, categoryorder='category ascending'),\n",
    "                  yaxis=dict(tickformat=\".2%\"))\n",
    "fig.show()"
   ]
  },
  {
   "cell_type": "markdown",
   "metadata": {},
   "source": [
    "### mode choice by segment"
   ]
  },
  {
   "cell_type": "raw",
   "metadata": {},
   "source": [
    ":::{.panel-tabset}\n",
    "\n",
    "### person type"
   ]
  },
  {
   "cell_type": "code",
   "execution_count": 6,
   "metadata": {
    "ExecuteTime": {
     "end_time": "2024-08-30T21:15:18.911385Z",
     "start_time": "2024-08-30T21:15:18.881745Z"
    },
    "execution": {
     "iopub.execute_input": "2025-01-21T06:22:00.544345Z",
     "iopub.status.busy": "2025-01-21T06:22:00.543348Z",
     "iopub.status.idle": "2025-01-21T06:22:00.580278Z",
     "shell.execute_reply": "2025-01-21T06:22:00.578146Z"
    }
   },
   "outputs": [],
   "source": [
    "def plot_mode_choice(df: pd.DataFrame, grp_var: str, order_list: dict, title_name: str, n_nol: int, height=400, width=800):\n",
    "    df_plot = df.groupby(['source',grp_var,'mode_label'])['trexpfac'].sum().reset_index()\n",
    "    df_plot['percentage'] = df_plot.groupby(['source',grp_var], group_keys=False)['trexpfac']. \\\n",
    "        apply(lambda x: x / float(x.sum()))\n",
    "\n",
    "    df_plot_ct = df.groupby(['source',grp_var,'mode_label'])['trexpfac'].count().reset_index(). \\\n",
    "        rename(columns={'trexpfac':'sample count'})\n",
    "    df_plot = df_plot.merge(df_plot_ct, on=['source',grp_var,'mode_label'])\n",
    "\n",
    "    fig = px.bar(df_plot.sort_values(['source','mode_label']),\n",
    "                 x=\"percentage\", y=\"mode_label\", color=\"source\",barmode=\"group\",\n",
    "                 facet_col=grp_var, facet_col_wrap=n_nol, orientation='h',\n",
    "                 hover_data=['sample count'],\n",
    "                 category_orders=order_list,\n",
    "                 title=\"escort trip mode choice by \" + title_name)\n",
    "    fig.update_layout(height=height, width=width)\n",
    "    fig.for_each_annotation(lambda a: a.update(text = a.text.split(\"=\")[-1]))\n",
    "    fig.for_each_xaxis(lambda a: a.update(tickformat = \".1%\"))\n",
    "    fig.show()"
   ]
  },
  {
   "cell_type": "code",
   "execution_count": 7,
   "metadata": {
    "execution": {
     "iopub.execute_input": "2025-01-21T06:22:00.591577Z",
     "iopub.status.busy": "2025-01-21T06:22:00.590579Z",
     "iopub.status.idle": "2025-01-21T06:22:01.569825Z",
     "shell.execute_reply": "2025-01-21T06:22:01.566938Z"
    }
   },
   "outputs": [
    {
     "data": {
      "application/vnd.plotly.v1+json": {
       "config": {
        "plotlyServerURL": "https://plot.ly"
       },
       "data": [
        {
         "alignmentgroup": "True",
         "customdata": [
          [
           68017
          ],
          [
           8685
          ],
          [
           368329
          ],
          [
           190590
          ],
          [
           132900
          ],
          [
           6084
          ],
          [
           1731
          ]
         ],
         "hovertemplate": "source=model<br>pptyp_label=full time worker<br>percentage=%{x}<br>mode_label=%{y}<br>sample count=%{customdata[0]}<extra></extra>",
         "legendgroup": "model",
         "marker": {
          "color": "#91268F",
          "pattern": {
           "shape": ""
          }
         },
         "name": "model",
         "offsetgroup": "model",
         "orientation": "h",
         "showlegend": true,
         "textposition": "auto",
         "type": "bar",
         "x": [
          0.08761283774035984,
          0.011187166381566744,
          0.4744453432534367,
          0.24549937140619527,
          0.17118876362811977,
          0.007836812926361781,
          0.0022297046639599347
         ],
         "xaxis": "x7",
         "y": [
          "1: walk",
          "2: bike",
          "3: sov",
          "4: hov 2",
          "5: hov 3+",
          "6: transit",
          "9: tnc"
         ],
         "yaxis": "y7"
        },
        {
         "alignmentgroup": "True",
         "customdata": [
          [
           18084
          ],
          [
           2062
          ],
          [
           82024
          ],
          [
           44245
          ],
          [
           31633
          ],
          [
           552
          ],
          [
           235
          ]
         ],
         "hovertemplate": "source=model<br>pptyp_label=part time worker<br>percentage=%{x}<br>mode_label=%{y}<br>sample count=%{customdata[0]}<extra></extra>",
         "legendgroup": "model",
         "marker": {
          "color": "#91268F",
          "pattern": {
           "shape": ""
          }
         },
         "name": "model",
         "offsetgroup": "model",
         "orientation": "h",
         "showlegend": false,
         "textposition": "auto",
         "type": "bar",
         "x": [
          0.1011211451897,
          0.011530181452176587,
          0.45865742164565104,
          0.24740682752257667,
          0.17688371962982638,
          0.003086644113288786,
          0.001314060446780552
         ],
         "xaxis": "x8",
         "y": [
          "1: walk",
          "2: bike",
          "3: sov",
          "4: hov 2",
          "5: hov 3+",
          "6: transit",
          "9: tnc"
         ],
         "yaxis": "y8"
        },
        {
         "alignmentgroup": "True",
         "customdata": [
          [
           10760
          ],
          [
           1200
          ],
          [
           35642
          ],
          [
           35337
          ],
          [
           16666
          ]
         ],
         "hovertemplate": "source=model<br>pptyp_label=non-worker age 65+<br>percentage=%{x}<br>mode_label=%{y}<br>sample count=%{customdata[0]}<extra></extra>",
         "legendgroup": "model",
         "marker": {
          "color": "#91268F",
          "pattern": {
           "shape": ""
          }
         },
         "name": "model",
         "offsetgroup": "model",
         "orientation": "h",
         "showlegend": false,
         "textposition": "auto",
         "type": "bar",
         "x": [
          0.10802670548667236,
          0.012047587972491341,
          0.3578334420962803,
          0.35477134681993877,
          0.16732091762461723
         ],
         "xaxis": "x5",
         "y": [
          "1: walk",
          "2: bike",
          "3: sov",
          "4: hov 2",
          "5: hov 3+"
         ],
         "yaxis": "y5"
        },
        {
         "alignmentgroup": "True",
         "customdata": [
          [
           23693
          ],
          [
           1911
          ],
          [
           61034
          ],
          [
           57698
          ],
          [
           50247
          ]
         ],
         "hovertemplate": "source=model<br>pptyp_label=other non-working adult<br>percentage=%{x}<br>mode_label=%{y}<br>sample count=%{customdata[0]}<extra></extra>",
         "legendgroup": "model",
         "marker": {
          "color": "#91268F",
          "pattern": {
           "shape": ""
          }
         },
         "name": "model",
         "offsetgroup": "model",
         "orientation": "h",
         "showlegend": false,
         "textposition": "auto",
         "type": "bar",
         "x": [
          0.12176294948685137,
          0.009821001834692651,
          0.31366563368845174,
          0.2965212788373085,
          0.25822913615269577
         ],
         "xaxis": "x6",
         "y": [
          "1: walk",
          "2: bike",
          "3: sov",
          "4: hov 2",
          "5: hov 3+"
         ],
         "yaxis": "y6"
        },
        {
         "alignmentgroup": "True",
         "customdata": [
          [
           1674
          ],
          [
           186
          ],
          [
           5312
          ],
          [
           2752
          ],
          [
           2435
          ],
          [
           319
          ],
          [
           3
          ],
          [
           5
          ]
         ],
         "hovertemplate": "source=model<br>pptyp_label=university student<br>percentage=%{x}<br>mode_label=%{y}<br>sample count=%{customdata[0]}<extra></extra>",
         "legendgroup": "model",
         "marker": {
          "color": "#91268F",
          "pattern": {
           "shape": ""
          }
         },
         "name": "model",
         "offsetgroup": "model",
         "orientation": "h",
         "showlegend": false,
         "textposition": "auto",
         "type": "bar",
         "x": [
          0.1319564874664985,
          0.014661831940722056,
          0.41872930789847074,
          0.21693205107993063,
          0.19194387513794733,
          0.025145830048872775,
          0.00023648116033422672,
          0.0003941352672237112
         ],
         "xaxis": "x3",
         "y": [
          "1: walk",
          "2: bike",
          "3: sov",
          "4: hov 2",
          "5: hov 3+",
          "6: transit",
          "8: school bus",
          "9: tnc"
         ],
         "yaxis": "y3"
        },
        {
         "alignmentgroup": "True",
         "customdata": [
          [
           2229
          ],
          [
           347
          ],
          [
           4764
          ],
          [
           6324
          ],
          [
           5514
          ],
          [
           474
          ],
          [
           837
          ],
          [
           4
          ]
         ],
         "hovertemplate": "source=model<br>pptyp_label=grade school student/child age 16+<br>percentage=%{x}<br>mode_label=%{y}<br>sample count=%{customdata[0]}<extra></extra>",
         "legendgroup": "model",
         "marker": {
          "color": "#91268F",
          "pattern": {
           "shape": ""
          }
         },
         "name": "model",
         "offsetgroup": "model",
         "orientation": "h",
         "showlegend": false,
         "textposition": "auto",
         "type": "bar",
         "x": [
          0.10876884789928268,
          0.016932611135509687,
          0.2324696237739716,
          0.30859317815839554,
          0.2690674864587908,
          0.023129849216805737,
          0.04084321475625823,
          0.00019518860098570242
         ],
         "xaxis": "x4",
         "y": [
          "1: walk",
          "2: bike",
          "3: sov",
          "4: hov 2",
          "5: hov 3+",
          "6: transit",
          "8: school bus",
          "9: tnc"
         ],
         "yaxis": "y4"
        },
        {
         "alignmentgroup": "True",
         "customdata": [
          [
           32652
          ],
          [
           5834
          ],
          [
           98799
          ],
          [
           113681
          ],
          [
           1745
          ],
          [
           16666
          ],
          [
           1
          ]
         ],
         "hovertemplate": "source=model<br>pptyp_label=child age 5-15<br>percentage=%{x}<br>mode_label=%{y}<br>sample count=%{customdata[0]}<extra></extra>",
         "legendgroup": "model",
         "marker": {
          "color": "#91268F",
          "pattern": {
           "shape": ""
          }
         },
         "name": "model",
         "offsetgroup": "model",
         "orientation": "h",
         "showlegend": false,
         "textposition": "auto",
         "type": "bar",
         "x": [
          0.12121257118250191,
          0.02165729940826645,
          0.36676714505267694,
          0.42201293349865243,
          0.006477886093147919,
          0.06186845250911359,
          3.7122556407724462e-06
         ],
         "xaxis": "x",
         "y": [
          "1: walk",
          "2: bike",
          "4: hov 2",
          "5: hov 3+",
          "6: transit",
          "8: school bus",
          "9: tnc"
         ],
         "yaxis": "y"
        },
        {
         "alignmentgroup": "True",
         "customdata": [
          [
           11813
          ],
          [
           1838
          ],
          [
           45011
          ],
          [
           46033
          ],
          [
           20
          ],
          [
           58
          ]
         ],
         "hovertemplate": "source=model<br>pptyp_label=child age 0-4<br>percentage=%{x}<br>mode_label=%{y}<br>sample count=%{customdata[0]}<extra></extra>",
         "legendgroup": "model",
         "marker": {
          "color": "#91268F",
          "pattern": {
           "shape": ""
          }
         },
         "name": "model",
         "offsetgroup": "model",
         "orientation": "h",
         "showlegend": false,
         "textposition": "auto",
         "type": "bar",
         "x": [
          0.1127485134528934,
          0.01754268752445764,
          0.42960495547517014,
          0.43935937693871513,
          0.00019088887404197647,
          0.0005535777347217318
         ],
         "xaxis": "x2",
         "y": [
          "1: walk",
          "2: bike",
          "4: hov 2",
          "5: hov 3+",
          "6: transit",
          "8: school bus"
         ],
         "yaxis": "y2"
        },
        {
         "alignmentgroup": "True",
         "customdata": [
          [
           58
          ],
          [
           16
          ],
          [
           179
          ],
          [
           205
          ],
          [
           109
          ],
          [
           3
          ]
         ],
         "hovertemplate": "source=survey<br>pptyp_label=full time worker<br>percentage=%{x}<br>mode_label=%{y}<br>sample count=%{customdata[0]}<extra></extra>",
         "legendgroup": "survey",
         "marker": {
          "color": "#8CC63E",
          "pattern": {
           "shape": ""
          }
         },
         "name": "survey",
         "offsetgroup": "survey",
         "orientation": "h",
         "showlegend": true,
         "textposition": "auto",
         "type": "bar",
         "x": [
          0.049488336214957095,
          0.0036680241316925286,
          0.3635973617104938,
          0.34223778830764134,
          0.24047101919980082,
          0.0005374704354143302
         ],
         "xaxis": "x7",
         "y": [
          "1: walk",
          "2: bike",
          "3: sov",
          "4: hov 2",
          "5: hov 3+",
          "6: transit"
         ],
         "yaxis": "y7"
        },
        {
         "alignmentgroup": "True",
         "customdata": [
          [
           13
          ],
          [
           4
          ],
          [
           38
          ],
          [
           57
          ],
          [
           42
          ]
         ],
         "hovertemplate": "source=survey<br>pptyp_label=part time worker<br>percentage=%{x}<br>mode_label=%{y}<br>sample count=%{customdata[0]}<extra></extra>",
         "legendgroup": "survey",
         "marker": {
          "color": "#8CC63E",
          "pattern": {
           "shape": ""
          }
         },
         "name": "survey",
         "offsetgroup": "survey",
         "orientation": "h",
         "showlegend": false,
         "textposition": "auto",
         "type": "bar",
         "x": [
          0.011292463917033185,
          0.0014552956411558729,
          0.24062728084594123,
          0.43521995008393644,
          0.31140500951193323
         ],
         "xaxis": "x8",
         "y": [
          "1: walk",
          "2: bike",
          "3: sov",
          "4: hov 2",
          "5: hov 3+"
         ],
         "yaxis": "y8"
        },
        {
         "alignmentgroup": "True",
         "customdata": [
          [
           6
          ],
          [
           66
          ],
          [
           78
          ],
          [
           34
          ]
         ],
         "hovertemplate": "source=survey<br>pptyp_label=non-worker age 65+<br>percentage=%{x}<br>mode_label=%{y}<br>sample count=%{customdata[0]}<extra></extra>",
         "legendgroup": "survey",
         "marker": {
          "color": "#8CC63E",
          "pattern": {
           "shape": ""
          }
         },
         "name": "survey",
         "offsetgroup": "survey",
         "orientation": "h",
         "showlegend": false,
         "textposition": "auto",
         "type": "bar",
         "x": [
          0.0027603188496670354,
          0.3210581801541653,
          0.46088873782675077,
          0.21529276316941687
         ],
         "xaxis": "x5",
         "y": [
          "1: walk",
          "3: sov",
          "4: hov 2",
          "5: hov 3+"
         ],
         "yaxis": "y5"
        },
        {
         "alignmentgroup": "True",
         "customdata": [
          [
           31
          ],
          [
           2
          ],
          [
           66
          ],
          [
           96
          ],
          [
           60
          ],
          [
           1
          ]
         ],
         "hovertemplate": "source=survey<br>pptyp_label=other non-working adult<br>percentage=%{x}<br>mode_label=%{y}<br>sample count=%{customdata[0]}<extra></extra>",
         "legendgroup": "survey",
         "marker": {
          "color": "#8CC63E",
          "pattern": {
           "shape": ""
          }
         },
         "name": "survey",
         "offsetgroup": "survey",
         "orientation": "h",
         "showlegend": false,
         "textposition": "auto",
         "type": "bar",
         "x": [
          0.10931624671143687,
          0.0005278041341915008,
          0.29036517367649034,
          0.32085285021263593,
          0.2787961214886626,
          0.00014180377658264514
         ],
         "xaxis": "x6",
         "y": [
          "1: walk",
          "2: bike",
          "3: sov",
          "4: hov 2",
          "5: hov 3+",
          "6: transit"
         ],
         "yaxis": "y6"
        },
        {
         "alignmentgroup": "True",
         "customdata": [
          [
           3
          ],
          [
           6
          ],
          [
           8
          ],
          [
           3
          ],
          [
           1
          ]
         ],
         "hovertemplate": "source=survey<br>pptyp_label=university student<br>percentage=%{x}<br>mode_label=%{y}<br>sample count=%{customdata[0]}<extra></extra>",
         "legendgroup": "survey",
         "marker": {
          "color": "#8CC63E",
          "pattern": {
           "shape": ""
          }
         },
         "name": "survey",
         "offsetgroup": "survey",
         "orientation": "h",
         "showlegend": false,
         "textposition": "auto",
         "type": "bar",
         "x": [
          0.49584969621788505,
          0.091964790082964,
          0.3272826888360137,
          0.08057771817665012,
          0.00432510668648712
         ],
         "xaxis": "x3",
         "y": [
          "1: walk",
          "3: sov",
          "4: hov 2",
          "5: hov 3+",
          "6: transit"
         ],
         "yaxis": "y3"
        },
        {
         "alignmentgroup": "True",
         "customdata": [
          [
           3
          ],
          [
           7
          ],
          [
           7
          ]
         ],
         "hovertemplate": "source=survey<br>pptyp_label=grade school student/child age 16+<br>percentage=%{x}<br>mode_label=%{y}<br>sample count=%{customdata[0]}<extra></extra>",
         "legendgroup": "survey",
         "marker": {
          "color": "#8CC63E",
          "pattern": {
           "shape": ""
          }
         },
         "name": "survey",
         "offsetgroup": "survey",
         "orientation": "h",
         "showlegend": false,
         "textposition": "auto",
         "type": "bar",
         "x": [
          0.01524298396134737,
          0.03231852572410872,
          0.9524384903145439
         ],
         "xaxis": "x4",
         "y": [
          "3: sov",
          "4: hov 2",
          "5: hov 3+"
         ],
         "yaxis": "y4"
        },
        {
         "alignmentgroup": "True",
         "customdata": [
          [
           13
          ],
          [
           2
          ],
          [
           37
          ],
          [
           81
          ],
          [
           3
          ]
         ],
         "hovertemplate": "source=survey<br>pptyp_label=child age 5-15<br>percentage=%{x}<br>mode_label=%{y}<br>sample count=%{customdata[0]}<extra></extra>",
         "legendgroup": "survey",
         "marker": {
          "color": "#8CC63E",
          "pattern": {
           "shape": ""
          }
         },
         "name": "survey",
         "offsetgroup": "survey",
         "orientation": "h",
         "showlegend": false,
         "textposition": "auto",
         "type": "bar",
         "x": [
          0.12181597487932604,
          0.0003220469796694845,
          0.319833097832509,
          0.5567153663516405,
          0.0013135139568548752
         ],
         "xaxis": "x",
         "y": [
          "1: walk",
          "2: bike",
          "4: hov 2",
          "5: hov 3+",
          "8: school bus"
         ],
         "yaxis": "y"
        },
        {
         "alignmentgroup": "True",
         "customdata": [
          [
           14
          ],
          [
           22
          ],
          [
           77
          ]
         ],
         "hovertemplate": "source=survey<br>pptyp_label=child age 0-4<br>percentage=%{x}<br>mode_label=%{y}<br>sample count=%{customdata[0]}<extra></extra>",
         "legendgroup": "survey",
         "marker": {
          "color": "#8CC63E",
          "pattern": {
           "shape": ""
          }
         },
         "name": "survey",
         "offsetgroup": "survey",
         "orientation": "h",
         "showlegend": false,
         "textposition": "auto",
         "type": "bar",
         "x": [
          0.008222844191332464,
          0.26296838076373436,
          0.7288087750449332
         ],
         "xaxis": "x2",
         "y": [
          "1: walk",
          "4: hov 2",
          "5: hov 3+"
         ],
         "yaxis": "y2"
        }
       ],
       "layout": {
        "annotations": [
         {
          "font": {},
          "showarrow": false,
          "text": "child age 5-15",
          "x": 0.245,
          "xanchor": "center",
          "xref": "paper",
          "y": 0.1975,
          "yanchor": "bottom",
          "yref": "paper"
         },
         {
          "font": {},
          "showarrow": false,
          "text": "child age 0-4",
          "x": 0.755,
          "xanchor": "center",
          "xref": "paper",
          "y": 0.1975,
          "yanchor": "bottom",
          "yref": "paper"
         },
         {
          "font": {},
          "showarrow": false,
          "text": "university student",
          "x": 0.245,
          "xanchor": "center",
          "xref": "paper",
          "y": 0.465,
          "yanchor": "bottom",
          "yref": "paper"
         },
         {
          "font": {},
          "showarrow": false,
          "text": "grade school student/child age 16+",
          "x": 0.755,
          "xanchor": "center",
          "xref": "paper",
          "y": 0.465,
          "yanchor": "bottom",
          "yref": "paper"
         },
         {
          "font": {},
          "showarrow": false,
          "text": "non-worker age 65+",
          "x": 0.245,
          "xanchor": "center",
          "xref": "paper",
          "y": 0.7325,
          "yanchor": "bottom",
          "yref": "paper"
         },
         {
          "font": {},
          "showarrow": false,
          "text": "other non-working adult",
          "x": 0.755,
          "xanchor": "center",
          "xref": "paper",
          "y": 0.7325,
          "yanchor": "bottom",
          "yref": "paper"
         },
         {
          "font": {},
          "showarrow": false,
          "text": "full time worker",
          "x": 0.245,
          "xanchor": "center",
          "xref": "paper",
          "y": 1.0,
          "yanchor": "bottom",
          "yref": "paper"
         },
         {
          "font": {},
          "showarrow": false,
          "text": "part time worker",
          "x": 0.755,
          "xanchor": "center",
          "xref": "paper",
          "y": 1.0,
          "yanchor": "bottom",
          "yref": "paper"
         }
        ],
        "barmode": "group",
        "height": 1000,
        "legend": {
         "title": {
          "text": "source"
         },
         "tracegroupgap": 0
        },
        "template": {
         "data": {
          "bar": [
           {
            "error_x": {
             "color": "rgb(36,36,36)"
            },
            "error_y": {
             "color": "rgb(36,36,36)"
            },
            "marker": {
             "line": {
              "color": "white",
              "width": 0.5
             },
             "pattern": {
              "fillmode": "overlay",
              "size": 10,
              "solidity": 0.2
             }
            },
            "type": "bar"
           }
          ],
          "barpolar": [
           {
            "marker": {
             "line": {
              "color": "white",
              "width": 0.5
             },
             "pattern": {
              "fillmode": "overlay",
              "size": 10,
              "solidity": 0.2
             }
            },
            "type": "barpolar"
           }
          ],
          "carpet": [
           {
            "aaxis": {
             "endlinecolor": "rgb(36,36,36)",
             "gridcolor": "white",
             "linecolor": "white",
             "minorgridcolor": "white",
             "startlinecolor": "rgb(36,36,36)"
            },
            "baxis": {
             "endlinecolor": "rgb(36,36,36)",
             "gridcolor": "white",
             "linecolor": "white",
             "minorgridcolor": "white",
             "startlinecolor": "rgb(36,36,36)"
            },
            "type": "carpet"
           }
          ],
          "choropleth": [
           {
            "colorbar": {
             "outlinewidth": 1,
             "tickcolor": "rgb(36,36,36)",
             "ticks": "outside"
            },
            "type": "choropleth"
           }
          ],
          "contour": [
           {
            "colorbar": {
             "outlinewidth": 1,
             "tickcolor": "rgb(36,36,36)",
             "ticks": "outside"
            },
            "colorscale": [
             [
              0.0,
              "#440154"
             ],
             [
              0.1111111111111111,
              "#482878"
             ],
             [
              0.2222222222222222,
              "#3e4989"
             ],
             [
              0.3333333333333333,
              "#31688e"
             ],
             [
              0.4444444444444444,
              "#26828e"
             ],
             [
              0.5555555555555556,
              "#1f9e89"
             ],
             [
              0.6666666666666666,
              "#35b779"
             ],
             [
              0.7777777777777778,
              "#6ece58"
             ],
             [
              0.8888888888888888,
              "#b5de2b"
             ],
             [
              1.0,
              "#fde725"
             ]
            ],
            "type": "contour"
           }
          ],
          "contourcarpet": [
           {
            "colorbar": {
             "outlinewidth": 1,
             "tickcolor": "rgb(36,36,36)",
             "ticks": "outside"
            },
            "type": "contourcarpet"
           }
          ],
          "heatmap": [
           {
            "colorbar": {
             "outlinewidth": 1,
             "tickcolor": "rgb(36,36,36)",
             "ticks": "outside"
            },
            "colorscale": [
             [
              0.0,
              "#440154"
             ],
             [
              0.1111111111111111,
              "#482878"
             ],
             [
              0.2222222222222222,
              "#3e4989"
             ],
             [
              0.3333333333333333,
              "#31688e"
             ],
             [
              0.4444444444444444,
              "#26828e"
             ],
             [
              0.5555555555555556,
              "#1f9e89"
             ],
             [
              0.6666666666666666,
              "#35b779"
             ],
             [
              0.7777777777777778,
              "#6ece58"
             ],
             [
              0.8888888888888888,
              "#b5de2b"
             ],
             [
              1.0,
              "#fde725"
             ]
            ],
            "type": "heatmap"
           }
          ],
          "heatmapgl": [
           {
            "colorbar": {
             "outlinewidth": 1,
             "tickcolor": "rgb(36,36,36)",
             "ticks": "outside"
            },
            "colorscale": [
             [
              0.0,
              "#440154"
             ],
             [
              0.1111111111111111,
              "#482878"
             ],
             [
              0.2222222222222222,
              "#3e4989"
             ],
             [
              0.3333333333333333,
              "#31688e"
             ],
             [
              0.4444444444444444,
              "#26828e"
             ],
             [
              0.5555555555555556,
              "#1f9e89"
             ],
             [
              0.6666666666666666,
              "#35b779"
             ],
             [
              0.7777777777777778,
              "#6ece58"
             ],
             [
              0.8888888888888888,
              "#b5de2b"
             ],
             [
              1.0,
              "#fde725"
             ]
            ],
            "type": "heatmapgl"
           }
          ],
          "histogram": [
           {
            "marker": {
             "line": {
              "color": "white",
              "width": 0.6
             }
            },
            "type": "histogram"
           }
          ],
          "histogram2d": [
           {
            "colorbar": {
             "outlinewidth": 1,
             "tickcolor": "rgb(36,36,36)",
             "ticks": "outside"
            },
            "colorscale": [
             [
              0.0,
              "#440154"
             ],
             [
              0.1111111111111111,
              "#482878"
             ],
             [
              0.2222222222222222,
              "#3e4989"
             ],
             [
              0.3333333333333333,
              "#31688e"
             ],
             [
              0.4444444444444444,
              "#26828e"
             ],
             [
              0.5555555555555556,
              "#1f9e89"
             ],
             [
              0.6666666666666666,
              "#35b779"
             ],
             [
              0.7777777777777778,
              "#6ece58"
             ],
             [
              0.8888888888888888,
              "#b5de2b"
             ],
             [
              1.0,
              "#fde725"
             ]
            ],
            "type": "histogram2d"
           }
          ],
          "histogram2dcontour": [
           {
            "colorbar": {
             "outlinewidth": 1,
             "tickcolor": "rgb(36,36,36)",
             "ticks": "outside"
            },
            "colorscale": [
             [
              0.0,
              "#440154"
             ],
             [
              0.1111111111111111,
              "#482878"
             ],
             [
              0.2222222222222222,
              "#3e4989"
             ],
             [
              0.3333333333333333,
              "#31688e"
             ],
             [
              0.4444444444444444,
              "#26828e"
             ],
             [
              0.5555555555555556,
              "#1f9e89"
             ],
             [
              0.6666666666666666,
              "#35b779"
             ],
             [
              0.7777777777777778,
              "#6ece58"
             ],
             [
              0.8888888888888888,
              "#b5de2b"
             ],
             [
              1.0,
              "#fde725"
             ]
            ],
            "type": "histogram2dcontour"
           }
          ],
          "mesh3d": [
           {
            "colorbar": {
             "outlinewidth": 1,
             "tickcolor": "rgb(36,36,36)",
             "ticks": "outside"
            },
            "type": "mesh3d"
           }
          ],
          "parcoords": [
           {
            "line": {
             "colorbar": {
              "outlinewidth": 1,
              "tickcolor": "rgb(36,36,36)",
              "ticks": "outside"
             }
            },
            "type": "parcoords"
           }
          ],
          "pie": [
           {
            "automargin": true,
            "type": "pie"
           }
          ],
          "scatter": [
           {
            "fillpattern": {
             "fillmode": "overlay",
             "size": 10,
             "solidity": 0.2
            },
            "type": "scatter"
           }
          ],
          "scatter3d": [
           {
            "line": {
             "colorbar": {
              "outlinewidth": 1,
              "tickcolor": "rgb(36,36,36)",
              "ticks": "outside"
             }
            },
            "marker": {
             "colorbar": {
              "outlinewidth": 1,
              "tickcolor": "rgb(36,36,36)",
              "ticks": "outside"
             }
            },
            "type": "scatter3d"
           }
          ],
          "scattercarpet": [
           {
            "marker": {
             "colorbar": {
              "outlinewidth": 1,
              "tickcolor": "rgb(36,36,36)",
              "ticks": "outside"
             }
            },
            "type": "scattercarpet"
           }
          ],
          "scattergeo": [
           {
            "marker": {
             "colorbar": {
              "outlinewidth": 1,
              "tickcolor": "rgb(36,36,36)",
              "ticks": "outside"
             }
            },
            "type": "scattergeo"
           }
          ],
          "scattergl": [
           {
            "marker": {
             "colorbar": {
              "outlinewidth": 1,
              "tickcolor": "rgb(36,36,36)",
              "ticks": "outside"
             }
            },
            "type": "scattergl"
           }
          ],
          "scattermapbox": [
           {
            "marker": {
             "colorbar": {
              "outlinewidth": 1,
              "tickcolor": "rgb(36,36,36)",
              "ticks": "outside"
             }
            },
            "type": "scattermapbox"
           }
          ],
          "scatterpolar": [
           {
            "marker": {
             "colorbar": {
              "outlinewidth": 1,
              "tickcolor": "rgb(36,36,36)",
              "ticks": "outside"
             }
            },
            "type": "scatterpolar"
           }
          ],
          "scatterpolargl": [
           {
            "marker": {
             "colorbar": {
              "outlinewidth": 1,
              "tickcolor": "rgb(36,36,36)",
              "ticks": "outside"
             }
            },
            "type": "scatterpolargl"
           }
          ],
          "scatterternary": [
           {
            "marker": {
             "colorbar": {
              "outlinewidth": 1,
              "tickcolor": "rgb(36,36,36)",
              "ticks": "outside"
             }
            },
            "type": "scatterternary"
           }
          ],
          "surface": [
           {
            "colorbar": {
             "outlinewidth": 1,
             "tickcolor": "rgb(36,36,36)",
             "ticks": "outside"
            },
            "colorscale": [
             [
              0.0,
              "#440154"
             ],
             [
              0.1111111111111111,
              "#482878"
             ],
             [
              0.2222222222222222,
              "#3e4989"
             ],
             [
              0.3333333333333333,
              "#31688e"
             ],
             [
              0.4444444444444444,
              "#26828e"
             ],
             [
              0.5555555555555556,
              "#1f9e89"
             ],
             [
              0.6666666666666666,
              "#35b779"
             ],
             [
              0.7777777777777778,
              "#6ece58"
             ],
             [
              0.8888888888888888,
              "#b5de2b"
             ],
             [
              1.0,
              "#fde725"
             ]
            ],
            "type": "surface"
           }
          ],
          "table": [
           {
            "cells": {
             "fill": {
              "color": "rgb(237,237,237)"
             },
             "line": {
              "color": "white"
             }
            },
            "header": {
             "fill": {
              "color": "rgb(217,217,217)"
             },
             "line": {
              "color": "white"
             }
            },
            "type": "table"
           }
          ]
         },
         "layout": {
          "annotationdefaults": {
           "arrowhead": 0,
           "arrowwidth": 1
          },
          "autotypenumbers": "strict",
          "coloraxis": {
           "colorbar": {
            "outlinewidth": 1,
            "tickcolor": "rgb(36,36,36)",
            "ticks": "outside"
           }
          },
          "colorscale": {
           "diverging": [
            [
             0.0,
             "rgb(103,0,31)"
            ],
            [
             0.1,
             "rgb(178,24,43)"
            ],
            [
             0.2,
             "rgb(214,96,77)"
            ],
            [
             0.3,
             "rgb(244,165,130)"
            ],
            [
             0.4,
             "rgb(253,219,199)"
            ],
            [
             0.5,
             "rgb(247,247,247)"
            ],
            [
             0.6,
             "rgb(209,229,240)"
            ],
            [
             0.7,
             "rgb(146,197,222)"
            ],
            [
             0.8,
             "rgb(67,147,195)"
            ],
            [
             0.9,
             "rgb(33,102,172)"
            ],
            [
             1.0,
             "rgb(5,48,97)"
            ]
           ],
           "sequential": [
            [
             0.0,
             "#440154"
            ],
            [
             0.1111111111111111,
             "#482878"
            ],
            [
             0.2222222222222222,
             "#3e4989"
            ],
            [
             0.3333333333333333,
             "#31688e"
            ],
            [
             0.4444444444444444,
             "#26828e"
            ],
            [
             0.5555555555555556,
             "#1f9e89"
            ],
            [
             0.6666666666666666,
             "#35b779"
            ],
            [
             0.7777777777777778,
             "#6ece58"
            ],
            [
             0.8888888888888888,
             "#b5de2b"
            ],
            [
             1.0,
             "#fde725"
            ]
           ],
           "sequentialminus": [
            [
             0.0,
             "#440154"
            ],
            [
             0.1111111111111111,
             "#482878"
            ],
            [
             0.2222222222222222,
             "#3e4989"
            ],
            [
             0.3333333333333333,
             "#31688e"
            ],
            [
             0.4444444444444444,
             "#26828e"
            ],
            [
             0.5555555555555556,
             "#1f9e89"
            ],
            [
             0.6666666666666666,
             "#35b779"
            ],
            [
             0.7777777777777778,
             "#6ece58"
            ],
            [
             0.8888888888888888,
             "#b5de2b"
            ],
            [
             1.0,
             "#fde725"
            ]
           ]
          },
          "colorway": [
           "#91268F",
           "#8CC63E",
           "#00A7A0",
           "#F05A28",
           "#4C4C4C",
           "#630460",
           "#9f3913",
           "#588527",
           "#00716c",
           "#3e4040"
          ],
          "font": {
           "color": "rgb(36,36,36)",
           "family": "Poppins",
           "size": 11
          },
          "geo": {
           "bgcolor": "white",
           "lakecolor": "white",
           "landcolor": "white",
           "showlakes": true,
           "showland": true,
           "subunitcolor": "white"
          },
          "hoverlabel": {
           "align": "left"
          },
          "hovermode": "closest",
          "mapbox": {
           "style": "light"
          },
          "paper_bgcolor": "white",
          "plot_bgcolor": "white",
          "polar": {
           "angularaxis": {
            "gridcolor": "rgb(232,232,232)",
            "linecolor": "rgb(36,36,36)",
            "showgrid": false,
            "showline": true,
            "ticks": "outside"
           },
           "bgcolor": "white",
           "radialaxis": {
            "gridcolor": "rgb(232,232,232)",
            "linecolor": "rgb(36,36,36)",
            "showgrid": false,
            "showline": true,
            "ticks": "outside"
           }
          },
          "scene": {
           "xaxis": {
            "backgroundcolor": "white",
            "gridcolor": "rgb(232,232,232)",
            "gridwidth": 2,
            "linecolor": "rgb(36,36,36)",
            "showbackground": true,
            "showgrid": false,
            "showline": true,
            "ticks": "outside",
            "zeroline": false,
            "zerolinecolor": "rgb(36,36,36)"
           },
           "yaxis": {
            "backgroundcolor": "white",
            "gridcolor": "rgb(232,232,232)",
            "gridwidth": 2,
            "linecolor": "rgb(36,36,36)",
            "showbackground": true,
            "showgrid": false,
            "showline": true,
            "ticks": "outside",
            "zeroline": false,
            "zerolinecolor": "rgb(36,36,36)"
           },
           "zaxis": {
            "backgroundcolor": "white",
            "gridcolor": "rgb(232,232,232)",
            "gridwidth": 2,
            "linecolor": "rgb(36,36,36)",
            "showbackground": true,
            "showgrid": false,
            "showline": true,
            "ticks": "outside",
            "zeroline": false,
            "zerolinecolor": "rgb(36,36,36)"
           }
          },
          "shapedefaults": {
           "fillcolor": "black",
           "line": {
            "width": 0
           },
           "opacity": 0.3
          },
          "ternary": {
           "aaxis": {
            "gridcolor": "rgb(232,232,232)",
            "linecolor": "rgb(36,36,36)",
            "showgrid": false,
            "showline": true,
            "ticks": "outside"
           },
           "baxis": {
            "gridcolor": "rgb(232,232,232)",
            "linecolor": "rgb(36,36,36)",
            "showgrid": false,
            "showline": true,
            "ticks": "outside"
           },
           "bgcolor": "white",
           "caxis": {
            "gridcolor": "rgb(232,232,232)",
            "linecolor": "rgb(36,36,36)",
            "showgrid": false,
            "showline": true,
            "ticks": "outside"
           }
          },
          "title": {
           "x": 0.05
          },
          "xaxis": {
           "automargin": true,
           "gridcolor": "rgb(232,232,232)",
           "linecolor": "rgb(36,36,36)",
           "showgrid": false,
           "showline": true,
           "ticks": "outside",
           "title": {
            "standoff": 15
           },
           "zeroline": false,
           "zerolinecolor": "rgb(36,36,36)"
          },
          "yaxis": {
           "automargin": true,
           "gridcolor": "rgb(232,232,232)",
           "linecolor": "rgb(36,36,36)",
           "showgrid": false,
           "showline": true,
           "ticks": "outside",
           "title": {
            "standoff": 15
           },
           "zeroline": false,
           "zerolinecolor": "rgb(36,36,36)"
          }
         }
        },
        "title": {
         "text": "escort trip mode choice by person type"
        },
        "width": 800,
        "xaxis": {
         "anchor": "y",
         "domain": [
          0.0,
          0.49
         ],
         "tickformat": ".1%",
         "title": {
          "text": "percentage"
         }
        },
        "xaxis2": {
         "anchor": "y2",
         "domain": [
          0.51,
          1.0
         ],
         "matches": "x",
         "tickformat": ".1%",
         "title": {
          "text": "percentage"
         }
        },
        "xaxis3": {
         "anchor": "y3",
         "domain": [
          0.0,
          0.49
         ],
         "matches": "x",
         "showticklabels": false,
         "tickformat": ".1%"
        },
        "xaxis4": {
         "anchor": "y4",
         "domain": [
          0.51,
          1.0
         ],
         "matches": "x",
         "showticklabels": false,
         "tickformat": ".1%"
        },
        "xaxis5": {
         "anchor": "y5",
         "domain": [
          0.0,
          0.49
         ],
         "matches": "x",
         "showticklabels": false,
         "tickformat": ".1%"
        },
        "xaxis6": {
         "anchor": "y6",
         "domain": [
          0.51,
          1.0
         ],
         "matches": "x",
         "showticklabels": false,
         "tickformat": ".1%"
        },
        "xaxis7": {
         "anchor": "y7",
         "domain": [
          0.0,
          0.49
         ],
         "matches": "x",
         "showticklabels": false,
         "tickformat": ".1%"
        },
        "xaxis8": {
         "anchor": "y8",
         "domain": [
          0.51,
          1.0
         ],
         "matches": "x",
         "showticklabels": false,
         "tickformat": ".1%"
        },
        "yaxis": {
         "anchor": "x",
         "categoryarray": [
          "9: other–survey only",
          "8: school bus",
          "6: transit",
          "5: hov 3+",
          "4: hov 2",
          "3: sov",
          "2: bike",
          "1: walk"
         ],
         "categoryorder": "array",
         "domain": [
          0.0,
          0.1975
         ],
         "title": {
          "text": "mode_label"
         }
        },
        "yaxis2": {
         "anchor": "x2",
         "domain": [
          0.0,
          0.1975
         ],
         "matches": "y",
         "showticklabels": false
        },
        "yaxis3": {
         "anchor": "x3",
         "categoryarray": [
          "9: other–survey only",
          "8: school bus",
          "6: transit",
          "5: hov 3+",
          "4: hov 2",
          "3: sov",
          "2: bike",
          "1: walk"
         ],
         "categoryorder": "array",
         "domain": [
          0.2675,
          0.465
         ],
         "matches": "y",
         "title": {
          "text": "mode_label"
         }
        },
        "yaxis4": {
         "anchor": "x4",
         "domain": [
          0.2675,
          0.465
         ],
         "matches": "y",
         "showticklabels": false
        },
        "yaxis5": {
         "anchor": "x5",
         "categoryarray": [
          "9: other–survey only",
          "8: school bus",
          "6: transit",
          "5: hov 3+",
          "4: hov 2",
          "3: sov",
          "2: bike",
          "1: walk"
         ],
         "categoryorder": "array",
         "domain": [
          0.535,
          0.7325
         ],
         "matches": "y",
         "title": {
          "text": "mode_label"
         }
        },
        "yaxis6": {
         "anchor": "x6",
         "domain": [
          0.535,
          0.7325
         ],
         "matches": "y",
         "showticklabels": false
        },
        "yaxis7": {
         "anchor": "x7",
         "categoryarray": [
          "9: other–survey only",
          "8: school bus",
          "6: transit",
          "5: hov 3+",
          "4: hov 2",
          "3: sov",
          "2: bike",
          "1: walk"
         ],
         "categoryorder": "array",
         "domain": [
          0.8025,
          1.0
         ],
         "matches": "y",
         "title": {
          "text": "mode_label"
         }
        },
        "yaxis8": {
         "anchor": "x8",
         "domain": [
          0.8025,
          1.0
         ],
         "matches": "y",
         "showticklabels": false
        }
       }
      },
      "text/html": [
       "<div>                            <div id=\"285626f9-047e-4798-8987-fca0e5f728c2\" class=\"plotly-graph-div\" style=\"height:1000px; width:800px;\"></div>            <script type=\"text/javascript\">                require([\"plotly\"], function(Plotly) {                    window.PLOTLYENV=window.PLOTLYENV || {};                                    if (document.getElementById(\"285626f9-047e-4798-8987-fca0e5f728c2\")) {                    Plotly.newPlot(                        \"285626f9-047e-4798-8987-fca0e5f728c2\",                        [{\"alignmentgroup\":\"True\",\"customdata\":[[68017],[8685],[368329],[190590],[132900],[6084],[1731]],\"hovertemplate\":\"source=model\\u003cbr\\u003epptyp_label=full time worker\\u003cbr\\u003epercentage=%{x}\\u003cbr\\u003emode_label=%{y}\\u003cbr\\u003esample count=%{customdata[0]}\\u003cextra\\u003e\\u003c\\u002fextra\\u003e\",\"legendgroup\":\"model\",\"marker\":{\"color\":\"#91268F\",\"pattern\":{\"shape\":\"\"}},\"name\":\"model\",\"offsetgroup\":\"model\",\"orientation\":\"h\",\"showlegend\":true,\"textposition\":\"auto\",\"x\":[0.08761283774035984,0.011187166381566744,0.4744453432534367,0.24549937140619527,0.17118876362811977,0.007836812926361781,0.0022297046639599347],\"xaxis\":\"x7\",\"y\":[\"1: walk\",\"2: bike\",\"3: sov\",\"4: hov 2\",\"5: hov 3+\",\"6: transit\",\"9: tnc\"],\"yaxis\":\"y7\",\"type\":\"bar\"},{\"alignmentgroup\":\"True\",\"customdata\":[[18084],[2062],[82024],[44245],[31633],[552],[235]],\"hovertemplate\":\"source=model\\u003cbr\\u003epptyp_label=part time worker\\u003cbr\\u003epercentage=%{x}\\u003cbr\\u003emode_label=%{y}\\u003cbr\\u003esample count=%{customdata[0]}\\u003cextra\\u003e\\u003c\\u002fextra\\u003e\",\"legendgroup\":\"model\",\"marker\":{\"color\":\"#91268F\",\"pattern\":{\"shape\":\"\"}},\"name\":\"model\",\"offsetgroup\":\"model\",\"orientation\":\"h\",\"showlegend\":false,\"textposition\":\"auto\",\"x\":[0.1011211451897,0.011530181452176587,0.45865742164565104,0.24740682752257667,0.17688371962982638,0.003086644113288786,0.001314060446780552],\"xaxis\":\"x8\",\"y\":[\"1: walk\",\"2: bike\",\"3: sov\",\"4: hov 2\",\"5: hov 3+\",\"6: transit\",\"9: tnc\"],\"yaxis\":\"y8\",\"type\":\"bar\"},{\"alignmentgroup\":\"True\",\"customdata\":[[10760],[1200],[35642],[35337],[16666]],\"hovertemplate\":\"source=model\\u003cbr\\u003epptyp_label=non-worker age 65+\\u003cbr\\u003epercentage=%{x}\\u003cbr\\u003emode_label=%{y}\\u003cbr\\u003esample count=%{customdata[0]}\\u003cextra\\u003e\\u003c\\u002fextra\\u003e\",\"legendgroup\":\"model\",\"marker\":{\"color\":\"#91268F\",\"pattern\":{\"shape\":\"\"}},\"name\":\"model\",\"offsetgroup\":\"model\",\"orientation\":\"h\",\"showlegend\":false,\"textposition\":\"auto\",\"x\":[0.10802670548667236,0.012047587972491341,0.3578334420962803,0.35477134681993877,0.16732091762461723],\"xaxis\":\"x5\",\"y\":[\"1: walk\",\"2: bike\",\"3: sov\",\"4: hov 2\",\"5: hov 3+\"],\"yaxis\":\"y5\",\"type\":\"bar\"},{\"alignmentgroup\":\"True\",\"customdata\":[[23693],[1911],[61034],[57698],[50247]],\"hovertemplate\":\"source=model\\u003cbr\\u003epptyp_label=other non-working adult\\u003cbr\\u003epercentage=%{x}\\u003cbr\\u003emode_label=%{y}\\u003cbr\\u003esample count=%{customdata[0]}\\u003cextra\\u003e\\u003c\\u002fextra\\u003e\",\"legendgroup\":\"model\",\"marker\":{\"color\":\"#91268F\",\"pattern\":{\"shape\":\"\"}},\"name\":\"model\",\"offsetgroup\":\"model\",\"orientation\":\"h\",\"showlegend\":false,\"textposition\":\"auto\",\"x\":[0.12176294948685137,0.009821001834692651,0.31366563368845174,0.2965212788373085,0.25822913615269577],\"xaxis\":\"x6\",\"y\":[\"1: walk\",\"2: bike\",\"3: sov\",\"4: hov 2\",\"5: hov 3+\"],\"yaxis\":\"y6\",\"type\":\"bar\"},{\"alignmentgroup\":\"True\",\"customdata\":[[1674],[186],[5312],[2752],[2435],[319],[3],[5]],\"hovertemplate\":\"source=model\\u003cbr\\u003epptyp_label=university student\\u003cbr\\u003epercentage=%{x}\\u003cbr\\u003emode_label=%{y}\\u003cbr\\u003esample count=%{customdata[0]}\\u003cextra\\u003e\\u003c\\u002fextra\\u003e\",\"legendgroup\":\"model\",\"marker\":{\"color\":\"#91268F\",\"pattern\":{\"shape\":\"\"}},\"name\":\"model\",\"offsetgroup\":\"model\",\"orientation\":\"h\",\"showlegend\":false,\"textposition\":\"auto\",\"x\":[0.1319564874664985,0.014661831940722056,0.41872930789847074,0.21693205107993063,0.19194387513794733,0.025145830048872775,0.00023648116033422672,0.0003941352672237112],\"xaxis\":\"x3\",\"y\":[\"1: walk\",\"2: bike\",\"3: sov\",\"4: hov 2\",\"5: hov 3+\",\"6: transit\",\"8: school bus\",\"9: tnc\"],\"yaxis\":\"y3\",\"type\":\"bar\"},{\"alignmentgroup\":\"True\",\"customdata\":[[2229],[347],[4764],[6324],[5514],[474],[837],[4]],\"hovertemplate\":\"source=model\\u003cbr\\u003epptyp_label=grade school student\\u002fchild age 16+\\u003cbr\\u003epercentage=%{x}\\u003cbr\\u003emode_label=%{y}\\u003cbr\\u003esample count=%{customdata[0]}\\u003cextra\\u003e\\u003c\\u002fextra\\u003e\",\"legendgroup\":\"model\",\"marker\":{\"color\":\"#91268F\",\"pattern\":{\"shape\":\"\"}},\"name\":\"model\",\"offsetgroup\":\"model\",\"orientation\":\"h\",\"showlegend\":false,\"textposition\":\"auto\",\"x\":[0.10876884789928268,0.016932611135509687,0.2324696237739716,0.30859317815839554,0.2690674864587908,0.023129849216805737,0.04084321475625823,0.00019518860098570242],\"xaxis\":\"x4\",\"y\":[\"1: walk\",\"2: bike\",\"3: sov\",\"4: hov 2\",\"5: hov 3+\",\"6: transit\",\"8: school bus\",\"9: tnc\"],\"yaxis\":\"y4\",\"type\":\"bar\"},{\"alignmentgroup\":\"True\",\"customdata\":[[32652],[5834],[98799],[113681],[1745],[16666],[1]],\"hovertemplate\":\"source=model\\u003cbr\\u003epptyp_label=child age 5-15\\u003cbr\\u003epercentage=%{x}\\u003cbr\\u003emode_label=%{y}\\u003cbr\\u003esample count=%{customdata[0]}\\u003cextra\\u003e\\u003c\\u002fextra\\u003e\",\"legendgroup\":\"model\",\"marker\":{\"color\":\"#91268F\",\"pattern\":{\"shape\":\"\"}},\"name\":\"model\",\"offsetgroup\":\"model\",\"orientation\":\"h\",\"showlegend\":false,\"textposition\":\"auto\",\"x\":[0.12121257118250191,0.02165729940826645,0.36676714505267694,0.42201293349865243,0.006477886093147919,0.06186845250911359,3.7122556407724462e-06],\"xaxis\":\"x\",\"y\":[\"1: walk\",\"2: bike\",\"4: hov 2\",\"5: hov 3+\",\"6: transit\",\"8: school bus\",\"9: tnc\"],\"yaxis\":\"y\",\"type\":\"bar\"},{\"alignmentgroup\":\"True\",\"customdata\":[[11813],[1838],[45011],[46033],[20],[58]],\"hovertemplate\":\"source=model\\u003cbr\\u003epptyp_label=child age 0-4\\u003cbr\\u003epercentage=%{x}\\u003cbr\\u003emode_label=%{y}\\u003cbr\\u003esample count=%{customdata[0]}\\u003cextra\\u003e\\u003c\\u002fextra\\u003e\",\"legendgroup\":\"model\",\"marker\":{\"color\":\"#91268F\",\"pattern\":{\"shape\":\"\"}},\"name\":\"model\",\"offsetgroup\":\"model\",\"orientation\":\"h\",\"showlegend\":false,\"textposition\":\"auto\",\"x\":[0.1127485134528934,0.01754268752445764,0.42960495547517014,0.43935937693871513,0.00019088887404197647,0.0005535777347217318],\"xaxis\":\"x2\",\"y\":[\"1: walk\",\"2: bike\",\"4: hov 2\",\"5: hov 3+\",\"6: transit\",\"8: school bus\"],\"yaxis\":\"y2\",\"type\":\"bar\"},{\"alignmentgroup\":\"True\",\"customdata\":[[58],[16],[179],[205],[109],[3]],\"hovertemplate\":\"source=survey\\u003cbr\\u003epptyp_label=full time worker\\u003cbr\\u003epercentage=%{x}\\u003cbr\\u003emode_label=%{y}\\u003cbr\\u003esample count=%{customdata[0]}\\u003cextra\\u003e\\u003c\\u002fextra\\u003e\",\"legendgroup\":\"survey\",\"marker\":{\"color\":\"#8CC63E\",\"pattern\":{\"shape\":\"\"}},\"name\":\"survey\",\"offsetgroup\":\"survey\",\"orientation\":\"h\",\"showlegend\":true,\"textposition\":\"auto\",\"x\":[0.049488336214957095,0.0036680241316925286,0.3635973617104938,0.34223778830764134,0.24047101919980082,0.0005374704354143302],\"xaxis\":\"x7\",\"y\":[\"1: walk\",\"2: bike\",\"3: sov\",\"4: hov 2\",\"5: hov 3+\",\"6: transit\"],\"yaxis\":\"y7\",\"type\":\"bar\"},{\"alignmentgroup\":\"True\",\"customdata\":[[13],[4],[38],[57],[42]],\"hovertemplate\":\"source=survey\\u003cbr\\u003epptyp_label=part time worker\\u003cbr\\u003epercentage=%{x}\\u003cbr\\u003emode_label=%{y}\\u003cbr\\u003esample count=%{customdata[0]}\\u003cextra\\u003e\\u003c\\u002fextra\\u003e\",\"legendgroup\":\"survey\",\"marker\":{\"color\":\"#8CC63E\",\"pattern\":{\"shape\":\"\"}},\"name\":\"survey\",\"offsetgroup\":\"survey\",\"orientation\":\"h\",\"showlegend\":false,\"textposition\":\"auto\",\"x\":[0.011292463917033185,0.0014552956411558729,0.24062728084594123,0.43521995008393644,0.31140500951193323],\"xaxis\":\"x8\",\"y\":[\"1: walk\",\"2: bike\",\"3: sov\",\"4: hov 2\",\"5: hov 3+\"],\"yaxis\":\"y8\",\"type\":\"bar\"},{\"alignmentgroup\":\"True\",\"customdata\":[[6],[66],[78],[34]],\"hovertemplate\":\"source=survey\\u003cbr\\u003epptyp_label=non-worker age 65+\\u003cbr\\u003epercentage=%{x}\\u003cbr\\u003emode_label=%{y}\\u003cbr\\u003esample count=%{customdata[0]}\\u003cextra\\u003e\\u003c\\u002fextra\\u003e\",\"legendgroup\":\"survey\",\"marker\":{\"color\":\"#8CC63E\",\"pattern\":{\"shape\":\"\"}},\"name\":\"survey\",\"offsetgroup\":\"survey\",\"orientation\":\"h\",\"showlegend\":false,\"textposition\":\"auto\",\"x\":[0.0027603188496670354,0.3210581801541653,0.46088873782675077,0.21529276316941687],\"xaxis\":\"x5\",\"y\":[\"1: walk\",\"3: sov\",\"4: hov 2\",\"5: hov 3+\"],\"yaxis\":\"y5\",\"type\":\"bar\"},{\"alignmentgroup\":\"True\",\"customdata\":[[31],[2],[66],[96],[60],[1]],\"hovertemplate\":\"source=survey\\u003cbr\\u003epptyp_label=other non-working adult\\u003cbr\\u003epercentage=%{x}\\u003cbr\\u003emode_label=%{y}\\u003cbr\\u003esample count=%{customdata[0]}\\u003cextra\\u003e\\u003c\\u002fextra\\u003e\",\"legendgroup\":\"survey\",\"marker\":{\"color\":\"#8CC63E\",\"pattern\":{\"shape\":\"\"}},\"name\":\"survey\",\"offsetgroup\":\"survey\",\"orientation\":\"h\",\"showlegend\":false,\"textposition\":\"auto\",\"x\":[0.10931624671143687,0.0005278041341915008,0.29036517367649034,0.32085285021263593,0.2787961214886626,0.00014180377658264514],\"xaxis\":\"x6\",\"y\":[\"1: walk\",\"2: bike\",\"3: sov\",\"4: hov 2\",\"5: hov 3+\",\"6: transit\"],\"yaxis\":\"y6\",\"type\":\"bar\"},{\"alignmentgroup\":\"True\",\"customdata\":[[3],[6],[8],[3],[1]],\"hovertemplate\":\"source=survey\\u003cbr\\u003epptyp_label=university student\\u003cbr\\u003epercentage=%{x}\\u003cbr\\u003emode_label=%{y}\\u003cbr\\u003esample count=%{customdata[0]}\\u003cextra\\u003e\\u003c\\u002fextra\\u003e\",\"legendgroup\":\"survey\",\"marker\":{\"color\":\"#8CC63E\",\"pattern\":{\"shape\":\"\"}},\"name\":\"survey\",\"offsetgroup\":\"survey\",\"orientation\":\"h\",\"showlegend\":false,\"textposition\":\"auto\",\"x\":[0.49584969621788505,0.091964790082964,0.3272826888360137,0.08057771817665012,0.00432510668648712],\"xaxis\":\"x3\",\"y\":[\"1: walk\",\"3: sov\",\"4: hov 2\",\"5: hov 3+\",\"6: transit\"],\"yaxis\":\"y3\",\"type\":\"bar\"},{\"alignmentgroup\":\"True\",\"customdata\":[[3],[7],[7]],\"hovertemplate\":\"source=survey\\u003cbr\\u003epptyp_label=grade school student\\u002fchild age 16+\\u003cbr\\u003epercentage=%{x}\\u003cbr\\u003emode_label=%{y}\\u003cbr\\u003esample count=%{customdata[0]}\\u003cextra\\u003e\\u003c\\u002fextra\\u003e\",\"legendgroup\":\"survey\",\"marker\":{\"color\":\"#8CC63E\",\"pattern\":{\"shape\":\"\"}},\"name\":\"survey\",\"offsetgroup\":\"survey\",\"orientation\":\"h\",\"showlegend\":false,\"textposition\":\"auto\",\"x\":[0.01524298396134737,0.03231852572410872,0.9524384903145439],\"xaxis\":\"x4\",\"y\":[\"3: sov\",\"4: hov 2\",\"5: hov 3+\"],\"yaxis\":\"y4\",\"type\":\"bar\"},{\"alignmentgroup\":\"True\",\"customdata\":[[13],[2],[37],[81],[3]],\"hovertemplate\":\"source=survey\\u003cbr\\u003epptyp_label=child age 5-15\\u003cbr\\u003epercentage=%{x}\\u003cbr\\u003emode_label=%{y}\\u003cbr\\u003esample count=%{customdata[0]}\\u003cextra\\u003e\\u003c\\u002fextra\\u003e\",\"legendgroup\":\"survey\",\"marker\":{\"color\":\"#8CC63E\",\"pattern\":{\"shape\":\"\"}},\"name\":\"survey\",\"offsetgroup\":\"survey\",\"orientation\":\"h\",\"showlegend\":false,\"textposition\":\"auto\",\"x\":[0.12181597487932604,0.0003220469796694845,0.319833097832509,0.5567153663516405,0.0013135139568548752],\"xaxis\":\"x\",\"y\":[\"1: walk\",\"2: bike\",\"4: hov 2\",\"5: hov 3+\",\"8: school bus\"],\"yaxis\":\"y\",\"type\":\"bar\"},{\"alignmentgroup\":\"True\",\"customdata\":[[14],[22],[77]],\"hovertemplate\":\"source=survey\\u003cbr\\u003epptyp_label=child age 0-4\\u003cbr\\u003epercentage=%{x}\\u003cbr\\u003emode_label=%{y}\\u003cbr\\u003esample count=%{customdata[0]}\\u003cextra\\u003e\\u003c\\u002fextra\\u003e\",\"legendgroup\":\"survey\",\"marker\":{\"color\":\"#8CC63E\",\"pattern\":{\"shape\":\"\"}},\"name\":\"survey\",\"offsetgroup\":\"survey\",\"orientation\":\"h\",\"showlegend\":false,\"textposition\":\"auto\",\"x\":[0.008222844191332464,0.26296838076373436,0.7288087750449332],\"xaxis\":\"x2\",\"y\":[\"1: walk\",\"4: hov 2\",\"5: hov 3+\"],\"yaxis\":\"y2\",\"type\":\"bar\"}],                        {\"template\":{\"data\":{\"barpolar\":[{\"marker\":{\"line\":{\"color\":\"white\",\"width\":0.5},\"pattern\":{\"fillmode\":\"overlay\",\"size\":10,\"solidity\":0.2}},\"type\":\"barpolar\"}],\"bar\":[{\"error_x\":{\"color\":\"rgb(36,36,36)\"},\"error_y\":{\"color\":\"rgb(36,36,36)\"},\"marker\":{\"line\":{\"color\":\"white\",\"width\":0.5},\"pattern\":{\"fillmode\":\"overlay\",\"size\":10,\"solidity\":0.2}},\"type\":\"bar\"}],\"carpet\":[{\"aaxis\":{\"endlinecolor\":\"rgb(36,36,36)\",\"gridcolor\":\"white\",\"linecolor\":\"white\",\"minorgridcolor\":\"white\",\"startlinecolor\":\"rgb(36,36,36)\"},\"baxis\":{\"endlinecolor\":\"rgb(36,36,36)\",\"gridcolor\":\"white\",\"linecolor\":\"white\",\"minorgridcolor\":\"white\",\"startlinecolor\":\"rgb(36,36,36)\"},\"type\":\"carpet\"}],\"choropleth\":[{\"colorbar\":{\"outlinewidth\":1,\"tickcolor\":\"rgb(36,36,36)\",\"ticks\":\"outside\"},\"type\":\"choropleth\"}],\"contourcarpet\":[{\"colorbar\":{\"outlinewidth\":1,\"tickcolor\":\"rgb(36,36,36)\",\"ticks\":\"outside\"},\"type\":\"contourcarpet\"}],\"contour\":[{\"colorbar\":{\"outlinewidth\":1,\"tickcolor\":\"rgb(36,36,36)\",\"ticks\":\"outside\"},\"colorscale\":[[0.0,\"#440154\"],[0.1111111111111111,\"#482878\"],[0.2222222222222222,\"#3e4989\"],[0.3333333333333333,\"#31688e\"],[0.4444444444444444,\"#26828e\"],[0.5555555555555556,\"#1f9e89\"],[0.6666666666666666,\"#35b779\"],[0.7777777777777778,\"#6ece58\"],[0.8888888888888888,\"#b5de2b\"],[1.0,\"#fde725\"]],\"type\":\"contour\"}],\"heatmapgl\":[{\"colorbar\":{\"outlinewidth\":1,\"tickcolor\":\"rgb(36,36,36)\",\"ticks\":\"outside\"},\"colorscale\":[[0.0,\"#440154\"],[0.1111111111111111,\"#482878\"],[0.2222222222222222,\"#3e4989\"],[0.3333333333333333,\"#31688e\"],[0.4444444444444444,\"#26828e\"],[0.5555555555555556,\"#1f9e89\"],[0.6666666666666666,\"#35b779\"],[0.7777777777777778,\"#6ece58\"],[0.8888888888888888,\"#b5de2b\"],[1.0,\"#fde725\"]],\"type\":\"heatmapgl\"}],\"heatmap\":[{\"colorbar\":{\"outlinewidth\":1,\"tickcolor\":\"rgb(36,36,36)\",\"ticks\":\"outside\"},\"colorscale\":[[0.0,\"#440154\"],[0.1111111111111111,\"#482878\"],[0.2222222222222222,\"#3e4989\"],[0.3333333333333333,\"#31688e\"],[0.4444444444444444,\"#26828e\"],[0.5555555555555556,\"#1f9e89\"],[0.6666666666666666,\"#35b779\"],[0.7777777777777778,\"#6ece58\"],[0.8888888888888888,\"#b5de2b\"],[1.0,\"#fde725\"]],\"type\":\"heatmap\"}],\"histogram2dcontour\":[{\"colorbar\":{\"outlinewidth\":1,\"tickcolor\":\"rgb(36,36,36)\",\"ticks\":\"outside\"},\"colorscale\":[[0.0,\"#440154\"],[0.1111111111111111,\"#482878\"],[0.2222222222222222,\"#3e4989\"],[0.3333333333333333,\"#31688e\"],[0.4444444444444444,\"#26828e\"],[0.5555555555555556,\"#1f9e89\"],[0.6666666666666666,\"#35b779\"],[0.7777777777777778,\"#6ece58\"],[0.8888888888888888,\"#b5de2b\"],[1.0,\"#fde725\"]],\"type\":\"histogram2dcontour\"}],\"histogram2d\":[{\"colorbar\":{\"outlinewidth\":1,\"tickcolor\":\"rgb(36,36,36)\",\"ticks\":\"outside\"},\"colorscale\":[[0.0,\"#440154\"],[0.1111111111111111,\"#482878\"],[0.2222222222222222,\"#3e4989\"],[0.3333333333333333,\"#31688e\"],[0.4444444444444444,\"#26828e\"],[0.5555555555555556,\"#1f9e89\"],[0.6666666666666666,\"#35b779\"],[0.7777777777777778,\"#6ece58\"],[0.8888888888888888,\"#b5de2b\"],[1.0,\"#fde725\"]],\"type\":\"histogram2d\"}],\"histogram\":[{\"marker\":{\"line\":{\"color\":\"white\",\"width\":0.6}},\"type\":\"histogram\"}],\"mesh3d\":[{\"colorbar\":{\"outlinewidth\":1,\"tickcolor\":\"rgb(36,36,36)\",\"ticks\":\"outside\"},\"type\":\"mesh3d\"}],\"parcoords\":[{\"line\":{\"colorbar\":{\"outlinewidth\":1,\"tickcolor\":\"rgb(36,36,36)\",\"ticks\":\"outside\"}},\"type\":\"parcoords\"}],\"pie\":[{\"automargin\":true,\"type\":\"pie\"}],\"scatter3d\":[{\"line\":{\"colorbar\":{\"outlinewidth\":1,\"tickcolor\":\"rgb(36,36,36)\",\"ticks\":\"outside\"}},\"marker\":{\"colorbar\":{\"outlinewidth\":1,\"tickcolor\":\"rgb(36,36,36)\",\"ticks\":\"outside\"}},\"type\":\"scatter3d\"}],\"scattercarpet\":[{\"marker\":{\"colorbar\":{\"outlinewidth\":1,\"tickcolor\":\"rgb(36,36,36)\",\"ticks\":\"outside\"}},\"type\":\"scattercarpet\"}],\"scattergeo\":[{\"marker\":{\"colorbar\":{\"outlinewidth\":1,\"tickcolor\":\"rgb(36,36,36)\",\"ticks\":\"outside\"}},\"type\":\"scattergeo\"}],\"scattergl\":[{\"marker\":{\"colorbar\":{\"outlinewidth\":1,\"tickcolor\":\"rgb(36,36,36)\",\"ticks\":\"outside\"}},\"type\":\"scattergl\"}],\"scattermapbox\":[{\"marker\":{\"colorbar\":{\"outlinewidth\":1,\"tickcolor\":\"rgb(36,36,36)\",\"ticks\":\"outside\"}},\"type\":\"scattermapbox\"}],\"scatterpolargl\":[{\"marker\":{\"colorbar\":{\"outlinewidth\":1,\"tickcolor\":\"rgb(36,36,36)\",\"ticks\":\"outside\"}},\"type\":\"scatterpolargl\"}],\"scatterpolar\":[{\"marker\":{\"colorbar\":{\"outlinewidth\":1,\"tickcolor\":\"rgb(36,36,36)\",\"ticks\":\"outside\"}},\"type\":\"scatterpolar\"}],\"scatter\":[{\"fillpattern\":{\"fillmode\":\"overlay\",\"size\":10,\"solidity\":0.2},\"type\":\"scatter\"}],\"scatterternary\":[{\"marker\":{\"colorbar\":{\"outlinewidth\":1,\"tickcolor\":\"rgb(36,36,36)\",\"ticks\":\"outside\"}},\"type\":\"scatterternary\"}],\"surface\":[{\"colorbar\":{\"outlinewidth\":1,\"tickcolor\":\"rgb(36,36,36)\",\"ticks\":\"outside\"},\"colorscale\":[[0.0,\"#440154\"],[0.1111111111111111,\"#482878\"],[0.2222222222222222,\"#3e4989\"],[0.3333333333333333,\"#31688e\"],[0.4444444444444444,\"#26828e\"],[0.5555555555555556,\"#1f9e89\"],[0.6666666666666666,\"#35b779\"],[0.7777777777777778,\"#6ece58\"],[0.8888888888888888,\"#b5de2b\"],[1.0,\"#fde725\"]],\"type\":\"surface\"}],\"table\":[{\"cells\":{\"fill\":{\"color\":\"rgb(237,237,237)\"},\"line\":{\"color\":\"white\"}},\"header\":{\"fill\":{\"color\":\"rgb(217,217,217)\"},\"line\":{\"color\":\"white\"}},\"type\":\"table\"}]},\"layout\":{\"annotationdefaults\":{\"arrowhead\":0,\"arrowwidth\":1},\"autotypenumbers\":\"strict\",\"coloraxis\":{\"colorbar\":{\"outlinewidth\":1,\"tickcolor\":\"rgb(36,36,36)\",\"ticks\":\"outside\"}},\"colorscale\":{\"diverging\":[[0.0,\"rgb(103,0,31)\"],[0.1,\"rgb(178,24,43)\"],[0.2,\"rgb(214,96,77)\"],[0.3,\"rgb(244,165,130)\"],[0.4,\"rgb(253,219,199)\"],[0.5,\"rgb(247,247,247)\"],[0.6,\"rgb(209,229,240)\"],[0.7,\"rgb(146,197,222)\"],[0.8,\"rgb(67,147,195)\"],[0.9,\"rgb(33,102,172)\"],[1.0,\"rgb(5,48,97)\"]],\"sequential\":[[0.0,\"#440154\"],[0.1111111111111111,\"#482878\"],[0.2222222222222222,\"#3e4989\"],[0.3333333333333333,\"#31688e\"],[0.4444444444444444,\"#26828e\"],[0.5555555555555556,\"#1f9e89\"],[0.6666666666666666,\"#35b779\"],[0.7777777777777778,\"#6ece58\"],[0.8888888888888888,\"#b5de2b\"],[1.0,\"#fde725\"]],\"sequentialminus\":[[0.0,\"#440154\"],[0.1111111111111111,\"#482878\"],[0.2222222222222222,\"#3e4989\"],[0.3333333333333333,\"#31688e\"],[0.4444444444444444,\"#26828e\"],[0.5555555555555556,\"#1f9e89\"],[0.6666666666666666,\"#35b779\"],[0.7777777777777778,\"#6ece58\"],[0.8888888888888888,\"#b5de2b\"],[1.0,\"#fde725\"]]},\"colorway\":[\"#91268F\",\"#8CC63E\",\"#00A7A0\",\"#F05A28\",\"#4C4C4C\",\"#630460\",\"#9f3913\",\"#588527\",\"#00716c\",\"#3e4040\"],\"font\":{\"color\":\"rgb(36,36,36)\",\"family\":\"Poppins\",\"size\":11},\"geo\":{\"bgcolor\":\"white\",\"lakecolor\":\"white\",\"landcolor\":\"white\",\"showlakes\":true,\"showland\":true,\"subunitcolor\":\"white\"},\"hoverlabel\":{\"align\":\"left\"},\"hovermode\":\"closest\",\"mapbox\":{\"style\":\"light\"},\"paper_bgcolor\":\"white\",\"plot_bgcolor\":\"white\",\"polar\":{\"angularaxis\":{\"gridcolor\":\"rgb(232,232,232)\",\"linecolor\":\"rgb(36,36,36)\",\"showgrid\":false,\"showline\":true,\"ticks\":\"outside\"},\"bgcolor\":\"white\",\"radialaxis\":{\"gridcolor\":\"rgb(232,232,232)\",\"linecolor\":\"rgb(36,36,36)\",\"showgrid\":false,\"showline\":true,\"ticks\":\"outside\"}},\"scene\":{\"xaxis\":{\"backgroundcolor\":\"white\",\"gridcolor\":\"rgb(232,232,232)\",\"gridwidth\":2,\"linecolor\":\"rgb(36,36,36)\",\"showbackground\":true,\"showgrid\":false,\"showline\":true,\"ticks\":\"outside\",\"zeroline\":false,\"zerolinecolor\":\"rgb(36,36,36)\"},\"yaxis\":{\"backgroundcolor\":\"white\",\"gridcolor\":\"rgb(232,232,232)\",\"gridwidth\":2,\"linecolor\":\"rgb(36,36,36)\",\"showbackground\":true,\"showgrid\":false,\"showline\":true,\"ticks\":\"outside\",\"zeroline\":false,\"zerolinecolor\":\"rgb(36,36,36)\"},\"zaxis\":{\"backgroundcolor\":\"white\",\"gridcolor\":\"rgb(232,232,232)\",\"gridwidth\":2,\"linecolor\":\"rgb(36,36,36)\",\"showbackground\":true,\"showgrid\":false,\"showline\":true,\"ticks\":\"outside\",\"zeroline\":false,\"zerolinecolor\":\"rgb(36,36,36)\"}},\"shapedefaults\":{\"fillcolor\":\"black\",\"line\":{\"width\":0},\"opacity\":0.3},\"ternary\":{\"aaxis\":{\"gridcolor\":\"rgb(232,232,232)\",\"linecolor\":\"rgb(36,36,36)\",\"showgrid\":false,\"showline\":true,\"ticks\":\"outside\"},\"baxis\":{\"gridcolor\":\"rgb(232,232,232)\",\"linecolor\":\"rgb(36,36,36)\",\"showgrid\":false,\"showline\":true,\"ticks\":\"outside\"},\"bgcolor\":\"white\",\"caxis\":{\"gridcolor\":\"rgb(232,232,232)\",\"linecolor\":\"rgb(36,36,36)\",\"showgrid\":false,\"showline\":true,\"ticks\":\"outside\"}},\"title\":{\"x\":0.05},\"xaxis\":{\"automargin\":true,\"gridcolor\":\"rgb(232,232,232)\",\"linecolor\":\"rgb(36,36,36)\",\"showgrid\":false,\"showline\":true,\"ticks\":\"outside\",\"title\":{\"standoff\":15},\"zeroline\":false,\"zerolinecolor\":\"rgb(36,36,36)\"},\"yaxis\":{\"automargin\":true,\"gridcolor\":\"rgb(232,232,232)\",\"linecolor\":\"rgb(36,36,36)\",\"showgrid\":false,\"showline\":true,\"ticks\":\"outside\",\"title\":{\"standoff\":15},\"zeroline\":false,\"zerolinecolor\":\"rgb(36,36,36)\"}}},\"xaxis\":{\"anchor\":\"y\",\"domain\":[0.0,0.49],\"title\":{\"text\":\"percentage\"},\"tickformat\":\".1%\"},\"yaxis\":{\"anchor\":\"x\",\"domain\":[0.0,0.1975],\"title\":{\"text\":\"mode_label\"},\"categoryorder\":\"array\",\"categoryarray\":[\"9: other\\u00e2\\u20ac\\u201csurvey only\",\"8: school bus\",\"6: transit\",\"5: hov 3+\",\"4: hov 2\",\"3: sov\",\"2: bike\",\"1: walk\"]},\"xaxis2\":{\"anchor\":\"y2\",\"domain\":[0.51,1.0],\"matches\":\"x\",\"title\":{\"text\":\"percentage\"},\"tickformat\":\".1%\"},\"yaxis2\":{\"anchor\":\"x2\",\"domain\":[0.0,0.1975],\"matches\":\"y\",\"showticklabels\":false},\"xaxis3\":{\"anchor\":\"y3\",\"domain\":[0.0,0.49],\"matches\":\"x\",\"showticklabels\":false,\"tickformat\":\".1%\"},\"yaxis3\":{\"anchor\":\"x3\",\"domain\":[0.2675,0.465],\"matches\":\"y\",\"title\":{\"text\":\"mode_label\"},\"categoryorder\":\"array\",\"categoryarray\":[\"9: other\\u00e2\\u20ac\\u201csurvey only\",\"8: school bus\",\"6: transit\",\"5: hov 3+\",\"4: hov 2\",\"3: sov\",\"2: bike\",\"1: walk\"]},\"xaxis4\":{\"anchor\":\"y4\",\"domain\":[0.51,1.0],\"matches\":\"x\",\"showticklabels\":false,\"tickformat\":\".1%\"},\"yaxis4\":{\"anchor\":\"x4\",\"domain\":[0.2675,0.465],\"matches\":\"y\",\"showticklabels\":false},\"xaxis5\":{\"anchor\":\"y5\",\"domain\":[0.0,0.49],\"matches\":\"x\",\"showticklabels\":false,\"tickformat\":\".1%\"},\"yaxis5\":{\"anchor\":\"x5\",\"domain\":[0.535,0.7325],\"matches\":\"y\",\"title\":{\"text\":\"mode_label\"},\"categoryorder\":\"array\",\"categoryarray\":[\"9: other\\u00e2\\u20ac\\u201csurvey only\",\"8: school bus\",\"6: transit\",\"5: hov 3+\",\"4: hov 2\",\"3: sov\",\"2: bike\",\"1: walk\"]},\"xaxis6\":{\"anchor\":\"y6\",\"domain\":[0.51,1.0],\"matches\":\"x\",\"showticklabels\":false,\"tickformat\":\".1%\"},\"yaxis6\":{\"anchor\":\"x6\",\"domain\":[0.535,0.7325],\"matches\":\"y\",\"showticklabels\":false},\"xaxis7\":{\"anchor\":\"y7\",\"domain\":[0.0,0.49],\"matches\":\"x\",\"showticklabels\":false,\"tickformat\":\".1%\"},\"yaxis7\":{\"anchor\":\"x7\",\"domain\":[0.8025,1.0],\"matches\":\"y\",\"title\":{\"text\":\"mode_label\"},\"categoryorder\":\"array\",\"categoryarray\":[\"9: other\\u00e2\\u20ac\\u201csurvey only\",\"8: school bus\",\"6: transit\",\"5: hov 3+\",\"4: hov 2\",\"3: sov\",\"2: bike\",\"1: walk\"]},\"xaxis8\":{\"anchor\":\"y8\",\"domain\":[0.51,1.0],\"matches\":\"x\",\"showticklabels\":false,\"tickformat\":\".1%\"},\"yaxis8\":{\"anchor\":\"x8\",\"domain\":[0.8025,1.0],\"matches\":\"y\",\"showticklabels\":false},\"annotations\":[{\"font\":{},\"showarrow\":false,\"text\":\"child age 5-15\",\"x\":0.245,\"xanchor\":\"center\",\"xref\":\"paper\",\"y\":0.1975,\"yanchor\":\"bottom\",\"yref\":\"paper\"},{\"font\":{},\"showarrow\":false,\"text\":\"child age 0-4\",\"x\":0.755,\"xanchor\":\"center\",\"xref\":\"paper\",\"y\":0.1975,\"yanchor\":\"bottom\",\"yref\":\"paper\"},{\"font\":{},\"showarrow\":false,\"text\":\"university student\",\"x\":0.245,\"xanchor\":\"center\",\"xref\":\"paper\",\"y\":0.465,\"yanchor\":\"bottom\",\"yref\":\"paper\"},{\"font\":{},\"showarrow\":false,\"text\":\"grade school student\\u002fchild age 16+\",\"x\":0.755,\"xanchor\":\"center\",\"xref\":\"paper\",\"y\":0.465,\"yanchor\":\"bottom\",\"yref\":\"paper\"},{\"font\":{},\"showarrow\":false,\"text\":\"non-worker age 65+\",\"x\":0.245,\"xanchor\":\"center\",\"xref\":\"paper\",\"y\":0.7325,\"yanchor\":\"bottom\",\"yref\":\"paper\"},{\"font\":{},\"showarrow\":false,\"text\":\"other non-working adult\",\"x\":0.755,\"xanchor\":\"center\",\"xref\":\"paper\",\"y\":0.7325,\"yanchor\":\"bottom\",\"yref\":\"paper\"},{\"font\":{},\"showarrow\":false,\"text\":\"full time worker\",\"x\":0.245,\"xanchor\":\"center\",\"xref\":\"paper\",\"y\":1.0,\"yanchor\":\"bottom\",\"yref\":\"paper\"},{\"font\":{},\"showarrow\":false,\"text\":\"part time worker\",\"x\":0.755,\"xanchor\":\"center\",\"xref\":\"paper\",\"y\":1.0,\"yanchor\":\"bottom\",\"yref\":\"paper\"}],\"legend\":{\"title\":{\"text\":\"source\"},\"tracegroupgap\":0},\"title\":{\"text\":\"escort trip mode choice by person type\"},\"barmode\":\"group\",\"height\":1000,\"width\":800},                        {\"responsive\": true}                    ).then(function(){\n",
       "                            \n",
       "var gd = document.getElementById('285626f9-047e-4798-8987-fca0e5f728c2');\n",
       "var x = new MutationObserver(function (mutations, observer) {{\n",
       "        var display = window.getComputedStyle(gd).display;\n",
       "        if (!display || display === 'none') {{\n",
       "            console.log([gd, 'removed!']);\n",
       "            Plotly.purge(gd);\n",
       "            observer.disconnect();\n",
       "        }}\n",
       "}});\n",
       "\n",
       "// Listen for the removal of the full notebook cells\n",
       "var notebookContainer = gd.closest('#notebook-container');\n",
       "if (notebookContainer) {{\n",
       "    x.observe(notebookContainer, {childList: true});\n",
       "}}\n",
       "\n",
       "// Listen for the clearing of the current output cell\n",
       "var outputEl = gd.closest('.output');\n",
       "if (outputEl) {{\n",
       "    x.observe(outputEl, {childList: true});\n",
       "}}\n",
       "\n",
       "                        })                };                });            </script>        </div>"
      ]
     },
     "metadata": {},
     "output_type": "display_data"
    }
   ],
   "source": [
    "plot_mode_choice(es_trip,\"pptyp_label\",\n",
    "                 {\"pptyp_label\":[\"full time worker\",\"part time worker\",\"non-worker age 65+\",\"other non-working adult\",\n",
    "                                 \"university student\",\"grade school student/child age 16+\",\"child age 5-15\",\"child age 0-4\"],\n",
    "                  \"mode_label\":[\"1: walk\",\"2: bike\",\"3: sov\",\"4: hov 2\",\"5: hov 3+\",\"6: transit\",\n",
    "                                   \"8: school bus\",\"9: other–survey only\"]},\n",
    "                 \"person type\",\n",
    "                 2,1000)"
   ]
  },
  {
   "cell_type": "raw",
   "metadata": {},
   "source": [
    "### household size"
   ]
  },
  {
   "cell_type": "code",
   "execution_count": 8,
   "metadata": {
    "execution": {
     "iopub.execute_input": "2025-01-21T06:22:01.580433Z",
     "iopub.status.busy": "2025-01-21T06:22:01.578445Z",
     "iopub.status.idle": "2025-01-21T06:22:02.293002Z",
     "shell.execute_reply": "2025-01-21T06:22:02.291490Z"
    }
   },
   "outputs": [
    {
     "data": {
      "application/vnd.plotly.v1+json": {
       "config": {
        "plotlyServerURL": "https://plot.ly"
       },
       "data": [
        {
         "alignmentgroup": "True",
         "customdata": [
          [
           16925
          ],
          [
           1318
          ],
          [
           33542
          ],
          [
           11619
          ],
          [
           6293
          ],
          [
           728
          ],
          [
           345
          ]
         ],
         "hovertemplate": "source=model<br>hhsize_4+=1<br>percentage=%{x}<br>mode_label=%{y}<br>sample count=%{customdata[0]}<extra></extra>",
         "legendgroup": "model",
         "marker": {
          "color": "#91268F",
          "pattern": {
           "shape": ""
          }
         },
         "name": "model",
         "offsetgroup": "model",
         "orientation": "h",
         "showlegend": true,
         "textposition": "auto",
         "type": "bar",
         "x": [
          0.23915500918468277,
          0.018623710611841177,
          0.47395789176204606,
          0.1641797371767698,
          0.08892185954500495,
          0.010286844708209694,
          0.004874947011445528
         ],
         "xaxis": "x3",
         "y": [
          "1: walk",
          "2: bike",
          "3: sov",
          "4: hov 2",
          "5: hov 3+",
          "6: transit",
          "9: tnc"
         ],
         "yaxis": "y3"
        },
        {
         "alignmentgroup": "True",
         "customdata": [
          [
           36609
          ],
          [
           3684
          ],
          [
           133923
          ],
          [
           89929
          ],
          [
           26790
          ],
          [
           2177
          ],
          [
           586
          ],
          [
           719
          ]
         ],
         "hovertemplate": "source=model<br>hhsize_4+=2<br>percentage=%{x}<br>mode_label=%{y}<br>sample count=%{customdata[0]}<extra></extra>",
         "legendgroup": "model",
         "marker": {
          "color": "#91268F",
          "pattern": {
           "shape": ""
          }
         },
         "name": "model",
         "offsetgroup": "model",
         "orientation": "h",
         "showlegend": false,
         "textposition": "auto",
         "type": "bar",
         "x": [
          0.12434404263340772,
          0.012512864406606955,
          0.45487522799294877,
          0.30544771531535203,
          0.09099338693078185,
          0.007394274107813068,
          0.0019903741971421486,
          0.002442114415947449
         ],
         "xaxis": "x4",
         "y": [
          "1: walk",
          "2: bike",
          "3: sov",
          "4: hov 2",
          "5: hov 3+",
          "6: transit",
          "8: school bus",
          "9: tnc"
         ],
         "yaxis": "y4"
        },
        {
         "alignmentgroup": "True",
         "customdata": [
          [
           32932
          ],
          [
           3893
          ],
          [
           113294
          ],
          [
           96839
          ],
          [
           75938
          ],
          [
           1811
          ],
          [
           2442
          ],
          [
           316
          ]
         ],
         "hovertemplate": "source=model<br>hhsize_4+=3<br>percentage=%{x}<br>mode_label=%{y}<br>sample count=%{customdata[0]}<extra></extra>",
         "legendgroup": "model",
         "marker": {
          "color": "#91268F",
          "pattern": {
           "shape": ""
          }
         },
         "name": "model",
         "offsetgroup": "model",
         "orientation": "h",
         "showlegend": false,
         "textposition": "auto",
         "type": "bar",
         "x": [
          0.10056647275281327,
          0.011888293405402104,
          0.3459728520605255,
          0.29572320706029653,
          0.23189653856137296,
          0.0055303620234223505,
          0.0074572855114287025,
          0.0009649886247385217
         ],
         "xaxis": "x",
         "y": [
          "1: walk",
          "2: bike",
          "3: sov",
          "4: hov 2",
          "5: hov 3+",
          "6: transit",
          "8: school bus",
          "9: tnc"
         ],
         "yaxis": "y"
        },
        {
         "alignmentgroup": "True",
         "customdata": [
          [
           82456
          ],
          [
           13168
          ],
          [
           276346
          ],
          [
           282369
          ],
          [
           290088
          ],
          [
           4478
          ],
          [
           14536
          ],
          [
           596
          ]
         ],
         "hovertemplate": "source=model<br>hhsize_4+=4+<br>percentage=%{x}<br>mode_label=%{y}<br>sample count=%{customdata[0]}<extra></extra>",
         "legendgroup": "model",
         "marker": {
          "color": "#91268F",
          "pattern": {
           "shape": ""
          }
         },
         "name": "model",
         "offsetgroup": "model",
         "orientation": "h",
         "showlegend": false,
         "textposition": "auto",
         "type": "bar",
         "x": [
          0.08553198684282864,
          0.013659226772416412,
          0.28665497278631424,
          0.2929026583004594,
          0.3009096123903958,
          0.0046450499306561885,
          0.015078259444398919,
          0.0006182335325303904
         ],
         "xaxis": "x2",
         "y": [
          "1: walk",
          "2: bike",
          "3: sov",
          "4: hov 2",
          "5: hov 3+",
          "6: transit",
          "8: school bus",
          "9: tnc"
         ],
         "yaxis": "y2"
        },
        {
         "alignmentgroup": "True",
         "customdata": [
          [
           15
          ],
          [
           1
          ],
          [
           51
          ],
          [
           46
          ],
          [
           9
          ],
          [
           1
          ]
         ],
         "hovertemplate": "source=survey<br>hhsize_4+=1<br>percentage=%{x}<br>mode_label=%{y}<br>sample count=%{customdata[0]}<extra></extra>",
         "legendgroup": "survey",
         "marker": {
          "color": "#8CC63E",
          "pattern": {
           "shape": ""
          }
         },
         "name": "survey",
         "offsetgroup": "survey",
         "orientation": "h",
         "showlegend": true,
         "textposition": "auto",
         "type": "bar",
         "x": [
          0.05043422764001627,
          0.000884507400701303,
          0.3857631155332661,
          0.4530382428080278,
          0.10848065445020118,
          0.0013992521677873297
         ],
         "xaxis": "x3",
         "y": [
          "1: walk",
          "2: bike",
          "3: sov",
          "4: hov 2",
          "5: hov 3+",
          "6: transit"
         ],
         "yaxis": "y3"
        },
        {
         "alignmentgroup": "True",
         "customdata": [
          [
           18
          ],
          [
           116
          ],
          [
           172
          ],
          [
           46
          ],
          [
           1
          ]
         ],
         "hovertemplate": "source=survey<br>hhsize_4+=2<br>percentage=%{x}<br>mode_label=%{y}<br>sample count=%{customdata[0]}<extra></extra>",
         "legendgroup": "survey",
         "marker": {
          "color": "#8CC63E",
          "pattern": {
           "shape": ""
          }
         },
         "name": "survey",
         "offsetgroup": "survey",
         "orientation": "h",
         "showlegend": false,
         "textposition": "auto",
         "type": "bar",
         "x": [
          0.040166297964914346,
          0.3335264397348104,
          0.4748637227627725,
          0.15133234076367663,
          0.000111198773826108
         ],
         "xaxis": "x4",
         "y": [
          "1: walk",
          "3: sov",
          "4: hov 2",
          "5: hov 3+",
          "6: transit"
         ],
         "yaxis": "y4"
        },
        {
         "alignmentgroup": "True",
         "customdata": [
          [
           42
          ],
          [
           12
          ],
          [
           86
          ],
          [
           108
          ],
          [
           60
          ],
          [
           1
          ],
          [
           1
          ]
         ],
         "hovertemplate": "source=survey<br>hhsize_4+=3<br>percentage=%{x}<br>mode_label=%{y}<br>sample count=%{customdata[0]}<extra></extra>",
         "legendgroup": "survey",
         "marker": {
          "color": "#8CC63E",
          "pattern": {
           "shape": ""
          }
         },
         "name": "survey",
         "offsetgroup": "survey",
         "orientation": "h",
         "showlegend": false,
         "textposition": "auto",
         "type": "bar",
         "x": [
          0.10336392616549804,
          0.004230780748142335,
          0.19962784926353766,
          0.4305496153960533,
          0.26063516871090425,
          0.000574373644678977,
          0.001018286071185345
         ],
         "xaxis": "x",
         "y": [
          "1: walk",
          "2: bike",
          "3: sov",
          "4: hov 2",
          "5: hov 3+",
          "6: transit",
          "8: school bus"
         ],
         "yaxis": "y"
        },
        {
         "alignmentgroup": "True",
         "customdata": [
          [
           63
          ],
          [
           11
          ],
          [
           105
          ],
          [
           184
          ],
          [
           298
          ],
          [
           2
          ],
          [
           2
          ]
         ],
         "hovertemplate": "source=survey<br>hhsize_4+=4+<br>percentage=%{x}<br>mode_label=%{y}<br>sample count=%{customdata[0]}<extra></extra>",
         "legendgroup": "survey",
         "marker": {
          "color": "#8CC63E",
          "pattern": {
           "shape": ""
          }
         },
         "name": "survey",
         "offsetgroup": "survey",
         "orientation": "h",
         "showlegend": false,
         "textposition": "auto",
         "type": "bar",
         "x": [
          0.058819838391094385,
          0.0020295491693990394,
          0.2379396671978681,
          0.2871086432077849,
          0.41380116741383105,
          0.00024820583131535286,
          5.2928788707291994e-05
         ],
         "xaxis": "x2",
         "y": [
          "1: walk",
          "2: bike",
          "3: sov",
          "4: hov 2",
          "5: hov 3+",
          "6: transit",
          "8: school bus"
         ],
         "yaxis": "y2"
        }
       ],
       "layout": {
        "annotations": [
         {
          "font": {},
          "showarrow": false,
          "text": "3",
          "x": 0.245,
          "xanchor": "center",
          "xref": "paper",
          "y": 0.46499999999999997,
          "yanchor": "bottom",
          "yref": "paper"
         },
         {
          "font": {},
          "showarrow": false,
          "text": "4+",
          "x": 0.755,
          "xanchor": "center",
          "xref": "paper",
          "y": 0.46499999999999997,
          "yanchor": "bottom",
          "yref": "paper"
         },
         {
          "font": {},
          "showarrow": false,
          "text": "1",
          "x": 0.245,
          "xanchor": "center",
          "xref": "paper",
          "y": 0.9999999999999999,
          "yanchor": "bottom",
          "yref": "paper"
         },
         {
          "font": {},
          "showarrow": false,
          "text": "2",
          "x": 0.755,
          "xanchor": "center",
          "xref": "paper",
          "y": 0.9999999999999999,
          "yanchor": "bottom",
          "yref": "paper"
         }
        ],
        "barmode": "group",
        "height": 600,
        "legend": {
         "title": {
          "text": "source"
         },
         "tracegroupgap": 0
        },
        "template": {
         "data": {
          "bar": [
           {
            "error_x": {
             "color": "rgb(36,36,36)"
            },
            "error_y": {
             "color": "rgb(36,36,36)"
            },
            "marker": {
             "line": {
              "color": "white",
              "width": 0.5
             },
             "pattern": {
              "fillmode": "overlay",
              "size": 10,
              "solidity": 0.2
             }
            },
            "type": "bar"
           }
          ],
          "barpolar": [
           {
            "marker": {
             "line": {
              "color": "white",
              "width": 0.5
             },
             "pattern": {
              "fillmode": "overlay",
              "size": 10,
              "solidity": 0.2
             }
            },
            "type": "barpolar"
           }
          ],
          "carpet": [
           {
            "aaxis": {
             "endlinecolor": "rgb(36,36,36)",
             "gridcolor": "white",
             "linecolor": "white",
             "minorgridcolor": "white",
             "startlinecolor": "rgb(36,36,36)"
            },
            "baxis": {
             "endlinecolor": "rgb(36,36,36)",
             "gridcolor": "white",
             "linecolor": "white",
             "minorgridcolor": "white",
             "startlinecolor": "rgb(36,36,36)"
            },
            "type": "carpet"
           }
          ],
          "choropleth": [
           {
            "colorbar": {
             "outlinewidth": 1,
             "tickcolor": "rgb(36,36,36)",
             "ticks": "outside"
            },
            "type": "choropleth"
           }
          ],
          "contour": [
           {
            "colorbar": {
             "outlinewidth": 1,
             "tickcolor": "rgb(36,36,36)",
             "ticks": "outside"
            },
            "colorscale": [
             [
              0.0,
              "#440154"
             ],
             [
              0.1111111111111111,
              "#482878"
             ],
             [
              0.2222222222222222,
              "#3e4989"
             ],
             [
              0.3333333333333333,
              "#31688e"
             ],
             [
              0.4444444444444444,
              "#26828e"
             ],
             [
              0.5555555555555556,
              "#1f9e89"
             ],
             [
              0.6666666666666666,
              "#35b779"
             ],
             [
              0.7777777777777778,
              "#6ece58"
             ],
             [
              0.8888888888888888,
              "#b5de2b"
             ],
             [
              1.0,
              "#fde725"
             ]
            ],
            "type": "contour"
           }
          ],
          "contourcarpet": [
           {
            "colorbar": {
             "outlinewidth": 1,
             "tickcolor": "rgb(36,36,36)",
             "ticks": "outside"
            },
            "type": "contourcarpet"
           }
          ],
          "heatmap": [
           {
            "colorbar": {
             "outlinewidth": 1,
             "tickcolor": "rgb(36,36,36)",
             "ticks": "outside"
            },
            "colorscale": [
             [
              0.0,
              "#440154"
             ],
             [
              0.1111111111111111,
              "#482878"
             ],
             [
              0.2222222222222222,
              "#3e4989"
             ],
             [
              0.3333333333333333,
              "#31688e"
             ],
             [
              0.4444444444444444,
              "#26828e"
             ],
             [
              0.5555555555555556,
              "#1f9e89"
             ],
             [
              0.6666666666666666,
              "#35b779"
             ],
             [
              0.7777777777777778,
              "#6ece58"
             ],
             [
              0.8888888888888888,
              "#b5de2b"
             ],
             [
              1.0,
              "#fde725"
             ]
            ],
            "type": "heatmap"
           }
          ],
          "heatmapgl": [
           {
            "colorbar": {
             "outlinewidth": 1,
             "tickcolor": "rgb(36,36,36)",
             "ticks": "outside"
            },
            "colorscale": [
             [
              0.0,
              "#440154"
             ],
             [
              0.1111111111111111,
              "#482878"
             ],
             [
              0.2222222222222222,
              "#3e4989"
             ],
             [
              0.3333333333333333,
              "#31688e"
             ],
             [
              0.4444444444444444,
              "#26828e"
             ],
             [
              0.5555555555555556,
              "#1f9e89"
             ],
             [
              0.6666666666666666,
              "#35b779"
             ],
             [
              0.7777777777777778,
              "#6ece58"
             ],
             [
              0.8888888888888888,
              "#b5de2b"
             ],
             [
              1.0,
              "#fde725"
             ]
            ],
            "type": "heatmapgl"
           }
          ],
          "histogram": [
           {
            "marker": {
             "line": {
              "color": "white",
              "width": 0.6
             }
            },
            "type": "histogram"
           }
          ],
          "histogram2d": [
           {
            "colorbar": {
             "outlinewidth": 1,
             "tickcolor": "rgb(36,36,36)",
             "ticks": "outside"
            },
            "colorscale": [
             [
              0.0,
              "#440154"
             ],
             [
              0.1111111111111111,
              "#482878"
             ],
             [
              0.2222222222222222,
              "#3e4989"
             ],
             [
              0.3333333333333333,
              "#31688e"
             ],
             [
              0.4444444444444444,
              "#26828e"
             ],
             [
              0.5555555555555556,
              "#1f9e89"
             ],
             [
              0.6666666666666666,
              "#35b779"
             ],
             [
              0.7777777777777778,
              "#6ece58"
             ],
             [
              0.8888888888888888,
              "#b5de2b"
             ],
             [
              1.0,
              "#fde725"
             ]
            ],
            "type": "histogram2d"
           }
          ],
          "histogram2dcontour": [
           {
            "colorbar": {
             "outlinewidth": 1,
             "tickcolor": "rgb(36,36,36)",
             "ticks": "outside"
            },
            "colorscale": [
             [
              0.0,
              "#440154"
             ],
             [
              0.1111111111111111,
              "#482878"
             ],
             [
              0.2222222222222222,
              "#3e4989"
             ],
             [
              0.3333333333333333,
              "#31688e"
             ],
             [
              0.4444444444444444,
              "#26828e"
             ],
             [
              0.5555555555555556,
              "#1f9e89"
             ],
             [
              0.6666666666666666,
              "#35b779"
             ],
             [
              0.7777777777777778,
              "#6ece58"
             ],
             [
              0.8888888888888888,
              "#b5de2b"
             ],
             [
              1.0,
              "#fde725"
             ]
            ],
            "type": "histogram2dcontour"
           }
          ],
          "mesh3d": [
           {
            "colorbar": {
             "outlinewidth": 1,
             "tickcolor": "rgb(36,36,36)",
             "ticks": "outside"
            },
            "type": "mesh3d"
           }
          ],
          "parcoords": [
           {
            "line": {
             "colorbar": {
              "outlinewidth": 1,
              "tickcolor": "rgb(36,36,36)",
              "ticks": "outside"
             }
            },
            "type": "parcoords"
           }
          ],
          "pie": [
           {
            "automargin": true,
            "type": "pie"
           }
          ],
          "scatter": [
           {
            "fillpattern": {
             "fillmode": "overlay",
             "size": 10,
             "solidity": 0.2
            },
            "type": "scatter"
           }
          ],
          "scatter3d": [
           {
            "line": {
             "colorbar": {
              "outlinewidth": 1,
              "tickcolor": "rgb(36,36,36)",
              "ticks": "outside"
             }
            },
            "marker": {
             "colorbar": {
              "outlinewidth": 1,
              "tickcolor": "rgb(36,36,36)",
              "ticks": "outside"
             }
            },
            "type": "scatter3d"
           }
          ],
          "scattercarpet": [
           {
            "marker": {
             "colorbar": {
              "outlinewidth": 1,
              "tickcolor": "rgb(36,36,36)",
              "ticks": "outside"
             }
            },
            "type": "scattercarpet"
           }
          ],
          "scattergeo": [
           {
            "marker": {
             "colorbar": {
              "outlinewidth": 1,
              "tickcolor": "rgb(36,36,36)",
              "ticks": "outside"
             }
            },
            "type": "scattergeo"
           }
          ],
          "scattergl": [
           {
            "marker": {
             "colorbar": {
              "outlinewidth": 1,
              "tickcolor": "rgb(36,36,36)",
              "ticks": "outside"
             }
            },
            "type": "scattergl"
           }
          ],
          "scattermapbox": [
           {
            "marker": {
             "colorbar": {
              "outlinewidth": 1,
              "tickcolor": "rgb(36,36,36)",
              "ticks": "outside"
             }
            },
            "type": "scattermapbox"
           }
          ],
          "scatterpolar": [
           {
            "marker": {
             "colorbar": {
              "outlinewidth": 1,
              "tickcolor": "rgb(36,36,36)",
              "ticks": "outside"
             }
            },
            "type": "scatterpolar"
           }
          ],
          "scatterpolargl": [
           {
            "marker": {
             "colorbar": {
              "outlinewidth": 1,
              "tickcolor": "rgb(36,36,36)",
              "ticks": "outside"
             }
            },
            "type": "scatterpolargl"
           }
          ],
          "scatterternary": [
           {
            "marker": {
             "colorbar": {
              "outlinewidth": 1,
              "tickcolor": "rgb(36,36,36)",
              "ticks": "outside"
             }
            },
            "type": "scatterternary"
           }
          ],
          "surface": [
           {
            "colorbar": {
             "outlinewidth": 1,
             "tickcolor": "rgb(36,36,36)",
             "ticks": "outside"
            },
            "colorscale": [
             [
              0.0,
              "#440154"
             ],
             [
              0.1111111111111111,
              "#482878"
             ],
             [
              0.2222222222222222,
              "#3e4989"
             ],
             [
              0.3333333333333333,
              "#31688e"
             ],
             [
              0.4444444444444444,
              "#26828e"
             ],
             [
              0.5555555555555556,
              "#1f9e89"
             ],
             [
              0.6666666666666666,
              "#35b779"
             ],
             [
              0.7777777777777778,
              "#6ece58"
             ],
             [
              0.8888888888888888,
              "#b5de2b"
             ],
             [
              1.0,
              "#fde725"
             ]
            ],
            "type": "surface"
           }
          ],
          "table": [
           {
            "cells": {
             "fill": {
              "color": "rgb(237,237,237)"
             },
             "line": {
              "color": "white"
             }
            },
            "header": {
             "fill": {
              "color": "rgb(217,217,217)"
             },
             "line": {
              "color": "white"
             }
            },
            "type": "table"
           }
          ]
         },
         "layout": {
          "annotationdefaults": {
           "arrowhead": 0,
           "arrowwidth": 1
          },
          "autotypenumbers": "strict",
          "coloraxis": {
           "colorbar": {
            "outlinewidth": 1,
            "tickcolor": "rgb(36,36,36)",
            "ticks": "outside"
           }
          },
          "colorscale": {
           "diverging": [
            [
             0.0,
             "rgb(103,0,31)"
            ],
            [
             0.1,
             "rgb(178,24,43)"
            ],
            [
             0.2,
             "rgb(214,96,77)"
            ],
            [
             0.3,
             "rgb(244,165,130)"
            ],
            [
             0.4,
             "rgb(253,219,199)"
            ],
            [
             0.5,
             "rgb(247,247,247)"
            ],
            [
             0.6,
             "rgb(209,229,240)"
            ],
            [
             0.7,
             "rgb(146,197,222)"
            ],
            [
             0.8,
             "rgb(67,147,195)"
            ],
            [
             0.9,
             "rgb(33,102,172)"
            ],
            [
             1.0,
             "rgb(5,48,97)"
            ]
           ],
           "sequential": [
            [
             0.0,
             "#440154"
            ],
            [
             0.1111111111111111,
             "#482878"
            ],
            [
             0.2222222222222222,
             "#3e4989"
            ],
            [
             0.3333333333333333,
             "#31688e"
            ],
            [
             0.4444444444444444,
             "#26828e"
            ],
            [
             0.5555555555555556,
             "#1f9e89"
            ],
            [
             0.6666666666666666,
             "#35b779"
            ],
            [
             0.7777777777777778,
             "#6ece58"
            ],
            [
             0.8888888888888888,
             "#b5de2b"
            ],
            [
             1.0,
             "#fde725"
            ]
           ],
           "sequentialminus": [
            [
             0.0,
             "#440154"
            ],
            [
             0.1111111111111111,
             "#482878"
            ],
            [
             0.2222222222222222,
             "#3e4989"
            ],
            [
             0.3333333333333333,
             "#31688e"
            ],
            [
             0.4444444444444444,
             "#26828e"
            ],
            [
             0.5555555555555556,
             "#1f9e89"
            ],
            [
             0.6666666666666666,
             "#35b779"
            ],
            [
             0.7777777777777778,
             "#6ece58"
            ],
            [
             0.8888888888888888,
             "#b5de2b"
            ],
            [
             1.0,
             "#fde725"
            ]
           ]
          },
          "colorway": [
           "#91268F",
           "#8CC63E",
           "#00A7A0",
           "#F05A28",
           "#4C4C4C",
           "#630460",
           "#9f3913",
           "#588527",
           "#00716c",
           "#3e4040"
          ],
          "font": {
           "color": "rgb(36,36,36)",
           "family": "Poppins",
           "size": 11
          },
          "geo": {
           "bgcolor": "white",
           "lakecolor": "white",
           "landcolor": "white",
           "showlakes": true,
           "showland": true,
           "subunitcolor": "white"
          },
          "hoverlabel": {
           "align": "left"
          },
          "hovermode": "closest",
          "mapbox": {
           "style": "light"
          },
          "paper_bgcolor": "white",
          "plot_bgcolor": "white",
          "polar": {
           "angularaxis": {
            "gridcolor": "rgb(232,232,232)",
            "linecolor": "rgb(36,36,36)",
            "showgrid": false,
            "showline": true,
            "ticks": "outside"
           },
           "bgcolor": "white",
           "radialaxis": {
            "gridcolor": "rgb(232,232,232)",
            "linecolor": "rgb(36,36,36)",
            "showgrid": false,
            "showline": true,
            "ticks": "outside"
           }
          },
          "scene": {
           "xaxis": {
            "backgroundcolor": "white",
            "gridcolor": "rgb(232,232,232)",
            "gridwidth": 2,
            "linecolor": "rgb(36,36,36)",
            "showbackground": true,
            "showgrid": false,
            "showline": true,
            "ticks": "outside",
            "zeroline": false,
            "zerolinecolor": "rgb(36,36,36)"
           },
           "yaxis": {
            "backgroundcolor": "white",
            "gridcolor": "rgb(232,232,232)",
            "gridwidth": 2,
            "linecolor": "rgb(36,36,36)",
            "showbackground": true,
            "showgrid": false,
            "showline": true,
            "ticks": "outside",
            "zeroline": false,
            "zerolinecolor": "rgb(36,36,36)"
           },
           "zaxis": {
            "backgroundcolor": "white",
            "gridcolor": "rgb(232,232,232)",
            "gridwidth": 2,
            "linecolor": "rgb(36,36,36)",
            "showbackground": true,
            "showgrid": false,
            "showline": true,
            "ticks": "outside",
            "zeroline": false,
            "zerolinecolor": "rgb(36,36,36)"
           }
          },
          "shapedefaults": {
           "fillcolor": "black",
           "line": {
            "width": 0
           },
           "opacity": 0.3
          },
          "ternary": {
           "aaxis": {
            "gridcolor": "rgb(232,232,232)",
            "linecolor": "rgb(36,36,36)",
            "showgrid": false,
            "showline": true,
            "ticks": "outside"
           },
           "baxis": {
            "gridcolor": "rgb(232,232,232)",
            "linecolor": "rgb(36,36,36)",
            "showgrid": false,
            "showline": true,
            "ticks": "outside"
           },
           "bgcolor": "white",
           "caxis": {
            "gridcolor": "rgb(232,232,232)",
            "linecolor": "rgb(36,36,36)",
            "showgrid": false,
            "showline": true,
            "ticks": "outside"
           }
          },
          "title": {
           "x": 0.05
          },
          "xaxis": {
           "automargin": true,
           "gridcolor": "rgb(232,232,232)",
           "linecolor": "rgb(36,36,36)",
           "showgrid": false,
           "showline": true,
           "ticks": "outside",
           "title": {
            "standoff": 15
           },
           "zeroline": false,
           "zerolinecolor": "rgb(36,36,36)"
          },
          "yaxis": {
           "automargin": true,
           "gridcolor": "rgb(232,232,232)",
           "linecolor": "rgb(36,36,36)",
           "showgrid": false,
           "showline": true,
           "ticks": "outside",
           "title": {
            "standoff": 15
           },
           "zeroline": false,
           "zerolinecolor": "rgb(36,36,36)"
          }
         }
        },
        "title": {
         "text": "escort trip mode choice by household size"
        },
        "width": 800,
        "xaxis": {
         "anchor": "y",
         "domain": [
          0.0,
          0.49
         ],
         "tickformat": ".1%",
         "title": {
          "text": "percentage"
         }
        },
        "xaxis2": {
         "anchor": "y2",
         "domain": [
          0.51,
          1.0
         ],
         "matches": "x",
         "tickformat": ".1%",
         "title": {
          "text": "percentage"
         }
        },
        "xaxis3": {
         "anchor": "y3",
         "domain": [
          0.0,
          0.49
         ],
         "matches": "x",
         "showticklabels": false,
         "tickformat": ".1%"
        },
        "xaxis4": {
         "anchor": "y4",
         "domain": [
          0.51,
          1.0
         ],
         "matches": "x",
         "showticklabels": false,
         "tickformat": ".1%"
        },
        "yaxis": {
         "anchor": "x",
         "categoryarray": [
          "9: other–survey only",
          "8: school bus",
          "6: transit",
          "5: hov 3+",
          "4: hov 2",
          "3: sov",
          "2: bike",
          "1: walk"
         ],
         "categoryorder": "array",
         "domain": [
          0.0,
          0.46499999999999997
         ],
         "title": {
          "text": "mode_label"
         }
        },
        "yaxis2": {
         "anchor": "x2",
         "domain": [
          0.0,
          0.46499999999999997
         ],
         "matches": "y",
         "showticklabels": false
        },
        "yaxis3": {
         "anchor": "x3",
         "categoryarray": [
          "9: other–survey only",
          "8: school bus",
          "6: transit",
          "5: hov 3+",
          "4: hov 2",
          "3: sov",
          "2: bike",
          "1: walk"
         ],
         "categoryorder": "array",
         "domain": [
          0.5349999999999999,
          0.9999999999999999
         ],
         "matches": "y",
         "title": {
          "text": "mode_label"
         }
        },
        "yaxis4": {
         "anchor": "x4",
         "domain": [
          0.5349999999999999,
          0.9999999999999999
         ],
         "matches": "y",
         "showticklabels": false
        }
       }
      },
      "text/html": [
       "<div>                            <div id=\"299ca896-f3a6-48b0-87d6-98f83aebe9a1\" class=\"plotly-graph-div\" style=\"height:600px; width:800px;\"></div>            <script type=\"text/javascript\">                require([\"plotly\"], function(Plotly) {                    window.PLOTLYENV=window.PLOTLYENV || {};                                    if (document.getElementById(\"299ca896-f3a6-48b0-87d6-98f83aebe9a1\")) {                    Plotly.newPlot(                        \"299ca896-f3a6-48b0-87d6-98f83aebe9a1\",                        [{\"alignmentgroup\":\"True\",\"customdata\":[[16925],[1318],[33542],[11619],[6293],[728],[345]],\"hovertemplate\":\"source=model\\u003cbr\\u003ehhsize_4+=1\\u003cbr\\u003epercentage=%{x}\\u003cbr\\u003emode_label=%{y}\\u003cbr\\u003esample count=%{customdata[0]}\\u003cextra\\u003e\\u003c\\u002fextra\\u003e\",\"legendgroup\":\"model\",\"marker\":{\"color\":\"#91268F\",\"pattern\":{\"shape\":\"\"}},\"name\":\"model\",\"offsetgroup\":\"model\",\"orientation\":\"h\",\"showlegend\":true,\"textposition\":\"auto\",\"x\":[0.23915500918468277,0.018623710611841177,0.47395789176204606,0.1641797371767698,0.08892185954500495,0.010286844708209694,0.004874947011445528],\"xaxis\":\"x3\",\"y\":[\"1: walk\",\"2: bike\",\"3: sov\",\"4: hov 2\",\"5: hov 3+\",\"6: transit\",\"9: tnc\"],\"yaxis\":\"y3\",\"type\":\"bar\"},{\"alignmentgroup\":\"True\",\"customdata\":[[36609],[3684],[133923],[89929],[26790],[2177],[586],[719]],\"hovertemplate\":\"source=model\\u003cbr\\u003ehhsize_4+=2\\u003cbr\\u003epercentage=%{x}\\u003cbr\\u003emode_label=%{y}\\u003cbr\\u003esample count=%{customdata[0]}\\u003cextra\\u003e\\u003c\\u002fextra\\u003e\",\"legendgroup\":\"model\",\"marker\":{\"color\":\"#91268F\",\"pattern\":{\"shape\":\"\"}},\"name\":\"model\",\"offsetgroup\":\"model\",\"orientation\":\"h\",\"showlegend\":false,\"textposition\":\"auto\",\"x\":[0.12434404263340772,0.012512864406606955,0.45487522799294877,0.30544771531535203,0.09099338693078185,0.007394274107813068,0.0019903741971421486,0.002442114415947449],\"xaxis\":\"x4\",\"y\":[\"1: walk\",\"2: bike\",\"3: sov\",\"4: hov 2\",\"5: hov 3+\",\"6: transit\",\"8: school bus\",\"9: tnc\"],\"yaxis\":\"y4\",\"type\":\"bar\"},{\"alignmentgroup\":\"True\",\"customdata\":[[32932],[3893],[113294],[96839],[75938],[1811],[2442],[316]],\"hovertemplate\":\"source=model\\u003cbr\\u003ehhsize_4+=3\\u003cbr\\u003epercentage=%{x}\\u003cbr\\u003emode_label=%{y}\\u003cbr\\u003esample count=%{customdata[0]}\\u003cextra\\u003e\\u003c\\u002fextra\\u003e\",\"legendgroup\":\"model\",\"marker\":{\"color\":\"#91268F\",\"pattern\":{\"shape\":\"\"}},\"name\":\"model\",\"offsetgroup\":\"model\",\"orientation\":\"h\",\"showlegend\":false,\"textposition\":\"auto\",\"x\":[0.10056647275281327,0.011888293405402104,0.3459728520605255,0.29572320706029653,0.23189653856137296,0.0055303620234223505,0.0074572855114287025,0.0009649886247385217],\"xaxis\":\"x\",\"y\":[\"1: walk\",\"2: bike\",\"3: sov\",\"4: hov 2\",\"5: hov 3+\",\"6: transit\",\"8: school bus\",\"9: tnc\"],\"yaxis\":\"y\",\"type\":\"bar\"},{\"alignmentgroup\":\"True\",\"customdata\":[[82456],[13168],[276346],[282369],[290088],[4478],[14536],[596]],\"hovertemplate\":\"source=model\\u003cbr\\u003ehhsize_4+=4+\\u003cbr\\u003epercentage=%{x}\\u003cbr\\u003emode_label=%{y}\\u003cbr\\u003esample count=%{customdata[0]}\\u003cextra\\u003e\\u003c\\u002fextra\\u003e\",\"legendgroup\":\"model\",\"marker\":{\"color\":\"#91268F\",\"pattern\":{\"shape\":\"\"}},\"name\":\"model\",\"offsetgroup\":\"model\",\"orientation\":\"h\",\"showlegend\":false,\"textposition\":\"auto\",\"x\":[0.08553198684282864,0.013659226772416412,0.28665497278631424,0.2929026583004594,0.3009096123903958,0.0046450499306561885,0.015078259444398919,0.0006182335325303904],\"xaxis\":\"x2\",\"y\":[\"1: walk\",\"2: bike\",\"3: sov\",\"4: hov 2\",\"5: hov 3+\",\"6: transit\",\"8: school bus\",\"9: tnc\"],\"yaxis\":\"y2\",\"type\":\"bar\"},{\"alignmentgroup\":\"True\",\"customdata\":[[15],[1],[51],[46],[9],[1]],\"hovertemplate\":\"source=survey\\u003cbr\\u003ehhsize_4+=1\\u003cbr\\u003epercentage=%{x}\\u003cbr\\u003emode_label=%{y}\\u003cbr\\u003esample count=%{customdata[0]}\\u003cextra\\u003e\\u003c\\u002fextra\\u003e\",\"legendgroup\":\"survey\",\"marker\":{\"color\":\"#8CC63E\",\"pattern\":{\"shape\":\"\"}},\"name\":\"survey\",\"offsetgroup\":\"survey\",\"orientation\":\"h\",\"showlegend\":true,\"textposition\":\"auto\",\"x\":[0.05043422764001627,0.000884507400701303,0.3857631155332661,0.4530382428080278,0.10848065445020118,0.0013992521677873297],\"xaxis\":\"x3\",\"y\":[\"1: walk\",\"2: bike\",\"3: sov\",\"4: hov 2\",\"5: hov 3+\",\"6: transit\"],\"yaxis\":\"y3\",\"type\":\"bar\"},{\"alignmentgroup\":\"True\",\"customdata\":[[18],[116],[172],[46],[1]],\"hovertemplate\":\"source=survey\\u003cbr\\u003ehhsize_4+=2\\u003cbr\\u003epercentage=%{x}\\u003cbr\\u003emode_label=%{y}\\u003cbr\\u003esample count=%{customdata[0]}\\u003cextra\\u003e\\u003c\\u002fextra\\u003e\",\"legendgroup\":\"survey\",\"marker\":{\"color\":\"#8CC63E\",\"pattern\":{\"shape\":\"\"}},\"name\":\"survey\",\"offsetgroup\":\"survey\",\"orientation\":\"h\",\"showlegend\":false,\"textposition\":\"auto\",\"x\":[0.040166297964914346,0.3335264397348104,0.4748637227627725,0.15133234076367663,0.000111198773826108],\"xaxis\":\"x4\",\"y\":[\"1: walk\",\"3: sov\",\"4: hov 2\",\"5: hov 3+\",\"6: transit\"],\"yaxis\":\"y4\",\"type\":\"bar\"},{\"alignmentgroup\":\"True\",\"customdata\":[[42],[12],[86],[108],[60],[1],[1]],\"hovertemplate\":\"source=survey\\u003cbr\\u003ehhsize_4+=3\\u003cbr\\u003epercentage=%{x}\\u003cbr\\u003emode_label=%{y}\\u003cbr\\u003esample count=%{customdata[0]}\\u003cextra\\u003e\\u003c\\u002fextra\\u003e\",\"legendgroup\":\"survey\",\"marker\":{\"color\":\"#8CC63E\",\"pattern\":{\"shape\":\"\"}},\"name\":\"survey\",\"offsetgroup\":\"survey\",\"orientation\":\"h\",\"showlegend\":false,\"textposition\":\"auto\",\"x\":[0.10336392616549804,0.004230780748142335,0.19962784926353766,0.4305496153960533,0.26063516871090425,0.000574373644678977,0.001018286071185345],\"xaxis\":\"x\",\"y\":[\"1: walk\",\"2: bike\",\"3: sov\",\"4: hov 2\",\"5: hov 3+\",\"6: transit\",\"8: school bus\"],\"yaxis\":\"y\",\"type\":\"bar\"},{\"alignmentgroup\":\"True\",\"customdata\":[[63],[11],[105],[184],[298],[2],[2]],\"hovertemplate\":\"source=survey\\u003cbr\\u003ehhsize_4+=4+\\u003cbr\\u003epercentage=%{x}\\u003cbr\\u003emode_label=%{y}\\u003cbr\\u003esample count=%{customdata[0]}\\u003cextra\\u003e\\u003c\\u002fextra\\u003e\",\"legendgroup\":\"survey\",\"marker\":{\"color\":\"#8CC63E\",\"pattern\":{\"shape\":\"\"}},\"name\":\"survey\",\"offsetgroup\":\"survey\",\"orientation\":\"h\",\"showlegend\":false,\"textposition\":\"auto\",\"x\":[0.058819838391094385,0.0020295491693990394,0.2379396671978681,0.2871086432077849,0.41380116741383105,0.00024820583131535286,5.2928788707291994e-05],\"xaxis\":\"x2\",\"y\":[\"1: walk\",\"2: bike\",\"3: sov\",\"4: hov 2\",\"5: hov 3+\",\"6: transit\",\"8: school bus\"],\"yaxis\":\"y2\",\"type\":\"bar\"}],                        {\"template\":{\"data\":{\"barpolar\":[{\"marker\":{\"line\":{\"color\":\"white\",\"width\":0.5},\"pattern\":{\"fillmode\":\"overlay\",\"size\":10,\"solidity\":0.2}},\"type\":\"barpolar\"}],\"bar\":[{\"error_x\":{\"color\":\"rgb(36,36,36)\"},\"error_y\":{\"color\":\"rgb(36,36,36)\"},\"marker\":{\"line\":{\"color\":\"white\",\"width\":0.5},\"pattern\":{\"fillmode\":\"overlay\",\"size\":10,\"solidity\":0.2}},\"type\":\"bar\"}],\"carpet\":[{\"aaxis\":{\"endlinecolor\":\"rgb(36,36,36)\",\"gridcolor\":\"white\",\"linecolor\":\"white\",\"minorgridcolor\":\"white\",\"startlinecolor\":\"rgb(36,36,36)\"},\"baxis\":{\"endlinecolor\":\"rgb(36,36,36)\",\"gridcolor\":\"white\",\"linecolor\":\"white\",\"minorgridcolor\":\"white\",\"startlinecolor\":\"rgb(36,36,36)\"},\"type\":\"carpet\"}],\"choropleth\":[{\"colorbar\":{\"outlinewidth\":1,\"tickcolor\":\"rgb(36,36,36)\",\"ticks\":\"outside\"},\"type\":\"choropleth\"}],\"contourcarpet\":[{\"colorbar\":{\"outlinewidth\":1,\"tickcolor\":\"rgb(36,36,36)\",\"ticks\":\"outside\"},\"type\":\"contourcarpet\"}],\"contour\":[{\"colorbar\":{\"outlinewidth\":1,\"tickcolor\":\"rgb(36,36,36)\",\"ticks\":\"outside\"},\"colorscale\":[[0.0,\"#440154\"],[0.1111111111111111,\"#482878\"],[0.2222222222222222,\"#3e4989\"],[0.3333333333333333,\"#31688e\"],[0.4444444444444444,\"#26828e\"],[0.5555555555555556,\"#1f9e89\"],[0.6666666666666666,\"#35b779\"],[0.7777777777777778,\"#6ece58\"],[0.8888888888888888,\"#b5de2b\"],[1.0,\"#fde725\"]],\"type\":\"contour\"}],\"heatmapgl\":[{\"colorbar\":{\"outlinewidth\":1,\"tickcolor\":\"rgb(36,36,36)\",\"ticks\":\"outside\"},\"colorscale\":[[0.0,\"#440154\"],[0.1111111111111111,\"#482878\"],[0.2222222222222222,\"#3e4989\"],[0.3333333333333333,\"#31688e\"],[0.4444444444444444,\"#26828e\"],[0.5555555555555556,\"#1f9e89\"],[0.6666666666666666,\"#35b779\"],[0.7777777777777778,\"#6ece58\"],[0.8888888888888888,\"#b5de2b\"],[1.0,\"#fde725\"]],\"type\":\"heatmapgl\"}],\"heatmap\":[{\"colorbar\":{\"outlinewidth\":1,\"tickcolor\":\"rgb(36,36,36)\",\"ticks\":\"outside\"},\"colorscale\":[[0.0,\"#440154\"],[0.1111111111111111,\"#482878\"],[0.2222222222222222,\"#3e4989\"],[0.3333333333333333,\"#31688e\"],[0.4444444444444444,\"#26828e\"],[0.5555555555555556,\"#1f9e89\"],[0.6666666666666666,\"#35b779\"],[0.7777777777777778,\"#6ece58\"],[0.8888888888888888,\"#b5de2b\"],[1.0,\"#fde725\"]],\"type\":\"heatmap\"}],\"histogram2dcontour\":[{\"colorbar\":{\"outlinewidth\":1,\"tickcolor\":\"rgb(36,36,36)\",\"ticks\":\"outside\"},\"colorscale\":[[0.0,\"#440154\"],[0.1111111111111111,\"#482878\"],[0.2222222222222222,\"#3e4989\"],[0.3333333333333333,\"#31688e\"],[0.4444444444444444,\"#26828e\"],[0.5555555555555556,\"#1f9e89\"],[0.6666666666666666,\"#35b779\"],[0.7777777777777778,\"#6ece58\"],[0.8888888888888888,\"#b5de2b\"],[1.0,\"#fde725\"]],\"type\":\"histogram2dcontour\"}],\"histogram2d\":[{\"colorbar\":{\"outlinewidth\":1,\"tickcolor\":\"rgb(36,36,36)\",\"ticks\":\"outside\"},\"colorscale\":[[0.0,\"#440154\"],[0.1111111111111111,\"#482878\"],[0.2222222222222222,\"#3e4989\"],[0.3333333333333333,\"#31688e\"],[0.4444444444444444,\"#26828e\"],[0.5555555555555556,\"#1f9e89\"],[0.6666666666666666,\"#35b779\"],[0.7777777777777778,\"#6ece58\"],[0.8888888888888888,\"#b5de2b\"],[1.0,\"#fde725\"]],\"type\":\"histogram2d\"}],\"histogram\":[{\"marker\":{\"line\":{\"color\":\"white\",\"width\":0.6}},\"type\":\"histogram\"}],\"mesh3d\":[{\"colorbar\":{\"outlinewidth\":1,\"tickcolor\":\"rgb(36,36,36)\",\"ticks\":\"outside\"},\"type\":\"mesh3d\"}],\"parcoords\":[{\"line\":{\"colorbar\":{\"outlinewidth\":1,\"tickcolor\":\"rgb(36,36,36)\",\"ticks\":\"outside\"}},\"type\":\"parcoords\"}],\"pie\":[{\"automargin\":true,\"type\":\"pie\"}],\"scatter3d\":[{\"line\":{\"colorbar\":{\"outlinewidth\":1,\"tickcolor\":\"rgb(36,36,36)\",\"ticks\":\"outside\"}},\"marker\":{\"colorbar\":{\"outlinewidth\":1,\"tickcolor\":\"rgb(36,36,36)\",\"ticks\":\"outside\"}},\"type\":\"scatter3d\"}],\"scattercarpet\":[{\"marker\":{\"colorbar\":{\"outlinewidth\":1,\"tickcolor\":\"rgb(36,36,36)\",\"ticks\":\"outside\"}},\"type\":\"scattercarpet\"}],\"scattergeo\":[{\"marker\":{\"colorbar\":{\"outlinewidth\":1,\"tickcolor\":\"rgb(36,36,36)\",\"ticks\":\"outside\"}},\"type\":\"scattergeo\"}],\"scattergl\":[{\"marker\":{\"colorbar\":{\"outlinewidth\":1,\"tickcolor\":\"rgb(36,36,36)\",\"ticks\":\"outside\"}},\"type\":\"scattergl\"}],\"scattermapbox\":[{\"marker\":{\"colorbar\":{\"outlinewidth\":1,\"tickcolor\":\"rgb(36,36,36)\",\"ticks\":\"outside\"}},\"type\":\"scattermapbox\"}],\"scatterpolargl\":[{\"marker\":{\"colorbar\":{\"outlinewidth\":1,\"tickcolor\":\"rgb(36,36,36)\",\"ticks\":\"outside\"}},\"type\":\"scatterpolargl\"}],\"scatterpolar\":[{\"marker\":{\"colorbar\":{\"outlinewidth\":1,\"tickcolor\":\"rgb(36,36,36)\",\"ticks\":\"outside\"}},\"type\":\"scatterpolar\"}],\"scatter\":[{\"fillpattern\":{\"fillmode\":\"overlay\",\"size\":10,\"solidity\":0.2},\"type\":\"scatter\"}],\"scatterternary\":[{\"marker\":{\"colorbar\":{\"outlinewidth\":1,\"tickcolor\":\"rgb(36,36,36)\",\"ticks\":\"outside\"}},\"type\":\"scatterternary\"}],\"surface\":[{\"colorbar\":{\"outlinewidth\":1,\"tickcolor\":\"rgb(36,36,36)\",\"ticks\":\"outside\"},\"colorscale\":[[0.0,\"#440154\"],[0.1111111111111111,\"#482878\"],[0.2222222222222222,\"#3e4989\"],[0.3333333333333333,\"#31688e\"],[0.4444444444444444,\"#26828e\"],[0.5555555555555556,\"#1f9e89\"],[0.6666666666666666,\"#35b779\"],[0.7777777777777778,\"#6ece58\"],[0.8888888888888888,\"#b5de2b\"],[1.0,\"#fde725\"]],\"type\":\"surface\"}],\"table\":[{\"cells\":{\"fill\":{\"color\":\"rgb(237,237,237)\"},\"line\":{\"color\":\"white\"}},\"header\":{\"fill\":{\"color\":\"rgb(217,217,217)\"},\"line\":{\"color\":\"white\"}},\"type\":\"table\"}]},\"layout\":{\"annotationdefaults\":{\"arrowhead\":0,\"arrowwidth\":1},\"autotypenumbers\":\"strict\",\"coloraxis\":{\"colorbar\":{\"outlinewidth\":1,\"tickcolor\":\"rgb(36,36,36)\",\"ticks\":\"outside\"}},\"colorscale\":{\"diverging\":[[0.0,\"rgb(103,0,31)\"],[0.1,\"rgb(178,24,43)\"],[0.2,\"rgb(214,96,77)\"],[0.3,\"rgb(244,165,130)\"],[0.4,\"rgb(253,219,199)\"],[0.5,\"rgb(247,247,247)\"],[0.6,\"rgb(209,229,240)\"],[0.7,\"rgb(146,197,222)\"],[0.8,\"rgb(67,147,195)\"],[0.9,\"rgb(33,102,172)\"],[1.0,\"rgb(5,48,97)\"]],\"sequential\":[[0.0,\"#440154\"],[0.1111111111111111,\"#482878\"],[0.2222222222222222,\"#3e4989\"],[0.3333333333333333,\"#31688e\"],[0.4444444444444444,\"#26828e\"],[0.5555555555555556,\"#1f9e89\"],[0.6666666666666666,\"#35b779\"],[0.7777777777777778,\"#6ece58\"],[0.8888888888888888,\"#b5de2b\"],[1.0,\"#fde725\"]],\"sequentialminus\":[[0.0,\"#440154\"],[0.1111111111111111,\"#482878\"],[0.2222222222222222,\"#3e4989\"],[0.3333333333333333,\"#31688e\"],[0.4444444444444444,\"#26828e\"],[0.5555555555555556,\"#1f9e89\"],[0.6666666666666666,\"#35b779\"],[0.7777777777777778,\"#6ece58\"],[0.8888888888888888,\"#b5de2b\"],[1.0,\"#fde725\"]]},\"colorway\":[\"#91268F\",\"#8CC63E\",\"#00A7A0\",\"#F05A28\",\"#4C4C4C\",\"#630460\",\"#9f3913\",\"#588527\",\"#00716c\",\"#3e4040\"],\"font\":{\"color\":\"rgb(36,36,36)\",\"family\":\"Poppins\",\"size\":11},\"geo\":{\"bgcolor\":\"white\",\"lakecolor\":\"white\",\"landcolor\":\"white\",\"showlakes\":true,\"showland\":true,\"subunitcolor\":\"white\"},\"hoverlabel\":{\"align\":\"left\"},\"hovermode\":\"closest\",\"mapbox\":{\"style\":\"light\"},\"paper_bgcolor\":\"white\",\"plot_bgcolor\":\"white\",\"polar\":{\"angularaxis\":{\"gridcolor\":\"rgb(232,232,232)\",\"linecolor\":\"rgb(36,36,36)\",\"showgrid\":false,\"showline\":true,\"ticks\":\"outside\"},\"bgcolor\":\"white\",\"radialaxis\":{\"gridcolor\":\"rgb(232,232,232)\",\"linecolor\":\"rgb(36,36,36)\",\"showgrid\":false,\"showline\":true,\"ticks\":\"outside\"}},\"scene\":{\"xaxis\":{\"backgroundcolor\":\"white\",\"gridcolor\":\"rgb(232,232,232)\",\"gridwidth\":2,\"linecolor\":\"rgb(36,36,36)\",\"showbackground\":true,\"showgrid\":false,\"showline\":true,\"ticks\":\"outside\",\"zeroline\":false,\"zerolinecolor\":\"rgb(36,36,36)\"},\"yaxis\":{\"backgroundcolor\":\"white\",\"gridcolor\":\"rgb(232,232,232)\",\"gridwidth\":2,\"linecolor\":\"rgb(36,36,36)\",\"showbackground\":true,\"showgrid\":false,\"showline\":true,\"ticks\":\"outside\",\"zeroline\":false,\"zerolinecolor\":\"rgb(36,36,36)\"},\"zaxis\":{\"backgroundcolor\":\"white\",\"gridcolor\":\"rgb(232,232,232)\",\"gridwidth\":2,\"linecolor\":\"rgb(36,36,36)\",\"showbackground\":true,\"showgrid\":false,\"showline\":true,\"ticks\":\"outside\",\"zeroline\":false,\"zerolinecolor\":\"rgb(36,36,36)\"}},\"shapedefaults\":{\"fillcolor\":\"black\",\"line\":{\"width\":0},\"opacity\":0.3},\"ternary\":{\"aaxis\":{\"gridcolor\":\"rgb(232,232,232)\",\"linecolor\":\"rgb(36,36,36)\",\"showgrid\":false,\"showline\":true,\"ticks\":\"outside\"},\"baxis\":{\"gridcolor\":\"rgb(232,232,232)\",\"linecolor\":\"rgb(36,36,36)\",\"showgrid\":false,\"showline\":true,\"ticks\":\"outside\"},\"bgcolor\":\"white\",\"caxis\":{\"gridcolor\":\"rgb(232,232,232)\",\"linecolor\":\"rgb(36,36,36)\",\"showgrid\":false,\"showline\":true,\"ticks\":\"outside\"}},\"title\":{\"x\":0.05},\"xaxis\":{\"automargin\":true,\"gridcolor\":\"rgb(232,232,232)\",\"linecolor\":\"rgb(36,36,36)\",\"showgrid\":false,\"showline\":true,\"ticks\":\"outside\",\"title\":{\"standoff\":15},\"zeroline\":false,\"zerolinecolor\":\"rgb(36,36,36)\"},\"yaxis\":{\"automargin\":true,\"gridcolor\":\"rgb(232,232,232)\",\"linecolor\":\"rgb(36,36,36)\",\"showgrid\":false,\"showline\":true,\"ticks\":\"outside\",\"title\":{\"standoff\":15},\"zeroline\":false,\"zerolinecolor\":\"rgb(36,36,36)\"}}},\"xaxis\":{\"anchor\":\"y\",\"domain\":[0.0,0.49],\"title\":{\"text\":\"percentage\"},\"tickformat\":\".1%\"},\"yaxis\":{\"anchor\":\"x\",\"domain\":[0.0,0.46499999999999997],\"title\":{\"text\":\"mode_label\"},\"categoryorder\":\"array\",\"categoryarray\":[\"9: other\\u00e2\\u20ac\\u201csurvey only\",\"8: school bus\",\"6: transit\",\"5: hov 3+\",\"4: hov 2\",\"3: sov\",\"2: bike\",\"1: walk\"]},\"xaxis2\":{\"anchor\":\"y2\",\"domain\":[0.51,1.0],\"matches\":\"x\",\"title\":{\"text\":\"percentage\"},\"tickformat\":\".1%\"},\"yaxis2\":{\"anchor\":\"x2\",\"domain\":[0.0,0.46499999999999997],\"matches\":\"y\",\"showticklabels\":false},\"xaxis3\":{\"anchor\":\"y3\",\"domain\":[0.0,0.49],\"matches\":\"x\",\"showticklabels\":false,\"tickformat\":\".1%\"},\"yaxis3\":{\"anchor\":\"x3\",\"domain\":[0.5349999999999999,0.9999999999999999],\"matches\":\"y\",\"title\":{\"text\":\"mode_label\"},\"categoryorder\":\"array\",\"categoryarray\":[\"9: other\\u00e2\\u20ac\\u201csurvey only\",\"8: school bus\",\"6: transit\",\"5: hov 3+\",\"4: hov 2\",\"3: sov\",\"2: bike\",\"1: walk\"]},\"xaxis4\":{\"anchor\":\"y4\",\"domain\":[0.51,1.0],\"matches\":\"x\",\"showticklabels\":false,\"tickformat\":\".1%\"},\"yaxis4\":{\"anchor\":\"x4\",\"domain\":[0.5349999999999999,0.9999999999999999],\"matches\":\"y\",\"showticklabels\":false},\"annotations\":[{\"font\":{},\"showarrow\":false,\"text\":\"3\",\"x\":0.245,\"xanchor\":\"center\",\"xref\":\"paper\",\"y\":0.46499999999999997,\"yanchor\":\"bottom\",\"yref\":\"paper\"},{\"font\":{},\"showarrow\":false,\"text\":\"4+\",\"x\":0.755,\"xanchor\":\"center\",\"xref\":\"paper\",\"y\":0.46499999999999997,\"yanchor\":\"bottom\",\"yref\":\"paper\"},{\"font\":{},\"showarrow\":false,\"text\":\"1\",\"x\":0.245,\"xanchor\":\"center\",\"xref\":\"paper\",\"y\":0.9999999999999999,\"yanchor\":\"bottom\",\"yref\":\"paper\"},{\"font\":{},\"showarrow\":false,\"text\":\"2\",\"x\":0.755,\"xanchor\":\"center\",\"xref\":\"paper\",\"y\":0.9999999999999999,\"yanchor\":\"bottom\",\"yref\":\"paper\"}],\"legend\":{\"title\":{\"text\":\"source\"},\"tracegroupgap\":0},\"title\":{\"text\":\"escort trip mode choice by household size\"},\"barmode\":\"group\",\"height\":600,\"width\":800},                        {\"responsive\": true}                    ).then(function(){\n",
       "                            \n",
       "var gd = document.getElementById('299ca896-f3a6-48b0-87d6-98f83aebe9a1');\n",
       "var x = new MutationObserver(function (mutations, observer) {{\n",
       "        var display = window.getComputedStyle(gd).display;\n",
       "        if (!display || display === 'none') {{\n",
       "            console.log([gd, 'removed!']);\n",
       "            Plotly.purge(gd);\n",
       "            observer.disconnect();\n",
       "        }}\n",
       "}});\n",
       "\n",
       "// Listen for the removal of the full notebook cells\n",
       "var notebookContainer = gd.closest('#notebook-container');\n",
       "if (notebookContainer) {{\n",
       "    x.observe(notebookContainer, {childList: true});\n",
       "}}\n",
       "\n",
       "// Listen for the clearing of the current output cell\n",
       "var outputEl = gd.closest('.output');\n",
       "if (outputEl) {{\n",
       "    x.observe(outputEl, {childList: true});\n",
       "}}\n",
       "\n",
       "                        })                };                });            </script>        </div>"
      ]
     },
     "metadata": {},
     "output_type": "display_data"
    }
   ],
   "source": [
    "plot_mode_choice(es_trip,\"hhsize_4+\",\n",
    "                 {\"hhsize_4+\":[\"1\",\"2\",\"3\",\"4+\"],\n",
    "                  \"mode_label\":[\"1: walk\",\"2: bike\",\"3: sov\",\"4: hov 2\",\"5: hov 3+\",\"6: transit\",\n",
    "                                   \"8: school bus\",\"9: other–survey only\"]},\n",
    "                 \"household size\",2,600)"
   ]
  },
  {
   "cell_type": "raw",
   "metadata": {},
   "source": [
    "### auto ownership"
   ]
  },
  {
   "cell_type": "code",
   "execution_count": 9,
   "metadata": {
    "execution": {
     "iopub.execute_input": "2025-01-21T06:22:02.305025Z",
     "iopub.status.busy": "2025-01-21T06:22:02.304029Z",
     "iopub.status.idle": "2025-01-21T06:22:03.629382Z",
     "shell.execute_reply": "2025-01-21T06:22:03.627387Z"
    }
   },
   "outputs": [
    {
     "data": {
      "application/vnd.plotly.v1+json": {
       "config": {
        "plotlyServerURL": "https://plot.ly"
       },
       "data": [
        {
         "alignmentgroup": "True",
         "customdata": [
          [
           28988
          ],
          [
           3299
          ],
          [
           2319
          ],
          [
           3180
          ],
          [
           1191
          ],
          [
           17
          ],
          [
           689
          ]
         ],
         "hovertemplate": "source=model<br>auto_ownership_4+=0<br>percentage=%{x}<br>mode_label=%{y}<br>sample count=%{customdata[0]}<extra></extra>",
         "legendgroup": "model",
         "marker": {
          "color": "#91268F",
          "pattern": {
           "shape": ""
          }
         },
         "name": "model",
         "offsetgroup": "model",
         "orientation": "h",
         "showlegend": true,
         "textposition": "auto",
         "type": "bar",
         "x": [
          0.7304891263261346,
          0.08313383564750648,
          0.05843812211778343,
          0.08013507043318298,
          0.03001285185091853,
          0.00042839503061764485,
          0.01736259859385631
         ],
         "xaxis": "x5",
         "y": [
          "1: walk",
          "2: bike",
          "4: hov 2",
          "5: hov 3+",
          "6: transit",
          "8: school bus",
          "9: tnc"
         ],
         "yaxis": "y5"
        },
        {
         "alignmentgroup": "True",
         "customdata": [
          [
           37839
          ],
          [
           4951
          ],
          [
           96330
          ],
          [
           102120
          ],
          [
           65842
          ],
          [
           2083
          ],
          [
           4127
          ],
          [
           280
          ]
         ],
         "hovertemplate": "source=model<br>auto_ownership_4+=1<br>percentage=%{x}<br>mode_label=%{y}<br>sample count=%{customdata[0]}<extra></extra>",
         "legendgroup": "model",
         "marker": {
          "color": "#91268F",
          "pattern": {
           "shape": ""
          }
         },
         "name": "model",
         "offsetgroup": "model",
         "orientation": "h",
         "showlegend": false,
         "textposition": "auto",
         "type": "bar",
         "x": [
          0.12067085071371168,
          0.015789037286492415,
          0.30720217366346486,
          0.32566683249779954,
          0.20997410483078846,
          0.006642812496013675,
          0.013161251642366027,
          0.000892936869363336
         ],
         "xaxis": "x6",
         "y": [
          "1: walk",
          "2: bike",
          "3: sov",
          "4: hov 2",
          "5: hov 3+",
          "6: transit",
          "8: school bus",
          "9: tnc"
         ],
         "yaxis": "y6"
        },
        {
         "alignmentgroup": "True",
         "customdata": [
          [
           60295
          ],
          [
           7867
          ],
          [
           248819
          ],
          [
           211139
          ],
          [
           182665
          ],
          [
           3509
          ],
          [
           8014
          ],
          [
           616
          ]
         ],
         "hovertemplate": "source=model<br>auto_ownership_4+=2<br>percentage=%{x}<br>mode_label=%{y}<br>sample count=%{customdata[0]}<extra></extra>",
         "legendgroup": "model",
         "marker": {
          "color": "#91268F",
          "pattern": {
           "shape": ""
          }
         },
         "name": "model",
         "offsetgroup": "model",
         "orientation": "h",
         "showlegend": false,
         "textposition": "auto",
         "type": "bar",
         "x": [
          0.08340434125855553,
          0.01088219508551383,
          0.34418417427004777,
          0.29206251279525924,
          0.25267524663726754,
          0.004853898888403207,
          0.011085535962286492,
          0.0008520951026663937
         ],
         "xaxis": "x3",
         "y": [
          "1: walk",
          "2: bike",
          "3: sov",
          "4: hov 2",
          "5: hov 3+",
          "6: transit",
          "8: school bus",
          "9: tnc"
         ],
         "yaxis": "y3"
        },
        {
         "alignmentgroup": "True",
         "customdata": [
          [
           26112
          ],
          [
           3785
          ],
          [
           126724
          ],
          [
           103881
          ],
          [
           94303
          ],
          [
           1482
          ],
          [
           3682
          ],
          [
           243
          ]
         ],
         "hovertemplate": "source=model<br>auto_ownership_4+=3<br>percentage=%{x}<br>mode_label=%{y}<br>sample count=%{customdata[0]}<extra></extra>",
         "legendgroup": "model",
         "marker": {
          "color": "#91268F",
          "pattern": {
           "shape": ""
          }
         },
         "name": "model",
         "offsetgroup": "model",
         "orientation": "h",
         "showlegend": false,
         "textposition": "auto",
         "type": "bar",
         "x": [
          0.07249064439829878,
          0.010507701020510143,
          0.3518039376811433,
          0.2883885045473221,
          0.26179860748670225,
          0.004114243834186535,
          0.010221758297891242,
          0.0006746027339455654
         ],
         "xaxis": "x4",
         "y": [
          "1: walk",
          "2: bike",
          "3: sov",
          "4: hov 2",
          "5: hov 3+",
          "6: transit",
          "8: school bus",
          "9: tnc"
         ],
         "yaxis": "y4"
        },
        {
         "alignmentgroup": "True",
         "customdata": [
          [
           15688
          ],
          [
           2161
          ],
          [
           85232
          ],
          [
           61297
          ],
          [
           53119
          ],
          [
           929
          ],
          [
           1724
          ],
          [
           148
          ]
         ],
         "hovertemplate": "source=model<br>auto_ownership_4+=4+<br>percentage=%{x}<br>mode_label=%{y}<br>sample count=%{customdata[0]}<extra></extra>",
         "legendgroup": "model",
         "marker": {
          "color": "#91268F",
          "pattern": {
           "shape": ""
          }
         },
         "name": "model",
         "offsetgroup": "model",
         "orientation": "h",
         "showlegend": false,
         "textposition": "auto",
         "type": "bar",
         "x": [
          0.07121263016459523,
          0.009809439940444307,
          0.38689411615175806,
          0.27824583064757735,
          0.24112338741159703,
          0.004217015134045702,
          0.007825763284278569,
          0.0006718172657037286
         ],
         "xaxis": "x",
         "y": [
          "1: walk",
          "2: bike",
          "3: sov",
          "4: hov 2",
          "5: hov 3+",
          "6: transit",
          "8: school bus",
          "9: tnc"
         ],
         "yaxis": "y"
        },
        {
         "alignmentgroup": "True",
         "customdata": [
          [
           13
          ],
          [
           2
          ],
          [
           2
          ],
          [
           1
          ],
          [
           1
          ]
         ],
         "hovertemplate": "source=survey<br>auto_ownership_4+=0<br>percentage=%{x}<br>mode_label=%{y}<br>sample count=%{customdata[0]}<extra></extra>",
         "legendgroup": "survey",
         "marker": {
          "color": "#8CC63E",
          "pattern": {
           "shape": ""
          }
         },
         "name": "survey",
         "offsetgroup": "survey",
         "orientation": "h",
         "showlegend": true,
         "textposition": "auto",
         "type": "bar",
         "x": [
          0.7714049158487708,
          0.07031100961299085,
          0.11154217368756165,
          0.0257629106390028,
          0.020978990211673848
         ],
         "xaxis": "x5",
         "y": [
          "1: walk",
          "3: sov",
          "4: hov 2",
          "5: hov 3+",
          "6: transit"
         ],
         "yaxis": "y5"
        },
        {
         "alignmentgroup": "True",
         "customdata": [
          [
           78
          ],
          [
           18
          ],
          [
           131
          ],
          [
           176
          ],
          [
           112
          ],
          [
           2
          ],
          [
           3
          ]
         ],
         "hovertemplate": "source=survey<br>auto_ownership_4+=1<br>percentage=%{x}<br>mode_label=%{y}<br>sample count=%{customdata[0]}<extra></extra>",
         "legendgroup": "survey",
         "marker": {
          "color": "#8CC63E",
          "pattern": {
           "shape": ""
          }
         },
         "name": "survey",
         "offsetgroup": "survey",
         "orientation": "h",
         "showlegend": false,
         "textposition": "auto",
         "type": "bar",
         "x": [
          0.13682269185396592,
          0.01169101041828957,
          0.21135598059320834,
          0.4634468494933967,
          0.17479834452126594,
          0.0006906756438424865,
          0.0011944474760309154
         ],
         "xaxis": "x6",
         "y": [
          "1: walk",
          "2: bike",
          "3: sov",
          "4: hov 2",
          "5: hov 3+",
          "6: transit",
          "8: school bus"
         ],
         "yaxis": "y6"
        },
        {
         "alignmentgroup": "True",
         "customdata": [
          [
           40
          ],
          [
           6
          ],
          [
           161
          ],
          [
           271
          ],
          [
           238
          ],
          [
           2
          ]
         ],
         "hovertemplate": "source=survey<br>auto_ownership_4+=2<br>percentage=%{x}<br>mode_label=%{y}<br>sample count=%{customdata[0]}<extra></extra>",
         "legendgroup": "survey",
         "marker": {
          "color": "#8CC63E",
          "pattern": {
           "shape": ""
          }
         },
         "name": "survey",
         "offsetgroup": "survey",
         "orientation": "h",
         "showlegend": false,
         "textposition": "auto",
         "type": "bar",
         "x": [
          0.050470269649698175,
          0.0006016858440214216,
          0.26990402177343553,
          0.3324195846702738,
          0.3463137294776299,
          0.00029070858494117285
         ],
         "xaxis": "x3",
         "y": [
          "1: walk",
          "2: bike",
          "3: sov",
          "4: hov 2",
          "5: hov 3+",
          "6: transit"
         ],
         "yaxis": "y3"
        },
        {
         "alignmentgroup": "True",
         "customdata": [
          [
           5
          ],
          [
           53
          ],
          [
           44
          ],
          [
           46
          ]
         ],
         "hovertemplate": "source=survey<br>auto_ownership_4+=3<br>percentage=%{x}<br>mode_label=%{y}<br>sample count=%{customdata[0]}<extra></extra>",
         "legendgroup": "survey",
         "marker": {
          "color": "#8CC63E",
          "pattern": {
           "shape": ""
          }
         },
         "name": "survey",
         "offsetgroup": "survey",
         "orientation": "h",
         "showlegend": false,
         "textposition": "auto",
         "type": "bar",
         "x": [
          0.01894968636443262,
          0.29566934151979607,
          0.32636163505221955,
          0.35901933706355177
         ],
         "xaxis": "x4",
         "y": [
          "1: walk",
          "3: sov",
          "4: hov 2",
          "5: hov 3+"
         ],
         "yaxis": "y4"
        },
        {
         "alignmentgroup": "True",
         "customdata": [
          [
           2
          ],
          [
           11
          ],
          [
           17
          ],
          [
           16
          ]
         ],
         "hovertemplate": "source=survey<br>auto_ownership_4+=4+<br>percentage=%{x}<br>mode_label=%{y}<br>sample count=%{customdata[0]}<extra></extra>",
         "legendgroup": "survey",
         "marker": {
          "color": "#8CC63E",
          "pattern": {
           "shape": ""
          }
         },
         "name": "survey",
         "offsetgroup": "survey",
         "orientation": "h",
         "showlegend": false,
         "textposition": "auto",
         "type": "bar",
         "x": [
          0.07857994968136824,
          0.18223827617616756,
          0.32325786671702583,
          0.41592390742543844
         ],
         "xaxis": "x",
         "y": [
          "1: walk",
          "3: sov",
          "4: hov 2",
          "5: hov 3+"
         ],
         "yaxis": "y"
        }
       ],
       "layout": {
        "annotations": [
         {
          "font": {},
          "showarrow": false,
          "text": "4+",
          "x": 0.245,
          "xanchor": "center",
          "xref": "paper",
          "y": 0.2866666666666666,
          "yanchor": "bottom",
          "yref": "paper"
         },
         {
          "font": {},
          "showarrow": false,
          "text": "2",
          "x": 0.245,
          "xanchor": "center",
          "xref": "paper",
          "y": 0.6433333333333333,
          "yanchor": "bottom",
          "yref": "paper"
         },
         {
          "font": {},
          "showarrow": false,
          "text": "3",
          "x": 0.755,
          "xanchor": "center",
          "xref": "paper",
          "y": 0.6433333333333333,
          "yanchor": "bottom",
          "yref": "paper"
         },
         {
          "font": {},
          "showarrow": false,
          "text": "0",
          "x": 0.245,
          "xanchor": "center",
          "xref": "paper",
          "y": 0.9999999999999999,
          "yanchor": "bottom",
          "yref": "paper"
         },
         {
          "font": {},
          "showarrow": false,
          "text": "1",
          "x": 0.755,
          "xanchor": "center",
          "xref": "paper",
          "y": 0.9999999999999999,
          "yanchor": "bottom",
          "yref": "paper"
         }
        ],
        "barmode": "group",
        "height": 800,
        "legend": {
         "title": {
          "text": "source"
         },
         "tracegroupgap": 0
        },
        "template": {
         "data": {
          "bar": [
           {
            "error_x": {
             "color": "rgb(36,36,36)"
            },
            "error_y": {
             "color": "rgb(36,36,36)"
            },
            "marker": {
             "line": {
              "color": "white",
              "width": 0.5
             },
             "pattern": {
              "fillmode": "overlay",
              "size": 10,
              "solidity": 0.2
             }
            },
            "type": "bar"
           }
          ],
          "barpolar": [
           {
            "marker": {
             "line": {
              "color": "white",
              "width": 0.5
             },
             "pattern": {
              "fillmode": "overlay",
              "size": 10,
              "solidity": 0.2
             }
            },
            "type": "barpolar"
           }
          ],
          "carpet": [
           {
            "aaxis": {
             "endlinecolor": "rgb(36,36,36)",
             "gridcolor": "white",
             "linecolor": "white",
             "minorgridcolor": "white",
             "startlinecolor": "rgb(36,36,36)"
            },
            "baxis": {
             "endlinecolor": "rgb(36,36,36)",
             "gridcolor": "white",
             "linecolor": "white",
             "minorgridcolor": "white",
             "startlinecolor": "rgb(36,36,36)"
            },
            "type": "carpet"
           }
          ],
          "choropleth": [
           {
            "colorbar": {
             "outlinewidth": 1,
             "tickcolor": "rgb(36,36,36)",
             "ticks": "outside"
            },
            "type": "choropleth"
           }
          ],
          "contour": [
           {
            "colorbar": {
             "outlinewidth": 1,
             "tickcolor": "rgb(36,36,36)",
             "ticks": "outside"
            },
            "colorscale": [
             [
              0.0,
              "#440154"
             ],
             [
              0.1111111111111111,
              "#482878"
             ],
             [
              0.2222222222222222,
              "#3e4989"
             ],
             [
              0.3333333333333333,
              "#31688e"
             ],
             [
              0.4444444444444444,
              "#26828e"
             ],
             [
              0.5555555555555556,
              "#1f9e89"
             ],
             [
              0.6666666666666666,
              "#35b779"
             ],
             [
              0.7777777777777778,
              "#6ece58"
             ],
             [
              0.8888888888888888,
              "#b5de2b"
             ],
             [
              1.0,
              "#fde725"
             ]
            ],
            "type": "contour"
           }
          ],
          "contourcarpet": [
           {
            "colorbar": {
             "outlinewidth": 1,
             "tickcolor": "rgb(36,36,36)",
             "ticks": "outside"
            },
            "type": "contourcarpet"
           }
          ],
          "heatmap": [
           {
            "colorbar": {
             "outlinewidth": 1,
             "tickcolor": "rgb(36,36,36)",
             "ticks": "outside"
            },
            "colorscale": [
             [
              0.0,
              "#440154"
             ],
             [
              0.1111111111111111,
              "#482878"
             ],
             [
              0.2222222222222222,
              "#3e4989"
             ],
             [
              0.3333333333333333,
              "#31688e"
             ],
             [
              0.4444444444444444,
              "#26828e"
             ],
             [
              0.5555555555555556,
              "#1f9e89"
             ],
             [
              0.6666666666666666,
              "#35b779"
             ],
             [
              0.7777777777777778,
              "#6ece58"
             ],
             [
              0.8888888888888888,
              "#b5de2b"
             ],
             [
              1.0,
              "#fde725"
             ]
            ],
            "type": "heatmap"
           }
          ],
          "heatmapgl": [
           {
            "colorbar": {
             "outlinewidth": 1,
             "tickcolor": "rgb(36,36,36)",
             "ticks": "outside"
            },
            "colorscale": [
             [
              0.0,
              "#440154"
             ],
             [
              0.1111111111111111,
              "#482878"
             ],
             [
              0.2222222222222222,
              "#3e4989"
             ],
             [
              0.3333333333333333,
              "#31688e"
             ],
             [
              0.4444444444444444,
              "#26828e"
             ],
             [
              0.5555555555555556,
              "#1f9e89"
             ],
             [
              0.6666666666666666,
              "#35b779"
             ],
             [
              0.7777777777777778,
              "#6ece58"
             ],
             [
              0.8888888888888888,
              "#b5de2b"
             ],
             [
              1.0,
              "#fde725"
             ]
            ],
            "type": "heatmapgl"
           }
          ],
          "histogram": [
           {
            "marker": {
             "line": {
              "color": "white",
              "width": 0.6
             }
            },
            "type": "histogram"
           }
          ],
          "histogram2d": [
           {
            "colorbar": {
             "outlinewidth": 1,
             "tickcolor": "rgb(36,36,36)",
             "ticks": "outside"
            },
            "colorscale": [
             [
              0.0,
              "#440154"
             ],
             [
              0.1111111111111111,
              "#482878"
             ],
             [
              0.2222222222222222,
              "#3e4989"
             ],
             [
              0.3333333333333333,
              "#31688e"
             ],
             [
              0.4444444444444444,
              "#26828e"
             ],
             [
              0.5555555555555556,
              "#1f9e89"
             ],
             [
              0.6666666666666666,
              "#35b779"
             ],
             [
              0.7777777777777778,
              "#6ece58"
             ],
             [
              0.8888888888888888,
              "#b5de2b"
             ],
             [
              1.0,
              "#fde725"
             ]
            ],
            "type": "histogram2d"
           }
          ],
          "histogram2dcontour": [
           {
            "colorbar": {
             "outlinewidth": 1,
             "tickcolor": "rgb(36,36,36)",
             "ticks": "outside"
            },
            "colorscale": [
             [
              0.0,
              "#440154"
             ],
             [
              0.1111111111111111,
              "#482878"
             ],
             [
              0.2222222222222222,
              "#3e4989"
             ],
             [
              0.3333333333333333,
              "#31688e"
             ],
             [
              0.4444444444444444,
              "#26828e"
             ],
             [
              0.5555555555555556,
              "#1f9e89"
             ],
             [
              0.6666666666666666,
              "#35b779"
             ],
             [
              0.7777777777777778,
              "#6ece58"
             ],
             [
              0.8888888888888888,
              "#b5de2b"
             ],
             [
              1.0,
              "#fde725"
             ]
            ],
            "type": "histogram2dcontour"
           }
          ],
          "mesh3d": [
           {
            "colorbar": {
             "outlinewidth": 1,
             "tickcolor": "rgb(36,36,36)",
             "ticks": "outside"
            },
            "type": "mesh3d"
           }
          ],
          "parcoords": [
           {
            "line": {
             "colorbar": {
              "outlinewidth": 1,
              "tickcolor": "rgb(36,36,36)",
              "ticks": "outside"
             }
            },
            "type": "parcoords"
           }
          ],
          "pie": [
           {
            "automargin": true,
            "type": "pie"
           }
          ],
          "scatter": [
           {
            "fillpattern": {
             "fillmode": "overlay",
             "size": 10,
             "solidity": 0.2
            },
            "type": "scatter"
           }
          ],
          "scatter3d": [
           {
            "line": {
             "colorbar": {
              "outlinewidth": 1,
              "tickcolor": "rgb(36,36,36)",
              "ticks": "outside"
             }
            },
            "marker": {
             "colorbar": {
              "outlinewidth": 1,
              "tickcolor": "rgb(36,36,36)",
              "ticks": "outside"
             }
            },
            "type": "scatter3d"
           }
          ],
          "scattercarpet": [
           {
            "marker": {
             "colorbar": {
              "outlinewidth": 1,
              "tickcolor": "rgb(36,36,36)",
              "ticks": "outside"
             }
            },
            "type": "scattercarpet"
           }
          ],
          "scattergeo": [
           {
            "marker": {
             "colorbar": {
              "outlinewidth": 1,
              "tickcolor": "rgb(36,36,36)",
              "ticks": "outside"
             }
            },
            "type": "scattergeo"
           }
          ],
          "scattergl": [
           {
            "marker": {
             "colorbar": {
              "outlinewidth": 1,
              "tickcolor": "rgb(36,36,36)",
              "ticks": "outside"
             }
            },
            "type": "scattergl"
           }
          ],
          "scattermapbox": [
           {
            "marker": {
             "colorbar": {
              "outlinewidth": 1,
              "tickcolor": "rgb(36,36,36)",
              "ticks": "outside"
             }
            },
            "type": "scattermapbox"
           }
          ],
          "scatterpolar": [
           {
            "marker": {
             "colorbar": {
              "outlinewidth": 1,
              "tickcolor": "rgb(36,36,36)",
              "ticks": "outside"
             }
            },
            "type": "scatterpolar"
           }
          ],
          "scatterpolargl": [
           {
            "marker": {
             "colorbar": {
              "outlinewidth": 1,
              "tickcolor": "rgb(36,36,36)",
              "ticks": "outside"
             }
            },
            "type": "scatterpolargl"
           }
          ],
          "scatterternary": [
           {
            "marker": {
             "colorbar": {
              "outlinewidth": 1,
              "tickcolor": "rgb(36,36,36)",
              "ticks": "outside"
             }
            },
            "type": "scatterternary"
           }
          ],
          "surface": [
           {
            "colorbar": {
             "outlinewidth": 1,
             "tickcolor": "rgb(36,36,36)",
             "ticks": "outside"
            },
            "colorscale": [
             [
              0.0,
              "#440154"
             ],
             [
              0.1111111111111111,
              "#482878"
             ],
             [
              0.2222222222222222,
              "#3e4989"
             ],
             [
              0.3333333333333333,
              "#31688e"
             ],
             [
              0.4444444444444444,
              "#26828e"
             ],
             [
              0.5555555555555556,
              "#1f9e89"
             ],
             [
              0.6666666666666666,
              "#35b779"
             ],
             [
              0.7777777777777778,
              "#6ece58"
             ],
             [
              0.8888888888888888,
              "#b5de2b"
             ],
             [
              1.0,
              "#fde725"
             ]
            ],
            "type": "surface"
           }
          ],
          "table": [
           {
            "cells": {
             "fill": {
              "color": "rgb(237,237,237)"
             },
             "line": {
              "color": "white"
             }
            },
            "header": {
             "fill": {
              "color": "rgb(217,217,217)"
             },
             "line": {
              "color": "white"
             }
            },
            "type": "table"
           }
          ]
         },
         "layout": {
          "annotationdefaults": {
           "arrowhead": 0,
           "arrowwidth": 1
          },
          "autotypenumbers": "strict",
          "coloraxis": {
           "colorbar": {
            "outlinewidth": 1,
            "tickcolor": "rgb(36,36,36)",
            "ticks": "outside"
           }
          },
          "colorscale": {
           "diverging": [
            [
             0.0,
             "rgb(103,0,31)"
            ],
            [
             0.1,
             "rgb(178,24,43)"
            ],
            [
             0.2,
             "rgb(214,96,77)"
            ],
            [
             0.3,
             "rgb(244,165,130)"
            ],
            [
             0.4,
             "rgb(253,219,199)"
            ],
            [
             0.5,
             "rgb(247,247,247)"
            ],
            [
             0.6,
             "rgb(209,229,240)"
            ],
            [
             0.7,
             "rgb(146,197,222)"
            ],
            [
             0.8,
             "rgb(67,147,195)"
            ],
            [
             0.9,
             "rgb(33,102,172)"
            ],
            [
             1.0,
             "rgb(5,48,97)"
            ]
           ],
           "sequential": [
            [
             0.0,
             "#440154"
            ],
            [
             0.1111111111111111,
             "#482878"
            ],
            [
             0.2222222222222222,
             "#3e4989"
            ],
            [
             0.3333333333333333,
             "#31688e"
            ],
            [
             0.4444444444444444,
             "#26828e"
            ],
            [
             0.5555555555555556,
             "#1f9e89"
            ],
            [
             0.6666666666666666,
             "#35b779"
            ],
            [
             0.7777777777777778,
             "#6ece58"
            ],
            [
             0.8888888888888888,
             "#b5de2b"
            ],
            [
             1.0,
             "#fde725"
            ]
           ],
           "sequentialminus": [
            [
             0.0,
             "#440154"
            ],
            [
             0.1111111111111111,
             "#482878"
            ],
            [
             0.2222222222222222,
             "#3e4989"
            ],
            [
             0.3333333333333333,
             "#31688e"
            ],
            [
             0.4444444444444444,
             "#26828e"
            ],
            [
             0.5555555555555556,
             "#1f9e89"
            ],
            [
             0.6666666666666666,
             "#35b779"
            ],
            [
             0.7777777777777778,
             "#6ece58"
            ],
            [
             0.8888888888888888,
             "#b5de2b"
            ],
            [
             1.0,
             "#fde725"
            ]
           ]
          },
          "colorway": [
           "#91268F",
           "#8CC63E",
           "#00A7A0",
           "#F05A28",
           "#4C4C4C",
           "#630460",
           "#9f3913",
           "#588527",
           "#00716c",
           "#3e4040"
          ],
          "font": {
           "color": "rgb(36,36,36)",
           "family": "Poppins",
           "size": 11
          },
          "geo": {
           "bgcolor": "white",
           "lakecolor": "white",
           "landcolor": "white",
           "showlakes": true,
           "showland": true,
           "subunitcolor": "white"
          },
          "hoverlabel": {
           "align": "left"
          },
          "hovermode": "closest",
          "mapbox": {
           "style": "light"
          },
          "paper_bgcolor": "white",
          "plot_bgcolor": "white",
          "polar": {
           "angularaxis": {
            "gridcolor": "rgb(232,232,232)",
            "linecolor": "rgb(36,36,36)",
            "showgrid": false,
            "showline": true,
            "ticks": "outside"
           },
           "bgcolor": "white",
           "radialaxis": {
            "gridcolor": "rgb(232,232,232)",
            "linecolor": "rgb(36,36,36)",
            "showgrid": false,
            "showline": true,
            "ticks": "outside"
           }
          },
          "scene": {
           "xaxis": {
            "backgroundcolor": "white",
            "gridcolor": "rgb(232,232,232)",
            "gridwidth": 2,
            "linecolor": "rgb(36,36,36)",
            "showbackground": true,
            "showgrid": false,
            "showline": true,
            "ticks": "outside",
            "zeroline": false,
            "zerolinecolor": "rgb(36,36,36)"
           },
           "yaxis": {
            "backgroundcolor": "white",
            "gridcolor": "rgb(232,232,232)",
            "gridwidth": 2,
            "linecolor": "rgb(36,36,36)",
            "showbackground": true,
            "showgrid": false,
            "showline": true,
            "ticks": "outside",
            "zeroline": false,
            "zerolinecolor": "rgb(36,36,36)"
           },
           "zaxis": {
            "backgroundcolor": "white",
            "gridcolor": "rgb(232,232,232)",
            "gridwidth": 2,
            "linecolor": "rgb(36,36,36)",
            "showbackground": true,
            "showgrid": false,
            "showline": true,
            "ticks": "outside",
            "zeroline": false,
            "zerolinecolor": "rgb(36,36,36)"
           }
          },
          "shapedefaults": {
           "fillcolor": "black",
           "line": {
            "width": 0
           },
           "opacity": 0.3
          },
          "ternary": {
           "aaxis": {
            "gridcolor": "rgb(232,232,232)",
            "linecolor": "rgb(36,36,36)",
            "showgrid": false,
            "showline": true,
            "ticks": "outside"
           },
           "baxis": {
            "gridcolor": "rgb(232,232,232)",
            "linecolor": "rgb(36,36,36)",
            "showgrid": false,
            "showline": true,
            "ticks": "outside"
           },
           "bgcolor": "white",
           "caxis": {
            "gridcolor": "rgb(232,232,232)",
            "linecolor": "rgb(36,36,36)",
            "showgrid": false,
            "showline": true,
            "ticks": "outside"
           }
          },
          "title": {
           "x": 0.05
          },
          "xaxis": {
           "automargin": true,
           "gridcolor": "rgb(232,232,232)",
           "linecolor": "rgb(36,36,36)",
           "showgrid": false,
           "showline": true,
           "ticks": "outside",
           "title": {
            "standoff": 15
           },
           "zeroline": false,
           "zerolinecolor": "rgb(36,36,36)"
          },
          "yaxis": {
           "automargin": true,
           "gridcolor": "rgb(232,232,232)",
           "linecolor": "rgb(36,36,36)",
           "showgrid": false,
           "showline": true,
           "ticks": "outside",
           "title": {
            "standoff": 15
           },
           "zeroline": false,
           "zerolinecolor": "rgb(36,36,36)"
          }
         }
        },
        "title": {
         "text": "escort trip mode choice by auto ownership"
        },
        "width": 800,
        "xaxis": {
         "anchor": "y",
         "domain": [
          0.0,
          0.49
         ],
         "tickformat": ".1%",
         "title": {
          "text": "percentage"
         }
        },
        "xaxis2": {
         "anchor": "y2",
         "domain": [
          0.51,
          1.0
         ],
         "matches": "x",
         "tickformat": ".1%",
         "title": {
          "text": "percentage"
         }
        },
        "xaxis3": {
         "anchor": "y3",
         "domain": [
          0.0,
          0.49
         ],
         "matches": "x",
         "showticklabels": false,
         "tickformat": ".1%"
        },
        "xaxis4": {
         "anchor": "y4",
         "domain": [
          0.51,
          1.0
         ],
         "matches": "x",
         "showticklabels": false,
         "tickformat": ".1%"
        },
        "xaxis5": {
         "anchor": "y5",
         "domain": [
          0.0,
          0.49
         ],
         "matches": "x",
         "showticklabels": false,
         "tickformat": ".1%"
        },
        "xaxis6": {
         "anchor": "y6",
         "domain": [
          0.51,
          1.0
         ],
         "matches": "x",
         "showticklabels": false,
         "tickformat": ".1%"
        },
        "yaxis": {
         "anchor": "x",
         "categoryarray": [
          "9: other–survey only",
          "8: school bus",
          "6: transit",
          "5: hov 3+",
          "4: hov 2",
          "3: sov",
          "2: bike",
          "1: walk"
         ],
         "categoryorder": "array",
         "domain": [
          0.0,
          0.2866666666666666
         ],
         "title": {
          "text": "mode_label"
         }
        },
        "yaxis2": {
         "anchor": "x2",
         "domain": [
          0.0,
          0.2866666666666666
         ],
         "matches": "y",
         "showticklabels": false
        },
        "yaxis3": {
         "anchor": "x3",
         "categoryarray": [
          "9: other–survey only",
          "8: school bus",
          "6: transit",
          "5: hov 3+",
          "4: hov 2",
          "3: sov",
          "2: bike",
          "1: walk"
         ],
         "categoryorder": "array",
         "domain": [
          0.35666666666666663,
          0.6433333333333333
         ],
         "matches": "y",
         "title": {
          "text": "mode_label"
         }
        },
        "yaxis4": {
         "anchor": "x4",
         "domain": [
          0.35666666666666663,
          0.6433333333333333
         ],
         "matches": "y",
         "showticklabels": false
        },
        "yaxis5": {
         "anchor": "x5",
         "categoryarray": [
          "9: other–survey only",
          "8: school bus",
          "6: transit",
          "5: hov 3+",
          "4: hov 2",
          "3: sov",
          "2: bike",
          "1: walk"
         ],
         "categoryorder": "array",
         "domain": [
          0.7133333333333333,
          0.9999999999999999
         ],
         "matches": "y",
         "title": {
          "text": "mode_label"
         }
        },
        "yaxis6": {
         "anchor": "x6",
         "domain": [
          0.7133333333333333,
          0.9999999999999999
         ],
         "matches": "y",
         "showticklabels": false
        }
       }
      },
      "text/html": [
       "<div>                            <div id=\"c0cd4638-31bf-4829-8aaf-1d4a9e665046\" class=\"plotly-graph-div\" style=\"height:800px; width:800px;\"></div>            <script type=\"text/javascript\">                require([\"plotly\"], function(Plotly) {                    window.PLOTLYENV=window.PLOTLYENV || {};                                    if (document.getElementById(\"c0cd4638-31bf-4829-8aaf-1d4a9e665046\")) {                    Plotly.newPlot(                        \"c0cd4638-31bf-4829-8aaf-1d4a9e665046\",                        [{\"alignmentgroup\":\"True\",\"customdata\":[[28988],[3299],[2319],[3180],[1191],[17],[689]],\"hovertemplate\":\"source=model\\u003cbr\\u003eauto_ownership_4+=0\\u003cbr\\u003epercentage=%{x}\\u003cbr\\u003emode_label=%{y}\\u003cbr\\u003esample count=%{customdata[0]}\\u003cextra\\u003e\\u003c\\u002fextra\\u003e\",\"legendgroup\":\"model\",\"marker\":{\"color\":\"#91268F\",\"pattern\":{\"shape\":\"\"}},\"name\":\"model\",\"offsetgroup\":\"model\",\"orientation\":\"h\",\"showlegend\":true,\"textposition\":\"auto\",\"x\":[0.7304891263261346,0.08313383564750648,0.05843812211778343,0.08013507043318298,0.03001285185091853,0.00042839503061764485,0.01736259859385631],\"xaxis\":\"x5\",\"y\":[\"1: walk\",\"2: bike\",\"4: hov 2\",\"5: hov 3+\",\"6: transit\",\"8: school bus\",\"9: tnc\"],\"yaxis\":\"y5\",\"type\":\"bar\"},{\"alignmentgroup\":\"True\",\"customdata\":[[37839],[4951],[96330],[102120],[65842],[2083],[4127],[280]],\"hovertemplate\":\"source=model\\u003cbr\\u003eauto_ownership_4+=1\\u003cbr\\u003epercentage=%{x}\\u003cbr\\u003emode_label=%{y}\\u003cbr\\u003esample count=%{customdata[0]}\\u003cextra\\u003e\\u003c\\u002fextra\\u003e\",\"legendgroup\":\"model\",\"marker\":{\"color\":\"#91268F\",\"pattern\":{\"shape\":\"\"}},\"name\":\"model\",\"offsetgroup\":\"model\",\"orientation\":\"h\",\"showlegend\":false,\"textposition\":\"auto\",\"x\":[0.12067085071371168,0.015789037286492415,0.30720217366346486,0.32566683249779954,0.20997410483078846,0.006642812496013675,0.013161251642366027,0.000892936869363336],\"xaxis\":\"x6\",\"y\":[\"1: walk\",\"2: bike\",\"3: sov\",\"4: hov 2\",\"5: hov 3+\",\"6: transit\",\"8: school bus\",\"9: tnc\"],\"yaxis\":\"y6\",\"type\":\"bar\"},{\"alignmentgroup\":\"True\",\"customdata\":[[60295],[7867],[248819],[211139],[182665],[3509],[8014],[616]],\"hovertemplate\":\"source=model\\u003cbr\\u003eauto_ownership_4+=2\\u003cbr\\u003epercentage=%{x}\\u003cbr\\u003emode_label=%{y}\\u003cbr\\u003esample count=%{customdata[0]}\\u003cextra\\u003e\\u003c\\u002fextra\\u003e\",\"legendgroup\":\"model\",\"marker\":{\"color\":\"#91268F\",\"pattern\":{\"shape\":\"\"}},\"name\":\"model\",\"offsetgroup\":\"model\",\"orientation\":\"h\",\"showlegend\":false,\"textposition\":\"auto\",\"x\":[0.08340434125855553,0.01088219508551383,0.34418417427004777,0.29206251279525924,0.25267524663726754,0.004853898888403207,0.011085535962286492,0.0008520951026663937],\"xaxis\":\"x3\",\"y\":[\"1: walk\",\"2: bike\",\"3: sov\",\"4: hov 2\",\"5: hov 3+\",\"6: transit\",\"8: school bus\",\"9: tnc\"],\"yaxis\":\"y3\",\"type\":\"bar\"},{\"alignmentgroup\":\"True\",\"customdata\":[[26112],[3785],[126724],[103881],[94303],[1482],[3682],[243]],\"hovertemplate\":\"source=model\\u003cbr\\u003eauto_ownership_4+=3\\u003cbr\\u003epercentage=%{x}\\u003cbr\\u003emode_label=%{y}\\u003cbr\\u003esample count=%{customdata[0]}\\u003cextra\\u003e\\u003c\\u002fextra\\u003e\",\"legendgroup\":\"model\",\"marker\":{\"color\":\"#91268F\",\"pattern\":{\"shape\":\"\"}},\"name\":\"model\",\"offsetgroup\":\"model\",\"orientation\":\"h\",\"showlegend\":false,\"textposition\":\"auto\",\"x\":[0.07249064439829878,0.010507701020510143,0.3518039376811433,0.2883885045473221,0.26179860748670225,0.004114243834186535,0.010221758297891242,0.0006746027339455654],\"xaxis\":\"x4\",\"y\":[\"1: walk\",\"2: bike\",\"3: sov\",\"4: hov 2\",\"5: hov 3+\",\"6: transit\",\"8: school bus\",\"9: tnc\"],\"yaxis\":\"y4\",\"type\":\"bar\"},{\"alignmentgroup\":\"True\",\"customdata\":[[15688],[2161],[85232],[61297],[53119],[929],[1724],[148]],\"hovertemplate\":\"source=model\\u003cbr\\u003eauto_ownership_4+=4+\\u003cbr\\u003epercentage=%{x}\\u003cbr\\u003emode_label=%{y}\\u003cbr\\u003esample count=%{customdata[0]}\\u003cextra\\u003e\\u003c\\u002fextra\\u003e\",\"legendgroup\":\"model\",\"marker\":{\"color\":\"#91268F\",\"pattern\":{\"shape\":\"\"}},\"name\":\"model\",\"offsetgroup\":\"model\",\"orientation\":\"h\",\"showlegend\":false,\"textposition\":\"auto\",\"x\":[0.07121263016459523,0.009809439940444307,0.38689411615175806,0.27824583064757735,0.24112338741159703,0.004217015134045702,0.007825763284278569,0.0006718172657037286],\"xaxis\":\"x\",\"y\":[\"1: walk\",\"2: bike\",\"3: sov\",\"4: hov 2\",\"5: hov 3+\",\"6: transit\",\"8: school bus\",\"9: tnc\"],\"yaxis\":\"y\",\"type\":\"bar\"},{\"alignmentgroup\":\"True\",\"customdata\":[[13],[2],[2],[1],[1]],\"hovertemplate\":\"source=survey\\u003cbr\\u003eauto_ownership_4+=0\\u003cbr\\u003epercentage=%{x}\\u003cbr\\u003emode_label=%{y}\\u003cbr\\u003esample count=%{customdata[0]}\\u003cextra\\u003e\\u003c\\u002fextra\\u003e\",\"legendgroup\":\"survey\",\"marker\":{\"color\":\"#8CC63E\",\"pattern\":{\"shape\":\"\"}},\"name\":\"survey\",\"offsetgroup\":\"survey\",\"orientation\":\"h\",\"showlegend\":true,\"textposition\":\"auto\",\"x\":[0.7714049158487708,0.07031100961299085,0.11154217368756165,0.0257629106390028,0.020978990211673848],\"xaxis\":\"x5\",\"y\":[\"1: walk\",\"3: sov\",\"4: hov 2\",\"5: hov 3+\",\"6: transit\"],\"yaxis\":\"y5\",\"type\":\"bar\"},{\"alignmentgroup\":\"True\",\"customdata\":[[78],[18],[131],[176],[112],[2],[3]],\"hovertemplate\":\"source=survey\\u003cbr\\u003eauto_ownership_4+=1\\u003cbr\\u003epercentage=%{x}\\u003cbr\\u003emode_label=%{y}\\u003cbr\\u003esample count=%{customdata[0]}\\u003cextra\\u003e\\u003c\\u002fextra\\u003e\",\"legendgroup\":\"survey\",\"marker\":{\"color\":\"#8CC63E\",\"pattern\":{\"shape\":\"\"}},\"name\":\"survey\",\"offsetgroup\":\"survey\",\"orientation\":\"h\",\"showlegend\":false,\"textposition\":\"auto\",\"x\":[0.13682269185396592,0.01169101041828957,0.21135598059320834,0.4634468494933967,0.17479834452126594,0.0006906756438424865,0.0011944474760309154],\"xaxis\":\"x6\",\"y\":[\"1: walk\",\"2: bike\",\"3: sov\",\"4: hov 2\",\"5: hov 3+\",\"6: transit\",\"8: school bus\"],\"yaxis\":\"y6\",\"type\":\"bar\"},{\"alignmentgroup\":\"True\",\"customdata\":[[40],[6],[161],[271],[238],[2]],\"hovertemplate\":\"source=survey\\u003cbr\\u003eauto_ownership_4+=2\\u003cbr\\u003epercentage=%{x}\\u003cbr\\u003emode_label=%{y}\\u003cbr\\u003esample count=%{customdata[0]}\\u003cextra\\u003e\\u003c\\u002fextra\\u003e\",\"legendgroup\":\"survey\",\"marker\":{\"color\":\"#8CC63E\",\"pattern\":{\"shape\":\"\"}},\"name\":\"survey\",\"offsetgroup\":\"survey\",\"orientation\":\"h\",\"showlegend\":false,\"textposition\":\"auto\",\"x\":[0.050470269649698175,0.0006016858440214216,0.26990402177343553,0.3324195846702738,0.3463137294776299,0.00029070858494117285],\"xaxis\":\"x3\",\"y\":[\"1: walk\",\"2: bike\",\"3: sov\",\"4: hov 2\",\"5: hov 3+\",\"6: transit\"],\"yaxis\":\"y3\",\"type\":\"bar\"},{\"alignmentgroup\":\"True\",\"customdata\":[[5],[53],[44],[46]],\"hovertemplate\":\"source=survey\\u003cbr\\u003eauto_ownership_4+=3\\u003cbr\\u003epercentage=%{x}\\u003cbr\\u003emode_label=%{y}\\u003cbr\\u003esample count=%{customdata[0]}\\u003cextra\\u003e\\u003c\\u002fextra\\u003e\",\"legendgroup\":\"survey\",\"marker\":{\"color\":\"#8CC63E\",\"pattern\":{\"shape\":\"\"}},\"name\":\"survey\",\"offsetgroup\":\"survey\",\"orientation\":\"h\",\"showlegend\":false,\"textposition\":\"auto\",\"x\":[0.01894968636443262,0.29566934151979607,0.32636163505221955,0.35901933706355177],\"xaxis\":\"x4\",\"y\":[\"1: walk\",\"3: sov\",\"4: hov 2\",\"5: hov 3+\"],\"yaxis\":\"y4\",\"type\":\"bar\"},{\"alignmentgroup\":\"True\",\"customdata\":[[2],[11],[17],[16]],\"hovertemplate\":\"source=survey\\u003cbr\\u003eauto_ownership_4+=4+\\u003cbr\\u003epercentage=%{x}\\u003cbr\\u003emode_label=%{y}\\u003cbr\\u003esample count=%{customdata[0]}\\u003cextra\\u003e\\u003c\\u002fextra\\u003e\",\"legendgroup\":\"survey\",\"marker\":{\"color\":\"#8CC63E\",\"pattern\":{\"shape\":\"\"}},\"name\":\"survey\",\"offsetgroup\":\"survey\",\"orientation\":\"h\",\"showlegend\":false,\"textposition\":\"auto\",\"x\":[0.07857994968136824,0.18223827617616756,0.32325786671702583,0.41592390742543844],\"xaxis\":\"x\",\"y\":[\"1: walk\",\"3: sov\",\"4: hov 2\",\"5: hov 3+\"],\"yaxis\":\"y\",\"type\":\"bar\"}],                        {\"template\":{\"data\":{\"barpolar\":[{\"marker\":{\"line\":{\"color\":\"white\",\"width\":0.5},\"pattern\":{\"fillmode\":\"overlay\",\"size\":10,\"solidity\":0.2}},\"type\":\"barpolar\"}],\"bar\":[{\"error_x\":{\"color\":\"rgb(36,36,36)\"},\"error_y\":{\"color\":\"rgb(36,36,36)\"},\"marker\":{\"line\":{\"color\":\"white\",\"width\":0.5},\"pattern\":{\"fillmode\":\"overlay\",\"size\":10,\"solidity\":0.2}},\"type\":\"bar\"}],\"carpet\":[{\"aaxis\":{\"endlinecolor\":\"rgb(36,36,36)\",\"gridcolor\":\"white\",\"linecolor\":\"white\",\"minorgridcolor\":\"white\",\"startlinecolor\":\"rgb(36,36,36)\"},\"baxis\":{\"endlinecolor\":\"rgb(36,36,36)\",\"gridcolor\":\"white\",\"linecolor\":\"white\",\"minorgridcolor\":\"white\",\"startlinecolor\":\"rgb(36,36,36)\"},\"type\":\"carpet\"}],\"choropleth\":[{\"colorbar\":{\"outlinewidth\":1,\"tickcolor\":\"rgb(36,36,36)\",\"ticks\":\"outside\"},\"type\":\"choropleth\"}],\"contourcarpet\":[{\"colorbar\":{\"outlinewidth\":1,\"tickcolor\":\"rgb(36,36,36)\",\"ticks\":\"outside\"},\"type\":\"contourcarpet\"}],\"contour\":[{\"colorbar\":{\"outlinewidth\":1,\"tickcolor\":\"rgb(36,36,36)\",\"ticks\":\"outside\"},\"colorscale\":[[0.0,\"#440154\"],[0.1111111111111111,\"#482878\"],[0.2222222222222222,\"#3e4989\"],[0.3333333333333333,\"#31688e\"],[0.4444444444444444,\"#26828e\"],[0.5555555555555556,\"#1f9e89\"],[0.6666666666666666,\"#35b779\"],[0.7777777777777778,\"#6ece58\"],[0.8888888888888888,\"#b5de2b\"],[1.0,\"#fde725\"]],\"type\":\"contour\"}],\"heatmapgl\":[{\"colorbar\":{\"outlinewidth\":1,\"tickcolor\":\"rgb(36,36,36)\",\"ticks\":\"outside\"},\"colorscale\":[[0.0,\"#440154\"],[0.1111111111111111,\"#482878\"],[0.2222222222222222,\"#3e4989\"],[0.3333333333333333,\"#31688e\"],[0.4444444444444444,\"#26828e\"],[0.5555555555555556,\"#1f9e89\"],[0.6666666666666666,\"#35b779\"],[0.7777777777777778,\"#6ece58\"],[0.8888888888888888,\"#b5de2b\"],[1.0,\"#fde725\"]],\"type\":\"heatmapgl\"}],\"heatmap\":[{\"colorbar\":{\"outlinewidth\":1,\"tickcolor\":\"rgb(36,36,36)\",\"ticks\":\"outside\"},\"colorscale\":[[0.0,\"#440154\"],[0.1111111111111111,\"#482878\"],[0.2222222222222222,\"#3e4989\"],[0.3333333333333333,\"#31688e\"],[0.4444444444444444,\"#26828e\"],[0.5555555555555556,\"#1f9e89\"],[0.6666666666666666,\"#35b779\"],[0.7777777777777778,\"#6ece58\"],[0.8888888888888888,\"#b5de2b\"],[1.0,\"#fde725\"]],\"type\":\"heatmap\"}],\"histogram2dcontour\":[{\"colorbar\":{\"outlinewidth\":1,\"tickcolor\":\"rgb(36,36,36)\",\"ticks\":\"outside\"},\"colorscale\":[[0.0,\"#440154\"],[0.1111111111111111,\"#482878\"],[0.2222222222222222,\"#3e4989\"],[0.3333333333333333,\"#31688e\"],[0.4444444444444444,\"#26828e\"],[0.5555555555555556,\"#1f9e89\"],[0.6666666666666666,\"#35b779\"],[0.7777777777777778,\"#6ece58\"],[0.8888888888888888,\"#b5de2b\"],[1.0,\"#fde725\"]],\"type\":\"histogram2dcontour\"}],\"histogram2d\":[{\"colorbar\":{\"outlinewidth\":1,\"tickcolor\":\"rgb(36,36,36)\",\"ticks\":\"outside\"},\"colorscale\":[[0.0,\"#440154\"],[0.1111111111111111,\"#482878\"],[0.2222222222222222,\"#3e4989\"],[0.3333333333333333,\"#31688e\"],[0.4444444444444444,\"#26828e\"],[0.5555555555555556,\"#1f9e89\"],[0.6666666666666666,\"#35b779\"],[0.7777777777777778,\"#6ece58\"],[0.8888888888888888,\"#b5de2b\"],[1.0,\"#fde725\"]],\"type\":\"histogram2d\"}],\"histogram\":[{\"marker\":{\"line\":{\"color\":\"white\",\"width\":0.6}},\"type\":\"histogram\"}],\"mesh3d\":[{\"colorbar\":{\"outlinewidth\":1,\"tickcolor\":\"rgb(36,36,36)\",\"ticks\":\"outside\"},\"type\":\"mesh3d\"}],\"parcoords\":[{\"line\":{\"colorbar\":{\"outlinewidth\":1,\"tickcolor\":\"rgb(36,36,36)\",\"ticks\":\"outside\"}},\"type\":\"parcoords\"}],\"pie\":[{\"automargin\":true,\"type\":\"pie\"}],\"scatter3d\":[{\"line\":{\"colorbar\":{\"outlinewidth\":1,\"tickcolor\":\"rgb(36,36,36)\",\"ticks\":\"outside\"}},\"marker\":{\"colorbar\":{\"outlinewidth\":1,\"tickcolor\":\"rgb(36,36,36)\",\"ticks\":\"outside\"}},\"type\":\"scatter3d\"}],\"scattercarpet\":[{\"marker\":{\"colorbar\":{\"outlinewidth\":1,\"tickcolor\":\"rgb(36,36,36)\",\"ticks\":\"outside\"}},\"type\":\"scattercarpet\"}],\"scattergeo\":[{\"marker\":{\"colorbar\":{\"outlinewidth\":1,\"tickcolor\":\"rgb(36,36,36)\",\"ticks\":\"outside\"}},\"type\":\"scattergeo\"}],\"scattergl\":[{\"marker\":{\"colorbar\":{\"outlinewidth\":1,\"tickcolor\":\"rgb(36,36,36)\",\"ticks\":\"outside\"}},\"type\":\"scattergl\"}],\"scattermapbox\":[{\"marker\":{\"colorbar\":{\"outlinewidth\":1,\"tickcolor\":\"rgb(36,36,36)\",\"ticks\":\"outside\"}},\"type\":\"scattermapbox\"}],\"scatterpolargl\":[{\"marker\":{\"colorbar\":{\"outlinewidth\":1,\"tickcolor\":\"rgb(36,36,36)\",\"ticks\":\"outside\"}},\"type\":\"scatterpolargl\"}],\"scatterpolar\":[{\"marker\":{\"colorbar\":{\"outlinewidth\":1,\"tickcolor\":\"rgb(36,36,36)\",\"ticks\":\"outside\"}},\"type\":\"scatterpolar\"}],\"scatter\":[{\"fillpattern\":{\"fillmode\":\"overlay\",\"size\":10,\"solidity\":0.2},\"type\":\"scatter\"}],\"scatterternary\":[{\"marker\":{\"colorbar\":{\"outlinewidth\":1,\"tickcolor\":\"rgb(36,36,36)\",\"ticks\":\"outside\"}},\"type\":\"scatterternary\"}],\"surface\":[{\"colorbar\":{\"outlinewidth\":1,\"tickcolor\":\"rgb(36,36,36)\",\"ticks\":\"outside\"},\"colorscale\":[[0.0,\"#440154\"],[0.1111111111111111,\"#482878\"],[0.2222222222222222,\"#3e4989\"],[0.3333333333333333,\"#31688e\"],[0.4444444444444444,\"#26828e\"],[0.5555555555555556,\"#1f9e89\"],[0.6666666666666666,\"#35b779\"],[0.7777777777777778,\"#6ece58\"],[0.8888888888888888,\"#b5de2b\"],[1.0,\"#fde725\"]],\"type\":\"surface\"}],\"table\":[{\"cells\":{\"fill\":{\"color\":\"rgb(237,237,237)\"},\"line\":{\"color\":\"white\"}},\"header\":{\"fill\":{\"color\":\"rgb(217,217,217)\"},\"line\":{\"color\":\"white\"}},\"type\":\"table\"}]},\"layout\":{\"annotationdefaults\":{\"arrowhead\":0,\"arrowwidth\":1},\"autotypenumbers\":\"strict\",\"coloraxis\":{\"colorbar\":{\"outlinewidth\":1,\"tickcolor\":\"rgb(36,36,36)\",\"ticks\":\"outside\"}},\"colorscale\":{\"diverging\":[[0.0,\"rgb(103,0,31)\"],[0.1,\"rgb(178,24,43)\"],[0.2,\"rgb(214,96,77)\"],[0.3,\"rgb(244,165,130)\"],[0.4,\"rgb(253,219,199)\"],[0.5,\"rgb(247,247,247)\"],[0.6,\"rgb(209,229,240)\"],[0.7,\"rgb(146,197,222)\"],[0.8,\"rgb(67,147,195)\"],[0.9,\"rgb(33,102,172)\"],[1.0,\"rgb(5,48,97)\"]],\"sequential\":[[0.0,\"#440154\"],[0.1111111111111111,\"#482878\"],[0.2222222222222222,\"#3e4989\"],[0.3333333333333333,\"#31688e\"],[0.4444444444444444,\"#26828e\"],[0.5555555555555556,\"#1f9e89\"],[0.6666666666666666,\"#35b779\"],[0.7777777777777778,\"#6ece58\"],[0.8888888888888888,\"#b5de2b\"],[1.0,\"#fde725\"]],\"sequentialminus\":[[0.0,\"#440154\"],[0.1111111111111111,\"#482878\"],[0.2222222222222222,\"#3e4989\"],[0.3333333333333333,\"#31688e\"],[0.4444444444444444,\"#26828e\"],[0.5555555555555556,\"#1f9e89\"],[0.6666666666666666,\"#35b779\"],[0.7777777777777778,\"#6ece58\"],[0.8888888888888888,\"#b5de2b\"],[1.0,\"#fde725\"]]},\"colorway\":[\"#91268F\",\"#8CC63E\",\"#00A7A0\",\"#F05A28\",\"#4C4C4C\",\"#630460\",\"#9f3913\",\"#588527\",\"#00716c\",\"#3e4040\"],\"font\":{\"color\":\"rgb(36,36,36)\",\"family\":\"Poppins\",\"size\":11},\"geo\":{\"bgcolor\":\"white\",\"lakecolor\":\"white\",\"landcolor\":\"white\",\"showlakes\":true,\"showland\":true,\"subunitcolor\":\"white\"},\"hoverlabel\":{\"align\":\"left\"},\"hovermode\":\"closest\",\"mapbox\":{\"style\":\"light\"},\"paper_bgcolor\":\"white\",\"plot_bgcolor\":\"white\",\"polar\":{\"angularaxis\":{\"gridcolor\":\"rgb(232,232,232)\",\"linecolor\":\"rgb(36,36,36)\",\"showgrid\":false,\"showline\":true,\"ticks\":\"outside\"},\"bgcolor\":\"white\",\"radialaxis\":{\"gridcolor\":\"rgb(232,232,232)\",\"linecolor\":\"rgb(36,36,36)\",\"showgrid\":false,\"showline\":true,\"ticks\":\"outside\"}},\"scene\":{\"xaxis\":{\"backgroundcolor\":\"white\",\"gridcolor\":\"rgb(232,232,232)\",\"gridwidth\":2,\"linecolor\":\"rgb(36,36,36)\",\"showbackground\":true,\"showgrid\":false,\"showline\":true,\"ticks\":\"outside\",\"zeroline\":false,\"zerolinecolor\":\"rgb(36,36,36)\"},\"yaxis\":{\"backgroundcolor\":\"white\",\"gridcolor\":\"rgb(232,232,232)\",\"gridwidth\":2,\"linecolor\":\"rgb(36,36,36)\",\"showbackground\":true,\"showgrid\":false,\"showline\":true,\"ticks\":\"outside\",\"zeroline\":false,\"zerolinecolor\":\"rgb(36,36,36)\"},\"zaxis\":{\"backgroundcolor\":\"white\",\"gridcolor\":\"rgb(232,232,232)\",\"gridwidth\":2,\"linecolor\":\"rgb(36,36,36)\",\"showbackground\":true,\"showgrid\":false,\"showline\":true,\"ticks\":\"outside\",\"zeroline\":false,\"zerolinecolor\":\"rgb(36,36,36)\"}},\"shapedefaults\":{\"fillcolor\":\"black\",\"line\":{\"width\":0},\"opacity\":0.3},\"ternary\":{\"aaxis\":{\"gridcolor\":\"rgb(232,232,232)\",\"linecolor\":\"rgb(36,36,36)\",\"showgrid\":false,\"showline\":true,\"ticks\":\"outside\"},\"baxis\":{\"gridcolor\":\"rgb(232,232,232)\",\"linecolor\":\"rgb(36,36,36)\",\"showgrid\":false,\"showline\":true,\"ticks\":\"outside\"},\"bgcolor\":\"white\",\"caxis\":{\"gridcolor\":\"rgb(232,232,232)\",\"linecolor\":\"rgb(36,36,36)\",\"showgrid\":false,\"showline\":true,\"ticks\":\"outside\"}},\"title\":{\"x\":0.05},\"xaxis\":{\"automargin\":true,\"gridcolor\":\"rgb(232,232,232)\",\"linecolor\":\"rgb(36,36,36)\",\"showgrid\":false,\"showline\":true,\"ticks\":\"outside\",\"title\":{\"standoff\":15},\"zeroline\":false,\"zerolinecolor\":\"rgb(36,36,36)\"},\"yaxis\":{\"automargin\":true,\"gridcolor\":\"rgb(232,232,232)\",\"linecolor\":\"rgb(36,36,36)\",\"showgrid\":false,\"showline\":true,\"ticks\":\"outside\",\"title\":{\"standoff\":15},\"zeroline\":false,\"zerolinecolor\":\"rgb(36,36,36)\"}}},\"xaxis\":{\"anchor\":\"y\",\"domain\":[0.0,0.49],\"title\":{\"text\":\"percentage\"},\"tickformat\":\".1%\"},\"yaxis\":{\"anchor\":\"x\",\"domain\":[0.0,0.2866666666666666],\"title\":{\"text\":\"mode_label\"},\"categoryorder\":\"array\",\"categoryarray\":[\"9: other\\u00e2\\u20ac\\u201csurvey only\",\"8: school bus\",\"6: transit\",\"5: hov 3+\",\"4: hov 2\",\"3: sov\",\"2: bike\",\"1: walk\"]},\"xaxis2\":{\"anchor\":\"y2\",\"domain\":[0.51,1.0],\"matches\":\"x\",\"title\":{\"text\":\"percentage\"},\"tickformat\":\".1%\"},\"yaxis2\":{\"anchor\":\"x2\",\"domain\":[0.0,0.2866666666666666],\"matches\":\"y\",\"showticklabels\":false},\"xaxis3\":{\"anchor\":\"y3\",\"domain\":[0.0,0.49],\"matches\":\"x\",\"showticklabels\":false,\"tickformat\":\".1%\"},\"yaxis3\":{\"anchor\":\"x3\",\"domain\":[0.35666666666666663,0.6433333333333333],\"matches\":\"y\",\"title\":{\"text\":\"mode_label\"},\"categoryorder\":\"array\",\"categoryarray\":[\"9: other\\u00e2\\u20ac\\u201csurvey only\",\"8: school bus\",\"6: transit\",\"5: hov 3+\",\"4: hov 2\",\"3: sov\",\"2: bike\",\"1: walk\"]},\"xaxis4\":{\"anchor\":\"y4\",\"domain\":[0.51,1.0],\"matches\":\"x\",\"showticklabels\":false,\"tickformat\":\".1%\"},\"yaxis4\":{\"anchor\":\"x4\",\"domain\":[0.35666666666666663,0.6433333333333333],\"matches\":\"y\",\"showticklabels\":false},\"xaxis5\":{\"anchor\":\"y5\",\"domain\":[0.0,0.49],\"matches\":\"x\",\"showticklabels\":false,\"tickformat\":\".1%\"},\"yaxis5\":{\"anchor\":\"x5\",\"domain\":[0.7133333333333333,0.9999999999999999],\"matches\":\"y\",\"title\":{\"text\":\"mode_label\"},\"categoryorder\":\"array\",\"categoryarray\":[\"9: other\\u00e2\\u20ac\\u201csurvey only\",\"8: school bus\",\"6: transit\",\"5: hov 3+\",\"4: hov 2\",\"3: sov\",\"2: bike\",\"1: walk\"]},\"xaxis6\":{\"anchor\":\"y6\",\"domain\":[0.51,1.0],\"matches\":\"x\",\"showticklabels\":false,\"tickformat\":\".1%\"},\"yaxis6\":{\"anchor\":\"x6\",\"domain\":[0.7133333333333333,0.9999999999999999],\"matches\":\"y\",\"showticklabels\":false},\"annotations\":[{\"font\":{},\"showarrow\":false,\"text\":\"4+\",\"x\":0.245,\"xanchor\":\"center\",\"xref\":\"paper\",\"y\":0.2866666666666666,\"yanchor\":\"bottom\",\"yref\":\"paper\"},{\"font\":{},\"showarrow\":false,\"text\":\"2\",\"x\":0.245,\"xanchor\":\"center\",\"xref\":\"paper\",\"y\":0.6433333333333333,\"yanchor\":\"bottom\",\"yref\":\"paper\"},{\"font\":{},\"showarrow\":false,\"text\":\"3\",\"x\":0.755,\"xanchor\":\"center\",\"xref\":\"paper\",\"y\":0.6433333333333333,\"yanchor\":\"bottom\",\"yref\":\"paper\"},{\"font\":{},\"showarrow\":false,\"text\":\"0\",\"x\":0.245,\"xanchor\":\"center\",\"xref\":\"paper\",\"y\":0.9999999999999999,\"yanchor\":\"bottom\",\"yref\":\"paper\"},{\"font\":{},\"showarrow\":false,\"text\":\"1\",\"x\":0.755,\"xanchor\":\"center\",\"xref\":\"paper\",\"y\":0.9999999999999999,\"yanchor\":\"bottom\",\"yref\":\"paper\"}],\"legend\":{\"title\":{\"text\":\"source\"},\"tracegroupgap\":0},\"title\":{\"text\":\"escort trip mode choice by auto ownership\"},\"barmode\":\"group\",\"height\":800,\"width\":800},                        {\"responsive\": true}                    ).then(function(){\n",
       "                            \n",
       "var gd = document.getElementById('c0cd4638-31bf-4829-8aaf-1d4a9e665046');\n",
       "var x = new MutationObserver(function (mutations, observer) {{\n",
       "        var display = window.getComputedStyle(gd).display;\n",
       "        if (!display || display === 'none') {{\n",
       "            console.log([gd, 'removed!']);\n",
       "            Plotly.purge(gd);\n",
       "            observer.disconnect();\n",
       "        }}\n",
       "}});\n",
       "\n",
       "// Listen for the removal of the full notebook cells\n",
       "var notebookContainer = gd.closest('#notebook-container');\n",
       "if (notebookContainer) {{\n",
       "    x.observe(notebookContainer, {childList: true});\n",
       "}}\n",
       "\n",
       "// Listen for the clearing of the current output cell\n",
       "var outputEl = gd.closest('.output');\n",
       "if (outputEl) {{\n",
       "    x.observe(outputEl, {childList: true});\n",
       "}}\n",
       "\n",
       "                        })                };                });            </script>        </div>"
      ]
     },
     "metadata": {},
     "output_type": "display_data"
    }
   ],
   "source": [
    "plot_mode_choice(es_trip.loc[es_trip['auto_ownership_4+']!=\"-1\"],\n",
    "                 \"auto_ownership_4+\",\n",
    "                 {\"auto_ownership_4+\":[\"0\",\"1\",\"2\",\"3\",\"4+\"],\n",
    "                  \"mode_label\":[\"1: walk\",\"2: bike\",\"3: sov\",\"4: hov 2\",\"5: hov 3+\",\"6: transit\",\n",
    "                                   \"8: school bus\",\"9: other–survey only\"]},\n",
    "                 \"auto ownership\",2,800)"
   ]
  },
  {
   "cell_type": "raw",
   "metadata": {
    "vscode": {
     "languageId": "raw"
    }
   },
   "source": [
    "### Household Type"
   ]
  },
  {
   "cell_type": "code",
   "execution_count": 10,
   "metadata": {
    "execution": {
     "iopub.execute_input": "2025-01-21T06:22:03.641352Z",
     "iopub.status.busy": "2025-01-21T06:22:03.640355Z",
     "iopub.status.idle": "2025-01-21T06:22:04.321444Z",
     "shell.execute_reply": "2025-01-21T06:22:04.319399Z"
    }
   },
   "outputs": [
    {
     "data": {
      "application/vnd.plotly.v1+json": {
       "config": {
        "plotlyServerURL": "https://plot.ly"
       },
       "data": [
        {
         "alignmentgroup": "True",
         "customdata": [
          [
           125955
          ],
          [
           15561
          ],
          [
           428669
          ],
          [
           338102
          ],
          [
           249193
          ],
          [
           7489
          ],
          [
           13422
          ],
          [
           1635
          ]
         ],
         "hovertemplate": "source=model<br>hhcu5=0.0<br>percentage=%{x}<br>mode_label=%{y}<br>sample count=%{customdata[0]}<extra></extra>",
         "legendgroup": "model",
         "marker": {
          "color": "#91268F",
          "pattern": {
           "shape": ""
          }
         },
         "name": "model",
         "offsetgroup": "model",
         "orientation": "h",
         "showlegend": true,
         "textposition": "auto",
         "type": "bar",
         "x": [
          0.10673917354363378,
          0.01318699757462971,
          0.36327080928725297,
          0.2865208054737777,
          0.21117585544725287,
          0.006346470332009634,
          0.01137432565045177,
          0.0013855626909915545
         ],
         "xaxis": "x5",
         "y": [
          "1: walk",
          "2: bike",
          "3: sov",
          "4: hov 2",
          "5: hov 3+",
          "6: transit",
          "8: school bus",
          "9: tnc"
         ],
         "yaxis": "y5"
        },
        {
         "alignmentgroup": "True",
         "customdata": [
          [
           32870
          ],
          [
           4772
          ],
          [
           100146
          ],
          [
           107214
          ],
          [
           106965
          ],
          [
           1308
          ],
          [
           3382
          ],
          [
           264
          ]
         ],
         "hovertemplate": "source=model<br>hhcu5=1.0<br>percentage=%{x}<br>mode_label=%{y}<br>sample count=%{customdata[0]}<extra></extra>",
         "legendgroup": "model",
         "marker": {
          "color": "#91268F",
          "pattern": {
           "shape": ""
          }
         },
         "name": "model",
         "offsetgroup": "model",
         "orientation": "h",
         "showlegend": false,
         "textposition": "auto",
         "type": "bar",
         "x": [
          0.09209320830099658,
          0.013369905385225303,
          0.28058309822061467,
          0.300385799658748,
          0.29968816628889866,
          0.0036646764970399612,
          0.009475486172010052,
          0.0007396594764667812
         ],
         "xaxis": "x6",
         "y": [
          "1: walk",
          "2: bike",
          "3: sov",
          "4: hov 2",
          "5: hov 3+",
          "6: transit",
          "8: school bus",
          "9: tnc"
         ],
         "yaxis": "y6"
        },
        {
         "alignmentgroup": "True",
         "customdata": [
          [
           9152
          ],
          [
           1549
          ],
          [
           25858
          ],
          [
           32239
          ],
          [
           38246
          ],
          [
           360
          ],
          [
           679
          ],
          [
           66
          ]
         ],
         "hovertemplate": "source=model<br>hhcu5=2.0<br>percentage=%{x}<br>mode_label=%{y}<br>sample count=%{customdata[0]}<extra></extra>",
         "legendgroup": "model",
         "marker": {
          "color": "#91268F",
          "pattern": {
           "shape": ""
          }
         },
         "name": "model",
         "offsetgroup": "model",
         "orientation": "h",
         "showlegend": false,
         "textposition": "auto",
         "type": "bar",
         "x": [
          0.08462399097541355,
          0.014322832388648994,
          0.2390960619145808,
          0.29809799443360546,
          0.35364173501373103,
          0.0033287409037531554,
          0.006278375204578868,
          0.0006102691656880785
         ],
         "xaxis": "x3",
         "y": [
          "1: walk",
          "2: bike",
          "3: sov",
          "4: hov 2",
          "5: hov 3+",
          "6: transit",
          "8: school bus",
          "9: tnc"
         ],
         "yaxis": "y3"
        },
        {
         "alignmentgroup": "True",
         "customdata": [
          [
           850
          ],
          [
           168
          ],
          [
           2298
          ],
          [
           2983
          ],
          [
           4275
          ],
          [
           35
          ],
          [
           74
          ],
          [
           11
          ]
         ],
         "hovertemplate": "source=model<br>hhcu5=3.0<br>percentage=%{x}<br>mode_label=%{y}<br>sample count=%{customdata[0]}<extra></extra>",
         "legendgroup": "model",
         "marker": {
          "color": "#91268F",
          "pattern": {
           "shape": ""
          }
         },
         "name": "model",
         "offsetgroup": "model",
         "orientation": "h",
         "showlegend": false,
         "textposition": "auto",
         "type": "bar",
         "x": [
          0.07948382270432018,
          0.015709743781559753,
          0.21488685244062092,
          0.27894146250233776,
          0.3997568730129044,
          0.0032728632878249488,
          0.006919768094258463,
          0.0010286141761735553
         ],
         "xaxis": "x4",
         "y": [
          "1: walk",
          "2: bike",
          "3: sov",
          "4: hov 2",
          "5: hov 3+",
          "6: transit",
          "8: school bus",
          "9: tnc"
         ],
         "yaxis": "y4"
        },
        {
         "alignmentgroup": "True",
         "customdata": [
          [
           84
          ],
          [
           12
          ],
          [
           101
          ],
          [
           191
          ],
          [
           361
          ],
          [
           2
          ],
          [
           5
          ]
         ],
         "hovertemplate": "source=model<br>hhcu5=4.0<br>percentage=%{x}<br>mode_label=%{y}<br>sample count=%{customdata[0]}<extra></extra>",
         "legendgroup": "model",
         "marker": {
          "color": "#91268F",
          "pattern": {
           "shape": ""
          }
         },
         "name": "model",
         "offsetgroup": "model",
         "orientation": "h",
         "showlegend": false,
         "textposition": "auto",
         "type": "bar",
         "x": [
          0.1111111111111111,
          0.015873015873015872,
          0.1335978835978836,
          0.2526455026455027,
          0.4775132275132275,
          0.0026455026455026454,
          0.006613756613756613
         ],
         "xaxis": "x",
         "y": [
          "1: walk",
          "2: bike",
          "3: sov",
          "4: hov 2",
          "5: hov 3+",
          "6: transit",
          "8: school bus"
         ],
         "yaxis": "y"
        },
        {
         "alignmentgroup": "True",
         "customdata": [
          [
           11
          ],
          [
           1
          ],
          [
           33
          ],
          [
           27
          ],
          [
           69
          ],
          [
           2
          ]
         ],
         "hovertemplate": "source=model<br>hhcu5=5.0<br>percentage=%{x}<br>mode_label=%{y}<br>sample count=%{customdata[0]}<extra></extra>",
         "legendgroup": "model",
         "marker": {
          "color": "#91268F",
          "pattern": {
           "shape": ""
          }
         },
         "name": "model",
         "offsetgroup": "model",
         "orientation": "h",
         "showlegend": false,
         "textposition": "auto",
         "type": "bar",
         "x": [
          0.07692307692307693,
          0.006993006993006993,
          0.23076923076923078,
          0.1888111888111888,
          0.4825174825174825,
          0.013986013986013986
         ],
         "xaxis": "x2",
         "y": [
          "1: walk",
          "2: bike",
          "3: sov",
          "4: hov 2",
          "5: hov 3+",
          "8: school bus"
         ],
         "yaxis": "y2"
        },
        {
         "alignmentgroup": "True",
         "customdata": [
          [
           88
          ],
          [
           12
          ],
          [
           295
          ],
          [
           395
          ],
          [
           211
          ],
          [
           4
          ],
          [
           2
          ]
         ],
         "hovertemplate": "source=survey<br>hhcu5=0.0<br>percentage=%{x}<br>mode_label=%{y}<br>sample count=%{customdata[0]}<extra></extra>",
         "legendgroup": "survey",
         "marker": {
          "color": "#8CC63E",
          "pattern": {
           "shape": ""
          }
         },
         "name": "survey",
         "offsetgroup": "survey",
         "orientation": "h",
         "showlegend": true,
         "textposition": "auto",
         "type": "bar",
         "x": [
          0.06657942883705135,
          0.002077568894229694,
          0.2772370069735943,
          0.3703227562308161,
          0.28349932191831656,
          0.00023431372300616431,
          4.9603422985741796e-05
         ],
         "xaxis": "x5",
         "y": [
          "1: walk",
          "2: bike",
          "3: sov",
          "4: hov 2",
          "5: hov 3+",
          "6: transit",
          "8: school bus"
         ],
         "yaxis": "y5"
        },
        {
         "alignmentgroup": "True",
         "customdata": [
          [
           42
          ],
          [
           12
          ],
          [
           54
          ],
          [
           88
          ],
          [
           127
          ],
          [
           1
          ],
          [
           1
          ]
         ],
         "hovertemplate": "source=survey<br>hhcu5=1.0<br>percentage=%{x}<br>mode_label=%{y}<br>sample count=%{customdata[0]}<extra></extra>",
         "legendgroup": "survey",
         "marker": {
          "color": "#8CC63E",
          "pattern": {
           "shape": ""
          }
         },
         "name": "survey",
         "offsetgroup": "survey",
         "orientation": "h",
         "showlegend": false,
         "textposition": "auto",
         "type": "bar",
         "x": [
          0.05320669514350364,
          0.0016164845356066411,
          0.2123381497117164,
          0.28383129064559065,
          0.4479871840249402,
          0.0005466849787334337,
          0.00047351095990916746
         ],
         "xaxis": "x6",
         "y": [
          "1: walk",
          "2: bike",
          "3: sov",
          "4: hov 2",
          "5: hov 3+",
          "6: transit",
          "8: school bus"
         ],
         "yaxis": "y6"
        },
        {
         "alignmentgroup": "True",
         "customdata": [
          [
           8
          ],
          [
           8
          ],
          [
           27
          ],
          [
           53
          ]
         ],
         "hovertemplate": "source=survey<br>hhcu5=2.0<br>percentage=%{x}<br>mode_label=%{y}<br>sample count=%{customdata[0]}<extra></extra>",
         "legendgroup": "survey",
         "marker": {
          "color": "#8CC63E",
          "pattern": {
           "shape": ""
          }
         },
         "name": "survey",
         "offsetgroup": "survey",
         "orientation": "h",
         "showlegend": false,
         "textposition": "auto",
         "type": "bar",
         "x": [
          0.00776741213189574,
          0.21612918490197197,
          0.34839033573213646,
          0.42771306723399577
         ],
         "xaxis": "x3",
         "y": [
          "1: walk",
          "3: sov",
          "4: hov 2",
          "5: hov 3+"
         ],
         "yaxis": "y3"
        },
        {
         "alignmentgroup": "True",
         "customdata": [
          [
           1
          ],
          [
           22
          ]
         ],
         "hovertemplate": "source=survey<br>hhcu5=3.0<br>percentage=%{x}<br>mode_label=%{y}<br>sample count=%{customdata[0]}<extra></extra>",
         "legendgroup": "survey",
         "marker": {
          "color": "#8CC63E",
          "pattern": {
           "shape": ""
          }
         },
         "name": "survey",
         "offsetgroup": "survey",
         "orientation": "h",
         "showlegend": false,
         "textposition": "auto",
         "type": "bar",
         "x": [
          0.046608406158967934,
          0.9533915938410321
         ],
         "xaxis": "x4",
         "y": [
          "3: sov",
          "5: hov 3+"
         ],
         "yaxis": "y4"
        }
       ],
       "layout": {
        "annotations": [
         {
          "font": {},
          "showarrow": false,
          "text": "4.0",
          "x": 0.245,
          "xanchor": "center",
          "xref": "paper",
          "y": 0.2866666666666666,
          "yanchor": "bottom",
          "yref": "paper"
         },
         {
          "font": {},
          "showarrow": false,
          "text": "5.0",
          "x": 0.755,
          "xanchor": "center",
          "xref": "paper",
          "y": 0.2866666666666666,
          "yanchor": "bottom",
          "yref": "paper"
         },
         {
          "font": {},
          "showarrow": false,
          "text": "2.0",
          "x": 0.245,
          "xanchor": "center",
          "xref": "paper",
          "y": 0.6433333333333333,
          "yanchor": "bottom",
          "yref": "paper"
         },
         {
          "font": {},
          "showarrow": false,
          "text": "3.0",
          "x": 0.755,
          "xanchor": "center",
          "xref": "paper",
          "y": 0.6433333333333333,
          "yanchor": "bottom",
          "yref": "paper"
         },
         {
          "font": {},
          "showarrow": false,
          "text": "0.0",
          "x": 0.245,
          "xanchor": "center",
          "xref": "paper",
          "y": 0.9999999999999999,
          "yanchor": "bottom",
          "yref": "paper"
         },
         {
          "font": {},
          "showarrow": false,
          "text": "1.0",
          "x": 0.755,
          "xanchor": "center",
          "xref": "paper",
          "y": 0.9999999999999999,
          "yanchor": "bottom",
          "yref": "paper"
         }
        ],
        "barmode": "group",
        "height": 800,
        "legend": {
         "title": {
          "text": "source"
         },
         "tracegroupgap": 0
        },
        "template": {
         "data": {
          "bar": [
           {
            "error_x": {
             "color": "rgb(36,36,36)"
            },
            "error_y": {
             "color": "rgb(36,36,36)"
            },
            "marker": {
             "line": {
              "color": "white",
              "width": 0.5
             },
             "pattern": {
              "fillmode": "overlay",
              "size": 10,
              "solidity": 0.2
             }
            },
            "type": "bar"
           }
          ],
          "barpolar": [
           {
            "marker": {
             "line": {
              "color": "white",
              "width": 0.5
             },
             "pattern": {
              "fillmode": "overlay",
              "size": 10,
              "solidity": 0.2
             }
            },
            "type": "barpolar"
           }
          ],
          "carpet": [
           {
            "aaxis": {
             "endlinecolor": "rgb(36,36,36)",
             "gridcolor": "white",
             "linecolor": "white",
             "minorgridcolor": "white",
             "startlinecolor": "rgb(36,36,36)"
            },
            "baxis": {
             "endlinecolor": "rgb(36,36,36)",
             "gridcolor": "white",
             "linecolor": "white",
             "minorgridcolor": "white",
             "startlinecolor": "rgb(36,36,36)"
            },
            "type": "carpet"
           }
          ],
          "choropleth": [
           {
            "colorbar": {
             "outlinewidth": 1,
             "tickcolor": "rgb(36,36,36)",
             "ticks": "outside"
            },
            "type": "choropleth"
           }
          ],
          "contour": [
           {
            "colorbar": {
             "outlinewidth": 1,
             "tickcolor": "rgb(36,36,36)",
             "ticks": "outside"
            },
            "colorscale": [
             [
              0.0,
              "#440154"
             ],
             [
              0.1111111111111111,
              "#482878"
             ],
             [
              0.2222222222222222,
              "#3e4989"
             ],
             [
              0.3333333333333333,
              "#31688e"
             ],
             [
              0.4444444444444444,
              "#26828e"
             ],
             [
              0.5555555555555556,
              "#1f9e89"
             ],
             [
              0.6666666666666666,
              "#35b779"
             ],
             [
              0.7777777777777778,
              "#6ece58"
             ],
             [
              0.8888888888888888,
              "#b5de2b"
             ],
             [
              1.0,
              "#fde725"
             ]
            ],
            "type": "contour"
           }
          ],
          "contourcarpet": [
           {
            "colorbar": {
             "outlinewidth": 1,
             "tickcolor": "rgb(36,36,36)",
             "ticks": "outside"
            },
            "type": "contourcarpet"
           }
          ],
          "heatmap": [
           {
            "colorbar": {
             "outlinewidth": 1,
             "tickcolor": "rgb(36,36,36)",
             "ticks": "outside"
            },
            "colorscale": [
             [
              0.0,
              "#440154"
             ],
             [
              0.1111111111111111,
              "#482878"
             ],
             [
              0.2222222222222222,
              "#3e4989"
             ],
             [
              0.3333333333333333,
              "#31688e"
             ],
             [
              0.4444444444444444,
              "#26828e"
             ],
             [
              0.5555555555555556,
              "#1f9e89"
             ],
             [
              0.6666666666666666,
              "#35b779"
             ],
             [
              0.7777777777777778,
              "#6ece58"
             ],
             [
              0.8888888888888888,
              "#b5de2b"
             ],
             [
              1.0,
              "#fde725"
             ]
            ],
            "type": "heatmap"
           }
          ],
          "heatmapgl": [
           {
            "colorbar": {
             "outlinewidth": 1,
             "tickcolor": "rgb(36,36,36)",
             "ticks": "outside"
            },
            "colorscale": [
             [
              0.0,
              "#440154"
             ],
             [
              0.1111111111111111,
              "#482878"
             ],
             [
              0.2222222222222222,
              "#3e4989"
             ],
             [
              0.3333333333333333,
              "#31688e"
             ],
             [
              0.4444444444444444,
              "#26828e"
             ],
             [
              0.5555555555555556,
              "#1f9e89"
             ],
             [
              0.6666666666666666,
              "#35b779"
             ],
             [
              0.7777777777777778,
              "#6ece58"
             ],
             [
              0.8888888888888888,
              "#b5de2b"
             ],
             [
              1.0,
              "#fde725"
             ]
            ],
            "type": "heatmapgl"
           }
          ],
          "histogram": [
           {
            "marker": {
             "line": {
              "color": "white",
              "width": 0.6
             }
            },
            "type": "histogram"
           }
          ],
          "histogram2d": [
           {
            "colorbar": {
             "outlinewidth": 1,
             "tickcolor": "rgb(36,36,36)",
             "ticks": "outside"
            },
            "colorscale": [
             [
              0.0,
              "#440154"
             ],
             [
              0.1111111111111111,
              "#482878"
             ],
             [
              0.2222222222222222,
              "#3e4989"
             ],
             [
              0.3333333333333333,
              "#31688e"
             ],
             [
              0.4444444444444444,
              "#26828e"
             ],
             [
              0.5555555555555556,
              "#1f9e89"
             ],
             [
              0.6666666666666666,
              "#35b779"
             ],
             [
              0.7777777777777778,
              "#6ece58"
             ],
             [
              0.8888888888888888,
              "#b5de2b"
             ],
             [
              1.0,
              "#fde725"
             ]
            ],
            "type": "histogram2d"
           }
          ],
          "histogram2dcontour": [
           {
            "colorbar": {
             "outlinewidth": 1,
             "tickcolor": "rgb(36,36,36)",
             "ticks": "outside"
            },
            "colorscale": [
             [
              0.0,
              "#440154"
             ],
             [
              0.1111111111111111,
              "#482878"
             ],
             [
              0.2222222222222222,
              "#3e4989"
             ],
             [
              0.3333333333333333,
              "#31688e"
             ],
             [
              0.4444444444444444,
              "#26828e"
             ],
             [
              0.5555555555555556,
              "#1f9e89"
             ],
             [
              0.6666666666666666,
              "#35b779"
             ],
             [
              0.7777777777777778,
              "#6ece58"
             ],
             [
              0.8888888888888888,
              "#b5de2b"
             ],
             [
              1.0,
              "#fde725"
             ]
            ],
            "type": "histogram2dcontour"
           }
          ],
          "mesh3d": [
           {
            "colorbar": {
             "outlinewidth": 1,
             "tickcolor": "rgb(36,36,36)",
             "ticks": "outside"
            },
            "type": "mesh3d"
           }
          ],
          "parcoords": [
           {
            "line": {
             "colorbar": {
              "outlinewidth": 1,
              "tickcolor": "rgb(36,36,36)",
              "ticks": "outside"
             }
            },
            "type": "parcoords"
           }
          ],
          "pie": [
           {
            "automargin": true,
            "type": "pie"
           }
          ],
          "scatter": [
           {
            "fillpattern": {
             "fillmode": "overlay",
             "size": 10,
             "solidity": 0.2
            },
            "type": "scatter"
           }
          ],
          "scatter3d": [
           {
            "line": {
             "colorbar": {
              "outlinewidth": 1,
              "tickcolor": "rgb(36,36,36)",
              "ticks": "outside"
             }
            },
            "marker": {
             "colorbar": {
              "outlinewidth": 1,
              "tickcolor": "rgb(36,36,36)",
              "ticks": "outside"
             }
            },
            "type": "scatter3d"
           }
          ],
          "scattercarpet": [
           {
            "marker": {
             "colorbar": {
              "outlinewidth": 1,
              "tickcolor": "rgb(36,36,36)",
              "ticks": "outside"
             }
            },
            "type": "scattercarpet"
           }
          ],
          "scattergeo": [
           {
            "marker": {
             "colorbar": {
              "outlinewidth": 1,
              "tickcolor": "rgb(36,36,36)",
              "ticks": "outside"
             }
            },
            "type": "scattergeo"
           }
          ],
          "scattergl": [
           {
            "marker": {
             "colorbar": {
              "outlinewidth": 1,
              "tickcolor": "rgb(36,36,36)",
              "ticks": "outside"
             }
            },
            "type": "scattergl"
           }
          ],
          "scattermapbox": [
           {
            "marker": {
             "colorbar": {
              "outlinewidth": 1,
              "tickcolor": "rgb(36,36,36)",
              "ticks": "outside"
             }
            },
            "type": "scattermapbox"
           }
          ],
          "scatterpolar": [
           {
            "marker": {
             "colorbar": {
              "outlinewidth": 1,
              "tickcolor": "rgb(36,36,36)",
              "ticks": "outside"
             }
            },
            "type": "scatterpolar"
           }
          ],
          "scatterpolargl": [
           {
            "marker": {
             "colorbar": {
              "outlinewidth": 1,
              "tickcolor": "rgb(36,36,36)",
              "ticks": "outside"
             }
            },
            "type": "scatterpolargl"
           }
          ],
          "scatterternary": [
           {
            "marker": {
             "colorbar": {
              "outlinewidth": 1,
              "tickcolor": "rgb(36,36,36)",
              "ticks": "outside"
             }
            },
            "type": "scatterternary"
           }
          ],
          "surface": [
           {
            "colorbar": {
             "outlinewidth": 1,
             "tickcolor": "rgb(36,36,36)",
             "ticks": "outside"
            },
            "colorscale": [
             [
              0.0,
              "#440154"
             ],
             [
              0.1111111111111111,
              "#482878"
             ],
             [
              0.2222222222222222,
              "#3e4989"
             ],
             [
              0.3333333333333333,
              "#31688e"
             ],
             [
              0.4444444444444444,
              "#26828e"
             ],
             [
              0.5555555555555556,
              "#1f9e89"
             ],
             [
              0.6666666666666666,
              "#35b779"
             ],
             [
              0.7777777777777778,
              "#6ece58"
             ],
             [
              0.8888888888888888,
              "#b5de2b"
             ],
             [
              1.0,
              "#fde725"
             ]
            ],
            "type": "surface"
           }
          ],
          "table": [
           {
            "cells": {
             "fill": {
              "color": "rgb(237,237,237)"
             },
             "line": {
              "color": "white"
             }
            },
            "header": {
             "fill": {
              "color": "rgb(217,217,217)"
             },
             "line": {
              "color": "white"
             }
            },
            "type": "table"
           }
          ]
         },
         "layout": {
          "annotationdefaults": {
           "arrowhead": 0,
           "arrowwidth": 1
          },
          "autotypenumbers": "strict",
          "coloraxis": {
           "colorbar": {
            "outlinewidth": 1,
            "tickcolor": "rgb(36,36,36)",
            "ticks": "outside"
           }
          },
          "colorscale": {
           "diverging": [
            [
             0.0,
             "rgb(103,0,31)"
            ],
            [
             0.1,
             "rgb(178,24,43)"
            ],
            [
             0.2,
             "rgb(214,96,77)"
            ],
            [
             0.3,
             "rgb(244,165,130)"
            ],
            [
             0.4,
             "rgb(253,219,199)"
            ],
            [
             0.5,
             "rgb(247,247,247)"
            ],
            [
             0.6,
             "rgb(209,229,240)"
            ],
            [
             0.7,
             "rgb(146,197,222)"
            ],
            [
             0.8,
             "rgb(67,147,195)"
            ],
            [
             0.9,
             "rgb(33,102,172)"
            ],
            [
             1.0,
             "rgb(5,48,97)"
            ]
           ],
           "sequential": [
            [
             0.0,
             "#440154"
            ],
            [
             0.1111111111111111,
             "#482878"
            ],
            [
             0.2222222222222222,
             "#3e4989"
            ],
            [
             0.3333333333333333,
             "#31688e"
            ],
            [
             0.4444444444444444,
             "#26828e"
            ],
            [
             0.5555555555555556,
             "#1f9e89"
            ],
            [
             0.6666666666666666,
             "#35b779"
            ],
            [
             0.7777777777777778,
             "#6ece58"
            ],
            [
             0.8888888888888888,
             "#b5de2b"
            ],
            [
             1.0,
             "#fde725"
            ]
           ],
           "sequentialminus": [
            [
             0.0,
             "#440154"
            ],
            [
             0.1111111111111111,
             "#482878"
            ],
            [
             0.2222222222222222,
             "#3e4989"
            ],
            [
             0.3333333333333333,
             "#31688e"
            ],
            [
             0.4444444444444444,
             "#26828e"
            ],
            [
             0.5555555555555556,
             "#1f9e89"
            ],
            [
             0.6666666666666666,
             "#35b779"
            ],
            [
             0.7777777777777778,
             "#6ece58"
            ],
            [
             0.8888888888888888,
             "#b5de2b"
            ],
            [
             1.0,
             "#fde725"
            ]
           ]
          },
          "colorway": [
           "#91268F",
           "#8CC63E",
           "#00A7A0",
           "#F05A28",
           "#4C4C4C",
           "#630460",
           "#9f3913",
           "#588527",
           "#00716c",
           "#3e4040"
          ],
          "font": {
           "color": "rgb(36,36,36)",
           "family": "Poppins",
           "size": 11
          },
          "geo": {
           "bgcolor": "white",
           "lakecolor": "white",
           "landcolor": "white",
           "showlakes": true,
           "showland": true,
           "subunitcolor": "white"
          },
          "hoverlabel": {
           "align": "left"
          },
          "hovermode": "closest",
          "mapbox": {
           "style": "light"
          },
          "paper_bgcolor": "white",
          "plot_bgcolor": "white",
          "polar": {
           "angularaxis": {
            "gridcolor": "rgb(232,232,232)",
            "linecolor": "rgb(36,36,36)",
            "showgrid": false,
            "showline": true,
            "ticks": "outside"
           },
           "bgcolor": "white",
           "radialaxis": {
            "gridcolor": "rgb(232,232,232)",
            "linecolor": "rgb(36,36,36)",
            "showgrid": false,
            "showline": true,
            "ticks": "outside"
           }
          },
          "scene": {
           "xaxis": {
            "backgroundcolor": "white",
            "gridcolor": "rgb(232,232,232)",
            "gridwidth": 2,
            "linecolor": "rgb(36,36,36)",
            "showbackground": true,
            "showgrid": false,
            "showline": true,
            "ticks": "outside",
            "zeroline": false,
            "zerolinecolor": "rgb(36,36,36)"
           },
           "yaxis": {
            "backgroundcolor": "white",
            "gridcolor": "rgb(232,232,232)",
            "gridwidth": 2,
            "linecolor": "rgb(36,36,36)",
            "showbackground": true,
            "showgrid": false,
            "showline": true,
            "ticks": "outside",
            "zeroline": false,
            "zerolinecolor": "rgb(36,36,36)"
           },
           "zaxis": {
            "backgroundcolor": "white",
            "gridcolor": "rgb(232,232,232)",
            "gridwidth": 2,
            "linecolor": "rgb(36,36,36)",
            "showbackground": true,
            "showgrid": false,
            "showline": true,
            "ticks": "outside",
            "zeroline": false,
            "zerolinecolor": "rgb(36,36,36)"
           }
          },
          "shapedefaults": {
           "fillcolor": "black",
           "line": {
            "width": 0
           },
           "opacity": 0.3
          },
          "ternary": {
           "aaxis": {
            "gridcolor": "rgb(232,232,232)",
            "linecolor": "rgb(36,36,36)",
            "showgrid": false,
            "showline": true,
            "ticks": "outside"
           },
           "baxis": {
            "gridcolor": "rgb(232,232,232)",
            "linecolor": "rgb(36,36,36)",
            "showgrid": false,
            "showline": true,
            "ticks": "outside"
           },
           "bgcolor": "white",
           "caxis": {
            "gridcolor": "rgb(232,232,232)",
            "linecolor": "rgb(36,36,36)",
            "showgrid": false,
            "showline": true,
            "ticks": "outside"
           }
          },
          "title": {
           "x": 0.05
          },
          "xaxis": {
           "automargin": true,
           "gridcolor": "rgb(232,232,232)",
           "linecolor": "rgb(36,36,36)",
           "showgrid": false,
           "showline": true,
           "ticks": "outside",
           "title": {
            "standoff": 15
           },
           "zeroline": false,
           "zerolinecolor": "rgb(36,36,36)"
          },
          "yaxis": {
           "automargin": true,
           "gridcolor": "rgb(232,232,232)",
           "linecolor": "rgb(36,36,36)",
           "showgrid": false,
           "showline": true,
           "ticks": "outside",
           "title": {
            "standoff": 15
           },
           "zeroline": false,
           "zerolinecolor": "rgb(36,36,36)"
          }
         }
        },
        "title": {
         "text": "escort trip mode choice by HH with Children Under 5"
        },
        "width": 800,
        "xaxis": {
         "anchor": "y",
         "domain": [
          0.0,
          0.49
         ],
         "tickformat": ".1%",
         "title": {
          "text": "percentage"
         }
        },
        "xaxis2": {
         "anchor": "y2",
         "domain": [
          0.51,
          1.0
         ],
         "matches": "x",
         "tickformat": ".1%",
         "title": {
          "text": "percentage"
         }
        },
        "xaxis3": {
         "anchor": "y3",
         "domain": [
          0.0,
          0.49
         ],
         "matches": "x",
         "showticklabels": false,
         "tickformat": ".1%"
        },
        "xaxis4": {
         "anchor": "y4",
         "domain": [
          0.51,
          1.0
         ],
         "matches": "x",
         "showticklabels": false,
         "tickformat": ".1%"
        },
        "xaxis5": {
         "anchor": "y5",
         "domain": [
          0.0,
          0.49
         ],
         "matches": "x",
         "showticklabels": false,
         "tickformat": ".1%"
        },
        "xaxis6": {
         "anchor": "y6",
         "domain": [
          0.51,
          1.0
         ],
         "matches": "x",
         "showticklabels": false,
         "tickformat": ".1%"
        },
        "yaxis": {
         "anchor": "x",
         "categoryarray": [
          "9: other–survey only",
          "8: school bus",
          "6: transit",
          "5: hov 3+",
          "4: hov 2",
          "3: sov",
          "2: bike",
          "1: walk"
         ],
         "categoryorder": "array",
         "domain": [
          0.0,
          0.2866666666666666
         ],
         "title": {
          "text": "mode_label"
         }
        },
        "yaxis2": {
         "anchor": "x2",
         "domain": [
          0.0,
          0.2866666666666666
         ],
         "matches": "y",
         "showticklabels": false
        },
        "yaxis3": {
         "anchor": "x3",
         "categoryarray": [
          "9: other–survey only",
          "8: school bus",
          "6: transit",
          "5: hov 3+",
          "4: hov 2",
          "3: sov",
          "2: bike",
          "1: walk"
         ],
         "categoryorder": "array",
         "domain": [
          0.35666666666666663,
          0.6433333333333333
         ],
         "matches": "y",
         "title": {
          "text": "mode_label"
         }
        },
        "yaxis4": {
         "anchor": "x4",
         "domain": [
          0.35666666666666663,
          0.6433333333333333
         ],
         "matches": "y",
         "showticklabels": false
        },
        "yaxis5": {
         "anchor": "x5",
         "categoryarray": [
          "9: other–survey only",
          "8: school bus",
          "6: transit",
          "5: hov 3+",
          "4: hov 2",
          "3: sov",
          "2: bike",
          "1: walk"
         ],
         "categoryorder": "array",
         "domain": [
          0.7133333333333333,
          0.9999999999999999
         ],
         "matches": "y",
         "title": {
          "text": "mode_label"
         }
        },
        "yaxis6": {
         "anchor": "x6",
         "domain": [
          0.7133333333333333,
          0.9999999999999999
         ],
         "matches": "y",
         "showticklabels": false
        }
       }
      },
      "text/html": [
       "<div>                            <div id=\"628e3e47-9f5f-407e-bc86-7b2fad4064c7\" class=\"plotly-graph-div\" style=\"height:800px; width:800px;\"></div>            <script type=\"text/javascript\">                require([\"plotly\"], function(Plotly) {                    window.PLOTLYENV=window.PLOTLYENV || {};                                    if (document.getElementById(\"628e3e47-9f5f-407e-bc86-7b2fad4064c7\")) {                    Plotly.newPlot(                        \"628e3e47-9f5f-407e-bc86-7b2fad4064c7\",                        [{\"alignmentgroup\":\"True\",\"customdata\":[[125955],[15561],[428669],[338102],[249193],[7489],[13422],[1635]],\"hovertemplate\":\"source=model\\u003cbr\\u003ehhcu5=0.0\\u003cbr\\u003epercentage=%{x}\\u003cbr\\u003emode_label=%{y}\\u003cbr\\u003esample count=%{customdata[0]}\\u003cextra\\u003e\\u003c\\u002fextra\\u003e\",\"legendgroup\":\"model\",\"marker\":{\"color\":\"#91268F\",\"pattern\":{\"shape\":\"\"}},\"name\":\"model\",\"offsetgroup\":\"model\",\"orientation\":\"h\",\"showlegend\":true,\"textposition\":\"auto\",\"x\":[0.10673917354363378,0.01318699757462971,0.36327080928725297,0.2865208054737777,0.21117585544725287,0.006346470332009634,0.01137432565045177,0.0013855626909915545],\"xaxis\":\"x5\",\"y\":[\"1: walk\",\"2: bike\",\"3: sov\",\"4: hov 2\",\"5: hov 3+\",\"6: transit\",\"8: school bus\",\"9: tnc\"],\"yaxis\":\"y5\",\"type\":\"bar\"},{\"alignmentgroup\":\"True\",\"customdata\":[[32870],[4772],[100146],[107214],[106965],[1308],[3382],[264]],\"hovertemplate\":\"source=model\\u003cbr\\u003ehhcu5=1.0\\u003cbr\\u003epercentage=%{x}\\u003cbr\\u003emode_label=%{y}\\u003cbr\\u003esample count=%{customdata[0]}\\u003cextra\\u003e\\u003c\\u002fextra\\u003e\",\"legendgroup\":\"model\",\"marker\":{\"color\":\"#91268F\",\"pattern\":{\"shape\":\"\"}},\"name\":\"model\",\"offsetgroup\":\"model\",\"orientation\":\"h\",\"showlegend\":false,\"textposition\":\"auto\",\"x\":[0.09209320830099658,0.013369905385225303,0.28058309822061467,0.300385799658748,0.29968816628889866,0.0036646764970399612,0.009475486172010052,0.0007396594764667812],\"xaxis\":\"x6\",\"y\":[\"1: walk\",\"2: bike\",\"3: sov\",\"4: hov 2\",\"5: hov 3+\",\"6: transit\",\"8: school bus\",\"9: tnc\"],\"yaxis\":\"y6\",\"type\":\"bar\"},{\"alignmentgroup\":\"True\",\"customdata\":[[9152],[1549],[25858],[32239],[38246],[360],[679],[66]],\"hovertemplate\":\"source=model\\u003cbr\\u003ehhcu5=2.0\\u003cbr\\u003epercentage=%{x}\\u003cbr\\u003emode_label=%{y}\\u003cbr\\u003esample count=%{customdata[0]}\\u003cextra\\u003e\\u003c\\u002fextra\\u003e\",\"legendgroup\":\"model\",\"marker\":{\"color\":\"#91268F\",\"pattern\":{\"shape\":\"\"}},\"name\":\"model\",\"offsetgroup\":\"model\",\"orientation\":\"h\",\"showlegend\":false,\"textposition\":\"auto\",\"x\":[0.08462399097541355,0.014322832388648994,0.2390960619145808,0.29809799443360546,0.35364173501373103,0.0033287409037531554,0.006278375204578868,0.0006102691656880785],\"xaxis\":\"x3\",\"y\":[\"1: walk\",\"2: bike\",\"3: sov\",\"4: hov 2\",\"5: hov 3+\",\"6: transit\",\"8: school bus\",\"9: tnc\"],\"yaxis\":\"y3\",\"type\":\"bar\"},{\"alignmentgroup\":\"True\",\"customdata\":[[850],[168],[2298],[2983],[4275],[35],[74],[11]],\"hovertemplate\":\"source=model\\u003cbr\\u003ehhcu5=3.0\\u003cbr\\u003epercentage=%{x}\\u003cbr\\u003emode_label=%{y}\\u003cbr\\u003esample count=%{customdata[0]}\\u003cextra\\u003e\\u003c\\u002fextra\\u003e\",\"legendgroup\":\"model\",\"marker\":{\"color\":\"#91268F\",\"pattern\":{\"shape\":\"\"}},\"name\":\"model\",\"offsetgroup\":\"model\",\"orientation\":\"h\",\"showlegend\":false,\"textposition\":\"auto\",\"x\":[0.07948382270432018,0.015709743781559753,0.21488685244062092,0.27894146250233776,0.3997568730129044,0.0032728632878249488,0.006919768094258463,0.0010286141761735553],\"xaxis\":\"x4\",\"y\":[\"1: walk\",\"2: bike\",\"3: sov\",\"4: hov 2\",\"5: hov 3+\",\"6: transit\",\"8: school bus\",\"9: tnc\"],\"yaxis\":\"y4\",\"type\":\"bar\"},{\"alignmentgroup\":\"True\",\"customdata\":[[84],[12],[101],[191],[361],[2],[5]],\"hovertemplate\":\"source=model\\u003cbr\\u003ehhcu5=4.0\\u003cbr\\u003epercentage=%{x}\\u003cbr\\u003emode_label=%{y}\\u003cbr\\u003esample count=%{customdata[0]}\\u003cextra\\u003e\\u003c\\u002fextra\\u003e\",\"legendgroup\":\"model\",\"marker\":{\"color\":\"#91268F\",\"pattern\":{\"shape\":\"\"}},\"name\":\"model\",\"offsetgroup\":\"model\",\"orientation\":\"h\",\"showlegend\":false,\"textposition\":\"auto\",\"x\":[0.1111111111111111,0.015873015873015872,0.1335978835978836,0.2526455026455027,0.4775132275132275,0.0026455026455026454,0.006613756613756613],\"xaxis\":\"x\",\"y\":[\"1: walk\",\"2: bike\",\"3: sov\",\"4: hov 2\",\"5: hov 3+\",\"6: transit\",\"8: school bus\"],\"yaxis\":\"y\",\"type\":\"bar\"},{\"alignmentgroup\":\"True\",\"customdata\":[[11],[1],[33],[27],[69],[2]],\"hovertemplate\":\"source=model\\u003cbr\\u003ehhcu5=5.0\\u003cbr\\u003epercentage=%{x}\\u003cbr\\u003emode_label=%{y}\\u003cbr\\u003esample count=%{customdata[0]}\\u003cextra\\u003e\\u003c\\u002fextra\\u003e\",\"legendgroup\":\"model\",\"marker\":{\"color\":\"#91268F\",\"pattern\":{\"shape\":\"\"}},\"name\":\"model\",\"offsetgroup\":\"model\",\"orientation\":\"h\",\"showlegend\":false,\"textposition\":\"auto\",\"x\":[0.07692307692307693,0.006993006993006993,0.23076923076923078,0.1888111888111888,0.4825174825174825,0.013986013986013986],\"xaxis\":\"x2\",\"y\":[\"1: walk\",\"2: bike\",\"3: sov\",\"4: hov 2\",\"5: hov 3+\",\"8: school bus\"],\"yaxis\":\"y2\",\"type\":\"bar\"},{\"alignmentgroup\":\"True\",\"customdata\":[[88],[12],[295],[395],[211],[4],[2]],\"hovertemplate\":\"source=survey\\u003cbr\\u003ehhcu5=0.0\\u003cbr\\u003epercentage=%{x}\\u003cbr\\u003emode_label=%{y}\\u003cbr\\u003esample count=%{customdata[0]}\\u003cextra\\u003e\\u003c\\u002fextra\\u003e\",\"legendgroup\":\"survey\",\"marker\":{\"color\":\"#8CC63E\",\"pattern\":{\"shape\":\"\"}},\"name\":\"survey\",\"offsetgroup\":\"survey\",\"orientation\":\"h\",\"showlegend\":true,\"textposition\":\"auto\",\"x\":[0.06657942883705135,0.002077568894229694,0.2772370069735943,0.3703227562308161,0.28349932191831656,0.00023431372300616431,4.9603422985741796e-05],\"xaxis\":\"x5\",\"y\":[\"1: walk\",\"2: bike\",\"3: sov\",\"4: hov 2\",\"5: hov 3+\",\"6: transit\",\"8: school bus\"],\"yaxis\":\"y5\",\"type\":\"bar\"},{\"alignmentgroup\":\"True\",\"customdata\":[[42],[12],[54],[88],[127],[1],[1]],\"hovertemplate\":\"source=survey\\u003cbr\\u003ehhcu5=1.0\\u003cbr\\u003epercentage=%{x}\\u003cbr\\u003emode_label=%{y}\\u003cbr\\u003esample count=%{customdata[0]}\\u003cextra\\u003e\\u003c\\u002fextra\\u003e\",\"legendgroup\":\"survey\",\"marker\":{\"color\":\"#8CC63E\",\"pattern\":{\"shape\":\"\"}},\"name\":\"survey\",\"offsetgroup\":\"survey\",\"orientation\":\"h\",\"showlegend\":false,\"textposition\":\"auto\",\"x\":[0.05320669514350364,0.0016164845356066411,0.2123381497117164,0.28383129064559065,0.4479871840249402,0.0005466849787334337,0.00047351095990916746],\"xaxis\":\"x6\",\"y\":[\"1: walk\",\"2: bike\",\"3: sov\",\"4: hov 2\",\"5: hov 3+\",\"6: transit\",\"8: school bus\"],\"yaxis\":\"y6\",\"type\":\"bar\"},{\"alignmentgroup\":\"True\",\"customdata\":[[8],[8],[27],[53]],\"hovertemplate\":\"source=survey\\u003cbr\\u003ehhcu5=2.0\\u003cbr\\u003epercentage=%{x}\\u003cbr\\u003emode_label=%{y}\\u003cbr\\u003esample count=%{customdata[0]}\\u003cextra\\u003e\\u003c\\u002fextra\\u003e\",\"legendgroup\":\"survey\",\"marker\":{\"color\":\"#8CC63E\",\"pattern\":{\"shape\":\"\"}},\"name\":\"survey\",\"offsetgroup\":\"survey\",\"orientation\":\"h\",\"showlegend\":false,\"textposition\":\"auto\",\"x\":[0.00776741213189574,0.21612918490197197,0.34839033573213646,0.42771306723399577],\"xaxis\":\"x3\",\"y\":[\"1: walk\",\"3: sov\",\"4: hov 2\",\"5: hov 3+\"],\"yaxis\":\"y3\",\"type\":\"bar\"},{\"alignmentgroup\":\"True\",\"customdata\":[[1],[22]],\"hovertemplate\":\"source=survey\\u003cbr\\u003ehhcu5=3.0\\u003cbr\\u003epercentage=%{x}\\u003cbr\\u003emode_label=%{y}\\u003cbr\\u003esample count=%{customdata[0]}\\u003cextra\\u003e\\u003c\\u002fextra\\u003e\",\"legendgroup\":\"survey\",\"marker\":{\"color\":\"#8CC63E\",\"pattern\":{\"shape\":\"\"}},\"name\":\"survey\",\"offsetgroup\":\"survey\",\"orientation\":\"h\",\"showlegend\":false,\"textposition\":\"auto\",\"x\":[0.046608406158967934,0.9533915938410321],\"xaxis\":\"x4\",\"y\":[\"3: sov\",\"5: hov 3+\"],\"yaxis\":\"y4\",\"type\":\"bar\"}],                        {\"template\":{\"data\":{\"barpolar\":[{\"marker\":{\"line\":{\"color\":\"white\",\"width\":0.5},\"pattern\":{\"fillmode\":\"overlay\",\"size\":10,\"solidity\":0.2}},\"type\":\"barpolar\"}],\"bar\":[{\"error_x\":{\"color\":\"rgb(36,36,36)\"},\"error_y\":{\"color\":\"rgb(36,36,36)\"},\"marker\":{\"line\":{\"color\":\"white\",\"width\":0.5},\"pattern\":{\"fillmode\":\"overlay\",\"size\":10,\"solidity\":0.2}},\"type\":\"bar\"}],\"carpet\":[{\"aaxis\":{\"endlinecolor\":\"rgb(36,36,36)\",\"gridcolor\":\"white\",\"linecolor\":\"white\",\"minorgridcolor\":\"white\",\"startlinecolor\":\"rgb(36,36,36)\"},\"baxis\":{\"endlinecolor\":\"rgb(36,36,36)\",\"gridcolor\":\"white\",\"linecolor\":\"white\",\"minorgridcolor\":\"white\",\"startlinecolor\":\"rgb(36,36,36)\"},\"type\":\"carpet\"}],\"choropleth\":[{\"colorbar\":{\"outlinewidth\":1,\"tickcolor\":\"rgb(36,36,36)\",\"ticks\":\"outside\"},\"type\":\"choropleth\"}],\"contourcarpet\":[{\"colorbar\":{\"outlinewidth\":1,\"tickcolor\":\"rgb(36,36,36)\",\"ticks\":\"outside\"},\"type\":\"contourcarpet\"}],\"contour\":[{\"colorbar\":{\"outlinewidth\":1,\"tickcolor\":\"rgb(36,36,36)\",\"ticks\":\"outside\"},\"colorscale\":[[0.0,\"#440154\"],[0.1111111111111111,\"#482878\"],[0.2222222222222222,\"#3e4989\"],[0.3333333333333333,\"#31688e\"],[0.4444444444444444,\"#26828e\"],[0.5555555555555556,\"#1f9e89\"],[0.6666666666666666,\"#35b779\"],[0.7777777777777778,\"#6ece58\"],[0.8888888888888888,\"#b5de2b\"],[1.0,\"#fde725\"]],\"type\":\"contour\"}],\"heatmapgl\":[{\"colorbar\":{\"outlinewidth\":1,\"tickcolor\":\"rgb(36,36,36)\",\"ticks\":\"outside\"},\"colorscale\":[[0.0,\"#440154\"],[0.1111111111111111,\"#482878\"],[0.2222222222222222,\"#3e4989\"],[0.3333333333333333,\"#31688e\"],[0.4444444444444444,\"#26828e\"],[0.5555555555555556,\"#1f9e89\"],[0.6666666666666666,\"#35b779\"],[0.7777777777777778,\"#6ece58\"],[0.8888888888888888,\"#b5de2b\"],[1.0,\"#fde725\"]],\"type\":\"heatmapgl\"}],\"heatmap\":[{\"colorbar\":{\"outlinewidth\":1,\"tickcolor\":\"rgb(36,36,36)\",\"ticks\":\"outside\"},\"colorscale\":[[0.0,\"#440154\"],[0.1111111111111111,\"#482878\"],[0.2222222222222222,\"#3e4989\"],[0.3333333333333333,\"#31688e\"],[0.4444444444444444,\"#26828e\"],[0.5555555555555556,\"#1f9e89\"],[0.6666666666666666,\"#35b779\"],[0.7777777777777778,\"#6ece58\"],[0.8888888888888888,\"#b5de2b\"],[1.0,\"#fde725\"]],\"type\":\"heatmap\"}],\"histogram2dcontour\":[{\"colorbar\":{\"outlinewidth\":1,\"tickcolor\":\"rgb(36,36,36)\",\"ticks\":\"outside\"},\"colorscale\":[[0.0,\"#440154\"],[0.1111111111111111,\"#482878\"],[0.2222222222222222,\"#3e4989\"],[0.3333333333333333,\"#31688e\"],[0.4444444444444444,\"#26828e\"],[0.5555555555555556,\"#1f9e89\"],[0.6666666666666666,\"#35b779\"],[0.7777777777777778,\"#6ece58\"],[0.8888888888888888,\"#b5de2b\"],[1.0,\"#fde725\"]],\"type\":\"histogram2dcontour\"}],\"histogram2d\":[{\"colorbar\":{\"outlinewidth\":1,\"tickcolor\":\"rgb(36,36,36)\",\"ticks\":\"outside\"},\"colorscale\":[[0.0,\"#440154\"],[0.1111111111111111,\"#482878\"],[0.2222222222222222,\"#3e4989\"],[0.3333333333333333,\"#31688e\"],[0.4444444444444444,\"#26828e\"],[0.5555555555555556,\"#1f9e89\"],[0.6666666666666666,\"#35b779\"],[0.7777777777777778,\"#6ece58\"],[0.8888888888888888,\"#b5de2b\"],[1.0,\"#fde725\"]],\"type\":\"histogram2d\"}],\"histogram\":[{\"marker\":{\"line\":{\"color\":\"white\",\"width\":0.6}},\"type\":\"histogram\"}],\"mesh3d\":[{\"colorbar\":{\"outlinewidth\":1,\"tickcolor\":\"rgb(36,36,36)\",\"ticks\":\"outside\"},\"type\":\"mesh3d\"}],\"parcoords\":[{\"line\":{\"colorbar\":{\"outlinewidth\":1,\"tickcolor\":\"rgb(36,36,36)\",\"ticks\":\"outside\"}},\"type\":\"parcoords\"}],\"pie\":[{\"automargin\":true,\"type\":\"pie\"}],\"scatter3d\":[{\"line\":{\"colorbar\":{\"outlinewidth\":1,\"tickcolor\":\"rgb(36,36,36)\",\"ticks\":\"outside\"}},\"marker\":{\"colorbar\":{\"outlinewidth\":1,\"tickcolor\":\"rgb(36,36,36)\",\"ticks\":\"outside\"}},\"type\":\"scatter3d\"}],\"scattercarpet\":[{\"marker\":{\"colorbar\":{\"outlinewidth\":1,\"tickcolor\":\"rgb(36,36,36)\",\"ticks\":\"outside\"}},\"type\":\"scattercarpet\"}],\"scattergeo\":[{\"marker\":{\"colorbar\":{\"outlinewidth\":1,\"tickcolor\":\"rgb(36,36,36)\",\"ticks\":\"outside\"}},\"type\":\"scattergeo\"}],\"scattergl\":[{\"marker\":{\"colorbar\":{\"outlinewidth\":1,\"tickcolor\":\"rgb(36,36,36)\",\"ticks\":\"outside\"}},\"type\":\"scattergl\"}],\"scattermapbox\":[{\"marker\":{\"colorbar\":{\"outlinewidth\":1,\"tickcolor\":\"rgb(36,36,36)\",\"ticks\":\"outside\"}},\"type\":\"scattermapbox\"}],\"scatterpolargl\":[{\"marker\":{\"colorbar\":{\"outlinewidth\":1,\"tickcolor\":\"rgb(36,36,36)\",\"ticks\":\"outside\"}},\"type\":\"scatterpolargl\"}],\"scatterpolar\":[{\"marker\":{\"colorbar\":{\"outlinewidth\":1,\"tickcolor\":\"rgb(36,36,36)\",\"ticks\":\"outside\"}},\"type\":\"scatterpolar\"}],\"scatter\":[{\"fillpattern\":{\"fillmode\":\"overlay\",\"size\":10,\"solidity\":0.2},\"type\":\"scatter\"}],\"scatterternary\":[{\"marker\":{\"colorbar\":{\"outlinewidth\":1,\"tickcolor\":\"rgb(36,36,36)\",\"ticks\":\"outside\"}},\"type\":\"scatterternary\"}],\"surface\":[{\"colorbar\":{\"outlinewidth\":1,\"tickcolor\":\"rgb(36,36,36)\",\"ticks\":\"outside\"},\"colorscale\":[[0.0,\"#440154\"],[0.1111111111111111,\"#482878\"],[0.2222222222222222,\"#3e4989\"],[0.3333333333333333,\"#31688e\"],[0.4444444444444444,\"#26828e\"],[0.5555555555555556,\"#1f9e89\"],[0.6666666666666666,\"#35b779\"],[0.7777777777777778,\"#6ece58\"],[0.8888888888888888,\"#b5de2b\"],[1.0,\"#fde725\"]],\"type\":\"surface\"}],\"table\":[{\"cells\":{\"fill\":{\"color\":\"rgb(237,237,237)\"},\"line\":{\"color\":\"white\"}},\"header\":{\"fill\":{\"color\":\"rgb(217,217,217)\"},\"line\":{\"color\":\"white\"}},\"type\":\"table\"}]},\"layout\":{\"annotationdefaults\":{\"arrowhead\":0,\"arrowwidth\":1},\"autotypenumbers\":\"strict\",\"coloraxis\":{\"colorbar\":{\"outlinewidth\":1,\"tickcolor\":\"rgb(36,36,36)\",\"ticks\":\"outside\"}},\"colorscale\":{\"diverging\":[[0.0,\"rgb(103,0,31)\"],[0.1,\"rgb(178,24,43)\"],[0.2,\"rgb(214,96,77)\"],[0.3,\"rgb(244,165,130)\"],[0.4,\"rgb(253,219,199)\"],[0.5,\"rgb(247,247,247)\"],[0.6,\"rgb(209,229,240)\"],[0.7,\"rgb(146,197,222)\"],[0.8,\"rgb(67,147,195)\"],[0.9,\"rgb(33,102,172)\"],[1.0,\"rgb(5,48,97)\"]],\"sequential\":[[0.0,\"#440154\"],[0.1111111111111111,\"#482878\"],[0.2222222222222222,\"#3e4989\"],[0.3333333333333333,\"#31688e\"],[0.4444444444444444,\"#26828e\"],[0.5555555555555556,\"#1f9e89\"],[0.6666666666666666,\"#35b779\"],[0.7777777777777778,\"#6ece58\"],[0.8888888888888888,\"#b5de2b\"],[1.0,\"#fde725\"]],\"sequentialminus\":[[0.0,\"#440154\"],[0.1111111111111111,\"#482878\"],[0.2222222222222222,\"#3e4989\"],[0.3333333333333333,\"#31688e\"],[0.4444444444444444,\"#26828e\"],[0.5555555555555556,\"#1f9e89\"],[0.6666666666666666,\"#35b779\"],[0.7777777777777778,\"#6ece58\"],[0.8888888888888888,\"#b5de2b\"],[1.0,\"#fde725\"]]},\"colorway\":[\"#91268F\",\"#8CC63E\",\"#00A7A0\",\"#F05A28\",\"#4C4C4C\",\"#630460\",\"#9f3913\",\"#588527\",\"#00716c\",\"#3e4040\"],\"font\":{\"color\":\"rgb(36,36,36)\",\"family\":\"Poppins\",\"size\":11},\"geo\":{\"bgcolor\":\"white\",\"lakecolor\":\"white\",\"landcolor\":\"white\",\"showlakes\":true,\"showland\":true,\"subunitcolor\":\"white\"},\"hoverlabel\":{\"align\":\"left\"},\"hovermode\":\"closest\",\"mapbox\":{\"style\":\"light\"},\"paper_bgcolor\":\"white\",\"plot_bgcolor\":\"white\",\"polar\":{\"angularaxis\":{\"gridcolor\":\"rgb(232,232,232)\",\"linecolor\":\"rgb(36,36,36)\",\"showgrid\":false,\"showline\":true,\"ticks\":\"outside\"},\"bgcolor\":\"white\",\"radialaxis\":{\"gridcolor\":\"rgb(232,232,232)\",\"linecolor\":\"rgb(36,36,36)\",\"showgrid\":false,\"showline\":true,\"ticks\":\"outside\"}},\"scene\":{\"xaxis\":{\"backgroundcolor\":\"white\",\"gridcolor\":\"rgb(232,232,232)\",\"gridwidth\":2,\"linecolor\":\"rgb(36,36,36)\",\"showbackground\":true,\"showgrid\":false,\"showline\":true,\"ticks\":\"outside\",\"zeroline\":false,\"zerolinecolor\":\"rgb(36,36,36)\"},\"yaxis\":{\"backgroundcolor\":\"white\",\"gridcolor\":\"rgb(232,232,232)\",\"gridwidth\":2,\"linecolor\":\"rgb(36,36,36)\",\"showbackground\":true,\"showgrid\":false,\"showline\":true,\"ticks\":\"outside\",\"zeroline\":false,\"zerolinecolor\":\"rgb(36,36,36)\"},\"zaxis\":{\"backgroundcolor\":\"white\",\"gridcolor\":\"rgb(232,232,232)\",\"gridwidth\":2,\"linecolor\":\"rgb(36,36,36)\",\"showbackground\":true,\"showgrid\":false,\"showline\":true,\"ticks\":\"outside\",\"zeroline\":false,\"zerolinecolor\":\"rgb(36,36,36)\"}},\"shapedefaults\":{\"fillcolor\":\"black\",\"line\":{\"width\":0},\"opacity\":0.3},\"ternary\":{\"aaxis\":{\"gridcolor\":\"rgb(232,232,232)\",\"linecolor\":\"rgb(36,36,36)\",\"showgrid\":false,\"showline\":true,\"ticks\":\"outside\"},\"baxis\":{\"gridcolor\":\"rgb(232,232,232)\",\"linecolor\":\"rgb(36,36,36)\",\"showgrid\":false,\"showline\":true,\"ticks\":\"outside\"},\"bgcolor\":\"white\",\"caxis\":{\"gridcolor\":\"rgb(232,232,232)\",\"linecolor\":\"rgb(36,36,36)\",\"showgrid\":false,\"showline\":true,\"ticks\":\"outside\"}},\"title\":{\"x\":0.05},\"xaxis\":{\"automargin\":true,\"gridcolor\":\"rgb(232,232,232)\",\"linecolor\":\"rgb(36,36,36)\",\"showgrid\":false,\"showline\":true,\"ticks\":\"outside\",\"title\":{\"standoff\":15},\"zeroline\":false,\"zerolinecolor\":\"rgb(36,36,36)\"},\"yaxis\":{\"automargin\":true,\"gridcolor\":\"rgb(232,232,232)\",\"linecolor\":\"rgb(36,36,36)\",\"showgrid\":false,\"showline\":true,\"ticks\":\"outside\",\"title\":{\"standoff\":15},\"zeroline\":false,\"zerolinecolor\":\"rgb(36,36,36)\"}}},\"xaxis\":{\"anchor\":\"y\",\"domain\":[0.0,0.49],\"title\":{\"text\":\"percentage\"},\"tickformat\":\".1%\"},\"yaxis\":{\"anchor\":\"x\",\"domain\":[0.0,0.2866666666666666],\"title\":{\"text\":\"mode_label\"},\"categoryorder\":\"array\",\"categoryarray\":[\"9: other\\u00e2\\u20ac\\u201csurvey only\",\"8: school bus\",\"6: transit\",\"5: hov 3+\",\"4: hov 2\",\"3: sov\",\"2: bike\",\"1: walk\"]},\"xaxis2\":{\"anchor\":\"y2\",\"domain\":[0.51,1.0],\"matches\":\"x\",\"title\":{\"text\":\"percentage\"},\"tickformat\":\".1%\"},\"yaxis2\":{\"anchor\":\"x2\",\"domain\":[0.0,0.2866666666666666],\"matches\":\"y\",\"showticklabels\":false},\"xaxis3\":{\"anchor\":\"y3\",\"domain\":[0.0,0.49],\"matches\":\"x\",\"showticklabels\":false,\"tickformat\":\".1%\"},\"yaxis3\":{\"anchor\":\"x3\",\"domain\":[0.35666666666666663,0.6433333333333333],\"matches\":\"y\",\"title\":{\"text\":\"mode_label\"},\"categoryorder\":\"array\",\"categoryarray\":[\"9: other\\u00e2\\u20ac\\u201csurvey only\",\"8: school bus\",\"6: transit\",\"5: hov 3+\",\"4: hov 2\",\"3: sov\",\"2: bike\",\"1: walk\"]},\"xaxis4\":{\"anchor\":\"y4\",\"domain\":[0.51,1.0],\"matches\":\"x\",\"showticklabels\":false,\"tickformat\":\".1%\"},\"yaxis4\":{\"anchor\":\"x4\",\"domain\":[0.35666666666666663,0.6433333333333333],\"matches\":\"y\",\"showticklabels\":false},\"xaxis5\":{\"anchor\":\"y5\",\"domain\":[0.0,0.49],\"matches\":\"x\",\"showticklabels\":false,\"tickformat\":\".1%\"},\"yaxis5\":{\"anchor\":\"x5\",\"domain\":[0.7133333333333333,0.9999999999999999],\"matches\":\"y\",\"title\":{\"text\":\"mode_label\"},\"categoryorder\":\"array\",\"categoryarray\":[\"9: other\\u00e2\\u20ac\\u201csurvey only\",\"8: school bus\",\"6: transit\",\"5: hov 3+\",\"4: hov 2\",\"3: sov\",\"2: bike\",\"1: walk\"]},\"xaxis6\":{\"anchor\":\"y6\",\"domain\":[0.51,1.0],\"matches\":\"x\",\"showticklabels\":false,\"tickformat\":\".1%\"},\"yaxis6\":{\"anchor\":\"x6\",\"domain\":[0.7133333333333333,0.9999999999999999],\"matches\":\"y\",\"showticklabels\":false},\"annotations\":[{\"font\":{},\"showarrow\":false,\"text\":\"4.0\",\"x\":0.245,\"xanchor\":\"center\",\"xref\":\"paper\",\"y\":0.2866666666666666,\"yanchor\":\"bottom\",\"yref\":\"paper\"},{\"font\":{},\"showarrow\":false,\"text\":\"5.0\",\"x\":0.755,\"xanchor\":\"center\",\"xref\":\"paper\",\"y\":0.2866666666666666,\"yanchor\":\"bottom\",\"yref\":\"paper\"},{\"font\":{},\"showarrow\":false,\"text\":\"2.0\",\"x\":0.245,\"xanchor\":\"center\",\"xref\":\"paper\",\"y\":0.6433333333333333,\"yanchor\":\"bottom\",\"yref\":\"paper\"},{\"font\":{},\"showarrow\":false,\"text\":\"3.0\",\"x\":0.755,\"xanchor\":\"center\",\"xref\":\"paper\",\"y\":0.6433333333333333,\"yanchor\":\"bottom\",\"yref\":\"paper\"},{\"font\":{},\"showarrow\":false,\"text\":\"0.0\",\"x\":0.245,\"xanchor\":\"center\",\"xref\":\"paper\",\"y\":0.9999999999999999,\"yanchor\":\"bottom\",\"yref\":\"paper\"},{\"font\":{},\"showarrow\":false,\"text\":\"1.0\",\"x\":0.755,\"xanchor\":\"center\",\"xref\":\"paper\",\"y\":0.9999999999999999,\"yanchor\":\"bottom\",\"yref\":\"paper\"}],\"legend\":{\"title\":{\"text\":\"source\"},\"tracegroupgap\":0},\"title\":{\"text\":\"escort trip mode choice by HH with Children Under 5\"},\"barmode\":\"group\",\"height\":800,\"width\":800},                        {\"responsive\": true}                    ).then(function(){\n",
       "                            \n",
       "var gd = document.getElementById('628e3e47-9f5f-407e-bc86-7b2fad4064c7');\n",
       "var x = new MutationObserver(function (mutations, observer) {{\n",
       "        var display = window.getComputedStyle(gd).display;\n",
       "        if (!display || display === 'none') {{\n",
       "            console.log([gd, 'removed!']);\n",
       "            Plotly.purge(gd);\n",
       "            observer.disconnect();\n",
       "        }}\n",
       "}});\n",
       "\n",
       "// Listen for the removal of the full notebook cells\n",
       "var notebookContainer = gd.closest('#notebook-container');\n",
       "if (notebookContainer) {{\n",
       "    x.observe(notebookContainer, {childList: true});\n",
       "}}\n",
       "\n",
       "// Listen for the clearing of the current output cell\n",
       "var outputEl = gd.closest('.output');\n",
       "if (outputEl) {{\n",
       "    x.observe(outputEl, {childList: true});\n",
       "}}\n",
       "\n",
       "                        })                };                });            </script>        </div>"
      ]
     },
     "metadata": {},
     "output_type": "display_data"
    }
   ],
   "source": [
    "plot_mode_choice(es_trip,\n",
    "                 \"hhcu5\",\n",
    "                 {\n",
    "                  \"mode_label\":[\"1: walk\",\"2: bike\",\"3: sov\",\"4: hov 2\",\"5: hov 3+\",\"6: transit\",\n",
    "                                   \"8: school bus\",\"9: other–survey only\"]},\n",
    "                 \"HH with Children Under 5\",2,800)"
   ]
  },
  {
   "cell_type": "raw",
   "metadata": {
    "vscode": {
     "languageId": "raw"
    }
   },
   "source": [
    "### Kids 5-15"
   ]
  },
  {
   "cell_type": "code",
   "execution_count": 11,
   "metadata": {
    "execution": {
     "iopub.execute_input": "2025-01-21T06:22:04.333414Z",
     "iopub.status.busy": "2025-01-21T06:22:04.332417Z",
     "iopub.status.idle": "2025-01-21T06:22:05.108489Z",
     "shell.execute_reply": "2025-01-21T06:22:05.106493Z"
    }
   },
   "outputs": [
    {
     "data": {
      "application/vnd.plotly.v1+json": {
       "config": {
        "plotlyServerURL": "https://plot.ly"
       },
       "data": [
        {
         "alignmentgroup": "True",
         "customdata": [
          [
           87935
          ],
          [
           9603
          ],
          [
           306705
          ],
          [
           222544
          ],
          [
           120599
          ],
          [
           4859
          ],
          [
           471
          ],
          [
           1462
          ]
         ],
         "hovertemplate": "source=model<br>hh515=0.0<br>percentage=%{x}<br>mode_label=%{y}<br>sample count=%{customdata[0]}<extra></extra>",
         "legendgroup": "model",
         "marker": {
          "color": "#91268F",
          "pattern": {
           "shape": ""
          }
         },
         "name": "model",
         "offsetgroup": "model",
         "orientation": "h",
         "showlegend": true,
         "textposition": "auto",
         "type": "bar",
         "x": [
          0.11659714284956602,
          0.012733068320741257,
          0.4066745516310473,
          0.29508153247641805,
          0.15990787320765124,
          0.006442776108557926,
          0.000624521001673345,
          0.001938534404344863
         ],
         "xaxis": "x7",
         "y": [
          "1: walk",
          "2: bike",
          "3: sov",
          "4: hov 2",
          "5: hov 3+",
          "6: transit",
          "8: school bus",
          "9: tnc"
         ],
         "yaxis": "y7"
        },
        {
         "alignmentgroup": "True",
         "customdata": [
          [
           40227
          ],
          [
           5690
          ],
          [
           136148
          ],
          [
           132808
          ],
          [
           126100
          ],
          [
           2199
          ],
          [
           5723
          ],
          [
           308
          ]
         ],
         "hovertemplate": "source=model<br>hh515=1.0<br>percentage=%{x}<br>mode_label=%{y}<br>sample count=%{customdata[0]}<extra></extra>",
         "legendgroup": "model",
         "marker": {
          "color": "#91268F",
          "pattern": {
           "shape": ""
          }
         },
         "name": "model",
         "offsetgroup": "model",
         "orientation": "h",
         "showlegend": false,
         "textposition": "auto",
         "type": "bar",
         "x": [
          0.08955193976887955,
          0.01266687889439741,
          0.3030879134823231,
          0.2956525223562621,
          0.28071940748392155,
          0.004895336852158156,
          0.0127403423396549,
          0.0006856588224032342
         ],
         "xaxis": "x8",
         "y": [
          "1: walk",
          "2: bike",
          "3: sov",
          "4: hov 2",
          "5: hov 3+",
          "6: transit",
          "8: school bus",
          "9: tnc"
         ],
         "yaxis": "y8"
        },
        {
         "alignmentgroup": "True",
         "customdata": [
          [
           28256
          ],
          [
           4548
          ],
          [
           85037
          ],
          [
           90974
          ],
          [
           106295
          ],
          [
           1639
          ],
          [
           7281
          ],
          [
           167
          ]
         ],
         "hovertemplate": "source=model<br>hh515=2.0<br>percentage=%{x}<br>mode_label=%{y}<br>sample count=%{customdata[0]}<extra></extra>",
         "legendgroup": "model",
         "marker": {
          "color": "#91268F",
          "pattern": {
           "shape": ""
          }
         },
         "name": "model",
         "offsetgroup": "model",
         "orientation": "h",
         "showlegend": false,
         "textposition": "auto",
         "type": "bar",
         "x": [
          0.08715688300632023,
          0.014028507358180366,
          0.26230039142866834,
          0.2806133307834434,
          0.32787163360549293,
          0.0050555680650962226,
          0.022458566859039412,
          0.0005151188937590416
         ],
         "xaxis": "x5",
         "y": [
          "1: walk",
          "2: bike",
          "3: sov",
          "4: hov 2",
          "5: hov 3+",
          "6: transit",
          "8: school bus",
          "9: tnc"
         ],
         "yaxis": "y5"
        },
        {
         "alignmentgroup": "True",
         "customdata": [
          [
           8499
          ],
          [
           1500
          ],
          [
           20681
          ],
          [
           24398
          ],
          [
           32386
          ],
          [
           335
          ],
          [
           2706
          ],
          [
           31
          ]
         ],
         "hovertemplate": "source=model<br>hh515=3.0<br>percentage=%{x}<br>mode_label=%{y}<br>sample count=%{customdata[0]}<extra></extra>",
         "legendgroup": "model",
         "marker": {
          "color": "#91268F",
          "pattern": {
           "shape": ""
          }
         },
         "name": "model",
         "offsetgroup": "model",
         "orientation": "h",
         "showlegend": false,
         "textposition": "auto",
         "type": "bar",
         "x": [
          0.09387425996288769,
          0.016567995051692146,
          0.22842847044269682,
          0.26948396218078996,
          0.35771405849606785,
          0.003700185561544579,
          0.02988866307325263,
          0.0003424052310683043
         ],
         "xaxis": "x6",
         "y": [
          "1: walk",
          "2: bike",
          "3: sov",
          "4: hov 2",
          "5: hov 3+",
          "6: transit",
          "8: school bus",
          "9: tnc"
         ],
         "yaxis": "y6"
        },
        {
         "alignmentgroup": "True",
         "customdata": [
          [
           2678
          ],
          [
           486
          ],
          [
           5537
          ],
          [
           6713
          ],
          [
           9331
          ],
          [
           112
          ],
          [
           893
          ],
          [
           8
          ]
         ],
         "hovertemplate": "source=model<br>hh515=4.0<br>percentage=%{x}<br>mode_label=%{y}<br>sample count=%{customdata[0]}<extra></extra>",
         "legendgroup": "model",
         "marker": {
          "color": "#91268F",
          "pattern": {
           "shape": ""
          }
         },
         "name": "model",
         "offsetgroup": "model",
         "orientation": "h",
         "showlegend": false,
         "textposition": "auto",
         "type": "bar",
         "x": [
          0.10396769935554002,
          0.018867924528301886,
          0.21496234179672336,
          0.2606180604084168,
          0.36225638636540103,
          0.0043481636773041385,
          0.03466884074850532,
          0.00031058311980743846
         ],
         "xaxis": "x3",
         "y": [
          "1: walk",
          "2: bike",
          "3: sov",
          "4: hov 2",
          "5: hov 3+",
          "6: transit",
          "8: school bus",
          "9: tnc"
         ],
         "yaxis": "y3"
        },
        {
         "alignmentgroup": "True",
         "customdata": [
          [
           830
          ],
          [
           151
          ],
          [
           1968
          ],
          [
           2089
          ],
          [
           2730
          ],
          [
           41
          ],
          [
           335
          ]
         ],
         "hovertemplate": "source=model<br>hh515=5.0<br>percentage=%{x}<br>mode_label=%{y}<br>sample count=%{customdata[0]}<extra></extra>",
         "legendgroup": "model",
         "marker": {
          "color": "#91268F",
          "pattern": {
           "shape": ""
          }
         },
         "name": "model",
         "offsetgroup": "model",
         "orientation": "h",
         "showlegend": false,
         "textposition": "auto",
         "type": "bar",
         "x": [
          0.1019155206286837,
          0.018541257367387032,
          0.24165029469548133,
          0.256507858546169,
          0.33521611001964635,
          0.005034381139489195,
          0.041134577603143416
         ],
         "xaxis": "x4",
         "y": [
          "1: walk",
          "2: bike",
          "3: sov",
          "4: hov 2",
          "5: hov 3+",
          "6: transit",
          "8: school bus"
         ],
         "yaxis": "y4"
        },
        {
         "alignmentgroup": "True",
         "customdata": [
          [
           483
          ],
          [
           85
          ],
          [
           1010
          ],
          [
           1208
          ],
          [
           1644
          ],
          [
           9
          ],
          [
           153
          ]
         ],
         "hovertemplate": "source=model<br>hh515=6.0<br>percentage=%{x}<br>mode_label=%{y}<br>sample count=%{customdata[0]}<extra></extra>",
         "legendgroup": "model",
         "marker": {
          "color": "#91268F",
          "pattern": {
           "shape": ""
          }
         },
         "name": "model",
         "offsetgroup": "model",
         "orientation": "h",
         "showlegend": false,
         "textposition": "auto",
         "type": "bar",
         "x": [
          0.10518292682926829,
          0.018510452961672474,
          0.21994773519163763,
          0.26306620209059234,
          0.35801393728222997,
          0.00195993031358885,
          0.03331881533101045
         ],
         "xaxis": "x",
         "y": [
          "1: walk",
          "2: bike",
          "3: sov",
          "4: hov 2",
          "5: hov 3+",
          "6: transit",
          "8: school bus"
         ],
         "yaxis": "y"
        },
        {
         "alignmentgroup": "True",
         "customdata": [
          [
           14
          ],
          [
           19
          ],
          [
           22
          ],
          [
           24
          ],
          [
           2
          ]
         ],
         "hovertemplate": "source=model<br>hh515=7.0<br>percentage=%{x}<br>mode_label=%{y}<br>sample count=%{customdata[0]}<extra></extra>",
         "legendgroup": "model",
         "marker": {
          "color": "#91268F",
          "pattern": {
           "shape": ""
          }
         },
         "name": "model",
         "offsetgroup": "model",
         "orientation": "h",
         "showlegend": false,
         "textposition": "auto",
         "type": "bar",
         "x": [
          0.1728395061728395,
          0.2345679012345679,
          0.2716049382716049,
          0.2962962962962963,
          0.024691358024691357
         ],
         "xaxis": "x2",
         "y": [
          "1: walk",
          "3: sov",
          "4: hov 2",
          "5: hov 3+",
          "8: school bus"
         ],
         "yaxis": "y2"
        },
        {
         "alignmentgroup": "True",
         "customdata": [
          [
           56
          ],
          [
           8
          ],
          [
           230
          ],
          [
           292
          ],
          [
           119
          ],
          [
           2
          ]
         ],
         "hovertemplate": "source=survey<br>hh515=0.0<br>percentage=%{x}<br>mode_label=%{y}<br>sample count=%{customdata[0]}<extra></extra>",
         "legendgroup": "survey",
         "marker": {
          "color": "#8CC63E",
          "pattern": {
           "shape": ""
          }
         },
         "name": "survey",
         "offsetgroup": "survey",
         "orientation": "h",
         "showlegend": true,
         "textposition": "auto",
         "type": "bar",
         "x": [
          0.04249218426661481,
          0.0005679411484916749,
          0.3311977658160695,
          0.3934756319041789,
          0.2320895686188766,
          0.00017690824576853552
         ],
         "xaxis": "x7",
         "y": [
          "1: walk",
          "2: bike",
          "3: sov",
          "4: hov 2",
          "5: hov 3+",
          "6: transit"
         ],
         "yaxis": "y7"
        },
        {
         "alignmentgroup": "True",
         "customdata": [
          [
           43
          ],
          [
           8
          ],
          [
           76
          ],
          [
           123
          ],
          [
           71
          ],
          [
           1
          ],
          [
           1
          ]
         ],
         "hovertemplate": "source=survey<br>hh515=1.0<br>percentage=%{x}<br>mode_label=%{y}<br>sample count=%{customdata[0]}<extra></extra>",
         "legendgroup": "survey",
         "marker": {
          "color": "#8CC63E",
          "pattern": {
           "shape": ""
          }
         },
         "name": "survey",
         "offsetgroup": "survey",
         "orientation": "h",
         "showlegend": false,
         "textposition": "auto",
         "type": "bar",
         "x": [
          0.041601974085202956,
          0.001842116827186904,
          0.26181592604644083,
          0.4423994759410948,
          0.2513024933784729,
          0.0005562328645160864,
          0.00048178085708563886
         ],
         "xaxis": "x8",
         "y": [
          "1: walk",
          "2: bike",
          "3: sov",
          "4: hov 2",
          "5: hov 3+",
          "6: transit",
          "8: school bus"
         ],
         "yaxis": "y8"
        },
        {
         "alignmentgroup": "True",
         "customdata": [
          [
           35
          ],
          [
           8
          ],
          [
           45
          ],
          [
           84
          ],
          [
           167
          ],
          [
           2
          ],
          [
           1
          ]
         ],
         "hovertemplate": "source=survey<br>hh515=2.0<br>percentage=%{x}<br>mode_label=%{y}<br>sample count=%{customdata[0]}<extra></extra>",
         "legendgroup": "survey",
         "marker": {
          "color": "#8CC63E",
          "pattern": {
           "shape": ""
          }
         },
         "name": "survey",
         "offsetgroup": "survey",
         "orientation": "h",
         "showlegend": false,
         "textposition": "auto",
         "type": "bar",
         "x": [
          0.10431570742841108,
          0.005560776964973545,
          0.13647651696166338,
          0.27409896480470974,
          0.47907092106191096,
          0.00043185514225735225,
          4.525763607398319e-05
         ],
         "xaxis": "x5",
         "y": [
          "1: walk",
          "2: bike",
          "3: sov",
          "4: hov 2",
          "5: hov 3+",
          "6: transit",
          "8: school bus"
         ],
         "yaxis": "y5"
        },
        {
         "alignmentgroup": "True",
         "customdata": [
          [
           4
          ],
          [
           3
          ],
          [
           7
          ],
          [
           41
          ],
          [
           1
          ]
         ],
         "hovertemplate": "source=survey<br>hh515=3.0<br>percentage=%{x}<br>mode_label=%{y}<br>sample count=%{customdata[0]}<extra></extra>",
         "legendgroup": "survey",
         "marker": {
          "color": "#8CC63E",
          "pattern": {
           "shape": ""
          }
         },
         "name": "survey",
         "offsetgroup": "survey",
         "orientation": "h",
         "showlegend": false,
         "textposition": "auto",
         "type": "bar",
         "x": [
          0.15017374220563903,
          0.17062681180913639,
          0.0933147577425331,
          0.5855291242030858,
          0.00035556403960571584
         ],
         "xaxis": "x6",
         "y": [
          "1: walk",
          "3: sov",
          "4: hov 2",
          "5: hov 3+",
          "8: school bus"
         ],
         "yaxis": "y6"
        },
        {
         "alignmentgroup": "True",
         "customdata": [
          [
           4
          ],
          [
           4
          ],
          [
           15
          ]
         ],
         "hovertemplate": "source=survey<br>hh515=4.0<br>percentage=%{x}<br>mode_label=%{y}<br>sample count=%{customdata[0]}<extra></extra>",
         "legendgroup": "survey",
         "marker": {
          "color": "#8CC63E",
          "pattern": {
           "shape": ""
          }
         },
         "name": "survey",
         "offsetgroup": "survey",
         "orientation": "h",
         "showlegend": false,
         "textposition": "auto",
         "type": "bar",
         "x": [
          0.2553921237863335,
          0.17530965300501666,
          0.5692982232086498
         ],
         "xaxis": "x3",
         "y": [
          "3: sov",
          "4: hov 2",
          "5: hov 3+"
         ],
         "yaxis": "y3"
        }
       ],
       "layout": {
        "annotations": [
         {
          "font": {},
          "showarrow": false,
          "text": "6.0",
          "x": 0.245,
          "xanchor": "center",
          "xref": "paper",
          "y": 0.1975,
          "yanchor": "bottom",
          "yref": "paper"
         },
         {
          "font": {},
          "showarrow": false,
          "text": "7.0",
          "x": 0.755,
          "xanchor": "center",
          "xref": "paper",
          "y": 0.1975,
          "yanchor": "bottom",
          "yref": "paper"
         },
         {
          "font": {},
          "showarrow": false,
          "text": "4.0",
          "x": 0.245,
          "xanchor": "center",
          "xref": "paper",
          "y": 0.465,
          "yanchor": "bottom",
          "yref": "paper"
         },
         {
          "font": {},
          "showarrow": false,
          "text": "5.0",
          "x": 0.755,
          "xanchor": "center",
          "xref": "paper",
          "y": 0.465,
          "yanchor": "bottom",
          "yref": "paper"
         },
         {
          "font": {},
          "showarrow": false,
          "text": "2.0",
          "x": 0.245,
          "xanchor": "center",
          "xref": "paper",
          "y": 0.7325,
          "yanchor": "bottom",
          "yref": "paper"
         },
         {
          "font": {},
          "showarrow": false,
          "text": "3.0",
          "x": 0.755,
          "xanchor": "center",
          "xref": "paper",
          "y": 0.7325,
          "yanchor": "bottom",
          "yref": "paper"
         },
         {
          "font": {},
          "showarrow": false,
          "text": "0.0",
          "x": 0.245,
          "xanchor": "center",
          "xref": "paper",
          "y": 1.0,
          "yanchor": "bottom",
          "yref": "paper"
         },
         {
          "font": {},
          "showarrow": false,
          "text": "1.0",
          "x": 0.755,
          "xanchor": "center",
          "xref": "paper",
          "y": 1.0,
          "yanchor": "bottom",
          "yref": "paper"
         }
        ],
        "barmode": "group",
        "height": 800,
        "legend": {
         "title": {
          "text": "source"
         },
         "tracegroupgap": 0
        },
        "template": {
         "data": {
          "bar": [
           {
            "error_x": {
             "color": "rgb(36,36,36)"
            },
            "error_y": {
             "color": "rgb(36,36,36)"
            },
            "marker": {
             "line": {
              "color": "white",
              "width": 0.5
             },
             "pattern": {
              "fillmode": "overlay",
              "size": 10,
              "solidity": 0.2
             }
            },
            "type": "bar"
           }
          ],
          "barpolar": [
           {
            "marker": {
             "line": {
              "color": "white",
              "width": 0.5
             },
             "pattern": {
              "fillmode": "overlay",
              "size": 10,
              "solidity": 0.2
             }
            },
            "type": "barpolar"
           }
          ],
          "carpet": [
           {
            "aaxis": {
             "endlinecolor": "rgb(36,36,36)",
             "gridcolor": "white",
             "linecolor": "white",
             "minorgridcolor": "white",
             "startlinecolor": "rgb(36,36,36)"
            },
            "baxis": {
             "endlinecolor": "rgb(36,36,36)",
             "gridcolor": "white",
             "linecolor": "white",
             "minorgridcolor": "white",
             "startlinecolor": "rgb(36,36,36)"
            },
            "type": "carpet"
           }
          ],
          "choropleth": [
           {
            "colorbar": {
             "outlinewidth": 1,
             "tickcolor": "rgb(36,36,36)",
             "ticks": "outside"
            },
            "type": "choropleth"
           }
          ],
          "contour": [
           {
            "colorbar": {
             "outlinewidth": 1,
             "tickcolor": "rgb(36,36,36)",
             "ticks": "outside"
            },
            "colorscale": [
             [
              0.0,
              "#440154"
             ],
             [
              0.1111111111111111,
              "#482878"
             ],
             [
              0.2222222222222222,
              "#3e4989"
             ],
             [
              0.3333333333333333,
              "#31688e"
             ],
             [
              0.4444444444444444,
              "#26828e"
             ],
             [
              0.5555555555555556,
              "#1f9e89"
             ],
             [
              0.6666666666666666,
              "#35b779"
             ],
             [
              0.7777777777777778,
              "#6ece58"
             ],
             [
              0.8888888888888888,
              "#b5de2b"
             ],
             [
              1.0,
              "#fde725"
             ]
            ],
            "type": "contour"
           }
          ],
          "contourcarpet": [
           {
            "colorbar": {
             "outlinewidth": 1,
             "tickcolor": "rgb(36,36,36)",
             "ticks": "outside"
            },
            "type": "contourcarpet"
           }
          ],
          "heatmap": [
           {
            "colorbar": {
             "outlinewidth": 1,
             "tickcolor": "rgb(36,36,36)",
             "ticks": "outside"
            },
            "colorscale": [
             [
              0.0,
              "#440154"
             ],
             [
              0.1111111111111111,
              "#482878"
             ],
             [
              0.2222222222222222,
              "#3e4989"
             ],
             [
              0.3333333333333333,
              "#31688e"
             ],
             [
              0.4444444444444444,
              "#26828e"
             ],
             [
              0.5555555555555556,
              "#1f9e89"
             ],
             [
              0.6666666666666666,
              "#35b779"
             ],
             [
              0.7777777777777778,
              "#6ece58"
             ],
             [
              0.8888888888888888,
              "#b5de2b"
             ],
             [
              1.0,
              "#fde725"
             ]
            ],
            "type": "heatmap"
           }
          ],
          "heatmapgl": [
           {
            "colorbar": {
             "outlinewidth": 1,
             "tickcolor": "rgb(36,36,36)",
             "ticks": "outside"
            },
            "colorscale": [
             [
              0.0,
              "#440154"
             ],
             [
              0.1111111111111111,
              "#482878"
             ],
             [
              0.2222222222222222,
              "#3e4989"
             ],
             [
              0.3333333333333333,
              "#31688e"
             ],
             [
              0.4444444444444444,
              "#26828e"
             ],
             [
              0.5555555555555556,
              "#1f9e89"
             ],
             [
              0.6666666666666666,
              "#35b779"
             ],
             [
              0.7777777777777778,
              "#6ece58"
             ],
             [
              0.8888888888888888,
              "#b5de2b"
             ],
             [
              1.0,
              "#fde725"
             ]
            ],
            "type": "heatmapgl"
           }
          ],
          "histogram": [
           {
            "marker": {
             "line": {
              "color": "white",
              "width": 0.6
             }
            },
            "type": "histogram"
           }
          ],
          "histogram2d": [
           {
            "colorbar": {
             "outlinewidth": 1,
             "tickcolor": "rgb(36,36,36)",
             "ticks": "outside"
            },
            "colorscale": [
             [
              0.0,
              "#440154"
             ],
             [
              0.1111111111111111,
              "#482878"
             ],
             [
              0.2222222222222222,
              "#3e4989"
             ],
             [
              0.3333333333333333,
              "#31688e"
             ],
             [
              0.4444444444444444,
              "#26828e"
             ],
             [
              0.5555555555555556,
              "#1f9e89"
             ],
             [
              0.6666666666666666,
              "#35b779"
             ],
             [
              0.7777777777777778,
              "#6ece58"
             ],
             [
              0.8888888888888888,
              "#b5de2b"
             ],
             [
              1.0,
              "#fde725"
             ]
            ],
            "type": "histogram2d"
           }
          ],
          "histogram2dcontour": [
           {
            "colorbar": {
             "outlinewidth": 1,
             "tickcolor": "rgb(36,36,36)",
             "ticks": "outside"
            },
            "colorscale": [
             [
              0.0,
              "#440154"
             ],
             [
              0.1111111111111111,
              "#482878"
             ],
             [
              0.2222222222222222,
              "#3e4989"
             ],
             [
              0.3333333333333333,
              "#31688e"
             ],
             [
              0.4444444444444444,
              "#26828e"
             ],
             [
              0.5555555555555556,
              "#1f9e89"
             ],
             [
              0.6666666666666666,
              "#35b779"
             ],
             [
              0.7777777777777778,
              "#6ece58"
             ],
             [
              0.8888888888888888,
              "#b5de2b"
             ],
             [
              1.0,
              "#fde725"
             ]
            ],
            "type": "histogram2dcontour"
           }
          ],
          "mesh3d": [
           {
            "colorbar": {
             "outlinewidth": 1,
             "tickcolor": "rgb(36,36,36)",
             "ticks": "outside"
            },
            "type": "mesh3d"
           }
          ],
          "parcoords": [
           {
            "line": {
             "colorbar": {
              "outlinewidth": 1,
              "tickcolor": "rgb(36,36,36)",
              "ticks": "outside"
             }
            },
            "type": "parcoords"
           }
          ],
          "pie": [
           {
            "automargin": true,
            "type": "pie"
           }
          ],
          "scatter": [
           {
            "fillpattern": {
             "fillmode": "overlay",
             "size": 10,
             "solidity": 0.2
            },
            "type": "scatter"
           }
          ],
          "scatter3d": [
           {
            "line": {
             "colorbar": {
              "outlinewidth": 1,
              "tickcolor": "rgb(36,36,36)",
              "ticks": "outside"
             }
            },
            "marker": {
             "colorbar": {
              "outlinewidth": 1,
              "tickcolor": "rgb(36,36,36)",
              "ticks": "outside"
             }
            },
            "type": "scatter3d"
           }
          ],
          "scattercarpet": [
           {
            "marker": {
             "colorbar": {
              "outlinewidth": 1,
              "tickcolor": "rgb(36,36,36)",
              "ticks": "outside"
             }
            },
            "type": "scattercarpet"
           }
          ],
          "scattergeo": [
           {
            "marker": {
             "colorbar": {
              "outlinewidth": 1,
              "tickcolor": "rgb(36,36,36)",
              "ticks": "outside"
             }
            },
            "type": "scattergeo"
           }
          ],
          "scattergl": [
           {
            "marker": {
             "colorbar": {
              "outlinewidth": 1,
              "tickcolor": "rgb(36,36,36)",
              "ticks": "outside"
             }
            },
            "type": "scattergl"
           }
          ],
          "scattermapbox": [
           {
            "marker": {
             "colorbar": {
              "outlinewidth": 1,
              "tickcolor": "rgb(36,36,36)",
              "ticks": "outside"
             }
            },
            "type": "scattermapbox"
           }
          ],
          "scatterpolar": [
           {
            "marker": {
             "colorbar": {
              "outlinewidth": 1,
              "tickcolor": "rgb(36,36,36)",
              "ticks": "outside"
             }
            },
            "type": "scatterpolar"
           }
          ],
          "scatterpolargl": [
           {
            "marker": {
             "colorbar": {
              "outlinewidth": 1,
              "tickcolor": "rgb(36,36,36)",
              "ticks": "outside"
             }
            },
            "type": "scatterpolargl"
           }
          ],
          "scatterternary": [
           {
            "marker": {
             "colorbar": {
              "outlinewidth": 1,
              "tickcolor": "rgb(36,36,36)",
              "ticks": "outside"
             }
            },
            "type": "scatterternary"
           }
          ],
          "surface": [
           {
            "colorbar": {
             "outlinewidth": 1,
             "tickcolor": "rgb(36,36,36)",
             "ticks": "outside"
            },
            "colorscale": [
             [
              0.0,
              "#440154"
             ],
             [
              0.1111111111111111,
              "#482878"
             ],
             [
              0.2222222222222222,
              "#3e4989"
             ],
             [
              0.3333333333333333,
              "#31688e"
             ],
             [
              0.4444444444444444,
              "#26828e"
             ],
             [
              0.5555555555555556,
              "#1f9e89"
             ],
             [
              0.6666666666666666,
              "#35b779"
             ],
             [
              0.7777777777777778,
              "#6ece58"
             ],
             [
              0.8888888888888888,
              "#b5de2b"
             ],
             [
              1.0,
              "#fde725"
             ]
            ],
            "type": "surface"
           }
          ],
          "table": [
           {
            "cells": {
             "fill": {
              "color": "rgb(237,237,237)"
             },
             "line": {
              "color": "white"
             }
            },
            "header": {
             "fill": {
              "color": "rgb(217,217,217)"
             },
             "line": {
              "color": "white"
             }
            },
            "type": "table"
           }
          ]
         },
         "layout": {
          "annotationdefaults": {
           "arrowhead": 0,
           "arrowwidth": 1
          },
          "autotypenumbers": "strict",
          "coloraxis": {
           "colorbar": {
            "outlinewidth": 1,
            "tickcolor": "rgb(36,36,36)",
            "ticks": "outside"
           }
          },
          "colorscale": {
           "diverging": [
            [
             0.0,
             "rgb(103,0,31)"
            ],
            [
             0.1,
             "rgb(178,24,43)"
            ],
            [
             0.2,
             "rgb(214,96,77)"
            ],
            [
             0.3,
             "rgb(244,165,130)"
            ],
            [
             0.4,
             "rgb(253,219,199)"
            ],
            [
             0.5,
             "rgb(247,247,247)"
            ],
            [
             0.6,
             "rgb(209,229,240)"
            ],
            [
             0.7,
             "rgb(146,197,222)"
            ],
            [
             0.8,
             "rgb(67,147,195)"
            ],
            [
             0.9,
             "rgb(33,102,172)"
            ],
            [
             1.0,
             "rgb(5,48,97)"
            ]
           ],
           "sequential": [
            [
             0.0,
             "#440154"
            ],
            [
             0.1111111111111111,
             "#482878"
            ],
            [
             0.2222222222222222,
             "#3e4989"
            ],
            [
             0.3333333333333333,
             "#31688e"
            ],
            [
             0.4444444444444444,
             "#26828e"
            ],
            [
             0.5555555555555556,
             "#1f9e89"
            ],
            [
             0.6666666666666666,
             "#35b779"
            ],
            [
             0.7777777777777778,
             "#6ece58"
            ],
            [
             0.8888888888888888,
             "#b5de2b"
            ],
            [
             1.0,
             "#fde725"
            ]
           ],
           "sequentialminus": [
            [
             0.0,
             "#440154"
            ],
            [
             0.1111111111111111,
             "#482878"
            ],
            [
             0.2222222222222222,
             "#3e4989"
            ],
            [
             0.3333333333333333,
             "#31688e"
            ],
            [
             0.4444444444444444,
             "#26828e"
            ],
            [
             0.5555555555555556,
             "#1f9e89"
            ],
            [
             0.6666666666666666,
             "#35b779"
            ],
            [
             0.7777777777777778,
             "#6ece58"
            ],
            [
             0.8888888888888888,
             "#b5de2b"
            ],
            [
             1.0,
             "#fde725"
            ]
           ]
          },
          "colorway": [
           "#91268F",
           "#8CC63E",
           "#00A7A0",
           "#F05A28",
           "#4C4C4C",
           "#630460",
           "#9f3913",
           "#588527",
           "#00716c",
           "#3e4040"
          ],
          "font": {
           "color": "rgb(36,36,36)",
           "family": "Poppins",
           "size": 11
          },
          "geo": {
           "bgcolor": "white",
           "lakecolor": "white",
           "landcolor": "white",
           "showlakes": true,
           "showland": true,
           "subunitcolor": "white"
          },
          "hoverlabel": {
           "align": "left"
          },
          "hovermode": "closest",
          "mapbox": {
           "style": "light"
          },
          "paper_bgcolor": "white",
          "plot_bgcolor": "white",
          "polar": {
           "angularaxis": {
            "gridcolor": "rgb(232,232,232)",
            "linecolor": "rgb(36,36,36)",
            "showgrid": false,
            "showline": true,
            "ticks": "outside"
           },
           "bgcolor": "white",
           "radialaxis": {
            "gridcolor": "rgb(232,232,232)",
            "linecolor": "rgb(36,36,36)",
            "showgrid": false,
            "showline": true,
            "ticks": "outside"
           }
          },
          "scene": {
           "xaxis": {
            "backgroundcolor": "white",
            "gridcolor": "rgb(232,232,232)",
            "gridwidth": 2,
            "linecolor": "rgb(36,36,36)",
            "showbackground": true,
            "showgrid": false,
            "showline": true,
            "ticks": "outside",
            "zeroline": false,
            "zerolinecolor": "rgb(36,36,36)"
           },
           "yaxis": {
            "backgroundcolor": "white",
            "gridcolor": "rgb(232,232,232)",
            "gridwidth": 2,
            "linecolor": "rgb(36,36,36)",
            "showbackground": true,
            "showgrid": false,
            "showline": true,
            "ticks": "outside",
            "zeroline": false,
            "zerolinecolor": "rgb(36,36,36)"
           },
           "zaxis": {
            "backgroundcolor": "white",
            "gridcolor": "rgb(232,232,232)",
            "gridwidth": 2,
            "linecolor": "rgb(36,36,36)",
            "showbackground": true,
            "showgrid": false,
            "showline": true,
            "ticks": "outside",
            "zeroline": false,
            "zerolinecolor": "rgb(36,36,36)"
           }
          },
          "shapedefaults": {
           "fillcolor": "black",
           "line": {
            "width": 0
           },
           "opacity": 0.3
          },
          "ternary": {
           "aaxis": {
            "gridcolor": "rgb(232,232,232)",
            "linecolor": "rgb(36,36,36)",
            "showgrid": false,
            "showline": true,
            "ticks": "outside"
           },
           "baxis": {
            "gridcolor": "rgb(232,232,232)",
            "linecolor": "rgb(36,36,36)",
            "showgrid": false,
            "showline": true,
            "ticks": "outside"
           },
           "bgcolor": "white",
           "caxis": {
            "gridcolor": "rgb(232,232,232)",
            "linecolor": "rgb(36,36,36)",
            "showgrid": false,
            "showline": true,
            "ticks": "outside"
           }
          },
          "title": {
           "x": 0.05
          },
          "xaxis": {
           "automargin": true,
           "gridcolor": "rgb(232,232,232)",
           "linecolor": "rgb(36,36,36)",
           "showgrid": false,
           "showline": true,
           "ticks": "outside",
           "title": {
            "standoff": 15
           },
           "zeroline": false,
           "zerolinecolor": "rgb(36,36,36)"
          },
          "yaxis": {
           "automargin": true,
           "gridcolor": "rgb(232,232,232)",
           "linecolor": "rgb(36,36,36)",
           "showgrid": false,
           "showline": true,
           "ticks": "outside",
           "title": {
            "standoff": 15
           },
           "zeroline": false,
           "zerolinecolor": "rgb(36,36,36)"
          }
         }
        },
        "title": {
         "text": "escort trip mode choice by HH with Children 5-15"
        },
        "width": 800,
        "xaxis": {
         "anchor": "y",
         "domain": [
          0.0,
          0.49
         ],
         "tickformat": ".1%",
         "title": {
          "text": "percentage"
         }
        },
        "xaxis2": {
         "anchor": "y2",
         "domain": [
          0.51,
          1.0
         ],
         "matches": "x",
         "tickformat": ".1%",
         "title": {
          "text": "percentage"
         }
        },
        "xaxis3": {
         "anchor": "y3",
         "domain": [
          0.0,
          0.49
         ],
         "matches": "x",
         "showticklabels": false,
         "tickformat": ".1%"
        },
        "xaxis4": {
         "anchor": "y4",
         "domain": [
          0.51,
          1.0
         ],
         "matches": "x",
         "showticklabels": false,
         "tickformat": ".1%"
        },
        "xaxis5": {
         "anchor": "y5",
         "domain": [
          0.0,
          0.49
         ],
         "matches": "x",
         "showticklabels": false,
         "tickformat": ".1%"
        },
        "xaxis6": {
         "anchor": "y6",
         "domain": [
          0.51,
          1.0
         ],
         "matches": "x",
         "showticklabels": false,
         "tickformat": ".1%"
        },
        "xaxis7": {
         "anchor": "y7",
         "domain": [
          0.0,
          0.49
         ],
         "matches": "x",
         "showticklabels": false,
         "tickformat": ".1%"
        },
        "xaxis8": {
         "anchor": "y8",
         "domain": [
          0.51,
          1.0
         ],
         "matches": "x",
         "showticklabels": false,
         "tickformat": ".1%"
        },
        "yaxis": {
         "anchor": "x",
         "categoryarray": [
          "9: other–survey only",
          "8: school bus",
          "6: transit",
          "5: hov 3+",
          "4: hov 2",
          "3: sov",
          "2: bike",
          "1: walk"
         ],
         "categoryorder": "array",
         "domain": [
          0.0,
          0.1975
         ],
         "title": {
          "text": "mode_label"
         }
        },
        "yaxis2": {
         "anchor": "x2",
         "domain": [
          0.0,
          0.1975
         ],
         "matches": "y",
         "showticklabels": false
        },
        "yaxis3": {
         "anchor": "x3",
         "categoryarray": [
          "9: other–survey only",
          "8: school bus",
          "6: transit",
          "5: hov 3+",
          "4: hov 2",
          "3: sov",
          "2: bike",
          "1: walk"
         ],
         "categoryorder": "array",
         "domain": [
          0.2675,
          0.465
         ],
         "matches": "y",
         "title": {
          "text": "mode_label"
         }
        },
        "yaxis4": {
         "anchor": "x4",
         "domain": [
          0.2675,
          0.465
         ],
         "matches": "y",
         "showticklabels": false
        },
        "yaxis5": {
         "anchor": "x5",
         "categoryarray": [
          "9: other–survey only",
          "8: school bus",
          "6: transit",
          "5: hov 3+",
          "4: hov 2",
          "3: sov",
          "2: bike",
          "1: walk"
         ],
         "categoryorder": "array",
         "domain": [
          0.535,
          0.7325
         ],
         "matches": "y",
         "title": {
          "text": "mode_label"
         }
        },
        "yaxis6": {
         "anchor": "x6",
         "domain": [
          0.535,
          0.7325
         ],
         "matches": "y",
         "showticklabels": false
        },
        "yaxis7": {
         "anchor": "x7",
         "categoryarray": [
          "9: other–survey only",
          "8: school bus",
          "6: transit",
          "5: hov 3+",
          "4: hov 2",
          "3: sov",
          "2: bike",
          "1: walk"
         ],
         "categoryorder": "array",
         "domain": [
          0.8025,
          1.0
         ],
         "matches": "y",
         "title": {
          "text": "mode_label"
         }
        },
        "yaxis8": {
         "anchor": "x8",
         "domain": [
          0.8025,
          1.0
         ],
         "matches": "y",
         "showticklabels": false
        }
       }
      },
      "text/html": [
       "<div>                            <div id=\"fc3f172f-7b2a-47f0-9cac-897a8ae80458\" class=\"plotly-graph-div\" style=\"height:800px; width:800px;\"></div>            <script type=\"text/javascript\">                require([\"plotly\"], function(Plotly) {                    window.PLOTLYENV=window.PLOTLYENV || {};                                    if (document.getElementById(\"fc3f172f-7b2a-47f0-9cac-897a8ae80458\")) {                    Plotly.newPlot(                        \"fc3f172f-7b2a-47f0-9cac-897a8ae80458\",                        [{\"alignmentgroup\":\"True\",\"customdata\":[[87935],[9603],[306705],[222544],[120599],[4859],[471],[1462]],\"hovertemplate\":\"source=model\\u003cbr\\u003ehh515=0.0\\u003cbr\\u003epercentage=%{x}\\u003cbr\\u003emode_label=%{y}\\u003cbr\\u003esample count=%{customdata[0]}\\u003cextra\\u003e\\u003c\\u002fextra\\u003e\",\"legendgroup\":\"model\",\"marker\":{\"color\":\"#91268F\",\"pattern\":{\"shape\":\"\"}},\"name\":\"model\",\"offsetgroup\":\"model\",\"orientation\":\"h\",\"showlegend\":true,\"textposition\":\"auto\",\"x\":[0.11659714284956602,0.012733068320741257,0.4066745516310473,0.29508153247641805,0.15990787320765124,0.006442776108557926,0.000624521001673345,0.001938534404344863],\"xaxis\":\"x7\",\"y\":[\"1: walk\",\"2: bike\",\"3: sov\",\"4: hov 2\",\"5: hov 3+\",\"6: transit\",\"8: school bus\",\"9: tnc\"],\"yaxis\":\"y7\",\"type\":\"bar\"},{\"alignmentgroup\":\"True\",\"customdata\":[[40227],[5690],[136148],[132808],[126100],[2199],[5723],[308]],\"hovertemplate\":\"source=model\\u003cbr\\u003ehh515=1.0\\u003cbr\\u003epercentage=%{x}\\u003cbr\\u003emode_label=%{y}\\u003cbr\\u003esample count=%{customdata[0]}\\u003cextra\\u003e\\u003c\\u002fextra\\u003e\",\"legendgroup\":\"model\",\"marker\":{\"color\":\"#91268F\",\"pattern\":{\"shape\":\"\"}},\"name\":\"model\",\"offsetgroup\":\"model\",\"orientation\":\"h\",\"showlegend\":false,\"textposition\":\"auto\",\"x\":[0.08955193976887955,0.01266687889439741,0.3030879134823231,0.2956525223562621,0.28071940748392155,0.004895336852158156,0.0127403423396549,0.0006856588224032342],\"xaxis\":\"x8\",\"y\":[\"1: walk\",\"2: bike\",\"3: sov\",\"4: hov 2\",\"5: hov 3+\",\"6: transit\",\"8: school bus\",\"9: tnc\"],\"yaxis\":\"y8\",\"type\":\"bar\"},{\"alignmentgroup\":\"True\",\"customdata\":[[28256],[4548],[85037],[90974],[106295],[1639],[7281],[167]],\"hovertemplate\":\"source=model\\u003cbr\\u003ehh515=2.0\\u003cbr\\u003epercentage=%{x}\\u003cbr\\u003emode_label=%{y}\\u003cbr\\u003esample count=%{customdata[0]}\\u003cextra\\u003e\\u003c\\u002fextra\\u003e\",\"legendgroup\":\"model\",\"marker\":{\"color\":\"#91268F\",\"pattern\":{\"shape\":\"\"}},\"name\":\"model\",\"offsetgroup\":\"model\",\"orientation\":\"h\",\"showlegend\":false,\"textposition\":\"auto\",\"x\":[0.08715688300632023,0.014028507358180366,0.26230039142866834,0.2806133307834434,0.32787163360549293,0.0050555680650962226,0.022458566859039412,0.0005151188937590416],\"xaxis\":\"x5\",\"y\":[\"1: walk\",\"2: bike\",\"3: sov\",\"4: hov 2\",\"5: hov 3+\",\"6: transit\",\"8: school bus\",\"9: tnc\"],\"yaxis\":\"y5\",\"type\":\"bar\"},{\"alignmentgroup\":\"True\",\"customdata\":[[8499],[1500],[20681],[24398],[32386],[335],[2706],[31]],\"hovertemplate\":\"source=model\\u003cbr\\u003ehh515=3.0\\u003cbr\\u003epercentage=%{x}\\u003cbr\\u003emode_label=%{y}\\u003cbr\\u003esample count=%{customdata[0]}\\u003cextra\\u003e\\u003c\\u002fextra\\u003e\",\"legendgroup\":\"model\",\"marker\":{\"color\":\"#91268F\",\"pattern\":{\"shape\":\"\"}},\"name\":\"model\",\"offsetgroup\":\"model\",\"orientation\":\"h\",\"showlegend\":false,\"textposition\":\"auto\",\"x\":[0.09387425996288769,0.016567995051692146,0.22842847044269682,0.26948396218078996,0.35771405849606785,0.003700185561544579,0.02988866307325263,0.0003424052310683043],\"xaxis\":\"x6\",\"y\":[\"1: walk\",\"2: bike\",\"3: sov\",\"4: hov 2\",\"5: hov 3+\",\"6: transit\",\"8: school bus\",\"9: tnc\"],\"yaxis\":\"y6\",\"type\":\"bar\"},{\"alignmentgroup\":\"True\",\"customdata\":[[2678],[486],[5537],[6713],[9331],[112],[893],[8]],\"hovertemplate\":\"source=model\\u003cbr\\u003ehh515=4.0\\u003cbr\\u003epercentage=%{x}\\u003cbr\\u003emode_label=%{y}\\u003cbr\\u003esample count=%{customdata[0]}\\u003cextra\\u003e\\u003c\\u002fextra\\u003e\",\"legendgroup\":\"model\",\"marker\":{\"color\":\"#91268F\",\"pattern\":{\"shape\":\"\"}},\"name\":\"model\",\"offsetgroup\":\"model\",\"orientation\":\"h\",\"showlegend\":false,\"textposition\":\"auto\",\"x\":[0.10396769935554002,0.018867924528301886,0.21496234179672336,0.2606180604084168,0.36225638636540103,0.0043481636773041385,0.03466884074850532,0.00031058311980743846],\"xaxis\":\"x3\",\"y\":[\"1: walk\",\"2: bike\",\"3: sov\",\"4: hov 2\",\"5: hov 3+\",\"6: transit\",\"8: school bus\",\"9: tnc\"],\"yaxis\":\"y3\",\"type\":\"bar\"},{\"alignmentgroup\":\"True\",\"customdata\":[[830],[151],[1968],[2089],[2730],[41],[335]],\"hovertemplate\":\"source=model\\u003cbr\\u003ehh515=5.0\\u003cbr\\u003epercentage=%{x}\\u003cbr\\u003emode_label=%{y}\\u003cbr\\u003esample count=%{customdata[0]}\\u003cextra\\u003e\\u003c\\u002fextra\\u003e\",\"legendgroup\":\"model\",\"marker\":{\"color\":\"#91268F\",\"pattern\":{\"shape\":\"\"}},\"name\":\"model\",\"offsetgroup\":\"model\",\"orientation\":\"h\",\"showlegend\":false,\"textposition\":\"auto\",\"x\":[0.1019155206286837,0.018541257367387032,0.24165029469548133,0.256507858546169,0.33521611001964635,0.005034381139489195,0.041134577603143416],\"xaxis\":\"x4\",\"y\":[\"1: walk\",\"2: bike\",\"3: sov\",\"4: hov 2\",\"5: hov 3+\",\"6: transit\",\"8: school bus\"],\"yaxis\":\"y4\",\"type\":\"bar\"},{\"alignmentgroup\":\"True\",\"customdata\":[[483],[85],[1010],[1208],[1644],[9],[153]],\"hovertemplate\":\"source=model\\u003cbr\\u003ehh515=6.0\\u003cbr\\u003epercentage=%{x}\\u003cbr\\u003emode_label=%{y}\\u003cbr\\u003esample count=%{customdata[0]}\\u003cextra\\u003e\\u003c\\u002fextra\\u003e\",\"legendgroup\":\"model\",\"marker\":{\"color\":\"#91268F\",\"pattern\":{\"shape\":\"\"}},\"name\":\"model\",\"offsetgroup\":\"model\",\"orientation\":\"h\",\"showlegend\":false,\"textposition\":\"auto\",\"x\":[0.10518292682926829,0.018510452961672474,0.21994773519163763,0.26306620209059234,0.35801393728222997,0.00195993031358885,0.03331881533101045],\"xaxis\":\"x\",\"y\":[\"1: walk\",\"2: bike\",\"3: sov\",\"4: hov 2\",\"5: hov 3+\",\"6: transit\",\"8: school bus\"],\"yaxis\":\"y\",\"type\":\"bar\"},{\"alignmentgroup\":\"True\",\"customdata\":[[14],[19],[22],[24],[2]],\"hovertemplate\":\"source=model\\u003cbr\\u003ehh515=7.0\\u003cbr\\u003epercentage=%{x}\\u003cbr\\u003emode_label=%{y}\\u003cbr\\u003esample count=%{customdata[0]}\\u003cextra\\u003e\\u003c\\u002fextra\\u003e\",\"legendgroup\":\"model\",\"marker\":{\"color\":\"#91268F\",\"pattern\":{\"shape\":\"\"}},\"name\":\"model\",\"offsetgroup\":\"model\",\"orientation\":\"h\",\"showlegend\":false,\"textposition\":\"auto\",\"x\":[0.1728395061728395,0.2345679012345679,0.2716049382716049,0.2962962962962963,0.024691358024691357],\"xaxis\":\"x2\",\"y\":[\"1: walk\",\"3: sov\",\"4: hov 2\",\"5: hov 3+\",\"8: school bus\"],\"yaxis\":\"y2\",\"type\":\"bar\"},{\"alignmentgroup\":\"True\",\"customdata\":[[56],[8],[230],[292],[119],[2]],\"hovertemplate\":\"source=survey\\u003cbr\\u003ehh515=0.0\\u003cbr\\u003epercentage=%{x}\\u003cbr\\u003emode_label=%{y}\\u003cbr\\u003esample count=%{customdata[0]}\\u003cextra\\u003e\\u003c\\u002fextra\\u003e\",\"legendgroup\":\"survey\",\"marker\":{\"color\":\"#8CC63E\",\"pattern\":{\"shape\":\"\"}},\"name\":\"survey\",\"offsetgroup\":\"survey\",\"orientation\":\"h\",\"showlegend\":true,\"textposition\":\"auto\",\"x\":[0.04249218426661481,0.0005679411484916749,0.3311977658160695,0.3934756319041789,0.2320895686188766,0.00017690824576853552],\"xaxis\":\"x7\",\"y\":[\"1: walk\",\"2: bike\",\"3: sov\",\"4: hov 2\",\"5: hov 3+\",\"6: transit\"],\"yaxis\":\"y7\",\"type\":\"bar\"},{\"alignmentgroup\":\"True\",\"customdata\":[[43],[8],[76],[123],[71],[1],[1]],\"hovertemplate\":\"source=survey\\u003cbr\\u003ehh515=1.0\\u003cbr\\u003epercentage=%{x}\\u003cbr\\u003emode_label=%{y}\\u003cbr\\u003esample count=%{customdata[0]}\\u003cextra\\u003e\\u003c\\u002fextra\\u003e\",\"legendgroup\":\"survey\",\"marker\":{\"color\":\"#8CC63E\",\"pattern\":{\"shape\":\"\"}},\"name\":\"survey\",\"offsetgroup\":\"survey\",\"orientation\":\"h\",\"showlegend\":false,\"textposition\":\"auto\",\"x\":[0.041601974085202956,0.001842116827186904,0.26181592604644083,0.4423994759410948,0.2513024933784729,0.0005562328645160864,0.00048178085708563886],\"xaxis\":\"x8\",\"y\":[\"1: walk\",\"2: bike\",\"3: sov\",\"4: hov 2\",\"5: hov 3+\",\"6: transit\",\"8: school bus\"],\"yaxis\":\"y8\",\"type\":\"bar\"},{\"alignmentgroup\":\"True\",\"customdata\":[[35],[8],[45],[84],[167],[2],[1]],\"hovertemplate\":\"source=survey\\u003cbr\\u003ehh515=2.0\\u003cbr\\u003epercentage=%{x}\\u003cbr\\u003emode_label=%{y}\\u003cbr\\u003esample count=%{customdata[0]}\\u003cextra\\u003e\\u003c\\u002fextra\\u003e\",\"legendgroup\":\"survey\",\"marker\":{\"color\":\"#8CC63E\",\"pattern\":{\"shape\":\"\"}},\"name\":\"survey\",\"offsetgroup\":\"survey\",\"orientation\":\"h\",\"showlegend\":false,\"textposition\":\"auto\",\"x\":[0.10431570742841108,0.005560776964973545,0.13647651696166338,0.27409896480470974,0.47907092106191096,0.00043185514225735225,4.525763607398319e-05],\"xaxis\":\"x5\",\"y\":[\"1: walk\",\"2: bike\",\"3: sov\",\"4: hov 2\",\"5: hov 3+\",\"6: transit\",\"8: school bus\"],\"yaxis\":\"y5\",\"type\":\"bar\"},{\"alignmentgroup\":\"True\",\"customdata\":[[4],[3],[7],[41],[1]],\"hovertemplate\":\"source=survey\\u003cbr\\u003ehh515=3.0\\u003cbr\\u003epercentage=%{x}\\u003cbr\\u003emode_label=%{y}\\u003cbr\\u003esample count=%{customdata[0]}\\u003cextra\\u003e\\u003c\\u002fextra\\u003e\",\"legendgroup\":\"survey\",\"marker\":{\"color\":\"#8CC63E\",\"pattern\":{\"shape\":\"\"}},\"name\":\"survey\",\"offsetgroup\":\"survey\",\"orientation\":\"h\",\"showlegend\":false,\"textposition\":\"auto\",\"x\":[0.15017374220563903,0.17062681180913639,0.0933147577425331,0.5855291242030858,0.00035556403960571584],\"xaxis\":\"x6\",\"y\":[\"1: walk\",\"3: sov\",\"4: hov 2\",\"5: hov 3+\",\"8: school bus\"],\"yaxis\":\"y6\",\"type\":\"bar\"},{\"alignmentgroup\":\"True\",\"customdata\":[[4],[4],[15]],\"hovertemplate\":\"source=survey\\u003cbr\\u003ehh515=4.0\\u003cbr\\u003epercentage=%{x}\\u003cbr\\u003emode_label=%{y}\\u003cbr\\u003esample count=%{customdata[0]}\\u003cextra\\u003e\\u003c\\u002fextra\\u003e\",\"legendgroup\":\"survey\",\"marker\":{\"color\":\"#8CC63E\",\"pattern\":{\"shape\":\"\"}},\"name\":\"survey\",\"offsetgroup\":\"survey\",\"orientation\":\"h\",\"showlegend\":false,\"textposition\":\"auto\",\"x\":[0.2553921237863335,0.17530965300501666,0.5692982232086498],\"xaxis\":\"x3\",\"y\":[\"3: sov\",\"4: hov 2\",\"5: hov 3+\"],\"yaxis\":\"y3\",\"type\":\"bar\"}],                        {\"template\":{\"data\":{\"barpolar\":[{\"marker\":{\"line\":{\"color\":\"white\",\"width\":0.5},\"pattern\":{\"fillmode\":\"overlay\",\"size\":10,\"solidity\":0.2}},\"type\":\"barpolar\"}],\"bar\":[{\"error_x\":{\"color\":\"rgb(36,36,36)\"},\"error_y\":{\"color\":\"rgb(36,36,36)\"},\"marker\":{\"line\":{\"color\":\"white\",\"width\":0.5},\"pattern\":{\"fillmode\":\"overlay\",\"size\":10,\"solidity\":0.2}},\"type\":\"bar\"}],\"carpet\":[{\"aaxis\":{\"endlinecolor\":\"rgb(36,36,36)\",\"gridcolor\":\"white\",\"linecolor\":\"white\",\"minorgridcolor\":\"white\",\"startlinecolor\":\"rgb(36,36,36)\"},\"baxis\":{\"endlinecolor\":\"rgb(36,36,36)\",\"gridcolor\":\"white\",\"linecolor\":\"white\",\"minorgridcolor\":\"white\",\"startlinecolor\":\"rgb(36,36,36)\"},\"type\":\"carpet\"}],\"choropleth\":[{\"colorbar\":{\"outlinewidth\":1,\"tickcolor\":\"rgb(36,36,36)\",\"ticks\":\"outside\"},\"type\":\"choropleth\"}],\"contourcarpet\":[{\"colorbar\":{\"outlinewidth\":1,\"tickcolor\":\"rgb(36,36,36)\",\"ticks\":\"outside\"},\"type\":\"contourcarpet\"}],\"contour\":[{\"colorbar\":{\"outlinewidth\":1,\"tickcolor\":\"rgb(36,36,36)\",\"ticks\":\"outside\"},\"colorscale\":[[0.0,\"#440154\"],[0.1111111111111111,\"#482878\"],[0.2222222222222222,\"#3e4989\"],[0.3333333333333333,\"#31688e\"],[0.4444444444444444,\"#26828e\"],[0.5555555555555556,\"#1f9e89\"],[0.6666666666666666,\"#35b779\"],[0.7777777777777778,\"#6ece58\"],[0.8888888888888888,\"#b5de2b\"],[1.0,\"#fde725\"]],\"type\":\"contour\"}],\"heatmapgl\":[{\"colorbar\":{\"outlinewidth\":1,\"tickcolor\":\"rgb(36,36,36)\",\"ticks\":\"outside\"},\"colorscale\":[[0.0,\"#440154\"],[0.1111111111111111,\"#482878\"],[0.2222222222222222,\"#3e4989\"],[0.3333333333333333,\"#31688e\"],[0.4444444444444444,\"#26828e\"],[0.5555555555555556,\"#1f9e89\"],[0.6666666666666666,\"#35b779\"],[0.7777777777777778,\"#6ece58\"],[0.8888888888888888,\"#b5de2b\"],[1.0,\"#fde725\"]],\"type\":\"heatmapgl\"}],\"heatmap\":[{\"colorbar\":{\"outlinewidth\":1,\"tickcolor\":\"rgb(36,36,36)\",\"ticks\":\"outside\"},\"colorscale\":[[0.0,\"#440154\"],[0.1111111111111111,\"#482878\"],[0.2222222222222222,\"#3e4989\"],[0.3333333333333333,\"#31688e\"],[0.4444444444444444,\"#26828e\"],[0.5555555555555556,\"#1f9e89\"],[0.6666666666666666,\"#35b779\"],[0.7777777777777778,\"#6ece58\"],[0.8888888888888888,\"#b5de2b\"],[1.0,\"#fde725\"]],\"type\":\"heatmap\"}],\"histogram2dcontour\":[{\"colorbar\":{\"outlinewidth\":1,\"tickcolor\":\"rgb(36,36,36)\",\"ticks\":\"outside\"},\"colorscale\":[[0.0,\"#440154\"],[0.1111111111111111,\"#482878\"],[0.2222222222222222,\"#3e4989\"],[0.3333333333333333,\"#31688e\"],[0.4444444444444444,\"#26828e\"],[0.5555555555555556,\"#1f9e89\"],[0.6666666666666666,\"#35b779\"],[0.7777777777777778,\"#6ece58\"],[0.8888888888888888,\"#b5de2b\"],[1.0,\"#fde725\"]],\"type\":\"histogram2dcontour\"}],\"histogram2d\":[{\"colorbar\":{\"outlinewidth\":1,\"tickcolor\":\"rgb(36,36,36)\",\"ticks\":\"outside\"},\"colorscale\":[[0.0,\"#440154\"],[0.1111111111111111,\"#482878\"],[0.2222222222222222,\"#3e4989\"],[0.3333333333333333,\"#31688e\"],[0.4444444444444444,\"#26828e\"],[0.5555555555555556,\"#1f9e89\"],[0.6666666666666666,\"#35b779\"],[0.7777777777777778,\"#6ece58\"],[0.8888888888888888,\"#b5de2b\"],[1.0,\"#fde725\"]],\"type\":\"histogram2d\"}],\"histogram\":[{\"marker\":{\"line\":{\"color\":\"white\",\"width\":0.6}},\"type\":\"histogram\"}],\"mesh3d\":[{\"colorbar\":{\"outlinewidth\":1,\"tickcolor\":\"rgb(36,36,36)\",\"ticks\":\"outside\"},\"type\":\"mesh3d\"}],\"parcoords\":[{\"line\":{\"colorbar\":{\"outlinewidth\":1,\"tickcolor\":\"rgb(36,36,36)\",\"ticks\":\"outside\"}},\"type\":\"parcoords\"}],\"pie\":[{\"automargin\":true,\"type\":\"pie\"}],\"scatter3d\":[{\"line\":{\"colorbar\":{\"outlinewidth\":1,\"tickcolor\":\"rgb(36,36,36)\",\"ticks\":\"outside\"}},\"marker\":{\"colorbar\":{\"outlinewidth\":1,\"tickcolor\":\"rgb(36,36,36)\",\"ticks\":\"outside\"}},\"type\":\"scatter3d\"}],\"scattercarpet\":[{\"marker\":{\"colorbar\":{\"outlinewidth\":1,\"tickcolor\":\"rgb(36,36,36)\",\"ticks\":\"outside\"}},\"type\":\"scattercarpet\"}],\"scattergeo\":[{\"marker\":{\"colorbar\":{\"outlinewidth\":1,\"tickcolor\":\"rgb(36,36,36)\",\"ticks\":\"outside\"}},\"type\":\"scattergeo\"}],\"scattergl\":[{\"marker\":{\"colorbar\":{\"outlinewidth\":1,\"tickcolor\":\"rgb(36,36,36)\",\"ticks\":\"outside\"}},\"type\":\"scattergl\"}],\"scattermapbox\":[{\"marker\":{\"colorbar\":{\"outlinewidth\":1,\"tickcolor\":\"rgb(36,36,36)\",\"ticks\":\"outside\"}},\"type\":\"scattermapbox\"}],\"scatterpolargl\":[{\"marker\":{\"colorbar\":{\"outlinewidth\":1,\"tickcolor\":\"rgb(36,36,36)\",\"ticks\":\"outside\"}},\"type\":\"scatterpolargl\"}],\"scatterpolar\":[{\"marker\":{\"colorbar\":{\"outlinewidth\":1,\"tickcolor\":\"rgb(36,36,36)\",\"ticks\":\"outside\"}},\"type\":\"scatterpolar\"}],\"scatter\":[{\"fillpattern\":{\"fillmode\":\"overlay\",\"size\":10,\"solidity\":0.2},\"type\":\"scatter\"}],\"scatterternary\":[{\"marker\":{\"colorbar\":{\"outlinewidth\":1,\"tickcolor\":\"rgb(36,36,36)\",\"ticks\":\"outside\"}},\"type\":\"scatterternary\"}],\"surface\":[{\"colorbar\":{\"outlinewidth\":1,\"tickcolor\":\"rgb(36,36,36)\",\"ticks\":\"outside\"},\"colorscale\":[[0.0,\"#440154\"],[0.1111111111111111,\"#482878\"],[0.2222222222222222,\"#3e4989\"],[0.3333333333333333,\"#31688e\"],[0.4444444444444444,\"#26828e\"],[0.5555555555555556,\"#1f9e89\"],[0.6666666666666666,\"#35b779\"],[0.7777777777777778,\"#6ece58\"],[0.8888888888888888,\"#b5de2b\"],[1.0,\"#fde725\"]],\"type\":\"surface\"}],\"table\":[{\"cells\":{\"fill\":{\"color\":\"rgb(237,237,237)\"},\"line\":{\"color\":\"white\"}},\"header\":{\"fill\":{\"color\":\"rgb(217,217,217)\"},\"line\":{\"color\":\"white\"}},\"type\":\"table\"}]},\"layout\":{\"annotationdefaults\":{\"arrowhead\":0,\"arrowwidth\":1},\"autotypenumbers\":\"strict\",\"coloraxis\":{\"colorbar\":{\"outlinewidth\":1,\"tickcolor\":\"rgb(36,36,36)\",\"ticks\":\"outside\"}},\"colorscale\":{\"diverging\":[[0.0,\"rgb(103,0,31)\"],[0.1,\"rgb(178,24,43)\"],[0.2,\"rgb(214,96,77)\"],[0.3,\"rgb(244,165,130)\"],[0.4,\"rgb(253,219,199)\"],[0.5,\"rgb(247,247,247)\"],[0.6,\"rgb(209,229,240)\"],[0.7,\"rgb(146,197,222)\"],[0.8,\"rgb(67,147,195)\"],[0.9,\"rgb(33,102,172)\"],[1.0,\"rgb(5,48,97)\"]],\"sequential\":[[0.0,\"#440154\"],[0.1111111111111111,\"#482878\"],[0.2222222222222222,\"#3e4989\"],[0.3333333333333333,\"#31688e\"],[0.4444444444444444,\"#26828e\"],[0.5555555555555556,\"#1f9e89\"],[0.6666666666666666,\"#35b779\"],[0.7777777777777778,\"#6ece58\"],[0.8888888888888888,\"#b5de2b\"],[1.0,\"#fde725\"]],\"sequentialminus\":[[0.0,\"#440154\"],[0.1111111111111111,\"#482878\"],[0.2222222222222222,\"#3e4989\"],[0.3333333333333333,\"#31688e\"],[0.4444444444444444,\"#26828e\"],[0.5555555555555556,\"#1f9e89\"],[0.6666666666666666,\"#35b779\"],[0.7777777777777778,\"#6ece58\"],[0.8888888888888888,\"#b5de2b\"],[1.0,\"#fde725\"]]},\"colorway\":[\"#91268F\",\"#8CC63E\",\"#00A7A0\",\"#F05A28\",\"#4C4C4C\",\"#630460\",\"#9f3913\",\"#588527\",\"#00716c\",\"#3e4040\"],\"font\":{\"color\":\"rgb(36,36,36)\",\"family\":\"Poppins\",\"size\":11},\"geo\":{\"bgcolor\":\"white\",\"lakecolor\":\"white\",\"landcolor\":\"white\",\"showlakes\":true,\"showland\":true,\"subunitcolor\":\"white\"},\"hoverlabel\":{\"align\":\"left\"},\"hovermode\":\"closest\",\"mapbox\":{\"style\":\"light\"},\"paper_bgcolor\":\"white\",\"plot_bgcolor\":\"white\",\"polar\":{\"angularaxis\":{\"gridcolor\":\"rgb(232,232,232)\",\"linecolor\":\"rgb(36,36,36)\",\"showgrid\":false,\"showline\":true,\"ticks\":\"outside\"},\"bgcolor\":\"white\",\"radialaxis\":{\"gridcolor\":\"rgb(232,232,232)\",\"linecolor\":\"rgb(36,36,36)\",\"showgrid\":false,\"showline\":true,\"ticks\":\"outside\"}},\"scene\":{\"xaxis\":{\"backgroundcolor\":\"white\",\"gridcolor\":\"rgb(232,232,232)\",\"gridwidth\":2,\"linecolor\":\"rgb(36,36,36)\",\"showbackground\":true,\"showgrid\":false,\"showline\":true,\"ticks\":\"outside\",\"zeroline\":false,\"zerolinecolor\":\"rgb(36,36,36)\"},\"yaxis\":{\"backgroundcolor\":\"white\",\"gridcolor\":\"rgb(232,232,232)\",\"gridwidth\":2,\"linecolor\":\"rgb(36,36,36)\",\"showbackground\":true,\"showgrid\":false,\"showline\":true,\"ticks\":\"outside\",\"zeroline\":false,\"zerolinecolor\":\"rgb(36,36,36)\"},\"zaxis\":{\"backgroundcolor\":\"white\",\"gridcolor\":\"rgb(232,232,232)\",\"gridwidth\":2,\"linecolor\":\"rgb(36,36,36)\",\"showbackground\":true,\"showgrid\":false,\"showline\":true,\"ticks\":\"outside\",\"zeroline\":false,\"zerolinecolor\":\"rgb(36,36,36)\"}},\"shapedefaults\":{\"fillcolor\":\"black\",\"line\":{\"width\":0},\"opacity\":0.3},\"ternary\":{\"aaxis\":{\"gridcolor\":\"rgb(232,232,232)\",\"linecolor\":\"rgb(36,36,36)\",\"showgrid\":false,\"showline\":true,\"ticks\":\"outside\"},\"baxis\":{\"gridcolor\":\"rgb(232,232,232)\",\"linecolor\":\"rgb(36,36,36)\",\"showgrid\":false,\"showline\":true,\"ticks\":\"outside\"},\"bgcolor\":\"white\",\"caxis\":{\"gridcolor\":\"rgb(232,232,232)\",\"linecolor\":\"rgb(36,36,36)\",\"showgrid\":false,\"showline\":true,\"ticks\":\"outside\"}},\"title\":{\"x\":0.05},\"xaxis\":{\"automargin\":true,\"gridcolor\":\"rgb(232,232,232)\",\"linecolor\":\"rgb(36,36,36)\",\"showgrid\":false,\"showline\":true,\"ticks\":\"outside\",\"title\":{\"standoff\":15},\"zeroline\":false,\"zerolinecolor\":\"rgb(36,36,36)\"},\"yaxis\":{\"automargin\":true,\"gridcolor\":\"rgb(232,232,232)\",\"linecolor\":\"rgb(36,36,36)\",\"showgrid\":false,\"showline\":true,\"ticks\":\"outside\",\"title\":{\"standoff\":15},\"zeroline\":false,\"zerolinecolor\":\"rgb(36,36,36)\"}}},\"xaxis\":{\"anchor\":\"y\",\"domain\":[0.0,0.49],\"title\":{\"text\":\"percentage\"},\"tickformat\":\".1%\"},\"yaxis\":{\"anchor\":\"x\",\"domain\":[0.0,0.1975],\"title\":{\"text\":\"mode_label\"},\"categoryorder\":\"array\",\"categoryarray\":[\"9: other\\u00e2\\u20ac\\u201csurvey only\",\"8: school bus\",\"6: transit\",\"5: hov 3+\",\"4: hov 2\",\"3: sov\",\"2: bike\",\"1: walk\"]},\"xaxis2\":{\"anchor\":\"y2\",\"domain\":[0.51,1.0],\"matches\":\"x\",\"title\":{\"text\":\"percentage\"},\"tickformat\":\".1%\"},\"yaxis2\":{\"anchor\":\"x2\",\"domain\":[0.0,0.1975],\"matches\":\"y\",\"showticklabels\":false},\"xaxis3\":{\"anchor\":\"y3\",\"domain\":[0.0,0.49],\"matches\":\"x\",\"showticklabels\":false,\"tickformat\":\".1%\"},\"yaxis3\":{\"anchor\":\"x3\",\"domain\":[0.2675,0.465],\"matches\":\"y\",\"title\":{\"text\":\"mode_label\"},\"categoryorder\":\"array\",\"categoryarray\":[\"9: other\\u00e2\\u20ac\\u201csurvey only\",\"8: school bus\",\"6: transit\",\"5: hov 3+\",\"4: hov 2\",\"3: sov\",\"2: bike\",\"1: walk\"]},\"xaxis4\":{\"anchor\":\"y4\",\"domain\":[0.51,1.0],\"matches\":\"x\",\"showticklabels\":false,\"tickformat\":\".1%\"},\"yaxis4\":{\"anchor\":\"x4\",\"domain\":[0.2675,0.465],\"matches\":\"y\",\"showticklabels\":false},\"xaxis5\":{\"anchor\":\"y5\",\"domain\":[0.0,0.49],\"matches\":\"x\",\"showticklabels\":false,\"tickformat\":\".1%\"},\"yaxis5\":{\"anchor\":\"x5\",\"domain\":[0.535,0.7325],\"matches\":\"y\",\"title\":{\"text\":\"mode_label\"},\"categoryorder\":\"array\",\"categoryarray\":[\"9: other\\u00e2\\u20ac\\u201csurvey only\",\"8: school bus\",\"6: transit\",\"5: hov 3+\",\"4: hov 2\",\"3: sov\",\"2: bike\",\"1: walk\"]},\"xaxis6\":{\"anchor\":\"y6\",\"domain\":[0.51,1.0],\"matches\":\"x\",\"showticklabels\":false,\"tickformat\":\".1%\"},\"yaxis6\":{\"anchor\":\"x6\",\"domain\":[0.535,0.7325],\"matches\":\"y\",\"showticklabels\":false},\"xaxis7\":{\"anchor\":\"y7\",\"domain\":[0.0,0.49],\"matches\":\"x\",\"showticklabels\":false,\"tickformat\":\".1%\"},\"yaxis7\":{\"anchor\":\"x7\",\"domain\":[0.8025,1.0],\"matches\":\"y\",\"title\":{\"text\":\"mode_label\"},\"categoryorder\":\"array\",\"categoryarray\":[\"9: other\\u00e2\\u20ac\\u201csurvey only\",\"8: school bus\",\"6: transit\",\"5: hov 3+\",\"4: hov 2\",\"3: sov\",\"2: bike\",\"1: walk\"]},\"xaxis8\":{\"anchor\":\"y8\",\"domain\":[0.51,1.0],\"matches\":\"x\",\"showticklabels\":false,\"tickformat\":\".1%\"},\"yaxis8\":{\"anchor\":\"x8\",\"domain\":[0.8025,1.0],\"matches\":\"y\",\"showticklabels\":false},\"annotations\":[{\"font\":{},\"showarrow\":false,\"text\":\"6.0\",\"x\":0.245,\"xanchor\":\"center\",\"xref\":\"paper\",\"y\":0.1975,\"yanchor\":\"bottom\",\"yref\":\"paper\"},{\"font\":{},\"showarrow\":false,\"text\":\"7.0\",\"x\":0.755,\"xanchor\":\"center\",\"xref\":\"paper\",\"y\":0.1975,\"yanchor\":\"bottom\",\"yref\":\"paper\"},{\"font\":{},\"showarrow\":false,\"text\":\"4.0\",\"x\":0.245,\"xanchor\":\"center\",\"xref\":\"paper\",\"y\":0.465,\"yanchor\":\"bottom\",\"yref\":\"paper\"},{\"font\":{},\"showarrow\":false,\"text\":\"5.0\",\"x\":0.755,\"xanchor\":\"center\",\"xref\":\"paper\",\"y\":0.465,\"yanchor\":\"bottom\",\"yref\":\"paper\"},{\"font\":{},\"showarrow\":false,\"text\":\"2.0\",\"x\":0.245,\"xanchor\":\"center\",\"xref\":\"paper\",\"y\":0.7325,\"yanchor\":\"bottom\",\"yref\":\"paper\"},{\"font\":{},\"showarrow\":false,\"text\":\"3.0\",\"x\":0.755,\"xanchor\":\"center\",\"xref\":\"paper\",\"y\":0.7325,\"yanchor\":\"bottom\",\"yref\":\"paper\"},{\"font\":{},\"showarrow\":false,\"text\":\"0.0\",\"x\":0.245,\"xanchor\":\"center\",\"xref\":\"paper\",\"y\":1.0,\"yanchor\":\"bottom\",\"yref\":\"paper\"},{\"font\":{},\"showarrow\":false,\"text\":\"1.0\",\"x\":0.755,\"xanchor\":\"center\",\"xref\":\"paper\",\"y\":1.0,\"yanchor\":\"bottom\",\"yref\":\"paper\"}],\"legend\":{\"title\":{\"text\":\"source\"},\"tracegroupgap\":0},\"title\":{\"text\":\"escort trip mode choice by HH with Children 5-15\"},\"barmode\":\"group\",\"height\":800,\"width\":800},                        {\"responsive\": true}                    ).then(function(){\n",
       "                            \n",
       "var gd = document.getElementById('fc3f172f-7b2a-47f0-9cac-897a8ae80458');\n",
       "var x = new MutationObserver(function (mutations, observer) {{\n",
       "        var display = window.getComputedStyle(gd).display;\n",
       "        if (!display || display === 'none') {{\n",
       "            console.log([gd, 'removed!']);\n",
       "            Plotly.purge(gd);\n",
       "            observer.disconnect();\n",
       "        }}\n",
       "}});\n",
       "\n",
       "// Listen for the removal of the full notebook cells\n",
       "var notebookContainer = gd.closest('#notebook-container');\n",
       "if (notebookContainer) {{\n",
       "    x.observe(notebookContainer, {childList: true});\n",
       "}}\n",
       "\n",
       "// Listen for the clearing of the current output cell\n",
       "var outputEl = gd.closest('.output');\n",
       "if (outputEl) {{\n",
       "    x.observe(outputEl, {childList: true});\n",
       "}}\n",
       "\n",
       "                        })                };                });            </script>        </div>"
      ]
     },
     "metadata": {},
     "output_type": "display_data"
    }
   ],
   "source": [
    "plot_mode_choice(es_trip,\n",
    "                 \"hh515\",\n",
    "                 {\n",
    "                  \"mode_label\":[\"1: walk\",\"2: bike\",\"3: sov\",\"4: hov 2\",\"5: hov 3+\",\"6: transit\",\n",
    "                                   \"8: school bus\",\"9: other–survey only\"]},\n",
    "                 \"HH with Children 5-15\",2,800)"
   ]
  },
  {
   "cell_type": "raw",
   "metadata": {
    "vscode": {
     "languageId": "raw"
    }
   },
   "source": [
    "### High School Students "
   ]
  },
  {
   "cell_type": "code",
   "execution_count": 12,
   "metadata": {
    "execution": {
     "iopub.execute_input": "2025-01-21T06:22:05.120456Z",
     "iopub.status.busy": "2025-01-21T06:22:05.119459Z",
     "iopub.status.idle": "2025-01-21T06:22:05.786703Z",
     "shell.execute_reply": "2025-01-21T06:22:05.784048Z"
    }
   },
   "outputs": [
    {
     "data": {
      "application/vnd.plotly.v1+json": {
       "config": {
        "plotlyServerURL": "https://plot.ly"
       },
       "data": [
        {
         "alignmentgroup": "True",
         "customdata": [
          [
           153195
          ],
          [
           19396
          ],
          [
           495183
          ],
          [
           421798
          ],
          [
           342922
          ],
          [
           7962
          ],
          [
           14059
          ],
          [
           1880
          ]
         ],
         "hovertemplate": "source=model<br>hhhsc=0.0<br>percentage=%{x}<br>mode_label=%{y}<br>sample count=%{customdata[0]}<extra></extra>",
         "legendgroup": "model",
         "marker": {
          "color": "#91268F",
          "pattern": {
           "shape": ""
          }
         },
         "name": "model",
         "offsetgroup": "model",
         "orientation": "h",
         "showlegend": true,
         "textposition": "auto",
         "type": "bar",
         "x": [
          0.10518780962582266,
          0.013317815565145445,
          0.34000597365412544,
          0.2896178577927005,
          0.23545947356314736,
          0.005466923465131369,
          0.009653287741306445,
          0.0012908585926208207
         ],
         "xaxis": "x5",
         "y": [
          "1: walk",
          "2: bike",
          "3: sov",
          "4: hov 2",
          "5: hov 3+",
          "6: transit",
          "8: school bus",
          "9: tnc"
         ],
         "yaxis": "y5"
        },
        {
         "alignmentgroup": "True",
         "customdata": [
          [
           13663
          ],
          [
           2294
          ],
          [
           55065
          ],
          [
           51631
          ],
          [
           48829
          ],
          [
           1067
          ],
          [
           2932
          ],
          [
           91
          ]
         ],
         "hovertemplate": "source=model<br>hhhsc=1.0<br>percentage=%{x}<br>mode_label=%{y}<br>sample count=%{customdata[0]}<extra></extra>",
         "legendgroup": "model",
         "marker": {
          "color": "#91268F",
          "pattern": {
           "shape": ""
          }
         },
         "name": "model",
         "offsetgroup": "model",
         "orientation": "h",
         "showlegend": false,
         "textposition": "auto",
         "type": "bar",
         "x": [
          0.07781992572847607,
          0.013065864716469597,
          0.31363201421638986,
          0.29407308682477845,
          0.27811382224956144,
          0.0060772788371722146,
          0.016699701546943703,
          0.0005183058802086893
         ],
         "xaxis": "x6",
         "y": [
          "1: walk",
          "2: bike",
          "3: sov",
          "4: hov 2",
          "5: hov 3+",
          "6: transit",
          "8: school bus",
          "9: tnc"
         ],
         "yaxis": "y6"
        },
        {
         "alignmentgroup": "True",
         "customdata": [
          [
           2013
          ],
          [
           361
          ],
          [
           6694
          ],
          [
           7132
          ],
          [
           7149
          ],
          [
           161
          ],
          [
           560
          ],
          [
           5
          ]
         ],
         "hovertemplate": "source=model<br>hhhsc=2.0<br>percentage=%{x}<br>mode_label=%{y}<br>sample count=%{customdata[0]}<extra></extra>",
         "legendgroup": "model",
         "marker": {
          "color": "#91268F",
          "pattern": {
           "shape": ""
          }
         },
         "name": "model",
         "offsetgroup": "model",
         "orientation": "h",
         "showlegend": false,
         "textposition": "auto",
         "type": "bar",
         "x": [
          0.08361370716510903,
          0.014994807892004153,
          0.2780477673935618,
          0.29624091381100726,
          0.2969470404984424,
          0.006687435098650052,
          0.023260643821391484,
          0.00020768431983385254
         ],
         "xaxis": "x3",
         "y": [
          "1: walk",
          "2: bike",
          "3: sov",
          "4: hov 2",
          "5: hov 3+",
          "6: transit",
          "8: school bus",
          "9: tnc"
         ],
         "yaxis": "y3"
        },
        {
         "alignmentgroup": "True",
         "customdata": [
          [
           46
          ],
          [
           12
          ],
          [
           157
          ],
          [
           188
          ],
          [
           203
          ],
          [
           2
          ],
          [
           13
          ]
         ],
         "hovertemplate": "source=model<br>hhhsc=3.0<br>percentage=%{x}<br>mode_label=%{y}<br>sample count=%{customdata[0]}<extra></extra>",
         "legendgroup": "model",
         "marker": {
          "color": "#91268F",
          "pattern": {
           "shape": ""
          }
         },
         "name": "model",
         "offsetgroup": "model",
         "orientation": "h",
         "showlegend": false,
         "textposition": "auto",
         "type": "bar",
         "x": [
          0.07407407407407407,
          0.01932367149758454,
          0.2528180354267311,
          0.3027375201288245,
          0.32689210950080516,
          0.00322061191626409,
          0.020933977455716585
         ],
         "xaxis": "x4",
         "y": [
          "1: walk",
          "2: bike",
          "3: sov",
          "4: hov 2",
          "5: hov 3+",
          "6: transit",
          "8: school bus"
         ],
         "yaxis": "y4"
        },
        {
         "alignmentgroup": "True",
         "customdata": [
          [
           5
          ],
          [
           6
          ],
          [
           7
          ],
          [
           6
          ],
          [
           2
          ]
         ],
         "hovertemplate": "source=model<br>hhhsc=6.0<br>percentage=%{x}<br>mode_label=%{y}<br>sample count=%{customdata[0]}<extra></extra>",
         "legendgroup": "model",
         "marker": {
          "color": "#91268F",
          "pattern": {
           "shape": ""
          }
         },
         "name": "model",
         "offsetgroup": "model",
         "orientation": "h",
         "showlegend": false,
         "textposition": "auto",
         "type": "bar",
         "x": [
          0.19230769230769232,
          0.23076923076923078,
          0.2692307692307692,
          0.23076923076923078,
          0.07692307692307693
         ],
         "xaxis": "x",
         "y": [
          "1: walk",
          "3: sov",
          "4: hov 2",
          "5: hov 3+",
          "6: transit"
         ],
         "yaxis": "y"
        },
        {
         "alignmentgroup": "True",
         "customdata": [
          [
           137
          ],
          [
           23
          ],
          [
           328
          ],
          [
           467
          ],
          [
           382
          ],
          [
           5
          ],
          [
           3
          ]
         ],
         "hovertemplate": "source=survey<br>hhhsc=0.0<br>percentage=%{x}<br>mode_label=%{y}<br>sample count=%{customdata[0]}<extra></extra>",
         "legendgroup": "survey",
         "marker": {
          "color": "#8CC63E",
          "pattern": {
           "shape": ""
          }
         },
         "name": "survey",
         "offsetgroup": "survey",
         "orientation": "h",
         "showlegend": true,
         "textposition": "auto",
         "type": "bar",
         "x": [
          0.07254118135090128,
          0.0012467854894675431,
          0.2560160555594218,
          0.35442167394540836,
          0.31522260262359475,
          0.00036439524475977364,
          0.00018730578644668755
         ],
         "xaxis": "x5",
         "y": [
          "1: walk",
          "2: bike",
          "3: sov",
          "4: hov 2",
          "5: hov 3+",
          "6: transit",
          "8: school bus"
         ],
         "yaxis": "y5"
        },
        {
         "alignmentgroup": "True",
         "customdata": [
          [
           1
          ],
          [
           1
          ],
          [
           26
          ],
          [
           41
          ],
          [
           23
          ]
         ],
         "hovertemplate": "source=survey<br>hhhsc=1.0<br>percentage=%{x}<br>mode_label=%{y}<br>sample count=%{customdata[0]}<extra></extra>",
         "legendgroup": "survey",
         "marker": {
          "color": "#8CC63E",
          "pattern": {
           "shape": ""
          }
         },
         "name": "survey",
         "offsetgroup": "survey",
         "orientation": "h",
         "showlegend": false,
         "textposition": "auto",
         "type": "bar",
         "x": [
          7.850311635549638e-05,
          0.005076773970343157,
          0.268921706820947,
          0.3209616843874204,
          0.40496133170493387
         ],
         "xaxis": "x6",
         "y": [
          "1: walk",
          "2: bike",
          "3: sov",
          "4: hov 2",
          "5: hov 3+"
         ],
         "yaxis": "y6"
        },
        {
         "alignmentgroup": "True",
         "customdata": [
          [
           4
          ],
          [
           2
          ],
          [
           8
          ]
         ],
         "hovertemplate": "source=survey<br>hhhsc=2.0<br>percentage=%{x}<br>mode_label=%{y}<br>sample count=%{customdata[0]}<extra></extra>",
         "legendgroup": "survey",
         "marker": {
          "color": "#8CC63E",
          "pattern": {
           "shape": ""
          }
         },
         "name": "survey",
         "offsetgroup": "survey",
         "orientation": "h",
         "showlegend": false,
         "textposition": "auto",
         "type": "bar",
         "x": [
          0.17326973577535668,
          0.09583702742553453,
          0.7308932367991089
         ],
         "xaxis": "x3",
         "y": [
          "3: sov",
          "4: hov 2",
          "5: hov 3+"
         ],
         "yaxis": "y3"
        }
       ],
       "layout": {
        "annotations": [
         {
          "font": {},
          "showarrow": false,
          "text": "6.0",
          "x": 0.245,
          "xanchor": "center",
          "xref": "paper",
          "y": 0.2866666666666666,
          "yanchor": "bottom",
          "yref": "paper"
         },
         {
          "font": {},
          "showarrow": false,
          "text": "2.0",
          "x": 0.245,
          "xanchor": "center",
          "xref": "paper",
          "y": 0.6433333333333333,
          "yanchor": "bottom",
          "yref": "paper"
         },
         {
          "font": {},
          "showarrow": false,
          "text": "3.0",
          "x": 0.755,
          "xanchor": "center",
          "xref": "paper",
          "y": 0.6433333333333333,
          "yanchor": "bottom",
          "yref": "paper"
         },
         {
          "font": {},
          "showarrow": false,
          "text": "0.0",
          "x": 0.245,
          "xanchor": "center",
          "xref": "paper",
          "y": 0.9999999999999999,
          "yanchor": "bottom",
          "yref": "paper"
         },
         {
          "font": {},
          "showarrow": false,
          "text": "1.0",
          "x": 0.755,
          "xanchor": "center",
          "xref": "paper",
          "y": 0.9999999999999999,
          "yanchor": "bottom",
          "yref": "paper"
         }
        ],
        "barmode": "group",
        "height": 800,
        "legend": {
         "title": {
          "text": "source"
         },
         "tracegroupgap": 0
        },
        "template": {
         "data": {
          "bar": [
           {
            "error_x": {
             "color": "rgb(36,36,36)"
            },
            "error_y": {
             "color": "rgb(36,36,36)"
            },
            "marker": {
             "line": {
              "color": "white",
              "width": 0.5
             },
             "pattern": {
              "fillmode": "overlay",
              "size": 10,
              "solidity": 0.2
             }
            },
            "type": "bar"
           }
          ],
          "barpolar": [
           {
            "marker": {
             "line": {
              "color": "white",
              "width": 0.5
             },
             "pattern": {
              "fillmode": "overlay",
              "size": 10,
              "solidity": 0.2
             }
            },
            "type": "barpolar"
           }
          ],
          "carpet": [
           {
            "aaxis": {
             "endlinecolor": "rgb(36,36,36)",
             "gridcolor": "white",
             "linecolor": "white",
             "minorgridcolor": "white",
             "startlinecolor": "rgb(36,36,36)"
            },
            "baxis": {
             "endlinecolor": "rgb(36,36,36)",
             "gridcolor": "white",
             "linecolor": "white",
             "minorgridcolor": "white",
             "startlinecolor": "rgb(36,36,36)"
            },
            "type": "carpet"
           }
          ],
          "choropleth": [
           {
            "colorbar": {
             "outlinewidth": 1,
             "tickcolor": "rgb(36,36,36)",
             "ticks": "outside"
            },
            "type": "choropleth"
           }
          ],
          "contour": [
           {
            "colorbar": {
             "outlinewidth": 1,
             "tickcolor": "rgb(36,36,36)",
             "ticks": "outside"
            },
            "colorscale": [
             [
              0.0,
              "#440154"
             ],
             [
              0.1111111111111111,
              "#482878"
             ],
             [
              0.2222222222222222,
              "#3e4989"
             ],
             [
              0.3333333333333333,
              "#31688e"
             ],
             [
              0.4444444444444444,
              "#26828e"
             ],
             [
              0.5555555555555556,
              "#1f9e89"
             ],
             [
              0.6666666666666666,
              "#35b779"
             ],
             [
              0.7777777777777778,
              "#6ece58"
             ],
             [
              0.8888888888888888,
              "#b5de2b"
             ],
             [
              1.0,
              "#fde725"
             ]
            ],
            "type": "contour"
           }
          ],
          "contourcarpet": [
           {
            "colorbar": {
             "outlinewidth": 1,
             "tickcolor": "rgb(36,36,36)",
             "ticks": "outside"
            },
            "type": "contourcarpet"
           }
          ],
          "heatmap": [
           {
            "colorbar": {
             "outlinewidth": 1,
             "tickcolor": "rgb(36,36,36)",
             "ticks": "outside"
            },
            "colorscale": [
             [
              0.0,
              "#440154"
             ],
             [
              0.1111111111111111,
              "#482878"
             ],
             [
              0.2222222222222222,
              "#3e4989"
             ],
             [
              0.3333333333333333,
              "#31688e"
             ],
             [
              0.4444444444444444,
              "#26828e"
             ],
             [
              0.5555555555555556,
              "#1f9e89"
             ],
             [
              0.6666666666666666,
              "#35b779"
             ],
             [
              0.7777777777777778,
              "#6ece58"
             ],
             [
              0.8888888888888888,
              "#b5de2b"
             ],
             [
              1.0,
              "#fde725"
             ]
            ],
            "type": "heatmap"
           }
          ],
          "heatmapgl": [
           {
            "colorbar": {
             "outlinewidth": 1,
             "tickcolor": "rgb(36,36,36)",
             "ticks": "outside"
            },
            "colorscale": [
             [
              0.0,
              "#440154"
             ],
             [
              0.1111111111111111,
              "#482878"
             ],
             [
              0.2222222222222222,
              "#3e4989"
             ],
             [
              0.3333333333333333,
              "#31688e"
             ],
             [
              0.4444444444444444,
              "#26828e"
             ],
             [
              0.5555555555555556,
              "#1f9e89"
             ],
             [
              0.6666666666666666,
              "#35b779"
             ],
             [
              0.7777777777777778,
              "#6ece58"
             ],
             [
              0.8888888888888888,
              "#b5de2b"
             ],
             [
              1.0,
              "#fde725"
             ]
            ],
            "type": "heatmapgl"
           }
          ],
          "histogram": [
           {
            "marker": {
             "line": {
              "color": "white",
              "width": 0.6
             }
            },
            "type": "histogram"
           }
          ],
          "histogram2d": [
           {
            "colorbar": {
             "outlinewidth": 1,
             "tickcolor": "rgb(36,36,36)",
             "ticks": "outside"
            },
            "colorscale": [
             [
              0.0,
              "#440154"
             ],
             [
              0.1111111111111111,
              "#482878"
             ],
             [
              0.2222222222222222,
              "#3e4989"
             ],
             [
              0.3333333333333333,
              "#31688e"
             ],
             [
              0.4444444444444444,
              "#26828e"
             ],
             [
              0.5555555555555556,
              "#1f9e89"
             ],
             [
              0.6666666666666666,
              "#35b779"
             ],
             [
              0.7777777777777778,
              "#6ece58"
             ],
             [
              0.8888888888888888,
              "#b5de2b"
             ],
             [
              1.0,
              "#fde725"
             ]
            ],
            "type": "histogram2d"
           }
          ],
          "histogram2dcontour": [
           {
            "colorbar": {
             "outlinewidth": 1,
             "tickcolor": "rgb(36,36,36)",
             "ticks": "outside"
            },
            "colorscale": [
             [
              0.0,
              "#440154"
             ],
             [
              0.1111111111111111,
              "#482878"
             ],
             [
              0.2222222222222222,
              "#3e4989"
             ],
             [
              0.3333333333333333,
              "#31688e"
             ],
             [
              0.4444444444444444,
              "#26828e"
             ],
             [
              0.5555555555555556,
              "#1f9e89"
             ],
             [
              0.6666666666666666,
              "#35b779"
             ],
             [
              0.7777777777777778,
              "#6ece58"
             ],
             [
              0.8888888888888888,
              "#b5de2b"
             ],
             [
              1.0,
              "#fde725"
             ]
            ],
            "type": "histogram2dcontour"
           }
          ],
          "mesh3d": [
           {
            "colorbar": {
             "outlinewidth": 1,
             "tickcolor": "rgb(36,36,36)",
             "ticks": "outside"
            },
            "type": "mesh3d"
           }
          ],
          "parcoords": [
           {
            "line": {
             "colorbar": {
              "outlinewidth": 1,
              "tickcolor": "rgb(36,36,36)",
              "ticks": "outside"
             }
            },
            "type": "parcoords"
           }
          ],
          "pie": [
           {
            "automargin": true,
            "type": "pie"
           }
          ],
          "scatter": [
           {
            "fillpattern": {
             "fillmode": "overlay",
             "size": 10,
             "solidity": 0.2
            },
            "type": "scatter"
           }
          ],
          "scatter3d": [
           {
            "line": {
             "colorbar": {
              "outlinewidth": 1,
              "tickcolor": "rgb(36,36,36)",
              "ticks": "outside"
             }
            },
            "marker": {
             "colorbar": {
              "outlinewidth": 1,
              "tickcolor": "rgb(36,36,36)",
              "ticks": "outside"
             }
            },
            "type": "scatter3d"
           }
          ],
          "scattercarpet": [
           {
            "marker": {
             "colorbar": {
              "outlinewidth": 1,
              "tickcolor": "rgb(36,36,36)",
              "ticks": "outside"
             }
            },
            "type": "scattercarpet"
           }
          ],
          "scattergeo": [
           {
            "marker": {
             "colorbar": {
              "outlinewidth": 1,
              "tickcolor": "rgb(36,36,36)",
              "ticks": "outside"
             }
            },
            "type": "scattergeo"
           }
          ],
          "scattergl": [
           {
            "marker": {
             "colorbar": {
              "outlinewidth": 1,
              "tickcolor": "rgb(36,36,36)",
              "ticks": "outside"
             }
            },
            "type": "scattergl"
           }
          ],
          "scattermapbox": [
           {
            "marker": {
             "colorbar": {
              "outlinewidth": 1,
              "tickcolor": "rgb(36,36,36)",
              "ticks": "outside"
             }
            },
            "type": "scattermapbox"
           }
          ],
          "scatterpolar": [
           {
            "marker": {
             "colorbar": {
              "outlinewidth": 1,
              "tickcolor": "rgb(36,36,36)",
              "ticks": "outside"
             }
            },
            "type": "scatterpolar"
           }
          ],
          "scatterpolargl": [
           {
            "marker": {
             "colorbar": {
              "outlinewidth": 1,
              "tickcolor": "rgb(36,36,36)",
              "ticks": "outside"
             }
            },
            "type": "scatterpolargl"
           }
          ],
          "scatterternary": [
           {
            "marker": {
             "colorbar": {
              "outlinewidth": 1,
              "tickcolor": "rgb(36,36,36)",
              "ticks": "outside"
             }
            },
            "type": "scatterternary"
           }
          ],
          "surface": [
           {
            "colorbar": {
             "outlinewidth": 1,
             "tickcolor": "rgb(36,36,36)",
             "ticks": "outside"
            },
            "colorscale": [
             [
              0.0,
              "#440154"
             ],
             [
              0.1111111111111111,
              "#482878"
             ],
             [
              0.2222222222222222,
              "#3e4989"
             ],
             [
              0.3333333333333333,
              "#31688e"
             ],
             [
              0.4444444444444444,
              "#26828e"
             ],
             [
              0.5555555555555556,
              "#1f9e89"
             ],
             [
              0.6666666666666666,
              "#35b779"
             ],
             [
              0.7777777777777778,
              "#6ece58"
             ],
             [
              0.8888888888888888,
              "#b5de2b"
             ],
             [
              1.0,
              "#fde725"
             ]
            ],
            "type": "surface"
           }
          ],
          "table": [
           {
            "cells": {
             "fill": {
              "color": "rgb(237,237,237)"
             },
             "line": {
              "color": "white"
             }
            },
            "header": {
             "fill": {
              "color": "rgb(217,217,217)"
             },
             "line": {
              "color": "white"
             }
            },
            "type": "table"
           }
          ]
         },
         "layout": {
          "annotationdefaults": {
           "arrowhead": 0,
           "arrowwidth": 1
          },
          "autotypenumbers": "strict",
          "coloraxis": {
           "colorbar": {
            "outlinewidth": 1,
            "tickcolor": "rgb(36,36,36)",
            "ticks": "outside"
           }
          },
          "colorscale": {
           "diverging": [
            [
             0.0,
             "rgb(103,0,31)"
            ],
            [
             0.1,
             "rgb(178,24,43)"
            ],
            [
             0.2,
             "rgb(214,96,77)"
            ],
            [
             0.3,
             "rgb(244,165,130)"
            ],
            [
             0.4,
             "rgb(253,219,199)"
            ],
            [
             0.5,
             "rgb(247,247,247)"
            ],
            [
             0.6,
             "rgb(209,229,240)"
            ],
            [
             0.7,
             "rgb(146,197,222)"
            ],
            [
             0.8,
             "rgb(67,147,195)"
            ],
            [
             0.9,
             "rgb(33,102,172)"
            ],
            [
             1.0,
             "rgb(5,48,97)"
            ]
           ],
           "sequential": [
            [
             0.0,
             "#440154"
            ],
            [
             0.1111111111111111,
             "#482878"
            ],
            [
             0.2222222222222222,
             "#3e4989"
            ],
            [
             0.3333333333333333,
             "#31688e"
            ],
            [
             0.4444444444444444,
             "#26828e"
            ],
            [
             0.5555555555555556,
             "#1f9e89"
            ],
            [
             0.6666666666666666,
             "#35b779"
            ],
            [
             0.7777777777777778,
             "#6ece58"
            ],
            [
             0.8888888888888888,
             "#b5de2b"
            ],
            [
             1.0,
             "#fde725"
            ]
           ],
           "sequentialminus": [
            [
             0.0,
             "#440154"
            ],
            [
             0.1111111111111111,
             "#482878"
            ],
            [
             0.2222222222222222,
             "#3e4989"
            ],
            [
             0.3333333333333333,
             "#31688e"
            ],
            [
             0.4444444444444444,
             "#26828e"
            ],
            [
             0.5555555555555556,
             "#1f9e89"
            ],
            [
             0.6666666666666666,
             "#35b779"
            ],
            [
             0.7777777777777778,
             "#6ece58"
            ],
            [
             0.8888888888888888,
             "#b5de2b"
            ],
            [
             1.0,
             "#fde725"
            ]
           ]
          },
          "colorway": [
           "#91268F",
           "#8CC63E",
           "#00A7A0",
           "#F05A28",
           "#4C4C4C",
           "#630460",
           "#9f3913",
           "#588527",
           "#00716c",
           "#3e4040"
          ],
          "font": {
           "color": "rgb(36,36,36)",
           "family": "Poppins",
           "size": 11
          },
          "geo": {
           "bgcolor": "white",
           "lakecolor": "white",
           "landcolor": "white",
           "showlakes": true,
           "showland": true,
           "subunitcolor": "white"
          },
          "hoverlabel": {
           "align": "left"
          },
          "hovermode": "closest",
          "mapbox": {
           "style": "light"
          },
          "paper_bgcolor": "white",
          "plot_bgcolor": "white",
          "polar": {
           "angularaxis": {
            "gridcolor": "rgb(232,232,232)",
            "linecolor": "rgb(36,36,36)",
            "showgrid": false,
            "showline": true,
            "ticks": "outside"
           },
           "bgcolor": "white",
           "radialaxis": {
            "gridcolor": "rgb(232,232,232)",
            "linecolor": "rgb(36,36,36)",
            "showgrid": false,
            "showline": true,
            "ticks": "outside"
           }
          },
          "scene": {
           "xaxis": {
            "backgroundcolor": "white",
            "gridcolor": "rgb(232,232,232)",
            "gridwidth": 2,
            "linecolor": "rgb(36,36,36)",
            "showbackground": true,
            "showgrid": false,
            "showline": true,
            "ticks": "outside",
            "zeroline": false,
            "zerolinecolor": "rgb(36,36,36)"
           },
           "yaxis": {
            "backgroundcolor": "white",
            "gridcolor": "rgb(232,232,232)",
            "gridwidth": 2,
            "linecolor": "rgb(36,36,36)",
            "showbackground": true,
            "showgrid": false,
            "showline": true,
            "ticks": "outside",
            "zeroline": false,
            "zerolinecolor": "rgb(36,36,36)"
           },
           "zaxis": {
            "backgroundcolor": "white",
            "gridcolor": "rgb(232,232,232)",
            "gridwidth": 2,
            "linecolor": "rgb(36,36,36)",
            "showbackground": true,
            "showgrid": false,
            "showline": true,
            "ticks": "outside",
            "zeroline": false,
            "zerolinecolor": "rgb(36,36,36)"
           }
          },
          "shapedefaults": {
           "fillcolor": "black",
           "line": {
            "width": 0
           },
           "opacity": 0.3
          },
          "ternary": {
           "aaxis": {
            "gridcolor": "rgb(232,232,232)",
            "linecolor": "rgb(36,36,36)",
            "showgrid": false,
            "showline": true,
            "ticks": "outside"
           },
           "baxis": {
            "gridcolor": "rgb(232,232,232)",
            "linecolor": "rgb(36,36,36)",
            "showgrid": false,
            "showline": true,
            "ticks": "outside"
           },
           "bgcolor": "white",
           "caxis": {
            "gridcolor": "rgb(232,232,232)",
            "linecolor": "rgb(36,36,36)",
            "showgrid": false,
            "showline": true,
            "ticks": "outside"
           }
          },
          "title": {
           "x": 0.05
          },
          "xaxis": {
           "automargin": true,
           "gridcolor": "rgb(232,232,232)",
           "linecolor": "rgb(36,36,36)",
           "showgrid": false,
           "showline": true,
           "ticks": "outside",
           "title": {
            "standoff": 15
           },
           "zeroline": false,
           "zerolinecolor": "rgb(36,36,36)"
          },
          "yaxis": {
           "automargin": true,
           "gridcolor": "rgb(232,232,232)",
           "linecolor": "rgb(36,36,36)",
           "showgrid": false,
           "showline": true,
           "ticks": "outside",
           "title": {
            "standoff": 15
           },
           "zeroline": false,
           "zerolinecolor": "rgb(36,36,36)"
          }
         }
        },
        "title": {
         "text": "escort trip mode choice by HH with Driving Age Students"
        },
        "width": 800,
        "xaxis": {
         "anchor": "y",
         "domain": [
          0.0,
          0.49
         ],
         "tickformat": ".1%",
         "title": {
          "text": "percentage"
         }
        },
        "xaxis2": {
         "anchor": "y2",
         "domain": [
          0.51,
          1.0
         ],
         "matches": "x",
         "tickformat": ".1%",
         "title": {
          "text": "percentage"
         }
        },
        "xaxis3": {
         "anchor": "y3",
         "domain": [
          0.0,
          0.49
         ],
         "matches": "x",
         "showticklabels": false,
         "tickformat": ".1%"
        },
        "xaxis4": {
         "anchor": "y4",
         "domain": [
          0.51,
          1.0
         ],
         "matches": "x",
         "showticklabels": false,
         "tickformat": ".1%"
        },
        "xaxis5": {
         "anchor": "y5",
         "domain": [
          0.0,
          0.49
         ],
         "matches": "x",
         "showticklabels": false,
         "tickformat": ".1%"
        },
        "xaxis6": {
         "anchor": "y6",
         "domain": [
          0.51,
          1.0
         ],
         "matches": "x",
         "showticklabels": false,
         "tickformat": ".1%"
        },
        "yaxis": {
         "anchor": "x",
         "categoryarray": [
          "9: other–survey only",
          "8: school bus",
          "6: transit",
          "5: hov 3+",
          "4: hov 2",
          "3: sov",
          "2: bike",
          "1: walk"
         ],
         "categoryorder": "array",
         "domain": [
          0.0,
          0.2866666666666666
         ],
         "title": {
          "text": "mode_label"
         }
        },
        "yaxis2": {
         "anchor": "x2",
         "domain": [
          0.0,
          0.2866666666666666
         ],
         "matches": "y",
         "showticklabels": false
        },
        "yaxis3": {
         "anchor": "x3",
         "categoryarray": [
          "9: other–survey only",
          "8: school bus",
          "6: transit",
          "5: hov 3+",
          "4: hov 2",
          "3: sov",
          "2: bike",
          "1: walk"
         ],
         "categoryorder": "array",
         "domain": [
          0.35666666666666663,
          0.6433333333333333
         ],
         "matches": "y",
         "title": {
          "text": "mode_label"
         }
        },
        "yaxis4": {
         "anchor": "x4",
         "domain": [
          0.35666666666666663,
          0.6433333333333333
         ],
         "matches": "y",
         "showticklabels": false
        },
        "yaxis5": {
         "anchor": "x5",
         "categoryarray": [
          "9: other–survey only",
          "8: school bus",
          "6: transit",
          "5: hov 3+",
          "4: hov 2",
          "3: sov",
          "2: bike",
          "1: walk"
         ],
         "categoryorder": "array",
         "domain": [
          0.7133333333333333,
          0.9999999999999999
         ],
         "matches": "y",
         "title": {
          "text": "mode_label"
         }
        },
        "yaxis6": {
         "anchor": "x6",
         "domain": [
          0.7133333333333333,
          0.9999999999999999
         ],
         "matches": "y",
         "showticklabels": false
        }
       }
      },
      "text/html": [
       "<div>                            <div id=\"94e39c9e-c356-4cc8-838e-4be8c0878e0f\" class=\"plotly-graph-div\" style=\"height:800px; width:800px;\"></div>            <script type=\"text/javascript\">                require([\"plotly\"], function(Plotly) {                    window.PLOTLYENV=window.PLOTLYENV || {};                                    if (document.getElementById(\"94e39c9e-c356-4cc8-838e-4be8c0878e0f\")) {                    Plotly.newPlot(                        \"94e39c9e-c356-4cc8-838e-4be8c0878e0f\",                        [{\"alignmentgroup\":\"True\",\"customdata\":[[153195],[19396],[495183],[421798],[342922],[7962],[14059],[1880]],\"hovertemplate\":\"source=model\\u003cbr\\u003ehhhsc=0.0\\u003cbr\\u003epercentage=%{x}\\u003cbr\\u003emode_label=%{y}\\u003cbr\\u003esample count=%{customdata[0]}\\u003cextra\\u003e\\u003c\\u002fextra\\u003e\",\"legendgroup\":\"model\",\"marker\":{\"color\":\"#91268F\",\"pattern\":{\"shape\":\"\"}},\"name\":\"model\",\"offsetgroup\":\"model\",\"orientation\":\"h\",\"showlegend\":true,\"textposition\":\"auto\",\"x\":[0.10518780962582266,0.013317815565145445,0.34000597365412544,0.2896178577927005,0.23545947356314736,0.005466923465131369,0.009653287741306445,0.0012908585926208207],\"xaxis\":\"x5\",\"y\":[\"1: walk\",\"2: bike\",\"3: sov\",\"4: hov 2\",\"5: hov 3+\",\"6: transit\",\"8: school bus\",\"9: tnc\"],\"yaxis\":\"y5\",\"type\":\"bar\"},{\"alignmentgroup\":\"True\",\"customdata\":[[13663],[2294],[55065],[51631],[48829],[1067],[2932],[91]],\"hovertemplate\":\"source=model\\u003cbr\\u003ehhhsc=1.0\\u003cbr\\u003epercentage=%{x}\\u003cbr\\u003emode_label=%{y}\\u003cbr\\u003esample count=%{customdata[0]}\\u003cextra\\u003e\\u003c\\u002fextra\\u003e\",\"legendgroup\":\"model\",\"marker\":{\"color\":\"#91268F\",\"pattern\":{\"shape\":\"\"}},\"name\":\"model\",\"offsetgroup\":\"model\",\"orientation\":\"h\",\"showlegend\":false,\"textposition\":\"auto\",\"x\":[0.07781992572847607,0.013065864716469597,0.31363201421638986,0.29407308682477845,0.27811382224956144,0.0060772788371722146,0.016699701546943703,0.0005183058802086893],\"xaxis\":\"x6\",\"y\":[\"1: walk\",\"2: bike\",\"3: sov\",\"4: hov 2\",\"5: hov 3+\",\"6: transit\",\"8: school bus\",\"9: tnc\"],\"yaxis\":\"y6\",\"type\":\"bar\"},{\"alignmentgroup\":\"True\",\"customdata\":[[2013],[361],[6694],[7132],[7149],[161],[560],[5]],\"hovertemplate\":\"source=model\\u003cbr\\u003ehhhsc=2.0\\u003cbr\\u003epercentage=%{x}\\u003cbr\\u003emode_label=%{y}\\u003cbr\\u003esample count=%{customdata[0]}\\u003cextra\\u003e\\u003c\\u002fextra\\u003e\",\"legendgroup\":\"model\",\"marker\":{\"color\":\"#91268F\",\"pattern\":{\"shape\":\"\"}},\"name\":\"model\",\"offsetgroup\":\"model\",\"orientation\":\"h\",\"showlegend\":false,\"textposition\":\"auto\",\"x\":[0.08361370716510903,0.014994807892004153,0.2780477673935618,0.29624091381100726,0.2969470404984424,0.006687435098650052,0.023260643821391484,0.00020768431983385254],\"xaxis\":\"x3\",\"y\":[\"1: walk\",\"2: bike\",\"3: sov\",\"4: hov 2\",\"5: hov 3+\",\"6: transit\",\"8: school bus\",\"9: tnc\"],\"yaxis\":\"y3\",\"type\":\"bar\"},{\"alignmentgroup\":\"True\",\"customdata\":[[46],[12],[157],[188],[203],[2],[13]],\"hovertemplate\":\"source=model\\u003cbr\\u003ehhhsc=3.0\\u003cbr\\u003epercentage=%{x}\\u003cbr\\u003emode_label=%{y}\\u003cbr\\u003esample count=%{customdata[0]}\\u003cextra\\u003e\\u003c\\u002fextra\\u003e\",\"legendgroup\":\"model\",\"marker\":{\"color\":\"#91268F\",\"pattern\":{\"shape\":\"\"}},\"name\":\"model\",\"offsetgroup\":\"model\",\"orientation\":\"h\",\"showlegend\":false,\"textposition\":\"auto\",\"x\":[0.07407407407407407,0.01932367149758454,0.2528180354267311,0.3027375201288245,0.32689210950080516,0.00322061191626409,0.020933977455716585],\"xaxis\":\"x4\",\"y\":[\"1: walk\",\"2: bike\",\"3: sov\",\"4: hov 2\",\"5: hov 3+\",\"6: transit\",\"8: school bus\"],\"yaxis\":\"y4\",\"type\":\"bar\"},{\"alignmentgroup\":\"True\",\"customdata\":[[5],[6],[7],[6],[2]],\"hovertemplate\":\"source=model\\u003cbr\\u003ehhhsc=6.0\\u003cbr\\u003epercentage=%{x}\\u003cbr\\u003emode_label=%{y}\\u003cbr\\u003esample count=%{customdata[0]}\\u003cextra\\u003e\\u003c\\u002fextra\\u003e\",\"legendgroup\":\"model\",\"marker\":{\"color\":\"#91268F\",\"pattern\":{\"shape\":\"\"}},\"name\":\"model\",\"offsetgroup\":\"model\",\"orientation\":\"h\",\"showlegend\":false,\"textposition\":\"auto\",\"x\":[0.19230769230769232,0.23076923076923078,0.2692307692307692,0.23076923076923078,0.07692307692307693],\"xaxis\":\"x\",\"y\":[\"1: walk\",\"3: sov\",\"4: hov 2\",\"5: hov 3+\",\"6: transit\"],\"yaxis\":\"y\",\"type\":\"bar\"},{\"alignmentgroup\":\"True\",\"customdata\":[[137],[23],[328],[467],[382],[5],[3]],\"hovertemplate\":\"source=survey\\u003cbr\\u003ehhhsc=0.0\\u003cbr\\u003epercentage=%{x}\\u003cbr\\u003emode_label=%{y}\\u003cbr\\u003esample count=%{customdata[0]}\\u003cextra\\u003e\\u003c\\u002fextra\\u003e\",\"legendgroup\":\"survey\",\"marker\":{\"color\":\"#8CC63E\",\"pattern\":{\"shape\":\"\"}},\"name\":\"survey\",\"offsetgroup\":\"survey\",\"orientation\":\"h\",\"showlegend\":true,\"textposition\":\"auto\",\"x\":[0.07254118135090128,0.0012467854894675431,0.2560160555594218,0.35442167394540836,0.31522260262359475,0.00036439524475977364,0.00018730578644668755],\"xaxis\":\"x5\",\"y\":[\"1: walk\",\"2: bike\",\"3: sov\",\"4: hov 2\",\"5: hov 3+\",\"6: transit\",\"8: school bus\"],\"yaxis\":\"y5\",\"type\":\"bar\"},{\"alignmentgroup\":\"True\",\"customdata\":[[1],[1],[26],[41],[23]],\"hovertemplate\":\"source=survey\\u003cbr\\u003ehhhsc=1.0\\u003cbr\\u003epercentage=%{x}\\u003cbr\\u003emode_label=%{y}\\u003cbr\\u003esample count=%{customdata[0]}\\u003cextra\\u003e\\u003c\\u002fextra\\u003e\",\"legendgroup\":\"survey\",\"marker\":{\"color\":\"#8CC63E\",\"pattern\":{\"shape\":\"\"}},\"name\":\"survey\",\"offsetgroup\":\"survey\",\"orientation\":\"h\",\"showlegend\":false,\"textposition\":\"auto\",\"x\":[7.850311635549638e-05,0.005076773970343157,0.268921706820947,0.3209616843874204,0.40496133170493387],\"xaxis\":\"x6\",\"y\":[\"1: walk\",\"2: bike\",\"3: sov\",\"4: hov 2\",\"5: hov 3+\"],\"yaxis\":\"y6\",\"type\":\"bar\"},{\"alignmentgroup\":\"True\",\"customdata\":[[4],[2],[8]],\"hovertemplate\":\"source=survey\\u003cbr\\u003ehhhsc=2.0\\u003cbr\\u003epercentage=%{x}\\u003cbr\\u003emode_label=%{y}\\u003cbr\\u003esample count=%{customdata[0]}\\u003cextra\\u003e\\u003c\\u002fextra\\u003e\",\"legendgroup\":\"survey\",\"marker\":{\"color\":\"#8CC63E\",\"pattern\":{\"shape\":\"\"}},\"name\":\"survey\",\"offsetgroup\":\"survey\",\"orientation\":\"h\",\"showlegend\":false,\"textposition\":\"auto\",\"x\":[0.17326973577535668,0.09583702742553453,0.7308932367991089],\"xaxis\":\"x3\",\"y\":[\"3: sov\",\"4: hov 2\",\"5: hov 3+\"],\"yaxis\":\"y3\",\"type\":\"bar\"}],                        {\"template\":{\"data\":{\"barpolar\":[{\"marker\":{\"line\":{\"color\":\"white\",\"width\":0.5},\"pattern\":{\"fillmode\":\"overlay\",\"size\":10,\"solidity\":0.2}},\"type\":\"barpolar\"}],\"bar\":[{\"error_x\":{\"color\":\"rgb(36,36,36)\"},\"error_y\":{\"color\":\"rgb(36,36,36)\"},\"marker\":{\"line\":{\"color\":\"white\",\"width\":0.5},\"pattern\":{\"fillmode\":\"overlay\",\"size\":10,\"solidity\":0.2}},\"type\":\"bar\"}],\"carpet\":[{\"aaxis\":{\"endlinecolor\":\"rgb(36,36,36)\",\"gridcolor\":\"white\",\"linecolor\":\"white\",\"minorgridcolor\":\"white\",\"startlinecolor\":\"rgb(36,36,36)\"},\"baxis\":{\"endlinecolor\":\"rgb(36,36,36)\",\"gridcolor\":\"white\",\"linecolor\":\"white\",\"minorgridcolor\":\"white\",\"startlinecolor\":\"rgb(36,36,36)\"},\"type\":\"carpet\"}],\"choropleth\":[{\"colorbar\":{\"outlinewidth\":1,\"tickcolor\":\"rgb(36,36,36)\",\"ticks\":\"outside\"},\"type\":\"choropleth\"}],\"contourcarpet\":[{\"colorbar\":{\"outlinewidth\":1,\"tickcolor\":\"rgb(36,36,36)\",\"ticks\":\"outside\"},\"type\":\"contourcarpet\"}],\"contour\":[{\"colorbar\":{\"outlinewidth\":1,\"tickcolor\":\"rgb(36,36,36)\",\"ticks\":\"outside\"},\"colorscale\":[[0.0,\"#440154\"],[0.1111111111111111,\"#482878\"],[0.2222222222222222,\"#3e4989\"],[0.3333333333333333,\"#31688e\"],[0.4444444444444444,\"#26828e\"],[0.5555555555555556,\"#1f9e89\"],[0.6666666666666666,\"#35b779\"],[0.7777777777777778,\"#6ece58\"],[0.8888888888888888,\"#b5de2b\"],[1.0,\"#fde725\"]],\"type\":\"contour\"}],\"heatmapgl\":[{\"colorbar\":{\"outlinewidth\":1,\"tickcolor\":\"rgb(36,36,36)\",\"ticks\":\"outside\"},\"colorscale\":[[0.0,\"#440154\"],[0.1111111111111111,\"#482878\"],[0.2222222222222222,\"#3e4989\"],[0.3333333333333333,\"#31688e\"],[0.4444444444444444,\"#26828e\"],[0.5555555555555556,\"#1f9e89\"],[0.6666666666666666,\"#35b779\"],[0.7777777777777778,\"#6ece58\"],[0.8888888888888888,\"#b5de2b\"],[1.0,\"#fde725\"]],\"type\":\"heatmapgl\"}],\"heatmap\":[{\"colorbar\":{\"outlinewidth\":1,\"tickcolor\":\"rgb(36,36,36)\",\"ticks\":\"outside\"},\"colorscale\":[[0.0,\"#440154\"],[0.1111111111111111,\"#482878\"],[0.2222222222222222,\"#3e4989\"],[0.3333333333333333,\"#31688e\"],[0.4444444444444444,\"#26828e\"],[0.5555555555555556,\"#1f9e89\"],[0.6666666666666666,\"#35b779\"],[0.7777777777777778,\"#6ece58\"],[0.8888888888888888,\"#b5de2b\"],[1.0,\"#fde725\"]],\"type\":\"heatmap\"}],\"histogram2dcontour\":[{\"colorbar\":{\"outlinewidth\":1,\"tickcolor\":\"rgb(36,36,36)\",\"ticks\":\"outside\"},\"colorscale\":[[0.0,\"#440154\"],[0.1111111111111111,\"#482878\"],[0.2222222222222222,\"#3e4989\"],[0.3333333333333333,\"#31688e\"],[0.4444444444444444,\"#26828e\"],[0.5555555555555556,\"#1f9e89\"],[0.6666666666666666,\"#35b779\"],[0.7777777777777778,\"#6ece58\"],[0.8888888888888888,\"#b5de2b\"],[1.0,\"#fde725\"]],\"type\":\"histogram2dcontour\"}],\"histogram2d\":[{\"colorbar\":{\"outlinewidth\":1,\"tickcolor\":\"rgb(36,36,36)\",\"ticks\":\"outside\"},\"colorscale\":[[0.0,\"#440154\"],[0.1111111111111111,\"#482878\"],[0.2222222222222222,\"#3e4989\"],[0.3333333333333333,\"#31688e\"],[0.4444444444444444,\"#26828e\"],[0.5555555555555556,\"#1f9e89\"],[0.6666666666666666,\"#35b779\"],[0.7777777777777778,\"#6ece58\"],[0.8888888888888888,\"#b5de2b\"],[1.0,\"#fde725\"]],\"type\":\"histogram2d\"}],\"histogram\":[{\"marker\":{\"line\":{\"color\":\"white\",\"width\":0.6}},\"type\":\"histogram\"}],\"mesh3d\":[{\"colorbar\":{\"outlinewidth\":1,\"tickcolor\":\"rgb(36,36,36)\",\"ticks\":\"outside\"},\"type\":\"mesh3d\"}],\"parcoords\":[{\"line\":{\"colorbar\":{\"outlinewidth\":1,\"tickcolor\":\"rgb(36,36,36)\",\"ticks\":\"outside\"}},\"type\":\"parcoords\"}],\"pie\":[{\"automargin\":true,\"type\":\"pie\"}],\"scatter3d\":[{\"line\":{\"colorbar\":{\"outlinewidth\":1,\"tickcolor\":\"rgb(36,36,36)\",\"ticks\":\"outside\"}},\"marker\":{\"colorbar\":{\"outlinewidth\":1,\"tickcolor\":\"rgb(36,36,36)\",\"ticks\":\"outside\"}},\"type\":\"scatter3d\"}],\"scattercarpet\":[{\"marker\":{\"colorbar\":{\"outlinewidth\":1,\"tickcolor\":\"rgb(36,36,36)\",\"ticks\":\"outside\"}},\"type\":\"scattercarpet\"}],\"scattergeo\":[{\"marker\":{\"colorbar\":{\"outlinewidth\":1,\"tickcolor\":\"rgb(36,36,36)\",\"ticks\":\"outside\"}},\"type\":\"scattergeo\"}],\"scattergl\":[{\"marker\":{\"colorbar\":{\"outlinewidth\":1,\"tickcolor\":\"rgb(36,36,36)\",\"ticks\":\"outside\"}},\"type\":\"scattergl\"}],\"scattermapbox\":[{\"marker\":{\"colorbar\":{\"outlinewidth\":1,\"tickcolor\":\"rgb(36,36,36)\",\"ticks\":\"outside\"}},\"type\":\"scattermapbox\"}],\"scatterpolargl\":[{\"marker\":{\"colorbar\":{\"outlinewidth\":1,\"tickcolor\":\"rgb(36,36,36)\",\"ticks\":\"outside\"}},\"type\":\"scatterpolargl\"}],\"scatterpolar\":[{\"marker\":{\"colorbar\":{\"outlinewidth\":1,\"tickcolor\":\"rgb(36,36,36)\",\"ticks\":\"outside\"}},\"type\":\"scatterpolar\"}],\"scatter\":[{\"fillpattern\":{\"fillmode\":\"overlay\",\"size\":10,\"solidity\":0.2},\"type\":\"scatter\"}],\"scatterternary\":[{\"marker\":{\"colorbar\":{\"outlinewidth\":1,\"tickcolor\":\"rgb(36,36,36)\",\"ticks\":\"outside\"}},\"type\":\"scatterternary\"}],\"surface\":[{\"colorbar\":{\"outlinewidth\":1,\"tickcolor\":\"rgb(36,36,36)\",\"ticks\":\"outside\"},\"colorscale\":[[0.0,\"#440154\"],[0.1111111111111111,\"#482878\"],[0.2222222222222222,\"#3e4989\"],[0.3333333333333333,\"#31688e\"],[0.4444444444444444,\"#26828e\"],[0.5555555555555556,\"#1f9e89\"],[0.6666666666666666,\"#35b779\"],[0.7777777777777778,\"#6ece58\"],[0.8888888888888888,\"#b5de2b\"],[1.0,\"#fde725\"]],\"type\":\"surface\"}],\"table\":[{\"cells\":{\"fill\":{\"color\":\"rgb(237,237,237)\"},\"line\":{\"color\":\"white\"}},\"header\":{\"fill\":{\"color\":\"rgb(217,217,217)\"},\"line\":{\"color\":\"white\"}},\"type\":\"table\"}]},\"layout\":{\"annotationdefaults\":{\"arrowhead\":0,\"arrowwidth\":1},\"autotypenumbers\":\"strict\",\"coloraxis\":{\"colorbar\":{\"outlinewidth\":1,\"tickcolor\":\"rgb(36,36,36)\",\"ticks\":\"outside\"}},\"colorscale\":{\"diverging\":[[0.0,\"rgb(103,0,31)\"],[0.1,\"rgb(178,24,43)\"],[0.2,\"rgb(214,96,77)\"],[0.3,\"rgb(244,165,130)\"],[0.4,\"rgb(253,219,199)\"],[0.5,\"rgb(247,247,247)\"],[0.6,\"rgb(209,229,240)\"],[0.7,\"rgb(146,197,222)\"],[0.8,\"rgb(67,147,195)\"],[0.9,\"rgb(33,102,172)\"],[1.0,\"rgb(5,48,97)\"]],\"sequential\":[[0.0,\"#440154\"],[0.1111111111111111,\"#482878\"],[0.2222222222222222,\"#3e4989\"],[0.3333333333333333,\"#31688e\"],[0.4444444444444444,\"#26828e\"],[0.5555555555555556,\"#1f9e89\"],[0.6666666666666666,\"#35b779\"],[0.7777777777777778,\"#6ece58\"],[0.8888888888888888,\"#b5de2b\"],[1.0,\"#fde725\"]],\"sequentialminus\":[[0.0,\"#440154\"],[0.1111111111111111,\"#482878\"],[0.2222222222222222,\"#3e4989\"],[0.3333333333333333,\"#31688e\"],[0.4444444444444444,\"#26828e\"],[0.5555555555555556,\"#1f9e89\"],[0.6666666666666666,\"#35b779\"],[0.7777777777777778,\"#6ece58\"],[0.8888888888888888,\"#b5de2b\"],[1.0,\"#fde725\"]]},\"colorway\":[\"#91268F\",\"#8CC63E\",\"#00A7A0\",\"#F05A28\",\"#4C4C4C\",\"#630460\",\"#9f3913\",\"#588527\",\"#00716c\",\"#3e4040\"],\"font\":{\"color\":\"rgb(36,36,36)\",\"family\":\"Poppins\",\"size\":11},\"geo\":{\"bgcolor\":\"white\",\"lakecolor\":\"white\",\"landcolor\":\"white\",\"showlakes\":true,\"showland\":true,\"subunitcolor\":\"white\"},\"hoverlabel\":{\"align\":\"left\"},\"hovermode\":\"closest\",\"mapbox\":{\"style\":\"light\"},\"paper_bgcolor\":\"white\",\"plot_bgcolor\":\"white\",\"polar\":{\"angularaxis\":{\"gridcolor\":\"rgb(232,232,232)\",\"linecolor\":\"rgb(36,36,36)\",\"showgrid\":false,\"showline\":true,\"ticks\":\"outside\"},\"bgcolor\":\"white\",\"radialaxis\":{\"gridcolor\":\"rgb(232,232,232)\",\"linecolor\":\"rgb(36,36,36)\",\"showgrid\":false,\"showline\":true,\"ticks\":\"outside\"}},\"scene\":{\"xaxis\":{\"backgroundcolor\":\"white\",\"gridcolor\":\"rgb(232,232,232)\",\"gridwidth\":2,\"linecolor\":\"rgb(36,36,36)\",\"showbackground\":true,\"showgrid\":false,\"showline\":true,\"ticks\":\"outside\",\"zeroline\":false,\"zerolinecolor\":\"rgb(36,36,36)\"},\"yaxis\":{\"backgroundcolor\":\"white\",\"gridcolor\":\"rgb(232,232,232)\",\"gridwidth\":2,\"linecolor\":\"rgb(36,36,36)\",\"showbackground\":true,\"showgrid\":false,\"showline\":true,\"ticks\":\"outside\",\"zeroline\":false,\"zerolinecolor\":\"rgb(36,36,36)\"},\"zaxis\":{\"backgroundcolor\":\"white\",\"gridcolor\":\"rgb(232,232,232)\",\"gridwidth\":2,\"linecolor\":\"rgb(36,36,36)\",\"showbackground\":true,\"showgrid\":false,\"showline\":true,\"ticks\":\"outside\",\"zeroline\":false,\"zerolinecolor\":\"rgb(36,36,36)\"}},\"shapedefaults\":{\"fillcolor\":\"black\",\"line\":{\"width\":0},\"opacity\":0.3},\"ternary\":{\"aaxis\":{\"gridcolor\":\"rgb(232,232,232)\",\"linecolor\":\"rgb(36,36,36)\",\"showgrid\":false,\"showline\":true,\"ticks\":\"outside\"},\"baxis\":{\"gridcolor\":\"rgb(232,232,232)\",\"linecolor\":\"rgb(36,36,36)\",\"showgrid\":false,\"showline\":true,\"ticks\":\"outside\"},\"bgcolor\":\"white\",\"caxis\":{\"gridcolor\":\"rgb(232,232,232)\",\"linecolor\":\"rgb(36,36,36)\",\"showgrid\":false,\"showline\":true,\"ticks\":\"outside\"}},\"title\":{\"x\":0.05},\"xaxis\":{\"automargin\":true,\"gridcolor\":\"rgb(232,232,232)\",\"linecolor\":\"rgb(36,36,36)\",\"showgrid\":false,\"showline\":true,\"ticks\":\"outside\",\"title\":{\"standoff\":15},\"zeroline\":false,\"zerolinecolor\":\"rgb(36,36,36)\"},\"yaxis\":{\"automargin\":true,\"gridcolor\":\"rgb(232,232,232)\",\"linecolor\":\"rgb(36,36,36)\",\"showgrid\":false,\"showline\":true,\"ticks\":\"outside\",\"title\":{\"standoff\":15},\"zeroline\":false,\"zerolinecolor\":\"rgb(36,36,36)\"}}},\"xaxis\":{\"anchor\":\"y\",\"domain\":[0.0,0.49],\"title\":{\"text\":\"percentage\"},\"tickformat\":\".1%\"},\"yaxis\":{\"anchor\":\"x\",\"domain\":[0.0,0.2866666666666666],\"title\":{\"text\":\"mode_label\"},\"categoryorder\":\"array\",\"categoryarray\":[\"9: other\\u00e2\\u20ac\\u201csurvey only\",\"8: school bus\",\"6: transit\",\"5: hov 3+\",\"4: hov 2\",\"3: sov\",\"2: bike\",\"1: walk\"]},\"xaxis2\":{\"anchor\":\"y2\",\"domain\":[0.51,1.0],\"matches\":\"x\",\"title\":{\"text\":\"percentage\"},\"tickformat\":\".1%\"},\"yaxis2\":{\"anchor\":\"x2\",\"domain\":[0.0,0.2866666666666666],\"matches\":\"y\",\"showticklabels\":false},\"xaxis3\":{\"anchor\":\"y3\",\"domain\":[0.0,0.49],\"matches\":\"x\",\"showticklabels\":false,\"tickformat\":\".1%\"},\"yaxis3\":{\"anchor\":\"x3\",\"domain\":[0.35666666666666663,0.6433333333333333],\"matches\":\"y\",\"title\":{\"text\":\"mode_label\"},\"categoryorder\":\"array\",\"categoryarray\":[\"9: other\\u00e2\\u20ac\\u201csurvey only\",\"8: school bus\",\"6: transit\",\"5: hov 3+\",\"4: hov 2\",\"3: sov\",\"2: bike\",\"1: walk\"]},\"xaxis4\":{\"anchor\":\"y4\",\"domain\":[0.51,1.0],\"matches\":\"x\",\"showticklabels\":false,\"tickformat\":\".1%\"},\"yaxis4\":{\"anchor\":\"x4\",\"domain\":[0.35666666666666663,0.6433333333333333],\"matches\":\"y\",\"showticklabels\":false},\"xaxis5\":{\"anchor\":\"y5\",\"domain\":[0.0,0.49],\"matches\":\"x\",\"showticklabels\":false,\"tickformat\":\".1%\"},\"yaxis5\":{\"anchor\":\"x5\",\"domain\":[0.7133333333333333,0.9999999999999999],\"matches\":\"y\",\"title\":{\"text\":\"mode_label\"},\"categoryorder\":\"array\",\"categoryarray\":[\"9: other\\u00e2\\u20ac\\u201csurvey only\",\"8: school bus\",\"6: transit\",\"5: hov 3+\",\"4: hov 2\",\"3: sov\",\"2: bike\",\"1: walk\"]},\"xaxis6\":{\"anchor\":\"y6\",\"domain\":[0.51,1.0],\"matches\":\"x\",\"showticklabels\":false,\"tickformat\":\".1%\"},\"yaxis6\":{\"anchor\":\"x6\",\"domain\":[0.7133333333333333,0.9999999999999999],\"matches\":\"y\",\"showticklabels\":false},\"annotations\":[{\"font\":{},\"showarrow\":false,\"text\":\"6.0\",\"x\":0.245,\"xanchor\":\"center\",\"xref\":\"paper\",\"y\":0.2866666666666666,\"yanchor\":\"bottom\",\"yref\":\"paper\"},{\"font\":{},\"showarrow\":false,\"text\":\"2.0\",\"x\":0.245,\"xanchor\":\"center\",\"xref\":\"paper\",\"y\":0.6433333333333333,\"yanchor\":\"bottom\",\"yref\":\"paper\"},{\"font\":{},\"showarrow\":false,\"text\":\"3.0\",\"x\":0.755,\"xanchor\":\"center\",\"xref\":\"paper\",\"y\":0.6433333333333333,\"yanchor\":\"bottom\",\"yref\":\"paper\"},{\"font\":{},\"showarrow\":false,\"text\":\"0.0\",\"x\":0.245,\"xanchor\":\"center\",\"xref\":\"paper\",\"y\":0.9999999999999999,\"yanchor\":\"bottom\",\"yref\":\"paper\"},{\"font\":{},\"showarrow\":false,\"text\":\"1.0\",\"x\":0.755,\"xanchor\":\"center\",\"xref\":\"paper\",\"y\":0.9999999999999999,\"yanchor\":\"bottom\",\"yref\":\"paper\"}],\"legend\":{\"title\":{\"text\":\"source\"},\"tracegroupgap\":0},\"title\":{\"text\":\"escort trip mode choice by HH with Driving Age Students\"},\"barmode\":\"group\",\"height\":800,\"width\":800},                        {\"responsive\": true}                    ).then(function(){\n",
       "                            \n",
       "var gd = document.getElementById('94e39c9e-c356-4cc8-838e-4be8c0878e0f');\n",
       "var x = new MutationObserver(function (mutations, observer) {{\n",
       "        var display = window.getComputedStyle(gd).display;\n",
       "        if (!display || display === 'none') {{\n",
       "            console.log([gd, 'removed!']);\n",
       "            Plotly.purge(gd);\n",
       "            observer.disconnect();\n",
       "        }}\n",
       "}});\n",
       "\n",
       "// Listen for the removal of the full notebook cells\n",
       "var notebookContainer = gd.closest('#notebook-container');\n",
       "if (notebookContainer) {{\n",
       "    x.observe(notebookContainer, {childList: true});\n",
       "}}\n",
       "\n",
       "// Listen for the clearing of the current output cell\n",
       "var outputEl = gd.closest('.output');\n",
       "if (outputEl) {{\n",
       "    x.observe(outputEl, {childList: true});\n",
       "}}\n",
       "\n",
       "                        })                };                });            </script>        </div>"
      ]
     },
     "metadata": {},
     "output_type": "display_data"
    }
   ],
   "source": [
    "plot_mode_choice(es_trip,\n",
    "                 \"hhhsc\",\n",
    "                 {\n",
    "                  \"mode_label\":[\"1: walk\",\"2: bike\",\"3: sov\",\"4: hov 2\",\"5: hov 3+\",\"6: transit\",\n",
    "                                   \"8: school bus\",\"9: other–survey only\"]},\n",
    "                 \"HH with Driving Age Students\",2,800)"
   ]
  },
  {
   "cell_type": "raw",
   "metadata": {},
   "source": [
    "### auto availability"
   ]
  },
  {
   "cell_type": "code",
   "execution_count": 13,
   "metadata": {
    "ExecuteTime": {
     "end_time": "2024-08-30T21:15:26.114605Z",
     "start_time": "2024-08-30T21:15:25.098790Z"
    },
    "execution": {
     "iopub.execute_input": "2025-01-21T06:22:05.798125Z",
     "iopub.status.busy": "2025-01-21T06:22:05.797188Z",
     "iopub.status.idle": "2025-01-21T06:22:07.014352Z",
     "shell.execute_reply": "2025-01-21T06:22:07.011670Z"
    }
   },
   "outputs": [
    {
     "data": {
      "application/vnd.plotly.v1+json": {
       "config": {
        "plotlyServerURL": "https://plot.ly"
       },
       "data": [
        {
         "alignmentgroup": "True",
         "customdata": [
          [
           28988
          ],
          [
           3299
          ],
          [
           2319
          ],
          [
           3180
          ],
          [
           1191
          ],
          [
           17
          ],
          [
           689
          ]
         ],
         "hovertemplate": "source=model<br>auto_available_driver=no car<br>percentage=%{x}<br>mode_label=%{y}<br>sample count=%{customdata[0]}<extra></extra>",
         "legendgroup": "model",
         "marker": {
          "color": "#91268F",
          "pattern": {
           "shape": ""
          }
         },
         "name": "model",
         "offsetgroup": "model",
         "orientation": "h",
         "showlegend": true,
         "textposition": "auto",
         "type": "bar",
         "x": [
          0.7304891263261346,
          0.08313383564750648,
          0.05843812211778343,
          0.08013507043318298,
          0.03001285185091853,
          0.00042839503061764485,
          0.01736259859385631
         ],
         "xaxis": "x",
         "y": [
          "1: walk",
          "2: bike",
          "4: hov 2",
          "5: hov 3+",
          "6: transit",
          "8: school bus",
          "9: tnc"
         ],
         "yaxis": "y"
        },
        {
         "alignmentgroup": "True",
         "customdata": [
          [
           49603
          ],
          [
           7908
          ],
          [
           147734
          ],
          [
           177631
          ],
          [
           124207
          ],
          [
           2862
          ],
          [
           6203
          ],
          [
           313
          ]
         ],
         "hovertemplate": "source=model<br>auto_available_driver=cars fewer than drivers<br>percentage=%{x}<br>mode_label=%{y}<br>sample count=%{customdata[0]}<extra></extra>",
         "legendgroup": "model",
         "marker": {
          "color": "#91268F",
          "pattern": {
           "shape": ""
          }
         },
         "name": "model",
         "offsetgroup": "model",
         "orientation": "h",
         "showlegend": false,
         "textposition": "auto",
         "type": "bar",
         "x": [
          0.09604403817519619,
          0.01531190157630489,
          0.2860506408034682,
          0.3439388453339168,
          0.2404963782357235,
          0.0055415607374032115,
          0.012010587440290748,
          0.0006060476976964379
         ],
         "xaxis": "x2",
         "y": [
          "1: walk",
          "2: bike",
          "3: sov",
          "4: hov 2",
          "5: hov 3+",
          "6: transit",
          "8: school bus",
          "9: tnc"
         ],
         "yaxis": "y2"
        },
        {
         "alignmentgroup": "True",
         "customdata": [
          [
           90331
          ],
          [
           10856
          ],
          [
           409371
          ],
          [
           300806
          ],
          [
           271722
          ],
          [
           5141
          ],
          [
           11344
          ],
          [
           974
          ]
         ],
         "hovertemplate": "source=model<br>auto_available_driver=enough cars<br>percentage=%{x}<br>mode_label=%{y}<br>sample count=%{customdata[0]}<extra></extra>",
         "legendgroup": "model",
         "marker": {
          "color": "#91268F",
          "pattern": {
           "shape": ""
          }
         },
         "name": "model",
         "offsetgroup": "model",
         "orientation": "h",
         "showlegend": false,
         "textposition": "auto",
         "type": "bar",
         "x": [
          0.08207842478044969,
          0.009864203644557923,
          0.3719711597435816,
          0.27332458009440774,
          0.24689767342543922,
          0.004671321935949916,
          0.010307620315389194,
          0.0008850160602247068
         ],
         "xaxis": "x3",
         "y": [
          "1: walk",
          "2: bike",
          "3: sov",
          "4: hov 2",
          "5: hov 3+",
          "6: transit",
          "8: school bus",
          "9: tnc"
         ],
         "yaxis": "y3"
        },
        {
         "alignmentgroup": "True",
         "customdata": [
          [
           13
          ],
          [
           2
          ],
          [
           2
          ],
          [
           1
          ],
          [
           1
          ]
         ],
         "hovertemplate": "source=survey<br>auto_available_driver=no car<br>percentage=%{x}<br>mode_label=%{y}<br>sample count=%{customdata[0]}<extra></extra>",
         "legendgroup": "survey",
         "marker": {
          "color": "#8CC63E",
          "pattern": {
           "shape": ""
          }
         },
         "name": "survey",
         "offsetgroup": "survey",
         "orientation": "h",
         "showlegend": true,
         "textposition": "auto",
         "type": "bar",
         "x": [
          0.7714049158487708,
          0.07031100961299085,
          0.11154217368756165,
          0.0257629106390028,
          0.020978990211673848
         ],
         "xaxis": "x",
         "y": [
          "1: walk",
          "3: sov",
          "4: hov 2",
          "5: hov 3+",
          "6: transit"
         ],
         "yaxis": "y"
        },
        {
         "alignmentgroup": "True",
         "customdata": [
          [
           73
          ],
          [
           17
          ],
          [
           116
          ],
          [
           159
          ],
          [
           110
          ],
          [
           1
          ],
          [
           2
          ]
         ],
         "hovertemplate": "source=survey<br>auto_available_driver=cars fewer than drivers<br>percentage=%{x}<br>mode_label=%{y}<br>sample count=%{customdata[0]}<extra></extra>",
         "legendgroup": "survey",
         "marker": {
          "color": "#8CC63E",
          "pattern": {
           "shape": ""
          }
         },
         "name": "survey",
         "offsetgroup": "survey",
         "orientation": "h",
         "showlegend": false,
         "textposition": "auto",
         "type": "bar",
         "x": [
          0.08015340732914528,
          0.0056543832706520405,
          0.30551706111251103,
          0.3799094140318685,
          0.22855280800394703,
          8.213993157221318e-05,
          0.00013078632030420886
         ],
         "xaxis": "x2",
         "y": [
          "1: walk",
          "2: bike",
          "3: sov",
          "4: hov 2",
          "5: hov 3+",
          "6: transit",
          "8: school bus"
         ],
         "yaxis": "y2"
        },
        {
         "alignmentgroup": "True",
         "customdata": [
          [
           52
          ],
          [
           7
          ],
          [
           240
          ],
          [
           349
          ],
          [
           302
          ],
          [
           3
          ],
          [
           1
          ]
         ],
         "hovertemplate": "source=survey<br>auto_available_driver=enough cars<br>percentage=%{x}<br>mode_label=%{y}<br>sample count=%{customdata[0]}<extra></extra>",
         "legendgroup": "survey",
         "marker": {
          "color": "#8CC63E",
          "pattern": {
           "shape": ""
          }
         },
         "name": "survey",
         "offsetgroup": "survey",
         "orientation": "h",
         "showlegend": false,
         "textposition": "auto",
         "type": "bar",
         "x": [
          0.05066465117908446,
          0.0004988509561177219,
          0.24071656990756476,
          0.3355628455823433,
          0.37207970647406524,
          0.00031270929315355725,
          0.00016466660767084658
         ],
         "xaxis": "x3",
         "y": [
          "1: walk",
          "2: bike",
          "3: sov",
          "4: hov 2",
          "5: hov 3+",
          "6: transit",
          "8: school bus"
         ],
         "yaxis": "y3"
        }
       ],
       "layout": {
        "annotations": [
         {
          "font": {},
          "showarrow": false,
          "text": "no car",
          "x": 0.15999999999999998,
          "xanchor": "center",
          "xref": "paper",
          "y": 1.0,
          "yanchor": "bottom",
          "yref": "paper"
         },
         {
          "font": {},
          "showarrow": false,
          "text": "cars fewer than drivers",
          "x": 0.49999999999999994,
          "xanchor": "center",
          "xref": "paper",
          "y": 1.0,
          "yanchor": "bottom",
          "yref": "paper"
         },
         {
          "font": {},
          "showarrow": false,
          "text": "enough cars",
          "x": 0.8399999999999999,
          "xanchor": "center",
          "xref": "paper",
          "y": 1.0,
          "yanchor": "bottom",
          "yref": "paper"
         }
        ],
        "barmode": "group",
        "height": 500,
        "legend": {
         "title": {
          "text": "source"
         },
         "tracegroupgap": 0
        },
        "template": {
         "data": {
          "bar": [
           {
            "error_x": {
             "color": "rgb(36,36,36)"
            },
            "error_y": {
             "color": "rgb(36,36,36)"
            },
            "marker": {
             "line": {
              "color": "white",
              "width": 0.5
             },
             "pattern": {
              "fillmode": "overlay",
              "size": 10,
              "solidity": 0.2
             }
            },
            "type": "bar"
           }
          ],
          "barpolar": [
           {
            "marker": {
             "line": {
              "color": "white",
              "width": 0.5
             },
             "pattern": {
              "fillmode": "overlay",
              "size": 10,
              "solidity": 0.2
             }
            },
            "type": "barpolar"
           }
          ],
          "carpet": [
           {
            "aaxis": {
             "endlinecolor": "rgb(36,36,36)",
             "gridcolor": "white",
             "linecolor": "white",
             "minorgridcolor": "white",
             "startlinecolor": "rgb(36,36,36)"
            },
            "baxis": {
             "endlinecolor": "rgb(36,36,36)",
             "gridcolor": "white",
             "linecolor": "white",
             "minorgridcolor": "white",
             "startlinecolor": "rgb(36,36,36)"
            },
            "type": "carpet"
           }
          ],
          "choropleth": [
           {
            "colorbar": {
             "outlinewidth": 1,
             "tickcolor": "rgb(36,36,36)",
             "ticks": "outside"
            },
            "type": "choropleth"
           }
          ],
          "contour": [
           {
            "colorbar": {
             "outlinewidth": 1,
             "tickcolor": "rgb(36,36,36)",
             "ticks": "outside"
            },
            "colorscale": [
             [
              0.0,
              "#440154"
             ],
             [
              0.1111111111111111,
              "#482878"
             ],
             [
              0.2222222222222222,
              "#3e4989"
             ],
             [
              0.3333333333333333,
              "#31688e"
             ],
             [
              0.4444444444444444,
              "#26828e"
             ],
             [
              0.5555555555555556,
              "#1f9e89"
             ],
             [
              0.6666666666666666,
              "#35b779"
             ],
             [
              0.7777777777777778,
              "#6ece58"
             ],
             [
              0.8888888888888888,
              "#b5de2b"
             ],
             [
              1.0,
              "#fde725"
             ]
            ],
            "type": "contour"
           }
          ],
          "contourcarpet": [
           {
            "colorbar": {
             "outlinewidth": 1,
             "tickcolor": "rgb(36,36,36)",
             "ticks": "outside"
            },
            "type": "contourcarpet"
           }
          ],
          "heatmap": [
           {
            "colorbar": {
             "outlinewidth": 1,
             "tickcolor": "rgb(36,36,36)",
             "ticks": "outside"
            },
            "colorscale": [
             [
              0.0,
              "#440154"
             ],
             [
              0.1111111111111111,
              "#482878"
             ],
             [
              0.2222222222222222,
              "#3e4989"
             ],
             [
              0.3333333333333333,
              "#31688e"
             ],
             [
              0.4444444444444444,
              "#26828e"
             ],
             [
              0.5555555555555556,
              "#1f9e89"
             ],
             [
              0.6666666666666666,
              "#35b779"
             ],
             [
              0.7777777777777778,
              "#6ece58"
             ],
             [
              0.8888888888888888,
              "#b5de2b"
             ],
             [
              1.0,
              "#fde725"
             ]
            ],
            "type": "heatmap"
           }
          ],
          "heatmapgl": [
           {
            "colorbar": {
             "outlinewidth": 1,
             "tickcolor": "rgb(36,36,36)",
             "ticks": "outside"
            },
            "colorscale": [
             [
              0.0,
              "#440154"
             ],
             [
              0.1111111111111111,
              "#482878"
             ],
             [
              0.2222222222222222,
              "#3e4989"
             ],
             [
              0.3333333333333333,
              "#31688e"
             ],
             [
              0.4444444444444444,
              "#26828e"
             ],
             [
              0.5555555555555556,
              "#1f9e89"
             ],
             [
              0.6666666666666666,
              "#35b779"
             ],
             [
              0.7777777777777778,
              "#6ece58"
             ],
             [
              0.8888888888888888,
              "#b5de2b"
             ],
             [
              1.0,
              "#fde725"
             ]
            ],
            "type": "heatmapgl"
           }
          ],
          "histogram": [
           {
            "marker": {
             "line": {
              "color": "white",
              "width": 0.6
             }
            },
            "type": "histogram"
           }
          ],
          "histogram2d": [
           {
            "colorbar": {
             "outlinewidth": 1,
             "tickcolor": "rgb(36,36,36)",
             "ticks": "outside"
            },
            "colorscale": [
             [
              0.0,
              "#440154"
             ],
             [
              0.1111111111111111,
              "#482878"
             ],
             [
              0.2222222222222222,
              "#3e4989"
             ],
             [
              0.3333333333333333,
              "#31688e"
             ],
             [
              0.4444444444444444,
              "#26828e"
             ],
             [
              0.5555555555555556,
              "#1f9e89"
             ],
             [
              0.6666666666666666,
              "#35b779"
             ],
             [
              0.7777777777777778,
              "#6ece58"
             ],
             [
              0.8888888888888888,
              "#b5de2b"
             ],
             [
              1.0,
              "#fde725"
             ]
            ],
            "type": "histogram2d"
           }
          ],
          "histogram2dcontour": [
           {
            "colorbar": {
             "outlinewidth": 1,
             "tickcolor": "rgb(36,36,36)",
             "ticks": "outside"
            },
            "colorscale": [
             [
              0.0,
              "#440154"
             ],
             [
              0.1111111111111111,
              "#482878"
             ],
             [
              0.2222222222222222,
              "#3e4989"
             ],
             [
              0.3333333333333333,
              "#31688e"
             ],
             [
              0.4444444444444444,
              "#26828e"
             ],
             [
              0.5555555555555556,
              "#1f9e89"
             ],
             [
              0.6666666666666666,
              "#35b779"
             ],
             [
              0.7777777777777778,
              "#6ece58"
             ],
             [
              0.8888888888888888,
              "#b5de2b"
             ],
             [
              1.0,
              "#fde725"
             ]
            ],
            "type": "histogram2dcontour"
           }
          ],
          "mesh3d": [
           {
            "colorbar": {
             "outlinewidth": 1,
             "tickcolor": "rgb(36,36,36)",
             "ticks": "outside"
            },
            "type": "mesh3d"
           }
          ],
          "parcoords": [
           {
            "line": {
             "colorbar": {
              "outlinewidth": 1,
              "tickcolor": "rgb(36,36,36)",
              "ticks": "outside"
             }
            },
            "type": "parcoords"
           }
          ],
          "pie": [
           {
            "automargin": true,
            "type": "pie"
           }
          ],
          "scatter": [
           {
            "fillpattern": {
             "fillmode": "overlay",
             "size": 10,
             "solidity": 0.2
            },
            "type": "scatter"
           }
          ],
          "scatter3d": [
           {
            "line": {
             "colorbar": {
              "outlinewidth": 1,
              "tickcolor": "rgb(36,36,36)",
              "ticks": "outside"
             }
            },
            "marker": {
             "colorbar": {
              "outlinewidth": 1,
              "tickcolor": "rgb(36,36,36)",
              "ticks": "outside"
             }
            },
            "type": "scatter3d"
           }
          ],
          "scattercarpet": [
           {
            "marker": {
             "colorbar": {
              "outlinewidth": 1,
              "tickcolor": "rgb(36,36,36)",
              "ticks": "outside"
             }
            },
            "type": "scattercarpet"
           }
          ],
          "scattergeo": [
           {
            "marker": {
             "colorbar": {
              "outlinewidth": 1,
              "tickcolor": "rgb(36,36,36)",
              "ticks": "outside"
             }
            },
            "type": "scattergeo"
           }
          ],
          "scattergl": [
           {
            "marker": {
             "colorbar": {
              "outlinewidth": 1,
              "tickcolor": "rgb(36,36,36)",
              "ticks": "outside"
             }
            },
            "type": "scattergl"
           }
          ],
          "scattermapbox": [
           {
            "marker": {
             "colorbar": {
              "outlinewidth": 1,
              "tickcolor": "rgb(36,36,36)",
              "ticks": "outside"
             }
            },
            "type": "scattermapbox"
           }
          ],
          "scatterpolar": [
           {
            "marker": {
             "colorbar": {
              "outlinewidth": 1,
              "tickcolor": "rgb(36,36,36)",
              "ticks": "outside"
             }
            },
            "type": "scatterpolar"
           }
          ],
          "scatterpolargl": [
           {
            "marker": {
             "colorbar": {
              "outlinewidth": 1,
              "tickcolor": "rgb(36,36,36)",
              "ticks": "outside"
             }
            },
            "type": "scatterpolargl"
           }
          ],
          "scatterternary": [
           {
            "marker": {
             "colorbar": {
              "outlinewidth": 1,
              "tickcolor": "rgb(36,36,36)",
              "ticks": "outside"
             }
            },
            "type": "scatterternary"
           }
          ],
          "surface": [
           {
            "colorbar": {
             "outlinewidth": 1,
             "tickcolor": "rgb(36,36,36)",
             "ticks": "outside"
            },
            "colorscale": [
             [
              0.0,
              "#440154"
             ],
             [
              0.1111111111111111,
              "#482878"
             ],
             [
              0.2222222222222222,
              "#3e4989"
             ],
             [
              0.3333333333333333,
              "#31688e"
             ],
             [
              0.4444444444444444,
              "#26828e"
             ],
             [
              0.5555555555555556,
              "#1f9e89"
             ],
             [
              0.6666666666666666,
              "#35b779"
             ],
             [
              0.7777777777777778,
              "#6ece58"
             ],
             [
              0.8888888888888888,
              "#b5de2b"
             ],
             [
              1.0,
              "#fde725"
             ]
            ],
            "type": "surface"
           }
          ],
          "table": [
           {
            "cells": {
             "fill": {
              "color": "rgb(237,237,237)"
             },
             "line": {
              "color": "white"
             }
            },
            "header": {
             "fill": {
              "color": "rgb(217,217,217)"
             },
             "line": {
              "color": "white"
             }
            },
            "type": "table"
           }
          ]
         },
         "layout": {
          "annotationdefaults": {
           "arrowhead": 0,
           "arrowwidth": 1
          },
          "autotypenumbers": "strict",
          "coloraxis": {
           "colorbar": {
            "outlinewidth": 1,
            "tickcolor": "rgb(36,36,36)",
            "ticks": "outside"
           }
          },
          "colorscale": {
           "diverging": [
            [
             0.0,
             "rgb(103,0,31)"
            ],
            [
             0.1,
             "rgb(178,24,43)"
            ],
            [
             0.2,
             "rgb(214,96,77)"
            ],
            [
             0.3,
             "rgb(244,165,130)"
            ],
            [
             0.4,
             "rgb(253,219,199)"
            ],
            [
             0.5,
             "rgb(247,247,247)"
            ],
            [
             0.6,
             "rgb(209,229,240)"
            ],
            [
             0.7,
             "rgb(146,197,222)"
            ],
            [
             0.8,
             "rgb(67,147,195)"
            ],
            [
             0.9,
             "rgb(33,102,172)"
            ],
            [
             1.0,
             "rgb(5,48,97)"
            ]
           ],
           "sequential": [
            [
             0.0,
             "#440154"
            ],
            [
             0.1111111111111111,
             "#482878"
            ],
            [
             0.2222222222222222,
             "#3e4989"
            ],
            [
             0.3333333333333333,
             "#31688e"
            ],
            [
             0.4444444444444444,
             "#26828e"
            ],
            [
             0.5555555555555556,
             "#1f9e89"
            ],
            [
             0.6666666666666666,
             "#35b779"
            ],
            [
             0.7777777777777778,
             "#6ece58"
            ],
            [
             0.8888888888888888,
             "#b5de2b"
            ],
            [
             1.0,
             "#fde725"
            ]
           ],
           "sequentialminus": [
            [
             0.0,
             "#440154"
            ],
            [
             0.1111111111111111,
             "#482878"
            ],
            [
             0.2222222222222222,
             "#3e4989"
            ],
            [
             0.3333333333333333,
             "#31688e"
            ],
            [
             0.4444444444444444,
             "#26828e"
            ],
            [
             0.5555555555555556,
             "#1f9e89"
            ],
            [
             0.6666666666666666,
             "#35b779"
            ],
            [
             0.7777777777777778,
             "#6ece58"
            ],
            [
             0.8888888888888888,
             "#b5de2b"
            ],
            [
             1.0,
             "#fde725"
            ]
           ]
          },
          "colorway": [
           "#91268F",
           "#8CC63E",
           "#00A7A0",
           "#F05A28",
           "#4C4C4C",
           "#630460",
           "#9f3913",
           "#588527",
           "#00716c",
           "#3e4040"
          ],
          "font": {
           "color": "rgb(36,36,36)",
           "family": "Poppins",
           "size": 11
          },
          "geo": {
           "bgcolor": "white",
           "lakecolor": "white",
           "landcolor": "white",
           "showlakes": true,
           "showland": true,
           "subunitcolor": "white"
          },
          "hoverlabel": {
           "align": "left"
          },
          "hovermode": "closest",
          "mapbox": {
           "style": "light"
          },
          "paper_bgcolor": "white",
          "plot_bgcolor": "white",
          "polar": {
           "angularaxis": {
            "gridcolor": "rgb(232,232,232)",
            "linecolor": "rgb(36,36,36)",
            "showgrid": false,
            "showline": true,
            "ticks": "outside"
           },
           "bgcolor": "white",
           "radialaxis": {
            "gridcolor": "rgb(232,232,232)",
            "linecolor": "rgb(36,36,36)",
            "showgrid": false,
            "showline": true,
            "ticks": "outside"
           }
          },
          "scene": {
           "xaxis": {
            "backgroundcolor": "white",
            "gridcolor": "rgb(232,232,232)",
            "gridwidth": 2,
            "linecolor": "rgb(36,36,36)",
            "showbackground": true,
            "showgrid": false,
            "showline": true,
            "ticks": "outside",
            "zeroline": false,
            "zerolinecolor": "rgb(36,36,36)"
           },
           "yaxis": {
            "backgroundcolor": "white",
            "gridcolor": "rgb(232,232,232)",
            "gridwidth": 2,
            "linecolor": "rgb(36,36,36)",
            "showbackground": true,
            "showgrid": false,
            "showline": true,
            "ticks": "outside",
            "zeroline": false,
            "zerolinecolor": "rgb(36,36,36)"
           },
           "zaxis": {
            "backgroundcolor": "white",
            "gridcolor": "rgb(232,232,232)",
            "gridwidth": 2,
            "linecolor": "rgb(36,36,36)",
            "showbackground": true,
            "showgrid": false,
            "showline": true,
            "ticks": "outside",
            "zeroline": false,
            "zerolinecolor": "rgb(36,36,36)"
           }
          },
          "shapedefaults": {
           "fillcolor": "black",
           "line": {
            "width": 0
           },
           "opacity": 0.3
          },
          "ternary": {
           "aaxis": {
            "gridcolor": "rgb(232,232,232)",
            "linecolor": "rgb(36,36,36)",
            "showgrid": false,
            "showline": true,
            "ticks": "outside"
           },
           "baxis": {
            "gridcolor": "rgb(232,232,232)",
            "linecolor": "rgb(36,36,36)",
            "showgrid": false,
            "showline": true,
            "ticks": "outside"
           },
           "bgcolor": "white",
           "caxis": {
            "gridcolor": "rgb(232,232,232)",
            "linecolor": "rgb(36,36,36)",
            "showgrid": false,
            "showline": true,
            "ticks": "outside"
           }
          },
          "title": {
           "x": 0.05
          },
          "xaxis": {
           "automargin": true,
           "gridcolor": "rgb(232,232,232)",
           "linecolor": "rgb(36,36,36)",
           "showgrid": false,
           "showline": true,
           "ticks": "outside",
           "title": {
            "standoff": 15
           },
           "zeroline": false,
           "zerolinecolor": "rgb(36,36,36)"
          },
          "yaxis": {
           "automargin": true,
           "gridcolor": "rgb(232,232,232)",
           "linecolor": "rgb(36,36,36)",
           "showgrid": false,
           "showline": true,
           "ticks": "outside",
           "title": {
            "standoff": 15
           },
           "zeroline": false,
           "zerolinecolor": "rgb(36,36,36)"
          }
         }
        },
        "title": {
         "text": "escort trip mode choice by auto availability (driver, showing only households with at least one driver)"
        },
        "width": 1000,
        "xaxis": {
         "anchor": "y",
         "domain": [
          0.0,
          0.31999999999999995
         ],
         "tickformat": ".1%",
         "title": {
          "text": "percentage"
         }
        },
        "xaxis2": {
         "anchor": "y2",
         "domain": [
          0.33999999999999997,
          0.6599999999999999
         ],
         "matches": "x",
         "tickformat": ".1%",
         "title": {
          "text": "percentage"
         }
        },
        "xaxis3": {
         "anchor": "y3",
         "domain": [
          0.6799999999999999,
          0.9999999999999999
         ],
         "matches": "x",
         "tickformat": ".1%",
         "title": {
          "text": "percentage"
         }
        },
        "yaxis": {
         "anchor": "x",
         "categoryarray": [
          "9: other–survey only",
          "8: school bus",
          "6: transit",
          "5: hov 3+",
          "4: hov 2",
          "3: sov",
          "2: bike",
          "1: walk"
         ],
         "categoryorder": "array",
         "domain": [
          0.0,
          1.0
         ],
         "title": {
          "text": "mode_label"
         }
        },
        "yaxis2": {
         "anchor": "x2",
         "domain": [
          0.0,
          1.0
         ],
         "matches": "y",
         "showticklabels": false
        },
        "yaxis3": {
         "anchor": "x3",
         "domain": [
          0.0,
          1.0
         ],
         "matches": "y",
         "showticklabels": false
        }
       }
      },
      "text/html": [
       "<div>                            <div id=\"839f6307-b695-445c-9023-b21f981c752a\" class=\"plotly-graph-div\" style=\"height:500px; width:1000px;\"></div>            <script type=\"text/javascript\">                require([\"plotly\"], function(Plotly) {                    window.PLOTLYENV=window.PLOTLYENV || {};                                    if (document.getElementById(\"839f6307-b695-445c-9023-b21f981c752a\")) {                    Plotly.newPlot(                        \"839f6307-b695-445c-9023-b21f981c752a\",                        [{\"alignmentgroup\":\"True\",\"customdata\":[[28988],[3299],[2319],[3180],[1191],[17],[689]],\"hovertemplate\":\"source=model\\u003cbr\\u003eauto_available_driver=no car\\u003cbr\\u003epercentage=%{x}\\u003cbr\\u003emode_label=%{y}\\u003cbr\\u003esample count=%{customdata[0]}\\u003cextra\\u003e\\u003c\\u002fextra\\u003e\",\"legendgroup\":\"model\",\"marker\":{\"color\":\"#91268F\",\"pattern\":{\"shape\":\"\"}},\"name\":\"model\",\"offsetgroup\":\"model\",\"orientation\":\"h\",\"showlegend\":true,\"textposition\":\"auto\",\"x\":[0.7304891263261346,0.08313383564750648,0.05843812211778343,0.08013507043318298,0.03001285185091853,0.00042839503061764485,0.01736259859385631],\"xaxis\":\"x\",\"y\":[\"1: walk\",\"2: bike\",\"4: hov 2\",\"5: hov 3+\",\"6: transit\",\"8: school bus\",\"9: tnc\"],\"yaxis\":\"y\",\"type\":\"bar\"},{\"alignmentgroup\":\"True\",\"customdata\":[[49603],[7908],[147734],[177631],[124207],[2862],[6203],[313]],\"hovertemplate\":\"source=model\\u003cbr\\u003eauto_available_driver=cars fewer than drivers\\u003cbr\\u003epercentage=%{x}\\u003cbr\\u003emode_label=%{y}\\u003cbr\\u003esample count=%{customdata[0]}\\u003cextra\\u003e\\u003c\\u002fextra\\u003e\",\"legendgroup\":\"model\",\"marker\":{\"color\":\"#91268F\",\"pattern\":{\"shape\":\"\"}},\"name\":\"model\",\"offsetgroup\":\"model\",\"orientation\":\"h\",\"showlegend\":false,\"textposition\":\"auto\",\"x\":[0.09604403817519619,0.01531190157630489,0.2860506408034682,0.3439388453339168,0.2404963782357235,0.0055415607374032115,0.012010587440290748,0.0006060476976964379],\"xaxis\":\"x2\",\"y\":[\"1: walk\",\"2: bike\",\"3: sov\",\"4: hov 2\",\"5: hov 3+\",\"6: transit\",\"8: school bus\",\"9: tnc\"],\"yaxis\":\"y2\",\"type\":\"bar\"},{\"alignmentgroup\":\"True\",\"customdata\":[[90331],[10856],[409371],[300806],[271722],[5141],[11344],[974]],\"hovertemplate\":\"source=model\\u003cbr\\u003eauto_available_driver=enough cars\\u003cbr\\u003epercentage=%{x}\\u003cbr\\u003emode_label=%{y}\\u003cbr\\u003esample count=%{customdata[0]}\\u003cextra\\u003e\\u003c\\u002fextra\\u003e\",\"legendgroup\":\"model\",\"marker\":{\"color\":\"#91268F\",\"pattern\":{\"shape\":\"\"}},\"name\":\"model\",\"offsetgroup\":\"model\",\"orientation\":\"h\",\"showlegend\":false,\"textposition\":\"auto\",\"x\":[0.08207842478044969,0.009864203644557923,0.3719711597435816,0.27332458009440774,0.24689767342543922,0.004671321935949916,0.010307620315389194,0.0008850160602247068],\"xaxis\":\"x3\",\"y\":[\"1: walk\",\"2: bike\",\"3: sov\",\"4: hov 2\",\"5: hov 3+\",\"6: transit\",\"8: school bus\",\"9: tnc\"],\"yaxis\":\"y3\",\"type\":\"bar\"},{\"alignmentgroup\":\"True\",\"customdata\":[[13],[2],[2],[1],[1]],\"hovertemplate\":\"source=survey\\u003cbr\\u003eauto_available_driver=no car\\u003cbr\\u003epercentage=%{x}\\u003cbr\\u003emode_label=%{y}\\u003cbr\\u003esample count=%{customdata[0]}\\u003cextra\\u003e\\u003c\\u002fextra\\u003e\",\"legendgroup\":\"survey\",\"marker\":{\"color\":\"#8CC63E\",\"pattern\":{\"shape\":\"\"}},\"name\":\"survey\",\"offsetgroup\":\"survey\",\"orientation\":\"h\",\"showlegend\":true,\"textposition\":\"auto\",\"x\":[0.7714049158487708,0.07031100961299085,0.11154217368756165,0.0257629106390028,0.020978990211673848],\"xaxis\":\"x\",\"y\":[\"1: walk\",\"3: sov\",\"4: hov 2\",\"5: hov 3+\",\"6: transit\"],\"yaxis\":\"y\",\"type\":\"bar\"},{\"alignmentgroup\":\"True\",\"customdata\":[[73],[17],[116],[159],[110],[1],[2]],\"hovertemplate\":\"source=survey\\u003cbr\\u003eauto_available_driver=cars fewer than drivers\\u003cbr\\u003epercentage=%{x}\\u003cbr\\u003emode_label=%{y}\\u003cbr\\u003esample count=%{customdata[0]}\\u003cextra\\u003e\\u003c\\u002fextra\\u003e\",\"legendgroup\":\"survey\",\"marker\":{\"color\":\"#8CC63E\",\"pattern\":{\"shape\":\"\"}},\"name\":\"survey\",\"offsetgroup\":\"survey\",\"orientation\":\"h\",\"showlegend\":false,\"textposition\":\"auto\",\"x\":[0.08015340732914528,0.0056543832706520405,0.30551706111251103,0.3799094140318685,0.22855280800394703,8.213993157221318e-05,0.00013078632030420886],\"xaxis\":\"x2\",\"y\":[\"1: walk\",\"2: bike\",\"3: sov\",\"4: hov 2\",\"5: hov 3+\",\"6: transit\",\"8: school bus\"],\"yaxis\":\"y2\",\"type\":\"bar\"},{\"alignmentgroup\":\"True\",\"customdata\":[[52],[7],[240],[349],[302],[3],[1]],\"hovertemplate\":\"source=survey\\u003cbr\\u003eauto_available_driver=enough cars\\u003cbr\\u003epercentage=%{x}\\u003cbr\\u003emode_label=%{y}\\u003cbr\\u003esample count=%{customdata[0]}\\u003cextra\\u003e\\u003c\\u002fextra\\u003e\",\"legendgroup\":\"survey\",\"marker\":{\"color\":\"#8CC63E\",\"pattern\":{\"shape\":\"\"}},\"name\":\"survey\",\"offsetgroup\":\"survey\",\"orientation\":\"h\",\"showlegend\":false,\"textposition\":\"auto\",\"x\":[0.05066465117908446,0.0004988509561177219,0.24071656990756476,0.3355628455823433,0.37207970647406524,0.00031270929315355725,0.00016466660767084658],\"xaxis\":\"x3\",\"y\":[\"1: walk\",\"2: bike\",\"3: sov\",\"4: hov 2\",\"5: hov 3+\",\"6: transit\",\"8: school bus\"],\"yaxis\":\"y3\",\"type\":\"bar\"}],                        {\"template\":{\"data\":{\"barpolar\":[{\"marker\":{\"line\":{\"color\":\"white\",\"width\":0.5},\"pattern\":{\"fillmode\":\"overlay\",\"size\":10,\"solidity\":0.2}},\"type\":\"barpolar\"}],\"bar\":[{\"error_x\":{\"color\":\"rgb(36,36,36)\"},\"error_y\":{\"color\":\"rgb(36,36,36)\"},\"marker\":{\"line\":{\"color\":\"white\",\"width\":0.5},\"pattern\":{\"fillmode\":\"overlay\",\"size\":10,\"solidity\":0.2}},\"type\":\"bar\"}],\"carpet\":[{\"aaxis\":{\"endlinecolor\":\"rgb(36,36,36)\",\"gridcolor\":\"white\",\"linecolor\":\"white\",\"minorgridcolor\":\"white\",\"startlinecolor\":\"rgb(36,36,36)\"},\"baxis\":{\"endlinecolor\":\"rgb(36,36,36)\",\"gridcolor\":\"white\",\"linecolor\":\"white\",\"minorgridcolor\":\"white\",\"startlinecolor\":\"rgb(36,36,36)\"},\"type\":\"carpet\"}],\"choropleth\":[{\"colorbar\":{\"outlinewidth\":1,\"tickcolor\":\"rgb(36,36,36)\",\"ticks\":\"outside\"},\"type\":\"choropleth\"}],\"contourcarpet\":[{\"colorbar\":{\"outlinewidth\":1,\"tickcolor\":\"rgb(36,36,36)\",\"ticks\":\"outside\"},\"type\":\"contourcarpet\"}],\"contour\":[{\"colorbar\":{\"outlinewidth\":1,\"tickcolor\":\"rgb(36,36,36)\",\"ticks\":\"outside\"},\"colorscale\":[[0.0,\"#440154\"],[0.1111111111111111,\"#482878\"],[0.2222222222222222,\"#3e4989\"],[0.3333333333333333,\"#31688e\"],[0.4444444444444444,\"#26828e\"],[0.5555555555555556,\"#1f9e89\"],[0.6666666666666666,\"#35b779\"],[0.7777777777777778,\"#6ece58\"],[0.8888888888888888,\"#b5de2b\"],[1.0,\"#fde725\"]],\"type\":\"contour\"}],\"heatmapgl\":[{\"colorbar\":{\"outlinewidth\":1,\"tickcolor\":\"rgb(36,36,36)\",\"ticks\":\"outside\"},\"colorscale\":[[0.0,\"#440154\"],[0.1111111111111111,\"#482878\"],[0.2222222222222222,\"#3e4989\"],[0.3333333333333333,\"#31688e\"],[0.4444444444444444,\"#26828e\"],[0.5555555555555556,\"#1f9e89\"],[0.6666666666666666,\"#35b779\"],[0.7777777777777778,\"#6ece58\"],[0.8888888888888888,\"#b5de2b\"],[1.0,\"#fde725\"]],\"type\":\"heatmapgl\"}],\"heatmap\":[{\"colorbar\":{\"outlinewidth\":1,\"tickcolor\":\"rgb(36,36,36)\",\"ticks\":\"outside\"},\"colorscale\":[[0.0,\"#440154\"],[0.1111111111111111,\"#482878\"],[0.2222222222222222,\"#3e4989\"],[0.3333333333333333,\"#31688e\"],[0.4444444444444444,\"#26828e\"],[0.5555555555555556,\"#1f9e89\"],[0.6666666666666666,\"#35b779\"],[0.7777777777777778,\"#6ece58\"],[0.8888888888888888,\"#b5de2b\"],[1.0,\"#fde725\"]],\"type\":\"heatmap\"}],\"histogram2dcontour\":[{\"colorbar\":{\"outlinewidth\":1,\"tickcolor\":\"rgb(36,36,36)\",\"ticks\":\"outside\"},\"colorscale\":[[0.0,\"#440154\"],[0.1111111111111111,\"#482878\"],[0.2222222222222222,\"#3e4989\"],[0.3333333333333333,\"#31688e\"],[0.4444444444444444,\"#26828e\"],[0.5555555555555556,\"#1f9e89\"],[0.6666666666666666,\"#35b779\"],[0.7777777777777778,\"#6ece58\"],[0.8888888888888888,\"#b5de2b\"],[1.0,\"#fde725\"]],\"type\":\"histogram2dcontour\"}],\"histogram2d\":[{\"colorbar\":{\"outlinewidth\":1,\"tickcolor\":\"rgb(36,36,36)\",\"ticks\":\"outside\"},\"colorscale\":[[0.0,\"#440154\"],[0.1111111111111111,\"#482878\"],[0.2222222222222222,\"#3e4989\"],[0.3333333333333333,\"#31688e\"],[0.4444444444444444,\"#26828e\"],[0.5555555555555556,\"#1f9e89\"],[0.6666666666666666,\"#35b779\"],[0.7777777777777778,\"#6ece58\"],[0.8888888888888888,\"#b5de2b\"],[1.0,\"#fde725\"]],\"type\":\"histogram2d\"}],\"histogram\":[{\"marker\":{\"line\":{\"color\":\"white\",\"width\":0.6}},\"type\":\"histogram\"}],\"mesh3d\":[{\"colorbar\":{\"outlinewidth\":1,\"tickcolor\":\"rgb(36,36,36)\",\"ticks\":\"outside\"},\"type\":\"mesh3d\"}],\"parcoords\":[{\"line\":{\"colorbar\":{\"outlinewidth\":1,\"tickcolor\":\"rgb(36,36,36)\",\"ticks\":\"outside\"}},\"type\":\"parcoords\"}],\"pie\":[{\"automargin\":true,\"type\":\"pie\"}],\"scatter3d\":[{\"line\":{\"colorbar\":{\"outlinewidth\":1,\"tickcolor\":\"rgb(36,36,36)\",\"ticks\":\"outside\"}},\"marker\":{\"colorbar\":{\"outlinewidth\":1,\"tickcolor\":\"rgb(36,36,36)\",\"ticks\":\"outside\"}},\"type\":\"scatter3d\"}],\"scattercarpet\":[{\"marker\":{\"colorbar\":{\"outlinewidth\":1,\"tickcolor\":\"rgb(36,36,36)\",\"ticks\":\"outside\"}},\"type\":\"scattercarpet\"}],\"scattergeo\":[{\"marker\":{\"colorbar\":{\"outlinewidth\":1,\"tickcolor\":\"rgb(36,36,36)\",\"ticks\":\"outside\"}},\"type\":\"scattergeo\"}],\"scattergl\":[{\"marker\":{\"colorbar\":{\"outlinewidth\":1,\"tickcolor\":\"rgb(36,36,36)\",\"ticks\":\"outside\"}},\"type\":\"scattergl\"}],\"scattermapbox\":[{\"marker\":{\"colorbar\":{\"outlinewidth\":1,\"tickcolor\":\"rgb(36,36,36)\",\"ticks\":\"outside\"}},\"type\":\"scattermapbox\"}],\"scatterpolargl\":[{\"marker\":{\"colorbar\":{\"outlinewidth\":1,\"tickcolor\":\"rgb(36,36,36)\",\"ticks\":\"outside\"}},\"type\":\"scatterpolargl\"}],\"scatterpolar\":[{\"marker\":{\"colorbar\":{\"outlinewidth\":1,\"tickcolor\":\"rgb(36,36,36)\",\"ticks\":\"outside\"}},\"type\":\"scatterpolar\"}],\"scatter\":[{\"fillpattern\":{\"fillmode\":\"overlay\",\"size\":10,\"solidity\":0.2},\"type\":\"scatter\"}],\"scatterternary\":[{\"marker\":{\"colorbar\":{\"outlinewidth\":1,\"tickcolor\":\"rgb(36,36,36)\",\"ticks\":\"outside\"}},\"type\":\"scatterternary\"}],\"surface\":[{\"colorbar\":{\"outlinewidth\":1,\"tickcolor\":\"rgb(36,36,36)\",\"ticks\":\"outside\"},\"colorscale\":[[0.0,\"#440154\"],[0.1111111111111111,\"#482878\"],[0.2222222222222222,\"#3e4989\"],[0.3333333333333333,\"#31688e\"],[0.4444444444444444,\"#26828e\"],[0.5555555555555556,\"#1f9e89\"],[0.6666666666666666,\"#35b779\"],[0.7777777777777778,\"#6ece58\"],[0.8888888888888888,\"#b5de2b\"],[1.0,\"#fde725\"]],\"type\":\"surface\"}],\"table\":[{\"cells\":{\"fill\":{\"color\":\"rgb(237,237,237)\"},\"line\":{\"color\":\"white\"}},\"header\":{\"fill\":{\"color\":\"rgb(217,217,217)\"},\"line\":{\"color\":\"white\"}},\"type\":\"table\"}]},\"layout\":{\"annotationdefaults\":{\"arrowhead\":0,\"arrowwidth\":1},\"autotypenumbers\":\"strict\",\"coloraxis\":{\"colorbar\":{\"outlinewidth\":1,\"tickcolor\":\"rgb(36,36,36)\",\"ticks\":\"outside\"}},\"colorscale\":{\"diverging\":[[0.0,\"rgb(103,0,31)\"],[0.1,\"rgb(178,24,43)\"],[0.2,\"rgb(214,96,77)\"],[0.3,\"rgb(244,165,130)\"],[0.4,\"rgb(253,219,199)\"],[0.5,\"rgb(247,247,247)\"],[0.6,\"rgb(209,229,240)\"],[0.7,\"rgb(146,197,222)\"],[0.8,\"rgb(67,147,195)\"],[0.9,\"rgb(33,102,172)\"],[1.0,\"rgb(5,48,97)\"]],\"sequential\":[[0.0,\"#440154\"],[0.1111111111111111,\"#482878\"],[0.2222222222222222,\"#3e4989\"],[0.3333333333333333,\"#31688e\"],[0.4444444444444444,\"#26828e\"],[0.5555555555555556,\"#1f9e89\"],[0.6666666666666666,\"#35b779\"],[0.7777777777777778,\"#6ece58\"],[0.8888888888888888,\"#b5de2b\"],[1.0,\"#fde725\"]],\"sequentialminus\":[[0.0,\"#440154\"],[0.1111111111111111,\"#482878\"],[0.2222222222222222,\"#3e4989\"],[0.3333333333333333,\"#31688e\"],[0.4444444444444444,\"#26828e\"],[0.5555555555555556,\"#1f9e89\"],[0.6666666666666666,\"#35b779\"],[0.7777777777777778,\"#6ece58\"],[0.8888888888888888,\"#b5de2b\"],[1.0,\"#fde725\"]]},\"colorway\":[\"#91268F\",\"#8CC63E\",\"#00A7A0\",\"#F05A28\",\"#4C4C4C\",\"#630460\",\"#9f3913\",\"#588527\",\"#00716c\",\"#3e4040\"],\"font\":{\"color\":\"rgb(36,36,36)\",\"family\":\"Poppins\",\"size\":11},\"geo\":{\"bgcolor\":\"white\",\"lakecolor\":\"white\",\"landcolor\":\"white\",\"showlakes\":true,\"showland\":true,\"subunitcolor\":\"white\"},\"hoverlabel\":{\"align\":\"left\"},\"hovermode\":\"closest\",\"mapbox\":{\"style\":\"light\"},\"paper_bgcolor\":\"white\",\"plot_bgcolor\":\"white\",\"polar\":{\"angularaxis\":{\"gridcolor\":\"rgb(232,232,232)\",\"linecolor\":\"rgb(36,36,36)\",\"showgrid\":false,\"showline\":true,\"ticks\":\"outside\"},\"bgcolor\":\"white\",\"radialaxis\":{\"gridcolor\":\"rgb(232,232,232)\",\"linecolor\":\"rgb(36,36,36)\",\"showgrid\":false,\"showline\":true,\"ticks\":\"outside\"}},\"scene\":{\"xaxis\":{\"backgroundcolor\":\"white\",\"gridcolor\":\"rgb(232,232,232)\",\"gridwidth\":2,\"linecolor\":\"rgb(36,36,36)\",\"showbackground\":true,\"showgrid\":false,\"showline\":true,\"ticks\":\"outside\",\"zeroline\":false,\"zerolinecolor\":\"rgb(36,36,36)\"},\"yaxis\":{\"backgroundcolor\":\"white\",\"gridcolor\":\"rgb(232,232,232)\",\"gridwidth\":2,\"linecolor\":\"rgb(36,36,36)\",\"showbackground\":true,\"showgrid\":false,\"showline\":true,\"ticks\":\"outside\",\"zeroline\":false,\"zerolinecolor\":\"rgb(36,36,36)\"},\"zaxis\":{\"backgroundcolor\":\"white\",\"gridcolor\":\"rgb(232,232,232)\",\"gridwidth\":2,\"linecolor\":\"rgb(36,36,36)\",\"showbackground\":true,\"showgrid\":false,\"showline\":true,\"ticks\":\"outside\",\"zeroline\":false,\"zerolinecolor\":\"rgb(36,36,36)\"}},\"shapedefaults\":{\"fillcolor\":\"black\",\"line\":{\"width\":0},\"opacity\":0.3},\"ternary\":{\"aaxis\":{\"gridcolor\":\"rgb(232,232,232)\",\"linecolor\":\"rgb(36,36,36)\",\"showgrid\":false,\"showline\":true,\"ticks\":\"outside\"},\"baxis\":{\"gridcolor\":\"rgb(232,232,232)\",\"linecolor\":\"rgb(36,36,36)\",\"showgrid\":false,\"showline\":true,\"ticks\":\"outside\"},\"bgcolor\":\"white\",\"caxis\":{\"gridcolor\":\"rgb(232,232,232)\",\"linecolor\":\"rgb(36,36,36)\",\"showgrid\":false,\"showline\":true,\"ticks\":\"outside\"}},\"title\":{\"x\":0.05},\"xaxis\":{\"automargin\":true,\"gridcolor\":\"rgb(232,232,232)\",\"linecolor\":\"rgb(36,36,36)\",\"showgrid\":false,\"showline\":true,\"ticks\":\"outside\",\"title\":{\"standoff\":15},\"zeroline\":false,\"zerolinecolor\":\"rgb(36,36,36)\"},\"yaxis\":{\"automargin\":true,\"gridcolor\":\"rgb(232,232,232)\",\"linecolor\":\"rgb(36,36,36)\",\"showgrid\":false,\"showline\":true,\"ticks\":\"outside\",\"title\":{\"standoff\":15},\"zeroline\":false,\"zerolinecolor\":\"rgb(36,36,36)\"}}},\"xaxis\":{\"anchor\":\"y\",\"domain\":[0.0,0.31999999999999995],\"title\":{\"text\":\"percentage\"},\"tickformat\":\".1%\"},\"yaxis\":{\"anchor\":\"x\",\"domain\":[0.0,1.0],\"title\":{\"text\":\"mode_label\"},\"categoryorder\":\"array\",\"categoryarray\":[\"9: other\\u00e2\\u20ac\\u201csurvey only\",\"8: school bus\",\"6: transit\",\"5: hov 3+\",\"4: hov 2\",\"3: sov\",\"2: bike\",\"1: walk\"]},\"xaxis2\":{\"anchor\":\"y2\",\"domain\":[0.33999999999999997,0.6599999999999999],\"matches\":\"x\",\"title\":{\"text\":\"percentage\"},\"tickformat\":\".1%\"},\"yaxis2\":{\"anchor\":\"x2\",\"domain\":[0.0,1.0],\"matches\":\"y\",\"showticklabels\":false},\"xaxis3\":{\"anchor\":\"y3\",\"domain\":[0.6799999999999999,0.9999999999999999],\"matches\":\"x\",\"title\":{\"text\":\"percentage\"},\"tickformat\":\".1%\"},\"yaxis3\":{\"anchor\":\"x3\",\"domain\":[0.0,1.0],\"matches\":\"y\",\"showticklabels\":false},\"annotations\":[{\"font\":{},\"showarrow\":false,\"text\":\"no car\",\"x\":0.15999999999999998,\"xanchor\":\"center\",\"xref\":\"paper\",\"y\":1.0,\"yanchor\":\"bottom\",\"yref\":\"paper\"},{\"font\":{},\"showarrow\":false,\"text\":\"cars fewer than drivers\",\"x\":0.49999999999999994,\"xanchor\":\"center\",\"xref\":\"paper\",\"y\":1.0,\"yanchor\":\"bottom\",\"yref\":\"paper\"},{\"font\":{},\"showarrow\":false,\"text\":\"enough cars\",\"x\":0.8399999999999999,\"xanchor\":\"center\",\"xref\":\"paper\",\"y\":1.0,\"yanchor\":\"bottom\",\"yref\":\"paper\"}],\"legend\":{\"title\":{\"text\":\"source\"},\"tracegroupgap\":0},\"title\":{\"text\":\"escort trip mode choice by auto availability (driver, showing only households with at least one driver)\"},\"barmode\":\"group\",\"height\":500,\"width\":1000},                        {\"responsive\": true}                    ).then(function(){\n",
       "                            \n",
       "var gd = document.getElementById('839f6307-b695-445c-9023-b21f981c752a');\n",
       "var x = new MutationObserver(function (mutations, observer) {{\n",
       "        var display = window.getComputedStyle(gd).display;\n",
       "        if (!display || display === 'none') {{\n",
       "            console.log([gd, 'removed!']);\n",
       "            Plotly.purge(gd);\n",
       "            observer.disconnect();\n",
       "        }}\n",
       "}});\n",
       "\n",
       "// Listen for the removal of the full notebook cells\n",
       "var notebookContainer = gd.closest('#notebook-container');\n",
       "if (notebookContainer) {{\n",
       "    x.observe(notebookContainer, {childList: true});\n",
       "}}\n",
       "\n",
       "// Listen for the clearing of the current output cell\n",
       "var outputEl = gd.closest('.output');\n",
       "if (outputEl) {{\n",
       "    x.observe(outputEl, {childList: true});\n",
       "}}\n",
       "\n",
       "                        })                };                });            </script>        </div>"
      ]
     },
     "metadata": {},
     "output_type": "display_data"
    }
   ],
   "source": [
    "plot_mode_choice(es_trip.loc[es_trip['auto_available_driver'] != \"no dirver\"], \"auto_available_driver\",\n",
    "                 {\"auto_available_driver\": [\"no car\", \"cars fewer than drivers\", \"enough cars\"],\n",
    "                  \"mode_label\":[\"1: walk\",\"2: bike\",\"3: sov\",\"4: hov 2\",\"5: hov 3+\",\"6: transit\",\n",
    "                                   \"8: school bus\",\"9: other–survey only\"]},\n",
    "                 \"auto availability (driver, showing only households with at least one driver)\", 3, 500, 1000)"
   ]
  },
  {
   "cell_type": "raw",
   "metadata": {},
   "source": [
    ":::"
   ]
  }
 ],
 "metadata": {
  "kernelspec": {
   "display_name": "build_notebook",
   "language": "python",
   "name": "python3"
  },
  "language_info": {
   "codemirror_mode": {
    "name": "ipython",
    "version": 3
   },
   "file_extension": ".py",
   "mimetype": "text/x-python",
   "name": "python",
   "nbconvert_exporter": "python",
   "pygments_lexer": "ipython3",
   "version": "3.7.10"
  }
 },
 "nbformat": 4,
 "nbformat_minor": 2
}
