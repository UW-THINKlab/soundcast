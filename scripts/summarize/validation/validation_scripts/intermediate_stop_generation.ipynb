{
 "cells": [
  {
   "cell_type": "raw",
   "metadata": {},
   "source": [
    "---\n",
    "title: \"Intermediate Stop Generation\"\n",
    "date: today\n",
    "---"
   ]
  },
  {
   "cell_type": "code",
   "execution_count": 1,
   "metadata": {
    "ExecuteTime": {
     "end_time": "2024-07-09T17:56:46.004832Z",
     "start_time": "2024-07-09T17:56:44.551713Z"
    },
    "execution": {
     "iopub.execute_input": "2025-01-21T06:47:50.892258Z",
     "iopub.status.busy": "2025-01-21T06:47:50.891263Z",
     "iopub.status.idle": "2025-01-21T06:47:53.730246Z",
     "shell.execute_reply": "2025-01-21T06:47:53.727731Z"
    }
   },
   "outputs": [],
   "source": [
    "import os\n",
    "import pandas as pd\n",
    "import numpy as np\n",
    "# import validation_data_input\n",
    "import plotly.express as px\n",
    "import toml\n",
    "import psrc_theme\n",
    "\n",
    "# to show plotly figures in quarto HTML file\n",
    "import plotly.io as pio\n",
    "pio.renderers.default = \"plotly_mimetype+notebook_connected\"\n",
    "pio.templates.default = \"simple_white+psrc_color\" # set plotly template"
   ]
  },
  {
   "cell_type": "code",
   "execution_count": 2,
   "metadata": {
    "ExecuteTime": {
     "end_time": "2024-07-09T17:57:26.380043Z",
     "start_time": "2024-07-09T17:56:54.473975Z"
    },
    "execution": {
     "iopub.execute_input": "2025-01-21T06:47:53.741280Z",
     "iopub.status.busy": "2025-01-21T06:47:53.740283Z",
     "iopub.status.idle": "2025-01-21T06:47:58.783489Z",
     "shell.execute_reply": "2025-01-21T06:47:58.782611Z"
    }
   },
   "outputs": [],
   "source": [
    "%store -r validation_data\n",
    "\n",
    "config = validation_data.config.copy()\n",
    "tour = validation_data.tour.copy()"
   ]
  },
  {
   "cell_type": "code",
   "execution_count": 3,
   "metadata": {
    "ExecuteTime": {
     "end_time": "2024-07-15T03:59:31.275175Z",
     "start_time": "2024-07-15T03:59:30.165061Z"
    },
    "collapsed": false,
    "execution": {
     "iopub.execute_input": "2025-01-21T06:47:58.797515Z",
     "iopub.status.busy": "2025-01-21T06:47:58.794524Z",
     "iopub.status.idle": "2025-01-21T06:47:59.019090Z",
     "shell.execute_reply": "2025-01-21T06:47:59.017094Z"
    }
   },
   "outputs": [],
   "source": [
    "# df_person = person.copy()\n",
    "df_tour = tour.copy()\n",
    "\n",
    "# ptype_cat = {1: \"1: full time worker\",\n",
    "#              2: \"2: part time worker\",\n",
    "#              3: \"3: non-worker age 65+\",\n",
    "#              4: \"4: other non-working adult\",\n",
    "#              5: \"5: university student\",\n",
    "#              6: \"6: grade school student/child age 16+\",\n",
    "#              7: \"7: child age 5-15\",\n",
    "#              8: \"8: child age 0-4\"}\n",
    "pdpurp_cat = {1: \"Work\",\n",
    "              2: \"School\",\n",
    "              3: \"Escort\",\n",
    "              4: \"Personal Business\",\n",
    "              5: \"Shop\",\n",
    "              6: \"Meal\",\n",
    "              7: \"Social\",\n",
    "              8: \"Social\",\n",
    "              9: \"Personal Business\"}\n",
    "# df_person['pptyp_label'] = df_person['pptyp'].map(ptype_cat)\n",
    "# df_person['pptyp_label'] = df_person['pptyp_label'].astype(pd.CategoricalDtype([\"1: full time worker\",\"2: part time worker\",\"3: non-worker age 65+\",\"4: other non-working adult\",\"5: university student\",\"6: grade school student/child age 16+\",\"7: child age 5-15\",\"8: child age 0-4\"]))\n",
    "\n",
    "df_tour['pdpurp_label'] = df_tour['pdpurp'].map(pdpurp_cat)\n",
    "df_tour['pdpurp_label'] = df_tour['pdpurp_label'].astype(pd.CategoricalDtype([\"Work\",\"School\",\"Shop\",\"Meal\",\"Escort\",\"Personal Business\"]))\n",
    "\n",
    "df_tour['all_stops'] = df_tour['tripsh1'] + df_tour['tripsh2']\n",
    "df_tour = df_tour.sort_values(['source'])\n",
    "# df_tour = df_tour.merge(df_person, how='left', on=['pno','hhno','source'])"
   ]
  },
  {
   "cell_type": "raw",
   "metadata": {},
   "source": [
    ":::{.panel-tabset}\n",
    "### outbound: first half tour"
   ]
  },
  {
   "cell_type": "code",
   "execution_count": 4,
   "metadata": {
    "ExecuteTime": {
     "end_time": "2024-07-15T02:34:42.876522Z",
     "start_time": "2024-07-15T02:34:42.188902Z"
    },
    "collapsed": false,
    "execution": {
     "iopub.execute_input": "2025-01-21T06:47:59.031057Z",
     "iopub.status.busy": "2025-01-21T06:47:59.030060Z",
     "iopub.status.idle": "2025-01-21T06:47:59.711978Z",
     "shell.execute_reply": "2025-01-21T06:47:59.710135Z"
    }
   },
   "outputs": [
    {
     "data": {
      "text/html": [
       "        <script type=\"text/javascript\">\n",
       "        window.PlotlyConfig = {MathJaxConfig: 'local'};\n",
       "        if (window.MathJax && window.MathJax.Hub && window.MathJax.Hub.Config) {window.MathJax.Hub.Config({SVG: {font: \"STIX-Web\"}});}\n",
       "        if (typeof require !== 'undefined') {\n",
       "        require.undef(\"plotly\");\n",
       "        requirejs.config({\n",
       "            paths: {\n",
       "                'plotly': ['https://cdn.plot.ly/plotly-2.35.2.min']\n",
       "            }\n",
       "        });\n",
       "        require(['plotly'], function(Plotly) {\n",
       "            window._Plotly = Plotly;\n",
       "        });\n",
       "        }\n",
       "        </script>\n",
       "        "
      ]
     },
     "metadata": {},
     "output_type": "display_data"
    },
    {
     "data": {
      "application/vnd.plotly.v1+json": {
       "config": {
        "plotlyServerURL": "https://plot.ly"
       },
       "data": [
        {
         "alignmentgroup": "True",
         "customdata": [
          [
           168209.0
          ],
          [
           695.0
          ],
          [
           8872.0
          ],
          [
           36485.0
          ],
          [
           2009.0
          ]
         ],
         "hovertemplate": "source=model<br>tripsh1=%{x}<br>percentage=%{y}<br>toexpfac=%{customdata[0]}<extra></extra>",
         "legendgroup": "model",
         "marker": {
          "color": "#91268F",
          "pattern": {
           "shape": ""
          }
         },
         "name": "model",
         "offsetgroup": "model",
         "orientation": "v",
         "showlegend": true,
         "textposition": "auto",
         "type": "bar",
         "x": [
          1.0,
          5.0,
          3.0,
          2.0,
          4.0
         ],
         "xaxis": "x",
         "y": [
          0.7766347934086534,
          0.0032088721853112145,
          0.04096275399723898,
          0.1684542470231362,
          0.00927571830257587
         ],
         "yaxis": "y"
        },
        {
         "alignmentgroup": "True",
         "customdata": [
          [
           718393.6476667561
          ],
          [
           19201.2585227775
          ],
          [
           241384.71270125423
          ],
          [
           15941.574977592896
          ],
          [
           4785821.676167696
          ],
          [
           71723.16905419619
          ]
         ],
         "hovertemplate": "source=survey<br>tripsh1=%{x}<br>percentage=%{y}<br>toexpfac=%{customdata[0]}<extra></extra>",
         "legendgroup": "survey",
         "marker": {
          "color": "#8CC63E",
          "pattern": {
           "shape": ""
          }
         },
         "name": "survey",
         "offsetgroup": "survey",
         "orientation": "v",
         "showlegend": true,
         "textposition": "auto",
         "type": "bar",
         "x": [
          2.0,
          6.0,
          3.0,
          5.0,
          1.0,
          4.0
         ],
         "xaxis": "x",
         "y": [
          0.12261591179529849,
          0.0032772837413503194,
          0.04119970539472254,
          0.0027209187576744797,
          0.8168472680944627,
          0.012241758817038
         ],
         "yaxis": "y"
        },
        {
         "alignmentgroup": "True",
         "customdata": [
          [
           15687.979227107735
          ],
          [
           37073.30080517692
          ],
          [
           69994.4568289888
          ],
          [
           210164.23164581184
          ],
          [
           4056569.2009406066
          ],
          [
           684049.7984296267
          ],
          [
           6195.222020187005
          ],
          [
           10148.964367211716
          ]
         ],
         "hovertemplate": "source=survey (2017/2019)<br>tripsh1=%{x}<br>percentage=%{y}<br>toexpfac=%{customdata[0]}<extra></extra>",
         "legendgroup": "survey (2017/2019)",
         "marker": {
          "color": "#00A7A0",
          "pattern": {
           "shape": ""
          }
         },
         "name": "survey (2017/2019)",
         "offsetgroup": "survey (2017/2019)",
         "orientation": "v",
         "showlegend": true,
         "textposition": "auto",
         "type": "bar",
         "x": [
          6.0,
          5.0,
          4.0,
          3.0,
          1.0,
          2.0,
          8.0,
          9.0
         ],
         "xaxis": "x",
         "y": [
          0.003078895489283671,
          0.007275941468910261,
          0.013736990232193548,
          0.04124646619272419,
          0.7961352086163958,
          0.13425042246302554,
          0.0012158634873830874,
          0.001991818076678428
         ],
         "yaxis": "y"
        },
        {
         "alignmentgroup": "True",
         "customdata": [
          [
           4388790.146245741
          ],
          [
           68499.13460435816
          ],
          [
           278387.7666134438
          ],
          [
           45880.755392959734
          ],
          [
           763293.9608339656
          ],
          [
           9184.093163145595
          ]
         ],
         "hovertemplate": "source=survey (old weights)<br>tripsh1=%{x}<br>percentage=%{y}<br>toexpfac=%{customdata[0]}<extra></extra>",
         "legendgroup": "survey (old weights)",
         "marker": {
          "color": "#F05A28",
          "pattern": {
           "shape": ""
          }
         },
         "name": "survey (old weights)",
         "offsetgroup": "survey (old weights)",
         "orientation": "v",
         "showlegend": true,
         "textposition": "auto",
         "type": "bar",
         "x": [
          1.0,
          4.0,
          3.0,
          5.0,
          2.0,
          6.0
         ],
         "xaxis": "x",
         "y": [
          0.7885714293745454,
          0.012307824864236185,
          0.050020308951554654,
          0.00824378738909616,
          0.13714754856590394,
          0.0016501845000189703
         ],
         "yaxis": "y"
        }
       ],
       "layout": {
        "barmode": "group",
        "font": {
         "size": 11
        },
        "height": 400,
        "legend": {
         "title": {
          "text": "source"
         },
         "tracegroupgap": 0
        },
        "template": {
         "data": {
          "bar": [
           {
            "error_x": {
             "color": "rgb(36,36,36)"
            },
            "error_y": {
             "color": "rgb(36,36,36)"
            },
            "marker": {
             "line": {
              "color": "white",
              "width": 0.5
             },
             "pattern": {
              "fillmode": "overlay",
              "size": 10,
              "solidity": 0.2
             }
            },
            "type": "bar"
           }
          ],
          "barpolar": [
           {
            "marker": {
             "line": {
              "color": "white",
              "width": 0.5
             },
             "pattern": {
              "fillmode": "overlay",
              "size": 10,
              "solidity": 0.2
             }
            },
            "type": "barpolar"
           }
          ],
          "carpet": [
           {
            "aaxis": {
             "endlinecolor": "rgb(36,36,36)",
             "gridcolor": "white",
             "linecolor": "white",
             "minorgridcolor": "white",
             "startlinecolor": "rgb(36,36,36)"
            },
            "baxis": {
             "endlinecolor": "rgb(36,36,36)",
             "gridcolor": "white",
             "linecolor": "white",
             "minorgridcolor": "white",
             "startlinecolor": "rgb(36,36,36)"
            },
            "type": "carpet"
           }
          ],
          "choropleth": [
           {
            "colorbar": {
             "outlinewidth": 1,
             "tickcolor": "rgb(36,36,36)",
             "ticks": "outside"
            },
            "type": "choropleth"
           }
          ],
          "contour": [
           {
            "colorbar": {
             "outlinewidth": 1,
             "tickcolor": "rgb(36,36,36)",
             "ticks": "outside"
            },
            "colorscale": [
             [
              0.0,
              "#440154"
             ],
             [
              0.1111111111111111,
              "#482878"
             ],
             [
              0.2222222222222222,
              "#3e4989"
             ],
             [
              0.3333333333333333,
              "#31688e"
             ],
             [
              0.4444444444444444,
              "#26828e"
             ],
             [
              0.5555555555555556,
              "#1f9e89"
             ],
             [
              0.6666666666666666,
              "#35b779"
             ],
             [
              0.7777777777777778,
              "#6ece58"
             ],
             [
              0.8888888888888888,
              "#b5de2b"
             ],
             [
              1.0,
              "#fde725"
             ]
            ],
            "type": "contour"
           }
          ],
          "contourcarpet": [
           {
            "colorbar": {
             "outlinewidth": 1,
             "tickcolor": "rgb(36,36,36)",
             "ticks": "outside"
            },
            "type": "contourcarpet"
           }
          ],
          "heatmap": [
           {
            "colorbar": {
             "outlinewidth": 1,
             "tickcolor": "rgb(36,36,36)",
             "ticks": "outside"
            },
            "colorscale": [
             [
              0.0,
              "#440154"
             ],
             [
              0.1111111111111111,
              "#482878"
             ],
             [
              0.2222222222222222,
              "#3e4989"
             ],
             [
              0.3333333333333333,
              "#31688e"
             ],
             [
              0.4444444444444444,
              "#26828e"
             ],
             [
              0.5555555555555556,
              "#1f9e89"
             ],
             [
              0.6666666666666666,
              "#35b779"
             ],
             [
              0.7777777777777778,
              "#6ece58"
             ],
             [
              0.8888888888888888,
              "#b5de2b"
             ],
             [
              1.0,
              "#fde725"
             ]
            ],
            "type": "heatmap"
           }
          ],
          "heatmapgl": [
           {
            "colorbar": {
             "outlinewidth": 1,
             "tickcolor": "rgb(36,36,36)",
             "ticks": "outside"
            },
            "colorscale": [
             [
              0.0,
              "#440154"
             ],
             [
              0.1111111111111111,
              "#482878"
             ],
             [
              0.2222222222222222,
              "#3e4989"
             ],
             [
              0.3333333333333333,
              "#31688e"
             ],
             [
              0.4444444444444444,
              "#26828e"
             ],
             [
              0.5555555555555556,
              "#1f9e89"
             ],
             [
              0.6666666666666666,
              "#35b779"
             ],
             [
              0.7777777777777778,
              "#6ece58"
             ],
             [
              0.8888888888888888,
              "#b5de2b"
             ],
             [
              1.0,
              "#fde725"
             ]
            ],
            "type": "heatmapgl"
           }
          ],
          "histogram": [
           {
            "marker": {
             "line": {
              "color": "white",
              "width": 0.6
             }
            },
            "type": "histogram"
           }
          ],
          "histogram2d": [
           {
            "colorbar": {
             "outlinewidth": 1,
             "tickcolor": "rgb(36,36,36)",
             "ticks": "outside"
            },
            "colorscale": [
             [
              0.0,
              "#440154"
             ],
             [
              0.1111111111111111,
              "#482878"
             ],
             [
              0.2222222222222222,
              "#3e4989"
             ],
             [
              0.3333333333333333,
              "#31688e"
             ],
             [
              0.4444444444444444,
              "#26828e"
             ],
             [
              0.5555555555555556,
              "#1f9e89"
             ],
             [
              0.6666666666666666,
              "#35b779"
             ],
             [
              0.7777777777777778,
              "#6ece58"
             ],
             [
              0.8888888888888888,
              "#b5de2b"
             ],
             [
              1.0,
              "#fde725"
             ]
            ],
            "type": "histogram2d"
           }
          ],
          "histogram2dcontour": [
           {
            "colorbar": {
             "outlinewidth": 1,
             "tickcolor": "rgb(36,36,36)",
             "ticks": "outside"
            },
            "colorscale": [
             [
              0.0,
              "#440154"
             ],
             [
              0.1111111111111111,
              "#482878"
             ],
             [
              0.2222222222222222,
              "#3e4989"
             ],
             [
              0.3333333333333333,
              "#31688e"
             ],
             [
              0.4444444444444444,
              "#26828e"
             ],
             [
              0.5555555555555556,
              "#1f9e89"
             ],
             [
              0.6666666666666666,
              "#35b779"
             ],
             [
              0.7777777777777778,
              "#6ece58"
             ],
             [
              0.8888888888888888,
              "#b5de2b"
             ],
             [
              1.0,
              "#fde725"
             ]
            ],
            "type": "histogram2dcontour"
           }
          ],
          "mesh3d": [
           {
            "colorbar": {
             "outlinewidth": 1,
             "tickcolor": "rgb(36,36,36)",
             "ticks": "outside"
            },
            "type": "mesh3d"
           }
          ],
          "parcoords": [
           {
            "line": {
             "colorbar": {
              "outlinewidth": 1,
              "tickcolor": "rgb(36,36,36)",
              "ticks": "outside"
             }
            },
            "type": "parcoords"
           }
          ],
          "pie": [
           {
            "automargin": true,
            "type": "pie"
           }
          ],
          "scatter": [
           {
            "fillpattern": {
             "fillmode": "overlay",
             "size": 10,
             "solidity": 0.2
            },
            "type": "scatter"
           }
          ],
          "scatter3d": [
           {
            "line": {
             "colorbar": {
              "outlinewidth": 1,
              "tickcolor": "rgb(36,36,36)",
              "ticks": "outside"
             }
            },
            "marker": {
             "colorbar": {
              "outlinewidth": 1,
              "tickcolor": "rgb(36,36,36)",
              "ticks": "outside"
             }
            },
            "type": "scatter3d"
           }
          ],
          "scattercarpet": [
           {
            "marker": {
             "colorbar": {
              "outlinewidth": 1,
              "tickcolor": "rgb(36,36,36)",
              "ticks": "outside"
             }
            },
            "type": "scattercarpet"
           }
          ],
          "scattergeo": [
           {
            "marker": {
             "colorbar": {
              "outlinewidth": 1,
              "tickcolor": "rgb(36,36,36)",
              "ticks": "outside"
             }
            },
            "type": "scattergeo"
           }
          ],
          "scattergl": [
           {
            "marker": {
             "colorbar": {
              "outlinewidth": 1,
              "tickcolor": "rgb(36,36,36)",
              "ticks": "outside"
             }
            },
            "type": "scattergl"
           }
          ],
          "scattermapbox": [
           {
            "marker": {
             "colorbar": {
              "outlinewidth": 1,
              "tickcolor": "rgb(36,36,36)",
              "ticks": "outside"
             }
            },
            "type": "scattermapbox"
           }
          ],
          "scatterpolar": [
           {
            "marker": {
             "colorbar": {
              "outlinewidth": 1,
              "tickcolor": "rgb(36,36,36)",
              "ticks": "outside"
             }
            },
            "type": "scatterpolar"
           }
          ],
          "scatterpolargl": [
           {
            "marker": {
             "colorbar": {
              "outlinewidth": 1,
              "tickcolor": "rgb(36,36,36)",
              "ticks": "outside"
             }
            },
            "type": "scatterpolargl"
           }
          ],
          "scatterternary": [
           {
            "marker": {
             "colorbar": {
              "outlinewidth": 1,
              "tickcolor": "rgb(36,36,36)",
              "ticks": "outside"
             }
            },
            "type": "scatterternary"
           }
          ],
          "surface": [
           {
            "colorbar": {
             "outlinewidth": 1,
             "tickcolor": "rgb(36,36,36)",
             "ticks": "outside"
            },
            "colorscale": [
             [
              0.0,
              "#440154"
             ],
             [
              0.1111111111111111,
              "#482878"
             ],
             [
              0.2222222222222222,
              "#3e4989"
             ],
             [
              0.3333333333333333,
              "#31688e"
             ],
             [
              0.4444444444444444,
              "#26828e"
             ],
             [
              0.5555555555555556,
              "#1f9e89"
             ],
             [
              0.6666666666666666,
              "#35b779"
             ],
             [
              0.7777777777777778,
              "#6ece58"
             ],
             [
              0.8888888888888888,
              "#b5de2b"
             ],
             [
              1.0,
              "#fde725"
             ]
            ],
            "type": "surface"
           }
          ],
          "table": [
           {
            "cells": {
             "fill": {
              "color": "rgb(237,237,237)"
             },
             "line": {
              "color": "white"
             }
            },
            "header": {
             "fill": {
              "color": "rgb(217,217,217)"
             },
             "line": {
              "color": "white"
             }
            },
            "type": "table"
           }
          ]
         },
         "layout": {
          "annotationdefaults": {
           "arrowhead": 0,
           "arrowwidth": 1
          },
          "autotypenumbers": "strict",
          "coloraxis": {
           "colorbar": {
            "outlinewidth": 1,
            "tickcolor": "rgb(36,36,36)",
            "ticks": "outside"
           }
          },
          "colorscale": {
           "diverging": [
            [
             0.0,
             "rgb(103,0,31)"
            ],
            [
             0.1,
             "rgb(178,24,43)"
            ],
            [
             0.2,
             "rgb(214,96,77)"
            ],
            [
             0.3,
             "rgb(244,165,130)"
            ],
            [
             0.4,
             "rgb(253,219,199)"
            ],
            [
             0.5,
             "rgb(247,247,247)"
            ],
            [
             0.6,
             "rgb(209,229,240)"
            ],
            [
             0.7,
             "rgb(146,197,222)"
            ],
            [
             0.8,
             "rgb(67,147,195)"
            ],
            [
             0.9,
             "rgb(33,102,172)"
            ],
            [
             1.0,
             "rgb(5,48,97)"
            ]
           ],
           "sequential": [
            [
             0.0,
             "#440154"
            ],
            [
             0.1111111111111111,
             "#482878"
            ],
            [
             0.2222222222222222,
             "#3e4989"
            ],
            [
             0.3333333333333333,
             "#31688e"
            ],
            [
             0.4444444444444444,
             "#26828e"
            ],
            [
             0.5555555555555556,
             "#1f9e89"
            ],
            [
             0.6666666666666666,
             "#35b779"
            ],
            [
             0.7777777777777778,
             "#6ece58"
            ],
            [
             0.8888888888888888,
             "#b5de2b"
            ],
            [
             1.0,
             "#fde725"
            ]
           ],
           "sequentialminus": [
            [
             0.0,
             "#440154"
            ],
            [
             0.1111111111111111,
             "#482878"
            ],
            [
             0.2222222222222222,
             "#3e4989"
            ],
            [
             0.3333333333333333,
             "#31688e"
            ],
            [
             0.4444444444444444,
             "#26828e"
            ],
            [
             0.5555555555555556,
             "#1f9e89"
            ],
            [
             0.6666666666666666,
             "#35b779"
            ],
            [
             0.7777777777777778,
             "#6ece58"
            ],
            [
             0.8888888888888888,
             "#b5de2b"
            ],
            [
             1.0,
             "#fde725"
            ]
           ]
          },
          "colorway": [
           "#91268F",
           "#8CC63E",
           "#00A7A0",
           "#F05A28",
           "#4C4C4C",
           "#630460",
           "#9f3913",
           "#588527",
           "#00716c",
           "#3e4040"
          ],
          "font": {
           "color": "rgb(36,36,36)",
           "family": "Poppins",
           "size": 11
          },
          "geo": {
           "bgcolor": "white",
           "lakecolor": "white",
           "landcolor": "white",
           "showlakes": true,
           "showland": true,
           "subunitcolor": "white"
          },
          "hoverlabel": {
           "align": "left"
          },
          "hovermode": "closest",
          "mapbox": {
           "style": "light"
          },
          "paper_bgcolor": "white",
          "plot_bgcolor": "white",
          "polar": {
           "angularaxis": {
            "gridcolor": "rgb(232,232,232)",
            "linecolor": "rgb(36,36,36)",
            "showgrid": false,
            "showline": true,
            "ticks": "outside"
           },
           "bgcolor": "white",
           "radialaxis": {
            "gridcolor": "rgb(232,232,232)",
            "linecolor": "rgb(36,36,36)",
            "showgrid": false,
            "showline": true,
            "ticks": "outside"
           }
          },
          "scene": {
           "xaxis": {
            "backgroundcolor": "white",
            "gridcolor": "rgb(232,232,232)",
            "gridwidth": 2,
            "linecolor": "rgb(36,36,36)",
            "showbackground": true,
            "showgrid": false,
            "showline": true,
            "ticks": "outside",
            "zeroline": false,
            "zerolinecolor": "rgb(36,36,36)"
           },
           "yaxis": {
            "backgroundcolor": "white",
            "gridcolor": "rgb(232,232,232)",
            "gridwidth": 2,
            "linecolor": "rgb(36,36,36)",
            "showbackground": true,
            "showgrid": false,
            "showline": true,
            "ticks": "outside",
            "zeroline": false,
            "zerolinecolor": "rgb(36,36,36)"
           },
           "zaxis": {
            "backgroundcolor": "white",
            "gridcolor": "rgb(232,232,232)",
            "gridwidth": 2,
            "linecolor": "rgb(36,36,36)",
            "showbackground": true,
            "showgrid": false,
            "showline": true,
            "ticks": "outside",
            "zeroline": false,
            "zerolinecolor": "rgb(36,36,36)"
           }
          },
          "shapedefaults": {
           "fillcolor": "black",
           "line": {
            "width": 0
           },
           "opacity": 0.3
          },
          "ternary": {
           "aaxis": {
            "gridcolor": "rgb(232,232,232)",
            "linecolor": "rgb(36,36,36)",
            "showgrid": false,
            "showline": true,
            "ticks": "outside"
           },
           "baxis": {
            "gridcolor": "rgb(232,232,232)",
            "linecolor": "rgb(36,36,36)",
            "showgrid": false,
            "showline": true,
            "ticks": "outside"
           },
           "bgcolor": "white",
           "caxis": {
            "gridcolor": "rgb(232,232,232)",
            "linecolor": "rgb(36,36,36)",
            "showgrid": false,
            "showline": true,
            "ticks": "outside"
           }
          },
          "title": {
           "x": 0.05
          },
          "xaxis": {
           "automargin": true,
           "gridcolor": "rgb(232,232,232)",
           "linecolor": "rgb(36,36,36)",
           "showgrid": false,
           "showline": true,
           "ticks": "outside",
           "title": {
            "standoff": 15
           },
           "zeroline": false,
           "zerolinecolor": "rgb(36,36,36)"
          },
          "yaxis": {
           "automargin": true,
           "gridcolor": "rgb(232,232,232)",
           "linecolor": "rgb(36,36,36)",
           "showgrid": false,
           "showline": true,
           "ticks": "outside",
           "title": {
            "standoff": 15
           },
           "zeroline": false,
           "zerolinecolor": "rgb(36,36,36)"
          }
         }
        },
        "title": {
         "text": "outbound: number of stops (excluding shares < 1%)"
        },
        "width": 700,
        "xaxis": {
         "anchor": "y",
         "categoryorder": "category ascending",
         "domain": [
          0.0,
          1.0
         ],
         "dtick": 1,
         "title": {
          "text": "tripsh1"
         }
        },
        "yaxis": {
         "anchor": "x",
         "domain": [
          0.0,
          1.0
         ],
         "tickformat": ".0%",
         "title": {
          "text": "percentage"
         }
        }
       }
      },
      "text/html": [
       "<div>                            <div id=\"f1297307-6d5c-41ce-80b1-f18faac8a067\" class=\"plotly-graph-div\" style=\"height:400px; width:700px;\"></div>            <script type=\"text/javascript\">                require([\"plotly\"], function(Plotly) {                    window.PLOTLYENV=window.PLOTLYENV || {};                                    if (document.getElementById(\"f1297307-6d5c-41ce-80b1-f18faac8a067\")) {                    Plotly.newPlot(                        \"f1297307-6d5c-41ce-80b1-f18faac8a067\",                        [{\"alignmentgroup\":\"True\",\"customdata\":[[168209.0],[695.0],[8872.0],[36485.0],[2009.0]],\"hovertemplate\":\"source=model\\u003cbr\\u003etripsh1=%{x}\\u003cbr\\u003epercentage=%{y}\\u003cbr\\u003etoexpfac=%{customdata[0]}\\u003cextra\\u003e\\u003c\\u002fextra\\u003e\",\"legendgroup\":\"model\",\"marker\":{\"color\":\"#91268F\",\"pattern\":{\"shape\":\"\"}},\"name\":\"model\",\"offsetgroup\":\"model\",\"orientation\":\"v\",\"showlegend\":true,\"textposition\":\"auto\",\"x\":[1.0,5.0,3.0,2.0,4.0],\"xaxis\":\"x\",\"y\":[0.7766347934086534,0.0032088721853112145,0.04096275399723898,0.1684542470231362,0.00927571830257587],\"yaxis\":\"y\",\"type\":\"bar\"},{\"alignmentgroup\":\"True\",\"customdata\":[[718393.6476667561],[19201.2585227775],[241384.71270125423],[15941.574977592896],[4785821.676167696],[71723.16905419619]],\"hovertemplate\":\"source=survey\\u003cbr\\u003etripsh1=%{x}\\u003cbr\\u003epercentage=%{y}\\u003cbr\\u003etoexpfac=%{customdata[0]}\\u003cextra\\u003e\\u003c\\u002fextra\\u003e\",\"legendgroup\":\"survey\",\"marker\":{\"color\":\"#8CC63E\",\"pattern\":{\"shape\":\"\"}},\"name\":\"survey\",\"offsetgroup\":\"survey\",\"orientation\":\"v\",\"showlegend\":true,\"textposition\":\"auto\",\"x\":[2.0,6.0,3.0,5.0,1.0,4.0],\"xaxis\":\"x\",\"y\":[0.12261591179529849,0.0032772837413503194,0.04119970539472254,0.0027209187576744797,0.8168472680944627,0.012241758817038],\"yaxis\":\"y\",\"type\":\"bar\"},{\"alignmentgroup\":\"True\",\"customdata\":[[15687.979227107735],[37073.30080517692],[69994.4568289888],[210164.23164581184],[4056569.2009406066],[684049.7984296267],[6195.222020187005],[10148.964367211716]],\"hovertemplate\":\"source=survey (2017\\u002f2019)\\u003cbr\\u003etripsh1=%{x}\\u003cbr\\u003epercentage=%{y}\\u003cbr\\u003etoexpfac=%{customdata[0]}\\u003cextra\\u003e\\u003c\\u002fextra\\u003e\",\"legendgroup\":\"survey (2017\\u002f2019)\",\"marker\":{\"color\":\"#00A7A0\",\"pattern\":{\"shape\":\"\"}},\"name\":\"survey (2017\\u002f2019)\",\"offsetgroup\":\"survey (2017\\u002f2019)\",\"orientation\":\"v\",\"showlegend\":true,\"textposition\":\"auto\",\"x\":[6.0,5.0,4.0,3.0,1.0,2.0,8.0,9.0],\"xaxis\":\"x\",\"y\":[0.003078895489283671,0.007275941468910261,0.013736990232193548,0.04124646619272419,0.7961352086163958,0.13425042246302554,0.0012158634873830874,0.001991818076678428],\"yaxis\":\"y\",\"type\":\"bar\"},{\"alignmentgroup\":\"True\",\"customdata\":[[4388790.146245741],[68499.13460435816],[278387.7666134438],[45880.755392959734],[763293.9608339656],[9184.093163145595]],\"hovertemplate\":\"source=survey (old weights)\\u003cbr\\u003etripsh1=%{x}\\u003cbr\\u003epercentage=%{y}\\u003cbr\\u003etoexpfac=%{customdata[0]}\\u003cextra\\u003e\\u003c\\u002fextra\\u003e\",\"legendgroup\":\"survey (old weights)\",\"marker\":{\"color\":\"#F05A28\",\"pattern\":{\"shape\":\"\"}},\"name\":\"survey (old weights)\",\"offsetgroup\":\"survey (old weights)\",\"orientation\":\"v\",\"showlegend\":true,\"textposition\":\"auto\",\"x\":[1.0,4.0,3.0,5.0,2.0,6.0],\"xaxis\":\"x\",\"y\":[0.7885714293745454,0.012307824864236185,0.050020308951554654,0.00824378738909616,0.13714754856590394,0.0016501845000189703],\"yaxis\":\"y\",\"type\":\"bar\"}],                        {\"template\":{\"data\":{\"barpolar\":[{\"marker\":{\"line\":{\"color\":\"white\",\"width\":0.5},\"pattern\":{\"fillmode\":\"overlay\",\"size\":10,\"solidity\":0.2}},\"type\":\"barpolar\"}],\"bar\":[{\"error_x\":{\"color\":\"rgb(36,36,36)\"},\"error_y\":{\"color\":\"rgb(36,36,36)\"},\"marker\":{\"line\":{\"color\":\"white\",\"width\":0.5},\"pattern\":{\"fillmode\":\"overlay\",\"size\":10,\"solidity\":0.2}},\"type\":\"bar\"}],\"carpet\":[{\"aaxis\":{\"endlinecolor\":\"rgb(36,36,36)\",\"gridcolor\":\"white\",\"linecolor\":\"white\",\"minorgridcolor\":\"white\",\"startlinecolor\":\"rgb(36,36,36)\"},\"baxis\":{\"endlinecolor\":\"rgb(36,36,36)\",\"gridcolor\":\"white\",\"linecolor\":\"white\",\"minorgridcolor\":\"white\",\"startlinecolor\":\"rgb(36,36,36)\"},\"type\":\"carpet\"}],\"choropleth\":[{\"colorbar\":{\"outlinewidth\":1,\"tickcolor\":\"rgb(36,36,36)\",\"ticks\":\"outside\"},\"type\":\"choropleth\"}],\"contourcarpet\":[{\"colorbar\":{\"outlinewidth\":1,\"tickcolor\":\"rgb(36,36,36)\",\"ticks\":\"outside\"},\"type\":\"contourcarpet\"}],\"contour\":[{\"colorbar\":{\"outlinewidth\":1,\"tickcolor\":\"rgb(36,36,36)\",\"ticks\":\"outside\"},\"colorscale\":[[0.0,\"#440154\"],[0.1111111111111111,\"#482878\"],[0.2222222222222222,\"#3e4989\"],[0.3333333333333333,\"#31688e\"],[0.4444444444444444,\"#26828e\"],[0.5555555555555556,\"#1f9e89\"],[0.6666666666666666,\"#35b779\"],[0.7777777777777778,\"#6ece58\"],[0.8888888888888888,\"#b5de2b\"],[1.0,\"#fde725\"]],\"type\":\"contour\"}],\"heatmapgl\":[{\"colorbar\":{\"outlinewidth\":1,\"tickcolor\":\"rgb(36,36,36)\",\"ticks\":\"outside\"},\"colorscale\":[[0.0,\"#440154\"],[0.1111111111111111,\"#482878\"],[0.2222222222222222,\"#3e4989\"],[0.3333333333333333,\"#31688e\"],[0.4444444444444444,\"#26828e\"],[0.5555555555555556,\"#1f9e89\"],[0.6666666666666666,\"#35b779\"],[0.7777777777777778,\"#6ece58\"],[0.8888888888888888,\"#b5de2b\"],[1.0,\"#fde725\"]],\"type\":\"heatmapgl\"}],\"heatmap\":[{\"colorbar\":{\"outlinewidth\":1,\"tickcolor\":\"rgb(36,36,36)\",\"ticks\":\"outside\"},\"colorscale\":[[0.0,\"#440154\"],[0.1111111111111111,\"#482878\"],[0.2222222222222222,\"#3e4989\"],[0.3333333333333333,\"#31688e\"],[0.4444444444444444,\"#26828e\"],[0.5555555555555556,\"#1f9e89\"],[0.6666666666666666,\"#35b779\"],[0.7777777777777778,\"#6ece58\"],[0.8888888888888888,\"#b5de2b\"],[1.0,\"#fde725\"]],\"type\":\"heatmap\"}],\"histogram2dcontour\":[{\"colorbar\":{\"outlinewidth\":1,\"tickcolor\":\"rgb(36,36,36)\",\"ticks\":\"outside\"},\"colorscale\":[[0.0,\"#440154\"],[0.1111111111111111,\"#482878\"],[0.2222222222222222,\"#3e4989\"],[0.3333333333333333,\"#31688e\"],[0.4444444444444444,\"#26828e\"],[0.5555555555555556,\"#1f9e89\"],[0.6666666666666666,\"#35b779\"],[0.7777777777777778,\"#6ece58\"],[0.8888888888888888,\"#b5de2b\"],[1.0,\"#fde725\"]],\"type\":\"histogram2dcontour\"}],\"histogram2d\":[{\"colorbar\":{\"outlinewidth\":1,\"tickcolor\":\"rgb(36,36,36)\",\"ticks\":\"outside\"},\"colorscale\":[[0.0,\"#440154\"],[0.1111111111111111,\"#482878\"],[0.2222222222222222,\"#3e4989\"],[0.3333333333333333,\"#31688e\"],[0.4444444444444444,\"#26828e\"],[0.5555555555555556,\"#1f9e89\"],[0.6666666666666666,\"#35b779\"],[0.7777777777777778,\"#6ece58\"],[0.8888888888888888,\"#b5de2b\"],[1.0,\"#fde725\"]],\"type\":\"histogram2d\"}],\"histogram\":[{\"marker\":{\"line\":{\"color\":\"white\",\"width\":0.6}},\"type\":\"histogram\"}],\"mesh3d\":[{\"colorbar\":{\"outlinewidth\":1,\"tickcolor\":\"rgb(36,36,36)\",\"ticks\":\"outside\"},\"type\":\"mesh3d\"}],\"parcoords\":[{\"line\":{\"colorbar\":{\"outlinewidth\":1,\"tickcolor\":\"rgb(36,36,36)\",\"ticks\":\"outside\"}},\"type\":\"parcoords\"}],\"pie\":[{\"automargin\":true,\"type\":\"pie\"}],\"scatter3d\":[{\"line\":{\"colorbar\":{\"outlinewidth\":1,\"tickcolor\":\"rgb(36,36,36)\",\"ticks\":\"outside\"}},\"marker\":{\"colorbar\":{\"outlinewidth\":1,\"tickcolor\":\"rgb(36,36,36)\",\"ticks\":\"outside\"}},\"type\":\"scatter3d\"}],\"scattercarpet\":[{\"marker\":{\"colorbar\":{\"outlinewidth\":1,\"tickcolor\":\"rgb(36,36,36)\",\"ticks\":\"outside\"}},\"type\":\"scattercarpet\"}],\"scattergeo\":[{\"marker\":{\"colorbar\":{\"outlinewidth\":1,\"tickcolor\":\"rgb(36,36,36)\",\"ticks\":\"outside\"}},\"type\":\"scattergeo\"}],\"scattergl\":[{\"marker\":{\"colorbar\":{\"outlinewidth\":1,\"tickcolor\":\"rgb(36,36,36)\",\"ticks\":\"outside\"}},\"type\":\"scattergl\"}],\"scattermapbox\":[{\"marker\":{\"colorbar\":{\"outlinewidth\":1,\"tickcolor\":\"rgb(36,36,36)\",\"ticks\":\"outside\"}},\"type\":\"scattermapbox\"}],\"scatterpolargl\":[{\"marker\":{\"colorbar\":{\"outlinewidth\":1,\"tickcolor\":\"rgb(36,36,36)\",\"ticks\":\"outside\"}},\"type\":\"scatterpolargl\"}],\"scatterpolar\":[{\"marker\":{\"colorbar\":{\"outlinewidth\":1,\"tickcolor\":\"rgb(36,36,36)\",\"ticks\":\"outside\"}},\"type\":\"scatterpolar\"}],\"scatter\":[{\"fillpattern\":{\"fillmode\":\"overlay\",\"size\":10,\"solidity\":0.2},\"type\":\"scatter\"}],\"scatterternary\":[{\"marker\":{\"colorbar\":{\"outlinewidth\":1,\"tickcolor\":\"rgb(36,36,36)\",\"ticks\":\"outside\"}},\"type\":\"scatterternary\"}],\"surface\":[{\"colorbar\":{\"outlinewidth\":1,\"tickcolor\":\"rgb(36,36,36)\",\"ticks\":\"outside\"},\"colorscale\":[[0.0,\"#440154\"],[0.1111111111111111,\"#482878\"],[0.2222222222222222,\"#3e4989\"],[0.3333333333333333,\"#31688e\"],[0.4444444444444444,\"#26828e\"],[0.5555555555555556,\"#1f9e89\"],[0.6666666666666666,\"#35b779\"],[0.7777777777777778,\"#6ece58\"],[0.8888888888888888,\"#b5de2b\"],[1.0,\"#fde725\"]],\"type\":\"surface\"}],\"table\":[{\"cells\":{\"fill\":{\"color\":\"rgb(237,237,237)\"},\"line\":{\"color\":\"white\"}},\"header\":{\"fill\":{\"color\":\"rgb(217,217,217)\"},\"line\":{\"color\":\"white\"}},\"type\":\"table\"}]},\"layout\":{\"annotationdefaults\":{\"arrowhead\":0,\"arrowwidth\":1},\"autotypenumbers\":\"strict\",\"coloraxis\":{\"colorbar\":{\"outlinewidth\":1,\"tickcolor\":\"rgb(36,36,36)\",\"ticks\":\"outside\"}},\"colorscale\":{\"diverging\":[[0.0,\"rgb(103,0,31)\"],[0.1,\"rgb(178,24,43)\"],[0.2,\"rgb(214,96,77)\"],[0.3,\"rgb(244,165,130)\"],[0.4,\"rgb(253,219,199)\"],[0.5,\"rgb(247,247,247)\"],[0.6,\"rgb(209,229,240)\"],[0.7,\"rgb(146,197,222)\"],[0.8,\"rgb(67,147,195)\"],[0.9,\"rgb(33,102,172)\"],[1.0,\"rgb(5,48,97)\"]],\"sequential\":[[0.0,\"#440154\"],[0.1111111111111111,\"#482878\"],[0.2222222222222222,\"#3e4989\"],[0.3333333333333333,\"#31688e\"],[0.4444444444444444,\"#26828e\"],[0.5555555555555556,\"#1f9e89\"],[0.6666666666666666,\"#35b779\"],[0.7777777777777778,\"#6ece58\"],[0.8888888888888888,\"#b5de2b\"],[1.0,\"#fde725\"]],\"sequentialminus\":[[0.0,\"#440154\"],[0.1111111111111111,\"#482878\"],[0.2222222222222222,\"#3e4989\"],[0.3333333333333333,\"#31688e\"],[0.4444444444444444,\"#26828e\"],[0.5555555555555556,\"#1f9e89\"],[0.6666666666666666,\"#35b779\"],[0.7777777777777778,\"#6ece58\"],[0.8888888888888888,\"#b5de2b\"],[1.0,\"#fde725\"]]},\"colorway\":[\"#91268F\",\"#8CC63E\",\"#00A7A0\",\"#F05A28\",\"#4C4C4C\",\"#630460\",\"#9f3913\",\"#588527\",\"#00716c\",\"#3e4040\"],\"font\":{\"color\":\"rgb(36,36,36)\",\"family\":\"Poppins\",\"size\":11},\"geo\":{\"bgcolor\":\"white\",\"lakecolor\":\"white\",\"landcolor\":\"white\",\"showlakes\":true,\"showland\":true,\"subunitcolor\":\"white\"},\"hoverlabel\":{\"align\":\"left\"},\"hovermode\":\"closest\",\"mapbox\":{\"style\":\"light\"},\"paper_bgcolor\":\"white\",\"plot_bgcolor\":\"white\",\"polar\":{\"angularaxis\":{\"gridcolor\":\"rgb(232,232,232)\",\"linecolor\":\"rgb(36,36,36)\",\"showgrid\":false,\"showline\":true,\"ticks\":\"outside\"},\"bgcolor\":\"white\",\"radialaxis\":{\"gridcolor\":\"rgb(232,232,232)\",\"linecolor\":\"rgb(36,36,36)\",\"showgrid\":false,\"showline\":true,\"ticks\":\"outside\"}},\"scene\":{\"xaxis\":{\"backgroundcolor\":\"white\",\"gridcolor\":\"rgb(232,232,232)\",\"gridwidth\":2,\"linecolor\":\"rgb(36,36,36)\",\"showbackground\":true,\"showgrid\":false,\"showline\":true,\"ticks\":\"outside\",\"zeroline\":false,\"zerolinecolor\":\"rgb(36,36,36)\"},\"yaxis\":{\"backgroundcolor\":\"white\",\"gridcolor\":\"rgb(232,232,232)\",\"gridwidth\":2,\"linecolor\":\"rgb(36,36,36)\",\"showbackground\":true,\"showgrid\":false,\"showline\":true,\"ticks\":\"outside\",\"zeroline\":false,\"zerolinecolor\":\"rgb(36,36,36)\"},\"zaxis\":{\"backgroundcolor\":\"white\",\"gridcolor\":\"rgb(232,232,232)\",\"gridwidth\":2,\"linecolor\":\"rgb(36,36,36)\",\"showbackground\":true,\"showgrid\":false,\"showline\":true,\"ticks\":\"outside\",\"zeroline\":false,\"zerolinecolor\":\"rgb(36,36,36)\"}},\"shapedefaults\":{\"fillcolor\":\"black\",\"line\":{\"width\":0},\"opacity\":0.3},\"ternary\":{\"aaxis\":{\"gridcolor\":\"rgb(232,232,232)\",\"linecolor\":\"rgb(36,36,36)\",\"showgrid\":false,\"showline\":true,\"ticks\":\"outside\"},\"baxis\":{\"gridcolor\":\"rgb(232,232,232)\",\"linecolor\":\"rgb(36,36,36)\",\"showgrid\":false,\"showline\":true,\"ticks\":\"outside\"},\"bgcolor\":\"white\",\"caxis\":{\"gridcolor\":\"rgb(232,232,232)\",\"linecolor\":\"rgb(36,36,36)\",\"showgrid\":false,\"showline\":true,\"ticks\":\"outside\"}},\"title\":{\"x\":0.05},\"xaxis\":{\"automargin\":true,\"gridcolor\":\"rgb(232,232,232)\",\"linecolor\":\"rgb(36,36,36)\",\"showgrid\":false,\"showline\":true,\"ticks\":\"outside\",\"title\":{\"standoff\":15},\"zeroline\":false,\"zerolinecolor\":\"rgb(36,36,36)\"},\"yaxis\":{\"automargin\":true,\"gridcolor\":\"rgb(232,232,232)\",\"linecolor\":\"rgb(36,36,36)\",\"showgrid\":false,\"showline\":true,\"ticks\":\"outside\",\"title\":{\"standoff\":15},\"zeroline\":false,\"zerolinecolor\":\"rgb(36,36,36)\"}}},\"xaxis\":{\"anchor\":\"y\",\"domain\":[0.0,1.0],\"title\":{\"text\":\"tripsh1\"},\"dtick\":1,\"categoryorder\":\"category ascending\"},\"yaxis\":{\"anchor\":\"x\",\"domain\":[0.0,1.0],\"title\":{\"text\":\"percentage\"},\"tickformat\":\".0%\"},\"legend\":{\"title\":{\"text\":\"source\"},\"tracegroupgap\":0},\"title\":{\"text\":\"outbound: number of stops (excluding shares \\u003c 1%)\"},\"barmode\":\"group\",\"font\":{\"size\":11},\"height\":400,\"width\":700},                        {\"responsive\": true}                    ).then(function(){\n",
       "                            \n",
       "var gd = document.getElementById('f1297307-6d5c-41ce-80b1-f18faac8a067');\n",
       "var x = new MutationObserver(function (mutations, observer) {{\n",
       "        var display = window.getComputedStyle(gd).display;\n",
       "        if (!display || display === 'none') {{\n",
       "            console.log([gd, 'removed!']);\n",
       "            Plotly.purge(gd);\n",
       "            observer.disconnect();\n",
       "        }}\n",
       "}});\n",
       "\n",
       "// Listen for the removal of the full notebook cells\n",
       "var notebookContainer = gd.closest('#notebook-container');\n",
       "if (notebookContainer) {{\n",
       "    x.observe(notebookContainer, {childList: true});\n",
       "}}\n",
       "\n",
       "// Listen for the clearing of the current output cell\n",
       "var outputEl = gd.closest('.output');\n",
       "if (outputEl) {{\n",
       "    x.observe(outputEl, {childList: true});\n",
       "}}\n",
       "\n",
       "                        })                };                });            </script>        </div>"
      ]
     },
     "metadata": {},
     "output_type": "display_data"
    }
   ],
   "source": [
    "df_plot = df_tour.groupby(['tripsh1','source'])['toexpfac'].sum().reset_index()\n",
    "df_plot['percentage'] = df_plot.groupby(['source'], group_keys=False)['toexpfac']. \\\n",
    "    apply(lambda x: x / float(x.sum()))\n",
    "df_plot = df_plot.loc[df_plot['percentage'] > 0.001]\n",
    "\n",
    "fig = px.bar(df_plot.sort_values(['source']), x=\"tripsh1\", y=\"percentage\", color=\"source\",\n",
    "             barmode=\"group\",title=\"outbound: number of stops (excluding shares < 1%)\",\n",
    "             hover_data=['toexpfac'])\n",
    "fig.update_layout(height=400, width=700, font=dict(size=11),\n",
    "                  xaxis = dict(dtick = 1, categoryorder='category ascending'),\n",
    "                  yaxis=dict(tickformat=\".0%\"))\n",
    "fig.show()"
   ]
  },
  {
   "cell_type": "raw",
   "metadata": {},
   "source": [
    "### inbound: second half tour"
   ]
  },
  {
   "cell_type": "code",
   "execution_count": 5,
   "metadata": {
    "ExecuteTime": {
     "end_time": "2024-07-15T02:34:50.172538Z",
     "start_time": "2024-07-15T02:34:49.469661Z"
    },
    "execution": {
     "iopub.execute_input": "2025-01-21T06:47:59.722560Z",
     "iopub.status.busy": "2025-01-21T06:47:59.721050Z",
     "iopub.status.idle": "2025-01-21T06:47:59.977987Z",
     "shell.execute_reply": "2025-01-21T06:47:59.976473Z"
    }
   },
   "outputs": [
    {
     "data": {
      "application/vnd.plotly.v1+json": {
       "config": {
        "plotlyServerURL": "https://plot.ly"
       },
       "data": [
        {
         "alignmentgroup": "True",
         "customdata": [
          [
           948.0
          ],
          [
           142590.0
          ],
          [
           53992.0
          ],
          [
           15274.0
          ],
          [
           3291.0
          ]
         ],
         "hovertemplate": "source=model<br>tripsh2=%{x}<br>percentage=%{y}<br>toexpfac=%{customdata[0]}<extra></extra>",
         "legendgroup": "model",
         "marker": {
          "color": "#91268F",
          "pattern": {
           "shape": ""
          }
         },
         "name": "model",
         "offsetgroup": "model",
         "orientation": "v",
         "showlegend": true,
         "textposition": "auto",
         "type": "bar",
         "x": [
          5.0,
          1.0,
          2.0,
          3.0,
          4.0
         ],
         "xaxis": "x",
         "y": [
          0.004376994002410117,
          0.6583497624511166,
          0.24928550651701165,
          0.07052131476035034,
          0.015194817786847779
         ],
         "yaxis": "y"
        },
        {
         "alignmentgroup": "True",
         "customdata": [
          [
           10398.733131046363
          ],
          [
           21605.381591330915
          ],
          [
           4122989.798932067
          ],
          [
           24809.38274791956
          ],
          [
           1106197.887328794
          ],
          [
           145869.52931181376
          ],
          [
           59866.16304865873
          ],
          [
           365225.64388280787
          ]
         ],
         "hovertemplate": "source=survey<br>tripsh2=%{x}<br>percentage=%{y}<br>toexpfac=%{customdata[0]}<extra></extra>",
         "legendgroup": "survey",
         "marker": {
          "color": "#8CC63E",
          "pattern": {
           "shape": ""
          }
         },
         "name": "survey",
         "offsetgroup": "survey",
         "orientation": "v",
         "showlegend": true,
         "textposition": "auto",
         "type": "bar",
         "x": [
          0.0,
          7.0,
          1.0,
          6.0,
          2.0,
          4.0,
          5.0,
          3.0
         ],
         "xaxis": "x",
         "y": [
          0.0017748627768639337,
          0.0036876210864482404,
          0.7037146767106138,
          0.004234482162522991,
          0.1888066007005836,
          0.02489710954128018,
          0.010217997043457131,
          0.06233695896555155
         ],
         "yaxis": "y"
        },
        {
         "alignmentgroup": "True",
         "customdata": [
          [
           124656.80720780502
          ],
          [
           17715.019387643337
          ],
          [
           273933.24044519465
          ],
          [
           941594.5518370672
          ],
          [
           3672764.6710600234
          ],
          [
           10301.031677684576
          ],
          [
           12375.766211443763
          ],
          [
           38977.78819458332
          ]
         ],
         "hovertemplate": "source=survey (2017/2019)<br>tripsh2=%{x}<br>percentage=%{y}<br>toexpfac=%{customdata[0]}<extra></extra>",
         "legendgroup": "survey (2017/2019)",
         "marker": {
          "color": "#00A7A0",
          "pattern": {
           "shape": ""
          }
         },
         "name": "survey (2017/2019)",
         "offsetgroup": "survey (2017/2019)",
         "orientation": "v",
         "showlegend": true,
         "textposition": "auto",
         "type": "bar",
         "x": [
          4.0,
          6.0,
          3.0,
          2.0,
          1.0,
          0.0,
          7.0,
          5.0
         ],
         "xaxis": "x",
         "y": [
          0.024464927946706256,
          0.0034767188619769396,
          0.053761660833551626,
          0.18479570736400736,
          0.7208103998115704,
          0.0020216625422724024,
          0.002428846329615414,
          0.007649712848114343
         ],
         "yaxis": "y"
        },
        {
         "alignmentgroup": "True",
         "customdata": [
          [
           12425.49014285328
          ],
          [
           324065.8478514023
          ],
          [
           115502.57323476182
          ],
          [
           1024109.6793861515
          ],
          [
           4008567.4690202526
          ],
          [
           17190.83023949187
          ],
          [
           48581.287560086465
          ],
          [
           6135.961855199869
          ]
         ],
         "hovertemplate": "source=survey (old weights)<br>tripsh2=%{x}<br>percentage=%{y}<br>toexpfac=%{customdata[0]}<extra></extra>",
         "legendgroup": "survey (old weights)",
         "marker": {
          "color": "#F05A28",
          "pattern": {
           "shape": ""
          }
         },
         "name": "survey (old weights)",
         "offsetgroup": "survey (old weights)",
         "orientation": "v",
         "showlegend": true,
         "textposition": "auto",
         "type": "bar",
         "x": [
          6.0,
          3.0,
          4.0,
          2.0,
          1.0,
          0.0,
          5.0,
          11.0
         ],
         "xaxis": "x",
         "y": [
          0.002232593994272174,
          0.058227680143297836,
          0.020753334344338074,
          0.1840105374827886,
          0.7202535718171951,
          0.0030888233709892706,
          0.008729015080587573,
          0.0011025007005362793
         ],
         "yaxis": "y"
        }
       ],
       "layout": {
        "barmode": "group",
        "font": {
         "size": 11
        },
        "height": 400,
        "legend": {
         "title": {
          "text": "source"
         },
         "tracegroupgap": 0
        },
        "template": {
         "data": {
          "bar": [
           {
            "error_x": {
             "color": "rgb(36,36,36)"
            },
            "error_y": {
             "color": "rgb(36,36,36)"
            },
            "marker": {
             "line": {
              "color": "white",
              "width": 0.5
             },
             "pattern": {
              "fillmode": "overlay",
              "size": 10,
              "solidity": 0.2
             }
            },
            "type": "bar"
           }
          ],
          "barpolar": [
           {
            "marker": {
             "line": {
              "color": "white",
              "width": 0.5
             },
             "pattern": {
              "fillmode": "overlay",
              "size": 10,
              "solidity": 0.2
             }
            },
            "type": "barpolar"
           }
          ],
          "carpet": [
           {
            "aaxis": {
             "endlinecolor": "rgb(36,36,36)",
             "gridcolor": "white",
             "linecolor": "white",
             "minorgridcolor": "white",
             "startlinecolor": "rgb(36,36,36)"
            },
            "baxis": {
             "endlinecolor": "rgb(36,36,36)",
             "gridcolor": "white",
             "linecolor": "white",
             "minorgridcolor": "white",
             "startlinecolor": "rgb(36,36,36)"
            },
            "type": "carpet"
           }
          ],
          "choropleth": [
           {
            "colorbar": {
             "outlinewidth": 1,
             "tickcolor": "rgb(36,36,36)",
             "ticks": "outside"
            },
            "type": "choropleth"
           }
          ],
          "contour": [
           {
            "colorbar": {
             "outlinewidth": 1,
             "tickcolor": "rgb(36,36,36)",
             "ticks": "outside"
            },
            "colorscale": [
             [
              0.0,
              "#440154"
             ],
             [
              0.1111111111111111,
              "#482878"
             ],
             [
              0.2222222222222222,
              "#3e4989"
             ],
             [
              0.3333333333333333,
              "#31688e"
             ],
             [
              0.4444444444444444,
              "#26828e"
             ],
             [
              0.5555555555555556,
              "#1f9e89"
             ],
             [
              0.6666666666666666,
              "#35b779"
             ],
             [
              0.7777777777777778,
              "#6ece58"
             ],
             [
              0.8888888888888888,
              "#b5de2b"
             ],
             [
              1.0,
              "#fde725"
             ]
            ],
            "type": "contour"
           }
          ],
          "contourcarpet": [
           {
            "colorbar": {
             "outlinewidth": 1,
             "tickcolor": "rgb(36,36,36)",
             "ticks": "outside"
            },
            "type": "contourcarpet"
           }
          ],
          "heatmap": [
           {
            "colorbar": {
             "outlinewidth": 1,
             "tickcolor": "rgb(36,36,36)",
             "ticks": "outside"
            },
            "colorscale": [
             [
              0.0,
              "#440154"
             ],
             [
              0.1111111111111111,
              "#482878"
             ],
             [
              0.2222222222222222,
              "#3e4989"
             ],
             [
              0.3333333333333333,
              "#31688e"
             ],
             [
              0.4444444444444444,
              "#26828e"
             ],
             [
              0.5555555555555556,
              "#1f9e89"
             ],
             [
              0.6666666666666666,
              "#35b779"
             ],
             [
              0.7777777777777778,
              "#6ece58"
             ],
             [
              0.8888888888888888,
              "#b5de2b"
             ],
             [
              1.0,
              "#fde725"
             ]
            ],
            "type": "heatmap"
           }
          ],
          "heatmapgl": [
           {
            "colorbar": {
             "outlinewidth": 1,
             "tickcolor": "rgb(36,36,36)",
             "ticks": "outside"
            },
            "colorscale": [
             [
              0.0,
              "#440154"
             ],
             [
              0.1111111111111111,
              "#482878"
             ],
             [
              0.2222222222222222,
              "#3e4989"
             ],
             [
              0.3333333333333333,
              "#31688e"
             ],
             [
              0.4444444444444444,
              "#26828e"
             ],
             [
              0.5555555555555556,
              "#1f9e89"
             ],
             [
              0.6666666666666666,
              "#35b779"
             ],
             [
              0.7777777777777778,
              "#6ece58"
             ],
             [
              0.8888888888888888,
              "#b5de2b"
             ],
             [
              1.0,
              "#fde725"
             ]
            ],
            "type": "heatmapgl"
           }
          ],
          "histogram": [
           {
            "marker": {
             "line": {
              "color": "white",
              "width": 0.6
             }
            },
            "type": "histogram"
           }
          ],
          "histogram2d": [
           {
            "colorbar": {
             "outlinewidth": 1,
             "tickcolor": "rgb(36,36,36)",
             "ticks": "outside"
            },
            "colorscale": [
             [
              0.0,
              "#440154"
             ],
             [
              0.1111111111111111,
              "#482878"
             ],
             [
              0.2222222222222222,
              "#3e4989"
             ],
             [
              0.3333333333333333,
              "#31688e"
             ],
             [
              0.4444444444444444,
              "#26828e"
             ],
             [
              0.5555555555555556,
              "#1f9e89"
             ],
             [
              0.6666666666666666,
              "#35b779"
             ],
             [
              0.7777777777777778,
              "#6ece58"
             ],
             [
              0.8888888888888888,
              "#b5de2b"
             ],
             [
              1.0,
              "#fde725"
             ]
            ],
            "type": "histogram2d"
           }
          ],
          "histogram2dcontour": [
           {
            "colorbar": {
             "outlinewidth": 1,
             "tickcolor": "rgb(36,36,36)",
             "ticks": "outside"
            },
            "colorscale": [
             [
              0.0,
              "#440154"
             ],
             [
              0.1111111111111111,
              "#482878"
             ],
             [
              0.2222222222222222,
              "#3e4989"
             ],
             [
              0.3333333333333333,
              "#31688e"
             ],
             [
              0.4444444444444444,
              "#26828e"
             ],
             [
              0.5555555555555556,
              "#1f9e89"
             ],
             [
              0.6666666666666666,
              "#35b779"
             ],
             [
              0.7777777777777778,
              "#6ece58"
             ],
             [
              0.8888888888888888,
              "#b5de2b"
             ],
             [
              1.0,
              "#fde725"
             ]
            ],
            "type": "histogram2dcontour"
           }
          ],
          "mesh3d": [
           {
            "colorbar": {
             "outlinewidth": 1,
             "tickcolor": "rgb(36,36,36)",
             "ticks": "outside"
            },
            "type": "mesh3d"
           }
          ],
          "parcoords": [
           {
            "line": {
             "colorbar": {
              "outlinewidth": 1,
              "tickcolor": "rgb(36,36,36)",
              "ticks": "outside"
             }
            },
            "type": "parcoords"
           }
          ],
          "pie": [
           {
            "automargin": true,
            "type": "pie"
           }
          ],
          "scatter": [
           {
            "fillpattern": {
             "fillmode": "overlay",
             "size": 10,
             "solidity": 0.2
            },
            "type": "scatter"
           }
          ],
          "scatter3d": [
           {
            "line": {
             "colorbar": {
              "outlinewidth": 1,
              "tickcolor": "rgb(36,36,36)",
              "ticks": "outside"
             }
            },
            "marker": {
             "colorbar": {
              "outlinewidth": 1,
              "tickcolor": "rgb(36,36,36)",
              "ticks": "outside"
             }
            },
            "type": "scatter3d"
           }
          ],
          "scattercarpet": [
           {
            "marker": {
             "colorbar": {
              "outlinewidth": 1,
              "tickcolor": "rgb(36,36,36)",
              "ticks": "outside"
             }
            },
            "type": "scattercarpet"
           }
          ],
          "scattergeo": [
           {
            "marker": {
             "colorbar": {
              "outlinewidth": 1,
              "tickcolor": "rgb(36,36,36)",
              "ticks": "outside"
             }
            },
            "type": "scattergeo"
           }
          ],
          "scattergl": [
           {
            "marker": {
             "colorbar": {
              "outlinewidth": 1,
              "tickcolor": "rgb(36,36,36)",
              "ticks": "outside"
             }
            },
            "type": "scattergl"
           }
          ],
          "scattermapbox": [
           {
            "marker": {
             "colorbar": {
              "outlinewidth": 1,
              "tickcolor": "rgb(36,36,36)",
              "ticks": "outside"
             }
            },
            "type": "scattermapbox"
           }
          ],
          "scatterpolar": [
           {
            "marker": {
             "colorbar": {
              "outlinewidth": 1,
              "tickcolor": "rgb(36,36,36)",
              "ticks": "outside"
             }
            },
            "type": "scatterpolar"
           }
          ],
          "scatterpolargl": [
           {
            "marker": {
             "colorbar": {
              "outlinewidth": 1,
              "tickcolor": "rgb(36,36,36)",
              "ticks": "outside"
             }
            },
            "type": "scatterpolargl"
           }
          ],
          "scatterternary": [
           {
            "marker": {
             "colorbar": {
              "outlinewidth": 1,
              "tickcolor": "rgb(36,36,36)",
              "ticks": "outside"
             }
            },
            "type": "scatterternary"
           }
          ],
          "surface": [
           {
            "colorbar": {
             "outlinewidth": 1,
             "tickcolor": "rgb(36,36,36)",
             "ticks": "outside"
            },
            "colorscale": [
             [
              0.0,
              "#440154"
             ],
             [
              0.1111111111111111,
              "#482878"
             ],
             [
              0.2222222222222222,
              "#3e4989"
             ],
             [
              0.3333333333333333,
              "#31688e"
             ],
             [
              0.4444444444444444,
              "#26828e"
             ],
             [
              0.5555555555555556,
              "#1f9e89"
             ],
             [
              0.6666666666666666,
              "#35b779"
             ],
             [
              0.7777777777777778,
              "#6ece58"
             ],
             [
              0.8888888888888888,
              "#b5de2b"
             ],
             [
              1.0,
              "#fde725"
             ]
            ],
            "type": "surface"
           }
          ],
          "table": [
           {
            "cells": {
             "fill": {
              "color": "rgb(237,237,237)"
             },
             "line": {
              "color": "white"
             }
            },
            "header": {
             "fill": {
              "color": "rgb(217,217,217)"
             },
             "line": {
              "color": "white"
             }
            },
            "type": "table"
           }
          ]
         },
         "layout": {
          "annotationdefaults": {
           "arrowhead": 0,
           "arrowwidth": 1
          },
          "autotypenumbers": "strict",
          "coloraxis": {
           "colorbar": {
            "outlinewidth": 1,
            "tickcolor": "rgb(36,36,36)",
            "ticks": "outside"
           }
          },
          "colorscale": {
           "diverging": [
            [
             0.0,
             "rgb(103,0,31)"
            ],
            [
             0.1,
             "rgb(178,24,43)"
            ],
            [
             0.2,
             "rgb(214,96,77)"
            ],
            [
             0.3,
             "rgb(244,165,130)"
            ],
            [
             0.4,
             "rgb(253,219,199)"
            ],
            [
             0.5,
             "rgb(247,247,247)"
            ],
            [
             0.6,
             "rgb(209,229,240)"
            ],
            [
             0.7,
             "rgb(146,197,222)"
            ],
            [
             0.8,
             "rgb(67,147,195)"
            ],
            [
             0.9,
             "rgb(33,102,172)"
            ],
            [
             1.0,
             "rgb(5,48,97)"
            ]
           ],
           "sequential": [
            [
             0.0,
             "#440154"
            ],
            [
             0.1111111111111111,
             "#482878"
            ],
            [
             0.2222222222222222,
             "#3e4989"
            ],
            [
             0.3333333333333333,
             "#31688e"
            ],
            [
             0.4444444444444444,
             "#26828e"
            ],
            [
             0.5555555555555556,
             "#1f9e89"
            ],
            [
             0.6666666666666666,
             "#35b779"
            ],
            [
             0.7777777777777778,
             "#6ece58"
            ],
            [
             0.8888888888888888,
             "#b5de2b"
            ],
            [
             1.0,
             "#fde725"
            ]
           ],
           "sequentialminus": [
            [
             0.0,
             "#440154"
            ],
            [
             0.1111111111111111,
             "#482878"
            ],
            [
             0.2222222222222222,
             "#3e4989"
            ],
            [
             0.3333333333333333,
             "#31688e"
            ],
            [
             0.4444444444444444,
             "#26828e"
            ],
            [
             0.5555555555555556,
             "#1f9e89"
            ],
            [
             0.6666666666666666,
             "#35b779"
            ],
            [
             0.7777777777777778,
             "#6ece58"
            ],
            [
             0.8888888888888888,
             "#b5de2b"
            ],
            [
             1.0,
             "#fde725"
            ]
           ]
          },
          "colorway": [
           "#91268F",
           "#8CC63E",
           "#00A7A0",
           "#F05A28",
           "#4C4C4C",
           "#630460",
           "#9f3913",
           "#588527",
           "#00716c",
           "#3e4040"
          ],
          "font": {
           "color": "rgb(36,36,36)",
           "family": "Poppins",
           "size": 11
          },
          "geo": {
           "bgcolor": "white",
           "lakecolor": "white",
           "landcolor": "white",
           "showlakes": true,
           "showland": true,
           "subunitcolor": "white"
          },
          "hoverlabel": {
           "align": "left"
          },
          "hovermode": "closest",
          "mapbox": {
           "style": "light"
          },
          "paper_bgcolor": "white",
          "plot_bgcolor": "white",
          "polar": {
           "angularaxis": {
            "gridcolor": "rgb(232,232,232)",
            "linecolor": "rgb(36,36,36)",
            "showgrid": false,
            "showline": true,
            "ticks": "outside"
           },
           "bgcolor": "white",
           "radialaxis": {
            "gridcolor": "rgb(232,232,232)",
            "linecolor": "rgb(36,36,36)",
            "showgrid": false,
            "showline": true,
            "ticks": "outside"
           }
          },
          "scene": {
           "xaxis": {
            "backgroundcolor": "white",
            "gridcolor": "rgb(232,232,232)",
            "gridwidth": 2,
            "linecolor": "rgb(36,36,36)",
            "showbackground": true,
            "showgrid": false,
            "showline": true,
            "ticks": "outside",
            "zeroline": false,
            "zerolinecolor": "rgb(36,36,36)"
           },
           "yaxis": {
            "backgroundcolor": "white",
            "gridcolor": "rgb(232,232,232)",
            "gridwidth": 2,
            "linecolor": "rgb(36,36,36)",
            "showbackground": true,
            "showgrid": false,
            "showline": true,
            "ticks": "outside",
            "zeroline": false,
            "zerolinecolor": "rgb(36,36,36)"
           },
           "zaxis": {
            "backgroundcolor": "white",
            "gridcolor": "rgb(232,232,232)",
            "gridwidth": 2,
            "linecolor": "rgb(36,36,36)",
            "showbackground": true,
            "showgrid": false,
            "showline": true,
            "ticks": "outside",
            "zeroline": false,
            "zerolinecolor": "rgb(36,36,36)"
           }
          },
          "shapedefaults": {
           "fillcolor": "black",
           "line": {
            "width": 0
           },
           "opacity": 0.3
          },
          "ternary": {
           "aaxis": {
            "gridcolor": "rgb(232,232,232)",
            "linecolor": "rgb(36,36,36)",
            "showgrid": false,
            "showline": true,
            "ticks": "outside"
           },
           "baxis": {
            "gridcolor": "rgb(232,232,232)",
            "linecolor": "rgb(36,36,36)",
            "showgrid": false,
            "showline": true,
            "ticks": "outside"
           },
           "bgcolor": "white",
           "caxis": {
            "gridcolor": "rgb(232,232,232)",
            "linecolor": "rgb(36,36,36)",
            "showgrid": false,
            "showline": true,
            "ticks": "outside"
           }
          },
          "title": {
           "x": 0.05
          },
          "xaxis": {
           "automargin": true,
           "gridcolor": "rgb(232,232,232)",
           "linecolor": "rgb(36,36,36)",
           "showgrid": false,
           "showline": true,
           "ticks": "outside",
           "title": {
            "standoff": 15
           },
           "zeroline": false,
           "zerolinecolor": "rgb(36,36,36)"
          },
          "yaxis": {
           "automargin": true,
           "gridcolor": "rgb(232,232,232)",
           "linecolor": "rgb(36,36,36)",
           "showgrid": false,
           "showline": true,
           "ticks": "outside",
           "title": {
            "standoff": 15
           },
           "zeroline": false,
           "zerolinecolor": "rgb(36,36,36)"
          }
         }
        },
        "title": {
         "text": "inbound: number of stops (excluding shares < 1%)"
        },
        "width": 700,
        "xaxis": {
         "anchor": "y",
         "categoryorder": "category ascending",
         "domain": [
          0.0,
          1.0
         ],
         "dtick": 1,
         "title": {
          "text": "tripsh2"
         }
        },
        "yaxis": {
         "anchor": "x",
         "domain": [
          0.0,
          1.0
         ],
         "tickformat": ".0%",
         "title": {
          "text": "percentage"
         }
        }
       }
      },
      "text/html": [
       "<div>                            <div id=\"164640d5-9902-449b-824b-431905693365\" class=\"plotly-graph-div\" style=\"height:400px; width:700px;\"></div>            <script type=\"text/javascript\">                require([\"plotly\"], function(Plotly) {                    window.PLOTLYENV=window.PLOTLYENV || {};                                    if (document.getElementById(\"164640d5-9902-449b-824b-431905693365\")) {                    Plotly.newPlot(                        \"164640d5-9902-449b-824b-431905693365\",                        [{\"alignmentgroup\":\"True\",\"customdata\":[[948.0],[142590.0],[53992.0],[15274.0],[3291.0]],\"hovertemplate\":\"source=model\\u003cbr\\u003etripsh2=%{x}\\u003cbr\\u003epercentage=%{y}\\u003cbr\\u003etoexpfac=%{customdata[0]}\\u003cextra\\u003e\\u003c\\u002fextra\\u003e\",\"legendgroup\":\"model\",\"marker\":{\"color\":\"#91268F\",\"pattern\":{\"shape\":\"\"}},\"name\":\"model\",\"offsetgroup\":\"model\",\"orientation\":\"v\",\"showlegend\":true,\"textposition\":\"auto\",\"x\":[5.0,1.0,2.0,3.0,4.0],\"xaxis\":\"x\",\"y\":[0.004376994002410117,0.6583497624511166,0.24928550651701165,0.07052131476035034,0.015194817786847779],\"yaxis\":\"y\",\"type\":\"bar\"},{\"alignmentgroup\":\"True\",\"customdata\":[[10398.733131046363],[21605.381591330915],[4122989.798932067],[24809.38274791956],[1106197.887328794],[145869.52931181376],[59866.16304865873],[365225.64388280787]],\"hovertemplate\":\"source=survey\\u003cbr\\u003etripsh2=%{x}\\u003cbr\\u003epercentage=%{y}\\u003cbr\\u003etoexpfac=%{customdata[0]}\\u003cextra\\u003e\\u003c\\u002fextra\\u003e\",\"legendgroup\":\"survey\",\"marker\":{\"color\":\"#8CC63E\",\"pattern\":{\"shape\":\"\"}},\"name\":\"survey\",\"offsetgroup\":\"survey\",\"orientation\":\"v\",\"showlegend\":true,\"textposition\":\"auto\",\"x\":[0.0,7.0,1.0,6.0,2.0,4.0,5.0,3.0],\"xaxis\":\"x\",\"y\":[0.0017748627768639337,0.0036876210864482404,0.7037146767106138,0.004234482162522991,0.1888066007005836,0.02489710954128018,0.010217997043457131,0.06233695896555155],\"yaxis\":\"y\",\"type\":\"bar\"},{\"alignmentgroup\":\"True\",\"customdata\":[[124656.80720780502],[17715.019387643337],[273933.24044519465],[941594.5518370672],[3672764.6710600234],[10301.031677684576],[12375.766211443763],[38977.78819458332]],\"hovertemplate\":\"source=survey (2017\\u002f2019)\\u003cbr\\u003etripsh2=%{x}\\u003cbr\\u003epercentage=%{y}\\u003cbr\\u003etoexpfac=%{customdata[0]}\\u003cextra\\u003e\\u003c\\u002fextra\\u003e\",\"legendgroup\":\"survey (2017\\u002f2019)\",\"marker\":{\"color\":\"#00A7A0\",\"pattern\":{\"shape\":\"\"}},\"name\":\"survey (2017\\u002f2019)\",\"offsetgroup\":\"survey (2017\\u002f2019)\",\"orientation\":\"v\",\"showlegend\":true,\"textposition\":\"auto\",\"x\":[4.0,6.0,3.0,2.0,1.0,0.0,7.0,5.0],\"xaxis\":\"x\",\"y\":[0.024464927946706256,0.0034767188619769396,0.053761660833551626,0.18479570736400736,0.7208103998115704,0.0020216625422724024,0.002428846329615414,0.007649712848114343],\"yaxis\":\"y\",\"type\":\"bar\"},{\"alignmentgroup\":\"True\",\"customdata\":[[12425.49014285328],[324065.8478514023],[115502.57323476182],[1024109.6793861515],[4008567.4690202526],[17190.83023949187],[48581.287560086465],[6135.961855199869]],\"hovertemplate\":\"source=survey (old weights)\\u003cbr\\u003etripsh2=%{x}\\u003cbr\\u003epercentage=%{y}\\u003cbr\\u003etoexpfac=%{customdata[0]}\\u003cextra\\u003e\\u003c\\u002fextra\\u003e\",\"legendgroup\":\"survey (old weights)\",\"marker\":{\"color\":\"#F05A28\",\"pattern\":{\"shape\":\"\"}},\"name\":\"survey (old weights)\",\"offsetgroup\":\"survey (old weights)\",\"orientation\":\"v\",\"showlegend\":true,\"textposition\":\"auto\",\"x\":[6.0,3.0,4.0,2.0,1.0,0.0,5.0,11.0],\"xaxis\":\"x\",\"y\":[0.002232593994272174,0.058227680143297836,0.020753334344338074,0.1840105374827886,0.7202535718171951,0.0030888233709892706,0.008729015080587573,0.0011025007005362793],\"yaxis\":\"y\",\"type\":\"bar\"}],                        {\"template\":{\"data\":{\"barpolar\":[{\"marker\":{\"line\":{\"color\":\"white\",\"width\":0.5},\"pattern\":{\"fillmode\":\"overlay\",\"size\":10,\"solidity\":0.2}},\"type\":\"barpolar\"}],\"bar\":[{\"error_x\":{\"color\":\"rgb(36,36,36)\"},\"error_y\":{\"color\":\"rgb(36,36,36)\"},\"marker\":{\"line\":{\"color\":\"white\",\"width\":0.5},\"pattern\":{\"fillmode\":\"overlay\",\"size\":10,\"solidity\":0.2}},\"type\":\"bar\"}],\"carpet\":[{\"aaxis\":{\"endlinecolor\":\"rgb(36,36,36)\",\"gridcolor\":\"white\",\"linecolor\":\"white\",\"minorgridcolor\":\"white\",\"startlinecolor\":\"rgb(36,36,36)\"},\"baxis\":{\"endlinecolor\":\"rgb(36,36,36)\",\"gridcolor\":\"white\",\"linecolor\":\"white\",\"minorgridcolor\":\"white\",\"startlinecolor\":\"rgb(36,36,36)\"},\"type\":\"carpet\"}],\"choropleth\":[{\"colorbar\":{\"outlinewidth\":1,\"tickcolor\":\"rgb(36,36,36)\",\"ticks\":\"outside\"},\"type\":\"choropleth\"}],\"contourcarpet\":[{\"colorbar\":{\"outlinewidth\":1,\"tickcolor\":\"rgb(36,36,36)\",\"ticks\":\"outside\"},\"type\":\"contourcarpet\"}],\"contour\":[{\"colorbar\":{\"outlinewidth\":1,\"tickcolor\":\"rgb(36,36,36)\",\"ticks\":\"outside\"},\"colorscale\":[[0.0,\"#440154\"],[0.1111111111111111,\"#482878\"],[0.2222222222222222,\"#3e4989\"],[0.3333333333333333,\"#31688e\"],[0.4444444444444444,\"#26828e\"],[0.5555555555555556,\"#1f9e89\"],[0.6666666666666666,\"#35b779\"],[0.7777777777777778,\"#6ece58\"],[0.8888888888888888,\"#b5de2b\"],[1.0,\"#fde725\"]],\"type\":\"contour\"}],\"heatmapgl\":[{\"colorbar\":{\"outlinewidth\":1,\"tickcolor\":\"rgb(36,36,36)\",\"ticks\":\"outside\"},\"colorscale\":[[0.0,\"#440154\"],[0.1111111111111111,\"#482878\"],[0.2222222222222222,\"#3e4989\"],[0.3333333333333333,\"#31688e\"],[0.4444444444444444,\"#26828e\"],[0.5555555555555556,\"#1f9e89\"],[0.6666666666666666,\"#35b779\"],[0.7777777777777778,\"#6ece58\"],[0.8888888888888888,\"#b5de2b\"],[1.0,\"#fde725\"]],\"type\":\"heatmapgl\"}],\"heatmap\":[{\"colorbar\":{\"outlinewidth\":1,\"tickcolor\":\"rgb(36,36,36)\",\"ticks\":\"outside\"},\"colorscale\":[[0.0,\"#440154\"],[0.1111111111111111,\"#482878\"],[0.2222222222222222,\"#3e4989\"],[0.3333333333333333,\"#31688e\"],[0.4444444444444444,\"#26828e\"],[0.5555555555555556,\"#1f9e89\"],[0.6666666666666666,\"#35b779\"],[0.7777777777777778,\"#6ece58\"],[0.8888888888888888,\"#b5de2b\"],[1.0,\"#fde725\"]],\"type\":\"heatmap\"}],\"histogram2dcontour\":[{\"colorbar\":{\"outlinewidth\":1,\"tickcolor\":\"rgb(36,36,36)\",\"ticks\":\"outside\"},\"colorscale\":[[0.0,\"#440154\"],[0.1111111111111111,\"#482878\"],[0.2222222222222222,\"#3e4989\"],[0.3333333333333333,\"#31688e\"],[0.4444444444444444,\"#26828e\"],[0.5555555555555556,\"#1f9e89\"],[0.6666666666666666,\"#35b779\"],[0.7777777777777778,\"#6ece58\"],[0.8888888888888888,\"#b5de2b\"],[1.0,\"#fde725\"]],\"type\":\"histogram2dcontour\"}],\"histogram2d\":[{\"colorbar\":{\"outlinewidth\":1,\"tickcolor\":\"rgb(36,36,36)\",\"ticks\":\"outside\"},\"colorscale\":[[0.0,\"#440154\"],[0.1111111111111111,\"#482878\"],[0.2222222222222222,\"#3e4989\"],[0.3333333333333333,\"#31688e\"],[0.4444444444444444,\"#26828e\"],[0.5555555555555556,\"#1f9e89\"],[0.6666666666666666,\"#35b779\"],[0.7777777777777778,\"#6ece58\"],[0.8888888888888888,\"#b5de2b\"],[1.0,\"#fde725\"]],\"type\":\"histogram2d\"}],\"histogram\":[{\"marker\":{\"line\":{\"color\":\"white\",\"width\":0.6}},\"type\":\"histogram\"}],\"mesh3d\":[{\"colorbar\":{\"outlinewidth\":1,\"tickcolor\":\"rgb(36,36,36)\",\"ticks\":\"outside\"},\"type\":\"mesh3d\"}],\"parcoords\":[{\"line\":{\"colorbar\":{\"outlinewidth\":1,\"tickcolor\":\"rgb(36,36,36)\",\"ticks\":\"outside\"}},\"type\":\"parcoords\"}],\"pie\":[{\"automargin\":true,\"type\":\"pie\"}],\"scatter3d\":[{\"line\":{\"colorbar\":{\"outlinewidth\":1,\"tickcolor\":\"rgb(36,36,36)\",\"ticks\":\"outside\"}},\"marker\":{\"colorbar\":{\"outlinewidth\":1,\"tickcolor\":\"rgb(36,36,36)\",\"ticks\":\"outside\"}},\"type\":\"scatter3d\"}],\"scattercarpet\":[{\"marker\":{\"colorbar\":{\"outlinewidth\":1,\"tickcolor\":\"rgb(36,36,36)\",\"ticks\":\"outside\"}},\"type\":\"scattercarpet\"}],\"scattergeo\":[{\"marker\":{\"colorbar\":{\"outlinewidth\":1,\"tickcolor\":\"rgb(36,36,36)\",\"ticks\":\"outside\"}},\"type\":\"scattergeo\"}],\"scattergl\":[{\"marker\":{\"colorbar\":{\"outlinewidth\":1,\"tickcolor\":\"rgb(36,36,36)\",\"ticks\":\"outside\"}},\"type\":\"scattergl\"}],\"scattermapbox\":[{\"marker\":{\"colorbar\":{\"outlinewidth\":1,\"tickcolor\":\"rgb(36,36,36)\",\"ticks\":\"outside\"}},\"type\":\"scattermapbox\"}],\"scatterpolargl\":[{\"marker\":{\"colorbar\":{\"outlinewidth\":1,\"tickcolor\":\"rgb(36,36,36)\",\"ticks\":\"outside\"}},\"type\":\"scatterpolargl\"}],\"scatterpolar\":[{\"marker\":{\"colorbar\":{\"outlinewidth\":1,\"tickcolor\":\"rgb(36,36,36)\",\"ticks\":\"outside\"}},\"type\":\"scatterpolar\"}],\"scatter\":[{\"fillpattern\":{\"fillmode\":\"overlay\",\"size\":10,\"solidity\":0.2},\"type\":\"scatter\"}],\"scatterternary\":[{\"marker\":{\"colorbar\":{\"outlinewidth\":1,\"tickcolor\":\"rgb(36,36,36)\",\"ticks\":\"outside\"}},\"type\":\"scatterternary\"}],\"surface\":[{\"colorbar\":{\"outlinewidth\":1,\"tickcolor\":\"rgb(36,36,36)\",\"ticks\":\"outside\"},\"colorscale\":[[0.0,\"#440154\"],[0.1111111111111111,\"#482878\"],[0.2222222222222222,\"#3e4989\"],[0.3333333333333333,\"#31688e\"],[0.4444444444444444,\"#26828e\"],[0.5555555555555556,\"#1f9e89\"],[0.6666666666666666,\"#35b779\"],[0.7777777777777778,\"#6ece58\"],[0.8888888888888888,\"#b5de2b\"],[1.0,\"#fde725\"]],\"type\":\"surface\"}],\"table\":[{\"cells\":{\"fill\":{\"color\":\"rgb(237,237,237)\"},\"line\":{\"color\":\"white\"}},\"header\":{\"fill\":{\"color\":\"rgb(217,217,217)\"},\"line\":{\"color\":\"white\"}},\"type\":\"table\"}]},\"layout\":{\"annotationdefaults\":{\"arrowhead\":0,\"arrowwidth\":1},\"autotypenumbers\":\"strict\",\"coloraxis\":{\"colorbar\":{\"outlinewidth\":1,\"tickcolor\":\"rgb(36,36,36)\",\"ticks\":\"outside\"}},\"colorscale\":{\"diverging\":[[0.0,\"rgb(103,0,31)\"],[0.1,\"rgb(178,24,43)\"],[0.2,\"rgb(214,96,77)\"],[0.3,\"rgb(244,165,130)\"],[0.4,\"rgb(253,219,199)\"],[0.5,\"rgb(247,247,247)\"],[0.6,\"rgb(209,229,240)\"],[0.7,\"rgb(146,197,222)\"],[0.8,\"rgb(67,147,195)\"],[0.9,\"rgb(33,102,172)\"],[1.0,\"rgb(5,48,97)\"]],\"sequential\":[[0.0,\"#440154\"],[0.1111111111111111,\"#482878\"],[0.2222222222222222,\"#3e4989\"],[0.3333333333333333,\"#31688e\"],[0.4444444444444444,\"#26828e\"],[0.5555555555555556,\"#1f9e89\"],[0.6666666666666666,\"#35b779\"],[0.7777777777777778,\"#6ece58\"],[0.8888888888888888,\"#b5de2b\"],[1.0,\"#fde725\"]],\"sequentialminus\":[[0.0,\"#440154\"],[0.1111111111111111,\"#482878\"],[0.2222222222222222,\"#3e4989\"],[0.3333333333333333,\"#31688e\"],[0.4444444444444444,\"#26828e\"],[0.5555555555555556,\"#1f9e89\"],[0.6666666666666666,\"#35b779\"],[0.7777777777777778,\"#6ece58\"],[0.8888888888888888,\"#b5de2b\"],[1.0,\"#fde725\"]]},\"colorway\":[\"#91268F\",\"#8CC63E\",\"#00A7A0\",\"#F05A28\",\"#4C4C4C\",\"#630460\",\"#9f3913\",\"#588527\",\"#00716c\",\"#3e4040\"],\"font\":{\"color\":\"rgb(36,36,36)\",\"family\":\"Poppins\",\"size\":11},\"geo\":{\"bgcolor\":\"white\",\"lakecolor\":\"white\",\"landcolor\":\"white\",\"showlakes\":true,\"showland\":true,\"subunitcolor\":\"white\"},\"hoverlabel\":{\"align\":\"left\"},\"hovermode\":\"closest\",\"mapbox\":{\"style\":\"light\"},\"paper_bgcolor\":\"white\",\"plot_bgcolor\":\"white\",\"polar\":{\"angularaxis\":{\"gridcolor\":\"rgb(232,232,232)\",\"linecolor\":\"rgb(36,36,36)\",\"showgrid\":false,\"showline\":true,\"ticks\":\"outside\"},\"bgcolor\":\"white\",\"radialaxis\":{\"gridcolor\":\"rgb(232,232,232)\",\"linecolor\":\"rgb(36,36,36)\",\"showgrid\":false,\"showline\":true,\"ticks\":\"outside\"}},\"scene\":{\"xaxis\":{\"backgroundcolor\":\"white\",\"gridcolor\":\"rgb(232,232,232)\",\"gridwidth\":2,\"linecolor\":\"rgb(36,36,36)\",\"showbackground\":true,\"showgrid\":false,\"showline\":true,\"ticks\":\"outside\",\"zeroline\":false,\"zerolinecolor\":\"rgb(36,36,36)\"},\"yaxis\":{\"backgroundcolor\":\"white\",\"gridcolor\":\"rgb(232,232,232)\",\"gridwidth\":2,\"linecolor\":\"rgb(36,36,36)\",\"showbackground\":true,\"showgrid\":false,\"showline\":true,\"ticks\":\"outside\",\"zeroline\":false,\"zerolinecolor\":\"rgb(36,36,36)\"},\"zaxis\":{\"backgroundcolor\":\"white\",\"gridcolor\":\"rgb(232,232,232)\",\"gridwidth\":2,\"linecolor\":\"rgb(36,36,36)\",\"showbackground\":true,\"showgrid\":false,\"showline\":true,\"ticks\":\"outside\",\"zeroline\":false,\"zerolinecolor\":\"rgb(36,36,36)\"}},\"shapedefaults\":{\"fillcolor\":\"black\",\"line\":{\"width\":0},\"opacity\":0.3},\"ternary\":{\"aaxis\":{\"gridcolor\":\"rgb(232,232,232)\",\"linecolor\":\"rgb(36,36,36)\",\"showgrid\":false,\"showline\":true,\"ticks\":\"outside\"},\"baxis\":{\"gridcolor\":\"rgb(232,232,232)\",\"linecolor\":\"rgb(36,36,36)\",\"showgrid\":false,\"showline\":true,\"ticks\":\"outside\"},\"bgcolor\":\"white\",\"caxis\":{\"gridcolor\":\"rgb(232,232,232)\",\"linecolor\":\"rgb(36,36,36)\",\"showgrid\":false,\"showline\":true,\"ticks\":\"outside\"}},\"title\":{\"x\":0.05},\"xaxis\":{\"automargin\":true,\"gridcolor\":\"rgb(232,232,232)\",\"linecolor\":\"rgb(36,36,36)\",\"showgrid\":false,\"showline\":true,\"ticks\":\"outside\",\"title\":{\"standoff\":15},\"zeroline\":false,\"zerolinecolor\":\"rgb(36,36,36)\"},\"yaxis\":{\"automargin\":true,\"gridcolor\":\"rgb(232,232,232)\",\"linecolor\":\"rgb(36,36,36)\",\"showgrid\":false,\"showline\":true,\"ticks\":\"outside\",\"title\":{\"standoff\":15},\"zeroline\":false,\"zerolinecolor\":\"rgb(36,36,36)\"}}},\"xaxis\":{\"anchor\":\"y\",\"domain\":[0.0,1.0],\"title\":{\"text\":\"tripsh2\"},\"dtick\":1,\"categoryorder\":\"category ascending\"},\"yaxis\":{\"anchor\":\"x\",\"domain\":[0.0,1.0],\"title\":{\"text\":\"percentage\"},\"tickformat\":\".0%\"},\"legend\":{\"title\":{\"text\":\"source\"},\"tracegroupgap\":0},\"title\":{\"text\":\"inbound: number of stops (excluding shares \\u003c 1%)\"},\"barmode\":\"group\",\"font\":{\"size\":11},\"height\":400,\"width\":700},                        {\"responsive\": true}                    ).then(function(){\n",
       "                            \n",
       "var gd = document.getElementById('164640d5-9902-449b-824b-431905693365');\n",
       "var x = new MutationObserver(function (mutations, observer) {{\n",
       "        var display = window.getComputedStyle(gd).display;\n",
       "        if (!display || display === 'none') {{\n",
       "            console.log([gd, 'removed!']);\n",
       "            Plotly.purge(gd);\n",
       "            observer.disconnect();\n",
       "        }}\n",
       "}});\n",
       "\n",
       "// Listen for the removal of the full notebook cells\n",
       "var notebookContainer = gd.closest('#notebook-container');\n",
       "if (notebookContainer) {{\n",
       "    x.observe(notebookContainer, {childList: true});\n",
       "}}\n",
       "\n",
       "// Listen for the clearing of the current output cell\n",
       "var outputEl = gd.closest('.output');\n",
       "if (outputEl) {{\n",
       "    x.observe(outputEl, {childList: true});\n",
       "}}\n",
       "\n",
       "                        })                };                });            </script>        </div>"
      ]
     },
     "metadata": {},
     "output_type": "display_data"
    }
   ],
   "source": [
    "df_plot = df_tour.groupby(['tripsh2','source'])['toexpfac'].sum().reset_index()\n",
    "df_plot['percentage'] = df_plot.groupby(['source'], group_keys=False)['toexpfac']. \\\n",
    "    apply(lambda x: x / float(x.sum()))\n",
    "df_plot = df_plot.loc[df_plot['percentage'] > 0.001]\n",
    "# df_plot\n",
    "fig = px.bar(df_plot.sort_values(['source']), x=\"tripsh2\", y=\"percentage\", color=\"source\",\n",
    "             barmode=\"group\",title=\"inbound: number of stops (excluding shares < 1%)\",\n",
    "             hover_data=['toexpfac'])\n",
    "fig.update_layout(height=400, width=700, font=dict(size=11),\n",
    "                  xaxis = dict(dtick = 1, categoryorder='category ascending'),\n",
    "                  yaxis=dict(tickformat=\".0%\"))\n",
    "fig.show()"
   ]
  },
  {
   "cell_type": "raw",
   "metadata": {},
   "source": [
    "### all stops"
   ]
  },
  {
   "cell_type": "code",
   "execution_count": 6,
   "metadata": {
    "ExecuteTime": {
     "end_time": "2024-07-15T04:00:28.693923Z",
     "start_time": "2024-07-15T04:00:28.095446Z"
    },
    "execution": {
     "iopub.execute_input": "2025-01-21T06:47:59.991924Z",
     "iopub.status.busy": "2025-01-21T06:47:59.989930Z",
     "iopub.status.idle": "2025-01-21T06:48:00.261435Z",
     "shell.execute_reply": "2025-01-21T06:48:00.259262Z"
    }
   },
   "outputs": [
    {
     "data": {
      "application/vnd.plotly.v1+json": {
       "config": {
        "plotlyServerURL": "https://plot.ly"
       },
       "data": [
        {
         "alignmentgroup": "True",
         "customdata": [
          [
           118484.0
          ],
          [
           483.0
          ],
          [
           1296.0
          ],
          [
           9839.0
          ],
          [
           25913.0
          ],
          [
           3636.0
          ],
          [
           56364.0
          ]
         ],
         "hovertemplate": "source=model<br>all_stops=%{x}<br>percentage=%{y}<br>toexpfac=%{customdata[0]}<extra></extra>",
         "legendgroup": "model",
         "marker": {
          "color": "#91268F",
          "pattern": {
           "shape": ""
          }
         },
         "name": "model",
         "offsetgroup": "model",
         "orientation": "v",
         "showlegend": true,
         "textposition": "auto",
         "type": "bar",
         "x": [
          2.0,
          8.0,
          7.0,
          5.0,
          4.0,
          6.0,
          3.0
         ],
         "xaxis": "x",
         "y": [
          0.5470503769847682,
          0.0022300507417342685,
          0.005983738636206236,
          0.04542747256298855,
          0.11964245314815755,
          0.016787711173800828,
          0.260237225687599
         ],
         "yaxis": "y"
        },
        {
         "alignmentgroup": "True",
         "customdata": [
          [
           15134.618484722729
          ],
          [
           613540.9021728146
          ],
          [
           3521895.083981549
          ],
          [
           47054.48893429474
          ],
          [
           277127.5986648376
          ],
          [
           23647.883304474293
          ],
          [
           21734.594605619983
          ],
          [
           102491.32001021638
          ],
          [
           1231952.8079607526
          ]
         ],
         "hovertemplate": "source=survey<br>all_stops=%{x}<br>percentage=%{y}<br>toexpfac=%{customdata[0]}<extra></extra>",
         "legendgroup": "survey",
         "marker": {
          "color": "#8CC63E",
          "pattern": {
           "shape": ""
          }
         },
         "name": "survey",
         "offsetgroup": "survey",
         "orientation": "v",
         "showlegend": true,
         "textposition": "auto",
         "type": "bar",
         "x": [
          10.0,
          4.0,
          2.0,
          7.0,
          5.0,
          9.0,
          8.0,
          6.0,
          3.0
         ],
         "xaxis": "x",
         "y": [
          0.0025831868797914085,
          0.1047195745507578,
          0.601119425780469,
          0.008031291873862326,
          0.04730032525244871,
          0.0040362366549655,
          0.003709675250783254,
          0.017493287551988396,
          0.21027053528034162
         ],
         "yaxis": "y"
        },
        {
         "alignmentgroup": "True",
         "customdata": [
          [
           1055131.3345062882
          ],
          [
           54829.04535303274
          ],
          [
           3064271.9505146225
          ],
          [
           20383.158691460263
          ],
          [
           239185.67238306312
          ],
          [
           10949.701646215673
          ],
          [
           533663.0555883547
          ],
          [
           90132.64344860874
          ],
          [
           17959.07376225919
          ]
         ],
         "hovertemplate": "source=survey (2017/2019)<br>all_stops=%{x}<br>percentage=%{y}<br>toexpfac=%{customdata[0]}<extra></extra>",
         "legendgroup": "survey (2017/2019)",
         "marker": {
          "color": "#00A7A0",
          "pattern": {
           "shape": ""
          }
         },
         "name": "survey (2017/2019)",
         "offsetgroup": "survey (2017/2019)",
         "orientation": "v",
         "showlegend": true,
         "textposition": "auto",
         "type": "bar",
         "x": [
          3.0,
          7.0,
          2.0,
          10.0,
          5.0,
          9.0,
          4.0,
          6.0,
          8.0
         ],
         "xaxis": "x",
         "y": [
          0.20707823865548283,
          0.01076065297992526,
          0.6013886779041413,
          0.004000363236333811,
          0.04694216362353411,
          0.00214896938091821,
          0.10473578214644608,
          0.01768927567622086,
          0.0035246165486239435
         ],
         "yaxis": "y"
        },
        {
         "alignmentgroup": "True",
         "customdata": [
          [
           9799.674852554874
          ],
          [
           18285.676732780827
          ],
          [
           140019.54630470253
          ],
          [
           251517.6802136036
          ],
          [
           3314642.9573957594
          ],
          [
           523859.849763803
          ],
          [
           1235861.2458224825
          ],
          [
           52246.49431640888
          ],
          [
           7643.649714377479
          ]
         ],
         "hovertemplate": "source=survey (old weights)<br>all_stops=%{x}<br>percentage=%{y}<br>toexpfac=%{customdata[0]}<extra></extra>",
         "legendgroup": "survey (old weights)",
         "marker": {
          "color": "#F05A28",
          "pattern": {
           "shape": ""
          }
         },
         "name": "survey (old weights)",
         "offsetgroup": "survey (old weights)",
         "orientation": "v",
         "showlegend": true,
         "textposition": "auto",
         "type": "bar",
         "x": [
          9.0,
          8.0,
          6.0,
          5.0,
          2.0,
          4.0,
          3.0,
          7.0,
          12.0
         ],
         "xaxis": "x",
         "y": [
          0.001760791322523236,
          0.003285543796297626,
          0.02515850840221335,
          0.04519233091349217,
          0.595570224977781,
          0.09412637577888101,
          0.22205775091809843,
          0.009387574099012915,
          0.0013733998619325837
         ],
         "yaxis": "y"
        }
       ],
       "layout": {
        "barmode": "group",
        "font": {
         "size": 11
        },
        "height": 400,
        "legend": {
         "title": {
          "text": "source"
         },
         "tracegroupgap": 0
        },
        "template": {
         "data": {
          "bar": [
           {
            "error_x": {
             "color": "rgb(36,36,36)"
            },
            "error_y": {
             "color": "rgb(36,36,36)"
            },
            "marker": {
             "line": {
              "color": "white",
              "width": 0.5
             },
             "pattern": {
              "fillmode": "overlay",
              "size": 10,
              "solidity": 0.2
             }
            },
            "type": "bar"
           }
          ],
          "barpolar": [
           {
            "marker": {
             "line": {
              "color": "white",
              "width": 0.5
             },
             "pattern": {
              "fillmode": "overlay",
              "size": 10,
              "solidity": 0.2
             }
            },
            "type": "barpolar"
           }
          ],
          "carpet": [
           {
            "aaxis": {
             "endlinecolor": "rgb(36,36,36)",
             "gridcolor": "white",
             "linecolor": "white",
             "minorgridcolor": "white",
             "startlinecolor": "rgb(36,36,36)"
            },
            "baxis": {
             "endlinecolor": "rgb(36,36,36)",
             "gridcolor": "white",
             "linecolor": "white",
             "minorgridcolor": "white",
             "startlinecolor": "rgb(36,36,36)"
            },
            "type": "carpet"
           }
          ],
          "choropleth": [
           {
            "colorbar": {
             "outlinewidth": 1,
             "tickcolor": "rgb(36,36,36)",
             "ticks": "outside"
            },
            "type": "choropleth"
           }
          ],
          "contour": [
           {
            "colorbar": {
             "outlinewidth": 1,
             "tickcolor": "rgb(36,36,36)",
             "ticks": "outside"
            },
            "colorscale": [
             [
              0.0,
              "#440154"
             ],
             [
              0.1111111111111111,
              "#482878"
             ],
             [
              0.2222222222222222,
              "#3e4989"
             ],
             [
              0.3333333333333333,
              "#31688e"
             ],
             [
              0.4444444444444444,
              "#26828e"
             ],
             [
              0.5555555555555556,
              "#1f9e89"
             ],
             [
              0.6666666666666666,
              "#35b779"
             ],
             [
              0.7777777777777778,
              "#6ece58"
             ],
             [
              0.8888888888888888,
              "#b5de2b"
             ],
             [
              1.0,
              "#fde725"
             ]
            ],
            "type": "contour"
           }
          ],
          "contourcarpet": [
           {
            "colorbar": {
             "outlinewidth": 1,
             "tickcolor": "rgb(36,36,36)",
             "ticks": "outside"
            },
            "type": "contourcarpet"
           }
          ],
          "heatmap": [
           {
            "colorbar": {
             "outlinewidth": 1,
             "tickcolor": "rgb(36,36,36)",
             "ticks": "outside"
            },
            "colorscale": [
             [
              0.0,
              "#440154"
             ],
             [
              0.1111111111111111,
              "#482878"
             ],
             [
              0.2222222222222222,
              "#3e4989"
             ],
             [
              0.3333333333333333,
              "#31688e"
             ],
             [
              0.4444444444444444,
              "#26828e"
             ],
             [
              0.5555555555555556,
              "#1f9e89"
             ],
             [
              0.6666666666666666,
              "#35b779"
             ],
             [
              0.7777777777777778,
              "#6ece58"
             ],
             [
              0.8888888888888888,
              "#b5de2b"
             ],
             [
              1.0,
              "#fde725"
             ]
            ],
            "type": "heatmap"
           }
          ],
          "heatmapgl": [
           {
            "colorbar": {
             "outlinewidth": 1,
             "tickcolor": "rgb(36,36,36)",
             "ticks": "outside"
            },
            "colorscale": [
             [
              0.0,
              "#440154"
             ],
             [
              0.1111111111111111,
              "#482878"
             ],
             [
              0.2222222222222222,
              "#3e4989"
             ],
             [
              0.3333333333333333,
              "#31688e"
             ],
             [
              0.4444444444444444,
              "#26828e"
             ],
             [
              0.5555555555555556,
              "#1f9e89"
             ],
             [
              0.6666666666666666,
              "#35b779"
             ],
             [
              0.7777777777777778,
              "#6ece58"
             ],
             [
              0.8888888888888888,
              "#b5de2b"
             ],
             [
              1.0,
              "#fde725"
             ]
            ],
            "type": "heatmapgl"
           }
          ],
          "histogram": [
           {
            "marker": {
             "line": {
              "color": "white",
              "width": 0.6
             }
            },
            "type": "histogram"
           }
          ],
          "histogram2d": [
           {
            "colorbar": {
             "outlinewidth": 1,
             "tickcolor": "rgb(36,36,36)",
             "ticks": "outside"
            },
            "colorscale": [
             [
              0.0,
              "#440154"
             ],
             [
              0.1111111111111111,
              "#482878"
             ],
             [
              0.2222222222222222,
              "#3e4989"
             ],
             [
              0.3333333333333333,
              "#31688e"
             ],
             [
              0.4444444444444444,
              "#26828e"
             ],
             [
              0.5555555555555556,
              "#1f9e89"
             ],
             [
              0.6666666666666666,
              "#35b779"
             ],
             [
              0.7777777777777778,
              "#6ece58"
             ],
             [
              0.8888888888888888,
              "#b5de2b"
             ],
             [
              1.0,
              "#fde725"
             ]
            ],
            "type": "histogram2d"
           }
          ],
          "histogram2dcontour": [
           {
            "colorbar": {
             "outlinewidth": 1,
             "tickcolor": "rgb(36,36,36)",
             "ticks": "outside"
            },
            "colorscale": [
             [
              0.0,
              "#440154"
             ],
             [
              0.1111111111111111,
              "#482878"
             ],
             [
              0.2222222222222222,
              "#3e4989"
             ],
             [
              0.3333333333333333,
              "#31688e"
             ],
             [
              0.4444444444444444,
              "#26828e"
             ],
             [
              0.5555555555555556,
              "#1f9e89"
             ],
             [
              0.6666666666666666,
              "#35b779"
             ],
             [
              0.7777777777777778,
              "#6ece58"
             ],
             [
              0.8888888888888888,
              "#b5de2b"
             ],
             [
              1.0,
              "#fde725"
             ]
            ],
            "type": "histogram2dcontour"
           }
          ],
          "mesh3d": [
           {
            "colorbar": {
             "outlinewidth": 1,
             "tickcolor": "rgb(36,36,36)",
             "ticks": "outside"
            },
            "type": "mesh3d"
           }
          ],
          "parcoords": [
           {
            "line": {
             "colorbar": {
              "outlinewidth": 1,
              "tickcolor": "rgb(36,36,36)",
              "ticks": "outside"
             }
            },
            "type": "parcoords"
           }
          ],
          "pie": [
           {
            "automargin": true,
            "type": "pie"
           }
          ],
          "scatter": [
           {
            "fillpattern": {
             "fillmode": "overlay",
             "size": 10,
             "solidity": 0.2
            },
            "type": "scatter"
           }
          ],
          "scatter3d": [
           {
            "line": {
             "colorbar": {
              "outlinewidth": 1,
              "tickcolor": "rgb(36,36,36)",
              "ticks": "outside"
             }
            },
            "marker": {
             "colorbar": {
              "outlinewidth": 1,
              "tickcolor": "rgb(36,36,36)",
              "ticks": "outside"
             }
            },
            "type": "scatter3d"
           }
          ],
          "scattercarpet": [
           {
            "marker": {
             "colorbar": {
              "outlinewidth": 1,
              "tickcolor": "rgb(36,36,36)",
              "ticks": "outside"
             }
            },
            "type": "scattercarpet"
           }
          ],
          "scattergeo": [
           {
            "marker": {
             "colorbar": {
              "outlinewidth": 1,
              "tickcolor": "rgb(36,36,36)",
              "ticks": "outside"
             }
            },
            "type": "scattergeo"
           }
          ],
          "scattergl": [
           {
            "marker": {
             "colorbar": {
              "outlinewidth": 1,
              "tickcolor": "rgb(36,36,36)",
              "ticks": "outside"
             }
            },
            "type": "scattergl"
           }
          ],
          "scattermapbox": [
           {
            "marker": {
             "colorbar": {
              "outlinewidth": 1,
              "tickcolor": "rgb(36,36,36)",
              "ticks": "outside"
             }
            },
            "type": "scattermapbox"
           }
          ],
          "scatterpolar": [
           {
            "marker": {
             "colorbar": {
              "outlinewidth": 1,
              "tickcolor": "rgb(36,36,36)",
              "ticks": "outside"
             }
            },
            "type": "scatterpolar"
           }
          ],
          "scatterpolargl": [
           {
            "marker": {
             "colorbar": {
              "outlinewidth": 1,
              "tickcolor": "rgb(36,36,36)",
              "ticks": "outside"
             }
            },
            "type": "scatterpolargl"
           }
          ],
          "scatterternary": [
           {
            "marker": {
             "colorbar": {
              "outlinewidth": 1,
              "tickcolor": "rgb(36,36,36)",
              "ticks": "outside"
             }
            },
            "type": "scatterternary"
           }
          ],
          "surface": [
           {
            "colorbar": {
             "outlinewidth": 1,
             "tickcolor": "rgb(36,36,36)",
             "ticks": "outside"
            },
            "colorscale": [
             [
              0.0,
              "#440154"
             ],
             [
              0.1111111111111111,
              "#482878"
             ],
             [
              0.2222222222222222,
              "#3e4989"
             ],
             [
              0.3333333333333333,
              "#31688e"
             ],
             [
              0.4444444444444444,
              "#26828e"
             ],
             [
              0.5555555555555556,
              "#1f9e89"
             ],
             [
              0.6666666666666666,
              "#35b779"
             ],
             [
              0.7777777777777778,
              "#6ece58"
             ],
             [
              0.8888888888888888,
              "#b5de2b"
             ],
             [
              1.0,
              "#fde725"
             ]
            ],
            "type": "surface"
           }
          ],
          "table": [
           {
            "cells": {
             "fill": {
              "color": "rgb(237,237,237)"
             },
             "line": {
              "color": "white"
             }
            },
            "header": {
             "fill": {
              "color": "rgb(217,217,217)"
             },
             "line": {
              "color": "white"
             }
            },
            "type": "table"
           }
          ]
         },
         "layout": {
          "annotationdefaults": {
           "arrowhead": 0,
           "arrowwidth": 1
          },
          "autotypenumbers": "strict",
          "coloraxis": {
           "colorbar": {
            "outlinewidth": 1,
            "tickcolor": "rgb(36,36,36)",
            "ticks": "outside"
           }
          },
          "colorscale": {
           "diverging": [
            [
             0.0,
             "rgb(103,0,31)"
            ],
            [
             0.1,
             "rgb(178,24,43)"
            ],
            [
             0.2,
             "rgb(214,96,77)"
            ],
            [
             0.3,
             "rgb(244,165,130)"
            ],
            [
             0.4,
             "rgb(253,219,199)"
            ],
            [
             0.5,
             "rgb(247,247,247)"
            ],
            [
             0.6,
             "rgb(209,229,240)"
            ],
            [
             0.7,
             "rgb(146,197,222)"
            ],
            [
             0.8,
             "rgb(67,147,195)"
            ],
            [
             0.9,
             "rgb(33,102,172)"
            ],
            [
             1.0,
             "rgb(5,48,97)"
            ]
           ],
           "sequential": [
            [
             0.0,
             "#440154"
            ],
            [
             0.1111111111111111,
             "#482878"
            ],
            [
             0.2222222222222222,
             "#3e4989"
            ],
            [
             0.3333333333333333,
             "#31688e"
            ],
            [
             0.4444444444444444,
             "#26828e"
            ],
            [
             0.5555555555555556,
             "#1f9e89"
            ],
            [
             0.6666666666666666,
             "#35b779"
            ],
            [
             0.7777777777777778,
             "#6ece58"
            ],
            [
             0.8888888888888888,
             "#b5de2b"
            ],
            [
             1.0,
             "#fde725"
            ]
           ],
           "sequentialminus": [
            [
             0.0,
             "#440154"
            ],
            [
             0.1111111111111111,
             "#482878"
            ],
            [
             0.2222222222222222,
             "#3e4989"
            ],
            [
             0.3333333333333333,
             "#31688e"
            ],
            [
             0.4444444444444444,
             "#26828e"
            ],
            [
             0.5555555555555556,
             "#1f9e89"
            ],
            [
             0.6666666666666666,
             "#35b779"
            ],
            [
             0.7777777777777778,
             "#6ece58"
            ],
            [
             0.8888888888888888,
             "#b5de2b"
            ],
            [
             1.0,
             "#fde725"
            ]
           ]
          },
          "colorway": [
           "#91268F",
           "#8CC63E",
           "#00A7A0",
           "#F05A28",
           "#4C4C4C",
           "#630460",
           "#9f3913",
           "#588527",
           "#00716c",
           "#3e4040"
          ],
          "font": {
           "color": "rgb(36,36,36)",
           "family": "Poppins",
           "size": 11
          },
          "geo": {
           "bgcolor": "white",
           "lakecolor": "white",
           "landcolor": "white",
           "showlakes": true,
           "showland": true,
           "subunitcolor": "white"
          },
          "hoverlabel": {
           "align": "left"
          },
          "hovermode": "closest",
          "mapbox": {
           "style": "light"
          },
          "paper_bgcolor": "white",
          "plot_bgcolor": "white",
          "polar": {
           "angularaxis": {
            "gridcolor": "rgb(232,232,232)",
            "linecolor": "rgb(36,36,36)",
            "showgrid": false,
            "showline": true,
            "ticks": "outside"
           },
           "bgcolor": "white",
           "radialaxis": {
            "gridcolor": "rgb(232,232,232)",
            "linecolor": "rgb(36,36,36)",
            "showgrid": false,
            "showline": true,
            "ticks": "outside"
           }
          },
          "scene": {
           "xaxis": {
            "backgroundcolor": "white",
            "gridcolor": "rgb(232,232,232)",
            "gridwidth": 2,
            "linecolor": "rgb(36,36,36)",
            "showbackground": true,
            "showgrid": false,
            "showline": true,
            "ticks": "outside",
            "zeroline": false,
            "zerolinecolor": "rgb(36,36,36)"
           },
           "yaxis": {
            "backgroundcolor": "white",
            "gridcolor": "rgb(232,232,232)",
            "gridwidth": 2,
            "linecolor": "rgb(36,36,36)",
            "showbackground": true,
            "showgrid": false,
            "showline": true,
            "ticks": "outside",
            "zeroline": false,
            "zerolinecolor": "rgb(36,36,36)"
           },
           "zaxis": {
            "backgroundcolor": "white",
            "gridcolor": "rgb(232,232,232)",
            "gridwidth": 2,
            "linecolor": "rgb(36,36,36)",
            "showbackground": true,
            "showgrid": false,
            "showline": true,
            "ticks": "outside",
            "zeroline": false,
            "zerolinecolor": "rgb(36,36,36)"
           }
          },
          "shapedefaults": {
           "fillcolor": "black",
           "line": {
            "width": 0
           },
           "opacity": 0.3
          },
          "ternary": {
           "aaxis": {
            "gridcolor": "rgb(232,232,232)",
            "linecolor": "rgb(36,36,36)",
            "showgrid": false,
            "showline": true,
            "ticks": "outside"
           },
           "baxis": {
            "gridcolor": "rgb(232,232,232)",
            "linecolor": "rgb(36,36,36)",
            "showgrid": false,
            "showline": true,
            "ticks": "outside"
           },
           "bgcolor": "white",
           "caxis": {
            "gridcolor": "rgb(232,232,232)",
            "linecolor": "rgb(36,36,36)",
            "showgrid": false,
            "showline": true,
            "ticks": "outside"
           }
          },
          "title": {
           "x": 0.05
          },
          "xaxis": {
           "automargin": true,
           "gridcolor": "rgb(232,232,232)",
           "linecolor": "rgb(36,36,36)",
           "showgrid": false,
           "showline": true,
           "ticks": "outside",
           "title": {
            "standoff": 15
           },
           "zeroline": false,
           "zerolinecolor": "rgb(36,36,36)"
          },
          "yaxis": {
           "automargin": true,
           "gridcolor": "rgb(232,232,232)",
           "linecolor": "rgb(36,36,36)",
           "showgrid": false,
           "showline": true,
           "ticks": "outside",
           "title": {
            "standoff": 15
           },
           "zeroline": false,
           "zerolinecolor": "rgb(36,36,36)"
          }
         }
        },
        "title": {
         "text": "all stops: number of stops (excluding shares < 1%)"
        },
        "width": 700,
        "xaxis": {
         "anchor": "y",
         "categoryorder": "category ascending",
         "domain": [
          0.0,
          1.0
         ],
         "dtick": 1,
         "title": {
          "text": "all_stops"
         }
        },
        "yaxis": {
         "anchor": "x",
         "domain": [
          0.0,
          1.0
         ],
         "tickformat": ".0%",
         "title": {
          "text": "percentage"
         }
        }
       }
      },
      "text/html": [
       "<div>                            <div id=\"502189bf-2024-4b96-8895-e7c98d8e77d9\" class=\"plotly-graph-div\" style=\"height:400px; width:700px;\"></div>            <script type=\"text/javascript\">                require([\"plotly\"], function(Plotly) {                    window.PLOTLYENV=window.PLOTLYENV || {};                                    if (document.getElementById(\"502189bf-2024-4b96-8895-e7c98d8e77d9\")) {                    Plotly.newPlot(                        \"502189bf-2024-4b96-8895-e7c98d8e77d9\",                        [{\"alignmentgroup\":\"True\",\"customdata\":[[118484.0],[483.0],[1296.0],[9839.0],[25913.0],[3636.0],[56364.0]],\"hovertemplate\":\"source=model\\u003cbr\\u003eall_stops=%{x}\\u003cbr\\u003epercentage=%{y}\\u003cbr\\u003etoexpfac=%{customdata[0]}\\u003cextra\\u003e\\u003c\\u002fextra\\u003e\",\"legendgroup\":\"model\",\"marker\":{\"color\":\"#91268F\",\"pattern\":{\"shape\":\"\"}},\"name\":\"model\",\"offsetgroup\":\"model\",\"orientation\":\"v\",\"showlegend\":true,\"textposition\":\"auto\",\"x\":[2.0,8.0,7.0,5.0,4.0,6.0,3.0],\"xaxis\":\"x\",\"y\":[0.5470503769847682,0.0022300507417342685,0.005983738636206236,0.04542747256298855,0.11964245314815755,0.016787711173800828,0.260237225687599],\"yaxis\":\"y\",\"type\":\"bar\"},{\"alignmentgroup\":\"True\",\"customdata\":[[15134.618484722729],[613540.9021728146],[3521895.083981549],[47054.48893429474],[277127.5986648376],[23647.883304474293],[21734.594605619983],[102491.32001021638],[1231952.8079607526]],\"hovertemplate\":\"source=survey\\u003cbr\\u003eall_stops=%{x}\\u003cbr\\u003epercentage=%{y}\\u003cbr\\u003etoexpfac=%{customdata[0]}\\u003cextra\\u003e\\u003c\\u002fextra\\u003e\",\"legendgroup\":\"survey\",\"marker\":{\"color\":\"#8CC63E\",\"pattern\":{\"shape\":\"\"}},\"name\":\"survey\",\"offsetgroup\":\"survey\",\"orientation\":\"v\",\"showlegend\":true,\"textposition\":\"auto\",\"x\":[10.0,4.0,2.0,7.0,5.0,9.0,8.0,6.0,3.0],\"xaxis\":\"x\",\"y\":[0.0025831868797914085,0.1047195745507578,0.601119425780469,0.008031291873862326,0.04730032525244871,0.0040362366549655,0.003709675250783254,0.017493287551988396,0.21027053528034162],\"yaxis\":\"y\",\"type\":\"bar\"},{\"alignmentgroup\":\"True\",\"customdata\":[[1055131.3345062882],[54829.04535303274],[3064271.9505146225],[20383.158691460263],[239185.67238306312],[10949.701646215673],[533663.0555883547],[90132.64344860874],[17959.07376225919]],\"hovertemplate\":\"source=survey (2017\\u002f2019)\\u003cbr\\u003eall_stops=%{x}\\u003cbr\\u003epercentage=%{y}\\u003cbr\\u003etoexpfac=%{customdata[0]}\\u003cextra\\u003e\\u003c\\u002fextra\\u003e\",\"legendgroup\":\"survey (2017\\u002f2019)\",\"marker\":{\"color\":\"#00A7A0\",\"pattern\":{\"shape\":\"\"}},\"name\":\"survey (2017\\u002f2019)\",\"offsetgroup\":\"survey (2017\\u002f2019)\",\"orientation\":\"v\",\"showlegend\":true,\"textposition\":\"auto\",\"x\":[3.0,7.0,2.0,10.0,5.0,9.0,4.0,6.0,8.0],\"xaxis\":\"x\",\"y\":[0.20707823865548283,0.01076065297992526,0.6013886779041413,0.004000363236333811,0.04694216362353411,0.00214896938091821,0.10473578214644608,0.01768927567622086,0.0035246165486239435],\"yaxis\":\"y\",\"type\":\"bar\"},{\"alignmentgroup\":\"True\",\"customdata\":[[9799.674852554874],[18285.676732780827],[140019.54630470253],[251517.6802136036],[3314642.9573957594],[523859.849763803],[1235861.2458224825],[52246.49431640888],[7643.649714377479]],\"hovertemplate\":\"source=survey (old weights)\\u003cbr\\u003eall_stops=%{x}\\u003cbr\\u003epercentage=%{y}\\u003cbr\\u003etoexpfac=%{customdata[0]}\\u003cextra\\u003e\\u003c\\u002fextra\\u003e\",\"legendgroup\":\"survey (old weights)\",\"marker\":{\"color\":\"#F05A28\",\"pattern\":{\"shape\":\"\"}},\"name\":\"survey (old weights)\",\"offsetgroup\":\"survey (old weights)\",\"orientation\":\"v\",\"showlegend\":true,\"textposition\":\"auto\",\"x\":[9.0,8.0,6.0,5.0,2.0,4.0,3.0,7.0,12.0],\"xaxis\":\"x\",\"y\":[0.001760791322523236,0.003285543796297626,0.02515850840221335,0.04519233091349217,0.595570224977781,0.09412637577888101,0.22205775091809843,0.009387574099012915,0.0013733998619325837],\"yaxis\":\"y\",\"type\":\"bar\"}],                        {\"template\":{\"data\":{\"barpolar\":[{\"marker\":{\"line\":{\"color\":\"white\",\"width\":0.5},\"pattern\":{\"fillmode\":\"overlay\",\"size\":10,\"solidity\":0.2}},\"type\":\"barpolar\"}],\"bar\":[{\"error_x\":{\"color\":\"rgb(36,36,36)\"},\"error_y\":{\"color\":\"rgb(36,36,36)\"},\"marker\":{\"line\":{\"color\":\"white\",\"width\":0.5},\"pattern\":{\"fillmode\":\"overlay\",\"size\":10,\"solidity\":0.2}},\"type\":\"bar\"}],\"carpet\":[{\"aaxis\":{\"endlinecolor\":\"rgb(36,36,36)\",\"gridcolor\":\"white\",\"linecolor\":\"white\",\"minorgridcolor\":\"white\",\"startlinecolor\":\"rgb(36,36,36)\"},\"baxis\":{\"endlinecolor\":\"rgb(36,36,36)\",\"gridcolor\":\"white\",\"linecolor\":\"white\",\"minorgridcolor\":\"white\",\"startlinecolor\":\"rgb(36,36,36)\"},\"type\":\"carpet\"}],\"choropleth\":[{\"colorbar\":{\"outlinewidth\":1,\"tickcolor\":\"rgb(36,36,36)\",\"ticks\":\"outside\"},\"type\":\"choropleth\"}],\"contourcarpet\":[{\"colorbar\":{\"outlinewidth\":1,\"tickcolor\":\"rgb(36,36,36)\",\"ticks\":\"outside\"},\"type\":\"contourcarpet\"}],\"contour\":[{\"colorbar\":{\"outlinewidth\":1,\"tickcolor\":\"rgb(36,36,36)\",\"ticks\":\"outside\"},\"colorscale\":[[0.0,\"#440154\"],[0.1111111111111111,\"#482878\"],[0.2222222222222222,\"#3e4989\"],[0.3333333333333333,\"#31688e\"],[0.4444444444444444,\"#26828e\"],[0.5555555555555556,\"#1f9e89\"],[0.6666666666666666,\"#35b779\"],[0.7777777777777778,\"#6ece58\"],[0.8888888888888888,\"#b5de2b\"],[1.0,\"#fde725\"]],\"type\":\"contour\"}],\"heatmapgl\":[{\"colorbar\":{\"outlinewidth\":1,\"tickcolor\":\"rgb(36,36,36)\",\"ticks\":\"outside\"},\"colorscale\":[[0.0,\"#440154\"],[0.1111111111111111,\"#482878\"],[0.2222222222222222,\"#3e4989\"],[0.3333333333333333,\"#31688e\"],[0.4444444444444444,\"#26828e\"],[0.5555555555555556,\"#1f9e89\"],[0.6666666666666666,\"#35b779\"],[0.7777777777777778,\"#6ece58\"],[0.8888888888888888,\"#b5de2b\"],[1.0,\"#fde725\"]],\"type\":\"heatmapgl\"}],\"heatmap\":[{\"colorbar\":{\"outlinewidth\":1,\"tickcolor\":\"rgb(36,36,36)\",\"ticks\":\"outside\"},\"colorscale\":[[0.0,\"#440154\"],[0.1111111111111111,\"#482878\"],[0.2222222222222222,\"#3e4989\"],[0.3333333333333333,\"#31688e\"],[0.4444444444444444,\"#26828e\"],[0.5555555555555556,\"#1f9e89\"],[0.6666666666666666,\"#35b779\"],[0.7777777777777778,\"#6ece58\"],[0.8888888888888888,\"#b5de2b\"],[1.0,\"#fde725\"]],\"type\":\"heatmap\"}],\"histogram2dcontour\":[{\"colorbar\":{\"outlinewidth\":1,\"tickcolor\":\"rgb(36,36,36)\",\"ticks\":\"outside\"},\"colorscale\":[[0.0,\"#440154\"],[0.1111111111111111,\"#482878\"],[0.2222222222222222,\"#3e4989\"],[0.3333333333333333,\"#31688e\"],[0.4444444444444444,\"#26828e\"],[0.5555555555555556,\"#1f9e89\"],[0.6666666666666666,\"#35b779\"],[0.7777777777777778,\"#6ece58\"],[0.8888888888888888,\"#b5de2b\"],[1.0,\"#fde725\"]],\"type\":\"histogram2dcontour\"}],\"histogram2d\":[{\"colorbar\":{\"outlinewidth\":1,\"tickcolor\":\"rgb(36,36,36)\",\"ticks\":\"outside\"},\"colorscale\":[[0.0,\"#440154\"],[0.1111111111111111,\"#482878\"],[0.2222222222222222,\"#3e4989\"],[0.3333333333333333,\"#31688e\"],[0.4444444444444444,\"#26828e\"],[0.5555555555555556,\"#1f9e89\"],[0.6666666666666666,\"#35b779\"],[0.7777777777777778,\"#6ece58\"],[0.8888888888888888,\"#b5de2b\"],[1.0,\"#fde725\"]],\"type\":\"histogram2d\"}],\"histogram\":[{\"marker\":{\"line\":{\"color\":\"white\",\"width\":0.6}},\"type\":\"histogram\"}],\"mesh3d\":[{\"colorbar\":{\"outlinewidth\":1,\"tickcolor\":\"rgb(36,36,36)\",\"ticks\":\"outside\"},\"type\":\"mesh3d\"}],\"parcoords\":[{\"line\":{\"colorbar\":{\"outlinewidth\":1,\"tickcolor\":\"rgb(36,36,36)\",\"ticks\":\"outside\"}},\"type\":\"parcoords\"}],\"pie\":[{\"automargin\":true,\"type\":\"pie\"}],\"scatter3d\":[{\"line\":{\"colorbar\":{\"outlinewidth\":1,\"tickcolor\":\"rgb(36,36,36)\",\"ticks\":\"outside\"}},\"marker\":{\"colorbar\":{\"outlinewidth\":1,\"tickcolor\":\"rgb(36,36,36)\",\"ticks\":\"outside\"}},\"type\":\"scatter3d\"}],\"scattercarpet\":[{\"marker\":{\"colorbar\":{\"outlinewidth\":1,\"tickcolor\":\"rgb(36,36,36)\",\"ticks\":\"outside\"}},\"type\":\"scattercarpet\"}],\"scattergeo\":[{\"marker\":{\"colorbar\":{\"outlinewidth\":1,\"tickcolor\":\"rgb(36,36,36)\",\"ticks\":\"outside\"}},\"type\":\"scattergeo\"}],\"scattergl\":[{\"marker\":{\"colorbar\":{\"outlinewidth\":1,\"tickcolor\":\"rgb(36,36,36)\",\"ticks\":\"outside\"}},\"type\":\"scattergl\"}],\"scattermapbox\":[{\"marker\":{\"colorbar\":{\"outlinewidth\":1,\"tickcolor\":\"rgb(36,36,36)\",\"ticks\":\"outside\"}},\"type\":\"scattermapbox\"}],\"scatterpolargl\":[{\"marker\":{\"colorbar\":{\"outlinewidth\":1,\"tickcolor\":\"rgb(36,36,36)\",\"ticks\":\"outside\"}},\"type\":\"scatterpolargl\"}],\"scatterpolar\":[{\"marker\":{\"colorbar\":{\"outlinewidth\":1,\"tickcolor\":\"rgb(36,36,36)\",\"ticks\":\"outside\"}},\"type\":\"scatterpolar\"}],\"scatter\":[{\"fillpattern\":{\"fillmode\":\"overlay\",\"size\":10,\"solidity\":0.2},\"type\":\"scatter\"}],\"scatterternary\":[{\"marker\":{\"colorbar\":{\"outlinewidth\":1,\"tickcolor\":\"rgb(36,36,36)\",\"ticks\":\"outside\"}},\"type\":\"scatterternary\"}],\"surface\":[{\"colorbar\":{\"outlinewidth\":1,\"tickcolor\":\"rgb(36,36,36)\",\"ticks\":\"outside\"},\"colorscale\":[[0.0,\"#440154\"],[0.1111111111111111,\"#482878\"],[0.2222222222222222,\"#3e4989\"],[0.3333333333333333,\"#31688e\"],[0.4444444444444444,\"#26828e\"],[0.5555555555555556,\"#1f9e89\"],[0.6666666666666666,\"#35b779\"],[0.7777777777777778,\"#6ece58\"],[0.8888888888888888,\"#b5de2b\"],[1.0,\"#fde725\"]],\"type\":\"surface\"}],\"table\":[{\"cells\":{\"fill\":{\"color\":\"rgb(237,237,237)\"},\"line\":{\"color\":\"white\"}},\"header\":{\"fill\":{\"color\":\"rgb(217,217,217)\"},\"line\":{\"color\":\"white\"}},\"type\":\"table\"}]},\"layout\":{\"annotationdefaults\":{\"arrowhead\":0,\"arrowwidth\":1},\"autotypenumbers\":\"strict\",\"coloraxis\":{\"colorbar\":{\"outlinewidth\":1,\"tickcolor\":\"rgb(36,36,36)\",\"ticks\":\"outside\"}},\"colorscale\":{\"diverging\":[[0.0,\"rgb(103,0,31)\"],[0.1,\"rgb(178,24,43)\"],[0.2,\"rgb(214,96,77)\"],[0.3,\"rgb(244,165,130)\"],[0.4,\"rgb(253,219,199)\"],[0.5,\"rgb(247,247,247)\"],[0.6,\"rgb(209,229,240)\"],[0.7,\"rgb(146,197,222)\"],[0.8,\"rgb(67,147,195)\"],[0.9,\"rgb(33,102,172)\"],[1.0,\"rgb(5,48,97)\"]],\"sequential\":[[0.0,\"#440154\"],[0.1111111111111111,\"#482878\"],[0.2222222222222222,\"#3e4989\"],[0.3333333333333333,\"#31688e\"],[0.4444444444444444,\"#26828e\"],[0.5555555555555556,\"#1f9e89\"],[0.6666666666666666,\"#35b779\"],[0.7777777777777778,\"#6ece58\"],[0.8888888888888888,\"#b5de2b\"],[1.0,\"#fde725\"]],\"sequentialminus\":[[0.0,\"#440154\"],[0.1111111111111111,\"#482878\"],[0.2222222222222222,\"#3e4989\"],[0.3333333333333333,\"#31688e\"],[0.4444444444444444,\"#26828e\"],[0.5555555555555556,\"#1f9e89\"],[0.6666666666666666,\"#35b779\"],[0.7777777777777778,\"#6ece58\"],[0.8888888888888888,\"#b5de2b\"],[1.0,\"#fde725\"]]},\"colorway\":[\"#91268F\",\"#8CC63E\",\"#00A7A0\",\"#F05A28\",\"#4C4C4C\",\"#630460\",\"#9f3913\",\"#588527\",\"#00716c\",\"#3e4040\"],\"font\":{\"color\":\"rgb(36,36,36)\",\"family\":\"Poppins\",\"size\":11},\"geo\":{\"bgcolor\":\"white\",\"lakecolor\":\"white\",\"landcolor\":\"white\",\"showlakes\":true,\"showland\":true,\"subunitcolor\":\"white\"},\"hoverlabel\":{\"align\":\"left\"},\"hovermode\":\"closest\",\"mapbox\":{\"style\":\"light\"},\"paper_bgcolor\":\"white\",\"plot_bgcolor\":\"white\",\"polar\":{\"angularaxis\":{\"gridcolor\":\"rgb(232,232,232)\",\"linecolor\":\"rgb(36,36,36)\",\"showgrid\":false,\"showline\":true,\"ticks\":\"outside\"},\"bgcolor\":\"white\",\"radialaxis\":{\"gridcolor\":\"rgb(232,232,232)\",\"linecolor\":\"rgb(36,36,36)\",\"showgrid\":false,\"showline\":true,\"ticks\":\"outside\"}},\"scene\":{\"xaxis\":{\"backgroundcolor\":\"white\",\"gridcolor\":\"rgb(232,232,232)\",\"gridwidth\":2,\"linecolor\":\"rgb(36,36,36)\",\"showbackground\":true,\"showgrid\":false,\"showline\":true,\"ticks\":\"outside\",\"zeroline\":false,\"zerolinecolor\":\"rgb(36,36,36)\"},\"yaxis\":{\"backgroundcolor\":\"white\",\"gridcolor\":\"rgb(232,232,232)\",\"gridwidth\":2,\"linecolor\":\"rgb(36,36,36)\",\"showbackground\":true,\"showgrid\":false,\"showline\":true,\"ticks\":\"outside\",\"zeroline\":false,\"zerolinecolor\":\"rgb(36,36,36)\"},\"zaxis\":{\"backgroundcolor\":\"white\",\"gridcolor\":\"rgb(232,232,232)\",\"gridwidth\":2,\"linecolor\":\"rgb(36,36,36)\",\"showbackground\":true,\"showgrid\":false,\"showline\":true,\"ticks\":\"outside\",\"zeroline\":false,\"zerolinecolor\":\"rgb(36,36,36)\"}},\"shapedefaults\":{\"fillcolor\":\"black\",\"line\":{\"width\":0},\"opacity\":0.3},\"ternary\":{\"aaxis\":{\"gridcolor\":\"rgb(232,232,232)\",\"linecolor\":\"rgb(36,36,36)\",\"showgrid\":false,\"showline\":true,\"ticks\":\"outside\"},\"baxis\":{\"gridcolor\":\"rgb(232,232,232)\",\"linecolor\":\"rgb(36,36,36)\",\"showgrid\":false,\"showline\":true,\"ticks\":\"outside\"},\"bgcolor\":\"white\",\"caxis\":{\"gridcolor\":\"rgb(232,232,232)\",\"linecolor\":\"rgb(36,36,36)\",\"showgrid\":false,\"showline\":true,\"ticks\":\"outside\"}},\"title\":{\"x\":0.05},\"xaxis\":{\"automargin\":true,\"gridcolor\":\"rgb(232,232,232)\",\"linecolor\":\"rgb(36,36,36)\",\"showgrid\":false,\"showline\":true,\"ticks\":\"outside\",\"title\":{\"standoff\":15},\"zeroline\":false,\"zerolinecolor\":\"rgb(36,36,36)\"},\"yaxis\":{\"automargin\":true,\"gridcolor\":\"rgb(232,232,232)\",\"linecolor\":\"rgb(36,36,36)\",\"showgrid\":false,\"showline\":true,\"ticks\":\"outside\",\"title\":{\"standoff\":15},\"zeroline\":false,\"zerolinecolor\":\"rgb(36,36,36)\"}}},\"xaxis\":{\"anchor\":\"y\",\"domain\":[0.0,1.0],\"title\":{\"text\":\"all_stops\"},\"dtick\":1,\"categoryorder\":\"category ascending\"},\"yaxis\":{\"anchor\":\"x\",\"domain\":[0.0,1.0],\"title\":{\"text\":\"percentage\"},\"tickformat\":\".0%\"},\"legend\":{\"title\":{\"text\":\"source\"},\"tracegroupgap\":0},\"title\":{\"text\":\"all stops: number of stops (excluding shares \\u003c 1%)\"},\"barmode\":\"group\",\"font\":{\"size\":11},\"height\":400,\"width\":700},                        {\"responsive\": true}                    ).then(function(){\n",
       "                            \n",
       "var gd = document.getElementById('502189bf-2024-4b96-8895-e7c98d8e77d9');\n",
       "var x = new MutationObserver(function (mutations, observer) {{\n",
       "        var display = window.getComputedStyle(gd).display;\n",
       "        if (!display || display === 'none') {{\n",
       "            console.log([gd, 'removed!']);\n",
       "            Plotly.purge(gd);\n",
       "            observer.disconnect();\n",
       "        }}\n",
       "}});\n",
       "\n",
       "// Listen for the removal of the full notebook cells\n",
       "var notebookContainer = gd.closest('#notebook-container');\n",
       "if (notebookContainer) {{\n",
       "    x.observe(notebookContainer, {childList: true});\n",
       "}}\n",
       "\n",
       "// Listen for the clearing of the current output cell\n",
       "var outputEl = gd.closest('.output');\n",
       "if (outputEl) {{\n",
       "    x.observe(outputEl, {childList: true});\n",
       "}}\n",
       "\n",
       "                        })                };                });            </script>        </div>"
      ]
     },
     "metadata": {},
     "output_type": "display_data"
    }
   ],
   "source": [
    "df_plot = df_tour.groupby(['all_stops','source'])['toexpfac'].sum().reset_index()\n",
    "df_plot['percentage'] = df_plot.groupby(['source'], group_keys=False)['toexpfac']. \\\n",
    "    apply(lambda x: x / float(x.sum()))\n",
    "df_plot = df_plot.loc[df_plot['percentage'] > 0.001]\n",
    "# df_plot\n",
    "fig = px.bar(df_plot.sort_values(['source']), x=\"all_stops\", y=\"percentage\", color=\"source\",\n",
    "             barmode=\"group\",title=\"all stops: number of stops (excluding shares < 1%)\",\n",
    "             hover_data=['toexpfac'])\n",
    "fig.update_layout(height=400, width=700, font=dict(size=11),\n",
    "                  xaxis = dict(dtick = 1, categoryorder='category ascending'),\n",
    "                  yaxis=dict(tickformat=\".0%\"))\n",
    "fig.show()"
   ]
  },
  {
   "cell_type": "raw",
   "metadata": {},
   "source": [
    ":::"
   ]
  },
  {
   "cell_type": "markdown",
   "metadata": {
    "collapsed": false
   },
   "source": [
    "## number of stops by purpose"
   ]
  },
  {
   "cell_type": "raw",
   "metadata": {},
   "source": [
    ":::{.panel-tabset}\n",
    "### outbound"
   ]
  },
  {
   "cell_type": "code",
   "execution_count": 7,
   "metadata": {
    "ExecuteTime": {
     "end_time": "2024-07-15T04:04:07.555304Z",
     "start_time": "2024-07-15T04:04:06.618238Z"
    },
    "collapsed": false,
    "execution": {
     "iopub.execute_input": "2025-01-21T06:48:00.278551Z",
     "iopub.status.busy": "2025-01-21T06:48:00.276557Z",
     "iopub.status.idle": "2025-01-21T06:48:00.904798Z",
     "shell.execute_reply": "2025-01-21T06:48:00.902930Z"
    }
   },
   "outputs": [
    {
     "data": {
      "application/vnd.plotly.v1+json": {
       "config": {
        "plotlyServerURL": "https://plot.ly"
       },
       "data": [
        {
         "alignmentgroup": "True",
         "customdata": [
          [
           33527.0
          ],
          [
           10812.0
          ],
          [
           3153.0
          ],
          [
           834.0
          ],
          [
           344.0
          ],
          [
           106.0
          ],
          [
           50.0
          ]
         ],
         "hovertemplate": "source=model<br>pdpurp_label=Work<br>tripsh1=%{x}<br>percentage=%{y}<br>toexpfac=%{customdata[0]}<extra></extra>",
         "legendgroup": "model",
         "marker": {
          "color": "#91268F",
          "pattern": {
           "shape": ""
          }
         },
         "name": "model",
         "offsetgroup": "model",
         "orientation": "v",
         "showlegend": true,
         "textposition": "auto",
         "type": "bar",
         "x": [
          1.0,
          2.0,
          3.0,
          4.0,
          5.0,
          6.0,
          7.0
         ],
         "xaxis": "x5",
         "y": [
          0.6855676427286111,
          0.22108620971699655,
          0.06447325372157697,
          0.01705381972844757,
          0.007034189432357271,
          0.0021675118599705544,
          0.0010224112547030917
         ],
         "yaxis": "y5"
        },
        {
         "alignmentgroup": "True",
         "customdata": [
          [
           12968.0
          ],
          [
           3189.0
          ],
          [
           746.0
          ],
          [
           168.0
          ],
          [
           44.0
          ]
         ],
         "hovertemplate": "source=model<br>pdpurp_label=School<br>tripsh1=%{x}<br>percentage=%{y}<br>toexpfac=%{customdata[0]}<extra></extra>",
         "legendgroup": "model",
         "marker": {
          "color": "#91268F",
          "pattern": {
           "shape": ""
          }
         },
         "name": "model",
         "offsetgroup": "model",
         "orientation": "v",
         "showlegend": false,
         "textposition": "auto",
         "type": "bar",
         "x": [
          1.0,
          2.0,
          3.0,
          4.0,
          5.0
         ],
         "xaxis": "x6",
         "y": [
          0.7568135395389554,
          0.18611030055442077,
          0.04353662095126933,
          0.009804493726291217,
          0.002567843594981033
         ],
         "yaxis": "y6"
        },
        {
         "alignmentgroup": "True",
         "customdata": [
          [
           22704.0
          ],
          [
           5380.0
          ],
          [
           1344.0
          ],
          [
           296.0
          ],
          [
           79.0
          ]
         ],
         "hovertemplate": "source=model<br>pdpurp_label=Shop<br>tripsh1=%{x}<br>percentage=%{y}<br>toexpfac=%{customdata[0]}<extra></extra>",
         "legendgroup": "model",
         "marker": {
          "color": "#91268F",
          "pattern": {
           "shape": ""
          }
         },
         "name": "model",
         "offsetgroup": "model",
         "orientation": "v",
         "showlegend": false,
         "textposition": "auto",
         "type": "bar",
         "x": [
          1.0,
          2.0,
          3.0,
          4.0,
          5.0
         ],
         "xaxis": "x3",
         "y": [
          0.7613937422448774,
          0.1804218786679634,
          0.04507193400181093,
          0.009926556893255977,
          0.0026493175492135887
         ],
         "yaxis": "y3"
        },
        {
         "alignmentgroup": "True",
         "customdata": [
          [
           21889.0
          ],
          [
           2978.0
          ],
          [
           712.0
          ],
          [
           145.0
          ],
          [
           47.0
          ]
         ],
         "hovertemplate": "source=model<br>pdpurp_label=Meal<br>tripsh1=%{x}<br>percentage=%{y}<br>toexpfac=%{customdata[0]}<extra></extra>",
         "legendgroup": "model",
         "marker": {
          "color": "#91268F",
          "pattern": {
           "shape": ""
          }
         },
         "name": "model",
         "offsetgroup": "model",
         "orientation": "v",
         "showlegend": false,
         "textposition": "auto",
         "type": "bar",
         "x": [
          1.0,
          2.0,
          3.0,
          4.0,
          5.0
         ],
         "xaxis": "x4",
         "y": [
          0.8489373254731617,
          0.11549798324542351,
          0.027614024201054917,
          0.00562364256903506,
          0.0018228358672044678
         ],
         "yaxis": "y4"
        },
        {
         "alignmentgroup": "True",
         "customdata": [
          [
           16806.0
          ],
          [
           4492.0
          ],
          [
           1127.0
          ],
          [
           273.0
          ],
          [
           99.0
          ]
         ],
         "hovertemplate": "source=model<br>pdpurp_label=Escort<br>tripsh1=%{x}<br>percentage=%{y}<br>toexpfac=%{customdata[0]}<extra></extra>",
         "legendgroup": "model",
         "marker": {
          "color": "#91268F",
          "pattern": {
           "shape": ""
          }
         },
         "name": "model",
         "offsetgroup": "model",
         "orientation": "v",
         "showlegend": false,
         "textposition": "auto",
         "type": "bar",
         "x": [
          1.0,
          2.0,
          3.0,
          4.0,
          5.0
         ],
         "xaxis": "x",
         "y": [
          0.736426975154463,
          0.19683624731606852,
          0.049384338986021646,
          0.011962665965558039,
          0.004338109635861707
         ],
         "yaxis": "y"
        },
        {
         "alignmentgroup": "True",
         "customdata": [
          [
           13629.0
          ],
          [
           2640.0
          ],
          [
           491.0
          ],
          [
           77.0
          ],
          [
           30.0
          ]
         ],
         "hovertemplate": "source=model<br>pdpurp_label=Personal Business<br>tripsh1=%{x}<br>percentage=%{y}<br>toexpfac=%{customdata[0]}<extra></extra>",
         "legendgroup": "model",
         "marker": {
          "color": "#91268F",
          "pattern": {
           "shape": ""
          }
         },
         "name": "model",
         "offsetgroup": "model",
         "orientation": "v",
         "showlegend": false,
         "textposition": "auto",
         "type": "bar",
         "x": [
          1.0,
          2.0,
          3.0,
          4.0,
          5.0
         ],
         "xaxis": "x2",
         "y": [
          0.8077880512091038,
          0.15647226173541964,
          0.029101469890943574,
          0.0045637743006164055,
          0.0017780938833570413
         ],
         "yaxis": "y2"
        },
        {
         "alignmentgroup": "True",
         "customdata": [
          [
           1256319.4290023863
          ],
          [
           250646.0968286075
          ],
          [
           73167.7519699897
          ],
          [
           26209.958185251526
          ],
          [
           1805.2413974940373
          ]
         ],
         "hovertemplate": "source=survey<br>pdpurp_label=Work<br>tripsh1=%{x}<br>percentage=%{y}<br>toexpfac=%{customdata[0]}<extra></extra>",
         "legendgroup": "survey",
         "marker": {
          "color": "#8CC63E",
          "pattern": {
           "shape": ""
          }
         },
         "name": "survey",
         "offsetgroup": "survey",
         "orientation": "v",
         "showlegend": true,
         "textposition": "auto",
         "type": "bar",
         "x": [
          1.0,
          2.0,
          3.0,
          4.0,
          6.0
         ],
         "xaxis": "x5",
         "y": [
          0.7796051539975462,
          0.1555376637549233,
          0.04540402323278066,
          0.016264508862613034,
          0.0011202369916492082
         ],
         "yaxis": "y5"
        },
        {
         "alignmentgroup": "True",
         "customdata": [
          [
           494736.4509564791
          ],
          [
           61670.92974952214
          ],
          [
           11026.560337886654
          ]
         ],
         "hovertemplate": "source=survey<br>pdpurp_label=School<br>tripsh1=%{x}<br>percentage=%{y}<br>toexpfac=%{customdata[0]}<extra></extra>",
         "legendgroup": "survey",
         "marker": {
          "color": "#8CC63E",
          "pattern": {
           "shape": ""
          }
         },
         "name": "survey",
         "offsetgroup": "survey",
         "orientation": "v",
         "showlegend": false,
         "textposition": "auto",
         "type": "bar",
         "x": [
          1.0,
          2.0,
          3.0
         ],
         "xaxis": "x6",
         "y": [
          0.8718837827119228,
          0.10868389302914863,
          0.019432324258928692
         ],
         "yaxis": "y6"
        },
        {
         "alignmentgroup": "True",
         "customdata": [
          [
           594676.4628895561
          ],
          [
           89325.7541931512
          ],
          [
           47741.81241793999
          ],
          [
           17946.201705555577
          ],
          [
           2994.1859522079503
          ],
          [
           1210.8147795409182
          ],
          [
           3418.585778421111
          ]
         ],
         "hovertemplate": "source=survey<br>pdpurp_label=Shop<br>tripsh1=%{x}<br>percentage=%{y}<br>toexpfac=%{customdata[0]}<extra></extra>",
         "legendgroup": "survey",
         "marker": {
          "color": "#8CC63E",
          "pattern": {
           "shape": ""
          }
         },
         "name": "survey",
         "offsetgroup": "survey",
         "orientation": "v",
         "showlegend": false,
         "textposition": "auto",
         "type": "bar",
         "x": [
          1.0,
          2.0,
          3.0,
          4.0,
          5.0,
          6.0,
          7.0
         ],
         "xaxis": "x3",
         "y": [
          0.7852444376134079,
          0.11795077826852124,
          0.06304098948293603,
          0.023697179802781233,
          0.0039536924880582665,
          0.0015988283208565322,
          0.004514094023438816
         ],
         "yaxis": "y3"
        },
        {
         "alignmentgroup": "True",
         "customdata": [
          [
           286221.6969878001
          ],
          [
           65952.61861624608
          ],
          [
           48422.91110068868
          ],
          [
           3954.4367630914203
          ],
          [
           2636.846314791539
          ]
         ],
         "hovertemplate": "source=survey<br>pdpurp_label=Meal<br>tripsh1=%{x}<br>percentage=%{y}<br>toexpfac=%{customdata[0]}<extra></extra>",
         "legendgroup": "survey",
         "marker": {
          "color": "#8CC63E",
          "pattern": {
           "shape": ""
          }
         },
         "name": "survey",
         "offsetgroup": "survey",
         "orientation": "v",
         "showlegend": false,
         "textposition": "auto",
         "type": "bar",
         "x": [
          1.0,
          2.0,
          3.0,
          4.0,
          5.0
         ],
         "xaxis": "x4",
         "y": [
          0.7027921502728832,
          0.16194084215570362,
          0.11889819036456976,
          0.009709770940145104,
          0.006474543722625131
         ],
         "yaxis": "y4"
        },
        {
         "alignmentgroup": "True",
         "customdata": [
          [
           543509.7312299766
          ],
          [
           55683.55425669049
          ],
          [
           18872.474160256286
          ],
          [
           3374.1616652898338
          ],
          [
           9995.289078869531
          ]
         ],
         "hovertemplate": "source=survey<br>pdpurp_label=Escort<br>tripsh1=%{x}<br>percentage=%{y}<br>toexpfac=%{customdata[0]}<extra></extra>",
         "legendgroup": "survey",
         "marker": {
          "color": "#8CC63E",
          "pattern": {
           "shape": ""
          }
         },
         "name": "survey",
         "offsetgroup": "survey",
         "orientation": "v",
         "showlegend": false,
         "textposition": "auto",
         "type": "bar",
         "x": [
          1.0,
          2.0,
          3.0,
          4.0,
          6.0
         ],
         "xaxis": "x",
         "y": [
          0.8598363260680494,
          0.08809178559900446,
          0.02985639062808737,
          0.005337948160149608,
          0.01581261961973362
         ],
         "yaxis": "y"
        },
        {
         "alignmentgroup": "True",
         "customdata": [
          [
           342353.3119847543
          ],
          [
           51101.23733602876
          ],
          [
           3012.993829302262
          ],
          [
           3997.1164581773164
          ],
          [
           773.2845731930873
          ]
         ],
         "hovertemplate": "source=survey<br>pdpurp_label=Personal Business<br>tripsh1=%{x}<br>percentage=%{y}<br>toexpfac=%{customdata[0]}<extra></extra>",
         "legendgroup": "survey",
         "marker": {
          "color": "#8CC63E",
          "pattern": {
           "shape": ""
          }
         },
         "name": "survey",
         "offsetgroup": "survey",
         "orientation": "v",
         "showlegend": false,
         "textposition": "auto",
         "type": "bar",
         "x": [
          1.0,
          2.0,
          3.0,
          4.0,
          6.0
         ],
         "xaxis": "x2",
         "y": [
          0.8527463223964592,
          0.12728485655820881,
          0.007504876738143389,
          0.009956165868939675,
          0.001926125884786784
         ],
         "yaxis": "y2"
        },
        {
         "alignmentgroup": "True",
         "customdata": [
          [
           1033755.174857432
          ],
          [
           195517.5606858629
          ],
          [
           74949.17060300654
          ],
          [
           21040.87442959797
          ],
          [
           1950.3517922150552
          ],
          [
           2079.3421671354363
          ]
         ],
         "hovertemplate": "source=survey (2017/2019)<br>pdpurp_label=Work<br>tripsh1=%{x}<br>percentage=%{y}<br>toexpfac=%{customdata[0]}<extra></extra>",
         "legendgroup": "survey (2017/2019)",
         "marker": {
          "color": "#00A7A0",
          "pattern": {
           "shape": ""
          }
         },
         "name": "survey (2017/2019)",
         "offsetgroup": "survey (2017/2019)",
         "orientation": "v",
         "showlegend": true,
         "textposition": "auto",
         "type": "bar",
         "x": [
          1.0,
          2.0,
          3.0,
          4.0,
          5.0,
          6.0
         ],
         "xaxis": "x5",
         "y": [
          0.7734291047607675,
          0.14628122364381974,
          0.05607504690850993,
          0.015742242524408184,
          0.0014592031820585413,
          0.0015557104718152141
         ],
         "yaxis": "y5"
        },
        {
         "alignmentgroup": "True",
         "customdata": [
          [
           443499.1756799964
          ],
          [
           62917.073750133335
          ],
          [
           13495.780005012644
          ]
         ],
         "hovertemplate": "source=survey (2017/2019)<br>pdpurp_label=School<br>tripsh1=%{x}<br>percentage=%{y}<br>toexpfac=%{customdata[0]}<extra></extra>",
         "legendgroup": "survey (2017/2019)",
         "marker": {
          "color": "#00A7A0",
          "pattern": {
           "shape": ""
          }
         },
         "name": "survey (2017/2019)",
         "offsetgroup": "survey (2017/2019)",
         "orientation": "v",
         "showlegend": false,
         "textposition": "auto",
         "type": "bar",
         "x": [
          1.0,
          2.0,
          3.0
         ],
         "xaxis": "x6",
         "y": [
          0.8530273403403176,
          0.12101484518157715,
          0.025957814478105294
         ],
         "yaxis": "y6"
        },
        {
         "alignmentgroup": "True",
         "customdata": [
          [
           441090.9675050361
          ],
          [
           98379.88788012492
          ],
          [
           44172.03307680473
          ],
          [
           6058.896019820784
          ],
          [
           10652.480458341015
          ],
          [
           935.0923009378721
          ]
         ],
         "hovertemplate": "source=survey (2017/2019)<br>pdpurp_label=Shop<br>tripsh1=%{x}<br>percentage=%{y}<br>toexpfac=%{customdata[0]}<extra></extra>",
         "legendgroup": "survey (2017/2019)",
         "marker": {
          "color": "#00A7A0",
          "pattern": {
           "shape": ""
          }
         },
         "name": "survey (2017/2019)",
         "offsetgroup": "survey (2017/2019)",
         "orientation": "v",
         "showlegend": false,
         "textposition": "auto",
         "type": "bar",
         "x": [
          1.0,
          2.0,
          3.0,
          4.0,
          5.0,
          6.0
         ],
         "xaxis": "x3",
         "y": [
          0.7334853931901225,
          0.1635948501777691,
          0.07345319545446664,
          0.010075272578202538,
          0.017713894396051415,
          0.0015549548609032457
         ],
         "yaxis": "y3"
        },
        {
         "alignmentgroup": "True",
         "customdata": [
          [
           298986.47588558303
          ],
          [
           64064.109354006185
          ],
          [
           28149.24270133641
          ],
          [
           2793.4648497190838
          ],
          [
           4037.6933827163125
          ]
         ],
         "hovertemplate": "source=survey (2017/2019)<br>pdpurp_label=Meal<br>tripsh1=%{x}<br>percentage=%{y}<br>toexpfac=%{customdata[0]}<extra></extra>",
         "legendgroup": "survey (2017/2019)",
         "marker": {
          "color": "#00A7A0",
          "pattern": {
           "shape": ""
          }
         },
         "name": "survey (2017/2019)",
         "offsetgroup": "survey (2017/2019)",
         "orientation": "v",
         "showlegend": false,
         "textposition": "auto",
         "type": "bar",
         "x": [
          1.0,
          2.0,
          3.0,
          4.0,
          5.0
         ],
         "xaxis": "x4",
         "y": [
          0.7508558202166519,
          0.16088657265507805,
          0.07069223667855112,
          0.007015331829874746,
          0.0101400090679118
         ],
         "yaxis": "y4"
        },
        {
         "alignmentgroup": "True",
         "customdata": [
          [
           555537.5253389779
          ],
          [
           72399.78482700436
          ],
          [
           13249.202904553285
          ],
          [
           4888.69218355646
          ],
          [
           903.3096346831645
          ],
          [
           8657.342276999781
          ],
          [
           4796.396875316257
          ]
         ],
         "hovertemplate": "source=survey (2017/2019)<br>pdpurp_label=Escort<br>tripsh1=%{x}<br>percentage=%{y}<br>toexpfac=%{customdata[0]}<extra></extra>",
         "legendgroup": "survey (2017/2019)",
         "marker": {
          "color": "#00A7A0",
          "pattern": {
           "shape": ""
          }
         },
         "name": "survey (2017/2019)",
         "offsetgroup": "survey (2017/2019)",
         "orientation": "v",
         "showlegend": false,
         "textposition": "auto",
         "type": "bar",
         "x": [
          1.0,
          2.0,
          3.0,
          4.0,
          5.0,
          6.0,
          8.0
         ],
         "xaxis": "x",
         "y": [
          0.8411575831317054,
          0.10962288818775791,
          0.020061052557728408,
          0.007402129134815966,
          0.001367730737299958,
          0.013108365814931447,
          0.007262381782256202
         ],
         "yaxis": "y"
        },
        {
         "alignmentgroup": "True",
         "customdata": [
          [
           238749.71570336376
          ],
          [
           59700.45238949424
          ],
          [
           3911.764715943108
          ],
          [
           3812.0377803833703
          ]
         ],
         "hovertemplate": "source=survey (2017/2019)<br>pdpurp_label=Personal Business<br>tripsh1=%{x}<br>percentage=%{y}<br>toexpfac=%{customdata[0]}<extra></extra>",
         "legendgroup": "survey (2017/2019)",
         "marker": {
          "color": "#00A7A0",
          "pattern": {
           "shape": ""
          }
         },
         "name": "survey (2017/2019)",
         "offsetgroup": "survey (2017/2019)",
         "orientation": "v",
         "showlegend": false,
         "textposition": "auto",
         "type": "bar",
         "x": [
          1.0,
          2.0,
          3.0,
          4.0
         ],
         "xaxis": "x2",
         "y": [
          0.7787436904920466,
          0.1947284020040592,
          0.012759228140882721,
          0.01243394305473944
         ],
         "yaxis": "y2"
        },
        {
         "alignmentgroup": "True",
         "customdata": [
          [
           1258915.0665718734
          ],
          [
           232464.3369884023
          ],
          [
           82134.71146928515
          ],
          [
           30699.000712941073
          ],
          [
           22304.075320252603
          ],
          [
           5519.830244332279
          ]
         ],
         "hovertemplate": "source=survey (old weights)<br>pdpurp_label=Work<br>tripsh1=%{x}<br>percentage=%{y}<br>toexpfac=%{customdata[0]}<extra></extra>",
         "legendgroup": "survey (old weights)",
         "marker": {
          "color": "#F05A28",
          "pattern": {
           "shape": ""
          }
         },
         "name": "survey (old weights)",
         "offsetgroup": "survey (old weights)",
         "orientation": "v",
         "showlegend": true,
         "textposition": "auto",
         "type": "bar",
         "x": [
          1.0,
          2.0,
          3.0,
          4.0,
          5.0,
          6.0
         ],
         "xaxis": "x5",
         "y": [
          0.7699703467334574,
          0.14217849234383165,
          0.05023475685382738,
          0.01877594513796726,
          0.013641489457004276,
          0.0033760066266517313
         ],
         "yaxis": "y5"
        },
        {
         "alignmentgroup": "True",
         "customdata": [
          [
           471336.7454971676
          ],
          [
           45307.33608781769
          ],
          [
           7590.821229421418
          ],
          [
           669.9777518683319
          ]
         ],
         "hovertemplate": "source=survey (old weights)<br>pdpurp_label=School<br>tripsh1=%{x}<br>percentage=%{y}<br>toexpfac=%{customdata[0]}<extra></extra>",
         "legendgroup": "survey (old weights)",
         "marker": {
          "color": "#F05A28",
          "pattern": {
           "shape": ""
          }
         },
         "name": "survey (old weights)",
         "offsetgroup": "survey (old weights)",
         "orientation": "v",
         "showlegend": false,
         "textposition": "auto",
         "type": "bar",
         "x": [
          1.0,
          2.0,
          3.0,
          4.0
         ],
         "xaxis": "x6",
         "y": [
          0.8971927795871395,
          0.08624282996955973,
          0.014449181107214559,
          0.0012753073194542686
         ],
         "yaxis": "y6"
        },
        {
         "alignmentgroup": "True",
         "customdata": [
          [
           538910.1320062071
          ],
          [
           195006.75052848586
          ],
          [
           35233.270877721916
          ],
          [
           11904.61414069775
          ],
          [
           4942.116802141295
          ]
         ],
         "hovertemplate": "source=survey (old weights)<br>pdpurp_label=Shop<br>tripsh1=%{x}<br>percentage=%{y}<br>toexpfac=%{customdata[0]}<extra></extra>",
         "legendgroup": "survey (old weights)",
         "marker": {
          "color": "#F05A28",
          "pattern": {
           "shape": ""
          }
         },
         "name": "survey (old weights)",
         "offsetgroup": "survey (old weights)",
         "orientation": "v",
         "showlegend": false,
         "textposition": "auto",
         "type": "bar",
         "x": [
          1.0,
          2.0,
          3.0,
          4.0,
          5.0
         ],
         "xaxis": "x3",
         "y": [
          0.6854072495594118,
          0.24801730861446933,
          0.044811069325011235,
          0.015140759749433965,
          0.006285579882766066
         ],
         "yaxis": "y3"
        },
        {
         "alignmentgroup": "True",
         "customdata": [
          [
           289830.9509650326
          ],
          [
           36752.320808616336
          ],
          [
           33968.08908535851
          ],
          [
           2860.9473959267007
          ],
          [
           3203.5413843209767
          ],
          [
           1223.026944949484
          ],
          [
           1517.937371837605
          ]
         ],
         "hovertemplate": "source=survey (old weights)<br>pdpurp_label=Meal<br>tripsh1=%{x}<br>percentage=%{y}<br>toexpfac=%{customdata[0]}<extra></extra>",
         "legendgroup": "survey (old weights)",
         "marker": {
          "color": "#F05A28",
          "pattern": {
           "shape": ""
          }
         },
         "name": "survey (old weights)",
         "offsetgroup": "survey (old weights)",
         "orientation": "v",
         "showlegend": false,
         "textposition": "auto",
         "type": "bar",
         "x": [
          1.0,
          2.0,
          3.0,
          4.0,
          5.0,
          6.0,
          7.0
         ],
         "xaxis": "x4",
         "y": [
          0.7846909546916492,
          0.09950356787783612,
          0.09196551356813769,
          0.007745755020150209,
          0.008673297102628342,
          0.0033112342827795738,
          0.004109677456818916
         ],
         "yaxis": "y4"
        },
        {
         "alignmentgroup": "True",
         "customdata": [
          [
           402780.1073738727
          ],
          [
           20483.17392819012
          ],
          [
           8987.796596247412
          ],
          [
           2474.826258285776
          ]
         ],
         "hovertemplate": "source=survey (old weights)<br>pdpurp_label=Escort<br>tripsh1=%{x}<br>percentage=%{y}<br>toexpfac=%{customdata[0]}<extra></extra>",
         "legendgroup": "survey (old weights)",
         "marker": {
          "color": "#F05A28",
          "pattern": {
           "shape": ""
          }
         },
         "name": "survey (old weights)",
         "offsetgroup": "survey (old weights)",
         "orientation": "v",
         "showlegend": false,
         "textposition": "auto",
         "type": "bar",
         "x": [
          1.0,
          2.0,
          3.0,
          4.0
         ],
         "xaxis": "x",
         "y": [
          0.926213597848095,
          0.04710211321773911,
          0.020667901094752958,
          0.005690990420756061
         ],
         "yaxis": "y"
        },
        {
         "alignmentgroup": "True",
         "customdata": [
          [
           633397.111364402
          ],
          [
           105348.40763126433
          ],
          [
           52717.07781645193
          ],
          [
           5668.88758581597
          ],
          [
           11321.027746467136
          ],
          [
           835.8211666967801
          ],
          [
           2011.7018634997485
          ]
         ],
         "hovertemplate": "source=survey (old weights)<br>pdpurp_label=Personal Business<br>tripsh1=%{x}<br>percentage=%{y}<br>toexpfac=%{customdata[0]}<extra></extra>",
         "legendgroup": "survey (old weights)",
         "marker": {
          "color": "#F05A28",
          "pattern": {
           "shape": ""
          }
         },
         "name": "survey (old weights)",
         "offsetgroup": "survey (old weights)",
         "orientation": "v",
         "showlegend": false,
         "textposition": "auto",
         "type": "bar",
         "x": [
          1.0,
          2.0,
          3.0,
          4.0,
          5.0,
          6.0,
          8.0
         ],
         "xaxis": "x2",
         "y": [
          0.7771844645290084,
          0.12926352884294096,
          0.06468437124074938,
          0.006955780637153596,
          0.013891012019463087,
          0.0010255607646867397,
          0.0024683779062525256
         ],
         "yaxis": "y2"
        }
       ],
       "layout": {
        "annotations": [
         {
          "font": {},
          "showarrow": false,
          "text": "Escort",
          "x": 0.245,
          "xanchor": "center",
          "xref": "paper",
          "y": 0.2866666666666666,
          "yanchor": "bottom",
          "yref": "paper"
         },
         {
          "font": {},
          "showarrow": false,
          "text": "Personal Business",
          "x": 0.755,
          "xanchor": "center",
          "xref": "paper",
          "y": 0.2866666666666666,
          "yanchor": "bottom",
          "yref": "paper"
         },
         {
          "font": {},
          "showarrow": false,
          "text": "Shop",
          "x": 0.245,
          "xanchor": "center",
          "xref": "paper",
          "y": 0.6433333333333333,
          "yanchor": "bottom",
          "yref": "paper"
         },
         {
          "font": {},
          "showarrow": false,
          "text": "Meal",
          "x": 0.755,
          "xanchor": "center",
          "xref": "paper",
          "y": 0.6433333333333333,
          "yanchor": "bottom",
          "yref": "paper"
         },
         {
          "font": {},
          "showarrow": false,
          "text": "Work",
          "x": 0.245,
          "xanchor": "center",
          "xref": "paper",
          "y": 0.9999999999999999,
          "yanchor": "bottom",
          "yref": "paper"
         },
         {
          "font": {},
          "showarrow": false,
          "text": "School",
          "x": 0.755,
          "xanchor": "center",
          "xref": "paper",
          "y": 0.9999999999999999,
          "yanchor": "bottom",
          "yref": "paper"
         }
        ],
        "barmode": "group",
        "height": 800,
        "legend": {
         "title": {
          "text": "source"
         },
         "tracegroupgap": 0
        },
        "template": {
         "data": {
          "bar": [
           {
            "error_x": {
             "color": "rgb(36,36,36)"
            },
            "error_y": {
             "color": "rgb(36,36,36)"
            },
            "marker": {
             "line": {
              "color": "white",
              "width": 0.5
             },
             "pattern": {
              "fillmode": "overlay",
              "size": 10,
              "solidity": 0.2
             }
            },
            "type": "bar"
           }
          ],
          "barpolar": [
           {
            "marker": {
             "line": {
              "color": "white",
              "width": 0.5
             },
             "pattern": {
              "fillmode": "overlay",
              "size": 10,
              "solidity": 0.2
             }
            },
            "type": "barpolar"
           }
          ],
          "carpet": [
           {
            "aaxis": {
             "endlinecolor": "rgb(36,36,36)",
             "gridcolor": "white",
             "linecolor": "white",
             "minorgridcolor": "white",
             "startlinecolor": "rgb(36,36,36)"
            },
            "baxis": {
             "endlinecolor": "rgb(36,36,36)",
             "gridcolor": "white",
             "linecolor": "white",
             "minorgridcolor": "white",
             "startlinecolor": "rgb(36,36,36)"
            },
            "type": "carpet"
           }
          ],
          "choropleth": [
           {
            "colorbar": {
             "outlinewidth": 1,
             "tickcolor": "rgb(36,36,36)",
             "ticks": "outside"
            },
            "type": "choropleth"
           }
          ],
          "contour": [
           {
            "colorbar": {
             "outlinewidth": 1,
             "tickcolor": "rgb(36,36,36)",
             "ticks": "outside"
            },
            "colorscale": [
             [
              0.0,
              "#440154"
             ],
             [
              0.1111111111111111,
              "#482878"
             ],
             [
              0.2222222222222222,
              "#3e4989"
             ],
             [
              0.3333333333333333,
              "#31688e"
             ],
             [
              0.4444444444444444,
              "#26828e"
             ],
             [
              0.5555555555555556,
              "#1f9e89"
             ],
             [
              0.6666666666666666,
              "#35b779"
             ],
             [
              0.7777777777777778,
              "#6ece58"
             ],
             [
              0.8888888888888888,
              "#b5de2b"
             ],
             [
              1.0,
              "#fde725"
             ]
            ],
            "type": "contour"
           }
          ],
          "contourcarpet": [
           {
            "colorbar": {
             "outlinewidth": 1,
             "tickcolor": "rgb(36,36,36)",
             "ticks": "outside"
            },
            "type": "contourcarpet"
           }
          ],
          "heatmap": [
           {
            "colorbar": {
             "outlinewidth": 1,
             "tickcolor": "rgb(36,36,36)",
             "ticks": "outside"
            },
            "colorscale": [
             [
              0.0,
              "#440154"
             ],
             [
              0.1111111111111111,
              "#482878"
             ],
             [
              0.2222222222222222,
              "#3e4989"
             ],
             [
              0.3333333333333333,
              "#31688e"
             ],
             [
              0.4444444444444444,
              "#26828e"
             ],
             [
              0.5555555555555556,
              "#1f9e89"
             ],
             [
              0.6666666666666666,
              "#35b779"
             ],
             [
              0.7777777777777778,
              "#6ece58"
             ],
             [
              0.8888888888888888,
              "#b5de2b"
             ],
             [
              1.0,
              "#fde725"
             ]
            ],
            "type": "heatmap"
           }
          ],
          "heatmapgl": [
           {
            "colorbar": {
             "outlinewidth": 1,
             "tickcolor": "rgb(36,36,36)",
             "ticks": "outside"
            },
            "colorscale": [
             [
              0.0,
              "#440154"
             ],
             [
              0.1111111111111111,
              "#482878"
             ],
             [
              0.2222222222222222,
              "#3e4989"
             ],
             [
              0.3333333333333333,
              "#31688e"
             ],
             [
              0.4444444444444444,
              "#26828e"
             ],
             [
              0.5555555555555556,
              "#1f9e89"
             ],
             [
              0.6666666666666666,
              "#35b779"
             ],
             [
              0.7777777777777778,
              "#6ece58"
             ],
             [
              0.8888888888888888,
              "#b5de2b"
             ],
             [
              1.0,
              "#fde725"
             ]
            ],
            "type": "heatmapgl"
           }
          ],
          "histogram": [
           {
            "marker": {
             "line": {
              "color": "white",
              "width": 0.6
             }
            },
            "type": "histogram"
           }
          ],
          "histogram2d": [
           {
            "colorbar": {
             "outlinewidth": 1,
             "tickcolor": "rgb(36,36,36)",
             "ticks": "outside"
            },
            "colorscale": [
             [
              0.0,
              "#440154"
             ],
             [
              0.1111111111111111,
              "#482878"
             ],
             [
              0.2222222222222222,
              "#3e4989"
             ],
             [
              0.3333333333333333,
              "#31688e"
             ],
             [
              0.4444444444444444,
              "#26828e"
             ],
             [
              0.5555555555555556,
              "#1f9e89"
             ],
             [
              0.6666666666666666,
              "#35b779"
             ],
             [
              0.7777777777777778,
              "#6ece58"
             ],
             [
              0.8888888888888888,
              "#b5de2b"
             ],
             [
              1.0,
              "#fde725"
             ]
            ],
            "type": "histogram2d"
           }
          ],
          "histogram2dcontour": [
           {
            "colorbar": {
             "outlinewidth": 1,
             "tickcolor": "rgb(36,36,36)",
             "ticks": "outside"
            },
            "colorscale": [
             [
              0.0,
              "#440154"
             ],
             [
              0.1111111111111111,
              "#482878"
             ],
             [
              0.2222222222222222,
              "#3e4989"
             ],
             [
              0.3333333333333333,
              "#31688e"
             ],
             [
              0.4444444444444444,
              "#26828e"
             ],
             [
              0.5555555555555556,
              "#1f9e89"
             ],
             [
              0.6666666666666666,
              "#35b779"
             ],
             [
              0.7777777777777778,
              "#6ece58"
             ],
             [
              0.8888888888888888,
              "#b5de2b"
             ],
             [
              1.0,
              "#fde725"
             ]
            ],
            "type": "histogram2dcontour"
           }
          ],
          "mesh3d": [
           {
            "colorbar": {
             "outlinewidth": 1,
             "tickcolor": "rgb(36,36,36)",
             "ticks": "outside"
            },
            "type": "mesh3d"
           }
          ],
          "parcoords": [
           {
            "line": {
             "colorbar": {
              "outlinewidth": 1,
              "tickcolor": "rgb(36,36,36)",
              "ticks": "outside"
             }
            },
            "type": "parcoords"
           }
          ],
          "pie": [
           {
            "automargin": true,
            "type": "pie"
           }
          ],
          "scatter": [
           {
            "fillpattern": {
             "fillmode": "overlay",
             "size": 10,
             "solidity": 0.2
            },
            "type": "scatter"
           }
          ],
          "scatter3d": [
           {
            "line": {
             "colorbar": {
              "outlinewidth": 1,
              "tickcolor": "rgb(36,36,36)",
              "ticks": "outside"
             }
            },
            "marker": {
             "colorbar": {
              "outlinewidth": 1,
              "tickcolor": "rgb(36,36,36)",
              "ticks": "outside"
             }
            },
            "type": "scatter3d"
           }
          ],
          "scattercarpet": [
           {
            "marker": {
             "colorbar": {
              "outlinewidth": 1,
              "tickcolor": "rgb(36,36,36)",
              "ticks": "outside"
             }
            },
            "type": "scattercarpet"
           }
          ],
          "scattergeo": [
           {
            "marker": {
             "colorbar": {
              "outlinewidth": 1,
              "tickcolor": "rgb(36,36,36)",
              "ticks": "outside"
             }
            },
            "type": "scattergeo"
           }
          ],
          "scattergl": [
           {
            "marker": {
             "colorbar": {
              "outlinewidth": 1,
              "tickcolor": "rgb(36,36,36)",
              "ticks": "outside"
             }
            },
            "type": "scattergl"
           }
          ],
          "scattermapbox": [
           {
            "marker": {
             "colorbar": {
              "outlinewidth": 1,
              "tickcolor": "rgb(36,36,36)",
              "ticks": "outside"
             }
            },
            "type": "scattermapbox"
           }
          ],
          "scatterpolar": [
           {
            "marker": {
             "colorbar": {
              "outlinewidth": 1,
              "tickcolor": "rgb(36,36,36)",
              "ticks": "outside"
             }
            },
            "type": "scatterpolar"
           }
          ],
          "scatterpolargl": [
           {
            "marker": {
             "colorbar": {
              "outlinewidth": 1,
              "tickcolor": "rgb(36,36,36)",
              "ticks": "outside"
             }
            },
            "type": "scatterpolargl"
           }
          ],
          "scatterternary": [
           {
            "marker": {
             "colorbar": {
              "outlinewidth": 1,
              "tickcolor": "rgb(36,36,36)",
              "ticks": "outside"
             }
            },
            "type": "scatterternary"
           }
          ],
          "surface": [
           {
            "colorbar": {
             "outlinewidth": 1,
             "tickcolor": "rgb(36,36,36)",
             "ticks": "outside"
            },
            "colorscale": [
             [
              0.0,
              "#440154"
             ],
             [
              0.1111111111111111,
              "#482878"
             ],
             [
              0.2222222222222222,
              "#3e4989"
             ],
             [
              0.3333333333333333,
              "#31688e"
             ],
             [
              0.4444444444444444,
              "#26828e"
             ],
             [
              0.5555555555555556,
              "#1f9e89"
             ],
             [
              0.6666666666666666,
              "#35b779"
             ],
             [
              0.7777777777777778,
              "#6ece58"
             ],
             [
              0.8888888888888888,
              "#b5de2b"
             ],
             [
              1.0,
              "#fde725"
             ]
            ],
            "type": "surface"
           }
          ],
          "table": [
           {
            "cells": {
             "fill": {
              "color": "rgb(237,237,237)"
             },
             "line": {
              "color": "white"
             }
            },
            "header": {
             "fill": {
              "color": "rgb(217,217,217)"
             },
             "line": {
              "color": "white"
             }
            },
            "type": "table"
           }
          ]
         },
         "layout": {
          "annotationdefaults": {
           "arrowhead": 0,
           "arrowwidth": 1
          },
          "autotypenumbers": "strict",
          "coloraxis": {
           "colorbar": {
            "outlinewidth": 1,
            "tickcolor": "rgb(36,36,36)",
            "ticks": "outside"
           }
          },
          "colorscale": {
           "diverging": [
            [
             0.0,
             "rgb(103,0,31)"
            ],
            [
             0.1,
             "rgb(178,24,43)"
            ],
            [
             0.2,
             "rgb(214,96,77)"
            ],
            [
             0.3,
             "rgb(244,165,130)"
            ],
            [
             0.4,
             "rgb(253,219,199)"
            ],
            [
             0.5,
             "rgb(247,247,247)"
            ],
            [
             0.6,
             "rgb(209,229,240)"
            ],
            [
             0.7,
             "rgb(146,197,222)"
            ],
            [
             0.8,
             "rgb(67,147,195)"
            ],
            [
             0.9,
             "rgb(33,102,172)"
            ],
            [
             1.0,
             "rgb(5,48,97)"
            ]
           ],
           "sequential": [
            [
             0.0,
             "#440154"
            ],
            [
             0.1111111111111111,
             "#482878"
            ],
            [
             0.2222222222222222,
             "#3e4989"
            ],
            [
             0.3333333333333333,
             "#31688e"
            ],
            [
             0.4444444444444444,
             "#26828e"
            ],
            [
             0.5555555555555556,
             "#1f9e89"
            ],
            [
             0.6666666666666666,
             "#35b779"
            ],
            [
             0.7777777777777778,
             "#6ece58"
            ],
            [
             0.8888888888888888,
             "#b5de2b"
            ],
            [
             1.0,
             "#fde725"
            ]
           ],
           "sequentialminus": [
            [
             0.0,
             "#440154"
            ],
            [
             0.1111111111111111,
             "#482878"
            ],
            [
             0.2222222222222222,
             "#3e4989"
            ],
            [
             0.3333333333333333,
             "#31688e"
            ],
            [
             0.4444444444444444,
             "#26828e"
            ],
            [
             0.5555555555555556,
             "#1f9e89"
            ],
            [
             0.6666666666666666,
             "#35b779"
            ],
            [
             0.7777777777777778,
             "#6ece58"
            ],
            [
             0.8888888888888888,
             "#b5de2b"
            ],
            [
             1.0,
             "#fde725"
            ]
           ]
          },
          "colorway": [
           "#91268F",
           "#8CC63E",
           "#00A7A0",
           "#F05A28",
           "#4C4C4C",
           "#630460",
           "#9f3913",
           "#588527",
           "#00716c",
           "#3e4040"
          ],
          "font": {
           "color": "rgb(36,36,36)",
           "family": "Poppins",
           "size": 11
          },
          "geo": {
           "bgcolor": "white",
           "lakecolor": "white",
           "landcolor": "white",
           "showlakes": true,
           "showland": true,
           "subunitcolor": "white"
          },
          "hoverlabel": {
           "align": "left"
          },
          "hovermode": "closest",
          "mapbox": {
           "style": "light"
          },
          "paper_bgcolor": "white",
          "plot_bgcolor": "white",
          "polar": {
           "angularaxis": {
            "gridcolor": "rgb(232,232,232)",
            "linecolor": "rgb(36,36,36)",
            "showgrid": false,
            "showline": true,
            "ticks": "outside"
           },
           "bgcolor": "white",
           "radialaxis": {
            "gridcolor": "rgb(232,232,232)",
            "linecolor": "rgb(36,36,36)",
            "showgrid": false,
            "showline": true,
            "ticks": "outside"
           }
          },
          "scene": {
           "xaxis": {
            "backgroundcolor": "white",
            "gridcolor": "rgb(232,232,232)",
            "gridwidth": 2,
            "linecolor": "rgb(36,36,36)",
            "showbackground": true,
            "showgrid": false,
            "showline": true,
            "ticks": "outside",
            "zeroline": false,
            "zerolinecolor": "rgb(36,36,36)"
           },
           "yaxis": {
            "backgroundcolor": "white",
            "gridcolor": "rgb(232,232,232)",
            "gridwidth": 2,
            "linecolor": "rgb(36,36,36)",
            "showbackground": true,
            "showgrid": false,
            "showline": true,
            "ticks": "outside",
            "zeroline": false,
            "zerolinecolor": "rgb(36,36,36)"
           },
           "zaxis": {
            "backgroundcolor": "white",
            "gridcolor": "rgb(232,232,232)",
            "gridwidth": 2,
            "linecolor": "rgb(36,36,36)",
            "showbackground": true,
            "showgrid": false,
            "showline": true,
            "ticks": "outside",
            "zeroline": false,
            "zerolinecolor": "rgb(36,36,36)"
           }
          },
          "shapedefaults": {
           "fillcolor": "black",
           "line": {
            "width": 0
           },
           "opacity": 0.3
          },
          "ternary": {
           "aaxis": {
            "gridcolor": "rgb(232,232,232)",
            "linecolor": "rgb(36,36,36)",
            "showgrid": false,
            "showline": true,
            "ticks": "outside"
           },
           "baxis": {
            "gridcolor": "rgb(232,232,232)",
            "linecolor": "rgb(36,36,36)",
            "showgrid": false,
            "showline": true,
            "ticks": "outside"
           },
           "bgcolor": "white",
           "caxis": {
            "gridcolor": "rgb(232,232,232)",
            "linecolor": "rgb(36,36,36)",
            "showgrid": false,
            "showline": true,
            "ticks": "outside"
           }
          },
          "title": {
           "x": 0.05
          },
          "xaxis": {
           "automargin": true,
           "gridcolor": "rgb(232,232,232)",
           "linecolor": "rgb(36,36,36)",
           "showgrid": false,
           "showline": true,
           "ticks": "outside",
           "title": {
            "standoff": 15
           },
           "zeroline": false,
           "zerolinecolor": "rgb(36,36,36)"
          },
          "yaxis": {
           "automargin": true,
           "gridcolor": "rgb(232,232,232)",
           "linecolor": "rgb(36,36,36)",
           "showgrid": false,
           "showline": true,
           "ticks": "outside",
           "title": {
            "standoff": 15
           },
           "zeroline": false,
           "zerolinecolor": "rgb(36,36,36)"
          }
         }
        },
        "title": {
         "text": "outbound: number of stops by purpose (excluding shares < 1%)"
        },
        "width": 800,
        "xaxis": {
         "anchor": "y",
         "categoryorder": "category ascending",
         "domain": [
          0.0,
          0.49
         ],
         "dtick": 1,
         "title": {
          "text": "tripsh1"
         }
        },
        "xaxis2": {
         "anchor": "y2",
         "categoryorder": "category ascending",
         "domain": [
          0.51,
          1.0
         ],
         "dtick": 1,
         "matches": "x",
         "title": {
          "text": "tripsh1"
         }
        },
        "xaxis3": {
         "anchor": "y3",
         "categoryorder": "category ascending",
         "domain": [
          0.0,
          0.49
         ],
         "dtick": 1,
         "matches": "x",
         "showticklabels": false
        },
        "xaxis4": {
         "anchor": "y4",
         "categoryorder": "category ascending",
         "domain": [
          0.51,
          1.0
         ],
         "dtick": 1,
         "matches": "x",
         "showticklabels": false
        },
        "xaxis5": {
         "anchor": "y5",
         "categoryorder": "category ascending",
         "domain": [
          0.0,
          0.49
         ],
         "dtick": 1,
         "matches": "x",
         "showticklabels": false
        },
        "xaxis6": {
         "anchor": "y6",
         "categoryorder": "category ascending",
         "domain": [
          0.51,
          1.0
         ],
         "dtick": 1,
         "matches": "x",
         "showticklabels": false
        },
        "yaxis": {
         "anchor": "x",
         "domain": [
          0.0,
          0.2866666666666666
         ],
         "title": {
          "text": "percentage"
         }
        },
        "yaxis2": {
         "anchor": "x2",
         "domain": [
          0.0,
          0.2866666666666666
         ],
         "matches": "y",
         "showticklabels": false
        },
        "yaxis3": {
         "anchor": "x3",
         "domain": [
          0.35666666666666663,
          0.6433333333333333
         ],
         "matches": "y",
         "title": {
          "text": "percentage"
         }
        },
        "yaxis4": {
         "anchor": "x4",
         "domain": [
          0.35666666666666663,
          0.6433333333333333
         ],
         "matches": "y",
         "showticklabels": false
        },
        "yaxis5": {
         "anchor": "x5",
         "domain": [
          0.7133333333333333,
          0.9999999999999999
         ],
         "matches": "y",
         "title": {
          "text": "percentage"
         }
        },
        "yaxis6": {
         "anchor": "x6",
         "domain": [
          0.7133333333333333,
          0.9999999999999999
         ],
         "matches": "y",
         "showticklabels": false
        }
       }
      },
      "text/html": [
       "<div>                            <div id=\"7da20972-f034-4def-8c03-1e903a4cc696\" class=\"plotly-graph-div\" style=\"height:800px; width:800px;\"></div>            <script type=\"text/javascript\">                require([\"plotly\"], function(Plotly) {                    window.PLOTLYENV=window.PLOTLYENV || {};                                    if (document.getElementById(\"7da20972-f034-4def-8c03-1e903a4cc696\")) {                    Plotly.newPlot(                        \"7da20972-f034-4def-8c03-1e903a4cc696\",                        [{\"alignmentgroup\":\"True\",\"customdata\":[[33527.0],[10812.0],[3153.0],[834.0],[344.0],[106.0],[50.0]],\"hovertemplate\":\"source=model\\u003cbr\\u003epdpurp_label=Work\\u003cbr\\u003etripsh1=%{x}\\u003cbr\\u003epercentage=%{y}\\u003cbr\\u003etoexpfac=%{customdata[0]}\\u003cextra\\u003e\\u003c\\u002fextra\\u003e\",\"legendgroup\":\"model\",\"marker\":{\"color\":\"#91268F\",\"pattern\":{\"shape\":\"\"}},\"name\":\"model\",\"offsetgroup\":\"model\",\"orientation\":\"v\",\"showlegend\":true,\"textposition\":\"auto\",\"x\":[1.0,2.0,3.0,4.0,5.0,6.0,7.0],\"xaxis\":\"x5\",\"y\":[0.6855676427286111,0.22108620971699655,0.06447325372157697,0.01705381972844757,0.007034189432357271,0.0021675118599705544,0.0010224112547030917],\"yaxis\":\"y5\",\"type\":\"bar\"},{\"alignmentgroup\":\"True\",\"customdata\":[[12968.0],[3189.0],[746.0],[168.0],[44.0]],\"hovertemplate\":\"source=model\\u003cbr\\u003epdpurp_label=School\\u003cbr\\u003etripsh1=%{x}\\u003cbr\\u003epercentage=%{y}\\u003cbr\\u003etoexpfac=%{customdata[0]}\\u003cextra\\u003e\\u003c\\u002fextra\\u003e\",\"legendgroup\":\"model\",\"marker\":{\"color\":\"#91268F\",\"pattern\":{\"shape\":\"\"}},\"name\":\"model\",\"offsetgroup\":\"model\",\"orientation\":\"v\",\"showlegend\":false,\"textposition\":\"auto\",\"x\":[1.0,2.0,3.0,4.0,5.0],\"xaxis\":\"x6\",\"y\":[0.7568135395389554,0.18611030055442077,0.04353662095126933,0.009804493726291217,0.002567843594981033],\"yaxis\":\"y6\",\"type\":\"bar\"},{\"alignmentgroup\":\"True\",\"customdata\":[[22704.0],[5380.0],[1344.0],[296.0],[79.0]],\"hovertemplate\":\"source=model\\u003cbr\\u003epdpurp_label=Shop\\u003cbr\\u003etripsh1=%{x}\\u003cbr\\u003epercentage=%{y}\\u003cbr\\u003etoexpfac=%{customdata[0]}\\u003cextra\\u003e\\u003c\\u002fextra\\u003e\",\"legendgroup\":\"model\",\"marker\":{\"color\":\"#91268F\",\"pattern\":{\"shape\":\"\"}},\"name\":\"model\",\"offsetgroup\":\"model\",\"orientation\":\"v\",\"showlegend\":false,\"textposition\":\"auto\",\"x\":[1.0,2.0,3.0,4.0,5.0],\"xaxis\":\"x3\",\"y\":[0.7613937422448774,0.1804218786679634,0.04507193400181093,0.009926556893255977,0.0026493175492135887],\"yaxis\":\"y3\",\"type\":\"bar\"},{\"alignmentgroup\":\"True\",\"customdata\":[[21889.0],[2978.0],[712.0],[145.0],[47.0]],\"hovertemplate\":\"source=model\\u003cbr\\u003epdpurp_label=Meal\\u003cbr\\u003etripsh1=%{x}\\u003cbr\\u003epercentage=%{y}\\u003cbr\\u003etoexpfac=%{customdata[0]}\\u003cextra\\u003e\\u003c\\u002fextra\\u003e\",\"legendgroup\":\"model\",\"marker\":{\"color\":\"#91268F\",\"pattern\":{\"shape\":\"\"}},\"name\":\"model\",\"offsetgroup\":\"model\",\"orientation\":\"v\",\"showlegend\":false,\"textposition\":\"auto\",\"x\":[1.0,2.0,3.0,4.0,5.0],\"xaxis\":\"x4\",\"y\":[0.8489373254731617,0.11549798324542351,0.027614024201054917,0.00562364256903506,0.0018228358672044678],\"yaxis\":\"y4\",\"type\":\"bar\"},{\"alignmentgroup\":\"True\",\"customdata\":[[16806.0],[4492.0],[1127.0],[273.0],[99.0]],\"hovertemplate\":\"source=model\\u003cbr\\u003epdpurp_label=Escort\\u003cbr\\u003etripsh1=%{x}\\u003cbr\\u003epercentage=%{y}\\u003cbr\\u003etoexpfac=%{customdata[0]}\\u003cextra\\u003e\\u003c\\u002fextra\\u003e\",\"legendgroup\":\"model\",\"marker\":{\"color\":\"#91268F\",\"pattern\":{\"shape\":\"\"}},\"name\":\"model\",\"offsetgroup\":\"model\",\"orientation\":\"v\",\"showlegend\":false,\"textposition\":\"auto\",\"x\":[1.0,2.0,3.0,4.0,5.0],\"xaxis\":\"x\",\"y\":[0.736426975154463,0.19683624731606852,0.049384338986021646,0.011962665965558039,0.004338109635861707],\"yaxis\":\"y\",\"type\":\"bar\"},{\"alignmentgroup\":\"True\",\"customdata\":[[13629.0],[2640.0],[491.0],[77.0],[30.0]],\"hovertemplate\":\"source=model\\u003cbr\\u003epdpurp_label=Personal Business\\u003cbr\\u003etripsh1=%{x}\\u003cbr\\u003epercentage=%{y}\\u003cbr\\u003etoexpfac=%{customdata[0]}\\u003cextra\\u003e\\u003c\\u002fextra\\u003e\",\"legendgroup\":\"model\",\"marker\":{\"color\":\"#91268F\",\"pattern\":{\"shape\":\"\"}},\"name\":\"model\",\"offsetgroup\":\"model\",\"orientation\":\"v\",\"showlegend\":false,\"textposition\":\"auto\",\"x\":[1.0,2.0,3.0,4.0,5.0],\"xaxis\":\"x2\",\"y\":[0.8077880512091038,0.15647226173541964,0.029101469890943574,0.0045637743006164055,0.0017780938833570413],\"yaxis\":\"y2\",\"type\":\"bar\"},{\"alignmentgroup\":\"True\",\"customdata\":[[1256319.4290023863],[250646.0968286075],[73167.7519699897],[26209.958185251526],[1805.2413974940373]],\"hovertemplate\":\"source=survey\\u003cbr\\u003epdpurp_label=Work\\u003cbr\\u003etripsh1=%{x}\\u003cbr\\u003epercentage=%{y}\\u003cbr\\u003etoexpfac=%{customdata[0]}\\u003cextra\\u003e\\u003c\\u002fextra\\u003e\",\"legendgroup\":\"survey\",\"marker\":{\"color\":\"#8CC63E\",\"pattern\":{\"shape\":\"\"}},\"name\":\"survey\",\"offsetgroup\":\"survey\",\"orientation\":\"v\",\"showlegend\":true,\"textposition\":\"auto\",\"x\":[1.0,2.0,3.0,4.0,6.0],\"xaxis\":\"x5\",\"y\":[0.7796051539975462,0.1555376637549233,0.04540402323278066,0.016264508862613034,0.0011202369916492082],\"yaxis\":\"y5\",\"type\":\"bar\"},{\"alignmentgroup\":\"True\",\"customdata\":[[494736.4509564791],[61670.92974952214],[11026.560337886654]],\"hovertemplate\":\"source=survey\\u003cbr\\u003epdpurp_label=School\\u003cbr\\u003etripsh1=%{x}\\u003cbr\\u003epercentage=%{y}\\u003cbr\\u003etoexpfac=%{customdata[0]}\\u003cextra\\u003e\\u003c\\u002fextra\\u003e\",\"legendgroup\":\"survey\",\"marker\":{\"color\":\"#8CC63E\",\"pattern\":{\"shape\":\"\"}},\"name\":\"survey\",\"offsetgroup\":\"survey\",\"orientation\":\"v\",\"showlegend\":false,\"textposition\":\"auto\",\"x\":[1.0,2.0,3.0],\"xaxis\":\"x6\",\"y\":[0.8718837827119228,0.10868389302914863,0.019432324258928692],\"yaxis\":\"y6\",\"type\":\"bar\"},{\"alignmentgroup\":\"True\",\"customdata\":[[594676.4628895561],[89325.7541931512],[47741.81241793999],[17946.201705555577],[2994.1859522079503],[1210.8147795409182],[3418.585778421111]],\"hovertemplate\":\"source=survey\\u003cbr\\u003epdpurp_label=Shop\\u003cbr\\u003etripsh1=%{x}\\u003cbr\\u003epercentage=%{y}\\u003cbr\\u003etoexpfac=%{customdata[0]}\\u003cextra\\u003e\\u003c\\u002fextra\\u003e\",\"legendgroup\":\"survey\",\"marker\":{\"color\":\"#8CC63E\",\"pattern\":{\"shape\":\"\"}},\"name\":\"survey\",\"offsetgroup\":\"survey\",\"orientation\":\"v\",\"showlegend\":false,\"textposition\":\"auto\",\"x\":[1.0,2.0,3.0,4.0,5.0,6.0,7.0],\"xaxis\":\"x3\",\"y\":[0.7852444376134079,0.11795077826852124,0.06304098948293603,0.023697179802781233,0.0039536924880582665,0.0015988283208565322,0.004514094023438816],\"yaxis\":\"y3\",\"type\":\"bar\"},{\"alignmentgroup\":\"True\",\"customdata\":[[286221.6969878001],[65952.61861624608],[48422.91110068868],[3954.4367630914203],[2636.846314791539]],\"hovertemplate\":\"source=survey\\u003cbr\\u003epdpurp_label=Meal\\u003cbr\\u003etripsh1=%{x}\\u003cbr\\u003epercentage=%{y}\\u003cbr\\u003etoexpfac=%{customdata[0]}\\u003cextra\\u003e\\u003c\\u002fextra\\u003e\",\"legendgroup\":\"survey\",\"marker\":{\"color\":\"#8CC63E\",\"pattern\":{\"shape\":\"\"}},\"name\":\"survey\",\"offsetgroup\":\"survey\",\"orientation\":\"v\",\"showlegend\":false,\"textposition\":\"auto\",\"x\":[1.0,2.0,3.0,4.0,5.0],\"xaxis\":\"x4\",\"y\":[0.7027921502728832,0.16194084215570362,0.11889819036456976,0.009709770940145104,0.006474543722625131],\"yaxis\":\"y4\",\"type\":\"bar\"},{\"alignmentgroup\":\"True\",\"customdata\":[[543509.7312299766],[55683.55425669049],[18872.474160256286],[3374.1616652898338],[9995.289078869531]],\"hovertemplate\":\"source=survey\\u003cbr\\u003epdpurp_label=Escort\\u003cbr\\u003etripsh1=%{x}\\u003cbr\\u003epercentage=%{y}\\u003cbr\\u003etoexpfac=%{customdata[0]}\\u003cextra\\u003e\\u003c\\u002fextra\\u003e\",\"legendgroup\":\"survey\",\"marker\":{\"color\":\"#8CC63E\",\"pattern\":{\"shape\":\"\"}},\"name\":\"survey\",\"offsetgroup\":\"survey\",\"orientation\":\"v\",\"showlegend\":false,\"textposition\":\"auto\",\"x\":[1.0,2.0,3.0,4.0,6.0],\"xaxis\":\"x\",\"y\":[0.8598363260680494,0.08809178559900446,0.02985639062808737,0.005337948160149608,0.01581261961973362],\"yaxis\":\"y\",\"type\":\"bar\"},{\"alignmentgroup\":\"True\",\"customdata\":[[342353.3119847543],[51101.23733602876],[3012.993829302262],[3997.1164581773164],[773.2845731930873]],\"hovertemplate\":\"source=survey\\u003cbr\\u003epdpurp_label=Personal Business\\u003cbr\\u003etripsh1=%{x}\\u003cbr\\u003epercentage=%{y}\\u003cbr\\u003etoexpfac=%{customdata[0]}\\u003cextra\\u003e\\u003c\\u002fextra\\u003e\",\"legendgroup\":\"survey\",\"marker\":{\"color\":\"#8CC63E\",\"pattern\":{\"shape\":\"\"}},\"name\":\"survey\",\"offsetgroup\":\"survey\",\"orientation\":\"v\",\"showlegend\":false,\"textposition\":\"auto\",\"x\":[1.0,2.0,3.0,4.0,6.0],\"xaxis\":\"x2\",\"y\":[0.8527463223964592,0.12728485655820881,0.007504876738143389,0.009956165868939675,0.001926125884786784],\"yaxis\":\"y2\",\"type\":\"bar\"},{\"alignmentgroup\":\"True\",\"customdata\":[[1033755.174857432],[195517.5606858629],[74949.17060300654],[21040.87442959797],[1950.3517922150552],[2079.3421671354363]],\"hovertemplate\":\"source=survey (2017\\u002f2019)\\u003cbr\\u003epdpurp_label=Work\\u003cbr\\u003etripsh1=%{x}\\u003cbr\\u003epercentage=%{y}\\u003cbr\\u003etoexpfac=%{customdata[0]}\\u003cextra\\u003e\\u003c\\u002fextra\\u003e\",\"legendgroup\":\"survey (2017\\u002f2019)\",\"marker\":{\"color\":\"#00A7A0\",\"pattern\":{\"shape\":\"\"}},\"name\":\"survey (2017\\u002f2019)\",\"offsetgroup\":\"survey (2017\\u002f2019)\",\"orientation\":\"v\",\"showlegend\":true,\"textposition\":\"auto\",\"x\":[1.0,2.0,3.0,4.0,5.0,6.0],\"xaxis\":\"x5\",\"y\":[0.7734291047607675,0.14628122364381974,0.05607504690850993,0.015742242524408184,0.0014592031820585413,0.0015557104718152141],\"yaxis\":\"y5\",\"type\":\"bar\"},{\"alignmentgroup\":\"True\",\"customdata\":[[443499.1756799964],[62917.073750133335],[13495.780005012644]],\"hovertemplate\":\"source=survey (2017\\u002f2019)\\u003cbr\\u003epdpurp_label=School\\u003cbr\\u003etripsh1=%{x}\\u003cbr\\u003epercentage=%{y}\\u003cbr\\u003etoexpfac=%{customdata[0]}\\u003cextra\\u003e\\u003c\\u002fextra\\u003e\",\"legendgroup\":\"survey (2017\\u002f2019)\",\"marker\":{\"color\":\"#00A7A0\",\"pattern\":{\"shape\":\"\"}},\"name\":\"survey (2017\\u002f2019)\",\"offsetgroup\":\"survey (2017\\u002f2019)\",\"orientation\":\"v\",\"showlegend\":false,\"textposition\":\"auto\",\"x\":[1.0,2.0,3.0],\"xaxis\":\"x6\",\"y\":[0.8530273403403176,0.12101484518157715,0.025957814478105294],\"yaxis\":\"y6\",\"type\":\"bar\"},{\"alignmentgroup\":\"True\",\"customdata\":[[441090.9675050361],[98379.88788012492],[44172.03307680473],[6058.896019820784],[10652.480458341015],[935.0923009378721]],\"hovertemplate\":\"source=survey (2017\\u002f2019)\\u003cbr\\u003epdpurp_label=Shop\\u003cbr\\u003etripsh1=%{x}\\u003cbr\\u003epercentage=%{y}\\u003cbr\\u003etoexpfac=%{customdata[0]}\\u003cextra\\u003e\\u003c\\u002fextra\\u003e\",\"legendgroup\":\"survey (2017\\u002f2019)\",\"marker\":{\"color\":\"#00A7A0\",\"pattern\":{\"shape\":\"\"}},\"name\":\"survey (2017\\u002f2019)\",\"offsetgroup\":\"survey (2017\\u002f2019)\",\"orientation\":\"v\",\"showlegend\":false,\"textposition\":\"auto\",\"x\":[1.0,2.0,3.0,4.0,5.0,6.0],\"xaxis\":\"x3\",\"y\":[0.7334853931901225,0.1635948501777691,0.07345319545446664,0.010075272578202538,0.017713894396051415,0.0015549548609032457],\"yaxis\":\"y3\",\"type\":\"bar\"},{\"alignmentgroup\":\"True\",\"customdata\":[[298986.47588558303],[64064.109354006185],[28149.24270133641],[2793.4648497190838],[4037.6933827163125]],\"hovertemplate\":\"source=survey (2017\\u002f2019)\\u003cbr\\u003epdpurp_label=Meal\\u003cbr\\u003etripsh1=%{x}\\u003cbr\\u003epercentage=%{y}\\u003cbr\\u003etoexpfac=%{customdata[0]}\\u003cextra\\u003e\\u003c\\u002fextra\\u003e\",\"legendgroup\":\"survey (2017\\u002f2019)\",\"marker\":{\"color\":\"#00A7A0\",\"pattern\":{\"shape\":\"\"}},\"name\":\"survey (2017\\u002f2019)\",\"offsetgroup\":\"survey (2017\\u002f2019)\",\"orientation\":\"v\",\"showlegend\":false,\"textposition\":\"auto\",\"x\":[1.0,2.0,3.0,4.0,5.0],\"xaxis\":\"x4\",\"y\":[0.7508558202166519,0.16088657265507805,0.07069223667855112,0.007015331829874746,0.0101400090679118],\"yaxis\":\"y4\",\"type\":\"bar\"},{\"alignmentgroup\":\"True\",\"customdata\":[[555537.5253389779],[72399.78482700436],[13249.202904553285],[4888.69218355646],[903.3096346831645],[8657.342276999781],[4796.396875316257]],\"hovertemplate\":\"source=survey (2017\\u002f2019)\\u003cbr\\u003epdpurp_label=Escort\\u003cbr\\u003etripsh1=%{x}\\u003cbr\\u003epercentage=%{y}\\u003cbr\\u003etoexpfac=%{customdata[0]}\\u003cextra\\u003e\\u003c\\u002fextra\\u003e\",\"legendgroup\":\"survey (2017\\u002f2019)\",\"marker\":{\"color\":\"#00A7A0\",\"pattern\":{\"shape\":\"\"}},\"name\":\"survey (2017\\u002f2019)\",\"offsetgroup\":\"survey (2017\\u002f2019)\",\"orientation\":\"v\",\"showlegend\":false,\"textposition\":\"auto\",\"x\":[1.0,2.0,3.0,4.0,5.0,6.0,8.0],\"xaxis\":\"x\",\"y\":[0.8411575831317054,0.10962288818775791,0.020061052557728408,0.007402129134815966,0.001367730737299958,0.013108365814931447,0.007262381782256202],\"yaxis\":\"y\",\"type\":\"bar\"},{\"alignmentgroup\":\"True\",\"customdata\":[[238749.71570336376],[59700.45238949424],[3911.764715943108],[3812.0377803833703]],\"hovertemplate\":\"source=survey (2017\\u002f2019)\\u003cbr\\u003epdpurp_label=Personal Business\\u003cbr\\u003etripsh1=%{x}\\u003cbr\\u003epercentage=%{y}\\u003cbr\\u003etoexpfac=%{customdata[0]}\\u003cextra\\u003e\\u003c\\u002fextra\\u003e\",\"legendgroup\":\"survey (2017\\u002f2019)\",\"marker\":{\"color\":\"#00A7A0\",\"pattern\":{\"shape\":\"\"}},\"name\":\"survey (2017\\u002f2019)\",\"offsetgroup\":\"survey (2017\\u002f2019)\",\"orientation\":\"v\",\"showlegend\":false,\"textposition\":\"auto\",\"x\":[1.0,2.0,3.0,4.0],\"xaxis\":\"x2\",\"y\":[0.7787436904920466,0.1947284020040592,0.012759228140882721,0.01243394305473944],\"yaxis\":\"y2\",\"type\":\"bar\"},{\"alignmentgroup\":\"True\",\"customdata\":[[1258915.0665718734],[232464.3369884023],[82134.71146928515],[30699.000712941073],[22304.075320252603],[5519.830244332279]],\"hovertemplate\":\"source=survey (old weights)\\u003cbr\\u003epdpurp_label=Work\\u003cbr\\u003etripsh1=%{x}\\u003cbr\\u003epercentage=%{y}\\u003cbr\\u003etoexpfac=%{customdata[0]}\\u003cextra\\u003e\\u003c\\u002fextra\\u003e\",\"legendgroup\":\"survey (old weights)\",\"marker\":{\"color\":\"#F05A28\",\"pattern\":{\"shape\":\"\"}},\"name\":\"survey (old weights)\",\"offsetgroup\":\"survey (old weights)\",\"orientation\":\"v\",\"showlegend\":true,\"textposition\":\"auto\",\"x\":[1.0,2.0,3.0,4.0,5.0,6.0],\"xaxis\":\"x5\",\"y\":[0.7699703467334574,0.14217849234383165,0.05023475685382738,0.01877594513796726,0.013641489457004276,0.0033760066266517313],\"yaxis\":\"y5\",\"type\":\"bar\"},{\"alignmentgroup\":\"True\",\"customdata\":[[471336.7454971676],[45307.33608781769],[7590.821229421418],[669.9777518683319]],\"hovertemplate\":\"source=survey (old weights)\\u003cbr\\u003epdpurp_label=School\\u003cbr\\u003etripsh1=%{x}\\u003cbr\\u003epercentage=%{y}\\u003cbr\\u003etoexpfac=%{customdata[0]}\\u003cextra\\u003e\\u003c\\u002fextra\\u003e\",\"legendgroup\":\"survey (old weights)\",\"marker\":{\"color\":\"#F05A28\",\"pattern\":{\"shape\":\"\"}},\"name\":\"survey (old weights)\",\"offsetgroup\":\"survey (old weights)\",\"orientation\":\"v\",\"showlegend\":false,\"textposition\":\"auto\",\"x\":[1.0,2.0,3.0,4.0],\"xaxis\":\"x6\",\"y\":[0.8971927795871395,0.08624282996955973,0.014449181107214559,0.0012753073194542686],\"yaxis\":\"y6\",\"type\":\"bar\"},{\"alignmentgroup\":\"True\",\"customdata\":[[538910.1320062071],[195006.75052848586],[35233.270877721916],[11904.61414069775],[4942.116802141295]],\"hovertemplate\":\"source=survey (old weights)\\u003cbr\\u003epdpurp_label=Shop\\u003cbr\\u003etripsh1=%{x}\\u003cbr\\u003epercentage=%{y}\\u003cbr\\u003etoexpfac=%{customdata[0]}\\u003cextra\\u003e\\u003c\\u002fextra\\u003e\",\"legendgroup\":\"survey (old weights)\",\"marker\":{\"color\":\"#F05A28\",\"pattern\":{\"shape\":\"\"}},\"name\":\"survey (old weights)\",\"offsetgroup\":\"survey (old weights)\",\"orientation\":\"v\",\"showlegend\":false,\"textposition\":\"auto\",\"x\":[1.0,2.0,3.0,4.0,5.0],\"xaxis\":\"x3\",\"y\":[0.6854072495594118,0.24801730861446933,0.044811069325011235,0.015140759749433965,0.006285579882766066],\"yaxis\":\"y3\",\"type\":\"bar\"},{\"alignmentgroup\":\"True\",\"customdata\":[[289830.9509650326],[36752.320808616336],[33968.08908535851],[2860.9473959267007],[3203.5413843209767],[1223.026944949484],[1517.937371837605]],\"hovertemplate\":\"source=survey (old weights)\\u003cbr\\u003epdpurp_label=Meal\\u003cbr\\u003etripsh1=%{x}\\u003cbr\\u003epercentage=%{y}\\u003cbr\\u003etoexpfac=%{customdata[0]}\\u003cextra\\u003e\\u003c\\u002fextra\\u003e\",\"legendgroup\":\"survey (old weights)\",\"marker\":{\"color\":\"#F05A28\",\"pattern\":{\"shape\":\"\"}},\"name\":\"survey (old weights)\",\"offsetgroup\":\"survey (old weights)\",\"orientation\":\"v\",\"showlegend\":false,\"textposition\":\"auto\",\"x\":[1.0,2.0,3.0,4.0,5.0,6.0,7.0],\"xaxis\":\"x4\",\"y\":[0.7846909546916492,0.09950356787783612,0.09196551356813769,0.007745755020150209,0.008673297102628342,0.0033112342827795738,0.004109677456818916],\"yaxis\":\"y4\",\"type\":\"bar\"},{\"alignmentgroup\":\"True\",\"customdata\":[[402780.1073738727],[20483.17392819012],[8987.796596247412],[2474.826258285776]],\"hovertemplate\":\"source=survey (old weights)\\u003cbr\\u003epdpurp_label=Escort\\u003cbr\\u003etripsh1=%{x}\\u003cbr\\u003epercentage=%{y}\\u003cbr\\u003etoexpfac=%{customdata[0]}\\u003cextra\\u003e\\u003c\\u002fextra\\u003e\",\"legendgroup\":\"survey (old weights)\",\"marker\":{\"color\":\"#F05A28\",\"pattern\":{\"shape\":\"\"}},\"name\":\"survey (old weights)\",\"offsetgroup\":\"survey (old weights)\",\"orientation\":\"v\",\"showlegend\":false,\"textposition\":\"auto\",\"x\":[1.0,2.0,3.0,4.0],\"xaxis\":\"x\",\"y\":[0.926213597848095,0.04710211321773911,0.020667901094752958,0.005690990420756061],\"yaxis\":\"y\",\"type\":\"bar\"},{\"alignmentgroup\":\"True\",\"customdata\":[[633397.111364402],[105348.40763126433],[52717.07781645193],[5668.88758581597],[11321.027746467136],[835.8211666967801],[2011.7018634997485]],\"hovertemplate\":\"source=survey (old weights)\\u003cbr\\u003epdpurp_label=Personal Business\\u003cbr\\u003etripsh1=%{x}\\u003cbr\\u003epercentage=%{y}\\u003cbr\\u003etoexpfac=%{customdata[0]}\\u003cextra\\u003e\\u003c\\u002fextra\\u003e\",\"legendgroup\":\"survey (old weights)\",\"marker\":{\"color\":\"#F05A28\",\"pattern\":{\"shape\":\"\"}},\"name\":\"survey (old weights)\",\"offsetgroup\":\"survey (old weights)\",\"orientation\":\"v\",\"showlegend\":false,\"textposition\":\"auto\",\"x\":[1.0,2.0,3.0,4.0,5.0,6.0,8.0],\"xaxis\":\"x2\",\"y\":[0.7771844645290084,0.12926352884294096,0.06468437124074938,0.006955780637153596,0.013891012019463087,0.0010255607646867397,0.0024683779062525256],\"yaxis\":\"y2\",\"type\":\"bar\"}],                        {\"template\":{\"data\":{\"barpolar\":[{\"marker\":{\"line\":{\"color\":\"white\",\"width\":0.5},\"pattern\":{\"fillmode\":\"overlay\",\"size\":10,\"solidity\":0.2}},\"type\":\"barpolar\"}],\"bar\":[{\"error_x\":{\"color\":\"rgb(36,36,36)\"},\"error_y\":{\"color\":\"rgb(36,36,36)\"},\"marker\":{\"line\":{\"color\":\"white\",\"width\":0.5},\"pattern\":{\"fillmode\":\"overlay\",\"size\":10,\"solidity\":0.2}},\"type\":\"bar\"}],\"carpet\":[{\"aaxis\":{\"endlinecolor\":\"rgb(36,36,36)\",\"gridcolor\":\"white\",\"linecolor\":\"white\",\"minorgridcolor\":\"white\",\"startlinecolor\":\"rgb(36,36,36)\"},\"baxis\":{\"endlinecolor\":\"rgb(36,36,36)\",\"gridcolor\":\"white\",\"linecolor\":\"white\",\"minorgridcolor\":\"white\",\"startlinecolor\":\"rgb(36,36,36)\"},\"type\":\"carpet\"}],\"choropleth\":[{\"colorbar\":{\"outlinewidth\":1,\"tickcolor\":\"rgb(36,36,36)\",\"ticks\":\"outside\"},\"type\":\"choropleth\"}],\"contourcarpet\":[{\"colorbar\":{\"outlinewidth\":1,\"tickcolor\":\"rgb(36,36,36)\",\"ticks\":\"outside\"},\"type\":\"contourcarpet\"}],\"contour\":[{\"colorbar\":{\"outlinewidth\":1,\"tickcolor\":\"rgb(36,36,36)\",\"ticks\":\"outside\"},\"colorscale\":[[0.0,\"#440154\"],[0.1111111111111111,\"#482878\"],[0.2222222222222222,\"#3e4989\"],[0.3333333333333333,\"#31688e\"],[0.4444444444444444,\"#26828e\"],[0.5555555555555556,\"#1f9e89\"],[0.6666666666666666,\"#35b779\"],[0.7777777777777778,\"#6ece58\"],[0.8888888888888888,\"#b5de2b\"],[1.0,\"#fde725\"]],\"type\":\"contour\"}],\"heatmapgl\":[{\"colorbar\":{\"outlinewidth\":1,\"tickcolor\":\"rgb(36,36,36)\",\"ticks\":\"outside\"},\"colorscale\":[[0.0,\"#440154\"],[0.1111111111111111,\"#482878\"],[0.2222222222222222,\"#3e4989\"],[0.3333333333333333,\"#31688e\"],[0.4444444444444444,\"#26828e\"],[0.5555555555555556,\"#1f9e89\"],[0.6666666666666666,\"#35b779\"],[0.7777777777777778,\"#6ece58\"],[0.8888888888888888,\"#b5de2b\"],[1.0,\"#fde725\"]],\"type\":\"heatmapgl\"}],\"heatmap\":[{\"colorbar\":{\"outlinewidth\":1,\"tickcolor\":\"rgb(36,36,36)\",\"ticks\":\"outside\"},\"colorscale\":[[0.0,\"#440154\"],[0.1111111111111111,\"#482878\"],[0.2222222222222222,\"#3e4989\"],[0.3333333333333333,\"#31688e\"],[0.4444444444444444,\"#26828e\"],[0.5555555555555556,\"#1f9e89\"],[0.6666666666666666,\"#35b779\"],[0.7777777777777778,\"#6ece58\"],[0.8888888888888888,\"#b5de2b\"],[1.0,\"#fde725\"]],\"type\":\"heatmap\"}],\"histogram2dcontour\":[{\"colorbar\":{\"outlinewidth\":1,\"tickcolor\":\"rgb(36,36,36)\",\"ticks\":\"outside\"},\"colorscale\":[[0.0,\"#440154\"],[0.1111111111111111,\"#482878\"],[0.2222222222222222,\"#3e4989\"],[0.3333333333333333,\"#31688e\"],[0.4444444444444444,\"#26828e\"],[0.5555555555555556,\"#1f9e89\"],[0.6666666666666666,\"#35b779\"],[0.7777777777777778,\"#6ece58\"],[0.8888888888888888,\"#b5de2b\"],[1.0,\"#fde725\"]],\"type\":\"histogram2dcontour\"}],\"histogram2d\":[{\"colorbar\":{\"outlinewidth\":1,\"tickcolor\":\"rgb(36,36,36)\",\"ticks\":\"outside\"},\"colorscale\":[[0.0,\"#440154\"],[0.1111111111111111,\"#482878\"],[0.2222222222222222,\"#3e4989\"],[0.3333333333333333,\"#31688e\"],[0.4444444444444444,\"#26828e\"],[0.5555555555555556,\"#1f9e89\"],[0.6666666666666666,\"#35b779\"],[0.7777777777777778,\"#6ece58\"],[0.8888888888888888,\"#b5de2b\"],[1.0,\"#fde725\"]],\"type\":\"histogram2d\"}],\"histogram\":[{\"marker\":{\"line\":{\"color\":\"white\",\"width\":0.6}},\"type\":\"histogram\"}],\"mesh3d\":[{\"colorbar\":{\"outlinewidth\":1,\"tickcolor\":\"rgb(36,36,36)\",\"ticks\":\"outside\"},\"type\":\"mesh3d\"}],\"parcoords\":[{\"line\":{\"colorbar\":{\"outlinewidth\":1,\"tickcolor\":\"rgb(36,36,36)\",\"ticks\":\"outside\"}},\"type\":\"parcoords\"}],\"pie\":[{\"automargin\":true,\"type\":\"pie\"}],\"scatter3d\":[{\"line\":{\"colorbar\":{\"outlinewidth\":1,\"tickcolor\":\"rgb(36,36,36)\",\"ticks\":\"outside\"}},\"marker\":{\"colorbar\":{\"outlinewidth\":1,\"tickcolor\":\"rgb(36,36,36)\",\"ticks\":\"outside\"}},\"type\":\"scatter3d\"}],\"scattercarpet\":[{\"marker\":{\"colorbar\":{\"outlinewidth\":1,\"tickcolor\":\"rgb(36,36,36)\",\"ticks\":\"outside\"}},\"type\":\"scattercarpet\"}],\"scattergeo\":[{\"marker\":{\"colorbar\":{\"outlinewidth\":1,\"tickcolor\":\"rgb(36,36,36)\",\"ticks\":\"outside\"}},\"type\":\"scattergeo\"}],\"scattergl\":[{\"marker\":{\"colorbar\":{\"outlinewidth\":1,\"tickcolor\":\"rgb(36,36,36)\",\"ticks\":\"outside\"}},\"type\":\"scattergl\"}],\"scattermapbox\":[{\"marker\":{\"colorbar\":{\"outlinewidth\":1,\"tickcolor\":\"rgb(36,36,36)\",\"ticks\":\"outside\"}},\"type\":\"scattermapbox\"}],\"scatterpolargl\":[{\"marker\":{\"colorbar\":{\"outlinewidth\":1,\"tickcolor\":\"rgb(36,36,36)\",\"ticks\":\"outside\"}},\"type\":\"scatterpolargl\"}],\"scatterpolar\":[{\"marker\":{\"colorbar\":{\"outlinewidth\":1,\"tickcolor\":\"rgb(36,36,36)\",\"ticks\":\"outside\"}},\"type\":\"scatterpolar\"}],\"scatter\":[{\"fillpattern\":{\"fillmode\":\"overlay\",\"size\":10,\"solidity\":0.2},\"type\":\"scatter\"}],\"scatterternary\":[{\"marker\":{\"colorbar\":{\"outlinewidth\":1,\"tickcolor\":\"rgb(36,36,36)\",\"ticks\":\"outside\"}},\"type\":\"scatterternary\"}],\"surface\":[{\"colorbar\":{\"outlinewidth\":1,\"tickcolor\":\"rgb(36,36,36)\",\"ticks\":\"outside\"},\"colorscale\":[[0.0,\"#440154\"],[0.1111111111111111,\"#482878\"],[0.2222222222222222,\"#3e4989\"],[0.3333333333333333,\"#31688e\"],[0.4444444444444444,\"#26828e\"],[0.5555555555555556,\"#1f9e89\"],[0.6666666666666666,\"#35b779\"],[0.7777777777777778,\"#6ece58\"],[0.8888888888888888,\"#b5de2b\"],[1.0,\"#fde725\"]],\"type\":\"surface\"}],\"table\":[{\"cells\":{\"fill\":{\"color\":\"rgb(237,237,237)\"},\"line\":{\"color\":\"white\"}},\"header\":{\"fill\":{\"color\":\"rgb(217,217,217)\"},\"line\":{\"color\":\"white\"}},\"type\":\"table\"}]},\"layout\":{\"annotationdefaults\":{\"arrowhead\":0,\"arrowwidth\":1},\"autotypenumbers\":\"strict\",\"coloraxis\":{\"colorbar\":{\"outlinewidth\":1,\"tickcolor\":\"rgb(36,36,36)\",\"ticks\":\"outside\"}},\"colorscale\":{\"diverging\":[[0.0,\"rgb(103,0,31)\"],[0.1,\"rgb(178,24,43)\"],[0.2,\"rgb(214,96,77)\"],[0.3,\"rgb(244,165,130)\"],[0.4,\"rgb(253,219,199)\"],[0.5,\"rgb(247,247,247)\"],[0.6,\"rgb(209,229,240)\"],[0.7,\"rgb(146,197,222)\"],[0.8,\"rgb(67,147,195)\"],[0.9,\"rgb(33,102,172)\"],[1.0,\"rgb(5,48,97)\"]],\"sequential\":[[0.0,\"#440154\"],[0.1111111111111111,\"#482878\"],[0.2222222222222222,\"#3e4989\"],[0.3333333333333333,\"#31688e\"],[0.4444444444444444,\"#26828e\"],[0.5555555555555556,\"#1f9e89\"],[0.6666666666666666,\"#35b779\"],[0.7777777777777778,\"#6ece58\"],[0.8888888888888888,\"#b5de2b\"],[1.0,\"#fde725\"]],\"sequentialminus\":[[0.0,\"#440154\"],[0.1111111111111111,\"#482878\"],[0.2222222222222222,\"#3e4989\"],[0.3333333333333333,\"#31688e\"],[0.4444444444444444,\"#26828e\"],[0.5555555555555556,\"#1f9e89\"],[0.6666666666666666,\"#35b779\"],[0.7777777777777778,\"#6ece58\"],[0.8888888888888888,\"#b5de2b\"],[1.0,\"#fde725\"]]},\"colorway\":[\"#91268F\",\"#8CC63E\",\"#00A7A0\",\"#F05A28\",\"#4C4C4C\",\"#630460\",\"#9f3913\",\"#588527\",\"#00716c\",\"#3e4040\"],\"font\":{\"color\":\"rgb(36,36,36)\",\"family\":\"Poppins\",\"size\":11},\"geo\":{\"bgcolor\":\"white\",\"lakecolor\":\"white\",\"landcolor\":\"white\",\"showlakes\":true,\"showland\":true,\"subunitcolor\":\"white\"},\"hoverlabel\":{\"align\":\"left\"},\"hovermode\":\"closest\",\"mapbox\":{\"style\":\"light\"},\"paper_bgcolor\":\"white\",\"plot_bgcolor\":\"white\",\"polar\":{\"angularaxis\":{\"gridcolor\":\"rgb(232,232,232)\",\"linecolor\":\"rgb(36,36,36)\",\"showgrid\":false,\"showline\":true,\"ticks\":\"outside\"},\"bgcolor\":\"white\",\"radialaxis\":{\"gridcolor\":\"rgb(232,232,232)\",\"linecolor\":\"rgb(36,36,36)\",\"showgrid\":false,\"showline\":true,\"ticks\":\"outside\"}},\"scene\":{\"xaxis\":{\"backgroundcolor\":\"white\",\"gridcolor\":\"rgb(232,232,232)\",\"gridwidth\":2,\"linecolor\":\"rgb(36,36,36)\",\"showbackground\":true,\"showgrid\":false,\"showline\":true,\"ticks\":\"outside\",\"zeroline\":false,\"zerolinecolor\":\"rgb(36,36,36)\"},\"yaxis\":{\"backgroundcolor\":\"white\",\"gridcolor\":\"rgb(232,232,232)\",\"gridwidth\":2,\"linecolor\":\"rgb(36,36,36)\",\"showbackground\":true,\"showgrid\":false,\"showline\":true,\"ticks\":\"outside\",\"zeroline\":false,\"zerolinecolor\":\"rgb(36,36,36)\"},\"zaxis\":{\"backgroundcolor\":\"white\",\"gridcolor\":\"rgb(232,232,232)\",\"gridwidth\":2,\"linecolor\":\"rgb(36,36,36)\",\"showbackground\":true,\"showgrid\":false,\"showline\":true,\"ticks\":\"outside\",\"zeroline\":false,\"zerolinecolor\":\"rgb(36,36,36)\"}},\"shapedefaults\":{\"fillcolor\":\"black\",\"line\":{\"width\":0},\"opacity\":0.3},\"ternary\":{\"aaxis\":{\"gridcolor\":\"rgb(232,232,232)\",\"linecolor\":\"rgb(36,36,36)\",\"showgrid\":false,\"showline\":true,\"ticks\":\"outside\"},\"baxis\":{\"gridcolor\":\"rgb(232,232,232)\",\"linecolor\":\"rgb(36,36,36)\",\"showgrid\":false,\"showline\":true,\"ticks\":\"outside\"},\"bgcolor\":\"white\",\"caxis\":{\"gridcolor\":\"rgb(232,232,232)\",\"linecolor\":\"rgb(36,36,36)\",\"showgrid\":false,\"showline\":true,\"ticks\":\"outside\"}},\"title\":{\"x\":0.05},\"xaxis\":{\"automargin\":true,\"gridcolor\":\"rgb(232,232,232)\",\"linecolor\":\"rgb(36,36,36)\",\"showgrid\":false,\"showline\":true,\"ticks\":\"outside\",\"title\":{\"standoff\":15},\"zeroline\":false,\"zerolinecolor\":\"rgb(36,36,36)\"},\"yaxis\":{\"automargin\":true,\"gridcolor\":\"rgb(232,232,232)\",\"linecolor\":\"rgb(36,36,36)\",\"showgrid\":false,\"showline\":true,\"ticks\":\"outside\",\"title\":{\"standoff\":15},\"zeroline\":false,\"zerolinecolor\":\"rgb(36,36,36)\"}}},\"xaxis\":{\"anchor\":\"y\",\"domain\":[0.0,0.49],\"title\":{\"text\":\"tripsh1\"},\"dtick\":1,\"categoryorder\":\"category ascending\"},\"yaxis\":{\"anchor\":\"x\",\"domain\":[0.0,0.2866666666666666],\"title\":{\"text\":\"percentage\"}},\"xaxis2\":{\"anchor\":\"y2\",\"domain\":[0.51,1.0],\"matches\":\"x\",\"title\":{\"text\":\"tripsh1\"},\"dtick\":1,\"categoryorder\":\"category ascending\"},\"yaxis2\":{\"anchor\":\"x2\",\"domain\":[0.0,0.2866666666666666],\"matches\":\"y\",\"showticklabels\":false},\"xaxis3\":{\"anchor\":\"y3\",\"domain\":[0.0,0.49],\"matches\":\"x\",\"showticklabels\":false,\"dtick\":1,\"categoryorder\":\"category ascending\"},\"yaxis3\":{\"anchor\":\"x3\",\"domain\":[0.35666666666666663,0.6433333333333333],\"matches\":\"y\",\"title\":{\"text\":\"percentage\"}},\"xaxis4\":{\"anchor\":\"y4\",\"domain\":[0.51,1.0],\"matches\":\"x\",\"showticklabels\":false,\"dtick\":1,\"categoryorder\":\"category ascending\"},\"yaxis4\":{\"anchor\":\"x4\",\"domain\":[0.35666666666666663,0.6433333333333333],\"matches\":\"y\",\"showticklabels\":false},\"xaxis5\":{\"anchor\":\"y5\",\"domain\":[0.0,0.49],\"matches\":\"x\",\"showticklabels\":false,\"dtick\":1,\"categoryorder\":\"category ascending\"},\"yaxis5\":{\"anchor\":\"x5\",\"domain\":[0.7133333333333333,0.9999999999999999],\"matches\":\"y\",\"title\":{\"text\":\"percentage\"}},\"xaxis6\":{\"anchor\":\"y6\",\"domain\":[0.51,1.0],\"matches\":\"x\",\"showticklabels\":false,\"dtick\":1,\"categoryorder\":\"category ascending\"},\"yaxis6\":{\"anchor\":\"x6\",\"domain\":[0.7133333333333333,0.9999999999999999],\"matches\":\"y\",\"showticklabels\":false},\"annotations\":[{\"font\":{},\"showarrow\":false,\"text\":\"Escort\",\"x\":0.245,\"xanchor\":\"center\",\"xref\":\"paper\",\"y\":0.2866666666666666,\"yanchor\":\"bottom\",\"yref\":\"paper\"},{\"font\":{},\"showarrow\":false,\"text\":\"Personal Business\",\"x\":0.755,\"xanchor\":\"center\",\"xref\":\"paper\",\"y\":0.2866666666666666,\"yanchor\":\"bottom\",\"yref\":\"paper\"},{\"font\":{},\"showarrow\":false,\"text\":\"Shop\",\"x\":0.245,\"xanchor\":\"center\",\"xref\":\"paper\",\"y\":0.6433333333333333,\"yanchor\":\"bottom\",\"yref\":\"paper\"},{\"font\":{},\"showarrow\":false,\"text\":\"Meal\",\"x\":0.755,\"xanchor\":\"center\",\"xref\":\"paper\",\"y\":0.6433333333333333,\"yanchor\":\"bottom\",\"yref\":\"paper\"},{\"font\":{},\"showarrow\":false,\"text\":\"Work\",\"x\":0.245,\"xanchor\":\"center\",\"xref\":\"paper\",\"y\":0.9999999999999999,\"yanchor\":\"bottom\",\"yref\":\"paper\"},{\"font\":{},\"showarrow\":false,\"text\":\"School\",\"x\":0.755,\"xanchor\":\"center\",\"xref\":\"paper\",\"y\":0.9999999999999999,\"yanchor\":\"bottom\",\"yref\":\"paper\"}],\"legend\":{\"title\":{\"text\":\"source\"},\"tracegroupgap\":0},\"title\":{\"text\":\"outbound: number of stops by purpose (excluding shares \\u003c 1%)\"},\"barmode\":\"group\",\"height\":800,\"width\":800},                        {\"responsive\": true}                    ).then(function(){\n",
       "                            \n",
       "var gd = document.getElementById('7da20972-f034-4def-8c03-1e903a4cc696');\n",
       "var x = new MutationObserver(function (mutations, observer) {{\n",
       "        var display = window.getComputedStyle(gd).display;\n",
       "        if (!display || display === 'none') {{\n",
       "            console.log([gd, 'removed!']);\n",
       "            Plotly.purge(gd);\n",
       "            observer.disconnect();\n",
       "        }}\n",
       "}});\n",
       "\n",
       "// Listen for the removal of the full notebook cells\n",
       "var notebookContainer = gd.closest('#notebook-container');\n",
       "if (notebookContainer) {{\n",
       "    x.observe(notebookContainer, {childList: true});\n",
       "}}\n",
       "\n",
       "// Listen for the clearing of the current output cell\n",
       "var outputEl = gd.closest('.output');\n",
       "if (outputEl) {{\n",
       "    x.observe(outputEl, {childList: true});\n",
       "}}\n",
       "\n",
       "                        })                };                });            </script>        </div>"
      ]
     },
     "metadata": {},
     "output_type": "display_data"
    }
   ],
   "source": [
    "df_plot = df_tour.groupby(['tripsh1','pdpurp_label','source'])['toexpfac'].sum().reset_index()\n",
    "df_plot['percentage'] = df_plot.groupby(['pdpurp_label','source'], group_keys=False)['toexpfac']. \\\n",
    "    apply(lambda x: x / float(x.sum()))\n",
    "df_plot2 = df_plot.loc[(df_plot['percentage'] > 0.001) & (df_plot['tripsh1'] <= 10)]\n",
    "\n",
    "fig = px.bar(df_plot2.sort_values(['source','pdpurp_label']),\n",
    "             x=\"tripsh1\", y=\"percentage\", color=\"source\",barmode=\"group\",\n",
    "             facet_col='pdpurp_label', facet_col_wrap=2, \n",
    "             hover_data=['toexpfac'],\n",
    "             title=\"outbound: number of stops by purpose (excluding shares < 1%)\")\n",
    "fig.update_layout(height=800, width=800)\n",
    "fig.for_each_annotation(lambda a: a.update(text = a.text.split(\"=\")[-1]))\n",
    "fig.for_each_xaxis(lambda a: a.update(dict(dtick = 1, categoryorder='category ascending')))\n",
    "fig.show()"
   ]
  },
  {
   "cell_type": "markdown",
   "metadata": {},
   "source": [
    "- outliers"
   ]
  },
  {
   "cell_type": "code",
   "execution_count": 8,
   "metadata": {
    "ExecuteTime": {
     "end_time": "2024-07-15T02:53:32.983532Z",
     "start_time": "2024-07-15T02:53:32.952337Z"
    },
    "execution": {
     "iopub.execute_input": "2025-01-21T06:48:00.922309Z",
     "iopub.status.busy": "2025-01-21T06:48:00.920728Z",
     "iopub.status.idle": "2025-01-21T06:48:00.981909Z",
     "shell.execute_reply": "2025-01-21T06:48:00.980393Z"
    }
   },
   "outputs": [
    {
     "data": {
      "text/html": [
       "<div>\n",
       "<style scoped>\n",
       "    .dataframe tbody tr th:only-of-type {\n",
       "        vertical-align: middle;\n",
       "    }\n",
       "\n",
       "    .dataframe tbody tr th {\n",
       "        vertical-align: top;\n",
       "    }\n",
       "\n",
       "    .dataframe thead th {\n",
       "        text-align: right;\n",
       "    }\n",
       "</style>\n",
       "<table border=\"1\" class=\"dataframe\">\n",
       "  <thead>\n",
       "    <tr style=\"text-align: right;\">\n",
       "      <th></th>\n",
       "      <th>tripsh1</th>\n",
       "      <th>pdpurp_label</th>\n",
       "      <th>source</th>\n",
       "      <th>toexpfac</th>\n",
       "      <th>percentage</th>\n",
       "    </tr>\n",
       "  </thead>\n",
       "  <tbody>\n",
       "    <tr>\n",
       "      <th>383</th>\n",
       "      <td>15.0</td>\n",
       "      <td>Personal Business</td>\n",
       "      <td>survey (old weights)</td>\n",
       "      <td>3640.709958</td>\n",
       "      <td>0.004467</td>\n",
       "    </tr>\n",
       "    <tr>\n",
       "      <th>482</th>\n",
       "      <td>48.0</td>\n",
       "      <td>Work</td>\n",
       "      <td>survey (2017/2019)</td>\n",
       "      <td>3192.998514</td>\n",
       "      <td>0.002389</td>\n",
       "    </tr>\n",
       "  </tbody>\n",
       "</table>\n",
       "</div>"
      ],
      "text/plain": [
       "     tripsh1       pdpurp_label                source     toexpfac  percentage\n",
       "383     15.0  Personal Business  survey (old weights)  3640.709958    0.004467\n",
       "482     48.0               Work    survey (2017/2019)  3192.998514    0.002389"
      ]
     },
     "execution_count": 8,
     "metadata": {},
     "output_type": "execute_result"
    }
   ],
   "source": [
    "df_plot.loc[(df_plot['percentage'] > 0.001) & (df_plot['tripsh1'] > 10)]"
   ]
  },
  {
   "cell_type": "raw",
   "metadata": {},
   "source": [
    "### inbound"
   ]
  },
  {
   "cell_type": "code",
   "execution_count": 9,
   "metadata": {
    "ExecuteTime": {
     "end_time": "2024-07-15T03:57:51.602763Z",
     "start_time": "2024-07-15T03:57:50.775071Z"
    },
    "execution": {
     "iopub.execute_input": "2025-01-21T06:48:00.994428Z",
     "iopub.status.busy": "2025-01-21T06:48:00.993512Z",
     "iopub.status.idle": "2025-01-21T06:48:01.485702Z",
     "shell.execute_reply": "2025-01-21T06:48:01.484200Z"
    }
   },
   "outputs": [
    {
     "data": {
      "application/vnd.plotly.v1+json": {
       "config": {
        "plotlyServerURL": "https://plot.ly"
       },
       "data": [
        {
         "alignmentgroup": "True",
         "customdata": [
          [
           21661.0
          ],
          [
           17077.0
          ],
          [
           7022.0
          ],
          [
           1983.0
          ],
          [
           720.0
          ],
          [
           125.0
          ],
          [
           82.0
          ],
          [
           56.0
          ]
         ],
         "hovertemplate": "source=model<br>pdpurp_label=Work<br>tripsh2=%{x}<br>percentage=%{y}<br>toexpfac=%{customdata[0]}<extra></extra>",
         "legendgroup": "model",
         "marker": {
          "color": "#91268F",
          "pattern": {
           "shape": ""
          }
         },
         "name": "model",
         "offsetgroup": "model",
         "orientation": "v",
         "showlegend": true,
         "textposition": "auto",
         "type": "bar",
         "x": [
          1.0,
          2.0,
          3.0,
          4.0,
          5.0,
          6.0,
          7.0,
          8.0
         ],
         "xaxis": "x5",
         "y": [
          0.4429290037624734,
          0.34919433993129395,
          0.14358743661050222,
          0.04054883036152462,
          0.014722722067724521,
          0.0025560281367577294,
          0.0016767544577130705,
          0.0011451006052674627
         ],
         "yaxis": "y5"
        },
        {
         "alignmentgroup": "True",
         "customdata": [
          [
           10351.0
          ],
          [
           4709.0
          ],
          [
           1628.0
          ],
          [
           338.0
          ],
          [
           85.0
          ]
         ],
         "hovertemplate": "source=model<br>pdpurp_label=School<br>tripsh2=%{x}<br>percentage=%{y}<br>toexpfac=%{customdata[0]}<extra></extra>",
         "legendgroup": "model",
         "marker": {
          "color": "#91268F",
          "pattern": {
           "shape": ""
          }
         },
         "name": "model",
         "offsetgroup": "model",
         "orientation": "v",
         "showlegend": false,
         "textposition": "auto",
         "type": "bar",
         "x": [
          1.0,
          2.0,
          3.0,
          4.0,
          5.0
         ],
         "xaxis": "x6",
         "y": [
          0.604085205719288,
          0.27481762474467464,
          0.09501021301429823,
          0.019725707615990663,
          0.004960606944849723
         ],
         "yaxis": "y6"
        },
        {
         "alignmentgroup": "True",
         "customdata": [
          [
           20536.0
          ],
          [
           7380.0
          ],
          [
           1653.0
          ],
          [
           222.0
          ]
         ],
         "hovertemplate": "source=model<br>pdpurp_label=Shop<br>tripsh2=%{x}<br>percentage=%{y}<br>toexpfac=%{customdata[0]}<extra></extra>",
         "legendgroup": "model",
         "marker": {
          "color": "#91268F",
          "pattern": {
           "shape": ""
          }
         },
         "name": "model",
         "offsetgroup": "model",
         "orientation": "v",
         "showlegend": false,
         "textposition": "auto",
         "type": "bar",
         "x": [
          1.0,
          2.0,
          3.0,
          4.0
         ],
         "xaxis": "x3",
         "y": [
          0.6886884201348134,
          0.24749320902780106,
          0.05543445454240585,
          0.0074449176699419835
         ],
         "yaxis": "y3"
        },
        {
         "alignmentgroup": "True",
         "customdata": [
          [
           20892.0
          ],
          [
           3954.0
          ],
          [
           797.0
          ],
          [
           125.0
          ]
         ],
         "hovertemplate": "source=model<br>pdpurp_label=Meal<br>tripsh2=%{x}<br>percentage=%{y}<br>toexpfac=%{customdata[0]}<extra></extra>",
         "legendgroup": "model",
         "marker": {
          "color": "#91268F",
          "pattern": {
           "shape": ""
          }
         },
         "name": "model",
         "offsetgroup": "model",
         "orientation": "v",
         "showlegend": false,
         "textposition": "auto",
         "type": "bar",
         "x": [
          1.0,
          2.0,
          3.0,
          4.0
         ],
         "xaxis": "x4",
         "y": [
          0.8102699348433137,
          0.1533509152963078,
          0.030910642258765126,
          0.004847967731926776
         ],
         "yaxis": "y4"
        },
        {
         "alignmentgroup": "True",
         "customdata": [
          [
           14194.0
          ],
          [
           6524.0
          ],
          [
           1728.0
          ],
          [
           300.0
          ],
          [
           60.0
          ]
         ],
         "hovertemplate": "source=model<br>pdpurp_label=Escort<br>tripsh2=%{x}<br>percentage=%{y}<br>toexpfac=%{customdata[0]}<extra></extra>",
         "legendgroup": "model",
         "marker": {
          "color": "#91268F",
          "pattern": {
           "shape": ""
          }
         },
         "name": "model",
         "offsetgroup": "model",
         "orientation": "v",
         "showlegend": false,
         "textposition": "auto",
         "type": "bar",
         "x": [
          1.0,
          2.0,
          3.0,
          4.0,
          5.0
         ],
         "xaxis": "x",
         "y": [
          0.6219709916305157,
          0.28587704307436135,
          0.07571973182594978,
          0.013145786775338505,
          0.002629157355067701
         ],
         "yaxis": "y"
        },
        {
         "alignmentgroup": "True",
         "customdata": [
          [
           11979.0
          ],
          [
           4056.0
          ],
          [
           755.0
          ],
          [
           73.0
          ]
         ],
         "hovertemplate": "source=model<br>pdpurp_label=Personal Business<br>tripsh2=%{x}<br>percentage=%{y}<br>toexpfac=%{customdata[0]}<extra></extra>",
         "legendgroup": "model",
         "marker": {
          "color": "#91268F",
          "pattern": {
           "shape": ""
          }
         },
         "name": "model",
         "offsetgroup": "model",
         "orientation": "v",
         "showlegend": false,
         "textposition": "auto",
         "type": "bar",
         "x": [
          1.0,
          2.0,
          3.0,
          4.0
         ],
         "xaxis": "x2",
         "y": [
          0.7099928876244666,
          0.24039829302987198,
          0.04474869606448554,
          0.0043266951161688005
         ],
         "yaxis": "y2"
        },
        {
         "alignmentgroup": "True",
         "customdata": [
          [
           10398.733131046363
          ],
          [
           971534.1211231451
          ],
          [
           369907.10575337533
          ],
          [
           155355.2655846871
          ],
          [
           60190.88904898113
          ],
          [
           17636.69603986733
          ],
          [
           13048.541098637364
          ],
          [
           12409.378477449298
          ]
         ],
         "hovertemplate": "source=survey<br>pdpurp_label=Work<br>tripsh2=%{x}<br>percentage=%{y}<br>toexpfac=%{customdata[0]}<extra></extra>",
         "legendgroup": "survey",
         "marker": {
          "color": "#8CC63E",
          "pattern": {
           "shape": ""
          }
         },
         "name": "survey",
         "offsetgroup": "survey",
         "orientation": "v",
         "showlegend": true,
         "textposition": "auto",
         "type": "bar",
         "x": [
          0.0,
          1.0,
          2.0,
          3.0,
          4.0,
          5.0,
          6.0,
          7.0
         ],
         "xaxis": "x5",
         "y": [
          0.006452901831221609,
          0.6028825079251732,
          0.2295447156895788,
          0.09640523178619854,
          0.03735127089735633,
          0.010944397431700122,
          0.008097232007885449,
          0.007700601611015377
         ],
         "yaxis": "y5"
        },
        {
         "alignmentgroup": "True",
         "customdata": [
          [
           451610.6013004756
          ],
          [
           100765.09725754513
          ],
          [
           10373.785149172334
          ],
          [
           592.8327478464412
          ],
          [
           4091.6245888483913
          ]
         ],
         "hovertemplate": "source=survey<br>pdpurp_label=School<br>tripsh2=%{x}<br>percentage=%{y}<br>toexpfac=%{customdata[0]}<extra></extra>",
         "legendgroup": "survey",
         "marker": {
          "color": "#8CC63E",
          "pattern": {
           "shape": ""
          }
         },
         "name": "survey",
         "offsetgroup": "survey",
         "orientation": "v",
         "showlegend": false,
         "textposition": "auto",
         "type": "bar",
         "x": [
          1.0,
          2.0,
          3.0,
          4.0,
          5.0
         ],
         "xaxis": "x6",
         "y": [
          0.7958822492529505,
          0.17758031370518865,
          0.018281925698854132,
          0.0010447608170139208,
          0.007210750525992816
         ],
         "yaxis": "y6"
        },
        {
         "alignmentgroup": "True",
         "customdata": [
          [
           518644.4685403501
          ],
          [
           157493.43489442684
          ],
          [
           67834.4146018377
          ],
          [
           9584.73321384724
          ],
          [
           2927.462961271057
          ]
         ],
         "hovertemplate": "source=survey<br>pdpurp_label=Shop<br>tripsh2=%{x}<br>percentage=%{y}<br>toexpfac=%{customdata[0]}<extra></extra>",
         "legendgroup": "survey",
         "marker": {
          "color": "#8CC63E",
          "pattern": {
           "shape": ""
          }
         },
         "name": "survey",
         "offsetgroup": "survey",
         "orientation": "v",
         "showlegend": false,
         "textposition": "auto",
         "type": "bar",
         "x": [
          1.0,
          2.0,
          3.0,
          4.0,
          5.0
         ],
         "xaxis": "x3",
         "y": [
          0.6848474917627759,
          0.20796323955812313,
          0.08957239788174955,
          0.012656223866018099,
          0.0038655876768479117
         ],
         "yaxis": "y3"
        },
        {
         "alignmentgroup": "True",
         "customdata": [
          [
           333854.47896990675
          ],
          [
           55409.21181474872
          ],
          [
           13265.93929261936
          ],
          [
           1922.2782395153636
          ],
          [
           2811.742645538728
          ]
         ],
         "hovertemplate": "source=survey<br>pdpurp_label=Meal<br>tripsh2=%{x}<br>percentage=%{y}<br>toexpfac=%{customdata[0]}<extra></extra>",
         "legendgroup": "survey",
         "marker": {
          "color": "#8CC63E",
          "pattern": {
           "shape": ""
          }
         },
         "name": "survey",
         "offsetgroup": "survey",
         "orientation": "v",
         "showlegend": false,
         "textposition": "auto",
         "type": "bar",
         "x": [
          1.0,
          2.0,
          3.0,
          4.0,
          5.0
         ],
         "xaxis": "x4",
         "y": [
          0.8197502482262716,
          0.13605243601736008,
          0.032573344714837894,
          0.004719984793568456,
          0.006903986247962033
         ],
         "yaxis": "y4"
        },
        {
         "alignmentgroup": "True",
         "customdata": [
          [
           504629.93804629974
          ],
          [
           85361.02051367835
          ],
          [
           18925.46097771525
          ],
          [
           20195.399783102497
          ],
          [
           2996.542180276683
          ]
         ],
         "hovertemplate": "source=survey<br>pdpurp_label=Escort<br>tripsh2=%{x}<br>percentage=%{y}<br>toexpfac=%{customdata[0]}<extra></extra>",
         "legendgroup": "survey",
         "marker": {
          "color": "#8CC63E",
          "pattern": {
           "shape": ""
          }
         },
         "name": "survey",
         "offsetgroup": "survey",
         "orientation": "v",
         "showlegend": false,
         "textposition": "auto",
         "type": "bar",
         "x": [
          1.0,
          2.0,
          3.0,
          4.0,
          5.0
         ],
         "xaxis": "x",
         "y": [
          0.7983282120298981,
          0.13504175187774906,
          0.0299402161565666,
          0.031949268532288244,
          0.004740551403497925
         ],
         "yaxis": "y"
        },
        {
         "alignmentgroup": "True",
         "customdata": [
          [
           247595.22876023976
          ],
          [
           96521.67424586197
          ],
          [
           19759.967367171612
          ],
          [
           17413.244124640078
          ],
          [
           14078.94098919739
          ],
          [
           1441.6812115059531
          ],
          [
           4058.6274764297264
          ],
          [
           602.0969068897372
          ]
         ],
         "hovertemplate": "source=survey<br>pdpurp_label=Personal Business<br>tripsh2=%{x}<br>percentage=%{y}<br>toexpfac=%{customdata[0]}<extra></extra>",
         "legendgroup": "survey",
         "marker": {
          "color": "#8CC63E",
          "pattern": {
           "shape": ""
          }
         },
         "name": "survey",
         "offsetgroup": "survey",
         "orientation": "v",
         "showlegend": false,
         "textposition": "auto",
         "type": "bar",
         "x": [
          1.0,
          2.0,
          3.0,
          4.0,
          5.0,
          6.0,
          7.0,
          9.0
         ],
         "xaxis": "x2",
         "y": [
          0.6167193755017821,
          0.2404197647965888,
          0.04921885932793316,
          0.0433735540696035,
          0.03506834819903679,
          0.003590993012605996,
          0.010109379793751769,
          0.0014997252986977704
         ],
         "yaxis": "y2"
        },
        {
         "alignmentgroup": "True",
         "customdata": [
          [
           10301.031677684576
          ],
          [
           830584.9523209231
          ],
          [
           311454.0712463149
          ],
          [
           99880.61474912784
          ],
          [
           49377.309811117375
          ],
          [
           14463.558952517587
          ],
          [
           7817.476497058852
          ],
          [
           10018.77397658432
          ],
          [
           1387.1042984550506
          ]
         ],
         "hovertemplate": "source=survey (2017/2019)<br>pdpurp_label=Work<br>tripsh2=%{x}<br>percentage=%{y}<br>toexpfac=%{customdata[0]}<extra></extra>",
         "legendgroup": "survey (2017/2019)",
         "marker": {
          "color": "#00A7A0",
          "pattern": {
           "shape": ""
          }
         },
         "name": "survey (2017/2019)",
         "offsetgroup": "survey (2017/2019)",
         "orientation": "v",
         "showlegend": true,
         "textposition": "auto",
         "type": "bar",
         "x": [
          0.0,
          1.0,
          2.0,
          3.0,
          4.0,
          5.0,
          6.0,
          7.0,
          9.0
         ],
         "xaxis": "x5",
         "y": [
          0.007706967667351852,
          0.6214223558203046,
          0.23302194693376516,
          0.07472811389701328,
          0.03694283661310275,
          0.01082126380053481,
          0.005848835387394724,
          0.007495789695639246,
          0.0010377958552051348
         ],
         "yaxis": "y5"
        },
        {
         "alignmentgroup": "True",
         "customdata": [
          [
           416601.5815295155
          ],
          [
           76270.30771362712
          ],
          [
           20229.406436174704
          ],
          [
           6341.570306884747
          ]
         ],
         "hovertemplate": "source=survey (2017/2019)<br>pdpurp_label=School<br>tripsh2=%{x}<br>percentage=%{y}<br>toexpfac=%{customdata[0]}<extra></extra>",
         "legendgroup": "survey (2017/2019)",
         "marker": {
          "color": "#00A7A0",
          "pattern": {
           "shape": ""
          }
         },
         "name": "survey (2017/2019)",
         "offsetgroup": "survey (2017/2019)",
         "orientation": "v",
         "showlegend": false,
         "textposition": "auto",
         "type": "bar",
         "x": [
          1.0,
          2.0,
          3.0,
          4.0
         ],
         "xaxis": "x6",
         "y": [
          0.8012924455357028,
          0.1466984862737084,
          0.038909287131041984,
          0.01219739099665483
         ],
         "yaxis": "y6"
        },
        {
         "alignmentgroup": "True",
         "customdata": [
          [
           386327.5174254186
          ],
          [
           147277.02555430762
          ],
          [
           53681.68559346279
          ],
          [
           13336.235810328742
          ]
         ],
         "hovertemplate": "source=survey (2017/2019)<br>pdpurp_label=Shop<br>tripsh2=%{x}<br>percentage=%{y}<br>toexpfac=%{customdata[0]}<extra></extra>",
         "legendgroup": "survey (2017/2019)",
         "marker": {
          "color": "#00A7A0",
          "pattern": {
           "shape": ""
          }
         },
         "name": "survey (2017/2019)",
         "offsetgroup": "survey (2017/2019)",
         "orientation": "v",
         "showlegend": false,
         "textposition": "auto",
         "type": "bar",
         "x": [
          1.0,
          2.0,
          3.0,
          4.0
         ],
         "xaxis": "x3",
         "y": [
          0.6424198450985324,
          0.24490537089798758,
          0.08926669364223613,
          0.022176682107877183
         ],
         "yaxis": "y3"
        },
        {
         "alignmentgroup": "True",
         "customdata": [
          [
           337735.4259200245
          ],
          [
           48554.02993209262
          ],
          [
           9244.562636684193
          ],
          [
           679.0835321527463
          ],
          [
           1981.1555654272388
          ]
         ],
         "hovertemplate": "source=survey (2017/2019)<br>pdpurp_label=Meal<br>tripsh2=%{x}<br>percentage=%{y}<br>toexpfac=%{customdata[0]}<extra></extra>",
         "legendgroup": "survey (2017/2019)",
         "marker": {
          "color": "#00A7A0",
          "pattern": {
           "shape": ""
          }
         },
         "name": "survey (2017/2019)",
         "offsetgroup": "survey (2017/2019)",
         "orientation": "v",
         "showlegend": false,
         "textposition": "auto",
         "type": "bar",
         "x": [
          1.0,
          2.0,
          3.0,
          4.0,
          5.0
         ],
         "xaxis": "x4",
         "y": [
          0.8481674948483121,
          0.12193553524955009,
          0.023216212842242578,
          0.00170540764768671,
          0.004975349412208592
         ],
         "yaxis": "y4"
        },
        {
         "alignmentgroup": "True",
         "customdata": [
          [
           526620.7870922339
          ],
          [
           91167.46265776404
          ],
          [
           23934.608154814472
          ],
          [
           18215.034723981258
          ]
         ],
         "hovertemplate": "source=survey (2017/2019)<br>pdpurp_label=Escort<br>tripsh2=%{x}<br>percentage=%{y}<br>toexpfac=%{customdata[0]}<extra></extra>",
         "legendgroup": "survey (2017/2019)",
         "marker": {
          "color": "#00A7A0",
          "pattern": {
           "shape": ""
          }
         },
         "name": "survey (2017/2019)",
         "offsetgroup": "survey (2017/2019)",
         "orientation": "v",
         "showlegend": false,
         "textposition": "auto",
         "type": "bar",
         "x": [
          1.0,
          2.0,
          3.0,
          4.0
         ],
         "xaxis": "x",
         "y": [
          0.7973738015755601,
          0.13803964458145726,
          0.03624017502044265,
          0.027579981344617834
         ],
         "yaxis": "y"
        },
        {
         "alignmentgroup": "True",
         "customdata": [
          [
           210215.80990255653
          ],
          [
           66273.72094328929
          ],
          [
           11260.900341999017
          ],
          [
           14572.115158019953
          ],
          [
           2361.297884166004
          ],
          [
           1246.6359327995103
          ],
          [
           479.3318721668201
          ]
         ],
         "hovertemplate": "source=survey (2017/2019)<br>pdpurp_label=Personal Business<br>tripsh2=%{x}<br>percentage=%{y}<br>toexpfac=%{customdata[0]}<extra></extra>",
         "legendgroup": "survey (2017/2019)",
         "marker": {
          "color": "#00A7A0",
          "pattern": {
           "shape": ""
          }
         },
         "name": "survey (2017/2019)",
         "offsetgroup": "survey (2017/2019)",
         "orientation": "v",
         "showlegend": false,
         "textposition": "auto",
         "type": "bar",
         "x": [
          1.0,
          2.0,
          3.0,
          4.0,
          5.0,
          6.0,
          7.0
         ],
         "xaxis": "x2",
         "y": [
          0.6856730074882554,
          0.21616881041291225,
          0.036730326839371025,
          0.047530706803148116,
          0.00770198122853969,
          0.004066224180197454,
          0.001563464358489254
         ],
         "yaxis": "y2"
        },
        {
         "alignmentgroup": "True",
         "customdata": [
          [
           17190.83023949187
          ],
          [
           1002711.3428314013
          ],
          [
           393169.9197377121
          ],
          [
           144649.73760167134
          ],
          [
           45628.53886223948
          ],
          [
           19992.37610164168
          ],
          [
           3355.7146827452243
          ],
          [
           6034.035319935689
          ]
         ],
         "hovertemplate": "source=survey (old weights)<br>pdpurp_label=Work<br>tripsh2=%{x}<br>percentage=%{y}<br>toexpfac=%{customdata[0]}<extra></extra>",
         "legendgroup": "survey (old weights)",
         "marker": {
          "color": "#F05A28",
          "pattern": {
           "shape": ""
          }
         },
         "name": "survey (old weights)",
         "offsetgroup": "survey (old weights)",
         "orientation": "v",
         "showlegend": true,
         "textposition": "auto",
         "type": "bar",
         "x": [
          0.0,
          1.0,
          2.0,
          3.0,
          4.0,
          5.0,
          6.0,
          11.0
         ],
         "xaxis": "x5",
         "y": [
          0.010514156094883683,
          0.6132725080619145,
          0.24046831074154004,
          0.08846983531569633,
          0.027907062852435723,
          0.012227621360450127,
          0.002052402792229496,
          0.0036905017589028612
         ],
         "yaxis": "y5"
        },
        {
         "alignmentgroup": "True",
         "customdata": [
          [
           409863.3812633639
          ],
          [
           87780.26018979211
          ],
          [
           18855.77154456021
          ],
          [
           5200.94821336106
          ],
          [
           3064.276897256235
          ]
         ],
         "hovertemplate": "source=survey (old weights)<br>pdpurp_label=School<br>tripsh2=%{x}<br>percentage=%{y}<br>toexpfac=%{customdata[0]}<extra></extra>",
         "legendgroup": "survey (old weights)",
         "marker": {
          "color": "#F05A28",
          "pattern": {
           "shape": ""
          }
         },
         "name": "survey (old weights)",
         "offsetgroup": "survey (old weights)",
         "orientation": "v",
         "showlegend": false,
         "textposition": "auto",
         "type": "bar",
         "x": [
          1.0,
          2.0,
          3.0,
          4.0,
          9.0
         ],
         "xaxis": "x6",
         "y": [
          0.7801778023879334,
          0.1670903369723275,
          0.03589209253244128,
          0.00990004116719607,
          0.005832872427491435
         ],
         "yaxis": "y6"
        },
        {
         "alignmentgroup": "True",
         "customdata": [
          [
           607447.0285520281
          ],
          [
           101485.39742397876
          ],
          [
           48992.14928779845
          ],
          [
           25262.36060348083
          ],
          [
           1334.3297362163516
          ],
          [
           1738.1325162029443
          ]
         ],
         "hovertemplate": "source=survey (old weights)<br>pdpurp_label=Shop<br>tripsh2=%{x}<br>percentage=%{y}<br>toexpfac=%{customdata[0]}<extra></extra>",
         "legendgroup": "survey (old weights)",
         "marker": {
          "color": "#F05A28",
          "pattern": {
           "shape": ""
          }
         },
         "name": "survey (old weights)",
         "offsetgroup": "survey (old weights)",
         "orientation": "v",
         "showlegend": false,
         "textposition": "auto",
         "type": "bar",
         "x": [
          1.0,
          2.0,
          3.0,
          4.0,
          5.0,
          6.0
         ],
         "xaxis": "x3",
         "y": [
          0.7725751890077427,
          0.12907314779899504,
          0.06231015581085282,
          0.032129670737774146,
          0.001697053404991189,
          0.002210625773290746
         ],
         "yaxis": "y3"
        },
        {
         "alignmentgroup": "True",
         "customdata": [
          [
           262333.44643518334
          ],
          [
           71478.89854243078
          ],
          [
           28251.10612198561
          ],
          [
           6375.764630775777
          ],
          [
           832.7704438293529
          ]
         ],
         "hovertemplate": "source=survey (old weights)<br>pdpurp_label=Meal<br>tripsh2=%{x}<br>percentage=%{y}<br>toexpfac=%{customdata[0]}<extra></extra>",
         "legendgroup": "survey (old weights)",
         "marker": {
          "color": "#F05A28",
          "pattern": {
           "shape": ""
          }
         },
         "name": "survey (old weights)",
         "offsetgroup": "survey (old weights)",
         "orientation": "v",
         "showlegend": false,
         "textposition": "auto",
         "type": "bar",
         "x": [
          1.0,
          2.0,
          3.0,
          4.0,
          5.0
         ],
         "xaxis": "x4",
         "y": [
          0.7102439606445277,
          0.193522620516587,
          0.07648730185697299,
          0.017261803193739288,
          0.002254650279522019
         ],
         "yaxis": "y4"
        },
        {
         "alignmentgroup": "True",
         "customdata": [
          [
           379764.4251867545
          ],
          [
           36476.29300772719
          ],
          [
           7596.419735380923
          ],
          [
           6500.826584487096
          ],
          [
           4434.997330872685
          ]
         ],
         "hovertemplate": "source=survey (old weights)<br>pdpurp_label=Escort<br>tripsh2=%{x}<br>percentage=%{y}<br>toexpfac=%{customdata[0]}<extra></extra>",
         "legendgroup": "survey (old weights)",
         "marker": {
          "color": "#F05A28",
          "pattern": {
           "shape": ""
          }
         },
         "name": "survey (old weights)",
         "offsetgroup": "survey (old weights)",
         "orientation": "v",
         "showlegend": false,
         "textposition": "auto",
         "type": "bar",
         "x": [
          1.0,
          2.0,
          3.0,
          4.0,
          5.0
         ],
         "xaxis": "x",
         "y": [
          0.8732878514788197,
          0.08387911409807584,
          0.017468358354998142,
          0.01494898548754623,
          0.010198504740109584
         ],
         "yaxis": "y"
        },
        {
         "alignmentgroup": "True",
         "customdata": [
          [
           568525.9680930881
          ],
          [
           182606.1109317697
          ],
          [
           34271.46048963302
          ],
          [
           12103.317639236639
          ],
          [
           15263.641904297352
          ],
          [
           1822.833689925447
          ]
         ],
         "hovertemplate": "source=survey (old weights)<br>pdpurp_label=Personal Business<br>tripsh2=%{x}<br>percentage=%{y}<br>toexpfac=%{customdata[0]}<extra></extra>",
         "legendgroup": "survey (old weights)",
         "marker": {
          "color": "#F05A28",
          "pattern": {
           "shape": ""
          }
         },
         "name": "survey (old weights)",
         "offsetgroup": "survey (old weights)",
         "orientation": "v",
         "showlegend": false,
         "textposition": "auto",
         "type": "bar",
         "x": [
          1.0,
          2.0,
          3.0,
          4.0,
          5.0,
          8.0
         ],
         "xaxis": "x2",
         "y": [
          0.6975869358347305,
          0.22405948811248114,
          0.04205141796729616,
          0.014850889386299922,
          0.018728638238656437,
          0.0022366348058936924
         ],
         "yaxis": "y2"
        }
       ],
       "layout": {
        "annotations": [
         {
          "font": {},
          "showarrow": false,
          "text": "Escort",
          "x": 0.245,
          "xanchor": "center",
          "xref": "paper",
          "y": 0.2866666666666666,
          "yanchor": "bottom",
          "yref": "paper"
         },
         {
          "font": {},
          "showarrow": false,
          "text": "Personal Business",
          "x": 0.755,
          "xanchor": "center",
          "xref": "paper",
          "y": 0.2866666666666666,
          "yanchor": "bottom",
          "yref": "paper"
         },
         {
          "font": {},
          "showarrow": false,
          "text": "Shop",
          "x": 0.245,
          "xanchor": "center",
          "xref": "paper",
          "y": 0.6433333333333333,
          "yanchor": "bottom",
          "yref": "paper"
         },
         {
          "font": {},
          "showarrow": false,
          "text": "Meal",
          "x": 0.755,
          "xanchor": "center",
          "xref": "paper",
          "y": 0.6433333333333333,
          "yanchor": "bottom",
          "yref": "paper"
         },
         {
          "font": {},
          "showarrow": false,
          "text": "Work",
          "x": 0.245,
          "xanchor": "center",
          "xref": "paper",
          "y": 0.9999999999999999,
          "yanchor": "bottom",
          "yref": "paper"
         },
         {
          "font": {},
          "showarrow": false,
          "text": "School",
          "x": 0.755,
          "xanchor": "center",
          "xref": "paper",
          "y": 0.9999999999999999,
          "yanchor": "bottom",
          "yref": "paper"
         }
        ],
        "barmode": "group",
        "height": 800,
        "legend": {
         "title": {
          "text": "source"
         },
         "tracegroupgap": 0
        },
        "template": {
         "data": {
          "bar": [
           {
            "error_x": {
             "color": "rgb(36,36,36)"
            },
            "error_y": {
             "color": "rgb(36,36,36)"
            },
            "marker": {
             "line": {
              "color": "white",
              "width": 0.5
             },
             "pattern": {
              "fillmode": "overlay",
              "size": 10,
              "solidity": 0.2
             }
            },
            "type": "bar"
           }
          ],
          "barpolar": [
           {
            "marker": {
             "line": {
              "color": "white",
              "width": 0.5
             },
             "pattern": {
              "fillmode": "overlay",
              "size": 10,
              "solidity": 0.2
             }
            },
            "type": "barpolar"
           }
          ],
          "carpet": [
           {
            "aaxis": {
             "endlinecolor": "rgb(36,36,36)",
             "gridcolor": "white",
             "linecolor": "white",
             "minorgridcolor": "white",
             "startlinecolor": "rgb(36,36,36)"
            },
            "baxis": {
             "endlinecolor": "rgb(36,36,36)",
             "gridcolor": "white",
             "linecolor": "white",
             "minorgridcolor": "white",
             "startlinecolor": "rgb(36,36,36)"
            },
            "type": "carpet"
           }
          ],
          "choropleth": [
           {
            "colorbar": {
             "outlinewidth": 1,
             "tickcolor": "rgb(36,36,36)",
             "ticks": "outside"
            },
            "type": "choropleth"
           }
          ],
          "contour": [
           {
            "colorbar": {
             "outlinewidth": 1,
             "tickcolor": "rgb(36,36,36)",
             "ticks": "outside"
            },
            "colorscale": [
             [
              0.0,
              "#440154"
             ],
             [
              0.1111111111111111,
              "#482878"
             ],
             [
              0.2222222222222222,
              "#3e4989"
             ],
             [
              0.3333333333333333,
              "#31688e"
             ],
             [
              0.4444444444444444,
              "#26828e"
             ],
             [
              0.5555555555555556,
              "#1f9e89"
             ],
             [
              0.6666666666666666,
              "#35b779"
             ],
             [
              0.7777777777777778,
              "#6ece58"
             ],
             [
              0.8888888888888888,
              "#b5de2b"
             ],
             [
              1.0,
              "#fde725"
             ]
            ],
            "type": "contour"
           }
          ],
          "contourcarpet": [
           {
            "colorbar": {
             "outlinewidth": 1,
             "tickcolor": "rgb(36,36,36)",
             "ticks": "outside"
            },
            "type": "contourcarpet"
           }
          ],
          "heatmap": [
           {
            "colorbar": {
             "outlinewidth": 1,
             "tickcolor": "rgb(36,36,36)",
             "ticks": "outside"
            },
            "colorscale": [
             [
              0.0,
              "#440154"
             ],
             [
              0.1111111111111111,
              "#482878"
             ],
             [
              0.2222222222222222,
              "#3e4989"
             ],
             [
              0.3333333333333333,
              "#31688e"
             ],
             [
              0.4444444444444444,
              "#26828e"
             ],
             [
              0.5555555555555556,
              "#1f9e89"
             ],
             [
              0.6666666666666666,
              "#35b779"
             ],
             [
              0.7777777777777778,
              "#6ece58"
             ],
             [
              0.8888888888888888,
              "#b5de2b"
             ],
             [
              1.0,
              "#fde725"
             ]
            ],
            "type": "heatmap"
           }
          ],
          "heatmapgl": [
           {
            "colorbar": {
             "outlinewidth": 1,
             "tickcolor": "rgb(36,36,36)",
             "ticks": "outside"
            },
            "colorscale": [
             [
              0.0,
              "#440154"
             ],
             [
              0.1111111111111111,
              "#482878"
             ],
             [
              0.2222222222222222,
              "#3e4989"
             ],
             [
              0.3333333333333333,
              "#31688e"
             ],
             [
              0.4444444444444444,
              "#26828e"
             ],
             [
              0.5555555555555556,
              "#1f9e89"
             ],
             [
              0.6666666666666666,
              "#35b779"
             ],
             [
              0.7777777777777778,
              "#6ece58"
             ],
             [
              0.8888888888888888,
              "#b5de2b"
             ],
             [
              1.0,
              "#fde725"
             ]
            ],
            "type": "heatmapgl"
           }
          ],
          "histogram": [
           {
            "marker": {
             "line": {
              "color": "white",
              "width": 0.6
             }
            },
            "type": "histogram"
           }
          ],
          "histogram2d": [
           {
            "colorbar": {
             "outlinewidth": 1,
             "tickcolor": "rgb(36,36,36)",
             "ticks": "outside"
            },
            "colorscale": [
             [
              0.0,
              "#440154"
             ],
             [
              0.1111111111111111,
              "#482878"
             ],
             [
              0.2222222222222222,
              "#3e4989"
             ],
             [
              0.3333333333333333,
              "#31688e"
             ],
             [
              0.4444444444444444,
              "#26828e"
             ],
             [
              0.5555555555555556,
              "#1f9e89"
             ],
             [
              0.6666666666666666,
              "#35b779"
             ],
             [
              0.7777777777777778,
              "#6ece58"
             ],
             [
              0.8888888888888888,
              "#b5de2b"
             ],
             [
              1.0,
              "#fde725"
             ]
            ],
            "type": "histogram2d"
           }
          ],
          "histogram2dcontour": [
           {
            "colorbar": {
             "outlinewidth": 1,
             "tickcolor": "rgb(36,36,36)",
             "ticks": "outside"
            },
            "colorscale": [
             [
              0.0,
              "#440154"
             ],
             [
              0.1111111111111111,
              "#482878"
             ],
             [
              0.2222222222222222,
              "#3e4989"
             ],
             [
              0.3333333333333333,
              "#31688e"
             ],
             [
              0.4444444444444444,
              "#26828e"
             ],
             [
              0.5555555555555556,
              "#1f9e89"
             ],
             [
              0.6666666666666666,
              "#35b779"
             ],
             [
              0.7777777777777778,
              "#6ece58"
             ],
             [
              0.8888888888888888,
              "#b5de2b"
             ],
             [
              1.0,
              "#fde725"
             ]
            ],
            "type": "histogram2dcontour"
           }
          ],
          "mesh3d": [
           {
            "colorbar": {
             "outlinewidth": 1,
             "tickcolor": "rgb(36,36,36)",
             "ticks": "outside"
            },
            "type": "mesh3d"
           }
          ],
          "parcoords": [
           {
            "line": {
             "colorbar": {
              "outlinewidth": 1,
              "tickcolor": "rgb(36,36,36)",
              "ticks": "outside"
             }
            },
            "type": "parcoords"
           }
          ],
          "pie": [
           {
            "automargin": true,
            "type": "pie"
           }
          ],
          "scatter": [
           {
            "fillpattern": {
             "fillmode": "overlay",
             "size": 10,
             "solidity": 0.2
            },
            "type": "scatter"
           }
          ],
          "scatter3d": [
           {
            "line": {
             "colorbar": {
              "outlinewidth": 1,
              "tickcolor": "rgb(36,36,36)",
              "ticks": "outside"
             }
            },
            "marker": {
             "colorbar": {
              "outlinewidth": 1,
              "tickcolor": "rgb(36,36,36)",
              "ticks": "outside"
             }
            },
            "type": "scatter3d"
           }
          ],
          "scattercarpet": [
           {
            "marker": {
             "colorbar": {
              "outlinewidth": 1,
              "tickcolor": "rgb(36,36,36)",
              "ticks": "outside"
             }
            },
            "type": "scattercarpet"
           }
          ],
          "scattergeo": [
           {
            "marker": {
             "colorbar": {
              "outlinewidth": 1,
              "tickcolor": "rgb(36,36,36)",
              "ticks": "outside"
             }
            },
            "type": "scattergeo"
           }
          ],
          "scattergl": [
           {
            "marker": {
             "colorbar": {
              "outlinewidth": 1,
              "tickcolor": "rgb(36,36,36)",
              "ticks": "outside"
             }
            },
            "type": "scattergl"
           }
          ],
          "scattermapbox": [
           {
            "marker": {
             "colorbar": {
              "outlinewidth": 1,
              "tickcolor": "rgb(36,36,36)",
              "ticks": "outside"
             }
            },
            "type": "scattermapbox"
           }
          ],
          "scatterpolar": [
           {
            "marker": {
             "colorbar": {
              "outlinewidth": 1,
              "tickcolor": "rgb(36,36,36)",
              "ticks": "outside"
             }
            },
            "type": "scatterpolar"
           }
          ],
          "scatterpolargl": [
           {
            "marker": {
             "colorbar": {
              "outlinewidth": 1,
              "tickcolor": "rgb(36,36,36)",
              "ticks": "outside"
             }
            },
            "type": "scatterpolargl"
           }
          ],
          "scatterternary": [
           {
            "marker": {
             "colorbar": {
              "outlinewidth": 1,
              "tickcolor": "rgb(36,36,36)",
              "ticks": "outside"
             }
            },
            "type": "scatterternary"
           }
          ],
          "surface": [
           {
            "colorbar": {
             "outlinewidth": 1,
             "tickcolor": "rgb(36,36,36)",
             "ticks": "outside"
            },
            "colorscale": [
             [
              0.0,
              "#440154"
             ],
             [
              0.1111111111111111,
              "#482878"
             ],
             [
              0.2222222222222222,
              "#3e4989"
             ],
             [
              0.3333333333333333,
              "#31688e"
             ],
             [
              0.4444444444444444,
              "#26828e"
             ],
             [
              0.5555555555555556,
              "#1f9e89"
             ],
             [
              0.6666666666666666,
              "#35b779"
             ],
             [
              0.7777777777777778,
              "#6ece58"
             ],
             [
              0.8888888888888888,
              "#b5de2b"
             ],
             [
              1.0,
              "#fde725"
             ]
            ],
            "type": "surface"
           }
          ],
          "table": [
           {
            "cells": {
             "fill": {
              "color": "rgb(237,237,237)"
             },
             "line": {
              "color": "white"
             }
            },
            "header": {
             "fill": {
              "color": "rgb(217,217,217)"
             },
             "line": {
              "color": "white"
             }
            },
            "type": "table"
           }
          ]
         },
         "layout": {
          "annotationdefaults": {
           "arrowhead": 0,
           "arrowwidth": 1
          },
          "autotypenumbers": "strict",
          "coloraxis": {
           "colorbar": {
            "outlinewidth": 1,
            "tickcolor": "rgb(36,36,36)",
            "ticks": "outside"
           }
          },
          "colorscale": {
           "diverging": [
            [
             0.0,
             "rgb(103,0,31)"
            ],
            [
             0.1,
             "rgb(178,24,43)"
            ],
            [
             0.2,
             "rgb(214,96,77)"
            ],
            [
             0.3,
             "rgb(244,165,130)"
            ],
            [
             0.4,
             "rgb(253,219,199)"
            ],
            [
             0.5,
             "rgb(247,247,247)"
            ],
            [
             0.6,
             "rgb(209,229,240)"
            ],
            [
             0.7,
             "rgb(146,197,222)"
            ],
            [
             0.8,
             "rgb(67,147,195)"
            ],
            [
             0.9,
             "rgb(33,102,172)"
            ],
            [
             1.0,
             "rgb(5,48,97)"
            ]
           ],
           "sequential": [
            [
             0.0,
             "#440154"
            ],
            [
             0.1111111111111111,
             "#482878"
            ],
            [
             0.2222222222222222,
             "#3e4989"
            ],
            [
             0.3333333333333333,
             "#31688e"
            ],
            [
             0.4444444444444444,
             "#26828e"
            ],
            [
             0.5555555555555556,
             "#1f9e89"
            ],
            [
             0.6666666666666666,
             "#35b779"
            ],
            [
             0.7777777777777778,
             "#6ece58"
            ],
            [
             0.8888888888888888,
             "#b5de2b"
            ],
            [
             1.0,
             "#fde725"
            ]
           ],
           "sequentialminus": [
            [
             0.0,
             "#440154"
            ],
            [
             0.1111111111111111,
             "#482878"
            ],
            [
             0.2222222222222222,
             "#3e4989"
            ],
            [
             0.3333333333333333,
             "#31688e"
            ],
            [
             0.4444444444444444,
             "#26828e"
            ],
            [
             0.5555555555555556,
             "#1f9e89"
            ],
            [
             0.6666666666666666,
             "#35b779"
            ],
            [
             0.7777777777777778,
             "#6ece58"
            ],
            [
             0.8888888888888888,
             "#b5de2b"
            ],
            [
             1.0,
             "#fde725"
            ]
           ]
          },
          "colorway": [
           "#91268F",
           "#8CC63E",
           "#00A7A0",
           "#F05A28",
           "#4C4C4C",
           "#630460",
           "#9f3913",
           "#588527",
           "#00716c",
           "#3e4040"
          ],
          "font": {
           "color": "rgb(36,36,36)",
           "family": "Poppins",
           "size": 11
          },
          "geo": {
           "bgcolor": "white",
           "lakecolor": "white",
           "landcolor": "white",
           "showlakes": true,
           "showland": true,
           "subunitcolor": "white"
          },
          "hoverlabel": {
           "align": "left"
          },
          "hovermode": "closest",
          "mapbox": {
           "style": "light"
          },
          "paper_bgcolor": "white",
          "plot_bgcolor": "white",
          "polar": {
           "angularaxis": {
            "gridcolor": "rgb(232,232,232)",
            "linecolor": "rgb(36,36,36)",
            "showgrid": false,
            "showline": true,
            "ticks": "outside"
           },
           "bgcolor": "white",
           "radialaxis": {
            "gridcolor": "rgb(232,232,232)",
            "linecolor": "rgb(36,36,36)",
            "showgrid": false,
            "showline": true,
            "ticks": "outside"
           }
          },
          "scene": {
           "xaxis": {
            "backgroundcolor": "white",
            "gridcolor": "rgb(232,232,232)",
            "gridwidth": 2,
            "linecolor": "rgb(36,36,36)",
            "showbackground": true,
            "showgrid": false,
            "showline": true,
            "ticks": "outside",
            "zeroline": false,
            "zerolinecolor": "rgb(36,36,36)"
           },
           "yaxis": {
            "backgroundcolor": "white",
            "gridcolor": "rgb(232,232,232)",
            "gridwidth": 2,
            "linecolor": "rgb(36,36,36)",
            "showbackground": true,
            "showgrid": false,
            "showline": true,
            "ticks": "outside",
            "zeroline": false,
            "zerolinecolor": "rgb(36,36,36)"
           },
           "zaxis": {
            "backgroundcolor": "white",
            "gridcolor": "rgb(232,232,232)",
            "gridwidth": 2,
            "linecolor": "rgb(36,36,36)",
            "showbackground": true,
            "showgrid": false,
            "showline": true,
            "ticks": "outside",
            "zeroline": false,
            "zerolinecolor": "rgb(36,36,36)"
           }
          },
          "shapedefaults": {
           "fillcolor": "black",
           "line": {
            "width": 0
           },
           "opacity": 0.3
          },
          "ternary": {
           "aaxis": {
            "gridcolor": "rgb(232,232,232)",
            "linecolor": "rgb(36,36,36)",
            "showgrid": false,
            "showline": true,
            "ticks": "outside"
           },
           "baxis": {
            "gridcolor": "rgb(232,232,232)",
            "linecolor": "rgb(36,36,36)",
            "showgrid": false,
            "showline": true,
            "ticks": "outside"
           },
           "bgcolor": "white",
           "caxis": {
            "gridcolor": "rgb(232,232,232)",
            "linecolor": "rgb(36,36,36)",
            "showgrid": false,
            "showline": true,
            "ticks": "outside"
           }
          },
          "title": {
           "x": 0.05
          },
          "xaxis": {
           "automargin": true,
           "gridcolor": "rgb(232,232,232)",
           "linecolor": "rgb(36,36,36)",
           "showgrid": false,
           "showline": true,
           "ticks": "outside",
           "title": {
            "standoff": 15
           },
           "zeroline": false,
           "zerolinecolor": "rgb(36,36,36)"
          },
          "yaxis": {
           "automargin": true,
           "gridcolor": "rgb(232,232,232)",
           "linecolor": "rgb(36,36,36)",
           "showgrid": false,
           "showline": true,
           "ticks": "outside",
           "title": {
            "standoff": 15
           },
           "zeroline": false,
           "zerolinecolor": "rgb(36,36,36)"
          }
         }
        },
        "title": {
         "text": "inbound: number of stops by purpose (excluding shares < 1%)"
        },
        "width": 800,
        "xaxis": {
         "anchor": "y",
         "categoryorder": "category ascending",
         "domain": [
          0.0,
          0.49
         ],
         "dtick": 1,
         "title": {
          "text": "tripsh2"
         }
        },
        "xaxis2": {
         "anchor": "y2",
         "categoryorder": "category ascending",
         "domain": [
          0.51,
          1.0
         ],
         "dtick": 1,
         "matches": "x",
         "title": {
          "text": "tripsh2"
         }
        },
        "xaxis3": {
         "anchor": "y3",
         "categoryorder": "category ascending",
         "domain": [
          0.0,
          0.49
         ],
         "dtick": 1,
         "matches": "x",
         "showticklabels": false
        },
        "xaxis4": {
         "anchor": "y4",
         "categoryorder": "category ascending",
         "domain": [
          0.51,
          1.0
         ],
         "dtick": 1,
         "matches": "x",
         "showticklabels": false
        },
        "xaxis5": {
         "anchor": "y5",
         "categoryorder": "category ascending",
         "domain": [
          0.0,
          0.49
         ],
         "dtick": 1,
         "matches": "x",
         "showticklabels": false
        },
        "xaxis6": {
         "anchor": "y6",
         "categoryorder": "category ascending",
         "domain": [
          0.51,
          1.0
         ],
         "dtick": 1,
         "matches": "x",
         "showticklabels": false
        },
        "yaxis": {
         "anchor": "x",
         "domain": [
          0.0,
          0.2866666666666666
         ],
         "title": {
          "text": "percentage"
         }
        },
        "yaxis2": {
         "anchor": "x2",
         "domain": [
          0.0,
          0.2866666666666666
         ],
         "matches": "y",
         "showticklabels": false
        },
        "yaxis3": {
         "anchor": "x3",
         "domain": [
          0.35666666666666663,
          0.6433333333333333
         ],
         "matches": "y",
         "title": {
          "text": "percentage"
         }
        },
        "yaxis4": {
         "anchor": "x4",
         "domain": [
          0.35666666666666663,
          0.6433333333333333
         ],
         "matches": "y",
         "showticklabels": false
        },
        "yaxis5": {
         "anchor": "x5",
         "domain": [
          0.7133333333333333,
          0.9999999999999999
         ],
         "matches": "y",
         "title": {
          "text": "percentage"
         }
        },
        "yaxis6": {
         "anchor": "x6",
         "domain": [
          0.7133333333333333,
          0.9999999999999999
         ],
         "matches": "y",
         "showticklabels": false
        }
       }
      },
      "text/html": [
       "<div>                            <div id=\"a6ee7a90-d5ed-47e5-92a5-f25e679f1e8d\" class=\"plotly-graph-div\" style=\"height:800px; width:800px;\"></div>            <script type=\"text/javascript\">                require([\"plotly\"], function(Plotly) {                    window.PLOTLYENV=window.PLOTLYENV || {};                                    if (document.getElementById(\"a6ee7a90-d5ed-47e5-92a5-f25e679f1e8d\")) {                    Plotly.newPlot(                        \"a6ee7a90-d5ed-47e5-92a5-f25e679f1e8d\",                        [{\"alignmentgroup\":\"True\",\"customdata\":[[21661.0],[17077.0],[7022.0],[1983.0],[720.0],[125.0],[82.0],[56.0]],\"hovertemplate\":\"source=model\\u003cbr\\u003epdpurp_label=Work\\u003cbr\\u003etripsh2=%{x}\\u003cbr\\u003epercentage=%{y}\\u003cbr\\u003etoexpfac=%{customdata[0]}\\u003cextra\\u003e\\u003c\\u002fextra\\u003e\",\"legendgroup\":\"model\",\"marker\":{\"color\":\"#91268F\",\"pattern\":{\"shape\":\"\"}},\"name\":\"model\",\"offsetgroup\":\"model\",\"orientation\":\"v\",\"showlegend\":true,\"textposition\":\"auto\",\"x\":[1.0,2.0,3.0,4.0,5.0,6.0,7.0,8.0],\"xaxis\":\"x5\",\"y\":[0.4429290037624734,0.34919433993129395,0.14358743661050222,0.04054883036152462,0.014722722067724521,0.0025560281367577294,0.0016767544577130705,0.0011451006052674627],\"yaxis\":\"y5\",\"type\":\"bar\"},{\"alignmentgroup\":\"True\",\"customdata\":[[10351.0],[4709.0],[1628.0],[338.0],[85.0]],\"hovertemplate\":\"source=model\\u003cbr\\u003epdpurp_label=School\\u003cbr\\u003etripsh2=%{x}\\u003cbr\\u003epercentage=%{y}\\u003cbr\\u003etoexpfac=%{customdata[0]}\\u003cextra\\u003e\\u003c\\u002fextra\\u003e\",\"legendgroup\":\"model\",\"marker\":{\"color\":\"#91268F\",\"pattern\":{\"shape\":\"\"}},\"name\":\"model\",\"offsetgroup\":\"model\",\"orientation\":\"v\",\"showlegend\":false,\"textposition\":\"auto\",\"x\":[1.0,2.0,3.0,4.0,5.0],\"xaxis\":\"x6\",\"y\":[0.604085205719288,0.27481762474467464,0.09501021301429823,0.019725707615990663,0.004960606944849723],\"yaxis\":\"y6\",\"type\":\"bar\"},{\"alignmentgroup\":\"True\",\"customdata\":[[20536.0],[7380.0],[1653.0],[222.0]],\"hovertemplate\":\"source=model\\u003cbr\\u003epdpurp_label=Shop\\u003cbr\\u003etripsh2=%{x}\\u003cbr\\u003epercentage=%{y}\\u003cbr\\u003etoexpfac=%{customdata[0]}\\u003cextra\\u003e\\u003c\\u002fextra\\u003e\",\"legendgroup\":\"model\",\"marker\":{\"color\":\"#91268F\",\"pattern\":{\"shape\":\"\"}},\"name\":\"model\",\"offsetgroup\":\"model\",\"orientation\":\"v\",\"showlegend\":false,\"textposition\":\"auto\",\"x\":[1.0,2.0,3.0,4.0],\"xaxis\":\"x3\",\"y\":[0.6886884201348134,0.24749320902780106,0.05543445454240585,0.0074449176699419835],\"yaxis\":\"y3\",\"type\":\"bar\"},{\"alignmentgroup\":\"True\",\"customdata\":[[20892.0],[3954.0],[797.0],[125.0]],\"hovertemplate\":\"source=model\\u003cbr\\u003epdpurp_label=Meal\\u003cbr\\u003etripsh2=%{x}\\u003cbr\\u003epercentage=%{y}\\u003cbr\\u003etoexpfac=%{customdata[0]}\\u003cextra\\u003e\\u003c\\u002fextra\\u003e\",\"legendgroup\":\"model\",\"marker\":{\"color\":\"#91268F\",\"pattern\":{\"shape\":\"\"}},\"name\":\"model\",\"offsetgroup\":\"model\",\"orientation\":\"v\",\"showlegend\":false,\"textposition\":\"auto\",\"x\":[1.0,2.0,3.0,4.0],\"xaxis\":\"x4\",\"y\":[0.8102699348433137,0.1533509152963078,0.030910642258765126,0.004847967731926776],\"yaxis\":\"y4\",\"type\":\"bar\"},{\"alignmentgroup\":\"True\",\"customdata\":[[14194.0],[6524.0],[1728.0],[300.0],[60.0]],\"hovertemplate\":\"source=model\\u003cbr\\u003epdpurp_label=Escort\\u003cbr\\u003etripsh2=%{x}\\u003cbr\\u003epercentage=%{y}\\u003cbr\\u003etoexpfac=%{customdata[0]}\\u003cextra\\u003e\\u003c\\u002fextra\\u003e\",\"legendgroup\":\"model\",\"marker\":{\"color\":\"#91268F\",\"pattern\":{\"shape\":\"\"}},\"name\":\"model\",\"offsetgroup\":\"model\",\"orientation\":\"v\",\"showlegend\":false,\"textposition\":\"auto\",\"x\":[1.0,2.0,3.0,4.0,5.0],\"xaxis\":\"x\",\"y\":[0.6219709916305157,0.28587704307436135,0.07571973182594978,0.013145786775338505,0.002629157355067701],\"yaxis\":\"y\",\"type\":\"bar\"},{\"alignmentgroup\":\"True\",\"customdata\":[[11979.0],[4056.0],[755.0],[73.0]],\"hovertemplate\":\"source=model\\u003cbr\\u003epdpurp_label=Personal Business\\u003cbr\\u003etripsh2=%{x}\\u003cbr\\u003epercentage=%{y}\\u003cbr\\u003etoexpfac=%{customdata[0]}\\u003cextra\\u003e\\u003c\\u002fextra\\u003e\",\"legendgroup\":\"model\",\"marker\":{\"color\":\"#91268F\",\"pattern\":{\"shape\":\"\"}},\"name\":\"model\",\"offsetgroup\":\"model\",\"orientation\":\"v\",\"showlegend\":false,\"textposition\":\"auto\",\"x\":[1.0,2.0,3.0,4.0],\"xaxis\":\"x2\",\"y\":[0.7099928876244666,0.24039829302987198,0.04474869606448554,0.0043266951161688005],\"yaxis\":\"y2\",\"type\":\"bar\"},{\"alignmentgroup\":\"True\",\"customdata\":[[10398.733131046363],[971534.1211231451],[369907.10575337533],[155355.2655846871],[60190.88904898113],[17636.69603986733],[13048.541098637364],[12409.378477449298]],\"hovertemplate\":\"source=survey\\u003cbr\\u003epdpurp_label=Work\\u003cbr\\u003etripsh2=%{x}\\u003cbr\\u003epercentage=%{y}\\u003cbr\\u003etoexpfac=%{customdata[0]}\\u003cextra\\u003e\\u003c\\u002fextra\\u003e\",\"legendgroup\":\"survey\",\"marker\":{\"color\":\"#8CC63E\",\"pattern\":{\"shape\":\"\"}},\"name\":\"survey\",\"offsetgroup\":\"survey\",\"orientation\":\"v\",\"showlegend\":true,\"textposition\":\"auto\",\"x\":[0.0,1.0,2.0,3.0,4.0,5.0,6.0,7.0],\"xaxis\":\"x5\",\"y\":[0.006452901831221609,0.6028825079251732,0.2295447156895788,0.09640523178619854,0.03735127089735633,0.010944397431700122,0.008097232007885449,0.007700601611015377],\"yaxis\":\"y5\",\"type\":\"bar\"},{\"alignmentgroup\":\"True\",\"customdata\":[[451610.6013004756],[100765.09725754513],[10373.785149172334],[592.8327478464412],[4091.6245888483913]],\"hovertemplate\":\"source=survey\\u003cbr\\u003epdpurp_label=School\\u003cbr\\u003etripsh2=%{x}\\u003cbr\\u003epercentage=%{y}\\u003cbr\\u003etoexpfac=%{customdata[0]}\\u003cextra\\u003e\\u003c\\u002fextra\\u003e\",\"legendgroup\":\"survey\",\"marker\":{\"color\":\"#8CC63E\",\"pattern\":{\"shape\":\"\"}},\"name\":\"survey\",\"offsetgroup\":\"survey\",\"orientation\":\"v\",\"showlegend\":false,\"textposition\":\"auto\",\"x\":[1.0,2.0,3.0,4.0,5.0],\"xaxis\":\"x6\",\"y\":[0.7958822492529505,0.17758031370518865,0.018281925698854132,0.0010447608170139208,0.007210750525992816],\"yaxis\":\"y6\",\"type\":\"bar\"},{\"alignmentgroup\":\"True\",\"customdata\":[[518644.4685403501],[157493.43489442684],[67834.4146018377],[9584.73321384724],[2927.462961271057]],\"hovertemplate\":\"source=survey\\u003cbr\\u003epdpurp_label=Shop\\u003cbr\\u003etripsh2=%{x}\\u003cbr\\u003epercentage=%{y}\\u003cbr\\u003etoexpfac=%{customdata[0]}\\u003cextra\\u003e\\u003c\\u002fextra\\u003e\",\"legendgroup\":\"survey\",\"marker\":{\"color\":\"#8CC63E\",\"pattern\":{\"shape\":\"\"}},\"name\":\"survey\",\"offsetgroup\":\"survey\",\"orientation\":\"v\",\"showlegend\":false,\"textposition\":\"auto\",\"x\":[1.0,2.0,3.0,4.0,5.0],\"xaxis\":\"x3\",\"y\":[0.6848474917627759,0.20796323955812313,0.08957239788174955,0.012656223866018099,0.0038655876768479117],\"yaxis\":\"y3\",\"type\":\"bar\"},{\"alignmentgroup\":\"True\",\"customdata\":[[333854.47896990675],[55409.21181474872],[13265.93929261936],[1922.2782395153636],[2811.742645538728]],\"hovertemplate\":\"source=survey\\u003cbr\\u003epdpurp_label=Meal\\u003cbr\\u003etripsh2=%{x}\\u003cbr\\u003epercentage=%{y}\\u003cbr\\u003etoexpfac=%{customdata[0]}\\u003cextra\\u003e\\u003c\\u002fextra\\u003e\",\"legendgroup\":\"survey\",\"marker\":{\"color\":\"#8CC63E\",\"pattern\":{\"shape\":\"\"}},\"name\":\"survey\",\"offsetgroup\":\"survey\",\"orientation\":\"v\",\"showlegend\":false,\"textposition\":\"auto\",\"x\":[1.0,2.0,3.0,4.0,5.0],\"xaxis\":\"x4\",\"y\":[0.8197502482262716,0.13605243601736008,0.032573344714837894,0.004719984793568456,0.006903986247962033],\"yaxis\":\"y4\",\"type\":\"bar\"},{\"alignmentgroup\":\"True\",\"customdata\":[[504629.93804629974],[85361.02051367835],[18925.46097771525],[20195.399783102497],[2996.542180276683]],\"hovertemplate\":\"source=survey\\u003cbr\\u003epdpurp_label=Escort\\u003cbr\\u003etripsh2=%{x}\\u003cbr\\u003epercentage=%{y}\\u003cbr\\u003etoexpfac=%{customdata[0]}\\u003cextra\\u003e\\u003c\\u002fextra\\u003e\",\"legendgroup\":\"survey\",\"marker\":{\"color\":\"#8CC63E\",\"pattern\":{\"shape\":\"\"}},\"name\":\"survey\",\"offsetgroup\":\"survey\",\"orientation\":\"v\",\"showlegend\":false,\"textposition\":\"auto\",\"x\":[1.0,2.0,3.0,4.0,5.0],\"xaxis\":\"x\",\"y\":[0.7983282120298981,0.13504175187774906,0.0299402161565666,0.031949268532288244,0.004740551403497925],\"yaxis\":\"y\",\"type\":\"bar\"},{\"alignmentgroup\":\"True\",\"customdata\":[[247595.22876023976],[96521.67424586197],[19759.967367171612],[17413.244124640078],[14078.94098919739],[1441.6812115059531],[4058.6274764297264],[602.0969068897372]],\"hovertemplate\":\"source=survey\\u003cbr\\u003epdpurp_label=Personal Business\\u003cbr\\u003etripsh2=%{x}\\u003cbr\\u003epercentage=%{y}\\u003cbr\\u003etoexpfac=%{customdata[0]}\\u003cextra\\u003e\\u003c\\u002fextra\\u003e\",\"legendgroup\":\"survey\",\"marker\":{\"color\":\"#8CC63E\",\"pattern\":{\"shape\":\"\"}},\"name\":\"survey\",\"offsetgroup\":\"survey\",\"orientation\":\"v\",\"showlegend\":false,\"textposition\":\"auto\",\"x\":[1.0,2.0,3.0,4.0,5.0,6.0,7.0,9.0],\"xaxis\":\"x2\",\"y\":[0.6167193755017821,0.2404197647965888,0.04921885932793316,0.0433735540696035,0.03506834819903679,0.003590993012605996,0.010109379793751769,0.0014997252986977704],\"yaxis\":\"y2\",\"type\":\"bar\"},{\"alignmentgroup\":\"True\",\"customdata\":[[10301.031677684576],[830584.9523209231],[311454.0712463149],[99880.61474912784],[49377.309811117375],[14463.558952517587],[7817.476497058852],[10018.77397658432],[1387.1042984550506]],\"hovertemplate\":\"source=survey (2017\\u002f2019)\\u003cbr\\u003epdpurp_label=Work\\u003cbr\\u003etripsh2=%{x}\\u003cbr\\u003epercentage=%{y}\\u003cbr\\u003etoexpfac=%{customdata[0]}\\u003cextra\\u003e\\u003c\\u002fextra\\u003e\",\"legendgroup\":\"survey (2017\\u002f2019)\",\"marker\":{\"color\":\"#00A7A0\",\"pattern\":{\"shape\":\"\"}},\"name\":\"survey (2017\\u002f2019)\",\"offsetgroup\":\"survey (2017\\u002f2019)\",\"orientation\":\"v\",\"showlegend\":true,\"textposition\":\"auto\",\"x\":[0.0,1.0,2.0,3.0,4.0,5.0,6.0,7.0,9.0],\"xaxis\":\"x5\",\"y\":[0.007706967667351852,0.6214223558203046,0.23302194693376516,0.07472811389701328,0.03694283661310275,0.01082126380053481,0.005848835387394724,0.007495789695639246,0.0010377958552051348],\"yaxis\":\"y5\",\"type\":\"bar\"},{\"alignmentgroup\":\"True\",\"customdata\":[[416601.5815295155],[76270.30771362712],[20229.406436174704],[6341.570306884747]],\"hovertemplate\":\"source=survey (2017\\u002f2019)\\u003cbr\\u003epdpurp_label=School\\u003cbr\\u003etripsh2=%{x}\\u003cbr\\u003epercentage=%{y}\\u003cbr\\u003etoexpfac=%{customdata[0]}\\u003cextra\\u003e\\u003c\\u002fextra\\u003e\",\"legendgroup\":\"survey (2017\\u002f2019)\",\"marker\":{\"color\":\"#00A7A0\",\"pattern\":{\"shape\":\"\"}},\"name\":\"survey (2017\\u002f2019)\",\"offsetgroup\":\"survey (2017\\u002f2019)\",\"orientation\":\"v\",\"showlegend\":false,\"textposition\":\"auto\",\"x\":[1.0,2.0,3.0,4.0],\"xaxis\":\"x6\",\"y\":[0.8012924455357028,0.1466984862737084,0.038909287131041984,0.01219739099665483],\"yaxis\":\"y6\",\"type\":\"bar\"},{\"alignmentgroup\":\"True\",\"customdata\":[[386327.5174254186],[147277.02555430762],[53681.68559346279],[13336.235810328742]],\"hovertemplate\":\"source=survey (2017\\u002f2019)\\u003cbr\\u003epdpurp_label=Shop\\u003cbr\\u003etripsh2=%{x}\\u003cbr\\u003epercentage=%{y}\\u003cbr\\u003etoexpfac=%{customdata[0]}\\u003cextra\\u003e\\u003c\\u002fextra\\u003e\",\"legendgroup\":\"survey (2017\\u002f2019)\",\"marker\":{\"color\":\"#00A7A0\",\"pattern\":{\"shape\":\"\"}},\"name\":\"survey (2017\\u002f2019)\",\"offsetgroup\":\"survey (2017\\u002f2019)\",\"orientation\":\"v\",\"showlegend\":false,\"textposition\":\"auto\",\"x\":[1.0,2.0,3.0,4.0],\"xaxis\":\"x3\",\"y\":[0.6424198450985324,0.24490537089798758,0.08926669364223613,0.022176682107877183],\"yaxis\":\"y3\",\"type\":\"bar\"},{\"alignmentgroup\":\"True\",\"customdata\":[[337735.4259200245],[48554.02993209262],[9244.562636684193],[679.0835321527463],[1981.1555654272388]],\"hovertemplate\":\"source=survey (2017\\u002f2019)\\u003cbr\\u003epdpurp_label=Meal\\u003cbr\\u003etripsh2=%{x}\\u003cbr\\u003epercentage=%{y}\\u003cbr\\u003etoexpfac=%{customdata[0]}\\u003cextra\\u003e\\u003c\\u002fextra\\u003e\",\"legendgroup\":\"survey (2017\\u002f2019)\",\"marker\":{\"color\":\"#00A7A0\",\"pattern\":{\"shape\":\"\"}},\"name\":\"survey (2017\\u002f2019)\",\"offsetgroup\":\"survey (2017\\u002f2019)\",\"orientation\":\"v\",\"showlegend\":false,\"textposition\":\"auto\",\"x\":[1.0,2.0,3.0,4.0,5.0],\"xaxis\":\"x4\",\"y\":[0.8481674948483121,0.12193553524955009,0.023216212842242578,0.00170540764768671,0.004975349412208592],\"yaxis\":\"y4\",\"type\":\"bar\"},{\"alignmentgroup\":\"True\",\"customdata\":[[526620.7870922339],[91167.46265776404],[23934.608154814472],[18215.034723981258]],\"hovertemplate\":\"source=survey (2017\\u002f2019)\\u003cbr\\u003epdpurp_label=Escort\\u003cbr\\u003etripsh2=%{x}\\u003cbr\\u003epercentage=%{y}\\u003cbr\\u003etoexpfac=%{customdata[0]}\\u003cextra\\u003e\\u003c\\u002fextra\\u003e\",\"legendgroup\":\"survey (2017\\u002f2019)\",\"marker\":{\"color\":\"#00A7A0\",\"pattern\":{\"shape\":\"\"}},\"name\":\"survey (2017\\u002f2019)\",\"offsetgroup\":\"survey (2017\\u002f2019)\",\"orientation\":\"v\",\"showlegend\":false,\"textposition\":\"auto\",\"x\":[1.0,2.0,3.0,4.0],\"xaxis\":\"x\",\"y\":[0.7973738015755601,0.13803964458145726,0.03624017502044265,0.027579981344617834],\"yaxis\":\"y\",\"type\":\"bar\"},{\"alignmentgroup\":\"True\",\"customdata\":[[210215.80990255653],[66273.72094328929],[11260.900341999017],[14572.115158019953],[2361.297884166004],[1246.6359327995103],[479.3318721668201]],\"hovertemplate\":\"source=survey (2017\\u002f2019)\\u003cbr\\u003epdpurp_label=Personal Business\\u003cbr\\u003etripsh2=%{x}\\u003cbr\\u003epercentage=%{y}\\u003cbr\\u003etoexpfac=%{customdata[0]}\\u003cextra\\u003e\\u003c\\u002fextra\\u003e\",\"legendgroup\":\"survey (2017\\u002f2019)\",\"marker\":{\"color\":\"#00A7A0\",\"pattern\":{\"shape\":\"\"}},\"name\":\"survey (2017\\u002f2019)\",\"offsetgroup\":\"survey (2017\\u002f2019)\",\"orientation\":\"v\",\"showlegend\":false,\"textposition\":\"auto\",\"x\":[1.0,2.0,3.0,4.0,5.0,6.0,7.0],\"xaxis\":\"x2\",\"y\":[0.6856730074882554,0.21616881041291225,0.036730326839371025,0.047530706803148116,0.00770198122853969,0.004066224180197454,0.001563464358489254],\"yaxis\":\"y2\",\"type\":\"bar\"},{\"alignmentgroup\":\"True\",\"customdata\":[[17190.83023949187],[1002711.3428314013],[393169.9197377121],[144649.73760167134],[45628.53886223948],[19992.37610164168],[3355.7146827452243],[6034.035319935689]],\"hovertemplate\":\"source=survey (old weights)\\u003cbr\\u003epdpurp_label=Work\\u003cbr\\u003etripsh2=%{x}\\u003cbr\\u003epercentage=%{y}\\u003cbr\\u003etoexpfac=%{customdata[0]}\\u003cextra\\u003e\\u003c\\u002fextra\\u003e\",\"legendgroup\":\"survey (old weights)\",\"marker\":{\"color\":\"#F05A28\",\"pattern\":{\"shape\":\"\"}},\"name\":\"survey (old weights)\",\"offsetgroup\":\"survey (old weights)\",\"orientation\":\"v\",\"showlegend\":true,\"textposition\":\"auto\",\"x\":[0.0,1.0,2.0,3.0,4.0,5.0,6.0,11.0],\"xaxis\":\"x5\",\"y\":[0.010514156094883683,0.6132725080619145,0.24046831074154004,0.08846983531569633,0.027907062852435723,0.012227621360450127,0.002052402792229496,0.0036905017589028612],\"yaxis\":\"y5\",\"type\":\"bar\"},{\"alignmentgroup\":\"True\",\"customdata\":[[409863.3812633639],[87780.26018979211],[18855.77154456021],[5200.94821336106],[3064.276897256235]],\"hovertemplate\":\"source=survey (old weights)\\u003cbr\\u003epdpurp_label=School\\u003cbr\\u003etripsh2=%{x}\\u003cbr\\u003epercentage=%{y}\\u003cbr\\u003etoexpfac=%{customdata[0]}\\u003cextra\\u003e\\u003c\\u002fextra\\u003e\",\"legendgroup\":\"survey (old weights)\",\"marker\":{\"color\":\"#F05A28\",\"pattern\":{\"shape\":\"\"}},\"name\":\"survey (old weights)\",\"offsetgroup\":\"survey (old weights)\",\"orientation\":\"v\",\"showlegend\":false,\"textposition\":\"auto\",\"x\":[1.0,2.0,3.0,4.0,9.0],\"xaxis\":\"x6\",\"y\":[0.7801778023879334,0.1670903369723275,0.03589209253244128,0.00990004116719607,0.005832872427491435],\"yaxis\":\"y6\",\"type\":\"bar\"},{\"alignmentgroup\":\"True\",\"customdata\":[[607447.0285520281],[101485.39742397876],[48992.14928779845],[25262.36060348083],[1334.3297362163516],[1738.1325162029443]],\"hovertemplate\":\"source=survey (old weights)\\u003cbr\\u003epdpurp_label=Shop\\u003cbr\\u003etripsh2=%{x}\\u003cbr\\u003epercentage=%{y}\\u003cbr\\u003etoexpfac=%{customdata[0]}\\u003cextra\\u003e\\u003c\\u002fextra\\u003e\",\"legendgroup\":\"survey (old weights)\",\"marker\":{\"color\":\"#F05A28\",\"pattern\":{\"shape\":\"\"}},\"name\":\"survey (old weights)\",\"offsetgroup\":\"survey (old weights)\",\"orientation\":\"v\",\"showlegend\":false,\"textposition\":\"auto\",\"x\":[1.0,2.0,3.0,4.0,5.0,6.0],\"xaxis\":\"x3\",\"y\":[0.7725751890077427,0.12907314779899504,0.06231015581085282,0.032129670737774146,0.001697053404991189,0.002210625773290746],\"yaxis\":\"y3\",\"type\":\"bar\"},{\"alignmentgroup\":\"True\",\"customdata\":[[262333.44643518334],[71478.89854243078],[28251.10612198561],[6375.764630775777],[832.7704438293529]],\"hovertemplate\":\"source=survey (old weights)\\u003cbr\\u003epdpurp_label=Meal\\u003cbr\\u003etripsh2=%{x}\\u003cbr\\u003epercentage=%{y}\\u003cbr\\u003etoexpfac=%{customdata[0]}\\u003cextra\\u003e\\u003c\\u002fextra\\u003e\",\"legendgroup\":\"survey (old weights)\",\"marker\":{\"color\":\"#F05A28\",\"pattern\":{\"shape\":\"\"}},\"name\":\"survey (old weights)\",\"offsetgroup\":\"survey (old weights)\",\"orientation\":\"v\",\"showlegend\":false,\"textposition\":\"auto\",\"x\":[1.0,2.0,3.0,4.0,5.0],\"xaxis\":\"x4\",\"y\":[0.7102439606445277,0.193522620516587,0.07648730185697299,0.017261803193739288,0.002254650279522019],\"yaxis\":\"y4\",\"type\":\"bar\"},{\"alignmentgroup\":\"True\",\"customdata\":[[379764.4251867545],[36476.29300772719],[7596.419735380923],[6500.826584487096],[4434.997330872685]],\"hovertemplate\":\"source=survey (old weights)\\u003cbr\\u003epdpurp_label=Escort\\u003cbr\\u003etripsh2=%{x}\\u003cbr\\u003epercentage=%{y}\\u003cbr\\u003etoexpfac=%{customdata[0]}\\u003cextra\\u003e\\u003c\\u002fextra\\u003e\",\"legendgroup\":\"survey (old weights)\",\"marker\":{\"color\":\"#F05A28\",\"pattern\":{\"shape\":\"\"}},\"name\":\"survey (old weights)\",\"offsetgroup\":\"survey (old weights)\",\"orientation\":\"v\",\"showlegend\":false,\"textposition\":\"auto\",\"x\":[1.0,2.0,3.0,4.0,5.0],\"xaxis\":\"x\",\"y\":[0.8732878514788197,0.08387911409807584,0.017468358354998142,0.01494898548754623,0.010198504740109584],\"yaxis\":\"y\",\"type\":\"bar\"},{\"alignmentgroup\":\"True\",\"customdata\":[[568525.9680930881],[182606.1109317697],[34271.46048963302],[12103.317639236639],[15263.641904297352],[1822.833689925447]],\"hovertemplate\":\"source=survey (old weights)\\u003cbr\\u003epdpurp_label=Personal Business\\u003cbr\\u003etripsh2=%{x}\\u003cbr\\u003epercentage=%{y}\\u003cbr\\u003etoexpfac=%{customdata[0]}\\u003cextra\\u003e\\u003c\\u002fextra\\u003e\",\"legendgroup\":\"survey (old weights)\",\"marker\":{\"color\":\"#F05A28\",\"pattern\":{\"shape\":\"\"}},\"name\":\"survey (old weights)\",\"offsetgroup\":\"survey (old weights)\",\"orientation\":\"v\",\"showlegend\":false,\"textposition\":\"auto\",\"x\":[1.0,2.0,3.0,4.0,5.0,8.0],\"xaxis\":\"x2\",\"y\":[0.6975869358347305,0.22405948811248114,0.04205141796729616,0.014850889386299922,0.018728638238656437,0.0022366348058936924],\"yaxis\":\"y2\",\"type\":\"bar\"}],                        {\"template\":{\"data\":{\"barpolar\":[{\"marker\":{\"line\":{\"color\":\"white\",\"width\":0.5},\"pattern\":{\"fillmode\":\"overlay\",\"size\":10,\"solidity\":0.2}},\"type\":\"barpolar\"}],\"bar\":[{\"error_x\":{\"color\":\"rgb(36,36,36)\"},\"error_y\":{\"color\":\"rgb(36,36,36)\"},\"marker\":{\"line\":{\"color\":\"white\",\"width\":0.5},\"pattern\":{\"fillmode\":\"overlay\",\"size\":10,\"solidity\":0.2}},\"type\":\"bar\"}],\"carpet\":[{\"aaxis\":{\"endlinecolor\":\"rgb(36,36,36)\",\"gridcolor\":\"white\",\"linecolor\":\"white\",\"minorgridcolor\":\"white\",\"startlinecolor\":\"rgb(36,36,36)\"},\"baxis\":{\"endlinecolor\":\"rgb(36,36,36)\",\"gridcolor\":\"white\",\"linecolor\":\"white\",\"minorgridcolor\":\"white\",\"startlinecolor\":\"rgb(36,36,36)\"},\"type\":\"carpet\"}],\"choropleth\":[{\"colorbar\":{\"outlinewidth\":1,\"tickcolor\":\"rgb(36,36,36)\",\"ticks\":\"outside\"},\"type\":\"choropleth\"}],\"contourcarpet\":[{\"colorbar\":{\"outlinewidth\":1,\"tickcolor\":\"rgb(36,36,36)\",\"ticks\":\"outside\"},\"type\":\"contourcarpet\"}],\"contour\":[{\"colorbar\":{\"outlinewidth\":1,\"tickcolor\":\"rgb(36,36,36)\",\"ticks\":\"outside\"},\"colorscale\":[[0.0,\"#440154\"],[0.1111111111111111,\"#482878\"],[0.2222222222222222,\"#3e4989\"],[0.3333333333333333,\"#31688e\"],[0.4444444444444444,\"#26828e\"],[0.5555555555555556,\"#1f9e89\"],[0.6666666666666666,\"#35b779\"],[0.7777777777777778,\"#6ece58\"],[0.8888888888888888,\"#b5de2b\"],[1.0,\"#fde725\"]],\"type\":\"contour\"}],\"heatmapgl\":[{\"colorbar\":{\"outlinewidth\":1,\"tickcolor\":\"rgb(36,36,36)\",\"ticks\":\"outside\"},\"colorscale\":[[0.0,\"#440154\"],[0.1111111111111111,\"#482878\"],[0.2222222222222222,\"#3e4989\"],[0.3333333333333333,\"#31688e\"],[0.4444444444444444,\"#26828e\"],[0.5555555555555556,\"#1f9e89\"],[0.6666666666666666,\"#35b779\"],[0.7777777777777778,\"#6ece58\"],[0.8888888888888888,\"#b5de2b\"],[1.0,\"#fde725\"]],\"type\":\"heatmapgl\"}],\"heatmap\":[{\"colorbar\":{\"outlinewidth\":1,\"tickcolor\":\"rgb(36,36,36)\",\"ticks\":\"outside\"},\"colorscale\":[[0.0,\"#440154\"],[0.1111111111111111,\"#482878\"],[0.2222222222222222,\"#3e4989\"],[0.3333333333333333,\"#31688e\"],[0.4444444444444444,\"#26828e\"],[0.5555555555555556,\"#1f9e89\"],[0.6666666666666666,\"#35b779\"],[0.7777777777777778,\"#6ece58\"],[0.8888888888888888,\"#b5de2b\"],[1.0,\"#fde725\"]],\"type\":\"heatmap\"}],\"histogram2dcontour\":[{\"colorbar\":{\"outlinewidth\":1,\"tickcolor\":\"rgb(36,36,36)\",\"ticks\":\"outside\"},\"colorscale\":[[0.0,\"#440154\"],[0.1111111111111111,\"#482878\"],[0.2222222222222222,\"#3e4989\"],[0.3333333333333333,\"#31688e\"],[0.4444444444444444,\"#26828e\"],[0.5555555555555556,\"#1f9e89\"],[0.6666666666666666,\"#35b779\"],[0.7777777777777778,\"#6ece58\"],[0.8888888888888888,\"#b5de2b\"],[1.0,\"#fde725\"]],\"type\":\"histogram2dcontour\"}],\"histogram2d\":[{\"colorbar\":{\"outlinewidth\":1,\"tickcolor\":\"rgb(36,36,36)\",\"ticks\":\"outside\"},\"colorscale\":[[0.0,\"#440154\"],[0.1111111111111111,\"#482878\"],[0.2222222222222222,\"#3e4989\"],[0.3333333333333333,\"#31688e\"],[0.4444444444444444,\"#26828e\"],[0.5555555555555556,\"#1f9e89\"],[0.6666666666666666,\"#35b779\"],[0.7777777777777778,\"#6ece58\"],[0.8888888888888888,\"#b5de2b\"],[1.0,\"#fde725\"]],\"type\":\"histogram2d\"}],\"histogram\":[{\"marker\":{\"line\":{\"color\":\"white\",\"width\":0.6}},\"type\":\"histogram\"}],\"mesh3d\":[{\"colorbar\":{\"outlinewidth\":1,\"tickcolor\":\"rgb(36,36,36)\",\"ticks\":\"outside\"},\"type\":\"mesh3d\"}],\"parcoords\":[{\"line\":{\"colorbar\":{\"outlinewidth\":1,\"tickcolor\":\"rgb(36,36,36)\",\"ticks\":\"outside\"}},\"type\":\"parcoords\"}],\"pie\":[{\"automargin\":true,\"type\":\"pie\"}],\"scatter3d\":[{\"line\":{\"colorbar\":{\"outlinewidth\":1,\"tickcolor\":\"rgb(36,36,36)\",\"ticks\":\"outside\"}},\"marker\":{\"colorbar\":{\"outlinewidth\":1,\"tickcolor\":\"rgb(36,36,36)\",\"ticks\":\"outside\"}},\"type\":\"scatter3d\"}],\"scattercarpet\":[{\"marker\":{\"colorbar\":{\"outlinewidth\":1,\"tickcolor\":\"rgb(36,36,36)\",\"ticks\":\"outside\"}},\"type\":\"scattercarpet\"}],\"scattergeo\":[{\"marker\":{\"colorbar\":{\"outlinewidth\":1,\"tickcolor\":\"rgb(36,36,36)\",\"ticks\":\"outside\"}},\"type\":\"scattergeo\"}],\"scattergl\":[{\"marker\":{\"colorbar\":{\"outlinewidth\":1,\"tickcolor\":\"rgb(36,36,36)\",\"ticks\":\"outside\"}},\"type\":\"scattergl\"}],\"scattermapbox\":[{\"marker\":{\"colorbar\":{\"outlinewidth\":1,\"tickcolor\":\"rgb(36,36,36)\",\"ticks\":\"outside\"}},\"type\":\"scattermapbox\"}],\"scatterpolargl\":[{\"marker\":{\"colorbar\":{\"outlinewidth\":1,\"tickcolor\":\"rgb(36,36,36)\",\"ticks\":\"outside\"}},\"type\":\"scatterpolargl\"}],\"scatterpolar\":[{\"marker\":{\"colorbar\":{\"outlinewidth\":1,\"tickcolor\":\"rgb(36,36,36)\",\"ticks\":\"outside\"}},\"type\":\"scatterpolar\"}],\"scatter\":[{\"fillpattern\":{\"fillmode\":\"overlay\",\"size\":10,\"solidity\":0.2},\"type\":\"scatter\"}],\"scatterternary\":[{\"marker\":{\"colorbar\":{\"outlinewidth\":1,\"tickcolor\":\"rgb(36,36,36)\",\"ticks\":\"outside\"}},\"type\":\"scatterternary\"}],\"surface\":[{\"colorbar\":{\"outlinewidth\":1,\"tickcolor\":\"rgb(36,36,36)\",\"ticks\":\"outside\"},\"colorscale\":[[0.0,\"#440154\"],[0.1111111111111111,\"#482878\"],[0.2222222222222222,\"#3e4989\"],[0.3333333333333333,\"#31688e\"],[0.4444444444444444,\"#26828e\"],[0.5555555555555556,\"#1f9e89\"],[0.6666666666666666,\"#35b779\"],[0.7777777777777778,\"#6ece58\"],[0.8888888888888888,\"#b5de2b\"],[1.0,\"#fde725\"]],\"type\":\"surface\"}],\"table\":[{\"cells\":{\"fill\":{\"color\":\"rgb(237,237,237)\"},\"line\":{\"color\":\"white\"}},\"header\":{\"fill\":{\"color\":\"rgb(217,217,217)\"},\"line\":{\"color\":\"white\"}},\"type\":\"table\"}]},\"layout\":{\"annotationdefaults\":{\"arrowhead\":0,\"arrowwidth\":1},\"autotypenumbers\":\"strict\",\"coloraxis\":{\"colorbar\":{\"outlinewidth\":1,\"tickcolor\":\"rgb(36,36,36)\",\"ticks\":\"outside\"}},\"colorscale\":{\"diverging\":[[0.0,\"rgb(103,0,31)\"],[0.1,\"rgb(178,24,43)\"],[0.2,\"rgb(214,96,77)\"],[0.3,\"rgb(244,165,130)\"],[0.4,\"rgb(253,219,199)\"],[0.5,\"rgb(247,247,247)\"],[0.6,\"rgb(209,229,240)\"],[0.7,\"rgb(146,197,222)\"],[0.8,\"rgb(67,147,195)\"],[0.9,\"rgb(33,102,172)\"],[1.0,\"rgb(5,48,97)\"]],\"sequential\":[[0.0,\"#440154\"],[0.1111111111111111,\"#482878\"],[0.2222222222222222,\"#3e4989\"],[0.3333333333333333,\"#31688e\"],[0.4444444444444444,\"#26828e\"],[0.5555555555555556,\"#1f9e89\"],[0.6666666666666666,\"#35b779\"],[0.7777777777777778,\"#6ece58\"],[0.8888888888888888,\"#b5de2b\"],[1.0,\"#fde725\"]],\"sequentialminus\":[[0.0,\"#440154\"],[0.1111111111111111,\"#482878\"],[0.2222222222222222,\"#3e4989\"],[0.3333333333333333,\"#31688e\"],[0.4444444444444444,\"#26828e\"],[0.5555555555555556,\"#1f9e89\"],[0.6666666666666666,\"#35b779\"],[0.7777777777777778,\"#6ece58\"],[0.8888888888888888,\"#b5de2b\"],[1.0,\"#fde725\"]]},\"colorway\":[\"#91268F\",\"#8CC63E\",\"#00A7A0\",\"#F05A28\",\"#4C4C4C\",\"#630460\",\"#9f3913\",\"#588527\",\"#00716c\",\"#3e4040\"],\"font\":{\"color\":\"rgb(36,36,36)\",\"family\":\"Poppins\",\"size\":11},\"geo\":{\"bgcolor\":\"white\",\"lakecolor\":\"white\",\"landcolor\":\"white\",\"showlakes\":true,\"showland\":true,\"subunitcolor\":\"white\"},\"hoverlabel\":{\"align\":\"left\"},\"hovermode\":\"closest\",\"mapbox\":{\"style\":\"light\"},\"paper_bgcolor\":\"white\",\"plot_bgcolor\":\"white\",\"polar\":{\"angularaxis\":{\"gridcolor\":\"rgb(232,232,232)\",\"linecolor\":\"rgb(36,36,36)\",\"showgrid\":false,\"showline\":true,\"ticks\":\"outside\"},\"bgcolor\":\"white\",\"radialaxis\":{\"gridcolor\":\"rgb(232,232,232)\",\"linecolor\":\"rgb(36,36,36)\",\"showgrid\":false,\"showline\":true,\"ticks\":\"outside\"}},\"scene\":{\"xaxis\":{\"backgroundcolor\":\"white\",\"gridcolor\":\"rgb(232,232,232)\",\"gridwidth\":2,\"linecolor\":\"rgb(36,36,36)\",\"showbackground\":true,\"showgrid\":false,\"showline\":true,\"ticks\":\"outside\",\"zeroline\":false,\"zerolinecolor\":\"rgb(36,36,36)\"},\"yaxis\":{\"backgroundcolor\":\"white\",\"gridcolor\":\"rgb(232,232,232)\",\"gridwidth\":2,\"linecolor\":\"rgb(36,36,36)\",\"showbackground\":true,\"showgrid\":false,\"showline\":true,\"ticks\":\"outside\",\"zeroline\":false,\"zerolinecolor\":\"rgb(36,36,36)\"},\"zaxis\":{\"backgroundcolor\":\"white\",\"gridcolor\":\"rgb(232,232,232)\",\"gridwidth\":2,\"linecolor\":\"rgb(36,36,36)\",\"showbackground\":true,\"showgrid\":false,\"showline\":true,\"ticks\":\"outside\",\"zeroline\":false,\"zerolinecolor\":\"rgb(36,36,36)\"}},\"shapedefaults\":{\"fillcolor\":\"black\",\"line\":{\"width\":0},\"opacity\":0.3},\"ternary\":{\"aaxis\":{\"gridcolor\":\"rgb(232,232,232)\",\"linecolor\":\"rgb(36,36,36)\",\"showgrid\":false,\"showline\":true,\"ticks\":\"outside\"},\"baxis\":{\"gridcolor\":\"rgb(232,232,232)\",\"linecolor\":\"rgb(36,36,36)\",\"showgrid\":false,\"showline\":true,\"ticks\":\"outside\"},\"bgcolor\":\"white\",\"caxis\":{\"gridcolor\":\"rgb(232,232,232)\",\"linecolor\":\"rgb(36,36,36)\",\"showgrid\":false,\"showline\":true,\"ticks\":\"outside\"}},\"title\":{\"x\":0.05},\"xaxis\":{\"automargin\":true,\"gridcolor\":\"rgb(232,232,232)\",\"linecolor\":\"rgb(36,36,36)\",\"showgrid\":false,\"showline\":true,\"ticks\":\"outside\",\"title\":{\"standoff\":15},\"zeroline\":false,\"zerolinecolor\":\"rgb(36,36,36)\"},\"yaxis\":{\"automargin\":true,\"gridcolor\":\"rgb(232,232,232)\",\"linecolor\":\"rgb(36,36,36)\",\"showgrid\":false,\"showline\":true,\"ticks\":\"outside\",\"title\":{\"standoff\":15},\"zeroline\":false,\"zerolinecolor\":\"rgb(36,36,36)\"}}},\"xaxis\":{\"anchor\":\"y\",\"domain\":[0.0,0.49],\"title\":{\"text\":\"tripsh2\"},\"dtick\":1,\"categoryorder\":\"category ascending\"},\"yaxis\":{\"anchor\":\"x\",\"domain\":[0.0,0.2866666666666666],\"title\":{\"text\":\"percentage\"}},\"xaxis2\":{\"anchor\":\"y2\",\"domain\":[0.51,1.0],\"matches\":\"x\",\"title\":{\"text\":\"tripsh2\"},\"dtick\":1,\"categoryorder\":\"category ascending\"},\"yaxis2\":{\"anchor\":\"x2\",\"domain\":[0.0,0.2866666666666666],\"matches\":\"y\",\"showticklabels\":false},\"xaxis3\":{\"anchor\":\"y3\",\"domain\":[0.0,0.49],\"matches\":\"x\",\"showticklabels\":false,\"dtick\":1,\"categoryorder\":\"category ascending\"},\"yaxis3\":{\"anchor\":\"x3\",\"domain\":[0.35666666666666663,0.6433333333333333],\"matches\":\"y\",\"title\":{\"text\":\"percentage\"}},\"xaxis4\":{\"anchor\":\"y4\",\"domain\":[0.51,1.0],\"matches\":\"x\",\"showticklabels\":false,\"dtick\":1,\"categoryorder\":\"category ascending\"},\"yaxis4\":{\"anchor\":\"x4\",\"domain\":[0.35666666666666663,0.6433333333333333],\"matches\":\"y\",\"showticklabels\":false},\"xaxis5\":{\"anchor\":\"y5\",\"domain\":[0.0,0.49],\"matches\":\"x\",\"showticklabels\":false,\"dtick\":1,\"categoryorder\":\"category ascending\"},\"yaxis5\":{\"anchor\":\"x5\",\"domain\":[0.7133333333333333,0.9999999999999999],\"matches\":\"y\",\"title\":{\"text\":\"percentage\"}},\"xaxis6\":{\"anchor\":\"y6\",\"domain\":[0.51,1.0],\"matches\":\"x\",\"showticklabels\":false,\"dtick\":1,\"categoryorder\":\"category ascending\"},\"yaxis6\":{\"anchor\":\"x6\",\"domain\":[0.7133333333333333,0.9999999999999999],\"matches\":\"y\",\"showticklabels\":false},\"annotations\":[{\"font\":{},\"showarrow\":false,\"text\":\"Escort\",\"x\":0.245,\"xanchor\":\"center\",\"xref\":\"paper\",\"y\":0.2866666666666666,\"yanchor\":\"bottom\",\"yref\":\"paper\"},{\"font\":{},\"showarrow\":false,\"text\":\"Personal Business\",\"x\":0.755,\"xanchor\":\"center\",\"xref\":\"paper\",\"y\":0.2866666666666666,\"yanchor\":\"bottom\",\"yref\":\"paper\"},{\"font\":{},\"showarrow\":false,\"text\":\"Shop\",\"x\":0.245,\"xanchor\":\"center\",\"xref\":\"paper\",\"y\":0.6433333333333333,\"yanchor\":\"bottom\",\"yref\":\"paper\"},{\"font\":{},\"showarrow\":false,\"text\":\"Meal\",\"x\":0.755,\"xanchor\":\"center\",\"xref\":\"paper\",\"y\":0.6433333333333333,\"yanchor\":\"bottom\",\"yref\":\"paper\"},{\"font\":{},\"showarrow\":false,\"text\":\"Work\",\"x\":0.245,\"xanchor\":\"center\",\"xref\":\"paper\",\"y\":0.9999999999999999,\"yanchor\":\"bottom\",\"yref\":\"paper\"},{\"font\":{},\"showarrow\":false,\"text\":\"School\",\"x\":0.755,\"xanchor\":\"center\",\"xref\":\"paper\",\"y\":0.9999999999999999,\"yanchor\":\"bottom\",\"yref\":\"paper\"}],\"legend\":{\"title\":{\"text\":\"source\"},\"tracegroupgap\":0},\"title\":{\"text\":\"inbound: number of stops by purpose (excluding shares \\u003c 1%)\"},\"barmode\":\"group\",\"height\":800,\"width\":800},                        {\"responsive\": true}                    ).then(function(){\n",
       "                            \n",
       "var gd = document.getElementById('a6ee7a90-d5ed-47e5-92a5-f25e679f1e8d');\n",
       "var x = new MutationObserver(function (mutations, observer) {{\n",
       "        var display = window.getComputedStyle(gd).display;\n",
       "        if (!display || display === 'none') {{\n",
       "            console.log([gd, 'removed!']);\n",
       "            Plotly.purge(gd);\n",
       "            observer.disconnect();\n",
       "        }}\n",
       "}});\n",
       "\n",
       "// Listen for the removal of the full notebook cells\n",
       "var notebookContainer = gd.closest('#notebook-container');\n",
       "if (notebookContainer) {{\n",
       "    x.observe(notebookContainer, {childList: true});\n",
       "}}\n",
       "\n",
       "// Listen for the clearing of the current output cell\n",
       "var outputEl = gd.closest('.output');\n",
       "if (outputEl) {{\n",
       "    x.observe(outputEl, {childList: true});\n",
       "}}\n",
       "\n",
       "                        })                };                });            </script>        </div>"
      ]
     },
     "metadata": {},
     "output_type": "display_data"
    }
   ],
   "source": [
    "df_plot = df_tour.groupby(['tripsh2','pdpurp_label','source'])['toexpfac'].sum().reset_index()\n",
    "df_plot['percentage'] = df_plot.groupby(['pdpurp_label','source'], group_keys=False)['toexpfac']. \\\n",
    "    apply(lambda x: x / float(x.sum()))\n",
    "df_plot2 = df_plot.loc[df_plot['percentage'] > 0.001]\n",
    "\n",
    "fig = px.bar(df_plot2.sort_values(['source','pdpurp_label']),\n",
    "             x=\"tripsh2\", y=\"percentage\", color=\"source\",barmode=\"group\",\n",
    "             facet_col='pdpurp_label', facet_col_wrap=2,\n",
    "             hover_data=['toexpfac'],\n",
    "             title=\"inbound: number of stops by purpose (excluding shares < 1%)\")\n",
    "fig.update_layout(height=800, width=800)\n",
    "fig.for_each_annotation(lambda a: a.update(text = a.text.split(\"=\")[-1]))\n",
    "fig.for_each_xaxis(lambda a: a.update(dict(dtick = 1, categoryorder='category ascending')))\n",
    "fig.show()"
   ]
  },
  {
   "cell_type": "raw",
   "metadata": {},
   "source": [
    "### all stops"
   ]
  },
  {
   "cell_type": "code",
   "execution_count": 10,
   "metadata": {
    "ExecuteTime": {
     "end_time": "2024-07-15T04:04:19.924374Z",
     "start_time": "2024-07-15T04:04:19.007537Z"
    },
    "execution": {
     "iopub.execute_input": "2025-01-21T06:48:01.504810Z",
     "iopub.status.busy": "2025-01-21T06:48:01.503235Z",
     "iopub.status.idle": "2025-01-21T06:48:02.004539Z",
     "shell.execute_reply": "2025-01-21T06:48:02.002541Z"
    }
   },
   "outputs": [
    {
     "data": {
      "application/vnd.plotly.v1+json": {
       "config": {
        "plotlyServerURL": "https://plot.ly"
       },
       "data": [
        {
         "alignmentgroup": "True",
         "customdata": [
          [
           16561.0
          ],
          [
           14904.0
          ],
          [
           9324.0
          ],
          [
           4470.0
          ],
          [
           1954.0
          ],
          [
           817.0
          ],
          [
           355.0
          ],
          [
           160.0
          ],
          [
           103.0
          ]
         ],
         "hovertemplate": "source=model<br>pdpurp_label=Work<br>all_stops=%{x}<br>percentage=%{y}<br>toexpfac=%{customdata[0]}<extra></extra>",
         "legendgroup": "model",
         "marker": {
          "color": "#91268F",
          "pattern": {
           "shape": ""
          }
         },
         "name": "model",
         "offsetgroup": "model",
         "orientation": "v",
         "showlegend": true,
         "textposition": "auto",
         "type": "bar",
         "x": [
          2.0,
          3.0,
          4.0,
          5.0,
          6.0,
          7.0,
          8.0,
          9.0,
          10.0
         ],
         "xaxis": "x5",
         "y": [
          0.33864305578275805,
          0.3047603468018976,
          0.19065925077703255,
          0.0914035661704564,
          0.03995583183379683,
          0.01670619990184852,
          0.007259119908391952,
          0.0032717160150498937,
          0.002106167184688369
         ],
         "yaxis": "y5"
        },
        {
         "alignmentgroup": "True",
         "customdata": [
          [
           8647.0
          ],
          [
           4433.0
          ],
          [
           2494.0
          ],
          [
           1007.0
          ],
          [
           376.0
          ],
          [
           119.0
          ],
          [
           37.0
          ]
         ],
         "hovertemplate": "source=model<br>pdpurp_label=School<br>all_stops=%{x}<br>percentage=%{y}<br>toexpfac=%{customdata[0]}<extra></extra>",
         "legendgroup": "model",
         "marker": {
          "color": "#91268F",
          "pattern": {
           "shape": ""
          }
         },
         "name": "model",
         "offsetgroup": "model",
         "orientation": "v",
         "showlegend": false,
         "textposition": "auto",
         "type": "bar",
         "x": [
          2.0,
          3.0,
          4.0,
          5.0,
          6.0,
          7.0,
          8.0
         ],
         "xaxis": "x6",
         "y": [
          0.5046396264954771,
          0.2587102421943391,
          0.14555004377006128,
          0.058768602276043184,
          0.021943390720747007,
          0.0069448497227896115,
          0.0021593230230522323
         ],
         "yaxis": "y6"
        },
        {
         "alignmentgroup": "True",
         "customdata": [
          [
           16353.0
          ],
          [
           8257.0
          ],
          [
           3623.0
          ],
          [
           1150.0
          ],
          [
           327.0
          ],
          [
           91.0
          ]
         ],
         "hovertemplate": "source=model<br>pdpurp_label=Shop<br>all_stops=%{x}<br>percentage=%{y}<br>toexpfac=%{customdata[0]}<extra></extra>",
         "legendgroup": "model",
         "marker": {
          "color": "#91268F",
          "pattern": {
           "shape": ""
          }
         },
         "name": "model",
         "offsetgroup": "model",
         "orientation": "v",
         "showlegend": false,
         "textposition": "auto",
         "type": "bar",
         "x": [
          2.0,
          3.0,
          4.0,
          5.0,
          6.0,
          7.0
         ],
         "xaxis": "x3",
         "y": [
          0.5484087326872128,
          0.2769039873905899,
          0.12149971494684597,
          0.03856601495690667,
          0.010966162513833462,
          0.003051745531372615
         ],
         "yaxis": "y3"
        },
        {
         "alignmentgroup": "True",
         "customdata": [
          [
           18479.0
          ],
          [
           4698.0
          ],
          [
           1735.0
          ],
          [
           643.0
          ],
          [
           176.0
          ],
          [
           39.0
          ]
         ],
         "hovertemplate": "source=model<br>pdpurp_label=Meal<br>all_stops=%{x}<br>percentage=%{y}<br>toexpfac=%{customdata[0]}<extra></extra>",
         "legendgroup": "model",
         "marker": {
          "color": "#91268F",
          "pattern": {
           "shape": ""
          }
         },
         "name": "model",
         "offsetgroup": "model",
         "orientation": "v",
         "showlegend": false,
         "textposition": "auto",
         "type": "bar",
         "x": [
          2.0,
          3.0,
          4.0,
          5.0,
          6.0,
          7.0
         ],
         "xaxis": "x4",
         "y": [
          0.7166847657461992,
          0.18220601923673596,
          0.06728979211914365,
          0.02493794601303134,
          0.006825938566552901,
          0.0015125659323611542
         ],
         "yaxis": "y4"
        },
        {
         "alignmentgroup": "True",
         "customdata": [
          [
           11166.0
          ],
          [
           6700.0
          ],
          [
           3190.0
          ],
          [
           1141.0
          ],
          [
           426.0
          ],
          [
           132.0
          ],
          [
           43.0
          ]
         ],
         "hovertemplate": "source=model<br>pdpurp_label=Escort<br>all_stops=%{x}<br>percentage=%{y}<br>toexpfac=%{customdata[0]}<extra></extra>",
         "legendgroup": "model",
         "marker": {
          "color": "#91268F",
          "pattern": {
           "shape": ""
          }
         },
         "name": "model",
         "offsetgroup": "model",
         "orientation": "v",
         "showlegend": false,
         "textposition": "auto",
         "type": "bar",
         "x": [
          2.0,
          3.0,
          4.0,
          5.0,
          6.0,
          7.0,
          8.0
         ],
         "xaxis": "x",
         "y": [
          0.4892861837780991,
          0.2935892379825599,
          0.13978353271109942,
          0.049997809035537445,
          0.018667017220980676,
          0.005784146181148942,
          0.0018842294377985189
         ],
         "yaxis": "y"
        },
        {
         "alignmentgroup": "True",
         "customdata": [
          [
           9909.0
          ],
          [
           4791.0
          ],
          [
           1659.0
          ],
          [
           381.0
          ],
          [
           94.0
          ],
          [
           32.0
          ]
         ],
         "hovertemplate": "source=model<br>pdpurp_label=Personal Business<br>all_stops=%{x}<br>percentage=%{y}<br>toexpfac=%{customdata[0]}<extra></extra>",
         "legendgroup": "model",
         "marker": {
          "color": "#91268F",
          "pattern": {
           "shape": ""
          }
         },
         "name": "model",
         "offsetgroup": "model",
         "orientation": "v",
         "showlegend": false,
         "textposition": "auto",
         "type": "bar",
         "x": [
          2.0,
          3.0,
          4.0,
          5.0,
          6.0,
          7.0
         ],
         "xaxis": "x2",
         "y": [
          0.5873044096728307,
          0.2839615931721195,
          0.09832859174964438,
          0.022581792318634424,
          0.005571360834518729,
          0.001896633475580844
         ],
         "yaxis": "y2"
        },
        {
         "alignmentgroup": "True",
         "customdata": [
          [
           840911.6086847899
          ],
          [
           351511.57846478303
          ],
          [
           227297.6363580402
          ],
          [
           116770.36855711893
          ],
          [
           34897.85632051933
          ],
          [
           8458.415828697356
          ],
          [
           2717.033899873758
          ],
          [
           14130.008952387132
          ],
          [
           11955.374623876169
          ]
         ],
         "hovertemplate": "source=survey<br>pdpurp_label=Work<br>all_stops=%{x}<br>percentage=%{y}<br>toexpfac=%{customdata[0]}<extra></extra>",
         "legendgroup": "survey",
         "marker": {
          "color": "#8CC63E",
          "pattern": {
           "shape": ""
          }
         },
         "name": "survey",
         "offsetgroup": "survey",
         "orientation": "v",
         "showlegend": true,
         "textposition": "auto",
         "type": "bar",
         "x": [
          2.0,
          3.0,
          4.0,
          5.0,
          6.0,
          7.0,
          8.0,
          9.0,
          10.0
         ],
         "xaxis": "x5",
         "y": [
          0.5218251099623682,
          0.2181294278625991,
          0.14104884848983068,
          0.0724614927221268,
          0.021655757304133064,
          0.005248843902655555,
          0.0016860470219820273,
          0.008768333555153154,
          0.0074188709173641475
         ],
         "yaxis": "y5"
        },
        {
         "alignmentgroup": "True",
         "customdata": [
          [
           393175.43728793523
          ],
          [
           141382.87401508115
          ],
          [
           21304.996978401385
          ],
          [
           7301.670050150788
          ],
          [
           3860.9771038148156
          ]
         ],
         "hovertemplate": "source=survey<br>pdpurp_label=School<br>all_stops=%{x}<br>percentage=%{y}<br>toexpfac=%{customdata[0]}<extra></extra>",
         "legendgroup": "survey",
         "marker": {
          "color": "#8CC63E",
          "pattern": {
           "shape": ""
          }
         },
         "name": "survey",
         "offsetgroup": "survey",
         "orientation": "v",
         "showlegend": false,
         "textposition": "auto",
         "type": "bar",
         "x": [
          2.0,
          3.0,
          4.0,
          5.0,
          6.0
         ],
         "xaxis": "x6",
         "y": [
          0.692900809853962,
          0.24916182094251207,
          0.03754621540475239,
          0.012867876808211661,
          0.006804275924545356
         ],
         "yaxis": "y6"
        },
        {
         "alignmentgroup": "True",
         "customdata": [
          [
           430181.6406981982
          ],
          [
           150306.63185752998
          ],
          [
           110878.08498596275
          ],
          [
           45250.5833970474
          ],
          [
           10142.373750544484
          ],
          [
           3708.610557405078
          ],
          [
           2701.133408171084
          ],
          [
           1255.6385493969117
          ],
          [
           2889.1205121169264
          ]
         ],
         "hovertemplate": "source=survey<br>pdpurp_label=Shop<br>all_stops=%{x}<br>percentage=%{y}<br>toexpfac=%{customdata[0]}<extra></extra>",
         "legendgroup": "survey",
         "marker": {
          "color": "#8CC63E",
          "pattern": {
           "shape": ""
          }
         },
         "name": "survey",
         "offsetgroup": "survey",
         "orientation": "v",
         "showlegend": false,
         "textposition": "auto",
         "type": "bar",
         "x": [
          2.0,
          3.0,
          4.0,
          5.0,
          6.0,
          7.0,
          8.0,
          9.0,
          10.0
         ],
         "xaxis": "x3",
         "y": [
          0.5680361702568442,
          0.19847337832917028,
          0.14640969488752748,
          0.05975142977517218,
          0.013392563971865858,
          0.004897059145953701,
          0.003566729333311471,
          0.0016580161618907237,
          0.0038149581382640927
         ],
         "yaxis": "y3"
        },
        {
         "alignmentgroup": "True",
         "customdata": [
          [
           235469.8004315122
          ],
          [
           92698.61070028717
          ],
          [
           57586.7422130048
          ],
          [
           12438.617025717624
          ],
          [
           7489.3556092922045
          ],
          [
           1172.214787688912
          ]
         ],
         "hovertemplate": "source=survey<br>pdpurp_label=Meal<br>all_stops=%{x}<br>percentage=%{y}<br>toexpfac=%{customdata[0]}<extra></extra>",
         "legendgroup": "survey",
         "marker": {
          "color": "#8CC63E",
          "pattern": {
           "shape": ""
          }
         },
         "name": "survey",
         "offsetgroup": "survey",
         "orientation": "v",
         "showlegend": false,
         "textposition": "auto",
         "type": "bar",
         "x": [
          2.0,
          3.0,
          4.0,
          5.0,
          6.0,
          8.0
         ],
         "xaxis": "x4",
         "y": [
          0.5781753413915466,
          0.22761326841039786,
          0.14139916998959343,
          0.030541927806044665,
          0.01838945261035573,
          0.00287827009584349
         ],
         "yaxis": "y4"
        },
        {
         "alignmentgroup": "True",
         "customdata": [
          [
           443318.76513350126
          ],
          [
           99655.88688845352
          ],
          [
           49147.557638806196
          ],
          [
           24351.149781198383
          ],
          [
           835.4309376535405
          ],
          [
           10668.483411312234
          ],
          [
           3895.702394738194
          ]
         ],
         "hovertemplate": "source=survey<br>pdpurp_label=Escort<br>all_stops=%{x}<br>percentage=%{y}<br>toexpfac=%{customdata[0]}<extra></extra>",
         "legendgroup": "survey",
         "marker": {
          "color": "#8CC63E",
          "pattern": {
           "shape": ""
          }
         },
         "name": "survey",
         "offsetgroup": "survey",
         "orientation": "v",
         "showlegend": false,
         "textposition": "auto",
         "type": "bar",
         "x": [
          2.0,
          3.0,
          4.0,
          5.0,
          6.0,
          7.0,
          8.0
         ],
         "xaxis": "x",
         "y": [
          0.7013334930117817,
          0.1576563338788937,
          0.07775179167397045,
          0.038523695088246455,
          0.001321657786126474,
          0.016877617922942366,
          0.006163029366495073
         ],
         "yaxis": "y"
        },
        {
         "alignmentgroup": "True",
         "customdata": [
          [
           210948.62739716045
          ],
          [
           114533.64460808811
          ],
          [
           32114.574272947386
          ],
          [
           19028.315775991035
          ],
          [
           17466.284112097645
          ],
          [
           2084.022129083484
          ],
          [
           635.2684032486391
          ],
          [
           3499.000562968686
          ]
         ],
         "hovertemplate": "source=survey<br>pdpurp_label=Personal Business<br>all_stops=%{x}<br>percentage=%{y}<br>toexpfac=%{customdata[0]}<extra></extra>",
         "legendgroup": "survey",
         "marker": {
          "color": "#8CC63E",
          "pattern": {
           "shape": ""
          }
         },
         "name": "survey",
         "offsetgroup": "survey",
         "orientation": "v",
         "showlegend": false,
         "textposition": "auto",
         "type": "bar",
         "x": [
          2.0,
          3.0,
          4.0,
          5.0,
          6.0,
          7.0,
          8.0,
          9.0
         ],
         "xaxis": "x2",
         "y": [
          0.5254386621372023,
          0.2852846483768194,
          0.07999217226151258,
          0.04739643441830489,
          0.043505668036844476,
          0.005190959585189932,
          0.0015823500916768457,
          0.00871544032928053
         ],
         "yaxis": "y2"
        },
        {
         "alignmentgroup": "True",
         "customdata": [
          [
           708801.1946232843
          ],
          [
           286280.16142478806
          ],
          [
           189513.6871118599
          ],
          [
           81598.71528175507
          ],
          [
           30191.210760717328
          ],
          [
           13375.07718209823
          ],
          [
           4099.772131471227
          ],
          [
           3265.019743265744
          ],
          [
           11442.220722394446
          ]
         ],
         "hovertemplate": "source=survey (2017/2019)<br>pdpurp_label=Work<br>all_stops=%{x}<br>percentage=%{y}<br>toexpfac=%{customdata[0]}<extra></extra>",
         "legendgroup": "survey (2017/2019)",
         "marker": {
          "color": "#00A7A0",
          "pattern": {
           "shape": ""
          }
         },
         "name": "survey (2017/2019)",
         "offsetgroup": "survey (2017/2019)",
         "orientation": "v",
         "showlegend": true,
         "textposition": "auto",
         "type": "bar",
         "x": [
          2.0,
          3.0,
          4.0,
          5.0,
          6.0,
          7.0,
          8.0,
          9.0,
          10.0
         ],
         "xaxis": "x5",
         "y": [
          0.5303068722112605,
          0.21418747334646054,
          0.14178927944235215,
          0.061050065668305245,
          0.02258828945018401,
          0.010006889660777821,
          0.0030673443446648193,
          0.002442804020215446,
          0.008560776037727823
         ],
         "yaxis": "y5"
        },
        {
         "alignmentgroup": "True",
         "customdata": [
          [
           373055.6025341466
          ],
          [
           90437.35355465925
          ],
          [
           42237.2746455821
          ],
          [
           8911.633955837184
          ],
          [
           4811.655369546585
          ]
         ],
         "hovertemplate": "source=survey (2017/2019)<br>pdpurp_label=School<br>all_stops=%{x}<br>percentage=%{y}<br>toexpfac=%{customdata[0]}<extra></extra>",
         "legendgroup": "survey (2017/2019)",
         "marker": {
          "color": "#00A7A0",
          "pattern": {
           "shape": ""
          }
         },
         "name": "survey (2017/2019)",
         "offsetgroup": "survey (2017/2019)",
         "orientation": "v",
         "showlegend": false,
         "textposition": "auto",
         "type": "bar",
         "x": [
          2.0,
          3.0,
          4.0,
          5.0,
          7.0
         ],
         "xaxis": "x6",
         "y": [
          0.717536008811822,
          0.1739474150134875,
          0.08123927175039733,
          0.0171406573637452,
          0.009254749067403192
         ],
         "yaxis": "y6"
        },
        {
         "alignmentgroup": "True",
         "customdata": [
          [
           299943.7682916396
          ],
          [
           139865.36709717824
          ],
          [
           104797.3273092485
          ],
          [
           39916.713363232484
          ],
          [
           5012.984904976701
          ],
          [
           10467.476340340087
          ],
          [
           672.5911100587605
          ],
          [
           686.7593132032889
          ]
         ],
         "hovertemplate": "source=survey (2017/2019)<br>pdpurp_label=Shop<br>all_stops=%{x}<br>percentage=%{y}<br>toexpfac=%{customdata[0]}<extra></extra>",
         "legendgroup": "survey (2017/2019)",
         "marker": {
          "color": "#00A7A0",
          "pattern": {
           "shape": ""
          }
         },
         "name": "survey (2017/2019)",
         "offsetgroup": "survey (2017/2019)",
         "orientation": "v",
         "showlegend": false,
         "textposition": "auto",
         "type": "bar",
         "x": [
          2.0,
          3.0,
          4.0,
          5.0,
          6.0,
          7.0,
          8.0,
          9.0
         ],
         "xaxis": "x3",
         "y": [
          0.498773244133158,
          0.23258060431215538,
          0.17426634070855343,
          0.06637707038458844,
          0.008336038311736689,
          0.017406253051679168,
          0.001118444473275228,
          0.0011420046248535832
         ],
         "yaxis": "y3"
        },
        {
         "alignmentgroup": "True",
         "customdata": [
          [
           255116.33092914993
          ],
          [
           92276.11192773866
          ],
          [
           35029.0949842436
          ],
          [
           6909.55951170696
          ],
          [
           6685.951011044179
          ],
          [
           1729.4940038059283
          ]
         ],
         "hovertemplate": "source=survey (2017/2019)<br>pdpurp_label=Meal<br>all_stops=%{x}<br>percentage=%{y}<br>toexpfac=%{customdata[0]}<extra></extra>",
         "legendgroup": "survey (2017/2019)",
         "marker": {
          "color": "#00A7A0",
          "pattern": {
           "shape": ""
          }
         },
         "name": "survey (2017/2019)",
         "offsetgroup": "survey (2017/2019)",
         "orientation": "v",
         "showlegend": false,
         "textposition": "auto",
         "type": "bar",
         "x": [
          2.0,
          3.0,
          4.0,
          5.0,
          6.0,
          8.0
         ],
         "xaxis": "x4",
         "y": [
          0.6406830989364705,
          0.2317364205276641,
          0.08796986475035908,
          0.01735223293672951,
          0.016790676619925334,
          0.004343342403502001
         ],
         "yaxis": "y4"
        },
        {
         "alignmentgroup": "True",
         "customdata": [
          [
           462019.0121162237
          ],
          [
           96441.14057844032
          ],
          [
           54402.78730958136
          ],
          [
           31668.683010648037
          ],
          [
           9807.054145668857
          ],
          [
           858.7491980976339
          ],
          [
           4796.396875316257
          ]
         ],
         "hovertemplate": "source=survey (2017/2019)<br>pdpurp_label=Escort<br>all_stops=%{x}<br>percentage=%{y}<br>toexpfac=%{customdata[0]}<extra></extra>",
         "legendgroup": "survey (2017/2019)",
         "marker": {
          "color": "#00A7A0",
          "pattern": {
           "shape": ""
          }
         },
         "name": "survey (2017/2019)",
         "offsetgroup": "survey (2017/2019)",
         "orientation": "v",
         "showlegend": false,
         "textposition": "auto",
         "type": "bar",
         "x": [
          2.0,
          3.0,
          4.0,
          5.0,
          7.0,
          8.0,
          9.0
         ],
         "xaxis": "x",
         "y": [
          0.6995581357991004,
          0.1460246932444874,
          0.0823730441270066,
          0.04795059135914647,
          0.01484918225421234,
          0.001300260319133863,
          0.0072623817822562034
         ],
         "yaxis": "y"
        },
        {
         "alignmentgroup": "True",
         "customdata": [
          [
           163733.6909045966
          ],
          [
           91844.32947507798
          ],
          [
           24965.903694359036
          ],
          [
           17996.14240552616
          ],
          [
           5464.733075512149
          ],
          [
           1855.0199638370577
          ]
         ],
         "hovertemplate": "source=survey (2017/2019)<br>pdpurp_label=Personal Business<br>all_stops=%{x}<br>percentage=%{y}<br>toexpfac=%{customdata[0]}<extra></extra>",
         "legendgroup": "survey (2017/2019)",
         "marker": {
          "color": "#00A7A0",
          "pattern": {
           "shape": ""
          }
         },
         "name": "survey (2017/2019)",
         "offsetgroup": "survey (2017/2019)",
         "orientation": "v",
         "showlegend": false,
         "textposition": "auto",
         "type": "bar",
         "x": [
          2.0,
          3.0,
          4.0,
          5.0,
          6.0,
          7.0
         ],
         "xaxis": "x2",
         "y": [
          0.5340596043739421,
          0.2995739361426263,
          0.08143272515377599,
          0.05869905356834906,
          0.01782463443041631,
          0.006050625393706135
         ],
         "yaxis": "y2"
        },
        {
         "alignmentgroup": "True",
         "customdata": [
          [
           847922.2792190161
          ],
          [
           387095.82768052485
          ],
          [
           200629.8557465618
          ],
          [
           93808.41615002151
          ],
          [
           58804.842296085655
          ],
          [
           24632.645369685906
          ],
          [
           8260.826897034976
          ],
          [
           3577.0517420572064
          ]
         ],
         "hovertemplate": "source=survey (old weights)<br>pdpurp_label=Work<br>all_stops=%{x}<br>percentage=%{y}<br>toexpfac=%{customdata[0]}<extra></extra>",
         "legendgroup": "survey (old weights)",
         "marker": {
          "color": "#F05A28",
          "pattern": {
           "shape": ""
          }
         },
         "name": "survey (old weights)",
         "offsetgroup": "survey (old weights)",
         "orientation": "v",
         "showlegend": true,
         "textposition": "auto",
         "type": "bar",
         "x": [
          2.0,
          3.0,
          4.0,
          5.0,
          6.0,
          7.0,
          8.0,
          9.0
         ],
         "xaxis": "x5",
         "y": [
          0.5186013168554098,
          0.2367533097128377,
          0.12270807117665417,
          0.05737456054619776,
          0.035965877297520106,
          0.015065675993461891,
          0.005052439135179701,
          0.0021877756834027553
         ],
         "yaxis": "y5"
        },
        {
         "alignmentgroup": "True",
         "customdata": [
          [
           378122.0134802237
          ],
          [
           100173.26559652507
          ],
          [
           29917.076301756126
          ],
          [
           11994.631779034562
          ],
          [
           1508.5597016489885
          ]
         ],
         "hovertemplate": "source=survey (old weights)<br>pdpurp_label=School<br>all_stops=%{x}<br>percentage=%{y}<br>toexpfac=%{customdata[0]}<extra></extra>",
         "legendgroup": "survey (old weights)",
         "marker": {
          "color": "#F05A28",
          "pattern": {
           "shape": ""
          }
         },
         "name": "survey (old weights)",
         "offsetgroup": "survey (old weights)",
         "orientation": "v",
         "showlegend": false,
         "textposition": "auto",
         "type": "bar",
         "x": [
          2.0,
          3.0,
          4.0,
          5.0,
          6.0
         ],
         "xaxis": "x6",
         "y": [
          0.7197578876214445,
          0.19068050912531112,
          0.056947363219009665,
          0.022831865176573474,
          0.0028715539045612885
         ],
         "yaxis": "y6"
        },
        {
         "alignmentgroup": "True",
         "customdata": [
          [
           410672.1869237586
          ],
          [
           227981.28978204535
          ],
          [
           86707.64048286283
          ],
          [
           41562.514168351794
          ],
          [
           13526.019799220792
          ],
          [
           4125.003769036155
          ],
          [
           958.6039576457553
          ]
         ],
         "hovertemplate": "source=survey (old weights)<br>pdpurp_label=Shop<br>all_stops=%{x}<br>percentage=%{y}<br>toexpfac=%{customdata[0]}<extra></extra>",
         "legendgroup": "survey (old weights)",
         "marker": {
          "color": "#F05A28",
          "pattern": {
           "shape": ""
          }
         },
         "name": "survey (old weights)",
         "offsetgroup": "survey (old weights)",
         "orientation": "v",
         "showlegend": false,
         "textposition": "auto",
         "type": "bar",
         "x": [
          2.0,
          3.0,
          4.0,
          5.0,
          6.0,
          7.0,
          8.0
         ],
         "xaxis": "x3",
         "y": [
          0.5223091521068675,
          0.2899556336022258,
          0.11027821124443214,
          0.05286085161333722,
          0.017202927682130293,
          0.005246343165291822,
          0.0012191904790893342
         ],
         "yaxis": "y3"
        },
        {
         "alignmentgroup": "True",
         "customdata": [
          [
           221413.00537807957
          ],
          [
           81518.14343343275
          ],
          [
           21323.603554874597
          ],
          [
           21990.712812977497
          ],
          [
           17360.23611303158
          ],
          [
           3375.0458244029046
          ],
          [
           1381.5134823349495
          ],
          [
           370.99284354776705
          ],
          [
           620.291652777814
          ]
         ],
         "hovertemplate": "source=survey (old weights)<br>pdpurp_label=Meal<br>all_stops=%{x}<br>percentage=%{y}<br>toexpfac=%{customdata[0]}<extra></extra>",
         "legendgroup": "survey (old weights)",
         "marker": {
          "color": "#F05A28",
          "pattern": {
           "shape": ""
          }
         },
         "name": "survey (old weights)",
         "offsetgroup": "survey (old weights)",
         "orientation": "v",
         "showlegend": false,
         "textposition": "auto",
         "type": "bar",
         "x": [
          2.0,
          3.0,
          4.0,
          5.0,
          6.0,
          7.0,
          8.0,
          9.0,
          10.0
         ],
         "xaxis": "x4",
         "y": [
          0.5994555860675966,
          0.22070296351195606,
          0.05773171835246649,
          0.05953785602990025,
          0.04700126126574627,
          0.009137629784744066,
          0.003740322176645604,
          0.00100442940140782,
          0.001679383266641551
         ],
         "yaxis": "y4"
        },
        {
         "alignmentgroup": "True",
         "customdata": [
          [
           360060.9481402431
          ],
          [
           39595.588933728926
          ],
          [
           17410.647189653308
          ],
          [
           10040.844376778796
          ],
          [
           7440.030531536916
          ]
         ],
         "hovertemplate": "source=survey (old weights)<br>pdpurp_label=Escort<br>all_stops=%{x}<br>percentage=%{y}<br>toexpfac=%{customdata[0]}<extra></extra>",
         "legendgroup": "survey (old weights)",
         "marker": {
          "color": "#F05A28",
          "pattern": {
           "shape": ""
          }
         },
         "name": "survey (old weights)",
         "offsetgroup": "survey (old weights)",
         "orientation": "v",
         "showlegend": false,
         "textposition": "auto",
         "type": "bar",
         "x": [
          2.0,
          3.0,
          4.0,
          5.0,
          6.0
         ],
         "xaxis": "x",
         "y": [
          0.8279786913905665,
          0.0910520957063587,
          0.040036679764385665,
          0.0230894386922058,
          0.017108733327582126
         ],
         "yaxis": "y"
        },
        {
         "alignmentgroup": "True",
         "customdata": [
          [
           445249.89904978895
          ],
          [
           217710.14378061768
          ],
          [
           84548.7134295401
          ],
          [
           22153.888903259343
          ],
          [
           24564.808170176555
          ],
          [
           12187.670148740712
          ],
          [
           902.0892198074839
          ],
          [
           3342.123559312942
          ]
         ],
         "hovertemplate": "source=survey (old weights)<br>pdpurp_label=Personal Business<br>all_stops=%{x}<br>percentage=%{y}<br>toexpfac=%{customdata[0]}<extra></extra>",
         "legendgroup": "survey (old weights)",
         "marker": {
          "color": "#F05A28",
          "pattern": {
           "shape": ""
          }
         },
         "name": "survey (old weights)",
         "offsetgroup": "survey (old weights)",
         "orientation": "v",
         "showlegend": false,
         "textposition": "auto",
         "type": "bar",
         "x": [
          2.0,
          3.0,
          4.0,
          5.0,
          6.0,
          7.0,
          8.0,
          9.0
         ],
         "xaxis": "x2",
         "y": [
          0.5463259907030472,
          0.2671324805258374,
          0.1037421001681043,
          0.027183038848134562,
          0.030141260421715027,
          0.014954390742328188,
          0.001106872315447179,
          0.004100818368494368
         ],
         "yaxis": "y2"
        }
       ],
       "layout": {
        "annotations": [
         {
          "font": {},
          "showarrow": false,
          "text": "Escort",
          "x": 0.245,
          "xanchor": "center",
          "xref": "paper",
          "y": 0.2866666666666666,
          "yanchor": "bottom",
          "yref": "paper"
         },
         {
          "font": {},
          "showarrow": false,
          "text": "Personal Business",
          "x": 0.755,
          "xanchor": "center",
          "xref": "paper",
          "y": 0.2866666666666666,
          "yanchor": "bottom",
          "yref": "paper"
         },
         {
          "font": {},
          "showarrow": false,
          "text": "Shop",
          "x": 0.245,
          "xanchor": "center",
          "xref": "paper",
          "y": 0.6433333333333333,
          "yanchor": "bottom",
          "yref": "paper"
         },
         {
          "font": {},
          "showarrow": false,
          "text": "Meal",
          "x": 0.755,
          "xanchor": "center",
          "xref": "paper",
          "y": 0.6433333333333333,
          "yanchor": "bottom",
          "yref": "paper"
         },
         {
          "font": {},
          "showarrow": false,
          "text": "Work",
          "x": 0.245,
          "xanchor": "center",
          "xref": "paper",
          "y": 0.9999999999999999,
          "yanchor": "bottom",
          "yref": "paper"
         },
         {
          "font": {},
          "showarrow": false,
          "text": "School",
          "x": 0.755,
          "xanchor": "center",
          "xref": "paper",
          "y": 0.9999999999999999,
          "yanchor": "bottom",
          "yref": "paper"
         }
        ],
        "barmode": "group",
        "height": 800,
        "legend": {
         "title": {
          "text": "source"
         },
         "tracegroupgap": 0
        },
        "template": {
         "data": {
          "bar": [
           {
            "error_x": {
             "color": "rgb(36,36,36)"
            },
            "error_y": {
             "color": "rgb(36,36,36)"
            },
            "marker": {
             "line": {
              "color": "white",
              "width": 0.5
             },
             "pattern": {
              "fillmode": "overlay",
              "size": 10,
              "solidity": 0.2
             }
            },
            "type": "bar"
           }
          ],
          "barpolar": [
           {
            "marker": {
             "line": {
              "color": "white",
              "width": 0.5
             },
             "pattern": {
              "fillmode": "overlay",
              "size": 10,
              "solidity": 0.2
             }
            },
            "type": "barpolar"
           }
          ],
          "carpet": [
           {
            "aaxis": {
             "endlinecolor": "rgb(36,36,36)",
             "gridcolor": "white",
             "linecolor": "white",
             "minorgridcolor": "white",
             "startlinecolor": "rgb(36,36,36)"
            },
            "baxis": {
             "endlinecolor": "rgb(36,36,36)",
             "gridcolor": "white",
             "linecolor": "white",
             "minorgridcolor": "white",
             "startlinecolor": "rgb(36,36,36)"
            },
            "type": "carpet"
           }
          ],
          "choropleth": [
           {
            "colorbar": {
             "outlinewidth": 1,
             "tickcolor": "rgb(36,36,36)",
             "ticks": "outside"
            },
            "type": "choropleth"
           }
          ],
          "contour": [
           {
            "colorbar": {
             "outlinewidth": 1,
             "tickcolor": "rgb(36,36,36)",
             "ticks": "outside"
            },
            "colorscale": [
             [
              0.0,
              "#440154"
             ],
             [
              0.1111111111111111,
              "#482878"
             ],
             [
              0.2222222222222222,
              "#3e4989"
             ],
             [
              0.3333333333333333,
              "#31688e"
             ],
             [
              0.4444444444444444,
              "#26828e"
             ],
             [
              0.5555555555555556,
              "#1f9e89"
             ],
             [
              0.6666666666666666,
              "#35b779"
             ],
             [
              0.7777777777777778,
              "#6ece58"
             ],
             [
              0.8888888888888888,
              "#b5de2b"
             ],
             [
              1.0,
              "#fde725"
             ]
            ],
            "type": "contour"
           }
          ],
          "contourcarpet": [
           {
            "colorbar": {
             "outlinewidth": 1,
             "tickcolor": "rgb(36,36,36)",
             "ticks": "outside"
            },
            "type": "contourcarpet"
           }
          ],
          "heatmap": [
           {
            "colorbar": {
             "outlinewidth": 1,
             "tickcolor": "rgb(36,36,36)",
             "ticks": "outside"
            },
            "colorscale": [
             [
              0.0,
              "#440154"
             ],
             [
              0.1111111111111111,
              "#482878"
             ],
             [
              0.2222222222222222,
              "#3e4989"
             ],
             [
              0.3333333333333333,
              "#31688e"
             ],
             [
              0.4444444444444444,
              "#26828e"
             ],
             [
              0.5555555555555556,
              "#1f9e89"
             ],
             [
              0.6666666666666666,
              "#35b779"
             ],
             [
              0.7777777777777778,
              "#6ece58"
             ],
             [
              0.8888888888888888,
              "#b5de2b"
             ],
             [
              1.0,
              "#fde725"
             ]
            ],
            "type": "heatmap"
           }
          ],
          "heatmapgl": [
           {
            "colorbar": {
             "outlinewidth": 1,
             "tickcolor": "rgb(36,36,36)",
             "ticks": "outside"
            },
            "colorscale": [
             [
              0.0,
              "#440154"
             ],
             [
              0.1111111111111111,
              "#482878"
             ],
             [
              0.2222222222222222,
              "#3e4989"
             ],
             [
              0.3333333333333333,
              "#31688e"
             ],
             [
              0.4444444444444444,
              "#26828e"
             ],
             [
              0.5555555555555556,
              "#1f9e89"
             ],
             [
              0.6666666666666666,
              "#35b779"
             ],
             [
              0.7777777777777778,
              "#6ece58"
             ],
             [
              0.8888888888888888,
              "#b5de2b"
             ],
             [
              1.0,
              "#fde725"
             ]
            ],
            "type": "heatmapgl"
           }
          ],
          "histogram": [
           {
            "marker": {
             "line": {
              "color": "white",
              "width": 0.6
             }
            },
            "type": "histogram"
           }
          ],
          "histogram2d": [
           {
            "colorbar": {
             "outlinewidth": 1,
             "tickcolor": "rgb(36,36,36)",
             "ticks": "outside"
            },
            "colorscale": [
             [
              0.0,
              "#440154"
             ],
             [
              0.1111111111111111,
              "#482878"
             ],
             [
              0.2222222222222222,
              "#3e4989"
             ],
             [
              0.3333333333333333,
              "#31688e"
             ],
             [
              0.4444444444444444,
              "#26828e"
             ],
             [
              0.5555555555555556,
              "#1f9e89"
             ],
             [
              0.6666666666666666,
              "#35b779"
             ],
             [
              0.7777777777777778,
              "#6ece58"
             ],
             [
              0.8888888888888888,
              "#b5de2b"
             ],
             [
              1.0,
              "#fde725"
             ]
            ],
            "type": "histogram2d"
           }
          ],
          "histogram2dcontour": [
           {
            "colorbar": {
             "outlinewidth": 1,
             "tickcolor": "rgb(36,36,36)",
             "ticks": "outside"
            },
            "colorscale": [
             [
              0.0,
              "#440154"
             ],
             [
              0.1111111111111111,
              "#482878"
             ],
             [
              0.2222222222222222,
              "#3e4989"
             ],
             [
              0.3333333333333333,
              "#31688e"
             ],
             [
              0.4444444444444444,
              "#26828e"
             ],
             [
              0.5555555555555556,
              "#1f9e89"
             ],
             [
              0.6666666666666666,
              "#35b779"
             ],
             [
              0.7777777777777778,
              "#6ece58"
             ],
             [
              0.8888888888888888,
              "#b5de2b"
             ],
             [
              1.0,
              "#fde725"
             ]
            ],
            "type": "histogram2dcontour"
           }
          ],
          "mesh3d": [
           {
            "colorbar": {
             "outlinewidth": 1,
             "tickcolor": "rgb(36,36,36)",
             "ticks": "outside"
            },
            "type": "mesh3d"
           }
          ],
          "parcoords": [
           {
            "line": {
             "colorbar": {
              "outlinewidth": 1,
              "tickcolor": "rgb(36,36,36)",
              "ticks": "outside"
             }
            },
            "type": "parcoords"
           }
          ],
          "pie": [
           {
            "automargin": true,
            "type": "pie"
           }
          ],
          "scatter": [
           {
            "fillpattern": {
             "fillmode": "overlay",
             "size": 10,
             "solidity": 0.2
            },
            "type": "scatter"
           }
          ],
          "scatter3d": [
           {
            "line": {
             "colorbar": {
              "outlinewidth": 1,
              "tickcolor": "rgb(36,36,36)",
              "ticks": "outside"
             }
            },
            "marker": {
             "colorbar": {
              "outlinewidth": 1,
              "tickcolor": "rgb(36,36,36)",
              "ticks": "outside"
             }
            },
            "type": "scatter3d"
           }
          ],
          "scattercarpet": [
           {
            "marker": {
             "colorbar": {
              "outlinewidth": 1,
              "tickcolor": "rgb(36,36,36)",
              "ticks": "outside"
             }
            },
            "type": "scattercarpet"
           }
          ],
          "scattergeo": [
           {
            "marker": {
             "colorbar": {
              "outlinewidth": 1,
              "tickcolor": "rgb(36,36,36)",
              "ticks": "outside"
             }
            },
            "type": "scattergeo"
           }
          ],
          "scattergl": [
           {
            "marker": {
             "colorbar": {
              "outlinewidth": 1,
              "tickcolor": "rgb(36,36,36)",
              "ticks": "outside"
             }
            },
            "type": "scattergl"
           }
          ],
          "scattermapbox": [
           {
            "marker": {
             "colorbar": {
              "outlinewidth": 1,
              "tickcolor": "rgb(36,36,36)",
              "ticks": "outside"
             }
            },
            "type": "scattermapbox"
           }
          ],
          "scatterpolar": [
           {
            "marker": {
             "colorbar": {
              "outlinewidth": 1,
              "tickcolor": "rgb(36,36,36)",
              "ticks": "outside"
             }
            },
            "type": "scatterpolar"
           }
          ],
          "scatterpolargl": [
           {
            "marker": {
             "colorbar": {
              "outlinewidth": 1,
              "tickcolor": "rgb(36,36,36)",
              "ticks": "outside"
             }
            },
            "type": "scatterpolargl"
           }
          ],
          "scatterternary": [
           {
            "marker": {
             "colorbar": {
              "outlinewidth": 1,
              "tickcolor": "rgb(36,36,36)",
              "ticks": "outside"
             }
            },
            "type": "scatterternary"
           }
          ],
          "surface": [
           {
            "colorbar": {
             "outlinewidth": 1,
             "tickcolor": "rgb(36,36,36)",
             "ticks": "outside"
            },
            "colorscale": [
             [
              0.0,
              "#440154"
             ],
             [
              0.1111111111111111,
              "#482878"
             ],
             [
              0.2222222222222222,
              "#3e4989"
             ],
             [
              0.3333333333333333,
              "#31688e"
             ],
             [
              0.4444444444444444,
              "#26828e"
             ],
             [
              0.5555555555555556,
              "#1f9e89"
             ],
             [
              0.6666666666666666,
              "#35b779"
             ],
             [
              0.7777777777777778,
              "#6ece58"
             ],
             [
              0.8888888888888888,
              "#b5de2b"
             ],
             [
              1.0,
              "#fde725"
             ]
            ],
            "type": "surface"
           }
          ],
          "table": [
           {
            "cells": {
             "fill": {
              "color": "rgb(237,237,237)"
             },
             "line": {
              "color": "white"
             }
            },
            "header": {
             "fill": {
              "color": "rgb(217,217,217)"
             },
             "line": {
              "color": "white"
             }
            },
            "type": "table"
           }
          ]
         },
         "layout": {
          "annotationdefaults": {
           "arrowhead": 0,
           "arrowwidth": 1
          },
          "autotypenumbers": "strict",
          "coloraxis": {
           "colorbar": {
            "outlinewidth": 1,
            "tickcolor": "rgb(36,36,36)",
            "ticks": "outside"
           }
          },
          "colorscale": {
           "diverging": [
            [
             0.0,
             "rgb(103,0,31)"
            ],
            [
             0.1,
             "rgb(178,24,43)"
            ],
            [
             0.2,
             "rgb(214,96,77)"
            ],
            [
             0.3,
             "rgb(244,165,130)"
            ],
            [
             0.4,
             "rgb(253,219,199)"
            ],
            [
             0.5,
             "rgb(247,247,247)"
            ],
            [
             0.6,
             "rgb(209,229,240)"
            ],
            [
             0.7,
             "rgb(146,197,222)"
            ],
            [
             0.8,
             "rgb(67,147,195)"
            ],
            [
             0.9,
             "rgb(33,102,172)"
            ],
            [
             1.0,
             "rgb(5,48,97)"
            ]
           ],
           "sequential": [
            [
             0.0,
             "#440154"
            ],
            [
             0.1111111111111111,
             "#482878"
            ],
            [
             0.2222222222222222,
             "#3e4989"
            ],
            [
             0.3333333333333333,
             "#31688e"
            ],
            [
             0.4444444444444444,
             "#26828e"
            ],
            [
             0.5555555555555556,
             "#1f9e89"
            ],
            [
             0.6666666666666666,
             "#35b779"
            ],
            [
             0.7777777777777778,
             "#6ece58"
            ],
            [
             0.8888888888888888,
             "#b5de2b"
            ],
            [
             1.0,
             "#fde725"
            ]
           ],
           "sequentialminus": [
            [
             0.0,
             "#440154"
            ],
            [
             0.1111111111111111,
             "#482878"
            ],
            [
             0.2222222222222222,
             "#3e4989"
            ],
            [
             0.3333333333333333,
             "#31688e"
            ],
            [
             0.4444444444444444,
             "#26828e"
            ],
            [
             0.5555555555555556,
             "#1f9e89"
            ],
            [
             0.6666666666666666,
             "#35b779"
            ],
            [
             0.7777777777777778,
             "#6ece58"
            ],
            [
             0.8888888888888888,
             "#b5de2b"
            ],
            [
             1.0,
             "#fde725"
            ]
           ]
          },
          "colorway": [
           "#91268F",
           "#8CC63E",
           "#00A7A0",
           "#F05A28",
           "#4C4C4C",
           "#630460",
           "#9f3913",
           "#588527",
           "#00716c",
           "#3e4040"
          ],
          "font": {
           "color": "rgb(36,36,36)",
           "family": "Poppins",
           "size": 11
          },
          "geo": {
           "bgcolor": "white",
           "lakecolor": "white",
           "landcolor": "white",
           "showlakes": true,
           "showland": true,
           "subunitcolor": "white"
          },
          "hoverlabel": {
           "align": "left"
          },
          "hovermode": "closest",
          "mapbox": {
           "style": "light"
          },
          "paper_bgcolor": "white",
          "plot_bgcolor": "white",
          "polar": {
           "angularaxis": {
            "gridcolor": "rgb(232,232,232)",
            "linecolor": "rgb(36,36,36)",
            "showgrid": false,
            "showline": true,
            "ticks": "outside"
           },
           "bgcolor": "white",
           "radialaxis": {
            "gridcolor": "rgb(232,232,232)",
            "linecolor": "rgb(36,36,36)",
            "showgrid": false,
            "showline": true,
            "ticks": "outside"
           }
          },
          "scene": {
           "xaxis": {
            "backgroundcolor": "white",
            "gridcolor": "rgb(232,232,232)",
            "gridwidth": 2,
            "linecolor": "rgb(36,36,36)",
            "showbackground": true,
            "showgrid": false,
            "showline": true,
            "ticks": "outside",
            "zeroline": false,
            "zerolinecolor": "rgb(36,36,36)"
           },
           "yaxis": {
            "backgroundcolor": "white",
            "gridcolor": "rgb(232,232,232)",
            "gridwidth": 2,
            "linecolor": "rgb(36,36,36)",
            "showbackground": true,
            "showgrid": false,
            "showline": true,
            "ticks": "outside",
            "zeroline": false,
            "zerolinecolor": "rgb(36,36,36)"
           },
           "zaxis": {
            "backgroundcolor": "white",
            "gridcolor": "rgb(232,232,232)",
            "gridwidth": 2,
            "linecolor": "rgb(36,36,36)",
            "showbackground": true,
            "showgrid": false,
            "showline": true,
            "ticks": "outside",
            "zeroline": false,
            "zerolinecolor": "rgb(36,36,36)"
           }
          },
          "shapedefaults": {
           "fillcolor": "black",
           "line": {
            "width": 0
           },
           "opacity": 0.3
          },
          "ternary": {
           "aaxis": {
            "gridcolor": "rgb(232,232,232)",
            "linecolor": "rgb(36,36,36)",
            "showgrid": false,
            "showline": true,
            "ticks": "outside"
           },
           "baxis": {
            "gridcolor": "rgb(232,232,232)",
            "linecolor": "rgb(36,36,36)",
            "showgrid": false,
            "showline": true,
            "ticks": "outside"
           },
           "bgcolor": "white",
           "caxis": {
            "gridcolor": "rgb(232,232,232)",
            "linecolor": "rgb(36,36,36)",
            "showgrid": false,
            "showline": true,
            "ticks": "outside"
           }
          },
          "title": {
           "x": 0.05
          },
          "xaxis": {
           "automargin": true,
           "gridcolor": "rgb(232,232,232)",
           "linecolor": "rgb(36,36,36)",
           "showgrid": false,
           "showline": true,
           "ticks": "outside",
           "title": {
            "standoff": 15
           },
           "zeroline": false,
           "zerolinecolor": "rgb(36,36,36)"
          },
          "yaxis": {
           "automargin": true,
           "gridcolor": "rgb(232,232,232)",
           "linecolor": "rgb(36,36,36)",
           "showgrid": false,
           "showline": true,
           "ticks": "outside",
           "title": {
            "standoff": 15
           },
           "zeroline": false,
           "zerolinecolor": "rgb(36,36,36)"
          }
         }
        },
        "title": {
         "text": "all stops: number of stops by purpose (excluding shares < 1%)"
        },
        "width": 800,
        "xaxis": {
         "anchor": "y",
         "categoryorder": "category ascending",
         "domain": [
          0.0,
          0.49
         ],
         "dtick": 1,
         "title": {
          "text": "all_stops"
         }
        },
        "xaxis2": {
         "anchor": "y2",
         "categoryorder": "category ascending",
         "domain": [
          0.51,
          1.0
         ],
         "dtick": 1,
         "matches": "x",
         "title": {
          "text": "all_stops"
         }
        },
        "xaxis3": {
         "anchor": "y3",
         "categoryorder": "category ascending",
         "domain": [
          0.0,
          0.49
         ],
         "dtick": 1,
         "matches": "x",
         "showticklabels": false
        },
        "xaxis4": {
         "anchor": "y4",
         "categoryorder": "category ascending",
         "domain": [
          0.51,
          1.0
         ],
         "dtick": 1,
         "matches": "x",
         "showticklabels": false
        },
        "xaxis5": {
         "anchor": "y5",
         "categoryorder": "category ascending",
         "domain": [
          0.0,
          0.49
         ],
         "dtick": 1,
         "matches": "x",
         "showticklabels": false
        },
        "xaxis6": {
         "anchor": "y6",
         "categoryorder": "category ascending",
         "domain": [
          0.51,
          1.0
         ],
         "dtick": 1,
         "matches": "x",
         "showticklabels": false
        },
        "yaxis": {
         "anchor": "x",
         "domain": [
          0.0,
          0.2866666666666666
         ],
         "title": {
          "text": "percentage"
         }
        },
        "yaxis2": {
         "anchor": "x2",
         "domain": [
          0.0,
          0.2866666666666666
         ],
         "matches": "y",
         "showticklabels": false
        },
        "yaxis3": {
         "anchor": "x3",
         "domain": [
          0.35666666666666663,
          0.6433333333333333
         ],
         "matches": "y",
         "title": {
          "text": "percentage"
         }
        },
        "yaxis4": {
         "anchor": "x4",
         "domain": [
          0.35666666666666663,
          0.6433333333333333
         ],
         "matches": "y",
         "showticklabels": false
        },
        "yaxis5": {
         "anchor": "x5",
         "domain": [
          0.7133333333333333,
          0.9999999999999999
         ],
         "matches": "y",
         "title": {
          "text": "percentage"
         }
        },
        "yaxis6": {
         "anchor": "x6",
         "domain": [
          0.7133333333333333,
          0.9999999999999999
         ],
         "matches": "y",
         "showticklabels": false
        }
       }
      },
      "text/html": [
       "<div>                            <div id=\"e0fe4a4a-fc91-4843-a79d-589191ed26f5\" class=\"plotly-graph-div\" style=\"height:800px; width:800px;\"></div>            <script type=\"text/javascript\">                require([\"plotly\"], function(Plotly) {                    window.PLOTLYENV=window.PLOTLYENV || {};                                    if (document.getElementById(\"e0fe4a4a-fc91-4843-a79d-589191ed26f5\")) {                    Plotly.newPlot(                        \"e0fe4a4a-fc91-4843-a79d-589191ed26f5\",                        [{\"alignmentgroup\":\"True\",\"customdata\":[[16561.0],[14904.0],[9324.0],[4470.0],[1954.0],[817.0],[355.0],[160.0],[103.0]],\"hovertemplate\":\"source=model\\u003cbr\\u003epdpurp_label=Work\\u003cbr\\u003eall_stops=%{x}\\u003cbr\\u003epercentage=%{y}\\u003cbr\\u003etoexpfac=%{customdata[0]}\\u003cextra\\u003e\\u003c\\u002fextra\\u003e\",\"legendgroup\":\"model\",\"marker\":{\"color\":\"#91268F\",\"pattern\":{\"shape\":\"\"}},\"name\":\"model\",\"offsetgroup\":\"model\",\"orientation\":\"v\",\"showlegend\":true,\"textposition\":\"auto\",\"x\":[2.0,3.0,4.0,5.0,6.0,7.0,8.0,9.0,10.0],\"xaxis\":\"x5\",\"y\":[0.33864305578275805,0.3047603468018976,0.19065925077703255,0.0914035661704564,0.03995583183379683,0.01670619990184852,0.007259119908391952,0.0032717160150498937,0.002106167184688369],\"yaxis\":\"y5\",\"type\":\"bar\"},{\"alignmentgroup\":\"True\",\"customdata\":[[8647.0],[4433.0],[2494.0],[1007.0],[376.0],[119.0],[37.0]],\"hovertemplate\":\"source=model\\u003cbr\\u003epdpurp_label=School\\u003cbr\\u003eall_stops=%{x}\\u003cbr\\u003epercentage=%{y}\\u003cbr\\u003etoexpfac=%{customdata[0]}\\u003cextra\\u003e\\u003c\\u002fextra\\u003e\",\"legendgroup\":\"model\",\"marker\":{\"color\":\"#91268F\",\"pattern\":{\"shape\":\"\"}},\"name\":\"model\",\"offsetgroup\":\"model\",\"orientation\":\"v\",\"showlegend\":false,\"textposition\":\"auto\",\"x\":[2.0,3.0,4.0,5.0,6.0,7.0,8.0],\"xaxis\":\"x6\",\"y\":[0.5046396264954771,0.2587102421943391,0.14555004377006128,0.058768602276043184,0.021943390720747007,0.0069448497227896115,0.0021593230230522323],\"yaxis\":\"y6\",\"type\":\"bar\"},{\"alignmentgroup\":\"True\",\"customdata\":[[16353.0],[8257.0],[3623.0],[1150.0],[327.0],[91.0]],\"hovertemplate\":\"source=model\\u003cbr\\u003epdpurp_label=Shop\\u003cbr\\u003eall_stops=%{x}\\u003cbr\\u003epercentage=%{y}\\u003cbr\\u003etoexpfac=%{customdata[0]}\\u003cextra\\u003e\\u003c\\u002fextra\\u003e\",\"legendgroup\":\"model\",\"marker\":{\"color\":\"#91268F\",\"pattern\":{\"shape\":\"\"}},\"name\":\"model\",\"offsetgroup\":\"model\",\"orientation\":\"v\",\"showlegend\":false,\"textposition\":\"auto\",\"x\":[2.0,3.0,4.0,5.0,6.0,7.0],\"xaxis\":\"x3\",\"y\":[0.5484087326872128,0.2769039873905899,0.12149971494684597,0.03856601495690667,0.010966162513833462,0.003051745531372615],\"yaxis\":\"y3\",\"type\":\"bar\"},{\"alignmentgroup\":\"True\",\"customdata\":[[18479.0],[4698.0],[1735.0],[643.0],[176.0],[39.0]],\"hovertemplate\":\"source=model\\u003cbr\\u003epdpurp_label=Meal\\u003cbr\\u003eall_stops=%{x}\\u003cbr\\u003epercentage=%{y}\\u003cbr\\u003etoexpfac=%{customdata[0]}\\u003cextra\\u003e\\u003c\\u002fextra\\u003e\",\"legendgroup\":\"model\",\"marker\":{\"color\":\"#91268F\",\"pattern\":{\"shape\":\"\"}},\"name\":\"model\",\"offsetgroup\":\"model\",\"orientation\":\"v\",\"showlegend\":false,\"textposition\":\"auto\",\"x\":[2.0,3.0,4.0,5.0,6.0,7.0],\"xaxis\":\"x4\",\"y\":[0.7166847657461992,0.18220601923673596,0.06728979211914365,0.02493794601303134,0.006825938566552901,0.0015125659323611542],\"yaxis\":\"y4\",\"type\":\"bar\"},{\"alignmentgroup\":\"True\",\"customdata\":[[11166.0],[6700.0],[3190.0],[1141.0],[426.0],[132.0],[43.0]],\"hovertemplate\":\"source=model\\u003cbr\\u003epdpurp_label=Escort\\u003cbr\\u003eall_stops=%{x}\\u003cbr\\u003epercentage=%{y}\\u003cbr\\u003etoexpfac=%{customdata[0]}\\u003cextra\\u003e\\u003c\\u002fextra\\u003e\",\"legendgroup\":\"model\",\"marker\":{\"color\":\"#91268F\",\"pattern\":{\"shape\":\"\"}},\"name\":\"model\",\"offsetgroup\":\"model\",\"orientation\":\"v\",\"showlegend\":false,\"textposition\":\"auto\",\"x\":[2.0,3.0,4.0,5.0,6.0,7.0,8.0],\"xaxis\":\"x\",\"y\":[0.4892861837780991,0.2935892379825599,0.13978353271109942,0.049997809035537445,0.018667017220980676,0.005784146181148942,0.0018842294377985189],\"yaxis\":\"y\",\"type\":\"bar\"},{\"alignmentgroup\":\"True\",\"customdata\":[[9909.0],[4791.0],[1659.0],[381.0],[94.0],[32.0]],\"hovertemplate\":\"source=model\\u003cbr\\u003epdpurp_label=Personal Business\\u003cbr\\u003eall_stops=%{x}\\u003cbr\\u003epercentage=%{y}\\u003cbr\\u003etoexpfac=%{customdata[0]}\\u003cextra\\u003e\\u003c\\u002fextra\\u003e\",\"legendgroup\":\"model\",\"marker\":{\"color\":\"#91268F\",\"pattern\":{\"shape\":\"\"}},\"name\":\"model\",\"offsetgroup\":\"model\",\"orientation\":\"v\",\"showlegend\":false,\"textposition\":\"auto\",\"x\":[2.0,3.0,4.0,5.0,6.0,7.0],\"xaxis\":\"x2\",\"y\":[0.5873044096728307,0.2839615931721195,0.09832859174964438,0.022581792318634424,0.005571360834518729,0.001896633475580844],\"yaxis\":\"y2\",\"type\":\"bar\"},{\"alignmentgroup\":\"True\",\"customdata\":[[840911.6086847899],[351511.57846478303],[227297.6363580402],[116770.36855711893],[34897.85632051933],[8458.415828697356],[2717.033899873758],[14130.008952387132],[11955.374623876169]],\"hovertemplate\":\"source=survey\\u003cbr\\u003epdpurp_label=Work\\u003cbr\\u003eall_stops=%{x}\\u003cbr\\u003epercentage=%{y}\\u003cbr\\u003etoexpfac=%{customdata[0]}\\u003cextra\\u003e\\u003c\\u002fextra\\u003e\",\"legendgroup\":\"survey\",\"marker\":{\"color\":\"#8CC63E\",\"pattern\":{\"shape\":\"\"}},\"name\":\"survey\",\"offsetgroup\":\"survey\",\"orientation\":\"v\",\"showlegend\":true,\"textposition\":\"auto\",\"x\":[2.0,3.0,4.0,5.0,6.0,7.0,8.0,9.0,10.0],\"xaxis\":\"x5\",\"y\":[0.5218251099623682,0.2181294278625991,0.14104884848983068,0.0724614927221268,0.021655757304133064,0.005248843902655555,0.0016860470219820273,0.008768333555153154,0.0074188709173641475],\"yaxis\":\"y5\",\"type\":\"bar\"},{\"alignmentgroup\":\"True\",\"customdata\":[[393175.43728793523],[141382.87401508115],[21304.996978401385],[7301.670050150788],[3860.9771038148156]],\"hovertemplate\":\"source=survey\\u003cbr\\u003epdpurp_label=School\\u003cbr\\u003eall_stops=%{x}\\u003cbr\\u003epercentage=%{y}\\u003cbr\\u003etoexpfac=%{customdata[0]}\\u003cextra\\u003e\\u003c\\u002fextra\\u003e\",\"legendgroup\":\"survey\",\"marker\":{\"color\":\"#8CC63E\",\"pattern\":{\"shape\":\"\"}},\"name\":\"survey\",\"offsetgroup\":\"survey\",\"orientation\":\"v\",\"showlegend\":false,\"textposition\":\"auto\",\"x\":[2.0,3.0,4.0,5.0,6.0],\"xaxis\":\"x6\",\"y\":[0.692900809853962,0.24916182094251207,0.03754621540475239,0.012867876808211661,0.006804275924545356],\"yaxis\":\"y6\",\"type\":\"bar\"},{\"alignmentgroup\":\"True\",\"customdata\":[[430181.6406981982],[150306.63185752998],[110878.08498596275],[45250.5833970474],[10142.373750544484],[3708.610557405078],[2701.133408171084],[1255.6385493969117],[2889.1205121169264]],\"hovertemplate\":\"source=survey\\u003cbr\\u003epdpurp_label=Shop\\u003cbr\\u003eall_stops=%{x}\\u003cbr\\u003epercentage=%{y}\\u003cbr\\u003etoexpfac=%{customdata[0]}\\u003cextra\\u003e\\u003c\\u002fextra\\u003e\",\"legendgroup\":\"survey\",\"marker\":{\"color\":\"#8CC63E\",\"pattern\":{\"shape\":\"\"}},\"name\":\"survey\",\"offsetgroup\":\"survey\",\"orientation\":\"v\",\"showlegend\":false,\"textposition\":\"auto\",\"x\":[2.0,3.0,4.0,5.0,6.0,7.0,8.0,9.0,10.0],\"xaxis\":\"x3\",\"y\":[0.5680361702568442,0.19847337832917028,0.14640969488752748,0.05975142977517218,0.013392563971865858,0.004897059145953701,0.003566729333311471,0.0016580161618907237,0.0038149581382640927],\"yaxis\":\"y3\",\"type\":\"bar\"},{\"alignmentgroup\":\"True\",\"customdata\":[[235469.8004315122],[92698.61070028717],[57586.7422130048],[12438.617025717624],[7489.3556092922045],[1172.214787688912]],\"hovertemplate\":\"source=survey\\u003cbr\\u003epdpurp_label=Meal\\u003cbr\\u003eall_stops=%{x}\\u003cbr\\u003epercentage=%{y}\\u003cbr\\u003etoexpfac=%{customdata[0]}\\u003cextra\\u003e\\u003c\\u002fextra\\u003e\",\"legendgroup\":\"survey\",\"marker\":{\"color\":\"#8CC63E\",\"pattern\":{\"shape\":\"\"}},\"name\":\"survey\",\"offsetgroup\":\"survey\",\"orientation\":\"v\",\"showlegend\":false,\"textposition\":\"auto\",\"x\":[2.0,3.0,4.0,5.0,6.0,8.0],\"xaxis\":\"x4\",\"y\":[0.5781753413915466,0.22761326841039786,0.14139916998959343,0.030541927806044665,0.01838945261035573,0.00287827009584349],\"yaxis\":\"y4\",\"type\":\"bar\"},{\"alignmentgroup\":\"True\",\"customdata\":[[443318.76513350126],[99655.88688845352],[49147.557638806196],[24351.149781198383],[835.4309376535405],[10668.483411312234],[3895.702394738194]],\"hovertemplate\":\"source=survey\\u003cbr\\u003epdpurp_label=Escort\\u003cbr\\u003eall_stops=%{x}\\u003cbr\\u003epercentage=%{y}\\u003cbr\\u003etoexpfac=%{customdata[0]}\\u003cextra\\u003e\\u003c\\u002fextra\\u003e\",\"legendgroup\":\"survey\",\"marker\":{\"color\":\"#8CC63E\",\"pattern\":{\"shape\":\"\"}},\"name\":\"survey\",\"offsetgroup\":\"survey\",\"orientation\":\"v\",\"showlegend\":false,\"textposition\":\"auto\",\"x\":[2.0,3.0,4.0,5.0,6.0,7.0,8.0],\"xaxis\":\"x\",\"y\":[0.7013334930117817,0.1576563338788937,0.07775179167397045,0.038523695088246455,0.001321657786126474,0.016877617922942366,0.006163029366495073],\"yaxis\":\"y\",\"type\":\"bar\"},{\"alignmentgroup\":\"True\",\"customdata\":[[210948.62739716045],[114533.64460808811],[32114.574272947386],[19028.315775991035],[17466.284112097645],[2084.022129083484],[635.2684032486391],[3499.000562968686]],\"hovertemplate\":\"source=survey\\u003cbr\\u003epdpurp_label=Personal Business\\u003cbr\\u003eall_stops=%{x}\\u003cbr\\u003epercentage=%{y}\\u003cbr\\u003etoexpfac=%{customdata[0]}\\u003cextra\\u003e\\u003c\\u002fextra\\u003e\",\"legendgroup\":\"survey\",\"marker\":{\"color\":\"#8CC63E\",\"pattern\":{\"shape\":\"\"}},\"name\":\"survey\",\"offsetgroup\":\"survey\",\"orientation\":\"v\",\"showlegend\":false,\"textposition\":\"auto\",\"x\":[2.0,3.0,4.0,5.0,6.0,7.0,8.0,9.0],\"xaxis\":\"x2\",\"y\":[0.5254386621372023,0.2852846483768194,0.07999217226151258,0.04739643441830489,0.043505668036844476,0.005190959585189932,0.0015823500916768457,0.00871544032928053],\"yaxis\":\"y2\",\"type\":\"bar\"},{\"alignmentgroup\":\"True\",\"customdata\":[[708801.1946232843],[286280.16142478806],[189513.6871118599],[81598.71528175507],[30191.210760717328],[13375.07718209823],[4099.772131471227],[3265.019743265744],[11442.220722394446]],\"hovertemplate\":\"source=survey (2017\\u002f2019)\\u003cbr\\u003epdpurp_label=Work\\u003cbr\\u003eall_stops=%{x}\\u003cbr\\u003epercentage=%{y}\\u003cbr\\u003etoexpfac=%{customdata[0]}\\u003cextra\\u003e\\u003c\\u002fextra\\u003e\",\"legendgroup\":\"survey (2017\\u002f2019)\",\"marker\":{\"color\":\"#00A7A0\",\"pattern\":{\"shape\":\"\"}},\"name\":\"survey (2017\\u002f2019)\",\"offsetgroup\":\"survey (2017\\u002f2019)\",\"orientation\":\"v\",\"showlegend\":true,\"textposition\":\"auto\",\"x\":[2.0,3.0,4.0,5.0,6.0,7.0,8.0,9.0,10.0],\"xaxis\":\"x5\",\"y\":[0.5303068722112605,0.21418747334646054,0.14178927944235215,0.061050065668305245,0.02258828945018401,0.010006889660777821,0.0030673443446648193,0.002442804020215446,0.008560776037727823],\"yaxis\":\"y5\",\"type\":\"bar\"},{\"alignmentgroup\":\"True\",\"customdata\":[[373055.6025341466],[90437.35355465925],[42237.2746455821],[8911.633955837184],[4811.655369546585]],\"hovertemplate\":\"source=survey (2017\\u002f2019)\\u003cbr\\u003epdpurp_label=School\\u003cbr\\u003eall_stops=%{x}\\u003cbr\\u003epercentage=%{y}\\u003cbr\\u003etoexpfac=%{customdata[0]}\\u003cextra\\u003e\\u003c\\u002fextra\\u003e\",\"legendgroup\":\"survey (2017\\u002f2019)\",\"marker\":{\"color\":\"#00A7A0\",\"pattern\":{\"shape\":\"\"}},\"name\":\"survey (2017\\u002f2019)\",\"offsetgroup\":\"survey (2017\\u002f2019)\",\"orientation\":\"v\",\"showlegend\":false,\"textposition\":\"auto\",\"x\":[2.0,3.0,4.0,5.0,7.0],\"xaxis\":\"x6\",\"y\":[0.717536008811822,0.1739474150134875,0.08123927175039733,0.0171406573637452,0.009254749067403192],\"yaxis\":\"y6\",\"type\":\"bar\"},{\"alignmentgroup\":\"True\",\"customdata\":[[299943.7682916396],[139865.36709717824],[104797.3273092485],[39916.713363232484],[5012.984904976701],[10467.476340340087],[672.5911100587605],[686.7593132032889]],\"hovertemplate\":\"source=survey (2017\\u002f2019)\\u003cbr\\u003epdpurp_label=Shop\\u003cbr\\u003eall_stops=%{x}\\u003cbr\\u003epercentage=%{y}\\u003cbr\\u003etoexpfac=%{customdata[0]}\\u003cextra\\u003e\\u003c\\u002fextra\\u003e\",\"legendgroup\":\"survey (2017\\u002f2019)\",\"marker\":{\"color\":\"#00A7A0\",\"pattern\":{\"shape\":\"\"}},\"name\":\"survey (2017\\u002f2019)\",\"offsetgroup\":\"survey (2017\\u002f2019)\",\"orientation\":\"v\",\"showlegend\":false,\"textposition\":\"auto\",\"x\":[2.0,3.0,4.0,5.0,6.0,7.0,8.0,9.0],\"xaxis\":\"x3\",\"y\":[0.498773244133158,0.23258060431215538,0.17426634070855343,0.06637707038458844,0.008336038311736689,0.017406253051679168,0.001118444473275228,0.0011420046248535832],\"yaxis\":\"y3\",\"type\":\"bar\"},{\"alignmentgroup\":\"True\",\"customdata\":[[255116.33092914993],[92276.11192773866],[35029.0949842436],[6909.55951170696],[6685.951011044179],[1729.4940038059283]],\"hovertemplate\":\"source=survey (2017\\u002f2019)\\u003cbr\\u003epdpurp_label=Meal\\u003cbr\\u003eall_stops=%{x}\\u003cbr\\u003epercentage=%{y}\\u003cbr\\u003etoexpfac=%{customdata[0]}\\u003cextra\\u003e\\u003c\\u002fextra\\u003e\",\"legendgroup\":\"survey (2017\\u002f2019)\",\"marker\":{\"color\":\"#00A7A0\",\"pattern\":{\"shape\":\"\"}},\"name\":\"survey (2017\\u002f2019)\",\"offsetgroup\":\"survey (2017\\u002f2019)\",\"orientation\":\"v\",\"showlegend\":false,\"textposition\":\"auto\",\"x\":[2.0,3.0,4.0,5.0,6.0,8.0],\"xaxis\":\"x4\",\"y\":[0.6406830989364705,0.2317364205276641,0.08796986475035908,0.01735223293672951,0.016790676619925334,0.004343342403502001],\"yaxis\":\"y4\",\"type\":\"bar\"},{\"alignmentgroup\":\"True\",\"customdata\":[[462019.0121162237],[96441.14057844032],[54402.78730958136],[31668.683010648037],[9807.054145668857],[858.7491980976339],[4796.396875316257]],\"hovertemplate\":\"source=survey (2017\\u002f2019)\\u003cbr\\u003epdpurp_label=Escort\\u003cbr\\u003eall_stops=%{x}\\u003cbr\\u003epercentage=%{y}\\u003cbr\\u003etoexpfac=%{customdata[0]}\\u003cextra\\u003e\\u003c\\u002fextra\\u003e\",\"legendgroup\":\"survey (2017\\u002f2019)\",\"marker\":{\"color\":\"#00A7A0\",\"pattern\":{\"shape\":\"\"}},\"name\":\"survey (2017\\u002f2019)\",\"offsetgroup\":\"survey (2017\\u002f2019)\",\"orientation\":\"v\",\"showlegend\":false,\"textposition\":\"auto\",\"x\":[2.0,3.0,4.0,5.0,7.0,8.0,9.0],\"xaxis\":\"x\",\"y\":[0.6995581357991004,0.1460246932444874,0.0823730441270066,0.04795059135914647,0.01484918225421234,0.001300260319133863,0.0072623817822562034],\"yaxis\":\"y\",\"type\":\"bar\"},{\"alignmentgroup\":\"True\",\"customdata\":[[163733.6909045966],[91844.32947507798],[24965.903694359036],[17996.14240552616],[5464.733075512149],[1855.0199638370577]],\"hovertemplate\":\"source=survey (2017\\u002f2019)\\u003cbr\\u003epdpurp_label=Personal Business\\u003cbr\\u003eall_stops=%{x}\\u003cbr\\u003epercentage=%{y}\\u003cbr\\u003etoexpfac=%{customdata[0]}\\u003cextra\\u003e\\u003c\\u002fextra\\u003e\",\"legendgroup\":\"survey (2017\\u002f2019)\",\"marker\":{\"color\":\"#00A7A0\",\"pattern\":{\"shape\":\"\"}},\"name\":\"survey (2017\\u002f2019)\",\"offsetgroup\":\"survey (2017\\u002f2019)\",\"orientation\":\"v\",\"showlegend\":false,\"textposition\":\"auto\",\"x\":[2.0,3.0,4.0,5.0,6.0,7.0],\"xaxis\":\"x2\",\"y\":[0.5340596043739421,0.2995739361426263,0.08143272515377599,0.05869905356834906,0.01782463443041631,0.006050625393706135],\"yaxis\":\"y2\",\"type\":\"bar\"},{\"alignmentgroup\":\"True\",\"customdata\":[[847922.2792190161],[387095.82768052485],[200629.8557465618],[93808.41615002151],[58804.842296085655],[24632.645369685906],[8260.826897034976],[3577.0517420572064]],\"hovertemplate\":\"source=survey (old weights)\\u003cbr\\u003epdpurp_label=Work\\u003cbr\\u003eall_stops=%{x}\\u003cbr\\u003epercentage=%{y}\\u003cbr\\u003etoexpfac=%{customdata[0]}\\u003cextra\\u003e\\u003c\\u002fextra\\u003e\",\"legendgroup\":\"survey (old weights)\",\"marker\":{\"color\":\"#F05A28\",\"pattern\":{\"shape\":\"\"}},\"name\":\"survey (old weights)\",\"offsetgroup\":\"survey (old weights)\",\"orientation\":\"v\",\"showlegend\":true,\"textposition\":\"auto\",\"x\":[2.0,3.0,4.0,5.0,6.0,7.0,8.0,9.0],\"xaxis\":\"x5\",\"y\":[0.5186013168554098,0.2367533097128377,0.12270807117665417,0.05737456054619776,0.035965877297520106,0.015065675993461891,0.005052439135179701,0.0021877756834027553],\"yaxis\":\"y5\",\"type\":\"bar\"},{\"alignmentgroup\":\"True\",\"customdata\":[[378122.0134802237],[100173.26559652507],[29917.076301756126],[11994.631779034562],[1508.5597016489885]],\"hovertemplate\":\"source=survey (old weights)\\u003cbr\\u003epdpurp_label=School\\u003cbr\\u003eall_stops=%{x}\\u003cbr\\u003epercentage=%{y}\\u003cbr\\u003etoexpfac=%{customdata[0]}\\u003cextra\\u003e\\u003c\\u002fextra\\u003e\",\"legendgroup\":\"survey (old weights)\",\"marker\":{\"color\":\"#F05A28\",\"pattern\":{\"shape\":\"\"}},\"name\":\"survey (old weights)\",\"offsetgroup\":\"survey (old weights)\",\"orientation\":\"v\",\"showlegend\":false,\"textposition\":\"auto\",\"x\":[2.0,3.0,4.0,5.0,6.0],\"xaxis\":\"x6\",\"y\":[0.7197578876214445,0.19068050912531112,0.056947363219009665,0.022831865176573474,0.0028715539045612885],\"yaxis\":\"y6\",\"type\":\"bar\"},{\"alignmentgroup\":\"True\",\"customdata\":[[410672.1869237586],[227981.28978204535],[86707.64048286283],[41562.514168351794],[13526.019799220792],[4125.003769036155],[958.6039576457553]],\"hovertemplate\":\"source=survey (old weights)\\u003cbr\\u003epdpurp_label=Shop\\u003cbr\\u003eall_stops=%{x}\\u003cbr\\u003epercentage=%{y}\\u003cbr\\u003etoexpfac=%{customdata[0]}\\u003cextra\\u003e\\u003c\\u002fextra\\u003e\",\"legendgroup\":\"survey (old weights)\",\"marker\":{\"color\":\"#F05A28\",\"pattern\":{\"shape\":\"\"}},\"name\":\"survey (old weights)\",\"offsetgroup\":\"survey (old weights)\",\"orientation\":\"v\",\"showlegend\":false,\"textposition\":\"auto\",\"x\":[2.0,3.0,4.0,5.0,6.0,7.0,8.0],\"xaxis\":\"x3\",\"y\":[0.5223091521068675,0.2899556336022258,0.11027821124443214,0.05286085161333722,0.017202927682130293,0.005246343165291822,0.0012191904790893342],\"yaxis\":\"y3\",\"type\":\"bar\"},{\"alignmentgroup\":\"True\",\"customdata\":[[221413.00537807957],[81518.14343343275],[21323.603554874597],[21990.712812977497],[17360.23611303158],[3375.0458244029046],[1381.5134823349495],[370.99284354776705],[620.291652777814]],\"hovertemplate\":\"source=survey (old weights)\\u003cbr\\u003epdpurp_label=Meal\\u003cbr\\u003eall_stops=%{x}\\u003cbr\\u003epercentage=%{y}\\u003cbr\\u003etoexpfac=%{customdata[0]}\\u003cextra\\u003e\\u003c\\u002fextra\\u003e\",\"legendgroup\":\"survey (old weights)\",\"marker\":{\"color\":\"#F05A28\",\"pattern\":{\"shape\":\"\"}},\"name\":\"survey (old weights)\",\"offsetgroup\":\"survey (old weights)\",\"orientation\":\"v\",\"showlegend\":false,\"textposition\":\"auto\",\"x\":[2.0,3.0,4.0,5.0,6.0,7.0,8.0,9.0,10.0],\"xaxis\":\"x4\",\"y\":[0.5994555860675966,0.22070296351195606,0.05773171835246649,0.05953785602990025,0.04700126126574627,0.009137629784744066,0.003740322176645604,0.00100442940140782,0.001679383266641551],\"yaxis\":\"y4\",\"type\":\"bar\"},{\"alignmentgroup\":\"True\",\"customdata\":[[360060.9481402431],[39595.588933728926],[17410.647189653308],[10040.844376778796],[7440.030531536916]],\"hovertemplate\":\"source=survey (old weights)\\u003cbr\\u003epdpurp_label=Escort\\u003cbr\\u003eall_stops=%{x}\\u003cbr\\u003epercentage=%{y}\\u003cbr\\u003etoexpfac=%{customdata[0]}\\u003cextra\\u003e\\u003c\\u002fextra\\u003e\",\"legendgroup\":\"survey (old weights)\",\"marker\":{\"color\":\"#F05A28\",\"pattern\":{\"shape\":\"\"}},\"name\":\"survey (old weights)\",\"offsetgroup\":\"survey (old weights)\",\"orientation\":\"v\",\"showlegend\":false,\"textposition\":\"auto\",\"x\":[2.0,3.0,4.0,5.0,6.0],\"xaxis\":\"x\",\"y\":[0.8279786913905665,0.0910520957063587,0.040036679764385665,0.0230894386922058,0.017108733327582126],\"yaxis\":\"y\",\"type\":\"bar\"},{\"alignmentgroup\":\"True\",\"customdata\":[[445249.89904978895],[217710.14378061768],[84548.7134295401],[22153.888903259343],[24564.808170176555],[12187.670148740712],[902.0892198074839],[3342.123559312942]],\"hovertemplate\":\"source=survey (old weights)\\u003cbr\\u003epdpurp_label=Personal Business\\u003cbr\\u003eall_stops=%{x}\\u003cbr\\u003epercentage=%{y}\\u003cbr\\u003etoexpfac=%{customdata[0]}\\u003cextra\\u003e\\u003c\\u002fextra\\u003e\",\"legendgroup\":\"survey (old weights)\",\"marker\":{\"color\":\"#F05A28\",\"pattern\":{\"shape\":\"\"}},\"name\":\"survey (old weights)\",\"offsetgroup\":\"survey (old weights)\",\"orientation\":\"v\",\"showlegend\":false,\"textposition\":\"auto\",\"x\":[2.0,3.0,4.0,5.0,6.0,7.0,8.0,9.0],\"xaxis\":\"x2\",\"y\":[0.5463259907030472,0.2671324805258374,0.1037421001681043,0.027183038848134562,0.030141260421715027,0.014954390742328188,0.001106872315447179,0.004100818368494368],\"yaxis\":\"y2\",\"type\":\"bar\"}],                        {\"template\":{\"data\":{\"barpolar\":[{\"marker\":{\"line\":{\"color\":\"white\",\"width\":0.5},\"pattern\":{\"fillmode\":\"overlay\",\"size\":10,\"solidity\":0.2}},\"type\":\"barpolar\"}],\"bar\":[{\"error_x\":{\"color\":\"rgb(36,36,36)\"},\"error_y\":{\"color\":\"rgb(36,36,36)\"},\"marker\":{\"line\":{\"color\":\"white\",\"width\":0.5},\"pattern\":{\"fillmode\":\"overlay\",\"size\":10,\"solidity\":0.2}},\"type\":\"bar\"}],\"carpet\":[{\"aaxis\":{\"endlinecolor\":\"rgb(36,36,36)\",\"gridcolor\":\"white\",\"linecolor\":\"white\",\"minorgridcolor\":\"white\",\"startlinecolor\":\"rgb(36,36,36)\"},\"baxis\":{\"endlinecolor\":\"rgb(36,36,36)\",\"gridcolor\":\"white\",\"linecolor\":\"white\",\"minorgridcolor\":\"white\",\"startlinecolor\":\"rgb(36,36,36)\"},\"type\":\"carpet\"}],\"choropleth\":[{\"colorbar\":{\"outlinewidth\":1,\"tickcolor\":\"rgb(36,36,36)\",\"ticks\":\"outside\"},\"type\":\"choropleth\"}],\"contourcarpet\":[{\"colorbar\":{\"outlinewidth\":1,\"tickcolor\":\"rgb(36,36,36)\",\"ticks\":\"outside\"},\"type\":\"contourcarpet\"}],\"contour\":[{\"colorbar\":{\"outlinewidth\":1,\"tickcolor\":\"rgb(36,36,36)\",\"ticks\":\"outside\"},\"colorscale\":[[0.0,\"#440154\"],[0.1111111111111111,\"#482878\"],[0.2222222222222222,\"#3e4989\"],[0.3333333333333333,\"#31688e\"],[0.4444444444444444,\"#26828e\"],[0.5555555555555556,\"#1f9e89\"],[0.6666666666666666,\"#35b779\"],[0.7777777777777778,\"#6ece58\"],[0.8888888888888888,\"#b5de2b\"],[1.0,\"#fde725\"]],\"type\":\"contour\"}],\"heatmapgl\":[{\"colorbar\":{\"outlinewidth\":1,\"tickcolor\":\"rgb(36,36,36)\",\"ticks\":\"outside\"},\"colorscale\":[[0.0,\"#440154\"],[0.1111111111111111,\"#482878\"],[0.2222222222222222,\"#3e4989\"],[0.3333333333333333,\"#31688e\"],[0.4444444444444444,\"#26828e\"],[0.5555555555555556,\"#1f9e89\"],[0.6666666666666666,\"#35b779\"],[0.7777777777777778,\"#6ece58\"],[0.8888888888888888,\"#b5de2b\"],[1.0,\"#fde725\"]],\"type\":\"heatmapgl\"}],\"heatmap\":[{\"colorbar\":{\"outlinewidth\":1,\"tickcolor\":\"rgb(36,36,36)\",\"ticks\":\"outside\"},\"colorscale\":[[0.0,\"#440154\"],[0.1111111111111111,\"#482878\"],[0.2222222222222222,\"#3e4989\"],[0.3333333333333333,\"#31688e\"],[0.4444444444444444,\"#26828e\"],[0.5555555555555556,\"#1f9e89\"],[0.6666666666666666,\"#35b779\"],[0.7777777777777778,\"#6ece58\"],[0.8888888888888888,\"#b5de2b\"],[1.0,\"#fde725\"]],\"type\":\"heatmap\"}],\"histogram2dcontour\":[{\"colorbar\":{\"outlinewidth\":1,\"tickcolor\":\"rgb(36,36,36)\",\"ticks\":\"outside\"},\"colorscale\":[[0.0,\"#440154\"],[0.1111111111111111,\"#482878\"],[0.2222222222222222,\"#3e4989\"],[0.3333333333333333,\"#31688e\"],[0.4444444444444444,\"#26828e\"],[0.5555555555555556,\"#1f9e89\"],[0.6666666666666666,\"#35b779\"],[0.7777777777777778,\"#6ece58\"],[0.8888888888888888,\"#b5de2b\"],[1.0,\"#fde725\"]],\"type\":\"histogram2dcontour\"}],\"histogram2d\":[{\"colorbar\":{\"outlinewidth\":1,\"tickcolor\":\"rgb(36,36,36)\",\"ticks\":\"outside\"},\"colorscale\":[[0.0,\"#440154\"],[0.1111111111111111,\"#482878\"],[0.2222222222222222,\"#3e4989\"],[0.3333333333333333,\"#31688e\"],[0.4444444444444444,\"#26828e\"],[0.5555555555555556,\"#1f9e89\"],[0.6666666666666666,\"#35b779\"],[0.7777777777777778,\"#6ece58\"],[0.8888888888888888,\"#b5de2b\"],[1.0,\"#fde725\"]],\"type\":\"histogram2d\"}],\"histogram\":[{\"marker\":{\"line\":{\"color\":\"white\",\"width\":0.6}},\"type\":\"histogram\"}],\"mesh3d\":[{\"colorbar\":{\"outlinewidth\":1,\"tickcolor\":\"rgb(36,36,36)\",\"ticks\":\"outside\"},\"type\":\"mesh3d\"}],\"parcoords\":[{\"line\":{\"colorbar\":{\"outlinewidth\":1,\"tickcolor\":\"rgb(36,36,36)\",\"ticks\":\"outside\"}},\"type\":\"parcoords\"}],\"pie\":[{\"automargin\":true,\"type\":\"pie\"}],\"scatter3d\":[{\"line\":{\"colorbar\":{\"outlinewidth\":1,\"tickcolor\":\"rgb(36,36,36)\",\"ticks\":\"outside\"}},\"marker\":{\"colorbar\":{\"outlinewidth\":1,\"tickcolor\":\"rgb(36,36,36)\",\"ticks\":\"outside\"}},\"type\":\"scatter3d\"}],\"scattercarpet\":[{\"marker\":{\"colorbar\":{\"outlinewidth\":1,\"tickcolor\":\"rgb(36,36,36)\",\"ticks\":\"outside\"}},\"type\":\"scattercarpet\"}],\"scattergeo\":[{\"marker\":{\"colorbar\":{\"outlinewidth\":1,\"tickcolor\":\"rgb(36,36,36)\",\"ticks\":\"outside\"}},\"type\":\"scattergeo\"}],\"scattergl\":[{\"marker\":{\"colorbar\":{\"outlinewidth\":1,\"tickcolor\":\"rgb(36,36,36)\",\"ticks\":\"outside\"}},\"type\":\"scattergl\"}],\"scattermapbox\":[{\"marker\":{\"colorbar\":{\"outlinewidth\":1,\"tickcolor\":\"rgb(36,36,36)\",\"ticks\":\"outside\"}},\"type\":\"scattermapbox\"}],\"scatterpolargl\":[{\"marker\":{\"colorbar\":{\"outlinewidth\":1,\"tickcolor\":\"rgb(36,36,36)\",\"ticks\":\"outside\"}},\"type\":\"scatterpolargl\"}],\"scatterpolar\":[{\"marker\":{\"colorbar\":{\"outlinewidth\":1,\"tickcolor\":\"rgb(36,36,36)\",\"ticks\":\"outside\"}},\"type\":\"scatterpolar\"}],\"scatter\":[{\"fillpattern\":{\"fillmode\":\"overlay\",\"size\":10,\"solidity\":0.2},\"type\":\"scatter\"}],\"scatterternary\":[{\"marker\":{\"colorbar\":{\"outlinewidth\":1,\"tickcolor\":\"rgb(36,36,36)\",\"ticks\":\"outside\"}},\"type\":\"scatterternary\"}],\"surface\":[{\"colorbar\":{\"outlinewidth\":1,\"tickcolor\":\"rgb(36,36,36)\",\"ticks\":\"outside\"},\"colorscale\":[[0.0,\"#440154\"],[0.1111111111111111,\"#482878\"],[0.2222222222222222,\"#3e4989\"],[0.3333333333333333,\"#31688e\"],[0.4444444444444444,\"#26828e\"],[0.5555555555555556,\"#1f9e89\"],[0.6666666666666666,\"#35b779\"],[0.7777777777777778,\"#6ece58\"],[0.8888888888888888,\"#b5de2b\"],[1.0,\"#fde725\"]],\"type\":\"surface\"}],\"table\":[{\"cells\":{\"fill\":{\"color\":\"rgb(237,237,237)\"},\"line\":{\"color\":\"white\"}},\"header\":{\"fill\":{\"color\":\"rgb(217,217,217)\"},\"line\":{\"color\":\"white\"}},\"type\":\"table\"}]},\"layout\":{\"annotationdefaults\":{\"arrowhead\":0,\"arrowwidth\":1},\"autotypenumbers\":\"strict\",\"coloraxis\":{\"colorbar\":{\"outlinewidth\":1,\"tickcolor\":\"rgb(36,36,36)\",\"ticks\":\"outside\"}},\"colorscale\":{\"diverging\":[[0.0,\"rgb(103,0,31)\"],[0.1,\"rgb(178,24,43)\"],[0.2,\"rgb(214,96,77)\"],[0.3,\"rgb(244,165,130)\"],[0.4,\"rgb(253,219,199)\"],[0.5,\"rgb(247,247,247)\"],[0.6,\"rgb(209,229,240)\"],[0.7,\"rgb(146,197,222)\"],[0.8,\"rgb(67,147,195)\"],[0.9,\"rgb(33,102,172)\"],[1.0,\"rgb(5,48,97)\"]],\"sequential\":[[0.0,\"#440154\"],[0.1111111111111111,\"#482878\"],[0.2222222222222222,\"#3e4989\"],[0.3333333333333333,\"#31688e\"],[0.4444444444444444,\"#26828e\"],[0.5555555555555556,\"#1f9e89\"],[0.6666666666666666,\"#35b779\"],[0.7777777777777778,\"#6ece58\"],[0.8888888888888888,\"#b5de2b\"],[1.0,\"#fde725\"]],\"sequentialminus\":[[0.0,\"#440154\"],[0.1111111111111111,\"#482878\"],[0.2222222222222222,\"#3e4989\"],[0.3333333333333333,\"#31688e\"],[0.4444444444444444,\"#26828e\"],[0.5555555555555556,\"#1f9e89\"],[0.6666666666666666,\"#35b779\"],[0.7777777777777778,\"#6ece58\"],[0.8888888888888888,\"#b5de2b\"],[1.0,\"#fde725\"]]},\"colorway\":[\"#91268F\",\"#8CC63E\",\"#00A7A0\",\"#F05A28\",\"#4C4C4C\",\"#630460\",\"#9f3913\",\"#588527\",\"#00716c\",\"#3e4040\"],\"font\":{\"color\":\"rgb(36,36,36)\",\"family\":\"Poppins\",\"size\":11},\"geo\":{\"bgcolor\":\"white\",\"lakecolor\":\"white\",\"landcolor\":\"white\",\"showlakes\":true,\"showland\":true,\"subunitcolor\":\"white\"},\"hoverlabel\":{\"align\":\"left\"},\"hovermode\":\"closest\",\"mapbox\":{\"style\":\"light\"},\"paper_bgcolor\":\"white\",\"plot_bgcolor\":\"white\",\"polar\":{\"angularaxis\":{\"gridcolor\":\"rgb(232,232,232)\",\"linecolor\":\"rgb(36,36,36)\",\"showgrid\":false,\"showline\":true,\"ticks\":\"outside\"},\"bgcolor\":\"white\",\"radialaxis\":{\"gridcolor\":\"rgb(232,232,232)\",\"linecolor\":\"rgb(36,36,36)\",\"showgrid\":false,\"showline\":true,\"ticks\":\"outside\"}},\"scene\":{\"xaxis\":{\"backgroundcolor\":\"white\",\"gridcolor\":\"rgb(232,232,232)\",\"gridwidth\":2,\"linecolor\":\"rgb(36,36,36)\",\"showbackground\":true,\"showgrid\":false,\"showline\":true,\"ticks\":\"outside\",\"zeroline\":false,\"zerolinecolor\":\"rgb(36,36,36)\"},\"yaxis\":{\"backgroundcolor\":\"white\",\"gridcolor\":\"rgb(232,232,232)\",\"gridwidth\":2,\"linecolor\":\"rgb(36,36,36)\",\"showbackground\":true,\"showgrid\":false,\"showline\":true,\"ticks\":\"outside\",\"zeroline\":false,\"zerolinecolor\":\"rgb(36,36,36)\"},\"zaxis\":{\"backgroundcolor\":\"white\",\"gridcolor\":\"rgb(232,232,232)\",\"gridwidth\":2,\"linecolor\":\"rgb(36,36,36)\",\"showbackground\":true,\"showgrid\":false,\"showline\":true,\"ticks\":\"outside\",\"zeroline\":false,\"zerolinecolor\":\"rgb(36,36,36)\"}},\"shapedefaults\":{\"fillcolor\":\"black\",\"line\":{\"width\":0},\"opacity\":0.3},\"ternary\":{\"aaxis\":{\"gridcolor\":\"rgb(232,232,232)\",\"linecolor\":\"rgb(36,36,36)\",\"showgrid\":false,\"showline\":true,\"ticks\":\"outside\"},\"baxis\":{\"gridcolor\":\"rgb(232,232,232)\",\"linecolor\":\"rgb(36,36,36)\",\"showgrid\":false,\"showline\":true,\"ticks\":\"outside\"},\"bgcolor\":\"white\",\"caxis\":{\"gridcolor\":\"rgb(232,232,232)\",\"linecolor\":\"rgb(36,36,36)\",\"showgrid\":false,\"showline\":true,\"ticks\":\"outside\"}},\"title\":{\"x\":0.05},\"xaxis\":{\"automargin\":true,\"gridcolor\":\"rgb(232,232,232)\",\"linecolor\":\"rgb(36,36,36)\",\"showgrid\":false,\"showline\":true,\"ticks\":\"outside\",\"title\":{\"standoff\":15},\"zeroline\":false,\"zerolinecolor\":\"rgb(36,36,36)\"},\"yaxis\":{\"automargin\":true,\"gridcolor\":\"rgb(232,232,232)\",\"linecolor\":\"rgb(36,36,36)\",\"showgrid\":false,\"showline\":true,\"ticks\":\"outside\",\"title\":{\"standoff\":15},\"zeroline\":false,\"zerolinecolor\":\"rgb(36,36,36)\"}}},\"xaxis\":{\"anchor\":\"y\",\"domain\":[0.0,0.49],\"title\":{\"text\":\"all_stops\"},\"dtick\":1,\"categoryorder\":\"category ascending\"},\"yaxis\":{\"anchor\":\"x\",\"domain\":[0.0,0.2866666666666666],\"title\":{\"text\":\"percentage\"}},\"xaxis2\":{\"anchor\":\"y2\",\"domain\":[0.51,1.0],\"matches\":\"x\",\"title\":{\"text\":\"all_stops\"},\"dtick\":1,\"categoryorder\":\"category ascending\"},\"yaxis2\":{\"anchor\":\"x2\",\"domain\":[0.0,0.2866666666666666],\"matches\":\"y\",\"showticklabels\":false},\"xaxis3\":{\"anchor\":\"y3\",\"domain\":[0.0,0.49],\"matches\":\"x\",\"showticklabels\":false,\"dtick\":1,\"categoryorder\":\"category ascending\"},\"yaxis3\":{\"anchor\":\"x3\",\"domain\":[0.35666666666666663,0.6433333333333333],\"matches\":\"y\",\"title\":{\"text\":\"percentage\"}},\"xaxis4\":{\"anchor\":\"y4\",\"domain\":[0.51,1.0],\"matches\":\"x\",\"showticklabels\":false,\"dtick\":1,\"categoryorder\":\"category ascending\"},\"yaxis4\":{\"anchor\":\"x4\",\"domain\":[0.35666666666666663,0.6433333333333333],\"matches\":\"y\",\"showticklabels\":false},\"xaxis5\":{\"anchor\":\"y5\",\"domain\":[0.0,0.49],\"matches\":\"x\",\"showticklabels\":false,\"dtick\":1,\"categoryorder\":\"category ascending\"},\"yaxis5\":{\"anchor\":\"x5\",\"domain\":[0.7133333333333333,0.9999999999999999],\"matches\":\"y\",\"title\":{\"text\":\"percentage\"}},\"xaxis6\":{\"anchor\":\"y6\",\"domain\":[0.51,1.0],\"matches\":\"x\",\"showticklabels\":false,\"dtick\":1,\"categoryorder\":\"category ascending\"},\"yaxis6\":{\"anchor\":\"x6\",\"domain\":[0.7133333333333333,0.9999999999999999],\"matches\":\"y\",\"showticklabels\":false},\"annotations\":[{\"font\":{},\"showarrow\":false,\"text\":\"Escort\",\"x\":0.245,\"xanchor\":\"center\",\"xref\":\"paper\",\"y\":0.2866666666666666,\"yanchor\":\"bottom\",\"yref\":\"paper\"},{\"font\":{},\"showarrow\":false,\"text\":\"Personal Business\",\"x\":0.755,\"xanchor\":\"center\",\"xref\":\"paper\",\"y\":0.2866666666666666,\"yanchor\":\"bottom\",\"yref\":\"paper\"},{\"font\":{},\"showarrow\":false,\"text\":\"Shop\",\"x\":0.245,\"xanchor\":\"center\",\"xref\":\"paper\",\"y\":0.6433333333333333,\"yanchor\":\"bottom\",\"yref\":\"paper\"},{\"font\":{},\"showarrow\":false,\"text\":\"Meal\",\"x\":0.755,\"xanchor\":\"center\",\"xref\":\"paper\",\"y\":0.6433333333333333,\"yanchor\":\"bottom\",\"yref\":\"paper\"},{\"font\":{},\"showarrow\":false,\"text\":\"Work\",\"x\":0.245,\"xanchor\":\"center\",\"xref\":\"paper\",\"y\":0.9999999999999999,\"yanchor\":\"bottom\",\"yref\":\"paper\"},{\"font\":{},\"showarrow\":false,\"text\":\"School\",\"x\":0.755,\"xanchor\":\"center\",\"xref\":\"paper\",\"y\":0.9999999999999999,\"yanchor\":\"bottom\",\"yref\":\"paper\"}],\"legend\":{\"title\":{\"text\":\"source\"},\"tracegroupgap\":0},\"title\":{\"text\":\"all stops: number of stops by purpose (excluding shares \\u003c 1%)\"},\"barmode\":\"group\",\"height\":800,\"width\":800},                        {\"responsive\": true}                    ).then(function(){\n",
       "                            \n",
       "var gd = document.getElementById('e0fe4a4a-fc91-4843-a79d-589191ed26f5');\n",
       "var x = new MutationObserver(function (mutations, observer) {{\n",
       "        var display = window.getComputedStyle(gd).display;\n",
       "        if (!display || display === 'none') {{\n",
       "            console.log([gd, 'removed!']);\n",
       "            Plotly.purge(gd);\n",
       "            observer.disconnect();\n",
       "        }}\n",
       "}});\n",
       "\n",
       "// Listen for the removal of the full notebook cells\n",
       "var notebookContainer = gd.closest('#notebook-container');\n",
       "if (notebookContainer) {{\n",
       "    x.observe(notebookContainer, {childList: true});\n",
       "}}\n",
       "\n",
       "// Listen for the clearing of the current output cell\n",
       "var outputEl = gd.closest('.output');\n",
       "if (outputEl) {{\n",
       "    x.observe(outputEl, {childList: true});\n",
       "}}\n",
       "\n",
       "                        })                };                });            </script>        </div>"
      ]
     },
     "metadata": {},
     "output_type": "display_data"
    }
   ],
   "source": [
    "df_plot = df_tour.groupby(['all_stops','pdpurp_label','source'])['toexpfac'].sum().reset_index()\n",
    "df_plot['percentage'] = df_plot.groupby(['pdpurp_label','source'], group_keys=False)['toexpfac']. \\\n",
    "    apply(lambda x: x / float(x.sum()))\n",
    "df_plot2 = df_plot.loc[(df_plot['percentage'] > 0.001) & (df_plot['all_stops'] <= 10)]\n",
    "\n",
    "fig = px.bar(df_plot2.sort_values(['source','pdpurp_label']),\n",
    "             x=\"all_stops\", y=\"percentage\", color=\"source\",barmode=\"group\",\n",
    "             facet_col='pdpurp_label', facet_col_wrap=2,\n",
    "             hover_data=['toexpfac'],\n",
    "             title=\"all stops: number of stops by purpose (excluding shares < 1%)\")\n",
    "fig.update_layout(height=800, width=800)\n",
    "fig.for_each_annotation(lambda a: a.update(text = a.text.split(\"=\")[-1]))\n",
    "fig.for_each_xaxis(lambda a: a.update(dict(dtick = 1, categoryorder='category ascending')))\n",
    "fig.show()"
   ]
  },
  {
   "cell_type": "markdown",
   "metadata": {},
   "source": [
    "- outliers"
   ]
  },
  {
   "cell_type": "code",
   "execution_count": 11,
   "metadata": {
    "ExecuteTime": {
     "end_time": "2024-07-15T04:03:50.367983Z",
     "start_time": "2024-07-15T04:03:50.321578Z"
    },
    "execution": {
     "iopub.execute_input": "2025-01-21T06:48:02.016506Z",
     "iopub.status.busy": "2025-01-21T06:48:02.014512Z",
     "iopub.status.idle": "2025-01-21T06:48:02.051081Z",
     "shell.execute_reply": "2025-01-21T06:48:02.048951Z"
    }
   },
   "outputs": [
    {
     "data": {
      "text/html": [
       "<div>\n",
       "<style scoped>\n",
       "    .dataframe tbody tr th:only-of-type {\n",
       "        vertical-align: middle;\n",
       "    }\n",
       "\n",
       "    .dataframe tbody tr th {\n",
       "        vertical-align: top;\n",
       "    }\n",
       "\n",
       "    .dataframe thead th {\n",
       "        text-align: right;\n",
       "    }\n",
       "</style>\n",
       "<table border=\"1\" class=\"dataframe\">\n",
       "  <thead>\n",
       "    <tr style=\"text-align: right;\">\n",
       "      <th></th>\n",
       "      <th>all_stops</th>\n",
       "      <th>pdpurp_label</th>\n",
       "      <th>source</th>\n",
       "      <th>toexpfac</th>\n",
       "      <th>percentage</th>\n",
       "    </tr>\n",
       "  </thead>\n",
       "  <tbody>\n",
       "    <tr>\n",
       "      <th>264</th>\n",
       "      <td>11.0</td>\n",
       "      <td>Work</td>\n",
       "      <td>model</td>\n",
       "      <td>82.000000</td>\n",
       "      <td>0.001677</td>\n",
       "    </tr>\n",
       "    <tr>\n",
       "      <th>271</th>\n",
       "      <td>11.0</td>\n",
       "      <td>School</td>\n",
       "      <td>survey (old weights)</td>\n",
       "      <td>3064.276897</td>\n",
       "      <td>0.005833</td>\n",
       "    </tr>\n",
       "    <tr>\n",
       "      <th>285</th>\n",
       "      <td>11.0</td>\n",
       "      <td>Personal Business</td>\n",
       "      <td>survey</td>\n",
       "      <td>1161.723820</td>\n",
       "      <td>0.002894</td>\n",
       "    </tr>\n",
       "    <tr>\n",
       "      <th>286</th>\n",
       "      <td>11.0</td>\n",
       "      <td>Personal Business</td>\n",
       "      <td>survey (2017/2019)</td>\n",
       "      <td>652.698126</td>\n",
       "      <td>0.002129</td>\n",
       "    </tr>\n",
       "    <tr>\n",
       "      <th>288</th>\n",
       "      <td>12.0</td>\n",
       "      <td>Work</td>\n",
       "      <td>model</td>\n",
       "      <td>50.000000</td>\n",
       "      <td>0.001022</td>\n",
       "    </tr>\n",
       "    <tr>\n",
       "      <th>291</th>\n",
       "      <td>12.0</td>\n",
       "      <td>Work</td>\n",
       "      <td>survey (old weights)</td>\n",
       "      <td>6933.496798</td>\n",
       "      <td>0.004241</td>\n",
       "    </tr>\n",
       "    <tr>\n",
       "      <th>455</th>\n",
       "      <td>18.0</td>\n",
       "      <td>Personal Business</td>\n",
       "      <td>survey (old weights)</td>\n",
       "      <td>3640.709958</td>\n",
       "      <td>0.004467</td>\n",
       "    </tr>\n",
       "    <tr>\n",
       "      <th>722</th>\n",
       "      <td>49.0</td>\n",
       "      <td>Work</td>\n",
       "      <td>survey (2017/2019)</td>\n",
       "      <td>3192.998514</td>\n",
       "      <td>0.002389</td>\n",
       "    </tr>\n",
       "  </tbody>\n",
       "</table>\n",
       "</div>"
      ],
      "text/plain": [
       "     all_stops       pdpurp_label                source     toexpfac  \\\n",
       "264       11.0               Work                 model    82.000000   \n",
       "271       11.0             School  survey (old weights)  3064.276897   \n",
       "285       11.0  Personal Business                survey  1161.723820   \n",
       "286       11.0  Personal Business    survey (2017/2019)   652.698126   \n",
       "288       12.0               Work                 model    50.000000   \n",
       "291       12.0               Work  survey (old weights)  6933.496798   \n",
       "455       18.0  Personal Business  survey (old weights)  3640.709958   \n",
       "722       49.0               Work    survey (2017/2019)  3192.998514   \n",
       "\n",
       "     percentage  \n",
       "264    0.001677  \n",
       "271    0.005833  \n",
       "285    0.002894  \n",
       "286    0.002129  \n",
       "288    0.001022  \n",
       "291    0.004241  \n",
       "455    0.004467  \n",
       "722    0.002389  "
      ]
     },
     "execution_count": 11,
     "metadata": {},
     "output_type": "execute_result"
    }
   ],
   "source": [
    "df_plot.loc[(df_plot['percentage'] > 0.001) & (df_plot['all_stops'] > 10)]"
   ]
  },
  {
   "cell_type": "raw",
   "metadata": {},
   "source": [
    ":::"
   ]
  }
 ],
 "metadata": {
  "kernelspec": {
   "display_name": "build_notebook",
   "language": "python",
   "name": "python3"
  },
  "language_info": {
   "codemirror_mode": {
    "name": "ipython",
    "version": 3
   },
   "file_extension": ".py",
   "mimetype": "text/x-python",
   "name": "python",
   "nbconvert_exporter": "python",
   "pygments_lexer": "ipython3",
   "version": "3.10.15"
  }
 },
 "nbformat": 4,
 "nbformat_minor": 2
}
