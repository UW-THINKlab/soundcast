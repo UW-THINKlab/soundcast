{
 "cells": [
  {
   "cell_type": "raw",
   "metadata": {},
   "source": [
    "---\n",
    "title: \"Other Home-Based Tour Mode\"\n",
    "date: today\n",
    "---"
   ]
  },
  {
   "cell_type": "code",
   "execution_count": 1,
   "metadata": {
    "ExecuteTime": {
     "end_time": "2024-08-30T21:16:31.770785Z",
     "start_time": "2024-08-30T21:16:31.052440Z"
    },
    "execution": {
     "iopub.execute_input": "2024-12-11T19:10:05.735686Z",
     "iopub.status.busy": "2024-12-11T19:10:05.733692Z",
     "iopub.status.idle": "2024-12-11T19:10:08.774268Z",
     "shell.execute_reply": "2024-12-11T19:10:08.772265Z"
    }
   },
   "outputs": [],
   "source": [
    "import os\n",
    "import pandas as pd\n",
    "import numpy as np\n",
    "import validation_data_input\n",
    "import plotly.express as px\n",
    "import toml\n",
    "import psrc_theme\n",
    "\n",
    "# to show plotly figures in quarto HTML file\n",
    "import plotly.io as pio\n",
    "pio.renderers.default = \"plotly_mimetype+notebook_connected\"\n",
    "pio.templates.default = \"simple_white+psrc_color\" # set plotly template\n",
    "\n",
    "config = toml.load(os.path.join(os.getcwd(), '..\\\\..\\\\..\\\\..\\\\configuration', 'validation_configuration.toml'))\n",
    "# model_dir = os.path.join(os.getcwd(), '..\\\\..\\\\..\\\\..\\\\')"
   ]
  },
  {
   "cell_type": "code",
   "execution_count": 2,
   "metadata": {
    "ExecuteTime": {
     "end_time": "2024-08-30T21:17:08.293678Z",
     "start_time": "2024-08-30T21:16:31.770785Z"
    },
    "execution": {
     "iopub.execute_input": "2024-12-11T19:10:08.786233Z",
     "iopub.status.busy": "2024-12-11T19:10:08.784241Z",
     "iopub.status.idle": "2024-12-11T19:10:52.832978Z",
     "shell.execute_reply": "2024-12-11T19:10:52.830983Z"
    }
   },
   "outputs": [],
   "source": [
    "tour = validation_data_input.get_data('tour')\n",
    "hh = validation_data_input.get_data('household')\n",
    "person = validation_data_input.get_data('person')"
   ]
  },
  {
   "cell_type": "code",
   "execution_count": 3,
   "metadata": {
    "ExecuteTime": {
     "end_time": "2024-08-30T21:17:54.689815Z",
     "start_time": "2024-08-30T21:17:08.293678Z"
    },
    "execution": {
     "iopub.execute_input": "2024-12-11T19:10:52.844945Z",
     "iopub.status.busy": "2024-12-11T19:10:52.843948Z",
     "iopub.status.idle": "2024-12-11T19:11:39.379746Z",
     "shell.execute_reply": "2024-12-11T19:11:39.377819Z"
    }
   },
   "outputs": [],
   "source": [
    "# parcel land use data\n",
    "df_parcel = pd.read_csv(os.path.join(config['model_dir'],r'outputs\\landuse\\buffered_parcels.txt'),\n",
    "                        delim_whitespace=True,\n",
    "                        usecols=['parcelid','emptot_1','hh_1'])"
   ]
  },
  {
   "cell_type": "code",
   "execution_count": 4,
   "metadata": {
    "ExecuteTime": {
     "end_time": "2024-08-30T21:18:22.411455Z",
     "start_time": "2024-08-30T21:17:54.689815Z"
    },
    "execution": {
     "iopub.execute_input": "2024-12-11T19:11:39.391715Z",
     "iopub.status.busy": "2024-12-11T19:11:39.390717Z",
     "iopub.status.idle": "2024-12-11T19:11:55.637001Z",
     "shell.execute_reply": "2024-12-11T19:11:55.634935Z"
    }
   },
   "outputs": [],
   "source": [
    "df_tour = tour.copy()\n",
    "df_hh = hh.copy()\n",
    "df_person = person.copy()\n",
    "\n",
    "# auto_ownership with 4+\n",
    "df_hh['auto_ownership_4+'] = df_hh['hhvehs'].apply(lambda x: \"4+\" if x>=4.0 else str(x))\n",
    "# hhsize with 4+\n",
    "df_hh['hhsize_4+'] = df_hh['hhsize'].apply(lambda x: \"4+\" if x>=4.0 else str(x))\n",
    "# Add column for (potential) drivers adults (all hh members 16 and above)\n",
    "df_hh['drivers'] = df_hh['hhsize']-df_hh['hh515']-df_hh['hhcu5']#-df_hh['hhhsc']\n",
    "# auto availability\n",
    "df_hh['auto_count_driver'] = df_hh['hhvehs']-df_hh['drivers']\n",
    "df_hh['auto_available_driver'] = np.where(df_hh['drivers']<=0, \"no driver\",\n",
    "                                          np.where(df_hh['hhvehs']<=0, \"no car\",\n",
    "                                                   np.where(df_hh['auto_count_driver']<0, \"cars fewer than drivers\", \"enough cars\")))\n",
    "\n",
    "# add person type labels\n",
    "ptype_cat = {1: \"full time worker\",\n",
    "             2: \"part time worker\",\n",
    "             3: \"non-worker age 65+\",\n",
    "             4: \"other non-working adult\",\n",
    "             5: \"university student\",\n",
    "             6: \"grade school student/child age 16+\",\n",
    "             7: \"child age 5-15\",\n",
    "             8: \"child age 0-4\"}\n",
    "df_person['pptyp_label'] = df_person['pptyp'].map(ptype_cat)\n",
    "\n",
    "mode_cat = {1: \"1: walk\",\n",
    "            2: \"2: bike\",\n",
    "            3: \"3: sov\",\n",
    "            4: \"4: hov 2\",\n",
    "            5: \"5: hov 3+\",\n",
    "            6: \"6: walk to transit\",\n",
    "            7: \"7: park-and-ride\",\n",
    "            8: \"8: school bus\",\n",
    "            9: \"9: tnc\"}\n",
    "df_tour['tmodetp_label'] = df_tour['tmodetp'].map(mode_cat)\n",
    "\n",
    "pdpurp_cat = {1: \"Work\",\n",
    "              2: \"School\",\n",
    "              3: \"Escort\",\n",
    "              4: \"Personal Business\",\n",
    "              5: \"Shop\",\n",
    "              6: \"Meal\",\n",
    "              7: \"Social\"}\n",
    "df_tour['pdpurp_label'] = df_tour['pdpurp'].map(pdpurp_cat)\n",
    "\n",
    "df_hh = df_hh.merge(df_parcel,how=\"left\",left_on='hhno',right_on='parcelid')\n",
    "df_person = df_person.merge(df_hh,\n",
    "                          how='left', on=['hhno','source']) # get auto ownership from hh data\n",
    "\n",
    "df_tour = df_tour.merge(df_person, how='left', on=['pno','hhno','source'])"
   ]
  },
  {
   "cell_type": "code",
   "execution_count": 5,
   "metadata": {
    "ExecuteTime": {
     "end_time": "2024-08-30T21:18:27.473914Z",
     "start_time": "2024-08-30T21:18:22.411455Z"
    },
    "execution": {
     "iopub.execute_input": "2024-12-11T19:11:55.648904Z",
     "iopub.status.busy": "2024-12-11T19:11:55.647907Z",
     "iopub.status.idle": "2024-12-11T19:11:59.576584Z",
     "shell.execute_reply": "2024-12-11T19:11:59.574584Z"
    }
   },
   "outputs": [],
   "source": [
    "hb_tour = df_tour.loc[(df_tour['parent']==0) & ~(df_tour['pdpurp'].isin([1,2,3]))].copy()"
   ]
  },
  {
   "cell_type": "code",
   "execution_count": 6,
   "metadata": {
    "execution": {
     "iopub.execute_input": "2024-12-11T19:11:59.588550Z",
     "iopub.status.busy": "2024-12-11T19:11:59.587616Z",
     "iopub.status.idle": "2024-12-11T19:12:00.782245Z",
     "shell.execute_reply": "2024-12-11T19:12:00.780249Z"
    }
   },
   "outputs": [
    {
     "data": {
      "text/html": [
       "        <script type=\"text/javascript\">\n",
       "        window.PlotlyConfig = {MathJaxConfig: 'local'};\n",
       "        if (window.MathJax && window.MathJax.Hub && window.MathJax.Hub.Config) {window.MathJax.Hub.Config({SVG: {font: \"STIX-Web\"}});}\n",
       "        if (typeof require !== 'undefined') {\n",
       "        require.undef(\"plotly\");\n",
       "        requirejs.config({\n",
       "            paths: {\n",
       "                'plotly': ['https://cdn.plot.ly/plotly-2.35.2.min']\n",
       "            }\n",
       "        });\n",
       "        require(['plotly'], function(Plotly) {\n",
       "            window._Plotly = Plotly;\n",
       "        });\n",
       "        }\n",
       "        </script>\n",
       "        "
      ]
     },
     "metadata": {},
     "output_type": "display_data"
    },
    {
     "data": {
      "application/vnd.plotly.v1+json": {
       "config": {
        "plotlyServerURL": "https://plot.ly"
       },
       "data": [
        {
         "alignmentgroup": "True",
         "customdata": [
          [
           372371
          ],
          [
           43111
          ],
          [
           927606
          ],
          [
           557478
          ],
          [
           753538
          ],
          [
           95437
          ],
          [
           6701
          ]
         ],
         "hovertemplate": "source=model<br>tmodetp_label=%{x}<br>percentage=%{y}<br>sample count=%{customdata[0]}<extra></extra>",
         "legendgroup": "model",
         "marker": {
          "color": "#91268F",
          "pattern": {
           "shape": ""
          }
         },
         "name": "model",
         "offsetgroup": "model",
         "orientation": "v",
         "showlegend": true,
         "textposition": "auto",
         "type": "bar",
         "x": [
          "1: walk",
          "2: bike",
          "3: sov",
          "4: hov 2",
          "5: hov 3+",
          "6: walk to transit",
          "9: tnc"
         ],
         "xaxis": "x",
         "y": [
          0.1351009816989945,
          0.015641224536887544,
          0.33654737138466073,
          0.20226017889575734,
          0.2733932651777311,
          0.034625769435339855,
          0.0024312088706289216
         ],
         "yaxis": "y"
        },
        {
         "alignmentgroup": "True",
         "customdata": [
          [
           25
          ],
          [
           2
          ],
          [
           23
          ],
          [
           307
          ],
          [
           601
          ],
          [
           1168
          ],
          [
           1956
          ],
          [
           171
          ],
          [
           1611
          ]
         ],
         "hovertemplate": "source=survey<br>tmodetp_label=%{x}<br>percentage=%{y}<br>sample count=%{customdata[0]}<extra></extra>",
         "legendgroup": "survey",
         "marker": {
          "color": "#8CC63E",
          "pattern": {
           "shape": ""
          }
         },
         "name": "survey",
         "offsetgroup": "survey",
         "orientation": "v",
         "showlegend": true,
         "textposition": "auto",
         "type": "bar",
         "x": [
          "9: tnc",
          "8: school bus",
          "7: park-and-ride",
          "6: walk to transit",
          "5: hov 3+",
          "4: hov 2",
          "3: sov",
          "2: bike",
          "1: walk"
         ],
         "xaxis": "x",
         "y": [
          0.0023765470740304147,
          1.1978943351761683e-05,
          0.006678996960574424,
          0.03185504991625903,
          0.2685573681620605,
          0.19902971321478796,
          0.3379598372932764,
          0.015709063429111297,
          0.1378214450065484
         ],
         "yaxis": "y"
        },
        {
         "alignmentgroup": "True",
         "customdata": [
          [
           1717
          ],
          [
           156
          ],
          [
           2088
          ],
          [
           1244
          ],
          [
           658
          ],
          [
           330
          ],
          [
           22
          ],
          [
           34
          ]
         ],
         "hovertemplate": "source=survey (update)<br>tmodetp_label=%{x}<br>percentage=%{y}<br>sample count=%{customdata[0]}<extra></extra>",
         "legendgroup": "survey (update)",
         "marker": {
          "color": "#00A7A0",
          "pattern": {
           "shape": ""
          }
         },
         "name": "survey (update)",
         "offsetgroup": "survey (update)",
         "orientation": "v",
         "showlegend": true,
         "textposition": "auto",
         "type": "bar",
         "x": [
          "1: walk",
          "2: bike",
          "3: sov",
          "4: hov 2",
          "5: hov 3+",
          "6: walk to transit",
          "7: park-and-ride",
          "9: tnc"
         ],
         "xaxis": "x",
         "y": [
          0.15367083915351823,
          0.013820446888517768,
          0.3559171141813422,
          0.2522352552519134,
          0.16616811493806544,
          0.05093364504766402,
          0.003569421713633283,
          0.003685162825345425
         ],
         "yaxis": "y"
        }
       ],
       "layout": {
        "barmode": "group",
        "font": {
         "size": 11
        },
        "height": 400,
        "legend": {
         "title": {
          "text": "source"
         },
         "tracegroupgap": 0
        },
        "template": {
         "data": {
          "bar": [
           {
            "error_x": {
             "color": "rgb(36,36,36)"
            },
            "error_y": {
             "color": "rgb(36,36,36)"
            },
            "marker": {
             "line": {
              "color": "white",
              "width": 0.5
             },
             "pattern": {
              "fillmode": "overlay",
              "size": 10,
              "solidity": 0.2
             }
            },
            "type": "bar"
           }
          ],
          "barpolar": [
           {
            "marker": {
             "line": {
              "color": "white",
              "width": 0.5
             },
             "pattern": {
              "fillmode": "overlay",
              "size": 10,
              "solidity": 0.2
             }
            },
            "type": "barpolar"
           }
          ],
          "carpet": [
           {
            "aaxis": {
             "endlinecolor": "rgb(36,36,36)",
             "gridcolor": "white",
             "linecolor": "white",
             "minorgridcolor": "white",
             "startlinecolor": "rgb(36,36,36)"
            },
            "baxis": {
             "endlinecolor": "rgb(36,36,36)",
             "gridcolor": "white",
             "linecolor": "white",
             "minorgridcolor": "white",
             "startlinecolor": "rgb(36,36,36)"
            },
            "type": "carpet"
           }
          ],
          "choropleth": [
           {
            "colorbar": {
             "outlinewidth": 1,
             "tickcolor": "rgb(36,36,36)",
             "ticks": "outside"
            },
            "type": "choropleth"
           }
          ],
          "contour": [
           {
            "colorbar": {
             "outlinewidth": 1,
             "tickcolor": "rgb(36,36,36)",
             "ticks": "outside"
            },
            "colorscale": [
             [
              0.0,
              "#440154"
             ],
             [
              0.1111111111111111,
              "#482878"
             ],
             [
              0.2222222222222222,
              "#3e4989"
             ],
             [
              0.3333333333333333,
              "#31688e"
             ],
             [
              0.4444444444444444,
              "#26828e"
             ],
             [
              0.5555555555555556,
              "#1f9e89"
             ],
             [
              0.6666666666666666,
              "#35b779"
             ],
             [
              0.7777777777777778,
              "#6ece58"
             ],
             [
              0.8888888888888888,
              "#b5de2b"
             ],
             [
              1.0,
              "#fde725"
             ]
            ],
            "type": "contour"
           }
          ],
          "contourcarpet": [
           {
            "colorbar": {
             "outlinewidth": 1,
             "tickcolor": "rgb(36,36,36)",
             "ticks": "outside"
            },
            "type": "contourcarpet"
           }
          ],
          "heatmap": [
           {
            "colorbar": {
             "outlinewidth": 1,
             "tickcolor": "rgb(36,36,36)",
             "ticks": "outside"
            },
            "colorscale": [
             [
              0.0,
              "#440154"
             ],
             [
              0.1111111111111111,
              "#482878"
             ],
             [
              0.2222222222222222,
              "#3e4989"
             ],
             [
              0.3333333333333333,
              "#31688e"
             ],
             [
              0.4444444444444444,
              "#26828e"
             ],
             [
              0.5555555555555556,
              "#1f9e89"
             ],
             [
              0.6666666666666666,
              "#35b779"
             ],
             [
              0.7777777777777778,
              "#6ece58"
             ],
             [
              0.8888888888888888,
              "#b5de2b"
             ],
             [
              1.0,
              "#fde725"
             ]
            ],
            "type": "heatmap"
           }
          ],
          "heatmapgl": [
           {
            "colorbar": {
             "outlinewidth": 1,
             "tickcolor": "rgb(36,36,36)",
             "ticks": "outside"
            },
            "colorscale": [
             [
              0.0,
              "#440154"
             ],
             [
              0.1111111111111111,
              "#482878"
             ],
             [
              0.2222222222222222,
              "#3e4989"
             ],
             [
              0.3333333333333333,
              "#31688e"
             ],
             [
              0.4444444444444444,
              "#26828e"
             ],
             [
              0.5555555555555556,
              "#1f9e89"
             ],
             [
              0.6666666666666666,
              "#35b779"
             ],
             [
              0.7777777777777778,
              "#6ece58"
             ],
             [
              0.8888888888888888,
              "#b5de2b"
             ],
             [
              1.0,
              "#fde725"
             ]
            ],
            "type": "heatmapgl"
           }
          ],
          "histogram": [
           {
            "marker": {
             "line": {
              "color": "white",
              "width": 0.6
             }
            },
            "type": "histogram"
           }
          ],
          "histogram2d": [
           {
            "colorbar": {
             "outlinewidth": 1,
             "tickcolor": "rgb(36,36,36)",
             "ticks": "outside"
            },
            "colorscale": [
             [
              0.0,
              "#440154"
             ],
             [
              0.1111111111111111,
              "#482878"
             ],
             [
              0.2222222222222222,
              "#3e4989"
             ],
             [
              0.3333333333333333,
              "#31688e"
             ],
             [
              0.4444444444444444,
              "#26828e"
             ],
             [
              0.5555555555555556,
              "#1f9e89"
             ],
             [
              0.6666666666666666,
              "#35b779"
             ],
             [
              0.7777777777777778,
              "#6ece58"
             ],
             [
              0.8888888888888888,
              "#b5de2b"
             ],
             [
              1.0,
              "#fde725"
             ]
            ],
            "type": "histogram2d"
           }
          ],
          "histogram2dcontour": [
           {
            "colorbar": {
             "outlinewidth": 1,
             "tickcolor": "rgb(36,36,36)",
             "ticks": "outside"
            },
            "colorscale": [
             [
              0.0,
              "#440154"
             ],
             [
              0.1111111111111111,
              "#482878"
             ],
             [
              0.2222222222222222,
              "#3e4989"
             ],
             [
              0.3333333333333333,
              "#31688e"
             ],
             [
              0.4444444444444444,
              "#26828e"
             ],
             [
              0.5555555555555556,
              "#1f9e89"
             ],
             [
              0.6666666666666666,
              "#35b779"
             ],
             [
              0.7777777777777778,
              "#6ece58"
             ],
             [
              0.8888888888888888,
              "#b5de2b"
             ],
             [
              1.0,
              "#fde725"
             ]
            ],
            "type": "histogram2dcontour"
           }
          ],
          "mesh3d": [
           {
            "colorbar": {
             "outlinewidth": 1,
             "tickcolor": "rgb(36,36,36)",
             "ticks": "outside"
            },
            "type": "mesh3d"
           }
          ],
          "parcoords": [
           {
            "line": {
             "colorbar": {
              "outlinewidth": 1,
              "tickcolor": "rgb(36,36,36)",
              "ticks": "outside"
             }
            },
            "type": "parcoords"
           }
          ],
          "pie": [
           {
            "automargin": true,
            "type": "pie"
           }
          ],
          "scatter": [
           {
            "fillpattern": {
             "fillmode": "overlay",
             "size": 10,
             "solidity": 0.2
            },
            "type": "scatter"
           }
          ],
          "scatter3d": [
           {
            "line": {
             "colorbar": {
              "outlinewidth": 1,
              "tickcolor": "rgb(36,36,36)",
              "ticks": "outside"
             }
            },
            "marker": {
             "colorbar": {
              "outlinewidth": 1,
              "tickcolor": "rgb(36,36,36)",
              "ticks": "outside"
             }
            },
            "type": "scatter3d"
           }
          ],
          "scattercarpet": [
           {
            "marker": {
             "colorbar": {
              "outlinewidth": 1,
              "tickcolor": "rgb(36,36,36)",
              "ticks": "outside"
             }
            },
            "type": "scattercarpet"
           }
          ],
          "scattergeo": [
           {
            "marker": {
             "colorbar": {
              "outlinewidth": 1,
              "tickcolor": "rgb(36,36,36)",
              "ticks": "outside"
             }
            },
            "type": "scattergeo"
           }
          ],
          "scattergl": [
           {
            "marker": {
             "colorbar": {
              "outlinewidth": 1,
              "tickcolor": "rgb(36,36,36)",
              "ticks": "outside"
             }
            },
            "type": "scattergl"
           }
          ],
          "scattermapbox": [
           {
            "marker": {
             "colorbar": {
              "outlinewidth": 1,
              "tickcolor": "rgb(36,36,36)",
              "ticks": "outside"
             }
            },
            "type": "scattermapbox"
           }
          ],
          "scatterpolar": [
           {
            "marker": {
             "colorbar": {
              "outlinewidth": 1,
              "tickcolor": "rgb(36,36,36)",
              "ticks": "outside"
             }
            },
            "type": "scatterpolar"
           }
          ],
          "scatterpolargl": [
           {
            "marker": {
             "colorbar": {
              "outlinewidth": 1,
              "tickcolor": "rgb(36,36,36)",
              "ticks": "outside"
             }
            },
            "type": "scatterpolargl"
           }
          ],
          "scatterternary": [
           {
            "marker": {
             "colorbar": {
              "outlinewidth": 1,
              "tickcolor": "rgb(36,36,36)",
              "ticks": "outside"
             }
            },
            "type": "scatterternary"
           }
          ],
          "surface": [
           {
            "colorbar": {
             "outlinewidth": 1,
             "tickcolor": "rgb(36,36,36)",
             "ticks": "outside"
            },
            "colorscale": [
             [
              0.0,
              "#440154"
             ],
             [
              0.1111111111111111,
              "#482878"
             ],
             [
              0.2222222222222222,
              "#3e4989"
             ],
             [
              0.3333333333333333,
              "#31688e"
             ],
             [
              0.4444444444444444,
              "#26828e"
             ],
             [
              0.5555555555555556,
              "#1f9e89"
             ],
             [
              0.6666666666666666,
              "#35b779"
             ],
             [
              0.7777777777777778,
              "#6ece58"
             ],
             [
              0.8888888888888888,
              "#b5de2b"
             ],
             [
              1.0,
              "#fde725"
             ]
            ],
            "type": "surface"
           }
          ],
          "table": [
           {
            "cells": {
             "fill": {
              "color": "rgb(237,237,237)"
             },
             "line": {
              "color": "white"
             }
            },
            "header": {
             "fill": {
              "color": "rgb(217,217,217)"
             },
             "line": {
              "color": "white"
             }
            },
            "type": "table"
           }
          ]
         },
         "layout": {
          "annotationdefaults": {
           "arrowhead": 0,
           "arrowwidth": 1
          },
          "autotypenumbers": "strict",
          "coloraxis": {
           "colorbar": {
            "outlinewidth": 1,
            "tickcolor": "rgb(36,36,36)",
            "ticks": "outside"
           }
          },
          "colorscale": {
           "diverging": [
            [
             0.0,
             "rgb(103,0,31)"
            ],
            [
             0.1,
             "rgb(178,24,43)"
            ],
            [
             0.2,
             "rgb(214,96,77)"
            ],
            [
             0.3,
             "rgb(244,165,130)"
            ],
            [
             0.4,
             "rgb(253,219,199)"
            ],
            [
             0.5,
             "rgb(247,247,247)"
            ],
            [
             0.6,
             "rgb(209,229,240)"
            ],
            [
             0.7,
             "rgb(146,197,222)"
            ],
            [
             0.8,
             "rgb(67,147,195)"
            ],
            [
             0.9,
             "rgb(33,102,172)"
            ],
            [
             1.0,
             "rgb(5,48,97)"
            ]
           ],
           "sequential": [
            [
             0.0,
             "#440154"
            ],
            [
             0.1111111111111111,
             "#482878"
            ],
            [
             0.2222222222222222,
             "#3e4989"
            ],
            [
             0.3333333333333333,
             "#31688e"
            ],
            [
             0.4444444444444444,
             "#26828e"
            ],
            [
             0.5555555555555556,
             "#1f9e89"
            ],
            [
             0.6666666666666666,
             "#35b779"
            ],
            [
             0.7777777777777778,
             "#6ece58"
            ],
            [
             0.8888888888888888,
             "#b5de2b"
            ],
            [
             1.0,
             "#fde725"
            ]
           ],
           "sequentialminus": [
            [
             0.0,
             "#440154"
            ],
            [
             0.1111111111111111,
             "#482878"
            ],
            [
             0.2222222222222222,
             "#3e4989"
            ],
            [
             0.3333333333333333,
             "#31688e"
            ],
            [
             0.4444444444444444,
             "#26828e"
            ],
            [
             0.5555555555555556,
             "#1f9e89"
            ],
            [
             0.6666666666666666,
             "#35b779"
            ],
            [
             0.7777777777777778,
             "#6ece58"
            ],
            [
             0.8888888888888888,
             "#b5de2b"
            ],
            [
             1.0,
             "#fde725"
            ]
           ]
          },
          "colorway": [
           "#91268F",
           "#8CC63E",
           "#00A7A0",
           "#F05A28",
           "#4C4C4C",
           "#630460",
           "#9f3913",
           "#588527",
           "#00716c",
           "#3e4040"
          ],
          "font": {
           "color": "rgb(36,36,36)",
           "family": "Poppins",
           "size": 11
          },
          "geo": {
           "bgcolor": "white",
           "lakecolor": "white",
           "landcolor": "white",
           "showlakes": true,
           "showland": true,
           "subunitcolor": "white"
          },
          "hoverlabel": {
           "align": "left"
          },
          "hovermode": "closest",
          "mapbox": {
           "style": "light"
          },
          "paper_bgcolor": "white",
          "plot_bgcolor": "white",
          "polar": {
           "angularaxis": {
            "gridcolor": "rgb(232,232,232)",
            "linecolor": "rgb(36,36,36)",
            "showgrid": false,
            "showline": true,
            "ticks": "outside"
           },
           "bgcolor": "white",
           "radialaxis": {
            "gridcolor": "rgb(232,232,232)",
            "linecolor": "rgb(36,36,36)",
            "showgrid": false,
            "showline": true,
            "ticks": "outside"
           }
          },
          "scene": {
           "xaxis": {
            "backgroundcolor": "white",
            "gridcolor": "rgb(232,232,232)",
            "gridwidth": 2,
            "linecolor": "rgb(36,36,36)",
            "showbackground": true,
            "showgrid": false,
            "showline": true,
            "ticks": "outside",
            "zeroline": false,
            "zerolinecolor": "rgb(36,36,36)"
           },
           "yaxis": {
            "backgroundcolor": "white",
            "gridcolor": "rgb(232,232,232)",
            "gridwidth": 2,
            "linecolor": "rgb(36,36,36)",
            "showbackground": true,
            "showgrid": false,
            "showline": true,
            "ticks": "outside",
            "zeroline": false,
            "zerolinecolor": "rgb(36,36,36)"
           },
           "zaxis": {
            "backgroundcolor": "white",
            "gridcolor": "rgb(232,232,232)",
            "gridwidth": 2,
            "linecolor": "rgb(36,36,36)",
            "showbackground": true,
            "showgrid": false,
            "showline": true,
            "ticks": "outside",
            "zeroline": false,
            "zerolinecolor": "rgb(36,36,36)"
           }
          },
          "shapedefaults": {
           "fillcolor": "black",
           "line": {
            "width": 0
           },
           "opacity": 0.3
          },
          "ternary": {
           "aaxis": {
            "gridcolor": "rgb(232,232,232)",
            "linecolor": "rgb(36,36,36)",
            "showgrid": false,
            "showline": true,
            "ticks": "outside"
           },
           "baxis": {
            "gridcolor": "rgb(232,232,232)",
            "linecolor": "rgb(36,36,36)",
            "showgrid": false,
            "showline": true,
            "ticks": "outside"
           },
           "bgcolor": "white",
           "caxis": {
            "gridcolor": "rgb(232,232,232)",
            "linecolor": "rgb(36,36,36)",
            "showgrid": false,
            "showline": true,
            "ticks": "outside"
           }
          },
          "title": {
           "x": 0.05
          },
          "xaxis": {
           "automargin": true,
           "gridcolor": "rgb(232,232,232)",
           "linecolor": "rgb(36,36,36)",
           "showgrid": false,
           "showline": true,
           "ticks": "outside",
           "title": {
            "standoff": 15
           },
           "zeroline": false,
           "zerolinecolor": "rgb(36,36,36)"
          },
          "yaxis": {
           "automargin": true,
           "gridcolor": "rgb(232,232,232)",
           "linecolor": "rgb(36,36,36)",
           "showgrid": false,
           "showline": true,
           "ticks": "outside",
           "title": {
            "standoff": 15
           },
           "zeroline": false,
           "zerolinecolor": "rgb(36,36,36)"
          }
         }
        },
        "title": {
         "text": "other home-based tour mode"
        },
        "width": 700,
        "xaxis": {
         "anchor": "y",
         "categoryorder": "category ascending",
         "domain": [
          0.0,
          1.0
         ],
         "dtick": 1,
         "title": {
          "text": "tmodetp_label"
         }
        },
        "yaxis": {
         "anchor": "x",
         "domain": [
          0.0,
          1.0
         ],
         "tickformat": ".2%",
         "title": {
          "text": "percentage"
         }
        }
       }
      },
      "text/html": [
       "<div>                            <div id=\"931b5813-88ae-4eea-baa0-a7923a3355de\" class=\"plotly-graph-div\" style=\"height:400px; width:700px;\"></div>            <script type=\"text/javascript\">                require([\"plotly\"], function(Plotly) {                    window.PLOTLYENV=window.PLOTLYENV || {};                                    if (document.getElementById(\"931b5813-88ae-4eea-baa0-a7923a3355de\")) {                    Plotly.newPlot(                        \"931b5813-88ae-4eea-baa0-a7923a3355de\",                        [{\"alignmentgroup\":\"True\",\"customdata\":[[372371],[43111],[927606],[557478],[753538],[95437],[6701]],\"hovertemplate\":\"source=model\\u003cbr\\u003etmodetp_label=%{x}\\u003cbr\\u003epercentage=%{y}\\u003cbr\\u003esample count=%{customdata[0]}\\u003cextra\\u003e\\u003c\\u002fextra\\u003e\",\"legendgroup\":\"model\",\"marker\":{\"color\":\"#91268F\",\"pattern\":{\"shape\":\"\"}},\"name\":\"model\",\"offsetgroup\":\"model\",\"orientation\":\"v\",\"showlegend\":true,\"textposition\":\"auto\",\"x\":[\"1: walk\",\"2: bike\",\"3: sov\",\"4: hov 2\",\"5: hov 3+\",\"6: walk to transit\",\"9: tnc\"],\"xaxis\":\"x\",\"y\":[0.1351009816989945,0.015641224536887544,0.33654737138466073,0.20226017889575734,0.2733932651777311,0.034625769435339855,0.0024312088706289216],\"yaxis\":\"y\",\"type\":\"bar\"},{\"alignmentgroup\":\"True\",\"customdata\":[[25],[2],[23],[307],[601],[1168],[1956],[171],[1611]],\"hovertemplate\":\"source=survey\\u003cbr\\u003etmodetp_label=%{x}\\u003cbr\\u003epercentage=%{y}\\u003cbr\\u003esample count=%{customdata[0]}\\u003cextra\\u003e\\u003c\\u002fextra\\u003e\",\"legendgroup\":\"survey\",\"marker\":{\"color\":\"#8CC63E\",\"pattern\":{\"shape\":\"\"}},\"name\":\"survey\",\"offsetgroup\":\"survey\",\"orientation\":\"v\",\"showlegend\":true,\"textposition\":\"auto\",\"x\":[\"9: tnc\",\"8: school bus\",\"7: park-and-ride\",\"6: walk to transit\",\"5: hov 3+\",\"4: hov 2\",\"3: sov\",\"2: bike\",\"1: walk\"],\"xaxis\":\"x\",\"y\":[0.0023765470740304147,1.1978943351761683e-05,0.006678996960574424,0.03185504991625903,0.2685573681620605,0.19902971321478796,0.3379598372932764,0.015709063429111297,0.1378214450065484],\"yaxis\":\"y\",\"type\":\"bar\"},{\"alignmentgroup\":\"True\",\"customdata\":[[1717],[156],[2088],[1244],[658],[330],[22],[34]],\"hovertemplate\":\"source=survey (update)\\u003cbr\\u003etmodetp_label=%{x}\\u003cbr\\u003epercentage=%{y}\\u003cbr\\u003esample count=%{customdata[0]}\\u003cextra\\u003e\\u003c\\u002fextra\\u003e\",\"legendgroup\":\"survey (update)\",\"marker\":{\"color\":\"#00A7A0\",\"pattern\":{\"shape\":\"\"}},\"name\":\"survey (update)\",\"offsetgroup\":\"survey (update)\",\"orientation\":\"v\",\"showlegend\":true,\"textposition\":\"auto\",\"x\":[\"1: walk\",\"2: bike\",\"3: sov\",\"4: hov 2\",\"5: hov 3+\",\"6: walk to transit\",\"7: park-and-ride\",\"9: tnc\"],\"xaxis\":\"x\",\"y\":[0.15367083915351823,0.013820446888517768,0.3559171141813422,0.2522352552519134,0.16616811493806544,0.05093364504766402,0.003569421713633283,0.003685162825345425],\"yaxis\":\"y\",\"type\":\"bar\"}],                        {\"template\":{\"data\":{\"barpolar\":[{\"marker\":{\"line\":{\"color\":\"white\",\"width\":0.5},\"pattern\":{\"fillmode\":\"overlay\",\"size\":10,\"solidity\":0.2}},\"type\":\"barpolar\"}],\"bar\":[{\"error_x\":{\"color\":\"rgb(36,36,36)\"},\"error_y\":{\"color\":\"rgb(36,36,36)\"},\"marker\":{\"line\":{\"color\":\"white\",\"width\":0.5},\"pattern\":{\"fillmode\":\"overlay\",\"size\":10,\"solidity\":0.2}},\"type\":\"bar\"}],\"carpet\":[{\"aaxis\":{\"endlinecolor\":\"rgb(36,36,36)\",\"gridcolor\":\"white\",\"linecolor\":\"white\",\"minorgridcolor\":\"white\",\"startlinecolor\":\"rgb(36,36,36)\"},\"baxis\":{\"endlinecolor\":\"rgb(36,36,36)\",\"gridcolor\":\"white\",\"linecolor\":\"white\",\"minorgridcolor\":\"white\",\"startlinecolor\":\"rgb(36,36,36)\"},\"type\":\"carpet\"}],\"choropleth\":[{\"colorbar\":{\"outlinewidth\":1,\"tickcolor\":\"rgb(36,36,36)\",\"ticks\":\"outside\"},\"type\":\"choropleth\"}],\"contourcarpet\":[{\"colorbar\":{\"outlinewidth\":1,\"tickcolor\":\"rgb(36,36,36)\",\"ticks\":\"outside\"},\"type\":\"contourcarpet\"}],\"contour\":[{\"colorbar\":{\"outlinewidth\":1,\"tickcolor\":\"rgb(36,36,36)\",\"ticks\":\"outside\"},\"colorscale\":[[0.0,\"#440154\"],[0.1111111111111111,\"#482878\"],[0.2222222222222222,\"#3e4989\"],[0.3333333333333333,\"#31688e\"],[0.4444444444444444,\"#26828e\"],[0.5555555555555556,\"#1f9e89\"],[0.6666666666666666,\"#35b779\"],[0.7777777777777778,\"#6ece58\"],[0.8888888888888888,\"#b5de2b\"],[1.0,\"#fde725\"]],\"type\":\"contour\"}],\"heatmapgl\":[{\"colorbar\":{\"outlinewidth\":1,\"tickcolor\":\"rgb(36,36,36)\",\"ticks\":\"outside\"},\"colorscale\":[[0.0,\"#440154\"],[0.1111111111111111,\"#482878\"],[0.2222222222222222,\"#3e4989\"],[0.3333333333333333,\"#31688e\"],[0.4444444444444444,\"#26828e\"],[0.5555555555555556,\"#1f9e89\"],[0.6666666666666666,\"#35b779\"],[0.7777777777777778,\"#6ece58\"],[0.8888888888888888,\"#b5de2b\"],[1.0,\"#fde725\"]],\"type\":\"heatmapgl\"}],\"heatmap\":[{\"colorbar\":{\"outlinewidth\":1,\"tickcolor\":\"rgb(36,36,36)\",\"ticks\":\"outside\"},\"colorscale\":[[0.0,\"#440154\"],[0.1111111111111111,\"#482878\"],[0.2222222222222222,\"#3e4989\"],[0.3333333333333333,\"#31688e\"],[0.4444444444444444,\"#26828e\"],[0.5555555555555556,\"#1f9e89\"],[0.6666666666666666,\"#35b779\"],[0.7777777777777778,\"#6ece58\"],[0.8888888888888888,\"#b5de2b\"],[1.0,\"#fde725\"]],\"type\":\"heatmap\"}],\"histogram2dcontour\":[{\"colorbar\":{\"outlinewidth\":1,\"tickcolor\":\"rgb(36,36,36)\",\"ticks\":\"outside\"},\"colorscale\":[[0.0,\"#440154\"],[0.1111111111111111,\"#482878\"],[0.2222222222222222,\"#3e4989\"],[0.3333333333333333,\"#31688e\"],[0.4444444444444444,\"#26828e\"],[0.5555555555555556,\"#1f9e89\"],[0.6666666666666666,\"#35b779\"],[0.7777777777777778,\"#6ece58\"],[0.8888888888888888,\"#b5de2b\"],[1.0,\"#fde725\"]],\"type\":\"histogram2dcontour\"}],\"histogram2d\":[{\"colorbar\":{\"outlinewidth\":1,\"tickcolor\":\"rgb(36,36,36)\",\"ticks\":\"outside\"},\"colorscale\":[[0.0,\"#440154\"],[0.1111111111111111,\"#482878\"],[0.2222222222222222,\"#3e4989\"],[0.3333333333333333,\"#31688e\"],[0.4444444444444444,\"#26828e\"],[0.5555555555555556,\"#1f9e89\"],[0.6666666666666666,\"#35b779\"],[0.7777777777777778,\"#6ece58\"],[0.8888888888888888,\"#b5de2b\"],[1.0,\"#fde725\"]],\"type\":\"histogram2d\"}],\"histogram\":[{\"marker\":{\"line\":{\"color\":\"white\",\"width\":0.6}},\"type\":\"histogram\"}],\"mesh3d\":[{\"colorbar\":{\"outlinewidth\":1,\"tickcolor\":\"rgb(36,36,36)\",\"ticks\":\"outside\"},\"type\":\"mesh3d\"}],\"parcoords\":[{\"line\":{\"colorbar\":{\"outlinewidth\":1,\"tickcolor\":\"rgb(36,36,36)\",\"ticks\":\"outside\"}},\"type\":\"parcoords\"}],\"pie\":[{\"automargin\":true,\"type\":\"pie\"}],\"scatter3d\":[{\"line\":{\"colorbar\":{\"outlinewidth\":1,\"tickcolor\":\"rgb(36,36,36)\",\"ticks\":\"outside\"}},\"marker\":{\"colorbar\":{\"outlinewidth\":1,\"tickcolor\":\"rgb(36,36,36)\",\"ticks\":\"outside\"}},\"type\":\"scatter3d\"}],\"scattercarpet\":[{\"marker\":{\"colorbar\":{\"outlinewidth\":1,\"tickcolor\":\"rgb(36,36,36)\",\"ticks\":\"outside\"}},\"type\":\"scattercarpet\"}],\"scattergeo\":[{\"marker\":{\"colorbar\":{\"outlinewidth\":1,\"tickcolor\":\"rgb(36,36,36)\",\"ticks\":\"outside\"}},\"type\":\"scattergeo\"}],\"scattergl\":[{\"marker\":{\"colorbar\":{\"outlinewidth\":1,\"tickcolor\":\"rgb(36,36,36)\",\"ticks\":\"outside\"}},\"type\":\"scattergl\"}],\"scattermapbox\":[{\"marker\":{\"colorbar\":{\"outlinewidth\":1,\"tickcolor\":\"rgb(36,36,36)\",\"ticks\":\"outside\"}},\"type\":\"scattermapbox\"}],\"scatterpolargl\":[{\"marker\":{\"colorbar\":{\"outlinewidth\":1,\"tickcolor\":\"rgb(36,36,36)\",\"ticks\":\"outside\"}},\"type\":\"scatterpolargl\"}],\"scatterpolar\":[{\"marker\":{\"colorbar\":{\"outlinewidth\":1,\"tickcolor\":\"rgb(36,36,36)\",\"ticks\":\"outside\"}},\"type\":\"scatterpolar\"}],\"scatter\":[{\"fillpattern\":{\"fillmode\":\"overlay\",\"size\":10,\"solidity\":0.2},\"type\":\"scatter\"}],\"scatterternary\":[{\"marker\":{\"colorbar\":{\"outlinewidth\":1,\"tickcolor\":\"rgb(36,36,36)\",\"ticks\":\"outside\"}},\"type\":\"scatterternary\"}],\"surface\":[{\"colorbar\":{\"outlinewidth\":1,\"tickcolor\":\"rgb(36,36,36)\",\"ticks\":\"outside\"},\"colorscale\":[[0.0,\"#440154\"],[0.1111111111111111,\"#482878\"],[0.2222222222222222,\"#3e4989\"],[0.3333333333333333,\"#31688e\"],[0.4444444444444444,\"#26828e\"],[0.5555555555555556,\"#1f9e89\"],[0.6666666666666666,\"#35b779\"],[0.7777777777777778,\"#6ece58\"],[0.8888888888888888,\"#b5de2b\"],[1.0,\"#fde725\"]],\"type\":\"surface\"}],\"table\":[{\"cells\":{\"fill\":{\"color\":\"rgb(237,237,237)\"},\"line\":{\"color\":\"white\"}},\"header\":{\"fill\":{\"color\":\"rgb(217,217,217)\"},\"line\":{\"color\":\"white\"}},\"type\":\"table\"}]},\"layout\":{\"annotationdefaults\":{\"arrowhead\":0,\"arrowwidth\":1},\"autotypenumbers\":\"strict\",\"coloraxis\":{\"colorbar\":{\"outlinewidth\":1,\"tickcolor\":\"rgb(36,36,36)\",\"ticks\":\"outside\"}},\"colorscale\":{\"diverging\":[[0.0,\"rgb(103,0,31)\"],[0.1,\"rgb(178,24,43)\"],[0.2,\"rgb(214,96,77)\"],[0.3,\"rgb(244,165,130)\"],[0.4,\"rgb(253,219,199)\"],[0.5,\"rgb(247,247,247)\"],[0.6,\"rgb(209,229,240)\"],[0.7,\"rgb(146,197,222)\"],[0.8,\"rgb(67,147,195)\"],[0.9,\"rgb(33,102,172)\"],[1.0,\"rgb(5,48,97)\"]],\"sequential\":[[0.0,\"#440154\"],[0.1111111111111111,\"#482878\"],[0.2222222222222222,\"#3e4989\"],[0.3333333333333333,\"#31688e\"],[0.4444444444444444,\"#26828e\"],[0.5555555555555556,\"#1f9e89\"],[0.6666666666666666,\"#35b779\"],[0.7777777777777778,\"#6ece58\"],[0.8888888888888888,\"#b5de2b\"],[1.0,\"#fde725\"]],\"sequentialminus\":[[0.0,\"#440154\"],[0.1111111111111111,\"#482878\"],[0.2222222222222222,\"#3e4989\"],[0.3333333333333333,\"#31688e\"],[0.4444444444444444,\"#26828e\"],[0.5555555555555556,\"#1f9e89\"],[0.6666666666666666,\"#35b779\"],[0.7777777777777778,\"#6ece58\"],[0.8888888888888888,\"#b5de2b\"],[1.0,\"#fde725\"]]},\"colorway\":[\"#91268F\",\"#8CC63E\",\"#00A7A0\",\"#F05A28\",\"#4C4C4C\",\"#630460\",\"#9f3913\",\"#588527\",\"#00716c\",\"#3e4040\"],\"font\":{\"color\":\"rgb(36,36,36)\",\"family\":\"Poppins\",\"size\":11},\"geo\":{\"bgcolor\":\"white\",\"lakecolor\":\"white\",\"landcolor\":\"white\",\"showlakes\":true,\"showland\":true,\"subunitcolor\":\"white\"},\"hoverlabel\":{\"align\":\"left\"},\"hovermode\":\"closest\",\"mapbox\":{\"style\":\"light\"},\"paper_bgcolor\":\"white\",\"plot_bgcolor\":\"white\",\"polar\":{\"angularaxis\":{\"gridcolor\":\"rgb(232,232,232)\",\"linecolor\":\"rgb(36,36,36)\",\"showgrid\":false,\"showline\":true,\"ticks\":\"outside\"},\"bgcolor\":\"white\",\"radialaxis\":{\"gridcolor\":\"rgb(232,232,232)\",\"linecolor\":\"rgb(36,36,36)\",\"showgrid\":false,\"showline\":true,\"ticks\":\"outside\"}},\"scene\":{\"xaxis\":{\"backgroundcolor\":\"white\",\"gridcolor\":\"rgb(232,232,232)\",\"gridwidth\":2,\"linecolor\":\"rgb(36,36,36)\",\"showbackground\":true,\"showgrid\":false,\"showline\":true,\"ticks\":\"outside\",\"zeroline\":false,\"zerolinecolor\":\"rgb(36,36,36)\"},\"yaxis\":{\"backgroundcolor\":\"white\",\"gridcolor\":\"rgb(232,232,232)\",\"gridwidth\":2,\"linecolor\":\"rgb(36,36,36)\",\"showbackground\":true,\"showgrid\":false,\"showline\":true,\"ticks\":\"outside\",\"zeroline\":false,\"zerolinecolor\":\"rgb(36,36,36)\"},\"zaxis\":{\"backgroundcolor\":\"white\",\"gridcolor\":\"rgb(232,232,232)\",\"gridwidth\":2,\"linecolor\":\"rgb(36,36,36)\",\"showbackground\":true,\"showgrid\":false,\"showline\":true,\"ticks\":\"outside\",\"zeroline\":false,\"zerolinecolor\":\"rgb(36,36,36)\"}},\"shapedefaults\":{\"fillcolor\":\"black\",\"line\":{\"width\":0},\"opacity\":0.3},\"ternary\":{\"aaxis\":{\"gridcolor\":\"rgb(232,232,232)\",\"linecolor\":\"rgb(36,36,36)\",\"showgrid\":false,\"showline\":true,\"ticks\":\"outside\"},\"baxis\":{\"gridcolor\":\"rgb(232,232,232)\",\"linecolor\":\"rgb(36,36,36)\",\"showgrid\":false,\"showline\":true,\"ticks\":\"outside\"},\"bgcolor\":\"white\",\"caxis\":{\"gridcolor\":\"rgb(232,232,232)\",\"linecolor\":\"rgb(36,36,36)\",\"showgrid\":false,\"showline\":true,\"ticks\":\"outside\"}},\"title\":{\"x\":0.05},\"xaxis\":{\"automargin\":true,\"gridcolor\":\"rgb(232,232,232)\",\"linecolor\":\"rgb(36,36,36)\",\"showgrid\":false,\"showline\":true,\"ticks\":\"outside\",\"title\":{\"standoff\":15},\"zeroline\":false,\"zerolinecolor\":\"rgb(36,36,36)\"},\"yaxis\":{\"automargin\":true,\"gridcolor\":\"rgb(232,232,232)\",\"linecolor\":\"rgb(36,36,36)\",\"showgrid\":false,\"showline\":true,\"ticks\":\"outside\",\"title\":{\"standoff\":15},\"zeroline\":false,\"zerolinecolor\":\"rgb(36,36,36)\"}}},\"xaxis\":{\"anchor\":\"y\",\"domain\":[0.0,1.0],\"title\":{\"text\":\"tmodetp_label\"},\"dtick\":1,\"categoryorder\":\"category ascending\"},\"yaxis\":{\"anchor\":\"x\",\"domain\":[0.0,1.0],\"title\":{\"text\":\"percentage\"},\"tickformat\":\".2%\"},\"legend\":{\"title\":{\"text\":\"source\"},\"tracegroupgap\":0},\"title\":{\"text\":\"other home-based tour mode\"},\"barmode\":\"group\",\"font\":{\"size\":11},\"height\":400,\"width\":700},                        {\"responsive\": true}                    ).then(function(){\n",
       "                            \n",
       "var gd = document.getElementById('931b5813-88ae-4eea-baa0-a7923a3355de');\n",
       "var x = new MutationObserver(function (mutations, observer) {{\n",
       "        var display = window.getComputedStyle(gd).display;\n",
       "        if (!display || display === 'none') {{\n",
       "            console.log([gd, 'removed!']);\n",
       "            Plotly.purge(gd);\n",
       "            observer.disconnect();\n",
       "        }}\n",
       "}});\n",
       "\n",
       "// Listen for the removal of the full notebook cells\n",
       "var notebookContainer = gd.closest('#notebook-container');\n",
       "if (notebookContainer) {{\n",
       "    x.observe(notebookContainer, {childList: true});\n",
       "}}\n",
       "\n",
       "// Listen for the clearing of the current output cell\n",
       "var outputEl = gd.closest('.output');\n",
       "if (outputEl) {{\n",
       "    x.observe(outputEl, {childList: true});\n",
       "}}\n",
       "\n",
       "                        })                };                });            </script>        </div>"
      ]
     },
     "metadata": {},
     "output_type": "display_data"
    }
   ],
   "source": [
    "df_plot = hb_tour.groupby(['source','tmodetp_label'])['toexpfac'].sum().reset_index()\n",
    "df_plot['percentage'] = df_plot.groupby(['source'], group_keys=False)['toexpfac']. \\\n",
    "    apply(lambda x: x / float(x.sum()))\n",
    "\n",
    "df_plot_ct = hb_tour.groupby(['source','tmodetp_label'])['toexpfac'].count().reset_index(). \\\n",
    "    rename(columns={'toexpfac':'sample count'})\n",
    "df_plot = df_plot.merge(df_plot_ct, on=['source','tmodetp_label'])\n",
    "\n",
    "fig = px.bar(df_plot.sort_values(by=['source']), x=\"tmodetp_label\", y=\"percentage\", color=\"source\",\n",
    "             barmode=\"group\",hover_data=['sample count'],title=\"other home-based tour mode\")\n",
    "fig.update_layout(height=400, width=700, font=dict(size=11),\n",
    "                  xaxis = dict(dtick = 1, categoryorder='category ascending'),\n",
    "                  yaxis=dict(tickformat=\".2%\"))\n",
    "fig.show()"
   ]
  },
  {
   "cell_type": "code",
   "execution_count": 7,
   "metadata": {
    "execution": {
     "iopub.execute_input": "2024-12-11T19:12:00.796207Z",
     "iopub.status.busy": "2024-12-11T19:12:00.794212Z",
     "iopub.status.idle": "2024-12-11T19:12:02.151279Z",
     "shell.execute_reply": "2024-12-11T19:12:02.149286Z"
    }
   },
   "outputs": [
    {
     "data": {
      "application/vnd.plotly.v1+json": {
       "config": {
        "plotlyServerURL": "https://plot.ly"
       },
       "data": [
        {
         "alignmentgroup": "True",
         "customdata": [
          [
           47351
          ],
          [
           1810
          ],
          [
           96446
          ],
          [
           104166
          ],
          [
           125139
          ],
          [
           18415
          ],
          [
           965
          ]
         ],
         "hovertemplate": "source=model<br>pdpurp_label=Meal<br>percentage=%{x}<br>tmodetp_label=%{y}<br>sample count=%{customdata[0]}<extra></extra>",
         "legendgroup": "model",
         "marker": {
          "color": "#91268F",
          "pattern": {
           "shape": ""
          }
         },
         "name": "model",
         "offsetgroup": "model",
         "orientation": "h",
         "showlegend": true,
         "textposition": "auto",
         "type": "bar",
         "x": [
          0.12009120144461465,
          0.004590506528156797,
          0.24460552078155276,
          0.2641849187911497,
          0.3173764621143721,
          0.04670396558895438,
          0.0024474247511996187
         ],
         "xaxis": "x4",
         "y": [
          "1: walk",
          "2: bike",
          "3: sov",
          "4: hov 2",
          "5: hov 3+",
          "6: walk to transit",
          "9: tnc"
         ],
         "yaxis": "y4"
        },
        {
         "alignmentgroup": "True",
         "customdata": [
          [
           26932
          ],
          [
           2934
          ],
          [
           140123
          ],
          [
           59662
          ],
          [
           74466
          ],
          [
           17523
          ],
          [
           1445
          ]
         ],
         "hovertemplate": "source=model<br>pdpurp_label=Personal Business<br>percentage=%{x}<br>tmodetp_label=%{y}<br>sample count=%{customdata[0]}<extra></extra>",
         "legendgroup": "model",
         "marker": {
          "color": "#91268F",
          "pattern": {
           "shape": ""
          }
         },
         "name": "model",
         "offsetgroup": "model",
         "orientation": "h",
         "showlegend": false,
         "textposition": "auto",
         "type": "bar",
         "x": [
          0.08335886840924216,
          0.009081201541390038,
          0.4337032050389216,
          0.18466347865112895,
          0.23048423789405265,
          0.05423650123032638,
          0.0044725072349381745
         ],
         "xaxis": "x3",
         "y": [
          "1: walk",
          "2: bike",
          "3: sov",
          "4: hov 2",
          "5: hov 3+",
          "6: walk to transit",
          "9: tnc"
         ],
         "yaxis": "y3"
        },
        {
         "alignmentgroup": "True",
         "customdata": [
          [
           56980
          ],
          [
           5301
          ],
          [
           253601
          ],
          [
           105898
          ],
          [
           141391
          ],
          [
           24660
          ],
          [
           839
          ]
         ],
         "hovertemplate": "source=model<br>pdpurp_label=Shop<br>percentage=%{x}<br>tmodetp_label=%{y}<br>sample count=%{customdata[0]}<extra></extra>",
         "legendgroup": "model",
         "marker": {
          "color": "#91268F",
          "pattern": {
           "shape": ""
          }
         },
         "name": "model",
         "offsetgroup": "model",
         "orientation": "h",
         "showlegend": false,
         "textposition": "auto",
         "type": "bar",
         "x": [
          0.09679446888749214,
          0.009005045271544328,
          0.43080333633444884,
          0.1798936585863047,
          0.24018720165797475,
          0.04189104251957803,
          0.0014252467426571764
         ],
         "xaxis": "x2",
         "y": [
          "1: walk",
          "2: bike",
          "3: sov",
          "4: hov 2",
          "5: hov 3+",
          "6: walk to transit",
          "9: tnc"
         ],
         "yaxis": "y2"
        },
        {
         "alignmentgroup": "True",
         "customdata": [
          [
           241108
          ],
          [
           33066
          ],
          [
           437436
          ],
          [
           287752
          ],
          [
           412542
          ],
          [
           34839
          ],
          [
           3452
          ]
         ],
         "hovertemplate": "source=model<br>pdpurp_label=Social<br>percentage=%{x}<br>tmodetp_label=%{y}<br>sample count=%{customdata[0]}<extra></extra>",
         "legendgroup": "model",
         "marker": {
          "color": "#91268F",
          "pattern": {
           "shape": ""
          }
         },
         "name": "model",
         "offsetgroup": "model",
         "orientation": "h",
         "showlegend": false,
         "textposition": "auto",
         "type": "bar",
         "x": [
          0.16625902033864412,
          0.022801071580028892,
          0.3016394346967132,
          0.19842297070393983,
          0.28447346736128587,
          0.024023665782877474,
          0.002380369536510607
         ],
         "xaxis": "x",
         "y": [
          "1: walk",
          "2: bike",
          "3: sov",
          "4: hov 2",
          "5: hov 3+",
          "6: walk to transit",
          "9: tnc"
         ],
         "yaxis": "y"
        },
        {
         "alignmentgroup": "True",
         "customdata": [
          [
           200
          ],
          [
           25
          ],
          [
           201
          ],
          [
           204
          ],
          [
           87
          ],
          [
           43
          ],
          [
           3
          ],
          [
           3
          ]
         ],
         "hovertemplate": "source=survey<br>pdpurp_label=Meal<br>percentage=%{x}<br>tmodetp_label=%{y}<br>sample count=%{customdata[0]}<extra></extra>",
         "legendgroup": "survey",
         "marker": {
          "color": "#8CC63E",
          "pattern": {
           "shape": ""
          }
         },
         "name": "survey",
         "offsetgroup": "survey",
         "orientation": "h",
         "showlegend": true,
         "textposition": "auto",
         "type": "bar",
         "x": [
          0.048822010199051316,
          0.011726533000568154,
          0.1588658538285569,
          0.49575576455071824,
          0.26800741129581995,
          0.009481826280530457,
          0.0002709101570588634,
          0.007069690687696175
         ],
         "xaxis": "x4",
         "y": [
          "1: walk",
          "2: bike",
          "3: sov",
          "4: hov 2",
          "5: hov 3+",
          "6: walk to transit",
          "7: park-and-ride",
          "9: tnc"
         ],
         "yaxis": "y4"
        },
        {
         "alignmentgroup": "True",
         "customdata": [
          [
           74
          ],
          [
           10
          ],
          [
           355
          ],
          [
           161
          ],
          [
           52
          ],
          [
           78
          ],
          [
           5
          ],
          [
           9
          ]
         ],
         "hovertemplate": "source=survey<br>pdpurp_label=Personal Business<br>percentage=%{x}<br>tmodetp_label=%{y}<br>sample count=%{customdata[0]}<extra></extra>",
         "legendgroup": "survey",
         "marker": {
          "color": "#8CC63E",
          "pattern": {
           "shape": ""
          }
         },
         "name": "survey",
         "offsetgroup": "survey",
         "orientation": "h",
         "showlegend": false,
         "textposition": "auto",
         "type": "bar",
         "x": [
          0.031475308878625506,
          0.0042933914823945485,
          0.5382061091759925,
          0.0937074937214727,
          0.2633294064122581,
          0.060552375851172215,
          0.00170031687922181,
          0.006735597598862546
         ],
         "xaxis": "x3",
         "y": [
          "1: walk",
          "2: bike",
          "3: sov",
          "4: hov 2",
          "5: hov 3+",
          "6: walk to transit",
          "7: park-and-ride",
          "9: tnc"
         ],
         "yaxis": "y3"
        },
        {
         "alignmentgroup": "True",
         "customdata": [
          [
           289
          ],
          [
           27
          ],
          [
           573
          ],
          [
           302
          ],
          [
           118
          ],
          [
           74
          ],
          [
           2
          ]
         ],
         "hovertemplate": "source=survey<br>pdpurp_label=Shop<br>percentage=%{x}<br>tmodetp_label=%{y}<br>sample count=%{customdata[0]}<extra></extra>",
         "legendgroup": "survey",
         "marker": {
          "color": "#8CC63E",
          "pattern": {
           "shape": ""
          }
         },
         "name": "survey",
         "offsetgroup": "survey",
         "orientation": "h",
         "showlegend": false,
         "textposition": "auto",
         "type": "bar",
         "x": [
          0.07918853955286832,
          0.008408869890562332,
          0.3966637471269178,
          0.16308922443316465,
          0.3017372171387496,
          0.050862247716162906,
          5.0154141574143875e-05
         ],
         "xaxis": "x2",
         "y": [
          "1: walk",
          "2: bike",
          "3: sov",
          "4: hov 2",
          "5: hov 3+",
          "6: walk to transit",
          "8: school bus"
         ],
         "yaxis": "y2"
        },
        {
         "alignmentgroup": "True",
         "customdata": [
          [
           1048
          ],
          [
           109
          ],
          [
           827
          ],
          [
           501
          ],
          [
           344
          ],
          [
           112
          ],
          [
           15
          ],
          [
           13
          ]
         ],
         "hovertemplate": "source=survey<br>pdpurp_label=Social<br>percentage=%{x}<br>tmodetp_label=%{y}<br>sample count=%{customdata[0]}<extra></extra>",
         "legendgroup": "survey",
         "marker": {
          "color": "#8CC63E",
          "pattern": {
           "shape": ""
          }
         },
         "name": "survey",
         "offsetgroup": "survey",
         "orientation": "h",
         "showlegend": false,
         "textposition": "auto",
         "type": "bar",
         "x": [
          0.21517185452525647,
          0.022963493820147795,
          0.31176112211940543,
          0.15974454799935367,
          0.25421773903428196,
          0.02217671173071718,
          0.01277894267185768,
          0.0011855880989797476
         ],
         "xaxis": "x",
         "y": [
          "1: walk",
          "2: bike",
          "3: sov",
          "4: hov 2",
          "5: hov 3+",
          "6: walk to transit",
          "7: park-and-ride",
          "9: tnc"
         ],
         "yaxis": "y"
        },
        {
         "alignmentgroup": "True",
         "customdata": [
          [
           210
          ],
          [
           25
          ],
          [
           205
          ],
          [
           211
          ],
          [
           97
          ],
          [
           42
          ],
          [
           3
          ],
          [
           5
          ]
         ],
         "hovertemplate": "source=survey (update)<br>pdpurp_label=Meal<br>percentage=%{x}<br>tmodetp_label=%{y}<br>sample count=%{customdata[0]}<extra></extra>",
         "legendgroup": "survey (update)",
         "marker": {
          "color": "#00A7A0",
          "pattern": {
           "shape": ""
          }
         },
         "name": "survey (update)",
         "offsetgroup": "survey (update)",
         "orientation": "h",
         "showlegend": true,
         "textposition": "auto",
         "type": "bar",
         "x": [
          0.10434913107356138,
          0.012040107835384775,
          0.19842568917631306,
          0.4353351602376506,
          0.23819431747884728,
          0.01017749450390623,
          0.0002442579694654914,
          0.00123384172487114
         ],
         "xaxis": "x4",
         "y": [
          "1: walk",
          "2: bike",
          "3: sov",
          "4: hov 2",
          "5: hov 3+",
          "6: walk to transit",
          "7: park-and-ride",
          "9: tnc"
         ],
         "yaxis": "y4"
        },
        {
         "alignmentgroup": "True",
         "customdata": [
          [
           90
          ],
          [
           9
          ],
          [
           391
          ],
          [
           188
          ],
          [
           63
          ],
          [
           80
          ],
          [
           4
          ],
          [
           17
          ]
         ],
         "hovertemplate": "source=survey (update)<br>pdpurp_label=Personal Business<br>percentage=%{x}<br>tmodetp_label=%{y}<br>sample count=%{customdata[0]}<extra></extra>",
         "legendgroup": "survey (update)",
         "marker": {
          "color": "#00A7A0",
          "pattern": {
           "shape": ""
          }
         },
         "name": "survey (update)",
         "offsetgroup": "survey (update)",
         "orientation": "h",
         "showlegend": false,
         "textposition": "auto",
         "type": "bar",
         "x": [
          0.03461860944303865,
          0.034127809705577716,
          0.491501877754709,
          0.20439265034145027,
          0.09984363230118758,
          0.11368918388195356,
          0.0027172543989793098,
          0.019108982173103965
         ],
         "xaxis": "x3",
         "y": [
          "1: walk",
          "2: bike",
          "3: sov",
          "4: hov 2",
          "5: hov 3+",
          "6: walk to transit",
          "7: park-and-ride",
          "9: tnc"
         ],
         "yaxis": "y3"
        },
        {
         "alignmentgroup": "True",
         "customdata": [
          [
           310
          ],
          [
           17
          ],
          [
           627
          ],
          [
           316
          ],
          [
           130
          ],
          [
           76
          ]
         ],
         "hovertemplate": "source=survey (update)<br>pdpurp_label=Shop<br>percentage=%{x}<br>tmodetp_label=%{y}<br>sample count=%{customdata[0]}<extra></extra>",
         "legendgroup": "survey (update)",
         "marker": {
          "color": "#00A7A0",
          "pattern": {
           "shape": ""
          }
         },
         "name": "survey (update)",
         "offsetgroup": "survey (update)",
         "orientation": "h",
         "showlegend": false,
         "textposition": "auto",
         "type": "bar",
         "x": [
          0.1461277324021287,
          0.0019554289296616423,
          0.44236874217511946,
          0.23679399422705108,
          0.11740508136716439,
          0.055349020898874834
         ],
         "xaxis": "x2",
         "y": [
          "1: walk",
          "2: bike",
          "3: sov",
          "4: hov 2",
          "5: hov 3+",
          "6: walk to transit"
         ],
         "yaxis": "y2"
        },
        {
         "alignmentgroup": "True",
         "customdata": [
          [
           1107
          ],
          [
           105
          ],
          [
           865
          ],
          [
           529
          ],
          [
           368
          ],
          [
           132
          ],
          [
           15
          ],
          [
           12
          ]
         ],
         "hovertemplate": "source=survey (update)<br>pdpurp_label=Social<br>percentage=%{x}<br>tmodetp_label=%{y}<br>sample count=%{customdata[0]}<extra></extra>",
         "legendgroup": "survey (update)",
         "marker": {
          "color": "#00A7A0",
          "pattern": {
           "shape": ""
          }
         },
         "name": "survey (update)",
         "offsetgroup": "survey (update)",
         "orientation": "h",
         "showlegend": false,
         "textposition": "auto",
         "type": "bar",
         "x": [
          0.20280427448885524,
          0.01478491490360116,
          0.31159623212921944,
          0.22885809528249051,
          0.19244781966151153,
          0.041118828789513714,
          0.006479602366470605,
          0.0019102323783377413
         ],
         "xaxis": "x",
         "y": [
          "1: walk",
          "2: bike",
          "3: sov",
          "4: hov 2",
          "5: hov 3+",
          "6: walk to transit",
          "7: park-and-ride",
          "9: tnc"
         ],
         "yaxis": "y"
        }
       ],
       "layout": {
        "annotations": [
         {
          "font": {},
          "showarrow": false,
          "text": "Social",
          "x": 0.5,
          "xanchor": "center",
          "xref": "paper",
          "y": 0.1975,
          "yanchor": "bottom",
          "yref": "paper"
         },
         {
          "font": {},
          "showarrow": false,
          "text": "Shop",
          "x": 0.5,
          "xanchor": "center",
          "xref": "paper",
          "y": 0.465,
          "yanchor": "bottom",
          "yref": "paper"
         },
         {
          "font": {},
          "showarrow": false,
          "text": "Personal Business",
          "x": 0.5,
          "xanchor": "center",
          "xref": "paper",
          "y": 0.7325,
          "yanchor": "bottom",
          "yref": "paper"
         },
         {
          "font": {},
          "showarrow": false,
          "text": "Meal",
          "x": 0.5,
          "xanchor": "center",
          "xref": "paper",
          "y": 1.0,
          "yanchor": "bottom",
          "yref": "paper"
         }
        ],
        "barmode": "group",
        "height": 1000,
        "legend": {
         "title": {
          "text": "source"
         },
         "tracegroupgap": 0
        },
        "template": {
         "data": {
          "bar": [
           {
            "error_x": {
             "color": "rgb(36,36,36)"
            },
            "error_y": {
             "color": "rgb(36,36,36)"
            },
            "marker": {
             "line": {
              "color": "white",
              "width": 0.5
             },
             "pattern": {
              "fillmode": "overlay",
              "size": 10,
              "solidity": 0.2
             }
            },
            "type": "bar"
           }
          ],
          "barpolar": [
           {
            "marker": {
             "line": {
              "color": "white",
              "width": 0.5
             },
             "pattern": {
              "fillmode": "overlay",
              "size": 10,
              "solidity": 0.2
             }
            },
            "type": "barpolar"
           }
          ],
          "carpet": [
           {
            "aaxis": {
             "endlinecolor": "rgb(36,36,36)",
             "gridcolor": "white",
             "linecolor": "white",
             "minorgridcolor": "white",
             "startlinecolor": "rgb(36,36,36)"
            },
            "baxis": {
             "endlinecolor": "rgb(36,36,36)",
             "gridcolor": "white",
             "linecolor": "white",
             "minorgridcolor": "white",
             "startlinecolor": "rgb(36,36,36)"
            },
            "type": "carpet"
           }
          ],
          "choropleth": [
           {
            "colorbar": {
             "outlinewidth": 1,
             "tickcolor": "rgb(36,36,36)",
             "ticks": "outside"
            },
            "type": "choropleth"
           }
          ],
          "contour": [
           {
            "colorbar": {
             "outlinewidth": 1,
             "tickcolor": "rgb(36,36,36)",
             "ticks": "outside"
            },
            "colorscale": [
             [
              0.0,
              "#440154"
             ],
             [
              0.1111111111111111,
              "#482878"
             ],
             [
              0.2222222222222222,
              "#3e4989"
             ],
             [
              0.3333333333333333,
              "#31688e"
             ],
             [
              0.4444444444444444,
              "#26828e"
             ],
             [
              0.5555555555555556,
              "#1f9e89"
             ],
             [
              0.6666666666666666,
              "#35b779"
             ],
             [
              0.7777777777777778,
              "#6ece58"
             ],
             [
              0.8888888888888888,
              "#b5de2b"
             ],
             [
              1.0,
              "#fde725"
             ]
            ],
            "type": "contour"
           }
          ],
          "contourcarpet": [
           {
            "colorbar": {
             "outlinewidth": 1,
             "tickcolor": "rgb(36,36,36)",
             "ticks": "outside"
            },
            "type": "contourcarpet"
           }
          ],
          "heatmap": [
           {
            "colorbar": {
             "outlinewidth": 1,
             "tickcolor": "rgb(36,36,36)",
             "ticks": "outside"
            },
            "colorscale": [
             [
              0.0,
              "#440154"
             ],
             [
              0.1111111111111111,
              "#482878"
             ],
             [
              0.2222222222222222,
              "#3e4989"
             ],
             [
              0.3333333333333333,
              "#31688e"
             ],
             [
              0.4444444444444444,
              "#26828e"
             ],
             [
              0.5555555555555556,
              "#1f9e89"
             ],
             [
              0.6666666666666666,
              "#35b779"
             ],
             [
              0.7777777777777778,
              "#6ece58"
             ],
             [
              0.8888888888888888,
              "#b5de2b"
             ],
             [
              1.0,
              "#fde725"
             ]
            ],
            "type": "heatmap"
           }
          ],
          "heatmapgl": [
           {
            "colorbar": {
             "outlinewidth": 1,
             "tickcolor": "rgb(36,36,36)",
             "ticks": "outside"
            },
            "colorscale": [
             [
              0.0,
              "#440154"
             ],
             [
              0.1111111111111111,
              "#482878"
             ],
             [
              0.2222222222222222,
              "#3e4989"
             ],
             [
              0.3333333333333333,
              "#31688e"
             ],
             [
              0.4444444444444444,
              "#26828e"
             ],
             [
              0.5555555555555556,
              "#1f9e89"
             ],
             [
              0.6666666666666666,
              "#35b779"
             ],
             [
              0.7777777777777778,
              "#6ece58"
             ],
             [
              0.8888888888888888,
              "#b5de2b"
             ],
             [
              1.0,
              "#fde725"
             ]
            ],
            "type": "heatmapgl"
           }
          ],
          "histogram": [
           {
            "marker": {
             "line": {
              "color": "white",
              "width": 0.6
             }
            },
            "type": "histogram"
           }
          ],
          "histogram2d": [
           {
            "colorbar": {
             "outlinewidth": 1,
             "tickcolor": "rgb(36,36,36)",
             "ticks": "outside"
            },
            "colorscale": [
             [
              0.0,
              "#440154"
             ],
             [
              0.1111111111111111,
              "#482878"
             ],
             [
              0.2222222222222222,
              "#3e4989"
             ],
             [
              0.3333333333333333,
              "#31688e"
             ],
             [
              0.4444444444444444,
              "#26828e"
             ],
             [
              0.5555555555555556,
              "#1f9e89"
             ],
             [
              0.6666666666666666,
              "#35b779"
             ],
             [
              0.7777777777777778,
              "#6ece58"
             ],
             [
              0.8888888888888888,
              "#b5de2b"
             ],
             [
              1.0,
              "#fde725"
             ]
            ],
            "type": "histogram2d"
           }
          ],
          "histogram2dcontour": [
           {
            "colorbar": {
             "outlinewidth": 1,
             "tickcolor": "rgb(36,36,36)",
             "ticks": "outside"
            },
            "colorscale": [
             [
              0.0,
              "#440154"
             ],
             [
              0.1111111111111111,
              "#482878"
             ],
             [
              0.2222222222222222,
              "#3e4989"
             ],
             [
              0.3333333333333333,
              "#31688e"
             ],
             [
              0.4444444444444444,
              "#26828e"
             ],
             [
              0.5555555555555556,
              "#1f9e89"
             ],
             [
              0.6666666666666666,
              "#35b779"
             ],
             [
              0.7777777777777778,
              "#6ece58"
             ],
             [
              0.8888888888888888,
              "#b5de2b"
             ],
             [
              1.0,
              "#fde725"
             ]
            ],
            "type": "histogram2dcontour"
           }
          ],
          "mesh3d": [
           {
            "colorbar": {
             "outlinewidth": 1,
             "tickcolor": "rgb(36,36,36)",
             "ticks": "outside"
            },
            "type": "mesh3d"
           }
          ],
          "parcoords": [
           {
            "line": {
             "colorbar": {
              "outlinewidth": 1,
              "tickcolor": "rgb(36,36,36)",
              "ticks": "outside"
             }
            },
            "type": "parcoords"
           }
          ],
          "pie": [
           {
            "automargin": true,
            "type": "pie"
           }
          ],
          "scatter": [
           {
            "fillpattern": {
             "fillmode": "overlay",
             "size": 10,
             "solidity": 0.2
            },
            "type": "scatter"
           }
          ],
          "scatter3d": [
           {
            "line": {
             "colorbar": {
              "outlinewidth": 1,
              "tickcolor": "rgb(36,36,36)",
              "ticks": "outside"
             }
            },
            "marker": {
             "colorbar": {
              "outlinewidth": 1,
              "tickcolor": "rgb(36,36,36)",
              "ticks": "outside"
             }
            },
            "type": "scatter3d"
           }
          ],
          "scattercarpet": [
           {
            "marker": {
             "colorbar": {
              "outlinewidth": 1,
              "tickcolor": "rgb(36,36,36)",
              "ticks": "outside"
             }
            },
            "type": "scattercarpet"
           }
          ],
          "scattergeo": [
           {
            "marker": {
             "colorbar": {
              "outlinewidth": 1,
              "tickcolor": "rgb(36,36,36)",
              "ticks": "outside"
             }
            },
            "type": "scattergeo"
           }
          ],
          "scattergl": [
           {
            "marker": {
             "colorbar": {
              "outlinewidth": 1,
              "tickcolor": "rgb(36,36,36)",
              "ticks": "outside"
             }
            },
            "type": "scattergl"
           }
          ],
          "scattermapbox": [
           {
            "marker": {
             "colorbar": {
              "outlinewidth": 1,
              "tickcolor": "rgb(36,36,36)",
              "ticks": "outside"
             }
            },
            "type": "scattermapbox"
           }
          ],
          "scatterpolar": [
           {
            "marker": {
             "colorbar": {
              "outlinewidth": 1,
              "tickcolor": "rgb(36,36,36)",
              "ticks": "outside"
             }
            },
            "type": "scatterpolar"
           }
          ],
          "scatterpolargl": [
           {
            "marker": {
             "colorbar": {
              "outlinewidth": 1,
              "tickcolor": "rgb(36,36,36)",
              "ticks": "outside"
             }
            },
            "type": "scatterpolargl"
           }
          ],
          "scatterternary": [
           {
            "marker": {
             "colorbar": {
              "outlinewidth": 1,
              "tickcolor": "rgb(36,36,36)",
              "ticks": "outside"
             }
            },
            "type": "scatterternary"
           }
          ],
          "surface": [
           {
            "colorbar": {
             "outlinewidth": 1,
             "tickcolor": "rgb(36,36,36)",
             "ticks": "outside"
            },
            "colorscale": [
             [
              0.0,
              "#440154"
             ],
             [
              0.1111111111111111,
              "#482878"
             ],
             [
              0.2222222222222222,
              "#3e4989"
             ],
             [
              0.3333333333333333,
              "#31688e"
             ],
             [
              0.4444444444444444,
              "#26828e"
             ],
             [
              0.5555555555555556,
              "#1f9e89"
             ],
             [
              0.6666666666666666,
              "#35b779"
             ],
             [
              0.7777777777777778,
              "#6ece58"
             ],
             [
              0.8888888888888888,
              "#b5de2b"
             ],
             [
              1.0,
              "#fde725"
             ]
            ],
            "type": "surface"
           }
          ],
          "table": [
           {
            "cells": {
             "fill": {
              "color": "rgb(237,237,237)"
             },
             "line": {
              "color": "white"
             }
            },
            "header": {
             "fill": {
              "color": "rgb(217,217,217)"
             },
             "line": {
              "color": "white"
             }
            },
            "type": "table"
           }
          ]
         },
         "layout": {
          "annotationdefaults": {
           "arrowhead": 0,
           "arrowwidth": 1
          },
          "autotypenumbers": "strict",
          "coloraxis": {
           "colorbar": {
            "outlinewidth": 1,
            "tickcolor": "rgb(36,36,36)",
            "ticks": "outside"
           }
          },
          "colorscale": {
           "diverging": [
            [
             0.0,
             "rgb(103,0,31)"
            ],
            [
             0.1,
             "rgb(178,24,43)"
            ],
            [
             0.2,
             "rgb(214,96,77)"
            ],
            [
             0.3,
             "rgb(244,165,130)"
            ],
            [
             0.4,
             "rgb(253,219,199)"
            ],
            [
             0.5,
             "rgb(247,247,247)"
            ],
            [
             0.6,
             "rgb(209,229,240)"
            ],
            [
             0.7,
             "rgb(146,197,222)"
            ],
            [
             0.8,
             "rgb(67,147,195)"
            ],
            [
             0.9,
             "rgb(33,102,172)"
            ],
            [
             1.0,
             "rgb(5,48,97)"
            ]
           ],
           "sequential": [
            [
             0.0,
             "#440154"
            ],
            [
             0.1111111111111111,
             "#482878"
            ],
            [
             0.2222222222222222,
             "#3e4989"
            ],
            [
             0.3333333333333333,
             "#31688e"
            ],
            [
             0.4444444444444444,
             "#26828e"
            ],
            [
             0.5555555555555556,
             "#1f9e89"
            ],
            [
             0.6666666666666666,
             "#35b779"
            ],
            [
             0.7777777777777778,
             "#6ece58"
            ],
            [
             0.8888888888888888,
             "#b5de2b"
            ],
            [
             1.0,
             "#fde725"
            ]
           ],
           "sequentialminus": [
            [
             0.0,
             "#440154"
            ],
            [
             0.1111111111111111,
             "#482878"
            ],
            [
             0.2222222222222222,
             "#3e4989"
            ],
            [
             0.3333333333333333,
             "#31688e"
            ],
            [
             0.4444444444444444,
             "#26828e"
            ],
            [
             0.5555555555555556,
             "#1f9e89"
            ],
            [
             0.6666666666666666,
             "#35b779"
            ],
            [
             0.7777777777777778,
             "#6ece58"
            ],
            [
             0.8888888888888888,
             "#b5de2b"
            ],
            [
             1.0,
             "#fde725"
            ]
           ]
          },
          "colorway": [
           "#91268F",
           "#8CC63E",
           "#00A7A0",
           "#F05A28",
           "#4C4C4C",
           "#630460",
           "#9f3913",
           "#588527",
           "#00716c",
           "#3e4040"
          ],
          "font": {
           "color": "rgb(36,36,36)",
           "family": "Poppins",
           "size": 11
          },
          "geo": {
           "bgcolor": "white",
           "lakecolor": "white",
           "landcolor": "white",
           "showlakes": true,
           "showland": true,
           "subunitcolor": "white"
          },
          "hoverlabel": {
           "align": "left"
          },
          "hovermode": "closest",
          "mapbox": {
           "style": "light"
          },
          "paper_bgcolor": "white",
          "plot_bgcolor": "white",
          "polar": {
           "angularaxis": {
            "gridcolor": "rgb(232,232,232)",
            "linecolor": "rgb(36,36,36)",
            "showgrid": false,
            "showline": true,
            "ticks": "outside"
           },
           "bgcolor": "white",
           "radialaxis": {
            "gridcolor": "rgb(232,232,232)",
            "linecolor": "rgb(36,36,36)",
            "showgrid": false,
            "showline": true,
            "ticks": "outside"
           }
          },
          "scene": {
           "xaxis": {
            "backgroundcolor": "white",
            "gridcolor": "rgb(232,232,232)",
            "gridwidth": 2,
            "linecolor": "rgb(36,36,36)",
            "showbackground": true,
            "showgrid": false,
            "showline": true,
            "ticks": "outside",
            "zeroline": false,
            "zerolinecolor": "rgb(36,36,36)"
           },
           "yaxis": {
            "backgroundcolor": "white",
            "gridcolor": "rgb(232,232,232)",
            "gridwidth": 2,
            "linecolor": "rgb(36,36,36)",
            "showbackground": true,
            "showgrid": false,
            "showline": true,
            "ticks": "outside",
            "zeroline": false,
            "zerolinecolor": "rgb(36,36,36)"
           },
           "zaxis": {
            "backgroundcolor": "white",
            "gridcolor": "rgb(232,232,232)",
            "gridwidth": 2,
            "linecolor": "rgb(36,36,36)",
            "showbackground": true,
            "showgrid": false,
            "showline": true,
            "ticks": "outside",
            "zeroline": false,
            "zerolinecolor": "rgb(36,36,36)"
           }
          },
          "shapedefaults": {
           "fillcolor": "black",
           "line": {
            "width": 0
           },
           "opacity": 0.3
          },
          "ternary": {
           "aaxis": {
            "gridcolor": "rgb(232,232,232)",
            "linecolor": "rgb(36,36,36)",
            "showgrid": false,
            "showline": true,
            "ticks": "outside"
           },
           "baxis": {
            "gridcolor": "rgb(232,232,232)",
            "linecolor": "rgb(36,36,36)",
            "showgrid": false,
            "showline": true,
            "ticks": "outside"
           },
           "bgcolor": "white",
           "caxis": {
            "gridcolor": "rgb(232,232,232)",
            "linecolor": "rgb(36,36,36)",
            "showgrid": false,
            "showline": true,
            "ticks": "outside"
           }
          },
          "title": {
           "x": 0.05
          },
          "xaxis": {
           "automargin": true,
           "gridcolor": "rgb(232,232,232)",
           "linecolor": "rgb(36,36,36)",
           "showgrid": false,
           "showline": true,
           "ticks": "outside",
           "title": {
            "standoff": 15
           },
           "zeroline": false,
           "zerolinecolor": "rgb(36,36,36)"
          },
          "yaxis": {
           "automargin": true,
           "gridcolor": "rgb(232,232,232)",
           "linecolor": "rgb(36,36,36)",
           "showgrid": false,
           "showline": true,
           "ticks": "outside",
           "title": {
            "standoff": 15
           },
           "zeroline": false,
           "zerolinecolor": "rgb(36,36,36)"
          }
         }
        },
        "title": {
         "text": "other home-based tour mode choice"
        },
        "width": 650,
        "xaxis": {
         "anchor": "y",
         "domain": [
          0.0,
          1.0
         ],
         "tickformat": ".1%",
         "title": {
          "text": "percentage"
         }
        },
        "xaxis2": {
         "anchor": "y2",
         "domain": [
          0.0,
          1.0
         ],
         "matches": "x",
         "showticklabels": false,
         "tickformat": ".1%"
        },
        "xaxis3": {
         "anchor": "y3",
         "domain": [
          0.0,
          1.0
         ],
         "matches": "x",
         "showticklabels": false,
         "tickformat": ".1%"
        },
        "xaxis4": {
         "anchor": "y4",
         "domain": [
          0.0,
          1.0
         ],
         "matches": "x",
         "showticklabels": false,
         "tickformat": ".1%"
        },
        "yaxis": {
         "anchor": "x",
         "categoryarray": [
          "9: other–survey only",
          "8: school bus",
          "7: park-and-ride",
          "6: walk to transit",
          "5: hov 3+",
          "4: hov 2",
          "3: sov",
          "2: bike",
          "1: walk"
         ],
         "categoryorder": "array",
         "domain": [
          0.0,
          0.1975
         ],
         "title": {
          "text": "tmodetp_label"
         }
        },
        "yaxis2": {
         "anchor": "x2",
         "categoryarray": [
          "9: other–survey only",
          "8: school bus",
          "7: park-and-ride",
          "6: walk to transit",
          "5: hov 3+",
          "4: hov 2",
          "3: sov",
          "2: bike",
          "1: walk"
         ],
         "categoryorder": "array",
         "domain": [
          0.2675,
          0.465
         ],
         "matches": "y",
         "title": {
          "text": "tmodetp_label"
         }
        },
        "yaxis3": {
         "anchor": "x3",
         "categoryarray": [
          "9: other–survey only",
          "8: school bus",
          "7: park-and-ride",
          "6: walk to transit",
          "5: hov 3+",
          "4: hov 2",
          "3: sov",
          "2: bike",
          "1: walk"
         ],
         "categoryorder": "array",
         "domain": [
          0.535,
          0.7325
         ],
         "matches": "y",
         "title": {
          "text": "tmodetp_label"
         }
        },
        "yaxis4": {
         "anchor": "x4",
         "categoryarray": [
          "9: other–survey only",
          "8: school bus",
          "7: park-and-ride",
          "6: walk to transit",
          "5: hov 3+",
          "4: hov 2",
          "3: sov",
          "2: bike",
          "1: walk"
         ],
         "categoryorder": "array",
         "domain": [
          0.8025,
          1.0
         ],
         "matches": "y",
         "title": {
          "text": "tmodetp_label"
         }
        }
       }
      },
      "text/html": [
       "<div>                            <div id=\"472b7513-7cfd-4ce3-a0e5-3397c826c568\" class=\"plotly-graph-div\" style=\"height:1000px; width:650px;\"></div>            <script type=\"text/javascript\">                require([\"plotly\"], function(Plotly) {                    window.PLOTLYENV=window.PLOTLYENV || {};                                    if (document.getElementById(\"472b7513-7cfd-4ce3-a0e5-3397c826c568\")) {                    Plotly.newPlot(                        \"472b7513-7cfd-4ce3-a0e5-3397c826c568\",                        [{\"alignmentgroup\":\"True\",\"customdata\":[[47351],[1810],[96446],[104166],[125139],[18415],[965]],\"hovertemplate\":\"source=model\\u003cbr\\u003epdpurp_label=Meal\\u003cbr\\u003epercentage=%{x}\\u003cbr\\u003etmodetp_label=%{y}\\u003cbr\\u003esample count=%{customdata[0]}\\u003cextra\\u003e\\u003c\\u002fextra\\u003e\",\"legendgroup\":\"model\",\"marker\":{\"color\":\"#91268F\",\"pattern\":{\"shape\":\"\"}},\"name\":\"model\",\"offsetgroup\":\"model\",\"orientation\":\"h\",\"showlegend\":true,\"textposition\":\"auto\",\"x\":[0.12009120144461465,0.004590506528156797,0.24460552078155276,0.2641849187911497,0.3173764621143721,0.04670396558895438,0.0024474247511996187],\"xaxis\":\"x4\",\"y\":[\"1: walk\",\"2: bike\",\"3: sov\",\"4: hov 2\",\"5: hov 3+\",\"6: walk to transit\",\"9: tnc\"],\"yaxis\":\"y4\",\"type\":\"bar\"},{\"alignmentgroup\":\"True\",\"customdata\":[[26932],[2934],[140123],[59662],[74466],[17523],[1445]],\"hovertemplate\":\"source=model\\u003cbr\\u003epdpurp_label=Personal Business\\u003cbr\\u003epercentage=%{x}\\u003cbr\\u003etmodetp_label=%{y}\\u003cbr\\u003esample count=%{customdata[0]}\\u003cextra\\u003e\\u003c\\u002fextra\\u003e\",\"legendgroup\":\"model\",\"marker\":{\"color\":\"#91268F\",\"pattern\":{\"shape\":\"\"}},\"name\":\"model\",\"offsetgroup\":\"model\",\"orientation\":\"h\",\"showlegend\":false,\"textposition\":\"auto\",\"x\":[0.08335886840924216,0.009081201541390038,0.4337032050389216,0.18466347865112895,0.23048423789405265,0.05423650123032638,0.0044725072349381745],\"xaxis\":\"x3\",\"y\":[\"1: walk\",\"2: bike\",\"3: sov\",\"4: hov 2\",\"5: hov 3+\",\"6: walk to transit\",\"9: tnc\"],\"yaxis\":\"y3\",\"type\":\"bar\"},{\"alignmentgroup\":\"True\",\"customdata\":[[56980],[5301],[253601],[105898],[141391],[24660],[839]],\"hovertemplate\":\"source=model\\u003cbr\\u003epdpurp_label=Shop\\u003cbr\\u003epercentage=%{x}\\u003cbr\\u003etmodetp_label=%{y}\\u003cbr\\u003esample count=%{customdata[0]}\\u003cextra\\u003e\\u003c\\u002fextra\\u003e\",\"legendgroup\":\"model\",\"marker\":{\"color\":\"#91268F\",\"pattern\":{\"shape\":\"\"}},\"name\":\"model\",\"offsetgroup\":\"model\",\"orientation\":\"h\",\"showlegend\":false,\"textposition\":\"auto\",\"x\":[0.09679446888749214,0.009005045271544328,0.43080333633444884,0.1798936585863047,0.24018720165797475,0.04189104251957803,0.0014252467426571764],\"xaxis\":\"x2\",\"y\":[\"1: walk\",\"2: bike\",\"3: sov\",\"4: hov 2\",\"5: hov 3+\",\"6: walk to transit\",\"9: tnc\"],\"yaxis\":\"y2\",\"type\":\"bar\"},{\"alignmentgroup\":\"True\",\"customdata\":[[241108],[33066],[437436],[287752],[412542],[34839],[3452]],\"hovertemplate\":\"source=model\\u003cbr\\u003epdpurp_label=Social\\u003cbr\\u003epercentage=%{x}\\u003cbr\\u003etmodetp_label=%{y}\\u003cbr\\u003esample count=%{customdata[0]}\\u003cextra\\u003e\\u003c\\u002fextra\\u003e\",\"legendgroup\":\"model\",\"marker\":{\"color\":\"#91268F\",\"pattern\":{\"shape\":\"\"}},\"name\":\"model\",\"offsetgroup\":\"model\",\"orientation\":\"h\",\"showlegend\":false,\"textposition\":\"auto\",\"x\":[0.16625902033864412,0.022801071580028892,0.3016394346967132,0.19842297070393983,0.28447346736128587,0.024023665782877474,0.002380369536510607],\"xaxis\":\"x\",\"y\":[\"1: walk\",\"2: bike\",\"3: sov\",\"4: hov 2\",\"5: hov 3+\",\"6: walk to transit\",\"9: tnc\"],\"yaxis\":\"y\",\"type\":\"bar\"},{\"alignmentgroup\":\"True\",\"customdata\":[[200],[25],[201],[204],[87],[43],[3],[3]],\"hovertemplate\":\"source=survey\\u003cbr\\u003epdpurp_label=Meal\\u003cbr\\u003epercentage=%{x}\\u003cbr\\u003etmodetp_label=%{y}\\u003cbr\\u003esample count=%{customdata[0]}\\u003cextra\\u003e\\u003c\\u002fextra\\u003e\",\"legendgroup\":\"survey\",\"marker\":{\"color\":\"#8CC63E\",\"pattern\":{\"shape\":\"\"}},\"name\":\"survey\",\"offsetgroup\":\"survey\",\"orientation\":\"h\",\"showlegend\":true,\"textposition\":\"auto\",\"x\":[0.048822010199051316,0.011726533000568154,0.1588658538285569,0.49575576455071824,0.26800741129581995,0.009481826280530457,0.0002709101570588634,0.007069690687696175],\"xaxis\":\"x4\",\"y\":[\"1: walk\",\"2: bike\",\"3: sov\",\"4: hov 2\",\"5: hov 3+\",\"6: walk to transit\",\"7: park-and-ride\",\"9: tnc\"],\"yaxis\":\"y4\",\"type\":\"bar\"},{\"alignmentgroup\":\"True\",\"customdata\":[[74],[10],[355],[161],[52],[78],[5],[9]],\"hovertemplate\":\"source=survey\\u003cbr\\u003epdpurp_label=Personal Business\\u003cbr\\u003epercentage=%{x}\\u003cbr\\u003etmodetp_label=%{y}\\u003cbr\\u003esample count=%{customdata[0]}\\u003cextra\\u003e\\u003c\\u002fextra\\u003e\",\"legendgroup\":\"survey\",\"marker\":{\"color\":\"#8CC63E\",\"pattern\":{\"shape\":\"\"}},\"name\":\"survey\",\"offsetgroup\":\"survey\",\"orientation\":\"h\",\"showlegend\":false,\"textposition\":\"auto\",\"x\":[0.031475308878625506,0.0042933914823945485,0.5382061091759925,0.0937074937214727,0.2633294064122581,0.060552375851172215,0.00170031687922181,0.006735597598862546],\"xaxis\":\"x3\",\"y\":[\"1: walk\",\"2: bike\",\"3: sov\",\"4: hov 2\",\"5: hov 3+\",\"6: walk to transit\",\"7: park-and-ride\",\"9: tnc\"],\"yaxis\":\"y3\",\"type\":\"bar\"},{\"alignmentgroup\":\"True\",\"customdata\":[[289],[27],[573],[302],[118],[74],[2]],\"hovertemplate\":\"source=survey\\u003cbr\\u003epdpurp_label=Shop\\u003cbr\\u003epercentage=%{x}\\u003cbr\\u003etmodetp_label=%{y}\\u003cbr\\u003esample count=%{customdata[0]}\\u003cextra\\u003e\\u003c\\u002fextra\\u003e\",\"legendgroup\":\"survey\",\"marker\":{\"color\":\"#8CC63E\",\"pattern\":{\"shape\":\"\"}},\"name\":\"survey\",\"offsetgroup\":\"survey\",\"orientation\":\"h\",\"showlegend\":false,\"textposition\":\"auto\",\"x\":[0.07918853955286832,0.008408869890562332,0.3966637471269178,0.16308922443316465,0.3017372171387496,0.050862247716162906,5.0154141574143875e-05],\"xaxis\":\"x2\",\"y\":[\"1: walk\",\"2: bike\",\"3: sov\",\"4: hov 2\",\"5: hov 3+\",\"6: walk to transit\",\"8: school bus\"],\"yaxis\":\"y2\",\"type\":\"bar\"},{\"alignmentgroup\":\"True\",\"customdata\":[[1048],[109],[827],[501],[344],[112],[15],[13]],\"hovertemplate\":\"source=survey\\u003cbr\\u003epdpurp_label=Social\\u003cbr\\u003epercentage=%{x}\\u003cbr\\u003etmodetp_label=%{y}\\u003cbr\\u003esample count=%{customdata[0]}\\u003cextra\\u003e\\u003c\\u002fextra\\u003e\",\"legendgroup\":\"survey\",\"marker\":{\"color\":\"#8CC63E\",\"pattern\":{\"shape\":\"\"}},\"name\":\"survey\",\"offsetgroup\":\"survey\",\"orientation\":\"h\",\"showlegend\":false,\"textposition\":\"auto\",\"x\":[0.21517185452525647,0.022963493820147795,0.31176112211940543,0.15974454799935367,0.25421773903428196,0.02217671173071718,0.01277894267185768,0.0011855880989797476],\"xaxis\":\"x\",\"y\":[\"1: walk\",\"2: bike\",\"3: sov\",\"4: hov 2\",\"5: hov 3+\",\"6: walk to transit\",\"7: park-and-ride\",\"9: tnc\"],\"yaxis\":\"y\",\"type\":\"bar\"},{\"alignmentgroup\":\"True\",\"customdata\":[[210],[25],[205],[211],[97],[42],[3],[5]],\"hovertemplate\":\"source=survey (update)\\u003cbr\\u003epdpurp_label=Meal\\u003cbr\\u003epercentage=%{x}\\u003cbr\\u003etmodetp_label=%{y}\\u003cbr\\u003esample count=%{customdata[0]}\\u003cextra\\u003e\\u003c\\u002fextra\\u003e\",\"legendgroup\":\"survey (update)\",\"marker\":{\"color\":\"#00A7A0\",\"pattern\":{\"shape\":\"\"}},\"name\":\"survey (update)\",\"offsetgroup\":\"survey (update)\",\"orientation\":\"h\",\"showlegend\":true,\"textposition\":\"auto\",\"x\":[0.10434913107356138,0.012040107835384775,0.19842568917631306,0.4353351602376506,0.23819431747884728,0.01017749450390623,0.0002442579694654914,0.00123384172487114],\"xaxis\":\"x4\",\"y\":[\"1: walk\",\"2: bike\",\"3: sov\",\"4: hov 2\",\"5: hov 3+\",\"6: walk to transit\",\"7: park-and-ride\",\"9: tnc\"],\"yaxis\":\"y4\",\"type\":\"bar\"},{\"alignmentgroup\":\"True\",\"customdata\":[[90],[9],[391],[188],[63],[80],[4],[17]],\"hovertemplate\":\"source=survey (update)\\u003cbr\\u003epdpurp_label=Personal Business\\u003cbr\\u003epercentage=%{x}\\u003cbr\\u003etmodetp_label=%{y}\\u003cbr\\u003esample count=%{customdata[0]}\\u003cextra\\u003e\\u003c\\u002fextra\\u003e\",\"legendgroup\":\"survey (update)\",\"marker\":{\"color\":\"#00A7A0\",\"pattern\":{\"shape\":\"\"}},\"name\":\"survey (update)\",\"offsetgroup\":\"survey (update)\",\"orientation\":\"h\",\"showlegend\":false,\"textposition\":\"auto\",\"x\":[0.03461860944303865,0.034127809705577716,0.491501877754709,0.20439265034145027,0.09984363230118758,0.11368918388195356,0.0027172543989793098,0.019108982173103965],\"xaxis\":\"x3\",\"y\":[\"1: walk\",\"2: bike\",\"3: sov\",\"4: hov 2\",\"5: hov 3+\",\"6: walk to transit\",\"7: park-and-ride\",\"9: tnc\"],\"yaxis\":\"y3\",\"type\":\"bar\"},{\"alignmentgroup\":\"True\",\"customdata\":[[310],[17],[627],[316],[130],[76]],\"hovertemplate\":\"source=survey (update)\\u003cbr\\u003epdpurp_label=Shop\\u003cbr\\u003epercentage=%{x}\\u003cbr\\u003etmodetp_label=%{y}\\u003cbr\\u003esample count=%{customdata[0]}\\u003cextra\\u003e\\u003c\\u002fextra\\u003e\",\"legendgroup\":\"survey (update)\",\"marker\":{\"color\":\"#00A7A0\",\"pattern\":{\"shape\":\"\"}},\"name\":\"survey (update)\",\"offsetgroup\":\"survey (update)\",\"orientation\":\"h\",\"showlegend\":false,\"textposition\":\"auto\",\"x\":[0.1461277324021287,0.0019554289296616423,0.44236874217511946,0.23679399422705108,0.11740508136716439,0.055349020898874834],\"xaxis\":\"x2\",\"y\":[\"1: walk\",\"2: bike\",\"3: sov\",\"4: hov 2\",\"5: hov 3+\",\"6: walk to transit\"],\"yaxis\":\"y2\",\"type\":\"bar\"},{\"alignmentgroup\":\"True\",\"customdata\":[[1107],[105],[865],[529],[368],[132],[15],[12]],\"hovertemplate\":\"source=survey (update)\\u003cbr\\u003epdpurp_label=Social\\u003cbr\\u003epercentage=%{x}\\u003cbr\\u003etmodetp_label=%{y}\\u003cbr\\u003esample count=%{customdata[0]}\\u003cextra\\u003e\\u003c\\u002fextra\\u003e\",\"legendgroup\":\"survey (update)\",\"marker\":{\"color\":\"#00A7A0\",\"pattern\":{\"shape\":\"\"}},\"name\":\"survey (update)\",\"offsetgroup\":\"survey (update)\",\"orientation\":\"h\",\"showlegend\":false,\"textposition\":\"auto\",\"x\":[0.20280427448885524,0.01478491490360116,0.31159623212921944,0.22885809528249051,0.19244781966151153,0.041118828789513714,0.006479602366470605,0.0019102323783377413],\"xaxis\":\"x\",\"y\":[\"1: walk\",\"2: bike\",\"3: sov\",\"4: hov 2\",\"5: hov 3+\",\"6: walk to transit\",\"7: park-and-ride\",\"9: tnc\"],\"yaxis\":\"y\",\"type\":\"bar\"}],                        {\"template\":{\"data\":{\"barpolar\":[{\"marker\":{\"line\":{\"color\":\"white\",\"width\":0.5},\"pattern\":{\"fillmode\":\"overlay\",\"size\":10,\"solidity\":0.2}},\"type\":\"barpolar\"}],\"bar\":[{\"error_x\":{\"color\":\"rgb(36,36,36)\"},\"error_y\":{\"color\":\"rgb(36,36,36)\"},\"marker\":{\"line\":{\"color\":\"white\",\"width\":0.5},\"pattern\":{\"fillmode\":\"overlay\",\"size\":10,\"solidity\":0.2}},\"type\":\"bar\"}],\"carpet\":[{\"aaxis\":{\"endlinecolor\":\"rgb(36,36,36)\",\"gridcolor\":\"white\",\"linecolor\":\"white\",\"minorgridcolor\":\"white\",\"startlinecolor\":\"rgb(36,36,36)\"},\"baxis\":{\"endlinecolor\":\"rgb(36,36,36)\",\"gridcolor\":\"white\",\"linecolor\":\"white\",\"minorgridcolor\":\"white\",\"startlinecolor\":\"rgb(36,36,36)\"},\"type\":\"carpet\"}],\"choropleth\":[{\"colorbar\":{\"outlinewidth\":1,\"tickcolor\":\"rgb(36,36,36)\",\"ticks\":\"outside\"},\"type\":\"choropleth\"}],\"contourcarpet\":[{\"colorbar\":{\"outlinewidth\":1,\"tickcolor\":\"rgb(36,36,36)\",\"ticks\":\"outside\"},\"type\":\"contourcarpet\"}],\"contour\":[{\"colorbar\":{\"outlinewidth\":1,\"tickcolor\":\"rgb(36,36,36)\",\"ticks\":\"outside\"},\"colorscale\":[[0.0,\"#440154\"],[0.1111111111111111,\"#482878\"],[0.2222222222222222,\"#3e4989\"],[0.3333333333333333,\"#31688e\"],[0.4444444444444444,\"#26828e\"],[0.5555555555555556,\"#1f9e89\"],[0.6666666666666666,\"#35b779\"],[0.7777777777777778,\"#6ece58\"],[0.8888888888888888,\"#b5de2b\"],[1.0,\"#fde725\"]],\"type\":\"contour\"}],\"heatmapgl\":[{\"colorbar\":{\"outlinewidth\":1,\"tickcolor\":\"rgb(36,36,36)\",\"ticks\":\"outside\"},\"colorscale\":[[0.0,\"#440154\"],[0.1111111111111111,\"#482878\"],[0.2222222222222222,\"#3e4989\"],[0.3333333333333333,\"#31688e\"],[0.4444444444444444,\"#26828e\"],[0.5555555555555556,\"#1f9e89\"],[0.6666666666666666,\"#35b779\"],[0.7777777777777778,\"#6ece58\"],[0.8888888888888888,\"#b5de2b\"],[1.0,\"#fde725\"]],\"type\":\"heatmapgl\"}],\"heatmap\":[{\"colorbar\":{\"outlinewidth\":1,\"tickcolor\":\"rgb(36,36,36)\",\"ticks\":\"outside\"},\"colorscale\":[[0.0,\"#440154\"],[0.1111111111111111,\"#482878\"],[0.2222222222222222,\"#3e4989\"],[0.3333333333333333,\"#31688e\"],[0.4444444444444444,\"#26828e\"],[0.5555555555555556,\"#1f9e89\"],[0.6666666666666666,\"#35b779\"],[0.7777777777777778,\"#6ece58\"],[0.8888888888888888,\"#b5de2b\"],[1.0,\"#fde725\"]],\"type\":\"heatmap\"}],\"histogram2dcontour\":[{\"colorbar\":{\"outlinewidth\":1,\"tickcolor\":\"rgb(36,36,36)\",\"ticks\":\"outside\"},\"colorscale\":[[0.0,\"#440154\"],[0.1111111111111111,\"#482878\"],[0.2222222222222222,\"#3e4989\"],[0.3333333333333333,\"#31688e\"],[0.4444444444444444,\"#26828e\"],[0.5555555555555556,\"#1f9e89\"],[0.6666666666666666,\"#35b779\"],[0.7777777777777778,\"#6ece58\"],[0.8888888888888888,\"#b5de2b\"],[1.0,\"#fde725\"]],\"type\":\"histogram2dcontour\"}],\"histogram2d\":[{\"colorbar\":{\"outlinewidth\":1,\"tickcolor\":\"rgb(36,36,36)\",\"ticks\":\"outside\"},\"colorscale\":[[0.0,\"#440154\"],[0.1111111111111111,\"#482878\"],[0.2222222222222222,\"#3e4989\"],[0.3333333333333333,\"#31688e\"],[0.4444444444444444,\"#26828e\"],[0.5555555555555556,\"#1f9e89\"],[0.6666666666666666,\"#35b779\"],[0.7777777777777778,\"#6ece58\"],[0.8888888888888888,\"#b5de2b\"],[1.0,\"#fde725\"]],\"type\":\"histogram2d\"}],\"histogram\":[{\"marker\":{\"line\":{\"color\":\"white\",\"width\":0.6}},\"type\":\"histogram\"}],\"mesh3d\":[{\"colorbar\":{\"outlinewidth\":1,\"tickcolor\":\"rgb(36,36,36)\",\"ticks\":\"outside\"},\"type\":\"mesh3d\"}],\"parcoords\":[{\"line\":{\"colorbar\":{\"outlinewidth\":1,\"tickcolor\":\"rgb(36,36,36)\",\"ticks\":\"outside\"}},\"type\":\"parcoords\"}],\"pie\":[{\"automargin\":true,\"type\":\"pie\"}],\"scatter3d\":[{\"line\":{\"colorbar\":{\"outlinewidth\":1,\"tickcolor\":\"rgb(36,36,36)\",\"ticks\":\"outside\"}},\"marker\":{\"colorbar\":{\"outlinewidth\":1,\"tickcolor\":\"rgb(36,36,36)\",\"ticks\":\"outside\"}},\"type\":\"scatter3d\"}],\"scattercarpet\":[{\"marker\":{\"colorbar\":{\"outlinewidth\":1,\"tickcolor\":\"rgb(36,36,36)\",\"ticks\":\"outside\"}},\"type\":\"scattercarpet\"}],\"scattergeo\":[{\"marker\":{\"colorbar\":{\"outlinewidth\":1,\"tickcolor\":\"rgb(36,36,36)\",\"ticks\":\"outside\"}},\"type\":\"scattergeo\"}],\"scattergl\":[{\"marker\":{\"colorbar\":{\"outlinewidth\":1,\"tickcolor\":\"rgb(36,36,36)\",\"ticks\":\"outside\"}},\"type\":\"scattergl\"}],\"scattermapbox\":[{\"marker\":{\"colorbar\":{\"outlinewidth\":1,\"tickcolor\":\"rgb(36,36,36)\",\"ticks\":\"outside\"}},\"type\":\"scattermapbox\"}],\"scatterpolargl\":[{\"marker\":{\"colorbar\":{\"outlinewidth\":1,\"tickcolor\":\"rgb(36,36,36)\",\"ticks\":\"outside\"}},\"type\":\"scatterpolargl\"}],\"scatterpolar\":[{\"marker\":{\"colorbar\":{\"outlinewidth\":1,\"tickcolor\":\"rgb(36,36,36)\",\"ticks\":\"outside\"}},\"type\":\"scatterpolar\"}],\"scatter\":[{\"fillpattern\":{\"fillmode\":\"overlay\",\"size\":10,\"solidity\":0.2},\"type\":\"scatter\"}],\"scatterternary\":[{\"marker\":{\"colorbar\":{\"outlinewidth\":1,\"tickcolor\":\"rgb(36,36,36)\",\"ticks\":\"outside\"}},\"type\":\"scatterternary\"}],\"surface\":[{\"colorbar\":{\"outlinewidth\":1,\"tickcolor\":\"rgb(36,36,36)\",\"ticks\":\"outside\"},\"colorscale\":[[0.0,\"#440154\"],[0.1111111111111111,\"#482878\"],[0.2222222222222222,\"#3e4989\"],[0.3333333333333333,\"#31688e\"],[0.4444444444444444,\"#26828e\"],[0.5555555555555556,\"#1f9e89\"],[0.6666666666666666,\"#35b779\"],[0.7777777777777778,\"#6ece58\"],[0.8888888888888888,\"#b5de2b\"],[1.0,\"#fde725\"]],\"type\":\"surface\"}],\"table\":[{\"cells\":{\"fill\":{\"color\":\"rgb(237,237,237)\"},\"line\":{\"color\":\"white\"}},\"header\":{\"fill\":{\"color\":\"rgb(217,217,217)\"},\"line\":{\"color\":\"white\"}},\"type\":\"table\"}]},\"layout\":{\"annotationdefaults\":{\"arrowhead\":0,\"arrowwidth\":1},\"autotypenumbers\":\"strict\",\"coloraxis\":{\"colorbar\":{\"outlinewidth\":1,\"tickcolor\":\"rgb(36,36,36)\",\"ticks\":\"outside\"}},\"colorscale\":{\"diverging\":[[0.0,\"rgb(103,0,31)\"],[0.1,\"rgb(178,24,43)\"],[0.2,\"rgb(214,96,77)\"],[0.3,\"rgb(244,165,130)\"],[0.4,\"rgb(253,219,199)\"],[0.5,\"rgb(247,247,247)\"],[0.6,\"rgb(209,229,240)\"],[0.7,\"rgb(146,197,222)\"],[0.8,\"rgb(67,147,195)\"],[0.9,\"rgb(33,102,172)\"],[1.0,\"rgb(5,48,97)\"]],\"sequential\":[[0.0,\"#440154\"],[0.1111111111111111,\"#482878\"],[0.2222222222222222,\"#3e4989\"],[0.3333333333333333,\"#31688e\"],[0.4444444444444444,\"#26828e\"],[0.5555555555555556,\"#1f9e89\"],[0.6666666666666666,\"#35b779\"],[0.7777777777777778,\"#6ece58\"],[0.8888888888888888,\"#b5de2b\"],[1.0,\"#fde725\"]],\"sequentialminus\":[[0.0,\"#440154\"],[0.1111111111111111,\"#482878\"],[0.2222222222222222,\"#3e4989\"],[0.3333333333333333,\"#31688e\"],[0.4444444444444444,\"#26828e\"],[0.5555555555555556,\"#1f9e89\"],[0.6666666666666666,\"#35b779\"],[0.7777777777777778,\"#6ece58\"],[0.8888888888888888,\"#b5de2b\"],[1.0,\"#fde725\"]]},\"colorway\":[\"#91268F\",\"#8CC63E\",\"#00A7A0\",\"#F05A28\",\"#4C4C4C\",\"#630460\",\"#9f3913\",\"#588527\",\"#00716c\",\"#3e4040\"],\"font\":{\"color\":\"rgb(36,36,36)\",\"family\":\"Poppins\",\"size\":11},\"geo\":{\"bgcolor\":\"white\",\"lakecolor\":\"white\",\"landcolor\":\"white\",\"showlakes\":true,\"showland\":true,\"subunitcolor\":\"white\"},\"hoverlabel\":{\"align\":\"left\"},\"hovermode\":\"closest\",\"mapbox\":{\"style\":\"light\"},\"paper_bgcolor\":\"white\",\"plot_bgcolor\":\"white\",\"polar\":{\"angularaxis\":{\"gridcolor\":\"rgb(232,232,232)\",\"linecolor\":\"rgb(36,36,36)\",\"showgrid\":false,\"showline\":true,\"ticks\":\"outside\"},\"bgcolor\":\"white\",\"radialaxis\":{\"gridcolor\":\"rgb(232,232,232)\",\"linecolor\":\"rgb(36,36,36)\",\"showgrid\":false,\"showline\":true,\"ticks\":\"outside\"}},\"scene\":{\"xaxis\":{\"backgroundcolor\":\"white\",\"gridcolor\":\"rgb(232,232,232)\",\"gridwidth\":2,\"linecolor\":\"rgb(36,36,36)\",\"showbackground\":true,\"showgrid\":false,\"showline\":true,\"ticks\":\"outside\",\"zeroline\":false,\"zerolinecolor\":\"rgb(36,36,36)\"},\"yaxis\":{\"backgroundcolor\":\"white\",\"gridcolor\":\"rgb(232,232,232)\",\"gridwidth\":2,\"linecolor\":\"rgb(36,36,36)\",\"showbackground\":true,\"showgrid\":false,\"showline\":true,\"ticks\":\"outside\",\"zeroline\":false,\"zerolinecolor\":\"rgb(36,36,36)\"},\"zaxis\":{\"backgroundcolor\":\"white\",\"gridcolor\":\"rgb(232,232,232)\",\"gridwidth\":2,\"linecolor\":\"rgb(36,36,36)\",\"showbackground\":true,\"showgrid\":false,\"showline\":true,\"ticks\":\"outside\",\"zeroline\":false,\"zerolinecolor\":\"rgb(36,36,36)\"}},\"shapedefaults\":{\"fillcolor\":\"black\",\"line\":{\"width\":0},\"opacity\":0.3},\"ternary\":{\"aaxis\":{\"gridcolor\":\"rgb(232,232,232)\",\"linecolor\":\"rgb(36,36,36)\",\"showgrid\":false,\"showline\":true,\"ticks\":\"outside\"},\"baxis\":{\"gridcolor\":\"rgb(232,232,232)\",\"linecolor\":\"rgb(36,36,36)\",\"showgrid\":false,\"showline\":true,\"ticks\":\"outside\"},\"bgcolor\":\"white\",\"caxis\":{\"gridcolor\":\"rgb(232,232,232)\",\"linecolor\":\"rgb(36,36,36)\",\"showgrid\":false,\"showline\":true,\"ticks\":\"outside\"}},\"title\":{\"x\":0.05},\"xaxis\":{\"automargin\":true,\"gridcolor\":\"rgb(232,232,232)\",\"linecolor\":\"rgb(36,36,36)\",\"showgrid\":false,\"showline\":true,\"ticks\":\"outside\",\"title\":{\"standoff\":15},\"zeroline\":false,\"zerolinecolor\":\"rgb(36,36,36)\"},\"yaxis\":{\"automargin\":true,\"gridcolor\":\"rgb(232,232,232)\",\"linecolor\":\"rgb(36,36,36)\",\"showgrid\":false,\"showline\":true,\"ticks\":\"outside\",\"title\":{\"standoff\":15},\"zeroline\":false,\"zerolinecolor\":\"rgb(36,36,36)\"}}},\"xaxis\":{\"anchor\":\"y\",\"domain\":[0.0,1.0],\"title\":{\"text\":\"percentage\"},\"tickformat\":\".1%\"},\"yaxis\":{\"anchor\":\"x\",\"domain\":[0.0,0.1975],\"title\":{\"text\":\"tmodetp_label\"},\"categoryorder\":\"array\",\"categoryarray\":[\"9: other\\u00e2\\u20ac\\u201csurvey only\",\"8: school bus\",\"7: park-and-ride\",\"6: walk to transit\",\"5: hov 3+\",\"4: hov 2\",\"3: sov\",\"2: bike\",\"1: walk\"]},\"xaxis2\":{\"anchor\":\"y2\",\"domain\":[0.0,1.0],\"matches\":\"x\",\"showticklabels\":false,\"tickformat\":\".1%\"},\"yaxis2\":{\"anchor\":\"x2\",\"domain\":[0.2675,0.465],\"matches\":\"y\",\"title\":{\"text\":\"tmodetp_label\"},\"categoryorder\":\"array\",\"categoryarray\":[\"9: other\\u00e2\\u20ac\\u201csurvey only\",\"8: school bus\",\"7: park-and-ride\",\"6: walk to transit\",\"5: hov 3+\",\"4: hov 2\",\"3: sov\",\"2: bike\",\"1: walk\"]},\"xaxis3\":{\"anchor\":\"y3\",\"domain\":[0.0,1.0],\"matches\":\"x\",\"showticklabels\":false,\"tickformat\":\".1%\"},\"yaxis3\":{\"anchor\":\"x3\",\"domain\":[0.535,0.7325],\"matches\":\"y\",\"title\":{\"text\":\"tmodetp_label\"},\"categoryorder\":\"array\",\"categoryarray\":[\"9: other\\u00e2\\u20ac\\u201csurvey only\",\"8: school bus\",\"7: park-and-ride\",\"6: walk to transit\",\"5: hov 3+\",\"4: hov 2\",\"3: sov\",\"2: bike\",\"1: walk\"]},\"xaxis4\":{\"anchor\":\"y4\",\"domain\":[0.0,1.0],\"matches\":\"x\",\"showticklabels\":false,\"tickformat\":\".1%\"},\"yaxis4\":{\"anchor\":\"x4\",\"domain\":[0.8025,1.0],\"matches\":\"y\",\"title\":{\"text\":\"tmodetp_label\"},\"categoryorder\":\"array\",\"categoryarray\":[\"9: other\\u00e2\\u20ac\\u201csurvey only\",\"8: school bus\",\"7: park-and-ride\",\"6: walk to transit\",\"5: hov 3+\",\"4: hov 2\",\"3: sov\",\"2: bike\",\"1: walk\"]},\"annotations\":[{\"font\":{},\"showarrow\":false,\"text\":\"Social\",\"x\":0.5,\"xanchor\":\"center\",\"xref\":\"paper\",\"y\":0.1975,\"yanchor\":\"bottom\",\"yref\":\"paper\"},{\"font\":{},\"showarrow\":false,\"text\":\"Shop\",\"x\":0.5,\"xanchor\":\"center\",\"xref\":\"paper\",\"y\":0.465,\"yanchor\":\"bottom\",\"yref\":\"paper\"},{\"font\":{},\"showarrow\":false,\"text\":\"Personal Business\",\"x\":0.5,\"xanchor\":\"center\",\"xref\":\"paper\",\"y\":0.7325,\"yanchor\":\"bottom\",\"yref\":\"paper\"},{\"font\":{},\"showarrow\":false,\"text\":\"Meal\",\"x\":0.5,\"xanchor\":\"center\",\"xref\":\"paper\",\"y\":1.0,\"yanchor\":\"bottom\",\"yref\":\"paper\"}],\"legend\":{\"title\":{\"text\":\"source\"},\"tracegroupgap\":0},\"title\":{\"text\":\"other home-based tour mode choice\"},\"barmode\":\"group\",\"height\":1000,\"width\":650},                        {\"responsive\": true}                    ).then(function(){\n",
       "                            \n",
       "var gd = document.getElementById('472b7513-7cfd-4ce3-a0e5-3397c826c568');\n",
       "var x = new MutationObserver(function (mutations, observer) {{\n",
       "        var display = window.getComputedStyle(gd).display;\n",
       "        if (!display || display === 'none') {{\n",
       "            console.log([gd, 'removed!']);\n",
       "            Plotly.purge(gd);\n",
       "            observer.disconnect();\n",
       "        }}\n",
       "}});\n",
       "\n",
       "// Listen for the removal of the full notebook cells\n",
       "var notebookContainer = gd.closest('#notebook-container');\n",
       "if (notebookContainer) {{\n",
       "    x.observe(notebookContainer, {childList: true});\n",
       "}}\n",
       "\n",
       "// Listen for the clearing of the current output cell\n",
       "var outputEl = gd.closest('.output');\n",
       "if (outputEl) {{\n",
       "    x.observe(outputEl, {childList: true});\n",
       "}}\n",
       "\n",
       "                        })                };                });            </script>        </div>"
      ]
     },
     "metadata": {},
     "output_type": "display_data"
    }
   ],
   "source": [
    "df_plot = hb_tour.groupby(['source','pdpurp_label','tmodetp_label'])['toexpfac'].sum().reset_index()\n",
    "df_plot['percentage'] = df_plot.groupby(['source','pdpurp_label'], group_keys=False)['toexpfac']. \\\n",
    "    apply(lambda x: x / float(x.sum()))\n",
    "\n",
    "df_plot_ct = hb_tour.groupby(['source','pdpurp_label','tmodetp_label'])['toexpfac'].count().reset_index(). \\\n",
    "    rename(columns={'toexpfac':'sample count'})\n",
    "df_plot = df_plot.merge(df_plot_ct, on=['source','pdpurp_label','tmodetp_label'])\n",
    "\n",
    "fig = px.bar(df_plot.sort_values(['source','tmodetp_label']),\n",
    "             x=\"percentage\", y=\"tmodetp_label\", color=\"source\",barmode=\"group\",\n",
    "             facet_col='pdpurp_label', facet_col_wrap=1, orientation='h',\n",
    "             hover_data=['sample count'],\n",
    "             category_orders={\"tmodetp_label\":[\"1: walk\",\"2: bike\",\"3: sov\",\"4: hov 2\",\"5: hov 3+\",\"6: walk to transit\",\n",
    "                                               \"7: park-and-ride\",\"8: school bus\",\"9: other–survey only\"]},\n",
    "             title=\"other home-based tour mode choice\")\n",
    "fig.update_layout(height=1000, width=650)\n",
    "fig.for_each_annotation(lambda a: a.update(text = a.text.split(\"=\")[-1]))\n",
    "fig.for_each_xaxis(lambda a: a.update(tickformat = \".1%\"))\n",
    "fig.show()"
   ]
  },
  {
   "cell_type": "markdown",
   "metadata": {},
   "source": [
    "### mode choice by segment"
   ]
  },
  {
   "cell_type": "raw",
   "metadata": {},
   "source": [
    ":::{.panel-tabset}\n",
    "\n",
    "### person type"
   ]
  },
  {
   "cell_type": "code",
   "execution_count": 8,
   "metadata": {
    "ExecuteTime": {
     "end_time": "2024-08-30T21:20:07.536992Z",
     "start_time": "2024-08-30T21:20:07.521362Z"
    },
    "execution": {
     "iopub.execute_input": "2024-12-11T19:12:02.171853Z",
     "iopub.status.busy": "2024-12-11T19:12:02.170857Z",
     "iopub.status.idle": "2024-12-11T19:12:02.197278Z",
     "shell.execute_reply": "2024-12-11T19:12:02.195276Z"
    }
   },
   "outputs": [],
   "source": [
    "def plot_mode_choice(df: pd.DataFrame, grp_var: str, order_list: dict, title_name: str, n_nol: int, height=400, width=800):\n",
    "    df_plot = df.groupby(['source',grp_var,'tmodetp_label'])['toexpfac'].sum().reset_index()\n",
    "    df_plot['percentage'] = df_plot.groupby(['source',grp_var], group_keys=False)['toexpfac']. \\\n",
    "        apply(lambda x: x / float(x.sum()))\n",
    "\n",
    "    df_plot_ct = df.groupby(['source',grp_var,'tmodetp_label'])['toexpfac'].count().reset_index(). \\\n",
    "        rename(columns={'toexpfac':'sample count'})\n",
    "    df_plot = df_plot.merge(df_plot_ct, on=['source',grp_var,'tmodetp_label'])\n",
    "\n",
    "    fig = px.bar(df_plot.sort_values(['tmodetp_label']),\n",
    "                 x=\"percentage\", y=\"tmodetp_label\", color=\"source\",barmode=\"group\",\n",
    "                 facet_col=grp_var, facet_col_wrap=n_nol, orientation='h',\n",
    "                 hover_data=['sample count'],\n",
    "                 category_orders=order_list,\n",
    "                 title=\"other home-based tour mode choice by \" + title_name)\n",
    "    fig.update_layout(height=height, width=width)\n",
    "    fig.for_each_annotation(lambda a: a.update(text = a.text.split(\"=\")[-1]))\n",
    "    fig.for_each_xaxis(lambda a: a.update(tickformat = \".1%\"))\n",
    "    fig.show()"
   ]
  },
  {
   "cell_type": "code",
   "execution_count": 9,
   "metadata": {
    "execution": {
     "iopub.execute_input": "2024-12-11T19:12:02.208732Z",
     "iopub.status.busy": "2024-12-11T19:12:02.207734Z",
     "iopub.status.idle": "2024-12-11T19:12:03.683436Z",
     "shell.execute_reply": "2024-12-11T19:12:03.681924Z"
    }
   },
   "outputs": [
    {
     "data": {
      "application/vnd.plotly.v1+json": {
       "config": {
        "plotlyServerURL": "https://plot.ly"
       },
       "data": [
        {
         "alignmentgroup": "True",
         "customdata": [
          [
           115357
          ],
          [
           14347
          ],
          [
           297954
          ],
          [
           123023
          ],
          [
           154849
          ],
          [
           23603
          ],
          [
           1425
          ]
         ],
         "hovertemplate": "source=model<br>pptyp_label=full time worker<br>percentage=%{x}<br>tmodetp_label=%{y}<br>sample count=%{customdata[0]}<extra></extra>",
         "legendgroup": "model",
         "marker": {
          "color": "#91268F",
          "pattern": {
           "shape": ""
          }
         },
         "name": "model",
         "offsetgroup": "model",
         "orientation": "h",
         "showlegend": true,
         "textposition": "auto",
         "type": "bar",
         "x": [
          0.1579025895274571,
          0.01963841337717197,
          0.40784441481716716,
          0.16839593844705006,
          0.2119598991455846,
          0.03230818086996515,
          0.001950563815603963
         ],
         "xaxis": "x7",
         "y": [
          "1: walk",
          "2: bike",
          "3: sov",
          "4: hov 2",
          "5: hov 3+",
          "6: walk to transit",
          "9: tnc"
         ],
         "yaxis": "y7"
        },
        {
         "alignmentgroup": "True",
         "customdata": [
          [
           44564
          ],
          [
           4794
          ],
          [
           122082
          ],
          [
           50103
          ],
          [
           69363
          ],
          [
           9245
          ],
          [
           706
          ]
         ],
         "hovertemplate": "source=model<br>pptyp_label=part time worker<br>percentage=%{x}<br>tmodetp_label=%{y}<br>sample count=%{customdata[0]}<extra></extra>",
         "legendgroup": "model",
         "marker": {
          "color": "#91268F",
          "pattern": {
           "shape": ""
          }
         },
         "name": "model",
         "offsetgroup": "model",
         "orientation": "h",
         "showlegend": false,
         "textposition": "auto",
         "type": "bar",
         "x": [
          0.14812352712418192,
          0.01593448050070299,
          0.40578081945907857,
          0.16653426711028826,
          0.23055139152487727,
          0.030728884486649805,
          0.0023466297942211748
         ],
         "xaxis": "x8",
         "y": [
          "1: walk",
          "2: bike",
          "3: sov",
          "4: hov 2",
          "5: hov 3+",
          "6: walk to transit",
          "9: tnc"
         ],
         "yaxis": "y8"
        },
        {
         "alignmentgroup": "True",
         "customdata": [
          [
           68970
          ],
          [
           5690
          ],
          [
           240614
          ],
          [
           132782
          ],
          [
           81981
          ],
          [
           28441
          ],
          [
           2466
          ]
         ],
         "hovertemplate": "source=model<br>pptyp_label=non-worker age 65+<br>percentage=%{x}<br>tmodetp_label=%{y}<br>sample count=%{customdata[0]}<extra></extra>",
         "legendgroup": "model",
         "marker": {
          "color": "#91268F",
          "pattern": {
           "shape": ""
          }
         },
         "name": "model",
         "offsetgroup": "model",
         "orientation": "h",
         "showlegend": false,
         "textposition": "auto",
         "type": "bar",
         "x": [
          0.12295344989874211,
          0.010143615048917538,
          0.428944778801449,
          0.23671168601500328,
          0.14614827861604723,
          0.05070203086226076,
          0.004396160757580079
         ],
         "xaxis": "x5",
         "y": [
          "1: walk",
          "2: bike",
          "3: sov",
          "4: hov 2",
          "5: hov 3+",
          "6: walk to transit",
          "9: tnc"
         ],
         "yaxis": "y5"
        },
        {
         "alignmentgroup": "True",
         "customdata": [
          [
           84636
          ],
          [
           9278
          ],
          [
           215335
          ],
          [
           148048
          ],
          [
           210174
          ],
          [
           22476
          ],
          [
           1464
          ]
         ],
         "hovertemplate": "source=model<br>pptyp_label=other non-working adult<br>percentage=%{x}<br>tmodetp_label=%{y}<br>sample count=%{customdata[0]}<extra></extra>",
         "legendgroup": "model",
         "marker": {
          "color": "#91268F",
          "pattern": {
           "shape": ""
          }
         },
         "name": "model",
         "offsetgroup": "model",
         "orientation": "h",
         "showlegend": false,
         "textposition": "auto",
         "type": "bar",
         "x": [
          0.12241054886312193,
          0.013418936059738708,
          0.3114428321215601,
          0.21412444985688686,
          0.3039783862275839,
          0.03250743768901565,
          0.0021174091820928506
         ],
         "xaxis": "x6",
         "y": [
          "1: walk",
          "2: bike",
          "3: sov",
          "4: hov 2",
          "5: hov 3+",
          "6: walk to transit",
          "9: tnc"
         ],
         "yaxis": "y6"
        },
        {
         "alignmentgroup": "True",
         "customdata": [
          [
           9377
          ],
          [
           1310
          ],
          [
           16198
          ],
          [
           10292
          ],
          [
           17468
          ],
          [
           2332
          ],
          [
           115
          ]
         ],
         "hovertemplate": "source=model<br>pptyp_label=university student<br>percentage=%{x}<br>tmodetp_label=%{y}<br>sample count=%{customdata[0]}<extra></extra>",
         "legendgroup": "model",
         "marker": {
          "color": "#91268F",
          "pattern": {
           "shape": ""
          }
         },
         "name": "model",
         "offsetgroup": "model",
         "orientation": "h",
         "showlegend": false,
         "textposition": "auto",
         "type": "bar",
         "x": [
          0.16424367687241645,
          0.02294542142506831,
          0.28371750858263856,
          0.18027044069221607,
          0.3059623064527429,
          0.040846353254396416,
          0.0020142927205212637
         ],
         "xaxis": "x3",
         "y": [
          "1: walk",
          "2: bike",
          "3: sov",
          "4: hov 2",
          "5: hov 3+",
          "6: walk to transit",
          "9: tnc"
         ],
         "yaxis": "y3"
        },
        {
         "alignmentgroup": "True",
         "customdata": [
          [
           14675
          ],
          [
           1923
          ],
          [
           35423
          ],
          [
           26404
          ],
          [
           60362
          ],
          [
           3472
          ],
          [
           197
          ]
         ],
         "hovertemplate": "source=model<br>pptyp_label=grade school student/child age 16+<br>percentage=%{x}<br>tmodetp_label=%{y}<br>sample count=%{customdata[0]}<extra></extra>",
         "legendgroup": "model",
         "marker": {
          "color": "#91268F",
          "pattern": {
           "shape": ""
          }
         },
         "name": "model",
         "offsetgroup": "model",
         "orientation": "h",
         "showlegend": false,
         "textposition": "auto",
         "type": "bar",
         "x": [
          0.10301426405346212,
          0.013498904925029483,
          0.24865923513225135,
          0.18534845847138764,
          0.42372381647666646,
          0.024372437805357444,
          0.0013828831358454541
         ],
         "xaxis": "x4",
         "y": [
          "1: walk",
          "2: bike",
          "3: sov",
          "4: hov 2",
          "5: hov 3+",
          "6: walk to transit",
          "9: tnc"
         ],
         "yaxis": "y4"
        },
        {
         "alignmentgroup": "True",
         "customdata": [
          [
           17722
          ],
          [
           3074
          ],
          [
           30806
          ],
          [
           72487
          ],
          [
           2466
          ],
          [
           151
          ]
         ],
         "hovertemplate": "source=model<br>pptyp_label=child age 5-15<br>percentage=%{x}<br>tmodetp_label=%{y}<br>sample count=%{customdata[0]}<extra></extra>",
         "legendgroup": "model",
         "marker": {
          "color": "#91268F",
          "pattern": {
           "shape": ""
          }
         },
         "name": "model",
         "offsetgroup": "model",
         "orientation": "h",
         "showlegend": false,
         "textposition": "auto",
         "type": "bar",
         "x": [
          0.13986709390241978,
          0.02426088740864679,
          0.24312976496772054,
          0.5720881410509369,
          0.019462377472258614,
          0.0011917351980174577
         ],
         "xaxis": "x",
         "y": [
          "1: walk",
          "2: bike",
          "4: hov 2",
          "5: hov 3+",
          "6: walk to transit",
          "9: tnc"
         ],
         "yaxis": "y"
        },
        {
         "alignmentgroup": "True",
         "customdata": [
          [
           17070
          ],
          [
           2695
          ],
          [
           36020
          ],
          [
           86854
          ],
          [
           3402
          ],
          [
           177
          ]
         ],
         "hovertemplate": "source=model<br>pptyp_label=child age 0-4<br>percentage=%{x}<br>tmodetp_label=%{y}<br>sample count=%{customdata[0]}<extra></extra>",
         "legendgroup": "model",
         "marker": {
          "color": "#91268F",
          "pattern": {
           "shape": ""
          }
         },
         "name": "model",
         "offsetgroup": "model",
         "orientation": "h",
         "showlegend": false,
         "textposition": "auto",
         "type": "bar",
         "x": [
          0.11674349259325117,
          0.018431383277024718,
          0.24634449930925056,
          0.5940034742644544,
          0.02326662927956886,
          0.0012105212764502318
         ],
         "xaxis": "x2",
         "y": [
          "1: walk",
          "2: bike",
          "4: hov 2",
          "5: hov 3+",
          "6: walk to transit",
          "9: tnc"
         ],
         "yaxis": "y2"
        },
        {
         "alignmentgroup": "True",
         "customdata": [
          [
           459
          ],
          [
           52
          ],
          [
           448
          ],
          [
           262
          ],
          [
           145
          ],
          [
           44
          ],
          [
           2
          ],
          [
           13
          ]
         ],
         "hovertemplate": "source=survey (update)<br>pptyp_label=full time worker<br>percentage=%{x}<br>tmodetp_label=%{y}<br>sample count=%{customdata[0]}<extra></extra>",
         "legendgroup": "survey (update)",
         "marker": {
          "color": "#8CC63E",
          "pattern": {
           "shape": ""
          }
         },
         "name": "survey (update)",
         "offsetgroup": "survey (update)",
         "orientation": "h",
         "showlegend": true,
         "textposition": "auto",
         "type": "bar",
         "x": [
          0.1875121787969276,
          0.023603876689641135,
          0.35570823339610413,
          0.2693073352051533,
          0.14912159989961815,
          0.009958457469843909,
          0.00032140265756434123,
          0.00446691588514751
         ],
         "xaxis": "x7",
         "y": [
          "1: walk",
          "2: bike",
          "3: sov",
          "4: hov 2",
          "5: hov 3+",
          "6: walk to transit",
          "7: park-and-ride",
          "9: tnc"
         ],
         "yaxis": "y7"
        },
        {
         "alignmentgroup": "True",
         "customdata": [
          [
           80
          ],
          [
           11
          ],
          [
           151
          ],
          [
           75
          ],
          [
           47
          ],
          [
           25
          ],
          [
           2
          ]
         ],
         "hovertemplate": "source=survey (update)<br>pptyp_label=part time worker<br>percentage=%{x}<br>tmodetp_label=%{y}<br>sample count=%{customdata[0]}<extra></extra>",
         "legendgroup": "survey (update)",
         "marker": {
          "color": "#8CC63E",
          "pattern": {
           "shape": ""
          }
         },
         "name": "survey (update)",
         "offsetgroup": "survey (update)",
         "orientation": "h",
         "showlegend": false,
         "textposition": "auto",
         "type": "bar",
         "x": [
          0.1286926674974209,
          0.004935973646240447,
          0.33269630465563377,
          0.26020718559231804,
          0.2127991587345443,
          0.06001846735987974,
          0.0006502425139626876
         ],
         "xaxis": "x8",
         "y": [
          "1: walk",
          "2: bike",
          "3: sov",
          "4: hov 2",
          "5: hov 3+",
          "6: walk to transit",
          "9: tnc"
         ],
         "yaxis": "y8"
        },
        {
         "alignmentgroup": "True",
         "customdata": [
          [
           159
          ],
          [
           11
          ],
          [
           428
          ],
          [
           254
          ],
          [
           56
          ],
          [
           55
          ],
          [
           4
          ],
          [
           1
          ]
         ],
         "hovertemplate": "source=survey (update)<br>pptyp_label=non-worker age 65+<br>percentage=%{x}<br>tmodetp_label=%{y}<br>sample count=%{customdata[0]}<extra></extra>",
         "legendgroup": "survey (update)",
         "marker": {
          "color": "#8CC63E",
          "pattern": {
           "shape": ""
          }
         },
         "name": "survey (update)",
         "offsetgroup": "survey (update)",
         "orientation": "h",
         "showlegend": false,
         "textposition": "auto",
         "type": "bar",
         "x": [
          0.11248383914541779,
          0.003647528704978773,
          0.5409732856352428,
          0.2278081602696449,
          0.0343406666769574,
          0.07991903290257545,
          0.0006761873298499009,
          0.0001512993353329479
         ],
         "xaxis": "x5",
         "y": [
          "1: walk",
          "2: bike",
          "3: sov",
          "4: hov 2",
          "5: hov 3+",
          "6: walk to transit",
          "7: park-and-ride",
          "9: tnc"
         ],
         "yaxis": "y5"
        },
        {
         "alignmentgroup": "True",
         "customdata": [
          [
           187
          ],
          [
           22
          ],
          [
           324
          ],
          [
           194
          ],
          [
           110
          ],
          [
           64
          ],
          [
           5
          ],
          [
           7
          ]
         ],
         "hovertemplate": "source=survey (update)<br>pptyp_label=other non-working adult<br>percentage=%{x}<br>tmodetp_label=%{y}<br>sample count=%{customdata[0]}<extra></extra>",
         "legendgroup": "survey (update)",
         "marker": {
          "color": "#8CC63E",
          "pattern": {
           "shape": ""
          }
         },
         "name": "survey (update)",
         "offsetgroup": "survey (update)",
         "orientation": "h",
         "showlegend": false,
         "textposition": "auto",
         "type": "bar",
         "x": [
          0.14533235351496546,
          0.005416024324121486,
          0.34437233224652647,
          0.2695730999513043,
          0.1530685273412635,
          0.06986869538216871,
          0.0053055128842187296,
          0.007063454355431341
         ],
         "xaxis": "x6",
         "y": [
          "1: walk",
          "2: bike",
          "3: sov",
          "4: hov 2",
          "5: hov 3+",
          "6: walk to transit",
          "7: park-and-ride",
          "9: tnc"
         ],
         "yaxis": "y6"
        },
        {
         "alignmentgroup": "True",
         "customdata": [
          [
           39
          ],
          [
           5
          ],
          [
           27
          ],
          [
           15
          ],
          [
           4
          ],
          [
           10
          ],
          [
           3
          ],
          [
           1
          ]
         ],
         "hovertemplate": "source=survey (update)<br>pptyp_label=university student<br>percentage=%{x}<br>tmodetp_label=%{y}<br>sample count=%{customdata[0]}<extra></extra>",
         "legendgroup": "survey (update)",
         "marker": {
          "color": "#8CC63E",
          "pattern": {
           "shape": ""
          }
         },
         "name": "survey (update)",
         "offsetgroup": "survey (update)",
         "orientation": "h",
         "showlegend": false,
         "textposition": "auto",
         "type": "bar",
         "x": [
          0.16406795627540335,
          0.008494814678691282,
          0.29729506004835493,
          0.265685804282686,
          0.022789938591650433,
          0.13002774063446598,
          0.07834792147374751,
          0.03329076401500049
         ],
         "xaxis": "x3",
         "y": [
          "1: walk",
          "2: bike",
          "3: sov",
          "4: hov 2",
          "5: hov 3+",
          "6: walk to transit",
          "7: park-and-ride",
          "9: tnc"
         ],
         "yaxis": "y3"
        },
        {
         "alignmentgroup": "True",
         "customdata": [
          [
           5
          ],
          [
           3
          ],
          [
           17
          ],
          [
           10
          ],
          [
           15
          ],
          [
           2
          ]
         ],
         "hovertemplate": "source=survey (update)<br>pptyp_label=grade school student/child age 16+<br>percentage=%{x}<br>tmodetp_label=%{y}<br>sample count=%{customdata[0]}<extra></extra>",
         "legendgroup": "survey (update)",
         "marker": {
          "color": "#8CC63E",
          "pattern": {
           "shape": ""
          }
         },
         "name": "survey (update)",
         "offsetgroup": "survey (update)",
         "orientation": "h",
         "showlegend": false,
         "textposition": "auto",
         "type": "bar",
         "x": [
          0.03245368005571934,
          0.004677825629033364,
          0.47586562518318665,
          0.24188348824616057,
          0.16083391420532483,
          0.08428546668057527
         ],
         "xaxis": "x4",
         "y": [
          "1: walk",
          "2: bike",
          "3: sov",
          "4: hov 2",
          "5: hov 3+",
          "6: walk to transit"
         ],
         "yaxis": "y4"
        },
        {
         "alignmentgroup": "True",
         "customdata": [
          [
           9
          ],
          [
           4
          ],
          [
           1
          ],
          [
           43
          ],
          [
           107
          ],
          [
           5
          ],
          [
           1
          ]
         ],
         "hovertemplate": "source=survey (update)<br>pptyp_label=child age 5-15<br>percentage=%{x}<br>tmodetp_label=%{y}<br>sample count=%{customdata[0]}<extra></extra>",
         "legendgroup": "survey (update)",
         "marker": {
          "color": "#8CC63E",
          "pattern": {
           "shape": ""
          }
         },
         "name": "survey (update)",
         "offsetgroup": "survey (update)",
         "orientation": "h",
         "showlegend": false,
         "textposition": "auto",
         "type": "bar",
         "x": [
          0.01466440532906896,
          0.03417558784432854,
          0.0008274075850573912,
          0.2517930894431871,
          0.5501653020385332,
          0.13632664030263342,
          0.012047567457191617
         ],
         "xaxis": "x",
         "y": [
          "1: walk",
          "2: bike",
          "3: sov",
          "4: hov 2",
          "5: hov 3+",
          "6: walk to transit",
          "7: park-and-ride"
         ],
         "yaxis": "y"
        },
        {
         "alignmentgroup": "True",
         "customdata": [
          [
           26
          ],
          [
           20
          ],
          [
           74
          ],
          [
           1
          ],
          [
           1
          ]
         ],
         "hovertemplate": "source=survey (update)<br>pptyp_label=child age 0-4<br>percentage=%{x}<br>tmodetp_label=%{y}<br>sample count=%{customdata[0]}<extra></extra>",
         "legendgroup": "survey (update)",
         "marker": {
          "color": "#8CC63E",
          "pattern": {
           "shape": ""
          }
         },
         "name": "survey (update)",
         "offsetgroup": "survey (update)",
         "orientation": "h",
         "showlegend": false,
         "textposition": "auto",
         "type": "bar",
         "x": [
          0.09553052004604247,
          0.20223154632774734,
          0.6552889085337609,
          0.04665722815287855,
          0.0002917969395708433
         ],
         "xaxis": "x2",
         "y": [
          "1: walk",
          "4: hov 2",
          "5: hov 3+",
          "6: walk to transit",
          "7: park-and-ride"
         ],
         "yaxis": "y2"
        },
        {
         "alignmentgroup": "True",
         "customdata": [
          [
           434
          ],
          [
           49
          ],
          [
           419
          ],
          [
           250
          ],
          [
           130
          ],
          [
           44
          ],
          [
           2
          ],
          [
           12
          ]
         ],
         "hovertemplate": "source=survey<br>pptyp_label=full time worker<br>percentage=%{x}<br>tmodetp_label=%{y}<br>sample count=%{customdata[0]}<extra></extra>",
         "legendgroup": "survey",
         "marker": {
          "color": "#00A7A0",
          "pattern": {
           "shape": ""
          }
         },
         "name": "survey",
         "offsetgroup": "survey",
         "orientation": "h",
         "showlegend": true,
         "textposition": "auto",
         "type": "bar",
         "x": [
          0.19115087362703218,
          0.01354618625191266,
          0.3330609826628868,
          0.20164777923102545,
          0.24138824353987254,
          0.013437378924446838,
          0.0002852213557650497,
          0.005483334407058301
         ],
         "xaxis": "x7",
         "y": [
          "1: walk",
          "2: bike",
          "3: sov",
          "4: hov 2",
          "5: hov 3+",
          "6: walk to transit",
          "7: park-and-ride",
          "9: tnc"
         ],
         "yaxis": "y7"
        },
        {
         "alignmentgroup": "True",
         "customdata": [
          [
           73
          ],
          [
           13
          ],
          [
           142
          ],
          [
           67
          ],
          [
           42
          ],
          [
           25
          ]
         ],
         "hovertemplate": "source=survey<br>pptyp_label=part time worker<br>percentage=%{x}<br>tmodetp_label=%{y}<br>sample count=%{customdata[0]}<extra></extra>",
         "legendgroup": "survey",
         "marker": {
          "color": "#00A7A0",
          "pattern": {
           "shape": ""
          }
         },
         "name": "survey",
         "offsetgroup": "survey",
         "orientation": "h",
         "showlegend": false,
         "textposition": "auto",
         "type": "bar",
         "x": [
          0.07712632091713492,
          0.00978495089631463,
          0.4368532630207285,
          0.18577152435956604,
          0.2457312843063532,
          0.04473265649990268
         ],
         "xaxis": "x8",
         "y": [
          "1: walk",
          "2: bike",
          "3: sov",
          "4: hov 2",
          "5: hov 3+",
          "6: walk to transit"
         ],
         "yaxis": "y8"
        },
        {
         "alignmentgroup": "True",
         "customdata": [
          [
           150
          ],
          [
           22
          ],
          [
           410
          ],
          [
           246
          ],
          [
           52
          ],
          [
           57
          ],
          [
           4
          ],
          [
           1
          ]
         ],
         "hovertemplate": "source=survey<br>pptyp_label=non-worker age 65+<br>percentage=%{x}<br>tmodetp_label=%{y}<br>sample count=%{customdata[0]}<extra></extra>",
         "legendgroup": "survey",
         "marker": {
          "color": "#00A7A0",
          "pattern": {
           "shape": ""
          }
         },
         "name": "survey",
         "offsetgroup": "survey",
         "orientation": "h",
         "showlegend": false,
         "textposition": "auto",
         "type": "bar",
         "x": [
          0.10550262454065089,
          0.03785228501069938,
          0.4585289818878797,
          0.26277773570980834,
          0.06110844549053985,
          0.07327239359223309,
          0.0006387734795733357,
          0.0003187602886153449
         ],
         "xaxis": "x5",
         "y": [
          "1: walk",
          "2: bike",
          "3: sov",
          "4: hov 2",
          "5: hov 3+",
          "6: walk to transit",
          "7: park-and-ride",
          "9: tnc"
         ],
         "yaxis": "y5"
        },
        {
         "alignmentgroup": "True",
         "customdata": [
          [
           175
          ],
          [
           25
          ],
          [
           311
          ],
          [
           172
          ],
          [
           102
          ],
          [
           60
          ],
          [
           5
          ],
          [
           6
          ]
         ],
         "hovertemplate": "source=survey<br>pptyp_label=other non-working adult<br>percentage=%{x}<br>tmodetp_label=%{y}<br>sample count=%{customdata[0]}<extra></extra>",
         "legendgroup": "survey",
         "marker": {
          "color": "#00A7A0",
          "pattern": {
           "shape": ""
          }
         },
         "name": "survey",
         "offsetgroup": "survey",
         "orientation": "h",
         "showlegend": false,
         "textposition": "auto",
         "type": "bar",
         "x": [
          0.09939004416551603,
          0.008074889328983767,
          0.35071018681012456,
          0.19501361354629052,
          0.3065423799767603,
          0.02719115719414041,
          0.008626243544458746,
          0.004451485433725575
         ],
         "xaxis": "x6",
         "y": [
          "1: walk",
          "2: bike",
          "3: sov",
          "4: hov 2",
          "5: hov 3+",
          "6: walk to transit",
          "7: park-and-ride",
          "9: tnc"
         ],
         "yaxis": "y6"
        },
        {
         "alignmentgroup": "True",
         "customdata": [
          [
           38
          ],
          [
           4
          ],
          [
           21
          ],
          [
           12
          ],
          [
           4
          ],
          [
           7
          ],
          [
           3
          ]
         ],
         "hovertemplate": "source=survey<br>pptyp_label=university student<br>percentage=%{x}<br>tmodetp_label=%{y}<br>sample count=%{customdata[0]}<extra></extra>",
         "legendgroup": "survey",
         "marker": {
          "color": "#00A7A0",
          "pattern": {
           "shape": ""
          }
         },
         "name": "survey",
         "offsetgroup": "survey",
         "orientation": "h",
         "showlegend": false,
         "textposition": "auto",
         "type": "bar",
         "x": [
          0.10688455981549914,
          0.0033977133113222164,
          0.27082520120736653,
          0.39401811023285255,
          0.0074622037355946405,
          0.019810795279935605,
          0.19760141641742932
         ],
         "xaxis": "x3",
         "y": [
          "1: walk",
          "2: bike",
          "3: sov",
          "4: hov 2",
          "5: hov 3+",
          "6: walk to transit",
          "7: park-and-ride"
         ],
         "yaxis": "y3"
        },
        {
         "alignmentgroup": "True",
         "customdata": [
          [
           4
          ],
          [
           2
          ],
          [
           13
          ],
          [
           9
          ],
          [
           15
          ],
          [
           2
          ]
         ],
         "hovertemplate": "source=survey<br>pptyp_label=grade school student/child age 16+<br>percentage=%{x}<br>tmodetp_label=%{y}<br>sample count=%{customdata[0]}<extra></extra>",
         "legendgroup": "survey",
         "marker": {
          "color": "#00A7A0",
          "pattern": {
           "shape": ""
          }
         },
         "name": "survey",
         "offsetgroup": "survey",
         "orientation": "h",
         "showlegend": false,
         "textposition": "auto",
         "type": "bar",
         "x": [
          0.05383844784606842,
          0.02030867710538571,
          0.17711140968771238,
          0.1754062101913951,
          0.5280122429035797,
          0.045323012265858664
         ],
         "xaxis": "x4",
         "y": [
          "1: walk",
          "2: bike",
          "3: sov",
          "4: hov 2",
          "5: hov 3+",
          "6: walk to transit"
         ],
         "yaxis": "y4"
        },
        {
         "alignmentgroup": "True",
         "customdata": [
          [
           8
          ],
          [
           3
          ],
          [
           1
          ],
          [
           41
          ],
          [
           96
          ],
          [
           4
          ],
          [
           1
          ],
          [
           2
          ]
         ],
         "hovertemplate": "source=survey<br>pptyp_label=child age 5-15<br>percentage=%{x}<br>tmodetp_label=%{y}<br>sample count=%{customdata[0]}<extra></extra>",
         "legendgroup": "survey",
         "marker": {
          "color": "#00A7A0",
          "pattern": {
           "shape": ""
          }
         },
         "name": "survey",
         "offsetgroup": "survey",
         "orientation": "h",
         "showlegend": false,
         "textposition": "auto",
         "type": "bar",
         "x": [
          0.0253962720728709,
          0.0019264042661172823,
          0.02439810844906626,
          0.10348608418405983,
          0.7966676564394952,
          0.024403500246057912,
          0.023455015510207764,
          0.00026695883212489826
         ],
         "xaxis": "x",
         "y": [
          "1: walk",
          "2: bike",
          "3: sov",
          "4: hov 2",
          "5: hov 3+",
          "6: walk to transit",
          "7: park-and-ride",
          "8: school bus"
         ],
         "yaxis": "y"
        },
        {
         "alignmentgroup": "True",
         "customdata": [
          [
           24
          ],
          [
           14
          ],
          [
           65
          ],
          [
           1
          ],
          [
           1
          ]
         ],
         "hovertemplate": "source=survey<br>pptyp_label=child age 0-4<br>percentage=%{x}<br>tmodetp_label=%{y}<br>sample count=%{customdata[0]}<extra></extra>",
         "legendgroup": "survey",
         "marker": {
          "color": "#00A7A0",
          "pattern": {
           "shape": ""
          }
         },
         "name": "survey",
         "offsetgroup": "survey",
         "orientation": "h",
         "showlegend": false,
         "textposition": "auto",
         "type": "bar",
         "x": [
          0.12834262997030738,
          0.06862986555553409,
          0.8015290506635852,
          0.0012730986152317103,
          0.00022535519534164488
         ],
         "xaxis": "x2",
         "y": [
          "1: walk",
          "4: hov 2",
          "5: hov 3+",
          "6: walk to transit",
          "7: park-and-ride"
         ],
         "yaxis": "y2"
        }
       ],
       "layout": {
        "annotations": [
         {
          "font": {},
          "showarrow": false,
          "text": "child age 5-15",
          "x": 0.245,
          "xanchor": "center",
          "xref": "paper",
          "y": 0.1975,
          "yanchor": "bottom",
          "yref": "paper"
         },
         {
          "font": {},
          "showarrow": false,
          "text": "child age 0-4",
          "x": 0.755,
          "xanchor": "center",
          "xref": "paper",
          "y": 0.1975,
          "yanchor": "bottom",
          "yref": "paper"
         },
         {
          "font": {},
          "showarrow": false,
          "text": "university student",
          "x": 0.245,
          "xanchor": "center",
          "xref": "paper",
          "y": 0.465,
          "yanchor": "bottom",
          "yref": "paper"
         },
         {
          "font": {},
          "showarrow": false,
          "text": "grade school student/child age 16+",
          "x": 0.755,
          "xanchor": "center",
          "xref": "paper",
          "y": 0.465,
          "yanchor": "bottom",
          "yref": "paper"
         },
         {
          "font": {},
          "showarrow": false,
          "text": "non-worker age 65+",
          "x": 0.245,
          "xanchor": "center",
          "xref": "paper",
          "y": 0.7325,
          "yanchor": "bottom",
          "yref": "paper"
         },
         {
          "font": {},
          "showarrow": false,
          "text": "other non-working adult",
          "x": 0.755,
          "xanchor": "center",
          "xref": "paper",
          "y": 0.7325,
          "yanchor": "bottom",
          "yref": "paper"
         },
         {
          "font": {},
          "showarrow": false,
          "text": "full time worker",
          "x": 0.245,
          "xanchor": "center",
          "xref": "paper",
          "y": 1.0,
          "yanchor": "bottom",
          "yref": "paper"
         },
         {
          "font": {},
          "showarrow": false,
          "text": "part time worker",
          "x": 0.755,
          "xanchor": "center",
          "xref": "paper",
          "y": 1.0,
          "yanchor": "bottom",
          "yref": "paper"
         }
        ],
        "barmode": "group",
        "height": 1000,
        "legend": {
         "title": {
          "text": "source"
         },
         "tracegroupgap": 0
        },
        "template": {
         "data": {
          "bar": [
           {
            "error_x": {
             "color": "rgb(36,36,36)"
            },
            "error_y": {
             "color": "rgb(36,36,36)"
            },
            "marker": {
             "line": {
              "color": "white",
              "width": 0.5
             },
             "pattern": {
              "fillmode": "overlay",
              "size": 10,
              "solidity": 0.2
             }
            },
            "type": "bar"
           }
          ],
          "barpolar": [
           {
            "marker": {
             "line": {
              "color": "white",
              "width": 0.5
             },
             "pattern": {
              "fillmode": "overlay",
              "size": 10,
              "solidity": 0.2
             }
            },
            "type": "barpolar"
           }
          ],
          "carpet": [
           {
            "aaxis": {
             "endlinecolor": "rgb(36,36,36)",
             "gridcolor": "white",
             "linecolor": "white",
             "minorgridcolor": "white",
             "startlinecolor": "rgb(36,36,36)"
            },
            "baxis": {
             "endlinecolor": "rgb(36,36,36)",
             "gridcolor": "white",
             "linecolor": "white",
             "minorgridcolor": "white",
             "startlinecolor": "rgb(36,36,36)"
            },
            "type": "carpet"
           }
          ],
          "choropleth": [
           {
            "colorbar": {
             "outlinewidth": 1,
             "tickcolor": "rgb(36,36,36)",
             "ticks": "outside"
            },
            "type": "choropleth"
           }
          ],
          "contour": [
           {
            "colorbar": {
             "outlinewidth": 1,
             "tickcolor": "rgb(36,36,36)",
             "ticks": "outside"
            },
            "colorscale": [
             [
              0.0,
              "#440154"
             ],
             [
              0.1111111111111111,
              "#482878"
             ],
             [
              0.2222222222222222,
              "#3e4989"
             ],
             [
              0.3333333333333333,
              "#31688e"
             ],
             [
              0.4444444444444444,
              "#26828e"
             ],
             [
              0.5555555555555556,
              "#1f9e89"
             ],
             [
              0.6666666666666666,
              "#35b779"
             ],
             [
              0.7777777777777778,
              "#6ece58"
             ],
             [
              0.8888888888888888,
              "#b5de2b"
             ],
             [
              1.0,
              "#fde725"
             ]
            ],
            "type": "contour"
           }
          ],
          "contourcarpet": [
           {
            "colorbar": {
             "outlinewidth": 1,
             "tickcolor": "rgb(36,36,36)",
             "ticks": "outside"
            },
            "type": "contourcarpet"
           }
          ],
          "heatmap": [
           {
            "colorbar": {
             "outlinewidth": 1,
             "tickcolor": "rgb(36,36,36)",
             "ticks": "outside"
            },
            "colorscale": [
             [
              0.0,
              "#440154"
             ],
             [
              0.1111111111111111,
              "#482878"
             ],
             [
              0.2222222222222222,
              "#3e4989"
             ],
             [
              0.3333333333333333,
              "#31688e"
             ],
             [
              0.4444444444444444,
              "#26828e"
             ],
             [
              0.5555555555555556,
              "#1f9e89"
             ],
             [
              0.6666666666666666,
              "#35b779"
             ],
             [
              0.7777777777777778,
              "#6ece58"
             ],
             [
              0.8888888888888888,
              "#b5de2b"
             ],
             [
              1.0,
              "#fde725"
             ]
            ],
            "type": "heatmap"
           }
          ],
          "heatmapgl": [
           {
            "colorbar": {
             "outlinewidth": 1,
             "tickcolor": "rgb(36,36,36)",
             "ticks": "outside"
            },
            "colorscale": [
             [
              0.0,
              "#440154"
             ],
             [
              0.1111111111111111,
              "#482878"
             ],
             [
              0.2222222222222222,
              "#3e4989"
             ],
             [
              0.3333333333333333,
              "#31688e"
             ],
             [
              0.4444444444444444,
              "#26828e"
             ],
             [
              0.5555555555555556,
              "#1f9e89"
             ],
             [
              0.6666666666666666,
              "#35b779"
             ],
             [
              0.7777777777777778,
              "#6ece58"
             ],
             [
              0.8888888888888888,
              "#b5de2b"
             ],
             [
              1.0,
              "#fde725"
             ]
            ],
            "type": "heatmapgl"
           }
          ],
          "histogram": [
           {
            "marker": {
             "line": {
              "color": "white",
              "width": 0.6
             }
            },
            "type": "histogram"
           }
          ],
          "histogram2d": [
           {
            "colorbar": {
             "outlinewidth": 1,
             "tickcolor": "rgb(36,36,36)",
             "ticks": "outside"
            },
            "colorscale": [
             [
              0.0,
              "#440154"
             ],
             [
              0.1111111111111111,
              "#482878"
             ],
             [
              0.2222222222222222,
              "#3e4989"
             ],
             [
              0.3333333333333333,
              "#31688e"
             ],
             [
              0.4444444444444444,
              "#26828e"
             ],
             [
              0.5555555555555556,
              "#1f9e89"
             ],
             [
              0.6666666666666666,
              "#35b779"
             ],
             [
              0.7777777777777778,
              "#6ece58"
             ],
             [
              0.8888888888888888,
              "#b5de2b"
             ],
             [
              1.0,
              "#fde725"
             ]
            ],
            "type": "histogram2d"
           }
          ],
          "histogram2dcontour": [
           {
            "colorbar": {
             "outlinewidth": 1,
             "tickcolor": "rgb(36,36,36)",
             "ticks": "outside"
            },
            "colorscale": [
             [
              0.0,
              "#440154"
             ],
             [
              0.1111111111111111,
              "#482878"
             ],
             [
              0.2222222222222222,
              "#3e4989"
             ],
             [
              0.3333333333333333,
              "#31688e"
             ],
             [
              0.4444444444444444,
              "#26828e"
             ],
             [
              0.5555555555555556,
              "#1f9e89"
             ],
             [
              0.6666666666666666,
              "#35b779"
             ],
             [
              0.7777777777777778,
              "#6ece58"
             ],
             [
              0.8888888888888888,
              "#b5de2b"
             ],
             [
              1.0,
              "#fde725"
             ]
            ],
            "type": "histogram2dcontour"
           }
          ],
          "mesh3d": [
           {
            "colorbar": {
             "outlinewidth": 1,
             "tickcolor": "rgb(36,36,36)",
             "ticks": "outside"
            },
            "type": "mesh3d"
           }
          ],
          "parcoords": [
           {
            "line": {
             "colorbar": {
              "outlinewidth": 1,
              "tickcolor": "rgb(36,36,36)",
              "ticks": "outside"
             }
            },
            "type": "parcoords"
           }
          ],
          "pie": [
           {
            "automargin": true,
            "type": "pie"
           }
          ],
          "scatter": [
           {
            "fillpattern": {
             "fillmode": "overlay",
             "size": 10,
             "solidity": 0.2
            },
            "type": "scatter"
           }
          ],
          "scatter3d": [
           {
            "line": {
             "colorbar": {
              "outlinewidth": 1,
              "tickcolor": "rgb(36,36,36)",
              "ticks": "outside"
             }
            },
            "marker": {
             "colorbar": {
              "outlinewidth": 1,
              "tickcolor": "rgb(36,36,36)",
              "ticks": "outside"
             }
            },
            "type": "scatter3d"
           }
          ],
          "scattercarpet": [
           {
            "marker": {
             "colorbar": {
              "outlinewidth": 1,
              "tickcolor": "rgb(36,36,36)",
              "ticks": "outside"
             }
            },
            "type": "scattercarpet"
           }
          ],
          "scattergeo": [
           {
            "marker": {
             "colorbar": {
              "outlinewidth": 1,
              "tickcolor": "rgb(36,36,36)",
              "ticks": "outside"
             }
            },
            "type": "scattergeo"
           }
          ],
          "scattergl": [
           {
            "marker": {
             "colorbar": {
              "outlinewidth": 1,
              "tickcolor": "rgb(36,36,36)",
              "ticks": "outside"
             }
            },
            "type": "scattergl"
           }
          ],
          "scattermapbox": [
           {
            "marker": {
             "colorbar": {
              "outlinewidth": 1,
              "tickcolor": "rgb(36,36,36)",
              "ticks": "outside"
             }
            },
            "type": "scattermapbox"
           }
          ],
          "scatterpolar": [
           {
            "marker": {
             "colorbar": {
              "outlinewidth": 1,
              "tickcolor": "rgb(36,36,36)",
              "ticks": "outside"
             }
            },
            "type": "scatterpolar"
           }
          ],
          "scatterpolargl": [
           {
            "marker": {
             "colorbar": {
              "outlinewidth": 1,
              "tickcolor": "rgb(36,36,36)",
              "ticks": "outside"
             }
            },
            "type": "scatterpolargl"
           }
          ],
          "scatterternary": [
           {
            "marker": {
             "colorbar": {
              "outlinewidth": 1,
              "tickcolor": "rgb(36,36,36)",
              "ticks": "outside"
             }
            },
            "type": "scatterternary"
           }
          ],
          "surface": [
           {
            "colorbar": {
             "outlinewidth": 1,
             "tickcolor": "rgb(36,36,36)",
             "ticks": "outside"
            },
            "colorscale": [
             [
              0.0,
              "#440154"
             ],
             [
              0.1111111111111111,
              "#482878"
             ],
             [
              0.2222222222222222,
              "#3e4989"
             ],
             [
              0.3333333333333333,
              "#31688e"
             ],
             [
              0.4444444444444444,
              "#26828e"
             ],
             [
              0.5555555555555556,
              "#1f9e89"
             ],
             [
              0.6666666666666666,
              "#35b779"
             ],
             [
              0.7777777777777778,
              "#6ece58"
             ],
             [
              0.8888888888888888,
              "#b5de2b"
             ],
             [
              1.0,
              "#fde725"
             ]
            ],
            "type": "surface"
           }
          ],
          "table": [
           {
            "cells": {
             "fill": {
              "color": "rgb(237,237,237)"
             },
             "line": {
              "color": "white"
             }
            },
            "header": {
             "fill": {
              "color": "rgb(217,217,217)"
             },
             "line": {
              "color": "white"
             }
            },
            "type": "table"
           }
          ]
         },
         "layout": {
          "annotationdefaults": {
           "arrowhead": 0,
           "arrowwidth": 1
          },
          "autotypenumbers": "strict",
          "coloraxis": {
           "colorbar": {
            "outlinewidth": 1,
            "tickcolor": "rgb(36,36,36)",
            "ticks": "outside"
           }
          },
          "colorscale": {
           "diverging": [
            [
             0.0,
             "rgb(103,0,31)"
            ],
            [
             0.1,
             "rgb(178,24,43)"
            ],
            [
             0.2,
             "rgb(214,96,77)"
            ],
            [
             0.3,
             "rgb(244,165,130)"
            ],
            [
             0.4,
             "rgb(253,219,199)"
            ],
            [
             0.5,
             "rgb(247,247,247)"
            ],
            [
             0.6,
             "rgb(209,229,240)"
            ],
            [
             0.7,
             "rgb(146,197,222)"
            ],
            [
             0.8,
             "rgb(67,147,195)"
            ],
            [
             0.9,
             "rgb(33,102,172)"
            ],
            [
             1.0,
             "rgb(5,48,97)"
            ]
           ],
           "sequential": [
            [
             0.0,
             "#440154"
            ],
            [
             0.1111111111111111,
             "#482878"
            ],
            [
             0.2222222222222222,
             "#3e4989"
            ],
            [
             0.3333333333333333,
             "#31688e"
            ],
            [
             0.4444444444444444,
             "#26828e"
            ],
            [
             0.5555555555555556,
             "#1f9e89"
            ],
            [
             0.6666666666666666,
             "#35b779"
            ],
            [
             0.7777777777777778,
             "#6ece58"
            ],
            [
             0.8888888888888888,
             "#b5de2b"
            ],
            [
             1.0,
             "#fde725"
            ]
           ],
           "sequentialminus": [
            [
             0.0,
             "#440154"
            ],
            [
             0.1111111111111111,
             "#482878"
            ],
            [
             0.2222222222222222,
             "#3e4989"
            ],
            [
             0.3333333333333333,
             "#31688e"
            ],
            [
             0.4444444444444444,
             "#26828e"
            ],
            [
             0.5555555555555556,
             "#1f9e89"
            ],
            [
             0.6666666666666666,
             "#35b779"
            ],
            [
             0.7777777777777778,
             "#6ece58"
            ],
            [
             0.8888888888888888,
             "#b5de2b"
            ],
            [
             1.0,
             "#fde725"
            ]
           ]
          },
          "colorway": [
           "#91268F",
           "#8CC63E",
           "#00A7A0",
           "#F05A28",
           "#4C4C4C",
           "#630460",
           "#9f3913",
           "#588527",
           "#00716c",
           "#3e4040"
          ],
          "font": {
           "color": "rgb(36,36,36)",
           "family": "Poppins",
           "size": 11
          },
          "geo": {
           "bgcolor": "white",
           "lakecolor": "white",
           "landcolor": "white",
           "showlakes": true,
           "showland": true,
           "subunitcolor": "white"
          },
          "hoverlabel": {
           "align": "left"
          },
          "hovermode": "closest",
          "mapbox": {
           "style": "light"
          },
          "paper_bgcolor": "white",
          "plot_bgcolor": "white",
          "polar": {
           "angularaxis": {
            "gridcolor": "rgb(232,232,232)",
            "linecolor": "rgb(36,36,36)",
            "showgrid": false,
            "showline": true,
            "ticks": "outside"
           },
           "bgcolor": "white",
           "radialaxis": {
            "gridcolor": "rgb(232,232,232)",
            "linecolor": "rgb(36,36,36)",
            "showgrid": false,
            "showline": true,
            "ticks": "outside"
           }
          },
          "scene": {
           "xaxis": {
            "backgroundcolor": "white",
            "gridcolor": "rgb(232,232,232)",
            "gridwidth": 2,
            "linecolor": "rgb(36,36,36)",
            "showbackground": true,
            "showgrid": false,
            "showline": true,
            "ticks": "outside",
            "zeroline": false,
            "zerolinecolor": "rgb(36,36,36)"
           },
           "yaxis": {
            "backgroundcolor": "white",
            "gridcolor": "rgb(232,232,232)",
            "gridwidth": 2,
            "linecolor": "rgb(36,36,36)",
            "showbackground": true,
            "showgrid": false,
            "showline": true,
            "ticks": "outside",
            "zeroline": false,
            "zerolinecolor": "rgb(36,36,36)"
           },
           "zaxis": {
            "backgroundcolor": "white",
            "gridcolor": "rgb(232,232,232)",
            "gridwidth": 2,
            "linecolor": "rgb(36,36,36)",
            "showbackground": true,
            "showgrid": false,
            "showline": true,
            "ticks": "outside",
            "zeroline": false,
            "zerolinecolor": "rgb(36,36,36)"
           }
          },
          "shapedefaults": {
           "fillcolor": "black",
           "line": {
            "width": 0
           },
           "opacity": 0.3
          },
          "ternary": {
           "aaxis": {
            "gridcolor": "rgb(232,232,232)",
            "linecolor": "rgb(36,36,36)",
            "showgrid": false,
            "showline": true,
            "ticks": "outside"
           },
           "baxis": {
            "gridcolor": "rgb(232,232,232)",
            "linecolor": "rgb(36,36,36)",
            "showgrid": false,
            "showline": true,
            "ticks": "outside"
           },
           "bgcolor": "white",
           "caxis": {
            "gridcolor": "rgb(232,232,232)",
            "linecolor": "rgb(36,36,36)",
            "showgrid": false,
            "showline": true,
            "ticks": "outside"
           }
          },
          "title": {
           "x": 0.05
          },
          "xaxis": {
           "automargin": true,
           "gridcolor": "rgb(232,232,232)",
           "linecolor": "rgb(36,36,36)",
           "showgrid": false,
           "showline": true,
           "ticks": "outside",
           "title": {
            "standoff": 15
           },
           "zeroline": false,
           "zerolinecolor": "rgb(36,36,36)"
          },
          "yaxis": {
           "automargin": true,
           "gridcolor": "rgb(232,232,232)",
           "linecolor": "rgb(36,36,36)",
           "showgrid": false,
           "showline": true,
           "ticks": "outside",
           "title": {
            "standoff": 15
           },
           "zeroline": false,
           "zerolinecolor": "rgb(36,36,36)"
          }
         }
        },
        "title": {
         "text": "other home-based tour mode choice by person type"
        },
        "width": 800,
        "xaxis": {
         "anchor": "y",
         "domain": [
          0.0,
          0.49
         ],
         "tickformat": ".1%",
         "title": {
          "text": "percentage"
         }
        },
        "xaxis2": {
         "anchor": "y2",
         "domain": [
          0.51,
          1.0
         ],
         "matches": "x",
         "tickformat": ".1%",
         "title": {
          "text": "percentage"
         }
        },
        "xaxis3": {
         "anchor": "y3",
         "domain": [
          0.0,
          0.49
         ],
         "matches": "x",
         "showticklabels": false,
         "tickformat": ".1%"
        },
        "xaxis4": {
         "anchor": "y4",
         "domain": [
          0.51,
          1.0
         ],
         "matches": "x",
         "showticklabels": false,
         "tickformat": ".1%"
        },
        "xaxis5": {
         "anchor": "y5",
         "domain": [
          0.0,
          0.49
         ],
         "matches": "x",
         "showticklabels": false,
         "tickformat": ".1%"
        },
        "xaxis6": {
         "anchor": "y6",
         "domain": [
          0.51,
          1.0
         ],
         "matches": "x",
         "showticklabels": false,
         "tickformat": ".1%"
        },
        "xaxis7": {
         "anchor": "y7",
         "domain": [
          0.0,
          0.49
         ],
         "matches": "x",
         "showticklabels": false,
         "tickformat": ".1%"
        },
        "xaxis8": {
         "anchor": "y8",
         "domain": [
          0.51,
          1.0
         ],
         "matches": "x",
         "showticklabels": false,
         "tickformat": ".1%"
        },
        "yaxis": {
         "anchor": "x",
         "categoryarray": [
          "9: other–survey only",
          "8: school bus",
          "7: park-and-ride",
          "6: walk to transit",
          "5: hov 3+",
          "4: hov 2",
          "3: sov",
          "2: bike",
          "1: walk"
         ],
         "categoryorder": "array",
         "domain": [
          0.0,
          0.1975
         ],
         "title": {
          "text": "tmodetp_label"
         }
        },
        "yaxis2": {
         "anchor": "x2",
         "domain": [
          0.0,
          0.1975
         ],
         "matches": "y",
         "showticklabels": false
        },
        "yaxis3": {
         "anchor": "x3",
         "categoryarray": [
          "9: other–survey only",
          "8: school bus",
          "7: park-and-ride",
          "6: walk to transit",
          "5: hov 3+",
          "4: hov 2",
          "3: sov",
          "2: bike",
          "1: walk"
         ],
         "categoryorder": "array",
         "domain": [
          0.2675,
          0.465
         ],
         "matches": "y",
         "title": {
          "text": "tmodetp_label"
         }
        },
        "yaxis4": {
         "anchor": "x4",
         "domain": [
          0.2675,
          0.465
         ],
         "matches": "y",
         "showticklabels": false
        },
        "yaxis5": {
         "anchor": "x5",
         "categoryarray": [
          "9: other–survey only",
          "8: school bus",
          "7: park-and-ride",
          "6: walk to transit",
          "5: hov 3+",
          "4: hov 2",
          "3: sov",
          "2: bike",
          "1: walk"
         ],
         "categoryorder": "array",
         "domain": [
          0.535,
          0.7325
         ],
         "matches": "y",
         "title": {
          "text": "tmodetp_label"
         }
        },
        "yaxis6": {
         "anchor": "x6",
         "domain": [
          0.535,
          0.7325
         ],
         "matches": "y",
         "showticklabels": false
        },
        "yaxis7": {
         "anchor": "x7",
         "categoryarray": [
          "9: other–survey only",
          "8: school bus",
          "7: park-and-ride",
          "6: walk to transit",
          "5: hov 3+",
          "4: hov 2",
          "3: sov",
          "2: bike",
          "1: walk"
         ],
         "categoryorder": "array",
         "domain": [
          0.8025,
          1.0
         ],
         "matches": "y",
         "title": {
          "text": "tmodetp_label"
         }
        },
        "yaxis8": {
         "anchor": "x8",
         "domain": [
          0.8025,
          1.0
         ],
         "matches": "y",
         "showticklabels": false
        }
       }
      },
      "text/html": [
       "<div>                            <div id=\"a7eb84c0-59ad-4fdd-9d8a-583d6fdc5e80\" class=\"plotly-graph-div\" style=\"height:1000px; width:800px;\"></div>            <script type=\"text/javascript\">                require([\"plotly\"], function(Plotly) {                    window.PLOTLYENV=window.PLOTLYENV || {};                                    if (document.getElementById(\"a7eb84c0-59ad-4fdd-9d8a-583d6fdc5e80\")) {                    Plotly.newPlot(                        \"a7eb84c0-59ad-4fdd-9d8a-583d6fdc5e80\",                        [{\"alignmentgroup\":\"True\",\"customdata\":[[115357],[14347],[297954],[123023],[154849],[23603],[1425]],\"hovertemplate\":\"source=model\\u003cbr\\u003epptyp_label=full time worker\\u003cbr\\u003epercentage=%{x}\\u003cbr\\u003etmodetp_label=%{y}\\u003cbr\\u003esample count=%{customdata[0]}\\u003cextra\\u003e\\u003c\\u002fextra\\u003e\",\"legendgroup\":\"model\",\"marker\":{\"color\":\"#91268F\",\"pattern\":{\"shape\":\"\"}},\"name\":\"model\",\"offsetgroup\":\"model\",\"orientation\":\"h\",\"showlegend\":true,\"textposition\":\"auto\",\"x\":[0.1579025895274571,0.01963841337717197,0.40784441481716716,0.16839593844705006,0.2119598991455846,0.03230818086996515,0.001950563815603963],\"xaxis\":\"x7\",\"y\":[\"1: walk\",\"2: bike\",\"3: sov\",\"4: hov 2\",\"5: hov 3+\",\"6: walk to transit\",\"9: tnc\"],\"yaxis\":\"y7\",\"type\":\"bar\"},{\"alignmentgroup\":\"True\",\"customdata\":[[44564],[4794],[122082],[50103],[69363],[9245],[706]],\"hovertemplate\":\"source=model\\u003cbr\\u003epptyp_label=part time worker\\u003cbr\\u003epercentage=%{x}\\u003cbr\\u003etmodetp_label=%{y}\\u003cbr\\u003esample count=%{customdata[0]}\\u003cextra\\u003e\\u003c\\u002fextra\\u003e\",\"legendgroup\":\"model\",\"marker\":{\"color\":\"#91268F\",\"pattern\":{\"shape\":\"\"}},\"name\":\"model\",\"offsetgroup\":\"model\",\"orientation\":\"h\",\"showlegend\":false,\"textposition\":\"auto\",\"x\":[0.14812352712418192,0.01593448050070299,0.40578081945907857,0.16653426711028826,0.23055139152487727,0.030728884486649805,0.0023466297942211748],\"xaxis\":\"x8\",\"y\":[\"1: walk\",\"2: bike\",\"3: sov\",\"4: hov 2\",\"5: hov 3+\",\"6: walk to transit\",\"9: tnc\"],\"yaxis\":\"y8\",\"type\":\"bar\"},{\"alignmentgroup\":\"True\",\"customdata\":[[68970],[5690],[240614],[132782],[81981],[28441],[2466]],\"hovertemplate\":\"source=model\\u003cbr\\u003epptyp_label=non-worker age 65+\\u003cbr\\u003epercentage=%{x}\\u003cbr\\u003etmodetp_label=%{y}\\u003cbr\\u003esample count=%{customdata[0]}\\u003cextra\\u003e\\u003c\\u002fextra\\u003e\",\"legendgroup\":\"model\",\"marker\":{\"color\":\"#91268F\",\"pattern\":{\"shape\":\"\"}},\"name\":\"model\",\"offsetgroup\":\"model\",\"orientation\":\"h\",\"showlegend\":false,\"textposition\":\"auto\",\"x\":[0.12295344989874211,0.010143615048917538,0.428944778801449,0.23671168601500328,0.14614827861604723,0.05070203086226076,0.004396160757580079],\"xaxis\":\"x5\",\"y\":[\"1: walk\",\"2: bike\",\"3: sov\",\"4: hov 2\",\"5: hov 3+\",\"6: walk to transit\",\"9: tnc\"],\"yaxis\":\"y5\",\"type\":\"bar\"},{\"alignmentgroup\":\"True\",\"customdata\":[[84636],[9278],[215335],[148048],[210174],[22476],[1464]],\"hovertemplate\":\"source=model\\u003cbr\\u003epptyp_label=other non-working adult\\u003cbr\\u003epercentage=%{x}\\u003cbr\\u003etmodetp_label=%{y}\\u003cbr\\u003esample count=%{customdata[0]}\\u003cextra\\u003e\\u003c\\u002fextra\\u003e\",\"legendgroup\":\"model\",\"marker\":{\"color\":\"#91268F\",\"pattern\":{\"shape\":\"\"}},\"name\":\"model\",\"offsetgroup\":\"model\",\"orientation\":\"h\",\"showlegend\":false,\"textposition\":\"auto\",\"x\":[0.12241054886312193,0.013418936059738708,0.3114428321215601,0.21412444985688686,0.3039783862275839,0.03250743768901565,0.0021174091820928506],\"xaxis\":\"x6\",\"y\":[\"1: walk\",\"2: bike\",\"3: sov\",\"4: hov 2\",\"5: hov 3+\",\"6: walk to transit\",\"9: tnc\"],\"yaxis\":\"y6\",\"type\":\"bar\"},{\"alignmentgroup\":\"True\",\"customdata\":[[9377],[1310],[16198],[10292],[17468],[2332],[115]],\"hovertemplate\":\"source=model\\u003cbr\\u003epptyp_label=university student\\u003cbr\\u003epercentage=%{x}\\u003cbr\\u003etmodetp_label=%{y}\\u003cbr\\u003esample count=%{customdata[0]}\\u003cextra\\u003e\\u003c\\u002fextra\\u003e\",\"legendgroup\":\"model\",\"marker\":{\"color\":\"#91268F\",\"pattern\":{\"shape\":\"\"}},\"name\":\"model\",\"offsetgroup\":\"model\",\"orientation\":\"h\",\"showlegend\":false,\"textposition\":\"auto\",\"x\":[0.16424367687241645,0.02294542142506831,0.28371750858263856,0.18027044069221607,0.3059623064527429,0.040846353254396416,0.0020142927205212637],\"xaxis\":\"x3\",\"y\":[\"1: walk\",\"2: bike\",\"3: sov\",\"4: hov 2\",\"5: hov 3+\",\"6: walk to transit\",\"9: tnc\"],\"yaxis\":\"y3\",\"type\":\"bar\"},{\"alignmentgroup\":\"True\",\"customdata\":[[14675],[1923],[35423],[26404],[60362],[3472],[197]],\"hovertemplate\":\"source=model\\u003cbr\\u003epptyp_label=grade school student\\u002fchild age 16+\\u003cbr\\u003epercentage=%{x}\\u003cbr\\u003etmodetp_label=%{y}\\u003cbr\\u003esample count=%{customdata[0]}\\u003cextra\\u003e\\u003c\\u002fextra\\u003e\",\"legendgroup\":\"model\",\"marker\":{\"color\":\"#91268F\",\"pattern\":{\"shape\":\"\"}},\"name\":\"model\",\"offsetgroup\":\"model\",\"orientation\":\"h\",\"showlegend\":false,\"textposition\":\"auto\",\"x\":[0.10301426405346212,0.013498904925029483,0.24865923513225135,0.18534845847138764,0.42372381647666646,0.024372437805357444,0.0013828831358454541],\"xaxis\":\"x4\",\"y\":[\"1: walk\",\"2: bike\",\"3: sov\",\"4: hov 2\",\"5: hov 3+\",\"6: walk to transit\",\"9: tnc\"],\"yaxis\":\"y4\",\"type\":\"bar\"},{\"alignmentgroup\":\"True\",\"customdata\":[[17722],[3074],[30806],[72487],[2466],[151]],\"hovertemplate\":\"source=model\\u003cbr\\u003epptyp_label=child age 5-15\\u003cbr\\u003epercentage=%{x}\\u003cbr\\u003etmodetp_label=%{y}\\u003cbr\\u003esample count=%{customdata[0]}\\u003cextra\\u003e\\u003c\\u002fextra\\u003e\",\"legendgroup\":\"model\",\"marker\":{\"color\":\"#91268F\",\"pattern\":{\"shape\":\"\"}},\"name\":\"model\",\"offsetgroup\":\"model\",\"orientation\":\"h\",\"showlegend\":false,\"textposition\":\"auto\",\"x\":[0.13986709390241978,0.02426088740864679,0.24312976496772054,0.5720881410509369,0.019462377472258614,0.0011917351980174577],\"xaxis\":\"x\",\"y\":[\"1: walk\",\"2: bike\",\"4: hov 2\",\"5: hov 3+\",\"6: walk to transit\",\"9: tnc\"],\"yaxis\":\"y\",\"type\":\"bar\"},{\"alignmentgroup\":\"True\",\"customdata\":[[17070],[2695],[36020],[86854],[3402],[177]],\"hovertemplate\":\"source=model\\u003cbr\\u003epptyp_label=child age 0-4\\u003cbr\\u003epercentage=%{x}\\u003cbr\\u003etmodetp_label=%{y}\\u003cbr\\u003esample count=%{customdata[0]}\\u003cextra\\u003e\\u003c\\u002fextra\\u003e\",\"legendgroup\":\"model\",\"marker\":{\"color\":\"#91268F\",\"pattern\":{\"shape\":\"\"}},\"name\":\"model\",\"offsetgroup\":\"model\",\"orientation\":\"h\",\"showlegend\":false,\"textposition\":\"auto\",\"x\":[0.11674349259325117,0.018431383277024718,0.24634449930925056,0.5940034742644544,0.02326662927956886,0.0012105212764502318],\"xaxis\":\"x2\",\"y\":[\"1: walk\",\"2: bike\",\"4: hov 2\",\"5: hov 3+\",\"6: walk to transit\",\"9: tnc\"],\"yaxis\":\"y2\",\"type\":\"bar\"},{\"alignmentgroup\":\"True\",\"customdata\":[[459],[52],[448],[262],[145],[44],[2],[13]],\"hovertemplate\":\"source=survey (update)\\u003cbr\\u003epptyp_label=full time worker\\u003cbr\\u003epercentage=%{x}\\u003cbr\\u003etmodetp_label=%{y}\\u003cbr\\u003esample count=%{customdata[0]}\\u003cextra\\u003e\\u003c\\u002fextra\\u003e\",\"legendgroup\":\"survey (update)\",\"marker\":{\"color\":\"#8CC63E\",\"pattern\":{\"shape\":\"\"}},\"name\":\"survey (update)\",\"offsetgroup\":\"survey (update)\",\"orientation\":\"h\",\"showlegend\":true,\"textposition\":\"auto\",\"x\":[0.1875121787969276,0.023603876689641135,0.35570823339610413,0.2693073352051533,0.14912159989961815,0.009958457469843909,0.00032140265756434123,0.00446691588514751],\"xaxis\":\"x7\",\"y\":[\"1: walk\",\"2: bike\",\"3: sov\",\"4: hov 2\",\"5: hov 3+\",\"6: walk to transit\",\"7: park-and-ride\",\"9: tnc\"],\"yaxis\":\"y7\",\"type\":\"bar\"},{\"alignmentgroup\":\"True\",\"customdata\":[[80],[11],[151],[75],[47],[25],[2]],\"hovertemplate\":\"source=survey (update)\\u003cbr\\u003epptyp_label=part time worker\\u003cbr\\u003epercentage=%{x}\\u003cbr\\u003etmodetp_label=%{y}\\u003cbr\\u003esample count=%{customdata[0]}\\u003cextra\\u003e\\u003c\\u002fextra\\u003e\",\"legendgroup\":\"survey (update)\",\"marker\":{\"color\":\"#8CC63E\",\"pattern\":{\"shape\":\"\"}},\"name\":\"survey (update)\",\"offsetgroup\":\"survey (update)\",\"orientation\":\"h\",\"showlegend\":false,\"textposition\":\"auto\",\"x\":[0.1286926674974209,0.004935973646240447,0.33269630465563377,0.26020718559231804,0.2127991587345443,0.06001846735987974,0.0006502425139626876],\"xaxis\":\"x8\",\"y\":[\"1: walk\",\"2: bike\",\"3: sov\",\"4: hov 2\",\"5: hov 3+\",\"6: walk to transit\",\"9: tnc\"],\"yaxis\":\"y8\",\"type\":\"bar\"},{\"alignmentgroup\":\"True\",\"customdata\":[[159],[11],[428],[254],[56],[55],[4],[1]],\"hovertemplate\":\"source=survey (update)\\u003cbr\\u003epptyp_label=non-worker age 65+\\u003cbr\\u003epercentage=%{x}\\u003cbr\\u003etmodetp_label=%{y}\\u003cbr\\u003esample count=%{customdata[0]}\\u003cextra\\u003e\\u003c\\u002fextra\\u003e\",\"legendgroup\":\"survey (update)\",\"marker\":{\"color\":\"#8CC63E\",\"pattern\":{\"shape\":\"\"}},\"name\":\"survey (update)\",\"offsetgroup\":\"survey (update)\",\"orientation\":\"h\",\"showlegend\":false,\"textposition\":\"auto\",\"x\":[0.11248383914541779,0.003647528704978773,0.5409732856352428,0.2278081602696449,0.0343406666769574,0.07991903290257545,0.0006761873298499009,0.0001512993353329479],\"xaxis\":\"x5\",\"y\":[\"1: walk\",\"2: bike\",\"3: sov\",\"4: hov 2\",\"5: hov 3+\",\"6: walk to transit\",\"7: park-and-ride\",\"9: tnc\"],\"yaxis\":\"y5\",\"type\":\"bar\"},{\"alignmentgroup\":\"True\",\"customdata\":[[187],[22],[324],[194],[110],[64],[5],[7]],\"hovertemplate\":\"source=survey (update)\\u003cbr\\u003epptyp_label=other non-working adult\\u003cbr\\u003epercentage=%{x}\\u003cbr\\u003etmodetp_label=%{y}\\u003cbr\\u003esample count=%{customdata[0]}\\u003cextra\\u003e\\u003c\\u002fextra\\u003e\",\"legendgroup\":\"survey (update)\",\"marker\":{\"color\":\"#8CC63E\",\"pattern\":{\"shape\":\"\"}},\"name\":\"survey (update)\",\"offsetgroup\":\"survey (update)\",\"orientation\":\"h\",\"showlegend\":false,\"textposition\":\"auto\",\"x\":[0.14533235351496546,0.005416024324121486,0.34437233224652647,0.2695730999513043,0.1530685273412635,0.06986869538216871,0.0053055128842187296,0.007063454355431341],\"xaxis\":\"x6\",\"y\":[\"1: walk\",\"2: bike\",\"3: sov\",\"4: hov 2\",\"5: hov 3+\",\"6: walk to transit\",\"7: park-and-ride\",\"9: tnc\"],\"yaxis\":\"y6\",\"type\":\"bar\"},{\"alignmentgroup\":\"True\",\"customdata\":[[39],[5],[27],[15],[4],[10],[3],[1]],\"hovertemplate\":\"source=survey (update)\\u003cbr\\u003epptyp_label=university student\\u003cbr\\u003epercentage=%{x}\\u003cbr\\u003etmodetp_label=%{y}\\u003cbr\\u003esample count=%{customdata[0]}\\u003cextra\\u003e\\u003c\\u002fextra\\u003e\",\"legendgroup\":\"survey (update)\",\"marker\":{\"color\":\"#8CC63E\",\"pattern\":{\"shape\":\"\"}},\"name\":\"survey (update)\",\"offsetgroup\":\"survey (update)\",\"orientation\":\"h\",\"showlegend\":false,\"textposition\":\"auto\",\"x\":[0.16406795627540335,0.008494814678691282,0.29729506004835493,0.265685804282686,0.022789938591650433,0.13002774063446598,0.07834792147374751,0.03329076401500049],\"xaxis\":\"x3\",\"y\":[\"1: walk\",\"2: bike\",\"3: sov\",\"4: hov 2\",\"5: hov 3+\",\"6: walk to transit\",\"7: park-and-ride\",\"9: tnc\"],\"yaxis\":\"y3\",\"type\":\"bar\"},{\"alignmentgroup\":\"True\",\"customdata\":[[5],[3],[17],[10],[15],[2]],\"hovertemplate\":\"source=survey (update)\\u003cbr\\u003epptyp_label=grade school student\\u002fchild age 16+\\u003cbr\\u003epercentage=%{x}\\u003cbr\\u003etmodetp_label=%{y}\\u003cbr\\u003esample count=%{customdata[0]}\\u003cextra\\u003e\\u003c\\u002fextra\\u003e\",\"legendgroup\":\"survey (update)\",\"marker\":{\"color\":\"#8CC63E\",\"pattern\":{\"shape\":\"\"}},\"name\":\"survey (update)\",\"offsetgroup\":\"survey (update)\",\"orientation\":\"h\",\"showlegend\":false,\"textposition\":\"auto\",\"x\":[0.03245368005571934,0.004677825629033364,0.47586562518318665,0.24188348824616057,0.16083391420532483,0.08428546668057527],\"xaxis\":\"x4\",\"y\":[\"1: walk\",\"2: bike\",\"3: sov\",\"4: hov 2\",\"5: hov 3+\",\"6: walk to transit\"],\"yaxis\":\"y4\",\"type\":\"bar\"},{\"alignmentgroup\":\"True\",\"customdata\":[[9],[4],[1],[43],[107],[5],[1]],\"hovertemplate\":\"source=survey (update)\\u003cbr\\u003epptyp_label=child age 5-15\\u003cbr\\u003epercentage=%{x}\\u003cbr\\u003etmodetp_label=%{y}\\u003cbr\\u003esample count=%{customdata[0]}\\u003cextra\\u003e\\u003c\\u002fextra\\u003e\",\"legendgroup\":\"survey (update)\",\"marker\":{\"color\":\"#8CC63E\",\"pattern\":{\"shape\":\"\"}},\"name\":\"survey (update)\",\"offsetgroup\":\"survey (update)\",\"orientation\":\"h\",\"showlegend\":false,\"textposition\":\"auto\",\"x\":[0.01466440532906896,0.03417558784432854,0.0008274075850573912,0.2517930894431871,0.5501653020385332,0.13632664030263342,0.012047567457191617],\"xaxis\":\"x\",\"y\":[\"1: walk\",\"2: bike\",\"3: sov\",\"4: hov 2\",\"5: hov 3+\",\"6: walk to transit\",\"7: park-and-ride\"],\"yaxis\":\"y\",\"type\":\"bar\"},{\"alignmentgroup\":\"True\",\"customdata\":[[26],[20],[74],[1],[1]],\"hovertemplate\":\"source=survey (update)\\u003cbr\\u003epptyp_label=child age 0-4\\u003cbr\\u003epercentage=%{x}\\u003cbr\\u003etmodetp_label=%{y}\\u003cbr\\u003esample count=%{customdata[0]}\\u003cextra\\u003e\\u003c\\u002fextra\\u003e\",\"legendgroup\":\"survey (update)\",\"marker\":{\"color\":\"#8CC63E\",\"pattern\":{\"shape\":\"\"}},\"name\":\"survey (update)\",\"offsetgroup\":\"survey (update)\",\"orientation\":\"h\",\"showlegend\":false,\"textposition\":\"auto\",\"x\":[0.09553052004604247,0.20223154632774734,0.6552889085337609,0.04665722815287855,0.0002917969395708433],\"xaxis\":\"x2\",\"y\":[\"1: walk\",\"4: hov 2\",\"5: hov 3+\",\"6: walk to transit\",\"7: park-and-ride\"],\"yaxis\":\"y2\",\"type\":\"bar\"},{\"alignmentgroup\":\"True\",\"customdata\":[[434],[49],[419],[250],[130],[44],[2],[12]],\"hovertemplate\":\"source=survey\\u003cbr\\u003epptyp_label=full time worker\\u003cbr\\u003epercentage=%{x}\\u003cbr\\u003etmodetp_label=%{y}\\u003cbr\\u003esample count=%{customdata[0]}\\u003cextra\\u003e\\u003c\\u002fextra\\u003e\",\"legendgroup\":\"survey\",\"marker\":{\"color\":\"#00A7A0\",\"pattern\":{\"shape\":\"\"}},\"name\":\"survey\",\"offsetgroup\":\"survey\",\"orientation\":\"h\",\"showlegend\":true,\"textposition\":\"auto\",\"x\":[0.19115087362703218,0.01354618625191266,0.3330609826628868,0.20164777923102545,0.24138824353987254,0.013437378924446838,0.0002852213557650497,0.005483334407058301],\"xaxis\":\"x7\",\"y\":[\"1: walk\",\"2: bike\",\"3: sov\",\"4: hov 2\",\"5: hov 3+\",\"6: walk to transit\",\"7: park-and-ride\",\"9: tnc\"],\"yaxis\":\"y7\",\"type\":\"bar\"},{\"alignmentgroup\":\"True\",\"customdata\":[[73],[13],[142],[67],[42],[25]],\"hovertemplate\":\"source=survey\\u003cbr\\u003epptyp_label=part time worker\\u003cbr\\u003epercentage=%{x}\\u003cbr\\u003etmodetp_label=%{y}\\u003cbr\\u003esample count=%{customdata[0]}\\u003cextra\\u003e\\u003c\\u002fextra\\u003e\",\"legendgroup\":\"survey\",\"marker\":{\"color\":\"#00A7A0\",\"pattern\":{\"shape\":\"\"}},\"name\":\"survey\",\"offsetgroup\":\"survey\",\"orientation\":\"h\",\"showlegend\":false,\"textposition\":\"auto\",\"x\":[0.07712632091713492,0.00978495089631463,0.4368532630207285,0.18577152435956604,0.2457312843063532,0.04473265649990268],\"xaxis\":\"x8\",\"y\":[\"1: walk\",\"2: bike\",\"3: sov\",\"4: hov 2\",\"5: hov 3+\",\"6: walk to transit\"],\"yaxis\":\"y8\",\"type\":\"bar\"},{\"alignmentgroup\":\"True\",\"customdata\":[[150],[22],[410],[246],[52],[57],[4],[1]],\"hovertemplate\":\"source=survey\\u003cbr\\u003epptyp_label=non-worker age 65+\\u003cbr\\u003epercentage=%{x}\\u003cbr\\u003etmodetp_label=%{y}\\u003cbr\\u003esample count=%{customdata[0]}\\u003cextra\\u003e\\u003c\\u002fextra\\u003e\",\"legendgroup\":\"survey\",\"marker\":{\"color\":\"#00A7A0\",\"pattern\":{\"shape\":\"\"}},\"name\":\"survey\",\"offsetgroup\":\"survey\",\"orientation\":\"h\",\"showlegend\":false,\"textposition\":\"auto\",\"x\":[0.10550262454065089,0.03785228501069938,0.4585289818878797,0.26277773570980834,0.06110844549053985,0.07327239359223309,0.0006387734795733357,0.0003187602886153449],\"xaxis\":\"x5\",\"y\":[\"1: walk\",\"2: bike\",\"3: sov\",\"4: hov 2\",\"5: hov 3+\",\"6: walk to transit\",\"7: park-and-ride\",\"9: tnc\"],\"yaxis\":\"y5\",\"type\":\"bar\"},{\"alignmentgroup\":\"True\",\"customdata\":[[175],[25],[311],[172],[102],[60],[5],[6]],\"hovertemplate\":\"source=survey\\u003cbr\\u003epptyp_label=other non-working adult\\u003cbr\\u003epercentage=%{x}\\u003cbr\\u003etmodetp_label=%{y}\\u003cbr\\u003esample count=%{customdata[0]}\\u003cextra\\u003e\\u003c\\u002fextra\\u003e\",\"legendgroup\":\"survey\",\"marker\":{\"color\":\"#00A7A0\",\"pattern\":{\"shape\":\"\"}},\"name\":\"survey\",\"offsetgroup\":\"survey\",\"orientation\":\"h\",\"showlegend\":false,\"textposition\":\"auto\",\"x\":[0.09939004416551603,0.008074889328983767,0.35071018681012456,0.19501361354629052,0.3065423799767603,0.02719115719414041,0.008626243544458746,0.004451485433725575],\"xaxis\":\"x6\",\"y\":[\"1: walk\",\"2: bike\",\"3: sov\",\"4: hov 2\",\"5: hov 3+\",\"6: walk to transit\",\"7: park-and-ride\",\"9: tnc\"],\"yaxis\":\"y6\",\"type\":\"bar\"},{\"alignmentgroup\":\"True\",\"customdata\":[[38],[4],[21],[12],[4],[7],[3]],\"hovertemplate\":\"source=survey\\u003cbr\\u003epptyp_label=university student\\u003cbr\\u003epercentage=%{x}\\u003cbr\\u003etmodetp_label=%{y}\\u003cbr\\u003esample count=%{customdata[0]}\\u003cextra\\u003e\\u003c\\u002fextra\\u003e\",\"legendgroup\":\"survey\",\"marker\":{\"color\":\"#00A7A0\",\"pattern\":{\"shape\":\"\"}},\"name\":\"survey\",\"offsetgroup\":\"survey\",\"orientation\":\"h\",\"showlegend\":false,\"textposition\":\"auto\",\"x\":[0.10688455981549914,0.0033977133113222164,0.27082520120736653,0.39401811023285255,0.0074622037355946405,0.019810795279935605,0.19760141641742932],\"xaxis\":\"x3\",\"y\":[\"1: walk\",\"2: bike\",\"3: sov\",\"4: hov 2\",\"5: hov 3+\",\"6: walk to transit\",\"7: park-and-ride\"],\"yaxis\":\"y3\",\"type\":\"bar\"},{\"alignmentgroup\":\"True\",\"customdata\":[[4],[2],[13],[9],[15],[2]],\"hovertemplate\":\"source=survey\\u003cbr\\u003epptyp_label=grade school student\\u002fchild age 16+\\u003cbr\\u003epercentage=%{x}\\u003cbr\\u003etmodetp_label=%{y}\\u003cbr\\u003esample count=%{customdata[0]}\\u003cextra\\u003e\\u003c\\u002fextra\\u003e\",\"legendgroup\":\"survey\",\"marker\":{\"color\":\"#00A7A0\",\"pattern\":{\"shape\":\"\"}},\"name\":\"survey\",\"offsetgroup\":\"survey\",\"orientation\":\"h\",\"showlegend\":false,\"textposition\":\"auto\",\"x\":[0.05383844784606842,0.02030867710538571,0.17711140968771238,0.1754062101913951,0.5280122429035797,0.045323012265858664],\"xaxis\":\"x4\",\"y\":[\"1: walk\",\"2: bike\",\"3: sov\",\"4: hov 2\",\"5: hov 3+\",\"6: walk to transit\"],\"yaxis\":\"y4\",\"type\":\"bar\"},{\"alignmentgroup\":\"True\",\"customdata\":[[8],[3],[1],[41],[96],[4],[1],[2]],\"hovertemplate\":\"source=survey\\u003cbr\\u003epptyp_label=child age 5-15\\u003cbr\\u003epercentage=%{x}\\u003cbr\\u003etmodetp_label=%{y}\\u003cbr\\u003esample count=%{customdata[0]}\\u003cextra\\u003e\\u003c\\u002fextra\\u003e\",\"legendgroup\":\"survey\",\"marker\":{\"color\":\"#00A7A0\",\"pattern\":{\"shape\":\"\"}},\"name\":\"survey\",\"offsetgroup\":\"survey\",\"orientation\":\"h\",\"showlegend\":false,\"textposition\":\"auto\",\"x\":[0.0253962720728709,0.0019264042661172823,0.02439810844906626,0.10348608418405983,0.7966676564394952,0.024403500246057912,0.023455015510207764,0.00026695883212489826],\"xaxis\":\"x\",\"y\":[\"1: walk\",\"2: bike\",\"3: sov\",\"4: hov 2\",\"5: hov 3+\",\"6: walk to transit\",\"7: park-and-ride\",\"8: school bus\"],\"yaxis\":\"y\",\"type\":\"bar\"},{\"alignmentgroup\":\"True\",\"customdata\":[[24],[14],[65],[1],[1]],\"hovertemplate\":\"source=survey\\u003cbr\\u003epptyp_label=child age 0-4\\u003cbr\\u003epercentage=%{x}\\u003cbr\\u003etmodetp_label=%{y}\\u003cbr\\u003esample count=%{customdata[0]}\\u003cextra\\u003e\\u003c\\u002fextra\\u003e\",\"legendgroup\":\"survey\",\"marker\":{\"color\":\"#00A7A0\",\"pattern\":{\"shape\":\"\"}},\"name\":\"survey\",\"offsetgroup\":\"survey\",\"orientation\":\"h\",\"showlegend\":false,\"textposition\":\"auto\",\"x\":[0.12834262997030738,0.06862986555553409,0.8015290506635852,0.0012730986152317103,0.00022535519534164488],\"xaxis\":\"x2\",\"y\":[\"1: walk\",\"4: hov 2\",\"5: hov 3+\",\"6: walk to transit\",\"7: park-and-ride\"],\"yaxis\":\"y2\",\"type\":\"bar\"}],                        {\"template\":{\"data\":{\"barpolar\":[{\"marker\":{\"line\":{\"color\":\"white\",\"width\":0.5},\"pattern\":{\"fillmode\":\"overlay\",\"size\":10,\"solidity\":0.2}},\"type\":\"barpolar\"}],\"bar\":[{\"error_x\":{\"color\":\"rgb(36,36,36)\"},\"error_y\":{\"color\":\"rgb(36,36,36)\"},\"marker\":{\"line\":{\"color\":\"white\",\"width\":0.5},\"pattern\":{\"fillmode\":\"overlay\",\"size\":10,\"solidity\":0.2}},\"type\":\"bar\"}],\"carpet\":[{\"aaxis\":{\"endlinecolor\":\"rgb(36,36,36)\",\"gridcolor\":\"white\",\"linecolor\":\"white\",\"minorgridcolor\":\"white\",\"startlinecolor\":\"rgb(36,36,36)\"},\"baxis\":{\"endlinecolor\":\"rgb(36,36,36)\",\"gridcolor\":\"white\",\"linecolor\":\"white\",\"minorgridcolor\":\"white\",\"startlinecolor\":\"rgb(36,36,36)\"},\"type\":\"carpet\"}],\"choropleth\":[{\"colorbar\":{\"outlinewidth\":1,\"tickcolor\":\"rgb(36,36,36)\",\"ticks\":\"outside\"},\"type\":\"choropleth\"}],\"contourcarpet\":[{\"colorbar\":{\"outlinewidth\":1,\"tickcolor\":\"rgb(36,36,36)\",\"ticks\":\"outside\"},\"type\":\"contourcarpet\"}],\"contour\":[{\"colorbar\":{\"outlinewidth\":1,\"tickcolor\":\"rgb(36,36,36)\",\"ticks\":\"outside\"},\"colorscale\":[[0.0,\"#440154\"],[0.1111111111111111,\"#482878\"],[0.2222222222222222,\"#3e4989\"],[0.3333333333333333,\"#31688e\"],[0.4444444444444444,\"#26828e\"],[0.5555555555555556,\"#1f9e89\"],[0.6666666666666666,\"#35b779\"],[0.7777777777777778,\"#6ece58\"],[0.8888888888888888,\"#b5de2b\"],[1.0,\"#fde725\"]],\"type\":\"contour\"}],\"heatmapgl\":[{\"colorbar\":{\"outlinewidth\":1,\"tickcolor\":\"rgb(36,36,36)\",\"ticks\":\"outside\"},\"colorscale\":[[0.0,\"#440154\"],[0.1111111111111111,\"#482878\"],[0.2222222222222222,\"#3e4989\"],[0.3333333333333333,\"#31688e\"],[0.4444444444444444,\"#26828e\"],[0.5555555555555556,\"#1f9e89\"],[0.6666666666666666,\"#35b779\"],[0.7777777777777778,\"#6ece58\"],[0.8888888888888888,\"#b5de2b\"],[1.0,\"#fde725\"]],\"type\":\"heatmapgl\"}],\"heatmap\":[{\"colorbar\":{\"outlinewidth\":1,\"tickcolor\":\"rgb(36,36,36)\",\"ticks\":\"outside\"},\"colorscale\":[[0.0,\"#440154\"],[0.1111111111111111,\"#482878\"],[0.2222222222222222,\"#3e4989\"],[0.3333333333333333,\"#31688e\"],[0.4444444444444444,\"#26828e\"],[0.5555555555555556,\"#1f9e89\"],[0.6666666666666666,\"#35b779\"],[0.7777777777777778,\"#6ece58\"],[0.8888888888888888,\"#b5de2b\"],[1.0,\"#fde725\"]],\"type\":\"heatmap\"}],\"histogram2dcontour\":[{\"colorbar\":{\"outlinewidth\":1,\"tickcolor\":\"rgb(36,36,36)\",\"ticks\":\"outside\"},\"colorscale\":[[0.0,\"#440154\"],[0.1111111111111111,\"#482878\"],[0.2222222222222222,\"#3e4989\"],[0.3333333333333333,\"#31688e\"],[0.4444444444444444,\"#26828e\"],[0.5555555555555556,\"#1f9e89\"],[0.6666666666666666,\"#35b779\"],[0.7777777777777778,\"#6ece58\"],[0.8888888888888888,\"#b5de2b\"],[1.0,\"#fde725\"]],\"type\":\"histogram2dcontour\"}],\"histogram2d\":[{\"colorbar\":{\"outlinewidth\":1,\"tickcolor\":\"rgb(36,36,36)\",\"ticks\":\"outside\"},\"colorscale\":[[0.0,\"#440154\"],[0.1111111111111111,\"#482878\"],[0.2222222222222222,\"#3e4989\"],[0.3333333333333333,\"#31688e\"],[0.4444444444444444,\"#26828e\"],[0.5555555555555556,\"#1f9e89\"],[0.6666666666666666,\"#35b779\"],[0.7777777777777778,\"#6ece58\"],[0.8888888888888888,\"#b5de2b\"],[1.0,\"#fde725\"]],\"type\":\"histogram2d\"}],\"histogram\":[{\"marker\":{\"line\":{\"color\":\"white\",\"width\":0.6}},\"type\":\"histogram\"}],\"mesh3d\":[{\"colorbar\":{\"outlinewidth\":1,\"tickcolor\":\"rgb(36,36,36)\",\"ticks\":\"outside\"},\"type\":\"mesh3d\"}],\"parcoords\":[{\"line\":{\"colorbar\":{\"outlinewidth\":1,\"tickcolor\":\"rgb(36,36,36)\",\"ticks\":\"outside\"}},\"type\":\"parcoords\"}],\"pie\":[{\"automargin\":true,\"type\":\"pie\"}],\"scatter3d\":[{\"line\":{\"colorbar\":{\"outlinewidth\":1,\"tickcolor\":\"rgb(36,36,36)\",\"ticks\":\"outside\"}},\"marker\":{\"colorbar\":{\"outlinewidth\":1,\"tickcolor\":\"rgb(36,36,36)\",\"ticks\":\"outside\"}},\"type\":\"scatter3d\"}],\"scattercarpet\":[{\"marker\":{\"colorbar\":{\"outlinewidth\":1,\"tickcolor\":\"rgb(36,36,36)\",\"ticks\":\"outside\"}},\"type\":\"scattercarpet\"}],\"scattergeo\":[{\"marker\":{\"colorbar\":{\"outlinewidth\":1,\"tickcolor\":\"rgb(36,36,36)\",\"ticks\":\"outside\"}},\"type\":\"scattergeo\"}],\"scattergl\":[{\"marker\":{\"colorbar\":{\"outlinewidth\":1,\"tickcolor\":\"rgb(36,36,36)\",\"ticks\":\"outside\"}},\"type\":\"scattergl\"}],\"scattermapbox\":[{\"marker\":{\"colorbar\":{\"outlinewidth\":1,\"tickcolor\":\"rgb(36,36,36)\",\"ticks\":\"outside\"}},\"type\":\"scattermapbox\"}],\"scatterpolargl\":[{\"marker\":{\"colorbar\":{\"outlinewidth\":1,\"tickcolor\":\"rgb(36,36,36)\",\"ticks\":\"outside\"}},\"type\":\"scatterpolargl\"}],\"scatterpolar\":[{\"marker\":{\"colorbar\":{\"outlinewidth\":1,\"tickcolor\":\"rgb(36,36,36)\",\"ticks\":\"outside\"}},\"type\":\"scatterpolar\"}],\"scatter\":[{\"fillpattern\":{\"fillmode\":\"overlay\",\"size\":10,\"solidity\":0.2},\"type\":\"scatter\"}],\"scatterternary\":[{\"marker\":{\"colorbar\":{\"outlinewidth\":1,\"tickcolor\":\"rgb(36,36,36)\",\"ticks\":\"outside\"}},\"type\":\"scatterternary\"}],\"surface\":[{\"colorbar\":{\"outlinewidth\":1,\"tickcolor\":\"rgb(36,36,36)\",\"ticks\":\"outside\"},\"colorscale\":[[0.0,\"#440154\"],[0.1111111111111111,\"#482878\"],[0.2222222222222222,\"#3e4989\"],[0.3333333333333333,\"#31688e\"],[0.4444444444444444,\"#26828e\"],[0.5555555555555556,\"#1f9e89\"],[0.6666666666666666,\"#35b779\"],[0.7777777777777778,\"#6ece58\"],[0.8888888888888888,\"#b5de2b\"],[1.0,\"#fde725\"]],\"type\":\"surface\"}],\"table\":[{\"cells\":{\"fill\":{\"color\":\"rgb(237,237,237)\"},\"line\":{\"color\":\"white\"}},\"header\":{\"fill\":{\"color\":\"rgb(217,217,217)\"},\"line\":{\"color\":\"white\"}},\"type\":\"table\"}]},\"layout\":{\"annotationdefaults\":{\"arrowhead\":0,\"arrowwidth\":1},\"autotypenumbers\":\"strict\",\"coloraxis\":{\"colorbar\":{\"outlinewidth\":1,\"tickcolor\":\"rgb(36,36,36)\",\"ticks\":\"outside\"}},\"colorscale\":{\"diverging\":[[0.0,\"rgb(103,0,31)\"],[0.1,\"rgb(178,24,43)\"],[0.2,\"rgb(214,96,77)\"],[0.3,\"rgb(244,165,130)\"],[0.4,\"rgb(253,219,199)\"],[0.5,\"rgb(247,247,247)\"],[0.6,\"rgb(209,229,240)\"],[0.7,\"rgb(146,197,222)\"],[0.8,\"rgb(67,147,195)\"],[0.9,\"rgb(33,102,172)\"],[1.0,\"rgb(5,48,97)\"]],\"sequential\":[[0.0,\"#440154\"],[0.1111111111111111,\"#482878\"],[0.2222222222222222,\"#3e4989\"],[0.3333333333333333,\"#31688e\"],[0.4444444444444444,\"#26828e\"],[0.5555555555555556,\"#1f9e89\"],[0.6666666666666666,\"#35b779\"],[0.7777777777777778,\"#6ece58\"],[0.8888888888888888,\"#b5de2b\"],[1.0,\"#fde725\"]],\"sequentialminus\":[[0.0,\"#440154\"],[0.1111111111111111,\"#482878\"],[0.2222222222222222,\"#3e4989\"],[0.3333333333333333,\"#31688e\"],[0.4444444444444444,\"#26828e\"],[0.5555555555555556,\"#1f9e89\"],[0.6666666666666666,\"#35b779\"],[0.7777777777777778,\"#6ece58\"],[0.8888888888888888,\"#b5de2b\"],[1.0,\"#fde725\"]]},\"colorway\":[\"#91268F\",\"#8CC63E\",\"#00A7A0\",\"#F05A28\",\"#4C4C4C\",\"#630460\",\"#9f3913\",\"#588527\",\"#00716c\",\"#3e4040\"],\"font\":{\"color\":\"rgb(36,36,36)\",\"family\":\"Poppins\",\"size\":11},\"geo\":{\"bgcolor\":\"white\",\"lakecolor\":\"white\",\"landcolor\":\"white\",\"showlakes\":true,\"showland\":true,\"subunitcolor\":\"white\"},\"hoverlabel\":{\"align\":\"left\"},\"hovermode\":\"closest\",\"mapbox\":{\"style\":\"light\"},\"paper_bgcolor\":\"white\",\"plot_bgcolor\":\"white\",\"polar\":{\"angularaxis\":{\"gridcolor\":\"rgb(232,232,232)\",\"linecolor\":\"rgb(36,36,36)\",\"showgrid\":false,\"showline\":true,\"ticks\":\"outside\"},\"bgcolor\":\"white\",\"radialaxis\":{\"gridcolor\":\"rgb(232,232,232)\",\"linecolor\":\"rgb(36,36,36)\",\"showgrid\":false,\"showline\":true,\"ticks\":\"outside\"}},\"scene\":{\"xaxis\":{\"backgroundcolor\":\"white\",\"gridcolor\":\"rgb(232,232,232)\",\"gridwidth\":2,\"linecolor\":\"rgb(36,36,36)\",\"showbackground\":true,\"showgrid\":false,\"showline\":true,\"ticks\":\"outside\",\"zeroline\":false,\"zerolinecolor\":\"rgb(36,36,36)\"},\"yaxis\":{\"backgroundcolor\":\"white\",\"gridcolor\":\"rgb(232,232,232)\",\"gridwidth\":2,\"linecolor\":\"rgb(36,36,36)\",\"showbackground\":true,\"showgrid\":false,\"showline\":true,\"ticks\":\"outside\",\"zeroline\":false,\"zerolinecolor\":\"rgb(36,36,36)\"},\"zaxis\":{\"backgroundcolor\":\"white\",\"gridcolor\":\"rgb(232,232,232)\",\"gridwidth\":2,\"linecolor\":\"rgb(36,36,36)\",\"showbackground\":true,\"showgrid\":false,\"showline\":true,\"ticks\":\"outside\",\"zeroline\":false,\"zerolinecolor\":\"rgb(36,36,36)\"}},\"shapedefaults\":{\"fillcolor\":\"black\",\"line\":{\"width\":0},\"opacity\":0.3},\"ternary\":{\"aaxis\":{\"gridcolor\":\"rgb(232,232,232)\",\"linecolor\":\"rgb(36,36,36)\",\"showgrid\":false,\"showline\":true,\"ticks\":\"outside\"},\"baxis\":{\"gridcolor\":\"rgb(232,232,232)\",\"linecolor\":\"rgb(36,36,36)\",\"showgrid\":false,\"showline\":true,\"ticks\":\"outside\"},\"bgcolor\":\"white\",\"caxis\":{\"gridcolor\":\"rgb(232,232,232)\",\"linecolor\":\"rgb(36,36,36)\",\"showgrid\":false,\"showline\":true,\"ticks\":\"outside\"}},\"title\":{\"x\":0.05},\"xaxis\":{\"automargin\":true,\"gridcolor\":\"rgb(232,232,232)\",\"linecolor\":\"rgb(36,36,36)\",\"showgrid\":false,\"showline\":true,\"ticks\":\"outside\",\"title\":{\"standoff\":15},\"zeroline\":false,\"zerolinecolor\":\"rgb(36,36,36)\"},\"yaxis\":{\"automargin\":true,\"gridcolor\":\"rgb(232,232,232)\",\"linecolor\":\"rgb(36,36,36)\",\"showgrid\":false,\"showline\":true,\"ticks\":\"outside\",\"title\":{\"standoff\":15},\"zeroline\":false,\"zerolinecolor\":\"rgb(36,36,36)\"}}},\"xaxis\":{\"anchor\":\"y\",\"domain\":[0.0,0.49],\"title\":{\"text\":\"percentage\"},\"tickformat\":\".1%\"},\"yaxis\":{\"anchor\":\"x\",\"domain\":[0.0,0.1975],\"title\":{\"text\":\"tmodetp_label\"},\"categoryorder\":\"array\",\"categoryarray\":[\"9: other\\u00e2\\u20ac\\u201csurvey only\",\"8: school bus\",\"7: park-and-ride\",\"6: walk to transit\",\"5: hov 3+\",\"4: hov 2\",\"3: sov\",\"2: bike\",\"1: walk\"]},\"xaxis2\":{\"anchor\":\"y2\",\"domain\":[0.51,1.0],\"matches\":\"x\",\"title\":{\"text\":\"percentage\"},\"tickformat\":\".1%\"},\"yaxis2\":{\"anchor\":\"x2\",\"domain\":[0.0,0.1975],\"matches\":\"y\",\"showticklabels\":false},\"xaxis3\":{\"anchor\":\"y3\",\"domain\":[0.0,0.49],\"matches\":\"x\",\"showticklabels\":false,\"tickformat\":\".1%\"},\"yaxis3\":{\"anchor\":\"x3\",\"domain\":[0.2675,0.465],\"matches\":\"y\",\"title\":{\"text\":\"tmodetp_label\"},\"categoryorder\":\"array\",\"categoryarray\":[\"9: other\\u00e2\\u20ac\\u201csurvey only\",\"8: school bus\",\"7: park-and-ride\",\"6: walk to transit\",\"5: hov 3+\",\"4: hov 2\",\"3: sov\",\"2: bike\",\"1: walk\"]},\"xaxis4\":{\"anchor\":\"y4\",\"domain\":[0.51,1.0],\"matches\":\"x\",\"showticklabels\":false,\"tickformat\":\".1%\"},\"yaxis4\":{\"anchor\":\"x4\",\"domain\":[0.2675,0.465],\"matches\":\"y\",\"showticklabels\":false},\"xaxis5\":{\"anchor\":\"y5\",\"domain\":[0.0,0.49],\"matches\":\"x\",\"showticklabels\":false,\"tickformat\":\".1%\"},\"yaxis5\":{\"anchor\":\"x5\",\"domain\":[0.535,0.7325],\"matches\":\"y\",\"title\":{\"text\":\"tmodetp_label\"},\"categoryorder\":\"array\",\"categoryarray\":[\"9: other\\u00e2\\u20ac\\u201csurvey only\",\"8: school bus\",\"7: park-and-ride\",\"6: walk to transit\",\"5: hov 3+\",\"4: hov 2\",\"3: sov\",\"2: bike\",\"1: walk\"]},\"xaxis6\":{\"anchor\":\"y6\",\"domain\":[0.51,1.0],\"matches\":\"x\",\"showticklabels\":false,\"tickformat\":\".1%\"},\"yaxis6\":{\"anchor\":\"x6\",\"domain\":[0.535,0.7325],\"matches\":\"y\",\"showticklabels\":false},\"xaxis7\":{\"anchor\":\"y7\",\"domain\":[0.0,0.49],\"matches\":\"x\",\"showticklabels\":false,\"tickformat\":\".1%\"},\"yaxis7\":{\"anchor\":\"x7\",\"domain\":[0.8025,1.0],\"matches\":\"y\",\"title\":{\"text\":\"tmodetp_label\"},\"categoryorder\":\"array\",\"categoryarray\":[\"9: other\\u00e2\\u20ac\\u201csurvey only\",\"8: school bus\",\"7: park-and-ride\",\"6: walk to transit\",\"5: hov 3+\",\"4: hov 2\",\"3: sov\",\"2: bike\",\"1: walk\"]},\"xaxis8\":{\"anchor\":\"y8\",\"domain\":[0.51,1.0],\"matches\":\"x\",\"showticklabels\":false,\"tickformat\":\".1%\"},\"yaxis8\":{\"anchor\":\"x8\",\"domain\":[0.8025,1.0],\"matches\":\"y\",\"showticklabels\":false},\"annotations\":[{\"font\":{},\"showarrow\":false,\"text\":\"child age 5-15\",\"x\":0.245,\"xanchor\":\"center\",\"xref\":\"paper\",\"y\":0.1975,\"yanchor\":\"bottom\",\"yref\":\"paper\"},{\"font\":{},\"showarrow\":false,\"text\":\"child age 0-4\",\"x\":0.755,\"xanchor\":\"center\",\"xref\":\"paper\",\"y\":0.1975,\"yanchor\":\"bottom\",\"yref\":\"paper\"},{\"font\":{},\"showarrow\":false,\"text\":\"university student\",\"x\":0.245,\"xanchor\":\"center\",\"xref\":\"paper\",\"y\":0.465,\"yanchor\":\"bottom\",\"yref\":\"paper\"},{\"font\":{},\"showarrow\":false,\"text\":\"grade school student\\u002fchild age 16+\",\"x\":0.755,\"xanchor\":\"center\",\"xref\":\"paper\",\"y\":0.465,\"yanchor\":\"bottom\",\"yref\":\"paper\"},{\"font\":{},\"showarrow\":false,\"text\":\"non-worker age 65+\",\"x\":0.245,\"xanchor\":\"center\",\"xref\":\"paper\",\"y\":0.7325,\"yanchor\":\"bottom\",\"yref\":\"paper\"},{\"font\":{},\"showarrow\":false,\"text\":\"other non-working adult\",\"x\":0.755,\"xanchor\":\"center\",\"xref\":\"paper\",\"y\":0.7325,\"yanchor\":\"bottom\",\"yref\":\"paper\"},{\"font\":{},\"showarrow\":false,\"text\":\"full time worker\",\"x\":0.245,\"xanchor\":\"center\",\"xref\":\"paper\",\"y\":1.0,\"yanchor\":\"bottom\",\"yref\":\"paper\"},{\"font\":{},\"showarrow\":false,\"text\":\"part time worker\",\"x\":0.755,\"xanchor\":\"center\",\"xref\":\"paper\",\"y\":1.0,\"yanchor\":\"bottom\",\"yref\":\"paper\"}],\"legend\":{\"title\":{\"text\":\"source\"},\"tracegroupgap\":0},\"title\":{\"text\":\"other home-based tour mode choice by person type\"},\"barmode\":\"group\",\"height\":1000,\"width\":800},                        {\"responsive\": true}                    ).then(function(){\n",
       "                            \n",
       "var gd = document.getElementById('a7eb84c0-59ad-4fdd-9d8a-583d6fdc5e80');\n",
       "var x = new MutationObserver(function (mutations, observer) {{\n",
       "        var display = window.getComputedStyle(gd).display;\n",
       "        if (!display || display === 'none') {{\n",
       "            console.log([gd, 'removed!']);\n",
       "            Plotly.purge(gd);\n",
       "            observer.disconnect();\n",
       "        }}\n",
       "}});\n",
       "\n",
       "// Listen for the removal of the full notebook cells\n",
       "var notebookContainer = gd.closest('#notebook-container');\n",
       "if (notebookContainer) {{\n",
       "    x.observe(notebookContainer, {childList: true});\n",
       "}}\n",
       "\n",
       "// Listen for the clearing of the current output cell\n",
       "var outputEl = gd.closest('.output');\n",
       "if (outputEl) {{\n",
       "    x.observe(outputEl, {childList: true});\n",
       "}}\n",
       "\n",
       "                        })                };                });            </script>        </div>"
      ]
     },
     "metadata": {},
     "output_type": "display_data"
    }
   ],
   "source": [
    "plot_mode_choice(hb_tour,\"pptyp_label\",\n",
    "                 {\"pptyp_label\":[\"full time worker\",\"part time worker\",\"non-worker age 65+\",\"other non-working adult\",\n",
    "                                 \"university student\",\"grade school student/child age 16+\",\"child age 5-15\",\"child age 0-4\"],\n",
    "                  \"tmodetp_label\":[\"1: walk\",\"2: bike\",\"3: sov\",\"4: hov 2\",\"5: hov 3+\",\"6: walk to transit\",\n",
    "                                   \"7: park-and-ride\",\"8: school bus\",\"9: other–survey only\"]},\n",
    "                 \"person type\",2,1000)"
   ]
  },
  {
   "cell_type": "raw",
   "metadata": {},
   "source": [
    "### household size"
   ]
  },
  {
   "cell_type": "code",
   "execution_count": 10,
   "metadata": {
    "execution": {
     "iopub.execute_input": "2024-12-11T19:12:03.707373Z",
     "iopub.status.busy": "2024-12-11T19:12:03.705379Z",
     "iopub.status.idle": "2024-12-11T19:12:05.108461Z",
     "shell.execute_reply": "2024-12-11T19:12:05.106948Z"
    }
   },
   "outputs": [
    {
     "data": {
      "application/vnd.plotly.v1+json": {
       "config": {
        "plotlyServerURL": "https://plot.ly"
       },
       "data": [
        {
         "alignmentgroup": "True",
         "customdata": [
          [
           92490
          ],
          [
           10257
          ],
          [
           214190
          ],
          [
           31615
          ],
          [
           20867
          ],
          [
           37493
          ],
          [
           2629
          ]
         ],
         "hovertemplate": "source=model<br>hhsize_4+=1<br>percentage=%{x}<br>tmodetp_label=%{y}<br>sample count=%{customdata[0]}<extra></extra>",
         "legendgroup": "model",
         "marker": {
          "color": "#91268F",
          "pattern": {
           "shape": ""
          }
         },
         "name": "model",
         "offsetgroup": "model",
         "orientation": "h",
         "showlegend": true,
         "textposition": "auto",
         "type": "bar",
         "x": [
          0.2258381944664881,
          0.02504511147846003,
          0.5230001391802042,
          0.07719617816042838,
          0.050952163519647604,
          0.09154883149672438,
          0.006419381698047327
         ],
         "xaxis": "x3",
         "y": [
          "1: walk",
          "2: bike",
          "3: sov",
          "4: hov 2",
          "5: hov 3+",
          "6: walk to transit",
          "9: tnc"
         ],
         "yaxis": "y3"
        },
        {
         "alignmentgroup": "True",
         "customdata": [
          [
           118270
          ],
          [
           13293
          ],
          [
           378357
          ],
          [
           250656
          ],
          [
           37390
          ],
          [
           27489
          ],
          [
           1997
          ]
         ],
         "hovertemplate": "source=model<br>hhsize_4+=2<br>percentage=%{x}<br>tmodetp_label=%{y}<br>sample count=%{customdata[0]}<extra></extra>",
         "legendgroup": "model",
         "marker": {
          "color": "#91268F",
          "pattern": {
           "shape": ""
          }
         },
         "name": "model",
         "offsetgroup": "model",
         "orientation": "h",
         "showlegend": false,
         "textposition": "auto",
         "type": "bar",
         "x": [
          0.14293276226294696,
          0.016064980204289796,
          0.45725552660456437,
          0.30292512435766666,
          0.045186911144090534,
          0.03322126238138285,
          0.002413433045058807
         ],
         "xaxis": "x4",
         "y": [
          "1: walk",
          "2: bike",
          "3: sov",
          "4: hov 2",
          "5: hov 3+",
          "6: walk to transit",
          "9: tnc"
         ],
         "yaxis": "y4"
        },
        {
         "alignmentgroup": "True",
         "customdata": [
          [
           57182
          ],
          [
           6773
          ],
          [
           130194
          ],
          [
           85857
          ],
          [
           217513
          ],
          [
           10667
          ],
          [
           644
          ]
         ],
         "hovertemplate": "source=model<br>hhsize_4+=3<br>percentage=%{x}<br>tmodetp_label=%{y}<br>sample count=%{customdata[0]}<extra></extra>",
         "legendgroup": "model",
         "marker": {
          "color": "#91268F",
          "pattern": {
           "shape": ""
          }
         },
         "name": "model",
         "offsetgroup": "model",
         "orientation": "h",
         "showlegend": false,
         "textposition": "auto",
         "type": "bar",
         "x": [
          0.11237938014661085,
          0.013310928993966551,
          0.25586934732621897,
          0.16873415482577678,
          0.4274767604111393,
          0.020963779651357036,
          0.0012656486449305268
         ],
         "xaxis": "x",
         "y": [
          "1: walk",
          "2: bike",
          "3: sov",
          "4: hov 2",
          "5: hov 3+",
          "6: walk to transit",
          "9: tnc"
         ],
         "yaxis": "y"
        },
        {
         "alignmentgroup": "True",
         "customdata": [
          [
           104429
          ],
          [
           12788
          ],
          [
           204865
          ],
          [
           189350
          ],
          [
           477768
          ],
          [
           19788
          ],
          [
           1431
          ]
         ],
         "hovertemplate": "source=model<br>hhsize_4+=4+<br>percentage=%{x}<br>tmodetp_label=%{y}<br>sample count=%{customdata[0]}<extra></extra>",
         "legendgroup": "model",
         "marker": {
          "color": "#91268F",
          "pattern": {
           "shape": ""
          }
         },
         "name": "model",
         "offsetgroup": "model",
         "orientation": "h",
         "showlegend": false,
         "textposition": "auto",
         "type": "bar",
         "x": [
          0.1033521737021968,
          0.012656135721913384,
          0.20275252147871328,
          0.18739750539132777,
          0.4728414647784731,
          0.01958395477519722,
          0.0014162441521784527
         ],
         "xaxis": "x2",
         "y": [
          "1: walk",
          "2: bike",
          "3: sov",
          "4: hov 2",
          "5: hov 3+",
          "6: walk to transit",
          "9: tnc"
         ],
         "yaxis": "y2"
        },
        {
         "alignmentgroup": "True",
         "customdata": [
          [
           380
          ],
          [
           52
          ],
          [
           466
          ],
          [
           84
          ],
          [
           28
          ],
          [
           129
          ],
          [
           4
          ],
          [
           11
          ]
         ],
         "hovertemplate": "source=survey<br>hhsize_4+=1<br>percentage=%{x}<br>tmodetp_label=%{y}<br>sample count=%{customdata[0]}<extra></extra>",
         "legendgroup": "survey",
         "marker": {
          "color": "#8CC63E",
          "pattern": {
           "shape": ""
          }
         },
         "name": "survey",
         "offsetgroup": "survey",
         "orientation": "h",
         "showlegend": true,
         "textposition": "auto",
         "type": "bar",
         "x": [
          0.23483847968663238,
          0.017692740415431143,
          0.4803252035232982,
          0.10295848090713028,
          0.022913181563890682,
          0.13214815909897953,
          0.0010534747848565207,
          0.00807028001978124
         ],
         "xaxis": "x3",
         "y": [
          "1: walk",
          "2: bike",
          "3: sov",
          "4: hov 2",
          "5: hov 3+",
          "6: walk to transit",
          "7: park-and-ride",
          "9: tnc"
         ],
         "yaxis": "y3"
        },
        {
         "alignmentgroup": "True",
         "customdata": [
          [
           373
          ],
          [
           43
          ],
          [
           570
          ],
          [
           485
          ],
          [
           109
          ],
          [
           52
          ],
          [
           4
          ],
          [
           7
          ]
         ],
         "hovertemplate": "source=survey<br>hhsize_4+=2<br>percentage=%{x}<br>tmodetp_label=%{y}<br>sample count=%{customdata[0]}<extra></extra>",
         "legendgroup": "survey",
         "marker": {
          "color": "#8CC63E",
          "pattern": {
           "shape": ""
          }
         },
         "name": "survey",
         "offsetgroup": "survey",
         "orientation": "h",
         "showlegend": false,
         "textposition": "auto",
         "type": "bar",
         "x": [
          0.10548936305851056,
          0.031626928728716495,
          0.4341249422971015,
          0.28446719549509436,
          0.12008847711411938,
          0.018734978363726684,
          0.0002837645930617865,
          0.005184350349669256
         ],
         "xaxis": "x4",
         "y": [
          "1: walk",
          "2: bike",
          "3: sov",
          "4: hov 2",
          "5: hov 3+",
          "6: walk to transit",
          "7: park-and-ride",
          "9: tnc"
         ],
         "yaxis": "y4"
        },
        {
         "alignmentgroup": "True",
         "customdata": [
          [
           81
          ],
          [
           15
          ],
          [
           141
          ],
          [
           135
          ],
          [
           76
          ],
          [
           7
          ],
          [
           4
          ],
          [
           1
          ]
         ],
         "hovertemplate": "source=survey<br>hhsize_4+=3<br>percentage=%{x}<br>tmodetp_label=%{y}<br>sample count=%{customdata[0]}<extra></extra>",
         "legendgroup": "survey",
         "marker": {
          "color": "#8CC63E",
          "pattern": {
           "shape": ""
          }
         },
         "name": "survey",
         "offsetgroup": "survey",
         "orientation": "h",
         "showlegend": false,
         "textposition": "auto",
         "type": "bar",
         "x": [
          0.1361069487021761,
          0.012931134998040968,
          0.3154741006251336,
          0.3101153949146536,
          0.2168947557222823,
          0.005688885626185093,
          0.0025538861946504095,
          0.00023489321687780168
         ],
         "xaxis": "x",
         "y": [
          "1: walk",
          "2: bike",
          "3: sov",
          "4: hov 2",
          "5: hov 3+",
          "6: walk to transit",
          "7: park-and-ride",
          "9: tnc"
         ],
         "yaxis": "y"
        },
        {
         "alignmentgroup": "True",
         "customdata": [
          [
           72
          ],
          [
           8
          ],
          [
           140
          ],
          [
           107
          ],
          [
           293
          ],
          [
           12
          ],
          [
           4
          ],
          [
           2
          ]
         ],
         "hovertemplate": "source=survey<br>hhsize_4+=4+<br>percentage=%{x}<br>tmodetp_label=%{y}<br>sample count=%{customdata[0]}<extra></extra>",
         "legendgroup": "survey",
         "marker": {
          "color": "#8CC63E",
          "pattern": {
           "shape": ""
          }
         },
         "name": "survey",
         "offsetgroup": "survey",
         "orientation": "h",
         "showlegend": false,
         "textposition": "auto",
         "type": "bar",
         "x": [
          0.08608109997299913,
          0.005293263966971112,
          0.2274126759335095,
          0.15985019706803674,
          0.4896112564153872,
          0.016844995988903207,
          0.014877130504552798,
          2.9380149640314584e-05
         ],
         "xaxis": "x2",
         "y": [
          "1: walk",
          "2: bike",
          "3: sov",
          "4: hov 2",
          "5: hov 3+",
          "6: walk to transit",
          "7: park-and-ride",
          "8: school bus"
         ],
         "yaxis": "y2"
        },
        {
         "alignmentgroup": "True",
         "customdata": [
          [
           386
          ],
          [
           40
          ],
          [
           486
          ],
          [
           84
          ],
          [
           28
          ],
          [
           128
          ],
          [
           4
          ],
          [
           11
          ]
         ],
         "hovertemplate": "source=survey (update)<br>hhsize_4+=1<br>percentage=%{x}<br>tmodetp_label=%{y}<br>sample count=%{customdata[0]}<extra></extra>",
         "legendgroup": "survey (update)",
         "marker": {
          "color": "#00A7A0",
          "pattern": {
           "shape": ""
          }
         },
         "name": "survey (update)",
         "offsetgroup": "survey (update)",
         "orientation": "h",
         "showlegend": true,
         "textposition": "auto",
         "type": "bar",
         "x": [
          0.21206021891749657,
          0.00905180204313133,
          0.5018220392939062,
          0.11817883708489269,
          0.022951310163476735,
          0.12617980588640576,
          0.0028556448950072203,
          0.006900341715683519
         ],
         "xaxis": "x3",
         "y": [
          "1: walk",
          "2: bike",
          "3: sov",
          "4: hov 2",
          "5: hov 3+",
          "6: walk to transit",
          "7: park-and-ride",
          "9: tnc"
         ],
         "yaxis": "y3"
        },
        {
         "alignmentgroup": "True",
         "customdata": [
          [
           405
          ],
          [
           39
          ],
          [
           601
          ],
          [
           505
          ],
          [
           116
          ],
          [
           53
          ],
          [
           4
          ],
          [
           9
          ]
         ],
         "hovertemplate": "source=survey (update)<br>hhsize_4+=2<br>percentage=%{x}<br>tmodetp_label=%{y}<br>sample count=%{customdata[0]}<extra></extra>",
         "legendgroup": "survey (update)",
         "marker": {
          "color": "#00A7A0",
          "pattern": {
           "shape": ""
          }
         },
         "name": "survey (update)",
         "offsetgroup": "survey (update)",
         "orientation": "h",
         "showlegend": false,
         "textposition": "auto",
         "type": "bar",
         "x": [
          0.1390482831948775,
          0.0060701893748073416,
          0.4281614875242978,
          0.2772444926636628,
          0.0990214264057414,
          0.04572799142798871,
          0.000253631831817048,
          0.004472497576807392
         ],
         "xaxis": "x4",
         "y": [
          "1: walk",
          "2: bike",
          "3: sov",
          "4: hov 2",
          "5: hov 3+",
          "6: walk to transit",
          "7: park-and-ride",
          "9: tnc"
         ],
         "yaxis": "y4"
        },
        {
         "alignmentgroup": "True",
         "customdata": [
          [
           89
          ],
          [
           19
          ],
          [
           160
          ],
          [
           152
          ],
          [
           90
          ],
          [
           10
          ],
          [
           4
          ],
          [
           2
          ]
         ],
         "hovertemplate": "source=survey (update)<br>hhsize_4+=3<br>percentage=%{x}<br>tmodetp_label=%{y}<br>sample count=%{customdata[0]}<extra></extra>",
         "legendgroup": "survey (update)",
         "marker": {
          "color": "#00A7A0",
          "pattern": {
           "shape": ""
          }
         },
         "name": "survey (update)",
         "offsetgroup": "survey (update)",
         "orientation": "h",
         "showlegend": false,
         "textposition": "auto",
         "type": "bar",
         "x": [
          0.14158931083843984,
          0.02905585889432311,
          0.32298307053756226,
          0.37950332516861995,
          0.08788681312870694,
          0.03694204295816023,
          0.0012551510179618151,
          0.0007844274562257363
         ],
         "xaxis": "x",
         "y": [
          "1: walk",
          "2: bike",
          "3: sov",
          "4: hov 2",
          "5: hov 3+",
          "6: walk to transit",
          "7: park-and-ride",
          "9: tnc"
         ],
         "yaxis": "y"
        },
        {
         "alignmentgroup": "True",
         "customdata": [
          [
           84
          ],
          [
           10
          ],
          [
           149
          ],
          [
           132
          ],
          [
           324
          ],
          [
           15
          ],
          [
           4
          ],
          [
           2
          ]
         ],
         "hovertemplate": "source=survey (update)<br>hhsize_4+=4+<br>percentage=%{x}<br>tmodetp_label=%{y}<br>sample count=%{customdata[0]}<extra></extra>",
         "legendgroup": "survey (update)",
         "marker": {
          "color": "#00A7A0",
          "pattern": {
           "shape": ""
          }
         },
         "name": "survey (update)",
         "offsetgroup": "survey (update)",
         "orientation": "h",
         "showlegend": false,
         "textposition": "auto",
         "type": "bar",
         "x": [
          0.1068735205101192,
          0.01056888857930645,
          0.24352124561508948,
          0.2396300165878987,
          0.3417758019497899,
          0.04481374390409055,
          0.00874888395135968,
          0.004067898902346095
         ],
         "xaxis": "x2",
         "y": [
          "1: walk",
          "2: bike",
          "3: sov",
          "4: hov 2",
          "5: hov 3+",
          "6: walk to transit",
          "7: park-and-ride",
          "9: tnc"
         ],
         "yaxis": "y2"
        }
       ],
       "layout": {
        "annotations": [
         {
          "font": {},
          "showarrow": false,
          "text": "3",
          "x": 0.245,
          "xanchor": "center",
          "xref": "paper",
          "y": 0.46499999999999997,
          "yanchor": "bottom",
          "yref": "paper"
         },
         {
          "font": {},
          "showarrow": false,
          "text": "4+",
          "x": 0.755,
          "xanchor": "center",
          "xref": "paper",
          "y": 0.46499999999999997,
          "yanchor": "bottom",
          "yref": "paper"
         },
         {
          "font": {},
          "showarrow": false,
          "text": "1",
          "x": 0.245,
          "xanchor": "center",
          "xref": "paper",
          "y": 0.9999999999999999,
          "yanchor": "bottom",
          "yref": "paper"
         },
         {
          "font": {},
          "showarrow": false,
          "text": "2",
          "x": 0.755,
          "xanchor": "center",
          "xref": "paper",
          "y": 0.9999999999999999,
          "yanchor": "bottom",
          "yref": "paper"
         }
        ],
        "barmode": "group",
        "height": 600,
        "legend": {
         "title": {
          "text": "source"
         },
         "tracegroupgap": 0
        },
        "template": {
         "data": {
          "bar": [
           {
            "error_x": {
             "color": "rgb(36,36,36)"
            },
            "error_y": {
             "color": "rgb(36,36,36)"
            },
            "marker": {
             "line": {
              "color": "white",
              "width": 0.5
             },
             "pattern": {
              "fillmode": "overlay",
              "size": 10,
              "solidity": 0.2
             }
            },
            "type": "bar"
           }
          ],
          "barpolar": [
           {
            "marker": {
             "line": {
              "color": "white",
              "width": 0.5
             },
             "pattern": {
              "fillmode": "overlay",
              "size": 10,
              "solidity": 0.2
             }
            },
            "type": "barpolar"
           }
          ],
          "carpet": [
           {
            "aaxis": {
             "endlinecolor": "rgb(36,36,36)",
             "gridcolor": "white",
             "linecolor": "white",
             "minorgridcolor": "white",
             "startlinecolor": "rgb(36,36,36)"
            },
            "baxis": {
             "endlinecolor": "rgb(36,36,36)",
             "gridcolor": "white",
             "linecolor": "white",
             "minorgridcolor": "white",
             "startlinecolor": "rgb(36,36,36)"
            },
            "type": "carpet"
           }
          ],
          "choropleth": [
           {
            "colorbar": {
             "outlinewidth": 1,
             "tickcolor": "rgb(36,36,36)",
             "ticks": "outside"
            },
            "type": "choropleth"
           }
          ],
          "contour": [
           {
            "colorbar": {
             "outlinewidth": 1,
             "tickcolor": "rgb(36,36,36)",
             "ticks": "outside"
            },
            "colorscale": [
             [
              0.0,
              "#440154"
             ],
             [
              0.1111111111111111,
              "#482878"
             ],
             [
              0.2222222222222222,
              "#3e4989"
             ],
             [
              0.3333333333333333,
              "#31688e"
             ],
             [
              0.4444444444444444,
              "#26828e"
             ],
             [
              0.5555555555555556,
              "#1f9e89"
             ],
             [
              0.6666666666666666,
              "#35b779"
             ],
             [
              0.7777777777777778,
              "#6ece58"
             ],
             [
              0.8888888888888888,
              "#b5de2b"
             ],
             [
              1.0,
              "#fde725"
             ]
            ],
            "type": "contour"
           }
          ],
          "contourcarpet": [
           {
            "colorbar": {
             "outlinewidth": 1,
             "tickcolor": "rgb(36,36,36)",
             "ticks": "outside"
            },
            "type": "contourcarpet"
           }
          ],
          "heatmap": [
           {
            "colorbar": {
             "outlinewidth": 1,
             "tickcolor": "rgb(36,36,36)",
             "ticks": "outside"
            },
            "colorscale": [
             [
              0.0,
              "#440154"
             ],
             [
              0.1111111111111111,
              "#482878"
             ],
             [
              0.2222222222222222,
              "#3e4989"
             ],
             [
              0.3333333333333333,
              "#31688e"
             ],
             [
              0.4444444444444444,
              "#26828e"
             ],
             [
              0.5555555555555556,
              "#1f9e89"
             ],
             [
              0.6666666666666666,
              "#35b779"
             ],
             [
              0.7777777777777778,
              "#6ece58"
             ],
             [
              0.8888888888888888,
              "#b5de2b"
             ],
             [
              1.0,
              "#fde725"
             ]
            ],
            "type": "heatmap"
           }
          ],
          "heatmapgl": [
           {
            "colorbar": {
             "outlinewidth": 1,
             "tickcolor": "rgb(36,36,36)",
             "ticks": "outside"
            },
            "colorscale": [
             [
              0.0,
              "#440154"
             ],
             [
              0.1111111111111111,
              "#482878"
             ],
             [
              0.2222222222222222,
              "#3e4989"
             ],
             [
              0.3333333333333333,
              "#31688e"
             ],
             [
              0.4444444444444444,
              "#26828e"
             ],
             [
              0.5555555555555556,
              "#1f9e89"
             ],
             [
              0.6666666666666666,
              "#35b779"
             ],
             [
              0.7777777777777778,
              "#6ece58"
             ],
             [
              0.8888888888888888,
              "#b5de2b"
             ],
             [
              1.0,
              "#fde725"
             ]
            ],
            "type": "heatmapgl"
           }
          ],
          "histogram": [
           {
            "marker": {
             "line": {
              "color": "white",
              "width": 0.6
             }
            },
            "type": "histogram"
           }
          ],
          "histogram2d": [
           {
            "colorbar": {
             "outlinewidth": 1,
             "tickcolor": "rgb(36,36,36)",
             "ticks": "outside"
            },
            "colorscale": [
             [
              0.0,
              "#440154"
             ],
             [
              0.1111111111111111,
              "#482878"
             ],
             [
              0.2222222222222222,
              "#3e4989"
             ],
             [
              0.3333333333333333,
              "#31688e"
             ],
             [
              0.4444444444444444,
              "#26828e"
             ],
             [
              0.5555555555555556,
              "#1f9e89"
             ],
             [
              0.6666666666666666,
              "#35b779"
             ],
             [
              0.7777777777777778,
              "#6ece58"
             ],
             [
              0.8888888888888888,
              "#b5de2b"
             ],
             [
              1.0,
              "#fde725"
             ]
            ],
            "type": "histogram2d"
           }
          ],
          "histogram2dcontour": [
           {
            "colorbar": {
             "outlinewidth": 1,
             "tickcolor": "rgb(36,36,36)",
             "ticks": "outside"
            },
            "colorscale": [
             [
              0.0,
              "#440154"
             ],
             [
              0.1111111111111111,
              "#482878"
             ],
             [
              0.2222222222222222,
              "#3e4989"
             ],
             [
              0.3333333333333333,
              "#31688e"
             ],
             [
              0.4444444444444444,
              "#26828e"
             ],
             [
              0.5555555555555556,
              "#1f9e89"
             ],
             [
              0.6666666666666666,
              "#35b779"
             ],
             [
              0.7777777777777778,
              "#6ece58"
             ],
             [
              0.8888888888888888,
              "#b5de2b"
             ],
             [
              1.0,
              "#fde725"
             ]
            ],
            "type": "histogram2dcontour"
           }
          ],
          "mesh3d": [
           {
            "colorbar": {
             "outlinewidth": 1,
             "tickcolor": "rgb(36,36,36)",
             "ticks": "outside"
            },
            "type": "mesh3d"
           }
          ],
          "parcoords": [
           {
            "line": {
             "colorbar": {
              "outlinewidth": 1,
              "tickcolor": "rgb(36,36,36)",
              "ticks": "outside"
             }
            },
            "type": "parcoords"
           }
          ],
          "pie": [
           {
            "automargin": true,
            "type": "pie"
           }
          ],
          "scatter": [
           {
            "fillpattern": {
             "fillmode": "overlay",
             "size": 10,
             "solidity": 0.2
            },
            "type": "scatter"
           }
          ],
          "scatter3d": [
           {
            "line": {
             "colorbar": {
              "outlinewidth": 1,
              "tickcolor": "rgb(36,36,36)",
              "ticks": "outside"
             }
            },
            "marker": {
             "colorbar": {
              "outlinewidth": 1,
              "tickcolor": "rgb(36,36,36)",
              "ticks": "outside"
             }
            },
            "type": "scatter3d"
           }
          ],
          "scattercarpet": [
           {
            "marker": {
             "colorbar": {
              "outlinewidth": 1,
              "tickcolor": "rgb(36,36,36)",
              "ticks": "outside"
             }
            },
            "type": "scattercarpet"
           }
          ],
          "scattergeo": [
           {
            "marker": {
             "colorbar": {
              "outlinewidth": 1,
              "tickcolor": "rgb(36,36,36)",
              "ticks": "outside"
             }
            },
            "type": "scattergeo"
           }
          ],
          "scattergl": [
           {
            "marker": {
             "colorbar": {
              "outlinewidth": 1,
              "tickcolor": "rgb(36,36,36)",
              "ticks": "outside"
             }
            },
            "type": "scattergl"
           }
          ],
          "scattermapbox": [
           {
            "marker": {
             "colorbar": {
              "outlinewidth": 1,
              "tickcolor": "rgb(36,36,36)",
              "ticks": "outside"
             }
            },
            "type": "scattermapbox"
           }
          ],
          "scatterpolar": [
           {
            "marker": {
             "colorbar": {
              "outlinewidth": 1,
              "tickcolor": "rgb(36,36,36)",
              "ticks": "outside"
             }
            },
            "type": "scatterpolar"
           }
          ],
          "scatterpolargl": [
           {
            "marker": {
             "colorbar": {
              "outlinewidth": 1,
              "tickcolor": "rgb(36,36,36)",
              "ticks": "outside"
             }
            },
            "type": "scatterpolargl"
           }
          ],
          "scatterternary": [
           {
            "marker": {
             "colorbar": {
              "outlinewidth": 1,
              "tickcolor": "rgb(36,36,36)",
              "ticks": "outside"
             }
            },
            "type": "scatterternary"
           }
          ],
          "surface": [
           {
            "colorbar": {
             "outlinewidth": 1,
             "tickcolor": "rgb(36,36,36)",
             "ticks": "outside"
            },
            "colorscale": [
             [
              0.0,
              "#440154"
             ],
             [
              0.1111111111111111,
              "#482878"
             ],
             [
              0.2222222222222222,
              "#3e4989"
             ],
             [
              0.3333333333333333,
              "#31688e"
             ],
             [
              0.4444444444444444,
              "#26828e"
             ],
             [
              0.5555555555555556,
              "#1f9e89"
             ],
             [
              0.6666666666666666,
              "#35b779"
             ],
             [
              0.7777777777777778,
              "#6ece58"
             ],
             [
              0.8888888888888888,
              "#b5de2b"
             ],
             [
              1.0,
              "#fde725"
             ]
            ],
            "type": "surface"
           }
          ],
          "table": [
           {
            "cells": {
             "fill": {
              "color": "rgb(237,237,237)"
             },
             "line": {
              "color": "white"
             }
            },
            "header": {
             "fill": {
              "color": "rgb(217,217,217)"
             },
             "line": {
              "color": "white"
             }
            },
            "type": "table"
           }
          ]
         },
         "layout": {
          "annotationdefaults": {
           "arrowhead": 0,
           "arrowwidth": 1
          },
          "autotypenumbers": "strict",
          "coloraxis": {
           "colorbar": {
            "outlinewidth": 1,
            "tickcolor": "rgb(36,36,36)",
            "ticks": "outside"
           }
          },
          "colorscale": {
           "diverging": [
            [
             0.0,
             "rgb(103,0,31)"
            ],
            [
             0.1,
             "rgb(178,24,43)"
            ],
            [
             0.2,
             "rgb(214,96,77)"
            ],
            [
             0.3,
             "rgb(244,165,130)"
            ],
            [
             0.4,
             "rgb(253,219,199)"
            ],
            [
             0.5,
             "rgb(247,247,247)"
            ],
            [
             0.6,
             "rgb(209,229,240)"
            ],
            [
             0.7,
             "rgb(146,197,222)"
            ],
            [
             0.8,
             "rgb(67,147,195)"
            ],
            [
             0.9,
             "rgb(33,102,172)"
            ],
            [
             1.0,
             "rgb(5,48,97)"
            ]
           ],
           "sequential": [
            [
             0.0,
             "#440154"
            ],
            [
             0.1111111111111111,
             "#482878"
            ],
            [
             0.2222222222222222,
             "#3e4989"
            ],
            [
             0.3333333333333333,
             "#31688e"
            ],
            [
             0.4444444444444444,
             "#26828e"
            ],
            [
             0.5555555555555556,
             "#1f9e89"
            ],
            [
             0.6666666666666666,
             "#35b779"
            ],
            [
             0.7777777777777778,
             "#6ece58"
            ],
            [
             0.8888888888888888,
             "#b5de2b"
            ],
            [
             1.0,
             "#fde725"
            ]
           ],
           "sequentialminus": [
            [
             0.0,
             "#440154"
            ],
            [
             0.1111111111111111,
             "#482878"
            ],
            [
             0.2222222222222222,
             "#3e4989"
            ],
            [
             0.3333333333333333,
             "#31688e"
            ],
            [
             0.4444444444444444,
             "#26828e"
            ],
            [
             0.5555555555555556,
             "#1f9e89"
            ],
            [
             0.6666666666666666,
             "#35b779"
            ],
            [
             0.7777777777777778,
             "#6ece58"
            ],
            [
             0.8888888888888888,
             "#b5de2b"
            ],
            [
             1.0,
             "#fde725"
            ]
           ]
          },
          "colorway": [
           "#91268F",
           "#8CC63E",
           "#00A7A0",
           "#F05A28",
           "#4C4C4C",
           "#630460",
           "#9f3913",
           "#588527",
           "#00716c",
           "#3e4040"
          ],
          "font": {
           "color": "rgb(36,36,36)",
           "family": "Poppins",
           "size": 11
          },
          "geo": {
           "bgcolor": "white",
           "lakecolor": "white",
           "landcolor": "white",
           "showlakes": true,
           "showland": true,
           "subunitcolor": "white"
          },
          "hoverlabel": {
           "align": "left"
          },
          "hovermode": "closest",
          "mapbox": {
           "style": "light"
          },
          "paper_bgcolor": "white",
          "plot_bgcolor": "white",
          "polar": {
           "angularaxis": {
            "gridcolor": "rgb(232,232,232)",
            "linecolor": "rgb(36,36,36)",
            "showgrid": false,
            "showline": true,
            "ticks": "outside"
           },
           "bgcolor": "white",
           "radialaxis": {
            "gridcolor": "rgb(232,232,232)",
            "linecolor": "rgb(36,36,36)",
            "showgrid": false,
            "showline": true,
            "ticks": "outside"
           }
          },
          "scene": {
           "xaxis": {
            "backgroundcolor": "white",
            "gridcolor": "rgb(232,232,232)",
            "gridwidth": 2,
            "linecolor": "rgb(36,36,36)",
            "showbackground": true,
            "showgrid": false,
            "showline": true,
            "ticks": "outside",
            "zeroline": false,
            "zerolinecolor": "rgb(36,36,36)"
           },
           "yaxis": {
            "backgroundcolor": "white",
            "gridcolor": "rgb(232,232,232)",
            "gridwidth": 2,
            "linecolor": "rgb(36,36,36)",
            "showbackground": true,
            "showgrid": false,
            "showline": true,
            "ticks": "outside",
            "zeroline": false,
            "zerolinecolor": "rgb(36,36,36)"
           },
           "zaxis": {
            "backgroundcolor": "white",
            "gridcolor": "rgb(232,232,232)",
            "gridwidth": 2,
            "linecolor": "rgb(36,36,36)",
            "showbackground": true,
            "showgrid": false,
            "showline": true,
            "ticks": "outside",
            "zeroline": false,
            "zerolinecolor": "rgb(36,36,36)"
           }
          },
          "shapedefaults": {
           "fillcolor": "black",
           "line": {
            "width": 0
           },
           "opacity": 0.3
          },
          "ternary": {
           "aaxis": {
            "gridcolor": "rgb(232,232,232)",
            "linecolor": "rgb(36,36,36)",
            "showgrid": false,
            "showline": true,
            "ticks": "outside"
           },
           "baxis": {
            "gridcolor": "rgb(232,232,232)",
            "linecolor": "rgb(36,36,36)",
            "showgrid": false,
            "showline": true,
            "ticks": "outside"
           },
           "bgcolor": "white",
           "caxis": {
            "gridcolor": "rgb(232,232,232)",
            "linecolor": "rgb(36,36,36)",
            "showgrid": false,
            "showline": true,
            "ticks": "outside"
           }
          },
          "title": {
           "x": 0.05
          },
          "xaxis": {
           "automargin": true,
           "gridcolor": "rgb(232,232,232)",
           "linecolor": "rgb(36,36,36)",
           "showgrid": false,
           "showline": true,
           "ticks": "outside",
           "title": {
            "standoff": 15
           },
           "zeroline": false,
           "zerolinecolor": "rgb(36,36,36)"
          },
          "yaxis": {
           "automargin": true,
           "gridcolor": "rgb(232,232,232)",
           "linecolor": "rgb(36,36,36)",
           "showgrid": false,
           "showline": true,
           "ticks": "outside",
           "title": {
            "standoff": 15
           },
           "zeroline": false,
           "zerolinecolor": "rgb(36,36,36)"
          }
         }
        },
        "title": {
         "text": "other home-based tour mode choice by household size"
        },
        "width": 800,
        "xaxis": {
         "anchor": "y",
         "domain": [
          0.0,
          0.49
         ],
         "tickformat": ".1%",
         "title": {
          "text": "percentage"
         }
        },
        "xaxis2": {
         "anchor": "y2",
         "domain": [
          0.51,
          1.0
         ],
         "matches": "x",
         "tickformat": ".1%",
         "title": {
          "text": "percentage"
         }
        },
        "xaxis3": {
         "anchor": "y3",
         "domain": [
          0.0,
          0.49
         ],
         "matches": "x",
         "showticklabels": false,
         "tickformat": ".1%"
        },
        "xaxis4": {
         "anchor": "y4",
         "domain": [
          0.51,
          1.0
         ],
         "matches": "x",
         "showticklabels": false,
         "tickformat": ".1%"
        },
        "yaxis": {
         "anchor": "x",
         "categoryarray": [
          "9: other–survey only",
          "8: school bus",
          "7: park-and-ride",
          "6: walk to transit",
          "5: hov 3+",
          "4: hov 2",
          "3: sov",
          "2: bike",
          "1: walk"
         ],
         "categoryorder": "array",
         "domain": [
          0.0,
          0.46499999999999997
         ],
         "title": {
          "text": "tmodetp_label"
         }
        },
        "yaxis2": {
         "anchor": "x2",
         "domain": [
          0.0,
          0.46499999999999997
         ],
         "matches": "y",
         "showticklabels": false
        },
        "yaxis3": {
         "anchor": "x3",
         "categoryarray": [
          "9: other–survey only",
          "8: school bus",
          "7: park-and-ride",
          "6: walk to transit",
          "5: hov 3+",
          "4: hov 2",
          "3: sov",
          "2: bike",
          "1: walk"
         ],
         "categoryorder": "array",
         "domain": [
          0.5349999999999999,
          0.9999999999999999
         ],
         "matches": "y",
         "title": {
          "text": "tmodetp_label"
         }
        },
        "yaxis4": {
         "anchor": "x4",
         "domain": [
          0.5349999999999999,
          0.9999999999999999
         ],
         "matches": "y",
         "showticklabels": false
        }
       }
      },
      "text/html": [
       "<div>                            <div id=\"a1535514-8101-45c4-9291-889dfd3f3f40\" class=\"plotly-graph-div\" style=\"height:600px; width:800px;\"></div>            <script type=\"text/javascript\">                require([\"plotly\"], function(Plotly) {                    window.PLOTLYENV=window.PLOTLYENV || {};                                    if (document.getElementById(\"a1535514-8101-45c4-9291-889dfd3f3f40\")) {                    Plotly.newPlot(                        \"a1535514-8101-45c4-9291-889dfd3f3f40\",                        [{\"alignmentgroup\":\"True\",\"customdata\":[[92490],[10257],[214190],[31615],[20867],[37493],[2629]],\"hovertemplate\":\"source=model\\u003cbr\\u003ehhsize_4+=1\\u003cbr\\u003epercentage=%{x}\\u003cbr\\u003etmodetp_label=%{y}\\u003cbr\\u003esample count=%{customdata[0]}\\u003cextra\\u003e\\u003c\\u002fextra\\u003e\",\"legendgroup\":\"model\",\"marker\":{\"color\":\"#91268F\",\"pattern\":{\"shape\":\"\"}},\"name\":\"model\",\"offsetgroup\":\"model\",\"orientation\":\"h\",\"showlegend\":true,\"textposition\":\"auto\",\"x\":[0.2258381944664881,0.02504511147846003,0.5230001391802042,0.07719617816042838,0.050952163519647604,0.09154883149672438,0.006419381698047327],\"xaxis\":\"x3\",\"y\":[\"1: walk\",\"2: bike\",\"3: sov\",\"4: hov 2\",\"5: hov 3+\",\"6: walk to transit\",\"9: tnc\"],\"yaxis\":\"y3\",\"type\":\"bar\"},{\"alignmentgroup\":\"True\",\"customdata\":[[118270],[13293],[378357],[250656],[37390],[27489],[1997]],\"hovertemplate\":\"source=model\\u003cbr\\u003ehhsize_4+=2\\u003cbr\\u003epercentage=%{x}\\u003cbr\\u003etmodetp_label=%{y}\\u003cbr\\u003esample count=%{customdata[0]}\\u003cextra\\u003e\\u003c\\u002fextra\\u003e\",\"legendgroup\":\"model\",\"marker\":{\"color\":\"#91268F\",\"pattern\":{\"shape\":\"\"}},\"name\":\"model\",\"offsetgroup\":\"model\",\"orientation\":\"h\",\"showlegend\":false,\"textposition\":\"auto\",\"x\":[0.14293276226294696,0.016064980204289796,0.45725552660456437,0.30292512435766666,0.045186911144090534,0.03322126238138285,0.002413433045058807],\"xaxis\":\"x4\",\"y\":[\"1: walk\",\"2: bike\",\"3: sov\",\"4: hov 2\",\"5: hov 3+\",\"6: walk to transit\",\"9: tnc\"],\"yaxis\":\"y4\",\"type\":\"bar\"},{\"alignmentgroup\":\"True\",\"customdata\":[[57182],[6773],[130194],[85857],[217513],[10667],[644]],\"hovertemplate\":\"source=model\\u003cbr\\u003ehhsize_4+=3\\u003cbr\\u003epercentage=%{x}\\u003cbr\\u003etmodetp_label=%{y}\\u003cbr\\u003esample count=%{customdata[0]}\\u003cextra\\u003e\\u003c\\u002fextra\\u003e\",\"legendgroup\":\"model\",\"marker\":{\"color\":\"#91268F\",\"pattern\":{\"shape\":\"\"}},\"name\":\"model\",\"offsetgroup\":\"model\",\"orientation\":\"h\",\"showlegend\":false,\"textposition\":\"auto\",\"x\":[0.11237938014661085,0.013310928993966551,0.25586934732621897,0.16873415482577678,0.4274767604111393,0.020963779651357036,0.0012656486449305268],\"xaxis\":\"x\",\"y\":[\"1: walk\",\"2: bike\",\"3: sov\",\"4: hov 2\",\"5: hov 3+\",\"6: walk to transit\",\"9: tnc\"],\"yaxis\":\"y\",\"type\":\"bar\"},{\"alignmentgroup\":\"True\",\"customdata\":[[104429],[12788],[204865],[189350],[477768],[19788],[1431]],\"hovertemplate\":\"source=model\\u003cbr\\u003ehhsize_4+=4+\\u003cbr\\u003epercentage=%{x}\\u003cbr\\u003etmodetp_label=%{y}\\u003cbr\\u003esample count=%{customdata[0]}\\u003cextra\\u003e\\u003c\\u002fextra\\u003e\",\"legendgroup\":\"model\",\"marker\":{\"color\":\"#91268F\",\"pattern\":{\"shape\":\"\"}},\"name\":\"model\",\"offsetgroup\":\"model\",\"orientation\":\"h\",\"showlegend\":false,\"textposition\":\"auto\",\"x\":[0.1033521737021968,0.012656135721913384,0.20275252147871328,0.18739750539132777,0.4728414647784731,0.01958395477519722,0.0014162441521784527],\"xaxis\":\"x2\",\"y\":[\"1: walk\",\"2: bike\",\"3: sov\",\"4: hov 2\",\"5: hov 3+\",\"6: walk to transit\",\"9: tnc\"],\"yaxis\":\"y2\",\"type\":\"bar\"},{\"alignmentgroup\":\"True\",\"customdata\":[[380],[52],[466],[84],[28],[129],[4],[11]],\"hovertemplate\":\"source=survey\\u003cbr\\u003ehhsize_4+=1\\u003cbr\\u003epercentage=%{x}\\u003cbr\\u003etmodetp_label=%{y}\\u003cbr\\u003esample count=%{customdata[0]}\\u003cextra\\u003e\\u003c\\u002fextra\\u003e\",\"legendgroup\":\"survey\",\"marker\":{\"color\":\"#8CC63E\",\"pattern\":{\"shape\":\"\"}},\"name\":\"survey\",\"offsetgroup\":\"survey\",\"orientation\":\"h\",\"showlegend\":true,\"textposition\":\"auto\",\"x\":[0.23483847968663238,0.017692740415431143,0.4803252035232982,0.10295848090713028,0.022913181563890682,0.13214815909897953,0.0010534747848565207,0.00807028001978124],\"xaxis\":\"x3\",\"y\":[\"1: walk\",\"2: bike\",\"3: sov\",\"4: hov 2\",\"5: hov 3+\",\"6: walk to transit\",\"7: park-and-ride\",\"9: tnc\"],\"yaxis\":\"y3\",\"type\":\"bar\"},{\"alignmentgroup\":\"True\",\"customdata\":[[373],[43],[570],[485],[109],[52],[4],[7]],\"hovertemplate\":\"source=survey\\u003cbr\\u003ehhsize_4+=2\\u003cbr\\u003epercentage=%{x}\\u003cbr\\u003etmodetp_label=%{y}\\u003cbr\\u003esample count=%{customdata[0]}\\u003cextra\\u003e\\u003c\\u002fextra\\u003e\",\"legendgroup\":\"survey\",\"marker\":{\"color\":\"#8CC63E\",\"pattern\":{\"shape\":\"\"}},\"name\":\"survey\",\"offsetgroup\":\"survey\",\"orientation\":\"h\",\"showlegend\":false,\"textposition\":\"auto\",\"x\":[0.10548936305851056,0.031626928728716495,0.4341249422971015,0.28446719549509436,0.12008847711411938,0.018734978363726684,0.0002837645930617865,0.005184350349669256],\"xaxis\":\"x4\",\"y\":[\"1: walk\",\"2: bike\",\"3: sov\",\"4: hov 2\",\"5: hov 3+\",\"6: walk to transit\",\"7: park-and-ride\",\"9: tnc\"],\"yaxis\":\"y4\",\"type\":\"bar\"},{\"alignmentgroup\":\"True\",\"customdata\":[[81],[15],[141],[135],[76],[7],[4],[1]],\"hovertemplate\":\"source=survey\\u003cbr\\u003ehhsize_4+=3\\u003cbr\\u003epercentage=%{x}\\u003cbr\\u003etmodetp_label=%{y}\\u003cbr\\u003esample count=%{customdata[0]}\\u003cextra\\u003e\\u003c\\u002fextra\\u003e\",\"legendgroup\":\"survey\",\"marker\":{\"color\":\"#8CC63E\",\"pattern\":{\"shape\":\"\"}},\"name\":\"survey\",\"offsetgroup\":\"survey\",\"orientation\":\"h\",\"showlegend\":false,\"textposition\":\"auto\",\"x\":[0.1361069487021761,0.012931134998040968,0.3154741006251336,0.3101153949146536,0.2168947557222823,0.005688885626185093,0.0025538861946504095,0.00023489321687780168],\"xaxis\":\"x\",\"y\":[\"1: walk\",\"2: bike\",\"3: sov\",\"4: hov 2\",\"5: hov 3+\",\"6: walk to transit\",\"7: park-and-ride\",\"9: tnc\"],\"yaxis\":\"y\",\"type\":\"bar\"},{\"alignmentgroup\":\"True\",\"customdata\":[[72],[8],[140],[107],[293],[12],[4],[2]],\"hovertemplate\":\"source=survey\\u003cbr\\u003ehhsize_4+=4+\\u003cbr\\u003epercentage=%{x}\\u003cbr\\u003etmodetp_label=%{y}\\u003cbr\\u003esample count=%{customdata[0]}\\u003cextra\\u003e\\u003c\\u002fextra\\u003e\",\"legendgroup\":\"survey\",\"marker\":{\"color\":\"#8CC63E\",\"pattern\":{\"shape\":\"\"}},\"name\":\"survey\",\"offsetgroup\":\"survey\",\"orientation\":\"h\",\"showlegend\":false,\"textposition\":\"auto\",\"x\":[0.08608109997299913,0.005293263966971112,0.2274126759335095,0.15985019706803674,0.4896112564153872,0.016844995988903207,0.014877130504552798,2.9380149640314584e-05],\"xaxis\":\"x2\",\"y\":[\"1: walk\",\"2: bike\",\"3: sov\",\"4: hov 2\",\"5: hov 3+\",\"6: walk to transit\",\"7: park-and-ride\",\"8: school bus\"],\"yaxis\":\"y2\",\"type\":\"bar\"},{\"alignmentgroup\":\"True\",\"customdata\":[[386],[40],[486],[84],[28],[128],[4],[11]],\"hovertemplate\":\"source=survey (update)\\u003cbr\\u003ehhsize_4+=1\\u003cbr\\u003epercentage=%{x}\\u003cbr\\u003etmodetp_label=%{y}\\u003cbr\\u003esample count=%{customdata[0]}\\u003cextra\\u003e\\u003c\\u002fextra\\u003e\",\"legendgroup\":\"survey (update)\",\"marker\":{\"color\":\"#00A7A0\",\"pattern\":{\"shape\":\"\"}},\"name\":\"survey (update)\",\"offsetgroup\":\"survey (update)\",\"orientation\":\"h\",\"showlegend\":true,\"textposition\":\"auto\",\"x\":[0.21206021891749657,0.00905180204313133,0.5018220392939062,0.11817883708489269,0.022951310163476735,0.12617980588640576,0.0028556448950072203,0.006900341715683519],\"xaxis\":\"x3\",\"y\":[\"1: walk\",\"2: bike\",\"3: sov\",\"4: hov 2\",\"5: hov 3+\",\"6: walk to transit\",\"7: park-and-ride\",\"9: tnc\"],\"yaxis\":\"y3\",\"type\":\"bar\"},{\"alignmentgroup\":\"True\",\"customdata\":[[405],[39],[601],[505],[116],[53],[4],[9]],\"hovertemplate\":\"source=survey (update)\\u003cbr\\u003ehhsize_4+=2\\u003cbr\\u003epercentage=%{x}\\u003cbr\\u003etmodetp_label=%{y}\\u003cbr\\u003esample count=%{customdata[0]}\\u003cextra\\u003e\\u003c\\u002fextra\\u003e\",\"legendgroup\":\"survey (update)\",\"marker\":{\"color\":\"#00A7A0\",\"pattern\":{\"shape\":\"\"}},\"name\":\"survey (update)\",\"offsetgroup\":\"survey (update)\",\"orientation\":\"h\",\"showlegend\":false,\"textposition\":\"auto\",\"x\":[0.1390482831948775,0.0060701893748073416,0.4281614875242978,0.2772444926636628,0.0990214264057414,0.04572799142798871,0.000253631831817048,0.004472497576807392],\"xaxis\":\"x4\",\"y\":[\"1: walk\",\"2: bike\",\"3: sov\",\"4: hov 2\",\"5: hov 3+\",\"6: walk to transit\",\"7: park-and-ride\",\"9: tnc\"],\"yaxis\":\"y4\",\"type\":\"bar\"},{\"alignmentgroup\":\"True\",\"customdata\":[[89],[19],[160],[152],[90],[10],[4],[2]],\"hovertemplate\":\"source=survey (update)\\u003cbr\\u003ehhsize_4+=3\\u003cbr\\u003epercentage=%{x}\\u003cbr\\u003etmodetp_label=%{y}\\u003cbr\\u003esample count=%{customdata[0]}\\u003cextra\\u003e\\u003c\\u002fextra\\u003e\",\"legendgroup\":\"survey (update)\",\"marker\":{\"color\":\"#00A7A0\",\"pattern\":{\"shape\":\"\"}},\"name\":\"survey (update)\",\"offsetgroup\":\"survey (update)\",\"orientation\":\"h\",\"showlegend\":false,\"textposition\":\"auto\",\"x\":[0.14158931083843984,0.02905585889432311,0.32298307053756226,0.37950332516861995,0.08788681312870694,0.03694204295816023,0.0012551510179618151,0.0007844274562257363],\"xaxis\":\"x\",\"y\":[\"1: walk\",\"2: bike\",\"3: sov\",\"4: hov 2\",\"5: hov 3+\",\"6: walk to transit\",\"7: park-and-ride\",\"9: tnc\"],\"yaxis\":\"y\",\"type\":\"bar\"},{\"alignmentgroup\":\"True\",\"customdata\":[[84],[10],[149],[132],[324],[15],[4],[2]],\"hovertemplate\":\"source=survey (update)\\u003cbr\\u003ehhsize_4+=4+\\u003cbr\\u003epercentage=%{x}\\u003cbr\\u003etmodetp_label=%{y}\\u003cbr\\u003esample count=%{customdata[0]}\\u003cextra\\u003e\\u003c\\u002fextra\\u003e\",\"legendgroup\":\"survey (update)\",\"marker\":{\"color\":\"#00A7A0\",\"pattern\":{\"shape\":\"\"}},\"name\":\"survey (update)\",\"offsetgroup\":\"survey (update)\",\"orientation\":\"h\",\"showlegend\":false,\"textposition\":\"auto\",\"x\":[0.1068735205101192,0.01056888857930645,0.24352124561508948,0.2396300165878987,0.3417758019497899,0.04481374390409055,0.00874888395135968,0.004067898902346095],\"xaxis\":\"x2\",\"y\":[\"1: walk\",\"2: bike\",\"3: sov\",\"4: hov 2\",\"5: hov 3+\",\"6: walk to transit\",\"7: park-and-ride\",\"9: tnc\"],\"yaxis\":\"y2\",\"type\":\"bar\"}],                        {\"template\":{\"data\":{\"barpolar\":[{\"marker\":{\"line\":{\"color\":\"white\",\"width\":0.5},\"pattern\":{\"fillmode\":\"overlay\",\"size\":10,\"solidity\":0.2}},\"type\":\"barpolar\"}],\"bar\":[{\"error_x\":{\"color\":\"rgb(36,36,36)\"},\"error_y\":{\"color\":\"rgb(36,36,36)\"},\"marker\":{\"line\":{\"color\":\"white\",\"width\":0.5},\"pattern\":{\"fillmode\":\"overlay\",\"size\":10,\"solidity\":0.2}},\"type\":\"bar\"}],\"carpet\":[{\"aaxis\":{\"endlinecolor\":\"rgb(36,36,36)\",\"gridcolor\":\"white\",\"linecolor\":\"white\",\"minorgridcolor\":\"white\",\"startlinecolor\":\"rgb(36,36,36)\"},\"baxis\":{\"endlinecolor\":\"rgb(36,36,36)\",\"gridcolor\":\"white\",\"linecolor\":\"white\",\"minorgridcolor\":\"white\",\"startlinecolor\":\"rgb(36,36,36)\"},\"type\":\"carpet\"}],\"choropleth\":[{\"colorbar\":{\"outlinewidth\":1,\"tickcolor\":\"rgb(36,36,36)\",\"ticks\":\"outside\"},\"type\":\"choropleth\"}],\"contourcarpet\":[{\"colorbar\":{\"outlinewidth\":1,\"tickcolor\":\"rgb(36,36,36)\",\"ticks\":\"outside\"},\"type\":\"contourcarpet\"}],\"contour\":[{\"colorbar\":{\"outlinewidth\":1,\"tickcolor\":\"rgb(36,36,36)\",\"ticks\":\"outside\"},\"colorscale\":[[0.0,\"#440154\"],[0.1111111111111111,\"#482878\"],[0.2222222222222222,\"#3e4989\"],[0.3333333333333333,\"#31688e\"],[0.4444444444444444,\"#26828e\"],[0.5555555555555556,\"#1f9e89\"],[0.6666666666666666,\"#35b779\"],[0.7777777777777778,\"#6ece58\"],[0.8888888888888888,\"#b5de2b\"],[1.0,\"#fde725\"]],\"type\":\"contour\"}],\"heatmapgl\":[{\"colorbar\":{\"outlinewidth\":1,\"tickcolor\":\"rgb(36,36,36)\",\"ticks\":\"outside\"},\"colorscale\":[[0.0,\"#440154\"],[0.1111111111111111,\"#482878\"],[0.2222222222222222,\"#3e4989\"],[0.3333333333333333,\"#31688e\"],[0.4444444444444444,\"#26828e\"],[0.5555555555555556,\"#1f9e89\"],[0.6666666666666666,\"#35b779\"],[0.7777777777777778,\"#6ece58\"],[0.8888888888888888,\"#b5de2b\"],[1.0,\"#fde725\"]],\"type\":\"heatmapgl\"}],\"heatmap\":[{\"colorbar\":{\"outlinewidth\":1,\"tickcolor\":\"rgb(36,36,36)\",\"ticks\":\"outside\"},\"colorscale\":[[0.0,\"#440154\"],[0.1111111111111111,\"#482878\"],[0.2222222222222222,\"#3e4989\"],[0.3333333333333333,\"#31688e\"],[0.4444444444444444,\"#26828e\"],[0.5555555555555556,\"#1f9e89\"],[0.6666666666666666,\"#35b779\"],[0.7777777777777778,\"#6ece58\"],[0.8888888888888888,\"#b5de2b\"],[1.0,\"#fde725\"]],\"type\":\"heatmap\"}],\"histogram2dcontour\":[{\"colorbar\":{\"outlinewidth\":1,\"tickcolor\":\"rgb(36,36,36)\",\"ticks\":\"outside\"},\"colorscale\":[[0.0,\"#440154\"],[0.1111111111111111,\"#482878\"],[0.2222222222222222,\"#3e4989\"],[0.3333333333333333,\"#31688e\"],[0.4444444444444444,\"#26828e\"],[0.5555555555555556,\"#1f9e89\"],[0.6666666666666666,\"#35b779\"],[0.7777777777777778,\"#6ece58\"],[0.8888888888888888,\"#b5de2b\"],[1.0,\"#fde725\"]],\"type\":\"histogram2dcontour\"}],\"histogram2d\":[{\"colorbar\":{\"outlinewidth\":1,\"tickcolor\":\"rgb(36,36,36)\",\"ticks\":\"outside\"},\"colorscale\":[[0.0,\"#440154\"],[0.1111111111111111,\"#482878\"],[0.2222222222222222,\"#3e4989\"],[0.3333333333333333,\"#31688e\"],[0.4444444444444444,\"#26828e\"],[0.5555555555555556,\"#1f9e89\"],[0.6666666666666666,\"#35b779\"],[0.7777777777777778,\"#6ece58\"],[0.8888888888888888,\"#b5de2b\"],[1.0,\"#fde725\"]],\"type\":\"histogram2d\"}],\"histogram\":[{\"marker\":{\"line\":{\"color\":\"white\",\"width\":0.6}},\"type\":\"histogram\"}],\"mesh3d\":[{\"colorbar\":{\"outlinewidth\":1,\"tickcolor\":\"rgb(36,36,36)\",\"ticks\":\"outside\"},\"type\":\"mesh3d\"}],\"parcoords\":[{\"line\":{\"colorbar\":{\"outlinewidth\":1,\"tickcolor\":\"rgb(36,36,36)\",\"ticks\":\"outside\"}},\"type\":\"parcoords\"}],\"pie\":[{\"automargin\":true,\"type\":\"pie\"}],\"scatter3d\":[{\"line\":{\"colorbar\":{\"outlinewidth\":1,\"tickcolor\":\"rgb(36,36,36)\",\"ticks\":\"outside\"}},\"marker\":{\"colorbar\":{\"outlinewidth\":1,\"tickcolor\":\"rgb(36,36,36)\",\"ticks\":\"outside\"}},\"type\":\"scatter3d\"}],\"scattercarpet\":[{\"marker\":{\"colorbar\":{\"outlinewidth\":1,\"tickcolor\":\"rgb(36,36,36)\",\"ticks\":\"outside\"}},\"type\":\"scattercarpet\"}],\"scattergeo\":[{\"marker\":{\"colorbar\":{\"outlinewidth\":1,\"tickcolor\":\"rgb(36,36,36)\",\"ticks\":\"outside\"}},\"type\":\"scattergeo\"}],\"scattergl\":[{\"marker\":{\"colorbar\":{\"outlinewidth\":1,\"tickcolor\":\"rgb(36,36,36)\",\"ticks\":\"outside\"}},\"type\":\"scattergl\"}],\"scattermapbox\":[{\"marker\":{\"colorbar\":{\"outlinewidth\":1,\"tickcolor\":\"rgb(36,36,36)\",\"ticks\":\"outside\"}},\"type\":\"scattermapbox\"}],\"scatterpolargl\":[{\"marker\":{\"colorbar\":{\"outlinewidth\":1,\"tickcolor\":\"rgb(36,36,36)\",\"ticks\":\"outside\"}},\"type\":\"scatterpolargl\"}],\"scatterpolar\":[{\"marker\":{\"colorbar\":{\"outlinewidth\":1,\"tickcolor\":\"rgb(36,36,36)\",\"ticks\":\"outside\"}},\"type\":\"scatterpolar\"}],\"scatter\":[{\"fillpattern\":{\"fillmode\":\"overlay\",\"size\":10,\"solidity\":0.2},\"type\":\"scatter\"}],\"scatterternary\":[{\"marker\":{\"colorbar\":{\"outlinewidth\":1,\"tickcolor\":\"rgb(36,36,36)\",\"ticks\":\"outside\"}},\"type\":\"scatterternary\"}],\"surface\":[{\"colorbar\":{\"outlinewidth\":1,\"tickcolor\":\"rgb(36,36,36)\",\"ticks\":\"outside\"},\"colorscale\":[[0.0,\"#440154\"],[0.1111111111111111,\"#482878\"],[0.2222222222222222,\"#3e4989\"],[0.3333333333333333,\"#31688e\"],[0.4444444444444444,\"#26828e\"],[0.5555555555555556,\"#1f9e89\"],[0.6666666666666666,\"#35b779\"],[0.7777777777777778,\"#6ece58\"],[0.8888888888888888,\"#b5de2b\"],[1.0,\"#fde725\"]],\"type\":\"surface\"}],\"table\":[{\"cells\":{\"fill\":{\"color\":\"rgb(237,237,237)\"},\"line\":{\"color\":\"white\"}},\"header\":{\"fill\":{\"color\":\"rgb(217,217,217)\"},\"line\":{\"color\":\"white\"}},\"type\":\"table\"}]},\"layout\":{\"annotationdefaults\":{\"arrowhead\":0,\"arrowwidth\":1},\"autotypenumbers\":\"strict\",\"coloraxis\":{\"colorbar\":{\"outlinewidth\":1,\"tickcolor\":\"rgb(36,36,36)\",\"ticks\":\"outside\"}},\"colorscale\":{\"diverging\":[[0.0,\"rgb(103,0,31)\"],[0.1,\"rgb(178,24,43)\"],[0.2,\"rgb(214,96,77)\"],[0.3,\"rgb(244,165,130)\"],[0.4,\"rgb(253,219,199)\"],[0.5,\"rgb(247,247,247)\"],[0.6,\"rgb(209,229,240)\"],[0.7,\"rgb(146,197,222)\"],[0.8,\"rgb(67,147,195)\"],[0.9,\"rgb(33,102,172)\"],[1.0,\"rgb(5,48,97)\"]],\"sequential\":[[0.0,\"#440154\"],[0.1111111111111111,\"#482878\"],[0.2222222222222222,\"#3e4989\"],[0.3333333333333333,\"#31688e\"],[0.4444444444444444,\"#26828e\"],[0.5555555555555556,\"#1f9e89\"],[0.6666666666666666,\"#35b779\"],[0.7777777777777778,\"#6ece58\"],[0.8888888888888888,\"#b5de2b\"],[1.0,\"#fde725\"]],\"sequentialminus\":[[0.0,\"#440154\"],[0.1111111111111111,\"#482878\"],[0.2222222222222222,\"#3e4989\"],[0.3333333333333333,\"#31688e\"],[0.4444444444444444,\"#26828e\"],[0.5555555555555556,\"#1f9e89\"],[0.6666666666666666,\"#35b779\"],[0.7777777777777778,\"#6ece58\"],[0.8888888888888888,\"#b5de2b\"],[1.0,\"#fde725\"]]},\"colorway\":[\"#91268F\",\"#8CC63E\",\"#00A7A0\",\"#F05A28\",\"#4C4C4C\",\"#630460\",\"#9f3913\",\"#588527\",\"#00716c\",\"#3e4040\"],\"font\":{\"color\":\"rgb(36,36,36)\",\"family\":\"Poppins\",\"size\":11},\"geo\":{\"bgcolor\":\"white\",\"lakecolor\":\"white\",\"landcolor\":\"white\",\"showlakes\":true,\"showland\":true,\"subunitcolor\":\"white\"},\"hoverlabel\":{\"align\":\"left\"},\"hovermode\":\"closest\",\"mapbox\":{\"style\":\"light\"},\"paper_bgcolor\":\"white\",\"plot_bgcolor\":\"white\",\"polar\":{\"angularaxis\":{\"gridcolor\":\"rgb(232,232,232)\",\"linecolor\":\"rgb(36,36,36)\",\"showgrid\":false,\"showline\":true,\"ticks\":\"outside\"},\"bgcolor\":\"white\",\"radialaxis\":{\"gridcolor\":\"rgb(232,232,232)\",\"linecolor\":\"rgb(36,36,36)\",\"showgrid\":false,\"showline\":true,\"ticks\":\"outside\"}},\"scene\":{\"xaxis\":{\"backgroundcolor\":\"white\",\"gridcolor\":\"rgb(232,232,232)\",\"gridwidth\":2,\"linecolor\":\"rgb(36,36,36)\",\"showbackground\":true,\"showgrid\":false,\"showline\":true,\"ticks\":\"outside\",\"zeroline\":false,\"zerolinecolor\":\"rgb(36,36,36)\"},\"yaxis\":{\"backgroundcolor\":\"white\",\"gridcolor\":\"rgb(232,232,232)\",\"gridwidth\":2,\"linecolor\":\"rgb(36,36,36)\",\"showbackground\":true,\"showgrid\":false,\"showline\":true,\"ticks\":\"outside\",\"zeroline\":false,\"zerolinecolor\":\"rgb(36,36,36)\"},\"zaxis\":{\"backgroundcolor\":\"white\",\"gridcolor\":\"rgb(232,232,232)\",\"gridwidth\":2,\"linecolor\":\"rgb(36,36,36)\",\"showbackground\":true,\"showgrid\":false,\"showline\":true,\"ticks\":\"outside\",\"zeroline\":false,\"zerolinecolor\":\"rgb(36,36,36)\"}},\"shapedefaults\":{\"fillcolor\":\"black\",\"line\":{\"width\":0},\"opacity\":0.3},\"ternary\":{\"aaxis\":{\"gridcolor\":\"rgb(232,232,232)\",\"linecolor\":\"rgb(36,36,36)\",\"showgrid\":false,\"showline\":true,\"ticks\":\"outside\"},\"baxis\":{\"gridcolor\":\"rgb(232,232,232)\",\"linecolor\":\"rgb(36,36,36)\",\"showgrid\":false,\"showline\":true,\"ticks\":\"outside\"},\"bgcolor\":\"white\",\"caxis\":{\"gridcolor\":\"rgb(232,232,232)\",\"linecolor\":\"rgb(36,36,36)\",\"showgrid\":false,\"showline\":true,\"ticks\":\"outside\"}},\"title\":{\"x\":0.05},\"xaxis\":{\"automargin\":true,\"gridcolor\":\"rgb(232,232,232)\",\"linecolor\":\"rgb(36,36,36)\",\"showgrid\":false,\"showline\":true,\"ticks\":\"outside\",\"title\":{\"standoff\":15},\"zeroline\":false,\"zerolinecolor\":\"rgb(36,36,36)\"},\"yaxis\":{\"automargin\":true,\"gridcolor\":\"rgb(232,232,232)\",\"linecolor\":\"rgb(36,36,36)\",\"showgrid\":false,\"showline\":true,\"ticks\":\"outside\",\"title\":{\"standoff\":15},\"zeroline\":false,\"zerolinecolor\":\"rgb(36,36,36)\"}}},\"xaxis\":{\"anchor\":\"y\",\"domain\":[0.0,0.49],\"title\":{\"text\":\"percentage\"},\"tickformat\":\".1%\"},\"yaxis\":{\"anchor\":\"x\",\"domain\":[0.0,0.46499999999999997],\"title\":{\"text\":\"tmodetp_label\"},\"categoryorder\":\"array\",\"categoryarray\":[\"9: other\\u00e2\\u20ac\\u201csurvey only\",\"8: school bus\",\"7: park-and-ride\",\"6: walk to transit\",\"5: hov 3+\",\"4: hov 2\",\"3: sov\",\"2: bike\",\"1: walk\"]},\"xaxis2\":{\"anchor\":\"y2\",\"domain\":[0.51,1.0],\"matches\":\"x\",\"title\":{\"text\":\"percentage\"},\"tickformat\":\".1%\"},\"yaxis2\":{\"anchor\":\"x2\",\"domain\":[0.0,0.46499999999999997],\"matches\":\"y\",\"showticklabels\":false},\"xaxis3\":{\"anchor\":\"y3\",\"domain\":[0.0,0.49],\"matches\":\"x\",\"showticklabels\":false,\"tickformat\":\".1%\"},\"yaxis3\":{\"anchor\":\"x3\",\"domain\":[0.5349999999999999,0.9999999999999999],\"matches\":\"y\",\"title\":{\"text\":\"tmodetp_label\"},\"categoryorder\":\"array\",\"categoryarray\":[\"9: other\\u00e2\\u20ac\\u201csurvey only\",\"8: school bus\",\"7: park-and-ride\",\"6: walk to transit\",\"5: hov 3+\",\"4: hov 2\",\"3: sov\",\"2: bike\",\"1: walk\"]},\"xaxis4\":{\"anchor\":\"y4\",\"domain\":[0.51,1.0],\"matches\":\"x\",\"showticklabels\":false,\"tickformat\":\".1%\"},\"yaxis4\":{\"anchor\":\"x4\",\"domain\":[0.5349999999999999,0.9999999999999999],\"matches\":\"y\",\"showticklabels\":false},\"annotations\":[{\"font\":{},\"showarrow\":false,\"text\":\"3\",\"x\":0.245,\"xanchor\":\"center\",\"xref\":\"paper\",\"y\":0.46499999999999997,\"yanchor\":\"bottom\",\"yref\":\"paper\"},{\"font\":{},\"showarrow\":false,\"text\":\"4+\",\"x\":0.755,\"xanchor\":\"center\",\"xref\":\"paper\",\"y\":0.46499999999999997,\"yanchor\":\"bottom\",\"yref\":\"paper\"},{\"font\":{},\"showarrow\":false,\"text\":\"1\",\"x\":0.245,\"xanchor\":\"center\",\"xref\":\"paper\",\"y\":0.9999999999999999,\"yanchor\":\"bottom\",\"yref\":\"paper\"},{\"font\":{},\"showarrow\":false,\"text\":\"2\",\"x\":0.755,\"xanchor\":\"center\",\"xref\":\"paper\",\"y\":0.9999999999999999,\"yanchor\":\"bottom\",\"yref\":\"paper\"}],\"legend\":{\"title\":{\"text\":\"source\"},\"tracegroupgap\":0},\"title\":{\"text\":\"other home-based tour mode choice by household size\"},\"barmode\":\"group\",\"height\":600,\"width\":800},                        {\"responsive\": true}                    ).then(function(){\n",
       "                            \n",
       "var gd = document.getElementById('a1535514-8101-45c4-9291-889dfd3f3f40');\n",
       "var x = new MutationObserver(function (mutations, observer) {{\n",
       "        var display = window.getComputedStyle(gd).display;\n",
       "        if (!display || display === 'none') {{\n",
       "            console.log([gd, 'removed!']);\n",
       "            Plotly.purge(gd);\n",
       "            observer.disconnect();\n",
       "        }}\n",
       "}});\n",
       "\n",
       "// Listen for the removal of the full notebook cells\n",
       "var notebookContainer = gd.closest('#notebook-container');\n",
       "if (notebookContainer) {{\n",
       "    x.observe(notebookContainer, {childList: true});\n",
       "}}\n",
       "\n",
       "// Listen for the clearing of the current output cell\n",
       "var outputEl = gd.closest('.output');\n",
       "if (outputEl) {{\n",
       "    x.observe(outputEl, {childList: true});\n",
       "}}\n",
       "\n",
       "                        })                };                });            </script>        </div>"
      ]
     },
     "metadata": {},
     "output_type": "display_data"
    }
   ],
   "source": [
    "plot_mode_choice(hb_tour,\"hhsize_4+\",\n",
    "                 {\"hhsize_4+\":[\"1\",\"2\",\"3\",\"4+\"],\n",
    "                  \"tmodetp_label\":[\"1: walk\",\"2: bike\",\"3: sov\",\"4: hov 2\",\"5: hov 3+\",\"6: walk to transit\",\n",
    "                                   \"7: park-and-ride\",\"8: school bus\",\"9: other–survey only\"]},\n",
    "                 \"household size\",2,600)"
   ]
  },
  {
   "cell_type": "raw",
   "metadata": {},
   "source": [
    "### auto ownership"
   ]
  },
  {
   "cell_type": "code",
   "execution_count": 11,
   "metadata": {
    "execution": {
     "iopub.execute_input": "2024-12-11T19:12:05.121483Z",
     "iopub.status.busy": "2024-12-11T19:12:05.119489Z",
     "iopub.status.idle": "2024-12-11T19:12:07.332825Z",
     "shell.execute_reply": "2024-12-11T19:12:07.330529Z"
    }
   },
   "outputs": [
    {
     "data": {
      "application/vnd.plotly.v1+json": {
       "config": {
        "plotlyServerURL": "https://plot.ly"
       },
       "data": [
        {
         "alignmentgroup": "True",
         "customdata": [
          [
           78151
          ],
          [
           6798
          ],
          [
           5339
          ],
          [
           4956
          ],
          [
           66716
          ],
          [
           3994
          ]
         ],
         "hovertemplate": "source=model<br>auto_ownership_4+=0<br>percentage=%{x}<br>tmodetp_label=%{y}<br>sample count=%{customdata[0]}<extra></extra>",
         "legendgroup": "model",
         "marker": {
          "color": "#91268F",
          "pattern": {
           "shape": ""
          }
         },
         "name": "model",
         "offsetgroup": "model",
         "orientation": "h",
         "showlegend": true,
         "textposition": "auto",
         "type": "bar",
         "x": [
          0.47091965243380696,
          0.0409631584655989,
          0.032171565614567896,
          0.029863697169095052,
          0.402015016209311,
          0.024066910107620184
         ],
         "xaxis": "x5",
         "y": [
          "1: walk",
          "2: bike",
          "4: hov 2",
          "5: hov 3+",
          "6: walk to transit",
          "9: tnc"
         ],
         "yaxis": "y5"
        },
        {
         "alignmentgroup": "True",
         "customdata": [
          [
           104504
          ],
          [
           12575
          ],
          [
           268131
          ],
          [
           139113
          ],
          [
           115627
          ],
          [
           17026
          ],
          [
           1730
          ]
         ],
         "hovertemplate": "source=model<br>auto_ownership_4+=1<br>percentage=%{x}<br>tmodetp_label=%{y}<br>sample count=%{customdata[0]}<extra></extra>",
         "legendgroup": "model",
         "marker": {
          "color": "#91268F",
          "pattern": {
           "shape": ""
          }
         },
         "name": "model",
         "offsetgroup": "model",
         "orientation": "h",
         "showlegend": false,
         "textposition": "auto",
         "type": "bar",
         "x": [
          0.15865044496330685,
          0.01909045917298461,
          0.40705716966294525,
          0.2111913357400722,
          0.17553658232959773,
          0.025847646749839838,
          0.0026263613812535485
         ],
         "xaxis": "x6",
         "y": [
          "1: walk",
          "2: bike",
          "3: sov",
          "4: hov 2",
          "5: hov 3+",
          "6: walk to transit",
          "9: tnc"
         ],
         "yaxis": "y6"
        },
        {
         "alignmentgroup": "True",
         "customdata": [
          [
           109625
          ],
          [
           13570
          ],
          [
           365543
          ],
          [
           239106
          ],
          [
           304209
          ],
          [
           6828
          ],
          [
           531
          ]
         ],
         "hovertemplate": "source=model<br>auto_ownership_4+=2<br>percentage=%{x}<br>tmodetp_label=%{y}<br>sample count=%{customdata[0]}<extra></extra>",
         "legendgroup": "model",
         "marker": {
          "color": "#91268F",
          "pattern": {
           "shape": ""
          }
         },
         "name": "model",
         "offsetgroup": "model",
         "orientation": "h",
         "showlegend": false,
         "textposition": "auto",
         "type": "bar",
         "x": [
          0.10546828399133357,
          0.013055458278334289,
          0.35168248971533905,
          0.23003967627851132,
          0.2926741272950476,
          0.006569098682716767,
          0.0005108657587174287
         ],
         "xaxis": "x3",
         "y": [
          "1: walk",
          "2: bike",
          "3: sov",
          "4: hov 2",
          "5: hov 3+",
          "6: walk to transit",
          "9: tnc"
         ],
         "yaxis": "y3"
        },
        {
         "alignmentgroup": "True",
         "customdata": [
          [
           49599
          ],
          [
           6293
          ],
          [
           181682
          ],
          [
           111555
          ],
          [
           195126
          ],
          [
           3113
          ],
          [
           282
          ]
         ],
         "hovertemplate": "source=model<br>auto_ownership_4+=3<br>percentage=%{x}<br>tmodetp_label=%{y}<br>sample count=%{customdata[0]}<extra></extra>",
         "legendgroup": "model",
         "marker": {
          "color": "#91268F",
          "pattern": {
           "shape": ""
          }
         },
         "name": "model",
         "offsetgroup": "model",
         "orientation": "h",
         "showlegend": false,
         "textposition": "auto",
         "type": "bar",
         "x": [
          0.09056696795398521,
          0.011490915730849996,
          0.331748379439423,
          0.2036976170912079,
          0.3562969049575459,
          0.005684287409842052,
          0.0005149274171459874
         ],
         "xaxis": "x4",
         "y": [
          "1: walk",
          "2: bike",
          "3: sov",
          "4: hov 2",
          "5: hov 3+",
          "6: walk to transit",
          "9: tnc"
         ],
         "yaxis": "y4"
        },
        {
         "alignmentgroup": "True",
         "customdata": [
          [
           30492
          ],
          [
           3875
          ],
          [
           112250
          ],
          [
           62365
          ],
          [
           133620
          ],
          [
           1754
          ],
          [
           164
          ]
         ],
         "hovertemplate": "source=model<br>auto_ownership_4+=4+<br>percentage=%{x}<br>tmodetp_label=%{y}<br>sample count=%{customdata[0]}<extra></extra>",
         "legendgroup": "model",
         "marker": {
          "color": "#91268F",
          "pattern": {
           "shape": ""
          }
         },
         "name": "model",
         "offsetgroup": "model",
         "orientation": "h",
         "showlegend": false,
         "textposition": "auto",
         "type": "bar",
         "x": [
          0.08850574712643679,
          0.011247532799256938,
          0.32581562753976545,
          0.18101996981307325,
          0.38784395680947403,
          0.00509114129803785,
          0.00047602461395564844
         ],
         "xaxis": "x",
         "y": [
          "1: walk",
          "2: bike",
          "3: sov",
          "4: hov 2",
          "5: hov 3+",
          "6: walk to transit",
          "9: tnc"
         ],
         "yaxis": "y"
        },
        {
         "alignmentgroup": "True",
         "customdata": [
          [
           227
          ],
          [
           29
          ],
          [
           8
          ],
          [
           15
          ],
          [
           12
          ],
          [
           128
          ],
          [
           5
          ],
          [
           10
          ]
         ],
         "hovertemplate": "source=survey<br>auto_ownership_4+=0<br>percentage=%{x}<br>tmodetp_label=%{y}<br>sample count=%{customdata[0]}<extra></extra>",
         "legendgroup": "survey",
         "marker": {
          "color": "#8CC63E",
          "pattern": {
           "shape": ""
          }
         },
         "name": "survey",
         "offsetgroup": "survey",
         "orientation": "h",
         "showlegend": true,
         "textposition": "auto",
         "type": "bar",
         "x": [
          0.36708089253694415,
          0.02793903230890399,
          0.0465595993563002,
          0.06135899013640234,
          0.005081612623839357,
          0.4597244903198269,
          0.003652323041165991,
          0.02860305967661701
         ],
         "xaxis": "x5",
         "y": [
          "1: walk",
          "2: bike",
          "3: sov",
          "4: hov 2",
          "5: hov 3+",
          "6: walk to transit",
          "7: park-and-ride",
          "9: tnc"
         ],
         "yaxis": "y5"
        },
        {
         "alignmentgroup": "True",
         "customdata": [
          [
           441
          ],
          [
           60
          ],
          [
           556
          ],
          [
           296
          ],
          [
           163
          ],
          [
           54
          ],
          [
           6
          ],
          [
           2
          ],
          [
           4
          ]
         ],
         "hovertemplate": "source=survey<br>auto_ownership_4+=1<br>percentage=%{x}<br>tmodetp_label=%{y}<br>sample count=%{customdata[0]}<extra></extra>",
         "legendgroup": "survey",
         "marker": {
          "color": "#8CC63E",
          "pattern": {
           "shape": ""
          }
         },
         "name": "survey",
         "offsetgroup": "survey",
         "orientation": "h",
         "showlegend": false,
         "textposition": "auto",
         "type": "bar",
         "x": [
          0.16451981755649753,
          0.01646532979566664,
          0.2994231590537945,
          0.13689041168099603,
          0.30760031300051943,
          0.036274828899611394,
          0.03327007877725735,
          6.529213932876693e-05,
          0.00549076909632833
         ],
         "xaxis": "x6",
         "y": [
          "1: walk",
          "2: bike",
          "3: sov",
          "4: hov 2",
          "5: hov 3+",
          "6: walk to transit",
          "7: park-and-ride",
          "8: school bus",
          "9: tnc"
         ],
         "yaxis": "y6"
        },
        {
         "alignmentgroup": "True",
         "customdata": [
          [
           187
          ],
          [
           24
          ],
          [
           494
          ],
          [
           364
          ],
          [
           270
          ],
          [
           14
          ],
          [
           5
          ],
          [
           5
          ]
         ],
         "hovertemplate": "source=survey<br>auto_ownership_4+=2<br>percentage=%{x}<br>tmodetp_label=%{y}<br>sample count=%{customdata[0]}<extra></extra>",
         "legendgroup": "survey",
         "marker": {
          "color": "#8CC63E",
          "pattern": {
           "shape": ""
          }
         },
         "name": "survey",
         "offsetgroup": "survey",
         "orientation": "h",
         "showlegend": false,
         "textposition": "auto",
         "type": "bar",
         "x": [
          0.10321236293253258,
          0.008496355620791568,
          0.28982015639173236,
          0.20429045139011284,
          0.38449856985273934,
          0.008389998340706653,
          0.0006205808003266372,
          0.0006715246710579709
         ],
         "xaxis": "x3",
         "y": [
          "1: walk",
          "2: bike",
          "3: sov",
          "4: hov 2",
          "5: hov 3+",
          "6: walk to transit",
          "7: park-and-ride",
          "9: tnc"
         ],
         "yaxis": "y3"
        },
        {
         "alignmentgroup": "True",
         "customdata": [
          [
           38
          ],
          [
           2
          ],
          [
           194
          ],
          [
           91
          ],
          [
           45
          ],
          [
           2
          ]
         ],
         "hovertemplate": "source=survey<br>auto_ownership_4+=3<br>percentage=%{x}<br>tmodetp_label=%{y}<br>sample count=%{customdata[0]}<extra></extra>",
         "legendgroup": "survey",
         "marker": {
          "color": "#8CC63E",
          "pattern": {
           "shape": ""
          }
         },
         "name": "survey",
         "offsetgroup": "survey",
         "orientation": "h",
         "showlegend": false,
         "textposition": "auto",
         "type": "bar",
         "x": [
          0.06076384587329915,
          0.00034180499402173826,
          0.5083574259759145,
          0.1986280378112497,
          0.22360571144483768,
          0.008303173900677094
         ],
         "xaxis": "x4",
         "y": [
          "1: walk",
          "2: bike",
          "3: sov",
          "4: hov 2",
          "5: hov 3+",
          "6: walk to transit"
         ],
         "yaxis": "y4"
        },
        {
         "alignmentgroup": "True",
         "customdata": [
          [
           13
          ],
          [
           3
          ],
          [
           65
          ],
          [
           45
          ],
          [
           16
          ],
          [
           2
          ]
         ],
         "hovertemplate": "source=survey<br>auto_ownership_4+=4+<br>percentage=%{x}<br>tmodetp_label=%{y}<br>sample count=%{customdata[0]}<extra></extra>",
         "legendgroup": "survey",
         "marker": {
          "color": "#8CC63E",
          "pattern": {
           "shape": ""
          }
         },
         "name": "survey",
         "offsetgroup": "survey",
         "orientation": "h",
         "showlegend": false,
         "textposition": "auto",
         "type": "bar",
         "x": [
          0.09236492469889393,
          0.061210753310083264,
          0.3763918480488231,
          0.3659793017390984,
          0.09106024912864188,
          0.012992923074459406
         ],
         "xaxis": "x",
         "y": [
          "1: walk",
          "2: bike",
          "3: sov",
          "4: hov 2",
          "5: hov 3+",
          "6: walk to transit"
         ],
         "yaxis": "y"
        },
        {
         "alignmentgroup": "True",
         "customdata": [
          [
           247
          ],
          [
           28
          ],
          [
           10
          ],
          [
           18
          ],
          [
           13
          ],
          [
           132
          ],
          [
           5
          ],
          [
           13
          ]
         ],
         "hovertemplate": "source=survey (update)<br>auto_ownership_4+=0<br>percentage=%{x}<br>tmodetp_label=%{y}<br>sample count=%{customdata[0]}<extra></extra>",
         "legendgroup": "survey (update)",
         "marker": {
          "color": "#00A7A0",
          "pattern": {
           "shape": ""
          }
         },
         "name": "survey (update)",
         "offsetgroup": "survey (update)",
         "orientation": "h",
         "showlegend": true,
         "textposition": "auto",
         "type": "bar",
         "x": [
          0.43994351627791844,
          0.027781986138890342,
          0.009477900171473255,
          0.08090703056639363,
          0.004799759196288226,
          0.3903030363139304,
          0.006377757111577159,
          0.040409014223528675
         ],
         "xaxis": "x5",
         "y": [
          "1: walk",
          "2: bike",
          "3: sov",
          "4: hov 2",
          "5: hov 3+",
          "6: walk to transit",
          "7: park-and-ride",
          "9: tnc"
         ],
         "yaxis": "y5"
        },
        {
         "alignmentgroup": "True",
         "customdata": [
          [
           460
          ],
          [
           54
          ],
          [
           587
          ],
          [
           313
          ],
          [
           179
          ],
          [
           55
          ],
          [
           6
          ],
          [
           6
          ]
         ],
         "hovertemplate": "source=survey (update)<br>auto_ownership_4+=1<br>percentage=%{x}<br>tmodetp_label=%{y}<br>sample count=%{customdata[0]}<extra></extra>",
         "legendgroup": "survey (update)",
         "marker": {
          "color": "#00A7A0",
          "pattern": {
           "shape": ""
          }
         },
         "name": "survey (update)",
         "offsetgroup": "survey (update)",
         "orientation": "h",
         "showlegend": false,
         "textposition": "auto",
         "type": "bar",
         "x": [
          0.2181554033919952,
          0.014251476160778691,
          0.3112664174835946,
          0.27224355739053563,
          0.07854026994577283,
          0.08976623645509604,
          0.012986660282686276,
          0.002789978889540683
         ],
         "xaxis": "x6",
         "y": [
          "1: walk",
          "2: bike",
          "3: sov",
          "4: hov 2",
          "5: hov 3+",
          "6: walk to transit",
          "7: park-and-ride",
          "9: tnc"
         ],
         "yaxis": "y6"
        },
        {
         "alignmentgroup": "True",
         "customdata": [
          [
           203
          ],
          [
           20
          ],
          [
           527
          ],
          [
           396
          ],
          [
           293
          ],
          [
           14
          ],
          [
           5
          ],
          [
           5
          ]
         ],
         "hovertemplate": "source=survey (update)<br>auto_ownership_4+=2<br>percentage=%{x}<br>tmodetp_label=%{y}<br>sample count=%{customdata[0]}<extra></extra>",
         "legendgroup": "survey (update)",
         "marker": {
          "color": "#00A7A0",
          "pattern": {
           "shape": ""
          }
         },
         "name": "survey (update)",
         "offsetgroup": "survey (update)",
         "orientation": "h",
         "showlegend": false,
         "textposition": "auto",
         "type": "bar",
         "x": [
          0.08297255273283262,
          0.015086450689587716,
          0.350764522860521,
          0.28505275048269635,
          0.25145596297484923,
          0.012564337090489534,
          0.0006169276645905363,
          0.0014864955044330273
         ],
         "xaxis": "x3",
         "y": [
          "1: walk",
          "2: bike",
          "3: sov",
          "4: hov 2",
          "5: hov 3+",
          "6: walk to transit",
          "7: park-and-ride",
          "9: tnc"
         ],
         "yaxis": "y3"
        },
        {
         "alignmentgroup": "True",
         "customdata": [
          [
           40
          ],
          [
           3
          ],
          [
           199
          ],
          [
           96
          ],
          [
           56
          ],
          [
           2
          ]
         ],
         "hovertemplate": "source=survey (update)<br>auto_ownership_4+=3<br>percentage=%{x}<br>tmodetp_label=%{y}<br>sample count=%{customdata[0]}<extra></extra>",
         "legendgroup": "survey (update)",
         "marker": {
          "color": "#00A7A0",
          "pattern": {
           "shape": ""
          }
         },
         "name": "survey (update)",
         "offsetgroup": "survey (update)",
         "orientation": "h",
         "showlegend": false,
         "textposition": "auto",
         "type": "bar",
         "x": [
          0.05510496883669091,
          0.0008284765887006667,
          0.5067776430910816,
          0.20122338789477384,
          0.23368458316581803,
          0.002380940422935132
         ],
         "xaxis": "x4",
         "y": [
          "1: walk",
          "2: bike",
          "3: sov",
          "4: hov 2",
          "5: hov 3+",
          "6: walk to transit"
         ],
         "yaxis": "y4"
        },
        {
         "alignmentgroup": "True",
         "customdata": [
          [
           14
          ],
          [
           3
          ],
          [
           73
          ],
          [
           48
          ],
          [
           17
          ],
          [
           3
          ]
         ],
         "hovertemplate": "source=survey (update)<br>auto_ownership_4+=4+<br>percentage=%{x}<br>tmodetp_label=%{y}<br>sample count=%{customdata[0]}<extra></extra>",
         "legendgroup": "survey (update)",
         "marker": {
          "color": "#00A7A0",
          "pattern": {
           "shape": ""
          }
         },
         "name": "survey (update)",
         "offsetgroup": "survey (update)",
         "orientation": "h",
         "showlegend": false,
         "textposition": "auto",
         "type": "bar",
         "x": [
          0.09935500027638167,
          0.00295674212051197,
          0.43934553672910914,
          0.30254121505342796,
          0.1433135741498738,
          0.012487931670695536
         ],
         "xaxis": "x",
         "y": [
          "1: walk",
          "2: bike",
          "3: sov",
          "4: hov 2",
          "5: hov 3+",
          "6: walk to transit"
         ],
         "yaxis": "y"
        }
       ],
       "layout": {
        "annotations": [
         {
          "font": {},
          "showarrow": false,
          "text": "4+",
          "x": 0.245,
          "xanchor": "center",
          "xref": "paper",
          "y": 0.2866666666666666,
          "yanchor": "bottom",
          "yref": "paper"
         },
         {
          "font": {},
          "showarrow": false,
          "text": "2",
          "x": 0.245,
          "xanchor": "center",
          "xref": "paper",
          "y": 0.6433333333333333,
          "yanchor": "bottom",
          "yref": "paper"
         },
         {
          "font": {},
          "showarrow": false,
          "text": "3",
          "x": 0.755,
          "xanchor": "center",
          "xref": "paper",
          "y": 0.6433333333333333,
          "yanchor": "bottom",
          "yref": "paper"
         },
         {
          "font": {},
          "showarrow": false,
          "text": "0",
          "x": 0.245,
          "xanchor": "center",
          "xref": "paper",
          "y": 0.9999999999999999,
          "yanchor": "bottom",
          "yref": "paper"
         },
         {
          "font": {},
          "showarrow": false,
          "text": "1",
          "x": 0.755,
          "xanchor": "center",
          "xref": "paper",
          "y": 0.9999999999999999,
          "yanchor": "bottom",
          "yref": "paper"
         }
        ],
        "barmode": "group",
        "height": 800,
        "legend": {
         "title": {
          "text": "source"
         },
         "tracegroupgap": 0
        },
        "template": {
         "data": {
          "bar": [
           {
            "error_x": {
             "color": "rgb(36,36,36)"
            },
            "error_y": {
             "color": "rgb(36,36,36)"
            },
            "marker": {
             "line": {
              "color": "white",
              "width": 0.5
             },
             "pattern": {
              "fillmode": "overlay",
              "size": 10,
              "solidity": 0.2
             }
            },
            "type": "bar"
           }
          ],
          "barpolar": [
           {
            "marker": {
             "line": {
              "color": "white",
              "width": 0.5
             },
             "pattern": {
              "fillmode": "overlay",
              "size": 10,
              "solidity": 0.2
             }
            },
            "type": "barpolar"
           }
          ],
          "carpet": [
           {
            "aaxis": {
             "endlinecolor": "rgb(36,36,36)",
             "gridcolor": "white",
             "linecolor": "white",
             "minorgridcolor": "white",
             "startlinecolor": "rgb(36,36,36)"
            },
            "baxis": {
             "endlinecolor": "rgb(36,36,36)",
             "gridcolor": "white",
             "linecolor": "white",
             "minorgridcolor": "white",
             "startlinecolor": "rgb(36,36,36)"
            },
            "type": "carpet"
           }
          ],
          "choropleth": [
           {
            "colorbar": {
             "outlinewidth": 1,
             "tickcolor": "rgb(36,36,36)",
             "ticks": "outside"
            },
            "type": "choropleth"
           }
          ],
          "contour": [
           {
            "colorbar": {
             "outlinewidth": 1,
             "tickcolor": "rgb(36,36,36)",
             "ticks": "outside"
            },
            "colorscale": [
             [
              0.0,
              "#440154"
             ],
             [
              0.1111111111111111,
              "#482878"
             ],
             [
              0.2222222222222222,
              "#3e4989"
             ],
             [
              0.3333333333333333,
              "#31688e"
             ],
             [
              0.4444444444444444,
              "#26828e"
             ],
             [
              0.5555555555555556,
              "#1f9e89"
             ],
             [
              0.6666666666666666,
              "#35b779"
             ],
             [
              0.7777777777777778,
              "#6ece58"
             ],
             [
              0.8888888888888888,
              "#b5de2b"
             ],
             [
              1.0,
              "#fde725"
             ]
            ],
            "type": "contour"
           }
          ],
          "contourcarpet": [
           {
            "colorbar": {
             "outlinewidth": 1,
             "tickcolor": "rgb(36,36,36)",
             "ticks": "outside"
            },
            "type": "contourcarpet"
           }
          ],
          "heatmap": [
           {
            "colorbar": {
             "outlinewidth": 1,
             "tickcolor": "rgb(36,36,36)",
             "ticks": "outside"
            },
            "colorscale": [
             [
              0.0,
              "#440154"
             ],
             [
              0.1111111111111111,
              "#482878"
             ],
             [
              0.2222222222222222,
              "#3e4989"
             ],
             [
              0.3333333333333333,
              "#31688e"
             ],
             [
              0.4444444444444444,
              "#26828e"
             ],
             [
              0.5555555555555556,
              "#1f9e89"
             ],
             [
              0.6666666666666666,
              "#35b779"
             ],
             [
              0.7777777777777778,
              "#6ece58"
             ],
             [
              0.8888888888888888,
              "#b5de2b"
             ],
             [
              1.0,
              "#fde725"
             ]
            ],
            "type": "heatmap"
           }
          ],
          "heatmapgl": [
           {
            "colorbar": {
             "outlinewidth": 1,
             "tickcolor": "rgb(36,36,36)",
             "ticks": "outside"
            },
            "colorscale": [
             [
              0.0,
              "#440154"
             ],
             [
              0.1111111111111111,
              "#482878"
             ],
             [
              0.2222222222222222,
              "#3e4989"
             ],
             [
              0.3333333333333333,
              "#31688e"
             ],
             [
              0.4444444444444444,
              "#26828e"
             ],
             [
              0.5555555555555556,
              "#1f9e89"
             ],
             [
              0.6666666666666666,
              "#35b779"
             ],
             [
              0.7777777777777778,
              "#6ece58"
             ],
             [
              0.8888888888888888,
              "#b5de2b"
             ],
             [
              1.0,
              "#fde725"
             ]
            ],
            "type": "heatmapgl"
           }
          ],
          "histogram": [
           {
            "marker": {
             "line": {
              "color": "white",
              "width": 0.6
             }
            },
            "type": "histogram"
           }
          ],
          "histogram2d": [
           {
            "colorbar": {
             "outlinewidth": 1,
             "tickcolor": "rgb(36,36,36)",
             "ticks": "outside"
            },
            "colorscale": [
             [
              0.0,
              "#440154"
             ],
             [
              0.1111111111111111,
              "#482878"
             ],
             [
              0.2222222222222222,
              "#3e4989"
             ],
             [
              0.3333333333333333,
              "#31688e"
             ],
             [
              0.4444444444444444,
              "#26828e"
             ],
             [
              0.5555555555555556,
              "#1f9e89"
             ],
             [
              0.6666666666666666,
              "#35b779"
             ],
             [
              0.7777777777777778,
              "#6ece58"
             ],
             [
              0.8888888888888888,
              "#b5de2b"
             ],
             [
              1.0,
              "#fde725"
             ]
            ],
            "type": "histogram2d"
           }
          ],
          "histogram2dcontour": [
           {
            "colorbar": {
             "outlinewidth": 1,
             "tickcolor": "rgb(36,36,36)",
             "ticks": "outside"
            },
            "colorscale": [
             [
              0.0,
              "#440154"
             ],
             [
              0.1111111111111111,
              "#482878"
             ],
             [
              0.2222222222222222,
              "#3e4989"
             ],
             [
              0.3333333333333333,
              "#31688e"
             ],
             [
              0.4444444444444444,
              "#26828e"
             ],
             [
              0.5555555555555556,
              "#1f9e89"
             ],
             [
              0.6666666666666666,
              "#35b779"
             ],
             [
              0.7777777777777778,
              "#6ece58"
             ],
             [
              0.8888888888888888,
              "#b5de2b"
             ],
             [
              1.0,
              "#fde725"
             ]
            ],
            "type": "histogram2dcontour"
           }
          ],
          "mesh3d": [
           {
            "colorbar": {
             "outlinewidth": 1,
             "tickcolor": "rgb(36,36,36)",
             "ticks": "outside"
            },
            "type": "mesh3d"
           }
          ],
          "parcoords": [
           {
            "line": {
             "colorbar": {
              "outlinewidth": 1,
              "tickcolor": "rgb(36,36,36)",
              "ticks": "outside"
             }
            },
            "type": "parcoords"
           }
          ],
          "pie": [
           {
            "automargin": true,
            "type": "pie"
           }
          ],
          "scatter": [
           {
            "fillpattern": {
             "fillmode": "overlay",
             "size": 10,
             "solidity": 0.2
            },
            "type": "scatter"
           }
          ],
          "scatter3d": [
           {
            "line": {
             "colorbar": {
              "outlinewidth": 1,
              "tickcolor": "rgb(36,36,36)",
              "ticks": "outside"
             }
            },
            "marker": {
             "colorbar": {
              "outlinewidth": 1,
              "tickcolor": "rgb(36,36,36)",
              "ticks": "outside"
             }
            },
            "type": "scatter3d"
           }
          ],
          "scattercarpet": [
           {
            "marker": {
             "colorbar": {
              "outlinewidth": 1,
              "tickcolor": "rgb(36,36,36)",
              "ticks": "outside"
             }
            },
            "type": "scattercarpet"
           }
          ],
          "scattergeo": [
           {
            "marker": {
             "colorbar": {
              "outlinewidth": 1,
              "tickcolor": "rgb(36,36,36)",
              "ticks": "outside"
             }
            },
            "type": "scattergeo"
           }
          ],
          "scattergl": [
           {
            "marker": {
             "colorbar": {
              "outlinewidth": 1,
              "tickcolor": "rgb(36,36,36)",
              "ticks": "outside"
             }
            },
            "type": "scattergl"
           }
          ],
          "scattermapbox": [
           {
            "marker": {
             "colorbar": {
              "outlinewidth": 1,
              "tickcolor": "rgb(36,36,36)",
              "ticks": "outside"
             }
            },
            "type": "scattermapbox"
           }
          ],
          "scatterpolar": [
           {
            "marker": {
             "colorbar": {
              "outlinewidth": 1,
              "tickcolor": "rgb(36,36,36)",
              "ticks": "outside"
             }
            },
            "type": "scatterpolar"
           }
          ],
          "scatterpolargl": [
           {
            "marker": {
             "colorbar": {
              "outlinewidth": 1,
              "tickcolor": "rgb(36,36,36)",
              "ticks": "outside"
             }
            },
            "type": "scatterpolargl"
           }
          ],
          "scatterternary": [
           {
            "marker": {
             "colorbar": {
              "outlinewidth": 1,
              "tickcolor": "rgb(36,36,36)",
              "ticks": "outside"
             }
            },
            "type": "scatterternary"
           }
          ],
          "surface": [
           {
            "colorbar": {
             "outlinewidth": 1,
             "tickcolor": "rgb(36,36,36)",
             "ticks": "outside"
            },
            "colorscale": [
             [
              0.0,
              "#440154"
             ],
             [
              0.1111111111111111,
              "#482878"
             ],
             [
              0.2222222222222222,
              "#3e4989"
             ],
             [
              0.3333333333333333,
              "#31688e"
             ],
             [
              0.4444444444444444,
              "#26828e"
             ],
             [
              0.5555555555555556,
              "#1f9e89"
             ],
             [
              0.6666666666666666,
              "#35b779"
             ],
             [
              0.7777777777777778,
              "#6ece58"
             ],
             [
              0.8888888888888888,
              "#b5de2b"
             ],
             [
              1.0,
              "#fde725"
             ]
            ],
            "type": "surface"
           }
          ],
          "table": [
           {
            "cells": {
             "fill": {
              "color": "rgb(237,237,237)"
             },
             "line": {
              "color": "white"
             }
            },
            "header": {
             "fill": {
              "color": "rgb(217,217,217)"
             },
             "line": {
              "color": "white"
             }
            },
            "type": "table"
           }
          ]
         },
         "layout": {
          "annotationdefaults": {
           "arrowhead": 0,
           "arrowwidth": 1
          },
          "autotypenumbers": "strict",
          "coloraxis": {
           "colorbar": {
            "outlinewidth": 1,
            "tickcolor": "rgb(36,36,36)",
            "ticks": "outside"
           }
          },
          "colorscale": {
           "diverging": [
            [
             0.0,
             "rgb(103,0,31)"
            ],
            [
             0.1,
             "rgb(178,24,43)"
            ],
            [
             0.2,
             "rgb(214,96,77)"
            ],
            [
             0.3,
             "rgb(244,165,130)"
            ],
            [
             0.4,
             "rgb(253,219,199)"
            ],
            [
             0.5,
             "rgb(247,247,247)"
            ],
            [
             0.6,
             "rgb(209,229,240)"
            ],
            [
             0.7,
             "rgb(146,197,222)"
            ],
            [
             0.8,
             "rgb(67,147,195)"
            ],
            [
             0.9,
             "rgb(33,102,172)"
            ],
            [
             1.0,
             "rgb(5,48,97)"
            ]
           ],
           "sequential": [
            [
             0.0,
             "#440154"
            ],
            [
             0.1111111111111111,
             "#482878"
            ],
            [
             0.2222222222222222,
             "#3e4989"
            ],
            [
             0.3333333333333333,
             "#31688e"
            ],
            [
             0.4444444444444444,
             "#26828e"
            ],
            [
             0.5555555555555556,
             "#1f9e89"
            ],
            [
             0.6666666666666666,
             "#35b779"
            ],
            [
             0.7777777777777778,
             "#6ece58"
            ],
            [
             0.8888888888888888,
             "#b5de2b"
            ],
            [
             1.0,
             "#fde725"
            ]
           ],
           "sequentialminus": [
            [
             0.0,
             "#440154"
            ],
            [
             0.1111111111111111,
             "#482878"
            ],
            [
             0.2222222222222222,
             "#3e4989"
            ],
            [
             0.3333333333333333,
             "#31688e"
            ],
            [
             0.4444444444444444,
             "#26828e"
            ],
            [
             0.5555555555555556,
             "#1f9e89"
            ],
            [
             0.6666666666666666,
             "#35b779"
            ],
            [
             0.7777777777777778,
             "#6ece58"
            ],
            [
             0.8888888888888888,
             "#b5de2b"
            ],
            [
             1.0,
             "#fde725"
            ]
           ]
          },
          "colorway": [
           "#91268F",
           "#8CC63E",
           "#00A7A0",
           "#F05A28",
           "#4C4C4C",
           "#630460",
           "#9f3913",
           "#588527",
           "#00716c",
           "#3e4040"
          ],
          "font": {
           "color": "rgb(36,36,36)",
           "family": "Poppins",
           "size": 11
          },
          "geo": {
           "bgcolor": "white",
           "lakecolor": "white",
           "landcolor": "white",
           "showlakes": true,
           "showland": true,
           "subunitcolor": "white"
          },
          "hoverlabel": {
           "align": "left"
          },
          "hovermode": "closest",
          "mapbox": {
           "style": "light"
          },
          "paper_bgcolor": "white",
          "plot_bgcolor": "white",
          "polar": {
           "angularaxis": {
            "gridcolor": "rgb(232,232,232)",
            "linecolor": "rgb(36,36,36)",
            "showgrid": false,
            "showline": true,
            "ticks": "outside"
           },
           "bgcolor": "white",
           "radialaxis": {
            "gridcolor": "rgb(232,232,232)",
            "linecolor": "rgb(36,36,36)",
            "showgrid": false,
            "showline": true,
            "ticks": "outside"
           }
          },
          "scene": {
           "xaxis": {
            "backgroundcolor": "white",
            "gridcolor": "rgb(232,232,232)",
            "gridwidth": 2,
            "linecolor": "rgb(36,36,36)",
            "showbackground": true,
            "showgrid": false,
            "showline": true,
            "ticks": "outside",
            "zeroline": false,
            "zerolinecolor": "rgb(36,36,36)"
           },
           "yaxis": {
            "backgroundcolor": "white",
            "gridcolor": "rgb(232,232,232)",
            "gridwidth": 2,
            "linecolor": "rgb(36,36,36)",
            "showbackground": true,
            "showgrid": false,
            "showline": true,
            "ticks": "outside",
            "zeroline": false,
            "zerolinecolor": "rgb(36,36,36)"
           },
           "zaxis": {
            "backgroundcolor": "white",
            "gridcolor": "rgb(232,232,232)",
            "gridwidth": 2,
            "linecolor": "rgb(36,36,36)",
            "showbackground": true,
            "showgrid": false,
            "showline": true,
            "ticks": "outside",
            "zeroline": false,
            "zerolinecolor": "rgb(36,36,36)"
           }
          },
          "shapedefaults": {
           "fillcolor": "black",
           "line": {
            "width": 0
           },
           "opacity": 0.3
          },
          "ternary": {
           "aaxis": {
            "gridcolor": "rgb(232,232,232)",
            "linecolor": "rgb(36,36,36)",
            "showgrid": false,
            "showline": true,
            "ticks": "outside"
           },
           "baxis": {
            "gridcolor": "rgb(232,232,232)",
            "linecolor": "rgb(36,36,36)",
            "showgrid": false,
            "showline": true,
            "ticks": "outside"
           },
           "bgcolor": "white",
           "caxis": {
            "gridcolor": "rgb(232,232,232)",
            "linecolor": "rgb(36,36,36)",
            "showgrid": false,
            "showline": true,
            "ticks": "outside"
           }
          },
          "title": {
           "x": 0.05
          },
          "xaxis": {
           "automargin": true,
           "gridcolor": "rgb(232,232,232)",
           "linecolor": "rgb(36,36,36)",
           "showgrid": false,
           "showline": true,
           "ticks": "outside",
           "title": {
            "standoff": 15
           },
           "zeroline": false,
           "zerolinecolor": "rgb(36,36,36)"
          },
          "yaxis": {
           "automargin": true,
           "gridcolor": "rgb(232,232,232)",
           "linecolor": "rgb(36,36,36)",
           "showgrid": false,
           "showline": true,
           "ticks": "outside",
           "title": {
            "standoff": 15
           },
           "zeroline": false,
           "zerolinecolor": "rgb(36,36,36)"
          }
         }
        },
        "title": {
         "text": "other home-based tour mode choice by auto ownership"
        },
        "width": 800,
        "xaxis": {
         "anchor": "y",
         "domain": [
          0.0,
          0.49
         ],
         "tickformat": ".1%",
         "title": {
          "text": "percentage"
         }
        },
        "xaxis2": {
         "anchor": "y2",
         "domain": [
          0.51,
          1.0
         ],
         "matches": "x",
         "tickformat": ".1%",
         "title": {
          "text": "percentage"
         }
        },
        "xaxis3": {
         "anchor": "y3",
         "domain": [
          0.0,
          0.49
         ],
         "matches": "x",
         "showticklabels": false,
         "tickformat": ".1%"
        },
        "xaxis4": {
         "anchor": "y4",
         "domain": [
          0.51,
          1.0
         ],
         "matches": "x",
         "showticklabels": false,
         "tickformat": ".1%"
        },
        "xaxis5": {
         "anchor": "y5",
         "domain": [
          0.0,
          0.49
         ],
         "matches": "x",
         "showticklabels": false,
         "tickformat": ".1%"
        },
        "xaxis6": {
         "anchor": "y6",
         "domain": [
          0.51,
          1.0
         ],
         "matches": "x",
         "showticklabels": false,
         "tickformat": ".1%"
        },
        "yaxis": {
         "anchor": "x",
         "categoryarray": [
          "9: other–survey only",
          "8: school bus",
          "7: park-and-ride",
          "6: walk to transit",
          "5: hov 3+",
          "4: hov 2",
          "3: sov",
          "2: bike",
          "1: walk"
         ],
         "categoryorder": "array",
         "domain": [
          0.0,
          0.2866666666666666
         ],
         "title": {
          "text": "tmodetp_label"
         }
        },
        "yaxis2": {
         "anchor": "x2",
         "domain": [
          0.0,
          0.2866666666666666
         ],
         "matches": "y",
         "showticklabels": false
        },
        "yaxis3": {
         "anchor": "x3",
         "categoryarray": [
          "9: other–survey only",
          "8: school bus",
          "7: park-and-ride",
          "6: walk to transit",
          "5: hov 3+",
          "4: hov 2",
          "3: sov",
          "2: bike",
          "1: walk"
         ],
         "categoryorder": "array",
         "domain": [
          0.35666666666666663,
          0.6433333333333333
         ],
         "matches": "y",
         "title": {
          "text": "tmodetp_label"
         }
        },
        "yaxis4": {
         "anchor": "x4",
         "domain": [
          0.35666666666666663,
          0.6433333333333333
         ],
         "matches": "y",
         "showticklabels": false
        },
        "yaxis5": {
         "anchor": "x5",
         "categoryarray": [
          "9: other–survey only",
          "8: school bus",
          "7: park-and-ride",
          "6: walk to transit",
          "5: hov 3+",
          "4: hov 2",
          "3: sov",
          "2: bike",
          "1: walk"
         ],
         "categoryorder": "array",
         "domain": [
          0.7133333333333333,
          0.9999999999999999
         ],
         "matches": "y",
         "title": {
          "text": "tmodetp_label"
         }
        },
        "yaxis6": {
         "anchor": "x6",
         "domain": [
          0.7133333333333333,
          0.9999999999999999
         ],
         "matches": "y",
         "showticklabels": false
        }
       }
      },
      "text/html": [
       "<div>                            <div id=\"974a6ce4-f4c0-4831-8787-7c38de6d6a30\" class=\"plotly-graph-div\" style=\"height:800px; width:800px;\"></div>            <script type=\"text/javascript\">                require([\"plotly\"], function(Plotly) {                    window.PLOTLYENV=window.PLOTLYENV || {};                                    if (document.getElementById(\"974a6ce4-f4c0-4831-8787-7c38de6d6a30\")) {                    Plotly.newPlot(                        \"974a6ce4-f4c0-4831-8787-7c38de6d6a30\",                        [{\"alignmentgroup\":\"True\",\"customdata\":[[78151],[6798],[5339],[4956],[66716],[3994]],\"hovertemplate\":\"source=model\\u003cbr\\u003eauto_ownership_4+=0\\u003cbr\\u003epercentage=%{x}\\u003cbr\\u003etmodetp_label=%{y}\\u003cbr\\u003esample count=%{customdata[0]}\\u003cextra\\u003e\\u003c\\u002fextra\\u003e\",\"legendgroup\":\"model\",\"marker\":{\"color\":\"#91268F\",\"pattern\":{\"shape\":\"\"}},\"name\":\"model\",\"offsetgroup\":\"model\",\"orientation\":\"h\",\"showlegend\":true,\"textposition\":\"auto\",\"x\":[0.47091965243380696,0.0409631584655989,0.032171565614567896,0.029863697169095052,0.402015016209311,0.024066910107620184],\"xaxis\":\"x5\",\"y\":[\"1: walk\",\"2: bike\",\"4: hov 2\",\"5: hov 3+\",\"6: walk to transit\",\"9: tnc\"],\"yaxis\":\"y5\",\"type\":\"bar\"},{\"alignmentgroup\":\"True\",\"customdata\":[[104504],[12575],[268131],[139113],[115627],[17026],[1730]],\"hovertemplate\":\"source=model\\u003cbr\\u003eauto_ownership_4+=1\\u003cbr\\u003epercentage=%{x}\\u003cbr\\u003etmodetp_label=%{y}\\u003cbr\\u003esample count=%{customdata[0]}\\u003cextra\\u003e\\u003c\\u002fextra\\u003e\",\"legendgroup\":\"model\",\"marker\":{\"color\":\"#91268F\",\"pattern\":{\"shape\":\"\"}},\"name\":\"model\",\"offsetgroup\":\"model\",\"orientation\":\"h\",\"showlegend\":false,\"textposition\":\"auto\",\"x\":[0.15865044496330685,0.01909045917298461,0.40705716966294525,0.2111913357400722,0.17553658232959773,0.025847646749839838,0.0026263613812535485],\"xaxis\":\"x6\",\"y\":[\"1: walk\",\"2: bike\",\"3: sov\",\"4: hov 2\",\"5: hov 3+\",\"6: walk to transit\",\"9: tnc\"],\"yaxis\":\"y6\",\"type\":\"bar\"},{\"alignmentgroup\":\"True\",\"customdata\":[[109625],[13570],[365543],[239106],[304209],[6828],[531]],\"hovertemplate\":\"source=model\\u003cbr\\u003eauto_ownership_4+=2\\u003cbr\\u003epercentage=%{x}\\u003cbr\\u003etmodetp_label=%{y}\\u003cbr\\u003esample count=%{customdata[0]}\\u003cextra\\u003e\\u003c\\u002fextra\\u003e\",\"legendgroup\":\"model\",\"marker\":{\"color\":\"#91268F\",\"pattern\":{\"shape\":\"\"}},\"name\":\"model\",\"offsetgroup\":\"model\",\"orientation\":\"h\",\"showlegend\":false,\"textposition\":\"auto\",\"x\":[0.10546828399133357,0.013055458278334289,0.35168248971533905,0.23003967627851132,0.2926741272950476,0.006569098682716767,0.0005108657587174287],\"xaxis\":\"x3\",\"y\":[\"1: walk\",\"2: bike\",\"3: sov\",\"4: hov 2\",\"5: hov 3+\",\"6: walk to transit\",\"9: tnc\"],\"yaxis\":\"y3\",\"type\":\"bar\"},{\"alignmentgroup\":\"True\",\"customdata\":[[49599],[6293],[181682],[111555],[195126],[3113],[282]],\"hovertemplate\":\"source=model\\u003cbr\\u003eauto_ownership_4+=3\\u003cbr\\u003epercentage=%{x}\\u003cbr\\u003etmodetp_label=%{y}\\u003cbr\\u003esample count=%{customdata[0]}\\u003cextra\\u003e\\u003c\\u002fextra\\u003e\",\"legendgroup\":\"model\",\"marker\":{\"color\":\"#91268F\",\"pattern\":{\"shape\":\"\"}},\"name\":\"model\",\"offsetgroup\":\"model\",\"orientation\":\"h\",\"showlegend\":false,\"textposition\":\"auto\",\"x\":[0.09056696795398521,0.011490915730849996,0.331748379439423,0.2036976170912079,0.3562969049575459,0.005684287409842052,0.0005149274171459874],\"xaxis\":\"x4\",\"y\":[\"1: walk\",\"2: bike\",\"3: sov\",\"4: hov 2\",\"5: hov 3+\",\"6: walk to transit\",\"9: tnc\"],\"yaxis\":\"y4\",\"type\":\"bar\"},{\"alignmentgroup\":\"True\",\"customdata\":[[30492],[3875],[112250],[62365],[133620],[1754],[164]],\"hovertemplate\":\"source=model\\u003cbr\\u003eauto_ownership_4+=4+\\u003cbr\\u003epercentage=%{x}\\u003cbr\\u003etmodetp_label=%{y}\\u003cbr\\u003esample count=%{customdata[0]}\\u003cextra\\u003e\\u003c\\u002fextra\\u003e\",\"legendgroup\":\"model\",\"marker\":{\"color\":\"#91268F\",\"pattern\":{\"shape\":\"\"}},\"name\":\"model\",\"offsetgroup\":\"model\",\"orientation\":\"h\",\"showlegend\":false,\"textposition\":\"auto\",\"x\":[0.08850574712643679,0.011247532799256938,0.32581562753976545,0.18101996981307325,0.38784395680947403,0.00509114129803785,0.00047602461395564844],\"xaxis\":\"x\",\"y\":[\"1: walk\",\"2: bike\",\"3: sov\",\"4: hov 2\",\"5: hov 3+\",\"6: walk to transit\",\"9: tnc\"],\"yaxis\":\"y\",\"type\":\"bar\"},{\"alignmentgroup\":\"True\",\"customdata\":[[227],[29],[8],[15],[12],[128],[5],[10]],\"hovertemplate\":\"source=survey\\u003cbr\\u003eauto_ownership_4+=0\\u003cbr\\u003epercentage=%{x}\\u003cbr\\u003etmodetp_label=%{y}\\u003cbr\\u003esample count=%{customdata[0]}\\u003cextra\\u003e\\u003c\\u002fextra\\u003e\",\"legendgroup\":\"survey\",\"marker\":{\"color\":\"#8CC63E\",\"pattern\":{\"shape\":\"\"}},\"name\":\"survey\",\"offsetgroup\":\"survey\",\"orientation\":\"h\",\"showlegend\":true,\"textposition\":\"auto\",\"x\":[0.36708089253694415,0.02793903230890399,0.0465595993563002,0.06135899013640234,0.005081612623839357,0.4597244903198269,0.003652323041165991,0.02860305967661701],\"xaxis\":\"x5\",\"y\":[\"1: walk\",\"2: bike\",\"3: sov\",\"4: hov 2\",\"5: hov 3+\",\"6: walk to transit\",\"7: park-and-ride\",\"9: tnc\"],\"yaxis\":\"y5\",\"type\":\"bar\"},{\"alignmentgroup\":\"True\",\"customdata\":[[441],[60],[556],[296],[163],[54],[6],[2],[4]],\"hovertemplate\":\"source=survey\\u003cbr\\u003eauto_ownership_4+=1\\u003cbr\\u003epercentage=%{x}\\u003cbr\\u003etmodetp_label=%{y}\\u003cbr\\u003esample count=%{customdata[0]}\\u003cextra\\u003e\\u003c\\u002fextra\\u003e\",\"legendgroup\":\"survey\",\"marker\":{\"color\":\"#8CC63E\",\"pattern\":{\"shape\":\"\"}},\"name\":\"survey\",\"offsetgroup\":\"survey\",\"orientation\":\"h\",\"showlegend\":false,\"textposition\":\"auto\",\"x\":[0.16451981755649753,0.01646532979566664,0.2994231590537945,0.13689041168099603,0.30760031300051943,0.036274828899611394,0.03327007877725735,6.529213932876693e-05,0.00549076909632833],\"xaxis\":\"x6\",\"y\":[\"1: walk\",\"2: bike\",\"3: sov\",\"4: hov 2\",\"5: hov 3+\",\"6: walk to transit\",\"7: park-and-ride\",\"8: school bus\",\"9: tnc\"],\"yaxis\":\"y6\",\"type\":\"bar\"},{\"alignmentgroup\":\"True\",\"customdata\":[[187],[24],[494],[364],[270],[14],[5],[5]],\"hovertemplate\":\"source=survey\\u003cbr\\u003eauto_ownership_4+=2\\u003cbr\\u003epercentage=%{x}\\u003cbr\\u003etmodetp_label=%{y}\\u003cbr\\u003esample count=%{customdata[0]}\\u003cextra\\u003e\\u003c\\u002fextra\\u003e\",\"legendgroup\":\"survey\",\"marker\":{\"color\":\"#8CC63E\",\"pattern\":{\"shape\":\"\"}},\"name\":\"survey\",\"offsetgroup\":\"survey\",\"orientation\":\"h\",\"showlegend\":false,\"textposition\":\"auto\",\"x\":[0.10321236293253258,0.008496355620791568,0.28982015639173236,0.20429045139011284,0.38449856985273934,0.008389998340706653,0.0006205808003266372,0.0006715246710579709],\"xaxis\":\"x3\",\"y\":[\"1: walk\",\"2: bike\",\"3: sov\",\"4: hov 2\",\"5: hov 3+\",\"6: walk to transit\",\"7: park-and-ride\",\"9: tnc\"],\"yaxis\":\"y3\",\"type\":\"bar\"},{\"alignmentgroup\":\"True\",\"customdata\":[[38],[2],[194],[91],[45],[2]],\"hovertemplate\":\"source=survey\\u003cbr\\u003eauto_ownership_4+=3\\u003cbr\\u003epercentage=%{x}\\u003cbr\\u003etmodetp_label=%{y}\\u003cbr\\u003esample count=%{customdata[0]}\\u003cextra\\u003e\\u003c\\u002fextra\\u003e\",\"legendgroup\":\"survey\",\"marker\":{\"color\":\"#8CC63E\",\"pattern\":{\"shape\":\"\"}},\"name\":\"survey\",\"offsetgroup\":\"survey\",\"orientation\":\"h\",\"showlegend\":false,\"textposition\":\"auto\",\"x\":[0.06076384587329915,0.00034180499402173826,0.5083574259759145,0.1986280378112497,0.22360571144483768,0.008303173900677094],\"xaxis\":\"x4\",\"y\":[\"1: walk\",\"2: bike\",\"3: sov\",\"4: hov 2\",\"5: hov 3+\",\"6: walk to transit\"],\"yaxis\":\"y4\",\"type\":\"bar\"},{\"alignmentgroup\":\"True\",\"customdata\":[[13],[3],[65],[45],[16],[2]],\"hovertemplate\":\"source=survey\\u003cbr\\u003eauto_ownership_4+=4+\\u003cbr\\u003epercentage=%{x}\\u003cbr\\u003etmodetp_label=%{y}\\u003cbr\\u003esample count=%{customdata[0]}\\u003cextra\\u003e\\u003c\\u002fextra\\u003e\",\"legendgroup\":\"survey\",\"marker\":{\"color\":\"#8CC63E\",\"pattern\":{\"shape\":\"\"}},\"name\":\"survey\",\"offsetgroup\":\"survey\",\"orientation\":\"h\",\"showlegend\":false,\"textposition\":\"auto\",\"x\":[0.09236492469889393,0.061210753310083264,0.3763918480488231,0.3659793017390984,0.09106024912864188,0.012992923074459406],\"xaxis\":\"x\",\"y\":[\"1: walk\",\"2: bike\",\"3: sov\",\"4: hov 2\",\"5: hov 3+\",\"6: walk to transit\"],\"yaxis\":\"y\",\"type\":\"bar\"},{\"alignmentgroup\":\"True\",\"customdata\":[[247],[28],[10],[18],[13],[132],[5],[13]],\"hovertemplate\":\"source=survey (update)\\u003cbr\\u003eauto_ownership_4+=0\\u003cbr\\u003epercentage=%{x}\\u003cbr\\u003etmodetp_label=%{y}\\u003cbr\\u003esample count=%{customdata[0]}\\u003cextra\\u003e\\u003c\\u002fextra\\u003e\",\"legendgroup\":\"survey (update)\",\"marker\":{\"color\":\"#00A7A0\",\"pattern\":{\"shape\":\"\"}},\"name\":\"survey (update)\",\"offsetgroup\":\"survey (update)\",\"orientation\":\"h\",\"showlegend\":true,\"textposition\":\"auto\",\"x\":[0.43994351627791844,0.027781986138890342,0.009477900171473255,0.08090703056639363,0.004799759196288226,0.3903030363139304,0.006377757111577159,0.040409014223528675],\"xaxis\":\"x5\",\"y\":[\"1: walk\",\"2: bike\",\"3: sov\",\"4: hov 2\",\"5: hov 3+\",\"6: walk to transit\",\"7: park-and-ride\",\"9: tnc\"],\"yaxis\":\"y5\",\"type\":\"bar\"},{\"alignmentgroup\":\"True\",\"customdata\":[[460],[54],[587],[313],[179],[55],[6],[6]],\"hovertemplate\":\"source=survey (update)\\u003cbr\\u003eauto_ownership_4+=1\\u003cbr\\u003epercentage=%{x}\\u003cbr\\u003etmodetp_label=%{y}\\u003cbr\\u003esample count=%{customdata[0]}\\u003cextra\\u003e\\u003c\\u002fextra\\u003e\",\"legendgroup\":\"survey (update)\",\"marker\":{\"color\":\"#00A7A0\",\"pattern\":{\"shape\":\"\"}},\"name\":\"survey (update)\",\"offsetgroup\":\"survey (update)\",\"orientation\":\"h\",\"showlegend\":false,\"textposition\":\"auto\",\"x\":[0.2181554033919952,0.014251476160778691,0.3112664174835946,0.27224355739053563,0.07854026994577283,0.08976623645509604,0.012986660282686276,0.002789978889540683],\"xaxis\":\"x6\",\"y\":[\"1: walk\",\"2: bike\",\"3: sov\",\"4: hov 2\",\"5: hov 3+\",\"6: walk to transit\",\"7: park-and-ride\",\"9: tnc\"],\"yaxis\":\"y6\",\"type\":\"bar\"},{\"alignmentgroup\":\"True\",\"customdata\":[[203],[20],[527],[396],[293],[14],[5],[5]],\"hovertemplate\":\"source=survey (update)\\u003cbr\\u003eauto_ownership_4+=2\\u003cbr\\u003epercentage=%{x}\\u003cbr\\u003etmodetp_label=%{y}\\u003cbr\\u003esample count=%{customdata[0]}\\u003cextra\\u003e\\u003c\\u002fextra\\u003e\",\"legendgroup\":\"survey (update)\",\"marker\":{\"color\":\"#00A7A0\",\"pattern\":{\"shape\":\"\"}},\"name\":\"survey (update)\",\"offsetgroup\":\"survey (update)\",\"orientation\":\"h\",\"showlegend\":false,\"textposition\":\"auto\",\"x\":[0.08297255273283262,0.015086450689587716,0.350764522860521,0.28505275048269635,0.25145596297484923,0.012564337090489534,0.0006169276645905363,0.0014864955044330273],\"xaxis\":\"x3\",\"y\":[\"1: walk\",\"2: bike\",\"3: sov\",\"4: hov 2\",\"5: hov 3+\",\"6: walk to transit\",\"7: park-and-ride\",\"9: tnc\"],\"yaxis\":\"y3\",\"type\":\"bar\"},{\"alignmentgroup\":\"True\",\"customdata\":[[40],[3],[199],[96],[56],[2]],\"hovertemplate\":\"source=survey (update)\\u003cbr\\u003eauto_ownership_4+=3\\u003cbr\\u003epercentage=%{x}\\u003cbr\\u003etmodetp_label=%{y}\\u003cbr\\u003esample count=%{customdata[0]}\\u003cextra\\u003e\\u003c\\u002fextra\\u003e\",\"legendgroup\":\"survey (update)\",\"marker\":{\"color\":\"#00A7A0\",\"pattern\":{\"shape\":\"\"}},\"name\":\"survey (update)\",\"offsetgroup\":\"survey (update)\",\"orientation\":\"h\",\"showlegend\":false,\"textposition\":\"auto\",\"x\":[0.05510496883669091,0.0008284765887006667,0.5067776430910816,0.20122338789477384,0.23368458316581803,0.002380940422935132],\"xaxis\":\"x4\",\"y\":[\"1: walk\",\"2: bike\",\"3: sov\",\"4: hov 2\",\"5: hov 3+\",\"6: walk to transit\"],\"yaxis\":\"y4\",\"type\":\"bar\"},{\"alignmentgroup\":\"True\",\"customdata\":[[14],[3],[73],[48],[17],[3]],\"hovertemplate\":\"source=survey (update)\\u003cbr\\u003eauto_ownership_4+=4+\\u003cbr\\u003epercentage=%{x}\\u003cbr\\u003etmodetp_label=%{y}\\u003cbr\\u003esample count=%{customdata[0]}\\u003cextra\\u003e\\u003c\\u002fextra\\u003e\",\"legendgroup\":\"survey (update)\",\"marker\":{\"color\":\"#00A7A0\",\"pattern\":{\"shape\":\"\"}},\"name\":\"survey (update)\",\"offsetgroup\":\"survey (update)\",\"orientation\":\"h\",\"showlegend\":false,\"textposition\":\"auto\",\"x\":[0.09935500027638167,0.00295674212051197,0.43934553672910914,0.30254121505342796,0.1433135741498738,0.012487931670695536],\"xaxis\":\"x\",\"y\":[\"1: walk\",\"2: bike\",\"3: sov\",\"4: hov 2\",\"5: hov 3+\",\"6: walk to transit\"],\"yaxis\":\"y\",\"type\":\"bar\"}],                        {\"template\":{\"data\":{\"barpolar\":[{\"marker\":{\"line\":{\"color\":\"white\",\"width\":0.5},\"pattern\":{\"fillmode\":\"overlay\",\"size\":10,\"solidity\":0.2}},\"type\":\"barpolar\"}],\"bar\":[{\"error_x\":{\"color\":\"rgb(36,36,36)\"},\"error_y\":{\"color\":\"rgb(36,36,36)\"},\"marker\":{\"line\":{\"color\":\"white\",\"width\":0.5},\"pattern\":{\"fillmode\":\"overlay\",\"size\":10,\"solidity\":0.2}},\"type\":\"bar\"}],\"carpet\":[{\"aaxis\":{\"endlinecolor\":\"rgb(36,36,36)\",\"gridcolor\":\"white\",\"linecolor\":\"white\",\"minorgridcolor\":\"white\",\"startlinecolor\":\"rgb(36,36,36)\"},\"baxis\":{\"endlinecolor\":\"rgb(36,36,36)\",\"gridcolor\":\"white\",\"linecolor\":\"white\",\"minorgridcolor\":\"white\",\"startlinecolor\":\"rgb(36,36,36)\"},\"type\":\"carpet\"}],\"choropleth\":[{\"colorbar\":{\"outlinewidth\":1,\"tickcolor\":\"rgb(36,36,36)\",\"ticks\":\"outside\"},\"type\":\"choropleth\"}],\"contourcarpet\":[{\"colorbar\":{\"outlinewidth\":1,\"tickcolor\":\"rgb(36,36,36)\",\"ticks\":\"outside\"},\"type\":\"contourcarpet\"}],\"contour\":[{\"colorbar\":{\"outlinewidth\":1,\"tickcolor\":\"rgb(36,36,36)\",\"ticks\":\"outside\"},\"colorscale\":[[0.0,\"#440154\"],[0.1111111111111111,\"#482878\"],[0.2222222222222222,\"#3e4989\"],[0.3333333333333333,\"#31688e\"],[0.4444444444444444,\"#26828e\"],[0.5555555555555556,\"#1f9e89\"],[0.6666666666666666,\"#35b779\"],[0.7777777777777778,\"#6ece58\"],[0.8888888888888888,\"#b5de2b\"],[1.0,\"#fde725\"]],\"type\":\"contour\"}],\"heatmapgl\":[{\"colorbar\":{\"outlinewidth\":1,\"tickcolor\":\"rgb(36,36,36)\",\"ticks\":\"outside\"},\"colorscale\":[[0.0,\"#440154\"],[0.1111111111111111,\"#482878\"],[0.2222222222222222,\"#3e4989\"],[0.3333333333333333,\"#31688e\"],[0.4444444444444444,\"#26828e\"],[0.5555555555555556,\"#1f9e89\"],[0.6666666666666666,\"#35b779\"],[0.7777777777777778,\"#6ece58\"],[0.8888888888888888,\"#b5de2b\"],[1.0,\"#fde725\"]],\"type\":\"heatmapgl\"}],\"heatmap\":[{\"colorbar\":{\"outlinewidth\":1,\"tickcolor\":\"rgb(36,36,36)\",\"ticks\":\"outside\"},\"colorscale\":[[0.0,\"#440154\"],[0.1111111111111111,\"#482878\"],[0.2222222222222222,\"#3e4989\"],[0.3333333333333333,\"#31688e\"],[0.4444444444444444,\"#26828e\"],[0.5555555555555556,\"#1f9e89\"],[0.6666666666666666,\"#35b779\"],[0.7777777777777778,\"#6ece58\"],[0.8888888888888888,\"#b5de2b\"],[1.0,\"#fde725\"]],\"type\":\"heatmap\"}],\"histogram2dcontour\":[{\"colorbar\":{\"outlinewidth\":1,\"tickcolor\":\"rgb(36,36,36)\",\"ticks\":\"outside\"},\"colorscale\":[[0.0,\"#440154\"],[0.1111111111111111,\"#482878\"],[0.2222222222222222,\"#3e4989\"],[0.3333333333333333,\"#31688e\"],[0.4444444444444444,\"#26828e\"],[0.5555555555555556,\"#1f9e89\"],[0.6666666666666666,\"#35b779\"],[0.7777777777777778,\"#6ece58\"],[0.8888888888888888,\"#b5de2b\"],[1.0,\"#fde725\"]],\"type\":\"histogram2dcontour\"}],\"histogram2d\":[{\"colorbar\":{\"outlinewidth\":1,\"tickcolor\":\"rgb(36,36,36)\",\"ticks\":\"outside\"},\"colorscale\":[[0.0,\"#440154\"],[0.1111111111111111,\"#482878\"],[0.2222222222222222,\"#3e4989\"],[0.3333333333333333,\"#31688e\"],[0.4444444444444444,\"#26828e\"],[0.5555555555555556,\"#1f9e89\"],[0.6666666666666666,\"#35b779\"],[0.7777777777777778,\"#6ece58\"],[0.8888888888888888,\"#b5de2b\"],[1.0,\"#fde725\"]],\"type\":\"histogram2d\"}],\"histogram\":[{\"marker\":{\"line\":{\"color\":\"white\",\"width\":0.6}},\"type\":\"histogram\"}],\"mesh3d\":[{\"colorbar\":{\"outlinewidth\":1,\"tickcolor\":\"rgb(36,36,36)\",\"ticks\":\"outside\"},\"type\":\"mesh3d\"}],\"parcoords\":[{\"line\":{\"colorbar\":{\"outlinewidth\":1,\"tickcolor\":\"rgb(36,36,36)\",\"ticks\":\"outside\"}},\"type\":\"parcoords\"}],\"pie\":[{\"automargin\":true,\"type\":\"pie\"}],\"scatter3d\":[{\"line\":{\"colorbar\":{\"outlinewidth\":1,\"tickcolor\":\"rgb(36,36,36)\",\"ticks\":\"outside\"}},\"marker\":{\"colorbar\":{\"outlinewidth\":1,\"tickcolor\":\"rgb(36,36,36)\",\"ticks\":\"outside\"}},\"type\":\"scatter3d\"}],\"scattercarpet\":[{\"marker\":{\"colorbar\":{\"outlinewidth\":1,\"tickcolor\":\"rgb(36,36,36)\",\"ticks\":\"outside\"}},\"type\":\"scattercarpet\"}],\"scattergeo\":[{\"marker\":{\"colorbar\":{\"outlinewidth\":1,\"tickcolor\":\"rgb(36,36,36)\",\"ticks\":\"outside\"}},\"type\":\"scattergeo\"}],\"scattergl\":[{\"marker\":{\"colorbar\":{\"outlinewidth\":1,\"tickcolor\":\"rgb(36,36,36)\",\"ticks\":\"outside\"}},\"type\":\"scattergl\"}],\"scattermapbox\":[{\"marker\":{\"colorbar\":{\"outlinewidth\":1,\"tickcolor\":\"rgb(36,36,36)\",\"ticks\":\"outside\"}},\"type\":\"scattermapbox\"}],\"scatterpolargl\":[{\"marker\":{\"colorbar\":{\"outlinewidth\":1,\"tickcolor\":\"rgb(36,36,36)\",\"ticks\":\"outside\"}},\"type\":\"scatterpolargl\"}],\"scatterpolar\":[{\"marker\":{\"colorbar\":{\"outlinewidth\":1,\"tickcolor\":\"rgb(36,36,36)\",\"ticks\":\"outside\"}},\"type\":\"scatterpolar\"}],\"scatter\":[{\"fillpattern\":{\"fillmode\":\"overlay\",\"size\":10,\"solidity\":0.2},\"type\":\"scatter\"}],\"scatterternary\":[{\"marker\":{\"colorbar\":{\"outlinewidth\":1,\"tickcolor\":\"rgb(36,36,36)\",\"ticks\":\"outside\"}},\"type\":\"scatterternary\"}],\"surface\":[{\"colorbar\":{\"outlinewidth\":1,\"tickcolor\":\"rgb(36,36,36)\",\"ticks\":\"outside\"},\"colorscale\":[[0.0,\"#440154\"],[0.1111111111111111,\"#482878\"],[0.2222222222222222,\"#3e4989\"],[0.3333333333333333,\"#31688e\"],[0.4444444444444444,\"#26828e\"],[0.5555555555555556,\"#1f9e89\"],[0.6666666666666666,\"#35b779\"],[0.7777777777777778,\"#6ece58\"],[0.8888888888888888,\"#b5de2b\"],[1.0,\"#fde725\"]],\"type\":\"surface\"}],\"table\":[{\"cells\":{\"fill\":{\"color\":\"rgb(237,237,237)\"},\"line\":{\"color\":\"white\"}},\"header\":{\"fill\":{\"color\":\"rgb(217,217,217)\"},\"line\":{\"color\":\"white\"}},\"type\":\"table\"}]},\"layout\":{\"annotationdefaults\":{\"arrowhead\":0,\"arrowwidth\":1},\"autotypenumbers\":\"strict\",\"coloraxis\":{\"colorbar\":{\"outlinewidth\":1,\"tickcolor\":\"rgb(36,36,36)\",\"ticks\":\"outside\"}},\"colorscale\":{\"diverging\":[[0.0,\"rgb(103,0,31)\"],[0.1,\"rgb(178,24,43)\"],[0.2,\"rgb(214,96,77)\"],[0.3,\"rgb(244,165,130)\"],[0.4,\"rgb(253,219,199)\"],[0.5,\"rgb(247,247,247)\"],[0.6,\"rgb(209,229,240)\"],[0.7,\"rgb(146,197,222)\"],[0.8,\"rgb(67,147,195)\"],[0.9,\"rgb(33,102,172)\"],[1.0,\"rgb(5,48,97)\"]],\"sequential\":[[0.0,\"#440154\"],[0.1111111111111111,\"#482878\"],[0.2222222222222222,\"#3e4989\"],[0.3333333333333333,\"#31688e\"],[0.4444444444444444,\"#26828e\"],[0.5555555555555556,\"#1f9e89\"],[0.6666666666666666,\"#35b779\"],[0.7777777777777778,\"#6ece58\"],[0.8888888888888888,\"#b5de2b\"],[1.0,\"#fde725\"]],\"sequentialminus\":[[0.0,\"#440154\"],[0.1111111111111111,\"#482878\"],[0.2222222222222222,\"#3e4989\"],[0.3333333333333333,\"#31688e\"],[0.4444444444444444,\"#26828e\"],[0.5555555555555556,\"#1f9e89\"],[0.6666666666666666,\"#35b779\"],[0.7777777777777778,\"#6ece58\"],[0.8888888888888888,\"#b5de2b\"],[1.0,\"#fde725\"]]},\"colorway\":[\"#91268F\",\"#8CC63E\",\"#00A7A0\",\"#F05A28\",\"#4C4C4C\",\"#630460\",\"#9f3913\",\"#588527\",\"#00716c\",\"#3e4040\"],\"font\":{\"color\":\"rgb(36,36,36)\",\"family\":\"Poppins\",\"size\":11},\"geo\":{\"bgcolor\":\"white\",\"lakecolor\":\"white\",\"landcolor\":\"white\",\"showlakes\":true,\"showland\":true,\"subunitcolor\":\"white\"},\"hoverlabel\":{\"align\":\"left\"},\"hovermode\":\"closest\",\"mapbox\":{\"style\":\"light\"},\"paper_bgcolor\":\"white\",\"plot_bgcolor\":\"white\",\"polar\":{\"angularaxis\":{\"gridcolor\":\"rgb(232,232,232)\",\"linecolor\":\"rgb(36,36,36)\",\"showgrid\":false,\"showline\":true,\"ticks\":\"outside\"},\"bgcolor\":\"white\",\"radialaxis\":{\"gridcolor\":\"rgb(232,232,232)\",\"linecolor\":\"rgb(36,36,36)\",\"showgrid\":false,\"showline\":true,\"ticks\":\"outside\"}},\"scene\":{\"xaxis\":{\"backgroundcolor\":\"white\",\"gridcolor\":\"rgb(232,232,232)\",\"gridwidth\":2,\"linecolor\":\"rgb(36,36,36)\",\"showbackground\":true,\"showgrid\":false,\"showline\":true,\"ticks\":\"outside\",\"zeroline\":false,\"zerolinecolor\":\"rgb(36,36,36)\"},\"yaxis\":{\"backgroundcolor\":\"white\",\"gridcolor\":\"rgb(232,232,232)\",\"gridwidth\":2,\"linecolor\":\"rgb(36,36,36)\",\"showbackground\":true,\"showgrid\":false,\"showline\":true,\"ticks\":\"outside\",\"zeroline\":false,\"zerolinecolor\":\"rgb(36,36,36)\"},\"zaxis\":{\"backgroundcolor\":\"white\",\"gridcolor\":\"rgb(232,232,232)\",\"gridwidth\":2,\"linecolor\":\"rgb(36,36,36)\",\"showbackground\":true,\"showgrid\":false,\"showline\":true,\"ticks\":\"outside\",\"zeroline\":false,\"zerolinecolor\":\"rgb(36,36,36)\"}},\"shapedefaults\":{\"fillcolor\":\"black\",\"line\":{\"width\":0},\"opacity\":0.3},\"ternary\":{\"aaxis\":{\"gridcolor\":\"rgb(232,232,232)\",\"linecolor\":\"rgb(36,36,36)\",\"showgrid\":false,\"showline\":true,\"ticks\":\"outside\"},\"baxis\":{\"gridcolor\":\"rgb(232,232,232)\",\"linecolor\":\"rgb(36,36,36)\",\"showgrid\":false,\"showline\":true,\"ticks\":\"outside\"},\"bgcolor\":\"white\",\"caxis\":{\"gridcolor\":\"rgb(232,232,232)\",\"linecolor\":\"rgb(36,36,36)\",\"showgrid\":false,\"showline\":true,\"ticks\":\"outside\"}},\"title\":{\"x\":0.05},\"xaxis\":{\"automargin\":true,\"gridcolor\":\"rgb(232,232,232)\",\"linecolor\":\"rgb(36,36,36)\",\"showgrid\":false,\"showline\":true,\"ticks\":\"outside\",\"title\":{\"standoff\":15},\"zeroline\":false,\"zerolinecolor\":\"rgb(36,36,36)\"},\"yaxis\":{\"automargin\":true,\"gridcolor\":\"rgb(232,232,232)\",\"linecolor\":\"rgb(36,36,36)\",\"showgrid\":false,\"showline\":true,\"ticks\":\"outside\",\"title\":{\"standoff\":15},\"zeroline\":false,\"zerolinecolor\":\"rgb(36,36,36)\"}}},\"xaxis\":{\"anchor\":\"y\",\"domain\":[0.0,0.49],\"title\":{\"text\":\"percentage\"},\"tickformat\":\".1%\"},\"yaxis\":{\"anchor\":\"x\",\"domain\":[0.0,0.2866666666666666],\"title\":{\"text\":\"tmodetp_label\"},\"categoryorder\":\"array\",\"categoryarray\":[\"9: other\\u00e2\\u20ac\\u201csurvey only\",\"8: school bus\",\"7: park-and-ride\",\"6: walk to transit\",\"5: hov 3+\",\"4: hov 2\",\"3: sov\",\"2: bike\",\"1: walk\"]},\"xaxis2\":{\"anchor\":\"y2\",\"domain\":[0.51,1.0],\"matches\":\"x\",\"title\":{\"text\":\"percentage\"},\"tickformat\":\".1%\"},\"yaxis2\":{\"anchor\":\"x2\",\"domain\":[0.0,0.2866666666666666],\"matches\":\"y\",\"showticklabels\":false},\"xaxis3\":{\"anchor\":\"y3\",\"domain\":[0.0,0.49],\"matches\":\"x\",\"showticklabels\":false,\"tickformat\":\".1%\"},\"yaxis3\":{\"anchor\":\"x3\",\"domain\":[0.35666666666666663,0.6433333333333333],\"matches\":\"y\",\"title\":{\"text\":\"tmodetp_label\"},\"categoryorder\":\"array\",\"categoryarray\":[\"9: other\\u00e2\\u20ac\\u201csurvey only\",\"8: school bus\",\"7: park-and-ride\",\"6: walk to transit\",\"5: hov 3+\",\"4: hov 2\",\"3: sov\",\"2: bike\",\"1: walk\"]},\"xaxis4\":{\"anchor\":\"y4\",\"domain\":[0.51,1.0],\"matches\":\"x\",\"showticklabels\":false,\"tickformat\":\".1%\"},\"yaxis4\":{\"anchor\":\"x4\",\"domain\":[0.35666666666666663,0.6433333333333333],\"matches\":\"y\",\"showticklabels\":false},\"xaxis5\":{\"anchor\":\"y5\",\"domain\":[0.0,0.49],\"matches\":\"x\",\"showticklabels\":false,\"tickformat\":\".1%\"},\"yaxis5\":{\"anchor\":\"x5\",\"domain\":[0.7133333333333333,0.9999999999999999],\"matches\":\"y\",\"title\":{\"text\":\"tmodetp_label\"},\"categoryorder\":\"array\",\"categoryarray\":[\"9: other\\u00e2\\u20ac\\u201csurvey only\",\"8: school bus\",\"7: park-and-ride\",\"6: walk to transit\",\"5: hov 3+\",\"4: hov 2\",\"3: sov\",\"2: bike\",\"1: walk\"]},\"xaxis6\":{\"anchor\":\"y6\",\"domain\":[0.51,1.0],\"matches\":\"x\",\"showticklabels\":false,\"tickformat\":\".1%\"},\"yaxis6\":{\"anchor\":\"x6\",\"domain\":[0.7133333333333333,0.9999999999999999],\"matches\":\"y\",\"showticklabels\":false},\"annotations\":[{\"font\":{},\"showarrow\":false,\"text\":\"4+\",\"x\":0.245,\"xanchor\":\"center\",\"xref\":\"paper\",\"y\":0.2866666666666666,\"yanchor\":\"bottom\",\"yref\":\"paper\"},{\"font\":{},\"showarrow\":false,\"text\":\"2\",\"x\":0.245,\"xanchor\":\"center\",\"xref\":\"paper\",\"y\":0.6433333333333333,\"yanchor\":\"bottom\",\"yref\":\"paper\"},{\"font\":{},\"showarrow\":false,\"text\":\"3\",\"x\":0.755,\"xanchor\":\"center\",\"xref\":\"paper\",\"y\":0.6433333333333333,\"yanchor\":\"bottom\",\"yref\":\"paper\"},{\"font\":{},\"showarrow\":false,\"text\":\"0\",\"x\":0.245,\"xanchor\":\"center\",\"xref\":\"paper\",\"y\":0.9999999999999999,\"yanchor\":\"bottom\",\"yref\":\"paper\"},{\"font\":{},\"showarrow\":false,\"text\":\"1\",\"x\":0.755,\"xanchor\":\"center\",\"xref\":\"paper\",\"y\":0.9999999999999999,\"yanchor\":\"bottom\",\"yref\":\"paper\"}],\"legend\":{\"title\":{\"text\":\"source\"},\"tracegroupgap\":0},\"title\":{\"text\":\"other home-based tour mode choice by auto ownership\"},\"barmode\":\"group\",\"height\":800,\"width\":800},                        {\"responsive\": true}                    ).then(function(){\n",
       "                            \n",
       "var gd = document.getElementById('974a6ce4-f4c0-4831-8787-7c38de6d6a30');\n",
       "var x = new MutationObserver(function (mutations, observer) {{\n",
       "        var display = window.getComputedStyle(gd).display;\n",
       "        if (!display || display === 'none') {{\n",
       "            console.log([gd, 'removed!']);\n",
       "            Plotly.purge(gd);\n",
       "            observer.disconnect();\n",
       "        }}\n",
       "}});\n",
       "\n",
       "// Listen for the removal of the full notebook cells\n",
       "var notebookContainer = gd.closest('#notebook-container');\n",
       "if (notebookContainer) {{\n",
       "    x.observe(notebookContainer, {childList: true});\n",
       "}}\n",
       "\n",
       "// Listen for the clearing of the current output cell\n",
       "var outputEl = gd.closest('.output');\n",
       "if (outputEl) {{\n",
       "    x.observe(outputEl, {childList: true});\n",
       "}}\n",
       "\n",
       "                        })                };                });            </script>        </div>"
      ]
     },
     "metadata": {},
     "output_type": "display_data"
    }
   ],
   "source": [
    "plot_mode_choice(hb_tour.loc[hb_tour['auto_ownership_4+']!=\"-1\"],\"auto_ownership_4+\",\n",
    "                 {\"auto_ownership_4+\":[\"0\",\"1\",\"2\",\"3\",\"4+\"],\n",
    "                  \"tmodetp_label\":[\"1: walk\",\"2: bike\",\"3: sov\",\"4: hov 2\",\"5: hov 3+\",\"6: walk to transit\",\n",
    "                                   \"7: park-and-ride\",\"8: school bus\",\"9: other–survey only\"]},\n",
    "                 \"auto ownership\",2,800)"
   ]
  },
  {
   "cell_type": "raw",
   "metadata": {},
   "source": [
    "### auto availability"
   ]
  },
  {
   "cell_type": "code",
   "execution_count": 12,
   "metadata": {
    "ExecuteTime": {
     "end_time": "2024-08-30T21:20:16.380313Z",
     "start_time": "2024-08-30T21:20:13.505967Z"
    },
    "execution": {
     "iopub.execute_input": "2024-12-11T19:12:07.344874Z",
     "iopub.status.busy": "2024-12-11T19:12:07.343877Z",
     "iopub.status.idle": "2024-12-11T19:12:09.642603Z",
     "shell.execute_reply": "2024-12-11T19:12:09.640552Z"
    }
   },
   "outputs": [
    {
     "data": {
      "application/vnd.plotly.v1+json": {
       "config": {
        "plotlyServerURL": "https://plot.ly"
       },
       "data": [
        {
         "alignmentgroup": "True",
         "customdata": [
          [
           78151
          ],
          [
           6798
          ],
          [
           5339
          ],
          [
           4956
          ],
          [
           66716
          ],
          [
           3994
          ]
         ],
         "hovertemplate": "source=model<br>auto_available_driver=no car<br>percentage=%{x}<br>tmodetp_label=%{y}<br>sample count=%{customdata[0]}<extra></extra>",
         "legendgroup": "model",
         "marker": {
          "color": "#91268F",
          "pattern": {
           "shape": ""
          }
         },
         "name": "model",
         "offsetgroup": "model",
         "orientation": "h",
         "showlegend": true,
         "textposition": "auto",
         "type": "bar",
         "x": [
          0.47091965243380696,
          0.0409631584655989,
          0.032171565614567896,
          0.029863697169095052,
          0.402015016209311,
          0.024066910107620184
         ],
         "xaxis": "x",
         "y": [
          "1: walk",
          "2: bike",
          "4: hov 2",
          "5: hov 3+",
          "6: walk to transit",
          "9: tnc"
         ],
         "yaxis": "y"
        },
        {
         "alignmentgroup": "True",
         "customdata": [
          [
           99684
          ],
          [
           10553
          ],
          [
           170720
          ],
          [
           189850
          ],
          [
           301677
          ],
          [
           23496
          ],
          [
           2580
          ]
         ],
         "hovertemplate": "source=model<br>auto_available_driver=cars fewer than drivers<br>percentage=%{x}<br>tmodetp_label=%{y}<br>sample count=%{customdata[0]}<extra></extra>",
         "legendgroup": "model",
         "marker": {
          "color": "#91268F",
          "pattern": {
           "shape": ""
          }
         },
         "name": "model",
         "offsetgroup": "model",
         "orientation": "h",
         "showlegend": false,
         "textposition": "auto",
         "type": "bar",
         "x": [
          0.12482969344820677,
          0.013215037066720095,
          0.21378481266279303,
          0.2377404327790022,
          0.37777624724504105,
          0.02942296133039471,
          0.003230815467842116
         ],
         "xaxis": "x2",
         "y": [
          "1: walk",
          "2: bike",
          "3: sov",
          "4: hov 2",
          "5: hov 3+",
          "6: walk to transit",
          "9: tnc"
         ],
         "yaxis": "y2"
        },
        {
         "alignmentgroup": "True",
         "customdata": [
          [
           194536
          ],
          [
           25760
          ],
          [
           756886
          ],
          [
           362289
          ],
          [
           446905
          ],
          [
           5225
          ],
          [
           127
          ]
         ],
         "hovertemplate": "source=model<br>auto_available_driver=enough cars<br>percentage=%{x}<br>tmodetp_label=%{y}<br>sample count=%{customdata[0]}<extra></extra>",
         "legendgroup": "model",
         "marker": {
          "color": "#91268F",
          "pattern": {
           "shape": ""
          }
         },
         "name": "model",
         "offsetgroup": "model",
         "orientation": "h",
         "showlegend": false,
         "textposition": "auto",
         "type": "bar",
         "x": [
          0.1085745157747158,
          0.014377182250877365,
          0.4224335390193154,
          0.2022008920996937,
          0.2494268103194235,
          0.0029161792414920122,
          7.088129448219819e-05
         ],
         "xaxis": "x3",
         "y": [
          "1: walk",
          "2: bike",
          "3: sov",
          "4: hov 2",
          "5: hov 3+",
          "6: walk to transit",
          "9: tnc"
         ],
         "yaxis": "y3"
        },
        {
         "alignmentgroup": "True",
         "customdata": [
          [
           227
          ],
          [
           29
          ],
          [
           8
          ],
          [
           15
          ],
          [
           12
          ],
          [
           128
          ],
          [
           5
          ],
          [
           10
          ]
         ],
         "hovertemplate": "source=survey<br>auto_available_driver=no car<br>percentage=%{x}<br>tmodetp_label=%{y}<br>sample count=%{customdata[0]}<extra></extra>",
         "legendgroup": "survey",
         "marker": {
          "color": "#8CC63E",
          "pattern": {
           "shape": ""
          }
         },
         "name": "survey",
         "offsetgroup": "survey",
         "orientation": "h",
         "showlegend": true,
         "textposition": "auto",
         "type": "bar",
         "x": [
          0.36708089253694415,
          0.02793903230890399,
          0.0465595993563002,
          0.06135899013640234,
          0.005081612623839357,
          0.4597244903198269,
          0.003652323041165991,
          0.02860305967661701
         ],
         "xaxis": "x",
         "y": [
          "1: walk",
          "2: bike",
          "3: sov",
          "4: hov 2",
          "5: hov 3+",
          "6: walk to transit",
          "7: park-and-ride",
          "9: tnc"
         ],
         "yaxis": "y"
        },
        {
         "alignmentgroup": "True",
         "customdata": [
          [
           256
          ],
          [
           35
          ],
          [
           225
          ],
          [
           250
          ],
          [
           192
          ],
          [
           34
          ],
          [
           9
          ],
          [
           2
          ],
          [
           2
          ]
         ],
         "hovertemplate": "source=survey<br>auto_available_driver=cars fewer than drivers<br>percentage=%{x}<br>tmodetp_label=%{y}<br>sample count=%{customdata[0]}<extra></extra>",
         "legendgroup": "survey",
         "marker": {
          "color": "#8CC63E",
          "pattern": {
           "shape": ""
          }
         },
         "name": "survey",
         "offsetgroup": "survey",
         "orientation": "h",
         "showlegend": false,
         "textposition": "auto",
         "type": "bar",
         "x": [
          0.11503610082695445,
          0.013158373742413418,
          0.20084519452999552,
          0.14538041092271303,
          0.46987744726165165,
          0.027028602486876226,
          0.025088181238477822,
          4.8403943084283895e-05,
          0.003537285047833648
         ],
         "xaxis": "x2",
         "y": [
          "1: walk",
          "2: bike",
          "3: sov",
          "4: hov 2",
          "5: hov 3+",
          "6: walk to transit",
          "7: park-and-ride",
          "8: school bus",
          "9: tnc"
         ],
         "yaxis": "y2"
        },
        {
         "alignmentgroup": "True",
         "customdata": [
          [
           423
          ],
          [
           54
          ],
          [
           1084
          ],
          [
           546
          ],
          [
           302
          ],
          [
           38
          ],
          [
           2
          ],
          [
           7
          ]
         ],
         "hovertemplate": "source=survey<br>auto_available_driver=enough cars<br>percentage=%{x}<br>tmodetp_label=%{y}<br>sample count=%{customdata[0]}<extra></extra>",
         "legendgroup": "survey",
         "marker": {
          "color": "#8CC63E",
          "pattern": {
           "shape": ""
          }
         },
         "name": "survey",
         "offsetgroup": "survey",
         "orientation": "h",
         "showlegend": false,
         "textposition": "auto",
         "type": "bar",
         "x": [
          0.1044919759472785,
          0.015282648795168392,
          0.4050610302765768,
          0.23260769862494196,
          0.23164296258874237,
          0.00998887984718479,
          0.00023737266289968105,
          0.0006874312572074046
         ],
         "xaxis": "x3",
         "y": [
          "1: walk",
          "2: bike",
          "3: sov",
          "4: hov 2",
          "5: hov 3+",
          "6: walk to transit",
          "7: park-and-ride",
          "9: tnc"
         ],
         "yaxis": "y3"
        },
        {
         "alignmentgroup": "True",
         "customdata": [
          [
           247
          ],
          [
           28
          ],
          [
           10
          ],
          [
           20
          ],
          [
           13
          ],
          [
           132
          ],
          [
           5
          ],
          [
           13
          ]
         ],
         "hovertemplate": "source=survey (update)<br>auto_available_driver=no car<br>percentage=%{x}<br>tmodetp_label=%{y}<br>sample count=%{customdata[0]}<extra></extra>",
         "legendgroup": "survey (update)",
         "marker": {
          "color": "#00A7A0",
          "pattern": {
           "shape": ""
          }
         },
         "name": "survey (update)",
         "offsetgroup": "survey (update)",
         "orientation": "h",
         "showlegend": true,
         "textposition": "auto",
         "type": "bar",
         "x": [
          0.43135735168289563,
          0.027239778566919975,
          0.009292924582843245,
          0.09884452304372335,
          0.004706084620005185,
          0.3826856809314008,
          0.006253285514017608,
          0.03962037105819411
         ],
         "xaxis": "x",
         "y": [
          "1: walk",
          "2: bike",
          "3: sov",
          "4: hov 2",
          "5: hov 3+",
          "6: walk to transit",
          "7: park-and-ride",
          "9: tnc"
         ],
         "yaxis": "y"
        },
        {
         "alignmentgroup": "True",
         "customdata": [
          [
           283
          ],
          [
           35
          ],
          [
           252
          ],
          [
           279
          ],
          [
           219
          ],
          [
           36
          ],
          [
           9
          ],
          [
           4
          ]
         ],
         "hovertemplate": "source=survey (update)<br>auto_available_driver=cars fewer than drivers<br>percentage=%{x}<br>tmodetp_label=%{y}<br>sample count=%{customdata[0]}<extra></extra>",
         "legendgroup": "survey (update)",
         "marker": {
          "color": "#00A7A0",
          "pattern": {
           "shape": ""
          }
         },
         "name": "survey (update)",
         "offsetgroup": "survey (update)",
         "orientation": "h",
         "showlegend": false,
         "textposition": "auto",
         "type": "bar",
         "x": [
          0.14945699664479603,
          0.024730732326939606,
          0.20149927815423815,
          0.33076137993971005,
          0.2107533845384948,
          0.06812264190248299,
          0.012472337382291096,
          0.0022032491110472647
         ],
         "xaxis": "x2",
         "y": [
          "1: walk",
          "2: bike",
          "3: sov",
          "4: hov 2",
          "5: hov 3+",
          "6: walk to transit",
          "7: park-and-ride",
          "9: tnc"
         ],
         "yaxis": "y2"
        },
        {
         "alignmentgroup": "True",
         "customdata": [
          [
           434
          ],
          [
           45
          ],
          [
           1134
          ],
          [
           574
          ],
          [
           326
          ],
          [
           38
          ],
          [
           2
          ],
          [
           7
          ]
         ],
         "hovertemplate": "source=survey (update)<br>auto_available_driver=enough cars<br>percentage=%{x}<br>tmodetp_label=%{y}<br>sample count=%{customdata[0]}<extra></extra>",
         "legendgroup": "survey (update)",
         "marker": {
          "color": "#00A7A0",
          "pattern": {
           "shape": ""
          }
         },
         "name": "survey (update)",
         "offsetgroup": "survey (update)",
         "orientation": "h",
         "showlegend": false,
         "textposition": "auto",
         "type": "bar",
         "x": [
          0.10307756408998549,
          0.0052707808370389166,
          0.45133138872581596,
          0.2413913041693625,
          0.18084507093832197,
          0.016764461742779173,
          0.00021863922795233725,
          0.0011007902687436668
         ],
         "xaxis": "x3",
         "y": [
          "1: walk",
          "2: bike",
          "3: sov",
          "4: hov 2",
          "5: hov 3+",
          "6: walk to transit",
          "7: park-and-ride",
          "9: tnc"
         ],
         "yaxis": "y3"
        }
       ],
       "layout": {
        "annotations": [
         {
          "font": {},
          "showarrow": false,
          "text": "no car",
          "x": 0.15999999999999998,
          "xanchor": "center",
          "xref": "paper",
          "y": 1.0,
          "yanchor": "bottom",
          "yref": "paper"
         },
         {
          "font": {},
          "showarrow": false,
          "text": "cars fewer than drivers",
          "x": 0.49999999999999994,
          "xanchor": "center",
          "xref": "paper",
          "y": 1.0,
          "yanchor": "bottom",
          "yref": "paper"
         },
         {
          "font": {},
          "showarrow": false,
          "text": "enough cars",
          "x": 0.8399999999999999,
          "xanchor": "center",
          "xref": "paper",
          "y": 1.0,
          "yanchor": "bottom",
          "yref": "paper"
         }
        ],
        "barmode": "group",
        "height": 500,
        "legend": {
         "title": {
          "text": "source"
         },
         "tracegroupgap": 0
        },
        "template": {
         "data": {
          "bar": [
           {
            "error_x": {
             "color": "rgb(36,36,36)"
            },
            "error_y": {
             "color": "rgb(36,36,36)"
            },
            "marker": {
             "line": {
              "color": "white",
              "width": 0.5
             },
             "pattern": {
              "fillmode": "overlay",
              "size": 10,
              "solidity": 0.2
             }
            },
            "type": "bar"
           }
          ],
          "barpolar": [
           {
            "marker": {
             "line": {
              "color": "white",
              "width": 0.5
             },
             "pattern": {
              "fillmode": "overlay",
              "size": 10,
              "solidity": 0.2
             }
            },
            "type": "barpolar"
           }
          ],
          "carpet": [
           {
            "aaxis": {
             "endlinecolor": "rgb(36,36,36)",
             "gridcolor": "white",
             "linecolor": "white",
             "minorgridcolor": "white",
             "startlinecolor": "rgb(36,36,36)"
            },
            "baxis": {
             "endlinecolor": "rgb(36,36,36)",
             "gridcolor": "white",
             "linecolor": "white",
             "minorgridcolor": "white",
             "startlinecolor": "rgb(36,36,36)"
            },
            "type": "carpet"
           }
          ],
          "choropleth": [
           {
            "colorbar": {
             "outlinewidth": 1,
             "tickcolor": "rgb(36,36,36)",
             "ticks": "outside"
            },
            "type": "choropleth"
           }
          ],
          "contour": [
           {
            "colorbar": {
             "outlinewidth": 1,
             "tickcolor": "rgb(36,36,36)",
             "ticks": "outside"
            },
            "colorscale": [
             [
              0.0,
              "#440154"
             ],
             [
              0.1111111111111111,
              "#482878"
             ],
             [
              0.2222222222222222,
              "#3e4989"
             ],
             [
              0.3333333333333333,
              "#31688e"
             ],
             [
              0.4444444444444444,
              "#26828e"
             ],
             [
              0.5555555555555556,
              "#1f9e89"
             ],
             [
              0.6666666666666666,
              "#35b779"
             ],
             [
              0.7777777777777778,
              "#6ece58"
             ],
             [
              0.8888888888888888,
              "#b5de2b"
             ],
             [
              1.0,
              "#fde725"
             ]
            ],
            "type": "contour"
           }
          ],
          "contourcarpet": [
           {
            "colorbar": {
             "outlinewidth": 1,
             "tickcolor": "rgb(36,36,36)",
             "ticks": "outside"
            },
            "type": "contourcarpet"
           }
          ],
          "heatmap": [
           {
            "colorbar": {
             "outlinewidth": 1,
             "tickcolor": "rgb(36,36,36)",
             "ticks": "outside"
            },
            "colorscale": [
             [
              0.0,
              "#440154"
             ],
             [
              0.1111111111111111,
              "#482878"
             ],
             [
              0.2222222222222222,
              "#3e4989"
             ],
             [
              0.3333333333333333,
              "#31688e"
             ],
             [
              0.4444444444444444,
              "#26828e"
             ],
             [
              0.5555555555555556,
              "#1f9e89"
             ],
             [
              0.6666666666666666,
              "#35b779"
             ],
             [
              0.7777777777777778,
              "#6ece58"
             ],
             [
              0.8888888888888888,
              "#b5de2b"
             ],
             [
              1.0,
              "#fde725"
             ]
            ],
            "type": "heatmap"
           }
          ],
          "heatmapgl": [
           {
            "colorbar": {
             "outlinewidth": 1,
             "tickcolor": "rgb(36,36,36)",
             "ticks": "outside"
            },
            "colorscale": [
             [
              0.0,
              "#440154"
             ],
             [
              0.1111111111111111,
              "#482878"
             ],
             [
              0.2222222222222222,
              "#3e4989"
             ],
             [
              0.3333333333333333,
              "#31688e"
             ],
             [
              0.4444444444444444,
              "#26828e"
             ],
             [
              0.5555555555555556,
              "#1f9e89"
             ],
             [
              0.6666666666666666,
              "#35b779"
             ],
             [
              0.7777777777777778,
              "#6ece58"
             ],
             [
              0.8888888888888888,
              "#b5de2b"
             ],
             [
              1.0,
              "#fde725"
             ]
            ],
            "type": "heatmapgl"
           }
          ],
          "histogram": [
           {
            "marker": {
             "line": {
              "color": "white",
              "width": 0.6
             }
            },
            "type": "histogram"
           }
          ],
          "histogram2d": [
           {
            "colorbar": {
             "outlinewidth": 1,
             "tickcolor": "rgb(36,36,36)",
             "ticks": "outside"
            },
            "colorscale": [
             [
              0.0,
              "#440154"
             ],
             [
              0.1111111111111111,
              "#482878"
             ],
             [
              0.2222222222222222,
              "#3e4989"
             ],
             [
              0.3333333333333333,
              "#31688e"
             ],
             [
              0.4444444444444444,
              "#26828e"
             ],
             [
              0.5555555555555556,
              "#1f9e89"
             ],
             [
              0.6666666666666666,
              "#35b779"
             ],
             [
              0.7777777777777778,
              "#6ece58"
             ],
             [
              0.8888888888888888,
              "#b5de2b"
             ],
             [
              1.0,
              "#fde725"
             ]
            ],
            "type": "histogram2d"
           }
          ],
          "histogram2dcontour": [
           {
            "colorbar": {
             "outlinewidth": 1,
             "tickcolor": "rgb(36,36,36)",
             "ticks": "outside"
            },
            "colorscale": [
             [
              0.0,
              "#440154"
             ],
             [
              0.1111111111111111,
              "#482878"
             ],
             [
              0.2222222222222222,
              "#3e4989"
             ],
             [
              0.3333333333333333,
              "#31688e"
             ],
             [
              0.4444444444444444,
              "#26828e"
             ],
             [
              0.5555555555555556,
              "#1f9e89"
             ],
             [
              0.6666666666666666,
              "#35b779"
             ],
             [
              0.7777777777777778,
              "#6ece58"
             ],
             [
              0.8888888888888888,
              "#b5de2b"
             ],
             [
              1.0,
              "#fde725"
             ]
            ],
            "type": "histogram2dcontour"
           }
          ],
          "mesh3d": [
           {
            "colorbar": {
             "outlinewidth": 1,
             "tickcolor": "rgb(36,36,36)",
             "ticks": "outside"
            },
            "type": "mesh3d"
           }
          ],
          "parcoords": [
           {
            "line": {
             "colorbar": {
              "outlinewidth": 1,
              "tickcolor": "rgb(36,36,36)",
              "ticks": "outside"
             }
            },
            "type": "parcoords"
           }
          ],
          "pie": [
           {
            "automargin": true,
            "type": "pie"
           }
          ],
          "scatter": [
           {
            "fillpattern": {
             "fillmode": "overlay",
             "size": 10,
             "solidity": 0.2
            },
            "type": "scatter"
           }
          ],
          "scatter3d": [
           {
            "line": {
             "colorbar": {
              "outlinewidth": 1,
              "tickcolor": "rgb(36,36,36)",
              "ticks": "outside"
             }
            },
            "marker": {
             "colorbar": {
              "outlinewidth": 1,
              "tickcolor": "rgb(36,36,36)",
              "ticks": "outside"
             }
            },
            "type": "scatter3d"
           }
          ],
          "scattercarpet": [
           {
            "marker": {
             "colorbar": {
              "outlinewidth": 1,
              "tickcolor": "rgb(36,36,36)",
              "ticks": "outside"
             }
            },
            "type": "scattercarpet"
           }
          ],
          "scattergeo": [
           {
            "marker": {
             "colorbar": {
              "outlinewidth": 1,
              "tickcolor": "rgb(36,36,36)",
              "ticks": "outside"
             }
            },
            "type": "scattergeo"
           }
          ],
          "scattergl": [
           {
            "marker": {
             "colorbar": {
              "outlinewidth": 1,
              "tickcolor": "rgb(36,36,36)",
              "ticks": "outside"
             }
            },
            "type": "scattergl"
           }
          ],
          "scattermapbox": [
           {
            "marker": {
             "colorbar": {
              "outlinewidth": 1,
              "tickcolor": "rgb(36,36,36)",
              "ticks": "outside"
             }
            },
            "type": "scattermapbox"
           }
          ],
          "scatterpolar": [
           {
            "marker": {
             "colorbar": {
              "outlinewidth": 1,
              "tickcolor": "rgb(36,36,36)",
              "ticks": "outside"
             }
            },
            "type": "scatterpolar"
           }
          ],
          "scatterpolargl": [
           {
            "marker": {
             "colorbar": {
              "outlinewidth": 1,
              "tickcolor": "rgb(36,36,36)",
              "ticks": "outside"
             }
            },
            "type": "scatterpolargl"
           }
          ],
          "scatterternary": [
           {
            "marker": {
             "colorbar": {
              "outlinewidth": 1,
              "tickcolor": "rgb(36,36,36)",
              "ticks": "outside"
             }
            },
            "type": "scatterternary"
           }
          ],
          "surface": [
           {
            "colorbar": {
             "outlinewidth": 1,
             "tickcolor": "rgb(36,36,36)",
             "ticks": "outside"
            },
            "colorscale": [
             [
              0.0,
              "#440154"
             ],
             [
              0.1111111111111111,
              "#482878"
             ],
             [
              0.2222222222222222,
              "#3e4989"
             ],
             [
              0.3333333333333333,
              "#31688e"
             ],
             [
              0.4444444444444444,
              "#26828e"
             ],
             [
              0.5555555555555556,
              "#1f9e89"
             ],
             [
              0.6666666666666666,
              "#35b779"
             ],
             [
              0.7777777777777778,
              "#6ece58"
             ],
             [
              0.8888888888888888,
              "#b5de2b"
             ],
             [
              1.0,
              "#fde725"
             ]
            ],
            "type": "surface"
           }
          ],
          "table": [
           {
            "cells": {
             "fill": {
              "color": "rgb(237,237,237)"
             },
             "line": {
              "color": "white"
             }
            },
            "header": {
             "fill": {
              "color": "rgb(217,217,217)"
             },
             "line": {
              "color": "white"
             }
            },
            "type": "table"
           }
          ]
         },
         "layout": {
          "annotationdefaults": {
           "arrowhead": 0,
           "arrowwidth": 1
          },
          "autotypenumbers": "strict",
          "coloraxis": {
           "colorbar": {
            "outlinewidth": 1,
            "tickcolor": "rgb(36,36,36)",
            "ticks": "outside"
           }
          },
          "colorscale": {
           "diverging": [
            [
             0.0,
             "rgb(103,0,31)"
            ],
            [
             0.1,
             "rgb(178,24,43)"
            ],
            [
             0.2,
             "rgb(214,96,77)"
            ],
            [
             0.3,
             "rgb(244,165,130)"
            ],
            [
             0.4,
             "rgb(253,219,199)"
            ],
            [
             0.5,
             "rgb(247,247,247)"
            ],
            [
             0.6,
             "rgb(209,229,240)"
            ],
            [
             0.7,
             "rgb(146,197,222)"
            ],
            [
             0.8,
             "rgb(67,147,195)"
            ],
            [
             0.9,
             "rgb(33,102,172)"
            ],
            [
             1.0,
             "rgb(5,48,97)"
            ]
           ],
           "sequential": [
            [
             0.0,
             "#440154"
            ],
            [
             0.1111111111111111,
             "#482878"
            ],
            [
             0.2222222222222222,
             "#3e4989"
            ],
            [
             0.3333333333333333,
             "#31688e"
            ],
            [
             0.4444444444444444,
             "#26828e"
            ],
            [
             0.5555555555555556,
             "#1f9e89"
            ],
            [
             0.6666666666666666,
             "#35b779"
            ],
            [
             0.7777777777777778,
             "#6ece58"
            ],
            [
             0.8888888888888888,
             "#b5de2b"
            ],
            [
             1.0,
             "#fde725"
            ]
           ],
           "sequentialminus": [
            [
             0.0,
             "#440154"
            ],
            [
             0.1111111111111111,
             "#482878"
            ],
            [
             0.2222222222222222,
             "#3e4989"
            ],
            [
             0.3333333333333333,
             "#31688e"
            ],
            [
             0.4444444444444444,
             "#26828e"
            ],
            [
             0.5555555555555556,
             "#1f9e89"
            ],
            [
             0.6666666666666666,
             "#35b779"
            ],
            [
             0.7777777777777778,
             "#6ece58"
            ],
            [
             0.8888888888888888,
             "#b5de2b"
            ],
            [
             1.0,
             "#fde725"
            ]
           ]
          },
          "colorway": [
           "#91268F",
           "#8CC63E",
           "#00A7A0",
           "#F05A28",
           "#4C4C4C",
           "#630460",
           "#9f3913",
           "#588527",
           "#00716c",
           "#3e4040"
          ],
          "font": {
           "color": "rgb(36,36,36)",
           "family": "Poppins",
           "size": 11
          },
          "geo": {
           "bgcolor": "white",
           "lakecolor": "white",
           "landcolor": "white",
           "showlakes": true,
           "showland": true,
           "subunitcolor": "white"
          },
          "hoverlabel": {
           "align": "left"
          },
          "hovermode": "closest",
          "mapbox": {
           "style": "light"
          },
          "paper_bgcolor": "white",
          "plot_bgcolor": "white",
          "polar": {
           "angularaxis": {
            "gridcolor": "rgb(232,232,232)",
            "linecolor": "rgb(36,36,36)",
            "showgrid": false,
            "showline": true,
            "ticks": "outside"
           },
           "bgcolor": "white",
           "radialaxis": {
            "gridcolor": "rgb(232,232,232)",
            "linecolor": "rgb(36,36,36)",
            "showgrid": false,
            "showline": true,
            "ticks": "outside"
           }
          },
          "scene": {
           "xaxis": {
            "backgroundcolor": "white",
            "gridcolor": "rgb(232,232,232)",
            "gridwidth": 2,
            "linecolor": "rgb(36,36,36)",
            "showbackground": true,
            "showgrid": false,
            "showline": true,
            "ticks": "outside",
            "zeroline": false,
            "zerolinecolor": "rgb(36,36,36)"
           },
           "yaxis": {
            "backgroundcolor": "white",
            "gridcolor": "rgb(232,232,232)",
            "gridwidth": 2,
            "linecolor": "rgb(36,36,36)",
            "showbackground": true,
            "showgrid": false,
            "showline": true,
            "ticks": "outside",
            "zeroline": false,
            "zerolinecolor": "rgb(36,36,36)"
           },
           "zaxis": {
            "backgroundcolor": "white",
            "gridcolor": "rgb(232,232,232)",
            "gridwidth": 2,
            "linecolor": "rgb(36,36,36)",
            "showbackground": true,
            "showgrid": false,
            "showline": true,
            "ticks": "outside",
            "zeroline": false,
            "zerolinecolor": "rgb(36,36,36)"
           }
          },
          "shapedefaults": {
           "fillcolor": "black",
           "line": {
            "width": 0
           },
           "opacity": 0.3
          },
          "ternary": {
           "aaxis": {
            "gridcolor": "rgb(232,232,232)",
            "linecolor": "rgb(36,36,36)",
            "showgrid": false,
            "showline": true,
            "ticks": "outside"
           },
           "baxis": {
            "gridcolor": "rgb(232,232,232)",
            "linecolor": "rgb(36,36,36)",
            "showgrid": false,
            "showline": true,
            "ticks": "outside"
           },
           "bgcolor": "white",
           "caxis": {
            "gridcolor": "rgb(232,232,232)",
            "linecolor": "rgb(36,36,36)",
            "showgrid": false,
            "showline": true,
            "ticks": "outside"
           }
          },
          "title": {
           "x": 0.05
          },
          "xaxis": {
           "automargin": true,
           "gridcolor": "rgb(232,232,232)",
           "linecolor": "rgb(36,36,36)",
           "showgrid": false,
           "showline": true,
           "ticks": "outside",
           "title": {
            "standoff": 15
           },
           "zeroline": false,
           "zerolinecolor": "rgb(36,36,36)"
          },
          "yaxis": {
           "automargin": true,
           "gridcolor": "rgb(232,232,232)",
           "linecolor": "rgb(36,36,36)",
           "showgrid": false,
           "showline": true,
           "ticks": "outside",
           "title": {
            "standoff": 15
           },
           "zeroline": false,
           "zerolinecolor": "rgb(36,36,36)"
          }
         }
        },
        "title": {
         "text": "other home-based tour mode choice by auto availability (driver, showing only households with at least one driver)"
        },
        "width": 1000,
        "xaxis": {
         "anchor": "y",
         "domain": [
          0.0,
          0.31999999999999995
         ],
         "tickformat": ".1%",
         "title": {
          "text": "percentage"
         }
        },
        "xaxis2": {
         "anchor": "y2",
         "domain": [
          0.33999999999999997,
          0.6599999999999999
         ],
         "matches": "x",
         "tickformat": ".1%",
         "title": {
          "text": "percentage"
         }
        },
        "xaxis3": {
         "anchor": "y3",
         "domain": [
          0.6799999999999999,
          0.9999999999999999
         ],
         "matches": "x",
         "tickformat": ".1%",
         "title": {
          "text": "percentage"
         }
        },
        "yaxis": {
         "anchor": "x",
         "categoryarray": [
          "9: other–survey only",
          "8: school bus",
          "7: park-and-ride",
          "6: walk to transit",
          "5: hov 3+",
          "4: hov 2",
          "3: sov",
          "2: bike",
          "1: walk"
         ],
         "categoryorder": "array",
         "domain": [
          0.0,
          1.0
         ],
         "title": {
          "text": "tmodetp_label"
         }
        },
        "yaxis2": {
         "anchor": "x2",
         "domain": [
          0.0,
          1.0
         ],
         "matches": "y",
         "showticklabels": false
        },
        "yaxis3": {
         "anchor": "x3",
         "domain": [
          0.0,
          1.0
         ],
         "matches": "y",
         "showticklabels": false
        }
       }
      },
      "text/html": [
       "<div>                            <div id=\"9d7ac96a-352c-419c-bc62-c8f1973e08b9\" class=\"plotly-graph-div\" style=\"height:500px; width:1000px;\"></div>            <script type=\"text/javascript\">                require([\"plotly\"], function(Plotly) {                    window.PLOTLYENV=window.PLOTLYENV || {};                                    if (document.getElementById(\"9d7ac96a-352c-419c-bc62-c8f1973e08b9\")) {                    Plotly.newPlot(                        \"9d7ac96a-352c-419c-bc62-c8f1973e08b9\",                        [{\"alignmentgroup\":\"True\",\"customdata\":[[78151],[6798],[5339],[4956],[66716],[3994]],\"hovertemplate\":\"source=model\\u003cbr\\u003eauto_available_driver=no car\\u003cbr\\u003epercentage=%{x}\\u003cbr\\u003etmodetp_label=%{y}\\u003cbr\\u003esample count=%{customdata[0]}\\u003cextra\\u003e\\u003c\\u002fextra\\u003e\",\"legendgroup\":\"model\",\"marker\":{\"color\":\"#91268F\",\"pattern\":{\"shape\":\"\"}},\"name\":\"model\",\"offsetgroup\":\"model\",\"orientation\":\"h\",\"showlegend\":true,\"textposition\":\"auto\",\"x\":[0.47091965243380696,0.0409631584655989,0.032171565614567896,0.029863697169095052,0.402015016209311,0.024066910107620184],\"xaxis\":\"x\",\"y\":[\"1: walk\",\"2: bike\",\"4: hov 2\",\"5: hov 3+\",\"6: walk to transit\",\"9: tnc\"],\"yaxis\":\"y\",\"type\":\"bar\"},{\"alignmentgroup\":\"True\",\"customdata\":[[99684],[10553],[170720],[189850],[301677],[23496],[2580]],\"hovertemplate\":\"source=model\\u003cbr\\u003eauto_available_driver=cars fewer than drivers\\u003cbr\\u003epercentage=%{x}\\u003cbr\\u003etmodetp_label=%{y}\\u003cbr\\u003esample count=%{customdata[0]}\\u003cextra\\u003e\\u003c\\u002fextra\\u003e\",\"legendgroup\":\"model\",\"marker\":{\"color\":\"#91268F\",\"pattern\":{\"shape\":\"\"}},\"name\":\"model\",\"offsetgroup\":\"model\",\"orientation\":\"h\",\"showlegend\":false,\"textposition\":\"auto\",\"x\":[0.12482969344820677,0.013215037066720095,0.21378481266279303,0.2377404327790022,0.37777624724504105,0.02942296133039471,0.003230815467842116],\"xaxis\":\"x2\",\"y\":[\"1: walk\",\"2: bike\",\"3: sov\",\"4: hov 2\",\"5: hov 3+\",\"6: walk to transit\",\"9: tnc\"],\"yaxis\":\"y2\",\"type\":\"bar\"},{\"alignmentgroup\":\"True\",\"customdata\":[[194536],[25760],[756886],[362289],[446905],[5225],[127]],\"hovertemplate\":\"source=model\\u003cbr\\u003eauto_available_driver=enough cars\\u003cbr\\u003epercentage=%{x}\\u003cbr\\u003etmodetp_label=%{y}\\u003cbr\\u003esample count=%{customdata[0]}\\u003cextra\\u003e\\u003c\\u002fextra\\u003e\",\"legendgroup\":\"model\",\"marker\":{\"color\":\"#91268F\",\"pattern\":{\"shape\":\"\"}},\"name\":\"model\",\"offsetgroup\":\"model\",\"orientation\":\"h\",\"showlegend\":false,\"textposition\":\"auto\",\"x\":[0.1085745157747158,0.014377182250877365,0.4224335390193154,0.2022008920996937,0.2494268103194235,0.0029161792414920122,7.088129448219819e-05],\"xaxis\":\"x3\",\"y\":[\"1: walk\",\"2: bike\",\"3: sov\",\"4: hov 2\",\"5: hov 3+\",\"6: walk to transit\",\"9: tnc\"],\"yaxis\":\"y3\",\"type\":\"bar\"},{\"alignmentgroup\":\"True\",\"customdata\":[[227],[29],[8],[15],[12],[128],[5],[10]],\"hovertemplate\":\"source=survey\\u003cbr\\u003eauto_available_driver=no car\\u003cbr\\u003epercentage=%{x}\\u003cbr\\u003etmodetp_label=%{y}\\u003cbr\\u003esample count=%{customdata[0]}\\u003cextra\\u003e\\u003c\\u002fextra\\u003e\",\"legendgroup\":\"survey\",\"marker\":{\"color\":\"#8CC63E\",\"pattern\":{\"shape\":\"\"}},\"name\":\"survey\",\"offsetgroup\":\"survey\",\"orientation\":\"h\",\"showlegend\":true,\"textposition\":\"auto\",\"x\":[0.36708089253694415,0.02793903230890399,0.0465595993563002,0.06135899013640234,0.005081612623839357,0.4597244903198269,0.003652323041165991,0.02860305967661701],\"xaxis\":\"x\",\"y\":[\"1: walk\",\"2: bike\",\"3: sov\",\"4: hov 2\",\"5: hov 3+\",\"6: walk to transit\",\"7: park-and-ride\",\"9: tnc\"],\"yaxis\":\"y\",\"type\":\"bar\"},{\"alignmentgroup\":\"True\",\"customdata\":[[256],[35],[225],[250],[192],[34],[9],[2],[2]],\"hovertemplate\":\"source=survey\\u003cbr\\u003eauto_available_driver=cars fewer than drivers\\u003cbr\\u003epercentage=%{x}\\u003cbr\\u003etmodetp_label=%{y}\\u003cbr\\u003esample count=%{customdata[0]}\\u003cextra\\u003e\\u003c\\u002fextra\\u003e\",\"legendgroup\":\"survey\",\"marker\":{\"color\":\"#8CC63E\",\"pattern\":{\"shape\":\"\"}},\"name\":\"survey\",\"offsetgroup\":\"survey\",\"orientation\":\"h\",\"showlegend\":false,\"textposition\":\"auto\",\"x\":[0.11503610082695445,0.013158373742413418,0.20084519452999552,0.14538041092271303,0.46987744726165165,0.027028602486876226,0.025088181238477822,4.8403943084283895e-05,0.003537285047833648],\"xaxis\":\"x2\",\"y\":[\"1: walk\",\"2: bike\",\"3: sov\",\"4: hov 2\",\"5: hov 3+\",\"6: walk to transit\",\"7: park-and-ride\",\"8: school bus\",\"9: tnc\"],\"yaxis\":\"y2\",\"type\":\"bar\"},{\"alignmentgroup\":\"True\",\"customdata\":[[423],[54],[1084],[546],[302],[38],[2],[7]],\"hovertemplate\":\"source=survey\\u003cbr\\u003eauto_available_driver=enough cars\\u003cbr\\u003epercentage=%{x}\\u003cbr\\u003etmodetp_label=%{y}\\u003cbr\\u003esample count=%{customdata[0]}\\u003cextra\\u003e\\u003c\\u002fextra\\u003e\",\"legendgroup\":\"survey\",\"marker\":{\"color\":\"#8CC63E\",\"pattern\":{\"shape\":\"\"}},\"name\":\"survey\",\"offsetgroup\":\"survey\",\"orientation\":\"h\",\"showlegend\":false,\"textposition\":\"auto\",\"x\":[0.1044919759472785,0.015282648795168392,0.4050610302765768,0.23260769862494196,0.23164296258874237,0.00998887984718479,0.00023737266289968105,0.0006874312572074046],\"xaxis\":\"x3\",\"y\":[\"1: walk\",\"2: bike\",\"3: sov\",\"4: hov 2\",\"5: hov 3+\",\"6: walk to transit\",\"7: park-and-ride\",\"9: tnc\"],\"yaxis\":\"y3\",\"type\":\"bar\"},{\"alignmentgroup\":\"True\",\"customdata\":[[247],[28],[10],[20],[13],[132],[5],[13]],\"hovertemplate\":\"source=survey (update)\\u003cbr\\u003eauto_available_driver=no car\\u003cbr\\u003epercentage=%{x}\\u003cbr\\u003etmodetp_label=%{y}\\u003cbr\\u003esample count=%{customdata[0]}\\u003cextra\\u003e\\u003c\\u002fextra\\u003e\",\"legendgroup\":\"survey (update)\",\"marker\":{\"color\":\"#00A7A0\",\"pattern\":{\"shape\":\"\"}},\"name\":\"survey (update)\",\"offsetgroup\":\"survey (update)\",\"orientation\":\"h\",\"showlegend\":true,\"textposition\":\"auto\",\"x\":[0.43135735168289563,0.027239778566919975,0.009292924582843245,0.09884452304372335,0.004706084620005185,0.3826856809314008,0.006253285514017608,0.03962037105819411],\"xaxis\":\"x\",\"y\":[\"1: walk\",\"2: bike\",\"3: sov\",\"4: hov 2\",\"5: hov 3+\",\"6: walk to transit\",\"7: park-and-ride\",\"9: tnc\"],\"yaxis\":\"y\",\"type\":\"bar\"},{\"alignmentgroup\":\"True\",\"customdata\":[[283],[35],[252],[279],[219],[36],[9],[4]],\"hovertemplate\":\"source=survey (update)\\u003cbr\\u003eauto_available_driver=cars fewer than drivers\\u003cbr\\u003epercentage=%{x}\\u003cbr\\u003etmodetp_label=%{y}\\u003cbr\\u003esample count=%{customdata[0]}\\u003cextra\\u003e\\u003c\\u002fextra\\u003e\",\"legendgroup\":\"survey (update)\",\"marker\":{\"color\":\"#00A7A0\",\"pattern\":{\"shape\":\"\"}},\"name\":\"survey (update)\",\"offsetgroup\":\"survey (update)\",\"orientation\":\"h\",\"showlegend\":false,\"textposition\":\"auto\",\"x\":[0.14945699664479603,0.024730732326939606,0.20149927815423815,0.33076137993971005,0.2107533845384948,0.06812264190248299,0.012472337382291096,0.0022032491110472647],\"xaxis\":\"x2\",\"y\":[\"1: walk\",\"2: bike\",\"3: sov\",\"4: hov 2\",\"5: hov 3+\",\"6: walk to transit\",\"7: park-and-ride\",\"9: tnc\"],\"yaxis\":\"y2\",\"type\":\"bar\"},{\"alignmentgroup\":\"True\",\"customdata\":[[434],[45],[1134],[574],[326],[38],[2],[7]],\"hovertemplate\":\"source=survey (update)\\u003cbr\\u003eauto_available_driver=enough cars\\u003cbr\\u003epercentage=%{x}\\u003cbr\\u003etmodetp_label=%{y}\\u003cbr\\u003esample count=%{customdata[0]}\\u003cextra\\u003e\\u003c\\u002fextra\\u003e\",\"legendgroup\":\"survey (update)\",\"marker\":{\"color\":\"#00A7A0\",\"pattern\":{\"shape\":\"\"}},\"name\":\"survey (update)\",\"offsetgroup\":\"survey (update)\",\"orientation\":\"h\",\"showlegend\":false,\"textposition\":\"auto\",\"x\":[0.10307756408998549,0.0052707808370389166,0.45133138872581596,0.2413913041693625,0.18084507093832197,0.016764461742779173,0.00021863922795233725,0.0011007902687436668],\"xaxis\":\"x3\",\"y\":[\"1: walk\",\"2: bike\",\"3: sov\",\"4: hov 2\",\"5: hov 3+\",\"6: walk to transit\",\"7: park-and-ride\",\"9: tnc\"],\"yaxis\":\"y3\",\"type\":\"bar\"}],                        {\"template\":{\"data\":{\"barpolar\":[{\"marker\":{\"line\":{\"color\":\"white\",\"width\":0.5},\"pattern\":{\"fillmode\":\"overlay\",\"size\":10,\"solidity\":0.2}},\"type\":\"barpolar\"}],\"bar\":[{\"error_x\":{\"color\":\"rgb(36,36,36)\"},\"error_y\":{\"color\":\"rgb(36,36,36)\"},\"marker\":{\"line\":{\"color\":\"white\",\"width\":0.5},\"pattern\":{\"fillmode\":\"overlay\",\"size\":10,\"solidity\":0.2}},\"type\":\"bar\"}],\"carpet\":[{\"aaxis\":{\"endlinecolor\":\"rgb(36,36,36)\",\"gridcolor\":\"white\",\"linecolor\":\"white\",\"minorgridcolor\":\"white\",\"startlinecolor\":\"rgb(36,36,36)\"},\"baxis\":{\"endlinecolor\":\"rgb(36,36,36)\",\"gridcolor\":\"white\",\"linecolor\":\"white\",\"minorgridcolor\":\"white\",\"startlinecolor\":\"rgb(36,36,36)\"},\"type\":\"carpet\"}],\"choropleth\":[{\"colorbar\":{\"outlinewidth\":1,\"tickcolor\":\"rgb(36,36,36)\",\"ticks\":\"outside\"},\"type\":\"choropleth\"}],\"contourcarpet\":[{\"colorbar\":{\"outlinewidth\":1,\"tickcolor\":\"rgb(36,36,36)\",\"ticks\":\"outside\"},\"type\":\"contourcarpet\"}],\"contour\":[{\"colorbar\":{\"outlinewidth\":1,\"tickcolor\":\"rgb(36,36,36)\",\"ticks\":\"outside\"},\"colorscale\":[[0.0,\"#440154\"],[0.1111111111111111,\"#482878\"],[0.2222222222222222,\"#3e4989\"],[0.3333333333333333,\"#31688e\"],[0.4444444444444444,\"#26828e\"],[0.5555555555555556,\"#1f9e89\"],[0.6666666666666666,\"#35b779\"],[0.7777777777777778,\"#6ece58\"],[0.8888888888888888,\"#b5de2b\"],[1.0,\"#fde725\"]],\"type\":\"contour\"}],\"heatmapgl\":[{\"colorbar\":{\"outlinewidth\":1,\"tickcolor\":\"rgb(36,36,36)\",\"ticks\":\"outside\"},\"colorscale\":[[0.0,\"#440154\"],[0.1111111111111111,\"#482878\"],[0.2222222222222222,\"#3e4989\"],[0.3333333333333333,\"#31688e\"],[0.4444444444444444,\"#26828e\"],[0.5555555555555556,\"#1f9e89\"],[0.6666666666666666,\"#35b779\"],[0.7777777777777778,\"#6ece58\"],[0.8888888888888888,\"#b5de2b\"],[1.0,\"#fde725\"]],\"type\":\"heatmapgl\"}],\"heatmap\":[{\"colorbar\":{\"outlinewidth\":1,\"tickcolor\":\"rgb(36,36,36)\",\"ticks\":\"outside\"},\"colorscale\":[[0.0,\"#440154\"],[0.1111111111111111,\"#482878\"],[0.2222222222222222,\"#3e4989\"],[0.3333333333333333,\"#31688e\"],[0.4444444444444444,\"#26828e\"],[0.5555555555555556,\"#1f9e89\"],[0.6666666666666666,\"#35b779\"],[0.7777777777777778,\"#6ece58\"],[0.8888888888888888,\"#b5de2b\"],[1.0,\"#fde725\"]],\"type\":\"heatmap\"}],\"histogram2dcontour\":[{\"colorbar\":{\"outlinewidth\":1,\"tickcolor\":\"rgb(36,36,36)\",\"ticks\":\"outside\"},\"colorscale\":[[0.0,\"#440154\"],[0.1111111111111111,\"#482878\"],[0.2222222222222222,\"#3e4989\"],[0.3333333333333333,\"#31688e\"],[0.4444444444444444,\"#26828e\"],[0.5555555555555556,\"#1f9e89\"],[0.6666666666666666,\"#35b779\"],[0.7777777777777778,\"#6ece58\"],[0.8888888888888888,\"#b5de2b\"],[1.0,\"#fde725\"]],\"type\":\"histogram2dcontour\"}],\"histogram2d\":[{\"colorbar\":{\"outlinewidth\":1,\"tickcolor\":\"rgb(36,36,36)\",\"ticks\":\"outside\"},\"colorscale\":[[0.0,\"#440154\"],[0.1111111111111111,\"#482878\"],[0.2222222222222222,\"#3e4989\"],[0.3333333333333333,\"#31688e\"],[0.4444444444444444,\"#26828e\"],[0.5555555555555556,\"#1f9e89\"],[0.6666666666666666,\"#35b779\"],[0.7777777777777778,\"#6ece58\"],[0.8888888888888888,\"#b5de2b\"],[1.0,\"#fde725\"]],\"type\":\"histogram2d\"}],\"histogram\":[{\"marker\":{\"line\":{\"color\":\"white\",\"width\":0.6}},\"type\":\"histogram\"}],\"mesh3d\":[{\"colorbar\":{\"outlinewidth\":1,\"tickcolor\":\"rgb(36,36,36)\",\"ticks\":\"outside\"},\"type\":\"mesh3d\"}],\"parcoords\":[{\"line\":{\"colorbar\":{\"outlinewidth\":1,\"tickcolor\":\"rgb(36,36,36)\",\"ticks\":\"outside\"}},\"type\":\"parcoords\"}],\"pie\":[{\"automargin\":true,\"type\":\"pie\"}],\"scatter3d\":[{\"line\":{\"colorbar\":{\"outlinewidth\":1,\"tickcolor\":\"rgb(36,36,36)\",\"ticks\":\"outside\"}},\"marker\":{\"colorbar\":{\"outlinewidth\":1,\"tickcolor\":\"rgb(36,36,36)\",\"ticks\":\"outside\"}},\"type\":\"scatter3d\"}],\"scattercarpet\":[{\"marker\":{\"colorbar\":{\"outlinewidth\":1,\"tickcolor\":\"rgb(36,36,36)\",\"ticks\":\"outside\"}},\"type\":\"scattercarpet\"}],\"scattergeo\":[{\"marker\":{\"colorbar\":{\"outlinewidth\":1,\"tickcolor\":\"rgb(36,36,36)\",\"ticks\":\"outside\"}},\"type\":\"scattergeo\"}],\"scattergl\":[{\"marker\":{\"colorbar\":{\"outlinewidth\":1,\"tickcolor\":\"rgb(36,36,36)\",\"ticks\":\"outside\"}},\"type\":\"scattergl\"}],\"scattermapbox\":[{\"marker\":{\"colorbar\":{\"outlinewidth\":1,\"tickcolor\":\"rgb(36,36,36)\",\"ticks\":\"outside\"}},\"type\":\"scattermapbox\"}],\"scatterpolargl\":[{\"marker\":{\"colorbar\":{\"outlinewidth\":1,\"tickcolor\":\"rgb(36,36,36)\",\"ticks\":\"outside\"}},\"type\":\"scatterpolargl\"}],\"scatterpolar\":[{\"marker\":{\"colorbar\":{\"outlinewidth\":1,\"tickcolor\":\"rgb(36,36,36)\",\"ticks\":\"outside\"}},\"type\":\"scatterpolar\"}],\"scatter\":[{\"fillpattern\":{\"fillmode\":\"overlay\",\"size\":10,\"solidity\":0.2},\"type\":\"scatter\"}],\"scatterternary\":[{\"marker\":{\"colorbar\":{\"outlinewidth\":1,\"tickcolor\":\"rgb(36,36,36)\",\"ticks\":\"outside\"}},\"type\":\"scatterternary\"}],\"surface\":[{\"colorbar\":{\"outlinewidth\":1,\"tickcolor\":\"rgb(36,36,36)\",\"ticks\":\"outside\"},\"colorscale\":[[0.0,\"#440154\"],[0.1111111111111111,\"#482878\"],[0.2222222222222222,\"#3e4989\"],[0.3333333333333333,\"#31688e\"],[0.4444444444444444,\"#26828e\"],[0.5555555555555556,\"#1f9e89\"],[0.6666666666666666,\"#35b779\"],[0.7777777777777778,\"#6ece58\"],[0.8888888888888888,\"#b5de2b\"],[1.0,\"#fde725\"]],\"type\":\"surface\"}],\"table\":[{\"cells\":{\"fill\":{\"color\":\"rgb(237,237,237)\"},\"line\":{\"color\":\"white\"}},\"header\":{\"fill\":{\"color\":\"rgb(217,217,217)\"},\"line\":{\"color\":\"white\"}},\"type\":\"table\"}]},\"layout\":{\"annotationdefaults\":{\"arrowhead\":0,\"arrowwidth\":1},\"autotypenumbers\":\"strict\",\"coloraxis\":{\"colorbar\":{\"outlinewidth\":1,\"tickcolor\":\"rgb(36,36,36)\",\"ticks\":\"outside\"}},\"colorscale\":{\"diverging\":[[0.0,\"rgb(103,0,31)\"],[0.1,\"rgb(178,24,43)\"],[0.2,\"rgb(214,96,77)\"],[0.3,\"rgb(244,165,130)\"],[0.4,\"rgb(253,219,199)\"],[0.5,\"rgb(247,247,247)\"],[0.6,\"rgb(209,229,240)\"],[0.7,\"rgb(146,197,222)\"],[0.8,\"rgb(67,147,195)\"],[0.9,\"rgb(33,102,172)\"],[1.0,\"rgb(5,48,97)\"]],\"sequential\":[[0.0,\"#440154\"],[0.1111111111111111,\"#482878\"],[0.2222222222222222,\"#3e4989\"],[0.3333333333333333,\"#31688e\"],[0.4444444444444444,\"#26828e\"],[0.5555555555555556,\"#1f9e89\"],[0.6666666666666666,\"#35b779\"],[0.7777777777777778,\"#6ece58\"],[0.8888888888888888,\"#b5de2b\"],[1.0,\"#fde725\"]],\"sequentialminus\":[[0.0,\"#440154\"],[0.1111111111111111,\"#482878\"],[0.2222222222222222,\"#3e4989\"],[0.3333333333333333,\"#31688e\"],[0.4444444444444444,\"#26828e\"],[0.5555555555555556,\"#1f9e89\"],[0.6666666666666666,\"#35b779\"],[0.7777777777777778,\"#6ece58\"],[0.8888888888888888,\"#b5de2b\"],[1.0,\"#fde725\"]]},\"colorway\":[\"#91268F\",\"#8CC63E\",\"#00A7A0\",\"#F05A28\",\"#4C4C4C\",\"#630460\",\"#9f3913\",\"#588527\",\"#00716c\",\"#3e4040\"],\"font\":{\"color\":\"rgb(36,36,36)\",\"family\":\"Poppins\",\"size\":11},\"geo\":{\"bgcolor\":\"white\",\"lakecolor\":\"white\",\"landcolor\":\"white\",\"showlakes\":true,\"showland\":true,\"subunitcolor\":\"white\"},\"hoverlabel\":{\"align\":\"left\"},\"hovermode\":\"closest\",\"mapbox\":{\"style\":\"light\"},\"paper_bgcolor\":\"white\",\"plot_bgcolor\":\"white\",\"polar\":{\"angularaxis\":{\"gridcolor\":\"rgb(232,232,232)\",\"linecolor\":\"rgb(36,36,36)\",\"showgrid\":false,\"showline\":true,\"ticks\":\"outside\"},\"bgcolor\":\"white\",\"radialaxis\":{\"gridcolor\":\"rgb(232,232,232)\",\"linecolor\":\"rgb(36,36,36)\",\"showgrid\":false,\"showline\":true,\"ticks\":\"outside\"}},\"scene\":{\"xaxis\":{\"backgroundcolor\":\"white\",\"gridcolor\":\"rgb(232,232,232)\",\"gridwidth\":2,\"linecolor\":\"rgb(36,36,36)\",\"showbackground\":true,\"showgrid\":false,\"showline\":true,\"ticks\":\"outside\",\"zeroline\":false,\"zerolinecolor\":\"rgb(36,36,36)\"},\"yaxis\":{\"backgroundcolor\":\"white\",\"gridcolor\":\"rgb(232,232,232)\",\"gridwidth\":2,\"linecolor\":\"rgb(36,36,36)\",\"showbackground\":true,\"showgrid\":false,\"showline\":true,\"ticks\":\"outside\",\"zeroline\":false,\"zerolinecolor\":\"rgb(36,36,36)\"},\"zaxis\":{\"backgroundcolor\":\"white\",\"gridcolor\":\"rgb(232,232,232)\",\"gridwidth\":2,\"linecolor\":\"rgb(36,36,36)\",\"showbackground\":true,\"showgrid\":false,\"showline\":true,\"ticks\":\"outside\",\"zeroline\":false,\"zerolinecolor\":\"rgb(36,36,36)\"}},\"shapedefaults\":{\"fillcolor\":\"black\",\"line\":{\"width\":0},\"opacity\":0.3},\"ternary\":{\"aaxis\":{\"gridcolor\":\"rgb(232,232,232)\",\"linecolor\":\"rgb(36,36,36)\",\"showgrid\":false,\"showline\":true,\"ticks\":\"outside\"},\"baxis\":{\"gridcolor\":\"rgb(232,232,232)\",\"linecolor\":\"rgb(36,36,36)\",\"showgrid\":false,\"showline\":true,\"ticks\":\"outside\"},\"bgcolor\":\"white\",\"caxis\":{\"gridcolor\":\"rgb(232,232,232)\",\"linecolor\":\"rgb(36,36,36)\",\"showgrid\":false,\"showline\":true,\"ticks\":\"outside\"}},\"title\":{\"x\":0.05},\"xaxis\":{\"automargin\":true,\"gridcolor\":\"rgb(232,232,232)\",\"linecolor\":\"rgb(36,36,36)\",\"showgrid\":false,\"showline\":true,\"ticks\":\"outside\",\"title\":{\"standoff\":15},\"zeroline\":false,\"zerolinecolor\":\"rgb(36,36,36)\"},\"yaxis\":{\"automargin\":true,\"gridcolor\":\"rgb(232,232,232)\",\"linecolor\":\"rgb(36,36,36)\",\"showgrid\":false,\"showline\":true,\"ticks\":\"outside\",\"title\":{\"standoff\":15},\"zeroline\":false,\"zerolinecolor\":\"rgb(36,36,36)\"}}},\"xaxis\":{\"anchor\":\"y\",\"domain\":[0.0,0.31999999999999995],\"title\":{\"text\":\"percentage\"},\"tickformat\":\".1%\"},\"yaxis\":{\"anchor\":\"x\",\"domain\":[0.0,1.0],\"title\":{\"text\":\"tmodetp_label\"},\"categoryorder\":\"array\",\"categoryarray\":[\"9: other\\u00e2\\u20ac\\u201csurvey only\",\"8: school bus\",\"7: park-and-ride\",\"6: walk to transit\",\"5: hov 3+\",\"4: hov 2\",\"3: sov\",\"2: bike\",\"1: walk\"]},\"xaxis2\":{\"anchor\":\"y2\",\"domain\":[0.33999999999999997,0.6599999999999999],\"matches\":\"x\",\"title\":{\"text\":\"percentage\"},\"tickformat\":\".1%\"},\"yaxis2\":{\"anchor\":\"x2\",\"domain\":[0.0,1.0],\"matches\":\"y\",\"showticklabels\":false},\"xaxis3\":{\"anchor\":\"y3\",\"domain\":[0.6799999999999999,0.9999999999999999],\"matches\":\"x\",\"title\":{\"text\":\"percentage\"},\"tickformat\":\".1%\"},\"yaxis3\":{\"anchor\":\"x3\",\"domain\":[0.0,1.0],\"matches\":\"y\",\"showticklabels\":false},\"annotations\":[{\"font\":{},\"showarrow\":false,\"text\":\"no car\",\"x\":0.15999999999999998,\"xanchor\":\"center\",\"xref\":\"paper\",\"y\":1.0,\"yanchor\":\"bottom\",\"yref\":\"paper\"},{\"font\":{},\"showarrow\":false,\"text\":\"cars fewer than drivers\",\"x\":0.49999999999999994,\"xanchor\":\"center\",\"xref\":\"paper\",\"y\":1.0,\"yanchor\":\"bottom\",\"yref\":\"paper\"},{\"font\":{},\"showarrow\":false,\"text\":\"enough cars\",\"x\":0.8399999999999999,\"xanchor\":\"center\",\"xref\":\"paper\",\"y\":1.0,\"yanchor\":\"bottom\",\"yref\":\"paper\"}],\"legend\":{\"title\":{\"text\":\"source\"},\"tracegroupgap\":0},\"title\":{\"text\":\"other home-based tour mode choice by auto availability (driver, showing only households with at least one driver)\"},\"barmode\":\"group\",\"height\":500,\"width\":1000},                        {\"responsive\": true}                    ).then(function(){\n",
       "                            \n",
       "var gd = document.getElementById('9d7ac96a-352c-419c-bc62-c8f1973e08b9');\n",
       "var x = new MutationObserver(function (mutations, observer) {{\n",
       "        var display = window.getComputedStyle(gd).display;\n",
       "        if (!display || display === 'none') {{\n",
       "            console.log([gd, 'removed!']);\n",
       "            Plotly.purge(gd);\n",
       "            observer.disconnect();\n",
       "        }}\n",
       "}});\n",
       "\n",
       "// Listen for the removal of the full notebook cells\n",
       "var notebookContainer = gd.closest('#notebook-container');\n",
       "if (notebookContainer) {{\n",
       "    x.observe(notebookContainer, {childList: true});\n",
       "}}\n",
       "\n",
       "// Listen for the clearing of the current output cell\n",
       "var outputEl = gd.closest('.output');\n",
       "if (outputEl) {{\n",
       "    x.observe(outputEl, {childList: true});\n",
       "}}\n",
       "\n",
       "                        })                };                });            </script>        </div>"
      ]
     },
     "metadata": {},
     "output_type": "display_data"
    }
   ],
   "source": [
    "plot_mode_choice(hb_tour.loc[hb_tour['auto_available_driver'] != \"no dirver\"], \"auto_available_driver\",\n",
    "                 {\"auto_available_driver\": [\"no car\", \"cars fewer than drivers\", \"enough cars\"],\n",
    "                  \"tmodetp_label\": [\"1: walk\", \"2: bike\", \"3: sov\", \"4: hov 2\", \"5: hov 3+\", \"6: walk to transit\",\n",
    "                                    \"7: park-and-ride\", \"8: school bus\", \"9: other–survey only\"]},\n",
    "                 \"auto availability (driver, showing only households with at least one driver)\", 3, 500, 1000)"
   ]
  },
  {
   "cell_type": "raw",
   "metadata": {},
   "source": [
    ":::"
   ]
  }
 ],
 "metadata": {
  "kernelspec": {
   "display_name": "Python 3",
   "language": "python",
   "name": "python3"
  },
  "language_info": {
   "codemirror_mode": {
    "name": "ipython",
    "version": 3
   },
   "file_extension": ".py",
   "mimetype": "text/x-python",
   "name": "python",
   "nbconvert_exporter": "python",
   "pygments_lexer": "ipython3",
   "version": "3.10.15"
  }
 },
 "nbformat": 4,
 "nbformat_minor": 2
}
