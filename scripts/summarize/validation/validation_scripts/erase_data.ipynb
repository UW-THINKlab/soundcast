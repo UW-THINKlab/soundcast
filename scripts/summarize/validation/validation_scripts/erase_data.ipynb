{
 "cells": [
  {
   "cell_type": "code",
   "execution_count": 1,
   "metadata": {
    "ExecuteTime": {
     "end_time": "2024-10-14T22:28:31.377548Z",
     "start_time": "2024-10-14T22:26:33.246343Z"
    },
    "execution": {
     "iopub.execute_input": "2025-01-27T23:43:28.343725Z",
     "iopub.status.busy": "2025-01-27T23:43:28.341799Z",
     "iopub.status.idle": "2025-01-27T23:43:29.464573Z",
     "shell.execute_reply": "2025-01-27T23:43:29.462580Z"
    }
   },
   "outputs": [],
   "source": [
    "%store -z"
   ]
  }
 ],
 "metadata": {
  "kernelspec": {
   "display_name": "build_notebook",
   "language": "python",
   "name": "python3"
  },
  "language_info": {
   "codemirror_mode": {
    "name": "ipython",
    "version": 3
   },
   "file_extension": ".py",
   "mimetype": "text/x-python",
   "name": "python",
   "nbconvert_exporter": "python",
   "pygments_lexer": "ipython3",
   "version": "3.10.15"
  }
 },
 "nbformat": 4,
 "nbformat_minor": 2
}
