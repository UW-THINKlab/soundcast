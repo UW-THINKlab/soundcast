{
 "cells": [
  {
   "cell_type": "raw",
   "metadata": {},
   "source": [
    "---\n",
    "title: \"School Trip Mode\"\n",
    "date: today\n",
    "---"
   ]
  },
  {
   "cell_type": "code",
   "execution_count": 1,
   "metadata": {
    "ExecuteTime": {
     "end_time": "2024-08-30T20:52:54.129317Z",
     "start_time": "2024-08-30T20:52:53.410669Z"
    },
    "execution": {
     "iopub.execute_input": "2025-01-21T07:12:07.325244Z",
     "iopub.status.busy": "2025-01-21T07:12:07.323586Z",
     "iopub.status.idle": "2025-01-21T07:12:10.678206Z",
     "shell.execute_reply": "2025-01-21T07:12:10.676548Z"
    }
   },
   "outputs": [],
   "source": [
    "import os\n",
    "import pandas as pd\n",
    "import numpy as np\n",
    "import validation_data_input\n",
    "import plotly.express as px\n",
    "import toml\n",
    "import polars as pl\n",
    "from pathlib import Path\n",
    "import util\n",
    "import psrc_theme\n",
    "\n",
    "# to show plotly figures in quarto HTML file\n",
    "import plotly.io as pio\n",
    "pio.renderers.default = \"plotly_mimetype+notebook_connected\"\n",
    "pio.templates.default = \"simple_white+psrc_color\" # set plotly template"
   ]
  },
  {
   "cell_type": "code",
   "execution_count": 2,
   "metadata": {
    "execution": {
     "iopub.execute_input": "2025-01-21T07:12:10.688788Z",
     "iopub.status.busy": "2025-01-21T07:12:10.688182Z",
     "iopub.status.idle": "2025-01-21T07:12:25.912423Z",
     "shell.execute_reply": "2025-01-21T07:12:25.911418Z"
    }
   },
   "outputs": [],
   "source": [
    "# %store -r validation_data\n",
    "\n",
    "# config = validation_data.config.copy()\n",
    "# trip = validation_data.trip.copy()\n",
    "# hh = validation_data.hh.copy()\n",
    "# person = validation_data.person.copy()\n",
    "# df_parcel = validation_data.land_use.copy()\n",
    "\n",
    "config = toml.load(Path(Path.cwd(), '..\\..\\..\\..\\configuration', 'validation_configuration.toml'))\n",
    "input_config = toml.load(Path(Path.cwd(), '..\\..\\..\\..\\configuration', 'input_configuration.toml'))\n",
    "\n",
    "data = util.ValidationData(config,input_config,['hh', 'person', 'trip', 'land_use'])\n",
    "\n",
    "hh = data.hh.to_pandas()\n",
    "person = data.person.to_pandas()\n",
    "trip = data.trip.to_pandas()\n",
    "df_parcel = data.land_use.to_pandas()"
   ]
  },
  {
   "cell_type": "code",
   "execution_count": 3,
   "metadata": {
    "ExecuteTime": {
     "end_time": "2024-08-30T20:59:17.285388Z",
     "start_time": "2024-08-30T20:58:47.817189Z"
    },
    "execution": {
     "iopub.execute_input": "2025-01-21T07:12:25.920052Z",
     "iopub.status.busy": "2025-01-21T07:12:25.918058Z",
     "iopub.status.idle": "2025-01-21T07:12:37.599130Z",
     "shell.execute_reply": "2025-01-21T07:12:37.597127Z"
    }
   },
   "outputs": [],
   "source": [
    "df_trip = trip.copy()\n",
    "df_hh = hh.copy()\n",
    "df_person = person.copy()\n",
    "\n",
    "# auto_ownership with 4+\n",
    "df_hh['auto_ownership_4+'] = df_hh['hhvehs'].apply(lambda x: \"4+\" if x>=4.0 else str(x))\n",
    "# hhsize with 4+\n",
    "df_hh['hhsize_4+'] = df_hh['hhsize'].apply(lambda x: \"4+\" if x>=4.0 else str(x))\n",
    "# Add column for (potential) drivers adults (all hh members 16 and above)\n",
    "df_hh['drivers'] = df_hh['hhsize']-df_hh['hh515']-df_hh['hhcu5']#-df_hh['hhhsc']\n",
    "# auto availability\n",
    "df_hh['auto_count_driver'] = df_hh['hhvehs']-df_hh['drivers']\n",
    "df_hh['auto_available_driver'] = np.where(df_hh['drivers']<=0, \"no driver\",\n",
    "                                          np.where(df_hh['hhvehs']<=0, \"no car\",\n",
    "                                                   np.where(df_hh['auto_count_driver']<0, \"cars fewer than drivers\", \"enough cars\")))\n",
    "\n",
    "# add person type labels\n",
    "ptype_cat = {1: \"full time worker\",\n",
    "             2: \"part time worker\",\n",
    "             3: \"non-worker age 65+\",\n",
    "             4: \"other non-working adult\",\n",
    "             5: \"university student\",\n",
    "             6: \"grade school student/child age 16+\",\n",
    "             7: \"child age 5-15\",\n",
    "             8: \"child age 0-4\"}\n",
    "df_person['pptyp_label'] = df_person['pptyp'].map(ptype_cat)\n",
    "\n",
    "mode_cat = {1: \"1: walk\",\n",
    "            2: \"2: bike\",\n",
    "            3: \"3: sov\",\n",
    "            4: \"4: hov 2\",\n",
    "            5: \"5: hov 3+\",\n",
    "            6: \"6: transit\",\n",
    "            8: \"8: school bus\",\n",
    "            9: \"9: tnc\"}\n",
    "df_trip['mode_label'] = df_trip['mode'].map(mode_cat)\n",
    "\n",
    "df_hh = df_hh.merge(df_parcel,how=\"left\",left_on='hhno',right_on='parcelid')\n",
    "df_person = df_person.merge(df_hh,\n",
    "                          how='left', on=['hhno','source']) # get auto ownership from hh data\n",
    "\n",
    "df_trip = df_trip.merge(df_person[['pno','hhno','source','auto_available_driver','auto_ownership_4+','hhsize_4+','pptyp_label']], how='left', on=['pno','hhno','source'])"
   ]
  },
  {
   "cell_type": "code",
   "execution_count": 4,
   "metadata": {
    "ExecuteTime": {
     "end_time": "2024-08-30T20:59:21.457265Z",
     "start_time": "2024-08-30T20:59:17.285388Z"
    },
    "execution": {
     "iopub.execute_input": "2025-01-21T07:12:37.611096Z",
     "iopub.status.busy": "2025-01-21T07:12:37.610099Z",
     "iopub.status.idle": "2025-01-21T07:12:38.712576Z",
     "shell.execute_reply": "2025-01-21T07:12:38.710572Z"
    }
   },
   "outputs": [],
   "source": [
    "sc_trip = df_trip.loc[(df_trip['dpurp']==2)].copy()"
   ]
  },
  {
   "cell_type": "code",
   "execution_count": 5,
   "metadata": {
    "execution": {
     "iopub.execute_input": "2025-01-21T07:12:38.724542Z",
     "iopub.status.busy": "2025-01-21T07:12:38.723612Z",
     "iopub.status.idle": "2025-01-21T07:12:39.370377Z",
     "shell.execute_reply": "2025-01-21T07:12:39.368311Z"
    }
   },
   "outputs": [
    {
     "data": {
      "text/html": [
       "        <script type=\"text/javascript\">\n",
       "        window.PlotlyConfig = {MathJaxConfig: 'local'};\n",
       "        if (window.MathJax && window.MathJax.Hub && window.MathJax.Hub.Config) {window.MathJax.Hub.Config({SVG: {font: \"STIX-Web\"}});}\n",
       "        if (typeof require !== 'undefined') {\n",
       "        require.undef(\"plotly\");\n",
       "        requirejs.config({\n",
       "            paths: {\n",
       "                'plotly': ['https://cdn.plot.ly/plotly-2.27.0.min']\n",
       "            }\n",
       "        });\n",
       "        require(['plotly'], function(Plotly) {\n",
       "            window._Plotly = Plotly;\n",
       "        });\n",
       "        }\n",
       "        </script>\n",
       "        "
      ]
     },
     "metadata": {},
     "output_type": "display_data"
    },
    {
     "data": {
      "application/vnd.plotly.v1+json": {
       "config": {
        "plotlyServerURL": "https://plot.ly"
       },
       "data": [
        {
         "alignmentgroup": "True",
         "customdata": [
          [
           64424
          ],
          [
           14913
          ],
          [
           63841
          ],
          [
           134249
          ],
          [
           172784
          ],
          [
           20475
          ],
          [
           105214
          ],
          [
           8
          ]
         ],
         "hovertemplate": "source=model<br>mode_label=%{x}<br>percentage=%{y}<br>sample count=%{customdata[0]}<extra></extra>",
         "legendgroup": "model",
         "marker": {
          "color": "#91268F",
          "pattern": {
           "shape": ""
          }
         },
         "name": "model",
         "offsetgroup": "model",
         "orientation": "v",
         "showlegend": true,
         "textposition": "auto",
         "type": "bar",
         "x": [
          "1: walk",
          "2: bike",
          "3: sov",
          "4: hov 2",
          "5: hov 3+",
          "6: transit",
          "8: school bus",
          "9: tnc"
         ],
         "xaxis": "x",
         "y": [
          0.1118650895629163,
          0.025894760968765845,
          0.11085277509602229,
          0.23310841314932246,
          0.30002014210603084,
          0.03555255353285594,
          0.18269237447647887,
          0.000013891107607465081
         ],
         "yaxis": "y"
        },
        {
         "alignmentgroup": "True",
         "customdata": [
          [
           5
          ],
          [
           138
          ],
          [
           47
          ],
          [
           168
          ],
          [
           156
          ],
          [
           56
          ],
          [
           24
          ],
          [
           118
          ]
         ],
         "hovertemplate": "source=survey<br>mode_label=%{x}<br>percentage=%{y}<br>sample count=%{customdata[0]}<extra></extra>",
         "legendgroup": "survey",
         "marker": {
          "color": "#8CC63E",
          "pattern": {
           "shape": ""
          }
         },
         "name": "survey",
         "offsetgroup": "survey",
         "orientation": "v",
         "showlegend": true,
         "textposition": "auto",
         "type": "bar",
         "x": [
          "9: tnc",
          "8: school bus",
          "6: transit",
          "5: hov 3+",
          "4: hov 2",
          "3: sov",
          "2: bike",
          "1: walk"
         ],
         "xaxis": "x",
         "y": [
          0.004719844723208219,
          0.18875237018523838,
          0.033409229059823554,
          0.3421146835893875,
          0.20781660339512678,
          0.12130521889405765,
          0.0220366253553132,
          0.07984542479784483
         ],
         "yaxis": "y"
        },
        {
         "alignmentgroup": "True",
         "customdata": [
          [
           381
          ],
          [
           50
          ],
          [
           178
          ],
          [
           425
          ],
          [
           412
          ],
          [
           279
          ],
          [
           227
          ],
          [
           17
          ]
         ],
         "hovertemplate": "source=survey (2017/2019)<br>mode_label=%{x}<br>percentage=%{y}<br>sample count=%{customdata[0]}<extra></extra>",
         "legendgroup": "survey (2017/2019)",
         "marker": {
          "color": "#00A7A0",
          "pattern": {
           "shape": ""
          }
         },
         "name": "survey (2017/2019)",
         "offsetgroup": "survey (2017/2019)",
         "orientation": "v",
         "showlegend": true,
         "textposition": "auto",
         "type": "bar",
         "x": [
          "1: walk",
          "2: bike",
          "3: sov",
          "4: hov 2",
          "5: hov 3+",
          "6: transit",
          "8: school bus",
          "9: tnc"
         ],
         "xaxis": "x",
         "y": [
          0.08877944957669613,
          0.005987178890975527,
          0.12943678448184795,
          0.17064236592642046,
          0.35781174325426596,
          0.08396440886634307,
          0.16176847731417338,
          0.0016095916892774039
         ],
         "yaxis": "y"
        }
       ],
       "layout": {
        "barmode": "group",
        "font": {
         "size": 11
        },
        "height": 400,
        "legend": {
         "title": {
          "text": "source"
         },
         "tracegroupgap": 0
        },
        "template": {
         "data": {
          "bar": [
           {
            "error_x": {
             "color": "rgb(36,36,36)"
            },
            "error_y": {
             "color": "rgb(36,36,36)"
            },
            "marker": {
             "line": {
              "color": "white",
              "width": 0.5
             },
             "pattern": {
              "fillmode": "overlay",
              "size": 10,
              "solidity": 0.2
             }
            },
            "type": "bar"
           }
          ],
          "barpolar": [
           {
            "marker": {
             "line": {
              "color": "white",
              "width": 0.5
             },
             "pattern": {
              "fillmode": "overlay",
              "size": 10,
              "solidity": 0.2
             }
            },
            "type": "barpolar"
           }
          ],
          "carpet": [
           {
            "aaxis": {
             "endlinecolor": "rgb(36,36,36)",
             "gridcolor": "white",
             "linecolor": "white",
             "minorgridcolor": "white",
             "startlinecolor": "rgb(36,36,36)"
            },
            "baxis": {
             "endlinecolor": "rgb(36,36,36)",
             "gridcolor": "white",
             "linecolor": "white",
             "minorgridcolor": "white",
             "startlinecolor": "rgb(36,36,36)"
            },
            "type": "carpet"
           }
          ],
          "choropleth": [
           {
            "colorbar": {
             "outlinewidth": 1,
             "tickcolor": "rgb(36,36,36)",
             "ticks": "outside"
            },
            "type": "choropleth"
           }
          ],
          "contour": [
           {
            "colorbar": {
             "outlinewidth": 1,
             "tickcolor": "rgb(36,36,36)",
             "ticks": "outside"
            },
            "colorscale": [
             [
              0,
              "#440154"
             ],
             [
              0.1111111111111111,
              "#482878"
             ],
             [
              0.2222222222222222,
              "#3e4989"
             ],
             [
              0.3333333333333333,
              "#31688e"
             ],
             [
              0.4444444444444444,
              "#26828e"
             ],
             [
              0.5555555555555556,
              "#1f9e89"
             ],
             [
              0.6666666666666666,
              "#35b779"
             ],
             [
              0.7777777777777778,
              "#6ece58"
             ],
             [
              0.8888888888888888,
              "#b5de2b"
             ],
             [
              1,
              "#fde725"
             ]
            ],
            "type": "contour"
           }
          ],
          "contourcarpet": [
           {
            "colorbar": {
             "outlinewidth": 1,
             "tickcolor": "rgb(36,36,36)",
             "ticks": "outside"
            },
            "type": "contourcarpet"
           }
          ],
          "heatmap": [
           {
            "colorbar": {
             "outlinewidth": 1,
             "tickcolor": "rgb(36,36,36)",
             "ticks": "outside"
            },
            "colorscale": [
             [
              0,
              "#440154"
             ],
             [
              0.1111111111111111,
              "#482878"
             ],
             [
              0.2222222222222222,
              "#3e4989"
             ],
             [
              0.3333333333333333,
              "#31688e"
             ],
             [
              0.4444444444444444,
              "#26828e"
             ],
             [
              0.5555555555555556,
              "#1f9e89"
             ],
             [
              0.6666666666666666,
              "#35b779"
             ],
             [
              0.7777777777777778,
              "#6ece58"
             ],
             [
              0.8888888888888888,
              "#b5de2b"
             ],
             [
              1,
              "#fde725"
             ]
            ],
            "type": "heatmap"
           }
          ],
          "heatmapgl": [
           {
            "colorbar": {
             "outlinewidth": 1,
             "tickcolor": "rgb(36,36,36)",
             "ticks": "outside"
            },
            "colorscale": [
             [
              0,
              "#440154"
             ],
             [
              0.1111111111111111,
              "#482878"
             ],
             [
              0.2222222222222222,
              "#3e4989"
             ],
             [
              0.3333333333333333,
              "#31688e"
             ],
             [
              0.4444444444444444,
              "#26828e"
             ],
             [
              0.5555555555555556,
              "#1f9e89"
             ],
             [
              0.6666666666666666,
              "#35b779"
             ],
             [
              0.7777777777777778,
              "#6ece58"
             ],
             [
              0.8888888888888888,
              "#b5de2b"
             ],
             [
              1,
              "#fde725"
             ]
            ],
            "type": "heatmapgl"
           }
          ],
          "histogram": [
           {
            "marker": {
             "line": {
              "color": "white",
              "width": 0.6
             }
            },
            "type": "histogram"
           }
          ],
          "histogram2d": [
           {
            "colorbar": {
             "outlinewidth": 1,
             "tickcolor": "rgb(36,36,36)",
             "ticks": "outside"
            },
            "colorscale": [
             [
              0,
              "#440154"
             ],
             [
              0.1111111111111111,
              "#482878"
             ],
             [
              0.2222222222222222,
              "#3e4989"
             ],
             [
              0.3333333333333333,
              "#31688e"
             ],
             [
              0.4444444444444444,
              "#26828e"
             ],
             [
              0.5555555555555556,
              "#1f9e89"
             ],
             [
              0.6666666666666666,
              "#35b779"
             ],
             [
              0.7777777777777778,
              "#6ece58"
             ],
             [
              0.8888888888888888,
              "#b5de2b"
             ],
             [
              1,
              "#fde725"
             ]
            ],
            "type": "histogram2d"
           }
          ],
          "histogram2dcontour": [
           {
            "colorbar": {
             "outlinewidth": 1,
             "tickcolor": "rgb(36,36,36)",
             "ticks": "outside"
            },
            "colorscale": [
             [
              0,
              "#440154"
             ],
             [
              0.1111111111111111,
              "#482878"
             ],
             [
              0.2222222222222222,
              "#3e4989"
             ],
             [
              0.3333333333333333,
              "#31688e"
             ],
             [
              0.4444444444444444,
              "#26828e"
             ],
             [
              0.5555555555555556,
              "#1f9e89"
             ],
             [
              0.6666666666666666,
              "#35b779"
             ],
             [
              0.7777777777777778,
              "#6ece58"
             ],
             [
              0.8888888888888888,
              "#b5de2b"
             ],
             [
              1,
              "#fde725"
             ]
            ],
            "type": "histogram2dcontour"
           }
          ],
          "mesh3d": [
           {
            "colorbar": {
             "outlinewidth": 1,
             "tickcolor": "rgb(36,36,36)",
             "ticks": "outside"
            },
            "type": "mesh3d"
           }
          ],
          "parcoords": [
           {
            "line": {
             "colorbar": {
              "outlinewidth": 1,
              "tickcolor": "rgb(36,36,36)",
              "ticks": "outside"
             }
            },
            "type": "parcoords"
           }
          ],
          "pie": [
           {
            "automargin": true,
            "type": "pie"
           }
          ],
          "scatter": [
           {
            "fillpattern": {
             "fillmode": "overlay",
             "size": 10,
             "solidity": 0.2
            },
            "type": "scatter"
           }
          ],
          "scatter3d": [
           {
            "line": {
             "colorbar": {
              "outlinewidth": 1,
              "tickcolor": "rgb(36,36,36)",
              "ticks": "outside"
             }
            },
            "marker": {
             "colorbar": {
              "outlinewidth": 1,
              "tickcolor": "rgb(36,36,36)",
              "ticks": "outside"
             }
            },
            "type": "scatter3d"
           }
          ],
          "scattercarpet": [
           {
            "marker": {
             "colorbar": {
              "outlinewidth": 1,
              "tickcolor": "rgb(36,36,36)",
              "ticks": "outside"
             }
            },
            "type": "scattercarpet"
           }
          ],
          "scattergeo": [
           {
            "marker": {
             "colorbar": {
              "outlinewidth": 1,
              "tickcolor": "rgb(36,36,36)",
              "ticks": "outside"
             }
            },
            "type": "scattergeo"
           }
          ],
          "scattergl": [
           {
            "marker": {
             "colorbar": {
              "outlinewidth": 1,
              "tickcolor": "rgb(36,36,36)",
              "ticks": "outside"
             }
            },
            "type": "scattergl"
           }
          ],
          "scattermapbox": [
           {
            "marker": {
             "colorbar": {
              "outlinewidth": 1,
              "tickcolor": "rgb(36,36,36)",
              "ticks": "outside"
             }
            },
            "type": "scattermapbox"
           }
          ],
          "scatterpolar": [
           {
            "marker": {
             "colorbar": {
              "outlinewidth": 1,
              "tickcolor": "rgb(36,36,36)",
              "ticks": "outside"
             }
            },
            "type": "scatterpolar"
           }
          ],
          "scatterpolargl": [
           {
            "marker": {
             "colorbar": {
              "outlinewidth": 1,
              "tickcolor": "rgb(36,36,36)",
              "ticks": "outside"
             }
            },
            "type": "scatterpolargl"
           }
          ],
          "scatterternary": [
           {
            "marker": {
             "colorbar": {
              "outlinewidth": 1,
              "tickcolor": "rgb(36,36,36)",
              "ticks": "outside"
             }
            },
            "type": "scatterternary"
           }
          ],
          "surface": [
           {
            "colorbar": {
             "outlinewidth": 1,
             "tickcolor": "rgb(36,36,36)",
             "ticks": "outside"
            },
            "colorscale": [
             [
              0,
              "#440154"
             ],
             [
              0.1111111111111111,
              "#482878"
             ],
             [
              0.2222222222222222,
              "#3e4989"
             ],
             [
              0.3333333333333333,
              "#31688e"
             ],
             [
              0.4444444444444444,
              "#26828e"
             ],
             [
              0.5555555555555556,
              "#1f9e89"
             ],
             [
              0.6666666666666666,
              "#35b779"
             ],
             [
              0.7777777777777778,
              "#6ece58"
             ],
             [
              0.8888888888888888,
              "#b5de2b"
             ],
             [
              1,
              "#fde725"
             ]
            ],
            "type": "surface"
           }
          ],
          "table": [
           {
            "cells": {
             "fill": {
              "color": "rgb(237,237,237)"
             },
             "line": {
              "color": "white"
             }
            },
            "header": {
             "fill": {
              "color": "rgb(217,217,217)"
             },
             "line": {
              "color": "white"
             }
            },
            "type": "table"
           }
          ]
         },
         "layout": {
          "annotationdefaults": {
           "arrowhead": 0,
           "arrowwidth": 1
          },
          "autotypenumbers": "strict",
          "coloraxis": {
           "colorbar": {
            "outlinewidth": 1,
            "tickcolor": "rgb(36,36,36)",
            "ticks": "outside"
           }
          },
          "colorscale": {
           "diverging": [
            [
             0,
             "rgb(103,0,31)"
            ],
            [
             0.1,
             "rgb(178,24,43)"
            ],
            [
             0.2,
             "rgb(214,96,77)"
            ],
            [
             0.3,
             "rgb(244,165,130)"
            ],
            [
             0.4,
             "rgb(253,219,199)"
            ],
            [
             0.5,
             "rgb(247,247,247)"
            ],
            [
             0.6,
             "rgb(209,229,240)"
            ],
            [
             0.7,
             "rgb(146,197,222)"
            ],
            [
             0.8,
             "rgb(67,147,195)"
            ],
            [
             0.9,
             "rgb(33,102,172)"
            ],
            [
             1,
             "rgb(5,48,97)"
            ]
           ],
           "sequential": [
            [
             0,
             "#440154"
            ],
            [
             0.1111111111111111,
             "#482878"
            ],
            [
             0.2222222222222222,
             "#3e4989"
            ],
            [
             0.3333333333333333,
             "#31688e"
            ],
            [
             0.4444444444444444,
             "#26828e"
            ],
            [
             0.5555555555555556,
             "#1f9e89"
            ],
            [
             0.6666666666666666,
             "#35b779"
            ],
            [
             0.7777777777777778,
             "#6ece58"
            ],
            [
             0.8888888888888888,
             "#b5de2b"
            ],
            [
             1,
             "#fde725"
            ]
           ],
           "sequentialminus": [
            [
             0,
             "#440154"
            ],
            [
             0.1111111111111111,
             "#482878"
            ],
            [
             0.2222222222222222,
             "#3e4989"
            ],
            [
             0.3333333333333333,
             "#31688e"
            ],
            [
             0.4444444444444444,
             "#26828e"
            ],
            [
             0.5555555555555556,
             "#1f9e89"
            ],
            [
             0.6666666666666666,
             "#35b779"
            ],
            [
             0.7777777777777778,
             "#6ece58"
            ],
            [
             0.8888888888888888,
             "#b5de2b"
            ],
            [
             1,
             "#fde725"
            ]
           ]
          },
          "colorway": [
           "#91268F",
           "#8CC63E",
           "#00A7A0",
           "#F05A28",
           "#4C4C4C",
           "#630460",
           "#9f3913",
           "#588527",
           "#00716c",
           "#3e4040"
          ],
          "font": {
           "color": "rgb(36,36,36)",
           "family": "Poppins",
           "size": 11
          },
          "geo": {
           "bgcolor": "white",
           "lakecolor": "white",
           "landcolor": "white",
           "showlakes": true,
           "showland": true,
           "subunitcolor": "white"
          },
          "hoverlabel": {
           "align": "left"
          },
          "hovermode": "closest",
          "mapbox": {
           "style": "light"
          },
          "paper_bgcolor": "white",
          "plot_bgcolor": "white",
          "polar": {
           "angularaxis": {
            "gridcolor": "rgb(232,232,232)",
            "linecolor": "rgb(36,36,36)",
            "showgrid": false,
            "showline": true,
            "ticks": "outside"
           },
           "bgcolor": "white",
           "radialaxis": {
            "gridcolor": "rgb(232,232,232)",
            "linecolor": "rgb(36,36,36)",
            "showgrid": false,
            "showline": true,
            "ticks": "outside"
           }
          },
          "scene": {
           "xaxis": {
            "backgroundcolor": "white",
            "gridcolor": "rgb(232,232,232)",
            "gridwidth": 2,
            "linecolor": "rgb(36,36,36)",
            "showbackground": true,
            "showgrid": false,
            "showline": true,
            "ticks": "outside",
            "zeroline": false,
            "zerolinecolor": "rgb(36,36,36)"
           },
           "yaxis": {
            "backgroundcolor": "white",
            "gridcolor": "rgb(232,232,232)",
            "gridwidth": 2,
            "linecolor": "rgb(36,36,36)",
            "showbackground": true,
            "showgrid": false,
            "showline": true,
            "ticks": "outside",
            "zeroline": false,
            "zerolinecolor": "rgb(36,36,36)"
           },
           "zaxis": {
            "backgroundcolor": "white",
            "gridcolor": "rgb(232,232,232)",
            "gridwidth": 2,
            "linecolor": "rgb(36,36,36)",
            "showbackground": true,
            "showgrid": false,
            "showline": true,
            "ticks": "outside",
            "zeroline": false,
            "zerolinecolor": "rgb(36,36,36)"
           }
          },
          "shapedefaults": {
           "fillcolor": "black",
           "line": {
            "width": 0
           },
           "opacity": 0.3
          },
          "ternary": {
           "aaxis": {
            "gridcolor": "rgb(232,232,232)",
            "linecolor": "rgb(36,36,36)",
            "showgrid": false,
            "showline": true,
            "ticks": "outside"
           },
           "baxis": {
            "gridcolor": "rgb(232,232,232)",
            "linecolor": "rgb(36,36,36)",
            "showgrid": false,
            "showline": true,
            "ticks": "outside"
           },
           "bgcolor": "white",
           "caxis": {
            "gridcolor": "rgb(232,232,232)",
            "linecolor": "rgb(36,36,36)",
            "showgrid": false,
            "showline": true,
            "ticks": "outside"
           }
          },
          "title": {
           "x": 0.05
          },
          "xaxis": {
           "automargin": true,
           "gridcolor": "rgb(232,232,232)",
           "linecolor": "rgb(36,36,36)",
           "showgrid": false,
           "showline": true,
           "ticks": "outside",
           "title": {
            "standoff": 15
           },
           "zeroline": false,
           "zerolinecolor": "rgb(36,36,36)"
          },
          "yaxis": {
           "automargin": true,
           "gridcolor": "rgb(232,232,232)",
           "linecolor": "rgb(36,36,36)",
           "showgrid": false,
           "showline": true,
           "ticks": "outside",
           "title": {
            "standoff": 15
           },
           "zeroline": false,
           "zerolinecolor": "rgb(36,36,36)"
          }
         }
        },
        "title": {
         "text": "school trip mode"
        },
        "width": 700,
        "xaxis": {
         "anchor": "y",
         "categoryorder": "category ascending",
         "domain": [
          0,
          1
         ],
         "dtick": 1,
         "title": {
          "text": "mode_label"
         }
        },
        "yaxis": {
         "anchor": "x",
         "domain": [
          0,
          1
         ],
         "tickformat": ".2%",
         "title": {
          "text": "percentage"
         }
        }
       }
      },
      "text/html": [
       "<div>                            <div id=\"6c9e20b4-79c6-4831-9854-e345637cdf6d\" class=\"plotly-graph-div\" style=\"height:400px; width:700px;\"></div>            <script type=\"text/javascript\">                require([\"plotly\"], function(Plotly) {                    window.PLOTLYENV=window.PLOTLYENV || {};                                    if (document.getElementById(\"6c9e20b4-79c6-4831-9854-e345637cdf6d\")) {                    Plotly.newPlot(                        \"6c9e20b4-79c6-4831-9854-e345637cdf6d\",                        [{\"alignmentgroup\":\"True\",\"customdata\":[[64424],[14913],[63841],[134249],[172784],[20475],[105214],[8]],\"hovertemplate\":\"source=model\\u003cbr\\u003emode_label=%{x}\\u003cbr\\u003epercentage=%{y}\\u003cbr\\u003esample count=%{customdata[0]}\\u003cextra\\u003e\\u003c\\u002fextra\\u003e\",\"legendgroup\":\"model\",\"marker\":{\"color\":\"#91268F\",\"pattern\":{\"shape\":\"\"}},\"name\":\"model\",\"offsetgroup\":\"model\",\"orientation\":\"v\",\"showlegend\":true,\"textposition\":\"auto\",\"x\":[\"1: walk\",\"2: bike\",\"3: sov\",\"4: hov 2\",\"5: hov 3+\",\"6: transit\",\"8: school bus\",\"9: tnc\"],\"xaxis\":\"x\",\"y\":[0.1118650895629163,0.025894760968765845,0.11085277509602229,0.23310841314932246,0.30002014210603084,0.03555255353285594,0.18269237447647887,1.3891107607465081e-05],\"yaxis\":\"y\",\"type\":\"bar\"},{\"alignmentgroup\":\"True\",\"customdata\":[[5],[138],[47],[168],[156],[56],[24],[118]],\"hovertemplate\":\"source=survey\\u003cbr\\u003emode_label=%{x}\\u003cbr\\u003epercentage=%{y}\\u003cbr\\u003esample count=%{customdata[0]}\\u003cextra\\u003e\\u003c\\u002fextra\\u003e\",\"legendgroup\":\"survey\",\"marker\":{\"color\":\"#8CC63E\",\"pattern\":{\"shape\":\"\"}},\"name\":\"survey\",\"offsetgroup\":\"survey\",\"orientation\":\"v\",\"showlegend\":true,\"textposition\":\"auto\",\"x\":[\"9: tnc\",\"8: school bus\",\"6: transit\",\"5: hov 3+\",\"4: hov 2\",\"3: sov\",\"2: bike\",\"1: walk\"],\"xaxis\":\"x\",\"y\":[0.004719844723208219,0.18875237018523838,0.033409229059823554,0.3421146835893875,0.20781660339512678,0.12130521889405765,0.0220366253553132,0.07984542479784483],\"yaxis\":\"y\",\"type\":\"bar\"},{\"alignmentgroup\":\"True\",\"customdata\":[[381],[50],[178],[425],[412],[279],[227],[17]],\"hovertemplate\":\"source=survey (2017\\u002f2019)\\u003cbr\\u003emode_label=%{x}\\u003cbr\\u003epercentage=%{y}\\u003cbr\\u003esample count=%{customdata[0]}\\u003cextra\\u003e\\u003c\\u002fextra\\u003e\",\"legendgroup\":\"survey (2017\\u002f2019)\",\"marker\":{\"color\":\"#00A7A0\",\"pattern\":{\"shape\":\"\"}},\"name\":\"survey (2017\\u002f2019)\",\"offsetgroup\":\"survey (2017\\u002f2019)\",\"orientation\":\"v\",\"showlegend\":true,\"textposition\":\"auto\",\"x\":[\"1: walk\",\"2: bike\",\"3: sov\",\"4: hov 2\",\"5: hov 3+\",\"6: transit\",\"8: school bus\",\"9: tnc\"],\"xaxis\":\"x\",\"y\":[0.08877944957669613,0.005987178890975527,0.12943678448184795,0.17064236592642046,0.35781174325426596,0.08396440886634307,0.16176847731417338,0.0016095916892774039],\"yaxis\":\"y\",\"type\":\"bar\"}],                        {\"template\":{\"data\":{\"barpolar\":[{\"marker\":{\"line\":{\"color\":\"white\",\"width\":0.5},\"pattern\":{\"fillmode\":\"overlay\",\"size\":10,\"solidity\":0.2}},\"type\":\"barpolar\"}],\"bar\":[{\"error_x\":{\"color\":\"rgb(36,36,36)\"},\"error_y\":{\"color\":\"rgb(36,36,36)\"},\"marker\":{\"line\":{\"color\":\"white\",\"width\":0.5},\"pattern\":{\"fillmode\":\"overlay\",\"size\":10,\"solidity\":0.2}},\"type\":\"bar\"}],\"carpet\":[{\"aaxis\":{\"endlinecolor\":\"rgb(36,36,36)\",\"gridcolor\":\"white\",\"linecolor\":\"white\",\"minorgridcolor\":\"white\",\"startlinecolor\":\"rgb(36,36,36)\"},\"baxis\":{\"endlinecolor\":\"rgb(36,36,36)\",\"gridcolor\":\"white\",\"linecolor\":\"white\",\"minorgridcolor\":\"white\",\"startlinecolor\":\"rgb(36,36,36)\"},\"type\":\"carpet\"}],\"choropleth\":[{\"colorbar\":{\"outlinewidth\":1,\"tickcolor\":\"rgb(36,36,36)\",\"ticks\":\"outside\"},\"type\":\"choropleth\"}],\"contourcarpet\":[{\"colorbar\":{\"outlinewidth\":1,\"tickcolor\":\"rgb(36,36,36)\",\"ticks\":\"outside\"},\"type\":\"contourcarpet\"}],\"contour\":[{\"colorbar\":{\"outlinewidth\":1,\"tickcolor\":\"rgb(36,36,36)\",\"ticks\":\"outside\"},\"colorscale\":[[0.0,\"#440154\"],[0.1111111111111111,\"#482878\"],[0.2222222222222222,\"#3e4989\"],[0.3333333333333333,\"#31688e\"],[0.4444444444444444,\"#26828e\"],[0.5555555555555556,\"#1f9e89\"],[0.6666666666666666,\"#35b779\"],[0.7777777777777778,\"#6ece58\"],[0.8888888888888888,\"#b5de2b\"],[1.0,\"#fde725\"]],\"type\":\"contour\"}],\"heatmapgl\":[{\"colorbar\":{\"outlinewidth\":1,\"tickcolor\":\"rgb(36,36,36)\",\"ticks\":\"outside\"},\"colorscale\":[[0.0,\"#440154\"],[0.1111111111111111,\"#482878\"],[0.2222222222222222,\"#3e4989\"],[0.3333333333333333,\"#31688e\"],[0.4444444444444444,\"#26828e\"],[0.5555555555555556,\"#1f9e89\"],[0.6666666666666666,\"#35b779\"],[0.7777777777777778,\"#6ece58\"],[0.8888888888888888,\"#b5de2b\"],[1.0,\"#fde725\"]],\"type\":\"heatmapgl\"}],\"heatmap\":[{\"colorbar\":{\"outlinewidth\":1,\"tickcolor\":\"rgb(36,36,36)\",\"ticks\":\"outside\"},\"colorscale\":[[0.0,\"#440154\"],[0.1111111111111111,\"#482878\"],[0.2222222222222222,\"#3e4989\"],[0.3333333333333333,\"#31688e\"],[0.4444444444444444,\"#26828e\"],[0.5555555555555556,\"#1f9e89\"],[0.6666666666666666,\"#35b779\"],[0.7777777777777778,\"#6ece58\"],[0.8888888888888888,\"#b5de2b\"],[1.0,\"#fde725\"]],\"type\":\"heatmap\"}],\"histogram2dcontour\":[{\"colorbar\":{\"outlinewidth\":1,\"tickcolor\":\"rgb(36,36,36)\",\"ticks\":\"outside\"},\"colorscale\":[[0.0,\"#440154\"],[0.1111111111111111,\"#482878\"],[0.2222222222222222,\"#3e4989\"],[0.3333333333333333,\"#31688e\"],[0.4444444444444444,\"#26828e\"],[0.5555555555555556,\"#1f9e89\"],[0.6666666666666666,\"#35b779\"],[0.7777777777777778,\"#6ece58\"],[0.8888888888888888,\"#b5de2b\"],[1.0,\"#fde725\"]],\"type\":\"histogram2dcontour\"}],\"histogram2d\":[{\"colorbar\":{\"outlinewidth\":1,\"tickcolor\":\"rgb(36,36,36)\",\"ticks\":\"outside\"},\"colorscale\":[[0.0,\"#440154\"],[0.1111111111111111,\"#482878\"],[0.2222222222222222,\"#3e4989\"],[0.3333333333333333,\"#31688e\"],[0.4444444444444444,\"#26828e\"],[0.5555555555555556,\"#1f9e89\"],[0.6666666666666666,\"#35b779\"],[0.7777777777777778,\"#6ece58\"],[0.8888888888888888,\"#b5de2b\"],[1.0,\"#fde725\"]],\"type\":\"histogram2d\"}],\"histogram\":[{\"marker\":{\"line\":{\"color\":\"white\",\"width\":0.6}},\"type\":\"histogram\"}],\"mesh3d\":[{\"colorbar\":{\"outlinewidth\":1,\"tickcolor\":\"rgb(36,36,36)\",\"ticks\":\"outside\"},\"type\":\"mesh3d\"}],\"parcoords\":[{\"line\":{\"colorbar\":{\"outlinewidth\":1,\"tickcolor\":\"rgb(36,36,36)\",\"ticks\":\"outside\"}},\"type\":\"parcoords\"}],\"pie\":[{\"automargin\":true,\"type\":\"pie\"}],\"scatter3d\":[{\"line\":{\"colorbar\":{\"outlinewidth\":1,\"tickcolor\":\"rgb(36,36,36)\",\"ticks\":\"outside\"}},\"marker\":{\"colorbar\":{\"outlinewidth\":1,\"tickcolor\":\"rgb(36,36,36)\",\"ticks\":\"outside\"}},\"type\":\"scatter3d\"}],\"scattercarpet\":[{\"marker\":{\"colorbar\":{\"outlinewidth\":1,\"tickcolor\":\"rgb(36,36,36)\",\"ticks\":\"outside\"}},\"type\":\"scattercarpet\"}],\"scattergeo\":[{\"marker\":{\"colorbar\":{\"outlinewidth\":1,\"tickcolor\":\"rgb(36,36,36)\",\"ticks\":\"outside\"}},\"type\":\"scattergeo\"}],\"scattergl\":[{\"marker\":{\"colorbar\":{\"outlinewidth\":1,\"tickcolor\":\"rgb(36,36,36)\",\"ticks\":\"outside\"}},\"type\":\"scattergl\"}],\"scattermapbox\":[{\"marker\":{\"colorbar\":{\"outlinewidth\":1,\"tickcolor\":\"rgb(36,36,36)\",\"ticks\":\"outside\"}},\"type\":\"scattermapbox\"}],\"scatterpolargl\":[{\"marker\":{\"colorbar\":{\"outlinewidth\":1,\"tickcolor\":\"rgb(36,36,36)\",\"ticks\":\"outside\"}},\"type\":\"scatterpolargl\"}],\"scatterpolar\":[{\"marker\":{\"colorbar\":{\"outlinewidth\":1,\"tickcolor\":\"rgb(36,36,36)\",\"ticks\":\"outside\"}},\"type\":\"scatterpolar\"}],\"scatter\":[{\"fillpattern\":{\"fillmode\":\"overlay\",\"size\":10,\"solidity\":0.2},\"type\":\"scatter\"}],\"scatterternary\":[{\"marker\":{\"colorbar\":{\"outlinewidth\":1,\"tickcolor\":\"rgb(36,36,36)\",\"ticks\":\"outside\"}},\"type\":\"scatterternary\"}],\"surface\":[{\"colorbar\":{\"outlinewidth\":1,\"tickcolor\":\"rgb(36,36,36)\",\"ticks\":\"outside\"},\"colorscale\":[[0.0,\"#440154\"],[0.1111111111111111,\"#482878\"],[0.2222222222222222,\"#3e4989\"],[0.3333333333333333,\"#31688e\"],[0.4444444444444444,\"#26828e\"],[0.5555555555555556,\"#1f9e89\"],[0.6666666666666666,\"#35b779\"],[0.7777777777777778,\"#6ece58\"],[0.8888888888888888,\"#b5de2b\"],[1.0,\"#fde725\"]],\"type\":\"surface\"}],\"table\":[{\"cells\":{\"fill\":{\"color\":\"rgb(237,237,237)\"},\"line\":{\"color\":\"white\"}},\"header\":{\"fill\":{\"color\":\"rgb(217,217,217)\"},\"line\":{\"color\":\"white\"}},\"type\":\"table\"}]},\"layout\":{\"annotationdefaults\":{\"arrowhead\":0,\"arrowwidth\":1},\"autotypenumbers\":\"strict\",\"coloraxis\":{\"colorbar\":{\"outlinewidth\":1,\"tickcolor\":\"rgb(36,36,36)\",\"ticks\":\"outside\"}},\"colorscale\":{\"diverging\":[[0.0,\"rgb(103,0,31)\"],[0.1,\"rgb(178,24,43)\"],[0.2,\"rgb(214,96,77)\"],[0.3,\"rgb(244,165,130)\"],[0.4,\"rgb(253,219,199)\"],[0.5,\"rgb(247,247,247)\"],[0.6,\"rgb(209,229,240)\"],[0.7,\"rgb(146,197,222)\"],[0.8,\"rgb(67,147,195)\"],[0.9,\"rgb(33,102,172)\"],[1.0,\"rgb(5,48,97)\"]],\"sequential\":[[0.0,\"#440154\"],[0.1111111111111111,\"#482878\"],[0.2222222222222222,\"#3e4989\"],[0.3333333333333333,\"#31688e\"],[0.4444444444444444,\"#26828e\"],[0.5555555555555556,\"#1f9e89\"],[0.6666666666666666,\"#35b779\"],[0.7777777777777778,\"#6ece58\"],[0.8888888888888888,\"#b5de2b\"],[1.0,\"#fde725\"]],\"sequentialminus\":[[0.0,\"#440154\"],[0.1111111111111111,\"#482878\"],[0.2222222222222222,\"#3e4989\"],[0.3333333333333333,\"#31688e\"],[0.4444444444444444,\"#26828e\"],[0.5555555555555556,\"#1f9e89\"],[0.6666666666666666,\"#35b779\"],[0.7777777777777778,\"#6ece58\"],[0.8888888888888888,\"#b5de2b\"],[1.0,\"#fde725\"]]},\"colorway\":[\"#91268F\",\"#8CC63E\",\"#00A7A0\",\"#F05A28\",\"#4C4C4C\",\"#630460\",\"#9f3913\",\"#588527\",\"#00716c\",\"#3e4040\"],\"font\":{\"color\":\"rgb(36,36,36)\",\"family\":\"Poppins\",\"size\":11},\"geo\":{\"bgcolor\":\"white\",\"lakecolor\":\"white\",\"landcolor\":\"white\",\"showlakes\":true,\"showland\":true,\"subunitcolor\":\"white\"},\"hoverlabel\":{\"align\":\"left\"},\"hovermode\":\"closest\",\"mapbox\":{\"style\":\"light\"},\"paper_bgcolor\":\"white\",\"plot_bgcolor\":\"white\",\"polar\":{\"angularaxis\":{\"gridcolor\":\"rgb(232,232,232)\",\"linecolor\":\"rgb(36,36,36)\",\"showgrid\":false,\"showline\":true,\"ticks\":\"outside\"},\"bgcolor\":\"white\",\"radialaxis\":{\"gridcolor\":\"rgb(232,232,232)\",\"linecolor\":\"rgb(36,36,36)\",\"showgrid\":false,\"showline\":true,\"ticks\":\"outside\"}},\"scene\":{\"xaxis\":{\"backgroundcolor\":\"white\",\"gridcolor\":\"rgb(232,232,232)\",\"gridwidth\":2,\"linecolor\":\"rgb(36,36,36)\",\"showbackground\":true,\"showgrid\":false,\"showline\":true,\"ticks\":\"outside\",\"zeroline\":false,\"zerolinecolor\":\"rgb(36,36,36)\"},\"yaxis\":{\"backgroundcolor\":\"white\",\"gridcolor\":\"rgb(232,232,232)\",\"gridwidth\":2,\"linecolor\":\"rgb(36,36,36)\",\"showbackground\":true,\"showgrid\":false,\"showline\":true,\"ticks\":\"outside\",\"zeroline\":false,\"zerolinecolor\":\"rgb(36,36,36)\"},\"zaxis\":{\"backgroundcolor\":\"white\",\"gridcolor\":\"rgb(232,232,232)\",\"gridwidth\":2,\"linecolor\":\"rgb(36,36,36)\",\"showbackground\":true,\"showgrid\":false,\"showline\":true,\"ticks\":\"outside\",\"zeroline\":false,\"zerolinecolor\":\"rgb(36,36,36)\"}},\"shapedefaults\":{\"fillcolor\":\"black\",\"line\":{\"width\":0},\"opacity\":0.3},\"ternary\":{\"aaxis\":{\"gridcolor\":\"rgb(232,232,232)\",\"linecolor\":\"rgb(36,36,36)\",\"showgrid\":false,\"showline\":true,\"ticks\":\"outside\"},\"baxis\":{\"gridcolor\":\"rgb(232,232,232)\",\"linecolor\":\"rgb(36,36,36)\",\"showgrid\":false,\"showline\":true,\"ticks\":\"outside\"},\"bgcolor\":\"white\",\"caxis\":{\"gridcolor\":\"rgb(232,232,232)\",\"linecolor\":\"rgb(36,36,36)\",\"showgrid\":false,\"showline\":true,\"ticks\":\"outside\"}},\"title\":{\"x\":0.05},\"xaxis\":{\"automargin\":true,\"gridcolor\":\"rgb(232,232,232)\",\"linecolor\":\"rgb(36,36,36)\",\"showgrid\":false,\"showline\":true,\"ticks\":\"outside\",\"title\":{\"standoff\":15},\"zeroline\":false,\"zerolinecolor\":\"rgb(36,36,36)\"},\"yaxis\":{\"automargin\":true,\"gridcolor\":\"rgb(232,232,232)\",\"linecolor\":\"rgb(36,36,36)\",\"showgrid\":false,\"showline\":true,\"ticks\":\"outside\",\"title\":{\"standoff\":15},\"zeroline\":false,\"zerolinecolor\":\"rgb(36,36,36)\"}}},\"xaxis\":{\"anchor\":\"y\",\"domain\":[0.0,1.0],\"title\":{\"text\":\"mode_label\"},\"dtick\":1,\"categoryorder\":\"category ascending\"},\"yaxis\":{\"anchor\":\"x\",\"domain\":[0.0,1.0],\"title\":{\"text\":\"percentage\"},\"tickformat\":\".2%\"},\"legend\":{\"title\":{\"text\":\"source\"},\"tracegroupgap\":0},\"title\":{\"text\":\"school trip mode\"},\"barmode\":\"group\",\"font\":{\"size\":11},\"height\":400,\"width\":700},                        {\"responsive\": true}                    ).then(function(){\n",
       "                            \n",
       "var gd = document.getElementById('6c9e20b4-79c6-4831-9854-e345637cdf6d');\n",
       "var x = new MutationObserver(function (mutations, observer) {{\n",
       "        var display = window.getComputedStyle(gd).display;\n",
       "        if (!display || display === 'none') {{\n",
       "            console.log([gd, 'removed!']);\n",
       "            Plotly.purge(gd);\n",
       "            observer.disconnect();\n",
       "        }}\n",
       "}});\n",
       "\n",
       "// Listen for the removal of the full notebook cells\n",
       "var notebookContainer = gd.closest('#notebook-container');\n",
       "if (notebookContainer) {{\n",
       "    x.observe(notebookContainer, {childList: true});\n",
       "}}\n",
       "\n",
       "// Listen for the clearing of the current output cell\n",
       "var outputEl = gd.closest('.output');\n",
       "if (outputEl) {{\n",
       "    x.observe(outputEl, {childList: true});\n",
       "}}\n",
       "\n",
       "                        })                };                });            </script>        </div>"
      ]
     },
     "metadata": {},
     "output_type": "display_data"
    }
   ],
   "source": [
    "df_plot = sc_trip.groupby(['source','mode_label'])['trexpfac'].sum().reset_index()\n",
    "df_plot['percentage'] = df_plot.groupby(['source'], group_keys=False)['trexpfac']. \\\n",
    "    apply(lambda x: x / float(x.sum()))\n",
    "\n",
    "df_plot_ct = sc_trip.groupby(['source','mode_label'])['trexpfac'].count().reset_index(). \\\n",
    "    rename(columns={'trexpfac':'sample count'})\n",
    "df_plot = df_plot.merge(df_plot_ct, on=['source','mode_label'])\n",
    "\n",
    "fig = px.bar(df_plot.sort_values(by=['source']), x=\"mode_label\", y=\"percentage\", color=\"source\",\n",
    "             barmode=\"group\",hover_data=['sample count'],title=\"school trip mode\")\n",
    "fig.update_layout(height=400, width=700, font=dict(size=11),\n",
    "                  xaxis = dict(dtick = 1, categoryorder='category ascending'),\n",
    "                  yaxis=dict(tickformat=\".2%\"))\n",
    "fig.show()"
   ]
  },
  {
   "cell_type": "markdown",
   "metadata": {},
   "source": [
    "### mode choice by segment"
   ]
  },
  {
   "cell_type": "raw",
   "metadata": {},
   "source": [
    ":::{.panel-tabset}\n",
    "\n",
    "### person type"
   ]
  },
  {
   "cell_type": "code",
   "execution_count": 6,
   "metadata": {
    "ExecuteTime": {
     "end_time": "2024-08-30T21:00:39.192148Z",
     "start_time": "2024-08-30T21:00:39.176447Z"
    },
    "execution": {
     "iopub.execute_input": "2025-01-21T07:12:39.385341Z",
     "iopub.status.busy": "2025-01-21T07:12:39.384337Z",
     "iopub.status.idle": "2025-01-21T07:12:39.416668Z",
     "shell.execute_reply": "2025-01-21T07:12:39.414611Z"
    }
   },
   "outputs": [],
   "source": [
    "def plot_mode_choice(df: pd.DataFrame, grp_var: str, order_list: dict, title_name: str, n_nol: int, height=400, width=800):\n",
    "    df_plot = df.groupby(['source',grp_var,'mode_label'])['trexpfac'].sum().reset_index()\n",
    "    df_plot['percentage'] = df_plot.groupby(['source',grp_var], group_keys=False)['trexpfac']. \\\n",
    "        apply(lambda x: x / float(x.sum()))\n",
    "\n",
    "    df_plot_ct = df.groupby(['source',grp_var,'mode_label'])['trexpfac'].count().reset_index(). \\\n",
    "        rename(columns={'trexpfac':'sample count'})\n",
    "    df_plot = df_plot.merge(df_plot_ct, on=['source',grp_var,'mode_label'])\n",
    "\n",
    "    fig = px.bar(df_plot.sort_values(['source','mode_label']),\n",
    "                 x=\"percentage\", y=\"mode_label\", color=\"source\",barmode=\"group\",\n",
    "                 facet_col=grp_var, facet_col_wrap=n_nol, orientation='h',\n",
    "                 hover_data=['sample count'],\n",
    "                 category_orders=order_list,\n",
    "                 title=\"school trip mode choice by \" + title_name)\n",
    "    fig.update_layout(height=height, width=width)\n",
    "    fig.for_each_annotation(lambda a: a.update(text = a.text.split(\"=\")[-1]))\n",
    "    fig.for_each_xaxis(lambda a: a.update(tickformat = \".1%\"))\n",
    "    fig.show()"
   ]
  },
  {
   "cell_type": "code",
   "execution_count": 7,
   "metadata": {
    "execution": {
     "iopub.execute_input": "2025-01-21T07:12:39.428453Z",
     "iopub.status.busy": "2025-01-21T07:12:39.427454Z",
     "iopub.status.idle": "2025-01-21T07:12:40.231176Z",
     "shell.execute_reply": "2025-01-21T07:12:40.229668Z"
    }
   },
   "outputs": [
    {
     "data": {
      "application/vnd.plotly.v1+json": {
       "config": {
        "plotlyServerURL": "https://plot.ly"
       },
       "data": [
        {
         "alignmentgroup": "True",
         "customdata": [
          [
           35
          ],
          [
           9
          ],
          [
           320
          ],
          [
           20
          ],
          [
           22
          ],
          [
           89
          ]
         ],
         "hovertemplate": "source=model<br>pptyp_label=full time worker<br>percentage=%{x}<br>mode_label=%{y}<br>sample count=%{customdata[0]}<extra></extra>",
         "legendgroup": "model",
         "marker": {
          "color": "#91268F",
          "pattern": {
           "shape": ""
          }
         },
         "name": "model",
         "offsetgroup": "model",
         "orientation": "h",
         "showlegend": true,
         "textposition": "auto",
         "type": "bar",
         "x": [
          0.0707070707070707,
          0.01818181818181818,
          0.6464646464646465,
          0.04040404040404041,
          0.044444444444444446,
          0.1797979797979798
         ],
         "xaxis": "x7",
         "y": [
          "1: walk",
          "2: bike",
          "3: sov",
          "4: hov 2",
          "5: hov 3+",
          "6: transit"
         ],
         "yaxis": "y7"
        },
        {
         "alignmentgroup": "True",
         "customdata": [
          [
           2819
          ],
          [
           781
          ],
          [
           20537
          ],
          [
           703
          ],
          [
           682
          ],
          [
           4807
          ],
          [
           32
          ]
         ],
         "hovertemplate": "source=model<br>pptyp_label=university student<br>percentage=%{x}<br>mode_label=%{y}<br>sample count=%{customdata[0]}<extra></extra>",
         "legendgroup": "model",
         "marker": {
          "color": "#91268F",
          "pattern": {
           "shape": ""
          }
         },
         "name": "model",
         "offsetgroup": "model",
         "orientation": "h",
         "showlegend": false,
         "textposition": "auto",
         "type": "bar",
         "x": [
          0.09284937913770956,
          0.02572379038898587,
          0.6764269951582622,
          0.023154705049240804,
          0.022463028227001747,
          0.15832811830967358,
          0.0010539837291261816
         ],
         "xaxis": "x3",
         "y": [
          "1: walk",
          "2: bike",
          "3: sov",
          "4: hov 2",
          "5: hov 3+",
          "6: transit",
          "8: school bus"
         ],
         "yaxis": "y3"
        },
        {
         "alignmentgroup": "True",
         "customdata": [
          [
           6991
          ],
          [
           931
          ],
          [
           42984
          ],
          [
           10885
          ],
          [
           10439
          ],
          [
           5533
          ],
          [
           9529
          ],
          [
           4
          ]
         ],
         "hovertemplate": "source=model<br>pptyp_label=grade school student/child age 16+<br>percentage=%{x}<br>mode_label=%{y}<br>sample count=%{customdata[0]}<extra></extra>",
         "legendgroup": "model",
         "marker": {
          "color": "#91268F",
          "pattern": {
           "shape": ""
          }
         },
         "name": "model",
         "offsetgroup": "model",
         "orientation": "h",
         "showlegend": false,
         "textposition": "auto",
         "type": "bar",
         "x": [
          0.08008385263929618,
          0.010664864369501465,
          0.49239369501466274,
          0.12469070747800587,
          0.11958165322580645,
          0.0633820564516129,
          0.10915734970674487,
          0.000045821114369501466
         ],
         "xaxis": "x4",
         "y": [
          "1: walk",
          "2: bike",
          "3: sov",
          "4: hov 2",
          "5: hov 3+",
          "6: transit",
          "8: school bus",
          "9: tnc"
         ],
         "yaxis": "y4"
        },
        {
         "alignmentgroup": "True",
         "customdata": [
          [
           50153
          ],
          [
           12219
          ],
          [
           103926
          ],
          [
           137702
          ],
          [
           9990
          ],
          [
           95345
          ],
          [
           4
          ]
         ],
         "hovertemplate": "source=model<br>pptyp_label=child age 5-15<br>percentage=%{x}<br>mode_label=%{y}<br>sample count=%{customdata[0]}<extra></extra>",
         "legendgroup": "model",
         "marker": {
          "color": "#91268F",
          "pattern": {
           "shape": ""
          }
         },
         "name": "model",
         "offsetgroup": "model",
         "orientation": "h",
         "showlegend": false,
         "textposition": "auto",
         "type": "bar",
         "x": [
          0.12252191948482798,
          0.02985056395799081,
          0.25388736475146517,
          0.3364008804438375,
          0.024405199602285637,
          0.23292429990790028,
          0.000009771851692606862
         ],
         "xaxis": "x",
         "y": [
          "1: walk",
          "2: bike",
          "4: hov 2",
          "5: hov 3+",
          "6: transit",
          "8: school bus",
          "9: tnc"
         ],
         "yaxis": "y"
        },
        {
         "alignmentgroup": "True",
         "customdata": [
          [
           4426
          ],
          [
           973
          ],
          [
           18715
          ],
          [
           23939
          ],
          [
           56
          ],
          [
           308
          ]
         ],
         "hovertemplate": "source=model<br>pptyp_label=child age 0-4<br>percentage=%{x}<br>mode_label=%{y}<br>sample count=%{customdata[0]}<extra></extra>",
         "legendgroup": "model",
         "marker": {
          "color": "#91268F",
          "pattern": {
           "shape": ""
          }
         },
         "name": "model",
         "offsetgroup": "model",
         "orientation": "h",
         "showlegend": false,
         "textposition": "auto",
         "type": "bar",
         "x": [
          0.09141417270793316,
          0.020096247185905778,
          0.3865377863147242,
          0.49443377326145777,
          0.0011566185430737137,
          0.0063614019869054255
         ],
         "xaxis": "x2",
         "y": [
          "1: walk",
          "2: bike",
          "4: hov 2",
          "5: hov 3+",
          "6: transit",
          "8: school bus"
         ],
         "yaxis": "y2"
        },
        {
         "alignmentgroup": "True",
         "customdata": [
          [
           1
          ],
          [
           1
          ],
          [
           2
          ],
          [
           2
          ]
         ],
         "hovertemplate": "source=survey<br>pptyp_label=full time worker<br>percentage=%{x}<br>mode_label=%{y}<br>sample count=%{customdata[0]}<extra></extra>",
         "legendgroup": "survey",
         "marker": {
          "color": "#8CC63E",
          "pattern": {
           "shape": ""
          }
         },
         "name": "survey",
         "offsetgroup": "survey",
         "orientation": "h",
         "showlegend": true,
         "textposition": "auto",
         "type": "bar",
         "x": [
          0.10082954503356263,
          0.03835932190695664,
          0.5227426743757321,
          0.3380684586837486
         ],
         "xaxis": "x7",
         "y": [
          "1: walk",
          "2: bike",
          "3: sov",
          "6: transit"
         ],
         "yaxis": "y7"
        },
        {
         "alignmentgroup": "True",
         "customdata": [
          [
           1
          ],
          [
           2
          ],
          [
           1
          ],
          [
           2
          ]
         ],
         "hovertemplate": "source=survey<br>pptyp_label=part time worker<br>percentage=%{x}<br>mode_label=%{y}<br>sample count=%{customdata[0]}<extra></extra>",
         "legendgroup": "survey",
         "marker": {
          "color": "#8CC63E",
          "pattern": {
           "shape": ""
          }
         },
         "name": "survey",
         "offsetgroup": "survey",
         "orientation": "h",
         "showlegend": false,
         "textposition": "auto",
         "type": "bar",
         "x": [
          0.03220429858398678,
          0.06541309410009602,
          0.015262411436399769,
          0.8871201958795175
         ],
         "xaxis": "x8",
         "y": [
          "1: walk",
          "3: sov",
          "4: hov 2",
          "6: transit"
         ],
         "yaxis": "y8"
        },
        {
         "alignmentgroup": "True",
         "customdata": [
          [
           1
          ]
         ],
         "hovertemplate": "source=survey<br>pptyp_label=non-worker age 65+<br>percentage=%{x}<br>mode_label=%{y}<br>sample count=%{customdata[0]}<extra></extra>",
         "legendgroup": "survey",
         "marker": {
          "color": "#8CC63E",
          "pattern": {
           "shape": ""
          }
         },
         "name": "survey",
         "offsetgroup": "survey",
         "orientation": "h",
         "showlegend": false,
         "textposition": "auto",
         "type": "bar",
         "x": [
          1
         ],
         "xaxis": "x5",
         "y": [
          "3: sov"
         ],
         "yaxis": "y5"
        },
        {
         "alignmentgroup": "True",
         "customdata": [
          [
           1
          ],
          [
           2
          ]
         ],
         "hovertemplate": "source=survey<br>pptyp_label=other non-working adult<br>percentage=%{x}<br>mode_label=%{y}<br>sample count=%{customdata[0]}<extra></extra>",
         "legendgroup": "survey",
         "marker": {
          "color": "#8CC63E",
          "pattern": {
           "shape": ""
          }
         },
         "name": "survey",
         "offsetgroup": "survey",
         "orientation": "h",
         "showlegend": false,
         "textposition": "auto",
         "type": "bar",
         "x": [
          0.3852719806216891,
          0.6147280193783109
         ],
         "xaxis": "x6",
         "y": [
          "2: bike",
          "3: sov"
         ],
         "yaxis": "y6"
        },
        {
         "alignmentgroup": "True",
         "customdata": [
          [
           17
          ],
          [
           14
          ],
          [
           2
          ],
          [
           20
          ],
          [
           2
          ]
         ],
         "hovertemplate": "source=survey<br>pptyp_label=university student<br>percentage=%{x}<br>mode_label=%{y}<br>sample count=%{customdata[0]}<extra></extra>",
         "legendgroup": "survey",
         "marker": {
          "color": "#8CC63E",
          "pattern": {
           "shape": ""
          }
         },
         "name": "survey",
         "offsetgroup": "survey",
         "orientation": "h",
         "showlegend": false,
         "textposition": "auto",
         "type": "bar",
         "x": [
          0.06569185501839649,
          0.7228939837340189,
          0.06678501512861577,
          0.11404926267279931,
          0.03057988344616957
         ],
         "xaxis": "x3",
         "y": [
          "1: walk",
          "3: sov",
          "4: hov 2",
          "6: transit",
          "9: tnc"
         ],
         "yaxis": "y3"
        },
        {
         "alignmentgroup": "True",
         "customdata": [
          [
           7
          ],
          [
           3
          ],
          [
           27
          ],
          [
           17
          ],
          [
           8
          ],
          [
           6
          ],
          [
           8
          ]
         ],
         "hovertemplate": "source=survey<br>pptyp_label=grade school student/child age 16+<br>percentage=%{x}<br>mode_label=%{y}<br>sample count=%{customdata[0]}<extra></extra>",
         "legendgroup": "survey",
         "marker": {
          "color": "#8CC63E",
          "pattern": {
           "shape": ""
          }
         },
         "name": "survey",
         "offsetgroup": "survey",
         "orientation": "h",
         "showlegend": false,
         "textposition": "auto",
         "type": "bar",
         "x": [
          0.04799060837915913,
          0.01719175165079648,
          0.37413756948112453,
          0.23167298895770944,
          0.13304657907777379,
          0.10984840425789225,
          0.08611209819554448
         ],
         "xaxis": "x4",
         "y": [
          "1: walk",
          "2: bike",
          "3: sov",
          "4: hov 2",
          "5: hov 3+",
          "6: transit",
          "8: school bus"
         ],
         "yaxis": "y4"
        },
        {
         "alignmentgroup": "True",
         "customdata": [
          [
           59
          ],
          [
           13
          ],
          [
           3
          ],
          [
           94
          ],
          [
           131
          ],
          [
           8
          ],
          [
           123
          ],
          [
           1
          ]
         ],
         "hovertemplate": "source=survey<br>pptyp_label=child age 5-15<br>percentage=%{x}<br>mode_label=%{y}<br>sample count=%{customdata[0]}<extra></extra>",
         "legendgroup": "survey",
         "marker": {
          "color": "#8CC63E",
          "pattern": {
           "shape": ""
          }
         },
         "name": "survey",
         "offsetgroup": "survey",
         "orientation": "h",
         "showlegend": false,
         "textposition": "auto",
         "type": "bar",
         "x": [
          0.06599528954861185,
          0.029018878816894318,
          0.01873262706545691,
          0.20610861124291716,
          0.4449990655207971,
          0.0049884418254053054,
          0.22646999708274151,
          0.0036870888971757563
         ],
         "xaxis": "x",
         "y": [
          "1: walk",
          "2: bike",
          "3: sov",
          "4: hov 2",
          "5: hov 3+",
          "6: transit",
          "8: school bus",
          "9: tnc"
         ],
         "yaxis": "y"
        },
        {
         "alignmentgroup": "True",
         "customdata": [
          [
           14
          ],
          [
           4
          ],
          [
           38
          ],
          [
           22
          ],
          [
           2
          ]
         ],
         "hovertemplate": "source=survey<br>pptyp_label=child age 0-4<br>percentage=%{x}<br>mode_label=%{y}<br>sample count=%{customdata[0]}<extra></extra>",
         "legendgroup": "survey",
         "marker": {
          "color": "#8CC63E",
          "pattern": {
           "shape": ""
          }
         },
         "name": "survey",
         "offsetgroup": "survey",
         "orientation": "h",
         "showlegend": false,
         "textposition": "auto",
         "type": "bar",
         "x": [
          0.17044721396940235,
          0.0033014083542129563,
          0.45829710304866556,
          0.35590251700041886,
          0.012051757627300291
         ],
         "xaxis": "x2",
         "y": [
          "1: walk",
          "2: bike",
          "4: hov 2",
          "5: hov 3+",
          "8: school bus"
         ],
         "yaxis": "y2"
        },
        {
         "alignmentgroup": "True",
         "customdata": [
          [
           5
          ],
          [
           2
          ],
          [
           28
          ],
          [
           4
          ],
          [
           1
          ],
          [
           12
          ],
          [
           1
          ]
         ],
         "hovertemplate": "source=survey (2017/2019)<br>pptyp_label=full time worker<br>percentage=%{x}<br>mode_label=%{y}<br>sample count=%{customdata[0]}<extra></extra>",
         "legendgroup": "survey (2017/2019)",
         "marker": {
          "color": "#00A7A0",
          "pattern": {
           "shape": ""
          }
         },
         "name": "survey (2017/2019)",
         "offsetgroup": "survey (2017/2019)",
         "orientation": "h",
         "showlegend": true,
         "textposition": "auto",
         "type": "bar",
         "x": [
          0.005414517331390591,
          0.0034222479092115197,
          0.39031523955166636,
          0.014630058782598808,
          0.05124401088125255,
          0.5332892842487886,
          0.0016846412950915109
         ],
         "xaxis": "x7",
         "y": [
          "1: walk",
          "2: bike",
          "3: sov",
          "4: hov 2",
          "5: hov 3+",
          "6: transit",
          "9: tnc"
         ],
         "yaxis": "y7"
        },
        {
         "alignmentgroup": "True",
         "customdata": [
          [
           31
          ],
          [
           8
          ],
          [
           41
          ],
          [
           6
          ],
          [
           6
          ],
          [
           45
          ],
          [
           5
          ]
         ],
         "hovertemplate": "source=survey (2017/2019)<br>pptyp_label=part time worker<br>percentage=%{x}<br>mode_label=%{y}<br>sample count=%{customdata[0]}<extra></extra>",
         "legendgroup": "survey (2017/2019)",
         "marker": {
          "color": "#00A7A0",
          "pattern": {
           "shape": ""
          }
         },
         "name": "survey (2017/2019)",
         "offsetgroup": "survey (2017/2019)",
         "orientation": "h",
         "showlegend": false,
         "textposition": "auto",
         "type": "bar",
         "x": [
          0.038358058314825784,
          0.0020527787427273426,
          0.5453165772387534,
          0.11605554112194345,
          0.1279934205158591,
          0.15921786045865846,
          0.011005763607232422
         ],
         "xaxis": "x8",
         "y": [
          "1: walk",
          "2: bike",
          "3: sov",
          "4: hov 2",
          "5: hov 3+",
          "6: transit",
          "9: tnc"
         ],
         "yaxis": "y8"
        },
        {
         "alignmentgroup": "True",
         "customdata": [
          [
           3
          ],
          [
           2
          ],
          [
           2
          ],
          [
           6
          ]
         ],
         "hovertemplate": "source=survey (2017/2019)<br>pptyp_label=non-worker age 65+<br>percentage=%{x}<br>mode_label=%{y}<br>sample count=%{customdata[0]}<extra></extra>",
         "legendgroup": "survey (2017/2019)",
         "marker": {
          "color": "#00A7A0",
          "pattern": {
           "shape": ""
          }
         },
         "name": "survey (2017/2019)",
         "offsetgroup": "survey (2017/2019)",
         "orientation": "h",
         "showlegend": false,
         "textposition": "auto",
         "type": "bar",
         "x": [
          0.6178744845094011,
          0.07627070539370887,
          0.003289703429427176,
          0.30256510666746295
         ],
         "xaxis": "x5",
         "y": [
          "1: walk",
          "3: sov",
          "4: hov 2",
          "6: transit"
         ],
         "yaxis": "y5"
        },
        {
         "alignmentgroup": "True",
         "customdata": [
          [
           55
          ],
          [
           16
          ],
          [
           24
          ],
          [
           13
          ],
          [
           1
          ],
          [
           59
          ],
          [
           3
          ]
         ],
         "hovertemplate": "source=survey (2017/2019)<br>pptyp_label=other non-working adult<br>percentage=%{x}<br>mode_label=%{y}<br>sample count=%{customdata[0]}<extra></extra>",
         "legendgroup": "survey (2017/2019)",
         "marker": {
          "color": "#00A7A0",
          "pattern": {
           "shape": ""
          }
         },
         "name": "survey (2017/2019)",
         "offsetgroup": "survey (2017/2019)",
         "orientation": "h",
         "showlegend": false,
         "textposition": "auto",
         "type": "bar",
         "x": [
          0.07869682909858054,
          0.03297062198230709,
          0.4862866101622889,
          0.04433246419499283,
          0.00046992694694173186,
          0.35493835772036125,
          0.00230518989452768
         ],
         "xaxis": "x6",
         "y": [
          "1: walk",
          "2: bike",
          "3: sov",
          "4: hov 2",
          "5: hov 3+",
          "6: transit",
          "9: tnc"
         ],
         "yaxis": "y6"
        },
        {
         "alignmentgroup": "True",
         "customdata": [
          [
           16
          ],
          [
           1
          ],
          [
           27
          ],
          [
           32
          ],
          [
           16
          ],
          [
           17
          ],
          [
           14
          ]
         ],
         "hovertemplate": "source=survey (2017/2019)<br>pptyp_label=grade school student/child age 16+<br>percentage=%{x}<br>mode_label=%{y}<br>sample count=%{customdata[0]}<extra></extra>",
         "legendgroup": "survey (2017/2019)",
         "marker": {
          "color": "#00A7A0",
          "pattern": {
           "shape": ""
          }
         },
         "name": "survey (2017/2019)",
         "offsetgroup": "survey (2017/2019)",
         "orientation": "h",
         "showlegend": false,
         "textposition": "auto",
         "type": "bar",
         "x": [
          0.029694559413364248,
          0.0024023787837276303,
          0.2507426890727183,
          0.30369370705323806,
          0.31195143566336786,
          0.013084677971217538,
          0.08843055204236647
         ],
         "xaxis": "x4",
         "y": [
          "1: walk",
          "2: bike",
          "3: sov",
          "4: hov 2",
          "5: hov 3+",
          "6: transit",
          "8: school bus"
         ],
         "yaxis": "y4"
        },
        {
         "alignmentgroup": "True",
         "customdata": [
          [
           81
          ],
          [
           14
          ],
          [
           1
          ],
          [
           142
          ],
          [
           186
          ],
          [
           41
          ],
          [
           158
          ]
         ],
         "hovertemplate": "source=survey (2017/2019)<br>pptyp_label=child age 5-15<br>percentage=%{x}<br>mode_label=%{y}<br>sample count=%{customdata[0]}<extra></extra>",
         "legendgroup": "survey (2017/2019)",
         "marker": {
          "color": "#00A7A0",
          "pattern": {
           "shape": ""
          }
         },
         "name": "survey (2017/2019)",
         "offsetgroup": "survey (2017/2019)",
         "orientation": "h",
         "showlegend": false,
         "textposition": "auto",
         "type": "bar",
         "x": [
          0.11148119939452669,
          0.0072285591341874015,
          0.0004969441955314431,
          0.1391481642948986,
          0.425190164232229,
          0.06059458910809667,
          0.25586037964053027
         ],
         "xaxis": "x",
         "y": [
          "1: walk",
          "2: bike",
          "3: sov",
          "4: hov 2",
          "5: hov 3+",
          "6: transit",
          "8: school bus"
         ],
         "yaxis": "y"
        },
        {
         "alignmentgroup": "True",
         "customdata": [
          [
           16
          ],
          [
           3
          ],
          [
           89
          ],
          [
           79
          ],
          [
           6
          ],
          [
           1
          ]
         ],
         "hovertemplate": "source=survey (2017/2019)<br>pptyp_label=child age 0-4<br>percentage=%{x}<br>mode_label=%{y}<br>sample count=%{customdata[0]}<extra></extra>",
         "legendgroup": "survey (2017/2019)",
         "marker": {
          "color": "#00A7A0",
          "pattern": {
           "shape": ""
          }
         },
         "name": "survey (2017/2019)",
         "offsetgroup": "survey (2017/2019)",
         "orientation": "h",
         "showlegend": false,
         "textposition": "auto",
         "type": "bar",
         "x": [
          0.05584237030539819,
          0.0010195766415097172,
          0.35180928143895496,
          0.5894741269434776,
          0.0009622245904566673,
          0.0008924200802030262
         ],
         "xaxis": "x2",
         "y": [
          "1: walk",
          "2: bike",
          "4: hov 2",
          "5: hov 3+",
          "6: transit",
          "8: school bus"
         ],
         "yaxis": "y2"
        }
       ],
       "layout": {
        "annotations": [
         {
          "font": {},
          "showarrow": false,
          "text": "child age 5-15",
          "x": 0.245,
          "xanchor": "center",
          "xref": "paper",
          "y": 0.1975,
          "yanchor": "bottom",
          "yref": "paper"
         },
         {
          "font": {},
          "showarrow": false,
          "text": "child age 0-4",
          "x": 0.755,
          "xanchor": "center",
          "xref": "paper",
          "y": 0.1975,
          "yanchor": "bottom",
          "yref": "paper"
         },
         {
          "font": {},
          "showarrow": false,
          "text": "university student",
          "x": 0.245,
          "xanchor": "center",
          "xref": "paper",
          "y": 0.465,
          "yanchor": "bottom",
          "yref": "paper"
         },
         {
          "font": {},
          "showarrow": false,
          "text": "grade school student/child age 16+",
          "x": 0.755,
          "xanchor": "center",
          "xref": "paper",
          "y": 0.465,
          "yanchor": "bottom",
          "yref": "paper"
         },
         {
          "font": {},
          "showarrow": false,
          "text": "non-worker age 65+",
          "x": 0.245,
          "xanchor": "center",
          "xref": "paper",
          "y": 0.7325,
          "yanchor": "bottom",
          "yref": "paper"
         },
         {
          "font": {},
          "showarrow": false,
          "text": "other non-working adult",
          "x": 0.755,
          "xanchor": "center",
          "xref": "paper",
          "y": 0.7325,
          "yanchor": "bottom",
          "yref": "paper"
         },
         {
          "font": {},
          "showarrow": false,
          "text": "full time worker",
          "x": 0.245,
          "xanchor": "center",
          "xref": "paper",
          "y": 1,
          "yanchor": "bottom",
          "yref": "paper"
         },
         {
          "font": {},
          "showarrow": false,
          "text": "part time worker",
          "x": 0.755,
          "xanchor": "center",
          "xref": "paper",
          "y": 1,
          "yanchor": "bottom",
          "yref": "paper"
         }
        ],
        "barmode": "group",
        "height": 1000,
        "legend": {
         "title": {
          "text": "source"
         },
         "tracegroupgap": 0
        },
        "template": {
         "data": {
          "bar": [
           {
            "error_x": {
             "color": "rgb(36,36,36)"
            },
            "error_y": {
             "color": "rgb(36,36,36)"
            },
            "marker": {
             "line": {
              "color": "white",
              "width": 0.5
             },
             "pattern": {
              "fillmode": "overlay",
              "size": 10,
              "solidity": 0.2
             }
            },
            "type": "bar"
           }
          ],
          "barpolar": [
           {
            "marker": {
             "line": {
              "color": "white",
              "width": 0.5
             },
             "pattern": {
              "fillmode": "overlay",
              "size": 10,
              "solidity": 0.2
             }
            },
            "type": "barpolar"
           }
          ],
          "carpet": [
           {
            "aaxis": {
             "endlinecolor": "rgb(36,36,36)",
             "gridcolor": "white",
             "linecolor": "white",
             "minorgridcolor": "white",
             "startlinecolor": "rgb(36,36,36)"
            },
            "baxis": {
             "endlinecolor": "rgb(36,36,36)",
             "gridcolor": "white",
             "linecolor": "white",
             "minorgridcolor": "white",
             "startlinecolor": "rgb(36,36,36)"
            },
            "type": "carpet"
           }
          ],
          "choropleth": [
           {
            "colorbar": {
             "outlinewidth": 1,
             "tickcolor": "rgb(36,36,36)",
             "ticks": "outside"
            },
            "type": "choropleth"
           }
          ],
          "contour": [
           {
            "colorbar": {
             "outlinewidth": 1,
             "tickcolor": "rgb(36,36,36)",
             "ticks": "outside"
            },
            "colorscale": [
             [
              0,
              "#440154"
             ],
             [
              0.1111111111111111,
              "#482878"
             ],
             [
              0.2222222222222222,
              "#3e4989"
             ],
             [
              0.3333333333333333,
              "#31688e"
             ],
             [
              0.4444444444444444,
              "#26828e"
             ],
             [
              0.5555555555555556,
              "#1f9e89"
             ],
             [
              0.6666666666666666,
              "#35b779"
             ],
             [
              0.7777777777777778,
              "#6ece58"
             ],
             [
              0.8888888888888888,
              "#b5de2b"
             ],
             [
              1,
              "#fde725"
             ]
            ],
            "type": "contour"
           }
          ],
          "contourcarpet": [
           {
            "colorbar": {
             "outlinewidth": 1,
             "tickcolor": "rgb(36,36,36)",
             "ticks": "outside"
            },
            "type": "contourcarpet"
           }
          ],
          "heatmap": [
           {
            "colorbar": {
             "outlinewidth": 1,
             "tickcolor": "rgb(36,36,36)",
             "ticks": "outside"
            },
            "colorscale": [
             [
              0,
              "#440154"
             ],
             [
              0.1111111111111111,
              "#482878"
             ],
             [
              0.2222222222222222,
              "#3e4989"
             ],
             [
              0.3333333333333333,
              "#31688e"
             ],
             [
              0.4444444444444444,
              "#26828e"
             ],
             [
              0.5555555555555556,
              "#1f9e89"
             ],
             [
              0.6666666666666666,
              "#35b779"
             ],
             [
              0.7777777777777778,
              "#6ece58"
             ],
             [
              0.8888888888888888,
              "#b5de2b"
             ],
             [
              1,
              "#fde725"
             ]
            ],
            "type": "heatmap"
           }
          ],
          "heatmapgl": [
           {
            "colorbar": {
             "outlinewidth": 1,
             "tickcolor": "rgb(36,36,36)",
             "ticks": "outside"
            },
            "colorscale": [
             [
              0,
              "#440154"
             ],
             [
              0.1111111111111111,
              "#482878"
             ],
             [
              0.2222222222222222,
              "#3e4989"
             ],
             [
              0.3333333333333333,
              "#31688e"
             ],
             [
              0.4444444444444444,
              "#26828e"
             ],
             [
              0.5555555555555556,
              "#1f9e89"
             ],
             [
              0.6666666666666666,
              "#35b779"
             ],
             [
              0.7777777777777778,
              "#6ece58"
             ],
             [
              0.8888888888888888,
              "#b5de2b"
             ],
             [
              1,
              "#fde725"
             ]
            ],
            "type": "heatmapgl"
           }
          ],
          "histogram": [
           {
            "marker": {
             "line": {
              "color": "white",
              "width": 0.6
             }
            },
            "type": "histogram"
           }
          ],
          "histogram2d": [
           {
            "colorbar": {
             "outlinewidth": 1,
             "tickcolor": "rgb(36,36,36)",
             "ticks": "outside"
            },
            "colorscale": [
             [
              0,
              "#440154"
             ],
             [
              0.1111111111111111,
              "#482878"
             ],
             [
              0.2222222222222222,
              "#3e4989"
             ],
             [
              0.3333333333333333,
              "#31688e"
             ],
             [
              0.4444444444444444,
              "#26828e"
             ],
             [
              0.5555555555555556,
              "#1f9e89"
             ],
             [
              0.6666666666666666,
              "#35b779"
             ],
             [
              0.7777777777777778,
              "#6ece58"
             ],
             [
              0.8888888888888888,
              "#b5de2b"
             ],
             [
              1,
              "#fde725"
             ]
            ],
            "type": "histogram2d"
           }
          ],
          "histogram2dcontour": [
           {
            "colorbar": {
             "outlinewidth": 1,
             "tickcolor": "rgb(36,36,36)",
             "ticks": "outside"
            },
            "colorscale": [
             [
              0,
              "#440154"
             ],
             [
              0.1111111111111111,
              "#482878"
             ],
             [
              0.2222222222222222,
              "#3e4989"
             ],
             [
              0.3333333333333333,
              "#31688e"
             ],
             [
              0.4444444444444444,
              "#26828e"
             ],
             [
              0.5555555555555556,
              "#1f9e89"
             ],
             [
              0.6666666666666666,
              "#35b779"
             ],
             [
              0.7777777777777778,
              "#6ece58"
             ],
             [
              0.8888888888888888,
              "#b5de2b"
             ],
             [
              1,
              "#fde725"
             ]
            ],
            "type": "histogram2dcontour"
           }
          ],
          "mesh3d": [
           {
            "colorbar": {
             "outlinewidth": 1,
             "tickcolor": "rgb(36,36,36)",
             "ticks": "outside"
            },
            "type": "mesh3d"
           }
          ],
          "parcoords": [
           {
            "line": {
             "colorbar": {
              "outlinewidth": 1,
              "tickcolor": "rgb(36,36,36)",
              "ticks": "outside"
             }
            },
            "type": "parcoords"
           }
          ],
          "pie": [
           {
            "automargin": true,
            "type": "pie"
           }
          ],
          "scatter": [
           {
            "fillpattern": {
             "fillmode": "overlay",
             "size": 10,
             "solidity": 0.2
            },
            "type": "scatter"
           }
          ],
          "scatter3d": [
           {
            "line": {
             "colorbar": {
              "outlinewidth": 1,
              "tickcolor": "rgb(36,36,36)",
              "ticks": "outside"
             }
            },
            "marker": {
             "colorbar": {
              "outlinewidth": 1,
              "tickcolor": "rgb(36,36,36)",
              "ticks": "outside"
             }
            },
            "type": "scatter3d"
           }
          ],
          "scattercarpet": [
           {
            "marker": {
             "colorbar": {
              "outlinewidth": 1,
              "tickcolor": "rgb(36,36,36)",
              "ticks": "outside"
             }
            },
            "type": "scattercarpet"
           }
          ],
          "scattergeo": [
           {
            "marker": {
             "colorbar": {
              "outlinewidth": 1,
              "tickcolor": "rgb(36,36,36)",
              "ticks": "outside"
             }
            },
            "type": "scattergeo"
           }
          ],
          "scattergl": [
           {
            "marker": {
             "colorbar": {
              "outlinewidth": 1,
              "tickcolor": "rgb(36,36,36)",
              "ticks": "outside"
             }
            },
            "type": "scattergl"
           }
          ],
          "scattermapbox": [
           {
            "marker": {
             "colorbar": {
              "outlinewidth": 1,
              "tickcolor": "rgb(36,36,36)",
              "ticks": "outside"
             }
            },
            "type": "scattermapbox"
           }
          ],
          "scatterpolar": [
           {
            "marker": {
             "colorbar": {
              "outlinewidth": 1,
              "tickcolor": "rgb(36,36,36)",
              "ticks": "outside"
             }
            },
            "type": "scatterpolar"
           }
          ],
          "scatterpolargl": [
           {
            "marker": {
             "colorbar": {
              "outlinewidth": 1,
              "tickcolor": "rgb(36,36,36)",
              "ticks": "outside"
             }
            },
            "type": "scatterpolargl"
           }
          ],
          "scatterternary": [
           {
            "marker": {
             "colorbar": {
              "outlinewidth": 1,
              "tickcolor": "rgb(36,36,36)",
              "ticks": "outside"
             }
            },
            "type": "scatterternary"
           }
          ],
          "surface": [
           {
            "colorbar": {
             "outlinewidth": 1,
             "tickcolor": "rgb(36,36,36)",
             "ticks": "outside"
            },
            "colorscale": [
             [
              0,
              "#440154"
             ],
             [
              0.1111111111111111,
              "#482878"
             ],
             [
              0.2222222222222222,
              "#3e4989"
             ],
             [
              0.3333333333333333,
              "#31688e"
             ],
             [
              0.4444444444444444,
              "#26828e"
             ],
             [
              0.5555555555555556,
              "#1f9e89"
             ],
             [
              0.6666666666666666,
              "#35b779"
             ],
             [
              0.7777777777777778,
              "#6ece58"
             ],
             [
              0.8888888888888888,
              "#b5de2b"
             ],
             [
              1,
              "#fde725"
             ]
            ],
            "type": "surface"
           }
          ],
          "table": [
           {
            "cells": {
             "fill": {
              "color": "rgb(237,237,237)"
             },
             "line": {
              "color": "white"
             }
            },
            "header": {
             "fill": {
              "color": "rgb(217,217,217)"
             },
             "line": {
              "color": "white"
             }
            },
            "type": "table"
           }
          ]
         },
         "layout": {
          "annotationdefaults": {
           "arrowhead": 0,
           "arrowwidth": 1
          },
          "autotypenumbers": "strict",
          "coloraxis": {
           "colorbar": {
            "outlinewidth": 1,
            "tickcolor": "rgb(36,36,36)",
            "ticks": "outside"
           }
          },
          "colorscale": {
           "diverging": [
            [
             0,
             "rgb(103,0,31)"
            ],
            [
             0.1,
             "rgb(178,24,43)"
            ],
            [
             0.2,
             "rgb(214,96,77)"
            ],
            [
             0.3,
             "rgb(244,165,130)"
            ],
            [
             0.4,
             "rgb(253,219,199)"
            ],
            [
             0.5,
             "rgb(247,247,247)"
            ],
            [
             0.6,
             "rgb(209,229,240)"
            ],
            [
             0.7,
             "rgb(146,197,222)"
            ],
            [
             0.8,
             "rgb(67,147,195)"
            ],
            [
             0.9,
             "rgb(33,102,172)"
            ],
            [
             1,
             "rgb(5,48,97)"
            ]
           ],
           "sequential": [
            [
             0,
             "#440154"
            ],
            [
             0.1111111111111111,
             "#482878"
            ],
            [
             0.2222222222222222,
             "#3e4989"
            ],
            [
             0.3333333333333333,
             "#31688e"
            ],
            [
             0.4444444444444444,
             "#26828e"
            ],
            [
             0.5555555555555556,
             "#1f9e89"
            ],
            [
             0.6666666666666666,
             "#35b779"
            ],
            [
             0.7777777777777778,
             "#6ece58"
            ],
            [
             0.8888888888888888,
             "#b5de2b"
            ],
            [
             1,
             "#fde725"
            ]
           ],
           "sequentialminus": [
            [
             0,
             "#440154"
            ],
            [
             0.1111111111111111,
             "#482878"
            ],
            [
             0.2222222222222222,
             "#3e4989"
            ],
            [
             0.3333333333333333,
             "#31688e"
            ],
            [
             0.4444444444444444,
             "#26828e"
            ],
            [
             0.5555555555555556,
             "#1f9e89"
            ],
            [
             0.6666666666666666,
             "#35b779"
            ],
            [
             0.7777777777777778,
             "#6ece58"
            ],
            [
             0.8888888888888888,
             "#b5de2b"
            ],
            [
             1,
             "#fde725"
            ]
           ]
          },
          "colorway": [
           "#91268F",
           "#8CC63E",
           "#00A7A0",
           "#F05A28",
           "#4C4C4C",
           "#630460",
           "#9f3913",
           "#588527",
           "#00716c",
           "#3e4040"
          ],
          "font": {
           "color": "rgb(36,36,36)",
           "family": "Poppins",
           "size": 11
          },
          "geo": {
           "bgcolor": "white",
           "lakecolor": "white",
           "landcolor": "white",
           "showlakes": true,
           "showland": true,
           "subunitcolor": "white"
          },
          "hoverlabel": {
           "align": "left"
          },
          "hovermode": "closest",
          "mapbox": {
           "style": "light"
          },
          "paper_bgcolor": "white",
          "plot_bgcolor": "white",
          "polar": {
           "angularaxis": {
            "gridcolor": "rgb(232,232,232)",
            "linecolor": "rgb(36,36,36)",
            "showgrid": false,
            "showline": true,
            "ticks": "outside"
           },
           "bgcolor": "white",
           "radialaxis": {
            "gridcolor": "rgb(232,232,232)",
            "linecolor": "rgb(36,36,36)",
            "showgrid": false,
            "showline": true,
            "ticks": "outside"
           }
          },
          "scene": {
           "xaxis": {
            "backgroundcolor": "white",
            "gridcolor": "rgb(232,232,232)",
            "gridwidth": 2,
            "linecolor": "rgb(36,36,36)",
            "showbackground": true,
            "showgrid": false,
            "showline": true,
            "ticks": "outside",
            "zeroline": false,
            "zerolinecolor": "rgb(36,36,36)"
           },
           "yaxis": {
            "backgroundcolor": "white",
            "gridcolor": "rgb(232,232,232)",
            "gridwidth": 2,
            "linecolor": "rgb(36,36,36)",
            "showbackground": true,
            "showgrid": false,
            "showline": true,
            "ticks": "outside",
            "zeroline": false,
            "zerolinecolor": "rgb(36,36,36)"
           },
           "zaxis": {
            "backgroundcolor": "white",
            "gridcolor": "rgb(232,232,232)",
            "gridwidth": 2,
            "linecolor": "rgb(36,36,36)",
            "showbackground": true,
            "showgrid": false,
            "showline": true,
            "ticks": "outside",
            "zeroline": false,
            "zerolinecolor": "rgb(36,36,36)"
           }
          },
          "shapedefaults": {
           "fillcolor": "black",
           "line": {
            "width": 0
           },
           "opacity": 0.3
          },
          "ternary": {
           "aaxis": {
            "gridcolor": "rgb(232,232,232)",
            "linecolor": "rgb(36,36,36)",
            "showgrid": false,
            "showline": true,
            "ticks": "outside"
           },
           "baxis": {
            "gridcolor": "rgb(232,232,232)",
            "linecolor": "rgb(36,36,36)",
            "showgrid": false,
            "showline": true,
            "ticks": "outside"
           },
           "bgcolor": "white",
           "caxis": {
            "gridcolor": "rgb(232,232,232)",
            "linecolor": "rgb(36,36,36)",
            "showgrid": false,
            "showline": true,
            "ticks": "outside"
           }
          },
          "title": {
           "x": 0.05
          },
          "xaxis": {
           "automargin": true,
           "gridcolor": "rgb(232,232,232)",
           "linecolor": "rgb(36,36,36)",
           "showgrid": false,
           "showline": true,
           "ticks": "outside",
           "title": {
            "standoff": 15
           },
           "zeroline": false,
           "zerolinecolor": "rgb(36,36,36)"
          },
          "yaxis": {
           "automargin": true,
           "gridcolor": "rgb(232,232,232)",
           "linecolor": "rgb(36,36,36)",
           "showgrid": false,
           "showline": true,
           "ticks": "outside",
           "title": {
            "standoff": 15
           },
           "zeroline": false,
           "zerolinecolor": "rgb(36,36,36)"
          }
         }
        },
        "title": {
         "text": "school trip mode choice by person type"
        },
        "width": 800,
        "xaxis": {
         "anchor": "y",
         "domain": [
          0,
          0.49
         ],
         "tickformat": ".1%",
         "title": {
          "text": "percentage"
         }
        },
        "xaxis2": {
         "anchor": "y2",
         "domain": [
          0.51,
          1
         ],
         "matches": "x",
         "tickformat": ".1%",
         "title": {
          "text": "percentage"
         }
        },
        "xaxis3": {
         "anchor": "y3",
         "domain": [
          0,
          0.49
         ],
         "matches": "x",
         "showticklabels": false,
         "tickformat": ".1%"
        },
        "xaxis4": {
         "anchor": "y4",
         "domain": [
          0.51,
          1
         ],
         "matches": "x",
         "showticklabels": false,
         "tickformat": ".1%"
        },
        "xaxis5": {
         "anchor": "y5",
         "domain": [
          0,
          0.49
         ],
         "matches": "x",
         "showticklabels": false,
         "tickformat": ".1%"
        },
        "xaxis6": {
         "anchor": "y6",
         "domain": [
          0.51,
          1
         ],
         "matches": "x",
         "showticklabels": false,
         "tickformat": ".1%"
        },
        "xaxis7": {
         "anchor": "y7",
         "domain": [
          0,
          0.49
         ],
         "matches": "x",
         "showticklabels": false,
         "tickformat": ".1%"
        },
        "xaxis8": {
         "anchor": "y8",
         "domain": [
          0.51,
          1
         ],
         "matches": "x",
         "showticklabels": false,
         "tickformat": ".1%"
        },
        "yaxis": {
         "anchor": "x",
         "categoryarray": [
          "9: other–survey only",
          "8: school bus",
          "6: transit",
          "5: hov 3+",
          "4: hov 2",
          "3: sov",
          "2: bike",
          "1: walk"
         ],
         "categoryorder": "array",
         "domain": [
          0,
          0.1975
         ],
         "title": {
          "text": "mode_label"
         }
        },
        "yaxis2": {
         "anchor": "x2",
         "domain": [
          0,
          0.1975
         ],
         "matches": "y",
         "showticklabels": false
        },
        "yaxis3": {
         "anchor": "x3",
         "categoryarray": [
          "9: other–survey only",
          "8: school bus",
          "6: transit",
          "5: hov 3+",
          "4: hov 2",
          "3: sov",
          "2: bike",
          "1: walk"
         ],
         "categoryorder": "array",
         "domain": [
          0.2675,
          0.465
         ],
         "matches": "y",
         "title": {
          "text": "mode_label"
         }
        },
        "yaxis4": {
         "anchor": "x4",
         "domain": [
          0.2675,
          0.465
         ],
         "matches": "y",
         "showticklabels": false
        },
        "yaxis5": {
         "anchor": "x5",
         "categoryarray": [
          "9: other–survey only",
          "8: school bus",
          "6: transit",
          "5: hov 3+",
          "4: hov 2",
          "3: sov",
          "2: bike",
          "1: walk"
         ],
         "categoryorder": "array",
         "domain": [
          0.535,
          0.7325
         ],
         "matches": "y",
         "title": {
          "text": "mode_label"
         }
        },
        "yaxis6": {
         "anchor": "x6",
         "domain": [
          0.535,
          0.7325
         ],
         "matches": "y",
         "showticklabels": false
        },
        "yaxis7": {
         "anchor": "x7",
         "categoryarray": [
          "9: other–survey only",
          "8: school bus",
          "6: transit",
          "5: hov 3+",
          "4: hov 2",
          "3: sov",
          "2: bike",
          "1: walk"
         ],
         "categoryorder": "array",
         "domain": [
          0.8025,
          1
         ],
         "matches": "y",
         "title": {
          "text": "mode_label"
         }
        },
        "yaxis8": {
         "anchor": "x8",
         "domain": [
          0.8025,
          1
         ],
         "matches": "y",
         "showticklabels": false
        }
       }
      },
      "text/html": [
       "<div>                            <div id=\"85b71c2d-759e-4fc9-8a75-b9e847e12606\" class=\"plotly-graph-div\" style=\"height:1000px; width:800px;\"></div>            <script type=\"text/javascript\">                require([\"plotly\"], function(Plotly) {                    window.PLOTLYENV=window.PLOTLYENV || {};                                    if (document.getElementById(\"85b71c2d-759e-4fc9-8a75-b9e847e12606\")) {                    Plotly.newPlot(                        \"85b71c2d-759e-4fc9-8a75-b9e847e12606\",                        [{\"alignmentgroup\":\"True\",\"customdata\":[[35],[9],[320],[20],[22],[89]],\"hovertemplate\":\"source=model\\u003cbr\\u003epptyp_label=full time worker\\u003cbr\\u003epercentage=%{x}\\u003cbr\\u003emode_label=%{y}\\u003cbr\\u003esample count=%{customdata[0]}\\u003cextra\\u003e\\u003c\\u002fextra\\u003e\",\"legendgroup\":\"model\",\"marker\":{\"color\":\"#91268F\",\"pattern\":{\"shape\":\"\"}},\"name\":\"model\",\"offsetgroup\":\"model\",\"orientation\":\"h\",\"showlegend\":true,\"textposition\":\"auto\",\"x\":[0.0707070707070707,0.01818181818181818,0.6464646464646465,0.04040404040404041,0.044444444444444446,0.1797979797979798],\"xaxis\":\"x7\",\"y\":[\"1: walk\",\"2: bike\",\"3: sov\",\"4: hov 2\",\"5: hov 3+\",\"6: transit\"],\"yaxis\":\"y7\",\"type\":\"bar\"},{\"alignmentgroup\":\"True\",\"customdata\":[[2819],[781],[20537],[703],[682],[4807],[32]],\"hovertemplate\":\"source=model\\u003cbr\\u003epptyp_label=university student\\u003cbr\\u003epercentage=%{x}\\u003cbr\\u003emode_label=%{y}\\u003cbr\\u003esample count=%{customdata[0]}\\u003cextra\\u003e\\u003c\\u002fextra\\u003e\",\"legendgroup\":\"model\",\"marker\":{\"color\":\"#91268F\",\"pattern\":{\"shape\":\"\"}},\"name\":\"model\",\"offsetgroup\":\"model\",\"orientation\":\"h\",\"showlegend\":false,\"textposition\":\"auto\",\"x\":[0.09284937913770956,0.02572379038898587,0.6764269951582622,0.023154705049240804,0.022463028227001747,0.15832811830967358,0.0010539837291261816],\"xaxis\":\"x3\",\"y\":[\"1: walk\",\"2: bike\",\"3: sov\",\"4: hov 2\",\"5: hov 3+\",\"6: transit\",\"8: school bus\"],\"yaxis\":\"y3\",\"type\":\"bar\"},{\"alignmentgroup\":\"True\",\"customdata\":[[6991],[931],[42984],[10885],[10439],[5533],[9529],[4]],\"hovertemplate\":\"source=model\\u003cbr\\u003epptyp_label=grade school student\\u002fchild age 16+\\u003cbr\\u003epercentage=%{x}\\u003cbr\\u003emode_label=%{y}\\u003cbr\\u003esample count=%{customdata[0]}\\u003cextra\\u003e\\u003c\\u002fextra\\u003e\",\"legendgroup\":\"model\",\"marker\":{\"color\":\"#91268F\",\"pattern\":{\"shape\":\"\"}},\"name\":\"model\",\"offsetgroup\":\"model\",\"orientation\":\"h\",\"showlegend\":false,\"textposition\":\"auto\",\"x\":[0.08008385263929618,0.010664864369501465,0.49239369501466274,0.12469070747800587,0.11958165322580645,0.0633820564516129,0.10915734970674487,4.5821114369501466e-05],\"xaxis\":\"x4\",\"y\":[\"1: walk\",\"2: bike\",\"3: sov\",\"4: hov 2\",\"5: hov 3+\",\"6: transit\",\"8: school bus\",\"9: tnc\"],\"yaxis\":\"y4\",\"type\":\"bar\"},{\"alignmentgroup\":\"True\",\"customdata\":[[50153],[12219],[103926],[137702],[9990],[95345],[4]],\"hovertemplate\":\"source=model\\u003cbr\\u003epptyp_label=child age 5-15\\u003cbr\\u003epercentage=%{x}\\u003cbr\\u003emode_label=%{y}\\u003cbr\\u003esample count=%{customdata[0]}\\u003cextra\\u003e\\u003c\\u002fextra\\u003e\",\"legendgroup\":\"model\",\"marker\":{\"color\":\"#91268F\",\"pattern\":{\"shape\":\"\"}},\"name\":\"model\",\"offsetgroup\":\"model\",\"orientation\":\"h\",\"showlegend\":false,\"textposition\":\"auto\",\"x\":[0.12252191948482798,0.02985056395799081,0.25388736475146517,0.3364008804438375,0.024405199602285637,0.23292429990790028,9.771851692606862e-06],\"xaxis\":\"x\",\"y\":[\"1: walk\",\"2: bike\",\"4: hov 2\",\"5: hov 3+\",\"6: transit\",\"8: school bus\",\"9: tnc\"],\"yaxis\":\"y\",\"type\":\"bar\"},{\"alignmentgroup\":\"True\",\"customdata\":[[4426],[973],[18715],[23939],[56],[308]],\"hovertemplate\":\"source=model\\u003cbr\\u003epptyp_label=child age 0-4\\u003cbr\\u003epercentage=%{x}\\u003cbr\\u003emode_label=%{y}\\u003cbr\\u003esample count=%{customdata[0]}\\u003cextra\\u003e\\u003c\\u002fextra\\u003e\",\"legendgroup\":\"model\",\"marker\":{\"color\":\"#91268F\",\"pattern\":{\"shape\":\"\"}},\"name\":\"model\",\"offsetgroup\":\"model\",\"orientation\":\"h\",\"showlegend\":false,\"textposition\":\"auto\",\"x\":[0.09141417270793316,0.020096247185905778,0.3865377863147242,0.49443377326145777,0.0011566185430737137,0.0063614019869054255],\"xaxis\":\"x2\",\"y\":[\"1: walk\",\"2: bike\",\"4: hov 2\",\"5: hov 3+\",\"6: transit\",\"8: school bus\"],\"yaxis\":\"y2\",\"type\":\"bar\"},{\"alignmentgroup\":\"True\",\"customdata\":[[1],[1],[2],[2]],\"hovertemplate\":\"source=survey\\u003cbr\\u003epptyp_label=full time worker\\u003cbr\\u003epercentage=%{x}\\u003cbr\\u003emode_label=%{y}\\u003cbr\\u003esample count=%{customdata[0]}\\u003cextra\\u003e\\u003c\\u002fextra\\u003e\",\"legendgroup\":\"survey\",\"marker\":{\"color\":\"#8CC63E\",\"pattern\":{\"shape\":\"\"}},\"name\":\"survey\",\"offsetgroup\":\"survey\",\"orientation\":\"h\",\"showlegend\":true,\"textposition\":\"auto\",\"x\":[0.10082954503356263,0.03835932190695664,0.5227426743757321,0.3380684586837486],\"xaxis\":\"x7\",\"y\":[\"1: walk\",\"2: bike\",\"3: sov\",\"6: transit\"],\"yaxis\":\"y7\",\"type\":\"bar\"},{\"alignmentgroup\":\"True\",\"customdata\":[[1],[2],[1],[2]],\"hovertemplate\":\"source=survey\\u003cbr\\u003epptyp_label=part time worker\\u003cbr\\u003epercentage=%{x}\\u003cbr\\u003emode_label=%{y}\\u003cbr\\u003esample count=%{customdata[0]}\\u003cextra\\u003e\\u003c\\u002fextra\\u003e\",\"legendgroup\":\"survey\",\"marker\":{\"color\":\"#8CC63E\",\"pattern\":{\"shape\":\"\"}},\"name\":\"survey\",\"offsetgroup\":\"survey\",\"orientation\":\"h\",\"showlegend\":false,\"textposition\":\"auto\",\"x\":[0.03220429858398678,0.06541309410009602,0.015262411436399769,0.8871201958795175],\"xaxis\":\"x8\",\"y\":[\"1: walk\",\"3: sov\",\"4: hov 2\",\"6: transit\"],\"yaxis\":\"y8\",\"type\":\"bar\"},{\"alignmentgroup\":\"True\",\"customdata\":[[1]],\"hovertemplate\":\"source=survey\\u003cbr\\u003epptyp_label=non-worker age 65+\\u003cbr\\u003epercentage=%{x}\\u003cbr\\u003emode_label=%{y}\\u003cbr\\u003esample count=%{customdata[0]}\\u003cextra\\u003e\\u003c\\u002fextra\\u003e\",\"legendgroup\":\"survey\",\"marker\":{\"color\":\"#8CC63E\",\"pattern\":{\"shape\":\"\"}},\"name\":\"survey\",\"offsetgroup\":\"survey\",\"orientation\":\"h\",\"showlegend\":false,\"textposition\":\"auto\",\"x\":[1.0],\"xaxis\":\"x5\",\"y\":[\"3: sov\"],\"yaxis\":\"y5\",\"type\":\"bar\"},{\"alignmentgroup\":\"True\",\"customdata\":[[1],[2]],\"hovertemplate\":\"source=survey\\u003cbr\\u003epptyp_label=other non-working adult\\u003cbr\\u003epercentage=%{x}\\u003cbr\\u003emode_label=%{y}\\u003cbr\\u003esample count=%{customdata[0]}\\u003cextra\\u003e\\u003c\\u002fextra\\u003e\",\"legendgroup\":\"survey\",\"marker\":{\"color\":\"#8CC63E\",\"pattern\":{\"shape\":\"\"}},\"name\":\"survey\",\"offsetgroup\":\"survey\",\"orientation\":\"h\",\"showlegend\":false,\"textposition\":\"auto\",\"x\":[0.3852719806216891,0.6147280193783109],\"xaxis\":\"x6\",\"y\":[\"2: bike\",\"3: sov\"],\"yaxis\":\"y6\",\"type\":\"bar\"},{\"alignmentgroup\":\"True\",\"customdata\":[[17],[14],[2],[20],[2]],\"hovertemplate\":\"source=survey\\u003cbr\\u003epptyp_label=university student\\u003cbr\\u003epercentage=%{x}\\u003cbr\\u003emode_label=%{y}\\u003cbr\\u003esample count=%{customdata[0]}\\u003cextra\\u003e\\u003c\\u002fextra\\u003e\",\"legendgroup\":\"survey\",\"marker\":{\"color\":\"#8CC63E\",\"pattern\":{\"shape\":\"\"}},\"name\":\"survey\",\"offsetgroup\":\"survey\",\"orientation\":\"h\",\"showlegend\":false,\"textposition\":\"auto\",\"x\":[0.06569185501839649,0.7228939837340189,0.06678501512861577,0.11404926267279931,0.03057988344616957],\"xaxis\":\"x3\",\"y\":[\"1: walk\",\"3: sov\",\"4: hov 2\",\"6: transit\",\"9: tnc\"],\"yaxis\":\"y3\",\"type\":\"bar\"},{\"alignmentgroup\":\"True\",\"customdata\":[[7],[3],[27],[17],[8],[6],[8]],\"hovertemplate\":\"source=survey\\u003cbr\\u003epptyp_label=grade school student\\u002fchild age 16+\\u003cbr\\u003epercentage=%{x}\\u003cbr\\u003emode_label=%{y}\\u003cbr\\u003esample count=%{customdata[0]}\\u003cextra\\u003e\\u003c\\u002fextra\\u003e\",\"legendgroup\":\"survey\",\"marker\":{\"color\":\"#8CC63E\",\"pattern\":{\"shape\":\"\"}},\"name\":\"survey\",\"offsetgroup\":\"survey\",\"orientation\":\"h\",\"showlegend\":false,\"textposition\":\"auto\",\"x\":[0.04799060837915913,0.01719175165079648,0.37413756948112453,0.23167298895770944,0.13304657907777379,0.10984840425789225,0.08611209819554448],\"xaxis\":\"x4\",\"y\":[\"1: walk\",\"2: bike\",\"3: sov\",\"4: hov 2\",\"5: hov 3+\",\"6: transit\",\"8: school bus\"],\"yaxis\":\"y4\",\"type\":\"bar\"},{\"alignmentgroup\":\"True\",\"customdata\":[[59],[13],[3],[94],[131],[8],[123],[1]],\"hovertemplate\":\"source=survey\\u003cbr\\u003epptyp_label=child age 5-15\\u003cbr\\u003epercentage=%{x}\\u003cbr\\u003emode_label=%{y}\\u003cbr\\u003esample count=%{customdata[0]}\\u003cextra\\u003e\\u003c\\u002fextra\\u003e\",\"legendgroup\":\"survey\",\"marker\":{\"color\":\"#8CC63E\",\"pattern\":{\"shape\":\"\"}},\"name\":\"survey\",\"offsetgroup\":\"survey\",\"orientation\":\"h\",\"showlegend\":false,\"textposition\":\"auto\",\"x\":[0.06599528954861185,0.029018878816894318,0.01873262706545691,0.20610861124291716,0.4449990655207971,0.0049884418254053054,0.22646999708274151,0.0036870888971757563],\"xaxis\":\"x\",\"y\":[\"1: walk\",\"2: bike\",\"3: sov\",\"4: hov 2\",\"5: hov 3+\",\"6: transit\",\"8: school bus\",\"9: tnc\"],\"yaxis\":\"y\",\"type\":\"bar\"},{\"alignmentgroup\":\"True\",\"customdata\":[[14],[4],[38],[22],[2]],\"hovertemplate\":\"source=survey\\u003cbr\\u003epptyp_label=child age 0-4\\u003cbr\\u003epercentage=%{x}\\u003cbr\\u003emode_label=%{y}\\u003cbr\\u003esample count=%{customdata[0]}\\u003cextra\\u003e\\u003c\\u002fextra\\u003e\",\"legendgroup\":\"survey\",\"marker\":{\"color\":\"#8CC63E\",\"pattern\":{\"shape\":\"\"}},\"name\":\"survey\",\"offsetgroup\":\"survey\",\"orientation\":\"h\",\"showlegend\":false,\"textposition\":\"auto\",\"x\":[0.17044721396940235,0.0033014083542129563,0.45829710304866556,0.35590251700041886,0.012051757627300291],\"xaxis\":\"x2\",\"y\":[\"1: walk\",\"2: bike\",\"4: hov 2\",\"5: hov 3+\",\"8: school bus\"],\"yaxis\":\"y2\",\"type\":\"bar\"},{\"alignmentgroup\":\"True\",\"customdata\":[[5],[2],[28],[4],[1],[12],[1]],\"hovertemplate\":\"source=survey (2017\\u002f2019)\\u003cbr\\u003epptyp_label=full time worker\\u003cbr\\u003epercentage=%{x}\\u003cbr\\u003emode_label=%{y}\\u003cbr\\u003esample count=%{customdata[0]}\\u003cextra\\u003e\\u003c\\u002fextra\\u003e\",\"legendgroup\":\"survey (2017\\u002f2019)\",\"marker\":{\"color\":\"#00A7A0\",\"pattern\":{\"shape\":\"\"}},\"name\":\"survey (2017\\u002f2019)\",\"offsetgroup\":\"survey (2017\\u002f2019)\",\"orientation\":\"h\",\"showlegend\":true,\"textposition\":\"auto\",\"x\":[0.005414517331390591,0.0034222479092115197,0.39031523955166636,0.014630058782598808,0.05124401088125255,0.5332892842487886,0.0016846412950915109],\"xaxis\":\"x7\",\"y\":[\"1: walk\",\"2: bike\",\"3: sov\",\"4: hov 2\",\"5: hov 3+\",\"6: transit\",\"9: tnc\"],\"yaxis\":\"y7\",\"type\":\"bar\"},{\"alignmentgroup\":\"True\",\"customdata\":[[31],[8],[41],[6],[6],[45],[5]],\"hovertemplate\":\"source=survey (2017\\u002f2019)\\u003cbr\\u003epptyp_label=part time worker\\u003cbr\\u003epercentage=%{x}\\u003cbr\\u003emode_label=%{y}\\u003cbr\\u003esample count=%{customdata[0]}\\u003cextra\\u003e\\u003c\\u002fextra\\u003e\",\"legendgroup\":\"survey (2017\\u002f2019)\",\"marker\":{\"color\":\"#00A7A0\",\"pattern\":{\"shape\":\"\"}},\"name\":\"survey (2017\\u002f2019)\",\"offsetgroup\":\"survey (2017\\u002f2019)\",\"orientation\":\"h\",\"showlegend\":false,\"textposition\":\"auto\",\"x\":[0.038358058314825784,0.0020527787427273426,0.5453165772387534,0.11605554112194345,0.1279934205158591,0.15921786045865846,0.011005763607232422],\"xaxis\":\"x8\",\"y\":[\"1: walk\",\"2: bike\",\"3: sov\",\"4: hov 2\",\"5: hov 3+\",\"6: transit\",\"9: tnc\"],\"yaxis\":\"y8\",\"type\":\"bar\"},{\"alignmentgroup\":\"True\",\"customdata\":[[3],[2],[2],[6]],\"hovertemplate\":\"source=survey (2017\\u002f2019)\\u003cbr\\u003epptyp_label=non-worker age 65+\\u003cbr\\u003epercentage=%{x}\\u003cbr\\u003emode_label=%{y}\\u003cbr\\u003esample count=%{customdata[0]}\\u003cextra\\u003e\\u003c\\u002fextra\\u003e\",\"legendgroup\":\"survey (2017\\u002f2019)\",\"marker\":{\"color\":\"#00A7A0\",\"pattern\":{\"shape\":\"\"}},\"name\":\"survey (2017\\u002f2019)\",\"offsetgroup\":\"survey (2017\\u002f2019)\",\"orientation\":\"h\",\"showlegend\":false,\"textposition\":\"auto\",\"x\":[0.6178744845094011,0.07627070539370887,0.003289703429427176,0.30256510666746295],\"xaxis\":\"x5\",\"y\":[\"1: walk\",\"3: sov\",\"4: hov 2\",\"6: transit\"],\"yaxis\":\"y5\",\"type\":\"bar\"},{\"alignmentgroup\":\"True\",\"customdata\":[[55],[16],[24],[13],[1],[59],[3]],\"hovertemplate\":\"source=survey (2017\\u002f2019)\\u003cbr\\u003epptyp_label=other non-working adult\\u003cbr\\u003epercentage=%{x}\\u003cbr\\u003emode_label=%{y}\\u003cbr\\u003esample count=%{customdata[0]}\\u003cextra\\u003e\\u003c\\u002fextra\\u003e\",\"legendgroup\":\"survey (2017\\u002f2019)\",\"marker\":{\"color\":\"#00A7A0\",\"pattern\":{\"shape\":\"\"}},\"name\":\"survey (2017\\u002f2019)\",\"offsetgroup\":\"survey (2017\\u002f2019)\",\"orientation\":\"h\",\"showlegend\":false,\"textposition\":\"auto\",\"x\":[0.07869682909858054,0.03297062198230709,0.4862866101622889,0.04433246419499283,0.00046992694694173186,0.35493835772036125,0.00230518989452768],\"xaxis\":\"x6\",\"y\":[\"1: walk\",\"2: bike\",\"3: sov\",\"4: hov 2\",\"5: hov 3+\",\"6: transit\",\"9: tnc\"],\"yaxis\":\"y6\",\"type\":\"bar\"},{\"alignmentgroup\":\"True\",\"customdata\":[[16],[1],[27],[32],[16],[17],[14]],\"hovertemplate\":\"source=survey (2017\\u002f2019)\\u003cbr\\u003epptyp_label=grade school student\\u002fchild age 16+\\u003cbr\\u003epercentage=%{x}\\u003cbr\\u003emode_label=%{y}\\u003cbr\\u003esample count=%{customdata[0]}\\u003cextra\\u003e\\u003c\\u002fextra\\u003e\",\"legendgroup\":\"survey (2017\\u002f2019)\",\"marker\":{\"color\":\"#00A7A0\",\"pattern\":{\"shape\":\"\"}},\"name\":\"survey (2017\\u002f2019)\",\"offsetgroup\":\"survey (2017\\u002f2019)\",\"orientation\":\"h\",\"showlegend\":false,\"textposition\":\"auto\",\"x\":[0.029694559413364248,0.0024023787837276303,0.2507426890727183,0.30369370705323806,0.31195143566336786,0.013084677971217538,0.08843055204236647],\"xaxis\":\"x4\",\"y\":[\"1: walk\",\"2: bike\",\"3: sov\",\"4: hov 2\",\"5: hov 3+\",\"6: transit\",\"8: school bus\"],\"yaxis\":\"y4\",\"type\":\"bar\"},{\"alignmentgroup\":\"True\",\"customdata\":[[81],[14],[1],[142],[186],[41],[158]],\"hovertemplate\":\"source=survey (2017\\u002f2019)\\u003cbr\\u003epptyp_label=child age 5-15\\u003cbr\\u003epercentage=%{x}\\u003cbr\\u003emode_label=%{y}\\u003cbr\\u003esample count=%{customdata[0]}\\u003cextra\\u003e\\u003c\\u002fextra\\u003e\",\"legendgroup\":\"survey (2017\\u002f2019)\",\"marker\":{\"color\":\"#00A7A0\",\"pattern\":{\"shape\":\"\"}},\"name\":\"survey (2017\\u002f2019)\",\"offsetgroup\":\"survey (2017\\u002f2019)\",\"orientation\":\"h\",\"showlegend\":false,\"textposition\":\"auto\",\"x\":[0.11148119939452669,0.0072285591341874015,0.0004969441955314431,0.1391481642948986,0.425190164232229,0.06059458910809667,0.25586037964053027],\"xaxis\":\"x\",\"y\":[\"1: walk\",\"2: bike\",\"3: sov\",\"4: hov 2\",\"5: hov 3+\",\"6: transit\",\"8: school bus\"],\"yaxis\":\"y\",\"type\":\"bar\"},{\"alignmentgroup\":\"True\",\"customdata\":[[16],[3],[89],[79],[6],[1]],\"hovertemplate\":\"source=survey (2017\\u002f2019)\\u003cbr\\u003epptyp_label=child age 0-4\\u003cbr\\u003epercentage=%{x}\\u003cbr\\u003emode_label=%{y}\\u003cbr\\u003esample count=%{customdata[0]}\\u003cextra\\u003e\\u003c\\u002fextra\\u003e\",\"legendgroup\":\"survey (2017\\u002f2019)\",\"marker\":{\"color\":\"#00A7A0\",\"pattern\":{\"shape\":\"\"}},\"name\":\"survey (2017\\u002f2019)\",\"offsetgroup\":\"survey (2017\\u002f2019)\",\"orientation\":\"h\",\"showlegend\":false,\"textposition\":\"auto\",\"x\":[0.05584237030539819,0.0010195766415097172,0.35180928143895496,0.5894741269434776,0.0009622245904566673,0.0008924200802030262],\"xaxis\":\"x2\",\"y\":[\"1: walk\",\"2: bike\",\"4: hov 2\",\"5: hov 3+\",\"6: transit\",\"8: school bus\"],\"yaxis\":\"y2\",\"type\":\"bar\"}],                        {\"template\":{\"data\":{\"barpolar\":[{\"marker\":{\"line\":{\"color\":\"white\",\"width\":0.5},\"pattern\":{\"fillmode\":\"overlay\",\"size\":10,\"solidity\":0.2}},\"type\":\"barpolar\"}],\"bar\":[{\"error_x\":{\"color\":\"rgb(36,36,36)\"},\"error_y\":{\"color\":\"rgb(36,36,36)\"},\"marker\":{\"line\":{\"color\":\"white\",\"width\":0.5},\"pattern\":{\"fillmode\":\"overlay\",\"size\":10,\"solidity\":0.2}},\"type\":\"bar\"}],\"carpet\":[{\"aaxis\":{\"endlinecolor\":\"rgb(36,36,36)\",\"gridcolor\":\"white\",\"linecolor\":\"white\",\"minorgridcolor\":\"white\",\"startlinecolor\":\"rgb(36,36,36)\"},\"baxis\":{\"endlinecolor\":\"rgb(36,36,36)\",\"gridcolor\":\"white\",\"linecolor\":\"white\",\"minorgridcolor\":\"white\",\"startlinecolor\":\"rgb(36,36,36)\"},\"type\":\"carpet\"}],\"choropleth\":[{\"colorbar\":{\"outlinewidth\":1,\"tickcolor\":\"rgb(36,36,36)\",\"ticks\":\"outside\"},\"type\":\"choropleth\"}],\"contourcarpet\":[{\"colorbar\":{\"outlinewidth\":1,\"tickcolor\":\"rgb(36,36,36)\",\"ticks\":\"outside\"},\"type\":\"contourcarpet\"}],\"contour\":[{\"colorbar\":{\"outlinewidth\":1,\"tickcolor\":\"rgb(36,36,36)\",\"ticks\":\"outside\"},\"colorscale\":[[0.0,\"#440154\"],[0.1111111111111111,\"#482878\"],[0.2222222222222222,\"#3e4989\"],[0.3333333333333333,\"#31688e\"],[0.4444444444444444,\"#26828e\"],[0.5555555555555556,\"#1f9e89\"],[0.6666666666666666,\"#35b779\"],[0.7777777777777778,\"#6ece58\"],[0.8888888888888888,\"#b5de2b\"],[1.0,\"#fde725\"]],\"type\":\"contour\"}],\"heatmapgl\":[{\"colorbar\":{\"outlinewidth\":1,\"tickcolor\":\"rgb(36,36,36)\",\"ticks\":\"outside\"},\"colorscale\":[[0.0,\"#440154\"],[0.1111111111111111,\"#482878\"],[0.2222222222222222,\"#3e4989\"],[0.3333333333333333,\"#31688e\"],[0.4444444444444444,\"#26828e\"],[0.5555555555555556,\"#1f9e89\"],[0.6666666666666666,\"#35b779\"],[0.7777777777777778,\"#6ece58\"],[0.8888888888888888,\"#b5de2b\"],[1.0,\"#fde725\"]],\"type\":\"heatmapgl\"}],\"heatmap\":[{\"colorbar\":{\"outlinewidth\":1,\"tickcolor\":\"rgb(36,36,36)\",\"ticks\":\"outside\"},\"colorscale\":[[0.0,\"#440154\"],[0.1111111111111111,\"#482878\"],[0.2222222222222222,\"#3e4989\"],[0.3333333333333333,\"#31688e\"],[0.4444444444444444,\"#26828e\"],[0.5555555555555556,\"#1f9e89\"],[0.6666666666666666,\"#35b779\"],[0.7777777777777778,\"#6ece58\"],[0.8888888888888888,\"#b5de2b\"],[1.0,\"#fde725\"]],\"type\":\"heatmap\"}],\"histogram2dcontour\":[{\"colorbar\":{\"outlinewidth\":1,\"tickcolor\":\"rgb(36,36,36)\",\"ticks\":\"outside\"},\"colorscale\":[[0.0,\"#440154\"],[0.1111111111111111,\"#482878\"],[0.2222222222222222,\"#3e4989\"],[0.3333333333333333,\"#31688e\"],[0.4444444444444444,\"#26828e\"],[0.5555555555555556,\"#1f9e89\"],[0.6666666666666666,\"#35b779\"],[0.7777777777777778,\"#6ece58\"],[0.8888888888888888,\"#b5de2b\"],[1.0,\"#fde725\"]],\"type\":\"histogram2dcontour\"}],\"histogram2d\":[{\"colorbar\":{\"outlinewidth\":1,\"tickcolor\":\"rgb(36,36,36)\",\"ticks\":\"outside\"},\"colorscale\":[[0.0,\"#440154\"],[0.1111111111111111,\"#482878\"],[0.2222222222222222,\"#3e4989\"],[0.3333333333333333,\"#31688e\"],[0.4444444444444444,\"#26828e\"],[0.5555555555555556,\"#1f9e89\"],[0.6666666666666666,\"#35b779\"],[0.7777777777777778,\"#6ece58\"],[0.8888888888888888,\"#b5de2b\"],[1.0,\"#fde725\"]],\"type\":\"histogram2d\"}],\"histogram\":[{\"marker\":{\"line\":{\"color\":\"white\",\"width\":0.6}},\"type\":\"histogram\"}],\"mesh3d\":[{\"colorbar\":{\"outlinewidth\":1,\"tickcolor\":\"rgb(36,36,36)\",\"ticks\":\"outside\"},\"type\":\"mesh3d\"}],\"parcoords\":[{\"line\":{\"colorbar\":{\"outlinewidth\":1,\"tickcolor\":\"rgb(36,36,36)\",\"ticks\":\"outside\"}},\"type\":\"parcoords\"}],\"pie\":[{\"automargin\":true,\"type\":\"pie\"}],\"scatter3d\":[{\"line\":{\"colorbar\":{\"outlinewidth\":1,\"tickcolor\":\"rgb(36,36,36)\",\"ticks\":\"outside\"}},\"marker\":{\"colorbar\":{\"outlinewidth\":1,\"tickcolor\":\"rgb(36,36,36)\",\"ticks\":\"outside\"}},\"type\":\"scatter3d\"}],\"scattercarpet\":[{\"marker\":{\"colorbar\":{\"outlinewidth\":1,\"tickcolor\":\"rgb(36,36,36)\",\"ticks\":\"outside\"}},\"type\":\"scattercarpet\"}],\"scattergeo\":[{\"marker\":{\"colorbar\":{\"outlinewidth\":1,\"tickcolor\":\"rgb(36,36,36)\",\"ticks\":\"outside\"}},\"type\":\"scattergeo\"}],\"scattergl\":[{\"marker\":{\"colorbar\":{\"outlinewidth\":1,\"tickcolor\":\"rgb(36,36,36)\",\"ticks\":\"outside\"}},\"type\":\"scattergl\"}],\"scattermapbox\":[{\"marker\":{\"colorbar\":{\"outlinewidth\":1,\"tickcolor\":\"rgb(36,36,36)\",\"ticks\":\"outside\"}},\"type\":\"scattermapbox\"}],\"scatterpolargl\":[{\"marker\":{\"colorbar\":{\"outlinewidth\":1,\"tickcolor\":\"rgb(36,36,36)\",\"ticks\":\"outside\"}},\"type\":\"scatterpolargl\"}],\"scatterpolar\":[{\"marker\":{\"colorbar\":{\"outlinewidth\":1,\"tickcolor\":\"rgb(36,36,36)\",\"ticks\":\"outside\"}},\"type\":\"scatterpolar\"}],\"scatter\":[{\"fillpattern\":{\"fillmode\":\"overlay\",\"size\":10,\"solidity\":0.2},\"type\":\"scatter\"}],\"scatterternary\":[{\"marker\":{\"colorbar\":{\"outlinewidth\":1,\"tickcolor\":\"rgb(36,36,36)\",\"ticks\":\"outside\"}},\"type\":\"scatterternary\"}],\"surface\":[{\"colorbar\":{\"outlinewidth\":1,\"tickcolor\":\"rgb(36,36,36)\",\"ticks\":\"outside\"},\"colorscale\":[[0.0,\"#440154\"],[0.1111111111111111,\"#482878\"],[0.2222222222222222,\"#3e4989\"],[0.3333333333333333,\"#31688e\"],[0.4444444444444444,\"#26828e\"],[0.5555555555555556,\"#1f9e89\"],[0.6666666666666666,\"#35b779\"],[0.7777777777777778,\"#6ece58\"],[0.8888888888888888,\"#b5de2b\"],[1.0,\"#fde725\"]],\"type\":\"surface\"}],\"table\":[{\"cells\":{\"fill\":{\"color\":\"rgb(237,237,237)\"},\"line\":{\"color\":\"white\"}},\"header\":{\"fill\":{\"color\":\"rgb(217,217,217)\"},\"line\":{\"color\":\"white\"}},\"type\":\"table\"}]},\"layout\":{\"annotationdefaults\":{\"arrowhead\":0,\"arrowwidth\":1},\"autotypenumbers\":\"strict\",\"coloraxis\":{\"colorbar\":{\"outlinewidth\":1,\"tickcolor\":\"rgb(36,36,36)\",\"ticks\":\"outside\"}},\"colorscale\":{\"diverging\":[[0.0,\"rgb(103,0,31)\"],[0.1,\"rgb(178,24,43)\"],[0.2,\"rgb(214,96,77)\"],[0.3,\"rgb(244,165,130)\"],[0.4,\"rgb(253,219,199)\"],[0.5,\"rgb(247,247,247)\"],[0.6,\"rgb(209,229,240)\"],[0.7,\"rgb(146,197,222)\"],[0.8,\"rgb(67,147,195)\"],[0.9,\"rgb(33,102,172)\"],[1.0,\"rgb(5,48,97)\"]],\"sequential\":[[0.0,\"#440154\"],[0.1111111111111111,\"#482878\"],[0.2222222222222222,\"#3e4989\"],[0.3333333333333333,\"#31688e\"],[0.4444444444444444,\"#26828e\"],[0.5555555555555556,\"#1f9e89\"],[0.6666666666666666,\"#35b779\"],[0.7777777777777778,\"#6ece58\"],[0.8888888888888888,\"#b5de2b\"],[1.0,\"#fde725\"]],\"sequentialminus\":[[0.0,\"#440154\"],[0.1111111111111111,\"#482878\"],[0.2222222222222222,\"#3e4989\"],[0.3333333333333333,\"#31688e\"],[0.4444444444444444,\"#26828e\"],[0.5555555555555556,\"#1f9e89\"],[0.6666666666666666,\"#35b779\"],[0.7777777777777778,\"#6ece58\"],[0.8888888888888888,\"#b5de2b\"],[1.0,\"#fde725\"]]},\"colorway\":[\"#91268F\",\"#8CC63E\",\"#00A7A0\",\"#F05A28\",\"#4C4C4C\",\"#630460\",\"#9f3913\",\"#588527\",\"#00716c\",\"#3e4040\"],\"font\":{\"color\":\"rgb(36,36,36)\",\"family\":\"Poppins\",\"size\":11},\"geo\":{\"bgcolor\":\"white\",\"lakecolor\":\"white\",\"landcolor\":\"white\",\"showlakes\":true,\"showland\":true,\"subunitcolor\":\"white\"},\"hoverlabel\":{\"align\":\"left\"},\"hovermode\":\"closest\",\"mapbox\":{\"style\":\"light\"},\"paper_bgcolor\":\"white\",\"plot_bgcolor\":\"white\",\"polar\":{\"angularaxis\":{\"gridcolor\":\"rgb(232,232,232)\",\"linecolor\":\"rgb(36,36,36)\",\"showgrid\":false,\"showline\":true,\"ticks\":\"outside\"},\"bgcolor\":\"white\",\"radialaxis\":{\"gridcolor\":\"rgb(232,232,232)\",\"linecolor\":\"rgb(36,36,36)\",\"showgrid\":false,\"showline\":true,\"ticks\":\"outside\"}},\"scene\":{\"xaxis\":{\"backgroundcolor\":\"white\",\"gridcolor\":\"rgb(232,232,232)\",\"gridwidth\":2,\"linecolor\":\"rgb(36,36,36)\",\"showbackground\":true,\"showgrid\":false,\"showline\":true,\"ticks\":\"outside\",\"zeroline\":false,\"zerolinecolor\":\"rgb(36,36,36)\"},\"yaxis\":{\"backgroundcolor\":\"white\",\"gridcolor\":\"rgb(232,232,232)\",\"gridwidth\":2,\"linecolor\":\"rgb(36,36,36)\",\"showbackground\":true,\"showgrid\":false,\"showline\":true,\"ticks\":\"outside\",\"zeroline\":false,\"zerolinecolor\":\"rgb(36,36,36)\"},\"zaxis\":{\"backgroundcolor\":\"white\",\"gridcolor\":\"rgb(232,232,232)\",\"gridwidth\":2,\"linecolor\":\"rgb(36,36,36)\",\"showbackground\":true,\"showgrid\":false,\"showline\":true,\"ticks\":\"outside\",\"zeroline\":false,\"zerolinecolor\":\"rgb(36,36,36)\"}},\"shapedefaults\":{\"fillcolor\":\"black\",\"line\":{\"width\":0},\"opacity\":0.3},\"ternary\":{\"aaxis\":{\"gridcolor\":\"rgb(232,232,232)\",\"linecolor\":\"rgb(36,36,36)\",\"showgrid\":false,\"showline\":true,\"ticks\":\"outside\"},\"baxis\":{\"gridcolor\":\"rgb(232,232,232)\",\"linecolor\":\"rgb(36,36,36)\",\"showgrid\":false,\"showline\":true,\"ticks\":\"outside\"},\"bgcolor\":\"white\",\"caxis\":{\"gridcolor\":\"rgb(232,232,232)\",\"linecolor\":\"rgb(36,36,36)\",\"showgrid\":false,\"showline\":true,\"ticks\":\"outside\"}},\"title\":{\"x\":0.05},\"xaxis\":{\"automargin\":true,\"gridcolor\":\"rgb(232,232,232)\",\"linecolor\":\"rgb(36,36,36)\",\"showgrid\":false,\"showline\":true,\"ticks\":\"outside\",\"title\":{\"standoff\":15},\"zeroline\":false,\"zerolinecolor\":\"rgb(36,36,36)\"},\"yaxis\":{\"automargin\":true,\"gridcolor\":\"rgb(232,232,232)\",\"linecolor\":\"rgb(36,36,36)\",\"showgrid\":false,\"showline\":true,\"ticks\":\"outside\",\"title\":{\"standoff\":15},\"zeroline\":false,\"zerolinecolor\":\"rgb(36,36,36)\"}}},\"xaxis\":{\"anchor\":\"y\",\"domain\":[0.0,0.49],\"title\":{\"text\":\"percentage\"},\"tickformat\":\".1%\"},\"yaxis\":{\"anchor\":\"x\",\"domain\":[0.0,0.1975],\"title\":{\"text\":\"mode_label\"},\"categoryorder\":\"array\",\"categoryarray\":[\"9: other\\u2013survey only\",\"8: school bus\",\"6: transit\",\"5: hov 3+\",\"4: hov 2\",\"3: sov\",\"2: bike\",\"1: walk\"]},\"xaxis2\":{\"anchor\":\"y2\",\"domain\":[0.51,1.0],\"matches\":\"x\",\"title\":{\"text\":\"percentage\"},\"tickformat\":\".1%\"},\"yaxis2\":{\"anchor\":\"x2\",\"domain\":[0.0,0.1975],\"matches\":\"y\",\"showticklabels\":false},\"xaxis3\":{\"anchor\":\"y3\",\"domain\":[0.0,0.49],\"matches\":\"x\",\"showticklabels\":false,\"tickformat\":\".1%\"},\"yaxis3\":{\"anchor\":\"x3\",\"domain\":[0.2675,0.465],\"matches\":\"y\",\"title\":{\"text\":\"mode_label\"},\"categoryorder\":\"array\",\"categoryarray\":[\"9: other\\u2013survey only\",\"8: school bus\",\"6: transit\",\"5: hov 3+\",\"4: hov 2\",\"3: sov\",\"2: bike\",\"1: walk\"]},\"xaxis4\":{\"anchor\":\"y4\",\"domain\":[0.51,1.0],\"matches\":\"x\",\"showticklabels\":false,\"tickformat\":\".1%\"},\"yaxis4\":{\"anchor\":\"x4\",\"domain\":[0.2675,0.465],\"matches\":\"y\",\"showticklabels\":false},\"xaxis5\":{\"anchor\":\"y5\",\"domain\":[0.0,0.49],\"matches\":\"x\",\"showticklabels\":false,\"tickformat\":\".1%\"},\"yaxis5\":{\"anchor\":\"x5\",\"domain\":[0.535,0.7325],\"matches\":\"y\",\"title\":{\"text\":\"mode_label\"},\"categoryorder\":\"array\",\"categoryarray\":[\"9: other\\u2013survey only\",\"8: school bus\",\"6: transit\",\"5: hov 3+\",\"4: hov 2\",\"3: sov\",\"2: bike\",\"1: walk\"]},\"xaxis6\":{\"anchor\":\"y6\",\"domain\":[0.51,1.0],\"matches\":\"x\",\"showticklabels\":false,\"tickformat\":\".1%\"},\"yaxis6\":{\"anchor\":\"x6\",\"domain\":[0.535,0.7325],\"matches\":\"y\",\"showticklabels\":false},\"xaxis7\":{\"anchor\":\"y7\",\"domain\":[0.0,0.49],\"matches\":\"x\",\"showticklabels\":false,\"tickformat\":\".1%\"},\"yaxis7\":{\"anchor\":\"x7\",\"domain\":[0.8025,1.0],\"matches\":\"y\",\"title\":{\"text\":\"mode_label\"},\"categoryorder\":\"array\",\"categoryarray\":[\"9: other\\u2013survey only\",\"8: school bus\",\"6: transit\",\"5: hov 3+\",\"4: hov 2\",\"3: sov\",\"2: bike\",\"1: walk\"]},\"xaxis8\":{\"anchor\":\"y8\",\"domain\":[0.51,1.0],\"matches\":\"x\",\"showticklabels\":false,\"tickformat\":\".1%\"},\"yaxis8\":{\"anchor\":\"x8\",\"domain\":[0.8025,1.0],\"matches\":\"y\",\"showticklabels\":false},\"annotations\":[{\"font\":{},\"showarrow\":false,\"text\":\"child age 5-15\",\"x\":0.245,\"xanchor\":\"center\",\"xref\":\"paper\",\"y\":0.1975,\"yanchor\":\"bottom\",\"yref\":\"paper\"},{\"font\":{},\"showarrow\":false,\"text\":\"child age 0-4\",\"x\":0.755,\"xanchor\":\"center\",\"xref\":\"paper\",\"y\":0.1975,\"yanchor\":\"bottom\",\"yref\":\"paper\"},{\"font\":{},\"showarrow\":false,\"text\":\"university student\",\"x\":0.245,\"xanchor\":\"center\",\"xref\":\"paper\",\"y\":0.465,\"yanchor\":\"bottom\",\"yref\":\"paper\"},{\"font\":{},\"showarrow\":false,\"text\":\"grade school student\\u002fchild age 16+\",\"x\":0.755,\"xanchor\":\"center\",\"xref\":\"paper\",\"y\":0.465,\"yanchor\":\"bottom\",\"yref\":\"paper\"},{\"font\":{},\"showarrow\":false,\"text\":\"non-worker age 65+\",\"x\":0.245,\"xanchor\":\"center\",\"xref\":\"paper\",\"y\":0.7325,\"yanchor\":\"bottom\",\"yref\":\"paper\"},{\"font\":{},\"showarrow\":false,\"text\":\"other non-working adult\",\"x\":0.755,\"xanchor\":\"center\",\"xref\":\"paper\",\"y\":0.7325,\"yanchor\":\"bottom\",\"yref\":\"paper\"},{\"font\":{},\"showarrow\":false,\"text\":\"full time worker\",\"x\":0.245,\"xanchor\":\"center\",\"xref\":\"paper\",\"y\":1.0,\"yanchor\":\"bottom\",\"yref\":\"paper\"},{\"font\":{},\"showarrow\":false,\"text\":\"part time worker\",\"x\":0.755,\"xanchor\":\"center\",\"xref\":\"paper\",\"y\":1.0,\"yanchor\":\"bottom\",\"yref\":\"paper\"}],\"legend\":{\"title\":{\"text\":\"source\"},\"tracegroupgap\":0},\"title\":{\"text\":\"school trip mode choice by person type\"},\"barmode\":\"group\",\"height\":1000,\"width\":800},                        {\"responsive\": true}                    ).then(function(){\n",
       "                            \n",
       "var gd = document.getElementById('85b71c2d-759e-4fc9-8a75-b9e847e12606');\n",
       "var x = new MutationObserver(function (mutations, observer) {{\n",
       "        var display = window.getComputedStyle(gd).display;\n",
       "        if (!display || display === 'none') {{\n",
       "            console.log([gd, 'removed!']);\n",
       "            Plotly.purge(gd);\n",
       "            observer.disconnect();\n",
       "        }}\n",
       "}});\n",
       "\n",
       "// Listen for the removal of the full notebook cells\n",
       "var notebookContainer = gd.closest('#notebook-container');\n",
       "if (notebookContainer) {{\n",
       "    x.observe(notebookContainer, {childList: true});\n",
       "}}\n",
       "\n",
       "// Listen for the clearing of the current output cell\n",
       "var outputEl = gd.closest('.output');\n",
       "if (outputEl) {{\n",
       "    x.observe(outputEl, {childList: true});\n",
       "}}\n",
       "\n",
       "                        })                };                });            </script>        </div>"
      ]
     },
     "metadata": {},
     "output_type": "display_data"
    }
   ],
   "source": [
    "plot_mode_choice(sc_trip,\"pptyp_label\",\n",
    "                 {\"pptyp_label\":[\"full time worker\",\"part time worker\",\"non-worker age 65+\",\"other non-working adult\",\n",
    "                                 \"university student\",\"grade school student/child age 16+\",\"child age 5-15\",\"child age 0-4\"],\n",
    "                  \"mode_label\":[\"1: walk\",\"2: bike\",\"3: sov\",\"4: hov 2\",\"5: hov 3+\",\"6: transit\",\n",
    "                                   \"8: school bus\",\"9: other–survey only\"]},\n",
    "                  \"person type\",2,1000)"
   ]
  },
  {
   "cell_type": "raw",
   "metadata": {},
   "source": [
    "### household size"
   ]
  },
  {
   "cell_type": "code",
   "execution_count": 8,
   "metadata": {
    "execution": {
     "iopub.execute_input": "2025-01-21T07:12:40.254183Z",
     "iopub.status.busy": "2025-01-21T07:12:40.253188Z",
     "iopub.status.idle": "2025-01-21T07:12:40.766304Z",
     "shell.execute_reply": "2025-01-21T07:12:40.764178Z"
    }
   },
   "outputs": [
    {
     "data": {
      "application/vnd.plotly.v1+json": {
       "config": {
        "plotlyServerURL": "https://plot.ly"
       },
       "data": [
        {
         "alignmentgroup": "True",
         "customdata": [
          [
           372
          ],
          [
           208
          ],
          [
           1061
          ],
          [
           30
          ],
          [
           49
          ],
          [
           794
          ],
          [
           1
          ]
         ],
         "hovertemplate": "source=model<br>hhsize_4+=1<br>percentage=%{x}<br>mode_label=%{y}<br>sample count=%{customdata[0]}<extra></extra>",
         "legendgroup": "model",
         "marker": {
          "color": "#91268F",
          "pattern": {
           "shape": ""
          }
         },
         "name": "model",
         "offsetgroup": "model",
         "orientation": "h",
         "showlegend": true,
         "textposition": "auto",
         "type": "bar",
         "x": [
          0.14791252485089462,
          0.0827037773359841,
          0.42186878727634197,
          0.011928429423459244,
          0.0194831013916501,
          0.3157057654075547,
          0.00039761431411530816
         ],
         "xaxis": "x3",
         "y": [
          "1: walk",
          "2: bike",
          "3: sov",
          "4: hov 2",
          "5: hov 3+",
          "6: transit",
          "8: school bus"
         ],
         "yaxis": "y3"
        },
        {
         "alignmentgroup": "True",
         "customdata": [
          [
           3615
          ],
          [
           1229
          ],
          [
           6860
          ],
          [
           5443
          ],
          [
           1574
          ],
          [
           2625
          ],
          [
           3470
          ]
         ],
         "hovertemplate": "source=model<br>hhsize_4+=2<br>percentage=%{x}<br>mode_label=%{y}<br>sample count=%{customdata[0]}<extra></extra>",
         "legendgroup": "model",
         "marker": {
          "color": "#91268F",
          "pattern": {
           "shape": ""
          }
         },
         "name": "model",
         "offsetgroup": "model",
         "orientation": "h",
         "showlegend": false,
         "textposition": "auto",
         "type": "bar",
         "x": [
          0.14567214700193423,
          0.04952450032237266,
          0.27643455834945196,
          0.21933430045132174,
          0.06342682140554481,
          0.10577852998065763,
          0.13982914248871695
         ],
         "xaxis": "x4",
         "y": [
          "1: walk",
          "2: bike",
          "3: sov",
          "4: hov 2",
          "5: hov 3+",
          "6: transit",
          "8: school bus"
         ],
         "yaxis": "y4"
        },
        {
         "alignmentgroup": "True",
         "customdata": [
          [
           11015
          ],
          [
           2798
          ],
          [
           16104
          ],
          [
           21933
          ],
          [
           31339
          ],
          [
           4290
          ],
          [
           15409
          ]
         ],
         "hovertemplate": "source=model<br>hhsize_4+=3<br>percentage=%{x}<br>mode_label=%{y}<br>sample count=%{customdata[0]}<extra></extra>",
         "legendgroup": "model",
         "marker": {
          "color": "#91268F",
          "pattern": {
           "shape": ""
          }
         },
         "name": "model",
         "offsetgroup": "model",
         "orientation": "h",
         "showlegend": false,
         "textposition": "auto",
         "type": "bar",
         "x": [
          0.10705816032967888,
          0.02719461939196019,
          0.15651971075344062,
          0.21317354793561932,
          0.3045933442189565,
          0.041695824585957546,
          0.1497647927843869
         ],
         "xaxis": "x",
         "y": [
          "1: walk",
          "2: bike",
          "3: sov",
          "4: hov 2",
          "5: hov 3+",
          "6: transit",
          "8: school bus"
         ],
         "yaxis": "y"
        },
        {
         "alignmentgroup": "True",
         "customdata": [
          [
           49422
          ],
          [
           10678
          ],
          [
           39816
          ],
          [
           106843
          ],
          [
           139822
          ],
          [
           12766
          ],
          [
           86334
          ],
          [
           8
          ]
         ],
         "hovertemplate": "source=model<br>hhsize_4+=4+<br>percentage=%{x}<br>mode_label=%{y}<br>sample count=%{customdata[0]}<extra></extra>",
         "legendgroup": "model",
         "marker": {
          "color": "#91268F",
          "pattern": {
           "shape": ""
          }
         },
         "name": "model",
         "offsetgroup": "model",
         "orientation": "h",
         "showlegend": false,
         "textposition": "auto",
         "type": "bar",
         "x": [
          0.11088898312500421,
          0.023958410461106288,
          0.08933583732154035,
          0.23972545878404,
          0.31372100276201564,
          0.02864329162263372,
          0.1937090661874087,
          0.00001794973625106296
         ],
         "xaxis": "x2",
         "y": [
          "1: walk",
          "2: bike",
          "3: sov",
          "4: hov 2",
          "5: hov 3+",
          "6: transit",
          "8: school bus",
          "9: tnc"
         ],
         "yaxis": "y2"
        },
        {
         "alignmentgroup": "True",
         "customdata": [
          [
           9
          ],
          [
           1
          ],
          [
           2
          ],
          [
           1
          ],
          [
           8
          ],
          [
           1
          ]
         ],
         "hovertemplate": "source=survey<br>hhsize_4+=1<br>percentage=%{x}<br>mode_label=%{y}<br>sample count=%{customdata[0]}<extra></extra>",
         "legendgroup": "survey",
         "marker": {
          "color": "#8CC63E",
          "pattern": {
           "shape": ""
          }
         },
         "name": "survey",
         "offsetgroup": "survey",
         "orientation": "h",
         "showlegend": true,
         "textposition": "auto",
         "type": "bar",
         "x": [
          0.3853738464770122,
          0.022005984787919423,
          0.035087062616901935,
          0.01569846995421598,
          0.34939467152895864,
          0.19243996463499183
         ],
         "xaxis": "x3",
         "y": [
          "1: walk",
          "2: bike",
          "3: sov",
          "4: hov 2",
          "6: transit",
          "9: tnc"
         ],
         "yaxis": "y3"
        },
        {
         "alignmentgroup": "True",
         "customdata": [
          [
           10
          ],
          [
           1
          ],
          [
           8
          ],
          [
           11
          ],
          [
           1
          ],
          [
           8
          ],
          [
           2
          ],
          [
           2
          ]
         ],
         "hovertemplate": "source=survey<br>hhsize_4+=2<br>percentage=%{x}<br>mode_label=%{y}<br>sample count=%{customdata[0]}<extra></extra>",
         "legendgroup": "survey",
         "marker": {
          "color": "#8CC63E",
          "pattern": {
           "shape": ""
          }
         },
         "name": "survey",
         "offsetgroup": "survey",
         "orientation": "h",
         "showlegend": false,
         "textposition": "auto",
         "type": "bar",
         "x": [
          0.029602781392983862,
          0.0012666569938830907,
          0.03777402656714034,
          0.5011306303313553,
          0.027405330887535773,
          0.3344486797652123,
          0.00481233550373664,
          0.06355955855815278
         ],
         "xaxis": "x4",
         "y": [
          "1: walk",
          "2: bike",
          "3: sov",
          "4: hov 2",
          "5: hov 3+",
          "6: transit",
          "8: school bus",
          "9: tnc"
         ],
         "yaxis": "y4"
        },
        {
         "alignmentgroup": "True",
         "customdata": [
          [
           28
          ],
          [
           6
          ],
          [
           12
          ],
          [
           50
          ],
          [
           15
          ],
          [
           9
          ],
          [
           30
          ]
         ],
         "hovertemplate": "source=survey<br>hhsize_4+=3<br>percentage=%{x}<br>mode_label=%{y}<br>sample count=%{customdata[0]}<extra></extra>",
         "legendgroup": "survey",
         "marker": {
          "color": "#8CC63E",
          "pattern": {
           "shape": ""
          }
         },
         "name": "survey",
         "offsetgroup": "survey",
         "orientation": "h",
         "showlegend": false,
         "textposition": "auto",
         "type": "bar",
         "x": [
          0.14832268045084973,
          0.016124966044609182,
          0.1087342627575032,
          0.33099148746955837,
          0.13895436684087797,
          0.04145778273577942,
          0.21541445370082207
         ],
         "xaxis": "x",
         "y": [
          "1: walk",
          "2: bike",
          "3: sov",
          "4: hov 2",
          "5: hov 3+",
          "6: transit",
          "8: school bus"
         ],
         "yaxis": "y"
        },
        {
         "alignmentgroup": "True",
         "customdata": [
          [
           52
          ],
          [
           14
          ],
          [
           29
          ],
          [
           90
          ],
          [
           145
          ],
          [
           13
          ],
          [
           101
          ]
         ],
         "hovertemplate": "source=survey<br>hhsize_4+=4+<br>percentage=%{x}<br>mode_label=%{y}<br>sample count=%{customdata[0]}<extra></extra>",
         "legendgroup": "survey",
         "marker": {
          "color": "#8CC63E",
          "pattern": {
           "shape": ""
          }
         },
         "name": "survey",
         "offsetgroup": "survey",
         "orientation": "h",
         "showlegend": false,
         "textposition": "auto",
         "type": "bar",
         "x": [
          0.049134378983843915,
          0.026319143757122167,
          0.1377220086714127,
          0.17615914030105684,
          0.4278904923448763,
          0.012205717453226343,
          0.17056911848846176
         ],
         "xaxis": "x2",
         "y": [
          "1: walk",
          "2: bike",
          "3: sov",
          "4: hov 2",
          "5: hov 3+",
          "6: transit",
          "8: school bus"
         ],
         "yaxis": "y2"
        },
        {
         "alignmentgroup": "True",
         "customdata": [
          [
           44
          ],
          [
           8
          ],
          [
           22
          ],
          [
           2
          ],
          [
           1
          ],
          [
           37
          ],
          [
           2
          ]
         ],
         "hovertemplate": "source=survey (2017/2019)<br>hhsize_4+=1<br>percentage=%{x}<br>mode_label=%{y}<br>sample count=%{customdata[0]}<extra></extra>",
         "legendgroup": "survey (2017/2019)",
         "marker": {
          "color": "#00A7A0",
          "pattern": {
           "shape": ""
          }
         },
         "name": "survey (2017/2019)",
         "offsetgroup": "survey (2017/2019)",
         "orientation": "h",
         "showlegend": true,
         "textposition": "auto",
         "type": "bar",
         "x": [
          0.37627849254244927,
          0.0171813642503831,
          0.20674253713692564,
          0.02516029069176621,
          0.0018703886885163645,
          0.36996673936762847,
          0.0028001873223308248
         ],
         "xaxis": "x3",
         "y": [
          "1: walk",
          "2: bike",
          "3: sov",
          "4: hov 2",
          "5: hov 3+",
          "6: transit",
          "9: tnc"
         ],
         "yaxis": "y3"
        },
        {
         "alignmentgroup": "True",
         "customdata": [
          [
           50
          ],
          [
           6
          ],
          [
           47
          ],
          [
           36
          ],
          [
           5
          ],
          [
           58
          ],
          [
           8
          ],
          [
           5
          ]
         ],
         "hovertemplate": "source=survey (2017/2019)<br>hhsize_4+=2<br>percentage=%{x}<br>mode_label=%{y}<br>sample count=%{customdata[0]}<extra></extra>",
         "legendgroup": "survey (2017/2019)",
         "marker": {
          "color": "#00A7A0",
          "pattern": {
           "shape": ""
          }
         },
         "name": "survey (2017/2019)",
         "offsetgroup": "survey (2017/2019)",
         "orientation": "h",
         "showlegend": false,
         "textposition": "auto",
         "type": "bar",
         "x": [
          0.09691973736844257,
          0.003908512540869216,
          0.49416360945515336,
          0.17613650973134812,
          0.025028562626266886,
          0.15371218903643522,
          0.04626693558593435,
          0.003863943655550325
         ],
         "xaxis": "x4",
         "y": [
          "1: walk",
          "2: bike",
          "3: sov",
          "4: hov 2",
          "5: hov 3+",
          "6: transit",
          "8: school bus",
          "9: tnc"
         ],
         "yaxis": "y4"
        },
        {
         "alignmentgroup": "True",
         "customdata": [
          [
           38
          ],
          [
           9
          ],
          [
           20
          ],
          [
           108
          ],
          [
           40
          ],
          [
           43
          ],
          [
           39
          ],
          [
           1
          ]
         ],
         "hovertemplate": "source=survey (2017/2019)<br>hhsize_4+=3<br>percentage=%{x}<br>mode_label=%{y}<br>sample count=%{customdata[0]}<extra></extra>",
         "legendgroup": "survey (2017/2019)",
         "marker": {
          "color": "#00A7A0",
          "pattern": {
           "shape": ""
          }
         },
         "name": "survey (2017/2019)",
         "offsetgroup": "survey (2017/2019)",
         "orientation": "h",
         "showlegend": false,
         "textposition": "auto",
         "type": "bar",
         "x": [
          0.20971060694215976,
          0.002495846738054195,
          0.1427048776434088,
          0.12914527899312644,
          0.24768315387590625,
          0.1046234492826953,
          0.1612155255375724,
          0.002421260987076779
         ],
         "xaxis": "x",
         "y": [
          "1: walk",
          "2: bike",
          "3: sov",
          "4: hov 2",
          "5: hov 3+",
          "6: transit",
          "8: school bus",
          "9: tnc"
         ],
         "yaxis": "y"
        },
        {
         "alignmentgroup": "True",
         "customdata": [
          [
           75
          ],
          [
           21
          ],
          [
           34
          ],
          [
           142
          ],
          [
           243
          ],
          [
           48
          ],
          [
           126
          ],
          [
           1
          ]
         ],
         "hovertemplate": "source=survey (2017/2019)<br>hhsize_4+=4+<br>percentage=%{x}<br>mode_label=%{y}<br>sample count=%{customdata[0]}<extra></extra>",
         "legendgroup": "survey (2017/2019)",
         "marker": {
          "color": "#00A7A0",
          "pattern": {
           "shape": ""
          }
         },
         "name": "survey (2017/2019)",
         "offsetgroup": "survey (2017/2019)",
         "orientation": "h",
         "showlegend": false,
         "textposition": "auto",
         "type": "bar",
         "x": [
          0.053373343024142185,
          0.007391345495096074,
          0.08879727096555388,
          0.18878486262658056,
          0.42025193453280957,
          0.06367646602011252,
          0.177108264774817,
          0.0006165125608882143
         ],
         "xaxis": "x2",
         "y": [
          "1: walk",
          "2: bike",
          "3: sov",
          "4: hov 2",
          "5: hov 3+",
          "6: transit",
          "8: school bus",
          "9: tnc"
         ],
         "yaxis": "y2"
        }
       ],
       "layout": {
        "annotations": [
         {
          "font": {},
          "showarrow": false,
          "text": "3",
          "x": 0.245,
          "xanchor": "center",
          "xref": "paper",
          "y": 0.46499999999999997,
          "yanchor": "bottom",
          "yref": "paper"
         },
         {
          "font": {},
          "showarrow": false,
          "text": "4+",
          "x": 0.755,
          "xanchor": "center",
          "xref": "paper",
          "y": 0.46499999999999997,
          "yanchor": "bottom",
          "yref": "paper"
         },
         {
          "font": {},
          "showarrow": false,
          "text": "1",
          "x": 0.245,
          "xanchor": "center",
          "xref": "paper",
          "y": 0.9999999999999999,
          "yanchor": "bottom",
          "yref": "paper"
         },
         {
          "font": {},
          "showarrow": false,
          "text": "2",
          "x": 0.755,
          "xanchor": "center",
          "xref": "paper",
          "y": 0.9999999999999999,
          "yanchor": "bottom",
          "yref": "paper"
         }
        ],
        "barmode": "group",
        "height": 600,
        "legend": {
         "title": {
          "text": "source"
         },
         "tracegroupgap": 0
        },
        "template": {
         "data": {
          "bar": [
           {
            "error_x": {
             "color": "rgb(36,36,36)"
            },
            "error_y": {
             "color": "rgb(36,36,36)"
            },
            "marker": {
             "line": {
              "color": "white",
              "width": 0.5
             },
             "pattern": {
              "fillmode": "overlay",
              "size": 10,
              "solidity": 0.2
             }
            },
            "type": "bar"
           }
          ],
          "barpolar": [
           {
            "marker": {
             "line": {
              "color": "white",
              "width": 0.5
             },
             "pattern": {
              "fillmode": "overlay",
              "size": 10,
              "solidity": 0.2
             }
            },
            "type": "barpolar"
           }
          ],
          "carpet": [
           {
            "aaxis": {
             "endlinecolor": "rgb(36,36,36)",
             "gridcolor": "white",
             "linecolor": "white",
             "minorgridcolor": "white",
             "startlinecolor": "rgb(36,36,36)"
            },
            "baxis": {
             "endlinecolor": "rgb(36,36,36)",
             "gridcolor": "white",
             "linecolor": "white",
             "minorgridcolor": "white",
             "startlinecolor": "rgb(36,36,36)"
            },
            "type": "carpet"
           }
          ],
          "choropleth": [
           {
            "colorbar": {
             "outlinewidth": 1,
             "tickcolor": "rgb(36,36,36)",
             "ticks": "outside"
            },
            "type": "choropleth"
           }
          ],
          "contour": [
           {
            "colorbar": {
             "outlinewidth": 1,
             "tickcolor": "rgb(36,36,36)",
             "ticks": "outside"
            },
            "colorscale": [
             [
              0,
              "#440154"
             ],
             [
              0.1111111111111111,
              "#482878"
             ],
             [
              0.2222222222222222,
              "#3e4989"
             ],
             [
              0.3333333333333333,
              "#31688e"
             ],
             [
              0.4444444444444444,
              "#26828e"
             ],
             [
              0.5555555555555556,
              "#1f9e89"
             ],
             [
              0.6666666666666666,
              "#35b779"
             ],
             [
              0.7777777777777778,
              "#6ece58"
             ],
             [
              0.8888888888888888,
              "#b5de2b"
             ],
             [
              1,
              "#fde725"
             ]
            ],
            "type": "contour"
           }
          ],
          "contourcarpet": [
           {
            "colorbar": {
             "outlinewidth": 1,
             "tickcolor": "rgb(36,36,36)",
             "ticks": "outside"
            },
            "type": "contourcarpet"
           }
          ],
          "heatmap": [
           {
            "colorbar": {
             "outlinewidth": 1,
             "tickcolor": "rgb(36,36,36)",
             "ticks": "outside"
            },
            "colorscale": [
             [
              0,
              "#440154"
             ],
             [
              0.1111111111111111,
              "#482878"
             ],
             [
              0.2222222222222222,
              "#3e4989"
             ],
             [
              0.3333333333333333,
              "#31688e"
             ],
             [
              0.4444444444444444,
              "#26828e"
             ],
             [
              0.5555555555555556,
              "#1f9e89"
             ],
             [
              0.6666666666666666,
              "#35b779"
             ],
             [
              0.7777777777777778,
              "#6ece58"
             ],
             [
              0.8888888888888888,
              "#b5de2b"
             ],
             [
              1,
              "#fde725"
             ]
            ],
            "type": "heatmap"
           }
          ],
          "heatmapgl": [
           {
            "colorbar": {
             "outlinewidth": 1,
             "tickcolor": "rgb(36,36,36)",
             "ticks": "outside"
            },
            "colorscale": [
             [
              0,
              "#440154"
             ],
             [
              0.1111111111111111,
              "#482878"
             ],
             [
              0.2222222222222222,
              "#3e4989"
             ],
             [
              0.3333333333333333,
              "#31688e"
             ],
             [
              0.4444444444444444,
              "#26828e"
             ],
             [
              0.5555555555555556,
              "#1f9e89"
             ],
             [
              0.6666666666666666,
              "#35b779"
             ],
             [
              0.7777777777777778,
              "#6ece58"
             ],
             [
              0.8888888888888888,
              "#b5de2b"
             ],
             [
              1,
              "#fde725"
             ]
            ],
            "type": "heatmapgl"
           }
          ],
          "histogram": [
           {
            "marker": {
             "line": {
              "color": "white",
              "width": 0.6
             }
            },
            "type": "histogram"
           }
          ],
          "histogram2d": [
           {
            "colorbar": {
             "outlinewidth": 1,
             "tickcolor": "rgb(36,36,36)",
             "ticks": "outside"
            },
            "colorscale": [
             [
              0,
              "#440154"
             ],
             [
              0.1111111111111111,
              "#482878"
             ],
             [
              0.2222222222222222,
              "#3e4989"
             ],
             [
              0.3333333333333333,
              "#31688e"
             ],
             [
              0.4444444444444444,
              "#26828e"
             ],
             [
              0.5555555555555556,
              "#1f9e89"
             ],
             [
              0.6666666666666666,
              "#35b779"
             ],
             [
              0.7777777777777778,
              "#6ece58"
             ],
             [
              0.8888888888888888,
              "#b5de2b"
             ],
             [
              1,
              "#fde725"
             ]
            ],
            "type": "histogram2d"
           }
          ],
          "histogram2dcontour": [
           {
            "colorbar": {
             "outlinewidth": 1,
             "tickcolor": "rgb(36,36,36)",
             "ticks": "outside"
            },
            "colorscale": [
             [
              0,
              "#440154"
             ],
             [
              0.1111111111111111,
              "#482878"
             ],
             [
              0.2222222222222222,
              "#3e4989"
             ],
             [
              0.3333333333333333,
              "#31688e"
             ],
             [
              0.4444444444444444,
              "#26828e"
             ],
             [
              0.5555555555555556,
              "#1f9e89"
             ],
             [
              0.6666666666666666,
              "#35b779"
             ],
             [
              0.7777777777777778,
              "#6ece58"
             ],
             [
              0.8888888888888888,
              "#b5de2b"
             ],
             [
              1,
              "#fde725"
             ]
            ],
            "type": "histogram2dcontour"
           }
          ],
          "mesh3d": [
           {
            "colorbar": {
             "outlinewidth": 1,
             "tickcolor": "rgb(36,36,36)",
             "ticks": "outside"
            },
            "type": "mesh3d"
           }
          ],
          "parcoords": [
           {
            "line": {
             "colorbar": {
              "outlinewidth": 1,
              "tickcolor": "rgb(36,36,36)",
              "ticks": "outside"
             }
            },
            "type": "parcoords"
           }
          ],
          "pie": [
           {
            "automargin": true,
            "type": "pie"
           }
          ],
          "scatter": [
           {
            "fillpattern": {
             "fillmode": "overlay",
             "size": 10,
             "solidity": 0.2
            },
            "type": "scatter"
           }
          ],
          "scatter3d": [
           {
            "line": {
             "colorbar": {
              "outlinewidth": 1,
              "tickcolor": "rgb(36,36,36)",
              "ticks": "outside"
             }
            },
            "marker": {
             "colorbar": {
              "outlinewidth": 1,
              "tickcolor": "rgb(36,36,36)",
              "ticks": "outside"
             }
            },
            "type": "scatter3d"
           }
          ],
          "scattercarpet": [
           {
            "marker": {
             "colorbar": {
              "outlinewidth": 1,
              "tickcolor": "rgb(36,36,36)",
              "ticks": "outside"
             }
            },
            "type": "scattercarpet"
           }
          ],
          "scattergeo": [
           {
            "marker": {
             "colorbar": {
              "outlinewidth": 1,
              "tickcolor": "rgb(36,36,36)",
              "ticks": "outside"
             }
            },
            "type": "scattergeo"
           }
          ],
          "scattergl": [
           {
            "marker": {
             "colorbar": {
              "outlinewidth": 1,
              "tickcolor": "rgb(36,36,36)",
              "ticks": "outside"
             }
            },
            "type": "scattergl"
           }
          ],
          "scattermapbox": [
           {
            "marker": {
             "colorbar": {
              "outlinewidth": 1,
              "tickcolor": "rgb(36,36,36)",
              "ticks": "outside"
             }
            },
            "type": "scattermapbox"
           }
          ],
          "scatterpolar": [
           {
            "marker": {
             "colorbar": {
              "outlinewidth": 1,
              "tickcolor": "rgb(36,36,36)",
              "ticks": "outside"
             }
            },
            "type": "scatterpolar"
           }
          ],
          "scatterpolargl": [
           {
            "marker": {
             "colorbar": {
              "outlinewidth": 1,
              "tickcolor": "rgb(36,36,36)",
              "ticks": "outside"
             }
            },
            "type": "scatterpolargl"
           }
          ],
          "scatterternary": [
           {
            "marker": {
             "colorbar": {
              "outlinewidth": 1,
              "tickcolor": "rgb(36,36,36)",
              "ticks": "outside"
             }
            },
            "type": "scatterternary"
           }
          ],
          "surface": [
           {
            "colorbar": {
             "outlinewidth": 1,
             "tickcolor": "rgb(36,36,36)",
             "ticks": "outside"
            },
            "colorscale": [
             [
              0,
              "#440154"
             ],
             [
              0.1111111111111111,
              "#482878"
             ],
             [
              0.2222222222222222,
              "#3e4989"
             ],
             [
              0.3333333333333333,
              "#31688e"
             ],
             [
              0.4444444444444444,
              "#26828e"
             ],
             [
              0.5555555555555556,
              "#1f9e89"
             ],
             [
              0.6666666666666666,
              "#35b779"
             ],
             [
              0.7777777777777778,
              "#6ece58"
             ],
             [
              0.8888888888888888,
              "#b5de2b"
             ],
             [
              1,
              "#fde725"
             ]
            ],
            "type": "surface"
           }
          ],
          "table": [
           {
            "cells": {
             "fill": {
              "color": "rgb(237,237,237)"
             },
             "line": {
              "color": "white"
             }
            },
            "header": {
             "fill": {
              "color": "rgb(217,217,217)"
             },
             "line": {
              "color": "white"
             }
            },
            "type": "table"
           }
          ]
         },
         "layout": {
          "annotationdefaults": {
           "arrowhead": 0,
           "arrowwidth": 1
          },
          "autotypenumbers": "strict",
          "coloraxis": {
           "colorbar": {
            "outlinewidth": 1,
            "tickcolor": "rgb(36,36,36)",
            "ticks": "outside"
           }
          },
          "colorscale": {
           "diverging": [
            [
             0,
             "rgb(103,0,31)"
            ],
            [
             0.1,
             "rgb(178,24,43)"
            ],
            [
             0.2,
             "rgb(214,96,77)"
            ],
            [
             0.3,
             "rgb(244,165,130)"
            ],
            [
             0.4,
             "rgb(253,219,199)"
            ],
            [
             0.5,
             "rgb(247,247,247)"
            ],
            [
             0.6,
             "rgb(209,229,240)"
            ],
            [
             0.7,
             "rgb(146,197,222)"
            ],
            [
             0.8,
             "rgb(67,147,195)"
            ],
            [
             0.9,
             "rgb(33,102,172)"
            ],
            [
             1,
             "rgb(5,48,97)"
            ]
           ],
           "sequential": [
            [
             0,
             "#440154"
            ],
            [
             0.1111111111111111,
             "#482878"
            ],
            [
             0.2222222222222222,
             "#3e4989"
            ],
            [
             0.3333333333333333,
             "#31688e"
            ],
            [
             0.4444444444444444,
             "#26828e"
            ],
            [
             0.5555555555555556,
             "#1f9e89"
            ],
            [
             0.6666666666666666,
             "#35b779"
            ],
            [
             0.7777777777777778,
             "#6ece58"
            ],
            [
             0.8888888888888888,
             "#b5de2b"
            ],
            [
             1,
             "#fde725"
            ]
           ],
           "sequentialminus": [
            [
             0,
             "#440154"
            ],
            [
             0.1111111111111111,
             "#482878"
            ],
            [
             0.2222222222222222,
             "#3e4989"
            ],
            [
             0.3333333333333333,
             "#31688e"
            ],
            [
             0.4444444444444444,
             "#26828e"
            ],
            [
             0.5555555555555556,
             "#1f9e89"
            ],
            [
             0.6666666666666666,
             "#35b779"
            ],
            [
             0.7777777777777778,
             "#6ece58"
            ],
            [
             0.8888888888888888,
             "#b5de2b"
            ],
            [
             1,
             "#fde725"
            ]
           ]
          },
          "colorway": [
           "#91268F",
           "#8CC63E",
           "#00A7A0",
           "#F05A28",
           "#4C4C4C",
           "#630460",
           "#9f3913",
           "#588527",
           "#00716c",
           "#3e4040"
          ],
          "font": {
           "color": "rgb(36,36,36)",
           "family": "Poppins",
           "size": 11
          },
          "geo": {
           "bgcolor": "white",
           "lakecolor": "white",
           "landcolor": "white",
           "showlakes": true,
           "showland": true,
           "subunitcolor": "white"
          },
          "hoverlabel": {
           "align": "left"
          },
          "hovermode": "closest",
          "mapbox": {
           "style": "light"
          },
          "paper_bgcolor": "white",
          "plot_bgcolor": "white",
          "polar": {
           "angularaxis": {
            "gridcolor": "rgb(232,232,232)",
            "linecolor": "rgb(36,36,36)",
            "showgrid": false,
            "showline": true,
            "ticks": "outside"
           },
           "bgcolor": "white",
           "radialaxis": {
            "gridcolor": "rgb(232,232,232)",
            "linecolor": "rgb(36,36,36)",
            "showgrid": false,
            "showline": true,
            "ticks": "outside"
           }
          },
          "scene": {
           "xaxis": {
            "backgroundcolor": "white",
            "gridcolor": "rgb(232,232,232)",
            "gridwidth": 2,
            "linecolor": "rgb(36,36,36)",
            "showbackground": true,
            "showgrid": false,
            "showline": true,
            "ticks": "outside",
            "zeroline": false,
            "zerolinecolor": "rgb(36,36,36)"
           },
           "yaxis": {
            "backgroundcolor": "white",
            "gridcolor": "rgb(232,232,232)",
            "gridwidth": 2,
            "linecolor": "rgb(36,36,36)",
            "showbackground": true,
            "showgrid": false,
            "showline": true,
            "ticks": "outside",
            "zeroline": false,
            "zerolinecolor": "rgb(36,36,36)"
           },
           "zaxis": {
            "backgroundcolor": "white",
            "gridcolor": "rgb(232,232,232)",
            "gridwidth": 2,
            "linecolor": "rgb(36,36,36)",
            "showbackground": true,
            "showgrid": false,
            "showline": true,
            "ticks": "outside",
            "zeroline": false,
            "zerolinecolor": "rgb(36,36,36)"
           }
          },
          "shapedefaults": {
           "fillcolor": "black",
           "line": {
            "width": 0
           },
           "opacity": 0.3
          },
          "ternary": {
           "aaxis": {
            "gridcolor": "rgb(232,232,232)",
            "linecolor": "rgb(36,36,36)",
            "showgrid": false,
            "showline": true,
            "ticks": "outside"
           },
           "baxis": {
            "gridcolor": "rgb(232,232,232)",
            "linecolor": "rgb(36,36,36)",
            "showgrid": false,
            "showline": true,
            "ticks": "outside"
           },
           "bgcolor": "white",
           "caxis": {
            "gridcolor": "rgb(232,232,232)",
            "linecolor": "rgb(36,36,36)",
            "showgrid": false,
            "showline": true,
            "ticks": "outside"
           }
          },
          "title": {
           "x": 0.05
          },
          "xaxis": {
           "automargin": true,
           "gridcolor": "rgb(232,232,232)",
           "linecolor": "rgb(36,36,36)",
           "showgrid": false,
           "showline": true,
           "ticks": "outside",
           "title": {
            "standoff": 15
           },
           "zeroline": false,
           "zerolinecolor": "rgb(36,36,36)"
          },
          "yaxis": {
           "automargin": true,
           "gridcolor": "rgb(232,232,232)",
           "linecolor": "rgb(36,36,36)",
           "showgrid": false,
           "showline": true,
           "ticks": "outside",
           "title": {
            "standoff": 15
           },
           "zeroline": false,
           "zerolinecolor": "rgb(36,36,36)"
          }
         }
        },
        "title": {
         "text": "school trip mode choice by household size"
        },
        "width": 800,
        "xaxis": {
         "anchor": "y",
         "domain": [
          0,
          0.49
         ],
         "tickformat": ".1%",
         "title": {
          "text": "percentage"
         }
        },
        "xaxis2": {
         "anchor": "y2",
         "domain": [
          0.51,
          1
         ],
         "matches": "x",
         "tickformat": ".1%",
         "title": {
          "text": "percentage"
         }
        },
        "xaxis3": {
         "anchor": "y3",
         "domain": [
          0,
          0.49
         ],
         "matches": "x",
         "showticklabels": false,
         "tickformat": ".1%"
        },
        "xaxis4": {
         "anchor": "y4",
         "domain": [
          0.51,
          1
         ],
         "matches": "x",
         "showticklabels": false,
         "tickformat": ".1%"
        },
        "yaxis": {
         "anchor": "x",
         "categoryarray": [
          "9: other–survey only",
          "8: school bus",
          "6: transit",
          "5: hov 3+",
          "4: hov 2",
          "3: sov",
          "2: bike",
          "1: walk"
         ],
         "categoryorder": "array",
         "domain": [
          0,
          0.46499999999999997
         ],
         "title": {
          "text": "mode_label"
         }
        },
        "yaxis2": {
         "anchor": "x2",
         "domain": [
          0,
          0.46499999999999997
         ],
         "matches": "y",
         "showticklabels": false
        },
        "yaxis3": {
         "anchor": "x3",
         "categoryarray": [
          "9: other–survey only",
          "8: school bus",
          "6: transit",
          "5: hov 3+",
          "4: hov 2",
          "3: sov",
          "2: bike",
          "1: walk"
         ],
         "categoryorder": "array",
         "domain": [
          0.5349999999999999,
          0.9999999999999999
         ],
         "matches": "y",
         "title": {
          "text": "mode_label"
         }
        },
        "yaxis4": {
         "anchor": "x4",
         "domain": [
          0.5349999999999999,
          0.9999999999999999
         ],
         "matches": "y",
         "showticklabels": false
        }
       }
      },
      "text/html": [
       "<div>                            <div id=\"463cd6bf-aa77-4321-af31-e12d48b60846\" class=\"plotly-graph-div\" style=\"height:600px; width:800px;\"></div>            <script type=\"text/javascript\">                require([\"plotly\"], function(Plotly) {                    window.PLOTLYENV=window.PLOTLYENV || {};                                    if (document.getElementById(\"463cd6bf-aa77-4321-af31-e12d48b60846\")) {                    Plotly.newPlot(                        \"463cd6bf-aa77-4321-af31-e12d48b60846\",                        [{\"alignmentgroup\":\"True\",\"customdata\":[[372],[208],[1061],[30],[49],[794],[1]],\"hovertemplate\":\"source=model\\u003cbr\\u003ehhsize_4+=1\\u003cbr\\u003epercentage=%{x}\\u003cbr\\u003emode_label=%{y}\\u003cbr\\u003esample count=%{customdata[0]}\\u003cextra\\u003e\\u003c\\u002fextra\\u003e\",\"legendgroup\":\"model\",\"marker\":{\"color\":\"#91268F\",\"pattern\":{\"shape\":\"\"}},\"name\":\"model\",\"offsetgroup\":\"model\",\"orientation\":\"h\",\"showlegend\":true,\"textposition\":\"auto\",\"x\":[0.14791252485089462,0.0827037773359841,0.42186878727634197,0.011928429423459244,0.0194831013916501,0.3157057654075547,0.00039761431411530816],\"xaxis\":\"x3\",\"y\":[\"1: walk\",\"2: bike\",\"3: sov\",\"4: hov 2\",\"5: hov 3+\",\"6: transit\",\"8: school bus\"],\"yaxis\":\"y3\",\"type\":\"bar\"},{\"alignmentgroup\":\"True\",\"customdata\":[[3615],[1229],[6860],[5443],[1574],[2625],[3470]],\"hovertemplate\":\"source=model\\u003cbr\\u003ehhsize_4+=2\\u003cbr\\u003epercentage=%{x}\\u003cbr\\u003emode_label=%{y}\\u003cbr\\u003esample count=%{customdata[0]}\\u003cextra\\u003e\\u003c\\u002fextra\\u003e\",\"legendgroup\":\"model\",\"marker\":{\"color\":\"#91268F\",\"pattern\":{\"shape\":\"\"}},\"name\":\"model\",\"offsetgroup\":\"model\",\"orientation\":\"h\",\"showlegend\":false,\"textposition\":\"auto\",\"x\":[0.14567214700193423,0.04952450032237266,0.27643455834945196,0.21933430045132174,0.06342682140554481,0.10577852998065763,0.13982914248871695],\"xaxis\":\"x4\",\"y\":[\"1: walk\",\"2: bike\",\"3: sov\",\"4: hov 2\",\"5: hov 3+\",\"6: transit\",\"8: school bus\"],\"yaxis\":\"y4\",\"type\":\"bar\"},{\"alignmentgroup\":\"True\",\"customdata\":[[11015],[2798],[16104],[21933],[31339],[4290],[15409]],\"hovertemplate\":\"source=model\\u003cbr\\u003ehhsize_4+=3\\u003cbr\\u003epercentage=%{x}\\u003cbr\\u003emode_label=%{y}\\u003cbr\\u003esample count=%{customdata[0]}\\u003cextra\\u003e\\u003c\\u002fextra\\u003e\",\"legendgroup\":\"model\",\"marker\":{\"color\":\"#91268F\",\"pattern\":{\"shape\":\"\"}},\"name\":\"model\",\"offsetgroup\":\"model\",\"orientation\":\"h\",\"showlegend\":false,\"textposition\":\"auto\",\"x\":[0.10705816032967888,0.02719461939196019,0.15651971075344062,0.21317354793561932,0.3045933442189565,0.041695824585957546,0.1497647927843869],\"xaxis\":\"x\",\"y\":[\"1: walk\",\"2: bike\",\"3: sov\",\"4: hov 2\",\"5: hov 3+\",\"6: transit\",\"8: school bus\"],\"yaxis\":\"y\",\"type\":\"bar\"},{\"alignmentgroup\":\"True\",\"customdata\":[[49422],[10678],[39816],[106843],[139822],[12766],[86334],[8]],\"hovertemplate\":\"source=model\\u003cbr\\u003ehhsize_4+=4+\\u003cbr\\u003epercentage=%{x}\\u003cbr\\u003emode_label=%{y}\\u003cbr\\u003esample count=%{customdata[0]}\\u003cextra\\u003e\\u003c\\u002fextra\\u003e\",\"legendgroup\":\"model\",\"marker\":{\"color\":\"#91268F\",\"pattern\":{\"shape\":\"\"}},\"name\":\"model\",\"offsetgroup\":\"model\",\"orientation\":\"h\",\"showlegend\":false,\"textposition\":\"auto\",\"x\":[0.11088898312500421,0.023958410461106288,0.08933583732154035,0.23972545878404,0.31372100276201564,0.02864329162263372,0.1937090661874087,1.794973625106296e-05],\"xaxis\":\"x2\",\"y\":[\"1: walk\",\"2: bike\",\"3: sov\",\"4: hov 2\",\"5: hov 3+\",\"6: transit\",\"8: school bus\",\"9: tnc\"],\"yaxis\":\"y2\",\"type\":\"bar\"},{\"alignmentgroup\":\"True\",\"customdata\":[[9],[1],[2],[1],[8],[1]],\"hovertemplate\":\"source=survey\\u003cbr\\u003ehhsize_4+=1\\u003cbr\\u003epercentage=%{x}\\u003cbr\\u003emode_label=%{y}\\u003cbr\\u003esample count=%{customdata[0]}\\u003cextra\\u003e\\u003c\\u002fextra\\u003e\",\"legendgroup\":\"survey\",\"marker\":{\"color\":\"#8CC63E\",\"pattern\":{\"shape\":\"\"}},\"name\":\"survey\",\"offsetgroup\":\"survey\",\"orientation\":\"h\",\"showlegend\":true,\"textposition\":\"auto\",\"x\":[0.3853738464770122,0.022005984787919423,0.035087062616901935,0.01569846995421598,0.34939467152895864,0.19243996463499183],\"xaxis\":\"x3\",\"y\":[\"1: walk\",\"2: bike\",\"3: sov\",\"4: hov 2\",\"6: transit\",\"9: tnc\"],\"yaxis\":\"y3\",\"type\":\"bar\"},{\"alignmentgroup\":\"True\",\"customdata\":[[10],[1],[8],[11],[1],[8],[2],[2]],\"hovertemplate\":\"source=survey\\u003cbr\\u003ehhsize_4+=2\\u003cbr\\u003epercentage=%{x}\\u003cbr\\u003emode_label=%{y}\\u003cbr\\u003esample count=%{customdata[0]}\\u003cextra\\u003e\\u003c\\u002fextra\\u003e\",\"legendgroup\":\"survey\",\"marker\":{\"color\":\"#8CC63E\",\"pattern\":{\"shape\":\"\"}},\"name\":\"survey\",\"offsetgroup\":\"survey\",\"orientation\":\"h\",\"showlegend\":false,\"textposition\":\"auto\",\"x\":[0.029602781392983862,0.0012666569938830907,0.03777402656714034,0.5011306303313553,0.027405330887535773,0.3344486797652123,0.00481233550373664,0.06355955855815278],\"xaxis\":\"x4\",\"y\":[\"1: walk\",\"2: bike\",\"3: sov\",\"4: hov 2\",\"5: hov 3+\",\"6: transit\",\"8: school bus\",\"9: tnc\"],\"yaxis\":\"y4\",\"type\":\"bar\"},{\"alignmentgroup\":\"True\",\"customdata\":[[28],[6],[12],[50],[15],[9],[30]],\"hovertemplate\":\"source=survey\\u003cbr\\u003ehhsize_4+=3\\u003cbr\\u003epercentage=%{x}\\u003cbr\\u003emode_label=%{y}\\u003cbr\\u003esample count=%{customdata[0]}\\u003cextra\\u003e\\u003c\\u002fextra\\u003e\",\"legendgroup\":\"survey\",\"marker\":{\"color\":\"#8CC63E\",\"pattern\":{\"shape\":\"\"}},\"name\":\"survey\",\"offsetgroup\":\"survey\",\"orientation\":\"h\",\"showlegend\":false,\"textposition\":\"auto\",\"x\":[0.14832268045084973,0.016124966044609182,0.1087342627575032,0.33099148746955837,0.13895436684087797,0.04145778273577942,0.21541445370082207],\"xaxis\":\"x\",\"y\":[\"1: walk\",\"2: bike\",\"3: sov\",\"4: hov 2\",\"5: hov 3+\",\"6: transit\",\"8: school bus\"],\"yaxis\":\"y\",\"type\":\"bar\"},{\"alignmentgroup\":\"True\",\"customdata\":[[52],[14],[29],[90],[145],[13],[101]],\"hovertemplate\":\"source=survey\\u003cbr\\u003ehhsize_4+=4+\\u003cbr\\u003epercentage=%{x}\\u003cbr\\u003emode_label=%{y}\\u003cbr\\u003esample count=%{customdata[0]}\\u003cextra\\u003e\\u003c\\u002fextra\\u003e\",\"legendgroup\":\"survey\",\"marker\":{\"color\":\"#8CC63E\",\"pattern\":{\"shape\":\"\"}},\"name\":\"survey\",\"offsetgroup\":\"survey\",\"orientation\":\"h\",\"showlegend\":false,\"textposition\":\"auto\",\"x\":[0.049134378983843915,0.026319143757122167,0.1377220086714127,0.17615914030105684,0.4278904923448763,0.012205717453226343,0.17056911848846176],\"xaxis\":\"x2\",\"y\":[\"1: walk\",\"2: bike\",\"3: sov\",\"4: hov 2\",\"5: hov 3+\",\"6: transit\",\"8: school bus\"],\"yaxis\":\"y2\",\"type\":\"bar\"},{\"alignmentgroup\":\"True\",\"customdata\":[[44],[8],[22],[2],[1],[37],[2]],\"hovertemplate\":\"source=survey (2017\\u002f2019)\\u003cbr\\u003ehhsize_4+=1\\u003cbr\\u003epercentage=%{x}\\u003cbr\\u003emode_label=%{y}\\u003cbr\\u003esample count=%{customdata[0]}\\u003cextra\\u003e\\u003c\\u002fextra\\u003e\",\"legendgroup\":\"survey (2017\\u002f2019)\",\"marker\":{\"color\":\"#00A7A0\",\"pattern\":{\"shape\":\"\"}},\"name\":\"survey (2017\\u002f2019)\",\"offsetgroup\":\"survey (2017\\u002f2019)\",\"orientation\":\"h\",\"showlegend\":true,\"textposition\":\"auto\",\"x\":[0.37627849254244927,0.0171813642503831,0.20674253713692564,0.02516029069176621,0.0018703886885163645,0.36996673936762847,0.0028001873223308248],\"xaxis\":\"x3\",\"y\":[\"1: walk\",\"2: bike\",\"3: sov\",\"4: hov 2\",\"5: hov 3+\",\"6: transit\",\"9: tnc\"],\"yaxis\":\"y3\",\"type\":\"bar\"},{\"alignmentgroup\":\"True\",\"customdata\":[[50],[6],[47],[36],[5],[58],[8],[5]],\"hovertemplate\":\"source=survey (2017\\u002f2019)\\u003cbr\\u003ehhsize_4+=2\\u003cbr\\u003epercentage=%{x}\\u003cbr\\u003emode_label=%{y}\\u003cbr\\u003esample count=%{customdata[0]}\\u003cextra\\u003e\\u003c\\u002fextra\\u003e\",\"legendgroup\":\"survey (2017\\u002f2019)\",\"marker\":{\"color\":\"#00A7A0\",\"pattern\":{\"shape\":\"\"}},\"name\":\"survey (2017\\u002f2019)\",\"offsetgroup\":\"survey (2017\\u002f2019)\",\"orientation\":\"h\",\"showlegend\":false,\"textposition\":\"auto\",\"x\":[0.09691973736844257,0.003908512540869216,0.49416360945515336,0.17613650973134812,0.025028562626266886,0.15371218903643522,0.04626693558593435,0.003863943655550325],\"xaxis\":\"x4\",\"y\":[\"1: walk\",\"2: bike\",\"3: sov\",\"4: hov 2\",\"5: hov 3+\",\"6: transit\",\"8: school bus\",\"9: tnc\"],\"yaxis\":\"y4\",\"type\":\"bar\"},{\"alignmentgroup\":\"True\",\"customdata\":[[38],[9],[20],[108],[40],[43],[39],[1]],\"hovertemplate\":\"source=survey (2017\\u002f2019)\\u003cbr\\u003ehhsize_4+=3\\u003cbr\\u003epercentage=%{x}\\u003cbr\\u003emode_label=%{y}\\u003cbr\\u003esample count=%{customdata[0]}\\u003cextra\\u003e\\u003c\\u002fextra\\u003e\",\"legendgroup\":\"survey (2017\\u002f2019)\",\"marker\":{\"color\":\"#00A7A0\",\"pattern\":{\"shape\":\"\"}},\"name\":\"survey (2017\\u002f2019)\",\"offsetgroup\":\"survey (2017\\u002f2019)\",\"orientation\":\"h\",\"showlegend\":false,\"textposition\":\"auto\",\"x\":[0.20971060694215976,0.002495846738054195,0.1427048776434088,0.12914527899312644,0.24768315387590625,0.1046234492826953,0.1612155255375724,0.002421260987076779],\"xaxis\":\"x\",\"y\":[\"1: walk\",\"2: bike\",\"3: sov\",\"4: hov 2\",\"5: hov 3+\",\"6: transit\",\"8: school bus\",\"9: tnc\"],\"yaxis\":\"y\",\"type\":\"bar\"},{\"alignmentgroup\":\"True\",\"customdata\":[[75],[21],[34],[142],[243],[48],[126],[1]],\"hovertemplate\":\"source=survey (2017\\u002f2019)\\u003cbr\\u003ehhsize_4+=4+\\u003cbr\\u003epercentage=%{x}\\u003cbr\\u003emode_label=%{y}\\u003cbr\\u003esample count=%{customdata[0]}\\u003cextra\\u003e\\u003c\\u002fextra\\u003e\",\"legendgroup\":\"survey (2017\\u002f2019)\",\"marker\":{\"color\":\"#00A7A0\",\"pattern\":{\"shape\":\"\"}},\"name\":\"survey (2017\\u002f2019)\",\"offsetgroup\":\"survey (2017\\u002f2019)\",\"orientation\":\"h\",\"showlegend\":false,\"textposition\":\"auto\",\"x\":[0.053373343024142185,0.007391345495096074,0.08879727096555388,0.18878486262658056,0.42025193453280957,0.06367646602011252,0.177108264774817,0.0006165125608882143],\"xaxis\":\"x2\",\"y\":[\"1: walk\",\"2: bike\",\"3: sov\",\"4: hov 2\",\"5: hov 3+\",\"6: transit\",\"8: school bus\",\"9: tnc\"],\"yaxis\":\"y2\",\"type\":\"bar\"}],                        {\"template\":{\"data\":{\"barpolar\":[{\"marker\":{\"line\":{\"color\":\"white\",\"width\":0.5},\"pattern\":{\"fillmode\":\"overlay\",\"size\":10,\"solidity\":0.2}},\"type\":\"barpolar\"}],\"bar\":[{\"error_x\":{\"color\":\"rgb(36,36,36)\"},\"error_y\":{\"color\":\"rgb(36,36,36)\"},\"marker\":{\"line\":{\"color\":\"white\",\"width\":0.5},\"pattern\":{\"fillmode\":\"overlay\",\"size\":10,\"solidity\":0.2}},\"type\":\"bar\"}],\"carpet\":[{\"aaxis\":{\"endlinecolor\":\"rgb(36,36,36)\",\"gridcolor\":\"white\",\"linecolor\":\"white\",\"minorgridcolor\":\"white\",\"startlinecolor\":\"rgb(36,36,36)\"},\"baxis\":{\"endlinecolor\":\"rgb(36,36,36)\",\"gridcolor\":\"white\",\"linecolor\":\"white\",\"minorgridcolor\":\"white\",\"startlinecolor\":\"rgb(36,36,36)\"},\"type\":\"carpet\"}],\"choropleth\":[{\"colorbar\":{\"outlinewidth\":1,\"tickcolor\":\"rgb(36,36,36)\",\"ticks\":\"outside\"},\"type\":\"choropleth\"}],\"contourcarpet\":[{\"colorbar\":{\"outlinewidth\":1,\"tickcolor\":\"rgb(36,36,36)\",\"ticks\":\"outside\"},\"type\":\"contourcarpet\"}],\"contour\":[{\"colorbar\":{\"outlinewidth\":1,\"tickcolor\":\"rgb(36,36,36)\",\"ticks\":\"outside\"},\"colorscale\":[[0.0,\"#440154\"],[0.1111111111111111,\"#482878\"],[0.2222222222222222,\"#3e4989\"],[0.3333333333333333,\"#31688e\"],[0.4444444444444444,\"#26828e\"],[0.5555555555555556,\"#1f9e89\"],[0.6666666666666666,\"#35b779\"],[0.7777777777777778,\"#6ece58\"],[0.8888888888888888,\"#b5de2b\"],[1.0,\"#fde725\"]],\"type\":\"contour\"}],\"heatmapgl\":[{\"colorbar\":{\"outlinewidth\":1,\"tickcolor\":\"rgb(36,36,36)\",\"ticks\":\"outside\"},\"colorscale\":[[0.0,\"#440154\"],[0.1111111111111111,\"#482878\"],[0.2222222222222222,\"#3e4989\"],[0.3333333333333333,\"#31688e\"],[0.4444444444444444,\"#26828e\"],[0.5555555555555556,\"#1f9e89\"],[0.6666666666666666,\"#35b779\"],[0.7777777777777778,\"#6ece58\"],[0.8888888888888888,\"#b5de2b\"],[1.0,\"#fde725\"]],\"type\":\"heatmapgl\"}],\"heatmap\":[{\"colorbar\":{\"outlinewidth\":1,\"tickcolor\":\"rgb(36,36,36)\",\"ticks\":\"outside\"},\"colorscale\":[[0.0,\"#440154\"],[0.1111111111111111,\"#482878\"],[0.2222222222222222,\"#3e4989\"],[0.3333333333333333,\"#31688e\"],[0.4444444444444444,\"#26828e\"],[0.5555555555555556,\"#1f9e89\"],[0.6666666666666666,\"#35b779\"],[0.7777777777777778,\"#6ece58\"],[0.8888888888888888,\"#b5de2b\"],[1.0,\"#fde725\"]],\"type\":\"heatmap\"}],\"histogram2dcontour\":[{\"colorbar\":{\"outlinewidth\":1,\"tickcolor\":\"rgb(36,36,36)\",\"ticks\":\"outside\"},\"colorscale\":[[0.0,\"#440154\"],[0.1111111111111111,\"#482878\"],[0.2222222222222222,\"#3e4989\"],[0.3333333333333333,\"#31688e\"],[0.4444444444444444,\"#26828e\"],[0.5555555555555556,\"#1f9e89\"],[0.6666666666666666,\"#35b779\"],[0.7777777777777778,\"#6ece58\"],[0.8888888888888888,\"#b5de2b\"],[1.0,\"#fde725\"]],\"type\":\"histogram2dcontour\"}],\"histogram2d\":[{\"colorbar\":{\"outlinewidth\":1,\"tickcolor\":\"rgb(36,36,36)\",\"ticks\":\"outside\"},\"colorscale\":[[0.0,\"#440154\"],[0.1111111111111111,\"#482878\"],[0.2222222222222222,\"#3e4989\"],[0.3333333333333333,\"#31688e\"],[0.4444444444444444,\"#26828e\"],[0.5555555555555556,\"#1f9e89\"],[0.6666666666666666,\"#35b779\"],[0.7777777777777778,\"#6ece58\"],[0.8888888888888888,\"#b5de2b\"],[1.0,\"#fde725\"]],\"type\":\"histogram2d\"}],\"histogram\":[{\"marker\":{\"line\":{\"color\":\"white\",\"width\":0.6}},\"type\":\"histogram\"}],\"mesh3d\":[{\"colorbar\":{\"outlinewidth\":1,\"tickcolor\":\"rgb(36,36,36)\",\"ticks\":\"outside\"},\"type\":\"mesh3d\"}],\"parcoords\":[{\"line\":{\"colorbar\":{\"outlinewidth\":1,\"tickcolor\":\"rgb(36,36,36)\",\"ticks\":\"outside\"}},\"type\":\"parcoords\"}],\"pie\":[{\"automargin\":true,\"type\":\"pie\"}],\"scatter3d\":[{\"line\":{\"colorbar\":{\"outlinewidth\":1,\"tickcolor\":\"rgb(36,36,36)\",\"ticks\":\"outside\"}},\"marker\":{\"colorbar\":{\"outlinewidth\":1,\"tickcolor\":\"rgb(36,36,36)\",\"ticks\":\"outside\"}},\"type\":\"scatter3d\"}],\"scattercarpet\":[{\"marker\":{\"colorbar\":{\"outlinewidth\":1,\"tickcolor\":\"rgb(36,36,36)\",\"ticks\":\"outside\"}},\"type\":\"scattercarpet\"}],\"scattergeo\":[{\"marker\":{\"colorbar\":{\"outlinewidth\":1,\"tickcolor\":\"rgb(36,36,36)\",\"ticks\":\"outside\"}},\"type\":\"scattergeo\"}],\"scattergl\":[{\"marker\":{\"colorbar\":{\"outlinewidth\":1,\"tickcolor\":\"rgb(36,36,36)\",\"ticks\":\"outside\"}},\"type\":\"scattergl\"}],\"scattermapbox\":[{\"marker\":{\"colorbar\":{\"outlinewidth\":1,\"tickcolor\":\"rgb(36,36,36)\",\"ticks\":\"outside\"}},\"type\":\"scattermapbox\"}],\"scatterpolargl\":[{\"marker\":{\"colorbar\":{\"outlinewidth\":1,\"tickcolor\":\"rgb(36,36,36)\",\"ticks\":\"outside\"}},\"type\":\"scatterpolargl\"}],\"scatterpolar\":[{\"marker\":{\"colorbar\":{\"outlinewidth\":1,\"tickcolor\":\"rgb(36,36,36)\",\"ticks\":\"outside\"}},\"type\":\"scatterpolar\"}],\"scatter\":[{\"fillpattern\":{\"fillmode\":\"overlay\",\"size\":10,\"solidity\":0.2},\"type\":\"scatter\"}],\"scatterternary\":[{\"marker\":{\"colorbar\":{\"outlinewidth\":1,\"tickcolor\":\"rgb(36,36,36)\",\"ticks\":\"outside\"}},\"type\":\"scatterternary\"}],\"surface\":[{\"colorbar\":{\"outlinewidth\":1,\"tickcolor\":\"rgb(36,36,36)\",\"ticks\":\"outside\"},\"colorscale\":[[0.0,\"#440154\"],[0.1111111111111111,\"#482878\"],[0.2222222222222222,\"#3e4989\"],[0.3333333333333333,\"#31688e\"],[0.4444444444444444,\"#26828e\"],[0.5555555555555556,\"#1f9e89\"],[0.6666666666666666,\"#35b779\"],[0.7777777777777778,\"#6ece58\"],[0.8888888888888888,\"#b5de2b\"],[1.0,\"#fde725\"]],\"type\":\"surface\"}],\"table\":[{\"cells\":{\"fill\":{\"color\":\"rgb(237,237,237)\"},\"line\":{\"color\":\"white\"}},\"header\":{\"fill\":{\"color\":\"rgb(217,217,217)\"},\"line\":{\"color\":\"white\"}},\"type\":\"table\"}]},\"layout\":{\"annotationdefaults\":{\"arrowhead\":0,\"arrowwidth\":1},\"autotypenumbers\":\"strict\",\"coloraxis\":{\"colorbar\":{\"outlinewidth\":1,\"tickcolor\":\"rgb(36,36,36)\",\"ticks\":\"outside\"}},\"colorscale\":{\"diverging\":[[0.0,\"rgb(103,0,31)\"],[0.1,\"rgb(178,24,43)\"],[0.2,\"rgb(214,96,77)\"],[0.3,\"rgb(244,165,130)\"],[0.4,\"rgb(253,219,199)\"],[0.5,\"rgb(247,247,247)\"],[0.6,\"rgb(209,229,240)\"],[0.7,\"rgb(146,197,222)\"],[0.8,\"rgb(67,147,195)\"],[0.9,\"rgb(33,102,172)\"],[1.0,\"rgb(5,48,97)\"]],\"sequential\":[[0.0,\"#440154\"],[0.1111111111111111,\"#482878\"],[0.2222222222222222,\"#3e4989\"],[0.3333333333333333,\"#31688e\"],[0.4444444444444444,\"#26828e\"],[0.5555555555555556,\"#1f9e89\"],[0.6666666666666666,\"#35b779\"],[0.7777777777777778,\"#6ece58\"],[0.8888888888888888,\"#b5de2b\"],[1.0,\"#fde725\"]],\"sequentialminus\":[[0.0,\"#440154\"],[0.1111111111111111,\"#482878\"],[0.2222222222222222,\"#3e4989\"],[0.3333333333333333,\"#31688e\"],[0.4444444444444444,\"#26828e\"],[0.5555555555555556,\"#1f9e89\"],[0.6666666666666666,\"#35b779\"],[0.7777777777777778,\"#6ece58\"],[0.8888888888888888,\"#b5de2b\"],[1.0,\"#fde725\"]]},\"colorway\":[\"#91268F\",\"#8CC63E\",\"#00A7A0\",\"#F05A28\",\"#4C4C4C\",\"#630460\",\"#9f3913\",\"#588527\",\"#00716c\",\"#3e4040\"],\"font\":{\"color\":\"rgb(36,36,36)\",\"family\":\"Poppins\",\"size\":11},\"geo\":{\"bgcolor\":\"white\",\"lakecolor\":\"white\",\"landcolor\":\"white\",\"showlakes\":true,\"showland\":true,\"subunitcolor\":\"white\"},\"hoverlabel\":{\"align\":\"left\"},\"hovermode\":\"closest\",\"mapbox\":{\"style\":\"light\"},\"paper_bgcolor\":\"white\",\"plot_bgcolor\":\"white\",\"polar\":{\"angularaxis\":{\"gridcolor\":\"rgb(232,232,232)\",\"linecolor\":\"rgb(36,36,36)\",\"showgrid\":false,\"showline\":true,\"ticks\":\"outside\"},\"bgcolor\":\"white\",\"radialaxis\":{\"gridcolor\":\"rgb(232,232,232)\",\"linecolor\":\"rgb(36,36,36)\",\"showgrid\":false,\"showline\":true,\"ticks\":\"outside\"}},\"scene\":{\"xaxis\":{\"backgroundcolor\":\"white\",\"gridcolor\":\"rgb(232,232,232)\",\"gridwidth\":2,\"linecolor\":\"rgb(36,36,36)\",\"showbackground\":true,\"showgrid\":false,\"showline\":true,\"ticks\":\"outside\",\"zeroline\":false,\"zerolinecolor\":\"rgb(36,36,36)\"},\"yaxis\":{\"backgroundcolor\":\"white\",\"gridcolor\":\"rgb(232,232,232)\",\"gridwidth\":2,\"linecolor\":\"rgb(36,36,36)\",\"showbackground\":true,\"showgrid\":false,\"showline\":true,\"ticks\":\"outside\",\"zeroline\":false,\"zerolinecolor\":\"rgb(36,36,36)\"},\"zaxis\":{\"backgroundcolor\":\"white\",\"gridcolor\":\"rgb(232,232,232)\",\"gridwidth\":2,\"linecolor\":\"rgb(36,36,36)\",\"showbackground\":true,\"showgrid\":false,\"showline\":true,\"ticks\":\"outside\",\"zeroline\":false,\"zerolinecolor\":\"rgb(36,36,36)\"}},\"shapedefaults\":{\"fillcolor\":\"black\",\"line\":{\"width\":0},\"opacity\":0.3},\"ternary\":{\"aaxis\":{\"gridcolor\":\"rgb(232,232,232)\",\"linecolor\":\"rgb(36,36,36)\",\"showgrid\":false,\"showline\":true,\"ticks\":\"outside\"},\"baxis\":{\"gridcolor\":\"rgb(232,232,232)\",\"linecolor\":\"rgb(36,36,36)\",\"showgrid\":false,\"showline\":true,\"ticks\":\"outside\"},\"bgcolor\":\"white\",\"caxis\":{\"gridcolor\":\"rgb(232,232,232)\",\"linecolor\":\"rgb(36,36,36)\",\"showgrid\":false,\"showline\":true,\"ticks\":\"outside\"}},\"title\":{\"x\":0.05},\"xaxis\":{\"automargin\":true,\"gridcolor\":\"rgb(232,232,232)\",\"linecolor\":\"rgb(36,36,36)\",\"showgrid\":false,\"showline\":true,\"ticks\":\"outside\",\"title\":{\"standoff\":15},\"zeroline\":false,\"zerolinecolor\":\"rgb(36,36,36)\"},\"yaxis\":{\"automargin\":true,\"gridcolor\":\"rgb(232,232,232)\",\"linecolor\":\"rgb(36,36,36)\",\"showgrid\":false,\"showline\":true,\"ticks\":\"outside\",\"title\":{\"standoff\":15},\"zeroline\":false,\"zerolinecolor\":\"rgb(36,36,36)\"}}},\"xaxis\":{\"anchor\":\"y\",\"domain\":[0.0,0.49],\"title\":{\"text\":\"percentage\"},\"tickformat\":\".1%\"},\"yaxis\":{\"anchor\":\"x\",\"domain\":[0.0,0.46499999999999997],\"title\":{\"text\":\"mode_label\"},\"categoryorder\":\"array\",\"categoryarray\":[\"9: other\\u2013survey only\",\"8: school bus\",\"6: transit\",\"5: hov 3+\",\"4: hov 2\",\"3: sov\",\"2: bike\",\"1: walk\"]},\"xaxis2\":{\"anchor\":\"y2\",\"domain\":[0.51,1.0],\"matches\":\"x\",\"title\":{\"text\":\"percentage\"},\"tickformat\":\".1%\"},\"yaxis2\":{\"anchor\":\"x2\",\"domain\":[0.0,0.46499999999999997],\"matches\":\"y\",\"showticklabels\":false},\"xaxis3\":{\"anchor\":\"y3\",\"domain\":[0.0,0.49],\"matches\":\"x\",\"showticklabels\":false,\"tickformat\":\".1%\"},\"yaxis3\":{\"anchor\":\"x3\",\"domain\":[0.5349999999999999,0.9999999999999999],\"matches\":\"y\",\"title\":{\"text\":\"mode_label\"},\"categoryorder\":\"array\",\"categoryarray\":[\"9: other\\u2013survey only\",\"8: school bus\",\"6: transit\",\"5: hov 3+\",\"4: hov 2\",\"3: sov\",\"2: bike\",\"1: walk\"]},\"xaxis4\":{\"anchor\":\"y4\",\"domain\":[0.51,1.0],\"matches\":\"x\",\"showticklabels\":false,\"tickformat\":\".1%\"},\"yaxis4\":{\"anchor\":\"x4\",\"domain\":[0.5349999999999999,0.9999999999999999],\"matches\":\"y\",\"showticklabels\":false},\"annotations\":[{\"font\":{},\"showarrow\":false,\"text\":\"3\",\"x\":0.245,\"xanchor\":\"center\",\"xref\":\"paper\",\"y\":0.46499999999999997,\"yanchor\":\"bottom\",\"yref\":\"paper\"},{\"font\":{},\"showarrow\":false,\"text\":\"4+\",\"x\":0.755,\"xanchor\":\"center\",\"xref\":\"paper\",\"y\":0.46499999999999997,\"yanchor\":\"bottom\",\"yref\":\"paper\"},{\"font\":{},\"showarrow\":false,\"text\":\"1\",\"x\":0.245,\"xanchor\":\"center\",\"xref\":\"paper\",\"y\":0.9999999999999999,\"yanchor\":\"bottom\",\"yref\":\"paper\"},{\"font\":{},\"showarrow\":false,\"text\":\"2\",\"x\":0.755,\"xanchor\":\"center\",\"xref\":\"paper\",\"y\":0.9999999999999999,\"yanchor\":\"bottom\",\"yref\":\"paper\"}],\"legend\":{\"title\":{\"text\":\"source\"},\"tracegroupgap\":0},\"title\":{\"text\":\"school trip mode choice by household size\"},\"barmode\":\"group\",\"height\":600,\"width\":800},                        {\"responsive\": true}                    ).then(function(){\n",
       "                            \n",
       "var gd = document.getElementById('463cd6bf-aa77-4321-af31-e12d48b60846');\n",
       "var x = new MutationObserver(function (mutations, observer) {{\n",
       "        var display = window.getComputedStyle(gd).display;\n",
       "        if (!display || display === 'none') {{\n",
       "            console.log([gd, 'removed!']);\n",
       "            Plotly.purge(gd);\n",
       "            observer.disconnect();\n",
       "        }}\n",
       "}});\n",
       "\n",
       "// Listen for the removal of the full notebook cells\n",
       "var notebookContainer = gd.closest('#notebook-container');\n",
       "if (notebookContainer) {{\n",
       "    x.observe(notebookContainer, {childList: true});\n",
       "}}\n",
       "\n",
       "// Listen for the clearing of the current output cell\n",
       "var outputEl = gd.closest('.output');\n",
       "if (outputEl) {{\n",
       "    x.observe(outputEl, {childList: true});\n",
       "}}\n",
       "\n",
       "                        })                };                });            </script>        </div>"
      ]
     },
     "metadata": {},
     "output_type": "display_data"
    }
   ],
   "source": [
    "plot_mode_choice(sc_trip,\"hhsize_4+\",\n",
    "                 {\"hhsize_4+\":[\"1\",\"2\",\"3\",\"4+\"],\n",
    "                  \"mode_label\":[\"1: walk\",\"2: bike\",\"3: sov\",\"4: hov 2\",\"5: hov 3+\",\"6: transit\",\n",
    "                                   \"8: school bus\",\"9: other–survey only\"]},\n",
    "                 \"household size\",2,600)"
   ]
  },
  {
   "cell_type": "raw",
   "metadata": {},
   "source": [
    "### auto ownership"
   ]
  },
  {
   "cell_type": "code",
   "execution_count": 9,
   "metadata": {
    "execution": {
     "iopub.execute_input": "2025-01-21T07:12:40.779159Z",
     "iopub.status.busy": "2025-01-21T07:12:40.777165Z",
     "iopub.status.idle": "2025-01-21T07:12:41.437870Z",
     "shell.execute_reply": "2025-01-21T07:12:41.435875Z"
    }
   },
   "outputs": [
    {
     "data": {
      "application/vnd.plotly.v1+json": {
       "config": {
        "plotlyServerURL": "https://plot.ly"
       },
       "data": [
        {
         "alignmentgroup": "True",
         "customdata": [
          [
           5495
          ],
          [
           2280
          ],
          [
           1475
          ],
          [
           4624
          ],
          [
           2853
          ],
          [
           154
          ]
         ],
         "hovertemplate": "source=model<br>auto_ownership_4+=0<br>percentage=%{x}<br>mode_label=%{y}<br>sample count=%{customdata[0]}<extra></extra>",
         "legendgroup": "model",
         "marker": {
          "color": "#91268F",
          "pattern": {
           "shape": ""
          }
         },
         "name": "model",
         "offsetgroup": "model",
         "orientation": "h",
         "showlegend": true,
         "textposition": "auto",
         "type": "bar",
         "x": [
          0.3255138913571471,
          0.13506308867958058,
          0.08737634026420235,
          0.27391742195367574,
          0.1690065754398436,
          0.00912268230555062
         ],
         "xaxis": "x5",
         "y": [
          "1: walk",
          "2: bike",
          "4: hov 2",
          "5: hov 3+",
          "6: transit",
          "8: school bus"
         ],
         "yaxis": "y5"
        },
        {
         "alignmentgroup": "True",
         "customdata": [
          [
           16755
          ],
          [
           2173
          ],
          [
           5932
          ],
          [
           29116
          ],
          [
           25279
          ],
          [
           3988
          ],
          [
           24846
          ],
          [
           1
          ]
         ],
         "hovertemplate": "source=model<br>auto_ownership_4+=1<br>percentage=%{x}<br>mode_label=%{y}<br>sample count=%{customdata[0]}<extra></extra>",
         "legendgroup": "model",
         "marker": {
          "color": "#91268F",
          "pattern": {
           "shape": ""
          }
         },
         "name": "model",
         "offsetgroup": "model",
         "orientation": "h",
         "showlegend": false,
         "textposition": "auto",
         "type": "bar",
         "x": [
          0.15500971412711628,
          0.020103617355907114,
          0.0548801924322324,
          0.2693681191599593,
          0.23386992321213804,
          0.03689517994264039,
          0.2298640022203719,
          0.000009251549634563789
         ],
         "xaxis": "x6",
         "y": [
          "1: walk",
          "2: bike",
          "3: sov",
          "4: hov 2",
          "5: hov 3+",
          "6: transit",
          "8: school bus",
          "9: tnc"
         ],
         "yaxis": "y6"
        },
        {
         "alignmentgroup": "True",
         "customdata": [
          [
           25427
          ],
          [
           6389
          ],
          [
           16625
          ],
          [
           62751
          ],
          [
           86756
          ],
          [
           7765
          ],
          [
           47952
          ],
          [
           5
          ]
         ],
         "hovertemplate": "source=model<br>auto_ownership_4+=2<br>percentage=%{x}<br>mode_label=%{y}<br>sample count=%{customdata[0]}<extra></extra>",
         "legendgroup": "model",
         "marker": {
          "color": "#91268F",
          "pattern": {
           "shape": ""
          }
         },
         "name": "model",
         "offsetgroup": "model",
         "orientation": "h",
         "showlegend": false,
         "textposition": "auto",
         "type": "bar",
         "x": [
          0.1002365277723026,
          0.025186265620688295,
          0.0655379035755115,
          0.247372570662672,
          0.342003390231403,
          0.03061063586549454,
          0.1890329956242362,
          0.000019710647691883155
         ],
         "xaxis": "x3",
         "y": [
          "1: walk",
          "2: bike",
          "3: sov",
          "4: hov 2",
          "5: hov 3+",
          "6: transit",
          "8: school bus",
          "9: tnc"
         ],
         "yaxis": "y3"
        },
        {
         "alignmentgroup": "True",
         "customdata": [
          [
           11455
          ],
          [
           2803
          ],
          [
           24110
          ],
          [
           28491
          ],
          [
           38694
          ],
          [
           3789
          ],
          [
           22134
          ],
          [
           2
          ]
         ],
         "hovertemplate": "source=model<br>auto_ownership_4+=3<br>percentage=%{x}<br>mode_label=%{y}<br>sample count=%{customdata[0]}<extra></extra>",
         "legendgroup": "model",
         "marker": {
          "color": "#91268F",
          "pattern": {
           "shape": ""
          }
         },
         "name": "model",
         "offsetgroup": "model",
         "orientation": "h",
         "showlegend": false,
         "textposition": "auto",
         "type": "bar",
         "x": [
          0.08712484217891966,
          0.021319156056526567,
          0.18337668659395487,
          0.2166978505909734,
          0.29430018710354583,
          0.028818509560534843,
          0.16834755624515127,
          0.000015211670393525913
         ],
         "xaxis": "x4",
         "y": [
          "1: walk",
          "2: bike",
          "3: sov",
          "4: hov 2",
          "5: hov 3+",
          "6: transit",
          "8: school bus",
          "9: tnc"
         ],
         "yaxis": "y4"
        },
        {
         "alignmentgroup": "True",
         "customdata": [
          [
           5292
          ],
          [
           1268
          ],
          [
           17174
          ],
          [
           12416
          ],
          [
           17431
          ],
          [
           2080
          ],
          [
           10128
          ]
         ],
         "hovertemplate": "source=model<br>auto_ownership_4+=4+<br>percentage=%{x}<br>mode_label=%{y}<br>sample count=%{customdata[0]}<extra></extra>",
         "legendgroup": "model",
         "marker": {
          "color": "#91268F",
          "pattern": {
           "shape": ""
          }
         },
         "name": "model",
         "offsetgroup": "model",
         "orientation": "h",
         "showlegend": false,
         "textposition": "auto",
         "type": "bar",
         "x": [
          0.08043897916064996,
          0.01927373877091915,
          0.2610466795360927,
          0.18872455881682348,
          0.2649531076623752,
          0.03161622763683899,
          0.1539467084163006
         ],
         "xaxis": "x",
         "y": [
          "1: walk",
          "2: bike",
          "3: sov",
          "4: hov 2",
          "5: hov 3+",
          "6: transit",
          "8: school bus"
         ],
         "yaxis": "y"
        },
        {
         "alignmentgroup": "True",
         "customdata": [
          [
           15
          ],
          [
           1
          ],
          [
           2
          ],
          [
           7
          ],
          [
           2
          ],
          [
           2
          ]
         ],
         "hovertemplate": "source=survey<br>auto_ownership_4+=0<br>percentage=%{x}<br>mode_label=%{y}<br>sample count=%{customdata[0]}<extra></extra>",
         "legendgroup": "survey",
         "marker": {
          "color": "#8CC63E",
          "pattern": {
           "shape": ""
          }
         },
         "name": "survey",
         "offsetgroup": "survey",
         "orientation": "h",
         "showlegend": true,
         "textposition": "auto",
         "type": "bar",
         "x": [
          0.23490301643253314,
          0.12799433216348818,
          0.40456073456992553,
          0.12455778308207745,
          0.005832670622227687,
          0.10215146312974811
         ],
         "xaxis": "x5",
         "y": [
          "1: walk",
          "2: bike",
          "4: hov 2",
          "6: transit",
          "8: school bus",
          "9: tnc"
         ],
         "yaxis": "y5"
        },
        {
         "alignmentgroup": "True",
         "customdata": [
          [
           37
          ],
          [
           9
          ],
          [
           8
          ],
          [
           28
          ],
          [
           35
          ],
          [
           16
          ],
          [
           37
          ],
          [
           1
          ]
         ],
         "hovertemplate": "source=survey<br>auto_ownership_4+=1<br>percentage=%{x}<br>mode_label=%{y}<br>sample count=%{customdata[0]}<extra></extra>",
         "legendgroup": "survey",
         "marker": {
          "color": "#8CC63E",
          "pattern": {
           "shape": ""
          }
         },
         "name": "survey",
         "offsetgroup": "survey",
         "orientation": "h",
         "showlegend": false,
         "textposition": "auto",
         "type": "bar",
         "x": [
          0.11917732375948042,
          0.005958703237266285,
          0.028106348108920102,
          0.11789158036193859,
          0.3858167961994485,
          0.06549165981809928,
          0.2556879084128161,
          0.021869680102030754
         ],
         "xaxis": "x6",
         "y": [
          "1: walk",
          "2: bike",
          "3: sov",
          "4: hov 2",
          "5: hov 3+",
          "6: transit",
          "8: school bus",
          "9: tnc"
         ],
         "yaxis": "y6"
        },
        {
         "alignmentgroup": "True",
         "customdata": [
          [
           42
          ],
          [
           8
          ],
          [
           13
          ],
          [
           99
          ],
          [
           94
          ],
          [
           12
          ],
          [
           71
          ]
         ],
         "hovertemplate": "source=survey<br>auto_ownership_4+=2<br>percentage=%{x}<br>mode_label=%{y}<br>sample count=%{customdata[0]}<extra></extra>",
         "legendgroup": "survey",
         "marker": {
          "color": "#8CC63E",
          "pattern": {
           "shape": ""
          }
         },
         "name": "survey",
         "offsetgroup": "survey",
         "orientation": "h",
         "showlegend": false,
         "textposition": "auto",
         "type": "bar",
         "x": [
          0.0899648741018544,
          0.0025383035865107245,
          0.04169772237294571,
          0.30260781388633995,
          0.34695670907120085,
          0.03990829879830286,
          0.17632627818284555
         ],
         "xaxis": "x3",
         "y": [
          "1: walk",
          "2: bike",
          "3: sov",
          "4: hov 2",
          "5: hov 3+",
          "6: transit",
          "8: school bus"
         ],
         "yaxis": "y3"
        },
        {
         "alignmentgroup": "True",
         "customdata": [
          [
           4
          ],
          [
           3
          ],
          [
           18
          ],
          [
           19
          ],
          [
           28
          ],
          [
           1
          ],
          [
           17
          ]
         ],
         "hovertemplate": "source=survey<br>auto_ownership_4+=3<br>percentage=%{x}<br>mode_label=%{y}<br>sample count=%{customdata[0]}<extra></extra>",
         "legendgroup": "survey",
         "marker": {
          "color": "#8CC63E",
          "pattern": {
           "shape": ""
          }
         },
         "name": "survey",
         "offsetgroup": "survey",
         "orientation": "h",
         "showlegend": false,
         "textposition": "auto",
         "type": "bar",
         "x": [
          0.014795453023421409,
          0.07818873904031007,
          0.20378225674865724,
          0.11849159038871704,
          0.43197131169649006,
          0.01807750732672755,
          0.13469314177567654
         ],
         "xaxis": "x4",
         "y": [
          "1: walk",
          "2: bike",
          "3: sov",
          "4: hov 2",
          "5: hov 3+",
          "6: transit",
          "8: school bus"
         ],
         "yaxis": "y4"
        },
        {
         "alignmentgroup": "True",
         "customdata": [
          [
           1
          ],
          [
           1
          ],
          [
           12
          ],
          [
           4
          ],
          [
           4
          ],
          [
           2
          ],
          [
           6
          ]
         ],
         "hovertemplate": "source=survey<br>auto_ownership_4+=4+<br>percentage=%{x}<br>mode_label=%{y}<br>sample count=%{customdata[0]}<extra></extra>",
         "legendgroup": "survey",
         "marker": {
          "color": "#8CC63E",
          "pattern": {
           "shape": ""
          }
         },
         "name": "survey",
         "offsetgroup": "survey",
         "orientation": "h",
         "showlegend": false,
         "textposition": "auto",
         "type": "bar",
         "x": [
          0.02255565772167462,
          0.00223408358620177,
          0.4436875890180768,
          0.12412363490088847,
          0.24420952335434054,
          0.002727047463812584,
          0.16046246395500516
         ],
         "xaxis": "x",
         "y": [
          "1: walk",
          "2: bike",
          "3: sov",
          "4: hov 2",
          "5: hov 3+",
          "6: transit",
          "8: school bus"
         ],
         "yaxis": "y"
        },
        {
         "alignmentgroup": "True",
         "customdata": [
          [
           46
          ],
          [
           14
          ],
          [
           3
          ],
          [
           2
          ],
          [
           50
          ],
          [
           3
          ],
          [
           5
          ]
         ],
         "hovertemplate": "source=survey (2017/2019)<br>auto_ownership_4+=0<br>percentage=%{x}<br>mode_label=%{y}<br>sample count=%{customdata[0]}<extra></extra>",
         "legendgroup": "survey (2017/2019)",
         "marker": {
          "color": "#00A7A0",
          "pattern": {
           "shape": ""
          }
         },
         "name": "survey (2017/2019)",
         "offsetgroup": "survey (2017/2019)",
         "orientation": "h",
         "showlegend": true,
         "textposition": "auto",
         "type": "bar",
         "x": [
          0.23485898739697264,
          0.08572641746091675,
          0.2285144480615143,
          0.003632273148831025,
          0.4096185732086663,
          0.023210520434313826,
          0.014438780288785043
         ],
         "xaxis": "x5",
         "y": [
          "1: walk",
          "2: bike",
          "4: hov 2",
          "5: hov 3+",
          "6: transit",
          "8: school bus",
          "9: tnc"
         ],
         "yaxis": "y5"
        },
        {
         "alignmentgroup": "True",
         "customdata": [
          [
           79
          ],
          [
           20
          ],
          [
           43
          ],
          [
           85
          ],
          [
           42
          ],
          [
           74
          ],
          [
           39
          ],
          [
           3
          ]
         ],
         "hovertemplate": "source=survey (2017/2019)<br>auto_ownership_4+=1<br>percentage=%{x}<br>mode_label=%{y}<br>sample count=%{customdata[0]}<extra></extra>",
         "legendgroup": "survey (2017/2019)",
         "marker": {
          "color": "#00A7A0",
          "pattern": {
           "shape": ""
          }
         },
         "name": "survey (2017/2019)",
         "offsetgroup": "survey (2017/2019)",
         "orientation": "h",
         "showlegend": false,
         "textposition": "auto",
         "type": "bar",
         "x": [
          0.24654472216687529,
          0.012468453772339684,
          0.22515152830823007,
          0.1133120179194725,
          0.1189852823473798,
          0.12917857911489047,
          0.15041838158297458,
          0.003941034787837632
         ],
         "xaxis": "x6",
         "y": [
          "1: walk",
          "2: bike",
          "3: sov",
          "4: hov 2",
          "5: hov 3+",
          "6: transit",
          "8: school bus",
          "9: tnc"
         ],
         "yaxis": "y6"
        },
        {
         "alignmentgroup": "True",
         "customdata": [
          [
           63
          ],
          [
           9
          ],
          [
           45
          ],
          [
           155
          ],
          [
           185
          ],
          [
           52
          ],
          [
           96
          ],
          [
           1
          ]
         ],
         "hovertemplate": "source=survey (2017/2019)<br>auto_ownership_4+=2<br>percentage=%{x}<br>mode_label=%{y}<br>sample count=%{customdata[0]}<extra></extra>",
         "legendgroup": "survey (2017/2019)",
         "marker": {
          "color": "#00A7A0",
          "pattern": {
           "shape": ""
          }
         },
         "name": "survey (2017/2019)",
         "offsetgroup": "survey (2017/2019)",
         "orientation": "h",
         "showlegend": false,
         "textposition": "auto",
         "type": "bar",
         "x": [
          0.08627174311100308,
          0.007571574867657652,
          0.0587999320359145,
          0.1642888190455106,
          0.4211792932073448,
          0.0775700988985259,
          0.18337464403931597,
          0.0009438947947273938
         ],
         "xaxis": "x3",
         "y": [
          "1: walk",
          "2: bike",
          "3: sov",
          "4: hov 2",
          "5: hov 3+",
          "6: transit",
          "8: school bus",
          "9: tnc"
         ],
         "yaxis": "y3"
        },
        {
         "alignmentgroup": "True",
         "customdata": [
          [
           13
          ],
          [
           1
          ],
          [
           21
          ],
          [
           36
          ],
          [
           52
          ],
          [
           6
          ],
          [
           26
          ]
         ],
         "hovertemplate": "source=survey (2017/2019)<br>auto_ownership_4+=3<br>percentage=%{x}<br>mode_label=%{y}<br>sample count=%{customdata[0]}<extra></extra>",
         "legendgroup": "survey (2017/2019)",
         "marker": {
          "color": "#00A7A0",
          "pattern": {
           "shape": ""
          }
         },
         "name": "survey (2017/2019)",
         "offsetgroup": "survey (2017/2019)",
         "orientation": "h",
         "showlegend": false,
         "textposition": "auto",
         "type": "bar",
         "x": [
          0.010963351339637814,
          0.00031029382462227867,
          0.12842211860366765,
          0.19396099528987984,
          0.4658220649412752,
          0.03881992291143113,
          0.16170125308948619
         ],
         "xaxis": "x4",
         "y": [
          "1: walk",
          "2: bike",
          "3: sov",
          "4: hov 2",
          "5: hov 3+",
          "6: transit",
          "8: school bus"
         ],
         "yaxis": "y4"
        },
        {
         "alignmentgroup": "True",
         "customdata": [
          [
           6
          ],
          [
           14
          ],
          [
           9
          ],
          [
           8
          ],
          [
           4
          ],
          [
           9
          ]
         ],
         "hovertemplate": "source=survey (2017/2019)<br>auto_ownership_4+=4+<br>percentage=%{x}<br>mode_label=%{y}<br>sample count=%{customdata[0]}<extra></extra>",
         "legendgroup": "survey (2017/2019)",
         "marker": {
          "color": "#00A7A0",
          "pattern": {
           "shape": ""
          }
         },
         "name": "survey (2017/2019)",
         "offsetgroup": "survey (2017/2019)",
         "orientation": "h",
         "showlegend": false,
         "textposition": "auto",
         "type": "bar",
         "x": [
          0.09623992336080717,
          0.3389138801003132,
          0.24973952360208385,
          0.10069832521634646,
          0.09409281753039775,
          0.1203155301900516
         ],
         "xaxis": "x",
         "y": [
          "1: walk",
          "3: sov",
          "4: hov 2",
          "5: hov 3+",
          "6: transit",
          "8: school bus"
         ],
         "yaxis": "y"
        }
       ],
       "layout": {
        "annotations": [
         {
          "font": {},
          "showarrow": false,
          "text": "4+",
          "x": 0.245,
          "xanchor": "center",
          "xref": "paper",
          "y": 0.2866666666666666,
          "yanchor": "bottom",
          "yref": "paper"
         },
         {
          "font": {},
          "showarrow": false,
          "text": "2",
          "x": 0.245,
          "xanchor": "center",
          "xref": "paper",
          "y": 0.6433333333333333,
          "yanchor": "bottom",
          "yref": "paper"
         },
         {
          "font": {},
          "showarrow": false,
          "text": "3",
          "x": 0.755,
          "xanchor": "center",
          "xref": "paper",
          "y": 0.6433333333333333,
          "yanchor": "bottom",
          "yref": "paper"
         },
         {
          "font": {},
          "showarrow": false,
          "text": "0",
          "x": 0.245,
          "xanchor": "center",
          "xref": "paper",
          "y": 0.9999999999999999,
          "yanchor": "bottom",
          "yref": "paper"
         },
         {
          "font": {},
          "showarrow": false,
          "text": "1",
          "x": 0.755,
          "xanchor": "center",
          "xref": "paper",
          "y": 0.9999999999999999,
          "yanchor": "bottom",
          "yref": "paper"
         }
        ],
        "barmode": "group",
        "height": 800,
        "legend": {
         "title": {
          "text": "source"
         },
         "tracegroupgap": 0
        },
        "template": {
         "data": {
          "bar": [
           {
            "error_x": {
             "color": "rgb(36,36,36)"
            },
            "error_y": {
             "color": "rgb(36,36,36)"
            },
            "marker": {
             "line": {
              "color": "white",
              "width": 0.5
             },
             "pattern": {
              "fillmode": "overlay",
              "size": 10,
              "solidity": 0.2
             }
            },
            "type": "bar"
           }
          ],
          "barpolar": [
           {
            "marker": {
             "line": {
              "color": "white",
              "width": 0.5
             },
             "pattern": {
              "fillmode": "overlay",
              "size": 10,
              "solidity": 0.2
             }
            },
            "type": "barpolar"
           }
          ],
          "carpet": [
           {
            "aaxis": {
             "endlinecolor": "rgb(36,36,36)",
             "gridcolor": "white",
             "linecolor": "white",
             "minorgridcolor": "white",
             "startlinecolor": "rgb(36,36,36)"
            },
            "baxis": {
             "endlinecolor": "rgb(36,36,36)",
             "gridcolor": "white",
             "linecolor": "white",
             "minorgridcolor": "white",
             "startlinecolor": "rgb(36,36,36)"
            },
            "type": "carpet"
           }
          ],
          "choropleth": [
           {
            "colorbar": {
             "outlinewidth": 1,
             "tickcolor": "rgb(36,36,36)",
             "ticks": "outside"
            },
            "type": "choropleth"
           }
          ],
          "contour": [
           {
            "colorbar": {
             "outlinewidth": 1,
             "tickcolor": "rgb(36,36,36)",
             "ticks": "outside"
            },
            "colorscale": [
             [
              0,
              "#440154"
             ],
             [
              0.1111111111111111,
              "#482878"
             ],
             [
              0.2222222222222222,
              "#3e4989"
             ],
             [
              0.3333333333333333,
              "#31688e"
             ],
             [
              0.4444444444444444,
              "#26828e"
             ],
             [
              0.5555555555555556,
              "#1f9e89"
             ],
             [
              0.6666666666666666,
              "#35b779"
             ],
             [
              0.7777777777777778,
              "#6ece58"
             ],
             [
              0.8888888888888888,
              "#b5de2b"
             ],
             [
              1,
              "#fde725"
             ]
            ],
            "type": "contour"
           }
          ],
          "contourcarpet": [
           {
            "colorbar": {
             "outlinewidth": 1,
             "tickcolor": "rgb(36,36,36)",
             "ticks": "outside"
            },
            "type": "contourcarpet"
           }
          ],
          "heatmap": [
           {
            "colorbar": {
             "outlinewidth": 1,
             "tickcolor": "rgb(36,36,36)",
             "ticks": "outside"
            },
            "colorscale": [
             [
              0,
              "#440154"
             ],
             [
              0.1111111111111111,
              "#482878"
             ],
             [
              0.2222222222222222,
              "#3e4989"
             ],
             [
              0.3333333333333333,
              "#31688e"
             ],
             [
              0.4444444444444444,
              "#26828e"
             ],
             [
              0.5555555555555556,
              "#1f9e89"
             ],
             [
              0.6666666666666666,
              "#35b779"
             ],
             [
              0.7777777777777778,
              "#6ece58"
             ],
             [
              0.8888888888888888,
              "#b5de2b"
             ],
             [
              1,
              "#fde725"
             ]
            ],
            "type": "heatmap"
           }
          ],
          "heatmapgl": [
           {
            "colorbar": {
             "outlinewidth": 1,
             "tickcolor": "rgb(36,36,36)",
             "ticks": "outside"
            },
            "colorscale": [
             [
              0,
              "#440154"
             ],
             [
              0.1111111111111111,
              "#482878"
             ],
             [
              0.2222222222222222,
              "#3e4989"
             ],
             [
              0.3333333333333333,
              "#31688e"
             ],
             [
              0.4444444444444444,
              "#26828e"
             ],
             [
              0.5555555555555556,
              "#1f9e89"
             ],
             [
              0.6666666666666666,
              "#35b779"
             ],
             [
              0.7777777777777778,
              "#6ece58"
             ],
             [
              0.8888888888888888,
              "#b5de2b"
             ],
             [
              1,
              "#fde725"
             ]
            ],
            "type": "heatmapgl"
           }
          ],
          "histogram": [
           {
            "marker": {
             "line": {
              "color": "white",
              "width": 0.6
             }
            },
            "type": "histogram"
           }
          ],
          "histogram2d": [
           {
            "colorbar": {
             "outlinewidth": 1,
             "tickcolor": "rgb(36,36,36)",
             "ticks": "outside"
            },
            "colorscale": [
             [
              0,
              "#440154"
             ],
             [
              0.1111111111111111,
              "#482878"
             ],
             [
              0.2222222222222222,
              "#3e4989"
             ],
             [
              0.3333333333333333,
              "#31688e"
             ],
             [
              0.4444444444444444,
              "#26828e"
             ],
             [
              0.5555555555555556,
              "#1f9e89"
             ],
             [
              0.6666666666666666,
              "#35b779"
             ],
             [
              0.7777777777777778,
              "#6ece58"
             ],
             [
              0.8888888888888888,
              "#b5de2b"
             ],
             [
              1,
              "#fde725"
             ]
            ],
            "type": "histogram2d"
           }
          ],
          "histogram2dcontour": [
           {
            "colorbar": {
             "outlinewidth": 1,
             "tickcolor": "rgb(36,36,36)",
             "ticks": "outside"
            },
            "colorscale": [
             [
              0,
              "#440154"
             ],
             [
              0.1111111111111111,
              "#482878"
             ],
             [
              0.2222222222222222,
              "#3e4989"
             ],
             [
              0.3333333333333333,
              "#31688e"
             ],
             [
              0.4444444444444444,
              "#26828e"
             ],
             [
              0.5555555555555556,
              "#1f9e89"
             ],
             [
              0.6666666666666666,
              "#35b779"
             ],
             [
              0.7777777777777778,
              "#6ece58"
             ],
             [
              0.8888888888888888,
              "#b5de2b"
             ],
             [
              1,
              "#fde725"
             ]
            ],
            "type": "histogram2dcontour"
           }
          ],
          "mesh3d": [
           {
            "colorbar": {
             "outlinewidth": 1,
             "tickcolor": "rgb(36,36,36)",
             "ticks": "outside"
            },
            "type": "mesh3d"
           }
          ],
          "parcoords": [
           {
            "line": {
             "colorbar": {
              "outlinewidth": 1,
              "tickcolor": "rgb(36,36,36)",
              "ticks": "outside"
             }
            },
            "type": "parcoords"
           }
          ],
          "pie": [
           {
            "automargin": true,
            "type": "pie"
           }
          ],
          "scatter": [
           {
            "fillpattern": {
             "fillmode": "overlay",
             "size": 10,
             "solidity": 0.2
            },
            "type": "scatter"
           }
          ],
          "scatter3d": [
           {
            "line": {
             "colorbar": {
              "outlinewidth": 1,
              "tickcolor": "rgb(36,36,36)",
              "ticks": "outside"
             }
            },
            "marker": {
             "colorbar": {
              "outlinewidth": 1,
              "tickcolor": "rgb(36,36,36)",
              "ticks": "outside"
             }
            },
            "type": "scatter3d"
           }
          ],
          "scattercarpet": [
           {
            "marker": {
             "colorbar": {
              "outlinewidth": 1,
              "tickcolor": "rgb(36,36,36)",
              "ticks": "outside"
             }
            },
            "type": "scattercarpet"
           }
          ],
          "scattergeo": [
           {
            "marker": {
             "colorbar": {
              "outlinewidth": 1,
              "tickcolor": "rgb(36,36,36)",
              "ticks": "outside"
             }
            },
            "type": "scattergeo"
           }
          ],
          "scattergl": [
           {
            "marker": {
             "colorbar": {
              "outlinewidth": 1,
              "tickcolor": "rgb(36,36,36)",
              "ticks": "outside"
             }
            },
            "type": "scattergl"
           }
          ],
          "scattermapbox": [
           {
            "marker": {
             "colorbar": {
              "outlinewidth": 1,
              "tickcolor": "rgb(36,36,36)",
              "ticks": "outside"
             }
            },
            "type": "scattermapbox"
           }
          ],
          "scatterpolar": [
           {
            "marker": {
             "colorbar": {
              "outlinewidth": 1,
              "tickcolor": "rgb(36,36,36)",
              "ticks": "outside"
             }
            },
            "type": "scatterpolar"
           }
          ],
          "scatterpolargl": [
           {
            "marker": {
             "colorbar": {
              "outlinewidth": 1,
              "tickcolor": "rgb(36,36,36)",
              "ticks": "outside"
             }
            },
            "type": "scatterpolargl"
           }
          ],
          "scatterternary": [
           {
            "marker": {
             "colorbar": {
              "outlinewidth": 1,
              "tickcolor": "rgb(36,36,36)",
              "ticks": "outside"
             }
            },
            "type": "scatterternary"
           }
          ],
          "surface": [
           {
            "colorbar": {
             "outlinewidth": 1,
             "tickcolor": "rgb(36,36,36)",
             "ticks": "outside"
            },
            "colorscale": [
             [
              0,
              "#440154"
             ],
             [
              0.1111111111111111,
              "#482878"
             ],
             [
              0.2222222222222222,
              "#3e4989"
             ],
             [
              0.3333333333333333,
              "#31688e"
             ],
             [
              0.4444444444444444,
              "#26828e"
             ],
             [
              0.5555555555555556,
              "#1f9e89"
             ],
             [
              0.6666666666666666,
              "#35b779"
             ],
             [
              0.7777777777777778,
              "#6ece58"
             ],
             [
              0.8888888888888888,
              "#b5de2b"
             ],
             [
              1,
              "#fde725"
             ]
            ],
            "type": "surface"
           }
          ],
          "table": [
           {
            "cells": {
             "fill": {
              "color": "rgb(237,237,237)"
             },
             "line": {
              "color": "white"
             }
            },
            "header": {
             "fill": {
              "color": "rgb(217,217,217)"
             },
             "line": {
              "color": "white"
             }
            },
            "type": "table"
           }
          ]
         },
         "layout": {
          "annotationdefaults": {
           "arrowhead": 0,
           "arrowwidth": 1
          },
          "autotypenumbers": "strict",
          "coloraxis": {
           "colorbar": {
            "outlinewidth": 1,
            "tickcolor": "rgb(36,36,36)",
            "ticks": "outside"
           }
          },
          "colorscale": {
           "diverging": [
            [
             0,
             "rgb(103,0,31)"
            ],
            [
             0.1,
             "rgb(178,24,43)"
            ],
            [
             0.2,
             "rgb(214,96,77)"
            ],
            [
             0.3,
             "rgb(244,165,130)"
            ],
            [
             0.4,
             "rgb(253,219,199)"
            ],
            [
             0.5,
             "rgb(247,247,247)"
            ],
            [
             0.6,
             "rgb(209,229,240)"
            ],
            [
             0.7,
             "rgb(146,197,222)"
            ],
            [
             0.8,
             "rgb(67,147,195)"
            ],
            [
             0.9,
             "rgb(33,102,172)"
            ],
            [
             1,
             "rgb(5,48,97)"
            ]
           ],
           "sequential": [
            [
             0,
             "#440154"
            ],
            [
             0.1111111111111111,
             "#482878"
            ],
            [
             0.2222222222222222,
             "#3e4989"
            ],
            [
             0.3333333333333333,
             "#31688e"
            ],
            [
             0.4444444444444444,
             "#26828e"
            ],
            [
             0.5555555555555556,
             "#1f9e89"
            ],
            [
             0.6666666666666666,
             "#35b779"
            ],
            [
             0.7777777777777778,
             "#6ece58"
            ],
            [
             0.8888888888888888,
             "#b5de2b"
            ],
            [
             1,
             "#fde725"
            ]
           ],
           "sequentialminus": [
            [
             0,
             "#440154"
            ],
            [
             0.1111111111111111,
             "#482878"
            ],
            [
             0.2222222222222222,
             "#3e4989"
            ],
            [
             0.3333333333333333,
             "#31688e"
            ],
            [
             0.4444444444444444,
             "#26828e"
            ],
            [
             0.5555555555555556,
             "#1f9e89"
            ],
            [
             0.6666666666666666,
             "#35b779"
            ],
            [
             0.7777777777777778,
             "#6ece58"
            ],
            [
             0.8888888888888888,
             "#b5de2b"
            ],
            [
             1,
             "#fde725"
            ]
           ]
          },
          "colorway": [
           "#91268F",
           "#8CC63E",
           "#00A7A0",
           "#F05A28",
           "#4C4C4C",
           "#630460",
           "#9f3913",
           "#588527",
           "#00716c",
           "#3e4040"
          ],
          "font": {
           "color": "rgb(36,36,36)",
           "family": "Poppins",
           "size": 11
          },
          "geo": {
           "bgcolor": "white",
           "lakecolor": "white",
           "landcolor": "white",
           "showlakes": true,
           "showland": true,
           "subunitcolor": "white"
          },
          "hoverlabel": {
           "align": "left"
          },
          "hovermode": "closest",
          "mapbox": {
           "style": "light"
          },
          "paper_bgcolor": "white",
          "plot_bgcolor": "white",
          "polar": {
           "angularaxis": {
            "gridcolor": "rgb(232,232,232)",
            "linecolor": "rgb(36,36,36)",
            "showgrid": false,
            "showline": true,
            "ticks": "outside"
           },
           "bgcolor": "white",
           "radialaxis": {
            "gridcolor": "rgb(232,232,232)",
            "linecolor": "rgb(36,36,36)",
            "showgrid": false,
            "showline": true,
            "ticks": "outside"
           }
          },
          "scene": {
           "xaxis": {
            "backgroundcolor": "white",
            "gridcolor": "rgb(232,232,232)",
            "gridwidth": 2,
            "linecolor": "rgb(36,36,36)",
            "showbackground": true,
            "showgrid": false,
            "showline": true,
            "ticks": "outside",
            "zeroline": false,
            "zerolinecolor": "rgb(36,36,36)"
           },
           "yaxis": {
            "backgroundcolor": "white",
            "gridcolor": "rgb(232,232,232)",
            "gridwidth": 2,
            "linecolor": "rgb(36,36,36)",
            "showbackground": true,
            "showgrid": false,
            "showline": true,
            "ticks": "outside",
            "zeroline": false,
            "zerolinecolor": "rgb(36,36,36)"
           },
           "zaxis": {
            "backgroundcolor": "white",
            "gridcolor": "rgb(232,232,232)",
            "gridwidth": 2,
            "linecolor": "rgb(36,36,36)",
            "showbackground": true,
            "showgrid": false,
            "showline": true,
            "ticks": "outside",
            "zeroline": false,
            "zerolinecolor": "rgb(36,36,36)"
           }
          },
          "shapedefaults": {
           "fillcolor": "black",
           "line": {
            "width": 0
           },
           "opacity": 0.3
          },
          "ternary": {
           "aaxis": {
            "gridcolor": "rgb(232,232,232)",
            "linecolor": "rgb(36,36,36)",
            "showgrid": false,
            "showline": true,
            "ticks": "outside"
           },
           "baxis": {
            "gridcolor": "rgb(232,232,232)",
            "linecolor": "rgb(36,36,36)",
            "showgrid": false,
            "showline": true,
            "ticks": "outside"
           },
           "bgcolor": "white",
           "caxis": {
            "gridcolor": "rgb(232,232,232)",
            "linecolor": "rgb(36,36,36)",
            "showgrid": false,
            "showline": true,
            "ticks": "outside"
           }
          },
          "title": {
           "x": 0.05
          },
          "xaxis": {
           "automargin": true,
           "gridcolor": "rgb(232,232,232)",
           "linecolor": "rgb(36,36,36)",
           "showgrid": false,
           "showline": true,
           "ticks": "outside",
           "title": {
            "standoff": 15
           },
           "zeroline": false,
           "zerolinecolor": "rgb(36,36,36)"
          },
          "yaxis": {
           "automargin": true,
           "gridcolor": "rgb(232,232,232)",
           "linecolor": "rgb(36,36,36)",
           "showgrid": false,
           "showline": true,
           "ticks": "outside",
           "title": {
            "standoff": 15
           },
           "zeroline": false,
           "zerolinecolor": "rgb(36,36,36)"
          }
         }
        },
        "title": {
         "text": "school trip mode choice by auto ownership"
        },
        "width": 800,
        "xaxis": {
         "anchor": "y",
         "domain": [
          0,
          0.49
         ],
         "tickformat": ".1%",
         "title": {
          "text": "percentage"
         }
        },
        "xaxis2": {
         "anchor": "y2",
         "domain": [
          0.51,
          1
         ],
         "matches": "x",
         "tickformat": ".1%",
         "title": {
          "text": "percentage"
         }
        },
        "xaxis3": {
         "anchor": "y3",
         "domain": [
          0,
          0.49
         ],
         "matches": "x",
         "showticklabels": false,
         "tickformat": ".1%"
        },
        "xaxis4": {
         "anchor": "y4",
         "domain": [
          0.51,
          1
         ],
         "matches": "x",
         "showticklabels": false,
         "tickformat": ".1%"
        },
        "xaxis5": {
         "anchor": "y5",
         "domain": [
          0,
          0.49
         ],
         "matches": "x",
         "showticklabels": false,
         "tickformat": ".1%"
        },
        "xaxis6": {
         "anchor": "y6",
         "domain": [
          0.51,
          1
         ],
         "matches": "x",
         "showticklabels": false,
         "tickformat": ".1%"
        },
        "yaxis": {
         "anchor": "x",
         "domain": [
          0,
          0.2866666666666666
         ],
         "title": {
          "text": "mode_label"
         }
        },
        "yaxis2": {
         "anchor": "x2",
         "domain": [
          0,
          0.2866666666666666
         ],
         "matches": "y",
         "showticklabels": false
        },
        "yaxis3": {
         "anchor": "x3",
         "domain": [
          0.35666666666666663,
          0.6433333333333333
         ],
         "matches": "y",
         "title": {
          "text": "mode_label"
         }
        },
        "yaxis4": {
         "anchor": "x4",
         "domain": [
          0.35666666666666663,
          0.6433333333333333
         ],
         "matches": "y",
         "showticklabels": false
        },
        "yaxis5": {
         "anchor": "x5",
         "domain": [
          0.7133333333333333,
          0.9999999999999999
         ],
         "matches": "y",
         "title": {
          "text": "mode_label"
         }
        },
        "yaxis6": {
         "anchor": "x6",
         "domain": [
          0.7133333333333333,
          0.9999999999999999
         ],
         "matches": "y",
         "showticklabels": false
        }
       }
      },
      "text/html": [
       "<div>                            <div id=\"8518031d-4913-4c9d-901c-e6737b5c1a70\" class=\"plotly-graph-div\" style=\"height:800px; width:800px;\"></div>            <script type=\"text/javascript\">                require([\"plotly\"], function(Plotly) {                    window.PLOTLYENV=window.PLOTLYENV || {};                                    if (document.getElementById(\"8518031d-4913-4c9d-901c-e6737b5c1a70\")) {                    Plotly.newPlot(                        \"8518031d-4913-4c9d-901c-e6737b5c1a70\",                        [{\"alignmentgroup\":\"True\",\"customdata\":[[5495],[2280],[1475],[4624],[2853],[154]],\"hovertemplate\":\"source=model\\u003cbr\\u003eauto_ownership_4+=0\\u003cbr\\u003epercentage=%{x}\\u003cbr\\u003emode_label=%{y}\\u003cbr\\u003esample count=%{customdata[0]}\\u003cextra\\u003e\\u003c\\u002fextra\\u003e\",\"legendgroup\":\"model\",\"marker\":{\"color\":\"#91268F\",\"pattern\":{\"shape\":\"\"}},\"name\":\"model\",\"offsetgroup\":\"model\",\"orientation\":\"h\",\"showlegend\":true,\"textposition\":\"auto\",\"x\":[0.3255138913571471,0.13506308867958058,0.08737634026420235,0.27391742195367574,0.1690065754398436,0.00912268230555062],\"xaxis\":\"x5\",\"y\":[\"1: walk\",\"2: bike\",\"4: hov 2\",\"5: hov 3+\",\"6: transit\",\"8: school bus\"],\"yaxis\":\"y5\",\"type\":\"bar\"},{\"alignmentgroup\":\"True\",\"customdata\":[[16755],[2173],[5932],[29116],[25279],[3988],[24846],[1]],\"hovertemplate\":\"source=model\\u003cbr\\u003eauto_ownership_4+=1\\u003cbr\\u003epercentage=%{x}\\u003cbr\\u003emode_label=%{y}\\u003cbr\\u003esample count=%{customdata[0]}\\u003cextra\\u003e\\u003c\\u002fextra\\u003e\",\"legendgroup\":\"model\",\"marker\":{\"color\":\"#91268F\",\"pattern\":{\"shape\":\"\"}},\"name\":\"model\",\"offsetgroup\":\"model\",\"orientation\":\"h\",\"showlegend\":false,\"textposition\":\"auto\",\"x\":[0.15500971412711628,0.020103617355907114,0.0548801924322324,0.2693681191599593,0.23386992321213804,0.03689517994264039,0.2298640022203719,9.251549634563789e-06],\"xaxis\":\"x6\",\"y\":[\"1: walk\",\"2: bike\",\"3: sov\",\"4: hov 2\",\"5: hov 3+\",\"6: transit\",\"8: school bus\",\"9: tnc\"],\"yaxis\":\"y6\",\"type\":\"bar\"},{\"alignmentgroup\":\"True\",\"customdata\":[[25427],[6389],[16625],[62751],[86756],[7765],[47952],[5]],\"hovertemplate\":\"source=model\\u003cbr\\u003eauto_ownership_4+=2\\u003cbr\\u003epercentage=%{x}\\u003cbr\\u003emode_label=%{y}\\u003cbr\\u003esample count=%{customdata[0]}\\u003cextra\\u003e\\u003c\\u002fextra\\u003e\",\"legendgroup\":\"model\",\"marker\":{\"color\":\"#91268F\",\"pattern\":{\"shape\":\"\"}},\"name\":\"model\",\"offsetgroup\":\"model\",\"orientation\":\"h\",\"showlegend\":false,\"textposition\":\"auto\",\"x\":[0.1002365277723026,0.025186265620688295,0.0655379035755115,0.247372570662672,0.342003390231403,0.03061063586549454,0.1890329956242362,1.9710647691883155e-05],\"xaxis\":\"x3\",\"y\":[\"1: walk\",\"2: bike\",\"3: sov\",\"4: hov 2\",\"5: hov 3+\",\"6: transit\",\"8: school bus\",\"9: tnc\"],\"yaxis\":\"y3\",\"type\":\"bar\"},{\"alignmentgroup\":\"True\",\"customdata\":[[11455],[2803],[24110],[28491],[38694],[3789],[22134],[2]],\"hovertemplate\":\"source=model\\u003cbr\\u003eauto_ownership_4+=3\\u003cbr\\u003epercentage=%{x}\\u003cbr\\u003emode_label=%{y}\\u003cbr\\u003esample count=%{customdata[0]}\\u003cextra\\u003e\\u003c\\u002fextra\\u003e\",\"legendgroup\":\"model\",\"marker\":{\"color\":\"#91268F\",\"pattern\":{\"shape\":\"\"}},\"name\":\"model\",\"offsetgroup\":\"model\",\"orientation\":\"h\",\"showlegend\":false,\"textposition\":\"auto\",\"x\":[0.08712484217891966,0.021319156056526567,0.18337668659395487,0.2166978505909734,0.29430018710354583,0.028818509560534843,0.16834755624515127,1.5211670393525913e-05],\"xaxis\":\"x4\",\"y\":[\"1: walk\",\"2: bike\",\"3: sov\",\"4: hov 2\",\"5: hov 3+\",\"6: transit\",\"8: school bus\",\"9: tnc\"],\"yaxis\":\"y4\",\"type\":\"bar\"},{\"alignmentgroup\":\"True\",\"customdata\":[[5292],[1268],[17174],[12416],[17431],[2080],[10128]],\"hovertemplate\":\"source=model\\u003cbr\\u003eauto_ownership_4+=4+\\u003cbr\\u003epercentage=%{x}\\u003cbr\\u003emode_label=%{y}\\u003cbr\\u003esample count=%{customdata[0]}\\u003cextra\\u003e\\u003c\\u002fextra\\u003e\",\"legendgroup\":\"model\",\"marker\":{\"color\":\"#91268F\",\"pattern\":{\"shape\":\"\"}},\"name\":\"model\",\"offsetgroup\":\"model\",\"orientation\":\"h\",\"showlegend\":false,\"textposition\":\"auto\",\"x\":[0.08043897916064996,0.01927373877091915,0.2610466795360927,0.18872455881682348,0.2649531076623752,0.03161622763683899,0.1539467084163006],\"xaxis\":\"x\",\"y\":[\"1: walk\",\"2: bike\",\"3: sov\",\"4: hov 2\",\"5: hov 3+\",\"6: transit\",\"8: school bus\"],\"yaxis\":\"y\",\"type\":\"bar\"},{\"alignmentgroup\":\"True\",\"customdata\":[[15],[1],[2],[7],[2],[2]],\"hovertemplate\":\"source=survey\\u003cbr\\u003eauto_ownership_4+=0\\u003cbr\\u003epercentage=%{x}\\u003cbr\\u003emode_label=%{y}\\u003cbr\\u003esample count=%{customdata[0]}\\u003cextra\\u003e\\u003c\\u002fextra\\u003e\",\"legendgroup\":\"survey\",\"marker\":{\"color\":\"#8CC63E\",\"pattern\":{\"shape\":\"\"}},\"name\":\"survey\",\"offsetgroup\":\"survey\",\"orientation\":\"h\",\"showlegend\":true,\"textposition\":\"auto\",\"x\":[0.23490301643253314,0.12799433216348818,0.40456073456992553,0.12455778308207745,0.005832670622227687,0.10215146312974811],\"xaxis\":\"x5\",\"y\":[\"1: walk\",\"2: bike\",\"4: hov 2\",\"6: transit\",\"8: school bus\",\"9: tnc\"],\"yaxis\":\"y5\",\"type\":\"bar\"},{\"alignmentgroup\":\"True\",\"customdata\":[[37],[9],[8],[28],[35],[16],[37],[1]],\"hovertemplate\":\"source=survey\\u003cbr\\u003eauto_ownership_4+=1\\u003cbr\\u003epercentage=%{x}\\u003cbr\\u003emode_label=%{y}\\u003cbr\\u003esample count=%{customdata[0]}\\u003cextra\\u003e\\u003c\\u002fextra\\u003e\",\"legendgroup\":\"survey\",\"marker\":{\"color\":\"#8CC63E\",\"pattern\":{\"shape\":\"\"}},\"name\":\"survey\",\"offsetgroup\":\"survey\",\"orientation\":\"h\",\"showlegend\":false,\"textposition\":\"auto\",\"x\":[0.11917732375948042,0.005958703237266285,0.028106348108920102,0.11789158036193859,0.3858167961994485,0.06549165981809928,0.2556879084128161,0.021869680102030754],\"xaxis\":\"x6\",\"y\":[\"1: walk\",\"2: bike\",\"3: sov\",\"4: hov 2\",\"5: hov 3+\",\"6: transit\",\"8: school bus\",\"9: tnc\"],\"yaxis\":\"y6\",\"type\":\"bar\"},{\"alignmentgroup\":\"True\",\"customdata\":[[42],[8],[13],[99],[94],[12],[71]],\"hovertemplate\":\"source=survey\\u003cbr\\u003eauto_ownership_4+=2\\u003cbr\\u003epercentage=%{x}\\u003cbr\\u003emode_label=%{y}\\u003cbr\\u003esample count=%{customdata[0]}\\u003cextra\\u003e\\u003c\\u002fextra\\u003e\",\"legendgroup\":\"survey\",\"marker\":{\"color\":\"#8CC63E\",\"pattern\":{\"shape\":\"\"}},\"name\":\"survey\",\"offsetgroup\":\"survey\",\"orientation\":\"h\",\"showlegend\":false,\"textposition\":\"auto\",\"x\":[0.0899648741018544,0.0025383035865107245,0.04169772237294571,0.30260781388633995,0.34695670907120085,0.03990829879830286,0.17632627818284555],\"xaxis\":\"x3\",\"y\":[\"1: walk\",\"2: bike\",\"3: sov\",\"4: hov 2\",\"5: hov 3+\",\"6: transit\",\"8: school bus\"],\"yaxis\":\"y3\",\"type\":\"bar\"},{\"alignmentgroup\":\"True\",\"customdata\":[[4],[3],[18],[19],[28],[1],[17]],\"hovertemplate\":\"source=survey\\u003cbr\\u003eauto_ownership_4+=3\\u003cbr\\u003epercentage=%{x}\\u003cbr\\u003emode_label=%{y}\\u003cbr\\u003esample count=%{customdata[0]}\\u003cextra\\u003e\\u003c\\u002fextra\\u003e\",\"legendgroup\":\"survey\",\"marker\":{\"color\":\"#8CC63E\",\"pattern\":{\"shape\":\"\"}},\"name\":\"survey\",\"offsetgroup\":\"survey\",\"orientation\":\"h\",\"showlegend\":false,\"textposition\":\"auto\",\"x\":[0.014795453023421409,0.07818873904031007,0.20378225674865724,0.11849159038871704,0.43197131169649006,0.01807750732672755,0.13469314177567654],\"xaxis\":\"x4\",\"y\":[\"1: walk\",\"2: bike\",\"3: sov\",\"4: hov 2\",\"5: hov 3+\",\"6: transit\",\"8: school bus\"],\"yaxis\":\"y4\",\"type\":\"bar\"},{\"alignmentgroup\":\"True\",\"customdata\":[[1],[1],[12],[4],[4],[2],[6]],\"hovertemplate\":\"source=survey\\u003cbr\\u003eauto_ownership_4+=4+\\u003cbr\\u003epercentage=%{x}\\u003cbr\\u003emode_label=%{y}\\u003cbr\\u003esample count=%{customdata[0]}\\u003cextra\\u003e\\u003c\\u002fextra\\u003e\",\"legendgroup\":\"survey\",\"marker\":{\"color\":\"#8CC63E\",\"pattern\":{\"shape\":\"\"}},\"name\":\"survey\",\"offsetgroup\":\"survey\",\"orientation\":\"h\",\"showlegend\":false,\"textposition\":\"auto\",\"x\":[0.02255565772167462,0.00223408358620177,0.4436875890180768,0.12412363490088847,0.24420952335434054,0.002727047463812584,0.16046246395500516],\"xaxis\":\"x\",\"y\":[\"1: walk\",\"2: bike\",\"3: sov\",\"4: hov 2\",\"5: hov 3+\",\"6: transit\",\"8: school bus\"],\"yaxis\":\"y\",\"type\":\"bar\"},{\"alignmentgroup\":\"True\",\"customdata\":[[46],[14],[3],[2],[50],[3],[5]],\"hovertemplate\":\"source=survey (2017\\u002f2019)\\u003cbr\\u003eauto_ownership_4+=0\\u003cbr\\u003epercentage=%{x}\\u003cbr\\u003emode_label=%{y}\\u003cbr\\u003esample count=%{customdata[0]}\\u003cextra\\u003e\\u003c\\u002fextra\\u003e\",\"legendgroup\":\"survey (2017\\u002f2019)\",\"marker\":{\"color\":\"#00A7A0\",\"pattern\":{\"shape\":\"\"}},\"name\":\"survey (2017\\u002f2019)\",\"offsetgroup\":\"survey (2017\\u002f2019)\",\"orientation\":\"h\",\"showlegend\":true,\"textposition\":\"auto\",\"x\":[0.23485898739697264,0.08572641746091675,0.2285144480615143,0.003632273148831025,0.4096185732086663,0.023210520434313826,0.014438780288785043],\"xaxis\":\"x5\",\"y\":[\"1: walk\",\"2: bike\",\"4: hov 2\",\"5: hov 3+\",\"6: transit\",\"8: school bus\",\"9: tnc\"],\"yaxis\":\"y5\",\"type\":\"bar\"},{\"alignmentgroup\":\"True\",\"customdata\":[[79],[20],[43],[85],[42],[74],[39],[3]],\"hovertemplate\":\"source=survey (2017\\u002f2019)\\u003cbr\\u003eauto_ownership_4+=1\\u003cbr\\u003epercentage=%{x}\\u003cbr\\u003emode_label=%{y}\\u003cbr\\u003esample count=%{customdata[0]}\\u003cextra\\u003e\\u003c\\u002fextra\\u003e\",\"legendgroup\":\"survey (2017\\u002f2019)\",\"marker\":{\"color\":\"#00A7A0\",\"pattern\":{\"shape\":\"\"}},\"name\":\"survey (2017\\u002f2019)\",\"offsetgroup\":\"survey (2017\\u002f2019)\",\"orientation\":\"h\",\"showlegend\":false,\"textposition\":\"auto\",\"x\":[0.24654472216687529,0.012468453772339684,0.22515152830823007,0.1133120179194725,0.1189852823473798,0.12917857911489047,0.15041838158297458,0.003941034787837632],\"xaxis\":\"x6\",\"y\":[\"1: walk\",\"2: bike\",\"3: sov\",\"4: hov 2\",\"5: hov 3+\",\"6: transit\",\"8: school bus\",\"9: tnc\"],\"yaxis\":\"y6\",\"type\":\"bar\"},{\"alignmentgroup\":\"True\",\"customdata\":[[63],[9],[45],[155],[185],[52],[96],[1]],\"hovertemplate\":\"source=survey (2017\\u002f2019)\\u003cbr\\u003eauto_ownership_4+=2\\u003cbr\\u003epercentage=%{x}\\u003cbr\\u003emode_label=%{y}\\u003cbr\\u003esample count=%{customdata[0]}\\u003cextra\\u003e\\u003c\\u002fextra\\u003e\",\"legendgroup\":\"survey (2017\\u002f2019)\",\"marker\":{\"color\":\"#00A7A0\",\"pattern\":{\"shape\":\"\"}},\"name\":\"survey (2017\\u002f2019)\",\"offsetgroup\":\"survey (2017\\u002f2019)\",\"orientation\":\"h\",\"showlegend\":false,\"textposition\":\"auto\",\"x\":[0.08627174311100308,0.007571574867657652,0.0587999320359145,0.1642888190455106,0.4211792932073448,0.0775700988985259,0.18337464403931597,0.0009438947947273938],\"xaxis\":\"x3\",\"y\":[\"1: walk\",\"2: bike\",\"3: sov\",\"4: hov 2\",\"5: hov 3+\",\"6: transit\",\"8: school bus\",\"9: tnc\"],\"yaxis\":\"y3\",\"type\":\"bar\"},{\"alignmentgroup\":\"True\",\"customdata\":[[13],[1],[21],[36],[52],[6],[26]],\"hovertemplate\":\"source=survey (2017\\u002f2019)\\u003cbr\\u003eauto_ownership_4+=3\\u003cbr\\u003epercentage=%{x}\\u003cbr\\u003emode_label=%{y}\\u003cbr\\u003esample count=%{customdata[0]}\\u003cextra\\u003e\\u003c\\u002fextra\\u003e\",\"legendgroup\":\"survey (2017\\u002f2019)\",\"marker\":{\"color\":\"#00A7A0\",\"pattern\":{\"shape\":\"\"}},\"name\":\"survey (2017\\u002f2019)\",\"offsetgroup\":\"survey (2017\\u002f2019)\",\"orientation\":\"h\",\"showlegend\":false,\"textposition\":\"auto\",\"x\":[0.010963351339637814,0.00031029382462227867,0.12842211860366765,0.19396099528987984,0.4658220649412752,0.03881992291143113,0.16170125308948619],\"xaxis\":\"x4\",\"y\":[\"1: walk\",\"2: bike\",\"3: sov\",\"4: hov 2\",\"5: hov 3+\",\"6: transit\",\"8: school bus\"],\"yaxis\":\"y4\",\"type\":\"bar\"},{\"alignmentgroup\":\"True\",\"customdata\":[[6],[14],[9],[8],[4],[9]],\"hovertemplate\":\"source=survey (2017\\u002f2019)\\u003cbr\\u003eauto_ownership_4+=4+\\u003cbr\\u003epercentage=%{x}\\u003cbr\\u003emode_label=%{y}\\u003cbr\\u003esample count=%{customdata[0]}\\u003cextra\\u003e\\u003c\\u002fextra\\u003e\",\"legendgroup\":\"survey (2017\\u002f2019)\",\"marker\":{\"color\":\"#00A7A0\",\"pattern\":{\"shape\":\"\"}},\"name\":\"survey (2017\\u002f2019)\",\"offsetgroup\":\"survey (2017\\u002f2019)\",\"orientation\":\"h\",\"showlegend\":false,\"textposition\":\"auto\",\"x\":[0.09623992336080717,0.3389138801003132,0.24973952360208385,0.10069832521634646,0.09409281753039775,0.1203155301900516],\"xaxis\":\"x\",\"y\":[\"1: walk\",\"3: sov\",\"4: hov 2\",\"5: hov 3+\",\"6: transit\",\"8: school bus\"],\"yaxis\":\"y\",\"type\":\"bar\"}],                        {\"template\":{\"data\":{\"barpolar\":[{\"marker\":{\"line\":{\"color\":\"white\",\"width\":0.5},\"pattern\":{\"fillmode\":\"overlay\",\"size\":10,\"solidity\":0.2}},\"type\":\"barpolar\"}],\"bar\":[{\"error_x\":{\"color\":\"rgb(36,36,36)\"},\"error_y\":{\"color\":\"rgb(36,36,36)\"},\"marker\":{\"line\":{\"color\":\"white\",\"width\":0.5},\"pattern\":{\"fillmode\":\"overlay\",\"size\":10,\"solidity\":0.2}},\"type\":\"bar\"}],\"carpet\":[{\"aaxis\":{\"endlinecolor\":\"rgb(36,36,36)\",\"gridcolor\":\"white\",\"linecolor\":\"white\",\"minorgridcolor\":\"white\",\"startlinecolor\":\"rgb(36,36,36)\"},\"baxis\":{\"endlinecolor\":\"rgb(36,36,36)\",\"gridcolor\":\"white\",\"linecolor\":\"white\",\"minorgridcolor\":\"white\",\"startlinecolor\":\"rgb(36,36,36)\"},\"type\":\"carpet\"}],\"choropleth\":[{\"colorbar\":{\"outlinewidth\":1,\"tickcolor\":\"rgb(36,36,36)\",\"ticks\":\"outside\"},\"type\":\"choropleth\"}],\"contourcarpet\":[{\"colorbar\":{\"outlinewidth\":1,\"tickcolor\":\"rgb(36,36,36)\",\"ticks\":\"outside\"},\"type\":\"contourcarpet\"}],\"contour\":[{\"colorbar\":{\"outlinewidth\":1,\"tickcolor\":\"rgb(36,36,36)\",\"ticks\":\"outside\"},\"colorscale\":[[0.0,\"#440154\"],[0.1111111111111111,\"#482878\"],[0.2222222222222222,\"#3e4989\"],[0.3333333333333333,\"#31688e\"],[0.4444444444444444,\"#26828e\"],[0.5555555555555556,\"#1f9e89\"],[0.6666666666666666,\"#35b779\"],[0.7777777777777778,\"#6ece58\"],[0.8888888888888888,\"#b5de2b\"],[1.0,\"#fde725\"]],\"type\":\"contour\"}],\"heatmapgl\":[{\"colorbar\":{\"outlinewidth\":1,\"tickcolor\":\"rgb(36,36,36)\",\"ticks\":\"outside\"},\"colorscale\":[[0.0,\"#440154\"],[0.1111111111111111,\"#482878\"],[0.2222222222222222,\"#3e4989\"],[0.3333333333333333,\"#31688e\"],[0.4444444444444444,\"#26828e\"],[0.5555555555555556,\"#1f9e89\"],[0.6666666666666666,\"#35b779\"],[0.7777777777777778,\"#6ece58\"],[0.8888888888888888,\"#b5de2b\"],[1.0,\"#fde725\"]],\"type\":\"heatmapgl\"}],\"heatmap\":[{\"colorbar\":{\"outlinewidth\":1,\"tickcolor\":\"rgb(36,36,36)\",\"ticks\":\"outside\"},\"colorscale\":[[0.0,\"#440154\"],[0.1111111111111111,\"#482878\"],[0.2222222222222222,\"#3e4989\"],[0.3333333333333333,\"#31688e\"],[0.4444444444444444,\"#26828e\"],[0.5555555555555556,\"#1f9e89\"],[0.6666666666666666,\"#35b779\"],[0.7777777777777778,\"#6ece58\"],[0.8888888888888888,\"#b5de2b\"],[1.0,\"#fde725\"]],\"type\":\"heatmap\"}],\"histogram2dcontour\":[{\"colorbar\":{\"outlinewidth\":1,\"tickcolor\":\"rgb(36,36,36)\",\"ticks\":\"outside\"},\"colorscale\":[[0.0,\"#440154\"],[0.1111111111111111,\"#482878\"],[0.2222222222222222,\"#3e4989\"],[0.3333333333333333,\"#31688e\"],[0.4444444444444444,\"#26828e\"],[0.5555555555555556,\"#1f9e89\"],[0.6666666666666666,\"#35b779\"],[0.7777777777777778,\"#6ece58\"],[0.8888888888888888,\"#b5de2b\"],[1.0,\"#fde725\"]],\"type\":\"histogram2dcontour\"}],\"histogram2d\":[{\"colorbar\":{\"outlinewidth\":1,\"tickcolor\":\"rgb(36,36,36)\",\"ticks\":\"outside\"},\"colorscale\":[[0.0,\"#440154\"],[0.1111111111111111,\"#482878\"],[0.2222222222222222,\"#3e4989\"],[0.3333333333333333,\"#31688e\"],[0.4444444444444444,\"#26828e\"],[0.5555555555555556,\"#1f9e89\"],[0.6666666666666666,\"#35b779\"],[0.7777777777777778,\"#6ece58\"],[0.8888888888888888,\"#b5de2b\"],[1.0,\"#fde725\"]],\"type\":\"histogram2d\"}],\"histogram\":[{\"marker\":{\"line\":{\"color\":\"white\",\"width\":0.6}},\"type\":\"histogram\"}],\"mesh3d\":[{\"colorbar\":{\"outlinewidth\":1,\"tickcolor\":\"rgb(36,36,36)\",\"ticks\":\"outside\"},\"type\":\"mesh3d\"}],\"parcoords\":[{\"line\":{\"colorbar\":{\"outlinewidth\":1,\"tickcolor\":\"rgb(36,36,36)\",\"ticks\":\"outside\"}},\"type\":\"parcoords\"}],\"pie\":[{\"automargin\":true,\"type\":\"pie\"}],\"scatter3d\":[{\"line\":{\"colorbar\":{\"outlinewidth\":1,\"tickcolor\":\"rgb(36,36,36)\",\"ticks\":\"outside\"}},\"marker\":{\"colorbar\":{\"outlinewidth\":1,\"tickcolor\":\"rgb(36,36,36)\",\"ticks\":\"outside\"}},\"type\":\"scatter3d\"}],\"scattercarpet\":[{\"marker\":{\"colorbar\":{\"outlinewidth\":1,\"tickcolor\":\"rgb(36,36,36)\",\"ticks\":\"outside\"}},\"type\":\"scattercarpet\"}],\"scattergeo\":[{\"marker\":{\"colorbar\":{\"outlinewidth\":1,\"tickcolor\":\"rgb(36,36,36)\",\"ticks\":\"outside\"}},\"type\":\"scattergeo\"}],\"scattergl\":[{\"marker\":{\"colorbar\":{\"outlinewidth\":1,\"tickcolor\":\"rgb(36,36,36)\",\"ticks\":\"outside\"}},\"type\":\"scattergl\"}],\"scattermapbox\":[{\"marker\":{\"colorbar\":{\"outlinewidth\":1,\"tickcolor\":\"rgb(36,36,36)\",\"ticks\":\"outside\"}},\"type\":\"scattermapbox\"}],\"scatterpolargl\":[{\"marker\":{\"colorbar\":{\"outlinewidth\":1,\"tickcolor\":\"rgb(36,36,36)\",\"ticks\":\"outside\"}},\"type\":\"scatterpolargl\"}],\"scatterpolar\":[{\"marker\":{\"colorbar\":{\"outlinewidth\":1,\"tickcolor\":\"rgb(36,36,36)\",\"ticks\":\"outside\"}},\"type\":\"scatterpolar\"}],\"scatter\":[{\"fillpattern\":{\"fillmode\":\"overlay\",\"size\":10,\"solidity\":0.2},\"type\":\"scatter\"}],\"scatterternary\":[{\"marker\":{\"colorbar\":{\"outlinewidth\":1,\"tickcolor\":\"rgb(36,36,36)\",\"ticks\":\"outside\"}},\"type\":\"scatterternary\"}],\"surface\":[{\"colorbar\":{\"outlinewidth\":1,\"tickcolor\":\"rgb(36,36,36)\",\"ticks\":\"outside\"},\"colorscale\":[[0.0,\"#440154\"],[0.1111111111111111,\"#482878\"],[0.2222222222222222,\"#3e4989\"],[0.3333333333333333,\"#31688e\"],[0.4444444444444444,\"#26828e\"],[0.5555555555555556,\"#1f9e89\"],[0.6666666666666666,\"#35b779\"],[0.7777777777777778,\"#6ece58\"],[0.8888888888888888,\"#b5de2b\"],[1.0,\"#fde725\"]],\"type\":\"surface\"}],\"table\":[{\"cells\":{\"fill\":{\"color\":\"rgb(237,237,237)\"},\"line\":{\"color\":\"white\"}},\"header\":{\"fill\":{\"color\":\"rgb(217,217,217)\"},\"line\":{\"color\":\"white\"}},\"type\":\"table\"}]},\"layout\":{\"annotationdefaults\":{\"arrowhead\":0,\"arrowwidth\":1},\"autotypenumbers\":\"strict\",\"coloraxis\":{\"colorbar\":{\"outlinewidth\":1,\"tickcolor\":\"rgb(36,36,36)\",\"ticks\":\"outside\"}},\"colorscale\":{\"diverging\":[[0.0,\"rgb(103,0,31)\"],[0.1,\"rgb(178,24,43)\"],[0.2,\"rgb(214,96,77)\"],[0.3,\"rgb(244,165,130)\"],[0.4,\"rgb(253,219,199)\"],[0.5,\"rgb(247,247,247)\"],[0.6,\"rgb(209,229,240)\"],[0.7,\"rgb(146,197,222)\"],[0.8,\"rgb(67,147,195)\"],[0.9,\"rgb(33,102,172)\"],[1.0,\"rgb(5,48,97)\"]],\"sequential\":[[0.0,\"#440154\"],[0.1111111111111111,\"#482878\"],[0.2222222222222222,\"#3e4989\"],[0.3333333333333333,\"#31688e\"],[0.4444444444444444,\"#26828e\"],[0.5555555555555556,\"#1f9e89\"],[0.6666666666666666,\"#35b779\"],[0.7777777777777778,\"#6ece58\"],[0.8888888888888888,\"#b5de2b\"],[1.0,\"#fde725\"]],\"sequentialminus\":[[0.0,\"#440154\"],[0.1111111111111111,\"#482878\"],[0.2222222222222222,\"#3e4989\"],[0.3333333333333333,\"#31688e\"],[0.4444444444444444,\"#26828e\"],[0.5555555555555556,\"#1f9e89\"],[0.6666666666666666,\"#35b779\"],[0.7777777777777778,\"#6ece58\"],[0.8888888888888888,\"#b5de2b\"],[1.0,\"#fde725\"]]},\"colorway\":[\"#91268F\",\"#8CC63E\",\"#00A7A0\",\"#F05A28\",\"#4C4C4C\",\"#630460\",\"#9f3913\",\"#588527\",\"#00716c\",\"#3e4040\"],\"font\":{\"color\":\"rgb(36,36,36)\",\"family\":\"Poppins\",\"size\":11},\"geo\":{\"bgcolor\":\"white\",\"lakecolor\":\"white\",\"landcolor\":\"white\",\"showlakes\":true,\"showland\":true,\"subunitcolor\":\"white\"},\"hoverlabel\":{\"align\":\"left\"},\"hovermode\":\"closest\",\"mapbox\":{\"style\":\"light\"},\"paper_bgcolor\":\"white\",\"plot_bgcolor\":\"white\",\"polar\":{\"angularaxis\":{\"gridcolor\":\"rgb(232,232,232)\",\"linecolor\":\"rgb(36,36,36)\",\"showgrid\":false,\"showline\":true,\"ticks\":\"outside\"},\"bgcolor\":\"white\",\"radialaxis\":{\"gridcolor\":\"rgb(232,232,232)\",\"linecolor\":\"rgb(36,36,36)\",\"showgrid\":false,\"showline\":true,\"ticks\":\"outside\"}},\"scene\":{\"xaxis\":{\"backgroundcolor\":\"white\",\"gridcolor\":\"rgb(232,232,232)\",\"gridwidth\":2,\"linecolor\":\"rgb(36,36,36)\",\"showbackground\":true,\"showgrid\":false,\"showline\":true,\"ticks\":\"outside\",\"zeroline\":false,\"zerolinecolor\":\"rgb(36,36,36)\"},\"yaxis\":{\"backgroundcolor\":\"white\",\"gridcolor\":\"rgb(232,232,232)\",\"gridwidth\":2,\"linecolor\":\"rgb(36,36,36)\",\"showbackground\":true,\"showgrid\":false,\"showline\":true,\"ticks\":\"outside\",\"zeroline\":false,\"zerolinecolor\":\"rgb(36,36,36)\"},\"zaxis\":{\"backgroundcolor\":\"white\",\"gridcolor\":\"rgb(232,232,232)\",\"gridwidth\":2,\"linecolor\":\"rgb(36,36,36)\",\"showbackground\":true,\"showgrid\":false,\"showline\":true,\"ticks\":\"outside\",\"zeroline\":false,\"zerolinecolor\":\"rgb(36,36,36)\"}},\"shapedefaults\":{\"fillcolor\":\"black\",\"line\":{\"width\":0},\"opacity\":0.3},\"ternary\":{\"aaxis\":{\"gridcolor\":\"rgb(232,232,232)\",\"linecolor\":\"rgb(36,36,36)\",\"showgrid\":false,\"showline\":true,\"ticks\":\"outside\"},\"baxis\":{\"gridcolor\":\"rgb(232,232,232)\",\"linecolor\":\"rgb(36,36,36)\",\"showgrid\":false,\"showline\":true,\"ticks\":\"outside\"},\"bgcolor\":\"white\",\"caxis\":{\"gridcolor\":\"rgb(232,232,232)\",\"linecolor\":\"rgb(36,36,36)\",\"showgrid\":false,\"showline\":true,\"ticks\":\"outside\"}},\"title\":{\"x\":0.05},\"xaxis\":{\"automargin\":true,\"gridcolor\":\"rgb(232,232,232)\",\"linecolor\":\"rgb(36,36,36)\",\"showgrid\":false,\"showline\":true,\"ticks\":\"outside\",\"title\":{\"standoff\":15},\"zeroline\":false,\"zerolinecolor\":\"rgb(36,36,36)\"},\"yaxis\":{\"automargin\":true,\"gridcolor\":\"rgb(232,232,232)\",\"linecolor\":\"rgb(36,36,36)\",\"showgrid\":false,\"showline\":true,\"ticks\":\"outside\",\"title\":{\"standoff\":15},\"zeroline\":false,\"zerolinecolor\":\"rgb(36,36,36)\"}}},\"xaxis\":{\"anchor\":\"y\",\"domain\":[0.0,0.49],\"title\":{\"text\":\"percentage\"},\"tickformat\":\".1%\"},\"yaxis\":{\"anchor\":\"x\",\"domain\":[0.0,0.2866666666666666],\"title\":{\"text\":\"mode_label\"}},\"xaxis2\":{\"anchor\":\"y2\",\"domain\":[0.51,1.0],\"matches\":\"x\",\"title\":{\"text\":\"percentage\"},\"tickformat\":\".1%\"},\"yaxis2\":{\"anchor\":\"x2\",\"domain\":[0.0,0.2866666666666666],\"matches\":\"y\",\"showticklabels\":false},\"xaxis3\":{\"anchor\":\"y3\",\"domain\":[0.0,0.49],\"matches\":\"x\",\"showticklabels\":false,\"tickformat\":\".1%\"},\"yaxis3\":{\"anchor\":\"x3\",\"domain\":[0.35666666666666663,0.6433333333333333],\"matches\":\"y\",\"title\":{\"text\":\"mode_label\"}},\"xaxis4\":{\"anchor\":\"y4\",\"domain\":[0.51,1.0],\"matches\":\"x\",\"showticklabels\":false,\"tickformat\":\".1%\"},\"yaxis4\":{\"anchor\":\"x4\",\"domain\":[0.35666666666666663,0.6433333333333333],\"matches\":\"y\",\"showticklabels\":false},\"xaxis5\":{\"anchor\":\"y5\",\"domain\":[0.0,0.49],\"matches\":\"x\",\"showticklabels\":false,\"tickformat\":\".1%\"},\"yaxis5\":{\"anchor\":\"x5\",\"domain\":[0.7133333333333333,0.9999999999999999],\"matches\":\"y\",\"title\":{\"text\":\"mode_label\"}},\"xaxis6\":{\"anchor\":\"y6\",\"domain\":[0.51,1.0],\"matches\":\"x\",\"showticklabels\":false,\"tickformat\":\".1%\"},\"yaxis6\":{\"anchor\":\"x6\",\"domain\":[0.7133333333333333,0.9999999999999999],\"matches\":\"y\",\"showticklabels\":false},\"annotations\":[{\"font\":{},\"showarrow\":false,\"text\":\"4+\",\"x\":0.245,\"xanchor\":\"center\",\"xref\":\"paper\",\"y\":0.2866666666666666,\"yanchor\":\"bottom\",\"yref\":\"paper\"},{\"font\":{},\"showarrow\":false,\"text\":\"2\",\"x\":0.245,\"xanchor\":\"center\",\"xref\":\"paper\",\"y\":0.6433333333333333,\"yanchor\":\"bottom\",\"yref\":\"paper\"},{\"font\":{},\"showarrow\":false,\"text\":\"3\",\"x\":0.755,\"xanchor\":\"center\",\"xref\":\"paper\",\"y\":0.6433333333333333,\"yanchor\":\"bottom\",\"yref\":\"paper\"},{\"font\":{},\"showarrow\":false,\"text\":\"0\",\"x\":0.245,\"xanchor\":\"center\",\"xref\":\"paper\",\"y\":0.9999999999999999,\"yanchor\":\"bottom\",\"yref\":\"paper\"},{\"font\":{},\"showarrow\":false,\"text\":\"1\",\"x\":0.755,\"xanchor\":\"center\",\"xref\":\"paper\",\"y\":0.9999999999999999,\"yanchor\":\"bottom\",\"yref\":\"paper\"}],\"legend\":{\"title\":{\"text\":\"source\"},\"tracegroupgap\":0},\"title\":{\"text\":\"school trip mode choice by auto ownership\"},\"barmode\":\"group\",\"height\":800,\"width\":800},                        {\"responsive\": true}                    ).then(function(){\n",
       "                            \n",
       "var gd = document.getElementById('8518031d-4913-4c9d-901c-e6737b5c1a70');\n",
       "var x = new MutationObserver(function (mutations, observer) {{\n",
       "        var display = window.getComputedStyle(gd).display;\n",
       "        if (!display || display === 'none') {{\n",
       "            console.log([gd, 'removed!']);\n",
       "            Plotly.purge(gd);\n",
       "            observer.disconnect();\n",
       "        }}\n",
       "}});\n",
       "\n",
       "// Listen for the removal of the full notebook cells\n",
       "var notebookContainer = gd.closest('#notebook-container');\n",
       "if (notebookContainer) {{\n",
       "    x.observe(notebookContainer, {childList: true});\n",
       "}}\n",
       "\n",
       "// Listen for the clearing of the current output cell\n",
       "var outputEl = gd.closest('.output');\n",
       "if (outputEl) {{\n",
       "    x.observe(outputEl, {childList: true});\n",
       "}}\n",
       "\n",
       "                        })                };                });            </script>        </div>"
      ]
     },
     "metadata": {},
     "output_type": "display_data"
    }
   ],
   "source": [
    "plot_mode_choice(sc_trip.loc[sc_trip['auto_ownership_4+']!=\"-1\"],\"auto_ownership_4+\",\n",
    "                 {\"auto_ownership_4+\":[\"0\",\"1\",\"2\",\"3\",\"4+\"],\n",
    "                  \"tmodetp_label\":[\"1: walk\",\"2: bike\",\"3: sov\",\"4: hov 2\",\"5: hov 3+\",\"6: transit\",\n",
    "                                   \"8: school bus\",\"9: other–survey only\"]},\n",
    "                 \"auto ownership\",2,800)"
   ]
  },
  {
   "cell_type": "raw",
   "metadata": {},
   "source": [
    "### auto availability"
   ]
  },
  {
   "cell_type": "code",
   "execution_count": 10,
   "metadata": {
    "ExecuteTime": {
     "end_time": "2024-08-30T21:00:46.788743Z",
     "start_time": "2024-08-30T21:00:45.881771Z"
    },
    "execution": {
     "iopub.execute_input": "2025-01-21T07:12:41.457304Z",
     "iopub.status.busy": "2025-01-21T07:12:41.456307Z",
     "iopub.status.idle": "2025-01-21T07:12:41.972391Z",
     "shell.execute_reply": "2025-01-21T07:12:41.970879Z"
    }
   },
   "outputs": [
    {
     "data": {
      "application/vnd.plotly.v1+json": {
       "config": {
        "plotlyServerURL": "https://plot.ly"
       },
       "data": [
        {
         "alignmentgroup": "True",
         "customdata": [
          [
           5495
          ],
          [
           2280
          ],
          [
           1475
          ],
          [
           4624
          ],
          [
           2853
          ],
          [
           154
          ]
         ],
         "hovertemplate": "source=model<br>auto_available_driver=no car<br>percentage=%{x}<br>mode_label=%{y}<br>sample count=%{customdata[0]}<extra></extra>",
         "legendgroup": "model",
         "marker": {
          "color": "#91268F",
          "pattern": {
           "shape": ""
          }
         },
         "name": "model",
         "offsetgroup": "model",
         "orientation": "h",
         "showlegend": true,
         "textposition": "auto",
         "type": "bar",
         "x": [
          0.3255138913571471,
          0.13506308867958058,
          0.08737634026420235,
          0.27391742195367574,
          0.1690065754398436,
          0.00912268230555062
         ],
         "xaxis": "x",
         "y": [
          "1: walk",
          "2: bike",
          "4: hov 2",
          "5: hov 3+",
          "6: transit",
          "8: school bus"
         ],
         "yaxis": "y"
        },
        {
         "alignmentgroup": "True",
         "customdata": [
          [
           25249
          ],
          [
           1943
          ],
          [
           21922
          ],
          [
           45125
          ],
          [
           37090
          ],
          [
           6158
          ],
          [
           40419
          ],
          [
           4
          ]
         ],
         "hovertemplate": "source=model<br>auto_available_driver=cars fewer than drivers<br>percentage=%{x}<br>mode_label=%{y}<br>sample count=%{customdata[0]}<extra></extra>",
         "legendgroup": "model",
         "marker": {
          "color": "#91268F",
          "pattern": {
           "shape": ""
          }
         },
         "name": "model",
         "offsetgroup": "model",
         "orientation": "h",
         "showlegend": false,
         "textposition": "auto",
         "type": "bar",
         "x": [
          0.1419200719464898,
          0.01092125231858805,
          0.12321960541847002,
          0.2536394806362768,
          0.20847619582935192,
          0.03461300657635883,
          0.22718790399640268,
          0.00002248327806194143
         ],
         "xaxis": "x2",
         "y": [
          "1: walk",
          "2: bike",
          "3: sov",
          "4: hov 2",
          "5: hov 3+",
          "6: transit",
          "8: school bus",
          "9: tnc"
         ],
         "yaxis": "y2"
        },
        {
         "alignmentgroup": "True",
         "customdata": [
          [
           33680
          ],
          [
           10690
          ],
          [
           41919
          ],
          [
           87649
          ],
          [
           131070
          ],
          [
           11464
          ],
          [
           64641
          ],
          [
           4
          ]
         ],
         "hovertemplate": "source=model<br>auto_available_driver=enough cars<br>percentage=%{x}<br>mode_label=%{y}<br>sample count=%{customdata[0]}<extra></extra>",
         "legendgroup": "model",
         "marker": {
          "color": "#91268F",
          "pattern": {
           "shape": ""
          }
         },
         "name": "model",
         "offsetgroup": "model",
         "orientation": "h",
         "showlegend": false,
         "textposition": "auto",
         "type": "bar",
         "x": [
          0.08837181233059664,
          0.028049129270014194,
          0.10998984563795369,
          0.2299792452186599,
          0.3439101378316895,
          0.030080001679274344,
          0.1696093325671644,
          0.000010495464647339268
         ],
         "xaxis": "x3",
         "y": [
          "1: walk",
          "2: bike",
          "3: sov",
          "4: hov 2",
          "5: hov 3+",
          "6: transit",
          "8: school bus",
          "9: tnc"
         ],
         "yaxis": "y3"
        },
        {
         "alignmentgroup": "True",
         "customdata": [
          [
           15
          ],
          [
           1
          ],
          [
           2
          ],
          [
           7
          ],
          [
           2
          ],
          [
           2
          ]
         ],
         "hovertemplate": "source=survey<br>auto_available_driver=no car<br>percentage=%{x}<br>mode_label=%{y}<br>sample count=%{customdata[0]}<extra></extra>",
         "legendgroup": "survey",
         "marker": {
          "color": "#8CC63E",
          "pattern": {
           "shape": ""
          }
         },
         "name": "survey",
         "offsetgroup": "survey",
         "orientation": "h",
         "showlegend": true,
         "textposition": "auto",
         "type": "bar",
         "x": [
          0.23490301643253314,
          0.12799433216348818,
          0.40456073456992553,
          0.12455778308207745,
          0.005832670622227687,
          0.10215146312974811
         ],
         "xaxis": "x",
         "y": [
          "1: walk",
          "2: bike",
          "4: hov 2",
          "6: transit",
          "8: school bus",
          "9: tnc"
         ],
         "yaxis": "y"
        },
        {
         "alignmentgroup": "True",
         "customdata": [
          [
           42
          ],
          [
           9
          ],
          [
           17
          ],
          [
           48
          ],
          [
           39
          ],
          [
           17
          ],
          [
           45
          ]
         ],
         "hovertemplate": "source=survey<br>auto_available_driver=cars fewer than drivers<br>percentage=%{x}<br>mode_label=%{y}<br>sample count=%{customdata[0]}<extra></extra>",
         "legendgroup": "survey",
         "marker": {
          "color": "#8CC63E",
          "pattern": {
           "shape": ""
          }
         },
         "name": "survey",
         "offsetgroup": "survey",
         "orientation": "h",
         "showlegend": false,
         "textposition": "auto",
         "type": "bar",
         "x": [
          0.10009063979592027,
          0.0025864514636052454,
          0.12879347575752348,
          0.34459634778327813,
          0.19511888152995358,
          0.0400986533903005,
          0.18871555027941858
         ],
         "xaxis": "x2",
         "y": [
          "1: walk",
          "2: bike",
          "3: sov",
          "4: hov 2",
          "5: hov 3+",
          "6: transit",
          "8: school bus"
         ],
         "yaxis": "y2"
        },
        {
         "alignmentgroup": "True",
         "customdata": [
          [
           42
          ],
          [
           12
          ],
          [
           34
          ],
          [
           102
          ],
          [
           122
          ],
          [
           14
          ],
          [
           86
          ],
          [
           1
          ]
         ],
         "hovertemplate": "source=survey<br>auto_available_driver=enough cars<br>percentage=%{x}<br>mode_label=%{y}<br>sample count=%{customdata[0]}<extra></extra>",
         "legendgroup": "survey",
         "marker": {
          "color": "#8CC63E",
          "pattern": {
           "shape": ""
          }
         },
         "name": "survey",
         "offsetgroup": "survey",
         "orientation": "h",
         "showlegend": false,
         "textposition": "auto",
         "type": "bar",
         "x": [
          0.054491101688478004,
          0.02802842031600304,
          0.12981856216277382,
          0.1658421311707375,
          0.4199361278659291,
          0.030353727732288574,
          0.1680127218890396,
          0.0035172071747503917
         ],
         "xaxis": "x3",
         "y": [
          "1: walk",
          "2: bike",
          "3: sov",
          "4: hov 2",
          "5: hov 3+",
          "6: transit",
          "8: school bus",
          "9: tnc"
         ],
         "yaxis": "y3"
        },
        {
         "alignmentgroup": "True",
         "customdata": [
          [
           46
          ],
          [
           14
          ],
          [
           3
          ],
          [
           2
          ],
          [
           50
          ],
          [
           3
          ],
          [
           5
          ]
         ],
         "hovertemplate": "source=survey (2017/2019)<br>auto_available_driver=no car<br>percentage=%{x}<br>mode_label=%{y}<br>sample count=%{customdata[0]}<extra></extra>",
         "legendgroup": "survey (2017/2019)",
         "marker": {
          "color": "#00A7A0",
          "pattern": {
           "shape": ""
          }
         },
         "name": "survey (2017/2019)",
         "offsetgroup": "survey (2017/2019)",
         "orientation": "h",
         "showlegend": true,
         "textposition": "auto",
         "type": "bar",
         "x": [
          0.23485898739697264,
          0.08572641746091675,
          0.2285144480615143,
          0.003632273148831025,
          0.4096185732086663,
          0.023210520434313826,
          0.014438780288785043
         ],
         "xaxis": "x",
         "y": [
          "1: walk",
          "2: bike",
          "4: hov 2",
          "5: hov 3+",
          "6: transit",
          "8: school bus",
          "9: tnc"
         ],
         "yaxis": "y"
        },
        {
         "alignmentgroup": "True",
         "customdata": [
          [
           75
          ],
          [
           18
          ],
          [
           39
          ],
          [
           84
          ],
          [
           69
          ],
          [
           74
          ],
          [
           47
          ],
          [
           4
          ]
         ],
         "hovertemplate": "source=survey (2017/2019)<br>auto_available_driver=cars fewer than drivers<br>percentage=%{x}<br>mode_label=%{y}<br>sample count=%{customdata[0]}<extra></extra>",
         "legendgroup": "survey (2017/2019)",
         "marker": {
          "color": "#00A7A0",
          "pattern": {
           "shape": ""
          }
         },
         "name": "survey (2017/2019)",
         "offsetgroup": "survey (2017/2019)",
         "orientation": "h",
         "showlegend": false,
         "textposition": "auto",
         "type": "bar",
         "x": [
          0.10799153327161683,
          0.01642988964747943,
          0.20496454169040462,
          0.1526968152068923,
          0.35152406635289235,
          0.07423026997955459,
          0.0884108663042589,
          0.0037520175469010213
         ],
         "xaxis": "x2",
         "y": [
          "1: walk",
          "2: bike",
          "3: sov",
          "4: hov 2",
          "5: hov 3+",
          "6: transit",
          "8: school bus",
          "9: tnc"
         ],
         "yaxis": "y2"
        },
        {
         "alignmentgroup": "True",
         "customdata": [
          [
           86
          ],
          [
           12
          ],
          [
           84
          ],
          [
           201
          ],
          [
           218
          ],
          [
           62
          ],
          [
           123
          ]
         ],
         "hovertemplate": "source=survey (2017/2019)<br>auto_available_driver=enough cars<br>percentage=%{x}<br>mode_label=%{y}<br>sample count=%{customdata[0]}<extra></extra>",
         "legendgroup": "survey (2017/2019)",
         "marker": {
          "color": "#00A7A0",
          "pattern": {
           "shape": ""
          }
         },
         "name": "survey (2017/2019)",
         "offsetgroup": "survey (2017/2019)",
         "orientation": "h",
         "showlegend": false,
         "textposition": "auto",
         "type": "bar",
         "x": [
          0.07371862346123234,
          0.0018009325843030741,
          0.09717818972825956,
          0.18304288161953577,
          0.3790893062722342,
          0.07294150497746628,
          0.19222856135696864
         ],
         "xaxis": "x3",
         "y": [
          "1: walk",
          "2: bike",
          "3: sov",
          "4: hov 2",
          "5: hov 3+",
          "6: transit",
          "8: school bus"
         ],
         "yaxis": "y3"
        }
       ],
       "layout": {
        "annotations": [
         {
          "font": {},
          "showarrow": false,
          "text": "no car",
          "x": 0.15999999999999998,
          "xanchor": "center",
          "xref": "paper",
          "y": 1,
          "yanchor": "bottom",
          "yref": "paper"
         },
         {
          "font": {},
          "showarrow": false,
          "text": "cars fewer than drivers",
          "x": 0.49999999999999994,
          "xanchor": "center",
          "xref": "paper",
          "y": 1,
          "yanchor": "bottom",
          "yref": "paper"
         },
         {
          "font": {},
          "showarrow": false,
          "text": "enough cars",
          "x": 0.8399999999999999,
          "xanchor": "center",
          "xref": "paper",
          "y": 1,
          "yanchor": "bottom",
          "yref": "paper"
         }
        ],
        "barmode": "group",
        "height": 500,
        "legend": {
         "title": {
          "text": "source"
         },
         "tracegroupgap": 0
        },
        "template": {
         "data": {
          "bar": [
           {
            "error_x": {
             "color": "rgb(36,36,36)"
            },
            "error_y": {
             "color": "rgb(36,36,36)"
            },
            "marker": {
             "line": {
              "color": "white",
              "width": 0.5
             },
             "pattern": {
              "fillmode": "overlay",
              "size": 10,
              "solidity": 0.2
             }
            },
            "type": "bar"
           }
          ],
          "barpolar": [
           {
            "marker": {
             "line": {
              "color": "white",
              "width": 0.5
             },
             "pattern": {
              "fillmode": "overlay",
              "size": 10,
              "solidity": 0.2
             }
            },
            "type": "barpolar"
           }
          ],
          "carpet": [
           {
            "aaxis": {
             "endlinecolor": "rgb(36,36,36)",
             "gridcolor": "white",
             "linecolor": "white",
             "minorgridcolor": "white",
             "startlinecolor": "rgb(36,36,36)"
            },
            "baxis": {
             "endlinecolor": "rgb(36,36,36)",
             "gridcolor": "white",
             "linecolor": "white",
             "minorgridcolor": "white",
             "startlinecolor": "rgb(36,36,36)"
            },
            "type": "carpet"
           }
          ],
          "choropleth": [
           {
            "colorbar": {
             "outlinewidth": 1,
             "tickcolor": "rgb(36,36,36)",
             "ticks": "outside"
            },
            "type": "choropleth"
           }
          ],
          "contour": [
           {
            "colorbar": {
             "outlinewidth": 1,
             "tickcolor": "rgb(36,36,36)",
             "ticks": "outside"
            },
            "colorscale": [
             [
              0,
              "#440154"
             ],
             [
              0.1111111111111111,
              "#482878"
             ],
             [
              0.2222222222222222,
              "#3e4989"
             ],
             [
              0.3333333333333333,
              "#31688e"
             ],
             [
              0.4444444444444444,
              "#26828e"
             ],
             [
              0.5555555555555556,
              "#1f9e89"
             ],
             [
              0.6666666666666666,
              "#35b779"
             ],
             [
              0.7777777777777778,
              "#6ece58"
             ],
             [
              0.8888888888888888,
              "#b5de2b"
             ],
             [
              1,
              "#fde725"
             ]
            ],
            "type": "contour"
           }
          ],
          "contourcarpet": [
           {
            "colorbar": {
             "outlinewidth": 1,
             "tickcolor": "rgb(36,36,36)",
             "ticks": "outside"
            },
            "type": "contourcarpet"
           }
          ],
          "heatmap": [
           {
            "colorbar": {
             "outlinewidth": 1,
             "tickcolor": "rgb(36,36,36)",
             "ticks": "outside"
            },
            "colorscale": [
             [
              0,
              "#440154"
             ],
             [
              0.1111111111111111,
              "#482878"
             ],
             [
              0.2222222222222222,
              "#3e4989"
             ],
             [
              0.3333333333333333,
              "#31688e"
             ],
             [
              0.4444444444444444,
              "#26828e"
             ],
             [
              0.5555555555555556,
              "#1f9e89"
             ],
             [
              0.6666666666666666,
              "#35b779"
             ],
             [
              0.7777777777777778,
              "#6ece58"
             ],
             [
              0.8888888888888888,
              "#b5de2b"
             ],
             [
              1,
              "#fde725"
             ]
            ],
            "type": "heatmap"
           }
          ],
          "heatmapgl": [
           {
            "colorbar": {
             "outlinewidth": 1,
             "tickcolor": "rgb(36,36,36)",
             "ticks": "outside"
            },
            "colorscale": [
             [
              0,
              "#440154"
             ],
             [
              0.1111111111111111,
              "#482878"
             ],
             [
              0.2222222222222222,
              "#3e4989"
             ],
             [
              0.3333333333333333,
              "#31688e"
             ],
             [
              0.4444444444444444,
              "#26828e"
             ],
             [
              0.5555555555555556,
              "#1f9e89"
             ],
             [
              0.6666666666666666,
              "#35b779"
             ],
             [
              0.7777777777777778,
              "#6ece58"
             ],
             [
              0.8888888888888888,
              "#b5de2b"
             ],
             [
              1,
              "#fde725"
             ]
            ],
            "type": "heatmapgl"
           }
          ],
          "histogram": [
           {
            "marker": {
             "line": {
              "color": "white",
              "width": 0.6
             }
            },
            "type": "histogram"
           }
          ],
          "histogram2d": [
           {
            "colorbar": {
             "outlinewidth": 1,
             "tickcolor": "rgb(36,36,36)",
             "ticks": "outside"
            },
            "colorscale": [
             [
              0,
              "#440154"
             ],
             [
              0.1111111111111111,
              "#482878"
             ],
             [
              0.2222222222222222,
              "#3e4989"
             ],
             [
              0.3333333333333333,
              "#31688e"
             ],
             [
              0.4444444444444444,
              "#26828e"
             ],
             [
              0.5555555555555556,
              "#1f9e89"
             ],
             [
              0.6666666666666666,
              "#35b779"
             ],
             [
              0.7777777777777778,
              "#6ece58"
             ],
             [
              0.8888888888888888,
              "#b5de2b"
             ],
             [
              1,
              "#fde725"
             ]
            ],
            "type": "histogram2d"
           }
          ],
          "histogram2dcontour": [
           {
            "colorbar": {
             "outlinewidth": 1,
             "tickcolor": "rgb(36,36,36)",
             "ticks": "outside"
            },
            "colorscale": [
             [
              0,
              "#440154"
             ],
             [
              0.1111111111111111,
              "#482878"
             ],
             [
              0.2222222222222222,
              "#3e4989"
             ],
             [
              0.3333333333333333,
              "#31688e"
             ],
             [
              0.4444444444444444,
              "#26828e"
             ],
             [
              0.5555555555555556,
              "#1f9e89"
             ],
             [
              0.6666666666666666,
              "#35b779"
             ],
             [
              0.7777777777777778,
              "#6ece58"
             ],
             [
              0.8888888888888888,
              "#b5de2b"
             ],
             [
              1,
              "#fde725"
             ]
            ],
            "type": "histogram2dcontour"
           }
          ],
          "mesh3d": [
           {
            "colorbar": {
             "outlinewidth": 1,
             "tickcolor": "rgb(36,36,36)",
             "ticks": "outside"
            },
            "type": "mesh3d"
           }
          ],
          "parcoords": [
           {
            "line": {
             "colorbar": {
              "outlinewidth": 1,
              "tickcolor": "rgb(36,36,36)",
              "ticks": "outside"
             }
            },
            "type": "parcoords"
           }
          ],
          "pie": [
           {
            "automargin": true,
            "type": "pie"
           }
          ],
          "scatter": [
           {
            "fillpattern": {
             "fillmode": "overlay",
             "size": 10,
             "solidity": 0.2
            },
            "type": "scatter"
           }
          ],
          "scatter3d": [
           {
            "line": {
             "colorbar": {
              "outlinewidth": 1,
              "tickcolor": "rgb(36,36,36)",
              "ticks": "outside"
             }
            },
            "marker": {
             "colorbar": {
              "outlinewidth": 1,
              "tickcolor": "rgb(36,36,36)",
              "ticks": "outside"
             }
            },
            "type": "scatter3d"
           }
          ],
          "scattercarpet": [
           {
            "marker": {
             "colorbar": {
              "outlinewidth": 1,
              "tickcolor": "rgb(36,36,36)",
              "ticks": "outside"
             }
            },
            "type": "scattercarpet"
           }
          ],
          "scattergeo": [
           {
            "marker": {
             "colorbar": {
              "outlinewidth": 1,
              "tickcolor": "rgb(36,36,36)",
              "ticks": "outside"
             }
            },
            "type": "scattergeo"
           }
          ],
          "scattergl": [
           {
            "marker": {
             "colorbar": {
              "outlinewidth": 1,
              "tickcolor": "rgb(36,36,36)",
              "ticks": "outside"
             }
            },
            "type": "scattergl"
           }
          ],
          "scattermapbox": [
           {
            "marker": {
             "colorbar": {
              "outlinewidth": 1,
              "tickcolor": "rgb(36,36,36)",
              "ticks": "outside"
             }
            },
            "type": "scattermapbox"
           }
          ],
          "scatterpolar": [
           {
            "marker": {
             "colorbar": {
              "outlinewidth": 1,
              "tickcolor": "rgb(36,36,36)",
              "ticks": "outside"
             }
            },
            "type": "scatterpolar"
           }
          ],
          "scatterpolargl": [
           {
            "marker": {
             "colorbar": {
              "outlinewidth": 1,
              "tickcolor": "rgb(36,36,36)",
              "ticks": "outside"
             }
            },
            "type": "scatterpolargl"
           }
          ],
          "scatterternary": [
           {
            "marker": {
             "colorbar": {
              "outlinewidth": 1,
              "tickcolor": "rgb(36,36,36)",
              "ticks": "outside"
             }
            },
            "type": "scatterternary"
           }
          ],
          "surface": [
           {
            "colorbar": {
             "outlinewidth": 1,
             "tickcolor": "rgb(36,36,36)",
             "ticks": "outside"
            },
            "colorscale": [
             [
              0,
              "#440154"
             ],
             [
              0.1111111111111111,
              "#482878"
             ],
             [
              0.2222222222222222,
              "#3e4989"
             ],
             [
              0.3333333333333333,
              "#31688e"
             ],
             [
              0.4444444444444444,
              "#26828e"
             ],
             [
              0.5555555555555556,
              "#1f9e89"
             ],
             [
              0.6666666666666666,
              "#35b779"
             ],
             [
              0.7777777777777778,
              "#6ece58"
             ],
             [
              0.8888888888888888,
              "#b5de2b"
             ],
             [
              1,
              "#fde725"
             ]
            ],
            "type": "surface"
           }
          ],
          "table": [
           {
            "cells": {
             "fill": {
              "color": "rgb(237,237,237)"
             },
             "line": {
              "color": "white"
             }
            },
            "header": {
             "fill": {
              "color": "rgb(217,217,217)"
             },
             "line": {
              "color": "white"
             }
            },
            "type": "table"
           }
          ]
         },
         "layout": {
          "annotationdefaults": {
           "arrowhead": 0,
           "arrowwidth": 1
          },
          "autotypenumbers": "strict",
          "coloraxis": {
           "colorbar": {
            "outlinewidth": 1,
            "tickcolor": "rgb(36,36,36)",
            "ticks": "outside"
           }
          },
          "colorscale": {
           "diverging": [
            [
             0,
             "rgb(103,0,31)"
            ],
            [
             0.1,
             "rgb(178,24,43)"
            ],
            [
             0.2,
             "rgb(214,96,77)"
            ],
            [
             0.3,
             "rgb(244,165,130)"
            ],
            [
             0.4,
             "rgb(253,219,199)"
            ],
            [
             0.5,
             "rgb(247,247,247)"
            ],
            [
             0.6,
             "rgb(209,229,240)"
            ],
            [
             0.7,
             "rgb(146,197,222)"
            ],
            [
             0.8,
             "rgb(67,147,195)"
            ],
            [
             0.9,
             "rgb(33,102,172)"
            ],
            [
             1,
             "rgb(5,48,97)"
            ]
           ],
           "sequential": [
            [
             0,
             "#440154"
            ],
            [
             0.1111111111111111,
             "#482878"
            ],
            [
             0.2222222222222222,
             "#3e4989"
            ],
            [
             0.3333333333333333,
             "#31688e"
            ],
            [
             0.4444444444444444,
             "#26828e"
            ],
            [
             0.5555555555555556,
             "#1f9e89"
            ],
            [
             0.6666666666666666,
             "#35b779"
            ],
            [
             0.7777777777777778,
             "#6ece58"
            ],
            [
             0.8888888888888888,
             "#b5de2b"
            ],
            [
             1,
             "#fde725"
            ]
           ],
           "sequentialminus": [
            [
             0,
             "#440154"
            ],
            [
             0.1111111111111111,
             "#482878"
            ],
            [
             0.2222222222222222,
             "#3e4989"
            ],
            [
             0.3333333333333333,
             "#31688e"
            ],
            [
             0.4444444444444444,
             "#26828e"
            ],
            [
             0.5555555555555556,
             "#1f9e89"
            ],
            [
             0.6666666666666666,
             "#35b779"
            ],
            [
             0.7777777777777778,
             "#6ece58"
            ],
            [
             0.8888888888888888,
             "#b5de2b"
            ],
            [
             1,
             "#fde725"
            ]
           ]
          },
          "colorway": [
           "#91268F",
           "#8CC63E",
           "#00A7A0",
           "#F05A28",
           "#4C4C4C",
           "#630460",
           "#9f3913",
           "#588527",
           "#00716c",
           "#3e4040"
          ],
          "font": {
           "color": "rgb(36,36,36)",
           "family": "Poppins",
           "size": 11
          },
          "geo": {
           "bgcolor": "white",
           "lakecolor": "white",
           "landcolor": "white",
           "showlakes": true,
           "showland": true,
           "subunitcolor": "white"
          },
          "hoverlabel": {
           "align": "left"
          },
          "hovermode": "closest",
          "mapbox": {
           "style": "light"
          },
          "paper_bgcolor": "white",
          "plot_bgcolor": "white",
          "polar": {
           "angularaxis": {
            "gridcolor": "rgb(232,232,232)",
            "linecolor": "rgb(36,36,36)",
            "showgrid": false,
            "showline": true,
            "ticks": "outside"
           },
           "bgcolor": "white",
           "radialaxis": {
            "gridcolor": "rgb(232,232,232)",
            "linecolor": "rgb(36,36,36)",
            "showgrid": false,
            "showline": true,
            "ticks": "outside"
           }
          },
          "scene": {
           "xaxis": {
            "backgroundcolor": "white",
            "gridcolor": "rgb(232,232,232)",
            "gridwidth": 2,
            "linecolor": "rgb(36,36,36)",
            "showbackground": true,
            "showgrid": false,
            "showline": true,
            "ticks": "outside",
            "zeroline": false,
            "zerolinecolor": "rgb(36,36,36)"
           },
           "yaxis": {
            "backgroundcolor": "white",
            "gridcolor": "rgb(232,232,232)",
            "gridwidth": 2,
            "linecolor": "rgb(36,36,36)",
            "showbackground": true,
            "showgrid": false,
            "showline": true,
            "ticks": "outside",
            "zeroline": false,
            "zerolinecolor": "rgb(36,36,36)"
           },
           "zaxis": {
            "backgroundcolor": "white",
            "gridcolor": "rgb(232,232,232)",
            "gridwidth": 2,
            "linecolor": "rgb(36,36,36)",
            "showbackground": true,
            "showgrid": false,
            "showline": true,
            "ticks": "outside",
            "zeroline": false,
            "zerolinecolor": "rgb(36,36,36)"
           }
          },
          "shapedefaults": {
           "fillcolor": "black",
           "line": {
            "width": 0
           },
           "opacity": 0.3
          },
          "ternary": {
           "aaxis": {
            "gridcolor": "rgb(232,232,232)",
            "linecolor": "rgb(36,36,36)",
            "showgrid": false,
            "showline": true,
            "ticks": "outside"
           },
           "baxis": {
            "gridcolor": "rgb(232,232,232)",
            "linecolor": "rgb(36,36,36)",
            "showgrid": false,
            "showline": true,
            "ticks": "outside"
           },
           "bgcolor": "white",
           "caxis": {
            "gridcolor": "rgb(232,232,232)",
            "linecolor": "rgb(36,36,36)",
            "showgrid": false,
            "showline": true,
            "ticks": "outside"
           }
          },
          "title": {
           "x": 0.05
          },
          "xaxis": {
           "automargin": true,
           "gridcolor": "rgb(232,232,232)",
           "linecolor": "rgb(36,36,36)",
           "showgrid": false,
           "showline": true,
           "ticks": "outside",
           "title": {
            "standoff": 15
           },
           "zeroline": false,
           "zerolinecolor": "rgb(36,36,36)"
          },
          "yaxis": {
           "automargin": true,
           "gridcolor": "rgb(232,232,232)",
           "linecolor": "rgb(36,36,36)",
           "showgrid": false,
           "showline": true,
           "ticks": "outside",
           "title": {
            "standoff": 15
           },
           "zeroline": false,
           "zerolinecolor": "rgb(36,36,36)"
          }
         }
        },
        "title": {
         "text": "school trip mode choice by auto availability (driver, showing only households with at least one driver)"
        },
        "width": 1000,
        "xaxis": {
         "anchor": "y",
         "domain": [
          0,
          0.31999999999999995
         ],
         "tickformat": ".1%",
         "title": {
          "text": "percentage"
         }
        },
        "xaxis2": {
         "anchor": "y2",
         "domain": [
          0.33999999999999997,
          0.6599999999999999
         ],
         "matches": "x",
         "tickformat": ".1%",
         "title": {
          "text": "percentage"
         }
        },
        "xaxis3": {
         "anchor": "y3",
         "domain": [
          0.6799999999999999,
          0.9999999999999999
         ],
         "matches": "x",
         "tickformat": ".1%",
         "title": {
          "text": "percentage"
         }
        },
        "yaxis": {
         "anchor": "x",
         "domain": [
          0,
          1
         ],
         "title": {
          "text": "mode_label"
         }
        },
        "yaxis2": {
         "anchor": "x2",
         "domain": [
          0,
          1
         ],
         "matches": "y",
         "showticklabels": false
        },
        "yaxis3": {
         "anchor": "x3",
         "domain": [
          0,
          1
         ],
         "matches": "y",
         "showticklabels": false
        }
       }
      },
      "text/html": [
       "<div>                            <div id=\"29da06c2-d9bf-43e7-b72f-b59d6b7777aa\" class=\"plotly-graph-div\" style=\"height:500px; width:1000px;\"></div>            <script type=\"text/javascript\">                require([\"plotly\"], function(Plotly) {                    window.PLOTLYENV=window.PLOTLYENV || {};                                    if (document.getElementById(\"29da06c2-d9bf-43e7-b72f-b59d6b7777aa\")) {                    Plotly.newPlot(                        \"29da06c2-d9bf-43e7-b72f-b59d6b7777aa\",                        [{\"alignmentgroup\":\"True\",\"customdata\":[[5495],[2280],[1475],[4624],[2853],[154]],\"hovertemplate\":\"source=model\\u003cbr\\u003eauto_available_driver=no car\\u003cbr\\u003epercentage=%{x}\\u003cbr\\u003emode_label=%{y}\\u003cbr\\u003esample count=%{customdata[0]}\\u003cextra\\u003e\\u003c\\u002fextra\\u003e\",\"legendgroup\":\"model\",\"marker\":{\"color\":\"#91268F\",\"pattern\":{\"shape\":\"\"}},\"name\":\"model\",\"offsetgroup\":\"model\",\"orientation\":\"h\",\"showlegend\":true,\"textposition\":\"auto\",\"x\":[0.3255138913571471,0.13506308867958058,0.08737634026420235,0.27391742195367574,0.1690065754398436,0.00912268230555062],\"xaxis\":\"x\",\"y\":[\"1: walk\",\"2: bike\",\"4: hov 2\",\"5: hov 3+\",\"6: transit\",\"8: school bus\"],\"yaxis\":\"y\",\"type\":\"bar\"},{\"alignmentgroup\":\"True\",\"customdata\":[[25249],[1943],[21922],[45125],[37090],[6158],[40419],[4]],\"hovertemplate\":\"source=model\\u003cbr\\u003eauto_available_driver=cars fewer than drivers\\u003cbr\\u003epercentage=%{x}\\u003cbr\\u003emode_label=%{y}\\u003cbr\\u003esample count=%{customdata[0]}\\u003cextra\\u003e\\u003c\\u002fextra\\u003e\",\"legendgroup\":\"model\",\"marker\":{\"color\":\"#91268F\",\"pattern\":{\"shape\":\"\"}},\"name\":\"model\",\"offsetgroup\":\"model\",\"orientation\":\"h\",\"showlegend\":false,\"textposition\":\"auto\",\"x\":[0.1419200719464898,0.01092125231858805,0.12321960541847002,0.2536394806362768,0.20847619582935192,0.03461300657635883,0.22718790399640268,2.248327806194143e-05],\"xaxis\":\"x2\",\"y\":[\"1: walk\",\"2: bike\",\"3: sov\",\"4: hov 2\",\"5: hov 3+\",\"6: transit\",\"8: school bus\",\"9: tnc\"],\"yaxis\":\"y2\",\"type\":\"bar\"},{\"alignmentgroup\":\"True\",\"customdata\":[[33680],[10690],[41919],[87649],[131070],[11464],[64641],[4]],\"hovertemplate\":\"source=model\\u003cbr\\u003eauto_available_driver=enough cars\\u003cbr\\u003epercentage=%{x}\\u003cbr\\u003emode_label=%{y}\\u003cbr\\u003esample count=%{customdata[0]}\\u003cextra\\u003e\\u003c\\u002fextra\\u003e\",\"legendgroup\":\"model\",\"marker\":{\"color\":\"#91268F\",\"pattern\":{\"shape\":\"\"}},\"name\":\"model\",\"offsetgroup\":\"model\",\"orientation\":\"h\",\"showlegend\":false,\"textposition\":\"auto\",\"x\":[0.08837181233059664,0.028049129270014194,0.10998984563795369,0.2299792452186599,0.3439101378316895,0.030080001679274344,0.1696093325671644,1.0495464647339268e-05],\"xaxis\":\"x3\",\"y\":[\"1: walk\",\"2: bike\",\"3: sov\",\"4: hov 2\",\"5: hov 3+\",\"6: transit\",\"8: school bus\",\"9: tnc\"],\"yaxis\":\"y3\",\"type\":\"bar\"},{\"alignmentgroup\":\"True\",\"customdata\":[[15],[1],[2],[7],[2],[2]],\"hovertemplate\":\"source=survey\\u003cbr\\u003eauto_available_driver=no car\\u003cbr\\u003epercentage=%{x}\\u003cbr\\u003emode_label=%{y}\\u003cbr\\u003esample count=%{customdata[0]}\\u003cextra\\u003e\\u003c\\u002fextra\\u003e\",\"legendgroup\":\"survey\",\"marker\":{\"color\":\"#8CC63E\",\"pattern\":{\"shape\":\"\"}},\"name\":\"survey\",\"offsetgroup\":\"survey\",\"orientation\":\"h\",\"showlegend\":true,\"textposition\":\"auto\",\"x\":[0.23490301643253314,0.12799433216348818,0.40456073456992553,0.12455778308207745,0.005832670622227687,0.10215146312974811],\"xaxis\":\"x\",\"y\":[\"1: walk\",\"2: bike\",\"4: hov 2\",\"6: transit\",\"8: school bus\",\"9: tnc\"],\"yaxis\":\"y\",\"type\":\"bar\"},{\"alignmentgroup\":\"True\",\"customdata\":[[42],[9],[17],[48],[39],[17],[45]],\"hovertemplate\":\"source=survey\\u003cbr\\u003eauto_available_driver=cars fewer than drivers\\u003cbr\\u003epercentage=%{x}\\u003cbr\\u003emode_label=%{y}\\u003cbr\\u003esample count=%{customdata[0]}\\u003cextra\\u003e\\u003c\\u002fextra\\u003e\",\"legendgroup\":\"survey\",\"marker\":{\"color\":\"#8CC63E\",\"pattern\":{\"shape\":\"\"}},\"name\":\"survey\",\"offsetgroup\":\"survey\",\"orientation\":\"h\",\"showlegend\":false,\"textposition\":\"auto\",\"x\":[0.10009063979592027,0.0025864514636052454,0.12879347575752348,0.34459634778327813,0.19511888152995358,0.0400986533903005,0.18871555027941858],\"xaxis\":\"x2\",\"y\":[\"1: walk\",\"2: bike\",\"3: sov\",\"4: hov 2\",\"5: hov 3+\",\"6: transit\",\"8: school bus\"],\"yaxis\":\"y2\",\"type\":\"bar\"},{\"alignmentgroup\":\"True\",\"customdata\":[[42],[12],[34],[102],[122],[14],[86],[1]],\"hovertemplate\":\"source=survey\\u003cbr\\u003eauto_available_driver=enough cars\\u003cbr\\u003epercentage=%{x}\\u003cbr\\u003emode_label=%{y}\\u003cbr\\u003esample count=%{customdata[0]}\\u003cextra\\u003e\\u003c\\u002fextra\\u003e\",\"legendgroup\":\"survey\",\"marker\":{\"color\":\"#8CC63E\",\"pattern\":{\"shape\":\"\"}},\"name\":\"survey\",\"offsetgroup\":\"survey\",\"orientation\":\"h\",\"showlegend\":false,\"textposition\":\"auto\",\"x\":[0.054491101688478004,0.02802842031600304,0.12981856216277382,0.1658421311707375,0.4199361278659291,0.030353727732288574,0.1680127218890396,0.0035172071747503917],\"xaxis\":\"x3\",\"y\":[\"1: walk\",\"2: bike\",\"3: sov\",\"4: hov 2\",\"5: hov 3+\",\"6: transit\",\"8: school bus\",\"9: tnc\"],\"yaxis\":\"y3\",\"type\":\"bar\"},{\"alignmentgroup\":\"True\",\"customdata\":[[46],[14],[3],[2],[50],[3],[5]],\"hovertemplate\":\"source=survey (2017\\u002f2019)\\u003cbr\\u003eauto_available_driver=no car\\u003cbr\\u003epercentage=%{x}\\u003cbr\\u003emode_label=%{y}\\u003cbr\\u003esample count=%{customdata[0]}\\u003cextra\\u003e\\u003c\\u002fextra\\u003e\",\"legendgroup\":\"survey (2017\\u002f2019)\",\"marker\":{\"color\":\"#00A7A0\",\"pattern\":{\"shape\":\"\"}},\"name\":\"survey (2017\\u002f2019)\",\"offsetgroup\":\"survey (2017\\u002f2019)\",\"orientation\":\"h\",\"showlegend\":true,\"textposition\":\"auto\",\"x\":[0.23485898739697264,0.08572641746091675,0.2285144480615143,0.003632273148831025,0.4096185732086663,0.023210520434313826,0.014438780288785043],\"xaxis\":\"x\",\"y\":[\"1: walk\",\"2: bike\",\"4: hov 2\",\"5: hov 3+\",\"6: transit\",\"8: school bus\",\"9: tnc\"],\"yaxis\":\"y\",\"type\":\"bar\"},{\"alignmentgroup\":\"True\",\"customdata\":[[75],[18],[39],[84],[69],[74],[47],[4]],\"hovertemplate\":\"source=survey (2017\\u002f2019)\\u003cbr\\u003eauto_available_driver=cars fewer than drivers\\u003cbr\\u003epercentage=%{x}\\u003cbr\\u003emode_label=%{y}\\u003cbr\\u003esample count=%{customdata[0]}\\u003cextra\\u003e\\u003c\\u002fextra\\u003e\",\"legendgroup\":\"survey (2017\\u002f2019)\",\"marker\":{\"color\":\"#00A7A0\",\"pattern\":{\"shape\":\"\"}},\"name\":\"survey (2017\\u002f2019)\",\"offsetgroup\":\"survey (2017\\u002f2019)\",\"orientation\":\"h\",\"showlegend\":false,\"textposition\":\"auto\",\"x\":[0.10799153327161683,0.01642988964747943,0.20496454169040462,0.1526968152068923,0.35152406635289235,0.07423026997955459,0.0884108663042589,0.0037520175469010213],\"xaxis\":\"x2\",\"y\":[\"1: walk\",\"2: bike\",\"3: sov\",\"4: hov 2\",\"5: hov 3+\",\"6: transit\",\"8: school bus\",\"9: tnc\"],\"yaxis\":\"y2\",\"type\":\"bar\"},{\"alignmentgroup\":\"True\",\"customdata\":[[86],[12],[84],[201],[218],[62],[123]],\"hovertemplate\":\"source=survey (2017\\u002f2019)\\u003cbr\\u003eauto_available_driver=enough cars\\u003cbr\\u003epercentage=%{x}\\u003cbr\\u003emode_label=%{y}\\u003cbr\\u003esample count=%{customdata[0]}\\u003cextra\\u003e\\u003c\\u002fextra\\u003e\",\"legendgroup\":\"survey (2017\\u002f2019)\",\"marker\":{\"color\":\"#00A7A0\",\"pattern\":{\"shape\":\"\"}},\"name\":\"survey (2017\\u002f2019)\",\"offsetgroup\":\"survey (2017\\u002f2019)\",\"orientation\":\"h\",\"showlegend\":false,\"textposition\":\"auto\",\"x\":[0.07371862346123234,0.0018009325843030741,0.09717818972825956,0.18304288161953577,0.3790893062722342,0.07294150497746628,0.19222856135696864],\"xaxis\":\"x3\",\"y\":[\"1: walk\",\"2: bike\",\"3: sov\",\"4: hov 2\",\"5: hov 3+\",\"6: transit\",\"8: school bus\"],\"yaxis\":\"y3\",\"type\":\"bar\"}],                        {\"template\":{\"data\":{\"barpolar\":[{\"marker\":{\"line\":{\"color\":\"white\",\"width\":0.5},\"pattern\":{\"fillmode\":\"overlay\",\"size\":10,\"solidity\":0.2}},\"type\":\"barpolar\"}],\"bar\":[{\"error_x\":{\"color\":\"rgb(36,36,36)\"},\"error_y\":{\"color\":\"rgb(36,36,36)\"},\"marker\":{\"line\":{\"color\":\"white\",\"width\":0.5},\"pattern\":{\"fillmode\":\"overlay\",\"size\":10,\"solidity\":0.2}},\"type\":\"bar\"}],\"carpet\":[{\"aaxis\":{\"endlinecolor\":\"rgb(36,36,36)\",\"gridcolor\":\"white\",\"linecolor\":\"white\",\"minorgridcolor\":\"white\",\"startlinecolor\":\"rgb(36,36,36)\"},\"baxis\":{\"endlinecolor\":\"rgb(36,36,36)\",\"gridcolor\":\"white\",\"linecolor\":\"white\",\"minorgridcolor\":\"white\",\"startlinecolor\":\"rgb(36,36,36)\"},\"type\":\"carpet\"}],\"choropleth\":[{\"colorbar\":{\"outlinewidth\":1,\"tickcolor\":\"rgb(36,36,36)\",\"ticks\":\"outside\"},\"type\":\"choropleth\"}],\"contourcarpet\":[{\"colorbar\":{\"outlinewidth\":1,\"tickcolor\":\"rgb(36,36,36)\",\"ticks\":\"outside\"},\"type\":\"contourcarpet\"}],\"contour\":[{\"colorbar\":{\"outlinewidth\":1,\"tickcolor\":\"rgb(36,36,36)\",\"ticks\":\"outside\"},\"colorscale\":[[0.0,\"#440154\"],[0.1111111111111111,\"#482878\"],[0.2222222222222222,\"#3e4989\"],[0.3333333333333333,\"#31688e\"],[0.4444444444444444,\"#26828e\"],[0.5555555555555556,\"#1f9e89\"],[0.6666666666666666,\"#35b779\"],[0.7777777777777778,\"#6ece58\"],[0.8888888888888888,\"#b5de2b\"],[1.0,\"#fde725\"]],\"type\":\"contour\"}],\"heatmapgl\":[{\"colorbar\":{\"outlinewidth\":1,\"tickcolor\":\"rgb(36,36,36)\",\"ticks\":\"outside\"},\"colorscale\":[[0.0,\"#440154\"],[0.1111111111111111,\"#482878\"],[0.2222222222222222,\"#3e4989\"],[0.3333333333333333,\"#31688e\"],[0.4444444444444444,\"#26828e\"],[0.5555555555555556,\"#1f9e89\"],[0.6666666666666666,\"#35b779\"],[0.7777777777777778,\"#6ece58\"],[0.8888888888888888,\"#b5de2b\"],[1.0,\"#fde725\"]],\"type\":\"heatmapgl\"}],\"heatmap\":[{\"colorbar\":{\"outlinewidth\":1,\"tickcolor\":\"rgb(36,36,36)\",\"ticks\":\"outside\"},\"colorscale\":[[0.0,\"#440154\"],[0.1111111111111111,\"#482878\"],[0.2222222222222222,\"#3e4989\"],[0.3333333333333333,\"#31688e\"],[0.4444444444444444,\"#26828e\"],[0.5555555555555556,\"#1f9e89\"],[0.6666666666666666,\"#35b779\"],[0.7777777777777778,\"#6ece58\"],[0.8888888888888888,\"#b5de2b\"],[1.0,\"#fde725\"]],\"type\":\"heatmap\"}],\"histogram2dcontour\":[{\"colorbar\":{\"outlinewidth\":1,\"tickcolor\":\"rgb(36,36,36)\",\"ticks\":\"outside\"},\"colorscale\":[[0.0,\"#440154\"],[0.1111111111111111,\"#482878\"],[0.2222222222222222,\"#3e4989\"],[0.3333333333333333,\"#31688e\"],[0.4444444444444444,\"#26828e\"],[0.5555555555555556,\"#1f9e89\"],[0.6666666666666666,\"#35b779\"],[0.7777777777777778,\"#6ece58\"],[0.8888888888888888,\"#b5de2b\"],[1.0,\"#fde725\"]],\"type\":\"histogram2dcontour\"}],\"histogram2d\":[{\"colorbar\":{\"outlinewidth\":1,\"tickcolor\":\"rgb(36,36,36)\",\"ticks\":\"outside\"},\"colorscale\":[[0.0,\"#440154\"],[0.1111111111111111,\"#482878\"],[0.2222222222222222,\"#3e4989\"],[0.3333333333333333,\"#31688e\"],[0.4444444444444444,\"#26828e\"],[0.5555555555555556,\"#1f9e89\"],[0.6666666666666666,\"#35b779\"],[0.7777777777777778,\"#6ece58\"],[0.8888888888888888,\"#b5de2b\"],[1.0,\"#fde725\"]],\"type\":\"histogram2d\"}],\"histogram\":[{\"marker\":{\"line\":{\"color\":\"white\",\"width\":0.6}},\"type\":\"histogram\"}],\"mesh3d\":[{\"colorbar\":{\"outlinewidth\":1,\"tickcolor\":\"rgb(36,36,36)\",\"ticks\":\"outside\"},\"type\":\"mesh3d\"}],\"parcoords\":[{\"line\":{\"colorbar\":{\"outlinewidth\":1,\"tickcolor\":\"rgb(36,36,36)\",\"ticks\":\"outside\"}},\"type\":\"parcoords\"}],\"pie\":[{\"automargin\":true,\"type\":\"pie\"}],\"scatter3d\":[{\"line\":{\"colorbar\":{\"outlinewidth\":1,\"tickcolor\":\"rgb(36,36,36)\",\"ticks\":\"outside\"}},\"marker\":{\"colorbar\":{\"outlinewidth\":1,\"tickcolor\":\"rgb(36,36,36)\",\"ticks\":\"outside\"}},\"type\":\"scatter3d\"}],\"scattercarpet\":[{\"marker\":{\"colorbar\":{\"outlinewidth\":1,\"tickcolor\":\"rgb(36,36,36)\",\"ticks\":\"outside\"}},\"type\":\"scattercarpet\"}],\"scattergeo\":[{\"marker\":{\"colorbar\":{\"outlinewidth\":1,\"tickcolor\":\"rgb(36,36,36)\",\"ticks\":\"outside\"}},\"type\":\"scattergeo\"}],\"scattergl\":[{\"marker\":{\"colorbar\":{\"outlinewidth\":1,\"tickcolor\":\"rgb(36,36,36)\",\"ticks\":\"outside\"}},\"type\":\"scattergl\"}],\"scattermapbox\":[{\"marker\":{\"colorbar\":{\"outlinewidth\":1,\"tickcolor\":\"rgb(36,36,36)\",\"ticks\":\"outside\"}},\"type\":\"scattermapbox\"}],\"scatterpolargl\":[{\"marker\":{\"colorbar\":{\"outlinewidth\":1,\"tickcolor\":\"rgb(36,36,36)\",\"ticks\":\"outside\"}},\"type\":\"scatterpolargl\"}],\"scatterpolar\":[{\"marker\":{\"colorbar\":{\"outlinewidth\":1,\"tickcolor\":\"rgb(36,36,36)\",\"ticks\":\"outside\"}},\"type\":\"scatterpolar\"}],\"scatter\":[{\"fillpattern\":{\"fillmode\":\"overlay\",\"size\":10,\"solidity\":0.2},\"type\":\"scatter\"}],\"scatterternary\":[{\"marker\":{\"colorbar\":{\"outlinewidth\":1,\"tickcolor\":\"rgb(36,36,36)\",\"ticks\":\"outside\"}},\"type\":\"scatterternary\"}],\"surface\":[{\"colorbar\":{\"outlinewidth\":1,\"tickcolor\":\"rgb(36,36,36)\",\"ticks\":\"outside\"},\"colorscale\":[[0.0,\"#440154\"],[0.1111111111111111,\"#482878\"],[0.2222222222222222,\"#3e4989\"],[0.3333333333333333,\"#31688e\"],[0.4444444444444444,\"#26828e\"],[0.5555555555555556,\"#1f9e89\"],[0.6666666666666666,\"#35b779\"],[0.7777777777777778,\"#6ece58\"],[0.8888888888888888,\"#b5de2b\"],[1.0,\"#fde725\"]],\"type\":\"surface\"}],\"table\":[{\"cells\":{\"fill\":{\"color\":\"rgb(237,237,237)\"},\"line\":{\"color\":\"white\"}},\"header\":{\"fill\":{\"color\":\"rgb(217,217,217)\"},\"line\":{\"color\":\"white\"}},\"type\":\"table\"}]},\"layout\":{\"annotationdefaults\":{\"arrowhead\":0,\"arrowwidth\":1},\"autotypenumbers\":\"strict\",\"coloraxis\":{\"colorbar\":{\"outlinewidth\":1,\"tickcolor\":\"rgb(36,36,36)\",\"ticks\":\"outside\"}},\"colorscale\":{\"diverging\":[[0.0,\"rgb(103,0,31)\"],[0.1,\"rgb(178,24,43)\"],[0.2,\"rgb(214,96,77)\"],[0.3,\"rgb(244,165,130)\"],[0.4,\"rgb(253,219,199)\"],[0.5,\"rgb(247,247,247)\"],[0.6,\"rgb(209,229,240)\"],[0.7,\"rgb(146,197,222)\"],[0.8,\"rgb(67,147,195)\"],[0.9,\"rgb(33,102,172)\"],[1.0,\"rgb(5,48,97)\"]],\"sequential\":[[0.0,\"#440154\"],[0.1111111111111111,\"#482878\"],[0.2222222222222222,\"#3e4989\"],[0.3333333333333333,\"#31688e\"],[0.4444444444444444,\"#26828e\"],[0.5555555555555556,\"#1f9e89\"],[0.6666666666666666,\"#35b779\"],[0.7777777777777778,\"#6ece58\"],[0.8888888888888888,\"#b5de2b\"],[1.0,\"#fde725\"]],\"sequentialminus\":[[0.0,\"#440154\"],[0.1111111111111111,\"#482878\"],[0.2222222222222222,\"#3e4989\"],[0.3333333333333333,\"#31688e\"],[0.4444444444444444,\"#26828e\"],[0.5555555555555556,\"#1f9e89\"],[0.6666666666666666,\"#35b779\"],[0.7777777777777778,\"#6ece58\"],[0.8888888888888888,\"#b5de2b\"],[1.0,\"#fde725\"]]},\"colorway\":[\"#91268F\",\"#8CC63E\",\"#00A7A0\",\"#F05A28\",\"#4C4C4C\",\"#630460\",\"#9f3913\",\"#588527\",\"#00716c\",\"#3e4040\"],\"font\":{\"color\":\"rgb(36,36,36)\",\"family\":\"Poppins\",\"size\":11},\"geo\":{\"bgcolor\":\"white\",\"lakecolor\":\"white\",\"landcolor\":\"white\",\"showlakes\":true,\"showland\":true,\"subunitcolor\":\"white\"},\"hoverlabel\":{\"align\":\"left\"},\"hovermode\":\"closest\",\"mapbox\":{\"style\":\"light\"},\"paper_bgcolor\":\"white\",\"plot_bgcolor\":\"white\",\"polar\":{\"angularaxis\":{\"gridcolor\":\"rgb(232,232,232)\",\"linecolor\":\"rgb(36,36,36)\",\"showgrid\":false,\"showline\":true,\"ticks\":\"outside\"},\"bgcolor\":\"white\",\"radialaxis\":{\"gridcolor\":\"rgb(232,232,232)\",\"linecolor\":\"rgb(36,36,36)\",\"showgrid\":false,\"showline\":true,\"ticks\":\"outside\"}},\"scene\":{\"xaxis\":{\"backgroundcolor\":\"white\",\"gridcolor\":\"rgb(232,232,232)\",\"gridwidth\":2,\"linecolor\":\"rgb(36,36,36)\",\"showbackground\":true,\"showgrid\":false,\"showline\":true,\"ticks\":\"outside\",\"zeroline\":false,\"zerolinecolor\":\"rgb(36,36,36)\"},\"yaxis\":{\"backgroundcolor\":\"white\",\"gridcolor\":\"rgb(232,232,232)\",\"gridwidth\":2,\"linecolor\":\"rgb(36,36,36)\",\"showbackground\":true,\"showgrid\":false,\"showline\":true,\"ticks\":\"outside\",\"zeroline\":false,\"zerolinecolor\":\"rgb(36,36,36)\"},\"zaxis\":{\"backgroundcolor\":\"white\",\"gridcolor\":\"rgb(232,232,232)\",\"gridwidth\":2,\"linecolor\":\"rgb(36,36,36)\",\"showbackground\":true,\"showgrid\":false,\"showline\":true,\"ticks\":\"outside\",\"zeroline\":false,\"zerolinecolor\":\"rgb(36,36,36)\"}},\"shapedefaults\":{\"fillcolor\":\"black\",\"line\":{\"width\":0},\"opacity\":0.3},\"ternary\":{\"aaxis\":{\"gridcolor\":\"rgb(232,232,232)\",\"linecolor\":\"rgb(36,36,36)\",\"showgrid\":false,\"showline\":true,\"ticks\":\"outside\"},\"baxis\":{\"gridcolor\":\"rgb(232,232,232)\",\"linecolor\":\"rgb(36,36,36)\",\"showgrid\":false,\"showline\":true,\"ticks\":\"outside\"},\"bgcolor\":\"white\",\"caxis\":{\"gridcolor\":\"rgb(232,232,232)\",\"linecolor\":\"rgb(36,36,36)\",\"showgrid\":false,\"showline\":true,\"ticks\":\"outside\"}},\"title\":{\"x\":0.05},\"xaxis\":{\"automargin\":true,\"gridcolor\":\"rgb(232,232,232)\",\"linecolor\":\"rgb(36,36,36)\",\"showgrid\":false,\"showline\":true,\"ticks\":\"outside\",\"title\":{\"standoff\":15},\"zeroline\":false,\"zerolinecolor\":\"rgb(36,36,36)\"},\"yaxis\":{\"automargin\":true,\"gridcolor\":\"rgb(232,232,232)\",\"linecolor\":\"rgb(36,36,36)\",\"showgrid\":false,\"showline\":true,\"ticks\":\"outside\",\"title\":{\"standoff\":15},\"zeroline\":false,\"zerolinecolor\":\"rgb(36,36,36)\"}}},\"xaxis\":{\"anchor\":\"y\",\"domain\":[0.0,0.31999999999999995],\"title\":{\"text\":\"percentage\"},\"tickformat\":\".1%\"},\"yaxis\":{\"anchor\":\"x\",\"domain\":[0.0,1.0],\"title\":{\"text\":\"mode_label\"}},\"xaxis2\":{\"anchor\":\"y2\",\"domain\":[0.33999999999999997,0.6599999999999999],\"matches\":\"x\",\"title\":{\"text\":\"percentage\"},\"tickformat\":\".1%\"},\"yaxis2\":{\"anchor\":\"x2\",\"domain\":[0.0,1.0],\"matches\":\"y\",\"showticklabels\":false},\"xaxis3\":{\"anchor\":\"y3\",\"domain\":[0.6799999999999999,0.9999999999999999],\"matches\":\"x\",\"title\":{\"text\":\"percentage\"},\"tickformat\":\".1%\"},\"yaxis3\":{\"anchor\":\"x3\",\"domain\":[0.0,1.0],\"matches\":\"y\",\"showticklabels\":false},\"annotations\":[{\"font\":{},\"showarrow\":false,\"text\":\"no car\",\"x\":0.15999999999999998,\"xanchor\":\"center\",\"xref\":\"paper\",\"y\":1.0,\"yanchor\":\"bottom\",\"yref\":\"paper\"},{\"font\":{},\"showarrow\":false,\"text\":\"cars fewer than drivers\",\"x\":0.49999999999999994,\"xanchor\":\"center\",\"xref\":\"paper\",\"y\":1.0,\"yanchor\":\"bottom\",\"yref\":\"paper\"},{\"font\":{},\"showarrow\":false,\"text\":\"enough cars\",\"x\":0.8399999999999999,\"xanchor\":\"center\",\"xref\":\"paper\",\"y\":1.0,\"yanchor\":\"bottom\",\"yref\":\"paper\"}],\"legend\":{\"title\":{\"text\":\"source\"},\"tracegroupgap\":0},\"title\":{\"text\":\"school trip mode choice by auto availability (driver, showing only households with at least one driver)\"},\"barmode\":\"group\",\"height\":500,\"width\":1000},                        {\"responsive\": true}                    ).then(function(){\n",
       "                            \n",
       "var gd = document.getElementById('29da06c2-d9bf-43e7-b72f-b59d6b7777aa');\n",
       "var x = new MutationObserver(function (mutations, observer) {{\n",
       "        var display = window.getComputedStyle(gd).display;\n",
       "        if (!display || display === 'none') {{\n",
       "            console.log([gd, 'removed!']);\n",
       "            Plotly.purge(gd);\n",
       "            observer.disconnect();\n",
       "        }}\n",
       "}});\n",
       "\n",
       "// Listen for the removal of the full notebook cells\n",
       "var notebookContainer = gd.closest('#notebook-container');\n",
       "if (notebookContainer) {{\n",
       "    x.observe(notebookContainer, {childList: true});\n",
       "}}\n",
       "\n",
       "// Listen for the clearing of the current output cell\n",
       "var outputEl = gd.closest('.output');\n",
       "if (outputEl) {{\n",
       "    x.observe(outputEl, {childList: true});\n",
       "}}\n",
       "\n",
       "                        })                };                });            </script>        </div>"
      ]
     },
     "metadata": {},
     "output_type": "display_data"
    }
   ],
   "source": [
    "plot_mode_choice(sc_trip.loc[sc_trip['auto_available_driver']!=\"no dirver\"],\"auto_available_driver\",\n",
    "                 {\"auto_available_driver\":[\"no car\", \"cars fewer than drivers\",\"enough cars\"],\n",
    "                  \"tmodetp_label\":[\"1: walk\",\"2: bike\",\"3: sov\",\"4: hov 2\",\"5: hov 3+\",\"6: transit\",\n",
    "                                   \"8: school bus\",\"9: other–survey only\"]},\n",
    "                 \"auto availability (driver, showing only households with at least one driver)\",3,500,1000)"
   ]
  },
  {
   "cell_type": "raw",
   "metadata": {},
   "source": [
    ":::"
   ]
  }
 ],
 "metadata": {
  "kernelspec": {
   "display_name": "summary",
   "language": "python",
   "name": "python3"
  },
  "language_info": {
   "codemirror_mode": {
    "name": "ipython",
    "version": 3
   },
   "file_extension": ".py",
   "mimetype": "text/x-python",
   "name": "python",
   "nbconvert_exporter": "python",
   "pygments_lexer": "ipython3",
   "version": "3.8.18"
  }
 },
 "nbformat": 4,
 "nbformat_minor": 2
}
