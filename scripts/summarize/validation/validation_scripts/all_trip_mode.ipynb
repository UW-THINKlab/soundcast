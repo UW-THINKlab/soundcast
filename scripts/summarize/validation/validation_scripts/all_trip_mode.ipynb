{
 "cells": [
  {
   "cell_type": "raw",
   "metadata": {},
   "source": [
    "---\n",
    "title: \"Trip Mode\"\n",
    "date: today\n",
    "---"
   ]
  },
  {
   "cell_type": "code",
   "execution_count": 1,
   "metadata": {
    "ExecuteTime": {
     "end_time": "2024-07-05T18:03:04.038554Z",
     "start_time": "2024-07-05T18:03:02.492281Z"
    },
    "execution": {
     "iopub.execute_input": "2025-01-21T06:18:42.962911Z",
     "iopub.status.busy": "2025-01-21T06:18:42.961913Z",
     "iopub.status.idle": "2025-01-21T06:18:45.811107Z",
     "shell.execute_reply": "2025-01-21T06:18:45.810110Z"
    }
   },
   "outputs": [],
   "source": [
    "import polars as pl\n",
    "import plotly.express as px\n",
    "import toml\n",
    "from pathlib import Path\n",
    "import util\n",
    "import psrc_theme\n",
    "\n",
    "# to show plotly figures in quarto HTML file\n",
    "import plotly.io as pio\n",
    "pio.renderers.default = \"plotly_mimetype+notebook_connected\"\n",
    "pio.templates.default = \"simple_white+psrc_color\" # set plotly template"
   ]
  },
  {
   "cell_type": "code",
   "execution_count": 2,
   "metadata": {
    "ExecuteTime": {
     "end_time": "2024-07-05T18:03:25.928748Z",
     "start_time": "2024-07-05T18:03:04.038554Z"
    },
    "execution": {
     "iopub.execute_input": "2025-01-21T06:18:45.822078Z",
     "iopub.status.busy": "2025-01-21T06:18:45.821080Z",
     "iopub.status.idle": "2025-01-21T06:19:00.629108Z",
     "shell.execute_reply": "2025-01-21T06:19:00.627528Z"
    }
   },
   "outputs": [],
   "source": [
    "config = toml.load(Path(Path.cwd(), '..\\..\\..\\..\\configuration', 'validation_configuration.toml'))\n",
    "input_config = toml.load(Path(Path.cwd(), '..\\..\\..\\..\\configuration', 'input_configuration.toml'))\n",
    "\n",
    "data = util.ValidationData(config,input_config,['trip'])"
   ]
  },
  {
   "cell_type": "code",
   "execution_count": 3,
   "metadata": {
    "ExecuteTime": {
     "end_time": "2024-07-05T19:03:17.907129Z",
     "start_time": "2024-07-05T19:03:16.969774Z"
    },
    "execution": {
     "iopub.execute_input": "2025-01-21T06:19:00.642075Z",
     "iopub.status.busy": "2025-01-21T06:19:00.640079Z",
     "iopub.status.idle": "2025-01-21T06:19:01.510458Z",
     "shell.execute_reply": "2025-01-21T06:19:01.508945Z"
    }
   },
   "outputs": [],
   "source": [
    "mode_cat = {1: \"1: walk\",\n",
    "            2: \"2: bike\",\n",
    "            3: \"3: sov\",\n",
    "            4: \"4: hov 2\",\n",
    "            5: \"5: hov 3+\",\n",
    "            6: \"6: transit\",\n",
    "            8: \"8: school bus\",\n",
    "            9: \"9:tnc\"}\n",
    "pdpurp_cat = {1: \"1: Work\",\n",
    "              2: \"2: School\",\n",
    "              3: \"3: Escort\",\n",
    "              4: \"4: other home-based\",\n",
    "              5: \"4: other home-based\",\n",
    "              6: \"4: other home-based\",\n",
    "              7: \"4: other home-based\",\n",
    "              8: \"4: other home-based\",\n",
    "              9: \"4: other home-based\",\n",
    "              10: \"4: other home-based\"}\n",
    "\n",
    "df_trip = data.trip.with_columns(\n",
    "    data.trip['mode'].map_dict(mode_cat).alias('mode_label'),\n",
    "    data.trip['dpurp'].map_dict(pdpurp_cat).alias('dpurp_label')\n",
    ")"
   ]
  },
  {
   "cell_type": "code",
   "execution_count": 4,
   "metadata": {},
   "outputs": [],
   "source": [
    "def plot_mode_choice(df: pl.DataFrame, title_name: str):\n",
    "    df_plot = (\n",
    "        df.groupby(['source', 'dpurp_label', 'mode_label'])\n",
    "        .agg(\n",
    "            trexpfac_sum=pl.col('trexpfac').sum(),\n",
    "            sample_count=pl.col('trexpfac').count()\n",
    "        )\n",
    "        .with_columns(\n",
    "            (pl.col('trexpfac_sum') / pl.col('trexpfac_sum').sum().over(['source', 'dpurp_label'])).alias('percentage')\n",
    "        )\n",
    "    )\n",
    "\n",
    "    fig = px.bar(\n",
    "        df_plot.sort(by=['dpurp_label', 'source']),\n",
    "        x=\"mode_label\",\n",
    "        y=\"percentage\",\n",
    "        color=\"source\",\n",
    "        facet_col='dpurp_label',\n",
    "        facet_col_wrap=2,\n",
    "        barmode=\"group\",\n",
    "        hover_data=['sample_count'],\n",
    "        title=title_name\n",
    "    )\n",
    "    fig.update_layout(\n",
    "        height=600,\n",
    "        width=900,\n",
    "        font=dict(size=11),\n",
    "        xaxis=dict(dtick=1, categoryorder='category ascending')\n",
    "    )\n",
    "    fig.for_each_annotation(lambda a: a.update(text=a.text.split(\"=\")[-1]))\n",
    "    fig.for_each_yaxis(lambda a: a.update(tickformat=\".1%\"))\n",
    "    fig.show()"
   ]
  },
  {
   "cell_type": "code",
   "execution_count": 5,
   "metadata": {
    "ExecuteTime": {
     "end_time": "2024-07-05T19:10:30.747846Z",
     "start_time": "2024-07-05T19:10:27.076147Z"
    },
    "execution": {
     "iopub.execute_input": "2025-01-21T06:19:01.633389Z",
     "iopub.status.busy": "2025-01-21T06:19:01.631394Z",
     "iopub.status.idle": "2025-01-21T06:19:05.600657Z",
     "shell.execute_reply": "2025-01-21T06:19:05.598662Z"
    }
   },
   "outputs": [
    {
     "data": {
      "text/html": [
       "        <script type=\"text/javascript\">\n",
       "        window.PlotlyConfig = {MathJaxConfig: 'local'};\n",
       "        if (window.MathJax && window.MathJax.Hub && window.MathJax.Hub.Config) {window.MathJax.Hub.Config({SVG: {font: \"STIX-Web\"}});}\n",
       "        if (typeof require !== 'undefined') {\n",
       "        require.undef(\"plotly\");\n",
       "        requirejs.config({\n",
       "            paths: {\n",
       "                'plotly': ['https://cdn.plot.ly/plotly-2.27.0.min']\n",
       "            }\n",
       "        });\n",
       "        require(['plotly'], function(Plotly) {\n",
       "            window._Plotly = Plotly;\n",
       "        });\n",
       "        }\n",
       "        </script>\n",
       "        "
      ]
     },
     "metadata": {},
     "output_type": "display_data"
    },
    {
     "data": {
      "application/vnd.plotly.v1+json": {
       "config": {
        "plotlyServerURL": "https://plot.ly"
       },
       "data": [
        {
         "alignmentgroup": "True",
         "customdata": [
          [
           1458228
          ],
          [
           174024
          ],
          [
           121598
          ],
          [
           196377
          ],
          [
           46000
          ],
          [
           30
          ],
          [
           28080
          ],
          [
           11200
          ]
         ],
         "hovertemplate": "source=model<br>dpurp_label=1: Work<br>mode_label=%{x}<br>percentage=%{y}<br>sample_count=%{customdata[0]}<extra></extra>",
         "legendgroup": "model",
         "marker": {
          "color": "#91268F",
          "pattern": {
           "shape": ""
          }
         },
         "name": "model",
         "offsetgroup": "model",
         "orientation": "v",
         "showlegend": true,
         "textposition": "auto",
         "type": "bar",
         "x": [
          "3: sov",
          "1: walk",
          "5: hov 3+",
          "4: hov 2",
          "6: transit",
          "8: school bus",
          "2: bike",
          "9:tnc"
         ],
         "xaxis": "x3",
         "y": [
          0.7163849146441456,
          0.08549291906754827,
          0.059737553284464985,
          0.096474296463292,
          0.022598459276348206,
          1.47381256150097e-05,
          0.013794885575649079,
          0.0055022335629369545
         ],
         "yaxis": "y3"
        },
        {
         "alignmentgroup": "True",
         "customdata": [
          [
           63841
          ],
          [
           64424
          ],
          [
           172784
          ],
          [
           134249
          ],
          [
           105214
          ],
          [
           20475
          ],
          [
           14913
          ],
          [
           8
          ]
         ],
         "hovertemplate": "source=model<br>dpurp_label=2: School<br>mode_label=%{x}<br>percentage=%{y}<br>sample_count=%{customdata[0]}<extra></extra>",
         "legendgroup": "model",
         "marker": {
          "color": "#91268F",
          "pattern": {
           "shape": ""
          }
         },
         "name": "model",
         "offsetgroup": "model",
         "orientation": "v",
         "showlegend": false,
         "textposition": "auto",
         "type": "bar",
         "x": [
          "3: sov",
          "1: walk",
          "5: hov 3+",
          "4: hov 2",
          "8: school bus",
          "6: transit",
          "2: bike",
          "9:tnc"
         ],
         "xaxis": "x4",
         "y": [
          0.11085277509602229,
          0.1118650895629163,
          0.30002014210603084,
          0.23310841314932246,
          0.18269237447647887,
          0.03555255353285594,
          0.025894760968765845,
          1.3891107607465081e-05
         ],
         "yaxis": "y4"
        },
        {
         "alignmentgroup": "True",
         "customdata": [
          [
           552727
          ],
          [
           165830
          ],
          [
           396120
          ],
          [
           479316
          ],
          [
           8746
          ],
          [
           16251
          ],
          [
           21691
          ],
          [
           1967
          ]
         ],
         "hovertemplate": "source=model<br>dpurp_label=3: Escort<br>mode_label=%{x}<br>percentage=%{y}<br>sample_count=%{customdata[0]}<extra></extra>",
         "legendgroup": "model",
         "marker": {
          "color": "#91268F",
          "pattern": {
           "shape": ""
          }
         },
         "name": "model",
         "offsetgroup": "model",
         "orientation": "v",
         "showlegend": false,
         "textposition": "auto",
         "type": "bar",
         "x": [
          "3: sov",
          "1: walk",
          "5: hov 3+",
          "4: hov 2",
          "6: transit",
          "8: school bus",
          "2: bike",
          "9:tnc"
         ],
         "xaxis": "x",
         "y": [
          0.3364853577881567,
          0.10095285173695155,
          0.24114722082880813,
          0.2917947119528956,
          0.0053243299842693015,
          0.009893172487349694,
          0.01320489843228738,
          0.0011974567892816964
         ],
         "yaxis": "y"
        },
        {
         "alignmentgroup": "True",
         "customdata": [
          [
           909274
          ],
          [
           2653591
          ],
          [
           80727
          ],
          [
           18529
          ],
          [
           15543
          ],
          [
           133077
          ],
          [
           1495568
          ],
          [
           756296
          ]
         ],
         "hovertemplate": "source=model<br>dpurp_label=4: other home-based<br>mode_label=%{x}<br>percentage=%{y}<br>sample_count=%{customdata[0]}<extra></extra>",
         "legendgroup": "model",
         "marker": {
          "color": "#91268F",
          "pattern": {
           "shape": ""
          }
         },
         "name": "model",
         "offsetgroup": "model",
         "orientation": "v",
         "showlegend": false,
         "textposition": "auto",
         "type": "bar",
         "x": [
          "1: walk",
          "3: sov",
          "2: bike",
          "9:tnc",
          "8: school bus",
          "6: transit",
          "4: hov 2",
          "5: hov 3+"
         ],
         "xaxis": "x2",
         "y": [
          0.14998074260157143,
          0.43769815120727806,
          0.013315563194369417,
          0.00305627696345053,
          0.0025637494113504014,
          0.02195046518781943,
          0.24668735634269426,
          0.12474769509146645
         ],
         "yaxis": "y2"
        },
        {
         "alignmentgroup": "True",
         "customdata": [
          [
           2550
          ],
          [
           45
          ],
          [
           642
          ],
          [
           84
          ],
          [
           159
          ],
          [
           20
          ],
          [
           354
          ],
          [
           222
          ]
         ],
         "hovertemplate": "source=survey<br>dpurp_label=1: Work<br>mode_label=%{x}<br>percentage=%{y}<br>sample_count=%{customdata[0]}<extra></extra>",
         "legendgroup": "survey",
         "marker": {
          "color": "#8CC63E",
          "pattern": {
           "shape": ""
          }
         },
         "name": "survey",
         "offsetgroup": "survey",
         "orientation": "v",
         "showlegend": true,
         "textposition": "auto",
         "type": "bar",
         "x": [
          "3: sov",
          null,
          "1: walk",
          "5: hov 3+",
          "2: bike",
          "9:tnc",
          "6: transit",
          "4: hov 2"
         ],
         "xaxis": "x3",
         "y": [
          0.750463193120709,
          0.006643896657637308,
          0.08282947827275011,
          0.03197886829404459,
          0.009863127855345941,
          0.006200488585573986,
          0.030378191771564735,
          0.08164275544237441
         ],
         "yaxis": "y3"
        },
        {
         "alignmentgroup": "True",
         "customdata": [
          [
           138
          ],
          [
           47
          ],
          [
           156
          ],
          [
           24
          ],
          [
           5
          ],
          [
           168
          ],
          [
           118
          ],
          [
           4
          ],
          [
           56
          ]
         ],
         "hovertemplate": "source=survey<br>dpurp_label=2: School<br>mode_label=%{x}<br>percentage=%{y}<br>sample_count=%{customdata[0]}<extra></extra>",
         "legendgroup": "survey",
         "marker": {
          "color": "#8CC63E",
          "pattern": {
           "shape": ""
          }
         },
         "name": "survey",
         "offsetgroup": "survey",
         "orientation": "v",
         "showlegend": false,
         "textposition": "auto",
         "type": "bar",
         "x": [
          "8: school bus",
          "6: transit",
          "4: hov 2",
          "2: bike",
          "9:tnc",
          "5: hov 3+",
          "1: walk",
          null,
          "3: sov"
         ],
         "xaxis": "x4",
         "y": [
          0.1870254863570222,
          0.03310357007752863,
          0.20591530206955597,
          0.021835013624995847,
          0.004676663154064476,
          0.33898469738626846,
          0.07911492391615989,
          0.009148938508805576,
          0.12019540490559867
         ],
         "yaxis": "y4"
        },
        {
         "alignmentgroup": "True",
         "customdata": [
          [
           471
          ],
          [
           10
          ],
          [
           173
          ],
          [
           472
          ],
          [
           28
          ],
          [
           1
          ],
          [
           8
          ],
          [
           3
          ],
          [
           633
          ]
         ],
         "hovertemplate": "source=survey<br>dpurp_label=3: Escort<br>mode_label=%{x}<br>percentage=%{y}<br>sample_count=%{customdata[0]}<extra></extra>",
         "legendgroup": "survey",
         "marker": {
          "color": "#8CC63E",
          "pattern": {
           "shape": ""
          }
         },
         "name": "survey",
         "offsetgroup": "survey",
         "orientation": "v",
         "showlegend": false,
         "textposition": "auto",
         "type": "bar",
         "x": [
          "3: sov",
          null,
          "1: walk",
          "5: hov 3+",
          "2: bike",
          "9:tnc",
          "6: transit",
          "8: school bus",
          "4: hov 2"
         ],
         "xaxis": "x",
         "y": [
          0.2507311886851407,
          0.012022688729206317,
          0.06002481185690044,
          0.33439186959205686,
          0.001757610767697447,
          6.688519175474434e-06,
          0.0005456557679934506,
          0.00012959250947870292,
          0.34038989357235067
         ],
         "yaxis": "y"
        },
        {
         "alignmentgroup": "True",
         "customdata": [
          [
           2302
          ],
          [
           431
          ],
          [
           14
          ],
          [
           274
          ],
          [
           37
          ],
          [
           1031
          ],
          [
           2883
          ],
          [
           72
          ],
          [
           4679
          ]
         ],
         "hovertemplate": "source=survey<br>dpurp_label=4: other home-based<br>mode_label=%{x}<br>percentage=%{y}<br>sample_count=%{customdata[0]}<extra></extra>",
         "legendgroup": "survey",
         "marker": {
          "color": "#8CC63E",
          "pattern": {
           "shape": ""
          }
         },
         "name": "survey",
         "offsetgroup": "survey",
         "orientation": "v",
         "showlegend": false,
         "textposition": "auto",
         "type": "bar",
         "x": [
          "4: hov 2",
          "6: transit",
          "8: school bus",
          "2: bike",
          "9:tnc",
          "5: hov 3+",
          "1: walk",
          null,
          "3: sov"
         ],
         "xaxis": "x2",
         "y": [
          0.21753975226551553,
          0.029422054277788212,
          0.0014677703634503637,
          0.012670380183362617,
          0.0032723696364354185,
          0.13479395189595933,
          0.12768810347895893,
          0.008645439023513338,
          0.46450017887501627
         ],
         "yaxis": "y2"
        },
        {
         "alignmentgroup": "True",
         "customdata": [
          [
           2473
          ],
          [
           5608
          ],
          [
           187
          ],
          [
           302
          ],
          [
           155
          ],
          [
           952
          ],
          [
           2426
          ],
          [
           31
          ],
          [
           296
          ]
         ],
         "hovertemplate": "source=survey (2017/2019)<br>dpurp_label=1: Work<br>mode_label=%{x}<br>percentage=%{y}<br>sample_count=%{customdata[0]}<extra></extra>",
         "legendgroup": "survey (2017/2019)",
         "marker": {
          "color": "#00A7A0",
          "pattern": {
           "shape": ""
          }
         },
         "name": "survey (2017/2019)",
         "offsetgroup": "survey (2017/2019)",
         "orientation": "v",
         "showlegend": true,
         "textposition": "auto",
         "type": "bar",
         "x": [
          "1: walk",
          "3: sov",
          null,
          "2: bike",
          "9:tnc",
          "4: hov 2",
          "6: transit",
          "8: school bus",
          "5: hov 3+"
         ],
         "xaxis": "x3",
         "y": [
          0.09020086249387353,
          0.6800847917854048,
          0.002958026108198718,
          0.008804836330011953,
          0.0031390895025147822,
          0.11294216171887808,
          0.07453467003645212,
          0.00036138922797119074,
          0.026974172796694815
         ],
         "yaxis": "y3"
        },
        {
         "alignmentgroup": "True",
         "customdata": [
          [
           412
          ],
          [
           50
          ],
          [
           17
          ],
          [
           425
          ],
          [
           279
          ],
          [
           227
          ],
          [
           178
          ],
          [
           61
          ],
          [
           381
          ]
         ],
         "hovertemplate": "source=survey (2017/2019)<br>dpurp_label=2: School<br>mode_label=%{x}<br>percentage=%{y}<br>sample_count=%{customdata[0]}<extra></extra>",
         "legendgroup": "survey (2017/2019)",
         "marker": {
          "color": "#00A7A0",
          "pattern": {
           "shape": ""
          }
         },
         "name": "survey (2017/2019)",
         "offsetgroup": "survey (2017/2019)",
         "orientation": "v",
         "showlegend": false,
         "textposition": "auto",
         "type": "bar",
         "x": [
          "5: hov 3+",
          "2: bike",
          "9:tnc",
          "4: hov 2",
          "6: transit",
          "8: school bus",
          "3: sov",
          null,
          "1: walk"
         ],
         "xaxis": "x4",
         "y": [
          0.3492929384784313,
          0.005844635754558749,
          0.0015712704278088663,
          0.16657970160860708,
          0.08196537887156047,
          0.157917083101703,
          0.12635514527184277,
          0.023808063699522212,
          0.08666578278596555
         ],
         "yaxis": "y4"
        },
        {
         "alignmentgroup": "True",
         "customdata": [
          [
           310
          ],
          [
           875
          ],
          [
           40
          ],
          [
           33
          ],
          [
           6
          ],
          [
           1467
          ],
          [
           92
          ],
          [
           4
          ],
          [
           1007
          ]
         ],
         "hovertemplate": "source=survey (2017/2019)<br>dpurp_label=3: Escort<br>mode_label=%{x}<br>percentage=%{y}<br>sample_count=%{customdata[0]}<extra></extra>",
         "legendgroup": "survey (2017/2019)",
         "marker": {
          "color": "#00A7A0",
          "pattern": {
           "shape": ""
          }
         },
         "name": "survey (2017/2019)",
         "offsetgroup": "survey (2017/2019)",
         "orientation": "v",
         "showlegend": false,
         "textposition": "auto",
         "type": "bar",
         "x": [
          "1: walk",
          "3: sov",
          null,
          "2: bike",
          "9:tnc",
          "4: hov 2",
          "6: transit",
          "8: school bus",
          "5: hov 3+"
         ],
         "xaxis": "x",
         "y": [
          0.04173871805731411,
          0.24199849118511563,
          0.0035021248769232286,
          0.010392329736235733,
          8.666363412162834e-05,
          0.34888797233945684,
          0.012088929954300375,
          0.0070671851042085594,
          0.3342375851123238
         ],
         "yaxis": "y"
        },
        {
         "alignmentgroup": "True",
         "customdata": [
          [
           183
          ],
          [
           297
          ],
          [
           1689
          ],
          [
           33
          ],
          [
           4626
          ],
          [
           2646
          ],
          [
           6926
          ],
          [
           7898
          ],
          [
           298
          ]
         ],
         "hovertemplate": "source=survey (2017/2019)<br>dpurp_label=4: other home-based<br>mode_label=%{x}<br>percentage=%{y}<br>sample_count=%{customdata[0]}<extra></extra>",
         "legendgroup": "survey (2017/2019)",
         "marker": {
          "color": "#00A7A0",
          "pattern": {
           "shape": ""
          }
         },
         "name": "survey (2017/2019)",
         "offsetgroup": "survey (2017/2019)",
         "orientation": "v",
         "showlegend": false,
         "textposition": "auto",
         "type": "bar",
         "x": [
          "9:tnc",
          "2: bike",
          "6: transit",
          "8: school bus",
          "4: hov 2",
          "5: hov 3+",
          "1: walk",
          "3: sov",
          null
         ],
         "xaxis": "x2",
         "y": [
          0.002258993138267637,
          0.006377030871544232,
          0.03213157731982333,
          0.001038858205453084,
          0.25229559108344735,
          0.17691096379151433,
          0.13198732183552783,
          0.393416687307604,
          0.003582976446818348
         ],
         "yaxis": "y2"
        }
       ],
       "layout": {
        "annotations": [
         {
          "font": {},
          "showarrow": false,
          "text": "3: Escort",
          "x": 0.245,
          "xanchor": "center",
          "xref": "paper",
          "y": 0.46499999999999997,
          "yanchor": "bottom",
          "yref": "paper"
         },
         {
          "font": {},
          "showarrow": false,
          "text": "4: other home-based",
          "x": 0.755,
          "xanchor": "center",
          "xref": "paper",
          "y": 0.46499999999999997,
          "yanchor": "bottom",
          "yref": "paper"
         },
         {
          "font": {},
          "showarrow": false,
          "text": "1: Work",
          "x": 0.245,
          "xanchor": "center",
          "xref": "paper",
          "y": 0.9999999999999999,
          "yanchor": "bottom",
          "yref": "paper"
         },
         {
          "font": {},
          "showarrow": false,
          "text": "2: School",
          "x": 0.755,
          "xanchor": "center",
          "xref": "paper",
          "y": 0.9999999999999999,
          "yanchor": "bottom",
          "yref": "paper"
         }
        ],
        "barmode": "group",
        "font": {
         "size": 11
        },
        "height": 600,
        "legend": {
         "title": {
          "text": "source"
         },
         "tracegroupgap": 0
        },
        "template": {
         "data": {
          "bar": [
           {
            "error_x": {
             "color": "rgb(36,36,36)"
            },
            "error_y": {
             "color": "rgb(36,36,36)"
            },
            "marker": {
             "line": {
              "color": "white",
              "width": 0.5
             },
             "pattern": {
              "fillmode": "overlay",
              "size": 10,
              "solidity": 0.2
             }
            },
            "type": "bar"
           }
          ],
          "barpolar": [
           {
            "marker": {
             "line": {
              "color": "white",
              "width": 0.5
             },
             "pattern": {
              "fillmode": "overlay",
              "size": 10,
              "solidity": 0.2
             }
            },
            "type": "barpolar"
           }
          ],
          "carpet": [
           {
            "aaxis": {
             "endlinecolor": "rgb(36,36,36)",
             "gridcolor": "white",
             "linecolor": "white",
             "minorgridcolor": "white",
             "startlinecolor": "rgb(36,36,36)"
            },
            "baxis": {
             "endlinecolor": "rgb(36,36,36)",
             "gridcolor": "white",
             "linecolor": "white",
             "minorgridcolor": "white",
             "startlinecolor": "rgb(36,36,36)"
            },
            "type": "carpet"
           }
          ],
          "choropleth": [
           {
            "colorbar": {
             "outlinewidth": 1,
             "tickcolor": "rgb(36,36,36)",
             "ticks": "outside"
            },
            "type": "choropleth"
           }
          ],
          "contour": [
           {
            "colorbar": {
             "outlinewidth": 1,
             "tickcolor": "rgb(36,36,36)",
             "ticks": "outside"
            },
            "colorscale": [
             [
              0.0,
              "#440154"
             ],
             [
              0.1111111111111111,
              "#482878"
             ],
             [
              0.2222222222222222,
              "#3e4989"
             ],
             [
              0.3333333333333333,
              "#31688e"
             ],
             [
              0.4444444444444444,
              "#26828e"
             ],
             [
              0.5555555555555556,
              "#1f9e89"
             ],
             [
              0.6666666666666666,
              "#35b779"
             ],
             [
              0.7777777777777778,
              "#6ece58"
             ],
             [
              0.8888888888888888,
              "#b5de2b"
             ],
             [
              1.0,
              "#fde725"
             ]
            ],
            "type": "contour"
           }
          ],
          "contourcarpet": [
           {
            "colorbar": {
             "outlinewidth": 1,
             "tickcolor": "rgb(36,36,36)",
             "ticks": "outside"
            },
            "type": "contourcarpet"
           }
          ],
          "heatmap": [
           {
            "colorbar": {
             "outlinewidth": 1,
             "tickcolor": "rgb(36,36,36)",
             "ticks": "outside"
            },
            "colorscale": [
             [
              0.0,
              "#440154"
             ],
             [
              0.1111111111111111,
              "#482878"
             ],
             [
              0.2222222222222222,
              "#3e4989"
             ],
             [
              0.3333333333333333,
              "#31688e"
             ],
             [
              0.4444444444444444,
              "#26828e"
             ],
             [
              0.5555555555555556,
              "#1f9e89"
             ],
             [
              0.6666666666666666,
              "#35b779"
             ],
             [
              0.7777777777777778,
              "#6ece58"
             ],
             [
              0.8888888888888888,
              "#b5de2b"
             ],
             [
              1.0,
              "#fde725"
             ]
            ],
            "type": "heatmap"
           }
          ],
          "heatmapgl": [
           {
            "colorbar": {
             "outlinewidth": 1,
             "tickcolor": "rgb(36,36,36)",
             "ticks": "outside"
            },
            "colorscale": [
             [
              0.0,
              "#440154"
             ],
             [
              0.1111111111111111,
              "#482878"
             ],
             [
              0.2222222222222222,
              "#3e4989"
             ],
             [
              0.3333333333333333,
              "#31688e"
             ],
             [
              0.4444444444444444,
              "#26828e"
             ],
             [
              0.5555555555555556,
              "#1f9e89"
             ],
             [
              0.6666666666666666,
              "#35b779"
             ],
             [
              0.7777777777777778,
              "#6ece58"
             ],
             [
              0.8888888888888888,
              "#b5de2b"
             ],
             [
              1.0,
              "#fde725"
             ]
            ],
            "type": "heatmapgl"
           }
          ],
          "histogram": [
           {
            "marker": {
             "line": {
              "color": "white",
              "width": 0.6
             }
            },
            "type": "histogram"
           }
          ],
          "histogram2d": [
           {
            "colorbar": {
             "outlinewidth": 1,
             "tickcolor": "rgb(36,36,36)",
             "ticks": "outside"
            },
            "colorscale": [
             [
              0.0,
              "#440154"
             ],
             [
              0.1111111111111111,
              "#482878"
             ],
             [
              0.2222222222222222,
              "#3e4989"
             ],
             [
              0.3333333333333333,
              "#31688e"
             ],
             [
              0.4444444444444444,
              "#26828e"
             ],
             [
              0.5555555555555556,
              "#1f9e89"
             ],
             [
              0.6666666666666666,
              "#35b779"
             ],
             [
              0.7777777777777778,
              "#6ece58"
             ],
             [
              0.8888888888888888,
              "#b5de2b"
             ],
             [
              1.0,
              "#fde725"
             ]
            ],
            "type": "histogram2d"
           }
          ],
          "histogram2dcontour": [
           {
            "colorbar": {
             "outlinewidth": 1,
             "tickcolor": "rgb(36,36,36)",
             "ticks": "outside"
            },
            "colorscale": [
             [
              0.0,
              "#440154"
             ],
             [
              0.1111111111111111,
              "#482878"
             ],
             [
              0.2222222222222222,
              "#3e4989"
             ],
             [
              0.3333333333333333,
              "#31688e"
             ],
             [
              0.4444444444444444,
              "#26828e"
             ],
             [
              0.5555555555555556,
              "#1f9e89"
             ],
             [
              0.6666666666666666,
              "#35b779"
             ],
             [
              0.7777777777777778,
              "#6ece58"
             ],
             [
              0.8888888888888888,
              "#b5de2b"
             ],
             [
              1.0,
              "#fde725"
             ]
            ],
            "type": "histogram2dcontour"
           }
          ],
          "mesh3d": [
           {
            "colorbar": {
             "outlinewidth": 1,
             "tickcolor": "rgb(36,36,36)",
             "ticks": "outside"
            },
            "type": "mesh3d"
           }
          ],
          "parcoords": [
           {
            "line": {
             "colorbar": {
              "outlinewidth": 1,
              "tickcolor": "rgb(36,36,36)",
              "ticks": "outside"
             }
            },
            "type": "parcoords"
           }
          ],
          "pie": [
           {
            "automargin": true,
            "type": "pie"
           }
          ],
          "scatter": [
           {
            "fillpattern": {
             "fillmode": "overlay",
             "size": 10,
             "solidity": 0.2
            },
            "type": "scatter"
           }
          ],
          "scatter3d": [
           {
            "line": {
             "colorbar": {
              "outlinewidth": 1,
              "tickcolor": "rgb(36,36,36)",
              "ticks": "outside"
             }
            },
            "marker": {
             "colorbar": {
              "outlinewidth": 1,
              "tickcolor": "rgb(36,36,36)",
              "ticks": "outside"
             }
            },
            "type": "scatter3d"
           }
          ],
          "scattercarpet": [
           {
            "marker": {
             "colorbar": {
              "outlinewidth": 1,
              "tickcolor": "rgb(36,36,36)",
              "ticks": "outside"
             }
            },
            "type": "scattercarpet"
           }
          ],
          "scattergeo": [
           {
            "marker": {
             "colorbar": {
              "outlinewidth": 1,
              "tickcolor": "rgb(36,36,36)",
              "ticks": "outside"
             }
            },
            "type": "scattergeo"
           }
          ],
          "scattergl": [
           {
            "marker": {
             "colorbar": {
              "outlinewidth": 1,
              "tickcolor": "rgb(36,36,36)",
              "ticks": "outside"
             }
            },
            "type": "scattergl"
           }
          ],
          "scattermapbox": [
           {
            "marker": {
             "colorbar": {
              "outlinewidth": 1,
              "tickcolor": "rgb(36,36,36)",
              "ticks": "outside"
             }
            },
            "type": "scattermapbox"
           }
          ],
          "scatterpolar": [
           {
            "marker": {
             "colorbar": {
              "outlinewidth": 1,
              "tickcolor": "rgb(36,36,36)",
              "ticks": "outside"
             }
            },
            "type": "scatterpolar"
           }
          ],
          "scatterpolargl": [
           {
            "marker": {
             "colorbar": {
              "outlinewidth": 1,
              "tickcolor": "rgb(36,36,36)",
              "ticks": "outside"
             }
            },
            "type": "scatterpolargl"
           }
          ],
          "scatterternary": [
           {
            "marker": {
             "colorbar": {
              "outlinewidth": 1,
              "tickcolor": "rgb(36,36,36)",
              "ticks": "outside"
             }
            },
            "type": "scatterternary"
           }
          ],
          "surface": [
           {
            "colorbar": {
             "outlinewidth": 1,
             "tickcolor": "rgb(36,36,36)",
             "ticks": "outside"
            },
            "colorscale": [
             [
              0.0,
              "#440154"
             ],
             [
              0.1111111111111111,
              "#482878"
             ],
             [
              0.2222222222222222,
              "#3e4989"
             ],
             [
              0.3333333333333333,
              "#31688e"
             ],
             [
              0.4444444444444444,
              "#26828e"
             ],
             [
              0.5555555555555556,
              "#1f9e89"
             ],
             [
              0.6666666666666666,
              "#35b779"
             ],
             [
              0.7777777777777778,
              "#6ece58"
             ],
             [
              0.8888888888888888,
              "#b5de2b"
             ],
             [
              1.0,
              "#fde725"
             ]
            ],
            "type": "surface"
           }
          ],
          "table": [
           {
            "cells": {
             "fill": {
              "color": "rgb(237,237,237)"
             },
             "line": {
              "color": "white"
             }
            },
            "header": {
             "fill": {
              "color": "rgb(217,217,217)"
             },
             "line": {
              "color": "white"
             }
            },
            "type": "table"
           }
          ]
         },
         "layout": {
          "annotationdefaults": {
           "arrowhead": 0,
           "arrowwidth": 1
          },
          "autotypenumbers": "strict",
          "coloraxis": {
           "colorbar": {
            "outlinewidth": 1,
            "tickcolor": "rgb(36,36,36)",
            "ticks": "outside"
           }
          },
          "colorscale": {
           "diverging": [
            [
             0.0,
             "rgb(103,0,31)"
            ],
            [
             0.1,
             "rgb(178,24,43)"
            ],
            [
             0.2,
             "rgb(214,96,77)"
            ],
            [
             0.3,
             "rgb(244,165,130)"
            ],
            [
             0.4,
             "rgb(253,219,199)"
            ],
            [
             0.5,
             "rgb(247,247,247)"
            ],
            [
             0.6,
             "rgb(209,229,240)"
            ],
            [
             0.7,
             "rgb(146,197,222)"
            ],
            [
             0.8,
             "rgb(67,147,195)"
            ],
            [
             0.9,
             "rgb(33,102,172)"
            ],
            [
             1.0,
             "rgb(5,48,97)"
            ]
           ],
           "sequential": [
            [
             0.0,
             "#440154"
            ],
            [
             0.1111111111111111,
             "#482878"
            ],
            [
             0.2222222222222222,
             "#3e4989"
            ],
            [
             0.3333333333333333,
             "#31688e"
            ],
            [
             0.4444444444444444,
             "#26828e"
            ],
            [
             0.5555555555555556,
             "#1f9e89"
            ],
            [
             0.6666666666666666,
             "#35b779"
            ],
            [
             0.7777777777777778,
             "#6ece58"
            ],
            [
             0.8888888888888888,
             "#b5de2b"
            ],
            [
             1.0,
             "#fde725"
            ]
           ],
           "sequentialminus": [
            [
             0.0,
             "#440154"
            ],
            [
             0.1111111111111111,
             "#482878"
            ],
            [
             0.2222222222222222,
             "#3e4989"
            ],
            [
             0.3333333333333333,
             "#31688e"
            ],
            [
             0.4444444444444444,
             "#26828e"
            ],
            [
             0.5555555555555556,
             "#1f9e89"
            ],
            [
             0.6666666666666666,
             "#35b779"
            ],
            [
             0.7777777777777778,
             "#6ece58"
            ],
            [
             0.8888888888888888,
             "#b5de2b"
            ],
            [
             1.0,
             "#fde725"
            ]
           ]
          },
          "colorway": [
           "#91268F",
           "#8CC63E",
           "#00A7A0",
           "#F05A28",
           "#4C4C4C",
           "#630460",
           "#9f3913",
           "#588527",
           "#00716c",
           "#3e4040"
          ],
          "font": {
           "color": "rgb(36,36,36)",
           "family": "Poppins",
           "size": 11
          },
          "geo": {
           "bgcolor": "white",
           "lakecolor": "white",
           "landcolor": "white",
           "showlakes": true,
           "showland": true,
           "subunitcolor": "white"
          },
          "hoverlabel": {
           "align": "left"
          },
          "hovermode": "closest",
          "mapbox": {
           "style": "light"
          },
          "paper_bgcolor": "white",
          "plot_bgcolor": "white",
          "polar": {
           "angularaxis": {
            "gridcolor": "rgb(232,232,232)",
            "linecolor": "rgb(36,36,36)",
            "showgrid": false,
            "showline": true,
            "ticks": "outside"
           },
           "bgcolor": "white",
           "radialaxis": {
            "gridcolor": "rgb(232,232,232)",
            "linecolor": "rgb(36,36,36)",
            "showgrid": false,
            "showline": true,
            "ticks": "outside"
           }
          },
          "scene": {
           "xaxis": {
            "backgroundcolor": "white",
            "gridcolor": "rgb(232,232,232)",
            "gridwidth": 2,
            "linecolor": "rgb(36,36,36)",
            "showbackground": true,
            "showgrid": false,
            "showline": true,
            "ticks": "outside",
            "zeroline": false,
            "zerolinecolor": "rgb(36,36,36)"
           },
           "yaxis": {
            "backgroundcolor": "white",
            "gridcolor": "rgb(232,232,232)",
            "gridwidth": 2,
            "linecolor": "rgb(36,36,36)",
            "showbackground": true,
            "showgrid": false,
            "showline": true,
            "ticks": "outside",
            "zeroline": false,
            "zerolinecolor": "rgb(36,36,36)"
           },
           "zaxis": {
            "backgroundcolor": "white",
            "gridcolor": "rgb(232,232,232)",
            "gridwidth": 2,
            "linecolor": "rgb(36,36,36)",
            "showbackground": true,
            "showgrid": false,
            "showline": true,
            "ticks": "outside",
            "zeroline": false,
            "zerolinecolor": "rgb(36,36,36)"
           }
          },
          "shapedefaults": {
           "fillcolor": "black",
           "line": {
            "width": 0
           },
           "opacity": 0.3
          },
          "ternary": {
           "aaxis": {
            "gridcolor": "rgb(232,232,232)",
            "linecolor": "rgb(36,36,36)",
            "showgrid": false,
            "showline": true,
            "ticks": "outside"
           },
           "baxis": {
            "gridcolor": "rgb(232,232,232)",
            "linecolor": "rgb(36,36,36)",
            "showgrid": false,
            "showline": true,
            "ticks": "outside"
           },
           "bgcolor": "white",
           "caxis": {
            "gridcolor": "rgb(232,232,232)",
            "linecolor": "rgb(36,36,36)",
            "showgrid": false,
            "showline": true,
            "ticks": "outside"
           }
          },
          "title": {
           "x": 0.05
          },
          "xaxis": {
           "automargin": true,
           "gridcolor": "rgb(232,232,232)",
           "linecolor": "rgb(36,36,36)",
           "showgrid": false,
           "showline": true,
           "ticks": "outside",
           "title": {
            "standoff": 15
           },
           "zeroline": false,
           "zerolinecolor": "rgb(36,36,36)"
          },
          "yaxis": {
           "automargin": true,
           "gridcolor": "rgb(232,232,232)",
           "linecolor": "rgb(36,36,36)",
           "showgrid": false,
           "showline": true,
           "ticks": "outside",
           "title": {
            "standoff": 15
           },
           "zeroline": false,
           "zerolinecolor": "rgb(36,36,36)"
          }
         }
        },
        "title": {
         "text": "trip mode choice by purpose"
        },
        "width": 900,
        "xaxis": {
         "anchor": "y",
         "categoryorder": "category ascending",
         "domain": [
          0.0,
          0.49
         ],
         "dtick": 1,
         "title": {
          "text": "mode_label"
         }
        },
        "xaxis2": {
         "anchor": "y2",
         "domain": [
          0.51,
          1.0
         ],
         "matches": "x",
         "title": {
          "text": "mode_label"
         }
        },
        "xaxis3": {
         "anchor": "y3",
         "domain": [
          0.0,
          0.49
         ],
         "matches": "x",
         "showticklabels": false
        },
        "xaxis4": {
         "anchor": "y4",
         "domain": [
          0.51,
          1.0
         ],
         "matches": "x",
         "showticklabels": false
        },
        "yaxis": {
         "anchor": "x",
         "domain": [
          0.0,
          0.46499999999999997
         ],
         "tickformat": ".1%",
         "title": {
          "text": "percentage"
         }
        },
        "yaxis2": {
         "anchor": "x2",
         "domain": [
          0.0,
          0.46499999999999997
         ],
         "matches": "y",
         "showticklabels": false,
         "tickformat": ".1%"
        },
        "yaxis3": {
         "anchor": "x3",
         "domain": [
          0.5349999999999999,
          0.9999999999999999
         ],
         "matches": "y",
         "tickformat": ".1%",
         "title": {
          "text": "percentage"
         }
        },
        "yaxis4": {
         "anchor": "x4",
         "domain": [
          0.5349999999999999,
          0.9999999999999999
         ],
         "matches": "y",
         "showticklabels": false,
         "tickformat": ".1%"
        }
       }
      },
      "text/html": [
       "<div>                            <div id=\"8915e3be-6f92-4f56-bed7-2e11bf35ae5b\" class=\"plotly-graph-div\" style=\"height:600px; width:900px;\"></div>            <script type=\"text/javascript\">                require([\"plotly\"], function(Plotly) {                    window.PLOTLYENV=window.PLOTLYENV || {};                                    if (document.getElementById(\"8915e3be-6f92-4f56-bed7-2e11bf35ae5b\")) {                    Plotly.newPlot(                        \"8915e3be-6f92-4f56-bed7-2e11bf35ae5b\",                        [{\"alignmentgroup\":\"True\",\"customdata\":[[1458228],[174024],[121598],[196377],[46000],[30],[28080],[11200]],\"hovertemplate\":\"source=model\\u003cbr\\u003edpurp_label=1: Work\\u003cbr\\u003emode_label=%{x}\\u003cbr\\u003epercentage=%{y}\\u003cbr\\u003esample_count=%{customdata[0]}\\u003cextra\\u003e\\u003c\\u002fextra\\u003e\",\"legendgroup\":\"model\",\"marker\":{\"color\":\"#91268F\",\"pattern\":{\"shape\":\"\"}},\"name\":\"model\",\"offsetgroup\":\"model\",\"orientation\":\"v\",\"showlegend\":true,\"textposition\":\"auto\",\"x\":[\"3: sov\",\"1: walk\",\"5: hov 3+\",\"4: hov 2\",\"6: transit\",\"8: school bus\",\"2: bike\",\"9:tnc\"],\"xaxis\":\"x3\",\"y\":[0.7163849146441456,0.08549291906754827,0.059737553284464985,0.096474296463292,0.022598459276348206,1.47381256150097e-05,0.013794885575649079,0.0055022335629369545],\"yaxis\":\"y3\",\"type\":\"bar\"},{\"alignmentgroup\":\"True\",\"customdata\":[[63841],[64424],[172784],[134249],[105214],[20475],[14913],[8]],\"hovertemplate\":\"source=model\\u003cbr\\u003edpurp_label=2: School\\u003cbr\\u003emode_label=%{x}\\u003cbr\\u003epercentage=%{y}\\u003cbr\\u003esample_count=%{customdata[0]}\\u003cextra\\u003e\\u003c\\u002fextra\\u003e\",\"legendgroup\":\"model\",\"marker\":{\"color\":\"#91268F\",\"pattern\":{\"shape\":\"\"}},\"name\":\"model\",\"offsetgroup\":\"model\",\"orientation\":\"v\",\"showlegend\":false,\"textposition\":\"auto\",\"x\":[\"3: sov\",\"1: walk\",\"5: hov 3+\",\"4: hov 2\",\"8: school bus\",\"6: transit\",\"2: bike\",\"9:tnc\"],\"xaxis\":\"x4\",\"y\":[0.11085277509602229,0.1118650895629163,0.30002014210603084,0.23310841314932246,0.18269237447647887,0.03555255353285594,0.025894760968765845,1.3891107607465081e-05],\"yaxis\":\"y4\",\"type\":\"bar\"},{\"alignmentgroup\":\"True\",\"customdata\":[[552727],[165830],[396120],[479316],[8746],[16251],[21691],[1967]],\"hovertemplate\":\"source=model\\u003cbr\\u003edpurp_label=3: Escort\\u003cbr\\u003emode_label=%{x}\\u003cbr\\u003epercentage=%{y}\\u003cbr\\u003esample_count=%{customdata[0]}\\u003cextra\\u003e\\u003c\\u002fextra\\u003e\",\"legendgroup\":\"model\",\"marker\":{\"color\":\"#91268F\",\"pattern\":{\"shape\":\"\"}},\"name\":\"model\",\"offsetgroup\":\"model\",\"orientation\":\"v\",\"showlegend\":false,\"textposition\":\"auto\",\"x\":[\"3: sov\",\"1: walk\",\"5: hov 3+\",\"4: hov 2\",\"6: transit\",\"8: school bus\",\"2: bike\",\"9:tnc\"],\"xaxis\":\"x\",\"y\":[0.3364853577881567,0.10095285173695155,0.24114722082880813,0.2917947119528956,0.0053243299842693015,0.009893172487349694,0.01320489843228738,0.0011974567892816964],\"yaxis\":\"y\",\"type\":\"bar\"},{\"alignmentgroup\":\"True\",\"customdata\":[[909274],[2653591],[80727],[18529],[15543],[133077],[1495568],[756296]],\"hovertemplate\":\"source=model\\u003cbr\\u003edpurp_label=4: other home-based\\u003cbr\\u003emode_label=%{x}\\u003cbr\\u003epercentage=%{y}\\u003cbr\\u003esample_count=%{customdata[0]}\\u003cextra\\u003e\\u003c\\u002fextra\\u003e\",\"legendgroup\":\"model\",\"marker\":{\"color\":\"#91268F\",\"pattern\":{\"shape\":\"\"}},\"name\":\"model\",\"offsetgroup\":\"model\",\"orientation\":\"v\",\"showlegend\":false,\"textposition\":\"auto\",\"x\":[\"1: walk\",\"3: sov\",\"2: bike\",\"9:tnc\",\"8: school bus\",\"6: transit\",\"4: hov 2\",\"5: hov 3+\"],\"xaxis\":\"x2\",\"y\":[0.14998074260157143,0.43769815120727806,0.013315563194369417,0.00305627696345053,0.0025637494113504014,0.02195046518781943,0.24668735634269426,0.12474769509146645],\"yaxis\":\"y2\",\"type\":\"bar\"},{\"alignmentgroup\":\"True\",\"customdata\":[[2550],[45],[642],[84],[159],[20],[354],[222]],\"hovertemplate\":\"source=survey\\u003cbr\\u003edpurp_label=1: Work\\u003cbr\\u003emode_label=%{x}\\u003cbr\\u003epercentage=%{y}\\u003cbr\\u003esample_count=%{customdata[0]}\\u003cextra\\u003e\\u003c\\u002fextra\\u003e\",\"legendgroup\":\"survey\",\"marker\":{\"color\":\"#8CC63E\",\"pattern\":{\"shape\":\"\"}},\"name\":\"survey\",\"offsetgroup\":\"survey\",\"orientation\":\"v\",\"showlegend\":true,\"textposition\":\"auto\",\"x\":[\"3: sov\",null,\"1: walk\",\"5: hov 3+\",\"2: bike\",\"9:tnc\",\"6: transit\",\"4: hov 2\"],\"xaxis\":\"x3\",\"y\":[0.750463193120709,0.006643896657637308,0.08282947827275011,0.03197886829404459,0.009863127855345941,0.006200488585573986,0.030378191771564735,0.08164275544237441],\"yaxis\":\"y3\",\"type\":\"bar\"},{\"alignmentgroup\":\"True\",\"customdata\":[[138],[47],[156],[24],[5],[168],[118],[4],[56]],\"hovertemplate\":\"source=survey\\u003cbr\\u003edpurp_label=2: School\\u003cbr\\u003emode_label=%{x}\\u003cbr\\u003epercentage=%{y}\\u003cbr\\u003esample_count=%{customdata[0]}\\u003cextra\\u003e\\u003c\\u002fextra\\u003e\",\"legendgroup\":\"survey\",\"marker\":{\"color\":\"#8CC63E\",\"pattern\":{\"shape\":\"\"}},\"name\":\"survey\",\"offsetgroup\":\"survey\",\"orientation\":\"v\",\"showlegend\":false,\"textposition\":\"auto\",\"x\":[\"8: school bus\",\"6: transit\",\"4: hov 2\",\"2: bike\",\"9:tnc\",\"5: hov 3+\",\"1: walk\",null,\"3: sov\"],\"xaxis\":\"x4\",\"y\":[0.1870254863570222,0.03310357007752863,0.20591530206955597,0.021835013624995847,0.004676663154064476,0.33898469738626846,0.07911492391615989,0.009148938508805576,0.12019540490559867],\"yaxis\":\"y4\",\"type\":\"bar\"},{\"alignmentgroup\":\"True\",\"customdata\":[[471],[10],[173],[472],[28],[1],[8],[3],[633]],\"hovertemplate\":\"source=survey\\u003cbr\\u003edpurp_label=3: Escort\\u003cbr\\u003emode_label=%{x}\\u003cbr\\u003epercentage=%{y}\\u003cbr\\u003esample_count=%{customdata[0]}\\u003cextra\\u003e\\u003c\\u002fextra\\u003e\",\"legendgroup\":\"survey\",\"marker\":{\"color\":\"#8CC63E\",\"pattern\":{\"shape\":\"\"}},\"name\":\"survey\",\"offsetgroup\":\"survey\",\"orientation\":\"v\",\"showlegend\":false,\"textposition\":\"auto\",\"x\":[\"3: sov\",null,\"1: walk\",\"5: hov 3+\",\"2: bike\",\"9:tnc\",\"6: transit\",\"8: school bus\",\"4: hov 2\"],\"xaxis\":\"x\",\"y\":[0.2507311886851407,0.012022688729206317,0.06002481185690044,0.33439186959205686,0.001757610767697447,6.688519175474434e-06,0.0005456557679934506,0.00012959250947870292,0.34038989357235067],\"yaxis\":\"y\",\"type\":\"bar\"},{\"alignmentgroup\":\"True\",\"customdata\":[[2302],[431],[14],[274],[37],[1031],[2883],[72],[4679]],\"hovertemplate\":\"source=survey\\u003cbr\\u003edpurp_label=4: other home-based\\u003cbr\\u003emode_label=%{x}\\u003cbr\\u003epercentage=%{y}\\u003cbr\\u003esample_count=%{customdata[0]}\\u003cextra\\u003e\\u003c\\u002fextra\\u003e\",\"legendgroup\":\"survey\",\"marker\":{\"color\":\"#8CC63E\",\"pattern\":{\"shape\":\"\"}},\"name\":\"survey\",\"offsetgroup\":\"survey\",\"orientation\":\"v\",\"showlegend\":false,\"textposition\":\"auto\",\"x\":[\"4: hov 2\",\"6: transit\",\"8: school bus\",\"2: bike\",\"9:tnc\",\"5: hov 3+\",\"1: walk\",null,\"3: sov\"],\"xaxis\":\"x2\",\"y\":[0.21753975226551553,0.029422054277788212,0.0014677703634503637,0.012670380183362617,0.0032723696364354185,0.13479395189595933,0.12768810347895893,0.008645439023513338,0.46450017887501627],\"yaxis\":\"y2\",\"type\":\"bar\"},{\"alignmentgroup\":\"True\",\"customdata\":[[2473],[5608],[187],[302],[155],[952],[2426],[31],[296]],\"hovertemplate\":\"source=survey (2017\\u002f2019)\\u003cbr\\u003edpurp_label=1: Work\\u003cbr\\u003emode_label=%{x}\\u003cbr\\u003epercentage=%{y}\\u003cbr\\u003esample_count=%{customdata[0]}\\u003cextra\\u003e\\u003c\\u002fextra\\u003e\",\"legendgroup\":\"survey (2017\\u002f2019)\",\"marker\":{\"color\":\"#00A7A0\",\"pattern\":{\"shape\":\"\"}},\"name\":\"survey (2017\\u002f2019)\",\"offsetgroup\":\"survey (2017\\u002f2019)\",\"orientation\":\"v\",\"showlegend\":true,\"textposition\":\"auto\",\"x\":[\"1: walk\",\"3: sov\",null,\"2: bike\",\"9:tnc\",\"4: hov 2\",\"6: transit\",\"8: school bus\",\"5: hov 3+\"],\"xaxis\":\"x3\",\"y\":[0.09020086249387353,0.6800847917854048,0.002958026108198718,0.008804836330011953,0.0031390895025147822,0.11294216171887808,0.07453467003645212,0.00036138922797119074,0.026974172796694815],\"yaxis\":\"y3\",\"type\":\"bar\"},{\"alignmentgroup\":\"True\",\"customdata\":[[412],[50],[17],[425],[279],[227],[178],[61],[381]],\"hovertemplate\":\"source=survey (2017\\u002f2019)\\u003cbr\\u003edpurp_label=2: School\\u003cbr\\u003emode_label=%{x}\\u003cbr\\u003epercentage=%{y}\\u003cbr\\u003esample_count=%{customdata[0]}\\u003cextra\\u003e\\u003c\\u002fextra\\u003e\",\"legendgroup\":\"survey (2017\\u002f2019)\",\"marker\":{\"color\":\"#00A7A0\",\"pattern\":{\"shape\":\"\"}},\"name\":\"survey (2017\\u002f2019)\",\"offsetgroup\":\"survey (2017\\u002f2019)\",\"orientation\":\"v\",\"showlegend\":false,\"textposition\":\"auto\",\"x\":[\"5: hov 3+\",\"2: bike\",\"9:tnc\",\"4: hov 2\",\"6: transit\",\"8: school bus\",\"3: sov\",null,\"1: walk\"],\"xaxis\":\"x4\",\"y\":[0.3492929384784313,0.005844635754558749,0.0015712704278088663,0.16657970160860708,0.08196537887156047,0.157917083101703,0.12635514527184277,0.023808063699522212,0.08666578278596555],\"yaxis\":\"y4\",\"type\":\"bar\"},{\"alignmentgroup\":\"True\",\"customdata\":[[310],[875],[40],[33],[6],[1467],[92],[4],[1007]],\"hovertemplate\":\"source=survey (2017\\u002f2019)\\u003cbr\\u003edpurp_label=3: Escort\\u003cbr\\u003emode_label=%{x}\\u003cbr\\u003epercentage=%{y}\\u003cbr\\u003esample_count=%{customdata[0]}\\u003cextra\\u003e\\u003c\\u002fextra\\u003e\",\"legendgroup\":\"survey (2017\\u002f2019)\",\"marker\":{\"color\":\"#00A7A0\",\"pattern\":{\"shape\":\"\"}},\"name\":\"survey (2017\\u002f2019)\",\"offsetgroup\":\"survey (2017\\u002f2019)\",\"orientation\":\"v\",\"showlegend\":false,\"textposition\":\"auto\",\"x\":[\"1: walk\",\"3: sov\",null,\"2: bike\",\"9:tnc\",\"4: hov 2\",\"6: transit\",\"8: school bus\",\"5: hov 3+\"],\"xaxis\":\"x\",\"y\":[0.04173871805731411,0.24199849118511563,0.0035021248769232286,0.010392329736235733,8.666363412162834e-05,0.34888797233945684,0.012088929954300375,0.0070671851042085594,0.3342375851123238],\"yaxis\":\"y\",\"type\":\"bar\"},{\"alignmentgroup\":\"True\",\"customdata\":[[183],[297],[1689],[33],[4626],[2646],[6926],[7898],[298]],\"hovertemplate\":\"source=survey (2017\\u002f2019)\\u003cbr\\u003edpurp_label=4: other home-based\\u003cbr\\u003emode_label=%{x}\\u003cbr\\u003epercentage=%{y}\\u003cbr\\u003esample_count=%{customdata[0]}\\u003cextra\\u003e\\u003c\\u002fextra\\u003e\",\"legendgroup\":\"survey (2017\\u002f2019)\",\"marker\":{\"color\":\"#00A7A0\",\"pattern\":{\"shape\":\"\"}},\"name\":\"survey (2017\\u002f2019)\",\"offsetgroup\":\"survey (2017\\u002f2019)\",\"orientation\":\"v\",\"showlegend\":false,\"textposition\":\"auto\",\"x\":[\"9:tnc\",\"2: bike\",\"6: transit\",\"8: school bus\",\"4: hov 2\",\"5: hov 3+\",\"1: walk\",\"3: sov\",null],\"xaxis\":\"x2\",\"y\":[0.002258993138267637,0.006377030871544232,0.03213157731982333,0.001038858205453084,0.25229559108344735,0.17691096379151433,0.13198732183552783,0.393416687307604,0.003582976446818348],\"yaxis\":\"y2\",\"type\":\"bar\"}],                        {\"template\":{\"data\":{\"barpolar\":[{\"marker\":{\"line\":{\"color\":\"white\",\"width\":0.5},\"pattern\":{\"fillmode\":\"overlay\",\"size\":10,\"solidity\":0.2}},\"type\":\"barpolar\"}],\"bar\":[{\"error_x\":{\"color\":\"rgb(36,36,36)\"},\"error_y\":{\"color\":\"rgb(36,36,36)\"},\"marker\":{\"line\":{\"color\":\"white\",\"width\":0.5},\"pattern\":{\"fillmode\":\"overlay\",\"size\":10,\"solidity\":0.2}},\"type\":\"bar\"}],\"carpet\":[{\"aaxis\":{\"endlinecolor\":\"rgb(36,36,36)\",\"gridcolor\":\"white\",\"linecolor\":\"white\",\"minorgridcolor\":\"white\",\"startlinecolor\":\"rgb(36,36,36)\"},\"baxis\":{\"endlinecolor\":\"rgb(36,36,36)\",\"gridcolor\":\"white\",\"linecolor\":\"white\",\"minorgridcolor\":\"white\",\"startlinecolor\":\"rgb(36,36,36)\"},\"type\":\"carpet\"}],\"choropleth\":[{\"colorbar\":{\"outlinewidth\":1,\"tickcolor\":\"rgb(36,36,36)\",\"ticks\":\"outside\"},\"type\":\"choropleth\"}],\"contourcarpet\":[{\"colorbar\":{\"outlinewidth\":1,\"tickcolor\":\"rgb(36,36,36)\",\"ticks\":\"outside\"},\"type\":\"contourcarpet\"}],\"contour\":[{\"colorbar\":{\"outlinewidth\":1,\"tickcolor\":\"rgb(36,36,36)\",\"ticks\":\"outside\"},\"colorscale\":[[0.0,\"#440154\"],[0.1111111111111111,\"#482878\"],[0.2222222222222222,\"#3e4989\"],[0.3333333333333333,\"#31688e\"],[0.4444444444444444,\"#26828e\"],[0.5555555555555556,\"#1f9e89\"],[0.6666666666666666,\"#35b779\"],[0.7777777777777778,\"#6ece58\"],[0.8888888888888888,\"#b5de2b\"],[1.0,\"#fde725\"]],\"type\":\"contour\"}],\"heatmapgl\":[{\"colorbar\":{\"outlinewidth\":1,\"tickcolor\":\"rgb(36,36,36)\",\"ticks\":\"outside\"},\"colorscale\":[[0.0,\"#440154\"],[0.1111111111111111,\"#482878\"],[0.2222222222222222,\"#3e4989\"],[0.3333333333333333,\"#31688e\"],[0.4444444444444444,\"#26828e\"],[0.5555555555555556,\"#1f9e89\"],[0.6666666666666666,\"#35b779\"],[0.7777777777777778,\"#6ece58\"],[0.8888888888888888,\"#b5de2b\"],[1.0,\"#fde725\"]],\"type\":\"heatmapgl\"}],\"heatmap\":[{\"colorbar\":{\"outlinewidth\":1,\"tickcolor\":\"rgb(36,36,36)\",\"ticks\":\"outside\"},\"colorscale\":[[0.0,\"#440154\"],[0.1111111111111111,\"#482878\"],[0.2222222222222222,\"#3e4989\"],[0.3333333333333333,\"#31688e\"],[0.4444444444444444,\"#26828e\"],[0.5555555555555556,\"#1f9e89\"],[0.6666666666666666,\"#35b779\"],[0.7777777777777778,\"#6ece58\"],[0.8888888888888888,\"#b5de2b\"],[1.0,\"#fde725\"]],\"type\":\"heatmap\"}],\"histogram2dcontour\":[{\"colorbar\":{\"outlinewidth\":1,\"tickcolor\":\"rgb(36,36,36)\",\"ticks\":\"outside\"},\"colorscale\":[[0.0,\"#440154\"],[0.1111111111111111,\"#482878\"],[0.2222222222222222,\"#3e4989\"],[0.3333333333333333,\"#31688e\"],[0.4444444444444444,\"#26828e\"],[0.5555555555555556,\"#1f9e89\"],[0.6666666666666666,\"#35b779\"],[0.7777777777777778,\"#6ece58\"],[0.8888888888888888,\"#b5de2b\"],[1.0,\"#fde725\"]],\"type\":\"histogram2dcontour\"}],\"histogram2d\":[{\"colorbar\":{\"outlinewidth\":1,\"tickcolor\":\"rgb(36,36,36)\",\"ticks\":\"outside\"},\"colorscale\":[[0.0,\"#440154\"],[0.1111111111111111,\"#482878\"],[0.2222222222222222,\"#3e4989\"],[0.3333333333333333,\"#31688e\"],[0.4444444444444444,\"#26828e\"],[0.5555555555555556,\"#1f9e89\"],[0.6666666666666666,\"#35b779\"],[0.7777777777777778,\"#6ece58\"],[0.8888888888888888,\"#b5de2b\"],[1.0,\"#fde725\"]],\"type\":\"histogram2d\"}],\"histogram\":[{\"marker\":{\"line\":{\"color\":\"white\",\"width\":0.6}},\"type\":\"histogram\"}],\"mesh3d\":[{\"colorbar\":{\"outlinewidth\":1,\"tickcolor\":\"rgb(36,36,36)\",\"ticks\":\"outside\"},\"type\":\"mesh3d\"}],\"parcoords\":[{\"line\":{\"colorbar\":{\"outlinewidth\":1,\"tickcolor\":\"rgb(36,36,36)\",\"ticks\":\"outside\"}},\"type\":\"parcoords\"}],\"pie\":[{\"automargin\":true,\"type\":\"pie\"}],\"scatter3d\":[{\"line\":{\"colorbar\":{\"outlinewidth\":1,\"tickcolor\":\"rgb(36,36,36)\",\"ticks\":\"outside\"}},\"marker\":{\"colorbar\":{\"outlinewidth\":1,\"tickcolor\":\"rgb(36,36,36)\",\"ticks\":\"outside\"}},\"type\":\"scatter3d\"}],\"scattercarpet\":[{\"marker\":{\"colorbar\":{\"outlinewidth\":1,\"tickcolor\":\"rgb(36,36,36)\",\"ticks\":\"outside\"}},\"type\":\"scattercarpet\"}],\"scattergeo\":[{\"marker\":{\"colorbar\":{\"outlinewidth\":1,\"tickcolor\":\"rgb(36,36,36)\",\"ticks\":\"outside\"}},\"type\":\"scattergeo\"}],\"scattergl\":[{\"marker\":{\"colorbar\":{\"outlinewidth\":1,\"tickcolor\":\"rgb(36,36,36)\",\"ticks\":\"outside\"}},\"type\":\"scattergl\"}],\"scattermapbox\":[{\"marker\":{\"colorbar\":{\"outlinewidth\":1,\"tickcolor\":\"rgb(36,36,36)\",\"ticks\":\"outside\"}},\"type\":\"scattermapbox\"}],\"scatterpolargl\":[{\"marker\":{\"colorbar\":{\"outlinewidth\":1,\"tickcolor\":\"rgb(36,36,36)\",\"ticks\":\"outside\"}},\"type\":\"scatterpolargl\"}],\"scatterpolar\":[{\"marker\":{\"colorbar\":{\"outlinewidth\":1,\"tickcolor\":\"rgb(36,36,36)\",\"ticks\":\"outside\"}},\"type\":\"scatterpolar\"}],\"scatter\":[{\"fillpattern\":{\"fillmode\":\"overlay\",\"size\":10,\"solidity\":0.2},\"type\":\"scatter\"}],\"scatterternary\":[{\"marker\":{\"colorbar\":{\"outlinewidth\":1,\"tickcolor\":\"rgb(36,36,36)\",\"ticks\":\"outside\"}},\"type\":\"scatterternary\"}],\"surface\":[{\"colorbar\":{\"outlinewidth\":1,\"tickcolor\":\"rgb(36,36,36)\",\"ticks\":\"outside\"},\"colorscale\":[[0.0,\"#440154\"],[0.1111111111111111,\"#482878\"],[0.2222222222222222,\"#3e4989\"],[0.3333333333333333,\"#31688e\"],[0.4444444444444444,\"#26828e\"],[0.5555555555555556,\"#1f9e89\"],[0.6666666666666666,\"#35b779\"],[0.7777777777777778,\"#6ece58\"],[0.8888888888888888,\"#b5de2b\"],[1.0,\"#fde725\"]],\"type\":\"surface\"}],\"table\":[{\"cells\":{\"fill\":{\"color\":\"rgb(237,237,237)\"},\"line\":{\"color\":\"white\"}},\"header\":{\"fill\":{\"color\":\"rgb(217,217,217)\"},\"line\":{\"color\":\"white\"}},\"type\":\"table\"}]},\"layout\":{\"annotationdefaults\":{\"arrowhead\":0,\"arrowwidth\":1},\"autotypenumbers\":\"strict\",\"coloraxis\":{\"colorbar\":{\"outlinewidth\":1,\"tickcolor\":\"rgb(36,36,36)\",\"ticks\":\"outside\"}},\"colorscale\":{\"diverging\":[[0.0,\"rgb(103,0,31)\"],[0.1,\"rgb(178,24,43)\"],[0.2,\"rgb(214,96,77)\"],[0.3,\"rgb(244,165,130)\"],[0.4,\"rgb(253,219,199)\"],[0.5,\"rgb(247,247,247)\"],[0.6,\"rgb(209,229,240)\"],[0.7,\"rgb(146,197,222)\"],[0.8,\"rgb(67,147,195)\"],[0.9,\"rgb(33,102,172)\"],[1.0,\"rgb(5,48,97)\"]],\"sequential\":[[0.0,\"#440154\"],[0.1111111111111111,\"#482878\"],[0.2222222222222222,\"#3e4989\"],[0.3333333333333333,\"#31688e\"],[0.4444444444444444,\"#26828e\"],[0.5555555555555556,\"#1f9e89\"],[0.6666666666666666,\"#35b779\"],[0.7777777777777778,\"#6ece58\"],[0.8888888888888888,\"#b5de2b\"],[1.0,\"#fde725\"]],\"sequentialminus\":[[0.0,\"#440154\"],[0.1111111111111111,\"#482878\"],[0.2222222222222222,\"#3e4989\"],[0.3333333333333333,\"#31688e\"],[0.4444444444444444,\"#26828e\"],[0.5555555555555556,\"#1f9e89\"],[0.6666666666666666,\"#35b779\"],[0.7777777777777778,\"#6ece58\"],[0.8888888888888888,\"#b5de2b\"],[1.0,\"#fde725\"]]},\"colorway\":[\"#91268F\",\"#8CC63E\",\"#00A7A0\",\"#F05A28\",\"#4C4C4C\",\"#630460\",\"#9f3913\",\"#588527\",\"#00716c\",\"#3e4040\"],\"font\":{\"color\":\"rgb(36,36,36)\",\"family\":\"Poppins\",\"size\":11},\"geo\":{\"bgcolor\":\"white\",\"lakecolor\":\"white\",\"landcolor\":\"white\",\"showlakes\":true,\"showland\":true,\"subunitcolor\":\"white\"},\"hoverlabel\":{\"align\":\"left\"},\"hovermode\":\"closest\",\"mapbox\":{\"style\":\"light\"},\"paper_bgcolor\":\"white\",\"plot_bgcolor\":\"white\",\"polar\":{\"angularaxis\":{\"gridcolor\":\"rgb(232,232,232)\",\"linecolor\":\"rgb(36,36,36)\",\"showgrid\":false,\"showline\":true,\"ticks\":\"outside\"},\"bgcolor\":\"white\",\"radialaxis\":{\"gridcolor\":\"rgb(232,232,232)\",\"linecolor\":\"rgb(36,36,36)\",\"showgrid\":false,\"showline\":true,\"ticks\":\"outside\"}},\"scene\":{\"xaxis\":{\"backgroundcolor\":\"white\",\"gridcolor\":\"rgb(232,232,232)\",\"gridwidth\":2,\"linecolor\":\"rgb(36,36,36)\",\"showbackground\":true,\"showgrid\":false,\"showline\":true,\"ticks\":\"outside\",\"zeroline\":false,\"zerolinecolor\":\"rgb(36,36,36)\"},\"yaxis\":{\"backgroundcolor\":\"white\",\"gridcolor\":\"rgb(232,232,232)\",\"gridwidth\":2,\"linecolor\":\"rgb(36,36,36)\",\"showbackground\":true,\"showgrid\":false,\"showline\":true,\"ticks\":\"outside\",\"zeroline\":false,\"zerolinecolor\":\"rgb(36,36,36)\"},\"zaxis\":{\"backgroundcolor\":\"white\",\"gridcolor\":\"rgb(232,232,232)\",\"gridwidth\":2,\"linecolor\":\"rgb(36,36,36)\",\"showbackground\":true,\"showgrid\":false,\"showline\":true,\"ticks\":\"outside\",\"zeroline\":false,\"zerolinecolor\":\"rgb(36,36,36)\"}},\"shapedefaults\":{\"fillcolor\":\"black\",\"line\":{\"width\":0},\"opacity\":0.3},\"ternary\":{\"aaxis\":{\"gridcolor\":\"rgb(232,232,232)\",\"linecolor\":\"rgb(36,36,36)\",\"showgrid\":false,\"showline\":true,\"ticks\":\"outside\"},\"baxis\":{\"gridcolor\":\"rgb(232,232,232)\",\"linecolor\":\"rgb(36,36,36)\",\"showgrid\":false,\"showline\":true,\"ticks\":\"outside\"},\"bgcolor\":\"white\",\"caxis\":{\"gridcolor\":\"rgb(232,232,232)\",\"linecolor\":\"rgb(36,36,36)\",\"showgrid\":false,\"showline\":true,\"ticks\":\"outside\"}},\"title\":{\"x\":0.05},\"xaxis\":{\"automargin\":true,\"gridcolor\":\"rgb(232,232,232)\",\"linecolor\":\"rgb(36,36,36)\",\"showgrid\":false,\"showline\":true,\"ticks\":\"outside\",\"title\":{\"standoff\":15},\"zeroline\":false,\"zerolinecolor\":\"rgb(36,36,36)\"},\"yaxis\":{\"automargin\":true,\"gridcolor\":\"rgb(232,232,232)\",\"linecolor\":\"rgb(36,36,36)\",\"showgrid\":false,\"showline\":true,\"ticks\":\"outside\",\"title\":{\"standoff\":15},\"zeroline\":false,\"zerolinecolor\":\"rgb(36,36,36)\"}}},\"xaxis\":{\"anchor\":\"y\",\"domain\":[0.0,0.49],\"title\":{\"text\":\"mode_label\"},\"dtick\":1,\"categoryorder\":\"category ascending\"},\"yaxis\":{\"anchor\":\"x\",\"domain\":[0.0,0.46499999999999997],\"title\":{\"text\":\"percentage\"},\"tickformat\":\".1%\"},\"xaxis2\":{\"anchor\":\"y2\",\"domain\":[0.51,1.0],\"matches\":\"x\",\"title\":{\"text\":\"mode_label\"}},\"yaxis2\":{\"anchor\":\"x2\",\"domain\":[0.0,0.46499999999999997],\"matches\":\"y\",\"showticklabels\":false,\"tickformat\":\".1%\"},\"xaxis3\":{\"anchor\":\"y3\",\"domain\":[0.0,0.49],\"matches\":\"x\",\"showticklabels\":false},\"yaxis3\":{\"anchor\":\"x3\",\"domain\":[0.5349999999999999,0.9999999999999999],\"matches\":\"y\",\"title\":{\"text\":\"percentage\"},\"tickformat\":\".1%\"},\"xaxis4\":{\"anchor\":\"y4\",\"domain\":[0.51,1.0],\"matches\":\"x\",\"showticklabels\":false},\"yaxis4\":{\"anchor\":\"x4\",\"domain\":[0.5349999999999999,0.9999999999999999],\"matches\":\"y\",\"showticklabels\":false,\"tickformat\":\".1%\"},\"annotations\":[{\"font\":{},\"showarrow\":false,\"text\":\"3: Escort\",\"x\":0.245,\"xanchor\":\"center\",\"xref\":\"paper\",\"y\":0.46499999999999997,\"yanchor\":\"bottom\",\"yref\":\"paper\"},{\"font\":{},\"showarrow\":false,\"text\":\"4: other home-based\",\"x\":0.755,\"xanchor\":\"center\",\"xref\":\"paper\",\"y\":0.46499999999999997,\"yanchor\":\"bottom\",\"yref\":\"paper\"},{\"font\":{},\"showarrow\":false,\"text\":\"1: Work\",\"x\":0.245,\"xanchor\":\"center\",\"xref\":\"paper\",\"y\":0.9999999999999999,\"yanchor\":\"bottom\",\"yref\":\"paper\"},{\"font\":{},\"showarrow\":false,\"text\":\"2: School\",\"x\":0.755,\"xanchor\":\"center\",\"xref\":\"paper\",\"y\":0.9999999999999999,\"yanchor\":\"bottom\",\"yref\":\"paper\"}],\"legend\":{\"title\":{\"text\":\"source\"},\"tracegroupgap\":0},\"title\":{\"text\":\"trip mode choice by purpose\"},\"barmode\":\"group\",\"font\":{\"size\":11},\"height\":600,\"width\":900},                        {\"responsive\": true}                    ).then(function(){\n",
       "                            \n",
       "var gd = document.getElementById('8915e3be-6f92-4f56-bed7-2e11bf35ae5b');\n",
       "var x = new MutationObserver(function (mutations, observer) {{\n",
       "        var display = window.getComputedStyle(gd).display;\n",
       "        if (!display || display === 'none') {{\n",
       "            console.log([gd, 'removed!']);\n",
       "            Plotly.purge(gd);\n",
       "            observer.disconnect();\n",
       "        }}\n",
       "}});\n",
       "\n",
       "// Listen for the removal of the full notebook cells\n",
       "var notebookContainer = gd.closest('#notebook-container');\n",
       "if (notebookContainer) {{\n",
       "    x.observe(notebookContainer, {childList: true});\n",
       "}}\n",
       "\n",
       "// Listen for the clearing of the current output cell\n",
       "var outputEl = gd.closest('.output');\n",
       "if (outputEl) {{\n",
       "    x.observe(outputEl, {childList: true});\n",
       "}}\n",
       "\n",
       "                        })                };                });            </script>        </div>"
      ]
     },
     "metadata": {},
     "output_type": "display_data"
    }
   ],
   "source": [
    "df_trip = df_trip.filter(pl.col('dpurp_label') != 'None')\n",
    "plot_mode_choice(df_trip,\"trip mode choice by purpose\")"
   ]
  },
  {
   "cell_type": "code",
   "execution_count": null,
   "metadata": {},
   "outputs": [],
   "source": []
  }
 ],
 "metadata": {
  "kernelspec": {
   "display_name": "summary",
   "language": "python",
   "name": "python3"
  },
  "language_info": {
   "codemirror_mode": {
    "name": "ipython",
    "version": 3
   },
   "file_extension": ".py",
   "mimetype": "text/x-python",
   "name": "python",
   "nbconvert_exporter": "python",
   "pygments_lexer": "ipython3",
   "version": "3.7.10"
  }
 },
 "nbformat": 4,
 "nbformat_minor": 2
}
