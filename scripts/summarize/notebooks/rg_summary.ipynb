{
 "cells": [
  {
   "cell_type": "code",
   "execution_count": 1,
   "metadata": {
    "execution": {
     "iopub.execute_input": "2024-04-03T17:40:52.789529Z",
     "iopub.status.busy": "2024-04-03T17:40:52.788532Z",
     "iopub.status.idle": "2024-04-03T17:40:53.867938Z",
     "shell.execute_reply": "2024-04-03T17:40:53.867938Z"
    }
   },
   "outputs": [],
   "source": [
    "import os, sys, time\n",
    "import warnings\n",
    "warnings.simplefilter(action='ignore', category=FutureWarning)\n",
    "import pandas as pd\n",
    "pd.options.mode.chained_assignment = None\n",
    "import h5py\n",
    "\n",
    "%matplotlib inline\n",
    "\n",
    "from IPython.display import display, HTML\n",
    "\n",
    "if (sys.version_info < (3, 0)):\n",
    "    HTML('''<script>\n",
    "    code_show=true; \n",
    "    function code_toggle() {\n",
    "     if (code_show){\n",
    "     $('div.input').hide();\n",
    "     } else {\n",
    "     $('div.input').show();\n",
    "     }\n",
    "     code_show = !code_show\n",
    "    } \n",
    "    $( document ).ready(code_toggle);\n",
    "    </script>\n",
    "    <form action=\"javascript:code_toggle()\"><input type=\"submit\" value=\"Click here to toggle on/off the raw code.\"></form>''')\n"
   ]
  },
  {
   "cell_type": "code",
   "execution_count": 2,
   "metadata": {
    "execution": {
     "iopub.execute_input": "2024-04-03T17:40:53.867938Z",
     "iopub.status.busy": "2024-04-03T17:40:53.867938Z",
     "iopub.status.idle": "2024-04-03T17:40:53.883557Z",
     "shell.execute_reply": "2024-04-03T17:40:53.883557Z"
    }
   },
   "outputs": [
    {
     "name": "stdout",
     "output_type": "stream",
     "text": [
      "Summary run: Wed, 03 Apr 2024 10:40:53\n"
     ]
    }
   ],
   "source": [
    "# Create timestamp to show when this summary was run\n",
    "print('Summary run: ' + time.strftime(\"%a, %d %b %Y %H:%M:%S\"))"
   ]
  },
  {
   "cell_type": "code",
   "execution_count": 3,
   "metadata": {
    "execution": {
     "iopub.execute_input": "2024-04-03T17:40:53.883557Z",
     "iopub.status.busy": "2024-04-03T17:40:53.883557Z",
     "iopub.status.idle": "2024-04-03T17:40:53.899179Z",
     "shell.execute_reply": "2024-04-03T17:40:53.899179Z"
    }
   },
   "outputs": [],
   "source": [
    "pd.options.display.float_format = '{:0,.0f}'.format"
   ]
  },
  {
   "cell_type": "code",
   "execution_count": 4,
   "metadata": {
    "execution": {
     "iopub.execute_input": "2024-04-03T17:40:53.899179Z",
     "iopub.status.busy": "2024-04-03T17:40:53.899179Z",
     "iopub.status.idle": "2024-04-03T17:40:53.914801Z",
     "shell.execute_reply": "2024-04-03T17:40:53.914801Z"
    }
   },
   "outputs": [],
   "source": [
    "# Region\n",
    "# Counties\n",
    "# RGC\n",
    "# MIC\n",
    "# HCT Areas\n",
    "# Regional Geographies\n",
    "# Equity Geographies (over 50%)\n",
    "# Equity Geographies (over Regional Average)\n",
    "\n",
    "\n",
    "# Travel Metrics\n",
    "# Transit Ridership\n",
    "# Congestion Levels\n",
    "# Truck Data\n",
    "# VMT\n",
    "# Delay\n",
    "# Miles of Congestion\n",
    "# Vehicle Data\n",
    "# VMT\n",
    "# Delay\n",
    "# Miles of Congestion"
   ]
  },
  {
   "cell_type": "code",
   "execution_count": 5,
   "metadata": {
    "execution": {
     "iopub.execute_input": "2024-04-03T17:40:53.914801Z",
     "iopub.status.busy": "2024-04-03T17:40:53.914801Z",
     "iopub.status.idle": "2024-04-03T17:40:53.930530Z",
     "shell.execute_reply": "2024-04-03T17:40:53.930530Z"
    }
   },
   "outputs": [],
   "source": [
    "geog = 'rg'\n",
    "geog_col = 'hh_rg_proposed'"
   ]
  },
  {
   "cell_type": "markdown",
   "metadata": {},
   "source": [
    "# Regional Geography\n",
    "Results based on household location\n"
   ]
  },
  {
   "cell_type": "markdown",
   "metadata": {},
   "source": [
    "# Population"
   ]
  },
  {
   "cell_type": "code",
   "execution_count": 6,
   "metadata": {
    "execution": {
     "iopub.execute_input": "2024-04-03T17:40:53.930530Z",
     "iopub.status.busy": "2024-04-03T17:40:53.930530Z",
     "iopub.status.idle": "2024-04-03T17:40:54.024152Z",
     "shell.execute_reply": "2024-04-03T17:40:54.024152Z"
    }
   },
   "outputs": [
    {
     "data": {
      "text/html": [
       "<div>\n",
       "<style scoped>\n",
       "    .dataframe tbody tr th:only-of-type {\n",
       "        vertical-align: middle;\n",
       "    }\n",
       "\n",
       "    .dataframe tbody tr th {\n",
       "        vertical-align: top;\n",
       "    }\n",
       "\n",
       "    .dataframe thead th {\n",
       "        text-align: right;\n",
       "    }\n",
       "</style>\n",
       "<table border=\"1\" class=\"dataframe\">\n",
       "  <thead>\n",
       "    <tr style=\"text-align: right;\">\n",
       "      <th></th>\n",
       "      <th>Households</th>\n",
       "      <th>Persons</th>\n",
       "    </tr>\n",
       "    <tr>\n",
       "      <th>hh_rg_proposed</th>\n",
       "      <th></th>\n",
       "      <th></th>\n",
       "    </tr>\n",
       "  </thead>\n",
       "  <tbody>\n",
       "    <tr>\n",
       "      <th>CitiesTowns</th>\n",
       "      <td>134,144</td>\n",
       "      <td>380,850</td>\n",
       "    </tr>\n",
       "    <tr>\n",
       "      <th>Core</th>\n",
       "      <td>386,611</td>\n",
       "      <td>1,000,753</td>\n",
       "    </tr>\n",
       "    <tr>\n",
       "      <th>HCT</th>\n",
       "      <td>360,108</td>\n",
       "      <td>957,771</td>\n",
       "    </tr>\n",
       "    <tr>\n",
       "      <th>Metro</th>\n",
       "      <td>590,482</td>\n",
       "      <td>1,280,633</td>\n",
       "    </tr>\n",
       "    <tr>\n",
       "      <th>Rural</th>\n",
       "      <td>199,412</td>\n",
       "      <td>545,605</td>\n",
       "    </tr>\n",
       "    <tr>\n",
       "      <th>UU</th>\n",
       "      <td>65,372</td>\n",
       "      <td>190,523</td>\n",
       "    </tr>\n",
       "    <tr>\n",
       "      <th>Total</th>\n",
       "      <td>1,736,129</td>\n",
       "      <td>4,356,135</td>\n",
       "    </tr>\n",
       "  </tbody>\n",
       "</table>\n",
       "</div>"
      ],
      "text/plain": [
       "                Households   Persons\n",
       "hh_rg_proposed                      \n",
       "CitiesTowns        134,144   380,850\n",
       "Core               386,611 1,000,753\n",
       "HCT                360,108   957,771\n",
       "Metro              590,482 1,280,633\n",
       "Rural              199,412   545,605\n",
       "UU                  65,372   190,523\n",
       "Total            1,736,129 4,356,135"
      ]
     },
     "execution_count": 6,
     "metadata": {},
     "output_type": "execute_result"
    }
   ],
   "source": [
    "df = pd.read_csv(r'..\\..\\..\\outputs\\agg\\dash\\person_geog.csv')\n",
    "_df_pop = df.groupby(geog_col).sum()[['psexpfac']]\n",
    "\n",
    "df = pd.read_csv(r'..\\..\\..\\outputs\\agg\\dash\\hh_geog.csv')\n",
    "_df_hh = df.groupby(geog_col).sum()[['hhexpfac']]\n",
    "\n",
    "df = _df_hh.merge(_df_pop, on=geog_col)\n",
    "df.rename(columns={'hhexpfac': 'Households', 'psexpfac': 'Persons'}, inplace=True)\n",
    "df.to_csv(os.path.join(os.getcwd(), r'..\\..\\..\\outputs\\compare',geog,'1_population.csv'))\n",
    "df.loc['Total'] = df.sum(axis=0)\n",
    "df"
   ]
  },
  {
   "cell_type": "markdown",
   "metadata": {},
   "source": [
    "# Employment"
   ]
  },
  {
   "cell_type": "code",
   "execution_count": 7,
   "metadata": {
    "execution": {
     "iopub.execute_input": "2024-04-03T17:40:54.024152Z",
     "iopub.status.busy": "2024-04-03T17:40:54.024152Z",
     "iopub.status.idle": "2024-04-03T17:40:54.071014Z",
     "shell.execute_reply": "2024-04-03T17:40:54.071014Z"
    }
   },
   "outputs": [
    {
     "data": {
      "text/html": [
       "<div>\n",
       "<style scoped>\n",
       "    .dataframe tbody tr th:only-of-type {\n",
       "        vertical-align: middle;\n",
       "    }\n",
       "\n",
       "    .dataframe tbody tr th {\n",
       "        vertical-align: top;\n",
       "    }\n",
       "\n",
       "    .dataframe thead th {\n",
       "        text-align: right;\n",
       "    }\n",
       "</style>\n",
       "<table border=\"1\" class=\"dataframe\">\n",
       "  <thead>\n",
       "    <tr style=\"text-align: right;\">\n",
       "      <th>pwtyp</th>\n",
       "      <th>Paid Full-Time Worker</th>\n",
       "      <th>Paid Part-Time Worker</th>\n",
       "      <th>Total</th>\n",
       "    </tr>\n",
       "    <tr>\n",
       "      <th>hh_rg_proposed</th>\n",
       "      <th></th>\n",
       "      <th></th>\n",
       "      <th></th>\n",
       "    </tr>\n",
       "  </thead>\n",
       "  <tbody>\n",
       "    <tr>\n",
       "      <th>CitiesTowns</th>\n",
       "      <td>148,719</td>\n",
       "      <td>34,242</td>\n",
       "      <td>182,961</td>\n",
       "    </tr>\n",
       "    <tr>\n",
       "      <th>Core</th>\n",
       "      <td>405,910</td>\n",
       "      <td>97,489</td>\n",
       "      <td>503,399</td>\n",
       "    </tr>\n",
       "    <tr>\n",
       "      <th>HCT</th>\n",
       "      <td>383,231</td>\n",
       "      <td>92,053</td>\n",
       "      <td>475,284</td>\n",
       "    </tr>\n",
       "    <tr>\n",
       "      <th>Metro</th>\n",
       "      <td>596,941</td>\n",
       "      <td>135,085</td>\n",
       "      <td>732,026</td>\n",
       "    </tr>\n",
       "    <tr>\n",
       "      <th>Rural</th>\n",
       "      <td>201,394</td>\n",
       "      <td>51,428</td>\n",
       "      <td>252,822</td>\n",
       "    </tr>\n",
       "    <tr>\n",
       "      <th>UU</th>\n",
       "      <td>72,543</td>\n",
       "      <td>16,783</td>\n",
       "      <td>89,326</td>\n",
       "    </tr>\n",
       "    <tr>\n",
       "      <th>Total</th>\n",
       "      <td>1,808,738</td>\n",
       "      <td>427,080</td>\n",
       "      <td>2,235,818</td>\n",
       "    </tr>\n",
       "  </tbody>\n",
       "</table>\n",
       "</div>"
      ],
      "text/plain": [
       "pwtyp           Paid Full-Time Worker  Paid Part-Time Worker     Total\n",
       "hh_rg_proposed                                                        \n",
       "CitiesTowns                   148,719                 34,242   182,961\n",
       "Core                          405,910                 97,489   503,399\n",
       "HCT                           383,231                 92,053   475,284\n",
       "Metro                         596,941                135,085   732,026\n",
       "Rural                         201,394                 51,428   252,822\n",
       "UU                             72,543                 16,783    89,326\n",
       "Total                       1,808,738                427,080 2,235,818"
      ]
     },
     "execution_count": 7,
     "metadata": {},
     "output_type": "execute_result"
    }
   ],
   "source": [
    "df = pd.read_csv(r'..\\..\\..\\outputs\\agg\\dash\\person_geog.csv')\n",
    "df = df[df['pwtyp'].isin(['Paid Full-Time Worker', 'Paid Part-Time Worker'])]\n",
    "_df = df.pivot_table(index=geog_col, columns='pwtyp', aggfunc='sum', values='psexpfac')\n",
    "_df.to_csv(os.path.join(os.getcwd(), r'..\\..\\..\\outputs\\compare',geog,'2_employment.csv'))\n",
    "_df.loc['Total'] = _df.sum(axis=0)\n",
    "_df['Total'] = _df.sum(axis=1)\n",
    "_df"
   ]
  },
  {
   "cell_type": "markdown",
   "metadata": {},
   "source": [
    "\n",
    "### Transit Ridership\n",
    "\n",
    "#### Total trips"
   ]
  },
  {
   "cell_type": "code",
   "execution_count": 8,
   "metadata": {
    "execution": {
     "iopub.execute_input": "2024-04-03T17:40:54.071014Z",
     "iopub.status.busy": "2024-04-03T17:40:54.071014Z",
     "iopub.status.idle": "2024-04-03T17:40:54.117947Z",
     "shell.execute_reply": "2024-04-03T17:40:54.117947Z"
    }
   },
   "outputs": [
    {
     "data": {
      "text/html": [
       "<div>\n",
       "<style scoped>\n",
       "    .dataframe tbody tr th:only-of-type {\n",
       "        vertical-align: middle;\n",
       "    }\n",
       "\n",
       "    .dataframe tbody tr th {\n",
       "        vertical-align: top;\n",
       "    }\n",
       "\n",
       "    .dataframe thead th {\n",
       "        text-align: right;\n",
       "    }\n",
       "</style>\n",
       "<table border=\"1\" class=\"dataframe\">\n",
       "  <thead>\n",
       "    <tr style=\"text-align: right;\">\n",
       "      <th></th>\n",
       "      <th>trexpfac</th>\n",
       "    </tr>\n",
       "    <tr>\n",
       "      <th>hh_rg_proposed</th>\n",
       "      <th></th>\n",
       "    </tr>\n",
       "  </thead>\n",
       "  <tbody>\n",
       "    <tr>\n",
       "      <th>CitiesTowns</th>\n",
       "      <td>16,013</td>\n",
       "    </tr>\n",
       "    <tr>\n",
       "      <th>Core</th>\n",
       "      <td>107,697</td>\n",
       "    </tr>\n",
       "    <tr>\n",
       "      <th>HCT</th>\n",
       "      <td>84,812</td>\n",
       "    </tr>\n",
       "    <tr>\n",
       "      <th>Metro</th>\n",
       "      <td>284,646</td>\n",
       "    </tr>\n",
       "    <tr>\n",
       "      <th>Rural</th>\n",
       "      <td>18,577</td>\n",
       "    </tr>\n",
       "    <tr>\n",
       "      <th>UU</th>\n",
       "      <td>7,269</td>\n",
       "    </tr>\n",
       "    <tr>\n",
       "      <th>Total</th>\n",
       "      <td>519,014</td>\n",
       "    </tr>\n",
       "  </tbody>\n",
       "</table>\n",
       "</div>"
      ],
      "text/plain": [
       "                trexpfac\n",
       "hh_rg_proposed          \n",
       "CitiesTowns       16,013\n",
       "Core             107,697\n",
       "HCT               84,812\n",
       "Metro            284,646\n",
       "Rural             18,577\n",
       "UU                 7,269\n",
       "Total            519,014"
      ]
     },
     "execution_count": 8,
     "metadata": {},
     "output_type": "execute_result"
    }
   ],
   "source": [
    "# Region\n",
    "# By Agency\n",
    "\n",
    "# Transit Trips from Daysim, by location\n",
    "df = pd.read_csv(r'..\\..\\..\\outputs\\agg\\dash\\mode_share_'+geog+'.csv')\n",
    "_df = df[df['mode']=='Transit'].groupby(geog_col).sum()[['trexpfac']]\n",
    "_df.to_csv(os.path.join(os.getcwd(), r'..\\..\\..\\outputs\\compare',geog,'3_transit_trips.csv'))\n",
    "_df.loc['Total'] = _df.sum(axis=0)\n",
    "_df"
   ]
  },
  {
   "cell_type": "markdown",
   "metadata": {},
   "source": [
    "#### % Commute Trips by Transit (Home to Work direct)"
   ]
  },
  {
   "cell_type": "code",
   "execution_count": 9,
   "metadata": {
    "execution": {
     "iopub.execute_input": "2024-04-03T17:40:54.117947Z",
     "iopub.status.busy": "2024-04-03T17:40:54.117947Z",
     "iopub.status.idle": "2024-04-03T17:40:54.211606Z",
     "shell.execute_reply": "2024-04-03T17:40:54.211606Z"
    }
   },
   "outputs": [
    {
     "data": {
      "text/html": [
       "<div>\n",
       "<style scoped>\n",
       "    .dataframe tbody tr th:only-of-type {\n",
       "        vertical-align: middle;\n",
       "    }\n",
       "\n",
       "    .dataframe tbody tr th {\n",
       "        vertical-align: top;\n",
       "    }\n",
       "\n",
       "    .dataframe thead th {\n",
       "        text-align: right;\n",
       "    }\n",
       "</style>\n",
       "<table border=\"1\" class=\"dataframe\">\n",
       "  <thead>\n",
       "    <tr style=\"text-align: right;\">\n",
       "      <th></th>\n",
       "      <th>hh_rg_proposed</th>\n",
       "      <th>mode_share</th>\n",
       "    </tr>\n",
       "  </thead>\n",
       "  <tbody>\n",
       "    <tr>\n",
       "      <th>6</th>\n",
       "      <td>CitiesTowns</td>\n",
       "      <td>3.8%</td>\n",
       "    </tr>\n",
       "    <tr>\n",
       "      <th>14</th>\n",
       "      <td>Core</td>\n",
       "      <td>7.4%</td>\n",
       "    </tr>\n",
       "    <tr>\n",
       "      <th>22</th>\n",
       "      <td>HCT</td>\n",
       "      <td>6.8%</td>\n",
       "    </tr>\n",
       "    <tr>\n",
       "      <th>30</th>\n",
       "      <td>Metro</td>\n",
       "      <td>10.7%</td>\n",
       "    </tr>\n",
       "    <tr>\n",
       "      <th>38</th>\n",
       "      <td>Rural</td>\n",
       "      <td>3.9%</td>\n",
       "    </tr>\n",
       "    <tr>\n",
       "      <th>45</th>\n",
       "      <td>UU</td>\n",
       "      <td>4.0%</td>\n",
       "    </tr>\n",
       "  </tbody>\n",
       "</table>\n",
       "</div>"
      ],
      "text/plain": [
       "   hh_rg_proposed  mode_share\n",
       "6     CitiesTowns        3.8%\n",
       "14           Core        7.4%\n",
       "22            HCT        6.8%\n",
       "30          Metro       10.7%\n",
       "38          Rural        3.9%\n",
       "45             UU        4.0%"
      ]
     },
     "execution_count": 9,
     "metadata": {},
     "output_type": "execute_result"
    }
   ],
   "source": [
    "# Mode share\n",
    "df = df[df['dpurp'] == 'Work']\n",
    "_df = df.pivot_table(index=[geog_col, 'mode'], aggfunc='sum', values='trexpfac').reset_index()\n",
    "_df_tot = _df.groupby(geog_col).sum()[['trexpfac']]\n",
    "_df = _df.merge(_df_tot, how='left', on=geog_col)\n",
    "_df['mode_share'] = _df['trexpfac_x']/_df['trexpfac_y']\n",
    "\n",
    "_df = _df[_df['mode'] == 'Transit'][[geog_col,'mode_share']]\n",
    "pd.options.display.float_format = '{:0,.1%}'.format\n",
    "_df.to_csv(os.path.join(os.getcwd(), r'..\\..\\..\\outputs\\compare',geog,'4_transit_commute_share.csv'))\n",
    "_df"
   ]
  },
  {
   "cell_type": "markdown",
   "metadata": {},
   "source": [
    "## VMT"
   ]
  },
  {
   "cell_type": "code",
   "execution_count": 10,
   "metadata": {
    "execution": {
     "iopub.execute_input": "2024-04-03T17:40:54.211606Z",
     "iopub.status.busy": "2024-04-03T17:40:54.211606Z",
     "iopub.status.idle": "2024-04-03T17:40:54.414688Z",
     "shell.execute_reply": "2024-04-03T17:40:54.414688Z"
    }
   },
   "outputs": [
    {
     "data": {
      "text/html": [
       "<div>\n",
       "<style scoped>\n",
       "    .dataframe tbody tr th:only-of-type {\n",
       "        vertical-align: middle;\n",
       "    }\n",
       "\n",
       "    .dataframe tbody tr th {\n",
       "        vertical-align: top;\n",
       "    }\n",
       "\n",
       "    .dataframe thead th {\n",
       "        text-align: right;\n",
       "    }\n",
       "</style>\n",
       "<table border=\"1\" class=\"dataframe\">\n",
       "  <thead>\n",
       "    <tr style=\"text-align: right;\">\n",
       "      <th></th>\n",
       "      <th>VMT</th>\n",
       "      <th>% of VMT</th>\n",
       "    </tr>\n",
       "    <tr>\n",
       "      <th>hh_rg_proposed</th>\n",
       "      <th></th>\n",
       "      <th></th>\n",
       "    </tr>\n",
       "  </thead>\n",
       "  <tbody>\n",
       "    <tr>\n",
       "      <th>CitiesTowns</th>\n",
       "      <td>7,130,551</td>\n",
       "      <td>10.7%</td>\n",
       "    </tr>\n",
       "    <tr>\n",
       "      <th>Core</th>\n",
       "      <td>14,583,971</td>\n",
       "      <td>22.0%</td>\n",
       "    </tr>\n",
       "    <tr>\n",
       "      <th>HCT</th>\n",
       "      <td>15,007,008</td>\n",
       "      <td>22.6%</td>\n",
       "    </tr>\n",
       "    <tr>\n",
       "      <th>Metro</th>\n",
       "      <td>13,821,090</td>\n",
       "      <td>20.8%</td>\n",
       "    </tr>\n",
       "    <tr>\n",
       "      <th>Rural</th>\n",
       "      <td>12,555,157</td>\n",
       "      <td>18.9%</td>\n",
       "    </tr>\n",
       "    <tr>\n",
       "      <th>UU</th>\n",
       "      <td>3,257,624</td>\n",
       "      <td>4.9%</td>\n",
       "    </tr>\n",
       "    <tr>\n",
       "      <th>Total</th>\n",
       "      <td>66,355,402</td>\n",
       "      <td>100.0%</td>\n",
       "    </tr>\n",
       "  </tbody>\n",
       "</table>\n",
       "</div>"
      ],
      "text/plain": [
       "                      VMT % of VMT\n",
       "hh_rg_proposed                    \n",
       "CitiesTowns     7,130,551    10.7%\n",
       "Core           14,583,971    22.0%\n",
       "HCT            15,007,008    22.6%\n",
       "Metro          13,821,090    20.8%\n",
       "Rural          12,555,157    18.9%\n",
       "UU              3,257,624     4.9%\n",
       "Total          66,355,402   100.0%"
      ]
     },
     "execution_count": 10,
     "metadata": {},
     "output_type": "execute_result"
    },
    {
     "data": {
      "image/png": "[encoded data removed]",
      "text/plain": [
       "<Figure size 432x288 with 1 Axes>"
      ]
     },
     "metadata": {
      "needs_background": "light"
     },
     "output_type": "display_data"
    }
   ],
   "source": [
    "pd.options.display.float_format = '{:0,.0f}'.format\n",
    "# aggfunc sum trips filtered by dorp==1 and auto modes | groupby hh_rg_proposed\n",
    "# hh_rg_proposed, \n",
    "df = pd.read_csv(r'..\\..\\..\\outputs\\agg\\dash\\person_vmt.csv')\n",
    "df = df[(df['dorp'] == 1) & (df['mode'].isin(['SOV','HOV2','HOV3+']))]\n",
    "_df = df.groupby(geog_col).sum()[['travdist_wt']]\n",
    "_df['% of VMT'] = (_df/_df.sum()).astype('float')\n",
    "_df.rename(columns={'travdist_wt': 'VMT'}, inplace=True)\n",
    "_df.to_csv(os.path.join(os.getcwd(), r'..\\..\\..\\outputs\\compare',geog,'5_vmt.csv'))\n",
    "_df[['VMT']].plot(kind='barh', alpha=0.6)\n",
    "_df.loc['Total'] = _df.sum(axis=0)\n",
    "_df['% of VMT'] = _df['% of VMT'].apply('{:0,.1%}'.format)\n",
    "_df"
   ]
  },
  {
   "cell_type": "code",
   "execution_count": 11,
   "metadata": {
    "execution": {
     "iopub.execute_input": "2024-04-03T17:40:54.414688Z",
     "iopub.status.busy": "2024-04-03T17:40:54.414688Z",
     "iopub.status.idle": "2024-04-03T17:40:54.602143Z",
     "shell.execute_reply": "2024-04-03T17:40:54.602143Z"
    }
   },
   "outputs": [
    {
     "data": {
      "text/html": [
       "<div>\n",
       "<style scoped>\n",
       "    .dataframe tbody tr th:only-of-type {\n",
       "        vertical-align: middle;\n",
       "    }\n",
       "\n",
       "    .dataframe tbody tr th {\n",
       "        vertical-align: top;\n",
       "    }\n",
       "\n",
       "    .dataframe thead th {\n",
       "        text-align: right;\n",
       "    }\n",
       "</style>\n",
       "<table border=\"1\" class=\"dataframe\">\n",
       "  <thead>\n",
       "    <tr style=\"text-align: right;\">\n",
       "      <th></th>\n",
       "      <th>VHT</th>\n",
       "      <th>% of VHT</th>\n",
       "    </tr>\n",
       "    <tr>\n",
       "      <th>hh_rg_proposed</th>\n",
       "      <th></th>\n",
       "      <th></th>\n",
       "    </tr>\n",
       "  </thead>\n",
       "  <tbody>\n",
       "    <tr>\n",
       "      <th>CitiesTowns</th>\n",
       "      <td>250,443</td>\n",
       "      <td>9.4%</td>\n",
       "    </tr>\n",
       "    <tr>\n",
       "      <th>Core</th>\n",
       "      <td>582,842</td>\n",
       "      <td>21.9%</td>\n",
       "    </tr>\n",
       "    <tr>\n",
       "      <th>HCT</th>\n",
       "      <td>597,810</td>\n",
       "      <td>22.5%</td>\n",
       "    </tr>\n",
       "    <tr>\n",
       "      <th>Metro</th>\n",
       "      <td>660,339</td>\n",
       "      <td>24.8%</td>\n",
       "    </tr>\n",
       "    <tr>\n",
       "      <th>Rural</th>\n",
       "      <td>443,446</td>\n",
       "      <td>16.7%</td>\n",
       "    </tr>\n",
       "    <tr>\n",
       "      <th>UU</th>\n",
       "      <td>122,434</td>\n",
       "      <td>4.6%</td>\n",
       "    </tr>\n",
       "    <tr>\n",
       "      <th>Total</th>\n",
       "      <td>2,657,316</td>\n",
       "      <td>100.0%</td>\n",
       "    </tr>\n",
       "  </tbody>\n",
       "</table>\n",
       "</div>"
      ],
      "text/plain": [
       "                     VHT % of VHT\n",
       "hh_rg_proposed                   \n",
       "CitiesTowns      250,443     9.4%\n",
       "Core             582,842    21.9%\n",
       "HCT              597,810    22.5%\n",
       "Metro            660,339    24.8%\n",
       "Rural            443,446    16.7%\n",
       "UU               122,434     4.6%\n",
       "Total          2,657,316   100.0%"
      ]
     },
     "execution_count": 11,
     "metadata": {},
     "output_type": "execute_result"
    },
    {
     "data": {
      "image/png": "[encoded data removed]",
      "text/plain": [
       "<Figure size 432x288 with 1 Axes>"
      ]
     },
     "metadata": {
      "needs_background": "light"
     },
     "output_type": "display_data"
    }
   ],
   "source": [
    "pd.options.display.float_format = '{:0,.0f}'.format\n",
    "# aggfunc sum trips filtered by dorp==1 and auto modes | groupby hh_rg_proposed\n",
    "# hh_rg_proposed, \n",
    "df = pd.read_csv(r'..\\..\\..\\outputs\\agg\\dash\\person_vht.csv')\n",
    "df = df[(df['dorp'] == 1) & (df['mode'].isin(['SOV','HOV2','HOV3+']))]\n",
    "_df = df.groupby(geog_col).sum()[['travtime_wt']]/60.0\n",
    "_df['% of VHT'] = (_df/_df.sum()).astype('float')\n",
    "_df.rename(columns={'travtime_wt': 'VHT'}, inplace=True)\n",
    "_df[['VHT']].plot(kind='barh', alpha=0.6)\n",
    "_df.loc['Total'] = _df.sum(axis=0)\n",
    "_df['% of VHT'] = _df['% of VHT'].apply('{:0,.1%}'.format)\n",
    "_df.to_csv(os.path.join(os.getcwd(), r'..\\..\\..\\outputs\\compare',geog,'6_vht.csv'))\n",
    "_df"
   ]
  },
  {
   "cell_type": "markdown",
   "metadata": {},
   "source": [
    "## Delay\n",
    "Calculated based on Household Location"
   ]
  },
  {
   "cell_type": "code",
   "execution_count": 12,
   "metadata": {
    "execution": {
     "iopub.execute_input": "2024-04-03T17:40:54.602143Z",
     "iopub.status.busy": "2024-04-03T17:40:54.602143Z",
     "iopub.status.idle": "2024-04-03T17:40:54.617765Z",
     "shell.execute_reply": "2024-04-03T17:40:54.617765Z"
    }
   },
   "outputs": [],
   "source": [
    "# might need to be calculated individually?\n",
    "# create a delay summary from total vmt and total sov_ff_time"
   ]
  },
  {
   "cell_type": "code",
   "execution_count": 13,
   "metadata": {
    "execution": {
     "iopub.execute_input": "2024-04-03T17:40:54.617765Z",
     "iopub.status.busy": "2024-04-03T17:40:54.617765Z",
     "iopub.status.idle": "2024-04-03T17:40:54.695874Z",
     "shell.execute_reply": "2024-04-03T17:40:54.695874Z"
    }
   },
   "outputs": [
    {
     "data": {
      "text/html": [
       "<div>\n",
       "<style scoped>\n",
       "    .dataframe tbody tr th:only-of-type {\n",
       "        vertical-align: middle;\n",
       "    }\n",
       "\n",
       "    .dataframe tbody tr th {\n",
       "        vertical-align: top;\n",
       "    }\n",
       "\n",
       "    .dataframe thead th {\n",
       "        text-align: right;\n",
       "    }\n",
       "</style>\n",
       "<table border=\"1\" class=\"dataframe\">\n",
       "  <thead>\n",
       "    <tr style=\"text-align: right;\">\n",
       "      <th></th>\n",
       "      <th>VHT</th>\n",
       "      <th>% of VHT</th>\n",
       "    </tr>\n",
       "    <tr>\n",
       "      <th>hh_rg_proposed</th>\n",
       "      <th></th>\n",
       "      <th></th>\n",
       "    </tr>\n",
       "  </thead>\n",
       "  <tbody>\n",
       "    <tr>\n",
       "      <th>CitiesTowns</th>\n",
       "      <td>250,443</td>\n",
       "      <td>9.4%</td>\n",
       "    </tr>\n",
       "    <tr>\n",
       "      <th>Core</th>\n",
       "      <td>582,842</td>\n",
       "      <td>21.9%</td>\n",
       "    </tr>\n",
       "    <tr>\n",
       "      <th>HCT</th>\n",
       "      <td>597,810</td>\n",
       "      <td>22.5%</td>\n",
       "    </tr>\n",
       "    <tr>\n",
       "      <th>Metro</th>\n",
       "      <td>660,339</td>\n",
       "      <td>24.8%</td>\n",
       "    </tr>\n",
       "    <tr>\n",
       "      <th>Rural</th>\n",
       "      <td>443,446</td>\n",
       "      <td>16.7%</td>\n",
       "    </tr>\n",
       "    <tr>\n",
       "      <th>UU</th>\n",
       "      <td>122,434</td>\n",
       "      <td>4.6%</td>\n",
       "    </tr>\n",
       "    <tr>\n",
       "      <th>Total</th>\n",
       "      <td>2,657,316</td>\n",
       "      <td>100.0%</td>\n",
       "    </tr>\n",
       "  </tbody>\n",
       "</table>\n",
       "</div>"
      ],
      "text/plain": [
       "                     VHT % of VHT\n",
       "hh_rg_proposed                   \n",
       "CitiesTowns      250,443     9.4%\n",
       "Core             582,842    21.9%\n",
       "HCT              597,810    22.5%\n",
       "Metro            660,339    24.8%\n",
       "Rural            443,446    16.7%\n",
       "UU               122,434     4.6%\n",
       "Total          2,657,316   100.0%"
      ]
     },
     "execution_count": 13,
     "metadata": {},
     "output_type": "execute_result"
    }
   ],
   "source": [
    "df = pd.read_csv(r'..\\..\\..\\outputs\\agg\\dash\\trip_time_total.csv')\n",
    "df = df.groupby(geog_col).sum()[['travtime_wt']]\n",
    "\n",
    "df2 = pd.read_csv(r'..\\..\\..\\outputs\\agg\\dash\\trip_sov_ff_time.csv')\n",
    "df2 = df2.groupby(geog_col).sum()[['sov_ff_time_wt']]\n",
    "df = df2.merge(df, on=geog_col)\n",
    "\n",
    "# Hours of delay from travel time (in min)\n",
    "df['Total Delay Hours'] = (df['travtime_wt'] - df['sov_ff_time_wt'])/60\n",
    "\n",
    "pd.options.display.float_format = '{:0,.0f}'.format\n",
    "# Hours of delay for households in these locations\n",
    "df[['Total Delay Hours']]\n",
    "\n",
    "_df"
   ]
  },
  {
   "cell_type": "markdown",
   "metadata": {},
   "source": [
    "#### Average Delay Minutes per Household (per Weekday)"
   ]
  },
  {
   "cell_type": "code",
   "execution_count": 14,
   "metadata": {
    "execution": {
     "iopub.execute_input": "2024-04-03T17:40:54.695874Z",
     "iopub.status.busy": "2024-04-03T17:40:54.695874Z",
     "iopub.status.idle": "2024-04-03T17:40:54.742805Z",
     "shell.execute_reply": "2024-04-03T17:40:54.742805Z"
    }
   },
   "outputs": [
    {
     "data": {
      "text/html": [
       "<div>\n",
       "<style scoped>\n",
       "    .dataframe tbody tr th:only-of-type {\n",
       "        vertical-align: middle;\n",
       "    }\n",
       "\n",
       "    .dataframe tbody tr th {\n",
       "        vertical-align: top;\n",
       "    }\n",
       "\n",
       "    .dataframe thead th {\n",
       "        text-align: right;\n",
       "    }\n",
       "</style>\n",
       "<table border=\"1\" class=\"dataframe\">\n",
       "  <thead>\n",
       "    <tr style=\"text-align: right;\">\n",
       "      <th></th>\n",
       "      <th>Avg. Minutes of Delay per Household</th>\n",
       "    </tr>\n",
       "    <tr>\n",
       "      <th>hh_rg_proposed</th>\n",
       "      <th></th>\n",
       "    </tr>\n",
       "  </thead>\n",
       "  <tbody>\n",
       "    <tr>\n",
       "      <th>CitiesTowns</th>\n",
       "      <td>11.9</td>\n",
       "    </tr>\n",
       "    <tr>\n",
       "      <th>Core</th>\n",
       "      <td>10.2</td>\n",
       "    </tr>\n",
       "    <tr>\n",
       "      <th>HCT</th>\n",
       "      <td>12.4</td>\n",
       "    </tr>\n",
       "    <tr>\n",
       "      <th>Metro</th>\n",
       "      <td>6.3</td>\n",
       "    </tr>\n",
       "    <tr>\n",
       "      <th>Rural</th>\n",
       "      <td>10.3</td>\n",
       "    </tr>\n",
       "    <tr>\n",
       "      <th>UU</th>\n",
       "      <td>12.5</td>\n",
       "    </tr>\n",
       "  </tbody>\n",
       "</table>\n",
       "</div>"
      ],
      "text/plain": [
       "                Avg. Minutes of Delay per Household\n",
       "hh_rg_proposed                                     \n",
       "CitiesTowns                                    11.9\n",
       "Core                                           10.2\n",
       "HCT                                            12.4\n",
       "Metro                                           6.3\n",
       "Rural                                          10.3\n",
       "UU                                             12.5"
      ]
     },
     "execution_count": 14,
     "metadata": {},
     "output_type": "execute_result"
    }
   ],
   "source": [
    "# Average minutes of delay per household\n",
    "pd.options.display.float_format = '{:0,.1f}'.format\n",
    "_df = _df_hh.merge(df[['Total Delay Hours']], left_index=True, right_index=True)\n",
    "df['Avg. Minutes of Delay per Household'] = df['Total Delay Hours']/_df['hhexpfac']*60\n",
    "df.to_csv(os.path.join(os.getcwd(), r'..\\..\\..\\outputs\\compare',geog,'7_delay.csv'))\n",
    "\n",
    "df[['Avg. Minutes of Delay per Household']]"
   ]
  },
  {
   "cell_type": "code",
   "execution_count": null,
   "metadata": {},
   "outputs": [],
   "source": []
  }
 ],
 "metadata": {
  "kernelspec": {
   "display_name": "Python 3",
   "language": "python",
   "name": "python3"
  },
  "language_info": {
   "codemirror_mode": {
    "name": "ipython",
    "version": 3
   },
   "file_extension": ".py",
   "mimetype": "text/x-python",
   "name": "python",
   "nbconvert_exporter": "python",
   "pygments_lexer": "ipython3",
   "version": "3.7.10"
  }
 },
 "nbformat": 4,
 "nbformat_minor": 4
}
