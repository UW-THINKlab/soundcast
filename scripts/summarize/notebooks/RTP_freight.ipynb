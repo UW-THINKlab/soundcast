{
 "cells": [
  {
   "cell_type": "code",
   "execution_count": 1,
   "id": "14efb4e1",
   "metadata": {
    "execution": {
     "iopub.execute_input": "2024-04-03T17:37:35.112357Z",
     "iopub.status.busy": "2024-04-03T17:37:35.112357Z",
     "iopub.status.idle": "2024-04-03T17:37:36.320338Z",
     "shell.execute_reply": "2024-04-03T17:37:36.319332Z"
    }
   },
   "outputs": [],
   "source": [
    "import os, sys, time\n",
    "import warnings\n",
    "warnings.simplefilter(action='ignore', category=FutureWarning)\n",
    "import pandas as pd\n",
    "pd.options.mode.chained_assignment = None\n",
    "import h5py\n",
    "import geopandas as gpd\n",
    "import toml\n",
    "config = toml.load('../../../configuration/input_configuration.toml')\n",
    "os.sys.path.append(os.path.join(os.getcwd(),r'..\\standard'))\n",
    "sys.path.append(os.path.join(os.getcwd(),r'..\\..\\..'))\n",
    "# import summary_helpers\n",
    "\n",
    "%matplotlib inline\n",
    "\n",
    "from IPython.display import display, HTML\n",
    "\n",
    "if (sys.version_info < (3, 0)):\n",
    "    HTML('''<script>\n",
    "    code_show=true; \n",
    "    function code_toggle() {\n",
    "     if (code_show){\n",
    "     $('div.input').hide();\n",
    "     } else {\n",
    "     $('div.input').show();\n",
    "     }\n",
    "     code_show = !code_show\n",
    "    } \n",
    "    $( document ).ready(code_toggle);\n",
    "    </script>\n",
    "    <form action=\"javascript:code_toggle()\"><input type=\"submit\" value=\"Click here to toggle on/off the raw code.\"></form>''')\n"
   ]
  },
  {
   "cell_type": "code",
   "execution_count": 2,
   "id": "94a64703",
   "metadata": {
    "execution": {
     "iopub.execute_input": "2024-04-03T17:37:36.326321Z",
     "iopub.status.busy": "2024-04-03T17:37:36.326321Z",
     "iopub.status.idle": "2024-04-03T17:37:36.335298Z",
     "shell.execute_reply": "2024-04-03T17:37:36.334299Z"
    }
   },
   "outputs": [],
   "source": [
    "CSS = \"\"\"\n",
    ".output {\n",
    "    flex-direction: row;\n",
    "}\n",
    "\"\"\"\n",
    "\n",
    "HTML('<style>{}</style>'.format(CSS))\n",
    "\n",
    "# Relative path between notebooks and goruped output directories\n",
    "relative_path = '../../../outputs'\n",
    "survey_path = '../../../inputs/base_year/survey'"
   ]
  },
  {
   "cell_type": "code",
   "execution_count": 3,
   "id": "84b35b22",
   "metadata": {
    "execution": {
     "iopub.execute_input": "2024-04-03T17:37:36.341281Z",
     "iopub.status.busy": "2024-04-03T17:37:36.340285Z",
     "iopub.status.idle": "2024-04-03T17:37:36.350997Z",
     "shell.execute_reply": "2024-04-03T17:37:36.349991Z"
    }
   },
   "outputs": [],
   "source": [
    "pd.options.display.float_format = '{:0,.0f}'.format"
   ]
  },
  {
   "cell_type": "code",
   "execution_count": 4,
   "id": "dd5ec5e8",
   "metadata": {
    "execution": {
     "iopub.execute_input": "2024-04-03T17:37:36.355983Z",
     "iopub.status.busy": "2024-04-03T17:37:36.355983Z",
     "iopub.status.idle": "2024-04-03T17:37:36.398470Z",
     "shell.execute_reply": "2024-04-03T17:37:36.397472Z"
    }
   },
   "outputs": [],
   "source": [
    "def load_network_summary(filepath):\n",
    "    \"\"\"Load network-level results using a standard procedure. \"\"\"\n",
    "    df = pd.read_csv(filepath)\n",
    "\n",
    "    # Congested network components by time of day\n",
    "    df.columns\n",
    "\n",
    "    # Get freeflow from 20to5 period\n",
    "\n",
    "    # Exclude trips taken on non-designated facilities (facility_type == 0)\n",
    "    # These are artificial (weave lanes to connect HOV) or for non-auto uses \n",
    "    df = df[df['data3'] != 0]    # data3 represents facility_type\n",
    "\n",
    "    # calculate total link VMT and VHT\n",
    "    df['VMT'] = df['@tveh']*df['length']\n",
    "    df['VHT'] = df['@tveh']*df['auto_time']/60\n",
    "\n",
    "    # Define facility type\n",
    "    df.loc[df['data3'].isin([1,2]), 'facility_type'] = 'highway'\n",
    "    df.loc[df['data3'].isin([3,4,6]), 'facility_type'] = 'arterial'\n",
    "    df.loc[df['data3'].isin([5]), 'facility_type'] = 'connector'\n",
    "\n",
    "    # Calculate delay\n",
    "    # Select links from overnight time of day\n",
    "    delay_df = df.loc[df['tod'] == '20to5'][['ij','auto_time']]\n",
    "    delay_df.rename(columns={'auto_time':'freeflow_time'}, inplace=True)\n",
    "\n",
    "    # Merge delay field back onto network link df\n",
    "    df = pd.merge(df, delay_df, on='ij', how='left')\n",
    "\n",
    "    # Calcualte hourly delay\n",
    "    df['total_delay'] = ((df['auto_time']-df['freeflow_time'])*df['@tveh'])/60    # sum of (volume)*(travtime diff from freeflow)\n",
    "\n",
    "    df['county'] =df['@countyid'].map({33: 'King',\n",
    "                                      35: 'Kitsap',\n",
    "                                      53: 'Pierce',\n",
    "                                      61: 'Snohomish'})\n",
    "    \n",
    "    return df"
   ]
  },
  {
   "cell_type": "markdown",
   "id": "8aa9026c",
   "metadata": {},
   "source": [
    "# Truck Miles Traveled by Type\n",
    "Daily Total"
   ]
  },
  {
   "cell_type": "code",
   "execution_count": 5,
   "id": "b91883f0",
   "metadata": {
    "execution": {
     "iopub.execute_input": "2024-04-03T17:37:36.404453Z",
     "iopub.status.busy": "2024-04-03T17:37:36.403457Z",
     "iopub.status.idle": "2024-04-03T17:37:44.984940Z",
     "shell.execute_reply": "2024-04-03T17:37:44.983943Z"
    }
   },
   "outputs": [],
   "source": [
    "df = load_network_summary(os.path.join(relative_path,'network',r'network_results.csv'))\n",
    "df['medium_truck_vmt'] = df['@mveh']*df['length']\n",
    "df['heavy_truck_vmt'] = df['@hveh']*df['length']"
   ]
  },
  {
   "cell_type": "code",
   "execution_count": 6,
   "id": "7a3f3227",
   "metadata": {
    "execution": {
     "iopub.execute_input": "2024-04-03T17:37:44.990924Z",
     "iopub.status.busy": "2024-04-03T17:37:44.990924Z",
     "iopub.status.idle": "2024-04-03T17:37:46.080018Z",
     "shell.execute_reply": "2024-04-03T17:37:46.079021Z"
    }
   },
   "outputs": [
    {
     "data": {
      "text/html": [
       "<table border=\"1\" class=\"dataframe\">\n",
       "  <thead>\n",
       "    <tr style=\"text-align: right;\">\n",
       "      <th>County</th>\n",
       "      <th>Medium Trucks</th>\n",
       "      <th>Heavy Trucks</th>\n",
       "    </tr>\n",
       "  </thead>\n",
       "  <tbody>\n",
       "    <tr>\n",
       "      <td>King</td>\n",
       "      <td>2,105,100</td>\n",
       "      <td>1,553,728</td>\n",
       "    </tr>\n",
       "    <tr>\n",
       "      <td>Kitsap</td>\n",
       "      <td>167,943</td>\n",
       "      <td>83,100</td>\n",
       "    </tr>\n",
       "    <tr>\n",
       "      <td>Pierce</td>\n",
       "      <td>595,994</td>\n",
       "      <td>591,454</td>\n",
       "    </tr>\n",
       "    <tr>\n",
       "      <td>Snohomish</td>\n",
       "      <td>593,833</td>\n",
       "      <td>590,045</td>\n",
       "    </tr>\n",
       "    <tr>\n",
       "      <td>Total</td>\n",
       "      <td>3,462,871</td>\n",
       "      <td>2,818,326</td>\n",
       "    </tr>\n",
       "  </tbody>\n",
       "</table>"
      ],
      "text/plain": [
       "<IPython.core.display.HTML object>"
      ]
     },
     "execution_count": 6,
     "metadata": {},
     "output_type": "execute_result"
    }
   ],
   "source": [
    "_df = df.groupby('county').sum()[['medium_truck_vmt','heavy_truck_vmt']]\n",
    "_df.loc['Total',:] = _df.sum()\n",
    "_df = _df.reset_index()\n",
    "_df.rename(columns={'county':'County', 'medium_truck_vmt': 'Medium Trucks', 'heavy_truck_vmt': 'Heavy Trucks'}, inplace=True)\n",
    "_df.to_csv(os.path.join(os.getcwd(), r'..\\..\\..\\outputs\\compare\\RTP','truck_vmt.csv'))\n",
    "HTML(_df.to_html(index=False))"
   ]
  },
  {
   "cell_type": "code",
   "execution_count": 7,
   "id": "9992bef2",
   "metadata": {
    "execution": {
     "iopub.execute_input": "2024-04-03T17:37:46.083009Z",
     "iopub.status.busy": "2024-04-03T17:37:46.083009Z",
     "iopub.status.idle": "2024-04-03T17:37:46.301421Z",
     "shell.execute_reply": "2024-04-03T17:37:46.300417Z"
    }
   },
   "outputs": [],
   "source": [
    "# Results by Congestion Level\n",
    "df['speed'] = df['length']/df['auto_time']*60\n",
    "df['congestion_index'] = df['speed']/df['data2']\n",
    "df['congestion_index'] = df['congestion_index'].clip(0,1)\n",
    "df['congestion_category'] = pd.cut(df['congestion_index'], bins=[0,.25,.5,.7,1], labels=['Severe','Heavy','Moderate','Light'])"
   ]
  },
  {
   "cell_type": "markdown",
   "id": "29ec1285",
   "metadata": {},
   "source": [
    "AM Peak (5 - 9 am)"
   ]
  },
  {
   "cell_type": "code",
   "execution_count": 8,
   "id": "f4ceaef0",
   "metadata": {
    "execution": {
     "iopub.execute_input": "2024-04-03T17:37:46.307397Z",
     "iopub.status.busy": "2024-04-03T17:37:46.307397Z",
     "iopub.status.idle": "2024-04-03T17:37:46.731594Z",
     "shell.execute_reply": "2024-04-03T17:37:46.730521Z"
    }
   },
   "outputs": [
    {
     "data": {
      "text/html": [
       "<div>\n",
       "<style scoped>\n",
       "    .dataframe tbody tr th:only-of-type {\n",
       "        vertical-align: middle;\n",
       "    }\n",
       "\n",
       "    .dataframe tbody tr th {\n",
       "        vertical-align: top;\n",
       "    }\n",
       "\n",
       "    .dataframe thead th {\n",
       "        text-align: right;\n",
       "    }\n",
       "</style>\n",
       "<table border=\"1\" class=\"dataframe\">\n",
       "  <thead>\n",
       "    <tr style=\"text-align: right;\">\n",
       "      <th></th>\n",
       "      <th>King</th>\n",
       "      <th>Kitsap</th>\n",
       "      <th>Pierce</th>\n",
       "      <th>Snohomish</th>\n",
       "    </tr>\n",
       "  </thead>\n",
       "  <tbody>\n",
       "    <tr>\n",
       "      <th>Light</th>\n",
       "      <td>566,700</td>\n",
       "      <td>49,575</td>\n",
       "      <td>189,292</td>\n",
       "      <td>215,231</td>\n",
       "    </tr>\n",
       "    <tr>\n",
       "      <th>Moderate</th>\n",
       "      <td>130,124</td>\n",
       "      <td>1,189</td>\n",
       "      <td>48,898</td>\n",
       "      <td>22,934</td>\n",
       "    </tr>\n",
       "    <tr>\n",
       "      <th>Heavy</th>\n",
       "      <td>79,525</td>\n",
       "      <td>969</td>\n",
       "      <td>12,425</td>\n",
       "      <td>13,546</td>\n",
       "    </tr>\n",
       "    <tr>\n",
       "      <th>Severe</th>\n",
       "      <td>3,685</td>\n",
       "      <td>26</td>\n",
       "      <td>1,614</td>\n",
       "      <td>359</td>\n",
       "    </tr>\n",
       "    <tr>\n",
       "      <th>Total</th>\n",
       "      <td>780,034</td>\n",
       "      <td>51,760</td>\n",
       "      <td>252,228</td>\n",
       "      <td>252,070</td>\n",
       "    </tr>\n",
       "  </tbody>\n",
       "</table>\n",
       "</div>"
      ],
      "text/plain": [
       "            King  Kitsap  Pierce  Snohomish\n",
       "Light    566,700  49,575 189,292    215,231\n",
       "Moderate 130,124   1,189  48,898     22,934\n",
       "Heavy     79,525     969  12,425     13,546\n",
       "Severe     3,685      26   1,614        359\n",
       "Total    780,034  51,760 252,228    252,070"
      ]
     },
     "execution_count": 8,
     "metadata": {},
     "output_type": "execute_result"
    }
   ],
   "source": [
    "df['Medium and Heavy Trucks'] = df['heavy_truck_vmt']+df['medium_truck_vmt']\n",
    "\n",
    "_df = df[df['tod'].isin(['5to6','6to7','7to8','8to9'])]\n",
    "_df = _df.pivot_table(index='congestion_category',columns='county',\n",
    "               aggfunc='sum',values='Medium and Heavy Trucks')\n",
    "_df = _df.reindex(['Light','Moderate','Heavy','Severe'])\n",
    "_df.index.name = None\n",
    "_df.columns.name = None\n",
    "_df.loc['Total',:] = _df.sum()\n",
    "_df.to_csv(os.path.join(os.getcwd(), r'..\\..\\..\\outputs\\compare\\RTP','truck_vmt_am.csv'))\n",
    "_df"
   ]
  },
  {
   "cell_type": "markdown",
   "id": "22af8846",
   "metadata": {},
   "source": [
    "PM Peak (3 - 6 pm)"
   ]
  },
  {
   "cell_type": "code",
   "execution_count": 9,
   "id": "89827ed0",
   "metadata": {
    "execution": {
     "iopub.execute_input": "2024-04-03T17:37:46.737575Z",
     "iopub.status.busy": "2024-04-03T17:37:46.737575Z",
     "iopub.status.idle": "2024-04-03T17:37:46.895330Z",
     "shell.execute_reply": "2024-04-03T17:37:46.895330Z"
    }
   },
   "outputs": [
    {
     "data": {
      "text/html": [
       "<div>\n",
       "<style scoped>\n",
       "    .dataframe tbody tr th:only-of-type {\n",
       "        vertical-align: middle;\n",
       "    }\n",
       "\n",
       "    .dataframe tbody tr th {\n",
       "        vertical-align: top;\n",
       "    }\n",
       "\n",
       "    .dataframe thead th {\n",
       "        text-align: right;\n",
       "    }\n",
       "</style>\n",
       "<table border=\"1\" class=\"dataframe\">\n",
       "  <thead>\n",
       "    <tr style=\"text-align: right;\">\n",
       "      <th></th>\n",
       "      <th>King</th>\n",
       "      <th>Kitsap</th>\n",
       "      <th>Pierce</th>\n",
       "      <th>Snohomish</th>\n",
       "    </tr>\n",
       "  </thead>\n",
       "  <tbody>\n",
       "    <tr>\n",
       "      <th>Light</th>\n",
       "      <td>453,366</td>\n",
       "      <td>42,861</td>\n",
       "      <td>148,380</td>\n",
       "      <td>173,211</td>\n",
       "    </tr>\n",
       "    <tr>\n",
       "      <th>Moderate</th>\n",
       "      <td>136,146</td>\n",
       "      <td>604</td>\n",
       "      <td>47,066</td>\n",
       "      <td>31,939</td>\n",
       "    </tr>\n",
       "    <tr>\n",
       "      <th>Heavy</th>\n",
       "      <td>77,400</td>\n",
       "      <td>846</td>\n",
       "      <td>18,998</td>\n",
       "      <td>10,403</td>\n",
       "    </tr>\n",
       "    <tr>\n",
       "      <th>Severe</th>\n",
       "      <td>4,544</td>\n",
       "      <td>32</td>\n",
       "      <td>438</td>\n",
       "      <td>364</td>\n",
       "    </tr>\n",
       "    <tr>\n",
       "      <th>Total</th>\n",
       "      <td>671,455</td>\n",
       "      <td>44,343</td>\n",
       "      <td>214,883</td>\n",
       "      <td>215,917</td>\n",
       "    </tr>\n",
       "  </tbody>\n",
       "</table>\n",
       "</div>"
      ],
      "text/plain": [
       "            King  Kitsap  Pierce  Snohomish\n",
       "Light    453,366  42,861 148,380    173,211\n",
       "Moderate 136,146     604  47,066     31,939\n",
       "Heavy     77,400     846  18,998     10,403\n",
       "Severe     4,544      32     438        364\n",
       "Total    671,455  44,343 214,883    215,917"
      ]
     },
     "execution_count": 9,
     "metadata": {},
     "output_type": "execute_result"
    }
   ],
   "source": [
    "_df = df[df['tod'].isin(['15to16','16to17','17to18'])]\n",
    "_df = _df.pivot_table(index='congestion_category',columns='county',\n",
    "               aggfunc='sum',values='Medium and Heavy Trucks')\n",
    "_df = _df.reindex(['Light','Moderate','Heavy','Severe'])\n",
    "_df.index.name = None\n",
    "_df.columns.name = None\n",
    "_df.loc['Total',:] = _df.sum()\n",
    "_df.to_csv(os.path.join(os.getcwd(), r'..\\..\\..\\outputs\\compare\\RTP','truck_vmt_pm.csv'))\n",
    "_df"
   ]
  },
  {
   "cell_type": "markdown",
   "id": "821c664a",
   "metadata": {},
   "source": [
    "# Share of Truck Miles by Truck Type\n",
    "Daily Total"
   ]
  },
  {
   "cell_type": "code",
   "execution_count": 10,
   "id": "025d7284",
   "metadata": {
    "execution": {
     "iopub.execute_input": "2024-04-03T17:37:46.895330Z",
     "iopub.status.busy": "2024-04-03T17:37:46.895330Z",
     "iopub.status.idle": "2024-04-03T17:37:47.360364Z",
     "shell.execute_reply": "2024-04-03T17:37:47.360364Z"
    }
   },
   "outputs": [
    {
     "data": {
      "text/html": [
       "<div>\n",
       "<style scoped>\n",
       "    .dataframe tbody tr th:only-of-type {\n",
       "        vertical-align: middle;\n",
       "    }\n",
       "\n",
       "    .dataframe tbody tr th {\n",
       "        vertical-align: top;\n",
       "    }\n",
       "\n",
       "    .dataframe thead th {\n",
       "        text-align: right;\n",
       "    }\n",
       "</style>\n",
       "<table border=\"1\" class=\"dataframe\">\n",
       "  <thead>\n",
       "    <tr style=\"text-align: right;\">\n",
       "      <th></th>\n",
       "      <th>King</th>\n",
       "      <th>Kitsap</th>\n",
       "      <th>Pierce</th>\n",
       "      <th>Snohomish</th>\n",
       "    </tr>\n",
       "  </thead>\n",
       "  <tbody>\n",
       "    <tr>\n",
       "      <th>Medium Trucks</th>\n",
       "      <td>2,105,100</td>\n",
       "      <td>167,943</td>\n",
       "      <td>595,994</td>\n",
       "      <td>593,833</td>\n",
       "    </tr>\n",
       "    <tr>\n",
       "      <th>Heavy Trucks</th>\n",
       "      <td>1,553,728</td>\n",
       "      <td>83,100</td>\n",
       "      <td>591,454</td>\n",
       "      <td>590,045</td>\n",
       "    </tr>\n",
       "    <tr>\n",
       "      <th>Total</th>\n",
       "      <td>3,658,828</td>\n",
       "      <td>251,043</td>\n",
       "      <td>1,187,448</td>\n",
       "      <td>1,183,878</td>\n",
       "    </tr>\n",
       "  </tbody>\n",
       "</table>\n",
       "</div>"
      ],
      "text/plain": [
       "                   King  Kitsap    Pierce  Snohomish\n",
       "Medium Trucks 2,105,100 167,943   595,994    593,833\n",
       "Heavy Trucks  1,553,728  83,100   591,454    590,045\n",
       "Total         3,658,828 251,043 1,187,448  1,183,878"
      ]
     },
     "execution_count": 10,
     "metadata": {},
     "output_type": "execute_result"
    }
   ],
   "source": [
    "_df = df[['medium_truck_vmt','heavy_truck_vmt','county']].melt(\n",
    "    id_vars='county', var_name='Truck Type')\n",
    "_df = _df.pivot_table(index='Truck Type', columns='county', \n",
    "                values='value', aggfunc='sum')\n",
    "_df.rename(index={'heavy_truck_vmt': 'Heavy Trucks',\n",
    "                 'medium_truck_vmt': 'Medium Trucks'}, inplace=True)\n",
    "_df.index.name = None\n",
    "_df.columns.name = None\n",
    "_df.sort_index(ascending=False, inplace=True)\n",
    "_df_val = _df.copy()\n",
    "_df.loc['Total',:] = _df.sum()\n",
    "_df"
   ]
  },
  {
   "cell_type": "code",
   "execution_count": 11,
   "id": "ef5f257c",
   "metadata": {
    "execution": {
     "iopub.execute_input": "2024-04-03T17:37:47.360364Z",
     "iopub.status.busy": "2024-04-03T17:37:47.360364Z",
     "iopub.status.idle": "2024-04-03T17:37:47.391609Z",
     "shell.execute_reply": "2024-04-03T17:37:47.391609Z"
    }
   },
   "outputs": [
    {
     "data": {
      "text/html": [
       "<div>\n",
       "<style scoped>\n",
       "    .dataframe tbody tr th:only-of-type {\n",
       "        vertical-align: middle;\n",
       "    }\n",
       "\n",
       "    .dataframe tbody tr th {\n",
       "        vertical-align: top;\n",
       "    }\n",
       "\n",
       "    .dataframe thead th {\n",
       "        text-align: right;\n",
       "    }\n",
       "</style>\n",
       "<table border=\"1\" class=\"dataframe\">\n",
       "  <thead>\n",
       "    <tr style=\"text-align: right;\">\n",
       "      <th></th>\n",
       "      <th>King</th>\n",
       "      <th>Kitsap</th>\n",
       "      <th>Pierce</th>\n",
       "      <th>Snohomish</th>\n",
       "    </tr>\n",
       "  </thead>\n",
       "  <tbody>\n",
       "    <tr>\n",
       "      <th>Medium Trucks</th>\n",
       "      <td>57.5%</td>\n",
       "      <td>66.9%</td>\n",
       "      <td>50.2%</td>\n",
       "      <td>50.2%</td>\n",
       "    </tr>\n",
       "    <tr>\n",
       "      <th>Heavy Trucks</th>\n",
       "      <td>42.5%</td>\n",
       "      <td>33.1%</td>\n",
       "      <td>49.8%</td>\n",
       "      <td>49.8%</td>\n",
       "    </tr>\n",
       "  </tbody>\n",
       "</table>\n",
       "</div>"
      ],
      "text/plain": [
       "               King  Kitsap  Pierce  Snohomish\n",
       "Medium Trucks 57.5%   66.9%   50.2%      50.2%\n",
       "Heavy Trucks  42.5%   33.1%   49.8%      49.8%"
      ]
     },
     "execution_count": 11,
     "metadata": {},
     "output_type": "execute_result"
    }
   ],
   "source": [
    "pd.options.display.float_format = '{:0,.1%}'.format\n",
    "_df_val/_df_val.sum()"
   ]
  },
  {
   "cell_type": "markdown",
   "id": "5ed04e67",
   "metadata": {},
   "source": [
    "# Truck Miles on FGTS\n",
    "Freight and Goods Transportation System\n",
    "- T-1: More than 10 million tons per year\n",
    "- T-2: 2 4 million to 10 million tons per year"
   ]
  },
  {
   "cell_type": "code",
   "execution_count": 12,
   "id": "0f68ba88",
   "metadata": {
    "execution": {
     "iopub.execute_input": "2024-04-03T17:37:47.391609Z",
     "iopub.status.busy": "2024-04-03T17:37:47.391609Z",
     "iopub.status.idle": "2024-04-03T17:37:47.423420Z",
     "shell.execute_reply": "2024-04-03T17:37:47.422416Z"
    }
   },
   "outputs": [
    {
     "data": {
      "text/plain": [
       "83435038.90876411"
      ]
     },
     "execution_count": 12,
     "metadata": {},
     "output_type": "execute_result"
    }
   ],
   "source": [
    "df['Non-Truck'] = df['VMT']-df['Medium and Heavy Trucks']\n",
    "# df['@tveh'].sum()\n",
    "df['VMT'].sum()"
   ]
  },
  {
   "cell_type": "code",
   "execution_count": 13,
   "id": "1ed46cc1",
   "metadata": {
    "execution": {
     "iopub.execute_input": "2024-04-03T17:37:47.429477Z",
     "iopub.status.busy": "2024-04-03T17:37:47.429477Z",
     "iopub.status.idle": "2024-04-03T17:37:48.126314Z",
     "shell.execute_reply": "2024-04-03T17:37:48.126314Z"
    }
   },
   "outputs": [
    {
     "data": {
      "text/html": [
       "<div>\n",
       "<style scoped>\n",
       "    .dataframe tbody tr th:only-of-type {\n",
       "        vertical-align: middle;\n",
       "    }\n",
       "\n",
       "    .dataframe tbody tr th {\n",
       "        vertical-align: top;\n",
       "    }\n",
       "\n",
       "    .dataframe thead th {\n",
       "        text-align: right;\n",
       "    }\n",
       "</style>\n",
       "<table border=\"1\" class=\"dataframe\">\n",
       "  <thead>\n",
       "    <tr style=\"text-align: right;\">\n",
       "      <th></th>\n",
       "      <th>T-1</th>\n",
       "      <th>T-2</th>\n",
       "      <th>Other Routes</th>\n",
       "    </tr>\n",
       "    <tr>\n",
       "      <th>Vehicle Type</th>\n",
       "      <th></th>\n",
       "      <th></th>\n",
       "      <th></th>\n",
       "    </tr>\n",
       "  </thead>\n",
       "  <tbody>\n",
       "    <tr>\n",
       "      <th>Non-Truck</th>\n",
       "      <td>31,576,093</td>\n",
       "      <td>11,660,184</td>\n",
       "      <td>33,891,867</td>\n",
       "    </tr>\n",
       "    <tr>\n",
       "      <th>Heavy Trucks</th>\n",
       "      <td>2,262,755</td>\n",
       "      <td>193,970</td>\n",
       "      <td>387,136</td>\n",
       "    </tr>\n",
       "    <tr>\n",
       "      <th>Medium Trucks</th>\n",
       "      <td>1,873,729</td>\n",
       "      <td>544,439</td>\n",
       "      <td>1,044,865</td>\n",
       "    </tr>\n",
       "  </tbody>\n",
       "</table>\n",
       "</div>"
      ],
      "text/plain": [
       "                     T-1        T-2  Other Routes\n",
       "Vehicle Type                                     \n",
       "Non-Truck     31,576,093 11,660,184    33,891,867\n",
       "Heavy Trucks   2,262,755    193,970       387,136\n",
       "Medium Trucks  1,873,729    544,439     1,044,865"
      ]
     },
     "execution_count": 13,
     "metadata": {},
     "output_type": "execute_result"
    }
   ],
   "source": [
    "pd.options.display.float_format = '{:0,.0f}'.format\n",
    "_df = df[['medium_truck_vmt','heavy_truck_vmt','@fgts','Non-Truck']].melt(\n",
    "    id_vars='@fgts', var_name='Vehicle Type')\n",
    "_df = _df.pivot_table(index='Vehicle Type', columns='@fgts', \n",
    "                values='value', aggfunc='sum')\n",
    "# _df = _df.reset_index()\n",
    "_df = _df.rename_axis(None, axis=1)\n",
    "_df.rename(columns={0:'Other Routes', 1: 'T-1', 2: 'T-2'}, inplace=True)\n",
    "_df.rename(index={'heavy_truck_vmt': 'Heavy Trucks',\n",
    "                 'medium_truck_vmt': 'Medium Trucks'}, inplace=True)\n",
    "_df[['T-1','T-2','Other Routes']]"
   ]
  },
  {
   "cell_type": "code",
   "execution_count": 14,
   "id": "38f32f35",
   "metadata": {
    "execution": {
     "iopub.execute_input": "2024-04-03T17:37:48.126314Z",
     "iopub.status.busy": "2024-04-03T17:37:48.126314Z",
     "iopub.status.idle": "2024-04-03T17:37:48.157448Z",
     "shell.execute_reply": "2024-04-03T17:37:48.157448Z"
    }
   },
   "outputs": [
    {
     "data": {
      "text/html": [
       "<div>\n",
       "<style scoped>\n",
       "    .dataframe tbody tr th:only-of-type {\n",
       "        vertical-align: middle;\n",
       "    }\n",
       "\n",
       "    .dataframe tbody tr th {\n",
       "        vertical-align: top;\n",
       "    }\n",
       "\n",
       "    .dataframe thead th {\n",
       "        text-align: right;\n",
       "    }\n",
       "</style>\n",
       "<table border=\"1\" class=\"dataframe\">\n",
       "  <thead>\n",
       "    <tr style=\"text-align: right;\">\n",
       "      <th></th>\n",
       "      <th>T-1</th>\n",
       "      <th>T-2</th>\n",
       "      <th>Other Routes</th>\n",
       "    </tr>\n",
       "    <tr>\n",
       "      <th>Vehicle Type</th>\n",
       "      <th></th>\n",
       "      <th></th>\n",
       "      <th></th>\n",
       "    </tr>\n",
       "  </thead>\n",
       "  <tbody>\n",
       "    <tr>\n",
       "      <th>Non-Truck</th>\n",
       "      <td>88.4%</td>\n",
       "      <td>94.0%</td>\n",
       "      <td>95.9%</td>\n",
       "    </tr>\n",
       "    <tr>\n",
       "      <th>Heavy Trucks</th>\n",
       "      <td>6.3%</td>\n",
       "      <td>1.6%</td>\n",
       "      <td>1.1%</td>\n",
       "    </tr>\n",
       "    <tr>\n",
       "      <th>Medium Trucks</th>\n",
       "      <td>5.2%</td>\n",
       "      <td>4.4%</td>\n",
       "      <td>3.0%</td>\n",
       "    </tr>\n",
       "  </tbody>\n",
       "</table>\n",
       "</div>"
      ],
      "text/plain": [
       "                T-1   T-2  Other Routes\n",
       "Vehicle Type                           \n",
       "Non-Truck     88.4% 94.0%         95.9%\n",
       "Heavy Trucks   6.3%  1.6%          1.1%\n",
       "Medium Trucks  5.2%  4.4%          3.0%"
      ]
     },
     "execution_count": 14,
     "metadata": {},
     "output_type": "execute_result"
    }
   ],
   "source": [
    "pd.options.display.float_format = '{:0,.1%}'.format\n",
    "_df[['T-1','T-2','Other Routes']]/_df[['T-1','T-2','Other Routes']].sum()"
   ]
  },
  {
   "cell_type": "code",
   "execution_count": 15,
   "id": "8204a12e",
   "metadata": {
    "execution": {
     "iopub.execute_input": "2024-04-03T17:37:48.157448Z",
     "iopub.status.busy": "2024-04-03T17:37:48.157448Z",
     "iopub.status.idle": "2024-04-03T17:37:48.172954Z",
     "shell.execute_reply": "2024-04-03T17:37:48.172954Z"
    }
   },
   "outputs": [],
   "source": [
    "pd.options.display.float_format = '{:0,.0f}'.format"
   ]
  },
  {
   "cell_type": "markdown",
   "id": "5d3d2bb0",
   "metadata": {},
   "source": [
    "# Truck Congestion on FGTS\n",
    "AM Peak (5 - 9 am)"
   ]
  },
  {
   "cell_type": "code",
   "execution_count": 16,
   "id": "ee53d777",
   "metadata": {
    "execution": {
     "iopub.execute_input": "2024-04-03T17:37:48.172954Z",
     "iopub.status.busy": "2024-04-03T17:37:48.172954Z",
     "iopub.status.idle": "2024-04-03T17:37:48.392681Z",
     "shell.execute_reply": "2024-04-03T17:37:48.391636Z"
    }
   },
   "outputs": [
    {
     "data": {
      "text/html": [
       "<div>\n",
       "<style scoped>\n",
       "    .dataframe tbody tr th:only-of-type {\n",
       "        vertical-align: middle;\n",
       "    }\n",
       "\n",
       "    .dataframe tbody tr th {\n",
       "        vertical-align: top;\n",
       "    }\n",
       "\n",
       "    .dataframe thead th {\n",
       "        text-align: right;\n",
       "    }\n",
       "</style>\n",
       "<table border=\"1\" class=\"dataframe\">\n",
       "  <thead>\n",
       "    <tr style=\"text-align: right;\">\n",
       "      <th></th>\n",
       "      <th>T-1</th>\n",
       "      <th>T-2</th>\n",
       "      <th>Other Routes</th>\n",
       "    </tr>\n",
       "  </thead>\n",
       "  <tbody>\n",
       "    <tr>\n",
       "      <th>Light</th>\n",
       "      <td>1,880,510</td>\n",
       "      <td>759,257</td>\n",
       "      <td>1,596,744</td>\n",
       "    </tr>\n",
       "    <tr>\n",
       "      <th>Moderate</th>\n",
       "      <td>461,407</td>\n",
       "      <td>89,708</td>\n",
       "      <td>194,592</td>\n",
       "    </tr>\n",
       "    <tr>\n",
       "      <th>Heavy</th>\n",
       "      <td>246,415</td>\n",
       "      <td>75,931</td>\n",
       "      <td>157,926</td>\n",
       "    </tr>\n",
       "    <tr>\n",
       "      <th>Severe</th>\n",
       "      <td>19,611</td>\n",
       "      <td>27,873</td>\n",
       "      <td>61,696</td>\n",
       "    </tr>\n",
       "    <tr>\n",
       "      <th>Total</th>\n",
       "      <td>2,607,942</td>\n",
       "      <td>952,769</td>\n",
       "      <td>2,010,959</td>\n",
       "    </tr>\n",
       "  </tbody>\n",
       "</table>\n",
       "</div>"
      ],
      "text/plain": [
       "               T-1     T-2  Other Routes\n",
       "Light    1,880,510 759,257     1,596,744\n",
       "Moderate   461,407  89,708       194,592\n",
       "Heavy      246,415  75,931       157,926\n",
       "Severe      19,611  27,873        61,696\n",
       "Total    2,607,942 952,769     2,010,959"
      ]
     },
     "execution_count": 16,
     "metadata": {},
     "output_type": "execute_result"
    }
   ],
   "source": [
    "# Congested Miles on FGTS versus other Routes\n",
    "df['Medium and Heavy Trucks'] = df['@mveh']+df['@hveh']\n",
    "\n",
    "_df = df[df['tod'].isin(['5to6','6to7','7to8','8to9'])]\n",
    "_df = _df.pivot_table(index='congestion_category',columns='@fgts',\n",
    "               aggfunc='sum',values='Medium and Heavy Trucks')\n",
    "_df = _df.reindex(['Light','Moderate','Heavy','Severe'])\n",
    "_df.index.name = None\n",
    "_df.columns.name = None\n",
    "_df.rename(columns={0:'Other Routes', 1: 'T-1', 2: 'T-2'}, inplace=True)\n",
    "_df_ = _df.copy()\n",
    "_df.loc['Total',:] = _df.sum()\n",
    "_df = _df[['T-1','T-2','Other Routes']]\n",
    "_df"
   ]
  },
  {
   "cell_type": "code",
   "execution_count": 17,
   "id": "ec38b315",
   "metadata": {
    "execution": {
     "iopub.execute_input": "2024-04-03T17:37:48.398665Z",
     "iopub.status.busy": "2024-04-03T17:37:48.398665Z",
     "iopub.status.idle": "2024-04-03T17:37:48.424672Z",
     "shell.execute_reply": "2024-04-03T17:37:48.423675Z"
    }
   },
   "outputs": [
    {
     "data": {
      "text/html": [
       "<div>\n",
       "<style scoped>\n",
       "    .dataframe tbody tr th:only-of-type {\n",
       "        vertical-align: middle;\n",
       "    }\n",
       "\n",
       "    .dataframe tbody tr th {\n",
       "        vertical-align: top;\n",
       "    }\n",
       "\n",
       "    .dataframe thead th {\n",
       "        text-align: right;\n",
       "    }\n",
       "</style>\n",
       "<table border=\"1\" class=\"dataframe\">\n",
       "  <thead>\n",
       "    <tr style=\"text-align: right;\">\n",
       "      <th></th>\n",
       "      <th>Other Routes</th>\n",
       "      <th>T-1</th>\n",
       "      <th>T-2</th>\n",
       "    </tr>\n",
       "  </thead>\n",
       "  <tbody>\n",
       "    <tr>\n",
       "      <th>Light</th>\n",
       "      <td>79.4%</td>\n",
       "      <td>72.1%</td>\n",
       "      <td>79.7%</td>\n",
       "    </tr>\n",
       "    <tr>\n",
       "      <th>Moderate</th>\n",
       "      <td>9.7%</td>\n",
       "      <td>17.7%</td>\n",
       "      <td>9.4%</td>\n",
       "    </tr>\n",
       "    <tr>\n",
       "      <th>Heavy</th>\n",
       "      <td>7.9%</td>\n",
       "      <td>9.4%</td>\n",
       "      <td>8.0%</td>\n",
       "    </tr>\n",
       "    <tr>\n",
       "      <th>Severe</th>\n",
       "      <td>3.1%</td>\n",
       "      <td>0.8%</td>\n",
       "      <td>2.9%</td>\n",
       "    </tr>\n",
       "  </tbody>\n",
       "</table>\n",
       "</div>"
      ],
      "text/plain": [
       "          Other Routes   T-1   T-2\n",
       "Light            79.4% 72.1% 79.7%\n",
       "Moderate          9.7% 17.7%  9.4%\n",
       "Heavy             7.9%  9.4%  8.0%\n",
       "Severe            3.1%  0.8%  2.9%"
      ]
     },
     "execution_count": 17,
     "metadata": {},
     "output_type": "execute_result"
    }
   ],
   "source": [
    "pd.options.display.float_format = '{:0,.1%}'.format\n",
    "_df_/_df_.sum()"
   ]
  },
  {
   "cell_type": "markdown",
   "id": "65d1e1c7",
   "metadata": {},
   "source": [
    "PM Peak (3 - 6 pm)"
   ]
  },
  {
   "cell_type": "code",
   "execution_count": 18,
   "id": "0217c0cb",
   "metadata": {
    "execution": {
     "iopub.execute_input": "2024-04-03T17:37:48.429757Z",
     "iopub.status.busy": "2024-04-03T17:37:48.429757Z",
     "iopub.status.idle": "2024-04-03T17:37:48.626298Z",
     "shell.execute_reply": "2024-04-03T17:37:48.625300Z"
    }
   },
   "outputs": [
    {
     "data": {
      "text/html": [
       "<div>\n",
       "<style scoped>\n",
       "    .dataframe tbody tr th:only-of-type {\n",
       "        vertical-align: middle;\n",
       "    }\n",
       "\n",
       "    .dataframe tbody tr th {\n",
       "        vertical-align: top;\n",
       "    }\n",
       "\n",
       "    .dataframe thead th {\n",
       "        text-align: right;\n",
       "    }\n",
       "</style>\n",
       "<table border=\"1\" class=\"dataframe\">\n",
       "  <thead>\n",
       "    <tr style=\"text-align: right;\">\n",
       "      <th></th>\n",
       "      <th>T-1</th>\n",
       "      <th>T-2</th>\n",
       "      <th>Other Routes</th>\n",
       "    </tr>\n",
       "  </thead>\n",
       "  <tbody>\n",
       "    <tr>\n",
       "      <th>Light</th>\n",
       "      <td>1,427,500</td>\n",
       "      <td>656,287</td>\n",
       "      <td>1,371,986</td>\n",
       "    </tr>\n",
       "    <tr>\n",
       "      <th>Moderate</th>\n",
       "      <td>497,574</td>\n",
       "      <td>81,367</td>\n",
       "      <td>191,734</td>\n",
       "    </tr>\n",
       "    <tr>\n",
       "      <th>Heavy</th>\n",
       "      <td>241,545</td>\n",
       "      <td>70,771</td>\n",
       "      <td>154,858</td>\n",
       "    </tr>\n",
       "    <tr>\n",
       "      <th>Severe</th>\n",
       "      <td>21,176</td>\n",
       "      <td>29,748</td>\n",
       "      <td>61,362</td>\n",
       "    </tr>\n",
       "    <tr>\n",
       "      <th>Total</th>\n",
       "      <td>2,187,794</td>\n",
       "      <td>838,173</td>\n",
       "      <td>1,779,940</td>\n",
       "    </tr>\n",
       "  </tbody>\n",
       "</table>\n",
       "</div>"
      ],
      "text/plain": [
       "               T-1     T-2  Other Routes\n",
       "Light    1,427,500 656,287     1,371,986\n",
       "Moderate   497,574  81,367       191,734\n",
       "Heavy      241,545  70,771       154,858\n",
       "Severe      21,176  29,748        61,362\n",
       "Total    2,187,794 838,173     1,779,940"
      ]
     },
     "execution_count": 18,
     "metadata": {},
     "output_type": "execute_result"
    }
   ],
   "source": [
    "pd.options.display.float_format = '{:0,.0f}'.format\n",
    "# Congested Miles on FGTS versus other Routes\n",
    "df['Medium and Heavy Trucks'] = df['@hveh']+df['@mveh']\n",
    "\n",
    "_df = df[df['tod'].isin(['15to16','16to17','17to18'])]\n",
    "_df = _df.pivot_table(index='congestion_category',columns='@fgts',\n",
    "               aggfunc='sum',values='Medium and Heavy Trucks')\n",
    "_df = _df.reindex(['Light','Moderate','Heavy','Severe'])\n",
    "_df.index.name = None\n",
    "_df.columns.name = None\n",
    "_df.rename(columns={0:'Other Routes', 1: 'T-1', 2: 'T-2'}, inplace=True)\n",
    "_df_ = _df.copy()\n",
    "_df.loc['Total',:] = _df.sum()\n",
    "_df = _df[['T-1','T-2','Other Routes']]\n",
    "_df"
   ]
  },
  {
   "cell_type": "code",
   "execution_count": 19,
   "id": "e70945dd",
   "metadata": {
    "execution": {
     "iopub.execute_input": "2024-04-03T17:37:48.632282Z",
     "iopub.status.busy": "2024-04-03T17:37:48.632282Z",
     "iopub.status.idle": "2024-04-03T17:37:48.657552Z",
     "shell.execute_reply": "2024-04-03T17:37:48.656554Z"
    }
   },
   "outputs": [
    {
     "data": {
      "text/html": [
       "<div>\n",
       "<style scoped>\n",
       "    .dataframe tbody tr th:only-of-type {\n",
       "        vertical-align: middle;\n",
       "    }\n",
       "\n",
       "    .dataframe tbody tr th {\n",
       "        vertical-align: top;\n",
       "    }\n",
       "\n",
       "    .dataframe thead th {\n",
       "        text-align: right;\n",
       "    }\n",
       "</style>\n",
       "<table border=\"1\" class=\"dataframe\">\n",
       "  <thead>\n",
       "    <tr style=\"text-align: right;\">\n",
       "      <th></th>\n",
       "      <th>Other Routes</th>\n",
       "      <th>T-1</th>\n",
       "      <th>T-2</th>\n",
       "    </tr>\n",
       "  </thead>\n",
       "  <tbody>\n",
       "    <tr>\n",
       "      <th>Light</th>\n",
       "      <td>77.1%</td>\n",
       "      <td>65.2%</td>\n",
       "      <td>78.3%</td>\n",
       "    </tr>\n",
       "    <tr>\n",
       "      <th>Moderate</th>\n",
       "      <td>10.8%</td>\n",
       "      <td>22.7%</td>\n",
       "      <td>9.7%</td>\n",
       "    </tr>\n",
       "    <tr>\n",
       "      <th>Heavy</th>\n",
       "      <td>8.7%</td>\n",
       "      <td>11.0%</td>\n",
       "      <td>8.4%</td>\n",
       "    </tr>\n",
       "    <tr>\n",
       "      <th>Severe</th>\n",
       "      <td>3.4%</td>\n",
       "      <td>1.0%</td>\n",
       "      <td>3.5%</td>\n",
       "    </tr>\n",
       "  </tbody>\n",
       "</table>\n",
       "</div>"
      ],
      "text/plain": [
       "          Other Routes   T-1   T-2\n",
       "Light            77.1% 65.2% 78.3%\n",
       "Moderate         10.8% 22.7%  9.7%\n",
       "Heavy             8.7% 11.0%  8.4%\n",
       "Severe            3.4%  1.0%  3.5%"
      ]
     },
     "execution_count": 19,
     "metadata": {},
     "output_type": "execute_result"
    }
   ],
   "source": [
    "pd.options.display.float_format = '{:0,.1%}'.format\n",
    "_df_/_df_.sum()"
   ]
  },
  {
   "cell_type": "markdown",
   "id": "1f963d6a",
   "metadata": {},
   "source": [
    "# Households Within 500' of Heavy Truck Volumes\n",
    "Total number of households within 500' of T-1 and T-2 routes\n",
    "- T-1: More than 10 million tons per year\n",
    "- T-2: 2 4 million to 10 million tons per year"
   ]
  },
  {
   "cell_type": "code",
   "execution_count": 20,
   "id": "79b6cae0",
   "metadata": {
    "execution": {
     "iopub.execute_input": "2024-04-03T17:37:48.663603Z",
     "iopub.status.busy": "2024-04-03T17:37:48.662604Z",
     "iopub.status.idle": "2024-04-03T17:38:25.894056Z",
     "shell.execute_reply": "2024-04-03T17:38:25.892975Z"
    }
   },
   "outputs": [],
   "source": [
    "# Intersect buffer with land use file\n",
    "df_lu = pd.read_csv(r'..\\..\\..\\inputs\\scenario\\landuse\\parcels_urbansim.txt',\n",
    "                   delim_whitespace=True)\n",
    "\n",
    "# Load as a geodataframe\n",
    "gdf_lu = gpd.GeoDataFrame(\n",
    "    df_lu, geometry=gpd.points_from_xy(df_lu.XCOORD_P, df_lu.YCOORD_P))\n",
    "\n",
    "crs = {'init' : 'EPSG:2285'}\n",
    "gdf_lu.crs = crs\n",
    "\n",
    "# Buffer the parcels at 500ft\n",
    "gdf_lu['geometry'] = gdf_lu.buffer(500)"
   ]
  },
  {
   "cell_type": "code",
   "execution_count": 21,
   "id": "cd8604c6",
   "metadata": {
    "execution": {
     "iopub.execute_input": "2024-04-03T17:38:25.899962Z",
     "iopub.status.busy": "2024-04-03T17:38:25.899962Z",
     "iopub.status.idle": "2024-04-03T17:39:37.675762Z",
     "shell.execute_reply": "2024-04-03T17:39:37.675762Z"
    }
   },
   "outputs": [],
   "source": [
    "\n",
    "# Intersect this geography  with the network shapefile\n",
    "gdf_network = gpd.read_file(r'..\\..\\..\\inputs\\scenario\\networks\\shapefiles\\AM\\AM_edges.shp')\n",
    "# Do not include connectors since these are abstracted ul3==5; also remove weave links ul3==0 \n",
    "gdf_network = gdf_network[~gdf_network.ul3.isin([0,5])]\n",
    "# Truck network links are those that are in FGTS 1 or 2 system\n",
    "gdf_network = gdf_network[gdf_network['FGTS'].isin([1,2])]\n",
    "\n",
    "gdf_intersect = gpd.overlay(gdf_network, gdf_lu, how=\"intersection\", keep_geom_type=False)\n",
    "\n",
    "# Will need to relaculate the lengths since some were split across the regional geographies\n",
    "gdf_intersect['new_length'] = gdf_intersect.geometry.length/5280.0\n",
    "\n",
    "# filter out the polygon results and only keep lines\n",
    "gdf_intersect = gdf_intersect[gdf_intersect.geometry.type.isin(['MultiLineString','LineString'])]"
   ]
  },
  {
   "cell_type": "code",
   "execution_count": 22,
   "id": "5c8817e5",
   "metadata": {
    "execution": {
     "iopub.execute_input": "2024-04-03T17:39:37.678754Z",
     "iopub.status.busy": "2024-04-03T17:39:37.678754Z",
     "iopub.status.idle": "2024-04-03T17:39:38.536219Z",
     "shell.execute_reply": "2024-04-03T17:39:38.535218Z"
    }
   },
   "outputs": [
    {
     "data": {
      "text/plain": [
       "<AxesSubplot:>"
      ]
     },
     "execution_count": 22,
     "metadata": {},
     "output_type": "execute_result"
    },
    {
     "data": {
      "image/png": "[encoded data removed]",
      "text/plain": [
       "<Figure size 936x936 with 1 Axes>"
      ]
     },
     "metadata": {
      "needs_background": "light"
     },
     "output_type": "display_data"
    }
   ],
   "source": [
    "gdf_network.plot(figsize=(13,13))"
   ]
  },
  {
   "cell_type": "code",
   "execution_count": 23,
   "id": "6aced745",
   "metadata": {
    "execution": {
     "iopub.execute_input": "2024-04-03T17:39:38.543326Z",
     "iopub.status.busy": "2024-04-03T17:39:38.543326Z",
     "iopub.status.idle": "2024-04-03T17:40:11.600265Z",
     "shell.execute_reply": "2024-04-03T17:40:11.599261Z"
    }
   },
   "outputs": [],
   "source": [
    "truck_parcels = gdf_intersect.groupby('PARCELID').first()[['HH_P']].reset_index()\n",
    "\n",
    "\n",
    "# Result should be the network components with some flags for the parcelid\n",
    "# We can take the parcel information, join with parcel info and group\n",
    "# from input_configuration import base_year\n",
    "import toml\n",
    "config = toml.load(os.path.join(os.getcwd(),r'../../../configuration/input_configuration.toml'))\n",
    "\n",
    "parcel_geog = pd.read_sql_table('parcel_'+config['base_year']+'_geography', 'sqlite:///../../../inputs/db/'+config['db_name'])\n",
    "df = truck_parcels.merge(parcel_geog,left_on='PARCELID', right_on='ParcelID')"
   ]
  },
  {
   "cell_type": "code",
   "execution_count": 24,
   "id": "6e24b08d",
   "metadata": {
    "execution": {
     "iopub.execute_input": "2024-04-03T17:40:11.607245Z",
     "iopub.status.busy": "2024-04-03T17:40:11.606248Z",
     "iopub.status.idle": "2024-04-03T17:40:11.616160Z",
     "shell.execute_reply": "2024-04-03T17:40:11.615091Z"
    }
   },
   "outputs": [],
   "source": [
    "# md(\"There are **{}** total households within 500 feet of all T-1 and T-2 routes\".format(int(df['HH_P'].sum())))\n",
    "# df['HH_P'].sum()"
   ]
  },
  {
   "cell_type": "code",
   "execution_count": 25,
   "id": "84736d30",
   "metadata": {
    "execution": {
     "iopub.execute_input": "2024-04-03T17:40:11.622146Z",
     "iopub.status.busy": "2024-04-03T17:40:11.621081Z",
     "iopub.status.idle": "2024-04-03T17:40:11.631349Z",
     "shell.execute_reply": "2024-04-03T17:40:11.630265Z"
    }
   },
   "outputs": [],
   "source": [
    "# md(\"This is **{}**% of total regional households\".format(str((df['HH_P'].sum()/df_lu['HH_P'].sum())*100)[:5]))"
   ]
  },
  {
   "cell_type": "code",
   "execution_count": 26,
   "id": "6fcba200",
   "metadata": {
    "execution": {
     "iopub.execute_input": "2024-04-03T17:40:11.637319Z",
     "iopub.status.busy": "2024-04-03T17:40:11.636320Z",
     "iopub.status.idle": "2024-04-03T17:40:11.880656Z",
     "shell.execute_reply": "2024-04-03T17:40:11.879654Z"
    }
   },
   "outputs": [],
   "source": [
    "# Get the total number of households that in equtiy geograhpies\n",
    "# Comprae the percent of those that are in the buffer versus those that are not\n",
    "# For the 4 equity groups, perform the calc and add as a table\n",
    "results_df = pd.DataFrame()\n",
    "for col, name in {'racial_geog_vs_reg_total': 'Race',\n",
    "                  'poverty_geog_vs_reg_total': 'Poverty',\n",
    "                  'elderly_geog_vs_reg_total': 'Elderly',\n",
    "                  'youth_geog_vs_reg_total': 'Youth'}.items():\n",
    "    _df = df.groupby(col).sum()[['HH_P']]\n",
    "    _df['equity_group'] = name\n",
    "    results_df = results_df.append(_df)\n",
    "results_df = results_df.reset_index()\n"
   ]
  },
  {
   "cell_type": "markdown",
   "id": "3664995c",
   "metadata": {},
   "source": [
    "Total Households Within 500' of T-1/T-2 Routes by Equity Group"
   ]
  },
  {
   "cell_type": "code",
   "execution_count": 27,
   "id": "14ea523e",
   "metadata": {
    "execution": {
     "iopub.execute_input": "2024-04-03T17:40:11.886640Z",
     "iopub.status.busy": "2024-04-03T17:40:11.886640Z",
     "iopub.status.idle": "2024-04-03T17:40:11.912668Z",
     "shell.execute_reply": "2024-04-03T17:40:11.911664Z"
    }
   },
   "outputs": [],
   "source": [
    "_df = results_df.pivot_table(index='index', columns='equity_group', values='HH_P', aggfunc='sum')\n",
    "_df.index = ['Households Not in Equity Geography', 'Households in Equity Geography']"
   ]
  },
  {
   "cell_type": "markdown",
   "id": "747113c5",
   "metadata": {},
   "source": [
    "% of households within 500' of truck routes that are in/outside of equity geographies"
   ]
  },
  {
   "cell_type": "code",
   "execution_count": 28,
   "id": "9c2933e2",
   "metadata": {
    "execution": {
     "iopub.execute_input": "2024-04-03T17:40:11.918650Z",
     "iopub.status.busy": "2024-04-03T17:40:11.918650Z",
     "iopub.status.idle": "2024-04-03T17:40:11.944442Z",
     "shell.execute_reply": "2024-04-03T17:40:11.943372Z"
    }
   },
   "outputs": [
    {
     "data": {
      "text/html": [
       "<div>\n",
       "<style scoped>\n",
       "    .dataframe tbody tr th:only-of-type {\n",
       "        vertical-align: middle;\n",
       "    }\n",
       "\n",
       "    .dataframe tbody tr th {\n",
       "        vertical-align: top;\n",
       "    }\n",
       "\n",
       "    .dataframe thead th {\n",
       "        text-align: right;\n",
       "    }\n",
       "</style>\n",
       "<table border=\"1\" class=\"dataframe\">\n",
       "  <thead>\n",
       "    <tr style=\"text-align: right;\">\n",
       "      <th>equity_group</th>\n",
       "      <th>Elderly</th>\n",
       "      <th>Poverty</th>\n",
       "      <th>Race</th>\n",
       "      <th>Youth</th>\n",
       "    </tr>\n",
       "  </thead>\n",
       "  <tbody>\n",
       "    <tr>\n",
       "      <th>Households Not in Equity Geography</th>\n",
       "      <td>69.6%</td>\n",
       "      <td>47.1%</td>\n",
       "      <td>39.5%</td>\n",
       "      <td>64.8%</td>\n",
       "    </tr>\n",
       "    <tr>\n",
       "      <th>Households in Equity Geography</th>\n",
       "      <td>30.4%</td>\n",
       "      <td>52.9%</td>\n",
       "      <td>60.5%</td>\n",
       "      <td>35.2%</td>\n",
       "    </tr>\n",
       "  </tbody>\n",
       "</table>\n",
       "</div>"
      ],
      "text/plain": [
       "equity_group                        Elderly  Poverty  Race  Youth\n",
       "Households Not in Equity Geography    69.6%    47.1% 39.5%  64.8%\n",
       "Households in Equity Geography        30.4%    52.9% 60.5%  35.2%"
      ]
     },
     "execution_count": 28,
     "metadata": {},
     "output_type": "execute_result"
    }
   ],
   "source": [
    "pd.options.display.float_format = '{:0,.1%}'.format\n",
    "_df/_df.sum()"
   ]
  },
  {
   "cell_type": "code",
   "execution_count": 29,
   "id": "8f60cbbe",
   "metadata": {
    "execution": {
     "iopub.execute_input": "2024-04-03T17:40:11.950359Z",
     "iopub.status.busy": "2024-04-03T17:40:11.950359Z",
     "iopub.status.idle": "2024-04-03T17:40:11.976494Z",
     "shell.execute_reply": "2024-04-03T17:40:11.975490Z"
    }
   },
   "outputs": [],
   "source": [
    "pd.options.display.float_format = '{:0,.0f}'.format\n",
    "\n",
    "# results_df.groupby(['equity_group','index']).sum()[['HH_P']]\n",
    "_df = results_df.pivot_table(index='equity_group',columns='index',values='HH_P')\n",
    "_df.rename(columns={0:'Not In Equity Group', 1: 'In Equity Group'}, inplace=True)\n",
    "_df.index.name = None\n",
    "_df.columns.name = None\n",
    "_df['Total Households'] = _df.sum(axis=1)\n",
    "_df_buffer = _df.copy()\n"
   ]
  },
  {
   "cell_type": "code",
   "execution_count": 30,
   "id": "7153fda5",
   "metadata": {
    "execution": {
     "iopub.execute_input": "2024-04-03T17:40:11.982544Z",
     "iopub.status.busy": "2024-04-03T17:40:11.982544Z",
     "iopub.status.idle": "2024-04-03T17:40:17.679794Z",
     "shell.execute_reply": "2024-04-03T17:40:17.678792Z"
    }
   },
   "outputs": [],
   "source": [
    "df_lu_tot = df_lu[['PARCELID','HH_P']].merge(parcel_geog,left_on='PARCELID', right_on='ParcelID')\n",
    "# df_lu_tot['region'] = 1\n",
    "results_df_tot = pd.DataFrame()\n",
    "for col, name in {'racial_geog_vs_reg_total': 'Race',\n",
    "                  'poverty_geog_vs_reg_total': 'Poverty',\n",
    "                  'elderly_geog_vs_reg_total': 'Elderly',\n",
    "                  'youth_geog_vs_reg_total': 'Youth',\n",
    "#                   'region': 'Regional Total',\n",
    "                 }.items():\n",
    "    _df = df_lu_tot.groupby(col).sum()[['HH_P']]\n",
    "    _df['equity_group'] = name\n",
    "    results_df_tot = results_df_tot.append(_df)\n",
    "results_df_tot = results_df_tot.reset_index()\n",
    "pd.options.display.float_format = '{:0,.0f}'.format\n",
    "\n",
    "results_df_tot = results_df_tot[results_df_tot['index'] >= 0]\n",
    "_df = results_df_tot.pivot_table(index='equity_group',columns='index',values='HH_P')\n",
    "_df.rename(columns={0:'Not in Equity Group', 1: 'In Equity Group'}, inplace=True)\n",
    "_df.index.name = None\n",
    "_df.columns.name = None\n",
    "_df['Total Households'] = _df.sum(axis=1)\n",
    "_df_tot = _df.copy()\n"
   ]
  },
  {
   "cell_type": "markdown",
   "id": "7486a9a5",
   "metadata": {},
   "source": [
    "Percent of Households in Equity Group Also in the Buffer"
   ]
  },
  {
   "cell_type": "code",
   "execution_count": 31,
   "id": "48a57aaf",
   "metadata": {
    "execution": {
     "iopub.execute_input": "2024-04-03T17:40:17.685782Z",
     "iopub.status.busy": "2024-04-03T17:40:17.685782Z",
     "iopub.status.idle": "2024-04-03T17:40:17.711199Z",
     "shell.execute_reply": "2024-04-03T17:40:17.710196Z"
    }
   },
   "outputs": [
    {
     "data": {
      "text/html": [
       "<div>\n",
       "<style scoped>\n",
       "    .dataframe tbody tr th:only-of-type {\n",
       "        vertical-align: middle;\n",
       "    }\n",
       "\n",
       "    .dataframe tbody tr th {\n",
       "        vertical-align: top;\n",
       "    }\n",
       "\n",
       "    .dataframe thead th {\n",
       "        text-align: right;\n",
       "    }\n",
       "</style>\n",
       "<table border=\"1\" class=\"dataframe\">\n",
       "  <thead>\n",
       "    <tr style=\"text-align: right;\">\n",
       "      <th></th>\n",
       "      <th>% of Total Households in Buffer</th>\n",
       "    </tr>\n",
       "  </thead>\n",
       "  <tbody>\n",
       "    <tr>\n",
       "      <th>Elderly</th>\n",
       "      <td>7.1%</td>\n",
       "    </tr>\n",
       "    <tr>\n",
       "      <th>Poverty</th>\n",
       "      <td>13.6%</td>\n",
       "    </tr>\n",
       "    <tr>\n",
       "      <th>Race</th>\n",
       "      <td>14.6%</td>\n",
       "    </tr>\n",
       "    <tr>\n",
       "      <th>Youth</th>\n",
       "      <td>7.8%</td>\n",
       "    </tr>\n",
       "    <tr>\n",
       "      <th>All Households</th>\n",
       "      <td>10.9%</td>\n",
       "    </tr>\n",
       "  </tbody>\n",
       "</table>\n",
       "</div>"
      ],
      "text/plain": [
       "                % of Total Households in Buffer\n",
       "Elderly                                    7.1%\n",
       "Poverty                                   13.6%\n",
       "Race                                      14.6%\n",
       "Youth                                      7.8%\n",
       "All Households                            10.9%"
      ]
     },
     "execution_count": 31,
     "metadata": {},
     "output_type": "execute_result"
    }
   ],
   "source": [
    "_df = _df_tot.merge(_df_buffer, left_index=True, right_index=True, suffixes=['_tot','_buffer'])\n",
    "\n",
    "pd.options.display.float_format = '{:0,.1%}'.format\n",
    "_df_compare = pd.DataFrame(_df['In Equity Group_buffer']/_df['In Equity Group_tot'], columns=['% of Total Households in Buffer'])\n",
    "_df_compare.loc['All Households'] = (_df['Total Households_buffer']/_df['Total Households_tot'])[0]\n",
    "_df_compare"
   ]
  },
  {
   "cell_type": "code",
   "execution_count": null,
   "id": "ce6244fa",
   "metadata": {},
   "outputs": [],
   "source": []
  }
 ],
 "metadata": {
  "kernelspec": {
   "display_name": "Python 3",
   "language": "python",
   "name": "python3"
  },
  "language_info": {
   "codemirror_mode": {
    "name": "ipython",
    "version": 3
   },
   "file_extension": ".py",
   "mimetype": "text/x-python",
   "name": "python",
   "nbconvert_exporter": "python",
   "pygments_lexer": "ipython3",
   "version": "3.7.10"
  }
 },
 "nbformat": 4,
 "nbformat_minor": 5
}
