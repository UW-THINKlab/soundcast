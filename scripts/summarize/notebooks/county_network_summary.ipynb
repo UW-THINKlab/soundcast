{
 "cells": [
  {
   "cell_type": "code",
   "execution_count": 1,
   "metadata": {
    "execution": {
     "iopub.execute_input": "2021-06-10T22:01:28.576834Z",
     "iopub.status.busy": "2021-06-10T22:01:28.576834Z",
     "iopub.status.idle": "2021-06-10T22:01:30.754964Z",
     "shell.execute_reply": "2021-06-10T22:01:30.754964Z"
    }
   },
   "outputs": [],
   "source": [
    "import pandas as pd\n",
    "import geopandas as gpd\n",
    "import seaborn as sns\n",
    "from itertools import cycle, islice"
   ]
  },
  {
   "cell_type": "code",
   "execution_count": 2,
   "metadata": {
    "execution": {
     "iopub.execute_input": "2021-06-10T22:01:30.754964Z",
     "iopub.status.busy": "2021-06-10T22:01:30.754964Z",
     "iopub.status.idle": "2021-06-10T22:01:30.770659Z",
     "shell.execute_reply": "2021-06-10T22:01:30.770659Z"
    }
   },
   "outputs": [],
   "source": [
    "# set chart style\n",
    "sns.set_style(\"dark\")\n",
    "sns.set_context(\"notebook\", font_scale=1.5, \n",
    "                rc={\"lines.linewidth\": 1.5})\n",
    "colors = ['#91268F','#F05A28','#8CC63E','#00A7A0','#4C4C4C',\n",
    "          '#BFE9E7','#7a2700']\n",
    "sns.set(font=\"Pragmatica\")"
   ]
  },
  {
   "cell_type": "code",
   "execution_count": 3,
   "metadata": {
    "execution": {
     "iopub.execute_input": "2021-06-10T22:01:30.786272Z",
     "iopub.status.busy": "2021-06-10T22:01:30.786272Z",
     "iopub.status.idle": "2021-06-10T22:01:36.978236Z",
     "shell.execute_reply": "2021-06-10T22:01:36.978236Z"
    }
   },
   "outputs": [],
   "source": [
    "df = pd.read_csv(r'..\\..\\..\\outputs\\network\\network_results.csv')\n",
    "\n",
    "# Congested network components by time of day\n",
    "df.columns\n",
    "\n",
    "# Get freeflow from 20to5 period\n",
    "\n",
    "# Exclude trips taken on non-designated facilities (facility_type == 0)\n",
    "# These are artificial (weave lanes to connect HOV) or for non-auto uses \n",
    "df = df[df['data3'] != 0]    # data3 represents facility_type\n",
    "\n",
    "# calculate total link VMT and VHT\n",
    "df['VMT'] = df['@tveh']*df['length']\n",
    "df['VHT'] = df['@tveh']*df['auto_time']/60\n",
    "\n",
    "# Define facility type\n",
    "df.loc[df['data3'].isin([1,2]), 'facility_type'] = 'highway'\n",
    "df.loc[df['data3'].isin([3,4,6]), 'facility_type'] = 'arterial'\n",
    "df.loc[df['data3'].isin([5]), 'facility_type'] = 'connector'\n",
    "\n",
    "# Calculate delay\n",
    "# Select links from overnight time of day\n",
    "delay_df = df.loc[df['tod'] == '20to5'][['ij','auto_time']]\n",
    "delay_df.rename(columns={'auto_time':'freeflow_time'}, inplace=True)\n",
    "\n",
    "# Merge delay field back onto network link df\n",
    "df = pd.merge(df, delay_df, on='ij', how='left')\n",
    "\n",
    "# Calcualte hourly delay\n",
    "df['total_delay'] = ((df['auto_time']-df['freeflow_time'])*df['@tveh'])/60    # sum of (volume)*(travtime diff from freeflow)\n",
    "\n",
    "# Calcualte speed as a percent of freeflow\n",
    "df['flow_index'] = df['auto_time']/df['freeflow_time']\n",
    "\n",
    "df['county'] =df['@countyid'].map({33: 'King',\n",
    "                                      35: 'Kitsap',\n",
    "                                      53: 'Pierce',\n",
    "                                      61: 'Snohomish'})\n",
    "\n",
    "# FGTS\n",
    "\n",
    "# Non-motorized extent in geographies\n",
    "\n",
    "# High Capacity Transit Network"
   ]
  },
  {
   "cell_type": "code",
   "execution_count": 4,
   "metadata": {
    "execution": {
     "iopub.execute_input": "2021-06-10T22:01:36.993853Z",
     "iopub.status.busy": "2021-06-10T22:01:36.978236Z",
     "iopub.status.idle": "2021-06-10T22:01:37.087584Z",
     "shell.execute_reply": "2021-06-10T22:01:37.087584Z"
    }
   },
   "outputs": [],
   "source": [
    "df['speed'] = df['length']/df['auto_time']*60\n",
    "df['congestion_index'] = df['speed']/df['data2']\n",
    "df['congestion_index'] = df['congestion_index'].clip(0,1)\n",
    "df['congestion_category'] = pd.cut(df['congestion_index'], bins=[0,.25,.5,.7,1], labels=['Severe','Heavy','Moderate','Light'])"
   ]
  },
  {
   "cell_type": "markdown",
   "metadata": {},
   "source": [
    "# Congestion by County Tables\n",
    "### Total VMT & Percent of County VMT by Congestion Level\n",
    "\n",
    "- **Severe: < 25% Speed Limit** (e.g., less than 15 mph on a road with speed limit of 60 mph)\n",
    "- **Heavy: 25-50% Speed Limit** (e.g., 15-30 mph on a road with speed limit of 60 mph)\n",
    "- **Moderate: 50-70% Speed Limit** (e.g, 30-42 mph on a road with speed limit of 60 mph)\n",
    "\n",
    "#### All Day"
   ]
  },
  {
   "cell_type": "code",
   "execution_count": 5,
   "metadata": {
    "execution": {
     "iopub.execute_input": "2021-06-10T22:01:37.087584Z",
     "iopub.status.busy": "2021-06-10T22:01:37.087584Z",
     "iopub.status.idle": "2021-06-10T22:01:37.434212Z",
     "shell.execute_reply": "2021-06-10T22:01:37.434212Z"
    }
   },
   "outputs": [
    {
     "data": {
      "text/html": [
       "<div>\n",
       "<style scoped>\n",
       "    .dataframe tbody tr th:only-of-type {\n",
       "        vertical-align: middle;\n",
       "    }\n",
       "\n",
       "    .dataframe tbody tr th {\n",
       "        vertical-align: top;\n",
       "    }\n",
       "\n",
       "    .dataframe thead th {\n",
       "        text-align: right;\n",
       "    }\n",
       "</style>\n",
       "<table border=\"1\" class=\"dataframe\">\n",
       "  <thead>\n",
       "    <tr style=\"text-align: right;\">\n",
       "      <th></th>\n",
       "      <th>King</th>\n",
       "      <th>Kitsap</th>\n",
       "      <th>Pierce</th>\n",
       "      <th>Snohomish</th>\n",
       "    </tr>\n",
       "  </thead>\n",
       "  <tbody>\n",
       "    <tr>\n",
       "      <th>Light</th>\n",
       "      <td>35,404,388</td>\n",
       "      <td>4,228,218</td>\n",
       "      <td>15,754,322</td>\n",
       "      <td>13,826,915</td>\n",
       "    </tr>\n",
       "    <tr>\n",
       "      <th>Moderate</th>\n",
       "      <td>5,796,089</td>\n",
       "      <td>92,010</td>\n",
       "      <td>2,017,213</td>\n",
       "      <td>1,302,171</td>\n",
       "    </tr>\n",
       "    <tr>\n",
       "      <th>Heavy</th>\n",
       "      <td>3,013,641</td>\n",
       "      <td>53,621</td>\n",
       "      <td>697,829</td>\n",
       "      <td>586,669</td>\n",
       "    </tr>\n",
       "    <tr>\n",
       "      <th>Severe</th>\n",
       "      <td>258,225</td>\n",
       "      <td>3,424</td>\n",
       "      <td>55,702</td>\n",
       "      <td>38,054</td>\n",
       "    </tr>\n",
       "  </tbody>\n",
       "</table>\n",
       "</div>"
      ],
      "text/plain": [
       "               King    Kitsap     Pierce  Snohomish\n",
       "Light    35,404,388 4,228,218 15,754,322 13,826,915\n",
       "Moderate  5,796,089    92,010  2,017,213  1,302,171\n",
       "Heavy     3,013,641    53,621    697,829    586,669\n",
       "Severe      258,225     3,424     55,702     38,054"
      ]
     },
     "execution_count": 5,
     "metadata": {},
     "output_type": "execute_result"
    }
   ],
   "source": [
    "# Percent of VMT by congestion category\n",
    "pd.options.display.float_format = '{:0,.0f}'.format\n",
    "_df = df.pivot_table(index='congestion_category',columns='county',\n",
    "               aggfunc='sum',values='VMT')\n",
    "_df = _df.reindex(['Light','Moderate','Heavy','Severe'])\n",
    "_df.index.name = None\n",
    "_df.columns.name = None\n",
    "_df"
   ]
  },
  {
   "cell_type": "code",
   "execution_count": 6,
   "metadata": {
    "execution": {
     "iopub.execute_input": "2021-06-10T22:01:37.449831Z",
     "iopub.status.busy": "2021-06-10T22:01:37.449831Z",
     "iopub.status.idle": "2021-06-10T22:01:37.465453Z",
     "shell.execute_reply": "2021-06-10T22:01:37.465453Z"
    }
   },
   "outputs": [
    {
     "data": {
      "text/html": [
       "<div>\n",
       "<style scoped>\n",
       "    .dataframe tbody tr th:only-of-type {\n",
       "        vertical-align: middle;\n",
       "    }\n",
       "\n",
       "    .dataframe tbody tr th {\n",
       "        vertical-align: top;\n",
       "    }\n",
       "\n",
       "    .dataframe thead th {\n",
       "        text-align: right;\n",
       "    }\n",
       "</style>\n",
       "<table border=\"1\" class=\"dataframe\">\n",
       "  <thead>\n",
       "    <tr style=\"text-align: right;\">\n",
       "      <th></th>\n",
       "      <th>King</th>\n",
       "      <th>Kitsap</th>\n",
       "      <th>Pierce</th>\n",
       "      <th>Snohomish</th>\n",
       "    </tr>\n",
       "  </thead>\n",
       "  <tbody>\n",
       "    <tr>\n",
       "      <th>Light</th>\n",
       "      <td>79.6%</td>\n",
       "      <td>96.6%</td>\n",
       "      <td>85.0%</td>\n",
       "      <td>87.8%</td>\n",
       "    </tr>\n",
       "    <tr>\n",
       "      <th>Moderate</th>\n",
       "      <td>13.0%</td>\n",
       "      <td>2.1%</td>\n",
       "      <td>10.9%</td>\n",
       "      <td>8.3%</td>\n",
       "    </tr>\n",
       "    <tr>\n",
       "      <th>Heavy</th>\n",
       "      <td>6.8%</td>\n",
       "      <td>1.2%</td>\n",
       "      <td>3.8%</td>\n",
       "      <td>3.7%</td>\n",
       "    </tr>\n",
       "    <tr>\n",
       "      <th>Severe</th>\n",
       "      <td>0.6%</td>\n",
       "      <td>0.1%</td>\n",
       "      <td>0.3%</td>\n",
       "      <td>0.2%</td>\n",
       "    </tr>\n",
       "  </tbody>\n",
       "</table>\n",
       "</div>"
      ],
      "text/plain": [
       "          King  Kitsap  Pierce  Snohomish\n",
       "Light    79.6%   96.6%   85.0%      87.8%\n",
       "Moderate 13.0%    2.1%   10.9%       8.3%\n",
       "Heavy     6.8%    1.2%    3.8%       3.7%\n",
       "Severe    0.6%    0.1%    0.3%       0.2%"
      ]
     },
     "execution_count": 6,
     "metadata": {},
     "output_type": "execute_result"
    }
   ],
   "source": [
    "pd.options.display.float_format = '{:0,.1%}'.format\n",
    "_df = _df/_df.sum(axis=0)\n",
    "_df"
   ]
  },
  {
   "cell_type": "code",
   "execution_count": 7,
   "metadata": {
    "execution": {
     "iopub.execute_input": "2021-06-10T22:01:37.465453Z",
     "iopub.status.busy": "2021-06-10T22:01:37.465453Z",
     "iopub.status.idle": "2021-06-10T22:01:37.746636Z",
     "shell.execute_reply": "2021-06-10T22:01:37.746636Z"
    }
   },
   "outputs": [
    {
     "data": {
      "image/png": "[encoded data removed]",
      "text/plain": [
       "<Figure size 576x432 with 1 Axes>"
      ]
     },
     "metadata": {},
     "output_type": "display_data"
    }
   ],
   "source": [
    "my_colors = list(islice(cycle(colors), None, len(_df)))\n",
    "ax = _df.plot(kind='barh', alpha=0.6, color=colors, figsize=(8,6))\n",
    "ax.invert_yaxis()\n",
    "ax.legend(loc='lower right');"
   ]
  },
  {
   "cell_type": "markdown",
   "metadata": {},
   "source": [
    "**Freeway** VMT by Congestion Category"
   ]
  },
  {
   "cell_type": "code",
   "execution_count": 8,
   "metadata": {},
   "outputs": [
    {
     "data": {
      "text/html": [
       "<div>\n",
       "<style scoped>\n",
       "    .dataframe tbody tr th:only-of-type {\n",
       "        vertical-align: middle;\n",
       "    }\n",
       "\n",
       "    .dataframe tbody tr th {\n",
       "        vertical-align: top;\n",
       "    }\n",
       "\n",
       "    .dataframe thead th {\n",
       "        text-align: right;\n",
       "    }\n",
       "</style>\n",
       "<table border=\"1\" class=\"dataframe\">\n",
       "  <thead>\n",
       "    <tr style=\"text-align: right;\">\n",
       "      <th></th>\n",
       "      <th>King</th>\n",
       "      <th>Kitsap</th>\n",
       "      <th>Pierce</th>\n",
       "      <th>Snohomish</th>\n",
       "    </tr>\n",
       "  </thead>\n",
       "  <tbody>\n",
       "    <tr>\n",
       "      <th>Light</th>\n",
       "      <td>17,844,685</td>\n",
       "      <td>1,912,260</td>\n",
       "      <td>6,788,774</td>\n",
       "      <td>6,841,743</td>\n",
       "    </tr>\n",
       "    <tr>\n",
       "      <th>Moderate</th>\n",
       "      <td>3,911,525</td>\n",
       "      <td>16,661</td>\n",
       "      <td>1,234,421</td>\n",
       "      <td>789,506</td>\n",
       "    </tr>\n",
       "    <tr>\n",
       "      <th>Heavy</th>\n",
       "      <td>1,993,599</td>\n",
       "      <td>22,757</td>\n",
       "      <td>373,244</td>\n",
       "      <td>316,835</td>\n",
       "    </tr>\n",
       "    <tr>\n",
       "      <th>Severe</th>\n",
       "      <td>76,857</td>\n",
       "      <td>611</td>\n",
       "      <td>23,725</td>\n",
       "      <td>9,489</td>\n",
       "    </tr>\n",
       "  </tbody>\n",
       "</table>\n",
       "</div>"
      ],
      "text/plain": [
       "               King    Kitsap    Pierce  Snohomish\n",
       "Light    17,844,685 1,912,260 6,788,774  6,841,743\n",
       "Moderate  3,911,525    16,661 1,234,421    789,506\n",
       "Heavy     1,993,599    22,757   373,244    316,835\n",
       "Severe       76,857       611    23,725      9,489"
      ]
     },
     "execution_count": 8,
     "metadata": {},
     "output_type": "execute_result"
    }
   ],
   "source": [
    "# Segment by facility type\n",
    "_df = df[df['facility_type'] == 'highway']\n",
    "pd.options.display.float_format = '{:0,.0f}'.format\n",
    "_df = _df.pivot_table(index='congestion_category',columns='county',\n",
    "               aggfunc='sum',values='VMT')\n",
    "_df = _df.reindex(['Light','Moderate','Heavy','Severe'])\n",
    "_df.index.name = None\n",
    "_df.columns.name = None\n",
    "_df"
   ]
  },
  {
   "cell_type": "markdown",
   "metadata": {},
   "source": [
    "**Arterial** VMT by Congestion Category"
   ]
  },
  {
   "cell_type": "code",
   "execution_count": 9,
   "metadata": {},
   "outputs": [
    {
     "data": {
      "text/html": [
       "<div>\n",
       "<style scoped>\n",
       "    .dataframe tbody tr th:only-of-type {\n",
       "        vertical-align: middle;\n",
       "    }\n",
       "\n",
       "    .dataframe tbody tr th {\n",
       "        vertical-align: top;\n",
       "    }\n",
       "\n",
       "    .dataframe thead th {\n",
       "        text-align: right;\n",
       "    }\n",
       "</style>\n",
       "<table border=\"1\" class=\"dataframe\">\n",
       "  <thead>\n",
       "    <tr style=\"text-align: right;\">\n",
       "      <th></th>\n",
       "      <th>King</th>\n",
       "      <th>Kitsap</th>\n",
       "      <th>Pierce</th>\n",
       "      <th>Snohomish</th>\n",
       "    </tr>\n",
       "  </thead>\n",
       "  <tbody>\n",
       "    <tr>\n",
       "      <th>Light</th>\n",
       "      <td>15,213,231</td>\n",
       "      <td>1,942,725</td>\n",
       "      <td>7,744,949</td>\n",
       "      <td>5,848,840</td>\n",
       "    </tr>\n",
       "    <tr>\n",
       "      <th>Moderate</th>\n",
       "      <td>1,884,563</td>\n",
       "      <td>75,349</td>\n",
       "      <td>782,792</td>\n",
       "      <td>512,665</td>\n",
       "    </tr>\n",
       "    <tr>\n",
       "      <th>Heavy</th>\n",
       "      <td>1,013,820</td>\n",
       "      <td>30,864</td>\n",
       "      <td>324,586</td>\n",
       "      <td>269,833</td>\n",
       "    </tr>\n",
       "    <tr>\n",
       "      <th>Severe</th>\n",
       "      <td>181,367</td>\n",
       "      <td>2,813</td>\n",
       "      <td>31,977</td>\n",
       "      <td>28,566</td>\n",
       "    </tr>\n",
       "  </tbody>\n",
       "</table>\n",
       "</div>"
      ],
      "text/plain": [
       "               King    Kitsap    Pierce  Snohomish\n",
       "Light    15,213,231 1,942,725 7,744,949  5,848,840\n",
       "Moderate  1,884,563    75,349   782,792    512,665\n",
       "Heavy     1,013,820    30,864   324,586    269,833\n",
       "Severe      181,367     2,813    31,977     28,566"
      ]
     },
     "execution_count": 9,
     "metadata": {},
     "output_type": "execute_result"
    }
   ],
   "source": [
    "# Segment by facility type\n",
    "_df = df[df['facility_type'] == 'arterial']\n",
    "pd.options.display.float_format = '{:0,.0f}'.format\n",
    "_df = _df.pivot_table(index='congestion_category',columns='county',\n",
    "               aggfunc='sum',values='VMT')\n",
    "_df = _df.reindex(['Light','Moderate','Heavy','Severe'])\n",
    "_df.index.name = None\n",
    "_df.columns.name = None\n",
    "_df"
   ]
  },
  {
   "cell_type": "markdown",
   "metadata": {},
   "source": [
    "#### AM Peak (7 to 8 AM)"
   ]
  },
  {
   "cell_type": "code",
   "execution_count": 10,
   "metadata": {
    "execution": {
     "iopub.execute_input": "2021-06-10T22:01:37.809121Z",
     "iopub.status.busy": "2021-06-10T22:01:37.809121Z",
     "iopub.status.idle": "2021-06-10T22:01:37.871605Z",
     "shell.execute_reply": "2021-06-10T22:01:37.871605Z"
    }
   },
   "outputs": [
    {
     "data": {
      "text/html": [
       "<div>\n",
       "<style scoped>\n",
       "    .dataframe tbody tr th:only-of-type {\n",
       "        vertical-align: middle;\n",
       "    }\n",
       "\n",
       "    .dataframe tbody tr th {\n",
       "        vertical-align: top;\n",
       "    }\n",
       "\n",
       "    .dataframe thead th {\n",
       "        text-align: right;\n",
       "    }\n",
       "</style>\n",
       "<table border=\"1\" class=\"dataframe\">\n",
       "  <thead>\n",
       "    <tr style=\"text-align: right;\">\n",
       "      <th></th>\n",
       "      <th>King</th>\n",
       "      <th>Kitsap</th>\n",
       "      <th>Pierce</th>\n",
       "      <th>Snohomish</th>\n",
       "    </tr>\n",
       "  </thead>\n",
       "  <tbody>\n",
       "    <tr>\n",
       "      <th>Light</th>\n",
       "      <td>2,180,987</td>\n",
       "      <td>302,359</td>\n",
       "      <td>959,362</td>\n",
       "      <td>912,938</td>\n",
       "    </tr>\n",
       "    <tr>\n",
       "      <th>Moderate</th>\n",
       "      <td>555,363</td>\n",
       "      <td>10,072</td>\n",
       "      <td>299,716</td>\n",
       "      <td>142,834</td>\n",
       "    </tr>\n",
       "    <tr>\n",
       "      <th>Heavy</th>\n",
       "      <td>503,015</td>\n",
       "      <td>8,557</td>\n",
       "      <td>138,746</td>\n",
       "      <td>118,869</td>\n",
       "    </tr>\n",
       "    <tr>\n",
       "      <th>Severe</th>\n",
       "      <td>33,750</td>\n",
       "      <td>283</td>\n",
       "      <td>25,575</td>\n",
       "      <td>3,983</td>\n",
       "    </tr>\n",
       "  </tbody>\n",
       "</table>\n",
       "</div>"
      ],
      "text/plain": [
       "              King  Kitsap  Pierce  Snohomish\n",
       "Light    2,180,987 302,359 959,362    912,938\n",
       "Moderate   555,363  10,072 299,716    142,834\n",
       "Heavy      503,015   8,557 138,746    118,869\n",
       "Severe      33,750     283  25,575      3,983"
      ]
     },
     "execution_count": 10,
     "metadata": {},
     "output_type": "execute_result"
    }
   ],
   "source": [
    "pd.options.display.float_format = '{:0,.0f}'.format\n",
    "df_am = df[df['tod'] == '7to8']\n",
    "_df = df_am.pivot_table(index='congestion_category',columns='county',\n",
    "               aggfunc='sum',values='VMT')\n",
    "_df = _df.reindex(['Light','Moderate','Heavy','Severe'])\n",
    "_df.index.name = None\n",
    "_df.columns.name = None\n",
    "_df"
   ]
  },
  {
   "cell_type": "code",
   "execution_count": 11,
   "metadata": {
    "execution": {
     "iopub.execute_input": "2021-06-10T22:01:37.871605Z",
     "iopub.status.busy": "2021-06-10T22:01:37.871605Z",
     "iopub.status.idle": "2021-06-10T22:01:37.887225Z",
     "shell.execute_reply": "2021-06-10T22:01:37.887225Z"
    }
   },
   "outputs": [
    {
     "data": {
      "text/html": [
       "<div>\n",
       "<style scoped>\n",
       "    .dataframe tbody tr th:only-of-type {\n",
       "        vertical-align: middle;\n",
       "    }\n",
       "\n",
       "    .dataframe tbody tr th {\n",
       "        vertical-align: top;\n",
       "    }\n",
       "\n",
       "    .dataframe thead th {\n",
       "        text-align: right;\n",
       "    }\n",
       "</style>\n",
       "<table border=\"1\" class=\"dataframe\">\n",
       "  <thead>\n",
       "    <tr style=\"text-align: right;\">\n",
       "      <th></th>\n",
       "      <th>King</th>\n",
       "      <th>Kitsap</th>\n",
       "      <th>Pierce</th>\n",
       "      <th>Snohomish</th>\n",
       "    </tr>\n",
       "  </thead>\n",
       "  <tbody>\n",
       "    <tr>\n",
       "      <th>Light</th>\n",
       "      <td>66.6%</td>\n",
       "      <td>94.1%</td>\n",
       "      <td>67.4%</td>\n",
       "      <td>77.5%</td>\n",
       "    </tr>\n",
       "    <tr>\n",
       "      <th>Moderate</th>\n",
       "      <td>17.0%</td>\n",
       "      <td>3.1%</td>\n",
       "      <td>21.1%</td>\n",
       "      <td>12.1%</td>\n",
       "    </tr>\n",
       "    <tr>\n",
       "      <th>Heavy</th>\n",
       "      <td>15.4%</td>\n",
       "      <td>2.7%</td>\n",
       "      <td>9.7%</td>\n",
       "      <td>10.1%</td>\n",
       "    </tr>\n",
       "    <tr>\n",
       "      <th>Severe</th>\n",
       "      <td>1.0%</td>\n",
       "      <td>0.1%</td>\n",
       "      <td>1.8%</td>\n",
       "      <td>0.3%</td>\n",
       "    </tr>\n",
       "  </tbody>\n",
       "</table>\n",
       "</div>"
      ],
      "text/plain": [
       "          King  Kitsap  Pierce  Snohomish\n",
       "Light    66.6%   94.1%   67.4%      77.5%\n",
       "Moderate 17.0%    3.1%   21.1%      12.1%\n",
       "Heavy    15.4%    2.7%    9.7%      10.1%\n",
       "Severe    1.0%    0.1%    1.8%       0.3%"
      ]
     },
     "execution_count": 11,
     "metadata": {},
     "output_type": "execute_result"
    }
   ],
   "source": [
    "pd.options.display.float_format = '{:0,.1%}'.format\n",
    "_df = _df/_df.sum(axis=0)\n",
    "_df"
   ]
  },
  {
   "cell_type": "code",
   "execution_count": 12,
   "metadata": {
    "execution": {
     "iopub.execute_input": "2021-06-10T22:01:37.934088Z",
     "iopub.status.busy": "2021-06-10T22:01:37.902850Z",
     "iopub.status.idle": "2021-06-10T22:01:38.059064Z",
     "shell.execute_reply": "2021-06-10T22:01:38.059064Z"
    }
   },
   "outputs": [
    {
     "data": {
      "image/png": "[encoded data removed]",
      "text/plain": [
       "<Figure size 576x432 with 1 Axes>"
      ]
     },
     "metadata": {},
     "output_type": "display_data"
    }
   ],
   "source": [
    "my_colors = list(islice(cycle(colors), None, len(_df)))\n",
    "ax = _df.plot(kind='barh', alpha=0.6, color=colors, figsize=(8,6))\n",
    "ax.invert_yaxis()\n",
    "ax.legend(loc='lower right');"
   ]
  },
  {
   "cell_type": "markdown",
   "metadata": {},
   "source": [
    "AM Peak **Freeway** VMT"
   ]
  },
  {
   "cell_type": "code",
   "execution_count": 13,
   "metadata": {},
   "outputs": [
    {
     "data": {
      "text/html": [
       "<div>\n",
       "<style scoped>\n",
       "    .dataframe tbody tr th:only-of-type {\n",
       "        vertical-align: middle;\n",
       "    }\n",
       "\n",
       "    .dataframe tbody tr th {\n",
       "        vertical-align: top;\n",
       "    }\n",
       "\n",
       "    .dataframe thead th {\n",
       "        text-align: right;\n",
       "    }\n",
       "</style>\n",
       "<table border=\"1\" class=\"dataframe\">\n",
       "  <thead>\n",
       "    <tr style=\"text-align: right;\">\n",
       "      <th></th>\n",
       "      <th>King</th>\n",
       "      <th>Kitsap</th>\n",
       "      <th>Pierce</th>\n",
       "      <th>Snohomish</th>\n",
       "    </tr>\n",
       "  </thead>\n",
       "  <tbody>\n",
       "    <tr>\n",
       "      <th>Light</th>\n",
       "      <td>989,543</td>\n",
       "      <td>143,283</td>\n",
       "      <td>320,868</td>\n",
       "      <td>453,266</td>\n",
       "    </tr>\n",
       "    <tr>\n",
       "      <th>Moderate</th>\n",
       "      <td>367,632</td>\n",
       "      <td>4,541</td>\n",
       "      <td>221,175</td>\n",
       "      <td>79,979</td>\n",
       "    </tr>\n",
       "    <tr>\n",
       "      <th>Heavy</th>\n",
       "      <td>397,535</td>\n",
       "      <td>6,229</td>\n",
       "      <td>101,267</td>\n",
       "      <td>92,363</td>\n",
       "    </tr>\n",
       "    <tr>\n",
       "      <th>Severe</th>\n",
       "      <td>13,977</td>\n",
       "      <td>0</td>\n",
       "      <td>21,938</td>\n",
       "      <td>714</td>\n",
       "    </tr>\n",
       "  </tbody>\n",
       "</table>\n",
       "</div>"
      ],
      "text/plain": [
       "            King  Kitsap  Pierce  Snohomish\n",
       "Light    989,543 143,283 320,868    453,266\n",
       "Moderate 367,632   4,541 221,175     79,979\n",
       "Heavy    397,535   6,229 101,267     92,363\n",
       "Severe    13,977       0  21,938        714"
      ]
     },
     "execution_count": 13,
     "metadata": {},
     "output_type": "execute_result"
    }
   ],
   "source": [
    "# Segment by facility type\n",
    "_df = df_am[df_am['facility_type'] == 'highway']\n",
    "pd.options.display.float_format = '{:0,.0f}'.format\n",
    "_df = _df.pivot_table(index='congestion_category',columns='county',\n",
    "               aggfunc='sum',values='VMT')\n",
    "_df = _df.reindex(['Light','Moderate','Heavy','Severe'])\n",
    "_df.index.name = None\n",
    "_df.columns.name = None\n",
    "_df"
   ]
  },
  {
   "cell_type": "markdown",
   "metadata": {},
   "source": [
    "AM Peak **Arterial** VMT"
   ]
  },
  {
   "cell_type": "code",
   "execution_count": 14,
   "metadata": {},
   "outputs": [
    {
     "data": {
      "text/html": [
       "<div>\n",
       "<style scoped>\n",
       "    .dataframe tbody tr th:only-of-type {\n",
       "        vertical-align: middle;\n",
       "    }\n",
       "\n",
       "    .dataframe tbody tr th {\n",
       "        vertical-align: top;\n",
       "    }\n",
       "\n",
       "    .dataframe thead th {\n",
       "        text-align: right;\n",
       "    }\n",
       "</style>\n",
       "<table border=\"1\" class=\"dataframe\">\n",
       "  <thead>\n",
       "    <tr style=\"text-align: right;\">\n",
       "      <th></th>\n",
       "      <th>King</th>\n",
       "      <th>Kitsap</th>\n",
       "      <th>Pierce</th>\n",
       "      <th>Snohomish</th>\n",
       "    </tr>\n",
       "  </thead>\n",
       "  <tbody>\n",
       "    <tr>\n",
       "      <th>Light</th>\n",
       "      <td>1,052,078</td>\n",
       "      <td>138,178</td>\n",
       "      <td>562,335</td>\n",
       "      <td>392,431</td>\n",
       "    </tr>\n",
       "    <tr>\n",
       "      <th>Moderate</th>\n",
       "      <td>187,731</td>\n",
       "      <td>5,532</td>\n",
       "      <td>78,542</td>\n",
       "      <td>62,856</td>\n",
       "    </tr>\n",
       "    <tr>\n",
       "      <th>Heavy</th>\n",
       "      <td>105,018</td>\n",
       "      <td>2,328</td>\n",
       "      <td>37,479</td>\n",
       "      <td>26,506</td>\n",
       "    </tr>\n",
       "    <tr>\n",
       "      <th>Severe</th>\n",
       "      <td>19,773</td>\n",
       "      <td>283</td>\n",
       "      <td>3,637</td>\n",
       "      <td>3,270</td>\n",
       "    </tr>\n",
       "  </tbody>\n",
       "</table>\n",
       "</div>"
      ],
      "text/plain": [
       "              King  Kitsap  Pierce  Snohomish\n",
       "Light    1,052,078 138,178 562,335    392,431\n",
       "Moderate   187,731   5,532  78,542     62,856\n",
       "Heavy      105,018   2,328  37,479     26,506\n",
       "Severe      19,773     283   3,637      3,270"
      ]
     },
     "execution_count": 14,
     "metadata": {},
     "output_type": "execute_result"
    }
   ],
   "source": [
    "# Segment by facility type\n",
    "_df = df_am[df_am['facility_type'] == 'arterial']\n",
    "pd.options.display.float_format = '{:0,.0f}'.format\n",
    "_df = _df.pivot_table(index='congestion_category',columns='county',\n",
    "               aggfunc='sum',values='VMT')\n",
    "_df = _df.reindex(['Light','Moderate','Heavy','Severe'])\n",
    "_df.index.name = None\n",
    "_df.columns.name = None\n",
    "_df"
   ]
  },
  {
   "cell_type": "markdown",
   "metadata": {},
   "source": [
    "#### PM Peak (5 to 6 PM)"
   ]
  },
  {
   "cell_type": "code",
   "execution_count": 15,
   "metadata": {
    "execution": {
     "iopub.execute_input": "2021-06-10T22:01:38.105931Z",
     "iopub.status.busy": "2021-06-10T22:01:38.105931Z",
     "iopub.status.idle": "2021-06-10T22:01:38.152724Z",
     "shell.execute_reply": "2021-06-10T22:01:38.152724Z"
    }
   },
   "outputs": [
    {
     "data": {
      "text/html": [
       "<div>\n",
       "<style scoped>\n",
       "    .dataframe tbody tr th:only-of-type {\n",
       "        vertical-align: middle;\n",
       "    }\n",
       "\n",
       "    .dataframe tbody tr th {\n",
       "        vertical-align: top;\n",
       "    }\n",
       "\n",
       "    .dataframe thead th {\n",
       "        text-align: right;\n",
       "    }\n",
       "</style>\n",
       "<table border=\"1\" class=\"dataframe\">\n",
       "  <thead>\n",
       "    <tr style=\"text-align: right;\">\n",
       "      <th></th>\n",
       "      <th>King</th>\n",
       "      <th>Kitsap</th>\n",
       "      <th>Pierce</th>\n",
       "      <th>Snohomish</th>\n",
       "    </tr>\n",
       "  </thead>\n",
       "  <tbody>\n",
       "    <tr>\n",
       "      <th>Light</th>\n",
       "      <td>2,180,987</td>\n",
       "      <td>302,359</td>\n",
       "      <td>959,362</td>\n",
       "      <td>912,938</td>\n",
       "    </tr>\n",
       "    <tr>\n",
       "      <th>Moderate</th>\n",
       "      <td>555,363</td>\n",
       "      <td>10,072</td>\n",
       "      <td>299,716</td>\n",
       "      <td>142,834</td>\n",
       "    </tr>\n",
       "    <tr>\n",
       "      <th>Heavy</th>\n",
       "      <td>503,015</td>\n",
       "      <td>8,557</td>\n",
       "      <td>138,746</td>\n",
       "      <td>118,869</td>\n",
       "    </tr>\n",
       "    <tr>\n",
       "      <th>Severe</th>\n",
       "      <td>33,750</td>\n",
       "      <td>283</td>\n",
       "      <td>25,575</td>\n",
       "      <td>3,983</td>\n",
       "    </tr>\n",
       "  </tbody>\n",
       "</table>\n",
       "</div>"
      ],
      "text/plain": [
       "              King  Kitsap  Pierce  Snohomish\n",
       "Light    2,180,987 302,359 959,362    912,938\n",
       "Moderate   555,363  10,072 299,716    142,834\n",
       "Heavy      503,015   8,557 138,746    118,869\n",
       "Severe      33,750     283  25,575      3,983"
      ]
     },
     "execution_count": 15,
     "metadata": {},
     "output_type": "execute_result"
    }
   ],
   "source": [
    "pd.options.display.float_format = '{:0,.0f}'.format\n",
    "df_pm = df[df['tod'] == '17to18']\n",
    "_df = df_am.pivot_table(index='congestion_category',columns='county',\n",
    "               aggfunc='sum',values='VMT')\n",
    "_df = _df.reindex(['Light','Moderate','Heavy','Severe'])\n",
    "_df.index.name = None\n",
    "_df.columns.name = None\n",
    "_df"
   ]
  },
  {
   "cell_type": "code",
   "execution_count": 16,
   "metadata": {
    "execution": {
     "iopub.execute_input": "2021-06-10T22:01:38.168411Z",
     "iopub.status.busy": "2021-06-10T22:01:38.168411Z",
     "iopub.status.idle": "2021-06-10T22:01:38.184033Z",
     "shell.execute_reply": "2021-06-10T22:01:38.184033Z"
    }
   },
   "outputs": [
    {
     "data": {
      "text/html": [
       "<div>\n",
       "<style scoped>\n",
       "    .dataframe tbody tr th:only-of-type {\n",
       "        vertical-align: middle;\n",
       "    }\n",
       "\n",
       "    .dataframe tbody tr th {\n",
       "        vertical-align: top;\n",
       "    }\n",
       "\n",
       "    .dataframe thead th {\n",
       "        text-align: right;\n",
       "    }\n",
       "</style>\n",
       "<table border=\"1\" class=\"dataframe\">\n",
       "  <thead>\n",
       "    <tr style=\"text-align: right;\">\n",
       "      <th></th>\n",
       "      <th>King</th>\n",
       "      <th>Kitsap</th>\n",
       "      <th>Pierce</th>\n",
       "      <th>Snohomish</th>\n",
       "    </tr>\n",
       "  </thead>\n",
       "  <tbody>\n",
       "    <tr>\n",
       "      <th>Light</th>\n",
       "      <td>66.6%</td>\n",
       "      <td>94.1%</td>\n",
       "      <td>67.4%</td>\n",
       "      <td>77.5%</td>\n",
       "    </tr>\n",
       "    <tr>\n",
       "      <th>Moderate</th>\n",
       "      <td>17.0%</td>\n",
       "      <td>3.1%</td>\n",
       "      <td>21.1%</td>\n",
       "      <td>12.1%</td>\n",
       "    </tr>\n",
       "    <tr>\n",
       "      <th>Heavy</th>\n",
       "      <td>15.4%</td>\n",
       "      <td>2.7%</td>\n",
       "      <td>9.7%</td>\n",
       "      <td>10.1%</td>\n",
       "    </tr>\n",
       "    <tr>\n",
       "      <th>Severe</th>\n",
       "      <td>1.0%</td>\n",
       "      <td>0.1%</td>\n",
       "      <td>1.8%</td>\n",
       "      <td>0.3%</td>\n",
       "    </tr>\n",
       "  </tbody>\n",
       "</table>\n",
       "</div>"
      ],
      "text/plain": [
       "          King  Kitsap  Pierce  Snohomish\n",
       "Light    66.6%   94.1%   67.4%      77.5%\n",
       "Moderate 17.0%    3.1%   21.1%      12.1%\n",
       "Heavy    15.4%    2.7%    9.7%      10.1%\n",
       "Severe    1.0%    0.1%    1.8%       0.3%"
      ]
     },
     "execution_count": 16,
     "metadata": {},
     "output_type": "execute_result"
    }
   ],
   "source": [
    "pd.options.display.float_format = '{:0,.1%}'.format\n",
    "_df = _df/_df.sum(axis=0)\n",
    "_df"
   ]
  },
  {
   "cell_type": "code",
   "execution_count": 17,
   "metadata": {
    "execution": {
     "iopub.execute_input": "2021-06-10T22:01:38.215280Z",
     "iopub.status.busy": "2021-06-10T22:01:38.199653Z",
     "iopub.status.idle": "2021-06-10T22:01:38.402730Z",
     "shell.execute_reply": "2021-06-10T22:01:38.402730Z"
    }
   },
   "outputs": [
    {
     "data": {
      "image/png": "[encoded data removed]",
      "text/plain": [
       "<Figure size 576x432 with 1 Axes>"
      ]
     },
     "metadata": {},
     "output_type": "display_data"
    }
   ],
   "source": [
    "my_colors = list(islice(cycle(colors), None, len(_df)))\n",
    "ax = _df.plot(kind='barh', alpha=0.6, color=colors, figsize=(8,6))\n",
    "ax.invert_yaxis()\n",
    "ax.legend(loc='lower right');"
   ]
  },
  {
   "cell_type": "markdown",
   "metadata": {},
   "source": [
    "PM **Freeway** VMT"
   ]
  },
  {
   "cell_type": "code",
   "execution_count": 18,
   "metadata": {},
   "outputs": [
    {
     "data": {
      "text/html": [
       "<div>\n",
       "<style scoped>\n",
       "    .dataframe tbody tr th:only-of-type {\n",
       "        vertical-align: middle;\n",
       "    }\n",
       "\n",
       "    .dataframe tbody tr th {\n",
       "        vertical-align: top;\n",
       "    }\n",
       "\n",
       "    .dataframe thead th {\n",
       "        text-align: right;\n",
       "    }\n",
       "</style>\n",
       "<table border=\"1\" class=\"dataframe\">\n",
       "  <thead>\n",
       "    <tr style=\"text-align: right;\">\n",
       "      <th></th>\n",
       "      <th>King</th>\n",
       "      <th>Kitsap</th>\n",
       "      <th>Pierce</th>\n",
       "      <th>Snohomish</th>\n",
       "    </tr>\n",
       "  </thead>\n",
       "  <tbody>\n",
       "    <tr>\n",
       "      <th>Light</th>\n",
       "      <td>1,020,928</td>\n",
       "      <td>154,884</td>\n",
       "      <td>348,592</td>\n",
       "      <td>452,126</td>\n",
       "    </tr>\n",
       "    <tr>\n",
       "      <th>Moderate</th>\n",
       "      <td>456,186</td>\n",
       "      <td>872</td>\n",
       "      <td>209,003</td>\n",
       "      <td>132,005</td>\n",
       "    </tr>\n",
       "    <tr>\n",
       "      <th>Heavy</th>\n",
       "      <td>345,064</td>\n",
       "      <td>5,349</td>\n",
       "      <td>110,117</td>\n",
       "      <td>57,134</td>\n",
       "    </tr>\n",
       "    <tr>\n",
       "      <th>Severe</th>\n",
       "      <td>17,059</td>\n",
       "      <td>174</td>\n",
       "      <td>621</td>\n",
       "      <td>801</td>\n",
       "    </tr>\n",
       "  </tbody>\n",
       "</table>\n",
       "</div>"
      ],
      "text/plain": [
       "              King  Kitsap  Pierce  Snohomish\n",
       "Light    1,020,928 154,884 348,592    452,126\n",
       "Moderate   456,186     872 209,003    132,005\n",
       "Heavy      345,064   5,349 110,117     57,134\n",
       "Severe      17,059     174     621        801"
      ]
     },
     "execution_count": 18,
     "metadata": {},
     "output_type": "execute_result"
    }
   ],
   "source": [
    "# Segment by facility type\n",
    "_df = df_pm[df_pm['facility_type'] == 'highway']\n",
    "pd.options.display.float_format = '{:0,.0f}'.format\n",
    "_df = _df.pivot_table(index='congestion_category',columns='county',\n",
    "               aggfunc='sum',values='VMT')\n",
    "_df = _df.reindex(['Light','Moderate','Heavy','Severe'])\n",
    "_df.index.name = None\n",
    "_df.columns.name = None\n",
    "_df"
   ]
  },
  {
   "cell_type": "markdown",
   "metadata": {},
   "source": [
    "PM **Arterial** VMT"
   ]
  },
  {
   "cell_type": "code",
   "execution_count": 19,
   "metadata": {},
   "outputs": [
    {
     "data": {
      "text/html": [
       "<div>\n",
       "<style scoped>\n",
       "    .dataframe tbody tr th:only-of-type {\n",
       "        vertical-align: middle;\n",
       "    }\n",
       "\n",
       "    .dataframe tbody tr th {\n",
       "        vertical-align: top;\n",
       "    }\n",
       "\n",
       "    .dataframe thead th {\n",
       "        text-align: right;\n",
       "    }\n",
       "</style>\n",
       "<table border=\"1\" class=\"dataframe\">\n",
       "  <thead>\n",
       "    <tr style=\"text-align: right;\">\n",
       "      <th></th>\n",
       "      <th>King</th>\n",
       "      <th>Kitsap</th>\n",
       "      <th>Pierce</th>\n",
       "      <th>Snohomish</th>\n",
       "    </tr>\n",
       "  </thead>\n",
       "  <tbody>\n",
       "    <tr>\n",
       "      <th>Light</th>\n",
       "      <td>1,224,270</td>\n",
       "      <td>157,401</td>\n",
       "      <td>629,228</td>\n",
       "      <td>459,205</td>\n",
       "    </tr>\n",
       "    <tr>\n",
       "      <th>Moderate</th>\n",
       "      <td>220,216</td>\n",
       "      <td>6,305</td>\n",
       "      <td>90,069</td>\n",
       "      <td>65,025</td>\n",
       "    </tr>\n",
       "    <tr>\n",
       "      <th>Heavy</th>\n",
       "      <td>115,807</td>\n",
       "      <td>3,137</td>\n",
       "      <td>39,800</td>\n",
       "      <td>30,511</td>\n",
       "    </tr>\n",
       "    <tr>\n",
       "      <th>Severe</th>\n",
       "      <td>23,532</td>\n",
       "      <td>256</td>\n",
       "      <td>4,058</td>\n",
       "      <td>4,081</td>\n",
       "    </tr>\n",
       "  </tbody>\n",
       "</table>\n",
       "</div>"
      ],
      "text/plain": [
       "              King  Kitsap  Pierce  Snohomish\n",
       "Light    1,224,270 157,401 629,228    459,205\n",
       "Moderate   220,216   6,305  90,069     65,025\n",
       "Heavy      115,807   3,137  39,800     30,511\n",
       "Severe      23,532     256   4,058      4,081"
      ]
     },
     "execution_count": 19,
     "metadata": {},
     "output_type": "execute_result"
    }
   ],
   "source": [
    "# Segment by facility type\n",
    "_df = df_pm[df_pm['facility_type'] == 'arterial']\n",
    "pd.options.display.float_format = '{:0,.0f}'.format\n",
    "_df = _df.pivot_table(index='congestion_category',columns='county',\n",
    "               aggfunc='sum',values='VMT')\n",
    "_df = _df.reindex(['Light','Moderate','Heavy','Severe'])\n",
    "_df.index.name = None\n",
    "_df.columns.name = None\n",
    "_df"
   ]
  },
  {
   "cell_type": "markdown",
   "metadata": {},
   "source": [
    "# Freight Congestion\n",
    "## All Trucks (Heavy & Medium)\n",
    "#### All Day"
   ]
  },
  {
   "cell_type": "code",
   "execution_count": 20,
   "metadata": {
    "execution": {
     "iopub.execute_input": "2021-06-10T22:01:38.402730Z",
     "iopub.status.busy": "2021-06-10T22:01:38.402730Z",
     "iopub.status.idle": "2021-06-10T22:01:38.449596Z",
     "shell.execute_reply": "2021-06-10T22:01:38.449596Z"
    }
   },
   "outputs": [],
   "source": [
    "df['heavy_truck_vmt'] = df['length']*df['@heavy_truck']\n",
    "df['medium_truck_vmt'] = df['length']*df['@medium_truck']\n",
    "df['total_truck_vmt'] = df['heavy_truck_vmt']+df['medium_truck_vmt'] "
   ]
  },
  {
   "cell_type": "code",
   "execution_count": 21,
   "metadata": {
    "execution": {
     "iopub.execute_input": "2021-06-10T22:01:38.449596Z",
     "iopub.status.busy": "2021-06-10T22:01:38.449596Z",
     "iopub.status.idle": "2021-06-10T22:01:38.762022Z",
     "shell.execute_reply": "2021-06-10T22:01:38.762022Z"
    }
   },
   "outputs": [
    {
     "data": {
      "text/html": [
       "<div>\n",
       "<style scoped>\n",
       "    .dataframe tbody tr th:only-of-type {\n",
       "        vertical-align: middle;\n",
       "    }\n",
       "\n",
       "    .dataframe tbody tr th {\n",
       "        vertical-align: top;\n",
       "    }\n",
       "\n",
       "    .dataframe thead th {\n",
       "        text-align: right;\n",
       "    }\n",
       "</style>\n",
       "<table border=\"1\" class=\"dataframe\">\n",
       "  <thead>\n",
       "    <tr style=\"text-align: right;\">\n",
       "      <th></th>\n",
       "      <th>King</th>\n",
       "      <th>Kitsap</th>\n",
       "      <th>Pierce</th>\n",
       "      <th>Snohomish</th>\n",
       "    </tr>\n",
       "  </thead>\n",
       "  <tbody>\n",
       "    <tr>\n",
       "      <th>Light</th>\n",
       "      <td>4,932,565</td>\n",
       "      <td>407,372</td>\n",
       "      <td>1,741,217</td>\n",
       "      <td>1,849,348</td>\n",
       "    </tr>\n",
       "    <tr>\n",
       "      <th>Moderate</th>\n",
       "      <td>892,306</td>\n",
       "      <td>6,645</td>\n",
       "      <td>259,998</td>\n",
       "      <td>162,766</td>\n",
       "    </tr>\n",
       "    <tr>\n",
       "      <th>Heavy</th>\n",
       "      <td>417,367</td>\n",
       "      <td>3,897</td>\n",
       "      <td>70,387</td>\n",
       "      <td>56,405</td>\n",
       "    </tr>\n",
       "    <tr>\n",
       "      <th>Severe</th>\n",
       "      <td>22,868</td>\n",
       "      <td>199</td>\n",
       "      <td>5,297</td>\n",
       "      <td>2,319</td>\n",
       "    </tr>\n",
       "  </tbody>\n",
       "</table>\n",
       "</div>"
      ],
      "text/plain": [
       "              King  Kitsap    Pierce  Snohomish\n",
       "Light    4,932,565 407,372 1,741,217  1,849,348\n",
       "Moderate   892,306   6,645   259,998    162,766\n",
       "Heavy      417,367   3,897    70,387     56,405\n",
       "Severe      22,868     199     5,297      2,319"
      ]
     },
     "execution_count": 21,
     "metadata": {},
     "output_type": "execute_result"
    }
   ],
   "source": [
    "pd.options.display.float_format = '{:0,.0f}'.format\n",
    "_df = df.pivot_table(index='congestion_category',columns='county',\n",
    "               aggfunc='sum',values='total_truck_vmt')\n",
    "_df = _df.reindex(['Light','Moderate','Heavy','Severe'])\n",
    "_df.index.name = None\n",
    "_df.columns.name = None\n",
    "_df"
   ]
  },
  {
   "cell_type": "code",
   "execution_count": 22,
   "metadata": {
    "execution": {
     "iopub.execute_input": "2021-06-10T22:01:38.777650Z",
     "iopub.status.busy": "2021-06-10T22:01:38.777650Z",
     "iopub.status.idle": "2021-06-10T22:01:38.793272Z",
     "shell.execute_reply": "2021-06-10T22:01:38.793272Z"
    }
   },
   "outputs": [
    {
     "data": {
      "text/html": [
       "<div>\n",
       "<style scoped>\n",
       "    .dataframe tbody tr th:only-of-type {\n",
       "        vertical-align: middle;\n",
       "    }\n",
       "\n",
       "    .dataframe tbody tr th {\n",
       "        vertical-align: top;\n",
       "    }\n",
       "\n",
       "    .dataframe thead th {\n",
       "        text-align: right;\n",
       "    }\n",
       "</style>\n",
       "<table border=\"1\" class=\"dataframe\">\n",
       "  <thead>\n",
       "    <tr style=\"text-align: right;\">\n",
       "      <th></th>\n",
       "      <th>King</th>\n",
       "      <th>Kitsap</th>\n",
       "      <th>Pierce</th>\n",
       "      <th>Snohomish</th>\n",
       "    </tr>\n",
       "  </thead>\n",
       "  <tbody>\n",
       "    <tr>\n",
       "      <th>Light</th>\n",
       "      <td>78.7%</td>\n",
       "      <td>97.4%</td>\n",
       "      <td>83.8%</td>\n",
       "      <td>89.3%</td>\n",
       "    </tr>\n",
       "    <tr>\n",
       "      <th>Moderate</th>\n",
       "      <td>14.2%</td>\n",
       "      <td>1.6%</td>\n",
       "      <td>12.5%</td>\n",
       "      <td>7.9%</td>\n",
       "    </tr>\n",
       "    <tr>\n",
       "      <th>Heavy</th>\n",
       "      <td>6.7%</td>\n",
       "      <td>0.9%</td>\n",
       "      <td>3.4%</td>\n",
       "      <td>2.7%</td>\n",
       "    </tr>\n",
       "    <tr>\n",
       "      <th>Severe</th>\n",
       "      <td>0.4%</td>\n",
       "      <td>0.0%</td>\n",
       "      <td>0.3%</td>\n",
       "      <td>0.1%</td>\n",
       "    </tr>\n",
       "  </tbody>\n",
       "</table>\n",
       "</div>"
      ],
      "text/plain": [
       "          King  Kitsap  Pierce  Snohomish\n",
       "Light    78.7%   97.4%   83.8%      89.3%\n",
       "Moderate 14.2%    1.6%   12.5%       7.9%\n",
       "Heavy     6.7%    0.9%    3.4%       2.7%\n",
       "Severe    0.4%    0.0%    0.3%       0.1%"
      ]
     },
     "execution_count": 22,
     "metadata": {},
     "output_type": "execute_result"
    }
   ],
   "source": [
    "pd.options.display.float_format = '{:0,.1%}'.format\n",
    "_df = _df/_df.sum(axis=0)\n",
    "_df"
   ]
  },
  {
   "cell_type": "code",
   "execution_count": 23,
   "metadata": {
    "execution": {
     "iopub.execute_input": "2021-06-10T22:01:38.886989Z",
     "iopub.status.busy": "2021-06-10T22:01:38.808888Z",
     "iopub.status.idle": "2021-06-10T22:01:39.027589Z",
     "shell.execute_reply": "2021-06-10T22:01:39.027589Z"
    }
   },
   "outputs": [
    {
     "data": {
      "image/png": "[encoded data removed]",
      "text/plain": [
       "<Figure size 576x432 with 1 Axes>"
      ]
     },
     "metadata": {},
     "output_type": "display_data"
    }
   ],
   "source": [
    "my_colors = list(islice(cycle(colors), None, len(_df)))\n",
    "ax = _df.plot(kind='barh', alpha=0.6, color=colors, figsize=(8,6))\n",
    "ax.invert_yaxis()\n",
    "ax.legend(loc='lower right');"
   ]
  },
  {
   "cell_type": "markdown",
   "metadata": {},
   "source": [
    "## Heavy Trucks"
   ]
  },
  {
   "cell_type": "code",
   "execution_count": 24,
   "metadata": {
    "execution": {
     "iopub.execute_input": "2021-06-10T22:01:39.058829Z",
     "iopub.status.busy": "2021-06-10T22:01:39.058829Z",
     "iopub.status.idle": "2021-06-10T22:01:39.168179Z",
     "shell.execute_reply": "2021-06-10T22:01:39.168179Z"
    }
   },
   "outputs": [
    {
     "data": {
      "text/html": [
       "<div>\n",
       "<style scoped>\n",
       "    .dataframe tbody tr th:only-of-type {\n",
       "        vertical-align: middle;\n",
       "    }\n",
       "\n",
       "    .dataframe tbody tr th {\n",
       "        vertical-align: top;\n",
       "    }\n",
       "\n",
       "    .dataframe thead th {\n",
       "        text-align: right;\n",
       "    }\n",
       "</style>\n",
       "<table border=\"1\" class=\"dataframe\">\n",
       "  <thead>\n",
       "    <tr style=\"text-align: right;\">\n",
       "      <th></th>\n",
       "      <th>King</th>\n",
       "      <th>Kitsap</th>\n",
       "      <th>Pierce</th>\n",
       "      <th>Snohomish</th>\n",
       "    </tr>\n",
       "  </thead>\n",
       "  <tbody>\n",
       "    <tr>\n",
       "      <th>Light</th>\n",
       "      <td>2,458,247</td>\n",
       "      <td>163,124</td>\n",
       "      <td>982,541</td>\n",
       "      <td>1,066,074</td>\n",
       "    </tr>\n",
       "    <tr>\n",
       "      <th>Moderate</th>\n",
       "      <td>444,829</td>\n",
       "      <td>1,805</td>\n",
       "      <td>153,898</td>\n",
       "      <td>87,692</td>\n",
       "    </tr>\n",
       "    <tr>\n",
       "      <th>Heavy</th>\n",
       "      <td>196,271</td>\n",
       "      <td>1,195</td>\n",
       "      <td>42,626</td>\n",
       "      <td>25,870</td>\n",
       "    </tr>\n",
       "    <tr>\n",
       "      <th>Severe</th>\n",
       "      <td>8,108</td>\n",
       "      <td>76</td>\n",
       "      <td>3,842</td>\n",
       "      <td>454</td>\n",
       "    </tr>\n",
       "  </tbody>\n",
       "</table>\n",
       "</div>"
      ],
      "text/plain": [
       "              King  Kitsap  Pierce  Snohomish\n",
       "Light    2,458,247 163,124 982,541  1,066,074\n",
       "Moderate   444,829   1,805 153,898     87,692\n",
       "Heavy      196,271   1,195  42,626     25,870\n",
       "Severe       8,108      76   3,842        454"
      ]
     },
     "execution_count": 24,
     "metadata": {},
     "output_type": "execute_result"
    }
   ],
   "source": [
    "pd.options.display.float_format = '{:0,.0f}'.format\n",
    "_df = df.pivot_table(index='congestion_category',columns='county',\n",
    "               aggfunc='sum',values='heavy_truck_vmt')\n",
    "_df = _df.reindex(['Light','Moderate','Heavy','Severe'])\n",
    "_df.index.name = None\n",
    "_df.columns.name = None\n",
    "_df"
   ]
  },
  {
   "cell_type": "code",
   "execution_count": 25,
   "metadata": {
    "execution": {
     "iopub.execute_input": "2021-06-10T22:01:39.183801Z",
     "iopub.status.busy": "2021-06-10T22:01:39.183801Z",
     "iopub.status.idle": "2021-06-10T22:01:39.199419Z",
     "shell.execute_reply": "2021-06-10T22:01:39.199419Z"
    }
   },
   "outputs": [
    {
     "data": {
      "text/html": [
       "<div>\n",
       "<style scoped>\n",
       "    .dataframe tbody tr th:only-of-type {\n",
       "        vertical-align: middle;\n",
       "    }\n",
       "\n",
       "    .dataframe tbody tr th {\n",
       "        vertical-align: top;\n",
       "    }\n",
       "\n",
       "    .dataframe thead th {\n",
       "        text-align: right;\n",
       "    }\n",
       "</style>\n",
       "<table border=\"1\" class=\"dataframe\">\n",
       "  <thead>\n",
       "    <tr style=\"text-align: right;\">\n",
       "      <th></th>\n",
       "      <th>King</th>\n",
       "      <th>Kitsap</th>\n",
       "      <th>Pierce</th>\n",
       "      <th>Snohomish</th>\n",
       "    </tr>\n",
       "  </thead>\n",
       "  <tbody>\n",
       "    <tr>\n",
       "      <th>Light</th>\n",
       "      <td>79.1%</td>\n",
       "      <td>98.1%</td>\n",
       "      <td>83.1%</td>\n",
       "      <td>90.3%</td>\n",
       "    </tr>\n",
       "    <tr>\n",
       "      <th>Moderate</th>\n",
       "      <td>14.3%</td>\n",
       "      <td>1.1%</td>\n",
       "      <td>13.0%</td>\n",
       "      <td>7.4%</td>\n",
       "    </tr>\n",
       "    <tr>\n",
       "      <th>Heavy</th>\n",
       "      <td>6.3%</td>\n",
       "      <td>0.7%</td>\n",
       "      <td>3.6%</td>\n",
       "      <td>2.2%</td>\n",
       "    </tr>\n",
       "    <tr>\n",
       "      <th>Severe</th>\n",
       "      <td>0.3%</td>\n",
       "      <td>0.0%</td>\n",
       "      <td>0.3%</td>\n",
       "      <td>0.0%</td>\n",
       "    </tr>\n",
       "  </tbody>\n",
       "</table>\n",
       "</div>"
      ],
      "text/plain": [
       "          King  Kitsap  Pierce  Snohomish\n",
       "Light    79.1%   98.1%   83.1%      90.3%\n",
       "Moderate 14.3%    1.1%   13.0%       7.4%\n",
       "Heavy     6.3%    0.7%    3.6%       2.2%\n",
       "Severe    0.3%    0.0%    0.3%       0.0%"
      ]
     },
     "execution_count": 25,
     "metadata": {},
     "output_type": "execute_result"
    }
   ],
   "source": [
    "pd.options.display.float_format = '{:0,.1%}'.format\n",
    "_df = _df/_df.sum(axis=0)\n",
    "_df"
   ]
  },
  {
   "cell_type": "code",
   "execution_count": 26,
   "metadata": {
    "execution": {
     "iopub.execute_input": "2021-06-10T22:01:39.230665Z",
     "iopub.status.busy": "2021-06-10T22:01:39.215043Z",
     "iopub.status.idle": "2021-06-10T22:01:39.452680Z",
     "shell.execute_reply": "2021-06-10T22:01:39.452680Z"
    }
   },
   "outputs": [
    {
     "data": {
      "image/png": "[encoded data removed]",
      "text/plain": [
       "<Figure size 576x432 with 1 Axes>"
      ]
     },
     "metadata": {},
     "output_type": "display_data"
    }
   ],
   "source": [
    "my_colors = list(islice(cycle(colors), None, len(_df)))\n",
    "ax = _df.plot(kind='barh', alpha=0.6, color=colors, figsize=(8,6))\n",
    "ax.invert_yaxis()\n",
    "ax.legend(loc='lower right');"
   ]
  },
  {
   "cell_type": "markdown",
   "metadata": {},
   "source": [
    "## Medium Trucks"
   ]
  },
  {
   "cell_type": "code",
   "execution_count": 27,
   "metadata": {
    "execution": {
     "iopub.execute_input": "2021-06-10T22:01:39.546396Z",
     "iopub.status.busy": "2021-06-10T22:01:39.546396Z",
     "iopub.status.idle": "2021-06-10T22:01:39.593253Z",
     "shell.execute_reply": "2021-06-10T22:01:39.593253Z"
    }
   },
   "outputs": [
    {
     "data": {
      "text/html": [
       "<div>\n",
       "<style scoped>\n",
       "    .dataframe tbody tr th:only-of-type {\n",
       "        vertical-align: middle;\n",
       "    }\n",
       "\n",
       "    .dataframe tbody tr th {\n",
       "        vertical-align: top;\n",
       "    }\n",
       "\n",
       "    .dataframe thead th {\n",
       "        text-align: right;\n",
       "    }\n",
       "</style>\n",
       "<table border=\"1\" class=\"dataframe\">\n",
       "  <thead>\n",
       "    <tr style=\"text-align: right;\">\n",
       "      <th>county</th>\n",
       "      <th>King</th>\n",
       "      <th>Kitsap</th>\n",
       "      <th>Pierce</th>\n",
       "      <th>Snohomish</th>\n",
       "    </tr>\n",
       "    <tr>\n",
       "      <th>congestion_category</th>\n",
       "      <th></th>\n",
       "      <th></th>\n",
       "      <th></th>\n",
       "      <th></th>\n",
       "    </tr>\n",
       "  </thead>\n",
       "  <tbody>\n",
       "    <tr>\n",
       "      <th>Severe</th>\n",
       "      <td>14,760</td>\n",
       "      <td>123</td>\n",
       "      <td>1,454</td>\n",
       "      <td>1,865</td>\n",
       "    </tr>\n",
       "    <tr>\n",
       "      <th>Heavy</th>\n",
       "      <td>221,097</td>\n",
       "      <td>2,703</td>\n",
       "      <td>27,761</td>\n",
       "      <td>30,535</td>\n",
       "    </tr>\n",
       "    <tr>\n",
       "      <th>Moderate</th>\n",
       "      <td>447,477</td>\n",
       "      <td>4,840</td>\n",
       "      <td>106,100</td>\n",
       "      <td>75,074</td>\n",
       "    </tr>\n",
       "    <tr>\n",
       "      <th>Light</th>\n",
       "      <td>2,474,317</td>\n",
       "      <td>244,248</td>\n",
       "      <td>758,676</td>\n",
       "      <td>783,275</td>\n",
       "    </tr>\n",
       "  </tbody>\n",
       "</table>\n",
       "</div>"
      ],
      "text/plain": [
       "county                   King  Kitsap  Pierce  Snohomish\n",
       "congestion_category                                     \n",
       "Severe                 14,760     123   1,454      1,865\n",
       "Heavy                 221,097   2,703  27,761     30,535\n",
       "Moderate              447,477   4,840 106,100     75,074\n",
       "Light               2,474,317 244,248 758,676    783,275"
      ]
     },
     "execution_count": 27,
     "metadata": {},
     "output_type": "execute_result"
    }
   ],
   "source": [
    "pd.options.display.float_format = '{:0,.0f}'.format\n",
    "_df = df.pivot_table(index='congestion_category',columns='county',\n",
    "               aggfunc='sum',values='medium_truck_vmt')\n",
    "\n",
    "_df"
   ]
  },
  {
   "cell_type": "code",
   "execution_count": 28,
   "metadata": {
    "execution": {
     "iopub.execute_input": "2021-06-10T22:01:39.624507Z",
     "iopub.status.busy": "2021-06-10T22:01:39.624507Z",
     "iopub.status.idle": "2021-06-10T22:01:39.733847Z",
     "shell.execute_reply": "2021-06-10T22:01:39.733847Z"
    }
   },
   "outputs": [
    {
     "data": {
      "text/html": [
       "<div>\n",
       "<style scoped>\n",
       "    .dataframe tbody tr th:only-of-type {\n",
       "        vertical-align: middle;\n",
       "    }\n",
       "\n",
       "    .dataframe tbody tr th {\n",
       "        vertical-align: top;\n",
       "    }\n",
       "\n",
       "    .dataframe thead th {\n",
       "        text-align: right;\n",
       "    }\n",
       "</style>\n",
       "<table border=\"1\" class=\"dataframe\">\n",
       "  <thead>\n",
       "    <tr style=\"text-align: right;\">\n",
       "      <th></th>\n",
       "      <th>King</th>\n",
       "      <th>Kitsap</th>\n",
       "      <th>Pierce</th>\n",
       "      <th>Snohomish</th>\n",
       "    </tr>\n",
       "  </thead>\n",
       "  <tbody>\n",
       "    <tr>\n",
       "      <th>Light</th>\n",
       "      <td>2,474,317</td>\n",
       "      <td>244,248</td>\n",
       "      <td>758,676</td>\n",
       "      <td>783,275</td>\n",
       "    </tr>\n",
       "    <tr>\n",
       "      <th>Moderate</th>\n",
       "      <td>447,477</td>\n",
       "      <td>4,840</td>\n",
       "      <td>106,100</td>\n",
       "      <td>75,074</td>\n",
       "    </tr>\n",
       "    <tr>\n",
       "      <th>Heavy</th>\n",
       "      <td>221,097</td>\n",
       "      <td>2,703</td>\n",
       "      <td>27,761</td>\n",
       "      <td>30,535</td>\n",
       "    </tr>\n",
       "    <tr>\n",
       "      <th>Severe</th>\n",
       "      <td>14,760</td>\n",
       "      <td>123</td>\n",
       "      <td>1,454</td>\n",
       "      <td>1,865</td>\n",
       "    </tr>\n",
       "  </tbody>\n",
       "</table>\n",
       "</div>"
      ],
      "text/plain": [
       "              King  Kitsap  Pierce  Snohomish\n",
       "Light    2,474,317 244,248 758,676    783,275\n",
       "Moderate   447,477   4,840 106,100     75,074\n",
       "Heavy      221,097   2,703  27,761     30,535\n",
       "Severe      14,760     123   1,454      1,865"
      ]
     },
     "execution_count": 28,
     "metadata": {},
     "output_type": "execute_result"
    }
   ],
   "source": [
    "pd.options.display.float_format = '{:0,.0f}'.format\n",
    "_df = df.pivot_table(index='congestion_category',columns='county',\n",
    "               aggfunc='sum',values='medium_truck_vmt')\n",
    "_df = _df.reindex(['Light','Moderate','Heavy','Severe'])\n",
    "_df.index.name = None\n",
    "_df.columns.name = None\n",
    "_df"
   ]
  },
  {
   "cell_type": "code",
   "execution_count": 29,
   "metadata": {
    "execution": {
     "iopub.execute_input": "2021-06-10T22:01:39.749472Z",
     "iopub.status.busy": "2021-06-10T22:01:39.749472Z",
     "iopub.status.idle": "2021-06-10T22:01:39.765093Z",
     "shell.execute_reply": "2021-06-10T22:01:39.765093Z"
    }
   },
   "outputs": [
    {
     "data": {
      "text/html": [
       "<div>\n",
       "<style scoped>\n",
       "    .dataframe tbody tr th:only-of-type {\n",
       "        vertical-align: middle;\n",
       "    }\n",
       "\n",
       "    .dataframe tbody tr th {\n",
       "        vertical-align: top;\n",
       "    }\n",
       "\n",
       "    .dataframe thead th {\n",
       "        text-align: right;\n",
       "    }\n",
       "</style>\n",
       "<table border=\"1\" class=\"dataframe\">\n",
       "  <thead>\n",
       "    <tr style=\"text-align: right;\">\n",
       "      <th></th>\n",
       "      <th>King</th>\n",
       "      <th>Kitsap</th>\n",
       "      <th>Pierce</th>\n",
       "      <th>Snohomish</th>\n",
       "    </tr>\n",
       "  </thead>\n",
       "  <tbody>\n",
       "    <tr>\n",
       "      <th>Light</th>\n",
       "      <td>78.4%</td>\n",
       "      <td>97.0%</td>\n",
       "      <td>84.9%</td>\n",
       "      <td>87.9%</td>\n",
       "    </tr>\n",
       "    <tr>\n",
       "      <th>Moderate</th>\n",
       "      <td>14.2%</td>\n",
       "      <td>1.9%</td>\n",
       "      <td>11.9%</td>\n",
       "      <td>8.4%</td>\n",
       "    </tr>\n",
       "    <tr>\n",
       "      <th>Heavy</th>\n",
       "      <td>7.0%</td>\n",
       "      <td>1.1%</td>\n",
       "      <td>3.1%</td>\n",
       "      <td>3.4%</td>\n",
       "    </tr>\n",
       "    <tr>\n",
       "      <th>Severe</th>\n",
       "      <td>0.5%</td>\n",
       "      <td>0.0%</td>\n",
       "      <td>0.2%</td>\n",
       "      <td>0.2%</td>\n",
       "    </tr>\n",
       "  </tbody>\n",
       "</table>\n",
       "</div>"
      ],
      "text/plain": [
       "          King  Kitsap  Pierce  Snohomish\n",
       "Light    78.4%   97.0%   84.9%      87.9%\n",
       "Moderate 14.2%    1.9%   11.9%       8.4%\n",
       "Heavy     7.0%    1.1%    3.1%       3.4%\n",
       "Severe    0.5%    0.0%    0.2%       0.2%"
      ]
     },
     "execution_count": 29,
     "metadata": {},
     "output_type": "execute_result"
    }
   ],
   "source": [
    "pd.options.display.float_format = '{:0,.1%}'.format\n",
    "_df = _df/_df.sum(axis=0)\n",
    "_df"
   ]
  },
  {
   "cell_type": "code",
   "execution_count": 30,
   "metadata": {
    "execution": {
     "iopub.execute_input": "2021-06-10T22:01:39.796333Z",
     "iopub.status.busy": "2021-06-10T22:01:39.796333Z",
     "iopub.status.idle": "2021-06-10T22:01:39.999407Z",
     "shell.execute_reply": "2021-06-10T22:01:39.999407Z"
    }
   },
   "outputs": [
    {
     "data": {
      "image/png": "[encoded data removed]",
      "text/plain": [
       "<Figure size 576x432 with 1 Axes>"
      ]
     },
     "metadata": {},
     "output_type": "display_data"
    }
   ],
   "source": [
    "my_colors = list(islice(cycle(colors), None, len(_df)))\n",
    "ax = _df.plot(kind='barh', alpha=0.6, color=colors, figsize=(8,6))\n",
    "ax.invert_yaxis()\n",
    "ax.legend(loc='lower right');"
   ]
  }
 ],
 "metadata": {
  "kernelspec": {
   "display_name": "Python 3",
   "language": "python",
   "name": "python3"
  },
  "language_info": {
   "codemirror_mode": {
    "name": "ipython",
    "version": 3
   },
   "file_extension": ".py",
   "mimetype": "text/x-python",
   "name": "python",
   "nbconvert_exporter": "python",
   "pygments_lexer": "ipython3",
   "version": "3.7.10"
  }
 },
 "nbformat": 4,
 "nbformat_minor": 4
}
