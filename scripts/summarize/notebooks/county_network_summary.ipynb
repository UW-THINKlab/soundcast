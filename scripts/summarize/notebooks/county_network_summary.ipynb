{
 "cells": [
  {
   "cell_type": "code",
   "execution_count": 1,
   "metadata": {
    "execution": {
     "iopub.execute_input": "2021-06-10T22:01:28.576834Z",
     "iopub.status.busy": "2021-06-10T22:01:28.576834Z",
     "iopub.status.idle": "2021-06-10T22:01:30.754964Z",
     "shell.execute_reply": "2021-06-10T22:01:30.754964Z"
    }
   },
   "outputs": [],
   "source": [
    "import pandas as pd\n",
    "import geopandas as gpd\n",
    "import seaborn as sns\n",
    "from itertools import cycle, islice"
   ]
  },
  {
   "cell_type": "code",
   "execution_count": 2,
   "metadata": {
    "execution": {
     "iopub.execute_input": "2021-06-10T22:01:30.754964Z",
     "iopub.status.busy": "2021-06-10T22:01:30.754964Z",
     "iopub.status.idle": "2021-06-10T22:01:30.770659Z",
     "shell.execute_reply": "2021-06-10T22:01:30.770659Z"
    }
   },
   "outputs": [],
   "source": [
    "# set chart style\n",
    "sns.set_style(\"dark\")\n",
    "sns.set_context(\"notebook\", font_scale=1.5, \n",
    "                rc={\"lines.linewidth\": 1.5})\n",
    "colors = ['#91268F','#F05A28','#8CC63E','#00A7A0','#4C4C4C',\n",
    "          '#BFE9E7','#7a2700']\n",
    "sns.set(font=\"Pragmatica\")"
   ]
  },
  {
   "cell_type": "code",
   "execution_count": 3,
   "metadata": {
    "execution": {
     "iopub.execute_input": "2021-06-10T22:01:30.786272Z",
     "iopub.status.busy": "2021-06-10T22:01:30.786272Z",
     "iopub.status.idle": "2021-06-10T22:01:36.978236Z",
     "shell.execute_reply": "2021-06-10T22:01:36.978236Z"
    }
   },
   "outputs": [],
   "source": [
    "df = pd.read_csv(r'..\\..\\..\\outputs\\network\\network_results.csv')\n",
    "\n",
    "# Congested network components by time of day\n",
    "df.columns\n",
    "\n",
    "# Get freeflow from 20to5 period\n",
    "\n",
    "# Exclude trips taken on non-designated facilities (facility_type == 0)\n",
    "# These are artificial (weave lanes to connect HOV) or for non-auto uses \n",
    "df = df[df['data3'] != 0]    # data3 represents facility_type\n",
    "\n",
    "# calculate total link VMT and VHT\n",
    "df['VMT'] = df['@tveh']*df['length']\n",
    "df['VHT'] = df['@tveh']*df['auto_time']/60\n",
    "\n",
    "# Define facility type\n",
    "df.loc[df['data3'].isin([1,2]), 'facility_type'] = 'highway'\n",
    "df.loc[df['data3'].isin([3,4,6]), 'facility_type'] = 'arterial'\n",
    "df.loc[df['data3'].isin([5]), 'facility_type'] = 'connector'\n",
    "\n",
    "# Calculate delay\n",
    "# Select links from overnight time of day\n",
    "delay_df = df.loc[df['tod'] == '20to5'][['ij','auto_time']]\n",
    "delay_df.rename(columns={'auto_time':'freeflow_time'}, inplace=True)\n",
    "\n",
    "# Merge delay field back onto network link df\n",
    "df = pd.merge(df, delay_df, on='ij', how='left')\n",
    "\n",
    "# Calcualte hourly delay\n",
    "df['total_delay'] = ((df['auto_time']-df['freeflow_time'])*df['@tveh'])/60    # sum of (volume)*(travtime diff from freeflow)\n",
    "\n",
    "# Calcualte speed as a percent of freeflow\n",
    "df['flow_index'] = df['auto_time']/df['freeflow_time']\n",
    "\n",
    "df['county'] =df['@countyid'].map({33: 'King',\n",
    "                                      35: 'Kitsap',\n",
    "                                      53: 'Pierce',\n",
    "                                      61: 'Snohomish'})\n",
    "\n",
    "# FGTS\n",
    "\n",
    "# Non-motorized extent in geographies\n",
    "\n",
    "# High Capacity Transit Network"
   ]
  },
  {
   "cell_type": "code",
   "execution_count": 4,
   "metadata": {
    "execution": {
     "iopub.execute_input": "2021-06-10T22:01:36.993853Z",
     "iopub.status.busy": "2021-06-10T22:01:36.978236Z",
     "iopub.status.idle": "2021-06-10T22:01:37.087584Z",
     "shell.execute_reply": "2021-06-10T22:01:37.087584Z"
    }
   },
   "outputs": [],
   "source": [
    "df['speed'] = df['length']/df['auto_time']*60\n",
    "df['congestion_index'] = df['speed']/df['data2']\n",
    "df['congestion_index'] = df['congestion_index'].clip(0,1)\n",
    "df['congestion_category'] = pd.cut(df['congestion_index'], bins=[0,.25,.5,.7,1], labels=['Severe','Heavy','Moderate','Light'])"
   ]
  },
  {
   "cell_type": "markdown",
   "metadata": {},
   "source": [
    "# Congestion by County Tables\n",
    "### Total VMT & Percent of County VMT by Congestion Level\n",
    "\n",
    "- **Severe: < 25% Speed Limit** (e.g., less than 15 mph on a road with speed limit of 60 mph)\n",
    "- **Heavy: 25-50% Speed Limit** (e.g., 15-30 mph on a road with speed limit of 60 mph)\n",
    "- **Moderate: 50-70% Speed Limit** (e.g, 30-42 mph on a road with speed limit of 60 mph)\n",
    "\n",
    "#### All Day"
   ]
  },
  {
   "cell_type": "code",
   "execution_count": 5,
   "metadata": {
    "execution": {
     "iopub.execute_input": "2021-06-10T22:01:37.087584Z",
     "iopub.status.busy": "2021-06-10T22:01:37.087584Z",
     "iopub.status.idle": "2021-06-10T22:01:37.434212Z",
     "shell.execute_reply": "2021-06-10T22:01:37.434212Z"
    }
   },
   "outputs": [
    {
     "data": {
      "text/html": [
       "<div>\n",
       "<style scoped>\n",
       "    .dataframe tbody tr th:only-of-type {\n",
       "        vertical-align: middle;\n",
       "    }\n",
       "\n",
       "    .dataframe tbody tr th {\n",
       "        vertical-align: top;\n",
       "    }\n",
       "\n",
       "    .dataframe thead th {\n",
       "        text-align: right;\n",
       "    }\n",
       "</style>\n",
       "<table border=\"1\" class=\"dataframe\">\n",
       "  <thead>\n",
       "    <tr style=\"text-align: right;\">\n",
       "      <th></th>\n",
       "      <th>King</th>\n",
       "      <th>Kitsap</th>\n",
       "      <th>Pierce</th>\n",
       "      <th>Snohomish</th>\n",
       "    </tr>\n",
       "  </thead>\n",
       "  <tbody>\n",
       "    <tr>\n",
       "      <th>Light</th>\n",
       "      <td>35,486,183</td>\n",
       "      <td>4,274,777</td>\n",
       "      <td>15,707,277</td>\n",
       "      <td>13,822,006</td>\n",
       "    </tr>\n",
       "    <tr>\n",
       "      <th>Moderate</th>\n",
       "      <td>6,049,188</td>\n",
       "      <td>110,676</td>\n",
       "      <td>2,000,638</td>\n",
       "      <td>1,400,175</td>\n",
       "    </tr>\n",
       "    <tr>\n",
       "      <th>Heavy</th>\n",
       "      <td>3,358,846</td>\n",
       "      <td>52,365</td>\n",
       "      <td>664,665</td>\n",
       "      <td>721,940</td>\n",
       "    </tr>\n",
       "    <tr>\n",
       "      <th>Severe</th>\n",
       "      <td>298,227</td>\n",
       "      <td>16,860</td>\n",
       "      <td>58,061</td>\n",
       "      <td>46,513</td>\n",
       "    </tr>\n",
       "  </tbody>\n",
       "</table>\n",
       "</div>"
      ],
      "text/plain": [
       "               King    Kitsap     Pierce  Snohomish\n",
       "Light    35,486,183 4,274,777 15,707,277 13,822,006\n",
       "Moderate  6,049,188   110,676  2,000,638  1,400,175\n",
       "Heavy     3,358,846    52,365    664,665    721,940\n",
       "Severe      298,227    16,860     58,061     46,513"
      ]
     },
     "execution_count": 5,
     "metadata": {},
     "output_type": "execute_result"
    }
   ],
   "source": [
    "# Percent of VMT by congestion category\n",
    "pd.options.display.float_format = '{:0,.0f}'.format\n",
    "_df = df.pivot_table(index='congestion_category',columns='county',\n",
    "               aggfunc='sum',values='VMT')\n",
    "_df = _df.reindex(['Light','Moderate','Heavy','Severe'])\n",
    "_df.index.name = None\n",
    "_df.columns.name = None\n",
    "_df"
   ]
  },
  {
   "cell_type": "code",
   "execution_count": 6,
   "metadata": {
    "execution": {
     "iopub.execute_input": "2021-06-10T22:01:37.449831Z",
     "iopub.status.busy": "2021-06-10T22:01:37.449831Z",
     "iopub.status.idle": "2021-06-10T22:01:37.465453Z",
     "shell.execute_reply": "2021-06-10T22:01:37.465453Z"
    }
   },
   "outputs": [
    {
     "data": {
      "text/html": [
       "<div>\n",
       "<style scoped>\n",
       "    .dataframe tbody tr th:only-of-type {\n",
       "        vertical-align: middle;\n",
       "    }\n",
       "\n",
       "    .dataframe tbody tr th {\n",
       "        vertical-align: top;\n",
       "    }\n",
       "\n",
       "    .dataframe thead th {\n",
       "        text-align: right;\n",
       "    }\n",
       "</style>\n",
       "<table border=\"1\" class=\"dataframe\">\n",
       "  <thead>\n",
       "    <tr style=\"text-align: right;\">\n",
       "      <th></th>\n",
       "      <th>King</th>\n",
       "      <th>Kitsap</th>\n",
       "      <th>Pierce</th>\n",
       "      <th>Snohomish</th>\n",
       "    </tr>\n",
       "  </thead>\n",
       "  <tbody>\n",
       "    <tr>\n",
       "      <th>Light</th>\n",
       "      <td>78.5%</td>\n",
       "      <td>96.0%</td>\n",
       "      <td>85.2%</td>\n",
       "      <td>86.4%</td>\n",
       "    </tr>\n",
       "    <tr>\n",
       "      <th>Moderate</th>\n",
       "      <td>13.4%</td>\n",
       "      <td>2.5%</td>\n",
       "      <td>10.9%</td>\n",
       "      <td>8.8%</td>\n",
       "    </tr>\n",
       "    <tr>\n",
       "      <th>Heavy</th>\n",
       "      <td>7.4%</td>\n",
       "      <td>1.2%</td>\n",
       "      <td>3.6%</td>\n",
       "      <td>4.5%</td>\n",
       "    </tr>\n",
       "    <tr>\n",
       "      <th>Severe</th>\n",
       "      <td>0.7%</td>\n",
       "      <td>0.4%</td>\n",
       "      <td>0.3%</td>\n",
       "      <td>0.3%</td>\n",
       "    </tr>\n",
       "  </tbody>\n",
       "</table>\n",
       "</div>"
      ],
      "text/plain": [
       "          King  Kitsap  Pierce  Snohomish\n",
       "Light    78.5%   96.0%   85.2%      86.4%\n",
       "Moderate 13.4%    2.5%   10.9%       8.8%\n",
       "Heavy     7.4%    1.2%    3.6%       4.5%\n",
       "Severe    0.7%    0.4%    0.3%       0.3%"
      ]
     },
     "execution_count": 6,
     "metadata": {},
     "output_type": "execute_result"
    }
   ],
   "source": [
    "pd.options.display.float_format = '{:0,.1%}'.format\n",
    "_df = _df/_df.sum(axis=0)\n",
    "_df"
   ]
  },
  {
   "cell_type": "code",
   "execution_count": 7,
   "metadata": {
    "execution": {
     "iopub.execute_input": "2021-06-10T22:01:37.465453Z",
     "iopub.status.busy": "2021-06-10T22:01:37.465453Z",
     "iopub.status.idle": "2021-06-10T22:01:37.746636Z",
     "shell.execute_reply": "2021-06-10T22:01:37.746636Z"
    }
   },
   "outputs": [
    {
     "data": {
      "image/png": "[encoded data removed]",
      "text/plain": [
       "<Figure size 576x432 with 1 Axes>"
      ]
     },
     "metadata": {},
     "output_type": "display_data"
    }
   ],
   "source": [
    "my_colors = list(islice(cycle(colors), None, len(_df)))\n",
    "ax = _df.plot(kind='barh', alpha=0.6, color=colors, figsize=(8,6))\n",
    "ax.invert_yaxis()\n",
    "ax.legend(loc='lower right');"
   ]
  },
  {
   "cell_type": "markdown",
   "metadata": {},
   "source": [
    "**Freeway** VMT by Congestion Category"
   ]
  },
  {
   "cell_type": "code",
   "execution_count": 8,
   "metadata": {},
   "outputs": [
    {
     "data": {
      "text/html": [
       "<div>\n",
       "<style scoped>\n",
       "    .dataframe tbody tr th:only-of-type {\n",
       "        vertical-align: middle;\n",
       "    }\n",
       "\n",
       "    .dataframe tbody tr th {\n",
       "        vertical-align: top;\n",
       "    }\n",
       "\n",
       "    .dataframe thead th {\n",
       "        text-align: right;\n",
       "    }\n",
       "</style>\n",
       "<table border=\"1\" class=\"dataframe\">\n",
       "  <thead>\n",
       "    <tr style=\"text-align: right;\">\n",
       "      <th></th>\n",
       "      <th>King</th>\n",
       "      <th>Kitsap</th>\n",
       "      <th>Pierce</th>\n",
       "      <th>Snohomish</th>\n",
       "    </tr>\n",
       "  </thead>\n",
       "  <tbody>\n",
       "    <tr>\n",
       "      <th>Light</th>\n",
       "      <td>17,877,171</td>\n",
       "      <td>1,926,917</td>\n",
       "      <td>6,754,833</td>\n",
       "      <td>6,858,926</td>\n",
       "    </tr>\n",
       "    <tr>\n",
       "      <th>Moderate</th>\n",
       "      <td>4,062,992</td>\n",
       "      <td>31,585</td>\n",
       "      <td>1,190,966</td>\n",
       "      <td>853,125</td>\n",
       "    </tr>\n",
       "    <tr>\n",
       "      <th>Heavy</th>\n",
       "      <td>2,272,830</td>\n",
       "      <td>17,933</td>\n",
       "      <td>328,259</td>\n",
       "      <td>435,745</td>\n",
       "    </tr>\n",
       "    <tr>\n",
       "      <th>Severe</th>\n",
       "      <td>104,268</td>\n",
       "      <td>13,802</td>\n",
       "      <td>23,842</td>\n",
       "      <td>15,960</td>\n",
       "    </tr>\n",
       "  </tbody>\n",
       "</table>\n",
       "</div>"
      ],
      "text/plain": [
       "               King    Kitsap    Pierce  Snohomish\n",
       "Light    17,877,171 1,926,917 6,754,833  6,858,926\n",
       "Moderate  4,062,992    31,585 1,190,966    853,125\n",
       "Heavy     2,272,830    17,933   328,259    435,745\n",
       "Severe      104,268    13,802    23,842     15,960"
      ]
     },
     "execution_count": 8,
     "metadata": {},
     "output_type": "execute_result"
    }
   ],
   "source": [
    "# Segment by facility type\n",
    "_df = df[df['facility_type'] == 'highway']\n",
    "pd.options.display.float_format = '{:0,.0f}'.format\n",
    "_df = _df.pivot_table(index='congestion_category',columns='county',\n",
    "               aggfunc='sum',values='VMT')\n",
    "_df = _df.reindex(['Light','Moderate','Heavy','Severe'])\n",
    "_df.index.name = None\n",
    "_df.columns.name = None\n",
    "_df"
   ]
  },
  {
   "cell_type": "markdown",
   "metadata": {},
   "source": [
    "**Arterial** VMT by Congestion Category"
   ]
  },
  {
   "cell_type": "code",
   "execution_count": 9,
   "metadata": {},
   "outputs": [
    {
     "data": {
      "text/html": [
       "<div>\n",
       "<style scoped>\n",
       "    .dataframe tbody tr th:only-of-type {\n",
       "        vertical-align: middle;\n",
       "    }\n",
       "\n",
       "    .dataframe tbody tr th {\n",
       "        vertical-align: top;\n",
       "    }\n",
       "\n",
       "    .dataframe thead th {\n",
       "        text-align: right;\n",
       "    }\n",
       "</style>\n",
       "<table border=\"1\" class=\"dataframe\">\n",
       "  <thead>\n",
       "    <tr style=\"text-align: right;\">\n",
       "      <th></th>\n",
       "      <th>King</th>\n",
       "      <th>Kitsap</th>\n",
       "      <th>Pierce</th>\n",
       "      <th>Snohomish</th>\n",
       "    </tr>\n",
       "  </thead>\n",
       "  <tbody>\n",
       "    <tr>\n",
       "      <th>Light</th>\n",
       "      <td>15,348,198</td>\n",
       "      <td>1,980,766</td>\n",
       "      <td>7,777,401</td>\n",
       "      <td>5,872,794</td>\n",
       "    </tr>\n",
       "    <tr>\n",
       "      <th>Moderate</th>\n",
       "      <td>1,985,310</td>\n",
       "      <td>79,090</td>\n",
       "      <td>809,672</td>\n",
       "      <td>547,050</td>\n",
       "    </tr>\n",
       "    <tr>\n",
       "      <th>Heavy</th>\n",
       "      <td>1,079,683</td>\n",
       "      <td>34,432</td>\n",
       "      <td>336,406</td>\n",
       "      <td>286,195</td>\n",
       "    </tr>\n",
       "    <tr>\n",
       "      <th>Severe</th>\n",
       "      <td>193,959</td>\n",
       "      <td>3,057</td>\n",
       "      <td>34,218</td>\n",
       "      <td>30,553</td>\n",
       "    </tr>\n",
       "  </tbody>\n",
       "</table>\n",
       "</div>"
      ],
      "text/plain": [
       "               King    Kitsap    Pierce  Snohomish\n",
       "Light    15,348,198 1,980,766 7,777,401  5,872,794\n",
       "Moderate  1,985,310    79,090   809,672    547,050\n",
       "Heavy     1,079,683    34,432   336,406    286,195\n",
       "Severe      193,959     3,057    34,218     30,553"
      ]
     },
     "execution_count": 9,
     "metadata": {},
     "output_type": "execute_result"
    }
   ],
   "source": [
    "# Segment by facility type\n",
    "_df = df[df['facility_type'] == 'arterial']\n",
    "pd.options.display.float_format = '{:0,.0f}'.format\n",
    "_df = _df.pivot_table(index='congestion_category',columns='county',\n",
    "               aggfunc='sum',values='VMT')\n",
    "_df = _df.reindex(['Light','Moderate','Heavy','Severe'])\n",
    "_df.index.name = None\n",
    "_df.columns.name = None\n",
    "_df"
   ]
  },
  {
   "cell_type": "markdown",
   "metadata": {},
   "source": [
    "#### AM Peak (7 to 8 AM)"
   ]
  },
  {
   "cell_type": "code",
   "execution_count": 10,
   "metadata": {
    "execution": {
     "iopub.execute_input": "2021-06-10T22:01:37.809121Z",
     "iopub.status.busy": "2021-06-10T22:01:37.809121Z",
     "iopub.status.idle": "2021-06-10T22:01:37.871605Z",
     "shell.execute_reply": "2021-06-10T22:01:37.871605Z"
    }
   },
   "outputs": [
    {
     "data": {
      "text/html": [
       "<div>\n",
       "<style scoped>\n",
       "    .dataframe tbody tr th:only-of-type {\n",
       "        vertical-align: middle;\n",
       "    }\n",
       "\n",
       "    .dataframe tbody tr th {\n",
       "        vertical-align: top;\n",
       "    }\n",
       "\n",
       "    .dataframe thead th {\n",
       "        text-align: right;\n",
       "    }\n",
       "</style>\n",
       "<table border=\"1\" class=\"dataframe\">\n",
       "  <thead>\n",
       "    <tr style=\"text-align: right;\">\n",
       "      <th></th>\n",
       "      <th>King</th>\n",
       "      <th>Kitsap</th>\n",
       "      <th>Pierce</th>\n",
       "      <th>Snohomish</th>\n",
       "    </tr>\n",
       "  </thead>\n",
       "  <tbody>\n",
       "    <tr>\n",
       "      <th>Light</th>\n",
       "      <td>2,165,001</td>\n",
       "      <td>310,778</td>\n",
       "      <td>960,088</td>\n",
       "      <td>875,848</td>\n",
       "    </tr>\n",
       "    <tr>\n",
       "      <th>Moderate</th>\n",
       "      <td>575,424</td>\n",
       "      <td>11,693</td>\n",
       "      <td>288,651</td>\n",
       "      <td>170,201</td>\n",
       "    </tr>\n",
       "    <tr>\n",
       "      <th>Heavy</th>\n",
       "      <td>539,659</td>\n",
       "      <td>3,243</td>\n",
       "      <td>134,815</td>\n",
       "      <td>137,862</td>\n",
       "    </tr>\n",
       "    <tr>\n",
       "      <th>Severe</th>\n",
       "      <td>48,682</td>\n",
       "      <td>7,204</td>\n",
       "      <td>26,887</td>\n",
       "      <td>9,441</td>\n",
       "    </tr>\n",
       "  </tbody>\n",
       "</table>\n",
       "</div>"
      ],
      "text/plain": [
       "              King  Kitsap  Pierce  Snohomish\n",
       "Light    2,165,001 310,778 960,088    875,848\n",
       "Moderate   575,424  11,693 288,651    170,201\n",
       "Heavy      539,659   3,243 134,815    137,862\n",
       "Severe      48,682   7,204  26,887      9,441"
      ]
     },
     "execution_count": 10,
     "metadata": {},
     "output_type": "execute_result"
    }
   ],
   "source": [
    "pd.options.display.float_format = '{:0,.0f}'.format\n",
    "df_am = df[df['tod'] == '7to8']\n",
    "_df = df_am.pivot_table(index='congestion_category',columns='county',\n",
    "               aggfunc='sum',values='VMT')\n",
    "_df = _df.reindex(['Light','Moderate','Heavy','Severe'])\n",
    "_df.index.name = None\n",
    "_df.columns.name = None\n",
    "_df"
   ]
  },
  {
   "cell_type": "code",
   "execution_count": 11,
   "metadata": {
    "execution": {
     "iopub.execute_input": "2021-06-10T22:01:37.871605Z",
     "iopub.status.busy": "2021-06-10T22:01:37.871605Z",
     "iopub.status.idle": "2021-06-10T22:01:37.887225Z",
     "shell.execute_reply": "2021-06-10T22:01:37.887225Z"
    }
   },
   "outputs": [
    {
     "data": {
      "text/html": [
       "<div>\n",
       "<style scoped>\n",
       "    .dataframe tbody tr th:only-of-type {\n",
       "        vertical-align: middle;\n",
       "    }\n",
       "\n",
       "    .dataframe tbody tr th {\n",
       "        vertical-align: top;\n",
       "    }\n",
       "\n",
       "    .dataframe thead th {\n",
       "        text-align: right;\n",
       "    }\n",
       "</style>\n",
       "<table border=\"1\" class=\"dataframe\">\n",
       "  <thead>\n",
       "    <tr style=\"text-align: right;\">\n",
       "      <th></th>\n",
       "      <th>King</th>\n",
       "      <th>Kitsap</th>\n",
       "      <th>Pierce</th>\n",
       "      <th>Snohomish</th>\n",
       "    </tr>\n",
       "  </thead>\n",
       "  <tbody>\n",
       "    <tr>\n",
       "      <th>Light</th>\n",
       "      <td>65.0%</td>\n",
       "      <td>93.3%</td>\n",
       "      <td>68.1%</td>\n",
       "      <td>73.4%</td>\n",
       "    </tr>\n",
       "    <tr>\n",
       "      <th>Moderate</th>\n",
       "      <td>17.3%</td>\n",
       "      <td>3.5%</td>\n",
       "      <td>20.5%</td>\n",
       "      <td>14.3%</td>\n",
       "    </tr>\n",
       "    <tr>\n",
       "      <th>Heavy</th>\n",
       "      <td>16.2%</td>\n",
       "      <td>1.0%</td>\n",
       "      <td>9.6%</td>\n",
       "      <td>11.6%</td>\n",
       "    </tr>\n",
       "    <tr>\n",
       "      <th>Severe</th>\n",
       "      <td>1.5%</td>\n",
       "      <td>2.2%</td>\n",
       "      <td>1.9%</td>\n",
       "      <td>0.8%</td>\n",
       "    </tr>\n",
       "  </tbody>\n",
       "</table>\n",
       "</div>"
      ],
      "text/plain": [
       "          King  Kitsap  Pierce  Snohomish\n",
       "Light    65.0%   93.3%   68.1%      73.4%\n",
       "Moderate 17.3%    3.5%   20.5%      14.3%\n",
       "Heavy    16.2%    1.0%    9.6%      11.6%\n",
       "Severe    1.5%    2.2%    1.9%       0.8%"
      ]
     },
     "execution_count": 11,
     "metadata": {},
     "output_type": "execute_result"
    }
   ],
   "source": [
    "pd.options.display.float_format = '{:0,.1%}'.format\n",
    "_df = _df/_df.sum(axis=0)\n",
    "_df"
   ]
  },
  {
   "cell_type": "code",
   "execution_count": 12,
   "metadata": {
    "execution": {
     "iopub.execute_input": "2021-06-10T22:01:37.934088Z",
     "iopub.status.busy": "2021-06-10T22:01:37.902850Z",
     "iopub.status.idle": "2021-06-10T22:01:38.059064Z",
     "shell.execute_reply": "2021-06-10T22:01:38.059064Z"
    }
   },
   "outputs": [
    {
     "data": {
      "image/png": "[encoded data removed]",
      "text/plain": [
       "<Figure size 576x432 with 1 Axes>"
      ]
     },
     "metadata": {},
     "output_type": "display_data"
    }
   ],
   "source": [
    "my_colors = list(islice(cycle(colors), None, len(_df)))\n",
    "ax = _df.plot(kind='barh', alpha=0.6, color=colors, figsize=(8,6))\n",
    "ax.invert_yaxis()\n",
    "ax.legend(loc='lower right');"
   ]
  },
  {
   "cell_type": "markdown",
   "metadata": {},
   "source": [
    "AM Peak **Freeway** VMT"
   ]
  },
  {
   "cell_type": "code",
   "execution_count": 13,
   "metadata": {},
   "outputs": [
    {
     "data": {
      "text/html": [
       "<div>\n",
       "<style scoped>\n",
       "    .dataframe tbody tr th:only-of-type {\n",
       "        vertical-align: middle;\n",
       "    }\n",
       "\n",
       "    .dataframe tbody tr th {\n",
       "        vertical-align: top;\n",
       "    }\n",
       "\n",
       "    .dataframe thead th {\n",
       "        text-align: right;\n",
       "    }\n",
       "</style>\n",
       "<table border=\"1\" class=\"dataframe\">\n",
       "  <thead>\n",
       "    <tr style=\"text-align: right;\">\n",
       "      <th></th>\n",
       "      <th>King</th>\n",
       "      <th>Kitsap</th>\n",
       "      <th>Pierce</th>\n",
       "      <th>Snohomish</th>\n",
       "    </tr>\n",
       "  </thead>\n",
       "  <tbody>\n",
       "    <tr>\n",
       "      <th>Light</th>\n",
       "      <td>970,833</td>\n",
       "      <td>147,930</td>\n",
       "      <td>330,283</td>\n",
       "      <td>415,773</td>\n",
       "    </tr>\n",
       "    <tr>\n",
       "      <th>Moderate</th>\n",
       "      <td>374,880</td>\n",
       "      <td>5,161</td>\n",
       "      <td>208,276</td>\n",
       "      <td>106,816</td>\n",
       "    </tr>\n",
       "    <tr>\n",
       "      <th>Heavy</th>\n",
       "      <td>424,875</td>\n",
       "      <td>452</td>\n",
       "      <td>93,333</td>\n",
       "      <td>107,219</td>\n",
       "    </tr>\n",
       "    <tr>\n",
       "      <th>Severe</th>\n",
       "      <td>26,918</td>\n",
       "      <td>6,901</td>\n",
       "      <td>21,937</td>\n",
       "      <td>5,740</td>\n",
       "    </tr>\n",
       "  </tbody>\n",
       "</table>\n",
       "</div>"
      ],
      "text/plain": [
       "            King  Kitsap  Pierce  Snohomish\n",
       "Light    970,833 147,930 330,283    415,773\n",
       "Moderate 374,880   5,161 208,276    106,816\n",
       "Heavy    424,875     452  93,333    107,219\n",
       "Severe    26,918   6,901  21,937      5,740"
      ]
     },
     "execution_count": 13,
     "metadata": {},
     "output_type": "execute_result"
    }
   ],
   "source": [
    "# Segment by facility type\n",
    "_df = df_am[df_am['facility_type'] == 'highway']\n",
    "pd.options.display.float_format = '{:0,.0f}'.format\n",
    "_df = _df.pivot_table(index='congestion_category',columns='county',\n",
    "               aggfunc='sum',values='VMT')\n",
    "_df = _df.reindex(['Light','Moderate','Heavy','Severe'])\n",
    "_df.index.name = None\n",
    "_df.columns.name = None\n",
    "_df"
   ]
  },
  {
   "cell_type": "markdown",
   "metadata": {},
   "source": [
    "AM Peak **Arterial** VMT"
   ]
  },
  {
   "cell_type": "code",
   "execution_count": 14,
   "metadata": {},
   "outputs": [
    {
     "data": {
      "text/html": [
       "<div>\n",
       "<style scoped>\n",
       "    .dataframe tbody tr th:only-of-type {\n",
       "        vertical-align: middle;\n",
       "    }\n",
       "\n",
       "    .dataframe tbody tr th {\n",
       "        vertical-align: top;\n",
       "    }\n",
       "\n",
       "    .dataframe thead th {\n",
       "        text-align: right;\n",
       "    }\n",
       "</style>\n",
       "<table border=\"1\" class=\"dataframe\">\n",
       "  <thead>\n",
       "    <tr style=\"text-align: right;\">\n",
       "      <th></th>\n",
       "      <th>King</th>\n",
       "      <th>Kitsap</th>\n",
       "      <th>Pierce</th>\n",
       "      <th>Snohomish</th>\n",
       "    </tr>\n",
       "  </thead>\n",
       "  <tbody>\n",
       "    <tr>\n",
       "      <th>Light</th>\n",
       "      <td>1,062,220</td>\n",
       "      <td>142,043</td>\n",
       "      <td>557,638</td>\n",
       "      <td>396,876</td>\n",
       "    </tr>\n",
       "    <tr>\n",
       "      <th>Moderate</th>\n",
       "      <td>200,545</td>\n",
       "      <td>6,531</td>\n",
       "      <td>80,375</td>\n",
       "      <td>63,384</td>\n",
       "    </tr>\n",
       "    <tr>\n",
       "      <th>Heavy</th>\n",
       "      <td>114,308</td>\n",
       "      <td>2,792</td>\n",
       "      <td>41,482</td>\n",
       "      <td>30,643</td>\n",
       "    </tr>\n",
       "    <tr>\n",
       "      <th>Severe</th>\n",
       "      <td>21,764</td>\n",
       "      <td>303</td>\n",
       "      <td>4,950</td>\n",
       "      <td>3,701</td>\n",
       "    </tr>\n",
       "  </tbody>\n",
       "</table>\n",
       "</div>"
      ],
      "text/plain": [
       "              King  Kitsap  Pierce  Snohomish\n",
       "Light    1,062,220 142,043 557,638    396,876\n",
       "Moderate   200,545   6,531  80,375     63,384\n",
       "Heavy      114,308   2,792  41,482     30,643\n",
       "Severe      21,764     303   4,950      3,701"
      ]
     },
     "execution_count": 14,
     "metadata": {},
     "output_type": "execute_result"
    }
   ],
   "source": [
    "# Segment by facility type\n",
    "_df = df_am[df_am['facility_type'] == 'arterial']\n",
    "pd.options.display.float_format = '{:0,.0f}'.format\n",
    "_df = _df.pivot_table(index='congestion_category',columns='county',\n",
    "               aggfunc='sum',values='VMT')\n",
    "_df = _df.reindex(['Light','Moderate','Heavy','Severe'])\n",
    "_df.index.name = None\n",
    "_df.columns.name = None\n",
    "_df"
   ]
  },
  {
   "cell_type": "markdown",
   "metadata": {},
   "source": [
    "#### PM Peak (5 to 6 PM)"
   ]
  },
  {
   "cell_type": "code",
   "execution_count": 15,
   "metadata": {
    "execution": {
     "iopub.execute_input": "2021-06-10T22:01:38.105931Z",
     "iopub.status.busy": "2021-06-10T22:01:38.105931Z",
     "iopub.status.idle": "2021-06-10T22:01:38.152724Z",
     "shell.execute_reply": "2021-06-10T22:01:38.152724Z"
    }
   },
   "outputs": [
    {
     "data": {
      "text/html": [
       "<div>\n",
       "<style scoped>\n",
       "    .dataframe tbody tr th:only-of-type {\n",
       "        vertical-align: middle;\n",
       "    }\n",
       "\n",
       "    .dataframe tbody tr th {\n",
       "        vertical-align: top;\n",
       "    }\n",
       "\n",
       "    .dataframe thead th {\n",
       "        text-align: right;\n",
       "    }\n",
       "</style>\n",
       "<table border=\"1\" class=\"dataframe\">\n",
       "  <thead>\n",
       "    <tr style=\"text-align: right;\">\n",
       "      <th></th>\n",
       "      <th>King</th>\n",
       "      <th>Kitsap</th>\n",
       "      <th>Pierce</th>\n",
       "      <th>Snohomish</th>\n",
       "    </tr>\n",
       "  </thead>\n",
       "  <tbody>\n",
       "    <tr>\n",
       "      <th>Light</th>\n",
       "      <td>2,165,001</td>\n",
       "      <td>310,778</td>\n",
       "      <td>960,088</td>\n",
       "      <td>875,848</td>\n",
       "    </tr>\n",
       "    <tr>\n",
       "      <th>Moderate</th>\n",
       "      <td>575,424</td>\n",
       "      <td>11,693</td>\n",
       "      <td>288,651</td>\n",
       "      <td>170,201</td>\n",
       "    </tr>\n",
       "    <tr>\n",
       "      <th>Heavy</th>\n",
       "      <td>539,659</td>\n",
       "      <td>3,243</td>\n",
       "      <td>134,815</td>\n",
       "      <td>137,862</td>\n",
       "    </tr>\n",
       "    <tr>\n",
       "      <th>Severe</th>\n",
       "      <td>48,682</td>\n",
       "      <td>7,204</td>\n",
       "      <td>26,887</td>\n",
       "      <td>9,441</td>\n",
       "    </tr>\n",
       "  </tbody>\n",
       "</table>\n",
       "</div>"
      ],
      "text/plain": [
       "              King  Kitsap  Pierce  Snohomish\n",
       "Light    2,165,001 310,778 960,088    875,848\n",
       "Moderate   575,424  11,693 288,651    170,201\n",
       "Heavy      539,659   3,243 134,815    137,862\n",
       "Severe      48,682   7,204  26,887      9,441"
      ]
     },
     "execution_count": 15,
     "metadata": {},
     "output_type": "execute_result"
    }
   ],
   "source": [
    "pd.options.display.float_format = '{:0,.0f}'.format\n",
    "df_pm = df[df['tod'] == '17to18']\n",
    "_df = df_am.pivot_table(index='congestion_category',columns='county',\n",
    "               aggfunc='sum',values='VMT')\n",
    "_df = _df.reindex(['Light','Moderate','Heavy','Severe'])\n",
    "_df.index.name = None\n",
    "_df.columns.name = None\n",
    "_df"
   ]
  },
  {
   "cell_type": "code",
   "execution_count": 16,
   "metadata": {
    "execution": {
     "iopub.execute_input": "2021-06-10T22:01:38.168411Z",
     "iopub.status.busy": "2021-06-10T22:01:38.168411Z",
     "iopub.status.idle": "2021-06-10T22:01:38.184033Z",
     "shell.execute_reply": "2021-06-10T22:01:38.184033Z"
    }
   },
   "outputs": [
    {
     "data": {
      "text/html": [
       "<div>\n",
       "<style scoped>\n",
       "    .dataframe tbody tr th:only-of-type {\n",
       "        vertical-align: middle;\n",
       "    }\n",
       "\n",
       "    .dataframe tbody tr th {\n",
       "        vertical-align: top;\n",
       "    }\n",
       "\n",
       "    .dataframe thead th {\n",
       "        text-align: right;\n",
       "    }\n",
       "</style>\n",
       "<table border=\"1\" class=\"dataframe\">\n",
       "  <thead>\n",
       "    <tr style=\"text-align: right;\">\n",
       "      <th></th>\n",
       "      <th>King</th>\n",
       "      <th>Kitsap</th>\n",
       "      <th>Pierce</th>\n",
       "      <th>Snohomish</th>\n",
       "    </tr>\n",
       "  </thead>\n",
       "  <tbody>\n",
       "    <tr>\n",
       "      <th>Light</th>\n",
       "      <td>65.0%</td>\n",
       "      <td>93.3%</td>\n",
       "      <td>68.1%</td>\n",
       "      <td>73.4%</td>\n",
       "    </tr>\n",
       "    <tr>\n",
       "      <th>Moderate</th>\n",
       "      <td>17.3%</td>\n",
       "      <td>3.5%</td>\n",
       "      <td>20.5%</td>\n",
       "      <td>14.3%</td>\n",
       "    </tr>\n",
       "    <tr>\n",
       "      <th>Heavy</th>\n",
       "      <td>16.2%</td>\n",
       "      <td>1.0%</td>\n",
       "      <td>9.6%</td>\n",
       "      <td>11.6%</td>\n",
       "    </tr>\n",
       "    <tr>\n",
       "      <th>Severe</th>\n",
       "      <td>1.5%</td>\n",
       "      <td>2.2%</td>\n",
       "      <td>1.9%</td>\n",
       "      <td>0.8%</td>\n",
       "    </tr>\n",
       "  </tbody>\n",
       "</table>\n",
       "</div>"
      ],
      "text/plain": [
       "          King  Kitsap  Pierce  Snohomish\n",
       "Light    65.0%   93.3%   68.1%      73.4%\n",
       "Moderate 17.3%    3.5%   20.5%      14.3%\n",
       "Heavy    16.2%    1.0%    9.6%      11.6%\n",
       "Severe    1.5%    2.2%    1.9%       0.8%"
      ]
     },
     "execution_count": 16,
     "metadata": {},
     "output_type": "execute_result"
    }
   ],
   "source": [
    "pd.options.display.float_format = '{:0,.1%}'.format\n",
    "_df = _df/_df.sum(axis=0)\n",
    "_df"
   ]
  },
  {
   "cell_type": "code",
   "execution_count": 17,
   "metadata": {
    "execution": {
     "iopub.execute_input": "2021-06-10T22:01:38.215280Z",
     "iopub.status.busy": "2021-06-10T22:01:38.199653Z",
     "iopub.status.idle": "2021-06-10T22:01:38.402730Z",
     "shell.execute_reply": "2021-06-10T22:01:38.402730Z"
    }
   },
   "outputs": [
    {
     "data": {
      "image/png": "[encoded data removed]",
      "text/plain": [
       "<Figure size 576x432 with 1 Axes>"
      ]
     },
     "metadata": {},
     "output_type": "display_data"
    }
   ],
   "source": [
    "my_colors = list(islice(cycle(colors), None, len(_df)))\n",
    "ax = _df.plot(kind='barh', alpha=0.6, color=colors, figsize=(8,6))\n",
    "ax.invert_yaxis()\n",
    "ax.legend(loc='lower right');"
   ]
  },
  {
   "cell_type": "markdown",
   "metadata": {},
   "source": [
    "PM **Freeway** VMT"
   ]
  },
  {
   "cell_type": "code",
   "execution_count": 18,
   "metadata": {},
   "outputs": [
    {
     "data": {
      "text/html": [
       "<div>\n",
       "<style scoped>\n",
       "    .dataframe tbody tr th:only-of-type {\n",
       "        vertical-align: middle;\n",
       "    }\n",
       "\n",
       "    .dataframe tbody tr th {\n",
       "        vertical-align: top;\n",
       "    }\n",
       "\n",
       "    .dataframe thead th {\n",
       "        text-align: right;\n",
       "    }\n",
       "</style>\n",
       "<table border=\"1\" class=\"dataframe\">\n",
       "  <thead>\n",
       "    <tr style=\"text-align: right;\">\n",
       "      <th></th>\n",
       "      <th>King</th>\n",
       "      <th>Kitsap</th>\n",
       "      <th>Pierce</th>\n",
       "      <th>Snohomish</th>\n",
       "    </tr>\n",
       "  </thead>\n",
       "  <tbody>\n",
       "    <tr>\n",
       "      <th>Light</th>\n",
       "      <td>971,880</td>\n",
       "      <td>160,584</td>\n",
       "      <td>343,688</td>\n",
       "      <td>448,695</td>\n",
       "    </tr>\n",
       "    <tr>\n",
       "      <th>Moderate</th>\n",
       "      <td>461,357</td>\n",
       "      <td>1,546</td>\n",
       "      <td>219,624</td>\n",
       "      <td>128,656</td>\n",
       "    </tr>\n",
       "    <tr>\n",
       "      <th>Heavy</th>\n",
       "      <td>437,625</td>\n",
       "      <td>0</td>\n",
       "      <td>99,323</td>\n",
       "      <td>83,459</td>\n",
       "    </tr>\n",
       "    <tr>\n",
       "      <th>Severe</th>\n",
       "      <td>24,769</td>\n",
       "      <td>6,274</td>\n",
       "      <td>625</td>\n",
       "      <td>1,000</td>\n",
       "    </tr>\n",
       "  </tbody>\n",
       "</table>\n",
       "</div>"
      ],
      "text/plain": [
       "            King  Kitsap  Pierce  Snohomish\n",
       "Light    971,880 160,584 343,688    448,695\n",
       "Moderate 461,357   1,546 219,624    128,656\n",
       "Heavy    437,625       0  99,323     83,459\n",
       "Severe    24,769   6,274     625      1,000"
      ]
     },
     "execution_count": 18,
     "metadata": {},
     "output_type": "execute_result"
    }
   ],
   "source": [
    "# Segment by facility type\n",
    "_df = df_pm[df_pm['facility_type'] == 'highway']\n",
    "pd.options.display.float_format = '{:0,.0f}'.format\n",
    "_df = _df.pivot_table(index='congestion_category',columns='county',\n",
    "               aggfunc='sum',values='VMT')\n",
    "_df = _df.reindex(['Light','Moderate','Heavy','Severe'])\n",
    "_df.index.name = None\n",
    "_df.columns.name = None\n",
    "_df"
   ]
  },
  {
   "cell_type": "markdown",
   "metadata": {},
   "source": [
    "PM **Arterial** VMT"
   ]
  },
  {
   "cell_type": "code",
   "execution_count": 19,
   "metadata": {},
   "outputs": [
    {
     "data": {
      "text/html": [
       "<div>\n",
       "<style scoped>\n",
       "    .dataframe tbody tr th:only-of-type {\n",
       "        vertical-align: middle;\n",
       "    }\n",
       "\n",
       "    .dataframe tbody tr th {\n",
       "        vertical-align: top;\n",
       "    }\n",
       "\n",
       "    .dataframe thead th {\n",
       "        text-align: right;\n",
       "    }\n",
       "</style>\n",
       "<table border=\"1\" class=\"dataframe\">\n",
       "  <thead>\n",
       "    <tr style=\"text-align: right;\">\n",
       "      <th></th>\n",
       "      <th>King</th>\n",
       "      <th>Kitsap</th>\n",
       "      <th>Pierce</th>\n",
       "      <th>Snohomish</th>\n",
       "    </tr>\n",
       "  </thead>\n",
       "  <tbody>\n",
       "    <tr>\n",
       "      <th>Light</th>\n",
       "      <td>1,266,737</td>\n",
       "      <td>165,417</td>\n",
       "      <td>647,322</td>\n",
       "      <td>471,211</td>\n",
       "    </tr>\n",
       "    <tr>\n",
       "      <th>Moderate</th>\n",
       "      <td>244,868</td>\n",
       "      <td>7,513</td>\n",
       "      <td>94,129</td>\n",
       "      <td>71,963</td>\n",
       "    </tr>\n",
       "    <tr>\n",
       "      <th>Heavy</th>\n",
       "      <td>135,929</td>\n",
       "      <td>3,907</td>\n",
       "      <td>41,904</td>\n",
       "      <td>34,529</td>\n",
       "    </tr>\n",
       "    <tr>\n",
       "      <th>Severe</th>\n",
       "      <td>26,233</td>\n",
       "      <td>290</td>\n",
       "      <td>4,346</td>\n",
       "      <td>4,863</td>\n",
       "    </tr>\n",
       "  </tbody>\n",
       "</table>\n",
       "</div>"
      ],
      "text/plain": [
       "              King  Kitsap  Pierce  Snohomish\n",
       "Light    1,266,737 165,417 647,322    471,211\n",
       "Moderate   244,868   7,513  94,129     71,963\n",
       "Heavy      135,929   3,907  41,904     34,529\n",
       "Severe      26,233     290   4,346      4,863"
      ]
     },
     "execution_count": 19,
     "metadata": {},
     "output_type": "execute_result"
    }
   ],
   "source": [
    "# Segment by facility type\n",
    "_df = df_pm[df_pm['facility_type'] == 'arterial']\n",
    "pd.options.display.float_format = '{:0,.0f}'.format\n",
    "_df = _df.pivot_table(index='congestion_category',columns='county',\n",
    "               aggfunc='sum',values='VMT')\n",
    "_df = _df.reindex(['Light','Moderate','Heavy','Severe'])\n",
    "_df.index.name = None\n",
    "_df.columns.name = None\n",
    "_df"
   ]
  },
  {
   "cell_type": "markdown",
   "metadata": {},
   "source": [
    "# Freight Congestion\n",
    "## All Trucks (Heavy & Medium)\n",
    "#### All Day"
   ]
  },
  {
   "cell_type": "code",
   "execution_count": 20,
   "metadata": {
    "execution": {
     "iopub.execute_input": "2021-06-10T22:01:38.402730Z",
     "iopub.status.busy": "2021-06-10T22:01:38.402730Z",
     "iopub.status.idle": "2021-06-10T22:01:38.449596Z",
     "shell.execute_reply": "2021-06-10T22:01:38.449596Z"
    }
   },
   "outputs": [],
   "source": [
    "df['heavy_truck_vmt'] = df['length']*df['@heavy_truck']\n",
    "df['medium_truck_vmt'] = df['length']*df['@medium_truck']\n",
    "df['total_truck_vmt'] = df['heavy_truck_vmt']+df['medium_truck_vmt'] "
   ]
  },
  {
   "cell_type": "code",
   "execution_count": 21,
   "metadata": {
    "execution": {
     "iopub.execute_input": "2021-06-10T22:01:38.449596Z",
     "iopub.status.busy": "2021-06-10T22:01:38.449596Z",
     "iopub.status.idle": "2021-06-10T22:01:38.762022Z",
     "shell.execute_reply": "2021-06-10T22:01:38.762022Z"
    }
   },
   "outputs": [
    {
     "data": {
      "text/html": [
       "<div>\n",
       "<style scoped>\n",
       "    .dataframe tbody tr th:only-of-type {\n",
       "        vertical-align: middle;\n",
       "    }\n",
       "\n",
       "    .dataframe tbody tr th {\n",
       "        vertical-align: top;\n",
       "    }\n",
       "\n",
       "    .dataframe thead th {\n",
       "        text-align: right;\n",
       "    }\n",
       "</style>\n",
       "<table border=\"1\" class=\"dataframe\">\n",
       "  <thead>\n",
       "    <tr style=\"text-align: right;\">\n",
       "      <th></th>\n",
       "      <th>King</th>\n",
       "      <th>Kitsap</th>\n",
       "      <th>Pierce</th>\n",
       "      <th>Snohomish</th>\n",
       "    </tr>\n",
       "  </thead>\n",
       "  <tbody>\n",
       "    <tr>\n",
       "      <th>Light</th>\n",
       "      <td>4,880,410</td>\n",
       "      <td>410,474</td>\n",
       "      <td>1,756,785</td>\n",
       "      <td>1,812,343</td>\n",
       "    </tr>\n",
       "    <tr>\n",
       "      <th>Moderate</th>\n",
       "      <td>894,358</td>\n",
       "      <td>7,735</td>\n",
       "      <td>253,645</td>\n",
       "      <td>178,730</td>\n",
       "    </tr>\n",
       "    <tr>\n",
       "      <th>Heavy</th>\n",
       "      <td>463,847</td>\n",
       "      <td>3,532</td>\n",
       "      <td>63,276</td>\n",
       "      <td>72,936</td>\n",
       "    </tr>\n",
       "    <tr>\n",
       "      <th>Severe</th>\n",
       "      <td>27,386</td>\n",
       "      <td>1,293</td>\n",
       "      <td>5,402</td>\n",
       "      <td>3,412</td>\n",
       "    </tr>\n",
       "  </tbody>\n",
       "</table>\n",
       "</div>"
      ],
      "text/plain": [
       "              King  Kitsap    Pierce  Snohomish\n",
       "Light    4,880,410 410,474 1,756,785  1,812,343\n",
       "Moderate   894,358   7,735   253,645    178,730\n",
       "Heavy      463,847   3,532    63,276     72,936\n",
       "Severe      27,386   1,293     5,402      3,412"
      ]
     },
     "execution_count": 21,
     "metadata": {},
     "output_type": "execute_result"
    }
   ],
   "source": [
    "pd.options.display.float_format = '{:0,.0f}'.format\n",
    "_df = df.pivot_table(index='congestion_category',columns='county',\n",
    "               aggfunc='sum',values='total_truck_vmt')\n",
    "_df = _df.reindex(['Light','Moderate','Heavy','Severe'])\n",
    "_df.index.name = None\n",
    "_df.columns.name = None\n",
    "_df"
   ]
  },
  {
   "cell_type": "code",
   "execution_count": 22,
   "metadata": {
    "execution": {
     "iopub.execute_input": "2021-06-10T22:01:38.777650Z",
     "iopub.status.busy": "2021-06-10T22:01:38.777650Z",
     "iopub.status.idle": "2021-06-10T22:01:38.793272Z",
     "shell.execute_reply": "2021-06-10T22:01:38.793272Z"
    }
   },
   "outputs": [
    {
     "data": {
      "text/html": [
       "<div>\n",
       "<style scoped>\n",
       "    .dataframe tbody tr th:only-of-type {\n",
       "        vertical-align: middle;\n",
       "    }\n",
       "\n",
       "    .dataframe tbody tr th {\n",
       "        vertical-align: top;\n",
       "    }\n",
       "\n",
       "    .dataframe thead th {\n",
       "        text-align: right;\n",
       "    }\n",
       "</style>\n",
       "<table border=\"1\" class=\"dataframe\">\n",
       "  <thead>\n",
       "    <tr style=\"text-align: right;\">\n",
       "      <th></th>\n",
       "      <th>King</th>\n",
       "      <th>Kitsap</th>\n",
       "      <th>Pierce</th>\n",
       "      <th>Snohomish</th>\n",
       "    </tr>\n",
       "  </thead>\n",
       "  <tbody>\n",
       "    <tr>\n",
       "      <th>Light</th>\n",
       "      <td>77.9%</td>\n",
       "      <td>97.0%</td>\n",
       "      <td>84.5%</td>\n",
       "      <td>87.7%</td>\n",
       "    </tr>\n",
       "    <tr>\n",
       "      <th>Moderate</th>\n",
       "      <td>14.3%</td>\n",
       "      <td>1.8%</td>\n",
       "      <td>12.2%</td>\n",
       "      <td>8.6%</td>\n",
       "    </tr>\n",
       "    <tr>\n",
       "      <th>Heavy</th>\n",
       "      <td>7.4%</td>\n",
       "      <td>0.8%</td>\n",
       "      <td>3.0%</td>\n",
       "      <td>3.5%</td>\n",
       "    </tr>\n",
       "    <tr>\n",
       "      <th>Severe</th>\n",
       "      <td>0.4%</td>\n",
       "      <td>0.3%</td>\n",
       "      <td>0.3%</td>\n",
       "      <td>0.2%</td>\n",
       "    </tr>\n",
       "  </tbody>\n",
       "</table>\n",
       "</div>"
      ],
      "text/plain": [
       "          King  Kitsap  Pierce  Snohomish\n",
       "Light    77.9%   97.0%   84.5%      87.7%\n",
       "Moderate 14.3%    1.8%   12.2%       8.6%\n",
       "Heavy     7.4%    0.8%    3.0%       3.5%\n",
       "Severe    0.4%    0.3%    0.3%       0.2%"
      ]
     },
     "execution_count": 22,
     "metadata": {},
     "output_type": "execute_result"
    }
   ],
   "source": [
    "pd.options.display.float_format = '{:0,.1%}'.format\n",
    "_df = _df/_df.sum(axis=0)\n",
    "_df"
   ]
  },
  {
   "cell_type": "code",
   "execution_count": 23,
   "metadata": {
    "execution": {
     "iopub.execute_input": "2021-06-10T22:01:38.886989Z",
     "iopub.status.busy": "2021-06-10T22:01:38.808888Z",
     "iopub.status.idle": "2021-06-10T22:01:39.027589Z",
     "shell.execute_reply": "2021-06-10T22:01:39.027589Z"
    }
   },
   "outputs": [
    {
     "data": {
      "image/png": "[encoded data removed]",
      "text/plain": [
       "<Figure size 576x432 with 1 Axes>"
      ]
     },
     "metadata": {},
     "output_type": "display_data"
    }
   ],
   "source": [
    "my_colors = list(islice(cycle(colors), None, len(_df)))\n",
    "ax = _df.plot(kind='barh', alpha=0.6, color=colors, figsize=(8,6))\n",
    "ax.invert_yaxis()\n",
    "ax.legend(loc='lower right');"
   ]
  },
  {
   "cell_type": "markdown",
   "metadata": {},
   "source": [
    "## Heavy Trucks"
   ]
  },
  {
   "cell_type": "code",
   "execution_count": 24,
   "metadata": {
    "execution": {
     "iopub.execute_input": "2021-06-10T22:01:39.058829Z",
     "iopub.status.busy": "2021-06-10T22:01:39.058829Z",
     "iopub.status.idle": "2021-06-10T22:01:39.168179Z",
     "shell.execute_reply": "2021-06-10T22:01:39.168179Z"
    }
   },
   "outputs": [
    {
     "data": {
      "text/html": [
       "<div>\n",
       "<style scoped>\n",
       "    .dataframe tbody tr th:only-of-type {\n",
       "        vertical-align: middle;\n",
       "    }\n",
       "\n",
       "    .dataframe tbody tr th {\n",
       "        vertical-align: top;\n",
       "    }\n",
       "\n",
       "    .dataframe thead th {\n",
       "        text-align: right;\n",
       "    }\n",
       "</style>\n",
       "<table border=\"1\" class=\"dataframe\">\n",
       "  <thead>\n",
       "    <tr style=\"text-align: right;\">\n",
       "      <th></th>\n",
       "      <th>King</th>\n",
       "      <th>Kitsap</th>\n",
       "      <th>Pierce</th>\n",
       "      <th>Snohomish</th>\n",
       "    </tr>\n",
       "  </thead>\n",
       "  <tbody>\n",
       "    <tr>\n",
       "      <th>Light</th>\n",
       "      <td>2,436,336</td>\n",
       "      <td>162,366</td>\n",
       "      <td>986,457</td>\n",
       "      <td>1,044,226</td>\n",
       "    </tr>\n",
       "    <tr>\n",
       "      <th>Moderate</th>\n",
       "      <td>441,137</td>\n",
       "      <td>2,281</td>\n",
       "      <td>152,752</td>\n",
       "      <td>97,123</td>\n",
       "    </tr>\n",
       "    <tr>\n",
       "      <th>Heavy</th>\n",
       "      <td>220,325</td>\n",
       "      <td>969</td>\n",
       "      <td>39,219</td>\n",
       "      <td>36,622</td>\n",
       "    </tr>\n",
       "    <tr>\n",
       "      <th>Severe</th>\n",
       "      <td>10,283</td>\n",
       "      <td>566</td>\n",
       "      <td>3,877</td>\n",
       "      <td>1,101</td>\n",
       "    </tr>\n",
       "  </tbody>\n",
       "</table>\n",
       "</div>"
      ],
      "text/plain": [
       "              King  Kitsap  Pierce  Snohomish\n",
       "Light    2,436,336 162,366 986,457  1,044,226\n",
       "Moderate   441,137   2,281 152,752     97,123\n",
       "Heavy      220,325     969  39,219     36,622\n",
       "Severe      10,283     566   3,877      1,101"
      ]
     },
     "execution_count": 24,
     "metadata": {},
     "output_type": "execute_result"
    }
   ],
   "source": [
    "pd.options.display.float_format = '{:0,.0f}'.format\n",
    "_df = df.pivot_table(index='congestion_category',columns='county',\n",
    "               aggfunc='sum',values='heavy_truck_vmt')\n",
    "_df = _df.reindex(['Light','Moderate','Heavy','Severe'])\n",
    "_df.index.name = None\n",
    "_df.columns.name = None\n",
    "_df"
   ]
  },
  {
   "cell_type": "code",
   "execution_count": 25,
   "metadata": {
    "execution": {
     "iopub.execute_input": "2021-06-10T22:01:39.183801Z",
     "iopub.status.busy": "2021-06-10T22:01:39.183801Z",
     "iopub.status.idle": "2021-06-10T22:01:39.199419Z",
     "shell.execute_reply": "2021-06-10T22:01:39.199419Z"
    }
   },
   "outputs": [
    {
     "data": {
      "text/html": [
       "<div>\n",
       "<style scoped>\n",
       "    .dataframe tbody tr th:only-of-type {\n",
       "        vertical-align: middle;\n",
       "    }\n",
       "\n",
       "    .dataframe tbody tr th {\n",
       "        vertical-align: top;\n",
       "    }\n",
       "\n",
       "    .dataframe thead th {\n",
       "        text-align: right;\n",
       "    }\n",
       "</style>\n",
       "<table border=\"1\" class=\"dataframe\">\n",
       "  <thead>\n",
       "    <tr style=\"text-align: right;\">\n",
       "      <th></th>\n",
       "      <th>King</th>\n",
       "      <th>Kitsap</th>\n",
       "      <th>Pierce</th>\n",
       "      <th>Snohomish</th>\n",
       "    </tr>\n",
       "  </thead>\n",
       "  <tbody>\n",
       "    <tr>\n",
       "      <th>Light</th>\n",
       "      <td>78.4%</td>\n",
       "      <td>97.7%</td>\n",
       "      <td>83.4%</td>\n",
       "      <td>88.6%</td>\n",
       "    </tr>\n",
       "    <tr>\n",
       "      <th>Moderate</th>\n",
       "      <td>14.2%</td>\n",
       "      <td>1.4%</td>\n",
       "      <td>12.9%</td>\n",
       "      <td>8.2%</td>\n",
       "    </tr>\n",
       "    <tr>\n",
       "      <th>Heavy</th>\n",
       "      <td>7.1%</td>\n",
       "      <td>0.6%</td>\n",
       "      <td>3.3%</td>\n",
       "      <td>3.1%</td>\n",
       "    </tr>\n",
       "    <tr>\n",
       "      <th>Severe</th>\n",
       "      <td>0.3%</td>\n",
       "      <td>0.3%</td>\n",
       "      <td>0.3%</td>\n",
       "      <td>0.1%</td>\n",
       "    </tr>\n",
       "  </tbody>\n",
       "</table>\n",
       "</div>"
      ],
      "text/plain": [
       "          King  Kitsap  Pierce  Snohomish\n",
       "Light    78.4%   97.7%   83.4%      88.6%\n",
       "Moderate 14.2%    1.4%   12.9%       8.2%\n",
       "Heavy     7.1%    0.6%    3.3%       3.1%\n",
       "Severe    0.3%    0.3%    0.3%       0.1%"
      ]
     },
     "execution_count": 25,
     "metadata": {},
     "output_type": "execute_result"
    }
   ],
   "source": [
    "pd.options.display.float_format = '{:0,.1%}'.format\n",
    "_df = _df/_df.sum(axis=0)\n",
    "_df"
   ]
  },
  {
   "cell_type": "code",
   "execution_count": 26,
   "metadata": {
    "execution": {
     "iopub.execute_input": "2021-06-10T22:01:39.230665Z",
     "iopub.status.busy": "2021-06-10T22:01:39.215043Z",
     "iopub.status.idle": "2021-06-10T22:01:39.452680Z",
     "shell.execute_reply": "2021-06-10T22:01:39.452680Z"
    }
   },
   "outputs": [
    {
     "data": {
      "image/png": "[encoded data removed]",
      "text/plain": [
       "<Figure size 576x432 with 1 Axes>"
      ]
     },
     "metadata": {},
     "output_type": "display_data"
    }
   ],
   "source": [
    "my_colors = list(islice(cycle(colors), None, len(_df)))\n",
    "ax = _df.plot(kind='barh', alpha=0.6, color=colors, figsize=(8,6))\n",
    "ax.invert_yaxis()\n",
    "ax.legend(loc='lower right');"
   ]
  },
  {
   "cell_type": "markdown",
   "metadata": {},
   "source": [
    "## Medium Trucks"
   ]
  },
  {
   "cell_type": "code",
   "execution_count": 27,
   "metadata": {
    "execution": {
     "iopub.execute_input": "2021-06-10T22:01:39.546396Z",
     "iopub.status.busy": "2021-06-10T22:01:39.546396Z",
     "iopub.status.idle": "2021-06-10T22:01:39.593253Z",
     "shell.execute_reply": "2021-06-10T22:01:39.593253Z"
    }
   },
   "outputs": [
    {
     "data": {
      "text/html": [
       "<div>\n",
       "<style scoped>\n",
       "    .dataframe tbody tr th:only-of-type {\n",
       "        vertical-align: middle;\n",
       "    }\n",
       "\n",
       "    .dataframe tbody tr th {\n",
       "        vertical-align: top;\n",
       "    }\n",
       "\n",
       "    .dataframe thead th {\n",
       "        text-align: right;\n",
       "    }\n",
       "</style>\n",
       "<table border=\"1\" class=\"dataframe\">\n",
       "  <thead>\n",
       "    <tr style=\"text-align: right;\">\n",
       "      <th>county</th>\n",
       "      <th>King</th>\n",
       "      <th>Kitsap</th>\n",
       "      <th>Pierce</th>\n",
       "      <th>Snohomish</th>\n",
       "    </tr>\n",
       "    <tr>\n",
       "      <th>congestion_category</th>\n",
       "      <th></th>\n",
       "      <th></th>\n",
       "      <th></th>\n",
       "      <th></th>\n",
       "    </tr>\n",
       "  </thead>\n",
       "  <tbody>\n",
       "    <tr>\n",
       "      <th>Severe</th>\n",
       "      <td>17,103</td>\n",
       "      <td>728</td>\n",
       "      <td>1,525</td>\n",
       "      <td>2,311</td>\n",
       "    </tr>\n",
       "    <tr>\n",
       "      <th>Heavy</th>\n",
       "      <td>243,521</td>\n",
       "      <td>2,563</td>\n",
       "      <td>24,057</td>\n",
       "      <td>36,314</td>\n",
       "    </tr>\n",
       "    <tr>\n",
       "      <th>Moderate</th>\n",
       "      <td>453,221</td>\n",
       "      <td>5,454</td>\n",
       "      <td>100,894</td>\n",
       "      <td>81,607</td>\n",
       "    </tr>\n",
       "    <tr>\n",
       "      <th>Light</th>\n",
       "      <td>2,444,074</td>\n",
       "      <td>248,108</td>\n",
       "      <td>770,329</td>\n",
       "      <td>768,117</td>\n",
       "    </tr>\n",
       "  </tbody>\n",
       "</table>\n",
       "</div>"
      ],
      "text/plain": [
       "county                   King  Kitsap  Pierce  Snohomish\n",
       "congestion_category                                     \n",
       "Severe                 17,103     728   1,525      2,311\n",
       "Heavy                 243,521   2,563  24,057     36,314\n",
       "Moderate              453,221   5,454 100,894     81,607\n",
       "Light               2,444,074 248,108 770,329    768,117"
      ]
     },
     "execution_count": 27,
     "metadata": {},
     "output_type": "execute_result"
    }
   ],
   "source": [
    "pd.options.display.float_format = '{:0,.0f}'.format\n",
    "_df = df.pivot_table(index='congestion_category',columns='county',\n",
    "               aggfunc='sum',values='medium_truck_vmt')\n",
    "\n",
    "_df"
   ]
  },
  {
   "cell_type": "code",
   "execution_count": 28,
   "metadata": {
    "execution": {
     "iopub.execute_input": "2021-06-10T22:01:39.624507Z",
     "iopub.status.busy": "2021-06-10T22:01:39.624507Z",
     "iopub.status.idle": "2021-06-10T22:01:39.733847Z",
     "shell.execute_reply": "2021-06-10T22:01:39.733847Z"
    }
   },
   "outputs": [
    {
     "data": {
      "text/html": [
       "<div>\n",
       "<style scoped>\n",
       "    .dataframe tbody tr th:only-of-type {\n",
       "        vertical-align: middle;\n",
       "    }\n",
       "\n",
       "    .dataframe tbody tr th {\n",
       "        vertical-align: top;\n",
       "    }\n",
       "\n",
       "    .dataframe thead th {\n",
       "        text-align: right;\n",
       "    }\n",
       "</style>\n",
       "<table border=\"1\" class=\"dataframe\">\n",
       "  <thead>\n",
       "    <tr style=\"text-align: right;\">\n",
       "      <th></th>\n",
       "      <th>King</th>\n",
       "      <th>Kitsap</th>\n",
       "      <th>Pierce</th>\n",
       "      <th>Snohomish</th>\n",
       "    </tr>\n",
       "  </thead>\n",
       "  <tbody>\n",
       "    <tr>\n",
       "      <th>Light</th>\n",
       "      <td>2,444,074</td>\n",
       "      <td>248,108</td>\n",
       "      <td>770,329</td>\n",
       "      <td>768,117</td>\n",
       "    </tr>\n",
       "    <tr>\n",
       "      <th>Moderate</th>\n",
       "      <td>453,221</td>\n",
       "      <td>5,454</td>\n",
       "      <td>100,894</td>\n",
       "      <td>81,607</td>\n",
       "    </tr>\n",
       "    <tr>\n",
       "      <th>Heavy</th>\n",
       "      <td>243,521</td>\n",
       "      <td>2,563</td>\n",
       "      <td>24,057</td>\n",
       "      <td>36,314</td>\n",
       "    </tr>\n",
       "    <tr>\n",
       "      <th>Severe</th>\n",
       "      <td>17,103</td>\n",
       "      <td>728</td>\n",
       "      <td>1,525</td>\n",
       "      <td>2,311</td>\n",
       "    </tr>\n",
       "  </tbody>\n",
       "</table>\n",
       "</div>"
      ],
      "text/plain": [
       "              King  Kitsap  Pierce  Snohomish\n",
       "Light    2,444,074 248,108 770,329    768,117\n",
       "Moderate   453,221   5,454 100,894     81,607\n",
       "Heavy      243,521   2,563  24,057     36,314\n",
       "Severe      17,103     728   1,525      2,311"
      ]
     },
     "execution_count": 28,
     "metadata": {},
     "output_type": "execute_result"
    }
   ],
   "source": [
    "pd.options.display.float_format = '{:0,.0f}'.format\n",
    "_df = df.pivot_table(index='congestion_category',columns='county',\n",
    "               aggfunc='sum',values='medium_truck_vmt')\n",
    "_df = _df.reindex(['Light','Moderate','Heavy','Severe'])\n",
    "_df.index.name = None\n",
    "_df.columns.name = None\n",
    "_df"
   ]
  },
  {
   "cell_type": "code",
   "execution_count": 29,
   "metadata": {
    "execution": {
     "iopub.execute_input": "2021-06-10T22:01:39.749472Z",
     "iopub.status.busy": "2021-06-10T22:01:39.749472Z",
     "iopub.status.idle": "2021-06-10T22:01:39.765093Z",
     "shell.execute_reply": "2021-06-10T22:01:39.765093Z"
    }
   },
   "outputs": [
    {
     "data": {
      "text/html": [
       "<div>\n",
       "<style scoped>\n",
       "    .dataframe tbody tr th:only-of-type {\n",
       "        vertical-align: middle;\n",
       "    }\n",
       "\n",
       "    .dataframe tbody tr th {\n",
       "        vertical-align: top;\n",
       "    }\n",
       "\n",
       "    .dataframe thead th {\n",
       "        text-align: right;\n",
       "    }\n",
       "</style>\n",
       "<table border=\"1\" class=\"dataframe\">\n",
       "  <thead>\n",
       "    <tr style=\"text-align: right;\">\n",
       "      <th></th>\n",
       "      <th>King</th>\n",
       "      <th>Kitsap</th>\n",
       "      <th>Pierce</th>\n",
       "      <th>Snohomish</th>\n",
       "    </tr>\n",
       "  </thead>\n",
       "  <tbody>\n",
       "    <tr>\n",
       "      <th>Light</th>\n",
       "      <td>77.4%</td>\n",
       "      <td>96.6%</td>\n",
       "      <td>85.9%</td>\n",
       "      <td>86.5%</td>\n",
       "    </tr>\n",
       "    <tr>\n",
       "      <th>Moderate</th>\n",
       "      <td>14.4%</td>\n",
       "      <td>2.1%</td>\n",
       "      <td>11.3%</td>\n",
       "      <td>9.2%</td>\n",
       "    </tr>\n",
       "    <tr>\n",
       "      <th>Heavy</th>\n",
       "      <td>7.7%</td>\n",
       "      <td>1.0%</td>\n",
       "      <td>2.7%</td>\n",
       "      <td>4.1%</td>\n",
       "    </tr>\n",
       "    <tr>\n",
       "      <th>Severe</th>\n",
       "      <td>0.5%</td>\n",
       "      <td>0.3%</td>\n",
       "      <td>0.2%</td>\n",
       "      <td>0.3%</td>\n",
       "    </tr>\n",
       "  </tbody>\n",
       "</table>\n",
       "</div>"
      ],
      "text/plain": [
       "          King  Kitsap  Pierce  Snohomish\n",
       "Light    77.4%   96.6%   85.9%      86.5%\n",
       "Moderate 14.4%    2.1%   11.3%       9.2%\n",
       "Heavy     7.7%    1.0%    2.7%       4.1%\n",
       "Severe    0.5%    0.3%    0.2%       0.3%"
      ]
     },
     "execution_count": 29,
     "metadata": {},
     "output_type": "execute_result"
    }
   ],
   "source": [
    "pd.options.display.float_format = '{:0,.1%}'.format\n",
    "_df = _df/_df.sum(axis=0)\n",
    "_df"
   ]
  },
  {
   "cell_type": "code",
   "execution_count": 30,
   "metadata": {
    "execution": {
     "iopub.execute_input": "2021-06-10T22:01:39.796333Z",
     "iopub.status.busy": "2021-06-10T22:01:39.796333Z",
     "iopub.status.idle": "2021-06-10T22:01:39.999407Z",
     "shell.execute_reply": "2021-06-10T22:01:39.999407Z"
    }
   },
   "outputs": [
    {
     "data": {
      "image/png": "[encoded data removed]",
      "text/plain": [
       "<Figure size 576x432 with 1 Axes>"
      ]
     },
     "metadata": {},
     "output_type": "display_data"
    }
   ],
   "source": [
    "my_colors = list(islice(cycle(colors), None, len(_df)))\n",
    "ax = _df.plot(kind='barh', alpha=0.6, color=colors, figsize=(8,6))\n",
    "ax.invert_yaxis()\n",
    "ax.legend(loc='lower right');"
   ]
  }
 ],
 "metadata": {
  "kernelspec": {
   "display_name": "Python 3",
   "language": "python",
   "name": "python3"
  },
  "language_info": {
   "codemirror_mode": {
    "name": "ipython",
    "version": 3
   },
   "file_extension": ".py",
   "mimetype": "text/x-python",
   "name": "python",
   "nbconvert_exporter": "python",
   "pygments_lexer": "ipython3",
   "version": "3.7.10"
  }
 },
 "nbformat": 4,
 "nbformat_minor": 4
}
