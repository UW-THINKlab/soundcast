{
 "cells": [
  {
   "cell_type": "code",
   "execution_count": 1,
   "id": "47873e46",
   "metadata": {
    "execution": {
     "iopub.execute_input": "2024-04-03T17:31:17.745523Z",
     "iopub.status.busy": "2024-04-03T17:31:17.744526Z",
     "iopub.status.idle": "2024-04-03T17:31:19.064434Z",
     "shell.execute_reply": "2024-04-03T17:31:19.064434Z"
    }
   },
   "outputs": [],
   "source": [
    "import os, sys, time\n",
    "import warnings\n",
    "warnings.simplefilter(action='ignore', category=FutureWarning)\n",
    "import pandas as pd\n",
    "pd.options.mode.chained_assignment = None\n",
    "import h5py\n",
    "import geopandas as gpd\n",
    "sys.path.append(os.path.join(os.getcwd(),r'..\\..\\..'))\n",
    "# from input_configuration import base_year\n",
    "import toml\n",
    "config = toml.load(os.path.join(os.getcwd(),r'../../../configuration/input_configuration.toml'))\n",
    "\n",
    "%matplotlib inline\n",
    "\n",
    "from IPython.display import display, HTML\n",
    "\n",
    "if (sys.version_info < (3, 0)):\n",
    "    HTML('''<script>\n",
    "    code_show=true; \n",
    "    function code_toggle() {\n",
    "     if (code_show){\n",
    "     $('div.input').hide();\n",
    "     } else {\n",
    "     $('div.input').show();\n",
    "     }\n",
    "     code_show = !code_show\n",
    "    } \n",
    "    $( document ).ready(code_toggle);\n",
    "    </script>\n",
    "    <form action=\"javascript:code_toggle()\"><input type=\"submit\" value=\"Click here to toggle on/off the raw code.\"></form>''')\n"
   ]
  },
  {
   "cell_type": "code",
   "execution_count": 2,
   "id": "748ebee3",
   "metadata": {
    "execution": {
     "iopub.execute_input": "2024-04-03T17:31:19.064434Z",
     "iopub.status.busy": "2024-04-03T17:31:19.064434Z",
     "iopub.status.idle": "2024-04-03T17:31:19.080121Z",
     "shell.execute_reply": "2024-04-03T17:31:19.080121Z"
    }
   },
   "outputs": [],
   "source": [
    "CSS = \"\"\"\n",
    ".output {\n",
    "    flex-direction: row;\n",
    "}\n",
    "\"\"\"\n",
    "\n",
    "HTML('<style>{}</style>'.format(CSS))\n",
    "\n",
    "# Relative path between notebooks and goruped output directories\n",
    "relative_path = '../../../outputs'\n",
    "survey_path = '../../../inputs/base_year/survey'"
   ]
  },
  {
   "cell_type": "code",
   "execution_count": 3,
   "id": "c0e64fe6",
   "metadata": {
    "execution": {
     "iopub.execute_input": "2024-04-03T17:31:19.080121Z",
     "iopub.status.busy": "2024-04-03T17:31:19.080121Z",
     "iopub.status.idle": "2024-04-03T17:31:19.095742Z",
     "shell.execute_reply": "2024-04-03T17:31:19.095742Z"
    }
   },
   "outputs": [],
   "source": [
    "pd.options.display.float_format = '{:0,.0f}'.format"
   ]
  },
  {
   "cell_type": "markdown",
   "id": "83200997",
   "metadata": {},
   "source": [
    "# Boardings by Agency"
   ]
  },
  {
   "cell_type": "code",
   "execution_count": 4,
   "id": "2e0e8592",
   "metadata": {
    "execution": {
     "iopub.execute_input": "2024-04-03T17:31:19.095742Z",
     "iopub.status.busy": "2024-04-03T17:31:19.095742Z",
     "iopub.status.idle": "2024-04-03T17:31:19.173849Z",
     "shell.execute_reply": "2024-04-03T17:31:19.173849Z"
    }
   },
   "outputs": [
    {
     "data": {
      "text/html": [
       "<table border=\"1\" class=\"dataframe\">\n",
       "  <thead>\n",
       "    <tr style=\"text-align: right;\">\n",
       "      <th>Agency</th>\n",
       "      <th>Boardings</th>\n",
       "    </tr>\n",
       "  </thead>\n",
       "  <tbody>\n",
       "    <tr>\n",
       "      <td>King County Metro</td>\n",
       "      <td>352,096</td>\n",
       "    </tr>\n",
       "    <tr>\n",
       "      <td>Sound Transit</td>\n",
       "      <td>159,589</td>\n",
       "    </tr>\n",
       "    <tr>\n",
       "      <td>Kitsap Transit</td>\n",
       "      <td>27,574</td>\n",
       "    </tr>\n",
       "    <tr>\n",
       "      <td>Community Transit</td>\n",
       "      <td>27,016</td>\n",
       "    </tr>\n",
       "    <tr>\n",
       "      <td>Pierce Transit</td>\n",
       "      <td>22,245</td>\n",
       "    </tr>\n",
       "    <tr>\n",
       "      <td>Washington Ferries</td>\n",
       "      <td>5,229</td>\n",
       "    </tr>\n",
       "    <tr>\n",
       "      <td>Everett Transit</td>\n",
       "      <td>3,162</td>\n",
       "    </tr>\n",
       "    <tr>\n",
       "      <td>Region Total</td>\n",
       "      <td>596,911</td>\n",
       "    </tr>\n",
       "  </tbody>\n",
       "</table>"
      ],
      "text/plain": [
       "<IPython.core.display.HTML object>"
      ]
     },
     "execution_count": 4,
     "metadata": {},
     "output_type": "execute_result"
    }
   ],
   "source": [
    "df = pd.read_csv(os.path.join(relative_path,'transit','daily_boardings_by_agency.csv'),index_col=0)\n",
    "df.loc['Region Total','boardings'] = df['boardings'].sum()\n",
    "df = df.reset_index()\n",
    "df.rename(columns={'agency_name': 'Agency', 'boardings': 'Boardings'}, inplace=True)\n",
    "HTML(df.to_html(index=False))"
   ]
  },
  {
   "cell_type": "markdown",
   "id": "83c4c8b9",
   "metadata": {},
   "source": [
    "# Boardings by Service Type"
   ]
  },
  {
   "cell_type": "code",
   "execution_count": 5,
   "id": "8b2fd3ca",
   "metadata": {
    "execution": {
     "iopub.execute_input": "2024-04-03T17:31:19.173849Z",
     "iopub.status.busy": "2024-04-03T17:31:19.173849Z",
     "iopub.status.idle": "2024-04-03T17:31:19.314373Z",
     "shell.execute_reply": "2024-04-03T17:31:19.314373Z"
    }
   },
   "outputs": [
    {
     "data": {
      "text/html": [
       "<table border=\"1\" class=\"dataframe\">\n",
       "  <thead>\n",
       "    <tr style=\"text-align: right;\">\n",
       "      <th>Transit Type</th>\n",
       "      <th>Boardings</th>\n",
       "    </tr>\n",
       "  </thead>\n",
       "  <tbody>\n",
       "    <tr>\n",
       "      <td>Auto Ferry</td>\n",
       "      <td>22,472</td>\n",
       "    </tr>\n",
       "    <tr>\n",
       "      <td>Bus Rapid Transit</td>\n",
       "      <td>78,035</td>\n",
       "    </tr>\n",
       "    <tr>\n",
       "      <td>Commuter Rail</td>\n",
       "      <td>12,056</td>\n",
       "    </tr>\n",
       "    <tr>\n",
       "      <td>Light Rail</td>\n",
       "      <td>81,480</td>\n",
       "    </tr>\n",
       "    <tr>\n",
       "      <td>Local Bus</td>\n",
       "      <td>402,796</td>\n",
       "    </tr>\n",
       "    <tr>\n",
       "      <td>Passenger Ferry</td>\n",
       "      <td>73</td>\n",
       "    </tr>\n",
       "  </tbody>\n",
       "</table>"
      ],
      "text/plain": [
       "<IPython.core.display.HTML object>"
      ]
     },
     "execution_count": 5,
     "metadata": {},
     "output_type": "execute_result"
    }
   ],
   "source": [
    "df = pd.read_csv(os.path.join(relative_path,'transit','transit_line_results.csv'),index_col=0)\n",
    "# df['mode'] = df['mode'].map({'b': 'Local Bus','f': 'Ferry','r':'Light Rail','c':'Commuter Rail','p':'Ferry'})\n",
    "# df = df.groupby('mode').sum()[['boardings']]\n",
    "# df = df.reset_index()\n",
    "# df.rename(columns={'mode': 'Service Type', 'boardings': 'Boardings'}, inplace=True)\n",
    "# HTML(df.to_html(index=False))\n",
    "transit_type_map = {\n",
    "    1: 'Local Bus',\n",
    "    2: 'Express Bus',\n",
    "    3: 'Bus Rapid Transit',\n",
    "    4: 'Streetcar',\n",
    "    5: 'Commuter Rail',\n",
    "    6: 'Light Rail',\n",
    "    7: 'Auto Ferry',\n",
    "    8: 'Passenger Ferry'\n",
    "}\n",
    "df['transit_type'] = df['transit_type'].map(transit_type_map)\n",
    "df = df.groupby('transit_type').sum()[['boardings']]\n",
    "df = df.reset_index()\n",
    "df.rename(columns={'boardings':' Boardings','transit_type':'Transit Type'}, inplace=True)\n",
    "HTML(df.to_html(index=False))"
   ]
  },
  {
   "cell_type": "markdown",
   "id": "7ffc5030",
   "metadata": {},
   "source": [
    "# Trips by Transit Submode\n",
    "Total numbers of daily trips by transit submode (from Emme trip tables). Trips can include mulitple boardings."
   ]
  },
  {
   "cell_type": "code",
   "execution_count": 6,
   "id": "e11f38dc",
   "metadata": {
    "execution": {
     "iopub.execute_input": "2024-04-03T17:31:19.314373Z",
     "iopub.status.busy": "2024-04-03T17:31:19.314373Z",
     "iopub.status.idle": "2024-04-03T17:31:19.345617Z",
     "shell.execute_reply": "2024-04-03T17:31:19.345617Z"
    }
   },
   "outputs": [
    {
     "data": {
      "text/html": [
       "<div>\n",
       "<style scoped>\n",
       "    .dataframe tbody tr th:only-of-type {\n",
       "        vertical-align: middle;\n",
       "    }\n",
       "\n",
       "    .dataframe tbody tr th {\n",
       "        vertical-align: top;\n",
       "    }\n",
       "\n",
       "    .dataframe thead th {\n",
       "        text-align: right;\n",
       "    }\n",
       "</style>\n",
       "<table border=\"1\" class=\"dataframe\">\n",
       "  <thead>\n",
       "    <tr style=\"text-align: right;\">\n",
       "      <th></th>\n",
       "      <th>Total Trips</th>\n",
       "    </tr>\n",
       "  </thead>\n",
       "  <tbody>\n",
       "    <tr>\n",
       "      <th>Commuter Rail</th>\n",
       "      <td>13,335</td>\n",
       "    </tr>\n",
       "    <tr>\n",
       "      <th>Light Rail</th>\n",
       "      <td>82,578</td>\n",
       "    </tr>\n",
       "    <tr>\n",
       "      <th>Auto Ferry</th>\n",
       "      <td>22,725</td>\n",
       "    </tr>\n",
       "    <tr>\n",
       "      <th>Passenger Ferry</th>\n",
       "      <td>151</td>\n",
       "    </tr>\n",
       "    <tr>\n",
       "      <th>Bus</th>\n",
       "      <td>300,162</td>\n",
       "    </tr>\n",
       "    <tr>\n",
       "      <th>Total</th>\n",
       "      <td>418,951</td>\n",
       "    </tr>\n",
       "  </tbody>\n",
       "</table>\n",
       "</div>"
      ],
      "text/plain": [
       "                 Total Trips\n",
       "Commuter Rail         13,335\n",
       "Light Rail            82,578\n",
       "Auto Ferry            22,725\n",
       "Passenger Ferry          151\n",
       "Bus                  300,162\n",
       "Total                418,951"
      ]
     },
     "execution_count": 6,
     "metadata": {},
     "output_type": "execute_result"
    }
   ],
   "source": [
    "df = pd.read_csv(os.path.join(relative_path,'transit','total_transit_trips.csv'),index_col=0)\n",
    "df.rename(index={'commuter_rail': 'Commuter Rail',\n",
    "                'litrat': 'Light Rail',\n",
    "                'ferry': 'Auto Ferry',\n",
    "                'passenger_ferry': 'Passenger Ferry',\n",
    "                'trnst': 'Bus'}, inplace=True)\n",
    "df.columns = ['Total Trips']\n",
    "df.loc['Total'] = df.sum(axis=0)\n",
    "df"
   ]
  },
  {
   "cell_type": "markdown",
   "id": "3059ff28",
   "metadata": {},
   "source": [
    "# High Capacity Transit (HCT)"
   ]
  },
  {
   "cell_type": "code",
   "execution_count": 7,
   "id": "48eead86",
   "metadata": {
    "execution": {
     "iopub.execute_input": "2024-04-03T17:31:19.345617Z",
     "iopub.status.busy": "2024-04-03T17:31:19.345617Z",
     "iopub.status.idle": "2024-04-03T17:31:19.392482Z",
     "shell.execute_reply": "2024-04-03T17:31:19.392482Z"
    }
   },
   "outputs": [],
   "source": [
    "# List of Stations\n",
    "# Load transit stops file\n",
    "\n",
    "#\"The definition we have been using for the RTP is BRT, LRT, Commuter Rail, StreetCar and Ferry.\"\n",
    "df = pd.read_csv(r'../../../inputs/scenario/networks/transit_stops.csv')\n",
    "# Streetcar is coded as light rail\n",
    "df['hct'] = 0\n",
    "df.loc[df[['commuter_rail','light_rail','ferry','brt']].sum(axis=1) > 0,'hct'] = 1\n",
    "df_hct = df[df['hct'] == 1]"
   ]
  },
  {
   "cell_type": "code",
   "execution_count": 8,
   "id": "b87efef3",
   "metadata": {
    "execution": {
     "iopub.execute_input": "2024-04-03T17:31:19.392482Z",
     "iopub.status.busy": "2024-04-03T17:31:19.392482Z",
     "iopub.status.idle": "2024-04-03T17:31:19.423725Z",
     "shell.execute_reply": "2024-04-03T17:31:19.423725Z"
    }
   },
   "outputs": [],
   "source": [
    "# Map of Stations\n",
    "# Load as a geodataframe\n",
    "gdf_hct = gpd.GeoDataFrame(\n",
    "    df_hct, geometry=gpd.points_from_xy(df_hct.x, df_hct.y))\n",
    "\n",
    "crs = {'init' : 'EPSG:2285'}\n",
    "gdf_hct.crs = crs"
   ]
  },
  {
   "cell_type": "markdown",
   "id": "64ff9162",
   "metadata": {},
   "source": [
    "## HCT Station Location"
   ]
  },
  {
   "cell_type": "code",
   "execution_count": 9,
   "id": "0201c741",
   "metadata": {
    "execution": {
     "iopub.execute_input": "2024-04-03T17:31:19.423725Z",
     "iopub.status.busy": "2024-04-03T17:31:19.423725Z",
     "iopub.status.idle": "2024-04-03T17:31:19.439346Z",
     "shell.execute_reply": "2024-04-03T17:31:19.439346Z"
    }
   },
   "outputs": [],
   "source": [
    "# import contextily as ctx\n",
    "# ax = gdf_hct.plot(figsize=(20,20), alpha=0.5, edgecolor='k')\n",
    "# ctx.add_basemap(ax, source=ctx.providers.Stamen.TonerLite, crs=crs)\n",
    "# ax.set_axis_off()"
   ]
  },
  {
   "cell_type": "code",
   "execution_count": 10,
   "id": "de94afc3",
   "metadata": {
    "execution": {
     "iopub.execute_input": "2024-04-03T17:31:19.439346Z",
     "iopub.status.busy": "2024-04-03T17:31:19.439346Z",
     "iopub.status.idle": "2024-04-03T17:31:19.455057Z",
     "shell.execute_reply": "2024-04-03T17:31:19.455057Z"
    }
   },
   "outputs": [],
   "source": [
    "# Export stops as a shapefile\n",
    "# gdf_hct.to_file(os.path.join(relative_path,'hct_stops.shp'))"
   ]
  },
  {
   "cell_type": "markdown",
   "id": "85d8b8a9",
   "metadata": {},
   "source": [
    "## HCT Network"
   ]
  },
  {
   "cell_type": "code",
   "execution_count": 11,
   "id": "c4e367df",
   "metadata": {
    "execution": {
     "iopub.execute_input": "2024-04-03T17:31:19.455057Z",
     "iopub.status.busy": "2024-04-03T17:31:19.455057Z",
     "iopub.status.idle": "2024-04-03T17:31:19.626804Z",
     "shell.execute_reply": "2024-04-03T17:31:19.626804Z"
    }
   },
   "outputs": [],
   "source": [
    "df = pd.read_csv(os.path.join(relative_path,'transit','transit_line_results.csv'),index_col=0)\n",
    "df_hct = df[df['transit_type'].isin([2,3,4,5,6,7,8])]  # see transit_type_map for lookup\n",
    "df_segments = pd.read_csv(r'..\\..\\..\\inputs\\scenario\\networks\\shapefiles\\AM\\AM_transit_segments.csv')\n"
   ]
  },
  {
   "cell_type": "code",
   "execution_count": 12,
   "id": "1da38f9a",
   "metadata": {
    "execution": {
     "iopub.execute_input": "2024-04-03T17:31:19.626804Z",
     "iopub.status.busy": "2024-04-03T17:31:19.626804Z",
     "iopub.status.idle": "2024-04-03T17:31:25.883976Z",
     "shell.execute_reply": "2024-04-03T17:31:25.882972Z"
    },
    "scrolled": false
   },
   "outputs": [],
   "source": [
    "df_network = gpd.read_file(r'../../../inputs/scenario/networks/shapefiles/AM/AM_edges.shp')\n",
    "hct_segments = df_segments[df_segments['route_id'].isin(df_hct.index)]\n",
    "hct_network = df_network[df_network['id'].isin(hct_segments['ij'])]\n",
    "hct_network.crs = crs\n",
    "# ax = hct_network.plot(figsize=(10,20), alpha=0.5, edgecolor='b')\n",
    "# ctx.add_basemap(ax, source=ctx.providers.Stamen.TonerLite, crs=crs)\n",
    "# ax.set_axis_off()"
   ]
  },
  {
   "cell_type": "markdown",
   "id": "8756f786",
   "metadata": {},
   "source": [
    "## Households Living Near HCT Stations\n",
    "Within one quarter (1/4) or one half (1/2) miles of HCT station. Results are presented as total households and percent of households within a given geography. "
   ]
  },
  {
   "cell_type": "code",
   "execution_count": 13,
   "id": "8680d9ea",
   "metadata": {
    "execution": {
     "iopub.execute_input": "2024-04-03T17:31:25.891024Z",
     "iopub.status.busy": "2024-04-03T17:31:25.890026Z",
     "iopub.status.idle": "2024-04-03T17:32:00.810369Z",
     "shell.execute_reply": "2024-04-03T17:32:00.809371Z"
    }
   },
   "outputs": [],
   "source": [
    "df_lu = pd.read_csv(r'..\\..\\..\\inputs\\scenario\\landuse\\parcels_urbansim.txt',\n",
    "                   delim_whitespace=True)\n",
    "\n",
    "# Load as a geodataframe\n",
    "gdf_lu = gpd.GeoDataFrame(\n",
    "    df_lu, geometry=gpd.points_from_xy(df_lu.XCOORD_P, df_lu.YCOORD_P))\n",
    "\n",
    "crs = {'init' : 'EPSG:2285'}\n",
    "gdf_lu.crs = crs\n",
    "\n",
    "parcel_geog = pd.read_sql_table('parcel_'+config['base_year']+'_geography', 'sqlite:///../../../inputs/db/soundcast_inputs.db')"
   ]
  },
  {
   "cell_type": "code",
   "execution_count": 14,
   "id": "b620b7b9",
   "metadata": {
    "execution": {
     "iopub.execute_input": "2024-04-03T17:32:00.817350Z",
     "iopub.status.busy": "2024-04-03T17:32:00.816354Z",
     "iopub.status.idle": "2024-04-03T17:32:03.876307Z",
     "shell.execute_reply": "2024-04-03T17:32:03.875706Z"
    }
   },
   "outputs": [],
   "source": [
    "df_lu = df_lu.merge(parcel_geog,left_on='PARCELID', right_on='ParcelID')\n",
    "# Add a field that defines whether a parcel is inside (1) or outside (0) any RGC\n",
    "df_lu['RGC_binary'] = 0\n",
    "df_lu.loc[df_lu['GrowthCenterName'] != 'Not in RGC', 'RGC_binary'] = 1"
   ]
  },
  {
   "cell_type": "code",
   "execution_count": 15,
   "id": "b740fe16",
   "metadata": {
    "execution": {
     "iopub.execute_input": "2024-04-03T17:32:03.883295Z",
     "iopub.status.busy": "2024-04-03T17:32:03.882364Z",
     "iopub.status.idle": "2024-04-03T17:32:03.892271Z",
     "shell.execute_reply": "2024-04-03T17:32:03.891273Z"
    }
   },
   "outputs": [],
   "source": [
    "def calculate_buffer(gdf_lu, gdf_network, distance):\n",
    "    \n",
    "    # Buffer the HCT station gdf\n",
    "    gdf_network['geometry'] = gdf_network.buffer(distance)\n",
    "\n",
    "    gdf_intersect = gpd.overlay(gdf_network, gdf_lu, how=\"intersection\", keep_geom_type=False)\n",
    "    df = df_lu[df_lu['PARCELID'].isin(gdf_intersect['PARCELID'].unique())]\n",
    "\n",
    "#     df = df.merge(parcel_geog,left_on='PARCELID', right_on='ParcelID')\n",
    "    \n",
    "    return df"
   ]
  },
  {
   "cell_type": "code",
   "execution_count": 16,
   "id": "bf02cf20",
   "metadata": {
    "execution": {
     "iopub.execute_input": "2024-04-03T17:32:03.898256Z",
     "iopub.status.busy": "2024-04-03T17:32:03.897258Z",
     "iopub.status.idle": "2024-04-03T17:32:03.908183Z",
     "shell.execute_reply": "2024-04-03T17:32:03.907184Z"
    }
   },
   "outputs": [],
   "source": [
    "def aggregate_parcels(df, col_dict, sum_field):\n",
    "    results_df = pd.DataFrame()\n",
    "    for col, name in col_dict.items():\n",
    "        _df = df.groupby(col).sum()[[sum_field]]\n",
    "        _df['group'] = name\n",
    "        results_df = results_df.append(_df)\n",
    "    results_df = results_df.reset_index()\n",
    "    \n",
    "    return results_df"
   ]
  },
  {
   "cell_type": "code",
   "execution_count": 17,
   "id": "9373fb10",
   "metadata": {
    "execution": {
     "iopub.execute_input": "2024-04-03T17:32:03.913233Z",
     "iopub.status.busy": "2024-04-03T17:32:03.913233Z",
     "iopub.status.idle": "2024-04-03T17:32:09.236744Z",
     "shell.execute_reply": "2024-04-03T17:32:09.236744Z"
    }
   },
   "outputs": [],
   "source": [
    "df_025 = calculate_buffer(gdf_lu, gdf_hct, distance=5280.0/4)"
   ]
  },
  {
   "cell_type": "code",
   "execution_count": 18,
   "id": "1c0135ac",
   "metadata": {
    "execution": {
     "iopub.execute_input": "2024-04-03T17:32:09.236744Z",
     "iopub.status.busy": "2024-04-03T17:32:09.236744Z",
     "iopub.status.idle": "2024-04-03T17:32:37.190161Z",
     "shell.execute_reply": "2024-04-03T17:32:37.190161Z"
    }
   },
   "outputs": [],
   "source": [
    "df_050 = calculate_buffer(gdf_lu, gdf_hct, distance=5280.0/2)"
   ]
  },
  {
   "cell_type": "code",
   "execution_count": 19,
   "id": "416fb4bb",
   "metadata": {
    "execution": {
     "iopub.execute_input": "2024-04-03T17:32:37.190161Z",
     "iopub.status.busy": "2024-04-03T17:32:37.190161Z",
     "iopub.status.idle": "2024-04-03T17:32:40.634651Z",
     "shell.execute_reply": "2024-04-03T17:32:40.633582Z"
    }
   },
   "outputs": [],
   "source": [
    "pd.options.display.float_format = '{:0,.0f}'.format\n",
    "col_dict = {'racial_geog_vs_reg_total': 'Race',\n",
    "                      'poverty_geog_vs_reg_total': 'Poverty',\n",
    "                        'english_geog_vs_reg_total': 'English',\n",
    "                      'elderly_geog_vs_reg_total': 'Elderly',\n",
    "                      'youth_geog_vs_reg_total': 'Youth',\n",
    "            'disability_geog_vs_reg_total': 'Disability',\n",
    "            'racial_geog_vs_50_percent': 'Race 50%',\n",
    "            'poverty_geog_vs_50_percent': 'Poverty 50%',\n",
    "           'rg_proposed': 'Regional Geography',\n",
    "            'CountyName': 'County',\n",
    "            'GrowthCenterName': 'Regional Growth Center',\n",
    "            'RGC_binary': 'RGC Binary',\n",
    "            'Region': 'Region'\n",
    "           }\n",
    "\n",
    "hct_hh_df = pd.DataFrame()\n",
    "df_025['Region'] = 1\n",
    "df = aggregate_parcels(df_025, col_dict, 'HH_P')\n",
    "df['distance'] = 0.25\n",
    "hct_hh_df = hct_hh_df.append(df)\n",
    "df_050['Region'] = 1\n",
    "df = aggregate_parcels(df_050, col_dict, 'HH_P')\n",
    "df['distance'] = 0.50\n",
    "hct_hh_df = hct_hh_df.append(df)"
   ]
  },
  {
   "cell_type": "code",
   "execution_count": 20,
   "id": "8860448b",
   "metadata": {
    "execution": {
     "iopub.execute_input": "2024-04-03T17:32:40.639574Z",
     "iopub.status.busy": "2024-04-03T17:32:40.639574Z",
     "iopub.status.idle": "2024-04-03T17:32:40.649643Z",
     "shell.execute_reply": "2024-04-03T17:32:40.648641Z"
    }
   },
   "outputs": [],
   "source": [
    "pd.options.display.float_format = '{:0,.0f}'.format"
   ]
  },
  {
   "cell_type": "markdown",
   "id": "61e2b7a0",
   "metadata": {},
   "source": [
    "### Region\n",
    "Total households within given distance of HCT stations, regionwide"
   ]
  },
  {
   "cell_type": "code",
   "execution_count": 21,
   "id": "31dcb38e",
   "metadata": {
    "execution": {
     "iopub.execute_input": "2024-04-03T17:32:40.653634Z",
     "iopub.status.busy": "2024-04-03T17:32:40.653634Z",
     "iopub.status.idle": "2024-04-03T17:32:40.665034Z",
     "shell.execute_reply": "2024-04-03T17:32:40.663969Z"
    }
   },
   "outputs": [
    {
     "data": {
      "text/plain": [
       "array(['Race', 'Poverty', 'English', 'Elderly', 'Youth', 'Disability',\n",
       "       'Race 50%', 'Poverty 50%', 'Regional Geography', 'County',\n",
       "       'Regional Growth Center', 'RGC Binary', 'Region'], dtype=object)"
      ]
     },
     "execution_count": 21,
     "metadata": {},
     "output_type": "execute_result"
    }
   ],
   "source": [
    "hct_hh_df['group'].unique()"
   ]
  },
  {
   "cell_type": "code",
   "execution_count": 22,
   "id": "263ce44c",
   "metadata": {
    "execution": {
     "iopub.execute_input": "2024-04-03T17:32:40.669956Z",
     "iopub.status.busy": "2024-04-03T17:32:40.669956Z",
     "iopub.status.idle": "2024-04-03T17:32:40.712054Z",
     "shell.execute_reply": "2024-04-03T17:32:40.711050Z"
    }
   },
   "outputs": [
    {
     "data": {
      "text/html": [
       "<table border=\"1\" class=\"dataframe\">\n",
       "  <thead>\n",
       "    <tr style=\"text-align: right;\">\n",
       "      <th>Region</th>\n",
       "      <th>1/4 Mile</th>\n",
       "      <th>1/2 Mile</th>\n",
       "      <th>% of Households (1/4 Mile)</th>\n",
       "      <th>% of Households (1/2 Mile)</th>\n",
       "    </tr>\n",
       "  </thead>\n",
       "  <tbody>\n",
       "    <tr>\n",
       "      <td>1</td>\n",
       "      <td>185,879</td>\n",
       "      <td>511,061</td>\n",
       "      <td>10.7%</td>\n",
       "      <td>29.4%</td>\n",
       "    </tr>\n",
       "  </tbody>\n",
       "</table>"
      ],
      "text/plain": [
       "<IPython.core.display.HTML object>"
      ]
     },
     "metadata": {},
     "output_type": "display_data"
    }
   ],
   "source": [
    "\n",
    "df = hct_hh_df[hct_hh_df['group'] == 'Region']\n",
    "df.rename(columns={'HH_P': 'Total'}, inplace=True)\n",
    "df = df.pivot_table(index='index', columns='distance', values='Total', aggfunc='sum')\n",
    "df[0.25] = df[0.25].astype('float32')\n",
    "df[0.5] = df[0.5].astype('float32')\n",
    "df.index.name = 'Region'\n",
    "df = df.reset_index()\n",
    "df = df.rename_axis(None, axis=1)\n",
    "df.rename(columns={0.25: '1/4 Mile', 0.5: '1/2 Mile'}, inplace=True)\n",
    "\n",
    "df['% of Households (1/4 Mile)'] = df['1/4 Mile']/df_lu['HH_P'].sum()\n",
    "df['% of Households (1/2 Mile)'] = df['1/2 Mile']/df_lu['HH_P'].sum()\n",
    "\n",
    "output = df.to_html(formatters={\n",
    "    '% of Households (1/4 Mile)': '{:0,.1%}'.format,\n",
    "    '% of Households (1/2 Mile)': '{:0,.1%}'.format,\n",
    "}, index=False)\n",
    "display(HTML(output))"
   ]
  },
  {
   "cell_type": "markdown",
   "id": "f35cd101",
   "metadata": {},
   "source": [
    "### Counties\n",
    "Total households within given distance of HCT stations by county"
   ]
  },
  {
   "cell_type": "code",
   "execution_count": 23,
   "id": "cc724b20",
   "metadata": {
    "execution": {
     "iopub.execute_input": "2024-04-03T17:32:40.717104Z",
     "iopub.status.busy": "2024-04-03T17:32:40.717104Z",
     "iopub.status.idle": "2024-04-03T17:32:42.048791Z",
     "shell.execute_reply": "2024-04-03T17:32:42.048791Z"
    }
   },
   "outputs": [
    {
     "data": {
      "text/html": [
       "<table border=\"1\" class=\"dataframe\">\n",
       "  <thead>\n",
       "    <tr style=\"text-align: right;\">\n",
       "      <th>County</th>\n",
       "      <th>1/4 Mile</th>\n",
       "      <th>1/2 Mile</th>\n",
       "      <th>% of Households (1/4 Mile)</th>\n",
       "      <th>% of Households (1/2 Mile)</th>\n",
       "    </tr>\n",
       "  </thead>\n",
       "  <tbody>\n",
       "    <tr>\n",
       "      <td>King</td>\n",
       "      <td>164,703</td>\n",
       "      <td>397,600</td>\n",
       "      <td>17.2%</td>\n",
       "      <td>41.5%</td>\n",
       "    </tr>\n",
       "    <tr>\n",
       "      <td>Kitsap</td>\n",
       "      <td>202</td>\n",
       "      <td>4,855</td>\n",
       "      <td>0.2%</td>\n",
       "      <td>4.5%</td>\n",
       "    </tr>\n",
       "    <tr>\n",
       "      <td>Pierce</td>\n",
       "      <td>3,047</td>\n",
       "      <td>20,982</td>\n",
       "      <td>0.9%</td>\n",
       "      <td>6.0%</td>\n",
       "    </tr>\n",
       "    <tr>\n",
       "      <td>Snohomish</td>\n",
       "      <td>17,927</td>\n",
       "      <td>87,624</td>\n",
       "      <td>5.6%</td>\n",
       "      <td>27.4%</td>\n",
       "    </tr>\n",
       "  </tbody>\n",
       "</table>"
      ],
      "text/plain": [
       "<IPython.core.display.HTML object>"
      ]
     },
     "metadata": {},
     "output_type": "display_data"
    }
   ],
   "source": [
    "pd.options.display.float_format = '{:0,.0f}'.format\n",
    "df = hct_hh_df[hct_hh_df['group'] == 'County']\n",
    "df.rename(columns={'HH_P': 'Total'}, inplace=True)\n",
    "df = df.pivot_table(index='index', columns='distance', values='Total', aggfunc='sum')\n",
    "df[0.25] = df[0.25].astype('float32')\n",
    "df[0.5] = df[0.5].astype('float32')\n",
    "df.index.name = 'County'\n",
    "df = df.reset_index()\n",
    "df = df.rename_axis(None, axis=1)\n",
    "df.rename(columns={0.25: '1/4 Mile', 0.5: '1/2 Mile'}, inplace=True)\n",
    "\n",
    "_df = df.merge(df_lu.groupby('CountyName').sum()[['HH_P']].reset_index(),left_on='County', right_on='CountyName')\n",
    "_df['% of Households (1/4 Mile)'] = _df['1/4 Mile']/_df['HH_P']\n",
    "_df['% of Households (1/2 Mile)'] = _df['1/2 Mile']/_df['HH_P']\n",
    "\n",
    "df = df.merge(_df[['County', '% of Households (1/4 Mile)', '% of Households (1/2 Mile)']], \n",
    "              on='County')\n",
    "\n",
    "output = df.to_html(formatters={\n",
    "    '% of Households (1/4 Mile)': '{:0,.1%}'.format,\n",
    "    '% of Households (1/2 Mile)': '{:0,.1%}'.format,\n",
    "}, index=False)\n",
    "display(HTML(output))"
   ]
  },
  {
   "cell_type": "markdown",
   "id": "bc5a1049",
   "metadata": {},
   "source": [
    "### Regional Growth Centers"
   ]
  },
  {
   "cell_type": "code",
   "execution_count": 24,
   "id": "50947563",
   "metadata": {
    "execution": {
     "iopub.execute_input": "2024-04-03T17:32:42.048791Z",
     "iopub.status.busy": "2024-04-03T17:32:42.048791Z",
     "iopub.status.idle": "2024-04-03T17:32:43.145199Z",
     "shell.execute_reply": "2024-04-03T17:32:43.144193Z"
    }
   },
   "outputs": [
    {
     "data": {
      "text/html": [
       "<table border=\"1\" class=\"dataframe\">\n",
       "  <thead>\n",
       "    <tr style=\"text-align: right;\">\n",
       "      <th>RGC Designation</th>\n",
       "      <th>1/4 Mile</th>\n",
       "      <th>1/2 Mile</th>\n",
       "      <th>% of Households (1/4 Mile)</th>\n",
       "      <th>% of Households (1/2 Mile)</th>\n",
       "    </tr>\n",
       "  </thead>\n",
       "  <tbody>\n",
       "    <tr>\n",
       "      <td>Outside RGC</td>\n",
       "      <td>110,771</td>\n",
       "      <td>365,305</td>\n",
       "      <td>7.1%</td>\n",
       "      <td>23.3%</td>\n",
       "    </tr>\n",
       "    <tr>\n",
       "      <td>Inside RGC</td>\n",
       "      <td>75,108</td>\n",
       "      <td>145,756</td>\n",
       "      <td>44.4%</td>\n",
       "      <td>86.2%</td>\n",
       "    </tr>\n",
       "  </tbody>\n",
       "</table>"
      ],
      "text/plain": [
       "<IPython.core.display.HTML object>"
      ]
     },
     "metadata": {},
     "output_type": "display_data"
    }
   ],
   "source": [
    "pd.options.display.float_format = '{:0,.0f}'.format\n",
    "df = hct_hh_df[hct_hh_df['group'] == 'RGC Binary']\n",
    "df.rename(columns={'HH_P': 'Total'}, inplace=True)\n",
    "df = df.pivot_table(index='index', columns='distance', values='Total', aggfunc='sum')\n",
    "df = df.fillna(0)\n",
    "df[0.25] = df[0.25].astype('float32')\n",
    "df[0.5] = df[0.5].astype('float32')\n",
    "df.index.name = 'RGC Binary'\n",
    "df = df.reset_index()\n",
    "df = df.rename_axis(None, axis=1)\n",
    "df.rename(columns={0.25: '1/4 Mile', 0.5: '1/2 Mile'}, inplace=True)\n",
    "\n",
    "\n",
    "_df = df.merge(df_lu.groupby('RGC_binary').sum()[['HH_P']].reset_index(),left_on='RGC Binary', \n",
    "               right_on='RGC_binary')\n",
    "_df['% of Households (1/4 Mile)'] = _df['1/4 Mile']/_df['HH_P']\n",
    "_df['% of Households (1/2 Mile)'] = _df['1/2 Mile']/_df['HH_P']\n",
    "\n",
    "df = df.merge(_df[['RGC Binary', '% of Households (1/4 Mile)', '% of Households (1/2 Mile)']], \n",
    "              on='RGC Binary')\n",
    "df['RGC Designation'] = df['RGC Binary'].map({0: 'Outside RGC', 1: 'Inside RGC'})\n",
    "df = df[['RGC Designation','1/4 Mile','1/2 Mile','% of Households (1/4 Mile)', '% of Households (1/2 Mile)']]\n",
    "output = df.to_html(formatters={\n",
    "    '% of Households (1/4 Mile)': '{:0,.1%}'.format,\n",
    "    '% of Households (1/2 Mile)': '{:0,.1%}'.format,\n",
    "}, index=False)\n",
    "display(HTML(output))"
   ]
  },
  {
   "cell_type": "code",
   "execution_count": 25,
   "id": "8b41a497",
   "metadata": {
    "execution": {
     "iopub.execute_input": "2024-04-03T17:32:43.151245Z",
     "iopub.status.busy": "2024-04-03T17:32:43.150183Z",
     "iopub.status.idle": "2024-04-03T17:32:44.430765Z",
     "shell.execute_reply": "2024-04-03T17:32:44.430765Z"
    }
   },
   "outputs": [
    {
     "data": {
      "text/html": [
       "<table border=\"1\" class=\"dataframe\">\n",
       "  <thead>\n",
       "    <tr style=\"text-align: right;\">\n",
       "      <th>Regional Growth Center</th>\n",
       "      <th>1/4 Mile</th>\n",
       "      <th>1/2 Mile</th>\n",
       "      <th>% of Households (1/4 Mile)</th>\n",
       "      <th>% of Households (1/2 Mile)</th>\n",
       "    </tr>\n",
       "  </thead>\n",
       "  <tbody>\n",
       "    <tr>\n",
       "      <td>Auburn</td>\n",
       "      <td>664</td>\n",
       "      <td>967</td>\n",
       "      <td>68.7%</td>\n",
       "      <td>100.0%</td>\n",
       "    </tr>\n",
       "    <tr>\n",
       "      <td>Ballard-Interbay</td>\n",
       "      <td>59</td>\n",
       "      <td>114</td>\n",
       "      <td>51.8%</td>\n",
       "      <td>100.0%</td>\n",
       "    </tr>\n",
       "    <tr>\n",
       "      <td>Bellevue</td>\n",
       "      <td>3,049</td>\n",
       "      <td>9,828</td>\n",
       "      <td>31.0%</td>\n",
       "      <td>100.0%</td>\n",
       "    </tr>\n",
       "    <tr>\n",
       "      <td>Bothell Canyon Park</td>\n",
       "      <td>120</td>\n",
       "      <td>358</td>\n",
       "      <td>33.5%</td>\n",
       "      <td>100.0%</td>\n",
       "    </tr>\n",
       "    <tr>\n",
       "      <td>Bremerton</td>\n",
       "      <td>117</td>\n",
       "      <td>1,549</td>\n",
       "      <td>7.2%</td>\n",
       "      <td>95.7%</td>\n",
       "    </tr>\n",
       "    <tr>\n",
       "      <td>Burien</td>\n",
       "      <td>1,737</td>\n",
       "      <td>1,916</td>\n",
       "      <td>90.7%</td>\n",
       "      <td>100.0%</td>\n",
       "    </tr>\n",
       "    <tr>\n",
       "      <td>Duwamish</td>\n",
       "      <td>1</td>\n",
       "      <td>22</td>\n",
       "      <td>0.4%</td>\n",
       "      <td>9.6%</td>\n",
       "    </tr>\n",
       "    <tr>\n",
       "      <td>Everett</td>\n",
       "      <td>1,563</td>\n",
       "      <td>3,913</td>\n",
       "      <td>39.9%</td>\n",
       "      <td>100.0%</td>\n",
       "    </tr>\n",
       "    <tr>\n",
       "      <td>Federal Way</td>\n",
       "      <td>232</td>\n",
       "      <td>232</td>\n",
       "      <td>100.0%</td>\n",
       "      <td>100.0%</td>\n",
       "    </tr>\n",
       "    <tr>\n",
       "      <td>Kent</td>\n",
       "      <td>332</td>\n",
       "      <td>973</td>\n",
       "      <td>34.1%</td>\n",
       "      <td>100.0%</td>\n",
       "    </tr>\n",
       "    <tr>\n",
       "      <td>Kent MIC</td>\n",
       "      <td>0</td>\n",
       "      <td>0</td>\n",
       "      <td>0.0%</td>\n",
       "      <td>0.0%</td>\n",
       "    </tr>\n",
       "    <tr>\n",
       "      <td>Lynnwood</td>\n",
       "      <td>0</td>\n",
       "      <td>356</td>\n",
       "      <td>0.0%</td>\n",
       "      <td>15.8%</td>\n",
       "    </tr>\n",
       "    <tr>\n",
       "      <td>Not in RGC</td>\n",
       "      <td>110,771</td>\n",
       "      <td>365,305</td>\n",
       "      <td>7.1%</td>\n",
       "      <td>23.3%</td>\n",
       "    </tr>\n",
       "    <tr>\n",
       "      <td>Paine Field / Boeing Everett</td>\n",
       "      <td>15</td>\n",
       "      <td>656</td>\n",
       "      <td>2.2%</td>\n",
       "      <td>96.5%</td>\n",
       "    </tr>\n",
       "    <tr>\n",
       "      <td>Port of Tacoma</td>\n",
       "      <td>0</td>\n",
       "      <td>2</td>\n",
       "      <td>0.0%</td>\n",
       "      <td>100.0%</td>\n",
       "    </tr>\n",
       "    <tr>\n",
       "      <td>Puyallup Downtown</td>\n",
       "      <td>240</td>\n",
       "      <td>543</td>\n",
       "      <td>44.2%</td>\n",
       "      <td>100.0%</td>\n",
       "    </tr>\n",
       "    <tr>\n",
       "      <td>Redmond Downtown</td>\n",
       "      <td>2,876</td>\n",
       "      <td>5,255</td>\n",
       "      <td>54.7%</td>\n",
       "      <td>100.0%</td>\n",
       "    </tr>\n",
       "    <tr>\n",
       "      <td>Redmond-Overlake</td>\n",
       "      <td>2,372</td>\n",
       "      <td>2,644</td>\n",
       "      <td>89.7%</td>\n",
       "      <td>100.0%</td>\n",
       "    </tr>\n",
       "    <tr>\n",
       "      <td>Renton</td>\n",
       "      <td>2,841</td>\n",
       "      <td>3,154</td>\n",
       "      <td>90.1%</td>\n",
       "      <td>100.0%</td>\n",
       "    </tr>\n",
       "    <tr>\n",
       "      <td>SeaTac</td>\n",
       "      <td>2,441</td>\n",
       "      <td>4,725</td>\n",
       "      <td>51.7%</td>\n",
       "      <td>100.0%</td>\n",
       "    </tr>\n",
       "    <tr>\n",
       "      <td>Seattle Downtown</td>\n",
       "      <td>27,080</td>\n",
       "      <td>29,882</td>\n",
       "      <td>90.6%</td>\n",
       "      <td>100.0%</td>\n",
       "    </tr>\n",
       "    <tr>\n",
       "      <td>Seattle First Hill/Capitol Hill</td>\n",
       "      <td>6,163</td>\n",
       "      <td>35,568</td>\n",
       "      <td>17.3%</td>\n",
       "      <td>100.0%</td>\n",
       "    </tr>\n",
       "    <tr>\n",
       "      <td>Seattle Northgate</td>\n",
       "      <td>740</td>\n",
       "      <td>4,787</td>\n",
       "      <td>15.4%</td>\n",
       "      <td>99.6%</td>\n",
       "    </tr>\n",
       "    <tr>\n",
       "      <td>Seattle South Lake Union</td>\n",
       "      <td>8,657</td>\n",
       "      <td>9,986</td>\n",
       "      <td>86.7%</td>\n",
       "      <td>100.0%</td>\n",
       "    </tr>\n",
       "    <tr>\n",
       "      <td>Seattle University Community</td>\n",
       "      <td>4,359</td>\n",
       "      <td>12,036</td>\n",
       "      <td>34.3%</td>\n",
       "      <td>94.6%</td>\n",
       "    </tr>\n",
       "    <tr>\n",
       "      <td>Seattle Uptown</td>\n",
       "      <td>6,910</td>\n",
       "      <td>7,986</td>\n",
       "      <td>86.5%</td>\n",
       "      <td>100.0%</td>\n",
       "    </tr>\n",
       "    <tr>\n",
       "      <td>Sumner Pacific</td>\n",
       "      <td>0</td>\n",
       "      <td>14</td>\n",
       "      <td>0.0%</td>\n",
       "      <td>63.6%</td>\n",
       "    </tr>\n",
       "    <tr>\n",
       "      <td>Tacoma Downtown</td>\n",
       "      <td>2,195</td>\n",
       "      <td>7,834</td>\n",
       "      <td>23.4%</td>\n",
       "      <td>83.5%</td>\n",
       "    </tr>\n",
       "    <tr>\n",
       "      <td>Tacoma Mall</td>\n",
       "      <td>0</td>\n",
       "      <td>80</td>\n",
       "      <td>0.0%</td>\n",
       "      <td>2.7%</td>\n",
       "    </tr>\n",
       "    <tr>\n",
       "      <td>Tukwila</td>\n",
       "      <td>345</td>\n",
       "      <td>376</td>\n",
       "      <td>91.8%</td>\n",
       "      <td>100.0%</td>\n",
       "    </tr>\n",
       "  </tbody>\n",
       "</table>"
      ],
      "text/plain": [
       "<IPython.core.display.HTML object>"
      ]
     },
     "metadata": {},
     "output_type": "display_data"
    }
   ],
   "source": [
    "pd.options.display.float_format = '{:0,.0f}'.format\n",
    "df = hct_hh_df[hct_hh_df['group'] == 'Regional Growth Center']\n",
    "df.rename(columns={'HH_P': 'Total'}, inplace=True)\n",
    "df = df.pivot_table(index='index', columns='distance', values='Total', aggfunc='sum')\n",
    "df = df.fillna(0)\n",
    "df[0.25] = df[0.25].astype('float32')\n",
    "df[0.5] = df[0.5].astype('float32')\n",
    "df.index.name = 'Regional Growth Center'\n",
    "df = df.reset_index()\n",
    "df = df.rename_axis(None, axis=1)\n",
    "df.rename(columns={0.25: '1/4 Mile', 0.5: '1/2 Mile'}, inplace=True)\n",
    "\n",
    "# Calcualte the percent of households in this geography within 1/4 and 1/2 mile\n",
    "\n",
    "_df = df.merge(df_lu.groupby('GrowthCenterName').sum()[['HH_P']].reset_index(),left_on='Regional Growth Center', \n",
    "               right_on='GrowthCenterName')\n",
    "_df['% of Households (1/4 Mile)'] = _df['1/4 Mile']/_df['HH_P']\n",
    "_df['% of Households (1/2 Mile)'] = _df['1/2 Mile']/_df['HH_P']\n",
    "\n",
    "df = df.merge(_df[['Regional Growth Center', '% of Households (1/4 Mile)', '% of Households (1/2 Mile)']], \n",
    "              on='Regional Growth Center')\n",
    "\n",
    "output = df.to_html(formatters={\n",
    "    '% of Households (1/4 Mile)': '{:0,.1%}'.format,\n",
    "    '% of Households (1/2 Mile)': '{:0,.1%}'.format,\n",
    "}, index=False)\n",
    "display(HTML(output))"
   ]
  },
  {
   "cell_type": "markdown",
   "id": "e8bf2003",
   "metadata": {},
   "source": [
    "### Regional Geographies"
   ]
  },
  {
   "cell_type": "code",
   "execution_count": 26,
   "id": "873dba7d",
   "metadata": {
    "execution": {
     "iopub.execute_input": "2024-04-03T17:32:44.436749Z",
     "iopub.status.busy": "2024-04-03T17:32:44.436749Z",
     "iopub.status.idle": "2024-04-03T17:32:45.720338Z",
     "shell.execute_reply": "2024-04-03T17:32:45.719334Z"
    }
   },
   "outputs": [
    {
     "data": {
      "text/html": [
       "<table border=\"1\" class=\"dataframe\">\n",
       "  <thead>\n",
       "    <tr style=\"text-align: right;\">\n",
       "      <th>Regional Geography</th>\n",
       "      <th>1/4 Mile</th>\n",
       "      <th>1/2 Mile</th>\n",
       "      <th>% of Households (1/4 Mile)</th>\n",
       "      <th>% of Households (1/2 Mile)</th>\n",
       "    </tr>\n",
       "  </thead>\n",
       "  <tbody>\n",
       "    <tr>\n",
       "      <td>CitiesTowns</td>\n",
       "      <td>0</td>\n",
       "      <td>521</td>\n",
       "      <td>0.0%</td>\n",
       "      <td>0.4%</td>\n",
       "    </tr>\n",
       "    <tr>\n",
       "      <td>Core</td>\n",
       "      <td>31,937</td>\n",
       "      <td>93,440</td>\n",
       "      <td>8.3%</td>\n",
       "      <td>24.2%</td>\n",
       "    </tr>\n",
       "    <tr>\n",
       "      <td>HCT</td>\n",
       "      <td>19,482</td>\n",
       "      <td>72,189</td>\n",
       "      <td>5.4%</td>\n",
       "      <td>20.0%</td>\n",
       "    </tr>\n",
       "    <tr>\n",
       "      <td>Metro</td>\n",
       "      <td>133,470</td>\n",
       "      <td>340,663</td>\n",
       "      <td>22.6%</td>\n",
       "      <td>57.7%</td>\n",
       "    </tr>\n",
       "    <tr>\n",
       "      <td>Rural</td>\n",
       "      <td>89</td>\n",
       "      <td>660</td>\n",
       "      <td>0.0%</td>\n",
       "      <td>0.3%</td>\n",
       "    </tr>\n",
       "    <tr>\n",
       "      <td>UU</td>\n",
       "      <td>901</td>\n",
       "      <td>3,588</td>\n",
       "      <td>1.4%</td>\n",
       "      <td>5.5%</td>\n",
       "    </tr>\n",
       "  </tbody>\n",
       "</table>"
      ],
      "text/plain": [
       "<IPython.core.display.HTML object>"
      ]
     },
     "metadata": {},
     "output_type": "display_data"
    }
   ],
   "source": [
    "pd.options.display.float_format = '{:0,.0f}'.format\n",
    "df = hct_hh_df[hct_hh_df['group'] == 'Regional Geography']\n",
    "df.rename(columns={'HH_P': 'Total'}, inplace=True)\n",
    "df = df.pivot_table(index='index', columns='distance', values='Total', aggfunc='sum')\n",
    "df = df.fillna(0)\n",
    "df[0.25] = df[0.25].astype('float32')\n",
    "df[0.5] = df[0.5].astype('float32')\n",
    "df.index.name = 'Regional Geography'\n",
    "df = df.reset_index()\n",
    "df = df.rename_axis(None, axis=1)\n",
    "df.rename(columns={0.25: '1/4 Mile', 0.5: '1/2 Mile'}, inplace=True)\n",
    "# HTML(df.to_html(index=False))\n",
    "\n",
    "_df = df.merge(df_lu.groupby('rg_proposed').sum()[['HH_P']].reset_index(),left_on='Regional Geography', \n",
    "               right_on='rg_proposed')\n",
    "_df['% of Households (1/4 Mile)'] = _df['1/4 Mile']/_df['HH_P']\n",
    "_df['% of Households (1/2 Mile)'] = _df['1/2 Mile']/_df['HH_P']\n",
    "\n",
    "df = df.merge(_df[['Regional Geography', '% of Households (1/4 Mile)', '% of Households (1/2 Mile)']], \n",
    "              on='Regional Geography')\n",
    "\n",
    "output = df.to_html(formatters={\n",
    "    '% of Households (1/4 Mile)': '{:0,.1%}'.format,\n",
    "    '% of Households (1/2 Mile)': '{:0,.1%}'.format,\n",
    "}, index=False)\n",
    "display(HTML(output))"
   ]
  },
  {
   "cell_type": "markdown",
   "id": "f72e4854",
   "metadata": {},
   "source": [
    "### Equity Geographies"
   ]
  },
  {
   "cell_type": "code",
   "execution_count": 27,
   "id": "8da3c6d4",
   "metadata": {
    "execution": {
     "iopub.execute_input": "2024-04-03T17:32:45.726321Z",
     "iopub.status.busy": "2024-04-03T17:32:45.725324Z",
     "iopub.status.idle": "2024-04-03T17:32:55.103629Z",
     "shell.execute_reply": "2024-04-03T17:32:55.102626Z"
    }
   },
   "outputs": [
    {
     "data": {
      "text/html": [
       "<table border=\"1\" class=\"dataframe\">\n",
       "  <thead>\n",
       "    <tr style=\"text-align: right;\">\n",
       "      <th>Equity Geography</th>\n",
       "      <th>1/4 Mile</th>\n",
       "      <th>1/2 Mile</th>\n",
       "      <th>% of Households (1/4 Mile)</th>\n",
       "      <th>% of Households (1/2 Mile)</th>\n",
       "    </tr>\n",
       "  </thead>\n",
       "  <tbody>\n",
       "    <tr>\n",
       "      <td>Disability</td>\n",
       "      <td>76,651</td>\n",
       "      <td>213,856</td>\n",
       "      <td>9.5%</td>\n",
       "      <td>26.6%</td>\n",
       "    </tr>\n",
       "    <tr>\n",
       "      <td>Elderly</td>\n",
       "      <td>58,370</td>\n",
       "      <td>181,718</td>\n",
       "      <td>7.3%</td>\n",
       "      <td>22.6%</td>\n",
       "    </tr>\n",
       "    <tr>\n",
       "      <td>English</td>\n",
       "      <td>85,999</td>\n",
       "      <td>250,643</td>\n",
       "      <td>13.3%</td>\n",
       "      <td>38.7%</td>\n",
       "    </tr>\n",
       "    <tr>\n",
       "      <td>Poverty</td>\n",
       "      <td>89,589</td>\n",
       "      <td>259,011</td>\n",
       "      <td>12.2%</td>\n",
       "      <td>35.4%</td>\n",
       "    </tr>\n",
       "    <tr>\n",
       "      <td>Poverty 50%</td>\n",
       "      <td>9,113</td>\n",
       "      <td>21,584</td>\n",
       "      <td>21.3%</td>\n",
       "      <td>50.4%</td>\n",
       "    </tr>\n",
       "    <tr>\n",
       "      <td>Race</td>\n",
       "      <td>124,271</td>\n",
       "      <td>303,437</td>\n",
       "      <td>15.9%</td>\n",
       "      <td>38.7%</td>\n",
       "    </tr>\n",
       "    <tr>\n",
       "      <td>Race 50%</td>\n",
       "      <td>60,216</td>\n",
       "      <td>157,964</td>\n",
       "      <td>16.9%</td>\n",
       "      <td>44.4%</td>\n",
       "    </tr>\n",
       "    <tr>\n",
       "      <td>Youth</td>\n",
       "      <td>27,086</td>\n",
       "      <td>113,265</td>\n",
       "      <td>3.2%</td>\n",
       "      <td>13.3%</td>\n",
       "    </tr>\n",
       "  </tbody>\n",
       "</table>"
      ],
      "text/plain": [
       "<IPython.core.display.HTML object>"
      ]
     },
     "metadata": {},
     "output_type": "display_data"
    }
   ],
   "source": [
    "pd.options.display.float_format = '{:0,.0f}'.format\n",
    "df = hct_hh_df.copy()\n",
    "df = df[df['index'] == 1]\n",
    "df.rename(columns={'HH_P': 'Total'}, inplace=True)\n",
    "df.drop('index', axis=1, inplace=True)\n",
    "df = df.pivot_table(index='group', columns='distance', values='Total', aggfunc='sum')\n",
    "df[0.25] = df[0.25].astype('float32')\n",
    "df[0.5] = df[0.5].astype('float32')\n",
    "df.index.name = 'Equity Geography'\n",
    "df = df.reset_index()\n",
    "df = df.rename_axis(None, axis=1)\n",
    "df.rename(columns={0.25: '1/4 Mile', 0.5: '1/2 Mile'}, inplace=True)\n",
    "\n",
    "\n",
    "equity_dict = {'racial_geog_vs_reg_total': 'Race',\n",
    "                      'poverty_geog_vs_reg_total': 'Poverty',\n",
    "                        'english_geog_vs_reg_total': 'English',\n",
    "                      'elderly_geog_vs_reg_total': 'Elderly',\n",
    "                      'youth_geog_vs_reg_total': 'Youth',\n",
    "            'disability_geog_vs_reg_total': 'Disability',\n",
    "            'racial_geog_vs_50_percent': 'Race 50%',\n",
    "            'poverty_geog_vs_50_percent': 'Poverty 50%'}\n",
    "results_dict = {}\n",
    "for key, val in equity_dict.items():\n",
    "    _df = df_lu.groupby(key).sum()[['HH_P']].reset_index()\n",
    "    results_dict[val] = _df[_df[key] == 1]['HH_P'].values[0]\n",
    "\n",
    "results_df = pd.DataFrame(results_dict.values(), index=results_dict.keys(), columns=['Total HH'])\n",
    "results_df = results_df.reset_index()\n",
    "results_df = results_df.merge(df,left_on='index', right_on='Equity Geography')\n",
    "\n",
    "results_df['% of Households (1/4 Mile)'] = results_df['1/4 Mile']/results_df['Total HH']\n",
    "results_df['% of Households (1/2 Mile)'] = results_df['1/2 Mile']/results_df['Total HH']\n",
    "\n",
    "\n",
    "\n",
    "df = df.merge(results_df[['Equity Geography', '% of Households (1/4 Mile)', '% of Households (1/2 Mile)']], \n",
    "              on='Equity Geography')\n",
    "\n",
    "output = df.to_html(formatters={\n",
    "    '% of Households (1/4 Mile)': '{:0,.1%}'.format,\n",
    "    '% of Households (1/2 Mile)': '{:0,.1%}'.format,\n",
    "}, index=False)\n",
    "display(HTML(output))"
   ]
  },
  {
   "cell_type": "code",
   "execution_count": 28,
   "id": "be6b9fff",
   "metadata": {
    "execution": {
     "iopub.execute_input": "2024-04-03T17:32:55.109680Z",
     "iopub.status.busy": "2024-04-03T17:32:55.109680Z",
     "iopub.status.idle": "2024-04-03T17:33:04.180186Z",
     "shell.execute_reply": "2024-04-03T17:33:04.179183Z"
    }
   },
   "outputs": [
    {
     "data": {
      "text/html": [
       "<table border=\"1\" class=\"dataframe\">\n",
       "  <thead>\n",
       "    <tr style=\"text-align: right;\">\n",
       "      <th>Equity Geography</th>\n",
       "      <th>1/4 Mile</th>\n",
       "      <th>1/2 Mile</th>\n",
       "      <th>% of Households (1/4 Mile)</th>\n",
       "      <th>% of Households (1/2 Mile)</th>\n",
       "    </tr>\n",
       "  </thead>\n",
       "  <tbody>\n",
       "    <tr>\n",
       "      <td>NOT in Disability</td>\n",
       "      <td>109,228</td>\n",
       "      <td>297,205</td>\n",
       "      <td>11.7%</td>\n",
       "      <td>31.8%</td>\n",
       "    </tr>\n",
       "    <tr>\n",
       "      <td>NOT in Elderly</td>\n",
       "      <td>127,509</td>\n",
       "      <td>329,343</td>\n",
       "      <td>13.7%</td>\n",
       "      <td>35.3%</td>\n",
       "    </tr>\n",
       "    <tr>\n",
       "      <td>NOT in English</td>\n",
       "      <td>99,880</td>\n",
       "      <td>260,418</td>\n",
       "      <td>9.2%</td>\n",
       "      <td>23.9%</td>\n",
       "    </tr>\n",
       "    <tr>\n",
       "      <td>NOT in Poverty</td>\n",
       "      <td>96,290</td>\n",
       "      <td>252,050</td>\n",
       "      <td>9.6%</td>\n",
       "      <td>25.1%</td>\n",
       "    </tr>\n",
       "    <tr>\n",
       "      <td>NOT in Poverty 50%</td>\n",
       "      <td>176,766</td>\n",
       "      <td>489,477</td>\n",
       "      <td>10.4%</td>\n",
       "      <td>28.9%</td>\n",
       "    </tr>\n",
       "    <tr>\n",
       "      <td>NOT in Race</td>\n",
       "      <td>61,608</td>\n",
       "      <td>207,624</td>\n",
       "      <td>6.5%</td>\n",
       "      <td>21.8%</td>\n",
       "    </tr>\n",
       "    <tr>\n",
       "      <td>NOT in Race 50%</td>\n",
       "      <td>125,663</td>\n",
       "      <td>353,097</td>\n",
       "      <td>9.1%</td>\n",
       "      <td>25.6%</td>\n",
       "    </tr>\n",
       "    <tr>\n",
       "      <td>NOT in Youth</td>\n",
       "      <td>158,793</td>\n",
       "      <td>397,796</td>\n",
       "      <td>18.0%</td>\n",
       "      <td>45.1%</td>\n",
       "    </tr>\n",
       "  </tbody>\n",
       "</table>"
      ],
      "text/plain": [
       "<IPython.core.display.HTML object>"
      ]
     },
     "metadata": {},
     "output_type": "display_data"
    }
   ],
   "source": [
    "pd.options.display.float_format = '{:0,.0f}'.format\n",
    "df = hct_hh_df.copy()\n",
    "df = df[df['index'] == 0]\n",
    "df.rename(columns={'HH_P': 'Total'}, inplace=True)\n",
    "df.drop('index', axis=1, inplace=True)\n",
    "df = df.pivot_table(index='group', columns='distance', values='Total', aggfunc='sum')\n",
    "df[0.25] = df[0.25].astype('float32')\n",
    "df[0.5] = df[0.5].astype('float32')\n",
    "df.index.name = 'Equity Geography'\n",
    "df = df.reset_index()\n",
    "df = df.rename_axis(None, axis=1)\n",
    "df.rename(columns={0.25: '1/4 Mile', 0.5: '1/2 Mile'}, inplace=True)\n",
    "\n",
    "\n",
    "equity_dict = {'racial_geog_vs_reg_total': 'Race',\n",
    "                      'poverty_geog_vs_reg_total': 'Poverty',\n",
    "                        'english_geog_vs_reg_total': 'English',\n",
    "                      'elderly_geog_vs_reg_total': 'Elderly',\n",
    "                      'youth_geog_vs_reg_total': 'Youth',\n",
    "            'disability_geog_vs_reg_total': 'Disability',\n",
    "            'racial_geog_vs_50_percent': 'Race 50%',\n",
    "            'poverty_geog_vs_50_percent': 'Poverty 50%'}\n",
    "results_dict = {}\n",
    "for key, val in equity_dict.items():\n",
    "    _df = df_lu.groupby(key).sum()[['HH_P']].reset_index()\n",
    "    results_dict[val] = _df[_df[key] == 0]['HH_P'].values[0]\n",
    "\n",
    "results_df = pd.DataFrame(results_dict.values(), index=results_dict.keys(), columns=['Total HH'])\n",
    "results_df = results_df.reset_index()\n",
    "results_df = results_df.merge(df,left_on='index', right_on='Equity Geography')\n",
    "\n",
    "results_df['% of Households (1/4 Mile)'] = results_df['1/4 Mile']/results_df['Total HH']\n",
    "results_df['% of Households (1/2 Mile)'] = results_df['1/2 Mile']/results_df['Total HH']\n",
    "\n",
    "\n",
    "\n",
    "df = df.merge(results_df[['Equity Geography', '% of Households (1/4 Mile)', '% of Households (1/2 Mile)']], \n",
    "              on='Equity Geography')\n",
    "df['Equity Geography'] = ['NOT in '+i for i in df['Equity Geography']]\n",
    "output = df.to_html(formatters={\n",
    "    '% of Households (1/4 Mile)': '{:0,.1%}'.format,\n",
    "    '% of Households (1/2 Mile)': '{:0,.1%}'.format,\n",
    "}, index=False)\n",
    "display(HTML(output))"
   ]
  },
  {
   "cell_type": "markdown",
   "id": "d20cb295",
   "metadata": {},
   "source": [
    "# Jobs Near HCT Stations\n",
    "Total jobs and percent of total jobs\n",
    "\n",
    "### Region"
   ]
  },
  {
   "cell_type": "code",
   "execution_count": 29,
   "id": "01807a44",
   "metadata": {
    "execution": {
     "iopub.execute_input": "2024-04-03T17:33:04.186238Z",
     "iopub.status.busy": "2024-04-03T17:33:04.186238Z",
     "iopub.status.idle": "2024-04-03T17:33:07.635083Z",
     "shell.execute_reply": "2024-04-03T17:33:07.635083Z"
    }
   },
   "outputs": [],
   "source": [
    "pd.options.display.float_format = '{:0,.0f}'.format\n",
    "col_dict = {'racial_geog_vs_reg_total': 'Race',\n",
    "                      'poverty_geog_vs_reg_total': 'Poverty',\n",
    "                        'english_geog_vs_reg_total': 'English',\n",
    "                      'elderly_geog_vs_reg_total': 'Elderly',\n",
    "                      'youth_geog_vs_reg_total': 'Youth',\n",
    "            'disability_geog_vs_reg_total': 'Disability',\n",
    "            'racial_geog_vs_50_percent': 'Race 50%',\n",
    "            'poverty_geog_vs_50_percent': 'Poverty 50%',\n",
    "           'rg_proposed': 'Regional Geography',\n",
    "            'CountyName': 'County',\n",
    "            'GrowthCenterName': 'Regional Growth Center',\n",
    "            'RGC_binary': 'RGC Binary',\n",
    "            'Region': 'Region'\n",
    "           }\n",
    "\n",
    "hct_hh_df = pd.DataFrame()\n",
    "df_025['Region'] = 1\n",
    "df = aggregate_parcels(df_025, col_dict, 'EMPTOT_P')\n",
    "df['distance'] = 0.25\n",
    "hct_hh_df = hct_hh_df.append(df)\n",
    "df_050['Region'] = 1\n",
    "df = aggregate_parcels(df_050, col_dict, 'EMPTOT_P')\n",
    "df['distance'] = 0.50\n",
    "hct_hh_df = hct_hh_df.append(df)"
   ]
  },
  {
   "cell_type": "code",
   "execution_count": 30,
   "id": "d60c8646",
   "metadata": {
    "execution": {
     "iopub.execute_input": "2024-04-03T17:33:07.640141Z",
     "iopub.status.busy": "2024-04-03T17:33:07.640141Z",
     "iopub.status.idle": "2024-04-03T17:33:07.651322Z",
     "shell.execute_reply": "2024-04-03T17:33:07.650319Z"
    }
   },
   "outputs": [],
   "source": [
    "pd.options.display.float_format = '{:0,.0f}'.format"
   ]
  },
  {
   "cell_type": "code",
   "execution_count": 31,
   "id": "23dbd15f",
   "metadata": {
    "execution": {
     "iopub.execute_input": "2024-04-03T17:33:07.655312Z",
     "iopub.status.busy": "2024-04-03T17:33:07.655312Z",
     "iopub.status.idle": "2024-04-03T17:33:07.682649Z",
     "shell.execute_reply": "2024-04-03T17:33:07.681646Z"
    }
   },
   "outputs": [
    {
     "data": {
      "text/html": [
       "<table border=\"1\" class=\"dataframe\">\n",
       "  <thead>\n",
       "    <tr style=\"text-align: right;\">\n",
       "      <th>Region</th>\n",
       "      <th>1/4 Mile</th>\n",
       "      <th>1/2 Mile</th>\n",
       "      <th>% of Jobs (1/4 Mile)</th>\n",
       "      <th>% of Jobs (1/2 Mile)</th>\n",
       "    </tr>\n",
       "  </thead>\n",
       "  <tbody>\n",
       "    <tr>\n",
       "      <td>1</td>\n",
       "      <td>560,220</td>\n",
       "      <td>1,084,754</td>\n",
       "      <td>25.6%</td>\n",
       "      <td>49.7%</td>\n",
       "    </tr>\n",
       "  </tbody>\n",
       "</table>"
      ],
      "text/plain": [
       "<IPython.core.display.HTML object>"
      ]
     },
     "metadata": {},
     "output_type": "display_data"
    }
   ],
   "source": [
    "\n",
    "df = hct_hh_df[hct_hh_df['group'] == 'Region']\n",
    "df.rename(columns={'EMPTOT_P': 'Total'}, inplace=True)\n",
    "df = df.pivot_table(index='index', columns='distance', values='Total', aggfunc='sum')\n",
    "df[0.25] = df[0.25].astype('float32')\n",
    "df[0.5] = df[0.5].astype('float32')\n",
    "df.index.name = 'Region'\n",
    "df = df.reset_index()\n",
    "df = df.rename_axis(None, axis=1)\n",
    "df.rename(columns={0.25: '1/4 Mile', 0.5: '1/2 Mile'}, inplace=True)\n",
    "\n",
    "df['% of Jobs (1/4 Mile)'] = df['1/4 Mile']/df_lu['EMPTOT_P'].sum()\n",
    "df['% of Jobs (1/2 Mile)'] = df['1/2 Mile']/df_lu['EMPTOT_P'].sum()\n",
    "\n",
    "output = df.to_html(formatters={\n",
    "    '% of Jobs (1/4 Mile)': '{:0,.1%}'.format,\n",
    "    '% of Jobs (1/2 Mile)': '{:0,.1%}'.format,\n",
    "}, index=False)\n",
    "display(HTML(output))"
   ]
  },
  {
   "cell_type": "markdown",
   "id": "324ed59a",
   "metadata": {},
   "source": [
    "### Counties"
   ]
  },
  {
   "cell_type": "code",
   "execution_count": 32,
   "id": "0c22a5e7",
   "metadata": {
    "execution": {
     "iopub.execute_input": "2024-04-03T17:33:07.687637Z",
     "iopub.status.busy": "2024-04-03T17:33:07.687637Z",
     "iopub.status.idle": "2024-04-03T17:33:08.971498Z",
     "shell.execute_reply": "2024-04-03T17:33:08.971498Z"
    }
   },
   "outputs": [
    {
     "data": {
      "text/html": [
       "<table border=\"1\" class=\"dataframe\">\n",
       "  <thead>\n",
       "    <tr style=\"text-align: right;\">\n",
       "      <th>County</th>\n",
       "      <th>1/4 Mile</th>\n",
       "      <th>1/2 Mile</th>\n",
       "      <th>% of Jobs (1/4 Mile)</th>\n",
       "      <th>% of Jobs (1/2 Mile)</th>\n",
       "    </tr>\n",
       "  </thead>\n",
       "  <tbody>\n",
       "    <tr>\n",
       "      <td>King</td>\n",
       "      <td>509,266</td>\n",
       "      <td>880,489</td>\n",
       "      <td>34.8%</td>\n",
       "      <td>60.2%</td>\n",
       "    </tr>\n",
       "    <tr>\n",
       "      <td>Kitsap</td>\n",
       "      <td>970</td>\n",
       "      <td>21,387</td>\n",
       "      <td>1.0%</td>\n",
       "      <td>21.7%</td>\n",
       "    </tr>\n",
       "    <tr>\n",
       "      <td>Pierce</td>\n",
       "      <td>17,905</td>\n",
       "      <td>64,601</td>\n",
       "      <td>5.5%</td>\n",
       "      <td>19.8%</td>\n",
       "    </tr>\n",
       "    <tr>\n",
       "      <td>Snohomish</td>\n",
       "      <td>32,079</td>\n",
       "      <td>118,277</td>\n",
       "      <td>10.7%</td>\n",
       "      <td>39.6%</td>\n",
       "    </tr>\n",
       "  </tbody>\n",
       "</table>"
      ],
      "text/plain": [
       "<IPython.core.display.HTML object>"
      ]
     },
     "metadata": {},
     "output_type": "display_data"
    }
   ],
   "source": [
    "pd.options.display.float_format = '{:0,.0f}'.format\n",
    "df = hct_hh_df[hct_hh_df['group'] == 'County']\n",
    "df.rename(columns={'EMPTOT_P': 'Total'}, inplace=True)\n",
    "df = df.pivot_table(index='index', columns='distance', values='Total', aggfunc='sum')\n",
    "df[0.25] = df[0.25].astype('float32')\n",
    "df[0.5] = df[0.5].astype('float32')\n",
    "df.index.name = 'County'\n",
    "df = df.reset_index()\n",
    "df = df.rename_axis(None, axis=1)\n",
    "df.rename(columns={0.25: '1/4 Mile', 0.5: '1/2 Mile'}, inplace=True)\n",
    "\n",
    "_df = df.merge(df_lu.groupby('CountyName').sum()[['EMPTOT_P']].reset_index(),left_on='County', right_on='CountyName')\n",
    "_df['% of Jobs (1/4 Mile)'] = _df['1/4 Mile']/_df['EMPTOT_P']\n",
    "_df['% of Jobs (1/2 Mile)'] = _df['1/2 Mile']/_df['EMPTOT_P']\n",
    "\n",
    "df = df.merge(_df[['County', '% of Jobs (1/4 Mile)', '% of Jobs (1/2 Mile)']], \n",
    "              on='County')\n",
    "\n",
    "output = df.to_html(formatters={\n",
    "    '% of Jobs (1/4 Mile)': '{:0,.1%}'.format,\n",
    "    '% of Jobs (1/2 Mile)': '{:0,.1%}'.format,\n",
    "}, index=False)\n",
    "display(HTML(output))"
   ]
  },
  {
   "cell_type": "markdown",
   "id": "77e1ade9",
   "metadata": {},
   "source": [
    "### Regional Growth Centers"
   ]
  },
  {
   "cell_type": "code",
   "execution_count": 33,
   "id": "cffe0c69",
   "metadata": {
    "execution": {
     "iopub.execute_input": "2024-04-03T17:33:08.971498Z",
     "iopub.status.busy": "2024-04-03T17:33:08.971498Z",
     "iopub.status.idle": "2024-04-03T17:33:10.111862Z",
     "shell.execute_reply": "2024-04-03T17:33:10.111862Z"
    }
   },
   "outputs": [
    {
     "data": {
      "text/html": [
       "<table border=\"1\" class=\"dataframe\">\n",
       "  <thead>\n",
       "    <tr style=\"text-align: right;\">\n",
       "      <th>RGC Designation</th>\n",
       "      <th>1/4 Mile</th>\n",
       "      <th>1/2 Mile</th>\n",
       "      <th>% of Jobs (1/4 Mile)</th>\n",
       "      <th>% of Jobs (1/2 Mile)</th>\n",
       "    </tr>\n",
       "  </thead>\n",
       "  <tbody>\n",
       "    <tr>\n",
       "      <td>Outside RGC</td>\n",
       "      <td>132,265</td>\n",
       "      <td>374,421</td>\n",
       "      <td>10.6%</td>\n",
       "      <td>29.9%</td>\n",
       "    </tr>\n",
       "    <tr>\n",
       "      <td>Inside RGC</td>\n",
       "      <td>427,955</td>\n",
       "      <td>710,333</td>\n",
       "      <td>46.0%</td>\n",
       "      <td>76.3%</td>\n",
       "    </tr>\n",
       "  </tbody>\n",
       "</table>"
      ],
      "text/plain": [
       "<IPython.core.display.HTML object>"
      ]
     },
     "metadata": {},
     "output_type": "display_data"
    }
   ],
   "source": [
    "pd.options.display.float_format = '{:0,.0f}'.format\n",
    "df = hct_hh_df[hct_hh_df['group'] == 'RGC Binary']\n",
    "df.rename(columns={'EMPTOT_P': 'Total'}, inplace=True)\n",
    "df = df.pivot_table(index='index', columns='distance', values='Total', aggfunc='sum')\n",
    "df = df.fillna(0)\n",
    "df[0.25] = df[0.25].astype('float32')\n",
    "df[0.5] = df[0.5].astype('float32')\n",
    "df.index.name = 'RGC Binary'\n",
    "df = df.reset_index()\n",
    "df = df.rename_axis(None, axis=1)\n",
    "df.rename(columns={0.25: '1/4 Mile', 0.5: '1/2 Mile'}, inplace=True)\n",
    "\n",
    "\n",
    "_df = df.merge(df_lu.groupby('RGC_binary').sum()[['EMPTOT_P']].reset_index(),left_on='RGC Binary', \n",
    "               right_on='RGC_binary')\n",
    "_df['% of Jobs (1/4 Mile)'] = _df['1/4 Mile']/_df['EMPTOT_P']\n",
    "_df['% of Jobs (1/2 Mile)'] = _df['1/2 Mile']/_df['EMPTOT_P']\n",
    "\n",
    "df = df.merge(_df[['RGC Binary', '% of Jobs (1/4 Mile)', '% of Jobs (1/2 Mile)']], \n",
    "              on='RGC Binary')\n",
    "df['RGC Designation'] = df['RGC Binary'].map({0: 'Outside RGC', 1: 'Inside RGC'})\n",
    "df = df[['RGC Designation','1/4 Mile','1/2 Mile','% of Jobs (1/4 Mile)', '% of Jobs (1/2 Mile)']]\n",
    "output = df.to_html(formatters={\n",
    "    '% of Jobs (1/4 Mile)': '{:0,.1%}'.format,\n",
    "    '% of Jobs (1/2 Mile)': '{:0,.1%}'.format,\n",
    "}, index=False)\n",
    "display(HTML(output))"
   ]
  },
  {
   "cell_type": "code",
   "execution_count": 34,
   "id": "f4ed079f",
   "metadata": {
    "execution": {
     "iopub.execute_input": "2024-04-03T17:33:10.111862Z",
     "iopub.status.busy": "2024-04-03T17:33:10.111862Z",
     "iopub.status.idle": "2024-04-03T17:33:10.143039Z",
     "shell.execute_reply": "2024-04-03T17:33:10.143039Z"
    }
   },
   "outputs": [
    {
     "data": {
      "text/html": [
       "<table border=\"1\" class=\"dataframe\">\n",
       "  <thead>\n",
       "    <tr style=\"text-align: right;\">\n",
       "      <th>Regional Growth Center</th>\n",
       "      <th>1/4 Mile</th>\n",
       "      <th>1/2 Mile</th>\n",
       "      <th>% of Total Jobs (1/4 Mile)</th>\n",
       "      <th>% of Total Jobs (1/2 Mile)</th>\n",
       "    </tr>\n",
       "  </thead>\n",
       "  <tbody>\n",
       "    <tr>\n",
       "      <td>Auburn</td>\n",
       "      <td>2,372</td>\n",
       "      <td>4,207</td>\n",
       "      <td>0.1%</td>\n",
       "      <td>0.2%</td>\n",
       "    </tr>\n",
       "    <tr>\n",
       "      <td>Ballard-Interbay</td>\n",
       "      <td>7,377</td>\n",
       "      <td>14,774</td>\n",
       "      <td>0.3%</td>\n",
       "      <td>0.7%</td>\n",
       "    </tr>\n",
       "    <tr>\n",
       "      <td>Bellevue</td>\n",
       "      <td>29,058</td>\n",
       "      <td>52,728</td>\n",
       "      <td>1.3%</td>\n",
       "      <td>2.4%</td>\n",
       "    </tr>\n",
       "    <tr>\n",
       "      <td>Bothell Canyon Park</td>\n",
       "      <td>381</td>\n",
       "      <td>10,258</td>\n",
       "      <td>0.0%</td>\n",
       "      <td>0.5%</td>\n",
       "    </tr>\n",
       "    <tr>\n",
       "      <td>Bremerton</td>\n",
       "      <td>580</td>\n",
       "      <td>17,747</td>\n",
       "      <td>0.0%</td>\n",
       "      <td>0.8%</td>\n",
       "    </tr>\n",
       "    <tr>\n",
       "      <td>Burien</td>\n",
       "      <td>3,550</td>\n",
       "      <td>3,851</td>\n",
       "      <td>0.2%</td>\n",
       "      <td>0.2%</td>\n",
       "    </tr>\n",
       "    <tr>\n",
       "      <td>Duwamish</td>\n",
       "      <td>6,959</td>\n",
       "      <td>33,291</td>\n",
       "      <td>0.3%</td>\n",
       "      <td>1.5%</td>\n",
       "    </tr>\n",
       "    <tr>\n",
       "      <td>Everett</td>\n",
       "      <td>8,288</td>\n",
       "      <td>13,404</td>\n",
       "      <td>0.4%</td>\n",
       "      <td>0.6%</td>\n",
       "    </tr>\n",
       "    <tr>\n",
       "      <td>Federal Way</td>\n",
       "      <td>1,101</td>\n",
       "      <td>1,666</td>\n",
       "      <td>0.1%</td>\n",
       "      <td>0.1%</td>\n",
       "    </tr>\n",
       "    <tr>\n",
       "      <td>Kent</td>\n",
       "      <td>2,743</td>\n",
       "      <td>6,058</td>\n",
       "      <td>0.1%</td>\n",
       "      <td>0.3%</td>\n",
       "    </tr>\n",
       "    <tr>\n",
       "      <td>Kent MIC</td>\n",
       "      <td>0</td>\n",
       "      <td>1,302</td>\n",
       "      <td>0.0%</td>\n",
       "      <td>0.1%</td>\n",
       "    </tr>\n",
       "    <tr>\n",
       "      <td>Lynnwood</td>\n",
       "      <td>0</td>\n",
       "      <td>96</td>\n",
       "      <td>0.0%</td>\n",
       "      <td>0.0%</td>\n",
       "    </tr>\n",
       "    <tr>\n",
       "      <td>Not in RGC</td>\n",
       "      <td>132,265</td>\n",
       "      <td>374,421</td>\n",
       "      <td>6.1%</td>\n",
       "      <td>17.1%</td>\n",
       "    </tr>\n",
       "    <tr>\n",
       "      <td>Paine Field / Boeing Everett</td>\n",
       "      <td>1,891</td>\n",
       "      <td>22,436</td>\n",
       "      <td>0.1%</td>\n",
       "      <td>1.0%</td>\n",
       "    </tr>\n",
       "    <tr>\n",
       "      <td>Port of Tacoma</td>\n",
       "      <td>0</td>\n",
       "      <td>1,912</td>\n",
       "      <td>0.0%</td>\n",
       "      <td>0.1%</td>\n",
       "    </tr>\n",
       "    <tr>\n",
       "      <td>Puyallup Downtown</td>\n",
       "      <td>1,857</td>\n",
       "      <td>3,172</td>\n",
       "      <td>0.1%</td>\n",
       "      <td>0.1%</td>\n",
       "    </tr>\n",
       "    <tr>\n",
       "      <td>Redmond Downtown</td>\n",
       "      <td>4,580</td>\n",
       "      <td>10,357</td>\n",
       "      <td>0.2%</td>\n",
       "      <td>0.5%</td>\n",
       "    </tr>\n",
       "    <tr>\n",
       "      <td>Redmond-Overlake</td>\n",
       "      <td>26,718</td>\n",
       "      <td>33,157</td>\n",
       "      <td>1.2%</td>\n",
       "      <td>1.5%</td>\n",
       "    </tr>\n",
       "    <tr>\n",
       "      <td>Renton</td>\n",
       "      <td>12,523</td>\n",
       "      <td>13,295</td>\n",
       "      <td>0.6%</td>\n",
       "      <td>0.6%</td>\n",
       "    </tr>\n",
       "    <tr>\n",
       "      <td>SeaTac</td>\n",
       "      <td>24,436</td>\n",
       "      <td>25,594</td>\n",
       "      <td>1.1%</td>\n",
       "      <td>1.2%</td>\n",
       "    </tr>\n",
       "    <tr>\n",
       "      <td>Seattle Downtown</td>\n",
       "      <td>190,254</td>\n",
       "      <td>211,185</td>\n",
       "      <td>8.7%</td>\n",
       "      <td>9.7%</td>\n",
       "    </tr>\n",
       "    <tr>\n",
       "      <td>Seattle First Hill/Capitol Hill</td>\n",
       "      <td>9,737</td>\n",
       "      <td>56,565</td>\n",
       "      <td>0.4%</td>\n",
       "      <td>2.6%</td>\n",
       "    </tr>\n",
       "    <tr>\n",
       "      <td>Seattle Northgate</td>\n",
       "      <td>1,327</td>\n",
       "      <td>8,536</td>\n",
       "      <td>0.1%</td>\n",
       "      <td>0.4%</td>\n",
       "    </tr>\n",
       "    <tr>\n",
       "      <td>Seattle South Lake Union</td>\n",
       "      <td>55,524</td>\n",
       "      <td>58,637</td>\n",
       "      <td>2.5%</td>\n",
       "      <td>2.7%</td>\n",
       "    </tr>\n",
       "    <tr>\n",
       "      <td>Seattle University Community</td>\n",
       "      <td>2,228</td>\n",
       "      <td>33,614</td>\n",
       "      <td>0.1%</td>\n",
       "      <td>1.5%</td>\n",
       "    </tr>\n",
       "    <tr>\n",
       "      <td>Seattle Uptown</td>\n",
       "      <td>12,977</td>\n",
       "      <td>14,404</td>\n",
       "      <td>0.6%</td>\n",
       "      <td>0.7%</td>\n",
       "    </tr>\n",
       "    <tr>\n",
       "      <td>Sumner Pacific</td>\n",
       "      <td>0</td>\n",
       "      <td>1,193</td>\n",
       "      <td>0.0%</td>\n",
       "      <td>0.1%</td>\n",
       "    </tr>\n",
       "    <tr>\n",
       "      <td>Tacoma Downtown</td>\n",
       "      <td>12,780</td>\n",
       "      <td>40,949</td>\n",
       "      <td>0.6%</td>\n",
       "      <td>1.9%</td>\n",
       "    </tr>\n",
       "    <tr>\n",
       "      <td>Tacoma Mall</td>\n",
       "      <td>0</td>\n",
       "      <td>20</td>\n",
       "      <td>0.0%</td>\n",
       "      <td>0.0%</td>\n",
       "    </tr>\n",
       "    <tr>\n",
       "      <td>Tukwila</td>\n",
       "      <td>8,714</td>\n",
       "      <td>15,925</td>\n",
       "      <td>0.4%</td>\n",
       "      <td>0.7%</td>\n",
       "    </tr>\n",
       "  </tbody>\n",
       "</table>"
      ],
      "text/plain": [
       "<IPython.core.display.HTML object>"
      ]
     },
     "metadata": {},
     "output_type": "display_data"
    }
   ],
   "source": [
    "pd.options.display.float_format = '{:0,.0f}'.format\n",
    "df = hct_hh_df[hct_hh_df['group'] == 'Regional Growth Center']\n",
    "df.rename(columns={'EMPTOT_P': 'Total'}, inplace=True)\n",
    "df = df.pivot_table(index='index', columns='distance', values='Total', aggfunc='sum')\n",
    "df = df.fillna(0)\n",
    "df[0.25] = df[0.25].astype('float32')\n",
    "df[0.5] = df[0.5].astype('float32')\n",
    "df.index.name = 'Regional Growth Center'\n",
    "df = df.reset_index()\n",
    "df = df.rename_axis(None, axis=1)\n",
    "df.rename(columns={0.25: '1/4 Mile', 0.5: '1/2 Mile'}, inplace=True)\n",
    "df['% of Total Jobs (1/4 Mile)'] = df['1/4 Mile']/df_lu['EMPTOT_P'].sum()\n",
    "df['% of Total Jobs (1/2 Mile)'] = df['1/2 Mile']/df_lu['EMPTOT_P'].sum()\n",
    "\n",
    "output = df.to_html(formatters={\n",
    "    '% of Total Jobs (1/4 Mile)': '{:0,.1%}'.format,\n",
    "    '% of Total Jobs (1/2 Mile)': '{:0,.1%}'.format,\n",
    "}, index=False)\n",
    "display(HTML(output))"
   ]
  },
  {
   "cell_type": "markdown",
   "id": "66effb99",
   "metadata": {},
   "source": [
    "### Regional Geographies"
   ]
  },
  {
   "cell_type": "code",
   "execution_count": 35,
   "id": "31d934b5",
   "metadata": {
    "execution": {
     "iopub.execute_input": "2024-04-03T17:33:10.143039Z",
     "iopub.status.busy": "2024-04-03T17:33:10.143039Z",
     "iopub.status.idle": "2024-04-03T17:33:10.174348Z",
     "shell.execute_reply": "2024-04-03T17:33:10.174348Z"
    }
   },
   "outputs": [
    {
     "data": {
      "text/html": [
       "<table border=\"1\" class=\"dataframe\">\n",
       "  <thead>\n",
       "    <tr style=\"text-align: right;\">\n",
       "      <th>Regional Geography</th>\n",
       "      <th>1/4 Mile</th>\n",
       "      <th>1/2 Mile</th>\n",
       "      <th>% of Total Jobs (1/4 Mile)</th>\n",
       "      <th>% of Total Jobs (1/2 Mile)</th>\n",
       "    </tr>\n",
       "  </thead>\n",
       "  <tbody>\n",
       "    <tr>\n",
       "      <td>CitiesTowns</td>\n",
       "      <td>0</td>\n",
       "      <td>659</td>\n",
       "      <td>0.0%</td>\n",
       "      <td>0.0%</td>\n",
       "    </tr>\n",
       "    <tr>\n",
       "      <td>Core</td>\n",
       "      <td>137,616</td>\n",
       "      <td>262,966</td>\n",
       "      <td>6.3%</td>\n",
       "      <td>12.0%</td>\n",
       "    </tr>\n",
       "    <tr>\n",
       "      <td>HCT</td>\n",
       "      <td>22,323</td>\n",
       "      <td>59,024</td>\n",
       "      <td>1.0%</td>\n",
       "      <td>2.7%</td>\n",
       "    </tr>\n",
       "    <tr>\n",
       "      <td>Metro</td>\n",
       "      <td>399,481</td>\n",
       "      <td>758,536</td>\n",
       "      <td>18.3%</td>\n",
       "      <td>34.7%</td>\n",
       "    </tr>\n",
       "    <tr>\n",
       "      <td>Rural</td>\n",
       "      <td>32</td>\n",
       "      <td>48</td>\n",
       "      <td>0.0%</td>\n",
       "      <td>0.0%</td>\n",
       "    </tr>\n",
       "    <tr>\n",
       "      <td>UU</td>\n",
       "      <td>768</td>\n",
       "      <td>3,521</td>\n",
       "      <td>0.0%</td>\n",
       "      <td>0.2%</td>\n",
       "    </tr>\n",
       "  </tbody>\n",
       "</table>"
      ],
      "text/plain": [
       "<IPython.core.display.HTML object>"
      ]
     },
     "metadata": {},
     "output_type": "display_data"
    }
   ],
   "source": [
    "df = hct_hh_df[hct_hh_df['group'] == 'Regional Geography']\n",
    "df.rename(columns={'EMPTOT_P': 'Total'}, inplace=True)\n",
    "df = df.pivot_table(index='index', columns='distance', values='Total', aggfunc='sum')\n",
    "df = df.fillna(0)\n",
    "df[0.25] = df[0.25].astype('float32')\n",
    "df[0.5] = df[0.5].astype('float32')\n",
    "df.index.name = 'Regional Geography'\n",
    "df = df.reset_index()\n",
    "df = df.rename_axis(None, axis=1)\n",
    "df.rename(columns={0.25: '1/4 Mile', 0.5: '1/2 Mile'}, inplace=True)\n",
    "df['% of Total Jobs (1/4 Mile)'] = df['1/4 Mile']/df_lu['EMPTOT_P'].sum()\n",
    "df['% of Total Jobs (1/2 Mile)'] = df['1/2 Mile']/df_lu['EMPTOT_P'].sum()\n",
    "\n",
    "output = df.to_html(formatters={\n",
    "    '% of Total Jobs (1/4 Mile)': '{:0,.1%}'.format,\n",
    "    '% of Total Jobs (1/2 Mile)': '{:0,.1%}'.format,\n",
    "}, index=False)\n",
    "display(HTML(output))"
   ]
  },
  {
   "cell_type": "markdown",
   "id": "ce6495a6",
   "metadata": {},
   "source": [
    "### Equity Geographies\n"
   ]
  },
  {
   "cell_type": "code",
   "execution_count": 36,
   "id": "57976988",
   "metadata": {
    "execution": {
     "iopub.execute_input": "2024-04-03T17:33:10.174348Z",
     "iopub.status.busy": "2024-04-03T17:33:10.174348Z",
     "iopub.status.idle": "2024-04-03T17:33:10.205589Z",
     "shell.execute_reply": "2024-04-03T17:33:10.205589Z"
    }
   },
   "outputs": [
    {
     "data": {
      "text/html": [
       "<table border=\"1\" class=\"dataframe\">\n",
       "  <thead>\n",
       "    <tr style=\"text-align: right;\">\n",
       "      <th>Equity Geography</th>\n",
       "      <th>1/4 Mile</th>\n",
       "      <th>1/2 Mile</th>\n",
       "      <th>% of Total Jobs (1/4 Mile)</th>\n",
       "      <th>% of Total Jobs (1/2 Mile)</th>\n",
       "    </tr>\n",
       "  </thead>\n",
       "  <tbody>\n",
       "    <tr>\n",
       "      <td>Disability</td>\n",
       "      <td>317,900</td>\n",
       "      <td>598,724</td>\n",
       "      <td>14.6%</td>\n",
       "      <td>27.4%</td>\n",
       "    </tr>\n",
       "    <tr>\n",
       "      <td>Elderly</td>\n",
       "      <td>242,166</td>\n",
       "      <td>424,030</td>\n",
       "      <td>11.1%</td>\n",
       "      <td>19.4%</td>\n",
       "    </tr>\n",
       "    <tr>\n",
       "      <td>English</td>\n",
       "      <td>245,112</td>\n",
       "      <td>511,064</td>\n",
       "      <td>11.2%</td>\n",
       "      <td>23.4%</td>\n",
       "    </tr>\n",
       "    <tr>\n",
       "      <td>Poverty</td>\n",
       "      <td>324,206</td>\n",
       "      <td>621,701</td>\n",
       "      <td>14.8%</td>\n",
       "      <td>28.5%</td>\n",
       "    </tr>\n",
       "    <tr>\n",
       "      <td>Poverty 50%</td>\n",
       "      <td>13,803</td>\n",
       "      <td>59,197</td>\n",
       "      <td>0.6%</td>\n",
       "      <td>2.7%</td>\n",
       "    </tr>\n",
       "    <tr>\n",
       "      <td>RGC Binary</td>\n",
       "      <td>427,955</td>\n",
       "      <td>710,333</td>\n",
       "      <td>19.6%</td>\n",
       "      <td>32.5%</td>\n",
       "    </tr>\n",
       "    <tr>\n",
       "      <td>Race</td>\n",
       "      <td>421,866</td>\n",
       "      <td>770,337</td>\n",
       "      <td>19.3%</td>\n",
       "      <td>35.3%</td>\n",
       "    </tr>\n",
       "    <tr>\n",
       "      <td>Race 50%</td>\n",
       "      <td>164,450</td>\n",
       "      <td>334,160</td>\n",
       "      <td>7.5%</td>\n",
       "      <td>15.3%</td>\n",
       "    </tr>\n",
       "    <tr>\n",
       "      <td>Region</td>\n",
       "      <td>560,220</td>\n",
       "      <td>1,084,754</td>\n",
       "      <td>25.6%</td>\n",
       "      <td>49.7%</td>\n",
       "    </tr>\n",
       "    <tr>\n",
       "      <td>Youth</td>\n",
       "      <td>48,016</td>\n",
       "      <td>152,045</td>\n",
       "      <td>2.2%</td>\n",
       "      <td>7.0%</td>\n",
       "    </tr>\n",
       "  </tbody>\n",
       "</table>"
      ],
      "text/plain": [
       "<IPython.core.display.HTML object>"
      ]
     },
     "metadata": {},
     "output_type": "display_data"
    }
   ],
   "source": [
    "# df = aggregate_parcels(df_lu, col_dict, 'HH_P')\n",
    "df = hct_hh_df.copy()\n",
    "df = df[df['index'] == 1]\n",
    "df.rename(columns={'EMPTOT_P': 'Total'}, inplace=True)\n",
    "df.drop('index', axis=1, inplace=True)\n",
    "df = df.pivot_table(index='group', columns='distance', values='Total', aggfunc='sum')\n",
    "df[0.25] = df[0.25].astype('float32')\n",
    "df[0.5] = df[0.5].astype('float32')\n",
    "df.index.name = 'Equity Geography'\n",
    "df = df.reset_index()\n",
    "df = df.rename_axis(None, axis=1)\n",
    "df.rename(columns={0.25: '1/4 Mile', 0.5: '1/2 Mile'}, inplace=True)\n",
    "df['% of Total Jobs (1/4 Mile)'] = df['1/4 Mile']/df_lu['EMPTOT_P'].sum()\n",
    "df['% of Total Jobs (1/2 Mile)'] = df['1/2 Mile']/df_lu['EMPTOT_P'].sum()\n",
    "\n",
    "\n",
    "\n",
    "output = df.to_html(formatters={\n",
    "    '% of Total Jobs (1/4 Mile)': '{:0,.1%}'.format,\n",
    "    '% of Total Jobs (1/2 Mile)': '{:0,.1%}'.format,\n",
    "}, index=False)\n",
    "display(HTML(output))"
   ]
  },
  {
   "cell_type": "code",
   "execution_count": 37,
   "id": "f7fca134",
   "metadata": {
    "execution": {
     "iopub.execute_input": "2024-04-03T17:33:10.205589Z",
     "iopub.status.busy": "2024-04-03T17:33:10.205589Z",
     "iopub.status.idle": "2024-04-03T17:33:10.236835Z",
     "shell.execute_reply": "2024-04-03T17:33:10.236835Z"
    }
   },
   "outputs": [
    {
     "data": {
      "text/html": [
       "<table border=\"1\" class=\"dataframe\">\n",
       "  <thead>\n",
       "    <tr style=\"text-align: right;\">\n",
       "      <th>Equity Geography</th>\n",
       "      <th>1/4 Mile</th>\n",
       "      <th>1/2 Mile</th>\n",
       "      <th>% of Total Jobs (1/4 Mile)</th>\n",
       "      <th>% of Total Jobs (1/2 Mile)</th>\n",
       "    </tr>\n",
       "  </thead>\n",
       "  <tbody>\n",
       "    <tr>\n",
       "      <td>NOT in Disability</td>\n",
       "      <td>242,320</td>\n",
       "      <td>486,030</td>\n",
       "      <td>11.1%</td>\n",
       "      <td>22.3%</td>\n",
       "    </tr>\n",
       "    <tr>\n",
       "      <td>NOT in Elderly</td>\n",
       "      <td>318,054</td>\n",
       "      <td>660,724</td>\n",
       "      <td>14.6%</td>\n",
       "      <td>30.3%</td>\n",
       "    </tr>\n",
       "    <tr>\n",
       "      <td>NOT in English</td>\n",
       "      <td>315,108</td>\n",
       "      <td>573,690</td>\n",
       "      <td>14.4%</td>\n",
       "      <td>26.3%</td>\n",
       "    </tr>\n",
       "    <tr>\n",
       "      <td>NOT in Poverty</td>\n",
       "      <td>236,014</td>\n",
       "      <td>463,053</td>\n",
       "      <td>10.8%</td>\n",
       "      <td>21.2%</td>\n",
       "    </tr>\n",
       "    <tr>\n",
       "      <td>NOT in Poverty 50%</td>\n",
       "      <td>546,417</td>\n",
       "      <td>1,025,557</td>\n",
       "      <td>25.0%</td>\n",
       "      <td>47.0%</td>\n",
       "    </tr>\n",
       "    <tr>\n",
       "      <td>NOT in RGC Binary</td>\n",
       "      <td>132,265</td>\n",
       "      <td>374,421</td>\n",
       "      <td>6.1%</td>\n",
       "      <td>17.1%</td>\n",
       "    </tr>\n",
       "    <tr>\n",
       "      <td>NOT in Race</td>\n",
       "      <td>138,354</td>\n",
       "      <td>314,417</td>\n",
       "      <td>6.3%</td>\n",
       "      <td>14.4%</td>\n",
       "    </tr>\n",
       "    <tr>\n",
       "      <td>NOT in Race 50%</td>\n",
       "      <td>395,770</td>\n",
       "      <td>750,594</td>\n",
       "      <td>18.1%</td>\n",
       "      <td>34.4%</td>\n",
       "    </tr>\n",
       "    <tr>\n",
       "      <td>NOT in Youth</td>\n",
       "      <td>512,204</td>\n",
       "      <td>932,709</td>\n",
       "      <td>23.5%</td>\n",
       "      <td>42.7%</td>\n",
       "    </tr>\n",
       "  </tbody>\n",
       "</table>"
      ],
      "text/plain": [
       "<IPython.core.display.HTML object>"
      ]
     },
     "metadata": {},
     "output_type": "display_data"
    }
   ],
   "source": [
    "# df = aggregate_parcels(df_lu, col_dict, 'HH_P')\n",
    "df = hct_hh_df.copy()\n",
    "df = df[df['index'] == 0]\n",
    "df.rename(columns={'EMPTOT_P': 'Total'}, inplace=True)\n",
    "df.drop('index', axis=1, inplace=True)\n",
    "df = df.pivot_table(index='group', columns='distance', values='Total', aggfunc='sum')\n",
    "df[0.25] = df[0.25].astype('float32')\n",
    "df[0.5] = df[0.5].astype('float32')\n",
    "df.index.name = 'Equity Geography'\n",
    "df = df.reset_index()\n",
    "df = df.rename_axis(None, axis=1)\n",
    "df.rename(columns={0.25: '1/4 Mile', 0.5: '1/2 Mile'}, inplace=True)\n",
    "df['% of Total Jobs (1/4 Mile)'] = df['1/4 Mile']/df_lu['EMPTOT_P'].sum()\n",
    "df['% of Total Jobs (1/2 Mile)'] = df['1/2 Mile']/df_lu['EMPTOT_P'].sum()\n",
    "df['Equity Geography'] = ['NOT in '+i for i in df['Equity Geography']]\n",
    "output = df.to_html(formatters={\n",
    "    '% of Total Jobs (1/4 Mile)': '{:0,.1%}'.format,\n",
    "    '% of Total Jobs (1/2 Mile)': '{:0,.1%}'.format,\n",
    "}, index=False)\n",
    "display(HTML(output))"
   ]
  },
  {
   "cell_type": "markdown",
   "id": "3d6d8d2c",
   "metadata": {},
   "source": [
    "# Transfers\n",
    "Transfers between transit modes\n",
    "- rows are the initial mode and columns are the mode transfered to"
   ]
  },
  {
   "cell_type": "code",
   "execution_count": 38,
   "id": "8ff89ffb",
   "metadata": {
    "execution": {
     "iopub.execute_input": "2024-04-03T17:33:10.236835Z",
     "iopub.status.busy": "2024-04-03T17:33:10.236835Z",
     "iopub.status.idle": "2024-04-03T17:33:10.361804Z",
     "shell.execute_reply": "2024-04-03T17:33:10.361804Z"
    }
   },
   "outputs": [],
   "source": [
    "df_transfers = pd.read_csv(r'../../../outputs/transit/transit_transfers.csv')\n",
    "\n",
    "df_line = pd.read_csv(os.path.join(relative_path,'transit','transit_line_results.csv'))\n",
    "\n",
    "transit_type_map = {\n",
    "    1: 'Local Bus',\n",
    "    2: 'Express Bus',\n",
    "    3: 'Bus Rapid Transit',\n",
    "    4: 'Streetcar',\n",
    "    5: 'Commuter Rail',\n",
    "    6: 'Light Rail',\n",
    "    7: 'Auto Ferry',\n",
    "    8: 'Passenger Ferry'\n",
    "}\n",
    "\n",
    "transit_type_df = df_line.groupby('line_id').first()[['transit_type']].reset_index()\n",
    "transit_type_df['transit_type'] = transit_type_df['transit_type'].map(transit_type_map)\n",
    "\n",
    "df_from = df_transfers.merge(transit_type_df[['transit_type','line_id']], \n",
    "                             left_on='from_line_id', right_on='line_id', how='left')\n",
    "# df = df_from.merge(df_from.merge(df_line[['transit_type']], left_on='to_line_id', right_index=True, how='left',\n",
    "#                                      suffixes=['_from','_to']))\n",
    "df = df_from.merge(transit_type_df[['transit_type','line_id']], \n",
    "                             left_on='to_line_id', right_on='line_id', how='left', suffixes=['_from','_to'])"
   ]
  },
  {
   "cell_type": "code",
   "execution_count": 39,
   "id": "20a8c4bc",
   "metadata": {
    "execution": {
     "iopub.execute_input": "2024-04-03T17:33:10.361804Z",
     "iopub.status.busy": "2024-04-03T17:33:10.361804Z",
     "iopub.status.idle": "2024-04-03T17:33:10.408668Z",
     "shell.execute_reply": "2024-04-03T17:33:10.408668Z"
    }
   },
   "outputs": [
    {
     "data": {
      "text/html": [
       "<div>\n",
       "<style scoped>\n",
       "    .dataframe tbody tr th:only-of-type {\n",
       "        vertical-align: middle;\n",
       "    }\n",
       "\n",
       "    .dataframe tbody tr th {\n",
       "        vertical-align: top;\n",
       "    }\n",
       "\n",
       "    .dataframe thead th {\n",
       "        text-align: right;\n",
       "    }\n",
       "</style>\n",
       "<table border=\"1\" class=\"dataframe\">\n",
       "  <thead>\n",
       "    <tr style=\"text-align: right;\">\n",
       "      <th>transit_type_to</th>\n",
       "      <th>Auto Ferry</th>\n",
       "      <th>Bus Rapid Transit</th>\n",
       "      <th>Commuter Rail</th>\n",
       "      <th>Light Rail</th>\n",
       "      <th>Local Bus</th>\n",
       "      <th>Passenger Ferry</th>\n",
       "    </tr>\n",
       "    <tr>\n",
       "      <th>transit_type_from</th>\n",
       "      <th></th>\n",
       "      <th></th>\n",
       "      <th></th>\n",
       "      <th></th>\n",
       "      <th></th>\n",
       "      <th></th>\n",
       "    </tr>\n",
       "  </thead>\n",
       "  <tbody>\n",
       "    <tr>\n",
       "      <th>Auto Ferry</th>\n",
       "      <td>767</td>\n",
       "      <td>1,332</td>\n",
       "      <td>63</td>\n",
       "      <td>245</td>\n",
       "      <td>7,138</td>\n",
       "      <td>2</td>\n",
       "    </tr>\n",
       "    <tr>\n",
       "      <th>Bus Rapid Transit</th>\n",
       "      <td>1,679</td>\n",
       "      <td>5,632</td>\n",
       "      <td>497</td>\n",
       "      <td>4,652</td>\n",
       "      <td>13,612</td>\n",
       "      <td>4</td>\n",
       "    </tr>\n",
       "    <tr>\n",
       "      <th>Commuter Rail</th>\n",
       "      <td>50</td>\n",
       "      <td>354</td>\n",
       "      <td>6</td>\n",
       "      <td>321</td>\n",
       "      <td>5,729</td>\n",
       "      <td>0</td>\n",
       "    </tr>\n",
       "    <tr>\n",
       "      <th>Light Rail</th>\n",
       "      <td>196</td>\n",
       "      <td>5,602</td>\n",
       "      <td>338</td>\n",
       "      <td>273</td>\n",
       "      <td>41,043</td>\n",
       "      <td>4</td>\n",
       "    </tr>\n",
       "    <tr>\n",
       "      <th>Local Bus</th>\n",
       "      <td>5,887</td>\n",
       "      <td>12,296</td>\n",
       "      <td>4,885</td>\n",
       "      <td>28,990</td>\n",
       "      <td>76,921</td>\n",
       "      <td>26</td>\n",
       "    </tr>\n",
       "    <tr>\n",
       "      <th>Passenger Ferry</th>\n",
       "      <td>4</td>\n",
       "      <td>6</td>\n",
       "      <td>0</td>\n",
       "      <td>0</td>\n",
       "      <td>18</td>\n",
       "      <td>0</td>\n",
       "    </tr>\n",
       "  </tbody>\n",
       "</table>\n",
       "</div>"
      ],
      "text/plain": [
       "transit_type_to    Auto Ferry  Bus Rapid Transit  Commuter Rail  Light Rail  \\\n",
       "transit_type_from                                                             \n",
       "Auto Ferry                767              1,332             63         245   \n",
       "Bus Rapid Transit       1,679              5,632            497       4,652   \n",
       "Commuter Rail              50                354              6         321   \n",
       "Light Rail                196              5,602            338         273   \n",
       "Local Bus               5,887             12,296          4,885      28,990   \n",
       "Passenger Ferry             4                  6              0           0   \n",
       "\n",
       "transit_type_to    Local Bus  Passenger Ferry  \n",
       "transit_type_from                              \n",
       "Auto Ferry             7,138                2  \n",
       "Bus Rapid Transit     13,612                4  \n",
       "Commuter Rail          5,729                0  \n",
       "Light Rail            41,043                4  \n",
       "Local Bus             76,921               26  \n",
       "Passenger Ferry           18                0  "
      ]
     },
     "execution_count": 39,
     "metadata": {},
     "output_type": "execute_result"
    }
   ],
   "source": [
    "_df = df.pivot_table(index='transit_type_from', columns='transit_type_to', values='boardings', aggfunc='sum')\n",
    "_df = _df.fillna(0)\n",
    "_df"
   ]
  },
  {
   "cell_type": "markdown",
   "id": "db71336e",
   "metadata": {},
   "source": [
    "#### Transit Mode for Transfers to HCT Routes\n",
    "e.g., rode local bus to HCT route"
   ]
  },
  {
   "cell_type": "code",
   "execution_count": 40,
   "id": "456dbd97",
   "metadata": {
    "execution": {
     "iopub.execute_input": "2024-04-03T17:33:10.408668Z",
     "iopub.status.busy": "2024-04-03T17:33:10.408668Z",
     "iopub.status.idle": "2024-04-03T17:33:10.455531Z",
     "shell.execute_reply": "2024-04-03T17:33:10.455531Z"
    }
   },
   "outputs": [
    {
     "data": {
      "text/html": [
       "<div>\n",
       "<style scoped>\n",
       "    .dataframe tbody tr th:only-of-type {\n",
       "        vertical-align: middle;\n",
       "    }\n",
       "\n",
       "    .dataframe tbody tr th {\n",
       "        vertical-align: top;\n",
       "    }\n",
       "\n",
       "    .dataframe thead th {\n",
       "        text-align: right;\n",
       "    }\n",
       "</style>\n",
       "<table border=\"1\" class=\"dataframe\">\n",
       "  <thead>\n",
       "    <tr style=\"text-align: right;\">\n",
       "      <th></th>\n",
       "      <th>boardings</th>\n",
       "    </tr>\n",
       "    <tr>\n",
       "      <th>transit_type_from</th>\n",
       "      <th></th>\n",
       "    </tr>\n",
       "  </thead>\n",
       "  <tbody>\n",
       "    <tr>\n",
       "      <th>Auto Ferry</th>\n",
       "      <td>9,547</td>\n",
       "    </tr>\n",
       "    <tr>\n",
       "      <th>Bus Rapid Transit</th>\n",
       "      <td>26,076</td>\n",
       "    </tr>\n",
       "    <tr>\n",
       "      <th>Commuter Rail</th>\n",
       "      <td>6,460</td>\n",
       "    </tr>\n",
       "    <tr>\n",
       "      <th>Light Rail</th>\n",
       "      <td>47,456</td>\n",
       "    </tr>\n",
       "    <tr>\n",
       "      <th>Local Bus</th>\n",
       "      <td>129,006</td>\n",
       "    </tr>\n",
       "    <tr>\n",
       "      <th>Passenger Ferry</th>\n",
       "      <td>28</td>\n",
       "    </tr>\n",
       "  </tbody>\n",
       "</table>\n",
       "</div>"
      ],
      "text/plain": [
       "                   boardings\n",
       "transit_type_from           \n",
       "Auto Ferry             9,547\n",
       "Bus Rapid Transit     26,076\n",
       "Commuter Rail          6,460\n",
       "Light Rail            47,456\n",
       "Local Bus            129,006\n",
       "Passenger Ferry           28"
      ]
     },
     "execution_count": 40,
     "metadata": {},
     "output_type": "execute_result"
    }
   ],
   "source": [
    "# Total number of transfers to HCT from transit modes\n",
    "_df = df.groupby(['transit_type_from','transit_type_to']).sum()[['boardings']].reset_index()\n",
    "\n",
    "_df.groupby('transit_type_from').sum()[['boardings']]"
   ]
  },
  {
   "cell_type": "markdown",
   "id": "9a96f359",
   "metadata": {},
   "source": [
    "#### Transit Mode for Transfers from HCT Routes\n",
    "e.g., took local bus after using HCT route"
   ]
  },
  {
   "cell_type": "code",
   "execution_count": 41,
   "id": "4b12a9dd",
   "metadata": {
    "execution": {
     "iopub.execute_input": "2024-04-03T17:33:10.455531Z",
     "iopub.status.busy": "2024-04-03T17:33:10.455531Z",
     "iopub.status.idle": "2024-04-03T17:33:10.471153Z",
     "shell.execute_reply": "2024-04-03T17:33:10.471153Z"
    }
   },
   "outputs": [
    {
     "data": {
      "text/html": [
       "<div>\n",
       "<style scoped>\n",
       "    .dataframe tbody tr th:only-of-type {\n",
       "        vertical-align: middle;\n",
       "    }\n",
       "\n",
       "    .dataframe tbody tr th {\n",
       "        vertical-align: top;\n",
       "    }\n",
       "\n",
       "    .dataframe thead th {\n",
       "        text-align: right;\n",
       "    }\n",
       "</style>\n",
       "<table border=\"1\" class=\"dataframe\">\n",
       "  <thead>\n",
       "    <tr style=\"text-align: right;\">\n",
       "      <th></th>\n",
       "      <th>boardings</th>\n",
       "    </tr>\n",
       "    <tr>\n",
       "      <th>transit_type_to</th>\n",
       "      <th></th>\n",
       "    </tr>\n",
       "  </thead>\n",
       "  <tbody>\n",
       "    <tr>\n",
       "      <th>Auto Ferry</th>\n",
       "      <td>8,584</td>\n",
       "    </tr>\n",
       "    <tr>\n",
       "      <th>Bus Rapid Transit</th>\n",
       "      <td>25,223</td>\n",
       "    </tr>\n",
       "    <tr>\n",
       "      <th>Commuter Rail</th>\n",
       "      <td>5,789</td>\n",
       "    </tr>\n",
       "    <tr>\n",
       "      <th>Light Rail</th>\n",
       "      <td>34,481</td>\n",
       "    </tr>\n",
       "    <tr>\n",
       "      <th>Local Bus</th>\n",
       "      <td>144,460</td>\n",
       "    </tr>\n",
       "    <tr>\n",
       "      <th>Passenger Ferry</th>\n",
       "      <td>36</td>\n",
       "    </tr>\n",
       "  </tbody>\n",
       "</table>\n",
       "</div>"
      ],
      "text/plain": [
       "                   boardings\n",
       "transit_type_to             \n",
       "Auto Ferry             8,584\n",
       "Bus Rapid Transit     25,223\n",
       "Commuter Rail          5,789\n",
       "Light Rail            34,481\n",
       "Local Bus            144,460\n",
       "Passenger Ferry           36"
      ]
     },
     "execution_count": 41,
     "metadata": {},
     "output_type": "execute_result"
    }
   ],
   "source": [
    "# Total number of transfers to HCT from transit modes\n",
    "_df.groupby('transit_type_to').sum()[['boardings']]"
   ]
  },
  {
   "cell_type": "markdown",
   "id": "fcd3ceda",
   "metadata": {},
   "source": [
    "# Transit Access Mode\n",
    "### Percent of Transit Trips Accessed by Walking"
   ]
  },
  {
   "cell_type": "markdown",
   "id": "fcdd9c3e",
   "metadata": {},
   "source": [
    "#### Region"
   ]
  },
  {
   "cell_type": "code",
   "execution_count": 42,
   "id": "b1260ba8",
   "metadata": {
    "execution": {
     "iopub.execute_input": "2024-04-03T17:33:10.471153Z",
     "iopub.status.busy": "2024-04-03T17:33:10.471153Z",
     "iopub.status.idle": "2024-04-03T17:33:10.658542Z",
     "shell.execute_reply": "2024-04-03T17:33:10.658542Z"
    }
   },
   "outputs": [
    {
     "data": {
      "text/html": [
       "<div>\n",
       "<style scoped>\n",
       "    .dataframe tbody tr th:only-of-type {\n",
       "        vertical-align: middle;\n",
       "    }\n",
       "\n",
       "    .dataframe tbody tr th {\n",
       "        vertical-align: top;\n",
       "    }\n",
       "\n",
       "    .dataframe thead th {\n",
       "        text-align: right;\n",
       "    }\n",
       "</style>\n",
       "<table border=\"1\" class=\"dataframe\">\n",
       "  <thead>\n",
       "    <tr style=\"text-align: right;\">\n",
       "      <th></th>\n",
       "      <th>% Transit trips Accessed by Walking</th>\n",
       "    </tr>\n",
       "  </thead>\n",
       "  <tbody>\n",
       "    <tr>\n",
       "      <th>Region</th>\n",
       "      <td>89.0%</td>\n",
       "    </tr>\n",
       "  </tbody>\n",
       "</table>\n",
       "</div>"
      ],
      "text/plain": [
       "        % Transit trips Accessed by Walking\n",
       "Region                                89.0%"
      ]
     },
     "execution_count": 42,
     "metadata": {},
     "output_type": "execute_result"
    }
   ],
   "source": [
    "pd.options.display.float_format = '{:0,.1%}'.format\n",
    "df = pd.read_csv(r'../../../outputs/agg/dash/trip_mode_by_tour_mode.csv')\n",
    "_df = df.copy()\n",
    "pnr_transit_trips = _df[(_df['tmodetp'] == 'Park') & (_df['mode'] == 'Transit')]['trexpfac'].sum()\n",
    "walk_transit_trips = _df[(_df['tmodetp'] == 'Transit') & (_df['mode'] == 'Transit')]['trexpfac'].sum()\n",
    "reg_access = (walk_transit_trips/(walk_transit_trips+pnr_transit_trips))\n",
    "pd.DataFrame([reg_access], columns=['% Transit trips Accessed by Walking'], index=['Region'])\n"
   ]
  },
  {
   "cell_type": "markdown",
   "id": "10a2b569",
   "metadata": {},
   "source": [
    "#### Equity Geographies"
   ]
  },
  {
   "cell_type": "code",
   "execution_count": 43,
   "id": "af380351",
   "metadata": {
    "execution": {
     "iopub.execute_input": "2024-04-03T17:33:10.658542Z",
     "iopub.status.busy": "2024-04-03T17:33:10.658542Z",
     "iopub.status.idle": "2024-04-03T17:33:10.783580Z",
     "shell.execute_reply": "2024-04-03T17:33:10.783580Z"
    }
   },
   "outputs": [
    {
     "data": {
      "text/html": [
       "<div>\n",
       "<style scoped>\n",
       "    .dataframe tbody tr th:only-of-type {\n",
       "        vertical-align: middle;\n",
       "    }\n",
       "\n",
       "    .dataframe tbody tr th {\n",
       "        vertical-align: top;\n",
       "    }\n",
       "\n",
       "    .dataframe thead th {\n",
       "        text-align: right;\n",
       "    }\n",
       "</style>\n",
       "<table border=\"1\" class=\"dataframe\">\n",
       "  <thead>\n",
       "    <tr style=\"text-align: right;\">\n",
       "      <th></th>\n",
       "      <th>% Transit Trips Accessed by Walking</th>\n",
       "    </tr>\n",
       "  </thead>\n",
       "  <tbody>\n",
       "    <tr>\n",
       "      <th>hh_disability_reg</th>\n",
       "      <td>89.4%</td>\n",
       "    </tr>\n",
       "    <tr>\n",
       "      <th>hh_elderly_reg</th>\n",
       "      <td>88.9%</td>\n",
       "    </tr>\n",
       "    <tr>\n",
       "      <th>hh_english_reg</th>\n",
       "      <td>89.4%</td>\n",
       "    </tr>\n",
       "    <tr>\n",
       "      <th>hh_poverty_reg</th>\n",
       "      <td>92.1%</td>\n",
       "    </tr>\n",
       "    <tr>\n",
       "      <th>hh_poverty_50</th>\n",
       "      <td>95.9%</td>\n",
       "    </tr>\n",
       "    <tr>\n",
       "      <th>hh_racial_reg</th>\n",
       "      <td>90.5%</td>\n",
       "    </tr>\n",
       "    <tr>\n",
       "      <th>hh_racial_50</th>\n",
       "      <td>91.3%</td>\n",
       "    </tr>\n",
       "    <tr>\n",
       "      <th>hh_youth_reg</th>\n",
       "      <td>80.7%</td>\n",
       "    </tr>\n",
       "  </tbody>\n",
       "</table>\n",
       "</div>"
      ],
      "text/plain": [
       "                   % Transit Trips Accessed by Walking\n",
       "hh_disability_reg                                89.4%\n",
       "hh_elderly_reg                                   88.9%\n",
       "hh_english_reg                                   89.4%\n",
       "hh_poverty_reg                                   92.1%\n",
       "hh_poverty_50                                    95.9%\n",
       "hh_racial_reg                                    90.5%\n",
       "hh_racial_50                                     91.3%\n",
       "hh_youth_reg                                     80.7%"
      ]
     },
     "execution_count": 43,
     "metadata": {},
     "output_type": "execute_result"
    }
   ],
   "source": [
    "pd.options.display.float_format = '{:0,.1%}'.format\n",
    "_df = df.copy()\n",
    "results_df = pd.DataFrame()\n",
    "list_50 = ['hh_racial','hh_poverty']\n",
    "for col in ['hh_disability','hh_elderly','hh_english','hh_poverty','hh_racial','hh_youth']:\n",
    "    for suffix in ['_reg', '_50']:\n",
    "        pnr_transit_trips = _df[(_df[col+suffix] == 1) & \n",
    "                                (_df['tmodetp'] == 'Park') &\n",
    "                                (_df['mode'] == 'Transit')]['trexpfac'].sum()\n",
    "        walk_transit_trips = _df[(_df[col+suffix] == 1) & \n",
    "                                  (_df['tmodetp'] == 'Transit') & \n",
    "                                  (_df['mode'] == 'Transit')]['trexpfac'].sum()\n",
    "        if (pnr_transit_trips > 0) & (walk_transit_trips > 0):\n",
    "            if suffix == '_reg' or col in list_50:\n",
    "                results_df.loc[col+suffix,'% Transit Trips Accessed by Walking'] = walk_transit_trips/(walk_transit_trips+pnr_transit_trips)\n",
    "# results_df.rename(columns={'_reg':'> Regional Average', '_50': '> 50%'}, inplace=True)\n",
    "results_df"
   ]
  },
  {
   "cell_type": "code",
   "execution_count": 44,
   "id": "2de0780a",
   "metadata": {
    "execution": {
     "iopub.execute_input": "2024-04-03T17:33:10.783580Z",
     "iopub.status.busy": "2024-04-03T17:33:10.783580Z",
     "iopub.status.idle": "2024-04-03T17:33:11.002283Z",
     "shell.execute_reply": "2024-04-03T17:33:11.002283Z"
    }
   },
   "outputs": [
    {
     "data": {
      "text/html": [
       "<div>\n",
       "<style scoped>\n",
       "    .dataframe tbody tr th:only-of-type {\n",
       "        vertical-align: middle;\n",
       "    }\n",
       "\n",
       "    .dataframe tbody tr th {\n",
       "        vertical-align: top;\n",
       "    }\n",
       "\n",
       "    .dataframe thead th {\n",
       "        text-align: right;\n",
       "    }\n",
       "</style>\n",
       "<table border=\"1\" class=\"dataframe\">\n",
       "  <thead>\n",
       "    <tr style=\"text-align: right;\">\n",
       "      <th></th>\n",
       "      <th>% Transit Trips Accessed by Walking</th>\n",
       "    </tr>\n",
       "  </thead>\n",
       "  <tbody>\n",
       "    <tr>\n",
       "      <th>NOT in hh_disability_reg</th>\n",
       "      <td>88.8%</td>\n",
       "    </tr>\n",
       "    <tr>\n",
       "      <th>NOT in hh_elderly_reg</th>\n",
       "      <td>89.1%</td>\n",
       "    </tr>\n",
       "    <tr>\n",
       "      <th>NOT in hh_english_reg</th>\n",
       "      <td>88.7%</td>\n",
       "    </tr>\n",
       "    <tr>\n",
       "      <th>NOT in hh_poverty_reg</th>\n",
       "      <td>86.1%</td>\n",
       "    </tr>\n",
       "    <tr>\n",
       "      <th>NOT in hh_poverty_50</th>\n",
       "      <td>88.7%</td>\n",
       "    </tr>\n",
       "    <tr>\n",
       "      <th>NOT in hh_racial_reg</th>\n",
       "      <td>87.4%</td>\n",
       "    </tr>\n",
       "    <tr>\n",
       "      <th>NOT in hh_racial_50</th>\n",
       "      <td>88.2%</td>\n",
       "    </tr>\n",
       "    <tr>\n",
       "      <th>NOT in hh_youth_reg</th>\n",
       "      <td>93.0%</td>\n",
       "    </tr>\n",
       "  </tbody>\n",
       "</table>\n",
       "</div>"
      ],
      "text/plain": [
       "                          % Transit Trips Accessed by Walking\n",
       "NOT in hh_disability_reg                                88.8%\n",
       "NOT in hh_elderly_reg                                   89.1%\n",
       "NOT in hh_english_reg                                   88.7%\n",
       "NOT in hh_poverty_reg                                   86.1%\n",
       "NOT in hh_poverty_50                                    88.7%\n",
       "NOT in hh_racial_reg                                    87.4%\n",
       "NOT in hh_racial_50                                     88.2%\n",
       "NOT in hh_youth_reg                                     93.0%"
      ]
     },
     "execution_count": 44,
     "metadata": {},
     "output_type": "execute_result"
    }
   ],
   "source": [
    "pd.options.display.float_format = '{:0,.1%}'.format\n",
    "_df = df.copy()\n",
    "results_df = pd.DataFrame()\n",
    "list_50 = ['hh_racial','hh_poverty']\n",
    "for col in ['hh_disability','hh_elderly','hh_english','hh_poverty','hh_racial','hh_youth']:\n",
    "    for suffix in ['_reg', '_50']:\n",
    "        pnr_transit_trips = _df[(_df[col+suffix] == 0) & \n",
    "                                (_df['tmodetp'] == 'Park') &\n",
    "                                (_df['mode'] == 'Transit')]['trexpfac'].sum()\n",
    "        walk_transit_trips = _df[(_df[col+suffix] == 0) & \n",
    "                                  (_df['tmodetp'] == 'Transit') & \n",
    "                                  (_df['mode'] == 'Transit')]['trexpfac'].sum()\n",
    "        if (pnr_transit_trips > 0) & (walk_transit_trips > 0):\n",
    "            if suffix == '_reg' or col in list_50:\n",
    "                results_df.loc[col+suffix,'% Transit Trips Accessed by Walking'] = walk_transit_trips/(walk_transit_trips+pnr_transit_trips)\n",
    "# results_df.rename(columns={'_reg':'> Regional Average', '_50': '> 50%'}, inplace=True)\n",
    "results_df.index = ['NOT in '+i for i in results_df.index]\n",
    "results_df"
   ]
  }
 ],
 "metadata": {
  "kernelspec": {
   "display_name": "Python 3",
   "language": "python",
   "name": "python3"
  },
  "language_info": {
   "codemirror_mode": {
    "name": "ipython",
    "version": 3
   },
   "file_extension": ".py",
   "mimetype": "text/x-python",
   "name": "python",
   "nbconvert_exporter": "python",
   "pygments_lexer": "ipython3",
   "version": "3.7.10"
  }
 },
 "nbformat": 4,
 "nbformat_minor": 5
}
