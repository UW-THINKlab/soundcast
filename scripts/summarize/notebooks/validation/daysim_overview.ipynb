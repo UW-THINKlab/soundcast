{
 "cells": [
  {
   "cell_type": "code",
   "execution_count": 1,
   "metadata": {
    "execution": {
     "iopub.execute_input": "2024-04-03T21:12:31.277566Z",
     "iopub.status.busy": "2024-04-03T21:12:31.277566Z",
     "iopub.status.idle": "2024-04-03T21:12:32.121103Z",
     "shell.execute_reply": "2024-04-03T21:12:32.121103Z"
    }
   },
   "outputs": [],
   "source": [
    "import warnings\n",
    "warnings.simplefilter(action='ignore', category=FutureWarning)\n",
    "import pandas as pd\n",
    "import os, sys\n",
    "%matplotlib inline\n",
    "\n",
    "from IPython.display import display, HTML\n",
    "\n",
    "if (sys.version_info < (3, 0)):\n",
    "    HTML('''<script>\n",
    "    code_show=true; \n",
    "    function code_toggle() {\n",
    "     if (code_show){\n",
    "     $('div.input').hide();\n",
    "     } else {\n",
    "     $('div.input').show();\n",
    "     }\n",
    "     code_show = !code_show\n",
    "    } \n",
    "    $( document ).ready(code_toggle);\n",
    "    </script>\n",
    "    <form action=\"javascript:code_toggle()\"><input type=\"submit\" value=\"Click here to toggle on/off the raw code.\"></form>''')\n"
   ]
  },
  {
   "cell_type": "code",
   "execution_count": 2,
   "metadata": {
    "execution": {
     "iopub.execute_input": "2024-04-03T21:12:32.121103Z",
     "iopub.status.busy": "2024-04-03T21:12:32.121103Z",
     "iopub.status.idle": "2024-04-03T21:12:32.136738Z",
     "shell.execute_reply": "2024-04-03T21:12:32.136738Z"
    }
   },
   "outputs": [],
   "source": [
    "working_dir = r'../../../../outputs/agg/dash'\n",
    "pd.options.display.float_format = '{:0,.0f}'.format\n",
    "format_percent = \"{:,.2%}\".format"
   ]
  },
  {
   "cell_type": "code",
   "execution_count": 3,
   "metadata": {
    "execution": {
     "iopub.execute_input": "2024-04-03T21:12:32.136738Z",
     "iopub.status.busy": "2024-04-03T21:12:32.136738Z",
     "iopub.status.idle": "2024-04-03T21:12:32.152343Z",
     "shell.execute_reply": "2024-04-03T21:12:32.152343Z"
    }
   },
   "outputs": [],
   "source": [
    "def load_data(fname):\n",
    "    \"\"\" open and join model and survey data \"\"\"\n",
    "\n",
    "    df_model = pd.read_csv(os.path.join(working_dir,fname+'.csv'))\n",
    "    df_model['source'] = 'model'\n",
    "    df_survey = pd.read_csv(os.path.join(working_dir,'survey',fname+'.csv'))\n",
    "    df_survey['source'] = 'survey'\n",
    "    df = df_model.append(df_survey)\n",
    "\n",
    "    return df"
   ]
  },
  {
   "cell_type": "markdown",
   "metadata": {},
   "source": [
    "# Total Persons"
   ]
  },
  {
   "cell_type": "code",
   "execution_count": 4,
   "metadata": {
    "execution": {
     "iopub.execute_input": "2024-04-03T21:12:32.152343Z",
     "iopub.status.busy": "2024-04-03T21:12:32.152343Z",
     "iopub.status.idle": "2024-04-03T21:12:32.230451Z",
     "shell.execute_reply": "2024-04-03T21:12:32.230451Z"
    }
   },
   "outputs": [
    {
     "data": {
      "text/html": [
       "<div>\n",
       "<style scoped>\n",
       "    .dataframe tbody tr th:only-of-type {\n",
       "        vertical-align: middle;\n",
       "    }\n",
       "\n",
       "    .dataframe tbody tr th {\n",
       "        vertical-align: top;\n",
       "    }\n",
       "\n",
       "    .dataframe thead th {\n",
       "        text-align: right;\n",
       "    }\n",
       "</style>\n",
       "<table border=\"1\" class=\"dataframe\">\n",
       "  <thead>\n",
       "    <tr style=\"text-align: right;\">\n",
       "      <th>source</th>\n",
       "      <th>model</th>\n",
       "      <th>survey</th>\n",
       "    </tr>\n",
       "  </thead>\n",
       "  <tbody>\n",
       "    <tr>\n",
       "      <th>psexpfac</th>\n",
       "      <td>4,356,019</td>\n",
       "      <td>3,938,764</td>\n",
       "    </tr>\n",
       "  </tbody>\n",
       "</table>\n",
       "</div>"
      ],
      "text/plain": [
       "source       model    survey\n",
       "psexpfac 4,356,019 3,938,764"
      ]
     },
     "execution_count": 4,
     "metadata": {},
     "output_type": "execute_result"
    }
   ],
   "source": [
    "df = load_data('person_type')\n",
    "df.groupby('source').sum()[['psexpfac']].T"
   ]
  },
  {
   "cell_type": "markdown",
   "metadata": {},
   "source": [
    "# Total Households"
   ]
  },
  {
   "cell_type": "code",
   "execution_count": 5,
   "metadata": {
    "execution": {
     "iopub.execute_input": "2024-04-03T21:12:32.230451Z",
     "iopub.status.busy": "2024-04-03T21:12:32.230451Z",
     "iopub.status.idle": "2024-04-03T21:12:32.261693Z",
     "shell.execute_reply": "2024-04-03T21:12:32.261693Z"
    }
   },
   "outputs": [
    {
     "data": {
      "text/html": [
       "<div>\n",
       "<style scoped>\n",
       "    .dataframe tbody tr th:only-of-type {\n",
       "        vertical-align: middle;\n",
       "    }\n",
       "\n",
       "    .dataframe tbody tr th {\n",
       "        vertical-align: top;\n",
       "    }\n",
       "\n",
       "    .dataframe thead th {\n",
       "        text-align: right;\n",
       "    }\n",
       "</style>\n",
       "<table border=\"1\" class=\"dataframe\">\n",
       "  <thead>\n",
       "    <tr style=\"text-align: right;\">\n",
       "      <th>source</th>\n",
       "      <th>model</th>\n",
       "      <th>survey</th>\n",
       "    </tr>\n",
       "  </thead>\n",
       "  <tbody>\n",
       "    <tr>\n",
       "      <th>hhexpfac</th>\n",
       "      <td>1,736,129</td>\n",
       "      <td>1,660,315</td>\n",
       "    </tr>\n",
       "  </tbody>\n",
       "</table>\n",
       "</div>"
      ],
      "text/plain": [
       "source       model    survey\n",
       "hhexpfac 1,736,129 1,660,315"
      ]
     },
     "execution_count": 5,
     "metadata": {},
     "output_type": "execute_result"
    }
   ],
   "source": [
    "df = load_data('household_size_vehs_workers')\n",
    "df.groupby('source').sum()[['hhexpfac']].T"
   ]
  },
  {
   "cell_type": "markdown",
   "metadata": {},
   "source": [
    "# Total Trips"
   ]
  },
  {
   "cell_type": "code",
   "execution_count": 6,
   "metadata": {
    "execution": {
     "iopub.execute_input": "2024-04-03T21:12:32.261693Z",
     "iopub.status.busy": "2024-04-03T21:12:32.261693Z",
     "iopub.status.idle": "2024-04-03T21:12:32.324179Z",
     "shell.execute_reply": "2024-04-03T21:12:32.324179Z"
    }
   },
   "outputs": [
    {
     "data": {
      "text/html": [
       "<div>\n",
       "<style scoped>\n",
       "    .dataframe tbody tr th:only-of-type {\n",
       "        vertical-align: middle;\n",
       "    }\n",
       "\n",
       "    .dataframe tbody tr th {\n",
       "        vertical-align: top;\n",
       "    }\n",
       "\n",
       "    .dataframe thead th {\n",
       "        text-align: right;\n",
       "    }\n",
       "</style>\n",
       "<table border=\"1\" class=\"dataframe\">\n",
       "  <thead>\n",
       "    <tr style=\"text-align: right;\">\n",
       "      <th>source</th>\n",
       "      <th>model</th>\n",
       "      <th>survey</th>\n",
       "    </tr>\n",
       "  </thead>\n",
       "  <tbody>\n",
       "    <tr>\n",
       "      <th>trexpfac</th>\n",
       "      <td>17,002,014</td>\n",
       "      <td>14,231,730</td>\n",
       "    </tr>\n",
       "  </tbody>\n",
       "</table>\n",
       "</div>"
      ],
      "text/plain": [
       "source        model     survey\n",
       "trexpfac 17,002,014 14,231,730"
      ]
     },
     "execution_count": 6,
     "metadata": {},
     "output_type": "execute_result"
    }
   ],
   "source": [
    "df = load_data('trip_total')\n",
    "df.groupby('source').sum()[['trexpfac']].T"
   ]
  },
  {
   "cell_type": "markdown",
   "metadata": {},
   "source": [
    "# Total Tours"
   ]
  },
  {
   "cell_type": "code",
   "execution_count": 7,
   "metadata": {
    "execution": {
     "iopub.execute_input": "2024-04-03T21:12:32.324179Z",
     "iopub.status.busy": "2024-04-03T21:12:32.324179Z",
     "iopub.status.idle": "2024-04-03T21:12:32.371045Z",
     "shell.execute_reply": "2024-04-03T21:12:32.371045Z"
    }
   },
   "outputs": [
    {
     "data": {
      "text/html": [
       "<div>\n",
       "<style scoped>\n",
       "    .dataframe tbody tr th:only-of-type {\n",
       "        vertical-align: middle;\n",
       "    }\n",
       "\n",
       "    .dataframe tbody tr th {\n",
       "        vertical-align: top;\n",
       "    }\n",
       "\n",
       "    .dataframe thead th {\n",
       "        text-align: right;\n",
       "    }\n",
       "</style>\n",
       "<table border=\"1\" class=\"dataframe\">\n",
       "  <thead>\n",
       "    <tr style=\"text-align: right;\">\n",
       "      <th>source</th>\n",
       "      <th>model</th>\n",
       "      <th>survey</th>\n",
       "    </tr>\n",
       "  </thead>\n",
       "  <tbody>\n",
       "    <tr>\n",
       "      <th>toexpfac</th>\n",
       "      <td>6,051,800</td>\n",
       "      <td>5,095,327</td>\n",
       "    </tr>\n",
       "  </tbody>\n",
       "</table>\n",
       "</div>"
      ],
      "text/plain": [
       "source       model    survey\n",
       "toexpfac 6,051,800 5,095,327"
      ]
     },
     "execution_count": 7,
     "metadata": {},
     "output_type": "execute_result"
    }
   ],
   "source": [
    "df = load_data('tour_purpose_mode')\n",
    "df.groupby('source').sum()[['toexpfac']].T"
   ]
  },
  {
   "cell_type": "markdown",
   "metadata": {},
   "source": [
    "## Average Household Size"
   ]
  },
  {
   "cell_type": "code",
   "execution_count": 8,
   "metadata": {
    "execution": {
     "iopub.execute_input": "2024-04-03T21:12:32.371045Z",
     "iopub.status.busy": "2024-04-03T21:12:32.371045Z",
     "iopub.status.idle": "2024-04-03T21:12:32.433564Z",
     "shell.execute_reply": "2024-04-03T21:12:32.433564Z"
    }
   },
   "outputs": [
    {
     "data": {
      "text/html": [
       "<div>\n",
       "<style scoped>\n",
       "    .dataframe tbody tr th:only-of-type {\n",
       "        vertical-align: middle;\n",
       "    }\n",
       "\n",
       "    .dataframe tbody tr th {\n",
       "        vertical-align: top;\n",
       "    }\n",
       "\n",
       "    .dataframe thead th {\n",
       "        text-align: right;\n",
       "    }\n",
       "</style>\n",
       "<table border=\"1\" class=\"dataframe\">\n",
       "  <thead>\n",
       "    <tr style=\"text-align: right;\">\n",
       "      <th></th>\n",
       "      <th>avg_hh_size</th>\n",
       "    </tr>\n",
       "    <tr>\n",
       "      <th>source</th>\n",
       "      <th></th>\n",
       "    </tr>\n",
       "  </thead>\n",
       "  <tbody>\n",
       "    <tr>\n",
       "      <th>model</th>\n",
       "      <td>2.51</td>\n",
       "    </tr>\n",
       "    <tr>\n",
       "      <th>survey</th>\n",
       "      <td>2.48</td>\n",
       "    </tr>\n",
       "  </tbody>\n",
       "</table>\n",
       "</div>"
      ],
      "text/plain": [
       "        avg_hh_size\n",
       "source             \n",
       "model          2.51\n",
       "survey         2.48"
      ]
     },
     "execution_count": 8,
     "metadata": {},
     "output_type": "execute_result"
    }
   ],
   "source": [
    "pd.options.display.float_format = '{:0,.2f}'.format\n",
    "df = load_data('household_size_vehs_workers')\n",
    "pd.DataFrame(\n",
    "    df.groupby('source').apply(\n",
    "        lambda row: ((row['hhsize']*1.0*row['hhexpfac']*1.0).sum())/row['hhexpfac'].sum()*1.0),\n",
    "        columns=['avg_hh_size'])"
   ]
  },
  {
   "cell_type": "markdown",
   "metadata": {},
   "source": [
    "## Average Trips per Person"
   ]
  },
  {
   "cell_type": "code",
   "execution_count": null,
   "metadata": {},
   "outputs": [],
   "source": []
  },
  {
   "cell_type": "markdown",
   "metadata": {},
   "source": [
    "## Average Distance to Work"
   ]
  },
  {
   "cell_type": "code",
   "execution_count": 9,
   "metadata": {
    "execution": {
     "iopub.execute_input": "2024-04-03T21:12:32.433564Z",
     "iopub.status.busy": "2024-04-03T21:12:32.433564Z",
     "iopub.status.idle": "2024-04-03T21:12:32.480410Z",
     "shell.execute_reply": "2024-04-03T21:12:32.480410Z"
    }
   },
   "outputs": [
    {
     "data": {
      "text/html": [
       "<div>\n",
       "<style scoped>\n",
       "    .dataframe tbody tr th:only-of-type {\n",
       "        vertical-align: middle;\n",
       "    }\n",
       "\n",
       "    .dataframe tbody tr th {\n",
       "        vertical-align: top;\n",
       "    }\n",
       "\n",
       "    .dataframe thead th {\n",
       "        text-align: right;\n",
       "    }\n",
       "</style>\n",
       "<table border=\"1\" class=\"dataframe\">\n",
       "  <thead>\n",
       "    <tr style=\"text-align: right;\">\n",
       "      <th></th>\n",
       "      <th></th>\n",
       "      <th>travdist</th>\n",
       "      <th>travtime</th>\n",
       "      <th>travcost</th>\n",
       "    </tr>\n",
       "    <tr>\n",
       "      <th>mode</th>\n",
       "      <th>source</th>\n",
       "      <th></th>\n",
       "      <th></th>\n",
       "      <th></th>\n",
       "    </tr>\n",
       "  </thead>\n",
       "  <tbody>\n",
       "    <tr>\n",
       "      <th rowspan=\"2\" valign=\"top\">Bike</th>\n",
       "      <th>model</th>\n",
       "      <td>4.87</td>\n",
       "      <td>32.47</td>\n",
       "      <td>0.00</td>\n",
       "    </tr>\n",
       "    <tr>\n",
       "      <th>survey</th>\n",
       "      <td>4.43</td>\n",
       "      <td>26.63</td>\n",
       "      <td>0.00</td>\n",
       "    </tr>\n",
       "    <tr>\n",
       "      <th rowspan=\"2\" valign=\"top\">HOV2</th>\n",
       "      <th>model</th>\n",
       "      <td>8.13</td>\n",
       "      <td>18.98</td>\n",
       "      <td>1.81</td>\n",
       "    </tr>\n",
       "    <tr>\n",
       "      <th>survey</th>\n",
       "      <td>6.97</td>\n",
       "      <td>16.68</td>\n",
       "      <td>0.04</td>\n",
       "    </tr>\n",
       "    <tr>\n",
       "      <th rowspan=\"2\" valign=\"top\">HOV3+</th>\n",
       "      <th>model</th>\n",
       "      <td>9.07</td>\n",
       "      <td>20.39</td>\n",
       "      <td>2.01</td>\n",
       "    </tr>\n",
       "    <tr>\n",
       "      <th>survey</th>\n",
       "      <td>10.42</td>\n",
       "      <td>20.52</td>\n",
       "      <td>0.11</td>\n",
       "    </tr>\n",
       "    <tr>\n",
       "      <th rowspan=\"2\" valign=\"top\">SOV</th>\n",
       "      <th>model</th>\n",
       "      <td>7.95</td>\n",
       "      <td>19.39</td>\n",
       "      <td>1.71</td>\n",
       "    </tr>\n",
       "    <tr>\n",
       "      <th>survey</th>\n",
       "      <td>8.53</td>\n",
       "      <td>19.48</td>\n",
       "      <td>0.16</td>\n",
       "    </tr>\n",
       "    <tr>\n",
       "      <th>School Bus</th>\n",
       "      <th>model</th>\n",
       "      <td>3.17</td>\n",
       "      <td>10.46</td>\n",
       "      <td>0.63</td>\n",
       "    </tr>\n",
       "    <tr>\n",
       "      <th rowspan=\"2\" valign=\"top\">TNC</th>\n",
       "      <th>model</th>\n",
       "      <td>7.16</td>\n",
       "      <td>19.13</td>\n",
       "      <td>1.62</td>\n",
       "    </tr>\n",
       "    <tr>\n",
       "      <th>survey</th>\n",
       "      <td>3.71</td>\n",
       "      <td>13.44</td>\n",
       "      <td>0.00</td>\n",
       "    </tr>\n",
       "    <tr>\n",
       "      <th rowspan=\"2\" valign=\"top\">Transit</th>\n",
       "      <th>model</th>\n",
       "      <td>10.44</td>\n",
       "      <td>39.99</td>\n",
       "      <td>2.70</td>\n",
       "    </tr>\n",
       "    <tr>\n",
       "      <th>survey</th>\n",
       "      <td>7.44</td>\n",
       "      <td>32.48</td>\n",
       "      <td>3.12</td>\n",
       "    </tr>\n",
       "    <tr>\n",
       "      <th rowspan=\"2\" valign=\"top\">Walk</th>\n",
       "      <th>model</th>\n",
       "      <td>0.70</td>\n",
       "      <td>14.05</td>\n",
       "      <td>0.00</td>\n",
       "    </tr>\n",
       "    <tr>\n",
       "      <th>survey</th>\n",
       "      <td>0.87</td>\n",
       "      <td>17.51</td>\n",
       "      <td>0.00</td>\n",
       "    </tr>\n",
       "  </tbody>\n",
       "</table>\n",
       "</div>"
      ],
      "text/plain": [
       "                   travdist  travtime  travcost\n",
       "mode       source                              \n",
       "Bike       model       4.87     32.47      0.00\n",
       "           survey      4.43     26.63      0.00\n",
       "HOV2       model       8.13     18.98      1.81\n",
       "           survey      6.97     16.68      0.04\n",
       "HOV3+      model       9.07     20.39      2.01\n",
       "           survey     10.42     20.52      0.11\n",
       "SOV        model       7.95     19.39      1.71\n",
       "           survey      8.53     19.48      0.16\n",
       "School Bus model       3.17     10.46      0.63\n",
       "TNC        model       7.16     19.13      1.62\n",
       "           survey      3.71     13.44      0.00\n",
       "Transit    model      10.44     39.99      2.70\n",
       "           survey      7.44     32.48      3.12\n",
       "Walk       model       0.70     14.05      0.00\n",
       "           survey      0.87     17.51      0.00"
      ]
     },
     "execution_count": 9,
     "metadata": {},
     "output_type": "execute_result"
    }
   ],
   "source": [
    "df = load_data('trip_averages')\n",
    "df[df['dpurp'] == 'Work'].groupby(['mode','source']).mean()"
   ]
  },
  {
   "cell_type": "markdown",
   "metadata": {},
   "source": [
    "## Average Distance to School"
   ]
  },
  {
   "cell_type": "code",
   "execution_count": 10,
   "metadata": {
    "execution": {
     "iopub.execute_input": "2024-04-03T21:12:32.480410Z",
     "iopub.status.busy": "2024-04-03T21:12:32.480410Z",
     "iopub.status.idle": "2024-04-03T21:12:32.511636Z",
     "shell.execute_reply": "2024-04-03T21:12:32.511636Z"
    }
   },
   "outputs": [
    {
     "data": {
      "text/html": [
       "<div>\n",
       "<style scoped>\n",
       "    .dataframe tbody tr th:only-of-type {\n",
       "        vertical-align: middle;\n",
       "    }\n",
       "\n",
       "    .dataframe tbody tr th {\n",
       "        vertical-align: top;\n",
       "    }\n",
       "\n",
       "    .dataframe thead th {\n",
       "        text-align: right;\n",
       "    }\n",
       "</style>\n",
       "<table border=\"1\" class=\"dataframe\">\n",
       "  <thead>\n",
       "    <tr style=\"text-align: right;\">\n",
       "      <th></th>\n",
       "      <th></th>\n",
       "      <th>travdist</th>\n",
       "      <th>travtime</th>\n",
       "      <th>travcost</th>\n",
       "    </tr>\n",
       "    <tr>\n",
       "      <th>mode</th>\n",
       "      <th>source</th>\n",
       "      <th></th>\n",
       "      <th></th>\n",
       "      <th></th>\n",
       "    </tr>\n",
       "  </thead>\n",
       "  <tbody>\n",
       "    <tr>\n",
       "      <th rowspan=\"2\" valign=\"top\">Bike</th>\n",
       "      <th>model</th>\n",
       "      <td>2.59</td>\n",
       "      <td>17.25</td>\n",
       "      <td>0.00</td>\n",
       "    </tr>\n",
       "    <tr>\n",
       "      <th>survey</th>\n",
       "      <td>2.58</td>\n",
       "      <td>15.48</td>\n",
       "      <td>0.00</td>\n",
       "    </tr>\n",
       "    <tr>\n",
       "      <th rowspan=\"2\" valign=\"top\">HOV2</th>\n",
       "      <th>model</th>\n",
       "      <td>3.46</td>\n",
       "      <td>10.77</td>\n",
       "      <td>0.71</td>\n",
       "    </tr>\n",
       "    <tr>\n",
       "      <th>survey</th>\n",
       "      <td>3.61</td>\n",
       "      <td>11.21</td>\n",
       "      <td>0.08</td>\n",
       "    </tr>\n",
       "    <tr>\n",
       "      <th rowspan=\"2\" valign=\"top\">HOV3+</th>\n",
       "      <th>model</th>\n",
       "      <td>3.73</td>\n",
       "      <td>11.18</td>\n",
       "      <td>0.77</td>\n",
       "    </tr>\n",
       "    <tr>\n",
       "      <th>survey</th>\n",
       "      <td>4.10</td>\n",
       "      <td>11.82</td>\n",
       "      <td>0.01</td>\n",
       "    </tr>\n",
       "    <tr>\n",
       "      <th rowspan=\"2\" valign=\"top\">SOV</th>\n",
       "      <th>model</th>\n",
       "      <td>5.83</td>\n",
       "      <td>15.88</td>\n",
       "      <td>1.23</td>\n",
       "    </tr>\n",
       "    <tr>\n",
       "      <th>survey</th>\n",
       "      <td>8.31</td>\n",
       "      <td>18.11</td>\n",
       "      <td>0.30</td>\n",
       "    </tr>\n",
       "    <tr>\n",
       "      <th rowspan=\"2\" valign=\"top\">School Bus</th>\n",
       "      <th>model</th>\n",
       "      <td>3.50</td>\n",
       "      <td>10.79</td>\n",
       "      <td>0.72</td>\n",
       "    </tr>\n",
       "    <tr>\n",
       "      <th>survey</th>\n",
       "      <td>3.30</td>\n",
       "      <td>10.34</td>\n",
       "      <td>0.00</td>\n",
       "    </tr>\n",
       "    <tr>\n",
       "      <th rowspan=\"2\" valign=\"top\">TNC</th>\n",
       "      <th>model</th>\n",
       "      <td>3.46</td>\n",
       "      <td>12.93</td>\n",
       "      <td>0.69</td>\n",
       "    </tr>\n",
       "    <tr>\n",
       "      <th>survey</th>\n",
       "      <td>2.24</td>\n",
       "      <td>14.53</td>\n",
       "      <td>0.00</td>\n",
       "    </tr>\n",
       "    <tr>\n",
       "      <th rowspan=\"2\" valign=\"top\">Transit</th>\n",
       "      <th>model</th>\n",
       "      <td>5.46</td>\n",
       "      <td>35.53</td>\n",
       "      <td>0.19</td>\n",
       "    </tr>\n",
       "    <tr>\n",
       "      <th>survey</th>\n",
       "      <td>8.06</td>\n",
       "      <td>24.02</td>\n",
       "      <td>3.04</td>\n",
       "    </tr>\n",
       "    <tr>\n",
       "      <th rowspan=\"2\" valign=\"top\">Walk</th>\n",
       "      <th>model</th>\n",
       "      <td>1.26</td>\n",
       "      <td>25.27</td>\n",
       "      <td>0.00</td>\n",
       "    </tr>\n",
       "    <tr>\n",
       "      <th>survey</th>\n",
       "      <td>0.75</td>\n",
       "      <td>15.00</td>\n",
       "      <td>0.00</td>\n",
       "    </tr>\n",
       "  </tbody>\n",
       "</table>\n",
       "</div>"
      ],
      "text/plain": [
       "                   travdist  travtime  travcost\n",
       "mode       source                              \n",
       "Bike       model       2.59     17.25      0.00\n",
       "           survey      2.58     15.48      0.00\n",
       "HOV2       model       3.46     10.77      0.71\n",
       "           survey      3.61     11.21      0.08\n",
       "HOV3+      model       3.73     11.18      0.77\n",
       "           survey      4.10     11.82      0.01\n",
       "SOV        model       5.83     15.88      1.23\n",
       "           survey      8.31     18.11      0.30\n",
       "School Bus model       3.50     10.79      0.72\n",
       "           survey      3.30     10.34      0.00\n",
       "TNC        model       3.46     12.93      0.69\n",
       "           survey      2.24     14.53      0.00\n",
       "Transit    model       5.46     35.53      0.19\n",
       "           survey      8.06     24.02      3.04\n",
       "Walk       model       1.26     25.27      0.00\n",
       "           survey      0.75     15.00      0.00"
      ]
     },
     "execution_count": 10,
     "metadata": {},
     "output_type": "execute_result"
    }
   ],
   "source": [
    "df[df['dpurp'] == 'School'].groupby(['mode','source']).mean()"
   ]
  },
  {
   "cell_type": "markdown",
   "metadata": {},
   "source": [
    "## Transit Pass Ownership"
   ]
  },
  {
   "cell_type": "code",
   "execution_count": 11,
   "metadata": {
    "execution": {
     "iopub.execute_input": "2024-04-03T21:12:32.511636Z",
     "iopub.status.busy": "2024-04-03T21:12:32.511636Z",
     "iopub.status.idle": "2024-04-03T21:12:32.574052Z",
     "shell.execute_reply": "2024-04-03T21:12:32.574052Z"
    }
   },
   "outputs": [
    {
     "data": {
      "text/html": [
       "<div>\n",
       "<style scoped>\n",
       "    .dataframe tbody tr th:only-of-type {\n",
       "        vertical-align: middle;\n",
       "    }\n",
       "\n",
       "    .dataframe tbody tr th {\n",
       "        vertical-align: top;\n",
       "    }\n",
       "\n",
       "    .dataframe thead th {\n",
       "        text-align: right;\n",
       "    }\n",
       "</style>\n",
       "<table border=\"1\" class=\"dataframe\">\n",
       "  <thead>\n",
       "    <tr style=\"text-align: right;\">\n",
       "      <th>source</th>\n",
       "      <th>model</th>\n",
       "      <th>survey</th>\n",
       "    </tr>\n",
       "    <tr>\n",
       "      <th>ptpass</th>\n",
       "      <th></th>\n",
       "      <th></th>\n",
       "    </tr>\n",
       "  </thead>\n",
       "  <tbody>\n",
       "    <tr>\n",
       "      <th>0</th>\n",
       "      <td>3,443,087</td>\n",
       "      <td>2,855,094</td>\n",
       "    </tr>\n",
       "    <tr>\n",
       "      <th>1</th>\n",
       "      <td>912,932</td>\n",
       "      <td>1,083,669</td>\n",
       "    </tr>\n",
       "  </tbody>\n",
       "</table>\n",
       "</div>"
      ],
      "text/plain": [
       "source     model    survey\n",
       "ptpass                    \n",
       "0      3,443,087 2,855,094\n",
       "1        912,932 1,083,669"
      ]
     },
     "execution_count": 11,
     "metadata": {},
     "output_type": "execute_result"
    }
   ],
   "source": [
    "pd.options.display.float_format = '{:0,.0f}'.format\n",
    "df = load_data('parking_transit_pass')\n",
    "pd.pivot_table(df, index='ptpass',columns='source',values='psexpfac',aggfunc='sum')"
   ]
  },
  {
   "cell_type": "code",
   "execution_count": 12,
   "metadata": {
    "execution": {
     "iopub.execute_input": "2024-04-03T21:12:32.574052Z",
     "iopub.status.busy": "2024-04-03T21:12:32.574052Z",
     "iopub.status.idle": "2024-04-03T21:12:32.605294Z",
     "shell.execute_reply": "2024-04-03T21:12:32.605294Z"
    }
   },
   "outputs": [
    {
     "data": {
      "text/html": [
       "<div>\n",
       "<style scoped>\n",
       "    .dataframe tbody tr th:only-of-type {\n",
       "        vertical-align: middle;\n",
       "    }\n",
       "\n",
       "    .dataframe tbody tr th {\n",
       "        vertical-align: top;\n",
       "    }\n",
       "\n",
       "    .dataframe thead th {\n",
       "        text-align: right;\n",
       "    }\n",
       "</style>\n",
       "<table border=\"1\" class=\"dataframe\">\n",
       "  <thead>\n",
       "    <tr style=\"text-align: right;\">\n",
       "      <th>source</th>\n",
       "      <th>model</th>\n",
       "      <th>survey</th>\n",
       "    </tr>\n",
       "    <tr>\n",
       "      <th>pptyp</th>\n",
       "      <th></th>\n",
       "      <th></th>\n",
       "    </tr>\n",
       "  </thead>\n",
       "  <tbody>\n",
       "    <tr>\n",
       "      <th>Child Age 0-4</th>\n",
       "      <td>NaN</td>\n",
       "      <td>228,256</td>\n",
       "    </tr>\n",
       "    <tr>\n",
       "      <th>Child Age 5-15</th>\n",
       "      <td>557,103</td>\n",
       "      <td>514,797</td>\n",
       "    </tr>\n",
       "    <tr>\n",
       "      <th>Full-Time Worker</th>\n",
       "      <td>151,907</td>\n",
       "      <td>130,061</td>\n",
       "    </tr>\n",
       "    <tr>\n",
       "      <th>High School Student Age 16+</th>\n",
       "      <td>127,563</td>\n",
       "      <td>167,806</td>\n",
       "    </tr>\n",
       "    <tr>\n",
       "      <th>Non-Working Adult Age 65+</th>\n",
       "      <td>62</td>\n",
       "      <td>37</td>\n",
       "    </tr>\n",
       "    <tr>\n",
       "      <th>Non-Working Adult Age &lt;65</th>\n",
       "      <td>2,490</td>\n",
       "      <td>9,840</td>\n",
       "    </tr>\n",
       "    <tr>\n",
       "      <th>Part-Time Worker</th>\n",
       "      <td>2,409</td>\n",
       "      <td>5,775</td>\n",
       "    </tr>\n",
       "    <tr>\n",
       "      <th>University Student</th>\n",
       "      <td>71,398</td>\n",
       "      <td>27,096</td>\n",
       "    </tr>\n",
       "  </tbody>\n",
       "</table>\n",
       "</div>"
      ],
      "text/plain": [
       "source                        model  survey\n",
       "pptyp                                      \n",
       "Child Age 0-4                   NaN 228,256\n",
       "Child Age 5-15              557,103 514,797\n",
       "Full-Time Worker            151,907 130,061\n",
       "High School Student Age 16+ 127,563 167,806\n",
       "Non-Working Adult Age 65+        62      37\n",
       "Non-Working Adult Age <65     2,490   9,840\n",
       "Part-Time Worker              2,409   5,775\n",
       "University Student           71,398  27,096"
      ]
     },
     "execution_count": 12,
     "metadata": {},
     "output_type": "execute_result"
    }
   ],
   "source": [
    "pd.pivot_table(df[df['ptpass']==1], \n",
    "               index='pptyp',columns='source',values='psexpfac',aggfunc='sum')"
   ]
  },
  {
   "cell_type": "markdown",
   "metadata": {},
   "source": [
    "# Auto Ownership"
   ]
  },
  {
   "cell_type": "code",
   "execution_count": 13,
   "metadata": {
    "execution": {
     "iopub.execute_input": "2024-04-03T21:12:32.605294Z",
     "iopub.status.busy": "2024-04-03T21:12:32.605294Z",
     "iopub.status.idle": "2024-04-03T21:12:32.667780Z",
     "shell.execute_reply": "2024-04-03T21:12:32.636537Z"
    }
   },
   "outputs": [
    {
     "data": {
      "text/html": [
       "<div>\n",
       "<style scoped>\n",
       "    .dataframe tbody tr th:only-of-type {\n",
       "        vertical-align: middle;\n",
       "    }\n",
       "\n",
       "    .dataframe tbody tr th {\n",
       "        vertical-align: top;\n",
       "    }\n",
       "\n",
       "    .dataframe thead th {\n",
       "        text-align: right;\n",
       "    }\n",
       "</style>\n",
       "<table border=\"1\" class=\"dataframe\">\n",
       "  <thead>\n",
       "    <tr style=\"text-align: right;\">\n",
       "      <th>source</th>\n",
       "      <th>model</th>\n",
       "      <th>survey</th>\n",
       "    </tr>\n",
       "    <tr>\n",
       "      <th>hhvehs</th>\n",
       "      <th></th>\n",
       "      <th></th>\n",
       "    </tr>\n",
       "  </thead>\n",
       "  <tbody>\n",
       "    <tr>\n",
       "      <th>-1.0</th>\n",
       "      <td>NaN</td>\n",
       "      <td>626</td>\n",
       "    </tr>\n",
       "    <tr>\n",
       "      <th>0.0</th>\n",
       "      <td>117,045</td>\n",
       "      <td>118,883</td>\n",
       "    </tr>\n",
       "    <tr>\n",
       "      <th>1.0</th>\n",
       "      <td>466,147</td>\n",
       "      <td>331,977</td>\n",
       "    </tr>\n",
       "    <tr>\n",
       "      <th>2.0</th>\n",
       "      <td>450,950</td>\n",
       "      <td>445,744</td>\n",
       "    </tr>\n",
       "    <tr>\n",
       "      <th>3+</th>\n",
       "      <td>255,840</td>\n",
       "      <td>234,438</td>\n",
       "    </tr>\n",
       "  </tbody>\n",
       "</table>\n",
       "</div>"
      ],
      "text/plain": [
       "source   model  survey\n",
       "hhvehs                \n",
       "-1.0       NaN     626\n",
       "0.0    117,045 118,883\n",
       "1.0    466,147 331,977\n",
       "2.0    450,950 445,744\n",
       "3+     255,840 234,438"
      ]
     },
     "execution_count": 13,
     "metadata": {},
     "output_type": "execute_result"
    }
   ],
   "source": [
    "df = load_data('auto_ownership')\n",
    "df.loc[df['hhvehs'] >= 3, 'hhvehs'] = '3+'\n",
    "df.pivot_table(index='hhvehs', columns='source', aggfunc='sum', values='hhexpfac')"
   ]
  },
  {
   "cell_type": "markdown",
   "metadata": {},
   "source": [
    "## By Income"
   ]
  },
  {
   "cell_type": "code",
   "execution_count": 14,
   "metadata": {
    "execution": {
     "iopub.execute_input": "2024-04-03T21:12:32.667780Z",
     "iopub.status.busy": "2024-04-03T21:12:32.667780Z",
     "iopub.status.idle": "2024-04-03T21:12:32.714646Z",
     "shell.execute_reply": "2024-04-03T21:12:32.714646Z"
    }
   },
   "outputs": [
    {
     "data": {
      "text/html": [
       "<div>\n",
       "<style scoped>\n",
       "    .dataframe tbody tr th:only-of-type {\n",
       "        vertical-align: middle;\n",
       "    }\n",
       "\n",
       "    .dataframe tbody tr th {\n",
       "        vertical-align: top;\n",
       "    }\n",
       "\n",
       "    .dataframe thead th {\n",
       "        text-align: right;\n",
       "    }\n",
       "</style>\n",
       "<table border=\"1\" class=\"dataframe\">\n",
       "  <thead>\n",
       "    <tr style=\"text-align: right;\">\n",
       "      <th></th>\n",
       "      <th>income_bin</th>\n",
       "      <th>0-$20k</th>\n",
       "      <th>$20-40k</th>\n",
       "      <th>$40-60k</th>\n",
       "      <th>$60-75k</th>\n",
       "      <th>&gt;$75k</th>\n",
       "    </tr>\n",
       "    <tr>\n",
       "      <th>hhvehs</th>\n",
       "      <th>source</th>\n",
       "      <th></th>\n",
       "      <th></th>\n",
       "      <th></th>\n",
       "      <th></th>\n",
       "      <th></th>\n",
       "    </tr>\n",
       "  </thead>\n",
       "  <tbody>\n",
       "    <tr>\n",
       "      <th rowspan=\"2\" valign=\"top\">-1.0</th>\n",
       "      <th>model</th>\n",
       "      <td>0</td>\n",
       "      <td>0</td>\n",
       "      <td>0</td>\n",
       "      <td>0</td>\n",
       "      <td>0</td>\n",
       "    </tr>\n",
       "    <tr>\n",
       "      <th>survey</th>\n",
       "      <td>0</td>\n",
       "      <td>0</td>\n",
       "      <td>0</td>\n",
       "      <td>0</td>\n",
       "      <td>626</td>\n",
       "    </tr>\n",
       "    <tr>\n",
       "      <th rowspan=\"2\" valign=\"top\">0.0</th>\n",
       "      <th>model</th>\n",
       "      <td>47,710</td>\n",
       "      <td>17,401</td>\n",
       "      <td>11,447</td>\n",
       "      <td>4,367</td>\n",
       "      <td>36,106</td>\n",
       "    </tr>\n",
       "    <tr>\n",
       "      <th>survey</th>\n",
       "      <td>49,380</td>\n",
       "      <td>30,866</td>\n",
       "      <td>9,139</td>\n",
       "      <td>0</td>\n",
       "      <td>29,499</td>\n",
       "    </tr>\n",
       "    <tr>\n",
       "      <th rowspan=\"2\" valign=\"top\">1.0</th>\n",
       "      <th>model</th>\n",
       "      <td>59,755</td>\n",
       "      <td>65,858</td>\n",
       "      <td>68,512</td>\n",
       "      <td>32,143</td>\n",
       "      <td>239,786</td>\n",
       "    </tr>\n",
       "    <tr>\n",
       "      <th>survey</th>\n",
       "      <td>76,760</td>\n",
       "      <td>59,801</td>\n",
       "      <td>59,509</td>\n",
       "      <td>0</td>\n",
       "      <td>135,906</td>\n",
       "    </tr>\n",
       "    <tr>\n",
       "      <th rowspan=\"2\" valign=\"top\">2.0</th>\n",
       "      <th>model</th>\n",
       "      <td>21,171</td>\n",
       "      <td>30,174</td>\n",
       "      <td>40,135</td>\n",
       "      <td>22,744</td>\n",
       "      <td>336,649</td>\n",
       "    </tr>\n",
       "    <tr>\n",
       "      <th>survey</th>\n",
       "      <td>64,139</td>\n",
       "      <td>22,390</td>\n",
       "      <td>58,239</td>\n",
       "      <td>0</td>\n",
       "      <td>300,976</td>\n",
       "    </tr>\n",
       "    <tr>\n",
       "      <th rowspan=\"2\" valign=\"top\">3.0</th>\n",
       "      <th>model</th>\n",
       "      <td>5,103</td>\n",
       "      <td>8,057</td>\n",
       "      <td>11,557</td>\n",
       "      <td>7,186</td>\n",
       "      <td>134,658</td>\n",
       "    </tr>\n",
       "    <tr>\n",
       "      <th>survey</th>\n",
       "      <td>19,121</td>\n",
       "      <td>6,579</td>\n",
       "      <td>3,844</td>\n",
       "      <td>0</td>\n",
       "      <td>112,335</td>\n",
       "    </tr>\n",
       "    <tr>\n",
       "      <th rowspan=\"2\" valign=\"top\">4+</th>\n",
       "      <th>model</th>\n",
       "      <td>2,082</td>\n",
       "      <td>3,204</td>\n",
       "      <td>5,475</td>\n",
       "      <td>3,517</td>\n",
       "      <td>74,915</td>\n",
       "    </tr>\n",
       "    <tr>\n",
       "      <th>survey</th>\n",
       "      <td>28,251</td>\n",
       "      <td>4,064</td>\n",
       "      <td>4,775</td>\n",
       "      <td>0</td>\n",
       "      <td>55,470</td>\n",
       "    </tr>\n",
       "  </tbody>\n",
       "</table>\n",
       "</div>"
      ],
      "text/plain": [
       "income_bin     0-$20k  $20-40k  $40-60k  $60-75k   >$75k\n",
       "hhvehs source                                           \n",
       "-1.0   model        0        0        0        0       0\n",
       "       survey       0        0        0        0     626\n",
       "0.0    model   47,710   17,401   11,447    4,367  36,106\n",
       "       survey  49,380   30,866    9,139        0  29,499\n",
       "1.0    model   59,755   65,858   68,512   32,143 239,786\n",
       "       survey  76,760   59,801   59,509        0 135,906\n",
       "2.0    model   21,171   30,174   40,135   22,744 336,649\n",
       "       survey  64,139   22,390   58,239        0 300,976\n",
       "3.0    model    5,103    8,057   11,557    7,186 134,658\n",
       "       survey  19,121    6,579    3,844        0 112,335\n",
       "4+     model    2,082    3,204    5,475    3,517  74,915\n",
       "       survey  28,251    4,064    4,775        0  55,470"
      ]
     },
     "execution_count": 14,
     "metadata": {},
     "output_type": "execute_result"
    }
   ],
   "source": [
    "df = load_data('auto_ownership')\n",
    "\n",
    "# Define income groups\n",
    "inc_bin=[-1,20000,40000,60000,75000,9999999999999]\n",
    "inc_bin_labels = ['0-$20k','$20-40k','$40-60k','$60-75k','>$75k']\n",
    "df['income_bin'] = pd.cut(df['hhincome_thousands'], bins=inc_bin, labels=inc_bin_labels)\n",
    "\n",
    "df.loc[df['hhvehs'] >= 4, 'hhvehs'] = '4+'\n",
    "\n",
    "pd.pivot_table(df, index=['hhvehs','source'], columns='income_bin', values='hhexpfac', aggfunc='sum')"
   ]
  },
  {
   "cell_type": "code",
   "execution_count": 15,
   "metadata": {
    "execution": {
     "iopub.execute_input": "2024-04-03T21:12:32.714646Z",
     "iopub.status.busy": "2024-04-03T21:12:32.714646Z",
     "iopub.status.idle": "2024-04-03T21:12:32.777202Z",
     "shell.execute_reply": "2024-04-03T21:12:32.777202Z"
    }
   },
   "outputs": [],
   "source": [
    "pd.options.display.float_format = \"{:,.2%}\".format\n",
    "_df_model = pd.pivot_table(df[df['source'] == 'model'], index='hhvehs', columns='hh_county', values='hhexpfac', aggfunc='sum')\n",
    "_df_model = _df_model/_df_model.sum()\n",
    "_df_survey = pd.pivot_table(df[df['source'] == 'survey'], index='hhvehs', columns='hh_county', values='hhexpfac', aggfunc='sum')\n",
    "_df_survey = _df_survey/_df_survey.sum()"
   ]
  },
  {
   "cell_type": "code",
   "execution_count": 16,
   "metadata": {
    "execution": {
     "iopub.execute_input": "2024-04-03T21:12:32.777202Z",
     "iopub.status.busy": "2024-04-03T21:12:32.777202Z",
     "iopub.status.idle": "2024-04-03T21:12:33.295336Z",
     "shell.execute_reply": "2024-04-03T21:12:33.294332Z"
    }
   },
   "outputs": [
    {
     "data": {
      "image/png": "[encoded data removed]",
      "text/plain": [
       "<Figure size 432x288 with 1 Axes>"
      ]
     },
     "metadata": {
      "needs_background": "light"
     },
     "output_type": "display_data"
    },
    {
     "data": {
      "image/png": "[encoded data removed]",
      "text/plain": [
       "<Figure size 432x288 with 1 Axes>"
      ]
     },
     "metadata": {
      "needs_background": "light"
     },
     "output_type": "display_data"
    },
    {
     "data": {
      "image/png": "[encoded data removed]",
      "text/plain": [
       "<Figure size 432x288 with 1 Axes>"
      ]
     },
     "metadata": {
      "needs_background": "light"
     },
     "output_type": "display_data"
    },
    {
     "data": {
      "image/png": "[encoded data removed]",
      "text/plain": [
       "<Figure size 432x288 with 1 Axes>"
      ]
     },
     "metadata": {
      "needs_background": "light"
     },
     "output_type": "display_data"
    }
   ],
   "source": [
    "for county in df['hh_county'].unique():\n",
    "    _df = pd.DataFrame([_df_survey[county],_df_model[county]]).T\n",
    "    _df.columns = ['survey','model']\n",
    "    _df.plot(kind='barh', title=county, legend='reverse', alpha=0.6)\n"
   ]
  },
  {
   "cell_type": "markdown",
   "metadata": {},
   "source": [
    "## Total Workers by Home County\n",
    "Model"
   ]
  },
  {
   "cell_type": "code",
   "execution_count": 17,
   "metadata": {
    "execution": {
     "iopub.execute_input": "2024-04-03T21:12:33.301322Z",
     "iopub.status.busy": "2024-04-03T21:12:33.301322Z",
     "iopub.status.idle": "2024-04-03T21:12:33.340981Z",
     "shell.execute_reply": "2024-04-03T21:12:33.339912Z"
    }
   },
   "outputs": [
    {
     "data": {
      "text/html": [
       "<div>\n",
       "<style scoped>\n",
       "    .dataframe tbody tr th:only-of-type {\n",
       "        vertical-align: middle;\n",
       "    }\n",
       "\n",
       "    .dataframe tbody tr th {\n",
       "        vertical-align: top;\n",
       "    }\n",
       "\n",
       "    .dataframe thead tr th {\n",
       "        text-align: left;\n",
       "    }\n",
       "\n",
       "    .dataframe thead tr:last-of-type th {\n",
       "        text-align: right;\n",
       "    }\n",
       "</style>\n",
       "<table border=\"1\" class=\"dataframe\">\n",
       "  <thead>\n",
       "    <tr>\n",
       "      <th></th>\n",
       "      <th colspan=\"4\" halign=\"left\">psexpfac</th>\n",
       "    </tr>\n",
       "    <tr>\n",
       "      <th>Work County</th>\n",
       "      <th>King</th>\n",
       "      <th>Kitsap</th>\n",
       "      <th>Pierce</th>\n",
       "      <th>Snohomish</th>\n",
       "    </tr>\n",
       "    <tr>\n",
       "      <th>Home County</th>\n",
       "      <th></th>\n",
       "      <th></th>\n",
       "      <th></th>\n",
       "      <th></th>\n",
       "    </tr>\n",
       "  </thead>\n",
       "  <tbody>\n",
       "    <tr>\n",
       "      <th>King</th>\n",
       "      <td>1,031,021</td>\n",
       "      <td>734</td>\n",
       "      <td>30,877</td>\n",
       "      <td>35,048</td>\n",
       "    </tr>\n",
       "    <tr>\n",
       "      <th>Kitsap</th>\n",
       "      <td>9,562</td>\n",
       "      <td>22,213</td>\n",
       "      <td>1,904</td>\n",
       "      <td>125</td>\n",
       "    </tr>\n",
       "    <tr>\n",
       "      <th>Pierce</th>\n",
       "      <td>62,541</td>\n",
       "      <td>689</td>\n",
       "      <td>151,306</td>\n",
       "      <td>435</td>\n",
       "    </tr>\n",
       "    <tr>\n",
       "      <th>Snohomish</th>\n",
       "      <td>74,756</td>\n",
       "      <td>38</td>\n",
       "      <td>241</td>\n",
       "      <td>130,067</td>\n",
       "    </tr>\n",
       "  </tbody>\n",
       "</table>\n",
       "</div>"
      ],
      "text/plain": [
       "             psexpfac                         \n",
       "Work County      King Kitsap  Pierce Snohomish\n",
       "Home County                                   \n",
       "King        1,031,021    734  30,877    35,048\n",
       "Kitsap          9,562 22,213   1,904       125\n",
       "Pierce         62,541    689 151,306       435\n",
       "Snohomish      74,756     38     241   130,067"
      ]
     },
     "execution_count": 17,
     "metadata": {},
     "output_type": "execute_result"
    }
   ],
   "source": [
    "df = load_data('work_flows')\n",
    "pd.options.display.float_format = '{:0,.0f}'.format\n",
    "df.rename(columns={'person_county': 'Home County', 'person_work_county':'Work County'}, inplace=True)\n",
    "\n",
    "pd.pivot_table(df[df['source'] == 'model'], index='Home County', columns='Work County', aggfunc='sum')"
   ]
  },
  {
   "cell_type": "code",
   "execution_count": null,
   "metadata": {},
   "outputs": [],
   "source": []
  }
 ],
 "metadata": {
  "kernelspec": {
   "display_name": "Python 3",
   "language": "python",
   "name": "python3"
  },
  "language_info": {
   "codemirror_mode": {
    "name": "ipython",
    "version": 3
   },
   "file_extension": ".py",
   "mimetype": "text/x-python",
   "name": "python",
   "nbconvert_exporter": "python",
   "pygments_lexer": "ipython3",
   "version": "3.7.10"
  }
 },
 "nbformat": 4,
 "nbformat_minor": 2
}
