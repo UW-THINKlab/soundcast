{
 "cells": [
  {
   "cell_type": "code",
   "execution_count": 1,
   "metadata": {
    "execution": {
     "iopub.execute_input": "2024-04-03T21:12:31.277566Z",
     "iopub.status.busy": "2024-04-03T21:12:31.277566Z",
     "iopub.status.idle": "2024-04-03T21:12:32.121103Z",
     "shell.execute_reply": "2024-04-03T21:12:32.121103Z"
    }
   },
   "outputs": [],
   "source": [
    "import warnings\n",
    "warnings.simplefilter(action='ignore', category=FutureWarning)\n",
    "import pandas as pd\n",
    "import os, sys\n",
    "%matplotlib inline\n",
    "\n",
    "from IPython.display import display, HTML\n",
    "\n",
    "if (sys.version_info < (3, 0)):\n",
    "    HTML('''<script>\n",
    "    code_show=true; \n",
    "    function code_toggle() {\n",
    "     if (code_show){\n",
    "     $('div.input').hide();\n",
    "     } else {\n",
    "     $('div.input').show();\n",
    "     }\n",
    "     code_show = !code_show\n",
    "    } \n",
    "    $( document ).ready(code_toggle);\n",
    "    </script>\n",
    "    <form action=\"javascript:code_toggle()\"><input type=\"submit\" value=\"Click here to toggle on/off the raw code.\"></form>''')\n"
   ]
  },
  {
   "cell_type": "code",
   "execution_count": 2,
   "metadata": {
    "execution": {
     "iopub.execute_input": "2024-04-03T21:12:32.121103Z",
     "iopub.status.busy": "2024-04-03T21:12:32.121103Z",
     "iopub.status.idle": "2024-04-03T21:12:32.136738Z",
     "shell.execute_reply": "2024-04-03T21:12:32.136738Z"
    }
   },
   "outputs": [],
   "source": [
    "working_dir = r'../../../../outputs/agg/dash'\n",
    "pd.options.display.float_format = '{:0,.0f}'.format\n",
    "format_percent = \"{:,.2%}\".format"
   ]
  },
  {
   "cell_type": "code",
   "execution_count": 3,
   "metadata": {
    "execution": {
     "iopub.execute_input": "2024-04-03T21:12:32.136738Z",
     "iopub.status.busy": "2024-04-03T21:12:32.136738Z",
     "iopub.status.idle": "2024-04-03T21:12:32.152343Z",
     "shell.execute_reply": "2024-04-03T21:12:32.152343Z"
    }
   },
   "outputs": [],
   "source": [
    "def load_data(fname):\n",
    "    \"\"\" open and join model and survey data \"\"\"\n",
    "\n",
    "    df_model = pd.read_csv(os.path.join(working_dir,fname+'.csv'))\n",
    "    df_model['source'] = 'model'\n",
    "    df_survey = pd.read_csv(os.path.join(working_dir,'survey',fname+'.csv'))\n",
    "    df_survey['source'] = 'survey'\n",
    "    df = df_model.append(df_survey)\n",
    "\n",
    "    return df"
   ]
  },
  {
   "cell_type": "markdown",
   "metadata": {},
   "source": [
    "# Total Persons"
   ]
  },
  {
   "cell_type": "code",
   "execution_count": 4,
   "metadata": {
    "execution": {
     "iopub.execute_input": "2024-04-03T21:12:32.152343Z",
     "iopub.status.busy": "2024-04-03T21:12:32.152343Z",
     "iopub.status.idle": "2024-04-03T21:12:32.230451Z",
     "shell.execute_reply": "2024-04-03T21:12:32.230451Z"
    }
   },
   "outputs": [
    {
     "data": {
      "text/html": [
       "<div>\n",
       "<style scoped>\n",
       "    .dataframe tbody tr th:only-of-type {\n",
       "        vertical-align: middle;\n",
       "    }\n",
       "\n",
       "    .dataframe tbody tr th {\n",
       "        vertical-align: top;\n",
       "    }\n",
       "\n",
       "    .dataframe thead th {\n",
       "        text-align: right;\n",
       "    }\n",
       "</style>\n",
       "<table border=\"1\" class=\"dataframe\">\n",
       "  <thead>\n",
       "    <tr style=\"text-align: right;\">\n",
       "      <th>source</th>\n",
       "      <th>model</th>\n",
       "      <th>survey</th>\n",
       "    </tr>\n",
       "  </thead>\n",
       "  <tbody>\n",
       "    <tr>\n",
       "      <th>psexpfac</th>\n",
       "      <td>4,356,032</td>\n",
       "      <td>3,938,628</td>\n",
       "    </tr>\n",
       "  </tbody>\n",
       "</table>\n",
       "</div>"
      ],
      "text/plain": [
       "source       model    survey\n",
       "psexpfac 4,356,032 3,938,628"
      ]
     },
     "execution_count": 4,
     "metadata": {},
     "output_type": "execute_result"
    }
   ],
   "source": [
    "df = load_data('person_type')\n",
    "df.groupby('source').sum()[['psexpfac']].T"
   ]
  },
  {
   "cell_type": "markdown",
   "metadata": {},
   "source": [
    "# Total Households"
   ]
  },
  {
   "cell_type": "code",
   "execution_count": 5,
   "metadata": {
    "execution": {
     "iopub.execute_input": "2024-04-03T21:12:32.230451Z",
     "iopub.status.busy": "2024-04-03T21:12:32.230451Z",
     "iopub.status.idle": "2024-04-03T21:12:32.261693Z",
     "shell.execute_reply": "2024-04-03T21:12:32.261693Z"
    }
   },
   "outputs": [
    {
     "data": {
      "text/html": [
       "<div>\n",
       "<style scoped>\n",
       "    .dataframe tbody tr th:only-of-type {\n",
       "        vertical-align: middle;\n",
       "    }\n",
       "\n",
       "    .dataframe tbody tr th {\n",
       "        vertical-align: top;\n",
       "    }\n",
       "\n",
       "    .dataframe thead th {\n",
       "        text-align: right;\n",
       "    }\n",
       "</style>\n",
       "<table border=\"1\" class=\"dataframe\">\n",
       "  <thead>\n",
       "    <tr style=\"text-align: right;\">\n",
       "      <th>source</th>\n",
       "      <th>model</th>\n",
       "      <th>survey</th>\n",
       "    </tr>\n",
       "  </thead>\n",
       "  <tbody>\n",
       "    <tr>\n",
       "      <th>hhexpfac</th>\n",
       "      <td>1,736,129</td>\n",
       "      <td>1,660,179</td>\n",
       "    </tr>\n",
       "  </tbody>\n",
       "</table>\n",
       "</div>"
      ],
      "text/plain": [
       "source       model    survey\n",
       "hhexpfac 1,736,129 1,660,179"
      ]
     },
     "execution_count": 5,
     "metadata": {},
     "output_type": "execute_result"
    }
   ],
   "source": [
    "df = load_data('household_size_vehs_workers')\n",
    "df.groupby('source').sum()[['hhexpfac']].T"
   ]
  },
  {
   "cell_type": "markdown",
   "metadata": {},
   "source": [
    "# Total Trips"
   ]
  },
  {
   "cell_type": "code",
   "execution_count": 6,
   "metadata": {
    "execution": {
     "iopub.execute_input": "2024-04-03T21:12:32.261693Z",
     "iopub.status.busy": "2024-04-03T21:12:32.261693Z",
     "iopub.status.idle": "2024-04-03T21:12:32.324179Z",
     "shell.execute_reply": "2024-04-03T21:12:32.324179Z"
    }
   },
   "outputs": [
    {
     "data": {
      "text/html": [
       "<div>\n",
       "<style scoped>\n",
       "    .dataframe tbody tr th:only-of-type {\n",
       "        vertical-align: middle;\n",
       "    }\n",
       "\n",
       "    .dataframe tbody tr th {\n",
       "        vertical-align: top;\n",
       "    }\n",
       "\n",
       "    .dataframe thead th {\n",
       "        text-align: right;\n",
       "    }\n",
       "</style>\n",
       "<table border=\"1\" class=\"dataframe\">\n",
       "  <thead>\n",
       "    <tr style=\"text-align: right;\">\n",
       "      <th>source</th>\n",
       "      <th>model</th>\n",
       "      <th>survey</th>\n",
       "    </tr>\n",
       "  </thead>\n",
       "  <tbody>\n",
       "    <tr>\n",
       "      <th>trexpfac</th>\n",
       "      <td>16,491,066</td>\n",
       "      <td>14,231,175</td>\n",
       "    </tr>\n",
       "  </tbody>\n",
       "</table>\n",
       "</div>"
      ],
      "text/plain": [
       "source        model     survey\n",
       "trexpfac 16,491,066 14,231,175"
      ]
     },
     "execution_count": 6,
     "metadata": {},
     "output_type": "execute_result"
    }
   ],
   "source": [
    "df = load_data('trip_total')\n",
    "df.groupby('source').sum()[['trexpfac']].T"
   ]
  },
  {
   "cell_type": "markdown",
   "metadata": {},
   "source": [
    "# Total Tours"
   ]
  },
  {
   "cell_type": "code",
   "execution_count": 7,
   "metadata": {
    "execution": {
     "iopub.execute_input": "2024-04-03T21:12:32.324179Z",
     "iopub.status.busy": "2024-04-03T21:12:32.324179Z",
     "iopub.status.idle": "2024-04-03T21:12:32.371045Z",
     "shell.execute_reply": "2024-04-03T21:12:32.371045Z"
    }
   },
   "outputs": [
    {
     "data": {
      "text/html": [
       "<div>\n",
       "<style scoped>\n",
       "    .dataframe tbody tr th:only-of-type {\n",
       "        vertical-align: middle;\n",
       "    }\n",
       "\n",
       "    .dataframe tbody tr th {\n",
       "        vertical-align: top;\n",
       "    }\n",
       "\n",
       "    .dataframe thead th {\n",
       "        text-align: right;\n",
       "    }\n",
       "</style>\n",
       "<table border=\"1\" class=\"dataframe\">\n",
       "  <thead>\n",
       "    <tr style=\"text-align: right;\">\n",
       "      <th>source</th>\n",
       "      <th>model</th>\n",
       "      <th>survey</th>\n",
       "    </tr>\n",
       "  </thead>\n",
       "  <tbody>\n",
       "    <tr>\n",
       "      <th>toexpfac</th>\n",
       "      <td>5,846,821</td>\n",
       "      <td>5,095,149</td>\n",
       "    </tr>\n",
       "  </tbody>\n",
       "</table>\n",
       "</div>"
      ],
      "text/plain": [
       "source       model    survey\n",
       "toexpfac 5,846,821 5,095,149"
      ]
     },
     "execution_count": 7,
     "metadata": {},
     "output_type": "execute_result"
    }
   ],
   "source": [
    "df = load_data('tour_purpose_mode')\n",
    "df.groupby('source').sum()[['toexpfac']].T"
   ]
  },
  {
   "cell_type": "markdown",
   "metadata": {},
   "source": [
    "## Average Household Size"
   ]
  },
  {
   "cell_type": "code",
   "execution_count": 8,
   "metadata": {
    "execution": {
     "iopub.execute_input": "2024-04-03T21:12:32.371045Z",
     "iopub.status.busy": "2024-04-03T21:12:32.371045Z",
     "iopub.status.idle": "2024-04-03T21:12:32.433564Z",
     "shell.execute_reply": "2024-04-03T21:12:32.433564Z"
    }
   },
   "outputs": [
    {
     "data": {
      "text/html": [
       "<div>\n",
       "<style scoped>\n",
       "    .dataframe tbody tr th:only-of-type {\n",
       "        vertical-align: middle;\n",
       "    }\n",
       "\n",
       "    .dataframe tbody tr th {\n",
       "        vertical-align: top;\n",
       "    }\n",
       "\n",
       "    .dataframe thead th {\n",
       "        text-align: right;\n",
       "    }\n",
       "</style>\n",
       "<table border=\"1\" class=\"dataframe\">\n",
       "  <thead>\n",
       "    <tr style=\"text-align: right;\">\n",
       "      <th></th>\n",
       "      <th>avg_hh_size</th>\n",
       "    </tr>\n",
       "    <tr>\n",
       "      <th>source</th>\n",
       "      <th></th>\n",
       "    </tr>\n",
       "  </thead>\n",
       "  <tbody>\n",
       "    <tr>\n",
       "      <th>model</th>\n",
       "      <td>2.51</td>\n",
       "    </tr>\n",
       "    <tr>\n",
       "      <th>survey</th>\n",
       "      <td>2.48</td>\n",
       "    </tr>\n",
       "  </tbody>\n",
       "</table>\n",
       "</div>"
      ],
      "text/plain": [
       "        avg_hh_size\n",
       "source             \n",
       "model          2.51\n",
       "survey         2.48"
      ]
     },
     "execution_count": 8,
     "metadata": {},
     "output_type": "execute_result"
    }
   ],
   "source": [
    "pd.options.display.float_format = '{:0,.2f}'.format\n",
    "df = load_data('household_size_vehs_workers')\n",
    "pd.DataFrame(\n",
    "    df.groupby('source').apply(\n",
    "        lambda row: ((row['hhsize']*1.0*row['hhexpfac']*1.0).sum())/row['hhexpfac'].sum()*1.0),\n",
    "        columns=['avg_hh_size'])"
   ]
  },
  {
   "cell_type": "markdown",
   "metadata": {},
   "source": [
    "## Average Trips per Person"
   ]
  },
  {
   "cell_type": "code",
   "execution_count": null,
   "metadata": {},
   "outputs": [],
   "source": []
  },
  {
   "cell_type": "markdown",
   "metadata": {},
   "source": [
    "## Average Distance to Work"
   ]
  },
  {
   "cell_type": "code",
   "execution_count": 9,
   "metadata": {
    "execution": {
     "iopub.execute_input": "2024-04-03T21:12:32.433564Z",
     "iopub.status.busy": "2024-04-03T21:12:32.433564Z",
     "iopub.status.idle": "2024-04-03T21:12:32.480410Z",
     "shell.execute_reply": "2024-04-03T21:12:32.480410Z"
    }
   },
   "outputs": [
    {
     "data": {
      "text/html": [
       "<div>\n",
       "<style scoped>\n",
       "    .dataframe tbody tr th:only-of-type {\n",
       "        vertical-align: middle;\n",
       "    }\n",
       "\n",
       "    .dataframe tbody tr th {\n",
       "        vertical-align: top;\n",
       "    }\n",
       "\n",
       "    .dataframe thead th {\n",
       "        text-align: right;\n",
       "    }\n",
       "</style>\n",
       "<table border=\"1\" class=\"dataframe\">\n",
       "  <thead>\n",
       "    <tr style=\"text-align: right;\">\n",
       "      <th></th>\n",
       "      <th></th>\n",
       "      <th>travdist</th>\n",
       "      <th>travtime</th>\n",
       "      <th>travcost</th>\n",
       "    </tr>\n",
       "    <tr>\n",
       "      <th>mode</th>\n",
       "      <th>source</th>\n",
       "      <th></th>\n",
       "      <th></th>\n",
       "      <th></th>\n",
       "    </tr>\n",
       "  </thead>\n",
       "  <tbody>\n",
       "    <tr>\n",
       "      <th rowspan=\"2\" valign=\"top\">Bike</th>\n",
       "      <th>model</th>\n",
       "      <td>4.59</td>\n",
       "      <td>30.62</td>\n",
       "      <td>0.00</td>\n",
       "    </tr>\n",
       "    <tr>\n",
       "      <th>survey</th>\n",
       "      <td>2.86</td>\n",
       "      <td>19.09</td>\n",
       "      <td>0.00</td>\n",
       "    </tr>\n",
       "    <tr>\n",
       "      <th rowspan=\"2\" valign=\"top\">HOV2</th>\n",
       "      <th>model</th>\n",
       "      <td>8.75</td>\n",
       "      <td>19.62</td>\n",
       "      <td>1.94</td>\n",
       "    </tr>\n",
       "    <tr>\n",
       "      <th>survey</th>\n",
       "      <td>6.93</td>\n",
       "      <td>16.90</td>\n",
       "      <td>0.06</td>\n",
       "    </tr>\n",
       "    <tr>\n",
       "      <th rowspan=\"2\" valign=\"top\">HOV3+</th>\n",
       "      <th>model</th>\n",
       "      <td>9.25</td>\n",
       "      <td>20.33</td>\n",
       "      <td>2.06</td>\n",
       "    </tr>\n",
       "    <tr>\n",
       "      <th>survey</th>\n",
       "      <td>10.35</td>\n",
       "      <td>20.96</td>\n",
       "      <td>0.11</td>\n",
       "    </tr>\n",
       "    <tr>\n",
       "      <th rowspan=\"2\" valign=\"top\">SOV</th>\n",
       "      <th>model</th>\n",
       "      <td>8.53</td>\n",
       "      <td>19.53</td>\n",
       "      <td>1.81</td>\n",
       "    </tr>\n",
       "    <tr>\n",
       "      <th>survey</th>\n",
       "      <td>8.54</td>\n",
       "      <td>19.56</td>\n",
       "      <td>0.16</td>\n",
       "    </tr>\n",
       "    <tr>\n",
       "      <th>School Bus</th>\n",
       "      <th>model</th>\n",
       "      <td>3.39</td>\n",
       "      <td>10.28</td>\n",
       "      <td>0.68</td>\n",
       "    </tr>\n",
       "    <tr>\n",
       "      <th rowspan=\"2\" valign=\"top\">TNC</th>\n",
       "      <th>model</th>\n",
       "      <td>2.30</td>\n",
       "      <td>10.14</td>\n",
       "      <td>0.48</td>\n",
       "    </tr>\n",
       "    <tr>\n",
       "      <th>survey</th>\n",
       "      <td>3.72</td>\n",
       "      <td>13.44</td>\n",
       "      <td>0.01</td>\n",
       "    </tr>\n",
       "    <tr>\n",
       "      <th rowspan=\"2\" valign=\"top\">Transit</th>\n",
       "      <th>model</th>\n",
       "      <td>11.04</td>\n",
       "      <td>43.07</td>\n",
       "      <td>1.49</td>\n",
       "    </tr>\n",
       "    <tr>\n",
       "      <th>survey</th>\n",
       "      <td>7.45</td>\n",
       "      <td>32.32</td>\n",
       "      <td>3.08</td>\n",
       "    </tr>\n",
       "    <tr>\n",
       "      <th rowspan=\"2\" valign=\"top\">Walk</th>\n",
       "      <th>model</th>\n",
       "      <td>0.69</td>\n",
       "      <td>13.81</td>\n",
       "      <td>0.00</td>\n",
       "    </tr>\n",
       "    <tr>\n",
       "      <th>survey</th>\n",
       "      <td>0.80</td>\n",
       "      <td>17.50</td>\n",
       "      <td>0.00</td>\n",
       "    </tr>\n",
       "  </tbody>\n",
       "</table>\n",
       "</div>"
      ],
      "text/plain": [
       "                   travdist  travtime  travcost\n",
       "mode       source                              \n",
       "Bike       model       4.59     30.62      0.00\n",
       "           survey      2.86     19.09      0.00\n",
       "HOV2       model       8.75     19.62      1.94\n",
       "           survey      6.93     16.90      0.06\n",
       "HOV3+      model       9.25     20.33      2.06\n",
       "           survey     10.35     20.96      0.11\n",
       "SOV        model       8.53     19.53      1.81\n",
       "           survey      8.54     19.56      0.16\n",
       "School Bus model       3.39     10.28      0.68\n",
       "TNC        model       2.30     10.14      0.48\n",
       "           survey      3.72     13.44      0.01\n",
       "Transit    model      11.04     43.07      1.49\n",
       "           survey      7.45     32.32      3.08\n",
       "Walk       model       0.69     13.81      0.00\n",
       "           survey      0.80     17.50      0.00"
      ]
     },
     "execution_count": 9,
     "metadata": {},
     "output_type": "execute_result"
    }
   ],
   "source": [
    "df = load_data('trip_averages')\n",
    "df[df['dpurp'] == 'Work'].groupby(['mode','source']).mean()"
   ]
  },
  {
   "cell_type": "markdown",
   "metadata": {},
   "source": [
    "## Average Distance to School"
   ]
  },
  {
   "cell_type": "code",
   "execution_count": 10,
   "metadata": {
    "execution": {
     "iopub.execute_input": "2024-04-03T21:12:32.480410Z",
     "iopub.status.busy": "2024-04-03T21:12:32.480410Z",
     "iopub.status.idle": "2024-04-03T21:12:32.511636Z",
     "shell.execute_reply": "2024-04-03T21:12:32.511636Z"
    }
   },
   "outputs": [
    {
     "data": {
      "text/html": [
       "<div>\n",
       "<style scoped>\n",
       "    .dataframe tbody tr th:only-of-type {\n",
       "        vertical-align: middle;\n",
       "    }\n",
       "\n",
       "    .dataframe tbody tr th {\n",
       "        vertical-align: top;\n",
       "    }\n",
       "\n",
       "    .dataframe thead th {\n",
       "        text-align: right;\n",
       "    }\n",
       "</style>\n",
       "<table border=\"1\" class=\"dataframe\">\n",
       "  <thead>\n",
       "    <tr style=\"text-align: right;\">\n",
       "      <th></th>\n",
       "      <th></th>\n",
       "      <th>travdist</th>\n",
       "      <th>travtime</th>\n",
       "      <th>travcost</th>\n",
       "    </tr>\n",
       "    <tr>\n",
       "      <th>mode</th>\n",
       "      <th>source</th>\n",
       "      <th></th>\n",
       "      <th></th>\n",
       "      <th></th>\n",
       "    </tr>\n",
       "  </thead>\n",
       "  <tbody>\n",
       "    <tr>\n",
       "      <th rowspan=\"2\" valign=\"top\">Bike</th>\n",
       "      <th>model</th>\n",
       "      <td>2.60</td>\n",
       "      <td>17.33</td>\n",
       "      <td>0.00</td>\n",
       "    </tr>\n",
       "    <tr>\n",
       "      <th>survey</th>\n",
       "      <td>2.04</td>\n",
       "      <td>12.26</td>\n",
       "      <td>0.00</td>\n",
       "    </tr>\n",
       "    <tr>\n",
       "      <th rowspan=\"2\" valign=\"top\">HOV2</th>\n",
       "      <th>model</th>\n",
       "      <td>2.93</td>\n",
       "      <td>9.78</td>\n",
       "      <td>0.59</td>\n",
       "    </tr>\n",
       "    <tr>\n",
       "      <th>survey</th>\n",
       "      <td>3.60</td>\n",
       "      <td>11.29</td>\n",
       "      <td>0.08</td>\n",
       "    </tr>\n",
       "    <tr>\n",
       "      <th rowspan=\"2\" valign=\"top\">HOV3+</th>\n",
       "      <th>model</th>\n",
       "      <td>3.03</td>\n",
       "      <td>9.96</td>\n",
       "      <td>0.61</td>\n",
       "    </tr>\n",
       "    <tr>\n",
       "      <th>survey</th>\n",
       "      <td>4.09</td>\n",
       "      <td>11.93</td>\n",
       "      <td>0.01</td>\n",
       "    </tr>\n",
       "    <tr>\n",
       "      <th rowspan=\"2\" valign=\"top\">SOV</th>\n",
       "      <th>model</th>\n",
       "      <td>5.66</td>\n",
       "      <td>14.74</td>\n",
       "      <td>1.18</td>\n",
       "    </tr>\n",
       "    <tr>\n",
       "      <th>survey</th>\n",
       "      <td>8.23</td>\n",
       "      <td>18.28</td>\n",
       "      <td>0.30</td>\n",
       "    </tr>\n",
       "    <tr>\n",
       "      <th rowspan=\"2\" valign=\"top\">School Bus</th>\n",
       "      <th>model</th>\n",
       "      <td>2.97</td>\n",
       "      <td>9.89</td>\n",
       "      <td>0.60</td>\n",
       "    </tr>\n",
       "    <tr>\n",
       "      <th>survey</th>\n",
       "      <td>3.30</td>\n",
       "      <td>10.40</td>\n",
       "      <td>0.00</td>\n",
       "    </tr>\n",
       "    <tr>\n",
       "      <th rowspan=\"2\" valign=\"top\">TNC</th>\n",
       "      <th>model</th>\n",
       "      <td>2.27</td>\n",
       "      <td>8.86</td>\n",
       "      <td>0.46</td>\n",
       "    </tr>\n",
       "    <tr>\n",
       "      <th>survey</th>\n",
       "      <td>2.25</td>\n",
       "      <td>14.51</td>\n",
       "      <td>0.00</td>\n",
       "    </tr>\n",
       "    <tr>\n",
       "      <th rowspan=\"2\" valign=\"top\">Transit</th>\n",
       "      <th>model</th>\n",
       "      <td>5.48</td>\n",
       "      <td>36.52</td>\n",
       "      <td>0.43</td>\n",
       "    </tr>\n",
       "    <tr>\n",
       "      <th>survey</th>\n",
       "      <td>8.07</td>\n",
       "      <td>24.15</td>\n",
       "      <td>2.97</td>\n",
       "    </tr>\n",
       "    <tr>\n",
       "      <th rowspan=\"2\" valign=\"top\">Walk</th>\n",
       "      <th>model</th>\n",
       "      <td>1.33</td>\n",
       "      <td>26.56</td>\n",
       "      <td>0.00</td>\n",
       "    </tr>\n",
       "    <tr>\n",
       "      <th>survey</th>\n",
       "      <td>0.75</td>\n",
       "      <td>15.00</td>\n",
       "      <td>0.00</td>\n",
       "    </tr>\n",
       "  </tbody>\n",
       "</table>\n",
       "</div>"
      ],
      "text/plain": [
       "                   travdist  travtime  travcost\n",
       "mode       source                              \n",
       "Bike       model       2.60     17.33      0.00\n",
       "           survey      2.04     12.26      0.00\n",
       "HOV2       model       2.93      9.78      0.59\n",
       "           survey      3.60     11.29      0.08\n",
       "HOV3+      model       3.03      9.96      0.61\n",
       "           survey      4.09     11.93      0.01\n",
       "SOV        model       5.66     14.74      1.18\n",
       "           survey      8.23     18.28      0.30\n",
       "School Bus model       2.97      9.89      0.60\n",
       "           survey      3.30     10.40      0.00\n",
       "TNC        model       2.27      8.86      0.46\n",
       "           survey      2.25     14.51      0.00\n",
       "Transit    model       5.48     36.52      0.43\n",
       "           survey      8.07     24.15      2.97\n",
       "Walk       model       1.33     26.56      0.00\n",
       "           survey      0.75     15.00      0.00"
      ]
     },
     "execution_count": 10,
     "metadata": {},
     "output_type": "execute_result"
    }
   ],
   "source": [
    "df[df['dpurp'] == 'School'].groupby(['mode','source']).mean()"
   ]
  },
  {
   "cell_type": "markdown",
   "metadata": {},
   "source": [
    "## Transit Pass Ownership"
   ]
  },
  {
   "cell_type": "code",
   "execution_count": 11,
   "metadata": {
    "execution": {
     "iopub.execute_input": "2024-04-03T21:12:32.511636Z",
     "iopub.status.busy": "2024-04-03T21:12:32.511636Z",
     "iopub.status.idle": "2024-04-03T21:12:32.574052Z",
     "shell.execute_reply": "2024-04-03T21:12:32.574052Z"
    }
   },
   "outputs": [
    {
     "data": {
      "text/html": [
       "<div>\n",
       "<style scoped>\n",
       "    .dataframe tbody tr th:only-of-type {\n",
       "        vertical-align: middle;\n",
       "    }\n",
       "\n",
       "    .dataframe tbody tr th {\n",
       "        vertical-align: top;\n",
       "    }\n",
       "\n",
       "    .dataframe thead th {\n",
       "        text-align: right;\n",
       "    }\n",
       "</style>\n",
       "<table border=\"1\" class=\"dataframe\">\n",
       "  <thead>\n",
       "    <tr style=\"text-align: right;\">\n",
       "      <th>source</th>\n",
       "      <th>model</th>\n",
       "      <th>survey</th>\n",
       "    </tr>\n",
       "    <tr>\n",
       "      <th>ptpass</th>\n",
       "      <th></th>\n",
       "      <th></th>\n",
       "    </tr>\n",
       "  </thead>\n",
       "  <tbody>\n",
       "    <tr>\n",
       "      <th>0</th>\n",
       "      <td>3,580,829</td>\n",
       "      <td>2,931,969</td>\n",
       "    </tr>\n",
       "    <tr>\n",
       "      <th>1</th>\n",
       "      <td>775,203</td>\n",
       "      <td>1,006,659</td>\n",
       "    </tr>\n",
       "  </tbody>\n",
       "</table>\n",
       "</div>"
      ],
      "text/plain": [
       "source     model    survey\n",
       "ptpass                    \n",
       "0      3,580,829 2,931,969\n",
       "1        775,203 1,006,659"
      ]
     },
     "execution_count": 11,
     "metadata": {},
     "output_type": "execute_result"
    }
   ],
   "source": [
    "pd.options.display.float_format = '{:0,.0f}'.format\n",
    "df = load_data('parking_transit_pass')\n",
    "pd.pivot_table(df, index='ptpass',columns='source',values='psexpfac',aggfunc='sum')"
   ]
  },
  {
   "cell_type": "code",
   "execution_count": 12,
   "metadata": {
    "execution": {
     "iopub.execute_input": "2024-04-03T21:12:32.574052Z",
     "iopub.status.busy": "2024-04-03T21:12:32.574052Z",
     "iopub.status.idle": "2024-04-03T21:12:32.605294Z",
     "shell.execute_reply": "2024-04-03T21:12:32.605294Z"
    }
   },
   "outputs": [
    {
     "data": {
      "text/html": [
       "<div>\n",
       "<style scoped>\n",
       "    .dataframe tbody tr th:only-of-type {\n",
       "        vertical-align: middle;\n",
       "    }\n",
       "\n",
       "    .dataframe tbody tr th {\n",
       "        vertical-align: top;\n",
       "    }\n",
       "\n",
       "    .dataframe thead th {\n",
       "        text-align: right;\n",
       "    }\n",
       "</style>\n",
       "<table border=\"1\" class=\"dataframe\">\n",
       "  <thead>\n",
       "    <tr style=\"text-align: right;\">\n",
       "      <th>source</th>\n",
       "      <th>model</th>\n",
       "      <th>survey</th>\n",
       "    </tr>\n",
       "    <tr>\n",
       "      <th>pptyp</th>\n",
       "      <th></th>\n",
       "      <th></th>\n",
       "    </tr>\n",
       "  </thead>\n",
       "  <tbody>\n",
       "    <tr>\n",
       "      <th>Child Age 5-15</th>\n",
       "      <td>2,021</td>\n",
       "      <td>NaN</td>\n",
       "    </tr>\n",
       "    <tr>\n",
       "      <th>Full-Time Worker</th>\n",
       "      <td>533,845</td>\n",
       "      <td>532,071</td>\n",
       "    </tr>\n",
       "    <tr>\n",
       "      <th>High School Student Age 16+</th>\n",
       "      <td>99,650</td>\n",
       "      <td>NaN</td>\n",
       "    </tr>\n",
       "    <tr>\n",
       "      <th>Non-Working Adult Age 65+</th>\n",
       "      <td>249</td>\n",
       "      <td>160,319</td>\n",
       "    </tr>\n",
       "    <tr>\n",
       "      <th>Non-Working Adult Age &lt;65</th>\n",
       "      <td>16,318</td>\n",
       "      <td>150,270</td>\n",
       "    </tr>\n",
       "    <tr>\n",
       "      <th>Part-Time Worker</th>\n",
       "      <td>45,097</td>\n",
       "      <td>136,436</td>\n",
       "    </tr>\n",
       "    <tr>\n",
       "      <th>University Student</th>\n",
       "      <td>78,023</td>\n",
       "      <td>27,562</td>\n",
       "    </tr>\n",
       "  </tbody>\n",
       "</table>\n",
       "</div>"
      ],
      "text/plain": [
       "source                        model  survey\n",
       "pptyp                                      \n",
       "Child Age 5-15                2,021     NaN\n",
       "Full-Time Worker            533,845 532,071\n",
       "High School Student Age 16+  99,650     NaN\n",
       "Non-Working Adult Age 65+       249 160,319\n",
       "Non-Working Adult Age <65    16,318 150,270\n",
       "Part-Time Worker             45,097 136,436\n",
       "University Student           78,023  27,562"
      ]
     },
     "execution_count": 12,
     "metadata": {},
     "output_type": "execute_result"
    }
   ],
   "source": [
    "pd.pivot_table(df[df['ptpass']==1], \n",
    "               index='pptyp',columns='source',values='psexpfac',aggfunc='sum')"
   ]
  },
  {
   "cell_type": "markdown",
   "metadata": {},
   "source": [
    "# Auto Ownership"
   ]
  },
  {
   "cell_type": "code",
   "execution_count": 13,
   "metadata": {
    "execution": {
     "iopub.execute_input": "2024-04-03T21:12:32.605294Z",
     "iopub.status.busy": "2024-04-03T21:12:32.605294Z",
     "iopub.status.idle": "2024-04-03T21:12:32.667780Z",
     "shell.execute_reply": "2024-04-03T21:12:32.636537Z"
    }
   },
   "outputs": [
    {
     "data": {
      "text/html": [
       "<div>\n",
       "<style scoped>\n",
       "    .dataframe tbody tr th:only-of-type {\n",
       "        vertical-align: middle;\n",
       "    }\n",
       "\n",
       "    .dataframe tbody tr th {\n",
       "        vertical-align: top;\n",
       "    }\n",
       "\n",
       "    .dataframe thead th {\n",
       "        text-align: right;\n",
       "    }\n",
       "</style>\n",
       "<table border=\"1\" class=\"dataframe\">\n",
       "  <thead>\n",
       "    <tr style=\"text-align: right;\">\n",
       "      <th>source</th>\n",
       "      <th>model</th>\n",
       "      <th>survey</th>\n",
       "    </tr>\n",
       "    <tr>\n",
       "      <th>hhvehs</th>\n",
       "      <th></th>\n",
       "      <th></th>\n",
       "    </tr>\n",
       "  </thead>\n",
       "  <tbody>\n",
       "    <tr>\n",
       "      <th>-1.0</th>\n",
       "      <td>NaN</td>\n",
       "      <td>626</td>\n",
       "    </tr>\n",
       "    <tr>\n",
       "      <th>0.0</th>\n",
       "      <td>141,128</td>\n",
       "      <td>166,015</td>\n",
       "    </tr>\n",
       "    <tr>\n",
       "      <th>1.0</th>\n",
       "      <td>583,975</td>\n",
       "      <td>489,872</td>\n",
       "    </tr>\n",
       "    <tr>\n",
       "      <th>2.0</th>\n",
       "      <td>624,531</td>\n",
       "      <td>608,416</td>\n",
       "    </tr>\n",
       "    <tr>\n",
       "      <th>3+</th>\n",
       "      <td>386,495</td>\n",
       "      <td>395,250</td>\n",
       "    </tr>\n",
       "  </tbody>\n",
       "</table>\n",
       "</div>"
      ],
      "text/plain": [
       "source   model  survey\n",
       "hhvehs                \n",
       "-1.0       NaN     626\n",
       "0.0    141,128 166,015\n",
       "1.0    583,975 489,872\n",
       "2.0    624,531 608,416\n",
       "3+     386,495 395,250"
      ]
     },
     "execution_count": 13,
     "metadata": {},
     "output_type": "execute_result"
    }
   ],
   "source": [
    "df = load_data('auto_ownership')\n",
    "df.loc[df['hhvehs'] >= 3, 'hhvehs'] = '3+'\n",
    "df.pivot_table(index='hhvehs', columns='source', aggfunc='sum', values='hhexpfac')"
   ]
  },
  {
   "cell_type": "markdown",
   "metadata": {},
   "source": [
    "## By Income"
   ]
  },
  {
   "cell_type": "code",
   "execution_count": 14,
   "metadata": {
    "execution": {
     "iopub.execute_input": "2024-04-03T21:12:32.667780Z",
     "iopub.status.busy": "2024-04-03T21:12:32.667780Z",
     "iopub.status.idle": "2024-04-03T21:12:32.714646Z",
     "shell.execute_reply": "2024-04-03T21:12:32.714646Z"
    }
   },
   "outputs": [
    {
     "data": {
      "text/html": [
       "<div>\n",
       "<style scoped>\n",
       "    .dataframe tbody tr th:only-of-type {\n",
       "        vertical-align: middle;\n",
       "    }\n",
       "\n",
       "    .dataframe tbody tr th {\n",
       "        vertical-align: top;\n",
       "    }\n",
       "\n",
       "    .dataframe thead th {\n",
       "        text-align: right;\n",
       "    }\n",
       "</style>\n",
       "<table border=\"1\" class=\"dataframe\">\n",
       "  <thead>\n",
       "    <tr style=\"text-align: right;\">\n",
       "      <th></th>\n",
       "      <th>income_bin</th>\n",
       "      <th>0-$20k</th>\n",
       "      <th>$20-40k</th>\n",
       "      <th>$40-60k</th>\n",
       "      <th>$60-75k</th>\n",
       "      <th>&gt;$75k</th>\n",
       "    </tr>\n",
       "    <tr>\n",
       "      <th>hhvehs</th>\n",
       "      <th>source</th>\n",
       "      <th></th>\n",
       "      <th></th>\n",
       "      <th></th>\n",
       "      <th></th>\n",
       "      <th></th>\n",
       "    </tr>\n",
       "  </thead>\n",
       "  <tbody>\n",
       "    <tr>\n",
       "      <th rowspan=\"2\" valign=\"top\">-1.0</th>\n",
       "      <th>model</th>\n",
       "      <td>0</td>\n",
       "      <td>0</td>\n",
       "      <td>0</td>\n",
       "      <td>0</td>\n",
       "      <td>0</td>\n",
       "    </tr>\n",
       "    <tr>\n",
       "      <th>survey</th>\n",
       "      <td>0</td>\n",
       "      <td>0</td>\n",
       "      <td>0</td>\n",
       "      <td>0</td>\n",
       "      <td>626</td>\n",
       "    </tr>\n",
       "    <tr>\n",
       "      <th rowspan=\"2\" valign=\"top\">0.0</th>\n",
       "      <th>model</th>\n",
       "      <td>55,447</td>\n",
       "      <td>21,063</td>\n",
       "      <td>14,384</td>\n",
       "      <td>5,528</td>\n",
       "      <td>44,690</td>\n",
       "    </tr>\n",
       "    <tr>\n",
       "      <th>survey</th>\n",
       "      <td>83,091</td>\n",
       "      <td>36,089</td>\n",
       "      <td>10,782</td>\n",
       "      <td>0</td>\n",
       "      <td>36,053</td>\n",
       "    </tr>\n",
       "    <tr>\n",
       "      <th rowspan=\"2\" valign=\"top\">1.0</th>\n",
       "      <th>model</th>\n",
       "      <td>74,986</td>\n",
       "      <td>82,216</td>\n",
       "      <td>86,235</td>\n",
       "      <td>40,880</td>\n",
       "      <td>299,548</td>\n",
       "    </tr>\n",
       "    <tr>\n",
       "      <th>survey</th>\n",
       "      <td>112,204</td>\n",
       "      <td>84,824</td>\n",
       "      <td>87,913</td>\n",
       "      <td>0</td>\n",
       "      <td>204,932</td>\n",
       "    </tr>\n",
       "    <tr>\n",
       "      <th rowspan=\"2\" valign=\"top\">2.0</th>\n",
       "      <th>model</th>\n",
       "      <td>29,590</td>\n",
       "      <td>41,697</td>\n",
       "      <td>57,118</td>\n",
       "      <td>32,976</td>\n",
       "      <td>463,063</td>\n",
       "    </tr>\n",
       "    <tr>\n",
       "      <th>survey</th>\n",
       "      <td>97,708</td>\n",
       "      <td>28,394</td>\n",
       "      <td>82,252</td>\n",
       "      <td>0</td>\n",
       "      <td>400,062</td>\n",
       "    </tr>\n",
       "    <tr>\n",
       "      <th rowspan=\"2\" valign=\"top\">3.0</th>\n",
       "      <th>model</th>\n",
       "      <td>8,190</td>\n",
       "      <td>12,342</td>\n",
       "      <td>18,307</td>\n",
       "      <td>11,087</td>\n",
       "      <td>204,936</td>\n",
       "    </tr>\n",
       "    <tr>\n",
       "      <th>survey</th>\n",
       "      <td>47,799</td>\n",
       "      <td>10,876</td>\n",
       "      <td>22,726</td>\n",
       "      <td>0</td>\n",
       "      <td>177,862</td>\n",
       "    </tr>\n",
       "    <tr>\n",
       "      <th rowspan=\"2\" valign=\"top\">4+</th>\n",
       "      <th>model</th>\n",
       "      <td>3,239</td>\n",
       "      <td>4,787</td>\n",
       "      <td>8,354</td>\n",
       "      <td>5,087</td>\n",
       "      <td>110,059</td>\n",
       "    </tr>\n",
       "    <tr>\n",
       "      <th>survey</th>\n",
       "      <td>33,443</td>\n",
       "      <td>8,019</td>\n",
       "      <td>7,406</td>\n",
       "      <td>0</td>\n",
       "      <td>87,119</td>\n",
       "    </tr>\n",
       "  </tbody>\n",
       "</table>\n",
       "</div>"
      ],
      "text/plain": [
       "income_bin     0-$20k  $20-40k  $40-60k  $60-75k   >$75k\n",
       "hhvehs source                                           \n",
       "-1.0   model        0        0        0        0       0\n",
       "       survey       0        0        0        0     626\n",
       "0.0    model   55,447   21,063   14,384    5,528  44,690\n",
       "       survey  83,091   36,089   10,782        0  36,053\n",
       "1.0    model   74,986   82,216   86,235   40,880 299,548\n",
       "       survey 112,204   84,824   87,913        0 204,932\n",
       "2.0    model   29,590   41,697   57,118   32,976 463,063\n",
       "       survey  97,708   28,394   82,252        0 400,062\n",
       "3.0    model    8,190   12,342   18,307   11,087 204,936\n",
       "       survey  47,799   10,876   22,726        0 177,862\n",
       "4+     model    3,239    4,787    8,354    5,087 110,059\n",
       "       survey  33,443    8,019    7,406        0  87,119"
      ]
     },
     "execution_count": 14,
     "metadata": {},
     "output_type": "execute_result"
    }
   ],
   "source": [
    "df = load_data('auto_ownership')\n",
    "\n",
    "# Define income groups\n",
    "inc_bin=[-1,20000,40000,60000,75000,9999999999999]\n",
    "inc_bin_labels = ['0-$20k','$20-40k','$40-60k','$60-75k','>$75k']\n",
    "df['income_bin'] = pd.cut(df['hhincome_thousands'], bins=inc_bin, labels=inc_bin_labels)\n",
    "\n",
    "df.loc[df['hhvehs'] >= 4, 'hhvehs'] = '4+'\n",
    "\n",
    "pd.pivot_table(df, index=['hhvehs','source'], columns='income_bin', values='hhexpfac', aggfunc='sum')"
   ]
  },
  {
   "cell_type": "code",
   "execution_count": 15,
   "metadata": {
    "execution": {
     "iopub.execute_input": "2024-04-03T21:12:32.714646Z",
     "iopub.status.busy": "2024-04-03T21:12:32.714646Z",
     "iopub.status.idle": "2024-04-03T21:12:32.777202Z",
     "shell.execute_reply": "2024-04-03T21:12:32.777202Z"
    }
   },
   "outputs": [],
   "source": [
    "pd.options.display.float_format = \"{:,.2%}\".format\n",
    "_df_model = pd.pivot_table(df[df['source'] == 'model'], index='hhvehs', columns='hh_county', values='hhexpfac', aggfunc='sum')\n",
    "_df_model = _df_model/_df_model.sum()\n",
    "_df_survey = pd.pivot_table(df[df['source'] == 'survey'], index='hhvehs', columns='hh_county', values='hhexpfac', aggfunc='sum')\n",
    "_df_survey = _df_survey/_df_survey.sum()"
   ]
  },
  {
   "cell_type": "code",
   "execution_count": 16,
   "metadata": {
    "execution": {
     "iopub.execute_input": "2024-04-03T21:12:32.777202Z",
     "iopub.status.busy": "2024-04-03T21:12:32.777202Z",
     "iopub.status.idle": "2024-04-03T21:12:33.295336Z",
     "shell.execute_reply": "2024-04-03T21:12:33.294332Z"
    }
   },
   "outputs": [
    {
     "data": {
      "image/png": "[encoded data removed]",
      "text/plain": [
       "<Figure size 432x288 with 1 Axes>"
      ]
     },
     "metadata": {
      "needs_background": "light"
     },
     "output_type": "display_data"
    },
    {
     "data": {
      "image/png": "[encoded data removed]",
      "text/plain": [
       "<Figure size 432x288 with 1 Axes>"
      ]
     },
     "metadata": {
      "needs_background": "light"
     },
     "output_type": "display_data"
    },
    {
     "data": {
      "image/png": "[encoded data removed]",
      "text/plain": [
       "<Figure size 432x288 with 1 Axes>"
      ]
     },
     "metadata": {
      "needs_background": "light"
     },
     "output_type": "display_data"
    },
    {
     "data": {
      "image/png": "[encoded data removed]",
      "text/plain": [
       "<Figure size 432x288 with 1 Axes>"
      ]
     },
     "metadata": {
      "needs_background": "light"
     },
     "output_type": "display_data"
    }
   ],
   "source": [
    "for county in df['hh_county'].unique():\n",
    "    _df = pd.DataFrame([_df_survey[county],_df_model[county]]).T\n",
    "    _df.columns = ['survey','model']\n",
    "    _df.plot(kind='barh', title=county, legend='reverse', alpha=0.6)\n"
   ]
  },
  {
   "cell_type": "markdown",
   "metadata": {},
   "source": [
    "## Total Workers by Home County\n",
    "Model"
   ]
  },
  {
   "cell_type": "code",
   "execution_count": 17,
   "metadata": {
    "execution": {
     "iopub.execute_input": "2024-04-03T21:12:33.301322Z",
     "iopub.status.busy": "2024-04-03T21:12:33.301322Z",
     "iopub.status.idle": "2024-04-03T21:12:33.340981Z",
     "shell.execute_reply": "2024-04-03T21:12:33.339912Z"
    }
   },
   "outputs": [
    {
     "data": {
      "text/html": [
       "<div>\n",
       "<style scoped>\n",
       "    .dataframe tbody tr th:only-of-type {\n",
       "        vertical-align: middle;\n",
       "    }\n",
       "\n",
       "    .dataframe tbody tr th {\n",
       "        vertical-align: top;\n",
       "    }\n",
       "\n",
       "    .dataframe thead tr th {\n",
       "        text-align: left;\n",
       "    }\n",
       "\n",
       "    .dataframe thead tr:last-of-type th {\n",
       "        text-align: right;\n",
       "    }\n",
       "</style>\n",
       "<table border=\"1\" class=\"dataframe\">\n",
       "  <thead>\n",
       "    <tr>\n",
       "      <th></th>\n",
       "      <th colspan=\"4\" halign=\"left\">psexpfac</th>\n",
       "    </tr>\n",
       "    <tr>\n",
       "      <th>Work County</th>\n",
       "      <th>King</th>\n",
       "      <th>Kitsap</th>\n",
       "      <th>Pierce</th>\n",
       "      <th>Snohomish</th>\n",
       "    </tr>\n",
       "    <tr>\n",
       "      <th>Home County</th>\n",
       "      <th></th>\n",
       "      <th></th>\n",
       "      <th></th>\n",
       "      <th></th>\n",
       "    </tr>\n",
       "  </thead>\n",
       "  <tbody>\n",
       "    <tr>\n",
       "      <th>King</th>\n",
       "      <td>1,165,490</td>\n",
       "      <td>2,029</td>\n",
       "      <td>46,732</td>\n",
       "      <td>44,525</td>\n",
       "    </tr>\n",
       "    <tr>\n",
       "      <th>Kitsap</th>\n",
       "      <td>19,120</td>\n",
       "      <td>91,102</td>\n",
       "      <td>8,490</td>\n",
       "      <td>765</td>\n",
       "    </tr>\n",
       "    <tr>\n",
       "      <th>Pierce</th>\n",
       "      <td>107,091</td>\n",
       "      <td>8,832</td>\n",
       "      <td>290,233</td>\n",
       "      <td>1,088</td>\n",
       "    </tr>\n",
       "    <tr>\n",
       "      <th>Snohomish</th>\n",
       "      <td>158,793</td>\n",
       "      <td>207</td>\n",
       "      <td>1,158</td>\n",
       "      <td>268,474</td>\n",
       "    </tr>\n",
       "  </tbody>\n",
       "</table>\n",
       "</div>"
      ],
      "text/plain": [
       "             psexpfac                         \n",
       "Work County      King Kitsap  Pierce Snohomish\n",
       "Home County                                   \n",
       "King        1,165,490  2,029  46,732    44,525\n",
       "Kitsap         19,120 91,102   8,490       765\n",
       "Pierce        107,091  8,832 290,233     1,088\n",
       "Snohomish     158,793    207   1,158   268,474"
      ]
     },
     "execution_count": 17,
     "metadata": {},
     "output_type": "execute_result"
    }
   ],
   "source": [
    "df = load_data('work_flows')\n",
    "pd.options.display.float_format = '{:0,.0f}'.format\n",
    "df.rename(columns={'person_county': 'Home County', 'person_work_county':'Work County'}, inplace=True)\n",
    "\n",
    "pd.pivot_table(df[df['source'] == 'model'], index='Home County', columns='Work County', aggfunc='sum')"
   ]
  },
  {
   "cell_type": "code",
   "execution_count": null,
   "metadata": {},
   "outputs": [],
   "source": []
  }
 ],
 "metadata": {
  "kernelspec": {
   "display_name": "Python 3",
   "language": "python",
   "name": "python3"
  },
  "language_info": {
   "codemirror_mode": {
    "name": "ipython",
    "version": 3
   },
   "file_extension": ".py",
   "mimetype": "text/x-python",
   "name": "python",
   "nbconvert_exporter": "python",
   "pygments_lexer": "ipython3",
   "version": "3.7.10"
  }
 },
 "nbformat": 4,
 "nbformat_minor": 2
}
