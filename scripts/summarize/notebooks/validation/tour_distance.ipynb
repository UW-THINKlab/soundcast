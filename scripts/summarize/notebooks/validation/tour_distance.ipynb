{
 "cells": [
  {
   "cell_type": "code",
   "execution_count": 7,
   "metadata": {
    "execution": {
     "iopub.execute_input": "2024-04-03T21:13:41.802146Z",
     "iopub.status.busy": "2024-04-03T21:13:41.802146Z",
     "iopub.status.idle": "2024-04-03T21:13:42.713178Z",
     "shell.execute_reply": "2024-04-03T21:13:42.713178Z"
    }
   },
   "outputs": [],
   "source": [
    "import warnings\n",
    "warnings.simplefilter(action='ignore', category=FutureWarning)\n",
    "import pandas as pd\n",
    "import os, sys\n",
    "import toml\n",
    "config = toml.load('../../../../configuration/input_configuration.toml')\n",
    "%matplotlib inline\n",
    "\n",
    "from IPython.display import display, HTML\n",
    "\n",
    "if (sys.version_info < (3, 0)):\n",
    "    HTML('''<script>\n",
    "    code_show=true; \n",
    "    function code_toggle() {\n",
    "     if (code_show){\n",
    "     $('div.input').hide();\n",
    "     } else {\n",
    "     $('div.input').show();\n",
    "     }\n",
    "     code_show = !code_show\n",
    "    } \n",
    "    $( document ).ready(code_toggle);\n",
    "    </script>\n",
    "    <form action=\"javascript:code_toggle()\"><input type=\"submit\" value=\"Click here to toggle on/off the raw code.\"></form>''')\n"
   ]
  },
  {
   "cell_type": "code",
   "execution_count": 8,
   "metadata": {
    "execution": {
     "iopub.execute_input": "2024-04-03T21:13:42.720158Z",
     "iopub.status.busy": "2024-04-03T21:13:42.719161Z",
     "iopub.status.idle": "2024-04-03T21:13:42.730133Z",
     "shell.execute_reply": "2024-04-03T21:13:42.729135Z"
    }
   },
   "outputs": [],
   "source": [
    "working_dir = r'../../../../outputs/agg/dash'\n",
    "# pd.options.display.float_format = '{:0,.0f}'.format\n",
    "format_percent = \"{:,.2%}\".format"
   ]
  },
  {
   "cell_type": "code",
   "execution_count": 9,
   "metadata": {
    "execution": {
     "iopub.execute_input": "2024-04-03T21:13:42.736116Z",
     "iopub.status.busy": "2024-04-03T21:13:42.735118Z",
     "iopub.status.idle": "2024-04-03T21:13:42.745599Z",
     "shell.execute_reply": "2024-04-03T21:13:42.744601Z"
    }
   },
   "outputs": [],
   "source": [
    "def load_data(fname):\n",
    "    \"\"\" open and join model and survey data \"\"\"\n",
    "\n",
    "    df_model = pd.read_csv(os.path.join(working_dir,fname+'.csv'))\n",
    "    df_model['source'] = 'model'\n",
    "    df_survey = pd.read_csv(os.path.join(working_dir,'survey',fname+'.csv'))\n",
    "    df_survey['source'] = 'survey'\n",
    "    df = df_model.append(df_survey)\n",
    "\n",
    "    return df"
   ]
  },
  {
   "cell_type": "code",
   "execution_count": 10,
   "metadata": {
    "execution": {
     "iopub.execute_input": "2024-04-03T21:13:42.751583Z",
     "iopub.status.busy": "2024-04-03T21:13:42.750585Z",
     "iopub.status.idle": "2024-04-03T21:13:45.575473Z",
     "shell.execute_reply": "2024-04-03T21:13:45.575473Z"
    }
   },
   "outputs": [],
   "source": [
    "parcel_geog = pd.read_sql_table('parcel_'+config['base_year']+'_geography', 'sqlite:///../../../../inputs/db/'+config['db_name'],\n",
    "        columns=['CountyName','ParcelID'])"
   ]
  },
  {
   "cell_type": "code",
   "execution_count": 11,
   "metadata": {
    "execution": {
     "iopub.execute_input": "2024-04-03T21:13:45.575473Z",
     "iopub.status.busy": "2024-04-03T21:13:45.575473Z",
     "iopub.status.idle": "2024-04-03T21:13:45.606783Z",
     "shell.execute_reply": "2024-04-03T21:13:45.606783Z"
    }
   },
   "outputs": [],
   "source": [
    "def dist_by_mode(purpose=None):\n",
    "    df = load_data('tour_distance')\n",
    "    # Trim any unreasonable survey distances off by taking max distance as max modeled bin value\n",
    "    max_model_dist = df.loc[(df['source']=='model'), 'tautodist_bin'].max()\n",
    "    df = df.loc[df['tautodist_bin'] <= max_model_dist]\n",
    "    df['wt_autodist'] = (df['tautodist_bin']+0.5)*(df['toexpfac'])\n",
    "    df_dist = pd.DataFrame()\n",
    "    for source in ['model','survey']:\n",
    "        if purpose is not None:\n",
    "            _df = df[(df['source'] == source) & (df['pdpurp'] == purpose)]\n",
    "        else:\n",
    "            _df = df[(df['source'] == source)]\n",
    "        df1 = _df.groupby('tmodetp').sum()[['wt_autodist']].reset_index()\n",
    "        df2 = _df.groupby('tmodetp').sum()[['toexpfac']].reset_index ()\n",
    "        _df = df1.merge(df2, on='tmodetp')\n",
    "        _df['commute_distance'] = _df['wt_autodist']/_df['toexpfac']\n",
    "        _df['source'] = source\n",
    "        df_dist = df_dist.append(_df)\n",
    "    df = df_dist.pivot_table(index='tmodetp', columns='source', aggfunc='first', values='commute_distance')\n",
    "    df.rename(columns={'tmodetp': 'Tour Mode'}, inplace=True)\n",
    "    for col in ['School Bus',' Park']:\n",
    "        if (col in df.index) & (purpose != 'School'):\n",
    "            df.drop(col, axis=0, inplace=True)\n",
    "        if (col != 'School Bus') & (col in df.index):\n",
    "            df.drop(col, axis=0, inplace=True)\n",
    "    \n",
    "    return df"
   ]
  },
  {
   "cell_type": "markdown",
   "metadata": {},
   "source": [
    "### Total"
   ]
  },
  {
   "cell_type": "code",
   "execution_count": 12,
   "metadata": {
    "execution": {
     "iopub.execute_input": "2024-04-03T21:13:45.606783Z",
     "iopub.status.busy": "2024-04-03T21:13:45.606783Z",
     "iopub.status.idle": "2024-04-03T21:13:45.684889Z",
     "shell.execute_reply": "2024-04-03T21:13:45.684889Z"
    }
   },
   "outputs": [
    {
     "data": {
      "text/html": [
       "<div>\n",
       "<style scoped>\n",
       "    .dataframe tbody tr th:only-of-type {\n",
       "        vertical-align: middle;\n",
       "    }\n",
       "\n",
       "    .dataframe tbody tr th {\n",
       "        vertical-align: top;\n",
       "    }\n",
       "\n",
       "    .dataframe thead th {\n",
       "        text-align: right;\n",
       "    }\n",
       "</style>\n",
       "<table border=\"1\" class=\"dataframe\">\n",
       "  <thead>\n",
       "    <tr style=\"text-align: right;\">\n",
       "      <th></th>\n",
       "      <th>School Distance (miles)</th>\n",
       "    </tr>\n",
       "    <tr>\n",
       "      <th>source</th>\n",
       "      <th></th>\n",
       "    </tr>\n",
       "  </thead>\n",
       "  <tbody>\n",
       "    <tr>\n",
       "      <th>model</th>\n",
       "      <td>3.856777</td>\n",
       "    </tr>\n",
       "    <tr>\n",
       "      <th>survey</th>\n",
       "      <td>3.927769</td>\n",
       "    </tr>\n",
       "  </tbody>\n",
       "</table>\n",
       "</div>"
      ],
      "text/plain": [
       "        School Distance (miles)\n",
       "source                         \n",
       "model                  3.856777\n",
       "survey                 3.927769"
      ]
     },
     "execution_count": 12,
     "metadata": {},
     "output_type": "execute_result"
    }
   ],
   "source": [
    "df = load_data('tour_distance')\n",
    "# Trim any unreasonable survey distances off by taking max distance as max modeled bin value\n",
    "max_model_dist = df.loc[(df['source']=='model'), 'tautodist_bin'].max()\n",
    "df = df.loc[df['tautodist_bin'] <= max_model_dist]\n",
    "df = df[(df['pdpurp'] == 'School')]\n",
    "df['wt_autodist'] = (df['tautodist_bin']+0.5)*(df['toexpfac'])\n",
    "df = df.groupby('source').sum()\n",
    "pd.DataFrame(df['wt_autodist']/df['toexpfac'], columns=['School Distance (miles)'])"
   ]
  },
  {
   "cell_type": "markdown",
   "metadata": {},
   "source": [
    "### By Purpose"
   ]
  },
  {
   "cell_type": "code",
   "execution_count": 13,
   "metadata": {
    "execution": {
     "iopub.execute_input": "2024-04-03T21:13:45.684889Z",
     "iopub.status.busy": "2024-04-03T21:13:45.684889Z",
     "iopub.status.idle": "2024-04-03T21:13:45.794238Z",
     "shell.execute_reply": "2024-04-03T21:13:45.794238Z"
    }
   },
   "outputs": [
    {
     "data": {
      "text/html": [
       "<div>\n",
       "<style scoped>\n",
       "    .dataframe tbody tr th:only-of-type {\n",
       "        vertical-align: middle;\n",
       "    }\n",
       "\n",
       "    .dataframe tbody tr th {\n",
       "        vertical-align: top;\n",
       "    }\n",
       "\n",
       "    .dataframe thead th {\n",
       "        text-align: right;\n",
       "    }\n",
       "</style>\n",
       "<table border=\"1\" class=\"dataframe\">\n",
       "  <thead>\n",
       "    <tr style=\"text-align: right;\">\n",
       "      <th>source</th>\n",
       "      <th>model</th>\n",
       "      <th>survey</th>\n",
       "    </tr>\n",
       "    <tr>\n",
       "      <th>pdpurp</th>\n",
       "      <th></th>\n",
       "      <th></th>\n",
       "    </tr>\n",
       "  </thead>\n",
       "  <tbody>\n",
       "    <tr>\n",
       "      <th>Escort</th>\n",
       "      <td>7.124134</td>\n",
       "      <td>4.359001</td>\n",
       "    </tr>\n",
       "    <tr>\n",
       "      <th>Meal</th>\n",
       "      <td>5.880041</td>\n",
       "      <td>3.757344</td>\n",
       "    </tr>\n",
       "    <tr>\n",
       "      <th>Personal Business</th>\n",
       "      <td>6.875520</td>\n",
       "      <td>6.631983</td>\n",
       "    </tr>\n",
       "    <tr>\n",
       "      <th>School</th>\n",
       "      <td>3.856777</td>\n",
       "      <td>3.927769</td>\n",
       "    </tr>\n",
       "    <tr>\n",
       "      <th>Shop</th>\n",
       "      <td>4.544623</td>\n",
       "      <td>4.274982</td>\n",
       "    </tr>\n",
       "    <tr>\n",
       "      <th>Social</th>\n",
       "      <td>4.475642</td>\n",
       "      <td>5.629700</td>\n",
       "    </tr>\n",
       "    <tr>\n",
       "      <th>Work</th>\n",
       "      <td>11.618375</td>\n",
       "      <td>11.402478</td>\n",
       "    </tr>\n",
       "  </tbody>\n",
       "</table>\n",
       "</div>"
      ],
      "text/plain": [
       "source                 model     survey\n",
       "pdpurp                                 \n",
       "Escort              7.124134   4.359001\n",
       "Meal                5.880041   3.757344\n",
       "Personal Business   6.875520   6.631983\n",
       "School              3.856777   3.927769\n",
       "Shop                4.544623   4.274982\n",
       "Social              4.475642   5.629700\n",
       "Work               11.618375  11.402478"
      ]
     },
     "execution_count": 13,
     "metadata": {},
     "output_type": "execute_result"
    }
   ],
   "source": [
    "df = load_data('tour_distance')\n",
    "# Trim any unreasonable survey distances off by taking max distance as max modeled bin value\n",
    "max_model_dist = df.loc[(df['source']=='model'), 'tautodist_bin'].max()\n",
    "df = df.loc[df['tautodist_bin'] <= max_model_dist]\n",
    "df['wt_autodist'] = (df['tautodist_bin']+0.5)*(df['toexpfac'])\n",
    "df_dist = pd.DataFrame()\n",
    "for source in ['model','survey']:\n",
    "    _df = df[(df['source'] == source)]\n",
    "    df1 = _df.groupby('pdpurp').sum()[['wt_autodist']].reset_index()\n",
    "    df2 = _df.groupby('pdpurp').sum()[['toexpfac']].reset_index ()\n",
    "    _df = df1.merge(df2, on='pdpurp')\n",
    "    _df['commute_distance'] = _df['wt_autodist']/_df['toexpfac']\n",
    "    _df['source'] = source\n",
    "    df_dist = df_dist.append(_df)\n",
    "df = df_dist.pivot_table(index='pdpurp', columns='source', aggfunc='first', values='commute_distance')\n",
    "df.rename(columns={'pdpurp': 'Tour Purpose'}, inplace=True)\n",
    "# df.drop('Change Mode Inserted Purpose', axis=0, inplace=True)\n",
    "df"
   ]
  },
  {
   "cell_type": "markdown",
   "metadata": {},
   "source": [
    "# Tour Distance\n",
    "### All Tours"
   ]
  },
  {
   "cell_type": "code",
   "execution_count": 14,
   "metadata": {
    "execution": {
     "iopub.execute_input": "2024-04-03T21:13:45.794238Z",
     "iopub.status.busy": "2024-04-03T21:13:45.794238Z",
     "iopub.status.idle": "2024-04-03T21:13:45.966006Z",
     "shell.execute_reply": "2024-04-03T21:13:45.966006Z"
    }
   },
   "outputs": [
    {
     "data": {
      "text/html": [
       "<div>\n",
       "<style scoped>\n",
       "    .dataframe tbody tr th:only-of-type {\n",
       "        vertical-align: middle;\n",
       "    }\n",
       "\n",
       "    .dataframe tbody tr th {\n",
       "        vertical-align: top;\n",
       "    }\n",
       "\n",
       "    .dataframe thead th {\n",
       "        text-align: right;\n",
       "    }\n",
       "</style>\n",
       "<table border=\"1\" class=\"dataframe\">\n",
       "  <thead>\n",
       "    <tr style=\"text-align: right;\">\n",
       "      <th>source</th>\n",
       "      <th>model</th>\n",
       "      <th>survey</th>\n",
       "    </tr>\n",
       "    <tr>\n",
       "      <th>tmodetp</th>\n",
       "      <th></th>\n",
       "      <th></th>\n",
       "    </tr>\n",
       "  </thead>\n",
       "  <tbody>\n",
       "    <tr>\n",
       "      <th>Bike</th>\n",
       "      <td>5.612430</td>\n",
       "      <td>2.358237</td>\n",
       "    </tr>\n",
       "    <tr>\n",
       "      <th>HOV2</th>\n",
       "      <td>7.073234</td>\n",
       "      <td>5.932619</td>\n",
       "    </tr>\n",
       "    <tr>\n",
       "      <th>HOV3+</th>\n",
       "      <td>6.838749</td>\n",
       "      <td>6.832261</td>\n",
       "    </tr>\n",
       "    <tr>\n",
       "      <th>Park</th>\n",
       "      <td>16.163089</td>\n",
       "      <td>16.356694</td>\n",
       "    </tr>\n",
       "    <tr>\n",
       "      <th>SOV</th>\n",
       "      <td>8.451689</td>\n",
       "      <td>8.316768</td>\n",
       "    </tr>\n",
       "    <tr>\n",
       "      <th>TNC</th>\n",
       "      <td>2.309983</td>\n",
       "      <td>6.928344</td>\n",
       "    </tr>\n",
       "    <tr>\n",
       "      <th>Transit</th>\n",
       "      <td>8.972036</td>\n",
       "      <td>9.180212</td>\n",
       "    </tr>\n",
       "    <tr>\n",
       "      <th>Walk</th>\n",
       "      <td>0.957784</td>\n",
       "      <td>0.844283</td>\n",
       "    </tr>\n",
       "  </tbody>\n",
       "</table>\n",
       "</div>"
      ],
      "text/plain": [
       "source       model     survey\n",
       "tmodetp                      \n",
       "Bike      5.612430   2.358237\n",
       "HOV2      7.073234   5.932619\n",
       "HOV3+     6.838749   6.832261\n",
       "Park     16.163089  16.356694\n",
       "SOV       8.451689   8.316768\n",
       "TNC       2.309983   6.928344\n",
       "Transit   8.972036   9.180212\n",
       "Walk      0.957784   0.844283"
      ]
     },
     "execution_count": 14,
     "metadata": {},
     "output_type": "execute_result"
    }
   ],
   "source": [
    "dist_by_mode()"
   ]
  },
  {
   "cell_type": "markdown",
   "metadata": {},
   "source": [
    "### Average Work Tour Distance By Mode"
   ]
  },
  {
   "cell_type": "code",
   "execution_count": 15,
   "metadata": {
    "execution": {
     "iopub.execute_input": "2024-04-03T21:13:45.966006Z",
     "iopub.status.busy": "2024-04-03T21:13:45.966006Z",
     "iopub.status.idle": "2024-04-03T21:13:46.028563Z",
     "shell.execute_reply": "2024-04-03T21:13:46.028563Z"
    }
   },
   "outputs": [
    {
     "data": {
      "text/html": [
       "<div>\n",
       "<style scoped>\n",
       "    .dataframe tbody tr th:only-of-type {\n",
       "        vertical-align: middle;\n",
       "    }\n",
       "\n",
       "    .dataframe tbody tr th {\n",
       "        vertical-align: top;\n",
       "    }\n",
       "\n",
       "    .dataframe thead th {\n",
       "        text-align: right;\n",
       "    }\n",
       "</style>\n",
       "<table border=\"1\" class=\"dataframe\">\n",
       "  <thead>\n",
       "    <tr style=\"text-align: right;\">\n",
       "      <th>source</th>\n",
       "      <th>model</th>\n",
       "      <th>survey</th>\n",
       "    </tr>\n",
       "    <tr>\n",
       "      <th>tmodetp</th>\n",
       "      <th></th>\n",
       "      <th></th>\n",
       "    </tr>\n",
       "  </thead>\n",
       "  <tbody>\n",
       "    <tr>\n",
       "      <th>Bike</th>\n",
       "      <td>5.581095</td>\n",
       "      <td>3.219214</td>\n",
       "    </tr>\n",
       "    <tr>\n",
       "      <th>HOV2</th>\n",
       "      <td>11.664024</td>\n",
       "      <td>12.056786</td>\n",
       "    </tr>\n",
       "    <tr>\n",
       "      <th>HOV3+</th>\n",
       "      <td>12.126711</td>\n",
       "      <td>14.218483</td>\n",
       "    </tr>\n",
       "    <tr>\n",
       "      <th>Park</th>\n",
       "      <td>16.163089</td>\n",
       "      <td>16.524274</td>\n",
       "    </tr>\n",
       "    <tr>\n",
       "      <th>SOV</th>\n",
       "      <td>12.270899</td>\n",
       "      <td>11.523192</td>\n",
       "    </tr>\n",
       "    <tr>\n",
       "      <th>TNC</th>\n",
       "      <td>5.402178</td>\n",
       "      <td>8.997572</td>\n",
       "    </tr>\n",
       "    <tr>\n",
       "      <th>Transit</th>\n",
       "      <td>12.928050</td>\n",
       "      <td>10.923398</td>\n",
       "    </tr>\n",
       "    <tr>\n",
       "      <th>Walk</th>\n",
       "      <td>0.752125</td>\n",
       "      <td>1.104276</td>\n",
       "    </tr>\n",
       "  </tbody>\n",
       "</table>\n",
       "</div>"
      ],
      "text/plain": [
       "source       model     survey\n",
       "tmodetp                      \n",
       "Bike      5.581095   3.219214\n",
       "HOV2     11.664024  12.056786\n",
       "HOV3+    12.126711  14.218483\n",
       "Park     16.163089  16.524274\n",
       "SOV      12.270899  11.523192\n",
       "TNC       5.402178   8.997572\n",
       "Transit  12.928050  10.923398\n",
       "Walk      0.752125   1.104276"
      ]
     },
     "execution_count": 15,
     "metadata": {},
     "output_type": "execute_result"
    }
   ],
   "source": [
    "dist_by_mode('Work')"
   ]
  },
  {
   "cell_type": "markdown",
   "metadata": {},
   "source": [
    "### Average School Tour Distance by Mode"
   ]
  },
  {
   "cell_type": "code",
   "execution_count": 16,
   "metadata": {
    "execution": {
     "iopub.execute_input": "2024-04-03T21:13:46.028563Z",
     "iopub.status.busy": "2024-04-03T21:13:46.028563Z",
     "iopub.status.idle": "2024-04-03T21:13:46.122305Z",
     "shell.execute_reply": "2024-04-03T21:13:46.122305Z"
    }
   },
   "outputs": [
    {
     "data": {
      "text/html": [
       "<div>\n",
       "<style scoped>\n",
       "    .dataframe tbody tr th:only-of-type {\n",
       "        vertical-align: middle;\n",
       "    }\n",
       "\n",
       "    .dataframe tbody tr th {\n",
       "        vertical-align: top;\n",
       "    }\n",
       "\n",
       "    .dataframe thead th {\n",
       "        text-align: right;\n",
       "    }\n",
       "</style>\n",
       "<table border=\"1\" class=\"dataframe\">\n",
       "  <thead>\n",
       "    <tr style=\"text-align: right;\">\n",
       "      <th>source</th>\n",
       "      <th>model</th>\n",
       "      <th>survey</th>\n",
       "    </tr>\n",
       "    <tr>\n",
       "      <th>tmodetp</th>\n",
       "      <th></th>\n",
       "      <th></th>\n",
       "    </tr>\n",
       "  </thead>\n",
       "  <tbody>\n",
       "    <tr>\n",
       "      <th>Bike</th>\n",
       "      <td>2.634800</td>\n",
       "      <td>2.332524</td>\n",
       "    </tr>\n",
       "    <tr>\n",
       "      <th>HOV2</th>\n",
       "      <td>3.615770</td>\n",
       "      <td>3.061157</td>\n",
       "    </tr>\n",
       "    <tr>\n",
       "      <th>HOV3+</th>\n",
       "      <td>3.648348</td>\n",
       "      <td>4.202338</td>\n",
       "    </tr>\n",
       "    <tr>\n",
       "      <th>SOV</th>\n",
       "      <td>8.612977</td>\n",
       "      <td>8.040764</td>\n",
       "    </tr>\n",
       "    <tr>\n",
       "      <th>School Bus</th>\n",
       "      <td>3.153462</td>\n",
       "      <td>2.901791</td>\n",
       "    </tr>\n",
       "    <tr>\n",
       "      <th>TNC</th>\n",
       "      <td>2.446575</td>\n",
       "      <td>NaN</td>\n",
       "    </tr>\n",
       "    <tr>\n",
       "      <th>Transit</th>\n",
       "      <td>6.941237</td>\n",
       "      <td>8.549150</td>\n",
       "    </tr>\n",
       "    <tr>\n",
       "      <th>Walk</th>\n",
       "      <td>1.103180</td>\n",
       "      <td>0.829758</td>\n",
       "    </tr>\n",
       "  </tbody>\n",
       "</table>\n",
       "</div>"
      ],
      "text/plain": [
       "source         model    survey\n",
       "tmodetp                       \n",
       "Bike        2.634800  2.332524\n",
       "HOV2        3.615770  3.061157\n",
       "HOV3+       3.648348  4.202338\n",
       "SOV         8.612977  8.040764\n",
       "School Bus  3.153462  2.901791\n",
       "TNC         2.446575       NaN\n",
       "Transit     6.941237  8.549150\n",
       "Walk        1.103180  0.829758"
      ]
     },
     "execution_count": 16,
     "metadata": {},
     "output_type": "execute_result"
    }
   ],
   "source": [
    "dist_by_mode('School')"
   ]
  },
  {
   "cell_type": "markdown",
   "metadata": {},
   "source": [
    "### Average Personal Business Tour Distance by Mode"
   ]
  },
  {
   "cell_type": "code",
   "execution_count": 17,
   "metadata": {
    "execution": {
     "iopub.execute_input": "2024-04-03T21:13:46.122305Z",
     "iopub.status.busy": "2024-04-03T21:13:46.122305Z",
     "iopub.status.idle": "2024-04-03T21:13:46.216058Z",
     "shell.execute_reply": "2024-04-03T21:13:46.216058Z"
    }
   },
   "outputs": [
    {
     "data": {
      "text/html": [
       "<div>\n",
       "<style scoped>\n",
       "    .dataframe tbody tr th:only-of-type {\n",
       "        vertical-align: middle;\n",
       "    }\n",
       "\n",
       "    .dataframe tbody tr th {\n",
       "        vertical-align: top;\n",
       "    }\n",
       "\n",
       "    .dataframe thead th {\n",
       "        text-align: right;\n",
       "    }\n",
       "</style>\n",
       "<table border=\"1\" class=\"dataframe\">\n",
       "  <thead>\n",
       "    <tr style=\"text-align: right;\">\n",
       "      <th>source</th>\n",
       "      <th>model</th>\n",
       "      <th>survey</th>\n",
       "    </tr>\n",
       "    <tr>\n",
       "      <th>tmodetp</th>\n",
       "      <th></th>\n",
       "      <th></th>\n",
       "    </tr>\n",
       "  </thead>\n",
       "  <tbody>\n",
       "    <tr>\n",
       "      <th>Bike</th>\n",
       "      <td>3.279863</td>\n",
       "      <td>2.328799</td>\n",
       "    </tr>\n",
       "    <tr>\n",
       "      <th>HOV2</th>\n",
       "      <td>8.021180</td>\n",
       "      <td>7.062631</td>\n",
       "    </tr>\n",
       "    <tr>\n",
       "      <th>HOV3+</th>\n",
       "      <td>7.819342</td>\n",
       "      <td>9.720407</td>\n",
       "    </tr>\n",
       "    <tr>\n",
       "      <th>Park</th>\n",
       "      <td>NaN</td>\n",
       "      <td>22.182039</td>\n",
       "    </tr>\n",
       "    <tr>\n",
       "      <th>SOV</th>\n",
       "      <td>6.813056</td>\n",
       "      <td>4.687277</td>\n",
       "    </tr>\n",
       "    <tr>\n",
       "      <th>TNC</th>\n",
       "      <td>2.196789</td>\n",
       "      <td>6.124703</td>\n",
       "    </tr>\n",
       "    <tr>\n",
       "      <th>Transit</th>\n",
       "      <td>7.107685</td>\n",
       "      <td>13.585403</td>\n",
       "    </tr>\n",
       "    <tr>\n",
       "      <th>Walk</th>\n",
       "      <td>1.193778</td>\n",
       "      <td>1.534727</td>\n",
       "    </tr>\n",
       "  </tbody>\n",
       "</table>\n",
       "</div>"
      ],
      "text/plain": [
       "source      model     survey\n",
       "tmodetp                     \n",
       "Bike     3.279863   2.328799\n",
       "HOV2     8.021180   7.062631\n",
       "HOV3+    7.819342   9.720407\n",
       "Park          NaN  22.182039\n",
       "SOV      6.813056   4.687277\n",
       "TNC      2.196789   6.124703\n",
       "Transit  7.107685  13.585403\n",
       "Walk     1.193778   1.534727"
      ]
     },
     "execution_count": 17,
     "metadata": {},
     "output_type": "execute_result"
    }
   ],
   "source": [
    "dist_by_mode('Personal Business')"
   ]
  },
  {
   "cell_type": "markdown",
   "metadata": {},
   "source": [
    "### Average Shopping Tour Distance by Mode"
   ]
  },
  {
   "cell_type": "code",
   "execution_count": 18,
   "metadata": {
    "execution": {
     "iopub.execute_input": "2024-04-03T21:13:46.216058Z",
     "iopub.status.busy": "2024-04-03T21:13:46.216058Z",
     "iopub.status.idle": "2024-04-03T21:13:46.309677Z",
     "shell.execute_reply": "2024-04-03T21:13:46.309677Z"
    }
   },
   "outputs": [
    {
     "data": {
      "text/html": [
       "<div>\n",
       "<style scoped>\n",
       "    .dataframe tbody tr th:only-of-type {\n",
       "        vertical-align: middle;\n",
       "    }\n",
       "\n",
       "    .dataframe tbody tr th {\n",
       "        vertical-align: top;\n",
       "    }\n",
       "\n",
       "    .dataframe thead th {\n",
       "        text-align: right;\n",
       "    }\n",
       "</style>\n",
       "<table border=\"1\" class=\"dataframe\">\n",
       "  <thead>\n",
       "    <tr style=\"text-align: right;\">\n",
       "      <th>source</th>\n",
       "      <th>model</th>\n",
       "      <th>survey</th>\n",
       "    </tr>\n",
       "    <tr>\n",
       "      <th>tmodetp</th>\n",
       "      <th></th>\n",
       "      <th></th>\n",
       "    </tr>\n",
       "  </thead>\n",
       "  <tbody>\n",
       "    <tr>\n",
       "      <th>Bike</th>\n",
       "      <td>2.351737</td>\n",
       "      <td>0.798839</td>\n",
       "    </tr>\n",
       "    <tr>\n",
       "      <th>HOV2</th>\n",
       "      <td>5.300824</td>\n",
       "      <td>5.307668</td>\n",
       "    </tr>\n",
       "    <tr>\n",
       "      <th>HOV3+</th>\n",
       "      <td>5.349561</td>\n",
       "      <td>5.059006</td>\n",
       "    </tr>\n",
       "    <tr>\n",
       "      <th>SOV</th>\n",
       "      <td>4.608936</td>\n",
       "      <td>4.123578</td>\n",
       "    </tr>\n",
       "    <tr>\n",
       "      <th>TNC</th>\n",
       "      <td>1.609984</td>\n",
       "      <td>NaN</td>\n",
       "    </tr>\n",
       "    <tr>\n",
       "      <th>Transit</th>\n",
       "      <td>4.080660</td>\n",
       "      <td>3.529301</td>\n",
       "    </tr>\n",
       "    <tr>\n",
       "      <th>Walk</th>\n",
       "      <td>1.080382</td>\n",
       "      <td>0.755967</td>\n",
       "    </tr>\n",
       "  </tbody>\n",
       "</table>\n",
       "</div>"
      ],
      "text/plain": [
       "source      model    survey\n",
       "tmodetp                    \n",
       "Bike     2.351737  0.798839\n",
       "HOV2     5.300824  5.307668\n",
       "HOV3+    5.349561  5.059006\n",
       "SOV      4.608936  4.123578\n",
       "TNC      1.609984       NaN\n",
       "Transit  4.080660  3.529301\n",
       "Walk     1.080382  0.755967"
      ]
     },
     "execution_count": 18,
     "metadata": {},
     "output_type": "execute_result"
    }
   ],
   "source": [
    "dist_by_mode('Shop')"
   ]
  },
  {
   "cell_type": "markdown",
   "metadata": {},
   "source": [
    "### Average Meal Tour Distance by Mode"
   ]
  },
  {
   "cell_type": "code",
   "execution_count": 19,
   "metadata": {
    "execution": {
     "iopub.execute_input": "2024-04-03T21:13:46.309677Z",
     "iopub.status.busy": "2024-04-03T21:13:46.309677Z",
     "iopub.status.idle": "2024-04-03T21:13:46.387786Z",
     "shell.execute_reply": "2024-04-03T21:13:46.387786Z"
    }
   },
   "outputs": [
    {
     "data": {
      "text/html": [
       "<div>\n",
       "<style scoped>\n",
       "    .dataframe tbody tr th:only-of-type {\n",
       "        vertical-align: middle;\n",
       "    }\n",
       "\n",
       "    .dataframe tbody tr th {\n",
       "        vertical-align: top;\n",
       "    }\n",
       "\n",
       "    .dataframe thead th {\n",
       "        text-align: right;\n",
       "    }\n",
       "</style>\n",
       "<table border=\"1\" class=\"dataframe\">\n",
       "  <thead>\n",
       "    <tr style=\"text-align: right;\">\n",
       "      <th>source</th>\n",
       "      <th>model</th>\n",
       "      <th>survey</th>\n",
       "    </tr>\n",
       "    <tr>\n",
       "      <th>tmodetp</th>\n",
       "      <th></th>\n",
       "      <th></th>\n",
       "    </tr>\n",
       "  </thead>\n",
       "  <tbody>\n",
       "    <tr>\n",
       "      <th>Bike</th>\n",
       "      <td>1.561528</td>\n",
       "      <td>1.149049</td>\n",
       "    </tr>\n",
       "    <tr>\n",
       "      <th>HOV2</th>\n",
       "      <td>8.698182</td>\n",
       "      <td>3.871146</td>\n",
       "    </tr>\n",
       "    <tr>\n",
       "      <th>HOV3+</th>\n",
       "      <td>9.353998</td>\n",
       "      <td>4.485626</td>\n",
       "    </tr>\n",
       "    <tr>\n",
       "      <th>Park</th>\n",
       "      <td>NaN</td>\n",
       "      <td>14.389210</td>\n",
       "    </tr>\n",
       "    <tr>\n",
       "      <th>SOV</th>\n",
       "      <td>5.494497</td>\n",
       "      <td>3.677246</td>\n",
       "    </tr>\n",
       "    <tr>\n",
       "      <th>TNC</th>\n",
       "      <td>1.472730</td>\n",
       "      <td>1.500000</td>\n",
       "    </tr>\n",
       "    <tr>\n",
       "      <th>Transit</th>\n",
       "      <td>6.932504</td>\n",
       "      <td>3.778609</td>\n",
       "    </tr>\n",
       "    <tr>\n",
       "      <th>Walk</th>\n",
       "      <td>0.701145</td>\n",
       "      <td>0.823848</td>\n",
       "    </tr>\n",
       "  </tbody>\n",
       "</table>\n",
       "</div>"
      ],
      "text/plain": [
       "source      model     survey\n",
       "tmodetp                     \n",
       "Bike     1.561528   1.149049\n",
       "HOV2     8.698182   3.871146\n",
       "HOV3+    9.353998   4.485626\n",
       "Park          NaN  14.389210\n",
       "SOV      5.494497   3.677246\n",
       "TNC      1.472730   1.500000\n",
       "Transit  6.932504   3.778609\n",
       "Walk     0.701145   0.823848"
      ]
     },
     "execution_count": 19,
     "metadata": {},
     "output_type": "execute_result"
    }
   ],
   "source": [
    "dist_by_mode('Meal')"
   ]
  },
  {
   "cell_type": "markdown",
   "metadata": {},
   "source": [
    "### Average Social Tour Distance by Mode"
   ]
  },
  {
   "cell_type": "code",
   "execution_count": 20,
   "metadata": {
    "execution": {
     "iopub.execute_input": "2024-04-03T21:13:46.387786Z",
     "iopub.status.busy": "2024-04-03T21:13:46.387786Z",
     "iopub.status.idle": "2024-04-03T21:13:46.466001Z",
     "shell.execute_reply": "2024-04-03T21:13:46.466001Z"
    }
   },
   "outputs": [
    {
     "data": {
      "text/html": [
       "<div>\n",
       "<style scoped>\n",
       "    .dataframe tbody tr th:only-of-type {\n",
       "        vertical-align: middle;\n",
       "    }\n",
       "\n",
       "    .dataframe tbody tr th {\n",
       "        vertical-align: top;\n",
       "    }\n",
       "\n",
       "    .dataframe thead th {\n",
       "        text-align: right;\n",
       "    }\n",
       "</style>\n",
       "<table border=\"1\" class=\"dataframe\">\n",
       "  <thead>\n",
       "    <tr style=\"text-align: right;\">\n",
       "      <th>source</th>\n",
       "      <th>model</th>\n",
       "      <th>survey</th>\n",
       "    </tr>\n",
       "    <tr>\n",
       "      <th>tmodetp</th>\n",
       "      <th></th>\n",
       "      <th></th>\n",
       "    </tr>\n",
       "  </thead>\n",
       "  <tbody>\n",
       "    <tr>\n",
       "      <th>Bike</th>\n",
       "      <td>2.505917</td>\n",
       "      <td>2.348585</td>\n",
       "    </tr>\n",
       "    <tr>\n",
       "      <th>HOV2</th>\n",
       "      <td>6.039985</td>\n",
       "      <td>5.623100</td>\n",
       "    </tr>\n",
       "    <tr>\n",
       "      <th>HOV3+</th>\n",
       "      <td>5.984149</td>\n",
       "      <td>7.486065</td>\n",
       "    </tr>\n",
       "    <tr>\n",
       "      <th>Park</th>\n",
       "      <td>NaN</td>\n",
       "      <td>16.082474</td>\n",
       "    </tr>\n",
       "    <tr>\n",
       "      <th>SOV</th>\n",
       "      <td>5.342638</td>\n",
       "      <td>6.824962</td>\n",
       "    </tr>\n",
       "    <tr>\n",
       "      <th>TNC</th>\n",
       "      <td>1.595976</td>\n",
       "      <td>4.949222</td>\n",
       "    </tr>\n",
       "    <tr>\n",
       "      <th>Transit</th>\n",
       "      <td>5.466509</td>\n",
       "      <td>9.924383</td>\n",
       "    </tr>\n",
       "    <tr>\n",
       "      <th>Walk</th>\n",
       "      <td>0.967130</td>\n",
       "      <td>0.801136</td>\n",
       "    </tr>\n",
       "  </tbody>\n",
       "</table>\n",
       "</div>"
      ],
      "text/plain": [
       "source      model     survey\n",
       "tmodetp                     \n",
       "Bike     2.505917   2.348585\n",
       "HOV2     6.039985   5.623100\n",
       "HOV3+    5.984149   7.486065\n",
       "Park          NaN  16.082474\n",
       "SOV      5.342638   6.824962\n",
       "TNC      1.595976   4.949222\n",
       "Transit  5.466509   9.924383\n",
       "Walk     0.967130   0.801136"
      ]
     },
     "execution_count": 20,
     "metadata": {},
     "output_type": "execute_result"
    }
   ],
   "source": [
    "dist_by_mode('Social')"
   ]
  },
  {
   "cell_type": "markdown",
   "metadata": {},
   "source": [
    "### Average Escort Tour Distance by Mode"
   ]
  },
  {
   "cell_type": "code",
   "execution_count": 21,
   "metadata": {
    "execution": {
     "iopub.execute_input": "2024-04-03T21:13:46.466001Z",
     "iopub.status.busy": "2024-04-03T21:13:46.466001Z",
     "iopub.status.idle": "2024-04-03T21:13:46.559687Z",
     "shell.execute_reply": "2024-04-03T21:13:46.559687Z"
    }
   },
   "outputs": [
    {
     "data": {
      "text/html": [
       "<div>\n",
       "<style scoped>\n",
       "    .dataframe tbody tr th:only-of-type {\n",
       "        vertical-align: middle;\n",
       "    }\n",
       "\n",
       "    .dataframe tbody tr th {\n",
       "        vertical-align: top;\n",
       "    }\n",
       "\n",
       "    .dataframe thead th {\n",
       "        text-align: right;\n",
       "    }\n",
       "</style>\n",
       "<table border=\"1\" class=\"dataframe\">\n",
       "  <thead>\n",
       "    <tr style=\"text-align: right;\">\n",
       "      <th>source</th>\n",
       "      <th>model</th>\n",
       "      <th>survey</th>\n",
       "    </tr>\n",
       "    <tr>\n",
       "      <th>tmodetp</th>\n",
       "      <th></th>\n",
       "      <th></th>\n",
       "    </tr>\n",
       "  </thead>\n",
       "  <tbody>\n",
       "    <tr>\n",
       "      <th>Bike</th>\n",
       "      <td>12.360518</td>\n",
       "      <td>1.370234</td>\n",
       "    </tr>\n",
       "    <tr>\n",
       "      <th>HOV2</th>\n",
       "      <td>6.671603</td>\n",
       "      <td>4.012821</td>\n",
       "    </tr>\n",
       "    <tr>\n",
       "      <th>HOV3+</th>\n",
       "      <td>7.229757</td>\n",
       "      <td>5.144569</td>\n",
       "    </tr>\n",
       "    <tr>\n",
       "      <th>SOV</th>\n",
       "      <td>22.742315</td>\n",
       "      <td>6.211452</td>\n",
       "    </tr>\n",
       "    <tr>\n",
       "      <th>TNC</th>\n",
       "      <td>1.645228</td>\n",
       "      <td>1.500000</td>\n",
       "    </tr>\n",
       "    <tr>\n",
       "      <th>Transit</th>\n",
       "      <td>2.653153</td>\n",
       "      <td>6.946770</td>\n",
       "    </tr>\n",
       "    <tr>\n",
       "      <th>Walk</th>\n",
       "      <td>0.965756</td>\n",
       "      <td>0.790155</td>\n",
       "    </tr>\n",
       "  </tbody>\n",
       "</table>\n",
       "</div>"
      ],
      "text/plain": [
       "source       model    survey\n",
       "tmodetp                     \n",
       "Bike     12.360518  1.370234\n",
       "HOV2      6.671603  4.012821\n",
       "HOV3+     7.229757  5.144569\n",
       "SOV      22.742315  6.211452\n",
       "TNC       1.645228  1.500000\n",
       "Transit   2.653153  6.946770\n",
       "Walk      0.965756  0.790155"
      ]
     },
     "execution_count": 21,
     "metadata": {},
     "output_type": "execute_result"
    }
   ],
   "source": [
    "dist_by_mode('Escort')"
   ]
  },
  {
   "cell_type": "markdown",
   "metadata": {},
   "source": [
    "Survey Sample Size Reference by Mode and Purpose"
   ]
  },
  {
   "cell_type": "code",
   "execution_count": 23,
   "metadata": {
    "execution": {
     "iopub.execute_input": "2024-04-03T21:13:46.559687Z",
     "iopub.status.busy": "2024-04-03T21:13:46.559687Z",
     "iopub.status.idle": "2024-04-03T21:13:46.637729Z",
     "shell.execute_reply": "2024-04-03T21:13:46.637729Z"
    }
   },
   "outputs": [],
   "source": [
    "# Survey Sample size\n",
    "df_tour_survey = pd.read_csv(r'../../../../inputs/base_year/survey/_tour.tsv', delim_whitespace=True)"
   ]
  },
  {
   "cell_type": "code",
   "execution_count": 24,
   "metadata": {
    "execution": {
     "iopub.execute_input": "2024-04-03T21:13:46.637729Z",
     "iopub.status.busy": "2024-04-03T21:13:46.637729Z",
     "iopub.status.idle": "2024-04-03T21:13:46.669040Z",
     "shell.execute_reply": "2024-04-03T21:13:46.669040Z"
    }
   },
   "outputs": [
    {
     "data": {
      "text/html": [
       "<div>\n",
       "<style scoped>\n",
       "    .dataframe tbody tr th:only-of-type {\n",
       "        vertical-align: middle;\n",
       "    }\n",
       "\n",
       "    .dataframe tbody tr th {\n",
       "        vertical-align: top;\n",
       "    }\n",
       "\n",
       "    .dataframe thead th {\n",
       "        text-align: right;\n",
       "    }\n",
       "</style>\n",
       "<table border=\"1\" class=\"dataframe\">\n",
       "  <thead>\n",
       "    <tr style=\"text-align: right;\">\n",
       "      <th>pdpurp</th>\n",
       "      <th>1</th>\n",
       "      <th>2</th>\n",
       "      <th>3</th>\n",
       "      <th>4</th>\n",
       "      <th>5</th>\n",
       "      <th>6</th>\n",
       "      <th>7</th>\n",
       "    </tr>\n",
       "    <tr>\n",
       "      <th>tmodetp</th>\n",
       "      <th></th>\n",
       "      <th></th>\n",
       "      <th></th>\n",
       "      <th></th>\n",
       "      <th></th>\n",
       "      <th></th>\n",
       "      <th></th>\n",
       "    </tr>\n",
       "  </thead>\n",
       "  <tbody>\n",
       "    <tr>\n",
       "      <th>1</th>\n",
       "      <td>236.0</td>\n",
       "      <td>73.0</td>\n",
       "      <td>115.0</td>\n",
       "      <td>77.0</td>\n",
       "      <td>300.0</td>\n",
       "      <td>267.0</td>\n",
       "      <td>1078.0</td>\n",
       "    </tr>\n",
       "    <tr>\n",
       "      <th>2</th>\n",
       "      <td>121.0</td>\n",
       "      <td>21.0</td>\n",
       "      <td>17.0</td>\n",
       "      <td>6.0</td>\n",
       "      <td>16.0</td>\n",
       "      <td>22.0</td>\n",
       "      <td>87.0</td>\n",
       "    </tr>\n",
       "    <tr>\n",
       "      <th>3</th>\n",
       "      <td>1396.0</td>\n",
       "      <td>45.0</td>\n",
       "      <td>70.0</td>\n",
       "      <td>358.0</td>\n",
       "      <td>580.0</td>\n",
       "      <td>228.0</td>\n",
       "      <td>832.0</td>\n",
       "    </tr>\n",
       "    <tr>\n",
       "      <th>4</th>\n",
       "      <td>263.0</td>\n",
       "      <td>96.0</td>\n",
       "      <td>368.0</td>\n",
       "      <td>160.0</td>\n",
       "      <td>302.0</td>\n",
       "      <td>211.0</td>\n",
       "      <td>503.0</td>\n",
       "    </tr>\n",
       "    <tr>\n",
       "      <th>5</th>\n",
       "      <td>106.0</td>\n",
       "      <td>201.0</td>\n",
       "      <td>290.0</td>\n",
       "      <td>52.0</td>\n",
       "      <td>118.0</td>\n",
       "      <td>94.0</td>\n",
       "      <td>343.0</td>\n",
       "    </tr>\n",
       "    <tr>\n",
       "      <th>6</th>\n",
       "      <td>369.0</td>\n",
       "      <td>55.0</td>\n",
       "      <td>14.0</td>\n",
       "      <td>80.0</td>\n",
       "      <td>74.0</td>\n",
       "      <td>44.0</td>\n",
       "      <td>112.0</td>\n",
       "    </tr>\n",
       "    <tr>\n",
       "      <th>7</th>\n",
       "      <td>25.0</td>\n",
       "      <td>NaN</td>\n",
       "      <td>NaN</td>\n",
       "      <td>5.0</td>\n",
       "      <td>NaN</td>\n",
       "      <td>3.0</td>\n",
       "      <td>15.0</td>\n",
       "    </tr>\n",
       "    <tr>\n",
       "      <th>8</th>\n",
       "      <td>NaN</td>\n",
       "      <td>156.0</td>\n",
       "      <td>7.0</td>\n",
       "      <td>NaN</td>\n",
       "      <td>2.0</td>\n",
       "      <td>NaN</td>\n",
       "      <td>NaN</td>\n",
       "    </tr>\n",
       "    <tr>\n",
       "      <th>9</th>\n",
       "      <td>17.0</td>\n",
       "      <td>NaN</td>\n",
       "      <td>1.0</td>\n",
       "      <td>9.0</td>\n",
       "      <td>NaN</td>\n",
       "      <td>3.0</td>\n",
       "      <td>13.0</td>\n",
       "    </tr>\n",
       "    <tr>\n",
       "      <th>10</th>\n",
       "      <td>13.0</td>\n",
       "      <td>5.0</td>\n",
       "      <td>3.0</td>\n",
       "      <td>6.0</td>\n",
       "      <td>10.0</td>\n",
       "      <td>2.0</td>\n",
       "      <td>19.0</td>\n",
       "    </tr>\n",
       "  </tbody>\n",
       "</table>\n",
       "</div>"
      ],
      "text/plain": [
       "pdpurp        1      2      3      4      5      6       7\n",
       "tmodetp                                                   \n",
       "1         236.0   73.0  115.0   77.0  300.0  267.0  1078.0\n",
       "2         121.0   21.0   17.0    6.0   16.0   22.0    87.0\n",
       "3        1396.0   45.0   70.0  358.0  580.0  228.0   832.0\n",
       "4         263.0   96.0  368.0  160.0  302.0  211.0   503.0\n",
       "5         106.0  201.0  290.0   52.0  118.0   94.0   343.0\n",
       "6         369.0   55.0   14.0   80.0   74.0   44.0   112.0\n",
       "7          25.0    NaN    NaN    5.0    NaN    3.0    15.0\n",
       "8           NaN  156.0    7.0    NaN    2.0    NaN     NaN\n",
       "9          17.0    NaN    1.0    9.0    NaN    3.0    13.0\n",
       "10         13.0    5.0    3.0    6.0   10.0    2.0    19.0"
      ]
     },
     "execution_count": 24,
     "metadata": {},
     "output_type": "execute_result"
    }
   ],
   "source": [
    "df_tour_survey.pivot_table(index='tmodetp',columns='pdpurp', values='toexpfac', aggfunc='count')"
   ]
  },
  {
   "cell_type": "markdown",
   "metadata": {},
   "source": [
    "# Work Tour Distance by Worker Type"
   ]
  },
  {
   "cell_type": "code",
   "execution_count": 25,
   "metadata": {
    "execution": {
     "iopub.execute_input": "2024-04-03T21:13:46.669040Z",
     "iopub.status.busy": "2024-04-03T21:13:46.669040Z",
     "iopub.status.idle": "2024-04-03T21:13:46.778322Z",
     "shell.execute_reply": "2024-04-03T21:13:46.778322Z"
    }
   },
   "outputs": [
    {
     "data": {
      "text/html": [
       "<div>\n",
       "<style scoped>\n",
       "    .dataframe tbody tr th:only-of-type {\n",
       "        vertical-align: middle;\n",
       "    }\n",
       "\n",
       "    .dataframe tbody tr th {\n",
       "        vertical-align: top;\n",
       "    }\n",
       "\n",
       "    .dataframe thead th {\n",
       "        text-align: right;\n",
       "    }\n",
       "</style>\n",
       "<table border=\"1\" class=\"dataframe\">\n",
       "  <thead>\n",
       "    <tr style=\"text-align: right;\">\n",
       "      <th>source</th>\n",
       "      <th>Person Type</th>\n",
       "      <th>model</th>\n",
       "      <th>survey</th>\n",
       "    </tr>\n",
       "  </thead>\n",
       "  <tbody>\n",
       "    <tr>\n",
       "      <th>0</th>\n",
       "      <td>Full-Time Worker</td>\n",
       "      <td>12.259310</td>\n",
       "      <td>12.555871</td>\n",
       "    </tr>\n",
       "    <tr>\n",
       "      <th>1</th>\n",
       "      <td>Part-Time Worker</td>\n",
       "      <td>3.616873</td>\n",
       "      <td>6.248994</td>\n",
       "    </tr>\n",
       "    <tr>\n",
       "      <th>2</th>\n",
       "      <td>University Student</td>\n",
       "      <td>13.246924</td>\n",
       "      <td>5.321065</td>\n",
       "    </tr>\n",
       "  </tbody>\n",
       "</table>\n",
       "</div>"
      ],
      "text/plain": [
       "source         Person Type      model     survey\n",
       "0         Full-Time Worker  12.259310  12.555871\n",
       "1         Part-Time Worker   3.616873   6.248994\n",
       "2       University Student  13.246924   5.321065"
      ]
     },
     "execution_count": 25,
     "metadata": {},
     "output_type": "execute_result"
    }
   ],
   "source": [
    "df = load_data('tour_distance')\n",
    "# Trim any unreasonable survey distances off by taking max distance as max modeled bin value\n",
    "max_model_dist = df.loc[(df['source']=='model'), 'tautodist_bin'].max()\n",
    "df = df.loc[df['tautodist_bin'] <= max_model_dist]\n",
    "df['wt_autodist'] = (df['tautodist_bin']+0.5)*(df['toexpfac'])\n",
    "df_dist = pd.DataFrame()\n",
    "for source in ['model','survey']:\n",
    "    _df = df[(df['source'] == source) & \n",
    "             (df['pdpurp'] == 'Work') & \n",
    "             (df['pptyp'].isin(['Full-Time Worker','Part-Time Worker','University Student']))]\n",
    "    df1 = _df.groupby('pptyp').sum()[['wt_autodist']].reset_index()\n",
    "    df2 = _df.groupby('pptyp').sum()[['toexpfac']].reset_index()\n",
    "    _df = df1.merge(df2, on='pptyp')\n",
    "    _df['commute_distance'] = _df['wt_autodist']/_df['toexpfac']\n",
    "    _df['source'] = source\n",
    "    df_dist = df_dist.append(_df)\n",
    "df = df_dist.pivot_table(index='pptyp', columns='source', aggfunc='first', values='commute_distance').reset_index()\n",
    "df.rename(columns={'pptyp': 'Person Type'}, inplace=True)\n",
    "df"
   ]
  },
  {
   "cell_type": "code",
   "execution_count": null,
   "metadata": {},
   "outputs": [],
   "source": []
  },
  {
   "cell_type": "code",
   "execution_count": null,
   "metadata": {},
   "outputs": [],
   "source": []
  }
 ],
 "metadata": {
  "kernelspec": {
   "display_name": "Python 3",
   "language": "python",
   "name": "python3"
  },
  "language_info": {
   "codemirror_mode": {
    "name": "ipython",
    "version": 3
   },
   "file_extension": ".py",
   "mimetype": "text/x-python",
   "name": "python",
   "nbconvert_exporter": "python",
   "pygments_lexer": "ipython3",
   "version": "3.7.10"
  }
 },
 "nbformat": 4,
 "nbformat_minor": 4
}
