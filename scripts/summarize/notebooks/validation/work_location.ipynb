{
 "cells": [
  {
   "cell_type": "code",
   "execution_count": 1,
   "metadata": {
    "execution": {
     "iopub.execute_input": "2024-04-03T21:14:31.992063Z",
     "iopub.status.busy": "2024-04-03T21:14:31.992063Z",
     "iopub.status.idle": "2024-04-03T21:14:32.790129Z",
     "shell.execute_reply": "2024-04-03T21:14:32.789066Z"
    }
   },
   "outputs": [],
   "source": [
    "import warnings\n",
    "warnings.simplefilter(action='ignore', category=FutureWarning)\n",
    "import pandas as pd\n",
    "import os, sys\n",
    "import toml\n",
    "config = toml.load('../../../../configuration/input_configuration.toml')\n",
    "%matplotlib inline\n",
    "\n",
    "# os.chdir('..\\..\\..\\..')\n",
    "\n",
    "from IPython.display import display, HTML\n",
    "\n",
    "if (sys.version_info < (3, 0)):\n",
    "    HTML('''<script>\n",
    "    code_show=true; \n",
    "    function code_toggle() {\n",
    "     if (code_show){\n",
    "     $('div.input').hide();\n",
    "     } else {\n",
    "     $('div.input').show();\n",
    "     }\n",
    "     code_show = !code_show\n",
    "    } \n",
    "    $( document ).ready(code_toggle);\n",
    "    </script>\n",
    "    <form action=\"javascript:code_toggle()\"><input type=\"submit\" value=\"Click here to toggle on/off the raw code.\"></form>''')\n"
   ]
  },
  {
   "cell_type": "code",
   "execution_count": 2,
   "metadata": {
    "execution": {
     "iopub.execute_input": "2024-04-03T21:14:32.796116Z",
     "iopub.status.busy": "2024-04-03T21:14:32.796116Z",
     "iopub.status.idle": "2024-04-03T21:14:32.805354Z",
     "shell.execute_reply": "2024-04-03T21:14:32.804349Z"
    }
   },
   "outputs": [],
   "source": [
    "working_dir = r'../../../../outputs/agg/dash'\n",
    "pd.options.display.float_format = '{:0,.2f}'.format\n",
    "format_percent = \"{:,.2%}\".format"
   ]
  },
  {
   "cell_type": "code",
   "execution_count": 3,
   "metadata": {
    "execution": {
     "iopub.execute_input": "2024-04-03T21:14:32.811337Z",
     "iopub.status.busy": "2024-04-03T21:14:32.810341Z",
     "iopub.status.idle": "2024-04-03T21:14:32.820318Z",
     "shell.execute_reply": "2024-04-03T21:14:32.819315Z"
    }
   },
   "outputs": [],
   "source": [
    "def load_data(fname):\n",
    "    \"\"\" open and join model and survey data \"\"\"\n",
    "\n",
    "    df_model = pd.read_csv(os.path.join(working_dir,fname+'.csv'))\n",
    "    df_model['source'] = 'model'\n",
    "    df_survey = pd.read_csv(os.path.join(working_dir,'survey',fname+'.csv'))\n",
    "    df_survey['source'] = 'survey'\n",
    "    df = df_model.append(df_survey)\n",
    "\n",
    "    return df"
   ]
  },
  {
   "cell_type": "code",
   "execution_count": 4,
   "metadata": {
    "execution": {
     "iopub.execute_input": "2024-04-03T21:14:32.826364Z",
     "iopub.status.busy": "2024-04-03T21:14:32.825366Z",
     "iopub.status.idle": "2024-04-03T21:14:35.546070Z",
     "shell.execute_reply": "2024-04-03T21:14:35.545065Z"
    }
   },
   "outputs": [],
   "source": [
    "parcel_geog = pd.read_sql_table('parcel_'+config['base_year']+'_geography', 'sqlite:///../../../../inputs/db/'+config['db_name'],\n",
    "        columns=['CountyName','ParcelID'])"
   ]
  },
  {
   "cell_type": "markdown",
   "metadata": {},
   "source": [
    "# Usual Work Distance"
   ]
  },
  {
   "cell_type": "code",
   "execution_count": 5,
   "metadata": {
    "execution": {
     "iopub.execute_input": "2024-04-03T21:14:35.552052Z",
     "iopub.status.busy": "2024-04-03T21:14:35.552052Z",
     "iopub.status.idle": "2024-04-03T21:14:55.240530Z",
     "shell.execute_reply": "2024-04-03T21:14:55.240530Z"
    }
   },
   "outputs": [],
   "source": [
    "person = pd.read_csv(r'../../../../outputs/daysim/_person.tsv', delim_whitespace=True)\n",
    "person_survey = pd.read_csv(r'../../../../inputs/base_year/survey/_person.tsv', delim_whitespace=True)\n",
    "\n",
    "person['source'] = 'model'\n",
    "person_survey['source'] = 'survey'"
   ]
  },
  {
   "cell_type": "code",
   "execution_count": 6,
   "metadata": {
    "execution": {
     "iopub.execute_input": "2024-04-03T21:14:55.247517Z",
     "iopub.status.busy": "2024-04-03T21:14:55.247517Z",
     "iopub.status.idle": "2024-04-03T21:14:57.329140Z",
     "shell.execute_reply": "2024-04-03T21:14:57.329140Z"
    }
   },
   "outputs": [],
   "source": [
    "person = person.append(person_survey)\n",
    "person = person.merge(parcel_geog, left_on='pwpcl', right_on='ParcelID', how='left')"
   ]
  },
  {
   "cell_type": "code",
   "execution_count": 7,
   "metadata": {
    "execution": {
     "iopub.execute_input": "2024-04-03T21:14:57.336121Z",
     "iopub.status.busy": "2024-04-03T21:14:57.335124Z",
     "iopub.status.idle": "2024-04-03T21:14:57.515639Z",
     "shell.execute_reply": "2024-04-03T21:14:57.515639Z"
    }
   },
   "outputs": [],
   "source": [
    "person['wt_pwautime'] = person['pwautime']*person['psexpfac']\n",
    "person['wt_pwaudist'] = person['pwaudist']*person['psexpfac']"
   ]
  },
  {
   "cell_type": "markdown",
   "metadata": {},
   "source": [
    "Average Distance for **All Workers** Not Working at Home (weighted for survey)"
   ]
  },
  {
   "cell_type": "code",
   "execution_count": 8,
   "metadata": {
    "execution": {
     "iopub.execute_input": "2024-04-03T21:14:57.517634Z",
     "iopub.status.busy": "2024-04-03T21:14:57.517634Z",
     "iopub.status.idle": "2024-04-03T21:14:59.804791Z",
     "shell.execute_reply": "2024-04-03T21:14:59.803793Z"
    }
   },
   "outputs": [
    {
     "data": {
      "text/plain": [
       "source\n",
       "model    11.53\n",
       "survey   11.55\n",
       "dtype: float64"
      ]
     },
     "execution_count": 8,
     "metadata": {},
     "output_type": "execute_result"
    }
   ],
   "source": [
    "df = person[(person['pwtaz'] > 0) & (person['pwaudist'] > 0)]\n",
    "df.groupby('source').sum()['wt_pwaudist']/df.groupby('source').sum()['psexpfac']"
   ]
  },
  {
   "cell_type": "markdown",
   "metadata": {},
   "source": [
    "Average Distance by Work County"
   ]
  },
  {
   "cell_type": "code",
   "execution_count": 9,
   "metadata": {
    "execution": {
     "iopub.execute_input": "2024-04-03T21:14:59.810774Z",
     "iopub.status.busy": "2024-04-03T21:14:59.809777Z",
     "iopub.status.idle": "2024-04-03T21:15:01.457337Z",
     "shell.execute_reply": "2024-04-03T21:15:01.425419Z"
    }
   },
   "outputs": [
    {
     "data": {
      "text/html": [
       "<div>\n",
       "<style scoped>\n",
       "    .dataframe tbody tr th:only-of-type {\n",
       "        vertical-align: middle;\n",
       "    }\n",
       "\n",
       "    .dataframe tbody tr th {\n",
       "        vertical-align: top;\n",
       "    }\n",
       "\n",
       "    .dataframe thead th {\n",
       "        text-align: right;\n",
       "    }\n",
       "</style>\n",
       "<table border=\"1\" class=\"dataframe\">\n",
       "  <thead>\n",
       "    <tr style=\"text-align: right;\">\n",
       "      <th>source</th>\n",
       "      <th>model</th>\n",
       "      <th>survey</th>\n",
       "    </tr>\n",
       "    <tr>\n",
       "      <th>CountyName</th>\n",
       "      <th></th>\n",
       "      <th></th>\n",
       "    </tr>\n",
       "  </thead>\n",
       "  <tbody>\n",
       "    <tr>\n",
       "      <th>King</th>\n",
       "      <td>12.27</td>\n",
       "      <td>12.10</td>\n",
       "    </tr>\n",
       "    <tr>\n",
       "      <th>Kitsap</th>\n",
       "      <td>11.04</td>\n",
       "      <td>8.23</td>\n",
       "    </tr>\n",
       "    <tr>\n",
       "      <th>Pierce</th>\n",
       "      <td>10.34</td>\n",
       "      <td>10.90</td>\n",
       "    </tr>\n",
       "    <tr>\n",
       "      <th>Snohomish</th>\n",
       "      <td>9.61</td>\n",
       "      <td>10.99</td>\n",
       "    </tr>\n",
       "  </tbody>\n",
       "</table>\n",
       "</div>"
      ],
      "text/plain": [
       "source      model  survey\n",
       "CountyName               \n",
       "King        12.27   12.10\n",
       "Kitsap      11.04    8.23\n",
       "Pierce      10.34   10.90\n",
       "Snohomish    9.61   10.99"
      ]
     },
     "execution_count": 9,
     "metadata": {},
     "output_type": "execute_result"
    }
   ],
   "source": [
    "df1 = df.groupby(['CountyName', 'source']).sum()[['wt_pwaudist']]\n",
    "df2 = df.groupby(['CountyName', 'source']).sum()[['psexpfac']]\n",
    "_df = df1.merge(df2, left_index=True, right_index=True)\n",
    "_df = pd.DataFrame(_df['wt_pwaudist']/_df['psexpfac'])\n",
    "_df.pivot_table(index='CountyName', columns='source', values=0, aggfunc='sum')"
   ]
  },
  {
   "cell_type": "markdown",
   "metadata": {},
   "source": [
    "Average for **Full-Time** Workers only"
   ]
  },
  {
   "cell_type": "code",
   "execution_count": 10,
   "metadata": {
    "execution": {
     "iopub.execute_input": "2024-04-03T21:15:01.461326Z",
     "iopub.status.busy": "2024-04-03T21:15:01.461326Z",
     "iopub.status.idle": "2024-04-03T21:15:02.857232Z",
     "shell.execute_reply": "2024-04-03T21:15:02.857232Z"
    }
   },
   "outputs": [
    {
     "data": {
      "text/plain": [
       "source\n",
       "model    12.49\n",
       "survey   12.75\n",
       "dtype: float64"
      ]
     },
     "execution_count": 10,
     "metadata": {},
     "output_type": "execute_result"
    }
   ],
   "source": [
    "df = person[(person['pwtaz'] > 0) & (person['pwaudist'] > 0) & (person['pwtyp'] == 1)]\n",
    "df.groupby('source').sum()['wt_pwaudist']/df.groupby('source').sum()['psexpfac']"
   ]
  },
  {
   "cell_type": "code",
   "execution_count": 11,
   "metadata": {
    "execution": {
     "iopub.execute_input": "2024-04-03T21:15:02.857232Z",
     "iopub.status.busy": "2024-04-03T21:15:02.857232Z",
     "iopub.status.idle": "2024-04-03T21:15:04.091694Z",
     "shell.execute_reply": "2024-04-03T21:15:04.091694Z"
    }
   },
   "outputs": [
    {
     "data": {
      "text/html": [
       "<div>\n",
       "<style scoped>\n",
       "    .dataframe tbody tr th:only-of-type {\n",
       "        vertical-align: middle;\n",
       "    }\n",
       "\n",
       "    .dataframe tbody tr th {\n",
       "        vertical-align: top;\n",
       "    }\n",
       "\n",
       "    .dataframe thead th {\n",
       "        text-align: right;\n",
       "    }\n",
       "</style>\n",
       "<table border=\"1\" class=\"dataframe\">\n",
       "  <thead>\n",
       "    <tr style=\"text-align: right;\">\n",
       "      <th>source</th>\n",
       "      <th>model</th>\n",
       "      <th>survey</th>\n",
       "    </tr>\n",
       "    <tr>\n",
       "      <th>CountyName</th>\n",
       "      <th></th>\n",
       "      <th></th>\n",
       "    </tr>\n",
       "  </thead>\n",
       "  <tbody>\n",
       "    <tr>\n",
       "      <th>King</th>\n",
       "      <td>13.21</td>\n",
       "      <td>13.23</td>\n",
       "    </tr>\n",
       "    <tr>\n",
       "      <th>Kitsap</th>\n",
       "      <td>12.17</td>\n",
       "      <td>9.46</td>\n",
       "    </tr>\n",
       "    <tr>\n",
       "      <th>Pierce</th>\n",
       "      <td>11.15</td>\n",
       "      <td>12.21</td>\n",
       "    </tr>\n",
       "    <tr>\n",
       "      <th>Snohomish</th>\n",
       "      <td>10.47</td>\n",
       "      <td>12.21</td>\n",
       "    </tr>\n",
       "  </tbody>\n",
       "</table>\n",
       "</div>"
      ],
      "text/plain": [
       "source      model  survey\n",
       "CountyName               \n",
       "King        13.21   13.23\n",
       "Kitsap      12.17    9.46\n",
       "Pierce      11.15   12.21\n",
       "Snohomish   10.47   12.21"
      ]
     },
     "execution_count": 11,
     "metadata": {},
     "output_type": "execute_result"
    }
   ],
   "source": [
    "df1 = df.groupby(['CountyName', 'source']).sum()[['wt_pwaudist']]\n",
    "df2 = df.groupby(['CountyName', 'source']).sum()[['psexpfac']]\n",
    "_df = df1.merge(df2, left_index=True, right_index=True)\n",
    "_df = pd.DataFrame(_df['wt_pwaudist']/_df['psexpfac'])\n",
    "_df.pivot_table(index='CountyName', columns='source', values=0, aggfunc='sum')"
   ]
  },
  {
   "cell_type": "markdown",
   "metadata": {},
   "source": [
    "Average for **Part-Time** Workers Only"
   ]
  },
  {
   "cell_type": "code",
   "execution_count": 12,
   "metadata": {
    "execution": {
     "iopub.execute_input": "2024-04-03T21:15:04.091694Z",
     "iopub.status.busy": "2024-04-03T21:15:04.091694Z",
     "iopub.status.idle": "2024-04-03T21:15:05.477925Z",
     "shell.execute_reply": "2024-04-03T21:15:05.476927Z"
    }
   },
   "outputs": [
    {
     "data": {
      "text/plain": [
       "source\n",
       "model    12.49\n",
       "survey   12.75\n",
       "dtype: float64"
      ]
     },
     "execution_count": 12,
     "metadata": {},
     "output_type": "execute_result"
    }
   ],
   "source": [
    "df = person[(person['pwtaz'] > 0) & (person['pwaudist'] > 0) & (person['pwtyp'] == 1)]\n",
    "df.groupby('source').sum()['wt_pwaudist']/df.groupby('source').sum()['psexpfac']"
   ]
  },
  {
   "cell_type": "code",
   "execution_count": 13,
   "metadata": {
    "execution": {
     "iopub.execute_input": "2024-04-03T21:15:05.483909Z",
     "iopub.status.busy": "2024-04-03T21:15:05.483909Z",
     "iopub.status.idle": "2024-04-03T21:15:06.868363Z",
     "shell.execute_reply": "2024-04-03T21:15:06.867365Z"
    }
   },
   "outputs": [
    {
     "data": {
      "text/html": [
       "<div>\n",
       "<style scoped>\n",
       "    .dataframe tbody tr th:only-of-type {\n",
       "        vertical-align: middle;\n",
       "    }\n",
       "\n",
       "    .dataframe tbody tr th {\n",
       "        vertical-align: top;\n",
       "    }\n",
       "\n",
       "    .dataframe thead th {\n",
       "        text-align: right;\n",
       "    }\n",
       "</style>\n",
       "<table border=\"1\" class=\"dataframe\">\n",
       "  <thead>\n",
       "    <tr style=\"text-align: right;\">\n",
       "      <th>source</th>\n",
       "      <th>model</th>\n",
       "      <th>survey</th>\n",
       "    </tr>\n",
       "    <tr>\n",
       "      <th>CountyName</th>\n",
       "      <th></th>\n",
       "      <th></th>\n",
       "    </tr>\n",
       "  </thead>\n",
       "  <tbody>\n",
       "    <tr>\n",
       "      <th>King</th>\n",
       "      <td>13.21</td>\n",
       "      <td>13.23</td>\n",
       "    </tr>\n",
       "    <tr>\n",
       "      <th>Kitsap</th>\n",
       "      <td>12.17</td>\n",
       "      <td>9.46</td>\n",
       "    </tr>\n",
       "    <tr>\n",
       "      <th>Pierce</th>\n",
       "      <td>11.15</td>\n",
       "      <td>12.21</td>\n",
       "    </tr>\n",
       "    <tr>\n",
       "      <th>Snohomish</th>\n",
       "      <td>10.47</td>\n",
       "      <td>12.21</td>\n",
       "    </tr>\n",
       "  </tbody>\n",
       "</table>\n",
       "</div>"
      ],
      "text/plain": [
       "source      model  survey\n",
       "CountyName               \n",
       "King        13.21   13.23\n",
       "Kitsap      12.17    9.46\n",
       "Pierce      11.15   12.21\n",
       "Snohomish   10.47   12.21"
      ]
     },
     "execution_count": 13,
     "metadata": {},
     "output_type": "execute_result"
    }
   ],
   "source": [
    "df1 = df.groupby(['CountyName', 'source']).sum()[['wt_pwaudist']]\n",
    "df2 = df.groupby(['CountyName', 'source']).sum()[['psexpfac']]\n",
    "_df = df1.merge(df2, left_index=True, right_index=True)\n",
    "_df = pd.DataFrame(_df['wt_pwaudist']/_df['psexpfac'])\n",
    "_df.pivot_table(index='CountyName', columns='source', values=0, aggfunc='sum')"
   ]
  },
  {
   "cell_type": "markdown",
   "metadata": {},
   "source": [
    "## Trip Length Distribution (miles)\n",
    "Percent of Total, bins of 1 mile up to 60 miles\n",
    "\n",
    "All Workers"
   ]
  },
  {
   "cell_type": "code",
   "execution_count": 14,
   "metadata": {
    "execution": {
     "iopub.execute_input": "2024-04-03T21:15:06.873350Z",
     "iopub.status.busy": "2024-04-03T21:15:06.873350Z",
     "iopub.status.idle": "2024-04-03T21:15:08.489725Z",
     "shell.execute_reply": "2024-04-03T21:15:08.488721Z"
    }
   },
   "outputs": [
    {
     "data": {
      "text/plain": [
       "<AxesSubplot:xlabel='pwaudist_bin'>"
      ]
     },
     "execution_count": 14,
     "metadata": {},
     "output_type": "execute_result"
    },
    {
     "data": {
      "image/png": "[encoded data removed]",
      "text/plain": [
       "<Figure size 432x288 with 1 Axes>"
      ]
     },
     "metadata": {
      "needs_background": "light"
     },
     "output_type": "display_data"
    }
   ],
   "source": [
    "# Create bins\n",
    "max_bin = 60\n",
    "person['pwaudist_bin'] = pd.cut(person['pwaudist'], bins=range(0,max_bin), labels=[str(i)+'-'+str(i+1) for i in range(0,max_bin-1)])\n",
    "df1 = person[(person['source'] == 'model') & (person['pwaudist'] <= max_bin) & (person['pwaudist'] > 0)]\n",
    "df2 = person[(person['source'] == 'survey') & (person['pwaudist'] <= max_bin) & (person['pwaudist'] > 0)]\n",
    "df1 = df1.groupby('pwaudist_bin').sum()[['psexpfac']]/df1['psexpfac'].sum()\n",
    "df2 = df2.groupby('pwaudist_bin').sum()[['psexpfac']]/df2['psexpfac'].sum()\n",
    "df = df1.merge(df2, left_index=True, right_index=True, suffixes=['_model','_survey'])\n",
    "df.plot()"
   ]
  },
  {
   "cell_type": "markdown",
   "metadata": {},
   "source": [
    "Bins of 5 miles, up to 50 miles"
   ]
  },
  {
   "cell_type": "code",
   "execution_count": 15,
   "metadata": {
    "execution": {
     "iopub.execute_input": "2024-04-03T21:15:08.495708Z",
     "iopub.status.busy": "2024-04-03T21:15:08.495708Z",
     "iopub.status.idle": "2024-04-03T21:15:10.122484Z",
     "shell.execute_reply": "2024-04-03T21:15:10.122484Z"
    }
   },
   "outputs": [
    {
     "data": {
      "text/plain": [
       "<AxesSubplot:xlabel='pwaudist_bin'>"
      ]
     },
     "execution_count": 15,
     "metadata": {},
     "output_type": "execute_result"
    },
    {
     "data": {
      "image/png": "[encoded data removed]",
      "text/plain": [
       "<Figure size 432x288 with 1 Axes>"
      ]
     },
     "metadata": {
      "needs_background": "light"
     },
     "output_type": "display_data"
    }
   ],
   "source": [
    "# Create bins\n",
    "max_bin = 50\n",
    "person['pwaudist_bin'] = pd.cut(person['pwaudist'], bins=range(0,max_bin,5), labels=[str(i*5)+'-'+str((i+1)*5) for i in range(0,9)])\n",
    "df1 = person[(person['source'] == 'model') & (person['pwaudist'] <= max_bin) & (person['pwaudist'] > 0)]\n",
    "df2 = person[(person['source'] == 'survey') & (person['pwaudist'] <= max_bin) & (person['pwaudist'] > 0)]\n",
    "df1 = df1.groupby('pwaudist_bin').sum()[['psexpfac']]/df1['psexpfac'].sum()\n",
    "df2 = df2.groupby('pwaudist_bin').sum()[['psexpfac']]/df2['psexpfac'].sum()\n",
    "df = df1.merge(df2, left_index=True, right_index=True, suffixes=['_model','_survey'])\n",
    "df.plot(kind='bar')"
   ]
  },
  {
   "cell_type": "markdown",
   "metadata": {},
   "source": [
    "### Percent of Workers with <1 Mile and >20 Mile Commutes"
   ]
  },
  {
   "cell_type": "code",
   "execution_count": 16,
   "metadata": {
    "execution": {
     "iopub.execute_input": "2024-04-03T21:15:10.122484Z",
     "iopub.status.busy": "2024-04-03T21:15:10.122484Z",
     "iopub.status.idle": "2024-04-03T21:15:11.460724Z",
     "shell.execute_reply": "2024-04-03T21:15:11.459843Z"
    }
   },
   "outputs": [
    {
     "data": {
      "text/html": [
       "<div>\n",
       "<style scoped>\n",
       "    .dataframe tbody tr th:only-of-type {\n",
       "        vertical-align: middle;\n",
       "    }\n",
       "\n",
       "    .dataframe tbody tr th {\n",
       "        vertical-align: top;\n",
       "    }\n",
       "\n",
       "    .dataframe thead th {\n",
       "        text-align: right;\n",
       "    }\n",
       "</style>\n",
       "<table border=\"1\" class=\"dataframe\">\n",
       "  <thead>\n",
       "    <tr style=\"text-align: right;\">\n",
       "      <th></th>\n",
       "      <th>Commute Range</th>\n",
       "      <th>model</th>\n",
       "      <th>survey</th>\n",
       "    </tr>\n",
       "  </thead>\n",
       "  <tbody>\n",
       "    <tr>\n",
       "      <th>0</th>\n",
       "      <td>&lt; 1 mile</td>\n",
       "      <td>5.2%</td>\n",
       "      <td>8.6%</td>\n",
       "    </tr>\n",
       "    <tr>\n",
       "      <th>1</th>\n",
       "      <td>&gt; 20 miles</td>\n",
       "      <td>16.7%</td>\n",
       "      <td>15.8%</td>\n",
       "    </tr>\n",
       "  </tbody>\n",
       "</table>\n",
       "</div>"
      ],
      "text/plain": [
       "  Commute Range  model  survey\n",
       "0      < 1 mile   5.2%    8.6%\n",
       "1    > 20 miles  16.7%   15.8%"
      ]
     },
     "execution_count": 16,
     "metadata": {},
     "output_type": "execute_result"
    }
   ],
   "source": [
    "pd.options.display.float_format = '{:,.1%}'.format\n",
    "\n",
    "_df_tot = person[person['pwaudist'] > 0].groupby('source').sum()[['psexpfac']].T\n",
    "\n",
    "_df_1 = person[(person['pwaudist'] < 1) & (person['pwaudist'] > 0)].groupby('source').sum()[['psexpfac']].T\n",
    "_df_1 = _df_1/_df_tot\n",
    "_df_1.index = ['< 1 mile']\n",
    "\n",
    "_df_20 = person[(person['pwaudist'] > 20)].groupby('source').sum()[['psexpfac']].T\n",
    "_df_20 = _df_20/_df_tot\n",
    "_df_20.index = ['> 20 miles']\n",
    "\n",
    "_df = _df_1.append(_df_20).reset_index()\n",
    "_df.rename(columns={'index': 'Commute Range'}, inplace=True)\n",
    "_df = _df.rename_axis(None, axis=1)\n",
    "_df"
   ]
  },
  {
   "cell_type": "code",
   "execution_count": 17,
   "metadata": {
    "execution": {
     "iopub.execute_input": "2024-04-03T21:15:11.466714Z",
     "iopub.status.busy": "2024-04-03T21:15:11.466714Z",
     "iopub.status.idle": "2024-04-03T21:15:11.585131Z",
     "shell.execute_reply": "2024-04-03T21:15:11.584063Z"
    }
   },
   "outputs": [
    {
     "data": {
      "text/plain": [
       "<AxesSubplot:xlabel='Commute Range'>"
      ]
     },
     "execution_count": 17,
     "metadata": {},
     "output_type": "execute_result"
    },
    {
     "data": {
      "image/png": "[encoded data removed]",
      "text/plain": [
       "<Figure size 432x288 with 1 Axes>"
      ]
     },
     "metadata": {
      "needs_background": "light"
     },
     "output_type": "display_data"
    }
   ],
   "source": [
    "_df.set_index('Commute Range').plot(kind='bar',)"
   ]
  },
  {
   "cell_type": "markdown",
   "metadata": {},
   "source": [
    "### Average Commute Distance by Gender"
   ]
  },
  {
   "cell_type": "code",
   "execution_count": 18,
   "metadata": {
    "execution": {
     "iopub.execute_input": "2024-04-03T21:15:11.591116Z",
     "iopub.status.busy": "2024-04-03T21:15:11.591116Z",
     "iopub.status.idle": "2024-04-03T21:15:12.562150Z",
     "shell.execute_reply": "2024-04-03T21:15:12.561146Z"
    }
   },
   "outputs": [
    {
     "data": {
      "text/html": [
       "<div>\n",
       "<style scoped>\n",
       "    .dataframe tbody tr th:only-of-type {\n",
       "        vertical-align: middle;\n",
       "    }\n",
       "\n",
       "    .dataframe tbody tr th {\n",
       "        vertical-align: top;\n",
       "    }\n",
       "\n",
       "    .dataframe thead th {\n",
       "        text-align: right;\n",
       "    }\n",
       "</style>\n",
       "<table border=\"1\" class=\"dataframe\">\n",
       "  <thead>\n",
       "    <tr style=\"text-align: right;\">\n",
       "      <th></th>\n",
       "      <th>Gender</th>\n",
       "      <th>model</th>\n",
       "      <th>survey</th>\n",
       "    </tr>\n",
       "  </thead>\n",
       "  <tbody>\n",
       "    <tr>\n",
       "      <th>0</th>\n",
       "      <td>Male</td>\n",
       "      <td>12.45</td>\n",
       "      <td>12.73</td>\n",
       "    </tr>\n",
       "    <tr>\n",
       "      <th>1</th>\n",
       "      <td>Female</td>\n",
       "      <td>10.41</td>\n",
       "      <td>10.04</td>\n",
       "    </tr>\n",
       "  </tbody>\n",
       "</table>\n",
       "</div>"
      ],
      "text/plain": [
       "   Gender  model  survey\n",
       "0    Male  12.45   12.73\n",
       "1  Female  10.41   10.04"
      ]
     },
     "execution_count": 18,
     "metadata": {},
     "output_type": "execute_result"
    }
   ],
   "source": [
    "pd.options.display.float_format = '{:0,.2f}'.format\n",
    "df = person[(person['pwaudist'] > 0) & (person['pgend'].isin([1,2]))]\n",
    "_df = df.pivot_table(index='pgend', columns='source', aggfunc='sum', values='wt_pwaudist')\n",
    "_df_tot = df.pivot_table(index='pgend', columns='source', aggfunc='sum', values='psexpfac')\n",
    "df = _df/_df_tot\n",
    "df = df.reset_index()\n",
    "df['pgend'] = df['pgend'].map({1: 'Male',2:'Female'})\n",
    "df.rename(columns={'pgend': 'Gender'}, inplace=True)\n",
    "df = df.rename_axis(None, axis=1)\n",
    "df"
   ]
  },
  {
   "cell_type": "code",
   "execution_count": 19,
   "metadata": {
    "execution": {
     "iopub.execute_input": "2024-04-03T21:15:12.568200Z",
     "iopub.status.busy": "2024-04-03T21:15:12.568200Z",
     "iopub.status.idle": "2024-04-03T21:15:12.830534Z",
     "shell.execute_reply": "2024-04-03T21:15:12.830534Z"
    }
   },
   "outputs": [
    {
     "data": {
      "text/plain": [
       "<AxesSubplot:xlabel='Gender'>"
      ]
     },
     "execution_count": 19,
     "metadata": {},
     "output_type": "execute_result"
    },
    {
     "data": {
      "image/png": "[encoded data removed]",
      "text/plain": [
       "<Figure size 432x288 with 1 Axes>"
      ]
     },
     "metadata": {
      "needs_background": "light"
     },
     "output_type": "display_data"
    }
   ],
   "source": [
    "df.set_index('Gender').plot(kind='bar')"
   ]
  },
  {
   "cell_type": "markdown",
   "metadata": {},
   "source": [
    "### Average Commute Distance by Age"
   ]
  },
  {
   "cell_type": "code",
   "execution_count": 20,
   "metadata": {
    "execution": {
     "iopub.execute_input": "2024-04-03T21:15:12.833526Z",
     "iopub.status.busy": "2024-04-03T21:15:12.833526Z",
     "iopub.status.idle": "2024-04-03T21:15:13.772021Z",
     "shell.execute_reply": "2024-04-03T21:15:13.772021Z"
    }
   },
   "outputs": [
    {
     "data": {
      "text/html": [
       "<div>\n",
       "<style scoped>\n",
       "    .dataframe tbody tr th:only-of-type {\n",
       "        vertical-align: middle;\n",
       "    }\n",
       "\n",
       "    .dataframe tbody tr th {\n",
       "        vertical-align: top;\n",
       "    }\n",
       "\n",
       "    .dataframe thead th {\n",
       "        text-align: right;\n",
       "    }\n",
       "</style>\n",
       "<table border=\"1\" class=\"dataframe\">\n",
       "  <thead>\n",
       "    <tr style=\"text-align: right;\">\n",
       "      <th></th>\n",
       "      <th>Age Category</th>\n",
       "      <th>model</th>\n",
       "      <th>survey</th>\n",
       "    </tr>\n",
       "  </thead>\n",
       "  <tbody>\n",
       "    <tr>\n",
       "      <th>0</th>\n",
       "      <td>&lt;29</td>\n",
       "      <td>10.36</td>\n",
       "      <td>10.13</td>\n",
       "    </tr>\n",
       "    <tr>\n",
       "      <th>1</th>\n",
       "      <td>30-49</td>\n",
       "      <td>11.82</td>\n",
       "      <td>12.27</td>\n",
       "    </tr>\n",
       "    <tr>\n",
       "      <th>2</th>\n",
       "      <td>50-65</td>\n",
       "      <td>12.46</td>\n",
       "      <td>11.81</td>\n",
       "    </tr>\n",
       "    <tr>\n",
       "      <th>3</th>\n",
       "      <td>65+</td>\n",
       "      <td>10.80</td>\n",
       "      <td>11.78</td>\n",
       "    </tr>\n",
       "  </tbody>\n",
       "</table>\n",
       "</div>"
      ],
      "text/plain": [
       "  Age Category  model  survey\n",
       "0          <29  10.36   10.13\n",
       "1        30-49  11.82   12.27\n",
       "2        50-65  12.46   11.81\n",
       "3          65+  10.80   11.78"
      ]
     },
     "execution_count": 20,
     "metadata": {},
     "output_type": "execute_result"
    }
   ],
   "source": [
    "person['age_cat'] = pd.cut(person['pagey'], bins=[0,30,50,64,100], labels=['<29','30-49','50-65','65+'])\n",
    "df = person[(person['pwaudist'] > 0)]\n",
    "_df = df.pivot_table(index='age_cat', columns='source', aggfunc='sum', values='wt_pwaudist')\n",
    "_df_tot = df.pivot_table(index='age_cat', columns='source', aggfunc='sum', values='psexpfac')\n",
    "df = _df/_df_tot\n",
    "df = df.reset_index()\n",
    "df.rename(columns={'age_cat': 'Age Category'}, inplace=True)\n",
    "df = df.rename_axis(None, axis=1)\n",
    "df"
   ]
  },
  {
   "cell_type": "code",
   "execution_count": 21,
   "metadata": {
    "execution": {
     "iopub.execute_input": "2024-04-03T21:15:13.775013Z",
     "iopub.status.busy": "2024-04-03T21:15:13.774015Z",
     "iopub.status.idle": "2024-04-03T21:15:13.883901Z",
     "shell.execute_reply": "2024-04-03T21:15:13.882899Z"
    }
   },
   "outputs": [
    {
     "data": {
      "text/plain": [
       "<AxesSubplot:xlabel='Age Category'>"
      ]
     },
     "execution_count": 21,
     "metadata": {},
     "output_type": "execute_result"
    },
    {
     "data": {
      "image/png": "[encoded data removed]",
      "text/plain": [
       "<Figure size 432x288 with 1 Axes>"
      ]
     },
     "metadata": {
      "needs_background": "light"
     },
     "output_type": "display_data"
    }
   ],
   "source": [
    "df.set_index('Age Category').plot(kind='bar')"
   ]
  },
  {
   "cell_type": "markdown",
   "metadata": {},
   "source": [
    "## County to County Work Flows\n",
    "\n",
    "All Workers\n",
    "\n",
    "Model Results "
   ]
  },
  {
   "cell_type": "code",
   "execution_count": 22,
   "metadata": {
    "execution": {
     "iopub.execute_input": "2024-04-03T21:15:13.888201Z",
     "iopub.status.busy": "2024-04-03T21:15:13.888201Z",
     "iopub.status.idle": "2024-04-03T21:15:13.930905Z",
     "shell.execute_reply": "2024-04-03T21:15:13.929837Z"
    }
   },
   "outputs": [
    {
     "data": {
      "text/html": [
       "<div>\n",
       "<style scoped>\n",
       "    .dataframe tbody tr th:only-of-type {\n",
       "        vertical-align: middle;\n",
       "    }\n",
       "\n",
       "    .dataframe tbody tr th {\n",
       "        vertical-align: top;\n",
       "    }\n",
       "\n",
       "    .dataframe thead tr th {\n",
       "        text-align: left;\n",
       "    }\n",
       "\n",
       "    .dataframe thead tr:last-of-type th {\n",
       "        text-align: right;\n",
       "    }\n",
       "</style>\n",
       "<table border=\"1\" class=\"dataframe\">\n",
       "  <thead>\n",
       "    <tr>\n",
       "      <th></th>\n",
       "      <th colspan=\"4\" halign=\"left\">psexpfac</th>\n",
       "      <th>Total</th>\n",
       "    </tr>\n",
       "    <tr>\n",
       "      <th>Work County</th>\n",
       "      <th>King</th>\n",
       "      <th>Kitsap</th>\n",
       "      <th>Pierce</th>\n",
       "      <th>Snohomish</th>\n",
       "      <th></th>\n",
       "    </tr>\n",
       "    <tr>\n",
       "      <th>Home County</th>\n",
       "      <th></th>\n",
       "      <th></th>\n",
       "      <th></th>\n",
       "      <th></th>\n",
       "      <th></th>\n",
       "    </tr>\n",
       "  </thead>\n",
       "  <tbody>\n",
       "    <tr>\n",
       "      <th>King</th>\n",
       "      <td>1,165,490</td>\n",
       "      <td>2,029</td>\n",
       "      <td>46,732</td>\n",
       "      <td>44,525</td>\n",
       "      <td>1,258,776</td>\n",
       "    </tr>\n",
       "    <tr>\n",
       "      <th>Kitsap</th>\n",
       "      <td>19,120</td>\n",
       "      <td>91,102</td>\n",
       "      <td>8,490</td>\n",
       "      <td>765</td>\n",
       "      <td>119,477</td>\n",
       "    </tr>\n",
       "    <tr>\n",
       "      <th>Pierce</th>\n",
       "      <td>107,091</td>\n",
       "      <td>8,832</td>\n",
       "      <td>290,233</td>\n",
       "      <td>1,088</td>\n",
       "      <td>407,244</td>\n",
       "    </tr>\n",
       "    <tr>\n",
       "      <th>Snohomish</th>\n",
       "      <td>158,793</td>\n",
       "      <td>207</td>\n",
       "      <td>1,158</td>\n",
       "      <td>268,474</td>\n",
       "      <td>428,632</td>\n",
       "    </tr>\n",
       "    <tr>\n",
       "      <th>Total</th>\n",
       "      <td>1,450,494</td>\n",
       "      <td>102,170</td>\n",
       "      <td>346,613</td>\n",
       "      <td>314,852</td>\n",
       "      <td>2,214,129</td>\n",
       "    </tr>\n",
       "  </tbody>\n",
       "</table>\n",
       "</div>"
      ],
      "text/plain": [
       "             psexpfac                               Total\n",
       "Work County      King  Kitsap  Pierce Snohomish          \n",
       "Home County                                              \n",
       "King        1,165,490   2,029  46,732    44,525 1,258,776\n",
       "Kitsap         19,120  91,102   8,490       765   119,477\n",
       "Pierce        107,091   8,832 290,233     1,088   407,244\n",
       "Snohomish     158,793     207   1,158   268,474   428,632\n",
       "Total       1,450,494 102,170 346,613   314,852 2,214,129"
      ]
     },
     "execution_count": 22,
     "metadata": {},
     "output_type": "execute_result"
    }
   ],
   "source": [
    "df = load_data(r'work_flows')\n",
    "pd.options.display.float_format = '{:0,.0f}'.format\n",
    "df.rename(columns={'person_county': 'Home County', 'person_work_county':'Work County'}, inplace=True)\n",
    "\n",
    "df_model = pd.pivot_table(df[df['source'] == 'model'], index='Home County', columns='Work County', aggfunc='sum')\n",
    "df_model['Total'] = df_model.sum(axis=1)\n",
    "df_model.loc['Total',:] = df_model.sum(axis=0)\n",
    "df_model"
   ]
  },
  {
   "cell_type": "markdown",
   "metadata": {},
   "source": [
    "Survey Results"
   ]
  },
  {
   "cell_type": "code",
   "execution_count": 23,
   "metadata": {
    "execution": {
     "iopub.execute_input": "2024-04-03T21:15:13.936824Z",
     "iopub.status.busy": "2024-04-03T21:15:13.936824Z",
     "iopub.status.idle": "2024-04-03T21:15:13.992766Z",
     "shell.execute_reply": "2024-04-03T21:15:13.991366Z"
    }
   },
   "outputs": [
    {
     "data": {
      "text/html": [
       "<div>\n",
       "<style scoped>\n",
       "    .dataframe tbody tr th:only-of-type {\n",
       "        vertical-align: middle;\n",
       "    }\n",
       "\n",
       "    .dataframe tbody tr th {\n",
       "        vertical-align: top;\n",
       "    }\n",
       "\n",
       "    .dataframe thead tr th {\n",
       "        text-align: left;\n",
       "    }\n",
       "\n",
       "    .dataframe thead tr:last-of-type th {\n",
       "        text-align: right;\n",
       "    }\n",
       "</style>\n",
       "<table border=\"1\" class=\"dataframe\">\n",
       "  <thead>\n",
       "    <tr>\n",
       "      <th></th>\n",
       "      <th colspan=\"4\" halign=\"left\">psexpfac</th>\n",
       "      <th>Total</th>\n",
       "    </tr>\n",
       "    <tr>\n",
       "      <th>Work County</th>\n",
       "      <th>King</th>\n",
       "      <th>Kitsap</th>\n",
       "      <th>Pierce</th>\n",
       "      <th>Snohomish</th>\n",
       "      <th></th>\n",
       "    </tr>\n",
       "    <tr>\n",
       "      <th>Home County</th>\n",
       "      <th></th>\n",
       "      <th></th>\n",
       "      <th></th>\n",
       "      <th></th>\n",
       "      <th></th>\n",
       "    </tr>\n",
       "  </thead>\n",
       "  <tbody>\n",
       "    <tr>\n",
       "      <th>King</th>\n",
       "      <td>1,040,916</td>\n",
       "      <td>176</td>\n",
       "      <td>16,124</td>\n",
       "      <td>42,936</td>\n",
       "      <td>1,100,153</td>\n",
       "    </tr>\n",
       "    <tr>\n",
       "      <th>Kitsap</th>\n",
       "      <td>7,765</td>\n",
       "      <td>101,665</td>\n",
       "      <td>2,865</td>\n",
       "      <td>NaN</td>\n",
       "      <td>112,295</td>\n",
       "    </tr>\n",
       "    <tr>\n",
       "      <th>Pierce</th>\n",
       "      <td>83,508</td>\n",
       "      <td>2,882</td>\n",
       "      <td>280,583</td>\n",
       "      <td>223</td>\n",
       "      <td>367,195</td>\n",
       "    </tr>\n",
       "    <tr>\n",
       "      <th>Snohomish</th>\n",
       "      <td>86,485</td>\n",
       "      <td>NaN</td>\n",
       "      <td>NaN</td>\n",
       "      <td>232,820</td>\n",
       "      <td>319,305</td>\n",
       "    </tr>\n",
       "    <tr>\n",
       "      <th>Total</th>\n",
       "      <td>1,218,674</td>\n",
       "      <td>104,723</td>\n",
       "      <td>299,572</td>\n",
       "      <td>275,979</td>\n",
       "      <td>1,898,948</td>\n",
       "    </tr>\n",
       "  </tbody>\n",
       "</table>\n",
       "</div>"
      ],
      "text/plain": [
       "             psexpfac                               Total\n",
       "Work County      King  Kitsap  Pierce Snohomish          \n",
       "Home County                                              \n",
       "King        1,040,916     176  16,124    42,936 1,100,153\n",
       "Kitsap          7,765 101,665   2,865       NaN   112,295\n",
       "Pierce         83,508   2,882 280,583       223   367,195\n",
       "Snohomish      86,485     NaN     NaN   232,820   319,305\n",
       "Total       1,218,674 104,723 299,572   275,979 1,898,948"
      ]
     },
     "execution_count": 23,
     "metadata": {},
     "output_type": "execute_result"
    }
   ],
   "source": [
    "df_survey = pd.pivot_table(df[df['source'] == 'survey'], index='Home County', columns='Work County', aggfunc='sum')\n",
    "df_survey['Total'] = df_survey.sum(axis=1)\n",
    "df_survey.loc['Total',:] = df_survey.sum(axis=0)\n",
    "df_survey"
   ]
  },
  {
   "cell_type": "markdown",
   "metadata": {},
   "source": [
    "Total Difference (Model - Survey)"
   ]
  },
  {
   "cell_type": "code",
   "execution_count": 24,
   "metadata": {
    "execution": {
     "iopub.execute_input": "2024-04-03T21:15:13.998811Z",
     "iopub.status.busy": "2024-04-03T21:15:13.997816Z",
     "iopub.status.idle": "2024-04-03T21:15:14.022751Z",
     "shell.execute_reply": "2024-04-03T21:15:14.021690Z"
    }
   },
   "outputs": [
    {
     "data": {
      "text/html": [
       "<div>\n",
       "<style scoped>\n",
       "    .dataframe tbody tr th:only-of-type {\n",
       "        vertical-align: middle;\n",
       "    }\n",
       "\n",
       "    .dataframe tbody tr th {\n",
       "        vertical-align: top;\n",
       "    }\n",
       "\n",
       "    .dataframe thead tr th {\n",
       "        text-align: left;\n",
       "    }\n",
       "\n",
       "    .dataframe thead tr:last-of-type th {\n",
       "        text-align: right;\n",
       "    }\n",
       "</style>\n",
       "<table border=\"1\" class=\"dataframe\">\n",
       "  <thead>\n",
       "    <tr>\n",
       "      <th></th>\n",
       "      <th colspan=\"4\" halign=\"left\">psexpfac</th>\n",
       "      <th>Total</th>\n",
       "    </tr>\n",
       "    <tr>\n",
       "      <th>Work County</th>\n",
       "      <th>King</th>\n",
       "      <th>Kitsap</th>\n",
       "      <th>Pierce</th>\n",
       "      <th>Snohomish</th>\n",
       "      <th></th>\n",
       "    </tr>\n",
       "    <tr>\n",
       "      <th>Home County</th>\n",
       "      <th></th>\n",
       "      <th></th>\n",
       "      <th></th>\n",
       "      <th></th>\n",
       "      <th></th>\n",
       "    </tr>\n",
       "  </thead>\n",
       "  <tbody>\n",
       "    <tr>\n",
       "      <th>King</th>\n",
       "      <td>124,574</td>\n",
       "      <td>1,853</td>\n",
       "      <td>30,608</td>\n",
       "      <td>1,589</td>\n",
       "      <td>158,623</td>\n",
       "    </tr>\n",
       "    <tr>\n",
       "      <th>Kitsap</th>\n",
       "      <td>11,355</td>\n",
       "      <td>-10,563</td>\n",
       "      <td>5,625</td>\n",
       "      <td>NaN</td>\n",
       "      <td>7,182</td>\n",
       "    </tr>\n",
       "    <tr>\n",
       "      <th>Pierce</th>\n",
       "      <td>23,583</td>\n",
       "      <td>5,950</td>\n",
       "      <td>9,650</td>\n",
       "      <td>865</td>\n",
       "      <td>40,049</td>\n",
       "    </tr>\n",
       "    <tr>\n",
       "      <th>Snohomish</th>\n",
       "      <td>72,308</td>\n",
       "      <td>NaN</td>\n",
       "      <td>NaN</td>\n",
       "      <td>35,654</td>\n",
       "      <td>109,327</td>\n",
       "    </tr>\n",
       "    <tr>\n",
       "      <th>Total</th>\n",
       "      <td>231,820</td>\n",
       "      <td>-2,553</td>\n",
       "      <td>47,041</td>\n",
       "      <td>38,873</td>\n",
       "      <td>315,181</td>\n",
       "    </tr>\n",
       "  </tbody>\n",
       "</table>\n",
       "</div>"
      ],
      "text/plain": [
       "            psexpfac                            Total\n",
       "Work County     King  Kitsap Pierce Snohomish        \n",
       "Home County                                          \n",
       "King         124,574   1,853 30,608     1,589 158,623\n",
       "Kitsap        11,355 -10,563  5,625       NaN   7,182\n",
       "Pierce        23,583   5,950  9,650       865  40,049\n",
       "Snohomish     72,308     NaN    NaN    35,654 109,327\n",
       "Total        231,820  -2,553 47,041    38,873 315,181"
      ]
     },
     "execution_count": 24,
     "metadata": {},
     "output_type": "execute_result"
    }
   ],
   "source": [
    "df_model-df_survey"
   ]
  },
  {
   "cell_type": "markdown",
   "metadata": {},
   "source": [
    "Percent Difference (Relative to Survey)"
   ]
  },
  {
   "cell_type": "code",
   "execution_count": 25,
   "metadata": {
    "execution": {
     "iopub.execute_input": "2024-04-03T21:15:14.028733Z",
     "iopub.status.busy": "2024-04-03T21:15:14.028733Z",
     "iopub.status.idle": "2024-04-03T21:15:14.054930Z",
     "shell.execute_reply": "2024-04-03T21:15:14.053668Z"
    }
   },
   "outputs": [
    {
     "data": {
      "text/html": [
       "<div>\n",
       "<style scoped>\n",
       "    .dataframe tbody tr th:only-of-type {\n",
       "        vertical-align: middle;\n",
       "    }\n",
       "\n",
       "    .dataframe tbody tr th {\n",
       "        vertical-align: top;\n",
       "    }\n",
       "\n",
       "    .dataframe thead tr th {\n",
       "        text-align: left;\n",
       "    }\n",
       "\n",
       "    .dataframe thead tr:last-of-type th {\n",
       "        text-align: right;\n",
       "    }\n",
       "</style>\n",
       "<table border=\"1\" class=\"dataframe\">\n",
       "  <thead>\n",
       "    <tr>\n",
       "      <th></th>\n",
       "      <th colspan=\"4\" halign=\"left\">psexpfac</th>\n",
       "      <th>Total</th>\n",
       "    </tr>\n",
       "    <tr>\n",
       "      <th>Work County</th>\n",
       "      <th>King</th>\n",
       "      <th>Kitsap</th>\n",
       "      <th>Pierce</th>\n",
       "      <th>Snohomish</th>\n",
       "      <th></th>\n",
       "    </tr>\n",
       "    <tr>\n",
       "      <th>Home County</th>\n",
       "      <th></th>\n",
       "      <th></th>\n",
       "      <th></th>\n",
       "      <th></th>\n",
       "      <th></th>\n",
       "    </tr>\n",
       "  </thead>\n",
       "  <tbody>\n",
       "    <tr>\n",
       "      <th>King</th>\n",
       "      <td>11.97%</td>\n",
       "      <td>1,053.26%</td>\n",
       "      <td>189.82%</td>\n",
       "      <td>3.70%</td>\n",
       "      <td>14.42%</td>\n",
       "    </tr>\n",
       "    <tr>\n",
       "      <th>Kitsap</th>\n",
       "      <td>146.23%</td>\n",
       "      <td>-10.39%</td>\n",
       "      <td>196.34%</td>\n",
       "      <td>nan%</td>\n",
       "      <td>6.40%</td>\n",
       "    </tr>\n",
       "    <tr>\n",
       "      <th>Pierce</th>\n",
       "      <td>28.24%</td>\n",
       "      <td>206.40%</td>\n",
       "      <td>3.44%</td>\n",
       "      <td>388.48%</td>\n",
       "      <td>10.91%</td>\n",
       "    </tr>\n",
       "    <tr>\n",
       "      <th>Snohomish</th>\n",
       "      <td>83.61%</td>\n",
       "      <td>nan%</td>\n",
       "      <td>nan%</td>\n",
       "      <td>15.31%</td>\n",
       "      <td>34.24%</td>\n",
       "    </tr>\n",
       "    <tr>\n",
       "      <th>Total</th>\n",
       "      <td>19.02%</td>\n",
       "      <td>-2.44%</td>\n",
       "      <td>15.70%</td>\n",
       "      <td>14.09%</td>\n",
       "      <td>16.60%</td>\n",
       "    </tr>\n",
       "  </tbody>\n",
       "</table>\n",
       "</div>"
      ],
      "text/plain": [
       "            psexpfac                                 Total\n",
       "Work County     King     Kitsap   Pierce Snohomish        \n",
       "Home County                                               \n",
       "King          11.97%  1,053.26%  189.82%     3.70%  14.42%\n",
       "Kitsap       146.23%    -10.39%  196.34%      nan%   6.40%\n",
       "Pierce        28.24%    206.40%    3.44%   388.48%  10.91%\n",
       "Snohomish     83.61%       nan%     nan%    15.31%  34.24%\n",
       "Total         19.02%     -2.44%   15.70%    14.09%  16.60%"
      ]
     },
     "execution_count": 25,
     "metadata": {},
     "output_type": "execute_result"
    }
   ],
   "source": [
    "((df_model-df_survey)/df_survey).applymap(format_percent)"
   ]
  },
  {
   "cell_type": "code",
   "execution_count": null,
   "metadata": {},
   "outputs": [],
   "source": []
  }
 ],
 "metadata": {
  "kernelspec": {
   "display_name": "Python 3",
   "language": "python",
   "name": "python3"
  },
  "language_info": {
   "codemirror_mode": {
    "name": "ipython",
    "version": 3
   },
   "file_extension": ".py",
   "mimetype": "text/x-python",
   "name": "python",
   "nbconvert_exporter": "python",
   "pygments_lexer": "ipython3",
   "version": "3.7.10"
  }
 },
 "nbformat": 4,
 "nbformat_minor": 4
}
