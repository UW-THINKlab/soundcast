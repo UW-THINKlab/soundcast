{
 "cells": [
  {
   "cell_type": "code",
   "execution_count": 1,
   "metadata": {
    "execution": {
     "iopub.execute_input": "2024-04-03T21:13:26.342897Z",
     "iopub.status.busy": "2024-04-03T21:13:26.342897Z",
     "iopub.status.idle": "2024-04-03T21:13:27.150029Z",
     "shell.execute_reply": "2024-04-03T21:13:27.149031Z"
    }
   },
   "outputs": [],
   "source": [
    "import warnings\n",
    "warnings.simplefilter(action='ignore', category=FutureWarning)\n",
    "import pandas as pd\n",
    "import os, sys\n",
    "%matplotlib inline\n",
    "\n",
    "os.chdir('..\\..\\..\\..')\n",
    "\n",
    "# from input_configuration import base_year\n",
    "import toml\n",
    "config = toml.load(os.path.join(os.getcwd(), 'configuration/input_configuration.toml'))\n",
    "\n",
    "from IPython.display import display, HTML\n",
    "\n",
    "if (sys.version_info < (3, 0)):\n",
    "    HTML('''<script>\n",
    "    code_show=true; \n",
    "    function code_toggle() {\n",
    "     if (code_show){\n",
    "     $('div.input').hide();\n",
    "     } else {\n",
    "     $('div.input').show();\n",
    "     }\n",
    "     code_show = !code_show\n",
    "    } \n",
    "    $( document ).ready(code_toggle);\n",
    "    </script>\n",
    "    <form action=\"javascript:code_toggle()\"><input type=\"submit\" value=\"Click here to toggle on/off the raw code.\"></form>''')\n"
   ]
  },
  {
   "cell_type": "code",
   "execution_count": 2,
   "metadata": {
    "execution": {
     "iopub.execute_input": "2024-04-03T21:13:27.157010Z",
     "iopub.status.busy": "2024-04-03T21:13:27.156013Z",
     "iopub.status.idle": "2024-04-03T21:13:27.165986Z",
     "shell.execute_reply": "2024-04-03T21:13:27.164989Z"
    }
   },
   "outputs": [],
   "source": [
    "working_dir = r'outputs/agg/dash'\n",
    "pd.options.display.float_format = '{:0,.0f}'.format\n",
    "format_percent = \"{:,.1%}\".format"
   ]
  },
  {
   "cell_type": "code",
   "execution_count": 3,
   "metadata": {
    "execution": {
     "iopub.execute_input": "2024-04-03T21:13:27.171970Z",
     "iopub.status.busy": "2024-04-03T21:13:27.171970Z",
     "iopub.status.idle": "2024-04-03T21:13:27.181944Z",
     "shell.execute_reply": "2024-04-03T21:13:27.180946Z"
    }
   },
   "outputs": [],
   "source": [
    "def load_data(fname):\n",
    "    \"\"\" open and join model and survey data \"\"\"\n",
    "\n",
    "    df_model = pd.read_csv(os.path.join(working_dir,fname+'.csv'))\n",
    "    df_model['source'] = 'model'\n",
    "    df_survey = pd.read_csv(os.path.join(working_dir,'survey',fname+'.csv'))\n",
    "    df_survey['source'] = 'survey'\n",
    "    df = df_model.append(df_survey)\n",
    "\n",
    "    return df"
   ]
  },
  {
   "cell_type": "markdown",
   "metadata": {},
   "source": [
    "# Trip Departure Hour"
   ]
  },
  {
   "cell_type": "code",
   "execution_count": 4,
   "metadata": {
    "execution": {
     "iopub.execute_input": "2024-04-03T21:13:27.187928Z",
     "iopub.status.busy": "2024-04-03T21:13:27.187928Z",
     "iopub.status.idle": "2024-04-03T21:13:27.245773Z",
     "shell.execute_reply": "2024-04-03T21:13:27.244776Z"
    }
   },
   "outputs": [],
   "source": [
    "df = load_data('trip_purpose_mode')\n",
    "_df = df.pivot_table(index='deptm_hr', columns='source', aggfunc='sum', values='trexpfac')"
   ]
  },
  {
   "cell_type": "code",
   "execution_count": 5,
   "metadata": {
    "execution": {
     "iopub.execute_input": "2024-04-03T21:13:27.251757Z",
     "iopub.status.busy": "2024-04-03T21:13:27.251757Z",
     "iopub.status.idle": "2024-04-03T21:13:27.605812Z",
     "shell.execute_reply": "2024-04-03T21:13:27.604815Z"
    }
   },
   "outputs": [
    {
     "data": {
      "text/plain": [
       "<AxesSubplot:xlabel='deptm_hr'>"
      ]
     },
     "execution_count": 5,
     "metadata": {},
     "output_type": "execute_result"
    },
    {
     "data": {
      "image/png": "[encoded data removed]",
      "text/plain": [
       "<Figure size 432x288 with 1 Axes>"
      ]
     },
     "metadata": {
      "needs_background": "light"
     },
     "output_type": "display_data"
    }
   ],
   "source": [
    "_df = _df/_df.sum()\n",
    "_df.plot(kind='bar')"
   ]
  },
  {
   "cell_type": "markdown",
   "metadata": {},
   "source": [
    "# Tour Origin Departure Hour"
   ]
  },
  {
   "cell_type": "code",
   "execution_count": 6,
   "metadata": {
    "execution": {
     "iopub.execute_input": "2024-04-03T21:13:27.611797Z",
     "iopub.status.busy": "2024-04-03T21:13:27.611797Z",
     "iopub.status.idle": "2024-04-03T21:13:27.651690Z",
     "shell.execute_reply": "2024-04-03T21:13:27.650693Z"
    }
   },
   "outputs": [
    {
     "data": {
      "text/html": [
       "<div>\n",
       "<style scoped>\n",
       "    .dataframe tbody tr th:only-of-type {\n",
       "        vertical-align: middle;\n",
       "    }\n",
       "\n",
       "    .dataframe tbody tr th {\n",
       "        vertical-align: top;\n",
       "    }\n",
       "\n",
       "    .dataframe thead th {\n",
       "        text-align: right;\n",
       "    }\n",
       "</style>\n",
       "<table border=\"1\" class=\"dataframe\">\n",
       "  <thead>\n",
       "    <tr style=\"text-align: right;\">\n",
       "      <th>source</th>\n",
       "      <th>model</th>\n",
       "      <th>survey</th>\n",
       "    </tr>\n",
       "    <tr>\n",
       "      <th>tlvorg_hr</th>\n",
       "      <th></th>\n",
       "      <th></th>\n",
       "    </tr>\n",
       "  </thead>\n",
       "  <tbody>\n",
       "    <tr>\n",
       "      <th>0</th>\n",
       "      <td>3,401</td>\n",
       "      <td>520</td>\n",
       "    </tr>\n",
       "    <tr>\n",
       "      <th>1</th>\n",
       "      <td>2,241</td>\n",
       "      <td>588</td>\n",
       "    </tr>\n",
       "    <tr>\n",
       "      <th>2</th>\n",
       "      <td>874</td>\n",
       "      <td>323</td>\n",
       "    </tr>\n",
       "    <tr>\n",
       "      <th>3</th>\n",
       "      <td>73,952</td>\n",
       "      <td>12,143</td>\n",
       "    </tr>\n",
       "    <tr>\n",
       "      <th>4</th>\n",
       "      <td>63,950</td>\n",
       "      <td>82,941</td>\n",
       "    </tr>\n",
       "    <tr>\n",
       "      <th>5</th>\n",
       "      <td>140,401</td>\n",
       "      <td>144,712</td>\n",
       "    </tr>\n",
       "    <tr>\n",
       "      <th>6</th>\n",
       "      <td>394,250</td>\n",
       "      <td>343,063</td>\n",
       "    </tr>\n",
       "    <tr>\n",
       "      <th>7</th>\n",
       "      <td>627,226</td>\n",
       "      <td>718,001</td>\n",
       "    </tr>\n",
       "    <tr>\n",
       "      <th>8</th>\n",
       "      <td>680,689</td>\n",
       "      <td>709,166</td>\n",
       "    </tr>\n",
       "    <tr>\n",
       "      <th>9</th>\n",
       "      <td>537,838</td>\n",
       "      <td>392,695</td>\n",
       "    </tr>\n",
       "    <tr>\n",
       "      <th>10</th>\n",
       "      <td>459,348</td>\n",
       "      <td>333,119</td>\n",
       "    </tr>\n",
       "    <tr>\n",
       "      <th>11</th>\n",
       "      <td>382,995</td>\n",
       "      <td>248,148</td>\n",
       "    </tr>\n",
       "    <tr>\n",
       "      <th>12</th>\n",
       "      <td>358,955</td>\n",
       "      <td>267,584</td>\n",
       "    </tr>\n",
       "    <tr>\n",
       "      <th>13</th>\n",
       "      <td>328,974</td>\n",
       "      <td>235,545</td>\n",
       "    </tr>\n",
       "    <tr>\n",
       "      <th>14</th>\n",
       "      <td>295,518</td>\n",
       "      <td>370,969</td>\n",
       "    </tr>\n",
       "    <tr>\n",
       "      <th>15</th>\n",
       "      <td>269,412</td>\n",
       "      <td>258,847</td>\n",
       "    </tr>\n",
       "    <tr>\n",
       "      <th>16</th>\n",
       "      <td>293,027</td>\n",
       "      <td>217,583</td>\n",
       "    </tr>\n",
       "    <tr>\n",
       "      <th>17</th>\n",
       "      <td>281,660</td>\n",
       "      <td>337,520</td>\n",
       "    </tr>\n",
       "    <tr>\n",
       "      <th>18</th>\n",
       "      <td>261,979</td>\n",
       "      <td>213,717</td>\n",
       "    </tr>\n",
       "    <tr>\n",
       "      <th>19</th>\n",
       "      <td>161,928</td>\n",
       "      <td>135,482</td>\n",
       "    </tr>\n",
       "    <tr>\n",
       "      <th>20</th>\n",
       "      <td>123,857</td>\n",
       "      <td>31,679</td>\n",
       "    </tr>\n",
       "    <tr>\n",
       "      <th>21</th>\n",
       "      <td>76,155</td>\n",
       "      <td>20,304</td>\n",
       "    </tr>\n",
       "    <tr>\n",
       "      <th>22</th>\n",
       "      <td>19,357</td>\n",
       "      <td>18,293</td>\n",
       "    </tr>\n",
       "    <tr>\n",
       "      <th>23</th>\n",
       "      <td>8,834</td>\n",
       "      <td>2,206</td>\n",
       "    </tr>\n",
       "  </tbody>\n",
       "</table>\n",
       "</div>"
      ],
      "text/plain": [
       "source      model  survey\n",
       "tlvorg_hr                \n",
       "0           3,401     520\n",
       "1           2,241     588\n",
       "2             874     323\n",
       "3          73,952  12,143\n",
       "4          63,950  82,941\n",
       "5         140,401 144,712\n",
       "6         394,250 343,063\n",
       "7         627,226 718,001\n",
       "8         680,689 709,166\n",
       "9         537,838 392,695\n",
       "10        459,348 333,119\n",
       "11        382,995 248,148\n",
       "12        358,955 267,584\n",
       "13        328,974 235,545\n",
       "14        295,518 370,969\n",
       "15        269,412 258,847\n",
       "16        293,027 217,583\n",
       "17        281,660 337,520\n",
       "18        261,979 213,717\n",
       "19        161,928 135,482\n",
       "20        123,857  31,679\n",
       "21         76,155  20,304\n",
       "22         19,357  18,293\n",
       "23          8,834   2,206"
      ]
     },
     "execution_count": 6,
     "metadata": {},
     "output_type": "execute_result"
    }
   ],
   "source": [
    "df = load_data('tour_purpose_mode')\n",
    "_df = df.pivot_table(index='tlvorg_hr', columns='source', aggfunc='sum', values='toexpfac')\n",
    "_df"
   ]
  },
  {
   "cell_type": "code",
   "execution_count": 7,
   "metadata": {
    "execution": {
     "iopub.execute_input": "2024-04-03T21:13:27.657674Z",
     "iopub.status.busy": "2024-04-03T21:13:27.656677Z",
     "iopub.status.idle": "2024-04-03T21:13:27.886065Z",
     "shell.execute_reply": "2024-04-03T21:13:27.885067Z"
    }
   },
   "outputs": [
    {
     "data": {
      "text/plain": [
       "<AxesSubplot:xlabel='tlvorg_hr'>"
      ]
     },
     "execution_count": 7,
     "metadata": {},
     "output_type": "execute_result"
    },
    {
     "data": {
      "image/png": "[encoded data removed]",
      "text/plain": [
       "<Figure size 432x288 with 1 Axes>"
      ]
     },
     "metadata": {
      "needs_background": "light"
     },
     "output_type": "display_data"
    }
   ],
   "source": [
    "_df = _df/_df.sum()\n",
    "_df.plot(kind='bar')"
   ]
  },
  {
   "cell_type": "code",
   "execution_count": 8,
   "metadata": {
    "execution": {
     "iopub.execute_input": "2024-04-03T21:13:27.892049Z",
     "iopub.status.busy": "2024-04-03T21:13:27.891051Z",
     "iopub.status.idle": "2024-04-03T21:13:27.916982Z",
     "shell.execute_reply": "2024-04-03T21:13:27.916982Z"
    }
   },
   "outputs": [
    {
     "data": {
      "text/plain": [
       "source\n",
       "model    1\n",
       "survey   1\n",
       "dtype: float64"
      ]
     },
     "execution_count": 8,
     "metadata": {},
     "output_type": "execute_result"
    }
   ],
   "source": [
    "_df.sum()"
   ]
  },
  {
   "cell_type": "code",
   "execution_count": null,
   "metadata": {},
   "outputs": [],
   "source": []
  }
 ],
 "metadata": {
  "kernelspec": {
   "display_name": "Python 3",
   "language": "python",
   "name": "python3"
  },
  "language_info": {
   "codemirror_mode": {
    "name": "ipython",
    "version": 3
   },
   "file_extension": ".py",
   "mimetype": "text/x-python",
   "name": "python",
   "nbconvert_exporter": "python",
   "pygments_lexer": "ipython3",
   "version": "3.7.10"
  }
 },
 "nbformat": 4,
 "nbformat_minor": 4
}
