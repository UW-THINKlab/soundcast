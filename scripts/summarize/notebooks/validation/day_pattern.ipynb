{
 "cells": [
  {
   "cell_type": "code",
   "execution_count": 1,
   "metadata": {
    "execution": {
     "iopub.execute_input": "2024-04-03T21:12:24.792750Z",
     "iopub.status.busy": "2024-04-03T21:12:24.791731Z",
     "iopub.status.idle": "2024-04-03T21:12:25.681864Z",
     "shell.execute_reply": "2024-04-03T21:12:25.680866Z"
    }
   },
   "outputs": [
    {
     "name": "stdout",
     "output_type": "stream",
     "text": [
      "C:\\Workspace\\sc_2023_11_05_24\n"
     ]
    }
   ],
   "source": [
    "import warnings\n",
    "warnings.simplefilter(action='ignore', category=FutureWarning)\n",
    "import pandas as pd\n",
    "import os, sys\n",
    "%matplotlib inline\n",
    "\n",
    "os.chdir('..\\..\\..\\..')\n",
    "print(os.getcwd())\n",
    "\n",
    "# from input_configuration import base_year\n",
    "import toml\n",
    "config = toml.load(os.path.join(os.getcwd(), 'configuration/input_configuration.toml'))\n",
    "\n",
    "from IPython.display import display, HTML\n",
    "\n",
    "if (sys.version_info < (3, 0)):\n",
    "    HTML('''<script>\n",
    "    code_show=true; \n",
    "    function code_toggle() {\n",
    "     if (code_show){\n",
    "     $('div.input').hide();\n",
    "     } else {\n",
    "     $('div.input').show();\n",
    "     }\n",
    "     code_show = !code_show\n",
    "    } \n",
    "    $( document ).ready(code_toggle);\n",
    "    </script>\n",
    "    <form action=\"javascript:code_toggle()\"><input type=\"submit\" value=\"Click here to toggle on/off the raw code.\"></form>''')\n"
   ]
  },
  {
   "cell_type": "code",
   "execution_count": 2,
   "metadata": {
    "execution": {
     "iopub.execute_input": "2024-04-03T21:12:25.687847Z",
     "iopub.status.busy": "2024-04-03T21:12:25.687847Z",
     "iopub.status.idle": "2024-04-03T21:12:25.697236Z",
     "shell.execute_reply": "2024-04-03T21:12:25.696232Z"
    }
   },
   "outputs": [],
   "source": [
    "working_dir = r'outputs/agg/dash'\n",
    "pd.options.display.float_format = '{:0,.2f}'.format\n",
    "format_percent = \"{:,.2%}\".format"
   ]
  },
  {
   "cell_type": "code",
   "execution_count": 3,
   "metadata": {
    "execution": {
     "iopub.execute_input": "2024-04-03T21:12:25.703219Z",
     "iopub.status.busy": "2024-04-03T21:12:25.702222Z",
     "iopub.status.idle": "2024-04-03T21:12:25.712798Z",
     "shell.execute_reply": "2024-04-03T21:12:25.711883Z"
    }
   },
   "outputs": [],
   "source": [
    "def load_data(fname):\n",
    "    \"\"\" open and join model and survey data \"\"\"\n",
    "\n",
    "    df_model = pd.read_csv(os.path.join(working_dir,fname+'.csv'))\n",
    "    df_model['source'] = 'model'\n",
    "    df_survey = pd.read_csv(os.path.join(working_dir,'survey',fname+'.csv'))\n",
    "    df_survey['source'] = 'survey'\n",
    "    df = df_model.append(df_survey)\n",
    "\n",
    "    return df"
   ]
  },
  {
   "cell_type": "markdown",
   "metadata": {},
   "source": [
    "# Tours per Person"
   ]
  },
  {
   "cell_type": "code",
   "execution_count": 4,
   "metadata": {
    "execution": {
     "iopub.execute_input": "2024-04-03T21:12:25.718849Z",
     "iopub.status.busy": "2024-04-03T21:12:25.718849Z",
     "iopub.status.idle": "2024-04-03T21:12:25.823414Z",
     "shell.execute_reply": "2024-04-03T21:12:25.822347Z"
    }
   },
   "outputs": [
    {
     "data": {
      "text/html": [
       "<div>\n",
       "<style scoped>\n",
       "    .dataframe tbody tr th:only-of-type {\n",
       "        vertical-align: middle;\n",
       "    }\n",
       "\n",
       "    .dataframe tbody tr th {\n",
       "        vertical-align: top;\n",
       "    }\n",
       "\n",
       "    .dataframe thead th {\n",
       "        text-align: right;\n",
       "    }\n",
       "</style>\n",
       "<table border=\"1\" class=\"dataframe\">\n",
       "  <thead>\n",
       "    <tr style=\"text-align: right;\">\n",
       "      <th>source</th>\n",
       "      <th>model</th>\n",
       "      <th>survey</th>\n",
       "    </tr>\n",
       "  </thead>\n",
       "  <tbody>\n",
       "    <tr>\n",
       "      <th>Average Tours</th>\n",
       "      <td>1.39</td>\n",
       "      <td>1.29</td>\n",
       "    </tr>\n",
       "  </tbody>\n",
       "</table>\n",
       "</div>"
      ],
      "text/plain": [
       "source         model  survey\n",
       "Average Tours   1.39    1.29"
      ]
     },
     "execution_count": 4,
     "metadata": {},
     "output_type": "execute_result"
    }
   ],
   "source": [
    "\n",
    "df = load_data('tour_purpose_mode')\n",
    "_df = df.groupby('source').sum()[['toexpfac']].T\n",
    "_df.rename(index={'toexpfac':'Average Tours'}, inplace=True)\n",
    "\n",
    "df = load_data('person_type')\n",
    "_df_person = df.groupby('source').sum()[['psexpfac']].T\n",
    "_df_person.rename(index={'psexpfac':'Average Tours'}, inplace=True)\n",
    "\n",
    "_df/_df_person"
   ]
  },
  {
   "cell_type": "markdown",
   "metadata": {},
   "source": [
    "# Percent of Tours by Purpose"
   ]
  },
  {
   "cell_type": "code",
   "execution_count": 5,
   "metadata": {
    "execution": {
     "iopub.execute_input": "2024-04-03T21:12:25.829404Z",
     "iopub.status.busy": "2024-04-03T21:12:25.829404Z",
     "iopub.status.idle": "2024-04-03T21:12:26.077456Z",
     "shell.execute_reply": "2024-04-03T21:12:26.076631Z"
    }
   },
   "outputs": [
    {
     "data": {
      "text/html": [
       "<div>\n",
       "<style scoped>\n",
       "    .dataframe tbody tr th:only-of-type {\n",
       "        vertical-align: middle;\n",
       "    }\n",
       "\n",
       "    .dataframe tbody tr th {\n",
       "        vertical-align: top;\n",
       "    }\n",
       "\n",
       "    .dataframe thead th {\n",
       "        text-align: right;\n",
       "    }\n",
       "</style>\n",
       "<table border=\"1\" class=\"dataframe\">\n",
       "  <thead>\n",
       "    <tr style=\"text-align: right;\">\n",
       "      <th>source</th>\n",
       "      <th>model</th>\n",
       "      <th>survey</th>\n",
       "    </tr>\n",
       "    <tr>\n",
       "      <th>pdpurp</th>\n",
       "      <th></th>\n",
       "      <th></th>\n",
       "    </tr>\n",
       "  </thead>\n",
       "  <tbody>\n",
       "    <tr>\n",
       "      <th>Escort</th>\n",
       "      <td>12.9%</td>\n",
       "      <td>13.0%</td>\n",
       "    </tr>\n",
       "    <tr>\n",
       "      <th>Meal</th>\n",
       "      <td>11.3%</td>\n",
       "      <td>7.8%</td>\n",
       "    </tr>\n",
       "    <tr>\n",
       "      <th>Personal Business</th>\n",
       "      <td>5.9%</td>\n",
       "      <td>6.0%</td>\n",
       "    </tr>\n",
       "    <tr>\n",
       "      <th>School</th>\n",
       "      <td>9.5%</td>\n",
       "      <td>10.2%</td>\n",
       "    </tr>\n",
       "    <tr>\n",
       "      <th>Shop</th>\n",
       "      <td>11.1%</td>\n",
       "      <td>11.8%</td>\n",
       "    </tr>\n",
       "    <tr>\n",
       "      <th>Social</th>\n",
       "      <td>23.4%</td>\n",
       "      <td>25.0%</td>\n",
       "    </tr>\n",
       "    <tr>\n",
       "      <th>Work</th>\n",
       "      <td>25.9%</td>\n",
       "      <td>26.2%</td>\n",
       "    </tr>\n",
       "  </tbody>\n",
       "</table>\n",
       "</div>"
      ],
      "text/plain": [
       "source             model  survey\n",
       "pdpurp                          \n",
       "Escort             12.9%   13.0%\n",
       "Meal               11.3%    7.8%\n",
       "Personal Business   5.9%    6.0%\n",
       "School              9.5%   10.2%\n",
       "Shop               11.1%   11.8%\n",
       "Social             23.4%   25.0%\n",
       "Work               25.9%   26.2%"
      ]
     },
     "execution_count": 5,
     "metadata": {},
     "output_type": "execute_result"
    },
    {
     "data": {
      "image/png": "[encoded data removed]",
      "text/plain": [
       "<Figure size 432x288 with 1 Axes>"
      ]
     },
     "metadata": {
      "needs_background": "light"
     },
     "output_type": "display_data"
    }
   ],
   "source": [
    "pd.options.display.float_format = '{:0,.1%}'.format\n",
    "df = load_data('tour_purpose_mode')\n",
    "_df = df.pivot_table(index='pdpurp', columns='source', aggfunc='sum', values='toexpfac')\n",
    "_df_sum = _df.sum()\n",
    "_df = _df/_df_sum\n",
    "# _df.drop('Change Mode Inserted Purpose', axis=0, inplace=True)\n",
    "_df.plot(kind='barh', alpha=0.6)\n",
    "_df"
   ]
  },
  {
   "cell_type": "markdown",
   "metadata": {},
   "source": [
    "# Tours per Person by Purpose"
   ]
  },
  {
   "cell_type": "code",
   "execution_count": 6,
   "metadata": {
    "execution": {
     "iopub.execute_input": "2024-04-03T21:12:26.083518Z",
     "iopub.status.busy": "2024-04-03T21:12:26.083518Z",
     "iopub.status.idle": "2024-04-03T21:12:26.267043Z",
     "shell.execute_reply": "2024-04-03T21:12:26.266040Z"
    }
   },
   "outputs": [
    {
     "data": {
      "text/html": [
       "<div>\n",
       "<style scoped>\n",
       "    .dataframe tbody tr th:only-of-type {\n",
       "        vertical-align: middle;\n",
       "    }\n",
       "\n",
       "    .dataframe tbody tr th {\n",
       "        vertical-align: top;\n",
       "    }\n",
       "\n",
       "    .dataframe thead th {\n",
       "        text-align: right;\n",
       "    }\n",
       "</style>\n",
       "<table border=\"1\" class=\"dataframe\">\n",
       "  <thead>\n",
       "    <tr style=\"text-align: right;\">\n",
       "      <th>source</th>\n",
       "      <th>model</th>\n",
       "      <th>survey</th>\n",
       "    </tr>\n",
       "    <tr>\n",
       "      <th>pdpurp</th>\n",
       "      <th></th>\n",
       "      <th></th>\n",
       "    </tr>\n",
       "  </thead>\n",
       "  <tbody>\n",
       "    <tr>\n",
       "      <th>Escort</th>\n",
       "      <td>0.18</td>\n",
       "      <td>0.17</td>\n",
       "    </tr>\n",
       "    <tr>\n",
       "      <th>Meal</th>\n",
       "      <td>0.16</td>\n",
       "      <td>0.10</td>\n",
       "    </tr>\n",
       "    <tr>\n",
       "      <th>Personal Business</th>\n",
       "      <td>0.08</td>\n",
       "      <td>0.08</td>\n",
       "    </tr>\n",
       "    <tr>\n",
       "      <th>School</th>\n",
       "      <td>0.13</td>\n",
       "      <td>0.13</td>\n",
       "    </tr>\n",
       "    <tr>\n",
       "      <th>Shop</th>\n",
       "      <td>0.15</td>\n",
       "      <td>0.15</td>\n",
       "    </tr>\n",
       "    <tr>\n",
       "      <th>Social</th>\n",
       "      <td>0.33</td>\n",
       "      <td>0.32</td>\n",
       "    </tr>\n",
       "    <tr>\n",
       "      <th>Work</th>\n",
       "      <td>0.36</td>\n",
       "      <td>0.34</td>\n",
       "    </tr>\n",
       "  </tbody>\n",
       "</table>\n",
       "</div>"
      ],
      "text/plain": [
       "source             model  survey\n",
       "pdpurp                          \n",
       "Escort              0.18    0.17\n",
       "Meal                0.16    0.10\n",
       "Personal Business   0.08    0.08\n",
       "School              0.13    0.13\n",
       "Shop                0.15    0.15\n",
       "Social              0.33    0.32\n",
       "Work                0.36    0.34"
      ]
     },
     "execution_count": 6,
     "metadata": {},
     "output_type": "execute_result"
    },
    {
     "data": {
      "image/png": "[encoded data removed]",
      "text/plain": [
       "<Figure size 432x288 with 1 Axes>"
      ]
     },
     "metadata": {
      "needs_background": "light"
     },
     "output_type": "display_data"
    }
   ],
   "source": [
    "pd.options.display.float_format = '{:0,.2f}'.format\n",
    "df = load_data('tour_purpose_mode')\n",
    "_df = df.pivot_table(index='pdpurp', columns='source', aggfunc='sum', values='toexpfac')\n",
    "# Total population\n",
    "df = load_data('person_type')\n",
    "_df_person = df.groupby('source').sum()[['psexpfac']].T\n",
    "_df_person.rename(columns={'psexpfac': 'toexpfac'}, inplace=True)\n",
    "# _df.drop('Change Mode Inserted Purpose', axis=0, inplace=True)\n",
    "_df = _df/_df_person.values\n",
    "_df.plot(kind='barh', alpha=0.6)\n",
    "_df"
   ]
  },
  {
   "cell_type": "markdown",
   "metadata": {},
   "source": [
    "# Tours by Person Type"
   ]
  },
  {
   "cell_type": "code",
   "execution_count": 7,
   "metadata": {
    "execution": {
     "iopub.execute_input": "2024-04-03T21:12:26.273026Z",
     "iopub.status.busy": "2024-04-03T21:12:26.273026Z",
     "iopub.status.idle": "2024-04-03T21:12:26.521361Z",
     "shell.execute_reply": "2024-04-03T21:12:26.521361Z"
    }
   },
   "outputs": [
    {
     "data": {
      "text/html": [
       "<div>\n",
       "<style scoped>\n",
       "    .dataframe tbody tr th:only-of-type {\n",
       "        vertical-align: middle;\n",
       "    }\n",
       "\n",
       "    .dataframe tbody tr th {\n",
       "        vertical-align: top;\n",
       "    }\n",
       "\n",
       "    .dataframe thead th {\n",
       "        text-align: right;\n",
       "    }\n",
       "</style>\n",
       "<table border=\"1\" class=\"dataframe\">\n",
       "  <thead>\n",
       "    <tr style=\"text-align: right;\">\n",
       "      <th>source</th>\n",
       "      <th>model</th>\n",
       "      <th>survey</th>\n",
       "    </tr>\n",
       "    <tr>\n",
       "      <th>pptyp</th>\n",
       "      <th></th>\n",
       "      <th></th>\n",
       "    </tr>\n",
       "  </thead>\n",
       "  <tbody>\n",
       "    <tr>\n",
       "      <th>Child Age 0-4</th>\n",
       "      <td>279,211</td>\n",
       "      <td>232,861</td>\n",
       "    </tr>\n",
       "    <tr>\n",
       "      <th>Child Age 5-15</th>\n",
       "      <td>585,550</td>\n",
       "      <td>517,918</td>\n",
       "    </tr>\n",
       "    <tr>\n",
       "      <th>Full-Time Worker</th>\n",
       "      <td>2,541,694</td>\n",
       "      <td>2,071,449</td>\n",
       "    </tr>\n",
       "    <tr>\n",
       "      <th>High School Student Age 16+</th>\n",
       "      <td>234,986</td>\n",
       "      <td>237,636</td>\n",
       "    </tr>\n",
       "    <tr>\n",
       "      <th>Non-Working Adult Age 65+</th>\n",
       "      <td>668,788</td>\n",
       "      <td>545,290</td>\n",
       "    </tr>\n",
       "    <tr>\n",
       "      <th>Non-Working Adult Age &lt;65</th>\n",
       "      <td>951,113</td>\n",
       "      <td>823,362</td>\n",
       "    </tr>\n",
       "    <tr>\n",
       "      <th>Part-Time Worker</th>\n",
       "      <td>667,496</td>\n",
       "      <td>572,758</td>\n",
       "    </tr>\n",
       "    <tr>\n",
       "      <th>University Student</th>\n",
       "      <td>122,962</td>\n",
       "      <td>94,052</td>\n",
       "    </tr>\n",
       "  </tbody>\n",
       "</table>\n",
       "</div>"
      ],
      "text/plain": [
       "source                          model    survey\n",
       "pptyp                                          \n",
       "Child Age 0-4                 279,211   232,861\n",
       "Child Age 5-15                585,550   517,918\n",
       "Full-Time Worker            2,541,694 2,071,449\n",
       "High School Student Age 16+   234,986   237,636\n",
       "Non-Working Adult Age 65+     668,788   545,290\n",
       "Non-Working Adult Age <65     951,113   823,362\n",
       "Part-Time Worker              667,496   572,758\n",
       "University Student            122,962    94,052"
      ]
     },
     "execution_count": 7,
     "metadata": {},
     "output_type": "execute_result"
    },
    {
     "data": {
      "image/png": "[encoded data removed]",
      "text/plain": [
       "<Figure size 432x288 with 1 Axes>"
      ]
     },
     "metadata": {
      "needs_background": "light"
     },
     "output_type": "display_data"
    }
   ],
   "source": [
    "pd.options.display.float_format = '{:0,.0f}'.format\n",
    "df = load_data('tour_purpose_mode')\n",
    "\n",
    "df = df.pivot_table(index='pptyp', columns='source', aggfunc='sum', values='toexpfac')\n",
    "df.plot(kind='barh', alpha=0.6)\n",
    "df"
   ]
  },
  {
   "cell_type": "markdown",
   "metadata": {},
   "source": [
    "## Work Tours by Person Type"
   ]
  },
  {
   "cell_type": "code",
   "execution_count": 8,
   "metadata": {
    "execution": {
     "iopub.execute_input": "2024-04-03T21:12:26.523356Z",
     "iopub.status.busy": "2024-04-03T21:12:26.523356Z",
     "iopub.status.idle": "2024-04-03T21:12:26.665978Z",
     "shell.execute_reply": "2024-04-03T21:12:26.664980Z"
    }
   },
   "outputs": [
    {
     "data": {
      "text/html": [
       "<div>\n",
       "<style scoped>\n",
       "    .dataframe tbody tr th:only-of-type {\n",
       "        vertical-align: middle;\n",
       "    }\n",
       "\n",
       "    .dataframe tbody tr th {\n",
       "        vertical-align: top;\n",
       "    }\n",
       "\n",
       "    .dataframe thead th {\n",
       "        text-align: right;\n",
       "    }\n",
       "</style>\n",
       "<table border=\"1\" class=\"dataframe\">\n",
       "  <thead>\n",
       "    <tr style=\"text-align: right;\">\n",
       "      <th>source</th>\n",
       "      <th>model</th>\n",
       "      <th>survey</th>\n",
       "    </tr>\n",
       "    <tr>\n",
       "      <th>pptyp</th>\n",
       "      <th></th>\n",
       "      <th></th>\n",
       "    </tr>\n",
       "  </thead>\n",
       "  <tbody>\n",
       "    <tr>\n",
       "      <th>Full-Time Worker</th>\n",
       "      <td>1,286,045</td>\n",
       "      <td>1,088,987</td>\n",
       "    </tr>\n",
       "    <tr>\n",
       "      <th>High School Student Age 16+</th>\n",
       "      <td>20,585</td>\n",
       "      <td>14,888</td>\n",
       "    </tr>\n",
       "    <tr>\n",
       "      <th>Part-Time Worker</th>\n",
       "      <td>239,222</td>\n",
       "      <td>198,978</td>\n",
       "    </tr>\n",
       "    <tr>\n",
       "      <th>University Student</th>\n",
       "      <td>20,355</td>\n",
       "      <td>19,730</td>\n",
       "    </tr>\n",
       "  </tbody>\n",
       "</table>\n",
       "</div>"
      ],
      "text/plain": [
       "source                          model    survey\n",
       "pptyp                                          \n",
       "Full-Time Worker            1,286,045 1,088,987\n",
       "High School Student Age 16+    20,585    14,888\n",
       "Part-Time Worker              239,222   198,978\n",
       "University Student             20,355    19,730"
      ]
     },
     "execution_count": 8,
     "metadata": {},
     "output_type": "execute_result"
    },
    {
     "data": {
      "image/png": "[encoded data removed]",
      "text/plain": [
       "<Figure size 432x288 with 1 Axes>"
      ]
     },
     "metadata": {
      "needs_background": "light"
     },
     "output_type": "display_data"
    }
   ],
   "source": [
    "pd.options.display.float_format = '{:0,.0f}'.format\n",
    "df = load_data('tour_purpose_mode')\n",
    "df = df[(df['pdpurp'] == 'Work') & (df['pptyp'].isin(['Full-Time Worker','High School Student Age 16+',\n",
    "                                                     'Part-Time Worker','University Student']))]\n",
    "df = df.pivot_table(index='pptyp', columns='source', aggfunc='sum', values='toexpfac')\n",
    "df.plot(kind='barh', alpha=0.6)\n",
    "df"
   ]
  },
  {
   "cell_type": "code",
   "execution_count": null,
   "metadata": {},
   "outputs": [],
   "source": []
  },
  {
   "cell_type": "code",
   "execution_count": null,
   "metadata": {},
   "outputs": [],
   "source": []
  }
 ],
 "metadata": {
  "kernelspec": {
   "display_name": "Python 3",
   "language": "python",
   "name": "python3"
  },
  "language_info": {
   "codemirror_mode": {
    "name": "ipython",
    "version": 3
   },
   "file_extension": ".py",
   "mimetype": "text/x-python",
   "name": "python",
   "nbconvert_exporter": "python",
   "pygments_lexer": "ipython3",
   "version": "3.7.10"
  }
 },
 "nbformat": 4,
 "nbformat_minor": 4
}
