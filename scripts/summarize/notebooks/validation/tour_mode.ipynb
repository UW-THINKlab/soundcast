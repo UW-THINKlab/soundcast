{
 "cells": [
  {
   "cell_type": "code",
   "execution_count": 1,
   "metadata": {
    "execution": {
     "iopub.execute_input": "2024-04-03T21:13:56.101346Z",
     "iopub.status.busy": "2024-04-03T21:13:56.101346Z",
     "iopub.status.idle": "2024-04-03T21:13:56.952238Z",
     "shell.execute_reply": "2024-04-03T21:13:56.951236Z"
    }
   },
   "outputs": [],
   "source": [
    "import pandas as pd\n",
    "import os, sys\n",
    "%matplotlib inline\n",
    "\n",
    "from IPython.display import display, HTML\n",
    "\n",
    "if (sys.version_info < (3, 0)):\n",
    "    HTML('''<script>\n",
    "    code_show=true; \n",
    "    function code_toggle() {\n",
    "     if (code_show){\n",
    "     $('div.input').hide();\n",
    "     } else {\n",
    "     $('div.input').show();\n",
    "     }\n",
    "     code_show = !code_show\n",
    "    } \n",
    "    $( document ).ready(code_toggle);\n",
    "    </script>\n",
    "    <form action=\"javascript:code_toggle()\"><input type=\"submit\" value=\"Click here to toggle on/off the raw code.\"></form>''')\n"
   ]
  },
  {
   "cell_type": "code",
   "execution_count": 2,
   "metadata": {
    "execution": {
     "iopub.execute_input": "2024-04-03T21:13:56.958223Z",
     "iopub.status.busy": "2024-04-03T21:13:56.958223Z",
     "iopub.status.idle": "2024-04-03T21:13:56.968190Z",
     "shell.execute_reply": "2024-04-03T21:13:56.967118Z"
    }
   },
   "outputs": [],
   "source": [
    "working_dir = r'../../../../outputs/agg/dash'\n",
    "fname = 'tour_purpose_mode'"
   ]
  },
  {
   "cell_type": "code",
   "execution_count": 3,
   "metadata": {
    "execution": {
     "iopub.execute_input": "2024-04-03T21:13:56.974171Z",
     "iopub.status.busy": "2024-04-03T21:13:56.973172Z",
     "iopub.status.idle": "2024-04-03T21:13:56.983144Z",
     "shell.execute_reply": "2024-04-03T21:13:56.982151Z"
    }
   },
   "outputs": [],
   "source": [
    "def load_data(fname):\n",
    "    \"\"\" open and join model and survey data \"\"\"\n",
    "\n",
    "    df_model = pd.read_csv(os.path.join(working_dir,fname+'.csv'))\n",
    "    df_model['source'] = 'model'\n",
    "    df_survey = pd.read_csv(os.path.join(working_dir,'survey',fname+'.csv'))\n",
    "    df_survey['source'] = 'survey'\n",
    "    df = df_model.append(df_survey)\n",
    "\n",
    "    return df"
   ]
  },
  {
   "cell_type": "markdown",
   "metadata": {},
   "source": [
    "# Primary Tour Mode Share"
   ]
  },
  {
   "cell_type": "code",
   "execution_count": 4,
   "metadata": {
    "execution": {
     "iopub.execute_input": "2024-04-03T21:13:56.989132Z",
     "iopub.status.busy": "2024-04-03T21:13:56.988066Z",
     "iopub.status.idle": "2024-04-03T21:13:57.078007Z",
     "shell.execute_reply": "2024-04-03T21:13:57.077011Z"
    }
   },
   "outputs": [
    {
     "data": {
      "text/html": [
       "<div>\n",
       "<style scoped>\n",
       "    .dataframe tbody tr th:only-of-type {\n",
       "        vertical-align: middle;\n",
       "    }\n",
       "\n",
       "    .dataframe tbody tr th {\n",
       "        vertical-align: top;\n",
       "    }\n",
       "\n",
       "    .dataframe thead th {\n",
       "        text-align: right;\n",
       "    }\n",
       "</style>\n",
       "<table border=\"1\" class=\"dataframe\">\n",
       "  <thead>\n",
       "    <tr style=\"text-align: right;\">\n",
       "      <th></th>\n",
       "      <th>Model</th>\n",
       "      <th>Survey</th>\n",
       "    </tr>\n",
       "    <tr>\n",
       "      <th>Tour Mode</th>\n",
       "      <th></th>\n",
       "      <th></th>\n",
       "    </tr>\n",
       "  </thead>\n",
       "  <tbody>\n",
       "    <tr>\n",
       "      <th>Bike</th>\n",
       "      <td>1.1%</td>\n",
       "      <td>0.8%</td>\n",
       "    </tr>\n",
       "    <tr>\n",
       "      <th>HOV2</th>\n",
       "      <td>21.7%</td>\n",
       "      <td>20.1%</td>\n",
       "    </tr>\n",
       "    <tr>\n",
       "      <th>HOV3+</th>\n",
       "      <td>24.8%</td>\n",
       "      <td>25.0%</td>\n",
       "    </tr>\n",
       "    <tr>\n",
       "      <th>Park</th>\n",
       "      <td>0.3%</td>\n",
       "      <td>0.5%</td>\n",
       "    </tr>\n",
       "    <tr>\n",
       "      <th>SOV</th>\n",
       "      <td>33.1%</td>\n",
       "      <td>36.2%</td>\n",
       "    </tr>\n",
       "    <tr>\n",
       "      <th>School Bus</th>\n",
       "      <td>3.0%</td>\n",
       "      <td>3.3%</td>\n",
       "    </tr>\n",
       "    <tr>\n",
       "      <th>TNC</th>\n",
       "      <td>1.5%</td>\n",
       "      <td>0.3%</td>\n",
       "    </tr>\n",
       "    <tr>\n",
       "      <th>Transit</th>\n",
       "      <td>3.2%</td>\n",
       "      <td>3.3%</td>\n",
       "    </tr>\n",
       "    <tr>\n",
       "      <th>Walk</th>\n",
       "      <td>11.3%</td>\n",
       "      <td>10.0%</td>\n",
       "    </tr>\n",
       "  </tbody>\n",
       "</table>\n",
       "</div>"
      ],
      "text/plain": [
       "             Model   Survey\n",
       "Tour Mode                  \n",
       "Bike          1.1%     0.8%\n",
       "HOV2         21.7%    20.1%\n",
       "HOV3+        24.8%    25.0%\n",
       "Park          0.3%     0.5%\n",
       "SOV          33.1%    36.2%\n",
       "School Bus    3.0%     3.3%\n",
       "TNC           1.5%     0.3%\n",
       "Transit       3.2%     3.3%\n",
       "Walk         11.3%    10.0%"
      ]
     },
     "execution_count": 4,
     "metadata": {},
     "output_type": "execute_result"
    }
   ],
   "source": [
    "pd.options.display.float_format = '{:,.1%}'.format\n",
    "\n",
    "df_model = pd.read_csv(os.path.join(working_dir,fname+'.csv'))\n",
    "df_survey = pd.read_csv(os.path.join(working_dir,'survey',fname+'.csv'))\n",
    "df_model = (df_model.groupby('tmodetp').sum()[['toexpfac']]/df_model['toexpfac'].sum()).reset_index()\n",
    "df_survey = (df_survey.groupby('tmodetp').sum()[['toexpfac']]/df_survey['toexpfac'].sum()).reset_index()\n",
    "df = df_model.merge(df_survey, on='tmodetp', suffixes=['_model','_survey'])\n",
    "df.columns = ['Tour Mode',' Model',' Survey']\n",
    "df.index = df['Tour Mode']\n",
    "df.drop('Tour Mode', axis=1, inplace=True)\n",
    "df"
   ]
  },
  {
   "cell_type": "code",
   "execution_count": 5,
   "metadata": {
    "execution": {
     "iopub.execute_input": "2024-04-03T21:13:57.081997Z",
     "iopub.status.busy": "2024-04-03T21:13:57.081000Z",
     "iopub.status.idle": "2024-04-03T21:13:57.330037Z",
     "shell.execute_reply": "2024-04-03T21:13:57.330037Z"
    }
   },
   "outputs": [
    {
     "data": {
      "text/plain": [
       "<AxesSubplot:ylabel='Tour Mode'>"
      ]
     },
     "execution_count": 5,
     "metadata": {},
     "output_type": "execute_result"
    },
    {
     "data": {
      "image/png": "[encoded data removed]",
      "text/plain": [
       "<Figure size 432x288 with 1 Axes>"
      ]
     },
     "metadata": {
      "needs_background": "light"
     },
     "output_type": "display_data"
    }
   ],
   "source": [
    "df.plot(kind='barh', alpha=0.6)"
   ]
  },
  {
   "cell_type": "markdown",
   "metadata": {},
   "source": [
    "# Work Tour Mode Share"
   ]
  },
  {
   "cell_type": "code",
   "execution_count": 6,
   "metadata": {
    "execution": {
     "iopub.execute_input": "2024-04-03T21:13:57.337018Z",
     "iopub.status.busy": "2024-04-03T21:13:57.336021Z",
     "iopub.status.idle": "2024-04-03T21:13:57.378000Z",
     "shell.execute_reply": "2024-04-03T21:13:57.376995Z"
    }
   },
   "outputs": [
    {
     "data": {
      "text/html": [
       "<div>\n",
       "<style scoped>\n",
       "    .dataframe tbody tr th:only-of-type {\n",
       "        vertical-align: middle;\n",
       "    }\n",
       "\n",
       "    .dataframe tbody tr th {\n",
       "        vertical-align: top;\n",
       "    }\n",
       "\n",
       "    .dataframe thead th {\n",
       "        text-align: right;\n",
       "    }\n",
       "</style>\n",
       "<table border=\"1\" class=\"dataframe\">\n",
       "  <thead>\n",
       "    <tr style=\"text-align: right;\">\n",
       "      <th></th>\n",
       "      <th>Model</th>\n",
       "      <th>Survey</th>\n",
       "    </tr>\n",
       "    <tr>\n",
       "      <th>Tour Mode</th>\n",
       "      <th></th>\n",
       "      <th></th>\n",
       "    </tr>\n",
       "  </thead>\n",
       "  <tbody>\n",
       "    <tr>\n",
       "      <th>Bike</th>\n",
       "      <td>1.1%</td>\n",
       "      <td>1.0%</td>\n",
       "    </tr>\n",
       "    <tr>\n",
       "      <th>HOV2</th>\n",
       "      <td>13.9%</td>\n",
       "      <td>14.1%</td>\n",
       "    </tr>\n",
       "    <tr>\n",
       "      <th>HOV3+</th>\n",
       "      <td>10.2%</td>\n",
       "      <td>10.7%</td>\n",
       "    </tr>\n",
       "    <tr>\n",
       "      <th>Park</th>\n",
       "      <td>1.6%</td>\n",
       "      <td>0.7%</td>\n",
       "    </tr>\n",
       "    <tr>\n",
       "      <th>SOV</th>\n",
       "      <td>61.9%</td>\n",
       "      <td>64.1%</td>\n",
       "    </tr>\n",
       "    <tr>\n",
       "      <th>TNC</th>\n",
       "      <td>0.9%</td>\n",
       "      <td>0.6%</td>\n",
       "    </tr>\n",
       "    <tr>\n",
       "      <th>Transit</th>\n",
       "      <td>6.0%</td>\n",
       "      <td>4.7%</td>\n",
       "    </tr>\n",
       "    <tr>\n",
       "      <th>Walk</th>\n",
       "      <td>4.5%</td>\n",
       "      <td>3.9%</td>\n",
       "    </tr>\n",
       "  </tbody>\n",
       "</table>\n",
       "</div>"
      ],
      "text/plain": [
       "            Model   Survey\n",
       "Tour Mode                 \n",
       "Bike         1.1%     1.0%\n",
       "HOV2        13.9%    14.1%\n",
       "HOV3+       10.2%    10.7%\n",
       "Park         1.6%     0.7%\n",
       "SOV         61.9%    64.1%\n",
       "TNC          0.9%     0.6%\n",
       "Transit      6.0%     4.7%\n",
       "Walk         4.5%     3.9%"
      ]
     },
     "execution_count": 6,
     "metadata": {},
     "output_type": "execute_result"
    }
   ],
   "source": [
    "pd.options.display.float_format = '{:,.1%}'.format\n",
    "\n",
    "df_model = pd.read_csv(os.path.join(working_dir,fname+'.csv'))\n",
    "df_survey = pd.read_csv(os.path.join(working_dir,'survey',fname+'.csv'))\n",
    "df_model = df_model[df_model['pdpurp'] == 'Work']\n",
    "df_survey = df_survey[df_survey['pdpurp'] == 'Work']\n",
    "df_model = (df_model.groupby('tmodetp').sum()[['toexpfac']]/df_model['toexpfac'].sum()).reset_index()\n",
    "df_survey = (df_survey.groupby('tmodetp').sum()[['toexpfac']]/df_survey['toexpfac'].sum()).reset_index()\n",
    "df = df_model.merge(df_survey, on='tmodetp', suffixes=['_model','_survey'])\n",
    "df.columns = ['Tour Mode',' Model',' Survey']\n",
    "df.index = df['Tour Mode']\n",
    "df.drop('Tour Mode', axis=1, inplace=True)\n",
    "df"
   ]
  },
  {
   "cell_type": "code",
   "execution_count": 7,
   "metadata": {
    "execution": {
     "iopub.execute_input": "2024-04-03T21:13:57.383982Z",
     "iopub.status.busy": "2024-04-03T21:13:57.382985Z",
     "iopub.status.idle": "2024-04-03T21:13:57.520261Z",
     "shell.execute_reply": "2024-04-03T21:13:57.519263Z"
    }
   },
   "outputs": [
    {
     "data": {
      "text/plain": [
       "<AxesSubplot:ylabel='Tour Mode'>"
      ]
     },
     "execution_count": 7,
     "metadata": {},
     "output_type": "execute_result"
    },
    {
     "data": {
      "image/png": "[encoded data removed]",
      "text/plain": [
       "<Figure size 432x288 with 1 Axes>"
      ]
     },
     "metadata": {
      "needs_background": "light"
     },
     "output_type": "display_data"
    }
   ],
   "source": [
    "df.plot(kind='barh', alpha=0.6)"
   ]
  },
  {
   "cell_type": "markdown",
   "metadata": {},
   "source": [
    "# School Tour Mode Share"
   ]
  },
  {
   "cell_type": "code",
   "execution_count": 8,
   "metadata": {
    "execution": {
     "iopub.execute_input": "2024-04-03T21:13:57.526246Z",
     "iopub.status.busy": "2024-04-03T21:13:57.526246Z",
     "iopub.status.idle": "2024-04-03T21:13:57.566139Z",
     "shell.execute_reply": "2024-04-03T21:13:57.565140Z"
    }
   },
   "outputs": [
    {
     "data": {
      "text/html": [
       "<div>\n",
       "<style scoped>\n",
       "    .dataframe tbody tr th:only-of-type {\n",
       "        vertical-align: middle;\n",
       "    }\n",
       "\n",
       "    .dataframe tbody tr th {\n",
       "        vertical-align: top;\n",
       "    }\n",
       "\n",
       "    .dataframe thead th {\n",
       "        text-align: right;\n",
       "    }\n",
       "</style>\n",
       "<table border=\"1\" class=\"dataframe\">\n",
       "  <thead>\n",
       "    <tr style=\"text-align: right;\">\n",
       "      <th></th>\n",
       "      <th>Model</th>\n",
       "      <th>Survey</th>\n",
       "    </tr>\n",
       "    <tr>\n",
       "      <th>Tour Mode</th>\n",
       "      <th></th>\n",
       "      <th></th>\n",
       "    </tr>\n",
       "  </thead>\n",
       "  <tbody>\n",
       "    <tr>\n",
       "      <th>Bike</th>\n",
       "      <td>2.8%</td>\n",
       "      <td>1.4%</td>\n",
       "    </tr>\n",
       "    <tr>\n",
       "      <th>HOV2</th>\n",
       "      <td>19.0%</td>\n",
       "      <td>13.9%</td>\n",
       "    </tr>\n",
       "    <tr>\n",
       "      <th>HOV3+</th>\n",
       "      <td>30.6%</td>\n",
       "      <td>34.2%</td>\n",
       "    </tr>\n",
       "    <tr>\n",
       "      <th>SOV</th>\n",
       "      <td>7.5%</td>\n",
       "      <td>9.0%</td>\n",
       "    </tr>\n",
       "    <tr>\n",
       "      <th>School Bus</th>\n",
       "      <td>26.5%</td>\n",
       "      <td>30.0%</td>\n",
       "    </tr>\n",
       "    <tr>\n",
       "      <th>Transit</th>\n",
       "      <td>5.1%</td>\n",
       "      <td>4.3%</td>\n",
       "    </tr>\n",
       "    <tr>\n",
       "      <th>Walk</th>\n",
       "      <td>4.9%</td>\n",
       "      <td>7.0%</td>\n",
       "    </tr>\n",
       "  </tbody>\n",
       "</table>\n",
       "</div>"
      ],
      "text/plain": [
       "             Model   Survey\n",
       "Tour Mode                  \n",
       "Bike          2.8%     1.4%\n",
       "HOV2         19.0%    13.9%\n",
       "HOV3+        30.6%    34.2%\n",
       "SOV           7.5%     9.0%\n",
       "School Bus   26.5%    30.0%\n",
       "Transit       5.1%     4.3%\n",
       "Walk          4.9%     7.0%"
      ]
     },
     "execution_count": 8,
     "metadata": {},
     "output_type": "execute_result"
    }
   ],
   "source": [
    "pd.options.display.float_format = '{:,.1%}'.format\n",
    "\n",
    "df_model = pd.read_csv(os.path.join(working_dir,fname+'.csv'))\n",
    "df_survey = pd.read_csv(os.path.join(working_dir,'survey',fname+'.csv'))\n",
    "df_model = df_model[df_model['pdpurp'] == 'School']\n",
    "df_survey = df_survey[df_survey['pdpurp'] == 'School']\n",
    "df_model = (df_model.groupby('tmodetp').sum()[['toexpfac']]/df_model['toexpfac'].sum()).reset_index()\n",
    "df_survey = (df_survey.groupby('tmodetp').sum()[['toexpfac']]/df_survey['toexpfac'].sum()).reset_index()\n",
    "df = df_model.merge(df_survey, on='tmodetp', suffixes=['_model','_survey'])\n",
    "df.columns = ['Tour Mode',' Model',' Survey']\n",
    "df.index = df['Tour Mode']\n",
    "df.drop('Tour Mode', axis=1, inplace=True)\n",
    "df"
   ]
  },
  {
   "cell_type": "code",
   "execution_count": 9,
   "metadata": {
    "execution": {
     "iopub.execute_input": "2024-04-03T21:13:57.572119Z",
     "iopub.status.busy": "2024-04-03T21:13:57.571125Z",
     "iopub.status.idle": "2024-04-03T21:13:57.709290Z",
     "shell.execute_reply": "2024-04-03T21:13:57.708286Z"
    }
   },
   "outputs": [
    {
     "data": {
      "text/plain": [
       "<AxesSubplot:ylabel='Tour Mode'>"
      ]
     },
     "execution_count": 9,
     "metadata": {},
     "output_type": "execute_result"
    },
    {
     "data": {
      "image/png": "[encoded data removed]",
      "text/plain": [
       "<Figure size 432x288 with 1 Axes>"
      ]
     },
     "metadata": {
      "needs_background": "light"
     },
     "output_type": "display_data"
    }
   ],
   "source": [
    "df.plot(kind='barh', alpha=0.6)"
   ]
  },
  {
   "cell_type": "markdown",
   "metadata": {},
   "source": [
    "# Escort Tour Mode Share"
   ]
  },
  {
   "cell_type": "code",
   "execution_count": 10,
   "metadata": {
    "execution": {
     "iopub.execute_input": "2024-04-03T21:13:57.715272Z",
     "iopub.status.busy": "2024-04-03T21:13:57.715272Z",
     "iopub.status.idle": "2024-04-03T21:13:57.757246Z",
     "shell.execute_reply": "2024-04-03T21:13:57.756243Z"
    }
   },
   "outputs": [
    {
     "data": {
      "text/html": [
       "<div>\n",
       "<style scoped>\n",
       "    .dataframe tbody tr th:only-of-type {\n",
       "        vertical-align: middle;\n",
       "    }\n",
       "\n",
       "    .dataframe tbody tr th {\n",
       "        vertical-align: top;\n",
       "    }\n",
       "\n",
       "    .dataframe thead th {\n",
       "        text-align: right;\n",
       "    }\n",
       "</style>\n",
       "<table border=\"1\" class=\"dataframe\">\n",
       "  <thead>\n",
       "    <tr style=\"text-align: right;\">\n",
       "      <th></th>\n",
       "      <th>Model</th>\n",
       "      <th>Survey</th>\n",
       "    </tr>\n",
       "    <tr>\n",
       "      <th>Tour Mode</th>\n",
       "      <th></th>\n",
       "      <th></th>\n",
       "    </tr>\n",
       "  </thead>\n",
       "  <tbody>\n",
       "    <tr>\n",
       "      <th>Bike</th>\n",
       "      <td>2.2%</td>\n",
       "      <td>0.5%</td>\n",
       "    </tr>\n",
       "    <tr>\n",
       "      <th>HOV2</th>\n",
       "      <td>45.1%</td>\n",
       "      <td>38.9%</td>\n",
       "    </tr>\n",
       "    <tr>\n",
       "      <th>HOV3+</th>\n",
       "      <td>46.0%</td>\n",
       "      <td>42.8%</td>\n",
       "    </tr>\n",
       "    <tr>\n",
       "      <th>SOV</th>\n",
       "      <td>2.1%</td>\n",
       "      <td>6.7%</td>\n",
       "    </tr>\n",
       "    <tr>\n",
       "      <th>TNC</th>\n",
       "      <td>0.1%</td>\n",
       "      <td>0.0%</td>\n",
       "    </tr>\n",
       "    <tr>\n",
       "      <th>Transit</th>\n",
       "      <td>0.0%</td>\n",
       "      <td>0.5%</td>\n",
       "    </tr>\n",
       "    <tr>\n",
       "      <th>Walk</th>\n",
       "      <td>4.4%</td>\n",
       "      <td>8.6%</td>\n",
       "    </tr>\n",
       "  </tbody>\n",
       "</table>\n",
       "</div>"
      ],
      "text/plain": [
       "            Model   Survey\n",
       "Tour Mode                 \n",
       "Bike         2.2%     0.5%\n",
       "HOV2        45.1%    38.9%\n",
       "HOV3+       46.0%    42.8%\n",
       "SOV          2.1%     6.7%\n",
       "TNC          0.1%     0.0%\n",
       "Transit      0.0%     0.5%\n",
       "Walk         4.4%     8.6%"
      ]
     },
     "execution_count": 10,
     "metadata": {},
     "output_type": "execute_result"
    }
   ],
   "source": [
    "pd.options.display.float_format = '{:,.1%}'.format\n",
    "\n",
    "df_model = pd.read_csv(os.path.join(working_dir,fname+'.csv'))\n",
    "df_survey = pd.read_csv(os.path.join(working_dir,'survey',fname+'.csv'))\n",
    "df_model = df_model[df_model['pdpurp'] == 'Escort']\n",
    "df_survey = df_survey[df_survey['pdpurp'] == 'Escort']\n",
    "df_model = (df_model.groupby('tmodetp').sum()[['toexpfac']]/df_model['toexpfac'].sum()).reset_index()\n",
    "df_survey = (df_survey.groupby('tmodetp').sum()[['toexpfac']]/df_survey['toexpfac'].sum()).reset_index()\n",
    "df = df_model.merge(df_survey, on='tmodetp', suffixes=['_model','_survey'])\n",
    "df.columns = ['Tour Mode',' Model',' Survey']\n",
    "df.index = df['Tour Mode']\n",
    "df.drop('Tour Mode', axis=1, inplace=True)\n",
    "df"
   ]
  },
  {
   "cell_type": "code",
   "execution_count": 11,
   "metadata": {
    "execution": {
     "iopub.execute_input": "2024-04-03T21:13:57.763229Z",
     "iopub.status.busy": "2024-04-03T21:13:57.762232Z",
     "iopub.status.idle": "2024-04-03T21:13:57.880599Z",
     "shell.execute_reply": "2024-04-03T21:13:57.879602Z"
    }
   },
   "outputs": [
    {
     "data": {
      "text/plain": [
       "<AxesSubplot:ylabel='Tour Mode'>"
      ]
     },
     "execution_count": 11,
     "metadata": {},
     "output_type": "execute_result"
    },
    {
     "data": {
      "image/png": "[encoded data removed]",
      "text/plain": [
       "<Figure size 432x288 with 1 Axes>"
      ]
     },
     "metadata": {
      "needs_background": "light"
     },
     "output_type": "display_data"
    }
   ],
   "source": [
    "df.plot(kind='barh', alpha=0.6)"
   ]
  },
  {
   "cell_type": "markdown",
   "metadata": {},
   "source": [
    "# Other Tour Mode Share"
   ]
  },
  {
   "cell_type": "code",
   "execution_count": 12,
   "metadata": {
    "execution": {
     "iopub.execute_input": "2024-04-03T21:13:57.887580Z",
     "iopub.status.busy": "2024-04-03T21:13:57.886583Z",
     "iopub.status.idle": "2024-04-03T21:13:57.928469Z",
     "shell.execute_reply": "2024-04-03T21:13:57.927471Z"
    }
   },
   "outputs": [
    {
     "data": {
      "text/html": [
       "<div>\n",
       "<style scoped>\n",
       "    .dataframe tbody tr th:only-of-type {\n",
       "        vertical-align: middle;\n",
       "    }\n",
       "\n",
       "    .dataframe tbody tr th {\n",
       "        vertical-align: top;\n",
       "    }\n",
       "\n",
       "    .dataframe thead th {\n",
       "        text-align: right;\n",
       "    }\n",
       "</style>\n",
       "<table border=\"1\" class=\"dataframe\">\n",
       "  <thead>\n",
       "    <tr style=\"text-align: right;\">\n",
       "      <th></th>\n",
       "      <th>Model</th>\n",
       "      <th>Survey</th>\n",
       "    </tr>\n",
       "    <tr>\n",
       "      <th>Tour Mode</th>\n",
       "      <th></th>\n",
       "      <th></th>\n",
       "    </tr>\n",
       "  </thead>\n",
       "  <tbody>\n",
       "    <tr>\n",
       "      <th>Bike</th>\n",
       "      <td>0.5%</td>\n",
       "      <td>0.8%</td>\n",
       "    </tr>\n",
       "    <tr>\n",
       "      <th>HOV2</th>\n",
       "      <td>20.2%</td>\n",
       "      <td>19.6%</td>\n",
       "    </tr>\n",
       "    <tr>\n",
       "      <th>HOV3+</th>\n",
       "      <td>24.7%</td>\n",
       "      <td>26.0%</td>\n",
       "    </tr>\n",
       "    <tr>\n",
       "      <th>SOV</th>\n",
       "      <td>33.9%</td>\n",
       "      <td>34.9%</td>\n",
       "    </tr>\n",
       "    <tr>\n",
       "      <th>TNC</th>\n",
       "      <td>1.6%</td>\n",
       "      <td>0.2%</td>\n",
       "    </tr>\n",
       "    <tr>\n",
       "      <th>Transit</th>\n",
       "      <td>2.3%</td>\n",
       "      <td>3.1%</td>\n",
       "    </tr>\n",
       "    <tr>\n",
       "      <th>Walk</th>\n",
       "      <td>16.7%</td>\n",
       "      <td>14.2%</td>\n",
       "    </tr>\n",
       "  </tbody>\n",
       "</table>\n",
       "</div>"
      ],
      "text/plain": [
       "            Model   Survey\n",
       "Tour Mode                 \n",
       "Bike         0.5%     0.8%\n",
       "HOV2        20.2%    19.6%\n",
       "HOV3+       24.7%    26.0%\n",
       "SOV         33.9%    34.9%\n",
       "TNC          1.6%     0.2%\n",
       "Transit      2.3%     3.1%\n",
       "Walk        16.7%    14.2%"
      ]
     },
     "execution_count": 12,
     "metadata": {},
     "output_type": "execute_result"
    }
   ],
   "source": [
    "pd.options.display.float_format = '{:,.1%}'.format\n",
    "\n",
    "df_model = pd.read_csv(os.path.join(working_dir,fname+'.csv'))\n",
    "df_survey = pd.read_csv(os.path.join(working_dir,'survey',fname+'.csv'))\n",
    "df_model = df_model[-df_model['pdpurp'].isin(['School','Work','Escort'])]\n",
    "df_survey = df_survey[-df_survey['pdpurp'].isin(['School','Work','Escort'])]\n",
    "df_model = (df_model.groupby('tmodetp').sum()[['toexpfac']]/df_model['toexpfac'].sum()).reset_index()\n",
    "df_survey = (df_survey.groupby('tmodetp').sum()[['toexpfac']]/df_survey['toexpfac'].sum()).reset_index()\n",
    "df = df_model.merge(df_survey, on='tmodetp', suffixes=['_model','_survey'])\n",
    "df.columns = ['Tour Mode',' Model',' Survey']\n",
    "df.index = df['Tour Mode']\n",
    "df.drop('Tour Mode', axis=1, inplace=True)\n",
    "df"
   ]
  },
  {
   "cell_type": "code",
   "execution_count": 13,
   "metadata": {
    "execution": {
     "iopub.execute_input": "2024-04-03T21:13:57.931461Z",
     "iopub.status.busy": "2024-04-03T21:13:57.931461Z",
     "iopub.status.idle": "2024-04-03T21:13:58.196753Z",
     "shell.execute_reply": "2024-04-03T21:13:58.196753Z"
    }
   },
   "outputs": [
    {
     "data": {
      "text/plain": [
       "<AxesSubplot:ylabel='Tour Mode'>"
      ]
     },
     "execution_count": 13,
     "metadata": {},
     "output_type": "execute_result"
    },
    {
     "data": {
      "image/png": "[encoded data removed]",
      "text/plain": [
       "<Figure size 432x288 with 1 Axes>"
      ]
     },
     "metadata": {
      "needs_background": "light"
     },
     "output_type": "display_data"
    }
   ],
   "source": [
    "df.plot(kind='barh', alpha=0.6)"
   ]
  }
 ],
 "metadata": {
  "kernelspec": {
   "display_name": "Python 3",
   "language": "python",
   "name": "python3"
  },
  "language_info": {
   "codemirror_mode": {
    "name": "ipython",
    "version": 3
   },
   "file_extension": ".py",
   "mimetype": "text/x-python",
   "name": "python",
   "nbconvert_exporter": "python",
   "pygments_lexer": "ipython3",
   "version": "3.7.10"
  }
 },
 "nbformat": 4,
 "nbformat_minor": 2
}
