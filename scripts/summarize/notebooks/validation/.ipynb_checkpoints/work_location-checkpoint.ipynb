{
 "cells": [
  {
   "cell_type": "code",
   "execution_count": 8,
   "metadata": {
    "execution": {
     "iopub.execute_input": "2024-04-03T21:14:31.992063Z",
     "iopub.status.busy": "2024-04-03T21:14:31.992063Z",
     "iopub.status.idle": "2024-04-03T21:14:32.790129Z",
     "shell.execute_reply": "2024-04-03T21:14:32.789066Z"
    }
   },
   "outputs": [],
   "source": [
    "import warnings\n",
    "warnings.simplefilter(action='ignore', category=FutureWarning)\n",
    "import pandas as pd\n",
    "import os, sys\n",
    "import toml\n",
    "config = toml.load('../../../../configuration/input_configuration.toml')\n",
    "%matplotlib inline\n",
    "\n",
    "# os.chdir('..\\..\\..\\..')\n",
    "\n",
    "from IPython.display import display, HTML\n",
    "\n",
    "if (sys.version_info < (3, 0)):\n",
    "    HTML('''<script>\n",
    "    code_show=true; \n",
    "    function code_toggle() {\n",
    "     if (code_show){\n",
    "     $('div.input').hide();\n",
    "     } else {\n",
    "     $('div.input').show();\n",
    "     }\n",
    "     code_show = !code_show\n",
    "    } \n",
    "    $( document ).ready(code_toggle);\n",
    "    </script>\n",
    "    <form action=\"javascript:code_toggle()\"><input type=\"submit\" value=\"Click here to toggle on/off the raw code.\"></form>''')\n"
   ]
  },
  {
   "cell_type": "code",
   "execution_count": 9,
   "metadata": {
    "execution": {
     "iopub.execute_input": "2024-04-03T21:14:32.796116Z",
     "iopub.status.busy": "2024-04-03T21:14:32.796116Z",
     "iopub.status.idle": "2024-04-03T21:14:32.805354Z",
     "shell.execute_reply": "2024-04-03T21:14:32.804349Z"
    }
   },
   "outputs": [],
   "source": [
    "working_dir = r'../../../../outputs/agg/dash'\n",
    "pd.options.display.float_format = '{:0,.2f}'.format\n",
    "format_percent = \"{:,.2%}\".format"
   ]
  },
  {
   "cell_type": "code",
   "execution_count": 10,
   "metadata": {
    "execution": {
     "iopub.execute_input": "2024-04-03T21:14:32.811337Z",
     "iopub.status.busy": "2024-04-03T21:14:32.810341Z",
     "iopub.status.idle": "2024-04-03T21:14:32.820318Z",
     "shell.execute_reply": "2024-04-03T21:14:32.819315Z"
    }
   },
   "outputs": [],
   "source": [
    "def load_data(fname):\n",
    "    \"\"\" open and join model and survey data \"\"\"\n",
    "\n",
    "    df_model = pd.read_csv(os.path.join(working_dir,fname+'.csv'))\n",
    "    df_model['source'] = 'model'\n",
    "    df_survey = pd.read_csv(os.path.join(working_dir,'survey',fname+'.csv'))\n",
    "    df_survey['source'] = 'survey'\n",
    "    df = df_model.append(df_survey)\n",
    "\n",
    "    return df"
   ]
  },
  {
   "cell_type": "code",
   "execution_count": 11,
   "metadata": {
    "execution": {
     "iopub.execute_input": "2024-04-03T21:14:32.826364Z",
     "iopub.status.busy": "2024-04-03T21:14:32.825366Z",
     "iopub.status.idle": "2024-04-03T21:14:35.546070Z",
     "shell.execute_reply": "2024-04-03T21:14:35.545065Z"
    }
   },
   "outputs": [],
   "source": [
    "parcel_geog = pd.read_sql_table('parcel_'+config['base_year']+'_geography', 'sqlite:///../../../../inputs/db/'+config['db_name'],\n",
    "        columns=['CountyName','ParcelID'])"
   ]
  },
  {
   "cell_type": "markdown",
   "metadata": {},
   "source": [
    "# Usual Work Distance"
   ]
  },
  {
   "cell_type": "code",
   "execution_count": 12,
   "metadata": {
    "execution": {
     "iopub.execute_input": "2024-04-03T21:14:35.552052Z",
     "iopub.status.busy": "2024-04-03T21:14:35.552052Z",
     "iopub.status.idle": "2024-04-03T21:14:55.240530Z",
     "shell.execute_reply": "2024-04-03T21:14:55.240530Z"
    }
   },
   "outputs": [
    {
     "ename": "FileNotFoundError",
     "evalue": "[Errno 2] No such file or directory: 'inputs/base_year/survey/_person.tsv'",
     "output_type": "error",
     "traceback": [
      "\u001b[1;31m-------------------------------------------------------\u001b[0m",
      "\u001b[1;31mFileNotFoundError\u001b[0m     Traceback (most recent call last)",
      "\u001b[1;32m<ipython-input-12-263fa6b0c03f>\u001b[0m in \u001b[0;36m<module>\u001b[1;34m\u001b[0m\n\u001b[0;32m      1\u001b[0m \u001b[0mperson\u001b[0m \u001b[1;33m=\u001b[0m \u001b[0mpd\u001b[0m\u001b[1;33m.\u001b[0m\u001b[0mread_csv\u001b[0m\u001b[1;33m(\u001b[0m\u001b[1;34mr'../../../../outputs/daysim/_person.tsv'\u001b[0m\u001b[1;33m,\u001b[0m \u001b[0mdelim_whitespace\u001b[0m\u001b[1;33m=\u001b[0m\u001b[1;32mTrue\u001b[0m\u001b[1;33m)\u001b[0m\u001b[1;33m\u001b[0m\u001b[1;33m\u001b[0m\u001b[0m\n\u001b[1;32m----> 2\u001b[1;33m \u001b[0mperson_survey\u001b[0m \u001b[1;33m=\u001b[0m \u001b[0mpd\u001b[0m\u001b[1;33m.\u001b[0m\u001b[0mread_csv\u001b[0m\u001b[1;33m(\u001b[0m\u001b[1;34mr'inputs/base_year/survey/_person.tsv'\u001b[0m\u001b[1;33m,\u001b[0m \u001b[0mdelim_whitespace\u001b[0m\u001b[1;33m=\u001b[0m\u001b[1;32mTrue\u001b[0m\u001b[1;33m)\u001b[0m\u001b[1;33m\u001b[0m\u001b[1;33m\u001b[0m\u001b[0m\n\u001b[0m\u001b[0;32m      3\u001b[0m \u001b[1;33m\u001b[0m\u001b[0m\n\u001b[0;32m      4\u001b[0m \u001b[0mperson\u001b[0m\u001b[1;33m[\u001b[0m\u001b[1;34m'source'\u001b[0m\u001b[1;33m]\u001b[0m \u001b[1;33m=\u001b[0m \u001b[1;34m'model'\u001b[0m\u001b[1;33m\u001b[0m\u001b[1;33m\u001b[0m\u001b[0m\n\u001b[0;32m      5\u001b[0m \u001b[0mperson_survey\u001b[0m\u001b[1;33m[\u001b[0m\u001b[1;34m'source'\u001b[0m\u001b[1;33m]\u001b[0m \u001b[1;33m=\u001b[0m \u001b[1;34m'survey'\u001b[0m\u001b[1;33m\u001b[0m\u001b[1;33m\u001b[0m\u001b[0m\n",
      "\u001b[1;32m~\\AppData\\Local\\anaconda3\\envs\\summary\\lib\\site-packages\\pandas\\io\\parsers.py\u001b[0m in \u001b[0;36mread_csv\u001b[1;34m(filepath_or_buffer, sep, delimiter, header, names, index_col, usecols, squeeze, prefix, mangle_dupe_cols, dtype, engine, converters, true_values, false_values, skipinitialspace, skiprows, skipfooter, nrows, na_values, keep_default_na, na_filter, verbose, skip_blank_lines, parse_dates, infer_datetime_format, keep_date_col, date_parser, dayfirst, cache_dates, iterator, chunksize, compression, thousands, decimal, lineterminator, quotechar, quoting, doublequote, escapechar, comment, encoding, dialect, error_bad_lines, warn_bad_lines, delim_whitespace, low_memory, memory_map, float_precision, storage_options)\u001b[0m\n\u001b[0;32m    608\u001b[0m     \u001b[0mkwds\u001b[0m\u001b[1;33m.\u001b[0m\u001b[0mupdate\u001b[0m\u001b[1;33m(\u001b[0m\u001b[0mkwds_defaults\u001b[0m\u001b[1;33m)\u001b[0m\u001b[1;33m\u001b[0m\u001b[1;33m\u001b[0m\u001b[0m\n\u001b[0;32m    609\u001b[0m \u001b[1;33m\u001b[0m\u001b[0m\n\u001b[1;32m--> 610\u001b[1;33m     \u001b[1;32mreturn\u001b[0m \u001b[0m_read\u001b[0m\u001b[1;33m(\u001b[0m\u001b[0mfilepath_or_buffer\u001b[0m\u001b[1;33m,\u001b[0m \u001b[0mkwds\u001b[0m\u001b[1;33m)\u001b[0m\u001b[1;33m\u001b[0m\u001b[1;33m\u001b[0m\u001b[0m\n\u001b[0m\u001b[0;32m    611\u001b[0m \u001b[1;33m\u001b[0m\u001b[0m\n\u001b[0;32m    612\u001b[0m \u001b[1;33m\u001b[0m\u001b[0m\n",
      "\u001b[1;32m~\\AppData\\Local\\anaconda3\\envs\\summary\\lib\\site-packages\\pandas\\io\\parsers.py\u001b[0m in \u001b[0;36m_read\u001b[1;34m(filepath_or_buffer, kwds)\u001b[0m\n\u001b[0;32m    460\u001b[0m \u001b[1;33m\u001b[0m\u001b[0m\n\u001b[0;32m    461\u001b[0m     \u001b[1;31m# Create the parser.\u001b[0m\u001b[1;33m\u001b[0m\u001b[1;33m\u001b[0m\u001b[1;33m\u001b[0m\u001b[0m\n\u001b[1;32m--> 462\u001b[1;33m     \u001b[0mparser\u001b[0m \u001b[1;33m=\u001b[0m \u001b[0mTextFileReader\u001b[0m\u001b[1;33m(\u001b[0m\u001b[0mfilepath_or_buffer\u001b[0m\u001b[1;33m,\u001b[0m \u001b[1;33m**\u001b[0m\u001b[0mkwds\u001b[0m\u001b[1;33m)\u001b[0m\u001b[1;33m\u001b[0m\u001b[1;33m\u001b[0m\u001b[0m\n\u001b[0m\u001b[0;32m    463\u001b[0m \u001b[1;33m\u001b[0m\u001b[0m\n\u001b[0;32m    464\u001b[0m     \u001b[1;32mif\u001b[0m \u001b[0mchunksize\u001b[0m \u001b[1;32mor\u001b[0m \u001b[0miterator\u001b[0m\u001b[1;33m:\u001b[0m\u001b[1;33m\u001b[0m\u001b[1;33m\u001b[0m\u001b[0m\n",
      "\u001b[1;32m~\\AppData\\Local\\anaconda3\\envs\\summary\\lib\\site-packages\\pandas\\io\\parsers.py\u001b[0m in \u001b[0;36m__init__\u001b[1;34m(self, f, engine, **kwds)\u001b[0m\n\u001b[0;32m    817\u001b[0m             \u001b[0mself\u001b[0m\u001b[1;33m.\u001b[0m\u001b[0moptions\u001b[0m\u001b[1;33m[\u001b[0m\u001b[1;34m\"has_index_names\"\u001b[0m\u001b[1;33m]\u001b[0m \u001b[1;33m=\u001b[0m \u001b[0mkwds\u001b[0m\u001b[1;33m[\u001b[0m\u001b[1;34m\"has_index_names\"\u001b[0m\u001b[1;33m]\u001b[0m\u001b[1;33m\u001b[0m\u001b[1;33m\u001b[0m\u001b[0m\n\u001b[0;32m    818\u001b[0m \u001b[1;33m\u001b[0m\u001b[0m\n\u001b[1;32m--> 819\u001b[1;33m         \u001b[0mself\u001b[0m\u001b[1;33m.\u001b[0m\u001b[0m_engine\u001b[0m \u001b[1;33m=\u001b[0m \u001b[0mself\u001b[0m\u001b[1;33m.\u001b[0m\u001b[0m_make_engine\u001b[0m\u001b[1;33m(\u001b[0m\u001b[0mself\u001b[0m\u001b[1;33m.\u001b[0m\u001b[0mengine\u001b[0m\u001b[1;33m)\u001b[0m\u001b[1;33m\u001b[0m\u001b[1;33m\u001b[0m\u001b[0m\n\u001b[0m\u001b[0;32m    820\u001b[0m \u001b[1;33m\u001b[0m\u001b[0m\n\u001b[0;32m    821\u001b[0m     \u001b[1;32mdef\u001b[0m \u001b[0mclose\u001b[0m\u001b[1;33m(\u001b[0m\u001b[0mself\u001b[0m\u001b[1;33m)\u001b[0m\u001b[1;33m:\u001b[0m\u001b[1;33m\u001b[0m\u001b[1;33m\u001b[0m\u001b[0m\n",
      "\u001b[1;32m~\\AppData\\Local\\anaconda3\\envs\\summary\\lib\\site-packages\\pandas\\io\\parsers.py\u001b[0m in \u001b[0;36m_make_engine\u001b[1;34m(self, engine)\u001b[0m\n\u001b[0;32m   1048\u001b[0m             )\n\u001b[0;32m   1049\u001b[0m         \u001b[1;31m# error: Too many arguments for \"ParserBase\"\u001b[0m\u001b[1;33m\u001b[0m\u001b[1;33m\u001b[0m\u001b[1;33m\u001b[0m\u001b[0m\n\u001b[1;32m-> 1050\u001b[1;33m         \u001b[1;32mreturn\u001b[0m \u001b[0mmapping\u001b[0m\u001b[1;33m[\u001b[0m\u001b[0mengine\u001b[0m\u001b[1;33m]\u001b[0m\u001b[1;33m(\u001b[0m\u001b[0mself\u001b[0m\u001b[1;33m.\u001b[0m\u001b[0mf\u001b[0m\u001b[1;33m,\u001b[0m \u001b[1;33m**\u001b[0m\u001b[0mself\u001b[0m\u001b[1;33m.\u001b[0m\u001b[0moptions\u001b[0m\u001b[1;33m)\u001b[0m  \u001b[1;31m# type: ignore[call-arg]\u001b[0m\u001b[1;33m\u001b[0m\u001b[1;33m\u001b[0m\u001b[0m\n\u001b[0m\u001b[0;32m   1051\u001b[0m \u001b[1;33m\u001b[0m\u001b[0m\n\u001b[0;32m   1052\u001b[0m     \u001b[1;32mdef\u001b[0m \u001b[0m_failover_to_python\u001b[0m\u001b[1;33m(\u001b[0m\u001b[0mself\u001b[0m\u001b[1;33m)\u001b[0m\u001b[1;33m:\u001b[0m\u001b[1;33m\u001b[0m\u001b[1;33m\u001b[0m\u001b[0m\n",
      "\u001b[1;32m~\\AppData\\Local\\anaconda3\\envs\\summary\\lib\\site-packages\\pandas\\io\\parsers.py\u001b[0m in \u001b[0;36m__init__\u001b[1;34m(self, src, **kwds)\u001b[0m\n\u001b[0;32m   1865\u001b[0m \u001b[1;33m\u001b[0m\u001b[0m\n\u001b[0;32m   1866\u001b[0m         \u001b[1;31m# open handles\u001b[0m\u001b[1;33m\u001b[0m\u001b[1;33m\u001b[0m\u001b[1;33m\u001b[0m\u001b[0m\n\u001b[1;32m-> 1867\u001b[1;33m         \u001b[0mself\u001b[0m\u001b[1;33m.\u001b[0m\u001b[0m_open_handles\u001b[0m\u001b[1;33m(\u001b[0m\u001b[0msrc\u001b[0m\u001b[1;33m,\u001b[0m \u001b[0mkwds\u001b[0m\u001b[1;33m)\u001b[0m\u001b[1;33m\u001b[0m\u001b[1;33m\u001b[0m\u001b[0m\n\u001b[0m\u001b[0;32m   1868\u001b[0m         \u001b[1;32massert\u001b[0m \u001b[0mself\u001b[0m\u001b[1;33m.\u001b[0m\u001b[0mhandles\u001b[0m \u001b[1;32mis\u001b[0m \u001b[1;32mnot\u001b[0m \u001b[1;32mNone\u001b[0m\u001b[1;33m\u001b[0m\u001b[1;33m\u001b[0m\u001b[0m\n\u001b[0;32m   1869\u001b[0m         \u001b[1;32mfor\u001b[0m \u001b[0mkey\u001b[0m \u001b[1;32min\u001b[0m \u001b[1;33m(\u001b[0m\u001b[1;34m\"storage_options\"\u001b[0m\u001b[1;33m,\u001b[0m \u001b[1;34m\"encoding\"\u001b[0m\u001b[1;33m,\u001b[0m \u001b[1;34m\"memory_map\"\u001b[0m\u001b[1;33m,\u001b[0m \u001b[1;34m\"compression\"\u001b[0m\u001b[1;33m)\u001b[0m\u001b[1;33m:\u001b[0m\u001b[1;33m\u001b[0m\u001b[1;33m\u001b[0m\u001b[0m\n",
      "\u001b[1;32m~\\AppData\\Local\\anaconda3\\envs\\summary\\lib\\site-packages\\pandas\\io\\parsers.py\u001b[0m in \u001b[0;36m_open_handles\u001b[1;34m(self, src, kwds)\u001b[0m\n\u001b[0;32m   1366\u001b[0m             \u001b[0mcompression\u001b[0m\u001b[1;33m=\u001b[0m\u001b[0mkwds\u001b[0m\u001b[1;33m.\u001b[0m\u001b[0mget\u001b[0m\u001b[1;33m(\u001b[0m\u001b[1;34m\"compression\"\u001b[0m\u001b[1;33m,\u001b[0m \u001b[1;32mNone\u001b[0m\u001b[1;33m)\u001b[0m\u001b[1;33m,\u001b[0m\u001b[1;33m\u001b[0m\u001b[1;33m\u001b[0m\u001b[0m\n\u001b[0;32m   1367\u001b[0m             \u001b[0mmemory_map\u001b[0m\u001b[1;33m=\u001b[0m\u001b[0mkwds\u001b[0m\u001b[1;33m.\u001b[0m\u001b[0mget\u001b[0m\u001b[1;33m(\u001b[0m\u001b[1;34m\"memory_map\"\u001b[0m\u001b[1;33m,\u001b[0m \u001b[1;32mFalse\u001b[0m\u001b[1;33m)\u001b[0m\u001b[1;33m,\u001b[0m\u001b[1;33m\u001b[0m\u001b[1;33m\u001b[0m\u001b[0m\n\u001b[1;32m-> 1368\u001b[1;33m             \u001b[0mstorage_options\u001b[0m\u001b[1;33m=\u001b[0m\u001b[0mkwds\u001b[0m\u001b[1;33m.\u001b[0m\u001b[0mget\u001b[0m\u001b[1;33m(\u001b[0m\u001b[1;34m\"storage_options\"\u001b[0m\u001b[1;33m,\u001b[0m \u001b[1;32mNone\u001b[0m\u001b[1;33m)\u001b[0m\u001b[1;33m,\u001b[0m\u001b[1;33m\u001b[0m\u001b[1;33m\u001b[0m\u001b[0m\n\u001b[0m\u001b[0;32m   1369\u001b[0m         )\n\u001b[0;32m   1370\u001b[0m \u001b[1;33m\u001b[0m\u001b[0m\n",
      "\u001b[1;32m~\\AppData\\Local\\anaconda3\\envs\\summary\\lib\\site-packages\\pandas\\io\\common.py\u001b[0m in \u001b[0;36mget_handle\u001b[1;34m(path_or_buf, mode, encoding, compression, memory_map, is_text, errors, storage_options)\u001b[0m\n\u001b[0;32m    650\u001b[0m                 \u001b[0mencoding\u001b[0m\u001b[1;33m=\u001b[0m\u001b[0mioargs\u001b[0m\u001b[1;33m.\u001b[0m\u001b[0mencoding\u001b[0m\u001b[1;33m,\u001b[0m\u001b[1;33m\u001b[0m\u001b[1;33m\u001b[0m\u001b[0m\n\u001b[0;32m    651\u001b[0m                 \u001b[0merrors\u001b[0m\u001b[1;33m=\u001b[0m\u001b[0merrors\u001b[0m\u001b[1;33m,\u001b[0m\u001b[1;33m\u001b[0m\u001b[1;33m\u001b[0m\u001b[0m\n\u001b[1;32m--> 652\u001b[1;33m                 \u001b[0mnewline\u001b[0m\u001b[1;33m=\u001b[0m\u001b[1;34m\"\"\u001b[0m\u001b[1;33m,\u001b[0m\u001b[1;33m\u001b[0m\u001b[1;33m\u001b[0m\u001b[0m\n\u001b[0m\u001b[0;32m    653\u001b[0m             )\n\u001b[0;32m    654\u001b[0m         \u001b[1;32melse\u001b[0m\u001b[1;33m:\u001b[0m\u001b[1;33m\u001b[0m\u001b[1;33m\u001b[0m\u001b[0m\n",
      "\u001b[1;31mFileNotFoundError\u001b[0m: [Errno 2] No such file or directory: 'inputs/base_year/survey/_person.tsv'"
     ]
    }
   ],
   "source": [
    "person = pd.read_csv(r'../../../../outputs/daysim/_person.tsv', delim_whitespace=True)\n",
    "person_survey = pd.read_csv(r'../../../../inputs/base_year/survey/_person.tsv', delim_whitespace=True)\n",
    "\n",
    "person['source'] = 'model'\n",
    "person_survey['source'] = 'survey'"
   ]
  },
  {
   "cell_type": "code",
   "execution_count": null,
   "metadata": {
    "execution": {
     "iopub.execute_input": "2024-04-03T21:14:55.247517Z",
     "iopub.status.busy": "2024-04-03T21:14:55.247517Z",
     "iopub.status.idle": "2024-04-03T21:14:57.329140Z",
     "shell.execute_reply": "2024-04-03T21:14:57.329140Z"
    }
   },
   "outputs": [],
   "source": [
    "person = person.append(person_survey)\n",
    "person = person.merge(parcel_geog, left_on='pwpcl', right_on='ParcelID', how='left')"
   ]
  },
  {
   "cell_type": "code",
   "execution_count": null,
   "metadata": {
    "execution": {
     "iopub.execute_input": "2024-04-03T21:14:57.336121Z",
     "iopub.status.busy": "2024-04-03T21:14:57.335124Z",
     "iopub.status.idle": "2024-04-03T21:14:57.515639Z",
     "shell.execute_reply": "2024-04-03T21:14:57.515639Z"
    }
   },
   "outputs": [],
   "source": [
    "person['wt_pwautime'] = person['pwautime']*person['psexpfac']\n",
    "person['wt_pwaudist'] = person['pwaudist']*person['psexpfac']"
   ]
  },
  {
   "cell_type": "markdown",
   "metadata": {},
   "source": [
    "Average Distance for **All Workers** Not Working at Home (weighted for survey)"
   ]
  },
  {
   "cell_type": "code",
   "execution_count": null,
   "metadata": {
    "execution": {
     "iopub.execute_input": "2024-04-03T21:14:57.517634Z",
     "iopub.status.busy": "2024-04-03T21:14:57.517634Z",
     "iopub.status.idle": "2024-04-03T21:14:59.804791Z",
     "shell.execute_reply": "2024-04-03T21:14:59.803793Z"
    }
   },
   "outputs": [],
   "source": [
    "df = person[(person['pwtaz'] > 0) & (person['pwaudist'] > 0)]\n",
    "df.groupby('source').sum()['wt_pwaudist']/df.groupby('source').sum()['psexpfac']"
   ]
  },
  {
   "cell_type": "markdown",
   "metadata": {},
   "source": [
    "Average Distance by Work County"
   ]
  },
  {
   "cell_type": "code",
   "execution_count": null,
   "metadata": {
    "execution": {
     "iopub.execute_input": "2024-04-03T21:14:59.810774Z",
     "iopub.status.busy": "2024-04-03T21:14:59.809777Z",
     "iopub.status.idle": "2024-04-03T21:15:01.457337Z",
     "shell.execute_reply": "2024-04-03T21:15:01.425419Z"
    }
   },
   "outputs": [],
   "source": [
    "df1 = df.groupby(['CountyName', 'source']).sum()[['wt_pwaudist']]\n",
    "df2 = df.groupby(['CountyName', 'source']).sum()[['psexpfac']]\n",
    "_df = df1.merge(df2, left_index=True, right_index=True)\n",
    "_df = pd.DataFrame(_df['wt_pwaudist']/_df['psexpfac'])\n",
    "_df.pivot_table(index='CountyName', columns='source', values=0, aggfunc='sum')"
   ]
  },
  {
   "cell_type": "markdown",
   "metadata": {},
   "source": [
    "Average for **Full-Time** Workers only"
   ]
  },
  {
   "cell_type": "code",
   "execution_count": null,
   "metadata": {
    "execution": {
     "iopub.execute_input": "2024-04-03T21:15:01.461326Z",
     "iopub.status.busy": "2024-04-03T21:15:01.461326Z",
     "iopub.status.idle": "2024-04-03T21:15:02.857232Z",
     "shell.execute_reply": "2024-04-03T21:15:02.857232Z"
    }
   },
   "outputs": [],
   "source": [
    "df = person[(person['pwtaz'] > 0) & (person['pwaudist'] > 0) & (person['pwtyp'] == 1)]\n",
    "df.groupby('source').sum()['wt_pwaudist']/df.groupby('source').sum()['psexpfac']"
   ]
  },
  {
   "cell_type": "code",
   "execution_count": null,
   "metadata": {
    "execution": {
     "iopub.execute_input": "2024-04-03T21:15:02.857232Z",
     "iopub.status.busy": "2024-04-03T21:15:02.857232Z",
     "iopub.status.idle": "2024-04-03T21:15:04.091694Z",
     "shell.execute_reply": "2024-04-03T21:15:04.091694Z"
    }
   },
   "outputs": [],
   "source": [
    "df1 = df.groupby(['CountyName', 'source']).sum()[['wt_pwaudist']]\n",
    "df2 = df.groupby(['CountyName', 'source']).sum()[['psexpfac']]\n",
    "_df = df1.merge(df2, left_index=True, right_index=True)\n",
    "_df = pd.DataFrame(_df['wt_pwaudist']/_df['psexpfac'])\n",
    "_df.pivot_table(index='CountyName', columns='source', values=0, aggfunc='sum')"
   ]
  },
  {
   "cell_type": "markdown",
   "metadata": {},
   "source": [
    "Average for **Part-Time** Workers Only"
   ]
  },
  {
   "cell_type": "code",
   "execution_count": null,
   "metadata": {
    "execution": {
     "iopub.execute_input": "2024-04-03T21:15:04.091694Z",
     "iopub.status.busy": "2024-04-03T21:15:04.091694Z",
     "iopub.status.idle": "2024-04-03T21:15:05.477925Z",
     "shell.execute_reply": "2024-04-03T21:15:05.476927Z"
    }
   },
   "outputs": [],
   "source": [
    "df = person[(person['pwtaz'] > 0) & (person['pwaudist'] > 0) & (person['pwtyp'] == 1)]\n",
    "df.groupby('source').sum()['wt_pwaudist']/df.groupby('source').sum()['psexpfac']"
   ]
  },
  {
   "cell_type": "code",
   "execution_count": null,
   "metadata": {
    "execution": {
     "iopub.execute_input": "2024-04-03T21:15:05.483909Z",
     "iopub.status.busy": "2024-04-03T21:15:05.483909Z",
     "iopub.status.idle": "2024-04-03T21:15:06.868363Z",
     "shell.execute_reply": "2024-04-03T21:15:06.867365Z"
    }
   },
   "outputs": [],
   "source": [
    "df1 = df.groupby(['CountyName', 'source']).sum()[['wt_pwaudist']]\n",
    "df2 = df.groupby(['CountyName', 'source']).sum()[['psexpfac']]\n",
    "_df = df1.merge(df2, left_index=True, right_index=True)\n",
    "_df = pd.DataFrame(_df['wt_pwaudist']/_df['psexpfac'])\n",
    "_df.pivot_table(index='CountyName', columns='source', values=0, aggfunc='sum')"
   ]
  },
  {
   "cell_type": "markdown",
   "metadata": {},
   "source": [
    "## Trip Length Distribution (miles)\n",
    "Percent of Total, bins of 1 mile up to 60 miles\n",
    "\n",
    "All Workers"
   ]
  },
  {
   "cell_type": "code",
   "execution_count": null,
   "metadata": {
    "execution": {
     "iopub.execute_input": "2024-04-03T21:15:06.873350Z",
     "iopub.status.busy": "2024-04-03T21:15:06.873350Z",
     "iopub.status.idle": "2024-04-03T21:15:08.489725Z",
     "shell.execute_reply": "2024-04-03T21:15:08.488721Z"
    }
   },
   "outputs": [],
   "source": [
    "# Create bins\n",
    "max_bin = 60\n",
    "person['pwaudist_bin'] = pd.cut(person['pwaudist'], bins=range(0,max_bin), labels=[str(i)+'-'+str(i+1) for i in range(0,max_bin-1)])\n",
    "df1 = person[(person['source'] == 'model') & (person['pwaudist'] <= max_bin) & (person['pwaudist'] > 0)]\n",
    "df2 = person[(person['source'] == 'survey') & (person['pwaudist'] <= max_bin) & (person['pwaudist'] > 0)]\n",
    "df1 = df1.groupby('pwaudist_bin').sum()[['psexpfac']]/df1['psexpfac'].sum()\n",
    "df2 = df2.groupby('pwaudist_bin').sum()[['psexpfac']]/df2['psexpfac'].sum()\n",
    "df = df1.merge(df2, left_index=True, right_index=True, suffixes=['_model','_survey'])\n",
    "df.plot()"
   ]
  },
  {
   "cell_type": "markdown",
   "metadata": {},
   "source": [
    "Bins of 5 miles, up to 50 miles"
   ]
  },
  {
   "cell_type": "code",
   "execution_count": null,
   "metadata": {
    "execution": {
     "iopub.execute_input": "2024-04-03T21:15:08.495708Z",
     "iopub.status.busy": "2024-04-03T21:15:08.495708Z",
     "iopub.status.idle": "2024-04-03T21:15:10.122484Z",
     "shell.execute_reply": "2024-04-03T21:15:10.122484Z"
    }
   },
   "outputs": [],
   "source": [
    "# Create bins\n",
    "max_bin = 50\n",
    "person['pwaudist_bin'] = pd.cut(person['pwaudist'], bins=range(0,max_bin,5), labels=[str(i*5)+'-'+str((i+1)*5) for i in range(0,9)])\n",
    "df1 = person[(person['source'] == 'model') & (person['pwaudist'] <= max_bin) & (person['pwaudist'] > 0)]\n",
    "df2 = person[(person['source'] == 'survey') & (person['pwaudist'] <= max_bin) & (person['pwaudist'] > 0)]\n",
    "df1 = df1.groupby('pwaudist_bin').sum()[['psexpfac']]/df1['psexpfac'].sum()\n",
    "df2 = df2.groupby('pwaudist_bin').sum()[['psexpfac']]/df2['psexpfac'].sum()\n",
    "df = df1.merge(df2, left_index=True, right_index=True, suffixes=['_model','_survey'])\n",
    "df.plot(kind='bar')"
   ]
  },
  {
   "cell_type": "markdown",
   "metadata": {},
   "source": [
    "### Percent of Workers with <1 Mile and >20 Mile Commutes"
   ]
  },
  {
   "cell_type": "code",
   "execution_count": null,
   "metadata": {
    "execution": {
     "iopub.execute_input": "2024-04-03T21:15:10.122484Z",
     "iopub.status.busy": "2024-04-03T21:15:10.122484Z",
     "iopub.status.idle": "2024-04-03T21:15:11.460724Z",
     "shell.execute_reply": "2024-04-03T21:15:11.459843Z"
    }
   },
   "outputs": [],
   "source": [
    "pd.options.display.float_format = '{:,.1%}'.format\n",
    "\n",
    "_df_tot = person[person['pwaudist'] > 0].groupby('source').sum()[['psexpfac']].T\n",
    "\n",
    "_df_1 = person[(person['pwaudist'] < 1) & (person['pwaudist'] > 0)].groupby('source').sum()[['psexpfac']].T\n",
    "_df_1 = _df_1/_df_tot\n",
    "_df_1.index = ['< 1 mile']\n",
    "\n",
    "_df_20 = person[(person['pwaudist'] > 20)].groupby('source').sum()[['psexpfac']].T\n",
    "_df_20 = _df_20/_df_tot\n",
    "_df_20.index = ['> 20 miles']\n",
    "\n",
    "_df = _df_1.append(_df_20).reset_index()\n",
    "_df.rename(columns={'index': 'Commute Range'}, inplace=True)\n",
    "_df = _df.rename_axis(None, axis=1)\n",
    "_df"
   ]
  },
  {
   "cell_type": "code",
   "execution_count": null,
   "metadata": {
    "execution": {
     "iopub.execute_input": "2024-04-03T21:15:11.466714Z",
     "iopub.status.busy": "2024-04-03T21:15:11.466714Z",
     "iopub.status.idle": "2024-04-03T21:15:11.585131Z",
     "shell.execute_reply": "2024-04-03T21:15:11.584063Z"
    }
   },
   "outputs": [],
   "source": [
    "_df.set_index('Commute Range').plot(kind='bar',)"
   ]
  },
  {
   "cell_type": "markdown",
   "metadata": {},
   "source": [
    "### Average Commute Distance by Gender"
   ]
  },
  {
   "cell_type": "code",
   "execution_count": null,
   "metadata": {
    "execution": {
     "iopub.execute_input": "2024-04-03T21:15:11.591116Z",
     "iopub.status.busy": "2024-04-03T21:15:11.591116Z",
     "iopub.status.idle": "2024-04-03T21:15:12.562150Z",
     "shell.execute_reply": "2024-04-03T21:15:12.561146Z"
    }
   },
   "outputs": [],
   "source": [
    "pd.options.display.float_format = '{:0,.2f}'.format\n",
    "df = person[(person['pwaudist'] > 0) & (person['pgend'].isin([1,2]))]\n",
    "_df = df.pivot_table(index='pgend', columns='source', aggfunc='sum', values='wt_pwaudist')\n",
    "_df_tot = df.pivot_table(index='pgend', columns='source', aggfunc='sum', values='psexpfac')\n",
    "df = _df/_df_tot\n",
    "df = df.reset_index()\n",
    "df['pgend'] = df['pgend'].map({1: 'Male',2:'Female'})\n",
    "df.rename(columns={'pgend': 'Gender'}, inplace=True)\n",
    "df = df.rename_axis(None, axis=1)\n",
    "df"
   ]
  },
  {
   "cell_type": "code",
   "execution_count": null,
   "metadata": {
    "execution": {
     "iopub.execute_input": "2024-04-03T21:15:12.568200Z",
     "iopub.status.busy": "2024-04-03T21:15:12.568200Z",
     "iopub.status.idle": "2024-04-03T21:15:12.830534Z",
     "shell.execute_reply": "2024-04-03T21:15:12.830534Z"
    }
   },
   "outputs": [],
   "source": [
    "df.set_index('Gender').plot(kind='bar')"
   ]
  },
  {
   "cell_type": "markdown",
   "metadata": {},
   "source": [
    "### Average Commute Distance by Age"
   ]
  },
  {
   "cell_type": "code",
   "execution_count": null,
   "metadata": {
    "execution": {
     "iopub.execute_input": "2024-04-03T21:15:12.833526Z",
     "iopub.status.busy": "2024-04-03T21:15:12.833526Z",
     "iopub.status.idle": "2024-04-03T21:15:13.772021Z",
     "shell.execute_reply": "2024-04-03T21:15:13.772021Z"
    }
   },
   "outputs": [],
   "source": [
    "person['age_cat'] = pd.cut(person['pagey'], bins=[0,30,50,64,100], labels=['<29','30-49','50-65','65+'])\n",
    "df = person[(person['pwaudist'] > 0)]\n",
    "_df = df.pivot_table(index='age_cat', columns='source', aggfunc='sum', values='wt_pwaudist')\n",
    "_df_tot = df.pivot_table(index='age_cat', columns='source', aggfunc='sum', values='psexpfac')\n",
    "df = _df/_df_tot\n",
    "df = df.reset_index()\n",
    "df.rename(columns={'age_cat': 'Age Category'}, inplace=True)\n",
    "df = df.rename_axis(None, axis=1)\n",
    "df"
   ]
  },
  {
   "cell_type": "code",
   "execution_count": null,
   "metadata": {
    "execution": {
     "iopub.execute_input": "2024-04-03T21:15:13.775013Z",
     "iopub.status.busy": "2024-04-03T21:15:13.774015Z",
     "iopub.status.idle": "2024-04-03T21:15:13.883901Z",
     "shell.execute_reply": "2024-04-03T21:15:13.882899Z"
    }
   },
   "outputs": [],
   "source": [
    "df.set_index('Age Category').plot(kind='bar')"
   ]
  },
  {
   "cell_type": "markdown",
   "metadata": {},
   "source": [
    "## County to County Work Flows\n",
    "\n",
    "All Workers\n",
    "\n",
    "Model Results "
   ]
  },
  {
   "cell_type": "code",
   "execution_count": null,
   "metadata": {
    "execution": {
     "iopub.execute_input": "2024-04-03T21:15:13.888201Z",
     "iopub.status.busy": "2024-04-03T21:15:13.888201Z",
     "iopub.status.idle": "2024-04-03T21:15:13.930905Z",
     "shell.execute_reply": "2024-04-03T21:15:13.929837Z"
    }
   },
   "outputs": [],
   "source": [
    "df = load_data(r'work_flows')\n",
    "pd.options.display.float_format = '{:0,.0f}'.format\n",
    "df.rename(columns={'person_county': 'Home County', 'person_work_county':'Work County'}, inplace=True)\n",
    "\n",
    "df_model = pd.pivot_table(df[df['source'] == 'model'], index='Home County', columns='Work County', aggfunc='sum')\n",
    "df_model['Total'] = df_model.sum(axis=1)\n",
    "df_model.loc['Total',:] = df_model.sum(axis=0)\n",
    "df_model"
   ]
  },
  {
   "cell_type": "markdown",
   "metadata": {},
   "source": [
    "Survey Results"
   ]
  },
  {
   "cell_type": "code",
   "execution_count": null,
   "metadata": {
    "execution": {
     "iopub.execute_input": "2024-04-03T21:15:13.936824Z",
     "iopub.status.busy": "2024-04-03T21:15:13.936824Z",
     "iopub.status.idle": "2024-04-03T21:15:13.992766Z",
     "shell.execute_reply": "2024-04-03T21:15:13.991366Z"
    }
   },
   "outputs": [],
   "source": [
    "df_survey = pd.pivot_table(df[df['source'] == 'survey'], index='Home County', columns='Work County', aggfunc='sum')\n",
    "df_survey['Total'] = df_survey.sum(axis=1)\n",
    "df_survey.loc['Total',:] = df_survey.sum(axis=0)\n",
    "df_survey"
   ]
  },
  {
   "cell_type": "markdown",
   "metadata": {},
   "source": [
    "Total Difference (Model - Survey)"
   ]
  },
  {
   "cell_type": "code",
   "execution_count": null,
   "metadata": {
    "execution": {
     "iopub.execute_input": "2024-04-03T21:15:13.998811Z",
     "iopub.status.busy": "2024-04-03T21:15:13.997816Z",
     "iopub.status.idle": "2024-04-03T21:15:14.022751Z",
     "shell.execute_reply": "2024-04-03T21:15:14.021690Z"
    }
   },
   "outputs": [],
   "source": [
    "df_model-df_survey"
   ]
  },
  {
   "cell_type": "markdown",
   "metadata": {},
   "source": [
    "Percent Difference (Relative to Survey)"
   ]
  },
  {
   "cell_type": "code",
   "execution_count": null,
   "metadata": {
    "execution": {
     "iopub.execute_input": "2024-04-03T21:15:14.028733Z",
     "iopub.status.busy": "2024-04-03T21:15:14.028733Z",
     "iopub.status.idle": "2024-04-03T21:15:14.054930Z",
     "shell.execute_reply": "2024-04-03T21:15:14.053668Z"
    }
   },
   "outputs": [],
   "source": [
    "((df_model-df_survey)/df_survey).applymap(format_percent)"
   ]
  },
  {
   "cell_type": "code",
   "execution_count": null,
   "metadata": {},
   "outputs": [],
   "source": []
  }
 ],
 "metadata": {
  "kernelspec": {
   "display_name": "Python 3",
   "language": "python",
   "name": "python3"
  },
  "language_info": {
   "codemirror_mode": {
    "name": "ipython",
    "version": 3
   },
   "file_extension": ".py",
   "mimetype": "text/x-python",
   "name": "python",
   "nbconvert_exporter": "python",
   "pygments_lexer": "ipython3",
   "version": "3.7.10"
  }
 },
 "nbformat": 4,
 "nbformat_minor": 4
}
