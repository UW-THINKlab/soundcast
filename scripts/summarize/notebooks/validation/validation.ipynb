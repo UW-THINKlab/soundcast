{
 "cells": [
  {
   "cell_type": "code",
   "execution_count": 1,
   "metadata": {
    "execution": {
     "iopub.execute_input": "2024-04-03T21:14:16.554086Z",
     "iopub.status.busy": "2024-04-03T21:14:16.554086Z",
     "iopub.status.idle": "2024-04-03T21:14:17.965900Z",
     "shell.execute_reply": "2024-04-03T21:14:17.965900Z"
    }
   },
   "outputs": [],
   "source": [
    "import os, sys, time\n",
    "from scipy import stats\n",
    "import warnings\n",
    "warnings.simplefilter(action='ignore', category=FutureWarning)\n",
    "import pandas as pd\n",
    "import numpy as np\n",
    "%matplotlib inline\n",
    "\n",
    "from IPython.display import display, HTML\n",
    "\n",
    "if (sys.version_info < (3, 0)):\n",
    "    HTML('''<script>\n",
    "    code_show=true; \n",
    "    function code_toggle() {\n",
    "     if (code_show){\n",
    "     $('div.input').hide();\n",
    "     } else {\n",
    "     $('div.input').show();\n",
    "     }\n",
    "     code_show = !code_show\n",
    "    } \n",
    "    $( document ).ready(code_toggle);\n",
    "    </script>\n",
    "    <form action=\"javascript:code_toggle()\"><input type=\"submit\" value=\"Click here to toggle on/off the raw code.\"></form>''')\n"
   ]
  },
  {
   "cell_type": "code",
   "execution_count": 2,
   "metadata": {
    "execution": {
     "iopub.execute_input": "2024-04-03T21:14:17.965900Z",
     "iopub.status.busy": "2024-04-03T21:14:17.965900Z",
     "iopub.status.idle": "2024-04-03T21:14:17.981522Z",
     "shell.execute_reply": "2024-04-03T21:14:17.981522Z"
    },
    "scrolled": true
   },
   "outputs": [
    {
     "name": "stdout",
     "output_type": "stream",
     "text": [
      "Summary run: Tue, 06 Aug 2024 06:45\n"
     ]
    }
   ],
   "source": [
    "# Create timestamp to show when this summary was run\n",
    "print('Summary run: ' + time.strftime(\"%a, %d %b %Y %H:%M\"))"
   ]
  },
  {
   "cell_type": "code",
   "execution_count": 3,
   "metadata": {
    "execution": {
     "iopub.execute_input": "2024-04-03T21:14:17.981522Z",
     "iopub.status.busy": "2024-04-03T21:14:17.981522Z",
     "iopub.status.idle": "2024-04-03T21:14:17.997144Z",
     "shell.execute_reply": "2024-04-03T21:14:17.997144Z"
    }
   },
   "outputs": [],
   "source": [
    "relative_path = '../../../../outputs'\n",
    "pd.options.display.float_format = '{:0,.0f}'.format\n",
    "format_percent = \"{:,.2%}\".format"
   ]
  },
  {
   "cell_type": "markdown",
   "metadata": {},
   "source": [
    "# Traffic Counts\n",
    "----\n",
    "### Daily | By Facility Type"
   ]
  },
  {
   "cell_type": "code",
   "execution_count": 4,
   "metadata": {
    "execution": {
     "iopub.execute_input": "2024-04-03T21:14:17.997144Z",
     "iopub.status.busy": "2024-04-03T21:14:17.997144Z",
     "iopub.status.idle": "2024-04-03T21:14:18.044121Z",
     "shell.execute_reply": "2024-04-03T21:14:18.044121Z"
    }
   },
   "outputs": [],
   "source": [
    "df = pd.read_csv(os.path.join(relative_path,'validation','daily_volume.csv'))\n",
    "df[['modeled','observed']] = df[['modeled','observed']].astype('float')"
   ]
  },
  {
   "cell_type": "code",
   "execution_count": 5,
   "metadata": {
    "execution": {
     "iopub.execute_input": "2024-04-03T21:14:18.044121Z",
     "iopub.status.busy": "2024-04-03T21:14:18.044121Z",
     "iopub.status.idle": "2024-04-03T21:14:18.122118Z",
     "shell.execute_reply": "2024-04-03T21:14:18.122118Z"
    }
   },
   "outputs": [
    {
     "data": {
      "text/html": [
       "<div>\n",
       "<style scoped>\n",
       "    .dataframe tbody tr th:only-of-type {\n",
       "        vertical-align: middle;\n",
       "    }\n",
       "\n",
       "    .dataframe tbody tr th {\n",
       "        vertical-align: top;\n",
       "    }\n",
       "\n",
       "    .dataframe thead th {\n",
       "        text-align: right;\n",
       "    }\n",
       "</style>\n",
       "<table border=\"1\" class=\"dataframe\">\n",
       "  <thead>\n",
       "    <tr style=\"text-align: right;\">\n",
       "      <th></th>\n",
       "      <th>observed</th>\n",
       "      <th>modeled</th>\n",
       "      <th>diff</th>\n",
       "      <th>percent_diff</th>\n",
       "    </tr>\n",
       "    <tr>\n",
       "      <th>@facilitytype</th>\n",
       "      <th></th>\n",
       "      <th></th>\n",
       "      <th></th>\n",
       "      <th></th>\n",
       "    </tr>\n",
       "  </thead>\n",
       "  <tbody>\n",
       "    <tr>\n",
       "      <th>Arterial</th>\n",
       "      <td>660,970</td>\n",
       "      <td>598,724</td>\n",
       "      <td>-62,246</td>\n",
       "      <td>-9.42%</td>\n",
       "    </tr>\n",
       "    <tr>\n",
       "      <th>Freeway</th>\n",
       "      <td>27,348,202</td>\n",
       "      <td>37,503,765</td>\n",
       "      <td>10,155,563</td>\n",
       "      <td>37.13%</td>\n",
       "    </tr>\n",
       "    <tr>\n",
       "      <th>HOV</th>\n",
       "      <td>182,166</td>\n",
       "      <td>298,553</td>\n",
       "      <td>116,387</td>\n",
       "      <td>63.89%</td>\n",
       "    </tr>\n",
       "    <tr>\n",
       "      <th>Ramp</th>\n",
       "      <td>202,076</td>\n",
       "      <td>69,098</td>\n",
       "      <td>-132,978</td>\n",
       "      <td>-65.81%</td>\n",
       "    </tr>\n",
       "    <tr>\n",
       "      <th>Total</th>\n",
       "      <td>28,393,414</td>\n",
       "      <td>38,470,140</td>\n",
       "      <td>10,076,726</td>\n",
       "      <td>35.49%</td>\n",
       "    </tr>\n",
       "  </tbody>\n",
       "</table>\n",
       "</div>"
      ],
      "text/plain": [
       "                observed    modeled       diff percent_diff\n",
       "@facilitytype                                              \n",
       "Arterial         660,970    598,724    -62,246       -9.42%\n",
       "Freeway       27,348,202 37,503,765 10,155,563       37.13%\n",
       "HOV              182,166    298,553    116,387       63.89%\n",
       "Ramp             202,076     69,098   -132,978      -65.81%\n",
       "Total         28,393,414 38,470,140 10,076,726       35.49%"
      ]
     },
     "execution_count": 5,
     "metadata": {},
     "output_type": "execute_result"
    }
   ],
   "source": [
    "_df = df.groupby('@facilitytype').sum()[['observed','modeled']]\n",
    "_df.loc['Total',:] = _df.sum().values\n",
    "_df['diff'] = _df['modeled']-_df['observed']\n",
    "_df['percent_diff'] = _df['diff']/_df['observed']\n",
    "_df[['percent_diff']] = _df[['percent_diff']].applymap(format_percent)\n",
    "_df"
   ]
  },
  {
   "cell_type": "markdown",
   "metadata": {},
   "source": [
    "----\n",
    "### Daily | By County"
   ]
  },
  {
   "cell_type": "code",
   "execution_count": 6,
   "metadata": {
    "execution": {
     "iopub.execute_input": "2024-04-03T21:14:18.122118Z",
     "iopub.status.busy": "2024-04-03T21:14:18.122118Z",
     "iopub.status.idle": "2024-04-03T21:14:18.168982Z",
     "shell.execute_reply": "2024-04-03T21:14:18.168982Z"
    }
   },
   "outputs": [
    {
     "data": {
      "text/html": [
       "<div>\n",
       "<style scoped>\n",
       "    .dataframe tbody tr th:only-of-type {\n",
       "        vertical-align: middle;\n",
       "    }\n",
       "\n",
       "    .dataframe tbody tr th {\n",
       "        vertical-align: top;\n",
       "    }\n",
       "\n",
       "    .dataframe thead th {\n",
       "        text-align: right;\n",
       "    }\n",
       "</style>\n",
       "<table border=\"1\" class=\"dataframe\">\n",
       "  <thead>\n",
       "    <tr style=\"text-align: right;\">\n",
       "      <th></th>\n",
       "      <th>observed</th>\n",
       "      <th>modeled</th>\n",
       "      <th>diff</th>\n",
       "      <th>percent_diff</th>\n",
       "    </tr>\n",
       "    <tr>\n",
       "      <th>county</th>\n",
       "      <th></th>\n",
       "      <th></th>\n",
       "      <th></th>\n",
       "      <th></th>\n",
       "    </tr>\n",
       "  </thead>\n",
       "  <tbody>\n",
       "    <tr>\n",
       "      <th>King</th>\n",
       "      <td>16,879,845</td>\n",
       "      <td>20,141,900</td>\n",
       "      <td>3,262,055</td>\n",
       "      <td>19.33%</td>\n",
       "    </tr>\n",
       "    <tr>\n",
       "      <th>Kitsap</th>\n",
       "      <td>2,205,567</td>\n",
       "      <td>6,982,222</td>\n",
       "      <td>4,776,655</td>\n",
       "      <td>216.57%</td>\n",
       "    </tr>\n",
       "    <tr>\n",
       "      <th>Pierce</th>\n",
       "      <td>5,552,519</td>\n",
       "      <td>5,314,775</td>\n",
       "      <td>-237,744</td>\n",
       "      <td>-4.28%</td>\n",
       "    </tr>\n",
       "    <tr>\n",
       "      <th>Snohomish</th>\n",
       "      <td>3,755,483</td>\n",
       "      <td>6,031,243</td>\n",
       "      <td>2,275,760</td>\n",
       "      <td>60.60%</td>\n",
       "    </tr>\n",
       "    <tr>\n",
       "      <th>Total</th>\n",
       "      <td>28,393,414</td>\n",
       "      <td>38,470,140</td>\n",
       "      <td>10,076,726</td>\n",
       "      <td>35.49%</td>\n",
       "    </tr>\n",
       "  </tbody>\n",
       "</table>\n",
       "</div>"
      ],
      "text/plain": [
       "            observed    modeled       diff percent_diff\n",
       "county                                                 \n",
       "King      16,879,845 20,141,900  3,262,055       19.33%\n",
       "Kitsap     2,205,567  6,982,222  4,776,655      216.57%\n",
       "Pierce     5,552,519  5,314,775   -237,744       -4.28%\n",
       "Snohomish  3,755,483  6,031,243  2,275,760       60.60%\n",
       "Total     28,393,414 38,470,140 10,076,726       35.49%"
      ]
     },
     "execution_count": 6,
     "metadata": {},
     "output_type": "execute_result"
    }
   ],
   "source": [
    "df = pd.read_csv(os.path.join(relative_path,'validation','daily_volume_county_facility.csv'))\n",
    "df[['modeled','observed']] = df[['modeled','observed']].astype('float')\n",
    "\n",
    "_df = df.groupby('county').sum()[['observed','modeled']]\n",
    "_df.loc['Total',:] = _df.sum().values\n",
    "_df['diff'] = _df['modeled']-_df['observed']\n",
    "_df['percent_diff'] = _df['diff']/_df['observed']\n",
    "_df[['percent_diff']] = _df[['percent_diff']].applymap(format_percent)\n",
    "_df"
   ]
  },
  {
   "cell_type": "markdown",
   "metadata": {},
   "source": [
    "----\n",
    "### Daily | Scatterplots "
   ]
  },
  {
   "cell_type": "code",
   "execution_count": 7,
   "metadata": {
    "execution": {
     "iopub.execute_input": "2024-04-03T21:14:18.168982Z",
     "iopub.status.busy": "2024-04-03T21:14:18.168982Z",
     "iopub.status.idle": "2024-04-03T21:14:18.372060Z",
     "shell.execute_reply": "2024-04-03T21:14:18.372060Z"
    }
   },
   "outputs": [
    {
     "data": {
      "text/plain": [
       "[<matplotlib.lines.Line2D at 0x20a4149af88>]"
      ]
     },
     "execution_count": 7,
     "metadata": {},
     "output_type": "execute_result"
    },
    {
     "data": {
      "image/png": "[encoded data removed]",
      "text/plain": [
       "<Figure size 432x288 with 1 Axes>"
      ]
     },
     "metadata": {
      "needs_background": "light"
     },
     "output_type": "display_data"
    }
   ],
   "source": [
    "df = pd.read_csv(os.path.join(relative_path,'validation','daily_volume.csv'))\n",
    "ax = df.plot(kind='scatter', x='observed', y='modeled')\n",
    "lim = df[['observed','modeled']].max().max()*1.05\n",
    "ax.set_ylim(0,lim)\n",
    "ax.set_xlim(0,lim)\n",
    "x = np.linspace(*ax.get_xlim())\n",
    "ax.plot(x, x)"
   ]
  },
  {
   "cell_type": "code",
   "execution_count": 8,
   "metadata": {
    "execution": {
     "iopub.execute_input": "2024-04-03T21:14:18.372060Z",
     "iopub.status.busy": "2024-04-03T21:14:18.372060Z",
     "iopub.status.idle": "2024-04-03T21:14:18.403299Z",
     "shell.execute_reply": "2024-04-03T21:14:18.403299Z"
    }
   },
   "outputs": [
    {
     "name": "stdout",
     "output_type": "stream",
     "text": [
      "r^2: 0.33949559183817335\n"
     ]
    }
   ],
   "source": [
    "slope, intercept, r_value, p_value, std_err = stats.linregress(df['observed'],df['modeled'])\n",
    "print('r^2: ' + str(r_value))"
   ]
  },
  {
   "cell_type": "markdown",
   "metadata": {},
   "source": [
    "---\n",
    "By County"
   ]
  },
  {
   "cell_type": "code",
   "execution_count": 9,
   "metadata": {
    "execution": {
     "iopub.execute_input": "2024-04-03T21:14:18.403299Z",
     "iopub.status.busy": "2024-04-03T21:14:18.403299Z",
     "iopub.status.idle": "2024-04-03T21:14:18.950052Z",
     "shell.execute_reply": "2024-04-03T21:14:18.950052Z"
    }
   },
   "outputs": [
    {
     "name": "stdout",
     "output_type": "stream",
     "text": [
      "King r^2: 0.42798737334893977\n",
      "Kitsap r^2: 0.18490770376105034\n",
      "Pierce r^2: 0.6151920983518296\n",
      "Snohomish r^2: 0.7151636083152395"
     ]
    },
    {
     "name": "stdout",
     "output_type": "stream",
     "text": [
      "\n"
     ]
    },
    {
     "data": {
      "image/png": "[encoded data removed]",
      "text/plain": [
       "<Figure size 432x288 with 1 Axes>"
      ]
     },
     "metadata": {
      "needs_background": "light"
     },
     "output_type": "display_data"
    },
    {
     "data": {
      "image/png": "[encoded data removed]",
      "text/plain": [
       "<Figure size 432x288 with 1 Axes>"
      ]
     },
     "metadata": {
      "needs_background": "light"
     },
     "output_type": "display_data"
    },
    {
     "data": {
      "image/png": "[encoded data removed]",
      "text/plain": [
       "<Figure size 432x288 with 1 Axes>"
      ]
     },
     "metadata": {
      "needs_background": "light"
     },
     "output_type": "display_data"
    },
    {
     "data": {
      "image/png": "[encoded data removed]",
      "text/plain": [
       "<Figure size 432x288 with 1 Axes>"
      ]
     },
     "metadata": {
      "needs_background": "light"
     },
     "output_type": "display_data"
    }
   ],
   "source": [
    "for county in np.unique(df['county']):\n",
    "    _df = df[df['county'] == county]\n",
    "    ax = _df.plot(kind='scatter', x='observed', y='modeled', label=county)\n",
    "    lim = _df[['observed','modeled']].max().max()*1.05\n",
    "    ax.set_ylim(0,lim)\n",
    "    ax.set_xlim(0,lim)\n",
    "    slope, intercept, r_value, p_value, std_err = stats.linregress(_df['observed'],_df['modeled'])\n",
    "    x = np.linspace(*ax.get_xlim())\n",
    "    ax.plot(x, x)\n",
    "    print(str(county) + ' r^2: ' + str(r_value))"
   ]
  },
  {
   "cell_type": "markdown",
   "metadata": {},
   "source": [
    "---\n",
    "By Facility Type"
   ]
  },
  {
   "cell_type": "code",
   "execution_count": 10,
   "metadata": {
    "execution": {
     "iopub.execute_input": "2024-04-03T21:14:18.950052Z",
     "iopub.status.busy": "2024-04-03T21:14:18.950052Z",
     "iopub.status.idle": "2024-04-03T21:14:19.309345Z",
     "shell.execute_reply": "2024-04-03T21:14:19.309345Z"
    }
   },
   "outputs": [
    {
     "name": "stdout",
     "output_type": "stream",
     "text": [
      "r^2 Freeway: 0.3212935955438904\n"
     ]
    },
    {
     "data": {
      "image/png": "[encoded data removed]",
      "text/plain": [
       "<Figure size 432x288 with 1 Axes>"
      ]
     },
     "metadata": {
      "needs_background": "light"
     },
     "output_type": "display_data"
    }
   ],
   "source": [
    "for factype in ['Freeway']:\n",
    "    _df = df[df['@facilitytype'] == factype]\n",
    "    ax = _df.plot(kind='scatter', x='observed', y='modeled', label=factype)\n",
    "    lim = _df[['observed','modeled']].max().max()*1.05\n",
    "    ax.set_ylim(0,lim)\n",
    "    ax.set_xlim(0,lim)\n",
    "    x = np.linspace(*ax.get_xlim())\n",
    "    ax.plot(x, x)\n",
    "    slope, intercept, r_value, p_value, std_err = stats.linregress(_df['observed'],_df['modeled'])\n",
    "    print('r^2 ' + str(factype) + ': ' + str(r_value))"
   ]
  },
  {
   "cell_type": "markdown",
   "metadata": {},
   "source": [
    "**Hourly Volumes**\n"
   ]
  },
  {
   "cell_type": "code",
   "execution_count": 11,
   "metadata": {
    "execution": {
     "iopub.execute_input": "2024-04-03T21:14:19.309345Z",
     "iopub.status.busy": "2024-04-03T21:14:19.309345Z",
     "iopub.status.idle": "2024-04-03T21:14:19.465557Z",
     "shell.execute_reply": "2024-04-03T21:14:19.465557Z"
    }
   },
   "outputs": [
    {
     "name": "stdout",
     "output_type": "stream",
     "text": [
      "r^2: 0.679722153607113\n"
     ]
    },
    {
     "data": {
      "image/png": "[encoded data removed]",
      "text/plain": [
       "<Figure size 432x288 with 1 Axes>"
      ]
     },
     "metadata": {
      "needs_background": "light"
     },
     "output_type": "display_data"
    }
   ],
   "source": [
    "df = pd.read_csv(os.path.join(relative_path,'validation','hourly_volume.csv'))\n",
    "ax = df.plot(kind='scatter', x='observed', y='modeled')\n",
    "lim = df[['observed','modeled']].max().max()*1.05\n",
    "ax.set_ylim(0,lim)\n",
    "ax.set_xlim(0,lim)\n",
    "x = np.linspace(*ax.get_xlim())\n",
    "ax.plot(x, x)\n",
    "slope, intercept, r_value, p_value, std_err = stats.linregress(df['observed'],df['modeled'])\n",
    "print('r^2: ' + str(r_value))"
   ]
  },
  {
   "cell_type": "markdown",
   "metadata": {},
   "source": [
    "# Screenlines"
   ]
  },
  {
   "cell_type": "code",
   "execution_count": 12,
   "metadata": {
    "execution": {
     "iopub.execute_input": "2024-04-03T21:14:19.465557Z",
     "iopub.status.busy": "2024-04-03T21:14:19.465557Z",
     "iopub.status.idle": "2024-04-03T21:14:19.496799Z",
     "shell.execute_reply": "2024-04-03T21:14:19.496799Z"
    }
   },
   "outputs": [
    {
     "data": {
      "text/html": [
       "<div>\n",
       "<style scoped>\n",
       "    .dataframe tbody tr th:only-of-type {\n",
       "        vertical-align: middle;\n",
       "    }\n",
       "\n",
       "    .dataframe tbody tr th {\n",
       "        vertical-align: top;\n",
       "    }\n",
       "\n",
       "    .dataframe thead th {\n",
       "        text-align: right;\n",
       "    }\n",
       "</style>\n",
       "<table border=\"1\" class=\"dataframe\">\n",
       "  <thead>\n",
       "    <tr style=\"text-align: right;\">\n",
       "      <th></th>\n",
       "      <th>name</th>\n",
       "      <th>observed</th>\n",
       "      <th>modeled</th>\n",
       "      <th>county</th>\n",
       "      <th>diff</th>\n",
       "      <th>percent_diff</th>\n",
       "    </tr>\n",
       "  </thead>\n",
       "  <tbody>\n",
       "    <tr>\n",
       "      <th>0</th>\n",
       "      <td>AUBURN - SOUTH KING</td>\n",
       "      <td>582,116</td>\n",
       "      <td>528,395</td>\n",
       "      <td>King</td>\n",
       "      <td>-53,721</td>\n",
       "      <td>-9.23%</td>\n",
       "    </tr>\n",
       "    <tr>\n",
       "      <th>1</th>\n",
       "      <td>KENT</td>\n",
       "      <td>552,442</td>\n",
       "      <td>501,309</td>\n",
       "      <td>King</td>\n",
       "      <td>-51,133</td>\n",
       "      <td>-9.26%</td>\n",
       "    </tr>\n",
       "    <tr>\n",
       "      <th>2</th>\n",
       "      <td>SEATTLE - SOUTH OF CBD</td>\n",
       "      <td>473,322</td>\n",
       "      <td>499,833</td>\n",
       "      <td>King</td>\n",
       "      <td>26,511</td>\n",
       "      <td>5.60%</td>\n",
       "    </tr>\n",
       "    <tr>\n",
       "      <th>3</th>\n",
       "      <td>SHIP CANAL</td>\n",
       "      <td>434,069</td>\n",
       "      <td>527,297</td>\n",
       "      <td>King</td>\n",
       "      <td>93,228</td>\n",
       "      <td>21.48%</td>\n",
       "    </tr>\n",
       "    <tr>\n",
       "      <th>4</th>\n",
       "      <td>SOUTH BELLEVUE</td>\n",
       "      <td>389,700</td>\n",
       "      <td>372,010</td>\n",
       "      <td>King</td>\n",
       "      <td>-17,690</td>\n",
       "      <td>-4.54%</td>\n",
       "    </tr>\n",
       "    <tr>\n",
       "      <th>5</th>\n",
       "      <td>MILL CREEK</td>\n",
       "      <td>387,047</td>\n",
       "      <td>375,003</td>\n",
       "      <td>King</td>\n",
       "      <td>-12,044</td>\n",
       "      <td>-3.11%</td>\n",
       "    </tr>\n",
       "    <tr>\n",
       "      <th>6</th>\n",
       "      <td>KIRKLAND-REDMOND</td>\n",
       "      <td>381,663</td>\n",
       "      <td>397,398</td>\n",
       "      <td>King</td>\n",
       "      <td>15,735</td>\n",
       "      <td>4.12%</td>\n",
       "    </tr>\n",
       "    <tr>\n",
       "      <th>7</th>\n",
       "      <td>SEATTLE - NORTH</td>\n",
       "      <td>341,251</td>\n",
       "      <td>376,337</td>\n",
       "      <td>King</td>\n",
       "      <td>35,086</td>\n",
       "      <td>10.28%</td>\n",
       "    </tr>\n",
       "    <tr>\n",
       "      <th>8</th>\n",
       "      <td>TACOMA - EAST OF CBD</td>\n",
       "      <td>300,463</td>\n",
       "      <td>349,329</td>\n",
       "      <td>Pierce</td>\n",
       "      <td>48,866</td>\n",
       "      <td>16.26%</td>\n",
       "    </tr>\n",
       "    <tr>\n",
       "      <th>9</th>\n",
       "      <td>PARKLAND</td>\n",
       "      <td>297,722</td>\n",
       "      <td>271,134</td>\n",
       "      <td>Pierce</td>\n",
       "      <td>-26,588</td>\n",
       "      <td>-8.93%</td>\n",
       "    </tr>\n",
       "    <tr>\n",
       "      <th>10</th>\n",
       "      <td>BOTHELL</td>\n",
       "      <td>290,973</td>\n",
       "      <td>316,071</td>\n",
       "      <td>King</td>\n",
       "      <td>25,098</td>\n",
       "      <td>8.63%</td>\n",
       "    </tr>\n",
       "    <tr>\n",
       "      <th>11</th>\n",
       "      <td>LYNNWOOD-BOTHELL</td>\n",
       "      <td>259,099</td>\n",
       "      <td>291,700</td>\n",
       "      <td>King</td>\n",
       "      <td>32,601</td>\n",
       "      <td>12.58%</td>\n",
       "    </tr>\n",
       "    <tr>\n",
       "      <th>12</th>\n",
       "      <td>TUKWILA</td>\n",
       "      <td>257,776</td>\n",
       "      <td>235,341</td>\n",
       "      <td>King</td>\n",
       "      <td>-22,435</td>\n",
       "      <td>-8.70%</td>\n",
       "    </tr>\n",
       "    <tr>\n",
       "      <th>13</th>\n",
       "      <td>TRANSLAKE</td>\n",
       "      <td>220,934</td>\n",
       "      <td>254,234</td>\n",
       "      <td>King</td>\n",
       "      <td>33,300</td>\n",
       "      <td>15.07%</td>\n",
       "    </tr>\n",
       "    <tr>\n",
       "      <th>14</th>\n",
       "      <td>PUYALLUP</td>\n",
       "      <td>124,400</td>\n",
       "      <td>121,005</td>\n",
       "      <td>Pierce</td>\n",
       "      <td>-3,395</td>\n",
       "      <td>-2.73%</td>\n",
       "    </tr>\n",
       "    <tr>\n",
       "      <th>15</th>\n",
       "      <td>WOODINVILLE</td>\n",
       "      <td>116,355</td>\n",
       "      <td>141,470</td>\n",
       "      <td>King</td>\n",
       "      <td>25,115</td>\n",
       "      <td>21.59%</td>\n",
       "    </tr>\n",
       "    <tr>\n",
       "      <th>16</th>\n",
       "      <td>NORTH KITSAP</td>\n",
       "      <td>103,890</td>\n",
       "      <td>77,508</td>\n",
       "      <td>Kitsap</td>\n",
       "      <td>-26,382</td>\n",
       "      <td>-25.39%</td>\n",
       "    </tr>\n",
       "    <tr>\n",
       "      <th>17</th>\n",
       "      <td>TACOMA NARROWS</td>\n",
       "      <td>87,000</td>\n",
       "      <td>133,031</td>\n",
       "      <td>Pierce</td>\n",
       "      <td>46,031</td>\n",
       "      <td>52.91%</td>\n",
       "    </tr>\n",
       "    <tr>\n",
       "      <th>18</th>\n",
       "      <td>PRESTON-ISSAQUAH</td>\n",
       "      <td>86,462</td>\n",
       "      <td>86,416</td>\n",
       "      <td>King</td>\n",
       "      <td>-46</td>\n",
       "      <td>-0.05%</td>\n",
       "    </tr>\n",
       "    <tr>\n",
       "      <th>19</th>\n",
       "      <td>GIG HARBOR</td>\n",
       "      <td>76,975</td>\n",
       "      <td>92,583</td>\n",
       "      <td>Pierce</td>\n",
       "      <td>15,608</td>\n",
       "      <td>20.28%</td>\n",
       "    </tr>\n",
       "    <tr>\n",
       "      <th>20</th>\n",
       "      <td>SEATAC</td>\n",
       "      <td>71,402</td>\n",
       "      <td>89,638</td>\n",
       "      <td>King</td>\n",
       "      <td>18,236</td>\n",
       "      <td>25.54%</td>\n",
       "    </tr>\n",
       "    <tr>\n",
       "      <th>21</th>\n",
       "      <td>MAPLE VALLEY</td>\n",
       "      <td>70,813</td>\n",
       "      <td>61,512</td>\n",
       "      <td>King</td>\n",
       "      <td>-9,301</td>\n",
       "      <td>-13.13%</td>\n",
       "    </tr>\n",
       "    <tr>\n",
       "      <th>22</th>\n",
       "      <td>RENTON</td>\n",
       "      <td>67,127</td>\n",
       "      <td>69,127</td>\n",
       "      <td>King</td>\n",
       "      <td>2,000</td>\n",
       "      <td>2.98%</td>\n",
       "    </tr>\n",
       "    <tr>\n",
       "      <th>23</th>\n",
       "      <td>AGATE PASS BRIDGE</td>\n",
       "      <td>22,000</td>\n",
       "      <td>21,385</td>\n",
       "      <td>Kitsap</td>\n",
       "      <td>-615</td>\n",
       "      <td>-2.79%</td>\n",
       "    </tr>\n",
       "    <tr>\n",
       "      <th>24</th>\n",
       "      <td>CROSS SOUND</td>\n",
       "      <td>14,565</td>\n",
       "      <td>18,943</td>\n",
       "      <td>Kitsap</td>\n",
       "      <td>4,378</td>\n",
       "      <td>30.06%</td>\n",
       "    </tr>\n",
       "    <tr>\n",
       "      <th>25</th>\n",
       "      <td>TOTAL</td>\n",
       "      <td>6,009,566</td>\n",
       "      <td>6,208,008</td>\n",
       "      <td>NaN</td>\n",
       "      <td>198,442</td>\n",
       "      <td>3.30%</td>\n",
       "    </tr>\n",
       "  </tbody>\n",
       "</table>\n",
       "</div>"
      ],
      "text/plain": [
       "                      name  observed   modeled  county    diff percent_diff\n",
       "0      AUBURN - SOUTH KING   582,116   528,395    King -53,721       -9.23%\n",
       "1                     KENT   552,442   501,309    King -51,133       -9.26%\n",
       "2   SEATTLE - SOUTH OF CBD   473,322   499,833    King  26,511        5.60%\n",
       "3               SHIP CANAL   434,069   527,297    King  93,228       21.48%\n",
       "4           SOUTH BELLEVUE   389,700   372,010    King -17,690       -4.54%\n",
       "5               MILL CREEK   387,047   375,003    King -12,044       -3.11%\n",
       "6         KIRKLAND-REDMOND   381,663   397,398    King  15,735        4.12%\n",
       "7          SEATTLE - NORTH   341,251   376,337    King  35,086       10.28%\n",
       "8     TACOMA - EAST OF CBD   300,463   349,329  Pierce  48,866       16.26%\n",
       "9                 PARKLAND   297,722   271,134  Pierce -26,588       -8.93%\n",
       "10                 BOTHELL   290,973   316,071    King  25,098        8.63%\n",
       "11        LYNNWOOD-BOTHELL   259,099   291,700    King  32,601       12.58%\n",
       "12                 TUKWILA   257,776   235,341    King -22,435       -8.70%\n",
       "13               TRANSLAKE   220,934   254,234    King  33,300       15.07%\n",
       "14                PUYALLUP   124,400   121,005  Pierce  -3,395       -2.73%\n",
       "15             WOODINVILLE   116,355   141,470    King  25,115       21.59%\n",
       "16            NORTH KITSAP   103,890    77,508  Kitsap -26,382      -25.39%\n",
       "17          TACOMA NARROWS    87,000   133,031  Pierce  46,031       52.91%\n",
       "18        PRESTON-ISSAQUAH    86,462    86,416    King     -46       -0.05%\n",
       "19              GIG HARBOR    76,975    92,583  Pierce  15,608       20.28%\n",
       "20                  SEATAC    71,402    89,638    King  18,236       25.54%\n",
       "21            MAPLE VALLEY    70,813    61,512    King  -9,301      -13.13%\n",
       "22                  RENTON    67,127    69,127    King   2,000        2.98%\n",
       "23       AGATE PASS BRIDGE    22,000    21,385  Kitsap    -615       -2.79%\n",
       "24             CROSS SOUND    14,565    18,943  Kitsap   4,378       30.06%\n",
       "25                   TOTAL 6,009,566 6,208,008     NaN 198,442        3.30%"
      ]
     },
     "execution_count": 12,
     "metadata": {},
     "output_type": "execute_result"
    }
   ],
   "source": [
    "df = pd.read_csv(os.path.join(relative_path,'validation','screenlines.csv'))\n",
    "df = df.append(df.sum(numeric_only=True), ignore_index=True)\n",
    "df.at[df.index[-1], 'name'] = 'TOTAL'\n",
    "#df.at['C', 'name'] = 10\n",
    "df['percent_diff'] = df['diff']/df['observed']\n",
    "df[['percent_diff']] = df[['percent_diff']].applymap(format_percent)\n",
    "df"
   ]
  },
  {
   "cell_type": "code",
   "execution_count": 13,
   "metadata": {
    "execution": {
     "iopub.execute_input": "2024-04-03T21:14:19.496799Z",
     "iopub.status.busy": "2024-04-03T21:14:19.496799Z",
     "iopub.status.idle": "2024-04-03T21:14:19.606152Z",
     "shell.execute_reply": "2024-04-03T21:14:19.606152Z"
    }
   },
   "outputs": [
    {
     "name": "stdout",
     "output_type": "stream",
     "text": [
      "r^2 : 0.9814047995259482\n"
     ]
    },
    {
     "data": {
      "image/png": "[encoded data removed]",
      "text/plain": [
       "<Figure size 432x288 with 1 Axes>"
      ]
     },
     "metadata": {
      "needs_background": "light"
     },
     "output_type": "display_data"
    }
   ],
   "source": [
    "df = df.head(-1)\n",
    "ax = df.plot(kind='scatter', x='observed', y='modeled')\n",
    "lim = df[['observed','modeled']].max().max()*1.05\n",
    "ax.set_ylim(0,lim)\n",
    "ax.set_xlim(0,lim)\n",
    "x = np.linspace(*ax.get_xlim())\n",
    "ax.plot(x, x)\n",
    "slope, intercept, r_value, p_value, std_err = stats.linregress(df['observed'],df['modeled'])\n",
    "print('r^2 : ' + str(r_value))"
   ]
  },
  {
   "cell_type": "markdown",
   "metadata": {},
   "source": [
    "# Transit Boarding\n",
    "----\n",
    "### By Agency"
   ]
  },
  {
   "cell_type": "code",
   "execution_count": 14,
   "metadata": {
    "execution": {
     "iopub.execute_input": "2024-04-03T21:14:19.606152Z",
     "iopub.status.busy": "2024-04-03T21:14:19.606152Z",
     "iopub.status.idle": "2024-04-03T21:14:19.637395Z",
     "shell.execute_reply": "2024-04-03T21:14:19.637395Z"
    }
   },
   "outputs": [
    {
     "data": {
      "text/html": [
       "<div>\n",
       "<style scoped>\n",
       "    .dataframe tbody tr th:only-of-type {\n",
       "        vertical-align: middle;\n",
       "    }\n",
       "\n",
       "    .dataframe tbody tr th {\n",
       "        vertical-align: top;\n",
       "    }\n",
       "\n",
       "    .dataframe thead th {\n",
       "        text-align: right;\n",
       "    }\n",
       "</style>\n",
       "<table border=\"1\" class=\"dataframe\">\n",
       "  <thead>\n",
       "    <tr style=\"text-align: right;\">\n",
       "      <th></th>\n",
       "      <th>agency</th>\n",
       "      <th>observed_boardings</th>\n",
       "      <th>model_boardings</th>\n",
       "      <th>diff</th>\n",
       "      <th>perc_diff</th>\n",
       "    </tr>\n",
       "  </thead>\n",
       "  <tbody>\n",
       "    <tr>\n",
       "      <th>2</th>\n",
       "      <td>King County Metro</td>\n",
       "      <td>253,314</td>\n",
       "      <td>288,751</td>\n",
       "      <td>35,437</td>\n",
       "      <td>13.99%</td>\n",
       "    </tr>\n",
       "    <tr>\n",
       "      <th>5</th>\n",
       "      <td>Sound Transit</td>\n",
       "      <td>113,374</td>\n",
       "      <td>126,234</td>\n",
       "      <td>12,860</td>\n",
       "      <td>11.34%</td>\n",
       "    </tr>\n",
       "    <tr>\n",
       "      <th>0</th>\n",
       "      <td>Community Transit</td>\n",
       "      <td>25,962</td>\n",
       "      <td>20,876</td>\n",
       "      <td>-5,086</td>\n",
       "      <td>-19.59%</td>\n",
       "    </tr>\n",
       "    <tr>\n",
       "      <th>4</th>\n",
       "      <td>Pierce Transit</td>\n",
       "      <td>21,185</td>\n",
       "      <td>16,690</td>\n",
       "      <td>-4,495</td>\n",
       "      <td>-21.22%</td>\n",
       "    </tr>\n",
       "    <tr>\n",
       "      <th>6</th>\n",
       "      <td>Washington Ferries</td>\n",
       "      <td>9,278</td>\n",
       "      <td>8,406</td>\n",
       "      <td>-872</td>\n",
       "      <td>-9.40%</td>\n",
       "    </tr>\n",
       "    <tr>\n",
       "      <th>3</th>\n",
       "      <td>Kitsap Transit</td>\n",
       "      <td>7,789</td>\n",
       "      <td>33,140</td>\n",
       "      <td>25,351</td>\n",
       "      <td>325.47%</td>\n",
       "    </tr>\n",
       "    <tr>\n",
       "      <th>1</th>\n",
       "      <td>Everett Transit</td>\n",
       "      <td>4,201</td>\n",
       "      <td>2,453</td>\n",
       "      <td>-1,748</td>\n",
       "      <td>-41.61%</td>\n",
       "    </tr>\n",
       "  </tbody>\n",
       "</table>\n",
       "</div>"
      ],
      "text/plain": [
       "               agency  observed_boardings  model_boardings   diff perc_diff\n",
       "2   King County Metro             253,314          288,751 35,437    13.99%\n",
       "5       Sound Transit             113,374          126,234 12,860    11.34%\n",
       "0   Community Transit              25,962           20,876 -5,086   -19.59%\n",
       "4      Pierce Transit              21,185           16,690 -4,495   -21.22%\n",
       "6  Washington Ferries               9,278            8,406   -872    -9.40%\n",
       "3      Kitsap Transit               7,789           33,140 25,351   325.47%\n",
       "1     Everett Transit               4,201            2,453 -1,748   -41.61%"
      ]
     },
     "execution_count": 14,
     "metadata": {},
     "output_type": "execute_result"
    }
   ],
   "source": [
    "df = pd.read_csv(os.path.join(relative_path,'validation/') + 'daily_boardings_by_agency.csv')\n",
    "\n",
    "df[['observed_boardings','model_boardings','diff']] = df[['observed_boardings','model_boardings','diff']].astype('float')\n",
    "df[['perc_diff']] = df[['perc_diff']].applymap(format_percent)\n",
    "df.sort_values('observed_boardings', ascending=False)"
   ]
  },
  {
   "cell_type": "markdown",
   "metadata": {},
   "source": [
    "----\n",
    "### Key Routes\n",
    "#### Ferries"
   ]
  },
  {
   "cell_type": "code",
   "execution_count": 15,
   "metadata": {
    "execution": {
     "iopub.execute_input": "2024-04-03T21:14:19.637395Z",
     "iopub.status.busy": "2024-04-03T21:14:19.637395Z",
     "iopub.status.idle": "2024-04-03T21:14:19.746742Z",
     "shell.execute_reply": "2024-04-03T21:14:19.746742Z"
    }
   },
   "outputs": [
    {
     "data": {
      "text/html": [
       "<div>\n",
       "<style scoped>\n",
       "    .dataframe tbody tr th:only-of-type {\n",
       "        vertical-align: middle;\n",
       "    }\n",
       "\n",
       "    .dataframe tbody tr th {\n",
       "        vertical-align: top;\n",
       "    }\n",
       "\n",
       "    .dataframe thead th {\n",
       "        text-align: right;\n",
       "    }\n",
       "</style>\n",
       "<table border=\"1\" class=\"dataframe\">\n",
       "  <thead>\n",
       "    <tr style=\"text-align: right;\">\n",
       "      <th></th>\n",
       "      <th>description</th>\n",
       "      <th>observed_boardings</th>\n",
       "      <th>model_boardings</th>\n",
       "      <th>diff</th>\n",
       "      <th>perc_diff</th>\n",
       "    </tr>\n",
       "  </thead>\n",
       "  <tbody>\n",
       "    <tr>\n",
       "      <th>0</th>\n",
       "      <td>973 W Sea Water Taxi</td>\n",
       "      <td>759</td>\n",
       "      <td>903</td>\n",
       "      <td>144</td>\n",
       "      <td>18.92%</td>\n",
       "    </tr>\n",
       "    <tr>\n",
       "      <th>1</th>\n",
       "      <td>975 Vashn Water Taxi</td>\n",
       "      <td>338</td>\n",
       "      <td>817</td>\n",
       "      <td>479</td>\n",
       "      <td>141.84%</td>\n",
       "    </tr>\n",
       "    <tr>\n",
       "      <th>2</th>\n",
       "      <td>WSF Edmonds-Kingston</td>\n",
       "      <td>1,500</td>\n",
       "      <td>229</td>\n",
       "      <td>-1,271</td>\n",
       "      <td>-84.74%</td>\n",
       "    </tr>\n",
       "    <tr>\n",
       "      <th>3</th>\n",
       "      <td>WSF Seattle-Bain Isl</td>\n",
       "      <td>5,514</td>\n",
       "      <td>5,655</td>\n",
       "      <td>142</td>\n",
       "      <td>2.57%</td>\n",
       "    </tr>\n",
       "    <tr>\n",
       "      <th>4</th>\n",
       "      <td>WSF Seattle-Brem</td>\n",
       "      <td>1,189</td>\n",
       "      <td>344</td>\n",
       "      <td>-845</td>\n",
       "      <td>-71.04%</td>\n",
       "    </tr>\n",
       "    <tr>\n",
       "      <th>5</th>\n",
       "      <td>WSF Fauntleroy-Swrth</td>\n",
       "      <td>143</td>\n",
       "      <td>520</td>\n",
       "      <td>377</td>\n",
       "      <td>264.73%</td>\n",
       "    </tr>\n",
       "    <tr>\n",
       "      <th>6</th>\n",
       "      <td>WSF Fauntleroy-Vashn</td>\n",
       "      <td>560</td>\n",
       "      <td>1,422</td>\n",
       "      <td>862</td>\n",
       "      <td>153.99%</td>\n",
       "    </tr>\n",
       "    <tr>\n",
       "      <th>7</th>\n",
       "      <td>WSF Vashon-Southwrth</td>\n",
       "      <td>108</td>\n",
       "      <td>95</td>\n",
       "      <td>-12</td>\n",
       "      <td>-11.54%</td>\n",
       "    </tr>\n",
       "    <tr>\n",
       "      <th>8</th>\n",
       "      <td>WSF Pt Def-Tahlequah</td>\n",
       "      <td>265</td>\n",
       "      <td>140</td>\n",
       "      <td>-125</td>\n",
       "      <td>-47.13%</td>\n",
       "    </tr>\n",
       "  </tbody>\n",
       "</table>\n",
       "</div>"
      ],
      "text/plain": [
       "            description  observed_boardings  model_boardings   diff perc_diff\n",
       "0  973 W Sea Water Taxi                 759              903    144    18.92%\n",
       "1  975 Vashn Water Taxi                 338              817    479   141.84%\n",
       "2  WSF Edmonds-Kingston               1,500              229 -1,271   -84.74%\n",
       "3  WSF Seattle-Bain Isl               5,514            5,655    142     2.57%\n",
       "4      WSF Seattle-Brem               1,189              344   -845   -71.04%\n",
       "5  WSF Fauntleroy-Swrth                 143              520    377   264.73%\n",
       "6  WSF Fauntleroy-Vashn                 560            1,422    862   153.99%\n",
       "7  WSF Vashon-Southwrth                 108               95    -12   -11.54%\n",
       "8  WSF Pt Def-Tahlequah                 265              140   -125   -47.13%"
      ]
     },
     "execution_count": 15,
     "metadata": {},
     "output_type": "execute_result"
    }
   ],
   "source": [
    "df = pd.read_csv(os.path.join(relative_path,'validation/') + 'daily_boardings_key_routes.csv', index_col='description')\n",
    "df[['observed_boardings','model_boardings']] = df[['observed_boardings','model_boardings']].astype('float')\n",
    "_df = df[df['route_code'].isin([5001,5002,5003,5004,5005,5006,5007,1973,1975])].reset_index()\n",
    "_df.drop(['route_code','agency'], axis=1, inplace=True)\n",
    "_df[['perc_diff']] = _df[['perc_diff']].applymap(format_percent)\n",
    "_df"
   ]
  },
  {
   "cell_type": "code",
   "execution_count": 16,
   "metadata": {
    "execution": {
     "iopub.execute_input": "2024-04-03T21:14:19.746742Z",
     "iopub.status.busy": "2024-04-03T21:14:19.746742Z",
     "iopub.status.idle": "2024-04-03T21:14:19.762365Z",
     "shell.execute_reply": "2024-04-03T21:14:19.762365Z"
    }
   },
   "outputs": [
    {
     "name": "stdout",
     "output_type": "stream",
     "text": [
      "r^2 : 0.9272190340207095\n"
     ]
    },
    {
     "data": {
      "image/png": "[encoded data removed]",
      "text/plain": [
       "<Figure size 432x288 with 1 Axes>"
      ]
     },
     "metadata": {
      "needs_background": "light"
     },
     "output_type": "display_data"
    }
   ],
   "source": [
    "if len(_df) > 0:\n",
    "    ax = _df.plot(kind='scatter', x='observed_boardings', y='model_boardings')\n",
    "    lim = _df[['observed_boardings','model_boardings']].max().max()*1.05\n",
    "    ax.set_ylim(0,lim)\n",
    "    ax.set_xlim(0,lim)\n",
    "    x = np.linspace(*ax.get_xlim())\n",
    "    ax.plot(x, x)\n",
    "    slope, intercept, r_value, p_value, std_err = stats.linregress(_df['observed_boardings'],_df['model_boardings'])\n",
    "    print('r^2 ' + str('') + ': ' + str(r_value))"
   ]
  },
  {
   "cell_type": "markdown",
   "metadata": {},
   "source": [
    "#### Bikes on Ferries"
   ]
  },
  {
   "cell_type": "code",
   "execution_count": 17,
   "metadata": {
    "execution": {
     "iopub.execute_input": "2024-04-03T21:14:19.762365Z",
     "iopub.status.busy": "2024-04-03T21:14:19.762365Z",
     "iopub.status.idle": "2024-04-03T21:14:19.777985Z",
     "shell.execute_reply": "2024-04-03T21:14:19.777985Z"
    }
   },
   "outputs": [
    {
     "data": {
      "text/html": [
       "<div>\n",
       "<style scoped>\n",
       "    .dataframe tbody tr th:only-of-type {\n",
       "        vertical-align: middle;\n",
       "    }\n",
       "\n",
       "    .dataframe tbody tr th {\n",
       "        vertical-align: top;\n",
       "    }\n",
       "\n",
       "    .dataframe thead th {\n",
       "        text-align: right;\n",
       "    }\n",
       "</style>\n",
       "<table border=\"1\" class=\"dataframe\">\n",
       "  <thead>\n",
       "    <tr style=\"text-align: right;\">\n",
       "      <th></th>\n",
       "      <th>route_code</th>\n",
       "      <th>description</th>\n",
       "      <th>@bvol</th>\n",
       "    </tr>\n",
       "  </thead>\n",
       "  <tbody>\n",
       "    <tr>\n",
       "      <th>4</th>\n",
       "      <td>4203</td>\n",
       "      <td>Seattle-Kingston FF</td>\n",
       "      <td>723</td>\n",
       "    </tr>\n",
       "    <tr>\n",
       "      <th>2</th>\n",
       "      <td>4200</td>\n",
       "      <td>Seattle-Bremerton FF</td>\n",
       "      <td>420</td>\n",
       "    </tr>\n",
       "    <tr>\n",
       "      <th>3</th>\n",
       "      <td>4201</td>\n",
       "      <td>Brem-Pt Orchard FF</td>\n",
       "      <td>412</td>\n",
       "    </tr>\n",
       "    <tr>\n",
       "      <th>0</th>\n",
       "      <td>1973</td>\n",
       "      <td>973 W Sea Water Taxi</td>\n",
       "      <td>279</td>\n",
       "    </tr>\n",
       "    <tr>\n",
       "      <th>1</th>\n",
       "      <td>1975</td>\n",
       "      <td>975 Vashn Water Taxi</td>\n",
       "      <td>147</td>\n",
       "    </tr>\n",
       "    <tr>\n",
       "      <th>7</th>\n",
       "      <td>5002</td>\n",
       "      <td>WSF Seattle-Bain Isl</td>\n",
       "      <td>102</td>\n",
       "    </tr>\n",
       "    <tr>\n",
       "      <th>11</th>\n",
       "      <td>5007</td>\n",
       "      <td>WSF Pt Def-Tahlequah</td>\n",
       "      <td>65</td>\n",
       "    </tr>\n",
       "    <tr>\n",
       "      <th>10</th>\n",
       "      <td>5005</td>\n",
       "      <td>WSF Fauntleroy-Vashn</td>\n",
       "      <td>61</td>\n",
       "    </tr>\n",
       "    <tr>\n",
       "      <th>9</th>\n",
       "      <td>5004</td>\n",
       "      <td>WSF Fauntleroy-Swrth</td>\n",
       "      <td>32</td>\n",
       "    </tr>\n",
       "    <tr>\n",
       "      <th>8</th>\n",
       "      <td>5003</td>\n",
       "      <td>WSF Seattle-Brem</td>\n",
       "      <td>20</td>\n",
       "    </tr>\n",
       "    <tr>\n",
       "      <th>6</th>\n",
       "      <td>5001</td>\n",
       "      <td>WSF Edmonds-Kingston</td>\n",
       "      <td>19</td>\n",
       "    </tr>\n",
       "    <tr>\n",
       "      <th>5</th>\n",
       "      <td>4204</td>\n",
       "      <td>Seattle-Southwrth FF</td>\n",
       "      <td>12</td>\n",
       "    </tr>\n",
       "  </tbody>\n",
       "</table>\n",
       "</div>"
      ],
      "text/plain": [
       "    route_code           description  @bvol\n",
       "4         4203   Seattle-Kingston FF    723\n",
       "2         4200  Seattle-Bremerton FF    420\n",
       "3         4201    Brem-Pt Orchard FF    412\n",
       "0         1973  973 W Sea Water Taxi    279\n",
       "1         1975  975 Vashn Water Taxi    147\n",
       "7         5002  WSF Seattle-Bain Isl    102\n",
       "11        5007  WSF Pt Def-Tahlequah     65\n",
       "10        5005  WSF Fauntleroy-Vashn     61\n",
       "9         5004  WSF Fauntleroy-Swrth     32\n",
       "8         5003      WSF Seattle-Brem     20\n",
       "6         5001  WSF Edmonds-Kingston     19\n",
       "5         4204  Seattle-Southwrth FF     12"
      ]
     },
     "execution_count": 17,
     "metadata": {},
     "output_type": "execute_result"
    }
   ],
   "source": [
    "df = pd.read_csv(os.path.join(relative_path,'validation/') + 'bike_ferry_boardings.csv')\n",
    "df['route_code'] = df['route_code'].astype('int')\n",
    "df[['route_code','description', '@bvol']].sort_values('@bvol', ascending=False)"
   ]
  },
  {
   "cell_type": "markdown",
   "metadata": {},
   "source": [
    "#### Rail"
   ]
  },
  {
   "cell_type": "code",
   "execution_count": 18,
   "metadata": {
    "execution": {
     "iopub.execute_input": "2024-04-03T21:14:19.777985Z",
     "iopub.status.busy": "2024-04-03T21:14:19.777985Z",
     "iopub.status.idle": "2024-04-03T21:14:19.809118Z",
     "shell.execute_reply": "2024-04-03T21:14:19.809118Z"
    }
   },
   "outputs": [
    {
     "data": {
      "text/html": [
       "<div>\n",
       "<style scoped>\n",
       "    .dataframe tbody tr th:only-of-type {\n",
       "        vertical-align: middle;\n",
       "    }\n",
       "\n",
       "    .dataframe tbody tr th {\n",
       "        vertical-align: top;\n",
       "    }\n",
       "\n",
       "    .dataframe thead th {\n",
       "        text-align: right;\n",
       "    }\n",
       "</style>\n",
       "<table border=\"1\" class=\"dataframe\">\n",
       "  <thead>\n",
       "    <tr style=\"text-align: right;\">\n",
       "      <th></th>\n",
       "      <th>description</th>\n",
       "      <th>observed_boardings</th>\n",
       "      <th>model_boardings</th>\n",
       "      <th>diff</th>\n",
       "      <th>perc_diff</th>\n",
       "    </tr>\n",
       "  </thead>\n",
       "  <tbody>\n",
       "    <tr>\n",
       "      <th>0</th>\n",
       "      <td>Link Red Line</td>\n",
       "      <td>79,522</td>\n",
       "      <td>61,174</td>\n",
       "      <td>-18,348</td>\n",
       "      <td>-23.07%</td>\n",
       "    </tr>\n",
       "    <tr>\n",
       "      <th>1</th>\n",
       "      <td>Sounder South</td>\n",
       "      <td>6,038</td>\n",
       "      <td>9,410</td>\n",
       "      <td>3,372</td>\n",
       "      <td>55.85%</td>\n",
       "    </tr>\n",
       "    <tr>\n",
       "      <th>2</th>\n",
       "      <td>Sounder North</td>\n",
       "      <td>316</td>\n",
       "      <td>14</td>\n",
       "      <td>-302</td>\n",
       "      <td>-95.61%</td>\n",
       "    </tr>\n",
       "  </tbody>\n",
       "</table>\n",
       "</div>"
      ],
      "text/plain": [
       "     description  observed_boardings  model_boardings    diff perc_diff\n",
       "0  Link Red Line              79,522           61,174 -18,348   -23.07%\n",
       "1  Sounder South               6,038            9,410   3,372    55.85%\n",
       "2  Sounder North                 316               14    -302   -95.61%"
      ]
     },
     "execution_count": 18,
     "metadata": {},
     "output_type": "execute_result"
    }
   ],
   "source": [
    "df = pd.read_csv(os.path.join(relative_path,'validation/') + 'daily_boardings_key_routes.csv', index_col='description')\n",
    "df[['observed_boardings','model_boardings']] = df[['observed_boardings','model_boardings']].astype('float')\n",
    "_df = df[df['route_code'].isin([6996,6999,6998])].reset_index()\n",
    "_df['description'] = _df['route_code'].map({6998: 'Sounder South', 6999: 'Sounder North',6996: 'Link Red Line'})\n",
    "_df.drop(['route_code','agency'], axis=1, inplace=True)\n",
    "_df[['perc_diff']] = _df[['perc_diff']].applymap(format_percent)\n",
    "\n",
    "_df"
   ]
  },
  {
   "cell_type": "code",
   "execution_count": 19,
   "metadata": {
    "execution": {
     "iopub.execute_input": "2024-04-03T21:14:19.811112Z",
     "iopub.status.busy": "2024-04-03T21:14:19.811112Z",
     "iopub.status.idle": "2024-04-03T21:14:19.825075Z",
     "shell.execute_reply": "2024-04-03T21:14:19.825075Z"
    }
   },
   "outputs": [
    {
     "name": "stdout",
     "output_type": "stream",
     "text": [
      "r^2 : 0.9969341653297217\n"
     ]
    },
    {
     "data": {
      "image/png": "[encoded data removed]",
      "text/plain": [
       "<Figure size 432x288 with 1 Axes>"
      ]
     },
     "metadata": {
      "needs_background": "light"
     },
     "output_type": "display_data"
    }
   ],
   "source": [
    "if len(_df) > 0: \n",
    "    ax = _df.plot(kind='scatter', x='observed_boardings', y='model_boardings')\n",
    "    lim = _df[['observed_boardings','model_boardings']].max().max()*1.05\n",
    "    ax.set_ylim(0,lim)\n",
    "    ax.set_xlim(0,lim)\n",
    "    x = np.linspace(*ax.get_xlim())\n",
    "    ax.plot(x, x)\n",
    "    slope, intercept, r_value, p_value, std_err = stats.linregress(_df['observed_boardings'],_df['model_boardings'])\n",
    "    print('r^2 ' + str('') + ': ' + str(r_value))"
   ]
  },
  {
   "cell_type": "markdown",
   "metadata": {},
   "source": [
    "#### RapidRide, Busiest Buses, Streetcar"
   ]
  },
  {
   "cell_type": "code",
   "execution_count": 20,
   "metadata": {
    "execution": {
     "iopub.execute_input": "2024-04-03T21:14:19.827183Z",
     "iopub.status.busy": "2024-04-03T21:14:19.827183Z",
     "iopub.status.idle": "2024-04-03T21:14:19.840147Z",
     "shell.execute_reply": "2024-04-03T21:14:19.840147Z"
    }
   },
   "outputs": [
    {
     "data": {
      "text/html": [
       "<div>\n",
       "<style scoped>\n",
       "    .dataframe tbody tr th:only-of-type {\n",
       "        vertical-align: middle;\n",
       "    }\n",
       "\n",
       "    .dataframe tbody tr th {\n",
       "        vertical-align: top;\n",
       "    }\n",
       "\n",
       "    .dataframe thead th {\n",
       "        text-align: right;\n",
       "    }\n",
       "</style>\n",
       "<table border=\"1\" class=\"dataframe\">\n",
       "  <thead>\n",
       "    <tr style=\"text-align: right;\">\n",
       "      <th></th>\n",
       "      <th>description</th>\n",
       "      <th>observed_boardings</th>\n",
       "      <th>model_boardings</th>\n",
       "      <th>diff</th>\n",
       "      <th>perc_diff</th>\n",
       "    </tr>\n",
       "  </thead>\n",
       "  <tbody>\n",
       "    <tr>\n",
       "      <th>6</th>\n",
       "      <td>E Line RapidRide</td>\n",
       "      <td>11,426</td>\n",
       "      <td>17,198</td>\n",
       "      <td>5,772</td>\n",
       "      <td>50.52%</td>\n",
       "    </tr>\n",
       "    <tr>\n",
       "      <th>4</th>\n",
       "      <td>C Line RapidRide</td>\n",
       "      <td>7,250</td>\n",
       "      <td>13,259</td>\n",
       "      <td>6,009</td>\n",
       "      <td>82.89%</td>\n",
       "    </tr>\n",
       "    <tr>\n",
       "      <th>1</th>\n",
       "      <td>KC Metro 40</td>\n",
       "      <td>7,208</td>\n",
       "      <td>10,608</td>\n",
       "      <td>3,400</td>\n",
       "      <td>47.17%</td>\n",
       "    </tr>\n",
       "    <tr>\n",
       "      <th>10</th>\n",
       "      <td>Sound Transit 550</td>\n",
       "      <td>3,351</td>\n",
       "      <td>9,494</td>\n",
       "      <td>6,143</td>\n",
       "      <td>183.32%</td>\n",
       "    </tr>\n",
       "    <tr>\n",
       "      <th>0</th>\n",
       "      <td>KC Metro 7</td>\n",
       "      <td>9,954</td>\n",
       "      <td>9,166</td>\n",
       "      <td>-788</td>\n",
       "      <td>-7.92%</td>\n",
       "    </tr>\n",
       "    <tr>\n",
       "      <th>5</th>\n",
       "      <td>D Line RapidRide</td>\n",
       "      <td>9,044</td>\n",
       "      <td>8,101</td>\n",
       "      <td>-943</td>\n",
       "      <td>-10.42%</td>\n",
       "    </tr>\n",
       "    <tr>\n",
       "      <th>2</th>\n",
       "      <td>A Line RapidRide</td>\n",
       "      <td>8,412</td>\n",
       "      <td>6,342</td>\n",
       "      <td>-2,070</td>\n",
       "      <td>-24.61%</td>\n",
       "    </tr>\n",
       "    <tr>\n",
       "      <th>7</th>\n",
       "      <td>F Line RapidRide</td>\n",
       "      <td>4,748</td>\n",
       "      <td>4,899</td>\n",
       "      <td>151</td>\n",
       "      <td>3.18%</td>\n",
       "    </tr>\n",
       "    <tr>\n",
       "      <th>3</th>\n",
       "      <td>B Line RapidRide</td>\n",
       "      <td>4,177</td>\n",
       "      <td>3,659</td>\n",
       "      <td>-518</td>\n",
       "      <td>-12.40%</td>\n",
       "    </tr>\n",
       "    <tr>\n",
       "      <th>9</th>\n",
       "      <td>First Hill Streetcar</td>\n",
       "      <td>3,900</td>\n",
       "      <td>937</td>\n",
       "      <td>-2,964</td>\n",
       "      <td>-75.98%</td>\n",
       "    </tr>\n",
       "    <tr>\n",
       "      <th>8</th>\n",
       "      <td>SLU Streetcar</td>\n",
       "      <td>1,050</td>\n",
       "      <td>775</td>\n",
       "      <td>-276</td>\n",
       "      <td>-26.24%</td>\n",
       "    </tr>\n",
       "  </tbody>\n",
       "</table>\n",
       "</div>"
      ],
      "text/plain": [
       "             description  observed_boardings  model_boardings   diff perc_diff\n",
       "6       E Line RapidRide              11,426           17,198  5,772    50.52%\n",
       "4       C Line RapidRide               7,250           13,259  6,009    82.89%\n",
       "1            KC Metro 40               7,208           10,608  3,400    47.17%\n",
       "10     Sound Transit 550               3,351            9,494  6,143   183.32%\n",
       "0             KC Metro 7               9,954            9,166   -788    -7.92%\n",
       "5       D Line RapidRide               9,044            8,101   -943   -10.42%\n",
       "2       A Line RapidRide               8,412            6,342 -2,070   -24.61%\n",
       "7       F Line RapidRide               4,748            4,899    151     3.18%\n",
       "3       B Line RapidRide               4,177            3,659   -518   -12.40%\n",
       "9   First Hill Streetcar               3,900              937 -2,964   -75.98%\n",
       "8          SLU Streetcar               1,050              775   -276   -26.24%"
      ]
     },
     "execution_count": 20,
     "metadata": {},
     "output_type": "execute_result"
    }
   ],
   "source": [
    "_df = df[df['route_code'].isin([1671,1672,1673,1674,1675,1676,6550,1007,1040,1997,1998])].reset_index()\n",
    "_df['description'] = _df['route_code'].map({1671: 'A Line RapidRide', 1672: 'B Line RapidRide',\n",
    "                                            1673: 'C Line RapidRide', 1674: 'D Line RapidRide',\n",
    "                                            1675: 'E Line RapidRide', 1676: 'F Line RapidRide',\n",
    "                                            6550: 'Sound Transit 550', 1040: 'KC Metro 40', 1007: 'KC Metro 7',\n",
    "                                            1997: 'SLU Streetcar', 1998: 'First Hill Streetcar'})\n",
    "_df.drop(['route_code','agency'], axis=1, inplace=True)\n",
    "_df[['perc_diff']] = _df[['perc_diff']].applymap(format_percent)\n",
    "_df.sort_values('model_boardings', ascending=False)"
   ]
  },
  {
   "cell_type": "code",
   "execution_count": 21,
   "metadata": {
    "execution": {
     "iopub.execute_input": "2024-04-03T21:14:19.842142Z",
     "iopub.status.busy": "2024-04-03T21:14:19.842142Z",
     "iopub.status.idle": "2024-04-03T21:14:19.855107Z",
     "shell.execute_reply": "2024-04-03T21:14:19.855107Z"
    }
   },
   "outputs": [
    {
     "name": "stdout",
     "output_type": "stream",
     "text": [
      "r^2 : 0.7465927724256375\n"
     ]
    },
    {
     "data": {
      "image/png": "[encoded data removed]",
      "text/plain": [
       "<Figure size 432x288 with 1 Axes>"
      ]
     },
     "metadata": {
      "needs_background": "light"
     },
     "output_type": "display_data"
    }
   ],
   "source": [
    "if len(_df) > 0: \n",
    "    ax = _df.plot(kind='scatter', x='observed_boardings', y='model_boardings')\n",
    "    lim = _df[['observed_boardings','model_boardings']].max().max()*1.05\n",
    "    ax.set_ylim(0,lim)\n",
    "    ax.set_xlim(0,lim)\n",
    "    x = np.linspace(*ax.get_xlim())\n",
    "    ax.plot(x, x)\n",
    "    slope, intercept, r_value, p_value, std_err = stats.linregress(_df['observed_boardings'],_df['model_boardings'])\n",
    "    print('r^2 ' + str('') + ': ' + str(r_value))"
   ]
  },
  {
   "cell_type": "markdown",
   "metadata": {},
   "source": [
    "---\n",
    "### Lines by Agency"
   ]
  },
  {
   "cell_type": "code",
   "execution_count": 22,
   "metadata": {
    "execution": {
     "iopub.execute_input": "2024-04-03T21:14:19.857102Z",
     "iopub.status.busy": "2024-04-03T21:14:19.857102Z",
     "iopub.status.idle": "2024-04-03T21:14:19.871567Z",
     "shell.execute_reply": "2024-04-03T21:14:19.870566Z"
    }
   },
   "outputs": [
    {
     "name": "stdout",
     "output_type": "stream",
     "text": [
      "r^2 Community Transit: 0.9328766813709843\n",
      "r^2 Everett Transit: 0.9401297517175147\n",
      "r^2 King County Metro: 0.8979341428674674\n",
      "r^2 Kitsap Transit: 0.8590986465565857\n",
      "r^2 Pierce Transit: 0.7554269977214172\n",
      "r^2 Sound Transit: 0.985534493849471\n"
     ]
    },
    {
     "name": "stdout",
     "output_type": "stream",
     "text": [
      "r^2 Washington Ferries: 0.9335451439314667\n"
     ]
    },
    {
     "data": {
      "image/png": "[encoded data removed]",
      "text/plain": [
       "<Figure size 432x288 with 1 Axes>"
      ]
     },
     "metadata": {
      "needs_background": "light"
     },
     "output_type": "display_data"
    },
    {
     "data": {
      "image/png": "[encoded data removed]",
      "text/plain": [
       "<Figure size 432x288 with 1 Axes>"
      ]
     },
     "metadata": {
      "needs_background": "light"
     },
     "output_type": "display_data"
    },
    {
     "data": {
      "image/png": "[encoded data removed]",
      "text/plain": [
       "<Figure size 432x288 with 1 Axes>"
      ]
     },
     "metadata": {
      "needs_background": "light"
     },
     "output_type": "display_data"
    },
    {
     "data": {
      "image/png": "[encoded data removed]",
      "text/plain": [
       "<Figure size 432x288 with 1 Axes>"
      ]
     },
     "metadata": {
      "needs_background": "light"
     },
     "output_type": "display_data"
    },
    {
     "data": {
      "image/png": "[encoded data removed]",
      "text/plain": [
       "<Figure size 432x288 with 1 Axes>"
      ]
     },
     "metadata": {
      "needs_background": "light"
     },
     "output_type": "display_data"
    },
    {
     "data": {
      "image/png": "[encoded data removed]",
      "text/plain": [
       "<Figure size 432x288 with 1 Axes>"
      ]
     },
     "metadata": {
      "needs_background": "light"
     },
     "output_type": "display_data"
    },
    {
     "data": {
      "image/png": "[encoded data removed]",
      "text/plain": [
       "<Figure size 432x288 with 1 Axes>"
      ]
     },
     "metadata": {
      "needs_background": "light"
     },
     "output_type": "display_data"
    }
   ],
   "source": [
    "df = pd.read_csv(os.path.join(relative_path,'validation/') + 'daily_boardings_by_line.csv', index_col='agency')\n",
    "df = df[-df['agency_id'].isnull()]\n",
    "\n",
    "for agency in np.unique(df.index):\n",
    "    _df = df.loc[agency,:]\n",
    "    if (type(_df) == pd.core.frame.DataFrame) & (len(df) > 0):\n",
    "        ax = _df.plot(kind='scatter', x='observed_boardings', y='model_boardings', label=agency)\n",
    "        lim = _df[['observed_boardings','model_boardings']].max().max()*1.05\n",
    "        ax.set_ylim(0,lim)\n",
    "        ax.set_xlim(0,lim)\n",
    "        x = np.linspace(*ax.get_xlim())\n",
    "        ax.plot(x, x)\n",
    "        slope, intercept, r_value, p_value, std_err = stats.linregress(_df['observed_boardings'],_df['model_boardings'])\n",
    "        print('r^2 ' + str(agency) + ': ' + str(r_value))"
   ]
  },
  {
   "cell_type": "markdown",
   "metadata": {},
   "source": [
    "# Light Rail Station Boardings\n",
    "----\n",
    "Red Line"
   ]
  },
  {
   "cell_type": "code",
   "execution_count": 23,
   "metadata": {
    "execution": {
     "iopub.execute_input": "2024-04-03T21:14:19.875557Z",
     "iopub.status.busy": "2024-04-03T21:14:19.874559Z",
     "iopub.status.idle": "2024-04-03T21:14:19.903106Z",
     "shell.execute_reply": "2024-04-03T21:14:19.902103Z"
    }
   },
   "outputs": [
    {
     "data": {
      "text/html": [
       "<div>\n",
       "<style scoped>\n",
       "    .dataframe tbody tr th:only-of-type {\n",
       "        vertical-align: middle;\n",
       "    }\n",
       "\n",
       "    .dataframe tbody tr th {\n",
       "        vertical-align: top;\n",
       "    }\n",
       "\n",
       "    .dataframe thead th {\n",
       "        text-align: right;\n",
       "    }\n",
       "</style>\n",
       "<table border=\"1\" class=\"dataframe\">\n",
       "  <thead>\n",
       "    <tr style=\"text-align: right;\">\n",
       "      <th></th>\n",
       "      <th>observed_boardings</th>\n",
       "      <th>model_boardings</th>\n",
       "      <th>diff</th>\n",
       "      <th>percent_diff</th>\n",
       "    </tr>\n",
       "    <tr>\n",
       "      <th>station_name</th>\n",
       "      <th></th>\n",
       "      <th></th>\n",
       "      <th></th>\n",
       "      <th></th>\n",
       "    </tr>\n",
       "  </thead>\n",
       "  <tbody>\n",
       "    <tr>\n",
       "      <th>Husky Stadium</th>\n",
       "      <td>6,134</td>\n",
       "      <td>3,747</td>\n",
       "      <td>-2,387</td>\n",
       "      <td>-38.92%</td>\n",
       "    </tr>\n",
       "    <tr>\n",
       "      <th>Westlake</th>\n",
       "      <td>8,845</td>\n",
       "      <td>7,353</td>\n",
       "      <td>-1,492</td>\n",
       "      <td>-16.86%</td>\n",
       "    </tr>\n",
       "    <tr>\n",
       "      <th>University St</th>\n",
       "      <td>4,324</td>\n",
       "      <td>4,828</td>\n",
       "      <td>504</td>\n",
       "      <td>11.65%</td>\n",
       "    </tr>\n",
       "    <tr>\n",
       "      <th>Pioneer Square</th>\n",
       "      <td>2,400</td>\n",
       "      <td>4,262</td>\n",
       "      <td>1,862</td>\n",
       "      <td>77.59%</td>\n",
       "    </tr>\n",
       "    <tr>\n",
       "      <th>Int'l District</th>\n",
       "      <td>4,399</td>\n",
       "      <td>1,459</td>\n",
       "      <td>-2,940</td>\n",
       "      <td>-66.82%</td>\n",
       "    </tr>\n",
       "    <tr>\n",
       "      <th>Capitol Hill</th>\n",
       "      <td>7,667</td>\n",
       "      <td>4,837</td>\n",
       "      <td>-2,830</td>\n",
       "      <td>-36.91%</td>\n",
       "    </tr>\n",
       "    <tr>\n",
       "      <th>Stadium</th>\n",
       "      <td>1,731</td>\n",
       "      <td>438</td>\n",
       "      <td>-1,293</td>\n",
       "      <td>-74.71%</td>\n",
       "    </tr>\n",
       "    <tr>\n",
       "      <th>SODO</th>\n",
       "      <td>1,669</td>\n",
       "      <td>2,426</td>\n",
       "      <td>757</td>\n",
       "      <td>45.35%</td>\n",
       "    </tr>\n",
       "    <tr>\n",
       "      <th>Beacon Hill</th>\n",
       "      <td>2,147</td>\n",
       "      <td>802</td>\n",
       "      <td>-1,345</td>\n",
       "      <td>-62.64%</td>\n",
       "    </tr>\n",
       "    <tr>\n",
       "      <th>Mount Baker</th>\n",
       "      <td>1,861</td>\n",
       "      <td>942</td>\n",
       "      <td>-919</td>\n",
       "      <td>-49.39%</td>\n",
       "    </tr>\n",
       "    <tr>\n",
       "      <th>Columbia City</th>\n",
       "      <td>1,630</td>\n",
       "      <td>895</td>\n",
       "      <td>-735</td>\n",
       "      <td>-45.09%</td>\n",
       "    </tr>\n",
       "    <tr>\n",
       "      <th>Othello</th>\n",
       "      <td>2,030</td>\n",
       "      <td>1,026</td>\n",
       "      <td>-1,004</td>\n",
       "      <td>-49.48%</td>\n",
       "    </tr>\n",
       "    <tr>\n",
       "      <th>Rainier Beach</th>\n",
       "      <td>1,495</td>\n",
       "      <td>932</td>\n",
       "      <td>-563</td>\n",
       "      <td>-37.64%</td>\n",
       "    </tr>\n",
       "    <tr>\n",
       "      <th>Tukwila Int'l Blvd</th>\n",
       "      <td>2,298</td>\n",
       "      <td>1,619</td>\n",
       "      <td>-679</td>\n",
       "      <td>-29.55%</td>\n",
       "    </tr>\n",
       "    <tr>\n",
       "      <th>SeaTac/Airport</th>\n",
       "      <td>4,731</td>\n",
       "      <td>5,676</td>\n",
       "      <td>945</td>\n",
       "      <td>19.98%</td>\n",
       "    </tr>\n",
       "    <tr>\n",
       "      <th>Angle Lake</th>\n",
       "      <td>3,865</td>\n",
       "      <td>3,059</td>\n",
       "      <td>-806</td>\n",
       "      <td>-20.86%</td>\n",
       "    </tr>\n",
       "    <tr>\n",
       "      <th>University District Station</th>\n",
       "      <td>7,563</td>\n",
       "      <td>4,018</td>\n",
       "      <td>-3,545</td>\n",
       "      <td>-46.88%</td>\n",
       "    </tr>\n",
       "    <tr>\n",
       "      <th>Roosevelt Station</th>\n",
       "      <td>4,349</td>\n",
       "      <td>6,552</td>\n",
       "      <td>2,203</td>\n",
       "      <td>50.65%</td>\n",
       "    </tr>\n",
       "    <tr>\n",
       "      <th>Northgate Station</th>\n",
       "      <td>10,384</td>\n",
       "      <td>6,303</td>\n",
       "      <td>-4,081</td>\n",
       "      <td>-39.30%</td>\n",
       "    </tr>\n",
       "    <tr>\n",
       "      <th>Total</th>\n",
       "      <td>79,522</td>\n",
       "      <td>61,174</td>\n",
       "      <td>-18,348</td>\n",
       "      <td>-23.07%</td>\n",
       "    </tr>\n",
       "  </tbody>\n",
       "</table>\n",
       "</div>"
      ],
      "text/plain": [
       "                             observed_boardings  model_boardings    diff  \\\n",
       "station_name                                                               \n",
       "Husky Stadium                             6,134            3,747  -2,387   \n",
       "Westlake                                  8,845            7,353  -1,492   \n",
       "University St                             4,324            4,828     504   \n",
       "Pioneer Square                            2,400            4,262   1,862   \n",
       "Int'l District                            4,399            1,459  -2,940   \n",
       "Capitol Hill                              7,667            4,837  -2,830   \n",
       "Stadium                                   1,731              438  -1,293   \n",
       "SODO                                      1,669            2,426     757   \n",
       "Beacon Hill                               2,147              802  -1,345   \n",
       "Mount Baker                               1,861              942    -919   \n",
       "Columbia City                             1,630              895    -735   \n",
       "Othello                                   2,030            1,026  -1,004   \n",
       "Rainier Beach                             1,495              932    -563   \n",
       "Tukwila Int'l Blvd                        2,298            1,619    -679   \n",
       "SeaTac/Airport                            4,731            5,676     945   \n",
       "Angle Lake                                3,865            3,059    -806   \n",
       "University District Station               7,563            4,018  -3,545   \n",
       "Roosevelt Station                         4,349            6,552   2,203   \n",
       "Northgate Station                        10,384            6,303  -4,081   \n",
       "Total                                    79,522           61,174 -18,348   \n",
       "\n",
       "                            percent_diff  \n",
       "station_name                              \n",
       "Husky Stadium                    -38.92%  \n",
       "Westlake                         -16.86%  \n",
       "University St                     11.65%  \n",
       "Pioneer Square                    77.59%  \n",
       "Int'l District                   -66.82%  \n",
       "Capitol Hill                     -36.91%  \n",
       "Stadium                          -74.71%  \n",
       "SODO                              45.35%  \n",
       "Beacon Hill                      -62.64%  \n",
       "Mount Baker                      -49.39%  \n",
       "Columbia City                    -45.09%  \n",
       "Othello                          -49.48%  \n",
       "Rainier Beach                    -37.64%  \n",
       "Tukwila Int'l Blvd               -29.55%  \n",
       "SeaTac/Airport                    19.98%  \n",
       "Angle Lake                       -20.86%  \n",
       "University District Station      -46.88%  \n",
       "Roosevelt Station                 50.65%  \n",
       "Northgate Station                -39.30%  \n",
       "Total                            -23.07%  "
      ]
     },
     "execution_count": 23,
     "metadata": {},
     "output_type": "execute_result"
    }
   ],
   "source": [
    "df = pd.read_csv(os.path.join(relative_path,'validation/') + 'light_rail_boardings.csv', index_col='station_name')\n",
    "df['diff'] = df['model_boardings']-df['observed_boardings']\n",
    "df['percent_diff'] = df['diff']/df['observed_boardings']\n",
    "df[['percent_diff']] = df[['percent_diff']].applymap(format_percent)\n",
    "df"
   ]
  },
  {
   "cell_type": "markdown",
   "metadata": {},
   "source": [
    "Sound Transit Station Groupings"
   ]
  },
  {
   "cell_type": "code",
   "execution_count": 24,
   "metadata": {
    "execution": {
     "iopub.execute_input": "2024-04-03T21:14:19.907162Z",
     "iopub.status.busy": "2024-04-03T21:14:19.906098Z",
     "iopub.status.idle": "2024-04-03T21:14:19.966531Z",
     "shell.execute_reply": "2024-04-03T21:14:19.966531Z"
    }
   },
   "outputs": [
    {
     "data": {
      "text/html": [
       "<div>\n",
       "<style scoped>\n",
       "    .dataframe tbody tr th:only-of-type {\n",
       "        vertical-align: middle;\n",
       "    }\n",
       "\n",
       "    .dataframe tbody tr th {\n",
       "        vertical-align: top;\n",
       "    }\n",
       "\n",
       "    .dataframe thead th {\n",
       "        text-align: right;\n",
       "    }\n",
       "</style>\n",
       "<table border=\"1\" class=\"dataframe\">\n",
       "  <thead>\n",
       "    <tr style=\"text-align: right;\">\n",
       "      <th></th>\n",
       "      <th>observed_boardings</th>\n",
       "      <th>model_boardings</th>\n",
       "      <th>diff</th>\n",
       "      <th>percent_diff</th>\n",
       "    </tr>\n",
       "    <tr>\n",
       "      <th>station_group</th>\n",
       "      <th></th>\n",
       "      <th></th>\n",
       "      <th></th>\n",
       "      <th></th>\n",
       "    </tr>\n",
       "  </thead>\n",
       "  <tbody>\n",
       "    <tr>\n",
       "      <th>Husky Stadium</th>\n",
       "      <td>6,134</td>\n",
       "      <td>3,747</td>\n",
       "      <td>-2,387</td>\n",
       "      <td>-38.92%</td>\n",
       "    </tr>\n",
       "    <tr>\n",
       "      <th>Capitol Hill</th>\n",
       "      <td>7,667</td>\n",
       "      <td>4,837</td>\n",
       "      <td>-2,830</td>\n",
       "      <td>-36.91%</td>\n",
       "    </tr>\n",
       "    <tr>\n",
       "      <th>Westlake/University St</th>\n",
       "      <td>13,169</td>\n",
       "      <td>12,181</td>\n",
       "      <td>-988</td>\n",
       "      <td>-7.50%</td>\n",
       "    </tr>\n",
       "    <tr>\n",
       "      <th>Pioneer Square/Int'l District</th>\n",
       "      <td>6,799</td>\n",
       "      <td>5,722</td>\n",
       "      <td>-1,077</td>\n",
       "      <td>-15.85%</td>\n",
       "    </tr>\n",
       "    <tr>\n",
       "      <th>Stadium/SODO</th>\n",
       "      <td>3,400</td>\n",
       "      <td>2,864</td>\n",
       "      <td>-536</td>\n",
       "      <td>-15.77%</td>\n",
       "    </tr>\n",
       "    <tr>\n",
       "      <th>Beacon Hill/Mount Baker</th>\n",
       "      <td>4,008</td>\n",
       "      <td>1,744</td>\n",
       "      <td>-2,264</td>\n",
       "      <td>-56.48%</td>\n",
       "    </tr>\n",
       "    <tr>\n",
       "      <th>Columbia City</th>\n",
       "      <td>1,630</td>\n",
       "      <td>895</td>\n",
       "      <td>-735</td>\n",
       "      <td>-45.09%</td>\n",
       "    </tr>\n",
       "    <tr>\n",
       "      <th>Othello/Rainier Beach</th>\n",
       "      <td>3,525</td>\n",
       "      <td>1,958</td>\n",
       "      <td>-1,567</td>\n",
       "      <td>-44.45%</td>\n",
       "    </tr>\n",
       "    <tr>\n",
       "      <th>Tukwila Int'l Blvd</th>\n",
       "      <td>2,298</td>\n",
       "      <td>1,619</td>\n",
       "      <td>-679</td>\n",
       "      <td>-29.55%</td>\n",
       "    </tr>\n",
       "    <tr>\n",
       "      <th>SeaTac/Airport</th>\n",
       "      <td>4,731</td>\n",
       "      <td>5,676</td>\n",
       "      <td>945</td>\n",
       "      <td>19.98%</td>\n",
       "    </tr>\n",
       "    <tr>\n",
       "      <th>Angle Lake</th>\n",
       "      <td>3,865</td>\n",
       "      <td>3,059</td>\n",
       "      <td>-806</td>\n",
       "      <td>-20.86%</td>\n",
       "    </tr>\n",
       "  </tbody>\n",
       "</table>\n",
       "</div>"
      ],
      "text/plain": [
       "                               observed_boardings  model_boardings   diff  \\\n",
       "station_group                                                               \n",
       "Husky Stadium                               6,134            3,747 -2,387   \n",
       "Capitol Hill                                7,667            4,837 -2,830   \n",
       "Westlake/University St                     13,169           12,181   -988   \n",
       "Pioneer Square/Int'l District               6,799            5,722 -1,077   \n",
       "Stadium/SODO                                3,400            2,864   -536   \n",
       "Beacon Hill/Mount Baker                     4,008            1,744 -2,264   \n",
       "Columbia City                               1,630              895   -735   \n",
       "Othello/Rainier Beach                       3,525            1,958 -1,567   \n",
       "Tukwila Int'l Blvd                          2,298            1,619   -679   \n",
       "SeaTac/Airport                              4,731            5,676    945   \n",
       "Angle Lake                                  3,865            3,059   -806   \n",
       "\n",
       "                              percent_diff  \n",
       "station_group                               \n",
       "Husky Stadium                      -38.92%  \n",
       "Capitol Hill                       -36.91%  \n",
       "Westlake/University St              -7.50%  \n",
       "Pioneer Square/Int'l District      -15.85%  \n",
       "Stadium/SODO                       -15.77%  \n",
       "Beacon Hill/Mount Baker            -56.48%  \n",
       "Columbia City                      -45.09%  \n",
       "Othello/Rainier Beach              -44.45%  \n",
       "Tukwila Int'l Blvd                 -29.55%  \n",
       "SeaTac/Airport                      19.98%  \n",
       "Angle Lake                         -20.86%  "
      ]
     },
     "execution_count": 24,
     "metadata": {},
     "output_type": "execute_result"
    }
   ],
   "source": [
    "df_combined = df.copy()\n",
    "\n",
    "df_combined['station_group'] = df.index\n",
    "df_combined.loc[['Westlake'],'station_group'] = 'Westlake/University St'\n",
    "df_combined.loc[['University St'],'station_group'] = 'Westlake/University St'\n",
    "\n",
    "df_combined.loc[['Pioneer Square'],'station_group'] = \"Pioneer Square/Int'l District\"\n",
    "df_combined.loc[[\"Int'l District\"],'station_group'] = \"Pioneer Square/Int'l District\"\n",
    "\n",
    "df_combined.loc[['Stadium'],'station_group'] = 'Stadium/SODO'\n",
    "df_combined.loc[['SODO'],'station_group'] = 'Stadium/SODO'\n",
    "\n",
    "df_combined.loc[['Beacon Hill'],'station_group'] = 'Beacon Hill/Mount Baker'\n",
    "df_combined.loc[['Mount Baker'],'station_group'] = 'Beacon Hill/Mount Baker'\n",
    "\n",
    "df_combined.loc[['Othello'],'station_group'] = 'Othello/Rainier Beach'\n",
    "df_combined.loc[['Rainier Beach'],'station_group'] = 'Othello/Rainier Beach'\n",
    "\n",
    "df_combined = df_combined.groupby('station_group').sum()[['observed_boardings','model_boardings']]\n",
    "df_combined['diff'] = df_combined['model_boardings']-df_combined['observed_boardings']\n",
    "df_combined['percent_diff'] = df_combined['diff']/df_combined['observed_boardings']\n",
    "df_combined[['percent_diff']] = df_combined[['percent_diff']].applymap(format_percent)\n",
    "\n",
    "df_combined.loc[['Husky Stadium','Capitol Hill','Westlake/University St',\"Pioneer Square/Int'l District\",\n",
    "                 'Stadium/SODO','Beacon Hill/Mount Baker','Columbia City','Othello/Rainier Beach',\n",
    "                \"Tukwila Int'l Blvd\",'SeaTac/Airport','Angle Lake']]"
   ]
  },
  {
   "cell_type": "markdown",
   "metadata": {},
   "source": [
    "# Stop Transfers\n",
    "\n",
    "### Light Rail"
   ]
  },
  {
   "cell_type": "code",
   "execution_count": 25,
   "metadata": {
    "execution": {
     "iopub.execute_input": "2024-04-03T21:14:19.966531Z",
     "iopub.status.busy": "2024-04-03T21:14:19.966531Z",
     "iopub.status.idle": "2024-04-03T21:14:20.013469Z",
     "shell.execute_reply": "2024-04-03T21:14:20.013469Z"
    }
   },
   "outputs": [
    {
     "data": {
      "text/html": [
       "<div>\n",
       "<style scoped>\n",
       "    .dataframe tbody tr th:only-of-type {\n",
       "        vertical-align: middle;\n",
       "    }\n",
       "\n",
       "    .dataframe tbody tr th {\n",
       "        vertical-align: top;\n",
       "    }\n",
       "\n",
       "    .dataframe thead th {\n",
       "        text-align: right;\n",
       "    }\n",
       "</style>\n",
       "<table border=\"1\" class=\"dataframe\">\n",
       "  <thead>\n",
       "    <tr style=\"text-align: right;\">\n",
       "      <th></th>\n",
       "      <th>modeled_transfer_rate</th>\n",
       "      <th>observed_transfer_rate</th>\n",
       "      <th>diff</th>\n",
       "      <th>percent_diff</th>\n",
       "    </tr>\n",
       "    <tr>\n",
       "      <th>station_name</th>\n",
       "      <th></th>\n",
       "      <th></th>\n",
       "      <th></th>\n",
       "      <th></th>\n",
       "    </tr>\n",
       "  </thead>\n",
       "  <tbody>\n",
       "    <tr>\n",
       "      <th>Husky Stadium</th>\n",
       "      <td>0.92</td>\n",
       "      <td>-99.00</td>\n",
       "      <td>99.92</td>\n",
       "      <td>-100.93%</td>\n",
       "    </tr>\n",
       "    <tr>\n",
       "      <th>Westlake</th>\n",
       "      <td>0.15</td>\n",
       "      <td>0.36</td>\n",
       "      <td>-0.21</td>\n",
       "      <td>-57.68%</td>\n",
       "    </tr>\n",
       "    <tr>\n",
       "      <th>University St</th>\n",
       "      <td>0.23</td>\n",
       "      <td>0.20</td>\n",
       "      <td>0.03</td>\n",
       "      <td>15.78%</td>\n",
       "    </tr>\n",
       "    <tr>\n",
       "      <th>Pioneer Square</th>\n",
       "      <td>0.47</td>\n",
       "      <td>0.16</td>\n",
       "      <td>0.31</td>\n",
       "      <td>195.08%</td>\n",
       "    </tr>\n",
       "    <tr>\n",
       "      <th>Int'l District</th>\n",
       "      <td>0.68</td>\n",
       "      <td>0.45</td>\n",
       "      <td>0.23</td>\n",
       "      <td>51.89%</td>\n",
       "    </tr>\n",
       "    <tr>\n",
       "      <th>Capitol Hill</th>\n",
       "      <td>0.07</td>\n",
       "      <td>-99.00</td>\n",
       "      <td>99.07</td>\n",
       "      <td>-100.07%</td>\n",
       "    </tr>\n",
       "    <tr>\n",
       "      <th>Stadium</th>\n",
       "      <td>0.23</td>\n",
       "      <td>0.12</td>\n",
       "      <td>0.11</td>\n",
       "      <td>92.66%</td>\n",
       "    </tr>\n",
       "    <tr>\n",
       "      <th>SODO</th>\n",
       "      <td>0.46</td>\n",
       "      <td>0.31</td>\n",
       "      <td>0.15</td>\n",
       "      <td>47.23%</td>\n",
       "    </tr>\n",
       "    <tr>\n",
       "      <th>Beacon Hill</th>\n",
       "      <td>0.33</td>\n",
       "      <td>0.35</td>\n",
       "      <td>-0.02</td>\n",
       "      <td>-6.32%</td>\n",
       "    </tr>\n",
       "    <tr>\n",
       "      <th>Mount Baker</th>\n",
       "      <td>0.45</td>\n",
       "      <td>0.32</td>\n",
       "      <td>0.13</td>\n",
       "      <td>40.27%</td>\n",
       "    </tr>\n",
       "    <tr>\n",
       "      <th>Columbia City</th>\n",
       "      <td>0.03</td>\n",
       "      <td>0.12</td>\n",
       "      <td>-0.10</td>\n",
       "      <td>-79.77%</td>\n",
       "    </tr>\n",
       "    <tr>\n",
       "      <th>Othello</th>\n",
       "      <td>0.08</td>\n",
       "      <td>0.12</td>\n",
       "      <td>-0.04</td>\n",
       "      <td>-36.10%</td>\n",
       "    </tr>\n",
       "    <tr>\n",
       "      <th>Rainier Beach</th>\n",
       "      <td>0.37</td>\n",
       "      <td>0.36</td>\n",
       "      <td>0.01</td>\n",
       "      <td>1.88%</td>\n",
       "    </tr>\n",
       "    <tr>\n",
       "      <th>Tukwila Int'l Blvd</th>\n",
       "      <td>0.57</td>\n",
       "      <td>0.26</td>\n",
       "      <td>0.30</td>\n",
       "      <td>114.52%</td>\n",
       "    </tr>\n",
       "    <tr>\n",
       "      <th>SeaTac/Airport</th>\n",
       "      <td>0.13</td>\n",
       "      <td>0.26</td>\n",
       "      <td>-0.14</td>\n",
       "      <td>-52.21%</td>\n",
       "    </tr>\n",
       "    <tr>\n",
       "      <th>Angle Lake</th>\n",
       "      <td>0.28</td>\n",
       "      <td>-99.00</td>\n",
       "      <td>99.28</td>\n",
       "      <td>-100.28%</td>\n",
       "    </tr>\n",
       "    <tr>\n",
       "      <th>University District Station</th>\n",
       "      <td>0.27</td>\n",
       "      <td>-99.00</td>\n",
       "      <td>99.27</td>\n",
       "      <td>-100.27%</td>\n",
       "    </tr>\n",
       "    <tr>\n",
       "      <th>Roosevelt Station</th>\n",
       "      <td>0.49</td>\n",
       "      <td>-99.00</td>\n",
       "      <td>99.49</td>\n",
       "      <td>-100.49%</td>\n",
       "    </tr>\n",
       "    <tr>\n",
       "      <th>Northgate Station</th>\n",
       "      <td>0.81</td>\n",
       "      <td>-99.00</td>\n",
       "      <td>99.81</td>\n",
       "      <td>-100.82%</td>\n",
       "    </tr>\n",
       "  </tbody>\n",
       "</table>\n",
       "</div>"
      ],
      "text/plain": [
       "                             modeled_transfer_rate  observed_transfer_rate  \\\n",
       "station_name                                                                 \n",
       "Husky Stadium                                 0.92                  -99.00   \n",
       "Westlake                                      0.15                    0.36   \n",
       "University St                                 0.23                    0.20   \n",
       "Pioneer Square                                0.47                    0.16   \n",
       "Int'l District                                0.68                    0.45   \n",
       "Capitol Hill                                  0.07                  -99.00   \n",
       "Stadium                                       0.23                    0.12   \n",
       "SODO                                          0.46                    0.31   \n",
       "Beacon Hill                                   0.33                    0.35   \n",
       "Mount Baker                                   0.45                    0.32   \n",
       "Columbia City                                 0.03                    0.12   \n",
       "Othello                                       0.08                    0.12   \n",
       "Rainier Beach                                 0.37                    0.36   \n",
       "Tukwila Int'l Blvd                            0.57                    0.26   \n",
       "SeaTac/Airport                                0.13                    0.26   \n",
       "Angle Lake                                    0.28                  -99.00   \n",
       "University District Station                   0.27                  -99.00   \n",
       "Roosevelt Station                             0.49                  -99.00   \n",
       "Northgate Station                             0.81                  -99.00   \n",
       "\n",
       "                             diff percent_diff  \n",
       "station_name                                    \n",
       "Husky Stadium               99.92     -100.93%  \n",
       "Westlake                    -0.21      -57.68%  \n",
       "University St                0.03       15.78%  \n",
       "Pioneer Square               0.31      195.08%  \n",
       "Int'l District               0.23       51.89%  \n",
       "Capitol Hill                99.07     -100.07%  \n",
       "Stadium                      0.11       92.66%  \n",
       "SODO                         0.15       47.23%  \n",
       "Beacon Hill                 -0.02       -6.32%  \n",
       "Mount Baker                  0.13       40.27%  \n",
       "Columbia City               -0.10      -79.77%  \n",
       "Othello                     -0.04      -36.10%  \n",
       "Rainier Beach                0.01        1.88%  \n",
       "Tukwila Int'l Blvd           0.30      114.52%  \n",
       "SeaTac/Airport              -0.14      -52.21%  \n",
       "Angle Lake                  99.28     -100.28%  \n",
       "University District Station 99.27     -100.27%  \n",
       "Roosevelt Station           99.49     -100.49%  \n",
       "Northgate Station           99.81     -100.82%  "
      ]
     },
     "execution_count": 25,
     "metadata": {},
     "output_type": "execute_result"
    }
   ],
   "source": [
    "df = pd.read_csv(os.path.join(relative_path,'validation/') + 'light_rail_transfers.csv', index_col='station_name')\n",
    "pd.options.display.float_format = '{:0,.2f}'.format\n",
    "df[['percent_diff']] = df[['percent_diff']].applymap(format_percent)\n",
    "df"
   ]
  },
  {
   "cell_type": "markdown",
   "metadata": {},
   "source": [
    "# Externals"
   ]
  },
  {
   "cell_type": "code",
   "execution_count": 26,
   "metadata": {
    "execution": {
     "iopub.execute_input": "2024-04-03T21:14:20.013469Z",
     "iopub.status.busy": "2024-04-03T21:14:20.013469Z",
     "iopub.status.idle": "2024-04-03T21:14:20.075904Z",
     "shell.execute_reply": "2024-04-03T21:14:20.075904Z"
    }
   },
   "outputs": [],
   "source": [
    "# df = pd.read_csv(os.path.join(relative_path,'validation/') + 'external_volumes.csv', index_col='location')\n",
    "\n",
    "# pd.options.display.float_format = '{:0,.0f}'.format\n",
    "# df = df.drop('diff', axis=1)\n",
    "# df['diff'] = df['modeled']-df['observed']\n",
    "# df = df.fillna(0)\n",
    "# df.loc['Total',['observed','modeled','diff']] = df[['observed','modeled','diff']].sum()\n",
    "# df['percent_diff'] = df['diff']/df['observed']\n",
    "# df[['percent_diff']] = df[['percent_diff']].applymap(format_percent)\n",
    "\n",
    "# df[['external_station']] = df[['external_station']].applymap('{:0.0f}'.format)\n",
    "# df.replace('nan', '', regex=True)"
   ]
  },
  {
   "cell_type": "markdown",
   "metadata": {},
   "source": [
    "# Corridor Speed"
   ]
  },
  {
   "cell_type": "code",
   "execution_count": 27,
   "metadata": {
    "execution": {
     "iopub.execute_input": "2024-04-03T21:14:20.075904Z",
     "iopub.status.busy": "2024-04-03T21:14:20.075904Z",
     "iopub.status.idle": "2024-04-03T21:14:20.247389Z",
     "shell.execute_reply": "2024-04-03T21:14:20.247389Z"
    }
   },
   "outputs": [
    {
     "data": {
      "text/plain": [
       "<AxesSubplot:xlabel='observed_speed', ylabel='model_speed'>"
      ]
     },
     "execution_count": 27,
     "metadata": {},
     "output_type": "execute_result"
    },
    {
     "data": {
      "image/png": "[encoded data removed]",
      "text/plain": [
       "<Figure size 432x288 with 1 Axes>"
      ]
     },
     "metadata": {
      "needs_background": "light"
     },
     "output_type": "display_data"
    }
   ],
   "source": [
    "df = pd.read_csv(os.path.join(relative_path,'validation/') + 'corridor_speeds.csv')\n",
    "df.plot(kind='scatter', y='model_speed', x='observed_speed')"
   ]
  },
  {
   "cell_type": "markdown",
   "metadata": {},
   "source": [
    "### AM Peak, Primary Corridors"
   ]
  },
  {
   "cell_type": "code",
   "execution_count": 28,
   "metadata": {
    "execution": {
     "iopub.execute_input": "2024-04-03T21:14:20.247389Z",
     "iopub.status.busy": "2024-04-03T21:14:20.247389Z",
     "iopub.status.idle": "2024-04-03T21:14:20.434846Z",
     "shell.execute_reply": "2024-04-03T21:14:20.434846Z"
    }
   },
   "outputs": [
    {
     "data": {
      "text/plain": [
       "<AxesSubplot:xlabel='observed_speed', ylabel='model_speed'>"
      ]
     },
     "execution_count": 28,
     "metadata": {},
     "output_type": "execute_result"
    },
    {
     "data": {
      "image/png": "[encoded data removed]",
      "text/plain": [
       "<Figure size 432x288 with 1 Axes>"
      ]
     },
     "metadata": {
      "needs_background": "light"
     },
     "output_type": "display_data"
    }
   ],
   "source": [
    "df[df['tod'] == '7to8'].plot(kind='scatter', x='observed_speed', y='model_speed')"
   ]
  },
  {
   "cell_type": "code",
   "execution_count": 29,
   "metadata": {
    "execution": {
     "iopub.execute_input": "2024-04-03T21:14:20.434846Z",
     "iopub.status.busy": "2024-04-03T21:14:20.434846Z",
     "iopub.status.idle": "2024-04-03T21:14:20.466088Z",
     "shell.execute_reply": "2024-04-03T21:14:20.466088Z"
    }
   },
   "outputs": [
    {
     "data": {
      "text/html": [
       "<div>\n",
       "<style scoped>\n",
       "    .dataframe tbody tr th:only-of-type {\n",
       "        vertical-align: middle;\n",
       "    }\n",
       "\n",
       "    .dataframe tbody tr th {\n",
       "        vertical-align: top;\n",
       "    }\n",
       "\n",
       "    .dataframe thead th {\n",
       "        text-align: right;\n",
       "    }\n",
       "</style>\n",
       "<table border=\"1\" class=\"dataframe\">\n",
       "  <thead>\n",
       "    <tr style=\"text-align: right;\">\n",
       "      <th></th>\n",
       "      <th>Corridor_Description</th>\n",
       "      <th>model_speed</th>\n",
       "      <th>observed_speed</th>\n",
       "    </tr>\n",
       "  </thead>\n",
       "  <tbody>\n",
       "    <tr>\n",
       "      <th>6</th>\n",
       "      <td>Seattle to Everett - NB</td>\n",
       "      <td>46.03</td>\n",
       "      <td>58.00</td>\n",
       "    </tr>\n",
       "    <tr>\n",
       "      <th>15</th>\n",
       "      <td>Everett to Seattle - SB</td>\n",
       "      <td>27.99</td>\n",
       "      <td>27.00</td>\n",
       "    </tr>\n",
       "    <tr>\n",
       "      <th>24</th>\n",
       "      <td>Tacoma to Seattle - NB</td>\n",
       "      <td>31.40</td>\n",
       "      <td>24.00</td>\n",
       "    </tr>\n",
       "    <tr>\n",
       "      <th>33</th>\n",
       "      <td>Seattle to Tacoma - SB</td>\n",
       "      <td>44.40</td>\n",
       "      <td>58.00</td>\n",
       "    </tr>\n",
       "    <tr>\n",
       "      <th>42</th>\n",
       "      <td>Bellevue to Lynnwood - NB</td>\n",
       "      <td>49.91</td>\n",
       "      <td>57.00</td>\n",
       "    </tr>\n",
       "    <tr>\n",
       "      <th>51</th>\n",
       "      <td>Lynnwood to Bellevue - SB</td>\n",
       "      <td>26.77</td>\n",
       "      <td>22.00</td>\n",
       "    </tr>\n",
       "    <tr>\n",
       "      <th>60</th>\n",
       "      <td>Tukwila to Bellevue - NB</td>\n",
       "      <td>27.80</td>\n",
       "      <td>20.00</td>\n",
       "    </tr>\n",
       "    <tr>\n",
       "      <th>69</th>\n",
       "      <td>Bellevue to Tukwila - SB</td>\n",
       "      <td>32.22</td>\n",
       "      <td>43.00</td>\n",
       "    </tr>\n",
       "    <tr>\n",
       "      <th>78</th>\n",
       "      <td>Auburn to Renton - NB</td>\n",
       "      <td>32.82</td>\n",
       "      <td>22.00</td>\n",
       "    </tr>\n",
       "    <tr>\n",
       "      <th>87</th>\n",
       "      <td>Renton to Auburn - SB</td>\n",
       "      <td>51.24</td>\n",
       "      <td>55.00</td>\n",
       "    </tr>\n",
       "    <tr>\n",
       "      <th>96</th>\n",
       "      <td>Redmond to Seattle - WB</td>\n",
       "      <td>36.77</td>\n",
       "      <td>40.00</td>\n",
       "    </tr>\n",
       "    <tr>\n",
       "      <th>105</th>\n",
       "      <td>Seattle to Redmond - EB</td>\n",
       "      <td>47.08</td>\n",
       "      <td>53.00</td>\n",
       "    </tr>\n",
       "    <tr>\n",
       "      <th>114</th>\n",
       "      <td>Redmond to Bellevue - WB</td>\n",
       "      <td>38.35</td>\n",
       "      <td>46.00</td>\n",
       "    </tr>\n",
       "    <tr>\n",
       "      <th>123</th>\n",
       "      <td>Bellevue to Redmond - EB</td>\n",
       "      <td>43.01</td>\n",
       "      <td>52.00</td>\n",
       "    </tr>\n",
       "    <tr>\n",
       "      <th>132</th>\n",
       "      <td>Issaquah to Bellevue - WB</td>\n",
       "      <td>35.91</td>\n",
       "      <td>35.00</td>\n",
       "    </tr>\n",
       "    <tr>\n",
       "      <th>141</th>\n",
       "      <td>Bellevue to Issaquah - EB</td>\n",
       "      <td>50.10</td>\n",
       "      <td>58.00</td>\n",
       "    </tr>\n",
       "    <tr>\n",
       "      <th>150</th>\n",
       "      <td>Seattle to Bellevue via 520 - WB</td>\n",
       "      <td>40.77</td>\n",
       "      <td>52.00</td>\n",
       "    </tr>\n",
       "    <tr>\n",
       "      <th>159</th>\n",
       "      <td>Bellevue to Seattle via 520 - EB</td>\n",
       "      <td>30.12</td>\n",
       "      <td>37.00</td>\n",
       "    </tr>\n",
       "    <tr>\n",
       "      <th>168</th>\n",
       "      <td>Bellevue to Seattle via 90 - WB</td>\n",
       "      <td>27.66</td>\n",
       "      <td>23.00</td>\n",
       "    </tr>\n",
       "    <tr>\n",
       "      <th>177</th>\n",
       "      <td>Seattle to Bellevue via 90 - EB</td>\n",
       "      <td>34.82</td>\n",
       "      <td>41.00</td>\n",
       "    </tr>\n",
       "  </tbody>\n",
       "</table>\n",
       "</div>"
      ],
      "text/plain": [
       "                 Corridor_Description  model_speed  observed_speed\n",
       "6             Seattle to Everett - NB        46.03           58.00\n",
       "15            Everett to Seattle - SB        27.99           27.00\n",
       "24             Tacoma to Seattle - NB        31.40           24.00\n",
       "33             Seattle to Tacoma - SB        44.40           58.00\n",
       "42          Bellevue to Lynnwood - NB        49.91           57.00\n",
       "51          Lynnwood to Bellevue - SB        26.77           22.00\n",
       "60           Tukwila to Bellevue - NB        27.80           20.00\n",
       "69           Bellevue to Tukwila - SB        32.22           43.00\n",
       "78              Auburn to Renton - NB        32.82           22.00\n",
       "87              Renton to Auburn - SB        51.24           55.00\n",
       "96            Redmond to Seattle - WB        36.77           40.00\n",
       "105           Seattle to Redmond - EB        47.08           53.00\n",
       "114          Redmond to Bellevue - WB        38.35           46.00\n",
       "123          Bellevue to Redmond - EB        43.01           52.00\n",
       "132         Issaquah to Bellevue - WB        35.91           35.00\n",
       "141         Bellevue to Issaquah - EB        50.10           58.00\n",
       "150  Seattle to Bellevue via 520 - WB        40.77           52.00\n",
       "159  Bellevue to Seattle via 520 - EB        30.12           37.00\n",
       "168   Bellevue to Seattle via 90 - WB        27.66           23.00\n",
       "177   Seattle to Bellevue via 90 - EB        34.82           41.00"
      ]
     },
     "execution_count": 29,
     "metadata": {},
     "output_type": "execute_result"
    }
   ],
   "source": [
    "# Show daily AM and PM peaks by corridor\n",
    "df[df['tod'] == '7to8'][['Corridor_Description','model_speed','observed_speed']].head(20)"
   ]
  },
  {
   "cell_type": "markdown",
   "metadata": {},
   "source": [
    "### PM Peak, Primary Corridors"
   ]
  },
  {
   "cell_type": "code",
   "execution_count": 30,
   "metadata": {
    "execution": {
     "iopub.execute_input": "2024-04-03T21:14:20.466088Z",
     "iopub.status.busy": "2024-04-03T21:14:20.466088Z",
     "iopub.status.idle": "2024-04-03T21:14:20.669168Z",
     "shell.execute_reply": "2024-04-03T21:14:20.669168Z"
    }
   },
   "outputs": [
    {
     "data": {
      "text/plain": [
       "<AxesSubplot:xlabel='observed_speed', ylabel='model_speed'>"
      ]
     },
     "execution_count": 30,
     "metadata": {},
     "output_type": "execute_result"
    },
    {
     "data": {
      "image/png": "[encoded data removed]",
      "text/plain": [
       "<Figure size 432x288 with 1 Axes>"
      ]
     },
     "metadata": {
      "needs_background": "light"
     },
     "output_type": "display_data"
    }
   ],
   "source": [
    "df[df['tod'] == '16to17'].plot(kind='scatter', x='observed_speed', y='model_speed')"
   ]
  },
  {
   "cell_type": "code",
   "execution_count": 31,
   "metadata": {
    "execution": {
     "iopub.execute_input": "2024-04-03T21:14:20.669168Z",
     "iopub.status.busy": "2024-04-03T21:14:20.669168Z",
     "iopub.status.idle": "2024-04-03T21:14:20.700409Z",
     "shell.execute_reply": "2024-04-03T21:14:20.700409Z"
    }
   },
   "outputs": [
    {
     "data": {
      "text/html": [
       "<div>\n",
       "<style scoped>\n",
       "    .dataframe tbody tr th:only-of-type {\n",
       "        vertical-align: middle;\n",
       "    }\n",
       "\n",
       "    .dataframe tbody tr th {\n",
       "        vertical-align: top;\n",
       "    }\n",
       "\n",
       "    .dataframe thead th {\n",
       "        text-align: right;\n",
       "    }\n",
       "</style>\n",
       "<table border=\"1\" class=\"dataframe\">\n",
       "  <thead>\n",
       "    <tr style=\"text-align: right;\">\n",
       "      <th></th>\n",
       "      <th>Corridor_Description</th>\n",
       "      <th>model_speed</th>\n",
       "      <th>observed_speed</th>\n",
       "    </tr>\n",
       "  </thead>\n",
       "  <tbody>\n",
       "    <tr>\n",
       "      <th>1</th>\n",
       "      <td>Seattle to Everett - NB</td>\n",
       "      <td>31.17</td>\n",
       "      <td>23.40</td>\n",
       "    </tr>\n",
       "    <tr>\n",
       "      <th>10</th>\n",
       "      <td>Everett to Seattle - SB</td>\n",
       "      <td>40.88</td>\n",
       "      <td>27.70</td>\n",
       "    </tr>\n",
       "    <tr>\n",
       "      <th>19</th>\n",
       "      <td>Tacoma to Seattle - NB</td>\n",
       "      <td>44.87</td>\n",
       "      <td>42.90</td>\n",
       "    </tr>\n",
       "    <tr>\n",
       "      <th>28</th>\n",
       "      <td>Seattle to Tacoma - SB</td>\n",
       "      <td>33.72</td>\n",
       "      <td>25.40</td>\n",
       "    </tr>\n",
       "    <tr>\n",
       "      <th>37</th>\n",
       "      <td>Bellevue to Lynnwood - NB</td>\n",
       "      <td>31.64</td>\n",
       "      <td>25.60</td>\n",
       "    </tr>\n",
       "    <tr>\n",
       "      <th>46</th>\n",
       "      <td>Lynnwood to Bellevue - SB</td>\n",
       "      <td>43.29</td>\n",
       "      <td>39.60</td>\n",
       "    </tr>\n",
       "    <tr>\n",
       "      <th>55</th>\n",
       "      <td>Tukwila to Bellevue - NB</td>\n",
       "      <td>31.65</td>\n",
       "      <td>29.20</td>\n",
       "    </tr>\n",
       "    <tr>\n",
       "      <th>64</th>\n",
       "      <td>Bellevue to Tukwila - SB</td>\n",
       "      <td>28.43</td>\n",
       "      <td>18.90</td>\n",
       "    </tr>\n",
       "    <tr>\n",
       "      <th>73</th>\n",
       "      <td>Auburn to Renton - NB</td>\n",
       "      <td>49.86</td>\n",
       "      <td>43.70</td>\n",
       "    </tr>\n",
       "    <tr>\n",
       "      <th>82</th>\n",
       "      <td>Renton to Auburn - SB</td>\n",
       "      <td>36.51</td>\n",
       "      <td>34.20</td>\n",
       "    </tr>\n",
       "    <tr>\n",
       "      <th>91</th>\n",
       "      <td>Redmond to Seattle - WB</td>\n",
       "      <td>44.27</td>\n",
       "      <td>23.00</td>\n",
       "    </tr>\n",
       "    <tr>\n",
       "      <th>100</th>\n",
       "      <td>Seattle to Redmond - EB</td>\n",
       "      <td>41.80</td>\n",
       "      <td>35.40</td>\n",
       "    </tr>\n",
       "    <tr>\n",
       "      <th>109</th>\n",
       "      <td>Redmond to Bellevue - WB</td>\n",
       "      <td>43.27</td>\n",
       "      <td>26.70</td>\n",
       "    </tr>\n",
       "    <tr>\n",
       "      <th>118</th>\n",
       "      <td>Bellevue to Redmond - EB</td>\n",
       "      <td>41.46</td>\n",
       "      <td>22.80</td>\n",
       "    </tr>\n",
       "    <tr>\n",
       "      <th>127</th>\n",
       "      <td>Issaquah to Bellevue - WB</td>\n",
       "      <td>46.52</td>\n",
       "      <td>39.70</td>\n",
       "    </tr>\n",
       "    <tr>\n",
       "      <th>136</th>\n",
       "      <td>Bellevue to Issaquah - EB</td>\n",
       "      <td>41.30</td>\n",
       "      <td>24.80</td>\n",
       "    </tr>\n",
       "    <tr>\n",
       "      <th>145</th>\n",
       "      <td>Seattle to Bellevue via 520 - WB</td>\n",
       "      <td>36.51</td>\n",
       "      <td>40.00</td>\n",
       "    </tr>\n",
       "    <tr>\n",
       "      <th>154</th>\n",
       "      <td>Bellevue to Seattle via 520 - EB</td>\n",
       "      <td>35.95</td>\n",
       "      <td>19.00</td>\n",
       "    </tr>\n",
       "    <tr>\n",
       "      <th>163</th>\n",
       "      <td>Bellevue to Seattle via 90 - WB</td>\n",
       "      <td>33.14</td>\n",
       "      <td>19.50</td>\n",
       "    </tr>\n",
       "    <tr>\n",
       "      <th>172</th>\n",
       "      <td>Seattle to Bellevue via 90 - EB</td>\n",
       "      <td>29.04</td>\n",
       "      <td>38.80</td>\n",
       "    </tr>\n",
       "  </tbody>\n",
       "</table>\n",
       "</div>"
      ],
      "text/plain": [
       "                 Corridor_Description  model_speed  observed_speed\n",
       "1             Seattle to Everett - NB        31.17           23.40\n",
       "10            Everett to Seattle - SB        40.88           27.70\n",
       "19             Tacoma to Seattle - NB        44.87           42.90\n",
       "28             Seattle to Tacoma - SB        33.72           25.40\n",
       "37          Bellevue to Lynnwood - NB        31.64           25.60\n",
       "46          Lynnwood to Bellevue - SB        43.29           39.60\n",
       "55           Tukwila to Bellevue - NB        31.65           29.20\n",
       "64           Bellevue to Tukwila - SB        28.43           18.90\n",
       "73              Auburn to Renton - NB        49.86           43.70\n",
       "82              Renton to Auburn - SB        36.51           34.20\n",
       "91            Redmond to Seattle - WB        44.27           23.00\n",
       "100           Seattle to Redmond - EB        41.80           35.40\n",
       "109          Redmond to Bellevue - WB        43.27           26.70\n",
       "118          Bellevue to Redmond - EB        41.46           22.80\n",
       "127         Issaquah to Bellevue - WB        46.52           39.70\n",
       "136         Bellevue to Issaquah - EB        41.30           24.80\n",
       "145  Seattle to Bellevue via 520 - WB        36.51           40.00\n",
       "154  Bellevue to Seattle via 520 - EB        35.95           19.00\n",
       "163   Bellevue to Seattle via 90 - WB        33.14           19.50\n",
       "172   Seattle to Bellevue via 90 - EB        29.04           38.80"
      ]
     },
     "execution_count": 31,
     "metadata": {},
     "output_type": "execute_result"
    }
   ],
   "source": [
    "df[df['tod'] == '16to17'][['Corridor_Description','model_speed','observed_speed']].head(20)"
   ]
  },
  {
   "cell_type": "code",
   "execution_count": null,
   "metadata": {},
   "outputs": [],
   "source": []
  },
  {
   "cell_type": "code",
   "execution_count": null,
   "metadata": {},
   "outputs": [],
   "source": []
  }
 ],
 "metadata": {
  "kernelspec": {
   "display_name": "Python 3",
   "language": "python",
   "name": "python3"
  },
  "language_info": {
   "codemirror_mode": {
    "name": "ipython",
    "version": 3
   },
   "file_extension": ".py",
   "mimetype": "text/x-python",
   "name": "python",
   "nbconvert_exporter": "python",
   "pygments_lexer": "ipython3",
   "version": "3.7.10"
  }
 },
 "nbformat": 4,
 "nbformat_minor": 2
}
