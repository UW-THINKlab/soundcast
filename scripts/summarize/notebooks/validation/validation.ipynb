{
 "cells": [
  {
   "cell_type": "code",
   "execution_count": 1,
   "metadata": {
    "execution": {
     "iopub.execute_input": "2024-04-03T21:14:16.554086Z",
     "iopub.status.busy": "2024-04-03T21:14:16.554086Z",
     "iopub.status.idle": "2024-04-03T21:14:17.965900Z",
     "shell.execute_reply": "2024-04-03T21:14:17.965900Z"
    }
   },
   "outputs": [],
   "source": [
    "import os, sys, time\n",
    "from scipy import stats\n",
    "import warnings\n",
    "warnings.simplefilter(action='ignore', category=FutureWarning)\n",
    "import pandas as pd\n",
    "import numpy as np\n",
    "%matplotlib inline\n",
    "\n",
    "from IPython.display import display, HTML\n",
    "\n",
    "if (sys.version_info < (3, 0)):\n",
    "    HTML('''<script>\n",
    "    code_show=true; \n",
    "    function code_toggle() {\n",
    "     if (code_show){\n",
    "     $('div.input').hide();\n",
    "     } else {\n",
    "     $('div.input').show();\n",
    "     }\n",
    "     code_show = !code_show\n",
    "    } \n",
    "    $( document ).ready(code_toggle);\n",
    "    </script>\n",
    "    <form action=\"javascript:code_toggle()\"><input type=\"submit\" value=\"Click here to toggle on/off the raw code.\"></form>''')\n"
   ]
  },
  {
   "cell_type": "code",
   "execution_count": 2,
   "metadata": {
    "execution": {
     "iopub.execute_input": "2024-04-03T21:14:17.965900Z",
     "iopub.status.busy": "2024-04-03T21:14:17.965900Z",
     "iopub.status.idle": "2024-04-03T21:14:17.981522Z",
     "shell.execute_reply": "2024-04-03T21:14:17.981522Z"
    },
    "scrolled": true
   },
   "outputs": [
    {
     "name": "stdout",
     "output_type": "stream",
     "text": [
      "Summary run: Wed, 16 Oct 2024 10:54\n"
     ]
    }
   ],
   "source": [
    "# Create timestamp to show when this summary was run\n",
    "print('Summary run: ' + time.strftime(\"%a, %d %b %Y %H:%M\"))"
   ]
  },
  {
   "cell_type": "code",
   "execution_count": 3,
   "metadata": {
    "execution": {
     "iopub.execute_input": "2024-04-03T21:14:17.981522Z",
     "iopub.status.busy": "2024-04-03T21:14:17.981522Z",
     "iopub.status.idle": "2024-04-03T21:14:17.997144Z",
     "shell.execute_reply": "2024-04-03T21:14:17.997144Z"
    }
   },
   "outputs": [],
   "source": [
    "relative_path = '../../../../outputs'\n",
    "pd.options.display.float_format = '{:0,.0f}'.format\n",
    "format_percent = \"{:,.2%}\".format"
   ]
  },
  {
   "cell_type": "markdown",
   "metadata": {},
   "source": [
    "# Traffic Counts\n",
    "----\n",
    "### Daily | By Facility Type"
   ]
  },
  {
   "cell_type": "code",
   "execution_count": 4,
   "metadata": {
    "execution": {
     "iopub.execute_input": "2024-04-03T21:14:17.997144Z",
     "iopub.status.busy": "2024-04-03T21:14:17.997144Z",
     "iopub.status.idle": "2024-04-03T21:14:18.044121Z",
     "shell.execute_reply": "2024-04-03T21:14:18.044121Z"
    }
   },
   "outputs": [],
   "source": [
    "df = pd.read_csv(os.path.join(relative_path,'validation','daily_volume.csv'))\n",
    "df[['modeled','observed']] = df[['modeled','observed']].astype('float')"
   ]
  },
  {
   "cell_type": "code",
   "execution_count": 5,
   "metadata": {
    "execution": {
     "iopub.execute_input": "2024-04-03T21:14:18.044121Z",
     "iopub.status.busy": "2024-04-03T21:14:18.044121Z",
     "iopub.status.idle": "2024-04-03T21:14:18.122118Z",
     "shell.execute_reply": "2024-04-03T21:14:18.122118Z"
    }
   },
   "outputs": [
    {
     "data": {
      "text/html": [
       "<div>\n",
       "<style scoped>\n",
       "    .dataframe tbody tr th:only-of-type {\n",
       "        vertical-align: middle;\n",
       "    }\n",
       "\n",
       "    .dataframe tbody tr th {\n",
       "        vertical-align: top;\n",
       "    }\n",
       "\n",
       "    .dataframe thead th {\n",
       "        text-align: right;\n",
       "    }\n",
       "</style>\n",
       "<table border=\"1\" class=\"dataframe\">\n",
       "  <thead>\n",
       "    <tr style=\"text-align: right;\">\n",
       "      <th></th>\n",
       "      <th>observed</th>\n",
       "      <th>modeled</th>\n",
       "      <th>diff</th>\n",
       "      <th>percent_diff</th>\n",
       "    </tr>\n",
       "    <tr>\n",
       "      <th>@facilitytype</th>\n",
       "      <th></th>\n",
       "      <th></th>\n",
       "      <th></th>\n",
       "      <th></th>\n",
       "    </tr>\n",
       "  </thead>\n",
       "  <tbody>\n",
       "    <tr>\n",
       "      <th>Arterial</th>\n",
       "      <td>13,060,004</td>\n",
       "      <td>13,795,040</td>\n",
       "      <td>735,036</td>\n",
       "      <td>5.63%</td>\n",
       "    </tr>\n",
       "    <tr>\n",
       "      <th>Collector</th>\n",
       "      <td>72,096</td>\n",
       "      <td>54,864</td>\n",
       "      <td>-17,232</td>\n",
       "      <td>-23.90%</td>\n",
       "    </tr>\n",
       "    <tr>\n",
       "      <th>Freeway</th>\n",
       "      <td>46,455,221</td>\n",
       "      <td>46,586,992</td>\n",
       "      <td>131,771</td>\n",
       "      <td>0.28%</td>\n",
       "    </tr>\n",
       "    <tr>\n",
       "      <th>HOV</th>\n",
       "      <td>246,053</td>\n",
       "      <td>290,354</td>\n",
       "      <td>44,301</td>\n",
       "      <td>18.00%</td>\n",
       "    </tr>\n",
       "    <tr>\n",
       "      <th>Ramp</th>\n",
       "      <td>334,132</td>\n",
       "      <td>265,727</td>\n",
       "      <td>-68,405</td>\n",
       "      <td>-20.47%</td>\n",
       "    </tr>\n",
       "    <tr>\n",
       "      <th>Total</th>\n",
       "      <td>60,167,506</td>\n",
       "      <td>60,992,977</td>\n",
       "      <td>825,471</td>\n",
       "      <td>1.37%</td>\n",
       "    </tr>\n",
       "  </tbody>\n",
       "</table>\n",
       "</div>"
      ],
      "text/plain": [
       "                observed    modeled    diff percent_diff\n",
       "@facilitytype                                           \n",
       "Arterial      13,060,004 13,795,040 735,036        5.63%\n",
       "Collector         72,096     54,864 -17,232      -23.90%\n",
       "Freeway       46,455,221 46,586,992 131,771        0.28%\n",
       "HOV              246,053    290,354  44,301       18.00%\n",
       "Ramp             334,132    265,727 -68,405      -20.47%\n",
       "Total         60,167,506 60,992,977 825,471        1.37%"
      ]
     },
     "execution_count": 5,
     "metadata": {},
     "output_type": "execute_result"
    }
   ],
   "source": [
    "_df = df.groupby('@facilitytype').sum()[['observed','modeled']]\n",
    "_df.loc['Total',:] = _df.sum().values\n",
    "_df['diff'] = _df['modeled']-_df['observed']\n",
    "_df['percent_diff'] = _df['diff']/_df['observed']\n",
    "_df[['percent_diff']] = _df[['percent_diff']].applymap(format_percent)\n",
    "_df"
   ]
  },
  {
   "cell_type": "markdown",
   "metadata": {},
   "source": [
    "----\n",
    "### Daily | By County"
   ]
  },
  {
   "cell_type": "code",
   "execution_count": 6,
   "metadata": {
    "execution": {
     "iopub.execute_input": "2024-04-03T21:14:18.122118Z",
     "iopub.status.busy": "2024-04-03T21:14:18.122118Z",
     "iopub.status.idle": "2024-04-03T21:14:18.168982Z",
     "shell.execute_reply": "2024-04-03T21:14:18.168982Z"
    }
   },
   "outputs": [
    {
     "data": {
      "text/html": [
       "<div>\n",
       "<style scoped>\n",
       "    .dataframe tbody tr th:only-of-type {\n",
       "        vertical-align: middle;\n",
       "    }\n",
       "\n",
       "    .dataframe tbody tr th {\n",
       "        vertical-align: top;\n",
       "    }\n",
       "\n",
       "    .dataframe thead th {\n",
       "        text-align: right;\n",
       "    }\n",
       "</style>\n",
       "<table border=\"1\" class=\"dataframe\">\n",
       "  <thead>\n",
       "    <tr style=\"text-align: right;\">\n",
       "      <th></th>\n",
       "      <th>observed</th>\n",
       "      <th>modeled</th>\n",
       "      <th>diff</th>\n",
       "      <th>percent_diff</th>\n",
       "    </tr>\n",
       "    <tr>\n",
       "      <th>county</th>\n",
       "      <th></th>\n",
       "      <th></th>\n",
       "      <th></th>\n",
       "      <th></th>\n",
       "    </tr>\n",
       "  </thead>\n",
       "  <tbody>\n",
       "    <tr>\n",
       "      <th>King</th>\n",
       "      <td>32,134,146</td>\n",
       "      <td>33,584,480</td>\n",
       "      <td>1,450,334</td>\n",
       "      <td>4.51%</td>\n",
       "    </tr>\n",
       "    <tr>\n",
       "      <th>Kitsap</th>\n",
       "      <td>3,636,120</td>\n",
       "      <td>2,968,413</td>\n",
       "      <td>-667,707</td>\n",
       "      <td>-18.36%</td>\n",
       "    </tr>\n",
       "    <tr>\n",
       "      <th>Pierce</th>\n",
       "      <td>12,521,558</td>\n",
       "      <td>12,760,535</td>\n",
       "      <td>238,977</td>\n",
       "      <td>1.91%</td>\n",
       "    </tr>\n",
       "    <tr>\n",
       "      <th>Snohomish</th>\n",
       "      <td>11,875,682</td>\n",
       "      <td>11,679,549</td>\n",
       "      <td>-196,133</td>\n",
       "      <td>-1.65%</td>\n",
       "    </tr>\n",
       "    <tr>\n",
       "      <th>Total</th>\n",
       "      <td>60,167,506</td>\n",
       "      <td>60,992,977</td>\n",
       "      <td>825,471</td>\n",
       "      <td>1.37%</td>\n",
       "    </tr>\n",
       "  </tbody>\n",
       "</table>\n",
       "</div>"
      ],
      "text/plain": [
       "            observed    modeled      diff percent_diff\n",
       "county                                                \n",
       "King      32,134,146 33,584,480 1,450,334        4.51%\n",
       "Kitsap     3,636,120  2,968,413  -667,707      -18.36%\n",
       "Pierce    12,521,558 12,760,535   238,977        1.91%\n",
       "Snohomish 11,875,682 11,679,549  -196,133       -1.65%\n",
       "Total     60,167,506 60,992,977   825,471        1.37%"
      ]
     },
     "execution_count": 6,
     "metadata": {},
     "output_type": "execute_result"
    }
   ],
   "source": [
    "df = pd.read_csv(os.path.join(relative_path,'validation','daily_volume_county_facility.csv'))\n",
    "df[['modeled','observed']] = df[['modeled','observed']].astype('float')\n",
    "\n",
    "_df = df.groupby('county').sum()[['observed','modeled']]\n",
    "_df.loc['Total',:] = _df.sum().values\n",
    "_df['diff'] = _df['modeled']-_df['observed']\n",
    "_df['percent_diff'] = _df['diff']/_df['observed']\n",
    "_df[['percent_diff']] = _df[['percent_diff']].applymap(format_percent)\n",
    "_df"
   ]
  },
  {
   "cell_type": "markdown",
   "metadata": {},
   "source": [
    "----\n",
    "### Daily | Scatterplots "
   ]
  },
  {
   "cell_type": "code",
   "execution_count": 7,
   "metadata": {
    "execution": {
     "iopub.execute_input": "2024-04-03T21:14:18.168982Z",
     "iopub.status.busy": "2024-04-03T21:14:18.168982Z",
     "iopub.status.idle": "2024-04-03T21:14:18.372060Z",
     "shell.execute_reply": "2024-04-03T21:14:18.372060Z"
    }
   },
   "outputs": [
    {
     "data": {
      "text/plain": [
       "[<matplotlib.lines.Line2D at 0x17f6456bec8>]"
      ]
     },
     "execution_count": 7,
     "metadata": {},
     "output_type": "execute_result"
    },
    {
     "data": {
      "image/png": "[encoded data removed]",
      "text/plain": [
       "<Figure size 432x288 with 1 Axes>"
      ]
     },
     "metadata": {
      "needs_background": "light"
     },
     "output_type": "display_data"
    }
   ],
   "source": [
    "df = pd.read_csv(os.path.join(relative_path,'validation','daily_volume.csv'))\n",
    "ax = df.plot(kind='scatter', x='observed', y='modeled')\n",
    "lim = df[['observed','modeled']].max().max()*1.05\n",
    "ax.set_ylim(0,lim)\n",
    "ax.set_xlim(0,lim)\n",
    "x = np.linspace(*ax.get_xlim())\n",
    "ax.plot(x, x)"
   ]
  },
  {
   "cell_type": "code",
   "execution_count": 8,
   "metadata": {
    "execution": {
     "iopub.execute_input": "2024-04-03T21:14:18.372060Z",
     "iopub.status.busy": "2024-04-03T21:14:18.372060Z",
     "iopub.status.idle": "2024-04-03T21:14:18.403299Z",
     "shell.execute_reply": "2024-04-03T21:14:18.403299Z"
    }
   },
   "outputs": [
    {
     "name": "stdout",
     "output_type": "stream",
     "text": [
      "r^2: 0.9647073485231088\n"
     ]
    }
   ],
   "source": [
    "slope, intercept, r_value, p_value, std_err = stats.linregress(df['observed'],df['modeled'])\n",
    "print('r^2: ' + str(r_value))"
   ]
  },
  {
   "cell_type": "markdown",
   "metadata": {},
   "source": [
    "---\n",
    "By County"
   ]
  },
  {
   "cell_type": "code",
   "execution_count": 9,
   "metadata": {
    "execution": {
     "iopub.execute_input": "2024-04-03T21:14:18.403299Z",
     "iopub.status.busy": "2024-04-03T21:14:18.403299Z",
     "iopub.status.idle": "2024-04-03T21:14:18.950052Z",
     "shell.execute_reply": "2024-04-03T21:14:18.950052Z"
    }
   },
   "outputs": [
    {
     "name": "stdout",
     "output_type": "stream",
     "text": [
      "King r^2: 0.9649539620719763\n",
      "Kitsap r^2: 0.967504489970782\n",
      "Pierce r^2: 0.9720790179465222\n",
      "Snohomish r^2: 0.9494307229000939\n"
     ]
    },
    {
     "data": {
      "image/png": "[encoded data removed]",
      "text/plain": [
       "<Figure size 432x288 with 1 Axes>"
      ]
     },
     "metadata": {
      "needs_background": "light"
     },
     "output_type": "display_data"
    },
    {
     "data": {
      "image/png": "[encoded data removed]",
      "text/plain": [
       "<Figure size 432x288 with 1 Axes>"
      ]
     },
     "metadata": {
      "needs_background": "light"
     },
     "output_type": "display_data"
    },
    {
     "data": {
      "image/png": "[encoded data removed]",
      "text/plain": [
       "<Figure size 432x288 with 1 Axes>"
      ]
     },
     "metadata": {
      "needs_background": "light"
     },
     "output_type": "display_data"
    },
    {
     "data": {
      "image/png": "[encoded data removed]",
      "text/plain": [
       "<Figure size 432x288 with 1 Axes>"
      ]
     },
     "metadata": {
      "needs_background": "light"
     },
     "output_type": "display_data"
    }
   ],
   "source": [
    "for county in np.unique(df['county']):\n",
    "    _df = df[df['county'] == county]\n",
    "    ax = _df.plot(kind='scatter', x='observed', y='modeled', label=county)\n",
    "    lim = _df[['observed','modeled']].max().max()*1.05\n",
    "    ax.set_ylim(0,lim)\n",
    "    ax.set_xlim(0,lim)\n",
    "    slope, intercept, r_value, p_value, std_err = stats.linregress(_df['observed'],_df['modeled'])\n",
    "    x = np.linspace(*ax.get_xlim())\n",
    "    ax.plot(x, x)\n",
    "    print(str(county) + ' r^2: ' + str(r_value))"
   ]
  },
  {
   "cell_type": "markdown",
   "metadata": {},
   "source": [
    "---\n",
    "By Facility Type"
   ]
  },
  {
   "cell_type": "code",
   "execution_count": 10,
   "metadata": {
    "execution": {
     "iopub.execute_input": "2024-04-03T21:14:18.950052Z",
     "iopub.status.busy": "2024-04-03T21:14:18.950052Z",
     "iopub.status.idle": "2024-04-03T21:14:19.309345Z",
     "shell.execute_reply": "2024-04-03T21:14:19.309345Z"
    }
   },
   "outputs": [
    {
     "name": "stdout",
     "output_type": "stream",
     "text": [
      "r^2 Freeway: 0.9560648163516348\n"
     ]
    },
    {
     "data": {
      "image/png": "[encoded data removed]",
      "text/plain": [
       "<Figure size 432x288 with 1 Axes>"
      ]
     },
     "metadata": {
      "needs_background": "light"
     },
     "output_type": "display_data"
    }
   ],
   "source": [
    "for factype in ['Freeway']:\n",
    "    _df = df[df['@facilitytype'] == factype]\n",
    "    ax = _df.plot(kind='scatter', x='observed', y='modeled', label=factype)\n",
    "    lim = _df[['observed','modeled']].max().max()*1.05\n",
    "    ax.set_ylim(0,lim)\n",
    "    ax.set_xlim(0,lim)\n",
    "    x = np.linspace(*ax.get_xlim())\n",
    "    ax.plot(x, x)\n",
    "    slope, intercept, r_value, p_value, std_err = stats.linregress(_df['observed'],_df['modeled'])\n",
    "    print('r^2 ' + str(factype) + ': ' + str(r_value))"
   ]
  },
  {
   "cell_type": "markdown",
   "metadata": {},
   "source": [
    "**Hourly Volumes**\n"
   ]
  },
  {
   "cell_type": "code",
   "execution_count": 11,
   "metadata": {
    "execution": {
     "iopub.execute_input": "2024-04-03T21:14:19.309345Z",
     "iopub.status.busy": "2024-04-03T21:14:19.309345Z",
     "iopub.status.idle": "2024-04-03T21:14:19.465557Z",
     "shell.execute_reply": "2024-04-03T21:14:19.465557Z"
    }
   },
   "outputs": [
    {
     "name": "stdout",
     "output_type": "stream",
     "text": [
      "r^2: 0.6429828334356874\n"
     ]
    },
    {
     "data": {
      "image/png": "[encoded data removed]",
      "text/plain": [
       "<Figure size 432x288 with 1 Axes>"
      ]
     },
     "metadata": {
      "needs_background": "light"
     },
     "output_type": "display_data"
    }
   ],
   "source": [
    "df = pd.read_csv(os.path.join(relative_path,'validation','hourly_volume.csv'))\n",
    "ax = df.plot(kind='scatter', x='observed', y='modeled')\n",
    "lim = df[['observed','modeled']].max().max()*1.05\n",
    "ax.set_ylim(0,lim)\n",
    "ax.set_xlim(0,lim)\n",
    "x = np.linspace(*ax.get_xlim())\n",
    "ax.plot(x, x)\n",
    "slope, intercept, r_value, p_value, std_err = stats.linregress(df['observed'],df['modeled'])\n",
    "print('r^2: ' + str(r_value))"
   ]
  },
  {
   "cell_type": "markdown",
   "metadata": {},
   "source": [
    "# Screenlines"
   ]
  },
  {
   "cell_type": "code",
   "execution_count": 12,
   "metadata": {
    "execution": {
     "iopub.execute_input": "2024-04-03T21:14:19.465557Z",
     "iopub.status.busy": "2024-04-03T21:14:19.465557Z",
     "iopub.status.idle": "2024-04-03T21:14:19.496799Z",
     "shell.execute_reply": "2024-04-03T21:14:19.496799Z"
    }
   },
   "outputs": [
    {
     "data": {
      "text/html": [
       "<div>\n",
       "<style scoped>\n",
       "    .dataframe tbody tr th:only-of-type {\n",
       "        vertical-align: middle;\n",
       "    }\n",
       "\n",
       "    .dataframe tbody tr th {\n",
       "        vertical-align: top;\n",
       "    }\n",
       "\n",
       "    .dataframe thead th {\n",
       "        text-align: right;\n",
       "    }\n",
       "</style>\n",
       "<table border=\"1\" class=\"dataframe\">\n",
       "  <thead>\n",
       "    <tr style=\"text-align: right;\">\n",
       "      <th></th>\n",
       "      <th>name</th>\n",
       "      <th>observed</th>\n",
       "      <th>modeled</th>\n",
       "      <th>county</th>\n",
       "      <th>diff</th>\n",
       "      <th>percent_diff</th>\n",
       "    </tr>\n",
       "  </thead>\n",
       "  <tbody>\n",
       "    <tr>\n",
       "      <th>0</th>\n",
       "      <td>AUBURN - SOUTH KING</td>\n",
       "      <td>592,476</td>\n",
       "      <td>538,040</td>\n",
       "      <td>King</td>\n",
       "      <td>-54,436</td>\n",
       "      <td>-9.19%</td>\n",
       "    </tr>\n",
       "    <tr>\n",
       "      <th>1</th>\n",
       "      <td>KENT</td>\n",
       "      <td>559,335</td>\n",
       "      <td>502,388</td>\n",
       "      <td>King</td>\n",
       "      <td>-56,947</td>\n",
       "      <td>-10.18%</td>\n",
       "    </tr>\n",
       "    <tr>\n",
       "      <th>2</th>\n",
       "      <td>SHIP CANAL</td>\n",
       "      <td>480,070</td>\n",
       "      <td>531,475</td>\n",
       "      <td>King</td>\n",
       "      <td>51,405</td>\n",
       "      <td>10.71%</td>\n",
       "    </tr>\n",
       "    <tr>\n",
       "      <th>3</th>\n",
       "      <td>SEATTLE - SOUTH OF CBD</td>\n",
       "      <td>473,322</td>\n",
       "      <td>492,855</td>\n",
       "      <td>King</td>\n",
       "      <td>19,533</td>\n",
       "      <td>4.13%</td>\n",
       "    </tr>\n",
       "    <tr>\n",
       "      <th>4</th>\n",
       "      <td>MILL CREEK</td>\n",
       "      <td>391,447</td>\n",
       "      <td>377,731</td>\n",
       "      <td>King</td>\n",
       "      <td>-13,716</td>\n",
       "      <td>-3.50%</td>\n",
       "    </tr>\n",
       "    <tr>\n",
       "      <th>5</th>\n",
       "      <td>SOUTH BELLEVUE</td>\n",
       "      <td>389,700</td>\n",
       "      <td>374,515</td>\n",
       "      <td>King</td>\n",
       "      <td>-15,185</td>\n",
       "      <td>-3.90%</td>\n",
       "    </tr>\n",
       "    <tr>\n",
       "      <th>6</th>\n",
       "      <td>KIRKLAND-REDMOND</td>\n",
       "      <td>381,663</td>\n",
       "      <td>401,666</td>\n",
       "      <td>King</td>\n",
       "      <td>20,003</td>\n",
       "      <td>5.24%</td>\n",
       "    </tr>\n",
       "    <tr>\n",
       "      <th>7</th>\n",
       "      <td>SEATTLE - NORTH</td>\n",
       "      <td>356,051</td>\n",
       "      <td>367,485</td>\n",
       "      <td>King</td>\n",
       "      <td>11,434</td>\n",
       "      <td>3.21%</td>\n",
       "    </tr>\n",
       "    <tr>\n",
       "      <th>8</th>\n",
       "      <td>TACOMA - EAST OF CBD</td>\n",
       "      <td>324,463</td>\n",
       "      <td>355,134</td>\n",
       "      <td>Pierce</td>\n",
       "      <td>30,671</td>\n",
       "      <td>9.45%</td>\n",
       "    </tr>\n",
       "    <tr>\n",
       "      <th>9</th>\n",
       "      <td>PARKLAND</td>\n",
       "      <td>299,722</td>\n",
       "      <td>275,626</td>\n",
       "      <td>Pierce</td>\n",
       "      <td>-24,096</td>\n",
       "      <td>-8.04%</td>\n",
       "    </tr>\n",
       "    <tr>\n",
       "      <th>10</th>\n",
       "      <td>BOTHELL</td>\n",
       "      <td>291,573</td>\n",
       "      <td>316,420</td>\n",
       "      <td>King</td>\n",
       "      <td>24,847</td>\n",
       "      <td>8.52%</td>\n",
       "    </tr>\n",
       "    <tr>\n",
       "      <th>11</th>\n",
       "      <td>LYNNWOOD-BOTHELL</td>\n",
       "      <td>260,099</td>\n",
       "      <td>294,652</td>\n",
       "      <td>King</td>\n",
       "      <td>34,553</td>\n",
       "      <td>13.28%</td>\n",
       "    </tr>\n",
       "    <tr>\n",
       "      <th>12</th>\n",
       "      <td>TUKWILA</td>\n",
       "      <td>257,776</td>\n",
       "      <td>235,607</td>\n",
       "      <td>King</td>\n",
       "      <td>-22,169</td>\n",
       "      <td>-8.60%</td>\n",
       "    </tr>\n",
       "    <tr>\n",
       "      <th>13</th>\n",
       "      <td>TRANSLAKE</td>\n",
       "      <td>222,188</td>\n",
       "      <td>246,035</td>\n",
       "      <td>King</td>\n",
       "      <td>23,847</td>\n",
       "      <td>10.73%</td>\n",
       "    </tr>\n",
       "    <tr>\n",
       "      <th>14</th>\n",
       "      <td>PUYALLUP</td>\n",
       "      <td>128,700</td>\n",
       "      <td>115,314</td>\n",
       "      <td>Pierce</td>\n",
       "      <td>-13,386</td>\n",
       "      <td>-10.40%</td>\n",
       "    </tr>\n",
       "    <tr>\n",
       "      <th>15</th>\n",
       "      <td>WOODINVILLE</td>\n",
       "      <td>116,355</td>\n",
       "      <td>147,030</td>\n",
       "      <td>King</td>\n",
       "      <td>30,675</td>\n",
       "      <td>26.36%</td>\n",
       "    </tr>\n",
       "    <tr>\n",
       "      <th>16</th>\n",
       "      <td>NORTH KITSAP</td>\n",
       "      <td>104,890</td>\n",
       "      <td>77,426</td>\n",
       "      <td>Kitsap</td>\n",
       "      <td>-27,464</td>\n",
       "      <td>-26.18%</td>\n",
       "    </tr>\n",
       "    <tr>\n",
       "      <th>17</th>\n",
       "      <td>TACOMA NARROWS</td>\n",
       "      <td>97,300</td>\n",
       "      <td>104,303</td>\n",
       "      <td>Pierce</td>\n",
       "      <td>7,003</td>\n",
       "      <td>7.20%</td>\n",
       "    </tr>\n",
       "    <tr>\n",
       "      <th>18</th>\n",
       "      <td>PRESTON-ISSAQUAH</td>\n",
       "      <td>86,462</td>\n",
       "      <td>90,965</td>\n",
       "      <td>King</td>\n",
       "      <td>4,503</td>\n",
       "      <td>5.21%</td>\n",
       "    </tr>\n",
       "    <tr>\n",
       "      <th>19</th>\n",
       "      <td>GIG HARBOR</td>\n",
       "      <td>84,875</td>\n",
       "      <td>88,110</td>\n",
       "      <td>Pierce</td>\n",
       "      <td>3,235</td>\n",
       "      <td>3.81%</td>\n",
       "    </tr>\n",
       "    <tr>\n",
       "      <th>20</th>\n",
       "      <td>SEATAC</td>\n",
       "      <td>72,402</td>\n",
       "      <td>92,766</td>\n",
       "      <td>King</td>\n",
       "      <td>20,364</td>\n",
       "      <td>28.13%</td>\n",
       "    </tr>\n",
       "    <tr>\n",
       "      <th>21</th>\n",
       "      <td>MAPLE VALLEY</td>\n",
       "      <td>70,813</td>\n",
       "      <td>67,045</td>\n",
       "      <td>King</td>\n",
       "      <td>-3,768</td>\n",
       "      <td>-5.32%</td>\n",
       "    </tr>\n",
       "    <tr>\n",
       "      <th>22</th>\n",
       "      <td>RENTON</td>\n",
       "      <td>68,127</td>\n",
       "      <td>67,113</td>\n",
       "      <td>King</td>\n",
       "      <td>-1,014</td>\n",
       "      <td>-1.49%</td>\n",
       "    </tr>\n",
       "    <tr>\n",
       "      <th>23</th>\n",
       "      <td>AGATE PASS BRIDGE</td>\n",
       "      <td>21,000</td>\n",
       "      <td>20,515</td>\n",
       "      <td>Kitsap</td>\n",
       "      <td>-485</td>\n",
       "      <td>-2.31%</td>\n",
       "    </tr>\n",
       "    <tr>\n",
       "      <th>24</th>\n",
       "      <td>CROSS SOUND</td>\n",
       "      <td>14,565</td>\n",
       "      <td>20,009</td>\n",
       "      <td>Kitsap</td>\n",
       "      <td>5,444</td>\n",
       "      <td>37.38%</td>\n",
       "    </tr>\n",
       "    <tr>\n",
       "      <th>25</th>\n",
       "      <td>TOTAL</td>\n",
       "      <td>6,145,374</td>\n",
       "      <td>6,200,225</td>\n",
       "      <td>NaN</td>\n",
       "      <td>54,851</td>\n",
       "      <td>0.89%</td>\n",
       "    </tr>\n",
       "  </tbody>\n",
       "</table>\n",
       "</div>"
      ],
      "text/plain": [
       "                      name  observed   modeled  county    diff percent_diff\n",
       "0      AUBURN - SOUTH KING   592,476   538,040    King -54,436       -9.19%\n",
       "1                     KENT   559,335   502,388    King -56,947      -10.18%\n",
       "2               SHIP CANAL   480,070   531,475    King  51,405       10.71%\n",
       "3   SEATTLE - SOUTH OF CBD   473,322   492,855    King  19,533        4.13%\n",
       "4               MILL CREEK   391,447   377,731    King -13,716       -3.50%\n",
       "5           SOUTH BELLEVUE   389,700   374,515    King -15,185       -3.90%\n",
       "6         KIRKLAND-REDMOND   381,663   401,666    King  20,003        5.24%\n",
       "7          SEATTLE - NORTH   356,051   367,485    King  11,434        3.21%\n",
       "8     TACOMA - EAST OF CBD   324,463   355,134  Pierce  30,671        9.45%\n",
       "9                 PARKLAND   299,722   275,626  Pierce -24,096       -8.04%\n",
       "10                 BOTHELL   291,573   316,420    King  24,847        8.52%\n",
       "11        LYNNWOOD-BOTHELL   260,099   294,652    King  34,553       13.28%\n",
       "12                 TUKWILA   257,776   235,607    King -22,169       -8.60%\n",
       "13               TRANSLAKE   222,188   246,035    King  23,847       10.73%\n",
       "14                PUYALLUP   128,700   115,314  Pierce -13,386      -10.40%\n",
       "15             WOODINVILLE   116,355   147,030    King  30,675       26.36%\n",
       "16            NORTH KITSAP   104,890    77,426  Kitsap -27,464      -26.18%\n",
       "17          TACOMA NARROWS    97,300   104,303  Pierce   7,003        7.20%\n",
       "18        PRESTON-ISSAQUAH    86,462    90,965    King   4,503        5.21%\n",
       "19              GIG HARBOR    84,875    88,110  Pierce   3,235        3.81%\n",
       "20                  SEATAC    72,402    92,766    King  20,364       28.13%\n",
       "21            MAPLE VALLEY    70,813    67,045    King  -3,768       -5.32%\n",
       "22                  RENTON    68,127    67,113    King  -1,014       -1.49%\n",
       "23       AGATE PASS BRIDGE    21,000    20,515  Kitsap    -485       -2.31%\n",
       "24             CROSS SOUND    14,565    20,009  Kitsap   5,444       37.38%\n",
       "25                   TOTAL 6,145,374 6,200,225     NaN  54,851        0.89%"
      ]
     },
     "execution_count": 12,
     "metadata": {},
     "output_type": "execute_result"
    }
   ],
   "source": [
    "df = pd.read_csv(os.path.join(relative_path,'validation','screenlines.csv'))\n",
    "df = df.append(df.sum(numeric_only=True), ignore_index=True)\n",
    "df.at[df.index[-1], 'name'] = 'TOTAL'\n",
    "#df.at['C', 'name'] = 10\n",
    "df['percent_diff'] = df['diff']/df['observed']\n",
    "df[['percent_diff']] = df[['percent_diff']].applymap(format_percent)\n",
    "df"
   ]
  },
  {
   "cell_type": "code",
   "execution_count": 13,
   "metadata": {
    "execution": {
     "iopub.execute_input": "2024-04-03T21:14:19.496799Z",
     "iopub.status.busy": "2024-04-03T21:14:19.496799Z",
     "iopub.status.idle": "2024-04-03T21:14:19.606152Z",
     "shell.execute_reply": "2024-04-03T21:14:19.606152Z"
    }
   },
   "outputs": [
    {
     "name": "stdout",
     "output_type": "stream",
     "text": [
      "r^2 : 0.9884148689029894\n"
     ]
    },
    {
     "data": {
      "image/png": "[encoded data removed]",
      "text/plain": [
       "<Figure size 432x288 with 1 Axes>"
      ]
     },
     "metadata": {
      "needs_background": "light"
     },
     "output_type": "display_data"
    }
   ],
   "source": [
    "df = df.head(-1)\n",
    "ax = df.plot(kind='scatter', x='observed', y='modeled')\n",
    "lim = df[['observed','modeled']].max().max()*1.05\n",
    "ax.set_ylim(0,lim)\n",
    "ax.set_xlim(0,lim)\n",
    "x = np.linspace(*ax.get_xlim())\n",
    "ax.plot(x, x)\n",
    "slope, intercept, r_value, p_value, std_err = stats.linregress(df['observed'],df['modeled'])\n",
    "print('r^2 : ' + str(r_value))"
   ]
  },
  {
   "cell_type": "markdown",
   "metadata": {},
   "source": [
    "# Transit Boarding\n",
    "----\n",
    "### By Agency"
   ]
  },
  {
   "cell_type": "code",
   "execution_count": 14,
   "metadata": {
    "execution": {
     "iopub.execute_input": "2024-04-03T21:14:19.606152Z",
     "iopub.status.busy": "2024-04-03T21:14:19.606152Z",
     "iopub.status.idle": "2024-04-03T21:14:19.637395Z",
     "shell.execute_reply": "2024-04-03T21:14:19.637395Z"
    }
   },
   "outputs": [
    {
     "data": {
      "text/html": [
       "<div>\n",
       "<style scoped>\n",
       "    .dataframe tbody tr th:only-of-type {\n",
       "        vertical-align: middle;\n",
       "    }\n",
       "\n",
       "    .dataframe tbody tr th {\n",
       "        vertical-align: top;\n",
       "    }\n",
       "\n",
       "    .dataframe thead th {\n",
       "        text-align: right;\n",
       "    }\n",
       "</style>\n",
       "<table border=\"1\" class=\"dataframe\">\n",
       "  <thead>\n",
       "    <tr style=\"text-align: right;\">\n",
       "      <th></th>\n",
       "      <th>agency</th>\n",
       "      <th>observed_boardings</th>\n",
       "      <th>model_boardings</th>\n",
       "      <th>diff</th>\n",
       "      <th>perc_diff</th>\n",
       "    </tr>\n",
       "  </thead>\n",
       "  <tbody>\n",
       "    <tr>\n",
       "      <th>2</th>\n",
       "      <td>King County Metro</td>\n",
       "      <td>253,314</td>\n",
       "      <td>325,074</td>\n",
       "      <td>71,761</td>\n",
       "      <td>28.33%</td>\n",
       "    </tr>\n",
       "    <tr>\n",
       "      <th>5</th>\n",
       "      <td>Sound Transit</td>\n",
       "      <td>113,374</td>\n",
       "      <td>119,775</td>\n",
       "      <td>6,401</td>\n",
       "      <td>5.65%</td>\n",
       "    </tr>\n",
       "    <tr>\n",
       "      <th>0</th>\n",
       "      <td>Community Transit</td>\n",
       "      <td>25,962</td>\n",
       "      <td>20,965</td>\n",
       "      <td>-4,997</td>\n",
       "      <td>-19.25%</td>\n",
       "    </tr>\n",
       "    <tr>\n",
       "      <th>4</th>\n",
       "      <td>Pierce Transit</td>\n",
       "      <td>21,185</td>\n",
       "      <td>17,228</td>\n",
       "      <td>-3,957</td>\n",
       "      <td>-18.68%</td>\n",
       "    </tr>\n",
       "    <tr>\n",
       "      <th>6</th>\n",
       "      <td>Washington Ferries</td>\n",
       "      <td>9,278</td>\n",
       "      <td>7,055</td>\n",
       "      <td>-2,223</td>\n",
       "      <td>-23.96%</td>\n",
       "    </tr>\n",
       "    <tr>\n",
       "      <th>3</th>\n",
       "      <td>Kitsap Transit</td>\n",
       "      <td>8,258</td>\n",
       "      <td>15,358</td>\n",
       "      <td>7,100</td>\n",
       "      <td>85.98%</td>\n",
       "    </tr>\n",
       "    <tr>\n",
       "      <th>1</th>\n",
       "      <td>Everett Transit</td>\n",
       "      <td>4,201</td>\n",
       "      <td>2,847</td>\n",
       "      <td>-1,354</td>\n",
       "      <td>-32.22%</td>\n",
       "    </tr>\n",
       "  </tbody>\n",
       "</table>\n",
       "</div>"
      ],
      "text/plain": [
       "               agency  observed_boardings  model_boardings   diff perc_diff\n",
       "2   King County Metro             253,314          325,074 71,761    28.33%\n",
       "5       Sound Transit             113,374          119,775  6,401     5.65%\n",
       "0   Community Transit              25,962           20,965 -4,997   -19.25%\n",
       "4      Pierce Transit              21,185           17,228 -3,957   -18.68%\n",
       "6  Washington Ferries               9,278            7,055 -2,223   -23.96%\n",
       "3      Kitsap Transit               8,258           15,358  7,100    85.98%\n",
       "1     Everett Transit               4,201            2,847 -1,354   -32.22%"
      ]
     },
     "execution_count": 14,
     "metadata": {},
     "output_type": "execute_result"
    }
   ],
   "source": [
    "df = pd.read_csv(os.path.join(relative_path,'validation/') + 'daily_boardings_by_agency.csv')\n",
    "\n",
    "df[['observed_boardings','model_boardings','diff']] = df[['observed_boardings','model_boardings','diff']].astype('float')\n",
    "df[['perc_diff']] = df[['perc_diff']].applymap(format_percent)\n",
    "df.sort_values('observed_boardings', ascending=False)"
   ]
  },
  {
   "cell_type": "markdown",
   "metadata": {},
   "source": [
    "----\n",
    "### Key Routes\n",
    "#### Ferries"
   ]
  },
  {
   "cell_type": "code",
   "execution_count": 15,
   "metadata": {
    "execution": {
     "iopub.execute_input": "2024-04-03T21:14:19.637395Z",
     "iopub.status.busy": "2024-04-03T21:14:19.637395Z",
     "iopub.status.idle": "2024-04-03T21:14:19.746742Z",
     "shell.execute_reply": "2024-04-03T21:14:19.746742Z"
    }
   },
   "outputs": [
    {
     "data": {
      "text/html": [
       "<div>\n",
       "<style scoped>\n",
       "    .dataframe tbody tr th:only-of-type {\n",
       "        vertical-align: middle;\n",
       "    }\n",
       "\n",
       "    .dataframe tbody tr th {\n",
       "        vertical-align: top;\n",
       "    }\n",
       "\n",
       "    .dataframe thead th {\n",
       "        text-align: right;\n",
       "    }\n",
       "</style>\n",
       "<table border=\"1\" class=\"dataframe\">\n",
       "  <thead>\n",
       "    <tr style=\"text-align: right;\">\n",
       "      <th></th>\n",
       "      <th>description</th>\n",
       "      <th>observed_boardings</th>\n",
       "      <th>model_boardings</th>\n",
       "      <th>diff</th>\n",
       "      <th>perc_diff</th>\n",
       "    </tr>\n",
       "  </thead>\n",
       "  <tbody>\n",
       "    <tr>\n",
       "      <th>0</th>\n",
       "      <td>973 W Sea Water Taxi</td>\n",
       "      <td>759</td>\n",
       "      <td>344</td>\n",
       "      <td>-415</td>\n",
       "      <td>-54.71%</td>\n",
       "    </tr>\n",
       "    <tr>\n",
       "      <th>1</th>\n",
       "      <td>975 Vashn Water Taxi</td>\n",
       "      <td>338</td>\n",
       "      <td>431</td>\n",
       "      <td>93</td>\n",
       "      <td>27.46%</td>\n",
       "    </tr>\n",
       "    <tr>\n",
       "      <th>2</th>\n",
       "      <td>WSF Edmonds-Kingston</td>\n",
       "      <td>1,500</td>\n",
       "      <td>182</td>\n",
       "      <td>-1,318</td>\n",
       "      <td>-87.84%</td>\n",
       "    </tr>\n",
       "    <tr>\n",
       "      <th>3</th>\n",
       "      <td>WSF Seattle-Bain Isl</td>\n",
       "      <td>5,514</td>\n",
       "      <td>4,997</td>\n",
       "      <td>-516</td>\n",
       "      <td>-9.36%</td>\n",
       "    </tr>\n",
       "    <tr>\n",
       "      <th>4</th>\n",
       "      <td>WSF Seattle-Brem</td>\n",
       "      <td>1,189</td>\n",
       "      <td>247</td>\n",
       "      <td>-942</td>\n",
       "      <td>-79.24%</td>\n",
       "    </tr>\n",
       "    <tr>\n",
       "      <th>5</th>\n",
       "      <td>WSF Fauntleroy-Swrth</td>\n",
       "      <td>143</td>\n",
       "      <td>500</td>\n",
       "      <td>357</td>\n",
       "      <td>250.70%</td>\n",
       "    </tr>\n",
       "    <tr>\n",
       "      <th>6</th>\n",
       "      <td>WSF Fauntleroy-Vashn</td>\n",
       "      <td>560</td>\n",
       "      <td>787</td>\n",
       "      <td>227</td>\n",
       "      <td>40.51%</td>\n",
       "    </tr>\n",
       "    <tr>\n",
       "      <th>7</th>\n",
       "      <td>WSF Vashon-Southwrth</td>\n",
       "      <td>108</td>\n",
       "      <td>111</td>\n",
       "      <td>4</td>\n",
       "      <td>3.42%</td>\n",
       "    </tr>\n",
       "    <tr>\n",
       "      <th>8</th>\n",
       "      <td>WSF Pt Def-Tahlequah</td>\n",
       "      <td>265</td>\n",
       "      <td>230</td>\n",
       "      <td>-35</td>\n",
       "      <td>-13.18%</td>\n",
       "    </tr>\n",
       "  </tbody>\n",
       "</table>\n",
       "</div>"
      ],
      "text/plain": [
       "            description  observed_boardings  model_boardings   diff perc_diff\n",
       "0  973 W Sea Water Taxi                 759              344   -415   -54.71%\n",
       "1  975 Vashn Water Taxi                 338              431     93    27.46%\n",
       "2  WSF Edmonds-Kingston               1,500              182 -1,318   -87.84%\n",
       "3  WSF Seattle-Bain Isl               5,514            4,997   -516    -9.36%\n",
       "4      WSF Seattle-Brem               1,189              247   -942   -79.24%\n",
       "5  WSF Fauntleroy-Swrth                 143              500    357   250.70%\n",
       "6  WSF Fauntleroy-Vashn                 560              787    227    40.51%\n",
       "7  WSF Vashon-Southwrth                 108              111      4     3.42%\n",
       "8  WSF Pt Def-Tahlequah                 265              230    -35   -13.18%"
      ]
     },
     "execution_count": 15,
     "metadata": {},
     "output_type": "execute_result"
    }
   ],
   "source": [
    "df = pd.read_csv(os.path.join(relative_path,'validation/') + 'daily_boardings_key_routes.csv', index_col='description')\n",
    "df[['observed_boardings','model_boardings']] = df[['observed_boardings','model_boardings']].astype('float')\n",
    "_df = df[df['route_code'].isin([5001,5002,5003,5004,5005,5006,5007,1973,1975])].reset_index()\n",
    "_df.drop(['route_code','agency'], axis=1, inplace=True)\n",
    "_df[['perc_diff']] = _df[['perc_diff']].applymap(format_percent)\n",
    "_df"
   ]
  },
  {
   "cell_type": "code",
   "execution_count": 16,
   "metadata": {
    "execution": {
     "iopub.execute_input": "2024-04-03T21:14:19.746742Z",
     "iopub.status.busy": "2024-04-03T21:14:19.746742Z",
     "iopub.status.idle": "2024-04-03T21:14:19.762365Z",
     "shell.execute_reply": "2024-04-03T21:14:19.762365Z"
    }
   },
   "outputs": [
    {
     "name": "stdout",
     "output_type": "stream",
     "text": [
      "r^2 : 0.94428952752592\n"
     ]
    },
    {
     "data": {
      "image/png": "[encoded data removed]",
      "text/plain": [
       "<Figure size 432x288 with 1 Axes>"
      ]
     },
     "metadata": {
      "needs_background": "light"
     },
     "output_type": "display_data"
    }
   ],
   "source": [
    "if len(_df) > 0:\n",
    "    ax = _df.plot(kind='scatter', x='observed_boardings', y='model_boardings')\n",
    "    lim = _df[['observed_boardings','model_boardings']].max().max()*1.05\n",
    "    ax.set_ylim(0,lim)\n",
    "    ax.set_xlim(0,lim)\n",
    "    x = np.linspace(*ax.get_xlim())\n",
    "    ax.plot(x, x)\n",
    "    slope, intercept, r_value, p_value, std_err = stats.linregress(_df['observed_boardings'],_df['model_boardings'])\n",
    "    print('r^2 ' + str('') + ': ' + str(r_value))"
   ]
  },
  {
   "cell_type": "markdown",
   "metadata": {},
   "source": [
    "#### Bikes on Ferries"
   ]
  },
  {
   "cell_type": "code",
   "execution_count": 17,
   "metadata": {
    "execution": {
     "iopub.execute_input": "2024-04-03T21:14:19.762365Z",
     "iopub.status.busy": "2024-04-03T21:14:19.762365Z",
     "iopub.status.idle": "2024-04-03T21:14:19.777985Z",
     "shell.execute_reply": "2024-04-03T21:14:19.777985Z"
    }
   },
   "outputs": [
    {
     "data": {
      "text/html": [
       "<div>\n",
       "<style scoped>\n",
       "    .dataframe tbody tr th:only-of-type {\n",
       "        vertical-align: middle;\n",
       "    }\n",
       "\n",
       "    .dataframe tbody tr th {\n",
       "        vertical-align: top;\n",
       "    }\n",
       "\n",
       "    .dataframe thead th {\n",
       "        text-align: right;\n",
       "    }\n",
       "</style>\n",
       "<table border=\"1\" class=\"dataframe\">\n",
       "  <thead>\n",
       "    <tr style=\"text-align: right;\">\n",
       "      <th></th>\n",
       "      <th>route_code</th>\n",
       "      <th>description</th>\n",
       "      <th>@bvol</th>\n",
       "    </tr>\n",
       "  </thead>\n",
       "  <tbody>\n",
       "    <tr>\n",
       "      <th>4</th>\n",
       "      <td>4202</td>\n",
       "      <td>Brem-Annapolis FF</td>\n",
       "      <td>537</td>\n",
       "    </tr>\n",
       "    <tr>\n",
       "      <th>2</th>\n",
       "      <td>4200</td>\n",
       "      <td>Seattle-Bremerton FF</td>\n",
       "      <td>430</td>\n",
       "    </tr>\n",
       "    <tr>\n",
       "      <th>3</th>\n",
       "      <td>4201</td>\n",
       "      <td>Brem-Pt Orchard FF</td>\n",
       "      <td>386</td>\n",
       "    </tr>\n",
       "    <tr>\n",
       "      <th>0</th>\n",
       "      <td>1973</td>\n",
       "      <td>973 W Sea Water Taxi</td>\n",
       "      <td>353</td>\n",
       "    </tr>\n",
       "    <tr>\n",
       "      <th>1</th>\n",
       "      <td>1975</td>\n",
       "      <td>975 Vashn Water Taxi</td>\n",
       "      <td>177</td>\n",
       "    </tr>\n",
       "    <tr>\n",
       "      <th>5</th>\n",
       "      <td>4203</td>\n",
       "      <td>Seattle-Kingston FF</td>\n",
       "      <td>170</td>\n",
       "    </tr>\n",
       "    <tr>\n",
       "      <th>12</th>\n",
       "      <td>5007</td>\n",
       "      <td>WSF Pt Def-Tahlequah</td>\n",
       "      <td>143</td>\n",
       "    </tr>\n",
       "    <tr>\n",
       "      <th>11</th>\n",
       "      <td>5005</td>\n",
       "      <td>WSF Fauntleroy-Vashn</td>\n",
       "      <td>119</td>\n",
       "    </tr>\n",
       "    <tr>\n",
       "      <th>8</th>\n",
       "      <td>5002</td>\n",
       "      <td>WSF Seattle-Bain Isl</td>\n",
       "      <td>103</td>\n",
       "    </tr>\n",
       "    <tr>\n",
       "      <th>10</th>\n",
       "      <td>5004</td>\n",
       "      <td>WSF Fauntleroy-Swrth</td>\n",
       "      <td>51</td>\n",
       "    </tr>\n",
       "    <tr>\n",
       "      <th>7</th>\n",
       "      <td>5001</td>\n",
       "      <td>WSF Edmonds-Kingston</td>\n",
       "      <td>23</td>\n",
       "    </tr>\n",
       "    <tr>\n",
       "      <th>9</th>\n",
       "      <td>5003</td>\n",
       "      <td>WSF Seattle-Brem</td>\n",
       "      <td>23</td>\n",
       "    </tr>\n",
       "    <tr>\n",
       "      <th>6</th>\n",
       "      <td>4204</td>\n",
       "      <td>Seattle-Southwrth FF</td>\n",
       "      <td>11</td>\n",
       "    </tr>\n",
       "  </tbody>\n",
       "</table>\n",
       "</div>"
      ],
      "text/plain": [
       "    route_code           description  @bvol\n",
       "4         4202     Brem-Annapolis FF    537\n",
       "2         4200  Seattle-Bremerton FF    430\n",
       "3         4201    Brem-Pt Orchard FF    386\n",
       "0         1973  973 W Sea Water Taxi    353\n",
       "1         1975  975 Vashn Water Taxi    177\n",
       "5         4203   Seattle-Kingston FF    170\n",
       "12        5007  WSF Pt Def-Tahlequah    143\n",
       "11        5005  WSF Fauntleroy-Vashn    119\n",
       "8         5002  WSF Seattle-Bain Isl    103\n",
       "10        5004  WSF Fauntleroy-Swrth     51\n",
       "7         5001  WSF Edmonds-Kingston     23\n",
       "9         5003      WSF Seattle-Brem     23\n",
       "6         4204  Seattle-Southwrth FF     11"
      ]
     },
     "execution_count": 17,
     "metadata": {},
     "output_type": "execute_result"
    }
   ],
   "source": [
    "df = pd.read_csv(os.path.join(relative_path,'validation/') + 'bike_ferry_boardings.csv')\n",
    "df['route_code'] = df['route_code'].astype('int')\n",
    "df[['route_code','description', '@bvol']].sort_values('@bvol', ascending=False)"
   ]
  },
  {
   "cell_type": "markdown",
   "metadata": {},
   "source": [
    "#### Rail"
   ]
  },
  {
   "cell_type": "code",
   "execution_count": 18,
   "metadata": {
    "execution": {
     "iopub.execute_input": "2024-04-03T21:14:19.777985Z",
     "iopub.status.busy": "2024-04-03T21:14:19.777985Z",
     "iopub.status.idle": "2024-04-03T21:14:19.809118Z",
     "shell.execute_reply": "2024-04-03T21:14:19.809118Z"
    }
   },
   "outputs": [
    {
     "data": {
      "text/html": [
       "<div>\n",
       "<style scoped>\n",
       "    .dataframe tbody tr th:only-of-type {\n",
       "        vertical-align: middle;\n",
       "    }\n",
       "\n",
       "    .dataframe tbody tr th {\n",
       "        vertical-align: top;\n",
       "    }\n",
       "\n",
       "    .dataframe thead th {\n",
       "        text-align: right;\n",
       "    }\n",
       "</style>\n",
       "<table border=\"1\" class=\"dataframe\">\n",
       "  <thead>\n",
       "    <tr style=\"text-align: right;\">\n",
       "      <th></th>\n",
       "      <th>description</th>\n",
       "      <th>observed_boardings</th>\n",
       "      <th>model_boardings</th>\n",
       "      <th>diff</th>\n",
       "      <th>perc_diff</th>\n",
       "    </tr>\n",
       "  </thead>\n",
       "  <tbody>\n",
       "    <tr>\n",
       "      <th>0</th>\n",
       "      <td>Link Red Line</td>\n",
       "      <td>79,522</td>\n",
       "      <td>59,532</td>\n",
       "      <td>-19,990</td>\n",
       "      <td>-25.14%</td>\n",
       "    </tr>\n",
       "    <tr>\n",
       "      <th>1</th>\n",
       "      <td>Sounder South</td>\n",
       "      <td>6,038</td>\n",
       "      <td>7,784</td>\n",
       "      <td>1,746</td>\n",
       "      <td>28.92%</td>\n",
       "    </tr>\n",
       "    <tr>\n",
       "      <th>2</th>\n",
       "      <td>Sounder North</td>\n",
       "      <td>316</td>\n",
       "      <td>5</td>\n",
       "      <td>-311</td>\n",
       "      <td>-98.55%</td>\n",
       "    </tr>\n",
       "  </tbody>\n",
       "</table>\n",
       "</div>"
      ],
      "text/plain": [
       "     description  observed_boardings  model_boardings    diff perc_diff\n",
       "0  Link Red Line              79,522           59,532 -19,990   -25.14%\n",
       "1  Sounder South               6,038            7,784   1,746    28.92%\n",
       "2  Sounder North                 316                5    -311   -98.55%"
      ]
     },
     "execution_count": 18,
     "metadata": {},
     "output_type": "execute_result"
    }
   ],
   "source": [
    "df = pd.read_csv(os.path.join(relative_path,'validation/') + 'daily_boardings_key_routes.csv', index_col='description')\n",
    "df[['observed_boardings','model_boardings']] = df[['observed_boardings','model_boardings']].astype('float')\n",
    "_df = df[df['route_code'].isin([6996,6999,6998])].reset_index()\n",
    "_df['description'] = _df['route_code'].map({6998: 'Sounder South', 6999: 'Sounder North',6996: 'Link Red Line'})\n",
    "_df.drop(['route_code','agency'], axis=1, inplace=True)\n",
    "_df[['perc_diff']] = _df[['perc_diff']].applymap(format_percent)\n",
    "\n",
    "_df"
   ]
  },
  {
   "cell_type": "code",
   "execution_count": 19,
   "metadata": {
    "execution": {
     "iopub.execute_input": "2024-04-03T21:14:19.811112Z",
     "iopub.status.busy": "2024-04-03T21:14:19.811112Z",
     "iopub.status.idle": "2024-04-03T21:14:19.825075Z",
     "shell.execute_reply": "2024-04-03T21:14:19.825075Z"
    }
   },
   "outputs": [
    {
     "name": "stdout",
     "output_type": "stream",
     "text": [
      "r^2 : 0.9984499075853136\n"
     ]
    },
    {
     "data": {
      "image/png": "[encoded data removed]",
      "text/plain": [
       "<Figure size 432x288 with 1 Axes>"
      ]
     },
     "metadata": {
      "needs_background": "light"
     },
     "output_type": "display_data"
    }
   ],
   "source": [
    "if len(_df) > 0: \n",
    "    ax = _df.plot(kind='scatter', x='observed_boardings', y='model_boardings')\n",
    "    lim = _df[['observed_boardings','model_boardings']].max().max()*1.05\n",
    "    ax.set_ylim(0,lim)\n",
    "    ax.set_xlim(0,lim)\n",
    "    x = np.linspace(*ax.get_xlim())\n",
    "    ax.plot(x, x)\n",
    "    slope, intercept, r_value, p_value, std_err = stats.linregress(_df['observed_boardings'],_df['model_boardings'])\n",
    "    print('r^2 ' + str('') + ': ' + str(r_value))"
   ]
  },
  {
   "cell_type": "markdown",
   "metadata": {},
   "source": [
    "#### RapidRide, Busiest Buses, Streetcar"
   ]
  },
  {
   "cell_type": "code",
   "execution_count": 20,
   "metadata": {
    "execution": {
     "iopub.execute_input": "2024-04-03T21:14:19.827183Z",
     "iopub.status.busy": "2024-04-03T21:14:19.827183Z",
     "iopub.status.idle": "2024-04-03T21:14:19.840147Z",
     "shell.execute_reply": "2024-04-03T21:14:19.840147Z"
    }
   },
   "outputs": [
    {
     "data": {
      "text/html": [
       "<div>\n",
       "<style scoped>\n",
       "    .dataframe tbody tr th:only-of-type {\n",
       "        vertical-align: middle;\n",
       "    }\n",
       "\n",
       "    .dataframe tbody tr th {\n",
       "        vertical-align: top;\n",
       "    }\n",
       "\n",
       "    .dataframe thead th {\n",
       "        text-align: right;\n",
       "    }\n",
       "</style>\n",
       "<table border=\"1\" class=\"dataframe\">\n",
       "  <thead>\n",
       "    <tr style=\"text-align: right;\">\n",
       "      <th></th>\n",
       "      <th>description</th>\n",
       "      <th>observed_boardings</th>\n",
       "      <th>model_boardings</th>\n",
       "      <th>diff</th>\n",
       "      <th>perc_diff</th>\n",
       "    </tr>\n",
       "  </thead>\n",
       "  <tbody>\n",
       "    <tr>\n",
       "      <th>6</th>\n",
       "      <td>E Line RapidRide</td>\n",
       "      <td>11,426</td>\n",
       "      <td>18,983</td>\n",
       "      <td>7,557</td>\n",
       "      <td>66.14%</td>\n",
       "    </tr>\n",
       "    <tr>\n",
       "      <th>4</th>\n",
       "      <td>C Line RapidRide</td>\n",
       "      <td>7,250</td>\n",
       "      <td>12,575</td>\n",
       "      <td>5,325</td>\n",
       "      <td>73.45%</td>\n",
       "    </tr>\n",
       "    <tr>\n",
       "      <th>1</th>\n",
       "      <td>KC Metro 40</td>\n",
       "      <td>7,208</td>\n",
       "      <td>11,186</td>\n",
       "      <td>3,978</td>\n",
       "      <td>55.18%</td>\n",
       "    </tr>\n",
       "    <tr>\n",
       "      <th>0</th>\n",
       "      <td>KC Metro 7</td>\n",
       "      <td>9,954</td>\n",
       "      <td>10,632</td>\n",
       "      <td>678</td>\n",
       "      <td>6.81%</td>\n",
       "    </tr>\n",
       "    <tr>\n",
       "      <th>5</th>\n",
       "      <td>D Line RapidRide</td>\n",
       "      <td>9,044</td>\n",
       "      <td>9,403</td>\n",
       "      <td>359</td>\n",
       "      <td>3.97%</td>\n",
       "    </tr>\n",
       "    <tr>\n",
       "      <th>10</th>\n",
       "      <td>Sound Transit 550</td>\n",
       "      <td>3,351</td>\n",
       "      <td>8,805</td>\n",
       "      <td>5,454</td>\n",
       "      <td>162.75%</td>\n",
       "    </tr>\n",
       "    <tr>\n",
       "      <th>2</th>\n",
       "      <td>A Line RapidRide</td>\n",
       "      <td>8,412</td>\n",
       "      <td>7,519</td>\n",
       "      <td>-893</td>\n",
       "      <td>-10.61%</td>\n",
       "    </tr>\n",
       "    <tr>\n",
       "      <th>7</th>\n",
       "      <td>F Line RapidRide</td>\n",
       "      <td>4,748</td>\n",
       "      <td>6,406</td>\n",
       "      <td>1,658</td>\n",
       "      <td>34.93%</td>\n",
       "    </tr>\n",
       "    <tr>\n",
       "      <th>3</th>\n",
       "      <td>B Line RapidRide</td>\n",
       "      <td>4,177</td>\n",
       "      <td>4,580</td>\n",
       "      <td>403</td>\n",
       "      <td>9.65%</td>\n",
       "    </tr>\n",
       "    <tr>\n",
       "      <th>9</th>\n",
       "      <td>First Hill Streetcar</td>\n",
       "      <td>3,900</td>\n",
       "      <td>1,192</td>\n",
       "      <td>-2,708</td>\n",
       "      <td>-69.44%</td>\n",
       "    </tr>\n",
       "    <tr>\n",
       "      <th>8</th>\n",
       "      <td>SLU Streetcar</td>\n",
       "      <td>1,050</td>\n",
       "      <td>835</td>\n",
       "      <td>-215</td>\n",
       "      <td>-20.47%</td>\n",
       "    </tr>\n",
       "  </tbody>\n",
       "</table>\n",
       "</div>"
      ],
      "text/plain": [
       "             description  observed_boardings  model_boardings   diff perc_diff\n",
       "6       E Line RapidRide              11,426           18,983  7,557    66.14%\n",
       "4       C Line RapidRide               7,250           12,575  5,325    73.45%\n",
       "1            KC Metro 40               7,208           11,186  3,978    55.18%\n",
       "0             KC Metro 7               9,954           10,632    678     6.81%\n",
       "5       D Line RapidRide               9,044            9,403    359     3.97%\n",
       "10     Sound Transit 550               3,351            8,805  5,454   162.75%\n",
       "2       A Line RapidRide               8,412            7,519   -893   -10.61%\n",
       "7       F Line RapidRide               4,748            6,406  1,658    34.93%\n",
       "3       B Line RapidRide               4,177            4,580    403     9.65%\n",
       "9   First Hill Streetcar               3,900            1,192 -2,708   -69.44%\n",
       "8          SLU Streetcar               1,050              835   -215   -20.47%"
      ]
     },
     "execution_count": 20,
     "metadata": {},
     "output_type": "execute_result"
    }
   ],
   "source": [
    "_df = df[df['route_code'].isin([1671,1672,1673,1674,1675,1676,6550,1007,1040,1997,1998])].reset_index()\n",
    "_df['description'] = _df['route_code'].map({1671: 'A Line RapidRide', 1672: 'B Line RapidRide',\n",
    "                                            1673: 'C Line RapidRide', 1674: 'D Line RapidRide',\n",
    "                                            1675: 'E Line RapidRide', 1676: 'F Line RapidRide',\n",
    "                                            6550: 'Sound Transit 550', 1040: 'KC Metro 40', 1007: 'KC Metro 7',\n",
    "                                            1997: 'SLU Streetcar', 1998: 'First Hill Streetcar'})\n",
    "_df.drop(['route_code','agency'], axis=1, inplace=True)\n",
    "_df[['perc_diff']] = _df[['perc_diff']].applymap(format_percent)\n",
    "_df.sort_values('model_boardings', ascending=False)"
   ]
  },
  {
   "cell_type": "code",
   "execution_count": 21,
   "metadata": {
    "execution": {
     "iopub.execute_input": "2024-04-03T21:14:19.842142Z",
     "iopub.status.busy": "2024-04-03T21:14:19.842142Z",
     "iopub.status.idle": "2024-04-03T21:14:19.855107Z",
     "shell.execute_reply": "2024-04-03T21:14:19.855107Z"
    }
   },
   "outputs": [
    {
     "name": "stdout",
     "output_type": "stream",
     "text": [
      "r^2 : 0.8212065876490482\n"
     ]
    },
    {
     "data": {
      "image/png": "[encoded data removed]",
      "text/plain": [
       "<Figure size 432x288 with 1 Axes>"
      ]
     },
     "metadata": {
      "needs_background": "light"
     },
     "output_type": "display_data"
    }
   ],
   "source": [
    "if len(_df) > 0: \n",
    "    ax = _df.plot(kind='scatter', x='observed_boardings', y='model_boardings')\n",
    "    lim = _df[['observed_boardings','model_boardings']].max().max()*1.05\n",
    "    ax.set_ylim(0,lim)\n",
    "    ax.set_xlim(0,lim)\n",
    "    x = np.linspace(*ax.get_xlim())\n",
    "    ax.plot(x, x)\n",
    "    slope, intercept, r_value, p_value, std_err = stats.linregress(_df['observed_boardings'],_df['model_boardings'])\n",
    "    print('r^2 ' + str('') + ': ' + str(r_value))"
   ]
  },
  {
   "cell_type": "markdown",
   "metadata": {},
   "source": [
    "---\n",
    "### Lines by Agency"
   ]
  },
  {
   "cell_type": "code",
   "execution_count": 22,
   "metadata": {
    "execution": {
     "iopub.execute_input": "2024-04-03T21:14:19.857102Z",
     "iopub.status.busy": "2024-04-03T21:14:19.857102Z",
     "iopub.status.idle": "2024-04-03T21:14:19.871567Z",
     "shell.execute_reply": "2024-04-03T21:14:19.870566Z"
    }
   },
   "outputs": [
    {
     "name": "stdout",
     "output_type": "stream",
     "text": [
      "r^2 Community Transit: 0.9348542614442655\n",
      "r^2 Everett Transit: 0.9760077908917943\n",
      "r^2 King County Metro: 0.9231708138327506\n",
      "r^2 Kitsap Transit: 0.9271790661340328\n",
      "r^2 Pierce Transit: 0.7450955363010308\n",
      "r^2 Sound Transit: 0.9878796159748098\n",
      "r^2 Washington Ferries: 0.9454625248931675\n"
     ]
    },
    {
     "data": {
      "image/png": "[encoded data removed]",
      "text/plain": [
       "<Figure size 432x288 with 1 Axes>"
      ]
     },
     "metadata": {
      "needs_background": "light"
     },
     "output_type": "display_data"
    },
    {
     "data": {
      "image/png": "[encoded data removed]",
      "text/plain": [
       "<Figure size 432x288 with 1 Axes>"
      ]
     },
     "metadata": {
      "needs_background": "light"
     },
     "output_type": "display_data"
    },
    {
     "data": {
      "image/png": "[encoded data removed]",
      "text/plain": [
       "<Figure size 432x288 with 1 Axes>"
      ]
     },
     "metadata": {
      "needs_background": "light"
     },
     "output_type": "display_data"
    },
    {
     "data": {
      "image/png": "[encoded data removed]",
      "text/plain": [
       "<Figure size 432x288 with 1 Axes>"
      ]
     },
     "metadata": {
      "needs_background": "light"
     },
     "output_type": "display_data"
    },
    {
     "data": {
      "image/png": "[encoded data removed]",
      "text/plain": [
       "<Figure size 432x288 with 1 Axes>"
      ]
     },
     "metadata": {
      "needs_background": "light"
     },
     "output_type": "display_data"
    },
    {
     "data": {
      "image/png": "[encoded data removed]",
      "text/plain": [
       "<Figure size 432x288 with 1 Axes>"
      ]
     },
     "metadata": {
      "needs_background": "light"
     },
     "output_type": "display_data"
    },
    {
     "data": {
      "image/png": "[encoded data removed]",
      "text/plain": [
       "<Figure size 432x288 with 1 Axes>"
      ]
     },
     "metadata": {
      "needs_background": "light"
     },
     "output_type": "display_data"
    }
   ],
   "source": [
    "df = pd.read_csv(os.path.join(relative_path,'validation/') + 'daily_boardings_by_line.csv', index_col='agency')\n",
    "df = df[-df['agency_id'].isnull()]\n",
    "\n",
    "for agency in np.unique(df.index):\n",
    "    _df = df.loc[agency,:]\n",
    "    if (type(_df) == pd.core.frame.DataFrame) & (len(df) > 0):\n",
    "        ax = _df.plot(kind='scatter', x='observed_boardings', y='model_boardings', label=agency)\n",
    "        lim = _df[['observed_boardings','model_boardings']].max().max()*1.05\n",
    "        ax.set_ylim(0,lim)\n",
    "        ax.set_xlim(0,lim)\n",
    "        x = np.linspace(*ax.get_xlim())\n",
    "        ax.plot(x, x)\n",
    "        slope, intercept, r_value, p_value, std_err = stats.linregress(_df['observed_boardings'],_df['model_boardings'])\n",
    "        print('r^2 ' + str(agency) + ': ' + str(r_value))"
   ]
  },
  {
   "cell_type": "markdown",
   "metadata": {},
   "source": [
    "# Light Rail Station Boardings\n",
    "----\n",
    "Red Line"
   ]
  },
  {
   "cell_type": "code",
   "execution_count": 23,
   "metadata": {
    "execution": {
     "iopub.execute_input": "2024-04-03T21:14:19.875557Z",
     "iopub.status.busy": "2024-04-03T21:14:19.874559Z",
     "iopub.status.idle": "2024-04-03T21:14:19.903106Z",
     "shell.execute_reply": "2024-04-03T21:14:19.902103Z"
    }
   },
   "outputs": [
    {
     "data": {
      "text/html": [
       "<div>\n",
       "<style scoped>\n",
       "    .dataframe tbody tr th:only-of-type {\n",
       "        vertical-align: middle;\n",
       "    }\n",
       "\n",
       "    .dataframe tbody tr th {\n",
       "        vertical-align: top;\n",
       "    }\n",
       "\n",
       "    .dataframe thead th {\n",
       "        text-align: right;\n",
       "    }\n",
       "</style>\n",
       "<table border=\"1\" class=\"dataframe\">\n",
       "  <thead>\n",
       "    <tr style=\"text-align: right;\">\n",
       "      <th></th>\n",
       "      <th>observed_boardings</th>\n",
       "      <th>model_boardings</th>\n",
       "      <th>diff</th>\n",
       "      <th>percent_diff</th>\n",
       "    </tr>\n",
       "    <tr>\n",
       "      <th>station_name</th>\n",
       "      <th></th>\n",
       "      <th></th>\n",
       "      <th></th>\n",
       "      <th></th>\n",
       "    </tr>\n",
       "  </thead>\n",
       "  <tbody>\n",
       "    <tr>\n",
       "      <th>Husky Stadium</th>\n",
       "      <td>6,134</td>\n",
       "      <td>3,278</td>\n",
       "      <td>-2,856</td>\n",
       "      <td>-46.56%</td>\n",
       "    </tr>\n",
       "    <tr>\n",
       "      <th>Westlake</th>\n",
       "      <td>8,845</td>\n",
       "      <td>6,645</td>\n",
       "      <td>-2,200</td>\n",
       "      <td>-24.87%</td>\n",
       "    </tr>\n",
       "    <tr>\n",
       "      <th>University St</th>\n",
       "      <td>4,324</td>\n",
       "      <td>4,281</td>\n",
       "      <td>-43</td>\n",
       "      <td>-0.99%</td>\n",
       "    </tr>\n",
       "    <tr>\n",
       "      <th>Pioneer Square</th>\n",
       "      <td>2,400</td>\n",
       "      <td>3,878</td>\n",
       "      <td>1,478</td>\n",
       "      <td>61.60%</td>\n",
       "    </tr>\n",
       "    <tr>\n",
       "      <th>Int'l District</th>\n",
       "      <td>4,399</td>\n",
       "      <td>1,339</td>\n",
       "      <td>-3,060</td>\n",
       "      <td>-69.56%</td>\n",
       "    </tr>\n",
       "    <tr>\n",
       "      <th>Capitol Hill</th>\n",
       "      <td>7,667</td>\n",
       "      <td>4,880</td>\n",
       "      <td>-2,787</td>\n",
       "      <td>-36.36%</td>\n",
       "    </tr>\n",
       "    <tr>\n",
       "      <th>Stadium</th>\n",
       "      <td>1,731</td>\n",
       "      <td>506</td>\n",
       "      <td>-1,225</td>\n",
       "      <td>-70.79%</td>\n",
       "    </tr>\n",
       "    <tr>\n",
       "      <th>SODO</th>\n",
       "      <td>1,669</td>\n",
       "      <td>2,538</td>\n",
       "      <td>869</td>\n",
       "      <td>52.07%</td>\n",
       "    </tr>\n",
       "    <tr>\n",
       "      <th>Beacon Hill</th>\n",
       "      <td>2,147</td>\n",
       "      <td>900</td>\n",
       "      <td>-1,247</td>\n",
       "      <td>-58.08%</td>\n",
       "    </tr>\n",
       "    <tr>\n",
       "      <th>Mount Baker</th>\n",
       "      <td>1,861</td>\n",
       "      <td>1,040</td>\n",
       "      <td>-821</td>\n",
       "      <td>-44.14%</td>\n",
       "    </tr>\n",
       "    <tr>\n",
       "      <th>Columbia City</th>\n",
       "      <td>1,630</td>\n",
       "      <td>948</td>\n",
       "      <td>-682</td>\n",
       "      <td>-41.84%</td>\n",
       "    </tr>\n",
       "    <tr>\n",
       "      <th>Othello</th>\n",
       "      <td>2,030</td>\n",
       "      <td>1,161</td>\n",
       "      <td>-869</td>\n",
       "      <td>-42.83%</td>\n",
       "    </tr>\n",
       "    <tr>\n",
       "      <th>Rainier Beach</th>\n",
       "      <td>1,495</td>\n",
       "      <td>1,067</td>\n",
       "      <td>-428</td>\n",
       "      <td>-28.63%</td>\n",
       "    </tr>\n",
       "    <tr>\n",
       "      <th>Tukwila Int'l Blvd</th>\n",
       "      <td>2,298</td>\n",
       "      <td>1,706</td>\n",
       "      <td>-592</td>\n",
       "      <td>-25.77%</td>\n",
       "    </tr>\n",
       "    <tr>\n",
       "      <th>SeaTac/Airport</th>\n",
       "      <td>4,731</td>\n",
       "      <td>5,596</td>\n",
       "      <td>865</td>\n",
       "      <td>18.29%</td>\n",
       "    </tr>\n",
       "    <tr>\n",
       "      <th>Angle Lake</th>\n",
       "      <td>3,865</td>\n",
       "      <td>3,338</td>\n",
       "      <td>-527</td>\n",
       "      <td>-13.62%</td>\n",
       "    </tr>\n",
       "    <tr>\n",
       "      <th>University District Station</th>\n",
       "      <td>7,563</td>\n",
       "      <td>3,933</td>\n",
       "      <td>-3,630</td>\n",
       "      <td>-47.99%</td>\n",
       "    </tr>\n",
       "    <tr>\n",
       "      <th>Roosevelt Station</th>\n",
       "      <td>4,349</td>\n",
       "      <td>6,922</td>\n",
       "      <td>2,573</td>\n",
       "      <td>59.17%</td>\n",
       "    </tr>\n",
       "    <tr>\n",
       "      <th>Northgate Station</th>\n",
       "      <td>10,384</td>\n",
       "      <td>5,576</td>\n",
       "      <td>-4,808</td>\n",
       "      <td>-46.30%</td>\n",
       "    </tr>\n",
       "    <tr>\n",
       "      <th>Total</th>\n",
       "      <td>79,522</td>\n",
       "      <td>59,532</td>\n",
       "      <td>-19,990</td>\n",
       "      <td>-25.14%</td>\n",
       "    </tr>\n",
       "  </tbody>\n",
       "</table>\n",
       "</div>"
      ],
      "text/plain": [
       "                             observed_boardings  model_boardings    diff  \\\n",
       "station_name                                                               \n",
       "Husky Stadium                             6,134            3,278  -2,856   \n",
       "Westlake                                  8,845            6,645  -2,200   \n",
       "University St                             4,324            4,281     -43   \n",
       "Pioneer Square                            2,400            3,878   1,478   \n",
       "Int'l District                            4,399            1,339  -3,060   \n",
       "Capitol Hill                              7,667            4,880  -2,787   \n",
       "Stadium                                   1,731              506  -1,225   \n",
       "SODO                                      1,669            2,538     869   \n",
       "Beacon Hill                               2,147              900  -1,247   \n",
       "Mount Baker                               1,861            1,040    -821   \n",
       "Columbia City                             1,630              948    -682   \n",
       "Othello                                   2,030            1,161    -869   \n",
       "Rainier Beach                             1,495            1,067    -428   \n",
       "Tukwila Int'l Blvd                        2,298            1,706    -592   \n",
       "SeaTac/Airport                            4,731            5,596     865   \n",
       "Angle Lake                                3,865            3,338    -527   \n",
       "University District Station               7,563            3,933  -3,630   \n",
       "Roosevelt Station                         4,349            6,922   2,573   \n",
       "Northgate Station                        10,384            5,576  -4,808   \n",
       "Total                                    79,522           59,532 -19,990   \n",
       "\n",
       "                            percent_diff  \n",
       "station_name                              \n",
       "Husky Stadium                    -46.56%  \n",
       "Westlake                         -24.87%  \n",
       "University St                     -0.99%  \n",
       "Pioneer Square                    61.60%  \n",
       "Int'l District                   -69.56%  \n",
       "Capitol Hill                     -36.36%  \n",
       "Stadium                          -70.79%  \n",
       "SODO                              52.07%  \n",
       "Beacon Hill                      -58.08%  \n",
       "Mount Baker                      -44.14%  \n",
       "Columbia City                    -41.84%  \n",
       "Othello                          -42.83%  \n",
       "Rainier Beach                    -28.63%  \n",
       "Tukwila Int'l Blvd               -25.77%  \n",
       "SeaTac/Airport                    18.29%  \n",
       "Angle Lake                       -13.62%  \n",
       "University District Station      -47.99%  \n",
       "Roosevelt Station                 59.17%  \n",
       "Northgate Station                -46.30%  \n",
       "Total                            -25.14%  "
      ]
     },
     "execution_count": 23,
     "metadata": {},
     "output_type": "execute_result"
    }
   ],
   "source": [
    "df = pd.read_csv(os.path.join(relative_path,'validation/') + 'light_rail_boardings.csv', index_col='station_name')\n",
    "df['diff'] = df['model_boardings']-df['observed_boardings']\n",
    "df['percent_diff'] = df['diff']/df['observed_boardings']\n",
    "df[['percent_diff']] = df[['percent_diff']].applymap(format_percent)\n",
    "df"
   ]
  },
  {
   "cell_type": "markdown",
   "metadata": {},
   "source": [
    "Sound Transit Station Groupings"
   ]
  },
  {
   "cell_type": "code",
   "execution_count": 24,
   "metadata": {
    "execution": {
     "iopub.execute_input": "2024-04-03T21:14:19.907162Z",
     "iopub.status.busy": "2024-04-03T21:14:19.906098Z",
     "iopub.status.idle": "2024-04-03T21:14:19.966531Z",
     "shell.execute_reply": "2024-04-03T21:14:19.966531Z"
    }
   },
   "outputs": [
    {
     "data": {
      "text/html": [
       "<div>\n",
       "<style scoped>\n",
       "    .dataframe tbody tr th:only-of-type {\n",
       "        vertical-align: middle;\n",
       "    }\n",
       "\n",
       "    .dataframe tbody tr th {\n",
       "        vertical-align: top;\n",
       "    }\n",
       "\n",
       "    .dataframe thead th {\n",
       "        text-align: right;\n",
       "    }\n",
       "</style>\n",
       "<table border=\"1\" class=\"dataframe\">\n",
       "  <thead>\n",
       "    <tr style=\"text-align: right;\">\n",
       "      <th></th>\n",
       "      <th>observed_boardings</th>\n",
       "      <th>model_boardings</th>\n",
       "      <th>diff</th>\n",
       "      <th>percent_diff</th>\n",
       "    </tr>\n",
       "    <tr>\n",
       "      <th>station_group</th>\n",
       "      <th></th>\n",
       "      <th></th>\n",
       "      <th></th>\n",
       "      <th></th>\n",
       "    </tr>\n",
       "  </thead>\n",
       "  <tbody>\n",
       "    <tr>\n",
       "      <th>Husky Stadium</th>\n",
       "      <td>6,134</td>\n",
       "      <td>3,278</td>\n",
       "      <td>-2,856</td>\n",
       "      <td>-46.56%</td>\n",
       "    </tr>\n",
       "    <tr>\n",
       "      <th>Capitol Hill</th>\n",
       "      <td>7,667</td>\n",
       "      <td>4,880</td>\n",
       "      <td>-2,787</td>\n",
       "      <td>-36.36%</td>\n",
       "    </tr>\n",
       "    <tr>\n",
       "      <th>Westlake/University St</th>\n",
       "      <td>13,169</td>\n",
       "      <td>10,926</td>\n",
       "      <td>-2,243</td>\n",
       "      <td>-17.03%</td>\n",
       "    </tr>\n",
       "    <tr>\n",
       "      <th>Pioneer Square/Int'l District</th>\n",
       "      <td>6,799</td>\n",
       "      <td>5,217</td>\n",
       "      <td>-1,582</td>\n",
       "      <td>-23.26%</td>\n",
       "    </tr>\n",
       "    <tr>\n",
       "      <th>Stadium/SODO</th>\n",
       "      <td>3,400</td>\n",
       "      <td>3,044</td>\n",
       "      <td>-356</td>\n",
       "      <td>-10.48%</td>\n",
       "    </tr>\n",
       "    <tr>\n",
       "      <th>Beacon Hill/Mount Baker</th>\n",
       "      <td>4,008</td>\n",
       "      <td>1,940</td>\n",
       "      <td>-2,068</td>\n",
       "      <td>-51.61%</td>\n",
       "    </tr>\n",
       "    <tr>\n",
       "      <th>Columbia City</th>\n",
       "      <td>1,630</td>\n",
       "      <td>948</td>\n",
       "      <td>-682</td>\n",
       "      <td>-41.84%</td>\n",
       "    </tr>\n",
       "    <tr>\n",
       "      <th>Othello/Rainier Beach</th>\n",
       "      <td>3,525</td>\n",
       "      <td>2,228</td>\n",
       "      <td>-1,297</td>\n",
       "      <td>-36.81%</td>\n",
       "    </tr>\n",
       "    <tr>\n",
       "      <th>Tukwila Int'l Blvd</th>\n",
       "      <td>2,298</td>\n",
       "      <td>1,706</td>\n",
       "      <td>-592</td>\n",
       "      <td>-25.77%</td>\n",
       "    </tr>\n",
       "    <tr>\n",
       "      <th>SeaTac/Airport</th>\n",
       "      <td>4,731</td>\n",
       "      <td>5,596</td>\n",
       "      <td>865</td>\n",
       "      <td>18.29%</td>\n",
       "    </tr>\n",
       "    <tr>\n",
       "      <th>Angle Lake</th>\n",
       "      <td>3,865</td>\n",
       "      <td>3,338</td>\n",
       "      <td>-527</td>\n",
       "      <td>-13.62%</td>\n",
       "    </tr>\n",
       "  </tbody>\n",
       "</table>\n",
       "</div>"
      ],
      "text/plain": [
       "                               observed_boardings  model_boardings   diff  \\\n",
       "station_group                                                               \n",
       "Husky Stadium                               6,134            3,278 -2,856   \n",
       "Capitol Hill                                7,667            4,880 -2,787   \n",
       "Westlake/University St                     13,169           10,926 -2,243   \n",
       "Pioneer Square/Int'l District               6,799            5,217 -1,582   \n",
       "Stadium/SODO                                3,400            3,044   -356   \n",
       "Beacon Hill/Mount Baker                     4,008            1,940 -2,068   \n",
       "Columbia City                               1,630              948   -682   \n",
       "Othello/Rainier Beach                       3,525            2,228 -1,297   \n",
       "Tukwila Int'l Blvd                          2,298            1,706   -592   \n",
       "SeaTac/Airport                              4,731            5,596    865   \n",
       "Angle Lake                                  3,865            3,338   -527   \n",
       "\n",
       "                              percent_diff  \n",
       "station_group                               \n",
       "Husky Stadium                      -46.56%  \n",
       "Capitol Hill                       -36.36%  \n",
       "Westlake/University St             -17.03%  \n",
       "Pioneer Square/Int'l District      -23.26%  \n",
       "Stadium/SODO                       -10.48%  \n",
       "Beacon Hill/Mount Baker            -51.61%  \n",
       "Columbia City                      -41.84%  \n",
       "Othello/Rainier Beach              -36.81%  \n",
       "Tukwila Int'l Blvd                 -25.77%  \n",
       "SeaTac/Airport                      18.29%  \n",
       "Angle Lake                         -13.62%  "
      ]
     },
     "execution_count": 24,
     "metadata": {},
     "output_type": "execute_result"
    }
   ],
   "source": [
    "df_combined = df.copy()\n",
    "\n",
    "df_combined['station_group'] = df.index\n",
    "df_combined.loc[['Westlake'],'station_group'] = 'Westlake/University St'\n",
    "df_combined.loc[['University St'],'station_group'] = 'Westlake/University St'\n",
    "\n",
    "df_combined.loc[['Pioneer Square'],'station_group'] = \"Pioneer Square/Int'l District\"\n",
    "df_combined.loc[[\"Int'l District\"],'station_group'] = \"Pioneer Square/Int'l District\"\n",
    "\n",
    "df_combined.loc[['Stadium'],'station_group'] = 'Stadium/SODO'\n",
    "df_combined.loc[['SODO'],'station_group'] = 'Stadium/SODO'\n",
    "\n",
    "df_combined.loc[['Beacon Hill'],'station_group'] = 'Beacon Hill/Mount Baker'\n",
    "df_combined.loc[['Mount Baker'],'station_group'] = 'Beacon Hill/Mount Baker'\n",
    "\n",
    "df_combined.loc[['Othello'],'station_group'] = 'Othello/Rainier Beach'\n",
    "df_combined.loc[['Rainier Beach'],'station_group'] = 'Othello/Rainier Beach'\n",
    "\n",
    "df_combined = df_combined.groupby('station_group').sum()[['observed_boardings','model_boardings']]\n",
    "df_combined['diff'] = df_combined['model_boardings']-df_combined['observed_boardings']\n",
    "df_combined['percent_diff'] = df_combined['diff']/df_combined['observed_boardings']\n",
    "df_combined[['percent_diff']] = df_combined[['percent_diff']].applymap(format_percent)\n",
    "\n",
    "df_combined.loc[['Husky Stadium','Capitol Hill','Westlake/University St',\"Pioneer Square/Int'l District\",\n",
    "                 'Stadium/SODO','Beacon Hill/Mount Baker','Columbia City','Othello/Rainier Beach',\n",
    "                \"Tukwila Int'l Blvd\",'SeaTac/Airport','Angle Lake']]"
   ]
  },
  {
   "cell_type": "markdown",
   "metadata": {},
   "source": [
    "# Stop Transfers\n",
    "\n",
    "### Light Rail"
   ]
  },
  {
   "cell_type": "code",
   "execution_count": 25,
   "metadata": {
    "execution": {
     "iopub.execute_input": "2024-04-03T21:14:19.966531Z",
     "iopub.status.busy": "2024-04-03T21:14:19.966531Z",
     "iopub.status.idle": "2024-04-03T21:14:20.013469Z",
     "shell.execute_reply": "2024-04-03T21:14:20.013469Z"
    }
   },
   "outputs": [
    {
     "data": {
      "text/html": [
       "<div>\n",
       "<style scoped>\n",
       "    .dataframe tbody tr th:only-of-type {\n",
       "        vertical-align: middle;\n",
       "    }\n",
       "\n",
       "    .dataframe tbody tr th {\n",
       "        vertical-align: top;\n",
       "    }\n",
       "\n",
       "    .dataframe thead th {\n",
       "        text-align: right;\n",
       "    }\n",
       "</style>\n",
       "<table border=\"1\" class=\"dataframe\">\n",
       "  <thead>\n",
       "    <tr style=\"text-align: right;\">\n",
       "      <th></th>\n",
       "      <th>modeled_transfer_rate</th>\n",
       "      <th>observed_transfer_rate</th>\n",
       "      <th>diff</th>\n",
       "      <th>percent_diff</th>\n",
       "    </tr>\n",
       "    <tr>\n",
       "      <th>station_name</th>\n",
       "      <th></th>\n",
       "      <th></th>\n",
       "      <th></th>\n",
       "      <th></th>\n",
       "    </tr>\n",
       "  </thead>\n",
       "  <tbody>\n",
       "    <tr>\n",
       "      <th>Husky Stadium</th>\n",
       "      <td>0.90</td>\n",
       "      <td>-99.00</td>\n",
       "      <td>99.90</td>\n",
       "      <td>-100.91%</td>\n",
       "    </tr>\n",
       "    <tr>\n",
       "      <th>Westlake</th>\n",
       "      <td>0.16</td>\n",
       "      <td>0.36</td>\n",
       "      <td>-0.21</td>\n",
       "      <td>-57.02%</td>\n",
       "    </tr>\n",
       "    <tr>\n",
       "      <th>University St</th>\n",
       "      <td>0.27</td>\n",
       "      <td>0.20</td>\n",
       "      <td>0.07</td>\n",
       "      <td>33.89%</td>\n",
       "    </tr>\n",
       "    <tr>\n",
       "      <th>Pioneer Square</th>\n",
       "      <td>0.51</td>\n",
       "      <td>0.16</td>\n",
       "      <td>0.35</td>\n",
       "      <td>220.93%</td>\n",
       "    </tr>\n",
       "    <tr>\n",
       "      <th>Int'l District</th>\n",
       "      <td>0.66</td>\n",
       "      <td>0.45</td>\n",
       "      <td>0.21</td>\n",
       "      <td>47.10%</td>\n",
       "    </tr>\n",
       "    <tr>\n",
       "      <th>Capitol Hill</th>\n",
       "      <td>0.06</td>\n",
       "      <td>-99.00</td>\n",
       "      <td>99.06</td>\n",
       "      <td>-100.06%</td>\n",
       "    </tr>\n",
       "    <tr>\n",
       "      <th>Stadium</th>\n",
       "      <td>0.20</td>\n",
       "      <td>0.12</td>\n",
       "      <td>0.08</td>\n",
       "      <td>64.75%</td>\n",
       "    </tr>\n",
       "    <tr>\n",
       "      <th>SODO</th>\n",
       "      <td>0.42</td>\n",
       "      <td>0.31</td>\n",
       "      <td>0.11</td>\n",
       "      <td>34.07%</td>\n",
       "    </tr>\n",
       "    <tr>\n",
       "      <th>Beacon Hill</th>\n",
       "      <td>0.40</td>\n",
       "      <td>0.35</td>\n",
       "      <td>0.04</td>\n",
       "      <td>12.38%</td>\n",
       "    </tr>\n",
       "    <tr>\n",
       "      <th>Mount Baker</th>\n",
       "      <td>0.46</td>\n",
       "      <td>0.32</td>\n",
       "      <td>0.13</td>\n",
       "      <td>40.90%</td>\n",
       "    </tr>\n",
       "    <tr>\n",
       "      <th>Columbia City</th>\n",
       "      <td>0.03</td>\n",
       "      <td>0.12</td>\n",
       "      <td>-0.10</td>\n",
       "      <td>-78.05%</td>\n",
       "    </tr>\n",
       "    <tr>\n",
       "      <th>Othello</th>\n",
       "      <td>0.08</td>\n",
       "      <td>0.12</td>\n",
       "      <td>-0.05</td>\n",
       "      <td>-37.50%</td>\n",
       "    </tr>\n",
       "    <tr>\n",
       "      <th>Rainier Beach</th>\n",
       "      <td>0.37</td>\n",
       "      <td>0.36</td>\n",
       "      <td>0.00</td>\n",
       "      <td>1.33%</td>\n",
       "    </tr>\n",
       "    <tr>\n",
       "      <th>Tukwila Int'l Blvd</th>\n",
       "      <td>0.63</td>\n",
       "      <td>0.26</td>\n",
       "      <td>0.36</td>\n",
       "      <td>138.02%</td>\n",
       "    </tr>\n",
       "    <tr>\n",
       "      <th>SeaTac/Airport</th>\n",
       "      <td>0.11</td>\n",
       "      <td>0.26</td>\n",
       "      <td>-0.15</td>\n",
       "      <td>-57.01%</td>\n",
       "    </tr>\n",
       "    <tr>\n",
       "      <th>Angle Lake</th>\n",
       "      <td>0.20</td>\n",
       "      <td>-99.00</td>\n",
       "      <td>99.20</td>\n",
       "      <td>-100.20%</td>\n",
       "    </tr>\n",
       "    <tr>\n",
       "      <th>University District Station</th>\n",
       "      <td>0.26</td>\n",
       "      <td>-99.00</td>\n",
       "      <td>99.26</td>\n",
       "      <td>-100.26%</td>\n",
       "    </tr>\n",
       "    <tr>\n",
       "      <th>Roosevelt Station</th>\n",
       "      <td>0.47</td>\n",
       "      <td>-99.00</td>\n",
       "      <td>99.47</td>\n",
       "      <td>-100.47%</td>\n",
       "    </tr>\n",
       "    <tr>\n",
       "      <th>Northgate Station</th>\n",
       "      <td>0.83</td>\n",
       "      <td>-99.00</td>\n",
       "      <td>99.83</td>\n",
       "      <td>-100.84%</td>\n",
       "    </tr>\n",
       "  </tbody>\n",
       "</table>\n",
       "</div>"
      ],
      "text/plain": [
       "                             modeled_transfer_rate  observed_transfer_rate  \\\n",
       "station_name                                                                 \n",
       "Husky Stadium                                 0.90                  -99.00   \n",
       "Westlake                                      0.16                    0.36   \n",
       "University St                                 0.27                    0.20   \n",
       "Pioneer Square                                0.51                    0.16   \n",
       "Int'l District                                0.66                    0.45   \n",
       "Capitol Hill                                  0.06                  -99.00   \n",
       "Stadium                                       0.20                    0.12   \n",
       "SODO                                          0.42                    0.31   \n",
       "Beacon Hill                                   0.40                    0.35   \n",
       "Mount Baker                                   0.46                    0.32   \n",
       "Columbia City                                 0.03                    0.12   \n",
       "Othello                                       0.08                    0.12   \n",
       "Rainier Beach                                 0.37                    0.36   \n",
       "Tukwila Int'l Blvd                            0.63                    0.26   \n",
       "SeaTac/Airport                                0.11                    0.26   \n",
       "Angle Lake                                    0.20                  -99.00   \n",
       "University District Station                   0.26                  -99.00   \n",
       "Roosevelt Station                             0.47                  -99.00   \n",
       "Northgate Station                             0.83                  -99.00   \n",
       "\n",
       "                             diff percent_diff  \n",
       "station_name                                    \n",
       "Husky Stadium               99.90     -100.91%  \n",
       "Westlake                    -0.21      -57.02%  \n",
       "University St                0.07       33.89%  \n",
       "Pioneer Square               0.35      220.93%  \n",
       "Int'l District               0.21       47.10%  \n",
       "Capitol Hill                99.06     -100.06%  \n",
       "Stadium                      0.08       64.75%  \n",
       "SODO                         0.11       34.07%  \n",
       "Beacon Hill                  0.04       12.38%  \n",
       "Mount Baker                  0.13       40.90%  \n",
       "Columbia City               -0.10      -78.05%  \n",
       "Othello                     -0.05      -37.50%  \n",
       "Rainier Beach                0.00        1.33%  \n",
       "Tukwila Int'l Blvd           0.36      138.02%  \n",
       "SeaTac/Airport              -0.15      -57.01%  \n",
       "Angle Lake                  99.20     -100.20%  \n",
       "University District Station 99.26     -100.26%  \n",
       "Roosevelt Station           99.47     -100.47%  \n",
       "Northgate Station           99.83     -100.84%  "
      ]
     },
     "execution_count": 25,
     "metadata": {},
     "output_type": "execute_result"
    }
   ],
   "source": [
    "df = pd.read_csv(os.path.join(relative_path,'validation/') + 'light_rail_transfers.csv', index_col='station_name')\n",
    "pd.options.display.float_format = '{:0,.2f}'.format\n",
    "df[['percent_diff']] = df[['percent_diff']].applymap(format_percent)\n",
    "df"
   ]
  },
  {
   "cell_type": "markdown",
   "metadata": {},
   "source": [
    "# Externals"
   ]
  },
  {
   "cell_type": "code",
   "execution_count": 4,
   "metadata": {
    "execution": {
     "iopub.execute_input": "2024-04-03T21:14:20.013469Z",
     "iopub.status.busy": "2024-04-03T21:14:20.013469Z",
     "iopub.status.idle": "2024-04-03T21:14:20.075904Z",
     "shell.execute_reply": "2024-04-03T21:14:20.075904Z"
    }
   },
   "outputs": [
    {
     "data": {
      "text/html": [
       "<div>\n",
       "<style scoped>\n",
       "    .dataframe tbody tr th:only-of-type {\n",
       "        vertical-align: middle;\n",
       "    }\n",
       "\n",
       "    .dataframe tbody tr th {\n",
       "        vertical-align: top;\n",
       "    }\n",
       "\n",
       "    .dataframe thead th {\n",
       "        text-align: right;\n",
       "    }\n",
       "</style>\n",
       "<table border=\"1\" class=\"dataframe\">\n",
       "  <thead>\n",
       "    <tr style=\"text-align: right;\">\n",
       "      <th></th>\n",
       "      <th>external_station</th>\n",
       "      <th>county</th>\n",
       "      <th>observed</th>\n",
       "      <th>modeled</th>\n",
       "      <th>diff</th>\n",
       "    </tr>\n",
       "    <tr>\n",
       "      <th>location</th>\n",
       "      <th></th>\n",
       "      <th></th>\n",
       "      <th></th>\n",
       "      <th></th>\n",
       "      <th></th>\n",
       "    </tr>\n",
       "  </thead>\n",
       "  <tbody>\n",
       "  </tbody>\n",
       "</table>\n",
       "</div>"
      ],
      "text/plain": [
       "Empty DataFrame\n",
       "Columns: [external_station, county, observed, modeled, diff]\n",
       "Index: []"
      ]
     },
     "execution_count": 4,
     "metadata": {},
     "output_type": "execute_result"
    }
   ],
   "source": [
    "df = pd.read_csv(os.path.join(relative_path,'validation/') + 'external_volumes.csv', index_col='location')\n",
    "\n",
    "pd.options.display.float_format = '{:0,.0f}'.format\n",
    "df = df.drop('diff', axis=1)\n",
    "df['diff'] = df['modeled']-df['observed']\n",
    "df = df.fillna(0)\n",
    "df.loc['Total',['observed','modeled','diff']] = df[['observed','modeled','diff']].sum()\n",
    "df['percent_diff'] = df['diff']/df['observed']\n",
    "df[['percent_diff']] = df[['percent_diff']].applymap(format_percent)\n",
    "\n",
    "df[['external_station']] = df[['external_station']].applymap('{:0.0f}'.format)\n",
    "df.replace('nan', '', regex=True)"
   ]
  },
  {
   "cell_type": "markdown",
   "metadata": {},
   "source": [
    "# Corridor Speed"
   ]
  },
  {
   "cell_type": "code",
   "execution_count": 27,
   "metadata": {
    "execution": {
     "iopub.execute_input": "2024-04-03T21:14:20.075904Z",
     "iopub.status.busy": "2024-04-03T21:14:20.075904Z",
     "iopub.status.idle": "2024-04-03T21:14:20.247389Z",
     "shell.execute_reply": "2024-04-03T21:14:20.247389Z"
    }
   },
   "outputs": [
    {
     "data": {
      "text/plain": [
       "<AxesSubplot:xlabel='observed_speed', ylabel='model_speed'>"
      ]
     },
     "execution_count": 27,
     "metadata": {},
     "output_type": "execute_result"
    },
    {
     "data": {
      "image/png": "[encoded data removed]",
      "text/plain": [
       "<Figure size 432x288 with 1 Axes>"
      ]
     },
     "metadata": {
      "needs_background": "light"
     },
     "output_type": "display_data"
    }
   ],
   "source": [
    "df = pd.read_csv(os.path.join(relative_path,'validation/') + 'corridor_speeds.csv')\n",
    "df.plot(kind='scatter', y='model_speed', x='observed_speed')"
   ]
  },
  {
   "cell_type": "markdown",
   "metadata": {},
   "source": [
    "### AM Peak, Primary Corridors"
   ]
  },
  {
   "cell_type": "code",
   "execution_count": 28,
   "metadata": {
    "execution": {
     "iopub.execute_input": "2024-04-03T21:14:20.247389Z",
     "iopub.status.busy": "2024-04-03T21:14:20.247389Z",
     "iopub.status.idle": "2024-04-03T21:14:20.434846Z",
     "shell.execute_reply": "2024-04-03T21:14:20.434846Z"
    }
   },
   "outputs": [
    {
     "data": {
      "text/plain": [
       "<AxesSubplot:xlabel='observed_speed', ylabel='model_speed'>"
      ]
     },
     "execution_count": 28,
     "metadata": {},
     "output_type": "execute_result"
    },
    {
     "data": {
      "image/png": "[encoded data removed]",
      "text/plain": [
       "<Figure size 432x288 with 1 Axes>"
      ]
     },
     "metadata": {
      "needs_background": "light"
     },
     "output_type": "display_data"
    }
   ],
   "source": [
    "df[df['tod'] == '7to8'].plot(kind='scatter', x='observed_speed', y='model_speed')"
   ]
  },
  {
   "cell_type": "code",
   "execution_count": 29,
   "metadata": {
    "execution": {
     "iopub.execute_input": "2024-04-03T21:14:20.434846Z",
     "iopub.status.busy": "2024-04-03T21:14:20.434846Z",
     "iopub.status.idle": "2024-04-03T21:14:20.466088Z",
     "shell.execute_reply": "2024-04-03T21:14:20.466088Z"
    }
   },
   "outputs": [
    {
     "data": {
      "text/html": [
       "<div>\n",
       "<style scoped>\n",
       "    .dataframe tbody tr th:only-of-type {\n",
       "        vertical-align: middle;\n",
       "    }\n",
       "\n",
       "    .dataframe tbody tr th {\n",
       "        vertical-align: top;\n",
       "    }\n",
       "\n",
       "    .dataframe thead th {\n",
       "        text-align: right;\n",
       "    }\n",
       "</style>\n",
       "<table border=\"1\" class=\"dataframe\">\n",
       "  <thead>\n",
       "    <tr style=\"text-align: right;\">\n",
       "      <th></th>\n",
       "      <th>Corridor_Description</th>\n",
       "      <th>model_speed</th>\n",
       "      <th>observed_speed</th>\n",
       "    </tr>\n",
       "  </thead>\n",
       "  <tbody>\n",
       "    <tr>\n",
       "      <th>6</th>\n",
       "      <td>Seattle to Everett - NB</td>\n",
       "      <td>43.05</td>\n",
       "      <td>58.00</td>\n",
       "    </tr>\n",
       "    <tr>\n",
       "      <th>15</th>\n",
       "      <td>Everett to Seattle - SB</td>\n",
       "      <td>25.11</td>\n",
       "      <td>27.00</td>\n",
       "    </tr>\n",
       "    <tr>\n",
       "      <th>24</th>\n",
       "      <td>Tacoma to Seattle - NB</td>\n",
       "      <td>27.04</td>\n",
       "      <td>24.00</td>\n",
       "    </tr>\n",
       "    <tr>\n",
       "      <th>33</th>\n",
       "      <td>Seattle to Tacoma - SB</td>\n",
       "      <td>40.52</td>\n",
       "      <td>58.00</td>\n",
       "    </tr>\n",
       "    <tr>\n",
       "      <th>42</th>\n",
       "      <td>Bellevue to Lynnwood - NB</td>\n",
       "      <td>47.16</td>\n",
       "      <td>57.00</td>\n",
       "    </tr>\n",
       "    <tr>\n",
       "      <th>51</th>\n",
       "      <td>Lynnwood to Bellevue - SB</td>\n",
       "      <td>24.23</td>\n",
       "      <td>22.00</td>\n",
       "    </tr>\n",
       "    <tr>\n",
       "      <th>60</th>\n",
       "      <td>Tukwila to Bellevue - NB</td>\n",
       "      <td>24.60</td>\n",
       "      <td>20.00</td>\n",
       "    </tr>\n",
       "    <tr>\n",
       "      <th>69</th>\n",
       "      <td>Bellevue to Tukwila - SB</td>\n",
       "      <td>29.08</td>\n",
       "      <td>43.00</td>\n",
       "    </tr>\n",
       "    <tr>\n",
       "      <th>78</th>\n",
       "      <td>Auburn to Renton - NB</td>\n",
       "      <td>29.40</td>\n",
       "      <td>22.00</td>\n",
       "    </tr>\n",
       "    <tr>\n",
       "      <th>87</th>\n",
       "      <td>Renton to Auburn - SB</td>\n",
       "      <td>48.03</td>\n",
       "      <td>55.00</td>\n",
       "    </tr>\n",
       "    <tr>\n",
       "      <th>96</th>\n",
       "      <td>Redmond to Seattle - WB</td>\n",
       "      <td>31.78</td>\n",
       "      <td>40.00</td>\n",
       "    </tr>\n",
       "    <tr>\n",
       "      <th>105</th>\n",
       "      <td>Seattle to Redmond - EB</td>\n",
       "      <td>43.35</td>\n",
       "      <td>53.00</td>\n",
       "    </tr>\n",
       "    <tr>\n",
       "      <th>114</th>\n",
       "      <td>Redmond to Bellevue - WB</td>\n",
       "      <td>35.76</td>\n",
       "      <td>46.00</td>\n",
       "    </tr>\n",
       "    <tr>\n",
       "      <th>123</th>\n",
       "      <td>Bellevue to Redmond - EB</td>\n",
       "      <td>42.48</td>\n",
       "      <td>52.00</td>\n",
       "    </tr>\n",
       "    <tr>\n",
       "      <th>132</th>\n",
       "      <td>Issaquah to Bellevue - WB</td>\n",
       "      <td>33.77</td>\n",
       "      <td>35.00</td>\n",
       "    </tr>\n",
       "    <tr>\n",
       "      <th>141</th>\n",
       "      <td>Bellevue to Issaquah - EB</td>\n",
       "      <td>47.88</td>\n",
       "      <td>58.00</td>\n",
       "    </tr>\n",
       "    <tr>\n",
       "      <th>150</th>\n",
       "      <td>Seattle to Bellevue via 520 - WB</td>\n",
       "      <td>36.94</td>\n",
       "      <td>52.00</td>\n",
       "    </tr>\n",
       "    <tr>\n",
       "      <th>159</th>\n",
       "      <td>Bellevue to Seattle via 520 - EB</td>\n",
       "      <td>26.33</td>\n",
       "      <td>37.00</td>\n",
       "    </tr>\n",
       "    <tr>\n",
       "      <th>168</th>\n",
       "      <td>Bellevue to Seattle via 90 - WB</td>\n",
       "      <td>24.02</td>\n",
       "      <td>23.00</td>\n",
       "    </tr>\n",
       "    <tr>\n",
       "      <th>177</th>\n",
       "      <td>Seattle to Bellevue via 90 - EB</td>\n",
       "      <td>31.22</td>\n",
       "      <td>41.00</td>\n",
       "    </tr>\n",
       "  </tbody>\n",
       "</table>\n",
       "</div>"
      ],
      "text/plain": [
       "                 Corridor_Description  model_speed  observed_speed\n",
       "6             Seattle to Everett - NB        43.05           58.00\n",
       "15            Everett to Seattle - SB        25.11           27.00\n",
       "24             Tacoma to Seattle - NB        27.04           24.00\n",
       "33             Seattle to Tacoma - SB        40.52           58.00\n",
       "42          Bellevue to Lynnwood - NB        47.16           57.00\n",
       "51          Lynnwood to Bellevue - SB        24.23           22.00\n",
       "60           Tukwila to Bellevue - NB        24.60           20.00\n",
       "69           Bellevue to Tukwila - SB        29.08           43.00\n",
       "78              Auburn to Renton - NB        29.40           22.00\n",
       "87              Renton to Auburn - SB        48.03           55.00\n",
       "96            Redmond to Seattle - WB        31.78           40.00\n",
       "105           Seattle to Redmond - EB        43.35           53.00\n",
       "114          Redmond to Bellevue - WB        35.76           46.00\n",
       "123          Bellevue to Redmond - EB        42.48           52.00\n",
       "132         Issaquah to Bellevue - WB        33.77           35.00\n",
       "141         Bellevue to Issaquah - EB        47.88           58.00\n",
       "150  Seattle to Bellevue via 520 - WB        36.94           52.00\n",
       "159  Bellevue to Seattle via 520 - EB        26.33           37.00\n",
       "168   Bellevue to Seattle via 90 - WB        24.02           23.00\n",
       "177   Seattle to Bellevue via 90 - EB        31.22           41.00"
      ]
     },
     "execution_count": 29,
     "metadata": {},
     "output_type": "execute_result"
    }
   ],
   "source": [
    "# Show daily AM and PM peaks by corridor\n",
    "df[df['tod'] == '7to8'][['Corridor_Description','model_speed','observed_speed']].head(20)"
   ]
  },
  {
   "cell_type": "markdown",
   "metadata": {},
   "source": [
    "### PM Peak, Primary Corridors"
   ]
  },
  {
   "cell_type": "code",
   "execution_count": 30,
   "metadata": {
    "execution": {
     "iopub.execute_input": "2024-04-03T21:14:20.466088Z",
     "iopub.status.busy": "2024-04-03T21:14:20.466088Z",
     "iopub.status.idle": "2024-04-03T21:14:20.669168Z",
     "shell.execute_reply": "2024-04-03T21:14:20.669168Z"
    }
   },
   "outputs": [
    {
     "data": {
      "text/plain": [
       "<AxesSubplot:xlabel='observed_speed', ylabel='model_speed'>"
      ]
     },
     "execution_count": 30,
     "metadata": {},
     "output_type": "execute_result"
    },
    {
     "data": {
      "image/png": "[encoded data removed]",
      "text/plain": [
       "<Figure size 432x288 with 1 Axes>"
      ]
     },
     "metadata": {
      "needs_background": "light"
     },
     "output_type": "display_data"
    }
   ],
   "source": [
    "df[df['tod'] == '16to17'].plot(kind='scatter', x='observed_speed', y='model_speed')"
   ]
  },
  {
   "cell_type": "code",
   "execution_count": 31,
   "metadata": {
    "execution": {
     "iopub.execute_input": "2024-04-03T21:14:20.669168Z",
     "iopub.status.busy": "2024-04-03T21:14:20.669168Z",
     "iopub.status.idle": "2024-04-03T21:14:20.700409Z",
     "shell.execute_reply": "2024-04-03T21:14:20.700409Z"
    }
   },
   "outputs": [
    {
     "data": {
      "text/html": [
       "<div>\n",
       "<style scoped>\n",
       "    .dataframe tbody tr th:only-of-type {\n",
       "        vertical-align: middle;\n",
       "    }\n",
       "\n",
       "    .dataframe tbody tr th {\n",
       "        vertical-align: top;\n",
       "    }\n",
       "\n",
       "    .dataframe thead th {\n",
       "        text-align: right;\n",
       "    }\n",
       "</style>\n",
       "<table border=\"1\" class=\"dataframe\">\n",
       "  <thead>\n",
       "    <tr style=\"text-align: right;\">\n",
       "      <th></th>\n",
       "      <th>Corridor_Description</th>\n",
       "      <th>model_speed</th>\n",
       "      <th>observed_speed</th>\n",
       "    </tr>\n",
       "  </thead>\n",
       "  <tbody>\n",
       "    <tr>\n",
       "      <th>1</th>\n",
       "      <td>Seattle to Everett - NB</td>\n",
       "      <td>28.31</td>\n",
       "      <td>23.40</td>\n",
       "    </tr>\n",
       "    <tr>\n",
       "      <th>10</th>\n",
       "      <td>Everett to Seattle - SB</td>\n",
       "      <td>40.32</td>\n",
       "      <td>27.70</td>\n",
       "    </tr>\n",
       "    <tr>\n",
       "      <th>19</th>\n",
       "      <td>Tacoma to Seattle - NB</td>\n",
       "      <td>41.61</td>\n",
       "      <td>42.90</td>\n",
       "    </tr>\n",
       "    <tr>\n",
       "      <th>28</th>\n",
       "      <td>Seattle to Tacoma - SB</td>\n",
       "      <td>29.82</td>\n",
       "      <td>25.40</td>\n",
       "    </tr>\n",
       "    <tr>\n",
       "      <th>37</th>\n",
       "      <td>Bellevue to Lynnwood - NB</td>\n",
       "      <td>29.23</td>\n",
       "      <td>25.60</td>\n",
       "    </tr>\n",
       "    <tr>\n",
       "      <th>46</th>\n",
       "      <td>Lynnwood to Bellevue - SB</td>\n",
       "      <td>43.10</td>\n",
       "      <td>39.60</td>\n",
       "    </tr>\n",
       "    <tr>\n",
       "      <th>55</th>\n",
       "      <td>Tukwila to Bellevue - NB</td>\n",
       "      <td>29.92</td>\n",
       "      <td>29.20</td>\n",
       "    </tr>\n",
       "    <tr>\n",
       "      <th>64</th>\n",
       "      <td>Bellevue to Tukwila - SB</td>\n",
       "      <td>26.18</td>\n",
       "      <td>18.90</td>\n",
       "    </tr>\n",
       "    <tr>\n",
       "      <th>73</th>\n",
       "      <td>Auburn to Renton - NB</td>\n",
       "      <td>47.12</td>\n",
       "      <td>43.70</td>\n",
       "    </tr>\n",
       "    <tr>\n",
       "      <th>82</th>\n",
       "      <td>Renton to Auburn - SB</td>\n",
       "      <td>33.37</td>\n",
       "      <td>34.20</td>\n",
       "    </tr>\n",
       "    <tr>\n",
       "      <th>91</th>\n",
       "      <td>Redmond to Seattle - WB</td>\n",
       "      <td>42.37</td>\n",
       "      <td>23.00</td>\n",
       "    </tr>\n",
       "    <tr>\n",
       "      <th>100</th>\n",
       "      <td>Seattle to Redmond - EB</td>\n",
       "      <td>38.72</td>\n",
       "      <td>35.40</td>\n",
       "    </tr>\n",
       "    <tr>\n",
       "      <th>109</th>\n",
       "      <td>Redmond to Bellevue - WB</td>\n",
       "      <td>43.35</td>\n",
       "      <td>26.70</td>\n",
       "    </tr>\n",
       "    <tr>\n",
       "      <th>118</th>\n",
       "      <td>Bellevue to Redmond - EB</td>\n",
       "      <td>39.98</td>\n",
       "      <td>22.80</td>\n",
       "    </tr>\n",
       "    <tr>\n",
       "      <th>127</th>\n",
       "      <td>Issaquah to Bellevue - WB</td>\n",
       "      <td>45.62</td>\n",
       "      <td>39.70</td>\n",
       "    </tr>\n",
       "    <tr>\n",
       "      <th>136</th>\n",
       "      <td>Bellevue to Issaquah - EB</td>\n",
       "      <td>39.49</td>\n",
       "      <td>24.80</td>\n",
       "    </tr>\n",
       "    <tr>\n",
       "      <th>145</th>\n",
       "      <td>Seattle to Bellevue via 520 - WB</td>\n",
       "      <td>33.92</td>\n",
       "      <td>40.00</td>\n",
       "    </tr>\n",
       "    <tr>\n",
       "      <th>154</th>\n",
       "      <td>Bellevue to Seattle via 520 - EB</td>\n",
       "      <td>34.64</td>\n",
       "      <td>19.00</td>\n",
       "    </tr>\n",
       "    <tr>\n",
       "      <th>163</th>\n",
       "      <td>Bellevue to Seattle via 90 - WB</td>\n",
       "      <td>31.80</td>\n",
       "      <td>19.50</td>\n",
       "    </tr>\n",
       "    <tr>\n",
       "      <th>172</th>\n",
       "      <td>Seattle to Bellevue via 90 - EB</td>\n",
       "      <td>27.21</td>\n",
       "      <td>38.80</td>\n",
       "    </tr>\n",
       "  </tbody>\n",
       "</table>\n",
       "</div>"
      ],
      "text/plain": [
       "                 Corridor_Description  model_speed  observed_speed\n",
       "1             Seattle to Everett - NB        28.31           23.40\n",
       "10            Everett to Seattle - SB        40.32           27.70\n",
       "19             Tacoma to Seattle - NB        41.61           42.90\n",
       "28             Seattle to Tacoma - SB        29.82           25.40\n",
       "37          Bellevue to Lynnwood - NB        29.23           25.60\n",
       "46          Lynnwood to Bellevue - SB        43.10           39.60\n",
       "55           Tukwila to Bellevue - NB        29.92           29.20\n",
       "64           Bellevue to Tukwila - SB        26.18           18.90\n",
       "73              Auburn to Renton - NB        47.12           43.70\n",
       "82              Renton to Auburn - SB        33.37           34.20\n",
       "91            Redmond to Seattle - WB        42.37           23.00\n",
       "100           Seattle to Redmond - EB        38.72           35.40\n",
       "109          Redmond to Bellevue - WB        43.35           26.70\n",
       "118          Bellevue to Redmond - EB        39.98           22.80\n",
       "127         Issaquah to Bellevue - WB        45.62           39.70\n",
       "136         Bellevue to Issaquah - EB        39.49           24.80\n",
       "145  Seattle to Bellevue via 520 - WB        33.92           40.00\n",
       "154  Bellevue to Seattle via 520 - EB        34.64           19.00\n",
       "163   Bellevue to Seattle via 90 - WB        31.80           19.50\n",
       "172   Seattle to Bellevue via 90 - EB        27.21           38.80"
      ]
     },
     "execution_count": 31,
     "metadata": {},
     "output_type": "execute_result"
    }
   ],
   "source": [
    "df[df['tod'] == '16to17'][['Corridor_Description','model_speed','observed_speed']].head(20)"
   ]
  },
  {
   "cell_type": "code",
   "execution_count": null,
   "metadata": {},
   "outputs": [],
   "source": []
  },
  {
   "cell_type": "code",
   "execution_count": null,
   "metadata": {},
   "outputs": [],
   "source": []
  }
 ],
 "metadata": {
  "kernelspec": {
   "display_name": "Python 3",
   "language": "python",
   "name": "python3"
  },
  "language_info": {
   "codemirror_mode": {
    "name": "ipython",
    "version": 3
   },
   "file_extension": ".py",
   "mimetype": "text/x-python",
   "name": "python",
   "nbconvert_exporter": "python",
   "pygments_lexer": "ipython3",
   "version": "3.7.10"
  }
 },
 "nbformat": 4,
 "nbformat_minor": 2
}
