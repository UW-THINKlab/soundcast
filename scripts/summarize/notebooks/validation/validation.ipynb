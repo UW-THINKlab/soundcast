{
 "cells": [
  {
   "cell_type": "code",
   "execution_count": 1,
   "metadata": {
    "execution": {
     "iopub.execute_input": "2024-04-03T21:14:16.554086Z",
     "iopub.status.busy": "2024-04-03T21:14:16.554086Z",
     "iopub.status.idle": "2024-04-03T21:14:17.965900Z",
     "shell.execute_reply": "2024-04-03T21:14:17.965900Z"
    }
   },
   "outputs": [],
   "source": [
    "import os, sys, time\n",
    "from scipy import stats\n",
    "import warnings\n",
    "warnings.simplefilter(action='ignore', category=FutureWarning)\n",
    "import pandas as pd\n",
    "import numpy as np\n",
    "%matplotlib inline\n",
    "\n",
    "from IPython.display import display, HTML\n",
    "\n",
    "if (sys.version_info < (3, 0)):\n",
    "    HTML('''<script>\n",
    "    code_show=true; \n",
    "    function code_toggle() {\n",
    "     if (code_show){\n",
    "     $('div.input').hide();\n",
    "     } else {\n",
    "     $('div.input').show();\n",
    "     }\n",
    "     code_show = !code_show\n",
    "    } \n",
    "    $( document ).ready(code_toggle);\n",
    "    </script>\n",
    "    <form action=\"javascript:code_toggle()\"><input type=\"submit\" value=\"Click here to toggle on/off the raw code.\"></form>''')\n"
   ]
  },
  {
   "cell_type": "code",
   "execution_count": 2,
   "metadata": {
    "execution": {
     "iopub.execute_input": "2024-04-03T21:14:17.965900Z",
     "iopub.status.busy": "2024-04-03T21:14:17.965900Z",
     "iopub.status.idle": "2024-04-03T21:14:17.981522Z",
     "shell.execute_reply": "2024-04-03T21:14:17.981522Z"
    },
    "scrolled": true
   },
   "outputs": [
    {
     "name": "stdout",
     "output_type": "stream",
     "text": [
      "Summary run: Tue, 11 Jun 2024 11:06\n"
     ]
    }
   ],
   "source": [
    "# Create timestamp to show when this summary was run\n",
    "print('Summary run: ' + time.strftime(\"%a, %d %b %Y %H:%M\"))"
   ]
  },
  {
   "cell_type": "code",
   "execution_count": 3,
   "metadata": {
    "execution": {
     "iopub.execute_input": "2024-04-03T21:14:17.981522Z",
     "iopub.status.busy": "2024-04-03T21:14:17.981522Z",
     "iopub.status.idle": "2024-04-03T21:14:17.997144Z",
     "shell.execute_reply": "2024-04-03T21:14:17.997144Z"
    }
   },
   "outputs": [],
   "source": [
    "relative_path = '../../../../outputs'\n",
    "pd.options.display.float_format = '{:0,.0f}'.format\n",
    "format_percent = \"{:,.2%}\".format"
   ]
  },
  {
   "cell_type": "markdown",
   "metadata": {},
   "source": [
    "# Traffic Counts\n",
    "----\n",
    "### Daily | By Facility Type"
   ]
  },
  {
   "cell_type": "code",
   "execution_count": 4,
   "metadata": {
    "execution": {
     "iopub.execute_input": "2024-04-03T21:14:17.997144Z",
     "iopub.status.busy": "2024-04-03T21:14:17.997144Z",
     "iopub.status.idle": "2024-04-03T21:14:18.044121Z",
     "shell.execute_reply": "2024-04-03T21:14:18.044121Z"
    }
   },
   "outputs": [],
   "source": [
    "df = pd.read_csv(os.path.join(relative_path,'validation','daily_volume.csv'))\n",
    "df[['modeled','observed']] = df[['modeled','observed']].astype('float')"
   ]
  },
  {
   "cell_type": "code",
   "execution_count": 5,
   "metadata": {
    "execution": {
     "iopub.execute_input": "2024-04-03T21:14:18.044121Z",
     "iopub.status.busy": "2024-04-03T21:14:18.044121Z",
     "iopub.status.idle": "2024-04-03T21:14:18.122118Z",
     "shell.execute_reply": "2024-04-03T21:14:18.122118Z"
    }
   },
   "outputs": [
    {
     "data": {
      "text/html": [
       "<div>\n",
       "<style scoped>\n",
       "    .dataframe tbody tr th:only-of-type {\n",
       "        vertical-align: middle;\n",
       "    }\n",
       "\n",
       "    .dataframe tbody tr th {\n",
       "        vertical-align: top;\n",
       "    }\n",
       "\n",
       "    .dataframe thead th {\n",
       "        text-align: right;\n",
       "    }\n",
       "</style>\n",
       "<table border=\"1\" class=\"dataframe\">\n",
       "  <thead>\n",
       "    <tr style=\"text-align: right;\">\n",
       "      <th></th>\n",
       "      <th>observed</th>\n",
       "      <th>modeled</th>\n",
       "      <th>diff</th>\n",
       "      <th>percent_diff</th>\n",
       "    </tr>\n",
       "    <tr>\n",
       "      <th>@facilitytype</th>\n",
       "      <th></th>\n",
       "      <th></th>\n",
       "      <th></th>\n",
       "      <th></th>\n",
       "    </tr>\n",
       "  </thead>\n",
       "  <tbody>\n",
       "    <tr>\n",
       "      <th>Arterial</th>\n",
       "      <td>25,761,351</td>\n",
       "      <td>22,618,481</td>\n",
       "      <td>-3,142,870</td>\n",
       "      <td>-12.20%</td>\n",
       "    </tr>\n",
       "    <tr>\n",
       "      <th>Collector</th>\n",
       "      <td>4,378,889</td>\n",
       "      <td>3,380,211</td>\n",
       "      <td>-998,678</td>\n",
       "      <td>-22.81%</td>\n",
       "    </tr>\n",
       "    <tr>\n",
       "      <th>Freeway</th>\n",
       "      <td>28,073,146</td>\n",
       "      <td>29,222,331</td>\n",
       "      <td>1,149,185</td>\n",
       "      <td>4.09%</td>\n",
       "    </tr>\n",
       "    <tr>\n",
       "      <th>Ramp</th>\n",
       "      <td>756,602</td>\n",
       "      <td>619,266</td>\n",
       "      <td>-137,336</td>\n",
       "      <td>-18.15%</td>\n",
       "    </tr>\n",
       "    <tr>\n",
       "      <th>Total</th>\n",
       "      <td>58,969,988</td>\n",
       "      <td>55,840,289</td>\n",
       "      <td>-3,129,699</td>\n",
       "      <td>-5.31%</td>\n",
       "    </tr>\n",
       "  </tbody>\n",
       "</table>\n",
       "</div>"
      ],
      "text/plain": [
       "                observed    modeled       diff percent_diff\n",
       "@facilitytype                                              \n",
       "Arterial      25,761,351 22,618,481 -3,142,870      -12.20%\n",
       "Collector      4,378,889  3,380,211   -998,678      -22.81%\n",
       "Freeway       28,073,146 29,222,331  1,149,185        4.09%\n",
       "Ramp             756,602    619,266   -137,336      -18.15%\n",
       "Total         58,969,988 55,840,289 -3,129,699       -5.31%"
      ]
     },
     "execution_count": 5,
     "metadata": {},
     "output_type": "execute_result"
    }
   ],
   "source": [
    "_df = df.groupby('@facilitytype').sum()[['observed','modeled']]\n",
    "_df.loc['Total',:] = _df.sum().values\n",
    "_df['diff'] = _df['modeled']-_df['observed']\n",
    "_df['percent_diff'] = _df['diff']/_df['observed']\n",
    "_df[['percent_diff']] = _df[['percent_diff']].applymap(format_percent)\n",
    "_df"
   ]
  },
  {
   "cell_type": "markdown",
   "metadata": {},
   "source": [
    "----\n",
    "### Daily | By County"
   ]
  },
  {
   "cell_type": "code",
   "execution_count": 6,
   "metadata": {
    "execution": {
     "iopub.execute_input": "2024-04-03T21:14:18.122118Z",
     "iopub.status.busy": "2024-04-03T21:14:18.122118Z",
     "iopub.status.idle": "2024-04-03T21:14:18.168982Z",
     "shell.execute_reply": "2024-04-03T21:14:18.168982Z"
    }
   },
   "outputs": [
    {
     "data": {
      "text/html": [
       "<div>\n",
       "<style scoped>\n",
       "    .dataframe tbody tr th:only-of-type {\n",
       "        vertical-align: middle;\n",
       "    }\n",
       "\n",
       "    .dataframe tbody tr th {\n",
       "        vertical-align: top;\n",
       "    }\n",
       "\n",
       "    .dataframe thead th {\n",
       "        text-align: right;\n",
       "    }\n",
       "</style>\n",
       "<table border=\"1\" class=\"dataframe\">\n",
       "  <thead>\n",
       "    <tr style=\"text-align: right;\">\n",
       "      <th></th>\n",
       "      <th>observed</th>\n",
       "      <th>modeled</th>\n",
       "      <th>diff</th>\n",
       "      <th>percent_diff</th>\n",
       "    </tr>\n",
       "    <tr>\n",
       "      <th>county</th>\n",
       "      <th></th>\n",
       "      <th></th>\n",
       "      <th></th>\n",
       "      <th></th>\n",
       "    </tr>\n",
       "  </thead>\n",
       "  <tbody>\n",
       "    <tr>\n",
       "      <th>King</th>\n",
       "      <td>31,168,323</td>\n",
       "      <td>30,705,240</td>\n",
       "      <td>-463,083</td>\n",
       "      <td>-1.49%</td>\n",
       "    </tr>\n",
       "    <tr>\n",
       "      <th>Kitsap</th>\n",
       "      <td>4,567,541</td>\n",
       "      <td>3,688,057</td>\n",
       "      <td>-879,484</td>\n",
       "      <td>-19.26%</td>\n",
       "    </tr>\n",
       "    <tr>\n",
       "      <th>Pierce</th>\n",
       "      <td>13,634,217</td>\n",
       "      <td>12,858,933</td>\n",
       "      <td>-775,284</td>\n",
       "      <td>-5.69%</td>\n",
       "    </tr>\n",
       "    <tr>\n",
       "      <th>Snohomish</th>\n",
       "      <td>9,599,907</td>\n",
       "      <td>8,588,059</td>\n",
       "      <td>-1,011,848</td>\n",
       "      <td>-10.54%</td>\n",
       "    </tr>\n",
       "    <tr>\n",
       "      <th>Total</th>\n",
       "      <td>58,969,988</td>\n",
       "      <td>55,840,289</td>\n",
       "      <td>-3,129,699</td>\n",
       "      <td>-5.31%</td>\n",
       "    </tr>\n",
       "  </tbody>\n",
       "</table>\n",
       "</div>"
      ],
      "text/plain": [
       "            observed    modeled       diff percent_diff\n",
       "county                                                 \n",
       "King      31,168,323 30,705,240   -463,083       -1.49%\n",
       "Kitsap     4,567,541  3,688,057   -879,484      -19.26%\n",
       "Pierce    13,634,217 12,858,933   -775,284       -5.69%\n",
       "Snohomish  9,599,907  8,588,059 -1,011,848      -10.54%\n",
       "Total     58,969,988 55,840,289 -3,129,699       -5.31%"
      ]
     },
     "execution_count": 6,
     "metadata": {},
     "output_type": "execute_result"
    }
   ],
   "source": [
    "df = pd.read_csv(os.path.join(relative_path,'validation','daily_volume_county_facility.csv'))\n",
    "df[['modeled','observed']] = df[['modeled','observed']].astype('float')\n",
    "\n",
    "_df = df.groupby('county').sum()[['observed','modeled']]\n",
    "_df.loc['Total',:] = _df.sum().values\n",
    "_df['diff'] = _df['modeled']-_df['observed']\n",
    "_df['percent_diff'] = _df['diff']/_df['observed']\n",
    "_df[['percent_diff']] = _df[['percent_diff']].applymap(format_percent)\n",
    "_df"
   ]
  },
  {
   "cell_type": "markdown",
   "metadata": {},
   "source": [
    "----\n",
    "### Daily | Scatterplots "
   ]
  },
  {
   "cell_type": "code",
   "execution_count": 7,
   "metadata": {
    "execution": {
     "iopub.execute_input": "2024-04-03T21:14:18.168982Z",
     "iopub.status.busy": "2024-04-03T21:14:18.168982Z",
     "iopub.status.idle": "2024-04-03T21:14:18.372060Z",
     "shell.execute_reply": "2024-04-03T21:14:18.372060Z"
    }
   },
   "outputs": [
    {
     "data": {
      "text/plain": [
       "[<matplotlib.lines.Line2D at 0x21b84c3f2c8>]"
      ]
     },
     "execution_count": 7,
     "metadata": {},
     "output_type": "execute_result"
    },
    {
     "data": {
      "image/png": "[encoded data removed]",
      "text/plain": [
       "<Figure size 432x288 with 1 Axes>"
      ]
     },
     "metadata": {
      "needs_background": "light"
     },
     "output_type": "display_data"
    }
   ],
   "source": [
    "df = pd.read_csv(os.path.join(relative_path,'validation','daily_volume.csv'))\n",
    "ax = df.plot(kind='scatter', x='observed', y='modeled')\n",
    "lim = df[['observed','modeled']].max().max()*1.05\n",
    "ax.set_ylim(0,lim)\n",
    "ax.set_xlim(0,lim)\n",
    "x = np.linspace(*ax.get_xlim())\n",
    "ax.plot(x, x)"
   ]
  },
  {
   "cell_type": "code",
   "execution_count": 8,
   "metadata": {
    "execution": {
     "iopub.execute_input": "2024-04-03T21:14:18.372060Z",
     "iopub.status.busy": "2024-04-03T21:14:18.372060Z",
     "iopub.status.idle": "2024-04-03T21:14:18.403299Z",
     "shell.execute_reply": "2024-04-03T21:14:18.403299Z"
    }
   },
   "outputs": [
    {
     "name": "stdout",
     "output_type": "stream",
     "text": [
      "r^2: 0.9598138757318216\n"
     ]
    }
   ],
   "source": [
    "slope, intercept, r_value, p_value, std_err = stats.linregress(df['observed'],df['modeled'])\n",
    "print('r^2: ' + str(r_value))"
   ]
  },
  {
   "cell_type": "markdown",
   "metadata": {},
   "source": [
    "---\n",
    "By County"
   ]
  },
  {
   "cell_type": "code",
   "execution_count": 9,
   "metadata": {
    "execution": {
     "iopub.execute_input": "2024-04-03T21:14:18.403299Z",
     "iopub.status.busy": "2024-04-03T21:14:18.403299Z",
     "iopub.status.idle": "2024-04-03T21:14:18.950052Z",
     "shell.execute_reply": "2024-04-03T21:14:18.950052Z"
    }
   },
   "outputs": [
    {
     "name": "stdout",
     "output_type": "stream",
     "text": [
      "King r^2: 0.9701245180480464\n",
      "Kitsap r^2: 0.9500131524724362\n",
      "Pierce r^2: 0.9416566063653837\n",
      "Snohomish r^2: 0.9564569783545044\n"
     ]
    },
    {
     "data": {
      "image/png": "[encoded data removed]",
      "text/plain": [
       "<Figure size 432x288 with 1 Axes>"
      ]
     },
     "metadata": {
      "needs_background": "light"
     },
     "output_type": "display_data"
    },
    {
     "data": {
      "image/png": "[encoded data removed]",
      "text/plain": [
       "<Figure size 432x288 with 1 Axes>"
      ]
     },
     "metadata": {
      "needs_background": "light"
     },
     "output_type": "display_data"
    },
    {
     "data": {
      "image/png": "[encoded data removed]",
      "text/plain": [
       "<Figure size 432x288 with 1 Axes>"
      ]
     },
     "metadata": {
      "needs_background": "light"
     },
     "output_type": "display_data"
    },
    {
     "data": {
      "image/png": "[encoded data removed]",
      "text/plain": [
       "<Figure size 432x288 with 1 Axes>"
      ]
     },
     "metadata": {
      "needs_background": "light"
     },
     "output_type": "display_data"
    }
   ],
   "source": [
    "for county in np.unique(df['county']):\n",
    "    _df = df[df['county'] == county]\n",
    "    ax = _df.plot(kind='scatter', x='observed', y='modeled', label=county)\n",
    "    lim = _df[['observed','modeled']].max().max()*1.05\n",
    "    ax.set_ylim(0,lim)\n",
    "    ax.set_xlim(0,lim)\n",
    "    slope, intercept, r_value, p_value, std_err = stats.linregress(_df['observed'],_df['modeled'])\n",
    "    x = np.linspace(*ax.get_xlim())\n",
    "    ax.plot(x, x)\n",
    "    print(str(county) + ' r^2: ' + str(r_value))"
   ]
  },
  {
   "cell_type": "markdown",
   "metadata": {},
   "source": [
    "---\n",
    "By Facility Type"
   ]
  },
  {
   "cell_type": "code",
   "execution_count": 10,
   "metadata": {
    "execution": {
     "iopub.execute_input": "2024-04-03T21:14:18.950052Z",
     "iopub.status.busy": "2024-04-03T21:14:18.950052Z",
     "iopub.status.idle": "2024-04-03T21:14:19.309345Z",
     "shell.execute_reply": "2024-04-03T21:14:19.309345Z"
    }
   },
   "outputs": [
    {
     "name": "stdout",
     "output_type": "stream",
     "text": [
      "r^2 Freeway: 0.9045160934990746\n",
      "r^2 Arterial: 0.8750134729176682\n"
     ]
    },
    {
     "data": {
      "image/png": "[encoded data removed]",
      "text/plain": [
       "<Figure size 432x288 with 1 Axes>"
      ]
     },
     "metadata": {
      "needs_background": "light"
     },
     "output_type": "display_data"
    },
    {
     "data": {
      "image/png": "[encoded data removed]",
      "text/plain": [
       "<Figure size 432x288 with 1 Axes>"
      ]
     },
     "metadata": {
      "needs_background": "light"
     },
     "output_type": "display_data"
    }
   ],
   "source": [
    "for factype in ['Freeway','Arterial']:\n",
    "    _df = df[df['@facilitytype'] == factype]\n",
    "    ax = _df.plot(kind='scatter', x='observed', y='modeled', label=factype)\n",
    "    lim = _df[['observed','modeled']].max().max()*1.05\n",
    "    ax.set_ylim(0,lim)\n",
    "    ax.set_xlim(0,lim)\n",
    "    x = np.linspace(*ax.get_xlim())\n",
    "    ax.plot(x, x)\n",
    "    slope, intercept, r_value, p_value, std_err = stats.linregress(_df['observed'],_df['modeled'])\n",
    "    print('r^2 ' + str(factype) + ': ' + str(r_value))"
   ]
  },
  {
   "cell_type": "markdown",
   "metadata": {},
   "source": [
    "**Hourly Volumes**\n"
   ]
  },
  {
   "cell_type": "code",
   "execution_count": 11,
   "metadata": {
    "execution": {
     "iopub.execute_input": "2024-04-03T21:14:19.309345Z",
     "iopub.status.busy": "2024-04-03T21:14:19.309345Z",
     "iopub.status.idle": "2024-04-03T21:14:19.465557Z",
     "shell.execute_reply": "2024-04-03T21:14:19.465557Z"
    }
   },
   "outputs": [
    {
     "name": "stdout",
     "output_type": "stream",
     "text": [
      "r^2: 0.9004740181969447\n"
     ]
    },
    {
     "data": {
      "image/png": "[encoded data removed]",
      "text/plain": [
       "<Figure size 432x288 with 1 Axes>"
      ]
     },
     "metadata": {
      "needs_background": "light"
     },
     "output_type": "display_data"
    }
   ],
   "source": [
    "df = pd.read_csv(os.path.join(relative_path,'validation','hourly_volume.csv'))\n",
    "ax = df.plot(kind='scatter', x='observed', y='modeled')\n",
    "lim = df[['observed','modeled']].max().max()*1.05\n",
    "ax.set_ylim(0,lim)\n",
    "ax.set_xlim(0,lim)\n",
    "x = np.linspace(*ax.get_xlim())\n",
    "ax.plot(x, x)\n",
    "slope, intercept, r_value, p_value, std_err = stats.linregress(df['observed'],df['modeled'])\n",
    "print('r^2: ' + str(r_value))"
   ]
  },
  {
   "cell_type": "markdown",
   "metadata": {},
   "source": [
    "# Screenlines"
   ]
  },
  {
   "cell_type": "code",
   "execution_count": 12,
   "metadata": {
    "execution": {
     "iopub.execute_input": "2024-04-03T21:14:19.465557Z",
     "iopub.status.busy": "2024-04-03T21:14:19.465557Z",
     "iopub.status.idle": "2024-04-03T21:14:19.496799Z",
     "shell.execute_reply": "2024-04-03T21:14:19.496799Z"
    }
   },
   "outputs": [
    {
     "data": {
      "text/html": [
       "<div>\n",
       "<style scoped>\n",
       "    .dataframe tbody tr th:only-of-type {\n",
       "        vertical-align: middle;\n",
       "    }\n",
       "\n",
       "    .dataframe tbody tr th {\n",
       "        vertical-align: top;\n",
       "    }\n",
       "\n",
       "    .dataframe thead th {\n",
       "        text-align: right;\n",
       "    }\n",
       "</style>\n",
       "<table border=\"1\" class=\"dataframe\">\n",
       "  <thead>\n",
       "    <tr style=\"text-align: right;\">\n",
       "      <th></th>\n",
       "      <th>name</th>\n",
       "      <th>observed</th>\n",
       "      <th>modeled</th>\n",
       "      <th>county</th>\n",
       "      <th>diff</th>\n",
       "      <th>percent_diff</th>\n",
       "    </tr>\n",
       "  </thead>\n",
       "  <tbody>\n",
       "    <tr>\n",
       "      <th>0</th>\n",
       "      <td>AUBURN - SOUTH KING</td>\n",
       "      <td>582,116</td>\n",
       "      <td>538,232</td>\n",
       "      <td>King</td>\n",
       "      <td>-43,884</td>\n",
       "      <td>-7.54%</td>\n",
       "    </tr>\n",
       "    <tr>\n",
       "      <th>1</th>\n",
       "      <td>KENT</td>\n",
       "      <td>552,442</td>\n",
       "      <td>504,640</td>\n",
       "      <td>King</td>\n",
       "      <td>-47,802</td>\n",
       "      <td>-8.65%</td>\n",
       "    </tr>\n",
       "    <tr>\n",
       "      <th>2</th>\n",
       "      <td>SEATTLE - SOUTH OF CBD</td>\n",
       "      <td>473,322</td>\n",
       "      <td>512,753</td>\n",
       "      <td>King</td>\n",
       "      <td>39,431</td>\n",
       "      <td>8.33%</td>\n",
       "    </tr>\n",
       "    <tr>\n",
       "      <th>3</th>\n",
       "      <td>SHIP CANAL</td>\n",
       "      <td>434,069</td>\n",
       "      <td>566,291</td>\n",
       "      <td>King</td>\n",
       "      <td>132,222</td>\n",
       "      <td>30.46%</td>\n",
       "    </tr>\n",
       "    <tr>\n",
       "      <th>4</th>\n",
       "      <td>SOUTH BELLEVUE</td>\n",
       "      <td>389,700</td>\n",
       "      <td>361,373</td>\n",
       "      <td>King</td>\n",
       "      <td>-28,327</td>\n",
       "      <td>-7.27%</td>\n",
       "    </tr>\n",
       "    <tr>\n",
       "      <th>5</th>\n",
       "      <td>MILL CREEK</td>\n",
       "      <td>387,047</td>\n",
       "      <td>382,043</td>\n",
       "      <td>King</td>\n",
       "      <td>-5,004</td>\n",
       "      <td>-1.29%</td>\n",
       "    </tr>\n",
       "    <tr>\n",
       "      <th>6</th>\n",
       "      <td>KIRKLAND-REDMOND</td>\n",
       "      <td>381,663</td>\n",
       "      <td>421,027</td>\n",
       "      <td>King</td>\n",
       "      <td>39,364</td>\n",
       "      <td>10.31%</td>\n",
       "    </tr>\n",
       "    <tr>\n",
       "      <th>7</th>\n",
       "      <td>SEATTLE - NORTH</td>\n",
       "      <td>341,251</td>\n",
       "      <td>382,947</td>\n",
       "      <td>King</td>\n",
       "      <td>41,696</td>\n",
       "      <td>12.22%</td>\n",
       "    </tr>\n",
       "    <tr>\n",
       "      <th>8</th>\n",
       "      <td>TACOMA - EAST OF CBD</td>\n",
       "      <td>300,463</td>\n",
       "      <td>347,968</td>\n",
       "      <td>Pierce</td>\n",
       "      <td>47,505</td>\n",
       "      <td>15.81%</td>\n",
       "    </tr>\n",
       "    <tr>\n",
       "      <th>9</th>\n",
       "      <td>PARKLAND</td>\n",
       "      <td>297,722</td>\n",
       "      <td>277,658</td>\n",
       "      <td>Pierce</td>\n",
       "      <td>-20,064</td>\n",
       "      <td>-6.74%</td>\n",
       "    </tr>\n",
       "    <tr>\n",
       "      <th>10</th>\n",
       "      <td>BOTHELL</td>\n",
       "      <td>290,973</td>\n",
       "      <td>320,170</td>\n",
       "      <td>King</td>\n",
       "      <td>29,197</td>\n",
       "      <td>10.03%</td>\n",
       "    </tr>\n",
       "    <tr>\n",
       "      <th>11</th>\n",
       "      <td>LYNNWOOD-BOTHELL</td>\n",
       "      <td>259,099</td>\n",
       "      <td>294,225</td>\n",
       "      <td>King</td>\n",
       "      <td>35,126</td>\n",
       "      <td>13.56%</td>\n",
       "    </tr>\n",
       "    <tr>\n",
       "      <th>12</th>\n",
       "      <td>TUKWILA</td>\n",
       "      <td>257,776</td>\n",
       "      <td>235,925</td>\n",
       "      <td>King</td>\n",
       "      <td>-21,851</td>\n",
       "      <td>-8.48%</td>\n",
       "    </tr>\n",
       "    <tr>\n",
       "      <th>13</th>\n",
       "      <td>TRANSLAKE</td>\n",
       "      <td>220,934</td>\n",
       "      <td>301,304</td>\n",
       "      <td>King</td>\n",
       "      <td>80,370</td>\n",
       "      <td>36.38%</td>\n",
       "    </tr>\n",
       "    <tr>\n",
       "      <th>14</th>\n",
       "      <td>PUYALLUP</td>\n",
       "      <td>124,400</td>\n",
       "      <td>122,561</td>\n",
       "      <td>Pierce</td>\n",
       "      <td>-1,839</td>\n",
       "      <td>-1.48%</td>\n",
       "    </tr>\n",
       "    <tr>\n",
       "      <th>15</th>\n",
       "      <td>WOODINVILLE</td>\n",
       "      <td>116,355</td>\n",
       "      <td>146,696</td>\n",
       "      <td>King</td>\n",
       "      <td>30,341</td>\n",
       "      <td>26.08%</td>\n",
       "    </tr>\n",
       "    <tr>\n",
       "      <th>16</th>\n",
       "      <td>NORTH KITSAP</td>\n",
       "      <td>103,890</td>\n",
       "      <td>81,278</td>\n",
       "      <td>Kitsap</td>\n",
       "      <td>-22,612</td>\n",
       "      <td>-21.77%</td>\n",
       "    </tr>\n",
       "    <tr>\n",
       "      <th>17</th>\n",
       "      <td>TACOMA NARROWS</td>\n",
       "      <td>87,000</td>\n",
       "      <td>107,238</td>\n",
       "      <td>Pierce</td>\n",
       "      <td>20,238</td>\n",
       "      <td>23.26%</td>\n",
       "    </tr>\n",
       "    <tr>\n",
       "      <th>18</th>\n",
       "      <td>PRESTON-ISSAQUAH</td>\n",
       "      <td>86,462</td>\n",
       "      <td>88,605</td>\n",
       "      <td>King</td>\n",
       "      <td>2,143</td>\n",
       "      <td>2.48%</td>\n",
       "    </tr>\n",
       "    <tr>\n",
       "      <th>19</th>\n",
       "      <td>GIG HARBOR</td>\n",
       "      <td>76,975</td>\n",
       "      <td>89,475</td>\n",
       "      <td>Pierce</td>\n",
       "      <td>12,500</td>\n",
       "      <td>16.24%</td>\n",
       "    </tr>\n",
       "    <tr>\n",
       "      <th>20</th>\n",
       "      <td>SEATAC</td>\n",
       "      <td>71,402</td>\n",
       "      <td>90,899</td>\n",
       "      <td>King</td>\n",
       "      <td>19,497</td>\n",
       "      <td>27.31%</td>\n",
       "    </tr>\n",
       "    <tr>\n",
       "      <th>21</th>\n",
       "      <td>MAPLE VALLEY</td>\n",
       "      <td>70,813</td>\n",
       "      <td>64,779</td>\n",
       "      <td>King</td>\n",
       "      <td>-6,034</td>\n",
       "      <td>-8.52%</td>\n",
       "    </tr>\n",
       "    <tr>\n",
       "      <th>22</th>\n",
       "      <td>RENTON</td>\n",
       "      <td>67,127</td>\n",
       "      <td>71,165</td>\n",
       "      <td>King</td>\n",
       "      <td>4,038</td>\n",
       "      <td>6.02%</td>\n",
       "    </tr>\n",
       "    <tr>\n",
       "      <th>23</th>\n",
       "      <td>AGATE PASS BRIDGE</td>\n",
       "      <td>22,000</td>\n",
       "      <td>21,557</td>\n",
       "      <td>Kitsap</td>\n",
       "      <td>-443</td>\n",
       "      <td>-2.01%</td>\n",
       "    </tr>\n",
       "    <tr>\n",
       "      <th>24</th>\n",
       "      <td>CROSS SOUND</td>\n",
       "      <td>14,565</td>\n",
       "      <td>14,155</td>\n",
       "      <td>Kitsap</td>\n",
       "      <td>-410</td>\n",
       "      <td>-2.81%</td>\n",
       "    </tr>\n",
       "    <tr>\n",
       "      <th>25</th>\n",
       "      <td>TOTAL</td>\n",
       "      <td>6,009,566</td>\n",
       "      <td>6,344,965</td>\n",
       "      <td>NaN</td>\n",
       "      <td>335,399</td>\n",
       "      <td>5.58%</td>\n",
       "    </tr>\n",
       "  </tbody>\n",
       "</table>\n",
       "</div>"
      ],
      "text/plain": [
       "                      name  observed   modeled  county    diff percent_diff\n",
       "0      AUBURN - SOUTH KING   582,116   538,232    King -43,884       -7.54%\n",
       "1                     KENT   552,442   504,640    King -47,802       -8.65%\n",
       "2   SEATTLE - SOUTH OF CBD   473,322   512,753    King  39,431        8.33%\n",
       "3               SHIP CANAL   434,069   566,291    King 132,222       30.46%\n",
       "4           SOUTH BELLEVUE   389,700   361,373    King -28,327       -7.27%\n",
       "5               MILL CREEK   387,047   382,043    King  -5,004       -1.29%\n",
       "6         KIRKLAND-REDMOND   381,663   421,027    King  39,364       10.31%\n",
       "7          SEATTLE - NORTH   341,251   382,947    King  41,696       12.22%\n",
       "8     TACOMA - EAST OF CBD   300,463   347,968  Pierce  47,505       15.81%\n",
       "9                 PARKLAND   297,722   277,658  Pierce -20,064       -6.74%\n",
       "10                 BOTHELL   290,973   320,170    King  29,197       10.03%\n",
       "11        LYNNWOOD-BOTHELL   259,099   294,225    King  35,126       13.56%\n",
       "12                 TUKWILA   257,776   235,925    King -21,851       -8.48%\n",
       "13               TRANSLAKE   220,934   301,304    King  80,370       36.38%\n",
       "14                PUYALLUP   124,400   122,561  Pierce  -1,839       -1.48%\n",
       "15             WOODINVILLE   116,355   146,696    King  30,341       26.08%\n",
       "16            NORTH KITSAP   103,890    81,278  Kitsap -22,612      -21.77%\n",
       "17          TACOMA NARROWS    87,000   107,238  Pierce  20,238       23.26%\n",
       "18        PRESTON-ISSAQUAH    86,462    88,605    King   2,143        2.48%\n",
       "19              GIG HARBOR    76,975    89,475  Pierce  12,500       16.24%\n",
       "20                  SEATAC    71,402    90,899    King  19,497       27.31%\n",
       "21            MAPLE VALLEY    70,813    64,779    King  -6,034       -8.52%\n",
       "22                  RENTON    67,127    71,165    King   4,038        6.02%\n",
       "23       AGATE PASS BRIDGE    22,000    21,557  Kitsap    -443       -2.01%\n",
       "24             CROSS SOUND    14,565    14,155  Kitsap    -410       -2.81%\n",
       "25                   TOTAL 6,009,566 6,344,965     NaN 335,399        5.58%"
      ]
     },
     "execution_count": 12,
     "metadata": {},
     "output_type": "execute_result"
    }
   ],
   "source": [
    "df = pd.read_csv(os.path.join(relative_path,'validation','screenlines.csv'))\n",
    "df = df.append(df.sum(numeric_only=True), ignore_index=True)\n",
    "df.at[df.index[-1], 'name'] = 'TOTAL'\n",
    "#df.at['C', 'name'] = 10\n",
    "df['percent_diff'] = df['diff']/df['observed']\n",
    "df[['percent_diff']] = df[['percent_diff']].applymap(format_percent)\n",
    "df"
   ]
  },
  {
   "cell_type": "code",
   "execution_count": 13,
   "metadata": {
    "execution": {
     "iopub.execute_input": "2024-04-03T21:14:19.496799Z",
     "iopub.status.busy": "2024-04-03T21:14:19.496799Z",
     "iopub.status.idle": "2024-04-03T21:14:19.606152Z",
     "shell.execute_reply": "2024-04-03T21:14:19.606152Z"
    }
   },
   "outputs": [
    {
     "name": "stdout",
     "output_type": "stream",
     "text": [
      "r^2 : 0.9747135927321063\n"
     ]
    },
    {
     "data": {
      "image/png": "[encoded data removed]",
      "text/plain": [
       "<Figure size 432x288 with 1 Axes>"
      ]
     },
     "metadata": {
      "needs_background": "light"
     },
     "output_type": "display_data"
    }
   ],
   "source": [
    "df = df.head(-1)\n",
    "ax = df.plot(kind='scatter', x='observed', y='modeled')\n",
    "lim = df[['observed','modeled']].max().max()*1.05\n",
    "ax.set_ylim(0,lim)\n",
    "ax.set_xlim(0,lim)\n",
    "x = np.linspace(*ax.get_xlim())\n",
    "ax.plot(x, x)\n",
    "slope, intercept, r_value, p_value, std_err = stats.linregress(df['observed'],df['modeled'])\n",
    "print('r^2 : ' + str(r_value))"
   ]
  },
  {
   "cell_type": "markdown",
   "metadata": {},
   "source": [
    "# Transit Boarding\n",
    "----\n",
    "### By Agency"
   ]
  },
  {
   "cell_type": "code",
   "execution_count": 14,
   "metadata": {
    "execution": {
     "iopub.execute_input": "2024-04-03T21:14:19.606152Z",
     "iopub.status.busy": "2024-04-03T21:14:19.606152Z",
     "iopub.status.idle": "2024-04-03T21:14:19.637395Z",
     "shell.execute_reply": "2024-04-03T21:14:19.637395Z"
    }
   },
   "outputs": [
    {
     "data": {
      "text/html": [
       "<div>\n",
       "<style scoped>\n",
       "    .dataframe tbody tr th:only-of-type {\n",
       "        vertical-align: middle;\n",
       "    }\n",
       "\n",
       "    .dataframe tbody tr th {\n",
       "        vertical-align: top;\n",
       "    }\n",
       "\n",
       "    .dataframe thead th {\n",
       "        text-align: right;\n",
       "    }\n",
       "</style>\n",
       "<table border=\"1\" class=\"dataframe\">\n",
       "  <thead>\n",
       "    <tr style=\"text-align: right;\">\n",
       "      <th></th>\n",
       "      <th>agency</th>\n",
       "      <th>observed_5to20</th>\n",
       "      <th>modeled_5to20</th>\n",
       "      <th>diff</th>\n",
       "      <th>perc_diff</th>\n",
       "    </tr>\n",
       "  </thead>\n",
       "  <tbody>\n",
       "    <tr>\n",
       "      <th>3</th>\n",
       "      <td>Sound Transit</td>\n",
       "      <td>143,838</td>\n",
       "      <td>153,298</td>\n",
       "      <td>9,461</td>\n",
       "      <td>6.58%</td>\n",
       "    </tr>\n",
       "    <tr>\n",
       "      <th>4</th>\n",
       "      <td>Washington Ferries</td>\n",
       "      <td>16,912</td>\n",
       "      <td>5,234</td>\n",
       "      <td>-11,678</td>\n",
       "      <td>-69.05%</td>\n",
       "    </tr>\n",
       "    <tr>\n",
       "      <th>1</th>\n",
       "      <td>King County Metro</td>\n",
       "      <td>9,628</td>\n",
       "      <td>408,302</td>\n",
       "      <td>398,674</td>\n",
       "      <td>4,140.74%</td>\n",
       "    </tr>\n",
       "    <tr>\n",
       "      <th>2</th>\n",
       "      <td>Kitsap Transit</td>\n",
       "      <td>7,237</td>\n",
       "      <td>14,692</td>\n",
       "      <td>7,456</td>\n",
       "      <td>103.03%</td>\n",
       "    </tr>\n",
       "    <tr>\n",
       "      <th>0</th>\n",
       "      <td>Everett Transit</td>\n",
       "      <td>4,135</td>\n",
       "      <td>3,122</td>\n",
       "      <td>-1,013</td>\n",
       "      <td>-24.49%</td>\n",
       "    </tr>\n",
       "  </tbody>\n",
       "</table>\n",
       "</div>"
      ],
      "text/plain": [
       "               agency  observed_5to20  modeled_5to20    diff  perc_diff\n",
       "3       Sound Transit         143,838        153,298   9,461      6.58%\n",
       "4  Washington Ferries          16,912          5,234 -11,678    -69.05%\n",
       "1   King County Metro           9,628        408,302 398,674  4,140.74%\n",
       "2      Kitsap Transit           7,237         14,692   7,456    103.03%\n",
       "0     Everett Transit           4,135          3,122  -1,013    -24.49%"
      ]
     },
     "execution_count": 14,
     "metadata": {},
     "output_type": "execute_result"
    }
   ],
   "source": [
    "df = pd.read_csv(os.path.join(relative_path,'validation/') + 'daily_boardings_by_agency.csv')\n",
    "\n",
    "df[['observed_5to20','modeled_5to20','diff']] = df[['observed_5to20','modeled_5to20','diff']].astype('float')\n",
    "df[['perc_diff']] = df[['perc_diff']].applymap(format_percent)\n",
    "df.sort_values('observed_5to20', ascending=False)"
   ]
  },
  {
   "cell_type": "markdown",
   "metadata": {},
   "source": [
    "----\n",
    "### Key Routes\n",
    "#### Ferries"
   ]
  },
  {
   "cell_type": "code",
   "execution_count": 15,
   "metadata": {
    "execution": {
     "iopub.execute_input": "2024-04-03T21:14:19.637395Z",
     "iopub.status.busy": "2024-04-03T21:14:19.637395Z",
     "iopub.status.idle": "2024-04-03T21:14:19.746742Z",
     "shell.execute_reply": "2024-04-03T21:14:19.746742Z"
    }
   },
   "outputs": [
    {
     "data": {
      "text/html": [
       "<div>\n",
       "<style scoped>\n",
       "    .dataframe tbody tr th:only-of-type {\n",
       "        vertical-align: middle;\n",
       "    }\n",
       "\n",
       "    .dataframe tbody tr th {\n",
       "        vertical-align: top;\n",
       "    }\n",
       "\n",
       "    .dataframe thead th {\n",
       "        text-align: right;\n",
       "    }\n",
       "</style>\n",
       "<table border=\"1\" class=\"dataframe\">\n",
       "  <thead>\n",
       "    <tr style=\"text-align: right;\">\n",
       "      <th></th>\n",
       "      <th>description</th>\n",
       "      <th>observed_5to20</th>\n",
       "      <th>modeled_5to20</th>\n",
       "      <th>diff</th>\n",
       "      <th>perc_diff</th>\n",
       "    </tr>\n",
       "  </thead>\n",
       "  <tbody>\n",
       "    <tr>\n",
       "      <th>0</th>\n",
       "      <td>W</td>\n",
       "      <td>1,356</td>\n",
       "      <td>1,011</td>\n",
       "      <td>-344</td>\n",
       "      <td>-25.41%</td>\n",
       "    </tr>\n",
       "    <tr>\n",
       "      <th>1</th>\n",
       "      <td>S</td>\n",
       "      <td>670</td>\n",
       "      <td>947</td>\n",
       "      <td>277</td>\n",
       "      <td>41.40%</td>\n",
       "    </tr>\n",
       "    <tr>\n",
       "      <th>2</th>\n",
       "      <td>Kingston - EdmondsE</td>\n",
       "      <td>1,732</td>\n",
       "      <td>145</td>\n",
       "      <td>-1,587</td>\n",
       "      <td>-91.63%</td>\n",
       "    </tr>\n",
       "    <tr>\n",
       "      <th>3</th>\n",
       "      <td>Bainbridge Island -</td>\n",
       "      <td>8,857</td>\n",
       "      <td>3,165</td>\n",
       "      <td>-5,691</td>\n",
       "      <td>-64.26%</td>\n",
       "    </tr>\n",
       "    <tr>\n",
       "      <th>4</th>\n",
       "      <td>WSF Bremerton - Seat</td>\n",
       "      <td>4,484</td>\n",
       "      <td>110</td>\n",
       "      <td>-4,375</td>\n",
       "      <td>-97.56%</td>\n",
       "    </tr>\n",
       "    <tr>\n",
       "      <th>5</th>\n",
       "      <td>Southworth - Fauntle</td>\n",
       "      <td>365</td>\n",
       "      <td>162</td>\n",
       "      <td>-203</td>\n",
       "      <td>-55.58%</td>\n",
       "    </tr>\n",
       "    <tr>\n",
       "      <th>6</th>\n",
       "      <td>Vashon Island - Faun</td>\n",
       "      <td>946</td>\n",
       "      <td>1,404</td>\n",
       "      <td>458</td>\n",
       "      <td>48.36%</td>\n",
       "    </tr>\n",
       "    <tr>\n",
       "      <th>7</th>\n",
       "      <td>Southworth - Vashon</td>\n",
       "      <td>239</td>\n",
       "      <td>99</td>\n",
       "      <td>-139</td>\n",
       "      <td>-58.31%</td>\n",
       "    </tr>\n",
       "    <tr>\n",
       "      <th>8</th>\n",
       "      <td>Point Defiance - Tah</td>\n",
       "      <td>289</td>\n",
       "      <td>148</td>\n",
       "      <td>-140</td>\n",
       "      <td>-48.59%</td>\n",
       "    </tr>\n",
       "  </tbody>\n",
       "</table>\n",
       "</div>"
      ],
      "text/plain": [
       "            description  observed_5to20  modeled_5to20   diff perc_diff\n",
       "0                     W           1,356          1,011   -344   -25.41%\n",
       "1                     S             670            947    277    41.40%\n",
       "2   Kingston - EdmondsE           1,732            145 -1,587   -91.63%\n",
       "3   Bainbridge Island -           8,857          3,165 -5,691   -64.26%\n",
       "4  WSF Bremerton - Seat           4,484            110 -4,375   -97.56%\n",
       "5  Southworth - Fauntle             365            162   -203   -55.58%\n",
       "6  Vashon Island - Faun             946          1,404    458    48.36%\n",
       "7   Southworth - Vashon             239             99   -139   -58.31%\n",
       "8  Point Defiance - Tah             289            148   -140   -48.59%"
      ]
     },
     "execution_count": 15,
     "metadata": {},
     "output_type": "execute_result"
    }
   ],
   "source": [
    "df = pd.read_csv(os.path.join(relative_path,'validation/') + 'daily_boardings_key_routes.csv', index_col='description')\n",
    "df[['observed_5to20','modeled_5to20']] = df[['observed_5to20','modeled_5to20']].astype('float')\n",
    "_df = df[df['route_code'].isin([5001,5002,5003,5004,5005,5006,5007,1973,1975])].reset_index()\n",
    "_df.drop(['route_code','agency'], axis=1, inplace=True)\n",
    "_df[['perc_diff']] = _df[['perc_diff']].applymap(format_percent)\n",
    "_df"
   ]
  },
  {
   "cell_type": "code",
   "execution_count": 16,
   "metadata": {
    "execution": {
     "iopub.execute_input": "2024-04-03T21:14:19.746742Z",
     "iopub.status.busy": "2024-04-03T21:14:19.746742Z",
     "iopub.status.idle": "2024-04-03T21:14:19.762365Z",
     "shell.execute_reply": "2024-04-03T21:14:19.762365Z"
    }
   },
   "outputs": [
    {
     "name": "stdout",
     "output_type": "stream",
     "text": [
      "r^2 : 0.7375340047032718\n"
     ]
    },
    {
     "data": {
      "image/png": "[encoded data removed]",
      "text/plain": [
       "<Figure size 432x288 with 1 Axes>"
      ]
     },
     "metadata": {
      "needs_background": "light"
     },
     "output_type": "display_data"
    }
   ],
   "source": [
    "if len(_df) > 0:\n",
    "    ax = _df.plot(kind='scatter', x='observed_5to20', y='modeled_5to20')\n",
    "    lim = _df[['observed_5to20','modeled_5to20']].max().max()*1.05\n",
    "    ax.set_ylim(0,lim)\n",
    "    ax.set_xlim(0,lim)\n",
    "    x = np.linspace(*ax.get_xlim())\n",
    "    ax.plot(x, x)\n",
    "    slope, intercept, r_value, p_value, std_err = stats.linregress(_df['observed_5to20'],_df['modeled_5to20'])\n",
    "    print('r^2 ' + str('') + ': ' + str(r_value))"
   ]
  },
  {
   "cell_type": "markdown",
   "metadata": {},
   "source": [
    "#### Bikes on Ferries"
   ]
  },
  {
   "cell_type": "code",
   "execution_count": 17,
   "metadata": {
    "execution": {
     "iopub.execute_input": "2024-04-03T21:14:19.762365Z",
     "iopub.status.busy": "2024-04-03T21:14:19.762365Z",
     "iopub.status.idle": "2024-04-03T21:14:19.777985Z",
     "shell.execute_reply": "2024-04-03T21:14:19.777985Z"
    }
   },
   "outputs": [
    {
     "data": {
      "text/html": [
       "<div>\n",
       "<style scoped>\n",
       "    .dataframe tbody tr th:only-of-type {\n",
       "        vertical-align: middle;\n",
       "    }\n",
       "\n",
       "    .dataframe tbody tr th {\n",
       "        vertical-align: top;\n",
       "    }\n",
       "\n",
       "    .dataframe thead th {\n",
       "        text-align: right;\n",
       "    }\n",
       "</style>\n",
       "<table border=\"1\" class=\"dataframe\">\n",
       "  <thead>\n",
       "    <tr style=\"text-align: right;\">\n",
       "      <th></th>\n",
       "      <th>route_code</th>\n",
       "      <th>description</th>\n",
       "      <th>@bvol</th>\n",
       "    </tr>\n",
       "  </thead>\n",
       "  <tbody>\n",
       "    <tr>\n",
       "      <th>4</th>\n",
       "      <td>4203</td>\n",
       "      <td>Annapolis Foot Ferry</td>\n",
       "      <td>688</td>\n",
       "    </tr>\n",
       "    <tr>\n",
       "      <th>3</th>\n",
       "      <td>4201</td>\n",
       "      <td>Bremerton-Port Orcha</td>\n",
       "      <td>409</td>\n",
       "    </tr>\n",
       "    <tr>\n",
       "      <th>2</th>\n",
       "      <td>4200</td>\n",
       "      <td>Bremerton-Seattle Fa</td>\n",
       "      <td>407</td>\n",
       "    </tr>\n",
       "    <tr>\n",
       "      <th>0</th>\n",
       "      <td>1973</td>\n",
       "      <td>E</td>\n",
       "      <td>289</td>\n",
       "    </tr>\n",
       "    <tr>\n",
       "      <th>1</th>\n",
       "      <td>1975</td>\n",
       "      <td>N</td>\n",
       "      <td>136</td>\n",
       "    </tr>\n",
       "    <tr>\n",
       "      <th>11</th>\n",
       "      <td>5007</td>\n",
       "      <td>Point Defiance - Tah</td>\n",
       "      <td>74</td>\n",
       "    </tr>\n",
       "    <tr>\n",
       "      <th>10</th>\n",
       "      <td>5005</td>\n",
       "      <td>Vashon Island - Faun</td>\n",
       "      <td>72</td>\n",
       "    </tr>\n",
       "    <tr>\n",
       "      <th>7</th>\n",
       "      <td>5002</td>\n",
       "      <td>Bainbridge Island -</td>\n",
       "      <td>53</td>\n",
       "    </tr>\n",
       "    <tr>\n",
       "      <th>9</th>\n",
       "      <td>5004</td>\n",
       "      <td>Fauntleroy - Southwo</td>\n",
       "      <td>35</td>\n",
       "    </tr>\n",
       "    <tr>\n",
       "      <th>6</th>\n",
       "      <td>5001</td>\n",
       "      <td>Kingston - EdmondsE</td>\n",
       "      <td>10</td>\n",
       "    </tr>\n",
       "    <tr>\n",
       "      <th>8</th>\n",
       "      <td>5003</td>\n",
       "      <td>WSF Seattle - Bremer</td>\n",
       "      <td>10</td>\n",
       "    </tr>\n",
       "    <tr>\n",
       "      <th>5</th>\n",
       "      <td>4204</td>\n",
       "      <td>Fast FerryN</td>\n",
       "      <td>6</td>\n",
       "    </tr>\n",
       "  </tbody>\n",
       "</table>\n",
       "</div>"
      ],
      "text/plain": [
       "    route_code           description  @bvol\n",
       "4         4203  Annapolis Foot Ferry    688\n",
       "3         4201  Bremerton-Port Orcha    409\n",
       "2         4200  Bremerton-Seattle Fa    407\n",
       "0         1973                     E    289\n",
       "1         1975                     N    136\n",
       "11        5007  Point Defiance - Tah     74\n",
       "10        5005  Vashon Island - Faun     72\n",
       "7         5002   Bainbridge Island -     53\n",
       "9         5004  Fauntleroy - Southwo     35\n",
       "6         5001   Kingston - EdmondsE     10\n",
       "8         5003  WSF Seattle - Bremer     10\n",
       "5         4204           Fast FerryN      6"
      ]
     },
     "execution_count": 17,
     "metadata": {},
     "output_type": "execute_result"
    }
   ],
   "source": [
    "df = pd.read_csv(os.path.join(relative_path,'validation/') + 'bike_ferry_boardings.csv')\n",
    "df['route_code'] = df['route_code'].astype('int')\n",
    "df[['route_code','description', '@bvol']].sort_values('@bvol', ascending=False)"
   ]
  },
  {
   "cell_type": "markdown",
   "metadata": {},
   "source": [
    "#### Rail"
   ]
  },
  {
   "cell_type": "code",
   "execution_count": 18,
   "metadata": {
    "execution": {
     "iopub.execute_input": "2024-04-03T21:14:19.777985Z",
     "iopub.status.busy": "2024-04-03T21:14:19.777985Z",
     "iopub.status.idle": "2024-04-03T21:14:19.809118Z",
     "shell.execute_reply": "2024-04-03T21:14:19.809118Z"
    }
   },
   "outputs": [
    {
     "data": {
      "text/html": [
       "<div>\n",
       "<style scoped>\n",
       "    .dataframe tbody tr th:only-of-type {\n",
       "        vertical-align: middle;\n",
       "    }\n",
       "\n",
       "    .dataframe tbody tr th {\n",
       "        vertical-align: top;\n",
       "    }\n",
       "\n",
       "    .dataframe thead th {\n",
       "        text-align: right;\n",
       "    }\n",
       "</style>\n",
       "<table border=\"1\" class=\"dataframe\">\n",
       "  <thead>\n",
       "    <tr style=\"text-align: right;\">\n",
       "      <th></th>\n",
       "      <th>description</th>\n",
       "      <th>observed_5to20</th>\n",
       "      <th>modeled_5to20</th>\n",
       "      <th>diff</th>\n",
       "      <th>perc_diff</th>\n",
       "    </tr>\n",
       "  </thead>\n",
       "  <tbody>\n",
       "    <tr>\n",
       "      <th>0</th>\n",
       "      <td>Link Red Line</td>\n",
       "      <td>69,383</td>\n",
       "      <td>74,630</td>\n",
       "      <td>5,247</td>\n",
       "      <td>7.56%</td>\n",
       "    </tr>\n",
       "    <tr>\n",
       "      <th>1</th>\n",
       "      <td>Sounder South</td>\n",
       "      <td>15,356</td>\n",
       "      <td>12,093</td>\n",
       "      <td>-3,263</td>\n",
       "      <td>-21.25%</td>\n",
       "    </tr>\n",
       "    <tr>\n",
       "      <th>2</th>\n",
       "      <td>Sounder North</td>\n",
       "      <td>1,667</td>\n",
       "      <td>15</td>\n",
       "      <td>-1,651</td>\n",
       "      <td>-99.08%</td>\n",
       "    </tr>\n",
       "  </tbody>\n",
       "</table>\n",
       "</div>"
      ],
      "text/plain": [
       "     description  observed_5to20  modeled_5to20   diff perc_diff\n",
       "0  Link Red Line          69,383         74,630  5,247     7.56%\n",
       "1  Sounder South          15,356         12,093 -3,263   -21.25%\n",
       "2  Sounder North           1,667             15 -1,651   -99.08%"
      ]
     },
     "execution_count": 18,
     "metadata": {},
     "output_type": "execute_result"
    }
   ],
   "source": [
    "df = pd.read_csv(os.path.join(relative_path,'validation/') + 'daily_boardings_key_routes.csv', index_col='description')\n",
    "df[['observed_5to20','modeled_5to20']] = df[['observed_5to20','modeled_5to20']].astype('float')\n",
    "_df = df[df['route_code'].isin([6996,6999,6998])].reset_index()\n",
    "_df['description'] = _df['route_code'].map({6998: 'Sounder South', 6999: 'Sounder North',6996: 'Link Red Line'})\n",
    "_df.drop(['route_code','agency'], axis=1, inplace=True)\n",
    "_df[['perc_diff']] = _df[['perc_diff']].applymap(format_percent)\n",
    "\n",
    "_df"
   ]
  },
  {
   "cell_type": "code",
   "execution_count": 19,
   "metadata": {
    "execution": {
     "iopub.execute_input": "2024-04-03T21:14:19.811112Z",
     "iopub.status.busy": "2024-04-03T21:14:19.811112Z",
     "iopub.status.idle": "2024-04-03T21:14:19.825075Z",
     "shell.execute_reply": "2024-04-03T21:14:19.825075Z"
    }
   },
   "outputs": [
    {
     "name": "stdout",
     "output_type": "stream",
     "text": [
      "r^2 : 0.9991601432525211\n"
     ]
    },
    {
     "data": {
      "image/png": "[encoded data removed]",
      "text/plain": [
       "<Figure size 432x288 with 1 Axes>"
      ]
     },
     "metadata": {
      "needs_background": "light"
     },
     "output_type": "display_data"
    }
   ],
   "source": [
    "if len(_df) > 0: \n",
    "    ax = _df.plot(kind='scatter', x='observed_5to20', y='modeled_5to20')\n",
    "    lim = _df[['observed_5to20','modeled_5to20']].max().max()*1.05\n",
    "    ax.set_ylim(0,lim)\n",
    "    ax.set_xlim(0,lim)\n",
    "    x = np.linspace(*ax.get_xlim())\n",
    "    ax.plot(x, x)\n",
    "    slope, intercept, r_value, p_value, std_err = stats.linregress(_df['observed_5to20'],_df['modeled_5to20'])\n",
    "    print('r^2 ' + str('') + ': ' + str(r_value))"
   ]
  },
  {
   "cell_type": "markdown",
   "metadata": {},
   "source": [
    "#### RapidRide, Busiest Buses, Streetcar"
   ]
  },
  {
   "cell_type": "code",
   "execution_count": 20,
   "metadata": {
    "execution": {
     "iopub.execute_input": "2024-04-03T21:14:19.827183Z",
     "iopub.status.busy": "2024-04-03T21:14:19.827183Z",
     "iopub.status.idle": "2024-04-03T21:14:19.840147Z",
     "shell.execute_reply": "2024-04-03T21:14:19.840147Z"
    }
   },
   "outputs": [
    {
     "data": {
      "text/html": [
       "<div>\n",
       "<style scoped>\n",
       "    .dataframe tbody tr th:only-of-type {\n",
       "        vertical-align: middle;\n",
       "    }\n",
       "\n",
       "    .dataframe tbody tr th {\n",
       "        vertical-align: top;\n",
       "    }\n",
       "\n",
       "    .dataframe thead th {\n",
       "        text-align: right;\n",
       "    }\n",
       "</style>\n",
       "<table border=\"1\" class=\"dataframe\">\n",
       "  <thead>\n",
       "    <tr style=\"text-align: right;\">\n",
       "      <th></th>\n",
       "      <th>description</th>\n",
       "      <th>observed_5to20</th>\n",
       "      <th>modeled_5to20</th>\n",
       "      <th>diff</th>\n",
       "      <th>perc_diff</th>\n",
       "    </tr>\n",
       "  </thead>\n",
       "  <tbody>\n",
       "    <tr>\n",
       "      <th>2</th>\n",
       "      <td>Sound Transit 550</td>\n",
       "      <td>9,168</td>\n",
       "      <td>9,617</td>\n",
       "      <td>449</td>\n",
       "      <td>4.90%</td>\n",
       "    </tr>\n",
       "    <tr>\n",
       "      <th>1</th>\n",
       "      <td>First Hill Streetcar</td>\n",
       "      <td>3,586</td>\n",
       "      <td>1,390</td>\n",
       "      <td>-2,197</td>\n",
       "      <td>-61.25%</td>\n",
       "    </tr>\n",
       "    <tr>\n",
       "      <th>0</th>\n",
       "      <td>SLU Streetcar</td>\n",
       "      <td>1,703</td>\n",
       "      <td>1,084</td>\n",
       "      <td>-619</td>\n",
       "      <td>-36.35%</td>\n",
       "    </tr>\n",
       "  </tbody>\n",
       "</table>\n",
       "</div>"
      ],
      "text/plain": [
       "            description  observed_5to20  modeled_5to20   diff perc_diff\n",
       "2     Sound Transit 550           9,168          9,617    449     4.90%\n",
       "1  First Hill Streetcar           3,586          1,390 -2,197   -61.25%\n",
       "0         SLU Streetcar           1,703          1,084   -619   -36.35%"
      ]
     },
     "execution_count": 20,
     "metadata": {},
     "output_type": "execute_result"
    }
   ],
   "source": [
    "_df = df[df['route_code'].isin([1671,1672,1673,1674,1675,1676,6550,1007,1040,1997,1998])].reset_index()\n",
    "_df['description'] = _df['route_code'].map({1671: 'A Line RapidRide', 1672: 'B Line RapidRide',\n",
    "                                            1673: 'C Line RapidRide', 1674: 'D Line RapidRide',\n",
    "                                            1675: 'E Line RapidRide', 1676: 'F Line RapidRide',\n",
    "                                            6550: 'Sound Transit 550', 1040: 'KC Metro 40', 1007: 'KC Metro 7',\n",
    "                                            1997: 'SLU Streetcar', 1998: 'First Hill Streetcar'})\n",
    "_df.drop(['route_code','agency'], axis=1, inplace=True)\n",
    "_df[['perc_diff']] = _df[['perc_diff']].applymap(format_percent)\n",
    "_df.sort_values('modeled_5to20', ascending=False)"
   ]
  },
  {
   "cell_type": "code",
   "execution_count": 21,
   "metadata": {
    "execution": {
     "iopub.execute_input": "2024-04-03T21:14:19.842142Z",
     "iopub.status.busy": "2024-04-03T21:14:19.842142Z",
     "iopub.status.idle": "2024-04-03T21:14:19.855107Z",
     "shell.execute_reply": "2024-04-03T21:14:19.855107Z"
    }
   },
   "outputs": [
    {
     "name": "stdout",
     "output_type": "stream",
     "text": [
      "r^2 : 0.9773117244750914\n"
     ]
    },
    {
     "data": {
      "image/png": "[encoded data removed]",
      "text/plain": [
       "<Figure size 432x288 with 1 Axes>"
      ]
     },
     "metadata": {
      "needs_background": "light"
     },
     "output_type": "display_data"
    }
   ],
   "source": [
    "if len(_df) > 0: \n",
    "    ax = _df.plot(kind='scatter', x='observed_5to20', y='modeled_5to20')\n",
    "    lim = _df[['observed_5to20','modeled_5to20']].max().max()*1.05\n",
    "    ax.set_ylim(0,lim)\n",
    "    ax.set_xlim(0,lim)\n",
    "    x = np.linspace(*ax.get_xlim())\n",
    "    ax.plot(x, x)\n",
    "    slope, intercept, r_value, p_value, std_err = stats.linregress(_df['observed_5to20'],_df['modeled_5to20'])\n",
    "    print('r^2 ' + str('') + ': ' + str(r_value))"
   ]
  },
  {
   "cell_type": "markdown",
   "metadata": {},
   "source": [
    "---\n",
    "### Lines by Agency"
   ]
  },
  {
   "cell_type": "code",
   "execution_count": 22,
   "metadata": {
    "execution": {
     "iopub.execute_input": "2024-04-03T21:14:19.857102Z",
     "iopub.status.busy": "2024-04-03T21:14:19.857102Z",
     "iopub.status.idle": "2024-04-03T21:14:19.871567Z",
     "shell.execute_reply": "2024-04-03T21:14:19.870566Z"
    }
   },
   "outputs": [
    {
     "name": "stdout",
     "output_type": "stream",
     "text": [
      "r^2 Everett Transit: 0.907394264273597\n",
      "r^2 King County Metro: 0.19738346094265555\n",
      "r^2 Kitsap Transit: 0.6766806397643179\n",
      "r^2 Sound Transit: 0.9944926636806174\n",
      "r^2 Washington Ferries: 0.7823744246304872\n"
     ]
    },
    {
     "data": {
      "image/png": "[encoded data removed]",
      "text/plain": [
       "<Figure size 432x288 with 1 Axes>"
      ]
     },
     "metadata": {
      "needs_background": "light"
     },
     "output_type": "display_data"
    },
    {
     "data": {
      "image/png": "[encoded data removed]",
      "text/plain": [
       "<Figure size 432x288 with 1 Axes>"
      ]
     },
     "metadata": {
      "needs_background": "light"
     },
     "output_type": "display_data"
    },
    {
     "data": {
      "image/png": "[encoded data removed]",
      "text/plain": [
       "<Figure size 432x288 with 1 Axes>"
      ]
     },
     "metadata": {
      "needs_background": "light"
     },
     "output_type": "display_data"
    },
    {
     "data": {
      "image/png": "[encoded data removed]",
      "text/plain": [
       "<Figure size 432x288 with 1 Axes>"
      ]
     },
     "metadata": {
      "needs_background": "light"
     },
     "output_type": "display_data"
    },
    {
     "data": {
      "image/png": "[encoded data removed]",
      "text/plain": [
       "<Figure size 432x288 with 1 Axes>"
      ]
     },
     "metadata": {
      "needs_background": "light"
     },
     "output_type": "display_data"
    }
   ],
   "source": [
    "df = pd.read_csv(os.path.join(relative_path,'validation/') + 'daily_boardings_by_line.csv', index_col='agency')\n",
    "df = df[-df['agency_id'].isnull()]\n",
    "\n",
    "for agency in np.unique(df.index):\n",
    "    _df = df.loc[agency,:]\n",
    "    if (type(_df) == pd.core.frame.DataFrame) & (len(df) > 0):\n",
    "        ax = _df.plot(kind='scatter', x='observed_5to20', y='modeled_5to20', label=agency)\n",
    "        lim = _df[['observed_5to20','modeled_5to20']].max().max()*1.05\n",
    "        ax.set_ylim(0,lim)\n",
    "        ax.set_xlim(0,lim)\n",
    "        x = np.linspace(*ax.get_xlim())\n",
    "        ax.plot(x, x)\n",
    "        slope, intercept, r_value, p_value, std_err = stats.linregress(_df['observed_5to20'],_df['modeled_5to20'])\n",
    "        print('r^2 ' + str(agency) + ': ' + str(r_value))"
   ]
  },
  {
   "cell_type": "markdown",
   "metadata": {},
   "source": [
    "# Light Rail Station Boardings\n",
    "----\n",
    "Red Line"
   ]
  },
  {
   "cell_type": "code",
   "execution_count": 23,
   "metadata": {
    "execution": {
     "iopub.execute_input": "2024-04-03T21:14:19.875557Z",
     "iopub.status.busy": "2024-04-03T21:14:19.874559Z",
     "iopub.status.idle": "2024-04-03T21:14:19.903106Z",
     "shell.execute_reply": "2024-04-03T21:14:19.902103Z"
    }
   },
   "outputs": [
    {
     "data": {
      "text/html": [
       "<div>\n",
       "<style scoped>\n",
       "    .dataframe tbody tr th:only-of-type {\n",
       "        vertical-align: middle;\n",
       "    }\n",
       "\n",
       "    .dataframe tbody tr th {\n",
       "        vertical-align: top;\n",
       "    }\n",
       "\n",
       "    .dataframe thead th {\n",
       "        text-align: right;\n",
       "    }\n",
       "</style>\n",
       "<table border=\"1\" class=\"dataframe\">\n",
       "  <thead>\n",
       "    <tr style=\"text-align: right;\">\n",
       "      <th></th>\n",
       "      <th>observed_5to20</th>\n",
       "      <th>modeled_5to20</th>\n",
       "      <th>diff</th>\n",
       "      <th>percent_diff</th>\n",
       "    </tr>\n",
       "    <tr>\n",
       "      <th>station_name</th>\n",
       "      <th></th>\n",
       "      <th></th>\n",
       "      <th></th>\n",
       "      <th></th>\n",
       "    </tr>\n",
       "  </thead>\n",
       "  <tbody>\n",
       "    <tr>\n",
       "      <th>Husky Stadium</th>\n",
       "      <td>5,492</td>\n",
       "      <td>4,028</td>\n",
       "      <td>-1,464</td>\n",
       "      <td>-26.66%</td>\n",
       "    </tr>\n",
       "    <tr>\n",
       "      <th>Westlake</th>\n",
       "      <td>7,919</td>\n",
       "      <td>8,687</td>\n",
       "      <td>768</td>\n",
       "      <td>9.70%</td>\n",
       "    </tr>\n",
       "    <tr>\n",
       "      <th>University St</th>\n",
       "      <td>3,871</td>\n",
       "      <td>5,739</td>\n",
       "      <td>1,868</td>\n",
       "      <td>48.25%</td>\n",
       "    </tr>\n",
       "    <tr>\n",
       "      <th>Pioneer Square</th>\n",
       "      <td>2,149</td>\n",
       "      <td>4,811</td>\n",
       "      <td>2,662</td>\n",
       "      <td>123.88%</td>\n",
       "    </tr>\n",
       "    <tr>\n",
       "      <th>Int'l District</th>\n",
       "      <td>3,938</td>\n",
       "      <td>1,628</td>\n",
       "      <td>-2,310</td>\n",
       "      <td>-58.66%</td>\n",
       "    </tr>\n",
       "    <tr>\n",
       "      <th>Capitol Hill</th>\n",
       "      <td>6,864</td>\n",
       "      <td>6,441</td>\n",
       "      <td>-423</td>\n",
       "      <td>-6.16%</td>\n",
       "    </tr>\n",
       "    <tr>\n",
       "      <th>Stadium</th>\n",
       "      <td>1,550</td>\n",
       "      <td>563</td>\n",
       "      <td>-987</td>\n",
       "      <td>-63.66%</td>\n",
       "    </tr>\n",
       "    <tr>\n",
       "      <th>SODO</th>\n",
       "      <td>1,494</td>\n",
       "      <td>3,010</td>\n",
       "      <td>1,515</td>\n",
       "      <td>101.42%</td>\n",
       "    </tr>\n",
       "    <tr>\n",
       "      <th>Beacon Hill</th>\n",
       "      <td>1,922</td>\n",
       "      <td>998</td>\n",
       "      <td>-924</td>\n",
       "      <td>-48.09%</td>\n",
       "    </tr>\n",
       "    <tr>\n",
       "      <th>Mount Baker</th>\n",
       "      <td>1,666</td>\n",
       "      <td>1,082</td>\n",
       "      <td>-584</td>\n",
       "      <td>-35.03%</td>\n",
       "    </tr>\n",
       "    <tr>\n",
       "      <th>Columbia City</th>\n",
       "      <td>1,459</td>\n",
       "      <td>1,004</td>\n",
       "      <td>-456</td>\n",
       "      <td>-31.23%</td>\n",
       "    </tr>\n",
       "    <tr>\n",
       "      <th>Othello</th>\n",
       "      <td>1,817</td>\n",
       "      <td>1,278</td>\n",
       "      <td>-539</td>\n",
       "      <td>-29.66%</td>\n",
       "    </tr>\n",
       "    <tr>\n",
       "      <th>Rainier Beach</th>\n",
       "      <td>1,338</td>\n",
       "      <td>1,192</td>\n",
       "      <td>-147</td>\n",
       "      <td>-10.96%</td>\n",
       "    </tr>\n",
       "    <tr>\n",
       "      <th>Tukwila Int'l Blvd</th>\n",
       "      <td>2,057</td>\n",
       "      <td>1,730</td>\n",
       "      <td>-327</td>\n",
       "      <td>-15.89%</td>\n",
       "    </tr>\n",
       "    <tr>\n",
       "      <th>SeaTac/Airport</th>\n",
       "      <td>4,236</td>\n",
       "      <td>5,979</td>\n",
       "      <td>1,744</td>\n",
       "      <td>41.17%</td>\n",
       "    </tr>\n",
       "    <tr>\n",
       "      <th>Angle Lake</th>\n",
       "      <td>3,460</td>\n",
       "      <td>3,187</td>\n",
       "      <td>-274</td>\n",
       "      <td>-7.91%</td>\n",
       "    </tr>\n",
       "    <tr>\n",
       "      <th>University District Station</th>\n",
       "      <td>6,771</td>\n",
       "      <td>7,283</td>\n",
       "      <td>512</td>\n",
       "      <td>7.56%</td>\n",
       "    </tr>\n",
       "    <tr>\n",
       "      <th>Roosevelt Station</th>\n",
       "      <td>3,894</td>\n",
       "      <td>8,265</td>\n",
       "      <td>4,372</td>\n",
       "      <td>112.28%</td>\n",
       "    </tr>\n",
       "    <tr>\n",
       "      <th>Northgate Station</th>\n",
       "      <td>9,297</td>\n",
       "      <td>7,725</td>\n",
       "      <td>-1,572</td>\n",
       "      <td>-16.91%</td>\n",
       "    </tr>\n",
       "    <tr>\n",
       "      <th>Total</th>\n",
       "      <td>71,195</td>\n",
       "      <td>74,630</td>\n",
       "      <td>3,435</td>\n",
       "      <td>4.83%</td>\n",
       "    </tr>\n",
       "  </tbody>\n",
       "</table>\n",
       "</div>"
      ],
      "text/plain": [
       "                             observed_5to20  modeled_5to20   diff percent_diff\n",
       "station_name                                                                  \n",
       "Husky Stadium                         5,492          4,028 -1,464      -26.66%\n",
       "Westlake                              7,919          8,687    768        9.70%\n",
       "University St                         3,871          5,739  1,868       48.25%\n",
       "Pioneer Square                        2,149          4,811  2,662      123.88%\n",
       "Int'l District                        3,938          1,628 -2,310      -58.66%\n",
       "Capitol Hill                          6,864          6,441   -423       -6.16%\n",
       "Stadium                               1,550            563   -987      -63.66%\n",
       "SODO                                  1,494          3,010  1,515      101.42%\n",
       "Beacon Hill                           1,922            998   -924      -48.09%\n",
       "Mount Baker                           1,666          1,082   -584      -35.03%\n",
       "Columbia City                         1,459          1,004   -456      -31.23%\n",
       "Othello                               1,817          1,278   -539      -29.66%\n",
       "Rainier Beach                         1,338          1,192   -147      -10.96%\n",
       "Tukwila Int'l Blvd                    2,057          1,730   -327      -15.89%\n",
       "SeaTac/Airport                        4,236          5,979  1,744       41.17%\n",
       "Angle Lake                            3,460          3,187   -274       -7.91%\n",
       "University District Station           6,771          7,283    512        7.56%\n",
       "Roosevelt Station                     3,894          8,265  4,372      112.28%\n",
       "Northgate Station                     9,297          7,725 -1,572      -16.91%\n",
       "Total                                71,195         74,630  3,435        4.83%"
      ]
     },
     "execution_count": 23,
     "metadata": {},
     "output_type": "execute_result"
    }
   ],
   "source": [
    "df = pd.read_csv(os.path.join(relative_path,'validation/') + 'light_rail_boardings.csv', index_col='station_name')\n",
    "df['diff'] = df['modeled_5to20']-df['observed_5to20']\n",
    "df['percent_diff'] = df['diff']/df['observed_5to20']\n",
    "df[['percent_diff']] = df[['percent_diff']].applymap(format_percent)\n",
    "df"
   ]
  },
  {
   "cell_type": "markdown",
   "metadata": {},
   "source": [
    "Sound Transit Station Groupings"
   ]
  },
  {
   "cell_type": "code",
   "execution_count": 24,
   "metadata": {
    "execution": {
     "iopub.execute_input": "2024-04-03T21:14:19.907162Z",
     "iopub.status.busy": "2024-04-03T21:14:19.906098Z",
     "iopub.status.idle": "2024-04-03T21:14:19.966531Z",
     "shell.execute_reply": "2024-04-03T21:14:19.966531Z"
    }
   },
   "outputs": [
    {
     "data": {
      "text/html": [
       "<div>\n",
       "<style scoped>\n",
       "    .dataframe tbody tr th:only-of-type {\n",
       "        vertical-align: middle;\n",
       "    }\n",
       "\n",
       "    .dataframe tbody tr th {\n",
       "        vertical-align: top;\n",
       "    }\n",
       "\n",
       "    .dataframe thead th {\n",
       "        text-align: right;\n",
       "    }\n",
       "</style>\n",
       "<table border=\"1\" class=\"dataframe\">\n",
       "  <thead>\n",
       "    <tr style=\"text-align: right;\">\n",
       "      <th></th>\n",
       "      <th>observed_5to20</th>\n",
       "      <th>modeled_5to20</th>\n",
       "      <th>diff</th>\n",
       "      <th>percent_diff</th>\n",
       "    </tr>\n",
       "    <tr>\n",
       "      <th>station_group</th>\n",
       "      <th></th>\n",
       "      <th></th>\n",
       "      <th></th>\n",
       "      <th></th>\n",
       "    </tr>\n",
       "  </thead>\n",
       "  <tbody>\n",
       "    <tr>\n",
       "      <th>Husky Stadium</th>\n",
       "      <td>5,492</td>\n",
       "      <td>4,028</td>\n",
       "      <td>-1,464</td>\n",
       "      <td>-26.66%</td>\n",
       "    </tr>\n",
       "    <tr>\n",
       "      <th>Capitol Hill</th>\n",
       "      <td>6,864</td>\n",
       "      <td>6,441</td>\n",
       "      <td>-423</td>\n",
       "      <td>-6.16%</td>\n",
       "    </tr>\n",
       "    <tr>\n",
       "      <th>Westlake/University St</th>\n",
       "      <td>11,790</td>\n",
       "      <td>14,426</td>\n",
       "      <td>2,636</td>\n",
       "      <td>22.36%</td>\n",
       "    </tr>\n",
       "    <tr>\n",
       "      <th>Pioneer Square/Int'l District</th>\n",
       "      <td>6,087</td>\n",
       "      <td>6,439</td>\n",
       "      <td>352</td>\n",
       "      <td>5.78%</td>\n",
       "    </tr>\n",
       "    <tr>\n",
       "      <th>Stadium/SODO</th>\n",
       "      <td>3,044</td>\n",
       "      <td>3,573</td>\n",
       "      <td>529</td>\n",
       "      <td>17.38%</td>\n",
       "    </tr>\n",
       "    <tr>\n",
       "      <th>Beacon Hill/Mount Baker</th>\n",
       "      <td>3,588</td>\n",
       "      <td>2,080</td>\n",
       "      <td>-1,508</td>\n",
       "      <td>-42.03%</td>\n",
       "    </tr>\n",
       "    <tr>\n",
       "      <th>Columbia City</th>\n",
       "      <td>1,459</td>\n",
       "      <td>1,004</td>\n",
       "      <td>-456</td>\n",
       "      <td>-31.23%</td>\n",
       "    </tr>\n",
       "    <tr>\n",
       "      <th>Othello/Rainier Beach</th>\n",
       "      <td>3,156</td>\n",
       "      <td>2,470</td>\n",
       "      <td>-686</td>\n",
       "      <td>-21.73%</td>\n",
       "    </tr>\n",
       "    <tr>\n",
       "      <th>Tukwila Int'l Blvd</th>\n",
       "      <td>2,057</td>\n",
       "      <td>1,730</td>\n",
       "      <td>-327</td>\n",
       "      <td>-15.89%</td>\n",
       "    </tr>\n",
       "    <tr>\n",
       "      <th>SeaTac/Airport</th>\n",
       "      <td>4,236</td>\n",
       "      <td>5,979</td>\n",
       "      <td>1,744</td>\n",
       "      <td>41.17%</td>\n",
       "    </tr>\n",
       "    <tr>\n",
       "      <th>Angle Lake</th>\n",
       "      <td>3,460</td>\n",
       "      <td>3,187</td>\n",
       "      <td>-274</td>\n",
       "      <td>-7.91%</td>\n",
       "    </tr>\n",
       "  </tbody>\n",
       "</table>\n",
       "</div>"
      ],
      "text/plain": [
       "                               observed_5to20  modeled_5to20   diff  \\\n",
       "station_group                                                         \n",
       "Husky Stadium                           5,492          4,028 -1,464   \n",
       "Capitol Hill                            6,864          6,441   -423   \n",
       "Westlake/University St                 11,790         14,426  2,636   \n",
       "Pioneer Square/Int'l District           6,087          6,439    352   \n",
       "Stadium/SODO                            3,044          3,573    529   \n",
       "Beacon Hill/Mount Baker                 3,588          2,080 -1,508   \n",
       "Columbia City                           1,459          1,004   -456   \n",
       "Othello/Rainier Beach                   3,156          2,470   -686   \n",
       "Tukwila Int'l Blvd                      2,057          1,730   -327   \n",
       "SeaTac/Airport                          4,236          5,979  1,744   \n",
       "Angle Lake                              3,460          3,187   -274   \n",
       "\n",
       "                              percent_diff  \n",
       "station_group                               \n",
       "Husky Stadium                      -26.66%  \n",
       "Capitol Hill                        -6.16%  \n",
       "Westlake/University St              22.36%  \n",
       "Pioneer Square/Int'l District        5.78%  \n",
       "Stadium/SODO                        17.38%  \n",
       "Beacon Hill/Mount Baker            -42.03%  \n",
       "Columbia City                      -31.23%  \n",
       "Othello/Rainier Beach              -21.73%  \n",
       "Tukwila Int'l Blvd                 -15.89%  \n",
       "SeaTac/Airport                      41.17%  \n",
       "Angle Lake                          -7.91%  "
      ]
     },
     "execution_count": 24,
     "metadata": {},
     "output_type": "execute_result"
    }
   ],
   "source": [
    "df_combined = df.copy()\n",
    "\n",
    "df_combined['station_group'] = df.index\n",
    "df_combined.loc[['Westlake'],'station_group'] = 'Westlake/University St'\n",
    "df_combined.loc[['University St'],'station_group'] = 'Westlake/University St'\n",
    "\n",
    "df_combined.loc[['Pioneer Square'],'station_group'] = \"Pioneer Square/Int'l District\"\n",
    "df_combined.loc[[\"Int'l District\"],'station_group'] = \"Pioneer Square/Int'l District\"\n",
    "\n",
    "df_combined.loc[['Stadium'],'station_group'] = 'Stadium/SODO'\n",
    "df_combined.loc[['SODO'],'station_group'] = 'Stadium/SODO'\n",
    "\n",
    "df_combined.loc[['Beacon Hill'],'station_group'] = 'Beacon Hill/Mount Baker'\n",
    "df_combined.loc[['Mount Baker'],'station_group'] = 'Beacon Hill/Mount Baker'\n",
    "\n",
    "df_combined.loc[['Othello'],'station_group'] = 'Othello/Rainier Beach'\n",
    "df_combined.loc[['Rainier Beach'],'station_group'] = 'Othello/Rainier Beach'\n",
    "\n",
    "df_combined = df_combined.groupby('station_group').sum()[['observed_5to20','modeled_5to20']]\n",
    "df_combined['diff'] = df_combined['modeled_5to20']-df_combined['observed_5to20']\n",
    "df_combined['percent_diff'] = df_combined['diff']/df_combined['observed_5to20']\n",
    "df_combined[['percent_diff']] = df_combined[['percent_diff']].applymap(format_percent)\n",
    "\n",
    "df_combined.loc[['Husky Stadium','Capitol Hill','Westlake/University St',\"Pioneer Square/Int'l District\",\n",
    "                 'Stadium/SODO','Beacon Hill/Mount Baker','Columbia City','Othello/Rainier Beach',\n",
    "                \"Tukwila Int'l Blvd\",'SeaTac/Airport','Angle Lake']]"
   ]
  },
  {
   "cell_type": "markdown",
   "metadata": {},
   "source": [
    "# Stop Transfers\n",
    "\n",
    "### Light Rail"
   ]
  },
  {
   "cell_type": "code",
   "execution_count": 25,
   "metadata": {
    "execution": {
     "iopub.execute_input": "2024-04-03T21:14:19.966531Z",
     "iopub.status.busy": "2024-04-03T21:14:19.966531Z",
     "iopub.status.idle": "2024-04-03T21:14:20.013469Z",
     "shell.execute_reply": "2024-04-03T21:14:20.013469Z"
    }
   },
   "outputs": [
    {
     "data": {
      "text/html": [
       "<div>\n",
       "<style scoped>\n",
       "    .dataframe tbody tr th:only-of-type {\n",
       "        vertical-align: middle;\n",
       "    }\n",
       "\n",
       "    .dataframe tbody tr th {\n",
       "        vertical-align: top;\n",
       "    }\n",
       "\n",
       "    .dataframe thead th {\n",
       "        text-align: right;\n",
       "    }\n",
       "</style>\n",
       "<table border=\"1\" class=\"dataframe\">\n",
       "  <thead>\n",
       "    <tr style=\"text-align: right;\">\n",
       "      <th></th>\n",
       "      <th>modeled_transfer_rate</th>\n",
       "      <th>observed_transfer_rate</th>\n",
       "      <th>diff</th>\n",
       "      <th>percent_diff</th>\n",
       "    </tr>\n",
       "    <tr>\n",
       "      <th>station_name</th>\n",
       "      <th></th>\n",
       "      <th></th>\n",
       "      <th></th>\n",
       "      <th></th>\n",
       "    </tr>\n",
       "  </thead>\n",
       "  <tbody>\n",
       "    <tr>\n",
       "      <th>Husky Stadium</th>\n",
       "      <td>0.90</td>\n",
       "      <td>-99.00</td>\n",
       "      <td>99.90</td>\n",
       "      <td>-100.91%</td>\n",
       "    </tr>\n",
       "    <tr>\n",
       "      <th>Westlake</th>\n",
       "      <td>0.18</td>\n",
       "      <td>0.36</td>\n",
       "      <td>-0.18</td>\n",
       "      <td>-50.26%</td>\n",
       "    </tr>\n",
       "    <tr>\n",
       "      <th>University St</th>\n",
       "      <td>0.26</td>\n",
       "      <td>0.20</td>\n",
       "      <td>0.06</td>\n",
       "      <td>29.64%</td>\n",
       "    </tr>\n",
       "    <tr>\n",
       "      <th>Pioneer Square</th>\n",
       "      <td>0.44</td>\n",
       "      <td>0.16</td>\n",
       "      <td>0.28</td>\n",
       "      <td>175.42%</td>\n",
       "    </tr>\n",
       "    <tr>\n",
       "      <th>Int'l District</th>\n",
       "      <td>0.69</td>\n",
       "      <td>0.45</td>\n",
       "      <td>0.24</td>\n",
       "      <td>52.33%</td>\n",
       "    </tr>\n",
       "    <tr>\n",
       "      <th>Capitol Hill</th>\n",
       "      <td>0.07</td>\n",
       "      <td>-99.00</td>\n",
       "      <td>99.07</td>\n",
       "      <td>-100.07%</td>\n",
       "    </tr>\n",
       "    <tr>\n",
       "      <th>Stadium</th>\n",
       "      <td>0.29</td>\n",
       "      <td>0.12</td>\n",
       "      <td>0.17</td>\n",
       "      <td>141.32%</td>\n",
       "    </tr>\n",
       "    <tr>\n",
       "      <th>SODO</th>\n",
       "      <td>0.57</td>\n",
       "      <td>0.31</td>\n",
       "      <td>0.26</td>\n",
       "      <td>83.08%</td>\n",
       "    </tr>\n",
       "    <tr>\n",
       "      <th>Beacon Hill</th>\n",
       "      <td>0.34</td>\n",
       "      <td>0.35</td>\n",
       "      <td>-0.01</td>\n",
       "      <td>-2.31%</td>\n",
       "    </tr>\n",
       "    <tr>\n",
       "      <th>Mount Baker</th>\n",
       "      <td>0.48</td>\n",
       "      <td>0.32</td>\n",
       "      <td>0.15</td>\n",
       "      <td>46.62%</td>\n",
       "    </tr>\n",
       "    <tr>\n",
       "      <th>Columbia City</th>\n",
       "      <td>0.02</td>\n",
       "      <td>0.12</td>\n",
       "      <td>-0.11</td>\n",
       "      <td>-85.64%</td>\n",
       "    </tr>\n",
       "    <tr>\n",
       "      <th>Othello</th>\n",
       "      <td>0.06</td>\n",
       "      <td>0.12</td>\n",
       "      <td>-0.06</td>\n",
       "      <td>-49.15%</td>\n",
       "    </tr>\n",
       "    <tr>\n",
       "      <th>Rainier Beach</th>\n",
       "      <td>0.38</td>\n",
       "      <td>0.36</td>\n",
       "      <td>0.02</td>\n",
       "      <td>5.32%</td>\n",
       "    </tr>\n",
       "    <tr>\n",
       "      <th>Tukwila Int'l Blvd</th>\n",
       "      <td>0.56</td>\n",
       "      <td>0.26</td>\n",
       "      <td>0.29</td>\n",
       "      <td>110.68%</td>\n",
       "    </tr>\n",
       "    <tr>\n",
       "      <th>SeaTac/Airport</th>\n",
       "      <td>0.14</td>\n",
       "      <td>0.26</td>\n",
       "      <td>-0.12</td>\n",
       "      <td>-45.22%</td>\n",
       "    </tr>\n",
       "    <tr>\n",
       "      <th>Angle Lake</th>\n",
       "      <td>0.33</td>\n",
       "      <td>-99.00</td>\n",
       "      <td>99.33</td>\n",
       "      <td>-100.34%</td>\n",
       "    </tr>\n",
       "    <tr>\n",
       "      <th>University District Station</th>\n",
       "      <td>0.18</td>\n",
       "      <td>-99.00</td>\n",
       "      <td>99.18</td>\n",
       "      <td>-100.18%</td>\n",
       "    </tr>\n",
       "    <tr>\n",
       "      <th>Roosevelt Station</th>\n",
       "      <td>0.50</td>\n",
       "      <td>-99.00</td>\n",
       "      <td>99.50</td>\n",
       "      <td>-100.50%</td>\n",
       "    </tr>\n",
       "    <tr>\n",
       "      <th>Northgate Station</th>\n",
       "      <td>0.84</td>\n",
       "      <td>-99.00</td>\n",
       "      <td>99.84</td>\n",
       "      <td>-100.85%</td>\n",
       "    </tr>\n",
       "  </tbody>\n",
       "</table>\n",
       "</div>"
      ],
      "text/plain": [
       "                             modeled_transfer_rate  observed_transfer_rate  \\\n",
       "station_name                                                                 \n",
       "Husky Stadium                                 0.90                  -99.00   \n",
       "Westlake                                      0.18                    0.36   \n",
       "University St                                 0.26                    0.20   \n",
       "Pioneer Square                                0.44                    0.16   \n",
       "Int'l District                                0.69                    0.45   \n",
       "Capitol Hill                                  0.07                  -99.00   \n",
       "Stadium                                       0.29                    0.12   \n",
       "SODO                                          0.57                    0.31   \n",
       "Beacon Hill                                   0.34                    0.35   \n",
       "Mount Baker                                   0.48                    0.32   \n",
       "Columbia City                                 0.02                    0.12   \n",
       "Othello                                       0.06                    0.12   \n",
       "Rainier Beach                                 0.38                    0.36   \n",
       "Tukwila Int'l Blvd                            0.56                    0.26   \n",
       "SeaTac/Airport                                0.14                    0.26   \n",
       "Angle Lake                                    0.33                  -99.00   \n",
       "University District Station                   0.18                  -99.00   \n",
       "Roosevelt Station                             0.50                  -99.00   \n",
       "Northgate Station                             0.84                  -99.00   \n",
       "\n",
       "                             diff percent_diff  \n",
       "station_name                                    \n",
       "Husky Stadium               99.90     -100.91%  \n",
       "Westlake                    -0.18      -50.26%  \n",
       "University St                0.06       29.64%  \n",
       "Pioneer Square               0.28      175.42%  \n",
       "Int'l District               0.24       52.33%  \n",
       "Capitol Hill                99.07     -100.07%  \n",
       "Stadium                      0.17      141.32%  \n",
       "SODO                         0.26       83.08%  \n",
       "Beacon Hill                 -0.01       -2.31%  \n",
       "Mount Baker                  0.15       46.62%  \n",
       "Columbia City               -0.11      -85.64%  \n",
       "Othello                     -0.06      -49.15%  \n",
       "Rainier Beach                0.02        5.32%  \n",
       "Tukwila Int'l Blvd           0.29      110.68%  \n",
       "SeaTac/Airport              -0.12      -45.22%  \n",
       "Angle Lake                  99.33     -100.34%  \n",
       "University District Station 99.18     -100.18%  \n",
       "Roosevelt Station           99.50     -100.50%  \n",
       "Northgate Station           99.84     -100.85%  "
      ]
     },
     "execution_count": 25,
     "metadata": {},
     "output_type": "execute_result"
    }
   ],
   "source": [
    "df = pd.read_csv(os.path.join(relative_path,'validation/') + 'light_rail_transfers.csv', index_col='station_name')\n",
    "pd.options.display.float_format = '{:0,.2f}'.format\n",
    "df[['percent_diff']] = df[['percent_diff']].applymap(format_percent)\n",
    "df"
   ]
  },
  {
   "cell_type": "markdown",
   "metadata": {},
   "source": [
    "# Externals"
   ]
  },
  {
   "cell_type": "code",
   "execution_count": 26,
   "metadata": {
    "execution": {
     "iopub.execute_input": "2024-04-03T21:14:20.013469Z",
     "iopub.status.busy": "2024-04-03T21:14:20.013469Z",
     "iopub.status.idle": "2024-04-03T21:14:20.075904Z",
     "shell.execute_reply": "2024-04-03T21:14:20.075904Z"
    }
   },
   "outputs": [
    {
     "data": {
      "text/html": [
       "<div>\n",
       "<style scoped>\n",
       "    .dataframe tbody tr th:only-of-type {\n",
       "        vertical-align: middle;\n",
       "    }\n",
       "\n",
       "    .dataframe tbody tr th {\n",
       "        vertical-align: top;\n",
       "    }\n",
       "\n",
       "    .dataframe thead th {\n",
       "        text-align: right;\n",
       "    }\n",
       "</style>\n",
       "<table border=\"1\" class=\"dataframe\">\n",
       "  <thead>\n",
       "    <tr style=\"text-align: right;\">\n",
       "      <th></th>\n",
       "      <th>external_station</th>\n",
       "      <th>county</th>\n",
       "      <th>observed</th>\n",
       "      <th>modeled</th>\n",
       "      <th>diff</th>\n",
       "      <th>percent_diff</th>\n",
       "    </tr>\n",
       "    <tr>\n",
       "      <th>location</th>\n",
       "      <th></th>\n",
       "      <th></th>\n",
       "      <th></th>\n",
       "      <th></th>\n",
       "      <th></th>\n",
       "      <th></th>\n",
       "    </tr>\n",
       "  </thead>\n",
       "  <tbody>\n",
       "    <tr>\n",
       "      <th>I-5 to Olympia</th>\n",
       "      <td>3733</td>\n",
       "      <td>Pierce</td>\n",
       "      <td>132,000</td>\n",
       "      <td>124,676</td>\n",
       "      <td>-7,324</td>\n",
       "      <td>-5.55%</td>\n",
       "    </tr>\n",
       "    <tr>\n",
       "      <th>I-5 to Mount Vernon</th>\n",
       "      <td>3744</td>\n",
       "      <td>Snohomish</td>\n",
       "      <td>64,400</td>\n",
       "      <td>57,979</td>\n",
       "      <td>-6,421</td>\n",
       "      <td>-9.97%</td>\n",
       "    </tr>\n",
       "    <tr>\n",
       "      <th>I-90 @ Snoqualmie Pass</th>\n",
       "      <td>3739</td>\n",
       "      <td>King</td>\n",
       "      <td>33,800</td>\n",
       "      <td>29,764</td>\n",
       "      <td>-4,036</td>\n",
       "      <td>-11.94%</td>\n",
       "    </tr>\n",
       "    <tr>\n",
       "      <th>SR-507 to Yelm</th>\n",
       "      <td>3734</td>\n",
       "      <td>Pierce</td>\n",
       "      <td>21,800</td>\n",
       "      <td>19,811</td>\n",
       "      <td>-1,989</td>\n",
       "      <td>-9.12%</td>\n",
       "    </tr>\n",
       "    <tr>\n",
       "      <th>SR-532 to Camano Island</th>\n",
       "      <td>3746</td>\n",
       "      <td>Snohomish</td>\n",
       "      <td>20,700</td>\n",
       "      <td>20,219</td>\n",
       "      <td>-481</td>\n",
       "      <td>-2.32%</td>\n",
       "    </tr>\n",
       "    <tr>\n",
       "      <th>SR-3 to Belfair</th>\n",
       "      <td>3749</td>\n",
       "      <td>Kitsap</td>\n",
       "      <td>18,400</td>\n",
       "      <td>16,416</td>\n",
       "      <td>-1,984</td>\n",
       "      <td>-10.78%</td>\n",
       "    </tr>\n",
       "    <tr>\n",
       "      <th>Hood Canal Bridge</th>\n",
       "      <td>3748</td>\n",
       "      <td>Kitsap</td>\n",
       "      <td>17,600</td>\n",
       "      <td>16,580</td>\n",
       "      <td>-1,020</td>\n",
       "      <td>-5.80%</td>\n",
       "    </tr>\n",
       "    <tr>\n",
       "      <th>SR-530 N/O Stanwood</th>\n",
       "      <td>3745</td>\n",
       "      <td>Snohomish</td>\n",
       "      <td>9,100</td>\n",
       "      <td>8,403</td>\n",
       "      <td>-697</td>\n",
       "      <td>-7.66%</td>\n",
       "    </tr>\n",
       "    <tr>\n",
       "      <th>Mukilteo-Clinton Ferry</th>\n",
       "      <td>3747</td>\n",
       "      <td>Snohomish</td>\n",
       "      <td>6,050</td>\n",
       "      <td>6,015</td>\n",
       "      <td>-35</td>\n",
       "      <td>-0.58%</td>\n",
       "    </tr>\n",
       "    <tr>\n",
       "      <th>SR-2 @ Stevens Pass</th>\n",
       "      <td>3740</td>\n",
       "      <td>King</td>\n",
       "      <td>4,600</td>\n",
       "      <td>3,148</td>\n",
       "      <td>-1,452</td>\n",
       "      <td>-31.58%</td>\n",
       "    </tr>\n",
       "    <tr>\n",
       "      <th>SR-302 to Shelton</th>\n",
       "      <td>3750</td>\n",
       "      <td>Pierce</td>\n",
       "      <td>4,200</td>\n",
       "      <td>4,230</td>\n",
       "      <td>30</td>\n",
       "      <td>0.71%</td>\n",
       "    </tr>\n",
       "    <tr>\n",
       "      <th>SR-7 to Morton</th>\n",
       "      <td>3735</td>\n",
       "      <td>Pierce</td>\n",
       "      <td>2,800</td>\n",
       "      <td>2,141</td>\n",
       "      <td>-659</td>\n",
       "      <td>-23.53%</td>\n",
       "    </tr>\n",
       "    <tr>\n",
       "      <th>SR-530 N/O Darrington</th>\n",
       "      <td>3742</td>\n",
       "      <td>Snohomish</td>\n",
       "      <td>2,100</td>\n",
       "      <td>1,162</td>\n",
       "      <td>-938</td>\n",
       "      <td>-44.68%</td>\n",
       "    </tr>\n",
       "    <tr>\n",
       "      <th>SR-706 to Longmire</th>\n",
       "      <td>3736</td>\n",
       "      <td>Pierce</td>\n",
       "      <td>1,800</td>\n",
       "      <td>1,951</td>\n",
       "      <td>151</td>\n",
       "      <td>8.37%</td>\n",
       "    </tr>\n",
       "    <tr>\n",
       "      <th>SR-9 N/O Arlington</th>\n",
       "      <td>3743</td>\n",
       "      <td>Snohomish</td>\n",
       "      <td>1,500</td>\n",
       "      <td>1,892</td>\n",
       "      <td>392</td>\n",
       "      <td>26.10%</td>\n",
       "    </tr>\n",
       "    <tr>\n",
       "      <th>SR-123 S/O Cayuse Pass</th>\n",
       "      <td>3737</td>\n",
       "      <td>Pierce</td>\n",
       "      <td>1,100</td>\n",
       "      <td>524</td>\n",
       "      <td>-576</td>\n",
       "      <td>-52.36%</td>\n",
       "    </tr>\n",
       "    <tr>\n",
       "      <th>SR 410 E/O Cayuse Pass</th>\n",
       "      <td>3738</td>\n",
       "      <td>Pierce</td>\n",
       "      <td>1,000</td>\n",
       "      <td>565</td>\n",
       "      <td>-435</td>\n",
       "      <td>-43.52%</td>\n",
       "    </tr>\n",
       "    <tr>\n",
       "      <th>Total</th>\n",
       "      <td></td>\n",
       "      <td>NaN</td>\n",
       "      <td>342,950</td>\n",
       "      <td>315,476</td>\n",
       "      <td>-27,474</td>\n",
       "      <td>-8.01%</td>\n",
       "    </tr>\n",
       "  </tbody>\n",
       "</table>\n",
       "</div>"
      ],
      "text/plain": [
       "                        external_station     county  observed  modeled  \\\n",
       "location                                                                 \n",
       "I-5 to Olympia                      3733     Pierce   132,000  124,676   \n",
       "I-5 to Mount Vernon                 3744  Snohomish    64,400   57,979   \n",
       "I-90 @ Snoqualmie Pass              3739       King    33,800   29,764   \n",
       "SR-507 to Yelm                      3734     Pierce    21,800   19,811   \n",
       "SR-532 to Camano Island             3746  Snohomish    20,700   20,219   \n",
       "SR-3 to Belfair                     3749     Kitsap    18,400   16,416   \n",
       "Hood Canal Bridge                   3748     Kitsap    17,600   16,580   \n",
       "SR-530 N/O Stanwood                 3745  Snohomish     9,100    8,403   \n",
       "Mukilteo-Clinton Ferry              3747  Snohomish     6,050    6,015   \n",
       "SR-2 @ Stevens Pass                 3740       King     4,600    3,148   \n",
       "SR-302 to Shelton                   3750     Pierce     4,200    4,230   \n",
       "SR-7 to Morton                      3735     Pierce     2,800    2,141   \n",
       "SR-530 N/O Darrington               3742  Snohomish     2,100    1,162   \n",
       "SR-706 to Longmire                  3736     Pierce     1,800    1,951   \n",
       "SR-9 N/O Arlington                  3743  Snohomish     1,500    1,892   \n",
       "SR-123 S/O Cayuse Pass              3737     Pierce     1,100      524   \n",
       "SR 410 E/O Cayuse Pass              3738     Pierce     1,000      565   \n",
       "Total                                           NaN   342,950  315,476   \n",
       "\n",
       "                           diff percent_diff  \n",
       "location                                      \n",
       "I-5 to Olympia           -7,324       -5.55%  \n",
       "I-5 to Mount Vernon      -6,421       -9.97%  \n",
       "I-90 @ Snoqualmie Pass   -4,036      -11.94%  \n",
       "SR-507 to Yelm           -1,989       -9.12%  \n",
       "SR-532 to Camano Island    -481       -2.32%  \n",
       "SR-3 to Belfair          -1,984      -10.78%  \n",
       "Hood Canal Bridge        -1,020       -5.80%  \n",
       "SR-530 N/O Stanwood        -697       -7.66%  \n",
       "Mukilteo-Clinton Ferry      -35       -0.58%  \n",
       "SR-2 @ Stevens Pass      -1,452      -31.58%  \n",
       "SR-302 to Shelton            30        0.71%  \n",
       "SR-7 to Morton             -659      -23.53%  \n",
       "SR-530 N/O Darrington      -938      -44.68%  \n",
       "SR-706 to Longmire          151        8.37%  \n",
       "SR-9 N/O Arlington          392       26.10%  \n",
       "SR-123 S/O Cayuse Pass     -576      -52.36%  \n",
       "SR 410 E/O Cayuse Pass     -435      -43.52%  \n",
       "Total                   -27,474       -8.01%  "
      ]
     },
     "execution_count": 26,
     "metadata": {},
     "output_type": "execute_result"
    }
   ],
   "source": [
    "df = pd.read_csv(os.path.join(relative_path,'validation/') + 'external_volumes.csv', index_col='location')\n",
    "pd.options.display.float_format = '{:0,.0f}'.format\n",
    "df = df.drop('diff', axis=1)\n",
    "df['diff'] = df['modeled']-df['observed']\n",
    "df = df.fillna(0)\n",
    "df.loc['Total',['observed','modeled','diff']] = df[['observed','modeled','diff']].sum()\n",
    "df['percent_diff'] = df['diff']/df['observed']\n",
    "df[['percent_diff']] = df[['percent_diff']].applymap(format_percent)\n",
    "\n",
    "df[['external_station']] = df[['external_station']].applymap('{:0.0f}'.format)\n",
    "df.replace('nan', '', regex=True)"
   ]
  },
  {
   "cell_type": "markdown",
   "metadata": {},
   "source": [
    "# Corridor Speed"
   ]
  },
  {
   "cell_type": "code",
   "execution_count": 27,
   "metadata": {
    "execution": {
     "iopub.execute_input": "2024-04-03T21:14:20.075904Z",
     "iopub.status.busy": "2024-04-03T21:14:20.075904Z",
     "iopub.status.idle": "2024-04-03T21:14:20.247389Z",
     "shell.execute_reply": "2024-04-03T21:14:20.247389Z"
    }
   },
   "outputs": [
    {
     "data": {
      "text/plain": [
       "<AxesSubplot:xlabel='observed_speed', ylabel='model_speed'>"
      ]
     },
     "execution_count": 27,
     "metadata": {},
     "output_type": "execute_result"
    },
    {
     "data": {
      "image/png": "[encoded data removed]",
      "text/plain": [
       "<Figure size 432x288 with 1 Axes>"
      ]
     },
     "metadata": {
      "needs_background": "light"
     },
     "output_type": "display_data"
    }
   ],
   "source": [
    "df = pd.read_csv(os.path.join(relative_path,'validation/') + 'corridor_speeds.csv')\n",
    "df.plot(kind='scatter', y='model_speed', x='observed_speed')"
   ]
  },
  {
   "cell_type": "markdown",
   "metadata": {},
   "source": [
    "### AM Peak, Primary Corridors"
   ]
  },
  {
   "cell_type": "code",
   "execution_count": 28,
   "metadata": {
    "execution": {
     "iopub.execute_input": "2024-04-03T21:14:20.247389Z",
     "iopub.status.busy": "2024-04-03T21:14:20.247389Z",
     "iopub.status.idle": "2024-04-03T21:14:20.434846Z",
     "shell.execute_reply": "2024-04-03T21:14:20.434846Z"
    }
   },
   "outputs": [
    {
     "data": {
      "text/plain": [
       "<AxesSubplot:xlabel='observed_speed', ylabel='model_speed'>"
      ]
     },
     "execution_count": 28,
     "metadata": {},
     "output_type": "execute_result"
    },
    {
     "data": {
      "image/png": "[encoded data removed]",
      "text/plain": [
       "<Figure size 432x288 with 1 Axes>"
      ]
     },
     "metadata": {
      "needs_background": "light"
     },
     "output_type": "display_data"
    }
   ],
   "source": [
    "df[df['tod'] == '7to8'].plot(kind='scatter', x='observed_speed', y='model_speed')"
   ]
  },
  {
   "cell_type": "code",
   "execution_count": 29,
   "metadata": {
    "execution": {
     "iopub.execute_input": "2024-04-03T21:14:20.434846Z",
     "iopub.status.busy": "2024-04-03T21:14:20.434846Z",
     "iopub.status.idle": "2024-04-03T21:14:20.466088Z",
     "shell.execute_reply": "2024-04-03T21:14:20.466088Z"
    }
   },
   "outputs": [
    {
     "data": {
      "text/html": [
       "<div>\n",
       "<style scoped>\n",
       "    .dataframe tbody tr th:only-of-type {\n",
       "        vertical-align: middle;\n",
       "    }\n",
       "\n",
       "    .dataframe tbody tr th {\n",
       "        vertical-align: top;\n",
       "    }\n",
       "\n",
       "    .dataframe thead th {\n",
       "        text-align: right;\n",
       "    }\n",
       "</style>\n",
       "<table border=\"1\" class=\"dataframe\">\n",
       "  <thead>\n",
       "    <tr style=\"text-align: right;\">\n",
       "      <th></th>\n",
       "      <th>Corridor_Description</th>\n",
       "      <th>model_speed</th>\n",
       "      <th>observed_speed</th>\n",
       "    </tr>\n",
       "  </thead>\n",
       "  <tbody>\n",
       "    <tr>\n",
       "      <th>6</th>\n",
       "      <td>Seattle to Everett - NB</td>\n",
       "      <td>46</td>\n",
       "      <td>58</td>\n",
       "    </tr>\n",
       "    <tr>\n",
       "      <th>15</th>\n",
       "      <td>Everett to Seattle - SB</td>\n",
       "      <td>27</td>\n",
       "      <td>27</td>\n",
       "    </tr>\n",
       "    <tr>\n",
       "      <th>24</th>\n",
       "      <td>Tacoma to Seattle - NB</td>\n",
       "      <td>31</td>\n",
       "      <td>24</td>\n",
       "    </tr>\n",
       "    <tr>\n",
       "      <th>33</th>\n",
       "      <td>Seattle to Tacoma - SB</td>\n",
       "      <td>43</td>\n",
       "      <td>58</td>\n",
       "    </tr>\n",
       "    <tr>\n",
       "      <th>42</th>\n",
       "      <td>Bellevue to Lynnwood - NB</td>\n",
       "      <td>49</td>\n",
       "      <td>57</td>\n",
       "    </tr>\n",
       "    <tr>\n",
       "      <th>51</th>\n",
       "      <td>Lynnwood to Bellevue - SB</td>\n",
       "      <td>26</td>\n",
       "      <td>22</td>\n",
       "    </tr>\n",
       "    <tr>\n",
       "      <th>60</th>\n",
       "      <td>Tukwila to Bellevue - NB</td>\n",
       "      <td>28</td>\n",
       "      <td>20</td>\n",
       "    </tr>\n",
       "    <tr>\n",
       "      <th>69</th>\n",
       "      <td>Bellevue to Tukwila - SB</td>\n",
       "      <td>30</td>\n",
       "      <td>43</td>\n",
       "    </tr>\n",
       "    <tr>\n",
       "      <th>78</th>\n",
       "      <td>Auburn to Renton - NB</td>\n",
       "      <td>32</td>\n",
       "      <td>22</td>\n",
       "    </tr>\n",
       "    <tr>\n",
       "      <th>87</th>\n",
       "      <td>Renton to Auburn - SB</td>\n",
       "      <td>49</td>\n",
       "      <td>55</td>\n",
       "    </tr>\n",
       "    <tr>\n",
       "      <th>96</th>\n",
       "      <td>Redmond to Seattle - WB</td>\n",
       "      <td>27</td>\n",
       "      <td>40</td>\n",
       "    </tr>\n",
       "    <tr>\n",
       "      <th>105</th>\n",
       "      <td>Seattle to Redmond - EB</td>\n",
       "      <td>34</td>\n",
       "      <td>53</td>\n",
       "    </tr>\n",
       "    <tr>\n",
       "      <th>114</th>\n",
       "      <td>Redmond to Bellevue - WB</td>\n",
       "      <td>36</td>\n",
       "      <td>46</td>\n",
       "    </tr>\n",
       "    <tr>\n",
       "      <th>123</th>\n",
       "      <td>Bellevue to Redmond - EB</td>\n",
       "      <td>43</td>\n",
       "      <td>52</td>\n",
       "    </tr>\n",
       "    <tr>\n",
       "      <th>132</th>\n",
       "      <td>Issaquah to Bellevue - WB</td>\n",
       "      <td>36</td>\n",
       "      <td>35</td>\n",
       "    </tr>\n",
       "    <tr>\n",
       "      <th>141</th>\n",
       "      <td>Bellevue to Issaquah - EB</td>\n",
       "      <td>49</td>\n",
       "      <td>58</td>\n",
       "    </tr>\n",
       "    <tr>\n",
       "      <th>150</th>\n",
       "      <td>Seattle to Bellevue via 520 - WB</td>\n",
       "      <td>28</td>\n",
       "      <td>52</td>\n",
       "    </tr>\n",
       "    <tr>\n",
       "      <th>159</th>\n",
       "      <td>Bellevue to Seattle via 520 - EB</td>\n",
       "      <td>21</td>\n",
       "      <td>37</td>\n",
       "    </tr>\n",
       "    <tr>\n",
       "      <th>168</th>\n",
       "      <td>Bellevue to Seattle via 90 - WB</td>\n",
       "      <td>27</td>\n",
       "      <td>23</td>\n",
       "    </tr>\n",
       "    <tr>\n",
       "      <th>177</th>\n",
       "      <td>Seattle to Bellevue via 90 - EB</td>\n",
       "      <td>36</td>\n",
       "      <td>41</td>\n",
       "    </tr>\n",
       "  </tbody>\n",
       "</table>\n",
       "</div>"
      ],
      "text/plain": [
       "                 Corridor_Description  model_speed  observed_speed\n",
       "6             Seattle to Everett - NB           46              58\n",
       "15            Everett to Seattle - SB           27              27\n",
       "24             Tacoma to Seattle - NB           31              24\n",
       "33             Seattle to Tacoma - SB           43              58\n",
       "42          Bellevue to Lynnwood - NB           49              57\n",
       "51          Lynnwood to Bellevue - SB           26              22\n",
       "60           Tukwila to Bellevue - NB           28              20\n",
       "69           Bellevue to Tukwila - SB           30              43\n",
       "78              Auburn to Renton - NB           32              22\n",
       "87              Renton to Auburn - SB           49              55\n",
       "96            Redmond to Seattle - WB           27              40\n",
       "105           Seattle to Redmond - EB           34              53\n",
       "114          Redmond to Bellevue - WB           36              46\n",
       "123          Bellevue to Redmond - EB           43              52\n",
       "132         Issaquah to Bellevue - WB           36              35\n",
       "141         Bellevue to Issaquah - EB           49              58\n",
       "150  Seattle to Bellevue via 520 - WB           28              52\n",
       "159  Bellevue to Seattle via 520 - EB           21              37\n",
       "168   Bellevue to Seattle via 90 - WB           27              23\n",
       "177   Seattle to Bellevue via 90 - EB           36              41"
      ]
     },
     "execution_count": 29,
     "metadata": {},
     "output_type": "execute_result"
    }
   ],
   "source": [
    "# Show daily AM and PM peaks by corridor\n",
    "df[df['tod'] == '7to8'][['Corridor_Description','model_speed','observed_speed']].head(20)"
   ]
  },
  {
   "cell_type": "markdown",
   "metadata": {},
   "source": [
    "### PM Peak, Primary Corridors"
   ]
  },
  {
   "cell_type": "code",
   "execution_count": 30,
   "metadata": {
    "execution": {
     "iopub.execute_input": "2024-04-03T21:14:20.466088Z",
     "iopub.status.busy": "2024-04-03T21:14:20.466088Z",
     "iopub.status.idle": "2024-04-03T21:14:20.669168Z",
     "shell.execute_reply": "2024-04-03T21:14:20.669168Z"
    }
   },
   "outputs": [
    {
     "data": {
      "text/plain": [
       "<AxesSubplot:xlabel='observed_speed', ylabel='model_speed'>"
      ]
     },
     "execution_count": 30,
     "metadata": {},
     "output_type": "execute_result"
    },
    {
     "data": {
      "image/png": "[encoded data removed]",
      "text/plain": [
       "<Figure size 432x288 with 1 Axes>"
      ]
     },
     "metadata": {
      "needs_background": "light"
     },
     "output_type": "display_data"
    }
   ],
   "source": [
    "df[df['tod'] == '16to17'].plot(kind='scatter', x='observed_speed', y='model_speed')"
   ]
  },
  {
   "cell_type": "code",
   "execution_count": 31,
   "metadata": {
    "execution": {
     "iopub.execute_input": "2024-04-03T21:14:20.669168Z",
     "iopub.status.busy": "2024-04-03T21:14:20.669168Z",
     "iopub.status.idle": "2024-04-03T21:14:20.700409Z",
     "shell.execute_reply": "2024-04-03T21:14:20.700409Z"
    }
   },
   "outputs": [
    {
     "data": {
      "text/html": [
       "<div>\n",
       "<style scoped>\n",
       "    .dataframe tbody tr th:only-of-type {\n",
       "        vertical-align: middle;\n",
       "    }\n",
       "\n",
       "    .dataframe tbody tr th {\n",
       "        vertical-align: top;\n",
       "    }\n",
       "\n",
       "    .dataframe thead th {\n",
       "        text-align: right;\n",
       "    }\n",
       "</style>\n",
       "<table border=\"1\" class=\"dataframe\">\n",
       "  <thead>\n",
       "    <tr style=\"text-align: right;\">\n",
       "      <th></th>\n",
       "      <th>Corridor_Description</th>\n",
       "      <th>model_speed</th>\n",
       "      <th>observed_speed</th>\n",
       "    </tr>\n",
       "  </thead>\n",
       "  <tbody>\n",
       "    <tr>\n",
       "      <th>1</th>\n",
       "      <td>Seattle to Everett - NB</td>\n",
       "      <td>29</td>\n",
       "      <td>23</td>\n",
       "    </tr>\n",
       "    <tr>\n",
       "      <th>10</th>\n",
       "      <td>Everett to Seattle - SB</td>\n",
       "      <td>40</td>\n",
       "      <td>28</td>\n",
       "    </tr>\n",
       "    <tr>\n",
       "      <th>19</th>\n",
       "      <td>Tacoma to Seattle - NB</td>\n",
       "      <td>43</td>\n",
       "      <td>43</td>\n",
       "    </tr>\n",
       "    <tr>\n",
       "      <th>28</th>\n",
       "      <td>Seattle to Tacoma - SB</td>\n",
       "      <td>33</td>\n",
       "      <td>25</td>\n",
       "    </tr>\n",
       "    <tr>\n",
       "      <th>37</th>\n",
       "      <td>Bellevue to Lynnwood - NB</td>\n",
       "      <td>29</td>\n",
       "      <td>26</td>\n",
       "    </tr>\n",
       "    <tr>\n",
       "      <th>46</th>\n",
       "      <td>Lynnwood to Bellevue - SB</td>\n",
       "      <td>43</td>\n",
       "      <td>40</td>\n",
       "    </tr>\n",
       "    <tr>\n",
       "      <th>55</th>\n",
       "      <td>Tukwila to Bellevue - NB</td>\n",
       "      <td>30</td>\n",
       "      <td>29</td>\n",
       "    </tr>\n",
       "    <tr>\n",
       "      <th>64</th>\n",
       "      <td>Bellevue to Tukwila - SB</td>\n",
       "      <td>27</td>\n",
       "      <td>19</td>\n",
       "    </tr>\n",
       "    <tr>\n",
       "      <th>73</th>\n",
       "      <td>Auburn to Renton - NB</td>\n",
       "      <td>48</td>\n",
       "      <td>44</td>\n",
       "    </tr>\n",
       "    <tr>\n",
       "      <th>82</th>\n",
       "      <td>Renton to Auburn - SB</td>\n",
       "      <td>35</td>\n",
       "      <td>34</td>\n",
       "    </tr>\n",
       "    <tr>\n",
       "      <th>91</th>\n",
       "      <td>Redmond to Seattle - WB</td>\n",
       "      <td>30</td>\n",
       "      <td>23</td>\n",
       "    </tr>\n",
       "    <tr>\n",
       "      <th>100</th>\n",
       "      <td>Seattle to Redmond - EB</td>\n",
       "      <td>28</td>\n",
       "      <td>35</td>\n",
       "    </tr>\n",
       "    <tr>\n",
       "      <th>109</th>\n",
       "      <td>Redmond to Bellevue - WB</td>\n",
       "      <td>42</td>\n",
       "      <td>27</td>\n",
       "    </tr>\n",
       "    <tr>\n",
       "      <th>118</th>\n",
       "      <td>Bellevue to Redmond - EB</td>\n",
       "      <td>39</td>\n",
       "      <td>23</td>\n",
       "    </tr>\n",
       "    <tr>\n",
       "      <th>127</th>\n",
       "      <td>Issaquah to Bellevue - WB</td>\n",
       "      <td>45</td>\n",
       "      <td>40</td>\n",
       "    </tr>\n",
       "    <tr>\n",
       "      <th>136</th>\n",
       "      <td>Bellevue to Issaquah - EB</td>\n",
       "      <td>40</td>\n",
       "      <td>25</td>\n",
       "    </tr>\n",
       "    <tr>\n",
       "      <th>145</th>\n",
       "      <td>Seattle to Bellevue via 520 - WB</td>\n",
       "      <td>23</td>\n",
       "      <td>40</td>\n",
       "    </tr>\n",
       "    <tr>\n",
       "      <th>154</th>\n",
       "      <td>Bellevue to Seattle via 520 - EB</td>\n",
       "      <td>23</td>\n",
       "      <td>19</td>\n",
       "    </tr>\n",
       "    <tr>\n",
       "      <th>163</th>\n",
       "      <td>Bellevue to Seattle via 90 - WB</td>\n",
       "      <td>33</td>\n",
       "      <td>20</td>\n",
       "    </tr>\n",
       "    <tr>\n",
       "      <th>172</th>\n",
       "      <td>Seattle to Bellevue via 90 - EB</td>\n",
       "      <td>29</td>\n",
       "      <td>39</td>\n",
       "    </tr>\n",
       "  </tbody>\n",
       "</table>\n",
       "</div>"
      ],
      "text/plain": [
       "                 Corridor_Description  model_speed  observed_speed\n",
       "1             Seattle to Everett - NB           29              23\n",
       "10            Everett to Seattle - SB           40              28\n",
       "19             Tacoma to Seattle - NB           43              43\n",
       "28             Seattle to Tacoma - SB           33              25\n",
       "37          Bellevue to Lynnwood - NB           29              26\n",
       "46          Lynnwood to Bellevue - SB           43              40\n",
       "55           Tukwila to Bellevue - NB           30              29\n",
       "64           Bellevue to Tukwila - SB           27              19\n",
       "73              Auburn to Renton - NB           48              44\n",
       "82              Renton to Auburn - SB           35              34\n",
       "91            Redmond to Seattle - WB           30              23\n",
       "100           Seattle to Redmond - EB           28              35\n",
       "109          Redmond to Bellevue - WB           42              27\n",
       "118          Bellevue to Redmond - EB           39              23\n",
       "127         Issaquah to Bellevue - WB           45              40\n",
       "136         Bellevue to Issaquah - EB           40              25\n",
       "145  Seattle to Bellevue via 520 - WB           23              40\n",
       "154  Bellevue to Seattle via 520 - EB           23              19\n",
       "163   Bellevue to Seattle via 90 - WB           33              20\n",
       "172   Seattle to Bellevue via 90 - EB           29              39"
      ]
     },
     "execution_count": 31,
     "metadata": {},
     "output_type": "execute_result"
    }
   ],
   "source": [
    "df[df['tod'] == '16to17'][['Corridor_Description','model_speed','observed_speed']].head(20)"
   ]
  },
  {
   "cell_type": "code",
   "execution_count": null,
   "metadata": {},
   "outputs": [],
   "source": []
  }
 ],
 "metadata": {
  "kernelspec": {
   "display_name": "Python 3",
   "language": "python",
   "name": "python3"
  },
  "language_info": {
   "codemirror_mode": {
    "name": "ipython",
    "version": 3
   },
   "file_extension": ".py",
   "mimetype": "text/x-python",
   "name": "python",
   "nbconvert_exporter": "python",
   "pygments_lexer": "ipython3",
   "version": "3.7.10"
  }
 },
 "nbformat": 4,
 "nbformat_minor": 2
}
