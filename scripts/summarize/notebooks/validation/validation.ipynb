{
 "cells": [
  {
   "cell_type": "code",
   "execution_count": 1,
   "metadata": {
    "execution": {
     "iopub.execute_input": "2024-04-03T21:14:16.554086Z",
     "iopub.status.busy": "2024-04-03T21:14:16.554086Z",
     "iopub.status.idle": "2024-04-03T21:14:17.965900Z",
     "shell.execute_reply": "2024-04-03T21:14:17.965900Z"
    }
   },
   "outputs": [],
   "source": [
    "import os, sys, time\n",
    "from scipy import stats\n",
    "import warnings\n",
    "warnings.simplefilter(action='ignore', category=FutureWarning)\n",
    "import pandas as pd\n",
    "import numpy as np\n",
    "%matplotlib inline\n",
    "\n",
    "from IPython.display import display, HTML\n",
    "\n",
    "if (sys.version_info < (3, 0)):\n",
    "    HTML('''<script>\n",
    "    code_show=true; \n",
    "    function code_toggle() {\n",
    "     if (code_show){\n",
    "     $('div.input').hide();\n",
    "     } else {\n",
    "     $('div.input').show();\n",
    "     }\n",
    "     code_show = !code_show\n",
    "    } \n",
    "    $( document ).ready(code_toggle);\n",
    "    </script>\n",
    "    <form action=\"javascript:code_toggle()\"><input type=\"submit\" value=\"Click here to toggle on/off the raw code.\"></form>''')\n"
   ]
  },
  {
   "cell_type": "code",
   "execution_count": 2,
   "metadata": {
    "execution": {
     "iopub.execute_input": "2024-04-03T21:14:17.965900Z",
     "iopub.status.busy": "2024-04-03T21:14:17.965900Z",
     "iopub.status.idle": "2024-04-03T21:14:17.981522Z",
     "shell.execute_reply": "2024-04-03T21:14:17.981522Z"
    },
    "scrolled": true
   },
   "outputs": [
    {
     "name": "stdout",
     "output_type": "stream",
     "text": [
      "Summary run: Wed, 03 Apr 2024 14:14\n"
     ]
    }
   ],
   "source": [
    "# Create timestamp to show when this summary was run\n",
    "print('Summary run: ' + time.strftime(\"%a, %d %b %Y %H:%M\"))"
   ]
  },
  {
   "cell_type": "code",
   "execution_count": 3,
   "metadata": {
    "execution": {
     "iopub.execute_input": "2024-04-03T21:14:17.981522Z",
     "iopub.status.busy": "2024-04-03T21:14:17.981522Z",
     "iopub.status.idle": "2024-04-03T21:14:17.997144Z",
     "shell.execute_reply": "2024-04-03T21:14:17.997144Z"
    }
   },
   "outputs": [],
   "source": [
    "relative_path = '../../../../outputs'\n",
    "pd.options.display.float_format = '{:0,.0f}'.format\n",
    "format_percent = \"{:,.2%}\".format"
   ]
  },
  {
   "cell_type": "markdown",
   "metadata": {},
   "source": [
    "# Traffic Counts\n",
    "----\n",
    "### Daily | By Facility Type"
   ]
  },
  {
   "cell_type": "code",
   "execution_count": 4,
   "metadata": {
    "execution": {
     "iopub.execute_input": "2024-04-03T21:14:17.997144Z",
     "iopub.status.busy": "2024-04-03T21:14:17.997144Z",
     "iopub.status.idle": "2024-04-03T21:14:18.044121Z",
     "shell.execute_reply": "2024-04-03T21:14:18.044121Z"
    }
   },
   "outputs": [],
   "source": [
    "df = pd.read_csv(os.path.join(relative_path,'validation','daily_volume.csv'))\n",
    "df[['modeled','observed']] = df[['modeled','observed']].astype('float')"
   ]
  },
  {
   "cell_type": "code",
   "execution_count": 5,
   "metadata": {
    "execution": {
     "iopub.execute_input": "2024-04-03T21:14:18.044121Z",
     "iopub.status.busy": "2024-04-03T21:14:18.044121Z",
     "iopub.status.idle": "2024-04-03T21:14:18.122118Z",
     "shell.execute_reply": "2024-04-03T21:14:18.122118Z"
    }
   },
   "outputs": [
    {
     "data": {
      "text/html": [
       "<div>\n",
       "<style scoped>\n",
       "    .dataframe tbody tr th:only-of-type {\n",
       "        vertical-align: middle;\n",
       "    }\n",
       "\n",
       "    .dataframe tbody tr th {\n",
       "        vertical-align: top;\n",
       "    }\n",
       "\n",
       "    .dataframe thead th {\n",
       "        text-align: right;\n",
       "    }\n",
       "</style>\n",
       "<table border=\"1\" class=\"dataframe\">\n",
       "  <thead>\n",
       "    <tr style=\"text-align: right;\">\n",
       "      <th></th>\n",
       "      <th>observed</th>\n",
       "      <th>modeled</th>\n",
       "      <th>diff</th>\n",
       "      <th>percent_diff</th>\n",
       "    </tr>\n",
       "    <tr>\n",
       "      <th>@facilitytype</th>\n",
       "      <th></th>\n",
       "      <th></th>\n",
       "      <th></th>\n",
       "      <th></th>\n",
       "    </tr>\n",
       "  </thead>\n",
       "  <tbody>\n",
       "    <tr>\n",
       "      <th>Arterial</th>\n",
       "      <td>25,783,951</td>\n",
       "      <td>23,217,131</td>\n",
       "      <td>-2,566,820</td>\n",
       "      <td>-9.96%</td>\n",
       "    </tr>\n",
       "    <tr>\n",
       "      <th>Collector</th>\n",
       "      <td>4,378,889</td>\n",
       "      <td>3,467,047</td>\n",
       "      <td>-911,842</td>\n",
       "      <td>-20.82%</td>\n",
       "    </tr>\n",
       "    <tr>\n",
       "      <th>Freeway</th>\n",
       "      <td>28,073,146</td>\n",
       "      <td>28,762,631</td>\n",
       "      <td>689,485</td>\n",
       "      <td>2.46%</td>\n",
       "    </tr>\n",
       "    <tr>\n",
       "      <th>Ramp</th>\n",
       "      <td>756,602</td>\n",
       "      <td>626,038</td>\n",
       "      <td>-130,564</td>\n",
       "      <td>-17.26%</td>\n",
       "    </tr>\n",
       "    <tr>\n",
       "      <th>Total</th>\n",
       "      <td>58,992,588</td>\n",
       "      <td>56,072,847</td>\n",
       "      <td>-2,919,741</td>\n",
       "      <td>-4.95%</td>\n",
       "    </tr>\n",
       "  </tbody>\n",
       "</table>\n",
       "</div>"
      ],
      "text/plain": [
       "                observed    modeled       diff percent_diff\n",
       "@facilitytype                                              \n",
       "Arterial      25,783,951 23,217,131 -2,566,820       -9.96%\n",
       "Collector      4,378,889  3,467,047   -911,842      -20.82%\n",
       "Freeway       28,073,146 28,762,631    689,485        2.46%\n",
       "Ramp             756,602    626,038   -130,564      -17.26%\n",
       "Total         58,992,588 56,072,847 -2,919,741       -4.95%"
      ]
     },
     "execution_count": 5,
     "metadata": {},
     "output_type": "execute_result"
    }
   ],
   "source": [
    "_df = df.groupby('@facilitytype').sum()[['observed','modeled']]\n",
    "_df.loc['Total',:] = _df.sum().values\n",
    "_df['diff'] = _df['modeled']-_df['observed']\n",
    "_df['percent_diff'] = _df['diff']/_df['observed']\n",
    "_df[['percent_diff']] = _df[['percent_diff']].applymap(format_percent)\n",
    "_df"
   ]
  },
  {
   "cell_type": "markdown",
   "metadata": {},
   "source": [
    "----\n",
    "### Daily | By County"
   ]
  },
  {
   "cell_type": "code",
   "execution_count": 6,
   "metadata": {
    "execution": {
     "iopub.execute_input": "2024-04-03T21:14:18.122118Z",
     "iopub.status.busy": "2024-04-03T21:14:18.122118Z",
     "iopub.status.idle": "2024-04-03T21:14:18.168982Z",
     "shell.execute_reply": "2024-04-03T21:14:18.168982Z"
    }
   },
   "outputs": [
    {
     "data": {
      "text/html": [
       "<div>\n",
       "<style scoped>\n",
       "    .dataframe tbody tr th:only-of-type {\n",
       "        vertical-align: middle;\n",
       "    }\n",
       "\n",
       "    .dataframe tbody tr th {\n",
       "        vertical-align: top;\n",
       "    }\n",
       "\n",
       "    .dataframe thead th {\n",
       "        text-align: right;\n",
       "    }\n",
       "</style>\n",
       "<table border=\"1\" class=\"dataframe\">\n",
       "  <thead>\n",
       "    <tr style=\"text-align: right;\">\n",
       "      <th></th>\n",
       "      <th>observed</th>\n",
       "      <th>modeled</th>\n",
       "      <th>diff</th>\n",
       "      <th>percent_diff</th>\n",
       "    </tr>\n",
       "    <tr>\n",
       "      <th>county</th>\n",
       "      <th></th>\n",
       "      <th></th>\n",
       "      <th></th>\n",
       "      <th></th>\n",
       "    </tr>\n",
       "  </thead>\n",
       "  <tbody>\n",
       "    <tr>\n",
       "      <th>King</th>\n",
       "      <td>31,190,923</td>\n",
       "      <td>30,863,306</td>\n",
       "      <td>-327,617</td>\n",
       "      <td>-1.05%</td>\n",
       "    </tr>\n",
       "    <tr>\n",
       "      <th>Kitsap</th>\n",
       "      <td>4,567,541</td>\n",
       "      <td>3,690,934</td>\n",
       "      <td>-876,607</td>\n",
       "      <td>-19.19%</td>\n",
       "    </tr>\n",
       "    <tr>\n",
       "      <th>Pierce</th>\n",
       "      <td>13,634,217</td>\n",
       "      <td>12,829,275</td>\n",
       "      <td>-804,942</td>\n",
       "      <td>-5.90%</td>\n",
       "    </tr>\n",
       "    <tr>\n",
       "      <th>Snohomish</th>\n",
       "      <td>9,599,907</td>\n",
       "      <td>8,689,332</td>\n",
       "      <td>-910,575</td>\n",
       "      <td>-9.49%</td>\n",
       "    </tr>\n",
       "    <tr>\n",
       "      <th>Total</th>\n",
       "      <td>58,992,588</td>\n",
       "      <td>56,072,847</td>\n",
       "      <td>-2,919,741</td>\n",
       "      <td>-4.95%</td>\n",
       "    </tr>\n",
       "  </tbody>\n",
       "</table>\n",
       "</div>"
      ],
      "text/plain": [
       "            observed    modeled       diff percent_diff\n",
       "county                                                 \n",
       "King      31,190,923 30,863,306   -327,617       -1.05%\n",
       "Kitsap     4,567,541  3,690,934   -876,607      -19.19%\n",
       "Pierce    13,634,217 12,829,275   -804,942       -5.90%\n",
       "Snohomish  9,599,907  8,689,332   -910,575       -9.49%\n",
       "Total     58,992,588 56,072,847 -2,919,741       -4.95%"
      ]
     },
     "execution_count": 6,
     "metadata": {},
     "output_type": "execute_result"
    }
   ],
   "source": [
    "df = pd.read_csv(os.path.join(relative_path,'validation','daily_volume_county_facility.csv'))\n",
    "df[['modeled','observed']] = df[['modeled','observed']].astype('float')\n",
    "\n",
    "_df = df.groupby('county').sum()[['observed','modeled']]\n",
    "_df.loc['Total',:] = _df.sum().values\n",
    "_df['diff'] = _df['modeled']-_df['observed']\n",
    "_df['percent_diff'] = _df['diff']/_df['observed']\n",
    "_df[['percent_diff']] = _df[['percent_diff']].applymap(format_percent)\n",
    "_df"
   ]
  },
  {
   "cell_type": "markdown",
   "metadata": {},
   "source": [
    "----\n",
    "### Daily | Scatterplots "
   ]
  },
  {
   "cell_type": "code",
   "execution_count": 7,
   "metadata": {
    "execution": {
     "iopub.execute_input": "2024-04-03T21:14:18.168982Z",
     "iopub.status.busy": "2024-04-03T21:14:18.168982Z",
     "iopub.status.idle": "2024-04-03T21:14:18.372060Z",
     "shell.execute_reply": "2024-04-03T21:14:18.372060Z"
    }
   },
   "outputs": [
    {
     "data": {
      "text/plain": [
       "[<matplotlib.lines.Line2D at 0x1b98b1b6748>]"
      ]
     },
     "execution_count": 7,
     "metadata": {},
     "output_type": "execute_result"
    },
    {
     "data": {
      "image/png": "[encoded data removed]",
      "text/plain": [
       "<Figure size 432x288 with 1 Axes>"
      ]
     },
     "metadata": {
      "needs_background": "light"
     },
     "output_type": "display_data"
    }
   ],
   "source": [
    "df = pd.read_csv(os.path.join(relative_path,'validation','daily_volume.csv'))\n",
    "ax = df.plot(kind='scatter', x='observed', y='modeled')\n",
    "lim = df[['observed','modeled']].max().max()*1.05\n",
    "ax.set_ylim(0,lim)\n",
    "ax.set_xlim(0,lim)\n",
    "x = np.linspace(*ax.get_xlim())\n",
    "ax.plot(x, x)"
   ]
  },
  {
   "cell_type": "code",
   "execution_count": 8,
   "metadata": {
    "execution": {
     "iopub.execute_input": "2024-04-03T21:14:18.372060Z",
     "iopub.status.busy": "2024-04-03T21:14:18.372060Z",
     "iopub.status.idle": "2024-04-03T21:14:18.403299Z",
     "shell.execute_reply": "2024-04-03T21:14:18.403299Z"
    }
   },
   "outputs": [
    {
     "name": "stdout",
     "output_type": "stream",
     "text": [
      "r^2: 0.9613470820805115\n"
     ]
    }
   ],
   "source": [
    "slope, intercept, r_value, p_value, std_err = stats.linregress(df['observed'],df['modeled'])\n",
    "print('r^2: ' + str(r_value))"
   ]
  },
  {
   "cell_type": "markdown",
   "metadata": {},
   "source": [
    "---\n",
    "By County"
   ]
  },
  {
   "cell_type": "code",
   "execution_count": 9,
   "metadata": {
    "execution": {
     "iopub.execute_input": "2024-04-03T21:14:18.403299Z",
     "iopub.status.busy": "2024-04-03T21:14:18.403299Z",
     "iopub.status.idle": "2024-04-03T21:14:18.950052Z",
     "shell.execute_reply": "2024-04-03T21:14:18.950052Z"
    }
   },
   "outputs": [
    {
     "name": "stdout",
     "output_type": "stream",
     "text": [
      "King r^2: 0.9731813883606463\n",
      "Kitsap r^2: 0.9497289752986078\n",
      "Pierce r^2: 0.941804041922054\n",
      "Snohomish r^2: 0.9565819100730444\n"
     ]
    },
    {
     "data": {
      "image/png": "[encoded data removed]",
      "text/plain": [
       "<Figure size 432x288 with 1 Axes>"
      ]
     },
     "metadata": {
      "needs_background": "light"
     },
     "output_type": "display_data"
    },
    {
     "data": {
      "image/png": "[encoded data removed]",
      "text/plain": [
       "<Figure size 432x288 with 1 Axes>"
      ]
     },
     "metadata": {
      "needs_background": "light"
     },
     "output_type": "display_data"
    },
    {
     "data": {
      "image/png": "[encoded data removed]",
      "text/plain": [
       "<Figure size 432x288 with 1 Axes>"
      ]
     },
     "metadata": {
      "needs_background": "light"
     },
     "output_type": "display_data"
    },
    {
     "data": {
      "image/png": "[encoded data removed]",
      "text/plain": [
       "<Figure size 432x288 with 1 Axes>"
      ]
     },
     "metadata": {
      "needs_background": "light"
     },
     "output_type": "display_data"
    }
   ],
   "source": [
    "for county in np.unique(df['county']):\n",
    "    _df = df[df['county'] == county]\n",
    "    ax = _df.plot(kind='scatter', x='observed', y='modeled', label=county)\n",
    "    lim = _df[['observed','modeled']].max().max()*1.05\n",
    "    ax.set_ylim(0,lim)\n",
    "    ax.set_xlim(0,lim)\n",
    "    slope, intercept, r_value, p_value, std_err = stats.linregress(_df['observed'],_df['modeled'])\n",
    "    x = np.linspace(*ax.get_xlim())\n",
    "    ax.plot(x, x)\n",
    "    print(str(county) + ' r^2: ' + str(r_value))"
   ]
  },
  {
   "cell_type": "markdown",
   "metadata": {},
   "source": [
    "---\n",
    "By Facility Type"
   ]
  },
  {
   "cell_type": "code",
   "execution_count": 10,
   "metadata": {
    "execution": {
     "iopub.execute_input": "2024-04-03T21:14:18.950052Z",
     "iopub.status.busy": "2024-04-03T21:14:18.950052Z",
     "iopub.status.idle": "2024-04-03T21:14:19.309345Z",
     "shell.execute_reply": "2024-04-03T21:14:19.309345Z"
    }
   },
   "outputs": [
    {
     "name": "stdout",
     "output_type": "stream",
     "text": [
      "r^2 Freeway: 0.9124371826520301\n",
      "r^2 Arterial: 0.8719347343935234\n"
     ]
    },
    {
     "data": {
      "image/png": "[encoded data removed]",
      "text/plain": [
       "<Figure size 432x288 with 1 Axes>"
      ]
     },
     "metadata": {
      "needs_background": "light"
     },
     "output_type": "display_data"
    },
    {
     "data": {
      "image/png": "[encoded data removed]",
      "text/plain": [
       "<Figure size 432x288 with 1 Axes>"
      ]
     },
     "metadata": {
      "needs_background": "light"
     },
     "output_type": "display_data"
    }
   ],
   "source": [
    "for factype in ['Freeway','Arterial']:\n",
    "    _df = df[df['@facilitytype'] == factype]\n",
    "    ax = _df.plot(kind='scatter', x='observed', y='modeled', label=factype)\n",
    "    lim = _df[['observed','modeled']].max().max()*1.05\n",
    "    ax.set_ylim(0,lim)\n",
    "    ax.set_xlim(0,lim)\n",
    "    x = np.linspace(*ax.get_xlim())\n",
    "    ax.plot(x, x)\n",
    "    slope, intercept, r_value, p_value, std_err = stats.linregress(_df['observed'],_df['modeled'])\n",
    "    print('r^2 ' + str(factype) + ': ' + str(r_value))"
   ]
  },
  {
   "cell_type": "markdown",
   "metadata": {},
   "source": [
    "**Hourly Volumes**\n"
   ]
  },
  {
   "cell_type": "code",
   "execution_count": 11,
   "metadata": {
    "execution": {
     "iopub.execute_input": "2024-04-03T21:14:19.309345Z",
     "iopub.status.busy": "2024-04-03T21:14:19.309345Z",
     "iopub.status.idle": "2024-04-03T21:14:19.465557Z",
     "shell.execute_reply": "2024-04-03T21:14:19.465557Z"
    }
   },
   "outputs": [
    {
     "name": "stdout",
     "output_type": "stream",
     "text": [
      "r^2: 0.9083370685259872\n"
     ]
    },
    {
     "data": {
      "image/png": "[encoded data removed]",
      "text/plain": [
       "<Figure size 432x288 with 1 Axes>"
      ]
     },
     "metadata": {
      "needs_background": "light"
     },
     "output_type": "display_data"
    }
   ],
   "source": [
    "df = pd.read_csv(os.path.join(relative_path,'validation','hourly_volume.csv'))\n",
    "ax = df.plot(kind='scatter', x='observed', y='modeled')\n",
    "lim = df[['observed','modeled']].max().max()*1.05\n",
    "ax.set_ylim(0,lim)\n",
    "ax.set_xlim(0,lim)\n",
    "x = np.linspace(*ax.get_xlim())\n",
    "ax.plot(x, x)\n",
    "slope, intercept, r_value, p_value, std_err = stats.linregress(df['observed'],df['modeled'])\n",
    "print('r^2: ' + str(r_value))"
   ]
  },
  {
   "cell_type": "markdown",
   "metadata": {},
   "source": [
    "# Screenlines"
   ]
  },
  {
   "cell_type": "code",
   "execution_count": 12,
   "metadata": {
    "execution": {
     "iopub.execute_input": "2024-04-03T21:14:19.465557Z",
     "iopub.status.busy": "2024-04-03T21:14:19.465557Z",
     "iopub.status.idle": "2024-04-03T21:14:19.496799Z",
     "shell.execute_reply": "2024-04-03T21:14:19.496799Z"
    }
   },
   "outputs": [
    {
     "data": {
      "text/html": [
       "<div>\n",
       "<style scoped>\n",
       "    .dataframe tbody tr th:only-of-type {\n",
       "        vertical-align: middle;\n",
       "    }\n",
       "\n",
       "    .dataframe tbody tr th {\n",
       "        vertical-align: top;\n",
       "    }\n",
       "\n",
       "    .dataframe thead th {\n",
       "        text-align: right;\n",
       "    }\n",
       "</style>\n",
       "<table border=\"1\" class=\"dataframe\">\n",
       "  <thead>\n",
       "    <tr style=\"text-align: right;\">\n",
       "      <th></th>\n",
       "      <th>name</th>\n",
       "      <th>observed</th>\n",
       "      <th>modeled</th>\n",
       "      <th>county</th>\n",
       "      <th>diff</th>\n",
       "      <th>percent_diff</th>\n",
       "    </tr>\n",
       "  </thead>\n",
       "  <tbody>\n",
       "    <tr>\n",
       "      <th>0</th>\n",
       "      <td>AUBURN - SOUTH KING</td>\n",
       "      <td>568,417</td>\n",
       "      <td>537,271</td>\n",
       "      <td>King</td>\n",
       "      <td>-31,146</td>\n",
       "      <td>-5.48%</td>\n",
       "    </tr>\n",
       "    <tr>\n",
       "      <th>1</th>\n",
       "      <td>KENT</td>\n",
       "      <td>550,322</td>\n",
       "      <td>507,520</td>\n",
       "      <td>King</td>\n",
       "      <td>-42,802</td>\n",
       "      <td>-7.78%</td>\n",
       "    </tr>\n",
       "    <tr>\n",
       "      <th>2</th>\n",
       "      <td>SEATTLE - SOUTH OF CBD</td>\n",
       "      <td>526,500</td>\n",
       "      <td>524,422</td>\n",
       "      <td>King</td>\n",
       "      <td>-2,078</td>\n",
       "      <td>-0.39%</td>\n",
       "    </tr>\n",
       "    <tr>\n",
       "      <th>3</th>\n",
       "      <td>SHIP CANAL</td>\n",
       "      <td>519,802</td>\n",
       "      <td>573,637</td>\n",
       "      <td>King</td>\n",
       "      <td>53,835</td>\n",
       "      <td>10.36%</td>\n",
       "    </tr>\n",
       "    <tr>\n",
       "      <th>4</th>\n",
       "      <td>KIRKLAND-REDMOND</td>\n",
       "      <td>414,120</td>\n",
       "      <td>428,585</td>\n",
       "      <td>King</td>\n",
       "      <td>14,465</td>\n",
       "      <td>3.49%</td>\n",
       "    </tr>\n",
       "    <tr>\n",
       "      <th>5</th>\n",
       "      <td>MILL CREEK</td>\n",
       "      <td>400,848</td>\n",
       "      <td>383,532</td>\n",
       "      <td>King</td>\n",
       "      <td>-17,316</td>\n",
       "      <td>-4.32%</td>\n",
       "    </tr>\n",
       "    <tr>\n",
       "      <th>6</th>\n",
       "      <td>SOUTH BELLEVUE</td>\n",
       "      <td>399,500</td>\n",
       "      <td>364,932</td>\n",
       "      <td>King</td>\n",
       "      <td>-34,568</td>\n",
       "      <td>-8.65%</td>\n",
       "    </tr>\n",
       "    <tr>\n",
       "      <th>7</th>\n",
       "      <td>SEATTLE - NORTH</td>\n",
       "      <td>372,000</td>\n",
       "      <td>380,986</td>\n",
       "      <td>King</td>\n",
       "      <td>8,986</td>\n",
       "      <td>2.42%</td>\n",
       "    </tr>\n",
       "    <tr>\n",
       "      <th>8</th>\n",
       "      <td>TACOMA - EAST OF CBD</td>\n",
       "      <td>312,164</td>\n",
       "      <td>356,948</td>\n",
       "      <td>Pierce</td>\n",
       "      <td>44,784</td>\n",
       "      <td>14.35%</td>\n",
       "    </tr>\n",
       "    <tr>\n",
       "      <th>9</th>\n",
       "      <td>PARKLAND</td>\n",
       "      <td>304,322</td>\n",
       "      <td>278,691</td>\n",
       "      <td>Pierce</td>\n",
       "      <td>-25,631</td>\n",
       "      <td>-8.42%</td>\n",
       "    </tr>\n",
       "    <tr>\n",
       "      <th>10</th>\n",
       "      <td>BOTHELL</td>\n",
       "      <td>293,729</td>\n",
       "      <td>323,568</td>\n",
       "      <td>King</td>\n",
       "      <td>29,839</td>\n",
       "      <td>10.16%</td>\n",
       "    </tr>\n",
       "    <tr>\n",
       "      <th>11</th>\n",
       "      <td>LYNNWOOD-BOTHELL</td>\n",
       "      <td>269,900</td>\n",
       "      <td>301,447</td>\n",
       "      <td>King</td>\n",
       "      <td>31,547</td>\n",
       "      <td>11.69%</td>\n",
       "    </tr>\n",
       "    <tr>\n",
       "      <th>12</th>\n",
       "      <td>TUKWILA</td>\n",
       "      <td>259,341</td>\n",
       "      <td>240,585</td>\n",
       "      <td>King</td>\n",
       "      <td>-18,756</td>\n",
       "      <td>-7.23%</td>\n",
       "    </tr>\n",
       "    <tr>\n",
       "      <th>13</th>\n",
       "      <td>TRANSLAKE</td>\n",
       "      <td>252,300</td>\n",
       "      <td>314,112</td>\n",
       "      <td>King</td>\n",
       "      <td>61,812</td>\n",
       "      <td>24.50%</td>\n",
       "    </tr>\n",
       "    <tr>\n",
       "      <th>14</th>\n",
       "      <td>PUYALLUP</td>\n",
       "      <td>135,600</td>\n",
       "      <td>124,505</td>\n",
       "      <td>Pierce</td>\n",
       "      <td>-11,095</td>\n",
       "      <td>-8.18%</td>\n",
       "    </tr>\n",
       "    <tr>\n",
       "      <th>15</th>\n",
       "      <td>WOODINVILLE</td>\n",
       "      <td>110,168</td>\n",
       "      <td>149,526</td>\n",
       "      <td>King</td>\n",
       "      <td>39,358</td>\n",
       "      <td>35.73%</td>\n",
       "    </tr>\n",
       "    <tr>\n",
       "      <th>16</th>\n",
       "      <td>NORTH KITSAP</td>\n",
       "      <td>109,890</td>\n",
       "      <td>77,549</td>\n",
       "      <td>Kitsap</td>\n",
       "      <td>-32,341</td>\n",
       "      <td>-29.43%</td>\n",
       "    </tr>\n",
       "    <tr>\n",
       "      <th>17</th>\n",
       "      <td>TACOMA NARROWS</td>\n",
       "      <td>96,000</td>\n",
       "      <td>103,571</td>\n",
       "      <td>Pierce</td>\n",
       "      <td>7,571</td>\n",
       "      <td>7.89%</td>\n",
       "    </tr>\n",
       "    <tr>\n",
       "      <th>18</th>\n",
       "      <td>PRESTON-ISSAQUAH</td>\n",
       "      <td>91,950</td>\n",
       "      <td>90,928</td>\n",
       "      <td>King</td>\n",
       "      <td>-1,022</td>\n",
       "      <td>-1.11%</td>\n",
       "    </tr>\n",
       "    <tr>\n",
       "      <th>19</th>\n",
       "      <td>RENTON</td>\n",
       "      <td>73,973</td>\n",
       "      <td>72,050</td>\n",
       "      <td>King</td>\n",
       "      <td>-1,923</td>\n",
       "      <td>-2.60%</td>\n",
       "    </tr>\n",
       "    <tr>\n",
       "      <th>20</th>\n",
       "      <td>SEATAC</td>\n",
       "      <td>73,635</td>\n",
       "      <td>88,434</td>\n",
       "      <td>King</td>\n",
       "      <td>14,799</td>\n",
       "      <td>20.10%</td>\n",
       "    </tr>\n",
       "    <tr>\n",
       "      <th>21</th>\n",
       "      <td>MAPLE VALLEY</td>\n",
       "      <td>71,874</td>\n",
       "      <td>65,907</td>\n",
       "      <td>King</td>\n",
       "      <td>-5,967</td>\n",
       "      <td>-8.30%</td>\n",
       "    </tr>\n",
       "    <tr>\n",
       "      <th>22</th>\n",
       "      <td>GIG HARBOR</td>\n",
       "      <td>71,040</td>\n",
       "      <td>78,633</td>\n",
       "      <td>Pierce</td>\n",
       "      <td>7,593</td>\n",
       "      <td>10.69%</td>\n",
       "    </tr>\n",
       "    <tr>\n",
       "      <th>23</th>\n",
       "      <td>AGATE PASS BRIDGE</td>\n",
       "      <td>22,000</td>\n",
       "      <td>24,426</td>\n",
       "      <td>Kitsap</td>\n",
       "      <td>2,426</td>\n",
       "      <td>11.03%</td>\n",
       "    </tr>\n",
       "    <tr>\n",
       "      <th>24</th>\n",
       "      <td>CROSS SOUND</td>\n",
       "      <td>18,530</td>\n",
       "      <td>55,824</td>\n",
       "      <td>Kitsap</td>\n",
       "      <td>37,294</td>\n",
       "      <td>201.26%</td>\n",
       "    </tr>\n",
       "    <tr>\n",
       "      <th>25</th>\n",
       "      <td>TOTAL</td>\n",
       "      <td>6,317,925</td>\n",
       "      <td>6,447,590</td>\n",
       "      <td>NaN</td>\n",
       "      <td>129,665</td>\n",
       "      <td>2.05%</td>\n",
       "    </tr>\n",
       "  </tbody>\n",
       "</table>\n",
       "</div>"
      ],
      "text/plain": [
       "                      name  observed   modeled  county    diff percent_diff\n",
       "0      AUBURN - SOUTH KING   568,417   537,271    King -31,146       -5.48%\n",
       "1                     KENT   550,322   507,520    King -42,802       -7.78%\n",
       "2   SEATTLE - SOUTH OF CBD   526,500   524,422    King  -2,078       -0.39%\n",
       "3               SHIP CANAL   519,802   573,637    King  53,835       10.36%\n",
       "4         KIRKLAND-REDMOND   414,120   428,585    King  14,465        3.49%\n",
       "5               MILL CREEK   400,848   383,532    King -17,316       -4.32%\n",
       "6           SOUTH BELLEVUE   399,500   364,932    King -34,568       -8.65%\n",
       "7          SEATTLE - NORTH   372,000   380,986    King   8,986        2.42%\n",
       "8     TACOMA - EAST OF CBD   312,164   356,948  Pierce  44,784       14.35%\n",
       "9                 PARKLAND   304,322   278,691  Pierce -25,631       -8.42%\n",
       "10                 BOTHELL   293,729   323,568    King  29,839       10.16%\n",
       "11        LYNNWOOD-BOTHELL   269,900   301,447    King  31,547       11.69%\n",
       "12                 TUKWILA   259,341   240,585    King -18,756       -7.23%\n",
       "13               TRANSLAKE   252,300   314,112    King  61,812       24.50%\n",
       "14                PUYALLUP   135,600   124,505  Pierce -11,095       -8.18%\n",
       "15             WOODINVILLE   110,168   149,526    King  39,358       35.73%\n",
       "16            NORTH KITSAP   109,890    77,549  Kitsap -32,341      -29.43%\n",
       "17          TACOMA NARROWS    96,000   103,571  Pierce   7,571        7.89%\n",
       "18        PRESTON-ISSAQUAH    91,950    90,928    King  -1,022       -1.11%\n",
       "19                  RENTON    73,973    72,050    King  -1,923       -2.60%\n",
       "20                  SEATAC    73,635    88,434    King  14,799       20.10%\n",
       "21            MAPLE VALLEY    71,874    65,907    King  -5,967       -8.30%\n",
       "22              GIG HARBOR    71,040    78,633  Pierce   7,593       10.69%\n",
       "23       AGATE PASS BRIDGE    22,000    24,426  Kitsap   2,426       11.03%\n",
       "24             CROSS SOUND    18,530    55,824  Kitsap  37,294      201.26%\n",
       "25                   TOTAL 6,317,925 6,447,590     NaN 129,665        2.05%"
      ]
     },
     "execution_count": 12,
     "metadata": {},
     "output_type": "execute_result"
    }
   ],
   "source": [
    "df = pd.read_csv(os.path.join(relative_path,'validation','screenlines.csv'))\n",
    "df = df.append(df.sum(numeric_only=True), ignore_index=True)\n",
    "df.at[df.index[-1], 'name'] = 'TOTAL'\n",
    "#df.at['C', 'name'] = 10\n",
    "df['percent_diff'] = df['diff']/df['observed']\n",
    "df[['percent_diff']] = df[['percent_diff']].applymap(format_percent)\n",
    "df"
   ]
  },
  {
   "cell_type": "code",
   "execution_count": 13,
   "metadata": {
    "execution": {
     "iopub.execute_input": "2024-04-03T21:14:19.496799Z",
     "iopub.status.busy": "2024-04-03T21:14:19.496799Z",
     "iopub.status.idle": "2024-04-03T21:14:19.606152Z",
     "shell.execute_reply": "2024-04-03T21:14:19.606152Z"
    }
   },
   "outputs": [
    {
     "name": "stdout",
     "output_type": "stream",
     "text": [
      "r^2 : 0.9869016507735259\n"
     ]
    },
    {
     "data": {
      "image/png": "[encoded data removed]",
      "text/plain": [
       "<Figure size 432x288 with 1 Axes>"
      ]
     },
     "metadata": {
      "needs_background": "light"
     },
     "output_type": "display_data"
    }
   ],
   "source": [
    "df = df.head(-1)\n",
    "ax = df.plot(kind='scatter', x='observed', y='modeled')\n",
    "lim = df[['observed','modeled']].max().max()*1.05\n",
    "ax.set_ylim(0,lim)\n",
    "ax.set_xlim(0,lim)\n",
    "x = np.linspace(*ax.get_xlim())\n",
    "ax.plot(x, x)\n",
    "slope, intercept, r_value, p_value, std_err = stats.linregress(df['observed'],df['modeled'])\n",
    "print('r^2 : ' + str(r_value))"
   ]
  },
  {
   "cell_type": "markdown",
   "metadata": {},
   "source": [
    "# Transit Boarding\n",
    "----\n",
    "### By Agency"
   ]
  },
  {
   "cell_type": "code",
   "execution_count": 14,
   "metadata": {
    "execution": {
     "iopub.execute_input": "2024-04-03T21:14:19.606152Z",
     "iopub.status.busy": "2024-04-03T21:14:19.606152Z",
     "iopub.status.idle": "2024-04-03T21:14:19.637395Z",
     "shell.execute_reply": "2024-04-03T21:14:19.637395Z"
    }
   },
   "outputs": [
    {
     "data": {
      "text/html": [
       "<div>\n",
       "<style scoped>\n",
       "    .dataframe tbody tr th:only-of-type {\n",
       "        vertical-align: middle;\n",
       "    }\n",
       "\n",
       "    .dataframe tbody tr th {\n",
       "        vertical-align: top;\n",
       "    }\n",
       "\n",
       "    .dataframe thead th {\n",
       "        text-align: right;\n",
       "    }\n",
       "</style>\n",
       "<table border=\"1\" class=\"dataframe\">\n",
       "  <thead>\n",
       "    <tr style=\"text-align: right;\">\n",
       "      <th></th>\n",
       "      <th>agency</th>\n",
       "      <th>observed_5to20</th>\n",
       "      <th>modeled_5to20</th>\n",
       "      <th>diff</th>\n",
       "      <th>perc_diff</th>\n",
       "    </tr>\n",
       "  </thead>\n",
       "  <tbody>\n",
       "    <tr>\n",
       "      <th>0</th>\n",
       "      <td>King County Metro</td>\n",
       "      <td>2,313</td>\n",
       "      <td>754,500</td>\n",
       "      <td>752,187</td>\n",
       "      <td>32,519.97%</td>\n",
       "    </tr>\n",
       "  </tbody>\n",
       "</table>\n",
       "</div>"
      ],
      "text/plain": [
       "              agency  observed_5to20  modeled_5to20    diff   perc_diff\n",
       "0  King County Metro           2,313        754,500 752,187  32,519.97%"
      ]
     },
     "execution_count": 14,
     "metadata": {},
     "output_type": "execute_result"
    }
   ],
   "source": [
    "df = pd.read_csv(os.path.join(relative_path,'validation/') + 'daily_boardings_by_agency.csv')\n",
    "\n",
    "df[['observed_5to20','modeled_5to20','diff']] = df[['observed_5to20','modeled_5to20','diff']].astype('float')\n",
    "df[['perc_diff']] = df[['perc_diff']].applymap(format_percent)\n",
    "df.sort_values('observed_5to20', ascending=False)"
   ]
  },
  {
   "cell_type": "markdown",
   "metadata": {},
   "source": [
    "----\n",
    "### Key Routes\n",
    "#### Ferries"
   ]
  },
  {
   "cell_type": "code",
   "execution_count": 15,
   "metadata": {
    "execution": {
     "iopub.execute_input": "2024-04-03T21:14:19.637395Z",
     "iopub.status.busy": "2024-04-03T21:14:19.637395Z",
     "iopub.status.idle": "2024-04-03T21:14:19.746742Z",
     "shell.execute_reply": "2024-04-03T21:14:19.746742Z"
    }
   },
   "outputs": [
    {
     "data": {
      "text/html": [
       "<div>\n",
       "<style scoped>\n",
       "    .dataframe tbody tr th:only-of-type {\n",
       "        vertical-align: middle;\n",
       "    }\n",
       "\n",
       "    .dataframe tbody tr th {\n",
       "        vertical-align: top;\n",
       "    }\n",
       "\n",
       "    .dataframe thead th {\n",
       "        text-align: right;\n",
       "    }\n",
       "</style>\n",
       "<table border=\"1\" class=\"dataframe\">\n",
       "  <thead>\n",
       "    <tr style=\"text-align: right;\">\n",
       "      <th></th>\n",
       "      <th>description</th>\n",
       "      <th>observed_5to20</th>\n",
       "      <th>modeled_5to20</th>\n",
       "      <th>diff</th>\n",
       "      <th>perc_diff</th>\n",
       "    </tr>\n",
       "  </thead>\n",
       "  <tbody>\n",
       "  </tbody>\n",
       "</table>\n",
       "</div>"
      ],
      "text/plain": [
       "Empty DataFrame\n",
       "Columns: [description, observed_5to20, modeled_5to20, diff, perc_diff]\n",
       "Index: []"
      ]
     },
     "execution_count": 15,
     "metadata": {},
     "output_type": "execute_result"
    }
   ],
   "source": [
    "df = pd.read_csv(os.path.join(relative_path,'validation/') + 'daily_boardings_key_routes.csv', index_col='description')\n",
    "df[['observed_5to20','modeled_5to20']] = df[['observed_5to20','modeled_5to20']].astype('float')\n",
    "_df = df[df['route_code'].isin([5001,5002,5003,5004,5005,5006,5007,1973,1975])].reset_index()\n",
    "_df.drop(['route_code','agency'], axis=1, inplace=True)\n",
    "_df[['perc_diff']] = _df[['perc_diff']].applymap(format_percent)\n",
    "_df"
   ]
  },
  {
   "cell_type": "code",
   "execution_count": 16,
   "metadata": {
    "execution": {
     "iopub.execute_input": "2024-04-03T21:14:19.746742Z",
     "iopub.status.busy": "2024-04-03T21:14:19.746742Z",
     "iopub.status.idle": "2024-04-03T21:14:19.762365Z",
     "shell.execute_reply": "2024-04-03T21:14:19.762365Z"
    }
   },
   "outputs": [],
   "source": [
    "if len(_df) > 0:\n",
    "    ax = _df.plot(kind='scatter', x='observed_5to20', y='modeled_5to20')\n",
    "    lim = _df[['observed_5to20','modeled_5to20']].max().max()*1.05\n",
    "    ax.set_ylim(0,lim)\n",
    "    ax.set_xlim(0,lim)\n",
    "    x = np.linspace(*ax.get_xlim())\n",
    "    ax.plot(x, x)\n",
    "    slope, intercept, r_value, p_value, std_err = stats.linregress(_df['observed_5to20'],_df['modeled_5to20'])\n",
    "    print('r^2 ' + str('') + ': ' + str(r_value))"
   ]
  },
  {
   "cell_type": "markdown",
   "metadata": {},
   "source": [
    "#### Bikes on Ferries"
   ]
  },
  {
   "cell_type": "code",
   "execution_count": 17,
   "metadata": {
    "execution": {
     "iopub.execute_input": "2024-04-03T21:14:19.762365Z",
     "iopub.status.busy": "2024-04-03T21:14:19.762365Z",
     "iopub.status.idle": "2024-04-03T21:14:19.777985Z",
     "shell.execute_reply": "2024-04-03T21:14:19.777985Z"
    }
   },
   "outputs": [
    {
     "data": {
      "text/html": [
       "<div>\n",
       "<style scoped>\n",
       "    .dataframe tbody tr th:only-of-type {\n",
       "        vertical-align: middle;\n",
       "    }\n",
       "\n",
       "    .dataframe tbody tr th {\n",
       "        vertical-align: top;\n",
       "    }\n",
       "\n",
       "    .dataframe thead th {\n",
       "        text-align: right;\n",
       "    }\n",
       "</style>\n",
       "<table border=\"1\" class=\"dataframe\">\n",
       "  <thead>\n",
       "    <tr style=\"text-align: right;\">\n",
       "      <th></th>\n",
       "      <th>route_code</th>\n",
       "      <th>description</th>\n",
       "      <th>@bvol</th>\n",
       "    </tr>\n",
       "  </thead>\n",
       "  <tbody>\n",
       "    <tr>\n",
       "      <th>0</th>\n",
       "      <td>1001</td>\n",
       "      <td>E</td>\n",
       "      <td>4,488</td>\n",
       "    </tr>\n",
       "  </tbody>\n",
       "</table>\n",
       "</div>"
      ],
      "text/plain": [
       "   route_code description  @bvol\n",
       "0        1001           E  4,488"
      ]
     },
     "execution_count": 17,
     "metadata": {},
     "output_type": "execute_result"
    }
   ],
   "source": [
    "df = pd.read_csv(os.path.join(relative_path,'validation/') + 'bike_ferry_boardings.csv')\n",
    "df['route_code'] = df['route_code'].astype('int')\n",
    "df[['route_code','description', '@bvol']].sort_values('@bvol', ascending=False)"
   ]
  },
  {
   "cell_type": "markdown",
   "metadata": {},
   "source": [
    "#### Rail"
   ]
  },
  {
   "cell_type": "code",
   "execution_count": 18,
   "metadata": {
    "execution": {
     "iopub.execute_input": "2024-04-03T21:14:19.777985Z",
     "iopub.status.busy": "2024-04-03T21:14:19.777985Z",
     "iopub.status.idle": "2024-04-03T21:14:19.809118Z",
     "shell.execute_reply": "2024-04-03T21:14:19.809118Z"
    }
   },
   "outputs": [
    {
     "data": {
      "text/html": [
       "<div>\n",
       "<style scoped>\n",
       "    .dataframe tbody tr th:only-of-type {\n",
       "        vertical-align: middle;\n",
       "    }\n",
       "\n",
       "    .dataframe tbody tr th {\n",
       "        vertical-align: top;\n",
       "    }\n",
       "\n",
       "    .dataframe thead th {\n",
       "        text-align: right;\n",
       "    }\n",
       "</style>\n",
       "<table border=\"1\" class=\"dataframe\">\n",
       "  <thead>\n",
       "    <tr style=\"text-align: right;\">\n",
       "      <th></th>\n",
       "      <th>description</th>\n",
       "      <th>observed_5to20</th>\n",
       "      <th>modeled_5to20</th>\n",
       "      <th>diff</th>\n",
       "      <th>perc_diff</th>\n",
       "    </tr>\n",
       "  </thead>\n",
       "  <tbody>\n",
       "  </tbody>\n",
       "</table>\n",
       "</div>"
      ],
      "text/plain": [
       "Empty DataFrame\n",
       "Columns: [description, observed_5to20, modeled_5to20, diff, perc_diff]\n",
       "Index: []"
      ]
     },
     "execution_count": 18,
     "metadata": {},
     "output_type": "execute_result"
    }
   ],
   "source": [
    "df = pd.read_csv(os.path.join(relative_path,'validation/') + 'daily_boardings_key_routes.csv', index_col='description')\n",
    "df[['observed_5to20','modeled_5to20']] = df[['observed_5to20','modeled_5to20']].astype('float')\n",
    "_df = df[df['route_code'].isin([6996,6999,6998])].reset_index()\n",
    "_df['description'] = _df['route_code'].map({6998: 'Sounder South', 6999: 'Sounder North',6996: 'Link Red Line'})\n",
    "_df.drop(['route_code','agency'], axis=1, inplace=True)\n",
    "_df[['perc_diff']] = _df[['perc_diff']].applymap(format_percent)\n",
    "\n",
    "_df"
   ]
  },
  {
   "cell_type": "code",
   "execution_count": 19,
   "metadata": {
    "execution": {
     "iopub.execute_input": "2024-04-03T21:14:19.811112Z",
     "iopub.status.busy": "2024-04-03T21:14:19.811112Z",
     "iopub.status.idle": "2024-04-03T21:14:19.825075Z",
     "shell.execute_reply": "2024-04-03T21:14:19.825075Z"
    }
   },
   "outputs": [],
   "source": [
    "if len(_df) > 0: \n",
    "    ax = _df.plot(kind='scatter', x='observed_5to20', y='modeled_5to20')\n",
    "    lim = _df[['observed_5to20','modeled_5to20']].max().max()*1.05\n",
    "    ax.set_ylim(0,lim)\n",
    "    ax.set_xlim(0,lim)\n",
    "    x = np.linspace(*ax.get_xlim())\n",
    "    ax.plot(x, x)\n",
    "    slope, intercept, r_value, p_value, std_err = stats.linregress(_df['observed_5to20'],_df['modeled_5to20'])\n",
    "    print('r^2 ' + str('') + ': ' + str(r_value))"
   ]
  },
  {
   "cell_type": "markdown",
   "metadata": {},
   "source": [
    "#### RapidRide, Busiest Buses, Streetcar"
   ]
  },
  {
   "cell_type": "code",
   "execution_count": 20,
   "metadata": {
    "execution": {
     "iopub.execute_input": "2024-04-03T21:14:19.827183Z",
     "iopub.status.busy": "2024-04-03T21:14:19.827183Z",
     "iopub.status.idle": "2024-04-03T21:14:19.840147Z",
     "shell.execute_reply": "2024-04-03T21:14:19.840147Z"
    }
   },
   "outputs": [
    {
     "data": {
      "text/html": [
       "<div>\n",
       "<style scoped>\n",
       "    .dataframe tbody tr th:only-of-type {\n",
       "        vertical-align: middle;\n",
       "    }\n",
       "\n",
       "    .dataframe tbody tr th {\n",
       "        vertical-align: top;\n",
       "    }\n",
       "\n",
       "    .dataframe thead th {\n",
       "        text-align: right;\n",
       "    }\n",
       "</style>\n",
       "<table border=\"1\" class=\"dataframe\">\n",
       "  <thead>\n",
       "    <tr style=\"text-align: right;\">\n",
       "      <th></th>\n",
       "      <th>description</th>\n",
       "      <th>observed_5to20</th>\n",
       "      <th>modeled_5to20</th>\n",
       "      <th>diff</th>\n",
       "      <th>perc_diff</th>\n",
       "    </tr>\n",
       "  </thead>\n",
       "  <tbody>\n",
       "  </tbody>\n",
       "</table>\n",
       "</div>"
      ],
      "text/plain": [
       "Empty DataFrame\n",
       "Columns: [description, observed_5to20, modeled_5to20, diff, perc_diff]\n",
       "Index: []"
      ]
     },
     "execution_count": 20,
     "metadata": {},
     "output_type": "execute_result"
    }
   ],
   "source": [
    "_df = df[df['route_code'].isin([1671,1672,1673,1674,1675,1676,6550,1007,1040,1997,1998])].reset_index()\n",
    "_df['description'] = _df['route_code'].map({1671: 'A Line RapidRide', 1672: 'B Line RapidRide',\n",
    "                                            1673: 'C Line RapidRide', 1674: 'D Line RapidRide',\n",
    "                                            1675: 'E Line RapidRide', 1676: 'F Line RapidRide',\n",
    "                                            6550: 'Sound Transit 550', 1040: 'KC Metro 40', 1007: 'KC Metro 7',\n",
    "                                            1997: 'SLU Streetcar', 1998: 'First Hill Streetcar'})\n",
    "_df.drop(['route_code','agency'], axis=1, inplace=True)\n",
    "_df[['perc_diff']] = _df[['perc_diff']].applymap(format_percent)\n",
    "_df.sort_values('modeled_5to20', ascending=False)"
   ]
  },
  {
   "cell_type": "code",
   "execution_count": 21,
   "metadata": {
    "execution": {
     "iopub.execute_input": "2024-04-03T21:14:19.842142Z",
     "iopub.status.busy": "2024-04-03T21:14:19.842142Z",
     "iopub.status.idle": "2024-04-03T21:14:19.855107Z",
     "shell.execute_reply": "2024-04-03T21:14:19.855107Z"
    }
   },
   "outputs": [],
   "source": [
    "if len(_df) > 0: \n",
    "    ax = _df.plot(kind='scatter', x='observed_5to20', y='modeled_5to20')\n",
    "    lim = _df[['observed_5to20','modeled_5to20']].max().max()*1.05\n",
    "    ax.set_ylim(0,lim)\n",
    "    ax.set_xlim(0,lim)\n",
    "    x = np.linspace(*ax.get_xlim())\n",
    "    ax.plot(x, x)\n",
    "    slope, intercept, r_value, p_value, std_err = stats.linregress(_df['observed_5to20'],_df['modeled_5to20'])\n",
    "    print('r^2 ' + str('') + ': ' + str(r_value))"
   ]
  },
  {
   "cell_type": "markdown",
   "metadata": {},
   "source": [
    "---\n",
    "### Lines by Agency"
   ]
  },
  {
   "cell_type": "code",
   "execution_count": 22,
   "metadata": {
    "execution": {
     "iopub.execute_input": "2024-04-03T21:14:19.857102Z",
     "iopub.status.busy": "2024-04-03T21:14:19.857102Z",
     "iopub.status.idle": "2024-04-03T21:14:19.871567Z",
     "shell.execute_reply": "2024-04-03T21:14:19.870566Z"
    }
   },
   "outputs": [],
   "source": [
    "df = pd.read_csv(os.path.join(relative_path,'validation/') + 'daily_boardings_by_line.csv', index_col='agency')\n",
    "df = df[-df['agency_id'].isnull()]\n",
    "\n",
    "for agency in np.unique(df.index):\n",
    "    _df = df.loc[agency,:]\n",
    "    if (type(_df) == pd.core.frame.DataFrame) & (len(df) > 0):\n",
    "        ax = _df.plot(kind='scatter', x='observed_5to20', y='modeled_5to20', label=agency)\n",
    "        lim = _df[['observed_5to20','modeled_5to20']].max().max()*1.05\n",
    "        ax.set_ylim(0,lim)\n",
    "        ax.set_xlim(0,lim)\n",
    "        x = np.linspace(*ax.get_xlim())\n",
    "        ax.plot(x, x)\n",
    "        slope, intercept, r_value, p_value, std_err = stats.linregress(_df['observed_5to20'],_df['modeled_5to20'])\n",
    "        print('r^2 ' + str(agency) + ': ' + str(r_value))"
   ]
  },
  {
   "cell_type": "markdown",
   "metadata": {},
   "source": [
    "# Light Rail Station Boardings\n",
    "----\n",
    "Red Line"
   ]
  },
  {
   "cell_type": "code",
   "execution_count": 23,
   "metadata": {
    "execution": {
     "iopub.execute_input": "2024-04-03T21:14:19.875557Z",
     "iopub.status.busy": "2024-04-03T21:14:19.874559Z",
     "iopub.status.idle": "2024-04-03T21:14:19.903106Z",
     "shell.execute_reply": "2024-04-03T21:14:19.902103Z"
    }
   },
   "outputs": [
    {
     "data": {
      "text/html": [
       "<div>\n",
       "<style scoped>\n",
       "    .dataframe tbody tr th:only-of-type {\n",
       "        vertical-align: middle;\n",
       "    }\n",
       "\n",
       "    .dataframe tbody tr th {\n",
       "        vertical-align: top;\n",
       "    }\n",
       "\n",
       "    .dataframe thead th {\n",
       "        text-align: right;\n",
       "    }\n",
       "</style>\n",
       "<table border=\"1\" class=\"dataframe\">\n",
       "  <thead>\n",
       "    <tr style=\"text-align: right;\">\n",
       "      <th></th>\n",
       "      <th>observed_5to20</th>\n",
       "      <th>modeled_5to20</th>\n",
       "      <th>diff</th>\n",
       "      <th>percent_diff</th>\n",
       "    </tr>\n",
       "    <tr>\n",
       "      <th>station_name</th>\n",
       "      <th></th>\n",
       "      <th></th>\n",
       "      <th></th>\n",
       "      <th></th>\n",
       "    </tr>\n",
       "  </thead>\n",
       "  <tbody>\n",
       "    <tr>\n",
       "      <th>Husky Stadium</th>\n",
       "      <td>9,416</td>\n",
       "      <td>5,770</td>\n",
       "      <td>-3,645</td>\n",
       "      <td>-38.72%</td>\n",
       "    </tr>\n",
       "    <tr>\n",
       "      <th>Westlake</th>\n",
       "      <td>10,904</td>\n",
       "      <td>18,433</td>\n",
       "      <td>7,529</td>\n",
       "      <td>69.05%</td>\n",
       "    </tr>\n",
       "    <tr>\n",
       "      <th>University St</th>\n",
       "      <td>5,257</td>\n",
       "      <td>12,395</td>\n",
       "      <td>7,138</td>\n",
       "      <td>135.78%</td>\n",
       "    </tr>\n",
       "    <tr>\n",
       "      <th>Pioneer Square</th>\n",
       "      <td>3,865</td>\n",
       "      <td>9,175</td>\n",
       "      <td>5,310</td>\n",
       "      <td>137.39%</td>\n",
       "    </tr>\n",
       "    <tr>\n",
       "      <th>Int'l District</th>\n",
       "      <td>5,647</td>\n",
       "      <td>3,172</td>\n",
       "      <td>-2,475</td>\n",
       "      <td>-43.83%</td>\n",
       "    </tr>\n",
       "    <tr>\n",
       "      <th>Capitol Hill</th>\n",
       "      <td>7,016</td>\n",
       "      <td>12,670</td>\n",
       "      <td>5,654</td>\n",
       "      <td>80.58%</td>\n",
       "    </tr>\n",
       "    <tr>\n",
       "      <th>Stadium</th>\n",
       "      <td>1,912</td>\n",
       "      <td>897</td>\n",
       "      <td>-1,015</td>\n",
       "      <td>-53.10%</td>\n",
       "    </tr>\n",
       "    <tr>\n",
       "      <th>SODO</th>\n",
       "      <td>2,108</td>\n",
       "      <td>4,705</td>\n",
       "      <td>2,597</td>\n",
       "      <td>123.24%</td>\n",
       "    </tr>\n",
       "    <tr>\n",
       "      <th>Beacon Hill</th>\n",
       "      <td>2,587</td>\n",
       "      <td>1,994</td>\n",
       "      <td>-594</td>\n",
       "      <td>-22.95%</td>\n",
       "    </tr>\n",
       "    <tr>\n",
       "      <th>Mount Baker</th>\n",
       "      <td>2,222</td>\n",
       "      <td>2,053</td>\n",
       "      <td>-169</td>\n",
       "      <td>-7.59%</td>\n",
       "    </tr>\n",
       "    <tr>\n",
       "      <th>Columbia City</th>\n",
       "      <td>2,376</td>\n",
       "      <td>2,212</td>\n",
       "      <td>-164</td>\n",
       "      <td>-6.91%</td>\n",
       "    </tr>\n",
       "    <tr>\n",
       "      <th>Othello</th>\n",
       "      <td>2,386</td>\n",
       "      <td>2,467</td>\n",
       "      <td>81</td>\n",
       "      <td>3.38%</td>\n",
       "    </tr>\n",
       "    <tr>\n",
       "      <th>Rainier Beach</th>\n",
       "      <td>2,026</td>\n",
       "      <td>2,174</td>\n",
       "      <td>147</td>\n",
       "      <td>7.28%</td>\n",
       "    </tr>\n",
       "    <tr>\n",
       "      <th>Tukwila Int'l Blvd</th>\n",
       "      <td>2,779</td>\n",
       "      <td>2,872</td>\n",
       "      <td>93</td>\n",
       "      <td>3.35%</td>\n",
       "    </tr>\n",
       "    <tr>\n",
       "      <th>SeaTac/Airport</th>\n",
       "      <td>5,399</td>\n",
       "      <td>6,432</td>\n",
       "      <td>1,033</td>\n",
       "      <td>19.13%</td>\n",
       "    </tr>\n",
       "    <tr>\n",
       "      <th>Angle Lake</th>\n",
       "      <td>3,552</td>\n",
       "      <td>4,150</td>\n",
       "      <td>599</td>\n",
       "      <td>16.85%</td>\n",
       "    </tr>\n",
       "    <tr>\n",
       "      <th>Total</th>\n",
       "      <td>69,453</td>\n",
       "      <td>91,571</td>\n",
       "      <td>22,118</td>\n",
       "      <td>31.85%</td>\n",
       "    </tr>\n",
       "  </tbody>\n",
       "</table>\n",
       "</div>"
      ],
      "text/plain": [
       "                    observed_5to20  modeled_5to20   diff percent_diff\n",
       "station_name                                                         \n",
       "Husky Stadium                9,416          5,770 -3,645      -38.72%\n",
       "Westlake                    10,904         18,433  7,529       69.05%\n",
       "University St                5,257         12,395  7,138      135.78%\n",
       "Pioneer Square               3,865          9,175  5,310      137.39%\n",
       "Int'l District               5,647          3,172 -2,475      -43.83%\n",
       "Capitol Hill                 7,016         12,670  5,654       80.58%\n",
       "Stadium                      1,912            897 -1,015      -53.10%\n",
       "SODO                         2,108          4,705  2,597      123.24%\n",
       "Beacon Hill                  2,587          1,994   -594      -22.95%\n",
       "Mount Baker                  2,222          2,053   -169       -7.59%\n",
       "Columbia City                2,376          2,212   -164       -6.91%\n",
       "Othello                      2,386          2,467     81        3.38%\n",
       "Rainier Beach                2,026          2,174    147        7.28%\n",
       "Tukwila Int'l Blvd           2,779          2,872     93        3.35%\n",
       "SeaTac/Airport               5,399          6,432  1,033       19.13%\n",
       "Angle Lake                   3,552          4,150    599       16.85%\n",
       "Total                       69,453         91,571 22,118       31.85%"
      ]
     },
     "execution_count": 23,
     "metadata": {},
     "output_type": "execute_result"
    }
   ],
   "source": [
    "df = pd.read_csv(os.path.join(relative_path,'validation/') + 'light_rail_boardings.csv', index_col='station_name')\n",
    "df['diff'] = df['modeled_5to20']-df['observed_5to20']\n",
    "df['percent_diff'] = df['diff']/df['observed_5to20']\n",
    "df[['percent_diff']] = df[['percent_diff']].applymap(format_percent)\n",
    "df"
   ]
  },
  {
   "cell_type": "markdown",
   "metadata": {},
   "source": [
    "Sound Transit Station Groupings"
   ]
  },
  {
   "cell_type": "code",
   "execution_count": 24,
   "metadata": {
    "execution": {
     "iopub.execute_input": "2024-04-03T21:14:19.907162Z",
     "iopub.status.busy": "2024-04-03T21:14:19.906098Z",
     "iopub.status.idle": "2024-04-03T21:14:19.966531Z",
     "shell.execute_reply": "2024-04-03T21:14:19.966531Z"
    }
   },
   "outputs": [
    {
     "data": {
      "text/html": [
       "<div>\n",
       "<style scoped>\n",
       "    .dataframe tbody tr th:only-of-type {\n",
       "        vertical-align: middle;\n",
       "    }\n",
       "\n",
       "    .dataframe tbody tr th {\n",
       "        vertical-align: top;\n",
       "    }\n",
       "\n",
       "    .dataframe thead th {\n",
       "        text-align: right;\n",
       "    }\n",
       "</style>\n",
       "<table border=\"1\" class=\"dataframe\">\n",
       "  <thead>\n",
       "    <tr style=\"text-align: right;\">\n",
       "      <th></th>\n",
       "      <th>observed_5to20</th>\n",
       "      <th>modeled_5to20</th>\n",
       "      <th>diff</th>\n",
       "      <th>percent_diff</th>\n",
       "    </tr>\n",
       "    <tr>\n",
       "      <th>station_group</th>\n",
       "      <th></th>\n",
       "      <th></th>\n",
       "      <th></th>\n",
       "      <th></th>\n",
       "    </tr>\n",
       "  </thead>\n",
       "  <tbody>\n",
       "    <tr>\n",
       "      <th>Husky Stadium</th>\n",
       "      <td>9,416</td>\n",
       "      <td>5,770</td>\n",
       "      <td>-3,645</td>\n",
       "      <td>-38.72%</td>\n",
       "    </tr>\n",
       "    <tr>\n",
       "      <th>Capitol Hill</th>\n",
       "      <td>7,016</td>\n",
       "      <td>12,670</td>\n",
       "      <td>5,654</td>\n",
       "      <td>80.58%</td>\n",
       "    </tr>\n",
       "    <tr>\n",
       "      <th>Westlake/University St</th>\n",
       "      <td>16,161</td>\n",
       "      <td>30,828</td>\n",
       "      <td>14,667</td>\n",
       "      <td>90.76%</td>\n",
       "    </tr>\n",
       "    <tr>\n",
       "      <th>Pioneer Square/Int'l District</th>\n",
       "      <td>9,512</td>\n",
       "      <td>12,347</td>\n",
       "      <td>2,835</td>\n",
       "      <td>29.80%</td>\n",
       "    </tr>\n",
       "    <tr>\n",
       "      <th>Stadium/SODO</th>\n",
       "      <td>4,020</td>\n",
       "      <td>5,602</td>\n",
       "      <td>1,582</td>\n",
       "      <td>39.35%</td>\n",
       "    </tr>\n",
       "    <tr>\n",
       "      <th>Beacon Hill/Mount Baker</th>\n",
       "      <td>4,809</td>\n",
       "      <td>4,047</td>\n",
       "      <td>-763</td>\n",
       "      <td>-15.86%</td>\n",
       "    </tr>\n",
       "    <tr>\n",
       "      <th>Columbia City</th>\n",
       "      <td>2,376</td>\n",
       "      <td>2,212</td>\n",
       "      <td>-164</td>\n",
       "      <td>-6.91%</td>\n",
       "    </tr>\n",
       "    <tr>\n",
       "      <th>Othello/Rainier Beach</th>\n",
       "      <td>4,412</td>\n",
       "      <td>4,640</td>\n",
       "      <td>228</td>\n",
       "      <td>5.17%</td>\n",
       "    </tr>\n",
       "    <tr>\n",
       "      <th>Tukwila Int'l Blvd</th>\n",
       "      <td>2,779</td>\n",
       "      <td>2,872</td>\n",
       "      <td>93</td>\n",
       "      <td>3.35%</td>\n",
       "    </tr>\n",
       "    <tr>\n",
       "      <th>SeaTac/Airport</th>\n",
       "      <td>5,399</td>\n",
       "      <td>6,432</td>\n",
       "      <td>1,033</td>\n",
       "      <td>19.13%</td>\n",
       "    </tr>\n",
       "    <tr>\n",
       "      <th>Angle Lake</th>\n",
       "      <td>3,552</td>\n",
       "      <td>4,150</td>\n",
       "      <td>599</td>\n",
       "      <td>16.85%</td>\n",
       "    </tr>\n",
       "  </tbody>\n",
       "</table>\n",
       "</div>"
      ],
      "text/plain": [
       "                               observed_5to20  modeled_5to20   diff  \\\n",
       "station_group                                                         \n",
       "Husky Stadium                           9,416          5,770 -3,645   \n",
       "Capitol Hill                            7,016         12,670  5,654   \n",
       "Westlake/University St                 16,161         30,828 14,667   \n",
       "Pioneer Square/Int'l District           9,512         12,347  2,835   \n",
       "Stadium/SODO                            4,020          5,602  1,582   \n",
       "Beacon Hill/Mount Baker                 4,809          4,047   -763   \n",
       "Columbia City                           2,376          2,212   -164   \n",
       "Othello/Rainier Beach                   4,412          4,640    228   \n",
       "Tukwila Int'l Blvd                      2,779          2,872     93   \n",
       "SeaTac/Airport                          5,399          6,432  1,033   \n",
       "Angle Lake                              3,552          4,150    599   \n",
       "\n",
       "                              percent_diff  \n",
       "station_group                               \n",
       "Husky Stadium                      -38.72%  \n",
       "Capitol Hill                        80.58%  \n",
       "Westlake/University St              90.76%  \n",
       "Pioneer Square/Int'l District       29.80%  \n",
       "Stadium/SODO                        39.35%  \n",
       "Beacon Hill/Mount Baker            -15.86%  \n",
       "Columbia City                       -6.91%  \n",
       "Othello/Rainier Beach                5.17%  \n",
       "Tukwila Int'l Blvd                   3.35%  \n",
       "SeaTac/Airport                      19.13%  \n",
       "Angle Lake                          16.85%  "
      ]
     },
     "execution_count": 24,
     "metadata": {},
     "output_type": "execute_result"
    }
   ],
   "source": [
    "df_combined = df.copy()\n",
    "\n",
    "df_combined['station_group'] = df.index\n",
    "df_combined.loc[['Westlake'],'station_group'] = 'Westlake/University St'\n",
    "df_combined.loc[['University St'],'station_group'] = 'Westlake/University St'\n",
    "\n",
    "df_combined.loc[['Pioneer Square'],'station_group'] = \"Pioneer Square/Int'l District\"\n",
    "df_combined.loc[[\"Int'l District\"],'station_group'] = \"Pioneer Square/Int'l District\"\n",
    "\n",
    "df_combined.loc[['Stadium'],'station_group'] = 'Stadium/SODO'\n",
    "df_combined.loc[['SODO'],'station_group'] = 'Stadium/SODO'\n",
    "\n",
    "df_combined.loc[['Beacon Hill'],'station_group'] = 'Beacon Hill/Mount Baker'\n",
    "df_combined.loc[['Mount Baker'],'station_group'] = 'Beacon Hill/Mount Baker'\n",
    "\n",
    "df_combined.loc[['Othello'],'station_group'] = 'Othello/Rainier Beach'\n",
    "df_combined.loc[['Rainier Beach'],'station_group'] = 'Othello/Rainier Beach'\n",
    "\n",
    "df_combined = df_combined.groupby('station_group').sum()[['observed_5to20','modeled_5to20']]\n",
    "df_combined['diff'] = df_combined['modeled_5to20']-df_combined['observed_5to20']\n",
    "df_combined['percent_diff'] = df_combined['diff']/df_combined['observed_5to20']\n",
    "df_combined[['percent_diff']] = df_combined[['percent_diff']].applymap(format_percent)\n",
    "\n",
    "df_combined.loc[['Husky Stadium','Capitol Hill','Westlake/University St',\"Pioneer Square/Int'l District\",\n",
    "                 'Stadium/SODO','Beacon Hill/Mount Baker','Columbia City','Othello/Rainier Beach',\n",
    "                \"Tukwila Int'l Blvd\",'SeaTac/Airport','Angle Lake']]"
   ]
  },
  {
   "cell_type": "markdown",
   "metadata": {},
   "source": [
    "# Stop Transfers\n",
    "\n",
    "### Light Rail"
   ]
  },
  {
   "cell_type": "code",
   "execution_count": 25,
   "metadata": {
    "execution": {
     "iopub.execute_input": "2024-04-03T21:14:19.966531Z",
     "iopub.status.busy": "2024-04-03T21:14:19.966531Z",
     "iopub.status.idle": "2024-04-03T21:14:20.013469Z",
     "shell.execute_reply": "2024-04-03T21:14:20.013469Z"
    }
   },
   "outputs": [
    {
     "data": {
      "text/html": [
       "<div>\n",
       "<style scoped>\n",
       "    .dataframe tbody tr th:only-of-type {\n",
       "        vertical-align: middle;\n",
       "    }\n",
       "\n",
       "    .dataframe tbody tr th {\n",
       "        vertical-align: top;\n",
       "    }\n",
       "\n",
       "    .dataframe thead th {\n",
       "        text-align: right;\n",
       "    }\n",
       "</style>\n",
       "<table border=\"1\" class=\"dataframe\">\n",
       "  <thead>\n",
       "    <tr style=\"text-align: right;\">\n",
       "      <th></th>\n",
       "      <th>modeled_transfer_rate</th>\n",
       "      <th>observed_transfer_rate</th>\n",
       "      <th>diff</th>\n",
       "      <th>percent_diff</th>\n",
       "    </tr>\n",
       "    <tr>\n",
       "      <th>station_name</th>\n",
       "      <th></th>\n",
       "      <th></th>\n",
       "      <th></th>\n",
       "      <th></th>\n",
       "    </tr>\n",
       "  </thead>\n",
       "  <tbody>\n",
       "    <tr>\n",
       "      <th>Husky Stadium</th>\n",
       "      <td>0.82</td>\n",
       "      <td>-99.00</td>\n",
       "      <td>99.82</td>\n",
       "      <td>-100.83%</td>\n",
       "    </tr>\n",
       "    <tr>\n",
       "      <th>Westlake</th>\n",
       "      <td>0.17</td>\n",
       "      <td>0.36</td>\n",
       "      <td>-0.19</td>\n",
       "      <td>-52.71%</td>\n",
       "    </tr>\n",
       "    <tr>\n",
       "      <th>University St</th>\n",
       "      <td>0.30</td>\n",
       "      <td>0.20</td>\n",
       "      <td>0.10</td>\n",
       "      <td>50.55%</td>\n",
       "    </tr>\n",
       "    <tr>\n",
       "      <th>Pioneer Square</th>\n",
       "      <td>0.36</td>\n",
       "      <td>0.16</td>\n",
       "      <td>0.20</td>\n",
       "      <td>124.60%</td>\n",
       "    </tr>\n",
       "    <tr>\n",
       "      <th>Int'l District</th>\n",
       "      <td>0.57</td>\n",
       "      <td>0.45</td>\n",
       "      <td>0.12</td>\n",
       "      <td>26.12%</td>\n",
       "    </tr>\n",
       "    <tr>\n",
       "      <th>Capitol Hill</th>\n",
       "      <td>0.07</td>\n",
       "      <td>-99.00</td>\n",
       "      <td>99.07</td>\n",
       "      <td>-100.07%</td>\n",
       "    </tr>\n",
       "    <tr>\n",
       "      <th>Stadium</th>\n",
       "      <td>0.25</td>\n",
       "      <td>0.12</td>\n",
       "      <td>0.13</td>\n",
       "      <td>106.82%</td>\n",
       "    </tr>\n",
       "    <tr>\n",
       "      <th>SODO</th>\n",
       "      <td>0.56</td>\n",
       "      <td>0.31</td>\n",
       "      <td>0.24</td>\n",
       "      <td>77.63%</td>\n",
       "    </tr>\n",
       "    <tr>\n",
       "      <th>Beacon Hill</th>\n",
       "      <td>0.30</td>\n",
       "      <td>0.35</td>\n",
       "      <td>-0.05</td>\n",
       "      <td>-14.90%</td>\n",
       "    </tr>\n",
       "    <tr>\n",
       "      <th>Mount Baker</th>\n",
       "      <td>0.36</td>\n",
       "      <td>0.32</td>\n",
       "      <td>0.04</td>\n",
       "      <td>11.55%</td>\n",
       "    </tr>\n",
       "    <tr>\n",
       "      <th>Columbia City</th>\n",
       "      <td>0.01</td>\n",
       "      <td>0.12</td>\n",
       "      <td>-0.11</td>\n",
       "      <td>-91.88%</td>\n",
       "    </tr>\n",
       "    <tr>\n",
       "      <th>Othello</th>\n",
       "      <td>0.05</td>\n",
       "      <td>0.12</td>\n",
       "      <td>-0.08</td>\n",
       "      <td>-62.98%</td>\n",
       "    </tr>\n",
       "    <tr>\n",
       "      <th>Rainier Beach</th>\n",
       "      <td>0.34</td>\n",
       "      <td>0.36</td>\n",
       "      <td>-0.02</td>\n",
       "      <td>-5.04%</td>\n",
       "    </tr>\n",
       "    <tr>\n",
       "      <th>Tukwila Int'l Blvd</th>\n",
       "      <td>0.49</td>\n",
       "      <td>0.26</td>\n",
       "      <td>0.23</td>\n",
       "      <td>86.28%</td>\n",
       "    </tr>\n",
       "    <tr>\n",
       "      <th>SeaTac/Airport</th>\n",
       "      <td>0.21</td>\n",
       "      <td>0.26</td>\n",
       "      <td>-0.06</td>\n",
       "      <td>-21.61%</td>\n",
       "    </tr>\n",
       "    <tr>\n",
       "      <th>Angle Lake</th>\n",
       "      <td>0.36</td>\n",
       "      <td>-99.00</td>\n",
       "      <td>99.36</td>\n",
       "      <td>-100.36%</td>\n",
       "    </tr>\n",
       "  </tbody>\n",
       "</table>\n",
       "</div>"
      ],
      "text/plain": [
       "                    modeled_transfer_rate  observed_transfer_rate  diff  \\\n",
       "station_name                                                              \n",
       "Husky Stadium                        0.82                  -99.00 99.82   \n",
       "Westlake                             0.17                    0.36 -0.19   \n",
       "University St                        0.30                    0.20  0.10   \n",
       "Pioneer Square                       0.36                    0.16  0.20   \n",
       "Int'l District                       0.57                    0.45  0.12   \n",
       "Capitol Hill                         0.07                  -99.00 99.07   \n",
       "Stadium                              0.25                    0.12  0.13   \n",
       "SODO                                 0.56                    0.31  0.24   \n",
       "Beacon Hill                          0.30                    0.35 -0.05   \n",
       "Mount Baker                          0.36                    0.32  0.04   \n",
       "Columbia City                        0.01                    0.12 -0.11   \n",
       "Othello                              0.05                    0.12 -0.08   \n",
       "Rainier Beach                        0.34                    0.36 -0.02   \n",
       "Tukwila Int'l Blvd                   0.49                    0.26  0.23   \n",
       "SeaTac/Airport                       0.21                    0.26 -0.06   \n",
       "Angle Lake                           0.36                  -99.00 99.36   \n",
       "\n",
       "                   percent_diff  \n",
       "station_name                     \n",
       "Husky Stadium          -100.83%  \n",
       "Westlake                -52.71%  \n",
       "University St            50.55%  \n",
       "Pioneer Square          124.60%  \n",
       "Int'l District           26.12%  \n",
       "Capitol Hill           -100.07%  \n",
       "Stadium                 106.82%  \n",
       "SODO                     77.63%  \n",
       "Beacon Hill             -14.90%  \n",
       "Mount Baker              11.55%  \n",
       "Columbia City           -91.88%  \n",
       "Othello                 -62.98%  \n",
       "Rainier Beach            -5.04%  \n",
       "Tukwila Int'l Blvd       86.28%  \n",
       "SeaTac/Airport          -21.61%  \n",
       "Angle Lake             -100.36%  "
      ]
     },
     "execution_count": 25,
     "metadata": {},
     "output_type": "execute_result"
    }
   ],
   "source": [
    "df = pd.read_csv(os.path.join(relative_path,'validation/') + 'light_rail_transfers.csv', index_col='station_name')\n",
    "pd.options.display.float_format = '{:0,.2f}'.format\n",
    "df[['percent_diff']] = df[['percent_diff']].applymap(format_percent)\n",
    "df"
   ]
  },
  {
   "cell_type": "markdown",
   "metadata": {},
   "source": [
    "# Externals"
   ]
  },
  {
   "cell_type": "code",
   "execution_count": 26,
   "metadata": {
    "execution": {
     "iopub.execute_input": "2024-04-03T21:14:20.013469Z",
     "iopub.status.busy": "2024-04-03T21:14:20.013469Z",
     "iopub.status.idle": "2024-04-03T21:14:20.075904Z",
     "shell.execute_reply": "2024-04-03T21:14:20.075904Z"
    }
   },
   "outputs": [
    {
     "data": {
      "text/html": [
       "<div>\n",
       "<style scoped>\n",
       "    .dataframe tbody tr th:only-of-type {\n",
       "        vertical-align: middle;\n",
       "    }\n",
       "\n",
       "    .dataframe tbody tr th {\n",
       "        vertical-align: top;\n",
       "    }\n",
       "\n",
       "    .dataframe thead th {\n",
       "        text-align: right;\n",
       "    }\n",
       "</style>\n",
       "<table border=\"1\" class=\"dataframe\">\n",
       "  <thead>\n",
       "    <tr style=\"text-align: right;\">\n",
       "      <th></th>\n",
       "      <th>external_station</th>\n",
       "      <th>county</th>\n",
       "      <th>observed</th>\n",
       "      <th>modeled</th>\n",
       "      <th>diff</th>\n",
       "      <th>percent_diff</th>\n",
       "    </tr>\n",
       "    <tr>\n",
       "      <th>location</th>\n",
       "      <th></th>\n",
       "      <th></th>\n",
       "      <th></th>\n",
       "      <th></th>\n",
       "      <th></th>\n",
       "      <th></th>\n",
       "    </tr>\n",
       "  </thead>\n",
       "  <tbody>\n",
       "    <tr>\n",
       "      <th>I-5 to Olympia</th>\n",
       "      <td>3733</td>\n",
       "      <td>Pierce</td>\n",
       "      <td>130,000</td>\n",
       "      <td>123,948</td>\n",
       "      <td>-6,052</td>\n",
       "      <td>-4.66%</td>\n",
       "    </tr>\n",
       "    <tr>\n",
       "      <th>I-5 to Mount Vernon</th>\n",
       "      <td>3744</td>\n",
       "      <td>Snohomish</td>\n",
       "      <td>67,000</td>\n",
       "      <td>56,440</td>\n",
       "      <td>-10,560</td>\n",
       "      <td>-15.76%</td>\n",
       "    </tr>\n",
       "    <tr>\n",
       "      <th>I-90 @ Snoqualmie Pass</th>\n",
       "      <td>3739</td>\n",
       "      <td>King</td>\n",
       "      <td>33,000</td>\n",
       "      <td>28,917</td>\n",
       "      <td>-4,083</td>\n",
       "      <td>-12.37%</td>\n",
       "    </tr>\n",
       "    <tr>\n",
       "      <th>SR-507 to Yelm</th>\n",
       "      <td>3734</td>\n",
       "      <td>Pierce</td>\n",
       "      <td>23,000</td>\n",
       "      <td>19,390</td>\n",
       "      <td>-3,610</td>\n",
       "      <td>-15.70%</td>\n",
       "    </tr>\n",
       "    <tr>\n",
       "      <th>SR-532 to Camano Island</th>\n",
       "      <td>3746</td>\n",
       "      <td>Snohomish</td>\n",
       "      <td>23,000</td>\n",
       "      <td>19,930</td>\n",
       "      <td>-3,070</td>\n",
       "      <td>-13.35%</td>\n",
       "    </tr>\n",
       "    <tr>\n",
       "      <th>Hood Canal Bridge</th>\n",
       "      <td>3748</td>\n",
       "      <td>Kitsap</td>\n",
       "      <td>18,000</td>\n",
       "      <td>16,247</td>\n",
       "      <td>-1,753</td>\n",
       "      <td>-9.74%</td>\n",
       "    </tr>\n",
       "    <tr>\n",
       "      <th>SR-3 to Belfair</th>\n",
       "      <td>3749</td>\n",
       "      <td>Kitsap</td>\n",
       "      <td>18,000</td>\n",
       "      <td>16,061</td>\n",
       "      <td>-1,939</td>\n",
       "      <td>-10.77%</td>\n",
       "    </tr>\n",
       "    <tr>\n",
       "      <th>SR-530 N/O Stanwood</th>\n",
       "      <td>3745</td>\n",
       "      <td>Snohomish</td>\n",
       "      <td>9,100</td>\n",
       "      <td>8,288</td>\n",
       "      <td>-812</td>\n",
       "      <td>-8.92%</td>\n",
       "    </tr>\n",
       "    <tr>\n",
       "      <th>SR-2 @ Stevens Pass</th>\n",
       "      <td>3740</td>\n",
       "      <td>King</td>\n",
       "      <td>5,600</td>\n",
       "      <td>3,086</td>\n",
       "      <td>-2,514</td>\n",
       "      <td>-44.90%</td>\n",
       "    </tr>\n",
       "    <tr>\n",
       "      <th>SR-302 to Shelton</th>\n",
       "      <td>3750</td>\n",
       "      <td>Pierce</td>\n",
       "      <td>4,100</td>\n",
       "      <td>4,146</td>\n",
       "      <td>46</td>\n",
       "      <td>1.13%</td>\n",
       "    </tr>\n",
       "    <tr>\n",
       "      <th>SR-7 to Morton</th>\n",
       "      <td>3735</td>\n",
       "      <td>Pierce</td>\n",
       "      <td>2,700</td>\n",
       "      <td>2,103</td>\n",
       "      <td>-597</td>\n",
       "      <td>-22.12%</td>\n",
       "    </tr>\n",
       "    <tr>\n",
       "      <th>SR-706 to Longmire</th>\n",
       "      <td>3736</td>\n",
       "      <td>Pierce</td>\n",
       "      <td>1,800</td>\n",
       "      <td>1,902</td>\n",
       "      <td>102</td>\n",
       "      <td>5.67%</td>\n",
       "    </tr>\n",
       "    <tr>\n",
       "      <th>SR-530 N/O Darrington</th>\n",
       "      <td>3742</td>\n",
       "      <td>Snohomish</td>\n",
       "      <td>1,600</td>\n",
       "      <td>1,135</td>\n",
       "      <td>-465</td>\n",
       "      <td>-29.06%</td>\n",
       "    </tr>\n",
       "    <tr>\n",
       "      <th>SR-9 N/O Arlington</th>\n",
       "      <td>3743</td>\n",
       "      <td>Snohomish</td>\n",
       "      <td>1,400</td>\n",
       "      <td>1,865</td>\n",
       "      <td>465</td>\n",
       "      <td>33.23%</td>\n",
       "    </tr>\n",
       "    <tr>\n",
       "      <th>SR-123 S/O Cayuse Pass</th>\n",
       "      <td>3737</td>\n",
       "      <td>Pierce</td>\n",
       "      <td>1,100</td>\n",
       "      <td>522</td>\n",
       "      <td>-578</td>\n",
       "      <td>-52.53%</td>\n",
       "    </tr>\n",
       "    <tr>\n",
       "      <th>SR 410 E/O Cayuse Pass</th>\n",
       "      <td>3738</td>\n",
       "      <td>Pierce</td>\n",
       "      <td>960</td>\n",
       "      <td>555</td>\n",
       "      <td>-405</td>\n",
       "      <td>-42.14%</td>\n",
       "    </tr>\n",
       "    <tr>\n",
       "      <th>Total</th>\n",
       "      <td></td>\n",
       "      <td>NaN</td>\n",
       "      <td>340,360</td>\n",
       "      <td>304,535</td>\n",
       "      <td>-35,825</td>\n",
       "      <td>-10.53%</td>\n",
       "    </tr>\n",
       "  </tbody>\n",
       "</table>\n",
       "</div>"
      ],
      "text/plain": [
       "                        external_station     county  observed  modeled  \\\n",
       "location                                                                 \n",
       "I-5 to Olympia                      3733     Pierce   130,000  123,948   \n",
       "I-5 to Mount Vernon                 3744  Snohomish    67,000   56,440   \n",
       "I-90 @ Snoqualmie Pass              3739       King    33,000   28,917   \n",
       "SR-507 to Yelm                      3734     Pierce    23,000   19,390   \n",
       "SR-532 to Camano Island             3746  Snohomish    23,000   19,930   \n",
       "Hood Canal Bridge                   3748     Kitsap    18,000   16,247   \n",
       "SR-3 to Belfair                     3749     Kitsap    18,000   16,061   \n",
       "SR-530 N/O Stanwood                 3745  Snohomish     9,100    8,288   \n",
       "SR-2 @ Stevens Pass                 3740       King     5,600    3,086   \n",
       "SR-302 to Shelton                   3750     Pierce     4,100    4,146   \n",
       "SR-7 to Morton                      3735     Pierce     2,700    2,103   \n",
       "SR-706 to Longmire                  3736     Pierce     1,800    1,902   \n",
       "SR-530 N/O Darrington               3742  Snohomish     1,600    1,135   \n",
       "SR-9 N/O Arlington                  3743  Snohomish     1,400    1,865   \n",
       "SR-123 S/O Cayuse Pass              3737     Pierce     1,100      522   \n",
       "SR 410 E/O Cayuse Pass              3738     Pierce       960      555   \n",
       "Total                                           NaN   340,360  304,535   \n",
       "\n",
       "                           diff percent_diff  \n",
       "location                                      \n",
       "I-5 to Olympia           -6,052       -4.66%  \n",
       "I-5 to Mount Vernon     -10,560      -15.76%  \n",
       "I-90 @ Snoqualmie Pass   -4,083      -12.37%  \n",
       "SR-507 to Yelm           -3,610      -15.70%  \n",
       "SR-532 to Camano Island  -3,070      -13.35%  \n",
       "Hood Canal Bridge        -1,753       -9.74%  \n",
       "SR-3 to Belfair          -1,939      -10.77%  \n",
       "SR-530 N/O Stanwood        -812       -8.92%  \n",
       "SR-2 @ Stevens Pass      -2,514      -44.90%  \n",
       "SR-302 to Shelton            46        1.13%  \n",
       "SR-7 to Morton             -597      -22.12%  \n",
       "SR-706 to Longmire          102        5.67%  \n",
       "SR-530 N/O Darrington      -465      -29.06%  \n",
       "SR-9 N/O Arlington          465       33.23%  \n",
       "SR-123 S/O Cayuse Pass     -578      -52.53%  \n",
       "SR 410 E/O Cayuse Pass     -405      -42.14%  \n",
       "Total                   -35,825      -10.53%  "
      ]
     },
     "execution_count": 26,
     "metadata": {},
     "output_type": "execute_result"
    }
   ],
   "source": [
    "df = pd.read_csv(os.path.join(relative_path,'validation/') + 'external_volumes.csv', index_col='location')\n",
    "pd.options.display.float_format = '{:0,.0f}'.format\n",
    "df = df.drop('diff', axis=1)\n",
    "df['diff'] = df['modeled']-df['observed']\n",
    "df = df.fillna(0)\n",
    "df.loc['Total',['observed','modeled','diff']] = df[['observed','modeled','diff']].sum()\n",
    "df['percent_diff'] = df['diff']/df['observed']\n",
    "df[['percent_diff']] = df[['percent_diff']].applymap(format_percent)\n",
    "\n",
    "df[['external_station']] = df[['external_station']].applymap('{:0.0f}'.format)\n",
    "df.replace('nan', '', regex=True)"
   ]
  },
  {
   "cell_type": "markdown",
   "metadata": {},
   "source": [
    "# Corridor Speed"
   ]
  },
  {
   "cell_type": "code",
   "execution_count": 27,
   "metadata": {
    "execution": {
     "iopub.execute_input": "2024-04-03T21:14:20.075904Z",
     "iopub.status.busy": "2024-04-03T21:14:20.075904Z",
     "iopub.status.idle": "2024-04-03T21:14:20.247389Z",
     "shell.execute_reply": "2024-04-03T21:14:20.247389Z"
    }
   },
   "outputs": [
    {
     "data": {
      "text/plain": [
       "<AxesSubplot:xlabel='observed_speed', ylabel='model_speed'>"
      ]
     },
     "execution_count": 27,
     "metadata": {},
     "output_type": "execute_result"
    },
    {
     "data": {
      "image/png": "[encoded data removed]",
      "text/plain": [
       "<Figure size 432x288 with 1 Axes>"
      ]
     },
     "metadata": {
      "needs_background": "light"
     },
     "output_type": "display_data"
    }
   ],
   "source": [
    "df = pd.read_csv(os.path.join(relative_path,'validation/') + 'corridor_speeds.csv')\n",
    "df.plot(kind='scatter', y='model_speed', x='observed_speed')"
   ]
  },
  {
   "cell_type": "markdown",
   "metadata": {},
   "source": [
    "### AM Peak, Primary Corridors"
   ]
  },
  {
   "cell_type": "code",
   "execution_count": 28,
   "metadata": {
    "execution": {
     "iopub.execute_input": "2024-04-03T21:14:20.247389Z",
     "iopub.status.busy": "2024-04-03T21:14:20.247389Z",
     "iopub.status.idle": "2024-04-03T21:14:20.434846Z",
     "shell.execute_reply": "2024-04-03T21:14:20.434846Z"
    }
   },
   "outputs": [
    {
     "data": {
      "text/plain": [
       "<AxesSubplot:xlabel='observed_speed', ylabel='model_speed'>"
      ]
     },
     "execution_count": 28,
     "metadata": {},
     "output_type": "execute_result"
    },
    {
     "data": {
      "image/png": "[encoded data removed]",
      "text/plain": [
       "<Figure size 432x288 with 1 Axes>"
      ]
     },
     "metadata": {
      "needs_background": "light"
     },
     "output_type": "display_data"
    }
   ],
   "source": [
    "df[df['tod'] == '7to8'].plot(kind='scatter', x='observed_speed', y='model_speed')"
   ]
  },
  {
   "cell_type": "code",
   "execution_count": 29,
   "metadata": {
    "execution": {
     "iopub.execute_input": "2024-04-03T21:14:20.434846Z",
     "iopub.status.busy": "2024-04-03T21:14:20.434846Z",
     "iopub.status.idle": "2024-04-03T21:14:20.466088Z",
     "shell.execute_reply": "2024-04-03T21:14:20.466088Z"
    }
   },
   "outputs": [
    {
     "data": {
      "text/html": [
       "<div>\n",
       "<style scoped>\n",
       "    .dataframe tbody tr th:only-of-type {\n",
       "        vertical-align: middle;\n",
       "    }\n",
       "\n",
       "    .dataframe tbody tr th {\n",
       "        vertical-align: top;\n",
       "    }\n",
       "\n",
       "    .dataframe thead th {\n",
       "        text-align: right;\n",
       "    }\n",
       "</style>\n",
       "<table border=\"1\" class=\"dataframe\">\n",
       "  <thead>\n",
       "    <tr style=\"text-align: right;\">\n",
       "      <th></th>\n",
       "      <th>Corridor_Description</th>\n",
       "      <th>model_speed</th>\n",
       "      <th>observed_speed</th>\n",
       "    </tr>\n",
       "  </thead>\n",
       "  <tbody>\n",
       "    <tr>\n",
       "      <th>6</th>\n",
       "      <td>Seattle to Everett - NB</td>\n",
       "      <td>45</td>\n",
       "      <td>58</td>\n",
       "    </tr>\n",
       "    <tr>\n",
       "      <th>15</th>\n",
       "      <td>Everett to Seattle - SB</td>\n",
       "      <td>27</td>\n",
       "      <td>27</td>\n",
       "    </tr>\n",
       "    <tr>\n",
       "      <th>24</th>\n",
       "      <td>Tacoma to Seattle - NB</td>\n",
       "      <td>29</td>\n",
       "      <td>24</td>\n",
       "    </tr>\n",
       "    <tr>\n",
       "      <th>33</th>\n",
       "      <td>Seattle to Tacoma - SB</td>\n",
       "      <td>44</td>\n",
       "      <td>58</td>\n",
       "    </tr>\n",
       "    <tr>\n",
       "      <th>42</th>\n",
       "      <td>Bellevue to Lynnwood - NB</td>\n",
       "      <td>48</td>\n",
       "      <td>57</td>\n",
       "    </tr>\n",
       "    <tr>\n",
       "      <th>51</th>\n",
       "      <td>Lynnwood to Bellevue - SB</td>\n",
       "      <td>25</td>\n",
       "      <td>22</td>\n",
       "    </tr>\n",
       "    <tr>\n",
       "      <th>60</th>\n",
       "      <td>Tukwila to Bellevue - NB</td>\n",
       "      <td>27</td>\n",
       "      <td>20</td>\n",
       "    </tr>\n",
       "    <tr>\n",
       "      <th>69</th>\n",
       "      <td>Bellevue to Tukwila - SB</td>\n",
       "      <td>29</td>\n",
       "      <td>43</td>\n",
       "    </tr>\n",
       "    <tr>\n",
       "      <th>78</th>\n",
       "      <td>Auburn to Renton - NB</td>\n",
       "      <td>31</td>\n",
       "      <td>22</td>\n",
       "    </tr>\n",
       "    <tr>\n",
       "      <th>87</th>\n",
       "      <td>Renton to Auburn - SB</td>\n",
       "      <td>49</td>\n",
       "      <td>55</td>\n",
       "    </tr>\n",
       "    <tr>\n",
       "      <th>96</th>\n",
       "      <td>Redmond to Seattle - WB</td>\n",
       "      <td>28</td>\n",
       "      <td>40</td>\n",
       "    </tr>\n",
       "    <tr>\n",
       "      <th>105</th>\n",
       "      <td>Seattle to Redmond - EB</td>\n",
       "      <td>32</td>\n",
       "      <td>53</td>\n",
       "    </tr>\n",
       "    <tr>\n",
       "      <th>114</th>\n",
       "      <td>Redmond to Bellevue - WB</td>\n",
       "      <td>35</td>\n",
       "      <td>46</td>\n",
       "    </tr>\n",
       "    <tr>\n",
       "      <th>123</th>\n",
       "      <td>Bellevue to Redmond - EB</td>\n",
       "      <td>39</td>\n",
       "      <td>52</td>\n",
       "    </tr>\n",
       "    <tr>\n",
       "      <th>132</th>\n",
       "      <td>Issaquah to Bellevue - WB</td>\n",
       "      <td>35</td>\n",
       "      <td>35</td>\n",
       "    </tr>\n",
       "    <tr>\n",
       "      <th>141</th>\n",
       "      <td>Bellevue to Issaquah - EB</td>\n",
       "      <td>48</td>\n",
       "      <td>58</td>\n",
       "    </tr>\n",
       "    <tr>\n",
       "      <th>150</th>\n",
       "      <td>Seattle to Bellevue via 520 - WB</td>\n",
       "      <td>26</td>\n",
       "      <td>52</td>\n",
       "    </tr>\n",
       "    <tr>\n",
       "      <th>159</th>\n",
       "      <td>Bellevue to Seattle via 520 - EB</td>\n",
       "      <td>22</td>\n",
       "      <td>37</td>\n",
       "    </tr>\n",
       "    <tr>\n",
       "      <th>168</th>\n",
       "      <td>Bellevue to Seattle via 90 - WB</td>\n",
       "      <td>27</td>\n",
       "      <td>23</td>\n",
       "    </tr>\n",
       "    <tr>\n",
       "      <th>177</th>\n",
       "      <td>Seattle to Bellevue via 90 - EB</td>\n",
       "      <td>34</td>\n",
       "      <td>41</td>\n",
       "    </tr>\n",
       "  </tbody>\n",
       "</table>\n",
       "</div>"
      ],
      "text/plain": [
       "                 Corridor_Description  model_speed  observed_speed\n",
       "6             Seattle to Everett - NB           45              58\n",
       "15            Everett to Seattle - SB           27              27\n",
       "24             Tacoma to Seattle - NB           29              24\n",
       "33             Seattle to Tacoma - SB           44              58\n",
       "42          Bellevue to Lynnwood - NB           48              57\n",
       "51          Lynnwood to Bellevue - SB           25              22\n",
       "60           Tukwila to Bellevue - NB           27              20\n",
       "69           Bellevue to Tukwila - SB           29              43\n",
       "78              Auburn to Renton - NB           31              22\n",
       "87              Renton to Auburn - SB           49              55\n",
       "96            Redmond to Seattle - WB           28              40\n",
       "105           Seattle to Redmond - EB           32              53\n",
       "114          Redmond to Bellevue - WB           35              46\n",
       "123          Bellevue to Redmond - EB           39              52\n",
       "132         Issaquah to Bellevue - WB           35              35\n",
       "141         Bellevue to Issaquah - EB           48              58\n",
       "150  Seattle to Bellevue via 520 - WB           26              52\n",
       "159  Bellevue to Seattle via 520 - EB           22              37\n",
       "168   Bellevue to Seattle via 90 - WB           27              23\n",
       "177   Seattle to Bellevue via 90 - EB           34              41"
      ]
     },
     "execution_count": 29,
     "metadata": {},
     "output_type": "execute_result"
    }
   ],
   "source": [
    "# Show daily AM and PM peaks by corridor\n",
    "df[df['tod'] == '7to8'][['Corridor_Description','model_speed','observed_speed']].head(20)"
   ]
  },
  {
   "cell_type": "markdown",
   "metadata": {},
   "source": [
    "### PM Peak, Primary Corridors"
   ]
  },
  {
   "cell_type": "code",
   "execution_count": 30,
   "metadata": {
    "execution": {
     "iopub.execute_input": "2024-04-03T21:14:20.466088Z",
     "iopub.status.busy": "2024-04-03T21:14:20.466088Z",
     "iopub.status.idle": "2024-04-03T21:14:20.669168Z",
     "shell.execute_reply": "2024-04-03T21:14:20.669168Z"
    }
   },
   "outputs": [
    {
     "data": {
      "text/plain": [
       "<AxesSubplot:xlabel='observed_speed', ylabel='model_speed'>"
      ]
     },
     "execution_count": 30,
     "metadata": {},
     "output_type": "execute_result"
    },
    {
     "data": {
      "image/png": "[encoded data removed]",
      "text/plain": [
       "<Figure size 432x288 with 1 Axes>"
      ]
     },
     "metadata": {
      "needs_background": "light"
     },
     "output_type": "display_data"
    }
   ],
   "source": [
    "df[df['tod'] == '16to17'].plot(kind='scatter', x='observed_speed', y='model_speed')"
   ]
  },
  {
   "cell_type": "code",
   "execution_count": 31,
   "metadata": {
    "execution": {
     "iopub.execute_input": "2024-04-03T21:14:20.669168Z",
     "iopub.status.busy": "2024-04-03T21:14:20.669168Z",
     "iopub.status.idle": "2024-04-03T21:14:20.700409Z",
     "shell.execute_reply": "2024-04-03T21:14:20.700409Z"
    }
   },
   "outputs": [
    {
     "data": {
      "text/html": [
       "<div>\n",
       "<style scoped>\n",
       "    .dataframe tbody tr th:only-of-type {\n",
       "        vertical-align: middle;\n",
       "    }\n",
       "\n",
       "    .dataframe tbody tr th {\n",
       "        vertical-align: top;\n",
       "    }\n",
       "\n",
       "    .dataframe thead th {\n",
       "        text-align: right;\n",
       "    }\n",
       "</style>\n",
       "<table border=\"1\" class=\"dataframe\">\n",
       "  <thead>\n",
       "    <tr style=\"text-align: right;\">\n",
       "      <th></th>\n",
       "      <th>Corridor_Description</th>\n",
       "      <th>model_speed</th>\n",
       "      <th>observed_speed</th>\n",
       "    </tr>\n",
       "  </thead>\n",
       "  <tbody>\n",
       "    <tr>\n",
       "      <th>1</th>\n",
       "      <td>Seattle to Everett - NB</td>\n",
       "      <td>28</td>\n",
       "      <td>23</td>\n",
       "    </tr>\n",
       "    <tr>\n",
       "      <th>10</th>\n",
       "      <td>Everett to Seattle - SB</td>\n",
       "      <td>39</td>\n",
       "      <td>28</td>\n",
       "    </tr>\n",
       "    <tr>\n",
       "      <th>19</th>\n",
       "      <td>Tacoma to Seattle - NB</td>\n",
       "      <td>43</td>\n",
       "      <td>43</td>\n",
       "    </tr>\n",
       "    <tr>\n",
       "      <th>28</th>\n",
       "      <td>Seattle to Tacoma - SB</td>\n",
       "      <td>33</td>\n",
       "      <td>25</td>\n",
       "    </tr>\n",
       "    <tr>\n",
       "      <th>37</th>\n",
       "      <td>Bellevue to Lynnwood - NB</td>\n",
       "      <td>28</td>\n",
       "      <td>26</td>\n",
       "    </tr>\n",
       "    <tr>\n",
       "      <th>46</th>\n",
       "      <td>Lynnwood to Bellevue - SB</td>\n",
       "      <td>42</td>\n",
       "      <td>40</td>\n",
       "    </tr>\n",
       "    <tr>\n",
       "      <th>55</th>\n",
       "      <td>Tukwila to Bellevue - NB</td>\n",
       "      <td>30</td>\n",
       "      <td>29</td>\n",
       "    </tr>\n",
       "    <tr>\n",
       "      <th>64</th>\n",
       "      <td>Bellevue to Tukwila - SB</td>\n",
       "      <td>27</td>\n",
       "      <td>19</td>\n",
       "    </tr>\n",
       "    <tr>\n",
       "      <th>73</th>\n",
       "      <td>Auburn to Renton - NB</td>\n",
       "      <td>48</td>\n",
       "      <td>44</td>\n",
       "    </tr>\n",
       "    <tr>\n",
       "      <th>82</th>\n",
       "      <td>Renton to Auburn - SB</td>\n",
       "      <td>34</td>\n",
       "      <td>34</td>\n",
       "    </tr>\n",
       "    <tr>\n",
       "      <th>91</th>\n",
       "      <td>Redmond to Seattle - WB</td>\n",
       "      <td>30</td>\n",
       "      <td>23</td>\n",
       "    </tr>\n",
       "    <tr>\n",
       "      <th>100</th>\n",
       "      <td>Seattle to Redmond - EB</td>\n",
       "      <td>28</td>\n",
       "      <td>35</td>\n",
       "    </tr>\n",
       "    <tr>\n",
       "      <th>109</th>\n",
       "      <td>Redmond to Bellevue - WB</td>\n",
       "      <td>43</td>\n",
       "      <td>27</td>\n",
       "    </tr>\n",
       "    <tr>\n",
       "      <th>118</th>\n",
       "      <td>Bellevue to Redmond - EB</td>\n",
       "      <td>34</td>\n",
       "      <td>23</td>\n",
       "    </tr>\n",
       "    <tr>\n",
       "      <th>127</th>\n",
       "      <td>Issaquah to Bellevue - WB</td>\n",
       "      <td>46</td>\n",
       "      <td>40</td>\n",
       "    </tr>\n",
       "    <tr>\n",
       "      <th>136</th>\n",
       "      <td>Bellevue to Issaquah - EB</td>\n",
       "      <td>37</td>\n",
       "      <td>25</td>\n",
       "    </tr>\n",
       "    <tr>\n",
       "      <th>145</th>\n",
       "      <td>Seattle to Bellevue via 520 - WB</td>\n",
       "      <td>23</td>\n",
       "      <td>40</td>\n",
       "    </tr>\n",
       "    <tr>\n",
       "      <th>154</th>\n",
       "      <td>Bellevue to Seattle via 520 - EB</td>\n",
       "      <td>22</td>\n",
       "      <td>19</td>\n",
       "    </tr>\n",
       "    <tr>\n",
       "      <th>163</th>\n",
       "      <td>Bellevue to Seattle via 90 - WB</td>\n",
       "      <td>30</td>\n",
       "      <td>20</td>\n",
       "    </tr>\n",
       "    <tr>\n",
       "      <th>172</th>\n",
       "      <td>Seattle to Bellevue via 90 - EB</td>\n",
       "      <td>29</td>\n",
       "      <td>39</td>\n",
       "    </tr>\n",
       "  </tbody>\n",
       "</table>\n",
       "</div>"
      ],
      "text/plain": [
       "                 Corridor_Description  model_speed  observed_speed\n",
       "1             Seattle to Everett - NB           28              23\n",
       "10            Everett to Seattle - SB           39              28\n",
       "19             Tacoma to Seattle - NB           43              43\n",
       "28             Seattle to Tacoma - SB           33              25\n",
       "37          Bellevue to Lynnwood - NB           28              26\n",
       "46          Lynnwood to Bellevue - SB           42              40\n",
       "55           Tukwila to Bellevue - NB           30              29\n",
       "64           Bellevue to Tukwila - SB           27              19\n",
       "73              Auburn to Renton - NB           48              44\n",
       "82              Renton to Auburn - SB           34              34\n",
       "91            Redmond to Seattle - WB           30              23\n",
       "100           Seattle to Redmond - EB           28              35\n",
       "109          Redmond to Bellevue - WB           43              27\n",
       "118          Bellevue to Redmond - EB           34              23\n",
       "127         Issaquah to Bellevue - WB           46              40\n",
       "136         Bellevue to Issaquah - EB           37              25\n",
       "145  Seattle to Bellevue via 520 - WB           23              40\n",
       "154  Bellevue to Seattle via 520 - EB           22              19\n",
       "163   Bellevue to Seattle via 90 - WB           30              20\n",
       "172   Seattle to Bellevue via 90 - EB           29              39"
      ]
     },
     "execution_count": 31,
     "metadata": {},
     "output_type": "execute_result"
    }
   ],
   "source": [
    "df[df['tod'] == '16to17'][['Corridor_Description','model_speed','observed_speed']].head(20)"
   ]
  },
  {
   "cell_type": "code",
   "execution_count": null,
   "metadata": {},
   "outputs": [],
   "source": []
  }
 ],
 "metadata": {
  "kernelspec": {
   "display_name": "Python 3",
   "language": "python",
   "name": "python3"
  },
  "language_info": {
   "codemirror_mode": {
    "name": "ipython",
    "version": 3
   },
   "file_extension": ".py",
   "mimetype": "text/x-python",
   "name": "python",
   "nbconvert_exporter": "python",
   "pygments_lexer": "ipython3",
   "version": "3.7.10"
  }
 },
 "nbformat": 4,
 "nbformat_minor": 2
}
