{
 "cells": [
  {
   "cell_type": "code",
   "execution_count": 1,
   "metadata": {
    "execution": {
     "iopub.execute_input": "2024-04-03T21:14:16.554086Z",
     "iopub.status.busy": "2024-04-03T21:14:16.554086Z",
     "iopub.status.idle": "2024-04-03T21:14:17.965900Z",
     "shell.execute_reply": "2024-04-03T21:14:17.965900Z"
    }
   },
   "outputs": [],
   "source": [
    "import os, sys, time\n",
    "from scipy import stats\n",
    "import warnings\n",
    "warnings.simplefilter(action='ignore', category=FutureWarning)\n",
    "import pandas as pd\n",
    "import numpy as np\n",
    "%matplotlib inline\n",
    "\n",
    "from IPython.display import display, HTML\n",
    "\n",
    "if (sys.version_info < (3, 0)):\n",
    "    HTML('''<script>\n",
    "    code_show=true; \n",
    "    function code_toggle() {\n",
    "     if (code_show){\n",
    "     $('div.input').hide();\n",
    "     } else {\n",
    "     $('div.input').show();\n",
    "     }\n",
    "     code_show = !code_show\n",
    "    } \n",
    "    $( document ).ready(code_toggle);\n",
    "    </script>\n",
    "    <form action=\"javascript:code_toggle()\"><input type=\"submit\" value=\"Click here to toggle on/off the raw code.\"></form>''')\n"
   ]
  },
  {
   "cell_type": "code",
   "execution_count": 2,
   "metadata": {
    "execution": {
     "iopub.execute_input": "2024-04-03T21:14:17.965900Z",
     "iopub.status.busy": "2024-04-03T21:14:17.965900Z",
     "iopub.status.idle": "2024-04-03T21:14:17.981522Z",
     "shell.execute_reply": "2024-04-03T21:14:17.981522Z"
    },
    "scrolled": true
   },
   "outputs": [
    {
     "name": "stdout",
     "output_type": "stream",
     "text": [
      "Summary run: Thu, 14 Nov 2024 11:32\n"
     ]
    }
   ],
   "source": [
    "# Create timestamp to show when this summary was run\n",
    "print('Summary run: ' + time.strftime(\"%a, %d %b %Y %H:%M\"))"
   ]
  },
  {
   "cell_type": "code",
   "execution_count": 3,
   "metadata": {
    "execution": {
     "iopub.execute_input": "2024-04-03T21:14:17.981522Z",
     "iopub.status.busy": "2024-04-03T21:14:17.981522Z",
     "iopub.status.idle": "2024-04-03T21:14:17.997144Z",
     "shell.execute_reply": "2024-04-03T21:14:17.997144Z"
    }
   },
   "outputs": [],
   "source": [
    "relative_path = '../../../../outputs'\n",
    "pd.options.display.float_format = '{:0,.0f}'.format\n",
    "format_percent = \"{:,.2%}\".format"
   ]
  },
  {
   "cell_type": "markdown",
   "metadata": {},
   "source": [
    "# Traffic Counts\n",
    "----\n",
    "### Daily | By Facility Type"
   ]
  },
  {
   "cell_type": "code",
   "execution_count": 4,
   "metadata": {
    "execution": {
     "iopub.execute_input": "2024-04-03T21:14:17.997144Z",
     "iopub.status.busy": "2024-04-03T21:14:17.997144Z",
     "iopub.status.idle": "2024-04-03T21:14:18.044121Z",
     "shell.execute_reply": "2024-04-03T21:14:18.044121Z"
    }
   },
   "outputs": [],
   "source": [
    "df = pd.read_csv(os.path.join(relative_path,'validation','daily_volume.csv'))\n",
    "df[['modeled','observed']] = df[['modeled','observed']].astype('float')"
   ]
  },
  {
   "cell_type": "code",
   "execution_count": 5,
   "metadata": {
    "execution": {
     "iopub.execute_input": "2024-04-03T21:14:18.044121Z",
     "iopub.status.busy": "2024-04-03T21:14:18.044121Z",
     "iopub.status.idle": "2024-04-03T21:14:18.122118Z",
     "shell.execute_reply": "2024-04-03T21:14:18.122118Z"
    }
   },
   "outputs": [
    {
     "data": {
      "text/html": [
       "<div>\n",
       "<style scoped>\n",
       "    .dataframe tbody tr th:only-of-type {\n",
       "        vertical-align: middle;\n",
       "    }\n",
       "\n",
       "    .dataframe tbody tr th {\n",
       "        vertical-align: top;\n",
       "    }\n",
       "\n",
       "    .dataframe thead th {\n",
       "        text-align: right;\n",
       "    }\n",
       "</style>\n",
       "<table border=\"1\" class=\"dataframe\">\n",
       "  <thead>\n",
       "    <tr style=\"text-align: right;\">\n",
       "      <th></th>\n",
       "      <th>observed</th>\n",
       "      <th>modeled</th>\n",
       "      <th>diff</th>\n",
       "      <th>percent_diff</th>\n",
       "    </tr>\n",
       "    <tr>\n",
       "      <th>@facilitytype</th>\n",
       "      <th></th>\n",
       "      <th></th>\n",
       "      <th></th>\n",
       "      <th></th>\n",
       "    </tr>\n",
       "  </thead>\n",
       "  <tbody>\n",
       "    <tr>\n",
       "      <th>Arterial</th>\n",
       "      <td>13,060,004</td>\n",
       "      <td>13,938,278</td>\n",
       "      <td>878,274</td>\n",
       "      <td>6.72%</td>\n",
       "    </tr>\n",
       "    <tr>\n",
       "      <th>Collector</th>\n",
       "      <td>72,096</td>\n",
       "      <td>77,278</td>\n",
       "      <td>5,182</td>\n",
       "      <td>7.19%</td>\n",
       "    </tr>\n",
       "    <tr>\n",
       "      <th>Freeway</th>\n",
       "      <td>46,455,221</td>\n",
       "      <td>44,433,614</td>\n",
       "      <td>-2,021,607</td>\n",
       "      <td>-4.35%</td>\n",
       "    </tr>\n",
       "    <tr>\n",
       "      <th>HOV</th>\n",
       "      <td>246,053</td>\n",
       "      <td>278,147</td>\n",
       "      <td>32,094</td>\n",
       "      <td>13.04%</td>\n",
       "    </tr>\n",
       "    <tr>\n",
       "      <th>Ramp</th>\n",
       "      <td>334,132</td>\n",
       "      <td>259,006</td>\n",
       "      <td>-75,126</td>\n",
       "      <td>-22.48%</td>\n",
       "    </tr>\n",
       "    <tr>\n",
       "      <th>Total</th>\n",
       "      <td>60,167,506</td>\n",
       "      <td>58,986,323</td>\n",
       "      <td>-1,181,183</td>\n",
       "      <td>-1.96%</td>\n",
       "    </tr>\n",
       "  </tbody>\n",
       "</table>\n",
       "</div>"
      ],
      "text/plain": [
       "                observed    modeled       diff percent_diff\n",
       "@facilitytype                                              \n",
       "Arterial      13,060,004 13,938,278    878,274        6.72%\n",
       "Collector         72,096     77,278      5,182        7.19%\n",
       "Freeway       46,455,221 44,433,614 -2,021,607       -4.35%\n",
       "HOV              246,053    278,147     32,094       13.04%\n",
       "Ramp             334,132    259,006    -75,126      -22.48%\n",
       "Total         60,167,506 58,986,323 -1,181,183       -1.96%"
      ]
     },
     "execution_count": 5,
     "metadata": {},
     "output_type": "execute_result"
    }
   ],
   "source": [
    "_df = df.groupby('@facilitytype').sum()[['observed','modeled']]\n",
    "_df.loc['Total',:] = _df.sum().values\n",
    "_df['diff'] = _df['modeled']-_df['observed']\n",
    "_df['percent_diff'] = _df['diff']/_df['observed']\n",
    "_df[['percent_diff']] = _df[['percent_diff']].applymap(format_percent)\n",
    "_df"
   ]
  },
  {
   "cell_type": "markdown",
   "metadata": {},
   "source": [
    "----\n",
    "### Daily | By County"
   ]
  },
  {
   "cell_type": "code",
   "execution_count": 6,
   "metadata": {
    "execution": {
     "iopub.execute_input": "2024-04-03T21:14:18.122118Z",
     "iopub.status.busy": "2024-04-03T21:14:18.122118Z",
     "iopub.status.idle": "2024-04-03T21:14:18.168982Z",
     "shell.execute_reply": "2024-04-03T21:14:18.168982Z"
    }
   },
   "outputs": [
    {
     "data": {
      "text/html": [
       "<div>\n",
       "<style scoped>\n",
       "    .dataframe tbody tr th:only-of-type {\n",
       "        vertical-align: middle;\n",
       "    }\n",
       "\n",
       "    .dataframe tbody tr th {\n",
       "        vertical-align: top;\n",
       "    }\n",
       "\n",
       "    .dataframe thead th {\n",
       "        text-align: right;\n",
       "    }\n",
       "</style>\n",
       "<table border=\"1\" class=\"dataframe\">\n",
       "  <thead>\n",
       "    <tr style=\"text-align: right;\">\n",
       "      <th></th>\n",
       "      <th>observed</th>\n",
       "      <th>modeled</th>\n",
       "      <th>diff</th>\n",
       "      <th>percent_diff</th>\n",
       "    </tr>\n",
       "    <tr>\n",
       "      <th>county</th>\n",
       "      <th></th>\n",
       "      <th></th>\n",
       "      <th></th>\n",
       "      <th></th>\n",
       "    </tr>\n",
       "  </thead>\n",
       "  <tbody>\n",
       "    <tr>\n",
       "      <th>King</th>\n",
       "      <td>32,134,146</td>\n",
       "      <td>32,934,499</td>\n",
       "      <td>800,353</td>\n",
       "      <td>2.49%</td>\n",
       "    </tr>\n",
       "    <tr>\n",
       "      <th>Kitsap</th>\n",
       "      <td>3,636,120</td>\n",
       "      <td>2,838,131</td>\n",
       "      <td>-797,989</td>\n",
       "      <td>-21.95%</td>\n",
       "    </tr>\n",
       "    <tr>\n",
       "      <th>Pierce</th>\n",
       "      <td>12,521,558</td>\n",
       "      <td>11,913,041</td>\n",
       "      <td>-608,517</td>\n",
       "      <td>-4.86%</td>\n",
       "    </tr>\n",
       "    <tr>\n",
       "      <th>Snohomish</th>\n",
       "      <td>11,875,682</td>\n",
       "      <td>11,300,652</td>\n",
       "      <td>-575,030</td>\n",
       "      <td>-4.84%</td>\n",
       "    </tr>\n",
       "    <tr>\n",
       "      <th>Total</th>\n",
       "      <td>60,167,506</td>\n",
       "      <td>58,986,323</td>\n",
       "      <td>-1,181,183</td>\n",
       "      <td>-1.96%</td>\n",
       "    </tr>\n",
       "  </tbody>\n",
       "</table>\n",
       "</div>"
      ],
      "text/plain": [
       "            observed    modeled       diff percent_diff\n",
       "county                                                 \n",
       "King      32,134,146 32,934,499    800,353        2.49%\n",
       "Kitsap     3,636,120  2,838,131   -797,989      -21.95%\n",
       "Pierce    12,521,558 11,913,041   -608,517       -4.86%\n",
       "Snohomish 11,875,682 11,300,652   -575,030       -4.84%\n",
       "Total     60,167,506 58,986,323 -1,181,183       -1.96%"
      ]
     },
     "execution_count": 6,
     "metadata": {},
     "output_type": "execute_result"
    }
   ],
   "source": [
    "df = pd.read_csv(os.path.join(relative_path,'validation','daily_volume_county_facility.csv'))\n",
    "df[['modeled','observed']] = df[['modeled','observed']].astype('float')\n",
    "\n",
    "_df = df.groupby('county').sum()[['observed','modeled']]\n",
    "_df.loc['Total',:] = _df.sum().values\n",
    "_df['diff'] = _df['modeled']-_df['observed']\n",
    "_df['percent_diff'] = _df['diff']/_df['observed']\n",
    "_df[['percent_diff']] = _df[['percent_diff']].applymap(format_percent)\n",
    "_df"
   ]
  },
  {
   "cell_type": "markdown",
   "metadata": {},
   "source": [
    "----\n",
    "### Daily | Scatterplots "
   ]
  },
  {
   "cell_type": "code",
   "execution_count": 7,
   "metadata": {
    "execution": {
     "iopub.execute_input": "2024-04-03T21:14:18.168982Z",
     "iopub.status.busy": "2024-04-03T21:14:18.168982Z",
     "iopub.status.idle": "2024-04-03T21:14:18.372060Z",
     "shell.execute_reply": "2024-04-03T21:14:18.372060Z"
    }
   },
   "outputs": [
    {
     "data": {
      "text/plain": [
       "[<matplotlib.lines.Line2D at 0x21c189a2c88>]"
      ]
     },
     "execution_count": 7,
     "metadata": {},
     "output_type": "execute_result"
    },
    {
     "data": {
      "image/png": "[encoded data removed]",
      "text/plain": [
       "<Figure size 432x288 with 1 Axes>"
      ]
     },
     "metadata": {
      "needs_background": "light"
     },
     "output_type": "display_data"
    }
   ],
   "source": [
    "df = pd.read_csv(os.path.join(relative_path,'validation','daily_volume.csv'))\n",
    "ax = df.plot(kind='scatter', x='observed', y='modeled')\n",
    "lim = df[['observed','modeled']].max().max()*1.05\n",
    "ax.set_ylim(0,lim)\n",
    "ax.set_xlim(0,lim)\n",
    "x = np.linspace(*ax.get_xlim())\n",
    "ax.plot(x, x)"
   ]
  },
  {
   "cell_type": "code",
   "execution_count": 8,
   "metadata": {
    "execution": {
     "iopub.execute_input": "2024-04-03T21:14:18.372060Z",
     "iopub.status.busy": "2024-04-03T21:14:18.372060Z",
     "iopub.status.idle": "2024-04-03T21:14:18.403299Z",
     "shell.execute_reply": "2024-04-03T21:14:18.403299Z"
    }
   },
   "outputs": [
    {
     "name": "stdout",
     "output_type": "stream",
     "text": [
      "r^2: 0.9566759614430503\n"
     ]
    }
   ],
   "source": [
    "slope, intercept, r_value, p_value, std_err = stats.linregress(df['observed'],df['modeled'])\n",
    "print('r^2: ' + str(r_value))"
   ]
  },
  {
   "cell_type": "markdown",
   "metadata": {},
   "source": [
    "---\n",
    "By County"
   ]
  },
  {
   "cell_type": "code",
   "execution_count": 9,
   "metadata": {
    "execution": {
     "iopub.execute_input": "2024-04-03T21:14:18.403299Z",
     "iopub.status.busy": "2024-04-03T21:14:18.403299Z",
     "iopub.status.idle": "2024-04-03T21:14:18.950052Z",
     "shell.execute_reply": "2024-04-03T21:14:18.950052Z"
    }
   },
   "outputs": [
    {
     "name": "stdout",
     "output_type": "stream",
     "text": [
      "King r^2: 0.9611936130003326\n",
      "Kitsap r^2: 0.9690664782118945\n",
      "Pierce r^2: 0.9589349430746898\n",
      "Snohomish r^2: 0.937754476540925\n"
     ]
    },
    {
     "data": {
      "image/png": "[encoded data removed]",
      "text/plain": [
       "<Figure size 432x288 with 1 Axes>"
      ]
     },
     "metadata": {
      "needs_background": "light"
     },
     "output_type": "display_data"
    },
    {
     "data": {
      "image/png": "[encoded data removed]",
      "text/plain": [
       "<Figure size 432x288 with 1 Axes>"
      ]
     },
     "metadata": {
      "needs_background": "light"
     },
     "output_type": "display_data"
    },
    {
     "data": {
      "image/png": "[encoded data removed]",
      "text/plain": [
       "<Figure size 432x288 with 1 Axes>"
      ]
     },
     "metadata": {
      "needs_background": "light"
     },
     "output_type": "display_data"
    },
    {
     "data": {
      "image/png": "[encoded data removed]",
      "text/plain": [
       "<Figure size 432x288 with 1 Axes>"
      ]
     },
     "metadata": {
      "needs_background": "light"
     },
     "output_type": "display_data"
    }
   ],
   "source": [
    "for county in np.unique(df['county']):\n",
    "    _df = df[df['county'] == county]\n",
    "    ax = _df.plot(kind='scatter', x='observed', y='modeled', label=county)\n",
    "    lim = _df[['observed','modeled']].max().max()*1.05\n",
    "    ax.set_ylim(0,lim)\n",
    "    ax.set_xlim(0,lim)\n",
    "    slope, intercept, r_value, p_value, std_err = stats.linregress(_df['observed'],_df['modeled'])\n",
    "    x = np.linspace(*ax.get_xlim())\n",
    "    ax.plot(x, x)\n",
    "    print(str(county) + ' r^2: ' + str(r_value))"
   ]
  },
  {
   "cell_type": "markdown",
   "metadata": {},
   "source": [
    "---\n",
    "By Facility Type"
   ]
  },
  {
   "cell_type": "code",
   "execution_count": 10,
   "metadata": {
    "execution": {
     "iopub.execute_input": "2024-04-03T21:14:18.950052Z",
     "iopub.status.busy": "2024-04-03T21:14:18.950052Z",
     "iopub.status.idle": "2024-04-03T21:14:19.309345Z",
     "shell.execute_reply": "2024-04-03T21:14:19.309345Z"
    }
   },
   "outputs": [
    {
     "name": "stdout",
     "output_type": "stream",
     "text": [
      "r^2 Freeway: 0.9471896222381098\n"
     ]
    },
    {
     "data": {
      "image/png": "[encoded data removed]",
      "text/plain": [
       "<Figure size 432x288 with 1 Axes>"
      ]
     },
     "metadata": {
      "needs_background": "light"
     },
     "output_type": "display_data"
    }
   ],
   "source": [
    "for factype in ['Freeway']:\n",
    "    _df = df[df['@facilitytype'] == factype]\n",
    "    ax = _df.plot(kind='scatter', x='observed', y='modeled', label=factype)\n",
    "    lim = _df[['observed','modeled']].max().max()*1.05\n",
    "    ax.set_ylim(0,lim)\n",
    "    ax.set_xlim(0,lim)\n",
    "    x = np.linspace(*ax.get_xlim())\n",
    "    ax.plot(x, x)\n",
    "    slope, intercept, r_value, p_value, std_err = stats.linregress(_df['observed'],_df['modeled'])\n",
    "    print('r^2 ' + str(factype) + ': ' + str(r_value))"
   ]
  },
  {
   "cell_type": "markdown",
   "metadata": {},
   "source": [
    "**Hourly Volumes**\n"
   ]
  },
  {
   "cell_type": "code",
   "execution_count": 11,
   "metadata": {
    "execution": {
     "iopub.execute_input": "2024-04-03T21:14:19.309345Z",
     "iopub.status.busy": "2024-04-03T21:14:19.309345Z",
     "iopub.status.idle": "2024-04-03T21:14:19.465557Z",
     "shell.execute_reply": "2024-04-03T21:14:19.465557Z"
    }
   },
   "outputs": [
    {
     "name": "stdout",
     "output_type": "stream",
     "text": [
      "r^2: 0.629821081461926\n"
     ]
    },
    {
     "data": {
      "image/png": "[encoded data removed]",
      "text/plain": [
       "<Figure size 432x288 with 1 Axes>"
      ]
     },
     "metadata": {
      "needs_background": "light"
     },
     "output_type": "display_data"
    }
   ],
   "source": [
    "df = pd.read_csv(os.path.join(relative_path,'validation','hourly_volume.csv'))\n",
    "ax = df.plot(kind='scatter', x='observed', y='modeled')\n",
    "lim = df[['observed','modeled']].max().max()*1.05\n",
    "ax.set_ylim(0,lim)\n",
    "ax.set_xlim(0,lim)\n",
    "x = np.linspace(*ax.get_xlim())\n",
    "ax.plot(x, x)\n",
    "slope, intercept, r_value, p_value, std_err = stats.linregress(df['observed'],df['modeled'])\n",
    "print('r^2: ' + str(r_value))"
   ]
  },
  {
   "cell_type": "markdown",
   "metadata": {},
   "source": [
    "# Screenlines"
   ]
  },
  {
   "cell_type": "code",
   "execution_count": 12,
   "metadata": {
    "execution": {
     "iopub.execute_input": "2024-04-03T21:14:19.465557Z",
     "iopub.status.busy": "2024-04-03T21:14:19.465557Z",
     "iopub.status.idle": "2024-04-03T21:14:19.496799Z",
     "shell.execute_reply": "2024-04-03T21:14:19.496799Z"
    }
   },
   "outputs": [
    {
     "data": {
      "text/html": [
       "<div>\n",
       "<style scoped>\n",
       "    .dataframe tbody tr th:only-of-type {\n",
       "        vertical-align: middle;\n",
       "    }\n",
       "\n",
       "    .dataframe tbody tr th {\n",
       "        vertical-align: top;\n",
       "    }\n",
       "\n",
       "    .dataframe thead th {\n",
       "        text-align: right;\n",
       "    }\n",
       "</style>\n",
       "<table border=\"1\" class=\"dataframe\">\n",
       "  <thead>\n",
       "    <tr style=\"text-align: right;\">\n",
       "      <th></th>\n",
       "      <th>name</th>\n",
       "      <th>observed</th>\n",
       "      <th>modeled</th>\n",
       "      <th>county</th>\n",
       "      <th>diff</th>\n",
       "      <th>percent_diff</th>\n",
       "    </tr>\n",
       "  </thead>\n",
       "  <tbody>\n",
       "    <tr>\n",
       "      <th>0</th>\n",
       "      <td>AUBURN - SOUTH KING</td>\n",
       "      <td>592,476</td>\n",
       "      <td>520,669</td>\n",
       "      <td>King</td>\n",
       "      <td>-71,807</td>\n",
       "      <td>-12.12%</td>\n",
       "    </tr>\n",
       "    <tr>\n",
       "      <th>1</th>\n",
       "      <td>KENT</td>\n",
       "      <td>559,335</td>\n",
       "      <td>483,749</td>\n",
       "      <td>King</td>\n",
       "      <td>-75,586</td>\n",
       "      <td>-13.51%</td>\n",
       "    </tr>\n",
       "    <tr>\n",
       "      <th>2</th>\n",
       "      <td>SHIP CANAL</td>\n",
       "      <td>480,070</td>\n",
       "      <td>516,638</td>\n",
       "      <td>King</td>\n",
       "      <td>36,568</td>\n",
       "      <td>7.62%</td>\n",
       "    </tr>\n",
       "    <tr>\n",
       "      <th>3</th>\n",
       "      <td>SEATTLE - SOUTH OF CBD</td>\n",
       "      <td>473,322</td>\n",
       "      <td>485,037</td>\n",
       "      <td>King</td>\n",
       "      <td>11,715</td>\n",
       "      <td>2.48%</td>\n",
       "    </tr>\n",
       "    <tr>\n",
       "      <th>4</th>\n",
       "      <td>MILL CREEK</td>\n",
       "      <td>391,447</td>\n",
       "      <td>381,322</td>\n",
       "      <td>King</td>\n",
       "      <td>-10,125</td>\n",
       "      <td>-2.59%</td>\n",
       "    </tr>\n",
       "    <tr>\n",
       "      <th>5</th>\n",
       "      <td>SOUTH BELLEVUE</td>\n",
       "      <td>389,700</td>\n",
       "      <td>367,159</td>\n",
       "      <td>King</td>\n",
       "      <td>-22,541</td>\n",
       "      <td>-5.78%</td>\n",
       "    </tr>\n",
       "    <tr>\n",
       "      <th>6</th>\n",
       "      <td>KIRKLAND-REDMOND</td>\n",
       "      <td>381,663</td>\n",
       "      <td>385,355</td>\n",
       "      <td>King</td>\n",
       "      <td>3,692</td>\n",
       "      <td>0.97%</td>\n",
       "    </tr>\n",
       "    <tr>\n",
       "      <th>7</th>\n",
       "      <td>SEATTLE - NORTH</td>\n",
       "      <td>356,051</td>\n",
       "      <td>354,768</td>\n",
       "      <td>King</td>\n",
       "      <td>-1,283</td>\n",
       "      <td>-0.36%</td>\n",
       "    </tr>\n",
       "    <tr>\n",
       "      <th>8</th>\n",
       "      <td>TACOMA - EAST OF CBD</td>\n",
       "      <td>324,463</td>\n",
       "      <td>340,459</td>\n",
       "      <td>Pierce</td>\n",
       "      <td>15,996</td>\n",
       "      <td>4.93%</td>\n",
       "    </tr>\n",
       "    <tr>\n",
       "      <th>9</th>\n",
       "      <td>PARKLAND</td>\n",
       "      <td>299,722</td>\n",
       "      <td>278,437</td>\n",
       "      <td>Pierce</td>\n",
       "      <td>-21,285</td>\n",
       "      <td>-7.10%</td>\n",
       "    </tr>\n",
       "    <tr>\n",
       "      <th>10</th>\n",
       "      <td>BOTHELL</td>\n",
       "      <td>291,573</td>\n",
       "      <td>334,280</td>\n",
       "      <td>King</td>\n",
       "      <td>42,707</td>\n",
       "      <td>14.65%</td>\n",
       "    </tr>\n",
       "    <tr>\n",
       "      <th>11</th>\n",
       "      <td>LYNNWOOD-BOTHELL</td>\n",
       "      <td>260,099</td>\n",
       "      <td>312,534</td>\n",
       "      <td>King</td>\n",
       "      <td>52,435</td>\n",
       "      <td>20.16%</td>\n",
       "    </tr>\n",
       "    <tr>\n",
       "      <th>12</th>\n",
       "      <td>TUKWILA</td>\n",
       "      <td>257,776</td>\n",
       "      <td>232,605</td>\n",
       "      <td>King</td>\n",
       "      <td>-25,171</td>\n",
       "      <td>-9.76%</td>\n",
       "    </tr>\n",
       "    <tr>\n",
       "      <th>13</th>\n",
       "      <td>TRANSLAKE</td>\n",
       "      <td>222,188</td>\n",
       "      <td>252,451</td>\n",
       "      <td>King</td>\n",
       "      <td>30,263</td>\n",
       "      <td>13.62%</td>\n",
       "    </tr>\n",
       "    <tr>\n",
       "      <th>14</th>\n",
       "      <td>PUYALLUP</td>\n",
       "      <td>128,700</td>\n",
       "      <td>117,912</td>\n",
       "      <td>Pierce</td>\n",
       "      <td>-10,788</td>\n",
       "      <td>-8.38%</td>\n",
       "    </tr>\n",
       "    <tr>\n",
       "      <th>15</th>\n",
       "      <td>WOODINVILLE</td>\n",
       "      <td>116,355</td>\n",
       "      <td>170,668</td>\n",
       "      <td>King</td>\n",
       "      <td>54,313</td>\n",
       "      <td>46.68%</td>\n",
       "    </tr>\n",
       "    <tr>\n",
       "      <th>16</th>\n",
       "      <td>NORTH KITSAP</td>\n",
       "      <td>104,890</td>\n",
       "      <td>74,359</td>\n",
       "      <td>Kitsap</td>\n",
       "      <td>-30,531</td>\n",
       "      <td>-29.11%</td>\n",
       "    </tr>\n",
       "    <tr>\n",
       "      <th>17</th>\n",
       "      <td>TACOMA NARROWS</td>\n",
       "      <td>97,300</td>\n",
       "      <td>108,164</td>\n",
       "      <td>Pierce</td>\n",
       "      <td>10,864</td>\n",
       "      <td>11.17%</td>\n",
       "    </tr>\n",
       "    <tr>\n",
       "      <th>18</th>\n",
       "      <td>PRESTON-ISSAQUAH</td>\n",
       "      <td>86,462</td>\n",
       "      <td>90,617</td>\n",
       "      <td>King</td>\n",
       "      <td>4,155</td>\n",
       "      <td>4.81%</td>\n",
       "    </tr>\n",
       "    <tr>\n",
       "      <th>19</th>\n",
       "      <td>GIG HARBOR</td>\n",
       "      <td>84,875</td>\n",
       "      <td>84,967</td>\n",
       "      <td>Pierce</td>\n",
       "      <td>92</td>\n",
       "      <td>0.11%</td>\n",
       "    </tr>\n",
       "    <tr>\n",
       "      <th>20</th>\n",
       "      <td>SEATAC</td>\n",
       "      <td>72,402</td>\n",
       "      <td>92,155</td>\n",
       "      <td>King</td>\n",
       "      <td>19,753</td>\n",
       "      <td>27.28%</td>\n",
       "    </tr>\n",
       "    <tr>\n",
       "      <th>21</th>\n",
       "      <td>MAPLE VALLEY</td>\n",
       "      <td>70,813</td>\n",
       "      <td>59,650</td>\n",
       "      <td>King</td>\n",
       "      <td>-11,163</td>\n",
       "      <td>-15.76%</td>\n",
       "    </tr>\n",
       "    <tr>\n",
       "      <th>22</th>\n",
       "      <td>RENTON</td>\n",
       "      <td>68,127</td>\n",
       "      <td>66,525</td>\n",
       "      <td>King</td>\n",
       "      <td>-1,602</td>\n",
       "      <td>-2.35%</td>\n",
       "    </tr>\n",
       "    <tr>\n",
       "      <th>23</th>\n",
       "      <td>AGATE PASS BRIDGE</td>\n",
       "      <td>21,000</td>\n",
       "      <td>21,064</td>\n",
       "      <td>Kitsap</td>\n",
       "      <td>64</td>\n",
       "      <td>0.31%</td>\n",
       "    </tr>\n",
       "    <tr>\n",
       "      <th>24</th>\n",
       "      <td>CROSS SOUND</td>\n",
       "      <td>14,565</td>\n",
       "      <td>18,727</td>\n",
       "      <td>Kitsap</td>\n",
       "      <td>4,162</td>\n",
       "      <td>28.57%</td>\n",
       "    </tr>\n",
       "    <tr>\n",
       "      <th>25</th>\n",
       "      <td>TOTAL</td>\n",
       "      <td>6,145,374</td>\n",
       "      <td>6,150,271</td>\n",
       "      <td>NaN</td>\n",
       "      <td>4,897</td>\n",
       "      <td>0.08%</td>\n",
       "    </tr>\n",
       "  </tbody>\n",
       "</table>\n",
       "</div>"
      ],
      "text/plain": [
       "                      name  observed   modeled  county    diff percent_diff\n",
       "0      AUBURN - SOUTH KING   592,476   520,669    King -71,807      -12.12%\n",
       "1                     KENT   559,335   483,749    King -75,586      -13.51%\n",
       "2               SHIP CANAL   480,070   516,638    King  36,568        7.62%\n",
       "3   SEATTLE - SOUTH OF CBD   473,322   485,037    King  11,715        2.48%\n",
       "4               MILL CREEK   391,447   381,322    King -10,125       -2.59%\n",
       "5           SOUTH BELLEVUE   389,700   367,159    King -22,541       -5.78%\n",
       "6         KIRKLAND-REDMOND   381,663   385,355    King   3,692        0.97%\n",
       "7          SEATTLE - NORTH   356,051   354,768    King  -1,283       -0.36%\n",
       "8     TACOMA - EAST OF CBD   324,463   340,459  Pierce  15,996        4.93%\n",
       "9                 PARKLAND   299,722   278,437  Pierce -21,285       -7.10%\n",
       "10                 BOTHELL   291,573   334,280    King  42,707       14.65%\n",
       "11        LYNNWOOD-BOTHELL   260,099   312,534    King  52,435       20.16%\n",
       "12                 TUKWILA   257,776   232,605    King -25,171       -9.76%\n",
       "13               TRANSLAKE   222,188   252,451    King  30,263       13.62%\n",
       "14                PUYALLUP   128,700   117,912  Pierce -10,788       -8.38%\n",
       "15             WOODINVILLE   116,355   170,668    King  54,313       46.68%\n",
       "16            NORTH KITSAP   104,890    74,359  Kitsap -30,531      -29.11%\n",
       "17          TACOMA NARROWS    97,300   108,164  Pierce  10,864       11.17%\n",
       "18        PRESTON-ISSAQUAH    86,462    90,617    King   4,155        4.81%\n",
       "19              GIG HARBOR    84,875    84,967  Pierce      92        0.11%\n",
       "20                  SEATAC    72,402    92,155    King  19,753       27.28%\n",
       "21            MAPLE VALLEY    70,813    59,650    King -11,163      -15.76%\n",
       "22                  RENTON    68,127    66,525    King  -1,602       -2.35%\n",
       "23       AGATE PASS BRIDGE    21,000    21,064  Kitsap      64        0.31%\n",
       "24             CROSS SOUND    14,565    18,727  Kitsap   4,162       28.57%\n",
       "25                   TOTAL 6,145,374 6,150,271     NaN   4,897        0.08%"
      ]
     },
     "execution_count": 12,
     "metadata": {},
     "output_type": "execute_result"
    }
   ],
   "source": [
    "df = pd.read_csv(os.path.join(relative_path,'validation','screenlines.csv'))\n",
    "df = df.append(df.sum(numeric_only=True), ignore_index=True)\n",
    "df.at[df.index[-1], 'name'] = 'TOTAL'\n",
    "#df.at['C', 'name'] = 10\n",
    "df['percent_diff'] = df['diff']/df['observed']\n",
    "df[['percent_diff']] = df[['percent_diff']].applymap(format_percent)\n",
    "df"
   ]
  },
  {
   "cell_type": "code",
   "execution_count": 13,
   "metadata": {
    "execution": {
     "iopub.execute_input": "2024-04-03T21:14:19.496799Z",
     "iopub.status.busy": "2024-04-03T21:14:19.496799Z",
     "iopub.status.idle": "2024-04-03T21:14:19.606152Z",
     "shell.execute_reply": "2024-04-03T21:14:19.606152Z"
    }
   },
   "outputs": [
    {
     "name": "stdout",
     "output_type": "stream",
     "text": [
      "r^2 : 0.9835706734957919\n"
     ]
    },
    {
     "data": {
      "image/png": "[encoded data removed]",
      "text/plain": [
       "<Figure size 432x288 with 1 Axes>"
      ]
     },
     "metadata": {
      "needs_background": "light"
     },
     "output_type": "display_data"
    }
   ],
   "source": [
    "df = df.head(-1)\n",
    "ax = df.plot(kind='scatter', x='observed', y='modeled')\n",
    "lim = df[['observed','modeled']].max().max()*1.05\n",
    "ax.set_ylim(0,lim)\n",
    "ax.set_xlim(0,lim)\n",
    "x = np.linspace(*ax.get_xlim())\n",
    "ax.plot(x, x)\n",
    "slope, intercept, r_value, p_value, std_err = stats.linregress(df['observed'],df['modeled'])\n",
    "print('r^2 : ' + str(r_value))"
   ]
  },
  {
   "cell_type": "markdown",
   "metadata": {},
   "source": [
    "# Transit Boarding\n",
    "----\n",
    "### By Agency"
   ]
  },
  {
   "cell_type": "code",
   "execution_count": 14,
   "metadata": {
    "execution": {
     "iopub.execute_input": "2024-04-03T21:14:19.606152Z",
     "iopub.status.busy": "2024-04-03T21:14:19.606152Z",
     "iopub.status.idle": "2024-04-03T21:14:19.637395Z",
     "shell.execute_reply": "2024-04-03T21:14:19.637395Z"
    }
   },
   "outputs": [
    {
     "data": {
      "text/html": [
       "<div>\n",
       "<style scoped>\n",
       "    .dataframe tbody tr th:only-of-type {\n",
       "        vertical-align: middle;\n",
       "    }\n",
       "\n",
       "    .dataframe tbody tr th {\n",
       "        vertical-align: top;\n",
       "    }\n",
       "\n",
       "    .dataframe thead th {\n",
       "        text-align: right;\n",
       "    }\n",
       "</style>\n",
       "<table border=\"1\" class=\"dataframe\">\n",
       "  <thead>\n",
       "    <tr style=\"text-align: right;\">\n",
       "      <th></th>\n",
       "      <th>agency</th>\n",
       "      <th>observed_boardings</th>\n",
       "      <th>model_boardings</th>\n",
       "      <th>diff</th>\n",
       "      <th>perc_diff</th>\n",
       "    </tr>\n",
       "  </thead>\n",
       "  <tbody>\n",
       "    <tr>\n",
       "      <th>2</th>\n",
       "      <td>King County Metro</td>\n",
       "      <td>253,314</td>\n",
       "      <td>338,485</td>\n",
       "      <td>85,172</td>\n",
       "      <td>33.62%</td>\n",
       "    </tr>\n",
       "    <tr>\n",
       "      <th>5</th>\n",
       "      <td>Sound Transit</td>\n",
       "      <td>113,374</td>\n",
       "      <td>130,893</td>\n",
       "      <td>17,519</td>\n",
       "      <td>15.45%</td>\n",
       "    </tr>\n",
       "    <tr>\n",
       "      <th>0</th>\n",
       "      <td>Community Transit</td>\n",
       "      <td>25,962</td>\n",
       "      <td>23,673</td>\n",
       "      <td>-2,289</td>\n",
       "      <td>-8.82%</td>\n",
       "    </tr>\n",
       "    <tr>\n",
       "      <th>4</th>\n",
       "      <td>Pierce Transit</td>\n",
       "      <td>21,185</td>\n",
       "      <td>17,491</td>\n",
       "      <td>-3,694</td>\n",
       "      <td>-17.44%</td>\n",
       "    </tr>\n",
       "    <tr>\n",
       "      <th>6</th>\n",
       "      <td>Washington Ferries</td>\n",
       "      <td>9,278</td>\n",
       "      <td>8,085</td>\n",
       "      <td>-1,193</td>\n",
       "      <td>-12.86%</td>\n",
       "    </tr>\n",
       "    <tr>\n",
       "      <th>3</th>\n",
       "      <td>Kitsap Transit</td>\n",
       "      <td>8,258</td>\n",
       "      <td>16,540</td>\n",
       "      <td>8,282</td>\n",
       "      <td>100.29%</td>\n",
       "    </tr>\n",
       "    <tr>\n",
       "      <th>1</th>\n",
       "      <td>Everett Transit</td>\n",
       "      <td>4,201</td>\n",
       "      <td>2,723</td>\n",
       "      <td>-1,478</td>\n",
       "      <td>-35.18%</td>\n",
       "    </tr>\n",
       "  </tbody>\n",
       "</table>\n",
       "</div>"
      ],
      "text/plain": [
       "               agency  observed_boardings  model_boardings   diff perc_diff\n",
       "2   King County Metro             253,314          338,485 85,172    33.62%\n",
       "5       Sound Transit             113,374          130,893 17,519    15.45%\n",
       "0   Community Transit              25,962           23,673 -2,289    -8.82%\n",
       "4      Pierce Transit              21,185           17,491 -3,694   -17.44%\n",
       "6  Washington Ferries               9,278            8,085 -1,193   -12.86%\n",
       "3      Kitsap Transit               8,258           16,540  8,282   100.29%\n",
       "1     Everett Transit               4,201            2,723 -1,478   -35.18%"
      ]
     },
     "execution_count": 14,
     "metadata": {},
     "output_type": "execute_result"
    }
   ],
   "source": [
    "df = pd.read_csv(os.path.join(relative_path,'validation/') + 'daily_boardings_by_agency.csv')\n",
    "\n",
    "df[['observed_boardings','model_boardings','diff']] = df[['observed_boardings','model_boardings','diff']].astype('float')\n",
    "df[['perc_diff']] = df[['perc_diff']].applymap(format_percent)\n",
    "df.sort_values('observed_boardings', ascending=False)"
   ]
  },
  {
   "cell_type": "markdown",
   "metadata": {},
   "source": [
    "----\n",
    "### Key Routes\n",
    "#### Ferries"
   ]
  },
  {
   "cell_type": "code",
   "execution_count": 15,
   "metadata": {
    "execution": {
     "iopub.execute_input": "2024-04-03T21:14:19.637395Z",
     "iopub.status.busy": "2024-04-03T21:14:19.637395Z",
     "iopub.status.idle": "2024-04-03T21:14:19.746742Z",
     "shell.execute_reply": "2024-04-03T21:14:19.746742Z"
    }
   },
   "outputs": [
    {
     "data": {
      "text/html": [
       "<div>\n",
       "<style scoped>\n",
       "    .dataframe tbody tr th:only-of-type {\n",
       "        vertical-align: middle;\n",
       "    }\n",
       "\n",
       "    .dataframe tbody tr th {\n",
       "        vertical-align: top;\n",
       "    }\n",
       "\n",
       "    .dataframe thead th {\n",
       "        text-align: right;\n",
       "    }\n",
       "</style>\n",
       "<table border=\"1\" class=\"dataframe\">\n",
       "  <thead>\n",
       "    <tr style=\"text-align: right;\">\n",
       "      <th></th>\n",
       "      <th>description</th>\n",
       "      <th>observed_boardings</th>\n",
       "      <th>model_boardings</th>\n",
       "      <th>diff</th>\n",
       "      <th>perc_diff</th>\n",
       "    </tr>\n",
       "  </thead>\n",
       "  <tbody>\n",
       "    <tr>\n",
       "      <th>0</th>\n",
       "      <td>973 W Sea Water Taxi</td>\n",
       "      <td>759</td>\n",
       "      <td>378</td>\n",
       "      <td>-381</td>\n",
       "      <td>-50.22%</td>\n",
       "    </tr>\n",
       "    <tr>\n",
       "      <th>1</th>\n",
       "      <td>975 Vashn Water Taxi</td>\n",
       "      <td>338</td>\n",
       "      <td>518</td>\n",
       "      <td>180</td>\n",
       "      <td>53.28%</td>\n",
       "    </tr>\n",
       "    <tr>\n",
       "      <th>2</th>\n",
       "      <td>WSF Edmonds-Kingston</td>\n",
       "      <td>1,500</td>\n",
       "      <td>231</td>\n",
       "      <td>-1,269</td>\n",
       "      <td>-84.57%</td>\n",
       "    </tr>\n",
       "    <tr>\n",
       "      <th>3</th>\n",
       "      <td>WSF Seattle-Bain Isl</td>\n",
       "      <td>5,514</td>\n",
       "      <td>5,846</td>\n",
       "      <td>332</td>\n",
       "      <td>6.02%</td>\n",
       "    </tr>\n",
       "    <tr>\n",
       "      <th>4</th>\n",
       "      <td>WSF Seattle-Brem</td>\n",
       "      <td>1,189</td>\n",
       "      <td>236</td>\n",
       "      <td>-953</td>\n",
       "      <td>-80.17%</td>\n",
       "    </tr>\n",
       "    <tr>\n",
       "      <th>5</th>\n",
       "      <td>WSF Fauntleroy-Swrth</td>\n",
       "      <td>143</td>\n",
       "      <td>606</td>\n",
       "      <td>463</td>\n",
       "      <td>325.02%</td>\n",
       "    </tr>\n",
       "    <tr>\n",
       "      <th>6</th>\n",
       "      <td>WSF Fauntleroy-Vashn</td>\n",
       "      <td>560</td>\n",
       "      <td>833</td>\n",
       "      <td>273</td>\n",
       "      <td>48.78%</td>\n",
       "    </tr>\n",
       "    <tr>\n",
       "      <th>7</th>\n",
       "      <td>WSF Vashon-Southwrth</td>\n",
       "      <td>108</td>\n",
       "      <td>131</td>\n",
       "      <td>24</td>\n",
       "      <td>21.88%</td>\n",
       "    </tr>\n",
       "    <tr>\n",
       "      <th>8</th>\n",
       "      <td>WSF Pt Def-Tahlequah</td>\n",
       "      <td>265</td>\n",
       "      <td>202</td>\n",
       "      <td>-63</td>\n",
       "      <td>-23.83%</td>\n",
       "    </tr>\n",
       "  </tbody>\n",
       "</table>\n",
       "</div>"
      ],
      "text/plain": [
       "            description  observed_boardings  model_boardings   diff perc_diff\n",
       "0  973 W Sea Water Taxi                 759              378   -381   -50.22%\n",
       "1  975 Vashn Water Taxi                 338              518    180    53.28%\n",
       "2  WSF Edmonds-Kingston               1,500              231 -1,269   -84.57%\n",
       "3  WSF Seattle-Bain Isl               5,514            5,846    332     6.02%\n",
       "4      WSF Seattle-Brem               1,189              236   -953   -80.17%\n",
       "5  WSF Fauntleroy-Swrth                 143              606    463   325.02%\n",
       "6  WSF Fauntleroy-Vashn                 560              833    273    48.78%\n",
       "7  WSF Vashon-Southwrth                 108              131     24    21.88%\n",
       "8  WSF Pt Def-Tahlequah                 265              202    -63   -23.83%"
      ]
     },
     "execution_count": 15,
     "metadata": {},
     "output_type": "execute_result"
    }
   ],
   "source": [
    "df = pd.read_csv(os.path.join(relative_path,'validation/') + 'daily_boardings_key_routes.csv', index_col='description')\n",
    "df[['observed_boardings','model_boardings']] = df[['observed_boardings','model_boardings']].astype('float')\n",
    "_df = df[df['route_code'].isin([5001,5002,5003,5004,5005,5006,5007,1973,1975])].reset_index()\n",
    "_df.drop(['route_code','agency'], axis=1, inplace=True)\n",
    "_df[['perc_diff']] = _df[['perc_diff']].applymap(format_percent)\n",
    "_df"
   ]
  },
  {
   "cell_type": "code",
   "execution_count": 16,
   "metadata": {
    "execution": {
     "iopub.execute_input": "2024-04-03T21:14:19.746742Z",
     "iopub.status.busy": "2024-04-03T21:14:19.746742Z",
     "iopub.status.idle": "2024-04-03T21:14:19.762365Z",
     "shell.execute_reply": "2024-04-03T21:14:19.762365Z"
    }
   },
   "outputs": [
    {
     "name": "stdout",
     "output_type": "stream",
     "text": [
      "r^2 : 0.9448891178674416\n"
     ]
    },
    {
     "data": {
      "image/png": "[encoded data removed]",
      "text/plain": [
       "<Figure size 432x288 with 1 Axes>"
      ]
     },
     "metadata": {
      "needs_background": "light"
     },
     "output_type": "display_data"
    }
   ],
   "source": [
    "if len(_df) > 0:\n",
    "    ax = _df.plot(kind='scatter', x='observed_boardings', y='model_boardings')\n",
    "    lim = _df[['observed_boardings','model_boardings']].max().max()*1.05\n",
    "    ax.set_ylim(0,lim)\n",
    "    ax.set_xlim(0,lim)\n",
    "    x = np.linspace(*ax.get_xlim())\n",
    "    ax.plot(x, x)\n",
    "    slope, intercept, r_value, p_value, std_err = stats.linregress(_df['observed_boardings'],_df['model_boardings'])\n",
    "    print('r^2 ' + str('') + ': ' + str(r_value))"
   ]
  },
  {
   "cell_type": "markdown",
   "metadata": {},
   "source": [
    "#### Bikes on Ferries"
   ]
  },
  {
   "cell_type": "code",
   "execution_count": 17,
   "metadata": {
    "execution": {
     "iopub.execute_input": "2024-04-03T21:14:19.762365Z",
     "iopub.status.busy": "2024-04-03T21:14:19.762365Z",
     "iopub.status.idle": "2024-04-03T21:14:19.777985Z",
     "shell.execute_reply": "2024-04-03T21:14:19.777985Z"
    }
   },
   "outputs": [
    {
     "data": {
      "text/html": [
       "<div>\n",
       "<style scoped>\n",
       "    .dataframe tbody tr th:only-of-type {\n",
       "        vertical-align: middle;\n",
       "    }\n",
       "\n",
       "    .dataframe tbody tr th {\n",
       "        vertical-align: top;\n",
       "    }\n",
       "\n",
       "    .dataframe thead th {\n",
       "        text-align: right;\n",
       "    }\n",
       "</style>\n",
       "<table border=\"1\" class=\"dataframe\">\n",
       "  <thead>\n",
       "    <tr style=\"text-align: right;\">\n",
       "      <th></th>\n",
       "      <th>route_code</th>\n",
       "      <th>description</th>\n",
       "      <th>@bvol</th>\n",
       "    </tr>\n",
       "  </thead>\n",
       "  <tbody>\n",
       "    <tr>\n",
       "      <th>4</th>\n",
       "      <td>4202</td>\n",
       "      <td>Brem-Annapolis FF</td>\n",
       "      <td>545</td>\n",
       "    </tr>\n",
       "    <tr>\n",
       "      <th>2</th>\n",
       "      <td>4200</td>\n",
       "      <td>Seattle-Bremerton FF</td>\n",
       "      <td>473</td>\n",
       "    </tr>\n",
       "    <tr>\n",
       "      <th>0</th>\n",
       "      <td>1973</td>\n",
       "      <td>973 W Sea Water Taxi</td>\n",
       "      <td>420</td>\n",
       "    </tr>\n",
       "    <tr>\n",
       "      <th>3</th>\n",
       "      <td>4201</td>\n",
       "      <td>Brem-Pt Orchard FF</td>\n",
       "      <td>402</td>\n",
       "    </tr>\n",
       "    <tr>\n",
       "      <th>5</th>\n",
       "      <td>4203</td>\n",
       "      <td>Seattle-Kingston FF</td>\n",
       "      <td>226</td>\n",
       "    </tr>\n",
       "    <tr>\n",
       "      <th>1</th>\n",
       "      <td>1975</td>\n",
       "      <td>975 Vashn Water Taxi</td>\n",
       "      <td>214</td>\n",
       "    </tr>\n",
       "    <tr>\n",
       "      <th>11</th>\n",
       "      <td>5005</td>\n",
       "      <td>WSF Fauntleroy-Vashn</td>\n",
       "      <td>206</td>\n",
       "    </tr>\n",
       "    <tr>\n",
       "      <th>12</th>\n",
       "      <td>5007</td>\n",
       "      <td>WSF Pt Def-Tahlequah</td>\n",
       "      <td>119</td>\n",
       "    </tr>\n",
       "    <tr>\n",
       "      <th>8</th>\n",
       "      <td>5002</td>\n",
       "      <td>WSF Seattle-Bain Isl</td>\n",
       "      <td>117</td>\n",
       "    </tr>\n",
       "    <tr>\n",
       "      <th>10</th>\n",
       "      <td>5004</td>\n",
       "      <td>WSF Fauntleroy-Swrth</td>\n",
       "      <td>49</td>\n",
       "    </tr>\n",
       "    <tr>\n",
       "      <th>7</th>\n",
       "      <td>5001</td>\n",
       "      <td>WSF Edmonds-Kingston</td>\n",
       "      <td>48</td>\n",
       "    </tr>\n",
       "    <tr>\n",
       "      <th>9</th>\n",
       "      <td>5003</td>\n",
       "      <td>WSF Seattle-Brem</td>\n",
       "      <td>29</td>\n",
       "    </tr>\n",
       "    <tr>\n",
       "      <th>6</th>\n",
       "      <td>4204</td>\n",
       "      <td>Seattle-Southwrth FF</td>\n",
       "      <td>14</td>\n",
       "    </tr>\n",
       "  </tbody>\n",
       "</table>\n",
       "</div>"
      ],
      "text/plain": [
       "    route_code           description  @bvol\n",
       "4         4202     Brem-Annapolis FF    545\n",
       "2         4200  Seattle-Bremerton FF    473\n",
       "0         1973  973 W Sea Water Taxi    420\n",
       "3         4201    Brem-Pt Orchard FF    402\n",
       "5         4203   Seattle-Kingston FF    226\n",
       "1         1975  975 Vashn Water Taxi    214\n",
       "11        5005  WSF Fauntleroy-Vashn    206\n",
       "12        5007  WSF Pt Def-Tahlequah    119\n",
       "8         5002  WSF Seattle-Bain Isl    117\n",
       "10        5004  WSF Fauntleroy-Swrth     49\n",
       "7         5001  WSF Edmonds-Kingston     48\n",
       "9         5003      WSF Seattle-Brem     29\n",
       "6         4204  Seattle-Southwrth FF     14"
      ]
     },
     "execution_count": 17,
     "metadata": {},
     "output_type": "execute_result"
    }
   ],
   "source": [
    "df = pd.read_csv(os.path.join(relative_path,'validation/') + 'bike_ferry_boardings.csv')\n",
    "df['route_code'] = df['route_code'].astype('int')\n",
    "df[['route_code','description', '@bvol']].sort_values('@bvol', ascending=False)"
   ]
  },
  {
   "cell_type": "markdown",
   "metadata": {},
   "source": [
    "#### Rail"
   ]
  },
  {
   "cell_type": "code",
   "execution_count": 18,
   "metadata": {
    "execution": {
     "iopub.execute_input": "2024-04-03T21:14:19.777985Z",
     "iopub.status.busy": "2024-04-03T21:14:19.777985Z",
     "iopub.status.idle": "2024-04-03T21:14:19.809118Z",
     "shell.execute_reply": "2024-04-03T21:14:19.809118Z"
    }
   },
   "outputs": [
    {
     "data": {
      "text/html": [
       "<div>\n",
       "<style scoped>\n",
       "    .dataframe tbody tr th:only-of-type {\n",
       "        vertical-align: middle;\n",
       "    }\n",
       "\n",
       "    .dataframe tbody tr th {\n",
       "        vertical-align: top;\n",
       "    }\n",
       "\n",
       "    .dataframe thead th {\n",
       "        text-align: right;\n",
       "    }\n",
       "</style>\n",
       "<table border=\"1\" class=\"dataframe\">\n",
       "  <thead>\n",
       "    <tr style=\"text-align: right;\">\n",
       "      <th></th>\n",
       "      <th>description</th>\n",
       "      <th>observed_boardings</th>\n",
       "      <th>model_boardings</th>\n",
       "      <th>diff</th>\n",
       "      <th>perc_diff</th>\n",
       "    </tr>\n",
       "  </thead>\n",
       "  <tbody>\n",
       "    <tr>\n",
       "      <th>0</th>\n",
       "      <td>Link Red Line</td>\n",
       "      <td>79,522</td>\n",
       "      <td>64,788</td>\n",
       "      <td>-14,734</td>\n",
       "      <td>-18.53%</td>\n",
       "    </tr>\n",
       "    <tr>\n",
       "      <th>1</th>\n",
       "      <td>Sounder South</td>\n",
       "      <td>6,038</td>\n",
       "      <td>8,643</td>\n",
       "      <td>2,605</td>\n",
       "      <td>43.14%</td>\n",
       "    </tr>\n",
       "    <tr>\n",
       "      <th>2</th>\n",
       "      <td>Sounder North</td>\n",
       "      <td>316</td>\n",
       "      <td>8</td>\n",
       "      <td>-308</td>\n",
       "      <td>-97.62%</td>\n",
       "    </tr>\n",
       "  </tbody>\n",
       "</table>\n",
       "</div>"
      ],
      "text/plain": [
       "     description  observed_boardings  model_boardings    diff perc_diff\n",
       "0  Link Red Line              79,522           64,788 -14,734   -18.53%\n",
       "1  Sounder South               6,038            8,643   2,605    43.14%\n",
       "2  Sounder North                 316                8    -308   -97.62%"
      ]
     },
     "execution_count": 18,
     "metadata": {},
     "output_type": "execute_result"
    }
   ],
   "source": [
    "df = pd.read_csv(os.path.join(relative_path,'validation/') + 'daily_boardings_key_routes.csv', index_col='description')\n",
    "df[['observed_boardings','model_boardings']] = df[['observed_boardings','model_boardings']].astype('float')\n",
    "_df = df[df['route_code'].isin([6996,6999,6998])].reset_index()\n",
    "_df['description'] = _df['route_code'].map({6998: 'Sounder South', 6999: 'Sounder North',6996: 'Link Red Line'})\n",
    "_df.drop(['route_code','agency'], axis=1, inplace=True)\n",
    "_df[['perc_diff']] = _df[['perc_diff']].applymap(format_percent)\n",
    "\n",
    "_df"
   ]
  },
  {
   "cell_type": "code",
   "execution_count": 19,
   "metadata": {
    "execution": {
     "iopub.execute_input": "2024-04-03T21:14:19.811112Z",
     "iopub.status.busy": "2024-04-03T21:14:19.811112Z",
     "iopub.status.idle": "2024-04-03T21:14:19.825075Z",
     "shell.execute_reply": "2024-04-03T21:14:19.825075Z"
    }
   },
   "outputs": [
    {
     "name": "stdout",
     "output_type": "stream",
     "text": [
      "r^2 : 0.9983044812080167\n"
     ]
    },
    {
     "data": {
      "image/png": "[encoded data removed]",
      "text/plain": [
       "<Figure size 432x288 with 1 Axes>"
      ]
     },
     "metadata": {
      "needs_background": "light"
     },
     "output_type": "display_data"
    }
   ],
   "source": [
    "if len(_df) > 0: \n",
    "    ax = _df.plot(kind='scatter', x='observed_boardings', y='model_boardings')\n",
    "    lim = _df[['observed_boardings','model_boardings']].max().max()*1.05\n",
    "    ax.set_ylim(0,lim)\n",
    "    ax.set_xlim(0,lim)\n",
    "    x = np.linspace(*ax.get_xlim())\n",
    "    ax.plot(x, x)\n",
    "    slope, intercept, r_value, p_value, std_err = stats.linregress(_df['observed_boardings'],_df['model_boardings'])\n",
    "    print('r^2 ' + str('') + ': ' + str(r_value))"
   ]
  },
  {
   "cell_type": "markdown",
   "metadata": {},
   "source": [
    "#### RapidRide, Busiest Buses, Streetcar"
   ]
  },
  {
   "cell_type": "code",
   "execution_count": 20,
   "metadata": {
    "execution": {
     "iopub.execute_input": "2024-04-03T21:14:19.827183Z",
     "iopub.status.busy": "2024-04-03T21:14:19.827183Z",
     "iopub.status.idle": "2024-04-03T21:14:19.840147Z",
     "shell.execute_reply": "2024-04-03T21:14:19.840147Z"
    }
   },
   "outputs": [
    {
     "data": {
      "text/html": [
       "<div>\n",
       "<style scoped>\n",
       "    .dataframe tbody tr th:only-of-type {\n",
       "        vertical-align: middle;\n",
       "    }\n",
       "\n",
       "    .dataframe tbody tr th {\n",
       "        vertical-align: top;\n",
       "    }\n",
       "\n",
       "    .dataframe thead th {\n",
       "        text-align: right;\n",
       "    }\n",
       "</style>\n",
       "<table border=\"1\" class=\"dataframe\">\n",
       "  <thead>\n",
       "    <tr style=\"text-align: right;\">\n",
       "      <th></th>\n",
       "      <th>description</th>\n",
       "      <th>observed_boardings</th>\n",
       "      <th>model_boardings</th>\n",
       "      <th>diff</th>\n",
       "      <th>perc_diff</th>\n",
       "    </tr>\n",
       "  </thead>\n",
       "  <tbody>\n",
       "    <tr>\n",
       "      <th>6</th>\n",
       "      <td>E Line RapidRide</td>\n",
       "      <td>11,426</td>\n",
       "      <td>17,861</td>\n",
       "      <td>6,435</td>\n",
       "      <td>56.31%</td>\n",
       "    </tr>\n",
       "    <tr>\n",
       "      <th>4</th>\n",
       "      <td>C Line RapidRide</td>\n",
       "      <td>7,250</td>\n",
       "      <td>13,156</td>\n",
       "      <td>5,906</td>\n",
       "      <td>81.46%</td>\n",
       "    </tr>\n",
       "    <tr>\n",
       "      <th>0</th>\n",
       "      <td>KC Metro 7</td>\n",
       "      <td>9,954</td>\n",
       "      <td>12,604</td>\n",
       "      <td>2,650</td>\n",
       "      <td>26.62%</td>\n",
       "    </tr>\n",
       "    <tr>\n",
       "      <th>1</th>\n",
       "      <td>KC Metro 40</td>\n",
       "      <td>7,208</td>\n",
       "      <td>11,635</td>\n",
       "      <td>4,427</td>\n",
       "      <td>61.42%</td>\n",
       "    </tr>\n",
       "    <tr>\n",
       "      <th>5</th>\n",
       "      <td>D Line RapidRide</td>\n",
       "      <td>9,044</td>\n",
       "      <td>10,032</td>\n",
       "      <td>988</td>\n",
       "      <td>10.93%</td>\n",
       "    </tr>\n",
       "    <tr>\n",
       "      <th>10</th>\n",
       "      <td>Sound Transit 550</td>\n",
       "      <td>3,351</td>\n",
       "      <td>9,427</td>\n",
       "      <td>6,076</td>\n",
       "      <td>181.31%</td>\n",
       "    </tr>\n",
       "    <tr>\n",
       "      <th>2</th>\n",
       "      <td>A Line RapidRide</td>\n",
       "      <td>8,412</td>\n",
       "      <td>7,197</td>\n",
       "      <td>-1,215</td>\n",
       "      <td>-14.44%</td>\n",
       "    </tr>\n",
       "    <tr>\n",
       "      <th>7</th>\n",
       "      <td>F Line RapidRide</td>\n",
       "      <td>4,748</td>\n",
       "      <td>6,221</td>\n",
       "      <td>1,473</td>\n",
       "      <td>31.02%</td>\n",
       "    </tr>\n",
       "    <tr>\n",
       "      <th>3</th>\n",
       "      <td>B Line RapidRide</td>\n",
       "      <td>4,177</td>\n",
       "      <td>4,242</td>\n",
       "      <td>65</td>\n",
       "      <td>1.56%</td>\n",
       "    </tr>\n",
       "    <tr>\n",
       "      <th>9</th>\n",
       "      <td>First Hill Streetcar</td>\n",
       "      <td>3,900</td>\n",
       "      <td>1,702</td>\n",
       "      <td>-2,199</td>\n",
       "      <td>-56.38%</td>\n",
       "    </tr>\n",
       "    <tr>\n",
       "      <th>8</th>\n",
       "      <td>SLU Streetcar</td>\n",
       "      <td>1,050</td>\n",
       "      <td>827</td>\n",
       "      <td>-223</td>\n",
       "      <td>-21.25%</td>\n",
       "    </tr>\n",
       "  </tbody>\n",
       "</table>\n",
       "</div>"
      ],
      "text/plain": [
       "             description  observed_boardings  model_boardings   diff perc_diff\n",
       "6       E Line RapidRide              11,426           17,861  6,435    56.31%\n",
       "4       C Line RapidRide               7,250           13,156  5,906    81.46%\n",
       "0             KC Metro 7               9,954           12,604  2,650    26.62%\n",
       "1            KC Metro 40               7,208           11,635  4,427    61.42%\n",
       "5       D Line RapidRide               9,044           10,032    988    10.93%\n",
       "10     Sound Transit 550               3,351            9,427  6,076   181.31%\n",
       "2       A Line RapidRide               8,412            7,197 -1,215   -14.44%\n",
       "7       F Line RapidRide               4,748            6,221  1,473    31.02%\n",
       "3       B Line RapidRide               4,177            4,242     65     1.56%\n",
       "9   First Hill Streetcar               3,900            1,702 -2,199   -56.38%\n",
       "8          SLU Streetcar               1,050              827   -223   -21.25%"
      ]
     },
     "execution_count": 20,
     "metadata": {},
     "output_type": "execute_result"
    }
   ],
   "source": [
    "_df = df[df['route_code'].isin([1671,1672,1673,1674,1675,1676,6550,1007,1040,1997,1998])].reset_index()\n",
    "_df['description'] = _df['route_code'].map({1671: 'A Line RapidRide', 1672: 'B Line RapidRide',\n",
    "                                            1673: 'C Line RapidRide', 1674: 'D Line RapidRide',\n",
    "                                            1675: 'E Line RapidRide', 1676: 'F Line RapidRide',\n",
    "                                            6550: 'Sound Transit 550', 1040: 'KC Metro 40', 1007: 'KC Metro 7',\n",
    "                                            1997: 'SLU Streetcar', 1998: 'First Hill Streetcar'})\n",
    "_df.drop(['route_code','agency'], axis=1, inplace=True)\n",
    "_df[['perc_diff']] = _df[['perc_diff']].applymap(format_percent)\n",
    "_df.sort_values('model_boardings', ascending=False)"
   ]
  },
  {
   "cell_type": "code",
   "execution_count": 21,
   "metadata": {
    "execution": {
     "iopub.execute_input": "2024-04-03T21:14:19.842142Z",
     "iopub.status.busy": "2024-04-03T21:14:19.842142Z",
     "iopub.status.idle": "2024-04-03T21:14:19.855107Z",
     "shell.execute_reply": "2024-04-03T21:14:19.855107Z"
    }
   },
   "outputs": [
    {
     "name": "stdout",
     "output_type": "stream",
     "text": [
      "r^2 : 0.8322690169735353\n"
     ]
    },
    {
     "data": {
      "image/png": "[encoded data removed]",
      "text/plain": [
       "<Figure size 432x288 with 1 Axes>"
      ]
     },
     "metadata": {
      "needs_background": "light"
     },
     "output_type": "display_data"
    }
   ],
   "source": [
    "if len(_df) > 0: \n",
    "    ax = _df.plot(kind='scatter', x='observed_boardings', y='model_boardings')\n",
    "    lim = _df[['observed_boardings','model_boardings']].max().max()*1.05\n",
    "    ax.set_ylim(0,lim)\n",
    "    ax.set_xlim(0,lim)\n",
    "    x = np.linspace(*ax.get_xlim())\n",
    "    ax.plot(x, x)\n",
    "    slope, intercept, r_value, p_value, std_err = stats.linregress(_df['observed_boardings'],_df['model_boardings'])\n",
    "    print('r^2 ' + str('') + ': ' + str(r_value))"
   ]
  },
  {
   "cell_type": "markdown",
   "metadata": {},
   "source": [
    "---\n",
    "### Lines by Agency"
   ]
  },
  {
   "cell_type": "code",
   "execution_count": 22,
   "metadata": {
    "execution": {
     "iopub.execute_input": "2024-04-03T21:14:19.857102Z",
     "iopub.status.busy": "2024-04-03T21:14:19.857102Z",
     "iopub.status.idle": "2024-04-03T21:14:19.871567Z",
     "shell.execute_reply": "2024-04-03T21:14:19.870566Z"
    }
   },
   "outputs": [
    {
     "name": "stdout",
     "output_type": "stream",
     "text": [
      "r^2 Community Transit: 0.9276436697742224\n",
      "r^2 Everett Transit: 0.9778822822621337\n"
     ]
    },
    {
     "name": "stdout",
     "output_type": "stream",
     "text": [
      "r^2 King County Metro: 0.9338700242247481\n",
      "r^2 Kitsap Transit: 0.9293450611191234\n",
      "r^2 Pierce Transit: 0.7421755656106623\n",
      "r^2 Sound Transit: 0.9883194590253195\n",
      "r^2 Washington Ferries: 0.946708589710863\n"
     ]
    },
    {
     "data": {
      "image/png": "[encoded data removed]",
      "text/plain": [
       "<Figure size 432x288 with 1 Axes>"
      ]
     },
     "metadata": {
      "needs_background": "light"
     },
     "output_type": "display_data"
    },
    {
     "data": {
      "image/png": "[encoded data removed]",
      "text/plain": [
       "<Figure size 432x288 with 1 Axes>"
      ]
     },
     "metadata": {
      "needs_background": "light"
     },
     "output_type": "display_data"
    },
    {
     "data": {
      "image/png": "[encoded data removed]",
      "text/plain": [
       "<Figure size 432x288 with 1 Axes>"
      ]
     },
     "metadata": {
      "needs_background": "light"
     },
     "output_type": "display_data"
    },
    {
     "data": {
      "image/png": "[encoded data removed]",
      "text/plain": [
       "<Figure size 432x288 with 1 Axes>"
      ]
     },
     "metadata": {
      "needs_background": "light"
     },
     "output_type": "display_data"
    },
    {
     "data": {
      "image/png": "[encoded data removed]",
      "text/plain": [
       "<Figure size 432x288 with 1 Axes>"
      ]
     },
     "metadata": {
      "needs_background": "light"
     },
     "output_type": "display_data"
    },
    {
     "data": {
      "image/png": "[encoded data removed]",
      "text/plain": [
       "<Figure size 432x288 with 1 Axes>"
      ]
     },
     "metadata": {
      "needs_background": "light"
     },
     "output_type": "display_data"
    },
    {
     "data": {
      "image/png": "[encoded data removed]",
      "text/plain": [
       "<Figure size 432x288 with 1 Axes>"
      ]
     },
     "metadata": {
      "needs_background": "light"
     },
     "output_type": "display_data"
    }
   ],
   "source": [
    "df = pd.read_csv(os.path.join(relative_path,'validation/') + 'daily_boardings_by_line.csv', index_col='agency')\n",
    "df = df[-df['agency_id'].isnull()]\n",
    "\n",
    "for agency in np.unique(df.index):\n",
    "    _df = df.loc[agency,:]\n",
    "    if (type(_df) == pd.core.frame.DataFrame) & (len(df) > 0):\n",
    "        ax = _df.plot(kind='scatter', x='observed_boardings', y='model_boardings', label=agency)\n",
    "        lim = _df[['observed_boardings','model_boardings']].max().max()*1.05\n",
    "        ax.set_ylim(0,lim)\n",
    "        ax.set_xlim(0,lim)\n",
    "        x = np.linspace(*ax.get_xlim())\n",
    "        ax.plot(x, x)\n",
    "        slope, intercept, r_value, p_value, std_err = stats.linregress(_df['observed_boardings'],_df['model_boardings'])\n",
    "        print('r^2 ' + str(agency) + ': ' + str(r_value))"
   ]
  },
  {
   "cell_type": "markdown",
   "metadata": {},
   "source": [
    "# Light Rail Station Boardings\n",
    "----\n",
    "Red Line"
   ]
  },
  {
   "cell_type": "code",
   "execution_count": 23,
   "metadata": {
    "execution": {
     "iopub.execute_input": "2024-04-03T21:14:19.875557Z",
     "iopub.status.busy": "2024-04-03T21:14:19.874559Z",
     "iopub.status.idle": "2024-04-03T21:14:19.903106Z",
     "shell.execute_reply": "2024-04-03T21:14:19.902103Z"
    }
   },
   "outputs": [
    {
     "data": {
      "text/html": [
       "<div>\n",
       "<style scoped>\n",
       "    .dataframe tbody tr th:only-of-type {\n",
       "        vertical-align: middle;\n",
       "    }\n",
       "\n",
       "    .dataframe tbody tr th {\n",
       "        vertical-align: top;\n",
       "    }\n",
       "\n",
       "    .dataframe thead th {\n",
       "        text-align: right;\n",
       "    }\n",
       "</style>\n",
       "<table border=\"1\" class=\"dataframe\">\n",
       "  <thead>\n",
       "    <tr style=\"text-align: right;\">\n",
       "      <th></th>\n",
       "      <th>observed_boardings</th>\n",
       "      <th>model_boardings</th>\n",
       "      <th>diff</th>\n",
       "      <th>percent_diff</th>\n",
       "    </tr>\n",
       "    <tr>\n",
       "      <th>station_name</th>\n",
       "      <th></th>\n",
       "      <th></th>\n",
       "      <th></th>\n",
       "      <th></th>\n",
       "    </tr>\n",
       "  </thead>\n",
       "  <tbody>\n",
       "    <tr>\n",
       "      <th>Husky Stadium</th>\n",
       "      <td>6,134</td>\n",
       "      <td>3,574</td>\n",
       "      <td>-2,560</td>\n",
       "      <td>-41.74%</td>\n",
       "    </tr>\n",
       "    <tr>\n",
       "      <th>Westlake</th>\n",
       "      <td>8,845</td>\n",
       "      <td>7,150</td>\n",
       "      <td>-1,695</td>\n",
       "      <td>-19.17%</td>\n",
       "    </tr>\n",
       "    <tr>\n",
       "      <th>University St</th>\n",
       "      <td>4,324</td>\n",
       "      <td>4,920</td>\n",
       "      <td>596</td>\n",
       "      <td>13.78%</td>\n",
       "    </tr>\n",
       "    <tr>\n",
       "      <th>Pioneer Square</th>\n",
       "      <td>2,400</td>\n",
       "      <td>4,660</td>\n",
       "      <td>2,260</td>\n",
       "      <td>94.17%</td>\n",
       "    </tr>\n",
       "    <tr>\n",
       "      <th>Int'l District</th>\n",
       "      <td>4,399</td>\n",
       "      <td>1,641</td>\n",
       "      <td>-2,758</td>\n",
       "      <td>-62.69%</td>\n",
       "    </tr>\n",
       "    <tr>\n",
       "      <th>Capitol Hill</th>\n",
       "      <td>7,667</td>\n",
       "      <td>5,345</td>\n",
       "      <td>-2,322</td>\n",
       "      <td>-30.29%</td>\n",
       "    </tr>\n",
       "    <tr>\n",
       "      <th>Stadium</th>\n",
       "      <td>1,731</td>\n",
       "      <td>248</td>\n",
       "      <td>-1,483</td>\n",
       "      <td>-85.66%</td>\n",
       "    </tr>\n",
       "    <tr>\n",
       "      <th>SODO</th>\n",
       "      <td>1,669</td>\n",
       "      <td>1,857</td>\n",
       "      <td>188</td>\n",
       "      <td>11.28%</td>\n",
       "    </tr>\n",
       "    <tr>\n",
       "      <th>Beacon Hill</th>\n",
       "      <td>2,147</td>\n",
       "      <td>898</td>\n",
       "      <td>-1,249</td>\n",
       "      <td>-58.18%</td>\n",
       "    </tr>\n",
       "    <tr>\n",
       "      <th>Mount Baker</th>\n",
       "      <td>1,861</td>\n",
       "      <td>1,211</td>\n",
       "      <td>-650</td>\n",
       "      <td>-34.93%</td>\n",
       "    </tr>\n",
       "    <tr>\n",
       "      <th>Columbia City</th>\n",
       "      <td>1,630</td>\n",
       "      <td>1,068</td>\n",
       "      <td>-562</td>\n",
       "      <td>-34.45%</td>\n",
       "    </tr>\n",
       "    <tr>\n",
       "      <th>Othello</th>\n",
       "      <td>2,030</td>\n",
       "      <td>1,197</td>\n",
       "      <td>-833</td>\n",
       "      <td>-41.02%</td>\n",
       "    </tr>\n",
       "    <tr>\n",
       "      <th>Rainier Beach</th>\n",
       "      <td>1,495</td>\n",
       "      <td>1,163</td>\n",
       "      <td>-332</td>\n",
       "      <td>-22.24%</td>\n",
       "    </tr>\n",
       "    <tr>\n",
       "      <th>Tukwila Int'l Blvd</th>\n",
       "      <td>2,298</td>\n",
       "      <td>1,773</td>\n",
       "      <td>-525</td>\n",
       "      <td>-22.83%</td>\n",
       "    </tr>\n",
       "    <tr>\n",
       "      <th>SeaTac/Airport</th>\n",
       "      <td>4,731</td>\n",
       "      <td>5,906</td>\n",
       "      <td>1,175</td>\n",
       "      <td>24.83%</td>\n",
       "    </tr>\n",
       "    <tr>\n",
       "      <th>Angle Lake</th>\n",
       "      <td>3,865</td>\n",
       "      <td>3,619</td>\n",
       "      <td>-246</td>\n",
       "      <td>-6.36%</td>\n",
       "    </tr>\n",
       "    <tr>\n",
       "      <th>University District Station</th>\n",
       "      <td>7,563</td>\n",
       "      <td>4,598</td>\n",
       "      <td>-2,965</td>\n",
       "      <td>-39.21%</td>\n",
       "    </tr>\n",
       "    <tr>\n",
       "      <th>Roosevelt Station</th>\n",
       "      <td>4,349</td>\n",
       "      <td>7,627</td>\n",
       "      <td>3,278</td>\n",
       "      <td>75.38%</td>\n",
       "    </tr>\n",
       "    <tr>\n",
       "      <th>Northgate Station</th>\n",
       "      <td>10,384</td>\n",
       "      <td>6,333</td>\n",
       "      <td>-4,051</td>\n",
       "      <td>-39.01%</td>\n",
       "    </tr>\n",
       "    <tr>\n",
       "      <th>Total</th>\n",
       "      <td>79,522</td>\n",
       "      <td>64,788</td>\n",
       "      <td>-14,734</td>\n",
       "      <td>-18.53%</td>\n",
       "    </tr>\n",
       "  </tbody>\n",
       "</table>\n",
       "</div>"
      ],
      "text/plain": [
       "                             observed_boardings  model_boardings    diff  \\\n",
       "station_name                                                               \n",
       "Husky Stadium                             6,134            3,574  -2,560   \n",
       "Westlake                                  8,845            7,150  -1,695   \n",
       "University St                             4,324            4,920     596   \n",
       "Pioneer Square                            2,400            4,660   2,260   \n",
       "Int'l District                            4,399            1,641  -2,758   \n",
       "Capitol Hill                              7,667            5,345  -2,322   \n",
       "Stadium                                   1,731              248  -1,483   \n",
       "SODO                                      1,669            1,857     188   \n",
       "Beacon Hill                               2,147              898  -1,249   \n",
       "Mount Baker                               1,861            1,211    -650   \n",
       "Columbia City                             1,630            1,068    -562   \n",
       "Othello                                   2,030            1,197    -833   \n",
       "Rainier Beach                             1,495            1,163    -332   \n",
       "Tukwila Int'l Blvd                        2,298            1,773    -525   \n",
       "SeaTac/Airport                            4,731            5,906   1,175   \n",
       "Angle Lake                                3,865            3,619    -246   \n",
       "University District Station               7,563            4,598  -2,965   \n",
       "Roosevelt Station                         4,349            7,627   3,278   \n",
       "Northgate Station                        10,384            6,333  -4,051   \n",
       "Total                                    79,522           64,788 -14,734   \n",
       "\n",
       "                            percent_diff  \n",
       "station_name                              \n",
       "Husky Stadium                    -41.74%  \n",
       "Westlake                         -19.17%  \n",
       "University St                     13.78%  \n",
       "Pioneer Square                    94.17%  \n",
       "Int'l District                   -62.69%  \n",
       "Capitol Hill                     -30.29%  \n",
       "Stadium                          -85.66%  \n",
       "SODO                              11.28%  \n",
       "Beacon Hill                      -58.18%  \n",
       "Mount Baker                      -34.93%  \n",
       "Columbia City                    -34.45%  \n",
       "Othello                          -41.02%  \n",
       "Rainier Beach                    -22.24%  \n",
       "Tukwila Int'l Blvd               -22.83%  \n",
       "SeaTac/Airport                    24.83%  \n",
       "Angle Lake                        -6.36%  \n",
       "University District Station      -39.21%  \n",
       "Roosevelt Station                 75.38%  \n",
       "Northgate Station                -39.01%  \n",
       "Total                            -18.53%  "
      ]
     },
     "execution_count": 23,
     "metadata": {},
     "output_type": "execute_result"
    }
   ],
   "source": [
    "df = pd.read_csv(os.path.join(relative_path,'validation/') + 'light_rail_boardings.csv', index_col='station_name')\n",
    "df['diff'] = df['model_boardings']-df['observed_boardings']\n",
    "df['percent_diff'] = df['diff']/df['observed_boardings']\n",
    "df[['percent_diff']] = df[['percent_diff']].applymap(format_percent)\n",
    "df"
   ]
  },
  {
   "cell_type": "markdown",
   "metadata": {},
   "source": [
    "Sound Transit Station Groupings"
   ]
  },
  {
   "cell_type": "code",
   "execution_count": 24,
   "metadata": {
    "execution": {
     "iopub.execute_input": "2024-04-03T21:14:19.907162Z",
     "iopub.status.busy": "2024-04-03T21:14:19.906098Z",
     "iopub.status.idle": "2024-04-03T21:14:19.966531Z",
     "shell.execute_reply": "2024-04-03T21:14:19.966531Z"
    }
   },
   "outputs": [
    {
     "data": {
      "text/html": [
       "<div>\n",
       "<style scoped>\n",
       "    .dataframe tbody tr th:only-of-type {\n",
       "        vertical-align: middle;\n",
       "    }\n",
       "\n",
       "    .dataframe tbody tr th {\n",
       "        vertical-align: top;\n",
       "    }\n",
       "\n",
       "    .dataframe thead th {\n",
       "        text-align: right;\n",
       "    }\n",
       "</style>\n",
       "<table border=\"1\" class=\"dataframe\">\n",
       "  <thead>\n",
       "    <tr style=\"text-align: right;\">\n",
       "      <th></th>\n",
       "      <th>observed_boardings</th>\n",
       "      <th>model_boardings</th>\n",
       "      <th>diff</th>\n",
       "      <th>percent_diff</th>\n",
       "    </tr>\n",
       "    <tr>\n",
       "      <th>station_group</th>\n",
       "      <th></th>\n",
       "      <th></th>\n",
       "      <th></th>\n",
       "      <th></th>\n",
       "    </tr>\n",
       "  </thead>\n",
       "  <tbody>\n",
       "    <tr>\n",
       "      <th>Husky Stadium</th>\n",
       "      <td>6,134</td>\n",
       "      <td>3,574</td>\n",
       "      <td>-2,560</td>\n",
       "      <td>-41.74%</td>\n",
       "    </tr>\n",
       "    <tr>\n",
       "      <th>Capitol Hill</th>\n",
       "      <td>7,667</td>\n",
       "      <td>5,345</td>\n",
       "      <td>-2,322</td>\n",
       "      <td>-30.29%</td>\n",
       "    </tr>\n",
       "    <tr>\n",
       "      <th>Westlake/University St</th>\n",
       "      <td>13,169</td>\n",
       "      <td>12,069</td>\n",
       "      <td>-1,100</td>\n",
       "      <td>-8.35%</td>\n",
       "    </tr>\n",
       "    <tr>\n",
       "      <th>Pioneer Square/Int'l District</th>\n",
       "      <td>6,799</td>\n",
       "      <td>6,301</td>\n",
       "      <td>-498</td>\n",
       "      <td>-7.32%</td>\n",
       "    </tr>\n",
       "    <tr>\n",
       "      <th>Stadium/SODO</th>\n",
       "      <td>3,400</td>\n",
       "      <td>2,105</td>\n",
       "      <td>-1,295</td>\n",
       "      <td>-38.07%</td>\n",
       "    </tr>\n",
       "    <tr>\n",
       "      <th>Beacon Hill/Mount Baker</th>\n",
       "      <td>4,008</td>\n",
       "      <td>2,109</td>\n",
       "      <td>-1,899</td>\n",
       "      <td>-47.38%</td>\n",
       "    </tr>\n",
       "    <tr>\n",
       "      <th>Columbia City</th>\n",
       "      <td>1,630</td>\n",
       "      <td>1,068</td>\n",
       "      <td>-562</td>\n",
       "      <td>-34.45%</td>\n",
       "    </tr>\n",
       "    <tr>\n",
       "      <th>Othello/Rainier Beach</th>\n",
       "      <td>3,525</td>\n",
       "      <td>2,360</td>\n",
       "      <td>-1,165</td>\n",
       "      <td>-33.06%</td>\n",
       "    </tr>\n",
       "    <tr>\n",
       "      <th>Tukwila Int'l Blvd</th>\n",
       "      <td>2,298</td>\n",
       "      <td>1,773</td>\n",
       "      <td>-525</td>\n",
       "      <td>-22.83%</td>\n",
       "    </tr>\n",
       "    <tr>\n",
       "      <th>SeaTac/Airport</th>\n",
       "      <td>4,731</td>\n",
       "      <td>5,906</td>\n",
       "      <td>1,175</td>\n",
       "      <td>24.83%</td>\n",
       "    </tr>\n",
       "    <tr>\n",
       "      <th>Angle Lake</th>\n",
       "      <td>3,865</td>\n",
       "      <td>3,619</td>\n",
       "      <td>-246</td>\n",
       "      <td>-6.36%</td>\n",
       "    </tr>\n",
       "  </tbody>\n",
       "</table>\n",
       "</div>"
      ],
      "text/plain": [
       "                               observed_boardings  model_boardings   diff  \\\n",
       "station_group                                                               \n",
       "Husky Stadium                               6,134            3,574 -2,560   \n",
       "Capitol Hill                                7,667            5,345 -2,322   \n",
       "Westlake/University St                     13,169           12,069 -1,100   \n",
       "Pioneer Square/Int'l District               6,799            6,301   -498   \n",
       "Stadium/SODO                                3,400            2,105 -1,295   \n",
       "Beacon Hill/Mount Baker                     4,008            2,109 -1,899   \n",
       "Columbia City                               1,630            1,068   -562   \n",
       "Othello/Rainier Beach                       3,525            2,360 -1,165   \n",
       "Tukwila Int'l Blvd                          2,298            1,773   -525   \n",
       "SeaTac/Airport                              4,731            5,906  1,175   \n",
       "Angle Lake                                  3,865            3,619   -246   \n",
       "\n",
       "                              percent_diff  \n",
       "station_group                               \n",
       "Husky Stadium                      -41.74%  \n",
       "Capitol Hill                       -30.29%  \n",
       "Westlake/University St              -8.35%  \n",
       "Pioneer Square/Int'l District       -7.32%  \n",
       "Stadium/SODO                       -38.07%  \n",
       "Beacon Hill/Mount Baker            -47.38%  \n",
       "Columbia City                      -34.45%  \n",
       "Othello/Rainier Beach              -33.06%  \n",
       "Tukwila Int'l Blvd                 -22.83%  \n",
       "SeaTac/Airport                      24.83%  \n",
       "Angle Lake                          -6.36%  "
      ]
     },
     "execution_count": 24,
     "metadata": {},
     "output_type": "execute_result"
    }
   ],
   "source": [
    "df_combined = df.copy()\n",
    "\n",
    "df_combined['station_group'] = df.index\n",
    "df_combined.loc[['Westlake'],'station_group'] = 'Westlake/University St'\n",
    "df_combined.loc[['University St'],'station_group'] = 'Westlake/University St'\n",
    "\n",
    "df_combined.loc[['Pioneer Square'],'station_group'] = \"Pioneer Square/Int'l District\"\n",
    "df_combined.loc[[\"Int'l District\"],'station_group'] = \"Pioneer Square/Int'l District\"\n",
    "\n",
    "df_combined.loc[['Stadium'],'station_group'] = 'Stadium/SODO'\n",
    "df_combined.loc[['SODO'],'station_group'] = 'Stadium/SODO'\n",
    "\n",
    "df_combined.loc[['Beacon Hill'],'station_group'] = 'Beacon Hill/Mount Baker'\n",
    "df_combined.loc[['Mount Baker'],'station_group'] = 'Beacon Hill/Mount Baker'\n",
    "\n",
    "df_combined.loc[['Othello'],'station_group'] = 'Othello/Rainier Beach'\n",
    "df_combined.loc[['Rainier Beach'],'station_group'] = 'Othello/Rainier Beach'\n",
    "\n",
    "df_combined = df_combined.groupby('station_group').sum()[['observed_boardings','model_boardings']]\n",
    "df_combined['diff'] = df_combined['model_boardings']-df_combined['observed_boardings']\n",
    "df_combined['percent_diff'] = df_combined['diff']/df_combined['observed_boardings']\n",
    "df_combined[['percent_diff']] = df_combined[['percent_diff']].applymap(format_percent)\n",
    "\n",
    "df_combined.loc[['Husky Stadium','Capitol Hill','Westlake/University St',\"Pioneer Square/Int'l District\",\n",
    "                 'Stadium/SODO','Beacon Hill/Mount Baker','Columbia City','Othello/Rainier Beach',\n",
    "                \"Tukwila Int'l Blvd\",'SeaTac/Airport','Angle Lake']]"
   ]
  },
  {
   "cell_type": "markdown",
   "metadata": {},
   "source": [
    "# Stop Transfers\n",
    "\n",
    "### Light Rail"
   ]
  },
  {
   "cell_type": "code",
   "execution_count": 25,
   "metadata": {
    "execution": {
     "iopub.execute_input": "2024-04-03T21:14:19.966531Z",
     "iopub.status.busy": "2024-04-03T21:14:19.966531Z",
     "iopub.status.idle": "2024-04-03T21:14:20.013469Z",
     "shell.execute_reply": "2024-04-03T21:14:20.013469Z"
    }
   },
   "outputs": [
    {
     "data": {
      "text/html": [
       "<div>\n",
       "<style scoped>\n",
       "    .dataframe tbody tr th:only-of-type {\n",
       "        vertical-align: middle;\n",
       "    }\n",
       "\n",
       "    .dataframe tbody tr th {\n",
       "        vertical-align: top;\n",
       "    }\n",
       "\n",
       "    .dataframe thead th {\n",
       "        text-align: right;\n",
       "    }\n",
       "</style>\n",
       "<table border=\"1\" class=\"dataframe\">\n",
       "  <thead>\n",
       "    <tr style=\"text-align: right;\">\n",
       "      <th></th>\n",
       "      <th>modeled_transfer_rate</th>\n",
       "      <th>observed_transfer_rate</th>\n",
       "      <th>diff</th>\n",
       "      <th>percent_diff</th>\n",
       "    </tr>\n",
       "    <tr>\n",
       "      <th>station_name</th>\n",
       "      <th></th>\n",
       "      <th></th>\n",
       "      <th></th>\n",
       "      <th></th>\n",
       "    </tr>\n",
       "  </thead>\n",
       "  <tbody>\n",
       "    <tr>\n",
       "      <th>Husky Stadium</th>\n",
       "      <td>0.88</td>\n",
       "      <td>-99.00</td>\n",
       "      <td>99.88</td>\n",
       "      <td>-100.89%</td>\n",
       "    </tr>\n",
       "    <tr>\n",
       "      <th>Westlake</th>\n",
       "      <td>0.17</td>\n",
       "      <td>0.36</td>\n",
       "      <td>-0.19</td>\n",
       "      <td>-53.30%</td>\n",
       "    </tr>\n",
       "    <tr>\n",
       "      <th>University St</th>\n",
       "      <td>0.28</td>\n",
       "      <td>0.20</td>\n",
       "      <td>0.08</td>\n",
       "      <td>40.01%</td>\n",
       "    </tr>\n",
       "    <tr>\n",
       "      <th>Pioneer Square</th>\n",
       "      <td>0.46</td>\n",
       "      <td>0.16</td>\n",
       "      <td>0.30</td>\n",
       "      <td>191.17%</td>\n",
       "    </tr>\n",
       "    <tr>\n",
       "      <th>Int'l District</th>\n",
       "      <td>0.60</td>\n",
       "      <td>0.45</td>\n",
       "      <td>0.15</td>\n",
       "      <td>32.89%</td>\n",
       "    </tr>\n",
       "    <tr>\n",
       "      <th>Capitol Hill</th>\n",
       "      <td>0.07</td>\n",
       "      <td>-99.00</td>\n",
       "      <td>99.07</td>\n",
       "      <td>-100.07%</td>\n",
       "    </tr>\n",
       "    <tr>\n",
       "      <th>Stadium</th>\n",
       "      <td>0.43</td>\n",
       "      <td>0.12</td>\n",
       "      <td>0.31</td>\n",
       "      <td>262.52%</td>\n",
       "    </tr>\n",
       "    <tr>\n",
       "      <th>SODO</th>\n",
       "      <td>0.63</td>\n",
       "      <td>0.31</td>\n",
       "      <td>0.32</td>\n",
       "      <td>102.17%</td>\n",
       "    </tr>\n",
       "    <tr>\n",
       "      <th>Beacon Hill</th>\n",
       "      <td>0.44</td>\n",
       "      <td>0.35</td>\n",
       "      <td>0.08</td>\n",
       "      <td>23.73%</td>\n",
       "    </tr>\n",
       "    <tr>\n",
       "      <th>Mount Baker</th>\n",
       "      <td>0.47</td>\n",
       "      <td>0.32</td>\n",
       "      <td>0.15</td>\n",
       "      <td>45.03%</td>\n",
       "    </tr>\n",
       "    <tr>\n",
       "      <th>Columbia City</th>\n",
       "      <td>0.02</td>\n",
       "      <td>0.12</td>\n",
       "      <td>-0.10</td>\n",
       "      <td>-82.57%</td>\n",
       "    </tr>\n",
       "    <tr>\n",
       "      <th>Othello</th>\n",
       "      <td>0.08</td>\n",
       "      <td>0.12</td>\n",
       "      <td>-0.05</td>\n",
       "      <td>-37.32%</td>\n",
       "    </tr>\n",
       "    <tr>\n",
       "      <th>Rainier Beach</th>\n",
       "      <td>0.37</td>\n",
       "      <td>0.36</td>\n",
       "      <td>0.01</td>\n",
       "      <td>2.45%</td>\n",
       "    </tr>\n",
       "    <tr>\n",
       "      <th>Tukwila Int'l Blvd</th>\n",
       "      <td>0.58</td>\n",
       "      <td>0.26</td>\n",
       "      <td>0.31</td>\n",
       "      <td>117.96%</td>\n",
       "    </tr>\n",
       "    <tr>\n",
       "      <th>SeaTac/Airport</th>\n",
       "      <td>0.11</td>\n",
       "      <td>0.26</td>\n",
       "      <td>-0.15</td>\n",
       "      <td>-58.58%</td>\n",
       "    </tr>\n",
       "    <tr>\n",
       "      <th>Angle Lake</th>\n",
       "      <td>0.17</td>\n",
       "      <td>-99.00</td>\n",
       "      <td>99.17</td>\n",
       "      <td>-100.17%</td>\n",
       "    </tr>\n",
       "    <tr>\n",
       "      <th>University District Station</th>\n",
       "      <td>0.24</td>\n",
       "      <td>-99.00</td>\n",
       "      <td>99.24</td>\n",
       "      <td>-100.24%</td>\n",
       "    </tr>\n",
       "    <tr>\n",
       "      <th>Roosevelt Station</th>\n",
       "      <td>0.42</td>\n",
       "      <td>-99.00</td>\n",
       "      <td>99.42</td>\n",
       "      <td>-100.43%</td>\n",
       "    </tr>\n",
       "    <tr>\n",
       "      <th>Northgate Station</th>\n",
       "      <td>0.79</td>\n",
       "      <td>-99.00</td>\n",
       "      <td>99.79</td>\n",
       "      <td>-100.80%</td>\n",
       "    </tr>\n",
       "  </tbody>\n",
       "</table>\n",
       "</div>"
      ],
      "text/plain": [
       "                             modeled_transfer_rate  observed_transfer_rate  \\\n",
       "station_name                                                                 \n",
       "Husky Stadium                                 0.88                  -99.00   \n",
       "Westlake                                      0.17                    0.36   \n",
       "University St                                 0.28                    0.20   \n",
       "Pioneer Square                                0.46                    0.16   \n",
       "Int'l District                                0.60                    0.45   \n",
       "Capitol Hill                                  0.07                  -99.00   \n",
       "Stadium                                       0.43                    0.12   \n",
       "SODO                                          0.63                    0.31   \n",
       "Beacon Hill                                   0.44                    0.35   \n",
       "Mount Baker                                   0.47                    0.32   \n",
       "Columbia City                                 0.02                    0.12   \n",
       "Othello                                       0.08                    0.12   \n",
       "Rainier Beach                                 0.37                    0.36   \n",
       "Tukwila Int'l Blvd                            0.58                    0.26   \n",
       "SeaTac/Airport                                0.11                    0.26   \n",
       "Angle Lake                                    0.17                  -99.00   \n",
       "University District Station                   0.24                  -99.00   \n",
       "Roosevelt Station                             0.42                  -99.00   \n",
       "Northgate Station                             0.79                  -99.00   \n",
       "\n",
       "                             diff percent_diff  \n",
       "station_name                                    \n",
       "Husky Stadium               99.88     -100.89%  \n",
       "Westlake                    -0.19      -53.30%  \n",
       "University St                0.08       40.01%  \n",
       "Pioneer Square               0.30      191.17%  \n",
       "Int'l District               0.15       32.89%  \n",
       "Capitol Hill                99.07     -100.07%  \n",
       "Stadium                      0.31      262.52%  \n",
       "SODO                         0.32      102.17%  \n",
       "Beacon Hill                  0.08       23.73%  \n",
       "Mount Baker                  0.15       45.03%  \n",
       "Columbia City               -0.10      -82.57%  \n",
       "Othello                     -0.05      -37.32%  \n",
       "Rainier Beach                0.01        2.45%  \n",
       "Tukwila Int'l Blvd           0.31      117.96%  \n",
       "SeaTac/Airport              -0.15      -58.58%  \n",
       "Angle Lake                  99.17     -100.17%  \n",
       "University District Station 99.24     -100.24%  \n",
       "Roosevelt Station           99.42     -100.43%  \n",
       "Northgate Station           99.79     -100.80%  "
      ]
     },
     "execution_count": 25,
     "metadata": {},
     "output_type": "execute_result"
    }
   ],
   "source": [
    "df = pd.read_csv(os.path.join(relative_path,'validation/') + 'light_rail_transfers.csv', index_col='station_name')\n",
    "pd.options.display.float_format = '{:0,.2f}'.format\n",
    "df[['percent_diff']] = df[['percent_diff']].applymap(format_percent)\n",
    "df"
   ]
  },
  {
   "cell_type": "markdown",
   "metadata": {},
   "source": [
    "# Externals"
   ]
  },
  {
   "cell_type": "code",
   "execution_count": 26,
   "metadata": {
    "execution": {
     "iopub.execute_input": "2024-04-03T21:14:20.013469Z",
     "iopub.status.busy": "2024-04-03T21:14:20.013469Z",
     "iopub.status.idle": "2024-04-03T21:14:20.075904Z",
     "shell.execute_reply": "2024-04-03T21:14:20.075904Z"
    }
   },
   "outputs": [
    {
     "data": {
      "text/html": [
       "<div>\n",
       "<style scoped>\n",
       "    .dataframe tbody tr th:only-of-type {\n",
       "        vertical-align: middle;\n",
       "    }\n",
       "\n",
       "    .dataframe tbody tr th {\n",
       "        vertical-align: top;\n",
       "    }\n",
       "\n",
       "    .dataframe thead th {\n",
       "        text-align: right;\n",
       "    }\n",
       "</style>\n",
       "<table border=\"1\" class=\"dataframe\">\n",
       "  <thead>\n",
       "    <tr style=\"text-align: right;\">\n",
       "      <th></th>\n",
       "      <th>external_station</th>\n",
       "      <th>county</th>\n",
       "      <th>observed</th>\n",
       "      <th>modeled</th>\n",
       "      <th>diff</th>\n",
       "      <th>percent_diff</th>\n",
       "    </tr>\n",
       "    <tr>\n",
       "      <th>location</th>\n",
       "      <th></th>\n",
       "      <th></th>\n",
       "      <th></th>\n",
       "      <th></th>\n",
       "      <th></th>\n",
       "      <th></th>\n",
       "    </tr>\n",
       "  </thead>\n",
       "  <tbody>\n",
       "    <tr>\n",
       "      <th>I-5 to Olympia</th>\n",
       "      <td>3733</td>\n",
       "      <td>Pierce</td>\n",
       "      <td>132,000</td>\n",
       "      <td>91,793</td>\n",
       "      <td>-40,207</td>\n",
       "      <td>-30.46%</td>\n",
       "    </tr>\n",
       "    <tr>\n",
       "      <th>I-5 to Mount Vernon</th>\n",
       "      <td>3744</td>\n",
       "      <td>Snohomish</td>\n",
       "      <td>64,400</td>\n",
       "      <td>48,003</td>\n",
       "      <td>-16,397</td>\n",
       "      <td>-25.46%</td>\n",
       "    </tr>\n",
       "    <tr>\n",
       "      <th>I-90 @ Snoqualmie Pass</th>\n",
       "      <td>3739</td>\n",
       "      <td>King</td>\n",
       "      <td>33,800</td>\n",
       "      <td>30,737</td>\n",
       "      <td>-3,063</td>\n",
       "      <td>-9.06%</td>\n",
       "    </tr>\n",
       "    <tr>\n",
       "      <th>SR-507 to Yelm</th>\n",
       "      <td>3734</td>\n",
       "      <td>Pierce</td>\n",
       "      <td>21,800</td>\n",
       "      <td>15,064</td>\n",
       "      <td>-6,736</td>\n",
       "      <td>-30.90%</td>\n",
       "    </tr>\n",
       "    <tr>\n",
       "      <th>SR-532 to Camano Island</th>\n",
       "      <td>3746</td>\n",
       "      <td>Snohomish</td>\n",
       "      <td>20,700</td>\n",
       "      <td>15,013</td>\n",
       "      <td>-5,687</td>\n",
       "      <td>-27.47%</td>\n",
       "    </tr>\n",
       "    <tr>\n",
       "      <th>SR-3 to Belfair</th>\n",
       "      <td>3749</td>\n",
       "      <td>Kitsap</td>\n",
       "      <td>18,400</td>\n",
       "      <td>5,685</td>\n",
       "      <td>-12,715</td>\n",
       "      <td>-69.10%</td>\n",
       "    </tr>\n",
       "    <tr>\n",
       "      <th>Hood Canal Bridge</th>\n",
       "      <td>3748</td>\n",
       "      <td>Kitsap</td>\n",
       "      <td>17,600</td>\n",
       "      <td>13,333</td>\n",
       "      <td>-4,267</td>\n",
       "      <td>-24.24%</td>\n",
       "    </tr>\n",
       "    <tr>\n",
       "      <th>SR-530 N/O Stanwood</th>\n",
       "      <td>3745</td>\n",
       "      <td>Snohomish</td>\n",
       "      <td>9,100</td>\n",
       "      <td>5,185</td>\n",
       "      <td>-3,915</td>\n",
       "      <td>-43.03%</td>\n",
       "    </tr>\n",
       "    <tr>\n",
       "      <th>Mukilteo-Clinton Ferry</th>\n",
       "      <td>3747</td>\n",
       "      <td>Snohomish</td>\n",
       "      <td>6,050</td>\n",
       "      <td>5,935</td>\n",
       "      <td>-115</td>\n",
       "      <td>-1.89%</td>\n",
       "    </tr>\n",
       "    <tr>\n",
       "      <th>SR-2 @ Stevens Pass</th>\n",
       "      <td>3740</td>\n",
       "      <td>King</td>\n",
       "      <td>4,600</td>\n",
       "      <td>11,858</td>\n",
       "      <td>7,258</td>\n",
       "      <td>157.77%</td>\n",
       "    </tr>\n",
       "    <tr>\n",
       "      <th>SR-302 to Shelton</th>\n",
       "      <td>3750</td>\n",
       "      <td>Pierce</td>\n",
       "      <td>4,200</td>\n",
       "      <td>12,378</td>\n",
       "      <td>8,178</td>\n",
       "      <td>194.71%</td>\n",
       "    </tr>\n",
       "    <tr>\n",
       "      <th>SR-7 to Morton</th>\n",
       "      <td>3735</td>\n",
       "      <td>Pierce</td>\n",
       "      <td>2,800</td>\n",
       "      <td>1,164</td>\n",
       "      <td>-1,636</td>\n",
       "      <td>-58.42%</td>\n",
       "    </tr>\n",
       "    <tr>\n",
       "      <th>SR-530 N/O Darrington</th>\n",
       "      <td>3742</td>\n",
       "      <td>Snohomish</td>\n",
       "      <td>2,100</td>\n",
       "      <td>372</td>\n",
       "      <td>-1,728</td>\n",
       "      <td>-82.27%</td>\n",
       "    </tr>\n",
       "    <tr>\n",
       "      <th>SR-706 to Longmire</th>\n",
       "      <td>3736</td>\n",
       "      <td>Pierce</td>\n",
       "      <td>1,800</td>\n",
       "      <td>348</td>\n",
       "      <td>-1,452</td>\n",
       "      <td>-80.65%</td>\n",
       "    </tr>\n",
       "    <tr>\n",
       "      <th>SR-9 N/O Arlington</th>\n",
       "      <td>3743</td>\n",
       "      <td>Snohomish</td>\n",
       "      <td>1,500</td>\n",
       "      <td>5,040</td>\n",
       "      <td>3,540</td>\n",
       "      <td>236.00%</td>\n",
       "    </tr>\n",
       "    <tr>\n",
       "      <th>SR-123 S/O Cayuse Pass</th>\n",
       "      <td>3737</td>\n",
       "      <td>Pierce</td>\n",
       "      <td>1,100</td>\n",
       "      <td>590</td>\n",
       "      <td>-510</td>\n",
       "      <td>-46.34%</td>\n",
       "    </tr>\n",
       "    <tr>\n",
       "      <th>SR 410 E/O Cayuse Pass</th>\n",
       "      <td>3738</td>\n",
       "      <td>Pierce</td>\n",
       "      <td>1,000</td>\n",
       "      <td>280</td>\n",
       "      <td>-720</td>\n",
       "      <td>-72.04%</td>\n",
       "    </tr>\n",
       "    <tr>\n",
       "      <th>SR-92 to Monte Carlo</th>\n",
       "      <td>3741</td>\n",
       "      <td>Snohomish</td>\n",
       "      <td>90</td>\n",
       "      <td>90</td>\n",
       "      <td>-0</td>\n",
       "      <td>-0.44%</td>\n",
       "    </tr>\n",
       "    <tr>\n",
       "      <th>Total</th>\n",
       "      <td></td>\n",
       "      <td>NaN</td>\n",
       "      <td>343,040</td>\n",
       "      <td>262,867</td>\n",
       "      <td>-80,173</td>\n",
       "      <td>-23.37%</td>\n",
       "    </tr>\n",
       "  </tbody>\n",
       "</table>\n",
       "</div>"
      ],
      "text/plain": [
       "                        external_station     county  observed  modeled  \\\n",
       "location                                                                 \n",
       "I-5 to Olympia                      3733     Pierce   132,000   91,793   \n",
       "I-5 to Mount Vernon                 3744  Snohomish    64,400   48,003   \n",
       "I-90 @ Snoqualmie Pass              3739       King    33,800   30,737   \n",
       "SR-507 to Yelm                      3734     Pierce    21,800   15,064   \n",
       "SR-532 to Camano Island             3746  Snohomish    20,700   15,013   \n",
       "SR-3 to Belfair                     3749     Kitsap    18,400    5,685   \n",
       "Hood Canal Bridge                   3748     Kitsap    17,600   13,333   \n",
       "SR-530 N/O Stanwood                 3745  Snohomish     9,100    5,185   \n",
       "Mukilteo-Clinton Ferry              3747  Snohomish     6,050    5,935   \n",
       "SR-2 @ Stevens Pass                 3740       King     4,600   11,858   \n",
       "SR-302 to Shelton                   3750     Pierce     4,200   12,378   \n",
       "SR-7 to Morton                      3735     Pierce     2,800    1,164   \n",
       "SR-530 N/O Darrington               3742  Snohomish     2,100      372   \n",
       "SR-706 to Longmire                  3736     Pierce     1,800      348   \n",
       "SR-9 N/O Arlington                  3743  Snohomish     1,500    5,040   \n",
       "SR-123 S/O Cayuse Pass              3737     Pierce     1,100      590   \n",
       "SR 410 E/O Cayuse Pass              3738     Pierce     1,000      280   \n",
       "SR-92 to Monte Carlo                3741  Snohomish        90       90   \n",
       "Total                                           NaN   343,040  262,867   \n",
       "\n",
       "                           diff percent_diff  \n",
       "location                                      \n",
       "I-5 to Olympia          -40,207      -30.46%  \n",
       "I-5 to Mount Vernon     -16,397      -25.46%  \n",
       "I-90 @ Snoqualmie Pass   -3,063       -9.06%  \n",
       "SR-507 to Yelm           -6,736      -30.90%  \n",
       "SR-532 to Camano Island  -5,687      -27.47%  \n",
       "SR-3 to Belfair         -12,715      -69.10%  \n",
       "Hood Canal Bridge        -4,267      -24.24%  \n",
       "SR-530 N/O Stanwood      -3,915      -43.03%  \n",
       "Mukilteo-Clinton Ferry     -115       -1.89%  \n",
       "SR-2 @ Stevens Pass       7,258      157.77%  \n",
       "SR-302 to Shelton         8,178      194.71%  \n",
       "SR-7 to Morton           -1,636      -58.42%  \n",
       "SR-530 N/O Darrington    -1,728      -82.27%  \n",
       "SR-706 to Longmire       -1,452      -80.65%  \n",
       "SR-9 N/O Arlington        3,540      236.00%  \n",
       "SR-123 S/O Cayuse Pass     -510      -46.34%  \n",
       "SR 410 E/O Cayuse Pass     -720      -72.04%  \n",
       "SR-92 to Monte Carlo         -0       -0.44%  \n",
       "Total                   -80,173      -23.37%  "
      ]
     },
     "execution_count": 26,
     "metadata": {},
     "output_type": "execute_result"
    }
   ],
   "source": [
    "df = pd.read_csv(os.path.join(relative_path,'validation/') + 'external_volumes.csv', index_col='location')\n",
    "\n",
    "pd.options.display.float_format = '{:0,.0f}'.format\n",
    "df = df.drop('diff', axis=1)\n",
    "df['diff'] = df['modeled']-df['observed']\n",
    "df = df.fillna(0)\n",
    "df.loc['Total',['observed','modeled','diff']] = df[['observed','modeled','diff']].sum()\n",
    "df['percent_diff'] = df['diff']/df['observed']\n",
    "df[['percent_diff']] = df[['percent_diff']].applymap(format_percent)\n",
    "\n",
    "df[['external_station']] = df[['external_station']].applymap('{:0.0f}'.format)\n",
    "df.replace('nan', '', regex=True)"
   ]
  },
  {
   "cell_type": "markdown",
   "metadata": {},
   "source": [
    "# Corridor Speed"
   ]
  },
  {
   "cell_type": "code",
   "execution_count": 27,
   "metadata": {
    "execution": {
     "iopub.execute_input": "2024-04-03T21:14:20.075904Z",
     "iopub.status.busy": "2024-04-03T21:14:20.075904Z",
     "iopub.status.idle": "2024-04-03T21:14:20.247389Z",
     "shell.execute_reply": "2024-04-03T21:14:20.247389Z"
    }
   },
   "outputs": [
    {
     "data": {
      "text/plain": [
       "<AxesSubplot:xlabel='observed_speed', ylabel='model_speed'>"
      ]
     },
     "execution_count": 27,
     "metadata": {},
     "output_type": "execute_result"
    },
    {
     "data": {
      "image/png": "[encoded data removed]",
      "text/plain": [
       "<Figure size 432x288 with 1 Axes>"
      ]
     },
     "metadata": {
      "needs_background": "light"
     },
     "output_type": "display_data"
    }
   ],
   "source": [
    "df = pd.read_csv(os.path.join(relative_path,'validation/') + 'corridor_speeds.csv')\n",
    "df.plot(kind='scatter', y='model_speed', x='observed_speed')"
   ]
  },
  {
   "cell_type": "markdown",
   "metadata": {},
   "source": [
    "### AM Peak, Primary Corridors"
   ]
  },
  {
   "cell_type": "code",
   "execution_count": 28,
   "metadata": {
    "execution": {
     "iopub.execute_input": "2024-04-03T21:14:20.247389Z",
     "iopub.status.busy": "2024-04-03T21:14:20.247389Z",
     "iopub.status.idle": "2024-04-03T21:14:20.434846Z",
     "shell.execute_reply": "2024-04-03T21:14:20.434846Z"
    }
   },
   "outputs": [
    {
     "data": {
      "text/plain": [
       "<AxesSubplot:xlabel='observed_speed', ylabel='model_speed'>"
      ]
     },
     "execution_count": 28,
     "metadata": {},
     "output_type": "execute_result"
    },
    {
     "data": {
      "image/png": "[encoded data removed]",
      "text/plain": [
       "<Figure size 432x288 with 1 Axes>"
      ]
     },
     "metadata": {
      "needs_background": "light"
     },
     "output_type": "display_data"
    }
   ],
   "source": [
    "df[df['tod'] == '7to8'].plot(kind='scatter', x='observed_speed', y='model_speed')"
   ]
  },
  {
   "cell_type": "code",
   "execution_count": 29,
   "metadata": {
    "execution": {
     "iopub.execute_input": "2024-04-03T21:14:20.434846Z",
     "iopub.status.busy": "2024-04-03T21:14:20.434846Z",
     "iopub.status.idle": "2024-04-03T21:14:20.466088Z",
     "shell.execute_reply": "2024-04-03T21:14:20.466088Z"
    }
   },
   "outputs": [
    {
     "data": {
      "text/html": [
       "<div>\n",
       "<style scoped>\n",
       "    .dataframe tbody tr th:only-of-type {\n",
       "        vertical-align: middle;\n",
       "    }\n",
       "\n",
       "    .dataframe tbody tr th {\n",
       "        vertical-align: top;\n",
       "    }\n",
       "\n",
       "    .dataframe thead th {\n",
       "        text-align: right;\n",
       "    }\n",
       "</style>\n",
       "<table border=\"1\" class=\"dataframe\">\n",
       "  <thead>\n",
       "    <tr style=\"text-align: right;\">\n",
       "      <th></th>\n",
       "      <th>Corridor_Description</th>\n",
       "      <th>model_speed</th>\n",
       "      <th>observed_speed</th>\n",
       "    </tr>\n",
       "  </thead>\n",
       "  <tbody>\n",
       "    <tr>\n",
       "      <th>6</th>\n",
       "      <td>Seattle to Everett - NB</td>\n",
       "      <td>45</td>\n",
       "      <td>58</td>\n",
       "    </tr>\n",
       "    <tr>\n",
       "      <th>15</th>\n",
       "      <td>Everett to Seattle - SB</td>\n",
       "      <td>29</td>\n",
       "      <td>27</td>\n",
       "    </tr>\n",
       "    <tr>\n",
       "      <th>24</th>\n",
       "      <td>Tacoma to Seattle - NB</td>\n",
       "      <td>29</td>\n",
       "      <td>24</td>\n",
       "    </tr>\n",
       "    <tr>\n",
       "      <th>33</th>\n",
       "      <td>Seattle to Tacoma - SB</td>\n",
       "      <td>45</td>\n",
       "      <td>58</td>\n",
       "    </tr>\n",
       "    <tr>\n",
       "      <th>42</th>\n",
       "      <td>Bellevue to Lynnwood - NB</td>\n",
       "      <td>47</td>\n",
       "      <td>57</td>\n",
       "    </tr>\n",
       "    <tr>\n",
       "      <th>51</th>\n",
       "      <td>Lynnwood to Bellevue - SB</td>\n",
       "      <td>28</td>\n",
       "      <td>22</td>\n",
       "    </tr>\n",
       "    <tr>\n",
       "      <th>60</th>\n",
       "      <td>Tukwila to Bellevue - NB</td>\n",
       "      <td>26</td>\n",
       "      <td>20</td>\n",
       "    </tr>\n",
       "    <tr>\n",
       "      <th>69</th>\n",
       "      <td>Bellevue to Tukwila - SB</td>\n",
       "      <td>31</td>\n",
       "      <td>43</td>\n",
       "    </tr>\n",
       "    <tr>\n",
       "      <th>78</th>\n",
       "      <td>Auburn to Renton - NB</td>\n",
       "      <td>31</td>\n",
       "      <td>22</td>\n",
       "    </tr>\n",
       "    <tr>\n",
       "      <th>87</th>\n",
       "      <td>Renton to Auburn - SB</td>\n",
       "      <td>51</td>\n",
       "      <td>55</td>\n",
       "    </tr>\n",
       "    <tr>\n",
       "      <th>96</th>\n",
       "      <td>Redmond to Seattle - WB</td>\n",
       "      <td>33</td>\n",
       "      <td>40</td>\n",
       "    </tr>\n",
       "    <tr>\n",
       "      <th>105</th>\n",
       "      <td>Seattle to Redmond - EB</td>\n",
       "      <td>45</td>\n",
       "      <td>53</td>\n",
       "    </tr>\n",
       "    <tr>\n",
       "      <th>114</th>\n",
       "      <td>Redmond to Bellevue - WB</td>\n",
       "      <td>38</td>\n",
       "      <td>46</td>\n",
       "    </tr>\n",
       "    <tr>\n",
       "      <th>123</th>\n",
       "      <td>Bellevue to Redmond - EB</td>\n",
       "      <td>43</td>\n",
       "      <td>52</td>\n",
       "    </tr>\n",
       "    <tr>\n",
       "      <th>132</th>\n",
       "      <td>Issaquah to Bellevue - WB</td>\n",
       "      <td>35</td>\n",
       "      <td>35</td>\n",
       "    </tr>\n",
       "    <tr>\n",
       "      <th>141</th>\n",
       "      <td>Bellevue to Issaquah - EB</td>\n",
       "      <td>50</td>\n",
       "      <td>58</td>\n",
       "    </tr>\n",
       "    <tr>\n",
       "      <th>150</th>\n",
       "      <td>Seattle to Bellevue via 520 - WB</td>\n",
       "      <td>39</td>\n",
       "      <td>52</td>\n",
       "    </tr>\n",
       "    <tr>\n",
       "      <th>159</th>\n",
       "      <td>Bellevue to Seattle via 520 - EB</td>\n",
       "      <td>27</td>\n",
       "      <td>37</td>\n",
       "    </tr>\n",
       "    <tr>\n",
       "      <th>168</th>\n",
       "      <td>Bellevue to Seattle via 90 - WB</td>\n",
       "      <td>25</td>\n",
       "      <td>23</td>\n",
       "    </tr>\n",
       "    <tr>\n",
       "      <th>177</th>\n",
       "      <td>Seattle to Bellevue via 90 - EB</td>\n",
       "      <td>33</td>\n",
       "      <td>41</td>\n",
       "    </tr>\n",
       "  </tbody>\n",
       "</table>\n",
       "</div>"
      ],
      "text/plain": [
       "                 Corridor_Description  model_speed  observed_speed\n",
       "6             Seattle to Everett - NB           45              58\n",
       "15            Everett to Seattle - SB           29              27\n",
       "24             Tacoma to Seattle - NB           29              24\n",
       "33             Seattle to Tacoma - SB           45              58\n",
       "42          Bellevue to Lynnwood - NB           47              57\n",
       "51          Lynnwood to Bellevue - SB           28              22\n",
       "60           Tukwila to Bellevue - NB           26              20\n",
       "69           Bellevue to Tukwila - SB           31              43\n",
       "78              Auburn to Renton - NB           31              22\n",
       "87              Renton to Auburn - SB           51              55\n",
       "96            Redmond to Seattle - WB           33              40\n",
       "105           Seattle to Redmond - EB           45              53\n",
       "114          Redmond to Bellevue - WB           38              46\n",
       "123          Bellevue to Redmond - EB           43              52\n",
       "132         Issaquah to Bellevue - WB           35              35\n",
       "141         Bellevue to Issaquah - EB           50              58\n",
       "150  Seattle to Bellevue via 520 - WB           39              52\n",
       "159  Bellevue to Seattle via 520 - EB           27              37\n",
       "168   Bellevue to Seattle via 90 - WB           25              23\n",
       "177   Seattle to Bellevue via 90 - EB           33              41"
      ]
     },
     "execution_count": 29,
     "metadata": {},
     "output_type": "execute_result"
    }
   ],
   "source": [
    "# Show daily AM and PM peaks by corridor\n",
    "df[df['tod'] == '7to8'][['Corridor_Description','model_speed','observed_speed']].head(20)"
   ]
  },
  {
   "cell_type": "markdown",
   "metadata": {},
   "source": [
    "### PM Peak, Primary Corridors"
   ]
  },
  {
   "cell_type": "code",
   "execution_count": 30,
   "metadata": {
    "execution": {
     "iopub.execute_input": "2024-04-03T21:14:20.466088Z",
     "iopub.status.busy": "2024-04-03T21:14:20.466088Z",
     "iopub.status.idle": "2024-04-03T21:14:20.669168Z",
     "shell.execute_reply": "2024-04-03T21:14:20.669168Z"
    }
   },
   "outputs": [
    {
     "data": {
      "text/plain": [
       "<AxesSubplot:xlabel='observed_speed', ylabel='model_speed'>"
      ]
     },
     "execution_count": 30,
     "metadata": {},
     "output_type": "execute_result"
    },
    {
     "data": {
      "image/png": "[encoded data removed]",
      "text/plain": [
       "<Figure size 432x288 with 1 Axes>"
      ]
     },
     "metadata": {
      "needs_background": "light"
     },
     "output_type": "display_data"
    }
   ],
   "source": [
    "df[df['tod'] == '16to17'].plot(kind='scatter', x='observed_speed', y='model_speed')"
   ]
  },
  {
   "cell_type": "code",
   "execution_count": 31,
   "metadata": {
    "execution": {
     "iopub.execute_input": "2024-04-03T21:14:20.669168Z",
     "iopub.status.busy": "2024-04-03T21:14:20.669168Z",
     "iopub.status.idle": "2024-04-03T21:14:20.700409Z",
     "shell.execute_reply": "2024-04-03T21:14:20.700409Z"
    }
   },
   "outputs": [
    {
     "data": {
      "text/html": [
       "<div>\n",
       "<style scoped>\n",
       "    .dataframe tbody tr th:only-of-type {\n",
       "        vertical-align: middle;\n",
       "    }\n",
       "\n",
       "    .dataframe tbody tr th {\n",
       "        vertical-align: top;\n",
       "    }\n",
       "\n",
       "    .dataframe thead th {\n",
       "        text-align: right;\n",
       "    }\n",
       "</style>\n",
       "<table border=\"1\" class=\"dataframe\">\n",
       "  <thead>\n",
       "    <tr style=\"text-align: right;\">\n",
       "      <th></th>\n",
       "      <th>Corridor_Description</th>\n",
       "      <th>model_speed</th>\n",
       "      <th>observed_speed</th>\n",
       "    </tr>\n",
       "  </thead>\n",
       "  <tbody>\n",
       "    <tr>\n",
       "      <th>1</th>\n",
       "      <td>Seattle to Everett - NB</td>\n",
       "      <td>32</td>\n",
       "      <td>23</td>\n",
       "    </tr>\n",
       "    <tr>\n",
       "      <th>10</th>\n",
       "      <td>Everett to Seattle - SB</td>\n",
       "      <td>43</td>\n",
       "      <td>28</td>\n",
       "    </tr>\n",
       "    <tr>\n",
       "      <th>19</th>\n",
       "      <td>Tacoma to Seattle - NB</td>\n",
       "      <td>46</td>\n",
       "      <td>43</td>\n",
       "    </tr>\n",
       "    <tr>\n",
       "      <th>28</th>\n",
       "      <td>Seattle to Tacoma - SB</td>\n",
       "      <td>32</td>\n",
       "      <td>25</td>\n",
       "    </tr>\n",
       "    <tr>\n",
       "      <th>37</th>\n",
       "      <td>Bellevue to Lynnwood - NB</td>\n",
       "      <td>31</td>\n",
       "      <td>26</td>\n",
       "    </tr>\n",
       "    <tr>\n",
       "      <th>46</th>\n",
       "      <td>Lynnwood to Bellevue - SB</td>\n",
       "      <td>43</td>\n",
       "      <td>40</td>\n",
       "    </tr>\n",
       "    <tr>\n",
       "      <th>55</th>\n",
       "      <td>Tukwila to Bellevue - NB</td>\n",
       "      <td>33</td>\n",
       "      <td>29</td>\n",
       "    </tr>\n",
       "    <tr>\n",
       "      <th>64</th>\n",
       "      <td>Bellevue to Tukwila - SB</td>\n",
       "      <td>28</td>\n",
       "      <td>19</td>\n",
       "    </tr>\n",
       "    <tr>\n",
       "      <th>73</th>\n",
       "      <td>Auburn to Renton - NB</td>\n",
       "      <td>51</td>\n",
       "      <td>44</td>\n",
       "    </tr>\n",
       "    <tr>\n",
       "      <th>82</th>\n",
       "      <td>Renton to Auburn - SB</td>\n",
       "      <td>35</td>\n",
       "      <td>34</td>\n",
       "    </tr>\n",
       "    <tr>\n",
       "      <th>91</th>\n",
       "      <td>Redmond to Seattle - WB</td>\n",
       "      <td>44</td>\n",
       "      <td>23</td>\n",
       "    </tr>\n",
       "    <tr>\n",
       "      <th>100</th>\n",
       "      <td>Seattle to Redmond - EB</td>\n",
       "      <td>40</td>\n",
       "      <td>35</td>\n",
       "    </tr>\n",
       "    <tr>\n",
       "      <th>109</th>\n",
       "      <td>Redmond to Bellevue - WB</td>\n",
       "      <td>42</td>\n",
       "      <td>27</td>\n",
       "    </tr>\n",
       "    <tr>\n",
       "      <th>118</th>\n",
       "      <td>Bellevue to Redmond - EB</td>\n",
       "      <td>41</td>\n",
       "      <td>23</td>\n",
       "    </tr>\n",
       "    <tr>\n",
       "      <th>127</th>\n",
       "      <td>Issaquah to Bellevue - WB</td>\n",
       "      <td>48</td>\n",
       "      <td>40</td>\n",
       "    </tr>\n",
       "    <tr>\n",
       "      <th>136</th>\n",
       "      <td>Bellevue to Issaquah - EB</td>\n",
       "      <td>40</td>\n",
       "      <td>25</td>\n",
       "    </tr>\n",
       "    <tr>\n",
       "      <th>145</th>\n",
       "      <td>Seattle to Bellevue via 520 - WB</td>\n",
       "      <td>36</td>\n",
       "      <td>40</td>\n",
       "    </tr>\n",
       "    <tr>\n",
       "      <th>154</th>\n",
       "      <td>Bellevue to Seattle via 520 - EB</td>\n",
       "      <td>36</td>\n",
       "      <td>19</td>\n",
       "    </tr>\n",
       "    <tr>\n",
       "      <th>163</th>\n",
       "      <td>Bellevue to Seattle via 90 - WB</td>\n",
       "      <td>33</td>\n",
       "      <td>20</td>\n",
       "    </tr>\n",
       "    <tr>\n",
       "      <th>172</th>\n",
       "      <td>Seattle to Bellevue via 90 - EB</td>\n",
       "      <td>28</td>\n",
       "      <td>39</td>\n",
       "    </tr>\n",
       "  </tbody>\n",
       "</table>\n",
       "</div>"
      ],
      "text/plain": [
       "                 Corridor_Description  model_speed  observed_speed\n",
       "1             Seattle to Everett - NB           32              23\n",
       "10            Everett to Seattle - SB           43              28\n",
       "19             Tacoma to Seattle - NB           46              43\n",
       "28             Seattle to Tacoma - SB           32              25\n",
       "37          Bellevue to Lynnwood - NB           31              26\n",
       "46          Lynnwood to Bellevue - SB           43              40\n",
       "55           Tukwila to Bellevue - NB           33              29\n",
       "64           Bellevue to Tukwila - SB           28              19\n",
       "73              Auburn to Renton - NB           51              44\n",
       "82              Renton to Auburn - SB           35              34\n",
       "91            Redmond to Seattle - WB           44              23\n",
       "100           Seattle to Redmond - EB           40              35\n",
       "109          Redmond to Bellevue - WB           42              27\n",
       "118          Bellevue to Redmond - EB           41              23\n",
       "127         Issaquah to Bellevue - WB           48              40\n",
       "136         Bellevue to Issaquah - EB           40              25\n",
       "145  Seattle to Bellevue via 520 - WB           36              40\n",
       "154  Bellevue to Seattle via 520 - EB           36              19\n",
       "163   Bellevue to Seattle via 90 - WB           33              20\n",
       "172   Seattle to Bellevue via 90 - EB           28              39"
      ]
     },
     "execution_count": 31,
     "metadata": {},
     "output_type": "execute_result"
    }
   ],
   "source": [
    "df[df['tod'] == '16to17'][['Corridor_Description','model_speed','observed_speed']].head(20)"
   ]
  },
  {
   "cell_type": "code",
   "execution_count": null,
   "metadata": {},
   "outputs": [],
   "source": []
  },
  {
   "cell_type": "code",
   "execution_count": null,
   "metadata": {},
   "outputs": [],
   "source": []
  }
 ],
 "metadata": {
  "kernelspec": {
   "display_name": "Python 3",
   "language": "python",
   "name": "python3"
  },
  "language_info": {
   "codemirror_mode": {
    "name": "ipython",
    "version": 3
   },
   "file_extension": ".py",
   "mimetype": "text/x-python",
   "name": "python",
   "nbconvert_exporter": "python",
   "pygments_lexer": "ipython3",
   "version": "3.7.10"
  }
 },
 "nbformat": 4,
 "nbformat_minor": 2
}
