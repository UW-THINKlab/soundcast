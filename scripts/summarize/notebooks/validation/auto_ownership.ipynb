{
 "cells": [
  {
   "cell_type": "markdown",
   "metadata": {},
   "source": [
    "# Auto Ownership \n",
    "Validation to Household Travel Survey"
   ]
  },
  {
   "cell_type": "code",
   "execution_count": 1,
   "metadata": {
    "execution": {
     "iopub.execute_input": "2024-04-03T21:12:04.824879Z",
     "iopub.status.busy": "2024-04-03T21:12:04.824879Z",
     "iopub.status.idle": "2024-04-03T21:12:05.715277Z",
     "shell.execute_reply": "2024-04-03T21:12:05.715277Z"
    }
   },
   "outputs": [],
   "source": [
    "import warnings\n",
    "warnings.simplefilter(action='ignore', category=FutureWarning)\n",
    "import pandas as pd\n",
    "import os, sys\n",
    "%matplotlib inline\n",
    "\n",
    "os.chdir('..\\..\\..\\..')\n",
    "\n",
    "# from input_configuration import base_year\n",
    "import toml\n",
    "config = toml.load(os.path.join(os.getcwd(), 'configuration/input_configuration.toml'))\n",
    "\n",
    "from IPython.display import display, HTML\n",
    "\n",
    "if (sys.version_info < (3, 0)):\n",
    "    HTML('''<script>\n",
    "    code_show=true; \n",
    "    function code_toggle() {\n",
    "     if (code_show){\n",
    "     $('div.input').hide();\n",
    "     } else {\n",
    "     $('div.input').show();\n",
    "     }\n",
    "     code_show = !code_show\n",
    "    } \n",
    "    $( document ).ready(code_toggle);\n",
    "    </script>\n",
    "    <form action=\"javascript:code_toggle()\"><input type=\"submit\" value=\"Click here to toggle on/off the raw code.\"></form>''')\n",
    "\n"
   ]
  },
  {
   "cell_type": "code",
   "execution_count": 2,
   "metadata": {
    "execution": {
     "iopub.execute_input": "2024-04-03T21:12:05.715277Z",
     "iopub.status.busy": "2024-04-03T21:12:05.715277Z",
     "iopub.status.idle": "2024-04-03T21:12:05.730897Z",
     "shell.execute_reply": "2024-04-03T21:12:05.730897Z"
    }
   },
   "outputs": [],
   "source": [
    "working_dir = r'outputs/agg/dash'\n",
    "pd.options.display.float_format = '{:0,.0f}'.format\n",
    "format_percent = \"{:,.2%}\".format"
   ]
  },
  {
   "cell_type": "code",
   "execution_count": 3,
   "metadata": {
    "execution": {
     "iopub.execute_input": "2024-04-03T21:12:05.730897Z",
     "iopub.status.busy": "2024-04-03T21:12:05.730897Z",
     "iopub.status.idle": "2024-04-03T21:12:05.746452Z",
     "shell.execute_reply": "2024-04-03T21:12:05.746452Z"
    }
   },
   "outputs": [],
   "source": [
    "def load_data(fname):\n",
    "    \"\"\" open and join model and survey data \"\"\"\n",
    "\n",
    "    df_model = pd.read_csv(os.path.join(working_dir,fname+'.csv'))\n",
    "    df_model['source'] = 'model'\n",
    "    df_survey = pd.read_csv(os.path.join(working_dir,'survey',fname+'.csv'))\n",
    "    df_survey['source'] = 'survey'\n",
    "    df = df_model.append(df_survey)\n",
    "\n",
    "    return df"
   ]
  },
  {
   "cell_type": "markdown",
   "metadata": {},
   "source": [
    "## Regional Totals and Distribution"
   ]
  },
  {
   "cell_type": "code",
   "execution_count": 4,
   "metadata": {
    "execution": {
     "iopub.execute_input": "2024-04-03T21:12:05.746452Z",
     "iopub.status.busy": "2024-04-03T21:12:05.746452Z",
     "iopub.status.idle": "2024-04-03T21:12:06.027703Z",
     "shell.execute_reply": "2024-04-03T21:12:06.027703Z"
    }
   },
   "outputs": [
    {
     "data": {
      "text/plain": [
       "Text(0, 0.5, 'Household Vehicles Owned')"
      ]
     },
     "execution_count": 4,
     "metadata": {},
     "output_type": "execute_result"
    },
    {
     "data": {
      "image/png": "[encoded data removed]",
      "text/plain": [
       "<Figure size 432x288 with 1 Axes>"
      ]
     },
     "metadata": {
      "needs_background": "light"
     },
     "output_type": "display_data"
    }
   ],
   "source": [
    "df = load_data('auto_ownership')\n",
    "df.loc[df['hhvehs'] >= 4, 'hhvehs'] = '4+'\n",
    "df = df.pivot_table(index='hhvehs', columns='source', aggfunc='sum', values='hhexpfac')\n",
    "ax = df.plot(kind='barh', title='Region', legend='reverse', alpha=0.6)\n",
    "ax.set_xlabel('Total Vehicles Owned')\n",
    "ax.set_ylabel('Household Vehicles Owned')"
   ]
  },
  {
   "cell_type": "markdown",
   "metadata": {},
   "source": [
    "Distribution of Vehicles Owned at Regional Scale"
   ]
  },
  {
   "cell_type": "code",
   "execution_count": 5,
   "metadata": {
    "execution": {
     "iopub.execute_input": "2024-04-03T21:12:06.027703Z",
     "iopub.status.busy": "2024-04-03T21:12:06.027703Z",
     "iopub.status.idle": "2024-04-03T21:12:06.230715Z",
     "shell.execute_reply": "2024-04-03T21:12:06.230715Z"
    }
   },
   "outputs": [
    {
     "data": {
      "text/plain": [
       "Text(0, 0.5, 'Household Vehicles Owned')"
      ]
     },
     "execution_count": 5,
     "metadata": {},
     "output_type": "execute_result"
    },
    {
     "data": {
      "image/png": "[encoded data removed]",
      "text/plain": [
       "<Figure size 432x288 with 1 Axes>"
      ]
     },
     "metadata": {
      "needs_background": "light"
     },
     "output_type": "display_data"
    }
   ],
   "source": [
    "df['model'] = (df['model']/df['model'].sum()) * 100  \n",
    "df['survey'] = (df['survey']/df['survey'].sum()) * 100  \n",
    "df = df[['model', 'survey']]\n",
    "ax = df.plot(kind='barh', title='Region', legend='reverse', alpha=0.6)\n",
    "ax.set_xlabel(\"% of Total\")\n",
    "ax.set_ylabel('Household Vehicles Owned')"
   ]
  },
  {
   "cell_type": "markdown",
   "metadata": {},
   "source": [
    "## By Income"
   ]
  },
  {
   "cell_type": "code",
   "execution_count": 6,
   "metadata": {
    "execution": {
     "iopub.execute_input": "2024-04-03T21:12:06.230715Z",
     "iopub.status.busy": "2024-04-03T21:12:06.230715Z",
     "iopub.status.idle": "2024-04-03T21:12:06.308891Z",
     "shell.execute_reply": "2024-04-03T21:12:06.308891Z"
    }
   },
   "outputs": [
    {
     "data": {
      "text/html": [
       "<div>\n",
       "<style scoped>\n",
       "    .dataframe tbody tr th:only-of-type {\n",
       "        vertical-align: middle;\n",
       "    }\n",
       "\n",
       "    .dataframe tbody tr th {\n",
       "        vertical-align: top;\n",
       "    }\n",
       "\n",
       "    .dataframe thead th {\n",
       "        text-align: right;\n",
       "    }\n",
       "</style>\n",
       "<table border=\"1\" class=\"dataframe\">\n",
       "  <thead>\n",
       "    <tr style=\"text-align: right;\">\n",
       "      <th></th>\n",
       "      <th>income_bin</th>\n",
       "      <th>0-$20k</th>\n",
       "      <th>$20-40k</th>\n",
       "      <th>$40-75k</th>\n",
       "      <th>&gt;$75k</th>\n",
       "    </tr>\n",
       "    <tr>\n",
       "      <th>Household Vehicles Owned</th>\n",
       "      <th>source</th>\n",
       "      <th></th>\n",
       "      <th></th>\n",
       "      <th></th>\n",
       "      <th></th>\n",
       "    </tr>\n",
       "  </thead>\n",
       "  <tbody>\n",
       "    <tr>\n",
       "      <th rowspan=\"2\" valign=\"top\">-1.0</th>\n",
       "      <th>model</th>\n",
       "      <td>0</td>\n",
       "      <td>0</td>\n",
       "      <td>0</td>\n",
       "      <td>0</td>\n",
       "    </tr>\n",
       "    <tr>\n",
       "      <th>survey</th>\n",
       "      <td>0</td>\n",
       "      <td>0</td>\n",
       "      <td>0</td>\n",
       "      <td>626</td>\n",
       "    </tr>\n",
       "    <tr>\n",
       "      <th rowspan=\"2\" valign=\"top\">0.0</th>\n",
       "      <th>model</th>\n",
       "      <td>66,496</td>\n",
       "      <td>26,760</td>\n",
       "      <td>24,227</td>\n",
       "      <td>46,383</td>\n",
       "    </tr>\n",
       "    <tr>\n",
       "      <th>survey</th>\n",
       "      <td>83,091</td>\n",
       "      <td>36,089</td>\n",
       "      <td>10,782</td>\n",
       "      <td>36,053</td>\n",
       "    </tr>\n",
       "    <tr>\n",
       "      <th rowspan=\"2\" valign=\"top\">1.0</th>\n",
       "      <th>model</th>\n",
       "      <td>61,213</td>\n",
       "      <td>71,310</td>\n",
       "      <td>111,347</td>\n",
       "      <td>246,954</td>\n",
       "    </tr>\n",
       "    <tr>\n",
       "      <th>survey</th>\n",
       "      <td>112,204</td>\n",
       "      <td>84,824</td>\n",
       "      <td>87,913</td>\n",
       "      <td>204,932</td>\n",
       "    </tr>\n",
       "    <tr>\n",
       "      <th rowspan=\"2\" valign=\"top\">2.0</th>\n",
       "      <th>model</th>\n",
       "      <td>27,926</td>\n",
       "      <td>40,265</td>\n",
       "      <td>88,218</td>\n",
       "      <td>450,996</td>\n",
       "    </tr>\n",
       "    <tr>\n",
       "      <th>survey</th>\n",
       "      <td>97,708</td>\n",
       "      <td>28,394</td>\n",
       "      <td>82,252</td>\n",
       "      <td>400,062</td>\n",
       "    </tr>\n",
       "    <tr>\n",
       "      <th rowspan=\"2\" valign=\"top\">3+</th>\n",
       "      <th>model</th>\n",
       "      <td>15,817</td>\n",
       "      <td>23,770</td>\n",
       "      <td>56,164</td>\n",
       "      <td>377,963</td>\n",
       "    </tr>\n",
       "    <tr>\n",
       "      <th>survey</th>\n",
       "      <td>81,243</td>\n",
       "      <td>18,894</td>\n",
       "      <td>30,131</td>\n",
       "      <td>264,981</td>\n",
       "    </tr>\n",
       "  </tbody>\n",
       "</table>\n",
       "</div>"
      ],
      "text/plain": [
       "income_bin                       0-$20k  $20-40k  $40-75k   >$75k\n",
       "Household Vehicles Owned source                                  \n",
       "-1.0                     model        0        0        0       0\n",
       "                         survey       0        0        0     626\n",
       "0.0                      model   66,496   26,760   24,227  46,383\n",
       "                         survey  83,091   36,089   10,782  36,053\n",
       "1.0                      model   61,213   71,310  111,347 246,954\n",
       "                         survey 112,204   84,824   87,913 204,932\n",
       "2.0                      model   27,926   40,265   88,218 450,996\n",
       "                         survey  97,708   28,394   82,252 400,062\n",
       "3+                       model   15,817   23,770   56,164 377,963\n",
       "                         survey  81,243   18,894   30,131 264,981"
      ]
     },
     "execution_count": 6,
     "metadata": {},
     "output_type": "execute_result"
    }
   ],
   "source": [
    "df = load_data('auto_ownership')\n",
    "\n",
    "# Define income groups\n",
    "inc_bin=[-1,20000,40000,75000,9999999999999]\n",
    "inc_bin_labels = ['0-$20k','$20-40k','$40-75k','>$75k']\n",
    "df['income_bin'] = pd.cut(df['hhincome_thousands'], bins=inc_bin, labels=inc_bin_labels)\n",
    "\n",
    "df.loc[df['hhvehs'] >= 3, 'hhvehs'] = '3+'\n",
    "df.rename(columns={'hhvehs': 'Household Vehicles Owned'}, inplace=True)\n",
    "pd.pivot_table(df, index=['Household Vehicles Owned','source'], columns='income_bin', values='hhexpfac', aggfunc='sum')"
   ]
  },
  {
   "cell_type": "code",
   "execution_count": 7,
   "metadata": {
    "execution": {
     "iopub.execute_input": "2024-04-03T21:12:06.308891Z",
     "iopub.status.busy": "2024-04-03T21:12:06.308891Z",
     "iopub.status.idle": "2024-04-03T21:12:06.371377Z",
     "shell.execute_reply": "2024-04-03T21:12:06.371377Z"
    }
   },
   "outputs": [],
   "source": [
    "pd.options.display.float_format = \"{:,.2%}\".format\n",
    "_df_model = pd.pivot_table(df[df['source'] == 'model'], index='Household Vehicles Owned', columns='hh_county', values='hhexpfac', aggfunc='sum')\n",
    "_df_model = _df_model/_df_model.sum()  * 100\n",
    "_df_survey = pd.pivot_table(df[df['source'] == 'survey'], index='Household Vehicles Owned', columns='hh_county', values='hhexpfac', aggfunc='sum')\n",
    "_df_survey = _df_survey/_df_survey.sum()  * 100"
   ]
  },
  {
   "cell_type": "code",
   "execution_count": 8,
   "metadata": {
    "execution": {
     "iopub.execute_input": "2024-04-03T21:12:06.371377Z",
     "iopub.status.busy": "2024-04-03T21:12:06.371377Z",
     "iopub.status.idle": "2024-04-03T21:12:06.876631Z",
     "shell.execute_reply": "2024-04-03T21:12:06.875164Z"
    },
    "scrolled": true
   },
   "outputs": [
    {
     "data": {
      "image/png": "[encoded data removed]",
      "text/plain": [
       "<Figure size 432x288 with 1 Axes>"
      ]
     },
     "metadata": {
      "needs_background": "light"
     },
     "output_type": "display_data"
    },
    {
     "data": {
      "image/png": "[encoded data removed]",
      "text/plain": [
       "<Figure size 432x288 with 1 Axes>"
      ]
     },
     "metadata": {
      "needs_background": "light"
     },
     "output_type": "display_data"
    },
    {
     "data": {
      "image/png": "[encoded data removed]",
      "text/plain": [
       "<Figure size 432x288 with 1 Axes>"
      ]
     },
     "metadata": {
      "needs_background": "light"
     },
     "output_type": "display_data"
    },
    {
     "data": {
      "image/png": "[encoded data removed]",
      "text/plain": [
       "<Figure size 432x288 with 1 Axes>"
      ]
     },
     "metadata": {
      "needs_background": "light"
     },
     "output_type": "display_data"
    }
   ],
   "source": [
    "for county in df['hh_county'].unique():\n",
    "    _df = pd.DataFrame([_df_survey[county],_df_model[county]]).T\n",
    "    _df.columns = ['survey','model']\n",
    "    ax = _df.plot(kind='barh', title=county, legend='reverse', alpha=0.6)\n",
    "    ax.set_xlabel('% of Vehicles Owned')"
   ]
  },
  {
   "cell_type": "code",
   "execution_count": 54,
   "metadata": {},
   "outputs": [
    {
     "data": {
      "text/html": [
       "<div>\n",
       "<style scoped>\n",
       "    .dataframe tbody tr th:only-of-type {\n",
       "        vertical-align: middle;\n",
       "    }\n",
       "\n",
       "    .dataframe tbody tr th {\n",
       "        vertical-align: top;\n",
       "    }\n",
       "\n",
       "    .dataframe thead th {\n",
       "        text-align: right;\n",
       "    }\n",
       "</style>\n",
       "<table border=\"1\" class=\"dataframe\">\n",
       "  <thead>\n",
       "    <tr style=\"text-align: right;\">\n",
       "      <th></th>\n",
       "      <th>hhvehs</th>\n",
       "      <th>hh_county</th>\n",
       "      <th>hhincome_thousands</th>\n",
       "      <th>hhexpfac</th>\n",
       "      <th>source</th>\n",
       "    </tr>\n",
       "  </thead>\n",
       "  <tbody>\n",
       "    <tr>\n",
       "      <th>0</th>\n",
       "      <td>0.00%</td>\n",
       "      <td>King</td>\n",
       "      <td>-1,000,000.00%</td>\n",
       "      <td>200.00%</td>\n",
       "      <td>model</td>\n",
       "    </tr>\n",
       "    <tr>\n",
       "      <th>1</th>\n",
       "      <td>0.00%</td>\n",
       "      <td>King</td>\n",
       "      <td>0.00%</td>\n",
       "      <td>913,300.00%</td>\n",
       "      <td>model</td>\n",
       "    </tr>\n",
       "    <tr>\n",
       "      <th>2</th>\n",
       "      <td>0.00%</td>\n",
       "      <td>King</td>\n",
       "      <td>1,000,000.00%</td>\n",
       "      <td>1,560,400.00%</td>\n",
       "      <td>model</td>\n",
       "    </tr>\n",
       "    <tr>\n",
       "      <th>3</th>\n",
       "      <td>0.00%</td>\n",
       "      <td>King</td>\n",
       "      <td>2,000,000.00%</td>\n",
       "      <td>893,000.00%</td>\n",
       "      <td>model</td>\n",
       "    </tr>\n",
       "    <tr>\n",
       "      <th>4</th>\n",
       "      <td>0.00%</td>\n",
       "      <td>King</td>\n",
       "      <td>3,000,000.00%</td>\n",
       "      <td>700,600.00%</td>\n",
       "      <td>model</td>\n",
       "    </tr>\n",
       "    <tr>\n",
       "      <th>...</th>\n",
       "      <td>...</td>\n",
       "      <td>...</td>\n",
       "      <td>...</td>\n",
       "      <td>...</td>\n",
       "      <td>...</td>\n",
       "    </tr>\n",
       "    <tr>\n",
       "      <th>192</th>\n",
       "      <td>700.00%</td>\n",
       "      <td>King</td>\n",
       "      <td>12,000,000.00%</td>\n",
       "      <td>106,228.00%</td>\n",
       "      <td>survey</td>\n",
       "    </tr>\n",
       "    <tr>\n",
       "      <th>193</th>\n",
       "      <td>700.00%</td>\n",
       "      <td>Pierce</td>\n",
       "      <td>12,000,000.00%</td>\n",
       "      <td>156,376.00%</td>\n",
       "      <td>survey</td>\n",
       "    </tr>\n",
       "    <tr>\n",
       "      <th>194</th>\n",
       "      <td>800.00%</td>\n",
       "      <td>Snohomish</td>\n",
       "      <td>12,000,000.00%</td>\n",
       "      <td>29,793.00%</td>\n",
       "      <td>survey</td>\n",
       "    </tr>\n",
       "    <tr>\n",
       "      <th>195</th>\n",
       "      <td>900.00%</td>\n",
       "      <td>Snohomish</td>\n",
       "      <td>0.00%</td>\n",
       "      <td>38,526.00%</td>\n",
       "      <td>survey</td>\n",
       "    </tr>\n",
       "    <tr>\n",
       "      <th>196</th>\n",
       "      <td>1,000.00%</td>\n",
       "      <td>Snohomish</td>\n",
       "      <td>0.00%</td>\n",
       "      <td>291,025.00%</td>\n",
       "      <td>survey</td>\n",
       "    </tr>\n",
       "  </tbody>\n",
       "</table>\n",
       "<p>1579 rows × 5 columns</p>\n",
       "</div>"
      ],
      "text/plain": [
       "       hhvehs  hh_county  hhincome_thousands      hhexpfac  source\n",
       "0       0.00%       King      -1,000,000.00%       200.00%   model\n",
       "1       0.00%       King               0.00%   913,300.00%   model\n",
       "2       0.00%       King       1,000,000.00% 1,560,400.00%   model\n",
       "3       0.00%       King       2,000,000.00%   893,000.00%   model\n",
       "4       0.00%       King       3,000,000.00%   700,600.00%   model\n",
       "..        ...        ...                 ...           ...     ...\n",
       "192   700.00%       King      12,000,000.00%   106,228.00%  survey\n",
       "193   700.00%     Pierce      12,000,000.00%   156,376.00%  survey\n",
       "194   800.00%  Snohomish      12,000,000.00%    29,793.00%  survey\n",
       "195   900.00%  Snohomish               0.00%    38,526.00%  survey\n",
       "196 1,000.00%  Snohomish               0.00%   291,025.00%  survey\n",
       "\n",
       "[1579 rows x 5 columns]"
      ]
     },
     "execution_count": 54,
     "metadata": {},
     "output_type": "execute_result"
    }
   ],
   "source": []
  },
  {
   "cell_type": "code",
   "execution_count": null,
   "metadata": {},
   "outputs": [],
   "source": []
  }
 ],
 "metadata": {
  "kernelspec": {
   "display_name": "Python 3",
   "language": "python",
   "name": "python3"
  },
  "language_info": {
   "codemirror_mode": {
    "name": "ipython",
    "version": 3
   },
   "file_extension": ".py",
   "mimetype": "text/x-python",
   "name": "python",
   "nbconvert_exporter": "python",
   "pygments_lexer": "ipython3",
   "version": "3.7.10"
  }
 },
 "nbformat": 4,
 "nbformat_minor": 4
}
