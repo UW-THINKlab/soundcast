{
 "cells": [
  {
   "cell_type": "code",
   "execution_count": 1,
   "metadata": {
    "execution": {
     "iopub.execute_input": "2024-04-03T21:14:09.619143Z",
     "iopub.status.busy": "2024-04-03T21:14:09.618068Z",
     "iopub.status.idle": "2024-04-03T21:14:10.469222Z",
     "shell.execute_reply": "2024-04-03T21:14:10.469222Z"
    }
   },
   "outputs": [],
   "source": [
    "import pandas as pd\n",
    "import os, sys\n",
    "%matplotlib inline\n",
    "\n",
    "from IPython.display import display, HTML\n",
    "\n",
    "if (sys.version_info < (3, 0)):\n",
    "    HTML('''<script>\n",
    "    code_show=true; \n",
    "    function code_toggle() {\n",
    "     if (code_show){\n",
    "     $('div.input').hide();\n",
    "     } else {\n",
    "     $('div.input').show();\n",
    "     }\n",
    "     code_show = !code_show\n",
    "    } \n",
    "    $( document ).ready(code_toggle);\n",
    "    </script>\n",
    "    <form action=\"javascript:code_toggle()\"><input type=\"submit\" value=\"Click here to toggle on/off the raw code.\"></form>''')\n"
   ]
  },
  {
   "cell_type": "code",
   "execution_count": 2,
   "metadata": {
    "execution": {
     "iopub.execute_input": "2024-04-03T21:14:10.472215Z",
     "iopub.status.busy": "2024-04-03T21:14:10.472215Z",
     "iopub.status.idle": "2024-04-03T21:14:10.485180Z",
     "shell.execute_reply": "2024-04-03T21:14:10.485180Z"
    }
   },
   "outputs": [],
   "source": [
    "working_dir = r'../../../../outputs/agg/dash'\n",
    "fname = 'trip_purpose_mode'\n",
    "pd.options.display.float_format = '{:0,.2f}'.format"
   ]
  },
  {
   "cell_type": "code",
   "execution_count": 3,
   "metadata": {
    "execution": {
     "iopub.execute_input": "2024-04-03T21:14:10.487175Z",
     "iopub.status.busy": "2024-04-03T21:14:10.487175Z",
     "iopub.status.idle": "2024-04-03T21:14:10.501137Z",
     "shell.execute_reply": "2024-04-03T21:14:10.501137Z"
    }
   },
   "outputs": [],
   "source": [
    "def load_data(fname):\n",
    "    \"\"\" open and join model and survey data \"\"\"\n",
    "\n",
    "    df_model = pd.read_csv(os.path.join(working_dir,fname+'.csv'))\n",
    "    df_model['source'] = 'model'\n",
    "    df_survey = pd.read_csv(os.path.join(working_dir,'survey',fname+'.csv'))\n",
    "    df_survey['source'] = 'survey'\n",
    "    df = df_model.append(df_survey)\n",
    "\n",
    "    return df"
   ]
  },
  {
   "cell_type": "markdown",
   "metadata": {},
   "source": [
    "# Trip Mode Share"
   ]
  },
  {
   "cell_type": "code",
   "execution_count": 4,
   "metadata": {
    "execution": {
     "iopub.execute_input": "2024-04-03T21:14:10.503132Z",
     "iopub.status.busy": "2024-04-03T21:14:10.503132Z",
     "iopub.status.idle": "2024-04-03T21:14:10.564967Z",
     "shell.execute_reply": "2024-04-03T21:14:10.564967Z"
    }
   },
   "outputs": [
    {
     "data": {
      "text/html": [
       "<div>\n",
       "<style scoped>\n",
       "    .dataframe tbody tr th:only-of-type {\n",
       "        vertical-align: middle;\n",
       "    }\n",
       "\n",
       "    .dataframe tbody tr th {\n",
       "        vertical-align: top;\n",
       "    }\n",
       "\n",
       "    .dataframe thead th {\n",
       "        text-align: right;\n",
       "    }\n",
       "</style>\n",
       "<table border=\"1\" class=\"dataframe\">\n",
       "  <thead>\n",
       "    <tr style=\"text-align: right;\">\n",
       "      <th></th>\n",
       "      <th>Model</th>\n",
       "      <th>Survey</th>\n",
       "    </tr>\n",
       "    <tr>\n",
       "      <th>Trip Mode</th>\n",
       "      <th></th>\n",
       "      <th></th>\n",
       "    </tr>\n",
       "  </thead>\n",
       "  <tbody>\n",
       "    <tr>\n",
       "      <th>Bike</th>\n",
       "      <td>1.1%</td>\n",
       "      <td>0.7%</td>\n",
       "    </tr>\n",
       "    <tr>\n",
       "      <th>HOV2</th>\n",
       "      <td>21.6%</td>\n",
       "      <td>18.6%</td>\n",
       "    </tr>\n",
       "    <tr>\n",
       "      <th>HOV3+</th>\n",
       "      <td>18.8%</td>\n",
       "      <td>21.5%</td>\n",
       "    </tr>\n",
       "    <tr>\n",
       "      <th>SOV</th>\n",
       "      <td>39.5%</td>\n",
       "      <td>44.2%</td>\n",
       "    </tr>\n",
       "    <tr>\n",
       "      <th>School Bus</th>\n",
       "      <td>2.0%</td>\n",
       "      <td>1.9%</td>\n",
       "    </tr>\n",
       "    <tr>\n",
       "      <th>TNC</th>\n",
       "      <td>1.0%</td>\n",
       "      <td>0.2%</td>\n",
       "    </tr>\n",
       "    <tr>\n",
       "      <th>Transit</th>\n",
       "      <td>2.5%</td>\n",
       "      <td>2.5%</td>\n",
       "    </tr>\n",
       "    <tr>\n",
       "      <th>Walk</th>\n",
       "      <td>13.5%</td>\n",
       "      <td>9.9%</td>\n",
       "    </tr>\n",
       "  </tbody>\n",
       "</table>\n",
       "</div>"
      ],
      "text/plain": [
       "             Model   Survey\n",
       "Trip Mode                  \n",
       "Bike          1.1%     0.7%\n",
       "HOV2         21.6%    18.6%\n",
       "HOV3+        18.8%    21.5%\n",
       "SOV          39.5%    44.2%\n",
       "School Bus    2.0%     1.9%\n",
       "TNC           1.0%     0.2%\n",
       "Transit       2.5%     2.5%\n",
       "Walk         13.5%     9.9%"
      ]
     },
     "execution_count": 4,
     "metadata": {},
     "output_type": "execute_result"
    }
   ],
   "source": [
    "pd.options.display.float_format = '{:,.1%}'.format\n",
    "\n",
    "df_model = pd.read_csv(os.path.join(working_dir,fname+'.csv'))\n",
    "df_survey = pd.read_csv(os.path.join(working_dir,'survey',fname+'.csv'))\n",
    "df_model = (df_model.groupby('mode').sum()[['trexpfac']]/df_model['trexpfac'].sum()).reset_index()\n",
    "df_survey = (df_survey.groupby('mode').sum()[['trexpfac']]/df_survey['trexpfac'].sum()).reset_index()\n",
    "df = df_model.merge(df_survey, on='mode', suffixes=['_model','_survey'])\n",
    "df.columns = ['Trip Mode',' Model',' Survey']\n",
    "df.index = df['Trip Mode']\n",
    "df.drop('Trip Mode', axis=1, inplace=True)\n",
    "df"
   ]
  },
  {
   "cell_type": "code",
   "execution_count": 5,
   "metadata": {
    "execution": {
     "iopub.execute_input": "2024-04-03T21:14:10.566962Z",
     "iopub.status.busy": "2024-04-03T21:14:10.566962Z",
     "iopub.status.idle": "2024-04-03T21:14:10.754733Z",
     "shell.execute_reply": "2024-04-03T21:14:10.753737Z"
    }
   },
   "outputs": [
    {
     "data": {
      "text/plain": [
       "<AxesSubplot:ylabel='Trip Mode'>"
      ]
     },
     "execution_count": 5,
     "metadata": {},
     "output_type": "execute_result"
    },
    {
     "data": {
      "image/png": "[encoded data removed]",
      "text/plain": [
       "<Figure size 432x288 with 1 Axes>"
      ]
     },
     "metadata": {
      "needs_background": "light"
     },
     "output_type": "display_data"
    }
   ],
   "source": [
    "df.plot(kind='barh', alpha=0.6)"
   ]
  },
  {
   "cell_type": "markdown",
   "metadata": {},
   "source": [
    "# Work Trip Mode Share"
   ]
  },
  {
   "cell_type": "code",
   "execution_count": 6,
   "metadata": {
    "execution": {
     "iopub.execute_input": "2024-04-03T21:14:10.760718Z",
     "iopub.status.busy": "2024-04-03T21:14:10.760718Z",
     "iopub.status.idle": "2024-04-03T21:14:10.810115Z",
     "shell.execute_reply": "2024-04-03T21:14:10.810115Z"
    }
   },
   "outputs": [
    {
     "data": {
      "text/html": [
       "<div>\n",
       "<style scoped>\n",
       "    .dataframe tbody tr th:only-of-type {\n",
       "        vertical-align: middle;\n",
       "    }\n",
       "\n",
       "    .dataframe tbody tr th {\n",
       "        vertical-align: top;\n",
       "    }\n",
       "\n",
       "    .dataframe thead th {\n",
       "        text-align: right;\n",
       "    }\n",
       "</style>\n",
       "<table border=\"1\" class=\"dataframe\">\n",
       "  <thead>\n",
       "    <tr style=\"text-align: right;\">\n",
       "      <th></th>\n",
       "      <th>Model</th>\n",
       "      <th>Survey</th>\n",
       "    </tr>\n",
       "    <tr>\n",
       "      <th>Trip Mode</th>\n",
       "      <th></th>\n",
       "      <th></th>\n",
       "    </tr>\n",
       "  </thead>\n",
       "  <tbody>\n",
       "    <tr>\n",
       "      <th>Bike</th>\n",
       "      <td>1.2%</td>\n",
       "      <td>0.7%</td>\n",
       "    </tr>\n",
       "    <tr>\n",
       "      <th>HOV2</th>\n",
       "      <td>9.4%</td>\n",
       "      <td>6.6%</td>\n",
       "    </tr>\n",
       "    <tr>\n",
       "      <th>HOV3+</th>\n",
       "      <td>5.7%</td>\n",
       "      <td>2.5%</td>\n",
       "    </tr>\n",
       "    <tr>\n",
       "      <th>SOV</th>\n",
       "      <td>65.9%</td>\n",
       "      <td>79.2%</td>\n",
       "    </tr>\n",
       "    <tr>\n",
       "      <th>TNC</th>\n",
       "      <td>2.8%</td>\n",
       "      <td>0.5%</td>\n",
       "    </tr>\n",
       "    <tr>\n",
       "      <th>Transit</th>\n",
       "      <td>5.0%</td>\n",
       "      <td>3.2%</td>\n",
       "    </tr>\n",
       "    <tr>\n",
       "      <th>Walk</th>\n",
       "      <td>10.0%</td>\n",
       "      <td>7.1%</td>\n",
       "    </tr>\n",
       "  </tbody>\n",
       "</table>\n",
       "</div>"
      ],
      "text/plain": [
       "            Model   Survey\n",
       "Trip Mode                 \n",
       "Bike         1.2%     0.7%\n",
       "HOV2         9.4%     6.6%\n",
       "HOV3+        5.7%     2.5%\n",
       "SOV         65.9%    79.2%\n",
       "TNC          2.8%     0.5%\n",
       "Transit      5.0%     3.2%\n",
       "Walk        10.0%     7.1%"
      ]
     },
     "execution_count": 6,
     "metadata": {},
     "output_type": "execute_result"
    }
   ],
   "source": [
    "df_model = pd.read_csv(os.path.join(working_dir,fname+'.csv'))\n",
    "df_survey = pd.read_csv(os.path.join(working_dir,'survey',fname+'.csv'))\n",
    "df_model = df_model[df_model['dpurp'] == 'Work']\n",
    "df_survey = df_survey[df_survey['dpurp'] == 'Work']\n",
    "df_model = (df_model.groupby('mode').sum()[['trexpfac']]/df_model['trexpfac'].sum()).reset_index()\n",
    "df_survey = (df_survey.groupby('mode').sum()[['trexpfac']]/df_survey['trexpfac'].sum()).reset_index()\n",
    "df = df_model.merge(df_survey, on='mode', suffixes=['_model','_survey'])\n",
    "df.columns = ['Trip Mode',' Model',' Survey']\n",
    "df.index = df['Trip Mode']\n",
    "df.drop('Trip Mode', axis=1, inplace=True)\n",
    "df"
   ]
  },
  {
   "cell_type": "code",
   "execution_count": 7,
   "metadata": {
    "execution": {
     "iopub.execute_input": "2024-04-03T21:14:10.810115Z",
     "iopub.status.busy": "2024-04-03T21:14:10.810115Z",
     "iopub.status.idle": "2024-04-03T21:14:11.044436Z",
     "shell.execute_reply": "2024-04-03T21:14:11.044436Z"
    }
   },
   "outputs": [
    {
     "data": {
      "text/plain": [
       "<AxesSubplot:ylabel='Trip Mode'>"
      ]
     },
     "execution_count": 7,
     "metadata": {},
     "output_type": "execute_result"
    },
    {
     "data": {
      "image/png": "[encoded data removed]",
      "text/plain": [
       "<Figure size 432x288 with 1 Axes>"
      ]
     },
     "metadata": {
      "needs_background": "light"
     },
     "output_type": "display_data"
    }
   ],
   "source": [
    "df.plot(kind='barh', alpha=0.6)"
   ]
  },
  {
   "cell_type": "markdown",
   "metadata": {},
   "source": [
    "# School Trip Mode Share"
   ]
  },
  {
   "cell_type": "code",
   "execution_count": 8,
   "metadata": {
    "execution": {
     "iopub.execute_input": "2024-04-03T21:14:11.044436Z",
     "iopub.status.busy": "2024-04-03T21:14:11.044436Z",
     "iopub.status.idle": "2024-04-03T21:14:11.122545Z",
     "shell.execute_reply": "2024-04-03T21:14:11.122545Z"
    }
   },
   "outputs": [
    {
     "data": {
      "text/html": [
       "<div>\n",
       "<style scoped>\n",
       "    .dataframe tbody tr th:only-of-type {\n",
       "        vertical-align: middle;\n",
       "    }\n",
       "\n",
       "    .dataframe tbody tr th {\n",
       "        vertical-align: top;\n",
       "    }\n",
       "\n",
       "    .dataframe thead th {\n",
       "        text-align: right;\n",
       "    }\n",
       "</style>\n",
       "<table border=\"1\" class=\"dataframe\">\n",
       "  <thead>\n",
       "    <tr style=\"text-align: right;\">\n",
       "      <th></th>\n",
       "      <th>Model</th>\n",
       "      <th>Survey</th>\n",
       "    </tr>\n",
       "    <tr>\n",
       "      <th>Trip Mode</th>\n",
       "      <th></th>\n",
       "      <th></th>\n",
       "    </tr>\n",
       "  </thead>\n",
       "  <tbody>\n",
       "    <tr>\n",
       "      <th>Bike</th>\n",
       "      <td>3.3%</td>\n",
       "      <td>1.5%</td>\n",
       "    </tr>\n",
       "    <tr>\n",
       "      <th>HOV2</th>\n",
       "      <td>25.0%</td>\n",
       "      <td>19.2%</td>\n",
       "    </tr>\n",
       "    <tr>\n",
       "      <th>HOV3+</th>\n",
       "      <td>27.1%</td>\n",
       "      <td>31.9%</td>\n",
       "    </tr>\n",
       "    <tr>\n",
       "      <th>SOV</th>\n",
       "      <td>9.3%</td>\n",
       "      <td>13.2%</td>\n",
       "    </tr>\n",
       "    <tr>\n",
       "      <th>School Bus</th>\n",
       "      <td>18.2%</td>\n",
       "      <td>21.6%</td>\n",
       "    </tr>\n",
       "    <tr>\n",
       "      <th>TNC</th>\n",
       "      <td>1.9%</td>\n",
       "      <td>0.2%</td>\n",
       "    </tr>\n",
       "    <tr>\n",
       "      <th>Transit</th>\n",
       "      <td>3.8%</td>\n",
       "      <td>3.3%</td>\n",
       "    </tr>\n",
       "    <tr>\n",
       "      <th>Walk</th>\n",
       "      <td>11.3%</td>\n",
       "      <td>9.1%</td>\n",
       "    </tr>\n",
       "  </tbody>\n",
       "</table>\n",
       "</div>"
      ],
      "text/plain": [
       "             Model   Survey\n",
       "Trip Mode                  \n",
       "Bike          3.3%     1.5%\n",
       "HOV2         25.0%    19.2%\n",
       "HOV3+        27.1%    31.9%\n",
       "SOV           9.3%    13.2%\n",
       "School Bus   18.2%    21.6%\n",
       "TNC           1.9%     0.2%\n",
       "Transit       3.8%     3.3%\n",
       "Walk         11.3%     9.1%"
      ]
     },
     "execution_count": 8,
     "metadata": {},
     "output_type": "execute_result"
    }
   ],
   "source": [
    "df_model = pd.read_csv(os.path.join(working_dir,fname+'.csv'))\n",
    "df_survey = pd.read_csv(os.path.join(working_dir,'survey',fname+'.csv'))\n",
    "df_model = df_model[df_model['dpurp'] == 'School']\n",
    "df_survey = df_survey[df_survey['dpurp'] == 'School']\n",
    "df_model = (df_model.groupby('mode').sum()[['trexpfac']]/df_model['trexpfac'].sum()).reset_index()\n",
    "df_survey = (df_survey.groupby('mode').sum()[['trexpfac']]/df_survey['trexpfac'].sum()).reset_index()\n",
    "df = df_model.merge(df_survey, on='mode', suffixes=['_model','_survey'])\n",
    "df.columns = ['Trip Mode',' Model',' Survey']\n",
    "df.index = df['Trip Mode']\n",
    "df.drop('Trip Mode', axis=1, inplace=True)\n",
    "df"
   ]
  },
  {
   "cell_type": "code",
   "execution_count": 9,
   "metadata": {
    "execution": {
     "iopub.execute_input": "2024-04-03T21:14:11.122545Z",
     "iopub.status.busy": "2024-04-03T21:14:11.122545Z",
     "iopub.status.idle": "2024-04-03T21:14:11.341245Z",
     "shell.execute_reply": "2024-04-03T21:14:11.341245Z"
    }
   },
   "outputs": [
    {
     "data": {
      "text/plain": [
       "<AxesSubplot:ylabel='Trip Mode'>"
      ]
     },
     "execution_count": 9,
     "metadata": {},
     "output_type": "execute_result"
    },
    {
     "data": {
      "image/png": "[encoded data removed]",
      "text/plain": [
       "<Figure size 432x288 with 1 Axes>"
      ]
     },
     "metadata": {
      "needs_background": "light"
     },
     "output_type": "display_data"
    }
   ],
   "source": [
    "df.plot(kind='barh', alpha=0.6)"
   ]
  },
  {
   "cell_type": "markdown",
   "metadata": {},
   "source": [
    "# Escort Tour Mode"
   ]
  },
  {
   "cell_type": "code",
   "execution_count": 10,
   "metadata": {
    "execution": {
     "iopub.execute_input": "2024-04-03T21:14:11.341245Z",
     "iopub.status.busy": "2024-04-03T21:14:11.341245Z",
     "iopub.status.idle": "2024-04-03T21:14:11.419416Z",
     "shell.execute_reply": "2024-04-03T21:14:11.419416Z"
    }
   },
   "outputs": [
    {
     "data": {
      "text/html": [
       "<div>\n",
       "<style scoped>\n",
       "    .dataframe tbody tr th:only-of-type {\n",
       "        vertical-align: middle;\n",
       "    }\n",
       "\n",
       "    .dataframe tbody tr th {\n",
       "        vertical-align: top;\n",
       "    }\n",
       "\n",
       "    .dataframe thead th {\n",
       "        text-align: right;\n",
       "    }\n",
       "</style>\n",
       "<table border=\"1\" class=\"dataframe\">\n",
       "  <thead>\n",
       "    <tr style=\"text-align: right;\">\n",
       "      <th></th>\n",
       "      <th>Model</th>\n",
       "      <th>Survey</th>\n",
       "    </tr>\n",
       "    <tr>\n",
       "      <th>Trip Mode</th>\n",
       "      <th></th>\n",
       "      <th></th>\n",
       "    </tr>\n",
       "  </thead>\n",
       "  <tbody>\n",
       "    <tr>\n",
       "      <th>Bike</th>\n",
       "      <td>1.0%</td>\n",
       "      <td>0.3%</td>\n",
       "    </tr>\n",
       "    <tr>\n",
       "      <th>HOV2</th>\n",
       "      <td>30.9%</td>\n",
       "      <td>31.4%</td>\n",
       "    </tr>\n",
       "    <tr>\n",
       "      <th>HOV3+</th>\n",
       "      <td>25.4%</td>\n",
       "      <td>39.0%</td>\n",
       "    </tr>\n",
       "    <tr>\n",
       "      <th>SOV</th>\n",
       "      <td>31.6%</td>\n",
       "      <td>23.5%</td>\n",
       "    </tr>\n",
       "    <tr>\n",
       "      <th>School Bus</th>\n",
       "      <td>0.3%</td>\n",
       "      <td>0.4%</td>\n",
       "    </tr>\n",
       "    <tr>\n",
       "      <th>TNC</th>\n",
       "      <td>0.1%</td>\n",
       "      <td>0.0%</td>\n",
       "    </tr>\n",
       "    <tr>\n",
       "      <th>Transit</th>\n",
       "      <td>0.4%</td>\n",
       "      <td>0.1%</td>\n",
       "    </tr>\n",
       "    <tr>\n",
       "      <th>Walk</th>\n",
       "      <td>10.3%</td>\n",
       "      <td>5.2%</td>\n",
       "    </tr>\n",
       "  </tbody>\n",
       "</table>\n",
       "</div>"
      ],
      "text/plain": [
       "             Model   Survey\n",
       "Trip Mode                  \n",
       "Bike          1.0%     0.3%\n",
       "HOV2         30.9%    31.4%\n",
       "HOV3+        25.4%    39.0%\n",
       "SOV          31.6%    23.5%\n",
       "School Bus    0.3%     0.4%\n",
       "TNC           0.1%     0.0%\n",
       "Transit       0.4%     0.1%\n",
       "Walk         10.3%     5.2%"
      ]
     },
     "execution_count": 10,
     "metadata": {},
     "output_type": "execute_result"
    }
   ],
   "source": [
    "df_model = pd.read_csv(os.path.join(working_dir,fname+'.csv'))\n",
    "df_survey = pd.read_csv(os.path.join(working_dir,'survey',fname+'.csv'))\n",
    "df_model = df_model[df_model['dpurp'] == 'Escort']\n",
    "df_survey = df_survey[df_survey['dpurp'] == 'Escort']\n",
    "df_model = (df_model.groupby('mode').sum()[['trexpfac']]/df_model['trexpfac'].sum()).reset_index()\n",
    "df_survey = (df_survey.groupby('mode').sum()[['trexpfac']]/df_survey['trexpfac'].sum()).reset_index()\n",
    "df = df_model.merge(df_survey, on='mode', suffixes=['_model','_survey'])\n",
    "df.columns = ['Trip Mode',' Model',' Survey']\n",
    "df.index = df['Trip Mode']\n",
    "df.drop('Trip Mode', axis=1, inplace=True)\n",
    "df"
   ]
  },
  {
   "cell_type": "code",
   "execution_count": 11,
   "metadata": {
    "execution": {
     "iopub.execute_input": "2024-04-03T21:14:11.419416Z",
     "iopub.status.busy": "2024-04-03T21:14:11.419416Z",
     "iopub.status.idle": "2024-04-03T21:14:11.606805Z",
     "shell.execute_reply": "2024-04-03T21:14:11.606805Z"
    }
   },
   "outputs": [
    {
     "data": {
      "text/plain": [
       "<AxesSubplot:ylabel='Trip Mode'>"
      ]
     },
     "execution_count": 11,
     "metadata": {},
     "output_type": "execute_result"
    },
    {
     "data": {
      "image/png": "[encoded data removed]",
      "text/plain": [
       "<Figure size 432x288 with 1 Axes>"
      ]
     },
     "metadata": {
      "needs_background": "light"
     },
     "output_type": "display_data"
    }
   ],
   "source": [
    "df.plot(kind='barh', alpha=0.6)"
   ]
  },
  {
   "cell_type": "markdown",
   "metadata": {},
   "source": [
    "# Other Trip Mode"
   ]
  },
  {
   "cell_type": "code",
   "execution_count": 12,
   "metadata": {
    "execution": {
     "iopub.execute_input": "2024-04-03T21:14:11.606805Z",
     "iopub.status.busy": "2024-04-03T21:14:11.606805Z",
     "iopub.status.idle": "2024-04-03T21:14:11.684949Z",
     "shell.execute_reply": "2024-04-03T21:14:11.684949Z"
    }
   },
   "outputs": [
    {
     "data": {
      "text/html": [
       "<div>\n",
       "<style scoped>\n",
       "    .dataframe tbody tr th:only-of-type {\n",
       "        vertical-align: middle;\n",
       "    }\n",
       "\n",
       "    .dataframe tbody tr th {\n",
       "        vertical-align: top;\n",
       "    }\n",
       "\n",
       "    .dataframe thead th {\n",
       "        text-align: right;\n",
       "    }\n",
       "</style>\n",
       "<table border=\"1\" class=\"dataframe\">\n",
       "  <thead>\n",
       "    <tr style=\"text-align: right;\">\n",
       "      <th></th>\n",
       "      <th>Model</th>\n",
       "      <th>Survey</th>\n",
       "    </tr>\n",
       "    <tr>\n",
       "      <th>Trip Mode</th>\n",
       "      <th></th>\n",
       "      <th></th>\n",
       "    </tr>\n",
       "  </thead>\n",
       "  <tbody>\n",
       "    <tr>\n",
       "      <th>Bike</th>\n",
       "      <td>0.9%</td>\n",
       "      <td>0.7%</td>\n",
       "    </tr>\n",
       "    <tr>\n",
       "      <th>HOV2</th>\n",
       "      <td>22.3%</td>\n",
       "      <td>18.9%</td>\n",
       "    </tr>\n",
       "    <tr>\n",
       "      <th>HOV3+</th>\n",
       "      <td>19.6%</td>\n",
       "      <td>21.7%</td>\n",
       "    </tr>\n",
       "    <tr>\n",
       "      <th>SOV</th>\n",
       "      <td>38.1%</td>\n",
       "      <td>42.4%</td>\n",
       "    </tr>\n",
       "    <tr>\n",
       "      <th>School Bus</th>\n",
       "      <td>1.4%</td>\n",
       "      <td>1.4%</td>\n",
       "    </tr>\n",
       "    <tr>\n",
       "      <th>TNC</th>\n",
       "      <td>0.8%</td>\n",
       "      <td>0.2%</td>\n",
       "    </tr>\n",
       "    <tr>\n",
       "      <th>Transit</th>\n",
       "      <td>2.3%</td>\n",
       "      <td>2.7%</td>\n",
       "    </tr>\n",
       "    <tr>\n",
       "      <th>Walk</th>\n",
       "      <td>14.6%</td>\n",
       "      <td>11.4%</td>\n",
       "    </tr>\n",
       "  </tbody>\n",
       "</table>\n",
       "</div>"
      ],
      "text/plain": [
       "             Model   Survey\n",
       "Trip Mode                  \n",
       "Bike          0.9%     0.7%\n",
       "HOV2         22.3%    18.9%\n",
       "HOV3+        19.6%    21.7%\n",
       "SOV          38.1%    42.4%\n",
       "School Bus    1.4%     1.4%\n",
       "TNC           0.8%     0.2%\n",
       "Transit       2.3%     2.7%\n",
       "Walk         14.6%    11.4%"
      ]
     },
     "execution_count": 12,
     "metadata": {},
     "output_type": "execute_result"
    }
   ],
   "source": [
    "df_model = pd.read_csv(os.path.join(working_dir,fname+'.csv'))\n",
    "df_survey = pd.read_csv(os.path.join(working_dir,'survey',fname+'.csv'))\n",
    "df_model = df_model[-df_model['dpurp'].isin(['School','Work','Escort'])]\n",
    "df_survey = df_survey[-df_survey['dpurp'].isin(['School','Work','Escort'])]\n",
    "df_model = (df_model.groupby('mode').sum()[['trexpfac']]/df_model['trexpfac'].sum()).reset_index()\n",
    "df_survey = (df_survey.groupby('mode').sum()[['trexpfac']]/df_survey['trexpfac'].sum()).reset_index()\n",
    "df = df_model.merge(df_survey, on='mode', suffixes=['_model','_survey'])\n",
    "df.columns = ['Trip Mode',' Model',' Survey']\n",
    "df.index = df['Trip Mode']\n",
    "df.drop('Trip Mode', axis=1, inplace=True)\n",
    "df"
   ]
  },
  {
   "cell_type": "code",
   "execution_count": 13,
   "metadata": {
    "execution": {
     "iopub.execute_input": "2024-04-03T21:14:11.684949Z",
     "iopub.status.busy": "2024-04-03T21:14:11.684949Z",
     "iopub.status.idle": "2024-04-03T21:14:11.872372Z",
     "shell.execute_reply": "2024-04-03T21:14:11.872372Z"
    }
   },
   "outputs": [
    {
     "data": {
      "text/plain": [
       "<AxesSubplot:ylabel='Trip Mode'>"
      ]
     },
     "execution_count": 13,
     "metadata": {},
     "output_type": "execute_result"
    },
    {
     "data": {
      "image/png": "[encoded data removed]",
      "text/plain": [
       "<Figure size 432x288 with 1 Axes>"
      ]
     },
     "metadata": {
      "needs_background": "light"
     },
     "output_type": "display_data"
    }
   ],
   "source": [
    "df.plot(kind='barh', alpha=0.6)"
   ]
  }
 ],
 "metadata": {
  "kernelspec": {
   "display_name": "Python 3",
   "language": "python",
   "name": "python3"
  },
  "language_info": {
   "codemirror_mode": {
    "name": "ipython",
    "version": 3
   },
   "file_extension": ".py",
   "mimetype": "text/x-python",
   "name": "python",
   "nbconvert_exporter": "python",
   "pygments_lexer": "ipython3",
   "version": "3.7.10"
  }
 },
 "nbformat": 4,
 "nbformat_minor": 2
}
