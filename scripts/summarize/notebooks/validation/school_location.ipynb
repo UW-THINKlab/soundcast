{
 "cells": [
  {
   "cell_type": "code",
   "execution_count": 1,
   "metadata": {
    "execution": {
     "iopub.execute_input": "2024-04-03T21:12:46.871740Z",
     "iopub.status.busy": "2024-04-03T21:12:46.871740Z",
     "iopub.status.idle": "2024-04-03T21:12:47.855862Z",
     "shell.execute_reply": "2024-04-03T21:12:47.855862Z"
    }
   },
   "outputs": [
    {
     "name": "stdout",
     "output_type": "stream",
     "text": [
      "C:\\Workspace\\sc_2023_11_05_24\\scripts\\summarize\\notebooks\\validation\n"
     ]
    }
   ],
   "source": [
    "import warnings\n",
    "warnings.simplefilter(action='ignore', category=FutureWarning)\n",
    "import pandas as pd\n",
    "import os, sys\n",
    "import toml\n",
    "config = toml.load('../../../../configuration/input_configuration.toml')\n",
    "%matplotlib inline\n",
    "\n",
    "# os.chdir('..\\..\\..\\..')\n",
    "print(os.getcwd())\n",
    "\n",
    "from IPython.display import display, HTML\n",
    "\n",
    "if (sys.version_info < (3, 0)):\n",
    "    HTML('''<script>\n",
    "    code_show=true; \n",
    "    function code_toggle() {\n",
    "     if (code_show){\n",
    "     $('div.input').hide();\n",
    "     } else {\n",
    "     $('div.input').show();\n",
    "     }\n",
    "     code_show = !code_show\n",
    "    } \n",
    "    $( document ).ready(code_toggle);\n",
    "    </script>\n",
    "    <form action=\"javascript:code_toggle()\"><input type=\"submit\" value=\"Click here to toggle on/off the raw code.\"></form>''')\n"
   ]
  },
  {
   "cell_type": "code",
   "execution_count": 2,
   "metadata": {
    "execution": {
     "iopub.execute_input": "2024-04-03T21:12:47.855862Z",
     "iopub.status.busy": "2024-04-03T21:12:47.855862Z",
     "iopub.status.idle": "2024-04-03T21:12:47.871417Z",
     "shell.execute_reply": "2024-04-03T21:12:47.871417Z"
    }
   },
   "outputs": [],
   "source": [
    "working_dir = r'outputs/agg/dash'\n",
    "# pd.options.display.float_format = '{:0,.0f}'.format\n",
    "format_percent = \"{:,.2%}\".format"
   ]
  },
  {
   "cell_type": "code",
   "execution_count": 3,
   "metadata": {
    "execution": {
     "iopub.execute_input": "2024-04-03T21:12:47.871417Z",
     "iopub.status.busy": "2024-04-03T21:12:47.871417Z",
     "iopub.status.idle": "2024-04-03T21:12:47.887037Z",
     "shell.execute_reply": "2024-04-03T21:12:47.887037Z"
    }
   },
   "outputs": [],
   "source": [
    "def load_data(fname):\n",
    "    \"\"\" open and join model and survey data \"\"\"\n",
    "\n",
    "    df_model = pd.read_csv(os.path.join(working_dir,fname+'.csv'))\n",
    "    df_model['source'] = 'model'\n",
    "    df_survey = pd.read_csv(os.path.join(working_dir,'survey',fname+'.csv'))\n",
    "    df_survey['source'] = 'survey'\n",
    "    df = df_model.append(df_survey)\n",
    "\n",
    "    return df"
   ]
  },
  {
   "cell_type": "code",
   "execution_count": 4,
   "metadata": {
    "execution": {
     "iopub.execute_input": "2024-04-03T21:12:47.887037Z",
     "iopub.status.busy": "2024-04-03T21:12:47.887037Z",
     "iopub.status.idle": "2024-04-03T21:12:50.638013Z",
     "shell.execute_reply": "2024-04-03T21:12:50.637010Z"
    }
   },
   "outputs": [],
   "source": [
    "parcel_geog = pd.read_sql_table('parcel_'+config['base_year']+'_geography', 'sqlite:///../../../../inputs/db/'+config['db_name'],\n",
    "        columns=['CountyName','ParcelID'])"
   ]
  },
  {
   "cell_type": "markdown",
   "metadata": {},
   "source": [
    "# Usual School Distance"
   ]
  },
  {
   "cell_type": "code",
   "execution_count": 5,
   "metadata": {
    "execution": {
     "iopub.execute_input": "2024-04-03T21:12:50.643998Z",
     "iopub.status.busy": "2024-04-03T21:12:50.643998Z",
     "iopub.status.idle": "2024-04-03T21:13:10.278049Z",
     "shell.execute_reply": "2024-04-03T21:13:10.278049Z"
    }
   },
   "outputs": [],
   "source": [
    "person = pd.read_csv(r'../../../../outputs/daysim/_person.tsv', delim_whitespace=True)\n",
    "person_survey = pd.read_csv(r'../../../../inputs/base_year/survey/_person.tsv', delim_whitespace=True)\n",
    "\n",
    "person['source'] = 'model'\n",
    "person_survey['source'] = 'survey'"
   ]
  },
  {
   "cell_type": "code",
   "execution_count": 6,
   "metadata": {
    "execution": {
     "iopub.execute_input": "2024-04-03T21:13:10.278049Z",
     "iopub.status.busy": "2024-04-03T21:13:10.278049Z",
     "iopub.status.idle": "2024-04-03T21:13:12.173568Z",
     "shell.execute_reply": "2024-04-03T21:13:12.172565Z"
    }
   },
   "outputs": [],
   "source": [
    "person = person.append(person_survey)\n",
    "person = person.merge(parcel_geog, left_on='pspcl', right_on='ParcelID', how='left')"
   ]
  },
  {
   "cell_type": "code",
   "execution_count": 7,
   "metadata": {
    "execution": {
     "iopub.execute_input": "2024-04-03T21:13:12.179552Z",
     "iopub.status.busy": "2024-04-03T21:13:12.179552Z",
     "iopub.status.idle": "2024-04-03T21:13:12.267157Z",
     "shell.execute_reply": "2024-04-03T21:13:12.266153Z"
    }
   },
   "outputs": [],
   "source": [
    "person['wt_psautime'] = person['psautime']*person['psexpfac']\n",
    "person['wt_psaudist'] = person['psaudist']*person['psexpfac']"
   ]
  },
  {
   "cell_type": "markdown",
   "metadata": {},
   "source": [
    "### Average Distance for **All Students**"
   ]
  },
  {
   "cell_type": "code",
   "execution_count": 8,
   "metadata": {
    "execution": {
     "iopub.execute_input": "2024-04-03T21:13:12.273209Z",
     "iopub.status.busy": "2024-04-03T21:13:12.273209Z",
     "iopub.status.idle": "2024-04-03T21:13:13.669213Z",
     "shell.execute_reply": "2024-04-03T21:13:13.669213Z"
    }
   },
   "outputs": [
    {
     "data": {
      "text/plain": [
       "source\n",
       "model     4.904808\n",
       "survey    3.754234\n",
       "dtype: float64"
      ]
     },
     "execution_count": 8,
     "metadata": {},
     "output_type": "execute_result"
    }
   ],
   "source": [
    "df = person[(person['pstaz'] > 0) & (person['psaudist'] > 0)]\n",
    "df.groupby('source').sum()['wt_psaudist']/df.groupby('source').sum()['psexpfac']"
   ]
  },
  {
   "cell_type": "markdown",
   "metadata": {},
   "source": [
    "#### Average Distance by School County"
   ]
  },
  {
   "cell_type": "code",
   "execution_count": 9,
   "metadata": {
    "execution": {
     "iopub.execute_input": "2024-04-03T21:13:13.669213Z",
     "iopub.status.busy": "2024-04-03T21:13:13.669213Z",
     "iopub.status.idle": "2024-04-03T21:13:14.387498Z",
     "shell.execute_reply": "2024-04-03T21:13:14.387498Z"
    }
   },
   "outputs": [
    {
     "data": {
      "text/html": [
       "<div>\n",
       "<style scoped>\n",
       "    .dataframe tbody tr th:only-of-type {\n",
       "        vertical-align: middle;\n",
       "    }\n",
       "\n",
       "    .dataframe tbody tr th {\n",
       "        vertical-align: top;\n",
       "    }\n",
       "\n",
       "    .dataframe thead th {\n",
       "        text-align: right;\n",
       "    }\n",
       "</style>\n",
       "<table border=\"1\" class=\"dataframe\">\n",
       "  <thead>\n",
       "    <tr style=\"text-align: right;\">\n",
       "      <th>source</th>\n",
       "      <th>model</th>\n",
       "      <th>survey</th>\n",
       "    </tr>\n",
       "    <tr>\n",
       "      <th>CountyName</th>\n",
       "      <th></th>\n",
       "      <th></th>\n",
       "    </tr>\n",
       "  </thead>\n",
       "  <tbody>\n",
       "    <tr>\n",
       "      <th>King</th>\n",
       "      <td>5.379012</td>\n",
       "      <td>3.541264</td>\n",
       "    </tr>\n",
       "    <tr>\n",
       "      <th>Kitsap</th>\n",
       "      <td>4.204851</td>\n",
       "      <td>2.541304</td>\n",
       "    </tr>\n",
       "    <tr>\n",
       "      <th>Pierce</th>\n",
       "      <td>5.794585</td>\n",
       "      <td>3.707648</td>\n",
       "    </tr>\n",
       "    <tr>\n",
       "      <th>Snohomish</th>\n",
       "      <td>4.178779</td>\n",
       "      <td>2.968299</td>\n",
       "    </tr>\n",
       "  </tbody>\n",
       "</table>\n",
       "</div>"
      ],
      "text/plain": [
       "source         model    survey\n",
       "CountyName                    \n",
       "King        5.379012  3.541264\n",
       "Kitsap      4.204851  2.541304\n",
       "Pierce      5.794585  3.707648\n",
       "Snohomish   4.178779  2.968299"
      ]
     },
     "execution_count": 9,
     "metadata": {},
     "output_type": "execute_result"
    }
   ],
   "source": [
    "df1 = df.groupby(['CountyName', 'source']).sum()[['wt_psaudist']]\n",
    "df2 = df.groupby(['CountyName', 'source']).sum()[['psexpfac']]\n",
    "_df = df1.merge(df2, left_index=True, right_index=True)\n",
    "_df = pd.DataFrame(_df['wt_psaudist']/_df['psexpfac'])\n",
    "_df.pivot_table(index='CountyName', columns='source', values=0, aggfunc='sum')"
   ]
  },
  {
   "cell_type": "markdown",
   "metadata": {},
   "source": [
    "### Average Distance for **University** Students only"
   ]
  },
  {
   "cell_type": "code",
   "execution_count": 10,
   "metadata": {
    "execution": {
     "iopub.execute_input": "2024-04-03T21:13:14.387498Z",
     "iopub.status.busy": "2024-04-03T21:13:14.387498Z",
     "iopub.status.idle": "2024-04-03T21:13:14.652994Z",
     "shell.execute_reply": "2024-04-03T21:13:14.652994Z"
    }
   },
   "outputs": [
    {
     "data": {
      "text/plain": [
       "source\n",
       "model     8.430503\n",
       "survey    7.706683\n",
       "dtype: float64"
      ]
     },
     "execution_count": 10,
     "metadata": {},
     "output_type": "execute_result"
    }
   ],
   "source": [
    "df = person[(person['pstaz'] > 0) & (person['psaudist'] > 0) & (person['pptyp'] == 5)]\n",
    "df.groupby('source').sum()['wt_psaudist']/df.groupby('source').sum()['psexpfac']"
   ]
  },
  {
   "cell_type": "markdown",
   "metadata": {},
   "source": [
    "#### Average Distance by School County"
   ]
  },
  {
   "cell_type": "code",
   "execution_count": 11,
   "metadata": {
    "execution": {
     "iopub.execute_input": "2024-04-03T21:13:14.652994Z",
     "iopub.status.busy": "2024-04-03T21:13:14.652994Z",
     "iopub.status.idle": "2024-04-03T21:13:14.824830Z",
     "shell.execute_reply": "2024-04-03T21:13:14.824830Z"
    }
   },
   "outputs": [
    {
     "data": {
      "text/html": [
       "<div>\n",
       "<style scoped>\n",
       "    .dataframe tbody tr th:only-of-type {\n",
       "        vertical-align: middle;\n",
       "    }\n",
       "\n",
       "    .dataframe tbody tr th {\n",
       "        vertical-align: top;\n",
       "    }\n",
       "\n",
       "    .dataframe thead th {\n",
       "        text-align: right;\n",
       "    }\n",
       "</style>\n",
       "<table border=\"1\" class=\"dataframe\">\n",
       "  <thead>\n",
       "    <tr style=\"text-align: right;\">\n",
       "      <th>source</th>\n",
       "      <th>model</th>\n",
       "      <th>survey</th>\n",
       "    </tr>\n",
       "    <tr>\n",
       "      <th>CountyName</th>\n",
       "      <th></th>\n",
       "      <th></th>\n",
       "    </tr>\n",
       "  </thead>\n",
       "  <tbody>\n",
       "    <tr>\n",
       "      <th>King</th>\n",
       "      <td>8.598862</td>\n",
       "      <td>9.075916</td>\n",
       "    </tr>\n",
       "    <tr>\n",
       "      <th>Kitsap</th>\n",
       "      <td>6.868887</td>\n",
       "      <td>10.886755</td>\n",
       "    </tr>\n",
       "    <tr>\n",
       "      <th>Pierce</th>\n",
       "      <td>9.936805</td>\n",
       "      <td>14.143063</td>\n",
       "    </tr>\n",
       "    <tr>\n",
       "      <th>Snohomish</th>\n",
       "      <td>7.503731</td>\n",
       "      <td>1.630113</td>\n",
       "    </tr>\n",
       "  </tbody>\n",
       "</table>\n",
       "</div>"
      ],
      "text/plain": [
       "source         model     survey\n",
       "CountyName                     \n",
       "King        8.598862   9.075916\n",
       "Kitsap      6.868887  10.886755\n",
       "Pierce      9.936805  14.143063\n",
       "Snohomish   7.503731   1.630113"
      ]
     },
     "execution_count": 11,
     "metadata": {},
     "output_type": "execute_result"
    }
   ],
   "source": [
    "df1 = df.groupby(['CountyName', 'source']).sum()[['wt_psaudist']]\n",
    "df2 = df.groupby(['CountyName', 'source']).sum()[['psexpfac']]\n",
    "_df = df1.merge(df2, left_index=True, right_index=True)\n",
    "_df = pd.DataFrame(_df['wt_psaudist']/_df['psexpfac'])\n",
    "_df.pivot_table(index='CountyName', columns='source', values=0, aggfunc='sum')"
   ]
  },
  {
   "cell_type": "markdown",
   "metadata": {},
   "source": [
    "#### Top 10 University TAZs"
   ]
  },
  {
   "cell_type": "code",
   "execution_count": 12,
   "metadata": {
    "execution": {
     "iopub.execute_input": "2024-04-03T21:13:14.824830Z",
     "iopub.status.busy": "2024-04-03T21:13:14.824830Z",
     "iopub.status.idle": "2024-04-03T21:13:14.871803Z",
     "shell.execute_reply": "2024-04-03T21:13:14.871803Z"
    }
   },
   "outputs": [],
   "source": [
    "_df = person_survey[person_survey['pptyp'] == 5]\n",
    "_df = _df[_df['psaudist'] > 0]\n",
    "# Top 10 College Destinations\n",
    "n = 10\n",
    "top10_college = _df['pstaz'].value_counts()[:n].index.tolist()\n",
    "\n",
    "_df['wt_psaudist'] = _df['psaudist']*_df['psexpfac']\n",
    "survey_avg = _df[_df['pstaz'].isin(top10_college)].groupby('pstaz').sum()[['psexpfac','wt_psaudist']]\n",
    "survey_avg['average_survey'] = survey_avg['wt_psaudist']/survey_avg['psexpfac']\n",
    "\n",
    "# add survey count as we;ll\n",
    "person_count = person_survey[(person_survey['pptyp'] == 5) & (person_survey['psaudist'] >0)]\n",
    "person_count = person_count.groupby('pstaz').count()[['hhno']].reset_index()\n",
    "person_count.rename(columns={'hhno': 'sample_count'}, inplace=True)\n",
    "survey_avg = survey_avg.merge(person_count, left_index=True, right_on='pstaz')"
   ]
  },
  {
   "cell_type": "code",
   "execution_count": 13,
   "metadata": {
    "execution": {
     "iopub.execute_input": "2024-04-03T21:13:14.871803Z",
     "iopub.status.busy": "2024-04-03T21:13:14.871803Z",
     "iopub.status.idle": "2024-04-03T21:13:15.074772Z",
     "shell.execute_reply": "2024-04-03T21:13:15.074772Z"
    }
   },
   "outputs": [],
   "source": [
    "model_avg = person[person['pptyp'] == 5]\n",
    "model_avg = model_avg[model_avg['psaudist'] > 0]\n",
    "model_avg = model_avg[model_avg['pstaz'].isin(top10_college)].groupby('pstaz').sum()[['psexpfac','psaudist']]\n",
    "model_avg['average_model'] = model_avg['psaudist']/model_avg['psexpfac']\n",
    "model_avg = model_avg.reset_index()"
   ]
  },
  {
   "cell_type": "code",
   "execution_count": 14,
   "metadata": {
    "execution": {
     "iopub.execute_input": "2024-04-03T21:13:15.074772Z",
     "iopub.status.busy": "2024-04-03T21:13:15.074772Z",
     "iopub.status.idle": "2024-04-03T21:13:15.106015Z",
     "shell.execute_reply": "2024-04-03T21:13:15.106015Z"
    }
   },
   "outputs": [
    {
     "data": {
      "text/html": [
       "<div>\n",
       "<style scoped>\n",
       "    .dataframe tbody tr th:only-of-type {\n",
       "        vertical-align: middle;\n",
       "    }\n",
       "\n",
       "    .dataframe tbody tr th {\n",
       "        vertical-align: top;\n",
       "    }\n",
       "\n",
       "    .dataframe thead th {\n",
       "        text-align: right;\n",
       "    }\n",
       "</style>\n",
       "<table border=\"1\" class=\"dataframe\">\n",
       "  <thead>\n",
       "    <tr style=\"text-align: right;\">\n",
       "      <th></th>\n",
       "      <th>average_model</th>\n",
       "      <th>pstaz</th>\n",
       "      <th>average_survey</th>\n",
       "      <th>sample_count</th>\n",
       "    </tr>\n",
       "  </thead>\n",
       "  <tbody>\n",
       "    <tr>\n",
       "      <th>0</th>\n",
       "      <td>9.638840</td>\n",
       "      <td>72</td>\n",
       "      <td>6.530000</td>\n",
       "      <td>4</td>\n",
       "    </tr>\n",
       "    <tr>\n",
       "      <th>1</th>\n",
       "      <td>6.147939</td>\n",
       "      <td>302</td>\n",
       "      <td>8.847383</td>\n",
       "      <td>84</td>\n",
       "    </tr>\n",
       "    <tr>\n",
       "      <th>2</th>\n",
       "      <td>0.059181</td>\n",
       "      <td>507</td>\n",
       "      <td>0.110000</td>\n",
       "      <td>4</td>\n",
       "    </tr>\n",
       "    <tr>\n",
       "      <th>3</th>\n",
       "      <td>4.209718</td>\n",
       "      <td>552</td>\n",
       "      <td>4.081184</td>\n",
       "      <td>8</td>\n",
       "    </tr>\n",
       "    <tr>\n",
       "      <th>4</th>\n",
       "      <td>6.002686</td>\n",
       "      <td>584</td>\n",
       "      <td>4.708535</td>\n",
       "      <td>10</td>\n",
       "    </tr>\n",
       "    <tr>\n",
       "      <th>5</th>\n",
       "      <td>0.042540</td>\n",
       "      <td>1643</td>\n",
       "      <td>0.340000</td>\n",
       "      <td>4</td>\n",
       "    </tr>\n",
       "    <tr>\n",
       "      <th>6</th>\n",
       "      <td>3.889794</td>\n",
       "      <td>1798</td>\n",
       "      <td>18.278493</td>\n",
       "      <td>11</td>\n",
       "    </tr>\n",
       "    <tr>\n",
       "      <th>7</th>\n",
       "      <td>9.467174</td>\n",
       "      <td>2252</td>\n",
       "      <td>23.560000</td>\n",
       "      <td>4</td>\n",
       "    </tr>\n",
       "    <tr>\n",
       "      <th>8</th>\n",
       "      <td>0.974354</td>\n",
       "      <td>2485</td>\n",
       "      <td>0.560000</td>\n",
       "      <td>4</td>\n",
       "    </tr>\n",
       "    <tr>\n",
       "      <th>9</th>\n",
       "      <td>0.093917</td>\n",
       "      <td>2627</td>\n",
       "      <td>0.290000</td>\n",
       "      <td>4</td>\n",
       "    </tr>\n",
       "  </tbody>\n",
       "</table>\n",
       "</div>"
      ],
      "text/plain": [
       "   average_model  pstaz  average_survey  sample_count\n",
       "0       9.638840     72        6.530000             4\n",
       "1       6.147939    302        8.847383            84\n",
       "2       0.059181    507        0.110000             4\n",
       "3       4.209718    552        4.081184             8\n",
       "4       6.002686    584        4.708535            10\n",
       "5       0.042540   1643        0.340000             4\n",
       "6       3.889794   1798       18.278493            11\n",
       "7       9.467174   2252       23.560000             4\n",
       "8       0.974354   2485        0.560000             4\n",
       "9       0.093917   2627        0.290000             4"
      ]
     },
     "execution_count": 14,
     "metadata": {},
     "output_type": "execute_result"
    }
   ],
   "source": [
    "_df = model_avg[['average_model','pstaz']].merge(survey_avg[['average_survey','sample_count','pstaz']], on='pstaz')\n",
    "# _df[~_df.average_survey.isnull()]\n",
    "_df"
   ]
  },
  {
   "cell_type": "markdown",
   "metadata": {},
   "source": [
    "#### Average Distance for **High School Students 16+** "
   ]
  },
  {
   "cell_type": "code",
   "execution_count": 15,
   "metadata": {
    "execution": {
     "iopub.execute_input": "2024-04-03T21:13:15.106015Z",
     "iopub.status.busy": "2024-04-03T21:13:15.106015Z",
     "iopub.status.idle": "2024-04-03T21:13:15.309094Z",
     "shell.execute_reply": "2024-04-03T21:13:15.309094Z"
    }
   },
   "outputs": [
    {
     "data": {
      "text/plain": [
       "source\n",
       "model     3.907375\n",
       "survey    3.979932\n",
       "dtype: float64"
      ]
     },
     "execution_count": 15,
     "metadata": {},
     "output_type": "execute_result"
    }
   ],
   "source": [
    "df = person[(person['pstaz'] > 0) & (person['psaudist'] > 0) & (person['pptyp'] == 6)]\n",
    "df.groupby('source').sum()['wt_psaudist']/df.groupby('source').sum()['psexpfac']"
   ]
  },
  {
   "cell_type": "code",
   "execution_count": 16,
   "metadata": {
    "execution": {
     "iopub.execute_input": "2024-04-03T21:13:15.309094Z",
     "iopub.status.busy": "2024-04-03T21:13:15.309094Z",
     "iopub.status.idle": "2024-04-03T21:13:15.434064Z",
     "shell.execute_reply": "2024-04-03T21:13:15.434064Z"
    }
   },
   "outputs": [
    {
     "data": {
      "text/html": [
       "<div>\n",
       "<style scoped>\n",
       "    .dataframe tbody tr th:only-of-type {\n",
       "        vertical-align: middle;\n",
       "    }\n",
       "\n",
       "    .dataframe tbody tr th {\n",
       "        vertical-align: top;\n",
       "    }\n",
       "\n",
       "    .dataframe thead th {\n",
       "        text-align: right;\n",
       "    }\n",
       "</style>\n",
       "<table border=\"1\" class=\"dataframe\">\n",
       "  <thead>\n",
       "    <tr style=\"text-align: right;\">\n",
       "      <th>source</th>\n",
       "      <th>model</th>\n",
       "      <th>survey</th>\n",
       "    </tr>\n",
       "    <tr>\n",
       "      <th>CountyName</th>\n",
       "      <th></th>\n",
       "      <th></th>\n",
       "    </tr>\n",
       "  </thead>\n",
       "  <tbody>\n",
       "    <tr>\n",
       "      <th>King</th>\n",
       "      <td>4.030207</td>\n",
       "      <td>3.815083</td>\n",
       "    </tr>\n",
       "    <tr>\n",
       "      <th>Kitsap</th>\n",
       "      <td>2.921943</td>\n",
       "      <td>2.391689</td>\n",
       "    </tr>\n",
       "    <tr>\n",
       "      <th>Pierce</th>\n",
       "      <td>4.137970</td>\n",
       "      <td>2.977497</td>\n",
       "    </tr>\n",
       "    <tr>\n",
       "      <th>Snohomish</th>\n",
       "      <td>3.687855</td>\n",
       "      <td>3.146119</td>\n",
       "    </tr>\n",
       "  </tbody>\n",
       "</table>\n",
       "</div>"
      ],
      "text/plain": [
       "source         model    survey\n",
       "CountyName                    \n",
       "King        4.030207  3.815083\n",
       "Kitsap      2.921943  2.391689\n",
       "Pierce      4.137970  2.977497\n",
       "Snohomish   3.687855  3.146119"
      ]
     },
     "execution_count": 16,
     "metadata": {},
     "output_type": "execute_result"
    }
   ],
   "source": [
    "df1 = df.groupby(['CountyName', 'source']).sum()[['wt_psaudist']]\n",
    "df2 = df.groupby(['CountyName', 'source']).sum()[['psexpfac']]\n",
    "_df = df1.merge(df2, left_index=True, right_index=True)\n",
    "_df = pd.DataFrame(_df['wt_psaudist']/_df['psexpfac'])\n",
    "_df.pivot_table(index='CountyName', columns='source', values=0, aggfunc='sum')"
   ]
  },
  {
   "cell_type": "markdown",
   "metadata": {},
   "source": [
    "### Average Distance for **Kids Age 5-15**"
   ]
  },
  {
   "cell_type": "code",
   "execution_count": 17,
   "metadata": {
    "execution": {
     "iopub.execute_input": "2024-04-03T21:13:15.434064Z",
     "iopub.status.busy": "2024-04-03T21:13:15.434064Z",
     "iopub.status.idle": "2024-04-03T21:13:15.887087Z",
     "shell.execute_reply": "2024-04-03T21:13:15.887087Z"
    }
   },
   "outputs": [
    {
     "data": {
      "text/plain": [
       "source\n",
       "model     3.283598\n",
       "survey    3.036558\n",
       "dtype: float64"
      ]
     },
     "execution_count": 17,
     "metadata": {},
     "output_type": "execute_result"
    }
   ],
   "source": [
    "df = person[(person['pstaz'] > 0) & (person['psaudist'] > 0) & (person['pptyp'] == 7)]\n",
    "df.groupby('source').sum()['wt_psaudist']/df.groupby('source').sum()['psexpfac']"
   ]
  },
  {
   "cell_type": "markdown",
   "metadata": {},
   "source": [
    "#### Average Distance by School County"
   ]
  },
  {
   "cell_type": "code",
   "execution_count": 18,
   "metadata": {
    "execution": {
     "iopub.execute_input": "2024-04-03T21:13:15.887087Z",
     "iopub.status.busy": "2024-04-03T21:13:15.887087Z",
     "iopub.status.idle": "2024-04-03T21:13:16.324487Z",
     "shell.execute_reply": "2024-04-03T21:13:16.324487Z"
    }
   },
   "outputs": [
    {
     "data": {
      "text/html": [
       "<div>\n",
       "<style scoped>\n",
       "    .dataframe tbody tr th:only-of-type {\n",
       "        vertical-align: middle;\n",
       "    }\n",
       "\n",
       "    .dataframe tbody tr th {\n",
       "        vertical-align: top;\n",
       "    }\n",
       "\n",
       "    .dataframe thead th {\n",
       "        text-align: right;\n",
       "    }\n",
       "</style>\n",
       "<table border=\"1\" class=\"dataframe\">\n",
       "  <thead>\n",
       "    <tr style=\"text-align: right;\">\n",
       "      <th>source</th>\n",
       "      <th>model</th>\n",
       "      <th>survey</th>\n",
       "    </tr>\n",
       "    <tr>\n",
       "      <th>CountyName</th>\n",
       "      <th></th>\n",
       "      <th></th>\n",
       "    </tr>\n",
       "  </thead>\n",
       "  <tbody>\n",
       "    <tr>\n",
       "      <th>King</th>\n",
       "      <td>3.174904</td>\n",
       "      <td>2.670200</td>\n",
       "    </tr>\n",
       "    <tr>\n",
       "      <th>Kitsap</th>\n",
       "      <td>2.915759</td>\n",
       "      <td>1.209045</td>\n",
       "    </tr>\n",
       "    <tr>\n",
       "      <th>Pierce</th>\n",
       "      <td>3.428105</td>\n",
       "      <td>2.144535</td>\n",
       "    </tr>\n",
       "    <tr>\n",
       "      <th>Snohomish</th>\n",
       "      <td>3.348220</td>\n",
       "      <td>2.973964</td>\n",
       "    </tr>\n",
       "  </tbody>\n",
       "</table>\n",
       "</div>"
      ],
      "text/plain": [
       "source         model    survey\n",
       "CountyName                    \n",
       "King        3.174904  2.670200\n",
       "Kitsap      2.915759  1.209045\n",
       "Pierce      3.428105  2.144535\n",
       "Snohomish   3.348220  2.973964"
      ]
     },
     "execution_count": 18,
     "metadata": {},
     "output_type": "execute_result"
    }
   ],
   "source": [
    "df1 = df.groupby(['CountyName', 'source']).sum()[['wt_psaudist']]\n",
    "df2 = df.groupby(['CountyName', 'source']).sum()[['psexpfac']]\n",
    "_df = df1.merge(df2, left_index=True, right_index=True)\n",
    "_df = pd.DataFrame(_df['wt_psaudist']/_df['psexpfac'])\n",
    "_df.pivot_table(index='CountyName', columns='source', values=0, aggfunc='sum')"
   ]
  },
  {
   "cell_type": "markdown",
   "metadata": {},
   "source": [
    "## Usual School Location Distance Distribution (miles)\n",
    "Percent of Total, bins of 1 mile up to 60 miles\n",
    "\n",
    "All Students"
   ]
  },
  {
   "cell_type": "code",
   "execution_count": 19,
   "metadata": {
    "execution": {
     "iopub.execute_input": "2024-04-03T21:13:16.324487Z",
     "iopub.status.busy": "2024-04-03T21:13:16.324487Z",
     "iopub.status.idle": "2024-04-03T21:13:17.424804Z",
     "shell.execute_reply": "2024-04-03T21:13:17.423736Z"
    }
   },
   "outputs": [
    {
     "data": {
      "text/plain": [
       "<AxesSubplot:xlabel='psaudist_bin'>"
      ]
     },
     "execution_count": 19,
     "metadata": {},
     "output_type": "execute_result"
    },
    {
     "data": {
      "image/png": "[encoded data removed]",
      "text/plain": [
       "<Figure size 432x288 with 1 Axes>"
      ]
     },
     "metadata": {
      "needs_background": "light"
     },
     "output_type": "display_data"
    }
   ],
   "source": [
    "# Create bins\n",
    "max_bin = 60\n",
    "person['psaudist_bin'] = pd.cut(person['psaudist'], bins=range(0,max_bin), labels=[str(i)+'-'+str(i+1) for i in range(0,max_bin-1)])\n",
    "df1 = person[(person['source'] == 'model') & (person['psaudist'] <= max_bin) & (person['psaudist'] > 0)]\n",
    "df2 = person[(person['source'] == 'survey') & (person['psaudist'] <= max_bin) & (person['psaudist'] > 0)]\n",
    "df1 = df1.groupby('psaudist_bin').sum()[['psexpfac']]/df1['psexpfac'].sum()\n",
    "df2 = df2.groupby('psaudist_bin').sum()[['psexpfac']]/df2['psexpfac'].sum()\n",
    "df = df1.merge(df2, left_index=True, right_index=True, suffixes=['_model','_survey'])\n",
    "df.plot()"
   ]
  },
  {
   "cell_type": "markdown",
   "metadata": {},
   "source": [
    "Bins of 5 miles, up to 50 miles"
   ]
  },
  {
   "cell_type": "code",
   "execution_count": 20,
   "metadata": {
    "execution": {
     "iopub.execute_input": "2024-04-03T21:13:17.430791Z",
     "iopub.status.busy": "2024-04-03T21:13:17.430791Z",
     "iopub.status.idle": "2024-04-03T21:13:17.440696Z",
     "shell.execute_reply": "2024-04-03T21:13:17.439699Z"
    }
   },
   "outputs": [
    {
     "data": {
      "text/plain": [
       "range(0, 60, 5)"
      ]
     },
     "execution_count": 20,
     "metadata": {},
     "output_type": "execute_result"
    }
   ],
   "source": [
    "range(0,max_bin,5)"
   ]
  },
  {
   "cell_type": "code",
   "execution_count": 21,
   "metadata": {
    "execution": {
     "iopub.execute_input": "2024-04-03T21:13:17.446683Z",
     "iopub.status.busy": "2024-04-03T21:13:17.446683Z",
     "iopub.status.idle": "2024-04-03T21:13:18.547134Z",
     "shell.execute_reply": "2024-04-03T21:13:18.546136Z"
    }
   },
   "outputs": [
    {
     "data": {
      "text/plain": [
       "<AxesSubplot:xlabel='psaudist_bin'>"
      ]
     },
     "execution_count": 21,
     "metadata": {},
     "output_type": "execute_result"
    },
    {
     "data": {
      "image/png": "[encoded data removed]",
      "text/plain": [
       "<Figure size 432x288 with 1 Axes>"
      ]
     },
     "metadata": {
      "needs_background": "light"
     },
     "output_type": "display_data"
    }
   ],
   "source": [
    "# Create bins\n",
    "max_bin = 30\n",
    "person['psaudist_bin'] = pd.cut(person['psaudist'], bins=range(0,max_bin,5), labels=[str(i*5)+'-'+str((i+1)*5) for i in range(0,5)])\n",
    "df1 = person[(person['source'] == 'model') & (person['psaudist'] <= max_bin) & (person['psaudist'] > 0)]\n",
    "df2 = person[(person['source'] == 'survey') & (person['psaudist'] <= max_bin) & (person['psaudist'] > 0)]\n",
    "df1 = df1.groupby('psaudist_bin').sum()[['psexpfac']]/df1['psexpfac'].sum()\n",
    "df2 = df2.groupby('psaudist_bin').sum()[['psexpfac']]/df2['psexpfac'].sum()\n",
    "df = df1.merge(df2, left_index=True, right_index=True, suffixes=['_model','_survey'])\n",
    "df.plot(kind='bar')"
   ]
  },
  {
   "cell_type": "markdown",
   "metadata": {},
   "source": [
    "### College Student Usual School Distance"
   ]
  },
  {
   "cell_type": "code",
   "execution_count": 22,
   "metadata": {
    "execution": {
     "iopub.execute_input": "2024-04-03T21:13:18.553118Z",
     "iopub.status.busy": "2024-04-03T21:13:18.553118Z",
     "iopub.status.idle": "2024-04-03T21:13:19.433898Z",
     "shell.execute_reply": "2024-04-03T21:13:19.432829Z"
    }
   },
   "outputs": [
    {
     "name": "stdout",
     "output_type": "stream",
     "text": [
      "College Students: 162605\n"
     ]
    },
    {
     "data": {
      "text/plain": [
       "<AxesSubplot:xlabel='psaudist_bin'>"
      ]
     },
     "execution_count": 22,
     "metadata": {},
     "output_type": "execute_result"
    },
    {
     "data": {
      "image/png": "[encoded data removed]",
      "text/plain": [
       "<Figure size 432x288 with 1 Axes>"
      ]
     },
     "metadata": {
      "needs_background": "light"
     },
     "output_type": "display_data"
    }
   ],
   "source": [
    "# By studnet type (persontype == 5, 6, 7 )\n",
    "max_bin = 30\n",
    "ptype = 5\n",
    "person['psaudist_bin'] = pd.cut(person['psaudist'], bins=range(0,max_bin,5), labels=[str(i*5)+'-'+str((i+1)*5) for i in range(0,int(max_bin/6))])\n",
    "df1 = person[(person['source'] == 'model') & (person['psaudist'] <= max_bin) & (person['psaudist'] > 0) & (person['pptyp'] == ptype)]\n",
    "df2 = person[(person['source'] == 'survey') & (person['psaudist'] <= max_bin) & (person['psaudist'] > 0) & (person['pptyp'] == ptype)]\n",
    "df1 = df1.groupby('psaudist_bin').sum()[['psexpfac']]/df1['psexpfac'].sum()\n",
    "df2 = df2.groupby('psaudist_bin').sum()[['psexpfac']]/df2['psexpfac'].sum()\n",
    "df = df1.merge(df2, left_index=True, right_index=True, suffixes=['_model','_survey'])\n",
    "print('College Students: ' + str(len(person[person['pptyp'] == ptype])))\n",
    "df.plot(kind='bar')"
   ]
  },
  {
   "cell_type": "markdown",
   "metadata": {},
   "source": [
    "### High School Student 16+ School Distance"
   ]
  },
  {
   "cell_type": "code",
   "execution_count": 23,
   "metadata": {
    "execution": {
     "iopub.execute_input": "2024-04-03T21:13:19.439883Z",
     "iopub.status.busy": "2024-04-03T21:13:19.439883Z",
     "iopub.status.idle": "2024-04-03T21:13:20.372686Z",
     "shell.execute_reply": "2024-04-03T21:13:20.371679Z"
    }
   },
   "outputs": [
    {
     "name": "stdout",
     "output_type": "stream",
     "text": [
      "High School Students 16+: 127708\n"
     ]
    },
    {
     "data": {
      "text/plain": [
       "<AxesSubplot:xlabel='psaudist_bin'>"
      ]
     },
     "execution_count": 23,
     "metadata": {},
     "output_type": "execute_result"
    },
    {
     "data": {
      "image/png": "[encoded data removed]",
      "text/plain": [
       "<Figure size 432x288 with 1 Axes>"
      ]
     },
     "metadata": {
      "needs_background": "light"
     },
     "output_type": "display_data"
    }
   ],
   "source": [
    "# By studnet type (persontype == 5, 6, 7 )\n",
    "max_bin = 30\n",
    "ptype = 6\n",
    "person['psaudist_bin'] = pd.cut(person['psaudist'], bins=range(0,max_bin,5), labels=[str(i*5)+'-'+str((i+1)*5) for i in range(0,int(max_bin/6))])\n",
    "df1 = person[(person['source'] == 'model') & (person['psaudist'] <= max_bin) & (person['psaudist'] > 0) & (person['pptyp'] == ptype)]\n",
    "df2 = person[(person['source'] == 'survey') & (person['psaudist'] <= max_bin) & (person['psaudist'] > 0) & (person['pptyp'] == ptype)]\n",
    "df1 = df1.groupby('psaudist_bin').sum()[['psexpfac']]/df1['psexpfac'].sum()\n",
    "df2 = df2.groupby('psaudist_bin').sum()[['psexpfac']]/df2['psexpfac'].sum()\n",
    "df = df1.merge(df2, left_index=True, right_index=True, suffixes=['_model','_survey'])\n",
    "print('High School Students 16+: ' + str(len(person[person['pptyp'] == ptype])))\n",
    "df.plot(kind='bar')"
   ]
  },
  {
   "cell_type": "markdown",
   "metadata": {},
   "source": [
    "### Age 5-15 Student School Distance"
   ]
  },
  {
   "cell_type": "code",
   "execution_count": 24,
   "metadata": {
    "execution": {
     "iopub.execute_input": "2024-04-03T21:13:20.378665Z",
     "iopub.status.busy": "2024-04-03T21:13:20.378665Z",
     "iopub.status.idle": "2024-04-03T21:13:21.481156Z",
     "shell.execute_reply": "2024-04-03T21:13:21.481156Z"
    }
   },
   "outputs": [
    {
     "name": "stdout",
     "output_type": "stream",
     "text": [
      "Students Age 5-15: 557783\n"
     ]
    },
    {
     "data": {
      "text/plain": [
       "<AxesSubplot:xlabel='psaudist_bin'>"
      ]
     },
     "execution_count": 24,
     "metadata": {},
     "output_type": "execute_result"
    },
    {
     "data": {
      "image/png": "[encoded data removed]",
      "text/plain": [
       "<Figure size 432x288 with 1 Axes>"
      ]
     },
     "metadata": {
      "needs_background": "light"
     },
     "output_type": "display_data"
    }
   ],
   "source": [
    "# By studnet type (persontype == 5, 6, 7 )\n",
    "max_bin = 30\n",
    "ptype = 7\n",
    "person['psaudist_bin'] = pd.cut(person['psaudist'], bins=range(0,max_bin,5), labels=[str(i*5)+'-'+str((i+1)*5) for i in range(0,int(max_bin/6))])\n",
    "df1 = person[(person['source'] == 'model') & (person['psaudist'] <= max_bin) & (person['psaudist'] > 0) & (person['pptyp'] == ptype)]\n",
    "df2 = person[(person['source'] == 'survey') & (person['psaudist'] <= max_bin) & (person['psaudist'] > 0) & (person['pptyp'] == ptype)]\n",
    "df1 = df1.groupby('psaudist_bin').sum()[['psexpfac']]/df1['psexpfac'].sum()\n",
    "df2 = df2.groupby('psaudist_bin').sum()[['psexpfac']]/df2['psexpfac'].sum()\n",
    "df = df1.merge(df2, left_index=True, right_index=True, suffixes=['_model','_survey'])\n",
    "print('Students Age 5-15: ' + str(len(person[person['pptyp'] == ptype])))\n",
    "df.plot(kind='bar')"
   ]
  }
 ],
 "metadata": {
  "kernelspec": {
   "display_name": "Python 3",
   "language": "python",
   "name": "python3"
  },
  "language_info": {
   "codemirror_mode": {
    "name": "ipython",
    "version": 3
   },
   "file_extension": ".py",
   "mimetype": "text/x-python",
   "name": "python",
   "nbconvert_exporter": "python",
   "pygments_lexer": "ipython3",
   "version": "3.7.10"
  }
 },
 "nbformat": 4,
 "nbformat_minor": 4
}
