{
 "cells": [
  {
   "cell_type": "code",
   "execution_count": 1,
   "metadata": {
    "execution": {
     "iopub.execute_input": "2024-04-03T21:13:32.561495Z",
     "iopub.status.busy": "2024-04-03T21:13:32.561495Z",
     "iopub.status.idle": "2024-04-03T21:13:33.357960Z",
     "shell.execute_reply": "2024-04-03T21:13:33.356964Z"
    }
   },
   "outputs": [],
   "source": [
    "import warnings\n",
    "warnings.simplefilter(action='ignore', category=FutureWarning)\n",
    "import pandas as pd\n",
    "import os, sys\n",
    "import toml\n",
    "config = toml.load('../../../../configuration/input_configuration.toml')\n",
    "%matplotlib inline\n",
    "\n",
    "from IPython.display import display, HTML\n",
    "\n",
    "if (sys.version_info < (3, 0)):\n",
    "    HTML('''<script>\n",
    "    code_show=true; \n",
    "    function code_toggle() {\n",
    "     if (code_show){\n",
    "     $('div.input').hide();\n",
    "     } else {\n",
    "     $('div.input').show();\n",
    "     }\n",
    "     code_show = !code_show\n",
    "    } \n",
    "    $( document ).ready(code_toggle);\n",
    "    </script>\n",
    "    <form action=\"javascript:code_toggle()\"><input type=\"submit\" value=\"Click here to toggle on/off the raw code.\"></form>''')\n",
    "\n",
    "\n",
    "\n",
    "# % Tours by Destination District\n",
    "# % Trips by Desitnation District\n",
    "# % People by District"
   ]
  },
  {
   "cell_type": "code",
   "execution_count": 2,
   "metadata": {
    "execution": {
     "iopub.execute_input": "2024-04-03T21:13:33.363945Z",
     "iopub.status.busy": "2024-04-03T21:13:33.363945Z",
     "iopub.status.idle": "2024-04-03T21:13:33.373529Z",
     "shell.execute_reply": "2024-04-03T21:13:33.372526Z"
    }
   },
   "outputs": [],
   "source": [
    "working_dir = r'../../../../outputs/agg/dash'\n",
    "pd.options.display.float_format = '{:0,.2f}'.format\n",
    "format_percent = \"{:,.2%}\".format"
   ]
  },
  {
   "cell_type": "code",
   "execution_count": 3,
   "metadata": {
    "execution": {
     "iopub.execute_input": "2024-04-03T21:13:33.379512Z",
     "iopub.status.busy": "2024-04-03T21:13:33.379512Z",
     "iopub.status.idle": "2024-04-03T21:13:33.389487Z",
     "shell.execute_reply": "2024-04-03T21:13:33.388489Z"
    }
   },
   "outputs": [],
   "source": [
    "def load_data(fname):\n",
    "    \"\"\" open and join model and survey data \"\"\"\n",
    "\n",
    "    df_model = pd.read_csv(os.path.join(working_dir,fname+'.csv'))\n",
    "    df_model['source'] = 'model'\n",
    "    df_survey = pd.read_csv(os.path.join(working_dir,'survey',fname+'.csv'))\n",
    "    df_survey['source'] = 'survey'\n",
    "    df = df_model.append(df_survey)\n",
    "\n",
    "    return df"
   ]
  },
  {
   "cell_type": "code",
   "execution_count": 4,
   "metadata": {
    "execution": {
     "iopub.execute_input": "2024-04-03T21:13:33.394473Z",
     "iopub.status.busy": "2024-04-03T21:13:33.394473Z",
     "iopub.status.idle": "2024-04-03T21:13:33.437359Z",
     "shell.execute_reply": "2024-04-03T21:13:33.436361Z"
    }
   },
   "outputs": [],
   "source": [
    "df = load_data('trip_total')"
   ]
  },
  {
   "cell_type": "code",
   "execution_count": 5,
   "metadata": {
    "execution": {
     "iopub.execute_input": "2024-04-03T21:13:33.443342Z",
     "iopub.status.busy": "2024-04-03T21:13:33.442345Z",
     "iopub.status.idle": "2024-04-03T21:13:35.976473Z",
     "shell.execute_reply": "2024-04-03T21:13:35.975404Z"
    }
   },
   "outputs": [],
   "source": [
    "parcel_geog = pd.read_sql_table('parcel_'+config['base_year']+'_geography', 'sqlite:///../../../../inputs/db/'+config['db_name'],\n",
    "        columns=['District','ParcelID'])"
   ]
  },
  {
   "cell_type": "code",
   "execution_count": 6,
   "metadata": {
    "execution": {
     "iopub.execute_input": "2024-04-03T21:13:35.982391Z",
     "iopub.status.busy": "2024-04-03T21:13:35.982391Z",
     "iopub.status.idle": "2024-04-03T21:13:35.992363Z",
     "shell.execute_reply": "2024-04-03T21:13:35.991367Z"
    }
   },
   "outputs": [],
   "source": [
    "district_lookup = {1: 'Suburban Snohomish',\n",
    "                  2: 'Everett-Lynwood-Edmonds',\n",
    "                  3: 'North Seattle-Shoreline',\n",
    "                  4: 'Seattle CBD',\n",
    "                  5: 'West-South Seattle',\n",
    "                  6: 'East Side',\n",
    "                   7: 'Renton-FedWay-Kent',\n",
    "                   8: 'Tacoma',\n",
    "                   9: 'Kitsap',\n",
    "                   10: 'South Pierce',\n",
    "                   11: 'S.Kitsap'\n",
    "                  }"
   ]
  },
  {
   "cell_type": "markdown",
   "metadata": {},
   "source": [
    "# Average Distance by Tour Purpose"
   ]
  },
  {
   "cell_type": "code",
   "execution_count": 7,
   "metadata": {
    "execution": {
     "iopub.execute_input": "2024-04-03T21:13:35.998348Z",
     "iopub.status.busy": "2024-04-03T21:13:35.998348Z",
     "iopub.status.idle": "2024-04-03T21:13:36.244880Z",
     "shell.execute_reply": "2024-04-03T21:13:36.243824Z"
    }
   },
   "outputs": [
    {
     "data": {
      "text/html": [
       "<div>\n",
       "<style scoped>\n",
       "    .dataframe tbody tr th:only-of-type {\n",
       "        vertical-align: middle;\n",
       "    }\n",
       "\n",
       "    .dataframe tbody tr th {\n",
       "        vertical-align: top;\n",
       "    }\n",
       "\n",
       "    .dataframe thead th {\n",
       "        text-align: right;\n",
       "    }\n",
       "</style>\n",
       "<table border=\"1\" class=\"dataframe\">\n",
       "  <thead>\n",
       "    <tr style=\"text-align: right;\">\n",
       "      <th>source</th>\n",
       "      <th>model</th>\n",
       "      <th>survey</th>\n",
       "    </tr>\n",
       "    <tr>\n",
       "      <th>pdpurp</th>\n",
       "      <th></th>\n",
       "      <th></th>\n",
       "    </tr>\n",
       "  </thead>\n",
       "  <tbody>\n",
       "    <tr>\n",
       "      <th>Escort</th>\n",
       "      <td>4.30</td>\n",
       "      <td>4.39</td>\n",
       "    </tr>\n",
       "    <tr>\n",
       "      <th>Meal</th>\n",
       "      <td>2.84</td>\n",
       "      <td>3.81</td>\n",
       "    </tr>\n",
       "    <tr>\n",
       "      <th>Personal Business</th>\n",
       "      <td>6.08</td>\n",
       "      <td>6.64</td>\n",
       "    </tr>\n",
       "    <tr>\n",
       "      <th>School</th>\n",
       "      <td>3.94</td>\n",
       "      <td>3.95</td>\n",
       "    </tr>\n",
       "    <tr>\n",
       "      <th>Shop</th>\n",
       "      <td>4.80</td>\n",
       "      <td>4.28</td>\n",
       "    </tr>\n",
       "    <tr>\n",
       "      <th>Social</th>\n",
       "      <td>6.09</td>\n",
       "      <td>5.61</td>\n",
       "    </tr>\n",
       "    <tr>\n",
       "      <th>Work</th>\n",
       "      <td>11.45</td>\n",
       "      <td>11.44</td>\n",
       "    </tr>\n",
       "  </tbody>\n",
       "</table>\n",
       "</div>"
      ],
      "text/plain": [
       "source             model  survey\n",
       "pdpurp                          \n",
       "Escort              4.30    4.39\n",
       "Meal                2.84    3.81\n",
       "Personal Business   6.08    6.64\n",
       "School              3.94    3.95\n",
       "Shop                4.80    4.28\n",
       "Social              6.09    5.61\n",
       "Work               11.45   11.44"
      ]
     },
     "execution_count": 7,
     "metadata": {},
     "output_type": "execute_result"
    },
    {
     "data": {
      "image/png": "[encoded data removed]",
      "text/plain": [
       "<Figure size 432x288 with 1 Axes>"
      ]
     },
     "metadata": {
      "needs_background": "light"
     },
     "output_type": "display_data"
    }
   ],
   "source": [
    "df = load_data('tour_distance')\n",
    "# Trim any unreasonable survey distances off by taking max distance as max modeled bin value\n",
    "max_model_dist = df.loc[(df['source']=='model'), 'tautodist_bin'].max()\n",
    "df = df.loc[df['tautodist_bin'] <= max_model_dist]\n",
    "df['wt_autodist'] = (df['tautodist_bin']+0.5)*(df['toexpfac'])\n",
    "df_dist = pd.DataFrame()\n",
    "for source in ['model','survey']:\n",
    "    _df = df[(df['source'] == source)]\n",
    "    df1 = _df.groupby('pdpurp').sum()[['wt_autodist']].reset_index()\n",
    "    df2 = _df.groupby('pdpurp').sum()[['toexpfac']].reset_index ()\n",
    "    _df = df1.merge(df2, on='pdpurp')\n",
    "    _df['commute_distance'] = _df['wt_autodist']/_df['toexpfac']\n",
    "    _df['source'] = source\n",
    "    df_dist = df_dist.append(_df)\n",
    "df = df_dist.pivot_table(index='pdpurp', columns='source', aggfunc='first', values='commute_distance')\n",
    "df.rename(columns={'pdpurp': 'Tour Purpose'}, inplace=True)\n",
    "# df.drop('Change Mode Inserted Purpose', axis=0, inplace=True)\n",
    "df.plot(kind='barh', alpha=0.6)\n",
    "df"
   ]
  },
  {
   "cell_type": "markdown",
   "metadata": {},
   "source": [
    "# Average Distance by Tour Mode"
   ]
  },
  {
   "cell_type": "code",
   "execution_count": 8,
   "metadata": {
    "execution": {
     "iopub.execute_input": "2024-04-03T21:13:36.250879Z",
     "iopub.status.busy": "2024-04-03T21:13:36.250879Z",
     "iopub.status.idle": "2024-04-03T21:13:36.432707Z",
     "shell.execute_reply": "2024-04-03T21:13:36.431711Z"
    }
   },
   "outputs": [
    {
     "data": {
      "text/html": [
       "<div>\n",
       "<style scoped>\n",
       "    .dataframe tbody tr th:only-of-type {\n",
       "        vertical-align: middle;\n",
       "    }\n",
       "\n",
       "    .dataframe tbody tr th {\n",
       "        vertical-align: top;\n",
       "    }\n",
       "\n",
       "    .dataframe thead th {\n",
       "        text-align: right;\n",
       "    }\n",
       "</style>\n",
       "<table border=\"1\" class=\"dataframe\">\n",
       "  <thead>\n",
       "    <tr style=\"text-align: right;\">\n",
       "      <th>source</th>\n",
       "      <th>model</th>\n",
       "      <th>survey</th>\n",
       "    </tr>\n",
       "    <tr>\n",
       "      <th>tmodetp</th>\n",
       "      <th></th>\n",
       "      <th></th>\n",
       "    </tr>\n",
       "  </thead>\n",
       "  <tbody>\n",
       "    <tr>\n",
       "      <th>Bike</th>\n",
       "      <td>3.98</td>\n",
       "      <td>4.24</td>\n",
       "    </tr>\n",
       "    <tr>\n",
       "      <th>HOV2</th>\n",
       "      <td>6.46</td>\n",
       "      <td>5.97</td>\n",
       "    </tr>\n",
       "    <tr>\n",
       "      <th>HOV3+</th>\n",
       "      <td>6.23</td>\n",
       "      <td>6.86</td>\n",
       "    </tr>\n",
       "    <tr>\n",
       "      <th>SOV</th>\n",
       "      <td>8.13</td>\n",
       "      <td>8.34</td>\n",
       "    </tr>\n",
       "    <tr>\n",
       "      <th>School Bus</th>\n",
       "      <td>3.56</td>\n",
       "      <td>2.93</td>\n",
       "    </tr>\n",
       "    <tr>\n",
       "      <th>TNC</th>\n",
       "      <td>6.05</td>\n",
       "      <td>6.93</td>\n",
       "    </tr>\n",
       "    <tr>\n",
       "      <th>Transit</th>\n",
       "      <td>7.46</td>\n",
       "      <td>9.16</td>\n",
       "    </tr>\n",
       "    <tr>\n",
       "      <th>Walk</th>\n",
       "      <td>0.98</td>\n",
       "      <td>0.88</td>\n",
       "    </tr>\n",
       "  </tbody>\n",
       "</table>\n",
       "</div>"
      ],
      "text/plain": [
       "source      model  survey\n",
       "tmodetp                  \n",
       "Bike         3.98    4.24\n",
       "HOV2         6.46    5.97\n",
       "HOV3+        6.23    6.86\n",
       "SOV          8.13    8.34\n",
       "School Bus   3.56    2.93\n",
       "TNC          6.05    6.93\n",
       "Transit      7.46    9.16\n",
       "Walk         0.98    0.88"
      ]
     },
     "execution_count": 8,
     "metadata": {},
     "output_type": "execute_result"
    },
    {
     "data": {
      "image/png": "[encoded data removed]",
      "text/plain": [
       "<Figure size 432x288 with 1 Axes>"
      ]
     },
     "metadata": {
      "needs_background": "light"
     },
     "output_type": "display_data"
    }
   ],
   "source": [
    "df = load_data('tour_distance')\n",
    "# Trim any unreasonable survey distances off by taking max distance as max modeled bin value\n",
    "max_model_dist = df.loc[(df['source']=='model'), 'tautodist_bin'].max()\n",
    "df = df.loc[df['tautodist_bin'] <= max_model_dist]\n",
    "df['wt_autodist'] = (df['tautodist_bin']+0.5)*(df['toexpfac'])\n",
    "df_dist = pd.DataFrame()\n",
    "for source in ['model','survey']:\n",
    "    _df = df[(df['source'] == source)]\n",
    "    df1 = _df.groupby('tmodetp').sum()[['wt_autodist']].reset_index()\n",
    "    df2 = _df.groupby('tmodetp').sum()[['toexpfac']].reset_index ()\n",
    "    _df = df1.merge(df2, on='tmodetp')\n",
    "    _df['commute_distance'] = _df['wt_autodist']/_df['toexpfac']\n",
    "    _df['source'] = source\n",
    "    df_dist = df_dist.append(_df)\n",
    "df = df_dist.pivot_table(index='tmodetp', columns='source', aggfunc='first', values='commute_distance')\n",
    "df.rename(columns={'tmodetp': 'Tour Mode'}, inplace=True)\n",
    "\n",
    "df.drop('Park', inplace=True)\n",
    "df.plot(kind='barh', alpha=0.6)\n",
    "df"
   ]
  },
  {
   "cell_type": "markdown",
   "metadata": {},
   "source": [
    "# Trips per Tour by Tour Purpose\n",
    "Average number of trip legs in a tour"
   ]
  },
  {
   "cell_type": "code",
   "execution_count": 9,
   "metadata": {
    "execution": {
     "iopub.execute_input": "2024-04-03T21:13:36.438692Z",
     "iopub.status.busy": "2024-04-03T21:13:36.438692Z",
     "iopub.status.idle": "2024-04-03T21:13:36.685033Z",
     "shell.execute_reply": "2024-04-03T21:13:36.685033Z"
    }
   },
   "outputs": [
    {
     "data": {
      "text/html": [
       "<div>\n",
       "<style scoped>\n",
       "    .dataframe tbody tr th:only-of-type {\n",
       "        vertical-align: middle;\n",
       "    }\n",
       "\n",
       "    .dataframe tbody tr th {\n",
       "        vertical-align: top;\n",
       "    }\n",
       "\n",
       "    .dataframe thead th {\n",
       "        text-align: right;\n",
       "    }\n",
       "</style>\n",
       "<table border=\"1\" class=\"dataframe\">\n",
       "  <thead>\n",
       "    <tr style=\"text-align: right;\">\n",
       "      <th>source</th>\n",
       "      <th>model</th>\n",
       "      <th>survey</th>\n",
       "    </tr>\n",
       "    <tr>\n",
       "      <th>pdpurp</th>\n",
       "      <th></th>\n",
       "      <th></th>\n",
       "    </tr>\n",
       "  </thead>\n",
       "  <tbody>\n",
       "    <tr>\n",
       "      <th>Escort</th>\n",
       "      <td>2.89</td>\n",
       "      <td>2.59</td>\n",
       "    </tr>\n",
       "    <tr>\n",
       "      <th>Meal</th>\n",
       "      <td>2.35</td>\n",
       "      <td>2.56</td>\n",
       "    </tr>\n",
       "    <tr>\n",
       "      <th>Personal Business</th>\n",
       "      <td>2.51</td>\n",
       "      <td>2.76</td>\n",
       "    </tr>\n",
       "    <tr>\n",
       "      <th>School</th>\n",
       "      <td>2.95</td>\n",
       "      <td>2.44</td>\n",
       "    </tr>\n",
       "    <tr>\n",
       "      <th>Shop</th>\n",
       "      <td>2.62</td>\n",
       "      <td>2.92</td>\n",
       "    </tr>\n",
       "    <tr>\n",
       "      <th>Social</th>\n",
       "      <td>2.39</td>\n",
       "      <td>2.76</td>\n",
       "    </tr>\n",
       "    <tr>\n",
       "      <th>Work</th>\n",
       "      <td>3.45</td>\n",
       "      <td>3.08</td>\n",
       "    </tr>\n",
       "  </tbody>\n",
       "</table>\n",
       "</div>"
      ],
      "text/plain": [
       "source             model  survey\n",
       "pdpurp                          \n",
       "Escort              2.89    2.59\n",
       "Meal                2.35    2.56\n",
       "Personal Business   2.51    2.76\n",
       "School              2.95    2.44\n",
       "Shop                2.62    2.92\n",
       "Social              2.39    2.76\n",
       "Work                3.45    3.08"
      ]
     },
     "execution_count": 9,
     "metadata": {},
     "output_type": "execute_result"
    },
    {
     "data": {
      "image/png": "[encoded data removed]",
      "text/plain": [
       "<Figure size 432x288 with 1 Axes>"
      ]
     },
     "metadata": {
      "needs_background": "light"
     },
     "output_type": "display_data"
    }
   ],
   "source": [
    "df = load_data('trips_by_tour')\n",
    "df['wt_tot_trips'] = (df['tripsh1']+df['tripsh2'])*df['toexpfac']\n",
    "\n",
    "df1 = df.pivot_table(columns='source', index='pdpurp', values='toexpfac', aggfunc='sum')\n",
    "df2 = df.pivot_table(columns='source', index='pdpurp', values='wt_tot_trips', aggfunc='sum')\n",
    "\n",
    "df = df2/df1\n",
    "# df.drop('Change Mode Inserted Purpose', axis=0, inplace=True)\n",
    "df.plot(kind='barh', alpha=0.6)\n",
    "df"
   ]
  },
  {
   "cell_type": "markdown",
   "metadata": {},
   "source": [
    "# Trips per Tour by Tour Mode\n",
    "Average number of trip legs in a tour"
   ]
  },
  {
   "cell_type": "code",
   "execution_count": 10,
   "metadata": {
    "execution": {
     "iopub.execute_input": "2024-04-03T21:13:36.687027Z",
     "iopub.status.busy": "2024-04-03T21:13:36.687027Z",
     "iopub.status.idle": "2024-04-03T21:13:36.877529Z",
     "shell.execute_reply": "2024-04-03T21:13:36.876527Z"
    }
   },
   "outputs": [
    {
     "data": {
      "text/html": [
       "<div>\n",
       "<style scoped>\n",
       "    .dataframe tbody tr th:only-of-type {\n",
       "        vertical-align: middle;\n",
       "    }\n",
       "\n",
       "    .dataframe tbody tr th {\n",
       "        vertical-align: top;\n",
       "    }\n",
       "\n",
       "    .dataframe thead th {\n",
       "        text-align: right;\n",
       "    }\n",
       "</style>\n",
       "<table border=\"1\" class=\"dataframe\">\n",
       "  <thead>\n",
       "    <tr style=\"text-align: right;\">\n",
       "      <th>source</th>\n",
       "      <th>model</th>\n",
       "      <th>survey</th>\n",
       "    </tr>\n",
       "    <tr>\n",
       "      <th>tmodetp</th>\n",
       "      <th></th>\n",
       "      <th></th>\n",
       "    </tr>\n",
       "  </thead>\n",
       "  <tbody>\n",
       "    <tr>\n",
       "      <th>Bike</th>\n",
       "      <td>2.56</td>\n",
       "      <td>2.36</td>\n",
       "    </tr>\n",
       "    <tr>\n",
       "      <th>HOV2</th>\n",
       "      <td>2.98</td>\n",
       "      <td>2.91</td>\n",
       "    </tr>\n",
       "    <tr>\n",
       "      <th>HOV3+</th>\n",
       "      <td>2.90</td>\n",
       "      <td>3.04</td>\n",
       "    </tr>\n",
       "    <tr>\n",
       "      <th>SOV</th>\n",
       "      <td>2.75</td>\n",
       "      <td>2.83</td>\n",
       "    </tr>\n",
       "    <tr>\n",
       "      <th>School Bus</th>\n",
       "      <td>2.61</td>\n",
       "      <td>2.26</td>\n",
       "    </tr>\n",
       "    <tr>\n",
       "      <th>TNC</th>\n",
       "      <td>2.92</td>\n",
       "      <td>2.33</td>\n",
       "    </tr>\n",
       "    <tr>\n",
       "      <th>Transit</th>\n",
       "      <td>2.80</td>\n",
       "      <td>2.41</td>\n",
       "    </tr>\n",
       "    <tr>\n",
       "      <th>Walk</th>\n",
       "      <td>2.40</td>\n",
       "      <td>2.17</td>\n",
       "    </tr>\n",
       "  </tbody>\n",
       "</table>\n",
       "</div>"
      ],
      "text/plain": [
       "source      model  survey\n",
       "tmodetp                  \n",
       "Bike         2.56    2.36\n",
       "HOV2         2.98    2.91\n",
       "HOV3+        2.90    3.04\n",
       "SOV          2.75    2.83\n",
       "School Bus   2.61    2.26\n",
       "TNC          2.92    2.33\n",
       "Transit      2.80    2.41\n",
       "Walk         2.40    2.17"
      ]
     },
     "execution_count": 10,
     "metadata": {},
     "output_type": "execute_result"
    },
    {
     "data": {
      "image/png": "[encoded data removed]",
      "text/plain": [
       "<Figure size 432x288 with 1 Axes>"
      ]
     },
     "metadata": {
      "needs_background": "light"
     },
     "output_type": "display_data"
    }
   ],
   "source": [
    "df = load_data('trips_by_tour')\n",
    "df['wt_tot_trips'] = (df['tripsh1']+df['tripsh2'])*df['toexpfac']\n",
    "\n",
    "df1 = df.pivot_table(columns='source', index='tmodetp', values='toexpfac', aggfunc='sum')\n",
    "df2 = df.pivot_table(columns='source', index='tmodetp', values='wt_tot_trips', aggfunc='sum')\n",
    "\n",
    "df = df2/df1\n",
    "df.drop('Park', axis=0, inplace=True)\n",
    "df.plot(kind='barh', alpha=0.6)\n",
    "df"
   ]
  },
  {
   "cell_type": "markdown",
   "metadata": {},
   "source": [
    "# Tour Destinations by District\n",
    "Total tours with primary destinations in each district"
   ]
  },
  {
   "cell_type": "code",
   "execution_count": 11,
   "metadata": {
    "execution": {
     "iopub.execute_input": "2024-04-03T21:13:36.883581Z",
     "iopub.status.busy": "2024-04-03T21:13:36.883581Z",
     "iopub.status.idle": "2024-04-03T21:13:37.179836Z",
     "shell.execute_reply": "2024-04-03T21:13:37.178832Z"
    }
   },
   "outputs": [
    {
     "data": {
      "text/html": [
       "<div>\n",
       "<style scoped>\n",
       "    .dataframe tbody tr th:only-of-type {\n",
       "        vertical-align: middle;\n",
       "    }\n",
       "\n",
       "    .dataframe tbody tr th {\n",
       "        vertical-align: top;\n",
       "    }\n",
       "\n",
       "    .dataframe thead th {\n",
       "        text-align: right;\n",
       "    }\n",
       "</style>\n",
       "<table border=\"1\" class=\"dataframe\">\n",
       "  <thead>\n",
       "    <tr style=\"text-align: right;\">\n",
       "      <th></th>\n",
       "      <th>model</th>\n",
       "      <th>survey</th>\n",
       "    </tr>\n",
       "  </thead>\n",
       "  <tbody>\n",
       "    <tr>\n",
       "      <th>Suburban Snohomish</th>\n",
       "      <td>10.91%</td>\n",
       "      <td>13.45%</td>\n",
       "    </tr>\n",
       "    <tr>\n",
       "      <th>Everett-Lynwood-Edmonds</th>\n",
       "      <td>8.18%</td>\n",
       "      <td>3.74%</td>\n",
       "    </tr>\n",
       "    <tr>\n",
       "      <th>North Seattle-Shoreline</th>\n",
       "      <td>7.02%</td>\n",
       "      <td>9.56%</td>\n",
       "    </tr>\n",
       "    <tr>\n",
       "      <th>Seattle CBD</th>\n",
       "      <td>11.02%</td>\n",
       "      <td>4.29%</td>\n",
       "    </tr>\n",
       "    <tr>\n",
       "      <th>West-South Seattle</th>\n",
       "      <td>5.77%</td>\n",
       "      <td>6.55%</td>\n",
       "    </tr>\n",
       "    <tr>\n",
       "      <th>East Side</th>\n",
       "      <td>15.71%</td>\n",
       "      <td>17.74%</td>\n",
       "    </tr>\n",
       "    <tr>\n",
       "      <th>Renton-FedWay-Kent</th>\n",
       "      <td>15.00%</td>\n",
       "      <td>17.76%</td>\n",
       "    </tr>\n",
       "    <tr>\n",
       "      <th>Tacoma</th>\n",
       "      <td>7.15%</td>\n",
       "      <td>3.12%</td>\n",
       "    </tr>\n",
       "    <tr>\n",
       "      <th>Kitsap</th>\n",
       "      <td>5.83%</td>\n",
       "      <td>8.23%</td>\n",
       "    </tr>\n",
       "    <tr>\n",
       "      <th>South Pierce</th>\n",
       "      <td>12.00%</td>\n",
       "      <td>12.27%</td>\n",
       "    </tr>\n",
       "    <tr>\n",
       "      <th>S.Kitsap</th>\n",
       "      <td>1.42%</td>\n",
       "      <td>3.28%</td>\n",
       "    </tr>\n",
       "  </tbody>\n",
       "</table>\n",
       "</div>"
      ],
      "text/plain": [
       "                         model  survey\n",
       "Suburban Snohomish      10.91%  13.45%\n",
       "Everett-Lynwood-Edmonds  8.18%   3.74%\n",
       "North Seattle-Shoreline  7.02%   9.56%\n",
       "Seattle CBD             11.02%   4.29%\n",
       "West-South Seattle       5.77%   6.55%\n",
       "East Side               15.71%  17.74%\n",
       "Renton-FedWay-Kent      15.00%  17.76%\n",
       "Tacoma                   7.15%   3.12%\n",
       "Kitsap                   5.83%   8.23%\n",
       "South Pierce            12.00%  12.27%\n",
       "S.Kitsap                 1.42%   3.28%"
      ]
     },
     "execution_count": 11,
     "metadata": {},
     "output_type": "execute_result"
    },
    {
     "data": {
      "image/png": "[encoded data removed]",
      "text/plain": [
       "<Figure size 432x288 with 1 Axes>"
      ]
     },
     "metadata": {
      "needs_background": "light"
     },
     "output_type": "display_data"
    }
   ],
   "source": [
    "pd.options.display.float_format = '{:0,.2%}'.format\n",
    "\n",
    "_df = pd.DataFrame()\n",
    "for id, name in district_lookup.items():\n",
    "    df = load_data('tour_total_tour_d_district_'+name)\n",
    "    for source in ['model','survey']:\n",
    "        _df.loc[name,source] = df[df['source'] == source]['toexpfac'].sum()\n",
    "        \n",
    "_df = _df/_df.sum()\n",
    "_df.plot(kind='barh', alpha=0.6)\n",
    "_df"
   ]
  },
  {
   "cell_type": "code",
   "execution_count": null,
   "metadata": {},
   "outputs": [],
   "source": []
  },
  {
   "cell_type": "code",
   "execution_count": null,
   "metadata": {},
   "outputs": [],
   "source": []
  }
 ],
 "metadata": {
  "kernelspec": {
   "display_name": "Python 3",
   "language": "python",
   "name": "python3"
  },
  "language_info": {
   "codemirror_mode": {
    "name": "ipython",
    "version": 3
   },
   "file_extension": ".py",
   "mimetype": "text/x-python",
   "name": "python",
   "nbconvert_exporter": "python",
   "pygments_lexer": "ipython3",
   "version": "3.7.10"
  }
 },
 "nbformat": 4,
 "nbformat_minor": 4
}
