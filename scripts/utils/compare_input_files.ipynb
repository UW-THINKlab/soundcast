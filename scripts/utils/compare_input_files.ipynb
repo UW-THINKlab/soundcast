{
 "cells": [
  {
   "cell_type": "code",
   "execution_count": 1,
   "metadata": {
    "collapsed": true
   },
   "outputs": [],
   "source": [
    "import pandas as pd\n",
    "import os\n",
    "import filecmp\n",
    "import sys\n",
    "from os.path import isfile, join"
   ]
  },
  {
   "cell_type": "code",
   "execution_count": 2,
   "metadata": {},
   "outputs": [],
   "source": [
    "run_1_main_directory = r'U:\\sc_2040_old_new_compare'\n",
    "run_2_main_directory = r'U:\\sc_2040_plan_update'\n",
    "sub_dir_to_check = ['', '\\\\daysim', '\\\\inputs', '\\\\scripts']"
   ]
  },
  {
   "cell_type": "code",
   "execution_count": 3,
   "metadata": {},
   "outputs": [],
   "source": [
    "def check_files_in_dir(run_1_directory, run_2_directory, sub_directory):\n",
    "\n",
    "    files_in_dir1 = [f for f in os.listdir(run_1_directory+sub_directory) if isfile(join(run_1_directory+sub_directory, f))]\n",
    "    print 'Looping over files in the ' + run_1_directory + sub_directory + ' directory..........'\n",
    "    for f in files_in_dir1:\n",
    "        try:\n",
    "            if not filecmp.cmp(run_1_directory+sub_directory+'\\\\'+f,run_2_directory+sub_directory+'\\\\'+f):\n",
    "                file_name, file_ext = os.path.splitext(f) \n",
    "                if file_ext <> '.pyc':\n",
    "                    # ignore pyc files because they can differ when they just got called at a different time\n",
    "                    print f + ' is not the same.'\n",
    "        except Exception as E:\n",
    "            print f + ' has error ' + str(E)\n",
    "        finally:\n",
    "            pass"
   ]
  },
  {
   "cell_type": "code",
   "execution_count": 4,
   "metadata": {},
   "outputs": [
    {
     "name": "stdout",
     "output_type": "stream",
     "text": [
      "Looping over files in the U:\\sc_2040_old_new_compare directory..........\n",
      "input_configuration.py is not the same.\n",
      "soundcast_log.txt is not the same.\n",
      "Looping over files in the U:\\sc_2040_old_new_compare\\daysim directory..........\n",
      "Looping over files in the U:\\sc_2040_old_new_compare\\inputs directory..........\n",
      "Looping over files in the U:\\sc_2040_old_new_compare\\scripts directory..........\n",
      "Done checking files.\n"
     ]
    }
   ],
   "source": [
    "for sub_dir in sub_dir_to_check:\n",
    "    check_files_in_dir(run_1_main_directory,run_2_main_directory, sub_dir)\n",
    "print 'Done checking files.'\n",
    "    "
   ]
  }
 ],
 "metadata": {
  "anaconda-cloud": {},
  "kernelspec": {
   "display_name": "Python 3",
   "language": "python",
   "name": "python3"
  },
  "language_info": {
   "codemirror_mode": {
    "name": "ipython",
    "version": 3
   },
   "file_extension": ".py",
   "mimetype": "text/x-python",
   "name": "python",
   "nbconvert_exporter": "python",
   "pygments_lexer": "ipython3",
   "version": "3.7.10"
  }
 },
 "nbformat": 4,
 "nbformat_minor": 1
}
