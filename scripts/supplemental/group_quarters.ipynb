{
 "cells": [
  {
   "cell_type": "markdown",
   "id": "08d6bbb6",
   "metadata": {},
   "source": [
    "# script to update group quarters data for soundcast input\n",
    "\n",
    "returns group quarters data aggregated to the TAZ level"
   ]
  },
  {
   "cell_type": "code",
   "execution_count": null,
   "id": "52ae657d",
   "metadata": {},
   "outputs": [],
   "source": [
    "import pandas as pd\n",
    "import os, sys, time\n",
    "import h5py\n",
    "from sqlalchemy import create_engine, text\n",
    "import toml\n",
    "from pathlib import Path\n",
    "import logging\n",
    "\n",
    "\n",
    "input_config = toml.load(Path(Path.cwd(), '..\\..\\configuration', 'input_configuration.toml'))\n",
    "emme_config = toml.load(Path(Path.cwd(), '..\\..\\configuration', 'emme_configuration.toml'))\n",
    "conn = create_engine('sqlite:///R:/e2projects_two/SoundCast/Inputs/dev/db/soundcast_inputs_2023.db')"
   ]
  },
  {
   "cell_type": "code",
   "execution_count": 13,
   "id": "81dce31d",
   "metadata": {},
   "outputs": [
    {
     "data": {
      "text/plain": [
       "Index(['Geoid20', 'TAZ', 'group_quarters', 'dorm_share', 'military_share',\n",
       "       'other_share', 'year'],\n",
       "      dtype='object')"
      ]
     },
     "execution_count": 13,
     "metadata": {},
     "output_type": "execute_result"
    }
   ],
   "source": [
    "new_group_quarters_data = \"R:/e2projects_two/2023_base_year/group_quarters/gqpop2023_bySoundCastType.csv\"\n",
    "total_gq = pd.read_csv(new_group_quarters_data)\n",
    "\n",
    "total_gq.columns"
   ]
  },
  {
   "cell_type": "code",
   "execution_count": 14,
   "id": "aa933ad6",
   "metadata": {},
   "outputs": [],
   "source": [
    "total_gq_df = total_gq.copy()\n",
    "\n",
    "total_gq_df[[\"dorm_share\", \"military_share\", \"other_share\"]] = total_gq_df[\n",
    "    [\"dorm_share\", \"military_share\", \"other_share\"]\n",
    "].astype(\"float\")\n",
    "\n",
    "# Calculate the Inputs for the Year of the model\n",
    "max_input_year = total_gq_df[\"year\"].max()\n",
    "\n",
    "if int(input_config['model_year']) <= max_input_year:\n",
    "    total_gq_df = total_gq_df[\n",
    "        total_gq_df[\"year\"] == int(input_config['model_year'])\n",
    "    ]\n",
    "\n",
    "else:\n",
    "    # Factor group quarters at an annual rate\n",
    "    total_gq_df = total_gq_df[total_gq_df[\"year\"] == int(max_input_year)]\n",
    "    total_gq_df[\"group_quarters\"] = total_gq_df[\"group_quarters\"] * (\n",
    "        1\n",
    "        + (\n",
    "            emme_config['group_quarters_rate']\n",
    "            * (int(input_config['model_year']) - max_input_year)\n",
    "        )\n",
    "    )\n",
    "\n",
    "total_gq_df = total_gq_df[\n",
    "    [\"TAZ\", \"dorm_share\", \"military_share\", \"other_share\", \"group_quarters\"]\n",
    "]\n",
    "\n",
    "total_gq_df[\"dorms\"] = total_gq_df[\"group_quarters\"] * total_gq_df[\"dorm_share\"]\n",
    "total_gq_df[\"military\"] = (\n",
    "    total_gq_df[\"group_quarters\"] * total_gq_df[\"military_share\"]\n",
    ")\n",
    "total_gq_df[\"other\"] = total_gq_df[\"group_quarters\"] * total_gq_df[\"other_share\"]\n",
    "\n",
    "# Merge with the Block/Taz dataframe and trim down the columns\n",
    "total_gq_df = total_gq_df[[\"TAZ\", \"dorms\", \"military\", \"other\"]].rename(\n",
    "    columns={\"TAZ\": \"taz\"} # rename taz to match the database column name\n",
    ")\n"
   ]
  }
 ],
 "metadata": {
  "kernelspec": {
   "display_name": "summary",
   "language": "python",
   "name": "python3"
  },
  "language_info": {
   "codemirror_mode": {
    "name": "ipython",
    "version": 3
   },
   "file_extension": ".py",
   "mimetype": "text/x-python",
   "name": "python",
   "nbconvert_exporter": "python",
   "pygments_lexer": "ipython3",
   "version": "3.7.10"
  }
 },
 "nbformat": 4,
 "nbformat_minor": 5
}
